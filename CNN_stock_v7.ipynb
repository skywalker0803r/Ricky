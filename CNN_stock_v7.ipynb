{
  "nbformat": 4,
  "nbformat_minor": 0,
  "metadata": {
    "colab": {
      "name": "CNN_stock.ipynb",
      "version": "0.3.2",
      "provenance": [],
      "collapsed_sections": [],
      "include_colab_link": true
    },
    "kernelspec": {
      "name": "python3",
      "display_name": "Python 3"
    },
    "accelerator": "GPU"
  },
  "cells": [
    {
      "cell_type": "markdown",
      "metadata": {
        "id": "view-in-github",
        "colab_type": "text"
      },
      "source": [
        "<a href=\"https://colab.research.google.com/github/skywalker0803r/Ricky/blob/master/CNN_stock_v7.ipynb\" target=\"_parent\"><img src=\"https://colab.research.google.com/assets/colab-badge.svg\" alt=\"Open In Colab\"/></a>"
      ]
    },
    {
      "cell_type": "code",
      "metadata": {
        "id": "g7NPpY26_qJm",
        "colab_type": "code",
        "colab": {}
      },
      "source": [
        "import pandas as pd\n",
        "import seaborn as sns\n",
        "import pandas_datareader.data as web\n",
        "#!pip install finta\n",
        "SID = '1101.tw'\n",
        "df = web.DataReader(SID,'yahoo',start=\"2000-01-01\")\n",
        "df = df.iloc[:,:5]"
      ],
      "execution_count": 0,
      "outputs": []
    },
    {
      "cell_type": "markdown",
      "metadata": {
        "id": "6vaRLIuvJlZ7",
        "colab_type": "text"
      },
      "source": [
        "# 載入資料"
      ]
    },
    {
      "cell_type": "code",
      "metadata": {
        "id": "kRKHlNGl_7JV",
        "colab_type": "code",
        "outputId": "c97ff28a-22f7-4e42-89aa-b582461f062d",
        "colab": {
          "base_uri": "https://localhost:8080/",
          "height": 182
        }
      },
      "source": [
        "print(df.shape)\n",
        "df.head(3)"
      ],
      "execution_count": 2,
      "outputs": [
        {
          "output_type": "stream",
          "text": [
            "(4924, 5)\n"
          ],
          "name": "stdout"
        },
        {
          "output_type": "execute_result",
          "data": {
            "text/html": [
              "<div>\n",
              "<style scoped>\n",
              "    .dataframe tbody tr th:only-of-type {\n",
              "        vertical-align: middle;\n",
              "    }\n",
              "\n",
              "    .dataframe tbody tr th {\n",
              "        vertical-align: top;\n",
              "    }\n",
              "\n",
              "    .dataframe thead th {\n",
              "        text-align: right;\n",
              "    }\n",
              "</style>\n",
              "<table border=\"1\" class=\"dataframe\">\n",
              "  <thead>\n",
              "    <tr style=\"text-align: right;\">\n",
              "      <th></th>\n",
              "      <th>High</th>\n",
              "      <th>Low</th>\n",
              "      <th>Open</th>\n",
              "      <th>Close</th>\n",
              "      <th>Volume</th>\n",
              "    </tr>\n",
              "    <tr>\n",
              "      <th>Date</th>\n",
              "      <th></th>\n",
              "      <th></th>\n",
              "      <th></th>\n",
              "      <th></th>\n",
              "      <th></th>\n",
              "    </tr>\n",
              "  </thead>\n",
              "  <tbody>\n",
              "    <tr>\n",
              "      <th>2000-01-04</th>\n",
              "      <td>18.226801</td>\n",
              "      <td>17.805401</td>\n",
              "      <td>17.805401</td>\n",
              "      <td>18.226801</td>\n",
              "      <td>9.716852e+10</td>\n",
              "    </tr>\n",
              "    <tr>\n",
              "      <th>2000-01-05</th>\n",
              "      <td>19.174999</td>\n",
              "      <td>17.858000</td>\n",
              "      <td>17.858000</td>\n",
              "      <td>18.700899</td>\n",
              "      <td>1.499255e+11</td>\n",
              "    </tr>\n",
              "    <tr>\n",
              "      <th>2000-01-06</th>\n",
              "      <td>18.753599</td>\n",
              "      <td>17.752701</td>\n",
              "      <td>18.542900</td>\n",
              "      <td>17.910700</td>\n",
              "      <td>7.448073e+10</td>\n",
              "    </tr>\n",
              "  </tbody>\n",
              "</table>\n",
              "</div>"
            ],
            "text/plain": [
              "                 High        Low       Open      Close        Volume\n",
              "Date                                                                \n",
              "2000-01-04  18.226801  17.805401  17.805401  18.226801  9.716852e+10\n",
              "2000-01-05  19.174999  17.858000  17.858000  18.700899  1.499255e+11\n",
              "2000-01-06  18.753599  17.752701  18.542900  17.910700  7.448073e+10"
            ]
          },
          "metadata": {
            "tags": []
          },
          "execution_count": 2
        }
      ]
    },
    {
      "cell_type": "code",
      "metadata": {
        "id": "9YvzTIEDddVx",
        "colab_type": "code",
        "outputId": "1ced197c-d0f5-4dd1-94e8-3d1c9ebc20e1",
        "colab": {
          "base_uri": "https://localhost:8080/",
          "height": 166
        }
      },
      "source": [
        "df.tail(3)"
      ],
      "execution_count": 3,
      "outputs": [
        {
          "output_type": "execute_result",
          "data": {
            "text/html": [
              "<div>\n",
              "<style scoped>\n",
              "    .dataframe tbody tr th:only-of-type {\n",
              "        vertical-align: middle;\n",
              "    }\n",
              "\n",
              "    .dataframe tbody tr th {\n",
              "        vertical-align: top;\n",
              "    }\n",
              "\n",
              "    .dataframe thead th {\n",
              "        text-align: right;\n",
              "    }\n",
              "</style>\n",
              "<table border=\"1\" class=\"dataframe\">\n",
              "  <thead>\n",
              "    <tr style=\"text-align: right;\">\n",
              "      <th></th>\n",
              "      <th>High</th>\n",
              "      <th>Low</th>\n",
              "      <th>Open</th>\n",
              "      <th>Close</th>\n",
              "      <th>Volume</th>\n",
              "    </tr>\n",
              "    <tr>\n",
              "      <th>Date</th>\n",
              "      <th></th>\n",
              "      <th></th>\n",
              "      <th></th>\n",
              "      <th></th>\n",
              "      <th></th>\n",
              "    </tr>\n",
              "  </thead>\n",
              "  <tbody>\n",
              "    <tr>\n",
              "      <th>2019-09-04</th>\n",
              "      <td>38.500000</td>\n",
              "      <td>38.250000</td>\n",
              "      <td>38.250000</td>\n",
              "      <td>38.450001</td>\n",
              "      <td>9142411.0</td>\n",
              "    </tr>\n",
              "    <tr>\n",
              "      <th>2019-09-05</th>\n",
              "      <td>39.000000</td>\n",
              "      <td>38.500000</td>\n",
              "      <td>38.500000</td>\n",
              "      <td>39.000000</td>\n",
              "      <td>15438292.0</td>\n",
              "    </tr>\n",
              "    <tr>\n",
              "      <th>2019-09-06</th>\n",
              "      <td>40.099998</td>\n",
              "      <td>39.049999</td>\n",
              "      <td>39.049999</td>\n",
              "      <td>39.849998</td>\n",
              "      <td>26871485.0</td>\n",
              "    </tr>\n",
              "  </tbody>\n",
              "</table>\n",
              "</div>"
            ],
            "text/plain": [
              "                 High        Low       Open      Close      Volume\n",
              "Date                                                              \n",
              "2019-09-04  38.500000  38.250000  38.250000  38.450001   9142411.0\n",
              "2019-09-05  39.000000  38.500000  38.500000  39.000000  15438292.0\n",
              "2019-09-06  40.099998  39.049999  39.049999  39.849998  26871485.0"
            ]
          },
          "metadata": {
            "tags": []
          },
          "execution_count": 3
        }
      ]
    },
    {
      "cell_type": "markdown",
      "metadata": {
        "id": "ZsFMU68NI85j",
        "colab_type": "text"
      },
      "source": [
        "# Labeling(計算return)"
      ]
    },
    {
      "cell_type": "code",
      "metadata": {
        "id": "WaNG41cBI9BT",
        "colab_type": "code",
        "colab": {}
      },
      "source": [
        "#今天股價 = df['Close']\n",
        "#昨天股價 = df['Close'].shift(1)\n",
        "#df['return%'] = (今天股價/昨天股價-1)*100\n",
        "#print(df['return%'].min(),df['return%'].max())\n",
        "#sns.distplot(df['return%'].dropna())\n",
        "#df.tail()"
      ],
      "execution_count": 0,
      "outputs": []
    },
    {
      "cell_type": "markdown",
      "metadata": {
        "id": "HegmuvBN0FKD",
        "colab_type": "text"
      },
      "source": [
        "# Label triple_barrier"
      ]
    },
    {
      "cell_type": "code",
      "metadata": {
        "id": "RFsmFQfF0FXt",
        "colab_type": "code",
        "colab": {}
      },
      "source": [
        "import numpy as np\n",
        "import math\n",
        "def triple_barrier(price, ub, lb, max_period):\n",
        "\n",
        "    def end_price(s):\n",
        "        return np.append(s[(s / s[0] > ub) | (s / s[0] < lb)], s[-1])[0]/s[0]\n",
        "    \n",
        "    r = np.array(range(max_period))\n",
        "    \n",
        "    def end_time(s):\n",
        "        return np.append(r[(s / s[0] > ub) | (s / s[0] < lb)], max_period-1)[0]\n",
        "\n",
        "    p = price.rolling(max_period).apply(end_price, raw=True).shift(-max_period+1)\n",
        "    t = price.rolling(max_period).apply(end_time, raw=True).shift(-max_period+1)\n",
        "    t = pd.Series([t.index[int(k+i)] if not math.isnan(k+i) else np.datetime64('NaT') \n",
        "                   for i, k in enumerate(t)], index=t.index).dropna()\n",
        "\n",
        "    signal = pd.Series(0, p.index)\n",
        "    signal.loc[p > ub] = 1\n",
        "    signal.loc[p < lb] = -1\n",
        "    ret = pd.DataFrame({'triple_barrier_profit':p, 'triple_barrier_sell_time':t, 'triple_barrier_signal':signal})\n",
        "\n",
        "    return ret\n",
        "\n",
        "ret = triple_barrier(df.Close, 1.07, 0.97, 20)['triple_barrier_signal']\n",
        "df = df.join(ret)"
      ],
      "execution_count": 0,
      "outputs": []
    },
    {
      "cell_type": "code",
      "metadata": {
        "id": "MHRZWGG40a3q",
        "colab_type": "code",
        "outputId": "5ec8d119-8c7f-4785-ff43-9fed149d8c08",
        "colab": {
          "base_uri": "https://localhost:8080/",
          "height": 669
        }
      },
      "source": [
        "df.tail(20)"
      ],
      "execution_count": 6,
      "outputs": [
        {
          "output_type": "execute_result",
          "data": {
            "text/html": [
              "<div>\n",
              "<style scoped>\n",
              "    .dataframe tbody tr th:only-of-type {\n",
              "        vertical-align: middle;\n",
              "    }\n",
              "\n",
              "    .dataframe tbody tr th {\n",
              "        vertical-align: top;\n",
              "    }\n",
              "\n",
              "    .dataframe thead th {\n",
              "        text-align: right;\n",
              "    }\n",
              "</style>\n",
              "<table border=\"1\" class=\"dataframe\">\n",
              "  <thead>\n",
              "    <tr style=\"text-align: right;\">\n",
              "      <th></th>\n",
              "      <th>High</th>\n",
              "      <th>Low</th>\n",
              "      <th>Open</th>\n",
              "      <th>Close</th>\n",
              "      <th>Volume</th>\n",
              "      <th>triple_barrier_signal</th>\n",
              "    </tr>\n",
              "    <tr>\n",
              "      <th>Date</th>\n",
              "      <th></th>\n",
              "      <th></th>\n",
              "      <th></th>\n",
              "      <th></th>\n",
              "      <th></th>\n",
              "      <th></th>\n",
              "    </tr>\n",
              "  </thead>\n",
              "  <tbody>\n",
              "    <tr>\n",
              "      <th>2019-08-08</th>\n",
              "      <td>41.304199</td>\n",
              "      <td>40.930401</td>\n",
              "      <td>41.304199</td>\n",
              "      <td>41.023899</td>\n",
              "      <td>25584420.0</td>\n",
              "      <td>-1</td>\n",
              "    </tr>\n",
              "    <tr>\n",
              "      <th>2019-08-12</th>\n",
              "      <td>41.257500</td>\n",
              "      <td>41.023899</td>\n",
              "      <td>41.023899</td>\n",
              "      <td>41.070599</td>\n",
              "      <td>44490714.0</td>\n",
              "      <td>0</td>\n",
              "    </tr>\n",
              "    <tr>\n",
              "      <th>2019-08-13</th>\n",
              "      <td>37.849998</td>\n",
              "      <td>37.049999</td>\n",
              "      <td>37.849998</td>\n",
              "      <td>37.250000</td>\n",
              "      <td>47642885.0</td>\n",
              "      <td>0</td>\n",
              "    </tr>\n",
              "    <tr>\n",
              "      <th>2019-08-14</th>\n",
              "      <td>38.400002</td>\n",
              "      <td>37.549999</td>\n",
              "      <td>37.900002</td>\n",
              "      <td>38.299999</td>\n",
              "      <td>25945962.0</td>\n",
              "      <td>0</td>\n",
              "    </tr>\n",
              "    <tr>\n",
              "      <th>2019-08-15</th>\n",
              "      <td>38.200001</td>\n",
              "      <td>37.650002</td>\n",
              "      <td>37.950001</td>\n",
              "      <td>38.000000</td>\n",
              "      <td>15233101.0</td>\n",
              "      <td>0</td>\n",
              "    </tr>\n",
              "    <tr>\n",
              "      <th>2019-08-16</th>\n",
              "      <td>38.099998</td>\n",
              "      <td>37.799999</td>\n",
              "      <td>38.099998</td>\n",
              "      <td>37.950001</td>\n",
              "      <td>11940427.0</td>\n",
              "      <td>0</td>\n",
              "    </tr>\n",
              "    <tr>\n",
              "      <th>2019-08-19</th>\n",
              "      <td>38.400002</td>\n",
              "      <td>38.000000</td>\n",
              "      <td>38.150002</td>\n",
              "      <td>38.099998</td>\n",
              "      <td>12566435.0</td>\n",
              "      <td>0</td>\n",
              "    </tr>\n",
              "    <tr>\n",
              "      <th>2019-08-20</th>\n",
              "      <td>38.299999</td>\n",
              "      <td>38.099998</td>\n",
              "      <td>38.299999</td>\n",
              "      <td>38.150002</td>\n",
              "      <td>8093335.0</td>\n",
              "      <td>0</td>\n",
              "    </tr>\n",
              "    <tr>\n",
              "      <th>2019-08-21</th>\n",
              "      <td>38.200001</td>\n",
              "      <td>37.900002</td>\n",
              "      <td>38.150002</td>\n",
              "      <td>37.950001</td>\n",
              "      <td>11224764.0</td>\n",
              "      <td>0</td>\n",
              "    </tr>\n",
              "    <tr>\n",
              "      <th>2019-08-22</th>\n",
              "      <td>38.150002</td>\n",
              "      <td>37.799999</td>\n",
              "      <td>38.099998</td>\n",
              "      <td>37.849998</td>\n",
              "      <td>10511944.0</td>\n",
              "      <td>0</td>\n",
              "    </tr>\n",
              "    <tr>\n",
              "      <th>2019-08-23</th>\n",
              "      <td>38.200001</td>\n",
              "      <td>37.750000</td>\n",
              "      <td>37.799999</td>\n",
              "      <td>38.200001</td>\n",
              "      <td>7814273.0</td>\n",
              "      <td>0</td>\n",
              "    </tr>\n",
              "    <tr>\n",
              "      <th>2019-08-27</th>\n",
              "      <td>37.900002</td>\n",
              "      <td>37.500000</td>\n",
              "      <td>37.900002</td>\n",
              "      <td>37.650002</td>\n",
              "      <td>13973985.0</td>\n",
              "      <td>0</td>\n",
              "    </tr>\n",
              "    <tr>\n",
              "      <th>2019-08-28</th>\n",
              "      <td>37.700001</td>\n",
              "      <td>37.500000</td>\n",
              "      <td>37.650002</td>\n",
              "      <td>37.700001</td>\n",
              "      <td>8045693.0</td>\n",
              "      <td>0</td>\n",
              "    </tr>\n",
              "    <tr>\n",
              "      <th>2019-08-29</th>\n",
              "      <td>37.900002</td>\n",
              "      <td>37.500000</td>\n",
              "      <td>37.900002</td>\n",
              "      <td>37.799999</td>\n",
              "      <td>9799389.0</td>\n",
              "      <td>0</td>\n",
              "    </tr>\n",
              "    <tr>\n",
              "      <th>2019-08-30</th>\n",
              "      <td>38.450001</td>\n",
              "      <td>37.849998</td>\n",
              "      <td>38.000000</td>\n",
              "      <td>38.450001</td>\n",
              "      <td>20183196.0</td>\n",
              "      <td>0</td>\n",
              "    </tr>\n",
              "    <tr>\n",
              "      <th>2019-09-02</th>\n",
              "      <td>38.450001</td>\n",
              "      <td>38.049999</td>\n",
              "      <td>38.450001</td>\n",
              "      <td>38.250000</td>\n",
              "      <td>16950621.0</td>\n",
              "      <td>0</td>\n",
              "    </tr>\n",
              "    <tr>\n",
              "      <th>2019-09-03</th>\n",
              "      <td>38.450001</td>\n",
              "      <td>38.250000</td>\n",
              "      <td>38.250000</td>\n",
              "      <td>38.349998</td>\n",
              "      <td>12035375.0</td>\n",
              "      <td>0</td>\n",
              "    </tr>\n",
              "    <tr>\n",
              "      <th>2019-09-04</th>\n",
              "      <td>38.500000</td>\n",
              "      <td>38.250000</td>\n",
              "      <td>38.250000</td>\n",
              "      <td>38.450001</td>\n",
              "      <td>9142411.0</td>\n",
              "      <td>0</td>\n",
              "    </tr>\n",
              "    <tr>\n",
              "      <th>2019-09-05</th>\n",
              "      <td>39.000000</td>\n",
              "      <td>38.500000</td>\n",
              "      <td>38.500000</td>\n",
              "      <td>39.000000</td>\n",
              "      <td>15438292.0</td>\n",
              "      <td>0</td>\n",
              "    </tr>\n",
              "    <tr>\n",
              "      <th>2019-09-06</th>\n",
              "      <td>40.099998</td>\n",
              "      <td>39.049999</td>\n",
              "      <td>39.049999</td>\n",
              "      <td>39.849998</td>\n",
              "      <td>26871485.0</td>\n",
              "      <td>0</td>\n",
              "    </tr>\n",
              "  </tbody>\n",
              "</table>\n",
              "</div>"
            ],
            "text/plain": [
              "                 High        Low  ...      Volume  triple_barrier_signal\n",
              "Date                              ...                                   \n",
              "2019-08-08  41.304199  40.930401  ...  25584420.0                     -1\n",
              "2019-08-12  41.257500  41.023899  ...  44490714.0                      0\n",
              "2019-08-13  37.849998  37.049999  ...  47642885.0                      0\n",
              "2019-08-14  38.400002  37.549999  ...  25945962.0                      0\n",
              "2019-08-15  38.200001  37.650002  ...  15233101.0                      0\n",
              "2019-08-16  38.099998  37.799999  ...  11940427.0                      0\n",
              "2019-08-19  38.400002  38.000000  ...  12566435.0                      0\n",
              "2019-08-20  38.299999  38.099998  ...   8093335.0                      0\n",
              "2019-08-21  38.200001  37.900002  ...  11224764.0                      0\n",
              "2019-08-22  38.150002  37.799999  ...  10511944.0                      0\n",
              "2019-08-23  38.200001  37.750000  ...   7814273.0                      0\n",
              "2019-08-27  37.900002  37.500000  ...  13973985.0                      0\n",
              "2019-08-28  37.700001  37.500000  ...   8045693.0                      0\n",
              "2019-08-29  37.900002  37.500000  ...   9799389.0                      0\n",
              "2019-08-30  38.450001  37.849998  ...  20183196.0                      0\n",
              "2019-09-02  38.450001  38.049999  ...  16950621.0                      0\n",
              "2019-09-03  38.450001  38.250000  ...  12035375.0                      0\n",
              "2019-09-04  38.500000  38.250000  ...   9142411.0                      0\n",
              "2019-09-05  39.000000  38.500000  ...  15438292.0                      0\n",
              "2019-09-06  40.099998  39.049999  ...  26871485.0                      0\n",
              "\n",
              "[20 rows x 6 columns]"
            ]
          },
          "metadata": {
            "tags": []
          },
          "execution_count": 6
        }
      ]
    },
    {
      "cell_type": "code",
      "metadata": {
        "id": "Qti5Zd4-jOrH",
        "colab_type": "code",
        "outputId": "3ab68881-5559-416e-84be-3079b476786e",
        "colab": {
          "base_uri": "https://localhost:8080/",
          "height": 335
        }
      },
      "source": [
        "import matplotlib.pyplot as plt\n",
        "buy = df[df['triple_barrier_signal']==1]['Close']\n",
        "sell = df[df['triple_barrier_signal']==-1]['Close']\n",
        "df['Close'][0:40].plot()#後20筆是前20筆的驗證\n",
        "plt.scatter(buy.index,buy.values,color='red')\n",
        "plt.scatter(sell.index,sell.values,color='black')\n",
        "lb = df['Close'][0:40].mean() - 3*df['Close'][0:40].std()\n",
        "ub = df['Close'][0:40].mean() + 3*df['Close'][0:40].std()\n",
        "plt.ylim(lb,ub)"
      ],
      "execution_count": 7,
      "outputs": [
        {
          "output_type": "execute_result",
          "data": {
            "text/plain": [
              "(12.395027058062677, 30.324658114971992)"
            ]
          },
          "metadata": {
            "tags": []
          },
          "execution_count": 7
        },
        {
          "output_type": "display_data",
          "data": {
            "image/png": "[encoded data removed]",
            "text/plain": [
              "<Figure size 432x288 with 1 Axes>"
            ]
          },
          "metadata": {
            "tags": []
          }
        }
      ]
    },
    {
      "cell_type": "markdown",
      "metadata": {
        "id": "HUtEilqGfIJl",
        "colab_type": "text"
      },
      "source": [
        "# 建立ohlcv"
      ]
    },
    {
      "cell_type": "code",
      "metadata": {
        "id": "FdFhLZkYfKpN",
        "colab_type": "code",
        "colab": {}
      },
      "source": [
        "from finta import TA\n",
        "ohlcv = df[['Open','High','Low','Close','Volume']]\n",
        "ohlcv.columns = ['open','high','low','close','volume']"
      ],
      "execution_count": 0,
      "outputs": []
    },
    {
      "cell_type": "markdown",
      "metadata": {
        "id": "9K9RepGQwbQQ",
        "colab_type": "text"
      },
      "source": [
        "# 計算技術指標RSI"
      ]
    },
    {
      "cell_type": "code",
      "metadata": {
        "id": "ZZkpnqk9e0Rw",
        "colab_type": "code",
        "outputId": "2e306aa8-3a11-499a-e3ed-a15adf70f104",
        "colab": {
          "base_uri": "https://localhost:8080/",
          "height": 642
        }
      },
      "source": [
        "df['RSI'] = TA.RSI(ohlcv)\n",
        "print(df['RSI'].describe())\n",
        "sns.distplot(df['RSI'].dropna())\n",
        "df.tail()"
      ],
      "execution_count": 9,
      "outputs": [
        {
          "output_type": "stream",
          "text": [
            "count    4923.000000\n",
            "mean       50.966362\n",
            "std        16.212361\n",
            "min         5.387330\n",
            "25%        39.625139\n",
            "50%        50.960735\n",
            "75%        62.543229\n",
            "max       100.000000\n",
            "Name: RSI, dtype: float64\n"
          ],
          "name": "stdout"
        },
        {
          "output_type": "execute_result",
          "data": {
            "text/html": [
              "<div>\n",
              "<style scoped>\n",
              "    .dataframe tbody tr th:only-of-type {\n",
              "        vertical-align: middle;\n",
              "    }\n",
              "\n",
              "    .dataframe tbody tr th {\n",
              "        vertical-align: top;\n",
              "    }\n",
              "\n",
              "    .dataframe thead th {\n",
              "        text-align: right;\n",
              "    }\n",
              "</style>\n",
              "<table border=\"1\" class=\"dataframe\">\n",
              "  <thead>\n",
              "    <tr style=\"text-align: right;\">\n",
              "      <th></th>\n",
              "      <th>High</th>\n",
              "      <th>Low</th>\n",
              "      <th>Open</th>\n",
              "      <th>Close</th>\n",
              "      <th>Volume</th>\n",
              "      <th>triple_barrier_signal</th>\n",
              "      <th>RSI</th>\n",
              "    </tr>\n",
              "    <tr>\n",
              "      <th>Date</th>\n",
              "      <th></th>\n",
              "      <th></th>\n",
              "      <th></th>\n",
              "      <th></th>\n",
              "      <th></th>\n",
              "      <th></th>\n",
              "      <th></th>\n",
              "    </tr>\n",
              "  </thead>\n",
              "  <tbody>\n",
              "    <tr>\n",
              "      <th>2019-09-02</th>\n",
              "      <td>38.450001</td>\n",
              "      <td>38.049999</td>\n",
              "      <td>38.450001</td>\n",
              "      <td>38.250000</td>\n",
              "      <td>16950621.0</td>\n",
              "      <td>0</td>\n",
              "      <td>45.631946</td>\n",
              "    </tr>\n",
              "    <tr>\n",
              "      <th>2019-09-03</th>\n",
              "      <td>38.450001</td>\n",
              "      <td>38.250000</td>\n",
              "      <td>38.250000</td>\n",
              "      <td>38.349998</td>\n",
              "      <td>12035375.0</td>\n",
              "      <td>0</td>\n",
              "      <td>47.926160</td>\n",
              "    </tr>\n",
              "    <tr>\n",
              "      <th>2019-09-04</th>\n",
              "      <td>38.500000</td>\n",
              "      <td>38.250000</td>\n",
              "      <td>38.250000</td>\n",
              "      <td>38.450001</td>\n",
              "      <td>9142411.0</td>\n",
              "      <td>0</td>\n",
              "      <td>50.343993</td>\n",
              "    </tr>\n",
              "    <tr>\n",
              "      <th>2019-09-05</th>\n",
              "      <td>39.000000</td>\n",
              "      <td>38.500000</td>\n",
              "      <td>38.500000</td>\n",
              "      <td>39.000000</td>\n",
              "      <td>15438292.0</td>\n",
              "      <td>0</td>\n",
              "      <td>61.645234</td>\n",
              "    </tr>\n",
              "    <tr>\n",
              "      <th>2019-09-06</th>\n",
              "      <td>40.099998</td>\n",
              "      <td>39.049999</td>\n",
              "      <td>39.049999</td>\n",
              "      <td>39.849998</td>\n",
              "      <td>26871485.0</td>\n",
              "      <td>0</td>\n",
              "      <td>72.717608</td>\n",
              "    </tr>\n",
              "  </tbody>\n",
              "</table>\n",
              "</div>"
            ],
            "text/plain": [
              "                 High        Low  ...  triple_barrier_signal        RSI\n",
              "Date                              ...                                  \n",
              "2019-09-02  38.450001  38.049999  ...                      0  45.631946\n",
              "2019-09-03  38.450001  38.250000  ...                      0  47.926160\n",
              "2019-09-04  38.500000  38.250000  ...                      0  50.343993\n",
              "2019-09-05  39.000000  38.500000  ...                      0  61.645234\n",
              "2019-09-06  40.099998  39.049999  ...                      0  72.717608\n",
              "\n",
              "[5 rows x 7 columns]"
            ]
          },
          "metadata": {
            "tags": []
          },
          "execution_count": 9
        },
        {
          "output_type": "display_data",
          "data": {
            "image/png": "[encoded data removed]",
            "text/plain": [
              "<Figure size 432x288 with 1 Axes>"
            ]
          },
          "metadata": {
            "tags": []
          }
        }
      ]
    },
    {
      "cell_type": "markdown",
      "metadata": {
        "id": "fZXZuQe93pJE",
        "colab_type": "text"
      },
      "source": [
        "# 計算威廉指標"
      ]
    },
    {
      "cell_type": "code",
      "metadata": {
        "id": "Q8_qx-dnfPJa",
        "colab_type": "code",
        "outputId": "15cb130b-8b51-4cf4-b64e-e418cbec71ea",
        "colab": {
          "base_uri": "https://localhost:8080/",
          "height": 642
        }
      },
      "source": [
        "df['Williams %R'] = TA.WILLIAMS(ohlcv)\n",
        "print(df['Williams %R'].describe())\n",
        "sns.distplot(df['Williams %R'].dropna())\n",
        "df.tail()"
      ],
      "execution_count": 10,
      "outputs": [
        {
          "output_type": "stream",
          "text": [
            "count    4911.000000\n",
            "mean      -49.225964\n",
            "std        30.539354\n",
            "min      -100.000000\n",
            "25%       -76.191299\n",
            "50%       -48.550771\n",
            "75%       -21.875748\n",
            "max        -0.000000\n",
            "Name: Williams %R, dtype: float64\n"
          ],
          "name": "stdout"
        },
        {
          "output_type": "execute_result",
          "data": {
            "text/html": [
              "<div>\n",
              "<style scoped>\n",
              "    .dataframe tbody tr th:only-of-type {\n",
              "        vertical-align: middle;\n",
              "    }\n",
              "\n",
              "    .dataframe tbody tr th {\n",
              "        vertical-align: top;\n",
              "    }\n",
              "\n",
              "    .dataframe thead th {\n",
              "        text-align: right;\n",
              "    }\n",
              "</style>\n",
              "<table border=\"1\" class=\"dataframe\">\n",
              "  <thead>\n",
              "    <tr style=\"text-align: right;\">\n",
              "      <th></th>\n",
              "      <th>High</th>\n",
              "      <th>Low</th>\n",
              "      <th>Open</th>\n",
              "      <th>Close</th>\n",
              "      <th>Volume</th>\n",
              "      <th>triple_barrier_signal</th>\n",
              "      <th>RSI</th>\n",
              "      <th>Williams %R</th>\n",
              "    </tr>\n",
              "    <tr>\n",
              "      <th>Date</th>\n",
              "      <th></th>\n",
              "      <th></th>\n",
              "      <th></th>\n",
              "      <th></th>\n",
              "      <th></th>\n",
              "      <th></th>\n",
              "      <th></th>\n",
              "      <th></th>\n",
              "    </tr>\n",
              "  </thead>\n",
              "  <tbody>\n",
              "    <tr>\n",
              "      <th>2019-09-02</th>\n",
              "      <td>38.450001</td>\n",
              "      <td>38.049999</td>\n",
              "      <td>38.450001</td>\n",
              "      <td>38.250000</td>\n",
              "      <td>16950621.0</td>\n",
              "      <td>0</td>\n",
              "      <td>45.631946</td>\n",
              "      <td>-14.285753</td>\n",
              "    </tr>\n",
              "    <tr>\n",
              "      <th>2019-09-03</th>\n",
              "      <td>38.450001</td>\n",
              "      <td>38.250000</td>\n",
              "      <td>38.250000</td>\n",
              "      <td>38.349998</td>\n",
              "      <td>12035375.0</td>\n",
              "      <td>0</td>\n",
              "      <td>47.926160</td>\n",
              "      <td>-10.526548</td>\n",
              "    </tr>\n",
              "    <tr>\n",
              "      <th>2019-09-04</th>\n",
              "      <td>38.500000</td>\n",
              "      <td>38.250000</td>\n",
              "      <td>38.250000</td>\n",
              "      <td>38.450001</td>\n",
              "      <td>9142411.0</td>\n",
              "      <td>0</td>\n",
              "      <td>50.343993</td>\n",
              "      <td>-4.999924</td>\n",
              "    </tr>\n",
              "    <tr>\n",
              "      <th>2019-09-05</th>\n",
              "      <td>39.000000</td>\n",
              "      <td>38.500000</td>\n",
              "      <td>38.500000</td>\n",
              "      <td>39.000000</td>\n",
              "      <td>15438292.0</td>\n",
              "      <td>0</td>\n",
              "      <td>61.645234</td>\n",
              "      <td>-0.000000</td>\n",
              "    </tr>\n",
              "    <tr>\n",
              "      <th>2019-09-06</th>\n",
              "      <td>40.099998</td>\n",
              "      <td>39.049999</td>\n",
              "      <td>39.049999</td>\n",
              "      <td>39.849998</td>\n",
              "      <td>26871485.0</td>\n",
              "      <td>0</td>\n",
              "      <td>72.717608</td>\n",
              "      <td>-9.615390</td>\n",
              "    </tr>\n",
              "  </tbody>\n",
              "</table>\n",
              "</div>"
            ],
            "text/plain": [
              "                 High        Low  ...        RSI  Williams %R\n",
              "Date                              ...                        \n",
              "2019-09-02  38.450001  38.049999  ...  45.631946   -14.285753\n",
              "2019-09-03  38.450001  38.250000  ...  47.926160   -10.526548\n",
              "2019-09-04  38.500000  38.250000  ...  50.343993    -4.999924\n",
              "2019-09-05  39.000000  38.500000  ...  61.645234    -0.000000\n",
              "2019-09-06  40.099998  39.049999  ...  72.717608    -9.615390\n",
              "\n",
              "[5 rows x 8 columns]"
            ]
          },
          "metadata": {
            "tags": []
          },
          "execution_count": 10
        },
        {
          "output_type": "display_data",
          "data": {
            "image/png": "[encoded data removed]",
            "text/plain": [
              "<Figure size 432x288 with 1 Axes>"
            ]
          },
          "metadata": {
            "tags": []
          }
        }
      ]
    },
    {
      "cell_type": "markdown",
      "metadata": {
        "id": "xK4jb6KTDdGa",
        "colab_type": "text"
      },
      "source": [
        "# SMA"
      ]
    },
    {
      "cell_type": "code",
      "metadata": {
        "id": "osETw-NkfgfL",
        "colab_type": "code",
        "outputId": "66b6fe0c-f506-44df-ebee-e9189130e8f9",
        "colab": {
          "base_uri": "https://localhost:8080/",
          "height": 642
        }
      },
      "source": [
        "df['SMA'] = TA.SMA(ohlcv)\n",
        "print(df['SMA'].describe())\n",
        "sns.distplot(df['SMA'].dropna())\n",
        "df.tail()"
      ],
      "execution_count": 11,
      "outputs": [
        {
          "output_type": "stream",
          "text": [
            "count    4884.000000\n",
            "mean       24.424357\n",
            "std        10.885673\n",
            "min         4.713275\n",
            "25%        13.903199\n",
            "50%        27.451118\n",
            "75%        32.372582\n",
            "max        46.202517\n",
            "Name: SMA, dtype: float64\n"
          ],
          "name": "stdout"
        },
        {
          "output_type": "execute_result",
          "data": {
            "text/html": [
              "<div>\n",
              "<style scoped>\n",
              "    .dataframe tbody tr th:only-of-type {\n",
              "        vertical-align: middle;\n",
              "    }\n",
              "\n",
              "    .dataframe tbody tr th {\n",
              "        vertical-align: top;\n",
              "    }\n",
              "\n",
              "    .dataframe thead th {\n",
              "        text-align: right;\n",
              "    }\n",
              "</style>\n",
              "<table border=\"1\" class=\"dataframe\">\n",
              "  <thead>\n",
              "    <tr style=\"text-align: right;\">\n",
              "      <th></th>\n",
              "      <th>High</th>\n",
              "      <th>Low</th>\n",
              "      <th>Open</th>\n",
              "      <th>Close</th>\n",
              "      <th>Volume</th>\n",
              "      <th>triple_barrier_signal</th>\n",
              "      <th>RSI</th>\n",
              "      <th>Williams %R</th>\n",
              "      <th>SMA</th>\n",
              "    </tr>\n",
              "    <tr>\n",
              "      <th>Date</th>\n",
              "      <th></th>\n",
              "      <th></th>\n",
              "      <th></th>\n",
              "      <th></th>\n",
              "      <th></th>\n",
              "      <th></th>\n",
              "      <th></th>\n",
              "      <th></th>\n",
              "      <th></th>\n",
              "    </tr>\n",
              "  </thead>\n",
              "  <tbody>\n",
              "    <tr>\n",
              "      <th>2019-09-02</th>\n",
              "      <td>38.450001</td>\n",
              "      <td>38.049999</td>\n",
              "      <td>38.450001</td>\n",
              "      <td>38.250000</td>\n",
              "      <td>16950621.0</td>\n",
              "      <td>0</td>\n",
              "      <td>45.631946</td>\n",
              "      <td>-14.285753</td>\n",
              "      <td>40.449951</td>\n",
              "    </tr>\n",
              "    <tr>\n",
              "      <th>2019-09-03</th>\n",
              "      <td>38.450001</td>\n",
              "      <td>38.250000</td>\n",
              "      <td>38.250000</td>\n",
              "      <td>38.349998</td>\n",
              "      <td>12035375.0</td>\n",
              "      <td>0</td>\n",
              "      <td>47.926160</td>\n",
              "      <td>-10.526548</td>\n",
              "      <td>40.339151</td>\n",
              "    </tr>\n",
              "    <tr>\n",
              "      <th>2019-09-04</th>\n",
              "      <td>38.500000</td>\n",
              "      <td>38.250000</td>\n",
              "      <td>38.250000</td>\n",
              "      <td>38.450001</td>\n",
              "      <td>9142411.0</td>\n",
              "      <td>0</td>\n",
              "      <td>50.343993</td>\n",
              "      <td>-4.999924</td>\n",
              "      <td>40.225093</td>\n",
              "    </tr>\n",
              "    <tr>\n",
              "      <th>2019-09-05</th>\n",
              "      <td>39.000000</td>\n",
              "      <td>38.500000</td>\n",
              "      <td>38.500000</td>\n",
              "      <td>39.000000</td>\n",
              "      <td>15438292.0</td>\n",
              "      <td>0</td>\n",
              "      <td>61.645234</td>\n",
              "      <td>-0.000000</td>\n",
              "      <td>40.123307</td>\n",
              "    </tr>\n",
              "    <tr>\n",
              "      <th>2019-09-06</th>\n",
              "      <td>40.099998</td>\n",
              "      <td>39.049999</td>\n",
              "      <td>39.049999</td>\n",
              "      <td>39.849998</td>\n",
              "      <td>26871485.0</td>\n",
              "      <td>0</td>\n",
              "      <td>72.717608</td>\n",
              "      <td>-9.615390</td>\n",
              "      <td>40.046812</td>\n",
              "    </tr>\n",
              "  </tbody>\n",
              "</table>\n",
              "</div>"
            ],
            "text/plain": [
              "                 High        Low       Open  ...        RSI  Williams %R        SMA\n",
              "Date                                         ...                                   \n",
              "2019-09-02  38.450001  38.049999  38.450001  ...  45.631946   -14.285753  40.449951\n",
              "2019-09-03  38.450001  38.250000  38.250000  ...  47.926160   -10.526548  40.339151\n",
              "2019-09-04  38.500000  38.250000  38.250000  ...  50.343993    -4.999924  40.225093\n",
              "2019-09-05  39.000000  38.500000  38.500000  ...  61.645234    -0.000000  40.123307\n",
              "2019-09-06  40.099998  39.049999  39.049999  ...  72.717608    -9.615390  40.046812\n",
              "\n",
              "[5 rows x 9 columns]"
            ]
          },
          "metadata": {
            "tags": []
          },
          "execution_count": 11
        },
        {
          "output_type": "display_data",
          "data": {
            "image/png": "[encoded data removed]",
            "text/plain": [
              "<Figure size 432x288 with 1 Axes>"
            ]
          },
          "metadata": {
            "tags": []
          }
        }
      ]
    },
    {
      "cell_type": "markdown",
      "metadata": {
        "id": "a2Mf0ckEoHC_",
        "colab_type": "text"
      },
      "source": [
        "# EMA"
      ]
    },
    {
      "cell_type": "code",
      "metadata": {
        "id": "EQlFyJLeh4WA",
        "colab_type": "code",
        "outputId": "2b296dfa-9967-4e81-aeac-37099abc1e07",
        "colab": {
          "base_uri": "https://localhost:8080/",
          "height": 642
        }
      },
      "source": [
        "df['EMA'] = TA.EMA(ohlcv)\n",
        "print(df['EMA'].describe())\n",
        "sns.distplot(df['EMA'])\n",
        "df.tail()"
      ],
      "execution_count": 12,
      "outputs": [
        {
          "output_type": "stream",
          "text": [
            "count    4924.000000\n",
            "mean       24.449213\n",
            "std        10.937310\n",
            "min         4.655782\n",
            "25%        14.101755\n",
            "50%        27.429411\n",
            "75%        32.596660\n",
            "max        47.458190\n",
            "Name: EMA, dtype: float64\n"
          ],
          "name": "stdout"
        },
        {
          "output_type": "execute_result",
          "data": {
            "text/html": [
              "<div>\n",
              "<style scoped>\n",
              "    .dataframe tbody tr th:only-of-type {\n",
              "        vertical-align: middle;\n",
              "    }\n",
              "\n",
              "    .dataframe tbody tr th {\n",
              "        vertical-align: top;\n",
              "    }\n",
              "\n",
              "    .dataframe thead th {\n",
              "        text-align: right;\n",
              "    }\n",
              "</style>\n",
              "<table border=\"1\" class=\"dataframe\">\n",
              "  <thead>\n",
              "    <tr style=\"text-align: right;\">\n",
              "      <th></th>\n",
              "      <th>High</th>\n",
              "      <th>Low</th>\n",
              "      <th>Open</th>\n",
              "      <th>Close</th>\n",
              "      <th>Volume</th>\n",
              "      <th>triple_barrier_signal</th>\n",
              "      <th>RSI</th>\n",
              "      <th>Williams %R</th>\n",
              "      <th>SMA</th>\n",
              "      <th>EMA</th>\n",
              "    </tr>\n",
              "    <tr>\n",
              "      <th>Date</th>\n",
              "      <th></th>\n",
              "      <th></th>\n",
              "      <th></th>\n",
              "      <th></th>\n",
              "      <th></th>\n",
              "      <th></th>\n",
              "      <th></th>\n",
              "      <th></th>\n",
              "      <th></th>\n",
              "      <th></th>\n",
              "    </tr>\n",
              "  </thead>\n",
              "  <tbody>\n",
              "    <tr>\n",
              "      <th>2019-09-02</th>\n",
              "      <td>38.450001</td>\n",
              "      <td>38.049999</td>\n",
              "      <td>38.450001</td>\n",
              "      <td>38.250000</td>\n",
              "      <td>16950621.0</td>\n",
              "      <td>0</td>\n",
              "      <td>45.631946</td>\n",
              "      <td>-14.285753</td>\n",
              "      <td>40.449951</td>\n",
              "      <td>38.176309</td>\n",
              "    </tr>\n",
              "    <tr>\n",
              "      <th>2019-09-03</th>\n",
              "      <td>38.450001</td>\n",
              "      <td>38.250000</td>\n",
              "      <td>38.250000</td>\n",
              "      <td>38.349998</td>\n",
              "      <td>12035375.0</td>\n",
              "      <td>0</td>\n",
              "      <td>47.926160</td>\n",
              "      <td>-10.526548</td>\n",
              "      <td>40.339151</td>\n",
              "      <td>38.211047</td>\n",
              "    </tr>\n",
              "    <tr>\n",
              "      <th>2019-09-04</th>\n",
              "      <td>38.500000</td>\n",
              "      <td>38.250000</td>\n",
              "      <td>38.250000</td>\n",
              "      <td>38.450001</td>\n",
              "      <td>9142411.0</td>\n",
              "      <td>0</td>\n",
              "      <td>50.343993</td>\n",
              "      <td>-4.999924</td>\n",
              "      <td>40.225093</td>\n",
              "      <td>38.258838</td>\n",
              "    </tr>\n",
              "    <tr>\n",
              "      <th>2019-09-05</th>\n",
              "      <td>39.000000</td>\n",
              "      <td>38.500000</td>\n",
              "      <td>38.500000</td>\n",
              "      <td>39.000000</td>\n",
              "      <td>15438292.0</td>\n",
              "      <td>0</td>\n",
              "      <td>61.645234</td>\n",
              "      <td>-0.000000</td>\n",
              "      <td>40.123307</td>\n",
              "      <td>38.407070</td>\n",
              "    </tr>\n",
              "    <tr>\n",
              "      <th>2019-09-06</th>\n",
              "      <td>40.099998</td>\n",
              "      <td>39.049999</td>\n",
              "      <td>39.049999</td>\n",
              "      <td>39.849998</td>\n",
              "      <td>26871485.0</td>\n",
              "      <td>0</td>\n",
              "      <td>72.717608</td>\n",
              "      <td>-9.615390</td>\n",
              "      <td>40.046812</td>\n",
              "      <td>38.695656</td>\n",
              "    </tr>\n",
              "  </tbody>\n",
              "</table>\n",
              "</div>"
            ],
            "text/plain": [
              "                 High        Low       Open  ...  Williams %R        SMA        EMA\n",
              "Date                                         ...                                   \n",
              "2019-09-02  38.450001  38.049999  38.450001  ...   -14.285753  40.449951  38.176309\n",
              "2019-09-03  38.450001  38.250000  38.250000  ...   -10.526548  40.339151  38.211047\n",
              "2019-09-04  38.500000  38.250000  38.250000  ...    -4.999924  40.225093  38.258838\n",
              "2019-09-05  39.000000  38.500000  38.500000  ...    -0.000000  40.123307  38.407070\n",
              "2019-09-06  40.099998  39.049999  39.049999  ...    -9.615390  40.046812  38.695656\n",
              "\n",
              "[5 rows x 10 columns]"
            ]
          },
          "metadata": {
            "tags": []
          },
          "execution_count": 12
        },
        {
          "output_type": "display_data",
          "data": {
            "image/png": "[encoded data removed]",
            "text/plain": [
              "<Figure size 432x288 with 1 Axes>"
            ]
          },
          "metadata": {
            "tags": []
          }
        }
      ]
    },
    {
      "cell_type": "markdown",
      "metadata": {
        "id": "wqkaWfQryV3W",
        "colab_type": "text"
      },
      "source": [
        "# WMA"
      ]
    },
    {
      "cell_type": "code",
      "metadata": {
        "id": "9Dw9scCSieLI",
        "colab_type": "code",
        "outputId": "2b012e0d-1f6e-464e-970b-d173b16e16a0",
        "colab": {
          "base_uri": "https://localhost:8080/",
          "height": 696
        }
      },
      "source": [
        "df['WMA'] = TA.WMA(ohlcv)\n",
        "print(df['WMA'].describe())\n",
        "sns.distplot(df['WMA'].dropna())\n",
        "df.tail()"
      ],
      "execution_count": 13,
      "outputs": [
        {
          "output_type": "stream",
          "text": [
            "/usr/local/lib/python3.6/dist-packages/finta/finta.py:263: FutureWarning: Currently, 'apply' passes the values as ndarrays to the applied function. In the future, this will change to passing it as Series objects. You need to specify 'raw=True' to keep the current behaviour, and you can pass 'raw=False' to silence this warning\n",
            "  wma = close_.apply(linear(weights))\n"
          ],
          "name": "stderr"
        },
        {
          "output_type": "stream",
          "text": [
            "count    4916.000000\n",
            "mean       24.453761\n",
            "std        10.953464\n",
            "min         4.639074\n",
            "25%        14.050603\n",
            "50%        27.432021\n",
            "75%        32.491507\n",
            "max        48.382182\n",
            "Name: WMA, dtype: float64\n"
          ],
          "name": "stdout"
        },
        {
          "output_type": "execute_result",
          "data": {
            "text/html": [
              "<div>\n",
              "<style scoped>\n",
              "    .dataframe tbody tr th:only-of-type {\n",
              "        vertical-align: middle;\n",
              "    }\n",
              "\n",
              "    .dataframe tbody tr th {\n",
              "        vertical-align: top;\n",
              "    }\n",
              "\n",
              "    .dataframe thead th {\n",
              "        text-align: right;\n",
              "    }\n",
              "</style>\n",
              "<table border=\"1\" class=\"dataframe\">\n",
              "  <thead>\n",
              "    <tr style=\"text-align: right;\">\n",
              "      <th></th>\n",
              "      <th>High</th>\n",
              "      <th>Low</th>\n",
              "      <th>Open</th>\n",
              "      <th>Close</th>\n",
              "      <th>Volume</th>\n",
              "      <th>triple_barrier_signal</th>\n",
              "      <th>RSI</th>\n",
              "      <th>Williams %R</th>\n",
              "      <th>SMA</th>\n",
              "      <th>EMA</th>\n",
              "      <th>WMA</th>\n",
              "    </tr>\n",
              "    <tr>\n",
              "      <th>Date</th>\n",
              "      <th></th>\n",
              "      <th></th>\n",
              "      <th></th>\n",
              "      <th></th>\n",
              "      <th></th>\n",
              "      <th></th>\n",
              "      <th></th>\n",
              "      <th></th>\n",
              "      <th></th>\n",
              "      <th></th>\n",
              "      <th></th>\n",
              "    </tr>\n",
              "  </thead>\n",
              "  <tbody>\n",
              "    <tr>\n",
              "      <th>2019-09-02</th>\n",
              "      <td>38.450001</td>\n",
              "      <td>38.049999</td>\n",
              "      <td>38.450001</td>\n",
              "      <td>38.250000</td>\n",
              "      <td>16950621.0</td>\n",
              "      <td>0</td>\n",
              "      <td>45.631946</td>\n",
              "      <td>-14.285753</td>\n",
              "      <td>40.449951</td>\n",
              "      <td>38.176309</td>\n",
              "      <td>37.971112</td>\n",
              "    </tr>\n",
              "    <tr>\n",
              "      <th>2019-09-03</th>\n",
              "      <td>38.450001</td>\n",
              "      <td>38.250000</td>\n",
              "      <td>38.250000</td>\n",
              "      <td>38.349998</td>\n",
              "      <td>12035375.0</td>\n",
              "      <td>0</td>\n",
              "      <td>47.926160</td>\n",
              "      <td>-10.526548</td>\n",
              "      <td>40.339151</td>\n",
              "      <td>38.211047</td>\n",
              "      <td>37.945556</td>\n",
              "    </tr>\n",
              "    <tr>\n",
              "      <th>2019-09-04</th>\n",
              "      <td>38.500000</td>\n",
              "      <td>38.250000</td>\n",
              "      <td>38.250000</td>\n",
              "      <td>38.450001</td>\n",
              "      <td>9142411.0</td>\n",
              "      <td>0</td>\n",
              "      <td>50.343993</td>\n",
              "      <td>-4.999924</td>\n",
              "      <td>40.225093</td>\n",
              "      <td>38.258838</td>\n",
              "      <td>37.971111</td>\n",
              "    </tr>\n",
              "    <tr>\n",
              "      <th>2019-09-05</th>\n",
              "      <td>39.000000</td>\n",
              "      <td>38.500000</td>\n",
              "      <td>38.500000</td>\n",
              "      <td>39.000000</td>\n",
              "      <td>15438292.0</td>\n",
              "      <td>0</td>\n",
              "      <td>61.645234</td>\n",
              "      <td>-0.000000</td>\n",
              "      <td>40.123307</td>\n",
              "      <td>38.407070</td>\n",
              "      <td>38.042223</td>\n",
              "    </tr>\n",
              "    <tr>\n",
              "      <th>2019-09-06</th>\n",
              "      <td>40.099998</td>\n",
              "      <td>39.049999</td>\n",
              "      <td>39.049999</td>\n",
              "      <td>39.849998</td>\n",
              "      <td>26871485.0</td>\n",
              "      <td>0</td>\n",
              "      <td>72.717608</td>\n",
              "      <td>-9.615390</td>\n",
              "      <td>40.046812</td>\n",
              "      <td>38.695656</td>\n",
              "      <td>38.080000</td>\n",
              "    </tr>\n",
              "  </tbody>\n",
              "</table>\n",
              "</div>"
            ],
            "text/plain": [
              "                 High        Low       Open  ...        SMA        EMA        WMA\n",
              "Date                                         ...                                 \n",
              "2019-09-02  38.450001  38.049999  38.450001  ...  40.449951  38.176309  37.971112\n",
              "2019-09-03  38.450001  38.250000  38.250000  ...  40.339151  38.211047  37.945556\n",
              "2019-09-04  38.500000  38.250000  38.250000  ...  40.225093  38.258838  37.971111\n",
              "2019-09-05  39.000000  38.500000  38.500000  ...  40.123307  38.407070  38.042223\n",
              "2019-09-06  40.099998  39.049999  39.049999  ...  40.046812  38.695656  38.080000\n",
              "\n",
              "[5 rows x 11 columns]"
            ]
          },
          "metadata": {
            "tags": []
          },
          "execution_count": 13
        },
        {
          "output_type": "display_data",
          "data": {
            "image/png": "[encoded data removed]",
            "text/plain": [
              "<Figure size 432x288 with 1 Axes>"
            ]
          },
          "metadata": {
            "tags": []
          }
        }
      ]
    },
    {
      "cell_type": "markdown",
      "metadata": {
        "id": "HNC131ghyrF1",
        "colab_type": "text"
      },
      "source": [
        "# HMA"
      ]
    },
    {
      "cell_type": "code",
      "metadata": {
        "id": "b02O6Yevi6mN",
        "colab_type": "code",
        "outputId": "0f0941dd-7f70-4ab9-f211-942c94bc85fd",
        "colab": {
          "base_uri": "https://localhost:8080/",
          "height": 797
        }
      },
      "source": [
        "df['HMA'] = TA.HMA(ohlcv)\n",
        "print(df['HMA'].describe())\n",
        "sns.distplot(df['HMA'].dropna())\n",
        "df.tail()"
      ],
      "execution_count": 14,
      "outputs": [
        {
          "output_type": "stream",
          "text": [
            "/usr/local/lib/python3.6/dist-packages/finta/finta.py:263: FutureWarning: Currently, 'apply' passes the values as ndarrays to the applied function. In the future, this will change to passing it as Series objects. You need to specify 'raw=True' to keep the current behaviour, and you can pass 'raw=False' to silence this warning\n",
            "  wma = close_.apply(linear(weights))\n",
            "/usr/local/lib/python3.6/dist-packages/finta/finta.py:285: SettingWithCopyWarning: \n",
            "A value is trying to be set on a copy of a slice from a DataFrame.\n",
            "Try using .loc[row_indexer,col_indexer] = value instead\n",
            "\n",
            "See the caveats in the documentation: http://pandas.pydata.org/pandas-docs/stable/indexing.html#indexing-view-versus-copy\n",
            "  ohlc['deltawma'] = 2 * wmaf - wmas\n"
          ],
          "name": "stderr"
        },
        {
          "output_type": "stream",
          "text": [
            "count    4921.000000\n",
            "mean       24.461029\n",
            "std        10.963963\n",
            "min         4.605398\n",
            "25%        14.047420\n",
            "50%        27.401641\n",
            "75%        32.492020\n",
            "max        48.987559\n",
            "Name: HMA, dtype: float64\n"
          ],
          "name": "stdout"
        },
        {
          "output_type": "execute_result",
          "data": {
            "text/html": [
              "<div>\n",
              "<style scoped>\n",
              "    .dataframe tbody tr th:only-of-type {\n",
              "        vertical-align: middle;\n",
              "    }\n",
              "\n",
              "    .dataframe tbody tr th {\n",
              "        vertical-align: top;\n",
              "    }\n",
              "\n",
              "    .dataframe thead th {\n",
              "        text-align: right;\n",
              "    }\n",
              "</style>\n",
              "<table border=\"1\" class=\"dataframe\">\n",
              "  <thead>\n",
              "    <tr style=\"text-align: right;\">\n",
              "      <th></th>\n",
              "      <th>High</th>\n",
              "      <th>Low</th>\n",
              "      <th>Open</th>\n",
              "      <th>Close</th>\n",
              "      <th>Volume</th>\n",
              "      <th>triple_barrier_signal</th>\n",
              "      <th>RSI</th>\n",
              "      <th>Williams %R</th>\n",
              "      <th>SMA</th>\n",
              "      <th>EMA</th>\n",
              "      <th>WMA</th>\n",
              "      <th>HMA</th>\n",
              "    </tr>\n",
              "    <tr>\n",
              "      <th>Date</th>\n",
              "      <th></th>\n",
              "      <th></th>\n",
              "      <th></th>\n",
              "      <th></th>\n",
              "      <th></th>\n",
              "      <th></th>\n",
              "      <th></th>\n",
              "      <th></th>\n",
              "      <th></th>\n",
              "      <th></th>\n",
              "      <th></th>\n",
              "      <th></th>\n",
              "    </tr>\n",
              "  </thead>\n",
              "  <tbody>\n",
              "    <tr>\n",
              "      <th>2019-09-02</th>\n",
              "      <td>38.450001</td>\n",
              "      <td>38.049999</td>\n",
              "      <td>38.450001</td>\n",
              "      <td>38.250000</td>\n",
              "      <td>16950621.0</td>\n",
              "      <td>0</td>\n",
              "      <td>45.631946</td>\n",
              "      <td>-14.285753</td>\n",
              "      <td>40.449951</td>\n",
              "      <td>38.176309</td>\n",
              "      <td>37.971112</td>\n",
              "      <td>37.935000</td>\n",
              "    </tr>\n",
              "    <tr>\n",
              "      <th>2019-09-03</th>\n",
              "      <td>38.450001</td>\n",
              "      <td>38.250000</td>\n",
              "      <td>38.250000</td>\n",
              "      <td>38.349998</td>\n",
              "      <td>12035375.0</td>\n",
              "      <td>0</td>\n",
              "      <td>47.926160</td>\n",
              "      <td>-10.526548</td>\n",
              "      <td>40.339151</td>\n",
              "      <td>38.211047</td>\n",
              "      <td>37.945556</td>\n",
              "      <td>38.140000</td>\n",
              "    </tr>\n",
              "    <tr>\n",
              "      <th>2019-09-04</th>\n",
              "      <td>38.500000</td>\n",
              "      <td>38.250000</td>\n",
              "      <td>38.250000</td>\n",
              "      <td>38.450001</td>\n",
              "      <td>9142411.0</td>\n",
              "      <td>0</td>\n",
              "      <td>50.343993</td>\n",
              "      <td>-4.999924</td>\n",
              "      <td>40.225093</td>\n",
              "      <td>38.258838</td>\n",
              "      <td>37.971111</td>\n",
              "      <td>38.370000</td>\n",
              "    </tr>\n",
              "    <tr>\n",
              "      <th>2019-09-05</th>\n",
              "      <td>39.000000</td>\n",
              "      <td>38.500000</td>\n",
              "      <td>38.500000</td>\n",
              "      <td>39.000000</td>\n",
              "      <td>15438292.0</td>\n",
              "      <td>0</td>\n",
              "      <td>61.645234</td>\n",
              "      <td>-0.000000</td>\n",
              "      <td>40.123307</td>\n",
              "      <td>38.407070</td>\n",
              "      <td>38.042223</td>\n",
              "      <td>38.395000</td>\n",
              "    </tr>\n",
              "    <tr>\n",
              "      <th>2019-09-06</th>\n",
              "      <td>40.099998</td>\n",
              "      <td>39.049999</td>\n",
              "      <td>39.049999</td>\n",
              "      <td>39.849998</td>\n",
              "      <td>26871485.0</td>\n",
              "      <td>0</td>\n",
              "      <td>72.717608</td>\n",
              "      <td>-9.615390</td>\n",
              "      <td>40.046812</td>\n",
              "      <td>38.695656</td>\n",
              "      <td>38.080000</td>\n",
              "      <td>38.659999</td>\n",
              "    </tr>\n",
              "  </tbody>\n",
              "</table>\n",
              "</div>"
            ],
            "text/plain": [
              "                 High        Low       Open  ...        EMA        WMA        HMA\n",
              "Date                                         ...                                 \n",
              "2019-09-02  38.450001  38.049999  38.450001  ...  38.176309  37.971112  37.935000\n",
              "2019-09-03  38.450001  38.250000  38.250000  ...  38.211047  37.945556  38.140000\n",
              "2019-09-04  38.500000  38.250000  38.250000  ...  38.258838  37.971111  38.370000\n",
              "2019-09-05  39.000000  38.500000  38.500000  ...  38.407070  38.042223  38.395000\n",
              "2019-09-06  40.099998  39.049999  39.049999  ...  38.695656  38.080000  38.659999\n",
              "\n",
              "[5 rows x 12 columns]"
            ]
          },
          "metadata": {
            "tags": []
          },
          "execution_count": 14
        },
        {
          "output_type": "display_data",
          "data": {
            "image/png": "[encoded data removed]",
            "text/plain": [
              "<Figure size 432x288 with 1 Axes>"
            ]
          },
          "metadata": {
            "tags": []
          }
        }
      ]
    },
    {
      "cell_type": "markdown",
      "metadata": {
        "id": "ch7SZ7aFjCit",
        "colab_type": "text"
      },
      "source": [
        "# TEMA"
      ]
    },
    {
      "cell_type": "code",
      "metadata": {
        "id": "GeS0aHxZjFtA",
        "colab_type": "code",
        "outputId": "2d2c317d-d99b-4539-d3b7-175faf8394a6",
        "colab": {
          "base_uri": "https://localhost:8080/",
          "height": 642
        }
      },
      "source": [
        "df['TEMA'] = TA.TEMA(ohlcv)\n",
        "print(df['TEMA'].describe())\n",
        "sns.distplot(df['TEMA'].dropna())\n",
        "df.tail()"
      ],
      "execution_count": 15,
      "outputs": [
        {
          "output_type": "stream",
          "text": [
            "count    4924.000000\n",
            "mean       24.465415\n",
            "std        10.976168\n",
            "min         4.580900\n",
            "25%        14.056918\n",
            "50%        27.316516\n",
            "75%        32.524648\n",
            "max        48.845573\n",
            "Name: TEMA, dtype: float64\n"
          ],
          "name": "stdout"
        },
        {
          "output_type": "execute_result",
          "data": {
            "text/html": [
              "<div>\n",
              "<style scoped>\n",
              "    .dataframe tbody tr th:only-of-type {\n",
              "        vertical-align: middle;\n",
              "    }\n",
              "\n",
              "    .dataframe tbody tr th {\n",
              "        vertical-align: top;\n",
              "    }\n",
              "\n",
              "    .dataframe thead th {\n",
              "        text-align: right;\n",
              "    }\n",
              "</style>\n",
              "<table border=\"1\" class=\"dataframe\">\n",
              "  <thead>\n",
              "    <tr style=\"text-align: right;\">\n",
              "      <th></th>\n",
              "      <th>High</th>\n",
              "      <th>Low</th>\n",
              "      <th>Open</th>\n",
              "      <th>Close</th>\n",
              "      <th>Volume</th>\n",
              "      <th>triple_barrier_signal</th>\n",
              "      <th>RSI</th>\n",
              "      <th>Williams %R</th>\n",
              "      <th>SMA</th>\n",
              "      <th>EMA</th>\n",
              "      <th>WMA</th>\n",
              "      <th>HMA</th>\n",
              "      <th>TEMA</th>\n",
              "    </tr>\n",
              "    <tr>\n",
              "      <th>Date</th>\n",
              "      <th></th>\n",
              "      <th></th>\n",
              "      <th></th>\n",
              "      <th></th>\n",
              "      <th></th>\n",
              "      <th></th>\n",
              "      <th></th>\n",
              "      <th></th>\n",
              "      <th></th>\n",
              "      <th></th>\n",
              "      <th></th>\n",
              "      <th></th>\n",
              "      <th></th>\n",
              "    </tr>\n",
              "  </thead>\n",
              "  <tbody>\n",
              "    <tr>\n",
              "      <th>2019-09-02</th>\n",
              "      <td>38.450001</td>\n",
              "      <td>38.049999</td>\n",
              "      <td>38.450001</td>\n",
              "      <td>38.250000</td>\n",
              "      <td>16950621.0</td>\n",
              "      <td>0</td>\n",
              "      <td>45.631946</td>\n",
              "      <td>-14.285753</td>\n",
              "      <td>40.449951</td>\n",
              "      <td>38.176309</td>\n",
              "      <td>37.971112</td>\n",
              "      <td>37.935000</td>\n",
              "      <td>38.151178</td>\n",
              "    </tr>\n",
              "    <tr>\n",
              "      <th>2019-09-03</th>\n",
              "      <td>38.450001</td>\n",
              "      <td>38.250000</td>\n",
              "      <td>38.250000</td>\n",
              "      <td>38.349998</td>\n",
              "      <td>12035375.0</td>\n",
              "      <td>0</td>\n",
              "      <td>47.926160</td>\n",
              "      <td>-10.526548</td>\n",
              "      <td>40.339151</td>\n",
              "      <td>38.211047</td>\n",
              "      <td>37.945556</td>\n",
              "      <td>38.140000</td>\n",
              "      <td>38.291419</td>\n",
              "    </tr>\n",
              "    <tr>\n",
              "      <th>2019-09-04</th>\n",
              "      <td>38.500000</td>\n",
              "      <td>38.250000</td>\n",
              "      <td>38.250000</td>\n",
              "      <td>38.450001</td>\n",
              "      <td>9142411.0</td>\n",
              "      <td>0</td>\n",
              "      <td>50.343993</td>\n",
              "      <td>-4.999924</td>\n",
              "      <td>40.225093</td>\n",
              "      <td>38.258838</td>\n",
              "      <td>37.971111</td>\n",
              "      <td>38.370000</td>\n",
              "      <td>38.427871</td>\n",
              "    </tr>\n",
              "    <tr>\n",
              "      <th>2019-09-05</th>\n",
              "      <td>39.000000</td>\n",
              "      <td>38.500000</td>\n",
              "      <td>38.500000</td>\n",
              "      <td>39.000000</td>\n",
              "      <td>15438292.0</td>\n",
              "      <td>0</td>\n",
              "      <td>61.645234</td>\n",
              "      <td>-0.000000</td>\n",
              "      <td>40.123307</td>\n",
              "      <td>38.407070</td>\n",
              "      <td>38.042223</td>\n",
              "      <td>38.395000</td>\n",
              "      <td>38.778368</td>\n",
              "    </tr>\n",
              "    <tr>\n",
              "      <th>2019-09-06</th>\n",
              "      <td>40.099998</td>\n",
              "      <td>39.049999</td>\n",
              "      <td>39.049999</td>\n",
              "      <td>39.849998</td>\n",
              "      <td>26871485.0</td>\n",
              "      <td>0</td>\n",
              "      <td>72.717608</td>\n",
              "      <td>-9.615390</td>\n",
              "      <td>40.046812</td>\n",
              "      <td>38.695656</td>\n",
              "      <td>38.080000</td>\n",
              "      <td>38.659999</td>\n",
              "      <td>39.407377</td>\n",
              "    </tr>\n",
              "  </tbody>\n",
              "</table>\n",
              "</div>"
            ],
            "text/plain": [
              "                 High        Low       Open  ...        WMA        HMA       TEMA\n",
              "Date                                         ...                                 \n",
              "2019-09-02  38.450001  38.049999  38.450001  ...  37.971112  37.935000  38.151178\n",
              "2019-09-03  38.450001  38.250000  38.250000  ...  37.945556  38.140000  38.291419\n",
              "2019-09-04  38.500000  38.250000  38.250000  ...  37.971111  38.370000  38.427871\n",
              "2019-09-05  39.000000  38.500000  38.500000  ...  38.042223  38.395000  38.778368\n",
              "2019-09-06  40.099998  39.049999  39.049999  ...  38.080000  38.659999  39.407377\n",
              "\n",
              "[5 rows x 13 columns]"
            ]
          },
          "metadata": {
            "tags": []
          },
          "execution_count": 15
        },
        {
          "output_type": "display_data",
          "data": {
            "image/png": "[encoded data removed]",
            "text/plain": [
              "<Figure size 432x288 with 1 Axes>"
            ]
          },
          "metadata": {
            "tags": []
          }
        }
      ]
    },
    {
      "cell_type": "markdown",
      "metadata": {
        "id": "EbMrqw5jjZaa",
        "colab_type": "text"
      },
      "source": [
        "# CCI"
      ]
    },
    {
      "cell_type": "code",
      "metadata": {
        "id": "WBfeDdkUjZiP",
        "colab_type": "code",
        "outputId": "c3a81312-1aac-43c0-9511-1d7b3055197f",
        "colab": {
          "base_uri": "https://localhost:8080/",
          "height": 642
        }
      },
      "source": [
        "df['CCI'] = TA.CCI(ohlcv)\n",
        "print(df['CCI'].describe())\n",
        "sns.distplot(df['CCI'].dropna())\n",
        "df.tail()"
      ],
      "execution_count": 16,
      "outputs": [
        {
          "output_type": "stream",
          "text": [
            "count    4923.000000\n",
            "mean        6.146937\n",
            "std        87.779442\n",
            "min      -248.770947\n",
            "25%       -62.624005\n",
            "50%         8.716654\n",
            "75%        76.268994\n",
            "max       256.327122\n",
            "Name: CCI, dtype: float64\n"
          ],
          "name": "stdout"
        },
        {
          "output_type": "execute_result",
          "data": {
            "text/html": [
              "<div>\n",
              "<style scoped>\n",
              "    .dataframe tbody tr th:only-of-type {\n",
              "        vertical-align: middle;\n",
              "    }\n",
              "\n",
              "    .dataframe tbody tr th {\n",
              "        vertical-align: top;\n",
              "    }\n",
              "\n",
              "    .dataframe thead th {\n",
              "        text-align: right;\n",
              "    }\n",
              "</style>\n",
              "<table border=\"1\" class=\"dataframe\">\n",
              "  <thead>\n",
              "    <tr style=\"text-align: right;\">\n",
              "      <th></th>\n",
              "      <th>High</th>\n",
              "      <th>Low</th>\n",
              "      <th>Open</th>\n",
              "      <th>Close</th>\n",
              "      <th>Volume</th>\n",
              "      <th>triple_barrier_signal</th>\n",
              "      <th>RSI</th>\n",
              "      <th>Williams %R</th>\n",
              "      <th>SMA</th>\n",
              "      <th>EMA</th>\n",
              "      <th>WMA</th>\n",
              "      <th>HMA</th>\n",
              "      <th>TEMA</th>\n",
              "      <th>CCI</th>\n",
              "    </tr>\n",
              "    <tr>\n",
              "      <th>Date</th>\n",
              "      <th></th>\n",
              "      <th></th>\n",
              "      <th></th>\n",
              "      <th></th>\n",
              "      <th></th>\n",
              "      <th></th>\n",
              "      <th></th>\n",
              "      <th></th>\n",
              "      <th></th>\n",
              "      <th></th>\n",
              "      <th></th>\n",
              "      <th></th>\n",
              "      <th></th>\n",
              "      <th></th>\n",
              "    </tr>\n",
              "  </thead>\n",
              "  <tbody>\n",
              "    <tr>\n",
              "      <th>2019-09-02</th>\n",
              "      <td>38.450001</td>\n",
              "      <td>38.049999</td>\n",
              "      <td>38.450001</td>\n",
              "      <td>38.250000</td>\n",
              "      <td>16950621.0</td>\n",
              "      <td>0</td>\n",
              "      <td>45.631946</td>\n",
              "      <td>-14.285753</td>\n",
              "      <td>40.449951</td>\n",
              "      <td>38.176309</td>\n",
              "      <td>37.971112</td>\n",
              "      <td>37.935000</td>\n",
              "      <td>38.151178</td>\n",
              "      <td>-27.051026</td>\n",
              "    </tr>\n",
              "    <tr>\n",
              "      <th>2019-09-03</th>\n",
              "      <td>38.450001</td>\n",
              "      <td>38.250000</td>\n",
              "      <td>38.250000</td>\n",
              "      <td>38.349998</td>\n",
              "      <td>12035375.0</td>\n",
              "      <td>0</td>\n",
              "      <td>47.926160</td>\n",
              "      <td>-10.526548</td>\n",
              "      <td>40.339151</td>\n",
              "      <td>38.211047</td>\n",
              "      <td>37.945556</td>\n",
              "      <td>38.140000</td>\n",
              "      <td>38.291419</td>\n",
              "      <td>-17.181737</td>\n",
              "    </tr>\n",
              "    <tr>\n",
              "      <th>2019-09-04</th>\n",
              "      <td>38.500000</td>\n",
              "      <td>38.250000</td>\n",
              "      <td>38.250000</td>\n",
              "      <td>38.450001</td>\n",
              "      <td>9142411.0</td>\n",
              "      <td>0</td>\n",
              "      <td>50.343993</td>\n",
              "      <td>-4.999924</td>\n",
              "      <td>40.225093</td>\n",
              "      <td>38.258838</td>\n",
              "      <td>37.971111</td>\n",
              "      <td>38.370000</td>\n",
              "      <td>38.427871</td>\n",
              "      <td>-9.174407</td>\n",
              "    </tr>\n",
              "    <tr>\n",
              "      <th>2019-09-05</th>\n",
              "      <td>39.000000</td>\n",
              "      <td>38.500000</td>\n",
              "      <td>38.500000</td>\n",
              "      <td>39.000000</td>\n",
              "      <td>15438292.0</td>\n",
              "      <td>0</td>\n",
              "      <td>61.645234</td>\n",
              "      <td>-0.000000</td>\n",
              "      <td>40.123307</td>\n",
              "      <td>38.407070</td>\n",
              "      <td>38.042223</td>\n",
              "      <td>38.395000</td>\n",
              "      <td>38.778368</td>\n",
              "      <td>21.056878</td>\n",
              "    </tr>\n",
              "    <tr>\n",
              "      <th>2019-09-06</th>\n",
              "      <td>40.099998</td>\n",
              "      <td>39.049999</td>\n",
              "      <td>39.049999</td>\n",
              "      <td>39.849998</td>\n",
              "      <td>26871485.0</td>\n",
              "      <td>0</td>\n",
              "      <td>72.717608</td>\n",
              "      <td>-9.615390</td>\n",
              "      <td>40.046812</td>\n",
              "      <td>38.695656</td>\n",
              "      <td>38.080000</td>\n",
              "      <td>38.659999</td>\n",
              "      <td>39.407377</td>\n",
              "      <td>79.794033</td>\n",
              "    </tr>\n",
              "  </tbody>\n",
              "</table>\n",
              "</div>"
            ],
            "text/plain": [
              "                 High        Low       Open  ...        HMA       TEMA        CCI\n",
              "Date                                         ...                                 \n",
              "2019-09-02  38.450001  38.049999  38.450001  ...  37.935000  38.151178 -27.051026\n",
              "2019-09-03  38.450001  38.250000  38.250000  ...  38.140000  38.291419 -17.181737\n",
              "2019-09-04  38.500000  38.250000  38.250000  ...  38.370000  38.427871  -9.174407\n",
              "2019-09-05  39.000000  38.500000  38.500000  ...  38.395000  38.778368  21.056878\n",
              "2019-09-06  40.099998  39.049999  39.049999  ...  38.659999  39.407377  79.794033\n",
              "\n",
              "[5 rows x 14 columns]"
            ]
          },
          "metadata": {
            "tags": []
          },
          "execution_count": 16
        },
        {
          "output_type": "display_data",
          "data": {
            "image/png": "[encoded data removed]",
            "text/plain": [
              "<Figure size 432x288 with 1 Axes>"
            ]
          },
          "metadata": {
            "tags": []
          }
        }
      ]
    },
    {
      "cell_type": "markdown",
      "metadata": {
        "id": "G8rAJ61cjkJ4",
        "colab_type": "text"
      },
      "source": [
        "# CMO"
      ]
    },
    {
      "cell_type": "code",
      "metadata": {
        "id": "P9EispJmjkj_",
        "colab_type": "code",
        "outputId": "69153d40-d3cb-4c9a-d80e-431801fe3bfd",
        "colab": {
          "base_uri": "https://localhost:8080/",
          "height": 743
        }
      },
      "source": [
        "df['CMO'] = TA.CMO(ohlcv)\n",
        "print(df['CMO'].describe())\n",
        "sns.distplot(df['CMO'].dropna())\n",
        "df.tail()"
      ],
      "execution_count": 17,
      "outputs": [
        {
          "output_type": "stream",
          "text": [
            "count    4915.000000\n",
            "mean        2.074831\n",
            "std        41.560402\n",
            "min      -100.000000\n",
            "25%       -27.776932\n",
            "50%         2.942777\n",
            "75%        32.001650\n",
            "max       100.000000\n",
            "Name: CMO, dtype: float64\n"
          ],
          "name": "stdout"
        },
        {
          "output_type": "execute_result",
          "data": {
            "text/html": [
              "<div>\n",
              "<style scoped>\n",
              "    .dataframe tbody tr th:only-of-type {\n",
              "        vertical-align: middle;\n",
              "    }\n",
              "\n",
              "    .dataframe tbody tr th {\n",
              "        vertical-align: top;\n",
              "    }\n",
              "\n",
              "    .dataframe thead th {\n",
              "        text-align: right;\n",
              "    }\n",
              "</style>\n",
              "<table border=\"1\" class=\"dataframe\">\n",
              "  <thead>\n",
              "    <tr style=\"text-align: right;\">\n",
              "      <th></th>\n",
              "      <th>High</th>\n",
              "      <th>Low</th>\n",
              "      <th>Open</th>\n",
              "      <th>Close</th>\n",
              "      <th>Volume</th>\n",
              "      <th>triple_barrier_signal</th>\n",
              "      <th>RSI</th>\n",
              "      <th>Williams %R</th>\n",
              "      <th>SMA</th>\n",
              "      <th>EMA</th>\n",
              "      <th>WMA</th>\n",
              "      <th>HMA</th>\n",
              "      <th>TEMA</th>\n",
              "      <th>CCI</th>\n",
              "      <th>CMO</th>\n",
              "    </tr>\n",
              "    <tr>\n",
              "      <th>Date</th>\n",
              "      <th></th>\n",
              "      <th></th>\n",
              "      <th></th>\n",
              "      <th></th>\n",
              "      <th></th>\n",
              "      <th></th>\n",
              "      <th></th>\n",
              "      <th></th>\n",
              "      <th></th>\n",
              "      <th></th>\n",
              "      <th></th>\n",
              "      <th></th>\n",
              "      <th></th>\n",
              "      <th></th>\n",
              "      <th></th>\n",
              "    </tr>\n",
              "  </thead>\n",
              "  <tbody>\n",
              "    <tr>\n",
              "      <th>2019-09-02</th>\n",
              "      <td>38.450001</td>\n",
              "      <td>38.049999</td>\n",
              "      <td>38.450001</td>\n",
              "      <td>38.250000</td>\n",
              "      <td>16950621.0</td>\n",
              "      <td>0</td>\n",
              "      <td>45.631946</td>\n",
              "      <td>-14.285753</td>\n",
              "      <td>40.449951</td>\n",
              "      <td>38.176309</td>\n",
              "      <td>37.971112</td>\n",
              "      <td>37.935000</td>\n",
              "      <td>38.151178</td>\n",
              "      <td>-27.051026</td>\n",
              "      <td>6.666712</td>\n",
              "    </tr>\n",
              "    <tr>\n",
              "      <th>2019-09-03</th>\n",
              "      <td>38.450001</td>\n",
              "      <td>38.250000</td>\n",
              "      <td>38.250000</td>\n",
              "      <td>38.349998</td>\n",
              "      <td>12035375.0</td>\n",
              "      <td>0</td>\n",
              "      <td>47.926160</td>\n",
              "      <td>-10.526548</td>\n",
              "      <td>40.339151</td>\n",
              "      <td>38.211047</td>\n",
              "      <td>37.945556</td>\n",
              "      <td>38.140000</td>\n",
              "      <td>38.291419</td>\n",
              "      <td>-17.181737</td>\n",
              "      <td>8.695508</td>\n",
              "    </tr>\n",
              "    <tr>\n",
              "      <th>2019-09-04</th>\n",
              "      <td>38.500000</td>\n",
              "      <td>38.250000</td>\n",
              "      <td>38.250000</td>\n",
              "      <td>38.450001</td>\n",
              "      <td>9142411.0</td>\n",
              "      <td>0</td>\n",
              "      <td>50.343993</td>\n",
              "      <td>-4.999924</td>\n",
              "      <td>40.225093</td>\n",
              "      <td>38.258838</td>\n",
              "      <td>37.971111</td>\n",
              "      <td>38.370000</td>\n",
              "      <td>38.427871</td>\n",
              "      <td>-9.174407</td>\n",
              "      <td>22.727225</td>\n",
              "    </tr>\n",
              "    <tr>\n",
              "      <th>2019-09-05</th>\n",
              "      <td>39.000000</td>\n",
              "      <td>38.500000</td>\n",
              "      <td>38.500000</td>\n",
              "      <td>39.000000</td>\n",
              "      <td>15438292.0</td>\n",
              "      <td>0</td>\n",
              "      <td>61.645234</td>\n",
              "      <td>-0.000000</td>\n",
              "      <td>40.123307</td>\n",
              "      <td>38.407070</td>\n",
              "      <td>38.042223</td>\n",
              "      <td>38.395000</td>\n",
              "      <td>38.778368</td>\n",
              "      <td>21.056878</td>\n",
              "      <td>43.396259</td>\n",
              "    </tr>\n",
              "    <tr>\n",
              "      <th>2019-09-06</th>\n",
              "      <td>40.099998</td>\n",
              "      <td>39.049999</td>\n",
              "      <td>39.049999</td>\n",
              "      <td>39.849998</td>\n",
              "      <td>26871485.0</td>\n",
              "      <td>0</td>\n",
              "      <td>72.717608</td>\n",
              "      <td>-9.615390</td>\n",
              "      <td>40.046812</td>\n",
              "      <td>38.695656</td>\n",
              "      <td>38.080000</td>\n",
              "      <td>38.659999</td>\n",
              "      <td>39.407377</td>\n",
              "      <td>79.794033</td>\n",
              "      <td>52.380918</td>\n",
              "    </tr>\n",
              "  </tbody>\n",
              "</table>\n",
              "</div>"
            ],
            "text/plain": [
              "                 High        Low       Open  ...       TEMA        CCI        CMO\n",
              "Date                                         ...                                 \n",
              "2019-09-02  38.450001  38.049999  38.450001  ...  38.151178 -27.051026   6.666712\n",
              "2019-09-03  38.450001  38.250000  38.250000  ...  38.291419 -17.181737   8.695508\n",
              "2019-09-04  38.500000  38.250000  38.250000  ...  38.427871  -9.174407  22.727225\n",
              "2019-09-05  39.000000  38.500000  38.500000  ...  38.778368  21.056878  43.396259\n",
              "2019-09-06  40.099998  39.049999  39.049999  ...  39.407377  79.794033  52.380918\n",
              "\n",
              "[5 rows x 15 columns]"
            ]
          },
          "metadata": {
            "tags": []
          },
          "execution_count": 17
        },
        {
          "output_type": "display_data",
          "data": {
            "image/png": "[encoded data removed]",
            "text/plain": [
              "<Figure size 432x288 with 1 Axes>"
            ]
          },
          "metadata": {
            "tags": []
          }
        }
      ]
    },
    {
      "cell_type": "markdown",
      "metadata": {
        "id": "35qI_9gZjsR0",
        "colab_type": "text"
      },
      "source": [
        "# MACD"
      ]
    },
    {
      "cell_type": "code",
      "metadata": {
        "id": "5QG4lBEfjsZb",
        "colab_type": "code",
        "outputId": "a4f402b4-7ca2-44e1-f7db-8c1103ddb330",
        "colab": {
          "base_uri": "https://localhost:8080/",
          "height": 763
        }
      },
      "source": [
        "df['MACD'] = TA.MACD(ohlcv)['MACD'] - TA.MACD(ohlcv)['SIGNAL']\n",
        "print(df['MACD'].describe())\n",
        "sns.distplot(df['MACD'].dropna())\n",
        "df.tail()"
      ],
      "execution_count": 18,
      "outputs": [
        {
          "output_type": "stream",
          "text": [
            "count    4924.000000\n",
            "mean       -0.000598\n",
            "std         0.173549\n",
            "min        -0.939441\n",
            "25%        -0.079223\n",
            "50%         0.003108\n",
            "75%         0.089228\n",
            "max         1.068114\n",
            "Name: MACD, dtype: float64\n"
          ],
          "name": "stdout"
        },
        {
          "output_type": "execute_result",
          "data": {
            "text/html": [
              "<div>\n",
              "<style scoped>\n",
              "    .dataframe tbody tr th:only-of-type {\n",
              "        vertical-align: middle;\n",
              "    }\n",
              "\n",
              "    .dataframe tbody tr th {\n",
              "        vertical-align: top;\n",
              "    }\n",
              "\n",
              "    .dataframe thead th {\n",
              "        text-align: right;\n",
              "    }\n",
              "</style>\n",
              "<table border=\"1\" class=\"dataframe\">\n",
              "  <thead>\n",
              "    <tr style=\"text-align: right;\">\n",
              "      <th></th>\n",
              "      <th>High</th>\n",
              "      <th>Low</th>\n",
              "      <th>Open</th>\n",
              "      <th>Close</th>\n",
              "      <th>Volume</th>\n",
              "      <th>triple_barrier_signal</th>\n",
              "      <th>RSI</th>\n",
              "      <th>Williams %R</th>\n",
              "      <th>SMA</th>\n",
              "      <th>EMA</th>\n",
              "      <th>WMA</th>\n",
              "      <th>HMA</th>\n",
              "      <th>TEMA</th>\n",
              "      <th>CCI</th>\n",
              "      <th>CMO</th>\n",
              "      <th>MACD</th>\n",
              "    </tr>\n",
              "    <tr>\n",
              "      <th>Date</th>\n",
              "      <th></th>\n",
              "      <th></th>\n",
              "      <th></th>\n",
              "      <th></th>\n",
              "      <th></th>\n",
              "      <th></th>\n",
              "      <th></th>\n",
              "      <th></th>\n",
              "      <th></th>\n",
              "      <th></th>\n",
              "      <th></th>\n",
              "      <th></th>\n",
              "      <th></th>\n",
              "      <th></th>\n",
              "      <th></th>\n",
              "      <th></th>\n",
              "    </tr>\n",
              "  </thead>\n",
              "  <tbody>\n",
              "    <tr>\n",
              "      <th>2019-09-02</th>\n",
              "      <td>38.450001</td>\n",
              "      <td>38.049999</td>\n",
              "      <td>38.450001</td>\n",
              "      <td>38.250000</td>\n",
              "      <td>16950621.0</td>\n",
              "      <td>0</td>\n",
              "      <td>45.631946</td>\n",
              "      <td>-14.285753</td>\n",
              "      <td>40.449951</td>\n",
              "      <td>38.176309</td>\n",
              "      <td>37.971112</td>\n",
              "      <td>37.935000</td>\n",
              "      <td>38.151178</td>\n",
              "      <td>-27.051026</td>\n",
              "      <td>6.666712</td>\n",
              "      <td>0.067155</td>\n",
              "    </tr>\n",
              "    <tr>\n",
              "      <th>2019-09-03</th>\n",
              "      <td>38.450001</td>\n",
              "      <td>38.250000</td>\n",
              "      <td>38.250000</td>\n",
              "      <td>38.349998</td>\n",
              "      <td>12035375.0</td>\n",
              "      <td>0</td>\n",
              "      <td>47.926160</td>\n",
              "      <td>-10.526548</td>\n",
              "      <td>40.339151</td>\n",
              "      <td>38.211047</td>\n",
              "      <td>37.945556</td>\n",
              "      <td>38.140000</td>\n",
              "      <td>38.291419</td>\n",
              "      <td>-17.181737</td>\n",
              "      <td>8.695508</td>\n",
              "      <td>0.105194</td>\n",
              "    </tr>\n",
              "    <tr>\n",
              "      <th>2019-09-04</th>\n",
              "      <td>38.500000</td>\n",
              "      <td>38.250000</td>\n",
              "      <td>38.250000</td>\n",
              "      <td>38.450001</td>\n",
              "      <td>9142411.0</td>\n",
              "      <td>0</td>\n",
              "      <td>50.343993</td>\n",
              "      <td>-4.999924</td>\n",
              "      <td>40.225093</td>\n",
              "      <td>38.258838</td>\n",
              "      <td>37.971111</td>\n",
              "      <td>38.370000</td>\n",
              "      <td>38.427871</td>\n",
              "      <td>-9.174407</td>\n",
              "      <td>22.727225</td>\n",
              "      <td>0.137963</td>\n",
              "    </tr>\n",
              "    <tr>\n",
              "      <th>2019-09-05</th>\n",
              "      <td>39.000000</td>\n",
              "      <td>38.500000</td>\n",
              "      <td>38.500000</td>\n",
              "      <td>39.000000</td>\n",
              "      <td>15438292.0</td>\n",
              "      <td>0</td>\n",
              "      <td>61.645234</td>\n",
              "      <td>-0.000000</td>\n",
              "      <td>40.123307</td>\n",
              "      <td>38.407070</td>\n",
              "      <td>38.042223</td>\n",
              "      <td>38.395000</td>\n",
              "      <td>38.778368</td>\n",
              "      <td>21.056878</td>\n",
              "      <td>43.396259</td>\n",
              "      <td>0.194114</td>\n",
              "    </tr>\n",
              "    <tr>\n",
              "      <th>2019-09-06</th>\n",
              "      <td>40.099998</td>\n",
              "      <td>39.049999</td>\n",
              "      <td>39.049999</td>\n",
              "      <td>39.849998</td>\n",
              "      <td>26871485.0</td>\n",
              "      <td>0</td>\n",
              "      <td>72.717608</td>\n",
              "      <td>-9.615390</td>\n",
              "      <td>40.046812</td>\n",
              "      <td>38.695656</td>\n",
              "      <td>38.080000</td>\n",
              "      <td>38.659999</td>\n",
              "      <td>39.407377</td>\n",
              "      <td>79.794033</td>\n",
              "      <td>52.380918</td>\n",
              "      <td>0.280679</td>\n",
              "    </tr>\n",
              "  </tbody>\n",
              "</table>\n",
              "</div>"
            ],
            "text/plain": [
              "                 High        Low       Open  ...        CCI        CMO      MACD\n",
              "Date                                         ...                                \n",
              "2019-09-02  38.450001  38.049999  38.450001  ... -27.051026   6.666712  0.067155\n",
              "2019-09-03  38.450001  38.250000  38.250000  ... -17.181737   8.695508  0.105194\n",
              "2019-09-04  38.500000  38.250000  38.250000  ...  -9.174407  22.727225  0.137963\n",
              "2019-09-05  39.000000  38.500000  38.500000  ...  21.056878  43.396259  0.194114\n",
              "2019-09-06  40.099998  39.049999  39.049999  ...  79.794033  52.380918  0.280679\n",
              "\n",
              "[5 rows x 16 columns]"
            ]
          },
          "metadata": {
            "tags": []
          },
          "execution_count": 18
        },
        {
          "output_type": "display_data",
          "data": {
            "image/png": "[encoded data removed]",
            "text/plain": [
              "<Figure size 432x288 with 1 Axes>"
            ]
          },
          "metadata": {
            "tags": []
          }
        }
      ]
    },
    {
      "cell_type": "markdown",
      "metadata": {
        "id": "roEAzvV7liUA",
        "colab_type": "text"
      },
      "source": [
        "# PPO"
      ]
    },
    {
      "cell_type": "code",
      "metadata": {
        "id": "ovCLHYPXli73",
        "colab_type": "code",
        "outputId": "000943fb-6829-4a26-9599-af40360da7d2",
        "colab": {
          "base_uri": "https://localhost:8080/",
          "height": 763
        }
      },
      "source": [
        "df['PPO'] = TA.PPO(ohlcv)['PPO'] - TA.PPO(ohlcv)['SIGNAL']\n",
        "print(df['PPO'].describe())\n",
        "sns.distplot(df['PPO'].dropna())\n",
        "df.tail()"
      ],
      "execution_count": 19,
      "outputs": [
        {
          "output_type": "stream",
          "text": [
            "count    4924.000000\n",
            "mean       -0.001528\n",
            "std         0.773727\n",
            "min        -3.271988\n",
            "25%        -0.382411\n",
            "50%        -0.005235\n",
            "75%         0.377056\n",
            "max         4.481763\n",
            "Name: PPO, dtype: float64\n"
          ],
          "name": "stdout"
        },
        {
          "output_type": "execute_result",
          "data": {
            "text/html": [
              "<div>\n",
              "<style scoped>\n",
              "    .dataframe tbody tr th:only-of-type {\n",
              "        vertical-align: middle;\n",
              "    }\n",
              "\n",
              "    .dataframe tbody tr th {\n",
              "        vertical-align: top;\n",
              "    }\n",
              "\n",
              "    .dataframe thead th {\n",
              "        text-align: right;\n",
              "    }\n",
              "</style>\n",
              "<table border=\"1\" class=\"dataframe\">\n",
              "  <thead>\n",
              "    <tr style=\"text-align: right;\">\n",
              "      <th></th>\n",
              "      <th>High</th>\n",
              "      <th>Low</th>\n",
              "      <th>Open</th>\n",
              "      <th>Close</th>\n",
              "      <th>Volume</th>\n",
              "      <th>triple_barrier_signal</th>\n",
              "      <th>RSI</th>\n",
              "      <th>Williams %R</th>\n",
              "      <th>SMA</th>\n",
              "      <th>EMA</th>\n",
              "      <th>WMA</th>\n",
              "      <th>HMA</th>\n",
              "      <th>TEMA</th>\n",
              "      <th>CCI</th>\n",
              "      <th>CMO</th>\n",
              "      <th>MACD</th>\n",
              "      <th>PPO</th>\n",
              "    </tr>\n",
              "    <tr>\n",
              "      <th>Date</th>\n",
              "      <th></th>\n",
              "      <th></th>\n",
              "      <th></th>\n",
              "      <th></th>\n",
              "      <th></th>\n",
              "      <th></th>\n",
              "      <th></th>\n",
              "      <th></th>\n",
              "      <th></th>\n",
              "      <th></th>\n",
              "      <th></th>\n",
              "      <th></th>\n",
              "      <th></th>\n",
              "      <th></th>\n",
              "      <th></th>\n",
              "      <th></th>\n",
              "      <th></th>\n",
              "    </tr>\n",
              "  </thead>\n",
              "  <tbody>\n",
              "    <tr>\n",
              "      <th>2019-09-02</th>\n",
              "      <td>38.450001</td>\n",
              "      <td>38.049999</td>\n",
              "      <td>38.450001</td>\n",
              "      <td>38.250000</td>\n",
              "      <td>16950621.0</td>\n",
              "      <td>0</td>\n",
              "      <td>45.631946</td>\n",
              "      <td>-14.285753</td>\n",
              "      <td>40.449951</td>\n",
              "      <td>38.176309</td>\n",
              "      <td>37.971112</td>\n",
              "      <td>37.935000</td>\n",
              "      <td>38.151178</td>\n",
              "      <td>-27.051026</td>\n",
              "      <td>6.666712</td>\n",
              "      <td>0.067155</td>\n",
              "      <td>0.148518</td>\n",
              "    </tr>\n",
              "    <tr>\n",
              "      <th>2019-09-03</th>\n",
              "      <td>38.450001</td>\n",
              "      <td>38.250000</td>\n",
              "      <td>38.250000</td>\n",
              "      <td>38.349998</td>\n",
              "      <td>12035375.0</td>\n",
              "      <td>0</td>\n",
              "      <td>47.926160</td>\n",
              "      <td>-10.526548</td>\n",
              "      <td>40.339151</td>\n",
              "      <td>38.211047</td>\n",
              "      <td>37.945556</td>\n",
              "      <td>38.140000</td>\n",
              "      <td>38.291419</td>\n",
              "      <td>-17.181737</td>\n",
              "      <td>8.695508</td>\n",
              "      <td>0.105194</td>\n",
              "      <td>0.247748</td>\n",
              "    </tr>\n",
              "    <tr>\n",
              "      <th>2019-09-04</th>\n",
              "      <td>38.500000</td>\n",
              "      <td>38.250000</td>\n",
              "      <td>38.250000</td>\n",
              "      <td>38.450001</td>\n",
              "      <td>9142411.0</td>\n",
              "      <td>0</td>\n",
              "      <td>50.343993</td>\n",
              "      <td>-4.999924</td>\n",
              "      <td>40.225093</td>\n",
              "      <td>38.258838</td>\n",
              "      <td>37.971111</td>\n",
              "      <td>38.370000</td>\n",
              "      <td>38.427871</td>\n",
              "      <td>-9.174407</td>\n",
              "      <td>22.727225</td>\n",
              "      <td>0.137963</td>\n",
              "      <td>0.333963</td>\n",
              "    </tr>\n",
              "    <tr>\n",
              "      <th>2019-09-05</th>\n",
              "      <td>39.000000</td>\n",
              "      <td>38.500000</td>\n",
              "      <td>38.500000</td>\n",
              "      <td>39.000000</td>\n",
              "      <td>15438292.0</td>\n",
              "      <td>0</td>\n",
              "      <td>61.645234</td>\n",
              "      <td>-0.000000</td>\n",
              "      <td>40.123307</td>\n",
              "      <td>38.407070</td>\n",
              "      <td>38.042223</td>\n",
              "      <td>38.395000</td>\n",
              "      <td>38.778368</td>\n",
              "      <td>21.056878</td>\n",
              "      <td>43.396259</td>\n",
              "      <td>0.194114</td>\n",
              "      <td>0.481426</td>\n",
              "    </tr>\n",
              "    <tr>\n",
              "      <th>2019-09-06</th>\n",
              "      <td>40.099998</td>\n",
              "      <td>39.049999</td>\n",
              "      <td>39.049999</td>\n",
              "      <td>39.849998</td>\n",
              "      <td>26871485.0</td>\n",
              "      <td>0</td>\n",
              "      <td>72.717608</td>\n",
              "      <td>-9.615390</td>\n",
              "      <td>40.046812</td>\n",
              "      <td>38.695656</td>\n",
              "      <td>38.080000</td>\n",
              "      <td>38.659999</td>\n",
              "      <td>39.407377</td>\n",
              "      <td>79.794033</td>\n",
              "      <td>52.380918</td>\n",
              "      <td>0.280679</td>\n",
              "      <td>0.707580</td>\n",
              "    </tr>\n",
              "  </tbody>\n",
              "</table>\n",
              "</div>"
            ],
            "text/plain": [
              "                 High        Low       Open  ...        CMO      MACD       PPO\n",
              "Date                                         ...                               \n",
              "2019-09-02  38.450001  38.049999  38.450001  ...   6.666712  0.067155  0.148518\n",
              "2019-09-03  38.450001  38.250000  38.250000  ...   8.695508  0.105194  0.247748\n",
              "2019-09-04  38.500000  38.250000  38.250000  ...  22.727225  0.137963  0.333963\n",
              "2019-09-05  39.000000  38.500000  38.500000  ...  43.396259  0.194114  0.481426\n",
              "2019-09-06  40.099998  39.049999  39.049999  ...  52.380918  0.280679  0.707580\n",
              "\n",
              "[5 rows x 17 columns]"
            ]
          },
          "metadata": {
            "tags": []
          },
          "execution_count": 19
        },
        {
          "output_type": "display_data",
          "data": {
            "image/png": "[encoded data removed]",
            "text/plain": [
              "<Figure size 432x288 with 1 Axes>"
            ]
          },
          "metadata": {
            "tags": []
          }
        }
      ]
    },
    {
      "cell_type": "markdown",
      "metadata": {
        "id": "5BBE8vaWmdGN",
        "colab_type": "text"
      },
      "source": [
        "# ROC"
      ]
    },
    {
      "cell_type": "code",
      "metadata": {
        "id": "OKI3MqwhmdOj",
        "colab_type": "code",
        "outputId": "367c7249-e471-4f57-b229-64e9cd065673",
        "colab": {
          "base_uri": "https://localhost:8080/",
          "height": 763
        }
      },
      "source": [
        "df['ROC'] = TA.ROC(ohlcv)\n",
        "print(df['ROC'].describe())\n",
        "sns.distplot(df['ROC'].dropna())\n",
        "df.tail()"
      ],
      "execution_count": 20,
      "outputs": [
        {
          "output_type": "stream",
          "text": [
            "count    4912.000000\n",
            "mean        0.505667\n",
            "std         8.062320\n",
            "min       -37.298819\n",
            "25%        -3.605771\n",
            "50%         0.401055\n",
            "75%         4.290795\n",
            "max        59.222621\n",
            "Name: ROC, dtype: float64\n"
          ],
          "name": "stdout"
        },
        {
          "output_type": "execute_result",
          "data": {
            "text/html": [
              "<div>\n",
              "<style scoped>\n",
              "    .dataframe tbody tr th:only-of-type {\n",
              "        vertical-align: middle;\n",
              "    }\n",
              "\n",
              "    .dataframe tbody tr th {\n",
              "        vertical-align: top;\n",
              "    }\n",
              "\n",
              "    .dataframe thead th {\n",
              "        text-align: right;\n",
              "    }\n",
              "</style>\n",
              "<table border=\"1\" class=\"dataframe\">\n",
              "  <thead>\n",
              "    <tr style=\"text-align: right;\">\n",
              "      <th></th>\n",
              "      <th>High</th>\n",
              "      <th>Low</th>\n",
              "      <th>Open</th>\n",
              "      <th>Close</th>\n",
              "      <th>Volume</th>\n",
              "      <th>triple_barrier_signal</th>\n",
              "      <th>RSI</th>\n",
              "      <th>Williams %R</th>\n",
              "      <th>SMA</th>\n",
              "      <th>EMA</th>\n",
              "      <th>WMA</th>\n",
              "      <th>HMA</th>\n",
              "      <th>TEMA</th>\n",
              "      <th>CCI</th>\n",
              "      <th>CMO</th>\n",
              "      <th>MACD</th>\n",
              "      <th>PPO</th>\n",
              "      <th>ROC</th>\n",
              "    </tr>\n",
              "    <tr>\n",
              "      <th>Date</th>\n",
              "      <th></th>\n",
              "      <th></th>\n",
              "      <th></th>\n",
              "      <th></th>\n",
              "      <th></th>\n",
              "      <th></th>\n",
              "      <th></th>\n",
              "      <th></th>\n",
              "      <th></th>\n",
              "      <th></th>\n",
              "      <th></th>\n",
              "      <th></th>\n",
              "      <th></th>\n",
              "      <th></th>\n",
              "      <th></th>\n",
              "      <th></th>\n",
              "      <th></th>\n",
              "      <th></th>\n",
              "    </tr>\n",
              "  </thead>\n",
              "  <tbody>\n",
              "    <tr>\n",
              "      <th>2019-09-02</th>\n",
              "      <td>38.450001</td>\n",
              "      <td>38.049999</td>\n",
              "      <td>38.450001</td>\n",
              "      <td>38.250000</td>\n",
              "      <td>16950621.0</td>\n",
              "      <td>0</td>\n",
              "      <td>45.631946</td>\n",
              "      <td>-14.285753</td>\n",
              "      <td>40.449951</td>\n",
              "      <td>38.176309</td>\n",
              "      <td>37.971112</td>\n",
              "      <td>37.935000</td>\n",
              "      <td>38.151178</td>\n",
              "      <td>-27.051026</td>\n",
              "      <td>6.666712</td>\n",
              "      <td>0.067155</td>\n",
              "      <td>0.148518</td>\n",
              "      <td>-0.130546</td>\n",
              "    </tr>\n",
              "    <tr>\n",
              "      <th>2019-09-03</th>\n",
              "      <td>38.450001</td>\n",
              "      <td>38.250000</td>\n",
              "      <td>38.250000</td>\n",
              "      <td>38.349998</td>\n",
              "      <td>12035375.0</td>\n",
              "      <td>0</td>\n",
              "      <td>47.926160</td>\n",
              "      <td>-10.526548</td>\n",
              "      <td>40.339151</td>\n",
              "      <td>38.211047</td>\n",
              "      <td>37.945556</td>\n",
              "      <td>38.140000</td>\n",
              "      <td>38.291419</td>\n",
              "      <td>-17.181737</td>\n",
              "      <td>8.695508</td>\n",
              "      <td>0.105194</td>\n",
              "      <td>0.247748</td>\n",
              "      <td>0.921049</td>\n",
              "    </tr>\n",
              "    <tr>\n",
              "      <th>2019-09-04</th>\n",
              "      <td>38.500000</td>\n",
              "      <td>38.250000</td>\n",
              "      <td>38.250000</td>\n",
              "      <td>38.450001</td>\n",
              "      <td>9142411.0</td>\n",
              "      <td>0</td>\n",
              "      <td>50.343993</td>\n",
              "      <td>-4.999924</td>\n",
              "      <td>40.225093</td>\n",
              "      <td>38.258838</td>\n",
              "      <td>37.971111</td>\n",
              "      <td>38.370000</td>\n",
              "      <td>38.427871</td>\n",
              "      <td>-9.174407</td>\n",
              "      <td>22.727225</td>\n",
              "      <td>0.137963</td>\n",
              "      <td>0.333963</td>\n",
              "      <td>1.317523</td>\n",
              "    </tr>\n",
              "    <tr>\n",
              "      <th>2019-09-05</th>\n",
              "      <td>39.000000</td>\n",
              "      <td>38.500000</td>\n",
              "      <td>38.500000</td>\n",
              "      <td>39.000000</td>\n",
              "      <td>15438292.0</td>\n",
              "      <td>0</td>\n",
              "      <td>61.645234</td>\n",
              "      <td>-0.000000</td>\n",
              "      <td>40.123307</td>\n",
              "      <td>38.407070</td>\n",
              "      <td>38.042223</td>\n",
              "      <td>38.395000</td>\n",
              "      <td>38.778368</td>\n",
              "      <td>21.056878</td>\n",
              "      <td>43.396259</td>\n",
              "      <td>0.194114</td>\n",
              "      <td>0.481426</td>\n",
              "      <td>2.362209</td>\n",
              "    </tr>\n",
              "    <tr>\n",
              "      <th>2019-09-06</th>\n",
              "      <td>40.099998</td>\n",
              "      <td>39.049999</td>\n",
              "      <td>39.049999</td>\n",
              "      <td>39.849998</td>\n",
              "      <td>26871485.0</td>\n",
              "      <td>0</td>\n",
              "      <td>72.717608</td>\n",
              "      <td>-9.615390</td>\n",
              "      <td>40.046812</td>\n",
              "      <td>38.695656</td>\n",
              "      <td>38.080000</td>\n",
              "      <td>38.659999</td>\n",
              "      <td>39.407377</td>\n",
              "      <td>79.794033</td>\n",
              "      <td>52.380918</td>\n",
              "      <td>0.280679</td>\n",
              "      <td>0.707580</td>\n",
              "      <td>4.456086</td>\n",
              "    </tr>\n",
              "  </tbody>\n",
              "</table>\n",
              "</div>"
            ],
            "text/plain": [
              "                 High        Low       Open  ...      MACD       PPO       ROC\n",
              "Date                                         ...                              \n",
              "2019-09-02  38.450001  38.049999  38.450001  ...  0.067155  0.148518 -0.130546\n",
              "2019-09-03  38.450001  38.250000  38.250000  ...  0.105194  0.247748  0.921049\n",
              "2019-09-04  38.500000  38.250000  38.250000  ...  0.137963  0.333963  1.317523\n",
              "2019-09-05  39.000000  38.500000  38.500000  ...  0.194114  0.481426  2.362209\n",
              "2019-09-06  40.099998  39.049999  39.049999  ...  0.280679  0.707580  4.456086\n",
              "\n",
              "[5 rows x 18 columns]"
            ]
          },
          "metadata": {
            "tags": []
          },
          "execution_count": 20
        },
        {
          "output_type": "display_data",
          "data": {
            "image/png": "[encoded data removed]",
            "text/plain": [
              "<Figure size 432x288 with 1 Axes>"
            ]
          },
          "metadata": {
            "tags": []
          }
        }
      ]
    },
    {
      "cell_type": "markdown",
      "metadata": {
        "id": "b9LTKsyvmuSd",
        "colab_type": "text"
      },
      "source": [
        "# CMFI"
      ]
    },
    {
      "cell_type": "code",
      "metadata": {
        "id": "somnlSTOmvjJ",
        "colab_type": "code",
        "outputId": "3d44bbcf-7a37-482d-a35a-d709bf3efbba",
        "colab": {
          "base_uri": "https://localhost:8080/",
          "height": 770
        }
      },
      "source": [
        "df['CFI'] = TA.CFI(ohlcv)\n",
        "print(df['CFI'].describe())\n",
        "sns.distplot(df['CFI'].dropna())\n",
        "df.tail()"
      ],
      "execution_count": 21,
      "outputs": [
        {
          "output_type": "stream",
          "text": [
            "count    4.915000e+03\n",
            "mean     1.773441e+12\n",
            "std      3.711584e+11\n",
            "min      3.920656e+09\n",
            "25%      1.679980e+12\n",
            "50%      1.999693e+12\n",
            "75%      2.000144e+12\n",
            "max      2.000755e+12\n",
            "Name: CFI, dtype: float64\n"
          ],
          "name": "stdout"
        },
        {
          "output_type": "execute_result",
          "data": {
            "text/html": [
              "<div>\n",
              "<style scoped>\n",
              "    .dataframe tbody tr th:only-of-type {\n",
              "        vertical-align: middle;\n",
              "    }\n",
              "\n",
              "    .dataframe tbody tr th {\n",
              "        vertical-align: top;\n",
              "    }\n",
              "\n",
              "    .dataframe thead th {\n",
              "        text-align: right;\n",
              "    }\n",
              "</style>\n",
              "<table border=\"1\" class=\"dataframe\">\n",
              "  <thead>\n",
              "    <tr style=\"text-align: right;\">\n",
              "      <th></th>\n",
              "      <th>High</th>\n",
              "      <th>Low</th>\n",
              "      <th>Open</th>\n",
              "      <th>Close</th>\n",
              "      <th>Volume</th>\n",
              "      <th>triple_barrier_signal</th>\n",
              "      <th>RSI</th>\n",
              "      <th>Williams %R</th>\n",
              "      <th>SMA</th>\n",
              "      <th>EMA</th>\n",
              "      <th>WMA</th>\n",
              "      <th>HMA</th>\n",
              "      <th>TEMA</th>\n",
              "      <th>CCI</th>\n",
              "      <th>CMO</th>\n",
              "      <th>MACD</th>\n",
              "      <th>PPO</th>\n",
              "      <th>ROC</th>\n",
              "      <th>CFI</th>\n",
              "    </tr>\n",
              "    <tr>\n",
              "      <th>Date</th>\n",
              "      <th></th>\n",
              "      <th></th>\n",
              "      <th></th>\n",
              "      <th></th>\n",
              "      <th></th>\n",
              "      <th></th>\n",
              "      <th></th>\n",
              "      <th></th>\n",
              "      <th></th>\n",
              "      <th></th>\n",
              "      <th></th>\n",
              "      <th></th>\n",
              "      <th></th>\n",
              "      <th></th>\n",
              "      <th></th>\n",
              "      <th></th>\n",
              "      <th></th>\n",
              "      <th></th>\n",
              "      <th></th>\n",
              "    </tr>\n",
              "  </thead>\n",
              "  <tbody>\n",
              "    <tr>\n",
              "      <th>2019-09-02</th>\n",
              "      <td>38.450001</td>\n",
              "      <td>38.049999</td>\n",
              "      <td>38.450001</td>\n",
              "      <td>38.250000</td>\n",
              "      <td>16950621.0</td>\n",
              "      <td>0</td>\n",
              "      <td>45.631946</td>\n",
              "      <td>-14.285753</td>\n",
              "      <td>40.449951</td>\n",
              "      <td>38.176309</td>\n",
              "      <td>37.971112</td>\n",
              "      <td>37.935000</td>\n",
              "      <td>38.151178</td>\n",
              "      <td>-27.051026</td>\n",
              "      <td>6.666712</td>\n",
              "      <td>0.067155</td>\n",
              "      <td>0.148518</td>\n",
              "      <td>-0.130546</td>\n",
              "      <td>2.000377e+12</td>\n",
              "    </tr>\n",
              "    <tr>\n",
              "      <th>2019-09-03</th>\n",
              "      <td>38.450001</td>\n",
              "      <td>38.250000</td>\n",
              "      <td>38.250000</td>\n",
              "      <td>38.349998</td>\n",
              "      <td>12035375.0</td>\n",
              "      <td>0</td>\n",
              "      <td>47.926160</td>\n",
              "      <td>-10.526548</td>\n",
              "      <td>40.339151</td>\n",
              "      <td>38.211047</td>\n",
              "      <td>37.945556</td>\n",
              "      <td>38.140000</td>\n",
              "      <td>38.291419</td>\n",
              "      <td>-17.181737</td>\n",
              "      <td>8.695508</td>\n",
              "      <td>0.105194</td>\n",
              "      <td>0.247748</td>\n",
              "      <td>0.921049</td>\n",
              "      <td>2.000376e+12</td>\n",
              "    </tr>\n",
              "    <tr>\n",
              "      <th>2019-09-04</th>\n",
              "      <td>38.500000</td>\n",
              "      <td>38.250000</td>\n",
              "      <td>38.250000</td>\n",
              "      <td>38.450001</td>\n",
              "      <td>9142411.0</td>\n",
              "      <td>0</td>\n",
              "      <td>50.343993</td>\n",
              "      <td>-4.999924</td>\n",
              "      <td>40.225093</td>\n",
              "      <td>38.258838</td>\n",
              "      <td>37.971111</td>\n",
              "      <td>38.370000</td>\n",
              "      <td>38.427871</td>\n",
              "      <td>-9.174407</td>\n",
              "      <td>22.727225</td>\n",
              "      <td>0.137963</td>\n",
              "      <td>0.333963</td>\n",
              "      <td>1.317523</td>\n",
              "      <td>2.000376e+12</td>\n",
              "    </tr>\n",
              "    <tr>\n",
              "      <th>2019-09-05</th>\n",
              "      <td>39.000000</td>\n",
              "      <td>38.500000</td>\n",
              "      <td>38.500000</td>\n",
              "      <td>39.000000</td>\n",
              "      <td>15438292.0</td>\n",
              "      <td>0</td>\n",
              "      <td>61.645234</td>\n",
              "      <td>-0.000000</td>\n",
              "      <td>40.123307</td>\n",
              "      <td>38.407070</td>\n",
              "      <td>38.042223</td>\n",
              "      <td>38.395000</td>\n",
              "      <td>38.778368</td>\n",
              "      <td>21.056878</td>\n",
              "      <td>43.396259</td>\n",
              "      <td>0.194114</td>\n",
              "      <td>0.481426</td>\n",
              "      <td>2.362209</td>\n",
              "      <td>2.000377e+12</td>\n",
              "    </tr>\n",
              "    <tr>\n",
              "      <th>2019-09-06</th>\n",
              "      <td>40.099998</td>\n",
              "      <td>39.049999</td>\n",
              "      <td>39.049999</td>\n",
              "      <td>39.849998</td>\n",
              "      <td>26871485.0</td>\n",
              "      <td>0</td>\n",
              "      <td>72.717608</td>\n",
              "      <td>-9.615390</td>\n",
              "      <td>40.046812</td>\n",
              "      <td>38.695656</td>\n",
              "      <td>38.080000</td>\n",
              "      <td>38.659999</td>\n",
              "      <td>39.407377</td>\n",
              "      <td>79.794033</td>\n",
              "      <td>52.380918</td>\n",
              "      <td>0.280679</td>\n",
              "      <td>0.707580</td>\n",
              "      <td>4.456086</td>\n",
              "      <td>2.000382e+12</td>\n",
              "    </tr>\n",
              "  </tbody>\n",
              "</table>\n",
              "</div>"
            ],
            "text/plain": [
              "                 High        Low       Open  ...       PPO       ROC           CFI\n",
              "Date                                         ...                                  \n",
              "2019-09-02  38.450001  38.049999  38.450001  ...  0.148518 -0.130546  2.000377e+12\n",
              "2019-09-03  38.450001  38.250000  38.250000  ...  0.247748  0.921049  2.000376e+12\n",
              "2019-09-04  38.500000  38.250000  38.250000  ...  0.333963  1.317523  2.000376e+12\n",
              "2019-09-05  39.000000  38.500000  38.500000  ...  0.481426  2.362209  2.000377e+12\n",
              "2019-09-06  40.099998  39.049999  39.049999  ...  0.707580  4.456086  2.000382e+12\n",
              "\n",
              "[5 rows x 19 columns]"
            ]
          },
          "metadata": {
            "tags": []
          },
          "execution_count": 21
        },
        {
          "output_type": "display_data",
          "data": {
            "image/png": "[encoded data removed]",
            "text/plain": [
              "<Figure size 432x288 with 1 Axes>"
            ]
          },
          "metadata": {
            "tags": []
          }
        }
      ]
    },
    {
      "cell_type": "markdown",
      "metadata": {
        "id": "8WydSl0doUYk",
        "colab_type": "text"
      },
      "source": [
        "# DMI"
      ]
    },
    {
      "cell_type": "code",
      "metadata": {
        "id": "xRTnC6DboU05",
        "colab_type": "code",
        "outputId": "aff82145-ffb5-4603-f5a6-e24d0787eaee",
        "colab": {
          "base_uri": "https://localhost:8080/",
          "height": 1000
        }
      },
      "source": [
        "df['DMI'] = TA.DMI(ohlcv)['DI+'] - TA.DMI(ohlcv)['DI-']\n",
        "print(df['DMI'].describe())\n",
        "sns.distplot(df['DMI'].dropna())\n",
        "df.tail()"
      ],
      "execution_count": 22,
      "outputs": [
        {
          "output_type": "stream",
          "text": [
            "/usr/local/lib/python3.6/dist-packages/finta/finta.py:792: SettingWithCopyWarning: \n",
            "A value is trying to be set on a copy of a slice from a DataFrame.\n",
            "Try using .loc[row_indexer,col_indexer] = value instead\n",
            "\n",
            "See the caveats in the documentation: http://pandas.pydata.org/pandas-docs/stable/indexing.html#indexing-view-versus-copy\n",
            "  ohlc[\"up_move\"] = ohlc[\"high\"].diff()\n",
            "/usr/local/lib/python3.6/dist-packages/finta/finta.py:793: SettingWithCopyWarning: \n",
            "A value is trying to be set on a copy of a slice from a DataFrame.\n",
            "Try using .loc[row_indexer,col_indexer] = value instead\n",
            "\n",
            "See the caveats in the documentation: http://pandas.pydata.org/pandas-docs/stable/indexing.html#indexing-view-versus-copy\n",
            "  ohlc[\"down_move\"] = -ohlc[\"low\"].diff()\n",
            "/usr/local/lib/python3.6/dist-packages/finta/finta.py:809: SettingWithCopyWarning: \n",
            "A value is trying to be set on a copy of a slice from a DataFrame.\n",
            "Try using .loc[row_indexer,col_indexer] = value instead\n",
            "\n",
            "See the caveats in the documentation: http://pandas.pydata.org/pandas-docs/stable/indexing.html#indexing-view-versus-copy\n",
            "  ohlc[\"DMp\"] = DMp\n",
            "/usr/local/lib/python3.6/dist-packages/finta/finta.py:810: SettingWithCopyWarning: \n",
            "A value is trying to be set on a copy of a slice from a DataFrame.\n",
            "Try using .loc[row_indexer,col_indexer] = value instead\n",
            "\n",
            "See the caveats in the documentation: http://pandas.pydata.org/pandas-docs/stable/indexing.html#indexing-view-versus-copy\n",
            "  ohlc[\"DMm\"] = DMm\n"
          ],
          "name": "stderr"
        },
        {
          "output_type": "stream",
          "text": [
            "count    4841.000000\n",
            "mean        2.926466\n",
            "std        21.847175\n",
            "min      -106.418797\n",
            "25%       -10.131990\n",
            "50%         2.400520\n",
            "75%        14.768660\n",
            "max       111.272870\n",
            "Name: DMI, dtype: float64\n"
          ],
          "name": "stdout"
        },
        {
          "output_type": "execute_result",
          "data": {
            "text/html": [
              "<div>\n",
              "<style scoped>\n",
              "    .dataframe tbody tr th:only-of-type {\n",
              "        vertical-align: middle;\n",
              "    }\n",
              "\n",
              "    .dataframe tbody tr th {\n",
              "        vertical-align: top;\n",
              "    }\n",
              "\n",
              "    .dataframe thead th {\n",
              "        text-align: right;\n",
              "    }\n",
              "</style>\n",
              "<table border=\"1\" class=\"dataframe\">\n",
              "  <thead>\n",
              "    <tr style=\"text-align: right;\">\n",
              "      <th></th>\n",
              "      <th>High</th>\n",
              "      <th>Low</th>\n",
              "      <th>Open</th>\n",
              "      <th>Close</th>\n",
              "      <th>Volume</th>\n",
              "      <th>triple_barrier_signal</th>\n",
              "      <th>RSI</th>\n",
              "      <th>Williams %R</th>\n",
              "      <th>SMA</th>\n",
              "      <th>EMA</th>\n",
              "      <th>WMA</th>\n",
              "      <th>HMA</th>\n",
              "      <th>TEMA</th>\n",
              "      <th>CCI</th>\n",
              "      <th>CMO</th>\n",
              "      <th>MACD</th>\n",
              "      <th>PPO</th>\n",
              "      <th>ROC</th>\n",
              "      <th>CFI</th>\n",
              "      <th>DMI</th>\n",
              "    </tr>\n",
              "    <tr>\n",
              "      <th>Date</th>\n",
              "      <th></th>\n",
              "      <th></th>\n",
              "      <th></th>\n",
              "      <th></th>\n",
              "      <th></th>\n",
              "      <th></th>\n",
              "      <th></th>\n",
              "      <th></th>\n",
              "      <th></th>\n",
              "      <th></th>\n",
              "      <th></th>\n",
              "      <th></th>\n",
              "      <th></th>\n",
              "      <th></th>\n",
              "      <th></th>\n",
              "      <th></th>\n",
              "      <th></th>\n",
              "      <th></th>\n",
              "      <th></th>\n",
              "      <th></th>\n",
              "    </tr>\n",
              "  </thead>\n",
              "  <tbody>\n",
              "    <tr>\n",
              "      <th>2019-09-02</th>\n",
              "      <td>38.450001</td>\n",
              "      <td>38.049999</td>\n",
              "      <td>38.450001</td>\n",
              "      <td>38.250000</td>\n",
              "      <td>16950621.0</td>\n",
              "      <td>0</td>\n",
              "      <td>45.631946</td>\n",
              "      <td>-14.285753</td>\n",
              "      <td>40.449951</td>\n",
              "      <td>38.176309</td>\n",
              "      <td>37.971112</td>\n",
              "      <td>37.935000</td>\n",
              "      <td>38.151178</td>\n",
              "      <td>-27.051026</td>\n",
              "      <td>6.666712</td>\n",
              "      <td>0.067155</td>\n",
              "      <td>0.148518</td>\n",
              "      <td>-0.130546</td>\n",
              "      <td>2.000377e+12</td>\n",
              "      <td>-2.843206</td>\n",
              "    </tr>\n",
              "    <tr>\n",
              "      <th>2019-09-03</th>\n",
              "      <td>38.450001</td>\n",
              "      <td>38.250000</td>\n",
              "      <td>38.250000</td>\n",
              "      <td>38.349998</td>\n",
              "      <td>12035375.0</td>\n",
              "      <td>0</td>\n",
              "      <td>47.926160</td>\n",
              "      <td>-10.526548</td>\n",
              "      <td>40.339151</td>\n",
              "      <td>38.211047</td>\n",
              "      <td>37.945556</td>\n",
              "      <td>38.140000</td>\n",
              "      <td>38.291419</td>\n",
              "      <td>-17.181737</td>\n",
              "      <td>8.695508</td>\n",
              "      <td>0.105194</td>\n",
              "      <td>0.247748</td>\n",
              "      <td>0.921049</td>\n",
              "      <td>2.000376e+12</td>\n",
              "      <td>-2.464111</td>\n",
              "    </tr>\n",
              "    <tr>\n",
              "      <th>2019-09-04</th>\n",
              "      <td>38.500000</td>\n",
              "      <td>38.250000</td>\n",
              "      <td>38.250000</td>\n",
              "      <td>38.450001</td>\n",
              "      <td>9142411.0</td>\n",
              "      <td>0</td>\n",
              "      <td>50.343993</td>\n",
              "      <td>-4.999924</td>\n",
              "      <td>40.225093</td>\n",
              "      <td>38.258838</td>\n",
              "      <td>37.971111</td>\n",
              "      <td>38.370000</td>\n",
              "      <td>38.427871</td>\n",
              "      <td>-9.174407</td>\n",
              "      <td>22.727225</td>\n",
              "      <td>0.137963</td>\n",
              "      <td>0.333963</td>\n",
              "      <td>1.317523</td>\n",
              "      <td>2.000376e+12</td>\n",
              "      <td>-0.863760</td>\n",
              "    </tr>\n",
              "    <tr>\n",
              "      <th>2019-09-05</th>\n",
              "      <td>39.000000</td>\n",
              "      <td>38.500000</td>\n",
              "      <td>38.500000</td>\n",
              "      <td>39.000000</td>\n",
              "      <td>15438292.0</td>\n",
              "      <td>0</td>\n",
              "      <td>61.645234</td>\n",
              "      <td>-0.000000</td>\n",
              "      <td>40.123307</td>\n",
              "      <td>38.407070</td>\n",
              "      <td>38.042223</td>\n",
              "      <td>38.395000</td>\n",
              "      <td>38.778368</td>\n",
              "      <td>21.056878</td>\n",
              "      <td>43.396259</td>\n",
              "      <td>0.194114</td>\n",
              "      <td>0.481426</td>\n",
              "      <td>2.362209</td>\n",
              "      <td>2.000377e+12</td>\n",
              "      <td>11.999774</td>\n",
              "    </tr>\n",
              "    <tr>\n",
              "      <th>2019-09-06</th>\n",
              "      <td>40.099998</td>\n",
              "      <td>39.049999</td>\n",
              "      <td>39.049999</td>\n",
              "      <td>39.849998</td>\n",
              "      <td>26871485.0</td>\n",
              "      <td>0</td>\n",
              "      <td>72.717608</td>\n",
              "      <td>-9.615390</td>\n",
              "      <td>40.046812</td>\n",
              "      <td>38.695656</td>\n",
              "      <td>38.080000</td>\n",
              "      <td>38.659999</td>\n",
              "      <td>39.407377</td>\n",
              "      <td>79.794033</td>\n",
              "      <td>52.380918</td>\n",
              "      <td>0.280679</td>\n",
              "      <td>0.707580</td>\n",
              "      <td>4.456086</td>\n",
              "      <td>2.000382e+12</td>\n",
              "      <td>38.222966</td>\n",
              "    </tr>\n",
              "  </tbody>\n",
              "</table>\n",
              "</div>"
            ],
            "text/plain": [
              "                 High        Low       Open  ...       ROC           CFI        DMI\n",
              "Date                                         ...                                   \n",
              "2019-09-02  38.450001  38.049999  38.450001  ... -0.130546  2.000377e+12  -2.843206\n",
              "2019-09-03  38.450001  38.250000  38.250000  ...  0.921049  2.000376e+12  -2.464111\n",
              "2019-09-04  38.500000  38.250000  38.250000  ...  1.317523  2.000376e+12  -0.863760\n",
              "2019-09-05  39.000000  38.500000  38.500000  ...  2.362209  2.000377e+12  11.999774\n",
              "2019-09-06  40.099998  39.049999  39.049999  ...  4.456086  2.000382e+12  38.222966\n",
              "\n",
              "[5 rows x 20 columns]"
            ]
          },
          "metadata": {
            "tags": []
          },
          "execution_count": 22
        },
        {
          "output_type": "display_data",
          "data": {
            "image/png": "[encoded data removed]",
            "text/plain": [
              "<Figure size 432x288 with 1 Axes>"
            ]
          },
          "metadata": {
            "tags": []
          }
        }
      ]
    },
    {
      "cell_type": "markdown",
      "metadata": {
        "id": "96c_FgXOo98u",
        "colab_type": "text"
      },
      "source": [
        "# SAR"
      ]
    },
    {
      "cell_type": "code",
      "metadata": {
        "id": "eRPVEtrmo-bi",
        "colab_type": "code",
        "outputId": "87310386-55b7-4ebc-b260-d198fffa9c11",
        "colab": {
          "base_uri": "https://localhost:8080/",
          "height": 763
        }
      },
      "source": [
        "df['SAR'] = TA.SAR(ohlcv)\n",
        "print(df['SAR'].describe())\n",
        "sns.distplot(df['SAR'].dropna())\n",
        "df.tail()"
      ],
      "execution_count": 23,
      "outputs": [
        {
          "output_type": "stream",
          "text": [
            "count    4924.000000\n",
            "mean       24.419235\n",
            "std        10.959764\n",
            "min         4.563040\n",
            "25%        14.067369\n",
            "50%        27.127997\n",
            "75%        32.305801\n",
            "max        50.416199\n",
            "Name: SAR, dtype: float64\n"
          ],
          "name": "stdout"
        },
        {
          "output_type": "execute_result",
          "data": {
            "text/html": [
              "<div>\n",
              "<style scoped>\n",
              "    .dataframe tbody tr th:only-of-type {\n",
              "        vertical-align: middle;\n",
              "    }\n",
              "\n",
              "    .dataframe tbody tr th {\n",
              "        vertical-align: top;\n",
              "    }\n",
              "\n",
              "    .dataframe thead th {\n",
              "        text-align: right;\n",
              "    }\n",
              "</style>\n",
              "<table border=\"1\" class=\"dataframe\">\n",
              "  <thead>\n",
              "    <tr style=\"text-align: right;\">\n",
              "      <th></th>\n",
              "      <th>High</th>\n",
              "      <th>Low</th>\n",
              "      <th>Open</th>\n",
              "      <th>Close</th>\n",
              "      <th>Volume</th>\n",
              "      <th>triple_barrier_signal</th>\n",
              "      <th>RSI</th>\n",
              "      <th>Williams %R</th>\n",
              "      <th>SMA</th>\n",
              "      <th>EMA</th>\n",
              "      <th>WMA</th>\n",
              "      <th>HMA</th>\n",
              "      <th>TEMA</th>\n",
              "      <th>CCI</th>\n",
              "      <th>CMO</th>\n",
              "      <th>MACD</th>\n",
              "      <th>PPO</th>\n",
              "      <th>ROC</th>\n",
              "      <th>CFI</th>\n",
              "      <th>DMI</th>\n",
              "      <th>SAR</th>\n",
              "    </tr>\n",
              "    <tr>\n",
              "      <th>Date</th>\n",
              "      <th></th>\n",
              "      <th></th>\n",
              "      <th></th>\n",
              "      <th></th>\n",
              "      <th></th>\n",
              "      <th></th>\n",
              "      <th></th>\n",
              "      <th></th>\n",
              "      <th></th>\n",
              "      <th></th>\n",
              "      <th></th>\n",
              "      <th></th>\n",
              "      <th></th>\n",
              "      <th></th>\n",
              "      <th></th>\n",
              "      <th></th>\n",
              "      <th></th>\n",
              "      <th></th>\n",
              "      <th></th>\n",
              "      <th></th>\n",
              "      <th></th>\n",
              "    </tr>\n",
              "  </thead>\n",
              "  <tbody>\n",
              "    <tr>\n",
              "      <th>2019-09-02</th>\n",
              "      <td>38.450001</td>\n",
              "      <td>38.049999</td>\n",
              "      <td>38.450001</td>\n",
              "      <td>38.250000</td>\n",
              "      <td>16950621.0</td>\n",
              "      <td>0</td>\n",
              "      <td>45.631946</td>\n",
              "      <td>-14.285753</td>\n",
              "      <td>40.449951</td>\n",
              "      <td>38.176309</td>\n",
              "      <td>37.971112</td>\n",
              "      <td>37.935000</td>\n",
              "      <td>38.151178</td>\n",
              "      <td>-27.051026</td>\n",
              "      <td>6.666712</td>\n",
              "      <td>0.067155</td>\n",
              "      <td>0.148518</td>\n",
              "      <td>-0.130546</td>\n",
              "      <td>2.000377e+12</td>\n",
              "      <td>-2.843206</td>\n",
              "      <td>38.611149</td>\n",
              "    </tr>\n",
              "    <tr>\n",
              "      <th>2019-09-03</th>\n",
              "      <td>38.450001</td>\n",
              "      <td>38.250000</td>\n",
              "      <td>38.250000</td>\n",
              "      <td>38.349998</td>\n",
              "      <td>12035375.0</td>\n",
              "      <td>0</td>\n",
              "      <td>47.926160</td>\n",
              "      <td>-10.526548</td>\n",
              "      <td>40.339151</td>\n",
              "      <td>38.211047</td>\n",
              "      <td>37.945556</td>\n",
              "      <td>38.140000</td>\n",
              "      <td>38.291419</td>\n",
              "      <td>-17.181737</td>\n",
              "      <td>8.695508</td>\n",
              "      <td>0.105194</td>\n",
              "      <td>0.247748</td>\n",
              "      <td>0.921049</td>\n",
              "      <td>2.000376e+12</td>\n",
              "      <td>-2.464111</td>\n",
              "      <td>38.486257</td>\n",
              "    </tr>\n",
              "    <tr>\n",
              "      <th>2019-09-04</th>\n",
              "      <td>38.500000</td>\n",
              "      <td>38.250000</td>\n",
              "      <td>38.250000</td>\n",
              "      <td>38.450001</td>\n",
              "      <td>9142411.0</td>\n",
              "      <td>0</td>\n",
              "      <td>50.343993</td>\n",
              "      <td>-4.999924</td>\n",
              "      <td>40.225093</td>\n",
              "      <td>38.258838</td>\n",
              "      <td>37.971111</td>\n",
              "      <td>38.370000</td>\n",
              "      <td>38.427871</td>\n",
              "      <td>-9.174407</td>\n",
              "      <td>22.727225</td>\n",
              "      <td>0.137963</td>\n",
              "      <td>0.333963</td>\n",
              "      <td>1.317523</td>\n",
              "      <td>2.000376e+12</td>\n",
              "      <td>-0.863760</td>\n",
              "      <td>37.049999</td>\n",
              "    </tr>\n",
              "    <tr>\n",
              "      <th>2019-09-05</th>\n",
              "      <td>39.000000</td>\n",
              "      <td>38.500000</td>\n",
              "      <td>38.500000</td>\n",
              "      <td>39.000000</td>\n",
              "      <td>15438292.0</td>\n",
              "      <td>0</td>\n",
              "      <td>61.645234</td>\n",
              "      <td>-0.000000</td>\n",
              "      <td>40.123307</td>\n",
              "      <td>38.407070</td>\n",
              "      <td>38.042223</td>\n",
              "      <td>38.395000</td>\n",
              "      <td>38.778368</td>\n",
              "      <td>21.056878</td>\n",
              "      <td>43.396259</td>\n",
              "      <td>0.194114</td>\n",
              "      <td>0.481426</td>\n",
              "      <td>2.362209</td>\n",
              "      <td>2.000377e+12</td>\n",
              "      <td>11.999774</td>\n",
              "      <td>37.049999</td>\n",
              "    </tr>\n",
              "    <tr>\n",
              "      <th>2019-09-06</th>\n",
              "      <td>40.099998</td>\n",
              "      <td>39.049999</td>\n",
              "      <td>39.049999</td>\n",
              "      <td>39.849998</td>\n",
              "      <td>26871485.0</td>\n",
              "      <td>0</td>\n",
              "      <td>72.717608</td>\n",
              "      <td>-9.615390</td>\n",
              "      <td>40.046812</td>\n",
              "      <td>38.695656</td>\n",
              "      <td>38.080000</td>\n",
              "      <td>38.659999</td>\n",
              "      <td>39.407377</td>\n",
              "      <td>79.794033</td>\n",
              "      <td>52.380918</td>\n",
              "      <td>0.280679</td>\n",
              "      <td>0.707580</td>\n",
              "      <td>4.456086</td>\n",
              "      <td>2.000382e+12</td>\n",
              "      <td>38.222966</td>\n",
              "      <td>37.127999</td>\n",
              "    </tr>\n",
              "  </tbody>\n",
              "</table>\n",
              "</div>"
            ],
            "text/plain": [
              "                 High        Low       Open  ...           CFI        DMI        SAR\n",
              "Date                                         ...                                    \n",
              "2019-09-02  38.450001  38.049999  38.450001  ...  2.000377e+12  -2.843206  38.611149\n",
              "2019-09-03  38.450001  38.250000  38.250000  ...  2.000376e+12  -2.464111  38.486257\n",
              "2019-09-04  38.500000  38.250000  38.250000  ...  2.000376e+12  -0.863760  37.049999\n",
              "2019-09-05  39.000000  38.500000  38.500000  ...  2.000377e+12  11.999774  37.049999\n",
              "2019-09-06  40.099998  39.049999  39.049999  ...  2.000382e+12  38.222966  37.127999\n",
              "\n",
              "[5 rows x 21 columns]"
            ]
          },
          "metadata": {
            "tags": []
          },
          "execution_count": 23
        },
        {
          "output_type": "display_data",
          "data": {
            "image/png": "[encoded data removed]",
            "text/plain": [
              "<Figure size 432x288 with 1 Axes>"
            ]
          },
          "metadata": {
            "tags": []
          }
        }
      ]
    },
    {
      "cell_type": "markdown",
      "metadata": {
        "id": "MoqrDEejwYOV",
        "colab_type": "text"
      },
      "source": [
        "# columns選取"
      ]
    },
    {
      "cell_type": "code",
      "metadata": {
        "id": "qrGg0ojRKuE1",
        "colab_type": "code",
        "outputId": "48c6037e-357a-4f21-8677-ea462cf2c755",
        "colab": {
          "base_uri": "https://localhost:8080/",
          "height": 379
        }
      },
      "source": [
        "print(df.shape)\n",
        "df = df.dropna(axis=0)#刪除有缺失的row,會缺失主要因為用時間rolling計算技術指標導致,正常的\n",
        "features = df.columns[-15:].tolist() #取15個剛剛建立的技術指標當特徵\n",
        "y_name = 'triple_barrier_signal' #當作labels\n",
        "df = df[features+[y_name]]\n",
        "print(df.shape)\n",
        "df.tail()"
      ],
      "execution_count": 24,
      "outputs": [
        {
          "output_type": "stream",
          "text": [
            "(4924, 21)\n",
            "(4841, 16)\n"
          ],
          "name": "stdout"
        },
        {
          "output_type": "execute_result",
          "data": {
            "text/html": [
              "<div>\n",
              "<style scoped>\n",
              "    .dataframe tbody tr th:only-of-type {\n",
              "        vertical-align: middle;\n",
              "    }\n",
              "\n",
              "    .dataframe tbody tr th {\n",
              "        vertical-align: top;\n",
              "    }\n",
              "\n",
              "    .dataframe thead th {\n",
              "        text-align: right;\n",
              "    }\n",
              "</style>\n",
              "<table border=\"1\" class=\"dataframe\">\n",
              "  <thead>\n",
              "    <tr style=\"text-align: right;\">\n",
              "      <th></th>\n",
              "      <th>RSI</th>\n",
              "      <th>Williams %R</th>\n",
              "      <th>SMA</th>\n",
              "      <th>EMA</th>\n",
              "      <th>WMA</th>\n",
              "      <th>HMA</th>\n",
              "      <th>TEMA</th>\n",
              "      <th>CCI</th>\n",
              "      <th>CMO</th>\n",
              "      <th>MACD</th>\n",
              "      <th>PPO</th>\n",
              "      <th>ROC</th>\n",
              "      <th>CFI</th>\n",
              "      <th>DMI</th>\n",
              "      <th>SAR</th>\n",
              "      <th>triple_barrier_signal</th>\n",
              "    </tr>\n",
              "    <tr>\n",
              "      <th>Date</th>\n",
              "      <th></th>\n",
              "      <th></th>\n",
              "      <th></th>\n",
              "      <th></th>\n",
              "      <th></th>\n",
              "      <th></th>\n",
              "      <th></th>\n",
              "      <th></th>\n",
              "      <th></th>\n",
              "      <th></th>\n",
              "      <th></th>\n",
              "      <th></th>\n",
              "      <th></th>\n",
              "      <th></th>\n",
              "      <th></th>\n",
              "      <th></th>\n",
              "    </tr>\n",
              "  </thead>\n",
              "  <tbody>\n",
              "    <tr>\n",
              "      <th>2019-09-02</th>\n",
              "      <td>45.631946</td>\n",
              "      <td>-14.285753</td>\n",
              "      <td>40.449951</td>\n",
              "      <td>38.176309</td>\n",
              "      <td>37.971112</td>\n",
              "      <td>37.935000</td>\n",
              "      <td>38.151178</td>\n",
              "      <td>-27.051026</td>\n",
              "      <td>6.666712</td>\n",
              "      <td>0.067155</td>\n",
              "      <td>0.148518</td>\n",
              "      <td>-0.130546</td>\n",
              "      <td>2.000377e+12</td>\n",
              "      <td>-2.843206</td>\n",
              "      <td>38.611149</td>\n",
              "      <td>0</td>\n",
              "    </tr>\n",
              "    <tr>\n",
              "      <th>2019-09-03</th>\n",
              "      <td>47.926160</td>\n",
              "      <td>-10.526548</td>\n",
              "      <td>40.339151</td>\n",
              "      <td>38.211047</td>\n",
              "      <td>37.945556</td>\n",
              "      <td>38.140000</td>\n",
              "      <td>38.291419</td>\n",
              "      <td>-17.181737</td>\n",
              "      <td>8.695508</td>\n",
              "      <td>0.105194</td>\n",
              "      <td>0.247748</td>\n",
              "      <td>0.921049</td>\n",
              "      <td>2.000376e+12</td>\n",
              "      <td>-2.464111</td>\n",
              "      <td>38.486257</td>\n",
              "      <td>0</td>\n",
              "    </tr>\n",
              "    <tr>\n",
              "      <th>2019-09-04</th>\n",
              "      <td>50.343993</td>\n",
              "      <td>-4.999924</td>\n",
              "      <td>40.225093</td>\n",
              "      <td>38.258838</td>\n",
              "      <td>37.971111</td>\n",
              "      <td>38.370000</td>\n",
              "      <td>38.427871</td>\n",
              "      <td>-9.174407</td>\n",
              "      <td>22.727225</td>\n",
              "      <td>0.137963</td>\n",
              "      <td>0.333963</td>\n",
              "      <td>1.317523</td>\n",
              "      <td>2.000376e+12</td>\n",
              "      <td>-0.863760</td>\n",
              "      <td>37.049999</td>\n",
              "      <td>0</td>\n",
              "    </tr>\n",
              "    <tr>\n",
              "      <th>2019-09-05</th>\n",
              "      <td>61.645234</td>\n",
              "      <td>-0.000000</td>\n",
              "      <td>40.123307</td>\n",
              "      <td>38.407070</td>\n",
              "      <td>38.042223</td>\n",
              "      <td>38.395000</td>\n",
              "      <td>38.778368</td>\n",
              "      <td>21.056878</td>\n",
              "      <td>43.396259</td>\n",
              "      <td>0.194114</td>\n",
              "      <td>0.481426</td>\n",
              "      <td>2.362209</td>\n",
              "      <td>2.000377e+12</td>\n",
              "      <td>11.999774</td>\n",
              "      <td>37.049999</td>\n",
              "      <td>0</td>\n",
              "    </tr>\n",
              "    <tr>\n",
              "      <th>2019-09-06</th>\n",
              "      <td>72.717608</td>\n",
              "      <td>-9.615390</td>\n",
              "      <td>40.046812</td>\n",
              "      <td>38.695656</td>\n",
              "      <td>38.080000</td>\n",
              "      <td>38.659999</td>\n",
              "      <td>39.407377</td>\n",
              "      <td>79.794033</td>\n",
              "      <td>52.380918</td>\n",
              "      <td>0.280679</td>\n",
              "      <td>0.707580</td>\n",
              "      <td>4.456086</td>\n",
              "      <td>2.000382e+12</td>\n",
              "      <td>38.222966</td>\n",
              "      <td>37.127999</td>\n",
              "      <td>0</td>\n",
              "    </tr>\n",
              "  </tbody>\n",
              "</table>\n",
              "</div>"
            ],
            "text/plain": [
              "                  RSI  Williams %R  ...        SAR  triple_barrier_signal\n",
              "Date                                ...                                  \n",
              "2019-09-02  45.631946   -14.285753  ...  38.611149                      0\n",
              "2019-09-03  47.926160   -10.526548  ...  38.486257                      0\n",
              "2019-09-04  50.343993    -4.999924  ...  37.049999                      0\n",
              "2019-09-05  61.645234    -0.000000  ...  37.049999                      0\n",
              "2019-09-06  72.717608    -9.615390  ...  37.127999                      0\n",
              "\n",
              "[5 rows x 16 columns]"
            ]
          },
          "metadata": {
            "tags": []
          },
          "execution_count": 24
        }
      ]
    },
    {
      "cell_type": "markdown",
      "metadata": {
        "id": "YSh6cJBEwgtg",
        "colab_type": "text"
      },
      "source": [
        "# 相關性分析"
      ]
    },
    {
      "cell_type": "code",
      "metadata": {
        "id": "hKy0pMZfLKEH",
        "colab_type": "code",
        "outputId": "b243250c-88f0-4082-f6c7-b11926c5e885",
        "colab": {
          "base_uri": "https://localhost:8080/",
          "height": 811
        }
      },
      "source": [
        "import seaborn as sns\n",
        "import matplotlib.pyplot as plt\n",
        "plt.figure(figsize=(14,12))\n",
        "sns.heatmap(abs(df.corr()),annot=True,linewidths=0.1)"
      ],
      "execution_count": 25,
      "outputs": [
        {
          "output_type": "execute_result",
          "data": {
            "text/plain": [
              "<matplotlib.axes._subplots.AxesSubplot at 0x7fba419ef390>"
            ]
          },
          "metadata": {
            "tags": []
          },
          "execution_count": 25
        },
        {
          "output_type": "display_data",
          "data": {
            "image/png": "[encoded data removed]",
            "text/plain": [
              "<Figure size 1008x864 with 2 Axes>"
            ]
          },
          "metadata": {
            "tags": []
          }
        }
      ]
    },
    {
      "cell_type": "markdown",
      "metadata": {
        "id": "c68TXVQaqGl3",
        "colab_type": "text"
      },
      "source": [
        "# features scaling"
      ]
    },
    {
      "cell_type": "code",
      "metadata": {
        "id": "JpZPZWfJqGuo",
        "colab_type": "code",
        "outputId": "a7a01387-57c3-42fb-e380-c38358c50786",
        "colab": {
          "base_uri": "https://localhost:8080/",
          "height": 225
        }
      },
      "source": [
        "from sklearn.preprocessing import MinMaxScaler\n",
        "min_max_scaler = MinMaxScaler()\n",
        "df_minmax = min_max_scaler.fit_transform(df)#縮放到0-1之間\n",
        "df_minmax = pd.DataFrame(df_minmax,\n",
        "                         index = df.index,\n",
        "                         columns = df.columns)#轉回dataframe格式\n",
        "df_minmax[y_name] = df[y_name]#y不用MinMaxScaler\n",
        "df_minmax.tail()"
      ],
      "execution_count": 26,
      "outputs": [
        {
          "output_type": "execute_result",
          "data": {
            "text/html": [
              "<div>\n",
              "<style scoped>\n",
              "    .dataframe tbody tr th:only-of-type {\n",
              "        vertical-align: middle;\n",
              "    }\n",
              "\n",
              "    .dataframe tbody tr th {\n",
              "        vertical-align: top;\n",
              "    }\n",
              "\n",
              "    .dataframe thead th {\n",
              "        text-align: right;\n",
              "    }\n",
              "</style>\n",
              "<table border=\"1\" class=\"dataframe\">\n",
              "  <thead>\n",
              "    <tr style=\"text-align: right;\">\n",
              "      <th></th>\n",
              "      <th>RSI</th>\n",
              "      <th>Williams %R</th>\n",
              "      <th>SMA</th>\n",
              "      <th>EMA</th>\n",
              "      <th>WMA</th>\n",
              "      <th>HMA</th>\n",
              "      <th>TEMA</th>\n",
              "      <th>CCI</th>\n",
              "      <th>CMO</th>\n",
              "      <th>MACD</th>\n",
              "      <th>PPO</th>\n",
              "      <th>ROC</th>\n",
              "      <th>CFI</th>\n",
              "      <th>DMI</th>\n",
              "      <th>SAR</th>\n",
              "      <th>triple_barrier_signal</th>\n",
              "    </tr>\n",
              "    <tr>\n",
              "      <th>Date</th>\n",
              "      <th></th>\n",
              "      <th></th>\n",
              "      <th></th>\n",
              "      <th></th>\n",
              "      <th></th>\n",
              "      <th></th>\n",
              "      <th></th>\n",
              "      <th></th>\n",
              "      <th></th>\n",
              "      <th></th>\n",
              "      <th></th>\n",
              "      <th></th>\n",
              "      <th></th>\n",
              "      <th></th>\n",
              "      <th></th>\n",
              "      <th></th>\n",
              "    </tr>\n",
              "  </thead>\n",
              "  <tbody>\n",
              "    <tr>\n",
              "      <th>2019-09-02</th>\n",
              "      <td>0.447445</td>\n",
              "      <td>0.857142</td>\n",
              "      <td>0.861348</td>\n",
              "      <td>0.783146</td>\n",
              "      <td>0.761995</td>\n",
              "      <td>0.750968</td>\n",
              "      <td>0.758399</td>\n",
              "      <td>0.438964</td>\n",
              "      <td>0.533334</td>\n",
              "      <td>0.501404</td>\n",
              "      <td>0.441142</td>\n",
              "      <td>0.385078</td>\n",
              "      <td>0.999686</td>\n",
              "      <td>0.475790</td>\n",
              "      <td>0.742547</td>\n",
              "      <td>0</td>\n",
              "    </tr>\n",
              "    <tr>\n",
              "      <th>2019-09-03</th>\n",
              "      <td>0.472952</td>\n",
              "      <td>0.894735</td>\n",
              "      <td>0.858677</td>\n",
              "      <td>0.783957</td>\n",
              "      <td>0.761411</td>\n",
              "      <td>0.755587</td>\n",
              "      <td>0.761567</td>\n",
              "      <td>0.458503</td>\n",
              "      <td>0.543478</td>\n",
              "      <td>0.520352</td>\n",
              "      <td>0.453940</td>\n",
              "      <td>0.395973</td>\n",
              "      <td>0.999685</td>\n",
              "      <td>0.477532</td>\n",
              "      <td>0.739823</td>\n",
              "      <td>0</td>\n",
              "    </tr>\n",
              "    <tr>\n",
              "      <th>2019-09-04</th>\n",
              "      <td>0.499834</td>\n",
              "      <td>0.950001</td>\n",
              "      <td>0.855928</td>\n",
              "      <td>0.785074</td>\n",
              "      <td>0.761995</td>\n",
              "      <td>0.760770</td>\n",
              "      <td>0.764650</td>\n",
              "      <td>0.474356</td>\n",
              "      <td>0.613636</td>\n",
              "      <td>0.536675</td>\n",
              "      <td>0.465059</td>\n",
              "      <td>0.400080</td>\n",
              "      <td>0.999685</td>\n",
              "      <td>0.484883</td>\n",
              "      <td>0.708500</td>\n",
              "      <td>0</td>\n",
              "    </tr>\n",
              "    <tr>\n",
              "      <th>2019-09-05</th>\n",
              "      <td>0.625483</td>\n",
              "      <td>1.000000</td>\n",
              "      <td>0.853475</td>\n",
              "      <td>0.788537</td>\n",
              "      <td>0.763621</td>\n",
              "      <td>0.761333</td>\n",
              "      <td>0.772568</td>\n",
              "      <td>0.534209</td>\n",
              "      <td>0.716981</td>\n",
              "      <td>0.564644</td>\n",
              "      <td>0.484077</td>\n",
              "      <td>0.410904</td>\n",
              "      <td>0.999686</td>\n",
              "      <td>0.543974</td>\n",
              "      <td>0.708500</td>\n",
              "      <td>0</td>\n",
              "    </tr>\n",
              "    <tr>\n",
              "      <th>2019-09-06</th>\n",
              "      <td>0.748587</td>\n",
              "      <td>0.903846</td>\n",
              "      <td>0.851631</td>\n",
              "      <td>0.795279</td>\n",
              "      <td>0.764484</td>\n",
              "      <td>0.767304</td>\n",
              "      <td>0.786778</td>\n",
              "      <td>0.650497</td>\n",
              "      <td>0.761905</td>\n",
              "      <td>0.607764</td>\n",
              "      <td>0.513244</td>\n",
              "      <td>0.432597</td>\n",
              "      <td>0.999690</td>\n",
              "      <td>0.664434</td>\n",
              "      <td>0.710201</td>\n",
              "      <td>0</td>\n",
              "    </tr>\n",
              "  </tbody>\n",
              "</table>\n",
              "</div>"
            ],
            "text/plain": [
              "                 RSI  Williams %R  ...       SAR  triple_barrier_signal\n",
              "Date                               ...                                 \n",
              "2019-09-02  0.447445     0.857142  ...  0.742547                      0\n",
              "2019-09-03  0.472952     0.894735  ...  0.739823                      0\n",
              "2019-09-04  0.499834     0.950001  ...  0.708500                      0\n",
              "2019-09-05  0.625483     1.000000  ...  0.708500                      0\n",
              "2019-09-06  0.748587     0.903846  ...  0.710201                      0\n",
              "\n",
              "[5 rows x 16 columns]"
            ]
          },
          "metadata": {
            "tags": []
          },
          "execution_count": 26
        }
      ]
    },
    {
      "cell_type": "code",
      "metadata": {
        "id": "5MCZDpBgrrQQ",
        "colab_type": "code",
        "outputId": "a457b78e-4ad7-45fe-e9a7-c07baba714f0",
        "colab": {
          "base_uri": "https://localhost:8080/",
          "height": 34
        }
      },
      "source": [
        "df = df_minmax\n",
        "print('特徵縮放完成!')"
      ],
      "execution_count": 27,
      "outputs": [
        {
          "output_type": "stream",
          "text": [
            "特徵縮放完成!\n"
          ],
          "name": "stdout"
        }
      ]
    },
    {
      "cell_type": "markdown",
      "metadata": {
        "id": "_kc7tvz_M7PO",
        "colab_type": "text"
      },
      "source": [
        "# Xs ,ys prepare"
      ]
    },
    {
      "cell_type": "code",
      "metadata": {
        "id": "2ZHvlRJ5Lzzu",
        "colab_type": "code",
        "outputId": "2ae31ff7-855f-4e21-d44a-18f366683fdf",
        "colab": {
          "base_uri": "https://localhost:8080/",
          "height": 50
        }
      },
      "source": [
        "from tqdm import tqdm\n",
        "import numpy as np\n",
        "\n",
        "#定義觀察天數,起始index(0),結束index(資料筆數-觀察天數)\n",
        "days = 15\n",
        "b_index = 0\n",
        "f_index = len(df)-days\n",
        "\n",
        "#特徵欄位\n",
        "features = df.drop(y_name,axis=1).columns.tolist()\n",
        "\n",
        "#待存放序列\n",
        "Xs = []\n",
        "ys = []\n",
        "indexs = []\n",
        "\n",
        "'''\n",
        "若資料筆數100,days=15天,f_index=85,i只會跑到84,i+days=99,features只會跑到98天.\n",
        "若資料筆數100,days=15天,f_index=85+1,i會跑到85,i+days=100,features會跑到99天.\n",
        "'''\n",
        "for i in tqdm(range(b_index ,f_index+1 ,1)):#每次i都會遞增1\n",
        "  X = df.iloc[i:i+days,:][features] #ex:0...14(不含15)之features\n",
        "  y = df.iloc[i+days-1:i+days,:][y_name]#ex:14,y_name\n",
        "  X = np.array(X) # to np_array\n",
        "  Xs.append(X) #加入一筆X\n",
        "  ys.append(y) #加入一筆y\n",
        "  indexs.append((df.iloc[[i]].index,\n",
        "                 df.iloc[[i+days-1]].index)) #加入資料日期\n",
        "#轉換成np_array\n",
        "Xs = np.array(Xs)\n",
        "ys = np.array(ys)\n",
        "print('準備完成')"
      ],
      "execution_count": 28,
      "outputs": [
        {
          "output_type": "stream",
          "text": [
            "100%|██████████| 4827/4827 [00:09<00:00, 484.75it/s]\n"
          ],
          "name": "stderr"
        },
        {
          "output_type": "stream",
          "text": [
            "準備完成\n"
          ],
          "name": "stdout"
        }
      ]
    },
    {
      "cell_type": "markdown",
      "metadata": {
        "id": "a9iNRYKpNfIP",
        "colab_type": "text"
      },
      "source": [
        "# check"
      ]
    },
    {
      "cell_type": "code",
      "metadata": {
        "id": "7YiS6ZmtNfSf",
        "colab_type": "code",
        "outputId": "23b5297c-2595-4246-c24c-1cd02f9d91a6",
        "colab": {
          "base_uri": "https://localhost:8080/",
          "height": 67
        }
      },
      "source": [
        "print('資料筆數:',len(Xs))\n",
        "print('第一筆的index開始和結束:{}-{}'.format(indexs[0][0].date[0],indexs[0][1].date[0]))\n",
        "print('最後一筆的index開始和結束:{}-{}'.format(indexs[-1][0].date[0],indexs[-1][1].date[0]))"
      ],
      "execution_count": 29,
      "outputs": [
        {
          "output_type": "stream",
          "text": [
            "資料筆數: 4827\n",
            "第一筆的index開始和結束:2000-04-28-2000-05-18\n",
            "最後一筆的index開始和結束:2019-08-16-2019-09-06\n"
          ],
          "name": "stdout"
        }
      ]
    },
    {
      "cell_type": "markdown",
      "metadata": {
        "id": "Pabl4tEsXYB8",
        "colab_type": "text"
      },
      "source": [
        "# Reshape X"
      ]
    },
    {
      "cell_type": "markdown",
      "metadata": {
        "id": "RvUPQWb1An8u",
        "colab_type": "text"
      },
      "source": [
        "(圖片數量,長,寬,1張)"
      ]
    },
    {
      "cell_type": "code",
      "metadata": {
        "id": "In4R0IcSPDwG",
        "colab_type": "code",
        "outputId": "46a18c2b-a427-4aad-b926-58e987092d2f",
        "colab": {
          "base_uri": "https://localhost:8080/",
          "height": 50
        }
      },
      "source": [
        "print(Xs.shape)\n",
        "Xs = Xs.reshape(-1,days,len(features),1)\n",
        "print(Xs.shape)"
      ],
      "execution_count": 30,
      "outputs": [
        {
          "output_type": "stream",
          "text": [
            "(4827, 15, 15)\n",
            "(4827, 15, 15, 1)\n"
          ],
          "name": "stdout"
        }
      ]
    },
    {
      "cell_type": "markdown",
      "metadata": {
        "id": "lUy2cpReXaOV",
        "colab_type": "text"
      },
      "source": [
        "# One hot encoding of label"
      ]
    },
    {
      "cell_type": "markdown",
      "metadata": {
        "id": "hjDc-sStA1gk",
        "colab_type": "text"
      },
      "source": [
        "原始y代表漲幅"
      ]
    },
    {
      "cell_type": "code",
      "metadata": {
        "id": "6XGRdxmfWrfo",
        "colab_type": "code",
        "outputId": "ff00e069-33ce-4b70-cbb9-271e69a1e515",
        "colab": {
          "base_uri": "https://localhost:8080/",
          "height": 235
        }
      },
      "source": [
        "print(ys.shape)\n",
        "print(ys[:5])\n",
        "\n",
        "from keras.utils.np_utils import to_categorical\n",
        "ys = to_categorical(ys, num_classes = 3)\n",
        "print(ys.shape)\n",
        "print(ys[:5])"
      ],
      "execution_count": 31,
      "outputs": [
        {
          "output_type": "stream",
          "text": [
            "(4827, 1)\n",
            "[[-1]\n",
            " [-1]\n",
            " [-1]\n",
            " [-1]\n",
            " [-1]]\n"
          ],
          "name": "stdout"
        },
        {
          "output_type": "stream",
          "text": [
            "Using TensorFlow backend.\n"
          ],
          "name": "stderr"
        },
        {
          "output_type": "stream",
          "text": [
            "(4827, 3)\n",
            "[[0. 0. 1.]\n",
            " [0. 0. 1.]\n",
            " [0. 0. 1.]\n",
            " [0. 0. 1.]\n",
            " [0. 0. 1.]]\n"
          ],
          "name": "stdout"
        }
      ]
    },
    {
      "cell_type": "markdown",
      "metadata": {
        "id": "TYcPI2TWBTpJ",
        "colab_type": "text"
      },
      "source": [
        "# Visualization"
      ]
    },
    {
      "cell_type": "code",
      "metadata": {
        "id": "ibNjBLRaBUJh",
        "colab_type": "code",
        "outputId": "d24ccebd-c0f9-47e5-d45a-c067d2499cf1",
        "colab": {
          "base_uri": "https://localhost:8080/",
          "height": 607
        }
      },
      "source": [
        "import matplotlib.pyplot as plt\n",
        "import matplotlib.image as mpimg\n",
        "%matplotlib inline\n",
        "Xs_v = Xs.reshape(-1,Xs.shape[1],Xs.shape[2])\n",
        "plt.figure(figsize=(10,10))\n",
        "plt.subplots_adjust(wspace =0, hspace =0.3)\n",
        "for i in range(0,9):\n",
        "    plt.subplot(330 + (i+1))\n",
        "    plt.imshow(Xs_v[i])\n",
        "    plt.title(np.argmax(ys[i]))"
      ],
      "execution_count": 32,
      "outputs": [
        {
          "output_type": "display_data",
          "data": {
            "image/png": "[encoded data removed]",
            "text/plain": [
              "<Figure size 720x720 with 9 Axes>"
            ]
          },
          "metadata": {
            "tags": []
          }
        }
      ]
    },
    {
      "cell_type": "markdown",
      "metadata": {
        "id": "5Oa6gYq_aVjE",
        "colab_type": "text"
      },
      "source": [
        "# Split training and validation sets"
      ]
    },
    {
      "cell_type": "code",
      "metadata": {
        "id": "OLHFbreckAlH",
        "colab_type": "code",
        "outputId": "474354ab-bc09-4a86-81a2-8266ae15c477",
        "colab": {
          "base_uri": "https://localhost:8080/",
          "height": 34
        }
      },
      "source": [
        "X_test = Xs[-40:] #最後40天features當作test資料\n",
        "X_train,y_train = Xs[:-40],ys[:-40] #其他當作訓練\n",
        "print(X_train.shape,y_train.shape,X_test.shape)"
      ],
      "execution_count": 33,
      "outputs": [
        {
          "output_type": "stream",
          "text": [
            "(4787, 15, 15, 1) (4787, 3) (40, 15, 15, 1)\n"
          ],
          "name": "stdout"
        }
      ]
    },
    {
      "cell_type": "code",
      "metadata": {
        "id": "MgsrVpYUYf5J",
        "colab_type": "code",
        "outputId": "82e3c41e-2305-4392-b552-a3c0695384ad",
        "colab": {
          "base_uri": "https://localhost:8080/",
          "height": 34
        }
      },
      "source": [
        "from sklearn.model_selection import train_test_split\n",
        "xtrain, xval, ytrain, yval = train_test_split(X_train,\n",
        "                                              y_train, \n",
        "                                              test_size=0.2,\n",
        "                                              random_state=42,\n",
        "                                              shuffle=True,#是否洗牌\n",
        "                                              stratify=None #是否根據y欄位做分層取樣\n",
        "                                             )\n",
        "print(xtrain.shape, ytrain.shape, xval.shape, yval.shape)"
      ],
      "execution_count": 34,
      "outputs": [
        {
          "output_type": "stream",
          "text": [
            "(3829, 15, 15, 1) (3829, 3) (958, 15, 15, 1) (958, 3)\n"
          ],
          "name": "stdout"
        }
      ]
    },
    {
      "cell_type": "markdown",
      "metadata": {
        "id": "2xQOFrENMkSb",
        "colab_type": "text"
      },
      "source": [
        "# 看一下樣本的label分布情況是否平均(待解決)"
      ]
    },
    {
      "cell_type": "markdown",
      "metadata": {
        "id": "xnUz7A3tlfya",
        "colab_type": "text"
      },
      "source": [
        "0:Hold,1:Buy,2:Sell"
      ]
    },
    {
      "cell_type": "code",
      "metadata": {
        "id": "aA9SXiicML6Y",
        "colab_type": "code",
        "outputId": "15358615-dfd1-4fee-8112-e857c38f3b58",
        "colab": {
          "base_uri": "https://localhost:8080/",
          "height": 84
        }
      },
      "source": [
        "pd.Series([np.argmax(i) for i in ys]).value_counts()"
      ],
      "execution_count": 35,
      "outputs": [
        {
          "output_type": "execute_result",
          "data": {
            "text/plain": [
              "2    2509\n",
              "1    1271\n",
              "0    1047\n",
              "dtype: int64"
            ]
          },
          "metadata": {
            "tags": []
          },
          "execution_count": 35
        }
      ]
    },
    {
      "cell_type": "code",
      "metadata": {
        "id": "UIOBe8tVL5dV",
        "colab_type": "code",
        "outputId": "3a4281ad-99cb-4e90-9c9f-0ec083e19a44",
        "colab": {
          "base_uri": "https://localhost:8080/",
          "height": 84
        }
      },
      "source": [
        "pd.Series([np.argmax(i) for i in ytrain]).value_counts()"
      ],
      "execution_count": 36,
      "outputs": [
        {
          "output_type": "execute_result",
          "data": {
            "text/plain": [
              "2    2008\n",
              "1     992\n",
              "0     829\n",
              "dtype: int64"
            ]
          },
          "metadata": {
            "tags": []
          },
          "execution_count": 36
        }
      ]
    },
    {
      "cell_type": "code",
      "metadata": {
        "id": "A235BZ6cMQ-S",
        "colab_type": "code",
        "outputId": "b2e34515-14cf-4285-c010-cef22eface24",
        "colab": {
          "base_uri": "https://localhost:8080/",
          "height": 84
        }
      },
      "source": [
        "pd.Series([np.argmax(i) for i in yval]).value_counts()"
      ],
      "execution_count": 37,
      "outputs": [
        {
          "output_type": "execute_result",
          "data": {
            "text/plain": [
              "2    482\n",
              "1    279\n",
              "0    197\n",
              "dtype: int64"
            ]
          },
          "metadata": {
            "tags": []
          },
          "execution_count": 37
        }
      ]
    },
    {
      "cell_type": "markdown",
      "metadata": {
        "id": "m-oXz0FGarb1",
        "colab_type": "text"
      },
      "source": [
        "# CNN"
      ]
    },
    {
      "cell_type": "code",
      "metadata": {
        "id": "eWOsWp7_amoX",
        "colab_type": "code",
        "colab": {}
      },
      "source": [
        "from keras import backend as K\n",
        "from keras.models import Sequential\n",
        "from keras.layers import Dense, Dropout, Lambda, Flatten, BatchNormalization\n",
        "from keras.layers import Conv2D, MaxPool2D, AvgPool2D\n",
        "from keras.optimizers import Adam #做梯度下降的一種優化方法\n",
        "from keras.callbacks import ReduceLROnPlateau , EarlyStopping #減少學習速率 on Plateau"
      ],
      "execution_count": 0,
      "outputs": []
    },
    {
      "cell_type": "code",
      "metadata": {
        "id": "yd-csnW2auJS",
        "colab_type": "code",
        "outputId": "5a321921-14c0-4849-ac97-660188127aaa",
        "colab": {
          "base_uri": "https://localhost:8080/",
          "height": 658
        }
      },
      "source": [
        "model = Sequential()\n",
        "\n",
        "nclasses = 3 \n",
        "\n",
        "model.add(Conv2D(filters=32, kernel_size=(3,3), padding='same', activation='relu', input_shape=(15,15,1)))\n",
        "model.add(Conv2D(filters=64, kernel_size=(3,3), padding='same', activation='relu',))\n",
        "model.add(MaxPool2D(pool_size=(2,2)))\n",
        "model.add(Dropout(0.25))\n",
        "model.add(Flatten())\n",
        "model.add(Dense(128, activation='relu'))\n",
        "model.add(Dropout(0.50))\n",
        "model.add(Dense(nclasses, activation='softmax'))\n",
        "model.summary()"
      ],
      "execution_count": 39,
      "outputs": [
        {
          "output_type": "stream",
          "text": [
            "WARNING:tensorflow:From /usr/local/lib/python3.6/dist-packages/keras/backend/tensorflow_backend.py:66: The name tf.get_default_graph is deprecated. Please use tf.compat.v1.get_default_graph instead.\n",
            "\n",
            "WARNING:tensorflow:From /usr/local/lib/python3.6/dist-packages/keras/backend/tensorflow_backend.py:541: The name tf.placeholder is deprecated. Please use tf.compat.v1.placeholder instead.\n",
            "\n",
            "WARNING:tensorflow:From /usr/local/lib/python3.6/dist-packages/keras/backend/tensorflow_backend.py:4432: The name tf.random_uniform is deprecated. Please use tf.random.uniform instead.\n",
            "\n",
            "WARNING:tensorflow:From /usr/local/lib/python3.6/dist-packages/keras/backend/tensorflow_backend.py:4267: The name tf.nn.max_pool is deprecated. Please use tf.nn.max_pool2d instead.\n",
            "\n",
            "WARNING:tensorflow:From /usr/local/lib/python3.6/dist-packages/keras/backend/tensorflow_backend.py:148: The name tf.placeholder_with_default is deprecated. Please use tf.compat.v1.placeholder_with_default instead.\n",
            "\n",
            "WARNING:tensorflow:From /usr/local/lib/python3.6/dist-packages/keras/backend/tensorflow_backend.py:3733: calling dropout (from tensorflow.python.ops.nn_ops) with keep_prob is deprecated and will be removed in a future version.\n",
            "Instructions for updating:\n",
            "Please use `rate` instead of `keep_prob`. Rate should be set to `rate = 1 - keep_prob`.\n",
            "Model: \"sequential_1\"\n",
            "_________________________________________________________________\n",
            "Layer (type)                 Output Shape              Param #   \n",
            "=================================================================\n",
            "conv2d_1 (Conv2D)            (None, 15, 15, 32)        320       \n",
            "_________________________________________________________________\n",
            "conv2d_2 (Conv2D)            (None, 15, 15, 64)        18496     \n",
            "_________________________________________________________________\n",
            "max_pooling2d_1 (MaxPooling2 (None, 7, 7, 64)          0         \n",
            "_________________________________________________________________\n",
            "dropout_1 (Dropout)          (None, 7, 7, 64)          0         \n",
            "_________________________________________________________________\n",
            "flatten_1 (Flatten)          (None, 3136)              0         \n",
            "_________________________________________________________________\n",
            "dense_1 (Dense)              (None, 128)               401536    \n",
            "_________________________________________________________________\n",
            "dropout_2 (Dropout)          (None, 128)               0         \n",
            "_________________________________________________________________\n",
            "dense_2 (Dense)              (None, 3)                 387       \n",
            "=================================================================\n",
            "Total params: 420,739\n",
            "Trainable params: 420,739\n",
            "Non-trainable params: 0\n",
            "_________________________________________________________________\n"
          ],
          "name": "stdout"
        }
      ]
    },
    {
      "cell_type": "code",
      "metadata": {
        "id": "8Z913AqUa8bJ",
        "colab_type": "code",
        "outputId": "825d5084-a681-484a-edd4-1dc10be8df1f",
        "colab": {
          "base_uri": "https://localhost:8080/",
          "height": 84
        }
      },
      "source": [
        "model.compile(optimizer=\"adam\", loss=\"categorical_crossentropy\", metrics=[\"accuracy\"])"
      ],
      "execution_count": 40,
      "outputs": [
        {
          "output_type": "stream",
          "text": [
            "WARNING:tensorflow:From /usr/local/lib/python3.6/dist-packages/keras/optimizers.py:793: The name tf.train.Optimizer is deprecated. Please use tf.compat.v1.train.Optimizer instead.\n",
            "\n",
            "WARNING:tensorflow:From /usr/local/lib/python3.6/dist-packages/keras/backend/tensorflow_backend.py:3576: The name tf.log is deprecated. Please use tf.math.log instead.\n",
            "\n"
          ],
          "name": "stdout"
        }
      ]
    },
    {
      "cell_type": "markdown",
      "metadata": {
        "id": "VORA4n9Lz9of",
        "colab_type": "text"
      },
      "source": [
        "# 優化器"
      ]
    },
    {
      "cell_type": "code",
      "metadata": {
        "id": "Kw_j4R4Da_To",
        "colab_type": "code",
        "colab": {}
      },
      "source": [
        "#1\n",
        "lr_reduction = ReduceLROnPlateau(monitor = 'val_acc', \n",
        "                                 factor=0.5, \n",
        "                                 patience = 3, \n",
        "                                 verbose = 1, \n",
        "                                 min_lr = 0.00001)\n",
        "\n",
        "#2\n",
        "es = EarlyStopping(monitor='val_acc',#驗證集acc\n",
        "                   min_delta=0, \n",
        "                   patience=20,  \n",
        "                   mode='max',\n",
        "                   restore_best_weights=False)#恢復最佳權重"
      ],
      "execution_count": 0,
      "outputs": []
    },
    {
      "cell_type": "markdown",
      "metadata": {
        "id": "aevlVsI9Lk9a",
        "colab_type": "text"
      },
      "source": [
        "# fit"
      ]
    },
    {
      "cell_type": "code",
      "metadata": {
        "id": "TJJR7Yg-bHac",
        "colab_type": "code",
        "outputId": "dd60c013-b6e6-40a3-ef35-95be4c15df38",
        "colab": {
          "base_uri": "https://localhost:8080/",
          "height": 1000
        }
      },
      "source": [
        "history = model.fit(xtrain,ytrain,\n",
        "                    batch_size = 128,\n",
        "                    epochs = 256,\n",
        "                    validation_data=(xval,yval),\n",
        "                    verbose=1,callbacks=[es])"
      ],
      "execution_count": 42,
      "outputs": [
        {
          "output_type": "stream",
          "text": [
            "WARNING:tensorflow:From /usr/local/lib/python3.6/dist-packages/tensorflow/python/ops/math_grad.py:1250: add_dispatch_support.<locals>.wrapper (from tensorflow.python.ops.array_ops) is deprecated and will be removed in a future version.\n",
            "Instructions for updating:\n",
            "Use tf.where in 2.0, which has the same broadcast rule as np.where\n",
            "Train on 3829 samples, validate on 958 samples\n",
            "Epoch 1/256\n",
            "3829/3829 [==============================] - 3s 770us/step - loss: 1.0222 - acc: 0.5182 - val_loss: 1.0011 - val_acc: 0.5031\n",
            "Epoch 2/256\n",
            "3829/3829 [==============================] - 0s 52us/step - loss: 0.9966 - acc: 0.5244 - val_loss: 0.9990 - val_acc: 0.5031\n",
            "Epoch 3/256\n",
            "3829/3829 [==============================] - 0s 47us/step - loss: 0.9841 - acc: 0.5247 - val_loss: 0.9852 - val_acc: 0.5031\n",
            "Epoch 4/256\n",
            "3829/3829 [==============================] - 0s 45us/step - loss: 0.9740 - acc: 0.5252 - val_loss: 0.9810 - val_acc: 0.5031\n",
            "Epoch 5/256\n",
            "3829/3829 [==============================] - 0s 48us/step - loss: 0.9646 - acc: 0.5252 - val_loss: 0.9667 - val_acc: 0.4990\n",
            "Epoch 6/256\n",
            "3829/3829 [==============================] - 0s 46us/step - loss: 0.9572 - acc: 0.5289 - val_loss: 0.9657 - val_acc: 0.5031\n",
            "Epoch 7/256\n",
            "3829/3829 [==============================] - 0s 45us/step - loss: 0.9453 - acc: 0.5299 - val_loss: 0.9539 - val_acc: 0.5146\n",
            "Epoch 8/256\n",
            "3829/3829 [==============================] - 0s 52us/step - loss: 0.9460 - acc: 0.5338 - val_loss: 0.9517 - val_acc: 0.5157\n",
            "Epoch 9/256\n",
            "3829/3829 [==============================] - 0s 46us/step - loss: 0.9379 - acc: 0.5351 - val_loss: 0.9525 - val_acc: 0.5063\n",
            "Epoch 10/256\n",
            "3829/3829 [==============================] - 0s 45us/step - loss: 0.9361 - acc: 0.5362 - val_loss: 0.9537 - val_acc: 0.5094\n",
            "Epoch 11/256\n",
            "3829/3829 [==============================] - 0s 45us/step - loss: 0.9335 - acc: 0.5464 - val_loss: 0.9424 - val_acc: 0.5209\n",
            "Epoch 12/256\n",
            "3829/3829 [==============================] - 0s 48us/step - loss: 0.9265 - acc: 0.5471 - val_loss: 0.9598 - val_acc: 0.5063\n",
            "Epoch 13/256\n",
            "3829/3829 [==============================] - 0s 47us/step - loss: 0.9225 - acc: 0.5524 - val_loss: 0.9369 - val_acc: 0.5157\n",
            "Epoch 14/256\n",
            "3829/3829 [==============================] - 0s 44us/step - loss: 0.9169 - acc: 0.5495 - val_loss: 0.9399 - val_acc: 0.5219\n",
            "Epoch 15/256\n",
            "3829/3829 [==============================] - 0s 45us/step - loss: 0.9109 - acc: 0.5597 - val_loss: 0.9453 - val_acc: 0.5292\n",
            "Epoch 16/256\n",
            "3829/3829 [==============================] - 0s 45us/step - loss: 0.9090 - acc: 0.5641 - val_loss: 0.9301 - val_acc: 0.5407\n",
            "Epoch 17/256\n",
            "3829/3829 [==============================] - 0s 44us/step - loss: 0.9015 - acc: 0.5628 - val_loss: 0.9314 - val_acc: 0.5355\n",
            "Epoch 18/256\n",
            "3829/3829 [==============================] - 0s 45us/step - loss: 0.9001 - acc: 0.5631 - val_loss: 0.9415 - val_acc: 0.5418\n",
            "Epoch 19/256\n",
            "3829/3829 [==============================] - 0s 50us/step - loss: 0.8885 - acc: 0.5688 - val_loss: 0.9151 - val_acc: 0.5511\n",
            "Epoch 20/256\n",
            "3829/3829 [==============================] - 0s 47us/step - loss: 0.8825 - acc: 0.5691 - val_loss: 0.9332 - val_acc: 0.5470\n",
            "Epoch 21/256\n",
            "3829/3829 [==============================] - 0s 46us/step - loss: 0.8814 - acc: 0.5759 - val_loss: 0.9159 - val_acc: 0.5459\n",
            "Epoch 22/256\n",
            "3829/3829 [==============================] - 0s 49us/step - loss: 0.8711 - acc: 0.5743 - val_loss: 0.9069 - val_acc: 0.5418\n",
            "Epoch 23/256\n",
            "3829/3829 [==============================] - 0s 46us/step - loss: 0.8660 - acc: 0.5800 - val_loss: 0.9188 - val_acc: 0.5397\n",
            "Epoch 24/256\n",
            "3829/3829 [==============================] - 0s 46us/step - loss: 0.8663 - acc: 0.5884 - val_loss: 0.9256 - val_acc: 0.5459\n",
            "Epoch 25/256\n",
            "3829/3829 [==============================] - 0s 49us/step - loss: 0.8634 - acc: 0.5900 - val_loss: 0.9038 - val_acc: 0.5553\n",
            "Epoch 26/256\n",
            "3829/3829 [==============================] - 0s 46us/step - loss: 0.8580 - acc: 0.5915 - val_loss: 0.9067 - val_acc: 0.5553\n",
            "Epoch 27/256\n",
            "3829/3829 [==============================] - 0s 44us/step - loss: 0.8452 - acc: 0.5894 - val_loss: 0.8954 - val_acc: 0.5470\n",
            "Epoch 28/256\n",
            "3829/3829 [==============================] - 0s 45us/step - loss: 0.8352 - acc: 0.5986 - val_loss: 0.8930 - val_acc: 0.5605\n",
            "Epoch 29/256\n",
            "3829/3829 [==============================] - 0s 47us/step - loss: 0.8384 - acc: 0.6012 - val_loss: 0.8962 - val_acc: 0.5637\n",
            "Epoch 30/256\n",
            "3829/3829 [==============================] - 0s 44us/step - loss: 0.8217 - acc: 0.6163 - val_loss: 0.9067 - val_acc: 0.5428\n",
            "Epoch 31/256\n",
            "3829/3829 [==============================] - 0s 48us/step - loss: 0.8294 - acc: 0.6145 - val_loss: 0.9005 - val_acc: 0.5532\n",
            "Epoch 32/256\n",
            "3829/3829 [==============================] - 0s 46us/step - loss: 0.8096 - acc: 0.6062 - val_loss: 0.8883 - val_acc: 0.5616\n",
            "Epoch 33/256\n",
            "3829/3829 [==============================] - 0s 44us/step - loss: 0.8021 - acc: 0.6284 - val_loss: 0.9020 - val_acc: 0.5605\n",
            "Epoch 34/256\n",
            "3829/3829 [==============================] - 0s 46us/step - loss: 0.7993 - acc: 0.6234 - val_loss: 0.8686 - val_acc: 0.5752\n",
            "Epoch 35/256\n",
            "3829/3829 [==============================] - 0s 46us/step - loss: 0.7941 - acc: 0.6354 - val_loss: 0.8892 - val_acc: 0.5647\n",
            "Epoch 36/256\n",
            "3829/3829 [==============================] - 0s 47us/step - loss: 0.7898 - acc: 0.6289 - val_loss: 0.8869 - val_acc: 0.5689\n",
            "Epoch 37/256\n",
            "3829/3829 [==============================] - 0s 45us/step - loss: 0.7801 - acc: 0.6417 - val_loss: 0.8685 - val_acc: 0.5668\n",
            "Epoch 38/256\n",
            "3829/3829 [==============================] - 0s 45us/step - loss: 0.7748 - acc: 0.6448 - val_loss: 0.8583 - val_acc: 0.5877\n",
            "Epoch 39/256\n",
            "3829/3829 [==============================] - 0s 45us/step - loss: 0.7682 - acc: 0.6511 - val_loss: 0.8724 - val_acc: 0.5720\n",
            "Epoch 40/256\n",
            "3829/3829 [==============================] - 0s 45us/step - loss: 0.7555 - acc: 0.6451 - val_loss: 0.8755 - val_acc: 0.5699\n",
            "Epoch 41/256\n",
            "3829/3829 [==============================] - 0s 45us/step - loss: 0.7581 - acc: 0.6477 - val_loss: 0.8478 - val_acc: 0.5835\n",
            "Epoch 42/256\n",
            "3829/3829 [==============================] - 0s 51us/step - loss: 0.7509 - acc: 0.6516 - val_loss: 0.8569 - val_acc: 0.5825\n",
            "Epoch 43/256\n",
            "3829/3829 [==============================] - 0s 46us/step - loss: 0.7352 - acc: 0.6681 - val_loss: 0.8471 - val_acc: 0.5898\n",
            "Epoch 44/256\n",
            "3829/3829 [==============================] - 0s 46us/step - loss: 0.7342 - acc: 0.6581 - val_loss: 0.8472 - val_acc: 0.5950\n",
            "Epoch 45/256\n",
            "3829/3829 [==============================] - 0s 48us/step - loss: 0.7369 - acc: 0.6626 - val_loss: 0.8494 - val_acc: 0.5804\n",
            "Epoch 46/256\n",
            "3829/3829 [==============================] - 0s 47us/step - loss: 0.7265 - acc: 0.6748 - val_loss: 0.8455 - val_acc: 0.5971\n",
            "Epoch 47/256\n",
            "3829/3829 [==============================] - 0s 49us/step - loss: 0.7225 - acc: 0.6735 - val_loss: 0.8317 - val_acc: 0.6002\n",
            "Epoch 48/256\n",
            "3829/3829 [==============================] - 0s 47us/step - loss: 0.6982 - acc: 0.6814 - val_loss: 0.8422 - val_acc: 0.5971\n",
            "Epoch 49/256\n",
            "3829/3829 [==============================] - 0s 45us/step - loss: 0.6986 - acc: 0.6850 - val_loss: 0.8187 - val_acc: 0.6086\n",
            "Epoch 50/256\n",
            "3829/3829 [==============================] - 0s 44us/step - loss: 0.6939 - acc: 0.6827 - val_loss: 0.8250 - val_acc: 0.6023\n",
            "Epoch 51/256\n",
            "3829/3829 [==============================] - 0s 45us/step - loss: 0.6838 - acc: 0.6840 - val_loss: 0.8232 - val_acc: 0.6033\n",
            "Epoch 52/256\n",
            "3829/3829 [==============================] - 0s 47us/step - loss: 0.6806 - acc: 0.6913 - val_loss: 0.8416 - val_acc: 0.6138\n",
            "Epoch 53/256\n",
            "3829/3829 [==============================] - 0s 47us/step - loss: 0.6607 - acc: 0.7038 - val_loss: 0.8142 - val_acc: 0.6273\n",
            "Epoch 54/256\n",
            "3829/3829 [==============================] - 0s 50us/step - loss: 0.6596 - acc: 0.7127 - val_loss: 0.8172 - val_acc: 0.6263\n",
            "Epoch 55/256\n",
            "3829/3829 [==============================] - 0s 46us/step - loss: 0.6525 - acc: 0.7130 - val_loss: 0.7991 - val_acc: 0.6180\n",
            "Epoch 56/256\n",
            "3829/3829 [==============================] - 0s 45us/step - loss: 0.6427 - acc: 0.7177 - val_loss: 0.8114 - val_acc: 0.6200\n",
            "Epoch 57/256\n",
            "3829/3829 [==============================] - 0s 47us/step - loss: 0.6388 - acc: 0.7153 - val_loss: 0.7951 - val_acc: 0.6409\n",
            "Epoch 58/256\n",
            "3829/3829 [==============================] - 0s 45us/step - loss: 0.6396 - acc: 0.7169 - val_loss: 0.7954 - val_acc: 0.6399\n",
            "Epoch 59/256\n",
            "3829/3829 [==============================] - 0s 48us/step - loss: 0.6184 - acc: 0.7279 - val_loss: 0.7997 - val_acc: 0.6347\n",
            "Epoch 60/256\n",
            "3829/3829 [==============================] - 0s 46us/step - loss: 0.6211 - acc: 0.7253 - val_loss: 0.7833 - val_acc: 0.6336\n",
            "Epoch 61/256\n",
            "3829/3829 [==============================] - 0s 44us/step - loss: 0.6102 - acc: 0.7357 - val_loss: 0.7695 - val_acc: 0.6514\n",
            "Epoch 62/256\n",
            "3829/3829 [==============================] - 0s 45us/step - loss: 0.6023 - acc: 0.7362 - val_loss: 0.7924 - val_acc: 0.6482\n",
            "Epoch 63/256\n",
            "3829/3829 [==============================] - 0s 46us/step - loss: 0.5967 - acc: 0.7412 - val_loss: 0.7890 - val_acc: 0.6409\n",
            "Epoch 64/256\n",
            "3829/3829 [==============================] - 0s 46us/step - loss: 0.5886 - acc: 0.7516 - val_loss: 0.7759 - val_acc: 0.6514\n",
            "Epoch 65/256\n",
            "3829/3829 [==============================] - 0s 48us/step - loss: 0.5864 - acc: 0.7438 - val_loss: 0.7745 - val_acc: 0.6493\n",
            "Epoch 66/256\n",
            "3829/3829 [==============================] - 0s 47us/step - loss: 0.5791 - acc: 0.7532 - val_loss: 0.7660 - val_acc: 0.6628\n",
            "Epoch 67/256\n",
            "3829/3829 [==============================] - 0s 46us/step - loss: 0.5685 - acc: 0.7566 - val_loss: 0.7796 - val_acc: 0.6461\n",
            "Epoch 68/256\n",
            "3829/3829 [==============================] - 0s 45us/step - loss: 0.5478 - acc: 0.7663 - val_loss: 0.7697 - val_acc: 0.6608\n",
            "Epoch 69/256\n",
            "3829/3829 [==============================] - 0s 46us/step - loss: 0.5515 - acc: 0.7597 - val_loss: 0.7972 - val_acc: 0.6608\n",
            "Epoch 70/256\n",
            "3829/3829 [==============================] - 0s 45us/step - loss: 0.5464 - acc: 0.7683 - val_loss: 0.7442 - val_acc: 0.6848\n",
            "Epoch 71/256\n",
            "3829/3829 [==============================] - 0s 47us/step - loss: 0.5372 - acc: 0.7715 - val_loss: 0.7588 - val_acc: 0.6681\n",
            "Epoch 72/256\n",
            "3829/3829 [==============================] - 0s 45us/step - loss: 0.5340 - acc: 0.7681 - val_loss: 0.7589 - val_acc: 0.6785\n",
            "Epoch 73/256\n",
            "3829/3829 [==============================] - 0s 45us/step - loss: 0.5215 - acc: 0.7856 - val_loss: 0.7688 - val_acc: 0.6754\n",
            "Epoch 74/256\n",
            "3829/3829 [==============================] - 0s 45us/step - loss: 0.5028 - acc: 0.7958 - val_loss: 0.7647 - val_acc: 0.6733\n",
            "Epoch 75/256\n",
            "3829/3829 [==============================] - 0s 46us/step - loss: 0.5165 - acc: 0.7843 - val_loss: 0.7432 - val_acc: 0.6931\n",
            "Epoch 76/256\n",
            "3829/3829 [==============================] - 0s 45us/step - loss: 0.5111 - acc: 0.7882 - val_loss: 0.7911 - val_acc: 0.6754\n",
            "Epoch 77/256\n",
            "3829/3829 [==============================] - 0s 45us/step - loss: 0.4889 - acc: 0.7973 - val_loss: 0.7563 - val_acc: 0.6868\n",
            "Epoch 78/256\n",
            "3829/3829 [==============================] - 0s 46us/step - loss: 0.4962 - acc: 0.7960 - val_loss: 0.7406 - val_acc: 0.6858\n",
            "Epoch 79/256\n",
            "3829/3829 [==============================] - 0s 45us/step - loss: 0.4843 - acc: 0.8002 - val_loss: 0.7453 - val_acc: 0.6921\n",
            "Epoch 80/256\n",
            "3829/3829 [==============================] - 0s 45us/step - loss: 0.4720 - acc: 0.8033 - val_loss: 0.7389 - val_acc: 0.6983\n",
            "Epoch 81/256\n",
            "3829/3829 [==============================] - 0s 48us/step - loss: 0.4820 - acc: 0.7997 - val_loss: 0.7444 - val_acc: 0.6910\n",
            "Epoch 82/256\n",
            "3829/3829 [==============================] - 0s 45us/step - loss: 0.4675 - acc: 0.8180 - val_loss: 0.7420 - val_acc: 0.6889\n",
            "Epoch 83/256\n",
            "3829/3829 [==============================] - 0s 47us/step - loss: 0.4495 - acc: 0.8177 - val_loss: 0.7525 - val_acc: 0.6858\n",
            "Epoch 84/256\n",
            "3829/3829 [==============================] - 0s 49us/step - loss: 0.4495 - acc: 0.8198 - val_loss: 0.7630 - val_acc: 0.6921\n",
            "Epoch 85/256\n",
            "3829/3829 [==============================] - 0s 50us/step - loss: 0.4513 - acc: 0.8146 - val_loss: 0.7357 - val_acc: 0.6983\n",
            "Epoch 86/256\n",
            "3829/3829 [==============================] - 0s 46us/step - loss: 0.4622 - acc: 0.8117 - val_loss: 0.7258 - val_acc: 0.7046\n",
            "Epoch 87/256\n",
            "3829/3829 [==============================] - 0s 45us/step - loss: 0.4497 - acc: 0.8114 - val_loss: 0.7572 - val_acc: 0.6879\n",
            "Epoch 88/256\n",
            "3829/3829 [==============================] - 0s 47us/step - loss: 0.4363 - acc: 0.8242 - val_loss: 0.7394 - val_acc: 0.7035\n",
            "Epoch 89/256\n",
            "3829/3829 [==============================] - 0s 44us/step - loss: 0.4347 - acc: 0.8211 - val_loss: 0.7300 - val_acc: 0.7067\n",
            "Epoch 90/256\n",
            "3829/3829 [==============================] - 0s 46us/step - loss: 0.4218 - acc: 0.8261 - val_loss: 0.7388 - val_acc: 0.6848\n",
            "Epoch 91/256\n",
            "3829/3829 [==============================] - 0s 46us/step - loss: 0.4184 - acc: 0.8313 - val_loss: 0.7635 - val_acc: 0.6994\n",
            "Epoch 92/256\n",
            "3829/3829 [==============================] - 0s 45us/step - loss: 0.4158 - acc: 0.8352 - val_loss: 0.7400 - val_acc: 0.6962\n",
            "Epoch 93/256\n",
            "3829/3829 [==============================] - 0s 45us/step - loss: 0.4058 - acc: 0.8407 - val_loss: 0.7338 - val_acc: 0.7025\n",
            "Epoch 94/256\n",
            "3829/3829 [==============================] - 0s 46us/step - loss: 0.4028 - acc: 0.8430 - val_loss: 0.7306 - val_acc: 0.6973\n",
            "Epoch 95/256\n",
            "3829/3829 [==============================] - 0s 44us/step - loss: 0.3994 - acc: 0.8396 - val_loss: 0.7440 - val_acc: 0.7025\n",
            "Epoch 96/256\n",
            "3829/3829 [==============================] - 0s 43us/step - loss: 0.3972 - acc: 0.8368 - val_loss: 0.7225 - val_acc: 0.7171\n",
            "Epoch 97/256\n",
            "3829/3829 [==============================] - 0s 45us/step - loss: 0.3929 - acc: 0.8394 - val_loss: 0.7153 - val_acc: 0.7129\n",
            "Epoch 98/256\n",
            "3829/3829 [==============================] - 0s 45us/step - loss: 0.3845 - acc: 0.8438 - val_loss: 0.7405 - val_acc: 0.6973\n",
            "Epoch 99/256\n",
            "3829/3829 [==============================] - 0s 45us/step - loss: 0.3706 - acc: 0.8535 - val_loss: 0.7373 - val_acc: 0.7119\n",
            "Epoch 100/256\n",
            "3829/3829 [==============================] - 0s 47us/step - loss: 0.3825 - acc: 0.8443 - val_loss: 0.7130 - val_acc: 0.7140\n",
            "Epoch 101/256\n",
            "3829/3829 [==============================] - 0s 44us/step - loss: 0.3735 - acc: 0.8577 - val_loss: 0.7363 - val_acc: 0.7182\n",
            "Epoch 102/256\n",
            "3829/3829 [==============================] - 0s 44us/step - loss: 0.3526 - acc: 0.8577 - val_loss: 0.7616 - val_acc: 0.6900\n",
            "Epoch 103/256\n",
            "3829/3829 [==============================] - 0s 45us/step - loss: 0.3717 - acc: 0.8543 - val_loss: 0.7375 - val_acc: 0.7234\n",
            "Epoch 104/256\n",
            "3829/3829 [==============================] - 0s 44us/step - loss: 0.3592 - acc: 0.8558 - val_loss: 0.7495 - val_acc: 0.7098\n",
            "Epoch 105/256\n",
            "3829/3829 [==============================] - 0s 44us/step - loss: 0.3614 - acc: 0.8506 - val_loss: 0.7160 - val_acc: 0.7161\n",
            "Epoch 106/256\n",
            "3829/3829 [==============================] - 0s 45us/step - loss: 0.3509 - acc: 0.8637 - val_loss: 0.7457 - val_acc: 0.7046\n",
            "Epoch 107/256\n",
            "3829/3829 [==============================] - 0s 44us/step - loss: 0.3414 - acc: 0.8673 - val_loss: 0.7645 - val_acc: 0.6952\n",
            "Epoch 108/256\n",
            "3829/3829 [==============================] - 0s 43us/step - loss: 0.3414 - acc: 0.8676 - val_loss: 0.7628 - val_acc: 0.7088\n",
            "Epoch 109/256\n",
            "3829/3829 [==============================] - 0s 45us/step - loss: 0.3493 - acc: 0.8631 - val_loss: 0.7195 - val_acc: 0.7077\n",
            "Epoch 110/256\n",
            "3829/3829 [==============================] - 0s 48us/step - loss: 0.3426 - acc: 0.8598 - val_loss: 0.7167 - val_acc: 0.7203\n",
            "Epoch 111/256\n",
            "3829/3829 [==============================] - 0s 46us/step - loss: 0.3398 - acc: 0.8645 - val_loss: 0.7328 - val_acc: 0.7150\n",
            "Epoch 112/256\n",
            "3829/3829 [==============================] - 0s 47us/step - loss: 0.3296 - acc: 0.8668 - val_loss: 0.7182 - val_acc: 0.7140\n",
            "Epoch 113/256\n",
            "3829/3829 [==============================] - 0s 46us/step - loss: 0.3217 - acc: 0.8736 - val_loss: 0.7456 - val_acc: 0.7119\n",
            "Epoch 114/256\n",
            "3829/3829 [==============================] - 0s 48us/step - loss: 0.3388 - acc: 0.8679 - val_loss: 0.7193 - val_acc: 0.7276\n",
            "Epoch 115/256\n",
            "3829/3829 [==============================] - 0s 47us/step - loss: 0.3287 - acc: 0.8754 - val_loss: 0.7119 - val_acc: 0.7328\n",
            "Epoch 116/256\n",
            "3829/3829 [==============================] - 0s 45us/step - loss: 0.3161 - acc: 0.8773 - val_loss: 0.7339 - val_acc: 0.7244\n",
            "Epoch 117/256\n",
            "3829/3829 [==============================] - 0s 46us/step - loss: 0.3075 - acc: 0.8825 - val_loss: 0.7200 - val_acc: 0.7349\n",
            "Epoch 118/256\n",
            "3829/3829 [==============================] - 0s 52us/step - loss: 0.2979 - acc: 0.8835 - val_loss: 0.7671 - val_acc: 0.7129\n",
            "Epoch 119/256\n",
            "3829/3829 [==============================] - 0s 45us/step - loss: 0.3061 - acc: 0.8820 - val_loss: 0.7120 - val_acc: 0.7349\n",
            "Epoch 120/256\n",
            "3829/3829 [==============================] - 0s 45us/step - loss: 0.3057 - acc: 0.8851 - val_loss: 0.7185 - val_acc: 0.7328\n",
            "Epoch 121/256\n",
            "3829/3829 [==============================] - 0s 45us/step - loss: 0.2989 - acc: 0.8856 - val_loss: 0.7398 - val_acc: 0.7296\n",
            "Epoch 122/256\n",
            "3829/3829 [==============================] - 0s 47us/step - loss: 0.2881 - acc: 0.8851 - val_loss: 0.7248 - val_acc: 0.7453\n",
            "Epoch 123/256\n",
            "3829/3829 [==============================] - 0s 46us/step - loss: 0.2936 - acc: 0.8861 - val_loss: 0.7322 - val_acc: 0.7276\n",
            "Epoch 124/256\n",
            "3829/3829 [==============================] - 0s 44us/step - loss: 0.2960 - acc: 0.8820 - val_loss: 0.7435 - val_acc: 0.7161\n",
            "Epoch 125/256\n",
            "3829/3829 [==============================] - 0s 44us/step - loss: 0.2823 - acc: 0.8914 - val_loss: 0.7571 - val_acc: 0.7286\n",
            "Epoch 126/256\n",
            "3829/3829 [==============================] - 0s 49us/step - loss: 0.2904 - acc: 0.8895 - val_loss: 0.7463 - val_acc: 0.7401\n",
            "Epoch 127/256\n",
            "3829/3829 [==============================] - 0s 44us/step - loss: 0.2902 - acc: 0.8877 - val_loss: 0.7141 - val_acc: 0.7338\n",
            "Epoch 128/256\n",
            "3829/3829 [==============================] - 0s 47us/step - loss: 0.2709 - acc: 0.8916 - val_loss: 0.7329 - val_acc: 0.7203\n",
            "Epoch 129/256\n",
            "3829/3829 [==============================] - 0s 47us/step - loss: 0.2702 - acc: 0.8948 - val_loss: 0.7286 - val_acc: 0.7359\n",
            "Epoch 130/256\n",
            "3829/3829 [==============================] - 0s 45us/step - loss: 0.2603 - acc: 0.9005 - val_loss: 0.7406 - val_acc: 0.7223\n",
            "Epoch 131/256\n",
            "3829/3829 [==============================] - 0s 47us/step - loss: 0.2791 - acc: 0.8906 - val_loss: 0.7531 - val_acc: 0.7223\n",
            "Epoch 132/256\n",
            "3829/3829 [==============================] - 0s 48us/step - loss: 0.2706 - acc: 0.8950 - val_loss: 0.7434 - val_acc: 0.7370\n",
            "Epoch 133/256\n",
            "3829/3829 [==============================] - 0s 45us/step - loss: 0.2736 - acc: 0.8945 - val_loss: 0.7423 - val_acc: 0.7370\n",
            "Epoch 134/256\n",
            "3829/3829 [==============================] - 0s 44us/step - loss: 0.2584 - acc: 0.8987 - val_loss: 0.7582 - val_acc: 0.7422\n",
            "Epoch 135/256\n",
            "3829/3829 [==============================] - 0s 46us/step - loss: 0.2616 - acc: 0.9013 - val_loss: 0.7513 - val_acc: 0.7401\n",
            "Epoch 136/256\n",
            "3829/3829 [==============================] - 0s 46us/step - loss: 0.2673 - acc: 0.9010 - val_loss: 0.7344 - val_acc: 0.7359\n",
            "Epoch 137/256\n",
            "3829/3829 [==============================] - 0s 47us/step - loss: 0.2545 - acc: 0.9023 - val_loss: 0.7771 - val_acc: 0.7317\n",
            "Epoch 138/256\n",
            "3829/3829 [==============================] - 0s 48us/step - loss: 0.2677 - acc: 0.8989 - val_loss: 0.7533 - val_acc: 0.7276\n",
            "Epoch 139/256\n",
            "3829/3829 [==============================] - 0s 45us/step - loss: 0.2606 - acc: 0.9002 - val_loss: 0.7576 - val_acc: 0.7422\n",
            "Epoch 140/256\n",
            "3829/3829 [==============================] - 0s 45us/step - loss: 0.2559 - acc: 0.9015 - val_loss: 0.7415 - val_acc: 0.7453\n",
            "Epoch 141/256\n",
            "3829/3829 [==============================] - 0s 47us/step - loss: 0.2311 - acc: 0.9125 - val_loss: 0.7815 - val_acc: 0.7317\n",
            "Epoch 142/256\n",
            "3829/3829 [==============================] - 0s 46us/step - loss: 0.2418 - acc: 0.9078 - val_loss: 0.7647 - val_acc: 0.7338\n"
          ],
          "name": "stdout"
        }
      ]
    },
    {
      "cell_type": "markdown",
      "metadata": {
        "id": "xQ2Koxsz0Zun",
        "colab_type": "text"
      },
      "source": [
        "# 訓練過程評估"
      ]
    },
    {
      "cell_type": "code",
      "metadata": {
        "id": "2SxJIEDzbaZ7",
        "colab_type": "code",
        "outputId": "dfc7ce36-ff69-4178-cb1f-77fe9a93ff81",
        "colab": {
          "base_uri": "https://localhost:8080/",
          "height": 269
        }
      },
      "source": [
        "import matplotlib.pyplot as plt\n",
        "fig, ax = plt.subplots(2,1)\n",
        "ax[0].plot(history.history['loss'], color='b', label=\"Training loss\")\n",
        "ax[0].plot(history.history['val_loss'], color='r', label=\"Validation loss\",axes =ax[0])\n",
        "ax[0].grid(color='black', linestyle='-', linewidth=0.25)\n",
        "legend = ax[0].legend(loc='best', shadow=True)\n",
        "\n",
        "ax[1].plot(history.history['acc'], color='b', label=\"Training accuracy\")\n",
        "ax[1].plot(history.history['val_acc'], color='r',label=\"Validation accuracy\")\n",
        "ax[1].grid(color='black', linestyle='-', linewidth=0.25)\n",
        "legend = ax[1].legend(loc='best', shadow=True)"
      ],
      "execution_count": 43,
      "outputs": [
        {
          "output_type": "display_data",
          "data": {
            "image/png": "[encoded data removed]",
            "text/plain": [
              "<Figure size 432x288 with 2 Axes>"
            ]
          },
          "metadata": {
            "tags": []
          }
        }
      ]
    },
    {
      "cell_type": "markdown",
      "metadata": {
        "id": "zWVmgHz80cCp",
        "colab_type": "text"
      },
      "source": [
        "# 混淆矩陣"
      ]
    },
    {
      "cell_type": "code",
      "metadata": {
        "id": "UH5CcmX6btme",
        "colab_type": "code",
        "outputId": "1bde0565-2ac3-4df8-cb1d-442fdb6e2c62",
        "colab": {
          "base_uri": "https://localhost:8080/",
          "height": 311
        }
      },
      "source": [
        "from sklearn.metrics import confusion_matrix\n",
        "import itertools\n",
        "\n",
        "def plot_confusion_matrix(cm, classes, normalize=False, title='Confusion matrix', cmap=plt.cm.Blues):\n",
        "    plt.imshow(cm, interpolation='nearest', cmap=cmap)\n",
        "    plt.title(title)\n",
        "    plt.colorbar()\n",
        "    tick_marks = np.arange(len(classes))\n",
        "    plt.xticks(tick_marks, classes, rotation=45)\n",
        "    plt.yticks(tick_marks, classes)\n",
        "    if normalize:\n",
        "        cm = cm.astype('float') / cm.sum(axis=1)[:, np.newaxis]\n",
        "    thresh = cm.max() / 2.\n",
        "    for i, j in itertools.product(range(cm.shape[0]), range(cm.shape[1])):\n",
        "        plt.text(j, i, cm[i, j],\n",
        "                 horizontalalignment=\"center\",\n",
        "                 color=\"white\" if cm[i, j] > thresh else \"black\")\n",
        "    plt.tight_layout()\n",
        "    plt.ylabel('True label')\n",
        "    plt.xlabel('Predicted label')\n",
        "\n",
        "#預測的y\n",
        "ypred_onehot = model.predict(xval)\n",
        "#轉換預測的y: [0 0 1 0 0 ...] --> 2\n",
        "ypred = np.argmax(ypred_onehot,axis=1)\n",
        "#轉換真實的y\n",
        "ytrue = np.argmax(yval,axis=1)\n",
        "#計算 confusion matrix\n",
        "confusion_mtx = confusion_matrix(ytrue, ypred)\n",
        "#畫出 confusion matrix\n",
        "plot_confusion_matrix(confusion_mtx, classes=range(nclasses))"
      ],
      "execution_count": 44,
      "outputs": [
        {
          "output_type": "display_data",
          "data": {
            "image/png": "[encoded data removed]",
            "text/plain": [
              "<Figure size 432x288 with 2 Axes>"
            ]
          },
          "metadata": {
            "tags": []
          }
        }
      ]
    },
    {
      "cell_type": "markdown",
      "metadata": {
        "id": "PmgafP2rpjAO",
        "colab_type": "text"
      },
      "source": [
        "# 分類report"
      ]
    },
    {
      "cell_type": "markdown",
      "metadata": {
        "id": "zXQ8o9mj1Ydh",
        "colab_type": "text"
      },
      "source": [
        "轉換預測結果"
      ]
    },
    {
      "cell_type": "code",
      "metadata": {
        "id": "lCSuw9cYqEYk",
        "colab_type": "code",
        "outputId": "83e471b0-606c-4fb6-ae0d-7adb24d2011f",
        "colab": {
          "base_uri": "https://localhost:8080/",
          "height": 101
        }
      },
      "source": [
        "y_pred = model.predict(xval)\n",
        "y_pred = [np.argmax(i) for i in y_pred]\n",
        "y_pred = to_categorical(y_pred, num_classes = 3)\n",
        "print(y_pred[:5])"
      ],
      "execution_count": 45,
      "outputs": [
        {
          "output_type": "stream",
          "text": [
            "[[0. 0. 1.]\n",
            " [0. 0. 1.]\n",
            " [0. 0. 1.]\n",
            " [0. 0. 1.]\n",
            " [0. 0. 1.]]\n"
          ],
          "name": "stdout"
        }
      ]
    },
    {
      "cell_type": "markdown",
      "metadata": {
        "id": "XrHrpsVb1avA",
        "colab_type": "text"
      },
      "source": [
        "真實y值"
      ]
    },
    {
      "cell_type": "code",
      "metadata": {
        "id": "T2tyxRdo1Mqm",
        "colab_type": "code",
        "outputId": "09595705-591c-4ec4-bde7-e413b399aff2",
        "colab": {
          "base_uri": "https://localhost:8080/",
          "height": 101
        }
      },
      "source": [
        "print(yval[:5])"
      ],
      "execution_count": 46,
      "outputs": [
        {
          "output_type": "stream",
          "text": [
            "[[0. 0. 1.]\n",
            " [0. 0. 1.]\n",
            " [1. 0. 0.]\n",
            " [0. 0. 1.]\n",
            " [0. 1. 0.]]\n"
          ],
          "name": "stdout"
        }
      ]
    },
    {
      "cell_type": "markdown",
      "metadata": {
        "id": "wztZOw2r1ddE",
        "colab_type": "text"
      },
      "source": [
        "# 分類報告"
      ]
    },
    {
      "cell_type": "code",
      "metadata": {
        "id": "vzMaU-Y8pjJT",
        "colab_type": "code",
        "outputId": "3ffd9ba3-6c0d-4cad-8137-bcbd47d38d7d",
        "colab": {
          "base_uri": "https://localhost:8080/",
          "height": 202
        }
      },
      "source": [
        "from sklearn.metrics import classification_report \n",
        "target_names = ['Hold','BUY','SELL']\n",
        "print(classification_report(yval,y_pred,target_names=target_names))"
      ],
      "execution_count": 47,
      "outputs": [
        {
          "output_type": "stream",
          "text": [
            "              precision    recall  f1-score   support\n",
            "\n",
            "        Hold       0.61      0.68      0.64       197\n",
            "         BUY       0.74      0.65      0.69       279\n",
            "        SELL       0.78      0.80      0.79       482\n",
            "\n",
            "   micro avg       0.73      0.73      0.73       958\n",
            "   macro avg       0.71      0.71      0.71       958\n",
            "weighted avg       0.74      0.73      0.73       958\n",
            " samples avg       0.73      0.73      0.73       958\n",
            "\n"
          ],
          "name": "stdout"
        }
      ]
    },
    {
      "cell_type": "markdown",
      "metadata": {
        "id": "n-KXEoZLb9ie",
        "colab_type": "text"
      },
      "source": [
        "# plot error"
      ]
    },
    {
      "cell_type": "code",
      "metadata": {
        "id": "nCW5Xvtrb0fC",
        "colab_type": "code",
        "outputId": "9b5461b3-3967-49f2-9c6a-ad2ebd9f9200",
        "colab": {
          "base_uri": "https://localhost:8080/",
          "height": 293
        }
      },
      "source": [
        "errors = (ypred - ytrue != 0)\n",
        "\n",
        "ypred_er = ypred_onehot[errors]\n",
        "ypred_classes_er = ypred[errors]\n",
        "ytrue_er = ytrue[errors]\n",
        "xval_er = xval[errors]\n",
        "\n",
        "def display_errors(errors_index, img_errors, pred_errors, obs_errors):\n",
        "    n = 0\n",
        "    nrows = 2\n",
        "    ncols = 3\n",
        "    fig, ax = plt.subplots(nrows, ncols, sharex=True, sharey=True)\n",
        "    plt.subplots_adjust(wspace =0.5, hspace =0.5)\n",
        "    for row in range(nrows):\n",
        "        for col in range(ncols):\n",
        "            error = errors_index[n]\n",
        "            ax[row,col].imshow((img_errors[error]).reshape((days,len(features))))\n",
        "            ax[row,col].set_title(\"Predicted label :{}\\nTrue label :{}\".format(pred_errors[error],obs_errors[error]))\n",
        "            n += 1\n",
        "            \n",
        "# 錯誤預測的概率\n",
        "ypred_er_prob = np.max(ypred_er,axis=1)\n",
        "\n",
        "# Predicted probabilities of the true values in the error set\n",
        "true_prob_er = np.diagonal(np.take(ypred_er, ytrue_er, axis=1))\n",
        "\n",
        "# Difference between the probability of the predicted label and the true label\n",
        "delta_pred_true_er = ypred_er_prob - true_prob_er\n",
        "\n",
        "# Sorted list of the delta prob errors\n",
        "sorted_delta_er = np.argsort(delta_pred_true_er)\n",
        "\n",
        "# Top 6 errors. You can change the range to see other images\n",
        "most_important_er = sorted_delta_er[-6:]\n",
        "\n",
        "# Show the top 6 errors\n",
        "display_errors(most_important_er, xval_er, ypred_classes_er, ytrue_er)"
      ],
      "execution_count": 48,
      "outputs": [
        {
          "output_type": "display_data",
          "data": {
            "image/png": "[encoded data removed]",
            "text/plain": [
              "<Figure size 432x288 with 6 Axes>"
            ]
          },
          "metadata": {
            "tags": []
          }
        }
      ]
    },
    {
      "cell_type": "markdown",
      "metadata": {
        "id": "togdM5Afo71w",
        "colab_type": "text"
      },
      "source": [
        "## 預測最後40筆"
      ]
    },
    {
      "cell_type": "code",
      "metadata": {
        "id": "kQqzNPdQo8GW",
        "colab_type": "code",
        "outputId": "aeb6dc43-2152-4ecc-f0d2-0adf08e72cbd",
        "colab": {
          "base_uri": "https://localhost:8080/",
          "height": 34
        }
      },
      "source": [
        "answer = model.predict(X_test)\n",
        "answer = [ np.argmax(i) for i in answer]\n",
        "print(len(answer))"
      ],
      "execution_count": 49,
      "outputs": [
        {
          "output_type": "stream",
          "text": [
            "40\n"
          ],
          "name": "stdout"
        }
      ]
    },
    {
      "cell_type": "markdown",
      "metadata": {
        "id": "FOBO-SgaBHMx",
        "colab_type": "text"
      },
      "source": [
        "# 0~20筆"
      ]
    },
    {
      "cell_type": "code",
      "metadata": {
        "id": "YHzRjtab0pr-",
        "colab_type": "code",
        "outputId": "f774413d-e70e-4eb5-f6b2-8821299b12cf",
        "colab": {
          "base_uri": "https://localhost:8080/",
          "height": 335
        }
      },
      "source": [
        "INDEX60 = df[-60:].index\n",
        "C = web.DataReader(SID,'yahoo',start=\"2000-01-01\")[['Close']]\n",
        "C = C.loc[INDEX60,:]\n",
        "C['SIGNAL'] = [np.nan for _ in range(20)] + answer #20個NAN+預測答案\n",
        "buy = C[C['SIGNAL']==1]['Close']\n",
        "sell = C[C['SIGNAL']==2]['Close']\n",
        "C['Close'][20:40].plot()\n",
        "plt.scatter(list(buy.index),list(buy.values),color='red',marker=\"^\")\n",
        "plt.scatter(list(sell.index),list(sell.values),color='black')"
      ],
      "execution_count": 60,
      "outputs": [
        {
          "output_type": "execute_result",
          "data": {
            "text/plain": [
              "<matplotlib.collections.PathCollection at 0x7fb9f14b0518>"
            ]
          },
          "metadata": {
            "tags": []
          },
          "execution_count": 60
        },
        {
          "output_type": "display_data",
          "data": {
            "image/png": "[encoded data removed]",
            "text/plain": [
              "<Figure size 432x288 with 1 Axes>"
            ]
          },
          "metadata": {
            "tags": []
          }
        }
      ]
    },
    {
      "cell_type": "markdown",
      "metadata": {
        "id": "NpYwUgdJBKWR",
        "colab_type": "text"
      },
      "source": [
        "# 20~40筆"
      ]
    },
    {
      "cell_type": "code",
      "metadata": {
        "id": "9AZQa4zj2Psu",
        "colab_type": "code",
        "outputId": "90e8868f-01bb-42c0-92b3-481564918791",
        "colab": {
          "base_uri": "https://localhost:8080/",
          "height": 306
        }
      },
      "source": [
        "C['Close'][40:60].plot()\n",
        "plt.scatter(list(buy.index),list(buy.values),color='red',marker=\"^\")\n",
        "plt.scatter(list(sell.index),list(sell.values),color='black')"
      ],
      "execution_count": 62,
      "outputs": [
        {
          "output_type": "execute_result",
          "data": {
            "text/plain": [
              "<matplotlib.collections.PathCollection at 0x7fb9f625dfd0>"
            ]
          },
          "metadata": {
            "tags": []
          },
          "execution_count": 62
        },
        {
          "output_type": "display_data",
          "data": {
            "image/png": "[encoded data removed]",
            "text/plain": [
              "<Figure size 432x288 with 1 Axes>"
            ]
          },
          "metadata": {
            "tags": []
          }
        }
      ]
    },
    {
      "cell_type": "markdown",
      "metadata": {
        "id": "j3i8j1ewAtDU",
        "colab_type": "text"
      },
      "source": [
        "# 合併"
      ]
    },
    {
      "cell_type": "code",
      "metadata": {
        "id": "y-RBxkc38C1a",
        "colab_type": "code",
        "outputId": "f3f1a08f-6eb6-4fb5-cf6d-b57a8b2db3ba",
        "colab": {
          "base_uri": "https://localhost:8080/",
          "height": 306
        }
      },
      "source": [
        "C['Close'][20:60].plot()\n",
        "plt.scatter(list(buy.index),list(buy.values),color='red',marker=\"^\")\n",
        "plt.scatter(list(sell.index),list(sell.values),color='black')"
      ],
      "execution_count": 64,
      "outputs": [
        {
          "output_type": "execute_result",
          "data": {
            "text/plain": [
              "<matplotlib.collections.PathCollection at 0x7fb9f1620e80>"
            ]
          },
          "metadata": {
            "tags": []
          },
          "execution_count": 64
        },
        {
          "output_type": "display_data",
          "data": {
            "image/png": "[encoded data removed]",
            "text/plain": [
              "<Figure size 432x288 with 1 Axes>"
            ]
          },
          "metadata": {
            "tags": []
          }
        }
      ]
    },
    {
      "cell_type": "markdown",
      "metadata": {
        "id": "WWVaZwDKF_lr",
        "colab_type": "text"
      },
      "source": [
        "# 平滑版本"
      ]
    },
    {
      "cell_type": "code",
      "metadata": {
        "id": "OUO9oF7sAvmH",
        "colab_type": "code",
        "outputId": "53704998-7386-4b2f-e554-05858f5f9357",
        "colab": {
          "base_uri": "https://localhost:8080/",
          "height": 306
        }
      },
      "source": [
        "C_roll20 = pd.DataFrame(index=C.index)#空的dataframe index = 倒數60天股票日期\n",
        "C_roll20['Close'] = C['Close'].rolling(20).mean()#收盤價做20天平滑\n",
        "C_roll20['SIGNAL'] = C['SIGNAL']\n",
        "buy = C_roll20[C_roll20['SIGNAL']==1]['Close']#買點\n",
        "sell= C_roll20[C_roll20['SIGNAL']==2]['Close']#賣點\n",
        "C_roll20['Close'][20:].plot()\n",
        "plt.scatter(list(buy.index),list(buy.values),color='red',marker=\"^\")\n",
        "plt.scatter(list(sell.index),list(sell.values),color='black')"
      ],
      "execution_count": 66,
      "outputs": [
        {
          "output_type": "execute_result",
          "data": {
            "text/plain": [
              "<matplotlib.collections.PathCollection at 0x7fba0605ca20>"
            ]
          },
          "metadata": {
            "tags": []
          },
          "execution_count": 66
        },
        {
          "output_type": "display_data",
          "data": {
            "image/png": "[encoded data removed]",
            "text/plain": [
              "<Figure size 432x288 with 1 Axes>"
            ]
          },
          "metadata": {
            "tags": []
          }
        }
      ]
    },
    {
      "cell_type": "code",
      "metadata": {
        "id": "UIeUpfe4GzRI",
        "colab_type": "code",
        "colab": {}
      },
      "source": [
        ""
      ],
      "execution_count": 0,
      "outputs": []
    }
  ]
}