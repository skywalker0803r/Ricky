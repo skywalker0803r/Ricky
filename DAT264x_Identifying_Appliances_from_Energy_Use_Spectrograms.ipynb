{
  "nbformat": 4,
  "nbformat_minor": 0,
  "metadata": {
    "accelerator": "GPU",
    "colab": {
      "name": "DAT264x_Identifying_Appliances_from_Energy_Use_Spectrograms.ipynb",
      "provenance": [],
      "collapsed_sections": [],
      "include_colab_link": true
    },
    "kernelspec": {
      "display_name": "Python 3",
      "language": "python",
      "name": "python3"
    },
    "language_info": {
      "codemirror_mode": {
        "name": "ipython",
        "version": 3
      },
      "file_extension": ".py",
      "mimetype": "text/x-python",
      "name": "python",
      "nbconvert_exporter": "python",
      "pygments_lexer": "ipython3",
      "version": "3.6.9"
    },
    "widgets": {
      "application/vnd.jupyter.widget-state+json": {
        "1166cd46b8804b5c8ab3f7c45a944975": {
          "model_module": "@jupyter-widgets/controls",
          "model_name": "HBoxModel",
          "state": {
            "_dom_classes": [],
            "_model_module": "@jupyter-widgets/controls",
            "_model_module_version": "1.5.0",
            "_model_name": "HBoxModel",
            "_view_count": null,
            "_view_module": "@jupyter-widgets/controls",
            "_view_module_version": "1.5.0",
            "_view_name": "HBoxView",
            "box_style": "",
            "children": [
              "IPY_MODEL_1db060ae47ea4517beade21cb08dcd3d",
              "IPY_MODEL_a2fb343ee83e4050b14880527f47b828"
            ],
            "layout": "IPY_MODEL_6c64a519800d4a6b8b8f00a3e0c94b1a"
          }
        },
        "6c64a519800d4a6b8b8f00a3e0c94b1a": {
          "model_module": "@jupyter-widgets/base",
          "model_name": "LayoutModel",
          "state": {
            "_model_module": "@jupyter-widgets/base",
            "_model_module_version": "1.2.0",
            "_model_name": "LayoutModel",
            "_view_count": null,
            "_view_module": "@jupyter-widgets/base",
            "_view_module_version": "1.2.0",
            "_view_name": "LayoutView",
            "align_content": null,
            "align_items": null,
            "align_self": null,
            "border": null,
            "bottom": null,
            "display": null,
            "flex": null,
            "flex_flow": null,
            "grid_area": null,
            "grid_auto_columns": null,
            "grid_auto_flow": null,
            "grid_auto_rows": null,
            "grid_column": null,
            "grid_gap": null,
            "grid_row": null,
            "grid_template_areas": null,
            "grid_template_columns": null,
            "grid_template_rows": null,
            "height": null,
            "justify_content": null,
            "justify_items": null,
            "left": null,
            "margin": null,
            "max_height": null,
            "max_width": null,
            "min_height": null,
            "min_width": null,
            "object_fit": null,
            "object_position": null,
            "order": null,
            "overflow": null,
            "overflow_x": null,
            "overflow_y": null,
            "padding": null,
            "right": null,
            "top": null,
            "visibility": null,
            "width": null
          }
        },
        "1db060ae47ea4517beade21cb08dcd3d": {
          "model_module": "@jupyter-widgets/controls",
          "model_name": "IntProgressModel",
          "state": {
            "_dom_classes": [],
            "_model_module": "@jupyter-widgets/controls",
            "_model_module_version": "1.5.0",
            "_model_name": "IntProgressModel",
            "_view_count": null,
            "_view_module": "@jupyter-widgets/controls",
            "_view_module_version": "1.5.0",
            "_view_name": "ProgressView",
            "bar_style": "success",
            "description": "",
            "description_tooltip": null,
            "layout": "IPY_MODEL_e9a6765535e3466d827cc38b9afa803f",
            "max": 1152,
            "min": 0,
            "orientation": "horizontal",
            "style": "IPY_MODEL_21a23fa75d2740d98601a55a5781e7b0",
            "value": 1152
          }
        },
        "a2fb343ee83e4050b14880527f47b828": {
          "model_module": "@jupyter-widgets/controls",
          "model_name": "HTMLModel",
          "state": {
            "_dom_classes": [],
            "_model_module": "@jupyter-widgets/controls",
            "_model_module_version": "1.5.0",
            "_model_name": "HTMLModel",
            "_view_count": null,
            "_view_module": "@jupyter-widgets/controls",
            "_view_module_version": "1.5.0",
            "_view_name": "HTMLView",
            "description": "",
            "description_tooltip": null,
            "layout": "IPY_MODEL_4af4d1f8c3ea410597fc8a7a8f54c7e6",
            "placeholder": "​",
            "style": "IPY_MODEL_940ac17698764544ab6a3b946771843b",
            "value": "100% 1152/1152 [10:29&lt;00:00,  1.92it/s]"
          }
        },
        "21a23fa75d2740d98601a55a5781e7b0": {
          "model_module": "@jupyter-widgets/controls",
          "model_name": "ProgressStyleModel",
          "state": {
            "_model_module": "@jupyter-widgets/controls",
            "_model_module_version": "1.5.0",
            "_model_name": "ProgressStyleModel",
            "_view_count": null,
            "_view_module": "@jupyter-widgets/base",
            "_view_module_version": "1.2.0",
            "_view_name": "StyleView",
            "bar_color": null,
            "description_width": ""
          }
        },
        "e9a6765535e3466d827cc38b9afa803f": {
          "model_module": "@jupyter-widgets/base",
          "model_name": "LayoutModel",
          "state": {
            "_model_module": "@jupyter-widgets/base",
            "_model_module_version": "1.2.0",
            "_model_name": "LayoutModel",
            "_view_count": null,
            "_view_module": "@jupyter-widgets/base",
            "_view_module_version": "1.2.0",
            "_view_name": "LayoutView",
            "align_content": null,
            "align_items": null,
            "align_self": null,
            "border": null,
            "bottom": null,
            "display": null,
            "flex": null,
            "flex_flow": null,
            "grid_area": null,
            "grid_auto_columns": null,
            "grid_auto_flow": null,
            "grid_auto_rows": null,
            "grid_column": null,
            "grid_gap": null,
            "grid_row": null,
            "grid_template_areas": null,
            "grid_template_columns": null,
            "grid_template_rows": null,
            "height": null,
            "justify_content": null,
            "justify_items": null,
            "left": null,
            "margin": null,
            "max_height": null,
            "max_width": null,
            "min_height": null,
            "min_width": null,
            "object_fit": null,
            "object_position": null,
            "order": null,
            "overflow": null,
            "overflow_x": null,
            "overflow_y": null,
            "padding": null,
            "right": null,
            "top": null,
            "visibility": null,
            "width": null
          }
        },
        "940ac17698764544ab6a3b946771843b": {
          "model_module": "@jupyter-widgets/controls",
          "model_name": "DescriptionStyleModel",
          "state": {
            "_model_module": "@jupyter-widgets/controls",
            "_model_module_version": "1.5.0",
            "_model_name": "DescriptionStyleModel",
            "_view_count": null,
            "_view_module": "@jupyter-widgets/base",
            "_view_module_version": "1.2.0",
            "_view_name": "StyleView",
            "description_width": ""
          }
        },
        "4af4d1f8c3ea410597fc8a7a8f54c7e6": {
          "model_module": "@jupyter-widgets/base",
          "model_name": "LayoutModel",
          "state": {
            "_model_module": "@jupyter-widgets/base",
            "_model_module_version": "1.2.0",
            "_model_name": "LayoutModel",
            "_view_count": null,
            "_view_module": "@jupyter-widgets/base",
            "_view_module_version": "1.2.0",
            "_view_name": "LayoutView",
            "align_content": null,
            "align_items": null,
            "align_self": null,
            "border": null,
            "bottom": null,
            "display": null,
            "flex": null,
            "flex_flow": null,
            "grid_area": null,
            "grid_auto_columns": null,
            "grid_auto_flow": null,
            "grid_auto_rows": null,
            "grid_column": null,
            "grid_gap": null,
            "grid_row": null,
            "grid_template_areas": null,
            "grid_template_columns": null,
            "grid_template_rows": null,
            "height": null,
            "justify_content": null,
            "justify_items": null,
            "left": null,
            "margin": null,
            "max_height": null,
            "max_width": null,
            "min_height": null,
            "min_width": null,
            "object_fit": null,
            "object_position": null,
            "order": null,
            "overflow": null,
            "overflow_x": null,
            "overflow_y": null,
            "padding": null,
            "right": null,
            "top": null,
            "visibility": null,
            "width": null
          }
        }
      }
    }
  },
  "cells": [
    {
      "cell_type": "markdown",
      "metadata": {
        "id": "view-in-github",
        "colab_type": "text"
      },
      "source": [
        "<a href=\"https://colab.research.google.com/github/skywalker0803r/Ricky/blob/master/DAT264x_Identifying_Appliances_from_Energy_Use_Spectrograms.ipynb\" target=\"_parent\"><img src=\"https://colab.research.google.com/assets/colab-badge.svg\" alt=\"Open In Colab\"/></a>"
      ]
    },
    {
      "cell_type": "code",
      "metadata": {
        "colab_type": "code",
        "id": "QteGvEz0WPjx",
        "outputId": "bf303640-47b8-41d4-e04b-403bc0177935",
        "colab": {
          "base_uri": "https://localhost:8080/",
          "height": 127
        }
      },
      "source": [
        "import os\n",
        "root = os.getcwd()\n",
        "print(root)\n",
        "print(os.listdir())"
      ],
      "execution_count": 0,
      "outputs": [
        {
          "output_type": "stream",
          "text": [
            "/workspace/notebooks/nfs/DAT264\n",
            "['train_labels.csv', 'unzip.ipynb', 'test', 'train', 'submission_format.csv', 'submit_1.csv', 'DAT264x_Identifying_Appliances_from_Energy_Use_Spectrograms.ipynb', '.ipynb_checkpoints']\n"
          ],
          "name": "stdout"
        }
      ]
    },
    {
      "cell_type": "code",
      "metadata": {
        "colab_type": "code",
        "id": "VmxVGLI7Vm8w",
        "colab": {},
        "outputId": "6c09d332-86be-471f-accf-01ee07350dac"
      },
      "source": [
        "import numpy as np\n",
        "import warnings;warnings.simplefilter('ignore')\n",
        "from numpy import array\n",
        "import keras\n",
        "import pandas as pd\n",
        "from sklearn.preprocessing import OneHotEncoder\n",
        "from keras.models import Sequential\n",
        "from keras.layers import Dense, Activation, Dropout, Flatten, Conv2D, MaxPooling2D\n",
        "from keras.optimizers import SGD, Adam\n",
        "from keras.utils import to_categorical\n",
        "from keras.preprocessing.image import ImageDataGenerator, array_to_img, img_to_array, load_img\n",
        "from keras.preprocessing import image\n",
        "from tqdm import tqdm_notebook as tqdm\n",
        "import os\n",
        "import seaborn as sns\n",
        "from keras.utils import np_utils\n",
        "from sklearn.model_selection import train_test_split\n",
        "import matplotlib.pyplot as plt\n",
        "from keras import backend as K\n",
        "from keras.models import Sequential\n",
        "from keras.layers import Dense, Dropout, Lambda, Flatten, BatchNormalization\n",
        "from keras.layers import Conv2D, MaxPool2D, AvgPool2D\n",
        "from keras.optimizers import Adam #做梯度下降的一種優化方法\n",
        "from keras.callbacks import ReduceLROnPlateau , EarlyStopping #減少學習速率 on Plateau\n",
        "from sklearn.metrics import confusion_matrix\n",
        "from keras.optimizers import Adam\n",
        "from keras import regularizers"
      ],
      "execution_count": 0,
      "outputs": [
        {
          "output_type": "stream",
          "text": [
            "Using TensorFlow backend.\n"
          ],
          "name": "stderr"
        }
      ]
    },
    {
      "cell_type": "markdown",
      "metadata": {
        "colab_type": "text",
        "id": "JA-YVq7maCbA"
      },
      "source": [
        "# Load train"
      ]
    },
    {
      "cell_type": "code",
      "metadata": {
        "colab_type": "code",
        "id": "XcczWgxaXIn0",
        "outputId": "9eef24c7-2b01-4268-ebb5-2ab916e50bec",
        "colab": {
          "base_uri": "https://localhost:8080/",
          "height": 285,
          "referenced_widgets": [
            "1166cd46b8804b5c8ab3f7c45a944975",
            "6c64a519800d4a6b8b8f00a3e0c94b1a",
            "1db060ae47ea4517beade21cb08dcd3d",
            "a2fb343ee83e4050b14880527f47b828",
            "21a23fa75d2740d98601a55a5781e7b0",
            "e9a6765535e3466d827cc38b9afa803f",
            "940ac17698764544ab6a3b946771843b",
            "4af4d1f8c3ea410597fc8a7a8f54c7e6",
            "7738947ba506495db8bf456f8c2d9398"
          ]
        }
      },
      "source": [
        "train_images = []\n",
        "train_idxs = []\n",
        "train_labels = []\n",
        "train_data_path = root + '/' +'train'\n",
        "\n",
        "#img\n",
        "for file_name in tqdm(os.listdir(train_data_path)):\n",
        "  train_images.append(image.load_img(train_data_path+'/'+file_name))\n",
        "  train_idxs.append(file_name.split('_')[0])\n",
        "\n",
        "train = pd.DataFrame(index=train_idxs)\n",
        "train.index.name = 'id'\n",
        "train.index = train.index.astype('int64')\n",
        "train['img'] = train_images\n",
        "\n",
        "#labels\n",
        "labels_path = root + '/' + 'train_labels.csv'\n",
        "train_labels = pd.read_csv(labels_path,index_col=0)\n",
        "\n",
        "#merge\n",
        "train = train.join(train_labels)\n",
        "\n",
        "#handle\n",
        "img_1s = train[::2] # 0 ~ end step 2\n",
        "img_2s = train[1::2]# 1 ~ end step 2 \n",
        "train = img_1s\n",
        "train['img2'] = img_2s['img']\n",
        "train = train[['img','img2','appliance']]\n",
        "print(train.shape)\n",
        "train.head()"
      ],
      "execution_count": 0,
      "outputs": [
        {
          "output_type": "display_data",
          "data": {
            "application/vnd.jupyter.widget-view+json": {
              "model_id": "7738947ba506495db8bf456f8c2d9398",
              "version_major": 2,
              "version_minor": 0
            },
            "text/plain": [
              "HBox(children=(IntProgress(value=0, max=1152), HTML(value='')))"
            ]
          },
          "metadata": {
            "tags": []
          }
        },
        {
          "output_type": "stream",
          "text": [
            "\n",
            "(576, 3)\n"
          ],
          "name": "stdout"
        },
        {
          "output_type": "execute_result",
          "data": {
            "text/html": [
              "<div>\n",
              "<style scoped>\n",
              "    .dataframe tbody tr th:only-of-type {\n",
              "        vertical-align: middle;\n",
              "    }\n",
              "\n",
              "    .dataframe tbody tr th {\n",
              "        vertical-align: top;\n",
              "    }\n",
              "\n",
              "    .dataframe thead th {\n",
              "        text-align: right;\n",
              "    }\n",
              "</style>\n",
              "<table border=\"1\" class=\"dataframe\">\n",
              "  <thead>\n",
              "    <tr style=\"text-align: right;\">\n",
              "      <th></th>\n",
              "      <th>img</th>\n",
              "      <th>img2</th>\n",
              "      <th>appliance</th>\n",
              "    </tr>\n",
              "    <tr>\n",
              "      <th>id</th>\n",
              "      <th></th>\n",
              "      <th></th>\n",
              "      <th></th>\n",
              "    </tr>\n",
              "  </thead>\n",
              "  <tbody>\n",
              "    <tr>\n",
              "      <th>1000</th>\n",
              "      <td>&lt;PIL.Image.Image image mode=RGB size=176x128 a...</td>\n",
              "      <td>&lt;PIL.Image.Image image mode=RGB size=176x128 a...</td>\n",
              "      <td>4</td>\n",
              "    </tr>\n",
              "    <tr>\n",
              "      <th>1001</th>\n",
              "      <td>&lt;PIL.Image.Image image mode=RGB size=176x128 a...</td>\n",
              "      <td>&lt;PIL.Image.Image image mode=RGB size=176x128 a...</td>\n",
              "      <td>9</td>\n",
              "    </tr>\n",
              "    <tr>\n",
              "      <th>1002</th>\n",
              "      <td>&lt;PIL.Image.Image image mode=RGB size=176x128 a...</td>\n",
              "      <td>&lt;PIL.Image.Image image mode=RGB size=176x128 a...</td>\n",
              "      <td>4</td>\n",
              "    </tr>\n",
              "    <tr>\n",
              "      <th>1003</th>\n",
              "      <td>&lt;PIL.Image.Image image mode=RGB size=176x128 a...</td>\n",
              "      <td>&lt;PIL.Image.Image image mode=RGB size=176x128 a...</td>\n",
              "      <td>9</td>\n",
              "    </tr>\n",
              "    <tr>\n",
              "      <th>1004</th>\n",
              "      <td>&lt;PIL.Image.Image image mode=RGB size=176x128 a...</td>\n",
              "      <td>&lt;PIL.Image.Image image mode=RGB size=176x128 a...</td>\n",
              "      <td>6</td>\n",
              "    </tr>\n",
              "  </tbody>\n",
              "</table>\n",
              "</div>"
            ],
            "text/plain": [
              "                                                    img  \\\n",
              "id                                                        \n",
              "1000  <PIL.Image.Image image mode=RGB size=176x128 a...   \n",
              "1001  <PIL.Image.Image image mode=RGB size=176x128 a...   \n",
              "1002  <PIL.Image.Image image mode=RGB size=176x128 a...   \n",
              "1003  <PIL.Image.Image image mode=RGB size=176x128 a...   \n",
              "1004  <PIL.Image.Image image mode=RGB size=176x128 a...   \n",
              "\n",
              "                                                   img2  appliance  \n",
              "id                                                                  \n",
              "1000  <PIL.Image.Image image mode=RGB size=176x128 a...          4  \n",
              "1001  <PIL.Image.Image image mode=RGB size=176x128 a...          9  \n",
              "1002  <PIL.Image.Image image mode=RGB size=176x128 a...          4  \n",
              "1003  <PIL.Image.Image image mode=RGB size=176x128 a...          9  \n",
              "1004  <PIL.Image.Image image mode=RGB size=176x128 a...          6  "
            ]
          },
          "metadata": {
            "tags": []
          },
          "execution_count": 3
        }
      ]
    },
    {
      "cell_type": "markdown",
      "metadata": {
        "id": "wLPDiHZ5A9mz",
        "colab_type": "text"
      },
      "source": [
        "# Load test"
      ]
    },
    {
      "cell_type": "code",
      "metadata": {
        "id": "HgDfzdVJA9m0",
        "colab_type": "code",
        "colab": {
          "referenced_widgets": [
            "99e1d5c273554f199e60e634fef7f97f"
          ]
        },
        "outputId": "51ced304-b2d8-4007-add6-7a612fd311c5"
      },
      "source": [
        "test_images = []\n",
        "test_idxs = []\n",
        "test_data_path = root + '/' +'test'\n",
        "\n",
        "for file_name in tqdm(os.listdir(test_data_path)):\n",
        "  test_images.append(image.load_img(test_data_path + '/' + file_name))\n",
        "  test_idxs.append(file_name.split('_')[0])\n",
        "\n",
        "test = pd.DataFrame(index=test_idxs)\n",
        "test.index.name = 'id'\n",
        "test.index = test.index.astype('int64')\n",
        "test['img'] = test_images\n",
        "test = test.sort_index()\n",
        "\n",
        "#handle\n",
        "img_1s = test[::2] # 0 ~ end step 2\n",
        "img_2s = test[1::2]# 1 ~ end step 2 \n",
        "test = img_1s\n",
        "test['img2'] = img_2s['img']\n",
        "test = test[['img','img2']]\n",
        "print(test.shape)\n",
        "test.head()"
      ],
      "execution_count": 0,
      "outputs": [
        {
          "output_type": "display_data",
          "data": {
            "application/vnd.jupyter.widget-view+json": {
              "model_id": "99e1d5c273554f199e60e634fef7f97f",
              "version_major": 2,
              "version_minor": 0
            },
            "text/plain": [
              "HBox(children=(IntProgress(value=0, max=768), HTML(value='')))"
            ]
          },
          "metadata": {
            "tags": []
          }
        },
        {
          "output_type": "stream",
          "text": [
            "\n",
            "(384, 2)\n"
          ],
          "name": "stdout"
        },
        {
          "output_type": "execute_result",
          "data": {
            "text/html": [
              "<div>\n",
              "<style scoped>\n",
              "    .dataframe tbody tr th:only-of-type {\n",
              "        vertical-align: middle;\n",
              "    }\n",
              "\n",
              "    .dataframe tbody tr th {\n",
              "        vertical-align: top;\n",
              "    }\n",
              "\n",
              "    .dataframe thead th {\n",
              "        text-align: right;\n",
              "    }\n",
              "</style>\n",
              "<table border=\"1\" class=\"dataframe\">\n",
              "  <thead>\n",
              "    <tr style=\"text-align: right;\">\n",
              "      <th></th>\n",
              "      <th>img</th>\n",
              "      <th>img2</th>\n",
              "    </tr>\n",
              "    <tr>\n",
              "      <th>id</th>\n",
              "      <th></th>\n",
              "      <th></th>\n",
              "    </tr>\n",
              "  </thead>\n",
              "  <tbody>\n",
              "    <tr>\n",
              "      <th>1576</th>\n",
              "      <td>&lt;PIL.Image.Image image mode=RGB size=176x128 a...</td>\n",
              "      <td>&lt;PIL.Image.Image image mode=RGB size=176x128 a...</td>\n",
              "    </tr>\n",
              "    <tr>\n",
              "      <th>1577</th>\n",
              "      <td>&lt;PIL.Image.Image image mode=RGB size=176x128 a...</td>\n",
              "      <td>&lt;PIL.Image.Image image mode=RGB size=176x128 a...</td>\n",
              "    </tr>\n",
              "    <tr>\n",
              "      <th>1578</th>\n",
              "      <td>&lt;PIL.Image.Image image mode=RGB size=176x128 a...</td>\n",
              "      <td>&lt;PIL.Image.Image image mode=RGB size=176x128 a...</td>\n",
              "    </tr>\n",
              "    <tr>\n",
              "      <th>1579</th>\n",
              "      <td>&lt;PIL.Image.Image image mode=RGB size=176x128 a...</td>\n",
              "      <td>&lt;PIL.Image.Image image mode=RGB size=176x128 a...</td>\n",
              "    </tr>\n",
              "    <tr>\n",
              "      <th>1580</th>\n",
              "      <td>&lt;PIL.Image.Image image mode=RGB size=176x128 a...</td>\n",
              "      <td>&lt;PIL.Image.Image image mode=RGB size=176x128 a...</td>\n",
              "    </tr>\n",
              "  </tbody>\n",
              "</table>\n",
              "</div>"
            ],
            "text/plain": [
              "                                                    img  \\\n",
              "id                                                        \n",
              "1576  <PIL.Image.Image image mode=RGB size=176x128 a...   \n",
              "1577  <PIL.Image.Image image mode=RGB size=176x128 a...   \n",
              "1578  <PIL.Image.Image image mode=RGB size=176x128 a...   \n",
              "1579  <PIL.Image.Image image mode=RGB size=176x128 a...   \n",
              "1580  <PIL.Image.Image image mode=RGB size=176x128 a...   \n",
              "\n",
              "                                                   img2  \n",
              "id                                                       \n",
              "1576  <PIL.Image.Image image mode=RGB size=176x128 a...  \n",
              "1577  <PIL.Image.Image image mode=RGB size=176x128 a...  \n",
              "1578  <PIL.Image.Image image mode=RGB size=176x128 a...  \n",
              "1579  <PIL.Image.Image image mode=RGB size=176x128 a...  \n",
              "1580  <PIL.Image.Image image mode=RGB size=176x128 a...  "
            ]
          },
          "metadata": {
            "tags": []
          },
          "execution_count": 4
        }
      ]
    },
    {
      "cell_type": "markdown",
      "metadata": {
        "id": "ZbpZUzWQA9m3",
        "colab_type": "text"
      },
      "source": [
        "# prepare data"
      ]
    },
    {
      "cell_type": "code",
      "metadata": {
        "colab_type": "code",
        "id": "e73IWm-0fhoT",
        "colab": {}
      },
      "source": [
        "X_train = train[['img','img2']]\n",
        "X_test = test[['img','img2']]\n",
        "Y_train = train[\"appliance\"]"
      ],
      "execution_count": 0,
      "outputs": []
    },
    {
      "cell_type": "markdown",
      "metadata": {
        "colab_type": "text",
        "id": "5N0B2ooGkp2z"
      },
      "source": [
        "# count class"
      ]
    },
    {
      "cell_type": "code",
      "metadata": {
        "colab_type": "code",
        "id": "1ONuO-smhjuA",
        "outputId": "9d84c3d1-d5b1-44d3-c173-8e7b43668618",
        "colab": {
          "base_uri": "https://localhost:8080/",
          "height": 297
        }
      },
      "source": [
        "sns.countplot(Y_train)"
      ],
      "execution_count": 0,
      "outputs": [
        {
          "output_type": "execute_result",
          "data": {
            "text/plain": [
              "<matplotlib.axes._subplots.AxesSubplot at 0x7fdc4eb5bc18>"
            ]
          },
          "metadata": {
            "tags": []
          },
          "execution_count": 6
        },
        {
          "output_type": "display_data",
          "data": {
            "image/png": "[encoded data removed]",
            "text/plain": [
              "<Figure size 432x288 with 1 Axes>"
            ]
          },
          "metadata": {
            "tags": [],
            "needs_background": "light"
          }
        }
      ]
    },
    {
      "cell_type": "markdown",
      "metadata": {
        "colab_type": "text",
        "id": "ZTkiQ_6OkcxO"
      },
      "source": [
        "# to numpy"
      ]
    },
    {
      "cell_type": "code",
      "metadata": {
        "id": "7n6fEpyeA9nB",
        "colab_type": "code",
        "colab": {}
      },
      "source": [
        "def to_numpy(df):\n",
        "    X = np.array([img_to_array(img).reshape((1,) + (128,176,3)) for img in df])\n",
        "    X = X.astype('float32').reshape(-1, 128, 176, 3)/255.0\n",
        "    return X"
      ],
      "execution_count": 0,
      "outputs": []
    },
    {
      "cell_type": "code",
      "metadata": {
        "id": "c5IUDl5fA9nE",
        "colab_type": "code",
        "colab": {}
      },
      "source": [
        "train_X1 = to_numpy(train['img'])\n",
        "train_X2 = to_numpy(train['img2'])\n",
        "test_X1 = to_numpy(test['img'])\n",
        "test_X2 = to_numpy(test['img2'])"
      ],
      "execution_count": 0,
      "outputs": []
    },
    {
      "cell_type": "code",
      "metadata": {
        "id": "PlWArnZIA9nH",
        "colab_type": "code",
        "colab": {},
        "outputId": "eba8a7a4-df2b-4554-fdd4-2cc0e0581654"
      },
      "source": [
        "X_train = (train_X1 + train_X2) / 2\n",
        "X_test = (test_X1 + test_X2) / 2\n",
        "Y_train = np_utils.to_categorical(Y_train,num_classes = 11)\n",
        "print('X_train.shape',X_train.shape)\n",
        "print('X_test.shape',X_test.shape)\n",
        "print('Y_train.shape',Y_train.shape)"
      ],
      "execution_count": 0,
      "outputs": [
        {
          "output_type": "stream",
          "text": [
            "X_train.shape (576, 128, 176, 3)\n",
            "X_test.shape (384, 128, 176, 3)\n",
            "Y_train.shape (576, 11)\n"
          ],
          "name": "stdout"
        }
      ]
    },
    {
      "cell_type": "code",
      "metadata": {
        "id": "z5_Yc2IvA9nK",
        "colab_type": "code",
        "colab": {},
        "outputId": "2e6e41ac-aac6-4b30-ba1f-85a9ada4fd38"
      },
      "source": [
        "plt.imshow(train_X1[0])"
      ],
      "execution_count": 0,
      "outputs": [
        {
          "output_type": "execute_result",
          "data": {
            "text/plain": [
              "<matplotlib.image.AxesImage at 0x7fdc4d76f6a0>"
            ]
          },
          "metadata": {
            "tags": []
          },
          "execution_count": 10
        },
        {
          "output_type": "display_data",
          "data": {
            "image/png": "[encoded data removed]",
            "text/plain": [
              "<Figure size 432x288 with 1 Axes>"
            ]
          },
          "metadata": {
            "tags": [],
            "needs_background": "light"
          }
        }
      ]
    },
    {
      "cell_type": "code",
      "metadata": {
        "id": "cIXMj87gA9nN",
        "colab_type": "code",
        "colab": {},
        "outputId": "300a58d8-73ff-40db-8faa-326d14e91f8b"
      },
      "source": [
        "plt.imshow(train_X2[0])"
      ],
      "execution_count": 0,
      "outputs": [
        {
          "output_type": "execute_result",
          "data": {
            "text/plain": [
              "<matplotlib.image.AxesImage at 0x7fdc4c6d8e80>"
            ]
          },
          "metadata": {
            "tags": []
          },
          "execution_count": 11
        },
        {
          "output_type": "display_data",
          "data": {
            "image/png": "[encoded data removed]",
            "text/plain": [
              "<Figure size 432x288 with 1 Axes>"
            ]
          },
          "metadata": {
            "tags": [],
            "needs_background": "light"
          }
        }
      ]
    },
    {
      "cell_type": "code",
      "metadata": {
        "id": "gtm_dN32A9nQ",
        "colab_type": "code",
        "colab": {},
        "outputId": "822de814-aa3a-4160-8d80-5aaccd5769ac"
      },
      "source": [
        "plt.imshow(X_train[0])"
      ],
      "execution_count": 0,
      "outputs": [
        {
          "output_type": "execute_result",
          "data": {
            "text/plain": [
              "<matplotlib.image.AxesImage at 0x7fdc4c64a588>"
            ]
          },
          "metadata": {
            "tags": []
          },
          "execution_count": 12
        },
        {
          "output_type": "display_data",
          "data": {
            "image/png": "[encoded data removed]",
            "text/plain": [
              "<Figure size 432x288 with 1 Axes>"
            ]
          },
          "metadata": {
            "tags": [],
            "needs_background": "light"
          }
        }
      ]
    },
    {
      "cell_type": "markdown",
      "metadata": {
        "colab_type": "text",
        "id": "csL7lWvZklAN"
      },
      "source": [
        "# split"
      ]
    },
    {
      "cell_type": "code",
      "metadata": {
        "colab_type": "code",
        "id": "M7NwEWXjisMq",
        "outputId": "db2170db-8211-4d16-b29f-c2aeeb330d27",
        "colab": {
          "base_uri": "https://localhost:8080/",
          "height": 89
        }
      },
      "source": [
        "X_train, X_valid, Y_train, Y_valid = train_test_split(X_train,Y_train,test_size=0.2,random_state = 42)\n",
        "print('X_train.shape',X_train.shape)\n",
        "print('Y_train.shape',Y_train.shape)\n",
        "print('X_valid.shape',X_valid.shape)\n",
        "print('Y_valid.shape',Y_valid.shape)"
      ],
      "execution_count": 0,
      "outputs": [
        {
          "output_type": "stream",
          "text": [
            "X_train.shape (460, 128, 176, 3)\n",
            "Y_train.shape (460, 11)\n",
            "X_valid.shape (116, 128, 176, 3)\n",
            "Y_valid.shape (116, 11)\n"
          ],
          "name": "stdout"
        }
      ]
    },
    {
      "cell_type": "code",
      "metadata": {
        "colab_type": "code",
        "id": "tgn06lDtlG1P",
        "outputId": "98f17e23-f522-4260-ede1-01227c64dd52",
        "colab": {
          "base_uri": "https://localhost:8080/",
          "height": 485
        }
      },
      "source": [
        "model = Sequential()\n",
        "#conv 1\n",
        "model.add(Conv2D(7,(7,7),padding='same',activation='relu',input_shape=X_train.shape[1:]))\n",
        "model.add(MaxPool2D(pool_size=(3,3)))\n",
        "#conv 2\n",
        "model.add(Conv2D(5,(5,5),padding='same',activation='relu'))\n",
        "model.add(MaxPool2D(pool_size=(3,3)))\n",
        "#Flatten\n",
        "model.add(Flatten())\n",
        "model.add(Dropout(0.5))\n",
        "model.add(Dense(128, activation='relu'))\n",
        "model.add(Dropout(0.25))\n",
        "model.add(Dense(11, activation='softmax'))\n",
        "model.summary()"
      ],
      "execution_count": 0,
      "outputs": [
        {
          "output_type": "stream",
          "text": [
            "_________________________________________________________________\n",
            "Layer (type)                 Output Shape              Param #   \n",
            "=================================================================\n",
            "conv2d_1 (Conv2D)            (None, 128, 176, 7)       1036      \n",
            "_________________________________________________________________\n",
            "max_pooling2d_1 (MaxPooling2 (None, 42, 58, 7)         0         \n",
            "_________________________________________________________________\n",
            "conv2d_2 (Conv2D)            (None, 42, 58, 5)         880       \n",
            "_________________________________________________________________\n",
            "max_pooling2d_2 (MaxPooling2 (None, 14, 19, 5)         0         \n",
            "_________________________________________________________________\n",
            "flatten_1 (Flatten)          (None, 1330)              0         \n",
            "_________________________________________________________________\n",
            "dropout_1 (Dropout)          (None, 1330)              0         \n",
            "_________________________________________________________________\n",
            "dense_1 (Dense)              (None, 128)               170368    \n",
            "_________________________________________________________________\n",
            "dropout_2 (Dropout)          (None, 128)               0         \n",
            "_________________________________________________________________\n",
            "dense_2 (Dense)              (None, 11)                1419      \n",
            "=================================================================\n",
            "Total params: 173,703\n",
            "Trainable params: 173,703\n",
            "Non-trainable params: 0\n",
            "_________________________________________________________________\n"
          ],
          "name": "stdout"
        }
      ]
    },
    {
      "cell_type": "code",
      "metadata": {
        "colab_type": "code",
        "id": "FImfsFP6nYWv",
        "colab": {}
      },
      "source": [
        "model.compile(optimizer = Adam(lr=0.001), \n",
        "              loss = \"categorical_crossentropy\", \n",
        "              metrics = [\"accuracy\"])"
      ],
      "execution_count": 0,
      "outputs": []
    },
    {
      "cell_type": "code",
      "metadata": {
        "colab_type": "code",
        "id": "ArWGNuirncV1",
        "colab": {}
      },
      "source": [
        "es = EarlyStopping(monitor = 'val_loss',\n",
        "                   min_delta = 0, \n",
        "                   patience = 20,  \n",
        "                   mode = 'min')"
      ],
      "execution_count": 0,
      "outputs": []
    },
    {
      "cell_type": "code",
      "metadata": {
        "colab_type": "code",
        "id": "LVm0MrRgj27y",
        "outputId": "7776587a-0682-4e14-d09b-1a9a4d27c2b7",
        "colab": {
          "base_uri": "https://localhost:8080/",
          "height": 1000
        }
      },
      "source": [
        "history = model.fit(X_train,Y_train,\n",
        "                    batch_size = len(X_train),\n",
        "                    epochs = 1000,\n",
        "                    validation_data = (X_valid,Y_valid),\n",
        "                    verbose = 1,\n",
        "                    callbacks = [es])"
      ],
      "execution_count": 0,
      "outputs": [
        {
          "output_type": "stream",
          "text": [
            "Train on 460 samples, validate on 116 samples\n",
            "Epoch 1/1000\n",
            "460/460 [==============================] - 4s 10ms/step - loss: 2.4798 - acc: 0.0957 - val_loss: 2.3900 - val_acc: 0.0431\n",
            "Epoch 2/1000\n",
            "460/460 [==============================] - 0s 252us/step - loss: 2.3857 - acc: 0.1109 - val_loss: 2.3036 - val_acc: 0.0690\n",
            "Epoch 3/1000\n",
            "460/460 [==============================] - 0s 265us/step - loss: 2.3088 - acc: 0.1435 - val_loss: 2.2290 - val_acc: 0.2672\n",
            "Epoch 4/1000\n",
            "460/460 [==============================] - 0s 254us/step - loss: 2.2660 - acc: 0.1804 - val_loss: 2.1584 - val_acc: 0.2672\n",
            "Epoch 5/1000\n",
            "460/460 [==============================] - 0s 256us/step - loss: 2.2054 - acc: 0.2239 - val_loss: 2.1003 - val_acc: 0.2672\n",
            "Epoch 6/1000\n",
            "460/460 [==============================] - 0s 249us/step - loss: 2.1690 - acc: 0.2239 - val_loss: 2.0596 - val_acc: 0.2845\n",
            "Epoch 7/1000\n",
            "460/460 [==============================] - 0s 254us/step - loss: 2.1334 - acc: 0.2652 - val_loss: 2.0316 - val_acc: 0.3966\n",
            "Epoch 8/1000\n",
            "460/460 [==============================] - 0s 249us/step - loss: 2.1495 - acc: 0.2761 - val_loss: 2.0127 - val_acc: 0.5000\n",
            "Epoch 9/1000\n",
            "460/460 [==============================] - 0s 264us/step - loss: 2.1044 - acc: 0.3087 - val_loss: 1.9946 - val_acc: 0.5000\n",
            "Epoch 10/1000\n",
            "460/460 [==============================] - 0s 256us/step - loss: 2.0649 - acc: 0.3130 - val_loss: 1.9725 - val_acc: 0.4828\n",
            "Epoch 11/1000\n",
            "460/460 [==============================] - 0s 261us/step - loss: 2.0314 - acc: 0.3283 - val_loss: 1.9415 - val_acc: 0.5086\n",
            "Epoch 12/1000\n",
            "460/460 [==============================] - 0s 251us/step - loss: 1.9937 - acc: 0.3413 - val_loss: 1.9021 - val_acc: 0.5000\n",
            "Epoch 13/1000\n",
            "460/460 [==============================] - 0s 252us/step - loss: 1.9747 - acc: 0.3587 - val_loss: 1.8463 - val_acc: 0.5086\n",
            "Epoch 14/1000\n",
            "460/460 [==============================] - 0s 263us/step - loss: 1.9403 - acc: 0.3652 - val_loss: 1.7904 - val_acc: 0.5000\n",
            "Epoch 15/1000\n",
            "460/460 [==============================] - 0s 247us/step - loss: 1.8704 - acc: 0.3913 - val_loss: 1.7404 - val_acc: 0.5000\n",
            "Epoch 16/1000\n",
            "460/460 [==============================] - 0s 249us/step - loss: 1.8653 - acc: 0.3848 - val_loss: 1.7067 - val_acc: 0.5086\n",
            "Epoch 17/1000\n",
            "460/460 [==============================] - 0s 251us/step - loss: 1.8136 - acc: 0.3978 - val_loss: 1.6825 - val_acc: 0.5000\n",
            "Epoch 18/1000\n",
            "460/460 [==============================] - 0s 251us/step - loss: 1.7890 - acc: 0.4413 - val_loss: 1.6653 - val_acc: 0.5172\n",
            "Epoch 19/1000\n",
            "460/460 [==============================] - 0s 248us/step - loss: 1.7544 - acc: 0.4152 - val_loss: 1.6397 - val_acc: 0.5259\n",
            "Epoch 20/1000\n",
            "460/460 [==============================] - 0s 253us/step - loss: 1.7653 - acc: 0.4174 - val_loss: 1.6016 - val_acc: 0.5345\n",
            "Epoch 21/1000\n",
            "460/460 [==============================] - 0s 254us/step - loss: 1.7150 - acc: 0.4522 - val_loss: 1.5664 - val_acc: 0.5603\n",
            "Epoch 22/1000\n",
            "460/460 [==============================] - 0s 261us/step - loss: 1.6726 - acc: 0.4870 - val_loss: 1.5329 - val_acc: 0.5603\n",
            "Epoch 23/1000\n",
            "460/460 [==============================] - 0s 262us/step - loss: 1.6345 - acc: 0.4804 - val_loss: 1.4989 - val_acc: 0.5603\n",
            "Epoch 24/1000\n",
            "460/460 [==============================] - 0s 266us/step - loss: 1.6060 - acc: 0.4957 - val_loss: 1.4683 - val_acc: 0.5603\n",
            "Epoch 25/1000\n",
            "460/460 [==============================] - 0s 251us/step - loss: 1.5807 - acc: 0.4935 - val_loss: 1.4299 - val_acc: 0.5517\n",
            "Epoch 26/1000\n",
            "460/460 [==============================] - 0s 250us/step - loss: 1.5536 - acc: 0.5043 - val_loss: 1.3949 - val_acc: 0.5690\n",
            "Epoch 27/1000\n",
            "460/460 [==============================] - 0s 253us/step - loss: 1.5241 - acc: 0.5130 - val_loss: 1.3755 - val_acc: 0.5603\n",
            "Epoch 28/1000\n",
            "460/460 [==============================] - 0s 268us/step - loss: 1.4892 - acc: 0.5000 - val_loss: 1.3686 - val_acc: 0.5603\n",
            "Epoch 29/1000\n",
            "460/460 [==============================] - 0s 257us/step - loss: 1.4451 - acc: 0.5304 - val_loss: 1.3385 - val_acc: 0.5776\n",
            "Epoch 30/1000\n",
            "460/460 [==============================] - 0s 253us/step - loss: 1.4122 - acc: 0.5457 - val_loss: 1.2909 - val_acc: 0.5862\n",
            "Epoch 31/1000\n",
            "460/460 [==============================] - 0s 262us/step - loss: 1.3676 - acc: 0.5783 - val_loss: 1.2642 - val_acc: 0.5948\n",
            "Epoch 32/1000\n",
            "460/460 [==============================] - 0s 247us/step - loss: 1.3480 - acc: 0.5478 - val_loss: 1.2485 - val_acc: 0.6121\n",
            "Epoch 33/1000\n",
            "460/460 [==============================] - 0s 255us/step - loss: 1.3460 - acc: 0.5609 - val_loss: 1.2270 - val_acc: 0.6034\n",
            "Epoch 34/1000\n",
            "460/460 [==============================] - 0s 269us/step - loss: 1.2790 - acc: 0.5870 - val_loss: 1.2066 - val_acc: 0.5948\n",
            "Epoch 35/1000\n",
            "460/460 [==============================] - 0s 249us/step - loss: 1.3126 - acc: 0.5500 - val_loss: 1.1848 - val_acc: 0.6034\n",
            "Epoch 36/1000\n",
            "460/460 [==============================] - 0s 248us/step - loss: 1.2556 - acc: 0.5652 - val_loss: 1.1643 - val_acc: 0.6121\n",
            "Epoch 37/1000\n",
            "460/460 [==============================] - 0s 253us/step - loss: 1.2208 - acc: 0.5826 - val_loss: 1.1510 - val_acc: 0.6121\n",
            "Epoch 38/1000\n",
            "460/460 [==============================] - 0s 249us/step - loss: 1.1842 - acc: 0.5870 - val_loss: 1.1404 - val_acc: 0.6034\n",
            "Epoch 39/1000\n",
            "460/460 [==============================] - 0s 260us/step - loss: 1.1795 - acc: 0.6065 - val_loss: 1.1120 - val_acc: 0.6207\n",
            "Epoch 40/1000\n",
            "460/460 [==============================] - 0s 248us/step - loss: 1.1583 - acc: 0.6196 - val_loss: 1.1000 - val_acc: 0.6379\n",
            "Epoch 41/1000\n",
            "460/460 [==============================] - 0s 256us/step - loss: 1.1079 - acc: 0.6196 - val_loss: 1.0891 - val_acc: 0.6466\n",
            "Epoch 42/1000\n",
            "460/460 [==============================] - 0s 255us/step - loss: 1.0593 - acc: 0.6391 - val_loss: 1.0817 - val_acc: 0.6466\n",
            "Epoch 43/1000\n",
            "460/460 [==============================] - 0s 254us/step - loss: 1.1067 - acc: 0.6283 - val_loss: 1.0455 - val_acc: 0.6638\n",
            "Epoch 44/1000\n",
            "460/460 [==============================] - 0s 252us/step - loss: 1.0721 - acc: 0.6478 - val_loss: 1.0233 - val_acc: 0.6724\n",
            "Epoch 45/1000\n",
            "460/460 [==============================] - 0s 253us/step - loss: 1.0254 - acc: 0.6630 - val_loss: 1.0020 - val_acc: 0.6724\n",
            "Epoch 46/1000\n",
            "460/460 [==============================] - 0s 252us/step - loss: 1.0339 - acc: 0.6478 - val_loss: 0.9939 - val_acc: 0.6724\n",
            "Epoch 47/1000\n",
            "460/460 [==============================] - 0s 257us/step - loss: 1.0044 - acc: 0.6587 - val_loss: 0.9857 - val_acc: 0.6810\n",
            "Epoch 48/1000\n",
            "460/460 [==============================] - 0s 257us/step - loss: 0.9803 - acc: 0.6826 - val_loss: 0.9602 - val_acc: 0.6810\n",
            "Epoch 49/1000\n",
            "460/460 [==============================] - 0s 252us/step - loss: 0.9835 - acc: 0.6870 - val_loss: 0.9409 - val_acc: 0.6983\n",
            "Epoch 50/1000\n",
            "460/460 [==============================] - 0s 249us/step - loss: 0.9625 - acc: 0.6674 - val_loss: 0.9320 - val_acc: 0.6810\n",
            "Epoch 51/1000\n",
            "460/460 [==============================] - 0s 260us/step - loss: 0.9638 - acc: 0.6804 - val_loss: 0.9286 - val_acc: 0.6724\n",
            "Epoch 52/1000\n",
            "460/460 [==============================] - 0s 248us/step - loss: 0.9122 - acc: 0.7239 - val_loss: 0.9154 - val_acc: 0.6810\n",
            "Epoch 53/1000\n",
            "460/460 [==============================] - 0s 246us/step - loss: 0.9034 - acc: 0.7065 - val_loss: 0.9016 - val_acc: 0.6983\n",
            "Epoch 54/1000\n",
            "460/460 [==============================] - 0s 251us/step - loss: 0.8787 - acc: 0.7043 - val_loss: 0.8870 - val_acc: 0.7069\n",
            "Epoch 55/1000\n",
            "460/460 [==============================] - 0s 255us/step - loss: 0.8685 - acc: 0.7130 - val_loss: 0.8705 - val_acc: 0.7328\n",
            "Epoch 56/1000\n",
            "460/460 [==============================] - 0s 261us/step - loss: 0.8944 - acc: 0.6913 - val_loss: 0.8661 - val_acc: 0.7069\n",
            "Epoch 57/1000\n",
            "460/460 [==============================] - 0s 259us/step - loss: 0.8737 - acc: 0.7109 - val_loss: 0.8510 - val_acc: 0.7500\n",
            "Epoch 58/1000\n",
            "460/460 [==============================] - 0s 246us/step - loss: 0.8071 - acc: 0.7304 - val_loss: 0.8432 - val_acc: 0.7586\n",
            "Epoch 59/1000\n",
            "460/460 [==============================] - 0s 247us/step - loss: 0.7948 - acc: 0.7304 - val_loss: 0.8274 - val_acc: 0.7414\n",
            "Epoch 60/1000\n",
            "460/460 [==============================] - 0s 245us/step - loss: 0.8012 - acc: 0.7435 - val_loss: 0.8182 - val_acc: 0.7414\n",
            "Epoch 61/1000\n",
            "460/460 [==============================] - 0s 248us/step - loss: 0.7909 - acc: 0.7500 - val_loss: 0.8245 - val_acc: 0.7328\n",
            "Epoch 62/1000\n",
            "460/460 [==============================] - 0s 256us/step - loss: 0.8040 - acc: 0.7543 - val_loss: 0.8032 - val_acc: 0.7586\n",
            "Epoch 63/1000\n",
            "460/460 [==============================] - 0s 246us/step - loss: 0.7647 - acc: 0.7391 - val_loss: 0.7915 - val_acc: 0.7414\n",
            "Epoch 64/1000\n",
            "460/460 [==============================] - 0s 247us/step - loss: 0.7265 - acc: 0.7783 - val_loss: 0.7780 - val_acc: 0.7414\n",
            "Epoch 65/1000\n",
            "460/460 [==============================] - 0s 246us/step - loss: 0.7400 - acc: 0.7565 - val_loss: 0.7662 - val_acc: 0.8103\n",
            "Epoch 66/1000\n",
            "460/460 [==============================] - 0s 248us/step - loss: 0.7079 - acc: 0.7674 - val_loss: 0.7551 - val_acc: 0.8276\n",
            "Epoch 67/1000\n",
            "460/460 [==============================] - 0s 253us/step - loss: 0.7118 - acc: 0.7674 - val_loss: 0.7400 - val_acc: 0.8103\n",
            "Epoch 68/1000\n",
            "460/460 [==============================] - 0s 247us/step - loss: 0.7095 - acc: 0.7587 - val_loss: 0.7317 - val_acc: 0.7759\n",
            "Epoch 69/1000\n",
            "460/460 [==============================] - 0s 247us/step - loss: 0.6881 - acc: 0.7783 - val_loss: 0.7317 - val_acc: 0.8103\n",
            "Epoch 70/1000\n",
            "460/460 [==============================] - 0s 247us/step - loss: 0.6834 - acc: 0.7804 - val_loss: 0.7434 - val_acc: 0.7931\n",
            "Epoch 71/1000\n",
            "460/460 [==============================] - 0s 264us/step - loss: 0.6846 - acc: 0.7891 - val_loss: 0.7364 - val_acc: 0.8103\n",
            "Epoch 72/1000\n",
            "460/460 [==============================] - 0s 249us/step - loss: 0.6924 - acc: 0.7587 - val_loss: 0.7257 - val_acc: 0.7845\n",
            "Epoch 73/1000\n",
            "460/460 [==============================] - 0s 247us/step - loss: 0.6716 - acc: 0.8087 - val_loss: 0.7241 - val_acc: 0.8017\n",
            "Epoch 74/1000\n",
            "460/460 [==============================] - 0s 255us/step - loss: 0.6548 - acc: 0.7913 - val_loss: 0.7154 - val_acc: 0.8103\n",
            "Epoch 75/1000\n",
            "460/460 [==============================] - 0s 251us/step - loss: 0.6290 - acc: 0.7913 - val_loss: 0.7035 - val_acc: 0.8103\n",
            "Epoch 76/1000\n",
            "460/460 [==============================] - 0s 246us/step - loss: 0.6414 - acc: 0.8000 - val_loss: 0.7023 - val_acc: 0.8103\n",
            "Epoch 77/1000\n",
            "460/460 [==============================] - 0s 250us/step - loss: 0.6141 - acc: 0.8239 - val_loss: 0.6847 - val_acc: 0.8190\n",
            "Epoch 78/1000\n",
            "460/460 [==============================] - 0s 247us/step - loss: 0.6326 - acc: 0.7935 - val_loss: 0.6806 - val_acc: 0.8103\n",
            "Epoch 79/1000\n",
            "460/460 [==============================] - 0s 250us/step - loss: 0.6209 - acc: 0.7957 - val_loss: 0.6741 - val_acc: 0.8103\n",
            "Epoch 80/1000\n",
            "460/460 [==============================] - 0s 246us/step - loss: 0.5901 - acc: 0.8152 - val_loss: 0.6711 - val_acc: 0.8103\n",
            "Epoch 81/1000\n",
            "460/460 [==============================] - 0s 253us/step - loss: 0.6023 - acc: 0.8065 - val_loss: 0.6699 - val_acc: 0.8103\n",
            "Epoch 82/1000\n",
            "460/460 [==============================] - 0s 252us/step - loss: 0.5983 - acc: 0.8304 - val_loss: 0.6666 - val_acc: 0.7931\n",
            "Epoch 83/1000\n",
            "460/460 [==============================] - 0s 247us/step - loss: 0.5634 - acc: 0.8130 - val_loss: 0.6644 - val_acc: 0.7845\n",
            "Epoch 84/1000\n",
            "460/460 [==============================] - 0s 244us/step - loss: 0.5551 - acc: 0.8174 - val_loss: 0.6608 - val_acc: 0.8103\n",
            "Epoch 85/1000\n",
            "460/460 [==============================] - 0s 250us/step - loss: 0.5458 - acc: 0.8304 - val_loss: 0.6570 - val_acc: 0.8362\n",
            "Epoch 86/1000\n",
            "460/460 [==============================] - 0s 246us/step - loss: 0.5322 - acc: 0.8326 - val_loss: 0.6334 - val_acc: 0.8276\n",
            "Epoch 87/1000\n",
            "460/460 [==============================] - 0s 247us/step - loss: 0.5593 - acc: 0.8174 - val_loss: 0.6381 - val_acc: 0.8448\n",
            "Epoch 88/1000\n",
            "460/460 [==============================] - 0s 247us/step - loss: 0.5184 - acc: 0.8304 - val_loss: 0.6236 - val_acc: 0.8190\n",
            "Epoch 89/1000\n",
            "460/460 [==============================] - 0s 249us/step - loss: 0.5242 - acc: 0.8283 - val_loss: 0.6356 - val_acc: 0.8448\n",
            "Epoch 90/1000\n",
            "460/460 [==============================] - 0s 255us/step - loss: 0.5174 - acc: 0.8152 - val_loss: 0.6376 - val_acc: 0.8362\n",
            "Epoch 91/1000\n",
            "460/460 [==============================] - 0s 249us/step - loss: 0.5008 - acc: 0.8435 - val_loss: 0.6355 - val_acc: 0.8362\n",
            "Epoch 92/1000\n",
            "460/460 [==============================] - 0s 250us/step - loss: 0.5175 - acc: 0.8261 - val_loss: 0.6364 - val_acc: 0.8276\n",
            "Epoch 93/1000\n",
            "460/460 [==============================] - 0s 245us/step - loss: 0.4716 - acc: 0.8565 - val_loss: 0.6365 - val_acc: 0.8362\n",
            "Epoch 94/1000\n",
            "460/460 [==============================] - 0s 256us/step - loss: 0.4594 - acc: 0.8652 - val_loss: 0.6290 - val_acc: 0.8190\n",
            "Epoch 95/1000\n",
            "460/460 [==============================] - 0s 245us/step - loss: 0.4702 - acc: 0.8543 - val_loss: 0.6172 - val_acc: 0.8190\n",
            "Epoch 96/1000\n",
            "460/460 [==============================] - 0s 250us/step - loss: 0.4562 - acc: 0.8543 - val_loss: 0.6117 - val_acc: 0.8276\n",
            "Epoch 97/1000\n",
            "460/460 [==============================] - 0s 250us/step - loss: 0.4868 - acc: 0.8348 - val_loss: 0.6000 - val_acc: 0.8362\n",
            "Epoch 98/1000\n",
            "460/460 [==============================] - 0s 252us/step - loss: 0.4905 - acc: 0.8543 - val_loss: 0.6073 - val_acc: 0.8448\n",
            "Epoch 99/1000\n",
            "460/460 [==============================] - 0s 249us/step - loss: 0.4291 - acc: 0.8696 - val_loss: 0.6015 - val_acc: 0.8362\n",
            "Epoch 100/1000\n",
            "460/460 [==============================] - 0s 262us/step - loss: 0.4302 - acc: 0.8500 - val_loss: 0.6059 - val_acc: 0.8276\n",
            "Epoch 101/1000\n",
            "460/460 [==============================] - 0s 250us/step - loss: 0.4270 - acc: 0.8435 - val_loss: 0.6096 - val_acc: 0.8103\n",
            "Epoch 102/1000\n",
            "460/460 [==============================] - 0s 258us/step - loss: 0.4303 - acc: 0.8717 - val_loss: 0.6260 - val_acc: 0.8103\n",
            "Epoch 103/1000\n",
            "460/460 [==============================] - 0s 257us/step - loss: 0.4415 - acc: 0.8674 - val_loss: 0.6166 - val_acc: 0.8276\n",
            "Epoch 104/1000\n",
            "460/460 [==============================] - 0s 249us/step - loss: 0.4037 - acc: 0.8652 - val_loss: 0.6110 - val_acc: 0.8190\n",
            "Epoch 105/1000\n",
            "460/460 [==============================] - 0s 250us/step - loss: 0.4339 - acc: 0.8587 - val_loss: 0.5897 - val_acc: 0.8103\n",
            "Epoch 106/1000\n",
            "460/460 [==============================] - 0s 249us/step - loss: 0.4239 - acc: 0.8457 - val_loss: 0.5819 - val_acc: 0.8448\n",
            "Epoch 107/1000\n",
            "460/460 [==============================] - 0s 267us/step - loss: 0.4035 - acc: 0.8739 - val_loss: 0.5725 - val_acc: 0.8362\n",
            "Epoch 108/1000\n",
            "460/460 [==============================] - 0s 259us/step - loss: 0.3946 - acc: 0.8826 - val_loss: 0.5813 - val_acc: 0.8362\n",
            "Epoch 109/1000\n",
            "460/460 [==============================] - 0s 246us/step - loss: 0.3663 - acc: 0.8826 - val_loss: 0.5831 - val_acc: 0.8448\n",
            "Epoch 110/1000\n",
            "460/460 [==============================] - 0s 252us/step - loss: 0.3826 - acc: 0.8717 - val_loss: 0.5690 - val_acc: 0.8534\n",
            "Epoch 111/1000\n",
            "460/460 [==============================] - 0s 250us/step - loss: 0.3720 - acc: 0.8870 - val_loss: 0.5854 - val_acc: 0.8362\n",
            "Epoch 112/1000\n",
            "460/460 [==============================] - 0s 247us/step - loss: 0.3903 - acc: 0.8565 - val_loss: 0.5804 - val_acc: 0.8448\n",
            "Epoch 113/1000\n",
            "460/460 [==============================] - 0s 244us/step - loss: 0.4200 - acc: 0.8609 - val_loss: 0.5891 - val_acc: 0.8362\n",
            "Epoch 114/1000\n",
            "460/460 [==============================] - 0s 272us/step - loss: 0.3811 - acc: 0.8891 - val_loss: 0.6011 - val_acc: 0.8362\n",
            "Epoch 115/1000\n",
            "460/460 [==============================] - 0s 249us/step - loss: 0.4049 - acc: 0.8587 - val_loss: 0.5749 - val_acc: 0.8362\n",
            "Epoch 116/1000\n",
            "460/460 [==============================] - 0s 252us/step - loss: 0.3786 - acc: 0.8826 - val_loss: 0.5656 - val_acc: 0.8448\n",
            "Epoch 117/1000\n",
            "460/460 [==============================] - 0s 253us/step - loss: 0.3804 - acc: 0.8522 - val_loss: 0.5493 - val_acc: 0.8534\n",
            "Epoch 118/1000\n",
            "460/460 [==============================] - 0s 254us/step - loss: 0.3643 - acc: 0.8848 - val_loss: 0.5480 - val_acc: 0.8448\n",
            "Epoch 119/1000\n",
            "460/460 [==============================] - 0s 252us/step - loss: 0.3463 - acc: 0.8913 - val_loss: 0.5435 - val_acc: 0.8448\n",
            "Epoch 120/1000\n",
            "460/460 [==============================] - 0s 257us/step - loss: 0.3792 - acc: 0.8739 - val_loss: 0.5502 - val_acc: 0.8534\n",
            "Epoch 121/1000\n",
            "460/460 [==============================] - 0s 254us/step - loss: 0.3954 - acc: 0.8696 - val_loss: 0.5592 - val_acc: 0.8448\n",
            "Epoch 122/1000\n",
            "460/460 [==============================] - 0s 252us/step - loss: 0.3471 - acc: 0.8957 - val_loss: 0.5623 - val_acc: 0.8534\n",
            "Epoch 123/1000\n",
            "460/460 [==============================] - 0s 250us/step - loss: 0.3626 - acc: 0.8630 - val_loss: 0.5735 - val_acc: 0.8276\n",
            "Epoch 124/1000\n",
            "460/460 [==============================] - 0s 259us/step - loss: 0.3229 - acc: 0.9000 - val_loss: 0.5765 - val_acc: 0.8276\n",
            "Epoch 125/1000\n",
            "460/460 [==============================] - 0s 263us/step - loss: 0.3338 - acc: 0.8870 - val_loss: 0.5673 - val_acc: 0.8276\n",
            "Epoch 126/1000\n",
            "460/460 [==============================] - 0s 260us/step - loss: 0.3270 - acc: 0.8957 - val_loss: 0.5617 - val_acc: 0.8448\n",
            "Epoch 127/1000\n",
            "460/460 [==============================] - 0s 317us/step - loss: 0.3022 - acc: 0.9043 - val_loss: 0.5511 - val_acc: 0.8362\n",
            "Epoch 128/1000\n",
            "460/460 [==============================] - 0s 244us/step - loss: 0.3075 - acc: 0.8978 - val_loss: 0.5519 - val_acc: 0.8276\n",
            "Epoch 129/1000\n",
            "460/460 [==============================] - 0s 243us/step - loss: 0.3014 - acc: 0.9087 - val_loss: 0.5516 - val_acc: 0.8362\n",
            "Epoch 130/1000\n",
            "460/460 [==============================] - 0s 237us/step - loss: 0.3223 - acc: 0.8870 - val_loss: 0.5548 - val_acc: 0.8362\n",
            "Epoch 131/1000\n",
            "460/460 [==============================] - 0s 244us/step - loss: 0.3119 - acc: 0.8761 - val_loss: 0.5623 - val_acc: 0.8448\n",
            "Epoch 132/1000\n",
            "460/460 [==============================] - 0s 276us/step - loss: 0.2991 - acc: 0.9174 - val_loss: 0.5703 - val_acc: 0.8448\n",
            "Epoch 133/1000\n",
            "460/460 [==============================] - 0s 242us/step - loss: 0.3234 - acc: 0.8913 - val_loss: 0.5747 - val_acc: 0.8362\n",
            "Epoch 134/1000\n",
            "460/460 [==============================] - 0s 242us/step - loss: 0.3076 - acc: 0.8935 - val_loss: 0.5766 - val_acc: 0.8362\n",
            "Epoch 135/1000\n",
            "460/460 [==============================] - 0s 237us/step - loss: 0.2946 - acc: 0.9065 - val_loss: 0.5617 - val_acc: 0.8534\n",
            "Epoch 136/1000\n",
            "460/460 [==============================] - 0s 236us/step - loss: 0.3226 - acc: 0.9043 - val_loss: 0.5584 - val_acc: 0.8534\n",
            "Epoch 137/1000\n",
            "460/460 [==============================] - 0s 242us/step - loss: 0.2889 - acc: 0.9022 - val_loss: 0.5471 - val_acc: 0.8448\n",
            "Epoch 138/1000\n",
            "460/460 [==============================] - 0s 238us/step - loss: 0.3004 - acc: 0.9152 - val_loss: 0.5539 - val_acc: 0.8190\n",
            "Epoch 139/1000\n",
            "460/460 [==============================] - 0s 237us/step - loss: 0.3174 - acc: 0.8978 - val_loss: 0.5377 - val_acc: 0.8448\n",
            "Epoch 140/1000\n",
            "460/460 [==============================] - 0s 237us/step - loss: 0.3054 - acc: 0.8978 - val_loss: 0.5178 - val_acc: 0.8621\n",
            "Epoch 141/1000\n",
            "460/460 [==============================] - 0s 239us/step - loss: 0.3316 - acc: 0.8848 - val_loss: 0.5334 - val_acc: 0.8621\n",
            "Epoch 142/1000\n",
            "460/460 [==============================] - 0s 242us/step - loss: 0.3012 - acc: 0.9109 - val_loss: 0.5469 - val_acc: 0.8362\n",
            "Epoch 143/1000\n",
            "460/460 [==============================] - 0s 248us/step - loss: 0.2740 - acc: 0.9109 - val_loss: 0.5717 - val_acc: 0.8276\n",
            "Epoch 144/1000\n",
            "460/460 [==============================] - 0s 252us/step - loss: 0.3185 - acc: 0.8870 - val_loss: 0.5772 - val_acc: 0.8362\n",
            "Epoch 145/1000\n",
            "460/460 [==============================] - 0s 238us/step - loss: 0.2646 - acc: 0.9087 - val_loss: 0.5796 - val_acc: 0.8362\n",
            "Epoch 146/1000\n",
            "460/460 [==============================] - 0s 237us/step - loss: 0.2855 - acc: 0.9000 - val_loss: 0.5818 - val_acc: 0.8362\n",
            "Epoch 147/1000\n",
            "460/460 [==============================] - 0s 241us/step - loss: 0.2973 - acc: 0.9087 - val_loss: 0.5685 - val_acc: 0.8448\n",
            "Epoch 148/1000\n",
            "460/460 [==============================] - 0s 238us/step - loss: 0.2741 - acc: 0.9109 - val_loss: 0.5670 - val_acc: 0.8362\n",
            "Epoch 149/1000\n",
            "460/460 [==============================] - 0s 242us/step - loss: 0.2747 - acc: 0.9109 - val_loss: 0.5583 - val_acc: 0.8362\n",
            "Epoch 150/1000\n",
            "460/460 [==============================] - 0s 249us/step - loss: 0.2370 - acc: 0.9326 - val_loss: 0.5330 - val_acc: 0.8448\n",
            "Epoch 151/1000\n",
            "460/460 [==============================] - 0s 240us/step - loss: 0.2277 - acc: 0.9304 - val_loss: 0.5241 - val_acc: 0.8448\n",
            "Epoch 152/1000\n",
            "460/460 [==============================] - 0s 258us/step - loss: 0.2426 - acc: 0.9239 - val_loss: 0.5117 - val_acc: 0.8448\n",
            "Epoch 153/1000\n",
            "460/460 [==============================] - 0s 238us/step - loss: 0.2703 - acc: 0.9174 - val_loss: 0.5044 - val_acc: 0.8448\n",
            "Epoch 154/1000\n",
            "460/460 [==============================] - 0s 236us/step - loss: 0.2549 - acc: 0.9130 - val_loss: 0.5075 - val_acc: 0.8448\n",
            "Epoch 155/1000\n",
            "460/460 [==============================] - 0s 239us/step - loss: 0.2102 - acc: 0.9348 - val_loss: 0.5188 - val_acc: 0.8534\n",
            "Epoch 156/1000\n",
            "460/460 [==============================] - 0s 238us/step - loss: 0.2619 - acc: 0.9043 - val_loss: 0.5319 - val_acc: 0.8448\n",
            "Epoch 157/1000\n",
            "460/460 [==============================] - 0s 245us/step - loss: 0.2579 - acc: 0.9087 - val_loss: 0.5364 - val_acc: 0.8448\n",
            "Epoch 158/1000\n",
            "460/460 [==============================] - 0s 239us/step - loss: 0.2246 - acc: 0.9370 - val_loss: 0.5445 - val_acc: 0.8448\n",
            "Epoch 159/1000\n",
            "460/460 [==============================] - 0s 237us/step - loss: 0.2586 - acc: 0.9217 - val_loss: 0.5345 - val_acc: 0.8448\n",
            "Epoch 160/1000\n",
            "460/460 [==============================] - 0s 238us/step - loss: 0.2363 - acc: 0.9152 - val_loss: 0.5267 - val_acc: 0.8448\n",
            "Epoch 161/1000\n",
            "460/460 [==============================] - 0s 245us/step - loss: 0.2346 - acc: 0.9196 - val_loss: 0.5174 - val_acc: 0.8448\n",
            "Epoch 162/1000\n",
            "460/460 [==============================] - 0s 240us/step - loss: 0.2553 - acc: 0.9196 - val_loss: 0.5154 - val_acc: 0.8448\n",
            "Epoch 163/1000\n",
            "460/460 [==============================] - 0s 238us/step - loss: 0.2270 - acc: 0.9239 - val_loss: 0.5196 - val_acc: 0.8621\n",
            "Epoch 164/1000\n",
            "460/460 [==============================] - 0s 239us/step - loss: 0.2240 - acc: 0.9217 - val_loss: 0.5145 - val_acc: 0.8534\n",
            "Epoch 165/1000\n",
            "460/460 [==============================] - 0s 240us/step - loss: 0.2529 - acc: 0.9087 - val_loss: 0.5167 - val_acc: 0.8534\n",
            "Epoch 166/1000\n",
            "460/460 [==============================] - 0s 239us/step - loss: 0.2516 - acc: 0.9196 - val_loss: 0.5272 - val_acc: 0.8621\n",
            "Epoch 167/1000\n",
            "460/460 [==============================] - 0s 242us/step - loss: 0.2234 - acc: 0.9304 - val_loss: 0.5285 - val_acc: 0.8707\n",
            "Epoch 168/1000\n",
            "460/460 [==============================] - 0s 251us/step - loss: 0.1981 - acc: 0.9478 - val_loss: 0.5321 - val_acc: 0.8534\n",
            "Epoch 169/1000\n",
            "460/460 [==============================] - 0s 243us/step - loss: 0.1860 - acc: 0.9435 - val_loss: 0.5481 - val_acc: 0.8621\n",
            "Epoch 170/1000\n",
            "460/460 [==============================] - 0s 247us/step - loss: 0.2120 - acc: 0.9348 - val_loss: 0.5373 - val_acc: 0.8621\n",
            "Epoch 171/1000\n",
            "460/460 [==============================] - 0s 234us/step - loss: 0.2455 - acc: 0.9087 - val_loss: 0.5142 - val_acc: 0.8621\n",
            "Epoch 172/1000\n",
            "460/460 [==============================] - 0s 233us/step - loss: 0.2384 - acc: 0.9261 - val_loss: 0.5130 - val_acc: 0.8707\n",
            "Epoch 173/1000\n",
            "460/460 [==============================] - 0s 238us/step - loss: 0.2040 - acc: 0.9413 - val_loss: 0.5295 - val_acc: 0.8534\n"
          ],
          "name": "stdout"
        }
      ]
    },
    {
      "cell_type": "markdown",
      "metadata": {
        "colab_type": "text",
        "id": "ox2EsO3A0lxe"
      },
      "source": [
        "# history"
      ]
    },
    {
      "cell_type": "code",
      "metadata": {
        "colab_type": "code",
        "id": "2SOeN_p8kGkb",
        "outputId": "71c4ca4c-a36d-4551-be1c-f4af55a69e10",
        "colab": {
          "base_uri": "https://localhost:8080/",
          "height": 265
        }
      },
      "source": [
        "fig, ax = plt.subplots(2,1)\n",
        "\n",
        "ax[0].plot(history.history['loss'], color='b', label=\"Training loss\")\n",
        "ax[0].plot(history.history['val_loss'], color='r', label=\"validation loss\",axes =ax[0])\n",
        "legend = ax[0].legend(loc='best', shadow=True)\n",
        "\n",
        "ax[1].plot(history.history['acc'], color='b', label=\"Training accuracy\")\n",
        "ax[1].plot(history.history['val_acc'], color='r',label=\"Validation accuracy\")\n",
        "legend = ax[1].legend(loc='best', shadow=True)"
      ],
      "execution_count": 0,
      "outputs": [
        {
          "output_type": "display_data",
          "data": {
            "image/png": "[encoded data removed]",
            "text/plain": [
              "<Figure size 432x288 with 2 Axes>"
            ]
          },
          "metadata": {
            "tags": [],
            "needs_background": "light"
          }
        }
      ]
    },
    {
      "cell_type": "markdown",
      "metadata": {
        "colab_type": "text",
        "id": "GWktEtYC0jWS"
      },
      "source": [
        "# confusion_mtx"
      ]
    },
    {
      "cell_type": "code",
      "metadata": {
        "colab_type": "code",
        "id": "BOBgBGnbzbjf",
        "outputId": "3b316352-9c87-441d-b303-74c2865a0d30",
        "colab": {
          "base_uri": "https://localhost:8080/",
          "height": 271
        }
      },
      "source": [
        "Y_pred = model.predict(X_valid)\n",
        "\n",
        "Y_pred_classes = np.argmax(Y_pred,axis = 1) \n",
        "Y_true = np.argmax(Y_valid,axis = 1) \n",
        "\n",
        "confusion_mtx = confusion_matrix(Y_true, Y_pred_classes) \n",
        "pd.DataFrame(confusion_mtx).style.background_gradient()"
      ],
      "execution_count": 0,
      "outputs": [
        {
          "output_type": "execute_result",
          "data": {
            "text/html": [
              "<style  type=\"text/css\" >\n",
              "    #T_f1ac1c2a_15ab_11ea_b5bd_a16ca5f74632row0_col0 {\n",
              "            background-color:  #023858;\n",
              "            color:  #f1f1f1;\n",
              "        }    #T_f1ac1c2a_15ab_11ea_b5bd_a16ca5f74632row0_col1 {\n",
              "            background-color:  #fff7fb;\n",
              "            color:  #000000;\n",
              "        }    #T_f1ac1c2a_15ab_11ea_b5bd_a16ca5f74632row0_col2 {\n",
              "            background-color:  #fff7fb;\n",
              "            color:  #000000;\n",
              "        }    #T_f1ac1c2a_15ab_11ea_b5bd_a16ca5f74632row0_col3 {\n",
              "            background-color:  #fff7fb;\n",
              "            color:  #000000;\n",
              "        }    #T_f1ac1c2a_15ab_11ea_b5bd_a16ca5f74632row0_col4 {\n",
              "            background-color:  #fff7fb;\n",
              "            color:  #000000;\n",
              "        }    #T_f1ac1c2a_15ab_11ea_b5bd_a16ca5f74632row0_col5 {\n",
              "            background-color:  #fff7fb;\n",
              "            color:  #000000;\n",
              "        }    #T_f1ac1c2a_15ab_11ea_b5bd_a16ca5f74632row0_col6 {\n",
              "            background-color:  #fff7fb;\n",
              "            color:  #000000;\n",
              "        }    #T_f1ac1c2a_15ab_11ea_b5bd_a16ca5f74632row0_col7 {\n",
              "            background-color:  #fff7fb;\n",
              "            color:  #000000;\n",
              "        }    #T_f1ac1c2a_15ab_11ea_b5bd_a16ca5f74632row0_col8 {\n",
              "            background-color:  #fff7fb;\n",
              "            color:  #000000;\n",
              "        }    #T_f1ac1c2a_15ab_11ea_b5bd_a16ca5f74632row0_col9 {\n",
              "            background-color:  #fff7fb;\n",
              "            color:  #000000;\n",
              "        }    #T_f1ac1c2a_15ab_11ea_b5bd_a16ca5f74632row0_col10 {\n",
              "            background-color:  #fff7fb;\n",
              "            color:  #000000;\n",
              "        }    #T_f1ac1c2a_15ab_11ea_b5bd_a16ca5f74632row1_col0 {\n",
              "            background-color:  #fff7fb;\n",
              "            color:  #000000;\n",
              "        }    #T_f1ac1c2a_15ab_11ea_b5bd_a16ca5f74632row1_col1 {\n",
              "            background-color:  #023858;\n",
              "            color:  #f1f1f1;\n",
              "        }    #T_f1ac1c2a_15ab_11ea_b5bd_a16ca5f74632row1_col2 {\n",
              "            background-color:  #dbdaeb;\n",
              "            color:  #000000;\n",
              "        }    #T_f1ac1c2a_15ab_11ea_b5bd_a16ca5f74632row1_col3 {\n",
              "            background-color:  #fff7fb;\n",
              "            color:  #000000;\n",
              "        }    #T_f1ac1c2a_15ab_11ea_b5bd_a16ca5f74632row1_col4 {\n",
              "            background-color:  #f8f1f8;\n",
              "            color:  #000000;\n",
              "        }    #T_f1ac1c2a_15ab_11ea_b5bd_a16ca5f74632row1_col5 {\n",
              "            background-color:  #fff7fb;\n",
              "            color:  #000000;\n",
              "        }    #T_f1ac1c2a_15ab_11ea_b5bd_a16ca5f74632row1_col6 {\n",
              "            background-color:  #fff7fb;\n",
              "            color:  #000000;\n",
              "        }    #T_f1ac1c2a_15ab_11ea_b5bd_a16ca5f74632row1_col7 {\n",
              "            background-color:  #fff7fb;\n",
              "            color:  #000000;\n",
              "        }    #T_f1ac1c2a_15ab_11ea_b5bd_a16ca5f74632row1_col8 {\n",
              "            background-color:  #fff7fb;\n",
              "            color:  #000000;\n",
              "        }    #T_f1ac1c2a_15ab_11ea_b5bd_a16ca5f74632row1_col9 {\n",
              "            background-color:  #f4eef6;\n",
              "            color:  #000000;\n",
              "        }    #T_f1ac1c2a_15ab_11ea_b5bd_a16ca5f74632row1_col10 {\n",
              "            background-color:  #fff7fb;\n",
              "            color:  #000000;\n",
              "        }    #T_f1ac1c2a_15ab_11ea_b5bd_a16ca5f74632row2_col0 {\n",
              "            background-color:  #d0d1e6;\n",
              "            color:  #000000;\n",
              "        }    #T_f1ac1c2a_15ab_11ea_b5bd_a16ca5f74632row2_col1 {\n",
              "            background-color:  #fff7fb;\n",
              "            color:  #000000;\n",
              "        }    #T_f1ac1c2a_15ab_11ea_b5bd_a16ca5f74632row2_col2 {\n",
              "            background-color:  #023858;\n",
              "            color:  #f1f1f1;\n",
              "        }    #T_f1ac1c2a_15ab_11ea_b5bd_a16ca5f74632row2_col3 {\n",
              "            background-color:  #fff7fb;\n",
              "            color:  #000000;\n",
              "        }    #T_f1ac1c2a_15ab_11ea_b5bd_a16ca5f74632row2_col4 {\n",
              "            background-color:  #fff7fb;\n",
              "            color:  #000000;\n",
              "        }    #T_f1ac1c2a_15ab_11ea_b5bd_a16ca5f74632row2_col5 {\n",
              "            background-color:  #fff7fb;\n",
              "            color:  #000000;\n",
              "        }    #T_f1ac1c2a_15ab_11ea_b5bd_a16ca5f74632row2_col6 {\n",
              "            background-color:  #dbdaeb;\n",
              "            color:  #000000;\n",
              "        }    #T_f1ac1c2a_15ab_11ea_b5bd_a16ca5f74632row2_col7 {\n",
              "            background-color:  #fff7fb;\n",
              "            color:  #000000;\n",
              "        }    #T_f1ac1c2a_15ab_11ea_b5bd_a16ca5f74632row2_col8 {\n",
              "            background-color:  #fff7fb;\n",
              "            color:  #000000;\n",
              "        }    #T_f1ac1c2a_15ab_11ea_b5bd_a16ca5f74632row2_col9 {\n",
              "            background-color:  #fff7fb;\n",
              "            color:  #000000;\n",
              "        }    #T_f1ac1c2a_15ab_11ea_b5bd_a16ca5f74632row2_col10 {\n",
              "            background-color:  #fff7fb;\n",
              "            color:  #000000;\n",
              "        }    #T_f1ac1c2a_15ab_11ea_b5bd_a16ca5f74632row3_col0 {\n",
              "            background-color:  #fff7fb;\n",
              "            color:  #000000;\n",
              "        }    #T_f1ac1c2a_15ab_11ea_b5bd_a16ca5f74632row3_col1 {\n",
              "            background-color:  #fff7fb;\n",
              "            color:  #000000;\n",
              "        }    #T_f1ac1c2a_15ab_11ea_b5bd_a16ca5f74632row3_col2 {\n",
              "            background-color:  #fff7fb;\n",
              "            color:  #000000;\n",
              "        }    #T_f1ac1c2a_15ab_11ea_b5bd_a16ca5f74632row3_col3 {\n",
              "            background-color:  #023858;\n",
              "            color:  #f1f1f1;\n",
              "        }    #T_f1ac1c2a_15ab_11ea_b5bd_a16ca5f74632row3_col4 {\n",
              "            background-color:  #f8f1f8;\n",
              "            color:  #000000;\n",
              "        }    #T_f1ac1c2a_15ab_11ea_b5bd_a16ca5f74632row3_col5 {\n",
              "            background-color:  #fff7fb;\n",
              "            color:  #000000;\n",
              "        }    #T_f1ac1c2a_15ab_11ea_b5bd_a16ca5f74632row3_col6 {\n",
              "            background-color:  #fff7fb;\n",
              "            color:  #000000;\n",
              "        }    #T_f1ac1c2a_15ab_11ea_b5bd_a16ca5f74632row3_col7 {\n",
              "            background-color:  #fff7fb;\n",
              "            color:  #000000;\n",
              "        }    #T_f1ac1c2a_15ab_11ea_b5bd_a16ca5f74632row3_col8 {\n",
              "            background-color:  #e8e4f0;\n",
              "            color:  #000000;\n",
              "        }    #T_f1ac1c2a_15ab_11ea_b5bd_a16ca5f74632row3_col9 {\n",
              "            background-color:  #f4eef6;\n",
              "            color:  #000000;\n",
              "        }    #T_f1ac1c2a_15ab_11ea_b5bd_a16ca5f74632row3_col10 {\n",
              "            background-color:  #fff7fb;\n",
              "            color:  #000000;\n",
              "        }    #T_f1ac1c2a_15ab_11ea_b5bd_a16ca5f74632row4_col0 {\n",
              "            background-color:  #fff7fb;\n",
              "            color:  #000000;\n",
              "        }    #T_f1ac1c2a_15ab_11ea_b5bd_a16ca5f74632row4_col1 {\n",
              "            background-color:  #fff7fb;\n",
              "            color:  #000000;\n",
              "        }    #T_f1ac1c2a_15ab_11ea_b5bd_a16ca5f74632row4_col2 {\n",
              "            background-color:  #fff7fb;\n",
              "            color:  #000000;\n",
              "        }    #T_f1ac1c2a_15ab_11ea_b5bd_a16ca5f74632row4_col3 {\n",
              "            background-color:  #fff7fb;\n",
              "            color:  #000000;\n",
              "        }    #T_f1ac1c2a_15ab_11ea_b5bd_a16ca5f74632row4_col4 {\n",
              "            background-color:  #023858;\n",
              "            color:  #f1f1f1;\n",
              "        }    #T_f1ac1c2a_15ab_11ea_b5bd_a16ca5f74632row4_col5 {\n",
              "            background-color:  #fff7fb;\n",
              "            color:  #000000;\n",
              "        }    #T_f1ac1c2a_15ab_11ea_b5bd_a16ca5f74632row4_col6 {\n",
              "            background-color:  #fff7fb;\n",
              "            color:  #000000;\n",
              "        }    #T_f1ac1c2a_15ab_11ea_b5bd_a16ca5f74632row4_col7 {\n",
              "            background-color:  #fff7fb;\n",
              "            color:  #000000;\n",
              "        }    #T_f1ac1c2a_15ab_11ea_b5bd_a16ca5f74632row4_col8 {\n",
              "            background-color:  #fff7fb;\n",
              "            color:  #000000;\n",
              "        }    #T_f1ac1c2a_15ab_11ea_b5bd_a16ca5f74632row4_col9 {\n",
              "            background-color:  #d9d8ea;\n",
              "            color:  #000000;\n",
              "        }    #T_f1ac1c2a_15ab_11ea_b5bd_a16ca5f74632row4_col10 {\n",
              "            background-color:  #fff7fb;\n",
              "            color:  #000000;\n",
              "        }    #T_f1ac1c2a_15ab_11ea_b5bd_a16ca5f74632row5_col0 {\n",
              "            background-color:  #fff7fb;\n",
              "            color:  #000000;\n",
              "        }    #T_f1ac1c2a_15ab_11ea_b5bd_a16ca5f74632row5_col1 {\n",
              "            background-color:  #fff7fb;\n",
              "            color:  #000000;\n",
              "        }    #T_f1ac1c2a_15ab_11ea_b5bd_a16ca5f74632row5_col2 {\n",
              "            background-color:  #fff7fb;\n",
              "            color:  #000000;\n",
              "        }    #T_f1ac1c2a_15ab_11ea_b5bd_a16ca5f74632row5_col3 {\n",
              "            background-color:  #fff7fb;\n",
              "            color:  #000000;\n",
              "        }    #T_f1ac1c2a_15ab_11ea_b5bd_a16ca5f74632row5_col4 {\n",
              "            background-color:  #fff7fb;\n",
              "            color:  #000000;\n",
              "        }    #T_f1ac1c2a_15ab_11ea_b5bd_a16ca5f74632row5_col5 {\n",
              "            background-color:  #023858;\n",
              "            color:  #f1f1f1;\n",
              "        }    #T_f1ac1c2a_15ab_11ea_b5bd_a16ca5f74632row5_col6 {\n",
              "            background-color:  #fff7fb;\n",
              "            color:  #000000;\n",
              "        }    #T_f1ac1c2a_15ab_11ea_b5bd_a16ca5f74632row5_col7 {\n",
              "            background-color:  #fff7fb;\n",
              "            color:  #000000;\n",
              "        }    #T_f1ac1c2a_15ab_11ea_b5bd_a16ca5f74632row5_col8 {\n",
              "            background-color:  #fff7fb;\n",
              "            color:  #000000;\n",
              "        }    #T_f1ac1c2a_15ab_11ea_b5bd_a16ca5f74632row5_col9 {\n",
              "            background-color:  #fff7fb;\n",
              "            color:  #000000;\n",
              "        }    #T_f1ac1c2a_15ab_11ea_b5bd_a16ca5f74632row5_col10 {\n",
              "            background-color:  #fff7fb;\n",
              "            color:  #000000;\n",
              "        }    #T_f1ac1c2a_15ab_11ea_b5bd_a16ca5f74632row6_col0 {\n",
              "            background-color:  #fff7fb;\n",
              "            color:  #000000;\n",
              "        }    #T_f1ac1c2a_15ab_11ea_b5bd_a16ca5f74632row6_col1 {\n",
              "            background-color:  #fff7fb;\n",
              "            color:  #000000;\n",
              "        }    #T_f1ac1c2a_15ab_11ea_b5bd_a16ca5f74632row6_col2 {\n",
              "            background-color:  #fff7fb;\n",
              "            color:  #000000;\n",
              "        }    #T_f1ac1c2a_15ab_11ea_b5bd_a16ca5f74632row6_col3 {\n",
              "            background-color:  #fff7fb;\n",
              "            color:  #000000;\n",
              "        }    #T_f1ac1c2a_15ab_11ea_b5bd_a16ca5f74632row6_col4 {\n",
              "            background-color:  #fff7fb;\n",
              "            color:  #000000;\n",
              "        }    #T_f1ac1c2a_15ab_11ea_b5bd_a16ca5f74632row6_col5 {\n",
              "            background-color:  #fff7fb;\n",
              "            color:  #000000;\n",
              "        }    #T_f1ac1c2a_15ab_11ea_b5bd_a16ca5f74632row6_col6 {\n",
              "            background-color:  #023858;\n",
              "            color:  #f1f1f1;\n",
              "        }    #T_f1ac1c2a_15ab_11ea_b5bd_a16ca5f74632row6_col7 {\n",
              "            background-color:  #fff7fb;\n",
              "            color:  #000000;\n",
              "        }    #T_f1ac1c2a_15ab_11ea_b5bd_a16ca5f74632row6_col8 {\n",
              "            background-color:  #fff7fb;\n",
              "            color:  #000000;\n",
              "        }    #T_f1ac1c2a_15ab_11ea_b5bd_a16ca5f74632row6_col9 {\n",
              "            background-color:  #f4eef6;\n",
              "            color:  #000000;\n",
              "        }    #T_f1ac1c2a_15ab_11ea_b5bd_a16ca5f74632row6_col10 {\n",
              "            background-color:  #fff7fb;\n",
              "            color:  #000000;\n",
              "        }    #T_f1ac1c2a_15ab_11ea_b5bd_a16ca5f74632row7_col0 {\n",
              "            background-color:  #fff7fb;\n",
              "            color:  #000000;\n",
              "        }    #T_f1ac1c2a_15ab_11ea_b5bd_a16ca5f74632row7_col1 {\n",
              "            background-color:  #fff7fb;\n",
              "            color:  #000000;\n",
              "        }    #T_f1ac1c2a_15ab_11ea_b5bd_a16ca5f74632row7_col2 {\n",
              "            background-color:  #fff7fb;\n",
              "            color:  #000000;\n",
              "        }    #T_f1ac1c2a_15ab_11ea_b5bd_a16ca5f74632row7_col3 {\n",
              "            background-color:  #fff7fb;\n",
              "            color:  #000000;\n",
              "        }    #T_f1ac1c2a_15ab_11ea_b5bd_a16ca5f74632row7_col4 {\n",
              "            background-color:  #fff7fb;\n",
              "            color:  #000000;\n",
              "        }    #T_f1ac1c2a_15ab_11ea_b5bd_a16ca5f74632row7_col5 {\n",
              "            background-color:  #fff7fb;\n",
              "            color:  #000000;\n",
              "        }    #T_f1ac1c2a_15ab_11ea_b5bd_a16ca5f74632row7_col6 {\n",
              "            background-color:  #fff7fb;\n",
              "            color:  #000000;\n",
              "        }    #T_f1ac1c2a_15ab_11ea_b5bd_a16ca5f74632row7_col7 {\n",
              "            background-color:  #023858;\n",
              "            color:  #f1f1f1;\n",
              "        }    #T_f1ac1c2a_15ab_11ea_b5bd_a16ca5f74632row7_col8 {\n",
              "            background-color:  #fff7fb;\n",
              "            color:  #000000;\n",
              "        }    #T_f1ac1c2a_15ab_11ea_b5bd_a16ca5f74632row7_col9 {\n",
              "            background-color:  #fff7fb;\n",
              "            color:  #000000;\n",
              "        }    #T_f1ac1c2a_15ab_11ea_b5bd_a16ca5f74632row7_col10 {\n",
              "            background-color:  #fff7fb;\n",
              "            color:  #000000;\n",
              "        }    #T_f1ac1c2a_15ab_11ea_b5bd_a16ca5f74632row8_col0 {\n",
              "            background-color:  #fff7fb;\n",
              "            color:  #000000;\n",
              "        }    #T_f1ac1c2a_15ab_11ea_b5bd_a16ca5f74632row8_col1 {\n",
              "            background-color:  #fff7fb;\n",
              "            color:  #000000;\n",
              "        }    #T_f1ac1c2a_15ab_11ea_b5bd_a16ca5f74632row8_col2 {\n",
              "            background-color:  #fff7fb;\n",
              "            color:  #000000;\n",
              "        }    #T_f1ac1c2a_15ab_11ea_b5bd_a16ca5f74632row8_col3 {\n",
              "            background-color:  #fff7fb;\n",
              "            color:  #000000;\n",
              "        }    #T_f1ac1c2a_15ab_11ea_b5bd_a16ca5f74632row8_col4 {\n",
              "            background-color:  #fff7fb;\n",
              "            color:  #000000;\n",
              "        }    #T_f1ac1c2a_15ab_11ea_b5bd_a16ca5f74632row8_col5 {\n",
              "            background-color:  #fff7fb;\n",
              "            color:  #000000;\n",
              "        }    #T_f1ac1c2a_15ab_11ea_b5bd_a16ca5f74632row8_col6 {\n",
              "            background-color:  #fff7fb;\n",
              "            color:  #000000;\n",
              "        }    #T_f1ac1c2a_15ab_11ea_b5bd_a16ca5f74632row8_col7 {\n",
              "            background-color:  #dbdaeb;\n",
              "            color:  #000000;\n",
              "        }    #T_f1ac1c2a_15ab_11ea_b5bd_a16ca5f74632row8_col8 {\n",
              "            background-color:  #023858;\n",
              "            color:  #f1f1f1;\n",
              "        }    #T_f1ac1c2a_15ab_11ea_b5bd_a16ca5f74632row8_col9 {\n",
              "            background-color:  #fff7fb;\n",
              "            color:  #000000;\n",
              "        }    #T_f1ac1c2a_15ab_11ea_b5bd_a16ca5f74632row8_col10 {\n",
              "            background-color:  #fff7fb;\n",
              "            color:  #000000;\n",
              "        }    #T_f1ac1c2a_15ab_11ea_b5bd_a16ca5f74632row9_col0 {\n",
              "            background-color:  #fff7fb;\n",
              "            color:  #000000;\n",
              "        }    #T_f1ac1c2a_15ab_11ea_b5bd_a16ca5f74632row9_col1 {\n",
              "            background-color:  #fff7fb;\n",
              "            color:  #000000;\n",
              "        }    #T_f1ac1c2a_15ab_11ea_b5bd_a16ca5f74632row9_col2 {\n",
              "            background-color:  #fff7fb;\n",
              "            color:  #000000;\n",
              "        }    #T_f1ac1c2a_15ab_11ea_b5bd_a16ca5f74632row9_col3 {\n",
              "            background-color:  #fff7fb;\n",
              "            color:  #000000;\n",
              "        }    #T_f1ac1c2a_15ab_11ea_b5bd_a16ca5f74632row9_col4 {\n",
              "            background-color:  #fff7fb;\n",
              "            color:  #000000;\n",
              "        }    #T_f1ac1c2a_15ab_11ea_b5bd_a16ca5f74632row9_col5 {\n",
              "            background-color:  #fff7fb;\n",
              "            color:  #000000;\n",
              "        }    #T_f1ac1c2a_15ab_11ea_b5bd_a16ca5f74632row9_col6 {\n",
              "            background-color:  #fff7fb;\n",
              "            color:  #000000;\n",
              "        }    #T_f1ac1c2a_15ab_11ea_b5bd_a16ca5f74632row9_col7 {\n",
              "            background-color:  #dbdaeb;\n",
              "            color:  #000000;\n",
              "        }    #T_f1ac1c2a_15ab_11ea_b5bd_a16ca5f74632row9_col8 {\n",
              "            background-color:  #fff7fb;\n",
              "            color:  #000000;\n",
              "        }    #T_f1ac1c2a_15ab_11ea_b5bd_a16ca5f74632row9_col9 {\n",
              "            background-color:  #023858;\n",
              "            color:  #f1f1f1;\n",
              "        }    #T_f1ac1c2a_15ab_11ea_b5bd_a16ca5f74632row9_col10 {\n",
              "            background-color:  #fff7fb;\n",
              "            color:  #000000;\n",
              "        }    #T_f1ac1c2a_15ab_11ea_b5bd_a16ca5f74632row10_col0 {\n",
              "            background-color:  #fff7fb;\n",
              "            color:  #000000;\n",
              "        }    #T_f1ac1c2a_15ab_11ea_b5bd_a16ca5f74632row10_col1 {\n",
              "            background-color:  #fff7fb;\n",
              "            color:  #000000;\n",
              "        }    #T_f1ac1c2a_15ab_11ea_b5bd_a16ca5f74632row10_col2 {\n",
              "            background-color:  #fff7fb;\n",
              "            color:  #000000;\n",
              "        }    #T_f1ac1c2a_15ab_11ea_b5bd_a16ca5f74632row10_col3 {\n",
              "            background-color:  #fff7fb;\n",
              "            color:  #000000;\n",
              "        }    #T_f1ac1c2a_15ab_11ea_b5bd_a16ca5f74632row10_col4 {\n",
              "            background-color:  #f2ecf5;\n",
              "            color:  #000000;\n",
              "        }    #T_f1ac1c2a_15ab_11ea_b5bd_a16ca5f74632row10_col5 {\n",
              "            background-color:  #fff7fb;\n",
              "            color:  #000000;\n",
              "        }    #T_f1ac1c2a_15ab_11ea_b5bd_a16ca5f74632row10_col6 {\n",
              "            background-color:  #fff7fb;\n",
              "            color:  #000000;\n",
              "        }    #T_f1ac1c2a_15ab_11ea_b5bd_a16ca5f74632row10_col7 {\n",
              "            background-color:  #fff7fb;\n",
              "            color:  #000000;\n",
              "        }    #T_f1ac1c2a_15ab_11ea_b5bd_a16ca5f74632row10_col8 {\n",
              "            background-color:  #fff7fb;\n",
              "            color:  #000000;\n",
              "        }    #T_f1ac1c2a_15ab_11ea_b5bd_a16ca5f74632row10_col9 {\n",
              "            background-color:  #f4eef6;\n",
              "            color:  #000000;\n",
              "        }    #T_f1ac1c2a_15ab_11ea_b5bd_a16ca5f74632row10_col10 {\n",
              "            background-color:  #023858;\n",
              "            color:  #f1f1f1;\n",
              "        }</style><table id=\"T_f1ac1c2a_15ab_11ea_b5bd_a16ca5f74632\" ><thead>    <tr>        <th class=\"blank level0\" ></th>        <th class=\"col_heading level0 col0\" >0</th>        <th class=\"col_heading level0 col1\" >1</th>        <th class=\"col_heading level0 col2\" >2</th>        <th class=\"col_heading level0 col3\" >3</th>        <th class=\"col_heading level0 col4\" >4</th>        <th class=\"col_heading level0 col5\" >5</th>        <th class=\"col_heading level0 col6\" >6</th>        <th class=\"col_heading level0 col7\" >7</th>        <th class=\"col_heading level0 col8\" >8</th>        <th class=\"col_heading level0 col9\" >9</th>        <th class=\"col_heading level0 col10\" >10</th>    </tr></thead><tbody>\n",
              "                <tr>\n",
              "                        <th id=\"T_f1ac1c2a_15ab_11ea_b5bd_a16ca5f74632level0_row0\" class=\"row_heading level0 row0\" >0</th>\n",
              "                        <td id=\"T_f1ac1c2a_15ab_11ea_b5bd_a16ca5f74632row0_col0\" class=\"data row0 col0\" >4</td>\n",
              "                        <td id=\"T_f1ac1c2a_15ab_11ea_b5bd_a16ca5f74632row0_col1\" class=\"data row0 col1\" >0</td>\n",
              "                        <td id=\"T_f1ac1c2a_15ab_11ea_b5bd_a16ca5f74632row0_col2\" class=\"data row0 col2\" >0</td>\n",
              "                        <td id=\"T_f1ac1c2a_15ab_11ea_b5bd_a16ca5f74632row0_col3\" class=\"data row0 col3\" >0</td>\n",
              "                        <td id=\"T_f1ac1c2a_15ab_11ea_b5bd_a16ca5f74632row0_col4\" class=\"data row0 col4\" >0</td>\n",
              "                        <td id=\"T_f1ac1c2a_15ab_11ea_b5bd_a16ca5f74632row0_col5\" class=\"data row0 col5\" >0</td>\n",
              "                        <td id=\"T_f1ac1c2a_15ab_11ea_b5bd_a16ca5f74632row0_col6\" class=\"data row0 col6\" >0</td>\n",
              "                        <td id=\"T_f1ac1c2a_15ab_11ea_b5bd_a16ca5f74632row0_col7\" class=\"data row0 col7\" >0</td>\n",
              "                        <td id=\"T_f1ac1c2a_15ab_11ea_b5bd_a16ca5f74632row0_col8\" class=\"data row0 col8\" >0</td>\n",
              "                        <td id=\"T_f1ac1c2a_15ab_11ea_b5bd_a16ca5f74632row0_col9\" class=\"data row0 col9\" >0</td>\n",
              "                        <td id=\"T_f1ac1c2a_15ab_11ea_b5bd_a16ca5f74632row0_col10\" class=\"data row0 col10\" >0</td>\n",
              "            </tr>\n",
              "            <tr>\n",
              "                        <th id=\"T_f1ac1c2a_15ab_11ea_b5bd_a16ca5f74632level0_row1\" class=\"row_heading level0 row1\" >1</th>\n",
              "                        <td id=\"T_f1ac1c2a_15ab_11ea_b5bd_a16ca5f74632row1_col0\" class=\"data row1 col0\" >0</td>\n",
              "                        <td id=\"T_f1ac1c2a_15ab_11ea_b5bd_a16ca5f74632row1_col1\" class=\"data row1 col1\" >1</td>\n",
              "                        <td id=\"T_f1ac1c2a_15ab_11ea_b5bd_a16ca5f74632row1_col2\" class=\"data row1 col2\" >1</td>\n",
              "                        <td id=\"T_f1ac1c2a_15ab_11ea_b5bd_a16ca5f74632row1_col3\" class=\"data row1 col3\" >0</td>\n",
              "                        <td id=\"T_f1ac1c2a_15ab_11ea_b5bd_a16ca5f74632row1_col4\" class=\"data row1 col4\" >1</td>\n",
              "                        <td id=\"T_f1ac1c2a_15ab_11ea_b5bd_a16ca5f74632row1_col5\" class=\"data row1 col5\" >0</td>\n",
              "                        <td id=\"T_f1ac1c2a_15ab_11ea_b5bd_a16ca5f74632row1_col6\" class=\"data row1 col6\" >0</td>\n",
              "                        <td id=\"T_f1ac1c2a_15ab_11ea_b5bd_a16ca5f74632row1_col7\" class=\"data row1 col7\" >0</td>\n",
              "                        <td id=\"T_f1ac1c2a_15ab_11ea_b5bd_a16ca5f74632row1_col8\" class=\"data row1 col8\" >0</td>\n",
              "                        <td id=\"T_f1ac1c2a_15ab_11ea_b5bd_a16ca5f74632row1_col9\" class=\"data row1 col9\" >1</td>\n",
              "                        <td id=\"T_f1ac1c2a_15ab_11ea_b5bd_a16ca5f74632row1_col10\" class=\"data row1 col10\" >0</td>\n",
              "            </tr>\n",
              "            <tr>\n",
              "                        <th id=\"T_f1ac1c2a_15ab_11ea_b5bd_a16ca5f74632level0_row2\" class=\"row_heading level0 row2\" >2</th>\n",
              "                        <td id=\"T_f1ac1c2a_15ab_11ea_b5bd_a16ca5f74632row2_col0\" class=\"data row2 col0\" >1</td>\n",
              "                        <td id=\"T_f1ac1c2a_15ab_11ea_b5bd_a16ca5f74632row2_col1\" class=\"data row2 col1\" >0</td>\n",
              "                        <td id=\"T_f1ac1c2a_15ab_11ea_b5bd_a16ca5f74632row2_col2\" class=\"data row2 col2\" >5</td>\n",
              "                        <td id=\"T_f1ac1c2a_15ab_11ea_b5bd_a16ca5f74632row2_col3\" class=\"data row2 col3\" >0</td>\n",
              "                        <td id=\"T_f1ac1c2a_15ab_11ea_b5bd_a16ca5f74632row2_col4\" class=\"data row2 col4\" >0</td>\n",
              "                        <td id=\"T_f1ac1c2a_15ab_11ea_b5bd_a16ca5f74632row2_col5\" class=\"data row2 col5\" >0</td>\n",
              "                        <td id=\"T_f1ac1c2a_15ab_11ea_b5bd_a16ca5f74632row2_col6\" class=\"data row2 col6\" >1</td>\n",
              "                        <td id=\"T_f1ac1c2a_15ab_11ea_b5bd_a16ca5f74632row2_col7\" class=\"data row2 col7\" >0</td>\n",
              "                        <td id=\"T_f1ac1c2a_15ab_11ea_b5bd_a16ca5f74632row2_col8\" class=\"data row2 col8\" >0</td>\n",
              "                        <td id=\"T_f1ac1c2a_15ab_11ea_b5bd_a16ca5f74632row2_col9\" class=\"data row2 col9\" >0</td>\n",
              "                        <td id=\"T_f1ac1c2a_15ab_11ea_b5bd_a16ca5f74632row2_col10\" class=\"data row2 col10\" >0</td>\n",
              "            </tr>\n",
              "            <tr>\n",
              "                        <th id=\"T_f1ac1c2a_15ab_11ea_b5bd_a16ca5f74632level0_row3\" class=\"row_heading level0 row3\" >3</th>\n",
              "                        <td id=\"T_f1ac1c2a_15ab_11ea_b5bd_a16ca5f74632row3_col0\" class=\"data row3 col0\" >0</td>\n",
              "                        <td id=\"T_f1ac1c2a_15ab_11ea_b5bd_a16ca5f74632row3_col1\" class=\"data row3 col1\" >0</td>\n",
              "                        <td id=\"T_f1ac1c2a_15ab_11ea_b5bd_a16ca5f74632row3_col2\" class=\"data row3 col2\" >0</td>\n",
              "                        <td id=\"T_f1ac1c2a_15ab_11ea_b5bd_a16ca5f74632row3_col3\" class=\"data row3 col3\" >28</td>\n",
              "                        <td id=\"T_f1ac1c2a_15ab_11ea_b5bd_a16ca5f74632row3_col4\" class=\"data row3 col4\" >1</td>\n",
              "                        <td id=\"T_f1ac1c2a_15ab_11ea_b5bd_a16ca5f74632row3_col5\" class=\"data row3 col5\" >0</td>\n",
              "                        <td id=\"T_f1ac1c2a_15ab_11ea_b5bd_a16ca5f74632row3_col6\" class=\"data row3 col6\" >0</td>\n",
              "                        <td id=\"T_f1ac1c2a_15ab_11ea_b5bd_a16ca5f74632row3_col7\" class=\"data row3 col7\" >0</td>\n",
              "                        <td id=\"T_f1ac1c2a_15ab_11ea_b5bd_a16ca5f74632row3_col8\" class=\"data row3 col8\" >1</td>\n",
              "                        <td id=\"T_f1ac1c2a_15ab_11ea_b5bd_a16ca5f74632row3_col9\" class=\"data row3 col9\" >1</td>\n",
              "                        <td id=\"T_f1ac1c2a_15ab_11ea_b5bd_a16ca5f74632row3_col10\" class=\"data row3 col10\" >0</td>\n",
              "            </tr>\n",
              "            <tr>\n",
              "                        <th id=\"T_f1ac1c2a_15ab_11ea_b5bd_a16ca5f74632level0_row4\" class=\"row_heading level0 row4\" >4</th>\n",
              "                        <td id=\"T_f1ac1c2a_15ab_11ea_b5bd_a16ca5f74632row4_col0\" class=\"data row4 col0\" >0</td>\n",
              "                        <td id=\"T_f1ac1c2a_15ab_11ea_b5bd_a16ca5f74632row4_col1\" class=\"data row4 col1\" >0</td>\n",
              "                        <td id=\"T_f1ac1c2a_15ab_11ea_b5bd_a16ca5f74632row4_col2\" class=\"data row4 col2\" >0</td>\n",
              "                        <td id=\"T_f1ac1c2a_15ab_11ea_b5bd_a16ca5f74632row4_col3\" class=\"data row4 col3\" >0</td>\n",
              "                        <td id=\"T_f1ac1c2a_15ab_11ea_b5bd_a16ca5f74632row4_col4\" class=\"data row4 col4\" >23</td>\n",
              "                        <td id=\"T_f1ac1c2a_15ab_11ea_b5bd_a16ca5f74632row4_col5\" class=\"data row4 col5\" >0</td>\n",
              "                        <td id=\"T_f1ac1c2a_15ab_11ea_b5bd_a16ca5f74632row4_col6\" class=\"data row4 col6\" >0</td>\n",
              "                        <td id=\"T_f1ac1c2a_15ab_11ea_b5bd_a16ca5f74632row4_col7\" class=\"data row4 col7\" >0</td>\n",
              "                        <td id=\"T_f1ac1c2a_15ab_11ea_b5bd_a16ca5f74632row4_col8\" class=\"data row4 col8\" >0</td>\n",
              "                        <td id=\"T_f1ac1c2a_15ab_11ea_b5bd_a16ca5f74632row4_col9\" class=\"data row4 col9\" >3</td>\n",
              "                        <td id=\"T_f1ac1c2a_15ab_11ea_b5bd_a16ca5f74632row4_col10\" class=\"data row4 col10\" >0</td>\n",
              "            </tr>\n",
              "            <tr>\n",
              "                        <th id=\"T_f1ac1c2a_15ab_11ea_b5bd_a16ca5f74632level0_row5\" class=\"row_heading level0 row5\" >5</th>\n",
              "                        <td id=\"T_f1ac1c2a_15ab_11ea_b5bd_a16ca5f74632row5_col0\" class=\"data row5 col0\" >0</td>\n",
              "                        <td id=\"T_f1ac1c2a_15ab_11ea_b5bd_a16ca5f74632row5_col1\" class=\"data row5 col1\" >0</td>\n",
              "                        <td id=\"T_f1ac1c2a_15ab_11ea_b5bd_a16ca5f74632row5_col2\" class=\"data row5 col2\" >0</td>\n",
              "                        <td id=\"T_f1ac1c2a_15ab_11ea_b5bd_a16ca5f74632row5_col3\" class=\"data row5 col3\" >0</td>\n",
              "                        <td id=\"T_f1ac1c2a_15ab_11ea_b5bd_a16ca5f74632row5_col4\" class=\"data row5 col4\" >0</td>\n",
              "                        <td id=\"T_f1ac1c2a_15ab_11ea_b5bd_a16ca5f74632row5_col5\" class=\"data row5 col5\" >3</td>\n",
              "                        <td id=\"T_f1ac1c2a_15ab_11ea_b5bd_a16ca5f74632row5_col6\" class=\"data row5 col6\" >0</td>\n",
              "                        <td id=\"T_f1ac1c2a_15ab_11ea_b5bd_a16ca5f74632row5_col7\" class=\"data row5 col7\" >0</td>\n",
              "                        <td id=\"T_f1ac1c2a_15ab_11ea_b5bd_a16ca5f74632row5_col8\" class=\"data row5 col8\" >0</td>\n",
              "                        <td id=\"T_f1ac1c2a_15ab_11ea_b5bd_a16ca5f74632row5_col9\" class=\"data row5 col9\" >0</td>\n",
              "                        <td id=\"T_f1ac1c2a_15ab_11ea_b5bd_a16ca5f74632row5_col10\" class=\"data row5 col10\" >0</td>\n",
              "            </tr>\n",
              "            <tr>\n",
              "                        <th id=\"T_f1ac1c2a_15ab_11ea_b5bd_a16ca5f74632level0_row6\" class=\"row_heading level0 row6\" >6</th>\n",
              "                        <td id=\"T_f1ac1c2a_15ab_11ea_b5bd_a16ca5f74632row6_col0\" class=\"data row6 col0\" >0</td>\n",
              "                        <td id=\"T_f1ac1c2a_15ab_11ea_b5bd_a16ca5f74632row6_col1\" class=\"data row6 col1\" >0</td>\n",
              "                        <td id=\"T_f1ac1c2a_15ab_11ea_b5bd_a16ca5f74632row6_col2\" class=\"data row6 col2\" >0</td>\n",
              "                        <td id=\"T_f1ac1c2a_15ab_11ea_b5bd_a16ca5f74632row6_col3\" class=\"data row6 col3\" >0</td>\n",
              "                        <td id=\"T_f1ac1c2a_15ab_11ea_b5bd_a16ca5f74632row6_col4\" class=\"data row6 col4\" >0</td>\n",
              "                        <td id=\"T_f1ac1c2a_15ab_11ea_b5bd_a16ca5f74632row6_col5\" class=\"data row6 col5\" >0</td>\n",
              "                        <td id=\"T_f1ac1c2a_15ab_11ea_b5bd_a16ca5f74632row6_col6\" class=\"data row6 col6\" >5</td>\n",
              "                        <td id=\"T_f1ac1c2a_15ab_11ea_b5bd_a16ca5f74632row6_col7\" class=\"data row6 col7\" >0</td>\n",
              "                        <td id=\"T_f1ac1c2a_15ab_11ea_b5bd_a16ca5f74632row6_col8\" class=\"data row6 col8\" >0</td>\n",
              "                        <td id=\"T_f1ac1c2a_15ab_11ea_b5bd_a16ca5f74632row6_col9\" class=\"data row6 col9\" >1</td>\n",
              "                        <td id=\"T_f1ac1c2a_15ab_11ea_b5bd_a16ca5f74632row6_col10\" class=\"data row6 col10\" >0</td>\n",
              "            </tr>\n",
              "            <tr>\n",
              "                        <th id=\"T_f1ac1c2a_15ab_11ea_b5bd_a16ca5f74632level0_row7\" class=\"row_heading level0 row7\" >7</th>\n",
              "                        <td id=\"T_f1ac1c2a_15ab_11ea_b5bd_a16ca5f74632row7_col0\" class=\"data row7 col0\" >0</td>\n",
              "                        <td id=\"T_f1ac1c2a_15ab_11ea_b5bd_a16ca5f74632row7_col1\" class=\"data row7 col1\" >0</td>\n",
              "                        <td id=\"T_f1ac1c2a_15ab_11ea_b5bd_a16ca5f74632row7_col2\" class=\"data row7 col2\" >0</td>\n",
              "                        <td id=\"T_f1ac1c2a_15ab_11ea_b5bd_a16ca5f74632row7_col3\" class=\"data row7 col3\" >0</td>\n",
              "                        <td id=\"T_f1ac1c2a_15ab_11ea_b5bd_a16ca5f74632row7_col4\" class=\"data row7 col4\" >0</td>\n",
              "                        <td id=\"T_f1ac1c2a_15ab_11ea_b5bd_a16ca5f74632row7_col5\" class=\"data row7 col5\" >0</td>\n",
              "                        <td id=\"T_f1ac1c2a_15ab_11ea_b5bd_a16ca5f74632row7_col6\" class=\"data row7 col6\" >0</td>\n",
              "                        <td id=\"T_f1ac1c2a_15ab_11ea_b5bd_a16ca5f74632row7_col7\" class=\"data row7 col7\" >5</td>\n",
              "                        <td id=\"T_f1ac1c2a_15ab_11ea_b5bd_a16ca5f74632row7_col8\" class=\"data row7 col8\" >0</td>\n",
              "                        <td id=\"T_f1ac1c2a_15ab_11ea_b5bd_a16ca5f74632row7_col9\" class=\"data row7 col9\" >0</td>\n",
              "                        <td id=\"T_f1ac1c2a_15ab_11ea_b5bd_a16ca5f74632row7_col10\" class=\"data row7 col10\" >0</td>\n",
              "            </tr>\n",
              "            <tr>\n",
              "                        <th id=\"T_f1ac1c2a_15ab_11ea_b5bd_a16ca5f74632level0_row8\" class=\"row_heading level0 row8\" >8</th>\n",
              "                        <td id=\"T_f1ac1c2a_15ab_11ea_b5bd_a16ca5f74632row8_col0\" class=\"data row8 col0\" >0</td>\n",
              "                        <td id=\"T_f1ac1c2a_15ab_11ea_b5bd_a16ca5f74632row8_col1\" class=\"data row8 col1\" >0</td>\n",
              "                        <td id=\"T_f1ac1c2a_15ab_11ea_b5bd_a16ca5f74632row8_col2\" class=\"data row8 col2\" >0</td>\n",
              "                        <td id=\"T_f1ac1c2a_15ab_11ea_b5bd_a16ca5f74632row8_col3\" class=\"data row8 col3\" >0</td>\n",
              "                        <td id=\"T_f1ac1c2a_15ab_11ea_b5bd_a16ca5f74632row8_col4\" class=\"data row8 col4\" >0</td>\n",
              "                        <td id=\"T_f1ac1c2a_15ab_11ea_b5bd_a16ca5f74632row8_col5\" class=\"data row8 col5\" >0</td>\n",
              "                        <td id=\"T_f1ac1c2a_15ab_11ea_b5bd_a16ca5f74632row8_col6\" class=\"data row8 col6\" >0</td>\n",
              "                        <td id=\"T_f1ac1c2a_15ab_11ea_b5bd_a16ca5f74632row8_col7\" class=\"data row8 col7\" >1</td>\n",
              "                        <td id=\"T_f1ac1c2a_15ab_11ea_b5bd_a16ca5f74632row8_col8\" class=\"data row8 col8\" >7</td>\n",
              "                        <td id=\"T_f1ac1c2a_15ab_11ea_b5bd_a16ca5f74632row8_col9\" class=\"data row8 col9\" >0</td>\n",
              "                        <td id=\"T_f1ac1c2a_15ab_11ea_b5bd_a16ca5f74632row8_col10\" class=\"data row8 col10\" >0</td>\n",
              "            </tr>\n",
              "            <tr>\n",
              "                        <th id=\"T_f1ac1c2a_15ab_11ea_b5bd_a16ca5f74632level0_row9\" class=\"row_heading level0 row9\" >9</th>\n",
              "                        <td id=\"T_f1ac1c2a_15ab_11ea_b5bd_a16ca5f74632row9_col0\" class=\"data row9 col0\" >0</td>\n",
              "                        <td id=\"T_f1ac1c2a_15ab_11ea_b5bd_a16ca5f74632row9_col1\" class=\"data row9 col1\" >0</td>\n",
              "                        <td id=\"T_f1ac1c2a_15ab_11ea_b5bd_a16ca5f74632row9_col2\" class=\"data row9 col2\" >0</td>\n",
              "                        <td id=\"T_f1ac1c2a_15ab_11ea_b5bd_a16ca5f74632row9_col3\" class=\"data row9 col3\" >0</td>\n",
              "                        <td id=\"T_f1ac1c2a_15ab_11ea_b5bd_a16ca5f74632row9_col4\" class=\"data row9 col4\" >0</td>\n",
              "                        <td id=\"T_f1ac1c2a_15ab_11ea_b5bd_a16ca5f74632row9_col5\" class=\"data row9 col5\" >0</td>\n",
              "                        <td id=\"T_f1ac1c2a_15ab_11ea_b5bd_a16ca5f74632row9_col6\" class=\"data row9 col6\" >0</td>\n",
              "                        <td id=\"T_f1ac1c2a_15ab_11ea_b5bd_a16ca5f74632row9_col7\" class=\"data row9 col7\" >1</td>\n",
              "                        <td id=\"T_f1ac1c2a_15ab_11ea_b5bd_a16ca5f74632row9_col8\" class=\"data row9 col8\" >0</td>\n",
              "                        <td id=\"T_f1ac1c2a_15ab_11ea_b5bd_a16ca5f74632row9_col9\" class=\"data row9 col9\" >14</td>\n",
              "                        <td id=\"T_f1ac1c2a_15ab_11ea_b5bd_a16ca5f74632row9_col10\" class=\"data row9 col10\" >0</td>\n",
              "            </tr>\n",
              "            <tr>\n",
              "                        <th id=\"T_f1ac1c2a_15ab_11ea_b5bd_a16ca5f74632level0_row10\" class=\"row_heading level0 row10\" >10</th>\n",
              "                        <td id=\"T_f1ac1c2a_15ab_11ea_b5bd_a16ca5f74632row10_col0\" class=\"data row10 col0\" >0</td>\n",
              "                        <td id=\"T_f1ac1c2a_15ab_11ea_b5bd_a16ca5f74632row10_col1\" class=\"data row10 col1\" >0</td>\n",
              "                        <td id=\"T_f1ac1c2a_15ab_11ea_b5bd_a16ca5f74632row10_col2\" class=\"data row10 col2\" >0</td>\n",
              "                        <td id=\"T_f1ac1c2a_15ab_11ea_b5bd_a16ca5f74632row10_col3\" class=\"data row10 col3\" >0</td>\n",
              "                        <td id=\"T_f1ac1c2a_15ab_11ea_b5bd_a16ca5f74632row10_col4\" class=\"data row10 col4\" >2</td>\n",
              "                        <td id=\"T_f1ac1c2a_15ab_11ea_b5bd_a16ca5f74632row10_col5\" class=\"data row10 col5\" >0</td>\n",
              "                        <td id=\"T_f1ac1c2a_15ab_11ea_b5bd_a16ca5f74632row10_col6\" class=\"data row10 col6\" >0</td>\n",
              "                        <td id=\"T_f1ac1c2a_15ab_11ea_b5bd_a16ca5f74632row10_col7\" class=\"data row10 col7\" >0</td>\n",
              "                        <td id=\"T_f1ac1c2a_15ab_11ea_b5bd_a16ca5f74632row10_col8\" class=\"data row10 col8\" >0</td>\n",
              "                        <td id=\"T_f1ac1c2a_15ab_11ea_b5bd_a16ca5f74632row10_col9\" class=\"data row10 col9\" >1</td>\n",
              "                        <td id=\"T_f1ac1c2a_15ab_11ea_b5bd_a16ca5f74632row10_col10\" class=\"data row10 col10\" >4</td>\n",
              "            </tr>\n",
              "    </tbody></table>"
            ],
            "text/plain": [
              "<pandas.io.formats.style.Styler at 0x7fdc4c662dd8>"
            ]
          },
          "metadata": {
            "tags": []
          },
          "execution_count": 19
        }
      ]
    },
    {
      "cell_type": "markdown",
      "metadata": {
        "colab_type": "text",
        "id": "LyrZTlTu0fHI"
      },
      "source": [
        "# Display some error results "
      ]
    },
    {
      "cell_type": "code",
      "metadata": {
        "colab_type": "code",
        "id": "JqHu-QTHzkLu",
        "outputId": "b8c6b3a9-c38f-44d8-b8c9-dc4677a6d1ba",
        "colab": {
          "base_uri": "https://localhost:8080/",
          "height": 254
        }
      },
      "source": [
        "# Errors are difference between predicted labels and true labels\n",
        "errors = (Y_pred_classes - Y_true != 0)\n",
        "\n",
        "Y_pred_classes_errors = Y_pred_classes[errors]\n",
        "Y_pred_errors = Y_pred[errors]\n",
        "Y_true_errors = Y_true[errors]\n",
        "X_val_errors = X_valid[errors]\n",
        "\n",
        "def display_errors(errors_index,img_errors,pred_errors, obs_errors):\n",
        "    \"\"\" This function shows 6 images with their predicted and real labels\"\"\"\n",
        "    n = 0\n",
        "    nrows = 2\n",
        "    ncols = 3\n",
        "    fig, ax = plt.subplots(nrows,ncols,sharex=True,sharey=True)\n",
        "    for row in range(nrows):\n",
        "        for col in range(ncols):\n",
        "            error = errors_index[n]\n",
        "            ax[row,col].imshow((img_errors[error]).reshape(X_train.shape[1:]))\n",
        "            ax[row,col].set_title(\"Predict:{} True:{}\".format(pred_errors[error],obs_errors[error]))\n",
        "            n += 1\n",
        "\n",
        "# Probabilities of the wrong predicted numbers\n",
        "Y_pred_errors_prob = np.max(Y_pred_errors,axis = 1)\n",
        "\n",
        "# Predicted probabilities of the true values in the error set\n",
        "true_prob_errors = np.diagonal(np.take(Y_pred_errors, Y_true_errors, axis=1))\n",
        "\n",
        "# Difference between the probability of the predicted label and the true label\n",
        "delta_pred_true_errors = Y_pred_errors_prob - true_prob_errors\n",
        "\n",
        "# Sorted list of the delta prob errors\n",
        "sorted_dela_errors = np.argsort(delta_pred_true_errors)\n",
        "\n",
        "# Top 6 errors \n",
        "most_important_errors = sorted_dela_errors[-6:]\n",
        "\n",
        "# Show the top 6 errors\n",
        "display_errors(most_important_errors, X_val_errors, Y_pred_classes_errors, Y_true_errors)"
      ],
      "execution_count": 0,
      "outputs": [
        {
          "output_type": "display_data",
          "data": {
            "image/png": "[encoded data removed]",
            "text/plain": [
              "<Figure size 432x288 with 6 Axes>"
            ]
          },
          "metadata": {
            "tags": [],
            "needs_background": "light"
          }
        }
      ]
    },
    {
      "cell_type": "code",
      "metadata": {
        "colab_type": "code",
        "id": "YhY7YY7k0XN1",
        "colab": {},
        "outputId": "3d33f4ca-2984-4d79-e064-c6bcf71b3ac6"
      },
      "source": [
        "submit = pd.DataFrame()\n",
        "submit['id'] = test.index\n",
        "submit['appliance'] = [np.argmax(i) for i in model.predict(X_test)]\n",
        "submit.head()"
      ],
      "execution_count": 0,
      "outputs": [
        {
          "output_type": "execute_result",
          "data": {
            "text/html": [
              "<div>\n",
              "<style scoped>\n",
              "    .dataframe tbody tr th:only-of-type {\n",
              "        vertical-align: middle;\n",
              "    }\n",
              "\n",
              "    .dataframe tbody tr th {\n",
              "        vertical-align: top;\n",
              "    }\n",
              "\n",
              "    .dataframe thead th {\n",
              "        text-align: right;\n",
              "    }\n",
              "</style>\n",
              "<table border=\"1\" class=\"dataframe\">\n",
              "  <thead>\n",
              "    <tr style=\"text-align: right;\">\n",
              "      <th></th>\n",
              "      <th>id</th>\n",
              "      <th>appliance</th>\n",
              "    </tr>\n",
              "  </thead>\n",
              "  <tbody>\n",
              "    <tr>\n",
              "      <th>0</th>\n",
              "      <td>1576</td>\n",
              "      <td>9</td>\n",
              "    </tr>\n",
              "    <tr>\n",
              "      <th>1</th>\n",
              "      <td>1577</td>\n",
              "      <td>5</td>\n",
              "    </tr>\n",
              "    <tr>\n",
              "      <th>2</th>\n",
              "      <td>1578</td>\n",
              "      <td>4</td>\n",
              "    </tr>\n",
              "    <tr>\n",
              "      <th>3</th>\n",
              "      <td>1579</td>\n",
              "      <td>2</td>\n",
              "    </tr>\n",
              "    <tr>\n",
              "      <th>4</th>\n",
              "      <td>1580</td>\n",
              "      <td>8</td>\n",
              "    </tr>\n",
              "  </tbody>\n",
              "</table>\n",
              "</div>"
            ],
            "text/plain": [
              "     id  appliance\n",
              "0  1576          9\n",
              "1  1577          5\n",
              "2  1578          4\n",
              "3  1579          2\n",
              "4  1580          8"
            ]
          },
          "metadata": {
            "tags": []
          },
          "execution_count": 21
        }
      ]
    },
    {
      "cell_type": "code",
      "metadata": {
        "id": "HWIc5TcxA9n5",
        "colab_type": "code",
        "colab": {}
      },
      "source": [
        "submit.to_csv('submit_1.csv',index=False)"
      ],
      "execution_count": 0,
      "outputs": []
    },
    {
      "cell_type": "code",
      "metadata": {
        "id": "Fjrb9NQOA9n8",
        "colab_type": "code",
        "colab": {}
      },
      "source": [
        ""
      ],
      "execution_count": 0,
      "outputs": []
    }
  ]
}