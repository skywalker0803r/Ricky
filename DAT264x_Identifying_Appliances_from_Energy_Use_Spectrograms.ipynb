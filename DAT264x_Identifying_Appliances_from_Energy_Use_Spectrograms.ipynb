{
  "nbformat": 4,
  "nbformat_minor": 0,
  "metadata": {
    "colab": {
      "name": "DAT264x: Identifying Appliances from Energy Use Spectrograms.ipynb",
      "provenance": [],
      "collapsed_sections": [],
      "include_colab_link": true
    },
    "kernelspec": {
      "name": "python3",
      "display_name": "Python 3"
    },
    "accelerator": "GPU",
    "widgets": {
      "application/vnd.jupyter.widget-state+json": {
        "1166cd46b8804b5c8ab3f7c45a944975": {
          "model_module": "@jupyter-widgets/controls",
          "model_name": "HBoxModel",
          "state": {
            "_view_name": "HBoxView",
            "_dom_classes": [],
            "_model_name": "HBoxModel",
            "_view_module": "@jupyter-widgets/controls",
            "_model_module_version": "1.5.0",
            "_view_count": null,
            "_view_module_version": "1.5.0",
            "box_style": "",
            "layout": "IPY_MODEL_6c64a519800d4a6b8b8f00a3e0c94b1a",
            "_model_module": "@jupyter-widgets/controls",
            "children": [
              "IPY_MODEL_1db060ae47ea4517beade21cb08dcd3d",
              "IPY_MODEL_a2fb343ee83e4050b14880527f47b828"
            ]
          }
        },
        "6c64a519800d4a6b8b8f00a3e0c94b1a": {
          "model_module": "@jupyter-widgets/base",
          "model_name": "LayoutModel",
          "state": {
            "_view_name": "LayoutView",
            "grid_template_rows": null,
            "right": null,
            "justify_content": null,
            "_view_module": "@jupyter-widgets/base",
            "overflow": null,
            "_model_module_version": "1.2.0",
            "_view_count": null,
            "flex_flow": null,
            "width": null,
            "min_width": null,
            "border": null,
            "align_items": null,
            "bottom": null,
            "_model_module": "@jupyter-widgets/base",
            "top": null,
            "grid_column": null,
            "overflow_y": null,
            "overflow_x": null,
            "grid_auto_flow": null,
            "grid_area": null,
            "grid_template_columns": null,
            "flex": null,
            "_model_name": "LayoutModel",
            "justify_items": null,
            "grid_row": null,
            "max_height": null,
            "align_content": null,
            "visibility": null,
            "align_self": null,
            "height": null,
            "min_height": null,
            "padding": null,
            "grid_auto_rows": null,
            "grid_gap": null,
            "max_width": null,
            "order": null,
            "_view_module_version": "1.2.0",
            "grid_template_areas": null,
            "object_position": null,
            "object_fit": null,
            "grid_auto_columns": null,
            "margin": null,
            "display": null,
            "left": null
          }
        },
        "1db060ae47ea4517beade21cb08dcd3d": {
          "model_module": "@jupyter-widgets/controls",
          "model_name": "IntProgressModel",
          "state": {
            "_view_name": "ProgressView",
            "style": "IPY_MODEL_21a23fa75d2740d98601a55a5781e7b0",
            "_dom_classes": [],
            "description": "",
            "_model_name": "IntProgressModel",
            "bar_style": "success",
            "max": 1152,
            "_view_module": "@jupyter-widgets/controls",
            "_model_module_version": "1.5.0",
            "value": 1152,
            "_view_count": null,
            "_view_module_version": "1.5.0",
            "orientation": "horizontal",
            "min": 0,
            "description_tooltip": null,
            "_model_module": "@jupyter-widgets/controls",
            "layout": "IPY_MODEL_e9a6765535e3466d827cc38b9afa803f"
          }
        },
        "a2fb343ee83e4050b14880527f47b828": {
          "model_module": "@jupyter-widgets/controls",
          "model_name": "HTMLModel",
          "state": {
            "_view_name": "HTMLView",
            "style": "IPY_MODEL_940ac17698764544ab6a3b946771843b",
            "_dom_classes": [],
            "description": "",
            "_model_name": "HTMLModel",
            "placeholder": "​",
            "_view_module": "@jupyter-widgets/controls",
            "_model_module_version": "1.5.0",
            "value": "100% 1152/1152 [10:29&lt;00:00,  1.92it/s]",
            "_view_count": null,
            "_view_module_version": "1.5.0",
            "description_tooltip": null,
            "_model_module": "@jupyter-widgets/controls",
            "layout": "IPY_MODEL_4af4d1f8c3ea410597fc8a7a8f54c7e6"
          }
        },
        "21a23fa75d2740d98601a55a5781e7b0": {
          "model_module": "@jupyter-widgets/controls",
          "model_name": "ProgressStyleModel",
          "state": {
            "_view_name": "StyleView",
            "_model_name": "ProgressStyleModel",
            "description_width": "",
            "_view_module": "@jupyter-widgets/base",
            "_model_module_version": "1.5.0",
            "_view_count": null,
            "_view_module_version": "1.2.0",
            "bar_color": null,
            "_model_module": "@jupyter-widgets/controls"
          }
        },
        "e9a6765535e3466d827cc38b9afa803f": {
          "model_module": "@jupyter-widgets/base",
          "model_name": "LayoutModel",
          "state": {
            "_view_name": "LayoutView",
            "grid_template_rows": null,
            "right": null,
            "justify_content": null,
            "_view_module": "@jupyter-widgets/base",
            "overflow": null,
            "_model_module_version": "1.2.0",
            "_view_count": null,
            "flex_flow": null,
            "width": null,
            "min_width": null,
            "border": null,
            "align_items": null,
            "bottom": null,
            "_model_module": "@jupyter-widgets/base",
            "top": null,
            "grid_column": null,
            "overflow_y": null,
            "overflow_x": null,
            "grid_auto_flow": null,
            "grid_area": null,
            "grid_template_columns": null,
            "flex": null,
            "_model_name": "LayoutModel",
            "justify_items": null,
            "grid_row": null,
            "max_height": null,
            "align_content": null,
            "visibility": null,
            "align_self": null,
            "height": null,
            "min_height": null,
            "padding": null,
            "grid_auto_rows": null,
            "grid_gap": null,
            "max_width": null,
            "order": null,
            "_view_module_version": "1.2.0",
            "grid_template_areas": null,
            "object_position": null,
            "object_fit": null,
            "grid_auto_columns": null,
            "margin": null,
            "display": null,
            "left": null
          }
        },
        "940ac17698764544ab6a3b946771843b": {
          "model_module": "@jupyter-widgets/controls",
          "model_name": "DescriptionStyleModel",
          "state": {
            "_view_name": "StyleView",
            "_model_name": "DescriptionStyleModel",
            "description_width": "",
            "_view_module": "@jupyter-widgets/base",
            "_model_module_version": "1.5.0",
            "_view_count": null,
            "_view_module_version": "1.2.0",
            "_model_module": "@jupyter-widgets/controls"
          }
        },
        "4af4d1f8c3ea410597fc8a7a8f54c7e6": {
          "model_module": "@jupyter-widgets/base",
          "model_name": "LayoutModel",
          "state": {
            "_view_name": "LayoutView",
            "grid_template_rows": null,
            "right": null,
            "justify_content": null,
            "_view_module": "@jupyter-widgets/base",
            "overflow": null,
            "_model_module_version": "1.2.0",
            "_view_count": null,
            "flex_flow": null,
            "width": null,
            "min_width": null,
            "border": null,
            "align_items": null,
            "bottom": null,
            "_model_module": "@jupyter-widgets/base",
            "top": null,
            "grid_column": null,
            "overflow_y": null,
            "overflow_x": null,
            "grid_auto_flow": null,
            "grid_area": null,
            "grid_template_columns": null,
            "flex": null,
            "_model_name": "LayoutModel",
            "justify_items": null,
            "grid_row": null,
            "max_height": null,
            "align_content": null,
            "visibility": null,
            "align_self": null,
            "height": null,
            "min_height": null,
            "padding": null,
            "grid_auto_rows": null,
            "grid_gap": null,
            "max_width": null,
            "order": null,
            "_view_module_version": "1.2.0",
            "grid_template_areas": null,
            "object_position": null,
            "object_fit": null,
            "grid_auto_columns": null,
            "margin": null,
            "display": null,
            "left": null
          }
        }
      }
    }
  },
  "cells": [
    {
      "cell_type": "markdown",
      "metadata": {
        "id": "view-in-github",
        "colab_type": "text"
      },
      "source": [
        "<a href=\"https://colab.research.google.com/github/skywalker0803r/Ricky/blob/master/DAT264x_Identifying_Appliances_from_Energy_Use_Spectrograms.ipynb\" target=\"_parent\"><img src=\"https://colab.research.google.com/assets/colab-badge.svg\" alt=\"Open In Colab\"/></a>"
      ]
    },
    {
      "cell_type": "code",
      "metadata": {
        "id": "QteGvEz0WPjx",
        "colab_type": "code",
        "colab": {
          "base_uri": "https://localhost:8080/",
          "height": 127
        },
        "outputId": "bf303640-47b8-41d4-e04b-403bc0177935"
      },
      "source": [
        "from google.colab import drive\n",
        "drive.mount('/content/drive')"
      ],
      "execution_count": 1,
      "outputs": [
        {
          "output_type": "stream",
          "text": [
            "Go to this URL in a browser: https://accounts.google.com/o/oauth2/auth?client_id=947318989803-6bn6qk8qdgf4n4g3pfee6491hc0brc4i.apps.googleusercontent.com&redirect_uri=urn%3aietf%3awg%3aoauth%3a2.0%3aoob&response_type=code&scope=email%20https%3a%2f%2fwww.googleapis.com%2fauth%2fdocs.test%20https%3a%2f%2fwww.googleapis.com%2fauth%2fdrive%20https%3a%2f%2fwww.googleapis.com%2fauth%2fdrive.photos.readonly%20https%3a%2f%2fwww.googleapis.com%2fauth%2fpeopleapi.readonly\n",
            "\n",
            "Enter your authorization code:\n",
            "··········\n",
            "Mounted at /content/drive\n"
          ],
          "name": "stdout"
        }
      ]
    },
    {
      "cell_type": "code",
      "metadata": {
        "id": "VmxVGLI7Vm8w",
        "colab_type": "code",
        "colab": {}
      },
      "source": [
        "import numpy as np\n",
        "from numpy import array\n",
        "import keras\n",
        "import pandas as pd\n",
        "from sklearn.preprocessing import OneHotEncoder\n",
        "from keras.models import Sequential\n",
        "from keras.layers import Dense, Activation, Dropout, Flatten, Conv2D, MaxPooling2D\n",
        "from keras.optimizers import SGD, Adam\n",
        "from keras.utils import to_categorical\n",
        "from keras.preprocessing.image import ImageDataGenerator, array_to_img, img_to_array, load_img\n",
        "from keras.preprocessing import image\n",
        "from tqdm import tqdm_notebook as tqdm\n",
        "import os\n",
        "import seaborn as sns\n",
        "from keras.utils import np_utils\n",
        "from sklearn.model_selection import train_test_split\n",
        "import matplotlib.pyplot as plt\n",
        "from keras import backend as K\n",
        "from keras.models import Sequential\n",
        "from keras.layers import Dense, Dropout, Lambda, Flatten, BatchNormalization\n",
        "from keras.layers import Conv2D, MaxPool2D, AvgPool2D\n",
        "from keras.optimizers import Adam #做梯度下降的一種優化方法\n",
        "from keras.callbacks import ReduceLROnPlateau , EarlyStopping #減少學習速率 on Plateau\n",
        "from sklearn.metrics import confusion_matrix"
      ],
      "execution_count": 0,
      "outputs": []
    },
    {
      "cell_type": "markdown",
      "metadata": {
        "id": "JA-YVq7maCbA",
        "colab_type": "text"
      },
      "source": [
        "# Load data"
      ]
    },
    {
      "cell_type": "code",
      "metadata": {
        "id": "XcczWgxaXIn0",
        "colab_type": "code",
        "colab": {
          "base_uri": "https://localhost:8080/",
          "height": 285,
          "referenced_widgets": [
            "1166cd46b8804b5c8ab3f7c45a944975",
            "6c64a519800d4a6b8b8f00a3e0c94b1a",
            "1db060ae47ea4517beade21cb08dcd3d",
            "a2fb343ee83e4050b14880527f47b828",
            "21a23fa75d2740d98601a55a5781e7b0",
            "e9a6765535e3466d827cc38b9afa803f",
            "940ac17698764544ab6a3b946771843b",
            "4af4d1f8c3ea410597fc8a7a8f54c7e6"
          ]
        },
        "outputId": "9eef24c7-2b01-4268-ebb5-2ab916e50bec"
      },
      "source": [
        "train_images = []\n",
        "train_idxs = []\n",
        "train_labels = []\n",
        "train_data_path = '/content/drive/My Drive/DAT264x/train'\n",
        "\n",
        "for file_name in tqdm(os.listdir(train_data_path)):\n",
        "  train_images.append(image.load_img(train_data_path+'/'+file_name))\n",
        "  train_idxs.append(file_name.split('_')[0])\n",
        "\n",
        "train = pd.DataFrame(index=train_idxs)\n",
        "train.index.name = 'id'\n",
        "train.index = train.index.astype('int64')\n",
        "train['img'] = train_images\n",
        "train.head()"
      ],
      "execution_count": 3,
      "outputs": [
        {
          "output_type": "display_data",
          "data": {
            "application/vnd.jupyter.widget-view+json": {
              "model_id": "1166cd46b8804b5c8ab3f7c45a944975",
              "version_minor": 0,
              "version_major": 2
            },
            "text/plain": [
              "HBox(children=(IntProgress(value=0, max=1152), HTML(value='')))"
            ]
          },
          "metadata": {
            "tags": []
          }
        },
        {
          "output_type": "stream",
          "text": [
            "\n"
          ],
          "name": "stdout"
        },
        {
          "output_type": "execute_result",
          "data": {
            "text/html": [
              "<div>\n",
              "<style scoped>\n",
              "    .dataframe tbody tr th:only-of-type {\n",
              "        vertical-align: middle;\n",
              "    }\n",
              "\n",
              "    .dataframe tbody tr th {\n",
              "        vertical-align: top;\n",
              "    }\n",
              "\n",
              "    .dataframe thead th {\n",
              "        text-align: right;\n",
              "    }\n",
              "</style>\n",
              "<table border=\"1\" class=\"dataframe\">\n",
              "  <thead>\n",
              "    <tr style=\"text-align: right;\">\n",
              "      <th></th>\n",
              "      <th>img</th>\n",
              "    </tr>\n",
              "    <tr>\n",
              "      <th>id</th>\n",
              "      <th></th>\n",
              "    </tr>\n",
              "  </thead>\n",
              "  <tbody>\n",
              "    <tr>\n",
              "      <th>1307</th>\n",
              "      <td>&lt;PIL.Image.Image image mode=RGB size=176x128 a...</td>\n",
              "    </tr>\n",
              "    <tr>\n",
              "      <th>1385</th>\n",
              "      <td>&lt;PIL.Image.Image image mode=RGB size=176x128 a...</td>\n",
              "    </tr>\n",
              "    <tr>\n",
              "      <th>1503</th>\n",
              "      <td>&lt;PIL.Image.Image image mode=RGB size=176x128 a...</td>\n",
              "    </tr>\n",
              "    <tr>\n",
              "      <th>1519</th>\n",
              "      <td>&lt;PIL.Image.Image image mode=RGB size=176x128 a...</td>\n",
              "    </tr>\n",
              "    <tr>\n",
              "      <th>1489</th>\n",
              "      <td>&lt;PIL.Image.Image image mode=RGB size=176x128 a...</td>\n",
              "    </tr>\n",
              "  </tbody>\n",
              "</table>\n",
              "</div>"
            ],
            "text/plain": [
              "                                                    img\n",
              "id                                                     \n",
              "1307  <PIL.Image.Image image mode=RGB size=176x128 a...\n",
              "1385  <PIL.Image.Image image mode=RGB size=176x128 a...\n",
              "1503  <PIL.Image.Image image mode=RGB size=176x128 a...\n",
              "1519  <PIL.Image.Image image mode=RGB size=176x128 a...\n",
              "1489  <PIL.Image.Image image mode=RGB size=176x128 a..."
            ]
          },
          "metadata": {
            "tags": []
          },
          "execution_count": 3
        }
      ]
    },
    {
      "cell_type": "code",
      "metadata": {
        "id": "EZSJLo1gZPyb",
        "colab_type": "code",
        "colab": {
          "base_uri": "https://localhost:8080/",
          "height": 235
        },
        "outputId": "5a58fe66-d19c-4c6b-fada-524de00e890a"
      },
      "source": [
        "labels_path = '/content/drive/My Drive/DAT264x/train_labels.csv'\n",
        "train_labels = pd.read_csv(labels_path,index_col=0)\n",
        "train_labels.head()"
      ],
      "execution_count": 4,
      "outputs": [
        {
          "output_type": "execute_result",
          "data": {
            "text/html": [
              "<div>\n",
              "<style scoped>\n",
              "    .dataframe tbody tr th:only-of-type {\n",
              "        vertical-align: middle;\n",
              "    }\n",
              "\n",
              "    .dataframe tbody tr th {\n",
              "        vertical-align: top;\n",
              "    }\n",
              "\n",
              "    .dataframe thead th {\n",
              "        text-align: right;\n",
              "    }\n",
              "</style>\n",
              "<table border=\"1\" class=\"dataframe\">\n",
              "  <thead>\n",
              "    <tr style=\"text-align: right;\">\n",
              "      <th></th>\n",
              "      <th>appliance</th>\n",
              "    </tr>\n",
              "    <tr>\n",
              "      <th>id</th>\n",
              "      <th></th>\n",
              "    </tr>\n",
              "  </thead>\n",
              "  <tbody>\n",
              "    <tr>\n",
              "      <th>1000</th>\n",
              "      <td>4</td>\n",
              "    </tr>\n",
              "    <tr>\n",
              "      <th>1001</th>\n",
              "      <td>9</td>\n",
              "    </tr>\n",
              "    <tr>\n",
              "      <th>1002</th>\n",
              "      <td>4</td>\n",
              "    </tr>\n",
              "    <tr>\n",
              "      <th>1003</th>\n",
              "      <td>9</td>\n",
              "    </tr>\n",
              "    <tr>\n",
              "      <th>1004</th>\n",
              "      <td>6</td>\n",
              "    </tr>\n",
              "  </tbody>\n",
              "</table>\n",
              "</div>"
            ],
            "text/plain": [
              "      appliance\n",
              "id             \n",
              "1000          4\n",
              "1001          9\n",
              "1002          4\n",
              "1003          9\n",
              "1004          6"
            ]
          },
          "metadata": {
            "tags": []
          },
          "execution_count": 4
        }
      ]
    },
    {
      "cell_type": "markdown",
      "metadata": {
        "id": "w96dlMiikvU_",
        "colab_type": "text"
      },
      "source": [
        "# merge"
      ]
    },
    {
      "cell_type": "code",
      "metadata": {
        "id": "rD58_F0HaO5V",
        "colab_type": "code",
        "colab": {
          "base_uri": "https://localhost:8080/",
          "height": 235
        },
        "outputId": "e2ff593d-f8ae-430f-eb02-91df39066e1b"
      },
      "source": [
        "train = train.join(train_labels)\n",
        "train.head()"
      ],
      "execution_count": 5,
      "outputs": [
        {
          "output_type": "execute_result",
          "data": {
            "text/html": [
              "<div>\n",
              "<style scoped>\n",
              "    .dataframe tbody tr th:only-of-type {\n",
              "        vertical-align: middle;\n",
              "    }\n",
              "\n",
              "    .dataframe tbody tr th {\n",
              "        vertical-align: top;\n",
              "    }\n",
              "\n",
              "    .dataframe thead th {\n",
              "        text-align: right;\n",
              "    }\n",
              "</style>\n",
              "<table border=\"1\" class=\"dataframe\">\n",
              "  <thead>\n",
              "    <tr style=\"text-align: right;\">\n",
              "      <th></th>\n",
              "      <th>img</th>\n",
              "      <th>appliance</th>\n",
              "    </tr>\n",
              "    <tr>\n",
              "      <th>id</th>\n",
              "      <th></th>\n",
              "      <th></th>\n",
              "    </tr>\n",
              "  </thead>\n",
              "  <tbody>\n",
              "    <tr>\n",
              "      <th>1000</th>\n",
              "      <td>&lt;PIL.Image.Image image mode=RGB size=176x128 a...</td>\n",
              "      <td>4</td>\n",
              "    </tr>\n",
              "    <tr>\n",
              "      <th>1000</th>\n",
              "      <td>&lt;PIL.Image.Image image mode=RGB size=176x128 a...</td>\n",
              "      <td>4</td>\n",
              "    </tr>\n",
              "    <tr>\n",
              "      <th>1001</th>\n",
              "      <td>&lt;PIL.Image.Image image mode=RGB size=176x128 a...</td>\n",
              "      <td>9</td>\n",
              "    </tr>\n",
              "    <tr>\n",
              "      <th>1001</th>\n",
              "      <td>&lt;PIL.Image.Image image mode=RGB size=176x128 a...</td>\n",
              "      <td>9</td>\n",
              "    </tr>\n",
              "    <tr>\n",
              "      <th>1002</th>\n",
              "      <td>&lt;PIL.Image.Image image mode=RGB size=176x128 a...</td>\n",
              "      <td>4</td>\n",
              "    </tr>\n",
              "  </tbody>\n",
              "</table>\n",
              "</div>"
            ],
            "text/plain": [
              "                                                    img  appliance\n",
              "id                                                                \n",
              "1000  <PIL.Image.Image image mode=RGB size=176x128 a...          4\n",
              "1000  <PIL.Image.Image image mode=RGB size=176x128 a...          4\n",
              "1001  <PIL.Image.Image image mode=RGB size=176x128 a...          9\n",
              "1001  <PIL.Image.Image image mode=RGB size=176x128 a...          9\n",
              "1002  <PIL.Image.Image image mode=RGB size=176x128 a...          4"
            ]
          },
          "metadata": {
            "tags": []
          },
          "execution_count": 5
        }
      ]
    },
    {
      "cell_type": "code",
      "metadata": {
        "id": "Pzhm4y7eapac",
        "colab_type": "code",
        "colab": {
          "base_uri": "https://localhost:8080/",
          "height": 235
        },
        "outputId": "a1afb999-5202-4cab-ff5b-29c1fc670ed3"
      },
      "source": [
        "train_1 = train[::2] #0 ~ end step2\n",
        "train_2 = train[1::2]#1 ~ end step2 \n",
        "train = train_1\n",
        "train['img2'] = train_2['img']\n",
        "train = train[['img','img2','appliance']]\n",
        "train.head()"
      ],
      "execution_count": 6,
      "outputs": [
        {
          "output_type": "execute_result",
          "data": {
            "text/html": [
              "<div>\n",
              "<style scoped>\n",
              "    .dataframe tbody tr th:only-of-type {\n",
              "        vertical-align: middle;\n",
              "    }\n",
              "\n",
              "    .dataframe tbody tr th {\n",
              "        vertical-align: top;\n",
              "    }\n",
              "\n",
              "    .dataframe thead th {\n",
              "        text-align: right;\n",
              "    }\n",
              "</style>\n",
              "<table border=\"1\" class=\"dataframe\">\n",
              "  <thead>\n",
              "    <tr style=\"text-align: right;\">\n",
              "      <th></th>\n",
              "      <th>img</th>\n",
              "      <th>img2</th>\n",
              "      <th>appliance</th>\n",
              "    </tr>\n",
              "    <tr>\n",
              "      <th>id</th>\n",
              "      <th></th>\n",
              "      <th></th>\n",
              "      <th></th>\n",
              "    </tr>\n",
              "  </thead>\n",
              "  <tbody>\n",
              "    <tr>\n",
              "      <th>1000</th>\n",
              "      <td>&lt;PIL.Image.Image image mode=RGB size=176x128 a...</td>\n",
              "      <td>&lt;PIL.Image.Image image mode=RGB size=176x128 a...</td>\n",
              "      <td>4</td>\n",
              "    </tr>\n",
              "    <tr>\n",
              "      <th>1001</th>\n",
              "      <td>&lt;PIL.Image.Image image mode=RGB size=176x128 a...</td>\n",
              "      <td>&lt;PIL.Image.Image image mode=RGB size=176x128 a...</td>\n",
              "      <td>9</td>\n",
              "    </tr>\n",
              "    <tr>\n",
              "      <th>1002</th>\n",
              "      <td>&lt;PIL.Image.Image image mode=RGB size=176x128 a...</td>\n",
              "      <td>&lt;PIL.Image.Image image mode=RGB size=176x128 a...</td>\n",
              "      <td>4</td>\n",
              "    </tr>\n",
              "    <tr>\n",
              "      <th>1003</th>\n",
              "      <td>&lt;PIL.Image.Image image mode=RGB size=176x128 a...</td>\n",
              "      <td>&lt;PIL.Image.Image image mode=RGB size=176x128 a...</td>\n",
              "      <td>9</td>\n",
              "    </tr>\n",
              "    <tr>\n",
              "      <th>1004</th>\n",
              "      <td>&lt;PIL.Image.Image image mode=RGB size=176x128 a...</td>\n",
              "      <td>&lt;PIL.Image.Image image mode=RGB size=176x128 a...</td>\n",
              "      <td>6</td>\n",
              "    </tr>\n",
              "  </tbody>\n",
              "</table>\n",
              "</div>"
            ],
            "text/plain": [
              "                                                    img  ... appliance\n",
              "id                                                       ...          \n",
              "1000  <PIL.Image.Image image mode=RGB size=176x128 a...  ...         4\n",
              "1001  <PIL.Image.Image image mode=RGB size=176x128 a...  ...         9\n",
              "1002  <PIL.Image.Image image mode=RGB size=176x128 a...  ...         4\n",
              "1003  <PIL.Image.Image image mode=RGB size=176x128 a...  ...         9\n",
              "1004  <PIL.Image.Image image mode=RGB size=176x128 a...  ...         6\n",
              "\n",
              "[5 rows x 3 columns]"
            ]
          },
          "metadata": {
            "tags": []
          },
          "execution_count": 6
        }
      ]
    },
    {
      "cell_type": "markdown",
      "metadata": {
        "id": "SKwfMA6ikVms",
        "colab_type": "text"
      },
      "source": [
        "# set X_train"
      ]
    },
    {
      "cell_type": "code",
      "metadata": {
        "id": "e73IWm-0fhoT",
        "colab_type": "code",
        "colab": {
          "base_uri": "https://localhost:8080/",
          "height": 235
        },
        "outputId": "019d8f22-047e-45af-b795-146ecd79f959"
      },
      "source": [
        "X_train = train[['img','img2']]\n",
        "X_train.head()"
      ],
      "execution_count": 40,
      "outputs": [
        {
          "output_type": "execute_result",
          "data": {
            "text/html": [
              "<div>\n",
              "<style scoped>\n",
              "    .dataframe tbody tr th:only-of-type {\n",
              "        vertical-align: middle;\n",
              "    }\n",
              "\n",
              "    .dataframe tbody tr th {\n",
              "        vertical-align: top;\n",
              "    }\n",
              "\n",
              "    .dataframe thead th {\n",
              "        text-align: right;\n",
              "    }\n",
              "</style>\n",
              "<table border=\"1\" class=\"dataframe\">\n",
              "  <thead>\n",
              "    <tr style=\"text-align: right;\">\n",
              "      <th></th>\n",
              "      <th>img</th>\n",
              "      <th>img2</th>\n",
              "    </tr>\n",
              "    <tr>\n",
              "      <th>id</th>\n",
              "      <th></th>\n",
              "      <th></th>\n",
              "    </tr>\n",
              "  </thead>\n",
              "  <tbody>\n",
              "    <tr>\n",
              "      <th>1000</th>\n",
              "      <td>&lt;PIL.Image.Image image mode=RGB size=176x128 a...</td>\n",
              "      <td>&lt;PIL.Image.Image image mode=RGB size=176x128 a...</td>\n",
              "    </tr>\n",
              "    <tr>\n",
              "      <th>1001</th>\n",
              "      <td>&lt;PIL.Image.Image image mode=RGB size=176x128 a...</td>\n",
              "      <td>&lt;PIL.Image.Image image mode=RGB size=176x128 a...</td>\n",
              "    </tr>\n",
              "    <tr>\n",
              "      <th>1002</th>\n",
              "      <td>&lt;PIL.Image.Image image mode=RGB size=176x128 a...</td>\n",
              "      <td>&lt;PIL.Image.Image image mode=RGB size=176x128 a...</td>\n",
              "    </tr>\n",
              "    <tr>\n",
              "      <th>1003</th>\n",
              "      <td>&lt;PIL.Image.Image image mode=RGB size=176x128 a...</td>\n",
              "      <td>&lt;PIL.Image.Image image mode=RGB size=176x128 a...</td>\n",
              "    </tr>\n",
              "    <tr>\n",
              "      <th>1004</th>\n",
              "      <td>&lt;PIL.Image.Image image mode=RGB size=176x128 a...</td>\n",
              "      <td>&lt;PIL.Image.Image image mode=RGB size=176x128 a...</td>\n",
              "    </tr>\n",
              "  </tbody>\n",
              "</table>\n",
              "</div>"
            ],
            "text/plain": [
              "                                                    img                                               img2\n",
              "id                                                                                                        \n",
              "1000  <PIL.Image.Image image mode=RGB size=176x128 a...  <PIL.Image.Image image mode=RGB size=176x128 a...\n",
              "1001  <PIL.Image.Image image mode=RGB size=176x128 a...  <PIL.Image.Image image mode=RGB size=176x128 a...\n",
              "1002  <PIL.Image.Image image mode=RGB size=176x128 a...  <PIL.Image.Image image mode=RGB size=176x128 a...\n",
              "1003  <PIL.Image.Image image mode=RGB size=176x128 a...  <PIL.Image.Image image mode=RGB size=176x128 a...\n",
              "1004  <PIL.Image.Image image mode=RGB size=176x128 a...  <PIL.Image.Image image mode=RGB size=176x128 a..."
            ]
          },
          "metadata": {
            "tags": []
          },
          "execution_count": 40
        }
      ]
    },
    {
      "cell_type": "markdown",
      "metadata": {
        "id": "Q8OaRjf_kXos",
        "colab_type": "text"
      },
      "source": [
        "# set Y_train"
      ]
    },
    {
      "cell_type": "code",
      "metadata": {
        "id": "8JtlLkrYg9Qs",
        "colab_type": "code",
        "colab": {
          "base_uri": "https://localhost:8080/",
          "height": 143
        },
        "outputId": "62ba089b-0465-446a-83e4-f1e9989f8ad3"
      },
      "source": [
        "Y_train = train[\"appliance\"]\n",
        "Y_train.head()"
      ],
      "execution_count": 41,
      "outputs": [
        {
          "output_type": "execute_result",
          "data": {
            "text/plain": [
              "id\n",
              "1000    4\n",
              "1001    9\n",
              "1002    4\n",
              "1003    9\n",
              "1004    6\n",
              "Name: appliance, dtype: int64"
            ]
          },
          "metadata": {
            "tags": []
          },
          "execution_count": 41
        }
      ]
    },
    {
      "cell_type": "markdown",
      "metadata": {
        "id": "5N0B2ooGkp2z",
        "colab_type": "text"
      },
      "source": [
        "# count class"
      ]
    },
    {
      "cell_type": "code",
      "metadata": {
        "id": "1ONuO-smhjuA",
        "colab_type": "code",
        "colab": {
          "base_uri": "https://localhost:8080/",
          "height": 297
        },
        "outputId": "9d84c3d1-d5b1-44d3-c173-8e7b43668618"
      },
      "source": [
        "sns.countplot(Y_train)"
      ],
      "execution_count": 42,
      "outputs": [
        {
          "output_type": "execute_result",
          "data": {
            "text/plain": [
              "<matplotlib.axes._subplots.AxesSubplot at 0x7fd16a840550>"
            ]
          },
          "metadata": {
            "tags": []
          },
          "execution_count": 42
        },
        {
          "output_type": "display_data",
          "data": {
            "image/png": "[encoded data removed]",
            "text/plain": [
              "<Figure size 432x288 with 1 Axes>"
            ]
          },
          "metadata": {
            "tags": []
          }
        }
      ]
    },
    {
      "cell_type": "markdown",
      "metadata": {
        "id": "ZTkiQ_6OkcxO",
        "colab_type": "text"
      },
      "source": [
        "# to numpy"
      ]
    },
    {
      "cell_type": "code",
      "metadata": {
        "id": "3tsPJ1D6hoMS",
        "colab_type": "code",
        "colab": {
          "base_uri": "https://localhost:8080/",
          "height": 53
        },
        "outputId": "095f22b8-6733-4f5d-dcf1-21cadd15829c"
      },
      "source": [
        "img_data_list = []\n",
        "img_data_list2 = []\n",
        "\n",
        "for img,img2 in zip(X_train['img'],X_train['img2']):\n",
        "    x1 = img_to_array(img)  # this is a Numpy array with shape (128,176,3)\n",
        "    x1 = x1.reshape((1,) + x1.shape)  # this is a Numpy array with shape (1,128,176,3)\n",
        "    x2 = img_to_array(img2)  # this is a Numpy array with shape (128,176,3)\n",
        "    x2 = x2.reshape((1,) + x2.shape)  # this is a Numpy array with shape (1,128,176,3)\n",
        "    img_data_list.append(x1)\n",
        "    img_data_list2.append(x2)\n",
        "print('total:',len(img_data_list))    \n",
        "print('one of shape:',img_data_list[0].shape)"
      ],
      "execution_count": 43,
      "outputs": [
        {
          "output_type": "stream",
          "text": [
            "total: 576\n",
            "one of shape: (1, 128, 176, 3)\n"
          ],
          "name": "stdout"
        }
      ]
    },
    {
      "cell_type": "markdown",
      "metadata": {
        "id": "oAOAIBl9kfqS",
        "colab_type": "text"
      },
      "source": [
        "# reshape and to_categorical"
      ]
    },
    {
      "cell_type": "code",
      "metadata": {
        "id": "p96hgBrAiJrW",
        "colab_type": "code",
        "colab": {
          "base_uri": "https://localhost:8080/",
          "height": 53
        },
        "outputId": "52cd294b-35c2-4c84-ac62-45f4ce0ab5e3"
      },
      "source": [
        "X1 = np.array(img_data_list).astype('float32').reshape(-1, 128, 176, 3)\n",
        "X2 = np.array(img_data_list2).astype('float32').reshape(-1, 128, 176, 3)\n",
        "X = X1 + X2\n",
        "Y = np_utils.to_categorical(Y_train,num_classes = 11)\n",
        "print('X.shape',X.shape)\n",
        "print('Y.shape',Y.shape)"
      ],
      "execution_count": 52,
      "outputs": [
        {
          "output_type": "stream",
          "text": [
            "X.shape (576, 128, 176, 3)\n",
            "Y.shape (576, 11)\n"
          ],
          "name": "stdout"
        }
      ]
    },
    {
      "cell_type": "markdown",
      "metadata": {
        "id": "csL7lWvZklAN",
        "colab_type": "text"
      },
      "source": [
        "# split"
      ]
    },
    {
      "cell_type": "code",
      "metadata": {
        "id": "M7NwEWXjisMq",
        "colab_type": "code",
        "colab": {
          "base_uri": "https://localhost:8080/",
          "height": 89
        },
        "outputId": "db2170db-8211-4d16-b29f-c2aeeb330d27"
      },
      "source": [
        "X_train, X_valid, Y_train, Y_valid = train_test_split(X, Y, test_size=0.2,random_state = 42)\n",
        "X_train = X_train / 255.0\n",
        "X_valid = X_valid / 255.0\n",
        "print('X_train.shape',X_train.shape)\n",
        "print('Y_train.shape',Y_train.shape)\n",
        "print('X_valid.shape',X_valid.shape)\n",
        "print('Y_valid.shape',Y_valid.shape)"
      ],
      "execution_count": 53,
      "outputs": [
        {
          "output_type": "stream",
          "text": [
            "X_train.shape (460, 128, 176, 3)\n",
            "Y_train.shape (460, 11)\n",
            "X_valid.shape (116, 128, 176, 3)\n",
            "Y_valid.shape (116, 11)\n"
          ],
          "name": "stdout"
        }
      ]
    },
    {
      "cell_type": "markdown",
      "metadata": {
        "id": "8sZZXP_Qknfv",
        "colab_type": "text"
      },
      "source": [
        "# check data"
      ]
    },
    {
      "cell_type": "code",
      "metadata": {
        "id": "hJFO8cUijU_k",
        "colab_type": "code",
        "colab": {
          "base_uri": "https://localhost:8080/",
          "height": 304
        },
        "outputId": "c33eccbc-4e8b-4331-f8de-d56d0ffee7e8"
      },
      "source": [
        "plt.imshow(X_train[0][:,:,:])"
      ],
      "execution_count": 54,
      "outputs": [
        {
          "output_type": "stream",
          "text": [
            "Clipping input data to the valid range for imshow with RGB data ([0..1] for floats or [0..255] for integers).\n"
          ],
          "name": "stderr"
        },
        {
          "output_type": "execute_result",
          "data": {
            "text/plain": [
              "<matplotlib.image.AxesImage at 0x7fd10aef30f0>"
            ]
          },
          "metadata": {
            "tags": []
          },
          "execution_count": 54
        },
        {
          "output_type": "display_data",
          "data": {
            "image/png": "[encoded data removed]",
            "text/plain": [
              "<Figure size 432x288 with 1 Axes>"
            ]
          },
          "metadata": {
            "tags": []
          }
        }
      ]
    },
    {
      "cell_type": "code",
      "metadata": {
        "id": "tgn06lDtlG1P",
        "colab_type": "code",
        "colab": {
          "base_uri": "https://localhost:8080/",
          "height": 485
        },
        "outputId": "98f17e23-f522-4260-ede1-01227c64dd52"
      },
      "source": [
        "model = Sequential()\n",
        "model.add(Conv2D(filters=32, kernel_size=(11,11), padding='same', activation='relu',input_shape=(128,176,3)))\n",
        "model.add(Conv2D(filters=32, kernel_size=(11,11), padding='same', activation='relu'))\n",
        "model.add(MaxPool2D(pool_size=(5,5)))\n",
        "model.add(Conv2D(32, (3,3), activation='relu'))\n",
        "model.add(Flatten())\n",
        "model.add(Dropout(0.5))\n",
        "model.add(Dense(256, activation='relu'))\n",
        "model.add(Dropout(0.25))\n",
        "model.add(Dense(11, activation='softmax'))\n",
        "model.summary()"
      ],
      "execution_count": 30,
      "outputs": [
        {
          "output_type": "stream",
          "text": [
            "Model: \"sequential_3\"\n",
            "_________________________________________________________________\n",
            "Layer (type)                 Output Shape              Param #   \n",
            "=================================================================\n",
            "conv2d_5 (Conv2D)            (None, 128, 176, 32)      11648     \n",
            "_________________________________________________________________\n",
            "conv2d_6 (Conv2D)            (None, 128, 176, 32)      123936    \n",
            "_________________________________________________________________\n",
            "max_pooling2d_3 (MaxPooling2 (None, 25, 35, 32)        0         \n",
            "_________________________________________________________________\n",
            "conv2d_7 (Conv2D)            (None, 23, 33, 32)        9248      \n",
            "_________________________________________________________________\n",
            "flatten_3 (Flatten)          (None, 24288)             0         \n",
            "_________________________________________________________________\n",
            "dropout_5 (Dropout)          (None, 24288)             0         \n",
            "_________________________________________________________________\n",
            "dense_5 (Dense)              (None, 256)               6217984   \n",
            "_________________________________________________________________\n",
            "dropout_6 (Dropout)          (None, 256)               0         \n",
            "_________________________________________________________________\n",
            "dense_6 (Dense)              (None, 11)                2827      \n",
            "=================================================================\n",
            "Total params: 6,365,643\n",
            "Trainable params: 6,365,643\n",
            "Non-trainable params: 0\n",
            "_________________________________________________________________\n"
          ],
          "name": "stdout"
        }
      ]
    },
    {
      "cell_type": "code",
      "metadata": {
        "id": "FImfsFP6nYWv",
        "colab_type": "code",
        "colab": {}
      },
      "source": [
        "model.compile(optimizer = \"adam\", \n",
        "              loss = \"categorical_crossentropy\", \n",
        "              metrics = [\"accuracy\"])"
      ],
      "execution_count": 0,
      "outputs": []
    },
    {
      "cell_type": "code",
      "metadata": {
        "id": "ArWGNuirncV1",
        "colab_type": "code",
        "colab": {}
      },
      "source": [
        "es = EarlyStopping(monitor = 'val_loss',\n",
        "                   min_delta = 0, \n",
        "                   patience = 10,  \n",
        "                   mode = 'min',\n",
        "                   restore_best_weights = True)"
      ],
      "execution_count": 0,
      "outputs": []
    },
    {
      "cell_type": "code",
      "metadata": {
        "id": "LVm0MrRgj27y",
        "colab_type": "code",
        "colab": {
          "base_uri": "https://localhost:8080/",
          "height": 1000
        },
        "outputId": "7776587a-0682-4e14-d09b-1a9a4d27c2b7"
      },
      "source": [
        "history = model.fit(X_train,Y_train,\n",
        "                    batch_size = len(X_train),\n",
        "                    epochs = 100,\n",
        "                    validation_data = (X_valid,Y_valid),\n",
        "                    verbose = 1,\n",
        "                    callbacks = [es])"
      ],
      "execution_count": 33,
      "outputs": [
        {
          "output_type": "stream",
          "text": [
            "Train on 460 samples, validate on 116 samples\n",
            "Epoch 1/100\n",
            "460/460 [==============================] - 25s 54ms/step - loss: 2.6451 - acc: 0.1739 - val_loss: 2.3628 - val_acc: 0.1293\n",
            "Epoch 2/100\n",
            "460/460 [==============================] - 3s 7ms/step - loss: 2.3006 - acc: 0.1435 - val_loss: 2.3146 - val_acc: 0.2155\n",
            "Epoch 3/100\n",
            "460/460 [==============================] - 3s 7ms/step - loss: 2.2786 - acc: 0.2522 - val_loss: 2.1134 - val_acc: 0.2672\n",
            "Epoch 4/100\n",
            "460/460 [==============================] - 3s 7ms/step - loss: 2.1099 - acc: 0.2783 - val_loss: 2.0974 - val_acc: 0.3707\n",
            "Epoch 5/100\n",
            "460/460 [==============================] - 3s 7ms/step - loss: 2.0465 - acc: 0.3217 - val_loss: 1.9688 - val_acc: 0.4310\n",
            "Epoch 6/100\n",
            "460/460 [==============================] - 3s 7ms/step - loss: 1.9267 - acc: 0.3761 - val_loss: 1.8944 - val_acc: 0.3966\n",
            "Epoch 7/100\n",
            "460/460 [==============================] - 3s 7ms/step - loss: 1.8938 - acc: 0.3696 - val_loss: 1.8289 - val_acc: 0.4310\n",
            "Epoch 8/100\n",
            "460/460 [==============================] - 3s 7ms/step - loss: 1.8389 - acc: 0.3957 - val_loss: 1.8069 - val_acc: 0.3879\n",
            "Epoch 9/100\n",
            "460/460 [==============================] - 3s 7ms/step - loss: 1.8267 - acc: 0.3652 - val_loss: 1.7805 - val_acc: 0.4569\n",
            "Epoch 10/100\n",
            "460/460 [==============================] - 3s 7ms/step - loss: 1.7492 - acc: 0.4109 - val_loss: 1.7321 - val_acc: 0.4397\n",
            "Epoch 11/100\n",
            "460/460 [==============================] - 3s 7ms/step - loss: 1.7540 - acc: 0.4130 - val_loss: 1.7233 - val_acc: 0.4828\n",
            "Epoch 12/100\n",
            "460/460 [==============================] - 3s 7ms/step - loss: 1.7017 - acc: 0.4565 - val_loss: 1.6538 - val_acc: 0.4828\n",
            "Epoch 13/100\n",
            "460/460 [==============================] - 3s 7ms/step - loss: 1.6399 - acc: 0.4674 - val_loss: 1.6262 - val_acc: 0.4914\n",
            "Epoch 14/100\n",
            "460/460 [==============================] - 3s 7ms/step - loss: 1.5913 - acc: 0.4891 - val_loss: 1.5901 - val_acc: 0.4914\n",
            "Epoch 15/100\n",
            "460/460 [==============================] - 3s 7ms/step - loss: 1.5648 - acc: 0.4978 - val_loss: 1.5840 - val_acc: 0.5086\n",
            "Epoch 16/100\n",
            "460/460 [==============================] - 3s 7ms/step - loss: 1.5170 - acc: 0.5261 - val_loss: 1.5396 - val_acc: 0.4655\n",
            "Epoch 17/100\n",
            "460/460 [==============================] - 3s 7ms/step - loss: 1.4816 - acc: 0.5196 - val_loss: 1.5206 - val_acc: 0.5086\n",
            "Epoch 18/100\n",
            "460/460 [==============================] - 3s 7ms/step - loss: 1.4393 - acc: 0.5283 - val_loss: 1.5157 - val_acc: 0.4741\n",
            "Epoch 19/100\n",
            "460/460 [==============================] - 3s 7ms/step - loss: 1.3876 - acc: 0.5457 - val_loss: 1.5029 - val_acc: 0.5172\n",
            "Epoch 20/100\n",
            "460/460 [==============================] - 3s 7ms/step - loss: 1.3095 - acc: 0.5913 - val_loss: 1.4651 - val_acc: 0.5345\n",
            "Epoch 21/100\n",
            "460/460 [==============================] - 3s 7ms/step - loss: 1.2956 - acc: 0.5609 - val_loss: 1.4215 - val_acc: 0.5690\n",
            "Epoch 22/100\n",
            "460/460 [==============================] - 3s 7ms/step - loss: 1.2933 - acc: 0.5457 - val_loss: 1.4137 - val_acc: 0.5086\n",
            "Epoch 23/100\n",
            "460/460 [==============================] - 3s 7ms/step - loss: 1.2776 - acc: 0.5804 - val_loss: 1.3986 - val_acc: 0.6034\n",
            "Epoch 24/100\n",
            "460/460 [==============================] - 3s 7ms/step - loss: 1.2216 - acc: 0.6065 - val_loss: 1.4633 - val_acc: 0.5345\n",
            "Epoch 25/100\n",
            "460/460 [==============================] - 3s 7ms/step - loss: 1.2021 - acc: 0.5826 - val_loss: 1.4489 - val_acc: 0.5517\n",
            "Epoch 26/100\n",
            "460/460 [==============================] - 3s 7ms/step - loss: 1.1750 - acc: 0.6109 - val_loss: 1.4783 - val_acc: 0.5000\n",
            "Epoch 27/100\n",
            "460/460 [==============================] - 3s 7ms/step - loss: 1.1366 - acc: 0.6000 - val_loss: 1.4207 - val_acc: 0.5603\n",
            "Epoch 28/100\n",
            "460/460 [==============================] - 3s 7ms/step - loss: 1.1121 - acc: 0.6565 - val_loss: 1.3835 - val_acc: 0.5776\n",
            "Epoch 29/100\n",
            "460/460 [==============================] - 3s 7ms/step - loss: 1.0984 - acc: 0.6261 - val_loss: 1.4781 - val_acc: 0.5000\n",
            "Epoch 30/100\n",
            "460/460 [==============================] - 3s 7ms/step - loss: 1.0440 - acc: 0.6500 - val_loss: 1.4299 - val_acc: 0.5603\n",
            "Epoch 31/100\n",
            "460/460 [==============================] - 3s 7ms/step - loss: 1.0319 - acc: 0.6370 - val_loss: 1.4635 - val_acc: 0.5517\n",
            "Epoch 32/100\n",
            "460/460 [==============================] - 3s 7ms/step - loss: 1.0009 - acc: 0.6391 - val_loss: 1.5378 - val_acc: 0.5862\n",
            "Epoch 33/100\n",
            "460/460 [==============================] - 3s 7ms/step - loss: 0.9800 - acc: 0.6457 - val_loss: 1.5015 - val_acc: 0.5690\n",
            "Epoch 34/100\n",
            "460/460 [==============================] - 3s 7ms/step - loss: 0.9340 - acc: 0.6826 - val_loss: 1.4294 - val_acc: 0.5345\n",
            "Epoch 35/100\n",
            "460/460 [==============================] - 3s 7ms/step - loss: 0.9411 - acc: 0.6630 - val_loss: 1.4460 - val_acc: 0.5776\n",
            "Epoch 36/100\n",
            "460/460 [==============================] - 3s 7ms/step - loss: 0.8880 - acc: 0.7087 - val_loss: 1.5153 - val_acc: 0.5948\n",
            "Epoch 37/100\n",
            "460/460 [==============================] - 3s 7ms/step - loss: 0.8548 - acc: 0.6826 - val_loss: 1.5725 - val_acc: 0.5948\n",
            "Epoch 38/100\n",
            "460/460 [==============================] - 3s 7ms/step - loss: 0.8246 - acc: 0.7109 - val_loss: 1.6745 - val_acc: 0.5776\n",
            "Epoch 39/100\n",
            "460/460 [==============================] - 3s 7ms/step - loss: 0.8478 - acc: 0.6957 - val_loss: 1.5905 - val_acc: 0.5172\n",
            "Epoch 40/100\n",
            "460/460 [==============================] - 3s 7ms/step - loss: 0.8639 - acc: 0.6891 - val_loss: 1.5758 - val_acc: 0.5690\n",
            "Epoch 41/100\n",
            "460/460 [==============================] - 3s 7ms/step - loss: 0.7890 - acc: 0.7043 - val_loss: 1.5773 - val_acc: 0.5862\n",
            "Epoch 42/100\n",
            "460/460 [==============================] - 3s 7ms/step - loss: 0.8477 - acc: 0.6935 - val_loss: 1.4396 - val_acc: 0.6034\n",
            "Epoch 43/100\n",
            "460/460 [==============================] - 3s 7ms/step - loss: 0.7595 - acc: 0.7478 - val_loss: 1.5763 - val_acc: 0.6466\n",
            "Epoch 44/100\n",
            "460/460 [==============================] - 3s 7ms/step - loss: 0.7764 - acc: 0.7261 - val_loss: 1.6654 - val_acc: 0.5948\n",
            "Epoch 45/100\n",
            "460/460 [==============================] - 3s 7ms/step - loss: 0.7293 - acc: 0.7457 - val_loss: 1.6307 - val_acc: 0.6121\n",
            "Epoch 46/100\n",
            "460/460 [==============================] - 3s 7ms/step - loss: 0.7523 - acc: 0.7478 - val_loss: 1.6793 - val_acc: 0.6121\n",
            "Epoch 47/100\n",
            "460/460 [==============================] - 3s 7ms/step - loss: 0.6967 - acc: 0.7500 - val_loss: 1.6481 - val_acc: 0.5776\n",
            "Epoch 48/100\n",
            "460/460 [==============================] - 3s 7ms/step - loss: 0.6664 - acc: 0.7674 - val_loss: 1.6855 - val_acc: 0.6293\n",
            "Epoch 49/100\n",
            "460/460 [==============================] - 3s 7ms/step - loss: 0.7316 - acc: 0.7522 - val_loss: 1.6443 - val_acc: 0.5690\n",
            "Epoch 50/100\n",
            "460/460 [==============================] - 3s 7ms/step - loss: 0.6956 - acc: 0.7804 - val_loss: 1.5580 - val_acc: 0.5862\n",
            "Epoch 51/100\n",
            "460/460 [==============================] - 3s 7ms/step - loss: 0.7282 - acc: 0.7217 - val_loss: 1.5113 - val_acc: 0.5862\n",
            "Epoch 52/100\n",
            "460/460 [==============================] - 3s 7ms/step - loss: 0.6879 - acc: 0.7783 - val_loss: 1.6528 - val_acc: 0.5776\n",
            "Epoch 53/100\n",
            "460/460 [==============================] - 3s 7ms/step - loss: 0.6521 - acc: 0.7739 - val_loss: 1.8149 - val_acc: 0.5690\n",
            "Epoch 54/100\n",
            "460/460 [==============================] - 3s 7ms/step - loss: 0.6743 - acc: 0.7587 - val_loss: 1.7844 - val_acc: 0.6121\n",
            "Epoch 55/100\n",
            "460/460 [==============================] - 3s 7ms/step - loss: 0.6610 - acc: 0.7761 - val_loss: 1.7509 - val_acc: 0.5776\n",
            "Epoch 56/100\n",
            "460/460 [==============================] - 3s 7ms/step - loss: 0.6186 - acc: 0.7848 - val_loss: 1.7882 - val_acc: 0.5776\n",
            "Epoch 57/100\n",
            "460/460 [==============================] - 3s 7ms/step - loss: 0.5997 - acc: 0.8087 - val_loss: 1.7697 - val_acc: 0.6293\n",
            "Epoch 58/100\n",
            "460/460 [==============================] - 3s 7ms/step - loss: 0.5629 - acc: 0.7957 - val_loss: 1.7238 - val_acc: 0.6293\n",
            "Epoch 59/100\n",
            "460/460 [==============================] - 3s 7ms/step - loss: 0.5119 - acc: 0.8304 - val_loss: 1.7472 - val_acc: 0.6034\n",
            "Epoch 60/100\n",
            "460/460 [==============================] - 3s 7ms/step - loss: 0.4756 - acc: 0.8304 - val_loss: 1.7651 - val_acc: 0.6293\n",
            "Epoch 61/100\n",
            "460/460 [==============================] - 3s 7ms/step - loss: 0.4907 - acc: 0.8130 - val_loss: 1.8221 - val_acc: 0.6552\n",
            "Epoch 62/100\n",
            "460/460 [==============================] - 3s 7ms/step - loss: 0.5226 - acc: 0.8130 - val_loss: 1.9932 - val_acc: 0.6034\n",
            "Epoch 63/100\n",
            "460/460 [==============================] - 3s 7ms/step - loss: 0.4740 - acc: 0.8413 - val_loss: 2.0844 - val_acc: 0.5948\n",
            "Epoch 64/100\n",
            "460/460 [==============================] - 3s 7ms/step - loss: 0.5053 - acc: 0.8261 - val_loss: 2.0504 - val_acc: 0.5948\n",
            "Epoch 65/100\n",
            "460/460 [==============================] - 3s 7ms/step - loss: 0.4933 - acc: 0.8174 - val_loss: 1.9405 - val_acc: 0.6121\n",
            "Epoch 66/100\n",
            "460/460 [==============================] - 3s 7ms/step - loss: 0.4307 - acc: 0.8587 - val_loss: 2.0622 - val_acc: 0.6034\n",
            "Epoch 67/100\n",
            "460/460 [==============================] - 3s 7ms/step - loss: 0.4019 - acc: 0.8565 - val_loss: 2.2760 - val_acc: 0.5948\n",
            "Epoch 68/100\n",
            "460/460 [==============================] - 3s 7ms/step - loss: 0.4099 - acc: 0.8652 - val_loss: 2.2917 - val_acc: 0.6293\n",
            "Epoch 69/100\n",
            "460/460 [==============================] - 3s 7ms/step - loss: 0.3668 - acc: 0.8761 - val_loss: 2.2997 - val_acc: 0.5776\n",
            "Epoch 70/100\n",
            "460/460 [==============================] - 3s 7ms/step - loss: 0.4213 - acc: 0.8500 - val_loss: 2.2263 - val_acc: 0.5948\n",
            "Epoch 71/100\n",
            "460/460 [==============================] - 3s 7ms/step - loss: 0.3871 - acc: 0.8587 - val_loss: 2.1223 - val_acc: 0.6121\n",
            "Epoch 72/100\n",
            "460/460 [==============================] - 3s 7ms/step - loss: 0.3819 - acc: 0.8630 - val_loss: 2.1118 - val_acc: 0.6379\n",
            "Epoch 73/100\n",
            "460/460 [==============================] - 3s 7ms/step - loss: 0.3854 - acc: 0.8630 - val_loss: 2.2787 - val_acc: 0.6466\n",
            "Epoch 74/100\n",
            "460/460 [==============================] - 3s 7ms/step - loss: 0.3293 - acc: 0.8891 - val_loss: 2.2979 - val_acc: 0.5862\n",
            "Epoch 75/100\n",
            "460/460 [==============================] - 3s 7ms/step - loss: 0.3394 - acc: 0.8652 - val_loss: 2.2256 - val_acc: 0.6293\n",
            "Epoch 76/100\n",
            "460/460 [==============================] - 3s 7ms/step - loss: 0.3407 - acc: 0.8826 - val_loss: 2.2101 - val_acc: 0.6121\n",
            "Epoch 77/100\n",
            "460/460 [==============================] - 3s 7ms/step - loss: 0.3207 - acc: 0.8957 - val_loss: 2.1052 - val_acc: 0.6552\n",
            "Epoch 78/100\n",
            "460/460 [==============================] - 3s 7ms/step - loss: 0.2918 - acc: 0.9065 - val_loss: 2.2265 - val_acc: 0.6379\n"
          ],
          "name": "stdout"
        }
      ]
    },
    {
      "cell_type": "markdown",
      "metadata": {
        "id": "ox2EsO3A0lxe",
        "colab_type": "text"
      },
      "source": [
        "# history"
      ]
    },
    {
      "cell_type": "code",
      "metadata": {
        "id": "2SOeN_p8kGkb",
        "colab_type": "code",
        "colab": {
          "base_uri": "https://localhost:8080/",
          "height": 265
        },
        "outputId": "71c4ca4c-a36d-4551-be1c-f4af55a69e10"
      },
      "source": [
        "# Plot the loss and accuracy curves for training and validation \n",
        "fig, ax = plt.subplots(2,1)\n",
        "ax[0].plot(history.history['loss'], color='b', label=\"Training loss\")\n",
        "ax[0].plot(history.history['val_loss'], color='r', label=\"validation loss\",axes =ax[0])\n",
        "legend = ax[0].legend(loc='best', shadow=True)\n",
        "\n",
        "ax[1].plot(history.history['acc'], color='b', label=\"Training accuracy\")\n",
        "ax[1].plot(history.history['val_acc'], color='r',label=\"Validation accuracy\")\n",
        "legend = ax[1].legend(loc='best', shadow=True)"
      ],
      "execution_count": 34,
      "outputs": [
        {
          "output_type": "display_data",
          "data": {
            "image/png": "[encoded data removed]",
            "text/plain": [
              "<Figure size 432x288 with 2 Axes>"
            ]
          },
          "metadata": {
            "tags": []
          }
        }
      ]
    },
    {
      "cell_type": "markdown",
      "metadata": {
        "id": "GWktEtYC0jWS",
        "colab_type": "text"
      },
      "source": [
        "# confusion_mtx"
      ]
    },
    {
      "cell_type": "code",
      "metadata": {
        "id": "BOBgBGnbzbjf",
        "colab_type": "code",
        "colab": {
          "base_uri": "https://localhost:8080/",
          "height": 271
        },
        "outputId": "3b316352-9c87-441d-b303-74c2865a0d30"
      },
      "source": [
        "Y_pred = model.predict(X_valid) \n",
        "Y_pred_classes = np.argmax(Y_pred,axis = 1) \n",
        "Y_true = np.argmax(Y_valid,axis = 1) \n",
        "confusion_mtx = confusion_matrix(Y_true, Y_pred_classes) \n",
        "pd.DataFrame(confusion_mtx).style.background_gradient()"
      ],
      "execution_count": 35,
      "outputs": [
        {
          "output_type": "execute_result",
          "data": {
            "text/html": [
              "<style  type=\"text/css\" >\n",
              "    #T_512122cc_157f_11ea_9d4d_0242ac1c0002row0_col0 {\n",
              "            background-color:  #023858;\n",
              "            color:  #f1f1f1;\n",
              "        }    #T_512122cc_157f_11ea_9d4d_0242ac1c0002row0_col1 {\n",
              "            background-color:  #fff7fb;\n",
              "            color:  #000000;\n",
              "        }    #T_512122cc_157f_11ea_9d4d_0242ac1c0002row0_col2 {\n",
              "            background-color:  #fff7fb;\n",
              "            color:  #000000;\n",
              "        }    #T_512122cc_157f_11ea_9d4d_0242ac1c0002row0_col3 {\n",
              "            background-color:  #faf2f8;\n",
              "            color:  #000000;\n",
              "        }    #T_512122cc_157f_11ea_9d4d_0242ac1c0002row0_col4 {\n",
              "            background-color:  #fff7fb;\n",
              "            color:  #000000;\n",
              "        }    #T_512122cc_157f_11ea_9d4d_0242ac1c0002row0_col5 {\n",
              "            background-color:  #023858;\n",
              "            color:  #f1f1f1;\n",
              "        }    #T_512122cc_157f_11ea_9d4d_0242ac1c0002row0_col6 {\n",
              "            background-color:  #fff7fb;\n",
              "            color:  #000000;\n",
              "        }    #T_512122cc_157f_11ea_9d4d_0242ac1c0002row0_col7 {\n",
              "            background-color:  #fff7fb;\n",
              "            color:  #000000;\n",
              "        }    #T_512122cc_157f_11ea_9d4d_0242ac1c0002row0_col8 {\n",
              "            background-color:  #fff7fb;\n",
              "            color:  #000000;\n",
              "        }    #T_512122cc_157f_11ea_9d4d_0242ac1c0002row0_col9 {\n",
              "            background-color:  #fff7fb;\n",
              "            color:  #000000;\n",
              "        }    #T_512122cc_157f_11ea_9d4d_0242ac1c0002row0_col10 {\n",
              "            background-color:  #023858;\n",
              "            color:  #f1f1f1;\n",
              "        }    #T_512122cc_157f_11ea_9d4d_0242ac1c0002row1_col0 {\n",
              "            background-color:  #fff7fb;\n",
              "            color:  #000000;\n",
              "        }    #T_512122cc_157f_11ea_9d4d_0242ac1c0002row1_col1 {\n",
              "            background-color:  #023858;\n",
              "            color:  #f1f1f1;\n",
              "        }    #T_512122cc_157f_11ea_9d4d_0242ac1c0002row1_col2 {\n",
              "            background-color:  #fff7fb;\n",
              "            color:  #000000;\n",
              "        }    #T_512122cc_157f_11ea_9d4d_0242ac1c0002row1_col3 {\n",
              "            background-color:  #fff7fb;\n",
              "            color:  #000000;\n",
              "        }    #T_512122cc_157f_11ea_9d4d_0242ac1c0002row1_col4 {\n",
              "            background-color:  #f8f1f8;\n",
              "            color:  #000000;\n",
              "        }    #T_512122cc_157f_11ea_9d4d_0242ac1c0002row1_col5 {\n",
              "            background-color:  #023858;\n",
              "            color:  #f1f1f1;\n",
              "        }    #T_512122cc_157f_11ea_9d4d_0242ac1c0002row1_col6 {\n",
              "            background-color:  #fff7fb;\n",
              "            color:  #000000;\n",
              "        }    #T_512122cc_157f_11ea_9d4d_0242ac1c0002row1_col7 {\n",
              "            background-color:  #fff7fb;\n",
              "            color:  #000000;\n",
              "        }    #T_512122cc_157f_11ea_9d4d_0242ac1c0002row1_col8 {\n",
              "            background-color:  #fff7fb;\n",
              "            color:  #000000;\n",
              "        }    #T_512122cc_157f_11ea_9d4d_0242ac1c0002row1_col9 {\n",
              "            background-color:  #dbdaeb;\n",
              "            color:  #000000;\n",
              "        }    #T_512122cc_157f_11ea_9d4d_0242ac1c0002row1_col10 {\n",
              "            background-color:  #fff7fb;\n",
              "            color:  #000000;\n",
              "        }    #T_512122cc_157f_11ea_9d4d_0242ac1c0002row2_col0 {\n",
              "            background-color:  #fff7fb;\n",
              "            color:  #000000;\n",
              "        }    #T_512122cc_157f_11ea_9d4d_0242ac1c0002row2_col1 {\n",
              "            background-color:  #023858;\n",
              "            color:  #f1f1f1;\n",
              "        }    #T_512122cc_157f_11ea_9d4d_0242ac1c0002row2_col2 {\n",
              "            background-color:  #023858;\n",
              "            color:  #f1f1f1;\n",
              "        }    #T_512122cc_157f_11ea_9d4d_0242ac1c0002row2_col3 {\n",
              "            background-color:  #eee8f3;\n",
              "            color:  #000000;\n",
              "        }    #T_512122cc_157f_11ea_9d4d_0242ac1c0002row2_col4 {\n",
              "            background-color:  #fff7fb;\n",
              "            color:  #000000;\n",
              "        }    #T_512122cc_157f_11ea_9d4d_0242ac1c0002row2_col5 {\n",
              "            background-color:  #fff7fb;\n",
              "            color:  #000000;\n",
              "        }    #T_512122cc_157f_11ea_9d4d_0242ac1c0002row2_col6 {\n",
              "            background-color:  #fff7fb;\n",
              "            color:  #000000;\n",
              "        }    #T_512122cc_157f_11ea_9d4d_0242ac1c0002row2_col7 {\n",
              "            background-color:  #fff7fb;\n",
              "            color:  #000000;\n",
              "        }    #T_512122cc_157f_11ea_9d4d_0242ac1c0002row2_col8 {\n",
              "            background-color:  #fff7fb;\n",
              "            color:  #000000;\n",
              "        }    #T_512122cc_157f_11ea_9d4d_0242ac1c0002row2_col9 {\n",
              "            background-color:  #fff7fb;\n",
              "            color:  #000000;\n",
              "        }    #T_512122cc_157f_11ea_9d4d_0242ac1c0002row2_col10 {\n",
              "            background-color:  #fff7fb;\n",
              "            color:  #000000;\n",
              "        }    #T_512122cc_157f_11ea_9d4d_0242ac1c0002row3_col0 {\n",
              "            background-color:  #fff7fb;\n",
              "            color:  #000000;\n",
              "        }    #T_512122cc_157f_11ea_9d4d_0242ac1c0002row3_col1 {\n",
              "            background-color:  #fff7fb;\n",
              "            color:  #000000;\n",
              "        }    #T_512122cc_157f_11ea_9d4d_0242ac1c0002row3_col2 {\n",
              "            background-color:  #fff7fb;\n",
              "            color:  #000000;\n",
              "        }    #T_512122cc_157f_11ea_9d4d_0242ac1c0002row3_col3 {\n",
              "            background-color:  #023858;\n",
              "            color:  #f1f1f1;\n",
              "        }    #T_512122cc_157f_11ea_9d4d_0242ac1c0002row3_col4 {\n",
              "            background-color:  #e0dded;\n",
              "            color:  #000000;\n",
              "        }    #T_512122cc_157f_11ea_9d4d_0242ac1c0002row3_col5 {\n",
              "            background-color:  #fff7fb;\n",
              "            color:  #000000;\n",
              "        }    #T_512122cc_157f_11ea_9d4d_0242ac1c0002row3_col6 {\n",
              "            background-color:  #fff7fb;\n",
              "            color:  #000000;\n",
              "        }    #T_512122cc_157f_11ea_9d4d_0242ac1c0002row3_col7 {\n",
              "            background-color:  #fff7fb;\n",
              "            color:  #000000;\n",
              "        }    #T_512122cc_157f_11ea_9d4d_0242ac1c0002row3_col8 {\n",
              "            background-color:  #fff7fb;\n",
              "            color:  #000000;\n",
              "        }    #T_512122cc_157f_11ea_9d4d_0242ac1c0002row3_col9 {\n",
              "            background-color:  #dbdaeb;\n",
              "            color:  #000000;\n",
              "        }    #T_512122cc_157f_11ea_9d4d_0242ac1c0002row3_col10 {\n",
              "            background-color:  #fff7fb;\n",
              "            color:  #000000;\n",
              "        }    #T_512122cc_157f_11ea_9d4d_0242ac1c0002row4_col0 {\n",
              "            background-color:  #fff7fb;\n",
              "            color:  #000000;\n",
              "        }    #T_512122cc_157f_11ea_9d4d_0242ac1c0002row4_col1 {\n",
              "            background-color:  #fff7fb;\n",
              "            color:  #000000;\n",
              "        }    #T_512122cc_157f_11ea_9d4d_0242ac1c0002row4_col2 {\n",
              "            background-color:  #fff7fb;\n",
              "            color:  #000000;\n",
              "        }    #T_512122cc_157f_11ea_9d4d_0242ac1c0002row4_col3 {\n",
              "            background-color:  #faf2f8;\n",
              "            color:  #000000;\n",
              "        }    #T_512122cc_157f_11ea_9d4d_0242ac1c0002row4_col4 {\n",
              "            background-color:  #023858;\n",
              "            color:  #f1f1f1;\n",
              "        }    #T_512122cc_157f_11ea_9d4d_0242ac1c0002row4_col5 {\n",
              "            background-color:  #fff7fb;\n",
              "            color:  #000000;\n",
              "        }    #T_512122cc_157f_11ea_9d4d_0242ac1c0002row4_col6 {\n",
              "            background-color:  #fff7fb;\n",
              "            color:  #000000;\n",
              "        }    #T_512122cc_157f_11ea_9d4d_0242ac1c0002row4_col7 {\n",
              "            background-color:  #73a9cf;\n",
              "            color:  #000000;\n",
              "        }    #T_512122cc_157f_11ea_9d4d_0242ac1c0002row4_col8 {\n",
              "            background-color:  #fff7fb;\n",
              "            color:  #000000;\n",
              "        }    #T_512122cc_157f_11ea_9d4d_0242ac1c0002row4_col9 {\n",
              "            background-color:  #9cb9d9;\n",
              "            color:  #000000;\n",
              "        }    #T_512122cc_157f_11ea_9d4d_0242ac1c0002row4_col10 {\n",
              "            background-color:  #fff7fb;\n",
              "            color:  #000000;\n",
              "        }    #T_512122cc_157f_11ea_9d4d_0242ac1c0002row5_col0 {\n",
              "            background-color:  #fff7fb;\n",
              "            color:  #000000;\n",
              "        }    #T_512122cc_157f_11ea_9d4d_0242ac1c0002row5_col1 {\n",
              "            background-color:  #fff7fb;\n",
              "            color:  #000000;\n",
              "        }    #T_512122cc_157f_11ea_9d4d_0242ac1c0002row5_col2 {\n",
              "            background-color:  #fff7fb;\n",
              "            color:  #000000;\n",
              "        }    #T_512122cc_157f_11ea_9d4d_0242ac1c0002row5_col3 {\n",
              "            background-color:  #fff7fb;\n",
              "            color:  #000000;\n",
              "        }    #T_512122cc_157f_11ea_9d4d_0242ac1c0002row5_col4 {\n",
              "            background-color:  #f8f1f8;\n",
              "            color:  #000000;\n",
              "        }    #T_512122cc_157f_11ea_9d4d_0242ac1c0002row5_col5 {\n",
              "            background-color:  #fff7fb;\n",
              "            color:  #000000;\n",
              "        }    #T_512122cc_157f_11ea_9d4d_0242ac1c0002row5_col6 {\n",
              "            background-color:  #fff7fb;\n",
              "            color:  #000000;\n",
              "        }    #T_512122cc_157f_11ea_9d4d_0242ac1c0002row5_col7 {\n",
              "            background-color:  #fff7fb;\n",
              "            color:  #000000;\n",
              "        }    #T_512122cc_157f_11ea_9d4d_0242ac1c0002row5_col8 {\n",
              "            background-color:  #fff7fb;\n",
              "            color:  #000000;\n",
              "        }    #T_512122cc_157f_11ea_9d4d_0242ac1c0002row5_col9 {\n",
              "            background-color:  #9cb9d9;\n",
              "            color:  #000000;\n",
              "        }    #T_512122cc_157f_11ea_9d4d_0242ac1c0002row5_col10 {\n",
              "            background-color:  #fff7fb;\n",
              "            color:  #000000;\n",
              "        }    #T_512122cc_157f_11ea_9d4d_0242ac1c0002row6_col0 {\n",
              "            background-color:  #fff7fb;\n",
              "            color:  #000000;\n",
              "        }    #T_512122cc_157f_11ea_9d4d_0242ac1c0002row6_col1 {\n",
              "            background-color:  #023858;\n",
              "            color:  #f1f1f1;\n",
              "        }    #T_512122cc_157f_11ea_9d4d_0242ac1c0002row6_col2 {\n",
              "            background-color:  #fff7fb;\n",
              "            color:  #000000;\n",
              "        }    #T_512122cc_157f_11ea_9d4d_0242ac1c0002row6_col3 {\n",
              "            background-color:  #f4edf6;\n",
              "            color:  #000000;\n",
              "        }    #T_512122cc_157f_11ea_9d4d_0242ac1c0002row6_col4 {\n",
              "            background-color:  #f8f1f8;\n",
              "            color:  #000000;\n",
              "        }    #T_512122cc_157f_11ea_9d4d_0242ac1c0002row6_col5 {\n",
              "            background-color:  #fff7fb;\n",
              "            color:  #000000;\n",
              "        }    #T_512122cc_157f_11ea_9d4d_0242ac1c0002row6_col6 {\n",
              "            background-color:  #023858;\n",
              "            color:  #f1f1f1;\n",
              "        }    #T_512122cc_157f_11ea_9d4d_0242ac1c0002row6_col7 {\n",
              "            background-color:  #fff7fb;\n",
              "            color:  #000000;\n",
              "        }    #T_512122cc_157f_11ea_9d4d_0242ac1c0002row6_col8 {\n",
              "            background-color:  #fff7fb;\n",
              "            color:  #000000;\n",
              "        }    #T_512122cc_157f_11ea_9d4d_0242ac1c0002row6_col9 {\n",
              "            background-color:  #dbdaeb;\n",
              "            color:  #000000;\n",
              "        }    #T_512122cc_157f_11ea_9d4d_0242ac1c0002row6_col10 {\n",
              "            background-color:  #fff7fb;\n",
              "            color:  #000000;\n",
              "        }    #T_512122cc_157f_11ea_9d4d_0242ac1c0002row7_col0 {\n",
              "            background-color:  #fff7fb;\n",
              "            color:  #000000;\n",
              "        }    #T_512122cc_157f_11ea_9d4d_0242ac1c0002row7_col1 {\n",
              "            background-color:  #fff7fb;\n",
              "            color:  #000000;\n",
              "        }    #T_512122cc_157f_11ea_9d4d_0242ac1c0002row7_col2 {\n",
              "            background-color:  #fff7fb;\n",
              "            color:  #000000;\n",
              "        }    #T_512122cc_157f_11ea_9d4d_0242ac1c0002row7_col3 {\n",
              "            background-color:  #eee8f3;\n",
              "            color:  #000000;\n",
              "        }    #T_512122cc_157f_11ea_9d4d_0242ac1c0002row7_col4 {\n",
              "            background-color:  #fff7fb;\n",
              "            color:  #000000;\n",
              "        }    #T_512122cc_157f_11ea_9d4d_0242ac1c0002row7_col5 {\n",
              "            background-color:  #fff7fb;\n",
              "            color:  #000000;\n",
              "        }    #T_512122cc_157f_11ea_9d4d_0242ac1c0002row7_col6 {\n",
              "            background-color:  #fff7fb;\n",
              "            color:  #000000;\n",
              "        }    #T_512122cc_157f_11ea_9d4d_0242ac1c0002row7_col7 {\n",
              "            background-color:  #023858;\n",
              "            color:  #f1f1f1;\n",
              "        }    #T_512122cc_157f_11ea_9d4d_0242ac1c0002row7_col8 {\n",
              "            background-color:  #fff7fb;\n",
              "            color:  #000000;\n",
              "        }    #T_512122cc_157f_11ea_9d4d_0242ac1c0002row7_col9 {\n",
              "            background-color:  #fff7fb;\n",
              "            color:  #000000;\n",
              "        }    #T_512122cc_157f_11ea_9d4d_0242ac1c0002row7_col10 {\n",
              "            background-color:  #fff7fb;\n",
              "            color:  #000000;\n",
              "        }    #T_512122cc_157f_11ea_9d4d_0242ac1c0002row8_col0 {\n",
              "            background-color:  #fff7fb;\n",
              "            color:  #000000;\n",
              "        }    #T_512122cc_157f_11ea_9d4d_0242ac1c0002row8_col1 {\n",
              "            background-color:  #fff7fb;\n",
              "            color:  #000000;\n",
              "        }    #T_512122cc_157f_11ea_9d4d_0242ac1c0002row8_col2 {\n",
              "            background-color:  #fff7fb;\n",
              "            color:  #000000;\n",
              "        }    #T_512122cc_157f_11ea_9d4d_0242ac1c0002row8_col3 {\n",
              "            background-color:  #f4edf6;\n",
              "            color:  #000000;\n",
              "        }    #T_512122cc_157f_11ea_9d4d_0242ac1c0002row8_col4 {\n",
              "            background-color:  #f8f1f8;\n",
              "            color:  #000000;\n",
              "        }    #T_512122cc_157f_11ea_9d4d_0242ac1c0002row8_col5 {\n",
              "            background-color:  #fff7fb;\n",
              "            color:  #000000;\n",
              "        }    #T_512122cc_157f_11ea_9d4d_0242ac1c0002row8_col6 {\n",
              "            background-color:  #fff7fb;\n",
              "            color:  #000000;\n",
              "        }    #T_512122cc_157f_11ea_9d4d_0242ac1c0002row8_col7 {\n",
              "            background-color:  #fff7fb;\n",
              "            color:  #000000;\n",
              "        }    #T_512122cc_157f_11ea_9d4d_0242ac1c0002row8_col8 {\n",
              "            background-color:  #023858;\n",
              "            color:  #f1f1f1;\n",
              "        }    #T_512122cc_157f_11ea_9d4d_0242ac1c0002row8_col9 {\n",
              "            background-color:  #fff7fb;\n",
              "            color:  #000000;\n",
              "        }    #T_512122cc_157f_11ea_9d4d_0242ac1c0002row8_col10 {\n",
              "            background-color:  #fff7fb;\n",
              "            color:  #000000;\n",
              "        }    #T_512122cc_157f_11ea_9d4d_0242ac1c0002row9_col0 {\n",
              "            background-color:  #fff7fb;\n",
              "            color:  #000000;\n",
              "        }    #T_512122cc_157f_11ea_9d4d_0242ac1c0002row9_col1 {\n",
              "            background-color:  #fff7fb;\n",
              "            color:  #000000;\n",
              "        }    #T_512122cc_157f_11ea_9d4d_0242ac1c0002row9_col2 {\n",
              "            background-color:  #fff7fb;\n",
              "            color:  #000000;\n",
              "        }    #T_512122cc_157f_11ea_9d4d_0242ac1c0002row9_col3 {\n",
              "            background-color:  #cacee5;\n",
              "            color:  #000000;\n",
              "        }    #T_512122cc_157f_11ea_9d4d_0242ac1c0002row9_col4 {\n",
              "            background-color:  #f1ebf5;\n",
              "            color:  #000000;\n",
              "        }    #T_512122cc_157f_11ea_9d4d_0242ac1c0002row9_col5 {\n",
              "            background-color:  #fff7fb;\n",
              "            color:  #000000;\n",
              "        }    #T_512122cc_157f_11ea_9d4d_0242ac1c0002row9_col6 {\n",
              "            background-color:  #fff7fb;\n",
              "            color:  #000000;\n",
              "        }    #T_512122cc_157f_11ea_9d4d_0242ac1c0002row9_col7 {\n",
              "            background-color:  #73a9cf;\n",
              "            color:  #000000;\n",
              "        }    #T_512122cc_157f_11ea_9d4d_0242ac1c0002row9_col8 {\n",
              "            background-color:  #fff7fb;\n",
              "            color:  #000000;\n",
              "        }    #T_512122cc_157f_11ea_9d4d_0242ac1c0002row9_col9 {\n",
              "            background-color:  #023858;\n",
              "            color:  #f1f1f1;\n",
              "        }    #T_512122cc_157f_11ea_9d4d_0242ac1c0002row9_col10 {\n",
              "            background-color:  #fff7fb;\n",
              "            color:  #000000;\n",
              "        }    #T_512122cc_157f_11ea_9d4d_0242ac1c0002row10_col0 {\n",
              "            background-color:  #fff7fb;\n",
              "            color:  #000000;\n",
              "        }    #T_512122cc_157f_11ea_9d4d_0242ac1c0002row10_col1 {\n",
              "            background-color:  #fff7fb;\n",
              "            color:  #000000;\n",
              "        }    #T_512122cc_157f_11ea_9d4d_0242ac1c0002row10_col2 {\n",
              "            background-color:  #fff7fb;\n",
              "            color:  #000000;\n",
              "        }    #T_512122cc_157f_11ea_9d4d_0242ac1c0002row10_col3 {\n",
              "            background-color:  #fff7fb;\n",
              "            color:  #000000;\n",
              "        }    #T_512122cc_157f_11ea_9d4d_0242ac1c0002row10_col4 {\n",
              "            background-color:  #d5d5e8;\n",
              "            color:  #000000;\n",
              "        }    #T_512122cc_157f_11ea_9d4d_0242ac1c0002row10_col5 {\n",
              "            background-color:  #fff7fb;\n",
              "            color:  #000000;\n",
              "        }    #T_512122cc_157f_11ea_9d4d_0242ac1c0002row10_col6 {\n",
              "            background-color:  #fff7fb;\n",
              "            color:  #000000;\n",
              "        }    #T_512122cc_157f_11ea_9d4d_0242ac1c0002row10_col7 {\n",
              "            background-color:  #fff7fb;\n",
              "            color:  #000000;\n",
              "        }    #T_512122cc_157f_11ea_9d4d_0242ac1c0002row10_col8 {\n",
              "            background-color:  #fff7fb;\n",
              "            color:  #000000;\n",
              "        }    #T_512122cc_157f_11ea_9d4d_0242ac1c0002row10_col9 {\n",
              "            background-color:  #dbdaeb;\n",
              "            color:  #000000;\n",
              "        }    #T_512122cc_157f_11ea_9d4d_0242ac1c0002row10_col10 {\n",
              "            background-color:  #023858;\n",
              "            color:  #f1f1f1;\n",
              "        }</style><table id=\"T_512122cc_157f_11ea_9d4d_0242ac1c0002\" ><thead>    <tr>        <th class=\"blank level0\" ></th>        <th class=\"col_heading level0 col0\" >0</th>        <th class=\"col_heading level0 col1\" >1</th>        <th class=\"col_heading level0 col2\" >2</th>        <th class=\"col_heading level0 col3\" >3</th>        <th class=\"col_heading level0 col4\" >4</th>        <th class=\"col_heading level0 col5\" >5</th>        <th class=\"col_heading level0 col6\" >6</th>        <th class=\"col_heading level0 col7\" >7</th>        <th class=\"col_heading level0 col8\" >8</th>        <th class=\"col_heading level0 col9\" >9</th>        <th class=\"col_heading level0 col10\" >10</th>    </tr></thead><tbody>\n",
              "                <tr>\n",
              "                        <th id=\"T_512122cc_157f_11ea_9d4d_0242ac1c0002level0_row0\" class=\"row_heading level0 row0\" >0</th>\n",
              "                        <td id=\"T_512122cc_157f_11ea_9d4d_0242ac1c0002row0_col0\" class=\"data row0 col0\" >1</td>\n",
              "                        <td id=\"T_512122cc_157f_11ea_9d4d_0242ac1c0002row0_col1\" class=\"data row0 col1\" >0</td>\n",
              "                        <td id=\"T_512122cc_157f_11ea_9d4d_0242ac1c0002row0_col2\" class=\"data row0 col2\" >0</td>\n",
              "                        <td id=\"T_512122cc_157f_11ea_9d4d_0242ac1c0002row0_col3\" class=\"data row0 col3\" >1</td>\n",
              "                        <td id=\"T_512122cc_157f_11ea_9d4d_0242ac1c0002row0_col4\" class=\"data row0 col4\" >0</td>\n",
              "                        <td id=\"T_512122cc_157f_11ea_9d4d_0242ac1c0002row0_col5\" class=\"data row0 col5\" >1</td>\n",
              "                        <td id=\"T_512122cc_157f_11ea_9d4d_0242ac1c0002row0_col6\" class=\"data row0 col6\" >0</td>\n",
              "                        <td id=\"T_512122cc_157f_11ea_9d4d_0242ac1c0002row0_col7\" class=\"data row0 col7\" >0</td>\n",
              "                        <td id=\"T_512122cc_157f_11ea_9d4d_0242ac1c0002row0_col8\" class=\"data row0 col8\" >0</td>\n",
              "                        <td id=\"T_512122cc_157f_11ea_9d4d_0242ac1c0002row0_col9\" class=\"data row0 col9\" >0</td>\n",
              "                        <td id=\"T_512122cc_157f_11ea_9d4d_0242ac1c0002row0_col10\" class=\"data row0 col10\" >1</td>\n",
              "            </tr>\n",
              "            <tr>\n",
              "                        <th id=\"T_512122cc_157f_11ea_9d4d_0242ac1c0002level0_row1\" class=\"row_heading level0 row1\" >1</th>\n",
              "                        <td id=\"T_512122cc_157f_11ea_9d4d_0242ac1c0002row1_col0\" class=\"data row1 col0\" >0</td>\n",
              "                        <td id=\"T_512122cc_157f_11ea_9d4d_0242ac1c0002row1_col1\" class=\"data row1 col1\" >1</td>\n",
              "                        <td id=\"T_512122cc_157f_11ea_9d4d_0242ac1c0002row1_col2\" class=\"data row1 col2\" >0</td>\n",
              "                        <td id=\"T_512122cc_157f_11ea_9d4d_0242ac1c0002row1_col3\" class=\"data row1 col3\" >0</td>\n",
              "                        <td id=\"T_512122cc_157f_11ea_9d4d_0242ac1c0002row1_col4\" class=\"data row1 col4\" >1</td>\n",
              "                        <td id=\"T_512122cc_157f_11ea_9d4d_0242ac1c0002row1_col5\" class=\"data row1 col5\" >1</td>\n",
              "                        <td id=\"T_512122cc_157f_11ea_9d4d_0242ac1c0002row1_col6\" class=\"data row1 col6\" >0</td>\n",
              "                        <td id=\"T_512122cc_157f_11ea_9d4d_0242ac1c0002row1_col7\" class=\"data row1 col7\" >0</td>\n",
              "                        <td id=\"T_512122cc_157f_11ea_9d4d_0242ac1c0002row1_col8\" class=\"data row1 col8\" >0</td>\n",
              "                        <td id=\"T_512122cc_157f_11ea_9d4d_0242ac1c0002row1_col9\" class=\"data row1 col9\" >1</td>\n",
              "                        <td id=\"T_512122cc_157f_11ea_9d4d_0242ac1c0002row1_col10\" class=\"data row1 col10\" >0</td>\n",
              "            </tr>\n",
              "            <tr>\n",
              "                        <th id=\"T_512122cc_157f_11ea_9d4d_0242ac1c0002level0_row2\" class=\"row_heading level0 row2\" >2</th>\n",
              "                        <td id=\"T_512122cc_157f_11ea_9d4d_0242ac1c0002row2_col0\" class=\"data row2 col0\" >0</td>\n",
              "                        <td id=\"T_512122cc_157f_11ea_9d4d_0242ac1c0002row2_col1\" class=\"data row2 col1\" >1</td>\n",
              "                        <td id=\"T_512122cc_157f_11ea_9d4d_0242ac1c0002row2_col2\" class=\"data row2 col2\" >3</td>\n",
              "                        <td id=\"T_512122cc_157f_11ea_9d4d_0242ac1c0002row2_col3\" class=\"data row2 col3\" >3</td>\n",
              "                        <td id=\"T_512122cc_157f_11ea_9d4d_0242ac1c0002row2_col4\" class=\"data row2 col4\" >0</td>\n",
              "                        <td id=\"T_512122cc_157f_11ea_9d4d_0242ac1c0002row2_col5\" class=\"data row2 col5\" >0</td>\n",
              "                        <td id=\"T_512122cc_157f_11ea_9d4d_0242ac1c0002row2_col6\" class=\"data row2 col6\" >0</td>\n",
              "                        <td id=\"T_512122cc_157f_11ea_9d4d_0242ac1c0002row2_col7\" class=\"data row2 col7\" >0</td>\n",
              "                        <td id=\"T_512122cc_157f_11ea_9d4d_0242ac1c0002row2_col8\" class=\"data row2 col8\" >0</td>\n",
              "                        <td id=\"T_512122cc_157f_11ea_9d4d_0242ac1c0002row2_col9\" class=\"data row2 col9\" >0</td>\n",
              "                        <td id=\"T_512122cc_157f_11ea_9d4d_0242ac1c0002row2_col10\" class=\"data row2 col10\" >0</td>\n",
              "            </tr>\n",
              "            <tr>\n",
              "                        <th id=\"T_512122cc_157f_11ea_9d4d_0242ac1c0002level0_row3\" class=\"row_heading level0 row3\" >3</th>\n",
              "                        <td id=\"T_512122cc_157f_11ea_9d4d_0242ac1c0002row3_col0\" class=\"data row3 col0\" >0</td>\n",
              "                        <td id=\"T_512122cc_157f_11ea_9d4d_0242ac1c0002row3_col1\" class=\"data row3 col1\" >0</td>\n",
              "                        <td id=\"T_512122cc_157f_11ea_9d4d_0242ac1c0002row3_col2\" class=\"data row3 col2\" >0</td>\n",
              "                        <td id=\"T_512122cc_157f_11ea_9d4d_0242ac1c0002row3_col3\" class=\"data row3 col3\" >26</td>\n",
              "                        <td id=\"T_512122cc_157f_11ea_9d4d_0242ac1c0002row3_col4\" class=\"data row3 col4\" >4</td>\n",
              "                        <td id=\"T_512122cc_157f_11ea_9d4d_0242ac1c0002row3_col5\" class=\"data row3 col5\" >0</td>\n",
              "                        <td id=\"T_512122cc_157f_11ea_9d4d_0242ac1c0002row3_col6\" class=\"data row3 col6\" >0</td>\n",
              "                        <td id=\"T_512122cc_157f_11ea_9d4d_0242ac1c0002row3_col7\" class=\"data row3 col7\" >0</td>\n",
              "                        <td id=\"T_512122cc_157f_11ea_9d4d_0242ac1c0002row3_col8\" class=\"data row3 col8\" >0</td>\n",
              "                        <td id=\"T_512122cc_157f_11ea_9d4d_0242ac1c0002row3_col9\" class=\"data row3 col9\" >1</td>\n",
              "                        <td id=\"T_512122cc_157f_11ea_9d4d_0242ac1c0002row3_col10\" class=\"data row3 col10\" >0</td>\n",
              "            </tr>\n",
              "            <tr>\n",
              "                        <th id=\"T_512122cc_157f_11ea_9d4d_0242ac1c0002level0_row4\" class=\"row_heading level0 row4\" >4</th>\n",
              "                        <td id=\"T_512122cc_157f_11ea_9d4d_0242ac1c0002row4_col0\" class=\"data row4 col0\" >0</td>\n",
              "                        <td id=\"T_512122cc_157f_11ea_9d4d_0242ac1c0002row4_col1\" class=\"data row4 col1\" >0</td>\n",
              "                        <td id=\"T_512122cc_157f_11ea_9d4d_0242ac1c0002row4_col2\" class=\"data row4 col2\" >0</td>\n",
              "                        <td id=\"T_512122cc_157f_11ea_9d4d_0242ac1c0002row4_col3\" class=\"data row4 col3\" >1</td>\n",
              "                        <td id=\"T_512122cc_157f_11ea_9d4d_0242ac1c0002row4_col4\" class=\"data row4 col4\" >22</td>\n",
              "                        <td id=\"T_512122cc_157f_11ea_9d4d_0242ac1c0002row4_col5\" class=\"data row4 col5\" >0</td>\n",
              "                        <td id=\"T_512122cc_157f_11ea_9d4d_0242ac1c0002row4_col6\" class=\"data row4 col6\" >0</td>\n",
              "                        <td id=\"T_512122cc_157f_11ea_9d4d_0242ac1c0002row4_col7\" class=\"data row4 col7\" >1</td>\n",
              "                        <td id=\"T_512122cc_157f_11ea_9d4d_0242ac1c0002row4_col8\" class=\"data row4 col8\" >0</td>\n",
              "                        <td id=\"T_512122cc_157f_11ea_9d4d_0242ac1c0002row4_col9\" class=\"data row4 col9\" >2</td>\n",
              "                        <td id=\"T_512122cc_157f_11ea_9d4d_0242ac1c0002row4_col10\" class=\"data row4 col10\" >0</td>\n",
              "            </tr>\n",
              "            <tr>\n",
              "                        <th id=\"T_512122cc_157f_11ea_9d4d_0242ac1c0002level0_row5\" class=\"row_heading level0 row5\" >5</th>\n",
              "                        <td id=\"T_512122cc_157f_11ea_9d4d_0242ac1c0002row5_col0\" class=\"data row5 col0\" >0</td>\n",
              "                        <td id=\"T_512122cc_157f_11ea_9d4d_0242ac1c0002row5_col1\" class=\"data row5 col1\" >0</td>\n",
              "                        <td id=\"T_512122cc_157f_11ea_9d4d_0242ac1c0002row5_col2\" class=\"data row5 col2\" >0</td>\n",
              "                        <td id=\"T_512122cc_157f_11ea_9d4d_0242ac1c0002row5_col3\" class=\"data row5 col3\" >0</td>\n",
              "                        <td id=\"T_512122cc_157f_11ea_9d4d_0242ac1c0002row5_col4\" class=\"data row5 col4\" >1</td>\n",
              "                        <td id=\"T_512122cc_157f_11ea_9d4d_0242ac1c0002row5_col5\" class=\"data row5 col5\" >0</td>\n",
              "                        <td id=\"T_512122cc_157f_11ea_9d4d_0242ac1c0002row5_col6\" class=\"data row5 col6\" >0</td>\n",
              "                        <td id=\"T_512122cc_157f_11ea_9d4d_0242ac1c0002row5_col7\" class=\"data row5 col7\" >0</td>\n",
              "                        <td id=\"T_512122cc_157f_11ea_9d4d_0242ac1c0002row5_col8\" class=\"data row5 col8\" >0</td>\n",
              "                        <td id=\"T_512122cc_157f_11ea_9d4d_0242ac1c0002row5_col9\" class=\"data row5 col9\" >2</td>\n",
              "                        <td id=\"T_512122cc_157f_11ea_9d4d_0242ac1c0002row5_col10\" class=\"data row5 col10\" >0</td>\n",
              "            </tr>\n",
              "            <tr>\n",
              "                        <th id=\"T_512122cc_157f_11ea_9d4d_0242ac1c0002level0_row6\" class=\"row_heading level0 row6\" >6</th>\n",
              "                        <td id=\"T_512122cc_157f_11ea_9d4d_0242ac1c0002row6_col0\" class=\"data row6 col0\" >0</td>\n",
              "                        <td id=\"T_512122cc_157f_11ea_9d4d_0242ac1c0002row6_col1\" class=\"data row6 col1\" >1</td>\n",
              "                        <td id=\"T_512122cc_157f_11ea_9d4d_0242ac1c0002row6_col2\" class=\"data row6 col2\" >0</td>\n",
              "                        <td id=\"T_512122cc_157f_11ea_9d4d_0242ac1c0002row6_col3\" class=\"data row6 col3\" >2</td>\n",
              "                        <td id=\"T_512122cc_157f_11ea_9d4d_0242ac1c0002row6_col4\" class=\"data row6 col4\" >1</td>\n",
              "                        <td id=\"T_512122cc_157f_11ea_9d4d_0242ac1c0002row6_col5\" class=\"data row6 col5\" >0</td>\n",
              "                        <td id=\"T_512122cc_157f_11ea_9d4d_0242ac1c0002row6_col6\" class=\"data row6 col6\" >1</td>\n",
              "                        <td id=\"T_512122cc_157f_11ea_9d4d_0242ac1c0002row6_col7\" class=\"data row6 col7\" >0</td>\n",
              "                        <td id=\"T_512122cc_157f_11ea_9d4d_0242ac1c0002row6_col8\" class=\"data row6 col8\" >0</td>\n",
              "                        <td id=\"T_512122cc_157f_11ea_9d4d_0242ac1c0002row6_col9\" class=\"data row6 col9\" >1</td>\n",
              "                        <td id=\"T_512122cc_157f_11ea_9d4d_0242ac1c0002row6_col10\" class=\"data row6 col10\" >0</td>\n",
              "            </tr>\n",
              "            <tr>\n",
              "                        <th id=\"T_512122cc_157f_11ea_9d4d_0242ac1c0002level0_row7\" class=\"row_heading level0 row7\" >7</th>\n",
              "                        <td id=\"T_512122cc_157f_11ea_9d4d_0242ac1c0002row7_col0\" class=\"data row7 col0\" >0</td>\n",
              "                        <td id=\"T_512122cc_157f_11ea_9d4d_0242ac1c0002row7_col1\" class=\"data row7 col1\" >0</td>\n",
              "                        <td id=\"T_512122cc_157f_11ea_9d4d_0242ac1c0002row7_col2\" class=\"data row7 col2\" >0</td>\n",
              "                        <td id=\"T_512122cc_157f_11ea_9d4d_0242ac1c0002row7_col3\" class=\"data row7 col3\" >3</td>\n",
              "                        <td id=\"T_512122cc_157f_11ea_9d4d_0242ac1c0002row7_col4\" class=\"data row7 col4\" >0</td>\n",
              "                        <td id=\"T_512122cc_157f_11ea_9d4d_0242ac1c0002row7_col5\" class=\"data row7 col5\" >0</td>\n",
              "                        <td id=\"T_512122cc_157f_11ea_9d4d_0242ac1c0002row7_col6\" class=\"data row7 col6\" >0</td>\n",
              "                        <td id=\"T_512122cc_157f_11ea_9d4d_0242ac1c0002row7_col7\" class=\"data row7 col7\" >2</td>\n",
              "                        <td id=\"T_512122cc_157f_11ea_9d4d_0242ac1c0002row7_col8\" class=\"data row7 col8\" >0</td>\n",
              "                        <td id=\"T_512122cc_157f_11ea_9d4d_0242ac1c0002row7_col9\" class=\"data row7 col9\" >0</td>\n",
              "                        <td id=\"T_512122cc_157f_11ea_9d4d_0242ac1c0002row7_col10\" class=\"data row7 col10\" >0</td>\n",
              "            </tr>\n",
              "            <tr>\n",
              "                        <th id=\"T_512122cc_157f_11ea_9d4d_0242ac1c0002level0_row8\" class=\"row_heading level0 row8\" >8</th>\n",
              "                        <td id=\"T_512122cc_157f_11ea_9d4d_0242ac1c0002row8_col0\" class=\"data row8 col0\" >0</td>\n",
              "                        <td id=\"T_512122cc_157f_11ea_9d4d_0242ac1c0002row8_col1\" class=\"data row8 col1\" >0</td>\n",
              "                        <td id=\"T_512122cc_157f_11ea_9d4d_0242ac1c0002row8_col2\" class=\"data row8 col2\" >0</td>\n",
              "                        <td id=\"T_512122cc_157f_11ea_9d4d_0242ac1c0002row8_col3\" class=\"data row8 col3\" >2</td>\n",
              "                        <td id=\"T_512122cc_157f_11ea_9d4d_0242ac1c0002row8_col4\" class=\"data row8 col4\" >1</td>\n",
              "                        <td id=\"T_512122cc_157f_11ea_9d4d_0242ac1c0002row8_col5\" class=\"data row8 col5\" >0</td>\n",
              "                        <td id=\"T_512122cc_157f_11ea_9d4d_0242ac1c0002row8_col6\" class=\"data row8 col6\" >0</td>\n",
              "                        <td id=\"T_512122cc_157f_11ea_9d4d_0242ac1c0002row8_col7\" class=\"data row8 col7\" >0</td>\n",
              "                        <td id=\"T_512122cc_157f_11ea_9d4d_0242ac1c0002row8_col8\" class=\"data row8 col8\" >5</td>\n",
              "                        <td id=\"T_512122cc_157f_11ea_9d4d_0242ac1c0002row8_col9\" class=\"data row8 col9\" >0</td>\n",
              "                        <td id=\"T_512122cc_157f_11ea_9d4d_0242ac1c0002row8_col10\" class=\"data row8 col10\" >0</td>\n",
              "            </tr>\n",
              "            <tr>\n",
              "                        <th id=\"T_512122cc_157f_11ea_9d4d_0242ac1c0002level0_row9\" class=\"row_heading level0 row9\" >9</th>\n",
              "                        <td id=\"T_512122cc_157f_11ea_9d4d_0242ac1c0002row9_col0\" class=\"data row9 col0\" >0</td>\n",
              "                        <td id=\"T_512122cc_157f_11ea_9d4d_0242ac1c0002row9_col1\" class=\"data row9 col1\" >0</td>\n",
              "                        <td id=\"T_512122cc_157f_11ea_9d4d_0242ac1c0002row9_col2\" class=\"data row9 col2\" >0</td>\n",
              "                        <td id=\"T_512122cc_157f_11ea_9d4d_0242ac1c0002row9_col3\" class=\"data row9 col3\" >7</td>\n",
              "                        <td id=\"T_512122cc_157f_11ea_9d4d_0242ac1c0002row9_col4\" class=\"data row9 col4\" >2</td>\n",
              "                        <td id=\"T_512122cc_157f_11ea_9d4d_0242ac1c0002row9_col5\" class=\"data row9 col5\" >0</td>\n",
              "                        <td id=\"T_512122cc_157f_11ea_9d4d_0242ac1c0002row9_col6\" class=\"data row9 col6\" >0</td>\n",
              "                        <td id=\"T_512122cc_157f_11ea_9d4d_0242ac1c0002row9_col7\" class=\"data row9 col7\" >1</td>\n",
              "                        <td id=\"T_512122cc_157f_11ea_9d4d_0242ac1c0002row9_col8\" class=\"data row9 col8\" >0</td>\n",
              "                        <td id=\"T_512122cc_157f_11ea_9d4d_0242ac1c0002row9_col9\" class=\"data row9 col9\" >5</td>\n",
              "                        <td id=\"T_512122cc_157f_11ea_9d4d_0242ac1c0002row9_col10\" class=\"data row9 col10\" >0</td>\n",
              "            </tr>\n",
              "            <tr>\n",
              "                        <th id=\"T_512122cc_157f_11ea_9d4d_0242ac1c0002level0_row10\" class=\"row_heading level0 row10\" >10</th>\n",
              "                        <td id=\"T_512122cc_157f_11ea_9d4d_0242ac1c0002row10_col0\" class=\"data row10 col0\" >0</td>\n",
              "                        <td id=\"T_512122cc_157f_11ea_9d4d_0242ac1c0002row10_col1\" class=\"data row10 col1\" >0</td>\n",
              "                        <td id=\"T_512122cc_157f_11ea_9d4d_0242ac1c0002row10_col2\" class=\"data row10 col2\" >0</td>\n",
              "                        <td id=\"T_512122cc_157f_11ea_9d4d_0242ac1c0002row10_col3\" class=\"data row10 col3\" >0</td>\n",
              "                        <td id=\"T_512122cc_157f_11ea_9d4d_0242ac1c0002row10_col4\" class=\"data row10 col4\" >5</td>\n",
              "                        <td id=\"T_512122cc_157f_11ea_9d4d_0242ac1c0002row10_col5\" class=\"data row10 col5\" >0</td>\n",
              "                        <td id=\"T_512122cc_157f_11ea_9d4d_0242ac1c0002row10_col6\" class=\"data row10 col6\" >0</td>\n",
              "                        <td id=\"T_512122cc_157f_11ea_9d4d_0242ac1c0002row10_col7\" class=\"data row10 col7\" >0</td>\n",
              "                        <td id=\"T_512122cc_157f_11ea_9d4d_0242ac1c0002row10_col8\" class=\"data row10 col8\" >0</td>\n",
              "                        <td id=\"T_512122cc_157f_11ea_9d4d_0242ac1c0002row10_col9\" class=\"data row10 col9\" >1</td>\n",
              "                        <td id=\"T_512122cc_157f_11ea_9d4d_0242ac1c0002row10_col10\" class=\"data row10 col10\" >1</td>\n",
              "            </tr>\n",
              "    </tbody></table>"
            ],
            "text/plain": [
              "<pandas.io.formats.style.Styler at 0x7fd10b4f3cf8>"
            ]
          },
          "metadata": {
            "tags": []
          },
          "execution_count": 35
        }
      ]
    },
    {
      "cell_type": "markdown",
      "metadata": {
        "id": "LyrZTlTu0fHI",
        "colab_type": "text"
      },
      "source": [
        "# Display some error results "
      ]
    },
    {
      "cell_type": "code",
      "metadata": {
        "id": "JqHu-QTHzkLu",
        "colab_type": "code",
        "colab": {
          "base_uri": "https://localhost:8080/",
          "height": 254
        },
        "outputId": "b8c6b3a9-c38f-44d8-b8c9-dc4677a6d1ba"
      },
      "source": [
        "# Errors are difference between predicted labels and true labels\n",
        "errors = (Y_pred_classes - Y_true != 0)\n",
        "\n",
        "Y_pred_classes_errors = Y_pred_classes[errors]\n",
        "Y_pred_errors = Y_pred[errors]\n",
        "Y_true_errors = Y_true[errors]\n",
        "X_val_errors = X_valid[errors]\n",
        "\n",
        "def display_errors(errors_index,img_errors,pred_errors, obs_errors):\n",
        "    \"\"\" This function shows 6 images with their predicted and real labels\"\"\"\n",
        "    n = 0\n",
        "    nrows = 2\n",
        "    ncols = 3\n",
        "    fig, ax = plt.subplots(nrows,ncols,sharex=True,sharey=True)\n",
        "    for row in range(nrows):\n",
        "        for col in range(ncols):\n",
        "            error = errors_index[n]\n",
        "            ax[row,col].imshow((img_errors[error]).reshape((128,176,3)))\n",
        "            ax[row,col].set_title(\"Predict:{} True:{}\".format(pred_errors[error],obs_errors[error]))\n",
        "            n += 1\n",
        "\n",
        "# Probabilities of the wrong predicted numbers\n",
        "Y_pred_errors_prob = np.max(Y_pred_errors,axis = 1)\n",
        "\n",
        "# Predicted probabilities of the true values in the error set\n",
        "true_prob_errors = np.diagonal(np.take(Y_pred_errors, Y_true_errors, axis=1))\n",
        "\n",
        "# Difference between the probability of the predicted label and the true label\n",
        "delta_pred_true_errors = Y_pred_errors_prob - true_prob_errors\n",
        "\n",
        "# Sorted list of the delta prob errors\n",
        "sorted_dela_errors = np.argsort(delta_pred_true_errors)\n",
        "\n",
        "# Top 6 errors \n",
        "most_important_errors = sorted_dela_errors[-6:]\n",
        "\n",
        "# Show the top 6 errors\n",
        "display_errors(most_important_errors, X_val_errors, Y_pred_classes_errors, Y_true_errors)"
      ],
      "execution_count": 36,
      "outputs": [
        {
          "output_type": "display_data",
          "data": {
            "image/png": "[encoded data removed]",
            "text/plain": [
              "<Figure size 432x288 with 6 Axes>"
            ]
          },
          "metadata": {
            "tags": []
          }
        }
      ]
    },
    {
      "cell_type": "code",
      "metadata": {
        "id": "YhY7YY7k0XN1",
        "colab_type": "code",
        "colab": {}
      },
      "source": [
        ""
      ],
      "execution_count": 0,
      "outputs": []
    }
  ]
}