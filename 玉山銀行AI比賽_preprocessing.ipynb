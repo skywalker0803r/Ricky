{
  "nbformat": 4,
  "nbformat_minor": 0,
  "metadata": {
    "colab": {
      "name": "玉山銀行AI比賽_preprocessing.ipynb",
      "provenance": [],
      "collapsed_sections": [],
      "machine_shape": "hm",
      "include_colab_link": true
    },
    "kernelspec": {
      "name": "python3",
      "display_name": "Python 3"
    }
  },
  "cells": [
    {
      "cell_type": "markdown",
      "metadata": {
        "id": "view-in-github",
        "colab_type": "text"
      },
      "source": [
        "<a href=\"https://colab.research.google.com/github/skywalker0803r/Ricky/blob/master/%E7%8E%89%E5%B1%B1%E9%8A%80%E8%A1%8CAI%E6%AF%94%E8%B3%BD_preprocessing.ipynb\" target=\"_parent\"><img src=\"https://colab.research.google.com/assets/colab-badge.svg\" alt=\"Open In Colab\"/></a>"
      ]
    },
    {
      "cell_type": "code",
      "metadata": {
        "id": "q_bD7lAXpvBi",
        "colab_type": "code",
        "outputId": "b2a94ea6-ef6f-4d77-8818-92516c360364",
        "colab": {
          "base_uri": "https://localhost:8080/",
          "height": 35
        }
      },
      "source": [
        "from google.colab import drive\n",
        "drive.mount('/content/drive')"
      ],
      "execution_count": 1,
      "outputs": [
        {
          "output_type": "stream",
          "text": [
            "Drive already mounted at /content/drive; to attempt to forcibly remount, call drive.mount(\"/content/drive\", force_remount=True).\n"
          ],
          "name": "stdout"
        }
      ]
    },
    {
      "cell_type": "markdown",
      "metadata": {
        "id": "mfZ4CQcn_96u",
        "colab_type": "text"
      },
      "source": [
        "# 中文map"
      ]
    },
    {
      "cell_type": "code",
      "metadata": {
        "id": "VJzQMUU7_9bO",
        "colab_type": "code",
        "colab": {}
      },
      "source": [
        "中文map = {'bacno':'歸戶帳號','txkey':'交易序號','locdt':'授權日期','loctm':'授權時間','cano':'交易卡號',\n",
        "         'contp':'交易類別','etymd':'交易型態','mchno':'特店代號','acqic':'收單行代碼','mcc':'MCC_CODE',\n",
        "         'conam':'交易金額-台幣(經過轉換)','ecfg':'網路交易註記','insfg':'分期交易註記','iterm':'分期期數',\n",
        "         'stocn':'消費地國別','scity':'消費城市','stscd':'狀態碼','ovrlt':'超額註記碼','flbmk':'Fallback註記',\n",
        "         'hcefg':'支付型態','csmcu':'消費地幣別','flg_3dsmk':'3DS交易註記','fraud_ind':'盜刷註記'}"
      ],
      "execution_count": 0,
      "outputs": []
    },
    {
      "cell_type": "markdown",
      "metadata": {
        "id": "M3OdqFqf7Er_",
        "colab_type": "text"
      },
      "source": [
        "# train data"
      ]
    },
    {
      "cell_type": "code",
      "metadata": {
        "id": "UwcirkbIp2Vx",
        "colab_type": "code",
        "outputId": "2779dae5-b782-4b0e-f21c-27aa5cc7a4a5",
        "colab": {
          "base_uri": "https://localhost:8080/",
          "height": 238
        }
      },
      "source": [
        "import pandas as pd\n",
        "from sklearn.model_selection import train_test_split\n",
        "train = pd.read_csv(\"/content/drive/My Drive/玉山人工智慧比賽數據/train.csv\")\n",
        "print(train.shape)\n",
        "train.head()"
      ],
      "execution_count": 3,
      "outputs": [
        {
          "output_type": "stream",
          "text": [
            "(1521787, 23)\n"
          ],
          "name": "stdout"
        },
        {
          "output_type": "execute_result",
          "data": {
            "text/html": [
              "<div>\n",
              "<style scoped>\n",
              "    .dataframe tbody tr th:only-of-type {\n",
              "        vertical-align: middle;\n",
              "    }\n",
              "\n",
              "    .dataframe tbody tr th {\n",
              "        vertical-align: top;\n",
              "    }\n",
              "\n",
              "    .dataframe thead th {\n",
              "        text-align: right;\n",
              "    }\n",
              "</style>\n",
              "<table border=\"1\" class=\"dataframe\">\n",
              "  <thead>\n",
              "    <tr style=\"text-align: right;\">\n",
              "      <th></th>\n",
              "      <th>acqic</th>\n",
              "      <th>bacno</th>\n",
              "      <th>cano</th>\n",
              "      <th>conam</th>\n",
              "      <th>contp</th>\n",
              "      <th>csmcu</th>\n",
              "      <th>ecfg</th>\n",
              "      <th>etymd</th>\n",
              "      <th>flbmk</th>\n",
              "      <th>flg_3dsmk</th>\n",
              "      <th>fraud_ind</th>\n",
              "      <th>hcefg</th>\n",
              "      <th>insfg</th>\n",
              "      <th>iterm</th>\n",
              "      <th>locdt</th>\n",
              "      <th>loctm</th>\n",
              "      <th>mcc</th>\n",
              "      <th>mchno</th>\n",
              "      <th>ovrlt</th>\n",
              "      <th>scity</th>\n",
              "      <th>stocn</th>\n",
              "      <th>stscd</th>\n",
              "      <th>txkey</th>\n",
              "    </tr>\n",
              "  </thead>\n",
              "  <tbody>\n",
              "    <tr>\n",
              "      <th>0</th>\n",
              "      <td>6881</td>\n",
              "      <td>113261</td>\n",
              "      <td>38038</td>\n",
              "      <td>513.80</td>\n",
              "      <td>5</td>\n",
              "      <td>0</td>\n",
              "      <td>N</td>\n",
              "      <td>0</td>\n",
              "      <td>N</td>\n",
              "      <td>N</td>\n",
              "      <td>0</td>\n",
              "      <td>5</td>\n",
              "      <td>N</td>\n",
              "      <td>0</td>\n",
              "      <td>33</td>\n",
              "      <td>172652.0</td>\n",
              "      <td>457</td>\n",
              "      <td>59333</td>\n",
              "      <td>N</td>\n",
              "      <td>0</td>\n",
              "      <td>102</td>\n",
              "      <td>0</td>\n",
              "      <td>516056</td>\n",
              "    </tr>\n",
              "    <tr>\n",
              "      <th>1</th>\n",
              "      <td>0</td>\n",
              "      <td>134508</td>\n",
              "      <td>45725</td>\n",
              "      <td>465.62</td>\n",
              "      <td>5</td>\n",
              "      <td>0</td>\n",
              "      <td>N</td>\n",
              "      <td>2</td>\n",
              "      <td>N</td>\n",
              "      <td>N</td>\n",
              "      <td>0</td>\n",
              "      <td>0</td>\n",
              "      <td>N</td>\n",
              "      <td>0</td>\n",
              "      <td>9</td>\n",
              "      <td>105114.0</td>\n",
              "      <td>451</td>\n",
              "      <td>0</td>\n",
              "      <td>N</td>\n",
              "      <td>5817</td>\n",
              "      <td>102</td>\n",
              "      <td>0</td>\n",
              "      <td>4376</td>\n",
              "    </tr>\n",
              "    <tr>\n",
              "      <th>2</th>\n",
              "      <td>6881</td>\n",
              "      <td>15408</td>\n",
              "      <td>188328</td>\n",
              "      <td>513.80</td>\n",
              "      <td>5</td>\n",
              "      <td>0</td>\n",
              "      <td>N</td>\n",
              "      <td>0</td>\n",
              "      <td>N</td>\n",
              "      <td>N</td>\n",
              "      <td>0</td>\n",
              "      <td>5</td>\n",
              "      <td>N</td>\n",
              "      <td>0</td>\n",
              "      <td>6</td>\n",
              "      <td>152458.0</td>\n",
              "      <td>457</td>\n",
              "      <td>59333</td>\n",
              "      <td>N</td>\n",
              "      <td>0</td>\n",
              "      <td>102</td>\n",
              "      <td>0</td>\n",
              "      <td>483434</td>\n",
              "    </tr>\n",
              "    <tr>\n",
              "      <th>3</th>\n",
              "      <td>6716</td>\n",
              "      <td>157159</td>\n",
              "      <td>29967</td>\n",
              "      <td>1016.11</td>\n",
              "      <td>5</td>\n",
              "      <td>62</td>\n",
              "      <td>N</td>\n",
              "      <td>5</td>\n",
              "      <td>N</td>\n",
              "      <td>N</td>\n",
              "      <td>0</td>\n",
              "      <td>5</td>\n",
              "      <td>N</td>\n",
              "      <td>0</td>\n",
              "      <td>5</td>\n",
              "      <td>172946.0</td>\n",
              "      <td>247</td>\n",
              "      <td>50436</td>\n",
              "      <td>N</td>\n",
              "      <td>3281</td>\n",
              "      <td>102</td>\n",
              "      <td>0</td>\n",
              "      <td>1407164</td>\n",
              "    </tr>\n",
              "    <tr>\n",
              "      <th>4</th>\n",
              "      <td>5975</td>\n",
              "      <td>105985</td>\n",
              "      <td>81305</td>\n",
              "      <td>713.66</td>\n",
              "      <td>5</td>\n",
              "      <td>62</td>\n",
              "      <td>N</td>\n",
              "      <td>4</td>\n",
              "      <td>N</td>\n",
              "      <td>N</td>\n",
              "      <td>0</td>\n",
              "      <td>5</td>\n",
              "      <td>N</td>\n",
              "      <td>0</td>\n",
              "      <td>6</td>\n",
              "      <td>182129.0</td>\n",
              "      <td>263</td>\n",
              "      <td>93775</td>\n",
              "      <td>N</td>\n",
              "      <td>5817</td>\n",
              "      <td>102</td>\n",
              "      <td>0</td>\n",
              "      <td>1051004</td>\n",
              "    </tr>\n",
              "  </tbody>\n",
              "</table>\n",
              "</div>"
            ],
            "text/plain": [
              "   acqic   bacno    cano    conam  contp  ...  ovrlt scity  stocn stscd    txkey\n",
              "0   6881  113261   38038   513.80      5  ...      N     0    102     0   516056\n",
              "1      0  134508   45725   465.62      5  ...      N  5817    102     0     4376\n",
              "2   6881   15408  188328   513.80      5  ...      N     0    102     0   483434\n",
              "3   6716  157159   29967  1016.11      5  ...      N  3281    102     0  1407164\n",
              "4   5975  105985   81305   713.66      5  ...      N  5817    102     0  1051004\n",
              "\n",
              "[5 rows x 23 columns]"
            ]
          },
          "metadata": {
            "tags": []
          },
          "execution_count": 3
        }
      ]
    },
    {
      "cell_type": "markdown",
      "metadata": {
        "id": "tXPmBMKP7IY_",
        "colab_type": "text"
      },
      "source": [
        "# test data"
      ]
    },
    {
      "cell_type": "code",
      "metadata": {
        "id": "zyiyXEAop9mR",
        "colab_type": "code",
        "outputId": "ee1821bd-1c57-4a8a-9897-ead001fbff68",
        "colab": {
          "base_uri": "https://localhost:8080/",
          "height": 218
        }
      },
      "source": [
        "test = pd.read_csv(\"/content/drive/My Drive/玉山人工智慧比賽數據/test.csv\")\n",
        "print(test.shape)\n",
        "test_txkey = test[\"txkey\"]\n",
        "test.head()"
      ],
      "execution_count": 4,
      "outputs": [
        {
          "output_type": "stream",
          "text": [
            "(421665, 22)\n"
          ],
          "name": "stdout"
        },
        {
          "output_type": "execute_result",
          "data": {
            "text/html": [
              "<div>\n",
              "<style scoped>\n",
              "    .dataframe tbody tr th:only-of-type {\n",
              "        vertical-align: middle;\n",
              "    }\n",
              "\n",
              "    .dataframe tbody tr th {\n",
              "        vertical-align: top;\n",
              "    }\n",
              "\n",
              "    .dataframe thead th {\n",
              "        text-align: right;\n",
              "    }\n",
              "</style>\n",
              "<table border=\"1\" class=\"dataframe\">\n",
              "  <thead>\n",
              "    <tr style=\"text-align: right;\">\n",
              "      <th></th>\n",
              "      <th>acqic</th>\n",
              "      <th>bacno</th>\n",
              "      <th>cano</th>\n",
              "      <th>conam</th>\n",
              "      <th>contp</th>\n",
              "      <th>csmcu</th>\n",
              "      <th>ecfg</th>\n",
              "      <th>etymd</th>\n",
              "      <th>flbmk</th>\n",
              "      <th>flg_3dsmk</th>\n",
              "      <th>hcefg</th>\n",
              "      <th>insfg</th>\n",
              "      <th>iterm</th>\n",
              "      <th>locdt</th>\n",
              "      <th>loctm</th>\n",
              "      <th>mcc</th>\n",
              "      <th>mchno</th>\n",
              "      <th>ovrlt</th>\n",
              "      <th>scity</th>\n",
              "      <th>stocn</th>\n",
              "      <th>stscd</th>\n",
              "      <th>txkey</th>\n",
              "    </tr>\n",
              "  </thead>\n",
              "  <tbody>\n",
              "    <tr>\n",
              "      <th>0</th>\n",
              "      <td>6881</td>\n",
              "      <td>163188</td>\n",
              "      <td>116799</td>\n",
              "      <td>513.8</td>\n",
              "      <td>5</td>\n",
              "      <td>0</td>\n",
              "      <td>N</td>\n",
              "      <td>0</td>\n",
              "      <td>N</td>\n",
              "      <td>N</td>\n",
              "      <td>5</td>\n",
              "      <td>N</td>\n",
              "      <td>0</td>\n",
              "      <td>102</td>\n",
              "      <td>215328.0</td>\n",
              "      <td>457</td>\n",
              "      <td>59360</td>\n",
              "      <td>N</td>\n",
              "      <td>0</td>\n",
              "      <td>102</td>\n",
              "      <td>0</td>\n",
              "      <td>592489</td>\n",
              "    </tr>\n",
              "    <tr>\n",
              "      <th>1</th>\n",
              "      <td>6881</td>\n",
              "      <td>163188</td>\n",
              "      <td>116799</td>\n",
              "      <td>513.8</td>\n",
              "      <td>5</td>\n",
              "      <td>0</td>\n",
              "      <td>N</td>\n",
              "      <td>0</td>\n",
              "      <td>N</td>\n",
              "      <td>N</td>\n",
              "      <td>5</td>\n",
              "      <td>N</td>\n",
              "      <td>0</td>\n",
              "      <td>102</td>\n",
              "      <td>222007.0</td>\n",
              "      <td>457</td>\n",
              "      <td>59360</td>\n",
              "      <td>N</td>\n",
              "      <td>0</td>\n",
              "      <td>102</td>\n",
              "      <td>0</td>\n",
              "      <td>592452</td>\n",
              "    </tr>\n",
              "    <tr>\n",
              "      <th>2</th>\n",
              "      <td>6881</td>\n",
              "      <td>163188</td>\n",
              "      <td>116799</td>\n",
              "      <td>513.8</td>\n",
              "      <td>5</td>\n",
              "      <td>0</td>\n",
              "      <td>N</td>\n",
              "      <td>0</td>\n",
              "      <td>N</td>\n",
              "      <td>N</td>\n",
              "      <td>5</td>\n",
              "      <td>N</td>\n",
              "      <td>0</td>\n",
              "      <td>100</td>\n",
              "      <td>170013.0</td>\n",
              "      <td>457</td>\n",
              "      <td>59360</td>\n",
              "      <td>N</td>\n",
              "      <td>0</td>\n",
              "      <td>102</td>\n",
              "      <td>0</td>\n",
              "      <td>590212</td>\n",
              "    </tr>\n",
              "    <tr>\n",
              "      <th>3</th>\n",
              "      <td>6881</td>\n",
              "      <td>163188</td>\n",
              "      <td>116799</td>\n",
              "      <td>513.8</td>\n",
              "      <td>5</td>\n",
              "      <td>0</td>\n",
              "      <td>N</td>\n",
              "      <td>0</td>\n",
              "      <td>N</td>\n",
              "      <td>N</td>\n",
              "      <td>5</td>\n",
              "      <td>N</td>\n",
              "      <td>0</td>\n",
              "      <td>100</td>\n",
              "      <td>165914.0</td>\n",
              "      <td>457</td>\n",
              "      <td>59360</td>\n",
              "      <td>N</td>\n",
              "      <td>0</td>\n",
              "      <td>102</td>\n",
              "      <td>0</td>\n",
              "      <td>590209</td>\n",
              "    </tr>\n",
              "    <tr>\n",
              "      <th>4</th>\n",
              "      <td>6881</td>\n",
              "      <td>163188</td>\n",
              "      <td>116799</td>\n",
              "      <td>513.8</td>\n",
              "      <td>5</td>\n",
              "      <td>0</td>\n",
              "      <td>N</td>\n",
              "      <td>0</td>\n",
              "      <td>N</td>\n",
              "      <td>N</td>\n",
              "      <td>5</td>\n",
              "      <td>N</td>\n",
              "      <td>0</td>\n",
              "      <td>102</td>\n",
              "      <td>215311.0</td>\n",
              "      <td>457</td>\n",
              "      <td>59360</td>\n",
              "      <td>N</td>\n",
              "      <td>0</td>\n",
              "      <td>102</td>\n",
              "      <td>0</td>\n",
              "      <td>592488</td>\n",
              "    </tr>\n",
              "  </tbody>\n",
              "</table>\n",
              "</div>"
            ],
            "text/plain": [
              "   acqic   bacno    cano  conam  contp  ...  ovrlt scity  stocn stscd   txkey\n",
              "0   6881  163188  116799  513.8      5  ...      N     0    102     0  592489\n",
              "1   6881  163188  116799  513.8      5  ...      N     0    102     0  592452\n",
              "2   6881  163188  116799  513.8      5  ...      N     0    102     0  590212\n",
              "3   6881  163188  116799  513.8      5  ...      N     0    102     0  590209\n",
              "4   6881  163188  116799  513.8      5  ...      N     0    102     0  592488\n",
              "\n",
              "[5 rows x 22 columns]"
            ]
          },
          "metadata": {
            "tags": []
          },
          "execution_count": 4
        }
      ]
    },
    {
      "cell_type": "markdown",
      "metadata": {
        "id": "gI8dcXgdqHmk",
        "colab_type": "text"
      },
      "source": [
        "# 缺失值情形"
      ]
    },
    {
      "cell_type": "code",
      "metadata": {
        "id": "wQNk5bdJqFw-",
        "colab_type": "code",
        "colab": {}
      },
      "source": [
        "# Function to calculate missing values by column# Funct \n",
        "def missing_values_table(df):\n",
        "        # Total missing values\n",
        "        mis_val = df.isnull().sum()\n",
        "        \n",
        "        # Percentage of missing values\n",
        "        mis_val_percent = 100 * df.isnull().sum() / len(df)\n",
        "        \n",
        "        # Make a table with the results\n",
        "        mis_val_table = pd.concat([mis_val, mis_val_percent], axis=1)\n",
        "        \n",
        "        # Rename the columns\n",
        "        mis_val_table_ren_columns = mis_val_table.rename(\n",
        "        columns = {0 : 'Missing Values', 1 : '% of Total Values'})\n",
        "        \n",
        "        # Sort the table by percentage of missing descending\n",
        "        mis_val_table_ren_columns = mis_val_table_ren_columns[\n",
        "            mis_val_table_ren_columns.iloc[:,1] != 0].sort_values(\n",
        "        '% of Total Values', ascending=False).round(1)\n",
        "        \n",
        "        # Print some summary information\n",
        "        print (\"Your selected dataframe has \" + str(df.shape[1]) + \" columns.\\n\"      \n",
        "            \"There are \" + str(mis_val_table_ren_columns.shape[0]) +\n",
        "              \" columns that have missing values.\")\n",
        "        \n",
        "        # Return the dataframe with missing information\n",
        "        return mis_val_table_ren_columns"
      ],
      "execution_count": 0,
      "outputs": []
    },
    {
      "cell_type": "code",
      "metadata": {
        "id": "_mBTOhctqYEC",
        "colab_type": "code",
        "outputId": "4443be44-8aa2-40e5-d7f8-7eb8fdd9dcf5",
        "colab": {
          "base_uri": "https://localhost:8080/",
          "height": 195
        }
      },
      "source": [
        "print(missing_values_table(train))\n",
        "print(missing_values_table(test))"
      ],
      "execution_count": 6,
      "outputs": [
        {
          "output_type": "stream",
          "text": [
            "Your selected dataframe has 23 columns.\n",
            "There are 2 columns that have missing values.\n",
            "           Missing Values  % of Total Values\n",
            "flbmk               12581                0.8\n",
            "flg_3dsmk           12581                0.8\n",
            "Your selected dataframe has 22 columns.\n",
            "There are 2 columns that have missing values.\n",
            "           Missing Values  % of Total Values\n",
            "flbmk                3715                0.9\n",
            "flg_3dsmk            3715                0.9\n"
          ],
          "name": "stdout"
        }
      ]
    },
    {
      "cell_type": "markdown",
      "metadata": {
        "id": "uVMd0quprzor",
        "colab_type": "text"
      },
      "source": [
        "# 處理缺失值 fillna"
      ]
    },
    {
      "cell_type": "markdown",
      "metadata": {
        "id": "_XKRoL0JK8fh",
        "colab_type": "text"
      },
      "source": [
        "把缺失值當成一種'unknown'類別"
      ]
    },
    {
      "cell_type": "code",
      "metadata": {
        "id": "utBN5wCprzxZ",
        "colab_type": "code",
        "outputId": "e8bbe61d-0620-4c11-c3b3-b0120cf64448",
        "colab": {
          "base_uri": "https://localhost:8080/",
          "height": 52
        }
      },
      "source": [
        "train.fillna('unknown',inplace=True)\n",
        "test.fillna('unknown',inplace=True)\n",
        "print(train.isnull().sum().sum())\n",
        "print(test.isnull().sum().sum())"
      ],
      "execution_count": 7,
      "outputs": [
        {
          "output_type": "stream",
          "text": [
            "0\n",
            "0\n"
          ],
          "name": "stdout"
        }
      ]
    },
    {
      "cell_type": "markdown",
      "metadata": {
        "id": "OMcctyG2rCZ9",
        "colab_type": "text"
      },
      "source": [
        "# Label encoding"
      ]
    },
    {
      "cell_type": "code",
      "metadata": {
        "id": "RTRPnnbAq_V4",
        "colab_type": "code",
        "outputId": "4201ea8f-43e1-48f7-f499-fce67e9e02eb",
        "colab": {
          "base_uri": "https://localhost:8080/",
          "height": 52
        }
      },
      "source": [
        "from sklearn.preprocessing import LabelEncoder\n",
        "# Create a label encoder object\n",
        "le = LabelEncoder()\n",
        "le_count = 0\n",
        "le_col = []\n",
        "\n",
        "# Iterate through the columns\n",
        "for col in train.drop(['txkey','fraud_ind'],axis=1).columns:\n",
        "  # 條件\n",
        "  if len(train[col].unique())<=3:\n",
        "    # Train on the training data\n",
        "    le.fit(train[col])\n",
        "    # Transform both training and testing data\n",
        "    train[col] = le.transform(train[col])\n",
        "    test[col] = le.transform(test[col])\n",
        "    # Keep track of how many columns were label encoded\n",
        "    le_count += 1\n",
        "    le_col.append(col)\n",
        "            \n",
        "print('%d columns were label encoded.' % le_count)\n",
        "print(le_col)"
      ],
      "execution_count": 8,
      "outputs": [
        {
          "output_type": "stream",
          "text": [
            "5 columns were label encoded.\n",
            "['ecfg', 'flbmk', 'flg_3dsmk', 'insfg', 'ovrlt']\n"
          ],
          "name": "stdout"
        }
      ]
    },
    {
      "cell_type": "code",
      "metadata": {
        "id": "9KI9hxISacoM",
        "colab_type": "code",
        "outputId": "4b5de9dc-24a1-4e08-850d-f1aae364d242",
        "colab": {
          "base_uri": "https://localhost:8080/",
          "height": 220
        }
      },
      "source": [
        "train.head()"
      ],
      "execution_count": 9,
      "outputs": [
        {
          "output_type": "execute_result",
          "data": {
            "text/html": [
              "<div>\n",
              "<style scoped>\n",
              "    .dataframe tbody tr th:only-of-type {\n",
              "        vertical-align: middle;\n",
              "    }\n",
              "\n",
              "    .dataframe tbody tr th {\n",
              "        vertical-align: top;\n",
              "    }\n",
              "\n",
              "    .dataframe thead th {\n",
              "        text-align: right;\n",
              "    }\n",
              "</style>\n",
              "<table border=\"1\" class=\"dataframe\">\n",
              "  <thead>\n",
              "    <tr style=\"text-align: right;\">\n",
              "      <th></th>\n",
              "      <th>acqic</th>\n",
              "      <th>bacno</th>\n",
              "      <th>cano</th>\n",
              "      <th>conam</th>\n",
              "      <th>contp</th>\n",
              "      <th>csmcu</th>\n",
              "      <th>ecfg</th>\n",
              "      <th>etymd</th>\n",
              "      <th>flbmk</th>\n",
              "      <th>flg_3dsmk</th>\n",
              "      <th>fraud_ind</th>\n",
              "      <th>hcefg</th>\n",
              "      <th>insfg</th>\n",
              "      <th>iterm</th>\n",
              "      <th>locdt</th>\n",
              "      <th>loctm</th>\n",
              "      <th>mcc</th>\n",
              "      <th>mchno</th>\n",
              "      <th>ovrlt</th>\n",
              "      <th>scity</th>\n",
              "      <th>stocn</th>\n",
              "      <th>stscd</th>\n",
              "      <th>txkey</th>\n",
              "    </tr>\n",
              "  </thead>\n",
              "  <tbody>\n",
              "    <tr>\n",
              "      <th>0</th>\n",
              "      <td>6881</td>\n",
              "      <td>113261</td>\n",
              "      <td>38038</td>\n",
              "      <td>513.80</td>\n",
              "      <td>5</td>\n",
              "      <td>0</td>\n",
              "      <td>0</td>\n",
              "      <td>0</td>\n",
              "      <td>0</td>\n",
              "      <td>0</td>\n",
              "      <td>0</td>\n",
              "      <td>5</td>\n",
              "      <td>0</td>\n",
              "      <td>0</td>\n",
              "      <td>33</td>\n",
              "      <td>172652.0</td>\n",
              "      <td>457</td>\n",
              "      <td>59333</td>\n",
              "      <td>0</td>\n",
              "      <td>0</td>\n",
              "      <td>102</td>\n",
              "      <td>0</td>\n",
              "      <td>516056</td>\n",
              "    </tr>\n",
              "    <tr>\n",
              "      <th>1</th>\n",
              "      <td>0</td>\n",
              "      <td>134508</td>\n",
              "      <td>45725</td>\n",
              "      <td>465.62</td>\n",
              "      <td>5</td>\n",
              "      <td>0</td>\n",
              "      <td>0</td>\n",
              "      <td>2</td>\n",
              "      <td>0</td>\n",
              "      <td>0</td>\n",
              "      <td>0</td>\n",
              "      <td>0</td>\n",
              "      <td>0</td>\n",
              "      <td>0</td>\n",
              "      <td>9</td>\n",
              "      <td>105114.0</td>\n",
              "      <td>451</td>\n",
              "      <td>0</td>\n",
              "      <td>0</td>\n",
              "      <td>5817</td>\n",
              "      <td>102</td>\n",
              "      <td>0</td>\n",
              "      <td>4376</td>\n",
              "    </tr>\n",
              "    <tr>\n",
              "      <th>2</th>\n",
              "      <td>6881</td>\n",
              "      <td>15408</td>\n",
              "      <td>188328</td>\n",
              "      <td>513.80</td>\n",
              "      <td>5</td>\n",
              "      <td>0</td>\n",
              "      <td>0</td>\n",
              "      <td>0</td>\n",
              "      <td>0</td>\n",
              "      <td>0</td>\n",
              "      <td>0</td>\n",
              "      <td>5</td>\n",
              "      <td>0</td>\n",
              "      <td>0</td>\n",
              "      <td>6</td>\n",
              "      <td>152458.0</td>\n",
              "      <td>457</td>\n",
              "      <td>59333</td>\n",
              "      <td>0</td>\n",
              "      <td>0</td>\n",
              "      <td>102</td>\n",
              "      <td>0</td>\n",
              "      <td>483434</td>\n",
              "    </tr>\n",
              "    <tr>\n",
              "      <th>3</th>\n",
              "      <td>6716</td>\n",
              "      <td>157159</td>\n",
              "      <td>29967</td>\n",
              "      <td>1016.11</td>\n",
              "      <td>5</td>\n",
              "      <td>62</td>\n",
              "      <td>0</td>\n",
              "      <td>5</td>\n",
              "      <td>0</td>\n",
              "      <td>0</td>\n",
              "      <td>0</td>\n",
              "      <td>5</td>\n",
              "      <td>0</td>\n",
              "      <td>0</td>\n",
              "      <td>5</td>\n",
              "      <td>172946.0</td>\n",
              "      <td>247</td>\n",
              "      <td>50436</td>\n",
              "      <td>0</td>\n",
              "      <td>3281</td>\n",
              "      <td>102</td>\n",
              "      <td>0</td>\n",
              "      <td>1407164</td>\n",
              "    </tr>\n",
              "    <tr>\n",
              "      <th>4</th>\n",
              "      <td>5975</td>\n",
              "      <td>105985</td>\n",
              "      <td>81305</td>\n",
              "      <td>713.66</td>\n",
              "      <td>5</td>\n",
              "      <td>62</td>\n",
              "      <td>0</td>\n",
              "      <td>4</td>\n",
              "      <td>0</td>\n",
              "      <td>0</td>\n",
              "      <td>0</td>\n",
              "      <td>5</td>\n",
              "      <td>0</td>\n",
              "      <td>0</td>\n",
              "      <td>6</td>\n",
              "      <td>182129.0</td>\n",
              "      <td>263</td>\n",
              "      <td>93775</td>\n",
              "      <td>0</td>\n",
              "      <td>5817</td>\n",
              "      <td>102</td>\n",
              "      <td>0</td>\n",
              "      <td>1051004</td>\n",
              "    </tr>\n",
              "  </tbody>\n",
              "</table>\n",
              "</div>"
            ],
            "text/plain": [
              "   acqic   bacno    cano    conam  contp  ...  ovrlt  scity  stocn  stscd    txkey\n",
              "0   6881  113261   38038   513.80      5  ...      0      0    102      0   516056\n",
              "1      0  134508   45725   465.62      5  ...      0   5817    102      0     4376\n",
              "2   6881   15408  188328   513.80      5  ...      0      0    102      0   483434\n",
              "3   6716  157159   29967  1016.11      5  ...      0   3281    102      0  1407164\n",
              "4   5975  105985   81305   713.66      5  ...      0   5817    102      0  1051004\n",
              "\n",
              "[5 rows x 23 columns]"
            ]
          },
          "metadata": {
            "tags": []
          },
          "execution_count": 9
        }
      ]
    },
    {
      "cell_type": "code",
      "metadata": {
        "id": "m7yfnhHQaS_f",
        "colab_type": "code",
        "outputId": "adb64d51-25b5-4e10-b6ff-f898a1035cf0",
        "colab": {
          "base_uri": "https://localhost:8080/",
          "height": 444
        }
      },
      "source": [
        "train.dtypes"
      ],
      "execution_count": 10,
      "outputs": [
        {
          "output_type": "execute_result",
          "data": {
            "text/plain": [
              "acqic          int64\n",
              "bacno          int64\n",
              "cano           int64\n",
              "conam        float64\n",
              "contp          int64\n",
              "csmcu          int64\n",
              "ecfg           int64\n",
              "etymd          int64\n",
              "flbmk          int64\n",
              "flg_3dsmk      int64\n",
              "fraud_ind      int64\n",
              "hcefg          int64\n",
              "insfg          int64\n",
              "iterm          int64\n",
              "locdt          int64\n",
              "loctm        float64\n",
              "mcc            int64\n",
              "mchno          int64\n",
              "ovrlt          int64\n",
              "scity          int64\n",
              "stocn          int64\n",
              "stscd          int64\n",
              "txkey          int64\n",
              "dtype: object"
            ]
          },
          "metadata": {
            "tags": []
          },
          "execution_count": 10
        }
      ]
    },
    {
      "cell_type": "code",
      "metadata": {
        "id": "IzoiIh1Hae5s",
        "colab_type": "code",
        "outputId": "f6ea7378-4022-4ffb-babb-808ed1c684d3",
        "colab": {
          "base_uri": "https://localhost:8080/",
          "height": 200
        }
      },
      "source": [
        "test.head()"
      ],
      "execution_count": 11,
      "outputs": [
        {
          "output_type": "execute_result",
          "data": {
            "text/html": [
              "<div>\n",
              "<style scoped>\n",
              "    .dataframe tbody tr th:only-of-type {\n",
              "        vertical-align: middle;\n",
              "    }\n",
              "\n",
              "    .dataframe tbody tr th {\n",
              "        vertical-align: top;\n",
              "    }\n",
              "\n",
              "    .dataframe thead th {\n",
              "        text-align: right;\n",
              "    }\n",
              "</style>\n",
              "<table border=\"1\" class=\"dataframe\">\n",
              "  <thead>\n",
              "    <tr style=\"text-align: right;\">\n",
              "      <th></th>\n",
              "      <th>acqic</th>\n",
              "      <th>bacno</th>\n",
              "      <th>cano</th>\n",
              "      <th>conam</th>\n",
              "      <th>contp</th>\n",
              "      <th>csmcu</th>\n",
              "      <th>ecfg</th>\n",
              "      <th>etymd</th>\n",
              "      <th>flbmk</th>\n",
              "      <th>flg_3dsmk</th>\n",
              "      <th>hcefg</th>\n",
              "      <th>insfg</th>\n",
              "      <th>iterm</th>\n",
              "      <th>locdt</th>\n",
              "      <th>loctm</th>\n",
              "      <th>mcc</th>\n",
              "      <th>mchno</th>\n",
              "      <th>ovrlt</th>\n",
              "      <th>scity</th>\n",
              "      <th>stocn</th>\n",
              "      <th>stscd</th>\n",
              "      <th>txkey</th>\n",
              "    </tr>\n",
              "  </thead>\n",
              "  <tbody>\n",
              "    <tr>\n",
              "      <th>0</th>\n",
              "      <td>6881</td>\n",
              "      <td>163188</td>\n",
              "      <td>116799</td>\n",
              "      <td>513.8</td>\n",
              "      <td>5</td>\n",
              "      <td>0</td>\n",
              "      <td>0</td>\n",
              "      <td>0</td>\n",
              "      <td>0</td>\n",
              "      <td>0</td>\n",
              "      <td>5</td>\n",
              "      <td>0</td>\n",
              "      <td>0</td>\n",
              "      <td>102</td>\n",
              "      <td>215328.0</td>\n",
              "      <td>457</td>\n",
              "      <td>59360</td>\n",
              "      <td>0</td>\n",
              "      <td>0</td>\n",
              "      <td>102</td>\n",
              "      <td>0</td>\n",
              "      <td>592489</td>\n",
              "    </tr>\n",
              "    <tr>\n",
              "      <th>1</th>\n",
              "      <td>6881</td>\n",
              "      <td>163188</td>\n",
              "      <td>116799</td>\n",
              "      <td>513.8</td>\n",
              "      <td>5</td>\n",
              "      <td>0</td>\n",
              "      <td>0</td>\n",
              "      <td>0</td>\n",
              "      <td>0</td>\n",
              "      <td>0</td>\n",
              "      <td>5</td>\n",
              "      <td>0</td>\n",
              "      <td>0</td>\n",
              "      <td>102</td>\n",
              "      <td>222007.0</td>\n",
              "      <td>457</td>\n",
              "      <td>59360</td>\n",
              "      <td>0</td>\n",
              "      <td>0</td>\n",
              "      <td>102</td>\n",
              "      <td>0</td>\n",
              "      <td>592452</td>\n",
              "    </tr>\n",
              "    <tr>\n",
              "      <th>2</th>\n",
              "      <td>6881</td>\n",
              "      <td>163188</td>\n",
              "      <td>116799</td>\n",
              "      <td>513.8</td>\n",
              "      <td>5</td>\n",
              "      <td>0</td>\n",
              "      <td>0</td>\n",
              "      <td>0</td>\n",
              "      <td>0</td>\n",
              "      <td>0</td>\n",
              "      <td>5</td>\n",
              "      <td>0</td>\n",
              "      <td>0</td>\n",
              "      <td>100</td>\n",
              "      <td>170013.0</td>\n",
              "      <td>457</td>\n",
              "      <td>59360</td>\n",
              "      <td>0</td>\n",
              "      <td>0</td>\n",
              "      <td>102</td>\n",
              "      <td>0</td>\n",
              "      <td>590212</td>\n",
              "    </tr>\n",
              "    <tr>\n",
              "      <th>3</th>\n",
              "      <td>6881</td>\n",
              "      <td>163188</td>\n",
              "      <td>116799</td>\n",
              "      <td>513.8</td>\n",
              "      <td>5</td>\n",
              "      <td>0</td>\n",
              "      <td>0</td>\n",
              "      <td>0</td>\n",
              "      <td>0</td>\n",
              "      <td>0</td>\n",
              "      <td>5</td>\n",
              "      <td>0</td>\n",
              "      <td>0</td>\n",
              "      <td>100</td>\n",
              "      <td>165914.0</td>\n",
              "      <td>457</td>\n",
              "      <td>59360</td>\n",
              "      <td>0</td>\n",
              "      <td>0</td>\n",
              "      <td>102</td>\n",
              "      <td>0</td>\n",
              "      <td>590209</td>\n",
              "    </tr>\n",
              "    <tr>\n",
              "      <th>4</th>\n",
              "      <td>6881</td>\n",
              "      <td>163188</td>\n",
              "      <td>116799</td>\n",
              "      <td>513.8</td>\n",
              "      <td>5</td>\n",
              "      <td>0</td>\n",
              "      <td>0</td>\n",
              "      <td>0</td>\n",
              "      <td>0</td>\n",
              "      <td>0</td>\n",
              "      <td>5</td>\n",
              "      <td>0</td>\n",
              "      <td>0</td>\n",
              "      <td>102</td>\n",
              "      <td>215311.0</td>\n",
              "      <td>457</td>\n",
              "      <td>59360</td>\n",
              "      <td>0</td>\n",
              "      <td>0</td>\n",
              "      <td>102</td>\n",
              "      <td>0</td>\n",
              "      <td>592488</td>\n",
              "    </tr>\n",
              "  </tbody>\n",
              "</table>\n",
              "</div>"
            ],
            "text/plain": [
              "   acqic   bacno    cano  conam  contp  ...  ovrlt  scity  stocn  stscd   txkey\n",
              "0   6881  163188  116799  513.8      5  ...      0      0    102      0  592489\n",
              "1   6881  163188  116799  513.8      5  ...      0      0    102      0  592452\n",
              "2   6881  163188  116799  513.8      5  ...      0      0    102      0  590212\n",
              "3   6881  163188  116799  513.8      5  ...      0      0    102      0  590209\n",
              "4   6881  163188  116799  513.8      5  ...      0      0    102      0  592488\n",
              "\n",
              "[5 rows x 22 columns]"
            ]
          },
          "metadata": {
            "tags": []
          },
          "execution_count": 11
        }
      ]
    },
    {
      "cell_type": "code",
      "metadata": {
        "id": "ihrZE5nXaaW0",
        "colab_type": "code",
        "outputId": "c4f452dc-c04e-46cb-a684-14404343b40e",
        "colab": {
          "base_uri": "https://localhost:8080/",
          "height": 426
        }
      },
      "source": [
        "test.dtypes"
      ],
      "execution_count": 12,
      "outputs": [
        {
          "output_type": "execute_result",
          "data": {
            "text/plain": [
              "acqic          int64\n",
              "bacno          int64\n",
              "cano           int64\n",
              "conam        float64\n",
              "contp          int64\n",
              "csmcu          int64\n",
              "ecfg           int64\n",
              "etymd          int64\n",
              "flbmk          int64\n",
              "flg_3dsmk      int64\n",
              "hcefg          int64\n",
              "insfg          int64\n",
              "iterm          int64\n",
              "locdt          int64\n",
              "loctm        float64\n",
              "mcc            int64\n",
              "mchno          int64\n",
              "ovrlt          int64\n",
              "scity          int64\n",
              "stocn          int64\n",
              "stscd          int64\n",
              "txkey          int64\n",
              "dtype: object"
            ]
          },
          "metadata": {
            "tags": []
          },
          "execution_count": 12
        }
      ]
    },
    {
      "cell_type": "markdown",
      "metadata": {
        "id": "2c7mXvAQBM9c",
        "colab_type": "text"
      },
      "source": [
        "# one hot"
      ]
    },
    {
      "cell_type": "code",
      "metadata": {
        "id": "baEmhANcZSNl",
        "colab_type": "code",
        "colab": {}
      },
      "source": [
        "#one_hot_col = []\n",
        "\n",
        "#for col in train.drop(['fraud_ind','txkey','locdt']+le_col,axis=1).columns:\n",
        "#  len_u = len(train[col].unique())\n",
        "#  if len_u < 200:\n",
        "#    one_hot_col.append(col)\n",
        "#print(one_hot_col)\n",
        "\n",
        "#train = pd.get_dummies(train,columns=one_hot_col)\n",
        "#test = pd.get_dummies(test,columns=one_hot_col)"
      ],
      "execution_count": 0,
      "outputs": []
    },
    {
      "cell_type": "markdown",
      "metadata": {
        "id": "e9RbSLQnshoV",
        "colab_type": "text"
      },
      "source": [
        "# Aligning Training and Testing Data"
      ]
    },
    {
      "cell_type": "code",
      "metadata": {
        "id": "nL-stCXJsVgz",
        "colab_type": "code",
        "outputId": "839a911f-604a-4d8c-89b4-04e7e5f40831",
        "colab": {
          "base_uri": "https://localhost:8080/",
          "height": 88
        }
      },
      "source": [
        "print('Train shape: ', train.shape)\n",
        "print('Test shape: ', test.shape)\n",
        "\n",
        "# move out target\n",
        "train_labels = train['fraud_ind']\n",
        "train.drop('fraud_ind',axis=1,inplace=True)\n",
        "\n",
        "# Align the training and testing data, keep only columns present in both dataframes\n",
        "train, test = train.align(test, join = 'inner', axis = 1)\n",
        "\n",
        "# Add the target back in\n",
        "train['fraud_ind'] = train_labels\n",
        "\n",
        "print('Train shape: ', train.shape)\n",
        "print('Test shape: ', test.shape)"
      ],
      "execution_count": 14,
      "outputs": [
        {
          "output_type": "stream",
          "text": [
            "Train shape:  (1521787, 23)\n",
            "Test shape:  (421665, 22)\n",
            "Train shape:  (1521787, 23)\n",
            "Test shape:  (421665, 22)\n"
          ],
          "name": "stdout"
        }
      ]
    },
    {
      "cell_type": "markdown",
      "metadata": {
        "id": "2YM7ZK7NYKO9",
        "colab_type": "text"
      },
      "source": [
        "# select the x_col's unique value in both dataframe"
      ]
    },
    {
      "cell_type": "code",
      "metadata": {
        "id": "7FA_rdosYKby",
        "colab_type": "code",
        "colab": {}
      },
      "source": [
        "not_features = ['txkey','locdt','cano','bacno','fraud_ind']\n",
        "for x_col in train.drop(not_features,axis=1).columns:\n",
        "  common_values = set(train[x_col].unique()) & set(test[x_col].unique())\n",
        "  train = train.loc[train[x_col].isin(common_values),:]"
      ],
      "execution_count": 0,
      "outputs": []
    },
    {
      "cell_type": "code",
      "metadata": {
        "id": "A8eqOblGbcqn",
        "colab_type": "code",
        "colab": {
          "base_uri": "https://localhost:8080/",
          "height": 52
        },
        "outputId": "58504b00-7878-4246-b266-132fdeabdd91"
      },
      "source": [
        "print(train.shape)\n",
        "print(test.shape)"
      ],
      "execution_count": 16,
      "outputs": [
        {
          "output_type": "stream",
          "text": [
            "(1271138, 23)\n",
            "(421665, 22)\n"
          ],
          "name": "stdout"
        }
      ]
    },
    {
      "cell_type": "code",
      "metadata": {
        "id": "WXA7IfxBb6Vn",
        "colab_type": "code",
        "colab": {
          "base_uri": "https://localhost:8080/",
          "height": 52
        },
        "outputId": "d9759a7b-9a85-4974-cc05-313be8abd93b"
      },
      "source": [
        "print(train.isnull().sum().sum())\n",
        "print(test.isnull().sum().sum())"
      ],
      "execution_count": 17,
      "outputs": [
        {
          "output_type": "stream",
          "text": [
            "0\n",
            "0\n"
          ],
          "name": "stdout"
        }
      ]
    },
    {
      "cell_type": "markdown",
      "metadata": {
        "id": "jJ1gWj8wb5Oy",
        "colab_type": "text"
      },
      "source": [
        "# after data preprocessing save data "
      ]
    },
    {
      "cell_type": "code",
      "metadata": {
        "id": "kKPgxhl8b5cZ",
        "colab_type": "code",
        "outputId": "84e74caf-27c7-40db-d801-b1f1388af5f4",
        "colab": {
          "base_uri": "https://localhost:8080/",
          "height": 35
        }
      },
      "source": [
        "train.to_csv(\"/content/drive/My Drive/玉山人工智慧比賽數據/train_預處理完.csv\")\n",
        "test.to_csv(\"/content/drive/My Drive/玉山人工智慧比賽數據/test_預處理完.csv\")\n",
        "print('save done!')"
      ],
      "execution_count": 18,
      "outputs": [
        {
          "output_type": "stream",
          "text": [
            "save done!\n"
          ],
          "name": "stdout"
        }
      ]
    },
    {
      "cell_type": "code",
      "metadata": {
        "id": "rq7plU3me_y_",
        "colab_type": "code",
        "colab": {}
      },
      "source": [
        ""
      ],
      "execution_count": 0,
      "outputs": []
    }
  ]
}