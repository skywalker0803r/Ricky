{
  "nbformat": 4,
  "nbformat_minor": 0,
  "metadata": {
    "colab": {
      "name": "CNN_stock.ipynb",
      "version": "0.3.2",
      "provenance": [],
      "collapsed_sections": [],
      "include_colab_link": true
    },
    "kernelspec": {
      "name": "python3",
      "display_name": "Python 3"
    },
    "accelerator": "GPU"
  },
  "cells": [
    {
      "cell_type": "markdown",
      "metadata": {
        "id": "view-in-github",
        "colab_type": "text"
      },
      "source": [
        "<a href=\"https://colab.research.google.com/github/skywalker0803r/Ricky/blob/master/CNN_stock_v6.ipynb\" target=\"_parent\"><img src=\"https://colab.research.google.com/assets/colab-badge.svg\" alt=\"Open In Colab\"/></a>"
      ]
    },
    {
      "cell_type": "code",
      "metadata": {
        "id": "g7NPpY26_qJm",
        "colab_type": "code",
        "colab": {}
      },
      "source": [
        "import pandas as pd\n",
        "import seaborn as sns\n",
        "import pandas_datareader.data as web\n",
        "#!pip install finta\n",
        "SID = '6239.tw'\n",
        "df = web.DataReader(SID,'yahoo',start=\"2000-01-01\")\n",
        "df = df.iloc[:,:5]"
      ],
      "execution_count": 0,
      "outputs": []
    },
    {
      "cell_type": "markdown",
      "metadata": {
        "id": "6vaRLIuvJlZ7",
        "colab_type": "text"
      },
      "source": [
        "# 載入資料"
      ]
    },
    {
      "cell_type": "code",
      "metadata": {
        "id": "kRKHlNGl_7JV",
        "colab_type": "code",
        "outputId": "a9c6dd12-6de3-44a6-ae07-c42a04ea394e",
        "colab": {
          "base_uri": "https://localhost:8080/",
          "height": 182
        }
      },
      "source": [
        "print(df.shape)\n",
        "df.head(3)"
      ],
      "execution_count": 2,
      "outputs": [
        {
          "output_type": "stream",
          "text": [
            "(3663, 5)\n"
          ],
          "name": "stdout"
        },
        {
          "output_type": "execute_result",
          "data": {
            "text/html": [
              "<div>\n",
              "<style scoped>\n",
              "    .dataframe tbody tr th:only-of-type {\n",
              "        vertical-align: middle;\n",
              "    }\n",
              "\n",
              "    .dataframe tbody tr th {\n",
              "        vertical-align: top;\n",
              "    }\n",
              "\n",
              "    .dataframe thead th {\n",
              "        text-align: right;\n",
              "    }\n",
              "</style>\n",
              "<table border=\"1\" class=\"dataframe\">\n",
              "  <thead>\n",
              "    <tr style=\"text-align: right;\">\n",
              "      <th></th>\n",
              "      <th>High</th>\n",
              "      <th>Low</th>\n",
              "      <th>Open</th>\n",
              "      <th>Close</th>\n",
              "      <th>Volume</th>\n",
              "    </tr>\n",
              "    <tr>\n",
              "      <th>Date</th>\n",
              "      <th></th>\n",
              "      <th></th>\n",
              "      <th></th>\n",
              "      <th></th>\n",
              "      <th></th>\n",
              "    </tr>\n",
              "  </thead>\n",
              "  <tbody>\n",
              "    <tr>\n",
              "      <th>2004-11-08</th>\n",
              "      <td>37.800098</td>\n",
              "      <td>37.251499</td>\n",
              "      <td>37.800098</td>\n",
              "      <td>37.525799</td>\n",
              "      <td>4.731376e+09</td>\n",
              "    </tr>\n",
              "    <tr>\n",
              "      <th>2004-11-09</th>\n",
              "      <td>38.074402</td>\n",
              "      <td>37.251499</td>\n",
              "      <td>37.525799</td>\n",
              "      <td>37.525799</td>\n",
              "      <td>4.255591e+09</td>\n",
              "    </tr>\n",
              "    <tr>\n",
              "      <th>2004-11-10</th>\n",
              "      <td>37.800098</td>\n",
              "      <td>37.251499</td>\n",
              "      <td>37.800098</td>\n",
              "      <td>37.525799</td>\n",
              "      <td>4.838070e+09</td>\n",
              "    </tr>\n",
              "  </tbody>\n",
              "</table>\n",
              "</div>"
            ],
            "text/plain": [
              "                 High        Low       Open      Close        Volume\n",
              "Date                                                                \n",
              "2004-11-08  37.800098  37.251499  37.800098  37.525799  4.731376e+09\n",
              "2004-11-09  38.074402  37.251499  37.525799  37.525799  4.255591e+09\n",
              "2004-11-10  37.800098  37.251499  37.800098  37.525799  4.838070e+09"
            ]
          },
          "metadata": {
            "tags": []
          },
          "execution_count": 2
        }
      ]
    },
    {
      "cell_type": "code",
      "metadata": {
        "id": "9YvzTIEDddVx",
        "colab_type": "code",
        "outputId": "6d4528cb-2a89-47c2-b8f7-30a4cebe3707",
        "colab": {
          "base_uri": "https://localhost:8080/",
          "height": 166
        }
      },
      "source": [
        "df.tail(3)"
      ],
      "execution_count": 3,
      "outputs": [
        {
          "output_type": "execute_result",
          "data": {
            "text/html": [
              "<div>\n",
              "<style scoped>\n",
              "    .dataframe tbody tr th:only-of-type {\n",
              "        vertical-align: middle;\n",
              "    }\n",
              "\n",
              "    .dataframe tbody tr th {\n",
              "        vertical-align: top;\n",
              "    }\n",
              "\n",
              "    .dataframe thead th {\n",
              "        text-align: right;\n",
              "    }\n",
              "</style>\n",
              "<table border=\"1\" class=\"dataframe\">\n",
              "  <thead>\n",
              "    <tr style=\"text-align: right;\">\n",
              "      <th></th>\n",
              "      <th>High</th>\n",
              "      <th>Low</th>\n",
              "      <th>Open</th>\n",
              "      <th>Close</th>\n",
              "      <th>Volume</th>\n",
              "    </tr>\n",
              "    <tr>\n",
              "      <th>Date</th>\n",
              "      <th></th>\n",
              "      <th></th>\n",
              "      <th></th>\n",
              "      <th></th>\n",
              "      <th></th>\n",
              "    </tr>\n",
              "  </thead>\n",
              "  <tbody>\n",
              "    <tr>\n",
              "      <th>2019-09-04</th>\n",
              "      <td>77.900002</td>\n",
              "      <td>76.5</td>\n",
              "      <td>77.099998</td>\n",
              "      <td>77.400002</td>\n",
              "      <td>2390737.0</td>\n",
              "    </tr>\n",
              "    <tr>\n",
              "      <th>2019-09-05</th>\n",
              "      <td>79.300003</td>\n",
              "      <td>77.5</td>\n",
              "      <td>78.500000</td>\n",
              "      <td>78.900002</td>\n",
              "      <td>3876053.0</td>\n",
              "    </tr>\n",
              "    <tr>\n",
              "      <th>2019-09-06</th>\n",
              "      <td>82.199997</td>\n",
              "      <td>80.0</td>\n",
              "      <td>80.000000</td>\n",
              "      <td>81.500000</td>\n",
              "      <td>10030061.0</td>\n",
              "    </tr>\n",
              "  </tbody>\n",
              "</table>\n",
              "</div>"
            ],
            "text/plain": [
              "                 High   Low       Open      Close      Volume\n",
              "Date                                                         \n",
              "2019-09-04  77.900002  76.5  77.099998  77.400002   2390737.0\n",
              "2019-09-05  79.300003  77.5  78.500000  78.900002   3876053.0\n",
              "2019-09-06  82.199997  80.0  80.000000  81.500000  10030061.0"
            ]
          },
          "metadata": {
            "tags": []
          },
          "execution_count": 3
        }
      ]
    },
    {
      "cell_type": "markdown",
      "metadata": {
        "id": "ZsFMU68NI85j",
        "colab_type": "text"
      },
      "source": [
        "# Labeling(計算return)"
      ]
    },
    {
      "cell_type": "code",
      "metadata": {
        "id": "WaNG41cBI9BT",
        "colab_type": "code",
        "colab": {}
      },
      "source": [
        "#今天股價 = df['Close']\n",
        "#昨天股價 = df['Close'].shift(1)\n",
        "#df['return%'] = (今天股價/昨天股價-1)*100\n",
        "#print(df['return%'].min(),df['return%'].max())\n",
        "#sns.distplot(df['return%'].dropna())\n",
        "#df.tail()"
      ],
      "execution_count": 0,
      "outputs": []
    },
    {
      "cell_type": "markdown",
      "metadata": {
        "id": "HegmuvBN0FKD",
        "colab_type": "text"
      },
      "source": [
        "# Label triple_barrier"
      ]
    },
    {
      "cell_type": "code",
      "metadata": {
        "id": "RFsmFQfF0FXt",
        "colab_type": "code",
        "colab": {}
      },
      "source": [
        "import numpy as np\n",
        "import math\n",
        "def triple_barrier(price, ub, lb, max_period):\n",
        "\n",
        "    def end_price(s):\n",
        "        return np.append(s[(s / s[0] > ub) | (s / s[0] < lb)], s[-1])[0]/s[0]\n",
        "    \n",
        "    r = np.array(range(max_period))\n",
        "    \n",
        "    def end_time(s):\n",
        "        return np.append(r[(s / s[0] > ub) | (s / s[0] < lb)], max_period-1)[0]\n",
        "\n",
        "    p = price.rolling(max_period).apply(end_price, raw=True).shift(-max_period+1)\n",
        "    t = price.rolling(max_period).apply(end_time, raw=True).shift(-max_period+1)\n",
        "    t = pd.Series([t.index[int(k+i)] if not math.isnan(k+i) else np.datetime64('NaT') \n",
        "                   for i, k in enumerate(t)], index=t.index).dropna()\n",
        "\n",
        "    signal = pd.Series(0, p.index)\n",
        "    signal.loc[p > ub] = 1\n",
        "    signal.loc[p < lb] = -1\n",
        "    ret = pd.DataFrame({'triple_barrier_profit':p, 'triple_barrier_sell_time':t, 'triple_barrier_signal':signal})\n",
        "\n",
        "    return ret\n",
        "\n",
        "ret = triple_barrier(df.Close, 1.07, 0.97, 20)['triple_barrier_signal']\n",
        "df = df.join(ret)"
      ],
      "execution_count": 0,
      "outputs": []
    },
    {
      "cell_type": "code",
      "metadata": {
        "id": "MHRZWGG40a3q",
        "colab_type": "code",
        "outputId": "c8a2257b-5653-4159-f692-08c3287d47ef",
        "colab": {
          "base_uri": "https://localhost:8080/",
          "height": 669
        }
      },
      "source": [
        "df.tail(20)"
      ],
      "execution_count": 6,
      "outputs": [
        {
          "output_type": "execute_result",
          "data": {
            "text/html": [
              "<div>\n",
              "<style scoped>\n",
              "    .dataframe tbody tr th:only-of-type {\n",
              "        vertical-align: middle;\n",
              "    }\n",
              "\n",
              "    .dataframe tbody tr th {\n",
              "        vertical-align: top;\n",
              "    }\n",
              "\n",
              "    .dataframe thead th {\n",
              "        text-align: right;\n",
              "    }\n",
              "</style>\n",
              "<table border=\"1\" class=\"dataframe\">\n",
              "  <thead>\n",
              "    <tr style=\"text-align: right;\">\n",
              "      <th></th>\n",
              "      <th>High</th>\n",
              "      <th>Low</th>\n",
              "      <th>Open</th>\n",
              "      <th>Close</th>\n",
              "      <th>Volume</th>\n",
              "      <th>triple_barrier_signal</th>\n",
              "    </tr>\n",
              "    <tr>\n",
              "      <th>Date</th>\n",
              "      <th></th>\n",
              "      <th></th>\n",
              "      <th></th>\n",
              "      <th></th>\n",
              "      <th></th>\n",
              "      <th></th>\n",
              "    </tr>\n",
              "  </thead>\n",
              "  <tbody>\n",
              "    <tr>\n",
              "      <th>2019-08-08</th>\n",
              "      <td>75.300003</td>\n",
              "      <td>74.099998</td>\n",
              "      <td>74.500000</td>\n",
              "      <td>74.400002</td>\n",
              "      <td>2299332.0</td>\n",
              "      <td>-1</td>\n",
              "    </tr>\n",
              "    <tr>\n",
              "      <th>2019-08-12</th>\n",
              "      <td>74.800003</td>\n",
              "      <td>73.300003</td>\n",
              "      <td>74.199997</td>\n",
              "      <td>73.800003</td>\n",
              "      <td>1655406.0</td>\n",
              "      <td>0</td>\n",
              "    </tr>\n",
              "    <tr>\n",
              "      <th>2019-08-13</th>\n",
              "      <td>74.000000</td>\n",
              "      <td>73.099998</td>\n",
              "      <td>73.800003</td>\n",
              "      <td>73.400002</td>\n",
              "      <td>1558224.0</td>\n",
              "      <td>0</td>\n",
              "    </tr>\n",
              "    <tr>\n",
              "      <th>2019-08-14</th>\n",
              "      <td>74.500000</td>\n",
              "      <td>73.300003</td>\n",
              "      <td>74.300003</td>\n",
              "      <td>73.300003</td>\n",
              "      <td>2342668.0</td>\n",
              "      <td>0</td>\n",
              "    </tr>\n",
              "    <tr>\n",
              "      <th>2019-08-15</th>\n",
              "      <td>72.900002</td>\n",
              "      <td>71.800003</td>\n",
              "      <td>72.699997</td>\n",
              "      <td>71.900002</td>\n",
              "      <td>2174212.0</td>\n",
              "      <td>0</td>\n",
              "    </tr>\n",
              "    <tr>\n",
              "      <th>2019-08-16</th>\n",
              "      <td>72.699997</td>\n",
              "      <td>71.900002</td>\n",
              "      <td>72.000000</td>\n",
              "      <td>72.000000</td>\n",
              "      <td>2113298.0</td>\n",
              "      <td>0</td>\n",
              "    </tr>\n",
              "    <tr>\n",
              "      <th>2019-08-19</th>\n",
              "      <td>73.400002</td>\n",
              "      <td>72.400002</td>\n",
              "      <td>72.599998</td>\n",
              "      <td>73.000000</td>\n",
              "      <td>1476641.0</td>\n",
              "      <td>0</td>\n",
              "    </tr>\n",
              "    <tr>\n",
              "      <th>2019-08-20</th>\n",
              "      <td>75.199997</td>\n",
              "      <td>73.900002</td>\n",
              "      <td>74.000000</td>\n",
              "      <td>74.400002</td>\n",
              "      <td>3059700.0</td>\n",
              "      <td>0</td>\n",
              "    </tr>\n",
              "    <tr>\n",
              "      <th>2019-08-21</th>\n",
              "      <td>74.900002</td>\n",
              "      <td>74.000000</td>\n",
              "      <td>74.800003</td>\n",
              "      <td>74.000000</td>\n",
              "      <td>1957183.0</td>\n",
              "      <td>0</td>\n",
              "    </tr>\n",
              "    <tr>\n",
              "      <th>2019-08-22</th>\n",
              "      <td>75.199997</td>\n",
              "      <td>74.400002</td>\n",
              "      <td>74.599998</td>\n",
              "      <td>74.800003</td>\n",
              "      <td>2106009.0</td>\n",
              "      <td>0</td>\n",
              "    </tr>\n",
              "    <tr>\n",
              "      <th>2019-08-23</th>\n",
              "      <td>75.400002</td>\n",
              "      <td>74.099998</td>\n",
              "      <td>74.800003</td>\n",
              "      <td>75.099998</td>\n",
              "      <td>2512628.0</td>\n",
              "      <td>0</td>\n",
              "    </tr>\n",
              "    <tr>\n",
              "      <th>2019-08-27</th>\n",
              "      <td>73.900002</td>\n",
              "      <td>72.900002</td>\n",
              "      <td>73.599998</td>\n",
              "      <td>73.599998</td>\n",
              "      <td>3739241.0</td>\n",
              "      <td>0</td>\n",
              "    </tr>\n",
              "    <tr>\n",
              "      <th>2019-08-28</th>\n",
              "      <td>74.099998</td>\n",
              "      <td>73.199997</td>\n",
              "      <td>73.599998</td>\n",
              "      <td>73.800003</td>\n",
              "      <td>1228076.0</td>\n",
              "      <td>0</td>\n",
              "    </tr>\n",
              "    <tr>\n",
              "      <th>2019-08-29</th>\n",
              "      <td>74.199997</td>\n",
              "      <td>73.400002</td>\n",
              "      <td>73.800003</td>\n",
              "      <td>73.900002</td>\n",
              "      <td>1213112.0</td>\n",
              "      <td>0</td>\n",
              "    </tr>\n",
              "    <tr>\n",
              "      <th>2019-08-30</th>\n",
              "      <td>75.199997</td>\n",
              "      <td>74.199997</td>\n",
              "      <td>74.500000</td>\n",
              "      <td>75.099998</td>\n",
              "      <td>4417958.0</td>\n",
              "      <td>0</td>\n",
              "    </tr>\n",
              "    <tr>\n",
              "      <th>2019-09-02</th>\n",
              "      <td>76.500000</td>\n",
              "      <td>75.400002</td>\n",
              "      <td>76.000000</td>\n",
              "      <td>76.300003</td>\n",
              "      <td>1867471.0</td>\n",
              "      <td>0</td>\n",
              "    </tr>\n",
              "    <tr>\n",
              "      <th>2019-09-03</th>\n",
              "      <td>78.000000</td>\n",
              "      <td>76.199997</td>\n",
              "      <td>76.500000</td>\n",
              "      <td>77.000000</td>\n",
              "      <td>3564478.0</td>\n",
              "      <td>0</td>\n",
              "    </tr>\n",
              "    <tr>\n",
              "      <th>2019-09-04</th>\n",
              "      <td>77.900002</td>\n",
              "      <td>76.500000</td>\n",
              "      <td>77.099998</td>\n",
              "      <td>77.400002</td>\n",
              "      <td>2390737.0</td>\n",
              "      <td>0</td>\n",
              "    </tr>\n",
              "    <tr>\n",
              "      <th>2019-09-05</th>\n",
              "      <td>79.300003</td>\n",
              "      <td>77.500000</td>\n",
              "      <td>78.500000</td>\n",
              "      <td>78.900002</td>\n",
              "      <td>3876053.0</td>\n",
              "      <td>0</td>\n",
              "    </tr>\n",
              "    <tr>\n",
              "      <th>2019-09-06</th>\n",
              "      <td>82.199997</td>\n",
              "      <td>80.000000</td>\n",
              "      <td>80.000000</td>\n",
              "      <td>81.500000</td>\n",
              "      <td>10030061.0</td>\n",
              "      <td>0</td>\n",
              "    </tr>\n",
              "  </tbody>\n",
              "</table>\n",
              "</div>"
            ],
            "text/plain": [
              "                 High        Low  ...      Volume  triple_barrier_signal\n",
              "Date                              ...                                   \n",
              "2019-08-08  75.300003  74.099998  ...   2299332.0                     -1\n",
              "2019-08-12  74.800003  73.300003  ...   1655406.0                      0\n",
              "2019-08-13  74.000000  73.099998  ...   1558224.0                      0\n",
              "2019-08-14  74.500000  73.300003  ...   2342668.0                      0\n",
              "2019-08-15  72.900002  71.800003  ...   2174212.0                      0\n",
              "2019-08-16  72.699997  71.900002  ...   2113298.0                      0\n",
              "2019-08-19  73.400002  72.400002  ...   1476641.0                      0\n",
              "2019-08-20  75.199997  73.900002  ...   3059700.0                      0\n",
              "2019-08-21  74.900002  74.000000  ...   1957183.0                      0\n",
              "2019-08-22  75.199997  74.400002  ...   2106009.0                      0\n",
              "2019-08-23  75.400002  74.099998  ...   2512628.0                      0\n",
              "2019-08-27  73.900002  72.900002  ...   3739241.0                      0\n",
              "2019-08-28  74.099998  73.199997  ...   1228076.0                      0\n",
              "2019-08-29  74.199997  73.400002  ...   1213112.0                      0\n",
              "2019-08-30  75.199997  74.199997  ...   4417958.0                      0\n",
              "2019-09-02  76.500000  75.400002  ...   1867471.0                      0\n",
              "2019-09-03  78.000000  76.199997  ...   3564478.0                      0\n",
              "2019-09-04  77.900002  76.500000  ...   2390737.0                      0\n",
              "2019-09-05  79.300003  77.500000  ...   3876053.0                      0\n",
              "2019-09-06  82.199997  80.000000  ...  10030061.0                      0\n",
              "\n",
              "[20 rows x 6 columns]"
            ]
          },
          "metadata": {
            "tags": []
          },
          "execution_count": 6
        }
      ]
    },
    {
      "cell_type": "code",
      "metadata": {
        "id": "Qti5Zd4-jOrH",
        "colab_type": "code",
        "outputId": "1502608f-846e-4638-c34f-81c293b75e31",
        "colab": {
          "base_uri": "https://localhost:8080/",
          "height": 335
        }
      },
      "source": [
        "import matplotlib.pyplot as plt\n",
        "buy = df[df['triple_barrier_signal']==1]['Close']\n",
        "sell = df[df['triple_barrier_signal']==-1]['Close']\n",
        "df['Close'][0:40].plot()#後20筆是前20筆的驗證\n",
        "plt.scatter(buy.index,buy.values,color='red')\n",
        "plt.scatter(sell.index,sell.values,color='black')\n",
        "lb = df['Close'][0:40].mean() - 3*df['Close'][0:40].std()\n",
        "ub = df['Close'][0:40].mean() + 3*df['Close'][0:40].std()\n",
        "plt.ylim(lb,ub)"
      ],
      "execution_count": 7,
      "outputs": [
        {
          "output_type": "execute_result",
          "data": {
            "text/plain": [
              "(33.41837255218191, 42.240241987918196)"
            ]
          },
          "metadata": {
            "tags": []
          },
          "execution_count": 7
        },
        {
          "output_type": "display_data",
          "data": {
            "image/png": "[encoded data removed]",
            "text/plain": [
              "<Figure size 432x288 with 1 Axes>"
            ]
          },
          "metadata": {
            "tags": []
          }
        }
      ]
    },
    {
      "cell_type": "markdown",
      "metadata": {
        "id": "HUtEilqGfIJl",
        "colab_type": "text"
      },
      "source": [
        "# 建立ohlcv"
      ]
    },
    {
      "cell_type": "code",
      "metadata": {
        "id": "FdFhLZkYfKpN",
        "colab_type": "code",
        "colab": {}
      },
      "source": [
        "from finta import TA\n",
        "ohlcv = df[['Open','High','Low','Close','Volume']]\n",
        "ohlcv.columns = ['open','high','low','close','volume']"
      ],
      "execution_count": 0,
      "outputs": []
    },
    {
      "cell_type": "markdown",
      "metadata": {
        "id": "9K9RepGQwbQQ",
        "colab_type": "text"
      },
      "source": [
        "# 計算技術指標RSI"
      ]
    },
    {
      "cell_type": "code",
      "metadata": {
        "id": "ZZkpnqk9e0Rw",
        "colab_type": "code",
        "outputId": "8baa784a-553d-47c4-aaef-6ad7fcba0558",
        "colab": {
          "base_uri": "https://localhost:8080/",
          "height": 642
        }
      },
      "source": [
        "df['RSI'] = TA.RSI(ohlcv)\n",
        "print(df['RSI'].describe())\n",
        "sns.distplot(df['RSI'].dropna())\n",
        "df.tail()"
      ],
      "execution_count": 9,
      "outputs": [
        {
          "output_type": "stream",
          "text": [
            "count    3660.000000\n",
            "mean       51.328173\n",
            "std        15.432847\n",
            "min         0.000000\n",
            "25%        41.001507\n",
            "50%        51.380541\n",
            "75%        61.912457\n",
            "max        95.170059\n",
            "Name: RSI, dtype: float64\n"
          ],
          "name": "stdout"
        },
        {
          "output_type": "execute_result",
          "data": {
            "text/html": [
              "<div>\n",
              "<style scoped>\n",
              "    .dataframe tbody tr th:only-of-type {\n",
              "        vertical-align: middle;\n",
              "    }\n",
              "\n",
              "    .dataframe tbody tr th {\n",
              "        vertical-align: top;\n",
              "    }\n",
              "\n",
              "    .dataframe thead th {\n",
              "        text-align: right;\n",
              "    }\n",
              "</style>\n",
              "<table border=\"1\" class=\"dataframe\">\n",
              "  <thead>\n",
              "    <tr style=\"text-align: right;\">\n",
              "      <th></th>\n",
              "      <th>High</th>\n",
              "      <th>Low</th>\n",
              "      <th>Open</th>\n",
              "      <th>Close</th>\n",
              "      <th>Volume</th>\n",
              "      <th>triple_barrier_signal</th>\n",
              "      <th>RSI</th>\n",
              "    </tr>\n",
              "    <tr>\n",
              "      <th>Date</th>\n",
              "      <th></th>\n",
              "      <th></th>\n",
              "      <th></th>\n",
              "      <th></th>\n",
              "      <th></th>\n",
              "      <th></th>\n",
              "      <th></th>\n",
              "    </tr>\n",
              "  </thead>\n",
              "  <tbody>\n",
              "    <tr>\n",
              "      <th>2019-09-02</th>\n",
              "      <td>76.500000</td>\n",
              "      <td>75.400002</td>\n",
              "      <td>76.000000</td>\n",
              "      <td>76.300003</td>\n",
              "      <td>1867471.0</td>\n",
              "      <td>0</td>\n",
              "      <td>63.083007</td>\n",
              "    </tr>\n",
              "    <tr>\n",
              "      <th>2019-09-03</th>\n",
              "      <td>78.000000</td>\n",
              "      <td>76.199997</td>\n",
              "      <td>76.500000</td>\n",
              "      <td>77.000000</td>\n",
              "      <td>3564478.0</td>\n",
              "      <td>0</td>\n",
              "      <td>67.290735</td>\n",
              "    </tr>\n",
              "    <tr>\n",
              "      <th>2019-09-04</th>\n",
              "      <td>77.900002</td>\n",
              "      <td>76.500000</td>\n",
              "      <td>77.099998</td>\n",
              "      <td>77.400002</td>\n",
              "      <td>2390737.0</td>\n",
              "      <td>0</td>\n",
              "      <td>69.577051</td>\n",
              "    </tr>\n",
              "    <tr>\n",
              "      <th>2019-09-05</th>\n",
              "      <td>79.300003</td>\n",
              "      <td>77.500000</td>\n",
              "      <td>78.500000</td>\n",
              "      <td>78.900002</td>\n",
              "      <td>3876053.0</td>\n",
              "      <td>0</td>\n",
              "      <td>76.641619</td>\n",
              "    </tr>\n",
              "    <tr>\n",
              "      <th>2019-09-06</th>\n",
              "      <td>82.199997</td>\n",
              "      <td>80.000000</td>\n",
              "      <td>80.000000</td>\n",
              "      <td>81.500000</td>\n",
              "      <td>10030061.0</td>\n",
              "      <td>0</td>\n",
              "      <td>84.049434</td>\n",
              "    </tr>\n",
              "  </tbody>\n",
              "</table>\n",
              "</div>"
            ],
            "text/plain": [
              "                 High        Low  ...  triple_barrier_signal        RSI\n",
              "Date                              ...                                  \n",
              "2019-09-02  76.500000  75.400002  ...                      0  63.083007\n",
              "2019-09-03  78.000000  76.199997  ...                      0  67.290735\n",
              "2019-09-04  77.900002  76.500000  ...                      0  69.577051\n",
              "2019-09-05  79.300003  77.500000  ...                      0  76.641619\n",
              "2019-09-06  82.199997  80.000000  ...                      0  84.049434\n",
              "\n",
              "[5 rows x 7 columns]"
            ]
          },
          "metadata": {
            "tags": []
          },
          "execution_count": 9
        },
        {
          "output_type": "display_data",
          "data": {
            "image/png": "[encoded data removed]",
            "text/plain": [
              "<Figure size 432x288 with 1 Axes>"
            ]
          },
          "metadata": {
            "tags": []
          }
        }
      ]
    },
    {
      "cell_type": "markdown",
      "metadata": {
        "id": "fZXZuQe93pJE",
        "colab_type": "text"
      },
      "source": [
        "# 計算威廉指標"
      ]
    },
    {
      "cell_type": "code",
      "metadata": {
        "id": "Q8_qx-dnfPJa",
        "colab_type": "code",
        "outputId": "72148311-58c2-4917-b977-f959b3f33a84",
        "colab": {
          "base_uri": "https://localhost:8080/",
          "height": 642
        }
      },
      "source": [
        "df['Williams %R'] = TA.WILLIAMS(ohlcv)\n",
        "print(df['Williams %R'].describe())\n",
        "sns.distplot(df['Williams %R'].dropna())\n",
        "df.tail()"
      ],
      "execution_count": 10,
      "outputs": [
        {
          "output_type": "stream",
          "text": [
            "count    3650.000000\n",
            "mean      -47.995500\n",
            "std        29.252325\n",
            "min      -100.000000\n",
            "25%       -73.799801\n",
            "50%       -45.945800\n",
            "75%       -21.999969\n",
            "max        -0.000000\n",
            "Name: Williams %R, dtype: float64\n"
          ],
          "name": "stdout"
        },
        {
          "output_type": "execute_result",
          "data": {
            "text/html": [
              "<div>\n",
              "<style scoped>\n",
              "    .dataframe tbody tr th:only-of-type {\n",
              "        vertical-align: middle;\n",
              "    }\n",
              "\n",
              "    .dataframe tbody tr th {\n",
              "        vertical-align: top;\n",
              "    }\n",
              "\n",
              "    .dataframe thead th {\n",
              "        text-align: right;\n",
              "    }\n",
              "</style>\n",
              "<table border=\"1\" class=\"dataframe\">\n",
              "  <thead>\n",
              "    <tr style=\"text-align: right;\">\n",
              "      <th></th>\n",
              "      <th>High</th>\n",
              "      <th>Low</th>\n",
              "      <th>Open</th>\n",
              "      <th>Close</th>\n",
              "      <th>Volume</th>\n",
              "      <th>triple_barrier_signal</th>\n",
              "      <th>RSI</th>\n",
              "      <th>Williams %R</th>\n",
              "    </tr>\n",
              "    <tr>\n",
              "      <th>Date</th>\n",
              "      <th></th>\n",
              "      <th></th>\n",
              "      <th></th>\n",
              "      <th></th>\n",
              "      <th></th>\n",
              "      <th></th>\n",
              "      <th></th>\n",
              "      <th></th>\n",
              "    </tr>\n",
              "  </thead>\n",
              "  <tbody>\n",
              "    <tr>\n",
              "      <th>2019-09-02</th>\n",
              "      <td>76.500000</td>\n",
              "      <td>75.400002</td>\n",
              "      <td>76.000000</td>\n",
              "      <td>76.300003</td>\n",
              "      <td>1867471.0</td>\n",
              "      <td>0</td>\n",
              "      <td>63.083007</td>\n",
              "      <td>-4.255257</td>\n",
              "    </tr>\n",
              "    <tr>\n",
              "      <th>2019-09-03</th>\n",
              "      <td>78.000000</td>\n",
              "      <td>76.199997</td>\n",
              "      <td>76.500000</td>\n",
              "      <td>77.000000</td>\n",
              "      <td>3564478.0</td>\n",
              "      <td>0</td>\n",
              "      <td>67.290735</td>\n",
              "      <td>-16.129040</td>\n",
              "    </tr>\n",
              "    <tr>\n",
              "      <th>2019-09-04</th>\n",
              "      <td>77.900002</td>\n",
              "      <td>76.500000</td>\n",
              "      <td>77.099998</td>\n",
              "      <td>77.400002</td>\n",
              "      <td>2390737.0</td>\n",
              "      <td>0</td>\n",
              "      <td>69.577051</td>\n",
              "      <td>-9.677400</td>\n",
              "    </tr>\n",
              "    <tr>\n",
              "      <th>2019-09-05</th>\n",
              "      <td>79.300003</td>\n",
              "      <td>77.500000</td>\n",
              "      <td>78.500000</td>\n",
              "      <td>78.900002</td>\n",
              "      <td>3876053.0</td>\n",
              "      <td>0</td>\n",
              "      <td>76.641619</td>\n",
              "      <td>-5.405425</td>\n",
              "    </tr>\n",
              "    <tr>\n",
              "      <th>2019-09-06</th>\n",
              "      <td>82.199997</td>\n",
              "      <td>80.000000</td>\n",
              "      <td>80.000000</td>\n",
              "      <td>81.500000</td>\n",
              "      <td>10030061.0</td>\n",
              "      <td>0</td>\n",
              "      <td>84.049434</td>\n",
              "      <td>-7.142829</td>\n",
              "    </tr>\n",
              "  </tbody>\n",
              "</table>\n",
              "</div>"
            ],
            "text/plain": [
              "                 High        Low  ...        RSI  Williams %R\n",
              "Date                              ...                        \n",
              "2019-09-02  76.500000  75.400002  ...  63.083007    -4.255257\n",
              "2019-09-03  78.000000  76.199997  ...  67.290735   -16.129040\n",
              "2019-09-04  77.900002  76.500000  ...  69.577051    -9.677400\n",
              "2019-09-05  79.300003  77.500000  ...  76.641619    -5.405425\n",
              "2019-09-06  82.199997  80.000000  ...  84.049434    -7.142829\n",
              "\n",
              "[5 rows x 8 columns]"
            ]
          },
          "metadata": {
            "tags": []
          },
          "execution_count": 10
        },
        {
          "output_type": "display_data",
          "data": {
            "image/png": "[encoded data removed]",
            "text/plain": [
              "<Figure size 432x288 with 1 Axes>"
            ]
          },
          "metadata": {
            "tags": []
          }
        }
      ]
    },
    {
      "cell_type": "markdown",
      "metadata": {
        "id": "xK4jb6KTDdGa",
        "colab_type": "text"
      },
      "source": [
        "# SMA"
      ]
    },
    {
      "cell_type": "code",
      "metadata": {
        "id": "osETw-NkfgfL",
        "colab_type": "code",
        "outputId": "464d108e-5190-42ea-b5a2-6c3d9715ebd9",
        "colab": {
          "base_uri": "https://localhost:8080/",
          "height": 642
        }
      },
      "source": [
        "df['SMA'] = TA.SMA(ohlcv)\n",
        "print(df['SMA'].describe())\n",
        "sns.distplot(df['SMA'].dropna())\n",
        "df.tail()"
      ],
      "execution_count": 11,
      "outputs": [
        {
          "output_type": "stream",
          "text": [
            "count    3623.000000\n",
            "mean       70.844162\n",
            "std        17.395234\n",
            "min        37.668158\n",
            "25%        55.109574\n",
            "50%        69.175610\n",
            "75%        88.028161\n",
            "max       102.990583\n",
            "Name: SMA, dtype: float64\n"
          ],
          "name": "stdout"
        },
        {
          "output_type": "execute_result",
          "data": {
            "text/html": [
              "<div>\n",
              "<style scoped>\n",
              "    .dataframe tbody tr th:only-of-type {\n",
              "        vertical-align: middle;\n",
              "    }\n",
              "\n",
              "    .dataframe tbody tr th {\n",
              "        vertical-align: top;\n",
              "    }\n",
              "\n",
              "    .dataframe thead th {\n",
              "        text-align: right;\n",
              "    }\n",
              "</style>\n",
              "<table border=\"1\" class=\"dataframe\">\n",
              "  <thead>\n",
              "    <tr style=\"text-align: right;\">\n",
              "      <th></th>\n",
              "      <th>High</th>\n",
              "      <th>Low</th>\n",
              "      <th>Open</th>\n",
              "      <th>Close</th>\n",
              "      <th>Volume</th>\n",
              "      <th>triple_barrier_signal</th>\n",
              "      <th>RSI</th>\n",
              "      <th>Williams %R</th>\n",
              "      <th>SMA</th>\n",
              "    </tr>\n",
              "    <tr>\n",
              "      <th>Date</th>\n",
              "      <th></th>\n",
              "      <th></th>\n",
              "      <th></th>\n",
              "      <th></th>\n",
              "      <th></th>\n",
              "      <th></th>\n",
              "      <th></th>\n",
              "      <th></th>\n",
              "      <th></th>\n",
              "    </tr>\n",
              "  </thead>\n",
              "  <tbody>\n",
              "    <tr>\n",
              "      <th>2019-09-02</th>\n",
              "      <td>76.500000</td>\n",
              "      <td>75.400002</td>\n",
              "      <td>76.000000</td>\n",
              "      <td>76.300003</td>\n",
              "      <td>1867471.0</td>\n",
              "      <td>0</td>\n",
              "      <td>63.083007</td>\n",
              "      <td>-4.255257</td>\n",
              "      <td>77.668293</td>\n",
              "    </tr>\n",
              "    <tr>\n",
              "      <th>2019-09-03</th>\n",
              "      <td>78.000000</td>\n",
              "      <td>76.199997</td>\n",
              "      <td>76.500000</td>\n",
              "      <td>77.000000</td>\n",
              "      <td>3564478.0</td>\n",
              "      <td>0</td>\n",
              "      <td>67.290735</td>\n",
              "      <td>-16.129040</td>\n",
              "      <td>77.646342</td>\n",
              "    </tr>\n",
              "    <tr>\n",
              "      <th>2019-09-04</th>\n",
              "      <td>77.900002</td>\n",
              "      <td>76.500000</td>\n",
              "      <td>77.099998</td>\n",
              "      <td>77.400002</td>\n",
              "      <td>2390737.0</td>\n",
              "      <td>0</td>\n",
              "      <td>69.577051</td>\n",
              "      <td>-9.677400</td>\n",
              "      <td>77.631708</td>\n",
              "    </tr>\n",
              "    <tr>\n",
              "      <th>2019-09-05</th>\n",
              "      <td>79.300003</td>\n",
              "      <td>77.500000</td>\n",
              "      <td>78.500000</td>\n",
              "      <td>78.900002</td>\n",
              "      <td>3876053.0</td>\n",
              "      <td>0</td>\n",
              "      <td>76.641619</td>\n",
              "      <td>-5.405425</td>\n",
              "      <td>77.678049</td>\n",
              "    </tr>\n",
              "    <tr>\n",
              "      <th>2019-09-06</th>\n",
              "      <td>82.199997</td>\n",
              "      <td>80.000000</td>\n",
              "      <td>80.000000</td>\n",
              "      <td>81.500000</td>\n",
              "      <td>10030061.0</td>\n",
              "      <td>0</td>\n",
              "      <td>84.049434</td>\n",
              "      <td>-7.142829</td>\n",
              "      <td>77.802439</td>\n",
              "    </tr>\n",
              "  </tbody>\n",
              "</table>\n",
              "</div>"
            ],
            "text/plain": [
              "                 High        Low       Open  ...        RSI  Williams %R        SMA\n",
              "Date                                         ...                                   \n",
              "2019-09-02  76.500000  75.400002  76.000000  ...  63.083007    -4.255257  77.668293\n",
              "2019-09-03  78.000000  76.199997  76.500000  ...  67.290735   -16.129040  77.646342\n",
              "2019-09-04  77.900002  76.500000  77.099998  ...  69.577051    -9.677400  77.631708\n",
              "2019-09-05  79.300003  77.500000  78.500000  ...  76.641619    -5.405425  77.678049\n",
              "2019-09-06  82.199997  80.000000  80.000000  ...  84.049434    -7.142829  77.802439\n",
              "\n",
              "[5 rows x 9 columns]"
            ]
          },
          "metadata": {
            "tags": []
          },
          "execution_count": 11
        },
        {
          "output_type": "display_data",
          "data": {
            "image/png": "[encoded data removed]",
            "text/plain": [
              "<Figure size 432x288 with 1 Axes>"
            ]
          },
          "metadata": {
            "tags": []
          }
        }
      ]
    },
    {
      "cell_type": "markdown",
      "metadata": {
        "id": "a2Mf0ckEoHC_",
        "colab_type": "text"
      },
      "source": [
        "# EMA"
      ]
    },
    {
      "cell_type": "code",
      "metadata": {
        "id": "EQlFyJLeh4WA",
        "colab_type": "code",
        "outputId": "fc0d3ce6-085b-4182-83bc-fb77536581ec",
        "colab": {
          "base_uri": "https://localhost:8080/",
          "height": 642
        }
      },
      "source": [
        "df['EMA'] = TA.EMA(ohlcv)\n",
        "print(df['EMA'].describe())\n",
        "sns.distplot(df['EMA'])\n",
        "df.tail()"
      ],
      "execution_count": 12,
      "outputs": [
        {
          "output_type": "stream",
          "text": [
            "count    3663.000000\n",
            "mean       70.651154\n",
            "std        17.795778\n",
            "min        36.367041\n",
            "25%        55.083184\n",
            "50%        69.427214\n",
            "75%        87.623008\n",
            "max       107.362114\n",
            "Name: EMA, dtype: float64\n"
          ],
          "name": "stdout"
        },
        {
          "output_type": "execute_result",
          "data": {
            "text/html": [
              "<div>\n",
              "<style scoped>\n",
              "    .dataframe tbody tr th:only-of-type {\n",
              "        vertical-align: middle;\n",
              "    }\n",
              "\n",
              "    .dataframe tbody tr th {\n",
              "        vertical-align: top;\n",
              "    }\n",
              "\n",
              "    .dataframe thead th {\n",
              "        text-align: right;\n",
              "    }\n",
              "</style>\n",
              "<table border=\"1\" class=\"dataframe\">\n",
              "  <thead>\n",
              "    <tr style=\"text-align: right;\">\n",
              "      <th></th>\n",
              "      <th>High</th>\n",
              "      <th>Low</th>\n",
              "      <th>Open</th>\n",
              "      <th>Close</th>\n",
              "      <th>Volume</th>\n",
              "      <th>triple_barrier_signal</th>\n",
              "      <th>RSI</th>\n",
              "      <th>Williams %R</th>\n",
              "      <th>SMA</th>\n",
              "      <th>EMA</th>\n",
              "    </tr>\n",
              "    <tr>\n",
              "      <th>Date</th>\n",
              "      <th></th>\n",
              "      <th></th>\n",
              "      <th></th>\n",
              "      <th></th>\n",
              "      <th></th>\n",
              "      <th></th>\n",
              "      <th></th>\n",
              "      <th></th>\n",
              "      <th></th>\n",
              "      <th></th>\n",
              "    </tr>\n",
              "  </thead>\n",
              "  <tbody>\n",
              "    <tr>\n",
              "      <th>2019-09-02</th>\n",
              "      <td>76.500000</td>\n",
              "      <td>75.400002</td>\n",
              "      <td>76.000000</td>\n",
              "      <td>76.300003</td>\n",
              "      <td>1867471.0</td>\n",
              "      <td>0</td>\n",
              "      <td>63.083007</td>\n",
              "      <td>-4.255257</td>\n",
              "      <td>77.668293</td>\n",
              "      <td>74.705958</td>\n",
              "    </tr>\n",
              "    <tr>\n",
              "      <th>2019-09-03</th>\n",
              "      <td>78.000000</td>\n",
              "      <td>76.199997</td>\n",
              "      <td>76.500000</td>\n",
              "      <td>77.000000</td>\n",
              "      <td>3564478.0</td>\n",
              "      <td>0</td>\n",
              "      <td>67.290735</td>\n",
              "      <td>-16.129040</td>\n",
              "      <td>77.646342</td>\n",
              "      <td>75.164767</td>\n",
              "    </tr>\n",
              "    <tr>\n",
              "      <th>2019-09-04</th>\n",
              "      <td>77.900002</td>\n",
              "      <td>76.500000</td>\n",
              "      <td>77.099998</td>\n",
              "      <td>77.400002</td>\n",
              "      <td>2390737.0</td>\n",
              "      <td>0</td>\n",
              "      <td>69.577051</td>\n",
              "      <td>-9.677400</td>\n",
              "      <td>77.631708</td>\n",
              "      <td>75.611814</td>\n",
              "    </tr>\n",
              "    <tr>\n",
              "      <th>2019-09-05</th>\n",
              "      <td>79.300003</td>\n",
              "      <td>77.500000</td>\n",
              "      <td>78.500000</td>\n",
              "      <td>78.900002</td>\n",
              "      <td>3876053.0</td>\n",
              "      <td>0</td>\n",
              "      <td>76.641619</td>\n",
              "      <td>-5.405425</td>\n",
              "      <td>77.678049</td>\n",
              "      <td>76.269451</td>\n",
              "    </tr>\n",
              "    <tr>\n",
              "      <th>2019-09-06</th>\n",
              "      <td>82.199997</td>\n",
              "      <td>80.000000</td>\n",
              "      <td>80.000000</td>\n",
              "      <td>81.500000</td>\n",
              "      <td>10030061.0</td>\n",
              "      <td>0</td>\n",
              "      <td>84.049434</td>\n",
              "      <td>-7.142829</td>\n",
              "      <td>77.802439</td>\n",
              "      <td>77.315561</td>\n",
              "    </tr>\n",
              "  </tbody>\n",
              "</table>\n",
              "</div>"
            ],
            "text/plain": [
              "                 High        Low       Open  ...  Williams %R        SMA        EMA\n",
              "Date                                         ...                                   \n",
              "2019-09-02  76.500000  75.400002  76.000000  ...    -4.255257  77.668293  74.705958\n",
              "2019-09-03  78.000000  76.199997  76.500000  ...   -16.129040  77.646342  75.164767\n",
              "2019-09-04  77.900002  76.500000  77.099998  ...    -9.677400  77.631708  75.611814\n",
              "2019-09-05  79.300003  77.500000  78.500000  ...    -5.405425  77.678049  76.269451\n",
              "2019-09-06  82.199997  80.000000  80.000000  ...    -7.142829  77.802439  77.315561\n",
              "\n",
              "[5 rows x 10 columns]"
            ]
          },
          "metadata": {
            "tags": []
          },
          "execution_count": 12
        },
        {
          "output_type": "display_data",
          "data": {
            "image/png": "[encoded data removed]",
            "text/plain": [
              "<Figure size 432x288 with 1 Axes>"
            ]
          },
          "metadata": {
            "tags": []
          }
        }
      ]
    },
    {
      "cell_type": "markdown",
      "metadata": {
        "id": "wqkaWfQryV3W",
        "colab_type": "text"
      },
      "source": [
        "# WMA"
      ]
    },
    {
      "cell_type": "code",
      "metadata": {
        "id": "9Dw9scCSieLI",
        "colab_type": "code",
        "outputId": "b77335f3-8f87-4fd9-f152-080c6ec4b4d1",
        "colab": {
          "base_uri": "https://localhost:8080/",
          "height": 696
        }
      },
      "source": [
        "df['WMA'] = TA.WMA(ohlcv)\n",
        "print(df['WMA'].describe())\n",
        "sns.distplot(df['WMA'].dropna())\n",
        "df.tail()"
      ],
      "execution_count": 13,
      "outputs": [
        {
          "output_type": "stream",
          "text": [
            "/usr/local/lib/python3.6/dist-packages/finta/finta.py:263: FutureWarning: Currently, 'apply' passes the values as ndarrays to the applied function. In the future, this will change to passing it as Series objects. You need to specify 'raw=True' to keep the current behaviour, and you can pass 'raw=False' to silence this warning\n",
            "  wma = close_.apply(linear(weights))\n"
          ],
          "name": "stderr"
        },
        {
          "output_type": "stream",
          "text": [
            "count    3655.000000\n",
            "mean       70.708653\n",
            "std        17.817643\n",
            "min        36.007111\n",
            "25%        55.116667\n",
            "50%        69.533880\n",
            "75%        87.440193\n",
            "max       109.591624\n",
            "Name: WMA, dtype: float64\n"
          ],
          "name": "stdout"
        },
        {
          "output_type": "execute_result",
          "data": {
            "text/html": [
              "<div>\n",
              "<style scoped>\n",
              "    .dataframe tbody tr th:only-of-type {\n",
              "        vertical-align: middle;\n",
              "    }\n",
              "\n",
              "    .dataframe tbody tr th {\n",
              "        vertical-align: top;\n",
              "    }\n",
              "\n",
              "    .dataframe thead th {\n",
              "        text-align: right;\n",
              "    }\n",
              "</style>\n",
              "<table border=\"1\" class=\"dataframe\">\n",
              "  <thead>\n",
              "    <tr style=\"text-align: right;\">\n",
              "      <th></th>\n",
              "      <th>High</th>\n",
              "      <th>Low</th>\n",
              "      <th>Open</th>\n",
              "      <th>Close</th>\n",
              "      <th>Volume</th>\n",
              "      <th>triple_barrier_signal</th>\n",
              "      <th>RSI</th>\n",
              "      <th>Williams %R</th>\n",
              "      <th>SMA</th>\n",
              "      <th>EMA</th>\n",
              "      <th>WMA</th>\n",
              "    </tr>\n",
              "    <tr>\n",
              "      <th>Date</th>\n",
              "      <th></th>\n",
              "      <th></th>\n",
              "      <th></th>\n",
              "      <th></th>\n",
              "      <th></th>\n",
              "      <th></th>\n",
              "      <th></th>\n",
              "      <th></th>\n",
              "      <th></th>\n",
              "      <th></th>\n",
              "      <th></th>\n",
              "    </tr>\n",
              "  </thead>\n",
              "  <tbody>\n",
              "    <tr>\n",
              "      <th>2019-09-02</th>\n",
              "      <td>76.500000</td>\n",
              "      <td>75.400002</td>\n",
              "      <td>76.000000</td>\n",
              "      <td>76.300003</td>\n",
              "      <td>1867471.0</td>\n",
              "      <td>0</td>\n",
              "      <td>63.083007</td>\n",
              "      <td>-4.255257</td>\n",
              "      <td>77.668293</td>\n",
              "      <td>74.705958</td>\n",
              "      <td>74.382223</td>\n",
              "    </tr>\n",
              "    <tr>\n",
              "      <th>2019-09-03</th>\n",
              "      <td>78.000000</td>\n",
              "      <td>76.199997</td>\n",
              "      <td>76.500000</td>\n",
              "      <td>77.000000</td>\n",
              "      <td>3564478.0</td>\n",
              "      <td>0</td>\n",
              "      <td>67.290735</td>\n",
              "      <td>-16.129040</td>\n",
              "      <td>77.646342</td>\n",
              "      <td>75.164767</td>\n",
              "      <td>74.471112</td>\n",
              "    </tr>\n",
              "    <tr>\n",
              "      <th>2019-09-04</th>\n",
              "      <td>77.900002</td>\n",
              "      <td>76.500000</td>\n",
              "      <td>77.099998</td>\n",
              "      <td>77.400002</td>\n",
              "      <td>2390737.0</td>\n",
              "      <td>0</td>\n",
              "      <td>69.577051</td>\n",
              "      <td>-9.677400</td>\n",
              "      <td>77.631708</td>\n",
              "      <td>75.611814</td>\n",
              "      <td>74.715556</td>\n",
              "    </tr>\n",
              "    <tr>\n",
              "      <th>2019-09-05</th>\n",
              "      <td>79.300003</td>\n",
              "      <td>77.500000</td>\n",
              "      <td>78.500000</td>\n",
              "      <td>78.900002</td>\n",
              "      <td>3876053.0</td>\n",
              "      <td>0</td>\n",
              "      <td>76.641619</td>\n",
              "      <td>-5.405425</td>\n",
              "      <td>77.678049</td>\n",
              "      <td>76.269451</td>\n",
              "      <td>74.891111</td>\n",
              "    </tr>\n",
              "    <tr>\n",
              "      <th>2019-09-06</th>\n",
              "      <td>82.199997</td>\n",
              "      <td>80.000000</td>\n",
              "      <td>80.000000</td>\n",
              "      <td>81.500000</td>\n",
              "      <td>10030061.0</td>\n",
              "      <td>0</td>\n",
              "      <td>84.049434</td>\n",
              "      <td>-7.142829</td>\n",
              "      <td>77.802439</td>\n",
              "      <td>77.315561</td>\n",
              "      <td>75.148890</td>\n",
              "    </tr>\n",
              "  </tbody>\n",
              "</table>\n",
              "</div>"
            ],
            "text/plain": [
              "                 High        Low       Open  ...        SMA        EMA        WMA\n",
              "Date                                         ...                                 \n",
              "2019-09-02  76.500000  75.400002  76.000000  ...  77.668293  74.705958  74.382223\n",
              "2019-09-03  78.000000  76.199997  76.500000  ...  77.646342  75.164767  74.471112\n",
              "2019-09-04  77.900002  76.500000  77.099998  ...  77.631708  75.611814  74.715556\n",
              "2019-09-05  79.300003  77.500000  78.500000  ...  77.678049  76.269451  74.891111\n",
              "2019-09-06  82.199997  80.000000  80.000000  ...  77.802439  77.315561  75.148890\n",
              "\n",
              "[5 rows x 11 columns]"
            ]
          },
          "metadata": {
            "tags": []
          },
          "execution_count": 13
        },
        {
          "output_type": "display_data",
          "data": {
            "image/png": "[encoded data removed]",
            "text/plain": [
              "<Figure size 432x288 with 1 Axes>"
            ]
          },
          "metadata": {
            "tags": []
          }
        }
      ]
    },
    {
      "cell_type": "markdown",
      "metadata": {
        "id": "HNC131ghyrF1",
        "colab_type": "text"
      },
      "source": [
        "# HMA"
      ]
    },
    {
      "cell_type": "code",
      "metadata": {
        "id": "b02O6Yevi6mN",
        "colab_type": "code",
        "outputId": "78aee6a2-3f65-47ff-e8ef-64b82786498d",
        "colab": {
          "base_uri": "https://localhost:8080/",
          "height": 797
        }
      },
      "source": [
        "df['HMA'] = TA.HMA(ohlcv)\n",
        "print(df['HMA'].describe())\n",
        "sns.distplot(df['HMA'].dropna())\n",
        "df.tail()"
      ],
      "execution_count": 14,
      "outputs": [
        {
          "output_type": "stream",
          "text": [
            "/usr/local/lib/python3.6/dist-packages/finta/finta.py:263: FutureWarning: Currently, 'apply' passes the values as ndarrays to the applied function. In the future, this will change to passing it as Series objects. You need to specify 'raw=True' to keep the current behaviour, and you can pass 'raw=False' to silence this warning\n",
            "  wma = close_.apply(linear(weights))\n",
            "/usr/local/lib/python3.6/dist-packages/finta/finta.py:285: SettingWithCopyWarning: \n",
            "A value is trying to be set on a copy of a slice from a DataFrame.\n",
            "Try using .loc[row_indexer,col_indexer] = value instead\n",
            "\n",
            "See the caveats in the documentation: http://pandas.pydata.org/pandas-docs/stable/indexing.html#indexing-view-versus-copy\n",
            "  ohlc['deltawma'] = 2 * wmaf - wmas\n"
          ],
          "name": "stderr"
        },
        {
          "output_type": "stream",
          "text": [
            "count    3660.000000\n",
            "mean       70.698583\n",
            "std        17.868879\n",
            "min        34.948040\n",
            "25%        55.102011\n",
            "50%        69.585000\n",
            "75%        87.362499\n",
            "max       112.862100\n",
            "Name: HMA, dtype: float64\n"
          ],
          "name": "stdout"
        },
        {
          "output_type": "execute_result",
          "data": {
            "text/html": [
              "<div>\n",
              "<style scoped>\n",
              "    .dataframe tbody tr th:only-of-type {\n",
              "        vertical-align: middle;\n",
              "    }\n",
              "\n",
              "    .dataframe tbody tr th {\n",
              "        vertical-align: top;\n",
              "    }\n",
              "\n",
              "    .dataframe thead th {\n",
              "        text-align: right;\n",
              "    }\n",
              "</style>\n",
              "<table border=\"1\" class=\"dataframe\">\n",
              "  <thead>\n",
              "    <tr style=\"text-align: right;\">\n",
              "      <th></th>\n",
              "      <th>High</th>\n",
              "      <th>Low</th>\n",
              "      <th>Open</th>\n",
              "      <th>Close</th>\n",
              "      <th>Volume</th>\n",
              "      <th>triple_barrier_signal</th>\n",
              "      <th>RSI</th>\n",
              "      <th>Williams %R</th>\n",
              "      <th>SMA</th>\n",
              "      <th>EMA</th>\n",
              "      <th>WMA</th>\n",
              "      <th>HMA</th>\n",
              "    </tr>\n",
              "    <tr>\n",
              "      <th>Date</th>\n",
              "      <th></th>\n",
              "      <th></th>\n",
              "      <th></th>\n",
              "      <th></th>\n",
              "      <th></th>\n",
              "      <th></th>\n",
              "      <th></th>\n",
              "      <th></th>\n",
              "      <th></th>\n",
              "      <th></th>\n",
              "      <th></th>\n",
              "      <th></th>\n",
              "    </tr>\n",
              "  </thead>\n",
              "  <tbody>\n",
              "    <tr>\n",
              "      <th>2019-09-02</th>\n",
              "      <td>76.500000</td>\n",
              "      <td>75.400002</td>\n",
              "      <td>76.000000</td>\n",
              "      <td>76.300003</td>\n",
              "      <td>1867471.0</td>\n",
              "      <td>0</td>\n",
              "      <td>63.083007</td>\n",
              "      <td>-4.255257</td>\n",
              "      <td>77.668293</td>\n",
              "      <td>74.705958</td>\n",
              "      <td>74.382223</td>\n",
              "      <td>74.340002</td>\n",
              "    </tr>\n",
              "    <tr>\n",
              "      <th>2019-09-03</th>\n",
              "      <td>78.000000</td>\n",
              "      <td>76.199997</td>\n",
              "      <td>76.500000</td>\n",
              "      <td>77.000000</td>\n",
              "      <td>3564478.0</td>\n",
              "      <td>0</td>\n",
              "      <td>67.290735</td>\n",
              "      <td>-16.129040</td>\n",
              "      <td>77.646342</td>\n",
              "      <td>75.164767</td>\n",
              "      <td>74.471112</td>\n",
              "      <td>75.050001</td>\n",
              "    </tr>\n",
              "    <tr>\n",
              "      <th>2019-09-04</th>\n",
              "      <td>77.900002</td>\n",
              "      <td>76.500000</td>\n",
              "      <td>77.099998</td>\n",
              "      <td>77.400002</td>\n",
              "      <td>2390737.0</td>\n",
              "      <td>0</td>\n",
              "      <td>69.577051</td>\n",
              "      <td>-9.677400</td>\n",
              "      <td>77.631708</td>\n",
              "      <td>75.611814</td>\n",
              "      <td>74.715556</td>\n",
              "      <td>76.070000</td>\n",
              "    </tr>\n",
              "    <tr>\n",
              "      <th>2019-09-05</th>\n",
              "      <td>79.300003</td>\n",
              "      <td>77.500000</td>\n",
              "      <td>78.500000</td>\n",
              "      <td>78.900002</td>\n",
              "      <td>3876053.0</td>\n",
              "      <td>0</td>\n",
              "      <td>76.641619</td>\n",
              "      <td>-5.405425</td>\n",
              "      <td>77.678049</td>\n",
              "      <td>76.269451</td>\n",
              "      <td>74.891111</td>\n",
              "      <td>76.990002</td>\n",
              "    </tr>\n",
              "    <tr>\n",
              "      <th>2019-09-06</th>\n",
              "      <td>82.199997</td>\n",
              "      <td>80.000000</td>\n",
              "      <td>80.000000</td>\n",
              "      <td>81.500000</td>\n",
              "      <td>10030061.0</td>\n",
              "      <td>0</td>\n",
              "      <td>84.049434</td>\n",
              "      <td>-7.142829</td>\n",
              "      <td>77.802439</td>\n",
              "      <td>77.315561</td>\n",
              "      <td>75.148890</td>\n",
              "      <td>77.950001</td>\n",
              "    </tr>\n",
              "  </tbody>\n",
              "</table>\n",
              "</div>"
            ],
            "text/plain": [
              "                 High        Low       Open  ...        EMA        WMA        HMA\n",
              "Date                                         ...                                 \n",
              "2019-09-02  76.500000  75.400002  76.000000  ...  74.705958  74.382223  74.340002\n",
              "2019-09-03  78.000000  76.199997  76.500000  ...  75.164767  74.471112  75.050001\n",
              "2019-09-04  77.900002  76.500000  77.099998  ...  75.611814  74.715556  76.070000\n",
              "2019-09-05  79.300003  77.500000  78.500000  ...  76.269451  74.891111  76.990002\n",
              "2019-09-06  82.199997  80.000000  80.000000  ...  77.315561  75.148890  77.950001\n",
              "\n",
              "[5 rows x 12 columns]"
            ]
          },
          "metadata": {
            "tags": []
          },
          "execution_count": 14
        },
        {
          "output_type": "display_data",
          "data": {
            "image/png": "[encoded data removed]",
            "text/plain": [
              "<Figure size 432x288 with 1 Axes>"
            ]
          },
          "metadata": {
            "tags": []
          }
        }
      ]
    },
    {
      "cell_type": "markdown",
      "metadata": {
        "id": "ch7SZ7aFjCit",
        "colab_type": "text"
      },
      "source": [
        "# TEMA"
      ]
    },
    {
      "cell_type": "code",
      "metadata": {
        "id": "GeS0aHxZjFtA",
        "colab_type": "code",
        "outputId": "ff6302f6-fb4d-4057-8696-765e5b2b0e15",
        "colab": {
          "base_uri": "https://localhost:8080/",
          "height": 642
        }
      },
      "source": [
        "df['TEMA'] = TA.TEMA(ohlcv)\n",
        "print(df['TEMA'].describe())\n",
        "sns.distplot(df['TEMA'].dropna())\n",
        "df.tail()"
      ],
      "execution_count": 15,
      "outputs": [
        {
          "output_type": "stream",
          "text": [
            "count    3663.000000\n",
            "mean       70.693028\n",
            "std        17.926927\n",
            "min        34.153027\n",
            "25%        55.028586\n",
            "50%        69.632817\n",
            "75%        87.256648\n",
            "max       112.774093\n",
            "Name: TEMA, dtype: float64\n"
          ],
          "name": "stdout"
        },
        {
          "output_type": "execute_result",
          "data": {
            "text/html": [
              "<div>\n",
              "<style scoped>\n",
              "    .dataframe tbody tr th:only-of-type {\n",
              "        vertical-align: middle;\n",
              "    }\n",
              "\n",
              "    .dataframe tbody tr th {\n",
              "        vertical-align: top;\n",
              "    }\n",
              "\n",
              "    .dataframe thead th {\n",
              "        text-align: right;\n",
              "    }\n",
              "</style>\n",
              "<table border=\"1\" class=\"dataframe\">\n",
              "  <thead>\n",
              "    <tr style=\"text-align: right;\">\n",
              "      <th></th>\n",
              "      <th>High</th>\n",
              "      <th>Low</th>\n",
              "      <th>Open</th>\n",
              "      <th>Close</th>\n",
              "      <th>Volume</th>\n",
              "      <th>triple_barrier_signal</th>\n",
              "      <th>RSI</th>\n",
              "      <th>Williams %R</th>\n",
              "      <th>SMA</th>\n",
              "      <th>EMA</th>\n",
              "      <th>WMA</th>\n",
              "      <th>HMA</th>\n",
              "      <th>TEMA</th>\n",
              "    </tr>\n",
              "    <tr>\n",
              "      <th>Date</th>\n",
              "      <th></th>\n",
              "      <th></th>\n",
              "      <th></th>\n",
              "      <th></th>\n",
              "      <th></th>\n",
              "      <th></th>\n",
              "      <th></th>\n",
              "      <th></th>\n",
              "      <th></th>\n",
              "      <th></th>\n",
              "      <th></th>\n",
              "      <th></th>\n",
              "      <th></th>\n",
              "    </tr>\n",
              "  </thead>\n",
              "  <tbody>\n",
              "    <tr>\n",
              "      <th>2019-09-02</th>\n",
              "      <td>76.500000</td>\n",
              "      <td>75.400002</td>\n",
              "      <td>76.000000</td>\n",
              "      <td>76.300003</td>\n",
              "      <td>1867471.0</td>\n",
              "      <td>0</td>\n",
              "      <td>63.083007</td>\n",
              "      <td>-4.255257</td>\n",
              "      <td>77.668293</td>\n",
              "      <td>74.705958</td>\n",
              "      <td>74.382223</td>\n",
              "      <td>74.340002</td>\n",
              "      <td>75.616652</td>\n",
              "    </tr>\n",
              "    <tr>\n",
              "      <th>2019-09-03</th>\n",
              "      <td>78.000000</td>\n",
              "      <td>76.199997</td>\n",
              "      <td>76.500000</td>\n",
              "      <td>77.000000</td>\n",
              "      <td>3564478.0</td>\n",
              "      <td>0</td>\n",
              "      <td>67.290735</td>\n",
              "      <td>-16.129040</td>\n",
              "      <td>77.646342</td>\n",
              "      <td>75.164767</td>\n",
              "      <td>74.471112</td>\n",
              "      <td>75.050001</td>\n",
              "      <td>76.538654</td>\n",
              "    </tr>\n",
              "    <tr>\n",
              "      <th>2019-09-04</th>\n",
              "      <td>77.900002</td>\n",
              "      <td>76.500000</td>\n",
              "      <td>77.099998</td>\n",
              "      <td>77.400002</td>\n",
              "      <td>2390737.0</td>\n",
              "      <td>0</td>\n",
              "      <td>69.577051</td>\n",
              "      <td>-9.677400</td>\n",
              "      <td>77.631708</td>\n",
              "      <td>75.611814</td>\n",
              "      <td>74.715556</td>\n",
              "      <td>76.070000</td>\n",
              "      <td>77.283662</td>\n",
              "    </tr>\n",
              "    <tr>\n",
              "      <th>2019-09-05</th>\n",
              "      <td>79.300003</td>\n",
              "      <td>77.500000</td>\n",
              "      <td>78.500000</td>\n",
              "      <td>78.900002</td>\n",
              "      <td>3876053.0</td>\n",
              "      <td>0</td>\n",
              "      <td>76.641619</td>\n",
              "      <td>-5.405425</td>\n",
              "      <td>77.678049</td>\n",
              "      <td>76.269451</td>\n",
              "      <td>74.891111</td>\n",
              "      <td>76.990002</td>\n",
              "      <td>78.439899</td>\n",
              "    </tr>\n",
              "    <tr>\n",
              "      <th>2019-09-06</th>\n",
              "      <td>82.199997</td>\n",
              "      <td>80.000000</td>\n",
              "      <td>80.000000</td>\n",
              "      <td>81.500000</td>\n",
              "      <td>10030061.0</td>\n",
              "      <td>0</td>\n",
              "      <td>84.049434</td>\n",
              "      <td>-7.142829</td>\n",
              "      <td>77.802439</td>\n",
              "      <td>77.315561</td>\n",
              "      <td>75.148890</td>\n",
              "      <td>77.950001</td>\n",
              "      <td>80.382917</td>\n",
              "    </tr>\n",
              "  </tbody>\n",
              "</table>\n",
              "</div>"
            ],
            "text/plain": [
              "                 High        Low       Open  ...        WMA        HMA       TEMA\n",
              "Date                                         ...                                 \n",
              "2019-09-02  76.500000  75.400002  76.000000  ...  74.382223  74.340002  75.616652\n",
              "2019-09-03  78.000000  76.199997  76.500000  ...  74.471112  75.050001  76.538654\n",
              "2019-09-04  77.900002  76.500000  77.099998  ...  74.715556  76.070000  77.283662\n",
              "2019-09-05  79.300003  77.500000  78.500000  ...  74.891111  76.990002  78.439899\n",
              "2019-09-06  82.199997  80.000000  80.000000  ...  75.148890  77.950001  80.382917\n",
              "\n",
              "[5 rows x 13 columns]"
            ]
          },
          "metadata": {
            "tags": []
          },
          "execution_count": 15
        },
        {
          "output_type": "display_data",
          "data": {
            "image/png": "[encoded data removed]",
            "text/plain": [
              "<Figure size 432x288 with 1 Axes>"
            ]
          },
          "metadata": {
            "tags": []
          }
        }
      ]
    },
    {
      "cell_type": "markdown",
      "metadata": {
        "id": "EbMrqw5jjZaa",
        "colab_type": "text"
      },
      "source": [
        "# CCI"
      ]
    },
    {
      "cell_type": "code",
      "metadata": {
        "id": "WBfeDdkUjZiP",
        "colab_type": "code",
        "outputId": "bb4ecf76-133e-4721-abf3-1154f035815a",
        "colab": {
          "base_uri": "https://localhost:8080/",
          "height": 642
        }
      },
      "source": [
        "df['CCI'] = TA.CCI(ohlcv)\n",
        "print(df['CCI'].describe())\n",
        "sns.distplot(df['CCI'].dropna())\n",
        "df.tail()"
      ],
      "execution_count": 16,
      "outputs": [
        {
          "output_type": "stream",
          "text": [
            "count    3662.000000\n",
            "mean        8.723562\n",
            "std        86.020353\n",
            "min      -258.425661\n",
            "25%       -59.213612\n",
            "50%        13.738972\n",
            "75%        75.324421\n",
            "max       224.146238\n",
            "Name: CCI, dtype: float64\n"
          ],
          "name": "stdout"
        },
        {
          "output_type": "execute_result",
          "data": {
            "text/html": [
              "<div>\n",
              "<style scoped>\n",
              "    .dataframe tbody tr th:only-of-type {\n",
              "        vertical-align: middle;\n",
              "    }\n",
              "\n",
              "    .dataframe tbody tr th {\n",
              "        vertical-align: top;\n",
              "    }\n",
              "\n",
              "    .dataframe thead th {\n",
              "        text-align: right;\n",
              "    }\n",
              "</style>\n",
              "<table border=\"1\" class=\"dataframe\">\n",
              "  <thead>\n",
              "    <tr style=\"text-align: right;\">\n",
              "      <th></th>\n",
              "      <th>High</th>\n",
              "      <th>Low</th>\n",
              "      <th>Open</th>\n",
              "      <th>Close</th>\n",
              "      <th>Volume</th>\n",
              "      <th>triple_barrier_signal</th>\n",
              "      <th>RSI</th>\n",
              "      <th>Williams %R</th>\n",
              "      <th>SMA</th>\n",
              "      <th>EMA</th>\n",
              "      <th>WMA</th>\n",
              "      <th>HMA</th>\n",
              "      <th>TEMA</th>\n",
              "      <th>CCI</th>\n",
              "    </tr>\n",
              "    <tr>\n",
              "      <th>Date</th>\n",
              "      <th></th>\n",
              "      <th></th>\n",
              "      <th></th>\n",
              "      <th></th>\n",
              "      <th></th>\n",
              "      <th></th>\n",
              "      <th></th>\n",
              "      <th></th>\n",
              "      <th></th>\n",
              "      <th></th>\n",
              "      <th></th>\n",
              "      <th></th>\n",
              "      <th></th>\n",
              "      <th></th>\n",
              "    </tr>\n",
              "  </thead>\n",
              "  <tbody>\n",
              "    <tr>\n",
              "      <th>2019-09-02</th>\n",
              "      <td>76.500000</td>\n",
              "      <td>75.400002</td>\n",
              "      <td>76.000000</td>\n",
              "      <td>76.300003</td>\n",
              "      <td>1867471.0</td>\n",
              "      <td>0</td>\n",
              "      <td>63.083007</td>\n",
              "      <td>-4.255257</td>\n",
              "      <td>77.668293</td>\n",
              "      <td>74.705958</td>\n",
              "      <td>74.382223</td>\n",
              "      <td>74.340002</td>\n",
              "      <td>75.616652</td>\n",
              "      <td>80.970279</td>\n",
              "    </tr>\n",
              "    <tr>\n",
              "      <th>2019-09-03</th>\n",
              "      <td>78.000000</td>\n",
              "      <td>76.199997</td>\n",
              "      <td>76.500000</td>\n",
              "      <td>77.000000</td>\n",
              "      <td>3564478.0</td>\n",
              "      <td>0</td>\n",
              "      <td>67.290735</td>\n",
              "      <td>-16.129040</td>\n",
              "      <td>77.646342</td>\n",
              "      <td>75.164767</td>\n",
              "      <td>74.471112</td>\n",
              "      <td>75.050001</td>\n",
              "      <td>76.538654</td>\n",
              "      <td>142.663663</td>\n",
              "    </tr>\n",
              "    <tr>\n",
              "      <th>2019-09-04</th>\n",
              "      <td>77.900002</td>\n",
              "      <td>76.500000</td>\n",
              "      <td>77.099998</td>\n",
              "      <td>77.400002</td>\n",
              "      <td>2390737.0</td>\n",
              "      <td>0</td>\n",
              "      <td>69.577051</td>\n",
              "      <td>-9.677400</td>\n",
              "      <td>77.631708</td>\n",
              "      <td>75.611814</td>\n",
              "      <td>74.715556</td>\n",
              "      <td>76.070000</td>\n",
              "      <td>77.283662</td>\n",
              "      <td>145.635444</td>\n",
              "    </tr>\n",
              "    <tr>\n",
              "      <th>2019-09-05</th>\n",
              "      <td>79.300003</td>\n",
              "      <td>77.500000</td>\n",
              "      <td>78.500000</td>\n",
              "      <td>78.900002</td>\n",
              "      <td>3876053.0</td>\n",
              "      <td>0</td>\n",
              "      <td>76.641619</td>\n",
              "      <td>-5.405425</td>\n",
              "      <td>77.678049</td>\n",
              "      <td>76.269451</td>\n",
              "      <td>74.891111</td>\n",
              "      <td>76.990002</td>\n",
              "      <td>78.439899</td>\n",
              "      <td>163.097672</td>\n",
              "    </tr>\n",
              "    <tr>\n",
              "      <th>2019-09-06</th>\n",
              "      <td>82.199997</td>\n",
              "      <td>80.000000</td>\n",
              "      <td>80.000000</td>\n",
              "      <td>81.500000</td>\n",
              "      <td>10030061.0</td>\n",
              "      <td>0</td>\n",
              "      <td>84.049434</td>\n",
              "      <td>-7.142829</td>\n",
              "      <td>77.802439</td>\n",
              "      <td>77.315561</td>\n",
              "      <td>75.148890</td>\n",
              "      <td>77.950001</td>\n",
              "      <td>80.382917</td>\n",
              "      <td>191.259805</td>\n",
              "    </tr>\n",
              "  </tbody>\n",
              "</table>\n",
              "</div>"
            ],
            "text/plain": [
              "                 High        Low       Open  ...        HMA       TEMA         CCI\n",
              "Date                                         ...                                  \n",
              "2019-09-02  76.500000  75.400002  76.000000  ...  74.340002  75.616652   80.970279\n",
              "2019-09-03  78.000000  76.199997  76.500000  ...  75.050001  76.538654  142.663663\n",
              "2019-09-04  77.900002  76.500000  77.099998  ...  76.070000  77.283662  145.635444\n",
              "2019-09-05  79.300003  77.500000  78.500000  ...  76.990002  78.439899  163.097672\n",
              "2019-09-06  82.199997  80.000000  80.000000  ...  77.950001  80.382917  191.259805\n",
              "\n",
              "[5 rows x 14 columns]"
            ]
          },
          "metadata": {
            "tags": []
          },
          "execution_count": 16
        },
        {
          "output_type": "display_data",
          "data": {
            "image/png": "[encoded data removed]",
            "text/plain": [
              "<Figure size 432x288 with 1 Axes>"
            ]
          },
          "metadata": {
            "tags": []
          }
        }
      ]
    },
    {
      "cell_type": "markdown",
      "metadata": {
        "id": "G8rAJ61cjkJ4",
        "colab_type": "text"
      },
      "source": [
        "# CMO"
      ]
    },
    {
      "cell_type": "code",
      "metadata": {
        "id": "P9EispJmjkj_",
        "colab_type": "code",
        "outputId": "52566179-697d-46c5-9644-679100430c04",
        "colab": {
          "base_uri": "https://localhost:8080/",
          "height": 743
        }
      },
      "source": [
        "df['CMO'] = TA.CMO(ohlcv)\n",
        "print(df['CMO'].describe())\n",
        "sns.distplot(df['CMO'].dropna())\n",
        "df.tail()"
      ],
      "execution_count": 17,
      "outputs": [
        {
          "output_type": "stream",
          "text": [
            "count    3654.000000\n",
            "mean        3.019402\n",
            "std        39.313091\n",
            "min      -100.000000\n",
            "25%       -24.264453\n",
            "50%         4.201695\n",
            "75%        31.383903\n",
            "max       100.000000\n",
            "Name: CMO, dtype: float64\n"
          ],
          "name": "stdout"
        },
        {
          "output_type": "execute_result",
          "data": {
            "text/html": [
              "<div>\n",
              "<style scoped>\n",
              "    .dataframe tbody tr th:only-of-type {\n",
              "        vertical-align: middle;\n",
              "    }\n",
              "\n",
              "    .dataframe tbody tr th {\n",
              "        vertical-align: top;\n",
              "    }\n",
              "\n",
              "    .dataframe thead th {\n",
              "        text-align: right;\n",
              "    }\n",
              "</style>\n",
              "<table border=\"1\" class=\"dataframe\">\n",
              "  <thead>\n",
              "    <tr style=\"text-align: right;\">\n",
              "      <th></th>\n",
              "      <th>High</th>\n",
              "      <th>Low</th>\n",
              "      <th>Open</th>\n",
              "      <th>Close</th>\n",
              "      <th>Volume</th>\n",
              "      <th>triple_barrier_signal</th>\n",
              "      <th>RSI</th>\n",
              "      <th>Williams %R</th>\n",
              "      <th>SMA</th>\n",
              "      <th>EMA</th>\n",
              "      <th>WMA</th>\n",
              "      <th>HMA</th>\n",
              "      <th>TEMA</th>\n",
              "      <th>CCI</th>\n",
              "      <th>CMO</th>\n",
              "    </tr>\n",
              "    <tr>\n",
              "      <th>Date</th>\n",
              "      <th></th>\n",
              "      <th></th>\n",
              "      <th></th>\n",
              "      <th></th>\n",
              "      <th></th>\n",
              "      <th></th>\n",
              "      <th></th>\n",
              "      <th></th>\n",
              "      <th></th>\n",
              "      <th></th>\n",
              "      <th></th>\n",
              "      <th></th>\n",
              "      <th></th>\n",
              "      <th></th>\n",
              "      <th></th>\n",
              "    </tr>\n",
              "  </thead>\n",
              "  <tbody>\n",
              "    <tr>\n",
              "      <th>2019-09-02</th>\n",
              "      <td>76.500000</td>\n",
              "      <td>75.400002</td>\n",
              "      <td>76.000000</td>\n",
              "      <td>76.300003</td>\n",
              "      <td>1867471.0</td>\n",
              "      <td>0</td>\n",
              "      <td>63.083007</td>\n",
              "      <td>-4.255257</td>\n",
              "      <td>77.668293</td>\n",
              "      <td>74.705958</td>\n",
              "      <td>74.382223</td>\n",
              "      <td>74.340002</td>\n",
              "      <td>75.616652</td>\n",
              "      <td>80.970279</td>\n",
              "      <td>46.478876</td>\n",
              "    </tr>\n",
              "    <tr>\n",
              "      <th>2019-09-03</th>\n",
              "      <td>78.000000</td>\n",
              "      <td>76.199997</td>\n",
              "      <td>76.500000</td>\n",
              "      <td>77.000000</td>\n",
              "      <td>3564478.0</td>\n",
              "      <td>0</td>\n",
              "      <td>67.290735</td>\n",
              "      <td>-16.129040</td>\n",
              "      <td>77.646342</td>\n",
              "      <td>75.164767</td>\n",
              "      <td>74.471112</td>\n",
              "      <td>75.050001</td>\n",
              "      <td>76.538654</td>\n",
              "      <td>142.663663</td>\n",
              "      <td>40.624966</td>\n",
              "    </tr>\n",
              "    <tr>\n",
              "      <th>2019-09-04</th>\n",
              "      <td>77.900002</td>\n",
              "      <td>76.500000</td>\n",
              "      <td>77.099998</td>\n",
              "      <td>77.400002</td>\n",
              "      <td>2390737.0</td>\n",
              "      <td>0</td>\n",
              "      <td>69.577051</td>\n",
              "      <td>-9.677400</td>\n",
              "      <td>77.631708</td>\n",
              "      <td>75.611814</td>\n",
              "      <td>74.715556</td>\n",
              "      <td>76.070000</td>\n",
              "      <td>77.283662</td>\n",
              "      <td>145.635444</td>\n",
              "      <td>53.125011</td>\n",
              "    </tr>\n",
              "    <tr>\n",
              "      <th>2019-09-05</th>\n",
              "      <td>79.300003</td>\n",
              "      <td>77.500000</td>\n",
              "      <td>78.500000</td>\n",
              "      <td>78.900002</td>\n",
              "      <td>3876053.0</td>\n",
              "      <td>0</td>\n",
              "      <td>76.641619</td>\n",
              "      <td>-5.405425</td>\n",
              "      <td>77.678049</td>\n",
              "      <td>76.269451</td>\n",
              "      <td>74.891111</td>\n",
              "      <td>76.990002</td>\n",
              "      <td>78.439899</td>\n",
              "      <td>163.097672</td>\n",
              "      <td>57.746470</td>\n",
              "    </tr>\n",
              "    <tr>\n",
              "      <th>2019-09-06</th>\n",
              "      <td>82.199997</td>\n",
              "      <td>80.000000</td>\n",
              "      <td>80.000000</td>\n",
              "      <td>81.500000</td>\n",
              "      <td>10030061.0</td>\n",
              "      <td>0</td>\n",
              "      <td>84.049434</td>\n",
              "      <td>-7.142829</td>\n",
              "      <td>77.802439</td>\n",
              "      <td>77.315561</td>\n",
              "      <td>75.148890</td>\n",
              "      <td>77.950001</td>\n",
              "      <td>80.382917</td>\n",
              "      <td>191.259805</td>\n",
              "      <td>68.085112</td>\n",
              "    </tr>\n",
              "  </tbody>\n",
              "</table>\n",
              "</div>"
            ],
            "text/plain": [
              "                 High        Low       Open  ...       TEMA         CCI        CMO\n",
              "Date                                         ...                                  \n",
              "2019-09-02  76.500000  75.400002  76.000000  ...  75.616652   80.970279  46.478876\n",
              "2019-09-03  78.000000  76.199997  76.500000  ...  76.538654  142.663663  40.624966\n",
              "2019-09-04  77.900002  76.500000  77.099998  ...  77.283662  145.635444  53.125011\n",
              "2019-09-05  79.300003  77.500000  78.500000  ...  78.439899  163.097672  57.746470\n",
              "2019-09-06  82.199997  80.000000  80.000000  ...  80.382917  191.259805  68.085112\n",
              "\n",
              "[5 rows x 15 columns]"
            ]
          },
          "metadata": {
            "tags": []
          },
          "execution_count": 17
        },
        {
          "output_type": "display_data",
          "data": {
            "image/png": "[encoded data removed]",
            "text/plain": [
              "<Figure size 432x288 with 1 Axes>"
            ]
          },
          "metadata": {
            "tags": []
          }
        }
      ]
    },
    {
      "cell_type": "markdown",
      "metadata": {
        "id": "35qI_9gZjsR0",
        "colab_type": "text"
      },
      "source": [
        "# MACD"
      ]
    },
    {
      "cell_type": "code",
      "metadata": {
        "id": "5QG4lBEfjsZb",
        "colab_type": "code",
        "outputId": "9437b4b5-65a9-4eb9-b2e3-223dfcdd436b",
        "colab": {
          "base_uri": "https://localhost:8080/",
          "height": 763
        }
      },
      "source": [
        "df['MACD'] = TA.MACD(ohlcv)['MACD'] - TA.MACD(ohlcv)['SIGNAL']\n",
        "print(df['MACD'].describe())\n",
        "sns.distplot(df['MACD'].dropna())\n",
        "df.tail()"
      ],
      "execution_count": 18,
      "outputs": [
        {
          "output_type": "stream",
          "text": [
            "count    3663.000000\n",
            "mean       -0.000660\n",
            "std         0.498664\n",
            "min        -2.334417\n",
            "25%        -0.276677\n",
            "50%         0.005484\n",
            "75%         0.292106\n",
            "max         1.651282\n",
            "Name: MACD, dtype: float64\n"
          ],
          "name": "stdout"
        },
        {
          "output_type": "execute_result",
          "data": {
            "text/html": [
              "<div>\n",
              "<style scoped>\n",
              "    .dataframe tbody tr th:only-of-type {\n",
              "        vertical-align: middle;\n",
              "    }\n",
              "\n",
              "    .dataframe tbody tr th {\n",
              "        vertical-align: top;\n",
              "    }\n",
              "\n",
              "    .dataframe thead th {\n",
              "        text-align: right;\n",
              "    }\n",
              "</style>\n",
              "<table border=\"1\" class=\"dataframe\">\n",
              "  <thead>\n",
              "    <tr style=\"text-align: right;\">\n",
              "      <th></th>\n",
              "      <th>High</th>\n",
              "      <th>Low</th>\n",
              "      <th>Open</th>\n",
              "      <th>Close</th>\n",
              "      <th>Volume</th>\n",
              "      <th>triple_barrier_signal</th>\n",
              "      <th>RSI</th>\n",
              "      <th>Williams %R</th>\n",
              "      <th>SMA</th>\n",
              "      <th>EMA</th>\n",
              "      <th>WMA</th>\n",
              "      <th>HMA</th>\n",
              "      <th>TEMA</th>\n",
              "      <th>CCI</th>\n",
              "      <th>CMO</th>\n",
              "      <th>MACD</th>\n",
              "    </tr>\n",
              "    <tr>\n",
              "      <th>Date</th>\n",
              "      <th></th>\n",
              "      <th></th>\n",
              "      <th></th>\n",
              "      <th></th>\n",
              "      <th></th>\n",
              "      <th></th>\n",
              "      <th></th>\n",
              "      <th></th>\n",
              "      <th></th>\n",
              "      <th></th>\n",
              "      <th></th>\n",
              "      <th></th>\n",
              "      <th></th>\n",
              "      <th></th>\n",
              "      <th></th>\n",
              "      <th></th>\n",
              "    </tr>\n",
              "  </thead>\n",
              "  <tbody>\n",
              "    <tr>\n",
              "      <th>2019-09-02</th>\n",
              "      <td>76.500000</td>\n",
              "      <td>75.400002</td>\n",
              "      <td>76.000000</td>\n",
              "      <td>76.300003</td>\n",
              "      <td>1867471.0</td>\n",
              "      <td>0</td>\n",
              "      <td>63.083007</td>\n",
              "      <td>-4.255257</td>\n",
              "      <td>77.668293</td>\n",
              "      <td>74.705958</td>\n",
              "      <td>74.382223</td>\n",
              "      <td>74.340002</td>\n",
              "      <td>75.616652</td>\n",
              "      <td>80.970279</td>\n",
              "      <td>46.478876</td>\n",
              "      <td>0.306814</td>\n",
              "    </tr>\n",
              "    <tr>\n",
              "      <th>2019-09-03</th>\n",
              "      <td>78.000000</td>\n",
              "      <td>76.199997</td>\n",
              "      <td>76.500000</td>\n",
              "      <td>77.000000</td>\n",
              "      <td>3564478.0</td>\n",
              "      <td>0</td>\n",
              "      <td>67.290735</td>\n",
              "      <td>-16.129040</td>\n",
              "      <td>77.646342</td>\n",
              "      <td>75.164767</td>\n",
              "      <td>74.471112</td>\n",
              "      <td>75.050001</td>\n",
              "      <td>76.538654</td>\n",
              "      <td>142.663663</td>\n",
              "      <td>40.624966</td>\n",
              "      <td>0.443041</td>\n",
              "    </tr>\n",
              "    <tr>\n",
              "      <th>2019-09-04</th>\n",
              "      <td>77.900002</td>\n",
              "      <td>76.500000</td>\n",
              "      <td>77.099998</td>\n",
              "      <td>77.400002</td>\n",
              "      <td>2390737.0</td>\n",
              "      <td>0</td>\n",
              "      <td>69.577051</td>\n",
              "      <td>-9.677400</td>\n",
              "      <td>77.631708</td>\n",
              "      <td>75.611814</td>\n",
              "      <td>74.715556</td>\n",
              "      <td>76.070000</td>\n",
              "      <td>77.283662</td>\n",
              "      <td>145.635444</td>\n",
              "      <td>53.125011</td>\n",
              "      <td>0.540970</td>\n",
              "    </tr>\n",
              "    <tr>\n",
              "      <th>2019-09-05</th>\n",
              "      <td>79.300003</td>\n",
              "      <td>77.500000</td>\n",
              "      <td>78.500000</td>\n",
              "      <td>78.900002</td>\n",
              "      <td>3876053.0</td>\n",
              "      <td>0</td>\n",
              "      <td>76.641619</td>\n",
              "      <td>-5.405425</td>\n",
              "      <td>77.678049</td>\n",
              "      <td>76.269451</td>\n",
              "      <td>74.891111</td>\n",
              "      <td>76.990002</td>\n",
              "      <td>78.439899</td>\n",
              "      <td>163.097672</td>\n",
              "      <td>57.746470</td>\n",
              "      <td>0.678727</td>\n",
              "    </tr>\n",
              "    <tr>\n",
              "      <th>2019-09-06</th>\n",
              "      <td>82.199997</td>\n",
              "      <td>80.000000</td>\n",
              "      <td>80.000000</td>\n",
              "      <td>81.500000</td>\n",
              "      <td>10030061.0</td>\n",
              "      <td>0</td>\n",
              "      <td>84.049434</td>\n",
              "      <td>-7.142829</td>\n",
              "      <td>77.802439</td>\n",
              "      <td>77.315561</td>\n",
              "      <td>75.148890</td>\n",
              "      <td>77.950001</td>\n",
              "      <td>80.382917</td>\n",
              "      <td>191.259805</td>\n",
              "      <td>68.085112</td>\n",
              "      <td>0.902879</td>\n",
              "    </tr>\n",
              "  </tbody>\n",
              "</table>\n",
              "</div>"
            ],
            "text/plain": [
              "                 High        Low       Open  ...         CCI        CMO      MACD\n",
              "Date                                         ...                                 \n",
              "2019-09-02  76.500000  75.400002  76.000000  ...   80.970279  46.478876  0.306814\n",
              "2019-09-03  78.000000  76.199997  76.500000  ...  142.663663  40.624966  0.443041\n",
              "2019-09-04  77.900002  76.500000  77.099998  ...  145.635444  53.125011  0.540970\n",
              "2019-09-05  79.300003  77.500000  78.500000  ...  163.097672  57.746470  0.678727\n",
              "2019-09-06  82.199997  80.000000  80.000000  ...  191.259805  68.085112  0.902879\n",
              "\n",
              "[5 rows x 16 columns]"
            ]
          },
          "metadata": {
            "tags": []
          },
          "execution_count": 18
        },
        {
          "output_type": "display_data",
          "data": {
            "image/png": "[encoded data removed]",
            "text/plain": [
              "<Figure size 432x288 with 1 Axes>"
            ]
          },
          "metadata": {
            "tags": []
          }
        }
      ]
    },
    {
      "cell_type": "markdown",
      "metadata": {
        "id": "roEAzvV7liUA",
        "colab_type": "text"
      },
      "source": [
        "# PPO"
      ]
    },
    {
      "cell_type": "code",
      "metadata": {
        "id": "ovCLHYPXli73",
        "colab_type": "code",
        "outputId": "cf083c50-5aed-4e53-88e8-eae8f0edb754",
        "colab": {
          "base_uri": "https://localhost:8080/",
          "height": 763
        }
      },
      "source": [
        "df['PPO'] = TA.PPO(ohlcv)['PPO'] - TA.PPO(ohlcv)['SIGNAL']\n",
        "print(df['PPO'].describe())\n",
        "sns.distplot(df['PPO'].dropna())\n",
        "df.tail()"
      ],
      "execution_count": 19,
      "outputs": [
        {
          "output_type": "stream",
          "text": [
            "count    3663.000000\n",
            "mean       -0.000886\n",
            "std         0.726917\n",
            "min        -3.420147\n",
            "25%        -0.423215\n",
            "50%        -0.008885\n",
            "75%         0.427415\n",
            "max         2.757767\n",
            "Name: PPO, dtype: float64\n"
          ],
          "name": "stdout"
        },
        {
          "output_type": "execute_result",
          "data": {
            "text/html": [
              "<div>\n",
              "<style scoped>\n",
              "    .dataframe tbody tr th:only-of-type {\n",
              "        vertical-align: middle;\n",
              "    }\n",
              "\n",
              "    .dataframe tbody tr th {\n",
              "        vertical-align: top;\n",
              "    }\n",
              "\n",
              "    .dataframe thead th {\n",
              "        text-align: right;\n",
              "    }\n",
              "</style>\n",
              "<table border=\"1\" class=\"dataframe\">\n",
              "  <thead>\n",
              "    <tr style=\"text-align: right;\">\n",
              "      <th></th>\n",
              "      <th>High</th>\n",
              "      <th>Low</th>\n",
              "      <th>Open</th>\n",
              "      <th>Close</th>\n",
              "      <th>Volume</th>\n",
              "      <th>triple_barrier_signal</th>\n",
              "      <th>RSI</th>\n",
              "      <th>Williams %R</th>\n",
              "      <th>SMA</th>\n",
              "      <th>EMA</th>\n",
              "      <th>WMA</th>\n",
              "      <th>HMA</th>\n",
              "      <th>TEMA</th>\n",
              "      <th>CCI</th>\n",
              "      <th>CMO</th>\n",
              "      <th>MACD</th>\n",
              "      <th>PPO</th>\n",
              "    </tr>\n",
              "    <tr>\n",
              "      <th>Date</th>\n",
              "      <th></th>\n",
              "      <th></th>\n",
              "      <th></th>\n",
              "      <th></th>\n",
              "      <th></th>\n",
              "      <th></th>\n",
              "      <th></th>\n",
              "      <th></th>\n",
              "      <th></th>\n",
              "      <th></th>\n",
              "      <th></th>\n",
              "      <th></th>\n",
              "      <th></th>\n",
              "      <th></th>\n",
              "      <th></th>\n",
              "      <th></th>\n",
              "      <th></th>\n",
              "    </tr>\n",
              "  </thead>\n",
              "  <tbody>\n",
              "    <tr>\n",
              "      <th>2019-09-02</th>\n",
              "      <td>76.500000</td>\n",
              "      <td>75.400002</td>\n",
              "      <td>76.000000</td>\n",
              "      <td>76.300003</td>\n",
              "      <td>1867471.0</td>\n",
              "      <td>0</td>\n",
              "      <td>63.083007</td>\n",
              "      <td>-4.255257</td>\n",
              "      <td>77.668293</td>\n",
              "      <td>74.705958</td>\n",
              "      <td>74.382223</td>\n",
              "      <td>74.340002</td>\n",
              "      <td>75.616652</td>\n",
              "      <td>80.970279</td>\n",
              "      <td>46.478876</td>\n",
              "      <td>0.306814</td>\n",
              "      <td>0.398785</td>\n",
              "    </tr>\n",
              "    <tr>\n",
              "      <th>2019-09-03</th>\n",
              "      <td>78.000000</td>\n",
              "      <td>76.199997</td>\n",
              "      <td>76.500000</td>\n",
              "      <td>77.000000</td>\n",
              "      <td>3564478.0</td>\n",
              "      <td>0</td>\n",
              "      <td>67.290735</td>\n",
              "      <td>-16.129040</td>\n",
              "      <td>77.646342</td>\n",
              "      <td>75.164767</td>\n",
              "      <td>74.471112</td>\n",
              "      <td>75.050001</td>\n",
              "      <td>76.538654</td>\n",
              "      <td>142.663663</td>\n",
              "      <td>40.624966</td>\n",
              "      <td>0.443041</td>\n",
              "      <td>0.580990</td>\n",
              "    </tr>\n",
              "    <tr>\n",
              "      <th>2019-09-04</th>\n",
              "      <td>77.900002</td>\n",
              "      <td>76.500000</td>\n",
              "      <td>77.099998</td>\n",
              "      <td>77.400002</td>\n",
              "      <td>2390737.0</td>\n",
              "      <td>0</td>\n",
              "      <td>69.577051</td>\n",
              "      <td>-9.677400</td>\n",
              "      <td>77.631708</td>\n",
              "      <td>75.611814</td>\n",
              "      <td>74.715556</td>\n",
              "      <td>76.070000</td>\n",
              "      <td>77.283662</td>\n",
              "      <td>145.635444</td>\n",
              "      <td>53.125011</td>\n",
              "      <td>0.540970</td>\n",
              "      <td>0.711661</td>\n",
              "    </tr>\n",
              "    <tr>\n",
              "      <th>2019-09-05</th>\n",
              "      <td>79.300003</td>\n",
              "      <td>77.500000</td>\n",
              "      <td>78.500000</td>\n",
              "      <td>78.900002</td>\n",
              "      <td>3876053.0</td>\n",
              "      <td>0</td>\n",
              "      <td>76.641619</td>\n",
              "      <td>-5.405425</td>\n",
              "      <td>77.678049</td>\n",
              "      <td>76.269451</td>\n",
              "      <td>74.891111</td>\n",
              "      <td>76.990002</td>\n",
              "      <td>78.439899</td>\n",
              "      <td>163.097672</td>\n",
              "      <td>57.746470</td>\n",
              "      <td>0.678727</td>\n",
              "      <td>0.893767</td>\n",
              "    </tr>\n",
              "    <tr>\n",
              "      <th>2019-09-06</th>\n",
              "      <td>82.199997</td>\n",
              "      <td>80.000000</td>\n",
              "      <td>80.000000</td>\n",
              "      <td>81.500000</td>\n",
              "      <td>10030061.0</td>\n",
              "      <td>0</td>\n",
              "      <td>84.049434</td>\n",
              "      <td>-7.142829</td>\n",
              "      <td>77.802439</td>\n",
              "      <td>77.315561</td>\n",
              "      <td>75.148890</td>\n",
              "      <td>77.950001</td>\n",
              "      <td>80.382917</td>\n",
              "      <td>191.259805</td>\n",
              "      <td>68.085112</td>\n",
              "      <td>0.902879</td>\n",
              "      <td>1.186059</td>\n",
              "    </tr>\n",
              "  </tbody>\n",
              "</table>\n",
              "</div>"
            ],
            "text/plain": [
              "                 High        Low       Open  ...        CMO      MACD       PPO\n",
              "Date                                         ...                               \n",
              "2019-09-02  76.500000  75.400002  76.000000  ...  46.478876  0.306814  0.398785\n",
              "2019-09-03  78.000000  76.199997  76.500000  ...  40.624966  0.443041  0.580990\n",
              "2019-09-04  77.900002  76.500000  77.099998  ...  53.125011  0.540970  0.711661\n",
              "2019-09-05  79.300003  77.500000  78.500000  ...  57.746470  0.678727  0.893767\n",
              "2019-09-06  82.199997  80.000000  80.000000  ...  68.085112  0.902879  1.186059\n",
              "\n",
              "[5 rows x 17 columns]"
            ]
          },
          "metadata": {
            "tags": []
          },
          "execution_count": 19
        },
        {
          "output_type": "display_data",
          "data": {
            "image/png": "[encoded data removed]",
            "text/plain": [
              "<Figure size 432x288 with 1 Axes>"
            ]
          },
          "metadata": {
            "tags": []
          }
        }
      ]
    },
    {
      "cell_type": "markdown",
      "metadata": {
        "id": "5BBE8vaWmdGN",
        "colab_type": "text"
      },
      "source": [
        "# ROC"
      ]
    },
    {
      "cell_type": "code",
      "metadata": {
        "id": "OKI3MqwhmdOj",
        "colab_type": "code",
        "outputId": "264aca1e-629a-4e98-bf71-e263c24c7538",
        "colab": {
          "base_uri": "https://localhost:8080/",
          "height": 763
        }
      },
      "source": [
        "df['ROC'] = TA.ROC(ohlcv)\n",
        "print(df['ROC'].describe())\n",
        "sns.distplot(df['ROC'].dropna())\n",
        "df.tail()"
      ],
      "execution_count": 20,
      "outputs": [
        {
          "output_type": "stream",
          "text": [
            "count    3651.000000\n",
            "mean        0.510732\n",
            "std         7.526397\n",
            "min       -34.117499\n",
            "25%        -3.358220\n",
            "50%         0.538350\n",
            "75%         4.824581\n",
            "max        47.699599\n",
            "Name: ROC, dtype: float64\n"
          ],
          "name": "stdout"
        },
        {
          "output_type": "execute_result",
          "data": {
            "text/html": [
              "<div>\n",
              "<style scoped>\n",
              "    .dataframe tbody tr th:only-of-type {\n",
              "        vertical-align: middle;\n",
              "    }\n",
              "\n",
              "    .dataframe tbody tr th {\n",
              "        vertical-align: top;\n",
              "    }\n",
              "\n",
              "    .dataframe thead th {\n",
              "        text-align: right;\n",
              "    }\n",
              "</style>\n",
              "<table border=\"1\" class=\"dataframe\">\n",
              "  <thead>\n",
              "    <tr style=\"text-align: right;\">\n",
              "      <th></th>\n",
              "      <th>High</th>\n",
              "      <th>Low</th>\n",
              "      <th>Open</th>\n",
              "      <th>Close</th>\n",
              "      <th>Volume</th>\n",
              "      <th>triple_barrier_signal</th>\n",
              "      <th>RSI</th>\n",
              "      <th>Williams %R</th>\n",
              "      <th>SMA</th>\n",
              "      <th>EMA</th>\n",
              "      <th>WMA</th>\n",
              "      <th>HMA</th>\n",
              "      <th>TEMA</th>\n",
              "      <th>CCI</th>\n",
              "      <th>CMO</th>\n",
              "      <th>MACD</th>\n",
              "      <th>PPO</th>\n",
              "      <th>ROC</th>\n",
              "    </tr>\n",
              "    <tr>\n",
              "      <th>Date</th>\n",
              "      <th></th>\n",
              "      <th></th>\n",
              "      <th></th>\n",
              "      <th></th>\n",
              "      <th></th>\n",
              "      <th></th>\n",
              "      <th></th>\n",
              "      <th></th>\n",
              "      <th></th>\n",
              "      <th></th>\n",
              "      <th></th>\n",
              "      <th></th>\n",
              "      <th></th>\n",
              "      <th></th>\n",
              "      <th></th>\n",
              "      <th></th>\n",
              "      <th></th>\n",
              "      <th></th>\n",
              "    </tr>\n",
              "  </thead>\n",
              "  <tbody>\n",
              "    <tr>\n",
              "      <th>2019-09-02</th>\n",
              "      <td>76.500000</td>\n",
              "      <td>75.400002</td>\n",
              "      <td>76.000000</td>\n",
              "      <td>76.300003</td>\n",
              "      <td>1867471.0</td>\n",
              "      <td>0</td>\n",
              "      <td>63.083007</td>\n",
              "      <td>-4.255257</td>\n",
              "      <td>77.668293</td>\n",
              "      <td>74.705958</td>\n",
              "      <td>74.382223</td>\n",
              "      <td>74.340002</td>\n",
              "      <td>75.616652</td>\n",
              "      <td>80.970279</td>\n",
              "      <td>46.478876</td>\n",
              "      <td>0.306814</td>\n",
              "      <td>0.398785</td>\n",
              "      <td>4.092769</td>\n",
              "    </tr>\n",
              "    <tr>\n",
              "      <th>2019-09-03</th>\n",
              "      <td>78.000000</td>\n",
              "      <td>76.199997</td>\n",
              "      <td>76.500000</td>\n",
              "      <td>77.000000</td>\n",
              "      <td>3564478.0</td>\n",
              "      <td>0</td>\n",
              "      <td>67.290735</td>\n",
              "      <td>-16.129040</td>\n",
              "      <td>77.646342</td>\n",
              "      <td>75.164767</td>\n",
              "      <td>74.471112</td>\n",
              "      <td>75.050001</td>\n",
              "      <td>76.538654</td>\n",
              "      <td>142.663663</td>\n",
              "      <td>40.624966</td>\n",
              "      <td>0.443041</td>\n",
              "      <td>0.580990</td>\n",
              "      <td>7.093183</td>\n",
              "    </tr>\n",
              "    <tr>\n",
              "      <th>2019-09-04</th>\n",
              "      <td>77.900002</td>\n",
              "      <td>76.500000</td>\n",
              "      <td>77.099998</td>\n",
              "      <td>77.400002</td>\n",
              "      <td>2390737.0</td>\n",
              "      <td>0</td>\n",
              "      <td>69.577051</td>\n",
              "      <td>-9.677400</td>\n",
              "      <td>77.631708</td>\n",
              "      <td>75.611814</td>\n",
              "      <td>74.715556</td>\n",
              "      <td>76.070000</td>\n",
              "      <td>77.283662</td>\n",
              "      <td>145.635444</td>\n",
              "      <td>53.125011</td>\n",
              "      <td>0.540970</td>\n",
              "      <td>0.711661</td>\n",
              "      <td>7.500002</td>\n",
              "    </tr>\n",
              "    <tr>\n",
              "      <th>2019-09-05</th>\n",
              "      <td>79.300003</td>\n",
              "      <td>77.500000</td>\n",
              "      <td>78.500000</td>\n",
              "      <td>78.900002</td>\n",
              "      <td>3876053.0</td>\n",
              "      <td>0</td>\n",
              "      <td>76.641619</td>\n",
              "      <td>-5.405425</td>\n",
              "      <td>77.678049</td>\n",
              "      <td>76.269451</td>\n",
              "      <td>74.891111</td>\n",
              "      <td>76.990002</td>\n",
              "      <td>78.439899</td>\n",
              "      <td>163.097672</td>\n",
              "      <td>57.746470</td>\n",
              "      <td>0.678727</td>\n",
              "      <td>0.893767</td>\n",
              "      <td>8.082194</td>\n",
              "    </tr>\n",
              "    <tr>\n",
              "      <th>2019-09-06</th>\n",
              "      <td>82.199997</td>\n",
              "      <td>80.000000</td>\n",
              "      <td>80.000000</td>\n",
              "      <td>81.500000</td>\n",
              "      <td>10030061.0</td>\n",
              "      <td>0</td>\n",
              "      <td>84.049434</td>\n",
              "      <td>-7.142829</td>\n",
              "      <td>77.802439</td>\n",
              "      <td>77.315561</td>\n",
              "      <td>75.148890</td>\n",
              "      <td>77.950001</td>\n",
              "      <td>80.382917</td>\n",
              "      <td>191.259805</td>\n",
              "      <td>68.085112</td>\n",
              "      <td>0.902879</td>\n",
              "      <td>1.186059</td>\n",
              "      <td>9.543009</td>\n",
              "    </tr>\n",
              "  </tbody>\n",
              "</table>\n",
              "</div>"
            ],
            "text/plain": [
              "                 High        Low       Open  ...      MACD       PPO       ROC\n",
              "Date                                         ...                              \n",
              "2019-09-02  76.500000  75.400002  76.000000  ...  0.306814  0.398785  4.092769\n",
              "2019-09-03  78.000000  76.199997  76.500000  ...  0.443041  0.580990  7.093183\n",
              "2019-09-04  77.900002  76.500000  77.099998  ...  0.540970  0.711661  7.500002\n",
              "2019-09-05  79.300003  77.500000  78.500000  ...  0.678727  0.893767  8.082194\n",
              "2019-09-06  82.199997  80.000000  80.000000  ...  0.902879  1.186059  9.543009\n",
              "\n",
              "[5 rows x 18 columns]"
            ]
          },
          "metadata": {
            "tags": []
          },
          "execution_count": 20
        },
        {
          "output_type": "display_data",
          "data": {
            "image/png": "[encoded data removed]",
            "text/plain": [
              "<Figure size 432x288 with 1 Axes>"
            ]
          },
          "metadata": {
            "tags": []
          }
        }
      ]
    },
    {
      "cell_type": "markdown",
      "metadata": {
        "id": "b9LTKsyvmuSd",
        "colab_type": "text"
      },
      "source": [
        "# CMFI"
      ]
    },
    {
      "cell_type": "code",
      "metadata": {
        "id": "somnlSTOmvjJ",
        "colab_type": "code",
        "outputId": "4143c146-ccbe-4617-91dc-18e0e36e3e23",
        "colab": {
          "base_uri": "https://localhost:8080/",
          "height": 770
        }
      },
      "source": [
        "df['CFI'] = TA.CFI(ohlcv)\n",
        "print(df['CFI'].describe())\n",
        "sns.distplot(df['CFI'].dropna())\n",
        "df.tail()"
      ],
      "execution_count": 21,
      "outputs": [
        {
          "output_type": "stream",
          "text": [
            "count    3.654000e+03\n",
            "mean    -2.458336e+11\n",
            "std      2.004651e+11\n",
            "min     -3.861853e+11\n",
            "25%     -2.978471e+11\n",
            "50%     -2.971676e+11\n",
            "75%     -2.969797e+11\n",
            "max      6.943551e+11\n",
            "Name: CFI, dtype: float64\n"
          ],
          "name": "stdout"
        },
        {
          "output_type": "execute_result",
          "data": {
            "text/html": [
              "<div>\n",
              "<style scoped>\n",
              "    .dataframe tbody tr th:only-of-type {\n",
              "        vertical-align: middle;\n",
              "    }\n",
              "\n",
              "    .dataframe tbody tr th {\n",
              "        vertical-align: top;\n",
              "    }\n",
              "\n",
              "    .dataframe thead th {\n",
              "        text-align: right;\n",
              "    }\n",
              "</style>\n",
              "<table border=\"1\" class=\"dataframe\">\n",
              "  <thead>\n",
              "    <tr style=\"text-align: right;\">\n",
              "      <th></th>\n",
              "      <th>High</th>\n",
              "      <th>Low</th>\n",
              "      <th>Open</th>\n",
              "      <th>Close</th>\n",
              "      <th>Volume</th>\n",
              "      <th>triple_barrier_signal</th>\n",
              "      <th>RSI</th>\n",
              "      <th>Williams %R</th>\n",
              "      <th>SMA</th>\n",
              "      <th>EMA</th>\n",
              "      <th>WMA</th>\n",
              "      <th>HMA</th>\n",
              "      <th>TEMA</th>\n",
              "      <th>CCI</th>\n",
              "      <th>CMO</th>\n",
              "      <th>MACD</th>\n",
              "      <th>PPO</th>\n",
              "      <th>ROC</th>\n",
              "      <th>CFI</th>\n",
              "    </tr>\n",
              "    <tr>\n",
              "      <th>Date</th>\n",
              "      <th></th>\n",
              "      <th></th>\n",
              "      <th></th>\n",
              "      <th></th>\n",
              "      <th></th>\n",
              "      <th></th>\n",
              "      <th></th>\n",
              "      <th></th>\n",
              "      <th></th>\n",
              "      <th></th>\n",
              "      <th></th>\n",
              "      <th></th>\n",
              "      <th></th>\n",
              "      <th></th>\n",
              "      <th></th>\n",
              "      <th></th>\n",
              "      <th></th>\n",
              "      <th></th>\n",
              "      <th></th>\n",
              "    </tr>\n",
              "  </thead>\n",
              "  <tbody>\n",
              "    <tr>\n",
              "      <th>2019-09-02</th>\n",
              "      <td>76.500000</td>\n",
              "      <td>75.400002</td>\n",
              "      <td>76.000000</td>\n",
              "      <td>76.300003</td>\n",
              "      <td>1867471.0</td>\n",
              "      <td>0</td>\n",
              "      <td>63.083007</td>\n",
              "      <td>-4.255257</td>\n",
              "      <td>77.668293</td>\n",
              "      <td>74.705958</td>\n",
              "      <td>74.382223</td>\n",
              "      <td>74.340002</td>\n",
              "      <td>75.616652</td>\n",
              "      <td>80.970279</td>\n",
              "      <td>46.478876</td>\n",
              "      <td>0.306814</td>\n",
              "      <td>0.398785</td>\n",
              "      <td>4.092769</td>\n",
              "      <td>-2.969975e+11</td>\n",
              "    </tr>\n",
              "    <tr>\n",
              "      <th>2019-09-03</th>\n",
              "      <td>78.000000</td>\n",
              "      <td>76.199997</td>\n",
              "      <td>76.500000</td>\n",
              "      <td>77.000000</td>\n",
              "      <td>3564478.0</td>\n",
              "      <td>0</td>\n",
              "      <td>67.290735</td>\n",
              "      <td>-16.129040</td>\n",
              "      <td>77.646342</td>\n",
              "      <td>75.164767</td>\n",
              "      <td>74.471112</td>\n",
              "      <td>75.050001</td>\n",
              "      <td>76.538654</td>\n",
              "      <td>142.663663</td>\n",
              "      <td>40.624966</td>\n",
              "      <td>0.443041</td>\n",
              "      <td>0.580990</td>\n",
              "      <td>7.093183</td>\n",
              "      <td>-2.969964e+11</td>\n",
              "    </tr>\n",
              "    <tr>\n",
              "      <th>2019-09-04</th>\n",
              "      <td>77.900002</td>\n",
              "      <td>76.500000</td>\n",
              "      <td>77.099998</td>\n",
              "      <td>77.400002</td>\n",
              "      <td>2390737.0</td>\n",
              "      <td>0</td>\n",
              "      <td>69.577051</td>\n",
              "      <td>-9.677400</td>\n",
              "      <td>77.631708</td>\n",
              "      <td>75.611814</td>\n",
              "      <td>74.715556</td>\n",
              "      <td>76.070000</td>\n",
              "      <td>77.283662</td>\n",
              "      <td>145.635444</td>\n",
              "      <td>53.125011</td>\n",
              "      <td>0.540970</td>\n",
              "      <td>0.711661</td>\n",
              "      <td>7.500002</td>\n",
              "      <td>-2.969953e+11</td>\n",
              "    </tr>\n",
              "    <tr>\n",
              "      <th>2019-09-05</th>\n",
              "      <td>79.300003</td>\n",
              "      <td>77.500000</td>\n",
              "      <td>78.500000</td>\n",
              "      <td>78.900002</td>\n",
              "      <td>3876053.0</td>\n",
              "      <td>0</td>\n",
              "      <td>76.641619</td>\n",
              "      <td>-5.405425</td>\n",
              "      <td>77.678049</td>\n",
              "      <td>76.269451</td>\n",
              "      <td>74.891111</td>\n",
              "      <td>76.990002</td>\n",
              "      <td>78.439899</td>\n",
              "      <td>163.097672</td>\n",
              "      <td>57.746470</td>\n",
              "      <td>0.678727</td>\n",
              "      <td>0.893767</td>\n",
              "      <td>8.082194</td>\n",
              "      <td>-2.969933e+11</td>\n",
              "    </tr>\n",
              "    <tr>\n",
              "      <th>2019-09-06</th>\n",
              "      <td>82.199997</td>\n",
              "      <td>80.000000</td>\n",
              "      <td>80.000000</td>\n",
              "      <td>81.500000</td>\n",
              "      <td>10030061.0</td>\n",
              "      <td>0</td>\n",
              "      <td>84.049434</td>\n",
              "      <td>-7.142829</td>\n",
              "      <td>77.802439</td>\n",
              "      <td>77.315561</td>\n",
              "      <td>75.148890</td>\n",
              "      <td>77.950001</td>\n",
              "      <td>80.382917</td>\n",
              "      <td>191.259805</td>\n",
              "      <td>68.085112</td>\n",
              "      <td>0.902879</td>\n",
              "      <td>1.186059</td>\n",
              "      <td>9.543009</td>\n",
              "      <td>-2.969869e+11</td>\n",
              "    </tr>\n",
              "  </tbody>\n",
              "</table>\n",
              "</div>"
            ],
            "text/plain": [
              "                 High        Low       Open  ...       PPO       ROC           CFI\n",
              "Date                                         ...                                  \n",
              "2019-09-02  76.500000  75.400002  76.000000  ...  0.398785  4.092769 -2.969975e+11\n",
              "2019-09-03  78.000000  76.199997  76.500000  ...  0.580990  7.093183 -2.969964e+11\n",
              "2019-09-04  77.900002  76.500000  77.099998  ...  0.711661  7.500002 -2.969953e+11\n",
              "2019-09-05  79.300003  77.500000  78.500000  ...  0.893767  8.082194 -2.969933e+11\n",
              "2019-09-06  82.199997  80.000000  80.000000  ...  1.186059  9.543009 -2.969869e+11\n",
              "\n",
              "[5 rows x 19 columns]"
            ]
          },
          "metadata": {
            "tags": []
          },
          "execution_count": 21
        },
        {
          "output_type": "display_data",
          "data": {
            "image/png": "[encoded data removed]",
            "text/plain": [
              "<Figure size 432x288 with 1 Axes>"
            ]
          },
          "metadata": {
            "tags": []
          }
        }
      ]
    },
    {
      "cell_type": "markdown",
      "metadata": {
        "id": "8WydSl0doUYk",
        "colab_type": "text"
      },
      "source": [
        "# DMI"
      ]
    },
    {
      "cell_type": "code",
      "metadata": {
        "id": "xRTnC6DboU05",
        "colab_type": "code",
        "outputId": "6ca6613c-7ee6-400f-8f57-20527810bb97",
        "colab": {
          "base_uri": "https://localhost:8080/",
          "height": 1000
        }
      },
      "source": [
        "df['DMI'] = TA.DMI(ohlcv)['DI+'] - TA.DMI(ohlcv)['DI-']\n",
        "print(df['DMI'].describe())\n",
        "sns.distplot(df['DMI'].dropna())\n",
        "df.tail()"
      ],
      "execution_count": 22,
      "outputs": [
        {
          "output_type": "stream",
          "text": [
            "/usr/local/lib/python3.6/dist-packages/finta/finta.py:792: SettingWithCopyWarning: \n",
            "A value is trying to be set on a copy of a slice from a DataFrame.\n",
            "Try using .loc[row_indexer,col_indexer] = value instead\n",
            "\n",
            "See the caveats in the documentation: http://pandas.pydata.org/pandas-docs/stable/indexing.html#indexing-view-versus-copy\n",
            "  ohlc[\"up_move\"] = ohlc[\"high\"].diff()\n",
            "/usr/local/lib/python3.6/dist-packages/finta/finta.py:793: SettingWithCopyWarning: \n",
            "A value is trying to be set on a copy of a slice from a DataFrame.\n",
            "Try using .loc[row_indexer,col_indexer] = value instead\n",
            "\n",
            "See the caveats in the documentation: http://pandas.pydata.org/pandas-docs/stable/indexing.html#indexing-view-versus-copy\n",
            "  ohlc[\"down_move\"] = -ohlc[\"low\"].diff()\n",
            "/usr/local/lib/python3.6/dist-packages/finta/finta.py:809: SettingWithCopyWarning: \n",
            "A value is trying to be set on a copy of a slice from a DataFrame.\n",
            "Try using .loc[row_indexer,col_indexer] = value instead\n",
            "\n",
            "See the caveats in the documentation: http://pandas.pydata.org/pandas-docs/stable/indexing.html#indexing-view-versus-copy\n",
            "  ohlc[\"DMp\"] = DMp\n",
            "/usr/local/lib/python3.6/dist-packages/finta/finta.py:810: SettingWithCopyWarning: \n",
            "A value is trying to be set on a copy of a slice from a DataFrame.\n",
            "Try using .loc[row_indexer,col_indexer] = value instead\n",
            "\n",
            "See the caveats in the documentation: http://pandas.pydata.org/pandas-docs/stable/indexing.html#indexing-view-versus-copy\n",
            "  ohlc[\"DMm\"] = DMm\n"
          ],
          "name": "stderr"
        },
        {
          "output_type": "stream",
          "text": [
            "count    3580.000000\n",
            "mean        1.438576\n",
            "std        21.467703\n",
            "min       -96.489363\n",
            "25%       -10.122650\n",
            "50%         1.785808\n",
            "75%        13.080382\n",
            "max        94.141454\n",
            "Name: DMI, dtype: float64\n"
          ],
          "name": "stdout"
        },
        {
          "output_type": "execute_result",
          "data": {
            "text/html": [
              "<div>\n",
              "<style scoped>\n",
              "    .dataframe tbody tr th:only-of-type {\n",
              "        vertical-align: middle;\n",
              "    }\n",
              "\n",
              "    .dataframe tbody tr th {\n",
              "        vertical-align: top;\n",
              "    }\n",
              "\n",
              "    .dataframe thead th {\n",
              "        text-align: right;\n",
              "    }\n",
              "</style>\n",
              "<table border=\"1\" class=\"dataframe\">\n",
              "  <thead>\n",
              "    <tr style=\"text-align: right;\">\n",
              "      <th></th>\n",
              "      <th>High</th>\n",
              "      <th>Low</th>\n",
              "      <th>Open</th>\n",
              "      <th>Close</th>\n",
              "      <th>Volume</th>\n",
              "      <th>triple_barrier_signal</th>\n",
              "      <th>RSI</th>\n",
              "      <th>Williams %R</th>\n",
              "      <th>SMA</th>\n",
              "      <th>EMA</th>\n",
              "      <th>WMA</th>\n",
              "      <th>HMA</th>\n",
              "      <th>TEMA</th>\n",
              "      <th>CCI</th>\n",
              "      <th>CMO</th>\n",
              "      <th>MACD</th>\n",
              "      <th>PPO</th>\n",
              "      <th>ROC</th>\n",
              "      <th>CFI</th>\n",
              "      <th>DMI</th>\n",
              "    </tr>\n",
              "    <tr>\n",
              "      <th>Date</th>\n",
              "      <th></th>\n",
              "      <th></th>\n",
              "      <th></th>\n",
              "      <th></th>\n",
              "      <th></th>\n",
              "      <th></th>\n",
              "      <th></th>\n",
              "      <th></th>\n",
              "      <th></th>\n",
              "      <th></th>\n",
              "      <th></th>\n",
              "      <th></th>\n",
              "      <th></th>\n",
              "      <th></th>\n",
              "      <th></th>\n",
              "      <th></th>\n",
              "      <th></th>\n",
              "      <th></th>\n",
              "      <th></th>\n",
              "      <th></th>\n",
              "    </tr>\n",
              "  </thead>\n",
              "  <tbody>\n",
              "    <tr>\n",
              "      <th>2019-09-02</th>\n",
              "      <td>76.500000</td>\n",
              "      <td>75.400002</td>\n",
              "      <td>76.000000</td>\n",
              "      <td>76.300003</td>\n",
              "      <td>1867471.0</td>\n",
              "      <td>0</td>\n",
              "      <td>63.083007</td>\n",
              "      <td>-4.255257</td>\n",
              "      <td>77.668293</td>\n",
              "      <td>74.705958</td>\n",
              "      <td>74.382223</td>\n",
              "      <td>74.340002</td>\n",
              "      <td>75.616652</td>\n",
              "      <td>80.970279</td>\n",
              "      <td>46.478876</td>\n",
              "      <td>0.306814</td>\n",
              "      <td>0.398785</td>\n",
              "      <td>4.092769</td>\n",
              "      <td>-2.969975e+11</td>\n",
              "      <td>13.444991</td>\n",
              "    </tr>\n",
              "    <tr>\n",
              "      <th>2019-09-03</th>\n",
              "      <td>78.000000</td>\n",
              "      <td>76.199997</td>\n",
              "      <td>76.500000</td>\n",
              "      <td>77.000000</td>\n",
              "      <td>3564478.0</td>\n",
              "      <td>0</td>\n",
              "      <td>67.290735</td>\n",
              "      <td>-16.129040</td>\n",
              "      <td>77.646342</td>\n",
              "      <td>75.164767</td>\n",
              "      <td>74.471112</td>\n",
              "      <td>75.050001</td>\n",
              "      <td>76.538654</td>\n",
              "      <td>142.663663</td>\n",
              "      <td>40.624966</td>\n",
              "      <td>0.443041</td>\n",
              "      <td>0.580990</td>\n",
              "      <td>7.093183</td>\n",
              "      <td>-2.969964e+11</td>\n",
              "      <td>24.227179</td>\n",
              "    </tr>\n",
              "    <tr>\n",
              "      <th>2019-09-04</th>\n",
              "      <td>77.900002</td>\n",
              "      <td>76.500000</td>\n",
              "      <td>77.099998</td>\n",
              "      <td>77.400002</td>\n",
              "      <td>2390737.0</td>\n",
              "      <td>0</td>\n",
              "      <td>69.577051</td>\n",
              "      <td>-9.677400</td>\n",
              "      <td>77.631708</td>\n",
              "      <td>75.611814</td>\n",
              "      <td>74.715556</td>\n",
              "      <td>76.070000</td>\n",
              "      <td>77.283662</td>\n",
              "      <td>145.635444</td>\n",
              "      <td>53.125011</td>\n",
              "      <td>0.540970</td>\n",
              "      <td>0.711661</td>\n",
              "      <td>7.500002</td>\n",
              "      <td>-2.969953e+11</td>\n",
              "      <td>20.996888</td>\n",
              "    </tr>\n",
              "    <tr>\n",
              "      <th>2019-09-05</th>\n",
              "      <td>79.300003</td>\n",
              "      <td>77.500000</td>\n",
              "      <td>78.500000</td>\n",
              "      <td>78.900002</td>\n",
              "      <td>3876053.0</td>\n",
              "      <td>0</td>\n",
              "      <td>76.641619</td>\n",
              "      <td>-5.405425</td>\n",
              "      <td>77.678049</td>\n",
              "      <td>76.269451</td>\n",
              "      <td>74.891111</td>\n",
              "      <td>76.990002</td>\n",
              "      <td>78.439899</td>\n",
              "      <td>163.097672</td>\n",
              "      <td>57.746470</td>\n",
              "      <td>0.678727</td>\n",
              "      <td>0.893767</td>\n",
              "      <td>8.082194</td>\n",
              "      <td>-2.969933e+11</td>\n",
              "      <td>29.986792</td>\n",
              "    </tr>\n",
              "    <tr>\n",
              "      <th>2019-09-06</th>\n",
              "      <td>82.199997</td>\n",
              "      <td>80.000000</td>\n",
              "      <td>80.000000</td>\n",
              "      <td>81.500000</td>\n",
              "      <td>10030061.0</td>\n",
              "      <td>0</td>\n",
              "      <td>84.049434</td>\n",
              "      <td>-7.142829</td>\n",
              "      <td>77.802439</td>\n",
              "      <td>77.315561</td>\n",
              "      <td>75.148890</td>\n",
              "      <td>77.950001</td>\n",
              "      <td>80.382917</td>\n",
              "      <td>191.259805</td>\n",
              "      <td>68.085112</td>\n",
              "      <td>0.902879</td>\n",
              "      <td>1.186059</td>\n",
              "      <td>9.543009</td>\n",
              "      <td>-2.969869e+11</td>\n",
              "      <td>50.137206</td>\n",
              "    </tr>\n",
              "  </tbody>\n",
              "</table>\n",
              "</div>"
            ],
            "text/plain": [
              "                 High        Low       Open  ...       ROC           CFI        DMI\n",
              "Date                                         ...                                   \n",
              "2019-09-02  76.500000  75.400002  76.000000  ...  4.092769 -2.969975e+11  13.444991\n",
              "2019-09-03  78.000000  76.199997  76.500000  ...  7.093183 -2.969964e+11  24.227179\n",
              "2019-09-04  77.900002  76.500000  77.099998  ...  7.500002 -2.969953e+11  20.996888\n",
              "2019-09-05  79.300003  77.500000  78.500000  ...  8.082194 -2.969933e+11  29.986792\n",
              "2019-09-06  82.199997  80.000000  80.000000  ...  9.543009 -2.969869e+11  50.137206\n",
              "\n",
              "[5 rows x 20 columns]"
            ]
          },
          "metadata": {
            "tags": []
          },
          "execution_count": 22
        },
        {
          "output_type": "display_data",
          "data": {
            "image/png": "[encoded data removed]",
            "text/plain": [
              "<Figure size 432x288 with 1 Axes>"
            ]
          },
          "metadata": {
            "tags": []
          }
        }
      ]
    },
    {
      "cell_type": "markdown",
      "metadata": {
        "id": "96c_FgXOo98u",
        "colab_type": "text"
      },
      "source": [
        "# SAR"
      ]
    },
    {
      "cell_type": "code",
      "metadata": {
        "id": "eRPVEtrmo-bi",
        "colab_type": "code",
        "outputId": "4d0514a0-4dff-484e-b282-432224c6018d",
        "colab": {
          "base_uri": "https://localhost:8080/",
          "height": 763
        }
      },
      "source": [
        "df['SAR'] = TA.SAR(ohlcv)\n",
        "print(df['SAR'].describe())\n",
        "sns.distplot(df['SAR'].dropna())\n",
        "df.tail()"
      ],
      "execution_count": 23,
      "outputs": [
        {
          "output_type": "stream",
          "text": [
            "count    3663.000000\n",
            "mean       70.540760\n",
            "std        18.450801\n",
            "min        31.861500\n",
            "25%        54.478734\n",
            "50%        69.500000\n",
            "75%        87.715896\n",
            "max       116.352997\n",
            "Name: SAR, dtype: float64\n"
          ],
          "name": "stdout"
        },
        {
          "output_type": "execute_result",
          "data": {
            "text/html": [
              "<div>\n",
              "<style scoped>\n",
              "    .dataframe tbody tr th:only-of-type {\n",
              "        vertical-align: middle;\n",
              "    }\n",
              "\n",
              "    .dataframe tbody tr th {\n",
              "        vertical-align: top;\n",
              "    }\n",
              "\n",
              "    .dataframe thead th {\n",
              "        text-align: right;\n",
              "    }\n",
              "</style>\n",
              "<table border=\"1\" class=\"dataframe\">\n",
              "  <thead>\n",
              "    <tr style=\"text-align: right;\">\n",
              "      <th></th>\n",
              "      <th>High</th>\n",
              "      <th>Low</th>\n",
              "      <th>Open</th>\n",
              "      <th>Close</th>\n",
              "      <th>Volume</th>\n",
              "      <th>triple_barrier_signal</th>\n",
              "      <th>RSI</th>\n",
              "      <th>Williams %R</th>\n",
              "      <th>SMA</th>\n",
              "      <th>EMA</th>\n",
              "      <th>WMA</th>\n",
              "      <th>HMA</th>\n",
              "      <th>TEMA</th>\n",
              "      <th>CCI</th>\n",
              "      <th>CMO</th>\n",
              "      <th>MACD</th>\n",
              "      <th>PPO</th>\n",
              "      <th>ROC</th>\n",
              "      <th>CFI</th>\n",
              "      <th>DMI</th>\n",
              "      <th>SAR</th>\n",
              "    </tr>\n",
              "    <tr>\n",
              "      <th>Date</th>\n",
              "      <th></th>\n",
              "      <th></th>\n",
              "      <th></th>\n",
              "      <th></th>\n",
              "      <th></th>\n",
              "      <th></th>\n",
              "      <th></th>\n",
              "      <th></th>\n",
              "      <th></th>\n",
              "      <th></th>\n",
              "      <th></th>\n",
              "      <th></th>\n",
              "      <th></th>\n",
              "      <th></th>\n",
              "      <th></th>\n",
              "      <th></th>\n",
              "      <th></th>\n",
              "      <th></th>\n",
              "      <th></th>\n",
              "      <th></th>\n",
              "      <th></th>\n",
              "    </tr>\n",
              "  </thead>\n",
              "  <tbody>\n",
              "    <tr>\n",
              "      <th>2019-09-02</th>\n",
              "      <td>76.500000</td>\n",
              "      <td>75.400002</td>\n",
              "      <td>76.000000</td>\n",
              "      <td>76.300003</td>\n",
              "      <td>1867471.0</td>\n",
              "      <td>0</td>\n",
              "      <td>63.083007</td>\n",
              "      <td>-4.255257</td>\n",
              "      <td>77.668293</td>\n",
              "      <td>74.705958</td>\n",
              "      <td>74.382223</td>\n",
              "      <td>74.340002</td>\n",
              "      <td>75.616652</td>\n",
              "      <td>80.970279</td>\n",
              "      <td>46.478876</td>\n",
              "      <td>0.306814</td>\n",
              "      <td>0.398785</td>\n",
              "      <td>4.092769</td>\n",
              "      <td>-2.969975e+11</td>\n",
              "      <td>13.444991</td>\n",
              "      <td>71.800003</td>\n",
              "    </tr>\n",
              "    <tr>\n",
              "      <th>2019-09-03</th>\n",
              "      <td>78.000000</td>\n",
              "      <td>76.199997</td>\n",
              "      <td>76.500000</td>\n",
              "      <td>77.000000</td>\n",
              "      <td>3564478.0</td>\n",
              "      <td>0</td>\n",
              "      <td>67.290735</td>\n",
              "      <td>-16.129040</td>\n",
              "      <td>77.646342</td>\n",
              "      <td>75.164767</td>\n",
              "      <td>74.471112</td>\n",
              "      <td>75.050001</td>\n",
              "      <td>76.538654</td>\n",
              "      <td>142.663663</td>\n",
              "      <td>40.624966</td>\n",
              "      <td>0.443041</td>\n",
              "      <td>0.580990</td>\n",
              "      <td>7.093183</td>\n",
              "      <td>-2.969964e+11</td>\n",
              "      <td>24.227179</td>\n",
              "      <td>71.800003</td>\n",
              "    </tr>\n",
              "    <tr>\n",
              "      <th>2019-09-04</th>\n",
              "      <td>77.900002</td>\n",
              "      <td>76.500000</td>\n",
              "      <td>77.099998</td>\n",
              "      <td>77.400002</td>\n",
              "      <td>2390737.0</td>\n",
              "      <td>0</td>\n",
              "      <td>69.577051</td>\n",
              "      <td>-9.677400</td>\n",
              "      <td>77.631708</td>\n",
              "      <td>75.611814</td>\n",
              "      <td>74.715556</td>\n",
              "      <td>76.070000</td>\n",
              "      <td>77.283662</td>\n",
              "      <td>145.635444</td>\n",
              "      <td>53.125011</td>\n",
              "      <td>0.540970</td>\n",
              "      <td>0.711661</td>\n",
              "      <td>7.500002</td>\n",
              "      <td>-2.969953e+11</td>\n",
              "      <td>20.996888</td>\n",
              "      <td>72.048003</td>\n",
              "    </tr>\n",
              "    <tr>\n",
              "      <th>2019-09-05</th>\n",
              "      <td>79.300003</td>\n",
              "      <td>77.500000</td>\n",
              "      <td>78.500000</td>\n",
              "      <td>78.900002</td>\n",
              "      <td>3876053.0</td>\n",
              "      <td>0</td>\n",
              "      <td>76.641619</td>\n",
              "      <td>-5.405425</td>\n",
              "      <td>77.678049</td>\n",
              "      <td>76.269451</td>\n",
              "      <td>74.891111</td>\n",
              "      <td>76.990002</td>\n",
              "      <td>78.439899</td>\n",
              "      <td>163.097672</td>\n",
              "      <td>57.746470</td>\n",
              "      <td>0.678727</td>\n",
              "      <td>0.893767</td>\n",
              "      <td>8.082194</td>\n",
              "      <td>-2.969933e+11</td>\n",
              "      <td>29.986792</td>\n",
              "      <td>72.286083</td>\n",
              "    </tr>\n",
              "    <tr>\n",
              "      <th>2019-09-06</th>\n",
              "      <td>82.199997</td>\n",
              "      <td>80.000000</td>\n",
              "      <td>80.000000</td>\n",
              "      <td>81.500000</td>\n",
              "      <td>10030061.0</td>\n",
              "      <td>0</td>\n",
              "      <td>84.049434</td>\n",
              "      <td>-7.142829</td>\n",
              "      <td>77.802439</td>\n",
              "      <td>77.315561</td>\n",
              "      <td>75.148890</td>\n",
              "      <td>77.950001</td>\n",
              "      <td>80.382917</td>\n",
              "      <td>191.259805</td>\n",
              "      <td>68.085112</td>\n",
              "      <td>0.902879</td>\n",
              "      <td>1.186059</td>\n",
              "      <td>9.543009</td>\n",
              "      <td>-2.969869e+11</td>\n",
              "      <td>50.137206</td>\n",
              "      <td>72.706918</td>\n",
              "    </tr>\n",
              "  </tbody>\n",
              "</table>\n",
              "</div>"
            ],
            "text/plain": [
              "                 High        Low       Open  ...           CFI        DMI        SAR\n",
              "Date                                         ...                                    \n",
              "2019-09-02  76.500000  75.400002  76.000000  ... -2.969975e+11  13.444991  71.800003\n",
              "2019-09-03  78.000000  76.199997  76.500000  ... -2.969964e+11  24.227179  71.800003\n",
              "2019-09-04  77.900002  76.500000  77.099998  ... -2.969953e+11  20.996888  72.048003\n",
              "2019-09-05  79.300003  77.500000  78.500000  ... -2.969933e+11  29.986792  72.286083\n",
              "2019-09-06  82.199997  80.000000  80.000000  ... -2.969869e+11  50.137206  72.706918\n",
              "\n",
              "[5 rows x 21 columns]"
            ]
          },
          "metadata": {
            "tags": []
          },
          "execution_count": 23
        },
        {
          "output_type": "display_data",
          "data": {
            "image/png": "[encoded data removed]",
            "text/plain": [
              "<Figure size 432x288 with 1 Axes>"
            ]
          },
          "metadata": {
            "tags": []
          }
        }
      ]
    },
    {
      "cell_type": "markdown",
      "metadata": {
        "id": "MoqrDEejwYOV",
        "colab_type": "text"
      },
      "source": [
        "# columns選取"
      ]
    },
    {
      "cell_type": "code",
      "metadata": {
        "id": "qrGg0ojRKuE1",
        "colab_type": "code",
        "outputId": "2195d205-075d-4fbc-f6f7-feb070826cc9",
        "colab": {
          "base_uri": "https://localhost:8080/",
          "height": 379
        }
      },
      "source": [
        "print(df.shape)\n",
        "df = df.dropna(axis=0)#刪除有缺失的row,會缺失主要因為用時間rolling計算技術指標導致,正常的\n",
        "features = df.columns[-15:].tolist() #取15個剛剛建立的技術指標當特徵\n",
        "y_name = 'triple_barrier_signal' #當作labels\n",
        "df = df[features+[y_name]]\n",
        "print(df.shape)\n",
        "df.tail()"
      ],
      "execution_count": 24,
      "outputs": [
        {
          "output_type": "stream",
          "text": [
            "(3663, 21)\n",
            "(3580, 16)\n"
          ],
          "name": "stdout"
        },
        {
          "output_type": "execute_result",
          "data": {
            "text/html": [
              "<div>\n",
              "<style scoped>\n",
              "    .dataframe tbody tr th:only-of-type {\n",
              "        vertical-align: middle;\n",
              "    }\n",
              "\n",
              "    .dataframe tbody tr th {\n",
              "        vertical-align: top;\n",
              "    }\n",
              "\n",
              "    .dataframe thead th {\n",
              "        text-align: right;\n",
              "    }\n",
              "</style>\n",
              "<table border=\"1\" class=\"dataframe\">\n",
              "  <thead>\n",
              "    <tr style=\"text-align: right;\">\n",
              "      <th></th>\n",
              "      <th>RSI</th>\n",
              "      <th>Williams %R</th>\n",
              "      <th>SMA</th>\n",
              "      <th>EMA</th>\n",
              "      <th>WMA</th>\n",
              "      <th>HMA</th>\n",
              "      <th>TEMA</th>\n",
              "      <th>CCI</th>\n",
              "      <th>CMO</th>\n",
              "      <th>MACD</th>\n",
              "      <th>PPO</th>\n",
              "      <th>ROC</th>\n",
              "      <th>CFI</th>\n",
              "      <th>DMI</th>\n",
              "      <th>SAR</th>\n",
              "      <th>triple_barrier_signal</th>\n",
              "    </tr>\n",
              "    <tr>\n",
              "      <th>Date</th>\n",
              "      <th></th>\n",
              "      <th></th>\n",
              "      <th></th>\n",
              "      <th></th>\n",
              "      <th></th>\n",
              "      <th></th>\n",
              "      <th></th>\n",
              "      <th></th>\n",
              "      <th></th>\n",
              "      <th></th>\n",
              "      <th></th>\n",
              "      <th></th>\n",
              "      <th></th>\n",
              "      <th></th>\n",
              "      <th></th>\n",
              "      <th></th>\n",
              "    </tr>\n",
              "  </thead>\n",
              "  <tbody>\n",
              "    <tr>\n",
              "      <th>2019-09-02</th>\n",
              "      <td>63.083007</td>\n",
              "      <td>-4.255257</td>\n",
              "      <td>77.668293</td>\n",
              "      <td>74.705958</td>\n",
              "      <td>74.382223</td>\n",
              "      <td>74.340002</td>\n",
              "      <td>75.616652</td>\n",
              "      <td>80.970279</td>\n",
              "      <td>46.478876</td>\n",
              "      <td>0.306814</td>\n",
              "      <td>0.398785</td>\n",
              "      <td>4.092769</td>\n",
              "      <td>-2.969975e+11</td>\n",
              "      <td>13.444991</td>\n",
              "      <td>71.800003</td>\n",
              "      <td>0</td>\n",
              "    </tr>\n",
              "    <tr>\n",
              "      <th>2019-09-03</th>\n",
              "      <td>67.290735</td>\n",
              "      <td>-16.129040</td>\n",
              "      <td>77.646342</td>\n",
              "      <td>75.164767</td>\n",
              "      <td>74.471112</td>\n",
              "      <td>75.050001</td>\n",
              "      <td>76.538654</td>\n",
              "      <td>142.663663</td>\n",
              "      <td>40.624966</td>\n",
              "      <td>0.443041</td>\n",
              "      <td>0.580990</td>\n",
              "      <td>7.093183</td>\n",
              "      <td>-2.969964e+11</td>\n",
              "      <td>24.227179</td>\n",
              "      <td>71.800003</td>\n",
              "      <td>0</td>\n",
              "    </tr>\n",
              "    <tr>\n",
              "      <th>2019-09-04</th>\n",
              "      <td>69.577051</td>\n",
              "      <td>-9.677400</td>\n",
              "      <td>77.631708</td>\n",
              "      <td>75.611814</td>\n",
              "      <td>74.715556</td>\n",
              "      <td>76.070000</td>\n",
              "      <td>77.283662</td>\n",
              "      <td>145.635444</td>\n",
              "      <td>53.125011</td>\n",
              "      <td>0.540970</td>\n",
              "      <td>0.711661</td>\n",
              "      <td>7.500002</td>\n",
              "      <td>-2.969953e+11</td>\n",
              "      <td>20.996888</td>\n",
              "      <td>72.048003</td>\n",
              "      <td>0</td>\n",
              "    </tr>\n",
              "    <tr>\n",
              "      <th>2019-09-05</th>\n",
              "      <td>76.641619</td>\n",
              "      <td>-5.405425</td>\n",
              "      <td>77.678049</td>\n",
              "      <td>76.269451</td>\n",
              "      <td>74.891111</td>\n",
              "      <td>76.990002</td>\n",
              "      <td>78.439899</td>\n",
              "      <td>163.097672</td>\n",
              "      <td>57.746470</td>\n",
              "      <td>0.678727</td>\n",
              "      <td>0.893767</td>\n",
              "      <td>8.082194</td>\n",
              "      <td>-2.969933e+11</td>\n",
              "      <td>29.986792</td>\n",
              "      <td>72.286083</td>\n",
              "      <td>0</td>\n",
              "    </tr>\n",
              "    <tr>\n",
              "      <th>2019-09-06</th>\n",
              "      <td>84.049434</td>\n",
              "      <td>-7.142829</td>\n",
              "      <td>77.802439</td>\n",
              "      <td>77.315561</td>\n",
              "      <td>75.148890</td>\n",
              "      <td>77.950001</td>\n",
              "      <td>80.382917</td>\n",
              "      <td>191.259805</td>\n",
              "      <td>68.085112</td>\n",
              "      <td>0.902879</td>\n",
              "      <td>1.186059</td>\n",
              "      <td>9.543009</td>\n",
              "      <td>-2.969869e+11</td>\n",
              "      <td>50.137206</td>\n",
              "      <td>72.706918</td>\n",
              "      <td>0</td>\n",
              "    </tr>\n",
              "  </tbody>\n",
              "</table>\n",
              "</div>"
            ],
            "text/plain": [
              "                  RSI  Williams %R  ...        SAR  triple_barrier_signal\n",
              "Date                                ...                                  \n",
              "2019-09-02  63.083007    -4.255257  ...  71.800003                      0\n",
              "2019-09-03  67.290735   -16.129040  ...  71.800003                      0\n",
              "2019-09-04  69.577051    -9.677400  ...  72.048003                      0\n",
              "2019-09-05  76.641619    -5.405425  ...  72.286083                      0\n",
              "2019-09-06  84.049434    -7.142829  ...  72.706918                      0\n",
              "\n",
              "[5 rows x 16 columns]"
            ]
          },
          "metadata": {
            "tags": []
          },
          "execution_count": 24
        }
      ]
    },
    {
      "cell_type": "markdown",
      "metadata": {
        "id": "YSh6cJBEwgtg",
        "colab_type": "text"
      },
      "source": [
        "# 相關性分析"
      ]
    },
    {
      "cell_type": "code",
      "metadata": {
        "id": "hKy0pMZfLKEH",
        "colab_type": "code",
        "outputId": "104e0046-00af-4072-9137-0eff2973d721",
        "colab": {
          "base_uri": "https://localhost:8080/",
          "height": 811
        }
      },
      "source": [
        "import seaborn as sns\n",
        "import matplotlib.pyplot as plt\n",
        "plt.figure(figsize=(14,12))\n",
        "sns.heatmap(abs(df.corr()),annot=True,linewidths=0.1)"
      ],
      "execution_count": 25,
      "outputs": [
        {
          "output_type": "execute_result",
          "data": {
            "text/plain": [
              "<matplotlib.axes._subplots.AxesSubplot at 0x7fa5e78024a8>"
            ]
          },
          "metadata": {
            "tags": []
          },
          "execution_count": 25
        },
        {
          "output_type": "display_data",
          "data": {
            "image/png": "[encoded data removed]",
            "text/plain": [
              "<Figure size 1008x864 with 2 Axes>"
            ]
          },
          "metadata": {
            "tags": []
          }
        }
      ]
    },
    {
      "cell_type": "markdown",
      "metadata": {
        "id": "c68TXVQaqGl3",
        "colab_type": "text"
      },
      "source": [
        "# features scaling"
      ]
    },
    {
      "cell_type": "code",
      "metadata": {
        "id": "JpZPZWfJqGuo",
        "colab_type": "code",
        "outputId": "b4c2f56c-45b2-42d2-f34c-83c9fc65656e",
        "colab": {
          "base_uri": "https://localhost:8080/",
          "height": 225
        }
      },
      "source": [
        "from sklearn.preprocessing import MinMaxScaler\n",
        "min_max_scaler = MinMaxScaler()\n",
        "df_minmax = min_max_scaler.fit_transform(df)#縮放到0-1之間\n",
        "df_minmax = pd.DataFrame(df_minmax,\n",
        "                         index = df.index,\n",
        "                         columns = df.columns)#轉回dataframe格式\n",
        "df_minmax[y_name] = df[y_name]#y不用MinMaxScaler\n",
        "df_minmax.tail()"
      ],
      "execution_count": 26,
      "outputs": [
        {
          "output_type": "execute_result",
          "data": {
            "text/html": [
              "<div>\n",
              "<style scoped>\n",
              "    .dataframe tbody tr th:only-of-type {\n",
              "        vertical-align: middle;\n",
              "    }\n",
              "\n",
              "    .dataframe tbody tr th {\n",
              "        vertical-align: top;\n",
              "    }\n",
              "\n",
              "    .dataframe thead th {\n",
              "        text-align: right;\n",
              "    }\n",
              "</style>\n",
              "<table border=\"1\" class=\"dataframe\">\n",
              "  <thead>\n",
              "    <tr style=\"text-align: right;\">\n",
              "      <th></th>\n",
              "      <th>RSI</th>\n",
              "      <th>Williams %R</th>\n",
              "      <th>SMA</th>\n",
              "      <th>EMA</th>\n",
              "      <th>WMA</th>\n",
              "      <th>HMA</th>\n",
              "      <th>TEMA</th>\n",
              "      <th>CCI</th>\n",
              "      <th>CMO</th>\n",
              "      <th>MACD</th>\n",
              "      <th>PPO</th>\n",
              "      <th>ROC</th>\n",
              "      <th>CFI</th>\n",
              "      <th>DMI</th>\n",
              "      <th>SAR</th>\n",
              "      <th>triple_barrier_signal</th>\n",
              "    </tr>\n",
              "    <tr>\n",
              "      <th>Date</th>\n",
              "      <th></th>\n",
              "      <th></th>\n",
              "      <th></th>\n",
              "      <th></th>\n",
              "      <th></th>\n",
              "      <th></th>\n",
              "      <th></th>\n",
              "      <th></th>\n",
              "      <th></th>\n",
              "      <th></th>\n",
              "      <th></th>\n",
              "      <th></th>\n",
              "      <th></th>\n",
              "      <th></th>\n",
              "      <th></th>\n",
              "      <th></th>\n",
              "    </tr>\n",
              "  </thead>\n",
              "  <tbody>\n",
              "    <tr>\n",
              "      <th>2019-09-02</th>\n",
              "      <td>0.638931</td>\n",
              "      <td>0.957447</td>\n",
              "      <td>0.592258</td>\n",
              "      <td>0.536053</td>\n",
              "      <td>0.520761</td>\n",
              "      <td>0.505582</td>\n",
              "      <td>0.527386</td>\n",
              "      <td>0.703306</td>\n",
              "      <td>0.732394</td>\n",
              "      <td>0.662677</td>\n",
              "      <td>0.618159</td>\n",
              "      <td>0.467021</td>\n",
              "      <td>0.082540</td>\n",
              "      <td>0.576687</td>\n",
              "      <td>0.472693</td>\n",
              "      <td>0</td>\n",
              "    </tr>\n",
              "    <tr>\n",
              "      <th>2019-09-03</th>\n",
              "      <td>0.686280</td>\n",
              "      <td>0.838710</td>\n",
              "      <td>0.591904</td>\n",
              "      <td>0.542571</td>\n",
              "      <td>0.521971</td>\n",
              "      <td>0.514695</td>\n",
              "      <td>0.539113</td>\n",
              "      <td>0.831149</td>\n",
              "      <td>0.703125</td>\n",
              "      <td>0.696856</td>\n",
              "      <td>0.647652</td>\n",
              "      <td>0.503693</td>\n",
              "      <td>0.082541</td>\n",
              "      <td>0.633248</td>\n",
              "      <td>0.472693</td>\n",
              "      <td>0</td>\n",
              "    </tr>\n",
              "    <tr>\n",
              "      <th>2019-09-04</th>\n",
              "      <td>0.712007</td>\n",
              "      <td>0.903226</td>\n",
              "      <td>0.591669</td>\n",
              "      <td>0.548922</td>\n",
              "      <td>0.525298</td>\n",
              "      <td>0.527786</td>\n",
              "      <td>0.548589</td>\n",
              "      <td>0.837308</td>\n",
              "      <td>0.765625</td>\n",
              "      <td>0.721426</td>\n",
              "      <td>0.668803</td>\n",
              "      <td>0.508665</td>\n",
              "      <td>0.082542</td>\n",
              "      <td>0.616303</td>\n",
              "      <td>0.475628</td>\n",
              "      <td>0</td>\n",
              "    </tr>\n",
              "    <tr>\n",
              "      <th>2019-09-05</th>\n",
              "      <td>0.791503</td>\n",
              "      <td>0.945946</td>\n",
              "      <td>0.592415</td>\n",
              "      <td>0.558265</td>\n",
              "      <td>0.527688</td>\n",
              "      <td>0.539594</td>\n",
              "      <td>0.563295</td>\n",
              "      <td>0.873493</td>\n",
              "      <td>0.788732</td>\n",
              "      <td>0.755989</td>\n",
              "      <td>0.698280</td>\n",
              "      <td>0.515781</td>\n",
              "      <td>0.082544</td>\n",
              "      <td>0.663461</td>\n",
              "      <td>0.478446</td>\n",
              "      <td>0</td>\n",
              "    </tr>\n",
              "    <tr>\n",
              "      <th>2019-09-06</th>\n",
              "      <td>0.874862</td>\n",
              "      <td>0.928572</td>\n",
              "      <td>0.594418</td>\n",
              "      <td>0.573127</td>\n",
              "      <td>0.531196</td>\n",
              "      <td>0.551915</td>\n",
              "      <td>0.588009</td>\n",
              "      <td>0.931852</td>\n",
              "      <td>0.840426</td>\n",
              "      <td>0.812228</td>\n",
              "      <td>0.745592</td>\n",
              "      <td>0.533635</td>\n",
              "      <td>0.082550</td>\n",
              "      <td>0.769165</td>\n",
              "      <td>0.483426</td>\n",
              "      <td>0</td>\n",
              "    </tr>\n",
              "  </tbody>\n",
              "</table>\n",
              "</div>"
            ],
            "text/plain": [
              "                 RSI  Williams %R  ...       SAR  triple_barrier_signal\n",
              "Date                               ...                                 \n",
              "2019-09-02  0.638931     0.957447  ...  0.472693                      0\n",
              "2019-09-03  0.686280     0.838710  ...  0.472693                      0\n",
              "2019-09-04  0.712007     0.903226  ...  0.475628                      0\n",
              "2019-09-05  0.791503     0.945946  ...  0.478446                      0\n",
              "2019-09-06  0.874862     0.928572  ...  0.483426                      0\n",
              "\n",
              "[5 rows x 16 columns]"
            ]
          },
          "metadata": {
            "tags": []
          },
          "execution_count": 26
        }
      ]
    },
    {
      "cell_type": "code",
      "metadata": {
        "id": "5MCZDpBgrrQQ",
        "colab_type": "code",
        "outputId": "a25aff39-f121-4af9-f2a3-6afa31596c12",
        "colab": {
          "base_uri": "https://localhost:8080/",
          "height": 34
        }
      },
      "source": [
        "df = df_minmax\n",
        "print('特徵縮放完成!')"
      ],
      "execution_count": 27,
      "outputs": [
        {
          "output_type": "stream",
          "text": [
            "特徵縮放完成!\n"
          ],
          "name": "stdout"
        }
      ]
    },
    {
      "cell_type": "markdown",
      "metadata": {
        "id": "_kc7tvz_M7PO",
        "colab_type": "text"
      },
      "source": [
        "# Xs ,ys prepare"
      ]
    },
    {
      "cell_type": "code",
      "metadata": {
        "id": "2ZHvlRJ5Lzzu",
        "colab_type": "code",
        "outputId": "4ed0009e-3494-441e-edf9-0ab1ddea69b0",
        "colab": {
          "base_uri": "https://localhost:8080/",
          "height": 50
        }
      },
      "source": [
        "from tqdm import tqdm\n",
        "import numpy as np\n",
        "\n",
        "#定義觀察天數,起始index(0),結束index(資料筆數-觀察天數)\n",
        "days = 15\n",
        "b_index = 0\n",
        "f_index = len(df)-days\n",
        "\n",
        "#特徵欄位\n",
        "features = df.drop(y_name,axis=1).columns.tolist()\n",
        "\n",
        "#待存放序列\n",
        "Xs = []\n",
        "ys = []\n",
        "indexs = []\n",
        "\n",
        "'''\n",
        "若資料筆數100,days=15天,f_index=85,i只會跑到84,i+days=99,features只會跑到98天.\n",
        "若資料筆數100,days=15天,f_index=85+1,i會跑到85,i+days=100,features會跑到99天.\n",
        "'''\n",
        "for i in tqdm(range(b_index ,f_index+1 ,1)):#每次i都會遞增1\n",
        "  X = df.iloc[i:i+days,:][features] #ex:0...14(不含15)之features\n",
        "  y = df.iloc[i+days-1:i+days,:][y_name]#ex:14,y_name\n",
        "  X = np.array(X) # to np_array\n",
        "  Xs.append(X) #加入一筆X\n",
        "  ys.append(y) #加入一筆y\n",
        "  indexs.append((df.iloc[[i]].index,\n",
        "                 df.iloc[[i+days-1]].index)) #加入資料日期\n",
        "#轉換成np_array\n",
        "Xs = np.array(Xs)\n",
        "ys = np.array(ys)\n",
        "print('準備完成')"
      ],
      "execution_count": 28,
      "outputs": [
        {
          "output_type": "stream",
          "text": [
            "100%|██████████| 3566/3566 [00:07<00:00, 473.82it/s]\n"
          ],
          "name": "stderr"
        },
        {
          "output_type": "stream",
          "text": [
            "準備完成\n"
          ],
          "name": "stdout"
        }
      ]
    },
    {
      "cell_type": "markdown",
      "metadata": {
        "id": "a9iNRYKpNfIP",
        "colab_type": "text"
      },
      "source": [
        "# check"
      ]
    },
    {
      "cell_type": "code",
      "metadata": {
        "id": "7YiS6ZmtNfSf",
        "colab_type": "code",
        "outputId": "285f084a-70df-472e-9a00-333078f57ba3",
        "colab": {
          "base_uri": "https://localhost:8080/",
          "height": 67
        }
      },
      "source": [
        "print('資料筆數:',len(Xs))\n",
        "print('第一筆的index開始和結束:{}-{}'.format(indexs[0][0].date[0],indexs[0][1].date[0]))\n",
        "print('最後一筆的index開始和結束:{}-{}'.format(indexs[-1][0].date[0],indexs[-1][1].date[0]))"
      ],
      "execution_count": 29,
      "outputs": [
        {
          "output_type": "stream",
          "text": [
            "資料筆數: 3566\n",
            "第一筆的index開始和結束:2005-03-03-2005-03-23\n",
            "最後一筆的index開始和結束:2019-08-16-2019-09-06\n"
          ],
          "name": "stdout"
        }
      ]
    },
    {
      "cell_type": "markdown",
      "metadata": {
        "id": "Pabl4tEsXYB8",
        "colab_type": "text"
      },
      "source": [
        "# Reshape X"
      ]
    },
    {
      "cell_type": "markdown",
      "metadata": {
        "id": "RvUPQWb1An8u",
        "colab_type": "text"
      },
      "source": [
        "(圖片數量,長,寬,1張)"
      ]
    },
    {
      "cell_type": "code",
      "metadata": {
        "id": "In4R0IcSPDwG",
        "colab_type": "code",
        "outputId": "8a68e1ad-4b7c-4773-bd19-074138548e9c",
        "colab": {
          "base_uri": "https://localhost:8080/",
          "height": 50
        }
      },
      "source": [
        "print(Xs.shape)\n",
        "Xs = Xs.reshape(-1,days,len(features),1)\n",
        "print(Xs.shape)"
      ],
      "execution_count": 30,
      "outputs": [
        {
          "output_type": "stream",
          "text": [
            "(3566, 15, 15)\n",
            "(3566, 15, 15, 1)\n"
          ],
          "name": "stdout"
        }
      ]
    },
    {
      "cell_type": "markdown",
      "metadata": {
        "id": "lUy2cpReXaOV",
        "colab_type": "text"
      },
      "source": [
        "# One hot encoding of label"
      ]
    },
    {
      "cell_type": "markdown",
      "metadata": {
        "id": "hjDc-sStA1gk",
        "colab_type": "text"
      },
      "source": [
        "原始y代表漲幅"
      ]
    },
    {
      "cell_type": "code",
      "metadata": {
        "id": "6XGRdxmfWrfo",
        "colab_type": "code",
        "outputId": "38771d17-87d7-4d18-96fd-c458aafd9786",
        "colab": {
          "base_uri": "https://localhost:8080/",
          "height": 235
        }
      },
      "source": [
        "print(ys.shape)\n",
        "print(ys[:5])\n",
        "\n",
        "from keras.utils.np_utils import to_categorical\n",
        "ys = to_categorical(ys, num_classes = 3)\n",
        "print(ys.shape)\n",
        "print(ys[:5])"
      ],
      "execution_count": 31,
      "outputs": [
        {
          "output_type": "stream",
          "text": [
            "(3566, 1)\n",
            "[[-1]\n",
            " [-1]\n",
            " [-1]\n",
            " [-1]\n",
            " [ 0]]\n"
          ],
          "name": "stdout"
        },
        {
          "output_type": "stream",
          "text": [
            "Using TensorFlow backend.\n"
          ],
          "name": "stderr"
        },
        {
          "output_type": "stream",
          "text": [
            "(3566, 3)\n",
            "[[0. 0. 1.]\n",
            " [0. 0. 1.]\n",
            " [0. 0. 1.]\n",
            " [0. 0. 1.]\n",
            " [1. 0. 0.]]\n"
          ],
          "name": "stdout"
        }
      ]
    },
    {
      "cell_type": "markdown",
      "metadata": {
        "id": "TYcPI2TWBTpJ",
        "colab_type": "text"
      },
      "source": [
        "# Visualization"
      ]
    },
    {
      "cell_type": "code",
      "metadata": {
        "id": "ibNjBLRaBUJh",
        "colab_type": "code",
        "outputId": "3dbc9c5c-a896-4dde-bda9-e0da90f5cfc3",
        "colab": {
          "base_uri": "https://localhost:8080/",
          "height": 607
        }
      },
      "source": [
        "import matplotlib.pyplot as plt\n",
        "import matplotlib.image as mpimg\n",
        "%matplotlib inline\n",
        "Xs_v = Xs.reshape(-1,Xs.shape[1],Xs.shape[2])\n",
        "plt.figure(figsize=(10,10))\n",
        "plt.subplots_adjust(wspace =0, hspace =0.3)\n",
        "for i in range(0,9):\n",
        "    plt.subplot(330 + (i+1))\n",
        "    plt.imshow(Xs_v[i])\n",
        "    plt.title(np.argmax(ys[i]))"
      ],
      "execution_count": 32,
      "outputs": [
        {
          "output_type": "display_data",
          "data": {
            "image/png": "[encoded data removed]",
            "text/plain": [
              "<Figure size 720x720 with 9 Axes>"
            ]
          },
          "metadata": {
            "tags": []
          }
        }
      ]
    },
    {
      "cell_type": "markdown",
      "metadata": {
        "id": "5Oa6gYq_aVjE",
        "colab_type": "text"
      },
      "source": [
        "# Split training and validation sets"
      ]
    },
    {
      "cell_type": "code",
      "metadata": {
        "id": "OLHFbreckAlH",
        "colab_type": "code",
        "outputId": "ea3c51b5-3e10-46d5-cd13-6741e25897c7",
        "colab": {
          "base_uri": "https://localhost:8080/",
          "height": 34
        }
      },
      "source": [
        "X_test = Xs[-40:] #最後40天features當作test資料\n",
        "X_train,y_train = Xs[:-40],ys[:-40] #其他當作訓練\n",
        "print(X_train.shape,y_train.shape,X_test.shape)"
      ],
      "execution_count": 33,
      "outputs": [
        {
          "output_type": "stream",
          "text": [
            "(3526, 15, 15, 1) (3526, 3) (40, 15, 15, 1)\n"
          ],
          "name": "stdout"
        }
      ]
    },
    {
      "cell_type": "code",
      "metadata": {
        "id": "MgsrVpYUYf5J",
        "colab_type": "code",
        "outputId": "4189130e-1b73-48f1-9827-05cfe814bd45",
        "colab": {
          "base_uri": "https://localhost:8080/",
          "height": 34
        }
      },
      "source": [
        "from sklearn.model_selection import train_test_split\n",
        "xtrain, xval, ytrain, yval = train_test_split(X_train,\n",
        "                                              y_train, \n",
        "                                              test_size=0.2,\n",
        "                                              random_state=42,\n",
        "                                              shuffle=True,#是否洗牌\n",
        "                                              stratify=None #是否根據y欄位做分層取樣\n",
        "                                             )\n",
        "print(xtrain.shape, ytrain.shape, xval.shape, yval.shape)"
      ],
      "execution_count": 34,
      "outputs": [
        {
          "output_type": "stream",
          "text": [
            "(2820, 15, 15, 1) (2820, 3) (706, 15, 15, 1) (706, 3)\n"
          ],
          "name": "stdout"
        }
      ]
    },
    {
      "cell_type": "markdown",
      "metadata": {
        "id": "2xQOFrENMkSb",
        "colab_type": "text"
      },
      "source": [
        "# 看一下樣本的label分布情況是否平均(待解決)"
      ]
    },
    {
      "cell_type": "markdown",
      "metadata": {
        "id": "xnUz7A3tlfya",
        "colab_type": "text"
      },
      "source": [
        "0:Hold,1:Buy,2:Sell"
      ]
    },
    {
      "cell_type": "code",
      "metadata": {
        "id": "aA9SXiicML6Y",
        "colab_type": "code",
        "outputId": "f9391bff-c402-43a7-f78d-a0dacef580df",
        "colab": {
          "base_uri": "https://localhost:8080/",
          "height": 84
        }
      },
      "source": [
        "pd.Series([np.argmax(i) for i in ys]).value_counts()"
      ],
      "execution_count": 35,
      "outputs": [
        {
          "output_type": "execute_result",
          "data": {
            "text/plain": [
              "2    1975\n",
              "1    1000\n",
              "0     591\n",
              "dtype: int64"
            ]
          },
          "metadata": {
            "tags": []
          },
          "execution_count": 35
        }
      ]
    },
    {
      "cell_type": "code",
      "metadata": {
        "id": "UIOBe8tVL5dV",
        "colab_type": "code",
        "outputId": "a4f3fc77-2339-49ea-a3e4-8262ae9dfef2",
        "colab": {
          "base_uri": "https://localhost:8080/",
          "height": 84
        }
      },
      "source": [
        "pd.Series([np.argmax(i) for i in ytrain]).value_counts()"
      ],
      "execution_count": 36,
      "outputs": [
        {
          "output_type": "execute_result",
          "data": {
            "text/plain": [
              "2    1583\n",
              "1     772\n",
              "0     465\n",
              "dtype: int64"
            ]
          },
          "metadata": {
            "tags": []
          },
          "execution_count": 36
        }
      ]
    },
    {
      "cell_type": "code",
      "metadata": {
        "id": "A235BZ6cMQ-S",
        "colab_type": "code",
        "outputId": "db584f87-10cc-4f0c-efa9-9f64f533f0c2",
        "colab": {
          "base_uri": "https://localhost:8080/",
          "height": 84
        }
      },
      "source": [
        "pd.Series([np.argmax(i) for i in yval]).value_counts()"
      ],
      "execution_count": 37,
      "outputs": [
        {
          "output_type": "execute_result",
          "data": {
            "text/plain": [
              "2    380\n",
              "1    219\n",
              "0    107\n",
              "dtype: int64"
            ]
          },
          "metadata": {
            "tags": []
          },
          "execution_count": 37
        }
      ]
    },
    {
      "cell_type": "markdown",
      "metadata": {
        "id": "m-oXz0FGarb1",
        "colab_type": "text"
      },
      "source": [
        "# CNN"
      ]
    },
    {
      "cell_type": "code",
      "metadata": {
        "id": "eWOsWp7_amoX",
        "colab_type": "code",
        "colab": {}
      },
      "source": [
        "from keras import backend as K\n",
        "from keras.models import Sequential\n",
        "from keras.layers import Dense, Dropout, Lambda, Flatten, BatchNormalization\n",
        "from keras.layers import Conv2D, MaxPool2D, AvgPool2D\n",
        "from keras.optimizers import Adam #做梯度下降的一種優化方法\n",
        "from keras.callbacks import ReduceLROnPlateau , EarlyStopping #減少學習速率 on Plateau"
      ],
      "execution_count": 0,
      "outputs": []
    },
    {
      "cell_type": "code",
      "metadata": {
        "id": "yd-csnW2auJS",
        "colab_type": "code",
        "outputId": "69149682-55c7-4282-a413-df145f98b49a",
        "colab": {
          "base_uri": "https://localhost:8080/",
          "height": 658
        }
      },
      "source": [
        "model = Sequential()\n",
        "\n",
        "nclasses = 3 \n",
        "\n",
        "model.add(Conv2D(filters=32, kernel_size=(3,3), padding='same', activation='relu', input_shape=(15,15,1)))\n",
        "model.add(Conv2D(filters=64, kernel_size=(3,3), padding='same', activation='relu',))\n",
        "model.add(MaxPool2D(pool_size=(2,2)))\n",
        "model.add(Dropout(0.25))\n",
        "model.add(Flatten())\n",
        "model.add(Dense(128, activation='relu'))\n",
        "model.add(Dropout(0.50))\n",
        "model.add(Dense(nclasses, activation='softmax'))\n",
        "model.summary()"
      ],
      "execution_count": 39,
      "outputs": [
        {
          "output_type": "stream",
          "text": [
            "WARNING:tensorflow:From /usr/local/lib/python3.6/dist-packages/keras/backend/tensorflow_backend.py:66: The name tf.get_default_graph is deprecated. Please use tf.compat.v1.get_default_graph instead.\n",
            "\n",
            "WARNING:tensorflow:From /usr/local/lib/python3.6/dist-packages/keras/backend/tensorflow_backend.py:541: The name tf.placeholder is deprecated. Please use tf.compat.v1.placeholder instead.\n",
            "\n",
            "WARNING:tensorflow:From /usr/local/lib/python3.6/dist-packages/keras/backend/tensorflow_backend.py:4432: The name tf.random_uniform is deprecated. Please use tf.random.uniform instead.\n",
            "\n",
            "WARNING:tensorflow:From /usr/local/lib/python3.6/dist-packages/keras/backend/tensorflow_backend.py:4267: The name tf.nn.max_pool is deprecated. Please use tf.nn.max_pool2d instead.\n",
            "\n",
            "WARNING:tensorflow:From /usr/local/lib/python3.6/dist-packages/keras/backend/tensorflow_backend.py:148: The name tf.placeholder_with_default is deprecated. Please use tf.compat.v1.placeholder_with_default instead.\n",
            "\n",
            "WARNING:tensorflow:From /usr/local/lib/python3.6/dist-packages/keras/backend/tensorflow_backend.py:3733: calling dropout (from tensorflow.python.ops.nn_ops) with keep_prob is deprecated and will be removed in a future version.\n",
            "Instructions for updating:\n",
            "Please use `rate` instead of `keep_prob`. Rate should be set to `rate = 1 - keep_prob`.\n",
            "Model: \"sequential_1\"\n",
            "_________________________________________________________________\n",
            "Layer (type)                 Output Shape              Param #   \n",
            "=================================================================\n",
            "conv2d_1 (Conv2D)            (None, 15, 15, 32)        320       \n",
            "_________________________________________________________________\n",
            "conv2d_2 (Conv2D)            (None, 15, 15, 64)        18496     \n",
            "_________________________________________________________________\n",
            "max_pooling2d_1 (MaxPooling2 (None, 7, 7, 64)          0         \n",
            "_________________________________________________________________\n",
            "dropout_1 (Dropout)          (None, 7, 7, 64)          0         \n",
            "_________________________________________________________________\n",
            "flatten_1 (Flatten)          (None, 3136)              0         \n",
            "_________________________________________________________________\n",
            "dense_1 (Dense)              (None, 128)               401536    \n",
            "_________________________________________________________________\n",
            "dropout_2 (Dropout)          (None, 128)               0         \n",
            "_________________________________________________________________\n",
            "dense_2 (Dense)              (None, 3)                 387       \n",
            "=================================================================\n",
            "Total params: 420,739\n",
            "Trainable params: 420,739\n",
            "Non-trainable params: 0\n",
            "_________________________________________________________________\n"
          ],
          "name": "stdout"
        }
      ]
    },
    {
      "cell_type": "code",
      "metadata": {
        "id": "8Z913AqUa8bJ",
        "colab_type": "code",
        "outputId": "738da61b-4eed-4a82-d3d8-e319e33930ab",
        "colab": {
          "base_uri": "https://localhost:8080/",
          "height": 84
        }
      },
      "source": [
        "model.compile(optimizer=\"adam\", loss=\"categorical_crossentropy\", metrics=[\"accuracy\"])"
      ],
      "execution_count": 40,
      "outputs": [
        {
          "output_type": "stream",
          "text": [
            "WARNING:tensorflow:From /usr/local/lib/python3.6/dist-packages/keras/optimizers.py:793: The name tf.train.Optimizer is deprecated. Please use tf.compat.v1.train.Optimizer instead.\n",
            "\n",
            "WARNING:tensorflow:From /usr/local/lib/python3.6/dist-packages/keras/backend/tensorflow_backend.py:3576: The name tf.log is deprecated. Please use tf.math.log instead.\n",
            "\n"
          ],
          "name": "stdout"
        }
      ]
    },
    {
      "cell_type": "markdown",
      "metadata": {
        "id": "VORA4n9Lz9of",
        "colab_type": "text"
      },
      "source": [
        "# 優化器"
      ]
    },
    {
      "cell_type": "code",
      "metadata": {
        "id": "Kw_j4R4Da_To",
        "colab_type": "code",
        "colab": {}
      },
      "source": [
        "#1\n",
        "lr_reduction = ReduceLROnPlateau(monitor = 'val_acc', \n",
        "                                 factor=0.5, \n",
        "                                 patience = 3, \n",
        "                                 verbose = 1, \n",
        "                                 min_lr = 0.00001)\n",
        "\n",
        "#2\n",
        "es = EarlyStopping(monitor='val_acc',#驗證集acc\n",
        "                   min_delta=0, \n",
        "                   patience=20,  \n",
        "                   mode='max',\n",
        "                   restore_best_weights=False)#恢復最佳權重"
      ],
      "execution_count": 0,
      "outputs": []
    },
    {
      "cell_type": "markdown",
      "metadata": {
        "id": "aevlVsI9Lk9a",
        "colab_type": "text"
      },
      "source": [
        "# fit"
      ]
    },
    {
      "cell_type": "code",
      "metadata": {
        "id": "TJJR7Yg-bHac",
        "colab_type": "code",
        "outputId": "e25ffb3f-753b-47aa-8684-a9f95e529db4",
        "colab": {
          "base_uri": "https://localhost:8080/",
          "height": 1000
        }
      },
      "source": [
        "history = model.fit(xtrain,ytrain,\n",
        "                    batch_size = 128,\n",
        "                    epochs = 256,\n",
        "                    validation_data=(xval,yval),\n",
        "                    verbose=1,callbacks=[es])"
      ],
      "execution_count": 42,
      "outputs": [
        {
          "output_type": "stream",
          "text": [
            "WARNING:tensorflow:From /usr/local/lib/python3.6/dist-packages/tensorflow/python/ops/math_grad.py:1250: add_dispatch_support.<locals>.wrapper (from tensorflow.python.ops.array_ops) is deprecated and will be removed in a future version.\n",
            "Instructions for updating:\n",
            "Use tf.where in 2.0, which has the same broadcast rule as np.where\n",
            "Train on 2820 samples, validate on 706 samples\n",
            "Epoch 1/256\n",
            "2820/2820 [==============================] - 3s 1ms/step - loss: 0.9909 - acc: 0.5493 - val_loss: 0.9832 - val_acc: 0.5382\n",
            "Epoch 2/256\n",
            "2820/2820 [==============================] - 0s 56us/step - loss: 0.9749 - acc: 0.5582 - val_loss: 0.9716 - val_acc: 0.5382\n",
            "Epoch 3/256\n",
            "2820/2820 [==============================] - 0s 51us/step - loss: 0.9714 - acc: 0.5603 - val_loss: 0.9858 - val_acc: 0.5382\n",
            "Epoch 4/256\n",
            "2820/2820 [==============================] - 0s 56us/step - loss: 0.9710 - acc: 0.5592 - val_loss: 0.9662 - val_acc: 0.5382\n",
            "Epoch 5/256\n",
            "2820/2820 [==============================] - 0s 50us/step - loss: 0.9655 - acc: 0.5606 - val_loss: 0.9601 - val_acc: 0.5397\n",
            "Epoch 6/256\n",
            "2820/2820 [==============================] - 0s 47us/step - loss: 0.9544 - acc: 0.5617 - val_loss: 0.9585 - val_acc: 0.5382\n",
            "Epoch 7/256\n",
            "2820/2820 [==============================] - 0s 48us/step - loss: 0.9625 - acc: 0.5617 - val_loss: 0.9667 - val_acc: 0.5397\n",
            "Epoch 8/256\n",
            "2820/2820 [==============================] - 0s 46us/step - loss: 0.9541 - acc: 0.5645 - val_loss: 0.9501 - val_acc: 0.5439\n",
            "Epoch 9/256\n",
            "2820/2820 [==============================] - 0s 47us/step - loss: 0.9429 - acc: 0.5656 - val_loss: 0.9412 - val_acc: 0.5567\n",
            "Epoch 10/256\n",
            "2820/2820 [==============================] - 0s 46us/step - loss: 0.9361 - acc: 0.5667 - val_loss: 0.9370 - val_acc: 0.5538\n",
            "Epoch 11/256\n",
            "2820/2820 [==============================] - 0s 48us/step - loss: 0.9479 - acc: 0.5574 - val_loss: 0.9362 - val_acc: 0.5510\n",
            "Epoch 12/256\n",
            "2820/2820 [==============================] - 0s 50us/step - loss: 0.9343 - acc: 0.5606 - val_loss: 0.9319 - val_acc: 0.5496\n",
            "Epoch 13/256\n",
            "2820/2820 [==============================] - 0s 46us/step - loss: 0.9237 - acc: 0.5706 - val_loss: 0.9445 - val_acc: 0.5467\n",
            "Epoch 14/256\n",
            "2820/2820 [==============================] - 0s 47us/step - loss: 0.9191 - acc: 0.5699 - val_loss: 0.9365 - val_acc: 0.5567\n",
            "Epoch 15/256\n",
            "2820/2820 [==============================] - 0s 47us/step - loss: 0.9167 - acc: 0.5574 - val_loss: 0.9220 - val_acc: 0.5524\n",
            "Epoch 16/256\n",
            "2820/2820 [==============================] - 0s 47us/step - loss: 0.9098 - acc: 0.5677 - val_loss: 0.9200 - val_acc: 0.5510\n",
            "Epoch 17/256\n",
            "2820/2820 [==============================] - 0s 50us/step - loss: 0.9126 - acc: 0.5695 - val_loss: 0.9218 - val_acc: 0.5510\n",
            "Epoch 18/256\n",
            "2820/2820 [==============================] - 0s 47us/step - loss: 0.9040 - acc: 0.5734 - val_loss: 0.9120 - val_acc: 0.5552\n",
            "Epoch 19/256\n",
            "2820/2820 [==============================] - 0s 53us/step - loss: 0.9025 - acc: 0.5709 - val_loss: 0.9205 - val_acc: 0.5581\n",
            "Epoch 20/256\n",
            "2820/2820 [==============================] - 0s 48us/step - loss: 0.8951 - acc: 0.5716 - val_loss: 0.9169 - val_acc: 0.5609\n",
            "Epoch 21/256\n",
            "2820/2820 [==============================] - 0s 46us/step - loss: 0.8978 - acc: 0.5745 - val_loss: 0.9141 - val_acc: 0.5637\n",
            "Epoch 22/256\n",
            "2820/2820 [==============================] - 0s 47us/step - loss: 0.8901 - acc: 0.5759 - val_loss: 0.9295 - val_acc: 0.5595\n",
            "Epoch 23/256\n",
            "2820/2820 [==============================] - 0s 46us/step - loss: 0.8894 - acc: 0.5801 - val_loss: 0.9087 - val_acc: 0.5623\n",
            "Epoch 24/256\n",
            "2820/2820 [==============================] - 0s 46us/step - loss: 0.8794 - acc: 0.5798 - val_loss: 0.9019 - val_acc: 0.5680\n",
            "Epoch 25/256\n",
            "2820/2820 [==============================] - 0s 46us/step - loss: 0.8751 - acc: 0.5723 - val_loss: 0.9022 - val_acc: 0.5680\n",
            "Epoch 26/256\n",
            "2820/2820 [==============================] - 0s 48us/step - loss: 0.8776 - acc: 0.5837 - val_loss: 0.9126 - val_acc: 0.5680\n",
            "Epoch 27/256\n",
            "2820/2820 [==============================] - 0s 52us/step - loss: 0.8685 - acc: 0.5809 - val_loss: 0.8932 - val_acc: 0.5708\n",
            "Epoch 28/256\n",
            "2820/2820 [==============================] - 0s 45us/step - loss: 0.8648 - acc: 0.5844 - val_loss: 0.9008 - val_acc: 0.5694\n",
            "Epoch 29/256\n",
            "2820/2820 [==============================] - 0s 46us/step - loss: 0.8611 - acc: 0.5879 - val_loss: 0.8953 - val_acc: 0.5737\n",
            "Epoch 30/256\n",
            "2820/2820 [==============================] - 0s 47us/step - loss: 0.8597 - acc: 0.5833 - val_loss: 0.8838 - val_acc: 0.5836\n",
            "Epoch 31/256\n",
            "2820/2820 [==============================] - 0s 46us/step - loss: 0.8669 - acc: 0.5816 - val_loss: 0.8988 - val_acc: 0.5807\n",
            "Epoch 32/256\n",
            "2820/2820 [==============================] - 0s 49us/step - loss: 0.8457 - acc: 0.5972 - val_loss: 0.8802 - val_acc: 0.5793\n",
            "Epoch 33/256\n",
            "2820/2820 [==============================] - 0s 47us/step - loss: 0.8351 - acc: 0.5858 - val_loss: 0.8788 - val_acc: 0.5793\n",
            "Epoch 34/256\n",
            "2820/2820 [==============================] - 0s 47us/step - loss: 0.8399 - acc: 0.5986 - val_loss: 0.8861 - val_acc: 0.5907\n",
            "Epoch 35/256\n",
            "2820/2820 [==============================] - 0s 51us/step - loss: 0.8391 - acc: 0.5957 - val_loss: 0.8885 - val_acc: 0.5864\n",
            "Epoch 36/256\n",
            "2820/2820 [==============================] - 0s 46us/step - loss: 0.8226 - acc: 0.6035 - val_loss: 0.8844 - val_acc: 0.5892\n",
            "Epoch 37/256\n",
            "2820/2820 [==============================] - 0s 47us/step - loss: 0.8096 - acc: 0.6138 - val_loss: 0.8804 - val_acc: 0.5793\n",
            "Epoch 38/256\n",
            "2820/2820 [==============================] - 0s 47us/step - loss: 0.8080 - acc: 0.6074 - val_loss: 0.8723 - val_acc: 0.5836\n",
            "Epoch 39/256\n",
            "2820/2820 [==============================] - 0s 47us/step - loss: 0.7979 - acc: 0.6174 - val_loss: 0.8543 - val_acc: 0.5921\n",
            "Epoch 40/256\n",
            "2820/2820 [==============================] - 0s 52us/step - loss: 0.7867 - acc: 0.6213 - val_loss: 0.8757 - val_acc: 0.5850\n",
            "Epoch 41/256\n",
            "2820/2820 [==============================] - 0s 47us/step - loss: 0.8050 - acc: 0.6138 - val_loss: 0.8518 - val_acc: 0.5807\n",
            "Epoch 42/256\n",
            "2820/2820 [==============================] - 0s 49us/step - loss: 0.7815 - acc: 0.6152 - val_loss: 0.8469 - val_acc: 0.5992\n",
            "Epoch 43/256\n",
            "2820/2820 [==============================] - 0s 46us/step - loss: 0.7718 - acc: 0.6333 - val_loss: 0.8468 - val_acc: 0.5921\n",
            "Epoch 44/256\n",
            "2820/2820 [==============================] - 0s 47us/step - loss: 0.7810 - acc: 0.6348 - val_loss: 0.8609 - val_acc: 0.5765\n",
            "Epoch 45/256\n",
            "2820/2820 [==============================] - 0s 47us/step - loss: 0.7661 - acc: 0.6365 - val_loss: 0.8432 - val_acc: 0.6048\n",
            "Epoch 46/256\n",
            "2820/2820 [==============================] - 0s 47us/step - loss: 0.7614 - acc: 0.6351 - val_loss: 0.8421 - val_acc: 0.6119\n",
            "Epoch 47/256\n",
            "2820/2820 [==============================] - 0s 49us/step - loss: 0.7565 - acc: 0.6426 - val_loss: 0.8525 - val_acc: 0.6020\n",
            "Epoch 48/256\n",
            "2820/2820 [==============================] - 0s 46us/step - loss: 0.7674 - acc: 0.6355 - val_loss: 0.8425 - val_acc: 0.6048\n",
            "Epoch 49/256\n",
            "2820/2820 [==============================] - 0s 46us/step - loss: 0.7777 - acc: 0.6433 - val_loss: 0.8751 - val_acc: 0.5907\n",
            "Epoch 50/256\n",
            "2820/2820 [==============================] - 0s 49us/step - loss: 0.7704 - acc: 0.6422 - val_loss: 0.8483 - val_acc: 0.6204\n",
            "Epoch 51/256\n",
            "2820/2820 [==============================] - 0s 45us/step - loss: 0.7358 - acc: 0.6585 - val_loss: 0.8290 - val_acc: 0.6275\n",
            "Epoch 52/256\n",
            "2820/2820 [==============================] - 0s 48us/step - loss: 0.7403 - acc: 0.6511 - val_loss: 0.8295 - val_acc: 0.6204\n",
            "Epoch 53/256\n",
            "2820/2820 [==============================] - 0s 46us/step - loss: 0.7169 - acc: 0.6770 - val_loss: 0.8334 - val_acc: 0.6161\n",
            "Epoch 54/256\n",
            "2820/2820 [==============================] - 0s 48us/step - loss: 0.7318 - acc: 0.6606 - val_loss: 0.8281 - val_acc: 0.6204\n",
            "Epoch 55/256\n",
            "2820/2820 [==============================] - 0s 46us/step - loss: 0.7085 - acc: 0.6716 - val_loss: 0.8262 - val_acc: 0.6303\n",
            "Epoch 56/256\n",
            "2820/2820 [==============================] - 0s 46us/step - loss: 0.7114 - acc: 0.6755 - val_loss: 0.8127 - val_acc: 0.6317\n",
            "Epoch 57/256\n",
            "2820/2820 [==============================] - 0s 49us/step - loss: 0.7047 - acc: 0.6716 - val_loss: 0.8239 - val_acc: 0.6190\n",
            "Epoch 58/256\n",
            "2820/2820 [==============================] - 0s 46us/step - loss: 0.7027 - acc: 0.6809 - val_loss: 0.8491 - val_acc: 0.6232\n",
            "Epoch 59/256\n",
            "2820/2820 [==============================] - 0s 46us/step - loss: 0.6926 - acc: 0.6851 - val_loss: 0.8300 - val_acc: 0.6204\n",
            "Epoch 60/256\n",
            "2820/2820 [==============================] - 0s 47us/step - loss: 0.6737 - acc: 0.6957 - val_loss: 0.8078 - val_acc: 0.6530\n",
            "Epoch 61/256\n",
            "2820/2820 [==============================] - 0s 46us/step - loss: 0.6947 - acc: 0.6823 - val_loss: 0.8204 - val_acc: 0.6374\n",
            "Epoch 62/256\n",
            "2820/2820 [==============================] - 0s 50us/step - loss: 0.6797 - acc: 0.6954 - val_loss: 0.8266 - val_acc: 0.6473\n",
            "Epoch 63/256\n",
            "2820/2820 [==============================] - 0s 47us/step - loss: 0.6651 - acc: 0.7032 - val_loss: 0.8355 - val_acc: 0.6246\n",
            "Epoch 64/256\n",
            "2820/2820 [==============================] - 0s 47us/step - loss: 0.6609 - acc: 0.7000 - val_loss: 0.8111 - val_acc: 0.6445\n",
            "Epoch 65/256\n",
            "2820/2820 [==============================] - 0s 52us/step - loss: 0.6585 - acc: 0.7000 - val_loss: 0.8224 - val_acc: 0.6416\n",
            "Epoch 66/256\n",
            "2820/2820 [==============================] - 0s 48us/step - loss: 0.6873 - acc: 0.6940 - val_loss: 0.8278 - val_acc: 0.6558\n",
            "Epoch 67/256\n",
            "2820/2820 [==============================] - 0s 48us/step - loss: 0.6423 - acc: 0.7128 - val_loss: 0.8029 - val_acc: 0.6501\n",
            "Epoch 68/256\n",
            "2820/2820 [==============================] - 0s 49us/step - loss: 0.6259 - acc: 0.7284 - val_loss: 0.7910 - val_acc: 0.6558\n",
            "Epoch 69/256\n",
            "2820/2820 [==============================] - 0s 48us/step - loss: 0.6337 - acc: 0.7202 - val_loss: 0.8084 - val_acc: 0.6558\n",
            "Epoch 70/256\n",
            "2820/2820 [==============================] - 0s 47us/step - loss: 0.6336 - acc: 0.7181 - val_loss: 0.8055 - val_acc: 0.6714\n",
            "Epoch 71/256\n",
            "2820/2820 [==============================] - 0s 46us/step - loss: 0.6269 - acc: 0.7216 - val_loss: 0.7907 - val_acc: 0.6643\n",
            "Epoch 72/256\n",
            "2820/2820 [==============================] - 0s 50us/step - loss: 0.6006 - acc: 0.7383 - val_loss: 0.7993 - val_acc: 0.6558\n",
            "Epoch 73/256\n",
            "2820/2820 [==============================] - 0s 49us/step - loss: 0.6120 - acc: 0.7287 - val_loss: 0.8115 - val_acc: 0.6516\n",
            "Epoch 74/256\n",
            "2820/2820 [==============================] - 0s 48us/step - loss: 0.6059 - acc: 0.7326 - val_loss: 0.8048 - val_acc: 0.6629\n",
            "Epoch 75/256\n",
            "2820/2820 [==============================] - 0s 47us/step - loss: 0.5845 - acc: 0.7383 - val_loss: 0.7941 - val_acc: 0.6728\n",
            "Epoch 76/256\n",
            "2820/2820 [==============================] - 0s 52us/step - loss: 0.6117 - acc: 0.7415 - val_loss: 0.7931 - val_acc: 0.6813\n",
            "Epoch 77/256\n",
            "2820/2820 [==============================] - 0s 49us/step - loss: 0.5836 - acc: 0.7532 - val_loss: 0.7995 - val_acc: 0.6771\n",
            "Epoch 78/256\n",
            "2820/2820 [==============================] - 0s 46us/step - loss: 0.6036 - acc: 0.7291 - val_loss: 0.7858 - val_acc: 0.6756\n",
            "Epoch 79/256\n",
            "2820/2820 [==============================] - 0s 47us/step - loss: 0.6139 - acc: 0.7351 - val_loss: 0.7623 - val_acc: 0.6969\n",
            "Epoch 80/256\n",
            "2820/2820 [==============================] - 0s 50us/step - loss: 0.5929 - acc: 0.7394 - val_loss: 0.7596 - val_acc: 0.6983\n",
            "Epoch 81/256\n",
            "2820/2820 [==============================] - 0s 46us/step - loss: 0.5714 - acc: 0.7567 - val_loss: 0.8173 - val_acc: 0.6700\n",
            "Epoch 82/256\n",
            "2820/2820 [==============================] - 0s 46us/step - loss: 0.5689 - acc: 0.7535 - val_loss: 0.7932 - val_acc: 0.6841\n",
            "Epoch 83/256\n",
            "2820/2820 [==============================] - 0s 47us/step - loss: 0.5599 - acc: 0.7543 - val_loss: 0.7751 - val_acc: 0.6728\n",
            "Epoch 84/256\n",
            "2820/2820 [==============================] - 0s 48us/step - loss: 0.5383 - acc: 0.7723 - val_loss: 0.7950 - val_acc: 0.6983\n",
            "Epoch 85/256\n",
            "2820/2820 [==============================] - 0s 46us/step - loss: 0.5372 - acc: 0.7723 - val_loss: 0.7717 - val_acc: 0.6997\n",
            "Epoch 86/256\n",
            "2820/2820 [==============================] - 0s 46us/step - loss: 0.6112 - acc: 0.7404 - val_loss: 0.7872 - val_acc: 0.6785\n",
            "Epoch 87/256\n",
            "2820/2820 [==============================] - 0s 45us/step - loss: 0.5809 - acc: 0.7440 - val_loss: 0.7905 - val_acc: 0.6955\n",
            "Epoch 88/256\n",
            "2820/2820 [==============================] - 0s 54us/step - loss: 0.5463 - acc: 0.7691 - val_loss: 0.7937 - val_acc: 0.6827\n",
            "Epoch 89/256\n",
            "2820/2820 [==============================] - 0s 46us/step - loss: 0.5244 - acc: 0.7759 - val_loss: 0.7837 - val_acc: 0.7011\n",
            "Epoch 90/256\n",
            "2820/2820 [==============================] - 0s 45us/step - loss: 0.5087 - acc: 0.7865 - val_loss: 0.7854 - val_acc: 0.6898\n",
            "Epoch 91/256\n",
            "2820/2820 [==============================] - 0s 46us/step - loss: 0.5015 - acc: 0.7957 - val_loss: 0.7968 - val_acc: 0.6870\n",
            "Epoch 92/256\n",
            "2820/2820 [==============================] - 0s 46us/step - loss: 0.5392 - acc: 0.7727 - val_loss: 0.7952 - val_acc: 0.6884\n",
            "Epoch 93/256\n",
            "2820/2820 [==============================] - 0s 46us/step - loss: 0.5246 - acc: 0.7855 - val_loss: 0.8249 - val_acc: 0.6827\n",
            "Epoch 94/256\n",
            "2820/2820 [==============================] - 0s 45us/step - loss: 0.4956 - acc: 0.7954 - val_loss: 0.8039 - val_acc: 0.6926\n",
            "Epoch 95/256\n",
            "2820/2820 [==============================] - 0s 48us/step - loss: 0.5054 - acc: 0.7883 - val_loss: 0.7873 - val_acc: 0.6912\n",
            "Epoch 96/256\n",
            "2820/2820 [==============================] - 0s 47us/step - loss: 0.5252 - acc: 0.7826 - val_loss: 0.7729 - val_acc: 0.6898\n",
            "Epoch 97/256\n",
            "2820/2820 [==============================] - 0s 44us/step - loss: 0.4747 - acc: 0.8046 - val_loss: 0.7880 - val_acc: 0.7011\n",
            "Epoch 98/256\n",
            "2820/2820 [==============================] - 0s 46us/step - loss: 0.4696 - acc: 0.8053 - val_loss: 0.8108 - val_acc: 0.6997\n",
            "Epoch 99/256\n",
            "2820/2820 [==============================] - 0s 46us/step - loss: 0.4793 - acc: 0.8035 - val_loss: 0.7857 - val_acc: 0.7139\n",
            "Epoch 100/256\n",
            "2820/2820 [==============================] - 0s 44us/step - loss: 0.4765 - acc: 0.8014 - val_loss: 0.7735 - val_acc: 0.7181\n",
            "Epoch 101/256\n",
            "2820/2820 [==============================] - 0s 53us/step - loss: 0.4438 - acc: 0.8152 - val_loss: 0.7736 - val_acc: 0.7139\n",
            "Epoch 102/256\n",
            "2820/2820 [==============================] - 0s 47us/step - loss: 0.4380 - acc: 0.8305 - val_loss: 0.7662 - val_acc: 0.7082\n",
            "Epoch 103/256\n",
            "2820/2820 [==============================] - 0s 49us/step - loss: 0.5271 - acc: 0.7773 - val_loss: 0.7963 - val_acc: 0.7096\n",
            "Epoch 104/256\n",
            "2820/2820 [==============================] - 0s 47us/step - loss: 0.4734 - acc: 0.8174 - val_loss: 0.7860 - val_acc: 0.7210\n",
            "Epoch 105/256\n",
            "2820/2820 [==============================] - 0s 48us/step - loss: 0.4324 - acc: 0.8301 - val_loss: 0.7610 - val_acc: 0.7238\n",
            "Epoch 106/256\n",
            "2820/2820 [==============================] - 0s 46us/step - loss: 0.4746 - acc: 0.8110 - val_loss: 0.7891 - val_acc: 0.7139\n",
            "Epoch 107/256\n",
            "2820/2820 [==============================] - 0s 46us/step - loss: 0.4637 - acc: 0.8039 - val_loss: 0.7872 - val_acc: 0.6969\n",
            "Epoch 108/256\n",
            "2820/2820 [==============================] - 0s 46us/step - loss: 0.5016 - acc: 0.7894 - val_loss: 0.7802 - val_acc: 0.7040\n",
            "Epoch 109/256\n",
            "2820/2820 [==============================] - 0s 49us/step - loss: 0.4515 - acc: 0.8128 - val_loss: 0.7851 - val_acc: 0.7040\n",
            "Epoch 110/256\n",
            "2820/2820 [==============================] - 0s 50us/step - loss: 0.4205 - acc: 0.8348 - val_loss: 0.8185 - val_acc: 0.7096\n",
            "Epoch 111/256\n",
            "2820/2820 [==============================] - 0s 47us/step - loss: 0.4296 - acc: 0.8241 - val_loss: 0.7748 - val_acc: 0.7295\n",
            "Epoch 112/256\n",
            "2820/2820 [==============================] - 0s 47us/step - loss: 0.4075 - acc: 0.8333 - val_loss: 0.8254 - val_acc: 0.7125\n",
            "Epoch 113/256\n",
            "2820/2820 [==============================] - 0s 48us/step - loss: 0.4493 - acc: 0.8128 - val_loss: 0.7854 - val_acc: 0.7295\n",
            "Epoch 114/256\n",
            "2820/2820 [==============================] - 0s 46us/step - loss: 0.4136 - acc: 0.8294 - val_loss: 0.7668 - val_acc: 0.7210\n",
            "Epoch 115/256\n",
            "2820/2820 [==============================] - 0s 45us/step - loss: 0.3705 - acc: 0.8560 - val_loss: 0.7978 - val_acc: 0.7167\n",
            "Epoch 116/256\n",
            "2820/2820 [==============================] - 0s 46us/step - loss: 0.3671 - acc: 0.8514 - val_loss: 0.7654 - val_acc: 0.7323\n",
            "Epoch 117/256\n",
            "2820/2820 [==============================] - 0s 49us/step - loss: 0.4140 - acc: 0.8326 - val_loss: 0.8024 - val_acc: 0.7252\n",
            "Epoch 118/256\n",
            "2820/2820 [==============================] - 0s 49us/step - loss: 0.3947 - acc: 0.8443 - val_loss: 0.7864 - val_acc: 0.7309\n",
            "Epoch 119/256\n",
            "2820/2820 [==============================] - 0s 46us/step - loss: 0.3703 - acc: 0.8539 - val_loss: 0.7759 - val_acc: 0.7252\n",
            "Epoch 120/256\n",
            "2820/2820 [==============================] - 0s 46us/step - loss: 0.3668 - acc: 0.8507 - val_loss: 0.7831 - val_acc: 0.7295\n",
            "Epoch 121/256\n",
            "2820/2820 [==============================] - 0s 46us/step - loss: 0.3547 - acc: 0.8645 - val_loss: 0.7687 - val_acc: 0.7394\n",
            "Epoch 122/256\n",
            "2820/2820 [==============================] - 0s 49us/step - loss: 0.3464 - acc: 0.8642 - val_loss: 0.7963 - val_acc: 0.7337\n",
            "Epoch 123/256\n",
            "2820/2820 [==============================] - 0s 46us/step - loss: 0.3697 - acc: 0.8528 - val_loss: 0.7543 - val_acc: 0.7493\n",
            "Epoch 124/256\n",
            "2820/2820 [==============================] - 0s 46us/step - loss: 0.3581 - acc: 0.8642 - val_loss: 0.7634 - val_acc: 0.7436\n",
            "Epoch 125/256\n",
            "2820/2820 [==============================] - 0s 48us/step - loss: 0.3511 - acc: 0.8670 - val_loss: 0.7759 - val_acc: 0.7266\n",
            "Epoch 126/256\n",
            "2820/2820 [==============================] - 0s 50us/step - loss: 0.3629 - acc: 0.8585 - val_loss: 0.7873 - val_acc: 0.7266\n",
            "Epoch 127/256\n",
            "2820/2820 [==============================] - 0s 48us/step - loss: 0.3576 - acc: 0.8564 - val_loss: 0.8301 - val_acc: 0.7380\n",
            "Epoch 128/256\n",
            "2820/2820 [==============================] - 0s 49us/step - loss: 0.3365 - acc: 0.8762 - val_loss: 0.7926 - val_acc: 0.7380\n",
            "Epoch 129/256\n",
            "2820/2820 [==============================] - 0s 47us/step - loss: 0.4167 - acc: 0.8280 - val_loss: 0.7736 - val_acc: 0.7295\n",
            "Epoch 130/256\n",
            "2820/2820 [==============================] - 0s 47us/step - loss: 0.3371 - acc: 0.8723 - val_loss: 0.8210 - val_acc: 0.7224\n",
            "Epoch 131/256\n",
            "2820/2820 [==============================] - 0s 48us/step - loss: 0.3295 - acc: 0.8723 - val_loss: 0.7766 - val_acc: 0.7351\n",
            "Epoch 132/256\n",
            "2820/2820 [==============================] - 0s 48us/step - loss: 0.3638 - acc: 0.8596 - val_loss: 0.7845 - val_acc: 0.7337\n",
            "Epoch 133/256\n",
            "2820/2820 [==============================] - 0s 51us/step - loss: 0.3285 - acc: 0.8777 - val_loss: 0.7807 - val_acc: 0.7578\n",
            "Epoch 134/256\n",
            "2820/2820 [==============================] - 0s 46us/step - loss: 0.3031 - acc: 0.8826 - val_loss: 0.7594 - val_acc: 0.7408\n",
            "Epoch 135/256\n",
            "2820/2820 [==============================] - 0s 48us/step - loss: 0.3742 - acc: 0.8450 - val_loss: 0.7887 - val_acc: 0.7450\n",
            "Epoch 136/256\n",
            "2820/2820 [==============================] - 0s 51us/step - loss: 0.3277 - acc: 0.8720 - val_loss: 0.7833 - val_acc: 0.7380\n",
            "Epoch 137/256\n",
            "2820/2820 [==============================] - 0s 52us/step - loss: 0.3360 - acc: 0.8681 - val_loss: 0.7985 - val_acc: 0.7436\n",
            "Epoch 138/256\n",
            "2820/2820 [==============================] - 0s 50us/step - loss: 0.3065 - acc: 0.8745 - val_loss: 0.7960 - val_acc: 0.7606\n",
            "Epoch 139/256\n",
            "2820/2820 [==============================] - 0s 50us/step - loss: 0.3086 - acc: 0.8805 - val_loss: 0.8160 - val_acc: 0.7479\n",
            "Epoch 140/256\n",
            "2820/2820 [==============================] - 0s 45us/step - loss: 0.2835 - acc: 0.8926 - val_loss: 0.8301 - val_acc: 0.7252\n",
            "Epoch 141/256\n",
            "2820/2820 [==============================] - 0s 48us/step - loss: 0.3560 - acc: 0.8585 - val_loss: 0.8068 - val_acc: 0.7323\n",
            "Epoch 142/256\n",
            "2820/2820 [==============================] - 0s 46us/step - loss: 0.2881 - acc: 0.8883 - val_loss: 0.8317 - val_acc: 0.7479\n",
            "Epoch 143/256\n",
            "2820/2820 [==============================] - 0s 47us/step - loss: 0.2880 - acc: 0.8862 - val_loss: 0.8255 - val_acc: 0.7521\n",
            "Epoch 144/256\n",
            "2820/2820 [==============================] - 0s 46us/step - loss: 0.2663 - acc: 0.9060 - val_loss: 0.8488 - val_acc: 0.7408\n",
            "Epoch 145/256\n",
            "2820/2820 [==============================] - 0s 47us/step - loss: 0.3025 - acc: 0.8770 - val_loss: 0.8120 - val_acc: 0.7550\n",
            "Epoch 146/256\n",
            "2820/2820 [==============================] - 0s 45us/step - loss: 0.2533 - acc: 0.9057 - val_loss: 0.8074 - val_acc: 0.7436\n",
            "Epoch 147/256\n",
            "2820/2820 [==============================] - 0s 49us/step - loss: 0.2694 - acc: 0.9000 - val_loss: 0.7881 - val_acc: 0.7535\n",
            "Epoch 148/256\n",
            "2820/2820 [==============================] - 0s 50us/step - loss: 0.2719 - acc: 0.8897 - val_loss: 0.7970 - val_acc: 0.7507\n",
            "Epoch 149/256\n",
            "2820/2820 [==============================] - 0s 46us/step - loss: 0.2539 - acc: 0.9039 - val_loss: 0.7905 - val_acc: 0.7521\n",
            "Epoch 150/256\n",
            "2820/2820 [==============================] - 0s 44us/step - loss: 0.2449 - acc: 0.9067 - val_loss: 0.8139 - val_acc: 0.7436\n",
            "Epoch 151/256\n",
            "2820/2820 [==============================] - 0s 49us/step - loss: 0.2439 - acc: 0.9071 - val_loss: 0.7847 - val_acc: 0.7635\n",
            "Epoch 152/256\n",
            "2820/2820 [==============================] - 0s 50us/step - loss: 0.2614 - acc: 0.9004 - val_loss: 0.8018 - val_acc: 0.7592\n",
            "Epoch 153/256\n",
            "2820/2820 [==============================] - 0s 48us/step - loss: 0.2506 - acc: 0.9025 - val_loss: 0.8309 - val_acc: 0.7450\n",
            "Epoch 154/256\n",
            "2820/2820 [==============================] - 0s 51us/step - loss: 0.2462 - acc: 0.9046 - val_loss: 0.7972 - val_acc: 0.7507\n",
            "Epoch 155/256\n",
            "2820/2820 [==============================] - 0s 46us/step - loss: 0.2577 - acc: 0.8911 - val_loss: 0.8077 - val_acc: 0.7507\n",
            "Epoch 156/256\n",
            "2820/2820 [==============================] - 0s 51us/step - loss: 0.2492 - acc: 0.9046 - val_loss: 0.8065 - val_acc: 0.7578\n",
            "Epoch 157/256\n",
            "2820/2820 [==============================] - 0s 49us/step - loss: 0.2462 - acc: 0.9035 - val_loss: 0.7962 - val_acc: 0.7620\n",
            "Epoch 158/256\n",
            "2820/2820 [==============================] - 0s 47us/step - loss: 0.2431 - acc: 0.9106 - val_loss: 0.8296 - val_acc: 0.7564\n",
            "Epoch 159/256\n",
            "2820/2820 [==============================] - 0s 45us/step - loss: 0.2348 - acc: 0.9117 - val_loss: 0.8048 - val_acc: 0.7521\n",
            "Epoch 160/256\n",
            "2820/2820 [==============================] - 0s 46us/step - loss: 0.2217 - acc: 0.9199 - val_loss: 0.8518 - val_acc: 0.7635\n",
            "Epoch 161/256\n",
            "2820/2820 [==============================] - 0s 45us/step - loss: 0.2203 - acc: 0.9191 - val_loss: 0.8265 - val_acc: 0.7635\n",
            "Epoch 162/256\n",
            "2820/2820 [==============================] - 0s 45us/step - loss: 0.2365 - acc: 0.9096 - val_loss: 0.8349 - val_acc: 0.7564\n",
            "Epoch 163/256\n",
            "2820/2820 [==============================] - 0s 51us/step - loss: 0.2287 - acc: 0.9160 - val_loss: 0.8138 - val_acc: 0.7592\n",
            "Epoch 164/256\n",
            "2820/2820 [==============================] - 0s 48us/step - loss: 0.3042 - acc: 0.8787 - val_loss: 0.7890 - val_acc: 0.7578\n",
            "Epoch 165/256\n",
            "2820/2820 [==============================] - 0s 46us/step - loss: 0.2597 - acc: 0.9018 - val_loss: 0.8285 - val_acc: 0.7564\n",
            "Epoch 166/256\n",
            "2820/2820 [==============================] - 0s 46us/step - loss: 0.2409 - acc: 0.9078 - val_loss: 0.8513 - val_acc: 0.7564\n",
            "Epoch 167/256\n",
            "2820/2820 [==============================] - 0s 50us/step - loss: 0.2206 - acc: 0.9202 - val_loss: 0.7979 - val_acc: 0.7663\n",
            "Epoch 168/256\n",
            "2820/2820 [==============================] - 0s 46us/step - loss: 0.2289 - acc: 0.9170 - val_loss: 0.8361 - val_acc: 0.7663\n",
            "Epoch 169/256\n",
            "2820/2820 [==============================] - 0s 47us/step - loss: 0.2365 - acc: 0.9135 - val_loss: 0.8317 - val_acc: 0.7663\n",
            "Epoch 170/256\n",
            "2820/2820 [==============================] - 0s 47us/step - loss: 0.2279 - acc: 0.9167 - val_loss: 0.8256 - val_acc: 0.7564\n",
            "Epoch 171/256\n",
            "2820/2820 [==============================] - 0s 50us/step - loss: 0.2241 - acc: 0.9206 - val_loss: 0.8454 - val_acc: 0.7592\n",
            "Epoch 172/256\n",
            "2820/2820 [==============================] - 0s 46us/step - loss: 0.2021 - acc: 0.9270 - val_loss: 0.8439 - val_acc: 0.7535\n",
            "Epoch 173/256\n",
            "2820/2820 [==============================] - 0s 47us/step - loss: 0.2084 - acc: 0.9223 - val_loss: 0.8493 - val_acc: 0.7535\n",
            "Epoch 174/256\n",
            "2820/2820 [==============================] - 0s 48us/step - loss: 0.2094 - acc: 0.9227 - val_loss: 0.8379 - val_acc: 0.7521\n",
            "Epoch 175/256\n",
            "2820/2820 [==============================] - 0s 46us/step - loss: 0.2013 - acc: 0.9305 - val_loss: 0.8488 - val_acc: 0.7663\n",
            "Epoch 176/256\n",
            "2820/2820 [==============================] - 0s 47us/step - loss: 0.2285 - acc: 0.9177 - val_loss: 0.8477 - val_acc: 0.7691\n",
            "Epoch 177/256\n",
            "2820/2820 [==============================] - 0s 46us/step - loss: 0.2994 - acc: 0.8865 - val_loss: 0.8450 - val_acc: 0.7535\n",
            "Epoch 178/256\n",
            "2820/2820 [==============================] - 0s 48us/step - loss: 0.2657 - acc: 0.8933 - val_loss: 0.8224 - val_acc: 0.7691\n",
            "Epoch 179/256\n",
            "2820/2820 [==============================] - 0s 48us/step - loss: 0.2194 - acc: 0.9121 - val_loss: 0.8369 - val_acc: 0.7649\n",
            "Epoch 180/256\n",
            "2820/2820 [==============================] - 0s 49us/step - loss: 0.2358 - acc: 0.9202 - val_loss: 0.8258 - val_acc: 0.7592\n",
            "Epoch 181/256\n",
            "2820/2820 [==============================] - 0s 48us/step - loss: 0.2072 - acc: 0.9238 - val_loss: 0.8293 - val_acc: 0.7663\n",
            "Epoch 182/256\n",
            "2820/2820 [==============================] - 0s 49us/step - loss: 0.2008 - acc: 0.9220 - val_loss: 0.8298 - val_acc: 0.7677\n",
            "Epoch 183/256\n",
            "2820/2820 [==============================] - 0s 45us/step - loss: 0.2006 - acc: 0.9252 - val_loss: 0.8224 - val_acc: 0.7635\n",
            "Epoch 184/256\n",
            "2820/2820 [==============================] - 0s 46us/step - loss: 0.1925 - acc: 0.9266 - val_loss: 0.8735 - val_acc: 0.7677\n",
            "Epoch 185/256\n",
            "2820/2820 [==============================] - 0s 47us/step - loss: 0.1904 - acc: 0.9340 - val_loss: 0.8248 - val_acc: 0.7705\n",
            "Epoch 186/256\n",
            "2820/2820 [==============================] - 0s 50us/step - loss: 0.1908 - acc: 0.9294 - val_loss: 0.8855 - val_acc: 0.7635\n",
            "Epoch 187/256\n",
            "2820/2820 [==============================] - 0s 48us/step - loss: 0.1789 - acc: 0.9372 - val_loss: 0.8897 - val_acc: 0.7465\n",
            "Epoch 188/256\n",
            "2820/2820 [==============================] - 0s 47us/step - loss: 0.1930 - acc: 0.9270 - val_loss: 0.8429 - val_acc: 0.7805\n",
            "Epoch 189/256\n",
            "2820/2820 [==============================] - 0s 48us/step - loss: 0.1854 - acc: 0.9316 - val_loss: 0.8291 - val_acc: 0.7663\n",
            "Epoch 190/256\n",
            "2820/2820 [==============================] - 0s 47us/step - loss: 0.1731 - acc: 0.9362 - val_loss: 0.8398 - val_acc: 0.7720\n",
            "Epoch 191/256\n",
            "2820/2820 [==============================] - 0s 50us/step - loss: 0.1750 - acc: 0.9358 - val_loss: 0.9026 - val_acc: 0.7592\n",
            "Epoch 192/256\n",
            "2820/2820 [==============================] - 0s 46us/step - loss: 0.1891 - acc: 0.9287 - val_loss: 0.8721 - val_acc: 0.7705\n",
            "Epoch 193/256\n",
            "2820/2820 [==============================] - 0s 49us/step - loss: 0.2135 - acc: 0.9174 - val_loss: 0.9348 - val_acc: 0.7663\n",
            "Epoch 194/256\n",
            "2820/2820 [==============================] - 0s 50us/step - loss: 0.1840 - acc: 0.9340 - val_loss: 0.9138 - val_acc: 0.7635\n",
            "Epoch 195/256\n",
            "2820/2820 [==============================] - 0s 46us/step - loss: 0.1997 - acc: 0.9227 - val_loss: 0.8754 - val_acc: 0.7691\n",
            "Epoch 196/256\n",
            "2820/2820 [==============================] - 0s 47us/step - loss: 0.1958 - acc: 0.9262 - val_loss: 0.8564 - val_acc: 0.7635\n",
            "Epoch 197/256\n",
            "2820/2820 [==============================] - 0s 46us/step - loss: 0.1693 - acc: 0.9372 - val_loss: 0.8813 - val_acc: 0.7564\n",
            "Epoch 198/256\n",
            "2820/2820 [==============================] - 0s 46us/step - loss: 0.2021 - acc: 0.9230 - val_loss: 0.8443 - val_acc: 0.7649\n",
            "Epoch 199/256\n",
            "2820/2820 [==============================] - 0s 47us/step - loss: 0.1839 - acc: 0.9348 - val_loss: 0.8558 - val_acc: 0.7677\n",
            "Epoch 200/256\n",
            "2820/2820 [==============================] - 0s 50us/step - loss: 0.1654 - acc: 0.9394 - val_loss: 0.8886 - val_acc: 0.7677\n",
            "Epoch 201/256\n",
            "2820/2820 [==============================] - 0s 49us/step - loss: 0.1689 - acc: 0.9383 - val_loss: 0.8784 - val_acc: 0.7663\n",
            "Epoch 202/256\n",
            "2820/2820 [==============================] - 0s 49us/step - loss: 0.2076 - acc: 0.9174 - val_loss: 0.8887 - val_acc: 0.7578\n",
            "Epoch 203/256\n",
            "2820/2820 [==============================] - 0s 52us/step - loss: 0.1803 - acc: 0.9365 - val_loss: 0.8485 - val_acc: 0.7592\n",
            "Epoch 204/256\n",
            "2820/2820 [==============================] - 0s 50us/step - loss: 0.1676 - acc: 0.9433 - val_loss: 0.8535 - val_acc: 0.7734\n",
            "Epoch 205/256\n",
            "2820/2820 [==============================] - 0s 46us/step - loss: 0.2053 - acc: 0.9216 - val_loss: 0.8523 - val_acc: 0.7720\n",
            "Epoch 206/256\n",
            "2820/2820 [==============================] - 0s 47us/step - loss: 0.1885 - acc: 0.9255 - val_loss: 0.8541 - val_acc: 0.7734\n",
            "Epoch 207/256\n",
            "2820/2820 [==============================] - 0s 47us/step - loss: 0.1524 - acc: 0.9429 - val_loss: 0.8917 - val_acc: 0.7748\n",
            "Epoch 208/256\n",
            "2820/2820 [==============================] - 0s 46us/step - loss: 0.1573 - acc: 0.9440 - val_loss: 0.9087 - val_acc: 0.7649\n"
          ],
          "name": "stdout"
        }
      ]
    },
    {
      "cell_type": "markdown",
      "metadata": {
        "id": "xQ2Koxsz0Zun",
        "colab_type": "text"
      },
      "source": [
        "# 訓練過程評估"
      ]
    },
    {
      "cell_type": "code",
      "metadata": {
        "id": "2SxJIEDzbaZ7",
        "colab_type": "code",
        "outputId": "05559522-3d45-402e-b413-2998581e4ef1",
        "colab": {
          "base_uri": "https://localhost:8080/",
          "height": 269
        }
      },
      "source": [
        "import matplotlib.pyplot as plt\n",
        "fig, ax = plt.subplots(2,1)\n",
        "ax[0].plot(history.history['loss'], color='b', label=\"Training loss\")\n",
        "ax[0].plot(history.history['val_loss'], color='r', label=\"Validation loss\",axes =ax[0])\n",
        "ax[0].grid(color='black', linestyle='-', linewidth=0.25)\n",
        "legend = ax[0].legend(loc='best', shadow=True)\n",
        "\n",
        "ax[1].plot(history.history['acc'], color='b', label=\"Training accuracy\")\n",
        "ax[1].plot(history.history['val_acc'], color='r',label=\"Validation accuracy\")\n",
        "ax[1].grid(color='black', linestyle='-', linewidth=0.25)\n",
        "legend = ax[1].legend(loc='best', shadow=True)"
      ],
      "execution_count": 43,
      "outputs": [
        {
          "output_type": "display_data",
          "data": {
            "image/png": "[encoded data removed]",
            "text/plain": [
              "<Figure size 432x288 with 2 Axes>"
            ]
          },
          "metadata": {
            "tags": []
          }
        }
      ]
    },
    {
      "cell_type": "markdown",
      "metadata": {
        "id": "zWVmgHz80cCp",
        "colab_type": "text"
      },
      "source": [
        "# 混淆矩陣"
      ]
    },
    {
      "cell_type": "code",
      "metadata": {
        "id": "UH5CcmX6btme",
        "colab_type": "code",
        "outputId": "0fc79c94-4f9f-464a-fc07-779f73ae1b67",
        "colab": {
          "base_uri": "https://localhost:8080/",
          "height": 311
        }
      },
      "source": [
        "from sklearn.metrics import confusion_matrix\n",
        "import itertools\n",
        "\n",
        "def plot_confusion_matrix(cm, classes, normalize=False, title='Confusion matrix', cmap=plt.cm.Blues):\n",
        "    plt.imshow(cm, interpolation='nearest', cmap=cmap)\n",
        "    plt.title(title)\n",
        "    plt.colorbar()\n",
        "    tick_marks = np.arange(len(classes))\n",
        "    plt.xticks(tick_marks, classes, rotation=45)\n",
        "    plt.yticks(tick_marks, classes)\n",
        "    if normalize:\n",
        "        cm = cm.astype('float') / cm.sum(axis=1)[:, np.newaxis]\n",
        "    thresh = cm.max() / 2.\n",
        "    for i, j in itertools.product(range(cm.shape[0]), range(cm.shape[1])):\n",
        "        plt.text(j, i, cm[i, j],\n",
        "                 horizontalalignment=\"center\",\n",
        "                 color=\"white\" if cm[i, j] > thresh else \"black\")\n",
        "    plt.tight_layout()\n",
        "    plt.ylabel('True label')\n",
        "    plt.xlabel('Predicted label')\n",
        "\n",
        "#預測的y\n",
        "ypred_onehot = model.predict(xval)\n",
        "#轉換預測的y: [0 0 1 0 0 ...] --> 2\n",
        "ypred = np.argmax(ypred_onehot,axis=1)\n",
        "#轉換真實的y\n",
        "ytrue = np.argmax(yval,axis=1)\n",
        "#計算 confusion matrix\n",
        "confusion_mtx = confusion_matrix(ytrue, ypred)\n",
        "#畫出 confusion matrix\n",
        "plot_confusion_matrix(confusion_mtx, classes=range(nclasses))"
      ],
      "execution_count": 44,
      "outputs": [
        {
          "output_type": "display_data",
          "data": {
            "image/png": "[encoded data removed]",
            "text/plain": [
              "<Figure size 432x288 with 2 Axes>"
            ]
          },
          "metadata": {
            "tags": []
          }
        }
      ]
    },
    {
      "cell_type": "markdown",
      "metadata": {
        "id": "PmgafP2rpjAO",
        "colab_type": "text"
      },
      "source": [
        "# 分類report"
      ]
    },
    {
      "cell_type": "markdown",
      "metadata": {
        "id": "zXQ8o9mj1Ydh",
        "colab_type": "text"
      },
      "source": [
        "轉換預測結果"
      ]
    },
    {
      "cell_type": "code",
      "metadata": {
        "id": "lCSuw9cYqEYk",
        "colab_type": "code",
        "outputId": "9bcdc3c6-58c2-44e9-ce93-921920fa689e",
        "colab": {
          "base_uri": "https://localhost:8080/",
          "height": 101
        }
      },
      "source": [
        "y_pred = model.predict(xval)\n",
        "y_pred = [np.argmax(i) for i in y_pred]\n",
        "y_pred = to_categorical(y_pred, num_classes = 3)\n",
        "print(y_pred[:5])"
      ],
      "execution_count": 45,
      "outputs": [
        {
          "output_type": "stream",
          "text": [
            "[[0. 0. 1.]\n",
            " [0. 0. 1.]\n",
            " [1. 0. 0.]\n",
            " [0. 1. 0.]\n",
            " [0. 0. 1.]]\n"
          ],
          "name": "stdout"
        }
      ]
    },
    {
      "cell_type": "markdown",
      "metadata": {
        "id": "XrHrpsVb1avA",
        "colab_type": "text"
      },
      "source": [
        "真實y值"
      ]
    },
    {
      "cell_type": "code",
      "metadata": {
        "id": "T2tyxRdo1Mqm",
        "colab_type": "code",
        "outputId": "8b7340d9-d123-495b-ad4b-9b2abeb831a6",
        "colab": {
          "base_uri": "https://localhost:8080/",
          "height": 101
        }
      },
      "source": [
        "print(yval[:5])"
      ],
      "execution_count": 46,
      "outputs": [
        {
          "output_type": "stream",
          "text": [
            "[[0. 0. 1.]\n",
            " [0. 0. 1.]\n",
            " [1. 0. 0.]\n",
            " [0. 1. 0.]\n",
            " [0. 0. 1.]]\n"
          ],
          "name": "stdout"
        }
      ]
    },
    {
      "cell_type": "markdown",
      "metadata": {
        "id": "wztZOw2r1ddE",
        "colab_type": "text"
      },
      "source": [
        "# 分類報告"
      ]
    },
    {
      "cell_type": "code",
      "metadata": {
        "id": "vzMaU-Y8pjJT",
        "colab_type": "code",
        "outputId": "34497c00-f7ac-4afc-995e-b11a515d0a55",
        "colab": {
          "base_uri": "https://localhost:8080/",
          "height": 202
        }
      },
      "source": [
        "from sklearn.metrics import classification_report \n",
        "target_names = ['Hold','BUY','SELL']\n",
        "print(classification_report(yval,y_pred,target_names=target_names))"
      ],
      "execution_count": 47,
      "outputs": [
        {
          "output_type": "stream",
          "text": [
            "              precision    recall  f1-score   support\n",
            "\n",
            "        Hold       0.60      0.64      0.62       107\n",
            "         BUY       0.83      0.62      0.71       219\n",
            "        SELL       0.79      0.88      0.83       380\n",
            "\n",
            "   micro avg       0.76      0.76      0.76       706\n",
            "   macro avg       0.74      0.71      0.72       706\n",
            "weighted avg       0.77      0.76      0.76       706\n",
            " samples avg       0.76      0.76      0.76       706\n",
            "\n"
          ],
          "name": "stdout"
        }
      ]
    },
    {
      "cell_type": "markdown",
      "metadata": {
        "id": "n-KXEoZLb9ie",
        "colab_type": "text"
      },
      "source": [
        "# plot error"
      ]
    },
    {
      "cell_type": "code",
      "metadata": {
        "id": "nCW5Xvtrb0fC",
        "colab_type": "code",
        "outputId": "fc0493cb-0b67-4d87-9208-71cc564498ba",
        "colab": {
          "base_uri": "https://localhost:8080/",
          "height": 293
        }
      },
      "source": [
        "errors = (ypred - ytrue != 0)\n",
        "\n",
        "ypred_er = ypred_onehot[errors]\n",
        "ypred_classes_er = ypred[errors]\n",
        "ytrue_er = ytrue[errors]\n",
        "xval_er = xval[errors]\n",
        "\n",
        "def display_errors(errors_index, img_errors, pred_errors, obs_errors):\n",
        "    n = 0\n",
        "    nrows = 2\n",
        "    ncols = 3\n",
        "    fig, ax = plt.subplots(nrows, ncols, sharex=True, sharey=True)\n",
        "    plt.subplots_adjust(wspace =0.5, hspace =0.5)\n",
        "    for row in range(nrows):\n",
        "        for col in range(ncols):\n",
        "            error = errors_index[n]\n",
        "            ax[row,col].imshow((img_errors[error]).reshape((days,len(features))))\n",
        "            ax[row,col].set_title(\"Predicted label :{}\\nTrue label :{}\".format(pred_errors[error],obs_errors[error]))\n",
        "            n += 1\n",
        "            \n",
        "# 錯誤預測的概率\n",
        "ypred_er_prob = np.max(ypred_er,axis=1)\n",
        "\n",
        "# Predicted probabilities of the true values in the error set\n",
        "true_prob_er = np.diagonal(np.take(ypred_er, ytrue_er, axis=1))\n",
        "\n",
        "# Difference between the probability of the predicted label and the true label\n",
        "delta_pred_true_er = ypred_er_prob - true_prob_er\n",
        "\n",
        "# Sorted list of the delta prob errors\n",
        "sorted_delta_er = np.argsort(delta_pred_true_er)\n",
        "\n",
        "# Top 6 errors. You can change the range to see other images\n",
        "most_important_er = sorted_delta_er[-6:]\n",
        "\n",
        "# Show the top 6 errors\n",
        "display_errors(most_important_er, xval_er, ypred_classes_er, ytrue_er)"
      ],
      "execution_count": 48,
      "outputs": [
        {
          "output_type": "display_data",
          "data": {
            "image/png": "[encoded data removed]",
            "text/plain": [
              "<Figure size 432x288 with 6 Axes>"
            ]
          },
          "metadata": {
            "tags": []
          }
        }
      ]
    },
    {
      "cell_type": "markdown",
      "metadata": {
        "id": "togdM5Afo71w",
        "colab_type": "text"
      },
      "source": [
        "## 預測最後40筆"
      ]
    },
    {
      "cell_type": "code",
      "metadata": {
        "id": "kQqzNPdQo8GW",
        "colab_type": "code",
        "outputId": "ed2795be-47ab-485d-a617-86e4c04e6500",
        "colab": {
          "base_uri": "https://localhost:8080/",
          "height": 34
        }
      },
      "source": [
        "answer = model.predict(X_test)\n",
        "answer = [ np.argmax(i) for i in answer]\n",
        "print(len(answer))"
      ],
      "execution_count": 49,
      "outputs": [
        {
          "output_type": "stream",
          "text": [
            "40\n"
          ],
          "name": "stdout"
        }
      ]
    },
    {
      "cell_type": "markdown",
      "metadata": {
        "id": "FOBO-SgaBHMx",
        "colab_type": "text"
      },
      "source": [
        "# 0~20筆"
      ]
    },
    {
      "cell_type": "code",
      "metadata": {
        "id": "YHzRjtab0pr-",
        "colab_type": "code",
        "outputId": "4f4afa3c-abb0-4541-f6a7-9e081f5e5d5e",
        "colab": {
          "base_uri": "https://localhost:8080/",
          "height": 335
        }
      },
      "source": [
        "INDEX60 = df[-60:].index\n",
        "C = web.DataReader(SID,'yahoo',start=\"2000-01-01\")[['Close']]\n",
        "C = C.loc[INDEX60,:]\n",
        "C['SIGNAL'] = [np.nan for _ in range(20)] + answer #20個NAN+預測答案\n",
        "buy = C[C['SIGNAL']==1]['Close']\n",
        "sell = C[C['SIGNAL']==2]['Close']\n",
        "C['Close'][20:40].plot()\n",
        "plt.scatter(buy.index,buy.values,color='red',marker=\"^\")\n",
        "plt.scatter(sell.index,sell.values,color='black')"
      ],
      "execution_count": 50,
      "outputs": [
        {
          "output_type": "execute_result",
          "data": {
            "text/plain": [
              "<matplotlib.collections.PathCollection at 0x7fa58c1a5320>"
            ]
          },
          "metadata": {
            "tags": []
          },
          "execution_count": 50
        },
        {
          "output_type": "display_data",
          "data": {
            "image/png": "[encoded data removed]",
            "text/plain": [
              "<Figure size 432x288 with 1 Axes>"
            ]
          },
          "metadata": {
            "tags": []
          }
        }
      ]
    },
    {
      "cell_type": "markdown",
      "metadata": {
        "id": "NpYwUgdJBKWR",
        "colab_type": "text"
      },
      "source": [
        "# 20~40筆"
      ]
    },
    {
      "cell_type": "code",
      "metadata": {
        "id": "9AZQa4zj2Psu",
        "colab_type": "code",
        "outputId": "430b0508-c866-44e0-b832-62b8eea11b46",
        "colab": {
          "base_uri": "https://localhost:8080/",
          "height": 306
        }
      },
      "source": [
        "C['Close'][40:60].plot()\n",
        "plt.scatter(buy.index,buy.values,color='red',marker=\"^\")\n",
        "plt.scatter(sell.index,sell.values,color='black')"
      ],
      "execution_count": 51,
      "outputs": [
        {
          "output_type": "execute_result",
          "data": {
            "text/plain": [
              "<matplotlib.collections.PathCollection at 0x7fa58c48fd68>"
            ]
          },
          "metadata": {
            "tags": []
          },
          "execution_count": 51
        },
        {
          "output_type": "display_data",
          "data": {
            "image/png": "[encoded data removed]",
            "text/plain": [
              "<Figure size 432x288 with 1 Axes>"
            ]
          },
          "metadata": {
            "tags": []
          }
        }
      ]
    },
    {
      "cell_type": "markdown",
      "metadata": {
        "id": "j3i8j1ewAtDU",
        "colab_type": "text"
      },
      "source": [
        "# 合併"
      ]
    },
    {
      "cell_type": "code",
      "metadata": {
        "id": "y-RBxkc38C1a",
        "colab_type": "code",
        "outputId": "52b0e030-c3f8-4861-f432-6b815484e624",
        "colab": {
          "base_uri": "https://localhost:8080/",
          "height": 306
        }
      },
      "source": [
        "C['Close'][20:60].plot()\n",
        "plt.scatter(buy.index,buy.values,color='red',marker=\"^\")\n",
        "plt.scatter(sell.index,sell.values,color='black')"
      ],
      "execution_count": 52,
      "outputs": [
        {
          "output_type": "execute_result",
          "data": {
            "text/plain": [
              "<matplotlib.collections.PathCollection at 0x7fa58c408160>"
            ]
          },
          "metadata": {
            "tags": []
          },
          "execution_count": 52
        },
        {
          "output_type": "display_data",
          "data": {
            "image/png": "[encoded data removed]",
            "text/plain": [
              "<Figure size 432x288 with 1 Axes>"
            ]
          },
          "metadata": {
            "tags": []
          }
        }
      ]
    },
    {
      "cell_type": "markdown",
      "metadata": {
        "id": "WWVaZwDKF_lr",
        "colab_type": "text"
      },
      "source": [
        "# 平滑版本"
      ]
    },
    {
      "cell_type": "code",
      "metadata": {
        "id": "OUO9oF7sAvmH",
        "colab_type": "code",
        "outputId": "1ba951df-c683-4758-c344-48e81e72dcde",
        "colab": {
          "base_uri": "https://localhost:8080/",
          "height": 306
        }
      },
      "source": [
        "C_roll20 = pd.DataFrame(index=C.index)#空的dataframe index = 倒數60天股票日期\n",
        "C_roll20['Close'] = C['Close'].rolling(20).mean()#收盤價做20天平滑\n",
        "C_roll20['SIGNAL'] = C['SIGNAL']\n",
        "buy = C_roll20[C_roll20['SIGNAL']==1]['Close']#買點\n",
        "sell= C_roll20[C_roll20['SIGNAL']==2]['Close']#賣點\n",
        "C_roll20['Close'][20:].plot()\n",
        "plt.scatter(buy.index,buy.values,color='red',marker=\"^\")\n",
        "plt.scatter(sell.index,sell.values,color='black')"
      ],
      "execution_count": 53,
      "outputs": [
        {
          "output_type": "execute_result",
          "data": {
            "text/plain": [
              "<matplotlib.collections.PathCollection at 0x7fa58c3dfa90>"
            ]
          },
          "metadata": {
            "tags": []
          },
          "execution_count": 53
        },
        {
          "output_type": "display_data",
          "data": {
            "image/png": "[encoded data removed]",
            "text/plain": [
              "<Figure size 432x288 with 1 Axes>"
            ]
          },
          "metadata": {
            "tags": []
          }
        }
      ]
    },
    {
      "cell_type": "code",
      "metadata": {
        "id": "UIeUpfe4GzRI",
        "colab_type": "code",
        "colab": {}
      },
      "source": [
        ""
      ],
      "execution_count": 0,
      "outputs": []
    }
  ]
}