{
  "nbformat": 4,
  "nbformat_minor": 0,
  "metadata": {
    "colab": {
      "name": "CNN_stock_backtesting.ipynb",
      "version": "0.3.2",
      "provenance": [],
      "collapsed_sections": [],
      "include_colab_link": true
    },
    "kernelspec": {
      "name": "python3",
      "display_name": "Python 3"
    },
    "accelerator": "GPU"
  },
  "cells": [
    {
      "cell_type": "markdown",
      "metadata": {
        "id": "view-in-github",
        "colab_type": "text"
      },
      "source": [
        "<a href=\"https://colab.research.google.com/github/skywalker0803r/Ricky/blob/master/CNN_stock_backtesting.ipynb\" target=\"_parent\"><img src=\"https://colab.research.google.com/assets/colab-badge.svg\" alt=\"Open In Colab\"/></a>"
      ]
    },
    {
      "cell_type": "markdown",
      "metadata": {
        "id": "0j0w5XlE6t89",
        "colab_type": "text"
      },
      "source": [
        "# create Agent"
      ]
    },
    {
      "cell_type": "code",
      "metadata": {
        "id": "O90FOBYiJg7t",
        "colab_type": "code",
        "outputId": "b7f32f4b-19e0-4d70-e4de-bda63b8319b5",
        "colab": {
          "base_uri": "https://localhost:8080/",
          "height": 34
        }
      },
      "source": [
        "from google.colab import drive\n",
        "drive.mount('/content/drive')"
      ],
      "execution_count": 1,
      "outputs": [
        {
          "output_type": "stream",
          "text": [
            "Drive already mounted at /content/drive; to attempt to forcibly remount, call drive.mount(\"/content/drive\", force_remount=True).\n"
          ],
          "name": "stdout"
        }
      ]
    },
    {
      "cell_type": "code",
      "metadata": {
        "id": "cBqABY_vyG_I",
        "colab_type": "code",
        "colab": {}
      },
      "source": [
        "model_path = '/content/drive/My Drive/CNN_stock_model/Ricky_net_v12.h5'\n",
        "scaler_path = '/content/drive/My Drive/CNN_stock_model/MinMax_scaler_v12.pkl'\n",
        "SID = '^TWII'"
      ],
      "execution_count": 0,
      "outputs": []
    },
    {
      "cell_type": "code",
      "metadata": {
        "id": "gXhw8JpJIhSF",
        "colab_type": "code",
        "outputId": "1242088d-8278-48a7-e5eb-2ee41fa0290c",
        "colab": {
          "base_uri": "https://localhost:8080/",
          "height": 390
        }
      },
      "source": [
        "from keras.models import Model\n",
        "from keras.layers import Input, Dense\n",
        "import matplotlib.pyplot as plt\n",
        "from keras.models import load_model\n",
        "\n",
        "model = load_model(model_path)\n",
        "\n",
        "class Agent:\n",
        "  #初始化神經網路大腦\n",
        "  def __init__(self,model):\n",
        "    self.model = model\n",
        "  #選擇動作\n",
        "  def choose_action(self,features):\n",
        "    return self.model.predict(features)"
      ],
      "execution_count": 3,
      "outputs": [
        {
          "output_type": "stream",
          "text": [
            "Using TensorFlow backend.\n"
          ],
          "name": "stderr"
        },
        {
          "output_type": "stream",
          "text": [
            "WARNING:tensorflow:From /usr/local/lib/python3.6/dist-packages/keras/backend/tensorflow_backend.py:541: The name tf.placeholder is deprecated. Please use tf.compat.v1.placeholder instead.\n",
            "\n",
            "WARNING:tensorflow:From /usr/local/lib/python3.6/dist-packages/keras/backend/tensorflow_backend.py:4432: The name tf.random_uniform is deprecated. Please use tf.random.uniform instead.\n",
            "\n",
            "WARNING:tensorflow:From /usr/local/lib/python3.6/dist-packages/keras/backend/tensorflow_backend.py:4267: The name tf.nn.max_pool is deprecated. Please use tf.nn.max_pool2d instead.\n",
            "\n",
            "WARNING:tensorflow:From /usr/local/lib/python3.6/dist-packages/keras/backend/tensorflow_backend.py:66: The name tf.get_default_graph is deprecated. Please use tf.compat.v1.get_default_graph instead.\n",
            "\n",
            "WARNING:tensorflow:From /usr/local/lib/python3.6/dist-packages/keras/backend/tensorflow_backend.py:148: The name tf.placeholder_with_default is deprecated. Please use tf.compat.v1.placeholder_with_default instead.\n",
            "\n",
            "WARNING:tensorflow:From /usr/local/lib/python3.6/dist-packages/keras/backend/tensorflow_backend.py:3733: calling dropout (from tensorflow.python.ops.nn_ops) with keep_prob is deprecated and will be removed in a future version.\n",
            "Instructions for updating:\n",
            "Please use `rate` instead of `keep_prob`. Rate should be set to `rate = 1 - keep_prob`.\n",
            "WARNING:tensorflow:From /usr/local/lib/python3.6/dist-packages/keras/backend/tensorflow_backend.py:190: The name tf.get_default_session is deprecated. Please use tf.compat.v1.get_default_session instead.\n",
            "\n",
            "WARNING:tensorflow:From /usr/local/lib/python3.6/dist-packages/keras/optimizers.py:793: The name tf.train.Optimizer is deprecated. Please use tf.compat.v1.train.Optimizer instead.\n",
            "\n",
            "WARNING:tensorflow:From /usr/local/lib/python3.6/dist-packages/tensorflow/python/ops/math_grad.py:1250: add_dispatch_support.<locals>.wrapper (from tensorflow.python.ops.array_ops) is deprecated and will be removed in a future version.\n",
            "Instructions for updating:\n",
            "Use tf.where in 2.0, which has the same broadcast rule as np.where\n"
          ],
          "name": "stdout"
        }
      ]
    },
    {
      "cell_type": "code",
      "metadata": {
        "id": "IIjnQQinGapt",
        "colab_type": "code",
        "colab": {}
      },
      "source": [
        "Ricky = Agent(model)"
      ],
      "execution_count": 0,
      "outputs": []
    },
    {
      "cell_type": "markdown",
      "metadata": {
        "id": "1X0CuP2iLPjA",
        "colab_type": "text"
      },
      "source": [
        "# 準備features(15X15X1的圖片)"
      ]
    },
    {
      "cell_type": "code",
      "metadata": {
        "id": "BGvnJ-CjKuX_",
        "colab_type": "code",
        "colab": {}
      },
      "source": [
        "#!pip install finta\n",
        "import pandas as pd\n",
        "import seaborn as sns\n",
        "import pandas_datareader.data as web\n",
        "df = web.DataReader(SID,'yahoo',start=\"2000-01-01\")#,end=\"2019-09-10\")\n",
        "df = df.iloc[:,:5]"
      ],
      "execution_count": 0,
      "outputs": []
    },
    {
      "cell_type": "code",
      "metadata": {
        "id": "uGzIVk8TLTpz",
        "colab_type": "code",
        "colab": {}
      },
      "source": [
        "from finta import TA\n",
        "ohlcv = df[['Open','High','Low','Close','Volume']]\n",
        "ohlcv.columns = ['open','high','low','close','volume']"
      ],
      "execution_count": 0,
      "outputs": []
    },
    {
      "cell_type": "code",
      "metadata": {
        "id": "Zmw9y7XJLhEE",
        "colab_type": "code",
        "outputId": "1c7580bd-ba76-432d-ebaa-adb277efe24b",
        "colab": {
          "base_uri": "https://localhost:8080/",
          "height": 574
        }
      },
      "source": [
        "df['RSI'] = TA.RSI(ohlcv)\n",
        "df['Williams %R'] = TA.WILLIAMS(ohlcv)\n",
        "df['SMA'] = TA.SMA(ohlcv)\n",
        "df['EMA'] = TA.EMA(ohlcv)\n",
        "df['WMA'] = TA.WMA(ohlcv)\n",
        "df['HMA'] = TA.HMA(ohlcv)\n",
        "df['TEMA'] = TA.TEMA(ohlcv)\n",
        "df['CCI'] = TA.CCI(ohlcv)\n",
        "df['CMO'] = TA.CMO(ohlcv)\n",
        "df['MACD'] = TA.MACD(ohlcv)['MACD'] - TA.MACD(ohlcv)['SIGNAL']\n",
        "df['PPO'] = TA.PPO(ohlcv)['PPO'] - TA.PPO(ohlcv)['SIGNAL']\n",
        "df['ROC'] = TA.ROC(ohlcv)\n",
        "df['CFI'] = TA.CFI(ohlcv)\n",
        "df['DMI'] = TA.DMI(ohlcv)['DI+'] - TA.DMI(ohlcv)['DI-']\n",
        "df['SAR'] = TA.SAR(ohlcv)"
      ],
      "execution_count": 7,
      "outputs": [
        {
          "output_type": "stream",
          "text": [
            "/usr/local/lib/python3.6/dist-packages/finta/finta.py:263: FutureWarning: Currently, 'apply' passes the values as ndarrays to the applied function. In the future, this will change to passing it as Series objects. You need to specify 'raw=True' to keep the current behaviour, and you can pass 'raw=False' to silence this warning\n",
            "  wma = close_.apply(linear(weights))\n",
            "/usr/local/lib/python3.6/dist-packages/finta/finta.py:285: SettingWithCopyWarning: \n",
            "A value is trying to be set on a copy of a slice from a DataFrame.\n",
            "Try using .loc[row_indexer,col_indexer] = value instead\n",
            "\n",
            "See the caveats in the documentation: http://pandas.pydata.org/pandas-docs/stable/indexing.html#indexing-view-versus-copy\n",
            "  ohlc['deltawma'] = 2 * wmaf - wmas\n",
            "/usr/local/lib/python3.6/dist-packages/finta/finta.py:792: SettingWithCopyWarning: \n",
            "A value is trying to be set on a copy of a slice from a DataFrame.\n",
            "Try using .loc[row_indexer,col_indexer] = value instead\n",
            "\n",
            "See the caveats in the documentation: http://pandas.pydata.org/pandas-docs/stable/indexing.html#indexing-view-versus-copy\n",
            "  ohlc[\"up_move\"] = ohlc[\"high\"].diff()\n",
            "/usr/local/lib/python3.6/dist-packages/finta/finta.py:793: SettingWithCopyWarning: \n",
            "A value is trying to be set on a copy of a slice from a DataFrame.\n",
            "Try using .loc[row_indexer,col_indexer] = value instead\n",
            "\n",
            "See the caveats in the documentation: http://pandas.pydata.org/pandas-docs/stable/indexing.html#indexing-view-versus-copy\n",
            "  ohlc[\"down_move\"] = -ohlc[\"low\"].diff()\n",
            "/usr/local/lib/python3.6/dist-packages/finta/finta.py:809: SettingWithCopyWarning: \n",
            "A value is trying to be set on a copy of a slice from a DataFrame.\n",
            "Try using .loc[row_indexer,col_indexer] = value instead\n",
            "\n",
            "See the caveats in the documentation: http://pandas.pydata.org/pandas-docs/stable/indexing.html#indexing-view-versus-copy\n",
            "  ohlc[\"DMp\"] = DMp\n",
            "/usr/local/lib/python3.6/dist-packages/finta/finta.py:810: SettingWithCopyWarning: \n",
            "A value is trying to be set on a copy of a slice from a DataFrame.\n",
            "Try using .loc[row_indexer,col_indexer] = value instead\n",
            "\n",
            "See the caveats in the documentation: http://pandas.pydata.org/pandas-docs/stable/indexing.html#indexing-view-versus-copy\n",
            "  ohlc[\"DMm\"] = DMm\n"
          ],
          "name": "stderr"
        }
      ]
    },
    {
      "cell_type": "code",
      "metadata": {
        "id": "PKdUIMe4MJSv",
        "colab_type": "code",
        "outputId": "3bd6fe39-188d-495f-fe66-5fa6ff99f64b",
        "colab": {
          "base_uri": "https://localhost:8080/",
          "height": 379
        }
      },
      "source": [
        "print(df.shape)\n",
        "\n",
        "df = df.dropna(axis=0)#刪除有缺失的row,會缺失主要因為用時間rolling計算技術指標導致,正常的\n",
        "features = df.columns[-15:].tolist() #取15個剛剛建立的技術指標當特徵\n",
        "df = df[features]#重新定義df\n",
        "\n",
        "print(df.shape)\n",
        "df.tail()"
      ],
      "execution_count": 8,
      "outputs": [
        {
          "output_type": "stream",
          "text": [
            "(4848, 20)\n",
            "(4765, 15)\n"
          ],
          "name": "stdout"
        },
        {
          "output_type": "execute_result",
          "data": {
            "text/html": [
              "<div>\n",
              "<style scoped>\n",
              "    .dataframe tbody tr th:only-of-type {\n",
              "        vertical-align: middle;\n",
              "    }\n",
              "\n",
              "    .dataframe tbody tr th {\n",
              "        vertical-align: top;\n",
              "    }\n",
              "\n",
              "    .dataframe thead th {\n",
              "        text-align: right;\n",
              "    }\n",
              "</style>\n",
              "<table border=\"1\" class=\"dataframe\">\n",
              "  <thead>\n",
              "    <tr style=\"text-align: right;\">\n",
              "      <th></th>\n",
              "      <th>RSI</th>\n",
              "      <th>Williams %R</th>\n",
              "      <th>SMA</th>\n",
              "      <th>EMA</th>\n",
              "      <th>WMA</th>\n",
              "      <th>HMA</th>\n",
              "      <th>TEMA</th>\n",
              "      <th>CCI</th>\n",
              "      <th>CMO</th>\n",
              "      <th>MACD</th>\n",
              "      <th>PPO</th>\n",
              "      <th>ROC</th>\n",
              "      <th>CFI</th>\n",
              "      <th>DMI</th>\n",
              "      <th>SAR</th>\n",
              "    </tr>\n",
              "    <tr>\n",
              "      <th>Date</th>\n",
              "      <th></th>\n",
              "      <th></th>\n",
              "      <th></th>\n",
              "      <th></th>\n",
              "      <th></th>\n",
              "      <th></th>\n",
              "      <th></th>\n",
              "      <th></th>\n",
              "      <th></th>\n",
              "      <th></th>\n",
              "      <th></th>\n",
              "      <th></th>\n",
              "      <th></th>\n",
              "      <th></th>\n",
              "      <th></th>\n",
              "    </tr>\n",
              "  </thead>\n",
              "  <tbody>\n",
              "    <tr>\n",
              "      <th>2019-09-05</th>\n",
              "      <td>70.330664</td>\n",
              "      <td>-2.267544</td>\n",
              "      <td>10643.664920</td>\n",
              "      <td>10592.308928</td>\n",
              "      <td>10477.320247</td>\n",
              "      <td>10628.557715</td>\n",
              "      <td>10715.406837</td>\n",
              "      <td>162.484886</td>\n",
              "      <td>29.603035</td>\n",
              "      <td>40.576767</td>\n",
              "      <td>0.384245</td>\n",
              "      <td>2.227890</td>\n",
              "      <td>3.291572e+12</td>\n",
              "      <td>19.338268</td>\n",
              "      <td>10442.728186</td>\n",
              "    </tr>\n",
              "    <tr>\n",
              "      <th>2019-09-06</th>\n",
              "      <td>71.761526</td>\n",
              "      <td>-4.845474</td>\n",
              "      <td>10643.229778</td>\n",
              "      <td>10629.975072</td>\n",
              "      <td>10523.960373</td>\n",
              "      <td>10649.926758</td>\n",
              "      <td>10771.700236</td>\n",
              "      <td>148.438306</td>\n",
              "      <td>73.542822</td>\n",
              "      <td>45.547828</td>\n",
              "      <td>0.430984</td>\n",
              "      <td>2.421097</td>\n",
              "      <td>3.386218e+12</td>\n",
              "      <td>21.718306</td>\n",
              "      <td>10494.547614</td>\n",
              "    </tr>\n",
              "    <tr>\n",
              "      <th>2019-09-10</th>\n",
              "      <td>67.476249</td>\n",
              "      <td>-12.013750</td>\n",
              "      <td>10641.038562</td>\n",
              "      <td>10654.696074</td>\n",
              "      <td>10572.209570</td>\n",
              "      <td>10721.488672</td>\n",
              "      <td>10790.059251</td>\n",
              "      <td>120.498567</td>\n",
              "      <td>63.852001</td>\n",
              "      <td>44.792827</td>\n",
              "      <td>0.423447</td>\n",
              "      <td>2.125399</td>\n",
              "      <td>3.452463e+12</td>\n",
              "      <td>15.981934</td>\n",
              "      <td>10550.081700</td>\n",
              "    </tr>\n",
              "    <tr>\n",
              "      <th>2019-09-11</th>\n",
              "      <td>70.260662</td>\n",
              "      <td>-5.308822</td>\n",
              "      <td>10640.209294</td>\n",
              "      <td>10681.826781</td>\n",
              "      <td>10618.959288</td>\n",
              "      <td>10766.714746</td>\n",
              "      <td>10815.129097</td>\n",
              "      <td>113.508980</td>\n",
              "      <td>63.191856</td>\n",
              "      <td>44.459751</td>\n",
              "      <td>0.419735</td>\n",
              "      <td>2.393591</td>\n",
              "      <td>3.521049e+12</td>\n",
              "      <td>14.624074</td>\n",
              "      <td>10602.071414</td>\n",
              "    </tr>\n",
              "    <tr>\n",
              "      <th>2019-09-12</th>\n",
              "      <td>72.962756</td>\n",
              "      <td>-6.723046</td>\n",
              "      <td>10639.017102</td>\n",
              "      <td>10710.971386</td>\n",
              "      <td>10668.194857</td>\n",
              "      <td>10779.154785</td>\n",
              "      <td>10844.863584</td>\n",
              "      <td>117.083803</td>\n",
              "      <td>63.774373</td>\n",
              "      <td>44.334742</td>\n",
              "      <td>0.417820</td>\n",
              "      <td>4.567833</td>\n",
              "      <td>3.590935e+12</td>\n",
              "      <td>19.323585</td>\n",
              "      <td>10644.775100</td>\n",
              "    </tr>\n",
              "  </tbody>\n",
              "</table>\n",
              "</div>"
            ],
            "text/plain": [
              "                  RSI  Williams %R  ...        DMI           SAR\n",
              "Date                                ...                         \n",
              "2019-09-05  70.330664    -2.267544  ...  19.338268  10442.728186\n",
              "2019-09-06  71.761526    -4.845474  ...  21.718306  10494.547614\n",
              "2019-09-10  67.476249   -12.013750  ...  15.981934  10550.081700\n",
              "2019-09-11  70.260662    -5.308822  ...  14.624074  10602.071414\n",
              "2019-09-12  72.962756    -6.723046  ...  19.323585  10644.775100\n",
              "\n",
              "[5 rows x 15 columns]"
            ]
          },
          "metadata": {
            "tags": []
          },
          "execution_count": 8
        }
      ]
    },
    {
      "cell_type": "code",
      "metadata": {
        "id": "8hdF847O4a9r",
        "colab_type": "code",
        "outputId": "e78a4774-042e-45c6-d47a-6558f6a3c158",
        "colab": {
          "base_uri": "https://localhost:8080/",
          "height": 346
        }
      },
      "source": [
        "df['triple_barrier_signal'] = 0\n",
        "df.tail()"
      ],
      "execution_count": 9,
      "outputs": [
        {
          "output_type": "execute_result",
          "data": {
            "text/html": [
              "<div>\n",
              "<style scoped>\n",
              "    .dataframe tbody tr th:only-of-type {\n",
              "        vertical-align: middle;\n",
              "    }\n",
              "\n",
              "    .dataframe tbody tr th {\n",
              "        vertical-align: top;\n",
              "    }\n",
              "\n",
              "    .dataframe thead th {\n",
              "        text-align: right;\n",
              "    }\n",
              "</style>\n",
              "<table border=\"1\" class=\"dataframe\">\n",
              "  <thead>\n",
              "    <tr style=\"text-align: right;\">\n",
              "      <th></th>\n",
              "      <th>RSI</th>\n",
              "      <th>Williams %R</th>\n",
              "      <th>SMA</th>\n",
              "      <th>EMA</th>\n",
              "      <th>WMA</th>\n",
              "      <th>HMA</th>\n",
              "      <th>TEMA</th>\n",
              "      <th>CCI</th>\n",
              "      <th>CMO</th>\n",
              "      <th>MACD</th>\n",
              "      <th>PPO</th>\n",
              "      <th>ROC</th>\n",
              "      <th>CFI</th>\n",
              "      <th>DMI</th>\n",
              "      <th>SAR</th>\n",
              "      <th>triple_barrier_signal</th>\n",
              "    </tr>\n",
              "    <tr>\n",
              "      <th>Date</th>\n",
              "      <th></th>\n",
              "      <th></th>\n",
              "      <th></th>\n",
              "      <th></th>\n",
              "      <th></th>\n",
              "      <th></th>\n",
              "      <th></th>\n",
              "      <th></th>\n",
              "      <th></th>\n",
              "      <th></th>\n",
              "      <th></th>\n",
              "      <th></th>\n",
              "      <th></th>\n",
              "      <th></th>\n",
              "      <th></th>\n",
              "      <th></th>\n",
              "    </tr>\n",
              "  </thead>\n",
              "  <tbody>\n",
              "    <tr>\n",
              "      <th>2019-09-05</th>\n",
              "      <td>70.330664</td>\n",
              "      <td>-2.267544</td>\n",
              "      <td>10643.664920</td>\n",
              "      <td>10592.308928</td>\n",
              "      <td>10477.320247</td>\n",
              "      <td>10628.557715</td>\n",
              "      <td>10715.406837</td>\n",
              "      <td>162.484886</td>\n",
              "      <td>29.603035</td>\n",
              "      <td>40.576767</td>\n",
              "      <td>0.384245</td>\n",
              "      <td>2.227890</td>\n",
              "      <td>3.291572e+12</td>\n",
              "      <td>19.338268</td>\n",
              "      <td>10442.728186</td>\n",
              "      <td>0</td>\n",
              "    </tr>\n",
              "    <tr>\n",
              "      <th>2019-09-06</th>\n",
              "      <td>71.761526</td>\n",
              "      <td>-4.845474</td>\n",
              "      <td>10643.229778</td>\n",
              "      <td>10629.975072</td>\n",
              "      <td>10523.960373</td>\n",
              "      <td>10649.926758</td>\n",
              "      <td>10771.700236</td>\n",
              "      <td>148.438306</td>\n",
              "      <td>73.542822</td>\n",
              "      <td>45.547828</td>\n",
              "      <td>0.430984</td>\n",
              "      <td>2.421097</td>\n",
              "      <td>3.386218e+12</td>\n",
              "      <td>21.718306</td>\n",
              "      <td>10494.547614</td>\n",
              "      <td>0</td>\n",
              "    </tr>\n",
              "    <tr>\n",
              "      <th>2019-09-10</th>\n",
              "      <td>67.476249</td>\n",
              "      <td>-12.013750</td>\n",
              "      <td>10641.038562</td>\n",
              "      <td>10654.696074</td>\n",
              "      <td>10572.209570</td>\n",
              "      <td>10721.488672</td>\n",
              "      <td>10790.059251</td>\n",
              "      <td>120.498567</td>\n",
              "      <td>63.852001</td>\n",
              "      <td>44.792827</td>\n",
              "      <td>0.423447</td>\n",
              "      <td>2.125399</td>\n",
              "      <td>3.452463e+12</td>\n",
              "      <td>15.981934</td>\n",
              "      <td>10550.081700</td>\n",
              "      <td>0</td>\n",
              "    </tr>\n",
              "    <tr>\n",
              "      <th>2019-09-11</th>\n",
              "      <td>70.260662</td>\n",
              "      <td>-5.308822</td>\n",
              "      <td>10640.209294</td>\n",
              "      <td>10681.826781</td>\n",
              "      <td>10618.959288</td>\n",
              "      <td>10766.714746</td>\n",
              "      <td>10815.129097</td>\n",
              "      <td>113.508980</td>\n",
              "      <td>63.191856</td>\n",
              "      <td>44.459751</td>\n",
              "      <td>0.419735</td>\n",
              "      <td>2.393591</td>\n",
              "      <td>3.521049e+12</td>\n",
              "      <td>14.624074</td>\n",
              "      <td>10602.071414</td>\n",
              "      <td>0</td>\n",
              "    </tr>\n",
              "    <tr>\n",
              "      <th>2019-09-12</th>\n",
              "      <td>72.962756</td>\n",
              "      <td>-6.723046</td>\n",
              "      <td>10639.017102</td>\n",
              "      <td>10710.971386</td>\n",
              "      <td>10668.194857</td>\n",
              "      <td>10779.154785</td>\n",
              "      <td>10844.863584</td>\n",
              "      <td>117.083803</td>\n",
              "      <td>63.774373</td>\n",
              "      <td>44.334742</td>\n",
              "      <td>0.417820</td>\n",
              "      <td>4.567833</td>\n",
              "      <td>3.590935e+12</td>\n",
              "      <td>19.323585</td>\n",
              "      <td>10644.775100</td>\n",
              "      <td>0</td>\n",
              "    </tr>\n",
              "  </tbody>\n",
              "</table>\n",
              "</div>"
            ],
            "text/plain": [
              "                  RSI  Williams %R  ...           SAR  triple_barrier_signal\n",
              "Date                                ...                                     \n",
              "2019-09-05  70.330664    -2.267544  ...  10442.728186                      0\n",
              "2019-09-06  71.761526    -4.845474  ...  10494.547614                      0\n",
              "2019-09-10  67.476249   -12.013750  ...  10550.081700                      0\n",
              "2019-09-11  70.260662    -5.308822  ...  10602.071414                      0\n",
              "2019-09-12  72.962756    -6.723046  ...  10644.775100                      0\n",
              "\n",
              "[5 rows x 16 columns]"
            ]
          },
          "metadata": {
            "tags": []
          },
          "execution_count": 9
        }
      ]
    },
    {
      "cell_type": "markdown",
      "metadata": {
        "id": "hqptCYzZMf5O",
        "colab_type": "text"
      },
      "source": [
        "# features scaling"
      ]
    },
    {
      "cell_type": "code",
      "metadata": {
        "id": "QiK6_Lc1MNv1",
        "colab_type": "code",
        "outputId": "6160a2ed-8533-405c-fbf1-e6bce4d716b2",
        "colab": {
          "base_uri": "https://localhost:8080/",
          "height": 225
        }
      },
      "source": [
        "from sklearn.preprocessing import MinMaxScaler\n",
        "import joblib\n",
        "\n",
        "min_max_scaler = joblib.load(scaler_path)\n",
        "\n",
        "df_minmax = min_max_scaler.transform(df)#縮放到0-1之間\n",
        "df_minmax = pd.DataFrame(df_minmax,\n",
        "                         index = df.index,\n",
        "                         columns = df.columns)#轉回dataframe格式\n",
        "df_minmax.tail()"
      ],
      "execution_count": 10,
      "outputs": [
        {
          "output_type": "execute_result",
          "data": {
            "text/html": [
              "<div>\n",
              "<style scoped>\n",
              "    .dataframe tbody tr th:only-of-type {\n",
              "        vertical-align: middle;\n",
              "    }\n",
              "\n",
              "    .dataframe tbody tr th {\n",
              "        vertical-align: top;\n",
              "    }\n",
              "\n",
              "    .dataframe thead th {\n",
              "        text-align: right;\n",
              "    }\n",
              "</style>\n",
              "<table border=\"1\" class=\"dataframe\">\n",
              "  <thead>\n",
              "    <tr style=\"text-align: right;\">\n",
              "      <th></th>\n",
              "      <th>RSI</th>\n",
              "      <th>Williams %R</th>\n",
              "      <th>SMA</th>\n",
              "      <th>EMA</th>\n",
              "      <th>WMA</th>\n",
              "      <th>HMA</th>\n",
              "      <th>TEMA</th>\n",
              "      <th>CCI</th>\n",
              "      <th>CMO</th>\n",
              "      <th>MACD</th>\n",
              "      <th>PPO</th>\n",
              "      <th>ROC</th>\n",
              "      <th>CFI</th>\n",
              "      <th>DMI</th>\n",
              "      <th>SAR</th>\n",
              "      <th>triple_barrier_signal</th>\n",
              "    </tr>\n",
              "    <tr>\n",
              "      <th>Date</th>\n",
              "      <th></th>\n",
              "      <th></th>\n",
              "      <th></th>\n",
              "      <th></th>\n",
              "      <th></th>\n",
              "      <th></th>\n",
              "      <th></th>\n",
              "      <th></th>\n",
              "      <th></th>\n",
              "      <th></th>\n",
              "      <th></th>\n",
              "      <th></th>\n",
              "      <th></th>\n",
              "      <th></th>\n",
              "      <th></th>\n",
              "      <th></th>\n",
              "    </tr>\n",
              "  </thead>\n",
              "  <tbody>\n",
              "    <tr>\n",
              "      <th>2019-09-05</th>\n",
              "      <td>0.745295</td>\n",
              "      <td>0.977325</td>\n",
              "      <td>0.960725</td>\n",
              "      <td>0.928341</td>\n",
              "      <td>0.907180</td>\n",
              "      <td>0.924040</td>\n",
              "      <td>0.931498</td>\n",
              "      <td>0.837743</td>\n",
              "      <td>0.648015</td>\n",
              "      <td>0.727340</td>\n",
              "      <td>0.594980</td>\n",
              "      <td>0.527453</td>\n",
              "      <td>0.791416</td>\n",
              "      <td>0.712954</td>\n",
              "      <td>0.894706</td>\n",
              "      <td>0.5</td>\n",
              "    </tr>\n",
              "    <tr>\n",
              "      <th>2019-09-06</th>\n",
              "      <td>0.761521</td>\n",
              "      <td>0.951545</td>\n",
              "      <td>0.960663</td>\n",
              "      <td>0.933321</td>\n",
              "      <td>0.913285</td>\n",
              "      <td>0.926805</td>\n",
              "      <td>0.938713</td>\n",
              "      <td>0.808756</td>\n",
              "      <td>0.867714</td>\n",
              "      <td>0.748549</td>\n",
              "      <td>0.607020</td>\n",
              "      <td>0.531773</td>\n",
              "      <td>0.814172</td>\n",
              "      <td>0.723225</td>\n",
              "      <td>0.901300</td>\n",
              "      <td>0.5</td>\n",
              "    </tr>\n",
              "    <tr>\n",
              "      <th>2019-09-10</th>\n",
              "      <td>0.712927</td>\n",
              "      <td>0.879862</td>\n",
              "      <td>0.960355</td>\n",
              "      <td>0.936590</td>\n",
              "      <td>0.919601</td>\n",
              "      <td>0.936066</td>\n",
              "      <td>0.941066</td>\n",
              "      <td>0.751099</td>\n",
              "      <td>0.819260</td>\n",
              "      <td>0.745327</td>\n",
              "      <td>0.605078</td>\n",
              "      <td>0.525162</td>\n",
              "      <td>0.830100</td>\n",
              "      <td>0.698469</td>\n",
              "      <td>0.908367</td>\n",
              "      <td>0.5</td>\n",
              "    </tr>\n",
              "    <tr>\n",
              "      <th>2019-09-11</th>\n",
              "      <td>0.744501</td>\n",
              "      <td>0.946912</td>\n",
              "      <td>0.960238</td>\n",
              "      <td>0.940177</td>\n",
              "      <td>0.925720</td>\n",
              "      <td>0.941918</td>\n",
              "      <td>0.944279</td>\n",
              "      <td>0.736675</td>\n",
              "      <td>0.815959</td>\n",
              "      <td>0.743906</td>\n",
              "      <td>0.604122</td>\n",
              "      <td>0.531158</td>\n",
              "      <td>0.846590</td>\n",
              "      <td>0.692609</td>\n",
              "      <td>0.914983</td>\n",
              "      <td>0.5</td>\n",
              "    </tr>\n",
              "    <tr>\n",
              "      <th>2019-09-12</th>\n",
              "      <td>0.775142</td>\n",
              "      <td>0.932770</td>\n",
              "      <td>0.960070</td>\n",
              "      <td>0.944031</td>\n",
              "      <td>0.932165</td>\n",
              "      <td>0.943528</td>\n",
              "      <td>0.948090</td>\n",
              "      <td>0.744052</td>\n",
              "      <td>0.818872</td>\n",
              "      <td>0.743373</td>\n",
              "      <td>0.603629</td>\n",
              "      <td>0.579767</td>\n",
              "      <td>0.863394</td>\n",
              "      <td>0.712890</td>\n",
              "      <td>0.920417</td>\n",
              "      <td>0.5</td>\n",
              "    </tr>\n",
              "  </tbody>\n",
              "</table>\n",
              "</div>"
            ],
            "text/plain": [
              "                 RSI  Williams %R  ...       SAR  triple_barrier_signal\n",
              "Date                               ...                                 \n",
              "2019-09-05  0.745295     0.977325  ...  0.894706                    0.5\n",
              "2019-09-06  0.761521     0.951545  ...  0.901300                    0.5\n",
              "2019-09-10  0.712927     0.879862  ...  0.908367                    0.5\n",
              "2019-09-11  0.744501     0.946912  ...  0.914983                    0.5\n",
              "2019-09-12  0.775142     0.932770  ...  0.920417                    0.5\n",
              "\n",
              "[5 rows x 16 columns]"
            ]
          },
          "metadata": {
            "tags": []
          },
          "execution_count": 10
        }
      ]
    },
    {
      "cell_type": "code",
      "metadata": {
        "id": "z-PhD2biMqYj",
        "colab_type": "code",
        "outputId": "6c060a0e-3695-4643-a919-14e1131bae88",
        "colab": {
          "base_uri": "https://localhost:8080/",
          "height": 242
        }
      },
      "source": [
        "df = df_minmax.drop('triple_barrier_signal',axis=1)\n",
        "print('特徵縮放完成!')\n",
        "df.tail()"
      ],
      "execution_count": 11,
      "outputs": [
        {
          "output_type": "stream",
          "text": [
            "特徵縮放完成!\n"
          ],
          "name": "stdout"
        },
        {
          "output_type": "execute_result",
          "data": {
            "text/html": [
              "<div>\n",
              "<style scoped>\n",
              "    .dataframe tbody tr th:only-of-type {\n",
              "        vertical-align: middle;\n",
              "    }\n",
              "\n",
              "    .dataframe tbody tr th {\n",
              "        vertical-align: top;\n",
              "    }\n",
              "\n",
              "    .dataframe thead th {\n",
              "        text-align: right;\n",
              "    }\n",
              "</style>\n",
              "<table border=\"1\" class=\"dataframe\">\n",
              "  <thead>\n",
              "    <tr style=\"text-align: right;\">\n",
              "      <th></th>\n",
              "      <th>RSI</th>\n",
              "      <th>Williams %R</th>\n",
              "      <th>SMA</th>\n",
              "      <th>EMA</th>\n",
              "      <th>WMA</th>\n",
              "      <th>HMA</th>\n",
              "      <th>TEMA</th>\n",
              "      <th>CCI</th>\n",
              "      <th>CMO</th>\n",
              "      <th>MACD</th>\n",
              "      <th>PPO</th>\n",
              "      <th>ROC</th>\n",
              "      <th>CFI</th>\n",
              "      <th>DMI</th>\n",
              "      <th>SAR</th>\n",
              "    </tr>\n",
              "    <tr>\n",
              "      <th>Date</th>\n",
              "      <th></th>\n",
              "      <th></th>\n",
              "      <th></th>\n",
              "      <th></th>\n",
              "      <th></th>\n",
              "      <th></th>\n",
              "      <th></th>\n",
              "      <th></th>\n",
              "      <th></th>\n",
              "      <th></th>\n",
              "      <th></th>\n",
              "      <th></th>\n",
              "      <th></th>\n",
              "      <th></th>\n",
              "      <th></th>\n",
              "    </tr>\n",
              "  </thead>\n",
              "  <tbody>\n",
              "    <tr>\n",
              "      <th>2019-09-05</th>\n",
              "      <td>0.745295</td>\n",
              "      <td>0.977325</td>\n",
              "      <td>0.960725</td>\n",
              "      <td>0.928341</td>\n",
              "      <td>0.907180</td>\n",
              "      <td>0.924040</td>\n",
              "      <td>0.931498</td>\n",
              "      <td>0.837743</td>\n",
              "      <td>0.648015</td>\n",
              "      <td>0.727340</td>\n",
              "      <td>0.594980</td>\n",
              "      <td>0.527453</td>\n",
              "      <td>0.791416</td>\n",
              "      <td>0.712954</td>\n",
              "      <td>0.894706</td>\n",
              "    </tr>\n",
              "    <tr>\n",
              "      <th>2019-09-06</th>\n",
              "      <td>0.761521</td>\n",
              "      <td>0.951545</td>\n",
              "      <td>0.960663</td>\n",
              "      <td>0.933321</td>\n",
              "      <td>0.913285</td>\n",
              "      <td>0.926805</td>\n",
              "      <td>0.938713</td>\n",
              "      <td>0.808756</td>\n",
              "      <td>0.867714</td>\n",
              "      <td>0.748549</td>\n",
              "      <td>0.607020</td>\n",
              "      <td>0.531773</td>\n",
              "      <td>0.814172</td>\n",
              "      <td>0.723225</td>\n",
              "      <td>0.901300</td>\n",
              "    </tr>\n",
              "    <tr>\n",
              "      <th>2019-09-10</th>\n",
              "      <td>0.712927</td>\n",
              "      <td>0.879862</td>\n",
              "      <td>0.960355</td>\n",
              "      <td>0.936590</td>\n",
              "      <td>0.919601</td>\n",
              "      <td>0.936066</td>\n",
              "      <td>0.941066</td>\n",
              "      <td>0.751099</td>\n",
              "      <td>0.819260</td>\n",
              "      <td>0.745327</td>\n",
              "      <td>0.605078</td>\n",
              "      <td>0.525162</td>\n",
              "      <td>0.830100</td>\n",
              "      <td>0.698469</td>\n",
              "      <td>0.908367</td>\n",
              "    </tr>\n",
              "    <tr>\n",
              "      <th>2019-09-11</th>\n",
              "      <td>0.744501</td>\n",
              "      <td>0.946912</td>\n",
              "      <td>0.960238</td>\n",
              "      <td>0.940177</td>\n",
              "      <td>0.925720</td>\n",
              "      <td>0.941918</td>\n",
              "      <td>0.944279</td>\n",
              "      <td>0.736675</td>\n",
              "      <td>0.815959</td>\n",
              "      <td>0.743906</td>\n",
              "      <td>0.604122</td>\n",
              "      <td>0.531158</td>\n",
              "      <td>0.846590</td>\n",
              "      <td>0.692609</td>\n",
              "      <td>0.914983</td>\n",
              "    </tr>\n",
              "    <tr>\n",
              "      <th>2019-09-12</th>\n",
              "      <td>0.775142</td>\n",
              "      <td>0.932770</td>\n",
              "      <td>0.960070</td>\n",
              "      <td>0.944031</td>\n",
              "      <td>0.932165</td>\n",
              "      <td>0.943528</td>\n",
              "      <td>0.948090</td>\n",
              "      <td>0.744052</td>\n",
              "      <td>0.818872</td>\n",
              "      <td>0.743373</td>\n",
              "      <td>0.603629</td>\n",
              "      <td>0.579767</td>\n",
              "      <td>0.863394</td>\n",
              "      <td>0.712890</td>\n",
              "      <td>0.920417</td>\n",
              "    </tr>\n",
              "  </tbody>\n",
              "</table>\n",
              "</div>"
            ],
            "text/plain": [
              "                 RSI  Williams %R       SMA  ...       CFI       DMI       SAR\n",
              "Date                                         ...                              \n",
              "2019-09-05  0.745295     0.977325  0.960725  ...  0.791416  0.712954  0.894706\n",
              "2019-09-06  0.761521     0.951545  0.960663  ...  0.814172  0.723225  0.901300\n",
              "2019-09-10  0.712927     0.879862  0.960355  ...  0.830100  0.698469  0.908367\n",
              "2019-09-11  0.744501     0.946912  0.960238  ...  0.846590  0.692609  0.914983\n",
              "2019-09-12  0.775142     0.932770  0.960070  ...  0.863394  0.712890  0.920417\n",
              "\n",
              "[5 rows x 15 columns]"
            ]
          },
          "metadata": {
            "tags": []
          },
          "execution_count": 11
        }
      ]
    },
    {
      "cell_type": "markdown",
      "metadata": {
        "id": "eMHbuSeOMzFx",
        "colab_type": "text"
      },
      "source": [
        "# Xs prepare"
      ]
    },
    {
      "cell_type": "code",
      "metadata": {
        "id": "e2jdrTPqMwzw",
        "colab_type": "code",
        "outputId": "fdace162-f3e3-4ea9-e598-57c328f97902",
        "colab": {
          "base_uri": "https://localhost:8080/",
          "height": 50
        }
      },
      "source": [
        "from tqdm import tqdm\n",
        "import numpy as np\n",
        "\n",
        "#定義觀察天數,起始index(0),結束index(資料筆數-觀察天數)\n",
        "days = 15\n",
        "b_index = 0\n",
        "f_index = len(df)-days\n",
        "\n",
        "#待存放序列\n",
        "Xs = []\n",
        "\n",
        "'''\n",
        "若資料筆數100,days=15天,f_index=85,i只會跑到84,i+days=99,features只會跑到98天.\n",
        "若資料筆數100,days=15天,f_index=85+1,i會跑到85,i+days=100,features會跑到99天.\n",
        "'''\n",
        "for i in tqdm(range(b_index ,f_index+1 ,1)):#每次i都會遞增1\n",
        "  X = df.iloc[i:i+days,:][features] #ex:0...14(不含15)之features\n",
        "  X = np.array(X) # to np_array\n",
        "  Xs.append(X) #加入一筆X\n",
        "#轉換成np_array\n",
        "Xs = np.array(Xs)\n",
        "print('準備完成')"
      ],
      "execution_count": 12,
      "outputs": [
        {
          "output_type": "stream",
          "text": [
            "100%|██████████| 4751/4751 [00:07<00:00, 642.24it/s]\n"
          ],
          "name": "stderr"
        },
        {
          "output_type": "stream",
          "text": [
            "準備完成\n"
          ],
          "name": "stdout"
        }
      ]
    },
    {
      "cell_type": "code",
      "metadata": {
        "id": "sQmO7cNGMtxk",
        "colab_type": "code",
        "outputId": "df5fc1f9-267c-4a1f-cb64-1dbe362a6453",
        "colab": {
          "base_uri": "https://localhost:8080/",
          "height": 34
        }
      },
      "source": [
        "Xs.shape"
      ],
      "execution_count": 13,
      "outputs": [
        {
          "output_type": "execute_result",
          "data": {
            "text/plain": [
              "(4751, 15, 15)"
            ]
          },
          "metadata": {
            "tags": []
          },
          "execution_count": 13
        }
      ]
    },
    {
      "cell_type": "markdown",
      "metadata": {
        "id": "fhI3ZIYCNN_Z",
        "colab_type": "text"
      },
      "source": [
        "# Reshape X"
      ]
    },
    {
      "cell_type": "code",
      "metadata": {
        "id": "zmadSg2KNKv_",
        "colab_type": "code",
        "outputId": "8e8a0228-3ce3-4b7c-d4d4-aecd26fc39f2",
        "colab": {
          "base_uri": "https://localhost:8080/",
          "height": 34
        }
      },
      "source": [
        "Xs = Xs.reshape(-1,days,len(features),1)\n",
        "print(Xs.shape)"
      ],
      "execution_count": 14,
      "outputs": [
        {
          "output_type": "stream",
          "text": [
            "(4751, 15, 15, 1)\n"
          ],
          "name": "stdout"
        }
      ]
    },
    {
      "cell_type": "markdown",
      "metadata": {
        "id": "riuYaAxhNUum",
        "colab_type": "text"
      },
      "source": [
        "# Visualization"
      ]
    },
    {
      "cell_type": "code",
      "metadata": {
        "id": "9o3Ej23VNSfc",
        "colab_type": "code",
        "outputId": "47a2122a-9485-4651-e3d2-a4c1a21140de",
        "colab": {
          "base_uri": "https://localhost:8080/",
          "height": 595
        }
      },
      "source": [
        "import matplotlib.pyplot as plt\n",
        "import matplotlib.image as mpimg\n",
        "%matplotlib inline\n",
        "Xs_v = Xs.reshape(-1,Xs.shape[1],Xs.shape[2])\n",
        "plt.figure(figsize=(10,10))\n",
        "plt.subplots_adjust(wspace =0, hspace =0.3)\n",
        "for i in range(0,9):\n",
        "    plt.subplot(330 + (i+1))\n",
        "    plt.imshow(Xs_v[i])"
      ],
      "execution_count": 15,
      "outputs": [
        {
          "output_type": "display_data",
          "data": {
            "image/png": "[encoded data removed]",
            "text/plain": [
              "<Figure size 720x720 with 9 Axes>"
            ]
          },
          "metadata": {
            "tags": []
          }
        }
      ]
    },
    {
      "cell_type": "markdown",
      "metadata": {
        "id": "OiMwfIgracil",
        "colab_type": "text"
      },
      "source": [
        "# model predict"
      ]
    },
    {
      "cell_type": "code",
      "metadata": {
        "id": "Li8xHQiENaBw",
        "colab_type": "code",
        "colab": {}
      },
      "source": [
        "predict = Ricky.choose_action(Xs)\n",
        "SIGNAL = [ np.argmax(i) for i in predict]"
      ],
      "execution_count": 0,
      "outputs": []
    },
    {
      "cell_type": "code",
      "metadata": {
        "id": "xpep08xnNly_",
        "colab_type": "code",
        "outputId": "649f1061-48ef-4571-c058-657e8273cf3b",
        "colab": {
          "base_uri": "https://localhost:8080/",
          "height": 185
        }
      },
      "source": [
        "np.set_printoptions(suppress=True)\n",
        "predict[-10:]"
      ],
      "execution_count": 17,
      "outputs": [
        {
          "output_type": "execute_result",
          "data": {
            "text/plain": [
              "array([[0.00773747, 0.991553  , 0.00070946],\n",
              "       [0.25086534, 0.7335775 , 0.01555725],\n",
              "       [0.4239211 , 0.54151267, 0.03456618],\n",
              "       [0.04136849, 0.9504313 , 0.00820017],\n",
              "       [0.13167638, 0.8598599 , 0.00846379],\n",
              "       [0.8909157 , 0.06103153, 0.0480527 ],\n",
              "       [0.9638965 , 0.0117779 , 0.02432559],\n",
              "       [0.9494689 , 0.01500464, 0.03552645],\n",
              "       [0.9205573 , 0.01183178, 0.0676109 ],\n",
              "       [0.92885876, 0.00907399, 0.06206724]], dtype=float32)"
            ]
          },
          "metadata": {
            "tags": []
          },
          "execution_count": 17
        }
      ]
    },
    {
      "cell_type": "markdown",
      "metadata": {
        "id": "uhYZpPYg8TVu",
        "colab_type": "text"
      },
      "source": [
        "# predict result"
      ]
    },
    {
      "cell_type": "code",
      "metadata": {
        "id": "YgLJkHswOji8",
        "colab_type": "code",
        "outputId": "6c7c28af-2b51-4fc9-dc71-a205c22d9f60",
        "colab": {
          "base_uri": "https://localhost:8080/",
          "height": 373
        }
      },
      "source": [
        "df = df.iloc[-len(predict):]\n",
        "df['HOLD'] = predict[:,0]\n",
        "df['BUY'] = predict[:,1]\n",
        "df['SELL'] = predict[:,2]\n",
        "df = df.iloc[:,-3:]\n",
        "df = df.join(web.DataReader(SID,'yahoo',start=\"2000-01-01\")['Close'])\n",
        "df['SIGNAL'] = SIGNAL\n",
        "df.tail(10)"
      ],
      "execution_count": 18,
      "outputs": [
        {
          "output_type": "execute_result",
          "data": {
            "text/html": [
              "<div>\n",
              "<style scoped>\n",
              "    .dataframe tbody tr th:only-of-type {\n",
              "        vertical-align: middle;\n",
              "    }\n",
              "\n",
              "    .dataframe tbody tr th {\n",
              "        vertical-align: top;\n",
              "    }\n",
              "\n",
              "    .dataframe thead th {\n",
              "        text-align: right;\n",
              "    }\n",
              "</style>\n",
              "<table border=\"1\" class=\"dataframe\">\n",
              "  <thead>\n",
              "    <tr style=\"text-align: right;\">\n",
              "      <th></th>\n",
              "      <th>HOLD</th>\n",
              "      <th>BUY</th>\n",
              "      <th>SELL</th>\n",
              "      <th>Close</th>\n",
              "      <th>SIGNAL</th>\n",
              "    </tr>\n",
              "    <tr>\n",
              "      <th>Date</th>\n",
              "      <th></th>\n",
              "      <th></th>\n",
              "      <th></th>\n",
              "      <th></th>\n",
              "      <th></th>\n",
              "    </tr>\n",
              "  </thead>\n",
              "  <tbody>\n",
              "    <tr>\n",
              "      <th>2019-08-29</th>\n",
              "      <td>0.007737</td>\n",
              "      <td>0.991553</td>\n",
              "      <td>0.000709</td>\n",
              "      <td>10462.429688</td>\n",
              "      <td>1</td>\n",
              "    </tr>\n",
              "    <tr>\n",
              "      <th>2019-08-30</th>\n",
              "      <td>0.250865</td>\n",
              "      <td>0.733577</td>\n",
              "      <td>0.015557</td>\n",
              "      <td>10618.049805</td>\n",
              "      <td>1</td>\n",
              "    </tr>\n",
              "    <tr>\n",
              "      <th>2019-09-02</th>\n",
              "      <td>0.423921</td>\n",
              "      <td>0.541513</td>\n",
              "      <td>0.034566</td>\n",
              "      <td>10634.849609</td>\n",
              "      <td>1</td>\n",
              "    </tr>\n",
              "    <tr>\n",
              "      <th>2019-09-03</th>\n",
              "      <td>0.041368</td>\n",
              "      <td>0.950431</td>\n",
              "      <td>0.008200</td>\n",
              "      <td>10558.209961</td>\n",
              "      <td>1</td>\n",
              "    </tr>\n",
              "    <tr>\n",
              "      <th>2019-09-04</th>\n",
              "      <td>0.131676</td>\n",
              "      <td>0.859860</td>\n",
              "      <td>0.008464</td>\n",
              "      <td>10657.309570</td>\n",
              "      <td>1</td>\n",
              "    </tr>\n",
              "    <tr>\n",
              "      <th>2019-09-05</th>\n",
              "      <td>0.890916</td>\n",
              "      <td>0.061032</td>\n",
              "      <td>0.048053</td>\n",
              "      <td>10756.929688</td>\n",
              "      <td>0</td>\n",
              "    </tr>\n",
              "    <tr>\n",
              "      <th>2019-09-06</th>\n",
              "      <td>0.963897</td>\n",
              "      <td>0.011778</td>\n",
              "      <td>0.024326</td>\n",
              "      <td>10780.639648</td>\n",
              "      <td>0</td>\n",
              "    </tr>\n",
              "    <tr>\n",
              "      <th>2019-09-10</th>\n",
              "      <td>0.949469</td>\n",
              "      <td>0.015005</td>\n",
              "      <td>0.035526</td>\n",
              "      <td>10753.580078</td>\n",
              "      <td>0</td>\n",
              "    </tr>\n",
              "    <tr>\n",
              "      <th>2019-09-11</th>\n",
              "      <td>0.920557</td>\n",
              "      <td>0.011832</td>\n",
              "      <td>0.067611</td>\n",
              "      <td>10790.349609</td>\n",
              "      <td>0</td>\n",
              "    </tr>\n",
              "    <tr>\n",
              "      <th>2019-09-12</th>\n",
              "      <td>0.928859</td>\n",
              "      <td>0.009074</td>\n",
              "      <td>0.062067</td>\n",
              "      <td>10827.549805</td>\n",
              "      <td>0</td>\n",
              "    </tr>\n",
              "  </tbody>\n",
              "</table>\n",
              "</div>"
            ],
            "text/plain": [
              "                HOLD       BUY      SELL         Close  SIGNAL\n",
              "Date                                                          \n",
              "2019-08-29  0.007737  0.991553  0.000709  10462.429688       1\n",
              "2019-08-30  0.250865  0.733577  0.015557  10618.049805       1\n",
              "2019-09-02  0.423921  0.541513  0.034566  10634.849609       1\n",
              "2019-09-03  0.041368  0.950431  0.008200  10558.209961       1\n",
              "2019-09-04  0.131676  0.859860  0.008464  10657.309570       1\n",
              "2019-09-05  0.890916  0.061032  0.048053  10756.929688       0\n",
              "2019-09-06  0.963897  0.011778  0.024326  10780.639648       0\n",
              "2019-09-10  0.949469  0.015005  0.035526  10753.580078       0\n",
              "2019-09-11  0.920557  0.011832  0.067611  10790.349609       0\n",
              "2019-09-12  0.928859  0.009074  0.062067  10827.549805       0"
            ]
          },
          "metadata": {
            "tags": []
          },
          "execution_count": 18
        }
      ]
    },
    {
      "cell_type": "markdown",
      "metadata": {
        "id": "Llo1HqPAGRIt",
        "colab_type": "text"
      },
      "source": [
        "# 近1年買賣圖"
      ]
    },
    {
      "cell_type": "code",
      "metadata": {
        "id": "5RSWF3dLGRPQ",
        "colab_type": "code",
        "outputId": "cd0aa898-cde0-4f2a-f46e-84ef252e45e4",
        "colab": {
          "base_uri": "https://localhost:8080/",
          "height": 281
        }
      },
      "source": [
        "t = df[-250:].copy()\n",
        "buy = t[t['SIGNAL']==1]['Close']\n",
        "sell = t[t['SIGNAL']==2]['Close']\n",
        "t['Close'].plot()\n",
        "plt.scatter(list(buy.index),list(buy.values),color='red',marker='^')\n",
        "plt.scatter(list(sell.index),list(sell.values),color='black')\n",
        "plt.show()"
      ],
      "execution_count": 19,
      "outputs": [
        {
          "output_type": "display_data",
          "data": {
            "image/png": "[encoded data removed]",
            "text/plain": [
              "<Figure size 432x288 with 1 Axes>"
            ]
          },
          "metadata": {
            "tags": []
          }
        }
      ]
    },
    {
      "cell_type": "markdown",
      "metadata": {
        "id": "E-VGGuJ27zM2",
        "colab_type": "text"
      },
      "source": [
        "# 積效回測 "
      ]
    },
    {
      "cell_type": "markdown",
      "metadata": {
        "id": "lpelBUUAAoSY",
        "colab_type": "text"
      },
      "source": [
        "首先製作持有狀況表:df_fill"
      ]
    },
    {
      "cell_type": "markdown",
      "metadata": {
        "id": "O6W4-STf9BCP",
        "colab_type": "text"
      },
      "source": [
        "在2與1間填入2,1與2間填入1"
      ]
    },
    {
      "cell_type": "code",
      "metadata": {
        "id": "sz8gs6pD-y8W",
        "colab_type": "code",
        "colab": {
          "base_uri": "https://localhost:8080/",
          "height": 373
        },
        "outputId": "6588da27-a88a-4898-a35a-027af76763ff"
      },
      "source": [
        "df_fill = df.copy()\n",
        "df_fill.loc[ df_fill['SIGNAL']==0 ,'SIGNAL'] = np.nan\n",
        "df_fill = df_fill.ffill()\n",
        "df_fill.tail(10)"
      ],
      "execution_count": 20,
      "outputs": [
        {
          "output_type": "execute_result",
          "data": {
            "text/html": [
              "<div>\n",
              "<style scoped>\n",
              "    .dataframe tbody tr th:only-of-type {\n",
              "        vertical-align: middle;\n",
              "    }\n",
              "\n",
              "    .dataframe tbody tr th {\n",
              "        vertical-align: top;\n",
              "    }\n",
              "\n",
              "    .dataframe thead th {\n",
              "        text-align: right;\n",
              "    }\n",
              "</style>\n",
              "<table border=\"1\" class=\"dataframe\">\n",
              "  <thead>\n",
              "    <tr style=\"text-align: right;\">\n",
              "      <th></th>\n",
              "      <th>HOLD</th>\n",
              "      <th>BUY</th>\n",
              "      <th>SELL</th>\n",
              "      <th>Close</th>\n",
              "      <th>SIGNAL</th>\n",
              "    </tr>\n",
              "    <tr>\n",
              "      <th>Date</th>\n",
              "      <th></th>\n",
              "      <th></th>\n",
              "      <th></th>\n",
              "      <th></th>\n",
              "      <th></th>\n",
              "    </tr>\n",
              "  </thead>\n",
              "  <tbody>\n",
              "    <tr>\n",
              "      <th>2019-08-29</th>\n",
              "      <td>0.007737</td>\n",
              "      <td>0.991553</td>\n",
              "      <td>0.000709</td>\n",
              "      <td>10462.429688</td>\n",
              "      <td>1.0</td>\n",
              "    </tr>\n",
              "    <tr>\n",
              "      <th>2019-08-30</th>\n",
              "      <td>0.250865</td>\n",
              "      <td>0.733577</td>\n",
              "      <td>0.015557</td>\n",
              "      <td>10618.049805</td>\n",
              "      <td>1.0</td>\n",
              "    </tr>\n",
              "    <tr>\n",
              "      <th>2019-09-02</th>\n",
              "      <td>0.423921</td>\n",
              "      <td>0.541513</td>\n",
              "      <td>0.034566</td>\n",
              "      <td>10634.849609</td>\n",
              "      <td>1.0</td>\n",
              "    </tr>\n",
              "    <tr>\n",
              "      <th>2019-09-03</th>\n",
              "      <td>0.041368</td>\n",
              "      <td>0.950431</td>\n",
              "      <td>0.008200</td>\n",
              "      <td>10558.209961</td>\n",
              "      <td>1.0</td>\n",
              "    </tr>\n",
              "    <tr>\n",
              "      <th>2019-09-04</th>\n",
              "      <td>0.131676</td>\n",
              "      <td>0.859860</td>\n",
              "      <td>0.008464</td>\n",
              "      <td>10657.309570</td>\n",
              "      <td>1.0</td>\n",
              "    </tr>\n",
              "    <tr>\n",
              "      <th>2019-09-05</th>\n",
              "      <td>0.890916</td>\n",
              "      <td>0.061032</td>\n",
              "      <td>0.048053</td>\n",
              "      <td>10756.929688</td>\n",
              "      <td>1.0</td>\n",
              "    </tr>\n",
              "    <tr>\n",
              "      <th>2019-09-06</th>\n",
              "      <td>0.963897</td>\n",
              "      <td>0.011778</td>\n",
              "      <td>0.024326</td>\n",
              "      <td>10780.639648</td>\n",
              "      <td>1.0</td>\n",
              "    </tr>\n",
              "    <tr>\n",
              "      <th>2019-09-10</th>\n",
              "      <td>0.949469</td>\n",
              "      <td>0.015005</td>\n",
              "      <td>0.035526</td>\n",
              "      <td>10753.580078</td>\n",
              "      <td>1.0</td>\n",
              "    </tr>\n",
              "    <tr>\n",
              "      <th>2019-09-11</th>\n",
              "      <td>0.920557</td>\n",
              "      <td>0.011832</td>\n",
              "      <td>0.067611</td>\n",
              "      <td>10790.349609</td>\n",
              "      <td>1.0</td>\n",
              "    </tr>\n",
              "    <tr>\n",
              "      <th>2019-09-12</th>\n",
              "      <td>0.928859</td>\n",
              "      <td>0.009074</td>\n",
              "      <td>0.062067</td>\n",
              "      <td>10827.549805</td>\n",
              "      <td>1.0</td>\n",
              "    </tr>\n",
              "  </tbody>\n",
              "</table>\n",
              "</div>"
            ],
            "text/plain": [
              "                HOLD       BUY      SELL         Close  SIGNAL\n",
              "Date                                                          \n",
              "2019-08-29  0.007737  0.991553  0.000709  10462.429688     1.0\n",
              "2019-08-30  0.250865  0.733577  0.015557  10618.049805     1.0\n",
              "2019-09-02  0.423921  0.541513  0.034566  10634.849609     1.0\n",
              "2019-09-03  0.041368  0.950431  0.008200  10558.209961     1.0\n",
              "2019-09-04  0.131676  0.859860  0.008464  10657.309570     1.0\n",
              "2019-09-05  0.890916  0.061032  0.048053  10756.929688     1.0\n",
              "2019-09-06  0.963897  0.011778  0.024326  10780.639648     1.0\n",
              "2019-09-10  0.949469  0.015005  0.035526  10753.580078     1.0\n",
              "2019-09-11  0.920557  0.011832  0.067611  10790.349609     1.0\n",
              "2019-09-12  0.928859  0.009074  0.062067  10827.549805     1.0"
            ]
          },
          "metadata": {
            "tags": []
          },
          "execution_count": 20
        }
      ]
    },
    {
      "cell_type": "markdown",
      "metadata": {
        "id": "08AYJvIf_ehK",
        "colab_type": "text"
      },
      "source": [
        "# 近一年持有狀況"
      ]
    },
    {
      "cell_type": "code",
      "metadata": {
        "id": "CoADH8LW8tu2",
        "colab_type": "code",
        "colab": {
          "base_uri": "https://localhost:8080/",
          "height": 281
        },
        "outputId": "6545287e-1df2-4811-f3b9-03b13eec94dd"
      },
      "source": [
        "t = df_fill[-250:].copy()\n",
        "\n",
        "buy = t[t['SIGNAL']==1]['Close']\n",
        "sell = t[t['SIGNAL']==2]['Close']\n",
        "\n",
        "t['Close'].plot()\n",
        "plt.scatter(list(buy.index),list(buy.values),color='red',marker='^')\n",
        "#plt.scatter(list(sell.index),list(sell.values),color='black')\n",
        "plt.show()"
      ],
      "execution_count": 21,
      "outputs": [
        {
          "output_type": "display_data",
          "data": {
            "image/png": "[encoded data removed]",
            "text/plain": [
              "<Figure size 432x288 with 1 Axes>"
            ]
          },
          "metadata": {
            "tags": []
          }
        }
      ]
    },
    {
      "cell_type": "markdown",
      "metadata": {
        "id": "1MR2SaEW_1S_",
        "colab_type": "text"
      },
      "source": [
        "# 近一年報酬"
      ]
    },
    {
      "cell_type": "code",
      "metadata": {
        "id": "6BUlkAwY8xMt",
        "colab_type": "code",
        "colab": {
          "base_uri": "https://localhost:8080/",
          "height": 298
        },
        "outputId": "5cbebd9f-3f89-47ea-de14-7d63376aea07"
      },
      "source": [
        "c = t['Close'].copy()\n",
        "signal = (t['SIGNAL'] == 1)\n",
        "\n",
        "(c.shift(-1) / c)[signal].cumprod().plot(color='red')\n",
        "(c.shift(-1) / c).cumprod().plot(color='blue')"
      ],
      "execution_count": 22,
      "outputs": [
        {
          "output_type": "execute_result",
          "data": {
            "text/plain": [
              "<matplotlib.axes._subplots.AxesSubplot at 0x7fd6611eec18>"
            ]
          },
          "metadata": {
            "tags": []
          },
          "execution_count": 22
        },
        {
          "output_type": "display_data",
          "data": {
            "image/png": "[encoded data removed]",
            "text/plain": [
              "<Figure size 432x288 with 1 Axes>"
            ]
          },
          "metadata": {
            "tags": []
          }
        }
      ]
    },
    {
      "cell_type": "markdown",
      "metadata": {
        "id": "DGNZXEQtBLDe",
        "colab_type": "text"
      },
      "source": [
        "# 近5年報酬"
      ]
    },
    {
      "cell_type": "code",
      "metadata": {
        "id": "CjR4UNrd9tR5",
        "colab_type": "code",
        "colab": {
          "base_uri": "https://localhost:8080/",
          "height": 290
        },
        "outputId": "ddd19030-17b3-45f8-9e4b-0702f9f069a4"
      },
      "source": [
        "t = df_fill[-1250:].copy()#5年\n",
        "c = t['Close'].copy()#收盤價\n",
        "signal = (t['SIGNAL'] == 1)#信號\n",
        "\n",
        "(c.shift(-1) / c)[signal].cumprod().plot(color='red')\n",
        "(c.shift(-1) / c).cumprod().plot(color='blue')"
      ],
      "execution_count": 23,
      "outputs": [
        {
          "output_type": "execute_result",
          "data": {
            "text/plain": [
              "<matplotlib.axes._subplots.AxesSubplot at 0x7fd65f1518d0>"
            ]
          },
          "metadata": {
            "tags": []
          },
          "execution_count": 23
        },
        {
          "output_type": "display_data",
          "data": {
            "image/png": "[encoded data removed]",
            "text/plain": [
              "<Figure size 432x288 with 1 Axes>"
            ]
          },
          "metadata": {
            "tags": []
          }
        }
      ]
    },
    {
      "cell_type": "code",
      "metadata": {
        "id": "Ba6PWV1sBcsb",
        "colab_type": "code",
        "colab": {}
      },
      "source": [
        ""
      ],
      "execution_count": 0,
      "outputs": []
    }
  ]
}