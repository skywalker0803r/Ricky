{
  "nbformat": 4,
  "nbformat_minor": 0,
  "metadata": {
    "colab": {
      "name": "CNN_stock_backtesting.ipynb",
      "version": "0.3.2",
      "provenance": [],
      "collapsed_sections": [],
      "include_colab_link": true
    },
    "kernelspec": {
      "name": "python3",
      "display_name": "Python 3"
    }
  },
  "cells": [
    {
      "cell_type": "markdown",
      "metadata": {
        "id": "view-in-github",
        "colab_type": "text"
      },
      "source": [
        "<a href=\"https://colab.research.google.com/github/skywalker0803r/Ricky/blob/master/CNN_stock_backtesting.ipynb\" target=\"_parent\"><img src=\"https://colab.research.google.com/assets/colab-badge.svg\" alt=\"Open In Colab\"/></a>"
      ]
    },
    {
      "cell_type": "markdown",
      "metadata": {
        "id": "0j0w5XlE6t89",
        "colab_type": "text"
      },
      "source": [
        "# Agent"
      ]
    },
    {
      "cell_type": "code",
      "metadata": {
        "id": "O90FOBYiJg7t",
        "colab_type": "code",
        "outputId": "4e017e4a-4345-4bc0-a711-188d3ebdeb89",
        "colab": {
          "base_uri": "https://localhost:8080/",
          "height": 35
        }
      },
      "source": [
        "from google.colab import drive\n",
        "drive.mount('/content/drive')"
      ],
      "execution_count": 1,
      "outputs": [
        {
          "output_type": "stream",
          "text": [
            "Drive already mounted at /content/drive; to attempt to forcibly remount, call drive.mount(\"/content/drive\", force_remount=True).\n"
          ],
          "name": "stdout"
        }
      ]
    },
    {
      "cell_type": "code",
      "metadata": {
        "id": "gXhw8JpJIhSF",
        "colab_type": "code",
        "outputId": "6d7df89e-dddc-442f-cd42-2822c6d6d3b1",
        "colab": {
          "base_uri": "https://localhost:8080/",
          "height": 405
        }
      },
      "source": [
        "from keras.models import Model\n",
        "from keras.layers import Input, Dense\n",
        "import matplotlib.pyplot as plt\n",
        "from keras.models import load_model\n",
        "\n",
        "model = load_model('/content/drive/My Drive/CNN_stock_model/Rikcy_net.h5')\n",
        "\n",
        "class Agent:\n",
        "  #初始化神經網路大腦\n",
        "  def __init__(self,model):\n",
        "    self.model = model\n",
        "  #選擇動作\n",
        "  def choose_action(self,features):\n",
        "    return self.model.predict(features)"
      ],
      "execution_count": 2,
      "outputs": [
        {
          "output_type": "stream",
          "text": [
            "Using TensorFlow backend.\n"
          ],
          "name": "stderr"
        },
        {
          "output_type": "stream",
          "text": [
            "WARNING:tensorflow:From /usr/local/lib/python3.6/dist-packages/keras/backend/tensorflow_backend.py:541: The name tf.placeholder is deprecated. Please use tf.compat.v1.placeholder instead.\n",
            "\n",
            "WARNING:tensorflow:From /usr/local/lib/python3.6/dist-packages/keras/backend/tensorflow_backend.py:4432: The name tf.random_uniform is deprecated. Please use tf.random.uniform instead.\n",
            "\n",
            "WARNING:tensorflow:From /usr/local/lib/python3.6/dist-packages/keras/backend/tensorflow_backend.py:4267: The name tf.nn.max_pool is deprecated. Please use tf.nn.max_pool2d instead.\n",
            "\n",
            "WARNING:tensorflow:From /usr/local/lib/python3.6/dist-packages/keras/backend/tensorflow_backend.py:66: The name tf.get_default_graph is deprecated. Please use tf.compat.v1.get_default_graph instead.\n",
            "\n",
            "WARNING:tensorflow:From /usr/local/lib/python3.6/dist-packages/keras/backend/tensorflow_backend.py:148: The name tf.placeholder_with_default is deprecated. Please use tf.compat.v1.placeholder_with_default instead.\n",
            "\n",
            "WARNING:tensorflow:From /usr/local/lib/python3.6/dist-packages/keras/backend/tensorflow_backend.py:3733: calling dropout (from tensorflow.python.ops.nn_ops) with keep_prob is deprecated and will be removed in a future version.\n",
            "Instructions for updating:\n",
            "Please use `rate` instead of `keep_prob`. Rate should be set to `rate = 1 - keep_prob`.\n",
            "WARNING:tensorflow:From /usr/local/lib/python3.6/dist-packages/keras/backend/tensorflow_backend.py:190: The name tf.get_default_session is deprecated. Please use tf.compat.v1.get_default_session instead.\n",
            "\n",
            "WARNING:tensorflow:From /usr/local/lib/python3.6/dist-packages/keras/optimizers.py:793: The name tf.train.Optimizer is deprecated. Please use tf.compat.v1.train.Optimizer instead.\n",
            "\n",
            "WARNING:tensorflow:From /usr/local/lib/python3.6/dist-packages/tensorflow/python/ops/math_grad.py:1250: add_dispatch_support.<locals>.wrapper (from tensorflow.python.ops.array_ops) is deprecated and will be removed in a future version.\n",
            "Instructions for updating:\n",
            "Use tf.where in 2.0, which has the same broadcast rule as np.where\n"
          ],
          "name": "stdout"
        }
      ]
    },
    {
      "cell_type": "code",
      "metadata": {
        "id": "IIjnQQinGapt",
        "colab_type": "code",
        "colab": {}
      },
      "source": [
        "Ricky = Agent(model)"
      ],
      "execution_count": 0,
      "outputs": []
    },
    {
      "cell_type": "markdown",
      "metadata": {
        "id": "1X0CuP2iLPjA",
        "colab_type": "text"
      },
      "source": [
        "# 準備features(15X15X1的圖片)"
      ]
    },
    {
      "cell_type": "code",
      "metadata": {
        "id": "BGvnJ-CjKuX_",
        "colab_type": "code",
        "colab": {}
      },
      "source": [
        "#!pip install finta\n",
        "import pandas as pd\n",
        "import seaborn as sns\n",
        "import pandas_datareader.data as web\n",
        "SID = '^TWII'\n",
        "df = web.DataReader(SID,'yahoo',start=\"1980-01-01\")#,end=\"2019-09-10\")\n",
        "df = df.iloc[:,:5]"
      ],
      "execution_count": 0,
      "outputs": []
    },
    {
      "cell_type": "code",
      "metadata": {
        "id": "uGzIVk8TLTpz",
        "colab_type": "code",
        "colab": {}
      },
      "source": [
        "from finta import TA\n",
        "ohlcv = df[['Open','High','Low','Close','Volume']]\n",
        "ohlcv.columns = ['open','high','low','close','volume']"
      ],
      "execution_count": 0,
      "outputs": []
    },
    {
      "cell_type": "code",
      "metadata": {
        "id": "Zmw9y7XJLhEE",
        "colab_type": "code",
        "outputId": "1a205170-b536-4de1-c2f7-596a7ed1e25e",
        "colab": {
          "base_uri": "https://localhost:8080/",
          "height": 597
        }
      },
      "source": [
        "df['RSI'] = TA.RSI(ohlcv)\n",
        "df['Williams %R'] = TA.WILLIAMS(ohlcv)\n",
        "df['SMA'] = TA.SMA(ohlcv)\n",
        "df['EMA'] = TA.EMA(ohlcv)\n",
        "df['WMA'] = TA.WMA(ohlcv)\n",
        "df['HMA'] = TA.HMA(ohlcv)\n",
        "df['TEMA'] = TA.TEMA(ohlcv)\n",
        "df['CCI'] = TA.CCI(ohlcv)\n",
        "df['CMO'] = TA.CMO(ohlcv)\n",
        "df['MACD'] = TA.MACD(ohlcv)['MACD'] - TA.MACD(ohlcv)['SIGNAL']\n",
        "df['PPO'] = TA.PPO(ohlcv)['PPO'] - TA.PPO(ohlcv)['SIGNAL']\n",
        "df['ROC'] = TA.ROC(ohlcv)\n",
        "df['CFI'] = TA.CFI(ohlcv)\n",
        "df['DMI'] = TA.DMI(ohlcv)['DI+'] - TA.DMI(ohlcv)['DI-']\n",
        "df['SAR'] = TA.SAR(ohlcv)"
      ],
      "execution_count": 6,
      "outputs": [
        {
          "output_type": "stream",
          "text": [
            "/usr/local/lib/python3.6/dist-packages/finta/finta.py:263: FutureWarning: Currently, 'apply' passes the values as ndarrays to the applied function. In the future, this will change to passing it as Series objects. You need to specify 'raw=True' to keep the current behaviour, and you can pass 'raw=False' to silence this warning\n",
            "  wma = close_.apply(linear(weights))\n",
            "/usr/local/lib/python3.6/dist-packages/finta/finta.py:285: SettingWithCopyWarning: \n",
            "A value is trying to be set on a copy of a slice from a DataFrame.\n",
            "Try using .loc[row_indexer,col_indexer] = value instead\n",
            "\n",
            "See the caveats in the documentation: http://pandas.pydata.org/pandas-docs/stable/indexing.html#indexing-view-versus-copy\n",
            "  ohlc['deltawma'] = 2 * wmaf - wmas\n",
            "/usr/local/lib/python3.6/dist-packages/finta/finta.py:792: SettingWithCopyWarning: \n",
            "A value is trying to be set on a copy of a slice from a DataFrame.\n",
            "Try using .loc[row_indexer,col_indexer] = value instead\n",
            "\n",
            "See the caveats in the documentation: http://pandas.pydata.org/pandas-docs/stable/indexing.html#indexing-view-versus-copy\n",
            "  ohlc[\"up_move\"] = ohlc[\"high\"].diff()\n",
            "/usr/local/lib/python3.6/dist-packages/finta/finta.py:793: SettingWithCopyWarning: \n",
            "A value is trying to be set on a copy of a slice from a DataFrame.\n",
            "Try using .loc[row_indexer,col_indexer] = value instead\n",
            "\n",
            "See the caveats in the documentation: http://pandas.pydata.org/pandas-docs/stable/indexing.html#indexing-view-versus-copy\n",
            "  ohlc[\"down_move\"] = -ohlc[\"low\"].diff()\n",
            "/usr/local/lib/python3.6/dist-packages/finta/finta.py:809: SettingWithCopyWarning: \n",
            "A value is trying to be set on a copy of a slice from a DataFrame.\n",
            "Try using .loc[row_indexer,col_indexer] = value instead\n",
            "\n",
            "See the caveats in the documentation: http://pandas.pydata.org/pandas-docs/stable/indexing.html#indexing-view-versus-copy\n",
            "  ohlc[\"DMp\"] = DMp\n",
            "/usr/local/lib/python3.6/dist-packages/finta/finta.py:810: SettingWithCopyWarning: \n",
            "A value is trying to be set on a copy of a slice from a DataFrame.\n",
            "Try using .loc[row_indexer,col_indexer] = value instead\n",
            "\n",
            "See the caveats in the documentation: http://pandas.pydata.org/pandas-docs/stable/indexing.html#indexing-view-versus-copy\n",
            "  ohlc[\"DMm\"] = DMm\n"
          ],
          "name": "stderr"
        }
      ]
    },
    {
      "cell_type": "code",
      "metadata": {
        "id": "PKdUIMe4MJSv",
        "colab_type": "code",
        "outputId": "c0ba514c-60f3-45c4-809b-98b8afc31538",
        "colab": {
          "base_uri": "https://localhost:8080/",
          "height": 386
        }
      },
      "source": [
        "print(df.shape)\n",
        "\n",
        "df = df.dropna(axis=0)#刪除有缺失的row,會缺失主要因為用時間rolling計算技術指標導致,正常的\n",
        "features = df.columns[-15:].tolist() #取15個剛剛建立的技術指標當特徵\n",
        "df = df[features]#重新定義df\n",
        "\n",
        "print(df.shape)\n",
        "df.tail()"
      ],
      "execution_count": 7,
      "outputs": [
        {
          "output_type": "stream",
          "text": [
            "(5458, 20)\n",
            "(5375, 15)\n"
          ],
          "name": "stdout"
        },
        {
          "output_type": "execute_result",
          "data": {
            "text/html": [
              "<div>\n",
              "<style scoped>\n",
              "    .dataframe tbody tr th:only-of-type {\n",
              "        vertical-align: middle;\n",
              "    }\n",
              "\n",
              "    .dataframe tbody tr th {\n",
              "        vertical-align: top;\n",
              "    }\n",
              "\n",
              "    .dataframe thead th {\n",
              "        text-align: right;\n",
              "    }\n",
              "</style>\n",
              "<table border=\"1\" class=\"dataframe\">\n",
              "  <thead>\n",
              "    <tr style=\"text-align: right;\">\n",
              "      <th></th>\n",
              "      <th>RSI</th>\n",
              "      <th>Williams %R</th>\n",
              "      <th>SMA</th>\n",
              "      <th>EMA</th>\n",
              "      <th>WMA</th>\n",
              "      <th>HMA</th>\n",
              "      <th>TEMA</th>\n",
              "      <th>CCI</th>\n",
              "      <th>CMO</th>\n",
              "      <th>MACD</th>\n",
              "      <th>PPO</th>\n",
              "      <th>ROC</th>\n",
              "      <th>CFI</th>\n",
              "      <th>DMI</th>\n",
              "      <th>SAR</th>\n",
              "    </tr>\n",
              "    <tr>\n",
              "      <th>Date</th>\n",
              "      <th></th>\n",
              "      <th></th>\n",
              "      <th></th>\n",
              "      <th></th>\n",
              "      <th></th>\n",
              "      <th></th>\n",
              "      <th></th>\n",
              "      <th></th>\n",
              "      <th></th>\n",
              "      <th></th>\n",
              "      <th></th>\n",
              "      <th></th>\n",
              "      <th></th>\n",
              "      <th></th>\n",
              "      <th></th>\n",
              "    </tr>\n",
              "  </thead>\n",
              "  <tbody>\n",
              "    <tr>\n",
              "      <th>2019-09-05</th>\n",
              "      <td>70.330664</td>\n",
              "      <td>-2.267544</td>\n",
              "      <td>10643.664920</td>\n",
              "      <td>10592.308928</td>\n",
              "      <td>10477.320247</td>\n",
              "      <td>10628.557715</td>\n",
              "      <td>10715.406837</td>\n",
              "      <td>162.484886</td>\n",
              "      <td>29.603035</td>\n",
              "      <td>40.576767</td>\n",
              "      <td>0.384245</td>\n",
              "      <td>2.227890</td>\n",
              "      <td>3.291572e+12</td>\n",
              "      <td>19.338268</td>\n",
              "      <td>10442.728186</td>\n",
              "    </tr>\n",
              "    <tr>\n",
              "      <th>2019-09-06</th>\n",
              "      <td>71.761526</td>\n",
              "      <td>-4.845474</td>\n",
              "      <td>10643.229778</td>\n",
              "      <td>10629.975072</td>\n",
              "      <td>10523.960373</td>\n",
              "      <td>10649.926758</td>\n",
              "      <td>10771.700236</td>\n",
              "      <td>148.438306</td>\n",
              "      <td>73.542822</td>\n",
              "      <td>45.547828</td>\n",
              "      <td>0.430984</td>\n",
              "      <td>2.421097</td>\n",
              "      <td>3.386218e+12</td>\n",
              "      <td>21.718306</td>\n",
              "      <td>10494.547614</td>\n",
              "    </tr>\n",
              "    <tr>\n",
              "      <th>2019-09-10</th>\n",
              "      <td>67.476249</td>\n",
              "      <td>-12.013750</td>\n",
              "      <td>10641.038562</td>\n",
              "      <td>10654.696074</td>\n",
              "      <td>10572.209570</td>\n",
              "      <td>10721.488672</td>\n",
              "      <td>10790.059251</td>\n",
              "      <td>120.498567</td>\n",
              "      <td>63.852001</td>\n",
              "      <td>44.792827</td>\n",
              "      <td>0.423447</td>\n",
              "      <td>2.125399</td>\n",
              "      <td>3.452463e+12</td>\n",
              "      <td>15.981934</td>\n",
              "      <td>10550.081700</td>\n",
              "    </tr>\n",
              "    <tr>\n",
              "      <th>2019-09-11</th>\n",
              "      <td>70.260662</td>\n",
              "      <td>-5.308822</td>\n",
              "      <td>10640.209294</td>\n",
              "      <td>10681.826781</td>\n",
              "      <td>10618.959288</td>\n",
              "      <td>10766.714746</td>\n",
              "      <td>10815.129097</td>\n",
              "      <td>113.508980</td>\n",
              "      <td>63.191856</td>\n",
              "      <td>44.459751</td>\n",
              "      <td>0.419735</td>\n",
              "      <td>2.393591</td>\n",
              "      <td>3.521049e+12</td>\n",
              "      <td>14.624074</td>\n",
              "      <td>10602.071414</td>\n",
              "    </tr>\n",
              "    <tr>\n",
              "      <th>2019-09-12</th>\n",
              "      <td>72.302513</td>\n",
              "      <td>-8.590839</td>\n",
              "      <td>10638.779059</td>\n",
              "      <td>10709.019432</td>\n",
              "      <td>10667.977973</td>\n",
              "      <td>10778.178809</td>\n",
              "      <td>10840.100818</td>\n",
              "      <td>115.951823</td>\n",
              "      <td>63.146122</td>\n",
              "      <td>43.711896</td>\n",
              "      <td>0.411985</td>\n",
              "      <td>4.473577</td>\n",
              "      <td>3.577165e+12</td>\n",
              "      <td>19.323585</td>\n",
              "      <td>10644.775100</td>\n",
              "    </tr>\n",
              "  </tbody>\n",
              "</table>\n",
              "</div>"
            ],
            "text/plain": [
              "                  RSI  Williams %R  ...        DMI           SAR\n",
              "Date                                ...                         \n",
              "2019-09-05  70.330664    -2.267544  ...  19.338268  10442.728186\n",
              "2019-09-06  71.761526    -4.845474  ...  21.718306  10494.547614\n",
              "2019-09-10  67.476249   -12.013750  ...  15.981934  10550.081700\n",
              "2019-09-11  70.260662    -5.308822  ...  14.624074  10602.071414\n",
              "2019-09-12  72.302513    -8.590839  ...  19.323585  10644.775100\n",
              "\n",
              "[5 rows x 15 columns]"
            ]
          },
          "metadata": {
            "tags": []
          },
          "execution_count": 7
        }
      ]
    },
    {
      "cell_type": "markdown",
      "metadata": {
        "id": "hqptCYzZMf5O",
        "colab_type": "text"
      },
      "source": [
        "# features scaling"
      ]
    },
    {
      "cell_type": "code",
      "metadata": {
        "id": "QiK6_Lc1MNv1",
        "colab_type": "code",
        "outputId": "309dbb27-aba2-43d2-f8d1-d562174d160c",
        "colab": {
          "base_uri": "https://localhost:8080/",
          "height": 246
        }
      },
      "source": [
        "from sklearn.preprocessing import MinMaxScaler\n",
        "\n",
        "min_max_scaler = MinMaxScaler()\n",
        "\n",
        "df_minmax = min_max_scaler.fit_transform(df)#縮放到0-1之間\n",
        "df_minmax = pd.DataFrame(df_minmax,\n",
        "                         index = df.index,\n",
        "                         columns = df.columns)#轉回dataframe格式\n",
        "df_minmax.tail()"
      ],
      "execution_count": 8,
      "outputs": [
        {
          "output_type": "execute_result",
          "data": {
            "text/html": [
              "<div>\n",
              "<style scoped>\n",
              "    .dataframe tbody tr th:only-of-type {\n",
              "        vertical-align: middle;\n",
              "    }\n",
              "\n",
              "    .dataframe tbody tr th {\n",
              "        vertical-align: top;\n",
              "    }\n",
              "\n",
              "    .dataframe thead th {\n",
              "        text-align: right;\n",
              "    }\n",
              "</style>\n",
              "<table border=\"1\" class=\"dataframe\">\n",
              "  <thead>\n",
              "    <tr style=\"text-align: right;\">\n",
              "      <th></th>\n",
              "      <th>RSI</th>\n",
              "      <th>Williams %R</th>\n",
              "      <th>SMA</th>\n",
              "      <th>EMA</th>\n",
              "      <th>WMA</th>\n",
              "      <th>HMA</th>\n",
              "      <th>TEMA</th>\n",
              "      <th>CCI</th>\n",
              "      <th>CMO</th>\n",
              "      <th>MACD</th>\n",
              "      <th>PPO</th>\n",
              "      <th>ROC</th>\n",
              "      <th>CFI</th>\n",
              "      <th>DMI</th>\n",
              "      <th>SAR</th>\n",
              "    </tr>\n",
              "    <tr>\n",
              "      <th>Date</th>\n",
              "      <th></th>\n",
              "      <th></th>\n",
              "      <th></th>\n",
              "      <th></th>\n",
              "      <th></th>\n",
              "      <th></th>\n",
              "      <th></th>\n",
              "      <th></th>\n",
              "      <th></th>\n",
              "      <th></th>\n",
              "      <th></th>\n",
              "      <th></th>\n",
              "      <th></th>\n",
              "      <th></th>\n",
              "      <th></th>\n",
              "    </tr>\n",
              "  </thead>\n",
              "  <tbody>\n",
              "    <tr>\n",
              "      <th>2019-09-05</th>\n",
              "      <td>0.742331</td>\n",
              "      <td>0.977325</td>\n",
              "      <td>0.960725</td>\n",
              "      <td>0.928341</td>\n",
              "      <td>0.907180</td>\n",
              "      <td>0.924040</td>\n",
              "      <td>0.931498</td>\n",
              "      <td>0.837743</td>\n",
              "      <td>0.648015</td>\n",
              "      <td>0.687102</td>\n",
              "      <td>0.594980</td>\n",
              "      <td>0.527453</td>\n",
              "      <td>0.791416</td>\n",
              "      <td>0.577764</td>\n",
              "      <td>0.894706</td>\n",
              "    </tr>\n",
              "    <tr>\n",
              "      <th>2019-09-06</th>\n",
              "      <td>0.758492</td>\n",
              "      <td>0.951545</td>\n",
              "      <td>0.960663</td>\n",
              "      <td>0.933321</td>\n",
              "      <td>0.913285</td>\n",
              "      <td>0.926805</td>\n",
              "      <td>0.938713</td>\n",
              "      <td>0.808756</td>\n",
              "      <td>0.867714</td>\n",
              "      <td>0.704444</td>\n",
              "      <td>0.607020</td>\n",
              "      <td>0.531773</td>\n",
              "      <td>0.814172</td>\n",
              "      <td>0.586088</td>\n",
              "      <td>0.901300</td>\n",
              "    </tr>\n",
              "    <tr>\n",
              "      <th>2019-09-10</th>\n",
              "      <td>0.710091</td>\n",
              "      <td>0.879862</td>\n",
              "      <td>0.960355</td>\n",
              "      <td>0.936590</td>\n",
              "      <td>0.919601</td>\n",
              "      <td>0.936066</td>\n",
              "      <td>0.941066</td>\n",
              "      <td>0.751099</td>\n",
              "      <td>0.819260</td>\n",
              "      <td>0.701810</td>\n",
              "      <td>0.605078</td>\n",
              "      <td>0.525162</td>\n",
              "      <td>0.830100</td>\n",
              "      <td>0.566026</td>\n",
              "      <td>0.908367</td>\n",
              "    </tr>\n",
              "    <tr>\n",
              "      <th>2019-09-11</th>\n",
              "      <td>0.741540</td>\n",
              "      <td>0.946912</td>\n",
              "      <td>0.960238</td>\n",
              "      <td>0.940177</td>\n",
              "      <td>0.925720</td>\n",
              "      <td>0.941918</td>\n",
              "      <td>0.944279</td>\n",
              "      <td>0.736675</td>\n",
              "      <td>0.815959</td>\n",
              "      <td>0.700648</td>\n",
              "      <td>0.604122</td>\n",
              "      <td>0.531158</td>\n",
              "      <td>0.846590</td>\n",
              "      <td>0.561277</td>\n",
              "      <td>0.914983</td>\n",
              "    </tr>\n",
              "    <tr>\n",
              "      <th>2019-09-12</th>\n",
              "      <td>0.764602</td>\n",
              "      <td>0.914092</td>\n",
              "      <td>0.960037</td>\n",
              "      <td>0.943772</td>\n",
              "      <td>0.932136</td>\n",
              "      <td>0.943402</td>\n",
              "      <td>0.947480</td>\n",
              "      <td>0.741716</td>\n",
              "      <td>0.815731</td>\n",
              "      <td>0.698039</td>\n",
              "      <td>0.602126</td>\n",
              "      <td>0.577660</td>\n",
              "      <td>0.860083</td>\n",
              "      <td>0.577713</td>\n",
              "      <td>0.920417</td>\n",
              "    </tr>\n",
              "  </tbody>\n",
              "</table>\n",
              "</div>"
            ],
            "text/plain": [
              "                 RSI  Williams %R       SMA  ...       CFI       DMI       SAR\n",
              "Date                                         ...                              \n",
              "2019-09-05  0.742331     0.977325  0.960725  ...  0.791416  0.577764  0.894706\n",
              "2019-09-06  0.758492     0.951545  0.960663  ...  0.814172  0.586088  0.901300\n",
              "2019-09-10  0.710091     0.879862  0.960355  ...  0.830100  0.566026  0.908367\n",
              "2019-09-11  0.741540     0.946912  0.960238  ...  0.846590  0.561277  0.914983\n",
              "2019-09-12  0.764602     0.914092  0.960037  ...  0.860083  0.577713  0.920417\n",
              "\n",
              "[5 rows x 15 columns]"
            ]
          },
          "metadata": {
            "tags": []
          },
          "execution_count": 8
        }
      ]
    },
    {
      "cell_type": "code",
      "metadata": {
        "id": "z-PhD2biMqYj",
        "colab_type": "code",
        "outputId": "1cea166a-9d0b-4ae6-accb-f9df1d9d94ed",
        "colab": {
          "base_uri": "https://localhost:8080/",
          "height": 35
        }
      },
      "source": [
        "df = df_minmax\n",
        "print('特徵縮放完成!')"
      ],
      "execution_count": 9,
      "outputs": [
        {
          "output_type": "stream",
          "text": [
            "特徵縮放完成!\n"
          ],
          "name": "stdout"
        }
      ]
    },
    {
      "cell_type": "markdown",
      "metadata": {
        "id": "eMHbuSeOMzFx",
        "colab_type": "text"
      },
      "source": [
        "# Xs prepare"
      ]
    },
    {
      "cell_type": "code",
      "metadata": {
        "id": "e2jdrTPqMwzw",
        "colab_type": "code",
        "outputId": "596ae990-ff3d-4d25-b4dc-fc984e7d05e4",
        "colab": {
          "base_uri": "https://localhost:8080/",
          "height": 52
        }
      },
      "source": [
        "from tqdm import tqdm\n",
        "import numpy as np\n",
        "\n",
        "#定義觀察天數,起始index(0),結束index(資料筆數-觀察天數)\n",
        "days = 15\n",
        "b_index = 0\n",
        "f_index = len(df)-days\n",
        "\n",
        "#待存放序列\n",
        "Xs = []\n",
        "\n",
        "'''\n",
        "若資料筆數100,days=15天,f_index=85,i只會跑到84,i+days=99,features只會跑到98天.\n",
        "若資料筆數100,days=15天,f_index=85+1,i會跑到85,i+days=100,features會跑到99天.\n",
        "'''\n",
        "for i in tqdm(range(b_index ,f_index+1 ,1)):#每次i都會遞增1\n",
        "  X = df.iloc[i:i+days,:][features] #ex:0...14(不含15)之features\n",
        "  X = np.array(X) # to np_array\n",
        "  Xs.append(X) #加入一筆X\n",
        "#轉換成np_array\n",
        "Xs = np.array(Xs)\n",
        "print('準備完成')"
      ],
      "execution_count": 10,
      "outputs": [
        {
          "output_type": "stream",
          "text": [
            "100%|██████████| 5361/5361 [00:06<00:00, 822.93it/s]"
          ],
          "name": "stderr"
        },
        {
          "output_type": "stream",
          "text": [
            "準備完成\n"
          ],
          "name": "stdout"
        },
        {
          "output_type": "stream",
          "text": [
            "\n"
          ],
          "name": "stderr"
        }
      ]
    },
    {
      "cell_type": "code",
      "metadata": {
        "id": "sQmO7cNGMtxk",
        "colab_type": "code",
        "outputId": "b567dee6-1263-456b-82d4-09a6d2a56f93",
        "colab": {
          "base_uri": "https://localhost:8080/",
          "height": 35
        }
      },
      "source": [
        "Xs.shape"
      ],
      "execution_count": 11,
      "outputs": [
        {
          "output_type": "execute_result",
          "data": {
            "text/plain": [
              "(5361, 15, 15)"
            ]
          },
          "metadata": {
            "tags": []
          },
          "execution_count": 11
        }
      ]
    },
    {
      "cell_type": "markdown",
      "metadata": {
        "id": "fhI3ZIYCNN_Z",
        "colab_type": "text"
      },
      "source": [
        "# Reshape X"
      ]
    },
    {
      "cell_type": "code",
      "metadata": {
        "id": "zmadSg2KNKv_",
        "colab_type": "code",
        "outputId": "ba6015d1-808a-42b8-a453-3c7efac79d2e",
        "colab": {
          "base_uri": "https://localhost:8080/",
          "height": 35
        }
      },
      "source": [
        "Xs = Xs.reshape(-1,days,len(features),1)\n",
        "print(Xs.shape)"
      ],
      "execution_count": 12,
      "outputs": [
        {
          "output_type": "stream",
          "text": [
            "(5361, 15, 15, 1)\n"
          ],
          "name": "stdout"
        }
      ]
    },
    {
      "cell_type": "markdown",
      "metadata": {
        "id": "riuYaAxhNUum",
        "colab_type": "text"
      },
      "source": [
        "# Visualization"
      ]
    },
    {
      "cell_type": "code",
      "metadata": {
        "id": "9o3Ej23VNSfc",
        "colab_type": "code",
        "outputId": "e6e9e9ff-48ee-4f7a-89ba-03c28963961f",
        "colab": {
          "base_uri": "https://localhost:8080/",
          "height": 595
        }
      },
      "source": [
        "import matplotlib.pyplot as plt\n",
        "import matplotlib.image as mpimg\n",
        "%matplotlib inline\n",
        "Xs_v = Xs.reshape(-1,Xs.shape[1],Xs.shape[2])\n",
        "plt.figure(figsize=(10,10))\n",
        "plt.subplots_adjust(wspace =0, hspace =0.3)\n",
        "for i in range(0,9):\n",
        "    plt.subplot(330 + (i+1))\n",
        "    plt.imshow(Xs_v[i])"
      ],
      "execution_count": 13,
      "outputs": [
        {
          "output_type": "display_data",
          "data": {
            "image/png": "[encoded data removed]",
            "text/plain": [
              "<Figure size 720x720 with 9 Axes>"
            ]
          },
          "metadata": {
            "tags": []
          }
        }
      ]
    },
    {
      "cell_type": "markdown",
      "metadata": {
        "id": "OiMwfIgracil",
        "colab_type": "text"
      },
      "source": [
        "# model predict"
      ]
    },
    {
      "cell_type": "code",
      "metadata": {
        "id": "Li8xHQiENaBw",
        "colab_type": "code",
        "colab": {}
      },
      "source": [
        "predict = Ricky.choose_action(Xs)\n",
        "SIGNAL = [ np.argmax(i) for i in predict]"
      ],
      "execution_count": 0,
      "outputs": []
    },
    {
      "cell_type": "code",
      "metadata": {
        "id": "xpep08xnNly_",
        "colab_type": "code",
        "outputId": "dad7828a-d45d-4cb8-fd11-c7f0886d11b7",
        "colab": {
          "base_uri": "https://localhost:8080/",
          "height": 192
        }
      },
      "source": [
        "np.set_printoptions(suppress=True)\n",
        "predict[-10:]"
      ],
      "execution_count": 15,
      "outputs": [
        {
          "output_type": "execute_result",
          "data": {
            "text/plain": [
              "array([[0.00170487, 0.9980737 , 0.00022146],\n",
              "       [0.12279198, 0.8703657 , 0.00684235],\n",
              "       [0.2350874 , 0.74389964, 0.02101298],\n",
              "       [0.02163539, 0.97586924, 0.00249532],\n",
              "       [0.11968658, 0.87807393, 0.00223953],\n",
              "       [0.90128875, 0.08461501, 0.01409623],\n",
              "       [0.961385  , 0.02657754, 0.01203743],\n",
              "       [0.93501484, 0.03476112, 0.03022402],\n",
              "       [0.876727  , 0.02299463, 0.10027836],\n",
              "       [0.90731734, 0.02293362, 0.06974905]], dtype=float32)"
            ]
          },
          "metadata": {
            "tags": []
          },
          "execution_count": 15
        }
      ]
    },
    {
      "cell_type": "code",
      "metadata": {
        "id": "YgLJkHswOji8",
        "colab_type": "code",
        "outputId": "48a893be-5e22-43bf-84e5-824faeb9879d",
        "colab": {
          "base_uri": "https://localhost:8080/",
          "height": 561
        }
      },
      "source": [
        "df = df.iloc[-len(predict):]\n",
        "df['HOLD'] = predict[:,0]\n",
        "df['BUY'] = predict[:,1]\n",
        "df['SELL'] = predict[:,2]\n",
        "df = df.iloc[:,-3:]\n",
        "df = df.join(web.DataReader(SID,'yahoo',start=\"1980-01-01\")['Close'])\n",
        "df['SIGNAL'] = SIGNAL\n",
        "df.tail()"
      ],
      "execution_count": 16,
      "outputs": [
        {
          "output_type": "stream",
          "text": [
            "/usr/local/lib/python3.6/dist-packages/ipykernel_launcher.py:2: SettingWithCopyWarning: \n",
            "A value is trying to be set on a copy of a slice from a DataFrame.\n",
            "Try using .loc[row_indexer,col_indexer] = value instead\n",
            "\n",
            "See the caveats in the documentation: http://pandas.pydata.org/pandas-docs/stable/indexing.html#indexing-view-versus-copy\n",
            "  \n",
            "/usr/local/lib/python3.6/dist-packages/ipykernel_launcher.py:3: SettingWithCopyWarning: \n",
            "A value is trying to be set on a copy of a slice from a DataFrame.\n",
            "Try using .loc[row_indexer,col_indexer] = value instead\n",
            "\n",
            "See the caveats in the documentation: http://pandas.pydata.org/pandas-docs/stable/indexing.html#indexing-view-versus-copy\n",
            "  This is separate from the ipykernel package so we can avoid doing imports until\n",
            "/usr/local/lib/python3.6/dist-packages/ipykernel_launcher.py:4: SettingWithCopyWarning: \n",
            "A value is trying to be set on a copy of a slice from a DataFrame.\n",
            "Try using .loc[row_indexer,col_indexer] = value instead\n",
            "\n",
            "See the caveats in the documentation: http://pandas.pydata.org/pandas-docs/stable/indexing.html#indexing-view-versus-copy\n",
            "  after removing the cwd from sys.path.\n"
          ],
          "name": "stderr"
        },
        {
          "output_type": "execute_result",
          "data": {
            "text/html": [
              "<div>\n",
              "<style scoped>\n",
              "    .dataframe tbody tr th:only-of-type {\n",
              "        vertical-align: middle;\n",
              "    }\n",
              "\n",
              "    .dataframe tbody tr th {\n",
              "        vertical-align: top;\n",
              "    }\n",
              "\n",
              "    .dataframe thead th {\n",
              "        text-align: right;\n",
              "    }\n",
              "</style>\n",
              "<table border=\"1\" class=\"dataframe\">\n",
              "  <thead>\n",
              "    <tr style=\"text-align: right;\">\n",
              "      <th></th>\n",
              "      <th>HOLD</th>\n",
              "      <th>BUY</th>\n",
              "      <th>SELL</th>\n",
              "      <th>Close</th>\n",
              "      <th>SIGNAL</th>\n",
              "    </tr>\n",
              "    <tr>\n",
              "      <th>Date</th>\n",
              "      <th></th>\n",
              "      <th></th>\n",
              "      <th></th>\n",
              "      <th></th>\n",
              "      <th></th>\n",
              "    </tr>\n",
              "  </thead>\n",
              "  <tbody>\n",
              "    <tr>\n",
              "      <th>2019-09-05</th>\n",
              "      <td>0.901289</td>\n",
              "      <td>0.084615</td>\n",
              "      <td>0.014096</td>\n",
              "      <td>10756.929688</td>\n",
              "      <td>0</td>\n",
              "    </tr>\n",
              "    <tr>\n",
              "      <th>2019-09-06</th>\n",
              "      <td>0.961385</td>\n",
              "      <td>0.026578</td>\n",
              "      <td>0.012037</td>\n",
              "      <td>10780.639648</td>\n",
              "      <td>0</td>\n",
              "    </tr>\n",
              "    <tr>\n",
              "      <th>2019-09-10</th>\n",
              "      <td>0.935015</td>\n",
              "      <td>0.034761</td>\n",
              "      <td>0.030224</td>\n",
              "      <td>10753.580078</td>\n",
              "      <td>0</td>\n",
              "    </tr>\n",
              "    <tr>\n",
              "      <th>2019-09-11</th>\n",
              "      <td>0.876727</td>\n",
              "      <td>0.022995</td>\n",
              "      <td>0.100278</td>\n",
              "      <td>10790.349609</td>\n",
              "      <td>0</td>\n",
              "    </tr>\n",
              "    <tr>\n",
              "      <th>2019-09-12</th>\n",
              "      <td>0.907317</td>\n",
              "      <td>0.022934</td>\n",
              "      <td>0.069749</td>\n",
              "      <td>10817.299805</td>\n",
              "      <td>0</td>\n",
              "    </tr>\n",
              "  </tbody>\n",
              "</table>\n",
              "</div>"
            ],
            "text/plain": [
              "                HOLD       BUY      SELL         Close  SIGNAL\n",
              "Date                                                          \n",
              "2019-09-05  0.901289  0.084615  0.014096  10756.929688       0\n",
              "2019-09-06  0.961385  0.026578  0.012037  10780.639648       0\n",
              "2019-09-10  0.935015  0.034761  0.030224  10753.580078       0\n",
              "2019-09-11  0.876727  0.022995  0.100278  10790.349609       0\n",
              "2019-09-12  0.907317  0.022934  0.069749  10817.299805       0"
            ]
          },
          "metadata": {
            "tags": []
          },
          "execution_count": 16
        }
      ]
    },
    {
      "cell_type": "code",
      "metadata": {
        "id": "sKeLOqaXUYM_",
        "colab_type": "code",
        "colab": {
          "base_uri": "https://localhost:8080/",
          "height": 408
        },
        "outputId": "b9e21788-3dc2-4193-aabe-729a11d4f337"
      },
      "source": [
        "df.tail(10)"
      ],
      "execution_count": 17,
      "outputs": [
        {
          "output_type": "execute_result",
          "data": {
            "text/html": [
              "<div>\n",
              "<style scoped>\n",
              "    .dataframe tbody tr th:only-of-type {\n",
              "        vertical-align: middle;\n",
              "    }\n",
              "\n",
              "    .dataframe tbody tr th {\n",
              "        vertical-align: top;\n",
              "    }\n",
              "\n",
              "    .dataframe thead th {\n",
              "        text-align: right;\n",
              "    }\n",
              "</style>\n",
              "<table border=\"1\" class=\"dataframe\">\n",
              "  <thead>\n",
              "    <tr style=\"text-align: right;\">\n",
              "      <th></th>\n",
              "      <th>HOLD</th>\n",
              "      <th>BUY</th>\n",
              "      <th>SELL</th>\n",
              "      <th>Close</th>\n",
              "      <th>SIGNAL</th>\n",
              "    </tr>\n",
              "    <tr>\n",
              "      <th>Date</th>\n",
              "      <th></th>\n",
              "      <th></th>\n",
              "      <th></th>\n",
              "      <th></th>\n",
              "      <th></th>\n",
              "    </tr>\n",
              "  </thead>\n",
              "  <tbody>\n",
              "    <tr>\n",
              "      <th>2019-08-29</th>\n",
              "      <td>0.001705</td>\n",
              "      <td>0.998074</td>\n",
              "      <td>0.000221</td>\n",
              "      <td>10462.429688</td>\n",
              "      <td>1</td>\n",
              "    </tr>\n",
              "    <tr>\n",
              "      <th>2019-08-30</th>\n",
              "      <td>0.122792</td>\n",
              "      <td>0.870366</td>\n",
              "      <td>0.006842</td>\n",
              "      <td>10618.049805</td>\n",
              "      <td>1</td>\n",
              "    </tr>\n",
              "    <tr>\n",
              "      <th>2019-09-02</th>\n",
              "      <td>0.235087</td>\n",
              "      <td>0.743900</td>\n",
              "      <td>0.021013</td>\n",
              "      <td>10634.849609</td>\n",
              "      <td>1</td>\n",
              "    </tr>\n",
              "    <tr>\n",
              "      <th>2019-09-03</th>\n",
              "      <td>0.021635</td>\n",
              "      <td>0.975869</td>\n",
              "      <td>0.002495</td>\n",
              "      <td>10558.209961</td>\n",
              "      <td>1</td>\n",
              "    </tr>\n",
              "    <tr>\n",
              "      <th>2019-09-04</th>\n",
              "      <td>0.119687</td>\n",
              "      <td>0.878074</td>\n",
              "      <td>0.002240</td>\n",
              "      <td>10657.309570</td>\n",
              "      <td>1</td>\n",
              "    </tr>\n",
              "    <tr>\n",
              "      <th>2019-09-05</th>\n",
              "      <td>0.901289</td>\n",
              "      <td>0.084615</td>\n",
              "      <td>0.014096</td>\n",
              "      <td>10756.929688</td>\n",
              "      <td>0</td>\n",
              "    </tr>\n",
              "    <tr>\n",
              "      <th>2019-09-06</th>\n",
              "      <td>0.961385</td>\n",
              "      <td>0.026578</td>\n",
              "      <td>0.012037</td>\n",
              "      <td>10780.639648</td>\n",
              "      <td>0</td>\n",
              "    </tr>\n",
              "    <tr>\n",
              "      <th>2019-09-10</th>\n",
              "      <td>0.935015</td>\n",
              "      <td>0.034761</td>\n",
              "      <td>0.030224</td>\n",
              "      <td>10753.580078</td>\n",
              "      <td>0</td>\n",
              "    </tr>\n",
              "    <tr>\n",
              "      <th>2019-09-11</th>\n",
              "      <td>0.876727</td>\n",
              "      <td>0.022995</td>\n",
              "      <td>0.100278</td>\n",
              "      <td>10790.349609</td>\n",
              "      <td>0</td>\n",
              "    </tr>\n",
              "    <tr>\n",
              "      <th>2019-09-12</th>\n",
              "      <td>0.907317</td>\n",
              "      <td>0.022934</td>\n",
              "      <td>0.069749</td>\n",
              "      <td>10817.299805</td>\n",
              "      <td>0</td>\n",
              "    </tr>\n",
              "  </tbody>\n",
              "</table>\n",
              "</div>"
            ],
            "text/plain": [
              "                HOLD       BUY      SELL         Close  SIGNAL\n",
              "Date                                                          \n",
              "2019-08-29  0.001705  0.998074  0.000221  10462.429688       1\n",
              "2019-08-30  0.122792  0.870366  0.006842  10618.049805       1\n",
              "2019-09-02  0.235087  0.743900  0.021013  10634.849609       1\n",
              "2019-09-03  0.021635  0.975869  0.002495  10558.209961       1\n",
              "2019-09-04  0.119687  0.878074  0.002240  10657.309570       1\n",
              "2019-09-05  0.901289  0.084615  0.014096  10756.929688       0\n",
              "2019-09-06  0.961385  0.026578  0.012037  10780.639648       0\n",
              "2019-09-10  0.935015  0.034761  0.030224  10753.580078       0\n",
              "2019-09-11  0.876727  0.022995  0.100278  10790.349609       0\n",
              "2019-09-12  0.907317  0.022934  0.069749  10817.299805       0"
            ]
          },
          "metadata": {
            "tags": []
          },
          "execution_count": 17
        }
      ]
    },
    {
      "cell_type": "markdown",
      "metadata": {
        "id": "8sSQhJuEZq8N",
        "colab_type": "text"
      },
      "source": [
        "# 最近一年買賣圖"
      ]
    },
    {
      "cell_type": "code",
      "metadata": {
        "id": "oxrWcfMtWG1F",
        "colab_type": "code",
        "colab": {
          "base_uri": "https://localhost:8080/",
          "height": 298
        },
        "outputId": "4e031b76-f81c-4c31-ca41-cd2bceff0dfd"
      },
      "source": [
        "t = df[-250:]#最近一年\n",
        "buy = t[t['SIGNAL']==1]['Close']\n",
        "sell = t[t['SIGNAL']==2]['Close']\n",
        "t['Close'].plot()\n",
        "plt.scatter(buy.index,buy.values,color='red')\n",
        "plt.scatter(sell.index,sell.values,color='black')"
      ],
      "execution_count": 18,
      "outputs": [
        {
          "output_type": "execute_result",
          "data": {
            "text/plain": [
              "<matplotlib.collections.PathCollection at 0x7fd8c8c73d68>"
            ]
          },
          "metadata": {
            "tags": []
          },
          "execution_count": 18
        },
        {
          "output_type": "display_data",
          "data": {
            "image/png": "[encoded data removed]",
            "text/plain": [
              "<Figure size 432x288 with 1 Axes>"
            ]
          },
          "metadata": {
            "tags": []
          }
        }
      ]
    },
    {
      "cell_type": "markdown",
      "metadata": {
        "id": "5X5Zii34ZtpO",
        "colab_type": "text"
      },
      "source": [
        "# 平均 買入/賣出 價位"
      ]
    },
    {
      "cell_type": "code",
      "metadata": {
        "id": "1pDrE8UmWUv9",
        "colab_type": "code",
        "colab": {
          "base_uri": "https://localhost:8080/",
          "height": 52
        },
        "outputId": "0459bfd3-d01c-4c75-f49b-dd7317b88a7a"
      },
      "source": [
        "買點集合 = t[t['SIGNAL']==1]['Close']\n",
        "賣點集合 = t[t['SIGNAL']==2]['Close']\n",
        "print(買點集合.mean())\n",
        "print(賣點集合.mean())"
      ],
      "execution_count": 19,
      "outputs": [
        {
          "output_type": "stream",
          "text": [
            "10200.777473294005\n",
            "10545.418846240942\n"
          ],
          "name": "stdout"
        }
      ]
    },
    {
      "cell_type": "markdown",
      "metadata": {
        "id": "ws3m--GiZ3Cf",
        "colab_type": "text"
      },
      "source": [
        "# 平均價差獲利"
      ]
    },
    {
      "cell_type": "code",
      "metadata": {
        "id": "z5Vs5lnxX5to",
        "colab_type": "code",
        "colab": {
          "base_uri": "https://localhost:8080/",
          "height": 35
        },
        "outputId": "31643e92-7bab-4202-b046-cd1bfdef3264"
      },
      "source": [
        "(賣點集合.mean()-買點集合.mean())"
      ],
      "execution_count": 20,
      "outputs": [
        {
          "output_type": "execute_result",
          "data": {
            "text/plain": [
              "344.6413729469368"
            ]
          },
          "metadata": {
            "tags": []
          },
          "execution_count": 20
        }
      ]
    },
    {
      "cell_type": "code",
      "metadata": {
        "id": "oJoxPhAlYphC",
        "colab_type": "code",
        "colab": {}
      },
      "source": [
        ""
      ],
      "execution_count": 0,
      "outputs": []
    }
  ]
}