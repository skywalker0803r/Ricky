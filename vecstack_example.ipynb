{
  "nbformat": 4,
  "nbformat_minor": 0,
  "metadata": {
    "colab": {
      "name": "vecstack_example.ipynb",
      "provenance": [],
      "include_colab_link": true
    },
    "kernelspec": {
      "name": "python3",
      "display_name": "Python 3"
    }
  },
  "cells": [
    {
      "cell_type": "markdown",
      "metadata": {
        "id": "view-in-github",
        "colab_type": "text"
      },
      "source": [
        "<a href=\"https://colab.research.google.com/github/skywalker0803r/Ricky/blob/master/vecstack_example.ipynb\" target=\"_parent\"><img src=\"https://colab.research.google.com/assets/colab-badge.svg\" alt=\"Open In Colab\"/></a>"
      ]
    },
    {
      "cell_type": "code",
      "metadata": {
        "id": "nAfd2fA7fRlZ",
        "colab_type": "code",
        "outputId": "877efc12-c717-4eb0-aa63-e7b2b3bc1e3a",
        "colab": {
          "base_uri": "https://localhost:8080/",
          "height": 34
        }
      },
      "source": [
        "import warnings;warnings.simplefilter('ignore')\n",
        "from sklearn.datasets import load_iris,load_breast_cancer\n",
        "from sklearn.model_selection import train_test_split\n",
        "from sklearn.metrics import accuracy_score,f1_score\n",
        "from sklearn.ensemble import ExtraTreesClassifier\n",
        "from sklearn.ensemble import RandomForestClassifier\n",
        "from sklearn.neighbors import KNeighborsClassifier\n",
        "from sklearn.linear_model import LogisticRegression\n",
        "from sklearn.preprocessing import StandardScaler\n",
        "from xgboost import XGBClassifier\n",
        "from vecstack import stacking\n",
        "import numpy as np\n",
        "from sklearn.svm import SVC\n",
        "\n",
        "# 載入資料\n",
        "dataset = load_breast_cancer()\n",
        "X, y = dataset.data[:,:], dataset.target\n",
        "# 特徵縮放\n",
        "X = StandardScaler().fit_transform(X)\n",
        "# 切分資料\n",
        "X_train, X_test, y_train, y_test = train_test_split(X, y,test_size = 0.2, random_state = 42)\n",
        "print(X.shape,y.shape)"
      ],
      "execution_count": 1,
      "outputs": [
        {
          "output_type": "stream",
          "text": [
            "(569, 30) (569,)\n"
          ],
          "name": "stdout"
        }
      ]
    },
    {
      "cell_type": "markdown",
      "metadata": {
        "id": "YPgOrp6PKVR2",
        "colab_type": "text"
      },
      "source": [
        "# level1 model"
      ]
    },
    {
      "cell_type": "code",
      "metadata": {
        "id": "t_OXdms2KVeZ",
        "colab_type": "code",
        "colab": {}
      },
      "source": [
        "# base model 1\n",
        "model_1 = [LogisticRegression()]\n",
        "oof_train_1, oof_test_1 = stacking(model_1,X_train[:,:], y_train, X_test[:,:],regression = False,metric = f1_score,n_folds = 5)\n",
        "# base model 2\n",
        "model_2 = [SVC()]\n",
        "oof_train_2, oof_test_2 = stacking(model_2,X_train[:,:], y_train, X_test[:,:],regression = False,metric = f1_score,n_folds = 5)\n",
        "# base model 3\n",
        "model_3 = [KNeighborsClassifier()]\n",
        "oof_train_3, oof_test_3 = stacking(model_3,X_train[:,:], y_train, X_test[:,:],regression = False,metric = f1_score,n_folds = 5)"
      ],
      "execution_count": 0,
      "outputs": []
    },
    {
      "cell_type": "markdown",
      "metadata": {
        "id": "gEXqxJ84KdHi",
        "colab_type": "text"
      },
      "source": [
        "# merge oof_train oof_test"
      ]
    },
    {
      "cell_type": "code",
      "metadata": {
        "id": "RWTT_VnGKdSY",
        "colab_type": "code",
        "colab": {
          "base_uri": "https://localhost:8080/",
          "height": 34
        },
        "outputId": "305daa84-ae06-40d2-d81e-b6e5d9fd534c"
      },
      "source": [
        "oof_train = np.hstack([oof_train_1,oof_train_2,oof_train_3])\n",
        "oof_test = np.hstack([oof_test_1,oof_test_2,oof_test_3])\n",
        "print(oof_train.shape,oof_test.shape)"
      ],
      "execution_count": 3,
      "outputs": [
        {
          "output_type": "stream",
          "text": [
            "(455, 3) (114, 3)\n"
          ],
          "name": "stdout"
        }
      ]
    },
    {
      "cell_type": "markdown",
      "metadata": {
        "id": "jSHQwGwzKL9m",
        "colab_type": "text"
      },
      "source": [
        "# level2 model"
      ]
    },
    {
      "cell_type": "code",
      "metadata": {
        "id": "xNZ0sAeMKGz1",
        "colab_type": "code",
        "colab": {
          "base_uri": "https://localhost:8080/",
          "height": 34
        },
        "outputId": "558ac362-f493-49b5-ed1e-c93dd1191dd0"
      },
      "source": [
        "meta_model = XGBClassifier().fit(oof_train, y_train)\n",
        "y_pred = meta_model.predict(oof_test)\n",
        "accuracy_score(y_test, y_pred)"
      ],
      "execution_count": 4,
      "outputs": [
        {
          "output_type": "execute_result",
          "data": {
            "text/plain": [
              "0.9736842105263158"
            ]
          },
          "metadata": {
            "tags": []
          },
          "execution_count": 4
        }
      ]
    },
    {
      "cell_type": "markdown",
      "metadata": {
        "id": "DYNlPojpjU5W",
        "colab_type": "text"
      },
      "source": [
        "# 對照組"
      ]
    },
    {
      "cell_type": "code",
      "metadata": {
        "id": "8h1A8UF0jbcr",
        "colab_type": "code",
        "colab": {
          "base_uri": "https://localhost:8080/",
          "height": 34
        },
        "outputId": "20ccd0ee-2f71-4a34-fab7-c7ac78cd8c93"
      },
      "source": [
        "model = XGBClassifier().fit(X_train, y_train)\n",
        "y_pred = model.predict(X_test)\n",
        "accuracy_score(y_test, y_pred)"
      ],
      "execution_count": 5,
      "outputs": [
        {
          "output_type": "execute_result",
          "data": {
            "text/plain": [
              "0.9649122807017544"
            ]
          },
          "metadata": {
            "tags": []
          },
          "execution_count": 5
        }
      ]
    },
    {
      "cell_type": "code",
      "metadata": {
        "id": "yu3NQsi0NcMJ",
        "colab_type": "code",
        "colab": {}
      },
      "source": [
        ""
      ],
      "execution_count": 0,
      "outputs": []
    }
  ]
}