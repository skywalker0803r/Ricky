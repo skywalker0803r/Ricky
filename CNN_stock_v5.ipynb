{
  "nbformat": 4,
  "nbformat_minor": 0,
  "metadata": {
    "colab": {
      "name": "CNN_stock.ipynb",
      "version": "0.3.2",
      "provenance": [],
      "collapsed_sections": [],
      "include_colab_link": true
    },
    "kernelspec": {
      "name": "python3",
      "display_name": "Python 3"
    },
    "accelerator": "GPU"
  },
  "cells": [
    {
      "cell_type": "markdown",
      "metadata": {
        "id": "view-in-github",
        "colab_type": "text"
      },
      "source": [
        "<a href=\"https://colab.research.google.com/github/skywalker0803r/Ricky/blob/master/CNN_stock_v5.ipynb\" target=\"_parent\"><img src=\"https://colab.research.google.com/assets/colab-badge.svg\" alt=\"Open In Colab\"/></a>"
      ]
    },
    {
      "cell_type": "code",
      "metadata": {
        "id": "g7NPpY26_qJm",
        "colab_type": "code",
        "colab": {}
      },
      "source": [
        "import pandas as pd\n",
        "import seaborn as sns\n",
        "import pandas_datareader.data as web\n",
        "#!pip install finta\n",
        "SID = '1472.tw'\n",
        "df = web.DataReader(SID,'yahoo',start=\"2000-01-01\")\n",
        "df = df.iloc[:,:5]"
      ],
      "execution_count": 0,
      "outputs": []
    },
    {
      "cell_type": "markdown",
      "metadata": {
        "id": "6vaRLIuvJlZ7",
        "colab_type": "text"
      },
      "source": [
        "# 載入資料"
      ]
    },
    {
      "cell_type": "code",
      "metadata": {
        "id": "kRKHlNGl_7JV",
        "colab_type": "code",
        "outputId": "873d1cbc-6519-4824-bd6d-b215ef13ba70",
        "colab": {
          "base_uri": "https://localhost:8080/",
          "height": 189
        }
      },
      "source": [
        "print(df.shape)\n",
        "df.head(3)"
      ],
      "execution_count": 2,
      "outputs": [
        {
          "output_type": "stream",
          "text": [
            "(4847, 5)\n"
          ],
          "name": "stdout"
        },
        {
          "output_type": "execute_result",
          "data": {
            "text/html": [
              "<div>\n",
              "<style scoped>\n",
              "    .dataframe tbody tr th:only-of-type {\n",
              "        vertical-align: middle;\n",
              "    }\n",
              "\n",
              "    .dataframe tbody tr th {\n",
              "        vertical-align: top;\n",
              "    }\n",
              "\n",
              "    .dataframe thead th {\n",
              "        text-align: right;\n",
              "    }\n",
              "</style>\n",
              "<table border=\"1\" class=\"dataframe\">\n",
              "  <thead>\n",
              "    <tr style=\"text-align: right;\">\n",
              "      <th></th>\n",
              "      <th>High</th>\n",
              "      <th>Low</th>\n",
              "      <th>Open</th>\n",
              "      <th>Close</th>\n",
              "      <th>Volume</th>\n",
              "    </tr>\n",
              "    <tr>\n",
              "      <th>Date</th>\n",
              "      <th></th>\n",
              "      <th></th>\n",
              "      <th></th>\n",
              "      <th></th>\n",
              "      <th></th>\n",
              "    </tr>\n",
              "  </thead>\n",
              "  <tbody>\n",
              "    <tr>\n",
              "      <th>2000-01-04</th>\n",
              "      <td>18.514601</td>\n",
              "      <td>17.7523</td>\n",
              "      <td>17.7523</td>\n",
              "      <td>18.187901</td>\n",
              "      <td>7346.0</td>\n",
              "    </tr>\n",
              "    <tr>\n",
              "      <th>2000-01-05</th>\n",
              "      <td>18.187901</td>\n",
              "      <td>17.7523</td>\n",
              "      <td>17.8612</td>\n",
              "      <td>18.187901</td>\n",
              "      <td>14709.0</td>\n",
              "    </tr>\n",
              "    <tr>\n",
              "      <th>2000-01-06</th>\n",
              "      <td>18.187901</td>\n",
              "      <td>17.9701</td>\n",
              "      <td>17.9701</td>\n",
              "      <td>18.187901</td>\n",
              "      <td>29382.0</td>\n",
              "    </tr>\n",
              "  </tbody>\n",
              "</table>\n",
              "</div>"
            ],
            "text/plain": [
              "                 High      Low     Open      Close   Volume\n",
              "Date                                                       \n",
              "2000-01-04  18.514601  17.7523  17.7523  18.187901   7346.0\n",
              "2000-01-05  18.187901  17.7523  17.8612  18.187901  14709.0\n",
              "2000-01-06  18.187901  17.9701  17.9701  18.187901  29382.0"
            ]
          },
          "metadata": {
            "tags": []
          },
          "execution_count": 2
        }
      ]
    },
    {
      "cell_type": "code",
      "metadata": {
        "id": "9YvzTIEDddVx",
        "colab_type": "code",
        "colab": {
          "base_uri": "https://localhost:8080/",
          "height": 171
        },
        "outputId": "fe1be453-deda-4bfc-af2f-1551ea1d896d"
      },
      "source": [
        "df.tail(3)"
      ],
      "execution_count": 3,
      "outputs": [
        {
          "output_type": "execute_result",
          "data": {
            "text/html": [
              "<div>\n",
              "<style scoped>\n",
              "    .dataframe tbody tr th:only-of-type {\n",
              "        vertical-align: middle;\n",
              "    }\n",
              "\n",
              "    .dataframe tbody tr th {\n",
              "        vertical-align: top;\n",
              "    }\n",
              "\n",
              "    .dataframe thead th {\n",
              "        text-align: right;\n",
              "    }\n",
              "</style>\n",
              "<table border=\"1\" class=\"dataframe\">\n",
              "  <thead>\n",
              "    <tr style=\"text-align: right;\">\n",
              "      <th></th>\n",
              "      <th>High</th>\n",
              "      <th>Low</th>\n",
              "      <th>Open</th>\n",
              "      <th>Close</th>\n",
              "      <th>Volume</th>\n",
              "    </tr>\n",
              "    <tr>\n",
              "      <th>Date</th>\n",
              "      <th></th>\n",
              "      <th></th>\n",
              "      <th></th>\n",
              "      <th></th>\n",
              "      <th></th>\n",
              "    </tr>\n",
              "  </thead>\n",
              "  <tbody>\n",
              "    <tr>\n",
              "      <th>2019-09-04</th>\n",
              "      <td>32.299999</td>\n",
              "      <td>31.35</td>\n",
              "      <td>31.35</td>\n",
              "      <td>31.900000</td>\n",
              "      <td>349114.0</td>\n",
              "    </tr>\n",
              "    <tr>\n",
              "      <th>2019-09-05</th>\n",
              "      <td>31.900000</td>\n",
              "      <td>31.50</td>\n",
              "      <td>31.90</td>\n",
              "      <td>31.500000</td>\n",
              "      <td>22002.0</td>\n",
              "    </tr>\n",
              "    <tr>\n",
              "      <th>2019-09-06</th>\n",
              "      <td>33.200001</td>\n",
              "      <td>31.50</td>\n",
              "      <td>31.50</td>\n",
              "      <td>32.849998</td>\n",
              "      <td>1559169.0</td>\n",
              "    </tr>\n",
              "  </tbody>\n",
              "</table>\n",
              "</div>"
            ],
            "text/plain": [
              "                 High    Low   Open      Close     Volume\n",
              "Date                                                     \n",
              "2019-09-04  32.299999  31.35  31.35  31.900000   349114.0\n",
              "2019-09-05  31.900000  31.50  31.90  31.500000    22002.0\n",
              "2019-09-06  33.200001  31.50  31.50  32.849998  1559169.0"
            ]
          },
          "metadata": {
            "tags": []
          },
          "execution_count": 3
        }
      ]
    },
    {
      "cell_type": "markdown",
      "metadata": {
        "id": "ZsFMU68NI85j",
        "colab_type": "text"
      },
      "source": [
        "# Labeling(計算return)"
      ]
    },
    {
      "cell_type": "code",
      "metadata": {
        "id": "WaNG41cBI9BT",
        "colab_type": "code",
        "colab": {}
      },
      "source": [
        "#今天股價 = df['Close']\n",
        "#昨天股價 = df['Close'].shift(1)\n",
        "#df['return%'] = (今天股價/昨天股價-1)*100\n",
        "#print(df['return%'].min(),df['return%'].max())\n",
        "#sns.distplot(df['return%'].dropna())\n",
        "#df.tail()"
      ],
      "execution_count": 0,
      "outputs": []
    },
    {
      "cell_type": "markdown",
      "metadata": {
        "id": "HegmuvBN0FKD",
        "colab_type": "text"
      },
      "source": [
        "# Label triple_barrier"
      ]
    },
    {
      "cell_type": "code",
      "metadata": {
        "id": "RFsmFQfF0FXt",
        "colab_type": "code",
        "colab": {}
      },
      "source": [
        "import numpy as np\n",
        "import math\n",
        "def triple_barrier(price, ub, lb, max_period):\n",
        "\n",
        "    def end_price(s):\n",
        "        return np.append(s[(s / s[0] > ub) | (s / s[0] < lb)], s[-1])[0]/s[0]\n",
        "    \n",
        "    r = np.array(range(max_period))\n",
        "    \n",
        "    def end_time(s):\n",
        "        return np.append(r[(s / s[0] > ub) | (s / s[0] < lb)], max_period-1)[0]\n",
        "\n",
        "    p = price.rolling(max_period).apply(end_price, raw=True).shift(-max_period+1)\n",
        "    t = price.rolling(max_period).apply(end_time, raw=True).shift(-max_period+1)\n",
        "    t = pd.Series([t.index[int(k+i)] if not math.isnan(k+i) else np.datetime64('NaT') \n",
        "                   for i, k in enumerate(t)], index=t.index).dropna()\n",
        "\n",
        "    signal = pd.Series(0, p.index)\n",
        "    signal.loc[p > ub] = 1\n",
        "    signal.loc[p < lb] = -1\n",
        "    ret = pd.DataFrame({'triple_barrier_profit':p, 'triple_barrier_sell_time':t, 'triple_barrier_signal':signal})\n",
        "\n",
        "    return ret\n",
        "\n",
        "ret = triple_barrier(df.Close, 1.07, 0.97, 20)['triple_barrier_signal']\n",
        "df = df.join(ret)"
      ],
      "execution_count": 0,
      "outputs": []
    },
    {
      "cell_type": "code",
      "metadata": {
        "id": "MHRZWGG40a3q",
        "colab_type": "code",
        "outputId": "41317b1a-e583-49e1-e757-3f059508dafe",
        "colab": {
          "base_uri": "https://localhost:8080/",
          "height": 693
        }
      },
      "source": [
        "df.tail(20)"
      ],
      "execution_count": 6,
      "outputs": [
        {
          "output_type": "execute_result",
          "data": {
            "text/html": [
              "<div>\n",
              "<style scoped>\n",
              "    .dataframe tbody tr th:only-of-type {\n",
              "        vertical-align: middle;\n",
              "    }\n",
              "\n",
              "    .dataframe tbody tr th {\n",
              "        vertical-align: top;\n",
              "    }\n",
              "\n",
              "    .dataframe thead th {\n",
              "        text-align: right;\n",
              "    }\n",
              "</style>\n",
              "<table border=\"1\" class=\"dataframe\">\n",
              "  <thead>\n",
              "    <tr style=\"text-align: right;\">\n",
              "      <th></th>\n",
              "      <th>High</th>\n",
              "      <th>Low</th>\n",
              "      <th>Open</th>\n",
              "      <th>Close</th>\n",
              "      <th>Volume</th>\n",
              "      <th>triple_barrier_signal</th>\n",
              "    </tr>\n",
              "    <tr>\n",
              "      <th>Date</th>\n",
              "      <th></th>\n",
              "      <th></th>\n",
              "      <th></th>\n",
              "      <th></th>\n",
              "      <th></th>\n",
              "      <th></th>\n",
              "    </tr>\n",
              "  </thead>\n",
              "  <tbody>\n",
              "    <tr>\n",
              "      <th>2019-08-08</th>\n",
              "      <td>33.400002</td>\n",
              "      <td>33.049999</td>\n",
              "      <td>33.049999</td>\n",
              "      <td>33.400002</td>\n",
              "      <td>27413.0</td>\n",
              "      <td>-1</td>\n",
              "    </tr>\n",
              "    <tr>\n",
              "      <th>2019-08-12</th>\n",
              "      <td>33.500000</td>\n",
              "      <td>33.099998</td>\n",
              "      <td>33.400002</td>\n",
              "      <td>33.500000</td>\n",
              "      <td>40000.0</td>\n",
              "      <td>0</td>\n",
              "    </tr>\n",
              "    <tr>\n",
              "      <th>2019-08-13</th>\n",
              "      <td>33.400002</td>\n",
              "      <td>33.099998</td>\n",
              "      <td>33.299999</td>\n",
              "      <td>33.400002</td>\n",
              "      <td>30000.0</td>\n",
              "      <td>0</td>\n",
              "    </tr>\n",
              "    <tr>\n",
              "      <th>2019-08-14</th>\n",
              "      <td>33.400002</td>\n",
              "      <td>32.799999</td>\n",
              "      <td>33.400002</td>\n",
              "      <td>33.250000</td>\n",
              "      <td>16703.0</td>\n",
              "      <td>0</td>\n",
              "    </tr>\n",
              "    <tr>\n",
              "      <th>2019-08-15</th>\n",
              "      <td>33.299999</td>\n",
              "      <td>33.000000</td>\n",
              "      <td>33.299999</td>\n",
              "      <td>33.200001</td>\n",
              "      <td>18000.0</td>\n",
              "      <td>0</td>\n",
              "    </tr>\n",
              "    <tr>\n",
              "      <th>2019-08-16</th>\n",
              "      <td>33.349998</td>\n",
              "      <td>33.000000</td>\n",
              "      <td>33.349998</td>\n",
              "      <td>33.250000</td>\n",
              "      <td>31054.0</td>\n",
              "      <td>0</td>\n",
              "    </tr>\n",
              "    <tr>\n",
              "      <th>2019-08-19</th>\n",
              "      <td>33.250000</td>\n",
              "      <td>32.900002</td>\n",
              "      <td>32.900002</td>\n",
              "      <td>33.200001</td>\n",
              "      <td>25895.0</td>\n",
              "      <td>0</td>\n",
              "    </tr>\n",
              "    <tr>\n",
              "      <th>2019-08-20</th>\n",
              "      <td>33.150002</td>\n",
              "      <td>32.200001</td>\n",
              "      <td>33.150002</td>\n",
              "      <td>33.150002</td>\n",
              "      <td>29677.0</td>\n",
              "      <td>0</td>\n",
              "    </tr>\n",
              "    <tr>\n",
              "      <th>2019-08-21</th>\n",
              "      <td>33.099998</td>\n",
              "      <td>31.850000</td>\n",
              "      <td>32.299999</td>\n",
              "      <td>32.700001</td>\n",
              "      <td>88533.0</td>\n",
              "      <td>0</td>\n",
              "    </tr>\n",
              "    <tr>\n",
              "      <th>2019-08-22</th>\n",
              "      <td>34.000000</td>\n",
              "      <td>32.250000</td>\n",
              "      <td>32.849998</td>\n",
              "      <td>32.250000</td>\n",
              "      <td>66175.0</td>\n",
              "      <td>0</td>\n",
              "    </tr>\n",
              "    <tr>\n",
              "      <th>2019-08-23</th>\n",
              "      <td>32.250000</td>\n",
              "      <td>31.700001</td>\n",
              "      <td>31.700001</td>\n",
              "      <td>32.250000</td>\n",
              "      <td>43000.0</td>\n",
              "      <td>0</td>\n",
              "    </tr>\n",
              "    <tr>\n",
              "      <th>2019-08-27</th>\n",
              "      <td>31.950001</td>\n",
              "      <td>31.700001</td>\n",
              "      <td>31.700001</td>\n",
              "      <td>31.950001</td>\n",
              "      <td>5060.0</td>\n",
              "      <td>0</td>\n",
              "    </tr>\n",
              "    <tr>\n",
              "      <th>2019-08-28</th>\n",
              "      <td>32.000000</td>\n",
              "      <td>31.900000</td>\n",
              "      <td>32.000000</td>\n",
              "      <td>31.950001</td>\n",
              "      <td>7002.0</td>\n",
              "      <td>0</td>\n",
              "    </tr>\n",
              "    <tr>\n",
              "      <th>2019-08-29</th>\n",
              "      <td>32.000000</td>\n",
              "      <td>31.299999</td>\n",
              "      <td>31.299999</td>\n",
              "      <td>31.350000</td>\n",
              "      <td>12359.0</td>\n",
              "      <td>0</td>\n",
              "    </tr>\n",
              "    <tr>\n",
              "      <th>2019-08-30</th>\n",
              "      <td>31.950001</td>\n",
              "      <td>31.700001</td>\n",
              "      <td>31.900000</td>\n",
              "      <td>31.950001</td>\n",
              "      <td>33001.0</td>\n",
              "      <td>0</td>\n",
              "    </tr>\n",
              "    <tr>\n",
              "      <th>2019-09-02</th>\n",
              "      <td>32.049999</td>\n",
              "      <td>31.900000</td>\n",
              "      <td>31.900000</td>\n",
              "      <td>32.000000</td>\n",
              "      <td>54000.0</td>\n",
              "      <td>0</td>\n",
              "    </tr>\n",
              "    <tr>\n",
              "      <th>2019-09-03</th>\n",
              "      <td>31.700001</td>\n",
              "      <td>31.600000</td>\n",
              "      <td>31.700001</td>\n",
              "      <td>31.600000</td>\n",
              "      <td>3500.0</td>\n",
              "      <td>0</td>\n",
              "    </tr>\n",
              "    <tr>\n",
              "      <th>2019-09-04</th>\n",
              "      <td>32.299999</td>\n",
              "      <td>31.350000</td>\n",
              "      <td>31.350000</td>\n",
              "      <td>31.900000</td>\n",
              "      <td>349114.0</td>\n",
              "      <td>0</td>\n",
              "    </tr>\n",
              "    <tr>\n",
              "      <th>2019-09-05</th>\n",
              "      <td>31.900000</td>\n",
              "      <td>31.500000</td>\n",
              "      <td>31.900000</td>\n",
              "      <td>31.500000</td>\n",
              "      <td>22002.0</td>\n",
              "      <td>0</td>\n",
              "    </tr>\n",
              "    <tr>\n",
              "      <th>2019-09-06</th>\n",
              "      <td>33.200001</td>\n",
              "      <td>31.500000</td>\n",
              "      <td>31.500000</td>\n",
              "      <td>32.849998</td>\n",
              "      <td>1559169.0</td>\n",
              "      <td>0</td>\n",
              "    </tr>\n",
              "  </tbody>\n",
              "</table>\n",
              "</div>"
            ],
            "text/plain": [
              "                 High        Low  ...     Volume  triple_barrier_signal\n",
              "Date                              ...                                  \n",
              "2019-08-08  33.400002  33.049999  ...    27413.0                     -1\n",
              "2019-08-12  33.500000  33.099998  ...    40000.0                      0\n",
              "2019-08-13  33.400002  33.099998  ...    30000.0                      0\n",
              "2019-08-14  33.400002  32.799999  ...    16703.0                      0\n",
              "2019-08-15  33.299999  33.000000  ...    18000.0                      0\n",
              "2019-08-16  33.349998  33.000000  ...    31054.0                      0\n",
              "2019-08-19  33.250000  32.900002  ...    25895.0                      0\n",
              "2019-08-20  33.150002  32.200001  ...    29677.0                      0\n",
              "2019-08-21  33.099998  31.850000  ...    88533.0                      0\n",
              "2019-08-22  34.000000  32.250000  ...    66175.0                      0\n",
              "2019-08-23  32.250000  31.700001  ...    43000.0                      0\n",
              "2019-08-27  31.950001  31.700001  ...     5060.0                      0\n",
              "2019-08-28  32.000000  31.900000  ...     7002.0                      0\n",
              "2019-08-29  32.000000  31.299999  ...    12359.0                      0\n",
              "2019-08-30  31.950001  31.700001  ...    33001.0                      0\n",
              "2019-09-02  32.049999  31.900000  ...    54000.0                      0\n",
              "2019-09-03  31.700001  31.600000  ...     3500.0                      0\n",
              "2019-09-04  32.299999  31.350000  ...   349114.0                      0\n",
              "2019-09-05  31.900000  31.500000  ...    22002.0                      0\n",
              "2019-09-06  33.200001  31.500000  ...  1559169.0                      0\n",
              "\n",
              "[20 rows x 6 columns]"
            ]
          },
          "metadata": {
            "tags": []
          },
          "execution_count": 6
        }
      ]
    },
    {
      "cell_type": "code",
      "metadata": {
        "id": "Qti5Zd4-jOrH",
        "colab_type": "code",
        "outputId": "ef9762bf-09c6-4fa5-ae45-908cd914dc66",
        "colab": {
          "base_uri": "https://localhost:8080/",
          "height": 333
        }
      },
      "source": [
        "import matplotlib.pyplot as plt\n",
        "buy = df[df['triple_barrier_signal']==1]['Close']\n",
        "sell = df[df['triple_barrier_signal']==-1]['Close']\n",
        "df['Close'][0:20].plot()\n",
        "plt.scatter(buy.index,buy.values,color='red')\n",
        "plt.scatter(sell.index,sell.values,color='black')"
      ],
      "execution_count": 7,
      "outputs": [
        {
          "output_type": "execute_result",
          "data": {
            "text/plain": [
              "<matplotlib.collections.PathCollection at 0x7f32c590cba8>"
            ]
          },
          "metadata": {
            "tags": []
          },
          "execution_count": 7
        },
        {
          "output_type": "display_data",
          "data": {
            "image/png": "[encoded data removed]",
            "text/plain": [
              "<Figure size 432x288 with 1 Axes>"
            ]
          },
          "metadata": {
            "tags": []
          }
        }
      ]
    },
    {
      "cell_type": "markdown",
      "metadata": {
        "id": "HUtEilqGfIJl",
        "colab_type": "text"
      },
      "source": [
        "# 建立ohlcv"
      ]
    },
    {
      "cell_type": "code",
      "metadata": {
        "id": "FdFhLZkYfKpN",
        "colab_type": "code",
        "colab": {}
      },
      "source": [
        "from finta import TA\n",
        "ohlcv = df[['Open','High','Low','Close','Volume']]\n",
        "ohlcv.columns = ['open','high','low','close','volume']"
      ],
      "execution_count": 0,
      "outputs": []
    },
    {
      "cell_type": "markdown",
      "metadata": {
        "id": "9K9RepGQwbQQ",
        "colab_type": "text"
      },
      "source": [
        "# 計算技術指標RSI"
      ]
    },
    {
      "cell_type": "code",
      "metadata": {
        "id": "ZZkpnqk9e0Rw",
        "colab_type": "code",
        "colab": {
          "base_uri": "https://localhost:8080/",
          "height": 655
        },
        "outputId": "100de3da-107f-4537-ca10-c03d9ff63bd3"
      },
      "source": [
        "df['RSI'] = TA.RSI(ohlcv)\n",
        "print(df['RSI'].describe())\n",
        "sns.distplot(df['RSI'].dropna())\n",
        "df.tail()"
      ],
      "execution_count": 9,
      "outputs": [
        {
          "output_type": "stream",
          "text": [
            "count    4844.000000\n",
            "mean       48.185116\n",
            "std        18.453953\n",
            "min         0.000000\n",
            "25%        35.883192\n",
            "50%        47.399158\n",
            "75%        59.642413\n",
            "max        97.355196\n",
            "Name: RSI, dtype: float64\n"
          ],
          "name": "stdout"
        },
        {
          "output_type": "execute_result",
          "data": {
            "text/html": [
              "<div>\n",
              "<style scoped>\n",
              "    .dataframe tbody tr th:only-of-type {\n",
              "        vertical-align: middle;\n",
              "    }\n",
              "\n",
              "    .dataframe tbody tr th {\n",
              "        vertical-align: top;\n",
              "    }\n",
              "\n",
              "    .dataframe thead th {\n",
              "        text-align: right;\n",
              "    }\n",
              "</style>\n",
              "<table border=\"1\" class=\"dataframe\">\n",
              "  <thead>\n",
              "    <tr style=\"text-align: right;\">\n",
              "      <th></th>\n",
              "      <th>High</th>\n",
              "      <th>Low</th>\n",
              "      <th>Open</th>\n",
              "      <th>Close</th>\n",
              "      <th>Volume</th>\n",
              "      <th>triple_barrier_signal</th>\n",
              "      <th>RSI</th>\n",
              "    </tr>\n",
              "    <tr>\n",
              "      <th>Date</th>\n",
              "      <th></th>\n",
              "      <th></th>\n",
              "      <th></th>\n",
              "      <th></th>\n",
              "      <th></th>\n",
              "      <th></th>\n",
              "      <th></th>\n",
              "    </tr>\n",
              "  </thead>\n",
              "  <tbody>\n",
              "    <tr>\n",
              "      <th>2019-09-02</th>\n",
              "      <td>32.049999</td>\n",
              "      <td>31.90</td>\n",
              "      <td>31.900000</td>\n",
              "      <td>32.000000</td>\n",
              "      <td>54000.0</td>\n",
              "      <td>0</td>\n",
              "      <td>38.863748</td>\n",
              "    </tr>\n",
              "    <tr>\n",
              "      <th>2019-09-03</th>\n",
              "      <td>31.700001</td>\n",
              "      <td>31.60</td>\n",
              "      <td>31.700001</td>\n",
              "      <td>31.600000</td>\n",
              "      <td>3500.0</td>\n",
              "      <td>0</td>\n",
              "      <td>31.372033</td>\n",
              "    </tr>\n",
              "    <tr>\n",
              "      <th>2019-09-04</th>\n",
              "      <td>32.299999</td>\n",
              "      <td>31.35</td>\n",
              "      <td>31.350000</td>\n",
              "      <td>31.900000</td>\n",
              "      <td>349114.0</td>\n",
              "      <td>0</td>\n",
              "      <td>41.183699</td>\n",
              "    </tr>\n",
              "    <tr>\n",
              "      <th>2019-09-05</th>\n",
              "      <td>31.900000</td>\n",
              "      <td>31.50</td>\n",
              "      <td>31.900000</td>\n",
              "      <td>31.500000</td>\n",
              "      <td>22002.0</td>\n",
              "      <td>0</td>\n",
              "      <td>33.758444</td>\n",
              "    </tr>\n",
              "    <tr>\n",
              "      <th>2019-09-06</th>\n",
              "      <td>33.200001</td>\n",
              "      <td>31.50</td>\n",
              "      <td>31.500000</td>\n",
              "      <td>32.849998</td>\n",
              "      <td>1559169.0</td>\n",
              "      <td>0</td>\n",
              "      <td>61.082774</td>\n",
              "    </tr>\n",
              "  </tbody>\n",
              "</table>\n",
              "</div>"
            ],
            "text/plain": [
              "                 High    Low  ...  triple_barrier_signal        RSI\n",
              "Date                          ...                                  \n",
              "2019-09-02  32.049999  31.90  ...                      0  38.863748\n",
              "2019-09-03  31.700001  31.60  ...                      0  31.372033\n",
              "2019-09-04  32.299999  31.35  ...                      0  41.183699\n",
              "2019-09-05  31.900000  31.50  ...                      0  33.758444\n",
              "2019-09-06  33.200001  31.50  ...                      0  61.082774\n",
              "\n",
              "[5 rows x 7 columns]"
            ]
          },
          "metadata": {
            "tags": []
          },
          "execution_count": 9
        },
        {
          "output_type": "display_data",
          "data": {
            "image/png": "[encoded data removed]",
            "text/plain": [
              "<Figure size 432x288 with 1 Axes>"
            ]
          },
          "metadata": {
            "tags": []
          }
        }
      ]
    },
    {
      "cell_type": "markdown",
      "metadata": {
        "id": "fZXZuQe93pJE",
        "colab_type": "text"
      },
      "source": [
        "# 計算威廉指標"
      ]
    },
    {
      "cell_type": "code",
      "metadata": {
        "id": "Q8_qx-dnfPJa",
        "colab_type": "code",
        "colab": {
          "base_uri": "https://localhost:8080/",
          "height": 655
        },
        "outputId": "321259cb-3077-47a9-8761-8c0f8f22649b"
      },
      "source": [
        "df['Williams %R'] = TA.WILLIAMS(ohlcv)\n",
        "print(df['Williams %R'].describe())\n",
        "sns.distplot(df['Williams %R'].dropna())\n",
        "df.tail()"
      ],
      "execution_count": 10,
      "outputs": [
        {
          "output_type": "stream",
          "text": [
            "count    4795.000000\n",
            "mean      -55.578010\n",
            "std        29.490875\n",
            "min      -100.000000\n",
            "25%       -80.465251\n",
            "50%       -59.374580\n",
            "75%       -31.706752\n",
            "max        -0.000000\n",
            "Name: Williams %R, dtype: float64\n"
          ],
          "name": "stdout"
        },
        {
          "output_type": "execute_result",
          "data": {
            "text/html": [
              "<div>\n",
              "<style scoped>\n",
              "    .dataframe tbody tr th:only-of-type {\n",
              "        vertical-align: middle;\n",
              "    }\n",
              "\n",
              "    .dataframe tbody tr th {\n",
              "        vertical-align: top;\n",
              "    }\n",
              "\n",
              "    .dataframe thead th {\n",
              "        text-align: right;\n",
              "    }\n",
              "</style>\n",
              "<table border=\"1\" class=\"dataframe\">\n",
              "  <thead>\n",
              "    <tr style=\"text-align: right;\">\n",
              "      <th></th>\n",
              "      <th>High</th>\n",
              "      <th>Low</th>\n",
              "      <th>Open</th>\n",
              "      <th>Close</th>\n",
              "      <th>Volume</th>\n",
              "      <th>triple_barrier_signal</th>\n",
              "      <th>RSI</th>\n",
              "      <th>Williams %R</th>\n",
              "    </tr>\n",
              "    <tr>\n",
              "      <th>Date</th>\n",
              "      <th></th>\n",
              "      <th></th>\n",
              "      <th></th>\n",
              "      <th></th>\n",
              "      <th></th>\n",
              "      <th></th>\n",
              "      <th></th>\n",
              "      <th></th>\n",
              "    </tr>\n",
              "  </thead>\n",
              "  <tbody>\n",
              "    <tr>\n",
              "      <th>2019-09-02</th>\n",
              "      <td>32.049999</td>\n",
              "      <td>31.90</td>\n",
              "      <td>31.900000</td>\n",
              "      <td>32.000000</td>\n",
              "      <td>54000.0</td>\n",
              "      <td>0</td>\n",
              "      <td>38.863748</td>\n",
              "      <td>-74.074053</td>\n",
              "    </tr>\n",
              "    <tr>\n",
              "      <th>2019-09-03</th>\n",
              "      <td>31.700001</td>\n",
              "      <td>31.60</td>\n",
              "      <td>31.700001</td>\n",
              "      <td>31.600000</td>\n",
              "      <td>3500.0</td>\n",
              "      <td>0</td>\n",
              "      <td>31.372033</td>\n",
              "      <td>-88.888850</td>\n",
              "    </tr>\n",
              "    <tr>\n",
              "      <th>2019-09-04</th>\n",
              "      <td>32.299999</td>\n",
              "      <td>31.35</td>\n",
              "      <td>31.350000</td>\n",
              "      <td>31.900000</td>\n",
              "      <td>349114.0</td>\n",
              "      <td>0</td>\n",
              "      <td>41.183699</td>\n",
              "      <td>-77.777770</td>\n",
              "    </tr>\n",
              "    <tr>\n",
              "      <th>2019-09-05</th>\n",
              "      <td>31.900000</td>\n",
              "      <td>31.50</td>\n",
              "      <td>31.900000</td>\n",
              "      <td>31.500000</td>\n",
              "      <td>22002.0</td>\n",
              "      <td>0</td>\n",
              "      <td>33.758444</td>\n",
              "      <td>-92.592566</td>\n",
              "    </tr>\n",
              "    <tr>\n",
              "      <th>2019-09-06</th>\n",
              "      <td>33.200001</td>\n",
              "      <td>31.50</td>\n",
              "      <td>31.500000</td>\n",
              "      <td>32.849998</td>\n",
              "      <td>1559169.0</td>\n",
              "      <td>0</td>\n",
              "      <td>61.082774</td>\n",
              "      <td>-42.592637</td>\n",
              "    </tr>\n",
              "  </tbody>\n",
              "</table>\n",
              "</div>"
            ],
            "text/plain": [
              "                 High    Low  ...        RSI  Williams %R\n",
              "Date                          ...                        \n",
              "2019-09-02  32.049999  31.90  ...  38.863748   -74.074053\n",
              "2019-09-03  31.700001  31.60  ...  31.372033   -88.888850\n",
              "2019-09-04  32.299999  31.35  ...  41.183699   -77.777770\n",
              "2019-09-05  31.900000  31.50  ...  33.758444   -92.592566\n",
              "2019-09-06  33.200001  31.50  ...  61.082774   -42.592637\n",
              "\n",
              "[5 rows x 8 columns]"
            ]
          },
          "metadata": {
            "tags": []
          },
          "execution_count": 10
        },
        {
          "output_type": "display_data",
          "data": {
            "image/png": "[encoded data removed]",
            "text/plain": [
              "<Figure size 432x288 with 1 Axes>"
            ]
          },
          "metadata": {
            "tags": []
          }
        }
      ]
    },
    {
      "cell_type": "markdown",
      "metadata": {
        "id": "xK4jb6KTDdGa",
        "colab_type": "text"
      },
      "source": [
        "# SMA"
      ]
    },
    {
      "cell_type": "code",
      "metadata": {
        "id": "osETw-NkfgfL",
        "colab_type": "code",
        "outputId": "0fbe7c22-5f23-4996-a910-fe0f1cf96c98",
        "colab": {
          "base_uri": "https://localhost:8080/",
          "height": 655
        }
      },
      "source": [
        "df['SMA'] = TA.SMA(ohlcv)\n",
        "print(df['SMA'].describe())\n",
        "sns.distplot(df['SMA'].dropna())\n",
        "df.tail()"
      ],
      "execution_count": 11,
      "outputs": [
        {
          "output_type": "stream",
          "text": [
            "count    4807.000000\n",
            "mean       15.787358\n",
            "std         9.513486\n",
            "min         2.682878\n",
            "25%         9.070213\n",
            "50%        12.682983\n",
            "75%        20.537444\n",
            "max        44.206675\n",
            "Name: SMA, dtype: float64\n"
          ],
          "name": "stdout"
        },
        {
          "output_type": "execute_result",
          "data": {
            "text/html": [
              "<div>\n",
              "<style scoped>\n",
              "    .dataframe tbody tr th:only-of-type {\n",
              "        vertical-align: middle;\n",
              "    }\n",
              "\n",
              "    .dataframe tbody tr th {\n",
              "        vertical-align: top;\n",
              "    }\n",
              "\n",
              "    .dataframe thead th {\n",
              "        text-align: right;\n",
              "    }\n",
              "</style>\n",
              "<table border=\"1\" class=\"dataframe\">\n",
              "  <thead>\n",
              "    <tr style=\"text-align: right;\">\n",
              "      <th></th>\n",
              "      <th>High</th>\n",
              "      <th>Low</th>\n",
              "      <th>Open</th>\n",
              "      <th>Close</th>\n",
              "      <th>Volume</th>\n",
              "      <th>triple_barrier_signal</th>\n",
              "      <th>RSI</th>\n",
              "      <th>Williams %R</th>\n",
              "      <th>SMA</th>\n",
              "    </tr>\n",
              "    <tr>\n",
              "      <th>Date</th>\n",
              "      <th></th>\n",
              "      <th></th>\n",
              "      <th></th>\n",
              "      <th></th>\n",
              "      <th></th>\n",
              "      <th></th>\n",
              "      <th></th>\n",
              "      <th></th>\n",
              "      <th></th>\n",
              "    </tr>\n",
              "  </thead>\n",
              "  <tbody>\n",
              "    <tr>\n",
              "      <th>2019-09-02</th>\n",
              "      <td>32.049999</td>\n",
              "      <td>31.90</td>\n",
              "      <td>31.900000</td>\n",
              "      <td>32.000000</td>\n",
              "      <td>54000.0</td>\n",
              "      <td>0</td>\n",
              "      <td>38.863748</td>\n",
              "      <td>-74.074053</td>\n",
              "      <td>32.984147</td>\n",
              "    </tr>\n",
              "    <tr>\n",
              "      <th>2019-09-03</th>\n",
              "      <td>31.700001</td>\n",
              "      <td>31.60</td>\n",
              "      <td>31.700001</td>\n",
              "      <td>31.600000</td>\n",
              "      <td>3500.0</td>\n",
              "      <td>0</td>\n",
              "      <td>31.372033</td>\n",
              "      <td>-88.888850</td>\n",
              "      <td>32.928049</td>\n",
              "    </tr>\n",
              "    <tr>\n",
              "      <th>2019-09-04</th>\n",
              "      <td>32.299999</td>\n",
              "      <td>31.35</td>\n",
              "      <td>31.350000</td>\n",
              "      <td>31.900000</td>\n",
              "      <td>349114.0</td>\n",
              "      <td>0</td>\n",
              "      <td>41.183699</td>\n",
              "      <td>-77.777770</td>\n",
              "      <td>32.896342</td>\n",
              "    </tr>\n",
              "    <tr>\n",
              "      <th>2019-09-05</th>\n",
              "      <td>31.900000</td>\n",
              "      <td>31.50</td>\n",
              "      <td>31.900000</td>\n",
              "      <td>31.500000</td>\n",
              "      <td>22002.0</td>\n",
              "      <td>0</td>\n",
              "      <td>33.758444</td>\n",
              "      <td>-92.592566</td>\n",
              "      <td>32.871952</td>\n",
              "    </tr>\n",
              "    <tr>\n",
              "      <th>2019-09-06</th>\n",
              "      <td>33.200001</td>\n",
              "      <td>31.50</td>\n",
              "      <td>31.500000</td>\n",
              "      <td>32.849998</td>\n",
              "      <td>1559169.0</td>\n",
              "      <td>0</td>\n",
              "      <td>61.082774</td>\n",
              "      <td>-42.592637</td>\n",
              "      <td>32.867073</td>\n",
              "    </tr>\n",
              "  </tbody>\n",
              "</table>\n",
              "</div>"
            ],
            "text/plain": [
              "                 High    Low       Open  ...        RSI  Williams %R        SMA\n",
              "Date                                     ...                                   \n",
              "2019-09-02  32.049999  31.90  31.900000  ...  38.863748   -74.074053  32.984147\n",
              "2019-09-03  31.700001  31.60  31.700001  ...  31.372033   -88.888850  32.928049\n",
              "2019-09-04  32.299999  31.35  31.350000  ...  41.183699   -77.777770  32.896342\n",
              "2019-09-05  31.900000  31.50  31.900000  ...  33.758444   -92.592566  32.871952\n",
              "2019-09-06  33.200001  31.50  31.500000  ...  61.082774   -42.592637  32.867073\n",
              "\n",
              "[5 rows x 9 columns]"
            ]
          },
          "metadata": {
            "tags": []
          },
          "execution_count": 11
        },
        {
          "output_type": "display_data",
          "data": {
            "image/png": "[encoded data removed]",
            "text/plain": [
              "<Figure size 432x288 with 1 Axes>"
            ]
          },
          "metadata": {
            "tags": []
          }
        }
      ]
    },
    {
      "cell_type": "markdown",
      "metadata": {
        "id": "a2Mf0ckEoHC_",
        "colab_type": "text"
      },
      "source": [
        "# EMA"
      ]
    },
    {
      "cell_type": "code",
      "metadata": {
        "id": "EQlFyJLeh4WA",
        "colab_type": "code",
        "outputId": "1a00ead5-39da-45e9-ab67-4ec318436fa7",
        "colab": {
          "base_uri": "https://localhost:8080/",
          "height": 655
        }
      },
      "source": [
        "df['EMA'] = TA.EMA(ohlcv)\n",
        "print(df['EMA'].describe())\n",
        "sns.distplot(df['EMA'])\n",
        "df.tail()"
      ],
      "execution_count": 12,
      "outputs": [
        {
          "output_type": "stream",
          "text": [
            "count    4847.000000\n",
            "mean       15.862510\n",
            "std         9.626888\n",
            "min         2.561923\n",
            "25%         9.036171\n",
            "50%        12.642330\n",
            "75%        20.472422\n",
            "max        47.856332\n",
            "Name: EMA, dtype: float64\n"
          ],
          "name": "stdout"
        },
        {
          "output_type": "execute_result",
          "data": {
            "text/html": [
              "<div>\n",
              "<style scoped>\n",
              "    .dataframe tbody tr th:only-of-type {\n",
              "        vertical-align: middle;\n",
              "    }\n",
              "\n",
              "    .dataframe tbody tr th {\n",
              "        vertical-align: top;\n",
              "    }\n",
              "\n",
              "    .dataframe thead th {\n",
              "        text-align: right;\n",
              "    }\n",
              "</style>\n",
              "<table border=\"1\" class=\"dataframe\">\n",
              "  <thead>\n",
              "    <tr style=\"text-align: right;\">\n",
              "      <th></th>\n",
              "      <th>High</th>\n",
              "      <th>Low</th>\n",
              "      <th>Open</th>\n",
              "      <th>Close</th>\n",
              "      <th>Volume</th>\n",
              "      <th>triple_barrier_signal</th>\n",
              "      <th>RSI</th>\n",
              "      <th>Williams %R</th>\n",
              "      <th>SMA</th>\n",
              "      <th>EMA</th>\n",
              "    </tr>\n",
              "    <tr>\n",
              "      <th>Date</th>\n",
              "      <th></th>\n",
              "      <th></th>\n",
              "      <th></th>\n",
              "      <th></th>\n",
              "      <th></th>\n",
              "      <th></th>\n",
              "      <th></th>\n",
              "      <th></th>\n",
              "      <th></th>\n",
              "      <th></th>\n",
              "    </tr>\n",
              "  </thead>\n",
              "  <tbody>\n",
              "    <tr>\n",
              "      <th>2019-09-02</th>\n",
              "      <td>32.049999</td>\n",
              "      <td>31.90</td>\n",
              "      <td>31.900000</td>\n",
              "      <td>32.000000</td>\n",
              "      <td>54000.0</td>\n",
              "      <td>0</td>\n",
              "      <td>38.863748</td>\n",
              "      <td>-74.074053</td>\n",
              "      <td>32.984147</td>\n",
              "      <td>32.161319</td>\n",
              "    </tr>\n",
              "    <tr>\n",
              "      <th>2019-09-03</th>\n",
              "      <td>31.700001</td>\n",
              "      <td>31.60</td>\n",
              "      <td>31.700001</td>\n",
              "      <td>31.600000</td>\n",
              "      <td>3500.0</td>\n",
              "      <td>0</td>\n",
              "      <td>31.372033</td>\n",
              "      <td>-88.888850</td>\n",
              "      <td>32.928049</td>\n",
              "      <td>32.049055</td>\n",
              "    </tr>\n",
              "    <tr>\n",
              "      <th>2019-09-04</th>\n",
              "      <td>32.299999</td>\n",
              "      <td>31.35</td>\n",
              "      <td>31.350000</td>\n",
              "      <td>31.900000</td>\n",
              "      <td>349114.0</td>\n",
              "      <td>0</td>\n",
              "      <td>41.183699</td>\n",
              "      <td>-77.777770</td>\n",
              "      <td>32.896342</td>\n",
              "      <td>32.019244</td>\n",
              "    </tr>\n",
              "    <tr>\n",
              "      <th>2019-09-05</th>\n",
              "      <td>31.900000</td>\n",
              "      <td>31.50</td>\n",
              "      <td>31.900000</td>\n",
              "      <td>31.500000</td>\n",
              "      <td>22002.0</td>\n",
              "      <td>0</td>\n",
              "      <td>33.758444</td>\n",
              "      <td>-92.592566</td>\n",
              "      <td>32.871952</td>\n",
              "      <td>31.915395</td>\n",
              "    </tr>\n",
              "    <tr>\n",
              "      <th>2019-09-06</th>\n",
              "      <td>33.200001</td>\n",
              "      <td>31.50</td>\n",
              "      <td>31.500000</td>\n",
              "      <td>32.849998</td>\n",
              "      <td>1559169.0</td>\n",
              "      <td>0</td>\n",
              "      <td>61.082774</td>\n",
              "      <td>-42.592637</td>\n",
              "      <td>32.867073</td>\n",
              "      <td>32.102316</td>\n",
              "    </tr>\n",
              "  </tbody>\n",
              "</table>\n",
              "</div>"
            ],
            "text/plain": [
              "                 High    Low       Open  ...  Williams %R        SMA        EMA\n",
              "Date                                     ...                                   \n",
              "2019-09-02  32.049999  31.90  31.900000  ...   -74.074053  32.984147  32.161319\n",
              "2019-09-03  31.700001  31.60  31.700001  ...   -88.888850  32.928049  32.049055\n",
              "2019-09-04  32.299999  31.35  31.350000  ...   -77.777770  32.896342  32.019244\n",
              "2019-09-05  31.900000  31.50  31.900000  ...   -92.592566  32.871952  31.915395\n",
              "2019-09-06  33.200001  31.50  31.500000  ...   -42.592637  32.867073  32.102316\n",
              "\n",
              "[5 rows x 10 columns]"
            ]
          },
          "metadata": {
            "tags": []
          },
          "execution_count": 12
        },
        {
          "output_type": "display_data",
          "data": {
            "image/png": "[encoded data removed]",
            "text/plain": [
              "<Figure size 432x288 with 1 Axes>"
            ]
          },
          "metadata": {
            "tags": []
          }
        }
      ]
    },
    {
      "cell_type": "markdown",
      "metadata": {
        "id": "wqkaWfQryV3W",
        "colab_type": "text"
      },
      "source": [
        "# WMA"
      ]
    },
    {
      "cell_type": "code",
      "metadata": {
        "id": "9Dw9scCSieLI",
        "colab_type": "code",
        "outputId": "5bf3964e-2883-46cd-d40b-48afe3608260",
        "colab": {
          "base_uri": "https://localhost:8080/",
          "height": 709
        }
      },
      "source": [
        "df['WMA'] = TA.WMA(ohlcv)\n",
        "print(df['WMA'].describe())\n",
        "sns.distplot(df['WMA'].dropna())\n",
        "df.tail()"
      ],
      "execution_count": 13,
      "outputs": [
        {
          "output_type": "stream",
          "text": [
            "/usr/local/lib/python3.6/dist-packages/finta/finta.py:263: FutureWarning: Currently, 'apply' passes the values as ndarrays to the applied function. In the future, this will change to passing it as Series objects. You need to specify 'raw=True' to keep the current behaviour, and you can pass 'raw=False' to silence this warning\n",
            "  wma = close_.apply(linear(weights))\n"
          ],
          "name": "stderr"
        },
        {
          "output_type": "stream",
          "text": [
            "count    4839.000000\n",
            "mean       15.854952\n",
            "std         9.651323\n",
            "min         2.552904\n",
            "25%         8.988392\n",
            "50%        12.622600\n",
            "75%        20.377467\n",
            "max        49.100723\n",
            "Name: WMA, dtype: float64\n"
          ],
          "name": "stdout"
        },
        {
          "output_type": "execute_result",
          "data": {
            "text/html": [
              "<div>\n",
              "<style scoped>\n",
              "    .dataframe tbody tr th:only-of-type {\n",
              "        vertical-align: middle;\n",
              "    }\n",
              "\n",
              "    .dataframe tbody tr th {\n",
              "        vertical-align: top;\n",
              "    }\n",
              "\n",
              "    .dataframe thead th {\n",
              "        text-align: right;\n",
              "    }\n",
              "</style>\n",
              "<table border=\"1\" class=\"dataframe\">\n",
              "  <thead>\n",
              "    <tr style=\"text-align: right;\">\n",
              "      <th></th>\n",
              "      <th>High</th>\n",
              "      <th>Low</th>\n",
              "      <th>Open</th>\n",
              "      <th>Close</th>\n",
              "      <th>Volume</th>\n",
              "      <th>triple_barrier_signal</th>\n",
              "      <th>RSI</th>\n",
              "      <th>Williams %R</th>\n",
              "      <th>SMA</th>\n",
              "      <th>EMA</th>\n",
              "      <th>WMA</th>\n",
              "    </tr>\n",
              "    <tr>\n",
              "      <th>Date</th>\n",
              "      <th></th>\n",
              "      <th></th>\n",
              "      <th></th>\n",
              "      <th></th>\n",
              "      <th></th>\n",
              "      <th></th>\n",
              "      <th></th>\n",
              "      <th></th>\n",
              "      <th></th>\n",
              "      <th></th>\n",
              "      <th></th>\n",
              "    </tr>\n",
              "  </thead>\n",
              "  <tbody>\n",
              "    <tr>\n",
              "      <th>2019-09-02</th>\n",
              "      <td>32.049999</td>\n",
              "      <td>31.90</td>\n",
              "      <td>31.900000</td>\n",
              "      <td>32.000000</td>\n",
              "      <td>54000.0</td>\n",
              "      <td>0</td>\n",
              "      <td>38.863748</td>\n",
              "      <td>-74.074053</td>\n",
              "      <td>32.984147</td>\n",
              "      <td>32.161319</td>\n",
              "      <td>32.371112</td>\n",
              "    </tr>\n",
              "    <tr>\n",
              "      <th>2019-09-03</th>\n",
              "      <td>31.700001</td>\n",
              "      <td>31.60</td>\n",
              "      <td>31.700001</td>\n",
              "      <td>31.600000</td>\n",
              "      <td>3500.0</td>\n",
              "      <td>0</td>\n",
              "      <td>31.372033</td>\n",
              "      <td>-88.888850</td>\n",
              "      <td>32.928049</td>\n",
              "      <td>32.049055</td>\n",
              "      <td>32.141112</td>\n",
              "    </tr>\n",
              "    <tr>\n",
              "      <th>2019-09-04</th>\n",
              "      <td>32.299999</td>\n",
              "      <td>31.35</td>\n",
              "      <td>31.350000</td>\n",
              "      <td>31.900000</td>\n",
              "      <td>349114.0</td>\n",
              "      <td>0</td>\n",
              "      <td>41.183699</td>\n",
              "      <td>-77.777770</td>\n",
              "      <td>32.896342</td>\n",
              "      <td>32.019244</td>\n",
              "      <td>31.983334</td>\n",
              "    </tr>\n",
              "    <tr>\n",
              "      <th>2019-09-05</th>\n",
              "      <td>31.900000</td>\n",
              "      <td>31.50</td>\n",
              "      <td>31.900000</td>\n",
              "      <td>31.500000</td>\n",
              "      <td>22002.0</td>\n",
              "      <td>0</td>\n",
              "      <td>33.758444</td>\n",
              "      <td>-92.592566</td>\n",
              "      <td>32.871952</td>\n",
              "      <td>31.915395</td>\n",
              "      <td>31.898889</td>\n",
              "    </tr>\n",
              "    <tr>\n",
              "      <th>2019-09-06</th>\n",
              "      <td>33.200001</td>\n",
              "      <td>31.50</td>\n",
              "      <td>31.500000</td>\n",
              "      <td>32.849998</td>\n",
              "      <td>1559169.0</td>\n",
              "      <td>0</td>\n",
              "      <td>61.082774</td>\n",
              "      <td>-42.592637</td>\n",
              "      <td>32.867073</td>\n",
              "      <td>32.102316</td>\n",
              "      <td>31.827778</td>\n",
              "    </tr>\n",
              "  </tbody>\n",
              "</table>\n",
              "</div>"
            ],
            "text/plain": [
              "                 High    Low       Open  ...        SMA        EMA        WMA\n",
              "Date                                     ...                                 \n",
              "2019-09-02  32.049999  31.90  31.900000  ...  32.984147  32.161319  32.371112\n",
              "2019-09-03  31.700001  31.60  31.700001  ...  32.928049  32.049055  32.141112\n",
              "2019-09-04  32.299999  31.35  31.350000  ...  32.896342  32.019244  31.983334\n",
              "2019-09-05  31.900000  31.50  31.900000  ...  32.871952  31.915395  31.898889\n",
              "2019-09-06  33.200001  31.50  31.500000  ...  32.867073  32.102316  31.827778\n",
              "\n",
              "[5 rows x 11 columns]"
            ]
          },
          "metadata": {
            "tags": []
          },
          "execution_count": 13
        },
        {
          "output_type": "display_data",
          "data": {
            "image/png": "[encoded data removed]",
            "text/plain": [
              "<Figure size 432x288 with 1 Axes>"
            ]
          },
          "metadata": {
            "tags": []
          }
        }
      ]
    },
    {
      "cell_type": "markdown",
      "metadata": {
        "id": "HNC131ghyrF1",
        "colab_type": "text"
      },
      "source": [
        "# HMA"
      ]
    },
    {
      "cell_type": "code",
      "metadata": {
        "id": "b02O6Yevi6mN",
        "colab_type": "code",
        "outputId": "6f6eb55d-05d3-46f3-86b5-c6c87a59793a",
        "colab": {
          "base_uri": "https://localhost:8080/",
          "height": 813
        }
      },
      "source": [
        "df['HMA'] = TA.HMA(ohlcv)\n",
        "print(df['HMA'].describe())\n",
        "sns.distplot(df['HMA'].dropna())\n",
        "df.tail()"
      ],
      "execution_count": 14,
      "outputs": [
        {
          "output_type": "stream",
          "text": [
            "/usr/local/lib/python3.6/dist-packages/finta/finta.py:263: FutureWarning: Currently, 'apply' passes the values as ndarrays to the applied function. In the future, this will change to passing it as Series objects. You need to specify 'raw=True' to keep the current behaviour, and you can pass 'raw=False' to silence this warning\n",
            "  wma = close_.apply(linear(weights))\n",
            "/usr/local/lib/python3.6/dist-packages/finta/finta.py:285: SettingWithCopyWarning: \n",
            "A value is trying to be set on a copy of a slice from a DataFrame.\n",
            "Try using .loc[row_indexer,col_indexer] = value instead\n",
            "\n",
            "See the caveats in the documentation: http://pandas.pydata.org/pandas-docs/stable/indexing.html#indexing-view-versus-copy\n",
            "  ohlc['deltawma'] = 2 * wmaf - wmas\n"
          ],
          "name": "stderr"
        },
        {
          "output_type": "stream",
          "text": [
            "count    4844.000000\n",
            "mean       15.866682\n",
            "std         9.669469\n",
            "min         2.536421\n",
            "25%         8.958491\n",
            "50%        12.656880\n",
            "75%        20.320595\n",
            "max        49.568669\n",
            "Name: HMA, dtype: float64\n"
          ],
          "name": "stdout"
        },
        {
          "output_type": "execute_result",
          "data": {
            "text/html": [
              "<div>\n",
              "<style scoped>\n",
              "    .dataframe tbody tr th:only-of-type {\n",
              "        vertical-align: middle;\n",
              "    }\n",
              "\n",
              "    .dataframe tbody tr th {\n",
              "        vertical-align: top;\n",
              "    }\n",
              "\n",
              "    .dataframe thead th {\n",
              "        text-align: right;\n",
              "    }\n",
              "</style>\n",
              "<table border=\"1\" class=\"dataframe\">\n",
              "  <thead>\n",
              "    <tr style=\"text-align: right;\">\n",
              "      <th></th>\n",
              "      <th>High</th>\n",
              "      <th>Low</th>\n",
              "      <th>Open</th>\n",
              "      <th>Close</th>\n",
              "      <th>Volume</th>\n",
              "      <th>triple_barrier_signal</th>\n",
              "      <th>RSI</th>\n",
              "      <th>Williams %R</th>\n",
              "      <th>SMA</th>\n",
              "      <th>EMA</th>\n",
              "      <th>WMA</th>\n",
              "      <th>HMA</th>\n",
              "    </tr>\n",
              "    <tr>\n",
              "      <th>Date</th>\n",
              "      <th></th>\n",
              "      <th></th>\n",
              "      <th></th>\n",
              "      <th></th>\n",
              "      <th></th>\n",
              "      <th></th>\n",
              "      <th></th>\n",
              "      <th></th>\n",
              "      <th></th>\n",
              "      <th></th>\n",
              "      <th></th>\n",
              "      <th></th>\n",
              "    </tr>\n",
              "  </thead>\n",
              "  <tbody>\n",
              "    <tr>\n",
              "      <th>2019-09-02</th>\n",
              "      <td>32.049999</td>\n",
              "      <td>31.90</td>\n",
              "      <td>31.900000</td>\n",
              "      <td>32.000000</td>\n",
              "      <td>54000.0</td>\n",
              "      <td>0</td>\n",
              "      <td>38.863748</td>\n",
              "      <td>-74.074053</td>\n",
              "      <td>32.984147</td>\n",
              "      <td>32.161319</td>\n",
              "      <td>32.371112</td>\n",
              "      <td>31.775001</td>\n",
              "    </tr>\n",
              "    <tr>\n",
              "      <th>2019-09-03</th>\n",
              "      <td>31.700001</td>\n",
              "      <td>31.60</td>\n",
              "      <td>31.700001</td>\n",
              "      <td>31.600000</td>\n",
              "      <td>3500.0</td>\n",
              "      <td>0</td>\n",
              "      <td>31.372033</td>\n",
              "      <td>-88.888850</td>\n",
              "      <td>32.928049</td>\n",
              "      <td>32.049055</td>\n",
              "      <td>32.141112</td>\n",
              "      <td>31.685000</td>\n",
              "    </tr>\n",
              "    <tr>\n",
              "      <th>2019-09-04</th>\n",
              "      <td>32.299999</td>\n",
              "      <td>31.35</td>\n",
              "      <td>31.350000</td>\n",
              "      <td>31.900000</td>\n",
              "      <td>349114.0</td>\n",
              "      <td>0</td>\n",
              "      <td>41.183699</td>\n",
              "      <td>-77.777770</td>\n",
              "      <td>32.896342</td>\n",
              "      <td>32.019244</td>\n",
              "      <td>31.983334</td>\n",
              "      <td>31.890000</td>\n",
              "    </tr>\n",
              "    <tr>\n",
              "      <th>2019-09-05</th>\n",
              "      <td>31.900000</td>\n",
              "      <td>31.50</td>\n",
              "      <td>31.900000</td>\n",
              "      <td>31.500000</td>\n",
              "      <td>22002.0</td>\n",
              "      <td>0</td>\n",
              "      <td>33.758444</td>\n",
              "      <td>-92.592566</td>\n",
              "      <td>32.871952</td>\n",
              "      <td>31.915395</td>\n",
              "      <td>31.898889</td>\n",
              "      <td>31.810000</td>\n",
              "    </tr>\n",
              "    <tr>\n",
              "      <th>2019-09-06</th>\n",
              "      <td>33.200001</td>\n",
              "      <td>31.50</td>\n",
              "      <td>31.500000</td>\n",
              "      <td>32.849998</td>\n",
              "      <td>1559169.0</td>\n",
              "      <td>0</td>\n",
              "      <td>61.082774</td>\n",
              "      <td>-42.592637</td>\n",
              "      <td>32.867073</td>\n",
              "      <td>32.102316</td>\n",
              "      <td>31.827778</td>\n",
              "      <td>31.795000</td>\n",
              "    </tr>\n",
              "  </tbody>\n",
              "</table>\n",
              "</div>"
            ],
            "text/plain": [
              "                 High    Low       Open  ...        EMA        WMA        HMA\n",
              "Date                                     ...                                 \n",
              "2019-09-02  32.049999  31.90  31.900000  ...  32.161319  32.371112  31.775001\n",
              "2019-09-03  31.700001  31.60  31.700001  ...  32.049055  32.141112  31.685000\n",
              "2019-09-04  32.299999  31.35  31.350000  ...  32.019244  31.983334  31.890000\n",
              "2019-09-05  31.900000  31.50  31.900000  ...  31.915395  31.898889  31.810000\n",
              "2019-09-06  33.200001  31.50  31.500000  ...  32.102316  31.827778  31.795000\n",
              "\n",
              "[5 rows x 12 columns]"
            ]
          },
          "metadata": {
            "tags": []
          },
          "execution_count": 14
        },
        {
          "output_type": "display_data",
          "data": {
            "image/png": "[encoded data removed]",
            "text/plain": [
              "<Figure size 432x288 with 1 Axes>"
            ]
          },
          "metadata": {
            "tags": []
          }
        }
      ]
    },
    {
      "cell_type": "markdown",
      "metadata": {
        "id": "ch7SZ7aFjCit",
        "colab_type": "text"
      },
      "source": [
        "# TEMA"
      ]
    },
    {
      "cell_type": "code",
      "metadata": {
        "id": "GeS0aHxZjFtA",
        "colab_type": "code",
        "outputId": "b4624bd0-2888-42a0-f3a1-2a9e841a9c3e",
        "colab": {
          "base_uri": "https://localhost:8080/",
          "height": 779
        }
      },
      "source": [
        "df['TEMA'] = TA.TEMA(ohlcv)\n",
        "print(df['TEMA'].describe())\n",
        "sns.distplot(df['TEMA'].dropna())\n",
        "df.tail()"
      ],
      "execution_count": 15,
      "outputs": [
        {
          "output_type": "stream",
          "text": [
            "count    4847.000000\n",
            "mean       15.873784\n",
            "std         9.690745\n",
            "min         2.510762\n",
            "25%         8.928692\n",
            "50%        12.617293\n",
            "75%        20.298771\n",
            "max        50.758203\n",
            "Name: TEMA, dtype: float64\n"
          ],
          "name": "stdout"
        },
        {
          "output_type": "execute_result",
          "data": {
            "text/html": [
              "<div>\n",
              "<style scoped>\n",
              "    .dataframe tbody tr th:only-of-type {\n",
              "        vertical-align: middle;\n",
              "    }\n",
              "\n",
              "    .dataframe tbody tr th {\n",
              "        vertical-align: top;\n",
              "    }\n",
              "\n",
              "    .dataframe thead th {\n",
              "        text-align: right;\n",
              "    }\n",
              "</style>\n",
              "<table border=\"1\" class=\"dataframe\">\n",
              "  <thead>\n",
              "    <tr style=\"text-align: right;\">\n",
              "      <th></th>\n",
              "      <th>High</th>\n",
              "      <th>Low</th>\n",
              "      <th>Open</th>\n",
              "      <th>Close</th>\n",
              "      <th>Volume</th>\n",
              "      <th>triple_barrier_signal</th>\n",
              "      <th>RSI</th>\n",
              "      <th>Williams %R</th>\n",
              "      <th>SMA</th>\n",
              "      <th>EMA</th>\n",
              "      <th>WMA</th>\n",
              "      <th>HMA</th>\n",
              "      <th>TEMA</th>\n",
              "    </tr>\n",
              "    <tr>\n",
              "      <th>Date</th>\n",
              "      <th></th>\n",
              "      <th></th>\n",
              "      <th></th>\n",
              "      <th></th>\n",
              "      <th></th>\n",
              "      <th></th>\n",
              "      <th></th>\n",
              "      <th></th>\n",
              "      <th></th>\n",
              "      <th></th>\n",
              "      <th></th>\n",
              "      <th></th>\n",
              "      <th></th>\n",
              "    </tr>\n",
              "  </thead>\n",
              "  <tbody>\n",
              "    <tr>\n",
              "      <th>2019-09-02</th>\n",
              "      <td>32.049999</td>\n",
              "      <td>31.90</td>\n",
              "      <td>31.900000</td>\n",
              "      <td>32.000000</td>\n",
              "      <td>54000.0</td>\n",
              "      <td>0</td>\n",
              "      <td>38.863748</td>\n",
              "      <td>-74.074053</td>\n",
              "      <td>32.984147</td>\n",
              "      <td>32.161319</td>\n",
              "      <td>32.371112</td>\n",
              "      <td>31.775001</td>\n",
              "      <td>31.696991</td>\n",
              "    </tr>\n",
              "    <tr>\n",
              "      <th>2019-09-03</th>\n",
              "      <td>31.700001</td>\n",
              "      <td>31.60</td>\n",
              "      <td>31.700001</td>\n",
              "      <td>31.600000</td>\n",
              "      <td>3500.0</td>\n",
              "      <td>0</td>\n",
              "      <td>31.372033</td>\n",
              "      <td>-88.888850</td>\n",
              "      <td>32.928049</td>\n",
              "      <td>32.049055</td>\n",
              "      <td>32.141112</td>\n",
              "      <td>31.685000</td>\n",
              "      <td>31.578322</td>\n",
              "    </tr>\n",
              "    <tr>\n",
              "      <th>2019-09-04</th>\n",
              "      <td>32.299999</td>\n",
              "      <td>31.35</td>\n",
              "      <td>31.350000</td>\n",
              "      <td>31.900000</td>\n",
              "      <td>349114.0</td>\n",
              "      <td>0</td>\n",
              "      <td>41.183699</td>\n",
              "      <td>-77.777770</td>\n",
              "      <td>32.896342</td>\n",
              "      <td>32.019244</td>\n",
              "      <td>31.983334</td>\n",
              "      <td>31.890000</td>\n",
              "      <td>31.664011</td>\n",
              "    </tr>\n",
              "    <tr>\n",
              "      <th>2019-09-05</th>\n",
              "      <td>31.900000</td>\n",
              "      <td>31.50</td>\n",
              "      <td>31.900000</td>\n",
              "      <td>31.500000</td>\n",
              "      <td>22002.0</td>\n",
              "      <td>0</td>\n",
              "      <td>33.758444</td>\n",
              "      <td>-92.592566</td>\n",
              "      <td>32.871952</td>\n",
              "      <td>31.915395</td>\n",
              "      <td>31.898889</td>\n",
              "      <td>31.810000</td>\n",
              "      <td>31.536907</td>\n",
              "    </tr>\n",
              "    <tr>\n",
              "      <th>2019-09-06</th>\n",
              "      <td>33.200001</td>\n",
              "      <td>31.50</td>\n",
              "      <td>31.500000</td>\n",
              "      <td>32.849998</td>\n",
              "      <td>1559169.0</td>\n",
              "      <td>0</td>\n",
              "      <td>61.082774</td>\n",
              "      <td>-42.592637</td>\n",
              "      <td>32.867073</td>\n",
              "      <td>32.102316</td>\n",
              "      <td>31.827778</td>\n",
              "      <td>31.795000</td>\n",
              "      <td>32.126176</td>\n",
              "    </tr>\n",
              "  </tbody>\n",
              "</table>\n",
              "</div>"
            ],
            "text/plain": [
              "                 High    Low       Open  ...        WMA        HMA       TEMA\n",
              "Date                                     ...                                 \n",
              "2019-09-02  32.049999  31.90  31.900000  ...  32.371112  31.775001  31.696991\n",
              "2019-09-03  31.700001  31.60  31.700001  ...  32.141112  31.685000  31.578322\n",
              "2019-09-04  32.299999  31.35  31.350000  ...  31.983334  31.890000  31.664011\n",
              "2019-09-05  31.900000  31.50  31.900000  ...  31.898889  31.810000  31.536907\n",
              "2019-09-06  33.200001  31.50  31.500000  ...  31.827778  31.795000  32.126176\n",
              "\n",
              "[5 rows x 13 columns]"
            ]
          },
          "metadata": {
            "tags": []
          },
          "execution_count": 15
        },
        {
          "output_type": "display_data",
          "data": {
            "image/png": "[encoded data removed]",
            "text/plain": [
              "<Figure size 432x288 with 1 Axes>"
            ]
          },
          "metadata": {
            "tags": []
          }
        }
      ]
    },
    {
      "cell_type": "markdown",
      "metadata": {
        "id": "EbMrqw5jjZaa",
        "colab_type": "text"
      },
      "source": [
        "# CCI"
      ]
    },
    {
      "cell_type": "code",
      "metadata": {
        "id": "WBfeDdkUjZiP",
        "colab_type": "code",
        "outputId": "1a5fb476-923c-4213-f8ad-1114c5519f57",
        "colab": {
          "base_uri": "https://localhost:8080/",
          "height": 779
        }
      },
      "source": [
        "df['CCI'] = TA.CCI(ohlcv)\n",
        "print(df['CCI'].describe())\n",
        "sns.distplot(df['CCI'].dropna())\n",
        "df.tail()"
      ],
      "execution_count": 16,
      "outputs": [
        {
          "output_type": "stream",
          "text": [
            "count    4846.000000\n",
            "mean       -8.243907\n",
            "std        90.030059\n",
            "min      -283.235277\n",
            "25%       -76.626148\n",
            "50%       -18.907437\n",
            "75%        57.323144\n",
            "max       279.380434\n",
            "Name: CCI, dtype: float64\n"
          ],
          "name": "stdout"
        },
        {
          "output_type": "execute_result",
          "data": {
            "text/html": [
              "<div>\n",
              "<style scoped>\n",
              "    .dataframe tbody tr th:only-of-type {\n",
              "        vertical-align: middle;\n",
              "    }\n",
              "\n",
              "    .dataframe tbody tr th {\n",
              "        vertical-align: top;\n",
              "    }\n",
              "\n",
              "    .dataframe thead th {\n",
              "        text-align: right;\n",
              "    }\n",
              "</style>\n",
              "<table border=\"1\" class=\"dataframe\">\n",
              "  <thead>\n",
              "    <tr style=\"text-align: right;\">\n",
              "      <th></th>\n",
              "      <th>High</th>\n",
              "      <th>Low</th>\n",
              "      <th>Open</th>\n",
              "      <th>Close</th>\n",
              "      <th>Volume</th>\n",
              "      <th>triple_barrier_signal</th>\n",
              "      <th>RSI</th>\n",
              "      <th>Williams %R</th>\n",
              "      <th>SMA</th>\n",
              "      <th>EMA</th>\n",
              "      <th>WMA</th>\n",
              "      <th>HMA</th>\n",
              "      <th>TEMA</th>\n",
              "      <th>CCI</th>\n",
              "    </tr>\n",
              "    <tr>\n",
              "      <th>Date</th>\n",
              "      <th></th>\n",
              "      <th></th>\n",
              "      <th></th>\n",
              "      <th></th>\n",
              "      <th></th>\n",
              "      <th></th>\n",
              "      <th></th>\n",
              "      <th></th>\n",
              "      <th></th>\n",
              "      <th></th>\n",
              "      <th></th>\n",
              "      <th></th>\n",
              "      <th></th>\n",
              "      <th></th>\n",
              "    </tr>\n",
              "  </thead>\n",
              "  <tbody>\n",
              "    <tr>\n",
              "      <th>2019-09-02</th>\n",
              "      <td>32.049999</td>\n",
              "      <td>31.90</td>\n",
              "      <td>31.900000</td>\n",
              "      <td>32.000000</td>\n",
              "      <td>54000.0</td>\n",
              "      <td>0</td>\n",
              "      <td>38.863748</td>\n",
              "      <td>-74.074053</td>\n",
              "      <td>32.984147</td>\n",
              "      <td>32.161319</td>\n",
              "      <td>32.371112</td>\n",
              "      <td>31.775001</td>\n",
              "      <td>31.696991</td>\n",
              "      <td>-80.257734</td>\n",
              "    </tr>\n",
              "    <tr>\n",
              "      <th>2019-09-03</th>\n",
              "      <td>31.700001</td>\n",
              "      <td>31.60</td>\n",
              "      <td>31.700001</td>\n",
              "      <td>31.600000</td>\n",
              "      <td>3500.0</td>\n",
              "      <td>0</td>\n",
              "      <td>31.372033</td>\n",
              "      <td>-88.888850</td>\n",
              "      <td>32.928049</td>\n",
              "      <td>32.049055</td>\n",
              "      <td>32.141112</td>\n",
              "      <td>31.685000</td>\n",
              "      <td>31.578322</td>\n",
              "      <td>-105.419949</td>\n",
              "    </tr>\n",
              "    <tr>\n",
              "      <th>2019-09-04</th>\n",
              "      <td>32.299999</td>\n",
              "      <td>31.35</td>\n",
              "      <td>31.350000</td>\n",
              "      <td>31.900000</td>\n",
              "      <td>349114.0</td>\n",
              "      <td>0</td>\n",
              "      <td>41.183699</td>\n",
              "      <td>-77.777770</td>\n",
              "      <td>32.896342</td>\n",
              "      <td>32.019244</td>\n",
              "      <td>31.983334</td>\n",
              "      <td>31.890000</td>\n",
              "      <td>31.664011</td>\n",
              "      <td>-74.531404</td>\n",
              "    </tr>\n",
              "    <tr>\n",
              "      <th>2019-09-05</th>\n",
              "      <td>31.900000</td>\n",
              "      <td>31.50</td>\n",
              "      <td>31.900000</td>\n",
              "      <td>31.500000</td>\n",
              "      <td>22002.0</td>\n",
              "      <td>0</td>\n",
              "      <td>33.758444</td>\n",
              "      <td>-92.592566</td>\n",
              "      <td>32.871952</td>\n",
              "      <td>31.915395</td>\n",
              "      <td>31.898889</td>\n",
              "      <td>31.810000</td>\n",
              "      <td>31.536907</td>\n",
              "      <td>-86.778797</td>\n",
              "    </tr>\n",
              "    <tr>\n",
              "      <th>2019-09-06</th>\n",
              "      <td>33.200001</td>\n",
              "      <td>31.50</td>\n",
              "      <td>31.500000</td>\n",
              "      <td>32.849998</td>\n",
              "      <td>1559169.0</td>\n",
              "      <td>0</td>\n",
              "      <td>61.082774</td>\n",
              "      <td>-42.592637</td>\n",
              "      <td>32.867073</td>\n",
              "      <td>32.102316</td>\n",
              "      <td>31.827778</td>\n",
              "      <td>31.795000</td>\n",
              "      <td>32.126176</td>\n",
              "      <td>3.100752</td>\n",
              "    </tr>\n",
              "  </tbody>\n",
              "</table>\n",
              "</div>"
            ],
            "text/plain": [
              "                 High    Low       Open  ...        HMA       TEMA         CCI\n",
              "Date                                     ...                                  \n",
              "2019-09-02  32.049999  31.90  31.900000  ...  31.775001  31.696991  -80.257734\n",
              "2019-09-03  31.700001  31.60  31.700001  ...  31.685000  31.578322 -105.419949\n",
              "2019-09-04  32.299999  31.35  31.350000  ...  31.890000  31.664011  -74.531404\n",
              "2019-09-05  31.900000  31.50  31.900000  ...  31.810000  31.536907  -86.778797\n",
              "2019-09-06  33.200001  31.50  31.500000  ...  31.795000  32.126176    3.100752\n",
              "\n",
              "[5 rows x 14 columns]"
            ]
          },
          "metadata": {
            "tags": []
          },
          "execution_count": 16
        },
        {
          "output_type": "display_data",
          "data": {
            "image/png": "[encoded data removed]",
            "text/plain": [
              "<Figure size 432x288 with 1 Axes>"
            ]
          },
          "metadata": {
            "tags": []
          }
        }
      ]
    },
    {
      "cell_type": "markdown",
      "metadata": {
        "id": "G8rAJ61cjkJ4",
        "colab_type": "text"
      },
      "source": [
        "# CMO"
      ]
    },
    {
      "cell_type": "code",
      "metadata": {
        "id": "P9EispJmjkj_",
        "colab_type": "code",
        "outputId": "1358cfc9-d33f-4429-d762-5ea2d99ee4b8",
        "colab": {
          "base_uri": "https://localhost:8080/",
          "height": 779
        }
      },
      "source": [
        "df['CMO'] = TA.CMO(ohlcv)\n",
        "print(df['CMO'].describe())\n",
        "sns.distplot(df['CMO'].dropna())\n",
        "df.tail()"
      ],
      "execution_count": 17,
      "outputs": [
        {
          "output_type": "stream",
          "text": [
            "count    4794.000000\n",
            "mean       -5.615308\n",
            "std        46.006530\n",
            "min      -100.000000\n",
            "25%       -39.998161\n",
            "50%        -6.122256\n",
            "75%        25.872357\n",
            "max       100.000000\n",
            "Name: CMO, dtype: float64\n"
          ],
          "name": "stdout"
        },
        {
          "output_type": "execute_result",
          "data": {
            "text/html": [
              "<div>\n",
              "<style scoped>\n",
              "    .dataframe tbody tr th:only-of-type {\n",
              "        vertical-align: middle;\n",
              "    }\n",
              "\n",
              "    .dataframe tbody tr th {\n",
              "        vertical-align: top;\n",
              "    }\n",
              "\n",
              "    .dataframe thead th {\n",
              "        text-align: right;\n",
              "    }\n",
              "</style>\n",
              "<table border=\"1\" class=\"dataframe\">\n",
              "  <thead>\n",
              "    <tr style=\"text-align: right;\">\n",
              "      <th></th>\n",
              "      <th>High</th>\n",
              "      <th>Low</th>\n",
              "      <th>Open</th>\n",
              "      <th>Close</th>\n",
              "      <th>Volume</th>\n",
              "      <th>triple_barrier_signal</th>\n",
              "      <th>RSI</th>\n",
              "      <th>Williams %R</th>\n",
              "      <th>SMA</th>\n",
              "      <th>EMA</th>\n",
              "      <th>WMA</th>\n",
              "      <th>HMA</th>\n",
              "      <th>TEMA</th>\n",
              "      <th>CCI</th>\n",
              "      <th>CMO</th>\n",
              "    </tr>\n",
              "    <tr>\n",
              "      <th>Date</th>\n",
              "      <th></th>\n",
              "      <th></th>\n",
              "      <th></th>\n",
              "      <th></th>\n",
              "      <th></th>\n",
              "      <th></th>\n",
              "      <th></th>\n",
              "      <th></th>\n",
              "      <th></th>\n",
              "      <th></th>\n",
              "      <th></th>\n",
              "      <th></th>\n",
              "      <th></th>\n",
              "      <th></th>\n",
              "      <th></th>\n",
              "    </tr>\n",
              "  </thead>\n",
              "  <tbody>\n",
              "    <tr>\n",
              "      <th>2019-09-02</th>\n",
              "      <td>32.049999</td>\n",
              "      <td>31.90</td>\n",
              "      <td>31.900000</td>\n",
              "      <td>32.000000</td>\n",
              "      <td>54000.0</td>\n",
              "      <td>0</td>\n",
              "      <td>38.863748</td>\n",
              "      <td>-74.074053</td>\n",
              "      <td>32.984147</td>\n",
              "      <td>32.161319</td>\n",
              "      <td>32.371112</td>\n",
              "      <td>31.775001</td>\n",
              "      <td>31.696991</td>\n",
              "      <td>-80.257734</td>\n",
              "      <td>-48.000031</td>\n",
              "    </tr>\n",
              "    <tr>\n",
              "      <th>2019-09-03</th>\n",
              "      <td>31.700001</td>\n",
              "      <td>31.60</td>\n",
              "      <td>31.700001</td>\n",
              "      <td>31.600000</td>\n",
              "      <td>3500.0</td>\n",
              "      <td>0</td>\n",
              "      <td>31.372033</td>\n",
              "      <td>-88.888850</td>\n",
              "      <td>32.928049</td>\n",
              "      <td>32.049055</td>\n",
              "      <td>32.141112</td>\n",
              "      <td>31.685000</td>\n",
              "      <td>31.578322</td>\n",
              "      <td>-105.419949</td>\n",
              "      <td>-54.385998</td>\n",
              "    </tr>\n",
              "    <tr>\n",
              "      <th>2019-09-04</th>\n",
              "      <td>32.299999</td>\n",
              "      <td>31.35</td>\n",
              "      <td>31.350000</td>\n",
              "      <td>31.900000</td>\n",
              "      <td>349114.0</td>\n",
              "      <td>0</td>\n",
              "      <td>41.183699</td>\n",
              "      <td>-77.777770</td>\n",
              "      <td>32.896342</td>\n",
              "      <td>32.019244</td>\n",
              "      <td>31.983334</td>\n",
              "      <td>31.890000</td>\n",
              "      <td>31.664011</td>\n",
              "      <td>-74.531404</td>\n",
              "      <td>-29.629685</td>\n",
              "    </tr>\n",
              "    <tr>\n",
              "      <th>2019-09-05</th>\n",
              "      <td>31.900000</td>\n",
              "      <td>31.50</td>\n",
              "      <td>31.900000</td>\n",
              "      <td>31.500000</td>\n",
              "      <td>22002.0</td>\n",
              "      <td>0</td>\n",
              "      <td>33.758444</td>\n",
              "      <td>-92.592566</td>\n",
              "      <td>32.871952</td>\n",
              "      <td>31.915395</td>\n",
              "      <td>31.898889</td>\n",
              "      <td>31.810000</td>\n",
              "      <td>31.536907</td>\n",
              "      <td>-86.778797</td>\n",
              "      <td>-28.301911</td>\n",
              "    </tr>\n",
              "    <tr>\n",
              "      <th>2019-09-06</th>\n",
              "      <td>33.200001</td>\n",
              "      <td>31.50</td>\n",
              "      <td>31.500000</td>\n",
              "      <td>32.849998</td>\n",
              "      <td>1559169.0</td>\n",
              "      <td>0</td>\n",
              "      <td>61.082774</td>\n",
              "      <td>-42.592637</td>\n",
              "      <td>32.867073</td>\n",
              "      <td>32.102316</td>\n",
              "      <td>31.827778</td>\n",
              "      <td>31.795000</td>\n",
              "      <td>32.126176</td>\n",
              "      <td>3.100752</td>\n",
              "      <td>14.999976</td>\n",
              "    </tr>\n",
              "  </tbody>\n",
              "</table>\n",
              "</div>"
            ],
            "text/plain": [
              "                 High    Low       Open  ...       TEMA         CCI        CMO\n",
              "Date                                     ...                                  \n",
              "2019-09-02  32.049999  31.90  31.900000  ...  31.696991  -80.257734 -48.000031\n",
              "2019-09-03  31.700001  31.60  31.700001  ...  31.578322 -105.419949 -54.385998\n",
              "2019-09-04  32.299999  31.35  31.350000  ...  31.664011  -74.531404 -29.629685\n",
              "2019-09-05  31.900000  31.50  31.900000  ...  31.536907  -86.778797 -28.301911\n",
              "2019-09-06  33.200001  31.50  31.500000  ...  32.126176    3.100752  14.999976\n",
              "\n",
              "[5 rows x 15 columns]"
            ]
          },
          "metadata": {
            "tags": []
          },
          "execution_count": 17
        },
        {
          "output_type": "display_data",
          "data": {
            "image/png": "[encoded data removed]",
            "text/plain": [
              "<Figure size 432x288 with 1 Axes>"
            ]
          },
          "metadata": {
            "tags": []
          }
        }
      ]
    },
    {
      "cell_type": "markdown",
      "metadata": {
        "id": "35qI_9gZjsR0",
        "colab_type": "text"
      },
      "source": [
        "# MACD"
      ]
    },
    {
      "cell_type": "code",
      "metadata": {
        "id": "5QG4lBEfjsZb",
        "colab_type": "code",
        "outputId": "99113851-45bc-4493-d146-667bfd812912",
        "colab": {
          "base_uri": "https://localhost:8080/",
          "height": 779
        }
      },
      "source": [
        "df['MACD'] = TA.MACD(ohlcv)['MACD'] - TA.MACD(ohlcv)['SIGNAL']\n",
        "print(df['MACD'].describe())\n",
        "sns.distplot(df['MACD'].dropna())\n",
        "df.tail()"
      ],
      "execution_count": 18,
      "outputs": [
        {
          "output_type": "stream",
          "text": [
            "count    4847.000000\n",
            "mean       -0.000311\n",
            "std         0.208586\n",
            "min        -1.171199\n",
            "25%        -0.073383\n",
            "50%         0.001228\n",
            "75%         0.068020\n",
            "max         1.937701\n",
            "Name: MACD, dtype: float64\n"
          ],
          "name": "stdout"
        },
        {
          "output_type": "execute_result",
          "data": {
            "text/html": [
              "<div>\n",
              "<style scoped>\n",
              "    .dataframe tbody tr th:only-of-type {\n",
              "        vertical-align: middle;\n",
              "    }\n",
              "\n",
              "    .dataframe tbody tr th {\n",
              "        vertical-align: top;\n",
              "    }\n",
              "\n",
              "    .dataframe thead th {\n",
              "        text-align: right;\n",
              "    }\n",
              "</style>\n",
              "<table border=\"1\" class=\"dataframe\">\n",
              "  <thead>\n",
              "    <tr style=\"text-align: right;\">\n",
              "      <th></th>\n",
              "      <th>High</th>\n",
              "      <th>Low</th>\n",
              "      <th>Open</th>\n",
              "      <th>Close</th>\n",
              "      <th>Volume</th>\n",
              "      <th>triple_barrier_signal</th>\n",
              "      <th>RSI</th>\n",
              "      <th>Williams %R</th>\n",
              "      <th>SMA</th>\n",
              "      <th>EMA</th>\n",
              "      <th>WMA</th>\n",
              "      <th>HMA</th>\n",
              "      <th>TEMA</th>\n",
              "      <th>CCI</th>\n",
              "      <th>CMO</th>\n",
              "      <th>MACD</th>\n",
              "    </tr>\n",
              "    <tr>\n",
              "      <th>Date</th>\n",
              "      <th></th>\n",
              "      <th></th>\n",
              "      <th></th>\n",
              "      <th></th>\n",
              "      <th></th>\n",
              "      <th></th>\n",
              "      <th></th>\n",
              "      <th></th>\n",
              "      <th></th>\n",
              "      <th></th>\n",
              "      <th></th>\n",
              "      <th></th>\n",
              "      <th></th>\n",
              "      <th></th>\n",
              "      <th></th>\n",
              "      <th></th>\n",
              "    </tr>\n",
              "  </thead>\n",
              "  <tbody>\n",
              "    <tr>\n",
              "      <th>2019-09-02</th>\n",
              "      <td>32.049999</td>\n",
              "      <td>31.90</td>\n",
              "      <td>31.900000</td>\n",
              "      <td>32.000000</td>\n",
              "      <td>54000.0</td>\n",
              "      <td>0</td>\n",
              "      <td>38.863748</td>\n",
              "      <td>-74.074053</td>\n",
              "      <td>32.984147</td>\n",
              "      <td>32.161319</td>\n",
              "      <td>32.371112</td>\n",
              "      <td>31.775001</td>\n",
              "      <td>31.696991</td>\n",
              "      <td>-80.257734</td>\n",
              "      <td>-48.000031</td>\n",
              "      <td>-0.105345</td>\n",
              "    </tr>\n",
              "    <tr>\n",
              "      <th>2019-09-03</th>\n",
              "      <td>31.700001</td>\n",
              "      <td>31.60</td>\n",
              "      <td>31.700001</td>\n",
              "      <td>31.600000</td>\n",
              "      <td>3500.0</td>\n",
              "      <td>0</td>\n",
              "      <td>31.372033</td>\n",
              "      <td>-88.888850</td>\n",
              "      <td>32.928049</td>\n",
              "      <td>32.049055</td>\n",
              "      <td>32.141112</td>\n",
              "      <td>31.685000</td>\n",
              "      <td>31.578322</td>\n",
              "      <td>-105.419949</td>\n",
              "      <td>-54.385998</td>\n",
              "      <td>-0.104719</td>\n",
              "    </tr>\n",
              "    <tr>\n",
              "      <th>2019-09-04</th>\n",
              "      <td>32.299999</td>\n",
              "      <td>31.35</td>\n",
              "      <td>31.350000</td>\n",
              "      <td>31.900000</td>\n",
              "      <td>349114.0</td>\n",
              "      <td>0</td>\n",
              "      <td>41.183699</td>\n",
              "      <td>-77.777770</td>\n",
              "      <td>32.896342</td>\n",
              "      <td>32.019244</td>\n",
              "      <td>31.983334</td>\n",
              "      <td>31.890000</td>\n",
              "      <td>31.664011</td>\n",
              "      <td>-74.531404</td>\n",
              "      <td>-29.629685</td>\n",
              "      <td>-0.076727</td>\n",
              "    </tr>\n",
              "    <tr>\n",
              "      <th>2019-09-05</th>\n",
              "      <td>31.900000</td>\n",
              "      <td>31.50</td>\n",
              "      <td>31.900000</td>\n",
              "      <td>31.500000</td>\n",
              "      <td>22002.0</td>\n",
              "      <td>0</td>\n",
              "      <td>33.758444</td>\n",
              "      <td>-92.592566</td>\n",
              "      <td>32.871952</td>\n",
              "      <td>31.915395</td>\n",
              "      <td>31.898889</td>\n",
              "      <td>31.810000</td>\n",
              "      <td>31.536907</td>\n",
              "      <td>-86.778797</td>\n",
              "      <td>-28.301911</td>\n",
              "      <td>-0.077545</td>\n",
              "    </tr>\n",
              "    <tr>\n",
              "      <th>2019-09-06</th>\n",
              "      <td>33.200001</td>\n",
              "      <td>31.50</td>\n",
              "      <td>31.500000</td>\n",
              "      <td>32.849998</td>\n",
              "      <td>1559169.0</td>\n",
              "      <td>0</td>\n",
              "      <td>61.082774</td>\n",
              "      <td>-42.592637</td>\n",
              "      <td>32.867073</td>\n",
              "      <td>32.102316</td>\n",
              "      <td>31.827778</td>\n",
              "      <td>31.795000</td>\n",
              "      <td>32.126176</td>\n",
              "      <td>3.100752</td>\n",
              "      <td>14.999976</td>\n",
              "      <td>0.015479</td>\n",
              "    </tr>\n",
              "  </tbody>\n",
              "</table>\n",
              "</div>"
            ],
            "text/plain": [
              "                 High    Low       Open  ...         CCI        CMO      MACD\n",
              "Date                                     ...                                 \n",
              "2019-09-02  32.049999  31.90  31.900000  ...  -80.257734 -48.000031 -0.105345\n",
              "2019-09-03  31.700001  31.60  31.700001  ... -105.419949 -54.385998 -0.104719\n",
              "2019-09-04  32.299999  31.35  31.350000  ...  -74.531404 -29.629685 -0.076727\n",
              "2019-09-05  31.900000  31.50  31.900000  ...  -86.778797 -28.301911 -0.077545\n",
              "2019-09-06  33.200001  31.50  31.500000  ...    3.100752  14.999976  0.015479\n",
              "\n",
              "[5 rows x 16 columns]"
            ]
          },
          "metadata": {
            "tags": []
          },
          "execution_count": 18
        },
        {
          "output_type": "display_data",
          "data": {
            "image/png": "[encoded data removed]",
            "text/plain": [
              "<Figure size 432x288 with 1 Axes>"
            ]
          },
          "metadata": {
            "tags": []
          }
        }
      ]
    },
    {
      "cell_type": "markdown",
      "metadata": {
        "id": "roEAzvV7liUA",
        "colab_type": "text"
      },
      "source": [
        "# PPO"
      ]
    },
    {
      "cell_type": "code",
      "metadata": {
        "id": "ovCLHYPXli73",
        "colab_type": "code",
        "outputId": "3466a444-1843-4b39-c8b6-ae4e1da58181",
        "colab": {
          "base_uri": "https://localhost:8080/",
          "height": 779
        }
      },
      "source": [
        "df['PPO'] = TA.PPO(ohlcv)['PPO'] - TA.PPO(ohlcv)['SIGNAL']\n",
        "print(df['PPO'].describe())\n",
        "sns.distplot(df['PPO'].dropna())\n",
        "df.tail()"
      ],
      "execution_count": 19,
      "outputs": [
        {
          "output_type": "stream",
          "text": [
            "count    4847.000000\n",
            "mean       -0.000983\n",
            "std         1.105353\n",
            "min        -4.522517\n",
            "25%        -0.607218\n",
            "50%        -0.023030\n",
            "75%         0.540616\n",
            "max         7.532199\n",
            "Name: PPO, dtype: float64\n"
          ],
          "name": "stdout"
        },
        {
          "output_type": "execute_result",
          "data": {
            "text/html": [
              "<div>\n",
              "<style scoped>\n",
              "    .dataframe tbody tr th:only-of-type {\n",
              "        vertical-align: middle;\n",
              "    }\n",
              "\n",
              "    .dataframe tbody tr th {\n",
              "        vertical-align: top;\n",
              "    }\n",
              "\n",
              "    .dataframe thead th {\n",
              "        text-align: right;\n",
              "    }\n",
              "</style>\n",
              "<table border=\"1\" class=\"dataframe\">\n",
              "  <thead>\n",
              "    <tr style=\"text-align: right;\">\n",
              "      <th></th>\n",
              "      <th>High</th>\n",
              "      <th>Low</th>\n",
              "      <th>Open</th>\n",
              "      <th>Close</th>\n",
              "      <th>Volume</th>\n",
              "      <th>triple_barrier_signal</th>\n",
              "      <th>RSI</th>\n",
              "      <th>Williams %R</th>\n",
              "      <th>SMA</th>\n",
              "      <th>EMA</th>\n",
              "      <th>WMA</th>\n",
              "      <th>HMA</th>\n",
              "      <th>TEMA</th>\n",
              "      <th>CCI</th>\n",
              "      <th>CMO</th>\n",
              "      <th>MACD</th>\n",
              "      <th>PPO</th>\n",
              "    </tr>\n",
              "    <tr>\n",
              "      <th>Date</th>\n",
              "      <th></th>\n",
              "      <th></th>\n",
              "      <th></th>\n",
              "      <th></th>\n",
              "      <th></th>\n",
              "      <th></th>\n",
              "      <th></th>\n",
              "      <th></th>\n",
              "      <th></th>\n",
              "      <th></th>\n",
              "      <th></th>\n",
              "      <th></th>\n",
              "      <th></th>\n",
              "      <th></th>\n",
              "      <th></th>\n",
              "      <th></th>\n",
              "      <th></th>\n",
              "    </tr>\n",
              "  </thead>\n",
              "  <tbody>\n",
              "    <tr>\n",
              "      <th>2019-09-02</th>\n",
              "      <td>32.049999</td>\n",
              "      <td>31.90</td>\n",
              "      <td>31.900000</td>\n",
              "      <td>32.000000</td>\n",
              "      <td>54000.0</td>\n",
              "      <td>0</td>\n",
              "      <td>38.863748</td>\n",
              "      <td>-74.074053</td>\n",
              "      <td>32.984147</td>\n",
              "      <td>32.161319</td>\n",
              "      <td>32.371112</td>\n",
              "      <td>31.775001</td>\n",
              "      <td>31.696991</td>\n",
              "      <td>-80.257734</td>\n",
              "      <td>-48.000031</td>\n",
              "      <td>-0.105345</td>\n",
              "      <td>-0.326692</td>\n",
              "    </tr>\n",
              "    <tr>\n",
              "      <th>2019-09-03</th>\n",
              "      <td>31.700001</td>\n",
              "      <td>31.60</td>\n",
              "      <td>31.700001</td>\n",
              "      <td>31.600000</td>\n",
              "      <td>3500.0</td>\n",
              "      <td>0</td>\n",
              "      <td>31.372033</td>\n",
              "      <td>-88.888850</td>\n",
              "      <td>32.928049</td>\n",
              "      <td>32.049055</td>\n",
              "      <td>32.141112</td>\n",
              "      <td>31.685000</td>\n",
              "      <td>31.578322</td>\n",
              "      <td>-105.419949</td>\n",
              "      <td>-54.385998</td>\n",
              "      <td>-0.104719</td>\n",
              "      <td>-0.326501</td>\n",
              "    </tr>\n",
              "    <tr>\n",
              "      <th>2019-09-04</th>\n",
              "      <td>32.299999</td>\n",
              "      <td>31.35</td>\n",
              "      <td>31.350000</td>\n",
              "      <td>31.900000</td>\n",
              "      <td>349114.0</td>\n",
              "      <td>0</td>\n",
              "      <td>41.183699</td>\n",
              "      <td>-77.777770</td>\n",
              "      <td>32.896342</td>\n",
              "      <td>32.019244</td>\n",
              "      <td>31.983334</td>\n",
              "      <td>31.890000</td>\n",
              "      <td>31.664011</td>\n",
              "      <td>-74.531404</td>\n",
              "      <td>-29.629685</td>\n",
              "      <td>-0.076727</td>\n",
              "      <td>-0.241281</td>\n",
              "    </tr>\n",
              "    <tr>\n",
              "      <th>2019-09-05</th>\n",
              "      <td>31.900000</td>\n",
              "      <td>31.50</td>\n",
              "      <td>31.900000</td>\n",
              "      <td>31.500000</td>\n",
              "      <td>22002.0</td>\n",
              "      <td>0</td>\n",
              "      <td>33.758444</td>\n",
              "      <td>-92.592566</td>\n",
              "      <td>32.871952</td>\n",
              "      <td>31.915395</td>\n",
              "      <td>31.898889</td>\n",
              "      <td>31.810000</td>\n",
              "      <td>31.536907</td>\n",
              "      <td>-86.778797</td>\n",
              "      <td>-28.301911</td>\n",
              "      <td>-0.077545</td>\n",
              "      <td>-0.245294</td>\n",
              "    </tr>\n",
              "    <tr>\n",
              "      <th>2019-09-06</th>\n",
              "      <td>33.200001</td>\n",
              "      <td>31.50</td>\n",
              "      <td>31.500000</td>\n",
              "      <td>32.849998</td>\n",
              "      <td>1559169.0</td>\n",
              "      <td>0</td>\n",
              "      <td>61.082774</td>\n",
              "      <td>-42.592637</td>\n",
              "      <td>32.867073</td>\n",
              "      <td>32.102316</td>\n",
              "      <td>31.827778</td>\n",
              "      <td>31.795000</td>\n",
              "      <td>32.126176</td>\n",
              "      <td>3.100752</td>\n",
              "      <td>14.999976</td>\n",
              "      <td>0.015479</td>\n",
              "      <td>0.043070</td>\n",
              "    </tr>\n",
              "  </tbody>\n",
              "</table>\n",
              "</div>"
            ],
            "text/plain": [
              "                 High    Low       Open  ...        CMO      MACD       PPO\n",
              "Date                                     ...                               \n",
              "2019-09-02  32.049999  31.90  31.900000  ... -48.000031 -0.105345 -0.326692\n",
              "2019-09-03  31.700001  31.60  31.700001  ... -54.385998 -0.104719 -0.326501\n",
              "2019-09-04  32.299999  31.35  31.350000  ... -29.629685 -0.076727 -0.241281\n",
              "2019-09-05  31.900000  31.50  31.900000  ... -28.301911 -0.077545 -0.245294\n",
              "2019-09-06  33.200001  31.50  31.500000  ...  14.999976  0.015479  0.043070\n",
              "\n",
              "[5 rows x 17 columns]"
            ]
          },
          "metadata": {
            "tags": []
          },
          "execution_count": 19
        },
        {
          "output_type": "display_data",
          "data": {
            "image/png": "[encoded data removed]",
            "text/plain": [
              "<Figure size 432x288 with 1 Axes>"
            ]
          },
          "metadata": {
            "tags": []
          }
        }
      ]
    },
    {
      "cell_type": "markdown",
      "metadata": {
        "id": "5BBE8vaWmdGN",
        "colab_type": "text"
      },
      "source": [
        "# ROC"
      ]
    },
    {
      "cell_type": "code",
      "metadata": {
        "id": "OKI3MqwhmdOj",
        "colab_type": "code",
        "outputId": "7c8c3dc8-1077-4a4e-bf75-84dc4683c30c",
        "colab": {
          "base_uri": "https://localhost:8080/",
          "height": 779
        }
      },
      "source": [
        "df['ROC'] = TA.ROC(ohlcv)\n",
        "print(df['ROC'].describe())\n",
        "sns.distplot(df['ROC'].dropna())\n",
        "df.tail()"
      ],
      "execution_count": 20,
      "outputs": [
        {
          "output_type": "stream",
          "text": [
            "count    4835.000000\n",
            "mean        0.807470\n",
            "std        12.144048\n",
            "min       -38.835056\n",
            "25%        -5.633779\n",
            "50%        -0.769231\n",
            "75%         5.000052\n",
            "max        84.987972\n",
            "Name: ROC, dtype: float64\n"
          ],
          "name": "stdout"
        },
        {
          "output_type": "execute_result",
          "data": {
            "text/html": [
              "<div>\n",
              "<style scoped>\n",
              "    .dataframe tbody tr th:only-of-type {\n",
              "        vertical-align: middle;\n",
              "    }\n",
              "\n",
              "    .dataframe tbody tr th {\n",
              "        vertical-align: top;\n",
              "    }\n",
              "\n",
              "    .dataframe thead th {\n",
              "        text-align: right;\n",
              "    }\n",
              "</style>\n",
              "<table border=\"1\" class=\"dataframe\">\n",
              "  <thead>\n",
              "    <tr style=\"text-align: right;\">\n",
              "      <th></th>\n",
              "      <th>High</th>\n",
              "      <th>Low</th>\n",
              "      <th>Open</th>\n",
              "      <th>Close</th>\n",
              "      <th>Volume</th>\n",
              "      <th>triple_barrier_signal</th>\n",
              "      <th>RSI</th>\n",
              "      <th>Williams %R</th>\n",
              "      <th>SMA</th>\n",
              "      <th>EMA</th>\n",
              "      <th>WMA</th>\n",
              "      <th>HMA</th>\n",
              "      <th>TEMA</th>\n",
              "      <th>CCI</th>\n",
              "      <th>CMO</th>\n",
              "      <th>MACD</th>\n",
              "      <th>PPO</th>\n",
              "      <th>ROC</th>\n",
              "    </tr>\n",
              "    <tr>\n",
              "      <th>Date</th>\n",
              "      <th></th>\n",
              "      <th></th>\n",
              "      <th></th>\n",
              "      <th></th>\n",
              "      <th></th>\n",
              "      <th></th>\n",
              "      <th></th>\n",
              "      <th></th>\n",
              "      <th></th>\n",
              "      <th></th>\n",
              "      <th></th>\n",
              "      <th></th>\n",
              "      <th></th>\n",
              "      <th></th>\n",
              "      <th></th>\n",
              "      <th></th>\n",
              "      <th></th>\n",
              "      <th></th>\n",
              "    </tr>\n",
              "  </thead>\n",
              "  <tbody>\n",
              "    <tr>\n",
              "      <th>2019-09-02</th>\n",
              "      <td>32.049999</td>\n",
              "      <td>31.90</td>\n",
              "      <td>31.900000</td>\n",
              "      <td>32.000000</td>\n",
              "      <td>54000.0</td>\n",
              "      <td>0</td>\n",
              "      <td>38.863748</td>\n",
              "      <td>-74.074053</td>\n",
              "      <td>32.984147</td>\n",
              "      <td>32.161319</td>\n",
              "      <td>32.371112</td>\n",
              "      <td>31.775001</td>\n",
              "      <td>31.696991</td>\n",
              "      <td>-80.257734</td>\n",
              "      <td>-48.000031</td>\n",
              "      <td>-0.105345</td>\n",
              "      <td>-0.326692</td>\n",
              "      <td>-3.759398</td>\n",
              "    </tr>\n",
              "    <tr>\n",
              "      <th>2019-09-03</th>\n",
              "      <td>31.700001</td>\n",
              "      <td>31.60</td>\n",
              "      <td>31.700001</td>\n",
              "      <td>31.600000</td>\n",
              "      <td>3500.0</td>\n",
              "      <td>0</td>\n",
              "      <td>31.372033</td>\n",
              "      <td>-88.888850</td>\n",
              "      <td>32.928049</td>\n",
              "      <td>32.049055</td>\n",
              "      <td>32.141112</td>\n",
              "      <td>31.685000</td>\n",
              "      <td>31.578322</td>\n",
              "      <td>-105.419949</td>\n",
              "      <td>-54.385998</td>\n",
              "      <td>-0.104719</td>\n",
              "      <td>-0.326501</td>\n",
              "      <td>-4.819278</td>\n",
              "    </tr>\n",
              "    <tr>\n",
              "      <th>2019-09-04</th>\n",
              "      <td>32.299999</td>\n",
              "      <td>31.35</td>\n",
              "      <td>31.350000</td>\n",
              "      <td>31.900000</td>\n",
              "      <td>349114.0</td>\n",
              "      <td>0</td>\n",
              "      <td>41.183699</td>\n",
              "      <td>-77.777770</td>\n",
              "      <td>32.896342</td>\n",
              "      <td>32.019244</td>\n",
              "      <td>31.983334</td>\n",
              "      <td>31.890000</td>\n",
              "      <td>31.664011</td>\n",
              "      <td>-74.531404</td>\n",
              "      <td>-29.629685</td>\n",
              "      <td>-0.076727</td>\n",
              "      <td>-0.241281</td>\n",
              "      <td>-4.060152</td>\n",
              "    </tr>\n",
              "    <tr>\n",
              "      <th>2019-09-05</th>\n",
              "      <td>31.900000</td>\n",
              "      <td>31.50</td>\n",
              "      <td>31.900000</td>\n",
              "      <td>31.500000</td>\n",
              "      <td>22002.0</td>\n",
              "      <td>0</td>\n",
              "      <td>33.758444</td>\n",
              "      <td>-92.592566</td>\n",
              "      <td>32.871952</td>\n",
              "      <td>31.915395</td>\n",
              "      <td>31.898889</td>\n",
              "      <td>31.810000</td>\n",
              "      <td>31.536907</td>\n",
              "      <td>-86.778797</td>\n",
              "      <td>-28.301911</td>\n",
              "      <td>-0.077545</td>\n",
              "      <td>-0.245294</td>\n",
              "      <td>-5.120484</td>\n",
              "    </tr>\n",
              "    <tr>\n",
              "      <th>2019-09-06</th>\n",
              "      <td>33.200001</td>\n",
              "      <td>31.50</td>\n",
              "      <td>31.500000</td>\n",
              "      <td>32.849998</td>\n",
              "      <td>1559169.0</td>\n",
              "      <td>0</td>\n",
              "      <td>61.082774</td>\n",
              "      <td>-42.592637</td>\n",
              "      <td>32.867073</td>\n",
              "      <td>32.102316</td>\n",
              "      <td>31.827778</td>\n",
              "      <td>31.795000</td>\n",
              "      <td>32.126176</td>\n",
              "      <td>3.100752</td>\n",
              "      <td>14.999976</td>\n",
              "      <td>0.015479</td>\n",
              "      <td>0.043070</td>\n",
              "      <td>-0.904987</td>\n",
              "    </tr>\n",
              "  </tbody>\n",
              "</table>\n",
              "</div>"
            ],
            "text/plain": [
              "                 High    Low       Open  ...      MACD       PPO       ROC\n",
              "Date                                     ...                              \n",
              "2019-09-02  32.049999  31.90  31.900000  ... -0.105345 -0.326692 -3.759398\n",
              "2019-09-03  31.700001  31.60  31.700001  ... -0.104719 -0.326501 -4.819278\n",
              "2019-09-04  32.299999  31.35  31.350000  ... -0.076727 -0.241281 -4.060152\n",
              "2019-09-05  31.900000  31.50  31.900000  ... -0.077545 -0.245294 -5.120484\n",
              "2019-09-06  33.200001  31.50  31.500000  ...  0.015479  0.043070 -0.904987\n",
              "\n",
              "[5 rows x 18 columns]"
            ]
          },
          "metadata": {
            "tags": []
          },
          "execution_count": 20
        },
        {
          "output_type": "display_data",
          "data": {
            "image/png": "[encoded data removed]",
            "text/plain": [
              "<Figure size 432x288 with 1 Axes>"
            ]
          },
          "metadata": {
            "tags": []
          }
        }
      ]
    },
    {
      "cell_type": "markdown",
      "metadata": {
        "id": "b9LTKsyvmuSd",
        "colab_type": "text"
      },
      "source": [
        "# CMFI"
      ]
    },
    {
      "cell_type": "code",
      "metadata": {
        "id": "somnlSTOmvjJ",
        "colab_type": "code",
        "outputId": "2b2c132b-fa37-4f03-f2ae-7c7c9aedfb40",
        "colab": {
          "base_uri": "https://localhost:8080/",
          "height": 785
        }
      },
      "source": [
        "df['CFI'] = TA.CFI(ohlcv)\n",
        "print(df['CFI'].describe())\n",
        "sns.distplot(df['CFI'].dropna())\n",
        "df.tail()"
      ],
      "execution_count": 21,
      "outputs": [
        {
          "output_type": "stream",
          "text": [
            "count    4.838000e+03\n",
            "mean     3.112414e+08\n",
            "std      1.243798e+08\n",
            "min     -9.059855e+07\n",
            "25%      2.065965e+08\n",
            "50%      3.373200e+08\n",
            "75%      4.154206e+08\n",
            "max      4.881391e+08\n",
            "Name: CFI, dtype: float64\n"
          ],
          "name": "stdout"
        },
        {
          "output_type": "execute_result",
          "data": {
            "text/html": [
              "<div>\n",
              "<style scoped>\n",
              "    .dataframe tbody tr th:only-of-type {\n",
              "        vertical-align: middle;\n",
              "    }\n",
              "\n",
              "    .dataframe tbody tr th {\n",
              "        vertical-align: top;\n",
              "    }\n",
              "\n",
              "    .dataframe thead th {\n",
              "        text-align: right;\n",
              "    }\n",
              "</style>\n",
              "<table border=\"1\" class=\"dataframe\">\n",
              "  <thead>\n",
              "    <tr style=\"text-align: right;\">\n",
              "      <th></th>\n",
              "      <th>High</th>\n",
              "      <th>Low</th>\n",
              "      <th>Open</th>\n",
              "      <th>Close</th>\n",
              "      <th>Volume</th>\n",
              "      <th>triple_barrier_signal</th>\n",
              "      <th>RSI</th>\n",
              "      <th>Williams %R</th>\n",
              "      <th>SMA</th>\n",
              "      <th>EMA</th>\n",
              "      <th>WMA</th>\n",
              "      <th>HMA</th>\n",
              "      <th>TEMA</th>\n",
              "      <th>CCI</th>\n",
              "      <th>CMO</th>\n",
              "      <th>MACD</th>\n",
              "      <th>PPO</th>\n",
              "      <th>ROC</th>\n",
              "      <th>CFI</th>\n",
              "    </tr>\n",
              "    <tr>\n",
              "      <th>Date</th>\n",
              "      <th></th>\n",
              "      <th></th>\n",
              "      <th></th>\n",
              "      <th></th>\n",
              "      <th></th>\n",
              "      <th></th>\n",
              "      <th></th>\n",
              "      <th></th>\n",
              "      <th></th>\n",
              "      <th></th>\n",
              "      <th></th>\n",
              "      <th></th>\n",
              "      <th></th>\n",
              "      <th></th>\n",
              "      <th></th>\n",
              "      <th></th>\n",
              "      <th></th>\n",
              "      <th></th>\n",
              "      <th></th>\n",
              "    </tr>\n",
              "  </thead>\n",
              "  <tbody>\n",
              "    <tr>\n",
              "      <th>2019-09-02</th>\n",
              "      <td>32.049999</td>\n",
              "      <td>31.90</td>\n",
              "      <td>31.900000</td>\n",
              "      <td>32.000000</td>\n",
              "      <td>54000.0</td>\n",
              "      <td>0</td>\n",
              "      <td>38.863748</td>\n",
              "      <td>-74.074053</td>\n",
              "      <td>32.984147</td>\n",
              "      <td>32.161319</td>\n",
              "      <td>32.371112</td>\n",
              "      <td>31.775001</td>\n",
              "      <td>31.696991</td>\n",
              "      <td>-80.257734</td>\n",
              "      <td>-48.000031</td>\n",
              "      <td>-0.105345</td>\n",
              "      <td>-0.326692</td>\n",
              "      <td>-3.759398</td>\n",
              "      <td>4.877076e+08</td>\n",
              "    </tr>\n",
              "    <tr>\n",
              "      <th>2019-09-03</th>\n",
              "      <td>31.700001</td>\n",
              "      <td>31.60</td>\n",
              "      <td>31.700001</td>\n",
              "      <td>31.600000</td>\n",
              "      <td>3500.0</td>\n",
              "      <td>0</td>\n",
              "      <td>31.372033</td>\n",
              "      <td>-88.888850</td>\n",
              "      <td>32.928049</td>\n",
              "      <td>32.049055</td>\n",
              "      <td>32.141112</td>\n",
              "      <td>31.685000</td>\n",
              "      <td>31.578322</td>\n",
              "      <td>-105.419949</td>\n",
              "      <td>-54.385998</td>\n",
              "      <td>-0.104719</td>\n",
              "      <td>-0.326501</td>\n",
              "      <td>-4.819278</td>\n",
              "      <td>4.877091e+08</td>\n",
              "    </tr>\n",
              "    <tr>\n",
              "      <th>2019-09-04</th>\n",
              "      <td>32.299999</td>\n",
              "      <td>31.35</td>\n",
              "      <td>31.350000</td>\n",
              "      <td>31.900000</td>\n",
              "      <td>349114.0</td>\n",
              "      <td>0</td>\n",
              "      <td>41.183699</td>\n",
              "      <td>-77.777770</td>\n",
              "      <td>32.896342</td>\n",
              "      <td>32.019244</td>\n",
              "      <td>31.983334</td>\n",
              "      <td>31.890000</td>\n",
              "      <td>31.664011</td>\n",
              "      <td>-74.531404</td>\n",
              "      <td>-29.629685</td>\n",
              "      <td>-0.076727</td>\n",
              "      <td>-0.241281</td>\n",
              "      <td>-4.060152</td>\n",
              "      <td>4.877293e+08</td>\n",
              "    </tr>\n",
              "    <tr>\n",
              "      <th>2019-09-05</th>\n",
              "      <td>31.900000</td>\n",
              "      <td>31.50</td>\n",
              "      <td>31.900000</td>\n",
              "      <td>31.500000</td>\n",
              "      <td>22002.0</td>\n",
              "      <td>0</td>\n",
              "      <td>33.758444</td>\n",
              "      <td>-92.592566</td>\n",
              "      <td>32.871952</td>\n",
              "      <td>31.915395</td>\n",
              "      <td>31.898889</td>\n",
              "      <td>31.810000</td>\n",
              "      <td>31.536907</td>\n",
              "      <td>-86.778797</td>\n",
              "      <td>-28.301911</td>\n",
              "      <td>-0.077545</td>\n",
              "      <td>-0.245294</td>\n",
              "      <td>-5.120484</td>\n",
              "      <td>4.877442e+08</td>\n",
              "    </tr>\n",
              "    <tr>\n",
              "      <th>2019-09-06</th>\n",
              "      <td>33.200001</td>\n",
              "      <td>31.50</td>\n",
              "      <td>31.500000</td>\n",
              "      <td>32.849998</td>\n",
              "      <td>1559169.0</td>\n",
              "      <td>0</td>\n",
              "      <td>61.082774</td>\n",
              "      <td>-42.592637</td>\n",
              "      <td>32.867073</td>\n",
              "      <td>32.102316</td>\n",
              "      <td>31.827778</td>\n",
              "      <td>31.795000</td>\n",
              "      <td>32.126176</td>\n",
              "      <td>3.100752</td>\n",
              "      <td>14.999976</td>\n",
              "      <td>0.015479</td>\n",
              "      <td>0.043070</td>\n",
              "      <td>-0.904987</td>\n",
              "      <td>4.881391e+08</td>\n",
              "    </tr>\n",
              "  </tbody>\n",
              "</table>\n",
              "</div>"
            ],
            "text/plain": [
              "                 High    Low       Open  ...       PPO       ROC           CFI\n",
              "Date                                     ...                                  \n",
              "2019-09-02  32.049999  31.90  31.900000  ... -0.326692 -3.759398  4.877076e+08\n",
              "2019-09-03  31.700001  31.60  31.700001  ... -0.326501 -4.819278  4.877091e+08\n",
              "2019-09-04  32.299999  31.35  31.350000  ... -0.241281 -4.060152  4.877293e+08\n",
              "2019-09-05  31.900000  31.50  31.900000  ... -0.245294 -5.120484  4.877442e+08\n",
              "2019-09-06  33.200001  31.50  31.500000  ...  0.043070 -0.904987  4.881391e+08\n",
              "\n",
              "[5 rows x 19 columns]"
            ]
          },
          "metadata": {
            "tags": []
          },
          "execution_count": 21
        },
        {
          "output_type": "display_data",
          "data": {
            "image/png": "[encoded data removed]",
            "text/plain": [
              "<Figure size 432x288 with 1 Axes>"
            ]
          },
          "metadata": {
            "tags": []
          }
        }
      ]
    },
    {
      "cell_type": "markdown",
      "metadata": {
        "id": "8WydSl0doUYk",
        "colab_type": "text"
      },
      "source": [
        "# DMI"
      ]
    },
    {
      "cell_type": "code",
      "metadata": {
        "id": "xRTnC6DboU05",
        "colab_type": "code",
        "outputId": "01b5f513-2951-446c-9738-5851389c4c14",
        "colab": {
          "base_uri": "https://localhost:8080/",
          "height": 1000
        }
      },
      "source": [
        "df['DMI'] = TA.DMI(ohlcv)['DI+'] - TA.DMI(ohlcv)['DI-']\n",
        "print(df['DMI'].describe())\n",
        "sns.distplot(df['DMI'].dropna())\n",
        "df.tail()"
      ],
      "execution_count": 22,
      "outputs": [
        {
          "output_type": "stream",
          "text": [
            "/usr/local/lib/python3.6/dist-packages/finta/finta.py:792: SettingWithCopyWarning: \n",
            "A value is trying to be set on a copy of a slice from a DataFrame.\n",
            "Try using .loc[row_indexer,col_indexer] = value instead\n",
            "\n",
            "See the caveats in the documentation: http://pandas.pydata.org/pandas-docs/stable/indexing.html#indexing-view-versus-copy\n",
            "  ohlc[\"up_move\"] = ohlc[\"high\"].diff()\n",
            "/usr/local/lib/python3.6/dist-packages/finta/finta.py:793: SettingWithCopyWarning: \n",
            "A value is trying to be set on a copy of a slice from a DataFrame.\n",
            "Try using .loc[row_indexer,col_indexer] = value instead\n",
            "\n",
            "See the caveats in the documentation: http://pandas.pydata.org/pandas-docs/stable/indexing.html#indexing-view-versus-copy\n",
            "  ohlc[\"down_move\"] = -ohlc[\"low\"].diff()\n",
            "/usr/local/lib/python3.6/dist-packages/finta/finta.py:809: SettingWithCopyWarning: \n",
            "A value is trying to be set on a copy of a slice from a DataFrame.\n",
            "Try using .loc[row_indexer,col_indexer] = value instead\n",
            "\n",
            "See the caveats in the documentation: http://pandas.pydata.org/pandas-docs/stable/indexing.html#indexing-view-versus-copy\n",
            "  ohlc[\"DMp\"] = DMp\n",
            "/usr/local/lib/python3.6/dist-packages/finta/finta.py:810: SettingWithCopyWarning: \n",
            "A value is trying to be set on a copy of a slice from a DataFrame.\n",
            "Try using .loc[row_indexer,col_indexer] = value instead\n",
            "\n",
            "See the caveats in the documentation: http://pandas.pydata.org/pandas-docs/stable/indexing.html#indexing-view-versus-copy\n",
            "  ohlc[\"DMm\"] = DMm\n"
          ],
          "name": "stderr"
        },
        {
          "output_type": "stream",
          "text": [
            "count    4764.000000\n",
            "mean        4.168097\n",
            "std        32.458958\n",
            "min      -264.521331\n",
            "25%       -11.666575\n",
            "50%         0.641334\n",
            "75%        14.474302\n",
            "max       250.728624\n",
            "Name: DMI, dtype: float64\n"
          ],
          "name": "stdout"
        },
        {
          "output_type": "execute_result",
          "data": {
            "text/html": [
              "<div>\n",
              "<style scoped>\n",
              "    .dataframe tbody tr th:only-of-type {\n",
              "        vertical-align: middle;\n",
              "    }\n",
              "\n",
              "    .dataframe tbody tr th {\n",
              "        vertical-align: top;\n",
              "    }\n",
              "\n",
              "    .dataframe thead th {\n",
              "        text-align: right;\n",
              "    }\n",
              "</style>\n",
              "<table border=\"1\" class=\"dataframe\">\n",
              "  <thead>\n",
              "    <tr style=\"text-align: right;\">\n",
              "      <th></th>\n",
              "      <th>High</th>\n",
              "      <th>Low</th>\n",
              "      <th>Open</th>\n",
              "      <th>Close</th>\n",
              "      <th>Volume</th>\n",
              "      <th>triple_barrier_signal</th>\n",
              "      <th>RSI</th>\n",
              "      <th>Williams %R</th>\n",
              "      <th>SMA</th>\n",
              "      <th>EMA</th>\n",
              "      <th>WMA</th>\n",
              "      <th>HMA</th>\n",
              "      <th>TEMA</th>\n",
              "      <th>CCI</th>\n",
              "      <th>CMO</th>\n",
              "      <th>MACD</th>\n",
              "      <th>PPO</th>\n",
              "      <th>ROC</th>\n",
              "      <th>CFI</th>\n",
              "      <th>DMI</th>\n",
              "    </tr>\n",
              "    <tr>\n",
              "      <th>Date</th>\n",
              "      <th></th>\n",
              "      <th></th>\n",
              "      <th></th>\n",
              "      <th></th>\n",
              "      <th></th>\n",
              "      <th></th>\n",
              "      <th></th>\n",
              "      <th></th>\n",
              "      <th></th>\n",
              "      <th></th>\n",
              "      <th></th>\n",
              "      <th></th>\n",
              "      <th></th>\n",
              "      <th></th>\n",
              "      <th></th>\n",
              "      <th></th>\n",
              "      <th></th>\n",
              "      <th></th>\n",
              "      <th></th>\n",
              "      <th></th>\n",
              "    </tr>\n",
              "  </thead>\n",
              "  <tbody>\n",
              "    <tr>\n",
              "      <th>2019-09-02</th>\n",
              "      <td>32.049999</td>\n",
              "      <td>31.90</td>\n",
              "      <td>31.900000</td>\n",
              "      <td>32.000000</td>\n",
              "      <td>54000.0</td>\n",
              "      <td>0</td>\n",
              "      <td>38.863748</td>\n",
              "      <td>-74.074053</td>\n",
              "      <td>32.984147</td>\n",
              "      <td>32.161319</td>\n",
              "      <td>32.371112</td>\n",
              "      <td>31.775001</td>\n",
              "      <td>31.696991</td>\n",
              "      <td>-80.257734</td>\n",
              "      <td>-48.000031</td>\n",
              "      <td>-0.105345</td>\n",
              "      <td>-0.326692</td>\n",
              "      <td>-3.759398</td>\n",
              "      <td>4.877076e+08</td>\n",
              "      <td>-11.260637</td>\n",
              "    </tr>\n",
              "    <tr>\n",
              "      <th>2019-09-03</th>\n",
              "      <td>31.700001</td>\n",
              "      <td>31.60</td>\n",
              "      <td>31.700001</td>\n",
              "      <td>31.600000</td>\n",
              "      <td>3500.0</td>\n",
              "      <td>0</td>\n",
              "      <td>31.372033</td>\n",
              "      <td>-88.888850</td>\n",
              "      <td>32.928049</td>\n",
              "      <td>32.049055</td>\n",
              "      <td>32.141112</td>\n",
              "      <td>31.685000</td>\n",
              "      <td>31.578322</td>\n",
              "      <td>-105.419949</td>\n",
              "      <td>-54.385998</td>\n",
              "      <td>-0.104719</td>\n",
              "      <td>-0.326501</td>\n",
              "      <td>-4.819278</td>\n",
              "      <td>4.877091e+08</td>\n",
              "      <td>-15.271919</td>\n",
              "    </tr>\n",
              "    <tr>\n",
              "      <th>2019-09-04</th>\n",
              "      <td>32.299999</td>\n",
              "      <td>31.35</td>\n",
              "      <td>31.350000</td>\n",
              "      <td>31.900000</td>\n",
              "      <td>349114.0</td>\n",
              "      <td>0</td>\n",
              "      <td>41.183699</td>\n",
              "      <td>-77.777770</td>\n",
              "      <td>32.896342</td>\n",
              "      <td>32.019244</td>\n",
              "      <td>31.983334</td>\n",
              "      <td>31.890000</td>\n",
              "      <td>31.664011</td>\n",
              "      <td>-74.531404</td>\n",
              "      <td>-29.629685</td>\n",
              "      <td>-0.076727</td>\n",
              "      <td>-0.241281</td>\n",
              "      <td>-4.060152</td>\n",
              "      <td>4.877293e+08</td>\n",
              "      <td>-2.146584</td>\n",
              "    </tr>\n",
              "    <tr>\n",
              "      <th>2019-09-05</th>\n",
              "      <td>31.900000</td>\n",
              "      <td>31.50</td>\n",
              "      <td>31.900000</td>\n",
              "      <td>31.500000</td>\n",
              "      <td>22002.0</td>\n",
              "      <td>0</td>\n",
              "      <td>33.758444</td>\n",
              "      <td>-92.592566</td>\n",
              "      <td>32.871952</td>\n",
              "      <td>31.915395</td>\n",
              "      <td>31.898889</td>\n",
              "      <td>31.810000</td>\n",
              "      <td>31.536907</td>\n",
              "      <td>-86.778797</td>\n",
              "      <td>-28.301911</td>\n",
              "      <td>-0.077545</td>\n",
              "      <td>-0.245294</td>\n",
              "      <td>-5.120484</td>\n",
              "      <td>4.877442e+08</td>\n",
              "      <td>-1.860372</td>\n",
              "    </tr>\n",
              "    <tr>\n",
              "      <th>2019-09-06</th>\n",
              "      <td>33.200001</td>\n",
              "      <td>31.50</td>\n",
              "      <td>31.500000</td>\n",
              "      <td>32.849998</td>\n",
              "      <td>1559169.0</td>\n",
              "      <td>0</td>\n",
              "      <td>61.082774</td>\n",
              "      <td>-42.592637</td>\n",
              "      <td>32.867073</td>\n",
              "      <td>32.102316</td>\n",
              "      <td>31.827778</td>\n",
              "      <td>31.795000</td>\n",
              "      <td>32.126176</td>\n",
              "      <td>3.100752</td>\n",
              "      <td>14.999976</td>\n",
              "      <td>0.015479</td>\n",
              "      <td>0.043070</td>\n",
              "      <td>-0.904987</td>\n",
              "      <td>4.881391e+08</td>\n",
              "      <td>21.947567</td>\n",
              "    </tr>\n",
              "  </tbody>\n",
              "</table>\n",
              "</div>"
            ],
            "text/plain": [
              "                 High    Low       Open  ...       ROC           CFI        DMI\n",
              "Date                                     ...                                   \n",
              "2019-09-02  32.049999  31.90  31.900000  ... -3.759398  4.877076e+08 -11.260637\n",
              "2019-09-03  31.700001  31.60  31.700001  ... -4.819278  4.877091e+08 -15.271919\n",
              "2019-09-04  32.299999  31.35  31.350000  ... -4.060152  4.877293e+08  -2.146584\n",
              "2019-09-05  31.900000  31.50  31.900000  ... -5.120484  4.877442e+08  -1.860372\n",
              "2019-09-06  33.200001  31.50  31.500000  ... -0.904987  4.881391e+08  21.947567\n",
              "\n",
              "[5 rows x 20 columns]"
            ]
          },
          "metadata": {
            "tags": []
          },
          "execution_count": 22
        },
        {
          "output_type": "display_data",
          "data": {
            "image/png": "[encoded data removed]",
            "text/plain": [
              "<Figure size 432x288 with 1 Axes>"
            ]
          },
          "metadata": {
            "tags": []
          }
        }
      ]
    },
    {
      "cell_type": "markdown",
      "metadata": {
        "id": "96c_FgXOo98u",
        "colab_type": "text"
      },
      "source": [
        "# SAR"
      ]
    },
    {
      "cell_type": "code",
      "metadata": {
        "id": "eRPVEtrmo-bi",
        "colab_type": "code",
        "outputId": "17ce8860-2e87-4cb9-cf95-1c8eba113c59",
        "colab": {
          "base_uri": "https://localhost:8080/",
          "height": 779
        }
      },
      "source": [
        "df['SAR'] = TA.SAR(ohlcv)\n",
        "print(df['SAR'].describe())\n",
        "sns.distplot(df['SAR'].dropna())\n",
        "df.tail()"
      ],
      "execution_count": 23,
      "outputs": [
        {
          "output_type": "stream",
          "text": [
            "count    4847.000000\n",
            "mean       15.956618\n",
            "std         9.748246\n",
            "min         2.434160\n",
            "25%         8.924571\n",
            "50%        12.634600\n",
            "75%        20.257200\n",
            "max        52.399200\n",
            "Name: SAR, dtype: float64\n"
          ],
          "name": "stdout"
        },
        {
          "output_type": "execute_result",
          "data": {
            "text/html": [
              "<div>\n",
              "<style scoped>\n",
              "    .dataframe tbody tr th:only-of-type {\n",
              "        vertical-align: middle;\n",
              "    }\n",
              "\n",
              "    .dataframe tbody tr th {\n",
              "        vertical-align: top;\n",
              "    }\n",
              "\n",
              "    .dataframe thead th {\n",
              "        text-align: right;\n",
              "    }\n",
              "</style>\n",
              "<table border=\"1\" class=\"dataframe\">\n",
              "  <thead>\n",
              "    <tr style=\"text-align: right;\">\n",
              "      <th></th>\n",
              "      <th>High</th>\n",
              "      <th>Low</th>\n",
              "      <th>Open</th>\n",
              "      <th>Close</th>\n",
              "      <th>Volume</th>\n",
              "      <th>triple_barrier_signal</th>\n",
              "      <th>RSI</th>\n",
              "      <th>Williams %R</th>\n",
              "      <th>SMA</th>\n",
              "      <th>EMA</th>\n",
              "      <th>WMA</th>\n",
              "      <th>HMA</th>\n",
              "      <th>TEMA</th>\n",
              "      <th>CCI</th>\n",
              "      <th>CMO</th>\n",
              "      <th>MACD</th>\n",
              "      <th>PPO</th>\n",
              "      <th>ROC</th>\n",
              "      <th>CFI</th>\n",
              "      <th>DMI</th>\n",
              "      <th>SAR</th>\n",
              "    </tr>\n",
              "    <tr>\n",
              "      <th>Date</th>\n",
              "      <th></th>\n",
              "      <th></th>\n",
              "      <th></th>\n",
              "      <th></th>\n",
              "      <th></th>\n",
              "      <th></th>\n",
              "      <th></th>\n",
              "      <th></th>\n",
              "      <th></th>\n",
              "      <th></th>\n",
              "      <th></th>\n",
              "      <th></th>\n",
              "      <th></th>\n",
              "      <th></th>\n",
              "      <th></th>\n",
              "      <th></th>\n",
              "      <th></th>\n",
              "      <th></th>\n",
              "      <th></th>\n",
              "      <th></th>\n",
              "      <th></th>\n",
              "    </tr>\n",
              "  </thead>\n",
              "  <tbody>\n",
              "    <tr>\n",
              "      <th>2019-09-02</th>\n",
              "      <td>32.049999</td>\n",
              "      <td>31.90</td>\n",
              "      <td>31.900000</td>\n",
              "      <td>32.000000</td>\n",
              "      <td>54000.0</td>\n",
              "      <td>0</td>\n",
              "      <td>38.863748</td>\n",
              "      <td>-74.074053</td>\n",
              "      <td>32.984147</td>\n",
              "      <td>32.161319</td>\n",
              "      <td>32.371112</td>\n",
              "      <td>31.775001</td>\n",
              "      <td>31.696991</td>\n",
              "      <td>-80.257734</td>\n",
              "      <td>-48.000031</td>\n",
              "      <td>-0.105345</td>\n",
              "      <td>-0.326692</td>\n",
              "      <td>-3.759398</td>\n",
              "      <td>4.877076e+08</td>\n",
              "      <td>-11.260637</td>\n",
              "      <td>33.526389</td>\n",
              "    </tr>\n",
              "    <tr>\n",
              "      <th>2019-09-03</th>\n",
              "      <td>31.700001</td>\n",
              "      <td>31.60</td>\n",
              "      <td>31.700001</td>\n",
              "      <td>31.600000</td>\n",
              "      <td>3500.0</td>\n",
              "      <td>0</td>\n",
              "      <td>31.372033</td>\n",
              "      <td>-88.888850</td>\n",
              "      <td>32.928049</td>\n",
              "      <td>32.049055</td>\n",
              "      <td>32.141112</td>\n",
              "      <td>31.685000</td>\n",
              "      <td>31.578322</td>\n",
              "      <td>-105.419949</td>\n",
              "      <td>-54.385998</td>\n",
              "      <td>-0.104719</td>\n",
              "      <td>-0.326501</td>\n",
              "      <td>-4.819278</td>\n",
              "      <td>4.877091e+08</td>\n",
              "      <td>-15.271919</td>\n",
              "      <td>33.392806</td>\n",
              "    </tr>\n",
              "    <tr>\n",
              "      <th>2019-09-04</th>\n",
              "      <td>32.299999</td>\n",
              "      <td>31.35</td>\n",
              "      <td>31.350000</td>\n",
              "      <td>31.900000</td>\n",
              "      <td>349114.0</td>\n",
              "      <td>0</td>\n",
              "      <td>41.183699</td>\n",
              "      <td>-77.777770</td>\n",
              "      <td>32.896342</td>\n",
              "      <td>32.019244</td>\n",
              "      <td>31.983334</td>\n",
              "      <td>31.890000</td>\n",
              "      <td>31.664011</td>\n",
              "      <td>-74.531404</td>\n",
              "      <td>-29.629685</td>\n",
              "      <td>-0.076727</td>\n",
              "      <td>-0.241281</td>\n",
              "      <td>-4.060152</td>\n",
              "      <td>4.877293e+08</td>\n",
              "      <td>-2.146584</td>\n",
              "      <td>33.267237</td>\n",
              "    </tr>\n",
              "    <tr>\n",
              "      <th>2019-09-05</th>\n",
              "      <td>31.900000</td>\n",
              "      <td>31.50</td>\n",
              "      <td>31.900000</td>\n",
              "      <td>31.500000</td>\n",
              "      <td>22002.0</td>\n",
              "      <td>0</td>\n",
              "      <td>33.758444</td>\n",
              "      <td>-92.592566</td>\n",
              "      <td>32.871952</td>\n",
              "      <td>31.915395</td>\n",
              "      <td>31.898889</td>\n",
              "      <td>31.810000</td>\n",
              "      <td>31.536907</td>\n",
              "      <td>-86.778797</td>\n",
              "      <td>-28.301911</td>\n",
              "      <td>-0.077545</td>\n",
              "      <td>-0.245294</td>\n",
              "      <td>-5.120484</td>\n",
              "      <td>4.877442e+08</td>\n",
              "      <td>-1.860372</td>\n",
              "      <td>33.149203</td>\n",
              "    </tr>\n",
              "    <tr>\n",
              "      <th>2019-09-06</th>\n",
              "      <td>33.200001</td>\n",
              "      <td>31.50</td>\n",
              "      <td>31.500000</td>\n",
              "      <td>32.849998</td>\n",
              "      <td>1559169.0</td>\n",
              "      <td>0</td>\n",
              "      <td>61.082774</td>\n",
              "      <td>-42.592637</td>\n",
              "      <td>32.867073</td>\n",
              "      <td>32.102316</td>\n",
              "      <td>31.827778</td>\n",
              "      <td>31.795000</td>\n",
              "      <td>32.126176</td>\n",
              "      <td>3.100752</td>\n",
              "      <td>14.999976</td>\n",
              "      <td>0.015479</td>\n",
              "      <td>0.043070</td>\n",
              "      <td>-0.904987</td>\n",
              "      <td>4.881391e+08</td>\n",
              "      <td>21.947567</td>\n",
              "      <td>31.299999</td>\n",
              "    </tr>\n",
              "  </tbody>\n",
              "</table>\n",
              "</div>"
            ],
            "text/plain": [
              "                 High    Low       Open  ...           CFI        DMI        SAR\n",
              "Date                                     ...                                    \n",
              "2019-09-02  32.049999  31.90  31.900000  ...  4.877076e+08 -11.260637  33.526389\n",
              "2019-09-03  31.700001  31.60  31.700001  ...  4.877091e+08 -15.271919  33.392806\n",
              "2019-09-04  32.299999  31.35  31.350000  ...  4.877293e+08  -2.146584  33.267237\n",
              "2019-09-05  31.900000  31.50  31.900000  ...  4.877442e+08  -1.860372  33.149203\n",
              "2019-09-06  33.200001  31.50  31.500000  ...  4.881391e+08  21.947567  31.299999\n",
              "\n",
              "[5 rows x 21 columns]"
            ]
          },
          "metadata": {
            "tags": []
          },
          "execution_count": 23
        },
        {
          "output_type": "display_data",
          "data": {
            "image/png": "[encoded data removed]",
            "text/plain": [
              "<Figure size 432x288 with 1 Axes>"
            ]
          },
          "metadata": {
            "tags": []
          }
        }
      ]
    },
    {
      "cell_type": "markdown",
      "metadata": {
        "id": "MoqrDEejwYOV",
        "colab_type": "text"
      },
      "source": [
        "# columns選取"
      ]
    },
    {
      "cell_type": "code",
      "metadata": {
        "id": "qrGg0ojRKuE1",
        "colab_type": "code",
        "outputId": "a1b504a9-3398-405f-8984-f6a2e7fbe8e6",
        "colab": {
          "base_uri": "https://localhost:8080/",
          "height": 374
        }
      },
      "source": [
        "df = df.dropna(axis=0)#刪除有缺失的row,會缺失主要因為用時間rolling計算技術指標導致,正常的\n",
        "features = df.columns[-15:].tolist() #15個剛剛建立的技術指標\n",
        "y_name = 'triple_barrier_signal' #當作labels\n",
        "df = df[features+[y_name]]\n",
        "print(df.shape)\n",
        "df.tail()"
      ],
      "execution_count": 24,
      "outputs": [
        {
          "output_type": "stream",
          "text": [
            "(4720, 16)\n"
          ],
          "name": "stdout"
        },
        {
          "output_type": "execute_result",
          "data": {
            "text/html": [
              "<div>\n",
              "<style scoped>\n",
              "    .dataframe tbody tr th:only-of-type {\n",
              "        vertical-align: middle;\n",
              "    }\n",
              "\n",
              "    .dataframe tbody tr th {\n",
              "        vertical-align: top;\n",
              "    }\n",
              "\n",
              "    .dataframe thead th {\n",
              "        text-align: right;\n",
              "    }\n",
              "</style>\n",
              "<table border=\"1\" class=\"dataframe\">\n",
              "  <thead>\n",
              "    <tr style=\"text-align: right;\">\n",
              "      <th></th>\n",
              "      <th>RSI</th>\n",
              "      <th>Williams %R</th>\n",
              "      <th>SMA</th>\n",
              "      <th>EMA</th>\n",
              "      <th>WMA</th>\n",
              "      <th>HMA</th>\n",
              "      <th>TEMA</th>\n",
              "      <th>CCI</th>\n",
              "      <th>CMO</th>\n",
              "      <th>MACD</th>\n",
              "      <th>PPO</th>\n",
              "      <th>ROC</th>\n",
              "      <th>CFI</th>\n",
              "      <th>DMI</th>\n",
              "      <th>SAR</th>\n",
              "      <th>triple_barrier_signal</th>\n",
              "    </tr>\n",
              "    <tr>\n",
              "      <th>Date</th>\n",
              "      <th></th>\n",
              "      <th></th>\n",
              "      <th></th>\n",
              "      <th></th>\n",
              "      <th></th>\n",
              "      <th></th>\n",
              "      <th></th>\n",
              "      <th></th>\n",
              "      <th></th>\n",
              "      <th></th>\n",
              "      <th></th>\n",
              "      <th></th>\n",
              "      <th></th>\n",
              "      <th></th>\n",
              "      <th></th>\n",
              "      <th></th>\n",
              "    </tr>\n",
              "  </thead>\n",
              "  <tbody>\n",
              "    <tr>\n",
              "      <th>2019-09-02</th>\n",
              "      <td>38.863748</td>\n",
              "      <td>-74.074053</td>\n",
              "      <td>32.984147</td>\n",
              "      <td>32.161319</td>\n",
              "      <td>32.371112</td>\n",
              "      <td>31.775001</td>\n",
              "      <td>31.696991</td>\n",
              "      <td>-80.257734</td>\n",
              "      <td>-48.000031</td>\n",
              "      <td>-0.105345</td>\n",
              "      <td>-0.326692</td>\n",
              "      <td>-3.759398</td>\n",
              "      <td>4.877076e+08</td>\n",
              "      <td>-11.260637</td>\n",
              "      <td>33.526389</td>\n",
              "      <td>0</td>\n",
              "    </tr>\n",
              "    <tr>\n",
              "      <th>2019-09-03</th>\n",
              "      <td>31.372033</td>\n",
              "      <td>-88.888850</td>\n",
              "      <td>32.928049</td>\n",
              "      <td>32.049055</td>\n",
              "      <td>32.141112</td>\n",
              "      <td>31.685000</td>\n",
              "      <td>31.578322</td>\n",
              "      <td>-105.419949</td>\n",
              "      <td>-54.385998</td>\n",
              "      <td>-0.104719</td>\n",
              "      <td>-0.326501</td>\n",
              "      <td>-4.819278</td>\n",
              "      <td>4.877091e+08</td>\n",
              "      <td>-15.271919</td>\n",
              "      <td>33.392806</td>\n",
              "      <td>0</td>\n",
              "    </tr>\n",
              "    <tr>\n",
              "      <th>2019-09-04</th>\n",
              "      <td>41.183699</td>\n",
              "      <td>-77.777770</td>\n",
              "      <td>32.896342</td>\n",
              "      <td>32.019244</td>\n",
              "      <td>31.983334</td>\n",
              "      <td>31.890000</td>\n",
              "      <td>31.664011</td>\n",
              "      <td>-74.531404</td>\n",
              "      <td>-29.629685</td>\n",
              "      <td>-0.076727</td>\n",
              "      <td>-0.241281</td>\n",
              "      <td>-4.060152</td>\n",
              "      <td>4.877293e+08</td>\n",
              "      <td>-2.146584</td>\n",
              "      <td>33.267237</td>\n",
              "      <td>0</td>\n",
              "    </tr>\n",
              "    <tr>\n",
              "      <th>2019-09-05</th>\n",
              "      <td>33.758444</td>\n",
              "      <td>-92.592566</td>\n",
              "      <td>32.871952</td>\n",
              "      <td>31.915395</td>\n",
              "      <td>31.898889</td>\n",
              "      <td>31.810000</td>\n",
              "      <td>31.536907</td>\n",
              "      <td>-86.778797</td>\n",
              "      <td>-28.301911</td>\n",
              "      <td>-0.077545</td>\n",
              "      <td>-0.245294</td>\n",
              "      <td>-5.120484</td>\n",
              "      <td>4.877442e+08</td>\n",
              "      <td>-1.860372</td>\n",
              "      <td>33.149203</td>\n",
              "      <td>0</td>\n",
              "    </tr>\n",
              "    <tr>\n",
              "      <th>2019-09-06</th>\n",
              "      <td>61.082774</td>\n",
              "      <td>-42.592637</td>\n",
              "      <td>32.867073</td>\n",
              "      <td>32.102316</td>\n",
              "      <td>31.827778</td>\n",
              "      <td>31.795000</td>\n",
              "      <td>32.126176</td>\n",
              "      <td>3.100752</td>\n",
              "      <td>14.999976</td>\n",
              "      <td>0.015479</td>\n",
              "      <td>0.043070</td>\n",
              "      <td>-0.904987</td>\n",
              "      <td>4.881391e+08</td>\n",
              "      <td>21.947567</td>\n",
              "      <td>31.299999</td>\n",
              "      <td>0</td>\n",
              "    </tr>\n",
              "  </tbody>\n",
              "</table>\n",
              "</div>"
            ],
            "text/plain": [
              "                  RSI  Williams %R  ...        SAR  triple_barrier_signal\n",
              "Date                                ...                                  \n",
              "2019-09-02  38.863748   -74.074053  ...  33.526389                      0\n",
              "2019-09-03  31.372033   -88.888850  ...  33.392806                      0\n",
              "2019-09-04  41.183699   -77.777770  ...  33.267237                      0\n",
              "2019-09-05  33.758444   -92.592566  ...  33.149203                      0\n",
              "2019-09-06  61.082774   -42.592637  ...  31.299999                      0\n",
              "\n",
              "[5 rows x 16 columns]"
            ]
          },
          "metadata": {
            "tags": []
          },
          "execution_count": 24
        }
      ]
    },
    {
      "cell_type": "markdown",
      "metadata": {
        "id": "YSh6cJBEwgtg",
        "colab_type": "text"
      },
      "source": [
        "# 相關性分析"
      ]
    },
    {
      "cell_type": "code",
      "metadata": {
        "id": "hKy0pMZfLKEH",
        "colab_type": "code",
        "outputId": "a45ce9ca-9d1e-44a9-a012-b78aa1d52a83",
        "colab": {
          "base_uri": "https://localhost:8080/",
          "height": 811
        }
      },
      "source": [
        "import seaborn as sns\n",
        "import matplotlib.pyplot as plt\n",
        "plt.figure(figsize=(14,12))\n",
        "sns.heatmap(abs(df.corr()),annot=True,linewidths=0.1)"
      ],
      "execution_count": 25,
      "outputs": [
        {
          "output_type": "execute_result",
          "data": {
            "text/plain": [
              "<matplotlib.axes._subplots.AxesSubplot at 0x7f32c59594a8>"
            ]
          },
          "metadata": {
            "tags": []
          },
          "execution_count": 25
        },
        {
          "output_type": "display_data",
          "data": {
            "image/png": "[encoded data removed]",
            "text/plain": [
              "<Figure size 1008x864 with 2 Axes>"
            ]
          },
          "metadata": {
            "tags": []
          }
        }
      ]
    },
    {
      "cell_type": "markdown",
      "metadata": {
        "id": "c68TXVQaqGl3",
        "colab_type": "text"
      },
      "source": [
        "# features scaling"
      ]
    },
    {
      "cell_type": "code",
      "metadata": {
        "id": "JpZPZWfJqGuo",
        "colab_type": "code",
        "outputId": "90cc40f1-a61e-4690-a1ea-2924997c8d97",
        "colab": {
          "base_uri": "https://localhost:8080/",
          "height": 547
        }
      },
      "source": [
        "from sklearn.preprocessing import MinMaxScaler\n",
        "min_max_scaler = MinMaxScaler()\n",
        "df_minmax = min_max_scaler.fit_transform(df)#縮放到0-1之間\n",
        "df_minmax = pd.DataFrame(df_minmax,\n",
        "                         index=df.index,\n",
        "                         columns=df.columns)#轉回dataframe格式\n",
        "df_minmax[y_name] = df[y_name]#y不用MinMaxScaler\n",
        "print(df_minmax.describe())\n",
        "df_minmax.tail()"
      ],
      "execution_count": 26,
      "outputs": [
        {
          "output_type": "stream",
          "text": [
            "               RSI  Williams %R  ...          SAR  triple_barrier_signal\n",
            "count  4720.000000  4720.000000  ...  4720.000000            4720.000000\n",
            "mean      0.491499     0.441601  ...     0.268306              -0.274153\n",
            "std       0.188702     0.294352  ...     0.197071               0.915044\n",
            "min       0.000000     0.000000  ...     0.000000              -1.000000\n",
            "25%       0.366782     0.192533  ...     0.127564              -1.000000\n",
            "50%       0.484029     0.402729  ...     0.198864              -1.000000\n",
            "75%       0.605407     0.679992  ...     0.354299               1.000000\n",
            "max       1.000000     1.000000  ...     1.000000               1.000000\n",
            "\n",
            "[8 rows x 16 columns]\n"
          ],
          "name": "stdout"
        },
        {
          "output_type": "execute_result",
          "data": {
            "text/html": [
              "<div>\n",
              "<style scoped>\n",
              "    .dataframe tbody tr th:only-of-type {\n",
              "        vertical-align: middle;\n",
              "    }\n",
              "\n",
              "    .dataframe tbody tr th {\n",
              "        vertical-align: top;\n",
              "    }\n",
              "\n",
              "    .dataframe thead th {\n",
              "        text-align: right;\n",
              "    }\n",
              "</style>\n",
              "<table border=\"1\" class=\"dataframe\">\n",
              "  <thead>\n",
              "    <tr style=\"text-align: right;\">\n",
              "      <th></th>\n",
              "      <th>RSI</th>\n",
              "      <th>Williams %R</th>\n",
              "      <th>SMA</th>\n",
              "      <th>EMA</th>\n",
              "      <th>WMA</th>\n",
              "      <th>HMA</th>\n",
              "      <th>TEMA</th>\n",
              "      <th>CCI</th>\n",
              "      <th>CMO</th>\n",
              "      <th>MACD</th>\n",
              "      <th>PPO</th>\n",
              "      <th>ROC</th>\n",
              "      <th>CFI</th>\n",
              "      <th>DMI</th>\n",
              "      <th>SAR</th>\n",
              "      <th>triple_barrier_signal</th>\n",
              "    </tr>\n",
              "    <tr>\n",
              "      <th>Date</th>\n",
              "      <th></th>\n",
              "      <th></th>\n",
              "      <th></th>\n",
              "      <th></th>\n",
              "      <th></th>\n",
              "      <th></th>\n",
              "      <th></th>\n",
              "      <th></th>\n",
              "      <th></th>\n",
              "      <th></th>\n",
              "      <th></th>\n",
              "      <th></th>\n",
              "      <th></th>\n",
              "      <th></th>\n",
              "      <th></th>\n",
              "      <th></th>\n",
              "    </tr>\n",
              "  </thead>\n",
              "  <tbody>\n",
              "    <tr>\n",
              "      <th>2019-09-02</th>\n",
              "      <td>0.399168</td>\n",
              "      <td>0.259259</td>\n",
              "      <td>0.729733</td>\n",
              "      <td>0.653489</td>\n",
              "      <td>0.640593</td>\n",
              "      <td>0.621671</td>\n",
              "      <td>0.604928</td>\n",
              "      <td>0.360775</td>\n",
              "      <td>0.260000</td>\n",
              "      <td>0.342840</td>\n",
              "      <td>0.348065</td>\n",
              "      <td>0.283272</td>\n",
              "      <td>0.999254</td>\n",
              "      <td>0.491530</td>\n",
              "      <td>0.622280</td>\n",
              "      <td>0</td>\n",
              "    </tr>\n",
              "    <tr>\n",
              "      <th>2019-09-03</th>\n",
              "      <td>0.322212</td>\n",
              "      <td>0.111112</td>\n",
              "      <td>0.728382</td>\n",
              "      <td>0.651010</td>\n",
              "      <td>0.635652</td>\n",
              "      <td>0.619757</td>\n",
              "      <td>0.602468</td>\n",
              "      <td>0.316051</td>\n",
              "      <td>0.228070</td>\n",
              "      <td>0.343041</td>\n",
              "      <td>0.348081</td>\n",
              "      <td>0.274713</td>\n",
              "      <td>0.999257</td>\n",
              "      <td>0.483745</td>\n",
              "      <td>0.619606</td>\n",
              "      <td>0</td>\n",
              "    </tr>\n",
              "    <tr>\n",
              "      <th>2019-09-04</th>\n",
              "      <td>0.422998</td>\n",
              "      <td>0.222222</td>\n",
              "      <td>0.727618</td>\n",
              "      <td>0.650352</td>\n",
              "      <td>0.632262</td>\n",
              "      <td>0.624116</td>\n",
              "      <td>0.604244</td>\n",
              "      <td>0.370953</td>\n",
              "      <td>0.351852</td>\n",
              "      <td>0.352045</td>\n",
              "      <td>0.355150</td>\n",
              "      <td>0.280844</td>\n",
              "      <td>0.999292</td>\n",
              "      <td>0.509218</td>\n",
              "      <td>0.617093</td>\n",
              "      <td>0</td>\n",
              "    </tr>\n",
              "    <tr>\n",
              "      <th>2019-09-05</th>\n",
              "      <td>0.346725</td>\n",
              "      <td>0.074074</td>\n",
              "      <td>0.727031</td>\n",
              "      <td>0.648060</td>\n",
              "      <td>0.630448</td>\n",
              "      <td>0.622415</td>\n",
              "      <td>0.601610</td>\n",
              "      <td>0.349184</td>\n",
              "      <td>0.358490</td>\n",
              "      <td>0.351782</td>\n",
              "      <td>0.354817</td>\n",
              "      <td>0.272280</td>\n",
              "      <td>0.999318</td>\n",
              "      <td>0.509774</td>\n",
              "      <td>0.614731</td>\n",
              "      <td>0</td>\n",
              "    </tr>\n",
              "    <tr>\n",
              "      <th>2019-09-06</th>\n",
              "      <td>0.627405</td>\n",
              "      <td>0.574074</td>\n",
              "      <td>0.726913</td>\n",
              "      <td>0.652186</td>\n",
              "      <td>0.628920</td>\n",
              "      <td>0.622096</td>\n",
              "      <td>0.613824</td>\n",
              "      <td>0.508937</td>\n",
              "      <td>0.575000</td>\n",
              "      <td>0.381703</td>\n",
              "      <td>0.378739</td>\n",
              "      <td>0.306325</td>\n",
              "      <td>1.000000</td>\n",
              "      <td>0.555980</td>\n",
              "      <td>0.577721</td>\n",
              "      <td>0</td>\n",
              "    </tr>\n",
              "  </tbody>\n",
              "</table>\n",
              "</div>"
            ],
            "text/plain": [
              "                 RSI  Williams %R  ...       SAR  triple_barrier_signal\n",
              "Date                               ...                                 \n",
              "2019-09-02  0.399168     0.259259  ...  0.622280                      0\n",
              "2019-09-03  0.322212     0.111112  ...  0.619606                      0\n",
              "2019-09-04  0.422998     0.222222  ...  0.617093                      0\n",
              "2019-09-05  0.346725     0.074074  ...  0.614731                      0\n",
              "2019-09-06  0.627405     0.574074  ...  0.577721                      0\n",
              "\n",
              "[5 rows x 16 columns]"
            ]
          },
          "metadata": {
            "tags": []
          },
          "execution_count": 26
        }
      ]
    },
    {
      "cell_type": "code",
      "metadata": {
        "id": "5MCZDpBgrrQQ",
        "colab_type": "code",
        "outputId": "9359928c-f539-4474-f111-202687d5049a",
        "colab": {
          "base_uri": "https://localhost:8080/",
          "height": 35
        }
      },
      "source": [
        "df = df_minmax\n",
        "print('特徵縮放完成!')"
      ],
      "execution_count": 27,
      "outputs": [
        {
          "output_type": "stream",
          "text": [
            "特徵縮放完成!\n"
          ],
          "name": "stdout"
        }
      ]
    },
    {
      "cell_type": "markdown",
      "metadata": {
        "id": "_kc7tvz_M7PO",
        "colab_type": "text"
      },
      "source": [
        "# Xs ,ys prepare"
      ]
    },
    {
      "cell_type": "code",
      "metadata": {
        "id": "2ZHvlRJ5Lzzu",
        "colab_type": "code",
        "outputId": "e6a36706-b5f3-47dd-fae8-c318c93db8fc",
        "colab": {
          "base_uri": "https://localhost:8080/",
          "height": 52
        }
      },
      "source": [
        "from tqdm import tqdm\n",
        "import numpy as np\n",
        "\n",
        "#定義觀察天數,起始index(0),結束index(資料筆數-觀察天數)\n",
        "days = 15\n",
        "b_index = 0\n",
        "f_index = len(df)-days\n",
        "\n",
        "#特徵欄位\n",
        "features = df.drop(y_name,axis=1).columns.tolist()\n",
        "\n",
        "#待存放序列\n",
        "Xs = []\n",
        "ys = []\n",
        "indexs = []\n",
        "\n",
        "for i in tqdm(range(b_index,f_index,1)):#每次i都會遞增1\n",
        "  X = df.iloc[i:i+days,:][features] #ex:0...14(不含15)之features\n",
        "  y = df.iloc[i+days-1:i+days,:][y_name]#ex:14,y_name\n",
        "  X = np.array(X) # to np_array\n",
        "  Xs.append(X) #加入一筆X\n",
        "  ys.append(y) #加入一筆y\n",
        "  indexs.append((df.iloc[[i]].index,\n",
        "                 df.iloc[[i+days]].index)) #加入資料日期\n",
        "#轉換成np_array\n",
        "Xs = np.array(Xs)\n",
        "ys = np.array(ys)\n",
        "print('準備完成')"
      ],
      "execution_count": 28,
      "outputs": [
        {
          "output_type": "stream",
          "text": [
            "100%|██████████| 4705/4705 [00:09<00:00, 478.54it/s]\n"
          ],
          "name": "stderr"
        },
        {
          "output_type": "stream",
          "text": [
            "準備完成\n"
          ],
          "name": "stdout"
        }
      ]
    },
    {
      "cell_type": "markdown",
      "metadata": {
        "id": "a9iNRYKpNfIP",
        "colab_type": "text"
      },
      "source": [
        "# check"
      ]
    },
    {
      "cell_type": "code",
      "metadata": {
        "id": "7YiS6ZmtNfSf",
        "colab_type": "code",
        "outputId": "2cdedc73-b995-40e3-bee2-8d1e666e882b",
        "colab": {
          "base_uri": "https://localhost:8080/",
          "height": 69
        }
      },
      "source": [
        "print('資料筆數:',len(Xs))\n",
        "print('第一筆的index開始和結束:{}-{}'.format(indexs[0][0].date[0],indexs[0][1].date[0]))\n",
        "print('最後一筆的index開始和結束:{}-{}'.format(indexs[-1][0].date[0],indexs[-1][1].date[0]))"
      ],
      "execution_count": 29,
      "outputs": [
        {
          "output_type": "stream",
          "text": [
            "資料筆數: 4705\n",
            "第一筆的index開始和結束:2000-04-28-2000-05-19\n",
            "最後一筆的index開始和結束:2019-08-15-2019-09-06\n"
          ],
          "name": "stdout"
        }
      ]
    },
    {
      "cell_type": "markdown",
      "metadata": {
        "id": "Pabl4tEsXYB8",
        "colab_type": "text"
      },
      "source": [
        "# Reshape X"
      ]
    },
    {
      "cell_type": "markdown",
      "metadata": {
        "id": "RvUPQWb1An8u",
        "colab_type": "text"
      },
      "source": [
        "(圖片數量,長,寬,1張)"
      ]
    },
    {
      "cell_type": "code",
      "metadata": {
        "id": "In4R0IcSPDwG",
        "colab_type": "code",
        "outputId": "6f0b4e56-cd3f-40d8-83aa-b2b6a2e9079f",
        "colab": {
          "base_uri": "https://localhost:8080/",
          "height": 52
        }
      },
      "source": [
        "print(Xs.shape)\n",
        "Xs = Xs.reshape(-1,days,len(features),1)\n",
        "print(Xs.shape)"
      ],
      "execution_count": 30,
      "outputs": [
        {
          "output_type": "stream",
          "text": [
            "(4705, 15, 15)\n",
            "(4705, 15, 15, 1)\n"
          ],
          "name": "stdout"
        }
      ]
    },
    {
      "cell_type": "markdown",
      "metadata": {
        "id": "lUy2cpReXaOV",
        "colab_type": "text"
      },
      "source": [
        "# One hot encoding of label"
      ]
    },
    {
      "cell_type": "markdown",
      "metadata": {
        "id": "hjDc-sStA1gk",
        "colab_type": "text"
      },
      "source": [
        "原始y代表漲幅"
      ]
    },
    {
      "cell_type": "code",
      "metadata": {
        "id": "6XGRdxmfWrfo",
        "colab_type": "code",
        "outputId": "83c5c164-af19-4e49-c09c-4ca34f82ce29",
        "colab": {
          "base_uri": "https://localhost:8080/",
          "height": 243
        }
      },
      "source": [
        "print(ys.shape)\n",
        "print(ys[:5])\n",
        "\n",
        "from keras.utils.np_utils import to_categorical\n",
        "ys = to_categorical(ys, num_classes = 3)\n",
        "print(ys.shape)\n",
        "print(ys[:5])"
      ],
      "execution_count": 31,
      "outputs": [
        {
          "output_type": "stream",
          "text": [
            "(4705, 1)\n",
            "[[-1]\n",
            " [-1]\n",
            " [-1]\n",
            " [-1]\n",
            " [-1]]\n"
          ],
          "name": "stdout"
        },
        {
          "output_type": "stream",
          "text": [
            "Using TensorFlow backend.\n"
          ],
          "name": "stderr"
        },
        {
          "output_type": "stream",
          "text": [
            "(4705, 3)\n",
            "[[0. 0. 1.]\n",
            " [0. 0. 1.]\n",
            " [0. 0. 1.]\n",
            " [0. 0. 1.]\n",
            " [0. 0. 1.]]\n"
          ],
          "name": "stdout"
        }
      ]
    },
    {
      "cell_type": "markdown",
      "metadata": {
        "id": "TYcPI2TWBTpJ",
        "colab_type": "text"
      },
      "source": [
        "# Visualization"
      ]
    },
    {
      "cell_type": "code",
      "metadata": {
        "id": "ibNjBLRaBUJh",
        "colab_type": "code",
        "outputId": "5dd91641-25f3-4dac-ad74-594c4b3cd9e3",
        "colab": {
          "base_uri": "https://localhost:8080/",
          "height": 607
        }
      },
      "source": [
        "import matplotlib.pyplot as plt\n",
        "import matplotlib.image as mpimg\n",
        "%matplotlib inline\n",
        "Xs_v = Xs.reshape(-1,Xs.shape[1],Xs.shape[2])\n",
        "plt.figure(figsize=(10,10))\n",
        "plt.subplots_adjust(wspace =0, hspace =0.3)\n",
        "for i in range(0,9):\n",
        "    plt.subplot(330 + (i+1))\n",
        "    plt.imshow(Xs_v[i])\n",
        "    plt.title(np.argmax(ys[i]))"
      ],
      "execution_count": 32,
      "outputs": [
        {
          "output_type": "display_data",
          "data": {
            "image/png": "[encoded data removed]",
            "text/plain": [
              "<Figure size 720x720 with 9 Axes>"
            ]
          },
          "metadata": {
            "tags": []
          }
        }
      ]
    },
    {
      "cell_type": "markdown",
      "metadata": {
        "id": "5Oa6gYq_aVjE",
        "colab_type": "text"
      },
      "source": [
        "# Split training and validation sets"
      ]
    },
    {
      "cell_type": "code",
      "metadata": {
        "id": "OLHFbreckAlH",
        "colab_type": "code",
        "colab": {
          "base_uri": "https://localhost:8080/",
          "height": 35
        },
        "outputId": "c0284598-2a79-4403-bfce-950892131126"
      },
      "source": [
        "X_test = Xs[-40:] #最後40天features當作test資料\n",
        "X_train,y_train = Xs[:-40],ys[:-40] #其他當作訓練\n",
        "print(X_train.shape,y_train.shape,X_test.shape)"
      ],
      "execution_count": 33,
      "outputs": [
        {
          "output_type": "stream",
          "text": [
            "(4665, 15, 15, 1) (4665, 3) (40, 15, 15, 1)\n"
          ],
          "name": "stdout"
        }
      ]
    },
    {
      "cell_type": "code",
      "metadata": {
        "id": "MgsrVpYUYf5J",
        "colab_type": "code",
        "outputId": "afe7b837-ccb5-4ea8-fd20-d5191133e00f",
        "colab": {
          "base_uri": "https://localhost:8080/",
          "height": 35
        }
      },
      "source": [
        "from sklearn.model_selection import train_test_split\n",
        "xtrain, xval, ytrain, yval = train_test_split(X_train,\n",
        "                                              y_train, \n",
        "                                              test_size=0.2,\n",
        "                                              random_state=42,\n",
        "                                              shuffle=True,#是否洗牌\n",
        "                                              stratify=None #是否根據y欄位做分層取樣\n",
        "                                             )\n",
        "print(xtrain.shape, ytrain.shape, xval.shape, yval.shape)"
      ],
      "execution_count": 34,
      "outputs": [
        {
          "output_type": "stream",
          "text": [
            "(3732, 15, 15, 1) (3732, 3) (933, 15, 15, 1) (933, 3)\n"
          ],
          "name": "stdout"
        }
      ]
    },
    {
      "cell_type": "markdown",
      "metadata": {
        "id": "2xQOFrENMkSb",
        "colab_type": "text"
      },
      "source": [
        "# 看一下樣本的label分布情況是否平均(待解決)"
      ]
    },
    {
      "cell_type": "markdown",
      "metadata": {
        "id": "xnUz7A3tlfya",
        "colab_type": "text"
      },
      "source": [
        "0:Hold,1:Buy,2:Sell"
      ]
    },
    {
      "cell_type": "code",
      "metadata": {
        "id": "aA9SXiicML6Y",
        "colab_type": "code",
        "outputId": "021d4884-9c7f-4834-af48-ace2c781b5cf",
        "colab": {
          "base_uri": "https://localhost:8080/",
          "height": 87
        }
      },
      "source": [
        "pd.Series([np.argmax(i) for i in ys]).value_counts()"
      ],
      "execution_count": 35,
      "outputs": [
        {
          "output_type": "execute_result",
          "data": {
            "text/plain": [
              "2    2792\n",
              "1    1506\n",
              "0     407\n",
              "dtype: int64"
            ]
          },
          "metadata": {
            "tags": []
          },
          "execution_count": 35
        }
      ]
    },
    {
      "cell_type": "code",
      "metadata": {
        "id": "UIOBe8tVL5dV",
        "colab_type": "code",
        "outputId": "3de1faa7-739a-4c0d-e3e4-836edebac003",
        "colab": {
          "base_uri": "https://localhost:8080/",
          "height": 87
        }
      },
      "source": [
        "pd.Series([np.argmax(i) for i in ytrain]).value_counts()"
      ],
      "execution_count": 36,
      "outputs": [
        {
          "output_type": "execute_result",
          "data": {
            "text/plain": [
              "2    2245\n",
              "1    1191\n",
              "0     296\n",
              "dtype: int64"
            ]
          },
          "metadata": {
            "tags": []
          },
          "execution_count": 36
        }
      ]
    },
    {
      "cell_type": "code",
      "metadata": {
        "id": "A235BZ6cMQ-S",
        "colab_type": "code",
        "outputId": "1ac8eaaa-eadb-4e03-8eff-78f3955fbe17",
        "colab": {
          "base_uri": "https://localhost:8080/",
          "height": 87
        }
      },
      "source": [
        "pd.Series([np.argmax(i) for i in yval]).value_counts()"
      ],
      "execution_count": 37,
      "outputs": [
        {
          "output_type": "execute_result",
          "data": {
            "text/plain": [
              "2    536\n",
              "1    315\n",
              "0     82\n",
              "dtype: int64"
            ]
          },
          "metadata": {
            "tags": []
          },
          "execution_count": 37
        }
      ]
    },
    {
      "cell_type": "markdown",
      "metadata": {
        "id": "m-oXz0FGarb1",
        "colab_type": "text"
      },
      "source": [
        "# CNN"
      ]
    },
    {
      "cell_type": "code",
      "metadata": {
        "id": "eWOsWp7_amoX",
        "colab_type": "code",
        "colab": {}
      },
      "source": [
        "from keras import backend as K\n",
        "from keras.models import Sequential\n",
        "from keras.layers import Dense, Dropout, Lambda, Flatten, BatchNormalization\n",
        "from keras.layers import Conv2D, MaxPool2D, AvgPool2D\n",
        "from keras.optimizers import Adam #做梯度下降的一種優化方法\n",
        "from keras.callbacks import ReduceLROnPlateau , EarlyStopping #減少學習速率 on Plateau"
      ],
      "execution_count": 0,
      "outputs": []
    },
    {
      "cell_type": "code",
      "metadata": {
        "id": "yd-csnW2auJS",
        "colab_type": "code",
        "outputId": "71162415-9007-45fc-a63b-375e303bbfb2",
        "colab": {
          "base_uri": "https://localhost:8080/",
          "height": 679
        }
      },
      "source": [
        "model = Sequential()\n",
        "\n",
        "nclasses = 3 \n",
        "\n",
        "model.add(Conv2D(filters=32, kernel_size=(3,3), padding='same', activation='relu', input_shape=(15,15,1)))\n",
        "model.add(Conv2D(filters=64, kernel_size=(3,3), padding='same', activation='relu',))\n",
        "model.add(MaxPool2D(pool_size=(2,2)))\n",
        "model.add(Dropout(0.25))\n",
        "model.add(Flatten())\n",
        "model.add(Dense(128, activation='relu'))\n",
        "model.add(Dropout(0.50))\n",
        "model.add(Dense(nclasses, activation='softmax'))\n",
        "model.summary()"
      ],
      "execution_count": 39,
      "outputs": [
        {
          "output_type": "stream",
          "text": [
            "WARNING:tensorflow:From /usr/local/lib/python3.6/dist-packages/keras/backend/tensorflow_backend.py:66: The name tf.get_default_graph is deprecated. Please use tf.compat.v1.get_default_graph instead.\n",
            "\n",
            "WARNING:tensorflow:From /usr/local/lib/python3.6/dist-packages/keras/backend/tensorflow_backend.py:541: The name tf.placeholder is deprecated. Please use tf.compat.v1.placeholder instead.\n",
            "\n",
            "WARNING:tensorflow:From /usr/local/lib/python3.6/dist-packages/keras/backend/tensorflow_backend.py:4432: The name tf.random_uniform is deprecated. Please use tf.random.uniform instead.\n",
            "\n",
            "WARNING:tensorflow:From /usr/local/lib/python3.6/dist-packages/keras/backend/tensorflow_backend.py:4267: The name tf.nn.max_pool is deprecated. Please use tf.nn.max_pool2d instead.\n",
            "\n",
            "WARNING:tensorflow:From /usr/local/lib/python3.6/dist-packages/keras/backend/tensorflow_backend.py:148: The name tf.placeholder_with_default is deprecated. Please use tf.compat.v1.placeholder_with_default instead.\n",
            "\n",
            "WARNING:tensorflow:From /usr/local/lib/python3.6/dist-packages/keras/backend/tensorflow_backend.py:3733: calling dropout (from tensorflow.python.ops.nn_ops) with keep_prob is deprecated and will be removed in a future version.\n",
            "Instructions for updating:\n",
            "Please use `rate` instead of `keep_prob`. Rate should be set to `rate = 1 - keep_prob`.\n",
            "Model: \"sequential_1\"\n",
            "_________________________________________________________________\n",
            "Layer (type)                 Output Shape              Param #   \n",
            "=================================================================\n",
            "conv2d_1 (Conv2D)            (None, 15, 15, 32)        320       \n",
            "_________________________________________________________________\n",
            "conv2d_2 (Conv2D)            (None, 15, 15, 64)        18496     \n",
            "_________________________________________________________________\n",
            "max_pooling2d_1 (MaxPooling2 (None, 7, 7, 64)          0         \n",
            "_________________________________________________________________\n",
            "dropout_1 (Dropout)          (None, 7, 7, 64)          0         \n",
            "_________________________________________________________________\n",
            "flatten_1 (Flatten)          (None, 3136)              0         \n",
            "_________________________________________________________________\n",
            "dense_1 (Dense)              (None, 128)               401536    \n",
            "_________________________________________________________________\n",
            "dropout_2 (Dropout)          (None, 128)               0         \n",
            "_________________________________________________________________\n",
            "dense_2 (Dense)              (None, 3)                 387       \n",
            "=================================================================\n",
            "Total params: 420,739\n",
            "Trainable params: 420,739\n",
            "Non-trainable params: 0\n",
            "_________________________________________________________________\n"
          ],
          "name": "stdout"
        }
      ]
    },
    {
      "cell_type": "code",
      "metadata": {
        "id": "8Z913AqUa8bJ",
        "colab_type": "code",
        "outputId": "5e5e7a51-d950-4815-c461-7f3831439353",
        "colab": {
          "base_uri": "https://localhost:8080/",
          "height": 107
        }
      },
      "source": [
        "model.compile(optimizer=\"adam\", loss=\"categorical_crossentropy\", metrics=[\"accuracy\"])"
      ],
      "execution_count": 40,
      "outputs": [
        {
          "output_type": "stream",
          "text": [
            "WARNING:tensorflow:From /usr/local/lib/python3.6/dist-packages/keras/optimizers.py:793: The name tf.train.Optimizer is deprecated. Please use tf.compat.v1.train.Optimizer instead.\n",
            "\n",
            "WARNING:tensorflow:From /usr/local/lib/python3.6/dist-packages/keras/backend/tensorflow_backend.py:3576: The name tf.log is deprecated. Please use tf.math.log instead.\n",
            "\n"
          ],
          "name": "stdout"
        }
      ]
    },
    {
      "cell_type": "markdown",
      "metadata": {
        "id": "VORA4n9Lz9of",
        "colab_type": "text"
      },
      "source": [
        "# 優化器"
      ]
    },
    {
      "cell_type": "code",
      "metadata": {
        "id": "Kw_j4R4Da_To",
        "colab_type": "code",
        "colab": {}
      },
      "source": [
        "#1\n",
        "lr_reduction = ReduceLROnPlateau(monitor = 'val_acc', \n",
        "                                 factor=0.5, \n",
        "                                 patience = 3, \n",
        "                                 verbose = 1, \n",
        "                                 min_lr = 0.00001)\n",
        "\n",
        "#2\n",
        "es = EarlyStopping(monitor='val_loss',#驗證集loss\n",
        "                   min_delta=0, \n",
        "                   patience=20,  \n",
        "                   mode='min',\n",
        "                   restore_best_weights=False)#恢復最佳權重"
      ],
      "execution_count": 0,
      "outputs": []
    },
    {
      "cell_type": "markdown",
      "metadata": {
        "id": "aevlVsI9Lk9a",
        "colab_type": "text"
      },
      "source": [
        "# fit"
      ]
    },
    {
      "cell_type": "code",
      "metadata": {
        "id": "TJJR7Yg-bHac",
        "colab_type": "code",
        "outputId": "58a9c419-5c21-4777-aded-e52a34bc6982",
        "colab": {
          "base_uri": "https://localhost:8080/",
          "height": 1000
        }
      },
      "source": [
        "history = model.fit(xtrain,ytrain,\n",
        "                    batch_size=128,\n",
        "                    epochs=200,\n",
        "                    validation_data=(xval,yval),\n",
        "                    verbose=1,callbacks=[es])"
      ],
      "execution_count": 42,
      "outputs": [
        {
          "output_type": "stream",
          "text": [
            "WARNING:tensorflow:From /usr/local/lib/python3.6/dist-packages/tensorflow/python/ops/math_grad.py:1250: add_dispatch_support.<locals>.wrapper (from tensorflow.python.ops.array_ops) is deprecated and will be removed in a future version.\n",
            "Instructions for updating:\n",
            "Use tf.where in 2.0, which has the same broadcast rule as np.where\n",
            "Train on 3732 samples, validate on 933 samples\n",
            "Epoch 1/200\n",
            "3732/3732 [==============================] - 3s 823us/step - loss: 0.9023 - acc: 0.5809 - val_loss: 0.8932 - val_acc: 0.5745\n",
            "Epoch 2/200\n",
            "3732/3732 [==============================] - 0s 56us/step - loss: 0.8690 - acc: 0.6010 - val_loss: 0.8901 - val_acc: 0.5745\n",
            "Epoch 3/200\n",
            "3732/3732 [==============================] - 0s 50us/step - loss: 0.8651 - acc: 0.5991 - val_loss: 0.8853 - val_acc: 0.5831\n",
            "Epoch 4/200\n",
            "3732/3732 [==============================] - 0s 50us/step - loss: 0.8631 - acc: 0.6016 - val_loss: 0.8978 - val_acc: 0.5745\n",
            "Epoch 5/200\n",
            "3732/3732 [==============================] - 0s 47us/step - loss: 0.8565 - acc: 0.5991 - val_loss: 0.9031 - val_acc: 0.5745\n",
            "Epoch 6/200\n",
            "3732/3732 [==============================] - 0s 47us/step - loss: 0.8513 - acc: 0.6018 - val_loss: 0.8822 - val_acc: 0.5756\n",
            "Epoch 7/200\n",
            "3732/3732 [==============================] - 0s 48us/step - loss: 0.8542 - acc: 0.6013 - val_loss: 0.8808 - val_acc: 0.5756\n",
            "Epoch 8/200\n",
            "3732/3732 [==============================] - 0s 52us/step - loss: 0.8484 - acc: 0.6016 - val_loss: 0.8794 - val_acc: 0.5745\n",
            "Epoch 9/200\n",
            "3732/3732 [==============================] - 0s 48us/step - loss: 0.8407 - acc: 0.6024 - val_loss: 0.8763 - val_acc: 0.5809\n",
            "Epoch 10/200\n",
            "3732/3732 [==============================] - 0s 48us/step - loss: 0.8401 - acc: 0.5983 - val_loss: 0.8730 - val_acc: 0.5766\n",
            "Epoch 11/200\n",
            "3732/3732 [==============================] - 0s 49us/step - loss: 0.8327 - acc: 0.6053 - val_loss: 0.8665 - val_acc: 0.5788\n",
            "Epoch 12/200\n",
            "3732/3732 [==============================] - 0s 48us/step - loss: 0.8270 - acc: 0.5957 - val_loss: 0.8560 - val_acc: 0.5788\n",
            "Epoch 13/200\n",
            "3732/3732 [==============================] - 0s 52us/step - loss: 0.8245 - acc: 0.6056 - val_loss: 0.8635 - val_acc: 0.5723\n",
            "Epoch 14/200\n",
            "3732/3732 [==============================] - 0s 50us/step - loss: 0.8201 - acc: 0.6029 - val_loss: 0.8480 - val_acc: 0.5820\n",
            "Epoch 15/200\n",
            "3732/3732 [==============================] - 0s 49us/step - loss: 0.8105 - acc: 0.6058 - val_loss: 0.8549 - val_acc: 0.5734\n",
            "Epoch 16/200\n",
            "3732/3732 [==============================] - 0s 51us/step - loss: 0.8127 - acc: 0.6096 - val_loss: 0.8421 - val_acc: 0.5852\n",
            "Epoch 17/200\n",
            "3732/3732 [==============================] - 0s 53us/step - loss: 0.8041 - acc: 0.6160 - val_loss: 0.8625 - val_acc: 0.5884\n",
            "Epoch 18/200\n",
            "3732/3732 [==============================] - 0s 47us/step - loss: 0.7960 - acc: 0.6155 - val_loss: 0.8652 - val_acc: 0.5884\n",
            "Epoch 19/200\n",
            "3732/3732 [==============================] - 0s 51us/step - loss: 0.7981 - acc: 0.6133 - val_loss: 0.8322 - val_acc: 0.5820\n",
            "Epoch 20/200\n",
            "3732/3732 [==============================] - 0s 48us/step - loss: 0.7866 - acc: 0.6241 - val_loss: 0.8387 - val_acc: 0.5841\n",
            "Epoch 21/200\n",
            "3732/3732 [==============================] - 0s 47us/step - loss: 0.7821 - acc: 0.6246 - val_loss: 0.8204 - val_acc: 0.6099\n",
            "Epoch 22/200\n",
            "3732/3732 [==============================] - 0s 48us/step - loss: 0.7724 - acc: 0.6273 - val_loss: 0.8238 - val_acc: 0.5916\n",
            "Epoch 23/200\n",
            "3732/3732 [==============================] - 0s 46us/step - loss: 0.7710 - acc: 0.6345 - val_loss: 0.8221 - val_acc: 0.5895\n",
            "Epoch 24/200\n",
            "3732/3732 [==============================] - 0s 51us/step - loss: 0.7638 - acc: 0.6372 - val_loss: 0.8061 - val_acc: 0.6024\n",
            "Epoch 25/200\n",
            "3732/3732 [==============================] - 0s 46us/step - loss: 0.7514 - acc: 0.6310 - val_loss: 0.8346 - val_acc: 0.6088\n",
            "Epoch 26/200\n",
            "3732/3732 [==============================] - 0s 47us/step - loss: 0.7482 - acc: 0.6484 - val_loss: 0.8168 - val_acc: 0.6002\n",
            "Epoch 27/200\n",
            "3732/3732 [==============================] - 0s 49us/step - loss: 0.7403 - acc: 0.6511 - val_loss: 0.8095 - val_acc: 0.6270\n",
            "Epoch 28/200\n",
            "3732/3732 [==============================] - 0s 50us/step - loss: 0.7276 - acc: 0.6570 - val_loss: 0.7923 - val_acc: 0.6281\n",
            "Epoch 29/200\n",
            "3732/3732 [==============================] - 0s 49us/step - loss: 0.7281 - acc: 0.6608 - val_loss: 0.7828 - val_acc: 0.6281\n",
            "Epoch 30/200\n",
            "3732/3732 [==============================] - 0s 50us/step - loss: 0.7145 - acc: 0.6602 - val_loss: 0.7774 - val_acc: 0.6463\n",
            "Epoch 31/200\n",
            "3732/3732 [==============================] - 0s 48us/step - loss: 0.7039 - acc: 0.6723 - val_loss: 0.7737 - val_acc: 0.6495\n",
            "Epoch 32/200\n",
            "3732/3732 [==============================] - 0s 49us/step - loss: 0.6984 - acc: 0.6766 - val_loss: 0.7757 - val_acc: 0.6538\n",
            "Epoch 33/200\n",
            "3732/3732 [==============================] - 0s 48us/step - loss: 0.6914 - acc: 0.6868 - val_loss: 0.7740 - val_acc: 0.6463\n",
            "Epoch 34/200\n",
            "3732/3732 [==============================] - 0s 46us/step - loss: 0.6878 - acc: 0.6894 - val_loss: 0.7694 - val_acc: 0.6581\n",
            "Epoch 35/200\n",
            "3732/3732 [==============================] - 0s 48us/step - loss: 0.6769 - acc: 0.6913 - val_loss: 0.7760 - val_acc: 0.6592\n",
            "Epoch 36/200\n",
            "3732/3732 [==============================] - 0s 52us/step - loss: 0.6699 - acc: 0.6908 - val_loss: 0.7544 - val_acc: 0.6720\n",
            "Epoch 37/200\n",
            "3732/3732 [==============================] - 0s 47us/step - loss: 0.6630 - acc: 0.6953 - val_loss: 0.7524 - val_acc: 0.6795\n",
            "Epoch 38/200\n",
            "3732/3732 [==============================] - 0s 51us/step - loss: 0.6552 - acc: 0.7082 - val_loss: 0.7431 - val_acc: 0.6742\n",
            "Epoch 39/200\n",
            "3732/3732 [==============================] - 0s 46us/step - loss: 0.6577 - acc: 0.7058 - val_loss: 0.7396 - val_acc: 0.6710\n",
            "Epoch 40/200\n",
            "3732/3732 [==============================] - 0s 49us/step - loss: 0.6465 - acc: 0.7087 - val_loss: 0.7413 - val_acc: 0.6838\n",
            "Epoch 41/200\n",
            "3732/3732 [==============================] - 0s 52us/step - loss: 0.6211 - acc: 0.7221 - val_loss: 0.7383 - val_acc: 0.6935\n",
            "Epoch 42/200\n",
            "3732/3732 [==============================] - 0s 48us/step - loss: 0.6200 - acc: 0.7243 - val_loss: 0.7290 - val_acc: 0.6881\n",
            "Epoch 43/200\n",
            "3732/3732 [==============================] - 0s 51us/step - loss: 0.6110 - acc: 0.7361 - val_loss: 0.7358 - val_acc: 0.6870\n",
            "Epoch 44/200\n",
            "3732/3732 [==============================] - 0s 48us/step - loss: 0.6080 - acc: 0.7318 - val_loss: 0.7328 - val_acc: 0.6945\n",
            "Epoch 45/200\n",
            "3732/3732 [==============================] - 0s 48us/step - loss: 0.5991 - acc: 0.7398 - val_loss: 0.7145 - val_acc: 0.6945\n",
            "Epoch 46/200\n",
            "3732/3732 [==============================] - 0s 49us/step - loss: 0.5825 - acc: 0.7468 - val_loss: 0.7311 - val_acc: 0.6945\n",
            "Epoch 47/200\n",
            "3732/3732 [==============================] - 0s 52us/step - loss: 0.5722 - acc: 0.7580 - val_loss: 0.7381 - val_acc: 0.7020\n",
            "Epoch 48/200\n",
            "3732/3732 [==============================] - 0s 50us/step - loss: 0.5685 - acc: 0.7495 - val_loss: 0.7355 - val_acc: 0.6902\n",
            "Epoch 49/200\n",
            "3732/3732 [==============================] - 0s 49us/step - loss: 0.5588 - acc: 0.7556 - val_loss: 0.7130 - val_acc: 0.7020\n",
            "Epoch 50/200\n",
            "3732/3732 [==============================] - 0s 49us/step - loss: 0.5515 - acc: 0.7674 - val_loss: 0.7084 - val_acc: 0.7085\n",
            "Epoch 51/200\n",
            "3732/3732 [==============================] - 0s 47us/step - loss: 0.5426 - acc: 0.7588 - val_loss: 0.7137 - val_acc: 0.7106\n",
            "Epoch 52/200\n",
            "3732/3732 [==============================] - 0s 51us/step - loss: 0.5481 - acc: 0.7669 - val_loss: 0.7173 - val_acc: 0.7170\n",
            "Epoch 53/200\n",
            "3732/3732 [==============================] - 0s 46us/step - loss: 0.5284 - acc: 0.7704 - val_loss: 0.7129 - val_acc: 0.7224\n",
            "Epoch 54/200\n",
            "3732/3732 [==============================] - 0s 49us/step - loss: 0.5342 - acc: 0.7714 - val_loss: 0.7027 - val_acc: 0.7256\n",
            "Epoch 55/200\n",
            "3732/3732 [==============================] - 0s 46us/step - loss: 0.5187 - acc: 0.7714 - val_loss: 0.6769 - val_acc: 0.7117\n",
            "Epoch 56/200\n",
            "3732/3732 [==============================] - 0s 48us/step - loss: 0.5134 - acc: 0.7760 - val_loss: 0.6983 - val_acc: 0.7106\n",
            "Epoch 57/200\n",
            "3732/3732 [==============================] - 0s 46us/step - loss: 0.5029 - acc: 0.7870 - val_loss: 0.6860 - val_acc: 0.7342\n",
            "Epoch 58/200\n",
            "3732/3732 [==============================] - 0s 53us/step - loss: 0.4942 - acc: 0.7934 - val_loss: 0.6795 - val_acc: 0.7245\n",
            "Epoch 59/200\n",
            "3732/3732 [==============================] - 0s 48us/step - loss: 0.4814 - acc: 0.7974 - val_loss: 0.6689 - val_acc: 0.7374\n",
            "Epoch 60/200\n",
            "3732/3732 [==============================] - 0s 48us/step - loss: 0.4912 - acc: 0.7862 - val_loss: 0.6801 - val_acc: 0.7395\n",
            "Epoch 61/200\n",
            "3732/3732 [==============================] - 0s 48us/step - loss: 0.4821 - acc: 0.7926 - val_loss: 0.6691 - val_acc: 0.7363\n",
            "Epoch 62/200\n",
            "3732/3732 [==============================] - 0s 47us/step - loss: 0.4618 - acc: 0.8076 - val_loss: 0.6747 - val_acc: 0.7245\n",
            "Epoch 63/200\n",
            "3732/3732 [==============================] - 0s 47us/step - loss: 0.4664 - acc: 0.8041 - val_loss: 0.6726 - val_acc: 0.7460\n",
            "Epoch 64/200\n",
            "3732/3732 [==============================] - 0s 51us/step - loss: 0.4564 - acc: 0.8087 - val_loss: 0.6562 - val_acc: 0.7449\n",
            "Epoch 65/200\n",
            "3732/3732 [==============================] - 0s 46us/step - loss: 0.4476 - acc: 0.8165 - val_loss: 0.6553 - val_acc: 0.7417\n",
            "Epoch 66/200\n",
            "3732/3732 [==============================] - 0s 47us/step - loss: 0.4340 - acc: 0.8207 - val_loss: 0.6434 - val_acc: 0.7481\n",
            "Epoch 67/200\n",
            "3732/3732 [==============================] - 0s 46us/step - loss: 0.4399 - acc: 0.8191 - val_loss: 0.6456 - val_acc: 0.7513\n",
            "Epoch 68/200\n",
            "3732/3732 [==============================] - 0s 47us/step - loss: 0.4313 - acc: 0.8202 - val_loss: 0.6619 - val_acc: 0.7513\n",
            "Epoch 69/200\n",
            "3732/3732 [==============================] - 0s 50us/step - loss: 0.4282 - acc: 0.8261 - val_loss: 0.6512 - val_acc: 0.7481\n",
            "Epoch 70/200\n",
            "3732/3732 [==============================] - 0s 46us/step - loss: 0.4259 - acc: 0.8223 - val_loss: 0.6529 - val_acc: 0.7610\n",
            "Epoch 71/200\n",
            "3732/3732 [==============================] - 0s 48us/step - loss: 0.4087 - acc: 0.8288 - val_loss: 0.6837 - val_acc: 0.7353\n",
            "Epoch 72/200\n",
            "3732/3732 [==============================] - 0s 45us/step - loss: 0.4038 - acc: 0.8395 - val_loss: 0.6608 - val_acc: 0.7588\n",
            "Epoch 73/200\n",
            "3732/3732 [==============================] - 0s 47us/step - loss: 0.4128 - acc: 0.8315 - val_loss: 0.6521 - val_acc: 0.7428\n",
            "Epoch 74/200\n",
            "3732/3732 [==============================] - 0s 52us/step - loss: 0.3991 - acc: 0.8357 - val_loss: 0.6289 - val_acc: 0.7556\n",
            "Epoch 75/200\n",
            "3732/3732 [==============================] - 0s 52us/step - loss: 0.3834 - acc: 0.8414 - val_loss: 0.6512 - val_acc: 0.7546\n",
            "Epoch 76/200\n",
            "3732/3732 [==============================] - 0s 47us/step - loss: 0.3781 - acc: 0.8411 - val_loss: 0.6441 - val_acc: 0.7535\n",
            "Epoch 77/200\n",
            "3732/3732 [==============================] - 0s 47us/step - loss: 0.3720 - acc: 0.8540 - val_loss: 0.6426 - val_acc: 0.7599\n",
            "Epoch 78/200\n",
            "3732/3732 [==============================] - 0s 46us/step - loss: 0.3736 - acc: 0.8451 - val_loss: 0.6303 - val_acc: 0.7535\n",
            "Epoch 79/200\n",
            "3732/3732 [==============================] - 0s 45us/step - loss: 0.3623 - acc: 0.8545 - val_loss: 0.6595 - val_acc: 0.7631\n",
            "Epoch 80/200\n",
            "3732/3732 [==============================] - 0s 45us/step - loss: 0.3729 - acc: 0.8459 - val_loss: 0.6246 - val_acc: 0.7663\n",
            "Epoch 81/200\n",
            "3732/3732 [==============================] - 0s 50us/step - loss: 0.3551 - acc: 0.8599 - val_loss: 0.6519 - val_acc: 0.7653\n",
            "Epoch 82/200\n",
            "3732/3732 [==============================] - 0s 50us/step - loss: 0.3553 - acc: 0.8658 - val_loss: 0.6365 - val_acc: 0.7631\n",
            "Epoch 83/200\n",
            "3732/3732 [==============================] - 0s 49us/step - loss: 0.3504 - acc: 0.8537 - val_loss: 0.6321 - val_acc: 0.7674\n",
            "Epoch 84/200\n",
            "3732/3732 [==============================] - 0s 48us/step - loss: 0.3427 - acc: 0.8615 - val_loss: 0.6483 - val_acc: 0.7653\n",
            "Epoch 85/200\n",
            "3732/3732 [==============================] - 0s 47us/step - loss: 0.3409 - acc: 0.8607 - val_loss: 0.6288 - val_acc: 0.7706\n",
            "Epoch 86/200\n",
            "3732/3732 [==============================] - 0s 48us/step - loss: 0.3343 - acc: 0.8727 - val_loss: 0.6430 - val_acc: 0.7728\n",
            "Epoch 87/200\n",
            "3732/3732 [==============================] - 0s 52us/step - loss: 0.3173 - acc: 0.8687 - val_loss: 0.6465 - val_acc: 0.7792\n",
            "Epoch 88/200\n",
            "3732/3732 [==============================] - 0s 48us/step - loss: 0.3227 - acc: 0.8717 - val_loss: 0.6245 - val_acc: 0.7824\n",
            "Epoch 89/200\n",
            "3732/3732 [==============================] - 0s 48us/step - loss: 0.3085 - acc: 0.8797 - val_loss: 0.6467 - val_acc: 0.7631\n",
            "Epoch 90/200\n",
            "3732/3732 [==============================] - 0s 46us/step - loss: 0.3004 - acc: 0.8773 - val_loss: 0.6326 - val_acc: 0.7760\n",
            "Epoch 91/200\n",
            "3732/3732 [==============================] - 0s 46us/step - loss: 0.2988 - acc: 0.8883 - val_loss: 0.6633 - val_acc: 0.7674\n",
            "Epoch 92/200\n",
            "3732/3732 [==============================] - 0s 49us/step - loss: 0.3108 - acc: 0.8722 - val_loss: 0.6269 - val_acc: 0.7792\n",
            "Epoch 93/200\n",
            "3732/3732 [==============================] - 0s 46us/step - loss: 0.2964 - acc: 0.8808 - val_loss: 0.6307 - val_acc: 0.7642\n",
            "Epoch 94/200\n",
            "3732/3732 [==============================] - 0s 47us/step - loss: 0.2856 - acc: 0.8837 - val_loss: 0.6259 - val_acc: 0.7878\n",
            "Epoch 95/200\n",
            "3732/3732 [==============================] - 0s 48us/step - loss: 0.2883 - acc: 0.8893 - val_loss: 0.6532 - val_acc: 0.7781\n",
            "Epoch 96/200\n",
            "3732/3732 [==============================] - 0s 47us/step - loss: 0.2901 - acc: 0.8848 - val_loss: 0.6385 - val_acc: 0.7803\n",
            "Epoch 97/200\n",
            "3732/3732 [==============================] - 0s 46us/step - loss: 0.2874 - acc: 0.8896 - val_loss: 0.6302 - val_acc: 0.7910\n",
            "Epoch 98/200\n",
            "3732/3732 [==============================] - 0s 50us/step - loss: 0.2722 - acc: 0.8923 - val_loss: 0.6407 - val_acc: 0.7814\n",
            "Epoch 99/200\n",
            "3732/3732 [==============================] - 0s 46us/step - loss: 0.2782 - acc: 0.8909 - val_loss: 0.6539 - val_acc: 0.7781\n",
            "Epoch 100/200\n",
            "3732/3732 [==============================] - 0s 46us/step - loss: 0.2743 - acc: 0.8952 - val_loss: 0.6310 - val_acc: 0.7942\n",
            "Epoch 101/200\n",
            "3732/3732 [==============================] - 0s 47us/step - loss: 0.2630 - acc: 0.8966 - val_loss: 0.6566 - val_acc: 0.7846\n",
            "Epoch 102/200\n",
            "3732/3732 [==============================] - 0s 47us/step - loss: 0.2585 - acc: 0.9006 - val_loss: 0.6146 - val_acc: 0.7942\n",
            "Epoch 103/200\n",
            "3732/3732 [==============================] - 0s 46us/step - loss: 0.2553 - acc: 0.8976 - val_loss: 0.6585 - val_acc: 0.7760\n",
            "Epoch 104/200\n",
            "3732/3732 [==============================] - 0s 50us/step - loss: 0.2483 - acc: 0.9059 - val_loss: 0.6402 - val_acc: 0.7985\n",
            "Epoch 105/200\n",
            "3732/3732 [==============================] - 0s 50us/step - loss: 0.2617 - acc: 0.8963 - val_loss: 0.6320 - val_acc: 0.7803\n",
            "Epoch 106/200\n",
            "3732/3732 [==============================] - 0s 48us/step - loss: 0.2413 - acc: 0.9076 - val_loss: 0.6386 - val_acc: 0.7835\n",
            "Epoch 107/200\n",
            "3732/3732 [==============================] - 0s 47us/step - loss: 0.2451 - acc: 0.9097 - val_loss: 0.6381 - val_acc: 0.7942\n",
            "Epoch 108/200\n",
            "3732/3732 [==============================] - 0s 46us/step - loss: 0.2412 - acc: 0.9081 - val_loss: 0.6406 - val_acc: 0.7996\n",
            "Epoch 109/200\n",
            "3732/3732 [==============================] - 0s 48us/step - loss: 0.2475 - acc: 0.9041 - val_loss: 0.6924 - val_acc: 0.7942\n",
            "Epoch 110/200\n",
            "3732/3732 [==============================] - 0s 48us/step - loss: 0.2578 - acc: 0.8982 - val_loss: 0.6346 - val_acc: 0.7964\n",
            "Epoch 111/200\n",
            "3732/3732 [==============================] - 0s 47us/step - loss: 0.2475 - acc: 0.9011 - val_loss: 0.6351 - val_acc: 0.8092\n",
            "Epoch 112/200\n",
            "3732/3732 [==============================] - 0s 47us/step - loss: 0.2459 - acc: 0.9084 - val_loss: 0.6387 - val_acc: 0.7953\n",
            "Epoch 113/200\n",
            "3732/3732 [==============================] - 0s 46us/step - loss: 0.2353 - acc: 0.9116 - val_loss: 0.6510 - val_acc: 0.7921\n",
            "Epoch 114/200\n",
            "3732/3732 [==============================] - 0s 47us/step - loss: 0.2384 - acc: 0.9038 - val_loss: 0.6305 - val_acc: 0.7964\n",
            "Epoch 115/200\n",
            "3732/3732 [==============================] - 0s 51us/step - loss: 0.2226 - acc: 0.9175 - val_loss: 0.6424 - val_acc: 0.7996\n",
            "Epoch 116/200\n",
            "3732/3732 [==============================] - 0s 50us/step - loss: 0.2271 - acc: 0.9110 - val_loss: 0.6453 - val_acc: 0.8006\n",
            "Epoch 117/200\n",
            "3732/3732 [==============================] - 0s 46us/step - loss: 0.2113 - acc: 0.9188 - val_loss: 0.6362 - val_acc: 0.8017\n",
            "Epoch 118/200\n",
            "3732/3732 [==============================] - 0s 48us/step - loss: 0.2282 - acc: 0.9070 - val_loss: 0.6349 - val_acc: 0.8039\n",
            "Epoch 119/200\n",
            "3732/3732 [==============================] - 0s 46us/step - loss: 0.2212 - acc: 0.9140 - val_loss: 0.6543 - val_acc: 0.7996\n",
            "Epoch 120/200\n",
            "3732/3732 [==============================] - 0s 47us/step - loss: 0.2086 - acc: 0.9218 - val_loss: 0.6619 - val_acc: 0.8017\n",
            "Epoch 121/200\n",
            "3732/3732 [==============================] - 0s 52us/step - loss: 0.2275 - acc: 0.9167 - val_loss: 0.6642 - val_acc: 0.8017\n",
            "Epoch 122/200\n",
            "3732/3732 [==============================] - 0s 48us/step - loss: 0.2141 - acc: 0.9161 - val_loss: 0.6420 - val_acc: 0.8092\n"
          ],
          "name": "stdout"
        }
      ]
    },
    {
      "cell_type": "markdown",
      "metadata": {
        "id": "xQ2Koxsz0Zun",
        "colab_type": "text"
      },
      "source": [
        "# 訓練過程評估"
      ]
    },
    {
      "cell_type": "code",
      "metadata": {
        "id": "2SxJIEDzbaZ7",
        "colab_type": "code",
        "outputId": "db590dcb-dedd-4b97-c4d0-628639aae9b5",
        "colab": {
          "base_uri": "https://localhost:8080/",
          "height": 269
        }
      },
      "source": [
        "import matplotlib.pyplot as plt\n",
        "fig, ax = plt.subplots(2,1)\n",
        "ax[0].plot(history.history['loss'], color='b', label=\"Training loss\")\n",
        "ax[0].plot(history.history['val_loss'], color='r', label=\"Validation loss\",axes =ax[0])\n",
        "ax[0].grid(color='black', linestyle='-', linewidth=0.25)\n",
        "legend = ax[0].legend(loc='best', shadow=True)\n",
        "\n",
        "ax[1].plot(history.history['acc'], color='b', label=\"Training accuracy\")\n",
        "ax[1].plot(history.history['val_acc'], color='r',label=\"Validation accuracy\")\n",
        "ax[1].grid(color='black', linestyle='-', linewidth=0.25)\n",
        "legend = ax[1].legend(loc='best', shadow=True)"
      ],
      "execution_count": 43,
      "outputs": [
        {
          "output_type": "display_data",
          "data": {
            "image/png": "[encoded data removed]",
            "text/plain": [
              "<Figure size 432x288 with 2 Axes>"
            ]
          },
          "metadata": {
            "tags": []
          }
        }
      ]
    },
    {
      "cell_type": "markdown",
      "metadata": {
        "id": "zWVmgHz80cCp",
        "colab_type": "text"
      },
      "source": [
        "# 混淆矩陣"
      ]
    },
    {
      "cell_type": "code",
      "metadata": {
        "id": "UH5CcmX6btme",
        "colab_type": "code",
        "outputId": "f84ab93c-5059-411f-b12b-5b92e7b5d6dc",
        "colab": {
          "base_uri": "https://localhost:8080/",
          "height": 311
        }
      },
      "source": [
        "from sklearn.metrics import confusion_matrix\n",
        "import itertools\n",
        "\n",
        "def plot_confusion_matrix(cm, classes, normalize=False, title='Confusion matrix', cmap=plt.cm.Blues):\n",
        "    plt.imshow(cm, interpolation='nearest', cmap=cmap)\n",
        "    plt.title(title)\n",
        "    plt.colorbar()\n",
        "    tick_marks = np.arange(len(classes))\n",
        "    plt.xticks(tick_marks, classes, rotation=45)\n",
        "    plt.yticks(tick_marks, classes)\n",
        "    if normalize:\n",
        "        cm = cm.astype('float') / cm.sum(axis=1)[:, np.newaxis]\n",
        "    thresh = cm.max() / 2.\n",
        "    for i, j in itertools.product(range(cm.shape[0]), range(cm.shape[1])):\n",
        "        plt.text(j, i, cm[i, j],\n",
        "                 horizontalalignment=\"center\",\n",
        "                 color=\"white\" if cm[i, j] > thresh else \"black\")\n",
        "    plt.tight_layout()\n",
        "    plt.ylabel('True label')\n",
        "    plt.xlabel('Predicted label')\n",
        "\n",
        "#預測的y\n",
        "ypred_onehot = model.predict(xval)\n",
        "#轉換預測的y: [0 0 1 0 0 ...] --> 2\n",
        "ypred = np.argmax(ypred_onehot,axis=1)\n",
        "#轉換真實的y\n",
        "ytrue = np.argmax(yval,axis=1)\n",
        "#計算 confusion matrix\n",
        "confusion_mtx = confusion_matrix(ytrue, ypred)\n",
        "#畫出 confusion matrix\n",
        "plot_confusion_matrix(confusion_mtx, classes=range(nclasses))"
      ],
      "execution_count": 44,
      "outputs": [
        {
          "output_type": "display_data",
          "data": {
            "image/png": "[encoded data removed]",
            "text/plain": [
              "<Figure size 432x288 with 2 Axes>"
            ]
          },
          "metadata": {
            "tags": []
          }
        }
      ]
    },
    {
      "cell_type": "markdown",
      "metadata": {
        "id": "PmgafP2rpjAO",
        "colab_type": "text"
      },
      "source": [
        "# 分類report"
      ]
    },
    {
      "cell_type": "markdown",
      "metadata": {
        "id": "zXQ8o9mj1Ydh",
        "colab_type": "text"
      },
      "source": [
        "轉換預測結果"
      ]
    },
    {
      "cell_type": "code",
      "metadata": {
        "id": "lCSuw9cYqEYk",
        "colab_type": "code",
        "outputId": "78c64fc3-7447-429c-c335-aa838e3374e1",
        "colab": {
          "base_uri": "https://localhost:8080/",
          "height": 104
        }
      },
      "source": [
        "y_pred = model.predict(xval)\n",
        "y_pred = [np.argmax(i) for i in y_pred]\n",
        "y_pred = to_categorical(y_pred, num_classes = 3)\n",
        "print(y_pred[:5])"
      ],
      "execution_count": 45,
      "outputs": [
        {
          "output_type": "stream",
          "text": [
            "[[0. 1. 0.]\n",
            " [0. 1. 0.]\n",
            " [0. 1. 0.]\n",
            " [0. 1. 0.]\n",
            " [0. 1. 0.]]\n"
          ],
          "name": "stdout"
        }
      ]
    },
    {
      "cell_type": "markdown",
      "metadata": {
        "id": "XrHrpsVb1avA",
        "colab_type": "text"
      },
      "source": [
        "真實y值"
      ]
    },
    {
      "cell_type": "code",
      "metadata": {
        "id": "T2tyxRdo1Mqm",
        "colab_type": "code",
        "outputId": "6a006a12-50ea-460b-a43a-bdcc2d68210e",
        "colab": {
          "base_uri": "https://localhost:8080/",
          "height": 104
        }
      },
      "source": [
        "print(yval[:5])"
      ],
      "execution_count": 46,
      "outputs": [
        {
          "output_type": "stream",
          "text": [
            "[[0. 1. 0.]\n",
            " [0. 1. 0.]\n",
            " [0. 1. 0.]\n",
            " [0. 1. 0.]\n",
            " [0. 1. 0.]]\n"
          ],
          "name": "stdout"
        }
      ]
    },
    {
      "cell_type": "markdown",
      "metadata": {
        "id": "wztZOw2r1ddE",
        "colab_type": "text"
      },
      "source": [
        "# 分類報告"
      ]
    },
    {
      "cell_type": "code",
      "metadata": {
        "id": "vzMaU-Y8pjJT",
        "colab_type": "code",
        "outputId": "361896a6-ef20-4ad8-8f31-a81e9c08ed87",
        "colab": {
          "base_uri": "https://localhost:8080/",
          "height": 208
        }
      },
      "source": [
        "from sklearn.metrics import classification_report \n",
        "target_names = ['Hold','BUY','SELL']\n",
        "print(classification_report(yval,y_pred,target_names=target_names))"
      ],
      "execution_count": 47,
      "outputs": [
        {
          "output_type": "stream",
          "text": [
            "              precision    recall  f1-score   support\n",
            "\n",
            "        Hold       0.78      0.44      0.56        82\n",
            "         BUY       0.79      0.79      0.79       315\n",
            "        SELL       0.82      0.88      0.85       536\n",
            "\n",
            "   micro avg       0.81      0.81      0.81       933\n",
            "   macro avg       0.80      0.70      0.73       933\n",
            "weighted avg       0.81      0.81      0.80       933\n",
            " samples avg       0.81      0.81      0.81       933\n",
            "\n"
          ],
          "name": "stdout"
        }
      ]
    },
    {
      "cell_type": "markdown",
      "metadata": {
        "id": "n-KXEoZLb9ie",
        "colab_type": "text"
      },
      "source": [
        "# plot error"
      ]
    },
    {
      "cell_type": "code",
      "metadata": {
        "id": "nCW5Xvtrb0fC",
        "colab_type": "code",
        "outputId": "f62a941a-9e7b-4f13-8eb4-4956ab259ef8",
        "colab": {
          "base_uri": "https://localhost:8080/",
          "height": 293
        }
      },
      "source": [
        "errors = (ypred - ytrue != 0)\n",
        "\n",
        "ypred_er = ypred_onehot[errors]\n",
        "ypred_classes_er = ypred[errors]\n",
        "ytrue_er = ytrue[errors]\n",
        "xval_er = xval[errors]\n",
        "\n",
        "def display_errors(errors_index, img_errors, pred_errors, obs_errors):\n",
        "    n = 0\n",
        "    nrows = 2\n",
        "    ncols = 3\n",
        "    fig, ax = plt.subplots(nrows, ncols, sharex=True, sharey=True)\n",
        "    plt.subplots_adjust(wspace =0.5, hspace =0.5)\n",
        "    for row in range(nrows):\n",
        "        for col in range(ncols):\n",
        "            error = errors_index[n]\n",
        "            ax[row,col].imshow((img_errors[error]).reshape((days,len(features))))\n",
        "            ax[row,col].set_title(\"Predicted label :{}\\nTrue label :{}\".format(pred_errors[error],obs_errors[error]))\n",
        "            n += 1\n",
        "            \n",
        "# 錯誤預測的概率\n",
        "ypred_er_prob = np.max(ypred_er,axis=1)\n",
        "\n",
        "# Predicted probabilities of the true values in the error set\n",
        "true_prob_er = np.diagonal(np.take(ypred_er, ytrue_er, axis=1))\n",
        "\n",
        "# Difference between the probability of the predicted label and the true label\n",
        "delta_pred_true_er = ypred_er_prob - true_prob_er\n",
        "\n",
        "# Sorted list of the delta prob errors\n",
        "sorted_delta_er = np.argsort(delta_pred_true_er)\n",
        "\n",
        "# Top 6 errors. You can change the range to see other images\n",
        "most_important_er = sorted_delta_er[-6:]\n",
        "\n",
        "# Show the top 6 errors\n",
        "display_errors(most_important_er, xval_er, ypred_classes_er, ytrue_er)"
      ],
      "execution_count": 48,
      "outputs": [
        {
          "output_type": "display_data",
          "data": {
            "image/png": "[encoded data removed]",
            "text/plain": [
              "<Figure size 432x288 with 6 Axes>"
            ]
          },
          "metadata": {
            "tags": []
          }
        }
      ]
    },
    {
      "cell_type": "markdown",
      "metadata": {
        "id": "togdM5Afo71w",
        "colab_type": "text"
      },
      "source": [
        "## 預測最後40筆"
      ]
    },
    {
      "cell_type": "code",
      "metadata": {
        "id": "kQqzNPdQo8GW",
        "colab_type": "code",
        "colab": {
          "base_uri": "https://localhost:8080/",
          "height": 35
        },
        "outputId": "ce20688a-7d6d-43f3-fffc-bfc4b21f14ec"
      },
      "source": [
        "answer = model.predict(X_test)\n",
        "answer = [ np.argmax(i) for i in answer]\n",
        "print(len(answer))"
      ],
      "execution_count": 49,
      "outputs": [
        {
          "output_type": "stream",
          "text": [
            "40\n"
          ],
          "name": "stdout"
        }
      ]
    },
    {
      "cell_type": "markdown",
      "metadata": {
        "id": "FOBO-SgaBHMx",
        "colab_type": "text"
      },
      "source": [
        "# 0~20筆"
      ]
    },
    {
      "cell_type": "code",
      "metadata": {
        "id": "YHzRjtab0pr-",
        "colab_type": "code",
        "colab": {
          "base_uri": "https://localhost:8080/",
          "height": 335
        },
        "outputId": "6af522dc-3537-4e6e-ffb2-e830b37035ea"
      },
      "source": [
        "INDEX60 = df[-60:].index\n",
        "C = web.DataReader(SID,'yahoo',start=\"2000-01-01\")[['Close']]\n",
        "C = C.loc[INDEX60,:]\n",
        "C['SIGNAL'] = [np.nan for _ in range(20)] + answer #20個NAN+預測答案\n",
        "buy = C[C['SIGNAL']==1]['Close']\n",
        "sell = C[C['SIGNAL']==2]['Close']\n",
        "C['Close'][20:40].plot()\n",
        "plt.scatter(buy.index,buy.values,color='red',marker=\"^\")\n",
        "plt.scatter(sell.index,sell.values,color='black')"
      ],
      "execution_count": 50,
      "outputs": [
        {
          "output_type": "execute_result",
          "data": {
            "text/plain": [
              "<matplotlib.collections.PathCollection at 0x7f3273e282b0>"
            ]
          },
          "metadata": {
            "tags": []
          },
          "execution_count": 50
        },
        {
          "output_type": "display_data",
          "data": {
            "image/png": "[encoded data removed]",
            "text/plain": [
              "<Figure size 432x288 with 1 Axes>"
            ]
          },
          "metadata": {
            "tags": []
          }
        }
      ]
    },
    {
      "cell_type": "markdown",
      "metadata": {
        "id": "NpYwUgdJBKWR",
        "colab_type": "text"
      },
      "source": [
        "# 20~40筆"
      ]
    },
    {
      "cell_type": "code",
      "metadata": {
        "id": "9AZQa4zj2Psu",
        "colab_type": "code",
        "colab": {
          "base_uri": "https://localhost:8080/",
          "height": 307
        },
        "outputId": "7b526d13-19c9-4cc1-c063-b575243c4870"
      },
      "source": [
        "C['Close'][40:60].plot()\n",
        "plt.scatter(buy.index,buy.values,color='red',marker=\"^\")\n",
        "plt.scatter(sell.index,sell.values,color='black')"
      ],
      "execution_count": 51,
      "outputs": [
        {
          "output_type": "execute_result",
          "data": {
            "text/plain": [
              "<matplotlib.collections.PathCollection at 0x7f327a33d438>"
            ]
          },
          "metadata": {
            "tags": []
          },
          "execution_count": 51
        },
        {
          "output_type": "display_data",
          "data": {
            "image/png": "[encoded data removed]",
            "text/plain": [
              "<Figure size 432x288 with 1 Axes>"
            ]
          },
          "metadata": {
            "tags": []
          }
        }
      ]
    },
    {
      "cell_type": "markdown",
      "metadata": {
        "id": "j3i8j1ewAtDU",
        "colab_type": "text"
      },
      "source": [
        "# 合併"
      ]
    },
    {
      "cell_type": "code",
      "metadata": {
        "id": "y-RBxkc38C1a",
        "colab_type": "code",
        "colab": {
          "base_uri": "https://localhost:8080/",
          "height": 307
        },
        "outputId": "81a08864-fd16-4a72-9c8f-089199bf2f15"
      },
      "source": [
        "C['Close'][0:60].plot()\n",
        "plt.scatter(buy.index,buy.values,color='red',marker=\"^\")\n",
        "plt.scatter(sell.index,sell.values,color='black')"
      ],
      "execution_count": 52,
      "outputs": [
        {
          "output_type": "execute_result",
          "data": {
            "text/plain": [
              "<matplotlib.collections.PathCollection at 0x7f327a4c4390>"
            ]
          },
          "metadata": {
            "tags": []
          },
          "execution_count": 52
        },
        {
          "output_type": "display_data",
          "data": {
            "image/png": "[encoded data removed]",
            "text/plain": [
              "<Figure size 432x288 with 1 Axes>"
            ]
          },
          "metadata": {
            "tags": []
          }
        }
      ]
    },
    {
      "cell_type": "markdown",
      "metadata": {
        "id": "WWVaZwDKF_lr",
        "colab_type": "text"
      },
      "source": [
        "# 平滑版本"
      ]
    },
    {
      "cell_type": "code",
      "metadata": {
        "id": "OUO9oF7sAvmH",
        "colab_type": "code",
        "colab": {
          "base_uri": "https://localhost:8080/",
          "height": 307
        },
        "outputId": "35782115-5967-49ab-a0eb-e1bae2d84506"
      },
      "source": [
        "C_roll20 = pd.DataFrame(index=C.index)#空的dataframe index = 倒數60天股票日期\n",
        "C_roll20['Close'] = C['Close'].rolling(20).mean()#收盤價做20天平滑\n",
        "C_roll20['SIGNAL'] = C['SIGNAL']\n",
        "buy = C_roll20[C_roll20['SIGNAL']==1]['Close']#買點\n",
        "sell= C_roll20[C_roll20['SIGNAL']==2]['Close']#賣點\n",
        "C_roll20['Close'][20:].plot()\n",
        "plt.scatter(buy.index,buy.values,color='red',marker=\"^\")\n",
        "plt.scatter(sell.index,sell.values,color='black')"
      ],
      "execution_count": 53,
      "outputs": [
        {
          "output_type": "execute_result",
          "data": {
            "text/plain": [
              "<matplotlib.collections.PathCollection at 0x7f3289f87208>"
            ]
          },
          "metadata": {
            "tags": []
          },
          "execution_count": 53
        },
        {
          "output_type": "display_data",
          "data": {
            "image/png": "[encoded data removed]",
            "text/plain": [
              "<Figure size 432x288 with 1 Axes>"
            ]
          },
          "metadata": {
            "tags": []
          }
        }
      ]
    },
    {
      "cell_type": "code",
      "metadata": {
        "id": "UIeUpfe4GzRI",
        "colab_type": "code",
        "colab": {}
      },
      "source": [
        ""
      ],
      "execution_count": 0,
      "outputs": []
    }
  ]
}