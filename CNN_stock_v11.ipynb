{
  "nbformat": 4,
  "nbformat_minor": 0,
  "metadata": {
    "colab": {
      "name": "CNN_stock.ipynb",
      "version": "0.3.2",
      "provenance": [],
      "collapsed_sections": [],
      "include_colab_link": true
    },
    "kernelspec": {
      "name": "python3",
      "display_name": "Python 3"
    },
    "accelerator": "GPU"
  },
  "cells": [
    {
      "cell_type": "markdown",
      "metadata": {
        "id": "view-in-github",
        "colab_type": "text"
      },
      "source": [
        "<a href=\"https://colab.research.google.com/github/skywalker0803r/Ricky/blob/master/CNN_stock_v11.ipynb\" target=\"_parent\"><img src=\"https://colab.research.google.com/assets/colab-badge.svg\" alt=\"Open In Colab\"/></a>"
      ]
    },
    {
      "cell_type": "code",
      "metadata": {
        "id": "g7NPpY26_qJm",
        "colab_type": "code",
        "colab": {}
      },
      "source": [
        "#!pip install finta\n",
        "import pandas as pd\n",
        "import seaborn as sns\n",
        "import pandas_datareader.data as web\n",
        "SID = '^TWII'\n",
        "df = web.DataReader(SID,'yahoo',start=\"1980-01-01\")#,end=\"2019-09-10\")\n",
        "df = df.iloc[:,:5]"
      ],
      "execution_count": 0,
      "outputs": []
    },
    {
      "cell_type": "markdown",
      "metadata": {
        "id": "6vaRLIuvJlZ7",
        "colab_type": "text"
      },
      "source": [
        "# 載入資料"
      ]
    },
    {
      "cell_type": "code",
      "metadata": {
        "id": "kRKHlNGl_7JV",
        "colab_type": "code",
        "outputId": "8b8bfb92-c767-479d-ca48-097460786f1c",
        "colab": {
          "base_uri": "https://localhost:8080/",
          "height": 187
        }
      },
      "source": [
        "print(df.shape)\n",
        "df.head(3)"
      ],
      "execution_count": 2,
      "outputs": [
        {
          "output_type": "stream",
          "text": [
            "(5456, 5)\n"
          ],
          "name": "stdout"
        },
        {
          "output_type": "execute_result",
          "data": {
            "text/html": [
              "<div>\n",
              "<style scoped>\n",
              "    .dataframe tbody tr th:only-of-type {\n",
              "        vertical-align: middle;\n",
              "    }\n",
              "\n",
              "    .dataframe tbody tr th {\n",
              "        vertical-align: top;\n",
              "    }\n",
              "\n",
              "    .dataframe thead th {\n",
              "        text-align: right;\n",
              "    }\n",
              "</style>\n",
              "<table border=\"1\" class=\"dataframe\">\n",
              "  <thead>\n",
              "    <tr style=\"text-align: right;\">\n",
              "      <th></th>\n",
              "      <th>High</th>\n",
              "      <th>Low</th>\n",
              "      <th>Open</th>\n",
              "      <th>Close</th>\n",
              "      <th>Volume</th>\n",
              "    </tr>\n",
              "    <tr>\n",
              "      <th>Date</th>\n",
              "      <th></th>\n",
              "      <th></th>\n",
              "      <th></th>\n",
              "      <th></th>\n",
              "      <th></th>\n",
              "    </tr>\n",
              "  </thead>\n",
              "  <tbody>\n",
              "    <tr>\n",
              "      <th>1997-07-02</th>\n",
              "      <td>9124.299805</td>\n",
              "      <td>8988.129883</td>\n",
              "      <td>9094.269531</td>\n",
              "      <td>8996.719727</td>\n",
              "      <td>0.0</td>\n",
              "    </tr>\n",
              "    <tr>\n",
              "      <th>1997-07-03</th>\n",
              "      <td>9061.599609</td>\n",
              "      <td>8997.509766</td>\n",
              "      <td>9061.599609</td>\n",
              "      <td>9027.629883</td>\n",
              "      <td>0.0</td>\n",
              "    </tr>\n",
              "    <tr>\n",
              "      <th>1997-07-04</th>\n",
              "      <td>9218.209961</td>\n",
              "      <td>9119.250000</td>\n",
              "      <td>9144.959961</td>\n",
              "      <td>9192.570312</td>\n",
              "      <td>0.0</td>\n",
              "    </tr>\n",
              "  </tbody>\n",
              "</table>\n",
              "</div>"
            ],
            "text/plain": [
              "                   High          Low         Open        Close  Volume\n",
              "Date                                                                  \n",
              "1997-07-02  9124.299805  8988.129883  9094.269531  8996.719727     0.0\n",
              "1997-07-03  9061.599609  8997.509766  9061.599609  9027.629883     0.0\n",
              "1997-07-04  9218.209961  9119.250000  9144.959961  9192.570312     0.0"
            ]
          },
          "metadata": {
            "tags": []
          },
          "execution_count": 2
        }
      ]
    },
    {
      "cell_type": "code",
      "metadata": {
        "id": "9YvzTIEDddVx",
        "colab_type": "code",
        "outputId": "3fa00efe-83a4-46a3-f05f-6031a3c8020e",
        "colab": {
          "base_uri": "https://localhost:8080/",
          "height": 170
        }
      },
      "source": [
        "df.tail(3)"
      ],
      "execution_count": 3,
      "outputs": [
        {
          "output_type": "execute_result",
          "data": {
            "text/html": [
              "<div>\n",
              "<style scoped>\n",
              "    .dataframe tbody tr th:only-of-type {\n",
              "        vertical-align: middle;\n",
              "    }\n",
              "\n",
              "    .dataframe tbody tr th {\n",
              "        vertical-align: top;\n",
              "    }\n",
              "\n",
              "    .dataframe thead th {\n",
              "        text-align: right;\n",
              "    }\n",
              "</style>\n",
              "<table border=\"1\" class=\"dataframe\">\n",
              "  <thead>\n",
              "    <tr style=\"text-align: right;\">\n",
              "      <th></th>\n",
              "      <th>High</th>\n",
              "      <th>Low</th>\n",
              "      <th>Open</th>\n",
              "      <th>Close</th>\n",
              "      <th>Volume</th>\n",
              "    </tr>\n",
              "    <tr>\n",
              "      <th>Date</th>\n",
              "      <th></th>\n",
              "      <th></th>\n",
              "      <th></th>\n",
              "      <th></th>\n",
              "      <th></th>\n",
              "    </tr>\n",
              "  </thead>\n",
              "  <tbody>\n",
              "    <tr>\n",
              "      <th>2019-09-05</th>\n",
              "      <td>10766.599609</td>\n",
              "      <td>10714.269531</td>\n",
              "      <td>10718.400391</td>\n",
              "      <td>10756.929688</td>\n",
              "      <td>2.805213e+09</td>\n",
              "    </tr>\n",
              "    <tr>\n",
              "      <th>2019-09-06</th>\n",
              "      <td>10803.070312</td>\n",
              "      <td>10753.450195</td>\n",
              "      <td>10783.459961</td>\n",
              "      <td>10780.639648</td>\n",
              "      <td>2.376172e+09</td>\n",
              "    </tr>\n",
              "    <tr>\n",
              "      <th>2019-09-10</th>\n",
              "      <td>10810.030273</td>\n",
              "      <td>10755.639648</td>\n",
              "      <td>10791.950195</td>\n",
              "      <td>10765.459961</td>\n",
              "      <td>0.000000e+00</td>\n",
              "    </tr>\n",
              "  </tbody>\n",
              "</table>\n",
              "</div>"
            ],
            "text/plain": [
              "                    High           Low  ...         Close        Volume\n",
              "Date                                    ...                            \n",
              "2019-09-05  10766.599609  10714.269531  ...  10756.929688  2.805213e+09\n",
              "2019-09-06  10803.070312  10753.450195  ...  10780.639648  2.376172e+09\n",
              "2019-09-10  10810.030273  10755.639648  ...  10765.459961  0.000000e+00\n",
              "\n",
              "[3 rows x 5 columns]"
            ]
          },
          "metadata": {
            "tags": []
          },
          "execution_count": 3
        }
      ]
    },
    {
      "cell_type": "markdown",
      "metadata": {
        "id": "ZsFMU68NI85j",
        "colab_type": "text"
      },
      "source": [
        "# Labeling(計算return)"
      ]
    },
    {
      "cell_type": "code",
      "metadata": {
        "id": "WaNG41cBI9BT",
        "colab_type": "code",
        "colab": {}
      },
      "source": [
        "#今天股價 = df['Close']\n",
        "#昨天股價 = df['Close'].shift(1)\n",
        "#df['return%'] = (今天股價/昨天股價-1)*100\n",
        "#print(df['return%'].min(),df['return%'].max())\n",
        "#sns.distplot(df['return%'].dropna())\n",
        "#df.tail()"
      ],
      "execution_count": 0,
      "outputs": []
    },
    {
      "cell_type": "markdown",
      "metadata": {
        "id": "HegmuvBN0FKD",
        "colab_type": "text"
      },
      "source": [
        "# Label triple_barrier"
      ]
    },
    {
      "cell_type": "code",
      "metadata": {
        "id": "RFsmFQfF0FXt",
        "colab_type": "code",
        "colab": {}
      },
      "source": [
        "import numpy as np\n",
        "import math\n",
        "def triple_barrier(price, ub, lb, max_period):\n",
        "\n",
        "    def end_price(s):\n",
        "        return np.append(s[(s / s[0] > ub) | (s / s[0] < lb)], s[-1])[0]/s[0]\n",
        "    \n",
        "    r = np.array(range(max_period))\n",
        "    \n",
        "    def end_time(s):\n",
        "        return np.append(r[(s / s[0] > ub) | (s / s[0] < lb)], max_period-1)[0]\n",
        "\n",
        "    p = price.rolling(max_period).apply(end_price, raw=True).shift(-max_period+1)\n",
        "    t = price.rolling(max_period).apply(end_time, raw=True).shift(-max_period+1)\n",
        "    t = pd.Series([t.index[int(k+i)] if not math.isnan(k+i) else np.datetime64('NaT') \n",
        "                   for i, k in enumerate(t)], index=t.index).dropna()\n",
        "\n",
        "    signal = pd.Series(0, p.index)\n",
        "    signal.loc[p > ub] = 1\n",
        "    signal.loc[p < lb] = -1\n",
        "    ret = pd.DataFrame({'triple_barrier_profit':p, 'triple_barrier_sell_time':t, 'triple_barrier_signal':signal})\n",
        "\n",
        "    return ret"
      ],
      "execution_count": 0,
      "outputs": []
    },
    {
      "cell_type": "code",
      "metadata": {
        "id": "MHRZWGG40a3q",
        "colab_type": "code",
        "outputId": "3584a7c4-1939-4c76-d9ed-18d34d3dfc94",
        "colab": {
          "base_uri": "https://localhost:8080/",
          "height": 686
        }
      },
      "source": [
        "ret = triple_barrier(df.Close, 1.02 , 0.98 ,5)['triple_barrier_signal'] #未來5個交易日,漲跌2%\n",
        "df = df.join(ret)\n",
        "df.tail(20)"
      ],
      "execution_count": 6,
      "outputs": [
        {
          "output_type": "execute_result",
          "data": {
            "text/html": [
              "<div>\n",
              "<style scoped>\n",
              "    .dataframe tbody tr th:only-of-type {\n",
              "        vertical-align: middle;\n",
              "    }\n",
              "\n",
              "    .dataframe tbody tr th {\n",
              "        vertical-align: top;\n",
              "    }\n",
              "\n",
              "    .dataframe thead th {\n",
              "        text-align: right;\n",
              "    }\n",
              "</style>\n",
              "<table border=\"1\" class=\"dataframe\">\n",
              "  <thead>\n",
              "    <tr style=\"text-align: right;\">\n",
              "      <th></th>\n",
              "      <th>High</th>\n",
              "      <th>Low</th>\n",
              "      <th>Open</th>\n",
              "      <th>Close</th>\n",
              "      <th>Volume</th>\n",
              "      <th>triple_barrier_signal</th>\n",
              "    </tr>\n",
              "    <tr>\n",
              "      <th>Date</th>\n",
              "      <th></th>\n",
              "      <th></th>\n",
              "      <th></th>\n",
              "      <th></th>\n",
              "      <th></th>\n",
              "      <th></th>\n",
              "    </tr>\n",
              "  </thead>\n",
              "  <tbody>\n",
              "    <tr>\n",
              "      <th>2019-08-13</th>\n",
              "      <td>10436.620117</td>\n",
              "      <td>10361.889648</td>\n",
              "      <td>10436.620117</td>\n",
              "      <td>10362.660156</td>\n",
              "      <td>2.269334e+09</td>\n",
              "      <td>0</td>\n",
              "    </tr>\n",
              "    <tr>\n",
              "      <th>2019-08-14</th>\n",
              "      <td>10518.019531</td>\n",
              "      <td>10427.730469</td>\n",
              "      <td>10444.500000</td>\n",
              "      <td>10427.730469</td>\n",
              "      <td>2.618377e+09</td>\n",
              "      <td>0</td>\n",
              "    </tr>\n",
              "    <tr>\n",
              "      <th>2019-08-15</th>\n",
              "      <td>10374.750000</td>\n",
              "      <td>10287.759766</td>\n",
              "      <td>10374.750000</td>\n",
              "      <td>10327.129883</td>\n",
              "      <td>2.414020e+09</td>\n",
              "      <td>0</td>\n",
              "    </tr>\n",
              "    <tr>\n",
              "      <th>2019-08-16</th>\n",
              "      <td>10456.320312</td>\n",
              "      <td>10318.370117</td>\n",
              "      <td>10345.419922</td>\n",
              "      <td>10420.889648</td>\n",
              "      <td>2.566052e+09</td>\n",
              "      <td>0</td>\n",
              "    </tr>\n",
              "    <tr>\n",
              "      <th>2019-08-19</th>\n",
              "      <td>10516.049805</td>\n",
              "      <td>10449.389648</td>\n",
              "      <td>10449.389648</td>\n",
              "      <td>10488.750000</td>\n",
              "      <td>2.353813e+09</td>\n",
              "      <td>0</td>\n",
              "    </tr>\n",
              "    <tr>\n",
              "      <th>2019-08-20</th>\n",
              "      <td>10538.120117</td>\n",
              "      <td>10497.129883</td>\n",
              "      <td>10508.419922</td>\n",
              "      <td>10522.500000</td>\n",
              "      <td>2.290847e+09</td>\n",
              "      <td>0</td>\n",
              "    </tr>\n",
              "    <tr>\n",
              "      <th>2019-08-21</th>\n",
              "      <td>10545.250000</td>\n",
              "      <td>10504.490234</td>\n",
              "      <td>10526.870117</td>\n",
              "      <td>10525.799805</td>\n",
              "      <td>2.139265e+09</td>\n",
              "      <td>0</td>\n",
              "    </tr>\n",
              "    <tr>\n",
              "      <th>2019-08-22</th>\n",
              "      <td>10596.410156</td>\n",
              "      <td>10515.719727</td>\n",
              "      <td>10560.009766</td>\n",
              "      <td>10529.780273</td>\n",
              "      <td>2.281352e+09</td>\n",
              "      <td>0</td>\n",
              "    </tr>\n",
              "    <tr>\n",
              "      <th>2019-08-23</th>\n",
              "      <td>10541.730469</td>\n",
              "      <td>10503.070312</td>\n",
              "      <td>10526.150391</td>\n",
              "      <td>10538.110352</td>\n",
              "      <td>1.896147e+09</td>\n",
              "      <td>0</td>\n",
              "    </tr>\n",
              "    <tr>\n",
              "      <th>2019-08-26</th>\n",
              "      <td>10453.400391</td>\n",
              "      <td>10340.150391</td>\n",
              "      <td>10453.400391</td>\n",
              "      <td>10354.570312</td>\n",
              "      <td>2.015693e+09</td>\n",
              "      <td>1</td>\n",
              "    </tr>\n",
              "    <tr>\n",
              "      <th>2019-08-27</th>\n",
              "      <td>10431.780273</td>\n",
              "      <td>10368.959961</td>\n",
              "      <td>10386.209961</td>\n",
              "      <td>10387.230469</td>\n",
              "      <td>2.298779e+09</td>\n",
              "      <td>1</td>\n",
              "    </tr>\n",
              "    <tr>\n",
              "      <th>2019-08-28</th>\n",
              "      <td>10456.299805</td>\n",
              "      <td>10397.599609</td>\n",
              "      <td>10397.599609</td>\n",
              "      <td>10434.290039</td>\n",
              "      <td>1.678286e+09</td>\n",
              "      <td>0</td>\n",
              "    </tr>\n",
              "    <tr>\n",
              "      <th>2019-08-29</th>\n",
              "      <td>10466.990234</td>\n",
              "      <td>10406.490234</td>\n",
              "      <td>10440.150391</td>\n",
              "      <td>10462.429688</td>\n",
              "      <td>2.062954e+09</td>\n",
              "      <td>0</td>\n",
              "    </tr>\n",
              "    <tr>\n",
              "      <th>2019-08-30</th>\n",
              "      <td>10618.049805</td>\n",
              "      <td>10504.280273</td>\n",
              "      <td>10504.280273</td>\n",
              "      <td>10618.049805</td>\n",
              "      <td>2.823728e+09</td>\n",
              "      <td>0</td>\n",
              "    </tr>\n",
              "    <tr>\n",
              "      <th>2019-09-02</th>\n",
              "      <td>10634.849609</td>\n",
              "      <td>10589.419922</td>\n",
              "      <td>10613.190430</td>\n",
              "      <td>10634.849609</td>\n",
              "      <td>2.078558e+09</td>\n",
              "      <td>0</td>\n",
              "    </tr>\n",
              "    <tr>\n",
              "      <th>2019-09-03</th>\n",
              "      <td>10650.150391</td>\n",
              "      <td>10557.030273</td>\n",
              "      <td>10629.219727</td>\n",
              "      <td>10558.209961</td>\n",
              "      <td>1.996956e+09</td>\n",
              "      <td>1</td>\n",
              "    </tr>\n",
              "    <tr>\n",
              "      <th>2019-09-04</th>\n",
              "      <td>10670.429688</td>\n",
              "      <td>10566.320312</td>\n",
              "      <td>10566.320312</td>\n",
              "      <td>10657.309570</td>\n",
              "      <td>2.090578e+09</td>\n",
              "      <td>0</td>\n",
              "    </tr>\n",
              "    <tr>\n",
              "      <th>2019-09-05</th>\n",
              "      <td>10766.599609</td>\n",
              "      <td>10714.269531</td>\n",
              "      <td>10718.400391</td>\n",
              "      <td>10756.929688</td>\n",
              "      <td>2.805213e+09</td>\n",
              "      <td>0</td>\n",
              "    </tr>\n",
              "    <tr>\n",
              "      <th>2019-09-06</th>\n",
              "      <td>10803.070312</td>\n",
              "      <td>10753.450195</td>\n",
              "      <td>10783.459961</td>\n",
              "      <td>10780.639648</td>\n",
              "      <td>2.376172e+09</td>\n",
              "      <td>0</td>\n",
              "    </tr>\n",
              "    <tr>\n",
              "      <th>2019-09-10</th>\n",
              "      <td>10810.030273</td>\n",
              "      <td>10755.639648</td>\n",
              "      <td>10791.950195</td>\n",
              "      <td>10765.459961</td>\n",
              "      <td>0.000000e+00</td>\n",
              "      <td>0</td>\n",
              "    </tr>\n",
              "  </tbody>\n",
              "</table>\n",
              "</div>"
            ],
            "text/plain": [
              "                    High           Low  ...        Volume  triple_barrier_signal\n",
              "Date                                    ...                                     \n",
              "2019-08-13  10436.620117  10361.889648  ...  2.269334e+09                      0\n",
              "2019-08-14  10518.019531  10427.730469  ...  2.618377e+09                      0\n",
              "2019-08-15  10374.750000  10287.759766  ...  2.414020e+09                      0\n",
              "2019-08-16  10456.320312  10318.370117  ...  2.566052e+09                      0\n",
              "2019-08-19  10516.049805  10449.389648  ...  2.353813e+09                      0\n",
              "2019-08-20  10538.120117  10497.129883  ...  2.290847e+09                      0\n",
              "2019-08-21  10545.250000  10504.490234  ...  2.139265e+09                      0\n",
              "2019-08-22  10596.410156  10515.719727  ...  2.281352e+09                      0\n",
              "2019-08-23  10541.730469  10503.070312  ...  1.896147e+09                      0\n",
              "2019-08-26  10453.400391  10340.150391  ...  2.015693e+09                      1\n",
              "2019-08-27  10431.780273  10368.959961  ...  2.298779e+09                      1\n",
              "2019-08-28  10456.299805  10397.599609  ...  1.678286e+09                      0\n",
              "2019-08-29  10466.990234  10406.490234  ...  2.062954e+09                      0\n",
              "2019-08-30  10618.049805  10504.280273  ...  2.823728e+09                      0\n",
              "2019-09-02  10634.849609  10589.419922  ...  2.078558e+09                      0\n",
              "2019-09-03  10650.150391  10557.030273  ...  1.996956e+09                      1\n",
              "2019-09-04  10670.429688  10566.320312  ...  2.090578e+09                      0\n",
              "2019-09-05  10766.599609  10714.269531  ...  2.805213e+09                      0\n",
              "2019-09-06  10803.070312  10753.450195  ...  2.376172e+09                      0\n",
              "2019-09-10  10810.030273  10755.639648  ...  0.000000e+00                      0\n",
              "\n",
              "[20 rows x 6 columns]"
            ]
          },
          "metadata": {
            "tags": []
          },
          "execution_count": 6
        }
      ]
    },
    {
      "cell_type": "markdown",
      "metadata": {
        "id": "L0_wS1X7vjbe",
        "colab_type": "text"
      },
      "source": [
        "# 觀察最近100天的labels"
      ]
    },
    {
      "cell_type": "code",
      "metadata": {
        "id": "Qti5Zd4-jOrH",
        "colab_type": "code",
        "outputId": "b33f43a7-bcb4-4714-bbb5-ae1f1df30def",
        "colab": {
          "base_uri": "https://localhost:8080/",
          "height": 307
        }
      },
      "source": [
        "import matplotlib.pyplot as plt\n",
        "buy = df[df['triple_barrier_signal']==1]['Close']\n",
        "sell = df[df['triple_barrier_signal']==-1]['Close']\n",
        "df['Close'][-100:].plot()\n",
        "plt.scatter(buy.index,buy.values,color='red')\n",
        "plt.scatter(sell.index,sell.values,color='black')\n",
        "lb = df['Close'][-100:].mean() - 3*df['Close'][-100:].std()\n",
        "ub = df['Close'][-100:].mean() + 3*df['Close'][-100:].std()\n",
        "plt.ylim(lb,ub)"
      ],
      "execution_count": 7,
      "outputs": [
        {
          "output_type": "execute_result",
          "data": {
            "text/plain": [
              "(10012.295526358997, 11322.630704109753)"
            ]
          },
          "metadata": {
            "tags": []
          },
          "execution_count": 7
        },
        {
          "output_type": "display_data",
          "data": {
            "image/png": "[encoded data removed]",
            "text/plain": [
              "<Figure size 432x288 with 1 Axes>"
            ]
          },
          "metadata": {
            "tags": []
          }
        }
      ]
    },
    {
      "cell_type": "markdown",
      "metadata": {
        "id": "aFIoOA-xeeyy",
        "colab_type": "text"
      },
      "source": [
        "# 檢查Labels是否平衡"
      ]
    },
    {
      "cell_type": "code",
      "metadata": {
        "id": "ecKwK1v9ee8r",
        "colab_type": "code",
        "outputId": "d76e2aa3-81a6-4876-cdca-b115ac10b426",
        "colab": {
          "base_uri": "https://localhost:8080/",
          "height": 355
        }
      },
      "source": [
        "g = sns.countplot(df['triple_barrier_signal'])\n",
        "print(df['triple_barrier_signal'].value_counts())"
      ],
      "execution_count": 8,
      "outputs": [
        {
          "output_type": "stream",
          "text": [
            " 0    2751\n",
            "-1    1360\n",
            " 1    1345\n",
            "Name: triple_barrier_signal, dtype: int64\n"
          ],
          "name": "stdout"
        },
        {
          "output_type": "display_data",
          "data": {
            "image/png": "[encoded data removed]",
            "text/plain": [
              "<Figure size 432x288 with 1 Axes>"
            ]
          },
          "metadata": {
            "tags": []
          }
        }
      ]
    },
    {
      "cell_type": "markdown",
      "metadata": {
        "id": "HUtEilqGfIJl",
        "colab_type": "text"
      },
      "source": [
        "# 建立ohlcv"
      ]
    },
    {
      "cell_type": "code",
      "metadata": {
        "id": "FdFhLZkYfKpN",
        "colab_type": "code",
        "colab": {}
      },
      "source": [
        "from finta import TA\n",
        "ohlcv = df[['Open','High','Low','Close','Volume']]\n",
        "ohlcv.columns = ['open','high','low','close','volume']"
      ],
      "execution_count": 0,
      "outputs": []
    },
    {
      "cell_type": "markdown",
      "metadata": {
        "id": "9K9RepGQwbQQ",
        "colab_type": "text"
      },
      "source": [
        "# 計算技術指標RSI"
      ]
    },
    {
      "cell_type": "code",
      "metadata": {
        "id": "ZZkpnqk9e0Rw",
        "colab_type": "code",
        "outputId": "d91a5fda-cf0c-4fce-f61f-4da5e4f32d73",
        "colab": {
          "base_uri": "https://localhost:8080/",
          "height": 656
        }
      },
      "source": [
        "df['RSI'] = TA.RSI(ohlcv)\n",
        "print(df['RSI'].describe())\n",
        "sns.distplot(df['RSI'].dropna())\n",
        "df.tail()"
      ],
      "execution_count": 10,
      "outputs": [
        {
          "output_type": "stream",
          "text": [
            "count    5455.000000\n",
            "mean       52.295260\n",
            "std        17.517729\n",
            "min         4.606342\n",
            "25%        38.862540\n",
            "50%        53.241098\n",
            "75%        65.528371\n",
            "max       100.000000\n",
            "Name: RSI, dtype: float64\n"
          ],
          "name": "stdout"
        },
        {
          "output_type": "execute_result",
          "data": {
            "text/html": [
              "<div>\n",
              "<style scoped>\n",
              "    .dataframe tbody tr th:only-of-type {\n",
              "        vertical-align: middle;\n",
              "    }\n",
              "\n",
              "    .dataframe tbody tr th {\n",
              "        vertical-align: top;\n",
              "    }\n",
              "\n",
              "    .dataframe thead th {\n",
              "        text-align: right;\n",
              "    }\n",
              "</style>\n",
              "<table border=\"1\" class=\"dataframe\">\n",
              "  <thead>\n",
              "    <tr style=\"text-align: right;\">\n",
              "      <th></th>\n",
              "      <th>High</th>\n",
              "      <th>Low</th>\n",
              "      <th>Open</th>\n",
              "      <th>Close</th>\n",
              "      <th>Volume</th>\n",
              "      <th>triple_barrier_signal</th>\n",
              "      <th>RSI</th>\n",
              "    </tr>\n",
              "    <tr>\n",
              "      <th>Date</th>\n",
              "      <th></th>\n",
              "      <th></th>\n",
              "      <th></th>\n",
              "      <th></th>\n",
              "      <th></th>\n",
              "      <th></th>\n",
              "      <th></th>\n",
              "    </tr>\n",
              "  </thead>\n",
              "  <tbody>\n",
              "    <tr>\n",
              "      <th>2019-09-03</th>\n",
              "      <td>10650.150391</td>\n",
              "      <td>10557.030273</td>\n",
              "      <td>10629.219727</td>\n",
              "      <td>10558.209961</td>\n",
              "      <td>1.996956e+09</td>\n",
              "      <td>1</td>\n",
              "      <td>54.800802</td>\n",
              "    </tr>\n",
              "    <tr>\n",
              "      <th>2019-09-04</th>\n",
              "      <td>10670.429688</td>\n",
              "      <td>10566.320312</td>\n",
              "      <td>10566.320312</td>\n",
              "      <td>10657.309570</td>\n",
              "      <td>2.090578e+09</td>\n",
              "      <td>0</td>\n",
              "      <td>63.617686</td>\n",
              "    </tr>\n",
              "    <tr>\n",
              "      <th>2019-09-05</th>\n",
              "      <td>10766.599609</td>\n",
              "      <td>10714.269531</td>\n",
              "      <td>10718.400391</td>\n",
              "      <td>10756.929688</td>\n",
              "      <td>2.805213e+09</td>\n",
              "      <td>0</td>\n",
              "      <td>70.330664</td>\n",
              "    </tr>\n",
              "    <tr>\n",
              "      <th>2019-09-06</th>\n",
              "      <td>10803.070312</td>\n",
              "      <td>10753.450195</td>\n",
              "      <td>10783.459961</td>\n",
              "      <td>10780.639648</td>\n",
              "      <td>2.376172e+09</td>\n",
              "      <td>0</td>\n",
              "      <td>71.761526</td>\n",
              "    </tr>\n",
              "    <tr>\n",
              "      <th>2019-09-10</th>\n",
              "      <td>10810.030273</td>\n",
              "      <td>10755.639648</td>\n",
              "      <td>10791.950195</td>\n",
              "      <td>10765.459961</td>\n",
              "      <td>0.000000e+00</td>\n",
              "      <td>0</td>\n",
              "      <td>69.292882</td>\n",
              "    </tr>\n",
              "  </tbody>\n",
              "</table>\n",
              "</div>"
            ],
            "text/plain": [
              "                    High           Low  ...  triple_barrier_signal        RSI\n",
              "Date                                    ...                                  \n",
              "2019-09-03  10650.150391  10557.030273  ...                      1  54.800802\n",
              "2019-09-04  10670.429688  10566.320312  ...                      0  63.617686\n",
              "2019-09-05  10766.599609  10714.269531  ...                      0  70.330664\n",
              "2019-09-06  10803.070312  10753.450195  ...                      0  71.761526\n",
              "2019-09-10  10810.030273  10755.639648  ...                      0  69.292882\n",
              "\n",
              "[5 rows x 7 columns]"
            ]
          },
          "metadata": {
            "tags": []
          },
          "execution_count": 10
        },
        {
          "output_type": "display_data",
          "data": {
            "image/png": "[encoded data removed]",
            "text/plain": [
              "<Figure size 432x288 with 1 Axes>"
            ]
          },
          "metadata": {
            "tags": []
          }
        }
      ]
    },
    {
      "cell_type": "markdown",
      "metadata": {
        "id": "fZXZuQe93pJE",
        "colab_type": "text"
      },
      "source": [
        "# 計算威廉指標"
      ]
    },
    {
      "cell_type": "code",
      "metadata": {
        "id": "Q8_qx-dnfPJa",
        "colab_type": "code",
        "outputId": "60f2a95d-f903-4a03-fb32-79122027e2b3",
        "colab": {
          "base_uri": "https://localhost:8080/",
          "height": 656
        }
      },
      "source": [
        "df['Williams %R'] = TA.WILLIAMS(ohlcv)\n",
        "print(df['Williams %R'].describe())\n",
        "sns.distplot(df['Williams %R'].dropna())\n",
        "df.tail()"
      ],
      "execution_count": 11,
      "outputs": [
        {
          "output_type": "stream",
          "text": [
            "count    5443.000000\n",
            "mean      -44.742746\n",
            "std        32.269848\n",
            "min      -100.000000\n",
            "25%       -75.202881\n",
            "50%       -40.083996\n",
            "75%       -14.397251\n",
            "max        -0.000000\n",
            "Name: Williams %R, dtype: float64\n"
          ],
          "name": "stdout"
        },
        {
          "output_type": "execute_result",
          "data": {
            "text/html": [
              "<div>\n",
              "<style scoped>\n",
              "    .dataframe tbody tr th:only-of-type {\n",
              "        vertical-align: middle;\n",
              "    }\n",
              "\n",
              "    .dataframe tbody tr th {\n",
              "        vertical-align: top;\n",
              "    }\n",
              "\n",
              "    .dataframe thead th {\n",
              "        text-align: right;\n",
              "    }\n",
              "</style>\n",
              "<table border=\"1\" class=\"dataframe\">\n",
              "  <thead>\n",
              "    <tr style=\"text-align: right;\">\n",
              "      <th></th>\n",
              "      <th>High</th>\n",
              "      <th>Low</th>\n",
              "      <th>Open</th>\n",
              "      <th>Close</th>\n",
              "      <th>Volume</th>\n",
              "      <th>triple_barrier_signal</th>\n",
              "      <th>RSI</th>\n",
              "      <th>Williams %R</th>\n",
              "    </tr>\n",
              "    <tr>\n",
              "      <th>Date</th>\n",
              "      <th></th>\n",
              "      <th></th>\n",
              "      <th></th>\n",
              "      <th></th>\n",
              "      <th></th>\n",
              "      <th></th>\n",
              "      <th></th>\n",
              "      <th></th>\n",
              "    </tr>\n",
              "  </thead>\n",
              "  <tbody>\n",
              "    <tr>\n",
              "      <th>2019-09-03</th>\n",
              "      <td>10650.150391</td>\n",
              "      <td>10557.030273</td>\n",
              "      <td>10629.219727</td>\n",
              "      <td>10558.209961</td>\n",
              "      <td>1.996956e+09</td>\n",
              "      <td>1</td>\n",
              "      <td>54.800802</td>\n",
              "      <td>-25.370532</td>\n",
              "    </tr>\n",
              "    <tr>\n",
              "      <th>2019-09-04</th>\n",
              "      <td>10670.429688</td>\n",
              "      <td>10566.320312</td>\n",
              "      <td>10566.320312</td>\n",
              "      <td>10657.309570</td>\n",
              "      <td>2.090578e+09</td>\n",
              "      <td>0</td>\n",
              "      <td>63.617686</td>\n",
              "      <td>-3.726675</td>\n",
              "    </tr>\n",
              "    <tr>\n",
              "      <th>2019-09-05</th>\n",
              "      <td>10766.599609</td>\n",
              "      <td>10714.269531</td>\n",
              "      <td>10718.400391</td>\n",
              "      <td>10756.929688</td>\n",
              "      <td>2.805213e+09</td>\n",
              "      <td>0</td>\n",
              "      <td>70.330664</td>\n",
              "      <td>-2.267544</td>\n",
              "    </tr>\n",
              "    <tr>\n",
              "      <th>2019-09-06</th>\n",
              "      <td>10803.070312</td>\n",
              "      <td>10753.450195</td>\n",
              "      <td>10783.459961</td>\n",
              "      <td>10780.639648</td>\n",
              "      <td>2.376172e+09</td>\n",
              "      <td>0</td>\n",
              "      <td>71.761526</td>\n",
              "      <td>-4.845474</td>\n",
              "    </tr>\n",
              "    <tr>\n",
              "      <th>2019-09-10</th>\n",
              "      <td>10810.030273</td>\n",
              "      <td>10755.639648</td>\n",
              "      <td>10791.950195</td>\n",
              "      <td>10765.459961</td>\n",
              "      <td>0.000000e+00</td>\n",
              "      <td>0</td>\n",
              "      <td>69.292882</td>\n",
              "      <td>-9.485469</td>\n",
              "    </tr>\n",
              "  </tbody>\n",
              "</table>\n",
              "</div>"
            ],
            "text/plain": [
              "                    High           Low  ...        RSI  Williams %R\n",
              "Date                                    ...                        \n",
              "2019-09-03  10650.150391  10557.030273  ...  54.800802   -25.370532\n",
              "2019-09-04  10670.429688  10566.320312  ...  63.617686    -3.726675\n",
              "2019-09-05  10766.599609  10714.269531  ...  70.330664    -2.267544\n",
              "2019-09-06  10803.070312  10753.450195  ...  71.761526    -4.845474\n",
              "2019-09-10  10810.030273  10755.639648  ...  69.292882    -9.485469\n",
              "\n",
              "[5 rows x 8 columns]"
            ]
          },
          "metadata": {
            "tags": []
          },
          "execution_count": 11
        },
        {
          "output_type": "display_data",
          "data": {
            "image/png": "[encoded data removed]",
            "text/plain": [
              "<Figure size 432x288 with 1 Axes>"
            ]
          },
          "metadata": {
            "tags": []
          }
        }
      ]
    },
    {
      "cell_type": "markdown",
      "metadata": {
        "id": "xK4jb6KTDdGa",
        "colab_type": "text"
      },
      "source": [
        "# SMA"
      ]
    },
    {
      "cell_type": "code",
      "metadata": {
        "id": "osETw-NkfgfL",
        "colab_type": "code",
        "outputId": "7c326889-3fc6-4036-bd14-71d4d3dbd2e4",
        "colab": {
          "base_uri": "https://localhost:8080/",
          "height": 656
        }
      },
      "source": [
        "df['SMA'] = TA.SMA(ohlcv)\n",
        "print(df['SMA'].describe())\n",
        "sns.distplot(df['SMA'].dropna())\n",
        "df.tail()"
      ],
      "execution_count": 12,
      "outputs": [
        {
          "output_type": "stream",
          "text": [
            "count     5416.000000\n",
            "mean      7640.094388\n",
            "std       1707.420333\n",
            "min       3821.469018\n",
            "25%       6265.952056\n",
            "50%       7800.078048\n",
            "75%       8861.778392\n",
            "max      10922.561952\n",
            "Name: SMA, dtype: float64\n"
          ],
          "name": "stdout"
        },
        {
          "output_type": "execute_result",
          "data": {
            "text/html": [
              "<div>\n",
              "<style scoped>\n",
              "    .dataframe tbody tr th:only-of-type {\n",
              "        vertical-align: middle;\n",
              "    }\n",
              "\n",
              "    .dataframe tbody tr th {\n",
              "        vertical-align: top;\n",
              "    }\n",
              "\n",
              "    .dataframe thead th {\n",
              "        text-align: right;\n",
              "    }\n",
              "</style>\n",
              "<table border=\"1\" class=\"dataframe\">\n",
              "  <thead>\n",
              "    <tr style=\"text-align: right;\">\n",
              "      <th></th>\n",
              "      <th>High</th>\n",
              "      <th>Low</th>\n",
              "      <th>Open</th>\n",
              "      <th>Close</th>\n",
              "      <th>Volume</th>\n",
              "      <th>triple_barrier_signal</th>\n",
              "      <th>RSI</th>\n",
              "      <th>Williams %R</th>\n",
              "      <th>SMA</th>\n",
              "    </tr>\n",
              "    <tr>\n",
              "      <th>Date</th>\n",
              "      <th></th>\n",
              "      <th></th>\n",
              "      <th></th>\n",
              "      <th></th>\n",
              "      <th></th>\n",
              "      <th></th>\n",
              "      <th></th>\n",
              "      <th></th>\n",
              "      <th></th>\n",
              "    </tr>\n",
              "  </thead>\n",
              "  <tbody>\n",
              "    <tr>\n",
              "      <th>2019-09-03</th>\n",
              "      <td>10650.150391</td>\n",
              "      <td>10557.030273</td>\n",
              "      <td>10629.219727</td>\n",
              "      <td>10558.209961</td>\n",
              "      <td>1.996956e+09</td>\n",
              "      <td>1</td>\n",
              "      <td>54.800802</td>\n",
              "      <td>-25.370532</td>\n",
              "      <td>10644.634694</td>\n",
              "    </tr>\n",
              "    <tr>\n",
              "      <th>2019-09-04</th>\n",
              "      <td>10670.429688</td>\n",
              "      <td>10566.320312</td>\n",
              "      <td>10566.320312</td>\n",
              "      <td>10657.309570</td>\n",
              "      <td>2.090578e+09</td>\n",
              "      <td>0</td>\n",
              "      <td>63.617686</td>\n",
              "      <td>-3.726675</td>\n",
              "      <td>10642.344203</td>\n",
              "    </tr>\n",
              "    <tr>\n",
              "      <th>2019-09-05</th>\n",
              "      <td>10766.599609</td>\n",
              "      <td>10714.269531</td>\n",
              "      <td>10718.400391</td>\n",
              "      <td>10756.929688</td>\n",
              "      <td>2.805213e+09</td>\n",
              "      <td>0</td>\n",
              "      <td>70.330664</td>\n",
              "      <td>-2.267544</td>\n",
              "      <td>10643.664920</td>\n",
              "    </tr>\n",
              "    <tr>\n",
              "      <th>2019-09-06</th>\n",
              "      <td>10803.070312</td>\n",
              "      <td>10753.450195</td>\n",
              "      <td>10783.459961</td>\n",
              "      <td>10780.639648</td>\n",
              "      <td>2.376172e+09</td>\n",
              "      <td>0</td>\n",
              "      <td>71.761526</td>\n",
              "      <td>-4.845474</td>\n",
              "      <td>10643.229778</td>\n",
              "    </tr>\n",
              "    <tr>\n",
              "      <th>2019-09-10</th>\n",
              "      <td>10810.030273</td>\n",
              "      <td>10755.639648</td>\n",
              "      <td>10791.950195</td>\n",
              "      <td>10765.459961</td>\n",
              "      <td>0.000000e+00</td>\n",
              "      <td>0</td>\n",
              "      <td>69.292882</td>\n",
              "      <td>-9.485469</td>\n",
              "      <td>10641.328316</td>\n",
              "    </tr>\n",
              "  </tbody>\n",
              "</table>\n",
              "</div>"
            ],
            "text/plain": [
              "                    High           Low  ...  Williams %R           SMA\n",
              "Date                                    ...                           \n",
              "2019-09-03  10650.150391  10557.030273  ...   -25.370532  10644.634694\n",
              "2019-09-04  10670.429688  10566.320312  ...    -3.726675  10642.344203\n",
              "2019-09-05  10766.599609  10714.269531  ...    -2.267544  10643.664920\n",
              "2019-09-06  10803.070312  10753.450195  ...    -4.845474  10643.229778\n",
              "2019-09-10  10810.030273  10755.639648  ...    -9.485469  10641.328316\n",
              "\n",
              "[5 rows x 9 columns]"
            ]
          },
          "metadata": {
            "tags": []
          },
          "execution_count": 12
        },
        {
          "output_type": "display_data",
          "data": {
            "image/png": "[encoded data removed]",
            "text/plain": [
              "<Figure size 432x288 with 1 Axes>"
            ]
          },
          "metadata": {
            "tags": []
          }
        }
      ]
    },
    {
      "cell_type": "markdown",
      "metadata": {
        "id": "a2Mf0ckEoHC_",
        "colab_type": "text"
      },
      "source": [
        "# EMA"
      ]
    },
    {
      "cell_type": "code",
      "metadata": {
        "id": "EQlFyJLeh4WA",
        "colab_type": "code",
        "outputId": "6b15d589-36b2-4a3e-a0c6-2b35140f23d4",
        "colab": {
          "base_uri": "https://localhost:8080/",
          "height": 656
        }
      },
      "source": [
        "df['EMA'] = TA.EMA(ohlcv)\n",
        "print(df['EMA'].describe())\n",
        "sns.distplot(df['EMA'])\n",
        "df.tail()"
      ],
      "execution_count": 13,
      "outputs": [
        {
          "output_type": "stream",
          "text": [
            "count     5456.000000\n",
            "mean      7656.849595\n",
            "std       1726.767982\n",
            "min       3570.937692\n",
            "25%       6287.103100\n",
            "50%       7790.825934\n",
            "75%       8897.819318\n",
            "max      11134.288080\n",
            "Name: EMA, dtype: float64\n"
          ],
          "name": "stdout"
        },
        {
          "output_type": "execute_result",
          "data": {
            "text/html": [
              "<div>\n",
              "<style scoped>\n",
              "    .dataframe tbody tr th:only-of-type {\n",
              "        vertical-align: middle;\n",
              "    }\n",
              "\n",
              "    .dataframe tbody tr th {\n",
              "        vertical-align: top;\n",
              "    }\n",
              "\n",
              "    .dataframe thead th {\n",
              "        text-align: right;\n",
              "    }\n",
              "</style>\n",
              "<table border=\"1\" class=\"dataframe\">\n",
              "  <thead>\n",
              "    <tr style=\"text-align: right;\">\n",
              "      <th></th>\n",
              "      <th>High</th>\n",
              "      <th>Low</th>\n",
              "      <th>Open</th>\n",
              "      <th>Close</th>\n",
              "      <th>Volume</th>\n",
              "      <th>triple_barrier_signal</th>\n",
              "      <th>RSI</th>\n",
              "      <th>Williams %R</th>\n",
              "      <th>SMA</th>\n",
              "      <th>EMA</th>\n",
              "    </tr>\n",
              "    <tr>\n",
              "      <th>Date</th>\n",
              "      <th></th>\n",
              "      <th></th>\n",
              "      <th></th>\n",
              "      <th></th>\n",
              "      <th></th>\n",
              "      <th></th>\n",
              "      <th></th>\n",
              "      <th></th>\n",
              "      <th></th>\n",
              "      <th></th>\n",
              "    </tr>\n",
              "  </thead>\n",
              "  <tbody>\n",
              "    <tr>\n",
              "      <th>2019-09-03</th>\n",
              "      <td>10650.150391</td>\n",
              "      <td>10557.030273</td>\n",
              "      <td>10629.219727</td>\n",
              "      <td>10558.209961</td>\n",
              "      <td>1.996956e+09</td>\n",
              "      <td>1</td>\n",
              "      <td>54.800802</td>\n",
              "      <td>-25.370532</td>\n",
              "      <td>10644.634694</td>\n",
              "      <td>10524.614781</td>\n",
              "    </tr>\n",
              "    <tr>\n",
              "      <th>2019-09-04</th>\n",
              "      <td>10670.429688</td>\n",
              "      <td>10566.320312</td>\n",
              "      <td>10566.320312</td>\n",
              "      <td>10657.309570</td>\n",
              "      <td>2.090578e+09</td>\n",
              "      <td>0</td>\n",
              "      <td>63.617686</td>\n",
              "      <td>-3.726675</td>\n",
              "      <td>10642.344203</td>\n",
              "      <td>10551.153739</td>\n",
              "    </tr>\n",
              "    <tr>\n",
              "      <th>2019-09-05</th>\n",
              "      <td>10766.599609</td>\n",
              "      <td>10714.269531</td>\n",
              "      <td>10718.400391</td>\n",
              "      <td>10756.929688</td>\n",
              "      <td>2.805213e+09</td>\n",
              "      <td>0</td>\n",
              "      <td>70.330664</td>\n",
              "      <td>-2.267544</td>\n",
              "      <td>10643.664920</td>\n",
              "      <td>10592.308928</td>\n",
              "    </tr>\n",
              "    <tr>\n",
              "      <th>2019-09-06</th>\n",
              "      <td>10803.070312</td>\n",
              "      <td>10753.450195</td>\n",
              "      <td>10783.459961</td>\n",
              "      <td>10780.639648</td>\n",
              "      <td>2.376172e+09</td>\n",
              "      <td>0</td>\n",
              "      <td>71.761526</td>\n",
              "      <td>-4.845474</td>\n",
              "      <td>10643.229778</td>\n",
              "      <td>10629.975072</td>\n",
              "    </tr>\n",
              "    <tr>\n",
              "      <th>2019-09-10</th>\n",
              "      <td>10810.030273</td>\n",
              "      <td>10755.639648</td>\n",
              "      <td>10791.950195</td>\n",
              "      <td>10765.459961</td>\n",
              "      <td>0.000000e+00</td>\n",
              "      <td>0</td>\n",
              "      <td>69.292882</td>\n",
              "      <td>-9.485469</td>\n",
              "      <td>10641.328316</td>\n",
              "      <td>10657.072050</td>\n",
              "    </tr>\n",
              "  </tbody>\n",
              "</table>\n",
              "</div>"
            ],
            "text/plain": [
              "                    High           Low  ...           SMA           EMA\n",
              "Date                                    ...                            \n",
              "2019-09-03  10650.150391  10557.030273  ...  10644.634694  10524.614781\n",
              "2019-09-04  10670.429688  10566.320312  ...  10642.344203  10551.153739\n",
              "2019-09-05  10766.599609  10714.269531  ...  10643.664920  10592.308928\n",
              "2019-09-06  10803.070312  10753.450195  ...  10643.229778  10629.975072\n",
              "2019-09-10  10810.030273  10755.639648  ...  10641.328316  10657.072050\n",
              "\n",
              "[5 rows x 10 columns]"
            ]
          },
          "metadata": {
            "tags": []
          },
          "execution_count": 13
        },
        {
          "output_type": "display_data",
          "data": {
            "image/png": "[encoded data removed]",
            "text/plain": [
              "<Figure size 432x288 with 1 Axes>"
            ]
          },
          "metadata": {
            "tags": []
          }
        }
      ]
    },
    {
      "cell_type": "markdown",
      "metadata": {
        "id": "wqkaWfQryV3W",
        "colab_type": "text"
      },
      "source": [
        "# WMA"
      ]
    },
    {
      "cell_type": "code",
      "metadata": {
        "id": "9Dw9scCSieLI",
        "colab_type": "code",
        "outputId": "8c88fa15-cc36-4b98-cf20-61d4ad70e3b9",
        "colab": {
          "base_uri": "https://localhost:8080/",
          "height": 712
        }
      },
      "source": [
        "df['WMA'] = TA.WMA(ohlcv)\n",
        "print(df['WMA'].describe())\n",
        "sns.distplot(df['WMA'].dropna())\n",
        "df.tail()"
      ],
      "execution_count": 14,
      "outputs": [
        {
          "output_type": "stream",
          "text": [
            "/usr/local/lib/python3.6/dist-packages/finta/finta.py:263: FutureWarning: Currently, 'apply' passes the values as ndarrays to the applied function. In the future, this will change to passing it as Series objects. You need to specify 'raw=True' to keep the current behaviour, and you can pass 'raw=False' to silence this warning\n",
            "  wma = close_.apply(linear(weights))\n"
          ],
          "name": "stderr"
        },
        {
          "output_type": "stream",
          "text": [
            "count     5448.000000\n",
            "mean      7654.242587\n",
            "std       1729.419878\n",
            "min       3546.690218\n",
            "25%       6290.446685\n",
            "50%       7780.266520\n",
            "75%       8902.716352\n",
            "max      11186.438932\n",
            "Name: WMA, dtype: float64\n"
          ],
          "name": "stdout"
        },
        {
          "output_type": "execute_result",
          "data": {
            "text/html": [
              "<div>\n",
              "<style scoped>\n",
              "    .dataframe tbody tr th:only-of-type {\n",
              "        vertical-align: middle;\n",
              "    }\n",
              "\n",
              "    .dataframe tbody tr th {\n",
              "        vertical-align: top;\n",
              "    }\n",
              "\n",
              "    .dataframe thead th {\n",
              "        text-align: right;\n",
              "    }\n",
              "</style>\n",
              "<table border=\"1\" class=\"dataframe\">\n",
              "  <thead>\n",
              "    <tr style=\"text-align: right;\">\n",
              "      <th></th>\n",
              "      <th>High</th>\n",
              "      <th>Low</th>\n",
              "      <th>Open</th>\n",
              "      <th>Close</th>\n",
              "      <th>Volume</th>\n",
              "      <th>triple_barrier_signal</th>\n",
              "      <th>RSI</th>\n",
              "      <th>Williams %R</th>\n",
              "      <th>SMA</th>\n",
              "      <th>EMA</th>\n",
              "      <th>WMA</th>\n",
              "    </tr>\n",
              "    <tr>\n",
              "      <th>Date</th>\n",
              "      <th></th>\n",
              "      <th></th>\n",
              "      <th></th>\n",
              "      <th></th>\n",
              "      <th></th>\n",
              "      <th></th>\n",
              "      <th></th>\n",
              "      <th></th>\n",
              "      <th></th>\n",
              "      <th></th>\n",
              "      <th></th>\n",
              "    </tr>\n",
              "  </thead>\n",
              "  <tbody>\n",
              "    <tr>\n",
              "      <th>2019-09-03</th>\n",
              "      <td>10650.150391</td>\n",
              "      <td>10557.030273</td>\n",
              "      <td>10629.219727</td>\n",
              "      <td>10558.209961</td>\n",
              "      <td>1.996956e+09</td>\n",
              "      <td>1</td>\n",
              "      <td>54.800802</td>\n",
              "      <td>-25.370532</td>\n",
              "      <td>10644.634694</td>\n",
              "      <td>10524.614781</td>\n",
              "      <td>10479.589062</td>\n",
              "    </tr>\n",
              "    <tr>\n",
              "      <th>2019-09-04</th>\n",
              "      <td>10670.429688</td>\n",
              "      <td>10566.320312</td>\n",
              "      <td>10566.320312</td>\n",
              "      <td>10657.309570</td>\n",
              "      <td>2.090578e+09</td>\n",
              "      <td>0</td>\n",
              "      <td>63.617686</td>\n",
              "      <td>-3.726675</td>\n",
              "      <td>10642.344203</td>\n",
              "      <td>10551.153739</td>\n",
              "      <td>10476.856337</td>\n",
              "    </tr>\n",
              "    <tr>\n",
              "      <th>2019-09-05</th>\n",
              "      <td>10766.599609</td>\n",
              "      <td>10714.269531</td>\n",
              "      <td>10718.400391</td>\n",
              "      <td>10756.929688</td>\n",
              "      <td>2.805213e+09</td>\n",
              "      <td>0</td>\n",
              "      <td>70.330664</td>\n",
              "      <td>-2.267544</td>\n",
              "      <td>10643.664920</td>\n",
              "      <td>10592.308928</td>\n",
              "      <td>10477.320247</td>\n",
              "    </tr>\n",
              "    <tr>\n",
              "      <th>2019-09-06</th>\n",
              "      <td>10803.070312</td>\n",
              "      <td>10753.450195</td>\n",
              "      <td>10783.459961</td>\n",
              "      <td>10780.639648</td>\n",
              "      <td>2.376172e+09</td>\n",
              "      <td>0</td>\n",
              "      <td>71.761526</td>\n",
              "      <td>-4.845474</td>\n",
              "      <td>10643.229778</td>\n",
              "      <td>10629.975072</td>\n",
              "      <td>10523.960373</td>\n",
              "    </tr>\n",
              "    <tr>\n",
              "      <th>2019-09-10</th>\n",
              "      <td>10810.030273</td>\n",
              "      <td>10755.639648</td>\n",
              "      <td>10791.950195</td>\n",
              "      <td>10765.459961</td>\n",
              "      <td>0.000000e+00</td>\n",
              "      <td>0</td>\n",
              "      <td>69.292882</td>\n",
              "      <td>-9.485469</td>\n",
              "      <td>10641.328316</td>\n",
              "      <td>10657.072050</td>\n",
              "      <td>10572.473568</td>\n",
              "    </tr>\n",
              "  </tbody>\n",
              "</table>\n",
              "</div>"
            ],
            "text/plain": [
              "                    High           Low  ...           EMA           WMA\n",
              "Date                                    ...                            \n",
              "2019-09-03  10650.150391  10557.030273  ...  10524.614781  10479.589062\n",
              "2019-09-04  10670.429688  10566.320312  ...  10551.153739  10476.856337\n",
              "2019-09-05  10766.599609  10714.269531  ...  10592.308928  10477.320247\n",
              "2019-09-06  10803.070312  10753.450195  ...  10629.975072  10523.960373\n",
              "2019-09-10  10810.030273  10755.639648  ...  10657.072050  10572.473568\n",
              "\n",
              "[5 rows x 11 columns]"
            ]
          },
          "metadata": {
            "tags": []
          },
          "execution_count": 14
        },
        {
          "output_type": "display_data",
          "data": {
            "image/png": "[encoded data removed]",
            "text/plain": [
              "<Figure size 432x288 with 1 Axes>"
            ]
          },
          "metadata": {
            "tags": []
          }
        }
      ]
    },
    {
      "cell_type": "markdown",
      "metadata": {
        "id": "HNC131ghyrF1",
        "colab_type": "text"
      },
      "source": [
        "# HMA"
      ]
    },
    {
      "cell_type": "code",
      "metadata": {
        "id": "b02O6Yevi6mN",
        "colab_type": "code",
        "outputId": "c4075776-22aa-43d5-9ddc-604ac6325a08",
        "colab": {
          "base_uri": "https://localhost:8080/",
          "height": 921
        }
      },
      "source": [
        "df['HMA'] = TA.HMA(ohlcv)\n",
        "print(df['HMA'].describe())\n",
        "sns.distplot(df['HMA'].dropna())\n",
        "df.tail()"
      ],
      "execution_count": 15,
      "outputs": [
        {
          "output_type": "stream",
          "text": [
            "/usr/local/lib/python3.6/dist-packages/finta/finta.py:263: FutureWarning: Currently, 'apply' passes the values as ndarrays to the applied function. In the future, this will change to passing it as Series objects. You need to specify 'raw=True' to keep the current behaviour, and you can pass 'raw=False' to silence this warning\n",
            "  wma = close_.apply(linear(weights))\n",
            "/usr/local/lib/python3.6/dist-packages/finta/finta.py:285: SettingWithCopyWarning: \n",
            "A value is trying to be set on a copy of a slice from a DataFrame.\n",
            "Try using .loc[row_indexer,col_indexer] = value instead\n",
            "\n",
            "See the caveats in the documentation: http://pandas.pydata.org/pandas-docs/stable/indexing.html#indexing-view-versus-copy\n",
            "  ohlc['deltawma'] = 2 * wmaf - wmas\n"
          ],
          "name": "stderr"
        },
        {
          "output_type": "stream",
          "text": [
            "count     5453.000000\n",
            "mean      7656.543167\n",
            "std       1732.497310\n",
            "min       3488.004028\n",
            "25%       6281.905957\n",
            "50%       7772.325049\n",
            "75%       8896.791113\n",
            "max      11215.544141\n",
            "Name: HMA, dtype: float64\n"
          ],
          "name": "stdout"
        },
        {
          "output_type": "execute_result",
          "data": {
            "text/html": [
              "<div>\n",
              "<style scoped>\n",
              "    .dataframe tbody tr th:only-of-type {\n",
              "        vertical-align: middle;\n",
              "    }\n",
              "\n",
              "    .dataframe tbody tr th {\n",
              "        vertical-align: top;\n",
              "    }\n",
              "\n",
              "    .dataframe thead th {\n",
              "        text-align: right;\n",
              "    }\n",
              "</style>\n",
              "<table border=\"1\" class=\"dataframe\">\n",
              "  <thead>\n",
              "    <tr style=\"text-align: right;\">\n",
              "      <th></th>\n",
              "      <th>High</th>\n",
              "      <th>Low</th>\n",
              "      <th>Open</th>\n",
              "      <th>Close</th>\n",
              "      <th>Volume</th>\n",
              "      <th>triple_barrier_signal</th>\n",
              "      <th>RSI</th>\n",
              "      <th>Williams %R</th>\n",
              "      <th>SMA</th>\n",
              "      <th>EMA</th>\n",
              "      <th>WMA</th>\n",
              "      <th>HMA</th>\n",
              "    </tr>\n",
              "    <tr>\n",
              "      <th>Date</th>\n",
              "      <th></th>\n",
              "      <th></th>\n",
              "      <th></th>\n",
              "      <th></th>\n",
              "      <th></th>\n",
              "      <th></th>\n",
              "      <th></th>\n",
              "      <th></th>\n",
              "      <th></th>\n",
              "      <th></th>\n",
              "      <th></th>\n",
              "      <th></th>\n",
              "    </tr>\n",
              "  </thead>\n",
              "  <tbody>\n",
              "    <tr>\n",
              "      <th>2019-09-03</th>\n",
              "      <td>10650.150391</td>\n",
              "      <td>10557.030273</td>\n",
              "      <td>10629.219727</td>\n",
              "      <td>10558.209961</td>\n",
              "      <td>1.996956e+09</td>\n",
              "      <td>1</td>\n",
              "      <td>54.800802</td>\n",
              "      <td>-25.370532</td>\n",
              "      <td>10644.634694</td>\n",
              "      <td>10524.614781</td>\n",
              "      <td>10479.589062</td>\n",
              "      <td>10553.177734</td>\n",
              "    </tr>\n",
              "    <tr>\n",
              "      <th>2019-09-04</th>\n",
              "      <td>10670.429688</td>\n",
              "      <td>10566.320312</td>\n",
              "      <td>10566.320312</td>\n",
              "      <td>10657.309570</td>\n",
              "      <td>2.090578e+09</td>\n",
              "      <td>0</td>\n",
              "      <td>63.617686</td>\n",
              "      <td>-3.726675</td>\n",
              "      <td>10642.344203</td>\n",
              "      <td>10551.153739</td>\n",
              "      <td>10476.856337</td>\n",
              "      <td>10615.047754</td>\n",
              "    </tr>\n",
              "    <tr>\n",
              "      <th>2019-09-05</th>\n",
              "      <td>10766.599609</td>\n",
              "      <td>10714.269531</td>\n",
              "      <td>10718.400391</td>\n",
              "      <td>10756.929688</td>\n",
              "      <td>2.805213e+09</td>\n",
              "      <td>0</td>\n",
              "      <td>70.330664</td>\n",
              "      <td>-2.267544</td>\n",
              "      <td>10643.664920</td>\n",
              "      <td>10592.308928</td>\n",
              "      <td>10477.320247</td>\n",
              "      <td>10628.557715</td>\n",
              "    </tr>\n",
              "    <tr>\n",
              "      <th>2019-09-06</th>\n",
              "      <td>10803.070312</td>\n",
              "      <td>10753.450195</td>\n",
              "      <td>10783.459961</td>\n",
              "      <td>10780.639648</td>\n",
              "      <td>2.376172e+09</td>\n",
              "      <td>0</td>\n",
              "      <td>71.761526</td>\n",
              "      <td>-4.845474</td>\n",
              "      <td>10643.229778</td>\n",
              "      <td>10629.975072</td>\n",
              "      <td>10523.960373</td>\n",
              "      <td>10649.926758</td>\n",
              "    </tr>\n",
              "    <tr>\n",
              "      <th>2019-09-10</th>\n",
              "      <td>10810.030273</td>\n",
              "      <td>10755.639648</td>\n",
              "      <td>10791.950195</td>\n",
              "      <td>10765.459961</td>\n",
              "      <td>0.000000e+00</td>\n",
              "      <td>0</td>\n",
              "      <td>69.292882</td>\n",
              "      <td>-9.485469</td>\n",
              "      <td>10641.328316</td>\n",
              "      <td>10657.072050</td>\n",
              "      <td>10572.473568</td>\n",
              "      <td>10722.676660</td>\n",
              "    </tr>\n",
              "  </tbody>\n",
              "</table>\n",
              "</div>"
            ],
            "text/plain": [
              "                    High           Low  ...           WMA           HMA\n",
              "Date                                    ...                            \n",
              "2019-09-03  10650.150391  10557.030273  ...  10479.589062  10553.177734\n",
              "2019-09-04  10670.429688  10566.320312  ...  10476.856337  10615.047754\n",
              "2019-09-05  10766.599609  10714.269531  ...  10477.320247  10628.557715\n",
              "2019-09-06  10803.070312  10753.450195  ...  10523.960373  10649.926758\n",
              "2019-09-10  10810.030273  10755.639648  ...  10572.473568  10722.676660\n",
              "\n",
              "[5 rows x 12 columns]"
            ]
          },
          "metadata": {
            "tags": []
          },
          "execution_count": 15
        },
        {
          "output_type": "display_data",
          "data": {
            "image/png": "[encoded data removed]",
            "text/plain": [
              "<Figure size 432x288 with 1 Axes>"
            ]
          },
          "metadata": {
            "tags": []
          }
        }
      ]
    },
    {
      "cell_type": "markdown",
      "metadata": {
        "id": "ch7SZ7aFjCit",
        "colab_type": "text"
      },
      "source": [
        "# TEMA"
      ]
    },
    {
      "cell_type": "code",
      "metadata": {
        "id": "GeS0aHxZjFtA",
        "colab_type": "code",
        "outputId": "766f2978-229f-46a9-9d51-b501ed12a008",
        "colab": {
          "base_uri": "https://localhost:8080/",
          "height": 778
        }
      },
      "source": [
        "df['TEMA'] = TA.TEMA(ohlcv)\n",
        "print(df['TEMA'].describe())\n",
        "sns.distplot(df['TEMA'].dropna())\n",
        "df.tail()"
      ],
      "execution_count": 16,
      "outputs": [
        {
          "output_type": "stream",
          "text": [
            "count     5456.000000\n",
            "mean      7657.911631\n",
            "std       1735.810460\n",
            "min       3447.605265\n",
            "25%       6287.126539\n",
            "50%       7779.261757\n",
            "75%       8909.252111\n",
            "max      11249.877643\n",
            "Name: TEMA, dtype: float64\n"
          ],
          "name": "stdout"
        },
        {
          "output_type": "execute_result",
          "data": {
            "text/html": [
              "<div>\n",
              "<style scoped>\n",
              "    .dataframe tbody tr th:only-of-type {\n",
              "        vertical-align: middle;\n",
              "    }\n",
              "\n",
              "    .dataframe tbody tr th {\n",
              "        vertical-align: top;\n",
              "    }\n",
              "\n",
              "    .dataframe thead th {\n",
              "        text-align: right;\n",
              "    }\n",
              "</style>\n",
              "<table border=\"1\" class=\"dataframe\">\n",
              "  <thead>\n",
              "    <tr style=\"text-align: right;\">\n",
              "      <th></th>\n",
              "      <th>High</th>\n",
              "      <th>Low</th>\n",
              "      <th>Open</th>\n",
              "      <th>Close</th>\n",
              "      <th>Volume</th>\n",
              "      <th>triple_barrier_signal</th>\n",
              "      <th>RSI</th>\n",
              "      <th>Williams %R</th>\n",
              "      <th>SMA</th>\n",
              "      <th>EMA</th>\n",
              "      <th>WMA</th>\n",
              "      <th>HMA</th>\n",
              "      <th>TEMA</th>\n",
              "    </tr>\n",
              "    <tr>\n",
              "      <th>Date</th>\n",
              "      <th></th>\n",
              "      <th></th>\n",
              "      <th></th>\n",
              "      <th></th>\n",
              "      <th></th>\n",
              "      <th></th>\n",
              "      <th></th>\n",
              "      <th></th>\n",
              "      <th></th>\n",
              "      <th></th>\n",
              "      <th></th>\n",
              "      <th></th>\n",
              "      <th></th>\n",
              "    </tr>\n",
              "  </thead>\n",
              "  <tbody>\n",
              "    <tr>\n",
              "      <th>2019-09-03</th>\n",
              "      <td>10650.150391</td>\n",
              "      <td>10557.030273</td>\n",
              "      <td>10629.219727</td>\n",
              "      <td>10558.209961</td>\n",
              "      <td>1.996956e+09</td>\n",
              "      <td>1</td>\n",
              "      <td>54.800802</td>\n",
              "      <td>-25.370532</td>\n",
              "      <td>10644.634694</td>\n",
              "      <td>10524.614781</td>\n",
              "      <td>10479.589062</td>\n",
              "      <td>10553.177734</td>\n",
              "      <td>10593.639679</td>\n",
              "    </tr>\n",
              "    <tr>\n",
              "      <th>2019-09-04</th>\n",
              "      <td>10670.429688</td>\n",
              "      <td>10566.320312</td>\n",
              "      <td>10566.320312</td>\n",
              "      <td>10657.309570</td>\n",
              "      <td>2.090578e+09</td>\n",
              "      <td>0</td>\n",
              "      <td>63.617686</td>\n",
              "      <td>-3.726675</td>\n",
              "      <td>10642.344203</td>\n",
              "      <td>10551.153739</td>\n",
              "      <td>10476.856337</td>\n",
              "      <td>10615.047754</td>\n",
              "      <td>10639.891386</td>\n",
              "    </tr>\n",
              "    <tr>\n",
              "      <th>2019-09-05</th>\n",
              "      <td>10766.599609</td>\n",
              "      <td>10714.269531</td>\n",
              "      <td>10718.400391</td>\n",
              "      <td>10756.929688</td>\n",
              "      <td>2.805213e+09</td>\n",
              "      <td>0</td>\n",
              "      <td>70.330664</td>\n",
              "      <td>-2.267544</td>\n",
              "      <td>10643.664920</td>\n",
              "      <td>10592.308928</td>\n",
              "      <td>10477.320247</td>\n",
              "      <td>10628.557715</td>\n",
              "      <td>10715.406837</td>\n",
              "    </tr>\n",
              "    <tr>\n",
              "      <th>2019-09-06</th>\n",
              "      <td>10803.070312</td>\n",
              "      <td>10753.450195</td>\n",
              "      <td>10783.459961</td>\n",
              "      <td>10780.639648</td>\n",
              "      <td>2.376172e+09</td>\n",
              "      <td>0</td>\n",
              "      <td>71.761526</td>\n",
              "      <td>-4.845474</td>\n",
              "      <td>10643.229778</td>\n",
              "      <td>10629.975072</td>\n",
              "      <td>10523.960373</td>\n",
              "      <td>10649.926758</td>\n",
              "      <td>10771.700236</td>\n",
              "    </tr>\n",
              "    <tr>\n",
              "      <th>2019-09-10</th>\n",
              "      <td>10810.030273</td>\n",
              "      <td>10755.639648</td>\n",
              "      <td>10791.950195</td>\n",
              "      <td>10765.459961</td>\n",
              "      <td>0.000000e+00</td>\n",
              "      <td>0</td>\n",
              "      <td>69.292882</td>\n",
              "      <td>-9.485469</td>\n",
              "      <td>10641.328316</td>\n",
              "      <td>10657.072050</td>\n",
              "      <td>10572.473568</td>\n",
              "      <td>10722.676660</td>\n",
              "      <td>10795.856634</td>\n",
              "    </tr>\n",
              "  </tbody>\n",
              "</table>\n",
              "</div>"
            ],
            "text/plain": [
              "                    High           Low  ...           HMA          TEMA\n",
              "Date                                    ...                            \n",
              "2019-09-03  10650.150391  10557.030273  ...  10553.177734  10593.639679\n",
              "2019-09-04  10670.429688  10566.320312  ...  10615.047754  10639.891386\n",
              "2019-09-05  10766.599609  10714.269531  ...  10628.557715  10715.406837\n",
              "2019-09-06  10803.070312  10753.450195  ...  10649.926758  10771.700236\n",
              "2019-09-10  10810.030273  10755.639648  ...  10722.676660  10795.856634\n",
              "\n",
              "[5 rows x 13 columns]"
            ]
          },
          "metadata": {
            "tags": []
          },
          "execution_count": 16
        },
        {
          "output_type": "display_data",
          "data": {
            "image/png": "[encoded data removed]",
            "text/plain": [
              "<Figure size 432x288 with 1 Axes>"
            ]
          },
          "metadata": {
            "tags": []
          }
        }
      ]
    },
    {
      "cell_type": "markdown",
      "metadata": {
        "id": "EbMrqw5jjZaa",
        "colab_type": "text"
      },
      "source": [
        "# CCI"
      ]
    },
    {
      "cell_type": "code",
      "metadata": {
        "id": "WBfeDdkUjZiP",
        "colab_type": "code",
        "outputId": "c27110c8-a620-4a78-cf77-dad40e8ebbc8",
        "colab": {
          "base_uri": "https://localhost:8080/",
          "height": 778
        }
      },
      "source": [
        "df['CCI'] = TA.CCI(ohlcv)\n",
        "print(df['CCI'].describe())\n",
        "sns.distplot(df['CCI'].dropna())\n",
        "df.tail()"
      ],
      "execution_count": 17,
      "outputs": [
        {
          "output_type": "stream",
          "text": [
            "count    5455.000000\n",
            "mean        8.484882\n",
            "std        88.748866\n",
            "min      -243.471940\n",
            "25%       -67.327002\n",
            "50%        21.460332\n",
            "75%        82.039561\n",
            "max       241.112021\n",
            "Name: CCI, dtype: float64\n"
          ],
          "name": "stdout"
        },
        {
          "output_type": "execute_result",
          "data": {
            "text/html": [
              "<div>\n",
              "<style scoped>\n",
              "    .dataframe tbody tr th:only-of-type {\n",
              "        vertical-align: middle;\n",
              "    }\n",
              "\n",
              "    .dataframe tbody tr th {\n",
              "        vertical-align: top;\n",
              "    }\n",
              "\n",
              "    .dataframe thead th {\n",
              "        text-align: right;\n",
              "    }\n",
              "</style>\n",
              "<table border=\"1\" class=\"dataframe\">\n",
              "  <thead>\n",
              "    <tr style=\"text-align: right;\">\n",
              "      <th></th>\n",
              "      <th>High</th>\n",
              "      <th>Low</th>\n",
              "      <th>Open</th>\n",
              "      <th>Close</th>\n",
              "      <th>Volume</th>\n",
              "      <th>triple_barrier_signal</th>\n",
              "      <th>RSI</th>\n",
              "      <th>Williams %R</th>\n",
              "      <th>SMA</th>\n",
              "      <th>EMA</th>\n",
              "      <th>WMA</th>\n",
              "      <th>HMA</th>\n",
              "      <th>TEMA</th>\n",
              "      <th>CCI</th>\n",
              "    </tr>\n",
              "    <tr>\n",
              "      <th>Date</th>\n",
              "      <th></th>\n",
              "      <th></th>\n",
              "      <th></th>\n",
              "      <th></th>\n",
              "      <th></th>\n",
              "      <th></th>\n",
              "      <th></th>\n",
              "      <th></th>\n",
              "      <th></th>\n",
              "      <th></th>\n",
              "      <th></th>\n",
              "      <th></th>\n",
              "      <th></th>\n",
              "      <th></th>\n",
              "    </tr>\n",
              "  </thead>\n",
              "  <tbody>\n",
              "    <tr>\n",
              "      <th>2019-09-03</th>\n",
              "      <td>10650.150391</td>\n",
              "      <td>10557.030273</td>\n",
              "      <td>10629.219727</td>\n",
              "      <td>10558.209961</td>\n",
              "      <td>1.996956e+09</td>\n",
              "      <td>1</td>\n",
              "      <td>54.800802</td>\n",
              "      <td>-25.370532</td>\n",
              "      <td>10644.634694</td>\n",
              "      <td>10524.614781</td>\n",
              "      <td>10479.589062</td>\n",
              "      <td>10553.177734</td>\n",
              "      <td>10593.639679</td>\n",
              "      <td>98.615566</td>\n",
              "    </tr>\n",
              "    <tr>\n",
              "      <th>2019-09-04</th>\n",
              "      <td>10670.429688</td>\n",
              "      <td>10566.320312</td>\n",
              "      <td>10566.320312</td>\n",
              "      <td>10657.309570</td>\n",
              "      <td>2.090578e+09</td>\n",
              "      <td>0</td>\n",
              "      <td>63.617686</td>\n",
              "      <td>-3.726675</td>\n",
              "      <td>10642.344203</td>\n",
              "      <td>10551.153739</td>\n",
              "      <td>10476.856337</td>\n",
              "      <td>10615.047754</td>\n",
              "      <td>10639.891386</td>\n",
              "      <td>118.208425</td>\n",
              "    </tr>\n",
              "    <tr>\n",
              "      <th>2019-09-05</th>\n",
              "      <td>10766.599609</td>\n",
              "      <td>10714.269531</td>\n",
              "      <td>10718.400391</td>\n",
              "      <td>10756.929688</td>\n",
              "      <td>2.805213e+09</td>\n",
              "      <td>0</td>\n",
              "      <td>70.330664</td>\n",
              "      <td>-2.267544</td>\n",
              "      <td>10643.664920</td>\n",
              "      <td>10592.308928</td>\n",
              "      <td>10477.320247</td>\n",
              "      <td>10628.557715</td>\n",
              "      <td>10715.406837</td>\n",
              "      <td>162.484886</td>\n",
              "    </tr>\n",
              "    <tr>\n",
              "      <th>2019-09-06</th>\n",
              "      <td>10803.070312</td>\n",
              "      <td>10753.450195</td>\n",
              "      <td>10783.459961</td>\n",
              "      <td>10780.639648</td>\n",
              "      <td>2.376172e+09</td>\n",
              "      <td>0</td>\n",
              "      <td>71.761526</td>\n",
              "      <td>-4.845474</td>\n",
              "      <td>10643.229778</td>\n",
              "      <td>10629.975072</td>\n",
              "      <td>10523.960373</td>\n",
              "      <td>10649.926758</td>\n",
              "      <td>10771.700236</td>\n",
              "      <td>148.438306</td>\n",
              "    </tr>\n",
              "    <tr>\n",
              "      <th>2019-09-10</th>\n",
              "      <td>10810.030273</td>\n",
              "      <td>10755.639648</td>\n",
              "      <td>10791.950195</td>\n",
              "      <td>10765.459961</td>\n",
              "      <td>0.000000e+00</td>\n",
              "      <td>0</td>\n",
              "      <td>69.292882</td>\n",
              "      <td>-9.485469</td>\n",
              "      <td>10641.328316</td>\n",
              "      <td>10657.072050</td>\n",
              "      <td>10572.473568</td>\n",
              "      <td>10722.676660</td>\n",
              "      <td>10795.856634</td>\n",
              "      <td>124.995002</td>\n",
              "    </tr>\n",
              "  </tbody>\n",
              "</table>\n",
              "</div>"
            ],
            "text/plain": [
              "                    High           Low  ...          TEMA         CCI\n",
              "Date                                    ...                          \n",
              "2019-09-03  10650.150391  10557.030273  ...  10593.639679   98.615566\n",
              "2019-09-04  10670.429688  10566.320312  ...  10639.891386  118.208425\n",
              "2019-09-05  10766.599609  10714.269531  ...  10715.406837  162.484886\n",
              "2019-09-06  10803.070312  10753.450195  ...  10771.700236  148.438306\n",
              "2019-09-10  10810.030273  10755.639648  ...  10795.856634  124.995002\n",
              "\n",
              "[5 rows x 14 columns]"
            ]
          },
          "metadata": {
            "tags": []
          },
          "execution_count": 17
        },
        {
          "output_type": "display_data",
          "data": {
            "image/png": "[encoded data removed]",
            "text/plain": [
              "<Figure size 432x288 with 1 Axes>"
            ]
          },
          "metadata": {
            "tags": []
          }
        }
      ]
    },
    {
      "cell_type": "markdown",
      "metadata": {
        "id": "G8rAJ61cjkJ4",
        "colab_type": "text"
      },
      "source": [
        "# CMO"
      ]
    },
    {
      "cell_type": "code",
      "metadata": {
        "id": "P9EispJmjkj_",
        "colab_type": "code",
        "outputId": "5cb86ad1-58da-4ae1-f182-9c3dc109fe37",
        "colab": {
          "base_uri": "https://localhost:8080/",
          "height": 778
        }
      },
      "source": [
        "df['CMO'] = TA.CMO(ohlcv)\n",
        "print(df['CMO'].describe())\n",
        "sns.distplot(df['CMO'].dropna())\n",
        "df.tail()"
      ],
      "execution_count": 18,
      "outputs": [
        {
          "output_type": "stream",
          "text": [
            "count    5447.000000\n",
            "mean        5.200276\n",
            "std        43.651097\n",
            "min      -100.000000\n",
            "25%       -27.338415\n",
            "50%         6.207943\n",
            "75%        38.442646\n",
            "max       100.000000\n",
            "Name: CMO, dtype: float64\n"
          ],
          "name": "stdout"
        },
        {
          "output_type": "execute_result",
          "data": {
            "text/html": [
              "<div>\n",
              "<style scoped>\n",
              "    .dataframe tbody tr th:only-of-type {\n",
              "        vertical-align: middle;\n",
              "    }\n",
              "\n",
              "    .dataframe tbody tr th {\n",
              "        vertical-align: top;\n",
              "    }\n",
              "\n",
              "    .dataframe thead th {\n",
              "        text-align: right;\n",
              "    }\n",
              "</style>\n",
              "<table border=\"1\" class=\"dataframe\">\n",
              "  <thead>\n",
              "    <tr style=\"text-align: right;\">\n",
              "      <th></th>\n",
              "      <th>High</th>\n",
              "      <th>Low</th>\n",
              "      <th>Open</th>\n",
              "      <th>Close</th>\n",
              "      <th>Volume</th>\n",
              "      <th>triple_barrier_signal</th>\n",
              "      <th>RSI</th>\n",
              "      <th>Williams %R</th>\n",
              "      <th>SMA</th>\n",
              "      <th>EMA</th>\n",
              "      <th>WMA</th>\n",
              "      <th>HMA</th>\n",
              "      <th>TEMA</th>\n",
              "      <th>CCI</th>\n",
              "      <th>CMO</th>\n",
              "    </tr>\n",
              "    <tr>\n",
              "      <th>Date</th>\n",
              "      <th></th>\n",
              "      <th></th>\n",
              "      <th></th>\n",
              "      <th></th>\n",
              "      <th></th>\n",
              "      <th></th>\n",
              "      <th></th>\n",
              "      <th></th>\n",
              "      <th></th>\n",
              "      <th></th>\n",
              "      <th></th>\n",
              "      <th></th>\n",
              "      <th></th>\n",
              "      <th></th>\n",
              "      <th></th>\n",
              "    </tr>\n",
              "  </thead>\n",
              "  <tbody>\n",
              "    <tr>\n",
              "      <th>2019-09-03</th>\n",
              "      <td>10650.150391</td>\n",
              "      <td>10557.030273</td>\n",
              "      <td>10629.219727</td>\n",
              "      <td>10558.209961</td>\n",
              "      <td>1.996956e+09</td>\n",
              "      <td>1</td>\n",
              "      <td>54.800802</td>\n",
              "      <td>-25.370532</td>\n",
              "      <td>10644.634694</td>\n",
              "      <td>10524.614781</td>\n",
              "      <td>10479.589062</td>\n",
              "      <td>10553.177734</td>\n",
              "      <td>10593.639679</td>\n",
              "      <td>98.615566</td>\n",
              "      <td>5.863231</td>\n",
              "    </tr>\n",
              "    <tr>\n",
              "      <th>2019-09-04</th>\n",
              "      <td>10670.429688</td>\n",
              "      <td>10566.320312</td>\n",
              "      <td>10566.320312</td>\n",
              "      <td>10657.309570</td>\n",
              "      <td>2.090578e+09</td>\n",
              "      <td>0</td>\n",
              "      <td>63.617686</td>\n",
              "      <td>-3.726675</td>\n",
              "      <td>10642.344203</td>\n",
              "      <td>10551.153739</td>\n",
              "      <td>10476.856337</td>\n",
              "      <td>10615.047754</td>\n",
              "      <td>10639.891386</td>\n",
              "      <td>118.208425</td>\n",
              "      <td>19.683829</td>\n",
              "    </tr>\n",
              "    <tr>\n",
              "      <th>2019-09-05</th>\n",
              "      <td>10766.599609</td>\n",
              "      <td>10714.269531</td>\n",
              "      <td>10718.400391</td>\n",
              "      <td>10756.929688</td>\n",
              "      <td>2.805213e+09</td>\n",
              "      <td>0</td>\n",
              "      <td>70.330664</td>\n",
              "      <td>-2.267544</td>\n",
              "      <td>10643.664920</td>\n",
              "      <td>10592.308928</td>\n",
              "      <td>10477.320247</td>\n",
              "      <td>10628.557715</td>\n",
              "      <td>10715.406837</td>\n",
              "      <td>162.484886</td>\n",
              "      <td>29.603035</td>\n",
              "    </tr>\n",
              "    <tr>\n",
              "      <th>2019-09-06</th>\n",
              "      <td>10803.070312</td>\n",
              "      <td>10753.450195</td>\n",
              "      <td>10783.459961</td>\n",
              "      <td>10780.639648</td>\n",
              "      <td>2.376172e+09</td>\n",
              "      <td>0</td>\n",
              "      <td>71.761526</td>\n",
              "      <td>-4.845474</td>\n",
              "      <td>10643.229778</td>\n",
              "      <td>10629.975072</td>\n",
              "      <td>10523.960373</td>\n",
              "      <td>10649.926758</td>\n",
              "      <td>10771.700236</td>\n",
              "      <td>148.438306</td>\n",
              "      <td>73.542822</td>\n",
              "    </tr>\n",
              "    <tr>\n",
              "      <th>2019-09-10</th>\n",
              "      <td>10810.030273</td>\n",
              "      <td>10755.639648</td>\n",
              "      <td>10791.950195</td>\n",
              "      <td>10765.459961</td>\n",
              "      <td>0.000000e+00</td>\n",
              "      <td>0</td>\n",
              "      <td>69.292882</td>\n",
              "      <td>-9.485469</td>\n",
              "      <td>10641.328316</td>\n",
              "      <td>10657.072050</td>\n",
              "      <td>10572.473568</td>\n",
              "      <td>10722.676660</td>\n",
              "      <td>10795.856634</td>\n",
              "      <td>124.995002</td>\n",
              "      <td>67.316413</td>\n",
              "    </tr>\n",
              "  </tbody>\n",
              "</table>\n",
              "</div>"
            ],
            "text/plain": [
              "                    High           Low  ...         CCI        CMO\n",
              "Date                                    ...                       \n",
              "2019-09-03  10650.150391  10557.030273  ...   98.615566   5.863231\n",
              "2019-09-04  10670.429688  10566.320312  ...  118.208425  19.683829\n",
              "2019-09-05  10766.599609  10714.269531  ...  162.484886  29.603035\n",
              "2019-09-06  10803.070312  10753.450195  ...  148.438306  73.542822\n",
              "2019-09-10  10810.030273  10755.639648  ...  124.995002  67.316413\n",
              "\n",
              "[5 rows x 15 columns]"
            ]
          },
          "metadata": {
            "tags": []
          },
          "execution_count": 18
        },
        {
          "output_type": "display_data",
          "data": {
            "image/png": "[encoded data removed]",
            "text/plain": [
              "<Figure size 432x288 with 1 Axes>"
            ]
          },
          "metadata": {
            "tags": []
          }
        }
      ]
    },
    {
      "cell_type": "markdown",
      "metadata": {
        "id": "35qI_9gZjsR0",
        "colab_type": "text"
      },
      "source": [
        "# MACD"
      ]
    },
    {
      "cell_type": "code",
      "metadata": {
        "id": "5QG4lBEfjsZb",
        "colab_type": "code",
        "outputId": "3bb9ee6d-4e6d-4ea0-e0bf-c4e0324132df",
        "colab": {
          "base_uri": "https://localhost:8080/",
          "height": 778
        }
      },
      "source": [
        "df['MACD'] = TA.MACD(ohlcv)['MACD'] - TA.MACD(ohlcv)['SIGNAL']\n",
        "print(df['MACD'].describe())\n",
        "sns.distplot(df['MACD'].dropna())\n",
        "df.tail()"
      ],
      "execution_count": 19,
      "outputs": [
        {
          "output_type": "stream",
          "text": [
            "count    5456.000000\n",
            "mean       -0.018831\n",
            "std        33.696847\n",
            "min      -156.387848\n",
            "25%       -19.468605\n",
            "50%         0.738428\n",
            "75%        20.309688\n",
            "max       130.271964\n",
            "Name: MACD, dtype: float64\n"
          ],
          "name": "stdout"
        },
        {
          "output_type": "execute_result",
          "data": {
            "text/html": [
              "<div>\n",
              "<style scoped>\n",
              "    .dataframe tbody tr th:only-of-type {\n",
              "        vertical-align: middle;\n",
              "    }\n",
              "\n",
              "    .dataframe tbody tr th {\n",
              "        vertical-align: top;\n",
              "    }\n",
              "\n",
              "    .dataframe thead th {\n",
              "        text-align: right;\n",
              "    }\n",
              "</style>\n",
              "<table border=\"1\" class=\"dataframe\">\n",
              "  <thead>\n",
              "    <tr style=\"text-align: right;\">\n",
              "      <th></th>\n",
              "      <th>High</th>\n",
              "      <th>Low</th>\n",
              "      <th>Open</th>\n",
              "      <th>Close</th>\n",
              "      <th>Volume</th>\n",
              "      <th>triple_barrier_signal</th>\n",
              "      <th>RSI</th>\n",
              "      <th>Williams %R</th>\n",
              "      <th>SMA</th>\n",
              "      <th>EMA</th>\n",
              "      <th>WMA</th>\n",
              "      <th>HMA</th>\n",
              "      <th>TEMA</th>\n",
              "      <th>CCI</th>\n",
              "      <th>CMO</th>\n",
              "      <th>MACD</th>\n",
              "    </tr>\n",
              "    <tr>\n",
              "      <th>Date</th>\n",
              "      <th></th>\n",
              "      <th></th>\n",
              "      <th></th>\n",
              "      <th></th>\n",
              "      <th></th>\n",
              "      <th></th>\n",
              "      <th></th>\n",
              "      <th></th>\n",
              "      <th></th>\n",
              "      <th></th>\n",
              "      <th></th>\n",
              "      <th></th>\n",
              "      <th></th>\n",
              "      <th></th>\n",
              "      <th></th>\n",
              "      <th></th>\n",
              "    </tr>\n",
              "  </thead>\n",
              "  <tbody>\n",
              "    <tr>\n",
              "      <th>2019-09-03</th>\n",
              "      <td>10650.150391</td>\n",
              "      <td>10557.030273</td>\n",
              "      <td>10629.219727</td>\n",
              "      <td>10558.209961</td>\n",
              "      <td>1.996956e+09</td>\n",
              "      <td>1</td>\n",
              "      <td>54.800802</td>\n",
              "      <td>-25.370532</td>\n",
              "      <td>10644.634694</td>\n",
              "      <td>10524.614781</td>\n",
              "      <td>10479.589062</td>\n",
              "      <td>10553.177734</td>\n",
              "      <td>10593.639679</td>\n",
              "      <td>98.615566</td>\n",
              "      <td>5.863231</td>\n",
              "      <td>27.039413</td>\n",
              "    </tr>\n",
              "    <tr>\n",
              "      <th>2019-09-04</th>\n",
              "      <td>10670.429688</td>\n",
              "      <td>10566.320312</td>\n",
              "      <td>10566.320312</td>\n",
              "      <td>10657.309570</td>\n",
              "      <td>2.090578e+09</td>\n",
              "      <td>0</td>\n",
              "      <td>63.617686</td>\n",
              "      <td>-3.726675</td>\n",
              "      <td>10642.344203</td>\n",
              "      <td>10551.153739</td>\n",
              "      <td>10476.856337</td>\n",
              "      <td>10615.047754</td>\n",
              "      <td>10639.891386</td>\n",
              "      <td>118.208425</td>\n",
              "      <td>19.683829</td>\n",
              "      <td>32.220685</td>\n",
              "    </tr>\n",
              "    <tr>\n",
              "      <th>2019-09-05</th>\n",
              "      <td>10766.599609</td>\n",
              "      <td>10714.269531</td>\n",
              "      <td>10718.400391</td>\n",
              "      <td>10756.929688</td>\n",
              "      <td>2.805213e+09</td>\n",
              "      <td>0</td>\n",
              "      <td>70.330664</td>\n",
              "      <td>-2.267544</td>\n",
              "      <td>10643.664920</td>\n",
              "      <td>10592.308928</td>\n",
              "      <td>10477.320247</td>\n",
              "      <td>10628.557715</td>\n",
              "      <td>10715.406837</td>\n",
              "      <td>162.484886</td>\n",
              "      <td>29.603035</td>\n",
              "      <td>40.576767</td>\n",
              "    </tr>\n",
              "    <tr>\n",
              "      <th>2019-09-06</th>\n",
              "      <td>10803.070312</td>\n",
              "      <td>10753.450195</td>\n",
              "      <td>10783.459961</td>\n",
              "      <td>10780.639648</td>\n",
              "      <td>2.376172e+09</td>\n",
              "      <td>0</td>\n",
              "      <td>71.761526</td>\n",
              "      <td>-4.845474</td>\n",
              "      <td>10643.229778</td>\n",
              "      <td>10629.975072</td>\n",
              "      <td>10523.960373</td>\n",
              "      <td>10649.926758</td>\n",
              "      <td>10771.700236</td>\n",
              "      <td>148.438306</td>\n",
              "      <td>73.542822</td>\n",
              "      <td>45.547828</td>\n",
              "    </tr>\n",
              "    <tr>\n",
              "      <th>2019-09-10</th>\n",
              "      <td>10810.030273</td>\n",
              "      <td>10755.639648</td>\n",
              "      <td>10791.950195</td>\n",
              "      <td>10765.459961</td>\n",
              "      <td>0.000000e+00</td>\n",
              "      <td>0</td>\n",
              "      <td>69.292882</td>\n",
              "      <td>-9.485469</td>\n",
              "      <td>10641.328316</td>\n",
              "      <td>10657.072050</td>\n",
              "      <td>10572.473568</td>\n",
              "      <td>10722.676660</td>\n",
              "      <td>10795.856634</td>\n",
              "      <td>124.995002</td>\n",
              "      <td>67.316413</td>\n",
              "      <td>45.550973</td>\n",
              "    </tr>\n",
              "  </tbody>\n",
              "</table>\n",
              "</div>"
            ],
            "text/plain": [
              "                    High           Low  ...        CMO       MACD\n",
              "Date                                    ...                      \n",
              "2019-09-03  10650.150391  10557.030273  ...   5.863231  27.039413\n",
              "2019-09-04  10670.429688  10566.320312  ...  19.683829  32.220685\n",
              "2019-09-05  10766.599609  10714.269531  ...  29.603035  40.576767\n",
              "2019-09-06  10803.070312  10753.450195  ...  73.542822  45.547828\n",
              "2019-09-10  10810.030273  10755.639648  ...  67.316413  45.550973\n",
              "\n",
              "[5 rows x 16 columns]"
            ]
          },
          "metadata": {
            "tags": []
          },
          "execution_count": 19
        },
        {
          "output_type": "display_data",
          "data": {
            "image/png": "[encoded data removed]",
            "text/plain": [
              "<Figure size 432x288 with 1 Axes>"
            ]
          },
          "metadata": {
            "tags": []
          }
        }
      ]
    },
    {
      "cell_type": "markdown",
      "metadata": {
        "id": "roEAzvV7liUA",
        "colab_type": "text"
      },
      "source": [
        "# PPO"
      ]
    },
    {
      "cell_type": "code",
      "metadata": {
        "id": "ovCLHYPXli73",
        "colab_type": "code",
        "outputId": "d080f9c1-2f67-4aa6-8a06-67c12e6a131f",
        "colab": {
          "base_uri": "https://localhost:8080/",
          "height": 778
        }
      },
      "source": [
        "df['PPO'] = TA.PPO(ohlcv)['PPO'] - TA.PPO(ohlcv)['SIGNAL']\n",
        "print(df['PPO'].describe())\n",
        "sns.distplot(df['PPO'].dropna())\n",
        "df.tail()"
      ],
      "execution_count": 20,
      "outputs": [
        {
          "output_type": "stream",
          "text": [
            "count    5456.000000\n",
            "mean       -0.000188\n",
            "std         0.475675\n",
            "min        -1.925569\n",
            "25%        -0.269126\n",
            "50%         0.001860\n",
            "75%         0.260664\n",
            "max         1.956600\n",
            "Name: PPO, dtype: float64\n"
          ],
          "name": "stdout"
        },
        {
          "output_type": "execute_result",
          "data": {
            "text/html": [
              "<div>\n",
              "<style scoped>\n",
              "    .dataframe tbody tr th:only-of-type {\n",
              "        vertical-align: middle;\n",
              "    }\n",
              "\n",
              "    .dataframe tbody tr th {\n",
              "        vertical-align: top;\n",
              "    }\n",
              "\n",
              "    .dataframe thead th {\n",
              "        text-align: right;\n",
              "    }\n",
              "</style>\n",
              "<table border=\"1\" class=\"dataframe\">\n",
              "  <thead>\n",
              "    <tr style=\"text-align: right;\">\n",
              "      <th></th>\n",
              "      <th>High</th>\n",
              "      <th>Low</th>\n",
              "      <th>Open</th>\n",
              "      <th>Close</th>\n",
              "      <th>Volume</th>\n",
              "      <th>triple_barrier_signal</th>\n",
              "      <th>RSI</th>\n",
              "      <th>Williams %R</th>\n",
              "      <th>SMA</th>\n",
              "      <th>EMA</th>\n",
              "      <th>WMA</th>\n",
              "      <th>HMA</th>\n",
              "      <th>TEMA</th>\n",
              "      <th>CCI</th>\n",
              "      <th>CMO</th>\n",
              "      <th>MACD</th>\n",
              "      <th>PPO</th>\n",
              "    </tr>\n",
              "    <tr>\n",
              "      <th>Date</th>\n",
              "      <th></th>\n",
              "      <th></th>\n",
              "      <th></th>\n",
              "      <th></th>\n",
              "      <th></th>\n",
              "      <th></th>\n",
              "      <th></th>\n",
              "      <th></th>\n",
              "      <th></th>\n",
              "      <th></th>\n",
              "      <th></th>\n",
              "      <th></th>\n",
              "      <th></th>\n",
              "      <th></th>\n",
              "      <th></th>\n",
              "      <th></th>\n",
              "      <th></th>\n",
              "    </tr>\n",
              "  </thead>\n",
              "  <tbody>\n",
              "    <tr>\n",
              "      <th>2019-09-03</th>\n",
              "      <td>10650.150391</td>\n",
              "      <td>10557.030273</td>\n",
              "      <td>10629.219727</td>\n",
              "      <td>10558.209961</td>\n",
              "      <td>1.996956e+09</td>\n",
              "      <td>1</td>\n",
              "      <td>54.800802</td>\n",
              "      <td>-25.370532</td>\n",
              "      <td>10644.634694</td>\n",
              "      <td>10524.614781</td>\n",
              "      <td>10479.589062</td>\n",
              "      <td>10553.177734</td>\n",
              "      <td>10593.639679</td>\n",
              "      <td>98.615566</td>\n",
              "      <td>5.863231</td>\n",
              "      <td>27.039413</td>\n",
              "      <td>0.255744</td>\n",
              "    </tr>\n",
              "    <tr>\n",
              "      <th>2019-09-04</th>\n",
              "      <td>10670.429688</td>\n",
              "      <td>10566.320312</td>\n",
              "      <td>10566.320312</td>\n",
              "      <td>10657.309570</td>\n",
              "      <td>2.090578e+09</td>\n",
              "      <td>0</td>\n",
              "      <td>63.617686</td>\n",
              "      <td>-3.726675</td>\n",
              "      <td>10642.344203</td>\n",
              "      <td>10551.153739</td>\n",
              "      <td>10476.856337</td>\n",
              "      <td>10615.047754</td>\n",
              "      <td>10639.891386</td>\n",
              "      <td>118.208425</td>\n",
              "      <td>19.683829</td>\n",
              "      <td>32.220685</td>\n",
              "      <td>0.305080</td>\n",
              "    </tr>\n",
              "    <tr>\n",
              "      <th>2019-09-05</th>\n",
              "      <td>10766.599609</td>\n",
              "      <td>10714.269531</td>\n",
              "      <td>10718.400391</td>\n",
              "      <td>10756.929688</td>\n",
              "      <td>2.805213e+09</td>\n",
              "      <td>0</td>\n",
              "      <td>70.330664</td>\n",
              "      <td>-2.267544</td>\n",
              "      <td>10643.664920</td>\n",
              "      <td>10592.308928</td>\n",
              "      <td>10477.320247</td>\n",
              "      <td>10628.557715</td>\n",
              "      <td>10715.406837</td>\n",
              "      <td>162.484886</td>\n",
              "      <td>29.603035</td>\n",
              "      <td>40.576767</td>\n",
              "      <td>0.384245</td>\n",
              "    </tr>\n",
              "    <tr>\n",
              "      <th>2019-09-06</th>\n",
              "      <td>10803.070312</td>\n",
              "      <td>10753.450195</td>\n",
              "      <td>10783.459961</td>\n",
              "      <td>10780.639648</td>\n",
              "      <td>2.376172e+09</td>\n",
              "      <td>0</td>\n",
              "      <td>71.761526</td>\n",
              "      <td>-4.845474</td>\n",
              "      <td>10643.229778</td>\n",
              "      <td>10629.975072</td>\n",
              "      <td>10523.960373</td>\n",
              "      <td>10649.926758</td>\n",
              "      <td>10771.700236</td>\n",
              "      <td>148.438306</td>\n",
              "      <td>73.542822</td>\n",
              "      <td>45.547828</td>\n",
              "      <td>0.430984</td>\n",
              "    </tr>\n",
              "    <tr>\n",
              "      <th>2019-09-10</th>\n",
              "      <td>10810.030273</td>\n",
              "      <td>10755.639648</td>\n",
              "      <td>10791.950195</td>\n",
              "      <td>10765.459961</td>\n",
              "      <td>0.000000e+00</td>\n",
              "      <td>0</td>\n",
              "      <td>69.292882</td>\n",
              "      <td>-9.485469</td>\n",
              "      <td>10641.328316</td>\n",
              "      <td>10657.072050</td>\n",
              "      <td>10572.473568</td>\n",
              "      <td>10722.676660</td>\n",
              "      <td>10795.856634</td>\n",
              "      <td>124.995002</td>\n",
              "      <td>67.316413</td>\n",
              "      <td>45.550973</td>\n",
              "      <td>0.430581</td>\n",
              "    </tr>\n",
              "  </tbody>\n",
              "</table>\n",
              "</div>"
            ],
            "text/plain": [
              "                    High           Low  ...       MACD       PPO\n",
              "Date                                    ...                     \n",
              "2019-09-03  10650.150391  10557.030273  ...  27.039413  0.255744\n",
              "2019-09-04  10670.429688  10566.320312  ...  32.220685  0.305080\n",
              "2019-09-05  10766.599609  10714.269531  ...  40.576767  0.384245\n",
              "2019-09-06  10803.070312  10753.450195  ...  45.547828  0.430984\n",
              "2019-09-10  10810.030273  10755.639648  ...  45.550973  0.430581\n",
              "\n",
              "[5 rows x 17 columns]"
            ]
          },
          "metadata": {
            "tags": []
          },
          "execution_count": 20
        },
        {
          "output_type": "display_data",
          "data": {
            "image/png": "[encoded data removed]",
            "text/plain": [
              "<Figure size 432x288 with 1 Axes>"
            ]
          },
          "metadata": {
            "tags": []
          }
        }
      ]
    },
    {
      "cell_type": "markdown",
      "metadata": {
        "id": "5BBE8vaWmdGN",
        "colab_type": "text"
      },
      "source": [
        "# ROC"
      ]
    },
    {
      "cell_type": "code",
      "metadata": {
        "id": "OKI3MqwhmdOj",
        "colab_type": "code",
        "outputId": "c580e424-2bfa-45c0-8673-618f8d7be8ba",
        "colab": {
          "base_uri": "https://localhost:8080/",
          "height": 778
        }
      },
      "source": [
        "df['ROC'] = TA.ROC(ohlcv)\n",
        "print(df['ROC'].describe())\n",
        "sns.distplot(df['ROC'].dropna())\n",
        "df.tail()"
      ],
      "execution_count": 21,
      "outputs": [
        {
          "output_type": "stream",
          "text": [
            "count    5444.000000\n",
            "mean        0.149244\n",
            "std         4.925721\n",
            "min       -21.364491\n",
            "25%        -2.459450\n",
            "50%         0.456017\n",
            "75%         2.885430\n",
            "max        23.364389\n",
            "Name: ROC, dtype: float64\n"
          ],
          "name": "stdout"
        },
        {
          "output_type": "execute_result",
          "data": {
            "text/html": [
              "<div>\n",
              "<style scoped>\n",
              "    .dataframe tbody tr th:only-of-type {\n",
              "        vertical-align: middle;\n",
              "    }\n",
              "\n",
              "    .dataframe tbody tr th {\n",
              "        vertical-align: top;\n",
              "    }\n",
              "\n",
              "    .dataframe thead th {\n",
              "        text-align: right;\n",
              "    }\n",
              "</style>\n",
              "<table border=\"1\" class=\"dataframe\">\n",
              "  <thead>\n",
              "    <tr style=\"text-align: right;\">\n",
              "      <th></th>\n",
              "      <th>High</th>\n",
              "      <th>Low</th>\n",
              "      <th>Open</th>\n",
              "      <th>Close</th>\n",
              "      <th>Volume</th>\n",
              "      <th>triple_barrier_signal</th>\n",
              "      <th>RSI</th>\n",
              "      <th>Williams %R</th>\n",
              "      <th>SMA</th>\n",
              "      <th>EMA</th>\n",
              "      <th>WMA</th>\n",
              "      <th>HMA</th>\n",
              "      <th>TEMA</th>\n",
              "      <th>CCI</th>\n",
              "      <th>CMO</th>\n",
              "      <th>MACD</th>\n",
              "      <th>PPO</th>\n",
              "      <th>ROC</th>\n",
              "    </tr>\n",
              "    <tr>\n",
              "      <th>Date</th>\n",
              "      <th></th>\n",
              "      <th></th>\n",
              "      <th></th>\n",
              "      <th></th>\n",
              "      <th></th>\n",
              "      <th></th>\n",
              "      <th></th>\n",
              "      <th></th>\n",
              "      <th></th>\n",
              "      <th></th>\n",
              "      <th></th>\n",
              "      <th></th>\n",
              "      <th></th>\n",
              "      <th></th>\n",
              "      <th></th>\n",
              "      <th></th>\n",
              "      <th></th>\n",
              "      <th></th>\n",
              "    </tr>\n",
              "  </thead>\n",
              "  <tbody>\n",
              "    <tr>\n",
              "      <th>2019-09-03</th>\n",
              "      <td>10650.150391</td>\n",
              "      <td>10557.030273</td>\n",
              "      <td>10629.219727</td>\n",
              "      <td>10558.209961</td>\n",
              "      <td>1.996956e+09</td>\n",
              "      <td>1</td>\n",
              "      <td>54.800802</td>\n",
              "      <td>-25.370532</td>\n",
              "      <td>10644.634694</td>\n",
              "      <td>10524.614781</td>\n",
              "      <td>10479.589062</td>\n",
              "      <td>10553.177734</td>\n",
              "      <td>10593.639679</td>\n",
              "      <td>98.615566</td>\n",
              "      <td>5.863231</td>\n",
              "      <td>27.039413</td>\n",
              "      <td>0.255744</td>\n",
              "      <td>1.317741</td>\n",
              "    </tr>\n",
              "    <tr>\n",
              "      <th>2019-09-04</th>\n",
              "      <td>10670.429688</td>\n",
              "      <td>10566.320312</td>\n",
              "      <td>10566.320312</td>\n",
              "      <td>10657.309570</td>\n",
              "      <td>2.090578e+09</td>\n",
              "      <td>0</td>\n",
              "      <td>63.617686</td>\n",
              "      <td>-3.726675</td>\n",
              "      <td>10642.344203</td>\n",
              "      <td>10551.153739</td>\n",
              "      <td>10476.856337</td>\n",
              "      <td>10615.047754</td>\n",
              "      <td>10639.891386</td>\n",
              "      <td>118.208425</td>\n",
              "      <td>19.683829</td>\n",
              "      <td>32.220685</td>\n",
              "      <td>0.305080</td>\n",
              "      <td>1.607051</td>\n",
              "    </tr>\n",
              "    <tr>\n",
              "      <th>2019-09-05</th>\n",
              "      <td>10766.599609</td>\n",
              "      <td>10714.269531</td>\n",
              "      <td>10718.400391</td>\n",
              "      <td>10756.929688</td>\n",
              "      <td>2.805213e+09</td>\n",
              "      <td>0</td>\n",
              "      <td>70.330664</td>\n",
              "      <td>-2.267544</td>\n",
              "      <td>10643.664920</td>\n",
              "      <td>10592.308928</td>\n",
              "      <td>10477.320247</td>\n",
              "      <td>10628.557715</td>\n",
              "      <td>10715.406837</td>\n",
              "      <td>162.484886</td>\n",
              "      <td>29.603035</td>\n",
              "      <td>40.576767</td>\n",
              "      <td>0.384245</td>\n",
              "      <td>2.227890</td>\n",
              "    </tr>\n",
              "    <tr>\n",
              "      <th>2019-09-06</th>\n",
              "      <td>10803.070312</td>\n",
              "      <td>10753.450195</td>\n",
              "      <td>10783.459961</td>\n",
              "      <td>10780.639648</td>\n",
              "      <td>2.376172e+09</td>\n",
              "      <td>0</td>\n",
              "      <td>71.761526</td>\n",
              "      <td>-4.845474</td>\n",
              "      <td>10643.229778</td>\n",
              "      <td>10629.975072</td>\n",
              "      <td>10523.960373</td>\n",
              "      <td>10649.926758</td>\n",
              "      <td>10771.700236</td>\n",
              "      <td>148.438306</td>\n",
              "      <td>73.542822</td>\n",
              "      <td>45.547828</td>\n",
              "      <td>0.430984</td>\n",
              "      <td>2.421097</td>\n",
              "    </tr>\n",
              "    <tr>\n",
              "      <th>2019-09-10</th>\n",
              "      <td>10810.030273</td>\n",
              "      <td>10755.639648</td>\n",
              "      <td>10791.950195</td>\n",
              "      <td>10765.459961</td>\n",
              "      <td>0.000000e+00</td>\n",
              "      <td>0</td>\n",
              "      <td>69.292882</td>\n",
              "      <td>-9.485469</td>\n",
              "      <td>10641.328316</td>\n",
              "      <td>10657.072050</td>\n",
              "      <td>10572.473568</td>\n",
              "      <td>10722.676660</td>\n",
              "      <td>10795.856634</td>\n",
              "      <td>124.995002</td>\n",
              "      <td>67.316413</td>\n",
              "      <td>45.550973</td>\n",
              "      <td>0.430581</td>\n",
              "      <td>2.238220</td>\n",
              "    </tr>\n",
              "  </tbody>\n",
              "</table>\n",
              "</div>"
            ],
            "text/plain": [
              "                    High           Low  ...       PPO       ROC\n",
              "Date                                    ...                    \n",
              "2019-09-03  10650.150391  10557.030273  ...  0.255744  1.317741\n",
              "2019-09-04  10670.429688  10566.320312  ...  0.305080  1.607051\n",
              "2019-09-05  10766.599609  10714.269531  ...  0.384245  2.227890\n",
              "2019-09-06  10803.070312  10753.450195  ...  0.430984  2.421097\n",
              "2019-09-10  10810.030273  10755.639648  ...  0.430581  2.238220\n",
              "\n",
              "[5 rows x 18 columns]"
            ]
          },
          "metadata": {
            "tags": []
          },
          "execution_count": 21
        },
        {
          "output_type": "display_data",
          "data": {
            "image/png": "[encoded data removed]",
            "text/plain": [
              "<Figure size 432x288 with 1 Axes>"
            ]
          },
          "metadata": {
            "tags": []
          }
        }
      ]
    },
    {
      "cell_type": "markdown",
      "metadata": {
        "id": "b9LTKsyvmuSd",
        "colab_type": "text"
      },
      "source": [
        "# CMFI"
      ]
    },
    {
      "cell_type": "code",
      "metadata": {
        "id": "somnlSTOmvjJ",
        "colab_type": "code",
        "outputId": "dc85190a-3701-48e4-cd66-16ddc0dfdeb4",
        "colab": {
          "base_uri": "https://localhost:8080/",
          "height": 785
        }
      },
      "source": [
        "df['CFI'] = TA.CFI(ohlcv)\n",
        "print(df['CFI'].describe())\n",
        "sns.distplot(df['CFI'].dropna())\n",
        "df.tail()"
      ],
      "execution_count": 22,
      "outputs": [
        {
          "output_type": "stream",
          "text": [
            "count    5.447000e+03\n",
            "mean     1.195595e+11\n",
            "std      5.321260e+11\n",
            "min      0.000000e+00\n",
            "25%      9.776971e+08\n",
            "50%      2.783056e+10\n",
            "75%      4.002802e+10\n",
            "max      4.159094e+12\n",
            "Name: CFI, dtype: float64\n"
          ],
          "name": "stdout"
        },
        {
          "output_type": "execute_result",
          "data": {
            "text/html": [
              "<div>\n",
              "<style scoped>\n",
              "    .dataframe tbody tr th:only-of-type {\n",
              "        vertical-align: middle;\n",
              "    }\n",
              "\n",
              "    .dataframe tbody tr th {\n",
              "        vertical-align: top;\n",
              "    }\n",
              "\n",
              "    .dataframe thead th {\n",
              "        text-align: right;\n",
              "    }\n",
              "</style>\n",
              "<table border=\"1\" class=\"dataframe\">\n",
              "  <thead>\n",
              "    <tr style=\"text-align: right;\">\n",
              "      <th></th>\n",
              "      <th>High</th>\n",
              "      <th>Low</th>\n",
              "      <th>Open</th>\n",
              "      <th>Close</th>\n",
              "      <th>Volume</th>\n",
              "      <th>triple_barrier_signal</th>\n",
              "      <th>RSI</th>\n",
              "      <th>Williams %R</th>\n",
              "      <th>SMA</th>\n",
              "      <th>EMA</th>\n",
              "      <th>WMA</th>\n",
              "      <th>HMA</th>\n",
              "      <th>TEMA</th>\n",
              "      <th>CCI</th>\n",
              "      <th>CMO</th>\n",
              "      <th>MACD</th>\n",
              "      <th>PPO</th>\n",
              "      <th>ROC</th>\n",
              "      <th>CFI</th>\n",
              "    </tr>\n",
              "    <tr>\n",
              "      <th>Date</th>\n",
              "      <th></th>\n",
              "      <th></th>\n",
              "      <th></th>\n",
              "      <th></th>\n",
              "      <th></th>\n",
              "      <th></th>\n",
              "      <th></th>\n",
              "      <th></th>\n",
              "      <th></th>\n",
              "      <th></th>\n",
              "      <th></th>\n",
              "      <th></th>\n",
              "      <th></th>\n",
              "      <th></th>\n",
              "      <th></th>\n",
              "      <th></th>\n",
              "      <th></th>\n",
              "      <th></th>\n",
              "      <th></th>\n",
              "    </tr>\n",
              "  </thead>\n",
              "  <tbody>\n",
              "    <tr>\n",
              "      <th>2019-09-03</th>\n",
              "      <td>10650.150391</td>\n",
              "      <td>10557.030273</td>\n",
              "      <td>10629.219727</td>\n",
              "      <td>10558.209961</td>\n",
              "      <td>1.996956e+09</td>\n",
              "      <td>1</td>\n",
              "      <td>54.800802</td>\n",
              "      <td>-25.370532</td>\n",
              "      <td>10644.634694</td>\n",
              "      <td>10524.614781</td>\n",
              "      <td>10479.589062</td>\n",
              "      <td>10553.177734</td>\n",
              "      <td>10593.639679</td>\n",
              "      <td>98.615566</td>\n",
              "      <td>5.863231</td>\n",
              "      <td>27.039413</td>\n",
              "      <td>0.255744</td>\n",
              "      <td>1.317741</td>\n",
              "      <td>3.124431e+12</td>\n",
              "    </tr>\n",
              "    <tr>\n",
              "      <th>2019-09-04</th>\n",
              "      <td>10670.429688</td>\n",
              "      <td>10566.320312</td>\n",
              "      <td>10566.320312</td>\n",
              "      <td>10657.309570</td>\n",
              "      <td>2.090578e+09</td>\n",
              "      <td>0</td>\n",
              "      <td>63.617686</td>\n",
              "      <td>-3.726675</td>\n",
              "      <td>10642.344203</td>\n",
              "      <td>10551.153739</td>\n",
              "      <td>10476.856337</td>\n",
              "      <td>10615.047754</td>\n",
              "      <td>10639.891386</td>\n",
              "      <td>118.208425</td>\n",
              "      <td>19.683829</td>\n",
              "      <td>32.220685</td>\n",
              "      <td>0.305080</td>\n",
              "      <td>1.607051</td>\n",
              "      <td>3.188413e+12</td>\n",
              "    </tr>\n",
              "    <tr>\n",
              "      <th>2019-09-05</th>\n",
              "      <td>10766.599609</td>\n",
              "      <td>10714.269531</td>\n",
              "      <td>10718.400391</td>\n",
              "      <td>10756.929688</td>\n",
              "      <td>2.805213e+09</td>\n",
              "      <td>0</td>\n",
              "      <td>70.330664</td>\n",
              "      <td>-2.267544</td>\n",
              "      <td>10643.664920</td>\n",
              "      <td>10592.308928</td>\n",
              "      <td>10477.320247</td>\n",
              "      <td>10628.557715</td>\n",
              "      <td>10715.406837</td>\n",
              "      <td>162.484886</td>\n",
              "      <td>29.603035</td>\n",
              "      <td>40.576767</td>\n",
              "      <td>0.384245</td>\n",
              "      <td>2.227890</td>\n",
              "      <td>3.291572e+12</td>\n",
              "    </tr>\n",
              "    <tr>\n",
              "      <th>2019-09-06</th>\n",
              "      <td>10803.070312</td>\n",
              "      <td>10753.450195</td>\n",
              "      <td>10783.459961</td>\n",
              "      <td>10780.639648</td>\n",
              "      <td>2.376172e+09</td>\n",
              "      <td>0</td>\n",
              "      <td>71.761526</td>\n",
              "      <td>-4.845474</td>\n",
              "      <td>10643.229778</td>\n",
              "      <td>10629.975072</td>\n",
              "      <td>10523.960373</td>\n",
              "      <td>10649.926758</td>\n",
              "      <td>10771.700236</td>\n",
              "      <td>148.438306</td>\n",
              "      <td>73.542822</td>\n",
              "      <td>45.547828</td>\n",
              "      <td>0.430984</td>\n",
              "      <td>2.421097</td>\n",
              "      <td>3.386218e+12</td>\n",
              "    </tr>\n",
              "    <tr>\n",
              "      <th>2019-09-10</th>\n",
              "      <td>10810.030273</td>\n",
              "      <td>10755.639648</td>\n",
              "      <td>10791.950195</td>\n",
              "      <td>10765.459961</td>\n",
              "      <td>0.000000e+00</td>\n",
              "      <td>0</td>\n",
              "      <td>69.292882</td>\n",
              "      <td>-9.485469</td>\n",
              "      <td>10641.328316</td>\n",
              "      <td>10657.072050</td>\n",
              "      <td>10572.473568</td>\n",
              "      <td>10722.676660</td>\n",
              "      <td>10795.856634</td>\n",
              "      <td>124.995002</td>\n",
              "      <td>67.316413</td>\n",
              "      <td>45.550973</td>\n",
              "      <td>0.430581</td>\n",
              "      <td>2.238220</td>\n",
              "      <td>3.463656e+12</td>\n",
              "    </tr>\n",
              "  </tbody>\n",
              "</table>\n",
              "</div>"
            ],
            "text/plain": [
              "                    High           Low  ...       ROC           CFI\n",
              "Date                                    ...                        \n",
              "2019-09-03  10650.150391  10557.030273  ...  1.317741  3.124431e+12\n",
              "2019-09-04  10670.429688  10566.320312  ...  1.607051  3.188413e+12\n",
              "2019-09-05  10766.599609  10714.269531  ...  2.227890  3.291572e+12\n",
              "2019-09-06  10803.070312  10753.450195  ...  2.421097  3.386218e+12\n",
              "2019-09-10  10810.030273  10755.639648  ...  2.238220  3.463656e+12\n",
              "\n",
              "[5 rows x 19 columns]"
            ]
          },
          "metadata": {
            "tags": []
          },
          "execution_count": 22
        },
        {
          "output_type": "display_data",
          "data": {
            "image/png": "[encoded data removed]",
            "text/plain": [
              "<Figure size 432x288 with 1 Axes>"
            ]
          },
          "metadata": {
            "tags": []
          }
        }
      ]
    },
    {
      "cell_type": "markdown",
      "metadata": {
        "id": "8WydSl0doUYk",
        "colab_type": "text"
      },
      "source": [
        "# DMI"
      ]
    },
    {
      "cell_type": "code",
      "metadata": {
        "id": "xRTnC6DboU05",
        "colab_type": "code",
        "outputId": "1d1e56fa-bbd7-440c-88c6-5c89928e15ba",
        "colab": {
          "base_uri": "https://localhost:8080/",
          "height": 1000
        }
      },
      "source": [
        "df['DMI'] = TA.DMI(ohlcv)['DI+'] - TA.DMI(ohlcv)['DI-']\n",
        "print(df['DMI'].describe())\n",
        "sns.distplot(df['DMI'].dropna())\n",
        "df.tail()"
      ],
      "execution_count": 23,
      "outputs": [
        {
          "output_type": "stream",
          "text": [
            "/usr/local/lib/python3.6/dist-packages/finta/finta.py:792: SettingWithCopyWarning: \n",
            "A value is trying to be set on a copy of a slice from a DataFrame.\n",
            "Try using .loc[row_indexer,col_indexer] = value instead\n",
            "\n",
            "See the caveats in the documentation: http://pandas.pydata.org/pandas-docs/stable/indexing.html#indexing-view-versus-copy\n",
            "  ohlc[\"up_move\"] = ohlc[\"high\"].diff()\n",
            "/usr/local/lib/python3.6/dist-packages/finta/finta.py:793: SettingWithCopyWarning: \n",
            "A value is trying to be set on a copy of a slice from a DataFrame.\n",
            "Try using .loc[row_indexer,col_indexer] = value instead\n",
            "\n",
            "See the caveats in the documentation: http://pandas.pydata.org/pandas-docs/stable/indexing.html#indexing-view-versus-copy\n",
            "  ohlc[\"down_move\"] = -ohlc[\"low\"].diff()\n",
            "/usr/local/lib/python3.6/dist-packages/finta/finta.py:809: SettingWithCopyWarning: \n",
            "A value is trying to be set on a copy of a slice from a DataFrame.\n",
            "Try using .loc[row_indexer,col_indexer] = value instead\n",
            "\n",
            "See the caveats in the documentation: http://pandas.pydata.org/pandas-docs/stable/indexing.html#indexing-view-versus-copy\n",
            "  ohlc[\"DMp\"] = DMp\n",
            "/usr/local/lib/python3.6/dist-packages/finta/finta.py:810: SettingWithCopyWarning: \n",
            "A value is trying to be set on a copy of a slice from a DataFrame.\n",
            "Try using .loc[row_indexer,col_indexer] = value instead\n",
            "\n",
            "See the caveats in the documentation: http://pandas.pydata.org/pandas-docs/stable/indexing.html#indexing-view-versus-copy\n",
            "  ohlc[\"DMm\"] = DMm\n"
          ],
          "name": "stderr"
        },
        {
          "output_type": "stream",
          "text": [
            "count    5373.000000\n",
            "mean       -1.096132\n",
            "std        24.371528\n",
            "min      -145.864342\n",
            "25%       -16.112390\n",
            "50%         1.246209\n",
            "75%        15.350640\n",
            "max       140.069929\n",
            "Name: DMI, dtype: float64\n"
          ],
          "name": "stdout"
        },
        {
          "output_type": "execute_result",
          "data": {
            "text/html": [
              "<div>\n",
              "<style scoped>\n",
              "    .dataframe tbody tr th:only-of-type {\n",
              "        vertical-align: middle;\n",
              "    }\n",
              "\n",
              "    .dataframe tbody tr th {\n",
              "        vertical-align: top;\n",
              "    }\n",
              "\n",
              "    .dataframe thead th {\n",
              "        text-align: right;\n",
              "    }\n",
              "</style>\n",
              "<table border=\"1\" class=\"dataframe\">\n",
              "  <thead>\n",
              "    <tr style=\"text-align: right;\">\n",
              "      <th></th>\n",
              "      <th>High</th>\n",
              "      <th>Low</th>\n",
              "      <th>Open</th>\n",
              "      <th>Close</th>\n",
              "      <th>Volume</th>\n",
              "      <th>triple_barrier_signal</th>\n",
              "      <th>RSI</th>\n",
              "      <th>Williams %R</th>\n",
              "      <th>SMA</th>\n",
              "      <th>EMA</th>\n",
              "      <th>WMA</th>\n",
              "      <th>HMA</th>\n",
              "      <th>TEMA</th>\n",
              "      <th>CCI</th>\n",
              "      <th>CMO</th>\n",
              "      <th>MACD</th>\n",
              "      <th>PPO</th>\n",
              "      <th>ROC</th>\n",
              "      <th>CFI</th>\n",
              "      <th>DMI</th>\n",
              "    </tr>\n",
              "    <tr>\n",
              "      <th>Date</th>\n",
              "      <th></th>\n",
              "      <th></th>\n",
              "      <th></th>\n",
              "      <th></th>\n",
              "      <th></th>\n",
              "      <th></th>\n",
              "      <th></th>\n",
              "      <th></th>\n",
              "      <th></th>\n",
              "      <th></th>\n",
              "      <th></th>\n",
              "      <th></th>\n",
              "      <th></th>\n",
              "      <th></th>\n",
              "      <th></th>\n",
              "      <th></th>\n",
              "      <th></th>\n",
              "      <th></th>\n",
              "      <th></th>\n",
              "      <th></th>\n",
              "    </tr>\n",
              "  </thead>\n",
              "  <tbody>\n",
              "    <tr>\n",
              "      <th>2019-09-03</th>\n",
              "      <td>10650.150391</td>\n",
              "      <td>10557.030273</td>\n",
              "      <td>10629.219727</td>\n",
              "      <td>10558.209961</td>\n",
              "      <td>1.996956e+09</td>\n",
              "      <td>1</td>\n",
              "      <td>54.800802</td>\n",
              "      <td>-25.370532</td>\n",
              "      <td>10644.634694</td>\n",
              "      <td>10524.614781</td>\n",
              "      <td>10479.589062</td>\n",
              "      <td>10553.177734</td>\n",
              "      <td>10593.639679</td>\n",
              "      <td>98.615566</td>\n",
              "      <td>5.863231</td>\n",
              "      <td>27.039413</td>\n",
              "      <td>0.255744</td>\n",
              "      <td>1.317741</td>\n",
              "      <td>3.124431e+12</td>\n",
              "      <td>5.508095</td>\n",
              "    </tr>\n",
              "    <tr>\n",
              "      <th>2019-09-04</th>\n",
              "      <td>10670.429688</td>\n",
              "      <td>10566.320312</td>\n",
              "      <td>10566.320312</td>\n",
              "      <td>10657.309570</td>\n",
              "      <td>2.090578e+09</td>\n",
              "      <td>0</td>\n",
              "      <td>63.617686</td>\n",
              "      <td>-3.726675</td>\n",
              "      <td>10642.344203</td>\n",
              "      <td>10551.153739</td>\n",
              "      <td>10476.856337</td>\n",
              "      <td>10615.047754</td>\n",
              "      <td>10639.891386</td>\n",
              "      <td>118.208425</td>\n",
              "      <td>19.683829</td>\n",
              "      <td>32.220685</td>\n",
              "      <td>0.305080</td>\n",
              "      <td>1.607051</td>\n",
              "      <td>3.188413e+12</td>\n",
              "      <td>7.480887</td>\n",
              "    </tr>\n",
              "    <tr>\n",
              "      <th>2019-09-05</th>\n",
              "      <td>10766.599609</td>\n",
              "      <td>10714.269531</td>\n",
              "      <td>10718.400391</td>\n",
              "      <td>10756.929688</td>\n",
              "      <td>2.805213e+09</td>\n",
              "      <td>0</td>\n",
              "      <td>70.330664</td>\n",
              "      <td>-2.267544</td>\n",
              "      <td>10643.664920</td>\n",
              "      <td>10592.308928</td>\n",
              "      <td>10477.320247</td>\n",
              "      <td>10628.557715</td>\n",
              "      <td>10715.406837</td>\n",
              "      <td>162.484886</td>\n",
              "      <td>29.603035</td>\n",
              "      <td>40.576767</td>\n",
              "      <td>0.384245</td>\n",
              "      <td>2.227890</td>\n",
              "      <td>3.291572e+12</td>\n",
              "      <td>19.338268</td>\n",
              "    </tr>\n",
              "    <tr>\n",
              "      <th>2019-09-06</th>\n",
              "      <td>10803.070312</td>\n",
              "      <td>10753.450195</td>\n",
              "      <td>10783.459961</td>\n",
              "      <td>10780.639648</td>\n",
              "      <td>2.376172e+09</td>\n",
              "      <td>0</td>\n",
              "      <td>71.761526</td>\n",
              "      <td>-4.845474</td>\n",
              "      <td>10643.229778</td>\n",
              "      <td>10629.975072</td>\n",
              "      <td>10523.960373</td>\n",
              "      <td>10649.926758</td>\n",
              "      <td>10771.700236</td>\n",
              "      <td>148.438306</td>\n",
              "      <td>73.542822</td>\n",
              "      <td>45.547828</td>\n",
              "      <td>0.430984</td>\n",
              "      <td>2.421097</td>\n",
              "      <td>3.386218e+12</td>\n",
              "      <td>21.718306</td>\n",
              "    </tr>\n",
              "    <tr>\n",
              "      <th>2019-09-10</th>\n",
              "      <td>10810.030273</td>\n",
              "      <td>10755.639648</td>\n",
              "      <td>10791.950195</td>\n",
              "      <td>10765.459961</td>\n",
              "      <td>0.000000e+00</td>\n",
              "      <td>0</td>\n",
              "      <td>69.292882</td>\n",
              "      <td>-9.485469</td>\n",
              "      <td>10641.328316</td>\n",
              "      <td>10657.072050</td>\n",
              "      <td>10572.473568</td>\n",
              "      <td>10722.676660</td>\n",
              "      <td>10795.856634</td>\n",
              "      <td>124.995002</td>\n",
              "      <td>67.316413</td>\n",
              "      <td>45.550973</td>\n",
              "      <td>0.430581</td>\n",
              "      <td>2.238220</td>\n",
              "      <td>3.463656e+12</td>\n",
              "      <td>19.781706</td>\n",
              "    </tr>\n",
              "  </tbody>\n",
              "</table>\n",
              "</div>"
            ],
            "text/plain": [
              "                    High           Low  ...           CFI        DMI\n",
              "Date                                    ...                         \n",
              "2019-09-03  10650.150391  10557.030273  ...  3.124431e+12   5.508095\n",
              "2019-09-04  10670.429688  10566.320312  ...  3.188413e+12   7.480887\n",
              "2019-09-05  10766.599609  10714.269531  ...  3.291572e+12  19.338268\n",
              "2019-09-06  10803.070312  10753.450195  ...  3.386218e+12  21.718306\n",
              "2019-09-10  10810.030273  10755.639648  ...  3.463656e+12  19.781706\n",
              "\n",
              "[5 rows x 20 columns]"
            ]
          },
          "metadata": {
            "tags": []
          },
          "execution_count": 23
        },
        {
          "output_type": "display_data",
          "data": {
            "image/png": "[encoded data removed]",
            "text/plain": [
              "<Figure size 432x288 with 1 Axes>"
            ]
          },
          "metadata": {
            "tags": []
          }
        }
      ]
    },
    {
      "cell_type": "markdown",
      "metadata": {
        "id": "96c_FgXOo98u",
        "colab_type": "text"
      },
      "source": [
        "# SAR"
      ]
    },
    {
      "cell_type": "code",
      "metadata": {
        "id": "eRPVEtrmo-bi",
        "colab_type": "code",
        "outputId": "dea7ce39-f85d-407f-bcac-523610785630",
        "colab": {
          "base_uri": "https://localhost:8080/",
          "height": 778
        }
      },
      "source": [
        "df['SAR'] = TA.SAR(ohlcv)\n",
        "print(df['SAR'].describe())\n",
        "sns.distplot(df['SAR'].dropna())\n",
        "df.tail()"
      ],
      "execution_count": 24,
      "outputs": [
        {
          "output_type": "stream",
          "text": [
            "count     5456.000000\n",
            "mean      7640.856968\n",
            "std       1744.817259\n",
            "min       3411.679932\n",
            "25%       6247.600230\n",
            "50%       7782.201813\n",
            "75%       8871.900349\n",
            "max      11270.179688\n",
            "Name: SAR, dtype: float64\n"
          ],
          "name": "stdout"
        },
        {
          "output_type": "execute_result",
          "data": {
            "text/html": [
              "<div>\n",
              "<style scoped>\n",
              "    .dataframe tbody tr th:only-of-type {\n",
              "        vertical-align: middle;\n",
              "    }\n",
              "\n",
              "    .dataframe tbody tr th {\n",
              "        vertical-align: top;\n",
              "    }\n",
              "\n",
              "    .dataframe thead th {\n",
              "        text-align: right;\n",
              "    }\n",
              "</style>\n",
              "<table border=\"1\" class=\"dataframe\">\n",
              "  <thead>\n",
              "    <tr style=\"text-align: right;\">\n",
              "      <th></th>\n",
              "      <th>High</th>\n",
              "      <th>Low</th>\n",
              "      <th>Open</th>\n",
              "      <th>Close</th>\n",
              "      <th>Volume</th>\n",
              "      <th>triple_barrier_signal</th>\n",
              "      <th>RSI</th>\n",
              "      <th>Williams %R</th>\n",
              "      <th>SMA</th>\n",
              "      <th>EMA</th>\n",
              "      <th>WMA</th>\n",
              "      <th>HMA</th>\n",
              "      <th>TEMA</th>\n",
              "      <th>CCI</th>\n",
              "      <th>CMO</th>\n",
              "      <th>MACD</th>\n",
              "      <th>PPO</th>\n",
              "      <th>ROC</th>\n",
              "      <th>CFI</th>\n",
              "      <th>DMI</th>\n",
              "      <th>SAR</th>\n",
              "    </tr>\n",
              "    <tr>\n",
              "      <th>Date</th>\n",
              "      <th></th>\n",
              "      <th></th>\n",
              "      <th></th>\n",
              "      <th></th>\n",
              "      <th></th>\n",
              "      <th></th>\n",
              "      <th></th>\n",
              "      <th></th>\n",
              "      <th></th>\n",
              "      <th></th>\n",
              "      <th></th>\n",
              "      <th></th>\n",
              "      <th></th>\n",
              "      <th></th>\n",
              "      <th></th>\n",
              "      <th></th>\n",
              "      <th></th>\n",
              "      <th></th>\n",
              "      <th></th>\n",
              "      <th></th>\n",
              "      <th></th>\n",
              "    </tr>\n",
              "  </thead>\n",
              "  <tbody>\n",
              "    <tr>\n",
              "      <th>2019-09-03</th>\n",
              "      <td>10650.150391</td>\n",
              "      <td>10557.030273</td>\n",
              "      <td>10629.219727</td>\n",
              "      <td>10558.209961</td>\n",
              "      <td>1.996956e+09</td>\n",
              "      <td>1</td>\n",
              "      <td>54.800802</td>\n",
              "      <td>-25.370532</td>\n",
              "      <td>10644.634694</td>\n",
              "      <td>10524.614781</td>\n",
              "      <td>10479.589062</td>\n",
              "      <td>10553.177734</td>\n",
              "      <td>10593.639679</td>\n",
              "      <td>98.615566</td>\n",
              "      <td>5.863231</td>\n",
              "      <td>27.039413</td>\n",
              "      <td>0.255744</td>\n",
              "      <td>1.317741</td>\n",
              "      <td>3.124431e+12</td>\n",
              "      <td>5.508095</td>\n",
              "      <td>10372.320970</td>\n",
              "    </tr>\n",
              "    <tr>\n",
              "      <th>2019-09-04</th>\n",
              "      <td>10670.429688</td>\n",
              "      <td>10566.320312</td>\n",
              "      <td>10566.320312</td>\n",
              "      <td>10657.309570</td>\n",
              "      <td>2.090578e+09</td>\n",
              "      <td>0</td>\n",
              "      <td>63.617686</td>\n",
              "      <td>-3.726675</td>\n",
              "      <td>10642.344203</td>\n",
              "      <td>10551.153739</td>\n",
              "      <td>10476.856337</td>\n",
              "      <td>10615.047754</td>\n",
              "      <td>10639.891386</td>\n",
              "      <td>118.208425</td>\n",
              "      <td>19.683829</td>\n",
              "      <td>32.220685</td>\n",
              "      <td>0.305080</td>\n",
              "      <td>1.607051</td>\n",
              "      <td>3.188413e+12</td>\n",
              "      <td>7.480887</td>\n",
              "      <td>10405.660500</td>\n",
              "    </tr>\n",
              "    <tr>\n",
              "      <th>2019-09-05</th>\n",
              "      <td>10766.599609</td>\n",
              "      <td>10714.269531</td>\n",
              "      <td>10718.400391</td>\n",
              "      <td>10756.929688</td>\n",
              "      <td>2.805213e+09</td>\n",
              "      <td>0</td>\n",
              "      <td>70.330664</td>\n",
              "      <td>-2.267544</td>\n",
              "      <td>10643.664920</td>\n",
              "      <td>10592.308928</td>\n",
              "      <td>10477.320247</td>\n",
              "      <td>10628.557715</td>\n",
              "      <td>10715.406837</td>\n",
              "      <td>162.484886</td>\n",
              "      <td>29.603035</td>\n",
              "      <td>40.576767</td>\n",
              "      <td>0.384245</td>\n",
              "      <td>2.227890</td>\n",
              "      <td>3.291572e+12</td>\n",
              "      <td>19.338268</td>\n",
              "      <td>10442.728186</td>\n",
              "    </tr>\n",
              "    <tr>\n",
              "      <th>2019-09-06</th>\n",
              "      <td>10803.070312</td>\n",
              "      <td>10753.450195</td>\n",
              "      <td>10783.459961</td>\n",
              "      <td>10780.639648</td>\n",
              "      <td>2.376172e+09</td>\n",
              "      <td>0</td>\n",
              "      <td>71.761526</td>\n",
              "      <td>-4.845474</td>\n",
              "      <td>10643.229778</td>\n",
              "      <td>10629.975072</td>\n",
              "      <td>10523.960373</td>\n",
              "      <td>10649.926758</td>\n",
              "      <td>10771.700236</td>\n",
              "      <td>148.438306</td>\n",
              "      <td>73.542822</td>\n",
              "      <td>45.547828</td>\n",
              "      <td>0.430984</td>\n",
              "      <td>2.421097</td>\n",
              "      <td>3.386218e+12</td>\n",
              "      <td>21.718306</td>\n",
              "      <td>10494.547614</td>\n",
              "    </tr>\n",
              "    <tr>\n",
              "      <th>2019-09-10</th>\n",
              "      <td>10810.030273</td>\n",
              "      <td>10755.639648</td>\n",
              "      <td>10791.950195</td>\n",
              "      <td>10765.459961</td>\n",
              "      <td>0.000000e+00</td>\n",
              "      <td>0</td>\n",
              "      <td>69.292882</td>\n",
              "      <td>-9.485469</td>\n",
              "      <td>10641.328316</td>\n",
              "      <td>10657.072050</td>\n",
              "      <td>10572.473568</td>\n",
              "      <td>10722.676660</td>\n",
              "      <td>10795.856634</td>\n",
              "      <td>124.995002</td>\n",
              "      <td>67.316413</td>\n",
              "      <td>45.550973</td>\n",
              "      <td>0.430581</td>\n",
              "      <td>2.238220</td>\n",
              "      <td>3.463656e+12</td>\n",
              "      <td>19.781706</td>\n",
              "      <td>10550.081700</td>\n",
              "    </tr>\n",
              "  </tbody>\n",
              "</table>\n",
              "</div>"
            ],
            "text/plain": [
              "                    High           Low  ...        DMI           SAR\n",
              "Date                                    ...                         \n",
              "2019-09-03  10650.150391  10557.030273  ...   5.508095  10372.320970\n",
              "2019-09-04  10670.429688  10566.320312  ...   7.480887  10405.660500\n",
              "2019-09-05  10766.599609  10714.269531  ...  19.338268  10442.728186\n",
              "2019-09-06  10803.070312  10753.450195  ...  21.718306  10494.547614\n",
              "2019-09-10  10810.030273  10755.639648  ...  19.781706  10550.081700\n",
              "\n",
              "[5 rows x 21 columns]"
            ]
          },
          "metadata": {
            "tags": []
          },
          "execution_count": 24
        },
        {
          "output_type": "display_data",
          "data": {
            "image/png": "[encoded data removed]",
            "text/plain": [
              "<Figure size 432x288 with 1 Axes>"
            ]
          },
          "metadata": {
            "tags": []
          }
        }
      ]
    },
    {
      "cell_type": "markdown",
      "metadata": {
        "id": "MoqrDEejwYOV",
        "colab_type": "text"
      },
      "source": [
        "# columns選取"
      ]
    },
    {
      "cell_type": "code",
      "metadata": {
        "id": "qrGg0ojRKuE1",
        "colab_type": "code",
        "outputId": "d35905e2-6afa-40f7-ab6d-7bf4f6e1a5ed",
        "colab": {
          "base_uri": "https://localhost:8080/",
          "height": 388
        }
      },
      "source": [
        "print(df.shape)\n",
        "df = df.dropna(axis=0)#刪除有缺失的row,會缺失主要因為用時間rolling計算技術指標導致,正常的\n",
        "features = df.columns[-15:].tolist() #取15個剛剛建立的技術指標當特徵\n",
        "y_name = 'triple_barrier_signal' #當作labels\n",
        "df = df[features+[y_name]]\n",
        "print(df.shape)\n",
        "df.tail()"
      ],
      "execution_count": 25,
      "outputs": [
        {
          "output_type": "stream",
          "text": [
            "(5456, 21)\n",
            "(5373, 16)\n"
          ],
          "name": "stdout"
        },
        {
          "output_type": "execute_result",
          "data": {
            "text/html": [
              "<div>\n",
              "<style scoped>\n",
              "    .dataframe tbody tr th:only-of-type {\n",
              "        vertical-align: middle;\n",
              "    }\n",
              "\n",
              "    .dataframe tbody tr th {\n",
              "        vertical-align: top;\n",
              "    }\n",
              "\n",
              "    .dataframe thead th {\n",
              "        text-align: right;\n",
              "    }\n",
              "</style>\n",
              "<table border=\"1\" class=\"dataframe\">\n",
              "  <thead>\n",
              "    <tr style=\"text-align: right;\">\n",
              "      <th></th>\n",
              "      <th>RSI</th>\n",
              "      <th>Williams %R</th>\n",
              "      <th>SMA</th>\n",
              "      <th>EMA</th>\n",
              "      <th>WMA</th>\n",
              "      <th>HMA</th>\n",
              "      <th>TEMA</th>\n",
              "      <th>CCI</th>\n",
              "      <th>CMO</th>\n",
              "      <th>MACD</th>\n",
              "      <th>PPO</th>\n",
              "      <th>ROC</th>\n",
              "      <th>CFI</th>\n",
              "      <th>DMI</th>\n",
              "      <th>SAR</th>\n",
              "      <th>triple_barrier_signal</th>\n",
              "    </tr>\n",
              "    <tr>\n",
              "      <th>Date</th>\n",
              "      <th></th>\n",
              "      <th></th>\n",
              "      <th></th>\n",
              "      <th></th>\n",
              "      <th></th>\n",
              "      <th></th>\n",
              "      <th></th>\n",
              "      <th></th>\n",
              "      <th></th>\n",
              "      <th></th>\n",
              "      <th></th>\n",
              "      <th></th>\n",
              "      <th></th>\n",
              "      <th></th>\n",
              "      <th></th>\n",
              "      <th></th>\n",
              "    </tr>\n",
              "  </thead>\n",
              "  <tbody>\n",
              "    <tr>\n",
              "      <th>2019-09-03</th>\n",
              "      <td>54.800802</td>\n",
              "      <td>-25.370532</td>\n",
              "      <td>10644.634694</td>\n",
              "      <td>10524.614781</td>\n",
              "      <td>10479.589062</td>\n",
              "      <td>10553.177734</td>\n",
              "      <td>10593.639679</td>\n",
              "      <td>98.615566</td>\n",
              "      <td>5.863231</td>\n",
              "      <td>27.039413</td>\n",
              "      <td>0.255744</td>\n",
              "      <td>1.317741</td>\n",
              "      <td>3.124431e+12</td>\n",
              "      <td>5.508095</td>\n",
              "      <td>10372.320970</td>\n",
              "      <td>1</td>\n",
              "    </tr>\n",
              "    <tr>\n",
              "      <th>2019-09-04</th>\n",
              "      <td>63.617686</td>\n",
              "      <td>-3.726675</td>\n",
              "      <td>10642.344203</td>\n",
              "      <td>10551.153739</td>\n",
              "      <td>10476.856337</td>\n",
              "      <td>10615.047754</td>\n",
              "      <td>10639.891386</td>\n",
              "      <td>118.208425</td>\n",
              "      <td>19.683829</td>\n",
              "      <td>32.220685</td>\n",
              "      <td>0.305080</td>\n",
              "      <td>1.607051</td>\n",
              "      <td>3.188413e+12</td>\n",
              "      <td>7.480887</td>\n",
              "      <td>10405.660500</td>\n",
              "      <td>0</td>\n",
              "    </tr>\n",
              "    <tr>\n",
              "      <th>2019-09-05</th>\n",
              "      <td>70.330664</td>\n",
              "      <td>-2.267544</td>\n",
              "      <td>10643.664920</td>\n",
              "      <td>10592.308928</td>\n",
              "      <td>10477.320247</td>\n",
              "      <td>10628.557715</td>\n",
              "      <td>10715.406837</td>\n",
              "      <td>162.484886</td>\n",
              "      <td>29.603035</td>\n",
              "      <td>40.576767</td>\n",
              "      <td>0.384245</td>\n",
              "      <td>2.227890</td>\n",
              "      <td>3.291572e+12</td>\n",
              "      <td>19.338268</td>\n",
              "      <td>10442.728186</td>\n",
              "      <td>0</td>\n",
              "    </tr>\n",
              "    <tr>\n",
              "      <th>2019-09-06</th>\n",
              "      <td>71.761526</td>\n",
              "      <td>-4.845474</td>\n",
              "      <td>10643.229778</td>\n",
              "      <td>10629.975072</td>\n",
              "      <td>10523.960373</td>\n",
              "      <td>10649.926758</td>\n",
              "      <td>10771.700236</td>\n",
              "      <td>148.438306</td>\n",
              "      <td>73.542822</td>\n",
              "      <td>45.547828</td>\n",
              "      <td>0.430984</td>\n",
              "      <td>2.421097</td>\n",
              "      <td>3.386218e+12</td>\n",
              "      <td>21.718306</td>\n",
              "      <td>10494.547614</td>\n",
              "      <td>0</td>\n",
              "    </tr>\n",
              "    <tr>\n",
              "      <th>2019-09-10</th>\n",
              "      <td>69.292882</td>\n",
              "      <td>-9.485469</td>\n",
              "      <td>10641.328316</td>\n",
              "      <td>10657.072050</td>\n",
              "      <td>10572.473568</td>\n",
              "      <td>10722.676660</td>\n",
              "      <td>10795.856634</td>\n",
              "      <td>124.995002</td>\n",
              "      <td>67.316413</td>\n",
              "      <td>45.550973</td>\n",
              "      <td>0.430581</td>\n",
              "      <td>2.238220</td>\n",
              "      <td>3.463656e+12</td>\n",
              "      <td>19.781706</td>\n",
              "      <td>10550.081700</td>\n",
              "      <td>0</td>\n",
              "    </tr>\n",
              "  </tbody>\n",
              "</table>\n",
              "</div>"
            ],
            "text/plain": [
              "                  RSI  Williams %R  ...           SAR  triple_barrier_signal\n",
              "Date                                ...                                     \n",
              "2019-09-03  54.800802   -25.370532  ...  10372.320970                      1\n",
              "2019-09-04  63.617686    -3.726675  ...  10405.660500                      0\n",
              "2019-09-05  70.330664    -2.267544  ...  10442.728186                      0\n",
              "2019-09-06  71.761526    -4.845474  ...  10494.547614                      0\n",
              "2019-09-10  69.292882    -9.485469  ...  10550.081700                      0\n",
              "\n",
              "[5 rows x 16 columns]"
            ]
          },
          "metadata": {
            "tags": []
          },
          "execution_count": 25
        }
      ]
    },
    {
      "cell_type": "markdown",
      "metadata": {
        "id": "YSh6cJBEwgtg",
        "colab_type": "text"
      },
      "source": [
        "# 相關性分析"
      ]
    },
    {
      "cell_type": "code",
      "metadata": {
        "id": "hKy0pMZfLKEH",
        "colab_type": "code",
        "outputId": "9ae240ec-46d6-42ef-ce8a-235a0dfae793",
        "colab": {
          "base_uri": "https://localhost:8080/",
          "height": 812
        }
      },
      "source": [
        "import seaborn as sns\n",
        "import matplotlib.pyplot as plt\n",
        "plt.figure(figsize=(14,12))\n",
        "sns.heatmap(abs(df.corr()),annot=True,linewidths=0.1)"
      ],
      "execution_count": 26,
      "outputs": [
        {
          "output_type": "execute_result",
          "data": {
            "text/plain": [
              "<matplotlib.axes._subplots.AxesSubplot at 0x7f4c601844a8>"
            ]
          },
          "metadata": {
            "tags": []
          },
          "execution_count": 26
        },
        {
          "output_type": "display_data",
          "data": {
            "image/png": "[encoded data removed]",
            "text/plain": [
              "<Figure size 1008x864 with 2 Axes>"
            ]
          },
          "metadata": {
            "tags": []
          }
        }
      ]
    },
    {
      "cell_type": "markdown",
      "metadata": {
        "id": "c68TXVQaqGl3",
        "colab_type": "text"
      },
      "source": [
        "# features scaling"
      ]
    },
    {
      "cell_type": "code",
      "metadata": {
        "id": "JpZPZWfJqGuo",
        "colab_type": "code",
        "outputId": "1080a2f2-e232-402c-8e26-dce66d94a8ef",
        "colab": {
          "base_uri": "https://localhost:8080/",
          "height": 352
        }
      },
      "source": [
        "from sklearn.preprocessing import MinMaxScaler\n",
        "min_max_scaler = MinMaxScaler()\n",
        "df_minmax = min_max_scaler.fit_transform(df)#縮放到0-1之間\n",
        "df_minmax = pd.DataFrame(df_minmax,\n",
        "                         index = df.index,\n",
        "                         columns = df.columns)#轉回dataframe格式\n",
        "df_minmax[y_name] = df[y_name]#y不用MinMaxScaler\n",
        "df_minmax.tail()"
      ],
      "execution_count": 27,
      "outputs": [
        {
          "output_type": "execute_result",
          "data": {
            "text/html": [
              "<div>\n",
              "<style scoped>\n",
              "    .dataframe tbody tr th:only-of-type {\n",
              "        vertical-align: middle;\n",
              "    }\n",
              "\n",
              "    .dataframe tbody tr th {\n",
              "        vertical-align: top;\n",
              "    }\n",
              "\n",
              "    .dataframe thead th {\n",
              "        text-align: right;\n",
              "    }\n",
              "</style>\n",
              "<table border=\"1\" class=\"dataframe\">\n",
              "  <thead>\n",
              "    <tr style=\"text-align: right;\">\n",
              "      <th></th>\n",
              "      <th>RSI</th>\n",
              "      <th>Williams %R</th>\n",
              "      <th>SMA</th>\n",
              "      <th>EMA</th>\n",
              "      <th>WMA</th>\n",
              "      <th>HMA</th>\n",
              "      <th>TEMA</th>\n",
              "      <th>CCI</th>\n",
              "      <th>CMO</th>\n",
              "      <th>MACD</th>\n",
              "      <th>PPO</th>\n",
              "      <th>ROC</th>\n",
              "      <th>CFI</th>\n",
              "      <th>DMI</th>\n",
              "      <th>SAR</th>\n",
              "      <th>triple_barrier_signal</th>\n",
              "    </tr>\n",
              "    <tr>\n",
              "      <th>Date</th>\n",
              "      <th></th>\n",
              "      <th></th>\n",
              "      <th></th>\n",
              "      <th></th>\n",
              "      <th></th>\n",
              "      <th></th>\n",
              "      <th></th>\n",
              "      <th></th>\n",
              "      <th></th>\n",
              "      <th></th>\n",
              "      <th></th>\n",
              "      <th></th>\n",
              "      <th></th>\n",
              "      <th></th>\n",
              "      <th></th>\n",
              "      <th></th>\n",
              "    </tr>\n",
              "  </thead>\n",
              "  <tbody>\n",
              "    <tr>\n",
              "      <th>2019-09-03</th>\n",
              "      <td>0.566927</td>\n",
              "      <td>0.746295</td>\n",
              "      <td>0.960861</td>\n",
              "      <td>0.919391</td>\n",
              "      <td>0.907477</td>\n",
              "      <td>0.914285</td>\n",
              "      <td>0.915891</td>\n",
              "      <td>0.705941</td>\n",
              "      <td>0.529316</td>\n",
              "      <td>0.639878</td>\n",
              "      <td>0.561880</td>\n",
              "      <td>0.507105</td>\n",
              "      <td>0.751229</td>\n",
              "      <td>0.529396</td>\n",
              "      <td>0.885747</td>\n",
              "      <td>1</td>\n",
              "    </tr>\n",
              "    <tr>\n",
              "      <th>2019-09-04</th>\n",
              "      <td>0.666510</td>\n",
              "      <td>0.962733</td>\n",
              "      <td>0.960539</td>\n",
              "      <td>0.922900</td>\n",
              "      <td>0.907120</td>\n",
              "      <td>0.922291</td>\n",
              "      <td>0.921819</td>\n",
              "      <td>0.746373</td>\n",
              "      <td>0.598419</td>\n",
              "      <td>0.657952</td>\n",
              "      <td>0.574588</td>\n",
              "      <td>0.513573</td>\n",
              "      <td>0.766612</td>\n",
              "      <td>0.536295</td>\n",
              "      <td>0.889989</td>\n",
              "      <td>0</td>\n",
              "    </tr>\n",
              "    <tr>\n",
              "      <th>2019-09-05</th>\n",
              "      <td>0.742331</td>\n",
              "      <td>0.977325</td>\n",
              "      <td>0.960725</td>\n",
              "      <td>0.928341</td>\n",
              "      <td>0.907180</td>\n",
              "      <td>0.924040</td>\n",
              "      <td>0.931498</td>\n",
              "      <td>0.837743</td>\n",
              "      <td>0.648015</td>\n",
              "      <td>0.687102</td>\n",
              "      <td>0.594980</td>\n",
              "      <td>0.527453</td>\n",
              "      <td>0.791416</td>\n",
              "      <td>0.577764</td>\n",
              "      <td>0.894706</td>\n",
              "      <td>0</td>\n",
              "    </tr>\n",
              "    <tr>\n",
              "      <th>2019-09-06</th>\n",
              "      <td>0.758492</td>\n",
              "      <td>0.951545</td>\n",
              "      <td>0.960663</td>\n",
              "      <td>0.933321</td>\n",
              "      <td>0.913285</td>\n",
              "      <td>0.926805</td>\n",
              "      <td>0.938713</td>\n",
              "      <td>0.808756</td>\n",
              "      <td>0.867714</td>\n",
              "      <td>0.704444</td>\n",
              "      <td>0.607020</td>\n",
              "      <td>0.531773</td>\n",
              "      <td>0.814172</td>\n",
              "      <td>0.586088</td>\n",
              "      <td>0.901300</td>\n",
              "      <td>0</td>\n",
              "    </tr>\n",
              "    <tr>\n",
              "      <th>2019-09-10</th>\n",
              "      <td>0.730609</td>\n",
              "      <td>0.905145</td>\n",
              "      <td>0.960396</td>\n",
              "      <td>0.936904</td>\n",
              "      <td>0.919635</td>\n",
              "      <td>0.936219</td>\n",
              "      <td>0.941809</td>\n",
              "      <td>0.760378</td>\n",
              "      <td>0.836582</td>\n",
              "      <td>0.704455</td>\n",
              "      <td>0.606916</td>\n",
              "      <td>0.527684</td>\n",
              "      <td>0.832791</td>\n",
              "      <td>0.579315</td>\n",
              "      <td>0.908367</td>\n",
              "      <td>0</td>\n",
              "    </tr>\n",
              "  </tbody>\n",
              "</table>\n",
              "</div>"
            ],
            "text/plain": [
              "                 RSI  Williams %R  ...       SAR  triple_barrier_signal\n",
              "Date                               ...                                 \n",
              "2019-09-03  0.566927     0.746295  ...  0.885747                      1\n",
              "2019-09-04  0.666510     0.962733  ...  0.889989                      0\n",
              "2019-09-05  0.742331     0.977325  ...  0.894706                      0\n",
              "2019-09-06  0.758492     0.951545  ...  0.901300                      0\n",
              "2019-09-10  0.730609     0.905145  ...  0.908367                      0\n",
              "\n",
              "[5 rows x 16 columns]"
            ]
          },
          "metadata": {
            "tags": []
          },
          "execution_count": 27
        }
      ]
    },
    {
      "cell_type": "code",
      "metadata": {
        "id": "5MCZDpBgrrQQ",
        "colab_type": "code",
        "outputId": "51653b66-f94b-4f04-e238-5a333d25426c",
        "colab": {
          "base_uri": "https://localhost:8080/",
          "height": 35
        }
      },
      "source": [
        "df = df_minmax\n",
        "print('特徵縮放完成!')"
      ],
      "execution_count": 28,
      "outputs": [
        {
          "output_type": "stream",
          "text": [
            "特徵縮放完成!\n"
          ],
          "name": "stdout"
        }
      ]
    },
    {
      "cell_type": "markdown",
      "metadata": {
        "id": "_kc7tvz_M7PO",
        "colab_type": "text"
      },
      "source": [
        "# Xs ,ys prepare"
      ]
    },
    {
      "cell_type": "code",
      "metadata": {
        "id": "2ZHvlRJ5Lzzu",
        "colab_type": "code",
        "outputId": "1e36236d-807b-40ef-b435-29a930538d3a",
        "colab": {
          "base_uri": "https://localhost:8080/",
          "height": 52
        }
      },
      "source": [
        "from tqdm import tqdm\n",
        "import numpy as np\n",
        "\n",
        "#定義觀察天數,起始index(0),結束index(資料筆數-觀察天數)\n",
        "days = 15\n",
        "b_index = 0\n",
        "f_index = len(df)-days\n",
        "\n",
        "#特徵欄位\n",
        "features = df.drop(y_name,axis=1).columns.tolist()\n",
        "\n",
        "#待存放序列\n",
        "Xs = []\n",
        "ys = []\n",
        "indexs = []\n",
        "\n",
        "'''\n",
        "若資料筆數100,days=15天,f_index=85,i只會跑到84,i+days=99,features只會跑到98天.\n",
        "若資料筆數100,days=15天,f_index=85+1,i會跑到85,i+days=100,features會跑到99天.\n",
        "'''\n",
        "for i in tqdm(range(b_index ,f_index+1 ,1)):#每次i都會遞增1\n",
        "  X = df.iloc[i:i+days,:][features] #ex:0...14(不含15)之features\n",
        "  y = df.iloc[i+days-1:i+days,:][y_name]#ex:14,y_name\n",
        "  X = np.array(X) # to np_array\n",
        "  Xs.append(X) #加入一筆X\n",
        "  ys.append(y) #加入一筆y\n",
        "  indexs.append((df.iloc[[i]].index,\n",
        "                 df.iloc[[i+days-1]].index)) #加入資料日期\n",
        "#轉換成np_array\n",
        "Xs = np.array(Xs)\n",
        "ys = np.array(ys)\n",
        "print('準備完成')"
      ],
      "execution_count": 29,
      "outputs": [
        {
          "output_type": "stream",
          "text": [
            "100%|██████████| 5359/5359 [00:16<00:00, 331.08it/s]\n"
          ],
          "name": "stderr"
        },
        {
          "output_type": "stream",
          "text": [
            "準備完成\n"
          ],
          "name": "stdout"
        }
      ]
    },
    {
      "cell_type": "markdown",
      "metadata": {
        "id": "a9iNRYKpNfIP",
        "colab_type": "text"
      },
      "source": [
        "# check"
      ]
    },
    {
      "cell_type": "code",
      "metadata": {
        "id": "7YiS6ZmtNfSf",
        "colab_type": "code",
        "outputId": "5ea7c5be-972d-4e8a-fb69-22bf3ee8cb95",
        "colab": {
          "base_uri": "https://localhost:8080/",
          "height": 70
        }
      },
      "source": [
        "print('資料筆數:',len(Xs))\n",
        "print('第一筆的index開始和結束:{}-{}'.format(indexs[0][0].date[0],indexs[0][1].date[0]))\n",
        "print('最後一筆的index開始和結束:{}-{}'.format(indexs[-1][0].date[0],indexs[-1][1].date[0]))"
      ],
      "execution_count": 30,
      "outputs": [
        {
          "output_type": "stream",
          "text": [
            "資料筆數: 5359\n",
            "第一筆的index開始和結束:1997-11-04-1997-11-25\n",
            "最後一筆的index開始和結束:2019-08-20-2019-09-10\n"
          ],
          "name": "stdout"
        }
      ]
    },
    {
      "cell_type": "markdown",
      "metadata": {
        "id": "Pabl4tEsXYB8",
        "colab_type": "text"
      },
      "source": [
        "# Reshape X"
      ]
    },
    {
      "cell_type": "markdown",
      "metadata": {
        "id": "RvUPQWb1An8u",
        "colab_type": "text"
      },
      "source": [
        "(圖片數量,長,寬,1張)"
      ]
    },
    {
      "cell_type": "code",
      "metadata": {
        "id": "In4R0IcSPDwG",
        "colab_type": "code",
        "outputId": "faf00270-321d-463f-a1cf-a3661f32b5e4",
        "colab": {
          "base_uri": "https://localhost:8080/",
          "height": 52
        }
      },
      "source": [
        "print(Xs.shape)\n",
        "Xs = Xs.reshape(-1,days,len(features),1)\n",
        "print(Xs.shape)"
      ],
      "execution_count": 31,
      "outputs": [
        {
          "output_type": "stream",
          "text": [
            "(5359, 15, 15)\n",
            "(5359, 15, 15, 1)\n"
          ],
          "name": "stdout"
        }
      ]
    },
    {
      "cell_type": "markdown",
      "metadata": {
        "id": "lUy2cpReXaOV",
        "colab_type": "text"
      },
      "source": [
        "# One hot encoding of label"
      ]
    },
    {
      "cell_type": "markdown",
      "metadata": {
        "id": "hjDc-sStA1gk",
        "colab_type": "text"
      },
      "source": [
        "原始y代表漲幅"
      ]
    },
    {
      "cell_type": "code",
      "metadata": {
        "id": "6XGRdxmfWrfo",
        "colab_type": "code",
        "outputId": "15e3f32a-5b82-4c96-a9b9-e31d840f399d",
        "colab": {
          "base_uri": "https://localhost:8080/",
          "height": 248
        }
      },
      "source": [
        "print(ys.shape)\n",
        "print(ys[:5])\n",
        "\n",
        "from keras.utils.np_utils import to_categorical\n",
        "ys = to_categorical(ys, num_classes = 3)\n",
        "print(ys.shape)\n",
        "print(ys[:5])"
      ],
      "execution_count": 32,
      "outputs": [
        {
          "output_type": "stream",
          "text": [
            "(5359, 1)\n",
            "[[-1]\n",
            " [-1]\n",
            " [-1]\n",
            " [-1]\n",
            " [ 1]]\n"
          ],
          "name": "stdout"
        },
        {
          "output_type": "stream",
          "text": [
            "Using TensorFlow backend.\n"
          ],
          "name": "stderr"
        },
        {
          "output_type": "stream",
          "text": [
            "(5359, 3)\n",
            "[[0. 0. 1.]\n",
            " [0. 0. 1.]\n",
            " [0. 0. 1.]\n",
            " [0. 0. 1.]\n",
            " [0. 1. 0.]]\n"
          ],
          "name": "stdout"
        }
      ]
    },
    {
      "cell_type": "markdown",
      "metadata": {
        "id": "TYcPI2TWBTpJ",
        "colab_type": "text"
      },
      "source": [
        "# Visualization"
      ]
    },
    {
      "cell_type": "code",
      "metadata": {
        "id": "ibNjBLRaBUJh",
        "colab_type": "code",
        "outputId": "0323ff37-ec81-4ea5-ca8a-9775a820cdbb",
        "colab": {
          "base_uri": "https://localhost:8080/",
          "height": 607
        }
      },
      "source": [
        "import matplotlib.pyplot as plt\n",
        "import matplotlib.image as mpimg\n",
        "%matplotlib inline\n",
        "Xs_v = Xs.reshape(-1,Xs.shape[1],Xs.shape[2])\n",
        "plt.figure(figsize=(10,10))\n",
        "plt.subplots_adjust(wspace =0, hspace =0.3)\n",
        "for i in range(0,9):\n",
        "    plt.subplot(330 + (i+1))\n",
        "    plt.imshow(Xs_v[i])\n",
        "    plt.title(np.argmax(ys[i]))"
      ],
      "execution_count": 33,
      "outputs": [
        {
          "output_type": "display_data",
          "data": {
            "image/png": "[encoded data removed]",
            "text/plain": [
              "<Figure size 720x720 with 9 Axes>"
            ]
          },
          "metadata": {
            "tags": []
          }
        }
      ]
    },
    {
      "cell_type": "markdown",
      "metadata": {
        "id": "5Oa6gYq_aVjE",
        "colab_type": "text"
      },
      "source": [
        "# Split training and validation sets"
      ]
    },
    {
      "cell_type": "code",
      "metadata": {
        "id": "OLHFbreckAlH",
        "colab_type": "code",
        "outputId": "b3ed5e46-b866-463e-d4d8-8979dc10d9eb",
        "colab": {
          "base_uri": "https://localhost:8080/",
          "height": 35
        }
      },
      "source": [
        "X_test = Xs[-40:] #最後40天features當作test資料\n",
        "X_train,y_train = Xs[:-40],ys[:-40] #其他當作訓練資料(裡面再去拆分成訓練跟驗證)\n",
        "print(X_train.shape,y_train.shape,X_test.shape)"
      ],
      "execution_count": 34,
      "outputs": [
        {
          "output_type": "stream",
          "text": [
            "(5319, 15, 15, 1) (5319, 3) (40, 15, 15, 1)\n"
          ],
          "name": "stdout"
        }
      ]
    },
    {
      "cell_type": "markdown",
      "metadata": {
        "id": "7ZLA_GTNnVXt",
        "colab_type": "text"
      },
      "source": [
        "# 對訓練資料調整採樣使其數據平衡"
      ]
    },
    {
      "cell_type": "markdown",
      "metadata": {
        "id": "a2AAPF6foXjb",
        "colab_type": "text"
      },
      "source": [
        "轉換shape才能丟到RandomOverSampler"
      ]
    },
    {
      "cell_type": "code",
      "metadata": {
        "id": "-upxjjv4n6zf",
        "colab_type": "code",
        "outputId": "09febea9-45f8-4b50-8ce9-13f9c8473c98",
        "colab": {
          "base_uri": "https://localhost:8080/",
          "height": 52
        }
      },
      "source": [
        "X_train2維 = X_train.reshape(X_train.shape[0],-1)\n",
        "y_train數字 = np.array([ np.argmax(i) for i in y_train])\n",
        "print(X_train2維.shape)\n",
        "print(y_train數字.shape)"
      ],
      "execution_count": 35,
      "outputs": [
        {
          "output_type": "stream",
          "text": [
            "(5319, 225)\n",
            "(5319,)\n"
          ],
          "name": "stdout"
        }
      ]
    },
    {
      "cell_type": "markdown",
      "metadata": {
        "id": "tvDI0EQpocd4",
        "colab_type": "text"
      },
      "source": [
        "丟到RandomOverSampler"
      ]
    },
    {
      "cell_type": "code",
      "metadata": {
        "id": "1HgykAGdnVfx",
        "colab_type": "code",
        "outputId": "889713ac-8dae-4efe-d92e-72b2e37885bb",
        "colab": {
          "base_uri": "https://localhost:8080/",
          "height": 144
        }
      },
      "source": [
        "from imblearn.over_sampling import RandomOverSampler\n",
        "from imblearn.under_sampling import RandomUnderSampler\n",
        "#ros = RandomOverSampler()\n",
        "ros = RandomUnderSampler()\n",
        "X_train平衡 ,y_train平衡 = ros.fit_sample(X_train2維 ,y_train數字)\n",
        "print(pd.DataFrame(y_train平衡)[0].value_counts().sort_index())#顯示結果"
      ],
      "execution_count": 36,
      "outputs": [
        {
          "output_type": "stream",
          "text": [
            "0    1312\n",
            "1    1312\n",
            "2    1312\n",
            "Name: 0, dtype: int64\n"
          ],
          "name": "stdout"
        },
        {
          "output_type": "stream",
          "text": [
            "/usr/local/lib/python3.6/dist-packages/sklearn/externals/six.py:31: DeprecationWarning: The module is deprecated in version 0.21 and will be removed in version 0.23 since we've dropped support for Python 2.7. Please rely on the official version of six (https://pypi.org/project/six/).\n",
            "  \"(https://pypi.org/project/six/).\", DeprecationWarning)\n"
          ],
          "name": "stderr"
        }
      ]
    },
    {
      "cell_type": "markdown",
      "metadata": {
        "id": "qNE4MdwJodtS",
        "colab_type": "text"
      },
      "source": [
        "轉換回原本shape"
      ]
    },
    {
      "cell_type": "code",
      "metadata": {
        "id": "eB6zxQUmoUwQ",
        "colab_type": "code",
        "outputId": "e838dae0-3f52-4047-b753-50bde233e498",
        "colab": {
          "base_uri": "https://localhost:8080/",
          "height": 52
        }
      },
      "source": [
        "X_train = X_train平衡.reshape(X_train平衡.shape[0],15,15,1)#資料數,15,15,1\n",
        "y_train = y_train平衡.reshape(y_train平衡.shape[0],1)#資料數,1\n",
        "y_train = to_categorical(y_train , num_classes = 3)#one_hot\n",
        "print(X_train.shape)\n",
        "print(y_train.shape)"
      ],
      "execution_count": 37,
      "outputs": [
        {
          "output_type": "stream",
          "text": [
            "(3936, 15, 15, 1)\n",
            "(3936, 3)\n"
          ],
          "name": "stdout"
        }
      ]
    },
    {
      "cell_type": "code",
      "metadata": {
        "id": "MgsrVpYUYf5J",
        "colab_type": "code",
        "outputId": "4b4807a3-ceb5-4208-a284-5bab823dde47",
        "colab": {
          "base_uri": "https://localhost:8080/",
          "height": 35
        }
      },
      "source": [
        "from sklearn.model_selection import train_test_split\n",
        "xtrain, xval, ytrain, yval = train_test_split(X_train,\n",
        "                                              y_train, \n",
        "                                              test_size = 0.3,#7,3分\n",
        "                                              random_state = 42,\n",
        "                                              shuffle=True,#是否洗牌\n",
        "                                              stratify=None #是否根據y欄位做分層取樣\n",
        "                                             )\n",
        "print(xtrain.shape, ytrain.shape, xval.shape, yval.shape)"
      ],
      "execution_count": 38,
      "outputs": [
        {
          "output_type": "stream",
          "text": [
            "(2755, 15, 15, 1) (2755, 3) (1181, 15, 15, 1) (1181, 3)\n"
          ],
          "name": "stdout"
        }
      ]
    },
    {
      "cell_type": "markdown",
      "metadata": {
        "id": "2xQOFrENMkSb",
        "colab_type": "text"
      },
      "source": [
        "# 看一下樣本的label分布情況是否平均(已解決)"
      ]
    },
    {
      "cell_type": "markdown",
      "metadata": {
        "id": "xnUz7A3tlfya",
        "colab_type": "text"
      },
      "source": [
        "0:Hold,1:Buy,2:Sell"
      ]
    },
    {
      "cell_type": "code",
      "metadata": {
        "id": "aA9SXiicML6Y",
        "colab_type": "code",
        "outputId": "2bac2dc8-4f51-47fd-b8f3-776967fb1c92",
        "colab": {
          "base_uri": "https://localhost:8080/",
          "height": 88
        }
      },
      "source": [
        "pd.Series([np.argmax(i) for i in y_train]).value_counts()"
      ],
      "execution_count": 39,
      "outputs": [
        {
          "output_type": "execute_result",
          "data": {
            "text/plain": [
              "1    1312\n",
              "2    1312\n",
              "0    1312\n",
              "dtype: int64"
            ]
          },
          "metadata": {
            "tags": []
          },
          "execution_count": 39
        }
      ]
    },
    {
      "cell_type": "code",
      "metadata": {
        "id": "UIOBe8tVL5dV",
        "colab_type": "code",
        "outputId": "1fcbf0ee-811e-4d72-b824-340c0931b9ec",
        "colab": {
          "base_uri": "https://localhost:8080/",
          "height": 88
        }
      },
      "source": [
        "pd.Series([np.argmax(i) for i in ytrain]).value_counts()"
      ],
      "execution_count": 40,
      "outputs": [
        {
          "output_type": "execute_result",
          "data": {
            "text/plain": [
              "2    931\n",
              "1    927\n",
              "0    897\n",
              "dtype: int64"
            ]
          },
          "metadata": {
            "tags": []
          },
          "execution_count": 40
        }
      ]
    },
    {
      "cell_type": "code",
      "metadata": {
        "id": "A235BZ6cMQ-S",
        "colab_type": "code",
        "outputId": "26c432ed-d6c8-4cb0-91a8-bbac51183804",
        "colab": {
          "base_uri": "https://localhost:8080/",
          "height": 88
        }
      },
      "source": [
        "pd.Series([np.argmax(i) for i in yval]).value_counts()"
      ],
      "execution_count": 41,
      "outputs": [
        {
          "output_type": "execute_result",
          "data": {
            "text/plain": [
              "0    415\n",
              "1    385\n",
              "2    381\n",
              "dtype: int64"
            ]
          },
          "metadata": {
            "tags": []
          },
          "execution_count": 41
        }
      ]
    },
    {
      "cell_type": "markdown",
      "metadata": {
        "id": "m-oXz0FGarb1",
        "colab_type": "text"
      },
      "source": [
        "# CNN"
      ]
    },
    {
      "cell_type": "code",
      "metadata": {
        "id": "eWOsWp7_amoX",
        "colab_type": "code",
        "colab": {}
      },
      "source": [
        "from keras import backend as K\n",
        "from keras.models import Sequential\n",
        "from keras.layers import Dense, Dropout, Lambda, Flatten, BatchNormalization\n",
        "from keras.layers import Conv2D, MaxPool2D, AvgPool2D\n",
        "from keras.optimizers import Adam #做梯度下降的一種優化方法\n",
        "from keras.callbacks import ReduceLROnPlateau , EarlyStopping #減少學習速率 on Plateau"
      ],
      "execution_count": 0,
      "outputs": []
    },
    {
      "cell_type": "code",
      "metadata": {
        "id": "yd-csnW2auJS",
        "colab_type": "code",
        "outputId": "b8fd3e12-1df1-4f17-935e-fd89ef97f925",
        "colab": {
          "base_uri": "https://localhost:8080/",
          "height": 766
        }
      },
      "source": [
        "model = Sequential()\n",
        "\n",
        "nclasses = 3 \n",
        "\n",
        "model.add(Conv2D(filters=32, kernel_size=(3,3), padding='same', activation='relu', input_shape=(15,15,1)))#15,15,32\n",
        "model.add(Conv2D(filters=64, kernel_size=(3,3), padding='same', activation='relu',))#15,15,64\n",
        "model.add(MaxPool2D(pool_size=(5,5)))# 3,3,64\n",
        "model.add(Flatten())#576\n",
        "model.add(Dropout(0.5))#288\n",
        "model.add(Dense(128, activation='relu'))#128\n",
        "model.add(Dropout(0.5))#64\n",
        "model.add(Dense(32, activation='relu'))#32\n",
        "model.add(Dropout(0.5))#16\n",
        "model.add(Dense(nclasses, activation='softmax'))#3\n",
        "model.summary()"
      ],
      "execution_count": 43,
      "outputs": [
        {
          "output_type": "stream",
          "text": [
            "WARNING:tensorflow:From /usr/local/lib/python3.6/dist-packages/keras/backend/tensorflow_backend.py:66: The name tf.get_default_graph is deprecated. Please use tf.compat.v1.get_default_graph instead.\n",
            "\n",
            "WARNING:tensorflow:From /usr/local/lib/python3.6/dist-packages/keras/backend/tensorflow_backend.py:541: The name tf.placeholder is deprecated. Please use tf.compat.v1.placeholder instead.\n",
            "\n",
            "WARNING:tensorflow:From /usr/local/lib/python3.6/dist-packages/keras/backend/tensorflow_backend.py:4432: The name tf.random_uniform is deprecated. Please use tf.random.uniform instead.\n",
            "\n",
            "WARNING:tensorflow:From /usr/local/lib/python3.6/dist-packages/keras/backend/tensorflow_backend.py:4267: The name tf.nn.max_pool is deprecated. Please use tf.nn.max_pool2d instead.\n",
            "\n",
            "WARNING:tensorflow:From /usr/local/lib/python3.6/dist-packages/keras/backend/tensorflow_backend.py:148: The name tf.placeholder_with_default is deprecated. Please use tf.compat.v1.placeholder_with_default instead.\n",
            "\n",
            "WARNING:tensorflow:From /usr/local/lib/python3.6/dist-packages/keras/backend/tensorflow_backend.py:3733: calling dropout (from tensorflow.python.ops.nn_ops) with keep_prob is deprecated and will be removed in a future version.\n",
            "Instructions for updating:\n",
            "Please use `rate` instead of `keep_prob`. Rate should be set to `rate = 1 - keep_prob`.\n",
            "Model: \"sequential_1\"\n",
            "_________________________________________________________________\n",
            "Layer (type)                 Output Shape              Param #   \n",
            "=================================================================\n",
            "conv2d_1 (Conv2D)            (None, 15, 15, 32)        320       \n",
            "_________________________________________________________________\n",
            "conv2d_2 (Conv2D)            (None, 15, 15, 64)        18496     \n",
            "_________________________________________________________________\n",
            "max_pooling2d_1 (MaxPooling2 (None, 3, 3, 64)          0         \n",
            "_________________________________________________________________\n",
            "flatten_1 (Flatten)          (None, 576)               0         \n",
            "_________________________________________________________________\n",
            "dropout_1 (Dropout)          (None, 576)               0         \n",
            "_________________________________________________________________\n",
            "dense_1 (Dense)              (None, 128)               73856     \n",
            "_________________________________________________________________\n",
            "dropout_2 (Dropout)          (None, 128)               0         \n",
            "_________________________________________________________________\n",
            "dense_2 (Dense)              (None, 32)                4128      \n",
            "_________________________________________________________________\n",
            "dropout_3 (Dropout)          (None, 32)                0         \n",
            "_________________________________________________________________\n",
            "dense_3 (Dense)              (None, 3)                 99        \n",
            "=================================================================\n",
            "Total params: 96,899\n",
            "Trainable params: 96,899\n",
            "Non-trainable params: 0\n",
            "_________________________________________________________________\n"
          ],
          "name": "stdout"
        }
      ]
    },
    {
      "cell_type": "code",
      "metadata": {
        "id": "8Z913AqUa8bJ",
        "colab_type": "code",
        "outputId": "ea513a18-5e13-493f-9f6f-6b62f906e31f",
        "colab": {
          "base_uri": "https://localhost:8080/",
          "height": 108
        }
      },
      "source": [
        "model.compile(optimizer=\"adam\", loss=\"categorical_crossentropy\", metrics=[\"accuracy\"])"
      ],
      "execution_count": 44,
      "outputs": [
        {
          "output_type": "stream",
          "text": [
            "WARNING:tensorflow:From /usr/local/lib/python3.6/dist-packages/keras/optimizers.py:793: The name tf.train.Optimizer is deprecated. Please use tf.compat.v1.train.Optimizer instead.\n",
            "\n",
            "WARNING:tensorflow:From /usr/local/lib/python3.6/dist-packages/keras/backend/tensorflow_backend.py:3576: The name tf.log is deprecated. Please use tf.math.log instead.\n",
            "\n"
          ],
          "name": "stdout"
        }
      ]
    },
    {
      "cell_type": "markdown",
      "metadata": {
        "id": "VORA4n9Lz9of",
        "colab_type": "text"
      },
      "source": [
        "# 優化器"
      ]
    },
    {
      "cell_type": "code",
      "metadata": {
        "id": "Kw_j4R4Da_To",
        "colab_type": "code",
        "colab": {}
      },
      "source": [
        "#1\n",
        "lr_reduction = ReduceLROnPlateau(monitor = 'val_acc', \n",
        "                                 factor=0.5, \n",
        "                                 patience = 3, \n",
        "                                 verbose = 1, \n",
        "                                 min_lr = 0.00001)\n",
        "\n",
        "#2\n",
        "es = EarlyStopping(monitor='val_acc',#驗證集acc\n",
        "                   min_delta=0, \n",
        "                   patience=50,  \n",
        "                   mode='max',\n",
        "                   restore_best_weights = True)#恢復最佳權重"
      ],
      "execution_count": 0,
      "outputs": []
    },
    {
      "cell_type": "markdown",
      "metadata": {
        "id": "aevlVsI9Lk9a",
        "colab_type": "text"
      },
      "source": [
        "# fit"
      ]
    },
    {
      "cell_type": "code",
      "metadata": {
        "id": "TJJR7Yg-bHac",
        "colab_type": "code",
        "outputId": "aa027ce8-9889-4e23-baa5-cb109c806ead",
        "colab": {
          "base_uri": "https://localhost:8080/",
          "height": 1000
        }
      },
      "source": [
        "history = model.fit(xtrain,ytrain,\n",
        "                    batch_size = 128,\n",
        "                    epochs = 500,\n",
        "                    validation_data=(xval,yval),\n",
        "                    verbose=1,callbacks=[es])"
      ],
      "execution_count": 46,
      "outputs": [
        {
          "output_type": "stream",
          "text": [
            "WARNING:tensorflow:From /usr/local/lib/python3.6/dist-packages/tensorflow/python/ops/math_grad.py:1250: add_dispatch_support.<locals>.wrapper (from tensorflow.python.ops.array_ops) is deprecated and will be removed in a future version.\n",
            "Instructions for updating:\n",
            "Use tf.where in 2.0, which has the same broadcast rule as np.where\n",
            "Train on 2755 samples, validate on 1181 samples\n",
            "Epoch 1/500\n",
            "2755/2755 [==============================] - 2s 750us/step - loss: 1.1025 - acc: 0.3260 - val_loss: 1.0957 - val_acc: 0.4335\n",
            "Epoch 2/500\n",
            "2755/2755 [==============================] - 0s 108us/step - loss: 1.0962 - acc: 0.3568 - val_loss: 1.0913 - val_acc: 0.4225\n",
            "Epoch 3/500\n",
            "2755/2755 [==============================] - 0s 105us/step - loss: 1.0894 - acc: 0.3895 - val_loss: 1.0789 - val_acc: 0.4056\n",
            "Epoch 4/500\n",
            "2755/2755 [==============================] - 0s 110us/step - loss: 1.0835 - acc: 0.3822 - val_loss: 1.0751 - val_acc: 0.4039\n",
            "Epoch 5/500\n",
            "2755/2755 [==============================] - 0s 105us/step - loss: 1.0761 - acc: 0.4127 - val_loss: 1.0601 - val_acc: 0.4141\n",
            "Epoch 6/500\n",
            "2755/2755 [==============================] - 0s 101us/step - loss: 1.0676 - acc: 0.3953 - val_loss: 1.0478 - val_acc: 0.4301\n",
            "Epoch 7/500\n",
            "2755/2755 [==============================] - 0s 106us/step - loss: 1.0545 - acc: 0.4211 - val_loss: 1.0374 - val_acc: 0.4318\n",
            "Epoch 8/500\n",
            "2755/2755 [==============================] - 0s 103us/step - loss: 1.0525 - acc: 0.4294 - val_loss: 1.0377 - val_acc: 0.4437\n",
            "Epoch 9/500\n",
            "2755/2755 [==============================] - 0s 103us/step - loss: 1.0479 - acc: 0.4377 - val_loss: 1.0327 - val_acc: 0.4462\n",
            "Epoch 10/500\n",
            "2755/2755 [==============================] - 0s 106us/step - loss: 1.0484 - acc: 0.4290 - val_loss: 1.0250 - val_acc: 0.4378\n",
            "Epoch 11/500\n",
            "2755/2755 [==============================] - 0s 107us/step - loss: 1.0450 - acc: 0.4530 - val_loss: 1.0273 - val_acc: 0.4386\n",
            "Epoch 12/500\n",
            "2755/2755 [==============================] - 0s 101us/step - loss: 1.0533 - acc: 0.4160 - val_loss: 1.0406 - val_acc: 0.4454\n",
            "Epoch 13/500\n",
            "2755/2755 [==============================] - 0s 101us/step - loss: 1.0390 - acc: 0.4559 - val_loss: 1.0201 - val_acc: 0.4488\n",
            "Epoch 14/500\n",
            "2755/2755 [==============================] - 0s 100us/step - loss: 1.0268 - acc: 0.4454 - val_loss: 1.0126 - val_acc: 0.4471\n",
            "Epoch 15/500\n",
            "2755/2755 [==============================] - 0s 104us/step - loss: 1.0242 - acc: 0.4566 - val_loss: 1.0097 - val_acc: 0.4606\n",
            "Epoch 16/500\n",
            "2755/2755 [==============================] - 0s 102us/step - loss: 1.0197 - acc: 0.4708 - val_loss: 1.0034 - val_acc: 0.4657\n",
            "Epoch 17/500\n",
            "2755/2755 [==============================] - 0s 102us/step - loss: 1.0272 - acc: 0.4468 - val_loss: 1.0049 - val_acc: 0.4691\n",
            "Epoch 18/500\n",
            "2755/2755 [==============================] - 0s 105us/step - loss: 1.0218 - acc: 0.4795 - val_loss: 0.9987 - val_acc: 0.4742\n",
            "Epoch 19/500\n",
            "2755/2755 [==============================] - 0s 100us/step - loss: 1.0164 - acc: 0.4733 - val_loss: 1.0087 - val_acc: 0.4657\n",
            "Epoch 20/500\n",
            "2755/2755 [==============================] - 0s 99us/step - loss: 1.0179 - acc: 0.4657 - val_loss: 0.9994 - val_acc: 0.4835\n",
            "Epoch 21/500\n",
            "2755/2755 [==============================] - 0s 99us/step - loss: 1.0151 - acc: 0.4624 - val_loss: 0.9977 - val_acc: 0.4750\n",
            "Epoch 22/500\n",
            "2755/2755 [==============================] - 0s 102us/step - loss: 1.0133 - acc: 0.4733 - val_loss: 0.9897 - val_acc: 0.4809\n",
            "Epoch 23/500\n",
            "2755/2755 [==============================] - 0s 103us/step - loss: 1.0051 - acc: 0.4715 - val_loss: 0.9919 - val_acc: 0.4835\n",
            "Epoch 24/500\n",
            "2755/2755 [==============================] - 0s 102us/step - loss: 1.0117 - acc: 0.4740 - val_loss: 0.9912 - val_acc: 0.4793\n",
            "Epoch 25/500\n",
            "2755/2755 [==============================] - 0s 103us/step - loss: 1.0025 - acc: 0.4806 - val_loss: 0.9895 - val_acc: 0.4894\n",
            "Epoch 26/500\n",
            "2755/2755 [==============================] - 0s 103us/step - loss: 0.9974 - acc: 0.4766 - val_loss: 0.9785 - val_acc: 0.4970\n",
            "Epoch 27/500\n",
            "2755/2755 [==============================] - 0s 103us/step - loss: 0.9983 - acc: 0.4809 - val_loss: 0.9867 - val_acc: 0.4869\n",
            "Epoch 28/500\n",
            "2755/2755 [==============================] - 0s 98us/step - loss: 0.9926 - acc: 0.4882 - val_loss: 0.9805 - val_acc: 0.4894\n",
            "Epoch 29/500\n",
            "2755/2755 [==============================] - 0s 104us/step - loss: 0.9928 - acc: 0.4755 - val_loss: 0.9789 - val_acc: 0.4928\n",
            "Epoch 30/500\n",
            "2755/2755 [==============================] - 0s 101us/step - loss: 0.9898 - acc: 0.4886 - val_loss: 0.9779 - val_acc: 0.4953\n",
            "Epoch 31/500\n",
            "2755/2755 [==============================] - 0s 100us/step - loss: 0.9809 - acc: 0.4966 - val_loss: 0.9760 - val_acc: 0.4953\n",
            "Epoch 32/500\n",
            "2755/2755 [==============================] - 0s 100us/step - loss: 0.9860 - acc: 0.4944 - val_loss: 0.9792 - val_acc: 0.4996\n",
            "Epoch 33/500\n",
            "2755/2755 [==============================] - 0s 99us/step - loss: 0.9829 - acc: 0.4904 - val_loss: 0.9758 - val_acc: 0.4945\n",
            "Epoch 34/500\n",
            "2755/2755 [==============================] - 0s 101us/step - loss: 0.9850 - acc: 0.5027 - val_loss: 0.9796 - val_acc: 0.5064\n",
            "Epoch 35/500\n",
            "2755/2755 [==============================] - 0s 99us/step - loss: 0.9896 - acc: 0.4984 - val_loss: 0.9796 - val_acc: 0.4852\n",
            "Epoch 36/500\n",
            "2755/2755 [==============================] - 0s 106us/step - loss: 0.9846 - acc: 0.4828 - val_loss: 0.9792 - val_acc: 0.4936\n",
            "Epoch 37/500\n",
            "2755/2755 [==============================] - 0s 101us/step - loss: 0.9922 - acc: 0.4966 - val_loss: 0.9774 - val_acc: 0.4953\n",
            "Epoch 38/500\n",
            "2755/2755 [==============================] - 0s 101us/step - loss: 0.9772 - acc: 0.5002 - val_loss: 0.9772 - val_acc: 0.5038\n",
            "Epoch 39/500\n",
            "2755/2755 [==============================] - 0s 99us/step - loss: 0.9838 - acc: 0.5049 - val_loss: 0.9747 - val_acc: 0.4920\n",
            "Epoch 40/500\n",
            "2755/2755 [==============================] - 0s 102us/step - loss: 0.9780 - acc: 0.4907 - val_loss: 0.9749 - val_acc: 0.4945\n",
            "Epoch 41/500\n",
            "2755/2755 [==============================] - 0s 100us/step - loss: 0.9737 - acc: 0.5016 - val_loss: 0.9749 - val_acc: 0.5097\n",
            "Epoch 42/500\n",
            "2755/2755 [==============================] - 0s 99us/step - loss: 0.9747 - acc: 0.5093 - val_loss: 0.9751 - val_acc: 0.4784\n",
            "Epoch 43/500\n",
            "2755/2755 [==============================] - 0s 100us/step - loss: 0.9695 - acc: 0.4991 - val_loss: 0.9758 - val_acc: 0.5089\n",
            "Epoch 44/500\n",
            "2755/2755 [==============================] - 0s 101us/step - loss: 0.9783 - acc: 0.4842 - val_loss: 0.9894 - val_acc: 0.4987\n",
            "Epoch 45/500\n",
            "2755/2755 [==============================] - 0s 101us/step - loss: 0.9706 - acc: 0.5114 - val_loss: 0.9704 - val_acc: 0.5191\n",
            "Epoch 46/500\n",
            "2755/2755 [==============================] - 0s 99us/step - loss: 0.9580 - acc: 0.5129 - val_loss: 0.9700 - val_acc: 0.5097\n",
            "Epoch 47/500\n",
            "2755/2755 [==============================] - 0s 106us/step - loss: 0.9665 - acc: 0.5096 - val_loss: 0.9699 - val_acc: 0.5097\n",
            "Epoch 48/500\n",
            "2755/2755 [==============================] - 0s 101us/step - loss: 0.9670 - acc: 0.5038 - val_loss: 0.9678 - val_acc: 0.5123\n",
            "Epoch 49/500\n",
            "2755/2755 [==============================] - 0s 99us/step - loss: 0.9709 - acc: 0.5114 - val_loss: 0.9651 - val_acc: 0.5106\n",
            "Epoch 50/500\n",
            "2755/2755 [==============================] - 0s 99us/step - loss: 0.9672 - acc: 0.5154 - val_loss: 0.9692 - val_acc: 0.5047\n",
            "Epoch 51/500\n",
            "2755/2755 [==============================] - 0s 103us/step - loss: 0.9570 - acc: 0.5285 - val_loss: 0.9678 - val_acc: 0.5038\n",
            "Epoch 52/500\n",
            "2755/2755 [==============================] - 0s 99us/step - loss: 0.9504 - acc: 0.5089 - val_loss: 0.9674 - val_acc: 0.5047\n",
            "Epoch 53/500\n",
            "2755/2755 [==============================] - 0s 99us/step - loss: 0.9545 - acc: 0.5216 - val_loss: 0.9738 - val_acc: 0.5047\n",
            "Epoch 54/500\n",
            "2755/2755 [==============================] - 0s 99us/step - loss: 0.9577 - acc: 0.5172 - val_loss: 0.9715 - val_acc: 0.4869\n",
            "Epoch 55/500\n",
            "2755/2755 [==============================] - 0s 102us/step - loss: 0.9614 - acc: 0.5132 - val_loss: 0.9661 - val_acc: 0.5004\n",
            "Epoch 56/500\n",
            "2755/2755 [==============================] - 0s 99us/step - loss: 0.9515 - acc: 0.5292 - val_loss: 0.9653 - val_acc: 0.5030\n",
            "Epoch 57/500\n",
            "2755/2755 [==============================] - 0s 101us/step - loss: 0.9556 - acc: 0.5176 - val_loss: 0.9733 - val_acc: 0.5148\n",
            "Epoch 58/500\n",
            "2755/2755 [==============================] - 0s 102us/step - loss: 0.9614 - acc: 0.5198 - val_loss: 0.9704 - val_acc: 0.5097\n",
            "Epoch 59/500\n",
            "2755/2755 [==============================] - 0s 103us/step - loss: 0.9488 - acc: 0.5165 - val_loss: 0.9670 - val_acc: 0.5199\n",
            "Epoch 60/500\n",
            "2755/2755 [==============================] - 0s 100us/step - loss: 0.9528 - acc: 0.5187 - val_loss: 0.9796 - val_acc: 0.5157\n",
            "Epoch 61/500\n",
            "2755/2755 [==============================] - 0s 100us/step - loss: 0.9544 - acc: 0.5238 - val_loss: 0.9651 - val_acc: 0.5250\n",
            "Epoch 62/500\n",
            "2755/2755 [==============================] - 0s 103us/step - loss: 0.9423 - acc: 0.5263 - val_loss: 0.9681 - val_acc: 0.5072\n",
            "Epoch 63/500\n",
            "2755/2755 [==============================] - 0s 100us/step - loss: 0.9486 - acc: 0.5154 - val_loss: 0.9622 - val_acc: 0.5148\n",
            "Epoch 64/500\n",
            "2755/2755 [==============================] - 0s 98us/step - loss: 0.9447 - acc: 0.5278 - val_loss: 0.9693 - val_acc: 0.5004\n",
            "Epoch 65/500\n",
            "2755/2755 [==============================] - 0s 100us/step - loss: 0.9474 - acc: 0.5339 - val_loss: 0.9661 - val_acc: 0.5004\n",
            "Epoch 66/500\n",
            "2755/2755 [==============================] - 0s 104us/step - loss: 0.9512 - acc: 0.5223 - val_loss: 0.9620 - val_acc: 0.5140\n",
            "Epoch 67/500\n",
            "2755/2755 [==============================] - 0s 98us/step - loss: 0.9383 - acc: 0.5358 - val_loss: 0.9648 - val_acc: 0.5106\n",
            "Epoch 68/500\n",
            "2755/2755 [==============================] - 0s 97us/step - loss: 0.9426 - acc: 0.5383 - val_loss: 0.9648 - val_acc: 0.5021\n",
            "Epoch 69/500\n",
            "2755/2755 [==============================] - 0s 102us/step - loss: 0.9447 - acc: 0.5289 - val_loss: 0.9644 - val_acc: 0.5106\n",
            "Epoch 70/500\n",
            "2755/2755 [==============================] - 0s 101us/step - loss: 0.9259 - acc: 0.5441 - val_loss: 0.9619 - val_acc: 0.5004\n",
            "Epoch 71/500\n",
            "2755/2755 [==============================] - 0s 105us/step - loss: 0.9446 - acc: 0.5332 - val_loss: 0.9639 - val_acc: 0.4996\n",
            "Epoch 72/500\n",
            "2755/2755 [==============================] - 0s 100us/step - loss: 0.9317 - acc: 0.5441 - val_loss: 0.9642 - val_acc: 0.5165\n",
            "Epoch 73/500\n",
            "2755/2755 [==============================] - 0s 104us/step - loss: 0.9292 - acc: 0.5412 - val_loss: 0.9611 - val_acc: 0.5174\n",
            "Epoch 74/500\n",
            "2755/2755 [==============================] - 0s 104us/step - loss: 0.9270 - acc: 0.5514 - val_loss: 0.9653 - val_acc: 0.5131\n",
            "Epoch 75/500\n",
            "2755/2755 [==============================] - 0s 101us/step - loss: 0.9265 - acc: 0.5492 - val_loss: 0.9807 - val_acc: 0.5182\n",
            "Epoch 76/500\n",
            "2755/2755 [==============================] - 0s 100us/step - loss: 0.9232 - acc: 0.5572 - val_loss: 0.9621 - val_acc: 0.5191\n",
            "Epoch 77/500\n",
            "2755/2755 [==============================] - 0s 102us/step - loss: 0.9379 - acc: 0.5383 - val_loss: 0.9705 - val_acc: 0.5123\n",
            "Epoch 78/500\n",
            "2755/2755 [==============================] - 0s 102us/step - loss: 0.9395 - acc: 0.5437 - val_loss: 0.9694 - val_acc: 0.5080\n",
            "Epoch 79/500\n",
            "2755/2755 [==============================] - 0s 102us/step - loss: 0.9190 - acc: 0.5517 - val_loss: 0.9654 - val_acc: 0.5224\n",
            "Epoch 80/500\n",
            "2755/2755 [==============================] - 0s 102us/step - loss: 0.9147 - acc: 0.5579 - val_loss: 0.9669 - val_acc: 0.5250\n",
            "Epoch 81/500\n",
            "2755/2755 [==============================] - 0s 102us/step - loss: 0.9301 - acc: 0.5426 - val_loss: 0.9623 - val_acc: 0.5224\n",
            "Epoch 82/500\n",
            "2755/2755 [==============================] - 0s 97us/step - loss: 0.9137 - acc: 0.5557 - val_loss: 0.9651 - val_acc: 0.5148\n",
            "Epoch 83/500\n",
            "2755/2755 [==============================] - 0s 100us/step - loss: 0.9232 - acc: 0.5488 - val_loss: 0.9627 - val_acc: 0.5182\n",
            "Epoch 84/500\n",
            "2755/2755 [==============================] - 0s 107us/step - loss: 0.9243 - acc: 0.5583 - val_loss: 0.9655 - val_acc: 0.5292\n",
            "Epoch 85/500\n",
            "2755/2755 [==============================] - 0s 99us/step - loss: 0.9207 - acc: 0.5550 - val_loss: 0.9550 - val_acc: 0.5216\n",
            "Epoch 86/500\n",
            "2755/2755 [==============================] - 0s 100us/step - loss: 0.9211 - acc: 0.5586 - val_loss: 0.9708 - val_acc: 0.5301\n",
            "Epoch 87/500\n",
            "2755/2755 [==============================] - 0s 97us/step - loss: 0.9150 - acc: 0.5615 - val_loss: 0.9585 - val_acc: 0.5241\n",
            "Epoch 88/500\n",
            "2755/2755 [==============================] - 0s 103us/step - loss: 0.9083 - acc: 0.5539 - val_loss: 0.9624 - val_acc: 0.5326\n",
            "Epoch 89/500\n",
            "2755/2755 [==============================] - 0s 99us/step - loss: 0.9087 - acc: 0.5623 - val_loss: 0.9614 - val_acc: 0.5258\n",
            "Epoch 90/500\n",
            "2755/2755 [==============================] - 0s 98us/step - loss: 0.9141 - acc: 0.5608 - val_loss: 0.9575 - val_acc: 0.5351\n",
            "Epoch 91/500\n",
            "2755/2755 [==============================] - 0s 103us/step - loss: 0.9087 - acc: 0.5532 - val_loss: 0.9587 - val_acc: 0.5301\n",
            "Epoch 92/500\n",
            "2755/2755 [==============================] - 0s 99us/step - loss: 0.9014 - acc: 0.5604 - val_loss: 0.9688 - val_acc: 0.5402\n",
            "Epoch 93/500\n",
            "2755/2755 [==============================] - 0s 97us/step - loss: 0.9022 - acc: 0.5608 - val_loss: 0.9594 - val_acc: 0.5360\n",
            "Epoch 94/500\n",
            "2755/2755 [==============================] - 0s 99us/step - loss: 0.9049 - acc: 0.5521 - val_loss: 0.9627 - val_acc: 0.5360\n",
            "Epoch 95/500\n",
            "2755/2755 [==============================] - 0s 105us/step - loss: 0.8989 - acc: 0.5601 - val_loss: 0.9558 - val_acc: 0.5334\n",
            "Epoch 96/500\n",
            "2755/2755 [==============================] - 0s 102us/step - loss: 0.9003 - acc: 0.5826 - val_loss: 0.9672 - val_acc: 0.5343\n",
            "Epoch 97/500\n",
            "2755/2755 [==============================] - 0s 100us/step - loss: 0.8929 - acc: 0.5655 - val_loss: 0.9653 - val_acc: 0.5334\n",
            "Epoch 98/500\n",
            "2755/2755 [==============================] - 0s 99us/step - loss: 0.8887 - acc: 0.5731 - val_loss: 0.9601 - val_acc: 0.5157\n",
            "Epoch 99/500\n",
            "2755/2755 [==============================] - 0s 104us/step - loss: 0.8804 - acc: 0.5742 - val_loss: 0.9561 - val_acc: 0.5445\n",
            "Epoch 100/500\n",
            "2755/2755 [==============================] - 0s 98us/step - loss: 0.8877 - acc: 0.5753 - val_loss: 0.9670 - val_acc: 0.5402\n",
            "Epoch 101/500\n",
            "2755/2755 [==============================] - 0s 97us/step - loss: 0.8907 - acc: 0.5771 - val_loss: 0.9536 - val_acc: 0.5351\n",
            "Epoch 102/500\n",
            "2755/2755 [==============================] - 0s 104us/step - loss: 0.8802 - acc: 0.5811 - val_loss: 0.9639 - val_acc: 0.5275\n",
            "Epoch 103/500\n",
            "2755/2755 [==============================] - 0s 101us/step - loss: 0.8814 - acc: 0.5833 - val_loss: 0.9626 - val_acc: 0.5334\n",
            "Epoch 104/500\n",
            "2755/2755 [==============================] - 0s 98us/step - loss: 0.8750 - acc: 0.5829 - val_loss: 0.9578 - val_acc: 0.5343\n",
            "Epoch 105/500\n",
            "2755/2755 [==============================] - 0s 97us/step - loss: 0.8774 - acc: 0.5869 - val_loss: 0.9735 - val_acc: 0.5368\n",
            "Epoch 106/500\n",
            "2755/2755 [==============================] - 0s 101us/step - loss: 0.8847 - acc: 0.5779 - val_loss: 0.9624 - val_acc: 0.5360\n",
            "Epoch 107/500\n",
            "2755/2755 [==============================] - 0s 98us/step - loss: 0.8893 - acc: 0.5833 - val_loss: 0.9575 - val_acc: 0.5377\n",
            "Epoch 108/500\n",
            "2755/2755 [==============================] - 0s 97us/step - loss: 0.8835 - acc: 0.5829 - val_loss: 0.9596 - val_acc: 0.5461\n",
            "Epoch 109/500\n",
            "2755/2755 [==============================] - 0s 97us/step - loss: 0.8571 - acc: 0.5982 - val_loss: 0.9638 - val_acc: 0.5309\n",
            "Epoch 110/500\n",
            "2755/2755 [==============================] - 0s 105us/step - loss: 0.8727 - acc: 0.5946 - val_loss: 0.9580 - val_acc: 0.5385\n",
            "Epoch 111/500\n",
            "2755/2755 [==============================] - 0s 97us/step - loss: 0.8619 - acc: 0.5851 - val_loss: 0.9666 - val_acc: 0.5326\n",
            "Epoch 112/500\n",
            "2755/2755 [==============================] - 0s 100us/step - loss: 0.8674 - acc: 0.5855 - val_loss: 0.9564 - val_acc: 0.5326\n",
            "Epoch 113/500\n",
            "2755/2755 [==============================] - 0s 104us/step - loss: 0.8552 - acc: 0.5935 - val_loss: 0.9544 - val_acc: 0.5436\n",
            "Epoch 114/500\n",
            "2755/2755 [==============================] - 0s 100us/step - loss: 0.8645 - acc: 0.5949 - val_loss: 0.9578 - val_acc: 0.5301\n",
            "Epoch 115/500\n",
            "2755/2755 [==============================] - 0s 98us/step - loss: 0.8682 - acc: 0.5858 - val_loss: 0.9543 - val_acc: 0.5529\n",
            "Epoch 116/500\n",
            "2755/2755 [==============================] - 0s 100us/step - loss: 0.8683 - acc: 0.5906 - val_loss: 0.9503 - val_acc: 0.5461\n",
            "Epoch 117/500\n",
            "2755/2755 [==============================] - 0s 102us/step - loss: 0.8594 - acc: 0.5862 - val_loss: 0.9656 - val_acc: 0.5402\n",
            "Epoch 118/500\n",
            "2755/2755 [==============================] - 0s 101us/step - loss: 0.8440 - acc: 0.6044 - val_loss: 0.9680 - val_acc: 0.5326\n",
            "Epoch 119/500\n",
            "2755/2755 [==============================] - 0s 99us/step - loss: 0.8531 - acc: 0.6015 - val_loss: 0.9665 - val_acc: 0.5487\n",
            "Epoch 120/500\n",
            "2755/2755 [==============================] - 0s 98us/step - loss: 0.8386 - acc: 0.6073 - val_loss: 0.9627 - val_acc: 0.5453\n",
            "Epoch 121/500\n",
            "2755/2755 [==============================] - 0s 103us/step - loss: 0.8523 - acc: 0.6083 - val_loss: 0.9582 - val_acc: 0.5394\n",
            "Epoch 122/500\n",
            "2755/2755 [==============================] - 0s 103us/step - loss: 0.8507 - acc: 0.5946 - val_loss: 0.9583 - val_acc: 0.5453\n",
            "Epoch 123/500\n",
            "2755/2755 [==============================] - 0s 100us/step - loss: 0.8459 - acc: 0.6076 - val_loss: 0.9459 - val_acc: 0.5428\n",
            "Epoch 124/500\n",
            "2755/2755 [==============================] - 0s 102us/step - loss: 0.8438 - acc: 0.6000 - val_loss: 0.9596 - val_acc: 0.5445\n",
            "Epoch 125/500\n",
            "2755/2755 [==============================] - 0s 100us/step - loss: 0.8473 - acc: 0.6062 - val_loss: 0.9713 - val_acc: 0.5470\n",
            "Epoch 126/500\n",
            "2755/2755 [==============================] - 0s 97us/step - loss: 0.8240 - acc: 0.6018 - val_loss: 0.9594 - val_acc: 0.5478\n",
            "Epoch 127/500\n",
            "2755/2755 [==============================] - 0s 100us/step - loss: 0.8364 - acc: 0.6214 - val_loss: 0.9454 - val_acc: 0.5445\n",
            "Epoch 128/500\n",
            "2755/2755 [==============================] - 0s 99us/step - loss: 0.8417 - acc: 0.6058 - val_loss: 0.9514 - val_acc: 0.5512\n",
            "Epoch 129/500\n",
            "2755/2755 [==============================] - 0s 102us/step - loss: 0.8392 - acc: 0.6080 - val_loss: 0.9518 - val_acc: 0.5428\n",
            "Epoch 130/500\n",
            "2755/2755 [==============================] - 0s 99us/step - loss: 0.8286 - acc: 0.6167 - val_loss: 0.9505 - val_acc: 0.5529\n",
            "Epoch 131/500\n",
            "2755/2755 [==============================] - 0s 100us/step - loss: 0.8237 - acc: 0.6200 - val_loss: 0.9628 - val_acc: 0.5538\n",
            "Epoch 132/500\n",
            "2755/2755 [==============================] - 0s 103us/step - loss: 0.8279 - acc: 0.6247 - val_loss: 0.9537 - val_acc: 0.5563\n",
            "Epoch 133/500\n",
            "2755/2755 [==============================] - 0s 99us/step - loss: 0.8230 - acc: 0.6138 - val_loss: 0.9628 - val_acc: 0.5453\n",
            "Epoch 134/500\n",
            "2755/2755 [==============================] - 0s 104us/step - loss: 0.8086 - acc: 0.6279 - val_loss: 0.9654 - val_acc: 0.5580\n",
            "Epoch 135/500\n",
            "2755/2755 [==============================] - 0s 99us/step - loss: 0.8210 - acc: 0.6174 - val_loss: 0.9509 - val_acc: 0.5512\n",
            "Epoch 136/500\n",
            "2755/2755 [==============================] - 0s 100us/step - loss: 0.8232 - acc: 0.6178 - val_loss: 0.9503 - val_acc: 0.5563\n",
            "Epoch 137/500\n",
            "2755/2755 [==============================] - 0s 102us/step - loss: 0.8225 - acc: 0.6225 - val_loss: 0.9535 - val_acc: 0.5360\n",
            "Epoch 138/500\n",
            "2755/2755 [==============================] - 0s 99us/step - loss: 0.8041 - acc: 0.6410 - val_loss: 0.9615 - val_acc: 0.5555\n",
            "Epoch 139/500\n",
            "2755/2755 [==============================] - 0s 101us/step - loss: 0.8131 - acc: 0.6229 - val_loss: 0.9602 - val_acc: 0.5699\n",
            "Epoch 140/500\n",
            "2755/2755 [==============================] - 0s 101us/step - loss: 0.8278 - acc: 0.6214 - val_loss: 0.9413 - val_acc: 0.5682\n",
            "Epoch 141/500\n",
            "2755/2755 [==============================] - 0s 102us/step - loss: 0.8061 - acc: 0.6410 - val_loss: 0.9452 - val_acc: 0.5690\n",
            "Epoch 142/500\n",
            "2755/2755 [==============================] - 0s 99us/step - loss: 0.8058 - acc: 0.6399 - val_loss: 0.9533 - val_acc: 0.5563\n",
            "Epoch 143/500\n",
            "2755/2755 [==============================] - 0s 100us/step - loss: 0.8131 - acc: 0.6377 - val_loss: 0.9515 - val_acc: 0.5563\n",
            "Epoch 144/500\n",
            "2755/2755 [==============================] - 0s 99us/step - loss: 0.8182 - acc: 0.6240 - val_loss: 0.9624 - val_acc: 0.5470\n",
            "Epoch 145/500\n",
            "2755/2755 [==============================] - 0s 98us/step - loss: 0.8059 - acc: 0.6370 - val_loss: 0.9426 - val_acc: 0.5622\n",
            "Epoch 146/500\n",
            "2755/2755 [==============================] - 0s 100us/step - loss: 0.7971 - acc: 0.6479 - val_loss: 0.9625 - val_acc: 0.5597\n",
            "Epoch 147/500\n",
            "2755/2755 [==============================] - 0s 101us/step - loss: 0.8017 - acc: 0.6410 - val_loss: 0.9458 - val_acc: 0.5572\n",
            "Epoch 148/500\n",
            "2755/2755 [==============================] - 0s 99us/step - loss: 0.7887 - acc: 0.6421 - val_loss: 0.9475 - val_acc: 0.5673\n",
            "Epoch 149/500\n",
            "2755/2755 [==============================] - 0s 100us/step - loss: 0.7989 - acc: 0.6385 - val_loss: 0.9497 - val_acc: 0.5758\n",
            "Epoch 150/500\n",
            "2755/2755 [==============================] - 0s 104us/step - loss: 0.7839 - acc: 0.6403 - val_loss: 0.9746 - val_acc: 0.5622\n",
            "Epoch 151/500\n",
            "2755/2755 [==============================] - 0s 100us/step - loss: 0.7922 - acc: 0.6428 - val_loss: 0.9488 - val_acc: 0.5665\n",
            "Epoch 152/500\n",
            "2755/2755 [==============================] - 0s 96us/step - loss: 0.7923 - acc: 0.6367 - val_loss: 0.9419 - val_acc: 0.5690\n",
            "Epoch 153/500\n",
            "2755/2755 [==============================] - 0s 98us/step - loss: 0.7787 - acc: 0.6428 - val_loss: 0.9447 - val_acc: 0.5859\n",
            "Epoch 154/500\n",
            "2755/2755 [==============================] - 0s 102us/step - loss: 0.7862 - acc: 0.6559 - val_loss: 0.9427 - val_acc: 0.5665\n",
            "Epoch 155/500\n",
            "2755/2755 [==============================] - 0s 99us/step - loss: 0.7738 - acc: 0.6432 - val_loss: 0.9476 - val_acc: 0.5766\n",
            "Epoch 156/500\n",
            "2755/2755 [==============================] - 0s 98us/step - loss: 0.7731 - acc: 0.6497 - val_loss: 0.9515 - val_acc: 0.5775\n",
            "Epoch 157/500\n",
            "2755/2755 [==============================] - 0s 98us/step - loss: 0.7787 - acc: 0.6457 - val_loss: 0.9399 - val_acc: 0.5809\n",
            "Epoch 158/500\n",
            "2755/2755 [==============================] - 0s 102us/step - loss: 0.7694 - acc: 0.6606 - val_loss: 0.9447 - val_acc: 0.5724\n",
            "Epoch 159/500\n",
            "2755/2755 [==============================] - 0s 98us/step - loss: 0.7648 - acc: 0.6617 - val_loss: 0.9386 - val_acc: 0.5775\n",
            "Epoch 160/500\n",
            "2755/2755 [==============================] - 0s 99us/step - loss: 0.7580 - acc: 0.6588 - val_loss: 0.9392 - val_acc: 0.5792\n",
            "Epoch 161/500\n",
            "2755/2755 [==============================] - 0s 108us/step - loss: 0.7524 - acc: 0.6672 - val_loss: 0.9457 - val_acc: 0.5665\n",
            "Epoch 162/500\n",
            "2755/2755 [==============================] - 0s 98us/step - loss: 0.7635 - acc: 0.6541 - val_loss: 0.9326 - val_acc: 0.5978\n",
            "Epoch 163/500\n",
            "2755/2755 [==============================] - 0s 97us/step - loss: 0.7606 - acc: 0.6639 - val_loss: 0.9351 - val_acc: 0.5809\n",
            "Epoch 164/500\n",
            "2755/2755 [==============================] - 0s 97us/step - loss: 0.7518 - acc: 0.6701 - val_loss: 0.9393 - val_acc: 0.5868\n",
            "Epoch 165/500\n",
            "2755/2755 [==============================] - 0s 99us/step - loss: 0.7527 - acc: 0.6780 - val_loss: 0.9633 - val_acc: 0.5876\n",
            "Epoch 166/500\n",
            "2755/2755 [==============================] - 0s 97us/step - loss: 0.7580 - acc: 0.6704 - val_loss: 0.9445 - val_acc: 0.5758\n",
            "Epoch 167/500\n",
            "2755/2755 [==============================] - 0s 100us/step - loss: 0.7355 - acc: 0.6751 - val_loss: 0.9314 - val_acc: 0.5809\n",
            "Epoch 168/500\n",
            "2755/2755 [==============================] - 0s 99us/step - loss: 0.7503 - acc: 0.6672 - val_loss: 0.9516 - val_acc: 0.5826\n",
            "Epoch 169/500\n",
            "2755/2755 [==============================] - 0s 100us/step - loss: 0.7474 - acc: 0.6624 - val_loss: 0.9365 - val_acc: 0.5859\n",
            "Epoch 170/500\n",
            "2755/2755 [==============================] - 0s 99us/step - loss: 0.7629 - acc: 0.6548 - val_loss: 0.9217 - val_acc: 0.5944\n",
            "Epoch 171/500\n",
            "2755/2755 [==============================] - 0s 99us/step - loss: 0.7410 - acc: 0.6711 - val_loss: 0.9314 - val_acc: 0.5851\n",
            "Epoch 172/500\n",
            "2755/2755 [==============================] - 0s 101us/step - loss: 0.7510 - acc: 0.6682 - val_loss: 0.9374 - val_acc: 0.5902\n",
            "Epoch 173/500\n",
            "2755/2755 [==============================] - 0s 96us/step - loss: 0.7319 - acc: 0.6777 - val_loss: 0.9590 - val_acc: 0.5775\n",
            "Epoch 174/500\n",
            "2755/2755 [==============================] - 0s 95us/step - loss: 0.7460 - acc: 0.6722 - val_loss: 0.9275 - val_acc: 0.5944\n",
            "Epoch 175/500\n",
            "2755/2755 [==============================] - 0s 101us/step - loss: 0.7321 - acc: 0.6806 - val_loss: 0.9330 - val_acc: 0.5792\n",
            "Epoch 176/500\n",
            "2755/2755 [==============================] - 0s 99us/step - loss: 0.7274 - acc: 0.6795 - val_loss: 0.9448 - val_acc: 0.5910\n",
            "Epoch 177/500\n",
            "2755/2755 [==============================] - 0s 98us/step - loss: 0.7410 - acc: 0.6773 - val_loss: 0.9291 - val_acc: 0.5953\n",
            "Epoch 178/500\n",
            "2755/2755 [==============================] - 0s 99us/step - loss: 0.7253 - acc: 0.6748 - val_loss: 0.9356 - val_acc: 0.5817\n",
            "Epoch 179/500\n",
            "2755/2755 [==============================] - 0s 99us/step - loss: 0.7449 - acc: 0.6730 - val_loss: 0.9216 - val_acc: 0.5885\n",
            "Epoch 180/500\n",
            "2755/2755 [==============================] - 0s 104us/step - loss: 0.7363 - acc: 0.6711 - val_loss: 0.9417 - val_acc: 0.5953\n",
            "Epoch 181/500\n",
            "2755/2755 [==============================] - 0s 102us/step - loss: 0.7083 - acc: 0.6878 - val_loss: 0.9501 - val_acc: 0.5826\n",
            "Epoch 182/500\n",
            "2755/2755 [==============================] - 0s 100us/step - loss: 0.7072 - acc: 0.6966 - val_loss: 0.9620 - val_acc: 0.5800\n",
            "Epoch 183/500\n",
            "2755/2755 [==============================] - 0s 97us/step - loss: 0.7043 - acc: 0.6987 - val_loss: 0.9450 - val_acc: 0.5893\n",
            "Epoch 184/500\n",
            "2755/2755 [==============================] - 0s 98us/step - loss: 0.7154 - acc: 0.6835 - val_loss: 0.9533 - val_acc: 0.5876\n",
            "Epoch 185/500\n",
            "2755/2755 [==============================] - 0s 99us/step - loss: 0.7071 - acc: 0.6969 - val_loss: 0.9519 - val_acc: 0.5851\n",
            "Epoch 186/500\n",
            "2755/2755 [==============================] - 0s 100us/step - loss: 0.7111 - acc: 0.6846 - val_loss: 0.9502 - val_acc: 0.5902\n",
            "Epoch 187/500\n",
            "2755/2755 [==============================] - 0s 99us/step - loss: 0.7114 - acc: 0.6940 - val_loss: 0.9498 - val_acc: 0.5919\n",
            "Epoch 188/500\n",
            "2755/2755 [==============================] - 0s 98us/step - loss: 0.7138 - acc: 0.6857 - val_loss: 0.9386 - val_acc: 0.5936\n",
            "Epoch 189/500\n",
            "2755/2755 [==============================] - 0s 102us/step - loss: 0.6959 - acc: 0.6976 - val_loss: 0.9299 - val_acc: 0.6139\n",
            "Epoch 190/500\n",
            "2755/2755 [==============================] - 0s 96us/step - loss: 0.7172 - acc: 0.6846 - val_loss: 0.9388 - val_acc: 0.5902\n",
            "Epoch 191/500\n",
            "2755/2755 [==============================] - 0s 100us/step - loss: 0.7077 - acc: 0.6813 - val_loss: 0.9470 - val_acc: 0.5910\n",
            "Epoch 192/500\n",
            "2755/2755 [==============================] - 0s 98us/step - loss: 0.6922 - acc: 0.6958 - val_loss: 0.9473 - val_acc: 0.6020\n",
            "Epoch 193/500\n",
            "2755/2755 [==============================] - 0s 96us/step - loss: 0.6772 - acc: 0.7074 - val_loss: 0.9379 - val_acc: 0.6046\n",
            "Epoch 194/500\n",
            "2755/2755 [==============================] - 0s 102us/step - loss: 0.6998 - acc: 0.6918 - val_loss: 0.9492 - val_acc: 0.6029\n",
            "Epoch 195/500\n",
            "2755/2755 [==============================] - 0s 100us/step - loss: 0.6993 - acc: 0.6947 - val_loss: 0.9392 - val_acc: 0.5978\n",
            "Epoch 196/500\n",
            "2755/2755 [==============================] - 0s 99us/step - loss: 0.6798 - acc: 0.7027 - val_loss: 0.9407 - val_acc: 0.5919\n",
            "Epoch 197/500\n",
            "2755/2755 [==============================] - 0s 98us/step - loss: 0.7057 - acc: 0.6951 - val_loss: 0.9290 - val_acc: 0.6020\n",
            "Epoch 198/500\n",
            "2755/2755 [==============================] - 0s 101us/step - loss: 0.7109 - acc: 0.6849 - val_loss: 0.9490 - val_acc: 0.6029\n",
            "Epoch 199/500\n",
            "2755/2755 [==============================] - 0s 99us/step - loss: 0.7054 - acc: 0.6889 - val_loss: 0.9214 - val_acc: 0.6105\n",
            "Epoch 200/500\n",
            "2755/2755 [==============================] - 0s 103us/step - loss: 0.6758 - acc: 0.7049 - val_loss: 0.9402 - val_acc: 0.5910\n",
            "Epoch 201/500\n",
            "2755/2755 [==============================] - 0s 98us/step - loss: 0.6809 - acc: 0.7103 - val_loss: 0.9415 - val_acc: 0.6029\n",
            "Epoch 202/500\n",
            "2755/2755 [==============================] - 0s 98us/step - loss: 0.6807 - acc: 0.7180 - val_loss: 0.9595 - val_acc: 0.6029\n",
            "Epoch 203/500\n",
            "2755/2755 [==============================] - 0s 99us/step - loss: 0.6662 - acc: 0.7158 - val_loss: 0.9428 - val_acc: 0.5944\n",
            "Epoch 204/500\n",
            "2755/2755 [==============================] - 0s 98us/step - loss: 0.6795 - acc: 0.7096 - val_loss: 0.9311 - val_acc: 0.6071\n",
            "Epoch 205/500\n",
            "2755/2755 [==============================] - 0s 96us/step - loss: 0.6646 - acc: 0.7125 - val_loss: 0.9482 - val_acc: 0.6020\n",
            "Epoch 206/500\n",
            "2755/2755 [==============================] - 0s 100us/step - loss: 0.6882 - acc: 0.6966 - val_loss: 0.9448 - val_acc: 0.5970\n",
            "Epoch 207/500\n",
            "2755/2755 [==============================] - 0s 99us/step - loss: 0.6501 - acc: 0.7285 - val_loss: 0.9389 - val_acc: 0.6164\n",
            "Epoch 208/500\n",
            "2755/2755 [==============================] - 0s 97us/step - loss: 0.6828 - acc: 0.7024 - val_loss: 0.9206 - val_acc: 0.5961\n",
            "Epoch 209/500\n",
            "2755/2755 [==============================] - 0s 101us/step - loss: 0.6562 - acc: 0.7162 - val_loss: 0.9328 - val_acc: 0.6164\n",
            "Epoch 210/500\n",
            "2755/2755 [==============================] - 0s 100us/step - loss: 0.6557 - acc: 0.7154 - val_loss: 0.9468 - val_acc: 0.6122\n",
            "Epoch 211/500\n",
            "2755/2755 [==============================] - 0s 98us/step - loss: 0.6576 - acc: 0.7212 - val_loss: 0.9041 - val_acc: 0.6181\n",
            "Epoch 212/500\n",
            "2755/2755 [==============================] - 0s 95us/step - loss: 0.6674 - acc: 0.7053 - val_loss: 0.9453 - val_acc: 0.6063\n",
            "Epoch 213/500\n",
            "2755/2755 [==============================] - 0s 101us/step - loss: 0.6534 - acc: 0.7230 - val_loss: 0.9325 - val_acc: 0.6164\n",
            "Epoch 214/500\n",
            "2755/2755 [==============================] - 0s 98us/step - loss: 0.6614 - acc: 0.7169 - val_loss: 0.9686 - val_acc: 0.6020\n",
            "Epoch 215/500\n",
            "2755/2755 [==============================] - 0s 98us/step - loss: 0.6407 - acc: 0.7299 - val_loss: 0.9286 - val_acc: 0.6224\n",
            "Epoch 216/500\n",
            "2755/2755 [==============================] - 0s 98us/step - loss: 0.6525 - acc: 0.7249 - val_loss: 0.9192 - val_acc: 0.6198\n",
            "Epoch 217/500\n",
            "2755/2755 [==============================] - 0s 102us/step - loss: 0.6468 - acc: 0.7136 - val_loss: 0.9412 - val_acc: 0.5970\n",
            "Epoch 218/500\n",
            "2755/2755 [==============================] - 0s 99us/step - loss: 0.6536 - acc: 0.7114 - val_loss: 0.9252 - val_acc: 0.6139\n",
            "Epoch 219/500\n",
            "2755/2755 [==============================] - 0s 99us/step - loss: 0.6585 - acc: 0.7169 - val_loss: 0.9414 - val_acc: 0.6156\n",
            "Epoch 220/500\n",
            "2755/2755 [==============================] - 0s 96us/step - loss: 0.6539 - acc: 0.7165 - val_loss: 0.9404 - val_acc: 0.6097\n",
            "Epoch 221/500\n",
            "2755/2755 [==============================] - 0s 104us/step - loss: 0.6431 - acc: 0.7241 - val_loss: 0.9488 - val_acc: 0.6240\n",
            "Epoch 222/500\n",
            "2755/2755 [==============================] - 0s 101us/step - loss: 0.6262 - acc: 0.7408 - val_loss: 0.9469 - val_acc: 0.6207\n",
            "Epoch 223/500\n",
            "2755/2755 [==============================] - 0s 99us/step - loss: 0.6517 - acc: 0.7274 - val_loss: 0.9236 - val_acc: 0.6164\n",
            "Epoch 224/500\n",
            "2755/2755 [==============================] - 0s 100us/step - loss: 0.6247 - acc: 0.7303 - val_loss: 0.9458 - val_acc: 0.6240\n",
            "Epoch 225/500\n",
            "2755/2755 [==============================] - 0s 101us/step - loss: 0.6318 - acc: 0.7292 - val_loss: 0.9089 - val_acc: 0.6257\n",
            "Epoch 226/500\n",
            "2755/2755 [==============================] - 0s 99us/step - loss: 0.6456 - acc: 0.7318 - val_loss: 0.9286 - val_acc: 0.6224\n",
            "Epoch 227/500\n",
            "2755/2755 [==============================] - 0s 97us/step - loss: 0.6444 - acc: 0.7325 - val_loss: 0.9287 - val_acc: 0.6130\n",
            "Epoch 228/500\n",
            "2755/2755 [==============================] - 0s 102us/step - loss: 0.6334 - acc: 0.7358 - val_loss: 0.9342 - val_acc: 0.6097\n",
            "Epoch 229/500\n",
            "2755/2755 [==============================] - 0s 97us/step - loss: 0.6209 - acc: 0.7347 - val_loss: 0.9495 - val_acc: 0.6232\n",
            "Epoch 230/500\n",
            "2755/2755 [==============================] - 0s 99us/step - loss: 0.6234 - acc: 0.7292 - val_loss: 0.9377 - val_acc: 0.6215\n",
            "Epoch 231/500\n",
            "2755/2755 [==============================] - 0s 99us/step - loss: 0.6176 - acc: 0.7376 - val_loss: 0.9280 - val_acc: 0.6198\n",
            "Epoch 232/500\n",
            "2755/2755 [==============================] - 0s 99us/step - loss: 0.6243 - acc: 0.7372 - val_loss: 0.9439 - val_acc: 0.6198\n",
            "Epoch 233/500\n",
            "2755/2755 [==============================] - 0s 98us/step - loss: 0.6148 - acc: 0.7426 - val_loss: 0.9386 - val_acc: 0.6249\n",
            "Epoch 234/500\n",
            "2755/2755 [==============================] - 0s 98us/step - loss: 0.6450 - acc: 0.7216 - val_loss: 0.9357 - val_acc: 0.6232\n",
            "Epoch 235/500\n",
            "2755/2755 [==============================] - 0s 98us/step - loss: 0.6183 - acc: 0.7437 - val_loss: 0.9641 - val_acc: 0.6063\n",
            "Epoch 236/500\n",
            "2755/2755 [==============================] - 0s 100us/step - loss: 0.6155 - acc: 0.7466 - val_loss: 0.9497 - val_acc: 0.6249\n",
            "Epoch 237/500\n",
            "2755/2755 [==============================] - 0s 96us/step - loss: 0.6150 - acc: 0.7416 - val_loss: 0.9425 - val_acc: 0.6232\n",
            "Epoch 238/500\n",
            "2755/2755 [==============================] - 0s 97us/step - loss: 0.6143 - acc: 0.7249 - val_loss: 0.9635 - val_acc: 0.6181\n",
            "Epoch 239/500\n",
            "2755/2755 [==============================] - 0s 103us/step - loss: 0.6042 - acc: 0.7550 - val_loss: 0.9386 - val_acc: 0.6156\n",
            "Epoch 240/500\n",
            "2755/2755 [==============================] - 0s 103us/step - loss: 0.6484 - acc: 0.7201 - val_loss: 0.9501 - val_acc: 0.6232\n",
            "Epoch 241/500\n",
            "2755/2755 [==============================] - 0s 97us/step - loss: 0.6107 - acc: 0.7459 - val_loss: 0.9521 - val_acc: 0.6266\n",
            "Epoch 242/500\n",
            "2755/2755 [==============================] - 0s 98us/step - loss: 0.5985 - acc: 0.7488 - val_loss: 0.9384 - val_acc: 0.6283\n",
            "Epoch 243/500\n",
            "2755/2755 [==============================] - 0s 100us/step - loss: 0.5951 - acc: 0.7579 - val_loss: 0.9506 - val_acc: 0.6257\n",
            "Epoch 244/500\n",
            "2755/2755 [==============================] - 0s 100us/step - loss: 0.6071 - acc: 0.7543 - val_loss: 0.9514 - val_acc: 0.6164\n",
            "Epoch 245/500\n",
            "2755/2755 [==============================] - 0s 97us/step - loss: 0.6190 - acc: 0.7412 - val_loss: 0.9252 - val_acc: 0.6274\n",
            "Epoch 246/500\n",
            "2755/2755 [==============================] - 0s 95us/step - loss: 0.5896 - acc: 0.7593 - val_loss: 0.9464 - val_acc: 0.6207\n",
            "Epoch 247/500\n",
            "2755/2755 [==============================] - 0s 98us/step - loss: 0.5972 - acc: 0.7481 - val_loss: 0.9438 - val_acc: 0.6063\n",
            "Epoch 248/500\n",
            "2755/2755 [==============================] - 0s 100us/step - loss: 0.6125 - acc: 0.7452 - val_loss: 0.9707 - val_acc: 0.6300\n",
            "Epoch 249/500\n",
            "2755/2755 [==============================] - 0s 99us/step - loss: 0.6095 - acc: 0.7383 - val_loss: 0.9248 - val_acc: 0.6359\n",
            "Epoch 250/500\n",
            "2755/2755 [==============================] - 0s 97us/step - loss: 0.6091 - acc: 0.7448 - val_loss: 0.9618 - val_acc: 0.6181\n",
            "Epoch 251/500\n",
            "2755/2755 [==============================] - 0s 101us/step - loss: 0.5941 - acc: 0.7517 - val_loss: 0.9457 - val_acc: 0.6351\n",
            "Epoch 252/500\n",
            "2755/2755 [==============================] - 0s 99us/step - loss: 0.5838 - acc: 0.7623 - val_loss: 0.9461 - val_acc: 0.6266\n",
            "Epoch 253/500\n",
            "2755/2755 [==============================] - 0s 101us/step - loss: 0.6014 - acc: 0.7401 - val_loss: 0.9464 - val_acc: 0.6376\n",
            "Epoch 254/500\n",
            "2755/2755 [==============================] - 0s 99us/step - loss: 0.5993 - acc: 0.7437 - val_loss: 0.9291 - val_acc: 0.6384\n",
            "Epoch 255/500\n",
            "2755/2755 [==============================] - 0s 100us/step - loss: 0.5848 - acc: 0.7543 - val_loss: 0.9423 - val_acc: 0.6359\n",
            "Epoch 256/500\n",
            "2755/2755 [==============================] - 0s 99us/step - loss: 0.5770 - acc: 0.7615 - val_loss: 0.9830 - val_acc: 0.6308\n",
            "Epoch 257/500\n",
            "2755/2755 [==============================] - 0s 97us/step - loss: 0.5901 - acc: 0.7485 - val_loss: 0.9386 - val_acc: 0.6266\n",
            "Epoch 258/500\n",
            "2755/2755 [==============================] - 0s 100us/step - loss: 0.5889 - acc: 0.7572 - val_loss: 0.9442 - val_acc: 0.6384\n",
            "Epoch 259/500\n",
            "2755/2755 [==============================] - 0s 96us/step - loss: 0.5786 - acc: 0.7666 - val_loss: 0.9317 - val_acc: 0.6435\n",
            "Epoch 260/500\n",
            "2755/2755 [==============================] - 0s 100us/step - loss: 0.5723 - acc: 0.7525 - val_loss: 0.9626 - val_acc: 0.6401\n",
            "Epoch 261/500\n",
            "2755/2755 [==============================] - 0s 98us/step - loss: 0.5823 - acc: 0.7615 - val_loss: 0.9713 - val_acc: 0.6266\n",
            "Epoch 262/500\n",
            "2755/2755 [==============================] - 0s 101us/step - loss: 0.5826 - acc: 0.7593 - val_loss: 0.9684 - val_acc: 0.6427\n",
            "Epoch 263/500\n",
            "2755/2755 [==============================] - 0s 98us/step - loss: 0.5777 - acc: 0.7662 - val_loss: 0.9657 - val_acc: 0.6266\n",
            "Epoch 264/500\n",
            "2755/2755 [==============================] - 0s 96us/step - loss: 0.5700 - acc: 0.7652 - val_loss: 0.9467 - val_acc: 0.6283\n",
            "Epoch 265/500\n",
            "2755/2755 [==============================] - 0s 97us/step - loss: 0.5701 - acc: 0.7691 - val_loss: 0.9556 - val_acc: 0.6308\n",
            "Epoch 266/500\n",
            "2755/2755 [==============================] - 0s 101us/step - loss: 0.5646 - acc: 0.7695 - val_loss: 0.9478 - val_acc: 0.6359\n",
            "Epoch 267/500\n",
            "2755/2755 [==============================] - 0s 96us/step - loss: 0.5790 - acc: 0.7655 - val_loss: 0.9414 - val_acc: 0.6334\n",
            "Epoch 268/500\n",
            "2755/2755 [==============================] - 0s 96us/step - loss: 0.5740 - acc: 0.7641 - val_loss: 0.9652 - val_acc: 0.6384\n",
            "Epoch 269/500\n",
            "2755/2755 [==============================] - 0s 100us/step - loss: 0.5847 - acc: 0.7590 - val_loss: 0.9547 - val_acc: 0.6308\n",
            "Epoch 270/500\n",
            "2755/2755 [==============================] - 0s 99us/step - loss: 0.5534 - acc: 0.7753 - val_loss: 0.9508 - val_acc: 0.6291\n",
            "Epoch 271/500\n",
            "2755/2755 [==============================] - 0s 98us/step - loss: 0.5648 - acc: 0.7623 - val_loss: 0.9553 - val_acc: 0.6418\n",
            "Epoch 272/500\n",
            "2755/2755 [==============================] - 0s 97us/step - loss: 0.5696 - acc: 0.7572 - val_loss: 0.9533 - val_acc: 0.6367\n",
            "Epoch 273/500\n",
            "2755/2755 [==============================] - 0s 100us/step - loss: 0.5484 - acc: 0.7626 - val_loss: 0.9581 - val_acc: 0.6215\n",
            "Epoch 274/500\n",
            "2755/2755 [==============================] - 0s 100us/step - loss: 0.5708 - acc: 0.7677 - val_loss: 0.9382 - val_acc: 0.6325\n",
            "Epoch 275/500\n",
            "2755/2755 [==============================] - 0s 98us/step - loss: 0.5689 - acc: 0.7750 - val_loss: 0.9537 - val_acc: 0.6274\n",
            "Epoch 276/500\n",
            "2755/2755 [==============================] - 0s 95us/step - loss: 0.5604 - acc: 0.7771 - val_loss: 0.9827 - val_acc: 0.6367\n",
            "Epoch 277/500\n",
            "2755/2755 [==============================] - 0s 100us/step - loss: 0.5625 - acc: 0.7757 - val_loss: 0.9589 - val_acc: 0.6401\n",
            "Epoch 278/500\n",
            "2755/2755 [==============================] - 0s 103us/step - loss: 0.5618 - acc: 0.7768 - val_loss: 1.0004 - val_acc: 0.6359\n",
            "Epoch 279/500\n",
            "2755/2755 [==============================] - 0s 97us/step - loss: 0.5618 - acc: 0.7684 - val_loss: 0.9703 - val_acc: 0.6435\n",
            "Epoch 280/500\n",
            "2755/2755 [==============================] - 0s 99us/step - loss: 0.5667 - acc: 0.7623 - val_loss: 0.9434 - val_acc: 0.6376\n",
            "Epoch 281/500\n",
            "2755/2755 [==============================] - 0s 101us/step - loss: 0.5636 - acc: 0.7706 - val_loss: 0.9465 - val_acc: 0.6461\n",
            "Epoch 282/500\n",
            "2755/2755 [==============================] - 0s 98us/step - loss: 0.5527 - acc: 0.7753 - val_loss: 0.9567 - val_acc: 0.6401\n",
            "Epoch 283/500\n",
            "2755/2755 [==============================] - 0s 97us/step - loss: 0.5602 - acc: 0.7710 - val_loss: 0.9508 - val_acc: 0.6393\n",
            "Epoch 284/500\n",
            "2755/2755 [==============================] - 0s 101us/step - loss: 0.5694 - acc: 0.7626 - val_loss: 0.9379 - val_acc: 0.6359\n",
            "Epoch 285/500\n",
            "2755/2755 [==============================] - 0s 98us/step - loss: 0.5799 - acc: 0.7637 - val_loss: 0.9517 - val_acc: 0.6334\n",
            "Epoch 286/500\n",
            "2755/2755 [==============================] - 0s 98us/step - loss: 0.5591 - acc: 0.7670 - val_loss: 0.9692 - val_acc: 0.6317\n",
            "Epoch 287/500\n",
            "2755/2755 [==============================] - 0s 98us/step - loss: 0.5459 - acc: 0.7869 - val_loss: 0.9547 - val_acc: 0.6478\n",
            "Epoch 288/500\n",
            "2755/2755 [==============================] - 0s 101us/step - loss: 0.5648 - acc: 0.7579 - val_loss: 0.9243 - val_acc: 0.6325\n",
            "Epoch 289/500\n",
            "2755/2755 [==============================] - 0s 98us/step - loss: 0.5438 - acc: 0.7713 - val_loss: 0.9729 - val_acc: 0.6300\n",
            "Epoch 290/500\n",
            "2755/2755 [==============================] - 0s 101us/step - loss: 0.5587 - acc: 0.7623 - val_loss: 0.9339 - val_acc: 0.6317\n",
            "Epoch 291/500\n",
            "2755/2755 [==============================] - 0s 97us/step - loss: 0.5541 - acc: 0.7623 - val_loss: 0.9575 - val_acc: 0.6291\n",
            "Epoch 292/500\n",
            "2755/2755 [==============================] - 0s 104us/step - loss: 0.5479 - acc: 0.7721 - val_loss: 0.9559 - val_acc: 0.6317\n",
            "Epoch 293/500\n",
            "2755/2755 [==============================] - 0s 100us/step - loss: 0.5743 - acc: 0.7706 - val_loss: 0.9380 - val_acc: 0.6410\n",
            "Epoch 294/500\n",
            "2755/2755 [==============================] - 0s 99us/step - loss: 0.5274 - acc: 0.7837 - val_loss: 0.9862 - val_acc: 0.6283\n",
            "Epoch 295/500\n",
            "2755/2755 [==============================] - 0s 103us/step - loss: 0.5541 - acc: 0.7688 - val_loss: 0.9536 - val_acc: 0.6274\n",
            "Epoch 296/500\n",
            "2755/2755 [==============================] - 0s 100us/step - loss: 0.5265 - acc: 0.7993 - val_loss: 0.9606 - val_acc: 0.6384\n",
            "Epoch 297/500\n",
            "2755/2755 [==============================] - 0s 97us/step - loss: 0.5437 - acc: 0.7764 - val_loss: 0.9476 - val_acc: 0.6461\n",
            "Epoch 298/500\n",
            "2755/2755 [==============================] - 0s 99us/step - loss: 0.5492 - acc: 0.7713 - val_loss: 0.9566 - val_acc: 0.6266\n",
            "Epoch 299/500\n",
            "2755/2755 [==============================] - 0s 100us/step - loss: 0.5354 - acc: 0.7764 - val_loss: 0.9539 - val_acc: 0.6308\n",
            "Epoch 300/500\n",
            "2755/2755 [==============================] - 0s 96us/step - loss: 0.5405 - acc: 0.7775 - val_loss: 0.9535 - val_acc: 0.6401\n",
            "Epoch 301/500\n",
            "2755/2755 [==============================] - 0s 98us/step - loss: 0.5419 - acc: 0.7811 - val_loss: 0.9769 - val_acc: 0.6317\n",
            "Epoch 302/500\n",
            "2755/2755 [==============================] - 0s 100us/step - loss: 0.5559 - acc: 0.7677 - val_loss: 0.9759 - val_acc: 0.6215\n",
            "Epoch 303/500\n",
            "2755/2755 [==============================] - 0s 100us/step - loss: 0.5623 - acc: 0.7746 - val_loss: 0.9456 - val_acc: 0.6503\n",
            "Epoch 304/500\n",
            "2755/2755 [==============================] - 0s 99us/step - loss: 0.5375 - acc: 0.7866 - val_loss: 0.9794 - val_acc: 0.6317\n",
            "Epoch 305/500\n",
            "2755/2755 [==============================] - 0s 97us/step - loss: 0.5585 - acc: 0.7706 - val_loss: 0.9525 - val_acc: 0.6308\n",
            "Epoch 306/500\n",
            "2755/2755 [==============================] - 0s 99us/step - loss: 0.5259 - acc: 0.7804 - val_loss: 0.9669 - val_acc: 0.6384\n",
            "Epoch 307/500\n",
            "2755/2755 [==============================] - 0s 102us/step - loss: 0.5345 - acc: 0.7829 - val_loss: 0.9707 - val_acc: 0.6461\n",
            "Epoch 308/500\n",
            "2755/2755 [==============================] - 0s 98us/step - loss: 0.5248 - acc: 0.7942 - val_loss: 0.9510 - val_acc: 0.6562\n",
            "Epoch 309/500\n",
            "2755/2755 [==============================] - 0s 98us/step - loss: 0.5177 - acc: 0.7953 - val_loss: 0.9684 - val_acc: 0.6418\n",
            "Epoch 310/500\n",
            "2755/2755 [==============================] - 0s 101us/step - loss: 0.5221 - acc: 0.7891 - val_loss: 0.9714 - val_acc: 0.6427\n",
            "Epoch 311/500\n",
            "2755/2755 [==============================] - 0s 96us/step - loss: 0.5148 - acc: 0.7924 - val_loss: 0.9917 - val_acc: 0.6257\n",
            "Epoch 312/500\n",
            "2755/2755 [==============================] - 0s 101us/step - loss: 0.5284 - acc: 0.7782 - val_loss: 0.9468 - val_acc: 0.6452\n",
            "Epoch 313/500\n",
            "2755/2755 [==============================] - 0s 96us/step - loss: 0.5287 - acc: 0.7848 - val_loss: 0.9694 - val_acc: 0.6384\n",
            "Epoch 314/500\n",
            "2755/2755 [==============================] - 0s 103us/step - loss: 0.5146 - acc: 0.7858 - val_loss: 0.9745 - val_acc: 0.6435\n",
            "Epoch 315/500\n",
            "2755/2755 [==============================] - 0s 99us/step - loss: 0.5192 - acc: 0.7953 - val_loss: 0.9855 - val_acc: 0.6511\n",
            "Epoch 316/500\n",
            "2755/2755 [==============================] - 0s 97us/step - loss: 0.5342 - acc: 0.7822 - val_loss: 0.9649 - val_acc: 0.6376\n",
            "Epoch 317/500\n",
            "2755/2755 [==============================] - 0s 105us/step - loss: 0.5148 - acc: 0.7913 - val_loss: 0.9708 - val_acc: 0.6393\n",
            "Epoch 318/500\n",
            "2755/2755 [==============================] - 0s 103us/step - loss: 0.5428 - acc: 0.7819 - val_loss: 0.9565 - val_acc: 0.6452\n",
            "Epoch 319/500\n",
            "2755/2755 [==============================] - 0s 99us/step - loss: 0.5133 - acc: 0.7920 - val_loss: 0.9939 - val_acc: 0.6427\n",
            "Epoch 320/500\n",
            "2755/2755 [==============================] - 0s 99us/step - loss: 0.5019 - acc: 0.7924 - val_loss: 0.9671 - val_acc: 0.6342\n",
            "Epoch 321/500\n",
            "2755/2755 [==============================] - 0s 102us/step - loss: 0.5058 - acc: 0.7837 - val_loss: 0.9708 - val_acc: 0.6401\n",
            "Epoch 322/500\n",
            "2755/2755 [==============================] - 0s 101us/step - loss: 0.5184 - acc: 0.7927 - val_loss: 1.0156 - val_acc: 0.6376\n",
            "Epoch 323/500\n",
            "2755/2755 [==============================] - 0s 98us/step - loss: 0.4923 - acc: 0.7953 - val_loss: 1.0013 - val_acc: 0.6418\n",
            "Epoch 324/500\n",
            "2755/2755 [==============================] - 0s 99us/step - loss: 0.4946 - acc: 0.7960 - val_loss: 0.9681 - val_acc: 0.6494\n",
            "Epoch 325/500\n",
            "2755/2755 [==============================] - 0s 103us/step - loss: 0.5290 - acc: 0.7906 - val_loss: 0.9710 - val_acc: 0.6384\n",
            "Epoch 326/500\n",
            "2755/2755 [==============================] - 0s 99us/step - loss: 0.5274 - acc: 0.7822 - val_loss: 0.9887 - val_acc: 0.6444\n",
            "Epoch 327/500\n",
            "2755/2755 [==============================] - 0s 103us/step - loss: 0.4963 - acc: 0.8080 - val_loss: 0.9643 - val_acc: 0.6571\n",
            "Epoch 328/500\n",
            "2755/2755 [==============================] - 0s 99us/step - loss: 0.5055 - acc: 0.7887 - val_loss: 0.9833 - val_acc: 0.6393\n",
            "Epoch 329/500\n",
            "2755/2755 [==============================] - 0s 105us/step - loss: 0.4940 - acc: 0.8051 - val_loss: 0.9803 - val_acc: 0.6579\n",
            "Epoch 330/500\n",
            "2755/2755 [==============================] - 0s 99us/step - loss: 0.5080 - acc: 0.7891 - val_loss: 0.9870 - val_acc: 0.6562\n",
            "Epoch 331/500\n",
            "2755/2755 [==============================] - 0s 102us/step - loss: 0.4924 - acc: 0.7971 - val_loss: 0.9946 - val_acc: 0.6384\n",
            "Epoch 332/500\n",
            "2755/2755 [==============================] - 0s 104us/step - loss: 0.5037 - acc: 0.7906 - val_loss: 1.0005 - val_acc: 0.6461\n",
            "Epoch 333/500\n",
            "2755/2755 [==============================] - 0s 99us/step - loss: 0.4996 - acc: 0.7964 - val_loss: 0.9803 - val_acc: 0.6520\n",
            "Epoch 334/500\n",
            "2755/2755 [==============================] - 0s 100us/step - loss: 0.5040 - acc: 0.7924 - val_loss: 0.9740 - val_acc: 0.6418\n",
            "Epoch 335/500\n",
            "2755/2755 [==============================] - 0s 99us/step - loss: 0.5166 - acc: 0.7880 - val_loss: 1.0158 - val_acc: 0.6418\n",
            "Epoch 336/500\n",
            "2755/2755 [==============================] - 0s 103us/step - loss: 0.5246 - acc: 0.7866 - val_loss: 0.9740 - val_acc: 0.6444\n",
            "Epoch 337/500\n",
            "2755/2755 [==============================] - 0s 101us/step - loss: 0.4886 - acc: 0.8029 - val_loss: 0.9780 - val_acc: 0.6452\n",
            "Epoch 338/500\n",
            "2755/2755 [==============================] - 0s 102us/step - loss: 0.5157 - acc: 0.7840 - val_loss: 0.9637 - val_acc: 0.6494\n",
            "Epoch 339/500\n",
            "2755/2755 [==============================] - 0s 104us/step - loss: 0.4855 - acc: 0.7942 - val_loss: 0.9756 - val_acc: 0.6494\n",
            "Epoch 340/500\n",
            "2755/2755 [==============================] - 0s 100us/step - loss: 0.4953 - acc: 0.7985 - val_loss: 0.9894 - val_acc: 0.6444\n",
            "Epoch 341/500\n",
            "2755/2755 [==============================] - 0s 102us/step - loss: 0.4999 - acc: 0.7906 - val_loss: 0.9920 - val_acc: 0.6435\n",
            "Epoch 342/500\n",
            "2755/2755 [==============================] - 0s 97us/step - loss: 0.4896 - acc: 0.8015 - val_loss: 0.9486 - val_acc: 0.6503\n",
            "Epoch 343/500\n",
            "2755/2755 [==============================] - 0s 101us/step - loss: 0.4824 - acc: 0.8105 - val_loss: 0.9790 - val_acc: 0.6435\n",
            "Epoch 344/500\n",
            "2755/2755 [==============================] - 0s 98us/step - loss: 0.5233 - acc: 0.7971 - val_loss: 1.0016 - val_acc: 0.6452\n",
            "Epoch 345/500\n",
            "2755/2755 [==============================] - 0s 102us/step - loss: 0.4793 - acc: 0.8156 - val_loss: 1.0014 - val_acc: 0.6520\n",
            "Epoch 346/500\n",
            "2755/2755 [==============================] - 0s 97us/step - loss: 0.4869 - acc: 0.8007 - val_loss: 0.9844 - val_acc: 0.6520\n",
            "Epoch 347/500\n",
            "2755/2755 [==============================] - 0s 99us/step - loss: 0.5139 - acc: 0.7924 - val_loss: 0.9813 - val_acc: 0.6486\n",
            "Epoch 348/500\n",
            "2755/2755 [==============================] - 0s 98us/step - loss: 0.5155 - acc: 0.7797 - val_loss: 1.0144 - val_acc: 0.6444\n",
            "Epoch 349/500\n",
            "2755/2755 [==============================] - 0s 95us/step - loss: 0.5036 - acc: 0.8018 - val_loss: 1.0206 - val_acc: 0.6317\n",
            "Epoch 350/500\n",
            "2755/2755 [==============================] - 0s 99us/step - loss: 0.4761 - acc: 0.8113 - val_loss: 1.0005 - val_acc: 0.6401\n",
            "Epoch 351/500\n",
            "2755/2755 [==============================] - 0s 100us/step - loss: 0.4733 - acc: 0.8131 - val_loss: 0.9661 - val_acc: 0.6545\n",
            "Epoch 352/500\n",
            "2755/2755 [==============================] - 0s 98us/step - loss: 0.4651 - acc: 0.8160 - val_loss: 0.9673 - val_acc: 0.6528\n",
            "Epoch 353/500\n",
            "2755/2755 [==============================] - 0s 98us/step - loss: 0.4541 - acc: 0.8200 - val_loss: 0.9934 - val_acc: 0.6528\n",
            "Epoch 354/500\n",
            "2755/2755 [==============================] - 0s 104us/step - loss: 0.4945 - acc: 0.8011 - val_loss: 1.0000 - val_acc: 0.6342\n",
            "Epoch 355/500\n",
            "2755/2755 [==============================] - 0s 102us/step - loss: 0.4913 - acc: 0.8102 - val_loss: 0.9751 - val_acc: 0.6511\n",
            "Epoch 356/500\n",
            "2755/2755 [==============================] - 0s 100us/step - loss: 0.5019 - acc: 0.7985 - val_loss: 0.9693 - val_acc: 0.6605\n",
            "Epoch 357/500\n",
            "2755/2755 [==============================] - 0s 98us/step - loss: 0.4911 - acc: 0.8036 - val_loss: 0.9627 - val_acc: 0.6520\n",
            "Epoch 358/500\n",
            "2755/2755 [==============================] - 0s 106us/step - loss: 0.4795 - acc: 0.8131 - val_loss: 0.9739 - val_acc: 0.6401\n",
            "Epoch 359/500\n",
            "2755/2755 [==============================] - 0s 97us/step - loss: 0.4799 - acc: 0.8091 - val_loss: 0.9691 - val_acc: 0.6588\n",
            "Epoch 360/500\n",
            "2755/2755 [==============================] - 0s 98us/step - loss: 0.4819 - acc: 0.8127 - val_loss: 1.0015 - val_acc: 0.6427\n",
            "Epoch 361/500\n",
            "2755/2755 [==============================] - 0s 98us/step - loss: 0.4813 - acc: 0.8011 - val_loss: 0.9798 - val_acc: 0.6588\n",
            "Epoch 362/500\n",
            "2755/2755 [==============================] - 0s 101us/step - loss: 0.4782 - acc: 0.8094 - val_loss: 0.9606 - val_acc: 0.6435\n",
            "Epoch 363/500\n",
            "2755/2755 [==============================] - 0s 98us/step - loss: 0.4893 - acc: 0.8058 - val_loss: 1.0157 - val_acc: 0.6494\n",
            "Epoch 364/500\n",
            "2755/2755 [==============================] - 0s 99us/step - loss: 0.4759 - acc: 0.8131 - val_loss: 0.9696 - val_acc: 0.6486\n",
            "Epoch 365/500\n",
            "2755/2755 [==============================] - 0s 100us/step - loss: 0.5115 - acc: 0.7960 - val_loss: 0.9692 - val_acc: 0.6511\n",
            "Epoch 366/500\n",
            "2755/2755 [==============================] - 0s 101us/step - loss: 0.4568 - acc: 0.8229 - val_loss: 0.9919 - val_acc: 0.6410\n",
            "Epoch 367/500\n",
            "2755/2755 [==============================] - 0s 101us/step - loss: 0.4895 - acc: 0.7978 - val_loss: 0.9761 - val_acc: 0.6579\n",
            "Epoch 368/500\n",
            "2755/2755 [==============================] - 0s 96us/step - loss: 0.4683 - acc: 0.8127 - val_loss: 1.0143 - val_acc: 0.6478\n",
            "Epoch 369/500\n",
            "2755/2755 [==============================] - 0s 101us/step - loss: 0.4646 - acc: 0.8200 - val_loss: 0.9733 - val_acc: 0.6638\n",
            "Epoch 370/500\n",
            "2755/2755 [==============================] - 0s 97us/step - loss: 0.4701 - acc: 0.8134 - val_loss: 1.0180 - val_acc: 0.6605\n",
            "Epoch 371/500\n",
            "2755/2755 [==============================] - 0s 98us/step - loss: 0.4588 - acc: 0.8138 - val_loss: 0.9888 - val_acc: 0.6638\n",
            "Epoch 372/500\n",
            "2755/2755 [==============================] - 0s 98us/step - loss: 0.4729 - acc: 0.8181 - val_loss: 1.0073 - val_acc: 0.6647\n",
            "Epoch 373/500\n",
            "2755/2755 [==============================] - 0s 103us/step - loss: 0.4577 - acc: 0.8134 - val_loss: 0.9979 - val_acc: 0.6664\n",
            "Epoch 374/500\n",
            "2755/2755 [==============================] - 0s 98us/step - loss: 0.4463 - acc: 0.8309 - val_loss: 0.9973 - val_acc: 0.6588\n",
            "Epoch 375/500\n",
            "2755/2755 [==============================] - 0s 100us/step - loss: 0.4780 - acc: 0.8025 - val_loss: 0.9971 - val_acc: 0.6596\n",
            "Epoch 376/500\n",
            "2755/2755 [==============================] - 0s 96us/step - loss: 0.4756 - acc: 0.8069 - val_loss: 1.0153 - val_acc: 0.6562\n",
            "Epoch 377/500\n",
            "2755/2755 [==============================] - 0s 99us/step - loss: 0.4795 - acc: 0.8000 - val_loss: 0.9881 - val_acc: 0.6588\n",
            "Epoch 378/500\n",
            "2755/2755 [==============================] - 0s 97us/step - loss: 0.4615 - acc: 0.8138 - val_loss: 0.9989 - val_acc: 0.6503\n",
            "Epoch 379/500\n",
            "2755/2755 [==============================] - 0s 97us/step - loss: 0.4630 - acc: 0.8174 - val_loss: 1.0060 - val_acc: 0.6537\n",
            "Epoch 380/500\n",
            "2755/2755 [==============================] - 0s 99us/step - loss: 0.4623 - acc: 0.8131 - val_loss: 1.0007 - val_acc: 0.6478\n",
            "Epoch 381/500\n",
            "2755/2755 [==============================] - 0s 104us/step - loss: 0.4620 - acc: 0.8109 - val_loss: 1.0260 - val_acc: 0.6596\n",
            "Epoch 382/500\n",
            "2755/2755 [==============================] - 0s 97us/step - loss: 0.4685 - acc: 0.8134 - val_loss: 0.9870 - val_acc: 0.6706\n",
            "Epoch 383/500\n",
            "2755/2755 [==============================] - 0s 99us/step - loss: 0.4637 - acc: 0.8189 - val_loss: 1.0141 - val_acc: 0.6588\n",
            "Epoch 384/500\n",
            "2755/2755 [==============================] - 0s 102us/step - loss: 0.4842 - acc: 0.8083 - val_loss: 1.0244 - val_acc: 0.6613\n",
            "Epoch 385/500\n",
            "2755/2755 [==============================] - 0s 98us/step - loss: 0.4822 - acc: 0.8058 - val_loss: 0.9810 - val_acc: 0.6554\n",
            "Epoch 386/500\n",
            "2755/2755 [==============================] - 0s 97us/step - loss: 0.4519 - acc: 0.8145 - val_loss: 0.9937 - val_acc: 0.6571\n",
            "Epoch 387/500\n",
            "2755/2755 [==============================] - 0s 96us/step - loss: 0.4475 - acc: 0.8163 - val_loss: 1.0248 - val_acc: 0.6545\n",
            "Epoch 388/500\n",
            "2755/2755 [==============================] - 0s 100us/step - loss: 0.4704 - acc: 0.8229 - val_loss: 0.9871 - val_acc: 0.6638\n",
            "Epoch 389/500\n",
            "2755/2755 [==============================] - 0s 99us/step - loss: 0.4610 - acc: 0.8131 - val_loss: 1.0094 - val_acc: 0.6562\n",
            "Epoch 390/500\n",
            "2755/2755 [==============================] - 0s 98us/step - loss: 0.4843 - acc: 0.8087 - val_loss: 1.0085 - val_acc: 0.6545\n",
            "Epoch 391/500\n",
            "2755/2755 [==============================] - 0s 98us/step - loss: 0.4659 - acc: 0.8105 - val_loss: 1.0230 - val_acc: 0.6452\n",
            "Epoch 392/500\n",
            "2755/2755 [==============================] - 0s 101us/step - loss: 0.4300 - acc: 0.8294 - val_loss: 1.0177 - val_acc: 0.6562\n",
            "Epoch 393/500\n",
            "2755/2755 [==============================] - 0s 104us/step - loss: 0.4550 - acc: 0.8211 - val_loss: 1.0039 - val_acc: 0.6528\n",
            "Epoch 394/500\n",
            "2755/2755 [==============================] - 0s 98us/step - loss: 0.4425 - acc: 0.8214 - val_loss: 0.9981 - val_acc: 0.6554\n",
            "Epoch 395/500\n",
            "2755/2755 [==============================] - 0s 103us/step - loss: 0.4483 - acc: 0.8240 - val_loss: 1.0288 - val_acc: 0.6554\n",
            "Epoch 396/500\n",
            "2755/2755 [==============================] - 0s 99us/step - loss: 0.4849 - acc: 0.8098 - val_loss: 1.0029 - val_acc: 0.6537\n",
            "Epoch 397/500\n",
            "2755/2755 [==============================] - 0s 98us/step - loss: 0.4711 - acc: 0.8062 - val_loss: 0.9863 - val_acc: 0.6461\n",
            "Epoch 398/500\n",
            "2755/2755 [==============================] - 0s 98us/step - loss: 0.4585 - acc: 0.8178 - val_loss: 1.0090 - val_acc: 0.6528\n",
            "Epoch 399/500\n",
            "2755/2755 [==============================] - 0s 100us/step - loss: 0.4448 - acc: 0.8200 - val_loss: 0.9999 - val_acc: 0.6478\n",
            "Epoch 400/500\n",
            "2755/2755 [==============================] - 0s 100us/step - loss: 0.4653 - acc: 0.8185 - val_loss: 0.9789 - val_acc: 0.6664\n",
            "Epoch 401/500\n",
            "2755/2755 [==============================] - 0s 103us/step - loss: 0.4629 - acc: 0.8185 - val_loss: 0.9875 - val_acc: 0.6588\n",
            "Epoch 402/500\n",
            "2755/2755 [==============================] - 0s 97us/step - loss: 0.4482 - acc: 0.8305 - val_loss: 0.9895 - val_acc: 0.6503\n",
            "Epoch 403/500\n",
            "2755/2755 [==============================] - 0s 99us/step - loss: 0.4307 - acc: 0.8265 - val_loss: 1.0346 - val_acc: 0.6520\n",
            "Epoch 404/500\n",
            "2755/2755 [==============================] - 0s 95us/step - loss: 0.4253 - acc: 0.8367 - val_loss: 1.0434 - val_acc: 0.6494\n",
            "Epoch 405/500\n",
            "2755/2755 [==============================] - 0s 98us/step - loss: 0.4293 - acc: 0.8309 - val_loss: 1.0076 - val_acc: 0.6562\n",
            "Epoch 406/500\n",
            "2755/2755 [==============================] - 0s 97us/step - loss: 0.4484 - acc: 0.8221 - val_loss: 1.0197 - val_acc: 0.6579\n",
            "Epoch 407/500\n",
            "2755/2755 [==============================] - 0s 99us/step - loss: 0.4539 - acc: 0.8236 - val_loss: 1.0158 - val_acc: 0.6596\n",
            "Epoch 408/500\n",
            "2755/2755 [==============================] - 0s 98us/step - loss: 0.4492 - acc: 0.8225 - val_loss: 1.0477 - val_acc: 0.6528\n",
            "Epoch 409/500\n",
            "2755/2755 [==============================] - 0s 98us/step - loss: 0.4680 - acc: 0.8171 - val_loss: 1.0119 - val_acc: 0.6554\n",
            "Epoch 410/500\n",
            "2755/2755 [==============================] - 0s 100us/step - loss: 0.4432 - acc: 0.8218 - val_loss: 0.9910 - val_acc: 0.6706\n",
            "Epoch 411/500\n",
            "2755/2755 [==============================] - 0s 99us/step - loss: 0.4538 - acc: 0.8236 - val_loss: 1.0120 - val_acc: 0.6638\n",
            "Epoch 412/500\n",
            "2755/2755 [==============================] - 0s 99us/step - loss: 0.4372 - acc: 0.8330 - val_loss: 0.9976 - val_acc: 0.6554\n",
            "Epoch 413/500\n",
            "2755/2755 [==============================] - 0s 97us/step - loss: 0.4537 - acc: 0.8250 - val_loss: 1.0077 - val_acc: 0.6571\n",
            "Epoch 414/500\n",
            "2755/2755 [==============================] - 0s 100us/step - loss: 0.4271 - acc: 0.8265 - val_loss: 0.9752 - val_acc: 0.6672\n",
            "Epoch 415/500\n",
            "2755/2755 [==============================] - 0s 97us/step - loss: 0.4497 - acc: 0.8221 - val_loss: 0.9913 - val_acc: 0.6554\n",
            "Epoch 416/500\n",
            "2755/2755 [==============================] - 0s 97us/step - loss: 0.4157 - acc: 0.8301 - val_loss: 1.0258 - val_acc: 0.6613\n",
            "Epoch 417/500\n",
            "2755/2755 [==============================] - 0s 97us/step - loss: 0.4167 - acc: 0.8377 - val_loss: 1.0253 - val_acc: 0.6681\n",
            "Epoch 418/500\n",
            "2755/2755 [==============================] - 0s 104us/step - loss: 0.4321 - acc: 0.8225 - val_loss: 0.9975 - val_acc: 0.6622\n",
            "Epoch 419/500\n",
            "2755/2755 [==============================] - 0s 98us/step - loss: 0.4479 - acc: 0.8290 - val_loss: 0.9707 - val_acc: 0.6698\n",
            "Epoch 420/500\n",
            "2755/2755 [==============================] - 0s 100us/step - loss: 0.4410 - acc: 0.8298 - val_loss: 1.0038 - val_acc: 0.6596\n",
            "Epoch 421/500\n",
            "2755/2755 [==============================] - 0s 98us/step - loss: 0.4501 - acc: 0.8160 - val_loss: 1.0481 - val_acc: 0.6469\n",
            "Epoch 422/500\n",
            "2755/2755 [==============================] - 0s 102us/step - loss: 0.4541 - acc: 0.8178 - val_loss: 1.0235 - val_acc: 0.6571\n",
            "Epoch 423/500\n",
            "2755/2755 [==============================] - 0s 97us/step - loss: 0.4450 - acc: 0.8211 - val_loss: 1.0137 - val_acc: 0.6528\n",
            "Epoch 424/500\n",
            "2755/2755 [==============================] - 0s 99us/step - loss: 0.4509 - acc: 0.8345 - val_loss: 1.0192 - val_acc: 0.6537\n",
            "Epoch 425/500\n",
            "2755/2755 [==============================] - 0s 101us/step - loss: 0.4440 - acc: 0.8214 - val_loss: 1.0005 - val_acc: 0.6622\n",
            "Epoch 426/500\n",
            "2755/2755 [==============================] - 0s 98us/step - loss: 0.4264 - acc: 0.8348 - val_loss: 1.0059 - val_acc: 0.6537\n",
            "Epoch 427/500\n",
            "2755/2755 [==============================] - 0s 97us/step - loss: 0.4390 - acc: 0.8225 - val_loss: 0.9813 - val_acc: 0.6672\n",
            "Epoch 428/500\n",
            "2755/2755 [==============================] - 0s 100us/step - loss: 0.4442 - acc: 0.8258 - val_loss: 0.9854 - val_acc: 0.6571\n",
            "Epoch 429/500\n",
            "2755/2755 [==============================] - 0s 101us/step - loss: 0.4250 - acc: 0.8305 - val_loss: 1.0101 - val_acc: 0.6698\n",
            "Epoch 430/500\n",
            "2755/2755 [==============================] - 0s 99us/step - loss: 0.4296 - acc: 0.8287 - val_loss: 0.9941 - val_acc: 0.6689\n",
            "Epoch 431/500\n",
            "2755/2755 [==============================] - 0s 97us/step - loss: 0.4423 - acc: 0.8269 - val_loss: 1.0065 - val_acc: 0.6647\n",
            "Epoch 432/500\n",
            "2755/2755 [==============================] - 0s 101us/step - loss: 0.4046 - acc: 0.8410 - val_loss: 1.0011 - val_acc: 0.6664\n"
          ],
          "name": "stdout"
        }
      ]
    },
    {
      "cell_type": "markdown",
      "metadata": {
        "id": "xQ2Koxsz0Zun",
        "colab_type": "text"
      },
      "source": [
        "# 訓練過程評估"
      ]
    },
    {
      "cell_type": "code",
      "metadata": {
        "id": "2SxJIEDzbaZ7",
        "colab_type": "code",
        "outputId": "fecfb77c-1013-4c97-8cd2-b6f23007159e",
        "colab": {
          "base_uri": "https://localhost:8080/",
          "height": 269
        }
      },
      "source": [
        "import matplotlib.pyplot as plt\n",
        "fig, ax = plt.subplots(2,1)\n",
        "ax[0].plot(history.history['loss'], color='b', label=\"Training loss\")\n",
        "ax[0].plot(history.history['val_loss'], color='r', label=\"Validation loss\",axes =ax[0])\n",
        "ax[0].grid(color='black', linestyle='-', linewidth=0.25)\n",
        "legend = ax[0].legend(loc='best', shadow=True)\n",
        "\n",
        "ax[1].plot(history.history['acc'], color='b', label=\"Training accuracy\")\n",
        "ax[1].plot(history.history['val_acc'], color='r',label=\"Validation accuracy\")\n",
        "ax[1].grid(color='black', linestyle='-', linewidth=0.25)\n",
        "legend = ax[1].legend(loc='best', shadow=True)"
      ],
      "execution_count": 47,
      "outputs": [
        {
          "output_type": "display_data",
          "data": {
            "image/png": "[encoded data removed]",
            "text/plain": [
              "<Figure size 432x288 with 2 Axes>"
            ]
          },
          "metadata": {
            "tags": []
          }
        }
      ]
    },
    {
      "cell_type": "markdown",
      "metadata": {
        "id": "zWVmgHz80cCp",
        "colab_type": "text"
      },
      "source": [
        "# 混淆矩陣"
      ]
    },
    {
      "cell_type": "code",
      "metadata": {
        "id": "UH5CcmX6btme",
        "colab_type": "code",
        "outputId": "fb656c92-bbd1-443d-b9e7-e5521e0b3f08",
        "colab": {
          "base_uri": "https://localhost:8080/",
          "height": 311
        }
      },
      "source": [
        "from sklearn.metrics import confusion_matrix\n",
        "import itertools\n",
        "\n",
        "def plot_confusion_matrix(cm, classes, normalize=False, title='Confusion matrix', cmap=plt.cm.Blues):\n",
        "    plt.imshow(cm, interpolation='nearest', cmap=cmap)\n",
        "    plt.title(title)\n",
        "    plt.colorbar()\n",
        "    tick_marks = np.arange(len(classes))\n",
        "    plt.xticks(tick_marks, classes, rotation=45)\n",
        "    plt.yticks(tick_marks, classes)\n",
        "    if normalize:\n",
        "        cm = cm.astype('float') / cm.sum(axis=1)[:, np.newaxis]\n",
        "    thresh = cm.max() / 2.\n",
        "    for i, j in itertools.product(range(cm.shape[0]), range(cm.shape[1])):\n",
        "        plt.text(j, i, cm[i, j],\n",
        "                 horizontalalignment=\"center\",\n",
        "                 color=\"white\" if cm[i, j] > thresh else \"black\")\n",
        "    plt.tight_layout()\n",
        "    plt.ylabel('True label')\n",
        "    plt.xlabel('Predicted label')\n",
        "\n",
        "#預測的y\n",
        "ypred_onehot = model.predict(xval)\n",
        "#轉換預測的y: [0 0 1 0 0 ...] --> 2\n",
        "ypred = np.argmax(ypred_onehot,axis=1)\n",
        "#轉換真實的y\n",
        "ytrue = np.argmax(yval,axis=1)\n",
        "#計算 confusion matrix\n",
        "confusion_mtx = confusion_matrix(ytrue, ypred)\n",
        "#畫出 confusion matrix\n",
        "plot_confusion_matrix(confusion_mtx, classes=range(nclasses))"
      ],
      "execution_count": 48,
      "outputs": [
        {
          "output_type": "display_data",
          "data": {
            "image/png": "[encoded data removed]",
            "text/plain": [
              "<Figure size 432x288 with 2 Axes>"
            ]
          },
          "metadata": {
            "tags": []
          }
        }
      ]
    },
    {
      "cell_type": "markdown",
      "metadata": {
        "id": "PmgafP2rpjAO",
        "colab_type": "text"
      },
      "source": [
        "# 分類report"
      ]
    },
    {
      "cell_type": "markdown",
      "metadata": {
        "id": "zXQ8o9mj1Ydh",
        "colab_type": "text"
      },
      "source": [
        "轉換預測結果"
      ]
    },
    {
      "cell_type": "code",
      "metadata": {
        "id": "lCSuw9cYqEYk",
        "colab_type": "code",
        "outputId": "2bf7d0da-a130-46bf-c779-8fd9de65db20",
        "colab": {
          "base_uri": "https://localhost:8080/",
          "height": 106
        }
      },
      "source": [
        "y_pred = model.predict(xval)\n",
        "y_pred = [np.argmax(i) for i in y_pred]\n",
        "y_pred = to_categorical(y_pred, num_classes = 3)\n",
        "print(y_pred[:5])"
      ],
      "execution_count": 49,
      "outputs": [
        {
          "output_type": "stream",
          "text": [
            "[[0. 1. 0.]\n",
            " [0. 1. 0.]\n",
            " [0. 0. 1.]\n",
            " [0. 0. 1.]\n",
            " [0. 0. 1.]]\n"
          ],
          "name": "stdout"
        }
      ]
    },
    {
      "cell_type": "markdown",
      "metadata": {
        "id": "XrHrpsVb1avA",
        "colab_type": "text"
      },
      "source": [
        "真實y值"
      ]
    },
    {
      "cell_type": "code",
      "metadata": {
        "id": "T2tyxRdo1Mqm",
        "colab_type": "code",
        "outputId": "c0fa298a-4f44-426e-8a4a-6449f0597473",
        "colab": {
          "base_uri": "https://localhost:8080/",
          "height": 106
        }
      },
      "source": [
        "print(yval[:5])"
      ],
      "execution_count": 50,
      "outputs": [
        {
          "output_type": "stream",
          "text": [
            "[[0. 1. 0.]\n",
            " [1. 0. 0.]\n",
            " [0. 1. 0.]\n",
            " [1. 0. 0.]\n",
            " [0. 1. 0.]]\n"
          ],
          "name": "stdout"
        }
      ]
    },
    {
      "cell_type": "markdown",
      "metadata": {
        "id": "wztZOw2r1ddE",
        "colab_type": "text"
      },
      "source": [
        "# 分類報告"
      ]
    },
    {
      "cell_type": "code",
      "metadata": {
        "id": "vzMaU-Y8pjJT",
        "colab_type": "code",
        "outputId": "4fdeda11-c31a-47b9-d8b2-8f799ef123e6",
        "colab": {
          "base_uri": "https://localhost:8080/",
          "height": 212
        }
      },
      "source": [
        "from sklearn.metrics import classification_report \n",
        "target_names = ['Hold','BUY','SELL']\n",
        "print(classification_report(yval,y_pred,target_names=target_names))"
      ],
      "execution_count": 51,
      "outputs": [
        {
          "output_type": "stream",
          "text": [
            "              precision    recall  f1-score   support\n",
            "\n",
            "        Hold       0.68      0.65      0.66       415\n",
            "         BUY       0.65      0.67      0.66       385\n",
            "        SELL       0.68      0.70      0.69       381\n",
            "\n",
            "   micro avg       0.67      0.67      0.67      1181\n",
            "   macro avg       0.67      0.67      0.67      1181\n",
            "weighted avg       0.67      0.67      0.67      1181\n",
            " samples avg       0.67      0.67      0.67      1181\n",
            "\n"
          ],
          "name": "stdout"
        }
      ]
    },
    {
      "cell_type": "markdown",
      "metadata": {
        "id": "n-KXEoZLb9ie",
        "colab_type": "text"
      },
      "source": [
        "# plot error"
      ]
    },
    {
      "cell_type": "code",
      "metadata": {
        "id": "nCW5Xvtrb0fC",
        "colab_type": "code",
        "outputId": "a075a773-1a20-4a30-badb-4fc47556e0da",
        "colab": {
          "base_uri": "https://localhost:8080/",
          "height": 293
        }
      },
      "source": [
        "errors = (ypred - ytrue != 0)\n",
        "\n",
        "ypred_er = ypred_onehot[errors]\n",
        "ypred_classes_er = ypred[errors]\n",
        "ytrue_er = ytrue[errors]\n",
        "xval_er = xval[errors]\n",
        "\n",
        "def display_errors(errors_index, img_errors, pred_errors, obs_errors):\n",
        "    n = 0\n",
        "    nrows = 2\n",
        "    ncols = 3\n",
        "    fig, ax = plt.subplots(nrows, ncols, sharex=True, sharey=True)\n",
        "    plt.subplots_adjust(wspace =0.5, hspace =0.5)\n",
        "    for row in range(nrows):\n",
        "        for col in range(ncols):\n",
        "            error = errors_index[n]\n",
        "            ax[row,col].imshow((img_errors[error]).reshape((days,len(features))))\n",
        "            ax[row,col].set_title(\"Predicted label :{}\\nTrue label :{}\".format(pred_errors[error],obs_errors[error]))\n",
        "            n += 1\n",
        "            \n",
        "# 錯誤預測的概率\n",
        "ypred_er_prob = np.max(ypred_er,axis=1)\n",
        "\n",
        "# Predicted probabilities of the true values in the error set\n",
        "true_prob_er = np.diagonal(np.take(ypred_er, ytrue_er, axis=1))\n",
        "\n",
        "# Difference between the probability of the predicted label and the true label\n",
        "delta_pred_true_er = ypred_er_prob - true_prob_er\n",
        "\n",
        "# Sorted list of the delta prob errors\n",
        "sorted_delta_er = np.argsort(delta_pred_true_er)\n",
        "\n",
        "# Top 6 errors. You can change the range to see other images\n",
        "most_important_er = sorted_delta_er[-6:]\n",
        "\n",
        "# Show the top 6 errors\n",
        "display_errors(most_important_er, xval_er, ypred_classes_er, ytrue_er)"
      ],
      "execution_count": 52,
      "outputs": [
        {
          "output_type": "display_data",
          "data": {
            "image/png": "[encoded data removed]",
            "text/plain": [
              "<Figure size 432x288 with 6 Axes>"
            ]
          },
          "metadata": {
            "tags": []
          }
        }
      ]
    },
    {
      "cell_type": "markdown",
      "metadata": {
        "id": "togdM5Afo71w",
        "colab_type": "text"
      },
      "source": [
        "# model預測最近40筆"
      ]
    },
    {
      "cell_type": "code",
      "metadata": {
        "id": "kQqzNPdQo8GW",
        "colab_type": "code",
        "outputId": "5b8cb808-1cc7-48a5-d5f5-bdb234d776e8",
        "colab": {
          "base_uri": "https://localhost:8080/",
          "height": 35
        }
      },
      "source": [
        "answer = model.predict(X_test)#model預測買賣信號\n",
        "answer = [ np.argmax(i) for i in answer]\n",
        "print(len(answer))"
      ],
      "execution_count": 53,
      "outputs": [
        {
          "output_type": "stream",
          "text": [
            "40\n"
          ],
          "name": "stdout"
        }
      ]
    },
    {
      "cell_type": "markdown",
      "metadata": {
        "id": "f4vAlm3rxNVp",
        "colab_type": "text"
      },
      "source": [
        "# 看看最近一百天預測結果"
      ]
    },
    {
      "cell_type": "code",
      "metadata": {
        "id": "YHzRjtab0pr-",
        "colab_type": "code",
        "outputId": "1b1b31bc-bac7-4799-c985-1509e3362833",
        "colab": {
          "base_uri": "https://localhost:8080/",
          "height": 307
        }
      },
      "source": [
        "INDEX100 = df[-100:].index#取最最近100天INDEX\n",
        "C = web.DataReader(SID,'yahoo',start=\"1980-01-01\")[['Close']]#取得歷史收盤價\n",
        "C = C.loc[INDEX100,:]#最近100天收盤價\n",
        "C['SIGNAL'] = [np.nan for _ in range(60)] + answer # 買賣信號:前60個NAN+40個預測答案\n",
        "buy = C[C['SIGNAL']==1]['Close']#買點\n",
        "sell = C[C['SIGNAL']==2]['Close']#賣點\n",
        "C['Close'].plot()#畫線\n",
        "plt.scatter(list(buy.index),list(buy.values),color='red',marker=\"^\")#畫買點\n",
        "plt.scatter(list(sell.index),list(sell.values),color='black')#畫賣點"
      ],
      "execution_count": 54,
      "outputs": [
        {
          "output_type": "execute_result",
          "data": {
            "text/plain": [
              "<matplotlib.collections.PathCollection at 0x7f4bd723fd30>"
            ]
          },
          "metadata": {
            "tags": []
          },
          "execution_count": 54
        },
        {
          "output_type": "display_data",
          "data": {
            "image/png": "[encoded data removed]",
            "text/plain": [
              "<Figure size 432x288 with 1 Axes>"
            ]
          },
          "metadata": {
            "tags": []
          }
        }
      ]
    },
    {
      "cell_type": "markdown",
      "metadata": {
        "id": "zICN7d8rzOnz",
        "colab_type": "text"
      },
      "source": [
        "# 最近40天預測結果"
      ]
    },
    {
      "cell_type": "code",
      "metadata": {
        "id": "UIeUpfe4GzRI",
        "colab_type": "code",
        "outputId": "340be13e-c8a7-4603-fd42-10020c52e661",
        "colab": {
          "base_uri": "https://localhost:8080/",
          "height": 307
        }
      },
      "source": [
        "C['Close'][-40:].plot()#畫線\n",
        "plt.scatter(list(buy.index),list(buy.values),color='red',marker=\"^\")#畫買點\n",
        "plt.scatter(list(sell.index),list(sell.values),color='black')#畫賣點"
      ],
      "execution_count": 55,
      "outputs": [
        {
          "output_type": "execute_result",
          "data": {
            "text/plain": [
              "<matplotlib.collections.PathCollection at 0x7f4c1010f278>"
            ]
          },
          "metadata": {
            "tags": []
          },
          "execution_count": 55
        },
        {
          "output_type": "display_data",
          "data": {
            "image/png": "[encoded data removed]",
            "text/plain": [
              "<Figure size 432x288 with 1 Axes>"
            ]
          },
          "metadata": {
            "tags": []
          }
        }
      ]
    },
    {
      "cell_type": "code",
      "metadata": {
        "id": "AHtMVnC13tuc",
        "colab_type": "code",
        "colab": {}
      },
      "source": [
        ""
      ],
      "execution_count": 0,
      "outputs": []
    }
  ]
}