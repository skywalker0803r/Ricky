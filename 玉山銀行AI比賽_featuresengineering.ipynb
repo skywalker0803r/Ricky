{
  "nbformat": 4,
  "nbformat_minor": 0,
  "metadata": {
    "colab": {
      "name": "玉山銀行AI比賽_featuresengineering.ipynb",
      "provenance": [],
      "collapsed_sections": [],
      "include_colab_link": true
    },
    "kernelspec": {
      "name": "python3",
      "display_name": "Python 3"
    }
  },
  "cells": [
    {
      "cell_type": "markdown",
      "metadata": {
        "id": "view-in-github",
        "colab_type": "text"
      },
      "source": [
        "<a href=\"https://colab.research.google.com/github/skywalker0803r/Ricky/blob/master/%E7%8E%89%E5%B1%B1%E9%8A%80%E8%A1%8CAI%E6%AF%94%E8%B3%BD_featuresengineering.ipynb\" target=\"_parent\"><img src=\"https://colab.research.google.com/assets/colab-badge.svg\" alt=\"Open In Colab\"/></a>"
      ]
    },
    {
      "cell_type": "code",
      "metadata": {
        "id": "_qNzw_H_YQMP",
        "colab_type": "code",
        "outputId": "590a1df1-5297-4266-ccb3-f70ae39b84a1",
        "colab": {
          "base_uri": "https://localhost:8080/",
          "height": 35
        }
      },
      "source": [
        "from google.colab import drive\n",
        "drive.mount('/content/drive')"
      ],
      "execution_count": 1,
      "outputs": [
        {
          "output_type": "stream",
          "text": [
            "Drive already mounted at /content/drive; to attempt to forcibly remount, call drive.mount(\"/content/drive\", force_remount=True).\n"
          ],
          "name": "stdout"
        }
      ]
    },
    {
      "cell_type": "markdown",
      "metadata": {
        "id": "L8lGcRj4YewI",
        "colab_type": "text"
      },
      "source": [
        "# 中文map"
      ]
    },
    {
      "cell_type": "code",
      "metadata": {
        "id": "pTfwuSfxYYgU",
        "colab_type": "code",
        "colab": {}
      },
      "source": [
        "中文map = {'bacno':'歸戶帳號','txkey':'交易序號','locdt':'授權日期','loctm':'授權時間','cano':'交易卡號',\n",
        "         'contp':'交易類別','etymd':'交易型態','mchno':'特店代號','acqic':'收單行代碼','mcc':'MCC_CODE',\n",
        "         'conam':'交易金額-台幣(經過轉換)','ecfg':'網路交易註記','insfg':'分期交易註記','iterm':'分期期數',\n",
        "         'stocn':'消費地國別','scity':'消費城市','stscd':'狀態碼','ovrlt':'超額註記碼','flbmk':'Fallback註記',\n",
        "         'hcefg':'支付型態','csmcu':'消費地幣別','flg_3dsmk':'3DS交易註記','fraud_ind':'盜刷註記'}"
      ],
      "execution_count": 0,
      "outputs": []
    },
    {
      "cell_type": "markdown",
      "metadata": {
        "id": "RooJis9FYh-b",
        "colab_type": "text"
      },
      "source": [
        "# train data"
      ]
    },
    {
      "cell_type": "code",
      "metadata": {
        "id": "p6byuG6PYgQ0",
        "colab_type": "code",
        "outputId": "a88d34f4-0b98-4258-ab99-7a840ecfd96e",
        "colab": {
          "base_uri": "https://localhost:8080/",
          "height": 273
        }
      },
      "source": [
        "import pandas as pd\n",
        "train = pd.read_csv(\"/content/drive/My Drive/玉山人工智慧比賽數據/train_預處理完.csv\",index_col=0)\n",
        "print(train.shape)\n",
        "train.head()"
      ],
      "execution_count": 3,
      "outputs": [
        {
          "output_type": "stream",
          "text": [
            "(1271138, 23)\n"
          ],
          "name": "stdout"
        },
        {
          "output_type": "stream",
          "text": [
            "/usr/local/lib/python3.6/dist-packages/numpy/lib/arraysetops.py:569: FutureWarning: elementwise comparison failed; returning scalar instead, but in the future will perform elementwise comparison\n",
            "  mask |= (ar1 == a)\n"
          ],
          "name": "stderr"
        },
        {
          "output_type": "execute_result",
          "data": {
            "text/html": [
              "<div>\n",
              "<style scoped>\n",
              "    .dataframe tbody tr th:only-of-type {\n",
              "        vertical-align: middle;\n",
              "    }\n",
              "\n",
              "    .dataframe tbody tr th {\n",
              "        vertical-align: top;\n",
              "    }\n",
              "\n",
              "    .dataframe thead th {\n",
              "        text-align: right;\n",
              "    }\n",
              "</style>\n",
              "<table border=\"1\" class=\"dataframe\">\n",
              "  <thead>\n",
              "    <tr style=\"text-align: right;\">\n",
              "      <th></th>\n",
              "      <th>acqic</th>\n",
              "      <th>bacno</th>\n",
              "      <th>cano</th>\n",
              "      <th>conam</th>\n",
              "      <th>contp</th>\n",
              "      <th>csmcu</th>\n",
              "      <th>ecfg</th>\n",
              "      <th>etymd</th>\n",
              "      <th>flbmk</th>\n",
              "      <th>flg_3dsmk</th>\n",
              "      <th>hcefg</th>\n",
              "      <th>insfg</th>\n",
              "      <th>iterm</th>\n",
              "      <th>locdt</th>\n",
              "      <th>loctm</th>\n",
              "      <th>mcc</th>\n",
              "      <th>mchno</th>\n",
              "      <th>ovrlt</th>\n",
              "      <th>scity</th>\n",
              "      <th>stocn</th>\n",
              "      <th>stscd</th>\n",
              "      <th>txkey</th>\n",
              "      <th>fraud_ind</th>\n",
              "    </tr>\n",
              "  </thead>\n",
              "  <tbody>\n",
              "    <tr>\n",
              "      <th>0</th>\n",
              "      <td>6881</td>\n",
              "      <td>113261</td>\n",
              "      <td>38038</td>\n",
              "      <td>513.80</td>\n",
              "      <td>5</td>\n",
              "      <td>0</td>\n",
              "      <td>0</td>\n",
              "      <td>0</td>\n",
              "      <td>0</td>\n",
              "      <td>0</td>\n",
              "      <td>5</td>\n",
              "      <td>0</td>\n",
              "      <td>0</td>\n",
              "      <td>33</td>\n",
              "      <td>172652.0</td>\n",
              "      <td>457</td>\n",
              "      <td>59333</td>\n",
              "      <td>0</td>\n",
              "      <td>0</td>\n",
              "      <td>102</td>\n",
              "      <td>0</td>\n",
              "      <td>516056</td>\n",
              "      <td>0</td>\n",
              "    </tr>\n",
              "    <tr>\n",
              "      <th>1</th>\n",
              "      <td>0</td>\n",
              "      <td>134508</td>\n",
              "      <td>45725</td>\n",
              "      <td>465.62</td>\n",
              "      <td>5</td>\n",
              "      <td>0</td>\n",
              "      <td>0</td>\n",
              "      <td>2</td>\n",
              "      <td>0</td>\n",
              "      <td>0</td>\n",
              "      <td>0</td>\n",
              "      <td>0</td>\n",
              "      <td>0</td>\n",
              "      <td>9</td>\n",
              "      <td>105114.0</td>\n",
              "      <td>451</td>\n",
              "      <td>0</td>\n",
              "      <td>0</td>\n",
              "      <td>5817</td>\n",
              "      <td>102</td>\n",
              "      <td>0</td>\n",
              "      <td>4376</td>\n",
              "      <td>0</td>\n",
              "    </tr>\n",
              "    <tr>\n",
              "      <th>2</th>\n",
              "      <td>6881</td>\n",
              "      <td>15408</td>\n",
              "      <td>188328</td>\n",
              "      <td>513.80</td>\n",
              "      <td>5</td>\n",
              "      <td>0</td>\n",
              "      <td>0</td>\n",
              "      <td>0</td>\n",
              "      <td>0</td>\n",
              "      <td>0</td>\n",
              "      <td>5</td>\n",
              "      <td>0</td>\n",
              "      <td>0</td>\n",
              "      <td>6</td>\n",
              "      <td>152458.0</td>\n",
              "      <td>457</td>\n",
              "      <td>59333</td>\n",
              "      <td>0</td>\n",
              "      <td>0</td>\n",
              "      <td>102</td>\n",
              "      <td>0</td>\n",
              "      <td>483434</td>\n",
              "      <td>0</td>\n",
              "    </tr>\n",
              "    <tr>\n",
              "      <th>3</th>\n",
              "      <td>6716</td>\n",
              "      <td>157159</td>\n",
              "      <td>29967</td>\n",
              "      <td>1016.11</td>\n",
              "      <td>5</td>\n",
              "      <td>62</td>\n",
              "      <td>0</td>\n",
              "      <td>5</td>\n",
              "      <td>0</td>\n",
              "      <td>0</td>\n",
              "      <td>5</td>\n",
              "      <td>0</td>\n",
              "      <td>0</td>\n",
              "      <td>5</td>\n",
              "      <td>172946.0</td>\n",
              "      <td>247</td>\n",
              "      <td>50436</td>\n",
              "      <td>0</td>\n",
              "      <td>3281</td>\n",
              "      <td>102</td>\n",
              "      <td>0</td>\n",
              "      <td>1407164</td>\n",
              "      <td>0</td>\n",
              "    </tr>\n",
              "    <tr>\n",
              "      <th>4</th>\n",
              "      <td>5975</td>\n",
              "      <td>105985</td>\n",
              "      <td>81305</td>\n",
              "      <td>713.66</td>\n",
              "      <td>5</td>\n",
              "      <td>62</td>\n",
              "      <td>0</td>\n",
              "      <td>4</td>\n",
              "      <td>0</td>\n",
              "      <td>0</td>\n",
              "      <td>5</td>\n",
              "      <td>0</td>\n",
              "      <td>0</td>\n",
              "      <td>6</td>\n",
              "      <td>182129.0</td>\n",
              "      <td>263</td>\n",
              "      <td>93775</td>\n",
              "      <td>0</td>\n",
              "      <td>5817</td>\n",
              "      <td>102</td>\n",
              "      <td>0</td>\n",
              "      <td>1051004</td>\n",
              "      <td>0</td>\n",
              "    </tr>\n",
              "  </tbody>\n",
              "</table>\n",
              "</div>"
            ],
            "text/plain": [
              "   acqic   bacno    cano    conam  ...  stocn  stscd    txkey  fraud_ind\n",
              "0   6881  113261   38038   513.80  ...    102      0   516056          0\n",
              "1      0  134508   45725   465.62  ...    102      0     4376          0\n",
              "2   6881   15408  188328   513.80  ...    102      0   483434          0\n",
              "3   6716  157159   29967  1016.11  ...    102      0  1407164          0\n",
              "4   5975  105985   81305   713.66  ...    102      0  1051004          0\n",
              "\n",
              "[5 rows x 23 columns]"
            ]
          },
          "metadata": {
            "tags": []
          },
          "execution_count": 3
        }
      ]
    },
    {
      "cell_type": "markdown",
      "metadata": {
        "id": "gzkS-2wdY8a1",
        "colab_type": "text"
      },
      "source": [
        "# test data"
      ]
    },
    {
      "cell_type": "code",
      "metadata": {
        "id": "dGRq5RJxYqYu",
        "colab_type": "code",
        "outputId": "768ef6ab-aabd-41b8-b1a6-f6b9124c99d6",
        "colab": {
          "base_uri": "https://localhost:8080/",
          "height": 218
        }
      },
      "source": [
        "test = pd.read_csv(\"/content/drive/My Drive/玉山人工智慧比賽數據/test_預處理完.csv\",index_col=0)\n",
        "print(test.shape)\n",
        "test.head()"
      ],
      "execution_count": 4,
      "outputs": [
        {
          "output_type": "stream",
          "text": [
            "(421665, 22)\n"
          ],
          "name": "stdout"
        },
        {
          "output_type": "execute_result",
          "data": {
            "text/html": [
              "<div>\n",
              "<style scoped>\n",
              "    .dataframe tbody tr th:only-of-type {\n",
              "        vertical-align: middle;\n",
              "    }\n",
              "\n",
              "    .dataframe tbody tr th {\n",
              "        vertical-align: top;\n",
              "    }\n",
              "\n",
              "    .dataframe thead th {\n",
              "        text-align: right;\n",
              "    }\n",
              "</style>\n",
              "<table border=\"1\" class=\"dataframe\">\n",
              "  <thead>\n",
              "    <tr style=\"text-align: right;\">\n",
              "      <th></th>\n",
              "      <th>acqic</th>\n",
              "      <th>bacno</th>\n",
              "      <th>cano</th>\n",
              "      <th>conam</th>\n",
              "      <th>contp</th>\n",
              "      <th>csmcu</th>\n",
              "      <th>ecfg</th>\n",
              "      <th>etymd</th>\n",
              "      <th>flbmk</th>\n",
              "      <th>flg_3dsmk</th>\n",
              "      <th>hcefg</th>\n",
              "      <th>insfg</th>\n",
              "      <th>iterm</th>\n",
              "      <th>locdt</th>\n",
              "      <th>loctm</th>\n",
              "      <th>mcc</th>\n",
              "      <th>mchno</th>\n",
              "      <th>ovrlt</th>\n",
              "      <th>scity</th>\n",
              "      <th>stocn</th>\n",
              "      <th>stscd</th>\n",
              "      <th>txkey</th>\n",
              "    </tr>\n",
              "  </thead>\n",
              "  <tbody>\n",
              "    <tr>\n",
              "      <th>0</th>\n",
              "      <td>6881</td>\n",
              "      <td>163188</td>\n",
              "      <td>116799</td>\n",
              "      <td>513.8</td>\n",
              "      <td>5</td>\n",
              "      <td>0</td>\n",
              "      <td>0</td>\n",
              "      <td>0</td>\n",
              "      <td>0</td>\n",
              "      <td>0</td>\n",
              "      <td>5</td>\n",
              "      <td>0</td>\n",
              "      <td>0</td>\n",
              "      <td>102</td>\n",
              "      <td>215328.0</td>\n",
              "      <td>457</td>\n",
              "      <td>59360</td>\n",
              "      <td>0</td>\n",
              "      <td>0</td>\n",
              "      <td>102</td>\n",
              "      <td>0</td>\n",
              "      <td>592489</td>\n",
              "    </tr>\n",
              "    <tr>\n",
              "      <th>1</th>\n",
              "      <td>6881</td>\n",
              "      <td>163188</td>\n",
              "      <td>116799</td>\n",
              "      <td>513.8</td>\n",
              "      <td>5</td>\n",
              "      <td>0</td>\n",
              "      <td>0</td>\n",
              "      <td>0</td>\n",
              "      <td>0</td>\n",
              "      <td>0</td>\n",
              "      <td>5</td>\n",
              "      <td>0</td>\n",
              "      <td>0</td>\n",
              "      <td>102</td>\n",
              "      <td>222007.0</td>\n",
              "      <td>457</td>\n",
              "      <td>59360</td>\n",
              "      <td>0</td>\n",
              "      <td>0</td>\n",
              "      <td>102</td>\n",
              "      <td>0</td>\n",
              "      <td>592452</td>\n",
              "    </tr>\n",
              "    <tr>\n",
              "      <th>2</th>\n",
              "      <td>6881</td>\n",
              "      <td>163188</td>\n",
              "      <td>116799</td>\n",
              "      <td>513.8</td>\n",
              "      <td>5</td>\n",
              "      <td>0</td>\n",
              "      <td>0</td>\n",
              "      <td>0</td>\n",
              "      <td>0</td>\n",
              "      <td>0</td>\n",
              "      <td>5</td>\n",
              "      <td>0</td>\n",
              "      <td>0</td>\n",
              "      <td>100</td>\n",
              "      <td>170013.0</td>\n",
              "      <td>457</td>\n",
              "      <td>59360</td>\n",
              "      <td>0</td>\n",
              "      <td>0</td>\n",
              "      <td>102</td>\n",
              "      <td>0</td>\n",
              "      <td>590212</td>\n",
              "    </tr>\n",
              "    <tr>\n",
              "      <th>3</th>\n",
              "      <td>6881</td>\n",
              "      <td>163188</td>\n",
              "      <td>116799</td>\n",
              "      <td>513.8</td>\n",
              "      <td>5</td>\n",
              "      <td>0</td>\n",
              "      <td>0</td>\n",
              "      <td>0</td>\n",
              "      <td>0</td>\n",
              "      <td>0</td>\n",
              "      <td>5</td>\n",
              "      <td>0</td>\n",
              "      <td>0</td>\n",
              "      <td>100</td>\n",
              "      <td>165914.0</td>\n",
              "      <td>457</td>\n",
              "      <td>59360</td>\n",
              "      <td>0</td>\n",
              "      <td>0</td>\n",
              "      <td>102</td>\n",
              "      <td>0</td>\n",
              "      <td>590209</td>\n",
              "    </tr>\n",
              "    <tr>\n",
              "      <th>4</th>\n",
              "      <td>6881</td>\n",
              "      <td>163188</td>\n",
              "      <td>116799</td>\n",
              "      <td>513.8</td>\n",
              "      <td>5</td>\n",
              "      <td>0</td>\n",
              "      <td>0</td>\n",
              "      <td>0</td>\n",
              "      <td>0</td>\n",
              "      <td>0</td>\n",
              "      <td>5</td>\n",
              "      <td>0</td>\n",
              "      <td>0</td>\n",
              "      <td>102</td>\n",
              "      <td>215311.0</td>\n",
              "      <td>457</td>\n",
              "      <td>59360</td>\n",
              "      <td>0</td>\n",
              "      <td>0</td>\n",
              "      <td>102</td>\n",
              "      <td>0</td>\n",
              "      <td>592488</td>\n",
              "    </tr>\n",
              "  </tbody>\n",
              "</table>\n",
              "</div>"
            ],
            "text/plain": [
              "   acqic   bacno    cano  conam  contp  ...  ovrlt  scity  stocn  stscd   txkey\n",
              "0   6881  163188  116799  513.8      5  ...      0      0    102      0  592489\n",
              "1   6881  163188  116799  513.8      5  ...      0      0    102      0  592452\n",
              "2   6881  163188  116799  513.8      5  ...      0      0    102      0  590212\n",
              "3   6881  163188  116799  513.8      5  ...      0      0    102      0  590209\n",
              "4   6881  163188  116799  513.8      5  ...      0      0    102      0  592488\n",
              "\n",
              "[5 rows x 22 columns]"
            ]
          },
          "metadata": {
            "tags": []
          },
          "execution_count": 4
        }
      ]
    },
    {
      "cell_type": "markdown",
      "metadata": {
        "id": "F32zgFapZIC9",
        "colab_type": "text"
      },
      "source": [
        "# len(both unique) / len(test unique) %"
      ]
    },
    {
      "cell_type": "code",
      "metadata": {
        "id": "2F6_nEPBaVJK",
        "colab_type": "code",
        "outputId": "0d5d2c02-ab65-45a2-8ccb-8a366af09b3a",
        "colab": {
          "base_uri": "https://localhost:8080/",
          "height": 716
        }
      },
      "source": [
        "p = {}\n",
        "for col in train.drop('fraud_ind',axis=1).columns:\n",
        "  both_unique = set(train[col].unique())&set(test[col].unique())\n",
        "  test_unique = set(test[col].unique())\n",
        "  p[col] = len(both_unique)/len(test_unique)\n",
        "P_table = pd.DataFrame(p,index=['p']).T.sort_values(by='p',ascending=False)\n",
        "P_table['中文'] = P_table.index.map(中文map)\n",
        "P_table"
      ],
      "execution_count": 5,
      "outputs": [
        {
          "output_type": "execute_result",
          "data": {
            "text/html": [
              "<div>\n",
              "<style scoped>\n",
              "    .dataframe tbody tr th:only-of-type {\n",
              "        vertical-align: middle;\n",
              "    }\n",
              "\n",
              "    .dataframe tbody tr th {\n",
              "        vertical-align: top;\n",
              "    }\n",
              "\n",
              "    .dataframe thead th {\n",
              "        text-align: right;\n",
              "    }\n",
              "</style>\n",
              "<table border=\"1\" class=\"dataframe\">\n",
              "  <thead>\n",
              "    <tr style=\"text-align: right;\">\n",
              "      <th></th>\n",
              "      <th>p</th>\n",
              "      <th>中文</th>\n",
              "    </tr>\n",
              "  </thead>\n",
              "  <tbody>\n",
              "    <tr>\n",
              "      <th>insfg</th>\n",
              "      <td>1.000000</td>\n",
              "      <td>分期交易註記</td>\n",
              "    </tr>\n",
              "    <tr>\n",
              "      <th>stscd</th>\n",
              "      <td>1.000000</td>\n",
              "      <td>狀態碼</td>\n",
              "    </tr>\n",
              "    <tr>\n",
              "      <th>ovrlt</th>\n",
              "      <td>1.000000</td>\n",
              "      <td>超額註記碼</td>\n",
              "    </tr>\n",
              "    <tr>\n",
              "      <th>contp</th>\n",
              "      <td>1.000000</td>\n",
              "      <td>交易類別</td>\n",
              "    </tr>\n",
              "    <tr>\n",
              "      <th>ecfg</th>\n",
              "      <td>1.000000</td>\n",
              "      <td>網路交易註記</td>\n",
              "    </tr>\n",
              "    <tr>\n",
              "      <th>etymd</th>\n",
              "      <td>1.000000</td>\n",
              "      <td>交易型態</td>\n",
              "    </tr>\n",
              "    <tr>\n",
              "      <th>flbmk</th>\n",
              "      <td>1.000000</td>\n",
              "      <td>Fallback註記</td>\n",
              "    </tr>\n",
              "    <tr>\n",
              "      <th>flg_3dsmk</th>\n",
              "      <td>1.000000</td>\n",
              "      <td>3DS交易註記</td>\n",
              "    </tr>\n",
              "    <tr>\n",
              "      <th>iterm</th>\n",
              "      <td>1.000000</td>\n",
              "      <td>分期期數</td>\n",
              "    </tr>\n",
              "    <tr>\n",
              "      <th>loctm</th>\n",
              "      <td>0.981651</td>\n",
              "      <td>授權時間</td>\n",
              "    </tr>\n",
              "    <tr>\n",
              "      <th>hcefg</th>\n",
              "      <td>0.900000</td>\n",
              "      <td>支付型態</td>\n",
              "    </tr>\n",
              "    <tr>\n",
              "      <th>mcc</th>\n",
              "      <td>0.758065</td>\n",
              "      <td>MCC_CODE</td>\n",
              "    </tr>\n",
              "    <tr>\n",
              "      <th>mchno</th>\n",
              "      <td>0.676710</td>\n",
              "      <td>特店代號</td>\n",
              "    </tr>\n",
              "    <tr>\n",
              "      <th>acqic</th>\n",
              "      <td>0.650747</td>\n",
              "      <td>收單行代碼</td>\n",
              "    </tr>\n",
              "    <tr>\n",
              "      <th>csmcu</th>\n",
              "      <td>0.649123</td>\n",
              "      <td>消費地幣別</td>\n",
              "    </tr>\n",
              "    <tr>\n",
              "      <th>stocn</th>\n",
              "      <td>0.609195</td>\n",
              "      <td>消費地國別</td>\n",
              "    </tr>\n",
              "    <tr>\n",
              "      <th>conam</th>\n",
              "      <td>0.523501</td>\n",
              "      <td>交易金額-台幣(經過轉換)</td>\n",
              "    </tr>\n",
              "    <tr>\n",
              "      <th>scity</th>\n",
              "      <td>0.368568</td>\n",
              "      <td>消費城市</td>\n",
              "    </tr>\n",
              "    <tr>\n",
              "      <th>bacno</th>\n",
              "      <td>0.043475</td>\n",
              "      <td>歸戶帳號</td>\n",
              "    </tr>\n",
              "    <tr>\n",
              "      <th>cano</th>\n",
              "      <td>0.042588</td>\n",
              "      <td>交易卡號</td>\n",
              "    </tr>\n",
              "    <tr>\n",
              "      <th>locdt</th>\n",
              "      <td>0.000000</td>\n",
              "      <td>授權日期</td>\n",
              "    </tr>\n",
              "    <tr>\n",
              "      <th>txkey</th>\n",
              "      <td>0.000000</td>\n",
              "      <td>交易序號</td>\n",
              "    </tr>\n",
              "  </tbody>\n",
              "</table>\n",
              "</div>"
            ],
            "text/plain": [
              "                  p             中文\n",
              "insfg      1.000000         分期交易註記\n",
              "stscd      1.000000            狀態碼\n",
              "ovrlt      1.000000          超額註記碼\n",
              "contp      1.000000           交易類別\n",
              "ecfg       1.000000         網路交易註記\n",
              "etymd      1.000000           交易型態\n",
              "flbmk      1.000000     Fallback註記\n",
              "flg_3dsmk  1.000000        3DS交易註記\n",
              "iterm      1.000000           分期期數\n",
              "loctm      0.981651           授權時間\n",
              "hcefg      0.900000           支付型態\n",
              "mcc        0.758065       MCC_CODE\n",
              "mchno      0.676710           特店代號\n",
              "acqic      0.650747          收單行代碼\n",
              "csmcu      0.649123          消費地幣別\n",
              "stocn      0.609195          消費地國別\n",
              "conam      0.523501  交易金額-台幣(經過轉換)\n",
              "scity      0.368568           消費城市\n",
              "bacno      0.043475           歸戶帳號\n",
              "cano       0.042588           交易卡號\n",
              "locdt      0.000000           授權日期\n",
              "txkey      0.000000           交易序號"
            ]
          },
          "metadata": {
            "tags": []
          },
          "execution_count": 5
        }
      ]
    },
    {
      "cell_type": "markdown",
      "metadata": {
        "id": "rP6HHoucfbW4",
        "colab_type": "text"
      },
      "source": [
        "# test sample in both_unique's len / test sample len"
      ]
    },
    {
      "cell_type": "code",
      "metadata": {
        "id": "E82MLmnNfbsR",
        "colab_type": "code",
        "colab": {
          "base_uri": "https://localhost:8080/",
          "height": 35
        },
        "outputId": "58229421-da86-41ed-acd5-a57c36c561c5"
      },
      "source": [
        "dejavu = test.copy()\n",
        "for col in train.drop(['fraud_ind','txkey','locdt','cano','bacno'],axis=1).columns:\n",
        "  both_unique = set(train[col].unique())&set(test[col].unique()) # train_unique & test_unique\n",
        "  dejavu = dejavu.loc[dejavu[col].isin(both_unique),:] # number of test's sample in both_unique \n",
        "print(round(len(dejavu)/len(test),3))"
      ],
      "execution_count": 6,
      "outputs": [
        {
          "output_type": "stream",
          "text": [
            "0.907\n"
          ],
          "name": "stdout"
        }
      ]
    },
    {
      "cell_type": "markdown",
      "metadata": {
        "id": "q4K61sEaeTwH",
        "colab_type": "text"
      },
      "source": [
        "# 新增特徵"
      ]
    },
    {
      "cell_type": "code",
      "metadata": {
        "id": "cJl8-uX4eT4W",
        "colab_type": "code",
        "colab": {}
      },
      "source": [
        ""
      ],
      "execution_count": 0,
      "outputs": []
    },
    {
      "cell_type": "code",
      "metadata": {
        "id": "cMF35bwoeVct",
        "colab_type": "code",
        "colab": {}
      },
      "source": [
        ""
      ],
      "execution_count": 0,
      "outputs": []
    },
    {
      "cell_type": "code",
      "metadata": {
        "id": "oVI7L3hIeVkA",
        "colab_type": "code",
        "colab": {}
      },
      "source": [
        ""
      ],
      "execution_count": 0,
      "outputs": []
    },
    {
      "cell_type": "markdown",
      "metadata": {
        "id": "RWwiLr0Cxj8g",
        "colab_type": "text"
      },
      "source": [
        "# save"
      ]
    },
    {
      "cell_type": "code",
      "metadata": {
        "id": "cpZAXVGsxkOM",
        "colab_type": "code",
        "outputId": "83557430-4822-4b7d-b382-e3cad4bcba9f",
        "colab": {
          "base_uri": "https://localhost:8080/",
          "height": 35
        }
      },
      "source": [
        "train.to_csv(\"/content/drive/My Drive/玉山人工智慧比賽數據/train_特徵工程完.csv\")\n",
        "test.to_csv(\"/content/drive/My Drive/玉山人工智慧比賽數據/test_特徵工程完.csv\")\n",
        "print('save done!')"
      ],
      "execution_count": 7,
      "outputs": [
        {
          "output_type": "stream",
          "text": [
            "save done!\n"
          ],
          "name": "stdout"
        }
      ]
    },
    {
      "cell_type": "code",
      "metadata": {
        "id": "sjaE2b23xzPa",
        "colab_type": "code",
        "colab": {}
      },
      "source": [
        ""
      ],
      "execution_count": 0,
      "outputs": []
    }
  ]
}