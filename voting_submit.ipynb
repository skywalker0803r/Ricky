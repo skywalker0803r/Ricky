{
  "nbformat": 4,
  "nbformat_minor": 0,
  "metadata": {
    "colab": {
      "name": "voting_submit.ipynb",
      "provenance": [],
      "collapsed_sections": [],
      "toc_visible": true,
      "include_colab_link": true
    },
    "kernelspec": {
      "name": "python3",
      "display_name": "Python 3"
    }
  },
  "cells": [
    {
      "cell_type": "markdown",
      "metadata": {
        "id": "view-in-github",
        "colab_type": "text"
      },
      "source": [
        "<a href=\"https://colab.research.google.com/github/skywalker0803r/Ricky/blob/master/voting_submit.ipynb\" target=\"_parent\"><img src=\"https://colab.research.google.com/assets/colab-badge.svg\" alt=\"Open In Colab\"/></a>"
      ]
    },
    {
      "cell_type": "code",
      "metadata": {
        "id": "xQtZ8zps2LlS",
        "colab_type": "code",
        "outputId": "60d1d4db-a67f-4ac9-ddef-fb5224c9b5c2",
        "colab": {
          "base_uri": "https://localhost:8080/",
          "height": 33
        }
      },
      "source": [
        "from google.colab import drive\n",
        "drive.mount('/content/drive')"
      ],
      "execution_count": 1,
      "outputs": [
        {
          "output_type": "stream",
          "text": [
            "Drive already mounted at /content/drive; to attempt to forcibly remount, call drive.mount(\"/content/drive\", force_remount=True).\n"
          ],
          "name": "stdout"
        }
      ]
    },
    {
      "cell_type": "markdown",
      "metadata": {
        "id": "84J9jUizee21",
        "colab_type": "text"
      },
      "source": [
        "# Load"
      ]
    },
    {
      "cell_type": "code",
      "metadata": {
        "id": "HuTdwkHMsGNM",
        "colab_type": "code",
        "outputId": "ceb05e55-fdeb-4211-a362-0394df9c6660",
        "colab": {
          "base_uri": "https://localhost:8080/",
          "height": 100
        }
      },
      "source": [
        "import os\n",
        "os.chdir('/content/drive/My Drive/玉山人工智慧比賽數據/catboost_result/1106')\n",
        "os.getcwd()\n",
        "files = os.listdir()\n",
        "files"
      ],
      "execution_count": 2,
      "outputs": [
        {
          "output_type": "execute_result",
          "data": {
            "text/plain": [
              "['catboost_Fold4_random42.csv',\n",
              " 'catboost_Fold3_random42.csv',\n",
              " 'catboost_Fold2_random42.csv',\n",
              " 'catboost_Fold1_random42.csv',\n",
              " 'catboost_Fold0_random42.csv']"
            ]
          },
          "metadata": {
            "tags": []
          },
          "execution_count": 2
        }
      ]
    },
    {
      "cell_type": "code",
      "metadata": {
        "id": "DPQvBnBGMK9c",
        "colab_type": "code",
        "colab": {}
      },
      "source": [
        "import pandas as pd\n",
        "dfs = {}\n",
        "for key ,file_path in enumerate(files):\n",
        "  dfs[key] = pd.read_csv(file_path,index_col=0)"
      ],
      "execution_count": 0,
      "outputs": []
    },
    {
      "cell_type": "markdown",
      "metadata": {
        "id": "WbieOnDLegxj",
        "colab_type": "text"
      },
      "source": [
        "# merge"
      ]
    },
    {
      "cell_type": "code",
      "metadata": {
        "id": "NchLctFSNsN9",
        "colab_type": "code",
        "outputId": "9a221306-bc1d-46e0-be60-0c88c71df915",
        "colab": {
          "base_uri": "https://localhost:8080/",
          "height": 197
        }
      },
      "source": [
        "merge_table = pd.DataFrame()\n",
        "merge_table['txkey'] = dfs[0]['txkey']\n",
        "for key in dfs.keys():\n",
        "  merge_table[key] = dfs[key]['fraud_ind']\n",
        "merge_table.head()"
      ],
      "execution_count": 4,
      "outputs": [
        {
          "output_type": "execute_result",
          "data": {
            "text/html": [
              "<div>\n",
              "<style scoped>\n",
              "    .dataframe tbody tr th:only-of-type {\n",
              "        vertical-align: middle;\n",
              "    }\n",
              "\n",
              "    .dataframe tbody tr th {\n",
              "        vertical-align: top;\n",
              "    }\n",
              "\n",
              "    .dataframe thead th {\n",
              "        text-align: right;\n",
              "    }\n",
              "</style>\n",
              "<table border=\"1\" class=\"dataframe\">\n",
              "  <thead>\n",
              "    <tr style=\"text-align: right;\">\n",
              "      <th></th>\n",
              "      <th>txkey</th>\n",
              "      <th>0</th>\n",
              "      <th>1</th>\n",
              "      <th>2</th>\n",
              "      <th>3</th>\n",
              "      <th>4</th>\n",
              "    </tr>\n",
              "  </thead>\n",
              "  <tbody>\n",
              "    <tr>\n",
              "      <th>1521787</th>\n",
              "      <td>592489</td>\n",
              "      <td>0.016175</td>\n",
              "      <td>0.016738</td>\n",
              "      <td>0.020753</td>\n",
              "      <td>0.016467</td>\n",
              "      <td>0.005826</td>\n",
              "    </tr>\n",
              "    <tr>\n",
              "      <th>1521788</th>\n",
              "      <td>592452</td>\n",
              "      <td>0.021857</td>\n",
              "      <td>0.017504</td>\n",
              "      <td>0.021897</td>\n",
              "      <td>0.026962</td>\n",
              "      <td>0.005826</td>\n",
              "    </tr>\n",
              "    <tr>\n",
              "      <th>1521789</th>\n",
              "      <td>590212</td>\n",
              "      <td>0.013873</td>\n",
              "      <td>0.012121</td>\n",
              "      <td>0.017826</td>\n",
              "      <td>0.013935</td>\n",
              "      <td>0.004701</td>\n",
              "    </tr>\n",
              "    <tr>\n",
              "      <th>1521790</th>\n",
              "      <td>590209</td>\n",
              "      <td>0.016175</td>\n",
              "      <td>0.011978</td>\n",
              "      <td>0.016872</td>\n",
              "      <td>0.013935</td>\n",
              "      <td>0.004137</td>\n",
              "    </tr>\n",
              "    <tr>\n",
              "      <th>1521791</th>\n",
              "      <td>592488</td>\n",
              "      <td>0.013295</td>\n",
              "      <td>0.013493</td>\n",
              "      <td>0.016917</td>\n",
              "      <td>0.014371</td>\n",
              "      <td>0.003842</td>\n",
              "    </tr>\n",
              "  </tbody>\n",
              "</table>\n",
              "</div>"
            ],
            "text/plain": [
              "          txkey         0         1         2         3         4\n",
              "1521787  592489  0.016175  0.016738  0.020753  0.016467  0.005826\n",
              "1521788  592452  0.021857  0.017504  0.021897  0.026962  0.005826\n",
              "1521789  590212  0.013873  0.012121  0.017826  0.013935  0.004701\n",
              "1521790  590209  0.016175  0.011978  0.016872  0.013935  0.004137\n",
              "1521791  592488  0.013295  0.013493  0.016917  0.014371  0.003842"
            ]
          },
          "metadata": {
            "tags": []
          },
          "execution_count": 4
        }
      ]
    },
    {
      "cell_type": "markdown",
      "metadata": {
        "id": "PgdDx9OFei0l",
        "colab_type": "text"
      },
      "source": [
        "# count mean"
      ]
    },
    {
      "cell_type": "code",
      "metadata": {
        "id": "s5aYwvO-fBfk",
        "colab_type": "code",
        "outputId": "ffeaf8f4-a014-4b77-ce6d-7c5a71ea395d",
        "colab": {
          "base_uri": "https://localhost:8080/",
          "height": 197
        }
      },
      "source": [
        "merge_table['fraud_ind'] = merge_table.drop('txkey',axis=1).mean(axis=1)\n",
        "merge_table = merge_table[['txkey','fraud_ind']]\n",
        "merge_table.sample(5)"
      ],
      "execution_count": 5,
      "outputs": [
        {
          "output_type": "execute_result",
          "data": {
            "text/html": [
              "<div>\n",
              "<style scoped>\n",
              "    .dataframe tbody tr th:only-of-type {\n",
              "        vertical-align: middle;\n",
              "    }\n",
              "\n",
              "    .dataframe tbody tr th {\n",
              "        vertical-align: top;\n",
              "    }\n",
              "\n",
              "    .dataframe thead th {\n",
              "        text-align: right;\n",
              "    }\n",
              "</style>\n",
              "<table border=\"1\" class=\"dataframe\">\n",
              "  <thead>\n",
              "    <tr style=\"text-align: right;\">\n",
              "      <th></th>\n",
              "      <th>txkey</th>\n",
              "      <th>fraud_ind</th>\n",
              "    </tr>\n",
              "  </thead>\n",
              "  <tbody>\n",
              "    <tr>\n",
              "      <th>1858328</th>\n",
              "      <td>967525</td>\n",
              "      <td>0.001298</td>\n",
              "    </tr>\n",
              "    <tr>\n",
              "      <th>1941390</th>\n",
              "      <td>297122</td>\n",
              "      <td>0.000310</td>\n",
              "    </tr>\n",
              "    <tr>\n",
              "      <th>1635547</th>\n",
              "      <td>1929218</td>\n",
              "      <td>0.014832</td>\n",
              "    </tr>\n",
              "    <tr>\n",
              "      <th>1805602</th>\n",
              "      <td>1395283</td>\n",
              "      <td>0.000443</td>\n",
              "    </tr>\n",
              "    <tr>\n",
              "      <th>1917684</th>\n",
              "      <td>900339</td>\n",
              "      <td>0.000693</td>\n",
              "    </tr>\n",
              "  </tbody>\n",
              "</table>\n",
              "</div>"
            ],
            "text/plain": [
              "           txkey  fraud_ind\n",
              "1858328   967525   0.001298\n",
              "1941390   297122   0.000310\n",
              "1635547  1929218   0.014832\n",
              "1805602  1395283   0.000443\n",
              "1917684   900339   0.000693"
            ]
          },
          "metadata": {
            "tags": []
          },
          "execution_count": 5
        }
      ]
    },
    {
      "cell_type": "markdown",
      "metadata": {
        "id": "_vL382q8eogb",
        "colab_type": "text"
      },
      "source": [
        "# value_counts"
      ]
    },
    {
      "cell_type": "code",
      "metadata": {
        "id": "LSSZ9RG57Cxb",
        "colab_type": "code",
        "outputId": "ed39f9da-c853-4c7e-a3aa-64ffe22ab091",
        "colab": {
          "base_uri": "https://localhost:8080/",
          "height": 217
        }
      },
      "source": [
        "merge_table['fraud_ind'].value_counts()"
      ],
      "execution_count": 6,
      "outputs": [
        {
          "output_type": "execute_result",
          "data": {
            "text/plain": [
              "0.000900    135\n",
              "0.001052     96\n",
              "0.000904     84\n",
              "0.001177     72\n",
              "0.001142     70\n",
              "           ... \n",
              "0.001015      1\n",
              "0.001430      1\n",
              "0.003011      1\n",
              "0.000410      1\n",
              "0.000539      1\n",
              "Name: fraud_ind, Length: 416468, dtype: int64"
            ]
          },
          "metadata": {
            "tags": []
          },
          "execution_count": 6
        }
      ]
    },
    {
      "cell_type": "code",
      "metadata": {
        "id": "pfmPoqbV7JwZ",
        "colab_type": "code",
        "colab": {}
      },
      "source": [
        "def f(x):\n",
        "  if x>=0.50:\n",
        "    return 1\n",
        "  else:\n",
        "    return 0\n",
        "merge_table['fraud_ind'] = merge_table['fraud_ind'].apply(f)"
      ],
      "execution_count": 0,
      "outputs": []
    },
    {
      "cell_type": "code",
      "metadata": {
        "id": "Bje9VRZ3MhoI",
        "colab_type": "code",
        "outputId": "fe8d35e0-b9cc-48a6-b176-4933d0825d5f",
        "colab": {
          "base_uri": "https://localhost:8080/",
          "height": 33
        }
      },
      "source": [
        "盜刷比例 = merge_table['fraud_ind'].value_counts()[1] / len(merge_table['fraud_ind'])\n",
        "盜刷比例 = round(盜刷比例,5)*100\n",
        "str(盜刷比例)+'%'"
      ],
      "execution_count": 8,
      "outputs": [
        {
          "output_type": "execute_result",
          "data": {
            "text/plain": [
              "'1.601%'"
            ]
          },
          "metadata": {
            "tags": []
          },
          "execution_count": 8
        }
      ]
    },
    {
      "cell_type": "code",
      "metadata": {
        "id": "OIRiT5JwlGTy",
        "colab_type": "code",
        "outputId": "db392bfc-05e4-4074-f610-3000329b95eb",
        "colab": {
          "base_uri": "https://localhost:8080/",
          "height": 67
        }
      },
      "source": [
        "print(merge_table[\"fraud_ind\"].value_counts())"
      ],
      "execution_count": 9,
      "outputs": [
        {
          "output_type": "stream",
          "text": [
            "0    414916\n",
            "1      6749\n",
            "Name: fraud_ind, dtype: int64\n"
          ],
          "name": "stdout"
        }
      ]
    },
    {
      "cell_type": "markdown",
      "metadata": {
        "id": "371pfV2OPkLx",
        "colab_type": "text"
      },
      "source": [
        "# 保存預測結果"
      ]
    },
    {
      "cell_type": "code",
      "metadata": {
        "id": "L1GTakycPPdt",
        "colab_type": "code",
        "colab": {}
      },
      "source": [
        "merge_table.to_csv('./catboost_class_weight(2.5)_iter_250_voting_bigthan_0.50.csv')"
      ],
      "execution_count": 0,
      "outputs": []
    },
    {
      "cell_type": "code",
      "metadata": {
        "id": "sG5Nl_D_Pmgn",
        "colab_type": "code",
        "colab": {}
      },
      "source": [
        ""
      ],
      "execution_count": 0,
      "outputs": []
    },
    {
      "cell_type": "code",
      "metadata": {
        "id": "7vmfIjVMPrsn",
        "colab_type": "code",
        "colab": {}
      },
      "source": [
        ""
      ],
      "execution_count": 0,
      "outputs": []
    }
  ]
}