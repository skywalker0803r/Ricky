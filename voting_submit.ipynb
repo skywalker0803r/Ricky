{
  "nbformat": 4,
  "nbformat_minor": 0,
  "metadata": {
    "colab": {
      "name": "voting_submit.ipynb",
      "provenance": [],
      "collapsed_sections": [],
      "include_colab_link": true
    },
    "kernelspec": {
      "name": "python3",
      "display_name": "Python 3"
    }
  },
  "cells": [
    {
      "cell_type": "markdown",
      "metadata": {
        "id": "view-in-github",
        "colab_type": "text"
      },
      "source": [
        "<a href=\"https://colab.research.google.com/github/skywalker0803r/Ricky/blob/master/voting_submit.ipynb\" target=\"_parent\"><img src=\"https://colab.research.google.com/assets/colab-badge.svg\" alt=\"Open In Colab\"/></a>"
      ]
    },
    {
      "cell_type": "code",
      "metadata": {
        "id": "xQtZ8zps2LlS",
        "colab_type": "code",
        "outputId": "fb85b3a6-cfb7-43a6-d2d8-c2fcc1328e83",
        "colab": {
          "base_uri": "https://localhost:8080/",
          "height": 126
        }
      },
      "source": [
        "from google.colab import drive\n",
        "drive.mount('/content/drive')"
      ],
      "execution_count": 1,
      "outputs": [
        {
          "output_type": "stream",
          "text": [
            "Go to this URL in a browser: https://accounts.google.com/o/oauth2/auth?client_id=947318989803-6bn6qk8qdgf4n4g3pfee6491hc0brc4i.apps.googleusercontent.com&redirect_uri=urn%3Aietf%3Awg%3Aoauth%3A2.0%3Aoob&scope=email%20https%3A%2F%2Fwww.googleapis.com%2Fauth%2Fdocs.test%20https%3A%2F%2Fwww.googleapis.com%2Fauth%2Fdrive%20https%3A%2F%2Fwww.googleapis.com%2Fauth%2Fdrive.photos.readonly%20https%3A%2F%2Fwww.googleapis.com%2Fauth%2Fpeopleapi.readonly&response_type=code\n",
            "\n",
            "Enter your authorization code:\n",
            "··········\n",
            "Mounted at /content/drive\n"
          ],
          "name": "stdout"
        }
      ]
    },
    {
      "cell_type": "markdown",
      "metadata": {
        "id": "84J9jUizee21",
        "colab_type": "text"
      },
      "source": [
        "# Load"
      ]
    },
    {
      "cell_type": "code",
      "metadata": {
        "id": "HuTdwkHMsGNM",
        "colab_type": "code",
        "outputId": "96c93292-3573-4cdb-8b86-46eab3121cb7",
        "colab": {
          "base_uri": "https://localhost:8080/",
          "height": 106
        }
      },
      "source": [
        "import os\n",
        "os.chdir('/content/drive/My Drive/玉山人工智慧比賽數據/catboost_result/1108')\n",
        "os.getcwd()\n",
        "files = os.listdir()\n",
        "files"
      ],
      "execution_count": 2,
      "outputs": [
        {
          "output_type": "execute_result",
          "data": {
            "text/plain": [
              "['catboost_Fold0_random42.csv',\n",
              " 'catboost_Fold1_random42.csv',\n",
              " 'catboost_Fold2_random42.csv',\n",
              " 'catboost_Fold3_random42.csv',\n",
              " 'catboost_Fold4_random42.csv']"
            ]
          },
          "metadata": {
            "tags": []
          },
          "execution_count": 2
        }
      ]
    },
    {
      "cell_type": "code",
      "metadata": {
        "id": "DPQvBnBGMK9c",
        "colab_type": "code",
        "colab": {}
      },
      "source": [
        "import pandas as pd\n",
        "dfs = {}\n",
        "for key ,file_path in enumerate(files):\n",
        "  dfs[key] = pd.read_csv(file_path,index_col=0)"
      ],
      "execution_count": 0,
      "outputs": []
    },
    {
      "cell_type": "markdown",
      "metadata": {
        "id": "WbieOnDLegxj",
        "colab_type": "text"
      },
      "source": [
        "# merge"
      ]
    },
    {
      "cell_type": "code",
      "metadata": {
        "id": "NchLctFSNsN9",
        "colab_type": "code",
        "outputId": "cf0c98e3-eb21-499b-ba3e-80ea7f48771b",
        "colab": {
          "base_uri": "https://localhost:8080/",
          "height": 194
        }
      },
      "source": [
        "merge_table = pd.DataFrame()\n",
        "merge_table['txkey'] = dfs[0]['txkey']\n",
        "for key in dfs.keys():\n",
        "  merge_table[key] = dfs[key]['fraud_ind']\n",
        "merge_table.head()"
      ],
      "execution_count": 4,
      "outputs": [
        {
          "output_type": "execute_result",
          "data": {
            "text/html": [
              "<div>\n",
              "<style scoped>\n",
              "    .dataframe tbody tr th:only-of-type {\n",
              "        vertical-align: middle;\n",
              "    }\n",
              "\n",
              "    .dataframe tbody tr th {\n",
              "        vertical-align: top;\n",
              "    }\n",
              "\n",
              "    .dataframe thead th {\n",
              "        text-align: right;\n",
              "    }\n",
              "</style>\n",
              "<table border=\"1\" class=\"dataframe\">\n",
              "  <thead>\n",
              "    <tr style=\"text-align: right;\">\n",
              "      <th></th>\n",
              "      <th>txkey</th>\n",
              "      <th>0</th>\n",
              "      <th>1</th>\n",
              "      <th>2</th>\n",
              "      <th>3</th>\n",
              "      <th>4</th>\n",
              "    </tr>\n",
              "  </thead>\n",
              "  <tbody>\n",
              "    <tr>\n",
              "      <th>1521787</th>\n",
              "      <td>592489</td>\n",
              "      <td>0.011188</td>\n",
              "      <td>0.017055</td>\n",
              "      <td>0.015009</td>\n",
              "      <td>0.023364</td>\n",
              "      <td>0.029507</td>\n",
              "    </tr>\n",
              "    <tr>\n",
              "      <th>1521788</th>\n",
              "      <td>592452</td>\n",
              "      <td>0.011188</td>\n",
              "      <td>0.020988</td>\n",
              "      <td>0.018382</td>\n",
              "      <td>0.023918</td>\n",
              "      <td>0.031716</td>\n",
              "    </tr>\n",
              "    <tr>\n",
              "      <th>1521789</th>\n",
              "      <td>590212</td>\n",
              "      <td>0.011420</td>\n",
              "      <td>0.014192</td>\n",
              "      <td>0.012163</td>\n",
              "      <td>0.015046</td>\n",
              "      <td>0.027685</td>\n",
              "    </tr>\n",
              "    <tr>\n",
              "      <th>1521790</th>\n",
              "      <td>590209</td>\n",
              "      <td>0.011062</td>\n",
              "      <td>0.014192</td>\n",
              "      <td>0.012195</td>\n",
              "      <td>0.015046</td>\n",
              "      <td>0.028716</td>\n",
              "    </tr>\n",
              "    <tr>\n",
              "      <th>1521791</th>\n",
              "      <td>592488</td>\n",
              "      <td>0.010336</td>\n",
              "      <td>0.014192</td>\n",
              "      <td>0.012163</td>\n",
              "      <td>0.015046</td>\n",
              "      <td>0.020951</td>\n",
              "    </tr>\n",
              "  </tbody>\n",
              "</table>\n",
              "</div>"
            ],
            "text/plain": [
              "          txkey         0         1         2         3         4\n",
              "1521787  592489  0.011188  0.017055  0.015009  0.023364  0.029507\n",
              "1521788  592452  0.011188  0.020988  0.018382  0.023918  0.031716\n",
              "1521789  590212  0.011420  0.014192  0.012163  0.015046  0.027685\n",
              "1521790  590209  0.011062  0.014192  0.012195  0.015046  0.028716\n",
              "1521791  592488  0.010336  0.014192  0.012163  0.015046  0.020951"
            ]
          },
          "metadata": {
            "tags": []
          },
          "execution_count": 4
        }
      ]
    },
    {
      "cell_type": "markdown",
      "metadata": {
        "id": "PgdDx9OFei0l",
        "colab_type": "text"
      },
      "source": [
        "# count mean"
      ]
    },
    {
      "cell_type": "code",
      "metadata": {
        "id": "s5aYwvO-fBfk",
        "colab_type": "code",
        "outputId": "c5e38092-75ea-43b4-b101-45ab70b1a3f0",
        "colab": {
          "base_uri": "https://localhost:8080/",
          "height": 194
        }
      },
      "source": [
        "merge_table['fraud_ind'] = merge_table.drop('txkey',axis=1).mean(axis=1)\n",
        "merge_table = merge_table[['txkey','fraud_ind']]\n",
        "merge_table.sample(5)"
      ],
      "execution_count": 5,
      "outputs": [
        {
          "output_type": "execute_result",
          "data": {
            "text/html": [
              "<div>\n",
              "<style scoped>\n",
              "    .dataframe tbody tr th:only-of-type {\n",
              "        vertical-align: middle;\n",
              "    }\n",
              "\n",
              "    .dataframe tbody tr th {\n",
              "        vertical-align: top;\n",
              "    }\n",
              "\n",
              "    .dataframe thead th {\n",
              "        text-align: right;\n",
              "    }\n",
              "</style>\n",
              "<table border=\"1\" class=\"dataframe\">\n",
              "  <thead>\n",
              "    <tr style=\"text-align: right;\">\n",
              "      <th></th>\n",
              "      <th>txkey</th>\n",
              "      <th>fraud_ind</th>\n",
              "    </tr>\n",
              "  </thead>\n",
              "  <tbody>\n",
              "    <tr>\n",
              "      <th>1557423</th>\n",
              "      <td>1954040</td>\n",
              "      <td>0.969780</td>\n",
              "    </tr>\n",
              "    <tr>\n",
              "      <th>1918362</th>\n",
              "      <td>358310</td>\n",
              "      <td>0.000395</td>\n",
              "    </tr>\n",
              "    <tr>\n",
              "      <th>1579761</th>\n",
              "      <td>72874</td>\n",
              "      <td>0.002450</td>\n",
              "    </tr>\n",
              "    <tr>\n",
              "      <th>1655869</th>\n",
              "      <td>212255</td>\n",
              "      <td>0.000401</td>\n",
              "    </tr>\n",
              "    <tr>\n",
              "      <th>1709964</th>\n",
              "      <td>1680230</td>\n",
              "      <td>0.000134</td>\n",
              "    </tr>\n",
              "  </tbody>\n",
              "</table>\n",
              "</div>"
            ],
            "text/plain": [
              "           txkey  fraud_ind\n",
              "1557423  1954040   0.969780\n",
              "1918362   358310   0.000395\n",
              "1579761    72874   0.002450\n",
              "1655869   212255   0.000401\n",
              "1709964  1680230   0.000134"
            ]
          },
          "metadata": {
            "tags": []
          },
          "execution_count": 5
        }
      ]
    },
    {
      "cell_type": "markdown",
      "metadata": {
        "id": "_vL382q8eogb",
        "colab_type": "text"
      },
      "source": [
        "# value_counts"
      ]
    },
    {
      "cell_type": "code",
      "metadata": {
        "id": "LSSZ9RG57Cxb",
        "colab_type": "code",
        "outputId": "d78340d2-e366-4608-e649-f68fdec78a42",
        "colab": {
          "base_uri": "https://localhost:8080/",
          "height": 230
        }
      },
      "source": [
        "merge_table['fraud_ind'].value_counts()"
      ],
      "execution_count": 6,
      "outputs": [
        {
          "output_type": "execute_result",
          "data": {
            "text/plain": [
              "0.000882    129\n",
              "0.000857    104\n",
              "0.000178     92\n",
              "0.000941     83\n",
              "0.000873     47\n",
              "           ... \n",
              "0.001759      1\n",
              "0.004448      1\n",
              "0.000851      1\n",
              "0.002289      1\n",
              "0.000187      1\n",
              "Name: fraud_ind, Length: 417701, dtype: int64"
            ]
          },
          "metadata": {
            "tags": []
          },
          "execution_count": 6
        }
      ]
    },
    {
      "cell_type": "code",
      "metadata": {
        "id": "pfmPoqbV7JwZ",
        "colab_type": "code",
        "colab": {}
      },
      "source": [
        "def f(x):\n",
        "  if x >= 0.50:\n",
        "    return 1\n",
        "  else:\n",
        "    return 0\n",
        "merge_table['fraud_ind'] = merge_table['fraud_ind'].apply(f)"
      ],
      "execution_count": 0,
      "outputs": []
    },
    {
      "cell_type": "code",
      "metadata": {
        "id": "Bje9VRZ3MhoI",
        "colab_type": "code",
        "outputId": "434cd742-4cd6-4c73-9a25-5f31a60fa922",
        "colab": {
          "base_uri": "https://localhost:8080/",
          "height": 35
        }
      },
      "source": [
        "盜刷比例 = merge_table['fraud_ind'].value_counts()[1] / len(merge_table['fraud_ind'])\n",
        "盜刷比例 = round(盜刷比例,5)*100\n",
        "str(盜刷比例)+'%'"
      ],
      "execution_count": 8,
      "outputs": [
        {
          "output_type": "execute_result",
          "data": {
            "text/plain": [
              "'1.5779999999999998%'"
            ]
          },
          "metadata": {
            "tags": []
          },
          "execution_count": 8
        }
      ]
    },
    {
      "cell_type": "code",
      "metadata": {
        "id": "OIRiT5JwlGTy",
        "colab_type": "code",
        "outputId": "53abe6ed-47eb-41fc-d898-396894dcd6a8",
        "colab": {
          "base_uri": "https://localhost:8080/",
          "height": 70
        }
      },
      "source": [
        "print(merge_table[\"fraud_ind\"].value_counts())"
      ],
      "execution_count": 9,
      "outputs": [
        {
          "output_type": "stream",
          "text": [
            "0    415011\n",
            "1      6654\n",
            "Name: fraud_ind, dtype: int64\n"
          ],
          "name": "stdout"
        }
      ]
    },
    {
      "cell_type": "markdown",
      "metadata": {
        "id": "371pfV2OPkLx",
        "colab_type": "text"
      },
      "source": [
        "# 保存預測結果"
      ]
    },
    {
      "cell_type": "code",
      "metadata": {
        "id": "L1GTakycPPdt",
        "colab_type": "code",
        "colab": {}
      },
      "source": [
        "merge_table.to_csv('./catboost_class_weight(2.5)_iter_250_voting_bigthan_0.50_使用100個特徵.csv')"
      ],
      "execution_count": 0,
      "outputs": []
    },
    {
      "cell_type": "code",
      "metadata": {
        "id": "sG5Nl_D_Pmgn",
        "colab_type": "code",
        "colab": {}
      },
      "source": [
        ""
      ],
      "execution_count": 0,
      "outputs": []
    },
    {
      "cell_type": "code",
      "metadata": {
        "id": "7vmfIjVMPrsn",
        "colab_type": "code",
        "colab": {}
      },
      "source": [
        ""
      ],
      "execution_count": 0,
      "outputs": []
    }
  ]
}