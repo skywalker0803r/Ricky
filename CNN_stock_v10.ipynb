{
  "nbformat": 4,
  "nbformat_minor": 0,
  "metadata": {
    "colab": {
      "name": "CNN_stock.ipynb",
      "version": "0.3.2",
      "provenance": [],
      "collapsed_sections": [],
      "include_colab_link": true
    },
    "kernelspec": {
      "name": "python3",
      "display_name": "Python 3"
    },
    "accelerator": "GPU"
  },
  "cells": [
    {
      "cell_type": "markdown",
      "metadata": {
        "id": "view-in-github",
        "colab_type": "text"
      },
      "source": [
        "<a href=\"https://colab.research.google.com/github/skywalker0803r/Ricky/blob/master/CNN_stock_v10.ipynb\" target=\"_parent\"><img src=\"https://colab.research.google.com/assets/colab-badge.svg\" alt=\"Open In Colab\"/></a>"
      ]
    },
    {
      "cell_type": "code",
      "metadata": {
        "id": "g7NPpY26_qJm",
        "colab_type": "code",
        "colab": {}
      },
      "source": [
        "#!pip install finta\n",
        "import pandas as pd\n",
        "import seaborn as sns\n",
        "import pandas_datareader.data as web\n",
        "SID = '^DJI'\n",
        "df = web.DataReader(SID,'yahoo',start=\"1980-01-01\")#,end=\"2019-09-10\")\n",
        "df = df.iloc[:,:5]"
      ],
      "execution_count": 0,
      "outputs": []
    },
    {
      "cell_type": "markdown",
      "metadata": {
        "id": "6vaRLIuvJlZ7",
        "colab_type": "text"
      },
      "source": [
        "# 載入資料"
      ]
    },
    {
      "cell_type": "code",
      "metadata": {
        "id": "kRKHlNGl_7JV",
        "colab_type": "code",
        "outputId": "dfe1c4ed-1265-4159-b675-9d51aed44aa5",
        "colab": {
          "base_uri": "https://localhost:8080/",
          "height": 187
        }
      },
      "source": [
        "print(df.shape)\n",
        "df.head(3)"
      ],
      "execution_count": 2,
      "outputs": [
        {
          "output_type": "stream",
          "text": [
            "(8724, 5)\n"
          ],
          "name": "stdout"
        },
        {
          "output_type": "execute_result",
          "data": {
            "text/html": [
              "<div>\n",
              "<style scoped>\n",
              "    .dataframe tbody tr th:only-of-type {\n",
              "        vertical-align: middle;\n",
              "    }\n",
              "\n",
              "    .dataframe tbody tr th {\n",
              "        vertical-align: top;\n",
              "    }\n",
              "\n",
              "    .dataframe thead th {\n",
              "        text-align: right;\n",
              "    }\n",
              "</style>\n",
              "<table border=\"1\" class=\"dataframe\">\n",
              "  <thead>\n",
              "    <tr style=\"text-align: right;\">\n",
              "      <th></th>\n",
              "      <th>High</th>\n",
              "      <th>Low</th>\n",
              "      <th>Open</th>\n",
              "      <th>Close</th>\n",
              "      <th>Volume</th>\n",
              "    </tr>\n",
              "    <tr>\n",
              "      <th>Date</th>\n",
              "      <th></th>\n",
              "      <th></th>\n",
              "      <th></th>\n",
              "      <th></th>\n",
              "      <th></th>\n",
              "    </tr>\n",
              "  </thead>\n",
              "  <tbody>\n",
              "    <tr>\n",
              "      <th>1985-01-29</th>\n",
              "      <td>1295.489990</td>\n",
              "      <td>1266.890015</td>\n",
              "      <td>1277.719971</td>\n",
              "      <td>1292.619995</td>\n",
              "      <td>13560000</td>\n",
              "    </tr>\n",
              "    <tr>\n",
              "      <th>1985-01-30</th>\n",
              "      <td>1305.099976</td>\n",
              "      <td>1278.930054</td>\n",
              "      <td>1297.369995</td>\n",
              "      <td>1287.880005</td>\n",
              "      <td>16820000</td>\n",
              "    </tr>\n",
              "    <tr>\n",
              "      <th>1985-01-31</th>\n",
              "      <td>1293.400024</td>\n",
              "      <td>1272.640015</td>\n",
              "      <td>1283.239990</td>\n",
              "      <td>1286.770020</td>\n",
              "      <td>14070000</td>\n",
              "    </tr>\n",
              "  </tbody>\n",
              "</table>\n",
              "</div>"
            ],
            "text/plain": [
              "                   High          Low         Open        Close    Volume\n",
              "Date                                                                    \n",
              "1985-01-29  1295.489990  1266.890015  1277.719971  1292.619995  13560000\n",
              "1985-01-30  1305.099976  1278.930054  1297.369995  1287.880005  16820000\n",
              "1985-01-31  1293.400024  1272.640015  1283.239990  1286.770020  14070000"
            ]
          },
          "metadata": {
            "tags": []
          },
          "execution_count": 2
        }
      ]
    },
    {
      "cell_type": "code",
      "metadata": {
        "id": "9YvzTIEDddVx",
        "colab_type": "code",
        "outputId": "6ec9a27f-5f96-4b5a-b7b7-e5de42291d3e",
        "colab": {
          "base_uri": "https://localhost:8080/",
          "height": 170
        }
      },
      "source": [
        "df.tail(3)"
      ],
      "execution_count": 3,
      "outputs": [
        {
          "output_type": "execute_result",
          "data": {
            "text/html": [
              "<div>\n",
              "<style scoped>\n",
              "    .dataframe tbody tr th:only-of-type {\n",
              "        vertical-align: middle;\n",
              "    }\n",
              "\n",
              "    .dataframe tbody tr th {\n",
              "        vertical-align: top;\n",
              "    }\n",
              "\n",
              "    .dataframe thead th {\n",
              "        text-align: right;\n",
              "    }\n",
              "</style>\n",
              "<table border=\"1\" class=\"dataframe\">\n",
              "  <thead>\n",
              "    <tr style=\"text-align: right;\">\n",
              "      <th></th>\n",
              "      <th>High</th>\n",
              "      <th>Low</th>\n",
              "      <th>Open</th>\n",
              "      <th>Close</th>\n",
              "      <th>Volume</th>\n",
              "    </tr>\n",
              "    <tr>\n",
              "      <th>Date</th>\n",
              "      <th></th>\n",
              "      <th></th>\n",
              "      <th></th>\n",
              "      <th></th>\n",
              "      <th></th>\n",
              "    </tr>\n",
              "  </thead>\n",
              "  <tbody>\n",
              "    <tr>\n",
              "      <th>2019-09-05</th>\n",
              "      <td>26836.300781</td>\n",
              "      <td>26603.150391</td>\n",
              "      <td>26603.150391</td>\n",
              "      <td>26728.150391</td>\n",
              "      <td>256670000</td>\n",
              "    </tr>\n",
              "    <tr>\n",
              "      <th>2019-09-06</th>\n",
              "      <td>26860.869141</td>\n",
              "      <td>26708.390625</td>\n",
              "      <td>26790.250000</td>\n",
              "      <td>26797.460938</td>\n",
              "      <td>209700000</td>\n",
              "    </tr>\n",
              "    <tr>\n",
              "      <th>2019-09-09</th>\n",
              "      <td>26900.830078</td>\n",
              "      <td>26762.179688</td>\n",
              "      <td>26866.230469</td>\n",
              "      <td>26835.509766</td>\n",
              "      <td>273120000</td>\n",
              "    </tr>\n",
              "  </tbody>\n",
              "</table>\n",
              "</div>"
            ],
            "text/plain": [
              "                    High           Low          Open         Close     Volume\n",
              "Date                                                                         \n",
              "2019-09-05  26836.300781  26603.150391  26603.150391  26728.150391  256670000\n",
              "2019-09-06  26860.869141  26708.390625  26790.250000  26797.460938  209700000\n",
              "2019-09-09  26900.830078  26762.179688  26866.230469  26835.509766  273120000"
            ]
          },
          "metadata": {
            "tags": []
          },
          "execution_count": 3
        }
      ]
    },
    {
      "cell_type": "markdown",
      "metadata": {
        "id": "ZsFMU68NI85j",
        "colab_type": "text"
      },
      "source": [
        "# Labeling(計算return)"
      ]
    },
    {
      "cell_type": "code",
      "metadata": {
        "id": "WaNG41cBI9BT",
        "colab_type": "code",
        "colab": {}
      },
      "source": [
        "#今天股價 = df['Close']\n",
        "#昨天股價 = df['Close'].shift(1)\n",
        "#df['return%'] = (今天股價/昨天股價-1)*100\n",
        "#print(df['return%'].min(),df['return%'].max())\n",
        "#sns.distplot(df['return%'].dropna())\n",
        "#df.tail()"
      ],
      "execution_count": 0,
      "outputs": []
    },
    {
      "cell_type": "markdown",
      "metadata": {
        "id": "HegmuvBN0FKD",
        "colab_type": "text"
      },
      "source": [
        "# Label triple_barrier"
      ]
    },
    {
      "cell_type": "code",
      "metadata": {
        "id": "RFsmFQfF0FXt",
        "colab_type": "code",
        "colab": {}
      },
      "source": [
        "import numpy as np\n",
        "import math\n",
        "def triple_barrier(price, ub, lb, max_period):\n",
        "\n",
        "    def end_price(s):\n",
        "        return np.append(s[(s / s[0] > ub) | (s / s[0] < lb)], s[-1])[0]/s[0]\n",
        "    \n",
        "    r = np.array(range(max_period))\n",
        "    \n",
        "    def end_time(s):\n",
        "        return np.append(r[(s / s[0] > ub) | (s / s[0] < lb)], max_period-1)[0]\n",
        "\n",
        "    p = price.rolling(max_period).apply(end_price, raw=True).shift(-max_period+1)\n",
        "    t = price.rolling(max_period).apply(end_time, raw=True).shift(-max_period+1)\n",
        "    t = pd.Series([t.index[int(k+i)] if not math.isnan(k+i) else np.datetime64('NaT') \n",
        "                   for i, k in enumerate(t)], index=t.index).dropna()\n",
        "\n",
        "    signal = pd.Series(0, p.index)\n",
        "    signal.loc[p > ub] = 1\n",
        "    signal.loc[p < lb] = -1\n",
        "    ret = pd.DataFrame({'triple_barrier_profit':p, 'triple_barrier_sell_time':t, 'triple_barrier_signal':signal})\n",
        "\n",
        "    return ret"
      ],
      "execution_count": 0,
      "outputs": []
    },
    {
      "cell_type": "code",
      "metadata": {
        "id": "MHRZWGG40a3q",
        "colab_type": "code",
        "outputId": "d6a3cd28-1ce0-4276-d896-a398788bae46",
        "colab": {
          "base_uri": "https://localhost:8080/",
          "height": 686
        }
      },
      "source": [
        "ret = triple_barrier(df.Close, 1.05 , 0.95 ,20)['triple_barrier_signal'] #未來20個交易日,漲跌5%\n",
        "df = df.join(ret)\n",
        "df.tail(20)"
      ],
      "execution_count": 6,
      "outputs": [
        {
          "output_type": "execute_result",
          "data": {
            "text/html": [
              "<div>\n",
              "<style scoped>\n",
              "    .dataframe tbody tr th:only-of-type {\n",
              "        vertical-align: middle;\n",
              "    }\n",
              "\n",
              "    .dataframe tbody tr th {\n",
              "        vertical-align: top;\n",
              "    }\n",
              "\n",
              "    .dataframe thead th {\n",
              "        text-align: right;\n",
              "    }\n",
              "</style>\n",
              "<table border=\"1\" class=\"dataframe\">\n",
              "  <thead>\n",
              "    <tr style=\"text-align: right;\">\n",
              "      <th></th>\n",
              "      <th>High</th>\n",
              "      <th>Low</th>\n",
              "      <th>Open</th>\n",
              "      <th>Close</th>\n",
              "      <th>Volume</th>\n",
              "      <th>triple_barrier_signal</th>\n",
              "    </tr>\n",
              "    <tr>\n",
              "      <th>Date</th>\n",
              "      <th></th>\n",
              "      <th></th>\n",
              "      <th></th>\n",
              "      <th></th>\n",
              "      <th></th>\n",
              "      <th></th>\n",
              "    </tr>\n",
              "  </thead>\n",
              "  <tbody>\n",
              "    <tr>\n",
              "      <th>2019-08-12</th>\n",
              "      <td>26178.949219</td>\n",
              "      <td>25824.939453</td>\n",
              "      <td>26169.910156</td>\n",
              "      <td>25896.439453</td>\n",
              "      <td>199390000</td>\n",
              "      <td>0</td>\n",
              "    </tr>\n",
              "    <tr>\n",
              "      <th>2019-08-13</th>\n",
              "      <td>26426.970703</td>\n",
              "      <td>25833.250000</td>\n",
              "      <td>25888.880859</td>\n",
              "      <td>26279.910156</td>\n",
              "      <td>308900000</td>\n",
              "      <td>0</td>\n",
              "    </tr>\n",
              "    <tr>\n",
              "      <th>2019-08-14</th>\n",
              "      <td>26035.080078</td>\n",
              "      <td>25471.589844</td>\n",
              "      <td>26035.080078</td>\n",
              "      <td>25479.419922</td>\n",
              "      <td>352250000</td>\n",
              "      <td>0</td>\n",
              "    </tr>\n",
              "    <tr>\n",
              "      <th>2019-08-15</th>\n",
              "      <td>25639.689453</td>\n",
              "      <td>25339.599609</td>\n",
              "      <td>25514.250000</td>\n",
              "      <td>25579.390625</td>\n",
              "      <td>332600000</td>\n",
              "      <td>0</td>\n",
              "    </tr>\n",
              "    <tr>\n",
              "      <th>2019-08-16</th>\n",
              "      <td>25929.650391</td>\n",
              "      <td>25678.169922</td>\n",
              "      <td>25678.169922</td>\n",
              "      <td>25886.009766</td>\n",
              "      <td>276210000</td>\n",
              "      <td>0</td>\n",
              "    </tr>\n",
              "    <tr>\n",
              "      <th>2019-08-19</th>\n",
              "      <td>26222.320312</td>\n",
              "      <td>26020.060547</td>\n",
              "      <td>26020.060547</td>\n",
              "      <td>26135.789062</td>\n",
              "      <td>252640000</td>\n",
              "      <td>0</td>\n",
              "    </tr>\n",
              "    <tr>\n",
              "      <th>2019-08-20</th>\n",
              "      <td>26160.119141</td>\n",
              "      <td>25952.000000</td>\n",
              "      <td>26086.859375</td>\n",
              "      <td>25962.439453</td>\n",
              "      <td>238100000</td>\n",
              "      <td>0</td>\n",
              "    </tr>\n",
              "    <tr>\n",
              "      <th>2019-08-21</th>\n",
              "      <td>26268.320312</td>\n",
              "      <td>26141.769531</td>\n",
              "      <td>26145.359375</td>\n",
              "      <td>26202.730469</td>\n",
              "      <td>208790000</td>\n",
              "      <td>0</td>\n",
              "    </tr>\n",
              "    <tr>\n",
              "      <th>2019-08-22</th>\n",
              "      <td>26388.779297</td>\n",
              "      <td>26099.009766</td>\n",
              "      <td>26271.640625</td>\n",
              "      <td>26252.240234</td>\n",
              "      <td>222810000</td>\n",
              "      <td>0</td>\n",
              "    </tr>\n",
              "    <tr>\n",
              "      <th>2019-08-23</th>\n",
              "      <td>26320.289062</td>\n",
              "      <td>25507.179688</td>\n",
              "      <td>26134.210938</td>\n",
              "      <td>25628.900391</td>\n",
              "      <td>364260000</td>\n",
              "      <td>0</td>\n",
              "    </tr>\n",
              "    <tr>\n",
              "      <th>2019-08-26</th>\n",
              "      <td>25941.250000</td>\n",
              "      <td>25716.390625</td>\n",
              "      <td>25826.050781</td>\n",
              "      <td>25898.830078</td>\n",
              "      <td>222780000</td>\n",
              "      <td>0</td>\n",
              "    </tr>\n",
              "    <tr>\n",
              "      <th>2019-08-27</th>\n",
              "      <td>26054.019531</td>\n",
              "      <td>25721.849609</td>\n",
              "      <td>26014.460938</td>\n",
              "      <td>25777.900391</td>\n",
              "      <td>263530000</td>\n",
              "      <td>0</td>\n",
              "    </tr>\n",
              "    <tr>\n",
              "      <th>2019-08-28</th>\n",
              "      <td>26041.570312</td>\n",
              "      <td>25637.429688</td>\n",
              "      <td>25712.990234</td>\n",
              "      <td>26036.099609</td>\n",
              "      <td>207070000</td>\n",
              "      <td>0</td>\n",
              "    </tr>\n",
              "    <tr>\n",
              "      <th>2019-08-29</th>\n",
              "      <td>26408.839844</td>\n",
              "      <td>26185.710938</td>\n",
              "      <td>26249.089844</td>\n",
              "      <td>26362.250000</td>\n",
              "      <td>208650000</td>\n",
              "      <td>0</td>\n",
              "    </tr>\n",
              "    <tr>\n",
              "      <th>2019-08-30</th>\n",
              "      <td>26514.619141</td>\n",
              "      <td>26295.589844</td>\n",
              "      <td>26476.390625</td>\n",
              "      <td>26403.279297</td>\n",
              "      <td>2190810000</td>\n",
              "      <td>0</td>\n",
              "    </tr>\n",
              "    <tr>\n",
              "      <th>2019-09-03</th>\n",
              "      <td>26198.259766</td>\n",
              "      <td>25978.220703</td>\n",
              "      <td>26198.259766</td>\n",
              "      <td>26118.019531</td>\n",
              "      <td>223210000</td>\n",
              "      <td>0</td>\n",
              "    </tr>\n",
              "    <tr>\n",
              "      <th>2019-09-04</th>\n",
              "      <td>26362.349609</td>\n",
              "      <td>26244.439453</td>\n",
              "      <td>26301.990234</td>\n",
              "      <td>26355.470703</td>\n",
              "      <td>202710000</td>\n",
              "      <td>0</td>\n",
              "    </tr>\n",
              "    <tr>\n",
              "      <th>2019-09-05</th>\n",
              "      <td>26836.300781</td>\n",
              "      <td>26603.150391</td>\n",
              "      <td>26603.150391</td>\n",
              "      <td>26728.150391</td>\n",
              "      <td>256670000</td>\n",
              "      <td>0</td>\n",
              "    </tr>\n",
              "    <tr>\n",
              "      <th>2019-09-06</th>\n",
              "      <td>26860.869141</td>\n",
              "      <td>26708.390625</td>\n",
              "      <td>26790.250000</td>\n",
              "      <td>26797.460938</td>\n",
              "      <td>209700000</td>\n",
              "      <td>0</td>\n",
              "    </tr>\n",
              "    <tr>\n",
              "      <th>2019-09-09</th>\n",
              "      <td>26900.830078</td>\n",
              "      <td>26762.179688</td>\n",
              "      <td>26866.230469</td>\n",
              "      <td>26835.509766</td>\n",
              "      <td>273120000</td>\n",
              "      <td>0</td>\n",
              "    </tr>\n",
              "  </tbody>\n",
              "</table>\n",
              "</div>"
            ],
            "text/plain": [
              "                    High           Low  ...      Volume  triple_barrier_signal\n",
              "Date                                    ...                                   \n",
              "2019-08-12  26178.949219  25824.939453  ...   199390000                      0\n",
              "2019-08-13  26426.970703  25833.250000  ...   308900000                      0\n",
              "2019-08-14  26035.080078  25471.589844  ...   352250000                      0\n",
              "2019-08-15  25639.689453  25339.599609  ...   332600000                      0\n",
              "2019-08-16  25929.650391  25678.169922  ...   276210000                      0\n",
              "2019-08-19  26222.320312  26020.060547  ...   252640000                      0\n",
              "2019-08-20  26160.119141  25952.000000  ...   238100000                      0\n",
              "2019-08-21  26268.320312  26141.769531  ...   208790000                      0\n",
              "2019-08-22  26388.779297  26099.009766  ...   222810000                      0\n",
              "2019-08-23  26320.289062  25507.179688  ...   364260000                      0\n",
              "2019-08-26  25941.250000  25716.390625  ...   222780000                      0\n",
              "2019-08-27  26054.019531  25721.849609  ...   263530000                      0\n",
              "2019-08-28  26041.570312  25637.429688  ...   207070000                      0\n",
              "2019-08-29  26408.839844  26185.710938  ...   208650000                      0\n",
              "2019-08-30  26514.619141  26295.589844  ...  2190810000                      0\n",
              "2019-09-03  26198.259766  25978.220703  ...   223210000                      0\n",
              "2019-09-04  26362.349609  26244.439453  ...   202710000                      0\n",
              "2019-09-05  26836.300781  26603.150391  ...   256670000                      0\n",
              "2019-09-06  26860.869141  26708.390625  ...   209700000                      0\n",
              "2019-09-09  26900.830078  26762.179688  ...   273120000                      0\n",
              "\n",
              "[20 rows x 6 columns]"
            ]
          },
          "metadata": {
            "tags": []
          },
          "execution_count": 6
        }
      ]
    },
    {
      "cell_type": "markdown",
      "metadata": {
        "id": "L0_wS1X7vjbe",
        "colab_type": "text"
      },
      "source": [
        "# 觀察最近100天的labels"
      ]
    },
    {
      "cell_type": "code",
      "metadata": {
        "id": "Qti5Zd4-jOrH",
        "colab_type": "code",
        "outputId": "14c38022-e6fc-4f76-eede-2544d863a9a4",
        "colab": {
          "base_uri": "https://localhost:8080/",
          "height": 307
        }
      },
      "source": [
        "import matplotlib.pyplot as plt\n",
        "buy = df[df['triple_barrier_signal']==1]['Close']\n",
        "sell = df[df['triple_barrier_signal']==-1]['Close']\n",
        "df['Close'][-100:].plot()\n",
        "plt.scatter(buy.index,buy.values,color='red')\n",
        "plt.scatter(sell.index,sell.values,color='black')\n",
        "lb = df['Close'][-100:].mean() - 3*df['Close'][-100:].std()\n",
        "ub = df['Close'][-100:].mean() + 3*df['Close'][-100:].std()\n",
        "plt.ylim(lb,ub)"
      ],
      "execution_count": 7,
      "outputs": [
        {
          "output_type": "execute_result",
          "data": {
            "text/plain": [
              "(24510.43512101267, 28101.172535237332)"
            ]
          },
          "metadata": {
            "tags": []
          },
          "execution_count": 7
        },
        {
          "output_type": "display_data",
          "data": {
            "image/png": "[encoded data removed]",
            "text/plain": [
              "<Figure size 432x288 with 1 Axes>"
            ]
          },
          "metadata": {
            "tags": []
          }
        }
      ]
    },
    {
      "cell_type": "markdown",
      "metadata": {
        "id": "aFIoOA-xeeyy",
        "colab_type": "text"
      },
      "source": [
        "# 檢查Labels是否平衡"
      ]
    },
    {
      "cell_type": "code",
      "metadata": {
        "id": "ecKwK1v9ee8r",
        "colab_type": "code",
        "colab": {
          "base_uri": "https://localhost:8080/",
          "height": 355
        },
        "outputId": "514c4685-90c3-43fe-f06a-0d870a680211"
      },
      "source": [
        "g = sns.countplot(df['triple_barrier_signal'])\n",
        "print(df['triple_barrier_signal'].value_counts())"
      ],
      "execution_count": 8,
      "outputs": [
        {
          "output_type": "stream",
          "text": [
            " 0    6148\n",
            " 1    1399\n",
            "-1    1177\n",
            "Name: triple_barrier_signal, dtype: int64\n"
          ],
          "name": "stdout"
        },
        {
          "output_type": "display_data",
          "data": {
            "image/png": "[encoded data removed]",
            "text/plain": [
              "<Figure size 432x288 with 1 Axes>"
            ]
          },
          "metadata": {
            "tags": []
          }
        }
      ]
    },
    {
      "cell_type": "markdown",
      "metadata": {
        "id": "HUtEilqGfIJl",
        "colab_type": "text"
      },
      "source": [
        "# 建立ohlcv"
      ]
    },
    {
      "cell_type": "code",
      "metadata": {
        "id": "FdFhLZkYfKpN",
        "colab_type": "code",
        "colab": {}
      },
      "source": [
        "from finta import TA\n",
        "ohlcv = df[['Open','High','Low','Close','Volume']]\n",
        "ohlcv.columns = ['open','high','low','close','volume']"
      ],
      "execution_count": 0,
      "outputs": []
    },
    {
      "cell_type": "markdown",
      "metadata": {
        "id": "9K9RepGQwbQQ",
        "colab_type": "text"
      },
      "source": [
        "# 計算技術指標RSI"
      ]
    },
    {
      "cell_type": "code",
      "metadata": {
        "id": "ZZkpnqk9e0Rw",
        "colab_type": "code",
        "outputId": "7aeb644e-cead-498e-84bb-dbdfcca677d0",
        "colab": {
          "base_uri": "https://localhost:8080/",
          "height": 656
        }
      },
      "source": [
        "df['RSI'] = TA.RSI(ohlcv)\n",
        "print(df['RSI'].describe())\n",
        "sns.distplot(df['RSI'].dropna())\n",
        "df.tail()"
      ],
      "execution_count": 10,
      "outputs": [
        {
          "output_type": "stream",
          "text": [
            "count    8723.000000\n",
            "mean       54.821153\n",
            "std        16.196020\n",
            "min         0.000000\n",
            "25%        43.355705\n",
            "50%        55.729747\n",
            "75%        66.853812\n",
            "max        94.741933\n",
            "Name: RSI, dtype: float64\n"
          ],
          "name": "stdout"
        },
        {
          "output_type": "execute_result",
          "data": {
            "text/html": [
              "<div>\n",
              "<style scoped>\n",
              "    .dataframe tbody tr th:only-of-type {\n",
              "        vertical-align: middle;\n",
              "    }\n",
              "\n",
              "    .dataframe tbody tr th {\n",
              "        vertical-align: top;\n",
              "    }\n",
              "\n",
              "    .dataframe thead th {\n",
              "        text-align: right;\n",
              "    }\n",
              "</style>\n",
              "<table border=\"1\" class=\"dataframe\">\n",
              "  <thead>\n",
              "    <tr style=\"text-align: right;\">\n",
              "      <th></th>\n",
              "      <th>High</th>\n",
              "      <th>Low</th>\n",
              "      <th>Open</th>\n",
              "      <th>Close</th>\n",
              "      <th>Volume</th>\n",
              "      <th>triple_barrier_signal</th>\n",
              "      <th>RSI</th>\n",
              "    </tr>\n",
              "    <tr>\n",
              "      <th>Date</th>\n",
              "      <th></th>\n",
              "      <th></th>\n",
              "      <th></th>\n",
              "      <th></th>\n",
              "      <th></th>\n",
              "      <th></th>\n",
              "      <th></th>\n",
              "    </tr>\n",
              "  </thead>\n",
              "  <tbody>\n",
              "    <tr>\n",
              "      <th>2019-09-03</th>\n",
              "      <td>26198.259766</td>\n",
              "      <td>25978.220703</td>\n",
              "      <td>26198.259766</td>\n",
              "      <td>26118.019531</td>\n",
              "      <td>223210000</td>\n",
              "      <td>0</td>\n",
              "      <td>50.090507</td>\n",
              "    </tr>\n",
              "    <tr>\n",
              "      <th>2019-09-04</th>\n",
              "      <td>26362.349609</td>\n",
              "      <td>26244.439453</td>\n",
              "      <td>26301.990234</td>\n",
              "      <td>26355.470703</td>\n",
              "      <td>202710000</td>\n",
              "      <td>0</td>\n",
              "      <td>56.502074</td>\n",
              "    </tr>\n",
              "    <tr>\n",
              "      <th>2019-09-05</th>\n",
              "      <td>26836.300781</td>\n",
              "      <td>26603.150391</td>\n",
              "      <td>26603.150391</td>\n",
              "      <td>26728.150391</td>\n",
              "      <td>256670000</td>\n",
              "      <td>0</td>\n",
              "      <td>64.711665</td>\n",
              "    </tr>\n",
              "    <tr>\n",
              "      <th>2019-09-06</th>\n",
              "      <td>26860.869141</td>\n",
              "      <td>26708.390625</td>\n",
              "      <td>26790.250000</td>\n",
              "      <td>26797.460938</td>\n",
              "      <td>209700000</td>\n",
              "      <td>0</td>\n",
              "      <td>66.085243</td>\n",
              "    </tr>\n",
              "    <tr>\n",
              "      <th>2019-09-09</th>\n",
              "      <td>26900.830078</td>\n",
              "      <td>26762.179688</td>\n",
              "      <td>26866.230469</td>\n",
              "      <td>26835.509766</td>\n",
              "      <td>273120000</td>\n",
              "      <td>0</td>\n",
              "      <td>66.901304</td>\n",
              "    </tr>\n",
              "  </tbody>\n",
              "</table>\n",
              "</div>"
            ],
            "text/plain": [
              "                    High           Low  ...  triple_barrier_signal        RSI\n",
              "Date                                    ...                                  \n",
              "2019-09-03  26198.259766  25978.220703  ...                      0  50.090507\n",
              "2019-09-04  26362.349609  26244.439453  ...                      0  56.502074\n",
              "2019-09-05  26836.300781  26603.150391  ...                      0  64.711665\n",
              "2019-09-06  26860.869141  26708.390625  ...                      0  66.085243\n",
              "2019-09-09  26900.830078  26762.179688  ...                      0  66.901304\n",
              "\n",
              "[5 rows x 7 columns]"
            ]
          },
          "metadata": {
            "tags": []
          },
          "execution_count": 10
        },
        {
          "output_type": "display_data",
          "data": {
            "image/png": "[encoded data removed]",
            "text/plain": [
              "<Figure size 432x288 with 1 Axes>"
            ]
          },
          "metadata": {
            "tags": []
          }
        }
      ]
    },
    {
      "cell_type": "markdown",
      "metadata": {
        "id": "fZXZuQe93pJE",
        "colab_type": "text"
      },
      "source": [
        "# 計算威廉指標"
      ]
    },
    {
      "cell_type": "code",
      "metadata": {
        "id": "Q8_qx-dnfPJa",
        "colab_type": "code",
        "outputId": "7fd2ee5b-79d7-451f-a482-cc156d574f2f",
        "colab": {
          "base_uri": "https://localhost:8080/",
          "height": 656
        }
      },
      "source": [
        "df['Williams %R'] = TA.WILLIAMS(ohlcv)\n",
        "print(df['Williams %R'].describe())\n",
        "sns.distplot(df['Williams %R'].dropna())\n",
        "df.tail()"
      ],
      "execution_count": 11,
      "outputs": [
        {
          "output_type": "stream",
          "text": [
            "count    8711.000000\n",
            "mean      -39.657801\n",
            "std        29.970462\n",
            "min      -100.000000\n",
            "25%       -64.948569\n",
            "50%       -33.926557\n",
            "75%       -12.370509\n",
            "max        -0.000000\n",
            "Name: Williams %R, dtype: float64\n"
          ],
          "name": "stdout"
        },
        {
          "output_type": "execute_result",
          "data": {
            "text/html": [
              "<div>\n",
              "<style scoped>\n",
              "    .dataframe tbody tr th:only-of-type {\n",
              "        vertical-align: middle;\n",
              "    }\n",
              "\n",
              "    .dataframe tbody tr th {\n",
              "        vertical-align: top;\n",
              "    }\n",
              "\n",
              "    .dataframe thead th {\n",
              "        text-align: right;\n",
              "    }\n",
              "</style>\n",
              "<table border=\"1\" class=\"dataframe\">\n",
              "  <thead>\n",
              "    <tr style=\"text-align: right;\">\n",
              "      <th></th>\n",
              "      <th>High</th>\n",
              "      <th>Low</th>\n",
              "      <th>Open</th>\n",
              "      <th>Close</th>\n",
              "      <th>Volume</th>\n",
              "      <th>triple_barrier_signal</th>\n",
              "      <th>RSI</th>\n",
              "      <th>Williams %R</th>\n",
              "    </tr>\n",
              "    <tr>\n",
              "      <th>Date</th>\n",
              "      <th></th>\n",
              "      <th></th>\n",
              "      <th></th>\n",
              "      <th></th>\n",
              "      <th></th>\n",
              "      <th></th>\n",
              "      <th></th>\n",
              "      <th></th>\n",
              "    </tr>\n",
              "  </thead>\n",
              "  <tbody>\n",
              "    <tr>\n",
              "      <th>2019-09-03</th>\n",
              "      <td>26198.259766</td>\n",
              "      <td>25978.220703</td>\n",
              "      <td>26198.259766</td>\n",
              "      <td>26118.019531</td>\n",
              "      <td>223210000</td>\n",
              "      <td>0</td>\n",
              "      <td>50.090507</td>\n",
              "      <td>-33.752597</td>\n",
              "    </tr>\n",
              "    <tr>\n",
              "      <th>2019-09-04</th>\n",
              "      <td>26362.349609</td>\n",
              "      <td>26244.439453</td>\n",
              "      <td>26301.990234</td>\n",
              "      <td>26355.470703</td>\n",
              "      <td>202710000</td>\n",
              "      <td>0</td>\n",
              "      <td>56.502074</td>\n",
              "      <td>-13.544323</td>\n",
              "    </tr>\n",
              "    <tr>\n",
              "      <th>2019-09-05</th>\n",
              "      <td>26836.300781</td>\n",
              "      <td>26603.150391</td>\n",
              "      <td>26603.150391</td>\n",
              "      <td>26728.150391</td>\n",
              "      <td>256670000</td>\n",
              "      <td>0</td>\n",
              "      <td>64.711665</td>\n",
              "      <td>-8.136985</td>\n",
              "    </tr>\n",
              "    <tr>\n",
              "      <th>2019-09-06</th>\n",
              "      <td>26860.869141</td>\n",
              "      <td>26708.390625</td>\n",
              "      <td>26790.250000</td>\n",
              "      <td>26797.460938</td>\n",
              "      <td>209700000</td>\n",
              "      <td>0</td>\n",
              "      <td>66.085243</td>\n",
              "      <td>-4.684103</td>\n",
              "    </tr>\n",
              "    <tr>\n",
              "      <th>2019-09-09</th>\n",
              "      <td>26900.830078</td>\n",
              "      <td>26762.179688</td>\n",
              "      <td>26866.230469</td>\n",
              "      <td>26835.509766</td>\n",
              "      <td>273120000</td>\n",
              "      <td>0</td>\n",
              "      <td>66.901304</td>\n",
              "      <td>-4.686994</td>\n",
              "    </tr>\n",
              "  </tbody>\n",
              "</table>\n",
              "</div>"
            ],
            "text/plain": [
              "                    High           Low  ...        RSI  Williams %R\n",
              "Date                                    ...                        \n",
              "2019-09-03  26198.259766  25978.220703  ...  50.090507   -33.752597\n",
              "2019-09-04  26362.349609  26244.439453  ...  56.502074   -13.544323\n",
              "2019-09-05  26836.300781  26603.150391  ...  64.711665    -8.136985\n",
              "2019-09-06  26860.869141  26708.390625  ...  66.085243    -4.684103\n",
              "2019-09-09  26900.830078  26762.179688  ...  66.901304    -4.686994\n",
              "\n",
              "[5 rows x 8 columns]"
            ]
          },
          "metadata": {
            "tags": []
          },
          "execution_count": 11
        },
        {
          "output_type": "display_data",
          "data": {
            "image/png": "[encoded data removed]",
            "text/plain": [
              "<Figure size 432x288 with 1 Axes>"
            ]
          },
          "metadata": {
            "tags": []
          }
        }
      ]
    },
    {
      "cell_type": "markdown",
      "metadata": {
        "id": "xK4jb6KTDdGa",
        "colab_type": "text"
      },
      "source": [
        "# SMA"
      ]
    },
    {
      "cell_type": "code",
      "metadata": {
        "id": "osETw-NkfgfL",
        "colab_type": "code",
        "outputId": "1a4a0578-8866-4eca-89a4-0ac5ff732f94",
        "colab": {
          "base_uri": "https://localhost:8080/",
          "height": 656
        }
      },
      "source": [
        "df['SMA'] = TA.SMA(ohlcv)\n",
        "print(df['SMA'].describe())\n",
        "sns.distplot(df['SMA'].dropna())\n",
        "df.tail()"
      ],
      "execution_count": 12,
      "outputs": [
        {
          "output_type": "stream",
          "text": [
            "count     8684.000000\n",
            "mean      9650.721234\n",
            "std       6238.768536\n",
            "min       1261.914643\n",
            "25%       3606.284698\n",
            "50%      10014.999428\n",
            "75%      12506.702684\n",
            "max      26759.521103\n",
            "Name: SMA, dtype: float64\n"
          ],
          "name": "stdout"
        },
        {
          "output_type": "execute_result",
          "data": {
            "text/html": [
              "<div>\n",
              "<style scoped>\n",
              "    .dataframe tbody tr th:only-of-type {\n",
              "        vertical-align: middle;\n",
              "    }\n",
              "\n",
              "    .dataframe tbody tr th {\n",
              "        vertical-align: top;\n",
              "    }\n",
              "\n",
              "    .dataframe thead th {\n",
              "        text-align: right;\n",
              "    }\n",
              "</style>\n",
              "<table border=\"1\" class=\"dataframe\">\n",
              "  <thead>\n",
              "    <tr style=\"text-align: right;\">\n",
              "      <th></th>\n",
              "      <th>High</th>\n",
              "      <th>Low</th>\n",
              "      <th>Open</th>\n",
              "      <th>Close</th>\n",
              "      <th>Volume</th>\n",
              "      <th>triple_barrier_signal</th>\n",
              "      <th>RSI</th>\n",
              "      <th>Williams %R</th>\n",
              "      <th>SMA</th>\n",
              "    </tr>\n",
              "    <tr>\n",
              "      <th>Date</th>\n",
              "      <th></th>\n",
              "      <th></th>\n",
              "      <th></th>\n",
              "      <th></th>\n",
              "      <th></th>\n",
              "      <th></th>\n",
              "      <th></th>\n",
              "      <th></th>\n",
              "      <th></th>\n",
              "    </tr>\n",
              "  </thead>\n",
              "  <tbody>\n",
              "    <tr>\n",
              "      <th>2019-09-03</th>\n",
              "      <td>26198.259766</td>\n",
              "      <td>25978.220703</td>\n",
              "      <td>26198.259766</td>\n",
              "      <td>26118.019531</td>\n",
              "      <td>223210000</td>\n",
              "      <td>0</td>\n",
              "      <td>50.090507</td>\n",
              "      <td>-33.752597</td>\n",
              "      <td>26535.558927</td>\n",
              "    </tr>\n",
              "    <tr>\n",
              "      <th>2019-09-04</th>\n",
              "      <td>26362.349609</td>\n",
              "      <td>26244.439453</td>\n",
              "      <td>26301.990234</td>\n",
              "      <td>26355.470703</td>\n",
              "      <td>202710000</td>\n",
              "      <td>0</td>\n",
              "      <td>56.502074</td>\n",
              "      <td>-13.544323</td>\n",
              "      <td>26524.566978</td>\n",
              "    </tr>\n",
              "    <tr>\n",
              "      <th>2019-09-05</th>\n",
              "      <td>26836.300781</td>\n",
              "      <td>26603.150391</td>\n",
              "      <td>26603.150391</td>\n",
              "      <td>26728.150391</td>\n",
              "      <td>256670000</td>\n",
              "      <td>0</td>\n",
              "      <td>64.711665</td>\n",
              "      <td>-8.136985</td>\n",
              "      <td>26523.217226</td>\n",
              "    </tr>\n",
              "    <tr>\n",
              "      <th>2019-09-06</th>\n",
              "      <td>26860.869141</td>\n",
              "      <td>26708.390625</td>\n",
              "      <td>26790.250000</td>\n",
              "      <td>26797.460938</td>\n",
              "      <td>209700000</td>\n",
              "      <td>0</td>\n",
              "      <td>66.085243</td>\n",
              "      <td>-4.684103</td>\n",
              "      <td>26521.687024</td>\n",
              "    </tr>\n",
              "    <tr>\n",
              "      <th>2019-09-09</th>\n",
              "      <td>26900.830078</td>\n",
              "      <td>26762.179688</td>\n",
              "      <td>26866.230469</td>\n",
              "      <td>26835.509766</td>\n",
              "      <td>273120000</td>\n",
              "      <td>0</td>\n",
              "      <td>66.901304</td>\n",
              "      <td>-4.686994</td>\n",
              "      <td>26515.526772</td>\n",
              "    </tr>\n",
              "  </tbody>\n",
              "</table>\n",
              "</div>"
            ],
            "text/plain": [
              "                    High           Low  ...  Williams %R           SMA\n",
              "Date                                    ...                           \n",
              "2019-09-03  26198.259766  25978.220703  ...   -33.752597  26535.558927\n",
              "2019-09-04  26362.349609  26244.439453  ...   -13.544323  26524.566978\n",
              "2019-09-05  26836.300781  26603.150391  ...    -8.136985  26523.217226\n",
              "2019-09-06  26860.869141  26708.390625  ...    -4.684103  26521.687024\n",
              "2019-09-09  26900.830078  26762.179688  ...    -4.686994  26515.526772\n",
              "\n",
              "[5 rows x 9 columns]"
            ]
          },
          "metadata": {
            "tags": []
          },
          "execution_count": 12
        },
        {
          "output_type": "display_data",
          "data": {
            "image/png": "[encoded data removed]",
            "text/plain": [
              "<Figure size 432x288 with 1 Axes>"
            ]
          },
          "metadata": {
            "tags": []
          }
        }
      ]
    },
    {
      "cell_type": "markdown",
      "metadata": {
        "id": "a2Mf0ckEoHC_",
        "colab_type": "text"
      },
      "source": [
        "# EMA"
      ]
    },
    {
      "cell_type": "code",
      "metadata": {
        "id": "EQlFyJLeh4WA",
        "colab_type": "code",
        "outputId": "f8ee407d-5efd-4fed-8d4e-d2636f172f1e",
        "colab": {
          "base_uri": "https://localhost:8080/",
          "height": 656
        }
      },
      "source": [
        "df['EMA'] = TA.EMA(ohlcv)\n",
        "print(df['EMA'].describe())\n",
        "sns.distplot(df['EMA'])\n",
        "df.tail()"
      ],
      "execution_count": 13,
      "outputs": [
        {
          "output_type": "stream",
          "text": [
            "count     8724.000000\n",
            "mean      9658.145814\n",
            "std       6283.844209\n",
            "min       1253.483551\n",
            "25%       3593.941321\n",
            "50%       9948.293189\n",
            "75%      12528.358227\n",
            "max      27201.667593\n",
            "Name: EMA, dtype: float64\n"
          ],
          "name": "stdout"
        },
        {
          "output_type": "execute_result",
          "data": {
            "text/html": [
              "<div>\n",
              "<style scoped>\n",
              "    .dataframe tbody tr th:only-of-type {\n",
              "        vertical-align: middle;\n",
              "    }\n",
              "\n",
              "    .dataframe tbody tr th {\n",
              "        vertical-align: top;\n",
              "    }\n",
              "\n",
              "    .dataframe thead th {\n",
              "        text-align: right;\n",
              "    }\n",
              "</style>\n",
              "<table border=\"1\" class=\"dataframe\">\n",
              "  <thead>\n",
              "    <tr style=\"text-align: right;\">\n",
              "      <th></th>\n",
              "      <th>High</th>\n",
              "      <th>Low</th>\n",
              "      <th>Open</th>\n",
              "      <th>Close</th>\n",
              "      <th>Volume</th>\n",
              "      <th>triple_barrier_signal</th>\n",
              "      <th>RSI</th>\n",
              "      <th>Williams %R</th>\n",
              "      <th>SMA</th>\n",
              "      <th>EMA</th>\n",
              "    </tr>\n",
              "    <tr>\n",
              "      <th>Date</th>\n",
              "      <th></th>\n",
              "      <th></th>\n",
              "      <th></th>\n",
              "      <th></th>\n",
              "      <th></th>\n",
              "      <th></th>\n",
              "      <th></th>\n",
              "      <th></th>\n",
              "      <th></th>\n",
              "      <th></th>\n",
              "    </tr>\n",
              "  </thead>\n",
              "  <tbody>\n",
              "    <tr>\n",
              "      <th>2019-09-03</th>\n",
              "      <td>26198.259766</td>\n",
              "      <td>25978.220703</td>\n",
              "      <td>26198.259766</td>\n",
              "      <td>26118.019531</td>\n",
              "      <td>223210000</td>\n",
              "      <td>0</td>\n",
              "      <td>50.090507</td>\n",
              "      <td>-33.752597</td>\n",
              "      <td>26535.558927</td>\n",
              "      <td>26112.680916</td>\n",
              "    </tr>\n",
              "    <tr>\n",
              "      <th>2019-09-04</th>\n",
              "      <td>26362.349609</td>\n",
              "      <td>26244.439453</td>\n",
              "      <td>26301.990234</td>\n",
              "      <td>26355.470703</td>\n",
              "      <td>202710000</td>\n",
              "      <td>0</td>\n",
              "      <td>56.502074</td>\n",
              "      <td>-13.544323</td>\n",
              "      <td>26524.566978</td>\n",
              "      <td>26161.238873</td>\n",
              "    </tr>\n",
              "    <tr>\n",
              "      <th>2019-09-05</th>\n",
              "      <td>26836.300781</td>\n",
              "      <td>26603.150391</td>\n",
              "      <td>26603.150391</td>\n",
              "      <td>26728.150391</td>\n",
              "      <td>256670000</td>\n",
              "      <td>0</td>\n",
              "      <td>64.711665</td>\n",
              "      <td>-8.136985</td>\n",
              "      <td>26523.217226</td>\n",
              "      <td>26274.621177</td>\n",
              "    </tr>\n",
              "    <tr>\n",
              "      <th>2019-09-06</th>\n",
              "      <td>26860.869141</td>\n",
              "      <td>26708.390625</td>\n",
              "      <td>26790.250000</td>\n",
              "      <td>26797.460938</td>\n",
              "      <td>209700000</td>\n",
              "      <td>0</td>\n",
              "      <td>66.085243</td>\n",
              "      <td>-4.684103</td>\n",
              "      <td>26521.687024</td>\n",
              "      <td>26379.189129</td>\n",
              "    </tr>\n",
              "    <tr>\n",
              "      <th>2019-09-09</th>\n",
              "      <td>26900.830078</td>\n",
              "      <td>26762.179688</td>\n",
              "      <td>26866.230469</td>\n",
              "      <td>26835.509766</td>\n",
              "      <td>273120000</td>\n",
              "      <td>0</td>\n",
              "      <td>66.901304</td>\n",
              "      <td>-4.686994</td>\n",
              "      <td>26515.526772</td>\n",
              "      <td>26470.453256</td>\n",
              "    </tr>\n",
              "  </tbody>\n",
              "</table>\n",
              "</div>"
            ],
            "text/plain": [
              "                    High           Low  ...           SMA           EMA\n",
              "Date                                    ...                            \n",
              "2019-09-03  26198.259766  25978.220703  ...  26535.558927  26112.680916\n",
              "2019-09-04  26362.349609  26244.439453  ...  26524.566978  26161.238873\n",
              "2019-09-05  26836.300781  26603.150391  ...  26523.217226  26274.621177\n",
              "2019-09-06  26860.869141  26708.390625  ...  26521.687024  26379.189129\n",
              "2019-09-09  26900.830078  26762.179688  ...  26515.526772  26470.453256\n",
              "\n",
              "[5 rows x 10 columns]"
            ]
          },
          "metadata": {
            "tags": []
          },
          "execution_count": 13
        },
        {
          "output_type": "display_data",
          "data": {
            "image/png": "[encoded data removed]",
            "text/plain": [
              "<Figure size 432x288 with 1 Axes>"
            ]
          },
          "metadata": {
            "tags": []
          }
        }
      ]
    },
    {
      "cell_type": "markdown",
      "metadata": {
        "id": "wqkaWfQryV3W",
        "colab_type": "text"
      },
      "source": [
        "# WMA"
      ]
    },
    {
      "cell_type": "code",
      "metadata": {
        "id": "9Dw9scCSieLI",
        "colab_type": "code",
        "outputId": "23ce483a-aebe-4cb4-ff6c-822c6e215e61",
        "colab": {
          "base_uri": "https://localhost:8080/",
          "height": 712
        }
      },
      "source": [
        "df['WMA'] = TA.WMA(ohlcv)\n",
        "print(df['WMA'].describe())\n",
        "sns.distplot(df['WMA'].dropna())\n",
        "df.tail()"
      ],
      "execution_count": 14,
      "outputs": [
        {
          "output_type": "stream",
          "text": [
            "/usr/local/lib/python3.6/dist-packages/finta/finta.py:263: FutureWarning: Currently, 'apply' passes the values as ndarrays to the applied function. In the future, this will change to passing it as Series objects. You need to specify 'raw=True' to keep the current behaviour, and you can pass 'raw=False' to silence this warning\n",
            "  wma = close_.apply(linear(weights))\n"
          ],
          "name": "stderr"
        },
        {
          "output_type": "stream",
          "text": [
            "count     8716.000000\n",
            "mean      9661.930569\n",
            "std       6279.692920\n",
            "min       1248.968245\n",
            "25%       3605.209623\n",
            "50%       9939.339616\n",
            "75%      12543.678825\n",
            "max      27283.239106\n",
            "Name: WMA, dtype: float64\n"
          ],
          "name": "stdout"
        },
        {
          "output_type": "execute_result",
          "data": {
            "text/html": [
              "<div>\n",
              "<style scoped>\n",
              "    .dataframe tbody tr th:only-of-type {\n",
              "        vertical-align: middle;\n",
              "    }\n",
              "\n",
              "    .dataframe tbody tr th {\n",
              "        vertical-align: top;\n",
              "    }\n",
              "\n",
              "    .dataframe thead th {\n",
              "        text-align: right;\n",
              "    }\n",
              "</style>\n",
              "<table border=\"1\" class=\"dataframe\">\n",
              "  <thead>\n",
              "    <tr style=\"text-align: right;\">\n",
              "      <th></th>\n",
              "      <th>High</th>\n",
              "      <th>Low</th>\n",
              "      <th>Open</th>\n",
              "      <th>Close</th>\n",
              "      <th>Volume</th>\n",
              "      <th>triple_barrier_signal</th>\n",
              "      <th>RSI</th>\n",
              "      <th>Williams %R</th>\n",
              "      <th>SMA</th>\n",
              "      <th>EMA</th>\n",
              "      <th>WMA</th>\n",
              "    </tr>\n",
              "    <tr>\n",
              "      <th>Date</th>\n",
              "      <th></th>\n",
              "      <th></th>\n",
              "      <th></th>\n",
              "      <th></th>\n",
              "      <th></th>\n",
              "      <th></th>\n",
              "      <th></th>\n",
              "      <th></th>\n",
              "      <th></th>\n",
              "      <th></th>\n",
              "      <th></th>\n",
              "    </tr>\n",
              "  </thead>\n",
              "  <tbody>\n",
              "    <tr>\n",
              "      <th>2019-09-03</th>\n",
              "      <td>26198.259766</td>\n",
              "      <td>25978.220703</td>\n",
              "      <td>26198.259766</td>\n",
              "      <td>26118.019531</td>\n",
              "      <td>223210000</td>\n",
              "      <td>0</td>\n",
              "      <td>50.090507</td>\n",
              "      <td>-33.752597</td>\n",
              "      <td>26535.558927</td>\n",
              "      <td>26112.680916</td>\n",
              "      <td>26037.400174</td>\n",
              "    </tr>\n",
              "    <tr>\n",
              "      <th>2019-09-04</th>\n",
              "      <td>26362.349609</td>\n",
              "      <td>26244.439453</td>\n",
              "      <td>26301.990234</td>\n",
              "      <td>26355.470703</td>\n",
              "      <td>202710000</td>\n",
              "      <td>0</td>\n",
              "      <td>56.502074</td>\n",
              "      <td>-13.544323</td>\n",
              "      <td>26524.566978</td>\n",
              "      <td>26161.238873</td>\n",
              "      <td>26015.364974</td>\n",
              "    </tr>\n",
              "    <tr>\n",
              "      <th>2019-09-05</th>\n",
              "      <td>26836.300781</td>\n",
              "      <td>26603.150391</td>\n",
              "      <td>26603.150391</td>\n",
              "      <td>26728.150391</td>\n",
              "      <td>256670000</td>\n",
              "      <td>0</td>\n",
              "      <td>64.711665</td>\n",
              "      <td>-8.136985</td>\n",
              "      <td>26523.217226</td>\n",
              "      <td>26274.621177</td>\n",
              "      <td>25994.003602</td>\n",
              "    </tr>\n",
              "    <tr>\n",
              "      <th>2019-09-06</th>\n",
              "      <td>26860.869141</td>\n",
              "      <td>26708.390625</td>\n",
              "      <td>26790.250000</td>\n",
              "      <td>26797.460938</td>\n",
              "      <td>209700000</td>\n",
              "      <td>0</td>\n",
              "      <td>66.085243</td>\n",
              "      <td>-4.684103</td>\n",
              "      <td>26521.687024</td>\n",
              "      <td>26379.189129</td>\n",
              "      <td>26123.278212</td>\n",
              "    </tr>\n",
              "    <tr>\n",
              "      <th>2019-09-09</th>\n",
              "      <td>26900.830078</td>\n",
              "      <td>26762.179688</td>\n",
              "      <td>26866.230469</td>\n",
              "      <td>26835.509766</td>\n",
              "      <td>273120000</td>\n",
              "      <td>0</td>\n",
              "      <td>66.901304</td>\n",
              "      <td>-4.686994</td>\n",
              "      <td>26515.526772</td>\n",
              "      <td>26470.453256</td>\n",
              "      <td>26219.381988</td>\n",
              "    </tr>\n",
              "  </tbody>\n",
              "</table>\n",
              "</div>"
            ],
            "text/plain": [
              "                    High           Low  ...           EMA           WMA\n",
              "Date                                    ...                            \n",
              "2019-09-03  26198.259766  25978.220703  ...  26112.680916  26037.400174\n",
              "2019-09-04  26362.349609  26244.439453  ...  26161.238873  26015.364974\n",
              "2019-09-05  26836.300781  26603.150391  ...  26274.621177  25994.003602\n",
              "2019-09-06  26860.869141  26708.390625  ...  26379.189129  26123.278212\n",
              "2019-09-09  26900.830078  26762.179688  ...  26470.453256  26219.381988\n",
              "\n",
              "[5 rows x 11 columns]"
            ]
          },
          "metadata": {
            "tags": []
          },
          "execution_count": 14
        },
        {
          "output_type": "display_data",
          "data": {
            "image/png": "[encoded data removed]",
            "text/plain": [
              "<Figure size 432x288 with 1 Axes>"
            ]
          },
          "metadata": {
            "tags": []
          }
        }
      ]
    },
    {
      "cell_type": "markdown",
      "metadata": {
        "id": "HNC131ghyrF1",
        "colab_type": "text"
      },
      "source": [
        "# HMA"
      ]
    },
    {
      "cell_type": "code",
      "metadata": {
        "id": "b02O6Yevi6mN",
        "colab_type": "code",
        "outputId": "5023df20-cbbe-472f-a091-158812f54121",
        "colab": {
          "base_uri": "https://localhost:8080/",
          "height": 921
        }
      },
      "source": [
        "df['HMA'] = TA.HMA(ohlcv)\n",
        "print(df['HMA'].describe())\n",
        "sns.distplot(df['HMA'].dropna())\n",
        "df.tail()"
      ],
      "execution_count": 15,
      "outputs": [
        {
          "output_type": "stream",
          "text": [
            "/usr/local/lib/python3.6/dist-packages/finta/finta.py:263: FutureWarning: Currently, 'apply' passes the values as ndarrays to the applied function. In the future, this will change to passing it as Series objects. You need to specify 'raw=True' to keep the current behaviour, and you can pass 'raw=False' to silence this warning\n",
            "  wma = close_.apply(linear(weights))\n",
            "/usr/local/lib/python3.6/dist-packages/finta/finta.py:285: SettingWithCopyWarning: \n",
            "A value is trying to be set on a copy of a slice from a DataFrame.\n",
            "Try using .loc[row_indexer,col_indexer] = value instead\n",
            "\n",
            "See the caveats in the documentation: http://pandas.pydata.org/pandas-docs/stable/indexing.html#indexing-view-versus-copy\n",
            "  ohlc['deltawma'] = 2 * wmaf - wmas\n"
          ],
          "name": "stderr"
        },
        {
          "output_type": "stream",
          "text": [
            "count     8721.000000\n",
            "mean      9666.724228\n",
            "std       6288.087230\n",
            "min       1243.728027\n",
            "25%       3600.223999\n",
            "50%       9926.556934\n",
            "75%      12552.030762\n",
            "max      27329.670898\n",
            "Name: HMA, dtype: float64\n"
          ],
          "name": "stdout"
        },
        {
          "output_type": "execute_result",
          "data": {
            "text/html": [
              "<div>\n",
              "<style scoped>\n",
              "    .dataframe tbody tr th:only-of-type {\n",
              "        vertical-align: middle;\n",
              "    }\n",
              "\n",
              "    .dataframe tbody tr th {\n",
              "        vertical-align: top;\n",
              "    }\n",
              "\n",
              "    .dataframe thead th {\n",
              "        text-align: right;\n",
              "    }\n",
              "</style>\n",
              "<table border=\"1\" class=\"dataframe\">\n",
              "  <thead>\n",
              "    <tr style=\"text-align: right;\">\n",
              "      <th></th>\n",
              "      <th>High</th>\n",
              "      <th>Low</th>\n",
              "      <th>Open</th>\n",
              "      <th>Close</th>\n",
              "      <th>Volume</th>\n",
              "      <th>triple_barrier_signal</th>\n",
              "      <th>RSI</th>\n",
              "      <th>Williams %R</th>\n",
              "      <th>SMA</th>\n",
              "      <th>EMA</th>\n",
              "      <th>WMA</th>\n",
              "      <th>HMA</th>\n",
              "    </tr>\n",
              "    <tr>\n",
              "      <th>Date</th>\n",
              "      <th></th>\n",
              "      <th></th>\n",
              "      <th></th>\n",
              "      <th></th>\n",
              "      <th></th>\n",
              "      <th></th>\n",
              "      <th></th>\n",
              "      <th></th>\n",
              "      <th></th>\n",
              "      <th></th>\n",
              "      <th></th>\n",
              "      <th></th>\n",
              "    </tr>\n",
              "  </thead>\n",
              "  <tbody>\n",
              "    <tr>\n",
              "      <th>2019-09-03</th>\n",
              "      <td>26198.259766</td>\n",
              "      <td>25978.220703</td>\n",
              "      <td>26198.259766</td>\n",
              "      <td>26118.019531</td>\n",
              "      <td>223210000</td>\n",
              "      <td>0</td>\n",
              "      <td>50.090507</td>\n",
              "      <td>-33.752597</td>\n",
              "      <td>26535.558927</td>\n",
              "      <td>26112.680916</td>\n",
              "      <td>26037.400174</td>\n",
              "      <td>26215.572656</td>\n",
              "    </tr>\n",
              "    <tr>\n",
              "      <th>2019-09-04</th>\n",
              "      <td>26362.349609</td>\n",
              "      <td>26244.439453</td>\n",
              "      <td>26301.990234</td>\n",
              "      <td>26355.470703</td>\n",
              "      <td>202710000</td>\n",
              "      <td>0</td>\n",
              "      <td>56.502074</td>\n",
              "      <td>-13.544323</td>\n",
              "      <td>26524.566978</td>\n",
              "      <td>26161.238873</td>\n",
              "      <td>26015.364974</td>\n",
              "      <td>26325.034766</td>\n",
              "    </tr>\n",
              "    <tr>\n",
              "      <th>2019-09-05</th>\n",
              "      <td>26836.300781</td>\n",
              "      <td>26603.150391</td>\n",
              "      <td>26603.150391</td>\n",
              "      <td>26728.150391</td>\n",
              "      <td>256670000</td>\n",
              "      <td>0</td>\n",
              "      <td>64.711665</td>\n",
              "      <td>-8.136985</td>\n",
              "      <td>26523.217226</td>\n",
              "      <td>26274.621177</td>\n",
              "      <td>25994.003602</td>\n",
              "      <td>26340.626758</td>\n",
              "    </tr>\n",
              "    <tr>\n",
              "      <th>2019-09-06</th>\n",
              "      <td>26860.869141</td>\n",
              "      <td>26708.390625</td>\n",
              "      <td>26790.250000</td>\n",
              "      <td>26797.460938</td>\n",
              "      <td>209700000</td>\n",
              "      <td>0</td>\n",
              "      <td>66.085243</td>\n",
              "      <td>-4.684103</td>\n",
              "      <td>26521.687024</td>\n",
              "      <td>26379.189129</td>\n",
              "      <td>26123.278212</td>\n",
              "      <td>26379.225195</td>\n",
              "    </tr>\n",
              "    <tr>\n",
              "      <th>2019-09-09</th>\n",
              "      <td>26900.830078</td>\n",
              "      <td>26762.179688</td>\n",
              "      <td>26866.230469</td>\n",
              "      <td>26835.509766</td>\n",
              "      <td>273120000</td>\n",
              "      <td>0</td>\n",
              "      <td>66.901304</td>\n",
              "      <td>-4.686994</td>\n",
              "      <td>26515.526772</td>\n",
              "      <td>26470.453256</td>\n",
              "      <td>26219.381988</td>\n",
              "      <td>26603.676563</td>\n",
              "    </tr>\n",
              "  </tbody>\n",
              "</table>\n",
              "</div>"
            ],
            "text/plain": [
              "                    High           Low  ...           WMA           HMA\n",
              "Date                                    ...                            \n",
              "2019-09-03  26198.259766  25978.220703  ...  26037.400174  26215.572656\n",
              "2019-09-04  26362.349609  26244.439453  ...  26015.364974  26325.034766\n",
              "2019-09-05  26836.300781  26603.150391  ...  25994.003602  26340.626758\n",
              "2019-09-06  26860.869141  26708.390625  ...  26123.278212  26379.225195\n",
              "2019-09-09  26900.830078  26762.179688  ...  26219.381988  26603.676563\n",
              "\n",
              "[5 rows x 12 columns]"
            ]
          },
          "metadata": {
            "tags": []
          },
          "execution_count": 15
        },
        {
          "output_type": "display_data",
          "data": {
            "image/png": "[encoded data removed]",
            "text/plain": [
              "<Figure size 432x288 with 1 Axes>"
            ]
          },
          "metadata": {
            "tags": []
          }
        }
      ]
    },
    {
      "cell_type": "markdown",
      "metadata": {
        "id": "ch7SZ7aFjCit",
        "colab_type": "text"
      },
      "source": [
        "# TEMA"
      ]
    },
    {
      "cell_type": "code",
      "metadata": {
        "id": "GeS0aHxZjFtA",
        "colab_type": "code",
        "outputId": "94094c71-0536-498a-ff25-eeee499f6749",
        "colab": {
          "base_uri": "https://localhost:8080/",
          "height": 778
        }
      },
      "source": [
        "df['TEMA'] = TA.TEMA(ohlcv)\n",
        "print(df['TEMA'].describe())\n",
        "sns.distplot(df['TEMA'].dropna())\n",
        "df.tail()"
      ],
      "execution_count": 16,
      "outputs": [
        {
          "output_type": "stream",
          "text": [
            "count     8724.000000\n",
            "mean      9669.622608\n",
            "std       6293.621392\n",
            "min       1243.116150\n",
            "25%       3597.679928\n",
            "50%       9929.640445\n",
            "75%      12553.336547\n",
            "max      27357.214328\n",
            "Name: TEMA, dtype: float64\n"
          ],
          "name": "stdout"
        },
        {
          "output_type": "execute_result",
          "data": {
            "text/html": [
              "<div>\n",
              "<style scoped>\n",
              "    .dataframe tbody tr th:only-of-type {\n",
              "        vertical-align: middle;\n",
              "    }\n",
              "\n",
              "    .dataframe tbody tr th {\n",
              "        vertical-align: top;\n",
              "    }\n",
              "\n",
              "    .dataframe thead th {\n",
              "        text-align: right;\n",
              "    }\n",
              "</style>\n",
              "<table border=\"1\" class=\"dataframe\">\n",
              "  <thead>\n",
              "    <tr style=\"text-align: right;\">\n",
              "      <th></th>\n",
              "      <th>High</th>\n",
              "      <th>Low</th>\n",
              "      <th>Open</th>\n",
              "      <th>Close</th>\n",
              "      <th>Volume</th>\n",
              "      <th>triple_barrier_signal</th>\n",
              "      <th>RSI</th>\n",
              "      <th>Williams %R</th>\n",
              "      <th>SMA</th>\n",
              "      <th>EMA</th>\n",
              "      <th>WMA</th>\n",
              "      <th>HMA</th>\n",
              "      <th>TEMA</th>\n",
              "    </tr>\n",
              "    <tr>\n",
              "      <th>Date</th>\n",
              "      <th></th>\n",
              "      <th></th>\n",
              "      <th></th>\n",
              "      <th></th>\n",
              "      <th></th>\n",
              "      <th></th>\n",
              "      <th></th>\n",
              "      <th></th>\n",
              "      <th></th>\n",
              "      <th></th>\n",
              "      <th></th>\n",
              "      <th></th>\n",
              "      <th></th>\n",
              "    </tr>\n",
              "  </thead>\n",
              "  <tbody>\n",
              "    <tr>\n",
              "      <th>2019-09-03</th>\n",
              "      <td>26198.259766</td>\n",
              "      <td>25978.220703</td>\n",
              "      <td>26198.259766</td>\n",
              "      <td>26118.019531</td>\n",
              "      <td>223210000</td>\n",
              "      <td>0</td>\n",
              "      <td>50.090507</td>\n",
              "      <td>-33.752597</td>\n",
              "      <td>26535.558927</td>\n",
              "      <td>26112.680916</td>\n",
              "      <td>26037.400174</td>\n",
              "      <td>26215.572656</td>\n",
              "      <td>26260.282746</td>\n",
              "    </tr>\n",
              "    <tr>\n",
              "      <th>2019-09-04</th>\n",
              "      <td>26362.349609</td>\n",
              "      <td>26244.439453</td>\n",
              "      <td>26301.990234</td>\n",
              "      <td>26355.470703</td>\n",
              "      <td>202710000</td>\n",
              "      <td>0</td>\n",
              "      <td>56.502074</td>\n",
              "      <td>-13.544323</td>\n",
              "      <td>26524.566978</td>\n",
              "      <td>26161.238873</td>\n",
              "      <td>26015.364974</td>\n",
              "      <td>26325.034766</td>\n",
              "      <td>26341.688531</td>\n",
              "    </tr>\n",
              "    <tr>\n",
              "      <th>2019-09-05</th>\n",
              "      <td>26836.300781</td>\n",
              "      <td>26603.150391</td>\n",
              "      <td>26603.150391</td>\n",
              "      <td>26728.150391</td>\n",
              "      <td>256670000</td>\n",
              "      <td>0</td>\n",
              "      <td>64.711665</td>\n",
              "      <td>-8.136985</td>\n",
              "      <td>26523.217226</td>\n",
              "      <td>26274.621177</td>\n",
              "      <td>25994.003602</td>\n",
              "      <td>26340.626758</td>\n",
              "      <td>26569.991790</td>\n",
              "    </tr>\n",
              "    <tr>\n",
              "      <th>2019-09-06</th>\n",
              "      <td>26860.869141</td>\n",
              "      <td>26708.390625</td>\n",
              "      <td>26790.250000</td>\n",
              "      <td>26797.460938</td>\n",
              "      <td>209700000</td>\n",
              "      <td>0</td>\n",
              "      <td>66.085243</td>\n",
              "      <td>-4.684103</td>\n",
              "      <td>26521.687024</td>\n",
              "      <td>26379.189129</td>\n",
              "      <td>26123.278212</td>\n",
              "      <td>26379.225195</td>\n",
              "      <td>26741.742832</td>\n",
              "    </tr>\n",
              "    <tr>\n",
              "      <th>2019-09-09</th>\n",
              "      <td>26900.830078</td>\n",
              "      <td>26762.179688</td>\n",
              "      <td>26866.230469</td>\n",
              "      <td>26835.509766</td>\n",
              "      <td>273120000</td>\n",
              "      <td>0</td>\n",
              "      <td>66.901304</td>\n",
              "      <td>-4.686994</td>\n",
              "      <td>26515.526772</td>\n",
              "      <td>26470.453256</td>\n",
              "      <td>26219.381988</td>\n",
              "      <td>26603.676563</td>\n",
              "      <td>26859.075353</td>\n",
              "    </tr>\n",
              "  </tbody>\n",
              "</table>\n",
              "</div>"
            ],
            "text/plain": [
              "                    High           Low  ...           HMA          TEMA\n",
              "Date                                    ...                            \n",
              "2019-09-03  26198.259766  25978.220703  ...  26215.572656  26260.282746\n",
              "2019-09-04  26362.349609  26244.439453  ...  26325.034766  26341.688531\n",
              "2019-09-05  26836.300781  26603.150391  ...  26340.626758  26569.991790\n",
              "2019-09-06  26860.869141  26708.390625  ...  26379.225195  26741.742832\n",
              "2019-09-09  26900.830078  26762.179688  ...  26603.676563  26859.075353\n",
              "\n",
              "[5 rows x 13 columns]"
            ]
          },
          "metadata": {
            "tags": []
          },
          "execution_count": 16
        },
        {
          "output_type": "display_data",
          "data": {
            "image/png": "[encoded data removed]",
            "text/plain": [
              "<Figure size 432x288 with 1 Axes>"
            ]
          },
          "metadata": {
            "tags": []
          }
        }
      ]
    },
    {
      "cell_type": "markdown",
      "metadata": {
        "id": "EbMrqw5jjZaa",
        "colab_type": "text"
      },
      "source": [
        "# CCI"
      ]
    },
    {
      "cell_type": "code",
      "metadata": {
        "id": "WBfeDdkUjZiP",
        "colab_type": "code",
        "outputId": "70a3478c-3815-497c-ab16-02c4d263c849",
        "colab": {
          "base_uri": "https://localhost:8080/",
          "height": 778
        }
      },
      "source": [
        "df['CCI'] = TA.CCI(ohlcv)\n",
        "print(df['CCI'].describe())\n",
        "sns.distplot(df['CCI'].dropna())\n",
        "df.tail()"
      ],
      "execution_count": 17,
      "outputs": [
        {
          "output_type": "stream",
          "text": [
            "count    8723.000000\n",
            "mean       20.524360\n",
            "std        86.342976\n",
            "min      -249.934749\n",
            "25%       -47.826792\n",
            "50%        38.650893\n",
            "75%        90.711304\n",
            "max       218.608626\n",
            "Name: CCI, dtype: float64\n"
          ],
          "name": "stdout"
        },
        {
          "output_type": "execute_result",
          "data": {
            "text/html": [
              "<div>\n",
              "<style scoped>\n",
              "    .dataframe tbody tr th:only-of-type {\n",
              "        vertical-align: middle;\n",
              "    }\n",
              "\n",
              "    .dataframe tbody tr th {\n",
              "        vertical-align: top;\n",
              "    }\n",
              "\n",
              "    .dataframe thead th {\n",
              "        text-align: right;\n",
              "    }\n",
              "</style>\n",
              "<table border=\"1\" class=\"dataframe\">\n",
              "  <thead>\n",
              "    <tr style=\"text-align: right;\">\n",
              "      <th></th>\n",
              "      <th>High</th>\n",
              "      <th>Low</th>\n",
              "      <th>Open</th>\n",
              "      <th>Close</th>\n",
              "      <th>Volume</th>\n",
              "      <th>triple_barrier_signal</th>\n",
              "      <th>RSI</th>\n",
              "      <th>Williams %R</th>\n",
              "      <th>SMA</th>\n",
              "      <th>EMA</th>\n",
              "      <th>WMA</th>\n",
              "      <th>HMA</th>\n",
              "      <th>TEMA</th>\n",
              "      <th>CCI</th>\n",
              "    </tr>\n",
              "    <tr>\n",
              "      <th>Date</th>\n",
              "      <th></th>\n",
              "      <th></th>\n",
              "      <th></th>\n",
              "      <th></th>\n",
              "      <th></th>\n",
              "      <th></th>\n",
              "      <th></th>\n",
              "      <th></th>\n",
              "      <th></th>\n",
              "      <th></th>\n",
              "      <th></th>\n",
              "      <th></th>\n",
              "      <th></th>\n",
              "      <th></th>\n",
              "    </tr>\n",
              "  </thead>\n",
              "  <tbody>\n",
              "    <tr>\n",
              "      <th>2019-09-03</th>\n",
              "      <td>26198.259766</td>\n",
              "      <td>25978.220703</td>\n",
              "      <td>26198.259766</td>\n",
              "      <td>26118.019531</td>\n",
              "      <td>223210000</td>\n",
              "      <td>0</td>\n",
              "      <td>50.090507</td>\n",
              "      <td>-33.752597</td>\n",
              "      <td>26535.558927</td>\n",
              "      <td>26112.680916</td>\n",
              "      <td>26037.400174</td>\n",
              "      <td>26215.572656</td>\n",
              "      <td>26260.282746</td>\n",
              "      <td>23.391411</td>\n",
              "    </tr>\n",
              "    <tr>\n",
              "      <th>2019-09-04</th>\n",
              "      <td>26362.349609</td>\n",
              "      <td>26244.439453</td>\n",
              "      <td>26301.990234</td>\n",
              "      <td>26355.470703</td>\n",
              "      <td>202710000</td>\n",
              "      <td>0</td>\n",
              "      <td>56.502074</td>\n",
              "      <td>-13.544323</td>\n",
              "      <td>26524.566978</td>\n",
              "      <td>26161.238873</td>\n",
              "      <td>26015.364974</td>\n",
              "      <td>26325.034766</td>\n",
              "      <td>26341.688531</td>\n",
              "      <td>77.973636</td>\n",
              "    </tr>\n",
              "    <tr>\n",
              "      <th>2019-09-05</th>\n",
              "      <td>26836.300781</td>\n",
              "      <td>26603.150391</td>\n",
              "      <td>26603.150391</td>\n",
              "      <td>26728.150391</td>\n",
              "      <td>256670000</td>\n",
              "      <td>0</td>\n",
              "      <td>64.711665</td>\n",
              "      <td>-8.136985</td>\n",
              "      <td>26523.217226</td>\n",
              "      <td>26274.621177</td>\n",
              "      <td>25994.003602</td>\n",
              "      <td>26340.626758</td>\n",
              "      <td>26569.991790</td>\n",
              "      <td>151.211344</td>\n",
              "    </tr>\n",
              "    <tr>\n",
              "      <th>2019-09-06</th>\n",
              "      <td>26860.869141</td>\n",
              "      <td>26708.390625</td>\n",
              "      <td>26790.250000</td>\n",
              "      <td>26797.460938</td>\n",
              "      <td>209700000</td>\n",
              "      <td>0</td>\n",
              "      <td>66.085243</td>\n",
              "      <td>-4.684103</td>\n",
              "      <td>26521.687024</td>\n",
              "      <td>26379.189129</td>\n",
              "      <td>26123.278212</td>\n",
              "      <td>26379.225195</td>\n",
              "      <td>26741.742832</td>\n",
              "      <td>141.049882</td>\n",
              "    </tr>\n",
              "    <tr>\n",
              "      <th>2019-09-09</th>\n",
              "      <td>26900.830078</td>\n",
              "      <td>26762.179688</td>\n",
              "      <td>26866.230469</td>\n",
              "      <td>26835.509766</td>\n",
              "      <td>273120000</td>\n",
              "      <td>0</td>\n",
              "      <td>66.901304</td>\n",
              "      <td>-4.686994</td>\n",
              "      <td>26515.526772</td>\n",
              "      <td>26470.453256</td>\n",
              "      <td>26219.381988</td>\n",
              "      <td>26603.676563</td>\n",
              "      <td>26859.075353</td>\n",
              "      <td>129.258694</td>\n",
              "    </tr>\n",
              "  </tbody>\n",
              "</table>\n",
              "</div>"
            ],
            "text/plain": [
              "                    High           Low  ...          TEMA         CCI\n",
              "Date                                    ...                          \n",
              "2019-09-03  26198.259766  25978.220703  ...  26260.282746   23.391411\n",
              "2019-09-04  26362.349609  26244.439453  ...  26341.688531   77.973636\n",
              "2019-09-05  26836.300781  26603.150391  ...  26569.991790  151.211344\n",
              "2019-09-06  26860.869141  26708.390625  ...  26741.742832  141.049882\n",
              "2019-09-09  26900.830078  26762.179688  ...  26859.075353  129.258694\n",
              "\n",
              "[5 rows x 14 columns]"
            ]
          },
          "metadata": {
            "tags": []
          },
          "execution_count": 17
        },
        {
          "output_type": "display_data",
          "data": {
            "image/png": "[encoded data removed]",
            "text/plain": [
              "<Figure size 432x288 with 1 Axes>"
            ]
          },
          "metadata": {
            "tags": []
          }
        }
      ]
    },
    {
      "cell_type": "markdown",
      "metadata": {
        "id": "G8rAJ61cjkJ4",
        "colab_type": "text"
      },
      "source": [
        "# CMO"
      ]
    },
    {
      "cell_type": "code",
      "metadata": {
        "id": "P9EispJmjkj_",
        "colab_type": "code",
        "outputId": "0bff2fe2-9743-4ca6-b92c-cf0ea939fd69",
        "colab": {
          "base_uri": "https://localhost:8080/",
          "height": 778
        }
      },
      "source": [
        "df['CMO'] = TA.CMO(ohlcv)\n",
        "print(df['CMO'].describe())\n",
        "sns.distplot(df['CMO'].dropna())\n",
        "df.tail()"
      ],
      "execution_count": 18,
      "outputs": [
        {
          "output_type": "stream",
          "text": [
            "count    8715.000000\n",
            "mean       10.309793\n",
            "std        40.742608\n",
            "min       -98.714787\n",
            "25%       -19.493128\n",
            "50%        10.948328\n",
            "75%        40.073733\n",
            "max       100.000000\n",
            "Name: CMO, dtype: float64\n"
          ],
          "name": "stdout"
        },
        {
          "output_type": "execute_result",
          "data": {
            "text/html": [
              "<div>\n",
              "<style scoped>\n",
              "    .dataframe tbody tr th:only-of-type {\n",
              "        vertical-align: middle;\n",
              "    }\n",
              "\n",
              "    .dataframe tbody tr th {\n",
              "        vertical-align: top;\n",
              "    }\n",
              "\n",
              "    .dataframe thead th {\n",
              "        text-align: right;\n",
              "    }\n",
              "</style>\n",
              "<table border=\"1\" class=\"dataframe\">\n",
              "  <thead>\n",
              "    <tr style=\"text-align: right;\">\n",
              "      <th></th>\n",
              "      <th>High</th>\n",
              "      <th>Low</th>\n",
              "      <th>Open</th>\n",
              "      <th>Close</th>\n",
              "      <th>Volume</th>\n",
              "      <th>triple_barrier_signal</th>\n",
              "      <th>RSI</th>\n",
              "      <th>Williams %R</th>\n",
              "      <th>SMA</th>\n",
              "      <th>EMA</th>\n",
              "      <th>WMA</th>\n",
              "      <th>HMA</th>\n",
              "      <th>TEMA</th>\n",
              "      <th>CCI</th>\n",
              "      <th>CMO</th>\n",
              "    </tr>\n",
              "    <tr>\n",
              "      <th>Date</th>\n",
              "      <th></th>\n",
              "      <th></th>\n",
              "      <th></th>\n",
              "      <th></th>\n",
              "      <th></th>\n",
              "      <th></th>\n",
              "      <th></th>\n",
              "      <th></th>\n",
              "      <th></th>\n",
              "      <th></th>\n",
              "      <th></th>\n",
              "      <th></th>\n",
              "      <th></th>\n",
              "      <th></th>\n",
              "      <th></th>\n",
              "    </tr>\n",
              "  </thead>\n",
              "  <tbody>\n",
              "    <tr>\n",
              "      <th>2019-09-03</th>\n",
              "      <td>26198.259766</td>\n",
              "      <td>25978.220703</td>\n",
              "      <td>26198.259766</td>\n",
              "      <td>26118.019531</td>\n",
              "      <td>223210000</td>\n",
              "      <td>0</td>\n",
              "      <td>50.090507</td>\n",
              "      <td>-33.752597</td>\n",
              "      <td>26535.558927</td>\n",
              "      <td>26112.680916</td>\n",
              "      <td>26037.400174</td>\n",
              "      <td>26215.572656</td>\n",
              "      <td>26260.282746</td>\n",
              "      <td>23.391411</td>\n",
              "      <td>7.025077</td>\n",
              "    </tr>\n",
              "    <tr>\n",
              "      <th>2019-09-04</th>\n",
              "      <td>26362.349609</td>\n",
              "      <td>26244.439453</td>\n",
              "      <td>26301.990234</td>\n",
              "      <td>26355.470703</td>\n",
              "      <td>202710000</td>\n",
              "      <td>0</td>\n",
              "      <td>56.502074</td>\n",
              "      <td>-13.544323</td>\n",
              "      <td>26524.566978</td>\n",
              "      <td>26161.238873</td>\n",
              "      <td>26015.364974</td>\n",
              "      <td>26325.034766</td>\n",
              "      <td>26341.688531</td>\n",
              "      <td>77.973636</td>\n",
              "      <td>6.905702</td>\n",
              "    </tr>\n",
              "    <tr>\n",
              "      <th>2019-09-05</th>\n",
              "      <td>26836.300781</td>\n",
              "      <td>26603.150391</td>\n",
              "      <td>26603.150391</td>\n",
              "      <td>26728.150391</td>\n",
              "      <td>256670000</td>\n",
              "      <td>0</td>\n",
              "      <td>64.711665</td>\n",
              "      <td>-8.136985</td>\n",
              "      <td>26523.217226</td>\n",
              "      <td>26274.621177</td>\n",
              "      <td>25994.003602</td>\n",
              "      <td>26340.626758</td>\n",
              "      <td>26569.991790</td>\n",
              "      <td>151.211344</td>\n",
              "      <td>18.773808</td>\n",
              "    </tr>\n",
              "    <tr>\n",
              "      <th>2019-09-06</th>\n",
              "      <td>26860.869141</td>\n",
              "      <td>26708.390625</td>\n",
              "      <td>26790.250000</td>\n",
              "      <td>26797.460938</td>\n",
              "      <td>209700000</td>\n",
              "      <td>0</td>\n",
              "      <td>66.085243</td>\n",
              "      <td>-4.684103</td>\n",
              "      <td>26521.687024</td>\n",
              "      <td>26379.189129</td>\n",
              "      <td>26123.278212</td>\n",
              "      <td>26379.225195</td>\n",
              "      <td>26741.742832</td>\n",
              "      <td>141.049882</td>\n",
              "      <td>58.990220</td>\n",
              "    </tr>\n",
              "    <tr>\n",
              "      <th>2019-09-09</th>\n",
              "      <td>26900.830078</td>\n",
              "      <td>26762.179688</td>\n",
              "      <td>26866.230469</td>\n",
              "      <td>26835.509766</td>\n",
              "      <td>273120000</td>\n",
              "      <td>0</td>\n",
              "      <td>66.901304</td>\n",
              "      <td>-4.686994</td>\n",
              "      <td>26515.526772</td>\n",
              "      <td>26470.453256</td>\n",
              "      <td>26219.381988</td>\n",
              "      <td>26603.676563</td>\n",
              "      <td>26859.075353</td>\n",
              "      <td>129.258694</td>\n",
              "      <td>53.553362</td>\n",
              "    </tr>\n",
              "  </tbody>\n",
              "</table>\n",
              "</div>"
            ],
            "text/plain": [
              "                    High           Low  ...         CCI        CMO\n",
              "Date                                    ...                       \n",
              "2019-09-03  26198.259766  25978.220703  ...   23.391411   7.025077\n",
              "2019-09-04  26362.349609  26244.439453  ...   77.973636   6.905702\n",
              "2019-09-05  26836.300781  26603.150391  ...  151.211344  18.773808\n",
              "2019-09-06  26860.869141  26708.390625  ...  141.049882  58.990220\n",
              "2019-09-09  26900.830078  26762.179688  ...  129.258694  53.553362\n",
              "\n",
              "[5 rows x 15 columns]"
            ]
          },
          "metadata": {
            "tags": []
          },
          "execution_count": 18
        },
        {
          "output_type": "display_data",
          "data": {
            "image/png": "[encoded data removed]",
            "text/plain": [
              "<Figure size 432x288 with 1 Axes>"
            ]
          },
          "metadata": {
            "tags": []
          }
        }
      ]
    },
    {
      "cell_type": "markdown",
      "metadata": {
        "id": "35qI_9gZjsR0",
        "colab_type": "text"
      },
      "source": [
        "# MACD"
      ]
    },
    {
      "cell_type": "code",
      "metadata": {
        "id": "5QG4lBEfjsZb",
        "colab_type": "code",
        "outputId": "ae4f4c6c-1315-4dc8-b534-67ddd6e99bde",
        "colab": {
          "base_uri": "https://localhost:8080/",
          "height": 778
        }
      },
      "source": [
        "df['MACD'] = TA.MACD(ohlcv)['MACD'] - TA.MACD(ohlcv)['SIGNAL']\n",
        "print(df['MACD'].describe())\n",
        "sns.distplot(df['MACD'].dropna())\n",
        "df.tail()"
      ],
      "execution_count": 19,
      "outputs": [
        {
          "output_type": "stream",
          "text": [
            "count    8724.000000\n",
            "mean       -0.028840\n",
            "std        34.877388\n",
            "min      -296.962685\n",
            "25%       -12.949790\n",
            "50%         0.124748\n",
            "75%        12.846856\n",
            "max       197.671782\n",
            "Name: MACD, dtype: float64\n"
          ],
          "name": "stdout"
        },
        {
          "output_type": "execute_result",
          "data": {
            "text/html": [
              "<div>\n",
              "<style scoped>\n",
              "    .dataframe tbody tr th:only-of-type {\n",
              "        vertical-align: middle;\n",
              "    }\n",
              "\n",
              "    .dataframe tbody tr th {\n",
              "        vertical-align: top;\n",
              "    }\n",
              "\n",
              "    .dataframe thead th {\n",
              "        text-align: right;\n",
              "    }\n",
              "</style>\n",
              "<table border=\"1\" class=\"dataframe\">\n",
              "  <thead>\n",
              "    <tr style=\"text-align: right;\">\n",
              "      <th></th>\n",
              "      <th>High</th>\n",
              "      <th>Low</th>\n",
              "      <th>Open</th>\n",
              "      <th>Close</th>\n",
              "      <th>Volume</th>\n",
              "      <th>triple_barrier_signal</th>\n",
              "      <th>RSI</th>\n",
              "      <th>Williams %R</th>\n",
              "      <th>SMA</th>\n",
              "      <th>EMA</th>\n",
              "      <th>WMA</th>\n",
              "      <th>HMA</th>\n",
              "      <th>TEMA</th>\n",
              "      <th>CCI</th>\n",
              "      <th>CMO</th>\n",
              "      <th>MACD</th>\n",
              "    </tr>\n",
              "    <tr>\n",
              "      <th>Date</th>\n",
              "      <th></th>\n",
              "      <th></th>\n",
              "      <th></th>\n",
              "      <th></th>\n",
              "      <th></th>\n",
              "      <th></th>\n",
              "      <th></th>\n",
              "      <th></th>\n",
              "      <th></th>\n",
              "      <th></th>\n",
              "      <th></th>\n",
              "      <th></th>\n",
              "      <th></th>\n",
              "      <th></th>\n",
              "      <th></th>\n",
              "      <th></th>\n",
              "    </tr>\n",
              "  </thead>\n",
              "  <tbody>\n",
              "    <tr>\n",
              "      <th>2019-09-03</th>\n",
              "      <td>26198.259766</td>\n",
              "      <td>25978.220703</td>\n",
              "      <td>26198.259766</td>\n",
              "      <td>26118.019531</td>\n",
              "      <td>223210000</td>\n",
              "      <td>0</td>\n",
              "      <td>50.090507</td>\n",
              "      <td>-33.752597</td>\n",
              "      <td>26535.558927</td>\n",
              "      <td>26112.680916</td>\n",
              "      <td>26037.400174</td>\n",
              "      <td>26215.572656</td>\n",
              "      <td>26260.282746</td>\n",
              "      <td>23.391411</td>\n",
              "      <td>7.025077</td>\n",
              "      <td>60.468934</td>\n",
              "    </tr>\n",
              "    <tr>\n",
              "      <th>2019-09-04</th>\n",
              "      <td>26362.349609</td>\n",
              "      <td>26244.439453</td>\n",
              "      <td>26301.990234</td>\n",
              "      <td>26355.470703</td>\n",
              "      <td>202710000</td>\n",
              "      <td>0</td>\n",
              "      <td>56.502074</td>\n",
              "      <td>-13.544323</td>\n",
              "      <td>26524.566978</td>\n",
              "      <td>26161.238873</td>\n",
              "      <td>26015.364974</td>\n",
              "      <td>26325.034766</td>\n",
              "      <td>26341.688531</td>\n",
              "      <td>77.973636</td>\n",
              "      <td>6.905702</td>\n",
              "      <td>70.398880</td>\n",
              "    </tr>\n",
              "    <tr>\n",
              "      <th>2019-09-05</th>\n",
              "      <td>26836.300781</td>\n",
              "      <td>26603.150391</td>\n",
              "      <td>26603.150391</td>\n",
              "      <td>26728.150391</td>\n",
              "      <td>256670000</td>\n",
              "      <td>0</td>\n",
              "      <td>64.711665</td>\n",
              "      <td>-8.136985</td>\n",
              "      <td>26523.217226</td>\n",
              "      <td>26274.621177</td>\n",
              "      <td>25994.003602</td>\n",
              "      <td>26340.626758</td>\n",
              "      <td>26569.991790</td>\n",
              "      <td>151.211344</td>\n",
              "      <td>18.773808</td>\n",
              "      <td>98.061177</td>\n",
              "    </tr>\n",
              "    <tr>\n",
              "      <th>2019-09-06</th>\n",
              "      <td>26860.869141</td>\n",
              "      <td>26708.390625</td>\n",
              "      <td>26790.250000</td>\n",
              "      <td>26797.460938</td>\n",
              "      <td>209700000</td>\n",
              "      <td>0</td>\n",
              "      <td>66.085243</td>\n",
              "      <td>-4.684103</td>\n",
              "      <td>26521.687024</td>\n",
              "      <td>26379.189129</td>\n",
              "      <td>26123.278212</td>\n",
              "      <td>26379.225195</td>\n",
              "      <td>26741.742832</td>\n",
              "      <td>141.049882</td>\n",
              "      <td>58.990220</td>\n",
              "      <td>115.803855</td>\n",
              "    </tr>\n",
              "    <tr>\n",
              "      <th>2019-09-09</th>\n",
              "      <td>26900.830078</td>\n",
              "      <td>26762.179688</td>\n",
              "      <td>26866.230469</td>\n",
              "      <td>26835.509766</td>\n",
              "      <td>273120000</td>\n",
              "      <td>0</td>\n",
              "      <td>66.901304</td>\n",
              "      <td>-4.686994</td>\n",
              "      <td>26515.526772</td>\n",
              "      <td>26470.453256</td>\n",
              "      <td>26219.381988</td>\n",
              "      <td>26603.676563</td>\n",
              "      <td>26859.075353</td>\n",
              "      <td>129.258694</td>\n",
              "      <td>53.553362</td>\n",
              "      <td>124.140015</td>\n",
              "    </tr>\n",
              "  </tbody>\n",
              "</table>\n",
              "</div>"
            ],
            "text/plain": [
              "                    High           Low  ...        CMO        MACD\n",
              "Date                                    ...                       \n",
              "2019-09-03  26198.259766  25978.220703  ...   7.025077   60.468934\n",
              "2019-09-04  26362.349609  26244.439453  ...   6.905702   70.398880\n",
              "2019-09-05  26836.300781  26603.150391  ...  18.773808   98.061177\n",
              "2019-09-06  26860.869141  26708.390625  ...  58.990220  115.803855\n",
              "2019-09-09  26900.830078  26762.179688  ...  53.553362  124.140015\n",
              "\n",
              "[5 rows x 16 columns]"
            ]
          },
          "metadata": {
            "tags": []
          },
          "execution_count": 19
        },
        {
          "output_type": "display_data",
          "data": {
            "image/png": "[encoded data removed]",
            "text/plain": [
              "<Figure size 432x288 with 1 Axes>"
            ]
          },
          "metadata": {
            "tags": []
          }
        }
      ]
    },
    {
      "cell_type": "markdown",
      "metadata": {
        "id": "roEAzvV7liUA",
        "colab_type": "text"
      },
      "source": [
        "# PPO"
      ]
    },
    {
      "cell_type": "code",
      "metadata": {
        "id": "ovCLHYPXli73",
        "colab_type": "code",
        "outputId": "81c5a674-41d1-4369-d736-699fd06d480d",
        "colab": {
          "base_uri": "https://localhost:8080/",
          "height": 778
        }
      },
      "source": [
        "df['PPO'] = TA.PPO(ohlcv)['PPO'] - TA.PPO(ohlcv)['SIGNAL']\n",
        "print(df['PPO'].describe())\n",
        "sns.distplot(df['PPO'].dropna())\n",
        "df.tail()"
      ],
      "execution_count": 20,
      "outputs": [
        {
          "output_type": "stream",
          "text": [
            "count    8724.000000\n",
            "mean       -0.000105\n",
            "std         0.336025\n",
            "min        -3.335306\n",
            "25%        -0.184529\n",
            "50%        -0.001048\n",
            "75%         0.181988\n",
            "max         1.780877\n",
            "Name: PPO, dtype: float64\n"
          ],
          "name": "stdout"
        },
        {
          "output_type": "execute_result",
          "data": {
            "text/html": [
              "<div>\n",
              "<style scoped>\n",
              "    .dataframe tbody tr th:only-of-type {\n",
              "        vertical-align: middle;\n",
              "    }\n",
              "\n",
              "    .dataframe tbody tr th {\n",
              "        vertical-align: top;\n",
              "    }\n",
              "\n",
              "    .dataframe thead th {\n",
              "        text-align: right;\n",
              "    }\n",
              "</style>\n",
              "<table border=\"1\" class=\"dataframe\">\n",
              "  <thead>\n",
              "    <tr style=\"text-align: right;\">\n",
              "      <th></th>\n",
              "      <th>High</th>\n",
              "      <th>Low</th>\n",
              "      <th>Open</th>\n",
              "      <th>Close</th>\n",
              "      <th>Volume</th>\n",
              "      <th>triple_barrier_signal</th>\n",
              "      <th>RSI</th>\n",
              "      <th>Williams %R</th>\n",
              "      <th>SMA</th>\n",
              "      <th>EMA</th>\n",
              "      <th>WMA</th>\n",
              "      <th>HMA</th>\n",
              "      <th>TEMA</th>\n",
              "      <th>CCI</th>\n",
              "      <th>CMO</th>\n",
              "      <th>MACD</th>\n",
              "      <th>PPO</th>\n",
              "    </tr>\n",
              "    <tr>\n",
              "      <th>Date</th>\n",
              "      <th></th>\n",
              "      <th></th>\n",
              "      <th></th>\n",
              "      <th></th>\n",
              "      <th></th>\n",
              "      <th></th>\n",
              "      <th></th>\n",
              "      <th></th>\n",
              "      <th></th>\n",
              "      <th></th>\n",
              "      <th></th>\n",
              "      <th></th>\n",
              "      <th></th>\n",
              "      <th></th>\n",
              "      <th></th>\n",
              "      <th></th>\n",
              "      <th></th>\n",
              "    </tr>\n",
              "  </thead>\n",
              "  <tbody>\n",
              "    <tr>\n",
              "      <th>2019-09-03</th>\n",
              "      <td>26198.259766</td>\n",
              "      <td>25978.220703</td>\n",
              "      <td>26198.259766</td>\n",
              "      <td>26118.019531</td>\n",
              "      <td>223210000</td>\n",
              "      <td>0</td>\n",
              "      <td>50.090507</td>\n",
              "      <td>-33.752597</td>\n",
              "      <td>26535.558927</td>\n",
              "      <td>26112.680916</td>\n",
              "      <td>26037.400174</td>\n",
              "      <td>26215.572656</td>\n",
              "      <td>26260.282746</td>\n",
              "      <td>23.391411</td>\n",
              "      <td>7.025077</td>\n",
              "      <td>60.468934</td>\n",
              "      <td>0.229633</td>\n",
              "    </tr>\n",
              "    <tr>\n",
              "      <th>2019-09-04</th>\n",
              "      <td>26362.349609</td>\n",
              "      <td>26244.439453</td>\n",
              "      <td>26301.990234</td>\n",
              "      <td>26355.470703</td>\n",
              "      <td>202710000</td>\n",
              "      <td>0</td>\n",
              "      <td>56.502074</td>\n",
              "      <td>-13.544323</td>\n",
              "      <td>26524.566978</td>\n",
              "      <td>26161.238873</td>\n",
              "      <td>26015.364974</td>\n",
              "      <td>26325.034766</td>\n",
              "      <td>26341.688531</td>\n",
              "      <td>77.973636</td>\n",
              "      <td>6.905702</td>\n",
              "      <td>70.398880</td>\n",
              "      <td>0.267822</td>\n",
              "    </tr>\n",
              "    <tr>\n",
              "      <th>2019-09-05</th>\n",
              "      <td>26836.300781</td>\n",
              "      <td>26603.150391</td>\n",
              "      <td>26603.150391</td>\n",
              "      <td>26728.150391</td>\n",
              "      <td>256670000</td>\n",
              "      <td>0</td>\n",
              "      <td>64.711665</td>\n",
              "      <td>-8.136985</td>\n",
              "      <td>26523.217226</td>\n",
              "      <td>26274.621177</td>\n",
              "      <td>25994.003602</td>\n",
              "      <td>26340.626758</td>\n",
              "      <td>26569.991790</td>\n",
              "      <td>151.211344</td>\n",
              "      <td>18.773808</td>\n",
              "      <td>98.061177</td>\n",
              "      <td>0.373548</td>\n",
              "    </tr>\n",
              "    <tr>\n",
              "      <th>2019-09-06</th>\n",
              "      <td>26860.869141</td>\n",
              "      <td>26708.390625</td>\n",
              "      <td>26790.250000</td>\n",
              "      <td>26797.460938</td>\n",
              "      <td>209700000</td>\n",
              "      <td>0</td>\n",
              "      <td>66.085243</td>\n",
              "      <td>-4.684103</td>\n",
              "      <td>26521.687024</td>\n",
              "      <td>26379.189129</td>\n",
              "      <td>26123.278212</td>\n",
              "      <td>26379.225195</td>\n",
              "      <td>26741.742832</td>\n",
              "      <td>141.049882</td>\n",
              "      <td>58.990220</td>\n",
              "      <td>115.803855</td>\n",
              "      <td>0.440987</td>\n",
              "    </tr>\n",
              "    <tr>\n",
              "      <th>2019-09-09</th>\n",
              "      <td>26900.830078</td>\n",
              "      <td>26762.179688</td>\n",
              "      <td>26866.230469</td>\n",
              "      <td>26835.509766</td>\n",
              "      <td>273120000</td>\n",
              "      <td>0</td>\n",
              "      <td>66.901304</td>\n",
              "      <td>-4.686994</td>\n",
              "      <td>26515.526772</td>\n",
              "      <td>26470.453256</td>\n",
              "      <td>26219.381988</td>\n",
              "      <td>26603.676563</td>\n",
              "      <td>26859.075353</td>\n",
              "      <td>129.258694</td>\n",
              "      <td>53.553362</td>\n",
              "      <td>124.140015</td>\n",
              "      <td>0.472270</td>\n",
              "    </tr>\n",
              "  </tbody>\n",
              "</table>\n",
              "</div>"
            ],
            "text/plain": [
              "                    High           Low  ...        MACD       PPO\n",
              "Date                                    ...                      \n",
              "2019-09-03  26198.259766  25978.220703  ...   60.468934  0.229633\n",
              "2019-09-04  26362.349609  26244.439453  ...   70.398880  0.267822\n",
              "2019-09-05  26836.300781  26603.150391  ...   98.061177  0.373548\n",
              "2019-09-06  26860.869141  26708.390625  ...  115.803855  0.440987\n",
              "2019-09-09  26900.830078  26762.179688  ...  124.140015  0.472270\n",
              "\n",
              "[5 rows x 17 columns]"
            ]
          },
          "metadata": {
            "tags": []
          },
          "execution_count": 20
        },
        {
          "output_type": "display_data",
          "data": {
            "image/png": "[encoded data removed]",
            "text/plain": [
              "<Figure size 432x288 with 1 Axes>"
            ]
          },
          "metadata": {
            "tags": []
          }
        }
      ]
    },
    {
      "cell_type": "markdown",
      "metadata": {
        "id": "5BBE8vaWmdGN",
        "colab_type": "text"
      },
      "source": [
        "# ROC"
      ]
    },
    {
      "cell_type": "code",
      "metadata": {
        "id": "OKI3MqwhmdOj",
        "colab_type": "code",
        "outputId": "03d71e75-68e0-4509-b311-383f3f723fcb",
        "colab": {
          "base_uri": "https://localhost:8080/",
          "height": 778
        }
      },
      "source": [
        "df['ROC'] = TA.ROC(ohlcv)\n",
        "print(df['ROC'].describe())\n",
        "sns.distplot(df['ROC'].dropna())\n",
        "df.tail()"
      ],
      "execution_count": 21,
      "outputs": [
        {
          "output_type": "stream",
          "text": [
            "count    8712.000000\n",
            "mean        0.474927\n",
            "std         3.379756\n",
            "min       -34.118671\n",
            "25%        -1.227405\n",
            "50%         0.709761\n",
            "75%         2.398953\n",
            "max        18.371026\n",
            "Name: ROC, dtype: float64\n"
          ],
          "name": "stdout"
        },
        {
          "output_type": "execute_result",
          "data": {
            "text/html": [
              "<div>\n",
              "<style scoped>\n",
              "    .dataframe tbody tr th:only-of-type {\n",
              "        vertical-align: middle;\n",
              "    }\n",
              "\n",
              "    .dataframe tbody tr th {\n",
              "        vertical-align: top;\n",
              "    }\n",
              "\n",
              "    .dataframe thead th {\n",
              "        text-align: right;\n",
              "    }\n",
              "</style>\n",
              "<table border=\"1\" class=\"dataframe\">\n",
              "  <thead>\n",
              "    <tr style=\"text-align: right;\">\n",
              "      <th></th>\n",
              "      <th>High</th>\n",
              "      <th>Low</th>\n",
              "      <th>Open</th>\n",
              "      <th>Close</th>\n",
              "      <th>Volume</th>\n",
              "      <th>triple_barrier_signal</th>\n",
              "      <th>RSI</th>\n",
              "      <th>Williams %R</th>\n",
              "      <th>SMA</th>\n",
              "      <th>EMA</th>\n",
              "      <th>WMA</th>\n",
              "      <th>HMA</th>\n",
              "      <th>TEMA</th>\n",
              "      <th>CCI</th>\n",
              "      <th>CMO</th>\n",
              "      <th>MACD</th>\n",
              "      <th>PPO</th>\n",
              "      <th>ROC</th>\n",
              "    </tr>\n",
              "    <tr>\n",
              "      <th>Date</th>\n",
              "      <th></th>\n",
              "      <th></th>\n",
              "      <th></th>\n",
              "      <th></th>\n",
              "      <th></th>\n",
              "      <th></th>\n",
              "      <th></th>\n",
              "      <th></th>\n",
              "      <th></th>\n",
              "      <th></th>\n",
              "      <th></th>\n",
              "      <th></th>\n",
              "      <th></th>\n",
              "      <th></th>\n",
              "      <th></th>\n",
              "      <th></th>\n",
              "      <th></th>\n",
              "      <th></th>\n",
              "    </tr>\n",
              "  </thead>\n",
              "  <tbody>\n",
              "    <tr>\n",
              "      <th>2019-09-03</th>\n",
              "      <td>26198.259766</td>\n",
              "      <td>25978.220703</td>\n",
              "      <td>26198.259766</td>\n",
              "      <td>26118.019531</td>\n",
              "      <td>223210000</td>\n",
              "      <td>0</td>\n",
              "      <td>50.090507</td>\n",
              "      <td>-33.752597</td>\n",
              "      <td>26535.558927</td>\n",
              "      <td>26112.680916</td>\n",
              "      <td>26037.400174</td>\n",
              "      <td>26215.572656</td>\n",
              "      <td>26260.282746</td>\n",
              "      <td>23.391411</td>\n",
              "      <td>7.025077</td>\n",
              "      <td>60.468934</td>\n",
              "      <td>0.229633</td>\n",
              "      <td>2.105714</td>\n",
              "    </tr>\n",
              "    <tr>\n",
              "      <th>2019-09-04</th>\n",
              "      <td>26362.349609</td>\n",
              "      <td>26244.439453</td>\n",
              "      <td>26301.990234</td>\n",
              "      <td>26355.470703</td>\n",
              "      <td>202710000</td>\n",
              "      <td>0</td>\n",
              "      <td>56.502074</td>\n",
              "      <td>-13.544323</td>\n",
              "      <td>26524.566978</td>\n",
              "      <td>26161.238873</td>\n",
              "      <td>26015.364974</td>\n",
              "      <td>26325.034766</td>\n",
              "      <td>26341.688531</td>\n",
              "      <td>77.973636</td>\n",
              "      <td>6.905702</td>\n",
              "      <td>70.398880</td>\n",
              "      <td>0.267822</td>\n",
              "      <td>1.813570</td>\n",
              "    </tr>\n",
              "    <tr>\n",
              "      <th>2019-09-05</th>\n",
              "      <td>26836.300781</td>\n",
              "      <td>26603.150391</td>\n",
              "      <td>26603.150391</td>\n",
              "      <td>26728.150391</td>\n",
              "      <td>256670000</td>\n",
              "      <td>0</td>\n",
              "      <td>64.711665</td>\n",
              "      <td>-8.136985</td>\n",
              "      <td>26523.217226</td>\n",
              "      <td>26274.621177</td>\n",
              "      <td>25994.003602</td>\n",
              "      <td>26340.626758</td>\n",
              "      <td>26569.991790</td>\n",
              "      <td>151.211344</td>\n",
              "      <td>18.773808</td>\n",
              "      <td>98.061177</td>\n",
              "      <td>0.373548</td>\n",
              "      <td>2.266476</td>\n",
              "    </tr>\n",
              "    <tr>\n",
              "      <th>2019-09-06</th>\n",
              "      <td>26860.869141</td>\n",
              "      <td>26708.390625</td>\n",
              "      <td>26790.250000</td>\n",
              "      <td>26797.460938</td>\n",
              "      <td>209700000</td>\n",
              "      <td>0</td>\n",
              "      <td>66.085243</td>\n",
              "      <td>-4.684103</td>\n",
              "      <td>26521.687024</td>\n",
              "      <td>26379.189129</td>\n",
              "      <td>26123.278212</td>\n",
              "      <td>26379.225195</td>\n",
              "      <td>26741.742832</td>\n",
              "      <td>141.049882</td>\n",
              "      <td>58.990220</td>\n",
              "      <td>115.803855</td>\n",
              "      <td>0.440987</td>\n",
              "      <td>3.216267</td>\n",
              "    </tr>\n",
              "    <tr>\n",
              "      <th>2019-09-09</th>\n",
              "      <td>26900.830078</td>\n",
              "      <td>26762.179688</td>\n",
              "      <td>26866.230469</td>\n",
              "      <td>26835.509766</td>\n",
              "      <td>273120000</td>\n",
              "      <td>0</td>\n",
              "      <td>66.901304</td>\n",
              "      <td>-4.686994</td>\n",
              "      <td>26515.526772</td>\n",
              "      <td>26470.453256</td>\n",
              "      <td>26219.381988</td>\n",
              "      <td>26603.676563</td>\n",
              "      <td>26859.075353</td>\n",
              "      <td>129.258694</td>\n",
              "      <td>53.553362</td>\n",
              "      <td>124.140015</td>\n",
              "      <td>0.472270</td>\n",
              "      <td>2.414936</td>\n",
              "    </tr>\n",
              "  </tbody>\n",
              "</table>\n",
              "</div>"
            ],
            "text/plain": [
              "                    High           Low  ...       PPO       ROC\n",
              "Date                                    ...                    \n",
              "2019-09-03  26198.259766  25978.220703  ...  0.229633  2.105714\n",
              "2019-09-04  26362.349609  26244.439453  ...  0.267822  1.813570\n",
              "2019-09-05  26836.300781  26603.150391  ...  0.373548  2.266476\n",
              "2019-09-06  26860.869141  26708.390625  ...  0.440987  3.216267\n",
              "2019-09-09  26900.830078  26762.179688  ...  0.472270  2.414936\n",
              "\n",
              "[5 rows x 18 columns]"
            ]
          },
          "metadata": {
            "tags": []
          },
          "execution_count": 21
        },
        {
          "output_type": "display_data",
          "data": {
            "image/png": "[encoded data removed]",
            "text/plain": [
              "<Figure size 432x288 with 1 Axes>"
            ]
          },
          "metadata": {
            "tags": []
          }
        }
      ]
    },
    {
      "cell_type": "markdown",
      "metadata": {
        "id": "b9LTKsyvmuSd",
        "colab_type": "text"
      },
      "source": [
        "# CMFI"
      ]
    },
    {
      "cell_type": "code",
      "metadata": {
        "id": "somnlSTOmvjJ",
        "colab_type": "code",
        "outputId": "0163a0e0-3803-41f1-ab89-582c5e103fbf",
        "colab": {
          "base_uri": "https://localhost:8080/",
          "height": 785
        }
      },
      "source": [
        "df['CFI'] = TA.CFI(ohlcv)\n",
        "print(df['CFI'].describe())\n",
        "sns.distplot(df['CFI'].dropna())\n",
        "df.tail()"
      ],
      "execution_count": 22,
      "outputs": [
        {
          "output_type": "stream",
          "text": [
            "count    8.715000e+03\n",
            "mean     3.224230e+10\n",
            "std      3.481536e+11\n",
            "min     -1.347586e+12\n",
            "25%     -1.501156e+11\n",
            "50%      2.567482e+10\n",
            "75%      2.020499e+11\n",
            "max      2.044159e+12\n",
            "Name: CFI, dtype: float64\n"
          ],
          "name": "stdout"
        },
        {
          "output_type": "execute_result",
          "data": {
            "text/html": [
              "<div>\n",
              "<style scoped>\n",
              "    .dataframe tbody tr th:only-of-type {\n",
              "        vertical-align: middle;\n",
              "    }\n",
              "\n",
              "    .dataframe tbody tr th {\n",
              "        vertical-align: top;\n",
              "    }\n",
              "\n",
              "    .dataframe thead th {\n",
              "        text-align: right;\n",
              "    }\n",
              "</style>\n",
              "<table border=\"1\" class=\"dataframe\">\n",
              "  <thead>\n",
              "    <tr style=\"text-align: right;\">\n",
              "      <th></th>\n",
              "      <th>High</th>\n",
              "      <th>Low</th>\n",
              "      <th>Open</th>\n",
              "      <th>Close</th>\n",
              "      <th>Volume</th>\n",
              "      <th>triple_barrier_signal</th>\n",
              "      <th>RSI</th>\n",
              "      <th>Williams %R</th>\n",
              "      <th>SMA</th>\n",
              "      <th>EMA</th>\n",
              "      <th>WMA</th>\n",
              "      <th>HMA</th>\n",
              "      <th>TEMA</th>\n",
              "      <th>CCI</th>\n",
              "      <th>CMO</th>\n",
              "      <th>MACD</th>\n",
              "      <th>PPO</th>\n",
              "      <th>ROC</th>\n",
              "      <th>CFI</th>\n",
              "    </tr>\n",
              "    <tr>\n",
              "      <th>Date</th>\n",
              "      <th></th>\n",
              "      <th></th>\n",
              "      <th></th>\n",
              "      <th></th>\n",
              "      <th></th>\n",
              "      <th></th>\n",
              "      <th></th>\n",
              "      <th></th>\n",
              "      <th></th>\n",
              "      <th></th>\n",
              "      <th></th>\n",
              "      <th></th>\n",
              "      <th></th>\n",
              "      <th></th>\n",
              "      <th></th>\n",
              "      <th></th>\n",
              "      <th></th>\n",
              "      <th></th>\n",
              "      <th></th>\n",
              "    </tr>\n",
              "  </thead>\n",
              "  <tbody>\n",
              "    <tr>\n",
              "      <th>2019-09-03</th>\n",
              "      <td>26198.259766</td>\n",
              "      <td>25978.220703</td>\n",
              "      <td>26198.259766</td>\n",
              "      <td>26118.019531</td>\n",
              "      <td>223210000</td>\n",
              "      <td>0</td>\n",
              "      <td>50.090507</td>\n",
              "      <td>-33.752597</td>\n",
              "      <td>26535.558927</td>\n",
              "      <td>26112.680916</td>\n",
              "      <td>26037.400174</td>\n",
              "      <td>26215.572656</td>\n",
              "      <td>26260.282746</td>\n",
              "      <td>23.391411</td>\n",
              "      <td>7.025077</td>\n",
              "      <td>60.468934</td>\n",
              "      <td>0.229633</td>\n",
              "      <td>2.105714</td>\n",
              "      <td>-3.568509e+10</td>\n",
              "    </tr>\n",
              "    <tr>\n",
              "      <th>2019-09-04</th>\n",
              "      <td>26362.349609</td>\n",
              "      <td>26244.439453</td>\n",
              "      <td>26301.990234</td>\n",
              "      <td>26355.470703</td>\n",
              "      <td>202710000</td>\n",
              "      <td>0</td>\n",
              "      <td>56.502074</td>\n",
              "      <td>-13.544323</td>\n",
              "      <td>26524.566978</td>\n",
              "      <td>26161.238873</td>\n",
              "      <td>26015.364974</td>\n",
              "      <td>26325.034766</td>\n",
              "      <td>26341.688531</td>\n",
              "      <td>77.973636</td>\n",
              "      <td>6.905702</td>\n",
              "      <td>70.398880</td>\n",
              "      <td>0.267822</td>\n",
              "      <td>1.813570</td>\n",
              "      <td>-2.256791e+10</td>\n",
              "    </tr>\n",
              "    <tr>\n",
              "      <th>2019-09-05</th>\n",
              "      <td>26836.300781</td>\n",
              "      <td>26603.150391</td>\n",
              "      <td>26603.150391</td>\n",
              "      <td>26728.150391</td>\n",
              "      <td>256670000</td>\n",
              "      <td>0</td>\n",
              "      <td>64.711665</td>\n",
              "      <td>-8.136985</td>\n",
              "      <td>26523.217226</td>\n",
              "      <td>26274.621177</td>\n",
              "      <td>25994.003602</td>\n",
              "      <td>26340.626758</td>\n",
              "      <td>26569.991790</td>\n",
              "      <td>151.211344</td>\n",
              "      <td>18.773808</td>\n",
              "      <td>98.061177</td>\n",
              "      <td>0.373548</td>\n",
              "      <td>2.266476</td>\n",
              "      <td>5.556285e+09</td>\n",
              "    </tr>\n",
              "    <tr>\n",
              "      <th>2019-09-06</th>\n",
              "      <td>26860.869141</td>\n",
              "      <td>26708.390625</td>\n",
              "      <td>26790.250000</td>\n",
              "      <td>26797.460938</td>\n",
              "      <td>209700000</td>\n",
              "      <td>0</td>\n",
              "      <td>66.085243</td>\n",
              "      <td>-4.684103</td>\n",
              "      <td>26521.687024</td>\n",
              "      <td>26379.189129</td>\n",
              "      <td>26123.278212</td>\n",
              "      <td>26379.225195</td>\n",
              "      <td>26741.742832</td>\n",
              "      <td>141.049882</td>\n",
              "      <td>58.990220</td>\n",
              "      <td>115.803855</td>\n",
              "      <td>0.440987</td>\n",
              "      <td>3.216267</td>\n",
              "      <td>3.120961e+10</td>\n",
              "    </tr>\n",
              "    <tr>\n",
              "      <th>2019-09-09</th>\n",
              "      <td>26900.830078</td>\n",
              "      <td>26762.179688</td>\n",
              "      <td>26866.230469</td>\n",
              "      <td>26835.509766</td>\n",
              "      <td>273120000</td>\n",
              "      <td>0</td>\n",
              "      <td>66.901304</td>\n",
              "      <td>-4.686994</td>\n",
              "      <td>26515.526772</td>\n",
              "      <td>26470.453256</td>\n",
              "      <td>26219.381988</td>\n",
              "      <td>26603.676563</td>\n",
              "      <td>26859.075353</td>\n",
              "      <td>129.258694</td>\n",
              "      <td>53.553362</td>\n",
              "      <td>124.140015</td>\n",
              "      <td>0.472270</td>\n",
              "      <td>2.414936</td>\n",
              "      <td>5.408813e+10</td>\n",
              "    </tr>\n",
              "  </tbody>\n",
              "</table>\n",
              "</div>"
            ],
            "text/plain": [
              "                    High           Low  ...       ROC           CFI\n",
              "Date                                    ...                        \n",
              "2019-09-03  26198.259766  25978.220703  ...  2.105714 -3.568509e+10\n",
              "2019-09-04  26362.349609  26244.439453  ...  1.813570 -2.256791e+10\n",
              "2019-09-05  26836.300781  26603.150391  ...  2.266476  5.556285e+09\n",
              "2019-09-06  26860.869141  26708.390625  ...  3.216267  3.120961e+10\n",
              "2019-09-09  26900.830078  26762.179688  ...  2.414936  5.408813e+10\n",
              "\n",
              "[5 rows x 19 columns]"
            ]
          },
          "metadata": {
            "tags": []
          },
          "execution_count": 22
        },
        {
          "output_type": "display_data",
          "data": {
            "image/png": "[encoded data removed]",
            "text/plain": [
              "<Figure size 432x288 with 1 Axes>"
            ]
          },
          "metadata": {
            "tags": []
          }
        }
      ]
    },
    {
      "cell_type": "markdown",
      "metadata": {
        "id": "8WydSl0doUYk",
        "colab_type": "text"
      },
      "source": [
        "# DMI"
      ]
    },
    {
      "cell_type": "code",
      "metadata": {
        "id": "xRTnC6DboU05",
        "colab_type": "code",
        "outputId": "7fc4536a-a3fa-41dd-9109-60ef1bddbc9a",
        "colab": {
          "base_uri": "https://localhost:8080/",
          "height": 1000
        }
      },
      "source": [
        "df['DMI'] = TA.DMI(ohlcv)['DI+'] - TA.DMI(ohlcv)['DI-']\n",
        "print(df['DMI'].describe())\n",
        "sns.distplot(df['DMI'].dropna())\n",
        "df.tail()"
      ],
      "execution_count": 23,
      "outputs": [
        {
          "output_type": "stream",
          "text": [
            "/usr/local/lib/python3.6/dist-packages/finta/finta.py:792: SettingWithCopyWarning: \n",
            "A value is trying to be set on a copy of a slice from a DataFrame.\n",
            "Try using .loc[row_indexer,col_indexer] = value instead\n",
            "\n",
            "See the caveats in the documentation: http://pandas.pydata.org/pandas-docs/stable/indexing.html#indexing-view-versus-copy\n",
            "  ohlc[\"up_move\"] = ohlc[\"high\"].diff()\n",
            "/usr/local/lib/python3.6/dist-packages/finta/finta.py:793: SettingWithCopyWarning: \n",
            "A value is trying to be set on a copy of a slice from a DataFrame.\n",
            "Try using .loc[row_indexer,col_indexer] = value instead\n",
            "\n",
            "See the caveats in the documentation: http://pandas.pydata.org/pandas-docs/stable/indexing.html#indexing-view-versus-copy\n",
            "  ohlc[\"down_move\"] = -ohlc[\"low\"].diff()\n",
            "/usr/local/lib/python3.6/dist-packages/finta/finta.py:809: SettingWithCopyWarning: \n",
            "A value is trying to be set on a copy of a slice from a DataFrame.\n",
            "Try using .loc[row_indexer,col_indexer] = value instead\n",
            "\n",
            "See the caveats in the documentation: http://pandas.pydata.org/pandas-docs/stable/indexing.html#indexing-view-versus-copy\n",
            "  ohlc[\"DMp\"] = DMp\n",
            "/usr/local/lib/python3.6/dist-packages/finta/finta.py:810: SettingWithCopyWarning: \n",
            "A value is trying to be set on a copy of a slice from a DataFrame.\n",
            "Try using .loc[row_indexer,col_indexer] = value instead\n",
            "\n",
            "See the caveats in the documentation: http://pandas.pydata.org/pandas-docs/stable/indexing.html#indexing-view-versus-copy\n",
            "  ohlc[\"DMm\"] = DMm\n"
          ],
          "name": "stderr"
        },
        {
          "output_type": "stream",
          "text": [
            "count    8641.000000\n",
            "mean        0.470780\n",
            "std        21.363427\n",
            "min      -177.248390\n",
            "25%       -10.619508\n",
            "50%         3.185766\n",
            "75%        13.829386\n",
            "max        85.997003\n",
            "Name: DMI, dtype: float64\n"
          ],
          "name": "stdout"
        },
        {
          "output_type": "execute_result",
          "data": {
            "text/html": [
              "<div>\n",
              "<style scoped>\n",
              "    .dataframe tbody tr th:only-of-type {\n",
              "        vertical-align: middle;\n",
              "    }\n",
              "\n",
              "    .dataframe tbody tr th {\n",
              "        vertical-align: top;\n",
              "    }\n",
              "\n",
              "    .dataframe thead th {\n",
              "        text-align: right;\n",
              "    }\n",
              "</style>\n",
              "<table border=\"1\" class=\"dataframe\">\n",
              "  <thead>\n",
              "    <tr style=\"text-align: right;\">\n",
              "      <th></th>\n",
              "      <th>High</th>\n",
              "      <th>Low</th>\n",
              "      <th>Open</th>\n",
              "      <th>Close</th>\n",
              "      <th>Volume</th>\n",
              "      <th>triple_barrier_signal</th>\n",
              "      <th>RSI</th>\n",
              "      <th>Williams %R</th>\n",
              "      <th>SMA</th>\n",
              "      <th>EMA</th>\n",
              "      <th>WMA</th>\n",
              "      <th>HMA</th>\n",
              "      <th>TEMA</th>\n",
              "      <th>CCI</th>\n",
              "      <th>CMO</th>\n",
              "      <th>MACD</th>\n",
              "      <th>PPO</th>\n",
              "      <th>ROC</th>\n",
              "      <th>CFI</th>\n",
              "      <th>DMI</th>\n",
              "    </tr>\n",
              "    <tr>\n",
              "      <th>Date</th>\n",
              "      <th></th>\n",
              "      <th></th>\n",
              "      <th></th>\n",
              "      <th></th>\n",
              "      <th></th>\n",
              "      <th></th>\n",
              "      <th></th>\n",
              "      <th></th>\n",
              "      <th></th>\n",
              "      <th></th>\n",
              "      <th></th>\n",
              "      <th></th>\n",
              "      <th></th>\n",
              "      <th></th>\n",
              "      <th></th>\n",
              "      <th></th>\n",
              "      <th></th>\n",
              "      <th></th>\n",
              "      <th></th>\n",
              "      <th></th>\n",
              "    </tr>\n",
              "  </thead>\n",
              "  <tbody>\n",
              "    <tr>\n",
              "      <th>2019-09-03</th>\n",
              "      <td>26198.259766</td>\n",
              "      <td>25978.220703</td>\n",
              "      <td>26198.259766</td>\n",
              "      <td>26118.019531</td>\n",
              "      <td>223210000</td>\n",
              "      <td>0</td>\n",
              "      <td>50.090507</td>\n",
              "      <td>-33.752597</td>\n",
              "      <td>26535.558927</td>\n",
              "      <td>26112.680916</td>\n",
              "      <td>26037.400174</td>\n",
              "      <td>26215.572656</td>\n",
              "      <td>26260.282746</td>\n",
              "      <td>23.391411</td>\n",
              "      <td>7.025077</td>\n",
              "      <td>60.468934</td>\n",
              "      <td>0.229633</td>\n",
              "      <td>2.105714</td>\n",
              "      <td>-3.568509e+10</td>\n",
              "      <td>-7.304729</td>\n",
              "    </tr>\n",
              "    <tr>\n",
              "      <th>2019-09-04</th>\n",
              "      <td>26362.349609</td>\n",
              "      <td>26244.439453</td>\n",
              "      <td>26301.990234</td>\n",
              "      <td>26355.470703</td>\n",
              "      <td>202710000</td>\n",
              "      <td>0</td>\n",
              "      <td>56.502074</td>\n",
              "      <td>-13.544323</td>\n",
              "      <td>26524.566978</td>\n",
              "      <td>26161.238873</td>\n",
              "      <td>26015.364974</td>\n",
              "      <td>26325.034766</td>\n",
              "      <td>26341.688531</td>\n",
              "      <td>77.973636</td>\n",
              "      <td>6.905702</td>\n",
              "      <td>70.398880</td>\n",
              "      <td>0.267822</td>\n",
              "      <td>1.813570</td>\n",
              "      <td>-2.256791e+10</td>\n",
              "      <td>0.910737</td>\n",
              "    </tr>\n",
              "    <tr>\n",
              "      <th>2019-09-05</th>\n",
              "      <td>26836.300781</td>\n",
              "      <td>26603.150391</td>\n",
              "      <td>26603.150391</td>\n",
              "      <td>26728.150391</td>\n",
              "      <td>256670000</td>\n",
              "      <td>0</td>\n",
              "      <td>64.711665</td>\n",
              "      <td>-8.136985</td>\n",
              "      <td>26523.217226</td>\n",
              "      <td>26274.621177</td>\n",
              "      <td>25994.003602</td>\n",
              "      <td>26340.626758</td>\n",
              "      <td>26569.991790</td>\n",
              "      <td>151.211344</td>\n",
              "      <td>18.773808</td>\n",
              "      <td>98.061177</td>\n",
              "      <td>0.373548</td>\n",
              "      <td>2.266476</td>\n",
              "      <td>5.556285e+09</td>\n",
              "      <td>21.844727</td>\n",
              "    </tr>\n",
              "    <tr>\n",
              "      <th>2019-09-06</th>\n",
              "      <td>26860.869141</td>\n",
              "      <td>26708.390625</td>\n",
              "      <td>26790.250000</td>\n",
              "      <td>26797.460938</td>\n",
              "      <td>209700000</td>\n",
              "      <td>0</td>\n",
              "      <td>66.085243</td>\n",
              "      <td>-4.684103</td>\n",
              "      <td>26521.687024</td>\n",
              "      <td>26379.189129</td>\n",
              "      <td>26123.278212</td>\n",
              "      <td>26379.225195</td>\n",
              "      <td>26741.742832</td>\n",
              "      <td>141.049882</td>\n",
              "      <td>58.990220</td>\n",
              "      <td>115.803855</td>\n",
              "      <td>0.440987</td>\n",
              "      <td>3.216267</td>\n",
              "      <td>3.120961e+10</td>\n",
              "      <td>20.026862</td>\n",
              "    </tr>\n",
              "    <tr>\n",
              "      <th>2019-09-09</th>\n",
              "      <td>26900.830078</td>\n",
              "      <td>26762.179688</td>\n",
              "      <td>26866.230469</td>\n",
              "      <td>26835.509766</td>\n",
              "      <td>273120000</td>\n",
              "      <td>0</td>\n",
              "      <td>66.901304</td>\n",
              "      <td>-4.686994</td>\n",
              "      <td>26515.526772</td>\n",
              "      <td>26470.453256</td>\n",
              "      <td>26219.381988</td>\n",
              "      <td>26603.676563</td>\n",
              "      <td>26859.075353</td>\n",
              "      <td>129.258694</td>\n",
              "      <td>53.553362</td>\n",
              "      <td>124.140015</td>\n",
              "      <td>0.472270</td>\n",
              "      <td>2.414936</td>\n",
              "      <td>5.408813e+10</td>\n",
              "      <td>19.159603</td>\n",
              "    </tr>\n",
              "  </tbody>\n",
              "</table>\n",
              "</div>"
            ],
            "text/plain": [
              "                    High           Low  ...           CFI        DMI\n",
              "Date                                    ...                         \n",
              "2019-09-03  26198.259766  25978.220703  ... -3.568509e+10  -7.304729\n",
              "2019-09-04  26362.349609  26244.439453  ... -2.256791e+10   0.910737\n",
              "2019-09-05  26836.300781  26603.150391  ...  5.556285e+09  21.844727\n",
              "2019-09-06  26860.869141  26708.390625  ...  3.120961e+10  20.026862\n",
              "2019-09-09  26900.830078  26762.179688  ...  5.408813e+10  19.159603\n",
              "\n",
              "[5 rows x 20 columns]"
            ]
          },
          "metadata": {
            "tags": []
          },
          "execution_count": 23
        },
        {
          "output_type": "display_data",
          "data": {
            "image/png": "[encoded data removed]",
            "text/plain": [
              "<Figure size 432x288 with 1 Axes>"
            ]
          },
          "metadata": {
            "tags": []
          }
        }
      ]
    },
    {
      "cell_type": "markdown",
      "metadata": {
        "id": "96c_FgXOo98u",
        "colab_type": "text"
      },
      "source": [
        "# SAR"
      ]
    },
    {
      "cell_type": "code",
      "metadata": {
        "id": "eRPVEtrmo-bi",
        "colab_type": "code",
        "outputId": "c39d7401-048c-4e50-f74e-f2bbe3631b0b",
        "colab": {
          "base_uri": "https://localhost:8080/",
          "height": 778
        }
      },
      "source": [
        "df['SAR'] = TA.SAR(ohlcv)\n",
        "print(df['SAR'].describe())\n",
        "sns.distplot(df['SAR'].dropna())\n",
        "df.tail()"
      ],
      "execution_count": 24,
      "outputs": [
        {
          "output_type": "stream",
          "text": [
            "count     8724.000000\n",
            "mean      9621.305010\n",
            "std       6268.074003\n",
            "min       1161.110656\n",
            "25%       3575.729948\n",
            "50%       9861.807188\n",
            "75%      12521.420166\n",
            "max      27398.679688\n",
            "Name: SAR, dtype: float64\n"
          ],
          "name": "stdout"
        },
        {
          "output_type": "execute_result",
          "data": {
            "text/html": [
              "<div>\n",
              "<style scoped>\n",
              "    .dataframe tbody tr th:only-of-type {\n",
              "        vertical-align: middle;\n",
              "    }\n",
              "\n",
              "    .dataframe tbody tr th {\n",
              "        vertical-align: top;\n",
              "    }\n",
              "\n",
              "    .dataframe thead th {\n",
              "        text-align: right;\n",
              "    }\n",
              "</style>\n",
              "<table border=\"1\" class=\"dataframe\">\n",
              "  <thead>\n",
              "    <tr style=\"text-align: right;\">\n",
              "      <th></th>\n",
              "      <th>High</th>\n",
              "      <th>Low</th>\n",
              "      <th>Open</th>\n",
              "      <th>Close</th>\n",
              "      <th>Volume</th>\n",
              "      <th>triple_barrier_signal</th>\n",
              "      <th>RSI</th>\n",
              "      <th>Williams %R</th>\n",
              "      <th>SMA</th>\n",
              "      <th>EMA</th>\n",
              "      <th>WMA</th>\n",
              "      <th>HMA</th>\n",
              "      <th>TEMA</th>\n",
              "      <th>CCI</th>\n",
              "      <th>CMO</th>\n",
              "      <th>MACD</th>\n",
              "      <th>PPO</th>\n",
              "      <th>ROC</th>\n",
              "      <th>CFI</th>\n",
              "      <th>DMI</th>\n",
              "      <th>SAR</th>\n",
              "    </tr>\n",
              "    <tr>\n",
              "      <th>Date</th>\n",
              "      <th></th>\n",
              "      <th></th>\n",
              "      <th></th>\n",
              "      <th></th>\n",
              "      <th></th>\n",
              "      <th></th>\n",
              "      <th></th>\n",
              "      <th></th>\n",
              "      <th></th>\n",
              "      <th></th>\n",
              "      <th></th>\n",
              "      <th></th>\n",
              "      <th></th>\n",
              "      <th></th>\n",
              "      <th></th>\n",
              "      <th></th>\n",
              "      <th></th>\n",
              "      <th></th>\n",
              "      <th></th>\n",
              "      <th></th>\n",
              "      <th></th>\n",
              "    </tr>\n",
              "  </thead>\n",
              "  <tbody>\n",
              "    <tr>\n",
              "      <th>2019-09-03</th>\n",
              "      <td>26198.259766</td>\n",
              "      <td>25978.220703</td>\n",
              "      <td>26198.259766</td>\n",
              "      <td>26118.019531</td>\n",
              "      <td>223210000</td>\n",
              "      <td>0</td>\n",
              "      <td>50.090507</td>\n",
              "      <td>-33.752597</td>\n",
              "      <td>26535.558927</td>\n",
              "      <td>26112.680916</td>\n",
              "      <td>26037.400174</td>\n",
              "      <td>26215.572656</td>\n",
              "      <td>26260.282746</td>\n",
              "      <td>23.391411</td>\n",
              "      <td>7.025077</td>\n",
              "      <td>60.468934</td>\n",
              "      <td>0.229633</td>\n",
              "      <td>2.105714</td>\n",
              "      <td>-3.568509e+10</td>\n",
              "      <td>-7.304729</td>\n",
              "      <td>25629.315708</td>\n",
              "    </tr>\n",
              "    <tr>\n",
              "      <th>2019-09-04</th>\n",
              "      <td>26362.349609</td>\n",
              "      <td>26244.439453</td>\n",
              "      <td>26301.990234</td>\n",
              "      <td>26355.470703</td>\n",
              "      <td>202710000</td>\n",
              "      <td>0</td>\n",
              "      <td>56.502074</td>\n",
              "      <td>-13.544323</td>\n",
              "      <td>26524.566978</td>\n",
              "      <td>26161.238873</td>\n",
              "      <td>26015.364974</td>\n",
              "      <td>26325.034766</td>\n",
              "      <td>26341.688531</td>\n",
              "      <td>77.973636</td>\n",
              "      <td>6.905702</td>\n",
              "      <td>70.398880</td>\n",
              "      <td>0.267822</td>\n",
              "      <td>1.813570</td>\n",
              "      <td>-2.256791e+10</td>\n",
              "      <td>0.910737</td>\n",
              "      <td>25700.139983</td>\n",
              "    </tr>\n",
              "    <tr>\n",
              "      <th>2019-09-05</th>\n",
              "      <td>26836.300781</td>\n",
              "      <td>26603.150391</td>\n",
              "      <td>26603.150391</td>\n",
              "      <td>26728.150391</td>\n",
              "      <td>256670000</td>\n",
              "      <td>0</td>\n",
              "      <td>64.711665</td>\n",
              "      <td>-8.136985</td>\n",
              "      <td>26523.217226</td>\n",
              "      <td>26274.621177</td>\n",
              "      <td>25994.003602</td>\n",
              "      <td>26340.626758</td>\n",
              "      <td>26569.991790</td>\n",
              "      <td>151.211344</td>\n",
              "      <td>18.773808</td>\n",
              "      <td>98.061177</td>\n",
              "      <td>0.373548</td>\n",
              "      <td>2.266476</td>\n",
              "      <td>5.556285e+09</td>\n",
              "      <td>21.844727</td>\n",
              "      <td>25765.298315</td>\n",
              "    </tr>\n",
              "    <tr>\n",
              "      <th>2019-09-06</th>\n",
              "      <td>26860.869141</td>\n",
              "      <td>26708.390625</td>\n",
              "      <td>26790.250000</td>\n",
              "      <td>26797.460938</td>\n",
              "      <td>209700000</td>\n",
              "      <td>0</td>\n",
              "      <td>66.085243</td>\n",
              "      <td>-4.684103</td>\n",
              "      <td>26521.687024</td>\n",
              "      <td>26379.189129</td>\n",
              "      <td>26123.278212</td>\n",
              "      <td>26379.225195</td>\n",
              "      <td>26741.742832</td>\n",
              "      <td>141.049882</td>\n",
              "      <td>58.990220</td>\n",
              "      <td>115.803855</td>\n",
              "      <td>0.440987</td>\n",
              "      <td>3.216267</td>\n",
              "      <td>3.120961e+10</td>\n",
              "      <td>20.026862</td>\n",
              "      <td>25872.398562</td>\n",
              "    </tr>\n",
              "    <tr>\n",
              "      <th>2019-09-09</th>\n",
              "      <td>26900.830078</td>\n",
              "      <td>26762.179688</td>\n",
              "      <td>26866.230469</td>\n",
              "      <td>26835.509766</td>\n",
              "      <td>273120000</td>\n",
              "      <td>0</td>\n",
              "      <td>66.901304</td>\n",
              "      <td>-4.686994</td>\n",
              "      <td>26515.526772</td>\n",
              "      <td>26470.453256</td>\n",
              "      <td>26219.381988</td>\n",
              "      <td>26603.676563</td>\n",
              "      <td>26859.075353</td>\n",
              "      <td>129.258694</td>\n",
              "      <td>53.553362</td>\n",
              "      <td>124.140015</td>\n",
              "      <td>0.472270</td>\n",
              "      <td>2.414936</td>\n",
              "      <td>5.408813e+10</td>\n",
              "      <td>19.159603</td>\n",
              "      <td>25991.015031</td>\n",
              "    </tr>\n",
              "  </tbody>\n",
              "</table>\n",
              "</div>"
            ],
            "text/plain": [
              "                    High           Low  ...        DMI           SAR\n",
              "Date                                    ...                         \n",
              "2019-09-03  26198.259766  25978.220703  ...  -7.304729  25629.315708\n",
              "2019-09-04  26362.349609  26244.439453  ...   0.910737  25700.139983\n",
              "2019-09-05  26836.300781  26603.150391  ...  21.844727  25765.298315\n",
              "2019-09-06  26860.869141  26708.390625  ...  20.026862  25872.398562\n",
              "2019-09-09  26900.830078  26762.179688  ...  19.159603  25991.015031\n",
              "\n",
              "[5 rows x 21 columns]"
            ]
          },
          "metadata": {
            "tags": []
          },
          "execution_count": 24
        },
        {
          "output_type": "display_data",
          "data": {
            "image/png": "[encoded data removed]",
            "text/plain": [
              "<Figure size 432x288 with 1 Axes>"
            ]
          },
          "metadata": {
            "tags": []
          }
        }
      ]
    },
    {
      "cell_type": "markdown",
      "metadata": {
        "id": "MoqrDEejwYOV",
        "colab_type": "text"
      },
      "source": [
        "# columns選取"
      ]
    },
    {
      "cell_type": "code",
      "metadata": {
        "id": "qrGg0ojRKuE1",
        "colab_type": "code",
        "outputId": "cfd053e2-07aa-45cf-af3c-c34e6e571ff5",
        "colab": {
          "base_uri": "https://localhost:8080/",
          "height": 388
        }
      },
      "source": [
        "print(df.shape)\n",
        "df = df.dropna(axis=0)#刪除有缺失的row,會缺失主要因為用時間rolling計算技術指標導致,正常的\n",
        "features = df.columns[-15:].tolist() #取15個剛剛建立的技術指標當特徵\n",
        "y_name = 'triple_barrier_signal' #當作labels\n",
        "df = df[features+[y_name]]\n",
        "print(df.shape)\n",
        "df.tail()"
      ],
      "execution_count": 25,
      "outputs": [
        {
          "output_type": "stream",
          "text": [
            "(8724, 21)\n",
            "(8641, 16)\n"
          ],
          "name": "stdout"
        },
        {
          "output_type": "execute_result",
          "data": {
            "text/html": [
              "<div>\n",
              "<style scoped>\n",
              "    .dataframe tbody tr th:only-of-type {\n",
              "        vertical-align: middle;\n",
              "    }\n",
              "\n",
              "    .dataframe tbody tr th {\n",
              "        vertical-align: top;\n",
              "    }\n",
              "\n",
              "    .dataframe thead th {\n",
              "        text-align: right;\n",
              "    }\n",
              "</style>\n",
              "<table border=\"1\" class=\"dataframe\">\n",
              "  <thead>\n",
              "    <tr style=\"text-align: right;\">\n",
              "      <th></th>\n",
              "      <th>RSI</th>\n",
              "      <th>Williams %R</th>\n",
              "      <th>SMA</th>\n",
              "      <th>EMA</th>\n",
              "      <th>WMA</th>\n",
              "      <th>HMA</th>\n",
              "      <th>TEMA</th>\n",
              "      <th>CCI</th>\n",
              "      <th>CMO</th>\n",
              "      <th>MACD</th>\n",
              "      <th>PPO</th>\n",
              "      <th>ROC</th>\n",
              "      <th>CFI</th>\n",
              "      <th>DMI</th>\n",
              "      <th>SAR</th>\n",
              "      <th>triple_barrier_signal</th>\n",
              "    </tr>\n",
              "    <tr>\n",
              "      <th>Date</th>\n",
              "      <th></th>\n",
              "      <th></th>\n",
              "      <th></th>\n",
              "      <th></th>\n",
              "      <th></th>\n",
              "      <th></th>\n",
              "      <th></th>\n",
              "      <th></th>\n",
              "      <th></th>\n",
              "      <th></th>\n",
              "      <th></th>\n",
              "      <th></th>\n",
              "      <th></th>\n",
              "      <th></th>\n",
              "      <th></th>\n",
              "      <th></th>\n",
              "    </tr>\n",
              "  </thead>\n",
              "  <tbody>\n",
              "    <tr>\n",
              "      <th>2019-09-03</th>\n",
              "      <td>50.090507</td>\n",
              "      <td>-33.752597</td>\n",
              "      <td>26535.558927</td>\n",
              "      <td>26112.680916</td>\n",
              "      <td>26037.400174</td>\n",
              "      <td>26215.572656</td>\n",
              "      <td>26260.282746</td>\n",
              "      <td>23.391411</td>\n",
              "      <td>7.025077</td>\n",
              "      <td>60.468934</td>\n",
              "      <td>0.229633</td>\n",
              "      <td>2.105714</td>\n",
              "      <td>-3.568509e+10</td>\n",
              "      <td>-7.304729</td>\n",
              "      <td>25629.315708</td>\n",
              "      <td>0</td>\n",
              "    </tr>\n",
              "    <tr>\n",
              "      <th>2019-09-04</th>\n",
              "      <td>56.502074</td>\n",
              "      <td>-13.544323</td>\n",
              "      <td>26524.566978</td>\n",
              "      <td>26161.238873</td>\n",
              "      <td>26015.364974</td>\n",
              "      <td>26325.034766</td>\n",
              "      <td>26341.688531</td>\n",
              "      <td>77.973636</td>\n",
              "      <td>6.905702</td>\n",
              "      <td>70.398880</td>\n",
              "      <td>0.267822</td>\n",
              "      <td>1.813570</td>\n",
              "      <td>-2.256791e+10</td>\n",
              "      <td>0.910737</td>\n",
              "      <td>25700.139983</td>\n",
              "      <td>0</td>\n",
              "    </tr>\n",
              "    <tr>\n",
              "      <th>2019-09-05</th>\n",
              "      <td>64.711665</td>\n",
              "      <td>-8.136985</td>\n",
              "      <td>26523.217226</td>\n",
              "      <td>26274.621177</td>\n",
              "      <td>25994.003602</td>\n",
              "      <td>26340.626758</td>\n",
              "      <td>26569.991790</td>\n",
              "      <td>151.211344</td>\n",
              "      <td>18.773808</td>\n",
              "      <td>98.061177</td>\n",
              "      <td>0.373548</td>\n",
              "      <td>2.266476</td>\n",
              "      <td>5.556285e+09</td>\n",
              "      <td>21.844727</td>\n",
              "      <td>25765.298315</td>\n",
              "      <td>0</td>\n",
              "    </tr>\n",
              "    <tr>\n",
              "      <th>2019-09-06</th>\n",
              "      <td>66.085243</td>\n",
              "      <td>-4.684103</td>\n",
              "      <td>26521.687024</td>\n",
              "      <td>26379.189129</td>\n",
              "      <td>26123.278212</td>\n",
              "      <td>26379.225195</td>\n",
              "      <td>26741.742832</td>\n",
              "      <td>141.049882</td>\n",
              "      <td>58.990220</td>\n",
              "      <td>115.803855</td>\n",
              "      <td>0.440987</td>\n",
              "      <td>3.216267</td>\n",
              "      <td>3.120961e+10</td>\n",
              "      <td>20.026862</td>\n",
              "      <td>25872.398562</td>\n",
              "      <td>0</td>\n",
              "    </tr>\n",
              "    <tr>\n",
              "      <th>2019-09-09</th>\n",
              "      <td>66.901304</td>\n",
              "      <td>-4.686994</td>\n",
              "      <td>26515.526772</td>\n",
              "      <td>26470.453256</td>\n",
              "      <td>26219.381988</td>\n",
              "      <td>26603.676563</td>\n",
              "      <td>26859.075353</td>\n",
              "      <td>129.258694</td>\n",
              "      <td>53.553362</td>\n",
              "      <td>124.140015</td>\n",
              "      <td>0.472270</td>\n",
              "      <td>2.414936</td>\n",
              "      <td>5.408813e+10</td>\n",
              "      <td>19.159603</td>\n",
              "      <td>25991.015031</td>\n",
              "      <td>0</td>\n",
              "    </tr>\n",
              "  </tbody>\n",
              "</table>\n",
              "</div>"
            ],
            "text/plain": [
              "                  RSI  Williams %R  ...           SAR  triple_barrier_signal\n",
              "Date                                ...                                     \n",
              "2019-09-03  50.090507   -33.752597  ...  25629.315708                      0\n",
              "2019-09-04  56.502074   -13.544323  ...  25700.139983                      0\n",
              "2019-09-05  64.711665    -8.136985  ...  25765.298315                      0\n",
              "2019-09-06  66.085243    -4.684103  ...  25872.398562                      0\n",
              "2019-09-09  66.901304    -4.686994  ...  25991.015031                      0\n",
              "\n",
              "[5 rows x 16 columns]"
            ]
          },
          "metadata": {
            "tags": []
          },
          "execution_count": 25
        }
      ]
    },
    {
      "cell_type": "markdown",
      "metadata": {
        "id": "YSh6cJBEwgtg",
        "colab_type": "text"
      },
      "source": [
        "# 相關性分析"
      ]
    },
    {
      "cell_type": "code",
      "metadata": {
        "id": "hKy0pMZfLKEH",
        "colab_type": "code",
        "outputId": "04bdbbb5-20c1-4d92-9628-784eec403100",
        "colab": {
          "base_uri": "https://localhost:8080/",
          "height": 812
        }
      },
      "source": [
        "import seaborn as sns\n",
        "import matplotlib.pyplot as plt\n",
        "plt.figure(figsize=(14,12))\n",
        "sns.heatmap(abs(df.corr()),annot=True,linewidths=0.1)"
      ],
      "execution_count": 26,
      "outputs": [
        {
          "output_type": "execute_result",
          "data": {
            "text/plain": [
              "<matplotlib.axes._subplots.AxesSubplot at 0x7f1b97c64da0>"
            ]
          },
          "metadata": {
            "tags": []
          },
          "execution_count": 26
        },
        {
          "output_type": "display_data",
          "data": {
            "image/png": "[encoded data removed]",
            "text/plain": [
              "<Figure size 1008x864 with 2 Axes>"
            ]
          },
          "metadata": {
            "tags": []
          }
        }
      ]
    },
    {
      "cell_type": "markdown",
      "metadata": {
        "id": "c68TXVQaqGl3",
        "colab_type": "text"
      },
      "source": [
        "# features scaling"
      ]
    },
    {
      "cell_type": "code",
      "metadata": {
        "id": "JpZPZWfJqGuo",
        "colab_type": "code",
        "outputId": "ef7cdd64-8ab6-4e7b-df4b-2c6b1546d4d3",
        "colab": {
          "base_uri": "https://localhost:8080/",
          "height": 352
        }
      },
      "source": [
        "from sklearn.preprocessing import MinMaxScaler\n",
        "min_max_scaler = MinMaxScaler()\n",
        "df_minmax = min_max_scaler.fit_transform(df)#縮放到0-1之間\n",
        "df_minmax = pd.DataFrame(df_minmax,\n",
        "                         index = df.index,\n",
        "                         columns = df.columns)#轉回dataframe格式\n",
        "df_minmax[y_name] = df[y_name]#y不用MinMaxScaler\n",
        "df_minmax.tail()"
      ],
      "execution_count": 27,
      "outputs": [
        {
          "output_type": "execute_result",
          "data": {
            "text/html": [
              "<div>\n",
              "<style scoped>\n",
              "    .dataframe tbody tr th:only-of-type {\n",
              "        vertical-align: middle;\n",
              "    }\n",
              "\n",
              "    .dataframe tbody tr th {\n",
              "        vertical-align: top;\n",
              "    }\n",
              "\n",
              "    .dataframe thead th {\n",
              "        text-align: right;\n",
              "    }\n",
              "</style>\n",
              "<table border=\"1\" class=\"dataframe\">\n",
              "  <thead>\n",
              "    <tr style=\"text-align: right;\">\n",
              "      <th></th>\n",
              "      <th>RSI</th>\n",
              "      <th>Williams %R</th>\n",
              "      <th>SMA</th>\n",
              "      <th>EMA</th>\n",
              "      <th>WMA</th>\n",
              "      <th>HMA</th>\n",
              "      <th>TEMA</th>\n",
              "      <th>CCI</th>\n",
              "      <th>CMO</th>\n",
              "      <th>MACD</th>\n",
              "      <th>PPO</th>\n",
              "      <th>ROC</th>\n",
              "      <th>CFI</th>\n",
              "      <th>DMI</th>\n",
              "      <th>SAR</th>\n",
              "      <th>triple_barrier_signal</th>\n",
              "    </tr>\n",
              "    <tr>\n",
              "      <th>Date</th>\n",
              "      <th></th>\n",
              "      <th></th>\n",
              "      <th></th>\n",
              "      <th></th>\n",
              "      <th></th>\n",
              "      <th></th>\n",
              "      <th></th>\n",
              "      <th></th>\n",
              "      <th></th>\n",
              "      <th></th>\n",
              "      <th></th>\n",
              "      <th></th>\n",
              "      <th></th>\n",
              "      <th></th>\n",
              "      <th></th>\n",
              "      <th></th>\n",
              "    </tr>\n",
              "  </thead>\n",
              "  <tbody>\n",
              "    <tr>\n",
              "      <th>2019-09-03</th>\n",
              "      <td>0.501027</td>\n",
              "      <td>0.662474</td>\n",
              "      <td>0.991213</td>\n",
              "      <td>0.957963</td>\n",
              "      <td>0.952061</td>\n",
              "      <td>0.957205</td>\n",
              "      <td>0.957909</td>\n",
              "      <td>0.583353</td>\n",
              "      <td>0.532119</td>\n",
              "      <td>0.722618</td>\n",
              "      <td>0.696797</td>\n",
              "      <td>0.690124</td>\n",
              "      <td>0.386792</td>\n",
              "      <td>0.645571</td>\n",
              "      <td>0.932247</td>\n",
              "      <td>0</td>\n",
              "    </tr>\n",
              "    <tr>\n",
              "      <th>2019-09-04</th>\n",
              "      <td>0.572675</td>\n",
              "      <td>0.864557</td>\n",
              "      <td>0.990782</td>\n",
              "      <td>0.959838</td>\n",
              "      <td>0.951213</td>\n",
              "      <td>0.961409</td>\n",
              "      <td>0.961032</td>\n",
              "      <td>0.699846</td>\n",
              "      <td>0.531518</td>\n",
              "      <td>0.742693</td>\n",
              "      <td>0.704261</td>\n",
              "      <td>0.684558</td>\n",
              "      <td>0.390660</td>\n",
              "      <td>0.676780</td>\n",
              "      <td>0.934959</td>\n",
              "      <td>0</td>\n",
              "    </tr>\n",
              "    <tr>\n",
              "      <th>2019-09-05</th>\n",
              "      <td>0.664416</td>\n",
              "      <td>0.918630</td>\n",
              "      <td>0.990729</td>\n",
              "      <td>0.964214</td>\n",
              "      <td>0.950391</td>\n",
              "      <td>0.962008</td>\n",
              "      <td>0.969793</td>\n",
              "      <td>0.856156</td>\n",
              "      <td>0.591242</td>\n",
              "      <td>0.798618</td>\n",
              "      <td>0.724926</td>\n",
              "      <td>0.693186</td>\n",
              "      <td>0.398952</td>\n",
              "      <td>0.756302</td>\n",
              "      <td>0.937454</td>\n",
              "      <td>0</td>\n",
              "    </tr>\n",
              "    <tr>\n",
              "      <th>2019-09-06</th>\n",
              "      <td>0.679766</td>\n",
              "      <td>0.953159</td>\n",
              "      <td>0.990669</td>\n",
              "      <td>0.968251</td>\n",
              "      <td>0.955365</td>\n",
              "      <td>0.963491</td>\n",
              "      <td>0.976383</td>\n",
              "      <td>0.834468</td>\n",
              "      <td>0.793625</td>\n",
              "      <td>0.834488</td>\n",
              "      <td>0.738108</td>\n",
              "      <td>0.711281</td>\n",
              "      <td>0.406515</td>\n",
              "      <td>0.749397</td>\n",
              "      <td>0.941555</td>\n",
              "      <td>0</td>\n",
              "    </tr>\n",
              "    <tr>\n",
              "      <th>2019-09-09</th>\n",
              "      <td>0.688885</td>\n",
              "      <td>0.953130</td>\n",
              "      <td>0.990427</td>\n",
              "      <td>0.971774</td>\n",
              "      <td>0.959063</td>\n",
              "      <td>0.972113</td>\n",
              "      <td>0.980885</td>\n",
              "      <td>0.809303</td>\n",
              "      <td>0.766265</td>\n",
              "      <td>0.851341</td>\n",
              "      <td>0.744222</td>\n",
              "      <td>0.696015</td>\n",
              "      <td>0.413260</td>\n",
              "      <td>0.746102</td>\n",
              "      <td>0.946097</td>\n",
              "      <td>0</td>\n",
              "    </tr>\n",
              "  </tbody>\n",
              "</table>\n",
              "</div>"
            ],
            "text/plain": [
              "                 RSI  Williams %R  ...       SAR  triple_barrier_signal\n",
              "Date                               ...                                 \n",
              "2019-09-03  0.501027     0.662474  ...  0.932247                      0\n",
              "2019-09-04  0.572675     0.864557  ...  0.934959                      0\n",
              "2019-09-05  0.664416     0.918630  ...  0.937454                      0\n",
              "2019-09-06  0.679766     0.953159  ...  0.941555                      0\n",
              "2019-09-09  0.688885     0.953130  ...  0.946097                      0\n",
              "\n",
              "[5 rows x 16 columns]"
            ]
          },
          "metadata": {
            "tags": []
          },
          "execution_count": 27
        }
      ]
    },
    {
      "cell_type": "code",
      "metadata": {
        "id": "5MCZDpBgrrQQ",
        "colab_type": "code",
        "outputId": "e670eeb2-cada-46b7-9cd4-1652fa68ea24",
        "colab": {
          "base_uri": "https://localhost:8080/",
          "height": 35
        }
      },
      "source": [
        "df = df_minmax\n",
        "print('特徵縮放完成!')"
      ],
      "execution_count": 28,
      "outputs": [
        {
          "output_type": "stream",
          "text": [
            "特徵縮放完成!\n"
          ],
          "name": "stdout"
        }
      ]
    },
    {
      "cell_type": "markdown",
      "metadata": {
        "id": "_kc7tvz_M7PO",
        "colab_type": "text"
      },
      "source": [
        "# Xs ,ys prepare"
      ]
    },
    {
      "cell_type": "code",
      "metadata": {
        "id": "2ZHvlRJ5Lzzu",
        "colab_type": "code",
        "outputId": "1543c55e-6b2c-457c-826b-7b7ace67882a",
        "colab": {
          "base_uri": "https://localhost:8080/",
          "height": 52
        }
      },
      "source": [
        "from tqdm import tqdm\n",
        "import numpy as np\n",
        "\n",
        "#定義觀察天數,起始index(0),結束index(資料筆數-觀察天數)\n",
        "days = 15\n",
        "b_index = 0\n",
        "f_index = len(df)-days\n",
        "\n",
        "#特徵欄位\n",
        "features = df.drop(y_name,axis=1).columns.tolist()\n",
        "\n",
        "#待存放序列\n",
        "Xs = []\n",
        "ys = []\n",
        "indexs = []\n",
        "\n",
        "'''\n",
        "若資料筆數100,days=15天,f_index=85,i只會跑到84,i+days=99,features只會跑到98天.\n",
        "若資料筆數100,days=15天,f_index=85+1,i會跑到85,i+days=100,features會跑到99天.\n",
        "'''\n",
        "for i in tqdm(range(b_index ,f_index+1 ,1)):#每次i都會遞增1\n",
        "  X = df.iloc[i:i+days,:][features] #ex:0...14(不含15)之features\n",
        "  y = df.iloc[i+days-1:i+days,:][y_name]#ex:14,y_name\n",
        "  X = np.array(X) # to np_array\n",
        "  Xs.append(X) #加入一筆X\n",
        "  ys.append(y) #加入一筆y\n",
        "  indexs.append((df.iloc[[i]].index,\n",
        "                 df.iloc[[i+days-1]].index)) #加入資料日期\n",
        "#轉換成np_array\n",
        "Xs = np.array(Xs)\n",
        "ys = np.array(ys)\n",
        "print('準備完成')"
      ],
      "execution_count": 29,
      "outputs": [
        {
          "output_type": "stream",
          "text": [
            "100%|██████████| 8627/8627 [00:17<00:00, 498.38it/s]\n"
          ],
          "name": "stderr"
        },
        {
          "output_type": "stream",
          "text": [
            "準備完成\n"
          ],
          "name": "stdout"
        }
      ]
    },
    {
      "cell_type": "markdown",
      "metadata": {
        "id": "a9iNRYKpNfIP",
        "colab_type": "text"
      },
      "source": [
        "# check"
      ]
    },
    {
      "cell_type": "code",
      "metadata": {
        "id": "7YiS6ZmtNfSf",
        "colab_type": "code",
        "outputId": "2952f9ca-f70b-44a1-b2a3-c71d6c94b1bd",
        "colab": {
          "base_uri": "https://localhost:8080/",
          "height": 70
        }
      },
      "source": [
        "print('資料筆數:',len(Xs))\n",
        "print('第一筆的index開始和結束:{}-{}'.format(indexs[0][0].date[0],indexs[0][1].date[0]))\n",
        "print('最後一筆的index開始和結束:{}-{}'.format(indexs[-1][0].date[0],indexs[-1][1].date[0]))"
      ],
      "execution_count": 30,
      "outputs": [
        {
          "output_type": "stream",
          "text": [
            "資料筆數: 8627\n",
            "第一筆的index開始和結束:1985-05-29-1985-06-18\n",
            "最後一筆的index開始和結束:2019-08-19-2019-09-09\n"
          ],
          "name": "stdout"
        }
      ]
    },
    {
      "cell_type": "markdown",
      "metadata": {
        "id": "Pabl4tEsXYB8",
        "colab_type": "text"
      },
      "source": [
        "# Reshape X"
      ]
    },
    {
      "cell_type": "markdown",
      "metadata": {
        "id": "RvUPQWb1An8u",
        "colab_type": "text"
      },
      "source": [
        "(圖片數量,長,寬,1張)"
      ]
    },
    {
      "cell_type": "code",
      "metadata": {
        "id": "In4R0IcSPDwG",
        "colab_type": "code",
        "outputId": "69ce6dce-5109-4df9-dda0-3296f064114f",
        "colab": {
          "base_uri": "https://localhost:8080/",
          "height": 52
        }
      },
      "source": [
        "print(Xs.shape)\n",
        "Xs = Xs.reshape(-1,days,len(features),1)\n",
        "print(Xs.shape)"
      ],
      "execution_count": 31,
      "outputs": [
        {
          "output_type": "stream",
          "text": [
            "(8627, 15, 15)\n",
            "(8627, 15, 15, 1)\n"
          ],
          "name": "stdout"
        }
      ]
    },
    {
      "cell_type": "markdown",
      "metadata": {
        "id": "lUy2cpReXaOV",
        "colab_type": "text"
      },
      "source": [
        "# One hot encoding of label"
      ]
    },
    {
      "cell_type": "markdown",
      "metadata": {
        "id": "hjDc-sStA1gk",
        "colab_type": "text"
      },
      "source": [
        "原始y代表漲幅"
      ]
    },
    {
      "cell_type": "code",
      "metadata": {
        "id": "6XGRdxmfWrfo",
        "colab_type": "code",
        "outputId": "061af897-4fef-4e31-e855-86197de9f8ce",
        "colab": {
          "base_uri": "https://localhost:8080/",
          "height": 248
        }
      },
      "source": [
        "print(ys.shape)\n",
        "print(ys[:5])\n",
        "\n",
        "from keras.utils.np_utils import to_categorical\n",
        "ys = to_categorical(ys, num_classes = 3)\n",
        "print(ys.shape)\n",
        "print(ys[:5])"
      ],
      "execution_count": 32,
      "outputs": [
        {
          "output_type": "stream",
          "text": [
            "(8627, 1)\n",
            "[[0]\n",
            " [0]\n",
            " [0]\n",
            " [0]\n",
            " [0]]\n"
          ],
          "name": "stdout"
        },
        {
          "output_type": "stream",
          "text": [
            "Using TensorFlow backend.\n"
          ],
          "name": "stderr"
        },
        {
          "output_type": "stream",
          "text": [
            "(8627, 3)\n",
            "[[1. 0. 0.]\n",
            " [1. 0. 0.]\n",
            " [1. 0. 0.]\n",
            " [1. 0. 0.]\n",
            " [1. 0. 0.]]\n"
          ],
          "name": "stdout"
        }
      ]
    },
    {
      "cell_type": "markdown",
      "metadata": {
        "id": "TYcPI2TWBTpJ",
        "colab_type": "text"
      },
      "source": [
        "# Visualization"
      ]
    },
    {
      "cell_type": "code",
      "metadata": {
        "id": "ibNjBLRaBUJh",
        "colab_type": "code",
        "outputId": "29c9dfab-c5b8-48c3-9e98-0962a8ecfb25",
        "colab": {
          "base_uri": "https://localhost:8080/",
          "height": 607
        }
      },
      "source": [
        "import matplotlib.pyplot as plt\n",
        "import matplotlib.image as mpimg\n",
        "%matplotlib inline\n",
        "Xs_v = Xs.reshape(-1,Xs.shape[1],Xs.shape[2])\n",
        "plt.figure(figsize=(10,10))\n",
        "plt.subplots_adjust(wspace =0, hspace =0.3)\n",
        "for i in range(0,9):\n",
        "    plt.subplot(330 + (i+1))\n",
        "    plt.imshow(Xs_v[i])\n",
        "    plt.title(np.argmax(ys[i]))"
      ],
      "execution_count": 33,
      "outputs": [
        {
          "output_type": "display_data",
          "data": {
            "image/png": "[encoded data removed]",
            "text/plain": [
              "<Figure size 720x720 with 9 Axes>"
            ]
          },
          "metadata": {
            "tags": []
          }
        }
      ]
    },
    {
      "cell_type": "markdown",
      "metadata": {
        "id": "5Oa6gYq_aVjE",
        "colab_type": "text"
      },
      "source": [
        "# Split training and validation sets"
      ]
    },
    {
      "cell_type": "code",
      "metadata": {
        "id": "OLHFbreckAlH",
        "colab_type": "code",
        "outputId": "636da2a8-d1dd-44ac-c709-7bab66e5e444",
        "colab": {
          "base_uri": "https://localhost:8080/",
          "height": 35
        }
      },
      "source": [
        "X_test = Xs[-40:] #最後40天features當作test資料\n",
        "X_train,y_train = Xs[:-40],ys[:-40] #其他當作訓練資料(裡面再去拆分成訓練跟驗證)\n",
        "print(X_train.shape,y_train.shape,X_test.shape)"
      ],
      "execution_count": 34,
      "outputs": [
        {
          "output_type": "stream",
          "text": [
            "(8587, 15, 15, 1) (8587, 3) (40, 15, 15, 1)\n"
          ],
          "name": "stdout"
        }
      ]
    },
    {
      "cell_type": "markdown",
      "metadata": {
        "id": "7ZLA_GTNnVXt",
        "colab_type": "text"
      },
      "source": [
        "# 對訓練資料調整採樣使其數據平衡"
      ]
    },
    {
      "cell_type": "markdown",
      "metadata": {
        "id": "a2AAPF6foXjb",
        "colab_type": "text"
      },
      "source": [
        "轉換shape才能丟到RandomOverSampler"
      ]
    },
    {
      "cell_type": "code",
      "metadata": {
        "id": "-upxjjv4n6zf",
        "colab_type": "code",
        "colab": {
          "base_uri": "https://localhost:8080/",
          "height": 52
        },
        "outputId": "f3b5d3c4-d985-4d02-be91-9f2225a08c85"
      },
      "source": [
        "X_train2維 = X_train.reshape(X_train.shape[0],-1)\n",
        "y_train數字 = np.array([ np.argmax(i) for i in y_train])\n",
        "print(X_train2維.shape)\n",
        "print(y_train數字.shape)"
      ],
      "execution_count": 35,
      "outputs": [
        {
          "output_type": "stream",
          "text": [
            "(8587, 225)\n",
            "(8587,)\n"
          ],
          "name": "stdout"
        }
      ]
    },
    {
      "cell_type": "markdown",
      "metadata": {
        "id": "tvDI0EQpocd4",
        "colab_type": "text"
      },
      "source": [
        "丟到RandomOverSampler"
      ]
    },
    {
      "cell_type": "code",
      "metadata": {
        "id": "1HgykAGdnVfx",
        "colab_type": "code",
        "colab": {
          "base_uri": "https://localhost:8080/",
          "height": 144
        },
        "outputId": "f59a266f-5299-4843-e9dc-e9ada8eda7d9"
      },
      "source": [
        "from imblearn.over_sampling import RandomOverSampler\n",
        "from imblearn.under_sampling import RandomUnderSampler\n",
        "#ros = RandomOverSampler()\n",
        "ros = RandomUnderSampler()\n",
        "X_train平衡 ,y_train平衡 = ros.fit_sample(X_train2維 ,y_train數字)\n",
        "print(pd.DataFrame(y_train平衡)[0].value_counts().sort_index())#顯示結果"
      ],
      "execution_count": 36,
      "outputs": [
        {
          "output_type": "stream",
          "text": [
            "0    1164\n",
            "1    1164\n",
            "2    1164\n",
            "Name: 0, dtype: int64\n"
          ],
          "name": "stdout"
        },
        {
          "output_type": "stream",
          "text": [
            "/usr/local/lib/python3.6/dist-packages/sklearn/externals/six.py:31: DeprecationWarning: The module is deprecated in version 0.21 and will be removed in version 0.23 since we've dropped support for Python 2.7. Please rely on the official version of six (https://pypi.org/project/six/).\n",
            "  \"(https://pypi.org/project/six/).\", DeprecationWarning)\n"
          ],
          "name": "stderr"
        }
      ]
    },
    {
      "cell_type": "markdown",
      "metadata": {
        "id": "qNE4MdwJodtS",
        "colab_type": "text"
      },
      "source": [
        "轉換回原本shape"
      ]
    },
    {
      "cell_type": "code",
      "metadata": {
        "id": "eB6zxQUmoUwQ",
        "colab_type": "code",
        "colab": {
          "base_uri": "https://localhost:8080/",
          "height": 52
        },
        "outputId": "b6377f84-7340-42a5-c707-54837c4ae053"
      },
      "source": [
        "X_train = X_train平衡.reshape(X_train平衡.shape[0],15,15,1)#資料數,15,15,1\n",
        "y_train = y_train平衡.reshape(y_train平衡.shape[0],1)#資料數,1\n",
        "y_train = to_categorical(y_train , num_classes = 3)#one_hot\n",
        "print(X_train.shape)\n",
        "print(y_train.shape)"
      ],
      "execution_count": 37,
      "outputs": [
        {
          "output_type": "stream",
          "text": [
            "(3492, 15, 15, 1)\n",
            "(3492, 3)\n"
          ],
          "name": "stdout"
        }
      ]
    },
    {
      "cell_type": "code",
      "metadata": {
        "id": "MgsrVpYUYf5J",
        "colab_type": "code",
        "outputId": "d5a8e508-4f61-4559-fb61-ba7f1d55d649",
        "colab": {
          "base_uri": "https://localhost:8080/",
          "height": 35
        }
      },
      "source": [
        "from sklearn.model_selection import train_test_split\n",
        "xtrain, xval, ytrain, yval = train_test_split(X_train,\n",
        "                                              y_train, \n",
        "                                              test_size = 0.3,#7,3分\n",
        "                                              random_state = 42,\n",
        "                                              shuffle=True,#是否洗牌\n",
        "                                              stratify=None #是否根據y欄位做分層取樣\n",
        "                                             )\n",
        "print(xtrain.shape, ytrain.shape, xval.shape, yval.shape)"
      ],
      "execution_count": 38,
      "outputs": [
        {
          "output_type": "stream",
          "text": [
            "(2444, 15, 15, 1) (2444, 3) (1048, 15, 15, 1) (1048, 3)\n"
          ],
          "name": "stdout"
        }
      ]
    },
    {
      "cell_type": "markdown",
      "metadata": {
        "id": "2xQOFrENMkSb",
        "colab_type": "text"
      },
      "source": [
        "# 看一下樣本的label分布情況是否平均(已解決)"
      ]
    },
    {
      "cell_type": "markdown",
      "metadata": {
        "id": "xnUz7A3tlfya",
        "colab_type": "text"
      },
      "source": [
        "0:Hold,1:Buy,2:Sell"
      ]
    },
    {
      "cell_type": "code",
      "metadata": {
        "id": "aA9SXiicML6Y",
        "colab_type": "code",
        "outputId": "429d0d81-9f3a-457b-aa54-46d6ff8b76d7",
        "colab": {
          "base_uri": "https://localhost:8080/",
          "height": 88
        }
      },
      "source": [
        "pd.Series([np.argmax(i) for i in y_train]).value_counts()"
      ],
      "execution_count": 39,
      "outputs": [
        {
          "output_type": "execute_result",
          "data": {
            "text/plain": [
              "1    1164\n",
              "2    1164\n",
              "0    1164\n",
              "dtype: int64"
            ]
          },
          "metadata": {
            "tags": []
          },
          "execution_count": 39
        }
      ]
    },
    {
      "cell_type": "code",
      "metadata": {
        "id": "UIOBe8tVL5dV",
        "colab_type": "code",
        "outputId": "c6f95ee9-3636-4e0b-c5c2-43e1ec66418c",
        "colab": {
          "base_uri": "https://localhost:8080/",
          "height": 88
        }
      },
      "source": [
        "pd.Series([np.argmax(i) for i in ytrain]).value_counts()"
      ],
      "execution_count": 40,
      "outputs": [
        {
          "output_type": "execute_result",
          "data": {
            "text/plain": [
              "1    841\n",
              "2    824\n",
              "0    779\n",
              "dtype: int64"
            ]
          },
          "metadata": {
            "tags": []
          },
          "execution_count": 40
        }
      ]
    },
    {
      "cell_type": "code",
      "metadata": {
        "id": "A235BZ6cMQ-S",
        "colab_type": "code",
        "outputId": "41fa0d23-d7d1-4bf9-a75b-6868f6e57c47",
        "colab": {
          "base_uri": "https://localhost:8080/",
          "height": 88
        }
      },
      "source": [
        "pd.Series([np.argmax(i) for i in yval]).value_counts()"
      ],
      "execution_count": 41,
      "outputs": [
        {
          "output_type": "execute_result",
          "data": {
            "text/plain": [
              "0    385\n",
              "2    340\n",
              "1    323\n",
              "dtype: int64"
            ]
          },
          "metadata": {
            "tags": []
          },
          "execution_count": 41
        }
      ]
    },
    {
      "cell_type": "markdown",
      "metadata": {
        "id": "m-oXz0FGarb1",
        "colab_type": "text"
      },
      "source": [
        "# CNN"
      ]
    },
    {
      "cell_type": "code",
      "metadata": {
        "id": "eWOsWp7_amoX",
        "colab_type": "code",
        "colab": {}
      },
      "source": [
        "from keras import backend as K\n",
        "from keras.models import Sequential\n",
        "from keras.layers import Dense, Dropout, Lambda, Flatten, BatchNormalization\n",
        "from keras.layers import Conv2D, MaxPool2D, AvgPool2D\n",
        "from keras.optimizers import Adam #做梯度下降的一種優化方法\n",
        "from keras.callbacks import ReduceLROnPlateau , EarlyStopping #減少學習速率 on Plateau"
      ],
      "execution_count": 0,
      "outputs": []
    },
    {
      "cell_type": "code",
      "metadata": {
        "id": "yd-csnW2auJS",
        "colab_type": "code",
        "outputId": "01913a04-58df-4b8b-d354-a9220c0f0fdc",
        "colab": {
          "base_uri": "https://localhost:8080/",
          "height": 766
        }
      },
      "source": [
        "model = Sequential()\n",
        "\n",
        "nclasses = 3 \n",
        "\n",
        "model.add(Conv2D(filters=32, kernel_size=(3,3), padding='same', activation='relu', input_shape=(15,15,1)))#15,15,32\n",
        "model.add(Conv2D(filters=64, kernel_size=(3,3), padding='same', activation='relu',))#15,15,64\n",
        "model.add(MaxPool2D(pool_size=(5,5)))# 3,3,64\n",
        "model.add(Flatten())#576\n",
        "model.add(Dropout(0.5))#288\n",
        "model.add(Dense(128, activation='relu'))#128\n",
        "model.add(Dropout(0.5))#64\n",
        "model.add(Dense(32, activation='relu'))#32\n",
        "model.add(Dropout(0.5))#16\n",
        "model.add(Dense(nclasses, activation='softmax'))#3\n",
        "model.summary()"
      ],
      "execution_count": 43,
      "outputs": [
        {
          "output_type": "stream",
          "text": [
            "WARNING:tensorflow:From /usr/local/lib/python3.6/dist-packages/keras/backend/tensorflow_backend.py:66: The name tf.get_default_graph is deprecated. Please use tf.compat.v1.get_default_graph instead.\n",
            "\n",
            "WARNING:tensorflow:From /usr/local/lib/python3.6/dist-packages/keras/backend/tensorflow_backend.py:541: The name tf.placeholder is deprecated. Please use tf.compat.v1.placeholder instead.\n",
            "\n",
            "WARNING:tensorflow:From /usr/local/lib/python3.6/dist-packages/keras/backend/tensorflow_backend.py:4432: The name tf.random_uniform is deprecated. Please use tf.random.uniform instead.\n",
            "\n",
            "WARNING:tensorflow:From /usr/local/lib/python3.6/dist-packages/keras/backend/tensorflow_backend.py:4267: The name tf.nn.max_pool is deprecated. Please use tf.nn.max_pool2d instead.\n",
            "\n",
            "WARNING:tensorflow:From /usr/local/lib/python3.6/dist-packages/keras/backend/tensorflow_backend.py:148: The name tf.placeholder_with_default is deprecated. Please use tf.compat.v1.placeholder_with_default instead.\n",
            "\n",
            "WARNING:tensorflow:From /usr/local/lib/python3.6/dist-packages/keras/backend/tensorflow_backend.py:3733: calling dropout (from tensorflow.python.ops.nn_ops) with keep_prob is deprecated and will be removed in a future version.\n",
            "Instructions for updating:\n",
            "Please use `rate` instead of `keep_prob`. Rate should be set to `rate = 1 - keep_prob`.\n",
            "Model: \"sequential_1\"\n",
            "_________________________________________________________________\n",
            "Layer (type)                 Output Shape              Param #   \n",
            "=================================================================\n",
            "conv2d_1 (Conv2D)            (None, 15, 15, 32)        320       \n",
            "_________________________________________________________________\n",
            "conv2d_2 (Conv2D)            (None, 15, 15, 64)        18496     \n",
            "_________________________________________________________________\n",
            "max_pooling2d_1 (MaxPooling2 (None, 3, 3, 64)          0         \n",
            "_________________________________________________________________\n",
            "flatten_1 (Flatten)          (None, 576)               0         \n",
            "_________________________________________________________________\n",
            "dropout_1 (Dropout)          (None, 576)               0         \n",
            "_________________________________________________________________\n",
            "dense_1 (Dense)              (None, 128)               73856     \n",
            "_________________________________________________________________\n",
            "dropout_2 (Dropout)          (None, 128)               0         \n",
            "_________________________________________________________________\n",
            "dense_2 (Dense)              (None, 32)                4128      \n",
            "_________________________________________________________________\n",
            "dropout_3 (Dropout)          (None, 32)                0         \n",
            "_________________________________________________________________\n",
            "dense_3 (Dense)              (None, 3)                 99        \n",
            "=================================================================\n",
            "Total params: 96,899\n",
            "Trainable params: 96,899\n",
            "Non-trainable params: 0\n",
            "_________________________________________________________________\n"
          ],
          "name": "stdout"
        }
      ]
    },
    {
      "cell_type": "code",
      "metadata": {
        "id": "8Z913AqUa8bJ",
        "colab_type": "code",
        "outputId": "f5e92d53-704f-4507-ce8f-abad44d4afc3",
        "colab": {
          "base_uri": "https://localhost:8080/",
          "height": 108
        }
      },
      "source": [
        "model.compile(optimizer=\"adam\", loss=\"categorical_crossentropy\", metrics=[\"accuracy\"])"
      ],
      "execution_count": 44,
      "outputs": [
        {
          "output_type": "stream",
          "text": [
            "WARNING:tensorflow:From /usr/local/lib/python3.6/dist-packages/keras/optimizers.py:793: The name tf.train.Optimizer is deprecated. Please use tf.compat.v1.train.Optimizer instead.\n",
            "\n",
            "WARNING:tensorflow:From /usr/local/lib/python3.6/dist-packages/keras/backend/tensorflow_backend.py:3576: The name tf.log is deprecated. Please use tf.math.log instead.\n",
            "\n"
          ],
          "name": "stdout"
        }
      ]
    },
    {
      "cell_type": "markdown",
      "metadata": {
        "id": "VORA4n9Lz9of",
        "colab_type": "text"
      },
      "source": [
        "# 優化器"
      ]
    },
    {
      "cell_type": "code",
      "metadata": {
        "id": "Kw_j4R4Da_To",
        "colab_type": "code",
        "colab": {}
      },
      "source": [
        "#1\n",
        "lr_reduction = ReduceLROnPlateau(monitor = 'val_acc', \n",
        "                                 factor=0.5, \n",
        "                                 patience = 3, \n",
        "                                 verbose = 1, \n",
        "                                 min_lr = 0.00001)\n",
        "\n",
        "#2\n",
        "es = EarlyStopping(monitor='val_acc',#驗證集acc\n",
        "                   min_delta=0, \n",
        "                   patience=50,  \n",
        "                   mode='max',\n",
        "                   restore_best_weights = True)#恢復最佳權重"
      ],
      "execution_count": 0,
      "outputs": []
    },
    {
      "cell_type": "markdown",
      "metadata": {
        "id": "aevlVsI9Lk9a",
        "colab_type": "text"
      },
      "source": [
        "# fit"
      ]
    },
    {
      "cell_type": "code",
      "metadata": {
        "id": "TJJR7Yg-bHac",
        "colab_type": "code",
        "outputId": "5cdca5f9-5405-4b61-8470-fd7bead59213",
        "colab": {
          "base_uri": "https://localhost:8080/",
          "height": 1000
        }
      },
      "source": [
        "history = model.fit(xtrain,ytrain,\n",
        "                    batch_size = 128,\n",
        "                    epochs = 500,\n",
        "                    validation_data=(xval,yval),\n",
        "                    verbose=1,callbacks=[es])"
      ],
      "execution_count": 46,
      "outputs": [
        {
          "output_type": "stream",
          "text": [
            "WARNING:tensorflow:From /usr/local/lib/python3.6/dist-packages/tensorflow/python/ops/math_grad.py:1250: add_dispatch_support.<locals>.wrapper (from tensorflow.python.ops.array_ops) is deprecated and will be removed in a future version.\n",
            "Instructions for updating:\n",
            "Use tf.where in 2.0, which has the same broadcast rule as np.where\n",
            "Train on 2444 samples, validate on 1048 samples\n",
            "Epoch 1/500\n",
            "2444/2444 [==============================] - 3s 1ms/step - loss: 1.1048 - acc: 0.3290 - val_loss: 1.0973 - val_acc: 0.3244\n",
            "Epoch 2/500\n",
            "2444/2444 [==============================] - 0s 66us/step - loss: 1.0991 - acc: 0.3527 - val_loss: 1.0966 - val_acc: 0.4027\n",
            "Epoch 3/500\n",
            "2444/2444 [==============================] - 0s 58us/step - loss: 1.0974 - acc: 0.3457 - val_loss: 1.0962 - val_acc: 0.3321\n",
            "Epoch 4/500\n",
            "2444/2444 [==============================] - 0s 57us/step - loss: 1.0962 - acc: 0.3478 - val_loss: 1.0944 - val_acc: 0.3721\n",
            "Epoch 5/500\n",
            "2444/2444 [==============================] - 0s 58us/step - loss: 1.0933 - acc: 0.3719 - val_loss: 1.0916 - val_acc: 0.3807\n",
            "Epoch 6/500\n",
            "2444/2444 [==============================] - 0s 56us/step - loss: 1.0947 - acc: 0.3752 - val_loss: 1.0930 - val_acc: 0.3569\n",
            "Epoch 7/500\n",
            "2444/2444 [==============================] - 0s 55us/step - loss: 1.0880 - acc: 0.4071 - val_loss: 1.0847 - val_acc: 0.3712\n",
            "Epoch 8/500\n",
            "2444/2444 [==============================] - 0s 59us/step - loss: 1.0885 - acc: 0.3801 - val_loss: 1.0851 - val_acc: 0.3817\n",
            "Epoch 9/500\n",
            "2444/2444 [==============================] - 0s 55us/step - loss: 1.0851 - acc: 0.3965 - val_loss: 1.0811 - val_acc: 0.3817\n",
            "Epoch 10/500\n",
            "2444/2444 [==============================] - 0s 53us/step - loss: 1.0805 - acc: 0.3883 - val_loss: 1.0802 - val_acc: 0.3798\n",
            "Epoch 11/500\n",
            "2444/2444 [==============================] - 0s 55us/step - loss: 1.0731 - acc: 0.4157 - val_loss: 1.0705 - val_acc: 0.3807\n",
            "Epoch 12/500\n",
            "2444/2444 [==============================] - 0s 60us/step - loss: 1.0717 - acc: 0.4018 - val_loss: 1.0651 - val_acc: 0.3865\n",
            "Epoch 13/500\n",
            "2444/2444 [==============================] - 0s 53us/step - loss: 1.0686 - acc: 0.4075 - val_loss: 1.0630 - val_acc: 0.3931\n",
            "Epoch 14/500\n",
            "2444/2444 [==============================] - 0s 53us/step - loss: 1.0620 - acc: 0.4415 - val_loss: 1.0601 - val_acc: 0.3979\n",
            "Epoch 15/500\n",
            "2444/2444 [==============================] - 0s 56us/step - loss: 1.0548 - acc: 0.4419 - val_loss: 1.0574 - val_acc: 0.4151\n",
            "Epoch 16/500\n",
            "2444/2444 [==============================] - 0s 51us/step - loss: 1.0508 - acc: 0.4423 - val_loss: 1.0476 - val_acc: 0.4351\n",
            "Epoch 17/500\n",
            "2444/2444 [==============================] - 0s 53us/step - loss: 1.0425 - acc: 0.4407 - val_loss: 1.0347 - val_acc: 0.4456\n",
            "Epoch 18/500\n",
            "2444/2444 [==============================] - 0s 51us/step - loss: 1.0393 - acc: 0.4579 - val_loss: 1.0422 - val_acc: 0.4427\n",
            "Epoch 19/500\n",
            "2444/2444 [==============================] - 0s 55us/step - loss: 1.0448 - acc: 0.4362 - val_loss: 1.0468 - val_acc: 0.4189\n",
            "Epoch 20/500\n",
            "2444/2444 [==============================] - 0s 59us/step - loss: 1.0343 - acc: 0.4476 - val_loss: 1.0384 - val_acc: 0.4456\n",
            "Epoch 21/500\n",
            "2444/2444 [==============================] - 0s 52us/step - loss: 1.0430 - acc: 0.4354 - val_loss: 1.0341 - val_acc: 0.4609\n",
            "Epoch 22/500\n",
            "2444/2444 [==============================] - 0s 52us/step - loss: 1.0325 - acc: 0.4521 - val_loss: 1.0324 - val_acc: 0.4427\n",
            "Epoch 23/500\n",
            "2444/2444 [==============================] - 0s 54us/step - loss: 1.0269 - acc: 0.4644 - val_loss: 1.0224 - val_acc: 0.4647\n",
            "Epoch 24/500\n",
            "2444/2444 [==============================] - 0s 52us/step - loss: 1.0116 - acc: 0.4709 - val_loss: 1.0224 - val_acc: 0.4609\n",
            "Epoch 25/500\n",
            "2444/2444 [==============================] - 0s 51us/step - loss: 1.0192 - acc: 0.4534 - val_loss: 1.0383 - val_acc: 0.4494\n",
            "Epoch 26/500\n",
            "2444/2444 [==============================] - 0s 57us/step - loss: 1.0077 - acc: 0.4746 - val_loss: 1.0139 - val_acc: 0.4637\n",
            "Epoch 27/500\n",
            "2444/2444 [==============================] - 0s 53us/step - loss: 1.0089 - acc: 0.4755 - val_loss: 1.0178 - val_acc: 0.4809\n",
            "Epoch 28/500\n",
            "2444/2444 [==============================] - 0s 55us/step - loss: 1.0011 - acc: 0.4971 - val_loss: 1.0065 - val_acc: 0.4704\n",
            "Epoch 29/500\n",
            "2444/2444 [==============================] - 0s 52us/step - loss: 0.9961 - acc: 0.4783 - val_loss: 1.0046 - val_acc: 0.4905\n",
            "Epoch 30/500\n",
            "2444/2444 [==============================] - 0s 50us/step - loss: 0.9877 - acc: 0.4947 - val_loss: 1.0134 - val_acc: 0.4790\n",
            "Epoch 31/500\n",
            "2444/2444 [==============================] - 0s 52us/step - loss: 0.9821 - acc: 0.5045 - val_loss: 1.0057 - val_acc: 0.4885\n",
            "Epoch 32/500\n",
            "2444/2444 [==============================] - 0s 51us/step - loss: 0.9777 - acc: 0.5070 - val_loss: 0.9917 - val_acc: 0.5048\n",
            "Epoch 33/500\n",
            "2444/2444 [==============================] - 0s 52us/step - loss: 0.9852 - acc: 0.5008 - val_loss: 1.0151 - val_acc: 0.4895\n",
            "Epoch 34/500\n",
            "2444/2444 [==============================] - 0s 54us/step - loss: 0.9579 - acc: 0.5094 - val_loss: 0.9898 - val_acc: 0.4981\n",
            "Epoch 35/500\n",
            "2444/2444 [==============================] - 0s 54us/step - loss: 0.9652 - acc: 0.5250 - val_loss: 0.9944 - val_acc: 0.5010\n",
            "Epoch 36/500\n",
            "2444/2444 [==============================] - 0s 52us/step - loss: 0.9624 - acc: 0.5168 - val_loss: 0.9932 - val_acc: 0.4952\n",
            "Epoch 37/500\n",
            "2444/2444 [==============================] - 0s 55us/step - loss: 0.9614 - acc: 0.5291 - val_loss: 0.9688 - val_acc: 0.5143\n",
            "Epoch 38/500\n",
            "2444/2444 [==============================] - 0s 53us/step - loss: 0.9451 - acc: 0.5188 - val_loss: 0.9875 - val_acc: 0.5086\n",
            "Epoch 39/500\n",
            "2444/2444 [==============================] - 0s 53us/step - loss: 0.9614 - acc: 0.5323 - val_loss: 0.9727 - val_acc: 0.5181\n",
            "Epoch 40/500\n",
            "2444/2444 [==============================] - 0s 52us/step - loss: 0.9504 - acc: 0.5225 - val_loss: 0.9642 - val_acc: 0.5172\n",
            "Epoch 41/500\n",
            "2444/2444 [==============================] - 0s 55us/step - loss: 0.9372 - acc: 0.5413 - val_loss: 0.9663 - val_acc: 0.5115\n",
            "Epoch 42/500\n",
            "2444/2444 [==============================] - 0s 50us/step - loss: 0.9416 - acc: 0.5319 - val_loss: 0.9560 - val_acc: 0.5057\n",
            "Epoch 43/500\n",
            "2444/2444 [==============================] - 0s 60us/step - loss: 0.9392 - acc: 0.5286 - val_loss: 0.9666 - val_acc: 0.5048\n",
            "Epoch 44/500\n",
            "2444/2444 [==============================] - 0s 53us/step - loss: 0.9453 - acc: 0.5397 - val_loss: 0.9642 - val_acc: 0.5210\n",
            "Epoch 45/500\n",
            "2444/2444 [==============================] - 0s 51us/step - loss: 0.9299 - acc: 0.5417 - val_loss: 0.9711 - val_acc: 0.5000\n",
            "Epoch 46/500\n",
            "2444/2444 [==============================] - 0s 59us/step - loss: 0.9262 - acc: 0.5536 - val_loss: 0.9691 - val_acc: 0.5277\n",
            "Epoch 47/500\n",
            "2444/2444 [==============================] - 0s 55us/step - loss: 0.9428 - acc: 0.5475 - val_loss: 0.9485 - val_acc: 0.5086\n",
            "Epoch 48/500\n",
            "2444/2444 [==============================] - 0s 52us/step - loss: 0.9365 - acc: 0.5209 - val_loss: 0.9624 - val_acc: 0.5000\n",
            "Epoch 49/500\n",
            "2444/2444 [==============================] - 0s 55us/step - loss: 0.9317 - acc: 0.5376 - val_loss: 0.9543 - val_acc: 0.5344\n",
            "Epoch 50/500\n",
            "2444/2444 [==============================] - 0s 51us/step - loss: 0.9180 - acc: 0.5516 - val_loss: 0.9664 - val_acc: 0.5181\n",
            "Epoch 51/500\n",
            "2444/2444 [==============================] - 0s 57us/step - loss: 0.9199 - acc: 0.5536 - val_loss: 0.9397 - val_acc: 0.5277\n",
            "Epoch 52/500\n",
            "2444/2444 [==============================] - 0s 52us/step - loss: 0.9018 - acc: 0.5782 - val_loss: 0.9429 - val_acc: 0.5076\n",
            "Epoch 53/500\n",
            "2444/2444 [==============================] - 0s 53us/step - loss: 0.8914 - acc: 0.5638 - val_loss: 0.9481 - val_acc: 0.5344\n",
            "Epoch 54/500\n",
            "2444/2444 [==============================] - 0s 54us/step - loss: 0.9085 - acc: 0.5610 - val_loss: 0.9400 - val_acc: 0.5324\n",
            "Epoch 55/500\n",
            "2444/2444 [==============================] - 0s 52us/step - loss: 0.9039 - acc: 0.5552 - val_loss: 0.9432 - val_acc: 0.5239\n",
            "Epoch 56/500\n",
            "2444/2444 [==============================] - 0s 52us/step - loss: 0.8977 - acc: 0.5708 - val_loss: 0.9561 - val_acc: 0.5095\n",
            "Epoch 57/500\n",
            "2444/2444 [==============================] - 0s 60us/step - loss: 0.9099 - acc: 0.5507 - val_loss: 0.9419 - val_acc: 0.5115\n",
            "Epoch 58/500\n",
            "2444/2444 [==============================] - 0s 58us/step - loss: 0.9031 - acc: 0.5724 - val_loss: 0.9450 - val_acc: 0.5248\n",
            "Epoch 59/500\n",
            "2444/2444 [==============================] - 0s 53us/step - loss: 0.8945 - acc: 0.5687 - val_loss: 0.9357 - val_acc: 0.5258\n",
            "Epoch 60/500\n",
            "2444/2444 [==============================] - 0s 52us/step - loss: 0.8895 - acc: 0.5679 - val_loss: 0.9448 - val_acc: 0.5286\n",
            "Epoch 61/500\n",
            "2444/2444 [==============================] - 0s 51us/step - loss: 0.8944 - acc: 0.5724 - val_loss: 0.9408 - val_acc: 0.5296\n",
            "Epoch 62/500\n",
            "2444/2444 [==============================] - 0s 55us/step - loss: 0.8817 - acc: 0.5597 - val_loss: 0.9374 - val_acc: 0.5296\n",
            "Epoch 63/500\n",
            "2444/2444 [==============================] - 0s 55us/step - loss: 0.8787 - acc: 0.5691 - val_loss: 0.9323 - val_acc: 0.5191\n",
            "Epoch 64/500\n",
            "2444/2444 [==============================] - 0s 53us/step - loss: 0.8712 - acc: 0.5802 - val_loss: 0.9374 - val_acc: 0.5086\n",
            "Epoch 65/500\n",
            "2444/2444 [==============================] - 0s 53us/step - loss: 0.8857 - acc: 0.5794 - val_loss: 0.9430 - val_acc: 0.5019\n",
            "Epoch 66/500\n",
            "2444/2444 [==============================] - 0s 56us/step - loss: 0.8750 - acc: 0.5696 - val_loss: 0.9432 - val_acc: 0.5181\n",
            "Epoch 67/500\n",
            "2444/2444 [==============================] - 0s 53us/step - loss: 0.8756 - acc: 0.5876 - val_loss: 0.9306 - val_acc: 0.5277\n",
            "Epoch 68/500\n",
            "2444/2444 [==============================] - 0s 55us/step - loss: 0.8605 - acc: 0.5970 - val_loss: 0.9357 - val_acc: 0.5382\n",
            "Epoch 69/500\n",
            "2444/2444 [==============================] - 0s 52us/step - loss: 0.8825 - acc: 0.5802 - val_loss: 0.9361 - val_acc: 0.5248\n",
            "Epoch 70/500\n",
            "2444/2444 [==============================] - 0s 51us/step - loss: 0.8669 - acc: 0.5872 - val_loss: 0.9261 - val_acc: 0.5496\n",
            "Epoch 71/500\n",
            "2444/2444 [==============================] - 0s 52us/step - loss: 0.8487 - acc: 0.5908 - val_loss: 0.9341 - val_acc: 0.5286\n",
            "Epoch 72/500\n",
            "2444/2444 [==============================] - 0s 59us/step - loss: 0.8676 - acc: 0.5741 - val_loss: 0.9333 - val_acc: 0.5258\n",
            "Epoch 73/500\n",
            "2444/2444 [==============================] - 0s 50us/step - loss: 0.8578 - acc: 0.5851 - val_loss: 0.9299 - val_acc: 0.5324\n",
            "Epoch 74/500\n",
            "2444/2444 [==============================] - 0s 57us/step - loss: 0.8622 - acc: 0.5827 - val_loss: 0.9256 - val_acc: 0.5315\n",
            "Epoch 75/500\n",
            "2444/2444 [==============================] - 0s 57us/step - loss: 0.8603 - acc: 0.5847 - val_loss: 0.9182 - val_acc: 0.5372\n",
            "Epoch 76/500\n",
            "2444/2444 [==============================] - 0s 51us/step - loss: 0.8417 - acc: 0.5945 - val_loss: 0.9253 - val_acc: 0.5620\n",
            "Epoch 77/500\n",
            "2444/2444 [==============================] - 0s 52us/step - loss: 0.8534 - acc: 0.5937 - val_loss: 0.9154 - val_acc: 0.5630\n",
            "Epoch 78/500\n",
            "2444/2444 [==============================] - 0s 53us/step - loss: 0.8524 - acc: 0.5904 - val_loss: 0.9230 - val_acc: 0.5429\n",
            "Epoch 79/500\n",
            "2444/2444 [==============================] - 0s 54us/step - loss: 0.8630 - acc: 0.5921 - val_loss: 0.9254 - val_acc: 0.5429\n",
            "Epoch 80/500\n",
            "2444/2444 [==============================] - 0s 57us/step - loss: 0.8301 - acc: 0.6121 - val_loss: 0.9240 - val_acc: 0.5363\n",
            "Epoch 81/500\n",
            "2444/2444 [==============================] - 0s 61us/step - loss: 0.8412 - acc: 0.6011 - val_loss: 0.9269 - val_acc: 0.5391\n",
            "Epoch 82/500\n",
            "2444/2444 [==============================] - 0s 56us/step - loss: 0.8454 - acc: 0.5998 - val_loss: 0.9223 - val_acc: 0.5429\n",
            "Epoch 83/500\n",
            "2444/2444 [==============================] - 0s 51us/step - loss: 0.8427 - acc: 0.5929 - val_loss: 0.9284 - val_acc: 0.5315\n",
            "Epoch 84/500\n",
            "2444/2444 [==============================] - 0s 57us/step - loss: 0.8359 - acc: 0.6035 - val_loss: 0.9180 - val_acc: 0.5525\n",
            "Epoch 85/500\n",
            "2444/2444 [==============================] - 0s 53us/step - loss: 0.8417 - acc: 0.6072 - val_loss: 0.9299 - val_acc: 0.5305\n",
            "Epoch 86/500\n",
            "2444/2444 [==============================] - 0s 51us/step - loss: 0.8318 - acc: 0.6191 - val_loss: 0.9329 - val_acc: 0.5324\n",
            "Epoch 87/500\n",
            "2444/2444 [==============================] - 0s 53us/step - loss: 0.8188 - acc: 0.6154 - val_loss: 0.9174 - val_acc: 0.5649\n",
            "Epoch 88/500\n",
            "2444/2444 [==============================] - 0s 55us/step - loss: 0.8065 - acc: 0.6334 - val_loss: 0.9415 - val_acc: 0.5420\n",
            "Epoch 89/500\n",
            "2444/2444 [==============================] - 0s 58us/step - loss: 0.8655 - acc: 0.5847 - val_loss: 0.9279 - val_acc: 0.5525\n",
            "Epoch 90/500\n",
            "2444/2444 [==============================] - 0s 55us/step - loss: 0.8334 - acc: 0.6174 - val_loss: 0.9067 - val_acc: 0.5563\n",
            "Epoch 91/500\n",
            "2444/2444 [==============================] - 0s 57us/step - loss: 0.8114 - acc: 0.6117 - val_loss: 0.9152 - val_acc: 0.5697\n",
            "Epoch 92/500\n",
            "2444/2444 [==============================] - 0s 58us/step - loss: 0.8155 - acc: 0.6187 - val_loss: 0.8985 - val_acc: 0.5716\n",
            "Epoch 93/500\n",
            "2444/2444 [==============================] - 0s 52us/step - loss: 0.8117 - acc: 0.6318 - val_loss: 0.9110 - val_acc: 0.5582\n",
            "Epoch 94/500\n",
            "2444/2444 [==============================] - 0s 52us/step - loss: 0.8133 - acc: 0.6142 - val_loss: 0.9155 - val_acc: 0.5649\n",
            "Epoch 95/500\n",
            "2444/2444 [==============================] - 0s 54us/step - loss: 0.7886 - acc: 0.6182 - val_loss: 0.8952 - val_acc: 0.5782\n",
            "Epoch 96/500\n",
            "2444/2444 [==============================] - 0s 53us/step - loss: 0.8025 - acc: 0.6322 - val_loss: 0.9145 - val_acc: 0.5649\n",
            "Epoch 97/500\n",
            "2444/2444 [==============================] - 0s 53us/step - loss: 0.7998 - acc: 0.6301 - val_loss: 0.8950 - val_acc: 0.5677\n",
            "Epoch 98/500\n",
            "2444/2444 [==============================] - 0s 54us/step - loss: 0.7957 - acc: 0.6260 - val_loss: 0.8939 - val_acc: 0.5811\n",
            "Epoch 99/500\n",
            "2444/2444 [==============================] - 0s 56us/step - loss: 0.7770 - acc: 0.6448 - val_loss: 0.8966 - val_acc: 0.5639\n",
            "Epoch 100/500\n",
            "2444/2444 [==============================] - 0s 51us/step - loss: 0.7945 - acc: 0.6285 - val_loss: 0.8941 - val_acc: 0.5716\n",
            "Epoch 101/500\n",
            "2444/2444 [==============================] - 0s 52us/step - loss: 0.7947 - acc: 0.6318 - val_loss: 0.8885 - val_acc: 0.5859\n",
            "Epoch 102/500\n",
            "2444/2444 [==============================] - 0s 56us/step - loss: 0.7820 - acc: 0.6313 - val_loss: 0.8985 - val_acc: 0.5830\n",
            "Epoch 103/500\n",
            "2444/2444 [==============================] - 0s 59us/step - loss: 0.7865 - acc: 0.6448 - val_loss: 0.8803 - val_acc: 0.5964\n",
            "Epoch 104/500\n",
            "2444/2444 [==============================] - 0s 54us/step - loss: 0.7717 - acc: 0.6403 - val_loss: 0.8998 - val_acc: 0.5802\n",
            "Epoch 105/500\n",
            "2444/2444 [==============================] - 0s 55us/step - loss: 0.7693 - acc: 0.6518 - val_loss: 0.8922 - val_acc: 0.6031\n",
            "Epoch 106/500\n",
            "2444/2444 [==============================] - 0s 51us/step - loss: 0.7854 - acc: 0.6375 - val_loss: 0.8961 - val_acc: 0.5868\n",
            "Epoch 107/500\n",
            "2444/2444 [==============================] - 0s 53us/step - loss: 0.7801 - acc: 0.6596 - val_loss: 0.9000 - val_acc: 0.5887\n",
            "Epoch 108/500\n",
            "2444/2444 [==============================] - 0s 51us/step - loss: 0.7776 - acc: 0.6457 - val_loss: 0.8802 - val_acc: 0.5926\n",
            "Epoch 109/500\n",
            "2444/2444 [==============================] - 0s 54us/step - loss: 0.7520 - acc: 0.6579 - val_loss: 0.9054 - val_acc: 0.5830\n",
            "Epoch 110/500\n",
            "2444/2444 [==============================] - 0s 51us/step - loss: 0.7931 - acc: 0.6395 - val_loss: 0.8782 - val_acc: 0.5878\n",
            "Epoch 111/500\n",
            "2444/2444 [==============================] - 0s 51us/step - loss: 0.7655 - acc: 0.6579 - val_loss: 0.8966 - val_acc: 0.5773\n",
            "Epoch 112/500\n",
            "2444/2444 [==============================] - 0s 54us/step - loss: 0.7826 - acc: 0.6354 - val_loss: 0.8724 - val_acc: 0.5935\n",
            "Epoch 113/500\n",
            "2444/2444 [==============================] - 0s 51us/step - loss: 0.7480 - acc: 0.6649 - val_loss: 0.8847 - val_acc: 0.5830\n",
            "Epoch 114/500\n",
            "2444/2444 [==============================] - 0s 53us/step - loss: 0.7576 - acc: 0.6624 - val_loss: 0.9073 - val_acc: 0.5830\n",
            "Epoch 115/500\n",
            "2444/2444 [==============================] - 0s 53us/step - loss: 0.8024 - acc: 0.6207 - val_loss: 0.8939 - val_acc: 0.5840\n",
            "Epoch 116/500\n",
            "2444/2444 [==============================] - 0s 56us/step - loss: 0.7768 - acc: 0.6420 - val_loss: 0.9050 - val_acc: 0.5763\n",
            "Epoch 117/500\n",
            "2444/2444 [==============================] - 0s 52us/step - loss: 0.7639 - acc: 0.6428 - val_loss: 0.8902 - val_acc: 0.5973\n",
            "Epoch 118/500\n",
            "2444/2444 [==============================] - 0s 57us/step - loss: 0.7640 - acc: 0.6616 - val_loss: 0.8796 - val_acc: 0.5954\n",
            "Epoch 119/500\n",
            "2444/2444 [==============================] - 0s 56us/step - loss: 0.7517 - acc: 0.6575 - val_loss: 0.8881 - val_acc: 0.5945\n",
            "Epoch 120/500\n",
            "2444/2444 [==============================] - 0s 55us/step - loss: 0.7492 - acc: 0.6694 - val_loss: 0.8728 - val_acc: 0.5935\n",
            "Epoch 121/500\n",
            "2444/2444 [==============================] - 0s 53us/step - loss: 0.7452 - acc: 0.6702 - val_loss: 0.8587 - val_acc: 0.6011\n",
            "Epoch 122/500\n",
            "2444/2444 [==============================] - 0s 51us/step - loss: 0.7330 - acc: 0.6759 - val_loss: 0.8784 - val_acc: 0.5983\n",
            "Epoch 123/500\n",
            "2444/2444 [==============================] - 0s 52us/step - loss: 0.7302 - acc: 0.6673 - val_loss: 0.8661 - val_acc: 0.6107\n",
            "Epoch 124/500\n",
            "2444/2444 [==============================] - 0s 54us/step - loss: 0.7295 - acc: 0.6800 - val_loss: 0.8928 - val_acc: 0.5926\n",
            "Epoch 125/500\n",
            "2444/2444 [==============================] - 0s 59us/step - loss: 0.7399 - acc: 0.6633 - val_loss: 0.8638 - val_acc: 0.6240\n",
            "Epoch 126/500\n",
            "2444/2444 [==============================] - 0s 57us/step - loss: 0.7217 - acc: 0.6870 - val_loss: 0.8602 - val_acc: 0.6069\n",
            "Epoch 127/500\n",
            "2444/2444 [==============================] - 0s 59us/step - loss: 0.7411 - acc: 0.6710 - val_loss: 0.8617 - val_acc: 0.6126\n",
            "Epoch 128/500\n",
            "2444/2444 [==============================] - 0s 53us/step - loss: 0.7264 - acc: 0.6796 - val_loss: 0.8521 - val_acc: 0.6126\n",
            "Epoch 129/500\n",
            "2444/2444 [==============================] - 0s 51us/step - loss: 0.7255 - acc: 0.6764 - val_loss: 0.8593 - val_acc: 0.6231\n",
            "Epoch 130/500\n",
            "2444/2444 [==============================] - 0s 51us/step - loss: 0.7197 - acc: 0.6747 - val_loss: 0.8533 - val_acc: 0.6135\n",
            "Epoch 131/500\n",
            "2444/2444 [==============================] - 0s 52us/step - loss: 0.7161 - acc: 0.6858 - val_loss: 0.8563 - val_acc: 0.6059\n",
            "Epoch 132/500\n",
            "2444/2444 [==============================] - 0s 52us/step - loss: 0.6946 - acc: 0.6976 - val_loss: 0.8601 - val_acc: 0.6174\n",
            "Epoch 133/500\n",
            "2444/2444 [==============================] - 0s 53us/step - loss: 0.7250 - acc: 0.6796 - val_loss: 0.8410 - val_acc: 0.6336\n",
            "Epoch 134/500\n",
            "2444/2444 [==============================] - 0s 51us/step - loss: 0.7156 - acc: 0.6854 - val_loss: 0.8457 - val_acc: 0.6231\n",
            "Epoch 135/500\n",
            "2444/2444 [==============================] - 0s 57us/step - loss: 0.7002 - acc: 0.6849 - val_loss: 0.8569 - val_acc: 0.6164\n",
            "Epoch 136/500\n",
            "2444/2444 [==============================] - 0s 50us/step - loss: 0.6992 - acc: 0.6894 - val_loss: 0.8452 - val_acc: 0.6240\n",
            "Epoch 137/500\n",
            "2444/2444 [==============================] - 0s 54us/step - loss: 0.7173 - acc: 0.6817 - val_loss: 0.8519 - val_acc: 0.6193\n",
            "Epoch 138/500\n",
            "2444/2444 [==============================] - 0s 51us/step - loss: 0.7076 - acc: 0.6768 - val_loss: 0.8639 - val_acc: 0.6097\n",
            "Epoch 139/500\n",
            "2444/2444 [==============================] - 0s 53us/step - loss: 0.7158 - acc: 0.6776 - val_loss: 0.8477 - val_acc: 0.6088\n",
            "Epoch 140/500\n",
            "2444/2444 [==============================] - 0s 53us/step - loss: 0.7092 - acc: 0.6919 - val_loss: 0.8506 - val_acc: 0.6269\n",
            "Epoch 141/500\n",
            "2444/2444 [==============================] - 0s 51us/step - loss: 0.6957 - acc: 0.6903 - val_loss: 0.8802 - val_acc: 0.6031\n",
            "Epoch 142/500\n",
            "2444/2444 [==============================] - 0s 52us/step - loss: 0.7045 - acc: 0.6874 - val_loss: 0.8536 - val_acc: 0.6212\n",
            "Epoch 143/500\n",
            "2444/2444 [==============================] - 0s 56us/step - loss: 0.6967 - acc: 0.6931 - val_loss: 0.8588 - val_acc: 0.6221\n",
            "Epoch 144/500\n",
            "2444/2444 [==============================] - 0s 51us/step - loss: 0.6679 - acc: 0.6980 - val_loss: 0.8513 - val_acc: 0.6288\n",
            "Epoch 145/500\n",
            "2444/2444 [==============================] - 0s 51us/step - loss: 0.6847 - acc: 0.6968 - val_loss: 0.8531 - val_acc: 0.6202\n",
            "Epoch 146/500\n",
            "2444/2444 [==============================] - 0s 51us/step - loss: 0.7004 - acc: 0.6890 - val_loss: 0.8561 - val_acc: 0.6174\n",
            "Epoch 147/500\n",
            "2444/2444 [==============================] - 0s 51us/step - loss: 0.7235 - acc: 0.6690 - val_loss: 0.8585 - val_acc: 0.6050\n",
            "Epoch 148/500\n",
            "2444/2444 [==============================] - 0s 55us/step - loss: 0.6875 - acc: 0.7054 - val_loss: 0.8556 - val_acc: 0.6107\n",
            "Epoch 149/500\n",
            "2444/2444 [==============================] - 0s 52us/step - loss: 0.6731 - acc: 0.7119 - val_loss: 0.8494 - val_acc: 0.6307\n",
            "Epoch 150/500\n",
            "2444/2444 [==============================] - 0s 53us/step - loss: 0.6734 - acc: 0.7042 - val_loss: 0.8528 - val_acc: 0.6240\n",
            "Epoch 151/500\n",
            "2444/2444 [==============================] - 0s 57us/step - loss: 0.6562 - acc: 0.7066 - val_loss: 0.8661 - val_acc: 0.6174\n",
            "Epoch 152/500\n",
            "2444/2444 [==============================] - 0s 52us/step - loss: 0.6713 - acc: 0.7034 - val_loss: 0.8600 - val_acc: 0.6212\n",
            "Epoch 153/500\n",
            "2444/2444 [==============================] - 0s 53us/step - loss: 0.6603 - acc: 0.7152 - val_loss: 0.8370 - val_acc: 0.6336\n",
            "Epoch 154/500\n",
            "2444/2444 [==============================] - 0s 53us/step - loss: 0.6660 - acc: 0.7148 - val_loss: 0.8359 - val_acc: 0.6422\n",
            "Epoch 155/500\n",
            "2444/2444 [==============================] - 0s 51us/step - loss: 0.6583 - acc: 0.7140 - val_loss: 0.8467 - val_acc: 0.6393\n",
            "Epoch 156/500\n",
            "2444/2444 [==============================] - 0s 55us/step - loss: 0.6765 - acc: 0.6997 - val_loss: 0.8609 - val_acc: 0.6040\n",
            "Epoch 157/500\n",
            "2444/2444 [==============================] - 0s 52us/step - loss: 0.6792 - acc: 0.6980 - val_loss: 0.8594 - val_acc: 0.6183\n",
            "Epoch 158/500\n",
            "2444/2444 [==============================] - 0s 52us/step - loss: 0.6699 - acc: 0.7111 - val_loss: 0.8395 - val_acc: 0.6422\n",
            "Epoch 159/500\n",
            "2444/2444 [==============================] - 0s 56us/step - loss: 0.6459 - acc: 0.7160 - val_loss: 0.8532 - val_acc: 0.6393\n",
            "Epoch 160/500\n",
            "2444/2444 [==============================] - 0s 52us/step - loss: 0.6411 - acc: 0.7308 - val_loss: 0.8522 - val_acc: 0.6422\n",
            "Epoch 161/500\n",
            "2444/2444 [==============================] - 0s 52us/step - loss: 0.6341 - acc: 0.7230 - val_loss: 0.8474 - val_acc: 0.6365\n",
            "Epoch 162/500\n",
            "2444/2444 [==============================] - 0s 57us/step - loss: 0.6520 - acc: 0.7103 - val_loss: 0.8441 - val_acc: 0.6374\n",
            "Epoch 163/500\n",
            "2444/2444 [==============================] - 0s 53us/step - loss: 0.6596 - acc: 0.7099 - val_loss: 0.8482 - val_acc: 0.6326\n",
            "Epoch 164/500\n",
            "2444/2444 [==============================] - 0s 53us/step - loss: 0.6606 - acc: 0.6997 - val_loss: 0.8547 - val_acc: 0.6212\n",
            "Epoch 165/500\n",
            "2444/2444 [==============================] - 0s 54us/step - loss: 0.6643 - acc: 0.7095 - val_loss: 0.8314 - val_acc: 0.6489\n",
            "Epoch 166/500\n",
            "2444/2444 [==============================] - 0s 54us/step - loss: 0.6295 - acc: 0.7259 - val_loss: 0.8400 - val_acc: 0.6450\n",
            "Epoch 167/500\n",
            "2444/2444 [==============================] - 0s 54us/step - loss: 0.6433 - acc: 0.7201 - val_loss: 0.8500 - val_acc: 0.6365\n",
            "Epoch 168/500\n",
            "2444/2444 [==============================] - 0s 54us/step - loss: 0.6476 - acc: 0.7300 - val_loss: 0.8357 - val_acc: 0.6441\n",
            "Epoch 169/500\n",
            "2444/2444 [==============================] - 0s 52us/step - loss: 0.6497 - acc: 0.7140 - val_loss: 0.8511 - val_acc: 0.6288\n",
            "Epoch 170/500\n",
            "2444/2444 [==============================] - 0s 52us/step - loss: 0.6442 - acc: 0.7234 - val_loss: 0.8258 - val_acc: 0.6469\n",
            "Epoch 171/500\n",
            "2444/2444 [==============================] - 0s 53us/step - loss: 0.6392 - acc: 0.7197 - val_loss: 0.8244 - val_acc: 0.6450\n",
            "Epoch 172/500\n",
            "2444/2444 [==============================] - 0s 54us/step - loss: 0.6413 - acc: 0.7316 - val_loss: 0.8289 - val_acc: 0.6460\n",
            "Epoch 173/500\n",
            "2444/2444 [==============================] - 0s 52us/step - loss: 0.6214 - acc: 0.7332 - val_loss: 0.8328 - val_acc: 0.6508\n",
            "Epoch 174/500\n",
            "2444/2444 [==============================] - 0s 57us/step - loss: 0.6259 - acc: 0.7353 - val_loss: 0.8423 - val_acc: 0.6603\n",
            "Epoch 175/500\n",
            "2444/2444 [==============================] - 0s 54us/step - loss: 0.6477 - acc: 0.7291 - val_loss: 0.8330 - val_acc: 0.6403\n",
            "Epoch 176/500\n",
            "2444/2444 [==============================] - 0s 52us/step - loss: 0.6327 - acc: 0.7234 - val_loss: 0.8195 - val_acc: 0.6546\n",
            "Epoch 177/500\n",
            "2444/2444 [==============================] - 0s 58us/step - loss: 0.6474 - acc: 0.7197 - val_loss: 0.8375 - val_acc: 0.6441\n",
            "Epoch 178/500\n",
            "2444/2444 [==============================] - 0s 50us/step - loss: 0.6347 - acc: 0.7340 - val_loss: 0.8464 - val_acc: 0.6384\n",
            "Epoch 179/500\n",
            "2444/2444 [==============================] - 0s 55us/step - loss: 0.6265 - acc: 0.7214 - val_loss: 0.8247 - val_acc: 0.6441\n",
            "Epoch 180/500\n",
            "2444/2444 [==============================] - 0s 51us/step - loss: 0.6318 - acc: 0.7250 - val_loss: 0.8351 - val_acc: 0.6450\n",
            "Epoch 181/500\n",
            "2444/2444 [==============================] - 0s 51us/step - loss: 0.6204 - acc: 0.7304 - val_loss: 0.8211 - val_acc: 0.6641\n",
            "Epoch 182/500\n",
            "2444/2444 [==============================] - 0s 56us/step - loss: 0.6189 - acc: 0.7263 - val_loss: 0.8223 - val_acc: 0.6622\n",
            "Epoch 183/500\n",
            "2444/2444 [==============================] - 0s 53us/step - loss: 0.6189 - acc: 0.7312 - val_loss: 0.8345 - val_acc: 0.6584\n",
            "Epoch 184/500\n",
            "2444/2444 [==============================] - 0s 51us/step - loss: 0.6236 - acc: 0.7271 - val_loss: 0.8294 - val_acc: 0.6555\n",
            "Epoch 185/500\n",
            "2444/2444 [==============================] - 0s 52us/step - loss: 0.6135 - acc: 0.7291 - val_loss: 0.8208 - val_acc: 0.6594\n",
            "Epoch 186/500\n",
            "2444/2444 [==============================] - 0s 53us/step - loss: 0.5970 - acc: 0.7463 - val_loss: 0.8326 - val_acc: 0.6565\n",
            "Epoch 187/500\n",
            "2444/2444 [==============================] - 0s 55us/step - loss: 0.5953 - acc: 0.7512 - val_loss: 0.8273 - val_acc: 0.6469\n",
            "Epoch 188/500\n",
            "2444/2444 [==============================] - 0s 52us/step - loss: 0.6242 - acc: 0.7328 - val_loss: 0.8268 - val_acc: 0.6565\n",
            "Epoch 189/500\n",
            "2444/2444 [==============================] - 0s 51us/step - loss: 0.6075 - acc: 0.7537 - val_loss: 0.8231 - val_acc: 0.6718\n",
            "Epoch 190/500\n",
            "2444/2444 [==============================] - 0s 57us/step - loss: 0.6270 - acc: 0.7312 - val_loss: 0.8208 - val_acc: 0.6469\n",
            "Epoch 191/500\n",
            "2444/2444 [==============================] - 0s 51us/step - loss: 0.5895 - acc: 0.7426 - val_loss: 0.8326 - val_acc: 0.6450\n",
            "Epoch 192/500\n",
            "2444/2444 [==============================] - 0s 53us/step - loss: 0.5972 - acc: 0.7320 - val_loss: 0.8343 - val_acc: 0.6584\n",
            "Epoch 193/500\n",
            "2444/2444 [==============================] - 0s 54us/step - loss: 0.5986 - acc: 0.7512 - val_loss: 0.8176 - val_acc: 0.6632\n",
            "Epoch 194/500\n",
            "2444/2444 [==============================] - 0s 52us/step - loss: 0.5994 - acc: 0.7430 - val_loss: 0.8123 - val_acc: 0.6613\n",
            "Epoch 195/500\n",
            "2444/2444 [==============================] - 0s 51us/step - loss: 0.5837 - acc: 0.7537 - val_loss: 0.8392 - val_acc: 0.6594\n",
            "Epoch 196/500\n",
            "2444/2444 [==============================] - 0s 52us/step - loss: 0.6069 - acc: 0.7439 - val_loss: 0.8343 - val_acc: 0.6536\n",
            "Epoch 197/500\n",
            "2444/2444 [==============================] - 0s 51us/step - loss: 0.6083 - acc: 0.7381 - val_loss: 0.8389 - val_acc: 0.6679\n",
            "Epoch 198/500\n",
            "2444/2444 [==============================] - 0s 57us/step - loss: 0.6116 - acc: 0.7447 - val_loss: 0.8303 - val_acc: 0.6594\n",
            "Epoch 199/500\n",
            "2444/2444 [==============================] - 0s 53us/step - loss: 0.6080 - acc: 0.7447 - val_loss: 0.8173 - val_acc: 0.6737\n",
            "Epoch 200/500\n",
            "2444/2444 [==============================] - 0s 53us/step - loss: 0.5784 - acc: 0.7578 - val_loss: 0.8236 - val_acc: 0.6679\n",
            "Epoch 201/500\n",
            "2444/2444 [==============================] - 0s 53us/step - loss: 0.5826 - acc: 0.7574 - val_loss: 0.8328 - val_acc: 0.6613\n",
            "Epoch 202/500\n",
            "2444/2444 [==============================] - 0s 57us/step - loss: 0.5867 - acc: 0.7537 - val_loss: 0.8107 - val_acc: 0.6756\n",
            "Epoch 203/500\n",
            "2444/2444 [==============================] - 0s 50us/step - loss: 0.5786 - acc: 0.7512 - val_loss: 0.8077 - val_acc: 0.6698\n",
            "Epoch 204/500\n",
            "2444/2444 [==============================] - 0s 53us/step - loss: 0.5573 - acc: 0.7717 - val_loss: 0.8214 - val_acc: 0.6660\n",
            "Epoch 205/500\n",
            "2444/2444 [==============================] - 0s 60us/step - loss: 0.5715 - acc: 0.7668 - val_loss: 0.8301 - val_acc: 0.6613\n",
            "Epoch 206/500\n",
            "2444/2444 [==============================] - 0s 51us/step - loss: 0.5760 - acc: 0.7561 - val_loss: 0.8066 - val_acc: 0.6832\n",
            "Epoch 207/500\n",
            "2444/2444 [==============================] - 0s 54us/step - loss: 0.5889 - acc: 0.7545 - val_loss: 0.8100 - val_acc: 0.6718\n",
            "Epoch 208/500\n",
            "2444/2444 [==============================] - 0s 61us/step - loss: 0.5852 - acc: 0.7525 - val_loss: 0.8198 - val_acc: 0.6718\n",
            "Epoch 209/500\n",
            "2444/2444 [==============================] - 0s 50us/step - loss: 0.6071 - acc: 0.7402 - val_loss: 0.8426 - val_acc: 0.6574\n",
            "Epoch 210/500\n",
            "2444/2444 [==============================] - 0s 50us/step - loss: 0.5775 - acc: 0.7610 - val_loss: 0.8006 - val_acc: 0.6708\n",
            "Epoch 211/500\n",
            "2444/2444 [==============================] - 0s 51us/step - loss: 0.5559 - acc: 0.7623 - val_loss: 0.8107 - val_acc: 0.6660\n",
            "Epoch 212/500\n",
            "2444/2444 [==============================] - 0s 51us/step - loss: 0.5698 - acc: 0.7586 - val_loss: 0.8097 - val_acc: 0.6765\n",
            "Epoch 213/500\n",
            "2444/2444 [==============================] - 0s 57us/step - loss: 0.6003 - acc: 0.7385 - val_loss: 0.8259 - val_acc: 0.6613\n",
            "Epoch 214/500\n",
            "2444/2444 [==============================] - 0s 55us/step - loss: 0.5675 - acc: 0.7627 - val_loss: 0.8087 - val_acc: 0.6927\n",
            "Epoch 215/500\n",
            "2444/2444 [==============================] - 0s 50us/step - loss: 0.5636 - acc: 0.7639 - val_loss: 0.8023 - val_acc: 0.6880\n",
            "Epoch 216/500\n",
            "2444/2444 [==============================] - 0s 52us/step - loss: 0.5548 - acc: 0.7672 - val_loss: 0.8136 - val_acc: 0.6861\n",
            "Epoch 217/500\n",
            "2444/2444 [==============================] - 0s 52us/step - loss: 0.5641 - acc: 0.7594 - val_loss: 0.8113 - val_acc: 0.6870\n",
            "Epoch 218/500\n",
            "2444/2444 [==============================] - 0s 51us/step - loss: 0.5575 - acc: 0.7762 - val_loss: 0.7974 - val_acc: 0.6870\n",
            "Epoch 219/500\n",
            "2444/2444 [==============================] - 0s 50us/step - loss: 0.6044 - acc: 0.7418 - val_loss: 0.7971 - val_acc: 0.6908\n",
            "Epoch 220/500\n",
            "2444/2444 [==============================] - 0s 52us/step - loss: 0.5809 - acc: 0.7533 - val_loss: 0.7997 - val_acc: 0.6775\n",
            "Epoch 221/500\n",
            "2444/2444 [==============================] - 0s 57us/step - loss: 0.5678 - acc: 0.7615 - val_loss: 0.8026 - val_acc: 0.6784\n",
            "Epoch 222/500\n",
            "2444/2444 [==============================] - 0s 55us/step - loss: 0.5603 - acc: 0.7655 - val_loss: 0.8321 - val_acc: 0.6651\n",
            "Epoch 223/500\n",
            "2444/2444 [==============================] - 0s 62us/step - loss: 0.5713 - acc: 0.7598 - val_loss: 0.8029 - val_acc: 0.6823\n",
            "Epoch 224/500\n",
            "2444/2444 [==============================] - 0s 56us/step - loss: 0.5757 - acc: 0.7627 - val_loss: 0.7897 - val_acc: 0.6861\n",
            "Epoch 225/500\n",
            "2444/2444 [==============================] - 0s 51us/step - loss: 0.5479 - acc: 0.7758 - val_loss: 0.7765 - val_acc: 0.6784\n",
            "Epoch 226/500\n",
            "2444/2444 [==============================] - 0s 54us/step - loss: 0.5309 - acc: 0.7774 - val_loss: 0.8136 - val_acc: 0.6851\n",
            "Epoch 227/500\n",
            "2444/2444 [==============================] - 0s 51us/step - loss: 0.5436 - acc: 0.7725 - val_loss: 0.8578 - val_acc: 0.6622\n",
            "Epoch 228/500\n",
            "2444/2444 [==============================] - 0s 56us/step - loss: 0.5446 - acc: 0.7692 - val_loss: 0.7976 - val_acc: 0.6813\n",
            "Epoch 229/500\n",
            "2444/2444 [==============================] - 0s 53us/step - loss: 0.5624 - acc: 0.7643 - val_loss: 0.7977 - val_acc: 0.6832\n",
            "Epoch 230/500\n",
            "2444/2444 [==============================] - 0s 55us/step - loss: 0.5080 - acc: 0.7860 - val_loss: 0.8100 - val_acc: 0.6918\n",
            "Epoch 231/500\n",
            "2444/2444 [==============================] - 0s 52us/step - loss: 0.5342 - acc: 0.7762 - val_loss: 0.8097 - val_acc: 0.6947\n",
            "Epoch 232/500\n",
            "2444/2444 [==============================] - 0s 51us/step - loss: 0.5553 - acc: 0.7655 - val_loss: 0.7932 - val_acc: 0.6803\n",
            "Epoch 233/500\n",
            "2444/2444 [==============================] - 0s 52us/step - loss: 0.5776 - acc: 0.7586 - val_loss: 0.7979 - val_acc: 0.6899\n",
            "Epoch 234/500\n",
            "2444/2444 [==============================] - 0s 51us/step - loss: 0.5846 - acc: 0.7557 - val_loss: 0.8305 - val_acc: 0.6775\n",
            "Epoch 235/500\n",
            "2444/2444 [==============================] - 0s 51us/step - loss: 0.5559 - acc: 0.7627 - val_loss: 0.8224 - val_acc: 0.6803\n",
            "Epoch 236/500\n",
            "2444/2444 [==============================] - 0s 58us/step - loss: 0.5515 - acc: 0.7635 - val_loss: 0.8402 - val_acc: 0.6660\n",
            "Epoch 237/500\n",
            "2444/2444 [==============================] - 0s 54us/step - loss: 0.5535 - acc: 0.7586 - val_loss: 0.7961 - val_acc: 0.6842\n",
            "Epoch 238/500\n",
            "2444/2444 [==============================] - 0s 52us/step - loss: 0.5212 - acc: 0.7844 - val_loss: 0.8060 - val_acc: 0.6985\n",
            "Epoch 239/500\n",
            "2444/2444 [==============================] - 0s 52us/step - loss: 0.5152 - acc: 0.7848 - val_loss: 0.7932 - val_acc: 0.6918\n",
            "Epoch 240/500\n",
            "2444/2444 [==============================] - 0s 53us/step - loss: 0.5233 - acc: 0.7811 - val_loss: 0.8115 - val_acc: 0.6899\n",
            "Epoch 241/500\n",
            "2444/2444 [==============================] - 0s 53us/step - loss: 0.4992 - acc: 0.7872 - val_loss: 0.7976 - val_acc: 0.7080\n",
            "Epoch 242/500\n",
            "2444/2444 [==============================] - 0s 55us/step - loss: 0.5476 - acc: 0.7676 - val_loss: 0.8117 - val_acc: 0.6861\n",
            "Epoch 243/500\n",
            "2444/2444 [==============================] - 0s 52us/step - loss: 0.5219 - acc: 0.7786 - val_loss: 0.7954 - val_acc: 0.6956\n",
            "Epoch 244/500\n",
            "2444/2444 [==============================] - 0s 55us/step - loss: 0.5469 - acc: 0.7819 - val_loss: 0.8055 - val_acc: 0.6918\n",
            "Epoch 245/500\n",
            "2444/2444 [==============================] - 0s 52us/step - loss: 0.5012 - acc: 0.8052 - val_loss: 0.8034 - val_acc: 0.6966\n",
            "Epoch 246/500\n",
            "2444/2444 [==============================] - 0s 51us/step - loss: 0.5056 - acc: 0.7860 - val_loss: 0.8271 - val_acc: 0.6966\n",
            "Epoch 247/500\n",
            "2444/2444 [==============================] - 0s 53us/step - loss: 0.5178 - acc: 0.7893 - val_loss: 0.8007 - val_acc: 0.7013\n",
            "Epoch 248/500\n",
            "2444/2444 [==============================] - 0s 55us/step - loss: 0.5203 - acc: 0.7881 - val_loss: 0.7959 - val_acc: 0.6994\n",
            "Epoch 249/500\n",
            "2444/2444 [==============================] - 0s 50us/step - loss: 0.5353 - acc: 0.7852 - val_loss: 0.7969 - val_acc: 0.6861\n",
            "Epoch 250/500\n",
            "2444/2444 [==============================] - 0s 54us/step - loss: 0.5549 - acc: 0.7700 - val_loss: 0.7951 - val_acc: 0.6966\n",
            "Epoch 251/500\n",
            "2444/2444 [==============================] - 0s 52us/step - loss: 0.5449 - acc: 0.7762 - val_loss: 0.7955 - val_acc: 0.6889\n",
            "Epoch 252/500\n",
            "2444/2444 [==============================] - 0s 54us/step - loss: 0.5289 - acc: 0.7791 - val_loss: 0.7862 - val_acc: 0.6937\n",
            "Epoch 253/500\n",
            "2444/2444 [==============================] - 0s 54us/step - loss: 0.5319 - acc: 0.7819 - val_loss: 0.7879 - val_acc: 0.7004\n",
            "Epoch 254/500\n",
            "2444/2444 [==============================] - 0s 51us/step - loss: 0.5022 - acc: 0.7901 - val_loss: 0.8191 - val_acc: 0.6918\n",
            "Epoch 255/500\n",
            "2444/2444 [==============================] - 0s 52us/step - loss: 0.5131 - acc: 0.7836 - val_loss: 0.7978 - val_acc: 0.7052\n",
            "Epoch 256/500\n",
            "2444/2444 [==============================] - 0s 52us/step - loss: 0.4879 - acc: 0.7950 - val_loss: 0.8136 - val_acc: 0.6889\n",
            "Epoch 257/500\n",
            "2444/2444 [==============================] - 0s 56us/step - loss: 0.5008 - acc: 0.7958 - val_loss: 0.7970 - val_acc: 0.6823\n",
            "Epoch 258/500\n",
            "2444/2444 [==============================] - 0s 53us/step - loss: 0.5187 - acc: 0.7827 - val_loss: 0.7920 - val_acc: 0.6908\n",
            "Epoch 259/500\n",
            "2444/2444 [==============================] - 0s 51us/step - loss: 0.5061 - acc: 0.7807 - val_loss: 0.7835 - val_acc: 0.6966\n",
            "Epoch 260/500\n",
            "2444/2444 [==============================] - 0s 55us/step - loss: 0.4868 - acc: 0.7909 - val_loss: 0.7849 - val_acc: 0.6975\n",
            "Epoch 261/500\n",
            "2444/2444 [==============================] - 0s 51us/step - loss: 0.5044 - acc: 0.7921 - val_loss: 0.8014 - val_acc: 0.6975\n",
            "Epoch 262/500\n",
            "2444/2444 [==============================] - 0s 51us/step - loss: 0.4987 - acc: 0.7975 - val_loss: 0.8043 - val_acc: 0.6908\n",
            "Epoch 263/500\n",
            "2444/2444 [==============================] - 0s 51us/step - loss: 0.4951 - acc: 0.7938 - val_loss: 0.8185 - val_acc: 0.6975\n",
            "Epoch 264/500\n",
            "2444/2444 [==============================] - 0s 56us/step - loss: 0.5705 - acc: 0.7586 - val_loss: 0.8184 - val_acc: 0.6708\n",
            "Epoch 265/500\n",
            "2444/2444 [==============================] - 0s 52us/step - loss: 0.5247 - acc: 0.7893 - val_loss: 0.7965 - val_acc: 0.6832\n",
            "Epoch 266/500\n",
            "2444/2444 [==============================] - 0s 50us/step - loss: 0.4986 - acc: 0.7876 - val_loss: 0.7747 - val_acc: 0.6985\n",
            "Epoch 267/500\n",
            "2444/2444 [==============================] - 0s 51us/step - loss: 0.4902 - acc: 0.7975 - val_loss: 0.7950 - val_acc: 0.6994\n",
            "Epoch 268/500\n",
            "2444/2444 [==============================] - 0s 57us/step - loss: 0.4917 - acc: 0.7999 - val_loss: 0.8087 - val_acc: 0.6985\n",
            "Epoch 269/500\n",
            "2444/2444 [==============================] - 0s 56us/step - loss: 0.5072 - acc: 0.7950 - val_loss: 0.7790 - val_acc: 0.6927\n",
            "Epoch 270/500\n",
            "2444/2444 [==============================] - 0s 52us/step - loss: 0.4825 - acc: 0.7991 - val_loss: 0.7918 - val_acc: 0.7013\n",
            "Epoch 271/500\n",
            "2444/2444 [==============================] - 0s 54us/step - loss: 0.5126 - acc: 0.7958 - val_loss: 0.8037 - val_acc: 0.6794\n",
            "Epoch 272/500\n",
            "2444/2444 [==============================] - 0s 52us/step - loss: 0.4679 - acc: 0.8056 - val_loss: 0.8177 - val_acc: 0.6918\n",
            "Epoch 273/500\n",
            "2444/2444 [==============================] - 0s 56us/step - loss: 0.4885 - acc: 0.7950 - val_loss: 0.7848 - val_acc: 0.6908\n",
            "Epoch 274/500\n",
            "2444/2444 [==============================] - 0s 53us/step - loss: 0.4787 - acc: 0.8052 - val_loss: 0.8090 - val_acc: 0.7004\n",
            "Epoch 275/500\n",
            "2444/2444 [==============================] - 0s 56us/step - loss: 0.4729 - acc: 0.8077 - val_loss: 0.8050 - val_acc: 0.7118\n",
            "Epoch 276/500\n",
            "2444/2444 [==============================] - 0s 52us/step - loss: 0.4841 - acc: 0.7991 - val_loss: 0.7877 - val_acc: 0.7042\n",
            "Epoch 277/500\n",
            "2444/2444 [==============================] - 0s 55us/step - loss: 0.4526 - acc: 0.8097 - val_loss: 0.8085 - val_acc: 0.6975\n",
            "Epoch 278/500\n",
            "2444/2444 [==============================] - 0s 52us/step - loss: 0.5012 - acc: 0.7971 - val_loss: 0.7868 - val_acc: 0.7071\n",
            "Epoch 279/500\n",
            "2444/2444 [==============================] - 0s 51us/step - loss: 0.4784 - acc: 0.8036 - val_loss: 0.8467 - val_acc: 0.7013\n",
            "Epoch 280/500\n",
            "2444/2444 [==============================] - 0s 52us/step - loss: 0.4679 - acc: 0.8048 - val_loss: 0.7879 - val_acc: 0.7080\n",
            "Epoch 281/500\n",
            "2444/2444 [==============================] - 0s 55us/step - loss: 0.4760 - acc: 0.7979 - val_loss: 0.8169 - val_acc: 0.7156\n",
            "Epoch 282/500\n",
            "2444/2444 [==============================] - 0s 49us/step - loss: 0.4899 - acc: 0.8044 - val_loss: 0.7954 - val_acc: 0.7013\n",
            "Epoch 283/500\n",
            "2444/2444 [==============================] - 0s 61us/step - loss: 0.4737 - acc: 0.8122 - val_loss: 0.8013 - val_acc: 0.6994\n",
            "Epoch 284/500\n",
            "2444/2444 [==============================] - 0s 60us/step - loss: 0.4598 - acc: 0.8134 - val_loss: 0.7798 - val_acc: 0.7080\n",
            "Epoch 285/500\n",
            "2444/2444 [==============================] - 0s 52us/step - loss: 0.4732 - acc: 0.8089 - val_loss: 0.8037 - val_acc: 0.7052\n",
            "Epoch 286/500\n",
            "2444/2444 [==============================] - 0s 51us/step - loss: 0.4928 - acc: 0.7971 - val_loss: 0.7942 - val_acc: 0.7032\n",
            "Epoch 287/500\n",
            "2444/2444 [==============================] - 0s 51us/step - loss: 0.4447 - acc: 0.8126 - val_loss: 0.7994 - val_acc: 0.7071\n",
            "Epoch 288/500\n",
            "2444/2444 [==============================] - 0s 52us/step - loss: 0.4576 - acc: 0.8171 - val_loss: 0.8051 - val_acc: 0.7013\n",
            "Epoch 289/500\n",
            "2444/2444 [==============================] - 0s 53us/step - loss: 0.4625 - acc: 0.8114 - val_loss: 0.7998 - val_acc: 0.6975\n",
            "Epoch 290/500\n",
            "2444/2444 [==============================] - 0s 51us/step - loss: 0.4536 - acc: 0.8081 - val_loss: 0.8066 - val_acc: 0.7013\n",
            "Epoch 291/500\n",
            "2444/2444 [==============================] - 0s 62us/step - loss: 0.4627 - acc: 0.8245 - val_loss: 0.7909 - val_acc: 0.7023\n",
            "Epoch 292/500\n",
            "2444/2444 [==============================] - 0s 52us/step - loss: 0.4473 - acc: 0.8138 - val_loss: 0.7898 - val_acc: 0.7118\n",
            "Epoch 293/500\n",
            "2444/2444 [==============================] - 0s 51us/step - loss: 0.4978 - acc: 0.7950 - val_loss: 0.7820 - val_acc: 0.7109\n",
            "Epoch 294/500\n",
            "2444/2444 [==============================] - 0s 53us/step - loss: 0.4803 - acc: 0.8110 - val_loss: 0.7731 - val_acc: 0.7233\n",
            "Epoch 295/500\n",
            "2444/2444 [==============================] - 0s 53us/step - loss: 0.4588 - acc: 0.8142 - val_loss: 0.8271 - val_acc: 0.7042\n",
            "Epoch 296/500\n",
            "2444/2444 [==============================] - 0s 53us/step - loss: 0.4574 - acc: 0.8167 - val_loss: 0.7983 - val_acc: 0.7042\n",
            "Epoch 297/500\n",
            "2444/2444 [==============================] - 0s 50us/step - loss: 0.4278 - acc: 0.8282 - val_loss: 0.8099 - val_acc: 0.7023\n",
            "Epoch 298/500\n",
            "2444/2444 [==============================] - 0s 55us/step - loss: 0.4688 - acc: 0.8134 - val_loss: 0.7803 - val_acc: 0.7176\n",
            "Epoch 299/500\n",
            "2444/2444 [==============================] - 0s 56us/step - loss: 0.4628 - acc: 0.8118 - val_loss: 0.7996 - val_acc: 0.7099\n",
            "Epoch 300/500\n",
            "2444/2444 [==============================] - 0s 54us/step - loss: 0.4545 - acc: 0.8138 - val_loss: 0.7896 - val_acc: 0.7118\n",
            "Epoch 301/500\n",
            "2444/2444 [==============================] - 0s 52us/step - loss: 0.4429 - acc: 0.8273 - val_loss: 0.8022 - val_acc: 0.7118\n",
            "Epoch 302/500\n",
            "2444/2444 [==============================] - 0s 56us/step - loss: 0.4528 - acc: 0.8142 - val_loss: 0.8075 - val_acc: 0.6975\n",
            "Epoch 303/500\n",
            "2444/2444 [==============================] - 0s 58us/step - loss: 0.4731 - acc: 0.8187 - val_loss: 0.8121 - val_acc: 0.6975\n",
            "Epoch 304/500\n",
            "2444/2444 [==============================] - 0s 53us/step - loss: 0.4637 - acc: 0.8175 - val_loss: 0.7870 - val_acc: 0.7061\n",
            "Epoch 305/500\n",
            "2444/2444 [==============================] - 0s 55us/step - loss: 0.4687 - acc: 0.8065 - val_loss: 0.7911 - val_acc: 0.7071\n",
            "Epoch 306/500\n",
            "2444/2444 [==============================] - 0s 55us/step - loss: 0.4517 - acc: 0.8097 - val_loss: 0.7808 - val_acc: 0.7071\n",
            "Epoch 307/500\n",
            "2444/2444 [==============================] - 0s 52us/step - loss: 0.4110 - acc: 0.8355 - val_loss: 0.8276 - val_acc: 0.7013\n",
            "Epoch 308/500\n",
            "2444/2444 [==============================] - 0s 54us/step - loss: 0.4316 - acc: 0.8269 - val_loss: 0.8025 - val_acc: 0.7071\n",
            "Epoch 309/500\n",
            "2444/2444 [==============================] - 0s 50us/step - loss: 0.4279 - acc: 0.8257 - val_loss: 0.7969 - val_acc: 0.7052\n",
            "Epoch 310/500\n",
            "2444/2444 [==============================] - 0s 57us/step - loss: 0.4393 - acc: 0.8171 - val_loss: 0.7908 - val_acc: 0.7061\n",
            "Epoch 311/500\n",
            "2444/2444 [==============================] - 0s 53us/step - loss: 0.4533 - acc: 0.8126 - val_loss: 0.8205 - val_acc: 0.7071\n",
            "Epoch 312/500\n",
            "2444/2444 [==============================] - 0s 52us/step - loss: 0.4466 - acc: 0.8196 - val_loss: 0.7921 - val_acc: 0.7128\n",
            "Epoch 313/500\n",
            "2444/2444 [==============================] - 0s 51us/step - loss: 0.4293 - acc: 0.8208 - val_loss: 0.8239 - val_acc: 0.7090\n",
            "Epoch 314/500\n",
            "2444/2444 [==============================] - 0s 62us/step - loss: 0.4689 - acc: 0.7999 - val_loss: 0.7978 - val_acc: 0.7061\n",
            "Epoch 315/500\n",
            "2444/2444 [==============================] - 0s 56us/step - loss: 0.4357 - acc: 0.8208 - val_loss: 0.8031 - val_acc: 0.7195\n",
            "Epoch 316/500\n",
            "2444/2444 [==============================] - 0s 51us/step - loss: 0.4496 - acc: 0.8220 - val_loss: 0.7952 - val_acc: 0.7137\n",
            "Epoch 317/500\n",
            "2444/2444 [==============================] - 0s 52us/step - loss: 0.4145 - acc: 0.8322 - val_loss: 0.7839 - val_acc: 0.7118\n",
            "Epoch 318/500\n",
            "2444/2444 [==============================] - 0s 50us/step - loss: 0.4404 - acc: 0.8290 - val_loss: 0.8135 - val_acc: 0.7080\n",
            "Epoch 319/500\n",
            "2444/2444 [==============================] - 0s 50us/step - loss: 0.4911 - acc: 0.7954 - val_loss: 0.7872 - val_acc: 0.7052\n",
            "Epoch 320/500\n",
            "2444/2444 [==============================] - 0s 51us/step - loss: 0.4492 - acc: 0.8212 - val_loss: 0.7732 - val_acc: 0.7185\n",
            "Epoch 321/500\n",
            "2444/2444 [==============================] - 0s 53us/step - loss: 0.4659 - acc: 0.7991 - val_loss: 0.7825 - val_acc: 0.7166\n",
            "Epoch 322/500\n",
            "2444/2444 [==============================] - 0s 58us/step - loss: 0.4639 - acc: 0.8056 - val_loss: 0.8187 - val_acc: 0.7099\n",
            "Epoch 323/500\n",
            "2444/2444 [==============================] - 0s 58us/step - loss: 0.4486 - acc: 0.8220 - val_loss: 0.7798 - val_acc: 0.7176\n",
            "Epoch 324/500\n",
            "2444/2444 [==============================] - 0s 55us/step - loss: 0.4588 - acc: 0.8110 - val_loss: 0.7843 - val_acc: 0.6956\n",
            "Epoch 325/500\n",
            "2444/2444 [==============================] - 0s 55us/step - loss: 0.4740 - acc: 0.8073 - val_loss: 0.7870 - val_acc: 0.7080\n",
            "Epoch 326/500\n",
            "2444/2444 [==============================] - 0s 53us/step - loss: 0.4331 - acc: 0.8245 - val_loss: 0.7841 - val_acc: 0.7147\n",
            "Epoch 327/500\n",
            "2444/2444 [==============================] - 0s 52us/step - loss: 0.4027 - acc: 0.8412 - val_loss: 0.7840 - val_acc: 0.7252\n",
            "Epoch 328/500\n",
            "2444/2444 [==============================] - 0s 53us/step - loss: 0.4434 - acc: 0.8216 - val_loss: 0.8097 - val_acc: 0.7032\n",
            "Epoch 329/500\n",
            "2444/2444 [==============================] - 0s 63us/step - loss: 0.4317 - acc: 0.8241 - val_loss: 0.7782 - val_acc: 0.7099\n",
            "Epoch 330/500\n",
            "2444/2444 [==============================] - 0s 52us/step - loss: 0.4103 - acc: 0.8347 - val_loss: 0.8112 - val_acc: 0.7147\n",
            "Epoch 331/500\n",
            "2444/2444 [==============================] - 0s 50us/step - loss: 0.4131 - acc: 0.8245 - val_loss: 0.7780 - val_acc: 0.7176\n",
            "Epoch 332/500\n",
            "2444/2444 [==============================] - 0s 57us/step - loss: 0.4058 - acc: 0.8376 - val_loss: 0.8041 - val_acc: 0.7242\n",
            "Epoch 333/500\n",
            "2444/2444 [==============================] - 0s 56us/step - loss: 0.4129 - acc: 0.8359 - val_loss: 0.7754 - val_acc: 0.7300\n",
            "Epoch 334/500\n",
            "2444/2444 [==============================] - 0s 54us/step - loss: 0.4398 - acc: 0.8306 - val_loss: 0.7922 - val_acc: 0.7137\n",
            "Epoch 335/500\n",
            "2444/2444 [==============================] - 0s 55us/step - loss: 0.4455 - acc: 0.8249 - val_loss: 0.7674 - val_acc: 0.7204\n",
            "Epoch 336/500\n",
            "2444/2444 [==============================] - 0s 54us/step - loss: 0.4303 - acc: 0.8310 - val_loss: 0.7914 - val_acc: 0.7071\n",
            "Epoch 337/500\n",
            "2444/2444 [==============================] - 0s 58us/step - loss: 0.4115 - acc: 0.8310 - val_loss: 0.7985 - val_acc: 0.7195\n",
            "Epoch 338/500\n",
            "2444/2444 [==============================] - 0s 51us/step - loss: 0.4299 - acc: 0.8216 - val_loss: 0.7888 - val_acc: 0.7252\n",
            "Epoch 339/500\n",
            "2444/2444 [==============================] - 0s 52us/step - loss: 0.4295 - acc: 0.8282 - val_loss: 0.7704 - val_acc: 0.7300\n",
            "Epoch 340/500\n",
            "2444/2444 [==============================] - 0s 53us/step - loss: 0.4052 - acc: 0.8380 - val_loss: 0.8126 - val_acc: 0.7242\n",
            "Epoch 341/500\n",
            "2444/2444 [==============================] - 0s 52us/step - loss: 0.5460 - acc: 0.7901 - val_loss: 0.8600 - val_acc: 0.6756\n",
            "Epoch 342/500\n",
            "2444/2444 [==============================] - 0s 51us/step - loss: 0.5158 - acc: 0.7864 - val_loss: 0.7845 - val_acc: 0.7090\n",
            "Epoch 343/500\n",
            "2444/2444 [==============================] - 0s 50us/step - loss: 0.4666 - acc: 0.7966 - val_loss: 0.7857 - val_acc: 0.7090\n",
            "Epoch 344/500\n",
            "2444/2444 [==============================] - 0s 55us/step - loss: 0.4166 - acc: 0.8367 - val_loss: 0.7950 - val_acc: 0.7109\n",
            "Epoch 345/500\n",
            "2444/2444 [==============================] - 0s 61us/step - loss: 0.4349 - acc: 0.8228 - val_loss: 0.7663 - val_acc: 0.7195\n",
            "Epoch 346/500\n",
            "2444/2444 [==============================] - 0s 53us/step - loss: 0.4150 - acc: 0.8392 - val_loss: 0.7756 - val_acc: 0.7147\n",
            "Epoch 347/500\n",
            "2444/2444 [==============================] - 0s 54us/step - loss: 0.4418 - acc: 0.8134 - val_loss: 0.7885 - val_acc: 0.7156\n",
            "Epoch 348/500\n",
            "2444/2444 [==============================] - 0s 53us/step - loss: 0.4388 - acc: 0.8282 - val_loss: 0.7788 - val_acc: 0.7290\n",
            "Epoch 349/500\n",
            "2444/2444 [==============================] - 0s 52us/step - loss: 0.4092 - acc: 0.8363 - val_loss: 0.7779 - val_acc: 0.7204\n",
            "Epoch 350/500\n",
            "2444/2444 [==============================] - 0s 51us/step - loss: 0.4001 - acc: 0.8396 - val_loss: 0.7944 - val_acc: 0.7128\n",
            "Epoch 351/500\n",
            "2444/2444 [==============================] - 0s 52us/step - loss: 0.4019 - acc: 0.8367 - val_loss: 0.7997 - val_acc: 0.7185\n",
            "Epoch 352/500\n",
            "2444/2444 [==============================] - 0s 61us/step - loss: 0.4377 - acc: 0.8236 - val_loss: 0.7737 - val_acc: 0.7223\n",
            "Epoch 353/500\n",
            "2444/2444 [==============================] - 0s 52us/step - loss: 0.4032 - acc: 0.8359 - val_loss: 0.7835 - val_acc: 0.7242\n",
            "Epoch 354/500\n",
            "2444/2444 [==============================] - 0s 56us/step - loss: 0.4078 - acc: 0.8310 - val_loss: 0.7789 - val_acc: 0.7281\n",
            "Epoch 355/500\n",
            "2444/2444 [==============================] - 0s 55us/step - loss: 0.3975 - acc: 0.8445 - val_loss: 0.8408 - val_acc: 0.7137\n",
            "Epoch 356/500\n",
            "2444/2444 [==============================] - 0s 53us/step - loss: 0.3933 - acc: 0.8531 - val_loss: 0.7994 - val_acc: 0.7233\n",
            "Epoch 357/500\n",
            "2444/2444 [==============================] - 0s 52us/step - loss: 0.3941 - acc: 0.8388 - val_loss: 0.7793 - val_acc: 0.7252\n",
            "Epoch 358/500\n",
            "2444/2444 [==============================] - 0s 54us/step - loss: 0.4263 - acc: 0.8228 - val_loss: 0.8008 - val_acc: 0.7023\n",
            "Epoch 359/500\n",
            "2444/2444 [==============================] - 0s 53us/step - loss: 0.4186 - acc: 0.8335 - val_loss: 0.8203 - val_acc: 0.7052\n",
            "Epoch 360/500\n",
            "2444/2444 [==============================] - 0s 56us/step - loss: 0.4347 - acc: 0.8282 - val_loss: 0.7756 - val_acc: 0.7414\n",
            "Epoch 361/500\n",
            "2444/2444 [==============================] - 0s 51us/step - loss: 0.4095 - acc: 0.8355 - val_loss: 0.8007 - val_acc: 0.7109\n",
            "Epoch 362/500\n",
            "2444/2444 [==============================] - 0s 58us/step - loss: 0.4340 - acc: 0.8249 - val_loss: 0.7502 - val_acc: 0.7366\n",
            "Epoch 363/500\n",
            "2444/2444 [==============================] - 0s 55us/step - loss: 0.4092 - acc: 0.8396 - val_loss: 0.7822 - val_acc: 0.7156\n",
            "Epoch 364/500\n",
            "2444/2444 [==============================] - 0s 50us/step - loss: 0.4254 - acc: 0.8318 - val_loss: 0.8013 - val_acc: 0.7195\n",
            "Epoch 365/500\n",
            "2444/2444 [==============================] - 0s 50us/step - loss: 0.4091 - acc: 0.8331 - val_loss: 0.7866 - val_acc: 0.7328\n",
            "Epoch 366/500\n",
            "2444/2444 [==============================] - 0s 52us/step - loss: 0.3997 - acc: 0.8388 - val_loss: 0.7762 - val_acc: 0.7414\n",
            "Epoch 367/500\n",
            "2444/2444 [==============================] - 0s 56us/step - loss: 0.3914 - acc: 0.8372 - val_loss: 0.7996 - val_acc: 0.7137\n",
            "Epoch 368/500\n",
            "2444/2444 [==============================] - 0s 56us/step - loss: 0.3847 - acc: 0.8453 - val_loss: 0.7912 - val_acc: 0.7319\n",
            "Epoch 369/500\n",
            "2444/2444 [==============================] - 0s 58us/step - loss: 0.4160 - acc: 0.8314 - val_loss: 0.7846 - val_acc: 0.7204\n",
            "Epoch 370/500\n",
            "2444/2444 [==============================] - 0s 53us/step - loss: 0.4024 - acc: 0.8400 - val_loss: 0.7800 - val_acc: 0.7376\n",
            "Epoch 371/500\n",
            "2444/2444 [==============================] - 0s 52us/step - loss: 0.3781 - acc: 0.8429 - val_loss: 0.7987 - val_acc: 0.7405\n",
            "Epoch 372/500\n",
            "2444/2444 [==============================] - 0s 55us/step - loss: 0.4261 - acc: 0.8294 - val_loss: 0.7748 - val_acc: 0.7223\n",
            "Epoch 373/500\n",
            "2444/2444 [==============================] - 0s 50us/step - loss: 0.4190 - acc: 0.8310 - val_loss: 0.7836 - val_acc: 0.7271\n",
            "Epoch 374/500\n",
            "2444/2444 [==============================] - 0s 56us/step - loss: 0.4027 - acc: 0.8408 - val_loss: 0.7977 - val_acc: 0.7204\n",
            "Epoch 375/500\n",
            "2444/2444 [==============================] - 0s 58us/step - loss: 0.3942 - acc: 0.8400 - val_loss: 0.7747 - val_acc: 0.7214\n",
            "Epoch 376/500\n",
            "2444/2444 [==============================] - 0s 53us/step - loss: 0.3895 - acc: 0.8445 - val_loss: 0.7696 - val_acc: 0.7366\n",
            "Epoch 377/500\n",
            "2444/2444 [==============================] - 0s 52us/step - loss: 0.3765 - acc: 0.8502 - val_loss: 0.7732 - val_acc: 0.7328\n",
            "Epoch 378/500\n",
            "2444/2444 [==============================] - 0s 52us/step - loss: 0.3961 - acc: 0.8457 - val_loss: 0.7734 - val_acc: 0.7242\n",
            "Epoch 379/500\n",
            "2444/2444 [==============================] - 0s 51us/step - loss: 0.3857 - acc: 0.8392 - val_loss: 0.7823 - val_acc: 0.7309\n",
            "Epoch 380/500\n",
            "2444/2444 [==============================] - 0s 52us/step - loss: 0.3880 - acc: 0.8437 - val_loss: 0.8046 - val_acc: 0.7223\n",
            "Epoch 381/500\n",
            "2444/2444 [==============================] - 0s 51us/step - loss: 0.3974 - acc: 0.8417 - val_loss: 0.7932 - val_acc: 0.7233\n",
            "Epoch 382/500\n",
            "2444/2444 [==============================] - 0s 51us/step - loss: 0.4917 - acc: 0.8011 - val_loss: 0.8329 - val_acc: 0.6985\n",
            "Epoch 383/500\n",
            "2444/2444 [==============================] - 0s 54us/step - loss: 0.4416 - acc: 0.8167 - val_loss: 0.8158 - val_acc: 0.7166\n",
            "Epoch 384/500\n",
            "2444/2444 [==============================] - 0s 52us/step - loss: 0.4191 - acc: 0.8269 - val_loss: 0.7918 - val_acc: 0.7271\n",
            "Epoch 385/500\n",
            "2444/2444 [==============================] - 0s 50us/step - loss: 0.4308 - acc: 0.8306 - val_loss: 0.8381 - val_acc: 0.7204\n",
            "Epoch 386/500\n",
            "2444/2444 [==============================] - 0s 51us/step - loss: 0.3935 - acc: 0.8404 - val_loss: 0.7866 - val_acc: 0.7309\n",
            "Epoch 387/500\n",
            "2444/2444 [==============================] - 0s 52us/step - loss: 0.3813 - acc: 0.8515 - val_loss: 0.7866 - val_acc: 0.7214\n",
            "Epoch 388/500\n",
            "2444/2444 [==============================] - 0s 53us/step - loss: 0.3932 - acc: 0.8445 - val_loss: 0.7870 - val_acc: 0.7252\n",
            "Epoch 389/500\n",
            "2444/2444 [==============================] - 0s 52us/step - loss: 0.4023 - acc: 0.8351 - val_loss: 0.7909 - val_acc: 0.7214\n",
            "Epoch 390/500\n",
            "2444/2444 [==============================] - 0s 52us/step - loss: 0.3832 - acc: 0.8429 - val_loss: 0.8139 - val_acc: 0.7233\n",
            "Epoch 391/500\n",
            "2444/2444 [==============================] - 0s 58us/step - loss: 0.4026 - acc: 0.8425 - val_loss: 0.7890 - val_acc: 0.7290\n",
            "Epoch 392/500\n",
            "2444/2444 [==============================] - 0s 55us/step - loss: 0.4018 - acc: 0.8462 - val_loss: 0.7940 - val_acc: 0.7166\n",
            "Epoch 393/500\n",
            "2444/2444 [==============================] - 0s 54us/step - loss: 0.4071 - acc: 0.8286 - val_loss: 0.8074 - val_acc: 0.7223\n",
            "Epoch 394/500\n",
            "2444/2444 [==============================] - 0s 50us/step - loss: 0.3935 - acc: 0.8470 - val_loss: 0.7879 - val_acc: 0.7328\n",
            "Epoch 395/500\n",
            "2444/2444 [==============================] - 0s 58us/step - loss: 0.4141 - acc: 0.8412 - val_loss: 0.7798 - val_acc: 0.7204\n",
            "Epoch 396/500\n",
            "2444/2444 [==============================] - 0s 54us/step - loss: 0.4133 - acc: 0.8327 - val_loss: 0.7867 - val_acc: 0.7281\n",
            "Epoch 397/500\n",
            "2444/2444 [==============================] - 0s 51us/step - loss: 0.3884 - acc: 0.8445 - val_loss: 0.7907 - val_acc: 0.7338\n",
            "Epoch 398/500\n",
            "2444/2444 [==============================] - 0s 52us/step - loss: 0.3874 - acc: 0.8560 - val_loss: 0.7808 - val_acc: 0.7395\n",
            "Epoch 399/500\n",
            "2444/2444 [==============================] - 0s 63us/step - loss: 0.3830 - acc: 0.8527 - val_loss: 0.8112 - val_acc: 0.7328\n",
            "Epoch 400/500\n",
            "2444/2444 [==============================] - 0s 55us/step - loss: 0.3829 - acc: 0.8527 - val_loss: 0.8023 - val_acc: 0.7385\n",
            "Epoch 401/500\n",
            "2444/2444 [==============================] - 0s 51us/step - loss: 0.3681 - acc: 0.8543 - val_loss: 0.7666 - val_acc: 0.7424\n",
            "Epoch 402/500\n",
            "2444/2444 [==============================] - 0s 52us/step - loss: 0.3834 - acc: 0.8486 - val_loss: 0.8133 - val_acc: 0.7424\n",
            "Epoch 403/500\n",
            "2444/2444 [==============================] - 0s 54us/step - loss: 0.3813 - acc: 0.8474 - val_loss: 0.7776 - val_acc: 0.7462\n",
            "Epoch 404/500\n",
            "2444/2444 [==============================] - 0s 56us/step - loss: 0.3871 - acc: 0.8474 - val_loss: 0.7806 - val_acc: 0.7395\n",
            "Epoch 405/500\n",
            "2444/2444 [==============================] - 0s 57us/step - loss: 0.3562 - acc: 0.8625 - val_loss: 0.7971 - val_acc: 0.7481\n",
            "Epoch 406/500\n",
            "2444/2444 [==============================] - 0s 58us/step - loss: 0.3444 - acc: 0.8727 - val_loss: 0.7970 - val_acc: 0.7376\n",
            "Epoch 407/500\n",
            "2444/2444 [==============================] - 0s 52us/step - loss: 0.3720 - acc: 0.8421 - val_loss: 0.8055 - val_acc: 0.7395\n",
            "Epoch 408/500\n",
            "2444/2444 [==============================] - 0s 51us/step - loss: 0.3477 - acc: 0.8621 - val_loss: 0.8136 - val_acc: 0.7385\n",
            "Epoch 409/500\n",
            "2444/2444 [==============================] - 0s 53us/step - loss: 0.3648 - acc: 0.8494 - val_loss: 0.8398 - val_acc: 0.7242\n",
            "Epoch 410/500\n",
            "2444/2444 [==============================] - 0s 52us/step - loss: 0.3648 - acc: 0.8556 - val_loss: 0.8251 - val_acc: 0.7281\n",
            "Epoch 411/500\n",
            "2444/2444 [==============================] - 0s 52us/step - loss: 0.3743 - acc: 0.8515 - val_loss: 0.8217 - val_acc: 0.7242\n",
            "Epoch 412/500\n",
            "2444/2444 [==============================] - 0s 52us/step - loss: 0.3586 - acc: 0.8556 - val_loss: 0.8188 - val_acc: 0.7385\n",
            "Epoch 413/500\n",
            "2444/2444 [==============================] - 0s 53us/step - loss: 0.3389 - acc: 0.8687 - val_loss: 0.8225 - val_acc: 0.7395\n",
            "Epoch 414/500\n",
            "2444/2444 [==============================] - 0s 56us/step - loss: 0.3755 - acc: 0.8486 - val_loss: 0.8286 - val_acc: 0.7233\n",
            "Epoch 415/500\n",
            "2444/2444 [==============================] - 0s 52us/step - loss: 0.3483 - acc: 0.8666 - val_loss: 0.7994 - val_acc: 0.7366\n",
            "Epoch 416/500\n",
            "2444/2444 [==============================] - 0s 52us/step - loss: 0.3959 - acc: 0.8408 - val_loss: 0.8083 - val_acc: 0.7300\n",
            "Epoch 417/500\n",
            "2444/2444 [==============================] - 0s 52us/step - loss: 0.4069 - acc: 0.8331 - val_loss: 0.8071 - val_acc: 0.7338\n",
            "Epoch 418/500\n",
            "2444/2444 [==============================] - 0s 53us/step - loss: 0.3962 - acc: 0.8466 - val_loss: 0.8165 - val_acc: 0.7357\n",
            "Epoch 419/500\n",
            "2444/2444 [==============================] - 0s 53us/step - loss: 0.4044 - acc: 0.8384 - val_loss: 0.7885 - val_acc: 0.7338\n",
            "Epoch 420/500\n",
            "2444/2444 [==============================] - 0s 58us/step - loss: 0.3771 - acc: 0.8527 - val_loss: 0.7902 - val_acc: 0.7395\n",
            "Epoch 421/500\n",
            "2444/2444 [==============================] - 0s 52us/step - loss: 0.3813 - acc: 0.8535 - val_loss: 0.8207 - val_acc: 0.7376\n",
            "Epoch 422/500\n",
            "2444/2444 [==============================] - 0s 58us/step - loss: 0.3875 - acc: 0.8494 - val_loss: 0.8051 - val_acc: 0.7281\n",
            "Epoch 423/500\n",
            "2444/2444 [==============================] - 0s 52us/step - loss: 0.3469 - acc: 0.8646 - val_loss: 0.8114 - val_acc: 0.7366\n",
            "Epoch 424/500\n",
            "2444/2444 [==============================] - 0s 51us/step - loss: 0.3715 - acc: 0.8560 - val_loss: 0.7959 - val_acc: 0.7338\n",
            "Epoch 425/500\n",
            "2444/2444 [==============================] - 0s 55us/step - loss: 0.3689 - acc: 0.8531 - val_loss: 0.8315 - val_acc: 0.7252\n",
            "Epoch 426/500\n",
            "2444/2444 [==============================] - 0s 51us/step - loss: 0.3985 - acc: 0.8519 - val_loss: 0.8204 - val_acc: 0.7366\n",
            "Epoch 427/500\n",
            "2444/2444 [==============================] - 0s 53us/step - loss: 0.3753 - acc: 0.8519 - val_loss: 0.8216 - val_acc: 0.7328\n",
            "Epoch 428/500\n",
            "2444/2444 [==============================] - 0s 55us/step - loss: 0.3991 - acc: 0.8453 - val_loss: 0.8378 - val_acc: 0.7185\n",
            "Epoch 429/500\n",
            "2444/2444 [==============================] - 0s 57us/step - loss: 0.3624 - acc: 0.8613 - val_loss: 0.7921 - val_acc: 0.7366\n",
            "Epoch 430/500\n",
            "2444/2444 [==============================] - 0s 57us/step - loss: 0.4192 - acc: 0.8331 - val_loss: 0.7755 - val_acc: 0.7281\n",
            "Epoch 431/500\n",
            "2444/2444 [==============================] - 0s 51us/step - loss: 0.3610 - acc: 0.8564 - val_loss: 0.7826 - val_acc: 0.7433\n",
            "Epoch 432/500\n",
            "2444/2444 [==============================] - 0s 54us/step - loss: 0.3595 - acc: 0.8576 - val_loss: 0.7941 - val_acc: 0.7395\n",
            "Epoch 433/500\n",
            "2444/2444 [==============================] - 0s 56us/step - loss: 0.3345 - acc: 0.8691 - val_loss: 0.7908 - val_acc: 0.7452\n",
            "Epoch 434/500\n",
            "2444/2444 [==============================] - 0s 51us/step - loss: 0.3622 - acc: 0.8658 - val_loss: 0.8171 - val_acc: 0.7376\n",
            "Epoch 435/500\n",
            "2444/2444 [==============================] - 0s 53us/step - loss: 0.3659 - acc: 0.8482 - val_loss: 0.8249 - val_acc: 0.7281\n",
            "Epoch 436/500\n",
            "2444/2444 [==============================] - 0s 53us/step - loss: 0.3269 - acc: 0.8752 - val_loss: 0.7965 - val_acc: 0.7300\n",
            "Epoch 437/500\n",
            "2444/2444 [==============================] - 0s 55us/step - loss: 0.3381 - acc: 0.8682 - val_loss: 0.7832 - val_acc: 0.7452\n",
            "Epoch 438/500\n",
            "2444/2444 [==============================] - 0s 51us/step - loss: 0.3399 - acc: 0.8666 - val_loss: 0.8103 - val_acc: 0.7338\n",
            "Epoch 439/500\n",
            "2444/2444 [==============================] - 0s 51us/step - loss: 0.3558 - acc: 0.8621 - val_loss: 0.8138 - val_acc: 0.7376\n",
            "Epoch 440/500\n",
            "2444/2444 [==============================] - 0s 50us/step - loss: 0.3690 - acc: 0.8486 - val_loss: 0.8151 - val_acc: 0.7300\n",
            "Epoch 441/500\n",
            "2444/2444 [==============================] - 0s 59us/step - loss: 0.3598 - acc: 0.8597 - val_loss: 0.8110 - val_acc: 0.7347\n",
            "Epoch 442/500\n",
            "2444/2444 [==============================] - 0s 52us/step - loss: 0.3560 - acc: 0.8609 - val_loss: 0.7764 - val_acc: 0.7347\n",
            "Epoch 443/500\n",
            "2444/2444 [==============================] - 0s 67us/step - loss: 0.3779 - acc: 0.8486 - val_loss: 0.8018 - val_acc: 0.7338\n",
            "Epoch 444/500\n",
            "2444/2444 [==============================] - 0s 62us/step - loss: 0.3657 - acc: 0.8535 - val_loss: 0.8201 - val_acc: 0.7424\n",
            "Epoch 445/500\n",
            "2444/2444 [==============================] - 0s 57us/step - loss: 0.3534 - acc: 0.8646 - val_loss: 0.7821 - val_acc: 0.7452\n",
            "Epoch 446/500\n",
            "2444/2444 [==============================] - 0s 51us/step - loss: 0.3683 - acc: 0.8564 - val_loss: 0.7994 - val_acc: 0.7414\n",
            "Epoch 447/500\n",
            "2444/2444 [==============================] - 0s 51us/step - loss: 0.3450 - acc: 0.8687 - val_loss: 0.8173 - val_acc: 0.7443\n",
            "Epoch 448/500\n",
            "2444/2444 [==============================] - 0s 51us/step - loss: 0.4058 - acc: 0.8392 - val_loss: 0.8148 - val_acc: 0.7290\n",
            "Epoch 449/500\n",
            "2444/2444 [==============================] - 0s 50us/step - loss: 0.3962 - acc: 0.8400 - val_loss: 0.8210 - val_acc: 0.7357\n",
            "Epoch 450/500\n",
            "2444/2444 [==============================] - 0s 54us/step - loss: 0.3746 - acc: 0.8547 - val_loss: 0.7884 - val_acc: 0.7319\n",
            "Epoch 451/500\n",
            "2444/2444 [==============================] - 0s 52us/step - loss: 0.3603 - acc: 0.8535 - val_loss: 0.7826 - val_acc: 0.7414\n",
            "Epoch 452/500\n",
            "2444/2444 [==============================] - 0s 52us/step - loss: 0.3344 - acc: 0.8715 - val_loss: 0.7806 - val_acc: 0.7328\n",
            "Epoch 453/500\n",
            "2444/2444 [==============================] - 0s 60us/step - loss: 0.3554 - acc: 0.8605 - val_loss: 0.8310 - val_acc: 0.7166\n",
            "Epoch 454/500\n",
            "2444/2444 [==============================] - 0s 52us/step - loss: 0.3719 - acc: 0.8535 - val_loss: 0.7838 - val_acc: 0.7462\n",
            "Epoch 455/500\n",
            "2444/2444 [==============================] - 0s 54us/step - loss: 0.3738 - acc: 0.8462 - val_loss: 0.8060 - val_acc: 0.7347\n"
          ],
          "name": "stdout"
        }
      ]
    },
    {
      "cell_type": "markdown",
      "metadata": {
        "id": "xQ2Koxsz0Zun",
        "colab_type": "text"
      },
      "source": [
        "# 訓練過程評估"
      ]
    },
    {
      "cell_type": "code",
      "metadata": {
        "id": "2SxJIEDzbaZ7",
        "colab_type": "code",
        "outputId": "3524bf57-7bf6-4dc8-f93a-0daf0455e0b5",
        "colab": {
          "base_uri": "https://localhost:8080/",
          "height": 269
        }
      },
      "source": [
        "import matplotlib.pyplot as plt\n",
        "fig, ax = plt.subplots(2,1)\n",
        "ax[0].plot(history.history['loss'], color='b', label=\"Training loss\")\n",
        "ax[0].plot(history.history['val_loss'], color='r', label=\"Validation loss\",axes =ax[0])\n",
        "ax[0].grid(color='black', linestyle='-', linewidth=0.25)\n",
        "legend = ax[0].legend(loc='best', shadow=True)\n",
        "\n",
        "ax[1].plot(history.history['acc'], color='b', label=\"Training accuracy\")\n",
        "ax[1].plot(history.history['val_acc'], color='r',label=\"Validation accuracy\")\n",
        "ax[1].grid(color='black', linestyle='-', linewidth=0.25)\n",
        "legend = ax[1].legend(loc='best', shadow=True)"
      ],
      "execution_count": 47,
      "outputs": [
        {
          "output_type": "display_data",
          "data": {
            "image/png": "[encoded data removed]",
            "text/plain": [
              "<Figure size 432x288 with 2 Axes>"
            ]
          },
          "metadata": {
            "tags": []
          }
        }
      ]
    },
    {
      "cell_type": "markdown",
      "metadata": {
        "id": "zWVmgHz80cCp",
        "colab_type": "text"
      },
      "source": [
        "# 混淆矩陣"
      ]
    },
    {
      "cell_type": "code",
      "metadata": {
        "id": "UH5CcmX6btme",
        "colab_type": "code",
        "outputId": "728ae7f7-ee6c-456a-b58a-a69f0c0e8f87",
        "colab": {
          "base_uri": "https://localhost:8080/",
          "height": 311
        }
      },
      "source": [
        "from sklearn.metrics import confusion_matrix\n",
        "import itertools\n",
        "\n",
        "def plot_confusion_matrix(cm, classes, normalize=False, title='Confusion matrix', cmap=plt.cm.Blues):\n",
        "    plt.imshow(cm, interpolation='nearest', cmap=cmap)\n",
        "    plt.title(title)\n",
        "    plt.colorbar()\n",
        "    tick_marks = np.arange(len(classes))\n",
        "    plt.xticks(tick_marks, classes, rotation=45)\n",
        "    plt.yticks(tick_marks, classes)\n",
        "    if normalize:\n",
        "        cm = cm.astype('float') / cm.sum(axis=1)[:, np.newaxis]\n",
        "    thresh = cm.max() / 2.\n",
        "    for i, j in itertools.product(range(cm.shape[0]), range(cm.shape[1])):\n",
        "        plt.text(j, i, cm[i, j],\n",
        "                 horizontalalignment=\"center\",\n",
        "                 color=\"white\" if cm[i, j] > thresh else \"black\")\n",
        "    plt.tight_layout()\n",
        "    plt.ylabel('True label')\n",
        "    plt.xlabel('Predicted label')\n",
        "\n",
        "#預測的y\n",
        "ypred_onehot = model.predict(xval)\n",
        "#轉換預測的y: [0 0 1 0 0 ...] --> 2\n",
        "ypred = np.argmax(ypred_onehot,axis=1)\n",
        "#轉換真實的y\n",
        "ytrue = np.argmax(yval,axis=1)\n",
        "#計算 confusion matrix\n",
        "confusion_mtx = confusion_matrix(ytrue, ypred)\n",
        "#畫出 confusion matrix\n",
        "plot_confusion_matrix(confusion_mtx, classes=range(nclasses))"
      ],
      "execution_count": 48,
      "outputs": [
        {
          "output_type": "display_data",
          "data": {
            "image/png": "[encoded data removed]",
            "text/plain": [
              "<Figure size 432x288 with 2 Axes>"
            ]
          },
          "metadata": {
            "tags": []
          }
        }
      ]
    },
    {
      "cell_type": "markdown",
      "metadata": {
        "id": "PmgafP2rpjAO",
        "colab_type": "text"
      },
      "source": [
        "# 分類report"
      ]
    },
    {
      "cell_type": "markdown",
      "metadata": {
        "id": "zXQ8o9mj1Ydh",
        "colab_type": "text"
      },
      "source": [
        "轉換預測結果"
      ]
    },
    {
      "cell_type": "code",
      "metadata": {
        "id": "lCSuw9cYqEYk",
        "colab_type": "code",
        "outputId": "52883094-06f5-43dd-8cef-ab886e3eb0a4",
        "colab": {
          "base_uri": "https://localhost:8080/",
          "height": 106
        }
      },
      "source": [
        "y_pred = model.predict(xval)\n",
        "y_pred = [np.argmax(i) for i in y_pred]\n",
        "y_pred = to_categorical(y_pred, num_classes = 3)\n",
        "print(y_pred[:5])"
      ],
      "execution_count": 49,
      "outputs": [
        {
          "output_type": "stream",
          "text": [
            "[[0. 0. 1.]\n",
            " [1. 0. 0.]\n",
            " [1. 0. 0.]\n",
            " [0. 0. 1.]\n",
            " [0. 0. 1.]]\n"
          ],
          "name": "stdout"
        }
      ]
    },
    {
      "cell_type": "markdown",
      "metadata": {
        "id": "XrHrpsVb1avA",
        "colab_type": "text"
      },
      "source": [
        "真實y值"
      ]
    },
    {
      "cell_type": "code",
      "metadata": {
        "id": "T2tyxRdo1Mqm",
        "colab_type": "code",
        "outputId": "cfbce5df-21bc-4c6b-eae9-7f706a8c58af",
        "colab": {
          "base_uri": "https://localhost:8080/",
          "height": 106
        }
      },
      "source": [
        "print(yval[:5])"
      ],
      "execution_count": 50,
      "outputs": [
        {
          "output_type": "stream",
          "text": [
            "[[1. 0. 0.]\n",
            " [1. 0. 0.]\n",
            " [1. 0. 0.]\n",
            " [0. 0. 1.]\n",
            " [0. 0. 1.]]\n"
          ],
          "name": "stdout"
        }
      ]
    },
    {
      "cell_type": "markdown",
      "metadata": {
        "id": "wztZOw2r1ddE",
        "colab_type": "text"
      },
      "source": [
        "# 分類報告"
      ]
    },
    {
      "cell_type": "code",
      "metadata": {
        "id": "vzMaU-Y8pjJT",
        "colab_type": "code",
        "outputId": "9ac71e02-467f-409c-f1a0-07b6990b3c5d",
        "colab": {
          "base_uri": "https://localhost:8080/",
          "height": 212
        }
      },
      "source": [
        "from sklearn.metrics import classification_report \n",
        "target_names = ['Hold','BUY','SELL']\n",
        "print(classification_report(yval,y_pred,target_names=target_names))"
      ],
      "execution_count": 51,
      "outputs": [
        {
          "output_type": "stream",
          "text": [
            "              precision    recall  f1-score   support\n",
            "\n",
            "        Hold       0.74      0.67      0.70       385\n",
            "         BUY       0.76      0.76      0.76       323\n",
            "        SELL       0.75      0.83      0.79       340\n",
            "\n",
            "   micro avg       0.75      0.75      0.75      1048\n",
            "   macro avg       0.75      0.75      0.75      1048\n",
            "weighted avg       0.75      0.75      0.75      1048\n",
            " samples avg       0.75      0.75      0.75      1048\n",
            "\n"
          ],
          "name": "stdout"
        }
      ]
    },
    {
      "cell_type": "markdown",
      "metadata": {
        "id": "n-KXEoZLb9ie",
        "colab_type": "text"
      },
      "source": [
        "# plot error"
      ]
    },
    {
      "cell_type": "code",
      "metadata": {
        "id": "nCW5Xvtrb0fC",
        "colab_type": "code",
        "outputId": "95c58b5e-3b33-437e-d0f1-1cfe24f513a5",
        "colab": {
          "base_uri": "https://localhost:8080/",
          "height": 293
        }
      },
      "source": [
        "errors = (ypred - ytrue != 0)\n",
        "\n",
        "ypred_er = ypred_onehot[errors]\n",
        "ypred_classes_er = ypred[errors]\n",
        "ytrue_er = ytrue[errors]\n",
        "xval_er = xval[errors]\n",
        "\n",
        "def display_errors(errors_index, img_errors, pred_errors, obs_errors):\n",
        "    n = 0\n",
        "    nrows = 2\n",
        "    ncols = 3\n",
        "    fig, ax = plt.subplots(nrows, ncols, sharex=True, sharey=True)\n",
        "    plt.subplots_adjust(wspace =0.5, hspace =0.5)\n",
        "    for row in range(nrows):\n",
        "        for col in range(ncols):\n",
        "            error = errors_index[n]\n",
        "            ax[row,col].imshow((img_errors[error]).reshape((days,len(features))))\n",
        "            ax[row,col].set_title(\"Predicted label :{}\\nTrue label :{}\".format(pred_errors[error],obs_errors[error]))\n",
        "            n += 1\n",
        "            \n",
        "# 錯誤預測的概率\n",
        "ypred_er_prob = np.max(ypred_er,axis=1)\n",
        "\n",
        "# Predicted probabilities of the true values in the error set\n",
        "true_prob_er = np.diagonal(np.take(ypred_er, ytrue_er, axis=1))\n",
        "\n",
        "# Difference between the probability of the predicted label and the true label\n",
        "delta_pred_true_er = ypred_er_prob - true_prob_er\n",
        "\n",
        "# Sorted list of the delta prob errors\n",
        "sorted_delta_er = np.argsort(delta_pred_true_er)\n",
        "\n",
        "# Top 6 errors. You can change the range to see other images\n",
        "most_important_er = sorted_delta_er[-6:]\n",
        "\n",
        "# Show the top 6 errors\n",
        "display_errors(most_important_er, xval_er, ypred_classes_er, ytrue_er)"
      ],
      "execution_count": 52,
      "outputs": [
        {
          "output_type": "display_data",
          "data": {
            "image/png": "[encoded data removed]",
            "text/plain": [
              "<Figure size 432x288 with 6 Axes>"
            ]
          },
          "metadata": {
            "tags": []
          }
        }
      ]
    },
    {
      "cell_type": "markdown",
      "metadata": {
        "id": "togdM5Afo71w",
        "colab_type": "text"
      },
      "source": [
        "# model預測最近40筆"
      ]
    },
    {
      "cell_type": "code",
      "metadata": {
        "id": "kQqzNPdQo8GW",
        "colab_type": "code",
        "outputId": "998f51a1-652c-4ca1-f5d7-ad7365c11175",
        "colab": {
          "base_uri": "https://localhost:8080/",
          "height": 35
        }
      },
      "source": [
        "answer = model.predict(X_test)#model預測買賣信號\n",
        "answer = [ np.argmax(i) for i in answer]\n",
        "print(len(answer))"
      ],
      "execution_count": 53,
      "outputs": [
        {
          "output_type": "stream",
          "text": [
            "40\n"
          ],
          "name": "stdout"
        }
      ]
    },
    {
      "cell_type": "markdown",
      "metadata": {
        "id": "f4vAlm3rxNVp",
        "colab_type": "text"
      },
      "source": [
        "# 看看最近一百天預測結果"
      ]
    },
    {
      "cell_type": "code",
      "metadata": {
        "id": "YHzRjtab0pr-",
        "colab_type": "code",
        "outputId": "59473bf6-b66b-4140-c083-72af7c2180d7",
        "colab": {
          "base_uri": "https://localhost:8080/",
          "height": 307
        }
      },
      "source": [
        "INDEX100 = df[-100:].index#取最最近100天INDEX\n",
        "C = web.DataReader(SID,'yahoo',start=\"1980-01-01\")[['Close']]#取得歷史收盤價\n",
        "C = C.loc[INDEX100,:]#最近100天收盤價\n",
        "C['SIGNAL'] = [np.nan for _ in range(60)] + answer # 買賣信號:前60個NAN+40個預測答案\n",
        "buy = C[C['SIGNAL']==1]['Close']#買點\n",
        "sell = C[C['SIGNAL']==2]['Close']#賣點\n",
        "C['Close'].plot()#畫線\n",
        "plt.scatter(list(buy.index),list(buy.values),color='red',marker=\"^\")#畫買點\n",
        "plt.scatter(list(sell.index),list(sell.values),color='black')#畫賣點"
      ],
      "execution_count": 54,
      "outputs": [
        {
          "output_type": "execute_result",
          "data": {
            "text/plain": [
              "<matplotlib.collections.PathCollection at 0x7f1b4c067d30>"
            ]
          },
          "metadata": {
            "tags": []
          },
          "execution_count": 54
        },
        {
          "output_type": "display_data",
          "data": {
            "image/png": "[encoded data removed]",
            "text/plain": [
              "<Figure size 432x288 with 1 Axes>"
            ]
          },
          "metadata": {
            "tags": []
          }
        }
      ]
    },
    {
      "cell_type": "markdown",
      "metadata": {
        "id": "zICN7d8rzOnz",
        "colab_type": "text"
      },
      "source": [
        "# 最近40天預測結果"
      ]
    },
    {
      "cell_type": "code",
      "metadata": {
        "id": "UIeUpfe4GzRI",
        "colab_type": "code",
        "colab": {
          "base_uri": "https://localhost:8080/",
          "height": 307
        },
        "outputId": "00959524-4486-4ec3-fd85-0fd70b7538ec"
      },
      "source": [
        "C['Close'][-40:].plot()#畫線\n",
        "plt.scatter(list(buy.index),list(buy.values),color='red',marker=\"^\")#畫買點\n",
        "plt.scatter(list(sell.index),list(sell.values),color='black')#畫賣點"
      ],
      "execution_count": 55,
      "outputs": [
        {
          "output_type": "execute_result",
          "data": {
            "text/plain": [
              "<matplotlib.collections.PathCollection at 0x7f1b45feb7b8>"
            ]
          },
          "metadata": {
            "tags": []
          },
          "execution_count": 55
        },
        {
          "output_type": "display_data",
          "data": {
            "image/png": "[encoded data removed]",
            "text/plain": [
              "<Figure size 432x288 with 1 Axes>"
            ]
          },
          "metadata": {
            "tags": []
          }
        }
      ]
    },
    {
      "cell_type": "code",
      "metadata": {
        "id": "7gtdmagjzM1J",
        "colab_type": "code",
        "colab": {}
      },
      "source": [
        ""
      ],
      "execution_count": 0,
      "outputs": []
    }
  ]
}