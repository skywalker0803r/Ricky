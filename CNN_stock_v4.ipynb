{
  "nbformat": 4,
  "nbformat_minor": 0,
  "metadata": {
    "colab": {
      "name": "CNN_stock.ipynb",
      "version": "0.3.2",
      "provenance": [],
      "collapsed_sections": [],
      "include_colab_link": true
    },
    "kernelspec": {
      "name": "python3",
      "display_name": "Python 3"
    },
    "accelerator": "GPU"
  },
  "cells": [
    {
      "cell_type": "markdown",
      "metadata": {
        "id": "view-in-github",
        "colab_type": "text"
      },
      "source": [
        "<a href=\"https://colab.research.google.com/github/skywalker0803r/Ricky/blob/master/CNN_stock_v4.ipynb\" target=\"_parent\"><img src=\"https://colab.research.google.com/assets/colab-badge.svg\" alt=\"Open In Colab\"/></a>"
      ]
    },
    {
      "cell_type": "code",
      "metadata": {
        "id": "g7NPpY26_qJm",
        "colab_type": "code",
        "colab": {}
      },
      "source": [
        "import pandas as pd\n",
        "import seaborn as sns\n",
        "import pandas_datareader.data as web\n",
        "#!pip install finta\n",
        "SID = '6005.tw'\n",
        "df = web.DataReader(SID,'yahoo',start=\"2000-01-01\")\n",
        "df = df.iloc[:,:5]"
      ],
      "execution_count": 0,
      "outputs": []
    },
    {
      "cell_type": "markdown",
      "metadata": {
        "id": "6vaRLIuvJlZ7",
        "colab_type": "text"
      },
      "source": [
        "# 載入資料"
      ]
    },
    {
      "cell_type": "code",
      "metadata": {
        "id": "kRKHlNGl_7JV",
        "colab_type": "code",
        "outputId": "916f5aea-4aa4-4214-e370-03628f78d43c",
        "colab": {
          "base_uri": "https://localhost:8080/",
          "height": 189
        }
      },
      "source": [
        "print(df.shape)\n",
        "df.head(3)"
      ],
      "execution_count": 2,
      "outputs": [
        {
          "output_type": "stream",
          "text": [
            "(3733, 5)\n"
          ],
          "name": "stdout"
        },
        {
          "output_type": "execute_result",
          "data": {
            "text/html": [
              "<div>\n",
              "<style scoped>\n",
              "    .dataframe tbody tr th:only-of-type {\n",
              "        vertical-align: middle;\n",
              "    }\n",
              "\n",
              "    .dataframe tbody tr th {\n",
              "        vertical-align: top;\n",
              "    }\n",
              "\n",
              "    .dataframe thead th {\n",
              "        text-align: right;\n",
              "    }\n",
              "</style>\n",
              "<table border=\"1\" class=\"dataframe\">\n",
              "  <thead>\n",
              "    <tr style=\"text-align: right;\">\n",
              "      <th></th>\n",
              "      <th>High</th>\n",
              "      <th>Low</th>\n",
              "      <th>Open</th>\n",
              "      <th>Close</th>\n",
              "      <th>Volume</th>\n",
              "    </tr>\n",
              "    <tr>\n",
              "      <th>Date</th>\n",
              "      <th></th>\n",
              "      <th></th>\n",
              "      <th></th>\n",
              "      <th></th>\n",
              "      <th></th>\n",
              "    </tr>\n",
              "  </thead>\n",
              "  <tbody>\n",
              "    <tr>\n",
              "      <th>2000-01-04</th>\n",
              "      <td>8.83163</td>\n",
              "      <td>8.46555</td>\n",
              "      <td>8.46555</td>\n",
              "      <td>8.83163</td>\n",
              "      <td>16748344.0</td>\n",
              "    </tr>\n",
              "    <tr>\n",
              "      <th>2000-01-05</th>\n",
              "      <td>9.01467</td>\n",
              "      <td>8.60283</td>\n",
              "      <td>8.83163</td>\n",
              "      <td>8.83163</td>\n",
              "      <td>26107027.0</td>\n",
              "    </tr>\n",
              "    <tr>\n",
              "      <th>2000-01-06</th>\n",
              "      <td>9.42651</td>\n",
              "      <td>9.06043</td>\n",
              "      <td>9.24347</td>\n",
              "      <td>9.42651</td>\n",
              "      <td>48617859.0</td>\n",
              "    </tr>\n",
              "  </tbody>\n",
              "</table>\n",
              "</div>"
            ],
            "text/plain": [
              "               High      Low     Open    Close      Volume\n",
              "Date                                                      \n",
              "2000-01-04  8.83163  8.46555  8.46555  8.83163  16748344.0\n",
              "2000-01-05  9.01467  8.60283  8.83163  8.83163  26107027.0\n",
              "2000-01-06  9.42651  9.06043  9.24347  9.42651  48617859.0"
            ]
          },
          "metadata": {
            "tags": []
          },
          "execution_count": 2
        }
      ]
    },
    {
      "cell_type": "code",
      "metadata": {
        "id": "9YvzTIEDddVx",
        "colab_type": "code",
        "colab": {
          "base_uri": "https://localhost:8080/",
          "height": 171
        },
        "outputId": "64da5fbb-7cc8-4a15-9832-c1a6af2afac3"
      },
      "source": [
        "df.tail(3)"
      ],
      "execution_count": 3,
      "outputs": [
        {
          "output_type": "execute_result",
          "data": {
            "text/html": [
              "<div>\n",
              "<style scoped>\n",
              "    .dataframe tbody tr th:only-of-type {\n",
              "        vertical-align: middle;\n",
              "    }\n",
              "\n",
              "    .dataframe tbody tr th {\n",
              "        vertical-align: top;\n",
              "    }\n",
              "\n",
              "    .dataframe thead th {\n",
              "        text-align: right;\n",
              "    }\n",
              "</style>\n",
              "<table border=\"1\" class=\"dataframe\">\n",
              "  <thead>\n",
              "    <tr style=\"text-align: right;\">\n",
              "      <th></th>\n",
              "      <th>High</th>\n",
              "      <th>Low</th>\n",
              "      <th>Open</th>\n",
              "      <th>Close</th>\n",
              "      <th>Volume</th>\n",
              "    </tr>\n",
              "    <tr>\n",
              "      <th>Date</th>\n",
              "      <th></th>\n",
              "      <th></th>\n",
              "      <th></th>\n",
              "      <th></th>\n",
              "      <th></th>\n",
              "    </tr>\n",
              "  </thead>\n",
              "  <tbody>\n",
              "    <tr>\n",
              "      <th>2019-09-04</th>\n",
              "      <td>8.85</td>\n",
              "      <td>8.76</td>\n",
              "      <td>8.77</td>\n",
              "      <td>8.85</td>\n",
              "      <td>3300443.0</td>\n",
              "    </tr>\n",
              "    <tr>\n",
              "      <th>2019-09-05</th>\n",
              "      <td>8.90</td>\n",
              "      <td>8.85</td>\n",
              "      <td>8.87</td>\n",
              "      <td>8.86</td>\n",
              "      <td>2553843.0</td>\n",
              "    </tr>\n",
              "    <tr>\n",
              "      <th>2019-09-06</th>\n",
              "      <td>8.91</td>\n",
              "      <td>8.87</td>\n",
              "      <td>8.89</td>\n",
              "      <td>8.90</td>\n",
              "      <td>2939239.0</td>\n",
              "    </tr>\n",
              "  </tbody>\n",
              "</table>\n",
              "</div>"
            ],
            "text/plain": [
              "            High   Low  Open  Close     Volume\n",
              "Date                                          \n",
              "2019-09-04  8.85  8.76  8.77   8.85  3300443.0\n",
              "2019-09-05  8.90  8.85  8.87   8.86  2553843.0\n",
              "2019-09-06  8.91  8.87  8.89   8.90  2939239.0"
            ]
          },
          "metadata": {
            "tags": []
          },
          "execution_count": 3
        }
      ]
    },
    {
      "cell_type": "markdown",
      "metadata": {
        "id": "ZsFMU68NI85j",
        "colab_type": "text"
      },
      "source": [
        "# Labeling(計算return)"
      ]
    },
    {
      "cell_type": "code",
      "metadata": {
        "id": "WaNG41cBI9BT",
        "colab_type": "code",
        "colab": {}
      },
      "source": [
        "#今天股價 = df['Close']\n",
        "#昨天股價 = df['Close'].shift(1)\n",
        "#df['return%'] = (今天股價/昨天股價-1)*100\n",
        "#print(df['return%'].min(),df['return%'].max())\n",
        "#sns.distplot(df['return%'].dropna())\n",
        "#df.tail()"
      ],
      "execution_count": 0,
      "outputs": []
    },
    {
      "cell_type": "markdown",
      "metadata": {
        "id": "HegmuvBN0FKD",
        "colab_type": "text"
      },
      "source": [
        "# Label triple_barrier"
      ]
    },
    {
      "cell_type": "code",
      "metadata": {
        "id": "RFsmFQfF0FXt",
        "colab_type": "code",
        "colab": {}
      },
      "source": [
        "import numpy as np\n",
        "import math\n",
        "def triple_barrier(price, ub, lb, max_period):\n",
        "\n",
        "    def end_price(s):\n",
        "        return np.append(s[(s / s[0] > ub) | (s / s[0] < lb)], s[-1])[0]/s[0]\n",
        "    \n",
        "    r = np.array(range(max_period))\n",
        "    \n",
        "    def end_time(s):\n",
        "        return np.append(r[(s / s[0] > ub) | (s / s[0] < lb)], max_period-1)[0]\n",
        "\n",
        "    p = price.rolling(max_period).apply(end_price, raw=True).shift(-max_period+1)\n",
        "    t = price.rolling(max_period).apply(end_time, raw=True).shift(-max_period+1)\n",
        "    t = pd.Series([t.index[int(k+i)] if not math.isnan(k+i) else np.datetime64('NaT') \n",
        "                   for i, k in enumerate(t)], index=t.index).dropna()\n",
        "\n",
        "    signal = pd.Series(0, p.index)\n",
        "    signal.loc[p > ub] = 1\n",
        "    signal.loc[p < lb] = -1\n",
        "    ret = pd.DataFrame({'triple_barrier_profit':p, 'triple_barrier_sell_time':t, 'triple_barrier_signal':signal})\n",
        "\n",
        "    return ret\n",
        "\n",
        "ret = triple_barrier(df.Close, 1.07, 0.97, 20)['triple_barrier_signal']\n",
        "df = df.join(ret)"
      ],
      "execution_count": 0,
      "outputs": []
    },
    {
      "cell_type": "code",
      "metadata": {
        "id": "MHRZWGG40a3q",
        "colab_type": "code",
        "outputId": "b2efaf38-284b-4f01-a3f7-fe07ffd23d54",
        "colab": {
          "base_uri": "https://localhost:8080/",
          "height": 693
        }
      },
      "source": [
        "df.tail(20)"
      ],
      "execution_count": 6,
      "outputs": [
        {
          "output_type": "execute_result",
          "data": {
            "text/html": [
              "<div>\n",
              "<style scoped>\n",
              "    .dataframe tbody tr th:only-of-type {\n",
              "        vertical-align: middle;\n",
              "    }\n",
              "\n",
              "    .dataframe tbody tr th {\n",
              "        vertical-align: top;\n",
              "    }\n",
              "\n",
              "    .dataframe thead th {\n",
              "        text-align: right;\n",
              "    }\n",
              "</style>\n",
              "<table border=\"1\" class=\"dataframe\">\n",
              "  <thead>\n",
              "    <tr style=\"text-align: right;\">\n",
              "      <th></th>\n",
              "      <th>High</th>\n",
              "      <th>Low</th>\n",
              "      <th>Open</th>\n",
              "      <th>Close</th>\n",
              "      <th>Volume</th>\n",
              "      <th>triple_barrier_signal</th>\n",
              "    </tr>\n",
              "    <tr>\n",
              "      <th>Date</th>\n",
              "      <th></th>\n",
              "      <th></th>\n",
              "      <th></th>\n",
              "      <th></th>\n",
              "      <th></th>\n",
              "      <th></th>\n",
              "    </tr>\n",
              "  </thead>\n",
              "  <tbody>\n",
              "    <tr>\n",
              "      <th>2019-08-12</th>\n",
              "      <td>9.09</td>\n",
              "      <td>8.94</td>\n",
              "      <td>9.05</td>\n",
              "      <td>9.04</td>\n",
              "      <td>29780910.0</td>\n",
              "      <td>-1</td>\n",
              "    </tr>\n",
              "    <tr>\n",
              "      <th>2019-08-13</th>\n",
              "      <td>8.98</td>\n",
              "      <td>8.91</td>\n",
              "      <td>8.95</td>\n",
              "      <td>8.96</td>\n",
              "      <td>6204408.0</td>\n",
              "      <td>0</td>\n",
              "    </tr>\n",
              "    <tr>\n",
              "      <th>2019-08-14</th>\n",
              "      <td>9.00</td>\n",
              "      <td>8.95</td>\n",
              "      <td>8.97</td>\n",
              "      <td>8.98</td>\n",
              "      <td>1396213.0</td>\n",
              "      <td>0</td>\n",
              "    </tr>\n",
              "    <tr>\n",
              "      <th>2019-08-15</th>\n",
              "      <td>8.87</td>\n",
              "      <td>8.73</td>\n",
              "      <td>8.87</td>\n",
              "      <td>8.82</td>\n",
              "      <td>11860827.0</td>\n",
              "      <td>0</td>\n",
              "    </tr>\n",
              "    <tr>\n",
              "      <th>2019-08-16</th>\n",
              "      <td>8.90</td>\n",
              "      <td>8.79</td>\n",
              "      <td>8.82</td>\n",
              "      <td>8.90</td>\n",
              "      <td>1105242.0</td>\n",
              "      <td>0</td>\n",
              "    </tr>\n",
              "    <tr>\n",
              "      <th>2019-08-19</th>\n",
              "      <td>8.96</td>\n",
              "      <td>8.90</td>\n",
              "      <td>8.90</td>\n",
              "      <td>8.95</td>\n",
              "      <td>1011157.0</td>\n",
              "      <td>0</td>\n",
              "    </tr>\n",
              "    <tr>\n",
              "      <th>2019-08-20</th>\n",
              "      <td>8.99</td>\n",
              "      <td>8.89</td>\n",
              "      <td>8.95</td>\n",
              "      <td>8.90</td>\n",
              "      <td>1559788.0</td>\n",
              "      <td>0</td>\n",
              "    </tr>\n",
              "    <tr>\n",
              "      <th>2019-08-21</th>\n",
              "      <td>8.94</td>\n",
              "      <td>8.87</td>\n",
              "      <td>8.90</td>\n",
              "      <td>8.88</td>\n",
              "      <td>961558.0</td>\n",
              "      <td>0</td>\n",
              "    </tr>\n",
              "    <tr>\n",
              "      <th>2019-08-22</th>\n",
              "      <td>8.95</td>\n",
              "      <td>8.84</td>\n",
              "      <td>8.88</td>\n",
              "      <td>8.95</td>\n",
              "      <td>4047209.0</td>\n",
              "      <td>0</td>\n",
              "    </tr>\n",
              "    <tr>\n",
              "      <th>2019-08-23</th>\n",
              "      <td>8.92</td>\n",
              "      <td>8.83</td>\n",
              "      <td>8.92</td>\n",
              "      <td>8.88</td>\n",
              "      <td>2540075.0</td>\n",
              "      <td>0</td>\n",
              "    </tr>\n",
              "    <tr>\n",
              "      <th>2019-08-26</th>\n",
              "      <td>8.85</td>\n",
              "      <td>8.78</td>\n",
              "      <td>8.83</td>\n",
              "      <td>8.85</td>\n",
              "      <td>4572033.0</td>\n",
              "      <td>0</td>\n",
              "    </tr>\n",
              "    <tr>\n",
              "      <th>2019-08-27</th>\n",
              "      <td>8.85</td>\n",
              "      <td>8.72</td>\n",
              "      <td>8.85</td>\n",
              "      <td>8.72</td>\n",
              "      <td>2123717.0</td>\n",
              "      <td>0</td>\n",
              "    </tr>\n",
              "    <tr>\n",
              "      <th>2019-08-28</th>\n",
              "      <td>8.80</td>\n",
              "      <td>8.67</td>\n",
              "      <td>8.75</td>\n",
              "      <td>8.75</td>\n",
              "      <td>3830573.0</td>\n",
              "      <td>0</td>\n",
              "    </tr>\n",
              "    <tr>\n",
              "      <th>2019-08-29</th>\n",
              "      <td>8.75</td>\n",
              "      <td>8.72</td>\n",
              "      <td>8.75</td>\n",
              "      <td>8.75</td>\n",
              "      <td>803921.0</td>\n",
              "      <td>0</td>\n",
              "    </tr>\n",
              "    <tr>\n",
              "      <th>2019-08-30</th>\n",
              "      <td>8.81</td>\n",
              "      <td>8.72</td>\n",
              "      <td>8.75</td>\n",
              "      <td>8.75</td>\n",
              "      <td>6244940.0</td>\n",
              "      <td>0</td>\n",
              "    </tr>\n",
              "    <tr>\n",
              "      <th>2019-09-02</th>\n",
              "      <td>8.78</td>\n",
              "      <td>8.74</td>\n",
              "      <td>8.75</td>\n",
              "      <td>8.76</td>\n",
              "      <td>2785057.0</td>\n",
              "      <td>0</td>\n",
              "    </tr>\n",
              "    <tr>\n",
              "      <th>2019-09-03</th>\n",
              "      <td>8.79</td>\n",
              "      <td>8.75</td>\n",
              "      <td>8.75</td>\n",
              "      <td>8.77</td>\n",
              "      <td>2936767.0</td>\n",
              "      <td>0</td>\n",
              "    </tr>\n",
              "    <tr>\n",
              "      <th>2019-09-04</th>\n",
              "      <td>8.85</td>\n",
              "      <td>8.76</td>\n",
              "      <td>8.77</td>\n",
              "      <td>8.85</td>\n",
              "      <td>3300443.0</td>\n",
              "      <td>0</td>\n",
              "    </tr>\n",
              "    <tr>\n",
              "      <th>2019-09-05</th>\n",
              "      <td>8.90</td>\n",
              "      <td>8.85</td>\n",
              "      <td>8.87</td>\n",
              "      <td>8.86</td>\n",
              "      <td>2553843.0</td>\n",
              "      <td>0</td>\n",
              "    </tr>\n",
              "    <tr>\n",
              "      <th>2019-09-06</th>\n",
              "      <td>8.91</td>\n",
              "      <td>8.87</td>\n",
              "      <td>8.89</td>\n",
              "      <td>8.90</td>\n",
              "      <td>2939239.0</td>\n",
              "      <td>0</td>\n",
              "    </tr>\n",
              "  </tbody>\n",
              "</table>\n",
              "</div>"
            ],
            "text/plain": [
              "            High   Low  Open  Close      Volume  triple_barrier_signal\n",
              "Date                                                                  \n",
              "2019-08-12  9.09  8.94  9.05   9.04  29780910.0                     -1\n",
              "2019-08-13  8.98  8.91  8.95   8.96   6204408.0                      0\n",
              "2019-08-14  9.00  8.95  8.97   8.98   1396213.0                      0\n",
              "2019-08-15  8.87  8.73  8.87   8.82  11860827.0                      0\n",
              "2019-08-16  8.90  8.79  8.82   8.90   1105242.0                      0\n",
              "2019-08-19  8.96  8.90  8.90   8.95   1011157.0                      0\n",
              "2019-08-20  8.99  8.89  8.95   8.90   1559788.0                      0\n",
              "2019-08-21  8.94  8.87  8.90   8.88    961558.0                      0\n",
              "2019-08-22  8.95  8.84  8.88   8.95   4047209.0                      0\n",
              "2019-08-23  8.92  8.83  8.92   8.88   2540075.0                      0\n",
              "2019-08-26  8.85  8.78  8.83   8.85   4572033.0                      0\n",
              "2019-08-27  8.85  8.72  8.85   8.72   2123717.0                      0\n",
              "2019-08-28  8.80  8.67  8.75   8.75   3830573.0                      0\n",
              "2019-08-29  8.75  8.72  8.75   8.75    803921.0                      0\n",
              "2019-08-30  8.81  8.72  8.75   8.75   6244940.0                      0\n",
              "2019-09-02  8.78  8.74  8.75   8.76   2785057.0                      0\n",
              "2019-09-03  8.79  8.75  8.75   8.77   2936767.0                      0\n",
              "2019-09-04  8.85  8.76  8.77   8.85   3300443.0                      0\n",
              "2019-09-05  8.90  8.85  8.87   8.86   2553843.0                      0\n",
              "2019-09-06  8.91  8.87  8.89   8.90   2939239.0                      0"
            ]
          },
          "metadata": {
            "tags": []
          },
          "execution_count": 6
        }
      ]
    },
    {
      "cell_type": "code",
      "metadata": {
        "id": "Qti5Zd4-jOrH",
        "colab_type": "code",
        "outputId": "6331b35b-768c-44d5-c718-97ad827f41c3",
        "colab": {
          "base_uri": "https://localhost:8080/",
          "height": 333
        }
      },
      "source": [
        "import matplotlib.pyplot as plt\n",
        "buy = df[df['triple_barrier_signal']==1]['Close']\n",
        "sell = df[df['triple_barrier_signal']==-1]['Close']\n",
        "df['Close'][0:20].plot()\n",
        "plt.scatter(buy.index,buy.values,color='red')\n",
        "plt.scatter(sell.index,sell.values,color='black')"
      ],
      "execution_count": 7,
      "outputs": [
        {
          "output_type": "execute_result",
          "data": {
            "text/plain": [
              "<matplotlib.collections.PathCollection at 0x7f8e888d8cf8>"
            ]
          },
          "metadata": {
            "tags": []
          },
          "execution_count": 7
        },
        {
          "output_type": "display_data",
          "data": {
            "image/png": "[encoded data removed]",
            "text/plain": [
              "<Figure size 432x288 with 1 Axes>"
            ]
          },
          "metadata": {
            "tags": []
          }
        }
      ]
    },
    {
      "cell_type": "markdown",
      "metadata": {
        "id": "HUtEilqGfIJl",
        "colab_type": "text"
      },
      "source": [
        "# 建立ohlcv"
      ]
    },
    {
      "cell_type": "code",
      "metadata": {
        "id": "FdFhLZkYfKpN",
        "colab_type": "code",
        "colab": {}
      },
      "source": [
        "from finta import TA\n",
        "ohlcv = df[['Open','High','Low','Close','Volume']]\n",
        "ohlcv.columns = ['open','high','low','close','volume']"
      ],
      "execution_count": 0,
      "outputs": []
    },
    {
      "cell_type": "markdown",
      "metadata": {
        "id": "9K9RepGQwbQQ",
        "colab_type": "text"
      },
      "source": [
        "# 計算技術指標RSI"
      ]
    },
    {
      "cell_type": "code",
      "metadata": {
        "id": "ZZkpnqk9e0Rw",
        "colab_type": "code",
        "colab": {
          "base_uri": "https://localhost:8080/",
          "height": 655
        },
        "outputId": "721fc4e3-0ada-4c61-8011-ba06924ab837"
      },
      "source": [
        "df['RSI'] = TA.RSI(ohlcv)\n",
        "print(df['RSI'].describe())\n",
        "sns.distplot(df['RSI'].dropna())\n",
        "df.tail()"
      ],
      "execution_count": 9,
      "outputs": [
        {
          "output_type": "stream",
          "text": [
            "count    3731.000000\n",
            "mean       49.249225\n",
            "std        17.475784\n",
            "min         6.628164\n",
            "25%        36.096164\n",
            "50%        49.070554\n",
            "75%        60.827154\n",
            "max       100.000000\n",
            "Name: RSI, dtype: float64\n"
          ],
          "name": "stdout"
        },
        {
          "output_type": "execute_result",
          "data": {
            "text/html": [
              "<div>\n",
              "<style scoped>\n",
              "    .dataframe tbody tr th:only-of-type {\n",
              "        vertical-align: middle;\n",
              "    }\n",
              "\n",
              "    .dataframe tbody tr th {\n",
              "        vertical-align: top;\n",
              "    }\n",
              "\n",
              "    .dataframe thead th {\n",
              "        text-align: right;\n",
              "    }\n",
              "</style>\n",
              "<table border=\"1\" class=\"dataframe\">\n",
              "  <thead>\n",
              "    <tr style=\"text-align: right;\">\n",
              "      <th></th>\n",
              "      <th>High</th>\n",
              "      <th>Low</th>\n",
              "      <th>Open</th>\n",
              "      <th>Close</th>\n",
              "      <th>Volume</th>\n",
              "      <th>triple_barrier_signal</th>\n",
              "      <th>RSI</th>\n",
              "    </tr>\n",
              "    <tr>\n",
              "      <th>Date</th>\n",
              "      <th></th>\n",
              "      <th></th>\n",
              "      <th></th>\n",
              "      <th></th>\n",
              "      <th></th>\n",
              "      <th></th>\n",
              "      <th></th>\n",
              "    </tr>\n",
              "  </thead>\n",
              "  <tbody>\n",
              "    <tr>\n",
              "      <th>2019-09-02</th>\n",
              "      <td>8.78</td>\n",
              "      <td>8.74</td>\n",
              "      <td>8.75</td>\n",
              "      <td>8.76</td>\n",
              "      <td>2785057.0</td>\n",
              "      <td>0</td>\n",
              "      <td>30.856183</td>\n",
              "    </tr>\n",
              "    <tr>\n",
              "      <th>2019-09-03</th>\n",
              "      <td>8.79</td>\n",
              "      <td>8.75</td>\n",
              "      <td>8.75</td>\n",
              "      <td>8.77</td>\n",
              "      <td>2936767.0</td>\n",
              "      <td>0</td>\n",
              "      <td>33.111523</td>\n",
              "    </tr>\n",
              "    <tr>\n",
              "      <th>2019-09-04</th>\n",
              "      <td>8.85</td>\n",
              "      <td>8.76</td>\n",
              "      <td>8.77</td>\n",
              "      <td>8.85</td>\n",
              "      <td>3300443.0</td>\n",
              "      <td>0</td>\n",
              "      <td>48.590152</td>\n",
              "    </tr>\n",
              "    <tr>\n",
              "      <th>2019-09-05</th>\n",
              "      <td>8.90</td>\n",
              "      <td>8.85</td>\n",
              "      <td>8.87</td>\n",
              "      <td>8.86</td>\n",
              "      <td>2553843.0</td>\n",
              "      <td>0</td>\n",
              "      <td>50.250491</td>\n",
              "    </tr>\n",
              "    <tr>\n",
              "      <th>2019-09-06</th>\n",
              "      <td>8.91</td>\n",
              "      <td>8.87</td>\n",
              "      <td>8.89</td>\n",
              "      <td>8.90</td>\n",
              "      <td>2939239.0</td>\n",
              "      <td>0</td>\n",
              "      <td>56.704535</td>\n",
              "    </tr>\n",
              "  </tbody>\n",
              "</table>\n",
              "</div>"
            ],
            "text/plain": [
              "            High   Low  Open  ...     Volume  triple_barrier_signal        RSI\n",
              "Date                          ...                                             \n",
              "2019-09-02  8.78  8.74  8.75  ...  2785057.0                      0  30.856183\n",
              "2019-09-03  8.79  8.75  8.75  ...  2936767.0                      0  33.111523\n",
              "2019-09-04  8.85  8.76  8.77  ...  3300443.0                      0  48.590152\n",
              "2019-09-05  8.90  8.85  8.87  ...  2553843.0                      0  50.250491\n",
              "2019-09-06  8.91  8.87  8.89  ...  2939239.0                      0  56.704535\n",
              "\n",
              "[5 rows x 7 columns]"
            ]
          },
          "metadata": {
            "tags": []
          },
          "execution_count": 9
        },
        {
          "output_type": "display_data",
          "data": {
            "image/png": "[encoded data removed]",
            "text/plain": [
              "<Figure size 432x288 with 1 Axes>"
            ]
          },
          "metadata": {
            "tags": []
          }
        }
      ]
    },
    {
      "cell_type": "markdown",
      "metadata": {
        "id": "fZXZuQe93pJE",
        "colab_type": "text"
      },
      "source": [
        "# 計算威廉指標"
      ]
    },
    {
      "cell_type": "code",
      "metadata": {
        "id": "Q8_qx-dnfPJa",
        "colab_type": "code",
        "colab": {
          "base_uri": "https://localhost:8080/",
          "height": 655
        },
        "outputId": "b6fb2acf-1db7-48ff-b052-be56ee670272"
      },
      "source": [
        "df['Williams %R'] = TA.WILLIAMS(ohlcv)\n",
        "print(df['Williams %R'].describe())\n",
        "sns.distplot(df['Williams %R'].dropna())\n",
        "df.tail()"
      ],
      "execution_count": 10,
      "outputs": [
        {
          "output_type": "stream",
          "text": [
            "count    3528.000000\n",
            "mean      -51.264391\n",
            "std        30.587278\n",
            "min      -100.000000\n",
            "25%       -79.026795\n",
            "50%       -50.808455\n",
            "75%       -24.997491\n",
            "max        -0.000000\n",
            "Name: Williams %R, dtype: float64\n"
          ],
          "name": "stdout"
        },
        {
          "output_type": "execute_result",
          "data": {
            "text/html": [
              "<div>\n",
              "<style scoped>\n",
              "    .dataframe tbody tr th:only-of-type {\n",
              "        vertical-align: middle;\n",
              "    }\n",
              "\n",
              "    .dataframe tbody tr th {\n",
              "        vertical-align: top;\n",
              "    }\n",
              "\n",
              "    .dataframe thead th {\n",
              "        text-align: right;\n",
              "    }\n",
              "</style>\n",
              "<table border=\"1\" class=\"dataframe\">\n",
              "  <thead>\n",
              "    <tr style=\"text-align: right;\">\n",
              "      <th></th>\n",
              "      <th>High</th>\n",
              "      <th>Low</th>\n",
              "      <th>Open</th>\n",
              "      <th>Close</th>\n",
              "      <th>Volume</th>\n",
              "      <th>triple_barrier_signal</th>\n",
              "      <th>RSI</th>\n",
              "      <th>Williams %R</th>\n",
              "    </tr>\n",
              "    <tr>\n",
              "      <th>Date</th>\n",
              "      <th></th>\n",
              "      <th></th>\n",
              "      <th></th>\n",
              "      <th></th>\n",
              "      <th></th>\n",
              "      <th></th>\n",
              "      <th></th>\n",
              "      <th></th>\n",
              "    </tr>\n",
              "  </thead>\n",
              "  <tbody>\n",
              "    <tr>\n",
              "      <th>2019-09-02</th>\n",
              "      <td>8.78</td>\n",
              "      <td>8.74</td>\n",
              "      <td>8.75</td>\n",
              "      <td>8.76</td>\n",
              "      <td>2785057.0</td>\n",
              "      <td>0</td>\n",
              "      <td>30.856183</td>\n",
              "      <td>-72.727220</td>\n",
              "    </tr>\n",
              "    <tr>\n",
              "      <th>2019-09-03</th>\n",
              "      <td>8.79</td>\n",
              "      <td>8.75</td>\n",
              "      <td>8.75</td>\n",
              "      <td>8.77</td>\n",
              "      <td>2936767.0</td>\n",
              "      <td>0</td>\n",
              "      <td>33.111523</td>\n",
              "      <td>-68.749851</td>\n",
              "    </tr>\n",
              "    <tr>\n",
              "      <th>2019-09-04</th>\n",
              "      <td>8.85</td>\n",
              "      <td>8.76</td>\n",
              "      <td>8.77</td>\n",
              "      <td>8.85</td>\n",
              "      <td>3300443.0</td>\n",
              "      <td>0</td>\n",
              "      <td>48.590152</td>\n",
              "      <td>-43.749851</td>\n",
              "    </tr>\n",
              "    <tr>\n",
              "      <th>2019-09-05</th>\n",
              "      <td>8.90</td>\n",
              "      <td>8.85</td>\n",
              "      <td>8.87</td>\n",
              "      <td>8.86</td>\n",
              "      <td>2553843.0</td>\n",
              "      <td>0</td>\n",
              "      <td>50.250491</td>\n",
              "      <td>-40.625075</td>\n",
              "    </tr>\n",
              "    <tr>\n",
              "      <th>2019-09-06</th>\n",
              "      <td>8.91</td>\n",
              "      <td>8.87</td>\n",
              "      <td>8.89</td>\n",
              "      <td>8.90</td>\n",
              "      <td>2939239.0</td>\n",
              "      <td>0</td>\n",
              "      <td>56.704535</td>\n",
              "      <td>-28.125075</td>\n",
              "    </tr>\n",
              "  </tbody>\n",
              "</table>\n",
              "</div>"
            ],
            "text/plain": [
              "            High   Low  Open  ...  triple_barrier_signal        RSI  Williams %R\n",
              "Date                          ...                                               \n",
              "2019-09-02  8.78  8.74  8.75  ...                      0  30.856183   -72.727220\n",
              "2019-09-03  8.79  8.75  8.75  ...                      0  33.111523   -68.749851\n",
              "2019-09-04  8.85  8.76  8.77  ...                      0  48.590152   -43.749851\n",
              "2019-09-05  8.90  8.85  8.87  ...                      0  50.250491   -40.625075\n",
              "2019-09-06  8.91  8.87  8.89  ...                      0  56.704535   -28.125075\n",
              "\n",
              "[5 rows x 8 columns]"
            ]
          },
          "metadata": {
            "tags": []
          },
          "execution_count": 10
        },
        {
          "output_type": "display_data",
          "data": {
            "image/png": "[encoded data removed]",
            "text/plain": [
              "<Figure size 432x288 with 1 Axes>"
            ]
          },
          "metadata": {
            "tags": []
          }
        }
      ]
    },
    {
      "cell_type": "markdown",
      "metadata": {
        "id": "xK4jb6KTDdGa",
        "colab_type": "text"
      },
      "source": [
        "# SMA"
      ]
    },
    {
      "cell_type": "code",
      "metadata": {
        "id": "osETw-NkfgfL",
        "colab_type": "code",
        "outputId": "c28dc682-9543-4572-bb3a-84e283fe682e",
        "colab": {
          "base_uri": "https://localhost:8080/",
          "height": 655
        }
      },
      "source": [
        "df['SMA'] = TA.SMA(ohlcv)\n",
        "print(df['SMA'].describe())\n",
        "sns.distplot(df['SMA'].dropna())\n",
        "df.tail()"
      ],
      "execution_count": 11,
      "outputs": [
        {
          "output_type": "stream",
          "text": [
            "count    3693.000000\n",
            "mean       10.427921\n",
            "std         2.234280\n",
            "min         5.818921\n",
            "25%         9.116829\n",
            "50%         9.791427\n",
            "75%        11.622971\n",
            "max        18.684341\n",
            "Name: SMA, dtype: float64\n"
          ],
          "name": "stdout"
        },
        {
          "output_type": "execute_result",
          "data": {
            "text/html": [
              "<div>\n",
              "<style scoped>\n",
              "    .dataframe tbody tr th:only-of-type {\n",
              "        vertical-align: middle;\n",
              "    }\n",
              "\n",
              "    .dataframe tbody tr th {\n",
              "        vertical-align: top;\n",
              "    }\n",
              "\n",
              "    .dataframe thead th {\n",
              "        text-align: right;\n",
              "    }\n",
              "</style>\n",
              "<table border=\"1\" class=\"dataframe\">\n",
              "  <thead>\n",
              "    <tr style=\"text-align: right;\">\n",
              "      <th></th>\n",
              "      <th>High</th>\n",
              "      <th>Low</th>\n",
              "      <th>Open</th>\n",
              "      <th>Close</th>\n",
              "      <th>Volume</th>\n",
              "      <th>triple_barrier_signal</th>\n",
              "      <th>RSI</th>\n",
              "      <th>Williams %R</th>\n",
              "      <th>SMA</th>\n",
              "    </tr>\n",
              "    <tr>\n",
              "      <th>Date</th>\n",
              "      <th></th>\n",
              "      <th></th>\n",
              "      <th></th>\n",
              "      <th></th>\n",
              "      <th></th>\n",
              "      <th></th>\n",
              "      <th></th>\n",
              "      <th></th>\n",
              "      <th></th>\n",
              "    </tr>\n",
              "  </thead>\n",
              "  <tbody>\n",
              "    <tr>\n",
              "      <th>2019-09-02</th>\n",
              "      <td>8.78</td>\n",
              "      <td>8.74</td>\n",
              "      <td>8.75</td>\n",
              "      <td>8.76</td>\n",
              "      <td>2785057.0</td>\n",
              "      <td>0</td>\n",
              "      <td>30.856183</td>\n",
              "      <td>-72.727220</td>\n",
              "      <td>9.229268</td>\n",
              "    </tr>\n",
              "    <tr>\n",
              "      <th>2019-09-03</th>\n",
              "      <td>8.79</td>\n",
              "      <td>8.75</td>\n",
              "      <td>8.75</td>\n",
              "      <td>8.77</td>\n",
              "      <td>2936767.0</td>\n",
              "      <td>0</td>\n",
              "      <td>33.111523</td>\n",
              "      <td>-68.749851</td>\n",
              "      <td>9.212683</td>\n",
              "    </tr>\n",
              "    <tr>\n",
              "      <th>2019-09-04</th>\n",
              "      <td>8.85</td>\n",
              "      <td>8.76</td>\n",
              "      <td>8.77</td>\n",
              "      <td>8.85</td>\n",
              "      <td>3300443.0</td>\n",
              "      <td>0</td>\n",
              "      <td>48.590152</td>\n",
              "      <td>-43.749851</td>\n",
              "      <td>9.198049</td>\n",
              "    </tr>\n",
              "    <tr>\n",
              "      <th>2019-09-05</th>\n",
              "      <td>8.90</td>\n",
              "      <td>8.85</td>\n",
              "      <td>8.87</td>\n",
              "      <td>8.86</td>\n",
              "      <td>2553843.0</td>\n",
              "      <td>0</td>\n",
              "      <td>50.250491</td>\n",
              "      <td>-40.625075</td>\n",
              "      <td>9.183171</td>\n",
              "    </tr>\n",
              "    <tr>\n",
              "      <th>2019-09-06</th>\n",
              "      <td>8.91</td>\n",
              "      <td>8.87</td>\n",
              "      <td>8.89</td>\n",
              "      <td>8.90</td>\n",
              "      <td>2939239.0</td>\n",
              "      <td>0</td>\n",
              "      <td>56.704535</td>\n",
              "      <td>-28.125075</td>\n",
              "      <td>9.169512</td>\n",
              "    </tr>\n",
              "  </tbody>\n",
              "</table>\n",
              "</div>"
            ],
            "text/plain": [
              "            High   Low  Open  ...        RSI  Williams %R       SMA\n",
              "Date                          ...                                  \n",
              "2019-09-02  8.78  8.74  8.75  ...  30.856183   -72.727220  9.229268\n",
              "2019-09-03  8.79  8.75  8.75  ...  33.111523   -68.749851  9.212683\n",
              "2019-09-04  8.85  8.76  8.77  ...  48.590152   -43.749851  9.198049\n",
              "2019-09-05  8.90  8.85  8.87  ...  50.250491   -40.625075  9.183171\n",
              "2019-09-06  8.91  8.87  8.89  ...  56.704535   -28.125075  9.169512\n",
              "\n",
              "[5 rows x 9 columns]"
            ]
          },
          "metadata": {
            "tags": []
          },
          "execution_count": 11
        },
        {
          "output_type": "display_data",
          "data": {
            "image/png": "[encoded data removed]",
            "text/plain": [
              "<Figure size 432x288 with 1 Axes>"
            ]
          },
          "metadata": {
            "tags": []
          }
        }
      ]
    },
    {
      "cell_type": "markdown",
      "metadata": {
        "id": "a2Mf0ckEoHC_",
        "colab_type": "text"
      },
      "source": [
        "# EMA"
      ]
    },
    {
      "cell_type": "code",
      "metadata": {
        "id": "EQlFyJLeh4WA",
        "colab_type": "code",
        "outputId": "fdbd98c0-c711-4714-9910-1e1233eec804",
        "colab": {
          "base_uri": "https://localhost:8080/",
          "height": 655
        }
      },
      "source": [
        "df['EMA'] = TA.EMA(ohlcv)\n",
        "print(df['EMA'].describe())\n",
        "sns.distplot(df['EMA'])\n",
        "df.tail()"
      ],
      "execution_count": 12,
      "outputs": [
        {
          "output_type": "stream",
          "text": [
            "count    3733.000000\n",
            "mean       10.426814\n",
            "std         2.289545\n",
            "min         5.192988\n",
            "25%         9.088153\n",
            "50%         9.771216\n",
            "75%        11.641163\n",
            "max        19.301278\n",
            "Name: EMA, dtype: float64\n"
          ],
          "name": "stdout"
        },
        {
          "output_type": "execute_result",
          "data": {
            "text/html": [
              "<div>\n",
              "<style scoped>\n",
              "    .dataframe tbody tr th:only-of-type {\n",
              "        vertical-align: middle;\n",
              "    }\n",
              "\n",
              "    .dataframe tbody tr th {\n",
              "        vertical-align: top;\n",
              "    }\n",
              "\n",
              "    .dataframe thead th {\n",
              "        text-align: right;\n",
              "    }\n",
              "</style>\n",
              "<table border=\"1\" class=\"dataframe\">\n",
              "  <thead>\n",
              "    <tr style=\"text-align: right;\">\n",
              "      <th></th>\n",
              "      <th>High</th>\n",
              "      <th>Low</th>\n",
              "      <th>Open</th>\n",
              "      <th>Close</th>\n",
              "      <th>Volume</th>\n",
              "      <th>triple_barrier_signal</th>\n",
              "      <th>RSI</th>\n",
              "      <th>Williams %R</th>\n",
              "      <th>SMA</th>\n",
              "      <th>EMA</th>\n",
              "    </tr>\n",
              "    <tr>\n",
              "      <th>Date</th>\n",
              "      <th></th>\n",
              "      <th></th>\n",
              "      <th></th>\n",
              "      <th></th>\n",
              "      <th></th>\n",
              "      <th></th>\n",
              "      <th></th>\n",
              "      <th></th>\n",
              "      <th></th>\n",
              "      <th></th>\n",
              "    </tr>\n",
              "  </thead>\n",
              "  <tbody>\n",
              "    <tr>\n",
              "      <th>2019-09-02</th>\n",
              "      <td>8.78</td>\n",
              "      <td>8.74</td>\n",
              "      <td>8.75</td>\n",
              "      <td>8.76</td>\n",
              "      <td>2785057.0</td>\n",
              "      <td>0</td>\n",
              "      <td>30.856183</td>\n",
              "      <td>-72.727220</td>\n",
              "      <td>9.229268</td>\n",
              "      <td>8.810791</td>\n",
              "    </tr>\n",
              "    <tr>\n",
              "      <th>2019-09-03</th>\n",
              "      <td>8.79</td>\n",
              "      <td>8.75</td>\n",
              "      <td>8.75</td>\n",
              "      <td>8.77</td>\n",
              "      <td>2936767.0</td>\n",
              "      <td>0</td>\n",
              "      <td>33.111523</td>\n",
              "      <td>-68.749851</td>\n",
              "      <td>9.212683</td>\n",
              "      <td>8.802633</td>\n",
              "    </tr>\n",
              "    <tr>\n",
              "      <th>2019-09-04</th>\n",
              "      <td>8.85</td>\n",
              "      <td>8.76</td>\n",
              "      <td>8.77</td>\n",
              "      <td>8.85</td>\n",
              "      <td>3300443.0</td>\n",
              "      <td>0</td>\n",
              "      <td>48.590152</td>\n",
              "      <td>-43.749851</td>\n",
              "      <td>9.198049</td>\n",
              "      <td>8.812106</td>\n",
              "    </tr>\n",
              "    <tr>\n",
              "      <th>2019-09-05</th>\n",
              "      <td>8.90</td>\n",
              "      <td>8.85</td>\n",
              "      <td>8.87</td>\n",
              "      <td>8.86</td>\n",
              "      <td>2553843.0</td>\n",
              "      <td>0</td>\n",
              "      <td>50.250491</td>\n",
              "      <td>-40.625075</td>\n",
              "      <td>9.183171</td>\n",
              "      <td>8.821685</td>\n",
              "    </tr>\n",
              "    <tr>\n",
              "      <th>2019-09-06</th>\n",
              "      <td>8.91</td>\n",
              "      <td>8.87</td>\n",
              "      <td>8.89</td>\n",
              "      <td>8.90</td>\n",
              "      <td>2939239.0</td>\n",
              "      <td>0</td>\n",
              "      <td>56.704535</td>\n",
              "      <td>-28.125075</td>\n",
              "      <td>9.169512</td>\n",
              "      <td>8.837348</td>\n",
              "    </tr>\n",
              "  </tbody>\n",
              "</table>\n",
              "</div>"
            ],
            "text/plain": [
              "            High   Low  Open  Close  ...        RSI  Williams %R       SMA       EMA\n",
              "Date                                 ...                                            \n",
              "2019-09-02  8.78  8.74  8.75   8.76  ...  30.856183   -72.727220  9.229268  8.810791\n",
              "2019-09-03  8.79  8.75  8.75   8.77  ...  33.111523   -68.749851  9.212683  8.802633\n",
              "2019-09-04  8.85  8.76  8.77   8.85  ...  48.590152   -43.749851  9.198049  8.812106\n",
              "2019-09-05  8.90  8.85  8.87   8.86  ...  50.250491   -40.625075  9.183171  8.821685\n",
              "2019-09-06  8.91  8.87  8.89   8.90  ...  56.704535   -28.125075  9.169512  8.837348\n",
              "\n",
              "[5 rows x 10 columns]"
            ]
          },
          "metadata": {
            "tags": []
          },
          "execution_count": 12
        },
        {
          "output_type": "display_data",
          "data": {
            "image/png": "[encoded data removed]",
            "text/plain": [
              "<Figure size 432x288 with 1 Axes>"
            ]
          },
          "metadata": {
            "tags": []
          }
        }
      ]
    },
    {
      "cell_type": "markdown",
      "metadata": {
        "id": "wqkaWfQryV3W",
        "colab_type": "text"
      },
      "source": [
        "# WMA"
      ]
    },
    {
      "cell_type": "code",
      "metadata": {
        "id": "9Dw9scCSieLI",
        "colab_type": "code",
        "outputId": "be90aee8-e6f8-44c4-d14b-b5f276001cb8",
        "colab": {
          "base_uri": "https://localhost:8080/",
          "height": 709
        }
      },
      "source": [
        "df['WMA'] = TA.WMA(ohlcv)\n",
        "print(df['WMA'].describe())\n",
        "sns.distplot(df['WMA'].dropna())\n",
        "df.tail()"
      ],
      "execution_count": 13,
      "outputs": [
        {
          "output_type": "stream",
          "text": [
            "/usr/local/lib/python3.6/dist-packages/finta/finta.py:263: FutureWarning: Currently, 'apply' passes the values as ndarrays to the applied function. In the future, this will change to passing it as Series objects. You need to specify 'raw=True' to keep the current behaviour, and you can pass 'raw=False' to silence this warning\n",
            "  wma = close_.apply(linear(weights))\n"
          ],
          "name": "stderr"
        },
        {
          "output_type": "stream",
          "text": [
            "count    3725.000000\n",
            "mean       10.429424\n",
            "std         2.304348\n",
            "min         4.983435\n",
            "25%         9.075598\n",
            "50%         9.779856\n",
            "75%        11.655247\n",
            "max        19.484255\n",
            "Name: WMA, dtype: float64\n"
          ],
          "name": "stdout"
        },
        {
          "output_type": "execute_result",
          "data": {
            "text/html": [
              "<div>\n",
              "<style scoped>\n",
              "    .dataframe tbody tr th:only-of-type {\n",
              "        vertical-align: middle;\n",
              "    }\n",
              "\n",
              "    .dataframe tbody tr th {\n",
              "        vertical-align: top;\n",
              "    }\n",
              "\n",
              "    .dataframe thead th {\n",
              "        text-align: right;\n",
              "    }\n",
              "</style>\n",
              "<table border=\"1\" class=\"dataframe\">\n",
              "  <thead>\n",
              "    <tr style=\"text-align: right;\">\n",
              "      <th></th>\n",
              "      <th>High</th>\n",
              "      <th>Low</th>\n",
              "      <th>Open</th>\n",
              "      <th>Close</th>\n",
              "      <th>Volume</th>\n",
              "      <th>triple_barrier_signal</th>\n",
              "      <th>RSI</th>\n",
              "      <th>Williams %R</th>\n",
              "      <th>SMA</th>\n",
              "      <th>EMA</th>\n",
              "      <th>WMA</th>\n",
              "    </tr>\n",
              "    <tr>\n",
              "      <th>Date</th>\n",
              "      <th></th>\n",
              "      <th></th>\n",
              "      <th></th>\n",
              "      <th></th>\n",
              "      <th></th>\n",
              "      <th></th>\n",
              "      <th></th>\n",
              "      <th></th>\n",
              "      <th></th>\n",
              "      <th></th>\n",
              "      <th></th>\n",
              "    </tr>\n",
              "  </thead>\n",
              "  <tbody>\n",
              "    <tr>\n",
              "      <th>2019-09-02</th>\n",
              "      <td>8.78</td>\n",
              "      <td>8.74</td>\n",
              "      <td>8.75</td>\n",
              "      <td>8.76</td>\n",
              "      <td>2785057.0</td>\n",
              "      <td>0</td>\n",
              "      <td>30.856183</td>\n",
              "      <td>-72.727220</td>\n",
              "      <td>9.229268</td>\n",
              "      <td>8.810791</td>\n",
              "      <td>8.842000</td>\n",
              "    </tr>\n",
              "    <tr>\n",
              "      <th>2019-09-03</th>\n",
              "      <td>8.79</td>\n",
              "      <td>8.75</td>\n",
              "      <td>8.75</td>\n",
              "      <td>8.77</td>\n",
              "      <td>2936767.0</td>\n",
              "      <td>0</td>\n",
              "      <td>33.111523</td>\n",
              "      <td>-68.749851</td>\n",
              "      <td>9.212683</td>\n",
              "      <td>8.802633</td>\n",
              "      <td>8.825556</td>\n",
              "    </tr>\n",
              "    <tr>\n",
              "      <th>2019-09-04</th>\n",
              "      <td>8.85</td>\n",
              "      <td>8.76</td>\n",
              "      <td>8.77</td>\n",
              "      <td>8.85</td>\n",
              "      <td>3300443.0</td>\n",
              "      <td>0</td>\n",
              "      <td>48.590152</td>\n",
              "      <td>-43.749851</td>\n",
              "      <td>9.198049</td>\n",
              "      <td>8.812106</td>\n",
              "      <td>8.792889</td>\n",
              "    </tr>\n",
              "    <tr>\n",
              "      <th>2019-09-05</th>\n",
              "      <td>8.90</td>\n",
              "      <td>8.85</td>\n",
              "      <td>8.87</td>\n",
              "      <td>8.86</td>\n",
              "      <td>2553843.0</td>\n",
              "      <td>0</td>\n",
              "      <td>50.250491</td>\n",
              "      <td>-40.625075</td>\n",
              "      <td>9.183171</td>\n",
              "      <td>8.821685</td>\n",
              "      <td>8.773778</td>\n",
              "    </tr>\n",
              "    <tr>\n",
              "      <th>2019-09-06</th>\n",
              "      <td>8.91</td>\n",
              "      <td>8.87</td>\n",
              "      <td>8.89</td>\n",
              "      <td>8.90</td>\n",
              "      <td>2939239.0</td>\n",
              "      <td>0</td>\n",
              "      <td>56.704535</td>\n",
              "      <td>-28.125075</td>\n",
              "      <td>9.169512</td>\n",
              "      <td>8.837348</td>\n",
              "      <td>8.761778</td>\n",
              "    </tr>\n",
              "  </tbody>\n",
              "</table>\n",
              "</div>"
            ],
            "text/plain": [
              "            High   Low  Open  Close  ...  Williams %R       SMA       EMA       WMA\n",
              "Date                                 ...                                           \n",
              "2019-09-02  8.78  8.74  8.75   8.76  ...   -72.727220  9.229268  8.810791  8.842000\n",
              "2019-09-03  8.79  8.75  8.75   8.77  ...   -68.749851  9.212683  8.802633  8.825556\n",
              "2019-09-04  8.85  8.76  8.77   8.85  ...   -43.749851  9.198049  8.812106  8.792889\n",
              "2019-09-05  8.90  8.85  8.87   8.86  ...   -40.625075  9.183171  8.821685  8.773778\n",
              "2019-09-06  8.91  8.87  8.89   8.90  ...   -28.125075  9.169512  8.837348  8.761778\n",
              "\n",
              "[5 rows x 11 columns]"
            ]
          },
          "metadata": {
            "tags": []
          },
          "execution_count": 13
        },
        {
          "output_type": "display_data",
          "data": {
            "image/png": "[encoded data removed]",
            "text/plain": [
              "<Figure size 432x288 with 1 Axes>"
            ]
          },
          "metadata": {
            "tags": []
          }
        }
      ]
    },
    {
      "cell_type": "markdown",
      "metadata": {
        "id": "HNC131ghyrF1",
        "colab_type": "text"
      },
      "source": [
        "# HMA"
      ]
    },
    {
      "cell_type": "code",
      "metadata": {
        "id": "b02O6Yevi6mN",
        "colab_type": "code",
        "outputId": "554cef0e-7d9f-4bd5-b8f5-e09553644ec5",
        "colab": {
          "base_uri": "https://localhost:8080/",
          "height": 813
        }
      },
      "source": [
        "df['HMA'] = TA.HMA(ohlcv)\n",
        "print(df['HMA'].describe())\n",
        "sns.distplot(df['HMA'].dropna())\n",
        "df.tail()"
      ],
      "execution_count": 14,
      "outputs": [
        {
          "output_type": "stream",
          "text": [
            "/usr/local/lib/python3.6/dist-packages/finta/finta.py:263: FutureWarning: Currently, 'apply' passes the values as ndarrays to the applied function. In the future, this will change to passing it as Series objects. You need to specify 'raw=True' to keep the current behaviour, and you can pass 'raw=False' to silence this warning\n",
            "  wma = close_.apply(linear(weights))\n",
            "/usr/local/lib/python3.6/dist-packages/finta/finta.py:285: SettingWithCopyWarning: \n",
            "A value is trying to be set on a copy of a slice from a DataFrame.\n",
            "Try using .loc[row_indexer,col_indexer] = value instead\n",
            "\n",
            "See the caveats in the documentation: http://pandas.pydata.org/pandas-docs/stable/indexing.html#indexing-view-versus-copy\n",
            "  ohlc['deltawma'] = 2 * wmaf - wmas\n"
          ],
          "name": "stderr"
        },
        {
          "output_type": "stream",
          "text": [
            "count    3730.000000\n",
            "mean       10.427445\n",
            "std         2.312638\n",
            "min         4.694727\n",
            "25%         9.057477\n",
            "50%         9.766360\n",
            "75%        11.612145\n",
            "max        19.648570\n",
            "Name: HMA, dtype: float64\n"
          ],
          "name": "stdout"
        },
        {
          "output_type": "execute_result",
          "data": {
            "text/html": [
              "<div>\n",
              "<style scoped>\n",
              "    .dataframe tbody tr th:only-of-type {\n",
              "        vertical-align: middle;\n",
              "    }\n",
              "\n",
              "    .dataframe tbody tr th {\n",
              "        vertical-align: top;\n",
              "    }\n",
              "\n",
              "    .dataframe thead th {\n",
              "        text-align: right;\n",
              "    }\n",
              "</style>\n",
              "<table border=\"1\" class=\"dataframe\">\n",
              "  <thead>\n",
              "    <tr style=\"text-align: right;\">\n",
              "      <th></th>\n",
              "      <th>High</th>\n",
              "      <th>Low</th>\n",
              "      <th>Open</th>\n",
              "      <th>Close</th>\n",
              "      <th>Volume</th>\n",
              "      <th>triple_barrier_signal</th>\n",
              "      <th>RSI</th>\n",
              "      <th>Williams %R</th>\n",
              "      <th>SMA</th>\n",
              "      <th>EMA</th>\n",
              "      <th>WMA</th>\n",
              "      <th>HMA</th>\n",
              "    </tr>\n",
              "    <tr>\n",
              "      <th>Date</th>\n",
              "      <th></th>\n",
              "      <th></th>\n",
              "      <th></th>\n",
              "      <th></th>\n",
              "      <th></th>\n",
              "      <th></th>\n",
              "      <th></th>\n",
              "      <th></th>\n",
              "      <th></th>\n",
              "      <th></th>\n",
              "      <th></th>\n",
              "      <th></th>\n",
              "    </tr>\n",
              "  </thead>\n",
              "  <tbody>\n",
              "    <tr>\n",
              "      <th>2019-09-02</th>\n",
              "      <td>8.78</td>\n",
              "      <td>8.74</td>\n",
              "      <td>8.75</td>\n",
              "      <td>8.76</td>\n",
              "      <td>2785057.0</td>\n",
              "      <td>0</td>\n",
              "      <td>30.856183</td>\n",
              "      <td>-72.727220</td>\n",
              "      <td>9.229268</td>\n",
              "      <td>8.810791</td>\n",
              "      <td>8.842000</td>\n",
              "      <td>8.751</td>\n",
              "    </tr>\n",
              "    <tr>\n",
              "      <th>2019-09-03</th>\n",
              "      <td>8.79</td>\n",
              "      <td>8.75</td>\n",
              "      <td>8.75</td>\n",
              "      <td>8.77</td>\n",
              "      <td>2936767.0</td>\n",
              "      <td>0</td>\n",
              "      <td>33.111523</td>\n",
              "      <td>-68.749851</td>\n",
              "      <td>9.212683</td>\n",
              "      <td>8.802633</td>\n",
              "      <td>8.825556</td>\n",
              "      <td>8.754</td>\n",
              "    </tr>\n",
              "    <tr>\n",
              "      <th>2019-09-04</th>\n",
              "      <td>8.85</td>\n",
              "      <td>8.76</td>\n",
              "      <td>8.77</td>\n",
              "      <td>8.85</td>\n",
              "      <td>3300443.0</td>\n",
              "      <td>0</td>\n",
              "      <td>48.590152</td>\n",
              "      <td>-43.749851</td>\n",
              "      <td>9.198049</td>\n",
              "      <td>8.812106</td>\n",
              "      <td>8.792889</td>\n",
              "      <td>8.767</td>\n",
              "    </tr>\n",
              "    <tr>\n",
              "      <th>2019-09-05</th>\n",
              "      <td>8.90</td>\n",
              "      <td>8.85</td>\n",
              "      <td>8.87</td>\n",
              "      <td>8.86</td>\n",
              "      <td>2553843.0</td>\n",
              "      <td>0</td>\n",
              "      <td>50.250491</td>\n",
              "      <td>-40.625075</td>\n",
              "      <td>9.183171</td>\n",
              "      <td>8.821685</td>\n",
              "      <td>8.773778</td>\n",
              "      <td>8.791</td>\n",
              "    </tr>\n",
              "    <tr>\n",
              "      <th>2019-09-06</th>\n",
              "      <td>8.91</td>\n",
              "      <td>8.87</td>\n",
              "      <td>8.89</td>\n",
              "      <td>8.90</td>\n",
              "      <td>2939239.0</td>\n",
              "      <td>0</td>\n",
              "      <td>56.704535</td>\n",
              "      <td>-28.125075</td>\n",
              "      <td>9.169512</td>\n",
              "      <td>8.837348</td>\n",
              "      <td>8.761778</td>\n",
              "      <td>8.825</td>\n",
              "    </tr>\n",
              "  </tbody>\n",
              "</table>\n",
              "</div>"
            ],
            "text/plain": [
              "            High   Low  Open  Close  ...       SMA       EMA       WMA    HMA\n",
              "Date                                 ...                                     \n",
              "2019-09-02  8.78  8.74  8.75   8.76  ...  9.229268  8.810791  8.842000  8.751\n",
              "2019-09-03  8.79  8.75  8.75   8.77  ...  9.212683  8.802633  8.825556  8.754\n",
              "2019-09-04  8.85  8.76  8.77   8.85  ...  9.198049  8.812106  8.792889  8.767\n",
              "2019-09-05  8.90  8.85  8.87   8.86  ...  9.183171  8.821685  8.773778  8.791\n",
              "2019-09-06  8.91  8.87  8.89   8.90  ...  9.169512  8.837348  8.761778  8.825\n",
              "\n",
              "[5 rows x 12 columns]"
            ]
          },
          "metadata": {
            "tags": []
          },
          "execution_count": 14
        },
        {
          "output_type": "display_data",
          "data": {
            "image/png": "[encoded data removed]",
            "text/plain": [
              "<Figure size 432x288 with 1 Axes>"
            ]
          },
          "metadata": {
            "tags": []
          }
        }
      ]
    },
    {
      "cell_type": "markdown",
      "metadata": {
        "id": "ch7SZ7aFjCit",
        "colab_type": "text"
      },
      "source": [
        "# TEMA"
      ]
    },
    {
      "cell_type": "code",
      "metadata": {
        "id": "GeS0aHxZjFtA",
        "colab_type": "code",
        "outputId": "68d7a746-851a-4a7c-857d-faf625a04bee",
        "colab": {
          "base_uri": "https://localhost:8080/",
          "height": 655
        }
      },
      "source": [
        "df['TEMA'] = TA.TEMA(ohlcv)\n",
        "print(df['TEMA'].describe())\n",
        "sns.distplot(df['TEMA'].dropna())\n",
        "df.tail()"
      ],
      "execution_count": 15,
      "outputs": [
        {
          "output_type": "stream",
          "text": [
            "count    3733.000000\n",
            "mean       10.426220\n",
            "std         2.324845\n",
            "min         4.540239\n",
            "25%         9.047873\n",
            "50%         9.755676\n",
            "75%        11.578863\n",
            "max        19.964232\n",
            "Name: TEMA, dtype: float64\n"
          ],
          "name": "stdout"
        },
        {
          "output_type": "execute_result",
          "data": {
            "text/html": [
              "<div>\n",
              "<style scoped>\n",
              "    .dataframe tbody tr th:only-of-type {\n",
              "        vertical-align: middle;\n",
              "    }\n",
              "\n",
              "    .dataframe tbody tr th {\n",
              "        vertical-align: top;\n",
              "    }\n",
              "\n",
              "    .dataframe thead th {\n",
              "        text-align: right;\n",
              "    }\n",
              "</style>\n",
              "<table border=\"1\" class=\"dataframe\">\n",
              "  <thead>\n",
              "    <tr style=\"text-align: right;\">\n",
              "      <th></th>\n",
              "      <th>High</th>\n",
              "      <th>Low</th>\n",
              "      <th>Open</th>\n",
              "      <th>Close</th>\n",
              "      <th>Volume</th>\n",
              "      <th>triple_barrier_signal</th>\n",
              "      <th>RSI</th>\n",
              "      <th>Williams %R</th>\n",
              "      <th>SMA</th>\n",
              "      <th>EMA</th>\n",
              "      <th>WMA</th>\n",
              "      <th>HMA</th>\n",
              "      <th>TEMA</th>\n",
              "    </tr>\n",
              "    <tr>\n",
              "      <th>Date</th>\n",
              "      <th></th>\n",
              "      <th></th>\n",
              "      <th></th>\n",
              "      <th></th>\n",
              "      <th></th>\n",
              "      <th></th>\n",
              "      <th></th>\n",
              "      <th></th>\n",
              "      <th></th>\n",
              "      <th></th>\n",
              "      <th></th>\n",
              "      <th></th>\n",
              "      <th></th>\n",
              "    </tr>\n",
              "  </thead>\n",
              "  <tbody>\n",
              "    <tr>\n",
              "      <th>2019-09-02</th>\n",
              "      <td>8.78</td>\n",
              "      <td>8.74</td>\n",
              "      <td>8.75</td>\n",
              "      <td>8.76</td>\n",
              "      <td>2785057.0</td>\n",
              "      <td>0</td>\n",
              "      <td>30.856183</td>\n",
              "      <td>-72.727220</td>\n",
              "      <td>9.229268</td>\n",
              "      <td>8.810791</td>\n",
              "      <td>8.842000</td>\n",
              "      <td>8.751</td>\n",
              "      <td>8.734693</td>\n",
              "    </tr>\n",
              "    <tr>\n",
              "      <th>2019-09-03</th>\n",
              "      <td>8.79</td>\n",
              "      <td>8.75</td>\n",
              "      <td>8.75</td>\n",
              "      <td>8.77</td>\n",
              "      <td>2936767.0</td>\n",
              "      <td>0</td>\n",
              "      <td>33.111523</td>\n",
              "      <td>-68.749851</td>\n",
              "      <td>9.212683</td>\n",
              "      <td>8.802633</td>\n",
              "      <td>8.825556</td>\n",
              "      <td>8.754</td>\n",
              "      <td>8.745081</td>\n",
              "    </tr>\n",
              "    <tr>\n",
              "      <th>2019-09-04</th>\n",
              "      <td>8.85</td>\n",
              "      <td>8.76</td>\n",
              "      <td>8.77</td>\n",
              "      <td>8.85</td>\n",
              "      <td>3300443.0</td>\n",
              "      <td>0</td>\n",
              "      <td>48.590152</td>\n",
              "      <td>-43.749851</td>\n",
              "      <td>9.198049</td>\n",
              "      <td>8.812106</td>\n",
              "      <td>8.792889</td>\n",
              "      <td>8.767</td>\n",
              "      <td>8.792810</td>\n",
              "    </tr>\n",
              "    <tr>\n",
              "      <th>2019-09-05</th>\n",
              "      <td>8.90</td>\n",
              "      <td>8.85</td>\n",
              "      <td>8.87</td>\n",
              "      <td>8.86</td>\n",
              "      <td>2553843.0</td>\n",
              "      <td>0</td>\n",
              "      <td>50.250491</td>\n",
              "      <td>-40.625075</td>\n",
              "      <td>9.183171</td>\n",
              "      <td>8.821685</td>\n",
              "      <td>8.773778</td>\n",
              "      <td>8.791</td>\n",
              "      <td>8.829311</td>\n",
              "    </tr>\n",
              "    <tr>\n",
              "      <th>2019-09-06</th>\n",
              "      <td>8.91</td>\n",
              "      <td>8.87</td>\n",
              "      <td>8.89</td>\n",
              "      <td>8.90</td>\n",
              "      <td>2939239.0</td>\n",
              "      <td>0</td>\n",
              "      <td>56.704535</td>\n",
              "      <td>-28.125075</td>\n",
              "      <td>9.169512</td>\n",
              "      <td>8.837348</td>\n",
              "      <td>8.761778</td>\n",
              "      <td>8.825</td>\n",
              "      <td>8.872194</td>\n",
              "    </tr>\n",
              "  </tbody>\n",
              "</table>\n",
              "</div>"
            ],
            "text/plain": [
              "            High   Low  Open  Close  ...       EMA       WMA    HMA      TEMA\n",
              "Date                                 ...                                     \n",
              "2019-09-02  8.78  8.74  8.75   8.76  ...  8.810791  8.842000  8.751  8.734693\n",
              "2019-09-03  8.79  8.75  8.75   8.77  ...  8.802633  8.825556  8.754  8.745081\n",
              "2019-09-04  8.85  8.76  8.77   8.85  ...  8.812106  8.792889  8.767  8.792810\n",
              "2019-09-05  8.90  8.85  8.87   8.86  ...  8.821685  8.773778  8.791  8.829311\n",
              "2019-09-06  8.91  8.87  8.89   8.90  ...  8.837348  8.761778  8.825  8.872194\n",
              "\n",
              "[5 rows x 13 columns]"
            ]
          },
          "metadata": {
            "tags": []
          },
          "execution_count": 15
        },
        {
          "output_type": "display_data",
          "data": {
            "image/png": "[encoded data removed]",
            "text/plain": [
              "<Figure size 432x288 with 1 Axes>"
            ]
          },
          "metadata": {
            "tags": []
          }
        }
      ]
    },
    {
      "cell_type": "markdown",
      "metadata": {
        "id": "EbMrqw5jjZaa",
        "colab_type": "text"
      },
      "source": [
        "# CCI"
      ]
    },
    {
      "cell_type": "code",
      "metadata": {
        "id": "WBfeDdkUjZiP",
        "colab_type": "code",
        "outputId": "b6ad1421-8230-4d8f-87ec-6493ec3500a9",
        "colab": {
          "base_uri": "https://localhost:8080/",
          "height": 741
        }
      },
      "source": [
        "df['CCI'] = TA.CCI(ohlcv)\n",
        "print(df['CCI'].describe())\n",
        "sns.distplot(df['CCI'].dropna())\n",
        "df.tail()"
      ],
      "execution_count": 16,
      "outputs": [
        {
          "output_type": "stream",
          "text": [
            "count    3732.000000\n",
            "mean        1.477523\n",
            "std        87.234470\n",
            "min      -257.649608\n",
            "25%       -67.017523\n",
            "50%         0.000001\n",
            "75%        68.442094\n",
            "max       283.235277\n",
            "Name: CCI, dtype: float64\n"
          ],
          "name": "stdout"
        },
        {
          "output_type": "execute_result",
          "data": {
            "text/html": [
              "<div>\n",
              "<style scoped>\n",
              "    .dataframe tbody tr th:only-of-type {\n",
              "        vertical-align: middle;\n",
              "    }\n",
              "\n",
              "    .dataframe tbody tr th {\n",
              "        vertical-align: top;\n",
              "    }\n",
              "\n",
              "    .dataframe thead th {\n",
              "        text-align: right;\n",
              "    }\n",
              "</style>\n",
              "<table border=\"1\" class=\"dataframe\">\n",
              "  <thead>\n",
              "    <tr style=\"text-align: right;\">\n",
              "      <th></th>\n",
              "      <th>High</th>\n",
              "      <th>Low</th>\n",
              "      <th>Open</th>\n",
              "      <th>Close</th>\n",
              "      <th>Volume</th>\n",
              "      <th>triple_barrier_signal</th>\n",
              "      <th>RSI</th>\n",
              "      <th>Williams %R</th>\n",
              "      <th>SMA</th>\n",
              "      <th>EMA</th>\n",
              "      <th>WMA</th>\n",
              "      <th>HMA</th>\n",
              "      <th>TEMA</th>\n",
              "      <th>CCI</th>\n",
              "    </tr>\n",
              "    <tr>\n",
              "      <th>Date</th>\n",
              "      <th></th>\n",
              "      <th></th>\n",
              "      <th></th>\n",
              "      <th></th>\n",
              "      <th></th>\n",
              "      <th></th>\n",
              "      <th></th>\n",
              "      <th></th>\n",
              "      <th></th>\n",
              "      <th></th>\n",
              "      <th></th>\n",
              "      <th></th>\n",
              "      <th></th>\n",
              "      <th></th>\n",
              "    </tr>\n",
              "  </thead>\n",
              "  <tbody>\n",
              "    <tr>\n",
              "      <th>2019-09-02</th>\n",
              "      <td>8.78</td>\n",
              "      <td>8.74</td>\n",
              "      <td>8.75</td>\n",
              "      <td>8.76</td>\n",
              "      <td>2785057.0</td>\n",
              "      <td>0</td>\n",
              "      <td>30.856183</td>\n",
              "      <td>-72.727220</td>\n",
              "      <td>9.229268</td>\n",
              "      <td>8.810791</td>\n",
              "      <td>8.842000</td>\n",
              "      <td>8.751</td>\n",
              "      <td>8.734693</td>\n",
              "      <td>-66.301005</td>\n",
              "    </tr>\n",
              "    <tr>\n",
              "      <th>2019-09-03</th>\n",
              "      <td>8.79</td>\n",
              "      <td>8.75</td>\n",
              "      <td>8.75</td>\n",
              "      <td>8.77</td>\n",
              "      <td>2936767.0</td>\n",
              "      <td>0</td>\n",
              "      <td>33.111523</td>\n",
              "      <td>-68.749851</td>\n",
              "      <td>9.212683</td>\n",
              "      <td>8.802633</td>\n",
              "      <td>8.825556</td>\n",
              "      <td>8.754</td>\n",
              "      <td>8.745081</td>\n",
              "      <td>-58.212695</td>\n",
              "    </tr>\n",
              "    <tr>\n",
              "      <th>2019-09-04</th>\n",
              "      <td>8.85</td>\n",
              "      <td>8.76</td>\n",
              "      <td>8.77</td>\n",
              "      <td>8.85</td>\n",
              "      <td>3300443.0</td>\n",
              "      <td>0</td>\n",
              "      <td>48.590152</td>\n",
              "      <td>-43.749851</td>\n",
              "      <td>9.198049</td>\n",
              "      <td>8.812106</td>\n",
              "      <td>8.792889</td>\n",
              "      <td>8.767</td>\n",
              "      <td>8.792810</td>\n",
              "      <td>-32.397688</td>\n",
              "    </tr>\n",
              "    <tr>\n",
              "      <th>2019-09-05</th>\n",
              "      <td>8.90</td>\n",
              "      <td>8.85</td>\n",
              "      <td>8.87</td>\n",
              "      <td>8.86</td>\n",
              "      <td>2553843.0</td>\n",
              "      <td>0</td>\n",
              "      <td>50.250491</td>\n",
              "      <td>-40.625075</td>\n",
              "      <td>9.183171</td>\n",
              "      <td>8.821685</td>\n",
              "      <td>8.773778</td>\n",
              "      <td>8.791</td>\n",
              "      <td>8.829311</td>\n",
              "      <td>-2.993125</td>\n",
              "    </tr>\n",
              "    <tr>\n",
              "      <th>2019-09-06</th>\n",
              "      <td>8.91</td>\n",
              "      <td>8.87</td>\n",
              "      <td>8.89</td>\n",
              "      <td>8.90</td>\n",
              "      <td>2939239.0</td>\n",
              "      <td>0</td>\n",
              "      <td>56.704535</td>\n",
              "      <td>-28.125075</td>\n",
              "      <td>9.169512</td>\n",
              "      <td>8.837348</td>\n",
              "      <td>8.761778</td>\n",
              "      <td>8.825</td>\n",
              "      <td>8.872194</td>\n",
              "      <td>29.699708</td>\n",
              "    </tr>\n",
              "  </tbody>\n",
              "</table>\n",
              "</div>"
            ],
            "text/plain": [
              "            High   Low  Open  Close  ...       WMA    HMA      TEMA        CCI\n",
              "Date                                 ...                                      \n",
              "2019-09-02  8.78  8.74  8.75   8.76  ...  8.842000  8.751  8.734693 -66.301005\n",
              "2019-09-03  8.79  8.75  8.75   8.77  ...  8.825556  8.754  8.745081 -58.212695\n",
              "2019-09-04  8.85  8.76  8.77   8.85  ...  8.792889  8.767  8.792810 -32.397688\n",
              "2019-09-05  8.90  8.85  8.87   8.86  ...  8.773778  8.791  8.829311  -2.993125\n",
              "2019-09-06  8.91  8.87  8.89   8.90  ...  8.761778  8.825  8.872194  29.699708\n",
              "\n",
              "[5 rows x 14 columns]"
            ]
          },
          "metadata": {
            "tags": []
          },
          "execution_count": 16
        },
        {
          "output_type": "display_data",
          "data": {
            "image/png": "[encoded data removed]",
            "text/plain": [
              "<Figure size 432x288 with 1 Axes>"
            ]
          },
          "metadata": {
            "tags": []
          }
        }
      ]
    },
    {
      "cell_type": "markdown",
      "metadata": {
        "id": "G8rAJ61cjkJ4",
        "colab_type": "text"
      },
      "source": [
        "# CMO"
      ]
    },
    {
      "cell_type": "code",
      "metadata": {
        "id": "P9EispJmjkj_",
        "colab_type": "code",
        "outputId": "64cf3198-c29e-4297-a56a-49439a515f3a",
        "colab": {
          "base_uri": "https://localhost:8080/",
          "height": 779
        }
      },
      "source": [
        "df['CMO'] = TA.CMO(ohlcv)\n",
        "print(df['CMO'].describe())\n",
        "sns.distplot(df['CMO'].dropna())\n",
        "df.tail()"
      ],
      "execution_count": 17,
      "outputs": [
        {
          "output_type": "stream",
          "text": [
            "count    3527.000000\n",
            "mean        0.977693\n",
            "std        42.734722\n",
            "min      -100.000000\n",
            "25%       -29.785376\n",
            "50%         0.000000\n",
            "75%        31.999969\n",
            "max       100.000000\n",
            "Name: CMO, dtype: float64\n"
          ],
          "name": "stdout"
        },
        {
          "output_type": "execute_result",
          "data": {
            "text/html": [
              "<div>\n",
              "<style scoped>\n",
              "    .dataframe tbody tr th:only-of-type {\n",
              "        vertical-align: middle;\n",
              "    }\n",
              "\n",
              "    .dataframe tbody tr th {\n",
              "        vertical-align: top;\n",
              "    }\n",
              "\n",
              "    .dataframe thead th {\n",
              "        text-align: right;\n",
              "    }\n",
              "</style>\n",
              "<table border=\"1\" class=\"dataframe\">\n",
              "  <thead>\n",
              "    <tr style=\"text-align: right;\">\n",
              "      <th></th>\n",
              "      <th>High</th>\n",
              "      <th>Low</th>\n",
              "      <th>Open</th>\n",
              "      <th>Close</th>\n",
              "      <th>Volume</th>\n",
              "      <th>triple_barrier_signal</th>\n",
              "      <th>RSI</th>\n",
              "      <th>Williams %R</th>\n",
              "      <th>SMA</th>\n",
              "      <th>EMA</th>\n",
              "      <th>WMA</th>\n",
              "      <th>HMA</th>\n",
              "      <th>TEMA</th>\n",
              "      <th>CCI</th>\n",
              "      <th>CMO</th>\n",
              "    </tr>\n",
              "    <tr>\n",
              "      <th>Date</th>\n",
              "      <th></th>\n",
              "      <th></th>\n",
              "      <th></th>\n",
              "      <th></th>\n",
              "      <th></th>\n",
              "      <th></th>\n",
              "      <th></th>\n",
              "      <th></th>\n",
              "      <th></th>\n",
              "      <th></th>\n",
              "      <th></th>\n",
              "      <th></th>\n",
              "      <th></th>\n",
              "      <th></th>\n",
              "      <th></th>\n",
              "    </tr>\n",
              "  </thead>\n",
              "  <tbody>\n",
              "    <tr>\n",
              "      <th>2019-09-02</th>\n",
              "      <td>8.78</td>\n",
              "      <td>8.74</td>\n",
              "      <td>8.75</td>\n",
              "      <td>8.76</td>\n",
              "      <td>2785057.0</td>\n",
              "      <td>0</td>\n",
              "      <td>30.856183</td>\n",
              "      <td>-72.727220</td>\n",
              "      <td>9.229268</td>\n",
              "      <td>8.810791</td>\n",
              "      <td>8.842000</td>\n",
              "      <td>8.751</td>\n",
              "      <td>8.734693</td>\n",
              "      <td>-66.301005</td>\n",
              "      <td>-38.888859</td>\n",
              "    </tr>\n",
              "    <tr>\n",
              "      <th>2019-09-03</th>\n",
              "      <td>8.79</td>\n",
              "      <td>8.75</td>\n",
              "      <td>8.75</td>\n",
              "      <td>8.77</td>\n",
              "      <td>2936767.0</td>\n",
              "      <td>0</td>\n",
              "      <td>33.111523</td>\n",
              "      <td>-68.749851</td>\n",
              "      <td>9.212683</td>\n",
              "      <td>8.802633</td>\n",
              "      <td>8.825556</td>\n",
              "      <td>8.754</td>\n",
              "      <td>8.745081</td>\n",
              "      <td>-58.212695</td>\n",
              "      <td>-31.428525</td>\n",
              "    </tr>\n",
              "    <tr>\n",
              "      <th>2019-09-04</th>\n",
              "      <td>8.85</td>\n",
              "      <td>8.76</td>\n",
              "      <td>8.77</td>\n",
              "      <td>8.85</td>\n",
              "      <td>3300443.0</td>\n",
              "      <td>0</td>\n",
              "      <td>48.590152</td>\n",
              "      <td>-43.749851</td>\n",
              "      <td>9.198049</td>\n",
              "      <td>8.812106</td>\n",
              "      <td>8.792889</td>\n",
              "      <td>8.767</td>\n",
              "      <td>8.792810</td>\n",
              "      <td>-32.397688</td>\n",
              "      <td>-27.777645</td>\n",
              "    </tr>\n",
              "    <tr>\n",
              "      <th>2019-09-05</th>\n",
              "      <td>8.90</td>\n",
              "      <td>8.85</td>\n",
              "      <td>8.87</td>\n",
              "      <td>8.86</td>\n",
              "      <td>2553843.0</td>\n",
              "      <td>0</td>\n",
              "      <td>50.250491</td>\n",
              "      <td>-40.625075</td>\n",
              "      <td>9.183171</td>\n",
              "      <td>8.821685</td>\n",
              "      <td>8.773778</td>\n",
              "      <td>8.791</td>\n",
              "      <td>8.829311</td>\n",
              "      <td>-2.993125</td>\n",
              "      <td>-6.666836</td>\n",
              "    </tr>\n",
              "    <tr>\n",
              "      <th>2019-09-06</th>\n",
              "      <td>8.91</td>\n",
              "      <td>8.87</td>\n",
              "      <td>8.89</td>\n",
              "      <td>8.90</td>\n",
              "      <td>2939239.0</td>\n",
              "      <td>0</td>\n",
              "      <td>56.704535</td>\n",
              "      <td>-28.125075</td>\n",
              "      <td>9.169512</td>\n",
              "      <td>8.837348</td>\n",
              "      <td>8.761778</td>\n",
              "      <td>8.825</td>\n",
              "      <td>8.872194</td>\n",
              "      <td>29.699708</td>\n",
              "      <td>16.128814</td>\n",
              "    </tr>\n",
              "  </tbody>\n",
              "</table>\n",
              "</div>"
            ],
            "text/plain": [
              "            High   Low  Open  Close  ...    HMA      TEMA        CCI        CMO\n",
              "Date                                 ...                                       \n",
              "2019-09-02  8.78  8.74  8.75   8.76  ...  8.751  8.734693 -66.301005 -38.888859\n",
              "2019-09-03  8.79  8.75  8.75   8.77  ...  8.754  8.745081 -58.212695 -31.428525\n",
              "2019-09-04  8.85  8.76  8.77   8.85  ...  8.767  8.792810 -32.397688 -27.777645\n",
              "2019-09-05  8.90  8.85  8.87   8.86  ...  8.791  8.829311  -2.993125  -6.666836\n",
              "2019-09-06  8.91  8.87  8.89   8.90  ...  8.825  8.872194  29.699708  16.128814\n",
              "\n",
              "[5 rows x 15 columns]"
            ]
          },
          "metadata": {
            "tags": []
          },
          "execution_count": 17
        },
        {
          "output_type": "display_data",
          "data": {
            "image/png": "[encoded data removed]",
            "text/plain": [
              "<Figure size 432x288 with 1 Axes>"
            ]
          },
          "metadata": {
            "tags": []
          }
        }
      ]
    },
    {
      "cell_type": "markdown",
      "metadata": {
        "id": "35qI_9gZjsR0",
        "colab_type": "text"
      },
      "source": [
        "# MACD"
      ]
    },
    {
      "cell_type": "code",
      "metadata": {
        "id": "5QG4lBEfjsZb",
        "colab_type": "code",
        "outputId": "7b64a4a6-c4d3-4605-d0b5-c4dc4aa93392",
        "colab": {
          "base_uri": "https://localhost:8080/",
          "height": 779
        }
      },
      "source": [
        "df['MACD'] = TA.MACD(ohlcv)['MACD'] - TA.MACD(ohlcv)['SIGNAL']\n",
        "print(df['MACD'].describe())\n",
        "sns.distplot(df['MACD'].dropna())\n",
        "df.tail()"
      ],
      "execution_count": 18,
      "outputs": [
        {
          "output_type": "stream",
          "text": [
            "count    3733.000000\n",
            "mean       -0.000195\n",
            "std         0.083284\n",
            "min        -0.462033\n",
            "25%        -0.031662\n",
            "50%         0.000688\n",
            "75%         0.035466\n",
            "max         0.342792\n",
            "Name: MACD, dtype: float64\n"
          ],
          "name": "stdout"
        },
        {
          "output_type": "execute_result",
          "data": {
            "text/html": [
              "<div>\n",
              "<style scoped>\n",
              "    .dataframe tbody tr th:only-of-type {\n",
              "        vertical-align: middle;\n",
              "    }\n",
              "\n",
              "    .dataframe tbody tr th {\n",
              "        vertical-align: top;\n",
              "    }\n",
              "\n",
              "    .dataframe thead th {\n",
              "        text-align: right;\n",
              "    }\n",
              "</style>\n",
              "<table border=\"1\" class=\"dataframe\">\n",
              "  <thead>\n",
              "    <tr style=\"text-align: right;\">\n",
              "      <th></th>\n",
              "      <th>High</th>\n",
              "      <th>Low</th>\n",
              "      <th>Open</th>\n",
              "      <th>Close</th>\n",
              "      <th>Volume</th>\n",
              "      <th>triple_barrier_signal</th>\n",
              "      <th>RSI</th>\n",
              "      <th>Williams %R</th>\n",
              "      <th>SMA</th>\n",
              "      <th>EMA</th>\n",
              "      <th>WMA</th>\n",
              "      <th>HMA</th>\n",
              "      <th>TEMA</th>\n",
              "      <th>CCI</th>\n",
              "      <th>CMO</th>\n",
              "      <th>MACD</th>\n",
              "    </tr>\n",
              "    <tr>\n",
              "      <th>Date</th>\n",
              "      <th></th>\n",
              "      <th></th>\n",
              "      <th></th>\n",
              "      <th></th>\n",
              "      <th></th>\n",
              "      <th></th>\n",
              "      <th></th>\n",
              "      <th></th>\n",
              "      <th></th>\n",
              "      <th></th>\n",
              "      <th></th>\n",
              "      <th></th>\n",
              "      <th></th>\n",
              "      <th></th>\n",
              "      <th></th>\n",
              "      <th></th>\n",
              "    </tr>\n",
              "  </thead>\n",
              "  <tbody>\n",
              "    <tr>\n",
              "      <th>2019-09-02</th>\n",
              "      <td>8.78</td>\n",
              "      <td>8.74</td>\n",
              "      <td>8.75</td>\n",
              "      <td>8.76</td>\n",
              "      <td>2785057.0</td>\n",
              "      <td>0</td>\n",
              "      <td>30.856183</td>\n",
              "      <td>-72.727220</td>\n",
              "      <td>9.229268</td>\n",
              "      <td>8.810791</td>\n",
              "      <td>8.842000</td>\n",
              "      <td>8.751</td>\n",
              "      <td>8.734693</td>\n",
              "      <td>-66.301005</td>\n",
              "      <td>-38.888859</td>\n",
              "      <td>-0.007080</td>\n",
              "    </tr>\n",
              "    <tr>\n",
              "      <th>2019-09-03</th>\n",
              "      <td>8.79</td>\n",
              "      <td>8.75</td>\n",
              "      <td>8.75</td>\n",
              "      <td>8.77</td>\n",
              "      <td>2936767.0</td>\n",
              "      <td>0</td>\n",
              "      <td>33.111523</td>\n",
              "      <td>-68.749851</td>\n",
              "      <td>9.212683</td>\n",
              "      <td>8.802633</td>\n",
              "      <td>8.825556</td>\n",
              "      <td>8.754</td>\n",
              "      <td>8.745081</td>\n",
              "      <td>-58.212695</td>\n",
              "      <td>-31.428525</td>\n",
              "      <td>-0.001255</td>\n",
              "    </tr>\n",
              "    <tr>\n",
              "      <th>2019-09-04</th>\n",
              "      <td>8.85</td>\n",
              "      <td>8.76</td>\n",
              "      <td>8.77</td>\n",
              "      <td>8.85</td>\n",
              "      <td>3300443.0</td>\n",
              "      <td>0</td>\n",
              "      <td>48.590152</td>\n",
              "      <td>-43.749851</td>\n",
              "      <td>9.198049</td>\n",
              "      <td>8.812106</td>\n",
              "      <td>8.792889</td>\n",
              "      <td>8.767</td>\n",
              "      <td>8.792810</td>\n",
              "      <td>-32.397688</td>\n",
              "      <td>-27.777645</td>\n",
              "      <td>0.008950</td>\n",
              "    </tr>\n",
              "    <tr>\n",
              "      <th>2019-09-05</th>\n",
              "      <td>8.90</td>\n",
              "      <td>8.85</td>\n",
              "      <td>8.87</td>\n",
              "      <td>8.86</td>\n",
              "      <td>2553843.0</td>\n",
              "      <td>0</td>\n",
              "      <td>50.250491</td>\n",
              "      <td>-40.625075</td>\n",
              "      <td>9.183171</td>\n",
              "      <td>8.821685</td>\n",
              "      <td>8.773778</td>\n",
              "      <td>8.791</td>\n",
              "      <td>8.829311</td>\n",
              "      <td>-2.993125</td>\n",
              "      <td>-6.666836</td>\n",
              "      <td>0.016876</td>\n",
              "    </tr>\n",
              "    <tr>\n",
              "      <th>2019-09-06</th>\n",
              "      <td>8.91</td>\n",
              "      <td>8.87</td>\n",
              "      <td>8.89</td>\n",
              "      <td>8.90</td>\n",
              "      <td>2939239.0</td>\n",
              "      <td>0</td>\n",
              "      <td>56.704535</td>\n",
              "      <td>-28.125075</td>\n",
              "      <td>9.169512</td>\n",
              "      <td>8.837348</td>\n",
              "      <td>8.761778</td>\n",
              "      <td>8.825</td>\n",
              "      <td>8.872194</td>\n",
              "      <td>29.699708</td>\n",
              "      <td>16.128814</td>\n",
              "      <td>0.024835</td>\n",
              "    </tr>\n",
              "  </tbody>\n",
              "</table>\n",
              "</div>"
            ],
            "text/plain": [
              "            High   Low  Open  Close  ...      TEMA        CCI        CMO      MACD\n",
              "Date                                 ...                                          \n",
              "2019-09-02  8.78  8.74  8.75   8.76  ...  8.734693 -66.301005 -38.888859 -0.007080\n",
              "2019-09-03  8.79  8.75  8.75   8.77  ...  8.745081 -58.212695 -31.428525 -0.001255\n",
              "2019-09-04  8.85  8.76  8.77   8.85  ...  8.792810 -32.397688 -27.777645  0.008950\n",
              "2019-09-05  8.90  8.85  8.87   8.86  ...  8.829311  -2.993125  -6.666836  0.016876\n",
              "2019-09-06  8.91  8.87  8.89   8.90  ...  8.872194  29.699708  16.128814  0.024835\n",
              "\n",
              "[5 rows x 16 columns]"
            ]
          },
          "metadata": {
            "tags": []
          },
          "execution_count": 18
        },
        {
          "output_type": "display_data",
          "data": {
            "image/png": "[encoded data removed]",
            "text/plain": [
              "<Figure size 432x288 with 1 Axes>"
            ]
          },
          "metadata": {
            "tags": []
          }
        }
      ]
    },
    {
      "cell_type": "markdown",
      "metadata": {
        "id": "roEAzvV7liUA",
        "colab_type": "text"
      },
      "source": [
        "# PPO"
      ]
    },
    {
      "cell_type": "code",
      "metadata": {
        "id": "ovCLHYPXli73",
        "colab_type": "code",
        "outputId": "c9ba31d3-e719-40ba-ccf2-7ddd88cd85bf",
        "colab": {
          "base_uri": "https://localhost:8080/",
          "height": 779
        }
      },
      "source": [
        "df['PPO'] = TA.PPO(ohlcv)['PPO'] - TA.PPO(ohlcv)['SIGNAL']\n",
        "print(df['PPO'].describe())\n",
        "sns.distplot(df['PPO'].dropna())\n",
        "df.tail()"
      ],
      "execution_count": 19,
      "outputs": [
        {
          "output_type": "stream",
          "text": [
            "count    3733.000000\n",
            "mean       -0.002094\n",
            "std         0.757906\n",
            "min        -3.725458\n",
            "25%        -0.324288\n",
            "50%         0.001610\n",
            "75%         0.335442\n",
            "max         5.171251\n",
            "Name: PPO, dtype: float64\n"
          ],
          "name": "stdout"
        },
        {
          "output_type": "execute_result",
          "data": {
            "text/html": [
              "<div>\n",
              "<style scoped>\n",
              "    .dataframe tbody tr th:only-of-type {\n",
              "        vertical-align: middle;\n",
              "    }\n",
              "\n",
              "    .dataframe tbody tr th {\n",
              "        vertical-align: top;\n",
              "    }\n",
              "\n",
              "    .dataframe thead th {\n",
              "        text-align: right;\n",
              "    }\n",
              "</style>\n",
              "<table border=\"1\" class=\"dataframe\">\n",
              "  <thead>\n",
              "    <tr style=\"text-align: right;\">\n",
              "      <th></th>\n",
              "      <th>High</th>\n",
              "      <th>Low</th>\n",
              "      <th>Open</th>\n",
              "      <th>Close</th>\n",
              "      <th>Volume</th>\n",
              "      <th>triple_barrier_signal</th>\n",
              "      <th>RSI</th>\n",
              "      <th>Williams %R</th>\n",
              "      <th>SMA</th>\n",
              "      <th>EMA</th>\n",
              "      <th>WMA</th>\n",
              "      <th>HMA</th>\n",
              "      <th>TEMA</th>\n",
              "      <th>CCI</th>\n",
              "      <th>CMO</th>\n",
              "      <th>MACD</th>\n",
              "      <th>PPO</th>\n",
              "    </tr>\n",
              "    <tr>\n",
              "      <th>Date</th>\n",
              "      <th></th>\n",
              "      <th></th>\n",
              "      <th></th>\n",
              "      <th></th>\n",
              "      <th></th>\n",
              "      <th></th>\n",
              "      <th></th>\n",
              "      <th></th>\n",
              "      <th></th>\n",
              "      <th></th>\n",
              "      <th></th>\n",
              "      <th></th>\n",
              "      <th></th>\n",
              "      <th></th>\n",
              "      <th></th>\n",
              "      <th></th>\n",
              "      <th></th>\n",
              "    </tr>\n",
              "  </thead>\n",
              "  <tbody>\n",
              "    <tr>\n",
              "      <th>2019-09-02</th>\n",
              "      <td>8.78</td>\n",
              "      <td>8.74</td>\n",
              "      <td>8.75</td>\n",
              "      <td>8.76</td>\n",
              "      <td>2785057.0</td>\n",
              "      <td>0</td>\n",
              "      <td>30.856183</td>\n",
              "      <td>-72.727220</td>\n",
              "      <td>9.229268</td>\n",
              "      <td>8.810791</td>\n",
              "      <td>8.842000</td>\n",
              "      <td>8.751</td>\n",
              "      <td>8.734693</td>\n",
              "      <td>-66.301005</td>\n",
              "      <td>-38.888859</td>\n",
              "      <td>-0.007080</td>\n",
              "      <td>-0.092615</td>\n",
              "    </tr>\n",
              "    <tr>\n",
              "      <th>2019-09-03</th>\n",
              "      <td>8.79</td>\n",
              "      <td>8.75</td>\n",
              "      <td>8.75</td>\n",
              "      <td>8.77</td>\n",
              "      <td>2936767.0</td>\n",
              "      <td>0</td>\n",
              "      <td>33.111523</td>\n",
              "      <td>-68.749851</td>\n",
              "      <td>9.212683</td>\n",
              "      <td>8.802633</td>\n",
              "      <td>8.825556</td>\n",
              "      <td>8.754</td>\n",
              "      <td>8.745081</td>\n",
              "      <td>-58.212695</td>\n",
              "      <td>-31.428525</td>\n",
              "      <td>-0.001255</td>\n",
              "      <td>-0.027776</td>\n",
              "    </tr>\n",
              "    <tr>\n",
              "      <th>2019-09-04</th>\n",
              "      <td>8.85</td>\n",
              "      <td>8.76</td>\n",
              "      <td>8.77</td>\n",
              "      <td>8.85</td>\n",
              "      <td>3300443.0</td>\n",
              "      <td>0</td>\n",
              "      <td>48.590152</td>\n",
              "      <td>-43.749851</td>\n",
              "      <td>9.198049</td>\n",
              "      <td>8.812106</td>\n",
              "      <td>8.792889</td>\n",
              "      <td>8.767</td>\n",
              "      <td>8.792810</td>\n",
              "      <td>-32.397688</td>\n",
              "      <td>-27.777645</td>\n",
              "      <td>0.008950</td>\n",
              "      <td>0.087080</td>\n",
              "    </tr>\n",
              "    <tr>\n",
              "      <th>2019-09-05</th>\n",
              "      <td>8.90</td>\n",
              "      <td>8.85</td>\n",
              "      <td>8.87</td>\n",
              "      <td>8.86</td>\n",
              "      <td>2553843.0</td>\n",
              "      <td>0</td>\n",
              "      <td>50.250491</td>\n",
              "      <td>-40.625075</td>\n",
              "      <td>9.183171</td>\n",
              "      <td>8.821685</td>\n",
              "      <td>8.773778</td>\n",
              "      <td>8.791</td>\n",
              "      <td>8.829311</td>\n",
              "      <td>-2.993125</td>\n",
              "      <td>-6.666836</td>\n",
              "      <td>0.016876</td>\n",
              "      <td>0.176765</td>\n",
              "    </tr>\n",
              "    <tr>\n",
              "      <th>2019-09-06</th>\n",
              "      <td>8.91</td>\n",
              "      <td>8.87</td>\n",
              "      <td>8.89</td>\n",
              "      <td>8.90</td>\n",
              "      <td>2939239.0</td>\n",
              "      <td>0</td>\n",
              "      <td>56.704535</td>\n",
              "      <td>-28.125075</td>\n",
              "      <td>9.169512</td>\n",
              "      <td>8.837348</td>\n",
              "      <td>8.761778</td>\n",
              "      <td>8.825</td>\n",
              "      <td>8.872194</td>\n",
              "      <td>29.699708</td>\n",
              "      <td>16.128814</td>\n",
              "      <td>0.024835</td>\n",
              "      <td>0.267190</td>\n",
              "    </tr>\n",
              "  </tbody>\n",
              "</table>\n",
              "</div>"
            ],
            "text/plain": [
              "            High   Low  Open  Close  ...        CCI        CMO      MACD       PPO\n",
              "Date                                 ...                                          \n",
              "2019-09-02  8.78  8.74  8.75   8.76  ... -66.301005 -38.888859 -0.007080 -0.092615\n",
              "2019-09-03  8.79  8.75  8.75   8.77  ... -58.212695 -31.428525 -0.001255 -0.027776\n",
              "2019-09-04  8.85  8.76  8.77   8.85  ... -32.397688 -27.777645  0.008950  0.087080\n",
              "2019-09-05  8.90  8.85  8.87   8.86  ...  -2.993125  -6.666836  0.016876  0.176765\n",
              "2019-09-06  8.91  8.87  8.89   8.90  ...  29.699708  16.128814  0.024835  0.267190\n",
              "\n",
              "[5 rows x 17 columns]"
            ]
          },
          "metadata": {
            "tags": []
          },
          "execution_count": 19
        },
        {
          "output_type": "display_data",
          "data": {
            "image/png": "[encoded data removed]",
            "text/plain": [
              "<Figure size 432x288 with 1 Axes>"
            ]
          },
          "metadata": {
            "tags": []
          }
        }
      ]
    },
    {
      "cell_type": "markdown",
      "metadata": {
        "id": "5BBE8vaWmdGN",
        "colab_type": "text"
      },
      "source": [
        "# ROC"
      ]
    },
    {
      "cell_type": "code",
      "metadata": {
        "id": "OKI3MqwhmdOj",
        "colab_type": "code",
        "outputId": "1bc598b8-9871-4812-df90-bf9ed98a34dd",
        "colab": {
          "base_uri": "https://localhost:8080/",
          "height": 779
        }
      },
      "source": [
        "df['ROC'] = TA.ROC(ohlcv)\n",
        "print(df['ROC'].describe())\n",
        "sns.distplot(df['ROC'].dropna())\n",
        "df.tail()"
      ],
      "execution_count": 20,
      "outputs": [
        {
          "output_type": "stream",
          "text": [
            "count    3721.000000\n",
            "mean        0.261628\n",
            "std         7.796611\n",
            "min       -39.499950\n",
            "25%        -2.843162\n",
            "50%         0.000000\n",
            "75%         3.200911\n",
            "max        49.761002\n",
            "Name: ROC, dtype: float64\n"
          ],
          "name": "stdout"
        },
        {
          "output_type": "execute_result",
          "data": {
            "text/html": [
              "<div>\n",
              "<style scoped>\n",
              "    .dataframe tbody tr th:only-of-type {\n",
              "        vertical-align: middle;\n",
              "    }\n",
              "\n",
              "    .dataframe tbody tr th {\n",
              "        vertical-align: top;\n",
              "    }\n",
              "\n",
              "    .dataframe thead th {\n",
              "        text-align: right;\n",
              "    }\n",
              "</style>\n",
              "<table border=\"1\" class=\"dataframe\">\n",
              "  <thead>\n",
              "    <tr style=\"text-align: right;\">\n",
              "      <th></th>\n",
              "      <th>High</th>\n",
              "      <th>Low</th>\n",
              "      <th>Open</th>\n",
              "      <th>Close</th>\n",
              "      <th>Volume</th>\n",
              "      <th>triple_barrier_signal</th>\n",
              "      <th>RSI</th>\n",
              "      <th>Williams %R</th>\n",
              "      <th>SMA</th>\n",
              "      <th>EMA</th>\n",
              "      <th>WMA</th>\n",
              "      <th>HMA</th>\n",
              "      <th>TEMA</th>\n",
              "      <th>CCI</th>\n",
              "      <th>CMO</th>\n",
              "      <th>MACD</th>\n",
              "      <th>PPO</th>\n",
              "      <th>ROC</th>\n",
              "    </tr>\n",
              "    <tr>\n",
              "      <th>Date</th>\n",
              "      <th></th>\n",
              "      <th></th>\n",
              "      <th></th>\n",
              "      <th></th>\n",
              "      <th></th>\n",
              "      <th></th>\n",
              "      <th></th>\n",
              "      <th></th>\n",
              "      <th></th>\n",
              "      <th></th>\n",
              "      <th></th>\n",
              "      <th></th>\n",
              "      <th></th>\n",
              "      <th></th>\n",
              "      <th></th>\n",
              "      <th></th>\n",
              "      <th></th>\n",
              "      <th></th>\n",
              "    </tr>\n",
              "  </thead>\n",
              "  <tbody>\n",
              "    <tr>\n",
              "      <th>2019-09-02</th>\n",
              "      <td>8.78</td>\n",
              "      <td>8.74</td>\n",
              "      <td>8.75</td>\n",
              "      <td>8.76</td>\n",
              "      <td>2785057.0</td>\n",
              "      <td>0</td>\n",
              "      <td>30.856183</td>\n",
              "      <td>-72.727220</td>\n",
              "      <td>9.229268</td>\n",
              "      <td>8.810791</td>\n",
              "      <td>8.842000</td>\n",
              "      <td>8.751</td>\n",
              "      <td>8.734693</td>\n",
              "      <td>-66.301005</td>\n",
              "      <td>-38.888859</td>\n",
              "      <td>-0.007080</td>\n",
              "      <td>-0.092615</td>\n",
              "      <td>-0.680266</td>\n",
              "    </tr>\n",
              "    <tr>\n",
              "      <th>2019-09-03</th>\n",
              "      <td>8.79</td>\n",
              "      <td>8.75</td>\n",
              "      <td>8.75</td>\n",
              "      <td>8.77</td>\n",
              "      <td>2936767.0</td>\n",
              "      <td>0</td>\n",
              "      <td>33.111523</td>\n",
              "      <td>-68.749851</td>\n",
              "      <td>9.212683</td>\n",
              "      <td>8.802633</td>\n",
              "      <td>8.825556</td>\n",
              "      <td>8.754</td>\n",
              "      <td>8.745081</td>\n",
              "      <td>-58.212695</td>\n",
              "      <td>-31.428525</td>\n",
              "      <td>-0.001255</td>\n",
              "      <td>-0.027776</td>\n",
              "      <td>-1.460665</td>\n",
              "    </tr>\n",
              "    <tr>\n",
              "      <th>2019-09-04</th>\n",
              "      <td>8.85</td>\n",
              "      <td>8.76</td>\n",
              "      <td>8.77</td>\n",
              "      <td>8.85</td>\n",
              "      <td>3300443.0</td>\n",
              "      <td>0</td>\n",
              "      <td>48.590152</td>\n",
              "      <td>-43.749851</td>\n",
              "      <td>9.198049</td>\n",
              "      <td>8.812106</td>\n",
              "      <td>8.792889</td>\n",
              "      <td>8.767</td>\n",
              "      <td>8.792810</td>\n",
              "      <td>-32.397688</td>\n",
              "      <td>-27.777645</td>\n",
              "      <td>0.008950</td>\n",
              "      <td>0.087080</td>\n",
              "      <td>-1.117312</td>\n",
              "    </tr>\n",
              "    <tr>\n",
              "      <th>2019-09-05</th>\n",
              "      <td>8.90</td>\n",
              "      <td>8.85</td>\n",
              "      <td>8.87</td>\n",
              "      <td>8.86</td>\n",
              "      <td>2553843.0</td>\n",
              "      <td>0</td>\n",
              "      <td>50.250491</td>\n",
              "      <td>-40.625075</td>\n",
              "      <td>9.183171</td>\n",
              "      <td>8.821685</td>\n",
              "      <td>8.773778</td>\n",
              "      <td>8.791</td>\n",
              "      <td>8.829311</td>\n",
              "      <td>-2.993125</td>\n",
              "      <td>-6.666836</td>\n",
              "      <td>0.016876</td>\n",
              "      <td>0.176765</td>\n",
              "      <td>-0.449438</td>\n",
              "    </tr>\n",
              "    <tr>\n",
              "      <th>2019-09-06</th>\n",
              "      <td>8.91</td>\n",
              "      <td>8.87</td>\n",
              "      <td>8.89</td>\n",
              "      <td>8.90</td>\n",
              "      <td>2939239.0</td>\n",
              "      <td>0</td>\n",
              "      <td>56.704535</td>\n",
              "      <td>-28.125075</td>\n",
              "      <td>9.169512</td>\n",
              "      <td>8.837348</td>\n",
              "      <td>8.761778</td>\n",
              "      <td>8.825</td>\n",
              "      <td>8.872194</td>\n",
              "      <td>29.699708</td>\n",
              "      <td>16.128814</td>\n",
              "      <td>0.024835</td>\n",
              "      <td>0.267190</td>\n",
              "      <td>0.225220</td>\n",
              "    </tr>\n",
              "  </tbody>\n",
              "</table>\n",
              "</div>"
            ],
            "text/plain": [
              "            High   Low  Open  Close  ...        CMO      MACD       PPO       ROC\n",
              "Date                                 ...                                         \n",
              "2019-09-02  8.78  8.74  8.75   8.76  ... -38.888859 -0.007080 -0.092615 -0.680266\n",
              "2019-09-03  8.79  8.75  8.75   8.77  ... -31.428525 -0.001255 -0.027776 -1.460665\n",
              "2019-09-04  8.85  8.76  8.77   8.85  ... -27.777645  0.008950  0.087080 -1.117312\n",
              "2019-09-05  8.90  8.85  8.87   8.86  ...  -6.666836  0.016876  0.176765 -0.449438\n",
              "2019-09-06  8.91  8.87  8.89   8.90  ...  16.128814  0.024835  0.267190  0.225220\n",
              "\n",
              "[5 rows x 18 columns]"
            ]
          },
          "metadata": {
            "tags": []
          },
          "execution_count": 20
        },
        {
          "output_type": "display_data",
          "data": {
            "image/png": "[encoded data removed]",
            "text/plain": [
              "<Figure size 432x288 with 1 Axes>"
            ]
          },
          "metadata": {
            "tags": []
          }
        }
      ]
    },
    {
      "cell_type": "markdown",
      "metadata": {
        "id": "b9LTKsyvmuSd",
        "colab_type": "text"
      },
      "source": [
        "# CMFI"
      ]
    },
    {
      "cell_type": "code",
      "metadata": {
        "id": "somnlSTOmvjJ",
        "colab_type": "code",
        "outputId": "6f77b1cc-606b-466c-e186-3a196c0a41be",
        "colab": {
          "base_uri": "https://localhost:8080/",
          "height": 785
        }
      },
      "source": [
        "df['CFI'] = TA.CFI(ohlcv)\n",
        "print(df['CFI'].describe())\n",
        "sns.distplot(df['CFI'].dropna())\n",
        "df.tail()"
      ],
      "execution_count": 21,
      "outputs": [
        {
          "output_type": "stream",
          "text": [
            "count    3.724000e+03\n",
            "mean    -4.657735e+09\n",
            "std      3.569555e+09\n",
            "min     -1.417991e+10\n",
            "25%     -4.871874e+09\n",
            "50%     -4.775388e+09\n",
            "75%     -4.732326e+09\n",
            "max      5.764385e+08\n",
            "Name: CFI, dtype: float64\n"
          ],
          "name": "stdout"
        },
        {
          "output_type": "execute_result",
          "data": {
            "text/html": [
              "<div>\n",
              "<style scoped>\n",
              "    .dataframe tbody tr th:only-of-type {\n",
              "        vertical-align: middle;\n",
              "    }\n",
              "\n",
              "    .dataframe tbody tr th {\n",
              "        vertical-align: top;\n",
              "    }\n",
              "\n",
              "    .dataframe thead th {\n",
              "        text-align: right;\n",
              "    }\n",
              "</style>\n",
              "<table border=\"1\" class=\"dataframe\">\n",
              "  <thead>\n",
              "    <tr style=\"text-align: right;\">\n",
              "      <th></th>\n",
              "      <th>High</th>\n",
              "      <th>Low</th>\n",
              "      <th>Open</th>\n",
              "      <th>Close</th>\n",
              "      <th>Volume</th>\n",
              "      <th>triple_barrier_signal</th>\n",
              "      <th>RSI</th>\n",
              "      <th>Williams %R</th>\n",
              "      <th>SMA</th>\n",
              "      <th>EMA</th>\n",
              "      <th>WMA</th>\n",
              "      <th>HMA</th>\n",
              "      <th>TEMA</th>\n",
              "      <th>CCI</th>\n",
              "      <th>CMO</th>\n",
              "      <th>MACD</th>\n",
              "      <th>PPO</th>\n",
              "      <th>ROC</th>\n",
              "      <th>CFI</th>\n",
              "    </tr>\n",
              "    <tr>\n",
              "      <th>Date</th>\n",
              "      <th></th>\n",
              "      <th></th>\n",
              "      <th></th>\n",
              "      <th></th>\n",
              "      <th></th>\n",
              "      <th></th>\n",
              "      <th></th>\n",
              "      <th></th>\n",
              "      <th></th>\n",
              "      <th></th>\n",
              "      <th></th>\n",
              "      <th></th>\n",
              "      <th></th>\n",
              "      <th></th>\n",
              "      <th></th>\n",
              "      <th></th>\n",
              "      <th></th>\n",
              "      <th></th>\n",
              "      <th></th>\n",
              "    </tr>\n",
              "  </thead>\n",
              "  <tbody>\n",
              "    <tr>\n",
              "      <th>2019-09-02</th>\n",
              "      <td>8.78</td>\n",
              "      <td>8.74</td>\n",
              "      <td>8.75</td>\n",
              "      <td>8.76</td>\n",
              "      <td>2785057.0</td>\n",
              "      <td>0</td>\n",
              "      <td>30.856183</td>\n",
              "      <td>-72.727220</td>\n",
              "      <td>9.229268</td>\n",
              "      <td>8.810791</td>\n",
              "      <td>8.842000</td>\n",
              "      <td>8.751</td>\n",
              "      <td>8.734693</td>\n",
              "      <td>-66.301005</td>\n",
              "      <td>-38.888859</td>\n",
              "      <td>-0.007080</td>\n",
              "      <td>-0.092615</td>\n",
              "      <td>-0.680266</td>\n",
              "      <td>-4.748498e+09</td>\n",
              "    </tr>\n",
              "    <tr>\n",
              "      <th>2019-09-03</th>\n",
              "      <td>8.79</td>\n",
              "      <td>8.75</td>\n",
              "      <td>8.75</td>\n",
              "      <td>8.77</td>\n",
              "      <td>2936767.0</td>\n",
              "      <td>0</td>\n",
              "      <td>33.111523</td>\n",
              "      <td>-68.749851</td>\n",
              "      <td>9.212683</td>\n",
              "      <td>8.802633</td>\n",
              "      <td>8.825556</td>\n",
              "      <td>8.754</td>\n",
              "      <td>8.745081</td>\n",
              "      <td>-58.212695</td>\n",
              "      <td>-31.428525</td>\n",
              "      <td>-0.001255</td>\n",
              "      <td>-0.027776</td>\n",
              "      <td>-1.460665</td>\n",
              "      <td>-4.748601e+09</td>\n",
              "    </tr>\n",
              "    <tr>\n",
              "      <th>2019-09-04</th>\n",
              "      <td>8.85</td>\n",
              "      <td>8.76</td>\n",
              "      <td>8.77</td>\n",
              "      <td>8.85</td>\n",
              "      <td>3300443.0</td>\n",
              "      <td>0</td>\n",
              "      <td>48.590152</td>\n",
              "      <td>-43.749851</td>\n",
              "      <td>9.198049</td>\n",
              "      <td>8.812106</td>\n",
              "      <td>8.792889</td>\n",
              "      <td>8.767</td>\n",
              "      <td>8.792810</td>\n",
              "      <td>-32.397688</td>\n",
              "      <td>-27.777645</td>\n",
              "      <td>0.008950</td>\n",
              "      <td>0.087080</td>\n",
              "      <td>-1.117312</td>\n",
              "      <td>-4.748637e+09</td>\n",
              "    </tr>\n",
              "    <tr>\n",
              "      <th>2019-09-05</th>\n",
              "      <td>8.90</td>\n",
              "      <td>8.85</td>\n",
              "      <td>8.87</td>\n",
              "      <td>8.86</td>\n",
              "      <td>2553843.0</td>\n",
              "      <td>0</td>\n",
              "      <td>50.250491</td>\n",
              "      <td>-40.625075</td>\n",
              "      <td>9.183171</td>\n",
              "      <td>8.821685</td>\n",
              "      <td>8.773778</td>\n",
              "      <td>8.791</td>\n",
              "      <td>8.829311</td>\n",
              "      <td>-2.993125</td>\n",
              "      <td>-6.666836</td>\n",
              "      <td>0.016876</td>\n",
              "      <td>0.176765</td>\n",
              "      <td>-0.449438</td>\n",
              "      <td>-4.748662e+09</td>\n",
              "    </tr>\n",
              "    <tr>\n",
              "      <th>2019-09-06</th>\n",
              "      <td>8.91</td>\n",
              "      <td>8.87</td>\n",
              "      <td>8.89</td>\n",
              "      <td>8.90</td>\n",
              "      <td>2939239.0</td>\n",
              "      <td>0</td>\n",
              "      <td>56.704535</td>\n",
              "      <td>-28.125075</td>\n",
              "      <td>9.169512</td>\n",
              "      <td>8.837348</td>\n",
              "      <td>8.761778</td>\n",
              "      <td>8.825</td>\n",
              "      <td>8.872194</td>\n",
              "      <td>29.699708</td>\n",
              "      <td>16.128814</td>\n",
              "      <td>0.024835</td>\n",
              "      <td>0.267190</td>\n",
              "      <td>0.225220</td>\n",
              "      <td>-4.748661e+09</td>\n",
              "    </tr>\n",
              "  </tbody>\n",
              "</table>\n",
              "</div>"
            ],
            "text/plain": [
              "            High   Low  Open  Close  ...      MACD       PPO       ROC           CFI\n",
              "Date                                 ...                                            \n",
              "2019-09-02  8.78  8.74  8.75   8.76  ... -0.007080 -0.092615 -0.680266 -4.748498e+09\n",
              "2019-09-03  8.79  8.75  8.75   8.77  ... -0.001255 -0.027776 -1.460665 -4.748601e+09\n",
              "2019-09-04  8.85  8.76  8.77   8.85  ...  0.008950  0.087080 -1.117312 -4.748637e+09\n",
              "2019-09-05  8.90  8.85  8.87   8.86  ...  0.016876  0.176765 -0.449438 -4.748662e+09\n",
              "2019-09-06  8.91  8.87  8.89   8.90  ...  0.024835  0.267190  0.225220 -4.748661e+09\n",
              "\n",
              "[5 rows x 19 columns]"
            ]
          },
          "metadata": {
            "tags": []
          },
          "execution_count": 21
        },
        {
          "output_type": "display_data",
          "data": {
            "image/png": "[encoded data removed]",
            "text/plain": [
              "<Figure size 432x288 with 1 Axes>"
            ]
          },
          "metadata": {
            "tags": []
          }
        }
      ]
    },
    {
      "cell_type": "markdown",
      "metadata": {
        "id": "8WydSl0doUYk",
        "colab_type": "text"
      },
      "source": [
        "# DMI"
      ]
    },
    {
      "cell_type": "code",
      "metadata": {
        "id": "xRTnC6DboU05",
        "colab_type": "code",
        "outputId": "596be201-f443-4c0b-91fb-69c806efeda6",
        "colab": {
          "base_uri": "https://localhost:8080/",
          "height": 1000
        }
      },
      "source": [
        "df['DMI'] = TA.DMI(ohlcv)['DI+'] - TA.DMI(ohlcv)['DI-']\n",
        "print(df['DMI'].describe())\n",
        "sns.distplot(df['DMI'].dropna())\n",
        "df.tail()"
      ],
      "execution_count": 22,
      "outputs": [
        {
          "output_type": "stream",
          "text": [
            "/usr/local/lib/python3.6/dist-packages/finta/finta.py:792: SettingWithCopyWarning: \n",
            "A value is trying to be set on a copy of a slice from a DataFrame.\n",
            "Try using .loc[row_indexer,col_indexer] = value instead\n",
            "\n",
            "See the caveats in the documentation: http://pandas.pydata.org/pandas-docs/stable/indexing.html#indexing-view-versus-copy\n",
            "  ohlc[\"up_move\"] = ohlc[\"high\"].diff()\n",
            "/usr/local/lib/python3.6/dist-packages/finta/finta.py:793: SettingWithCopyWarning: \n",
            "A value is trying to be set on a copy of a slice from a DataFrame.\n",
            "Try using .loc[row_indexer,col_indexer] = value instead\n",
            "\n",
            "See the caveats in the documentation: http://pandas.pydata.org/pandas-docs/stable/indexing.html#indexing-view-versus-copy\n",
            "  ohlc[\"down_move\"] = -ohlc[\"low\"].diff()\n",
            "/usr/local/lib/python3.6/dist-packages/finta/finta.py:809: SettingWithCopyWarning: \n",
            "A value is trying to be set on a copy of a slice from a DataFrame.\n",
            "Try using .loc[row_indexer,col_indexer] = value instead\n",
            "\n",
            "See the caveats in the documentation: http://pandas.pydata.org/pandas-docs/stable/indexing.html#indexing-view-versus-copy\n",
            "  ohlc[\"DMp\"] = DMp\n",
            "/usr/local/lib/python3.6/dist-packages/finta/finta.py:810: SettingWithCopyWarning: \n",
            "A value is trying to be set on a copy of a slice from a DataFrame.\n",
            "Try using .loc[row_indexer,col_indexer] = value instead\n",
            "\n",
            "See the caveats in the documentation: http://pandas.pydata.org/pandas-docs/stable/indexing.html#indexing-view-versus-copy\n",
            "  ohlc[\"DMm\"] = DMm\n"
          ],
          "name": "stderr"
        },
        {
          "output_type": "stream",
          "text": [
            "count    3650.000000\n",
            "mean        8.786800\n",
            "std       165.977485\n",
            "min      -109.955044\n",
            "25%       -10.531133\n",
            "50%         0.179257\n",
            "75%        13.446914\n",
            "max      8399.998571\n",
            "Name: DMI, dtype: float64\n"
          ],
          "name": "stdout"
        },
        {
          "output_type": "execute_result",
          "data": {
            "text/html": [
              "<div>\n",
              "<style scoped>\n",
              "    .dataframe tbody tr th:only-of-type {\n",
              "        vertical-align: middle;\n",
              "    }\n",
              "\n",
              "    .dataframe tbody tr th {\n",
              "        vertical-align: top;\n",
              "    }\n",
              "\n",
              "    .dataframe thead th {\n",
              "        text-align: right;\n",
              "    }\n",
              "</style>\n",
              "<table border=\"1\" class=\"dataframe\">\n",
              "  <thead>\n",
              "    <tr style=\"text-align: right;\">\n",
              "      <th></th>\n",
              "      <th>High</th>\n",
              "      <th>Low</th>\n",
              "      <th>Open</th>\n",
              "      <th>Close</th>\n",
              "      <th>Volume</th>\n",
              "      <th>triple_barrier_signal</th>\n",
              "      <th>RSI</th>\n",
              "      <th>Williams %R</th>\n",
              "      <th>SMA</th>\n",
              "      <th>EMA</th>\n",
              "      <th>WMA</th>\n",
              "      <th>HMA</th>\n",
              "      <th>TEMA</th>\n",
              "      <th>CCI</th>\n",
              "      <th>CMO</th>\n",
              "      <th>MACD</th>\n",
              "      <th>PPO</th>\n",
              "      <th>ROC</th>\n",
              "      <th>CFI</th>\n",
              "      <th>DMI</th>\n",
              "    </tr>\n",
              "    <tr>\n",
              "      <th>Date</th>\n",
              "      <th></th>\n",
              "      <th></th>\n",
              "      <th></th>\n",
              "      <th></th>\n",
              "      <th></th>\n",
              "      <th></th>\n",
              "      <th></th>\n",
              "      <th></th>\n",
              "      <th></th>\n",
              "      <th></th>\n",
              "      <th></th>\n",
              "      <th></th>\n",
              "      <th></th>\n",
              "      <th></th>\n",
              "      <th></th>\n",
              "      <th></th>\n",
              "      <th></th>\n",
              "      <th></th>\n",
              "      <th></th>\n",
              "      <th></th>\n",
              "    </tr>\n",
              "  </thead>\n",
              "  <tbody>\n",
              "    <tr>\n",
              "      <th>2019-09-02</th>\n",
              "      <td>8.78</td>\n",
              "      <td>8.74</td>\n",
              "      <td>8.75</td>\n",
              "      <td>8.76</td>\n",
              "      <td>2785057.0</td>\n",
              "      <td>0</td>\n",
              "      <td>30.856183</td>\n",
              "      <td>-72.727220</td>\n",
              "      <td>9.229268</td>\n",
              "      <td>8.810791</td>\n",
              "      <td>8.842000</td>\n",
              "      <td>8.751</td>\n",
              "      <td>8.734693</td>\n",
              "      <td>-66.301005</td>\n",
              "      <td>-38.888859</td>\n",
              "      <td>-0.007080</td>\n",
              "      <td>-0.092615</td>\n",
              "      <td>-0.680266</td>\n",
              "      <td>-4.748498e+09</td>\n",
              "      <td>-20.968902</td>\n",
              "    </tr>\n",
              "    <tr>\n",
              "      <th>2019-09-03</th>\n",
              "      <td>8.79</td>\n",
              "      <td>8.75</td>\n",
              "      <td>8.75</td>\n",
              "      <td>8.77</td>\n",
              "      <td>2936767.0</td>\n",
              "      <td>0</td>\n",
              "      <td>33.111523</td>\n",
              "      <td>-68.749851</td>\n",
              "      <td>9.212683</td>\n",
              "      <td>8.802633</td>\n",
              "      <td>8.825556</td>\n",
              "      <td>8.754</td>\n",
              "      <td>8.745081</td>\n",
              "      <td>-58.212695</td>\n",
              "      <td>-31.428525</td>\n",
              "      <td>-0.001255</td>\n",
              "      <td>-0.027776</td>\n",
              "      <td>-1.460665</td>\n",
              "      <td>-4.748601e+09</td>\n",
              "      <td>-16.392404</td>\n",
              "    </tr>\n",
              "    <tr>\n",
              "      <th>2019-09-04</th>\n",
              "      <td>8.85</td>\n",
              "      <td>8.76</td>\n",
              "      <td>8.77</td>\n",
              "      <td>8.85</td>\n",
              "      <td>3300443.0</td>\n",
              "      <td>0</td>\n",
              "      <td>48.590152</td>\n",
              "      <td>-43.749851</td>\n",
              "      <td>9.198049</td>\n",
              "      <td>8.812106</td>\n",
              "      <td>8.792889</td>\n",
              "      <td>8.767</td>\n",
              "      <td>8.792810</td>\n",
              "      <td>-32.397688</td>\n",
              "      <td>-27.777645</td>\n",
              "      <td>0.008950</td>\n",
              "      <td>0.087080</td>\n",
              "      <td>-1.117312</td>\n",
              "      <td>-4.748637e+09</td>\n",
              "      <td>-3.640641</td>\n",
              "    </tr>\n",
              "    <tr>\n",
              "      <th>2019-09-05</th>\n",
              "      <td>8.90</td>\n",
              "      <td>8.85</td>\n",
              "      <td>8.87</td>\n",
              "      <td>8.86</td>\n",
              "      <td>2553843.0</td>\n",
              "      <td>0</td>\n",
              "      <td>50.250491</td>\n",
              "      <td>-40.625075</td>\n",
              "      <td>9.183171</td>\n",
              "      <td>8.821685</td>\n",
              "      <td>8.773778</td>\n",
              "      <td>8.791</td>\n",
              "      <td>8.829311</td>\n",
              "      <td>-2.993125</td>\n",
              "      <td>-6.666836</td>\n",
              "      <td>0.016876</td>\n",
              "      <td>0.176765</td>\n",
              "      <td>-0.449438</td>\n",
              "      <td>-4.748662e+09</td>\n",
              "      <td>5.776059</td>\n",
              "    </tr>\n",
              "    <tr>\n",
              "      <th>2019-09-06</th>\n",
              "      <td>8.91</td>\n",
              "      <td>8.87</td>\n",
              "      <td>8.89</td>\n",
              "      <td>8.90</td>\n",
              "      <td>2939239.0</td>\n",
              "      <td>0</td>\n",
              "      <td>56.704535</td>\n",
              "      <td>-28.125075</td>\n",
              "      <td>9.169512</td>\n",
              "      <td>8.837348</td>\n",
              "      <td>8.761778</td>\n",
              "      <td>8.825</td>\n",
              "      <td>8.872194</td>\n",
              "      <td>29.699708</td>\n",
              "      <td>16.128814</td>\n",
              "      <td>0.024835</td>\n",
              "      <td>0.267190</td>\n",
              "      <td>0.225220</td>\n",
              "      <td>-4.748661e+09</td>\n",
              "      <td>6.812410</td>\n",
              "    </tr>\n",
              "  </tbody>\n",
              "</table>\n",
              "</div>"
            ],
            "text/plain": [
              "            High   Low  Open  ...       ROC           CFI        DMI\n",
              "Date                          ...                                   \n",
              "2019-09-02  8.78  8.74  8.75  ... -0.680266 -4.748498e+09 -20.968902\n",
              "2019-09-03  8.79  8.75  8.75  ... -1.460665 -4.748601e+09 -16.392404\n",
              "2019-09-04  8.85  8.76  8.77  ... -1.117312 -4.748637e+09  -3.640641\n",
              "2019-09-05  8.90  8.85  8.87  ... -0.449438 -4.748662e+09   5.776059\n",
              "2019-09-06  8.91  8.87  8.89  ...  0.225220 -4.748661e+09   6.812410\n",
              "\n",
              "[5 rows x 20 columns]"
            ]
          },
          "metadata": {
            "tags": []
          },
          "execution_count": 22
        },
        {
          "output_type": "display_data",
          "data": {
            "image/png": "[encoded data removed]",
            "text/plain": [
              "<Figure size 432x288 with 1 Axes>"
            ]
          },
          "metadata": {
            "tags": []
          }
        }
      ]
    },
    {
      "cell_type": "markdown",
      "metadata": {
        "id": "96c_FgXOo98u",
        "colab_type": "text"
      },
      "source": [
        "# SAR"
      ]
    },
    {
      "cell_type": "code",
      "metadata": {
        "id": "eRPVEtrmo-bi",
        "colab_type": "code",
        "outputId": "be9e7888-645b-49c8-e914-173fe3791026",
        "colab": {
          "base_uri": "https://localhost:8080/",
          "height": 779
        }
      },
      "source": [
        "df['SAR'] = TA.SAR(ohlcv)\n",
        "print(df['SAR'].describe())\n",
        "sns.distplot(df['SAR'].dropna())\n",
        "df.tail()"
      ],
      "execution_count": 23,
      "outputs": [
        {
          "output_type": "stream",
          "text": [
            "count    3733.000000\n",
            "mean       10.446880\n",
            "std         2.396261\n",
            "min         4.357510\n",
            "25%         9.017325\n",
            "50%         9.770767\n",
            "75%        11.611582\n",
            "max        20.308800\n",
            "Name: SAR, dtype: float64\n"
          ],
          "name": "stdout"
        },
        {
          "output_type": "execute_result",
          "data": {
            "text/html": [
              "<div>\n",
              "<style scoped>\n",
              "    .dataframe tbody tr th:only-of-type {\n",
              "        vertical-align: middle;\n",
              "    }\n",
              "\n",
              "    .dataframe tbody tr th {\n",
              "        vertical-align: top;\n",
              "    }\n",
              "\n",
              "    .dataframe thead th {\n",
              "        text-align: right;\n",
              "    }\n",
              "</style>\n",
              "<table border=\"1\" class=\"dataframe\">\n",
              "  <thead>\n",
              "    <tr style=\"text-align: right;\">\n",
              "      <th></th>\n",
              "      <th>High</th>\n",
              "      <th>Low</th>\n",
              "      <th>Open</th>\n",
              "      <th>Close</th>\n",
              "      <th>Volume</th>\n",
              "      <th>triple_barrier_signal</th>\n",
              "      <th>RSI</th>\n",
              "      <th>Williams %R</th>\n",
              "      <th>SMA</th>\n",
              "      <th>EMA</th>\n",
              "      <th>WMA</th>\n",
              "      <th>HMA</th>\n",
              "      <th>TEMA</th>\n",
              "      <th>CCI</th>\n",
              "      <th>CMO</th>\n",
              "      <th>MACD</th>\n",
              "      <th>PPO</th>\n",
              "      <th>ROC</th>\n",
              "      <th>CFI</th>\n",
              "      <th>DMI</th>\n",
              "      <th>SAR</th>\n",
              "    </tr>\n",
              "    <tr>\n",
              "      <th>Date</th>\n",
              "      <th></th>\n",
              "      <th></th>\n",
              "      <th></th>\n",
              "      <th></th>\n",
              "      <th></th>\n",
              "      <th></th>\n",
              "      <th></th>\n",
              "      <th></th>\n",
              "      <th></th>\n",
              "      <th></th>\n",
              "      <th></th>\n",
              "      <th></th>\n",
              "      <th></th>\n",
              "      <th></th>\n",
              "      <th></th>\n",
              "      <th></th>\n",
              "      <th></th>\n",
              "      <th></th>\n",
              "      <th></th>\n",
              "      <th></th>\n",
              "      <th></th>\n",
              "    </tr>\n",
              "  </thead>\n",
              "  <tbody>\n",
              "    <tr>\n",
              "      <th>2019-09-02</th>\n",
              "      <td>8.78</td>\n",
              "      <td>8.74</td>\n",
              "      <td>8.75</td>\n",
              "      <td>8.76</td>\n",
              "      <td>2785057.0</td>\n",
              "      <td>0</td>\n",
              "      <td>30.856183</td>\n",
              "      <td>-72.727220</td>\n",
              "      <td>9.229268</td>\n",
              "      <td>8.810791</td>\n",
              "      <td>8.842000</td>\n",
              "      <td>8.751</td>\n",
              "      <td>8.734693</td>\n",
              "      <td>-66.301005</td>\n",
              "      <td>-38.888859</td>\n",
              "      <td>-0.007080</td>\n",
              "      <td>-0.092615</td>\n",
              "      <td>-0.680266</td>\n",
              "      <td>-4.748498e+09</td>\n",
              "      <td>-20.968902</td>\n",
              "      <td>8.8100</td>\n",
              "    </tr>\n",
              "    <tr>\n",
              "      <th>2019-09-03</th>\n",
              "      <td>8.79</td>\n",
              "      <td>8.75</td>\n",
              "      <td>8.75</td>\n",
              "      <td>8.77</td>\n",
              "      <td>2936767.0</td>\n",
              "      <td>0</td>\n",
              "      <td>33.111523</td>\n",
              "      <td>-68.749851</td>\n",
              "      <td>9.212683</td>\n",
              "      <td>8.802633</td>\n",
              "      <td>8.825556</td>\n",
              "      <td>8.754</td>\n",
              "      <td>8.745081</td>\n",
              "      <td>-58.212695</td>\n",
              "      <td>-31.428525</td>\n",
              "      <td>-0.001255</td>\n",
              "      <td>-0.027776</td>\n",
              "      <td>-1.460665</td>\n",
              "      <td>-4.748601e+09</td>\n",
              "      <td>-16.392404</td>\n",
              "      <td>8.7900</td>\n",
              "    </tr>\n",
              "    <tr>\n",
              "      <th>2019-09-04</th>\n",
              "      <td>8.85</td>\n",
              "      <td>8.76</td>\n",
              "      <td>8.77</td>\n",
              "      <td>8.85</td>\n",
              "      <td>3300443.0</td>\n",
              "      <td>0</td>\n",
              "      <td>48.590152</td>\n",
              "      <td>-43.749851</td>\n",
              "      <td>9.198049</td>\n",
              "      <td>8.812106</td>\n",
              "      <td>8.792889</td>\n",
              "      <td>8.767</td>\n",
              "      <td>8.792810</td>\n",
              "      <td>-32.397688</td>\n",
              "      <td>-27.777645</td>\n",
              "      <td>0.008950</td>\n",
              "      <td>0.087080</td>\n",
              "      <td>-1.117312</td>\n",
              "      <td>-4.748637e+09</td>\n",
              "      <td>-3.640641</td>\n",
              "      <td>8.6700</td>\n",
              "    </tr>\n",
              "    <tr>\n",
              "      <th>2019-09-05</th>\n",
              "      <td>8.90</td>\n",
              "      <td>8.85</td>\n",
              "      <td>8.87</td>\n",
              "      <td>8.86</td>\n",
              "      <td>2553843.0</td>\n",
              "      <td>0</td>\n",
              "      <td>50.250491</td>\n",
              "      <td>-40.625075</td>\n",
              "      <td>9.183171</td>\n",
              "      <td>8.821685</td>\n",
              "      <td>8.773778</td>\n",
              "      <td>8.791</td>\n",
              "      <td>8.829311</td>\n",
              "      <td>-2.993125</td>\n",
              "      <td>-6.666836</td>\n",
              "      <td>0.016876</td>\n",
              "      <td>0.176765</td>\n",
              "      <td>-0.449438</td>\n",
              "      <td>-4.748662e+09</td>\n",
              "      <td>5.776059</td>\n",
              "      <td>8.6700</td>\n",
              "    </tr>\n",
              "    <tr>\n",
              "      <th>2019-09-06</th>\n",
              "      <td>8.91</td>\n",
              "      <td>8.87</td>\n",
              "      <td>8.89</td>\n",
              "      <td>8.90</td>\n",
              "      <td>2939239.0</td>\n",
              "      <td>0</td>\n",
              "      <td>56.704535</td>\n",
              "      <td>-28.125075</td>\n",
              "      <td>9.169512</td>\n",
              "      <td>8.837348</td>\n",
              "      <td>8.761778</td>\n",
              "      <td>8.825</td>\n",
              "      <td>8.872194</td>\n",
              "      <td>29.699708</td>\n",
              "      <td>16.128814</td>\n",
              "      <td>0.024835</td>\n",
              "      <td>0.267190</td>\n",
              "      <td>0.225220</td>\n",
              "      <td>-4.748661e+09</td>\n",
              "      <td>6.812410</td>\n",
              "      <td>8.6792</td>\n",
              "    </tr>\n",
              "  </tbody>\n",
              "</table>\n",
              "</div>"
            ],
            "text/plain": [
              "            High   Low  Open  Close  ...       ROC           CFI        DMI     SAR\n",
              "Date                                 ...                                           \n",
              "2019-09-02  8.78  8.74  8.75   8.76  ... -0.680266 -4.748498e+09 -20.968902  8.8100\n",
              "2019-09-03  8.79  8.75  8.75   8.77  ... -1.460665 -4.748601e+09 -16.392404  8.7900\n",
              "2019-09-04  8.85  8.76  8.77   8.85  ... -1.117312 -4.748637e+09  -3.640641  8.6700\n",
              "2019-09-05  8.90  8.85  8.87   8.86  ... -0.449438 -4.748662e+09   5.776059  8.6700\n",
              "2019-09-06  8.91  8.87  8.89   8.90  ...  0.225220 -4.748661e+09   6.812410  8.6792\n",
              "\n",
              "[5 rows x 21 columns]"
            ]
          },
          "metadata": {
            "tags": []
          },
          "execution_count": 23
        },
        {
          "output_type": "display_data",
          "data": {
            "image/png": "[encoded data removed]",
            "text/plain": [
              "<Figure size 432x288 with 1 Axes>"
            ]
          },
          "metadata": {
            "tags": []
          }
        }
      ]
    },
    {
      "cell_type": "markdown",
      "metadata": {
        "id": "MoqrDEejwYOV",
        "colab_type": "text"
      },
      "source": [
        "# columns選取"
      ]
    },
    {
      "cell_type": "code",
      "metadata": {
        "id": "qrGg0ojRKuE1",
        "colab_type": "code",
        "outputId": "762fb0df-de7f-4f98-8162-ce9bcf0527c3",
        "colab": {
          "base_uri": "https://localhost:8080/",
          "height": 374
        }
      },
      "source": [
        "df = df.dropna(axis=0)#刪除有缺失的row,會缺失主要因為用時間rolling計算技術指標導致,正常的\n",
        "features = df.columns[-15:].tolist() #15個剛剛建立的技術指標\n",
        "y_name = 'triple_barrier_signal' #當作labels\n",
        "df = df[features+[y_name]]\n",
        "print(df.shape)\n",
        "df.tail()"
      ],
      "execution_count": 24,
      "outputs": [
        {
          "output_type": "stream",
          "text": [
            "(3453, 16)\n"
          ],
          "name": "stdout"
        },
        {
          "output_type": "execute_result",
          "data": {
            "text/html": [
              "<div>\n",
              "<style scoped>\n",
              "    .dataframe tbody tr th:only-of-type {\n",
              "        vertical-align: middle;\n",
              "    }\n",
              "\n",
              "    .dataframe tbody tr th {\n",
              "        vertical-align: top;\n",
              "    }\n",
              "\n",
              "    .dataframe thead th {\n",
              "        text-align: right;\n",
              "    }\n",
              "</style>\n",
              "<table border=\"1\" class=\"dataframe\">\n",
              "  <thead>\n",
              "    <tr style=\"text-align: right;\">\n",
              "      <th></th>\n",
              "      <th>RSI</th>\n",
              "      <th>Williams %R</th>\n",
              "      <th>SMA</th>\n",
              "      <th>EMA</th>\n",
              "      <th>WMA</th>\n",
              "      <th>HMA</th>\n",
              "      <th>TEMA</th>\n",
              "      <th>CCI</th>\n",
              "      <th>CMO</th>\n",
              "      <th>MACD</th>\n",
              "      <th>PPO</th>\n",
              "      <th>ROC</th>\n",
              "      <th>CFI</th>\n",
              "      <th>DMI</th>\n",
              "      <th>SAR</th>\n",
              "      <th>triple_barrier_signal</th>\n",
              "    </tr>\n",
              "    <tr>\n",
              "      <th>Date</th>\n",
              "      <th></th>\n",
              "      <th></th>\n",
              "      <th></th>\n",
              "      <th></th>\n",
              "      <th></th>\n",
              "      <th></th>\n",
              "      <th></th>\n",
              "      <th></th>\n",
              "      <th></th>\n",
              "      <th></th>\n",
              "      <th></th>\n",
              "      <th></th>\n",
              "      <th></th>\n",
              "      <th></th>\n",
              "      <th></th>\n",
              "      <th></th>\n",
              "    </tr>\n",
              "  </thead>\n",
              "  <tbody>\n",
              "    <tr>\n",
              "      <th>2019-09-02</th>\n",
              "      <td>30.856183</td>\n",
              "      <td>-72.727220</td>\n",
              "      <td>9.229268</td>\n",
              "      <td>8.810791</td>\n",
              "      <td>8.842000</td>\n",
              "      <td>8.751</td>\n",
              "      <td>8.734693</td>\n",
              "      <td>-66.301005</td>\n",
              "      <td>-38.888859</td>\n",
              "      <td>-0.007080</td>\n",
              "      <td>-0.092615</td>\n",
              "      <td>-0.680266</td>\n",
              "      <td>-4.748498e+09</td>\n",
              "      <td>-20.968902</td>\n",
              "      <td>8.8100</td>\n",
              "      <td>0</td>\n",
              "    </tr>\n",
              "    <tr>\n",
              "      <th>2019-09-03</th>\n",
              "      <td>33.111523</td>\n",
              "      <td>-68.749851</td>\n",
              "      <td>9.212683</td>\n",
              "      <td>8.802633</td>\n",
              "      <td>8.825556</td>\n",
              "      <td>8.754</td>\n",
              "      <td>8.745081</td>\n",
              "      <td>-58.212695</td>\n",
              "      <td>-31.428525</td>\n",
              "      <td>-0.001255</td>\n",
              "      <td>-0.027776</td>\n",
              "      <td>-1.460665</td>\n",
              "      <td>-4.748601e+09</td>\n",
              "      <td>-16.392404</td>\n",
              "      <td>8.7900</td>\n",
              "      <td>0</td>\n",
              "    </tr>\n",
              "    <tr>\n",
              "      <th>2019-09-04</th>\n",
              "      <td>48.590152</td>\n",
              "      <td>-43.749851</td>\n",
              "      <td>9.198049</td>\n",
              "      <td>8.812106</td>\n",
              "      <td>8.792889</td>\n",
              "      <td>8.767</td>\n",
              "      <td>8.792810</td>\n",
              "      <td>-32.397688</td>\n",
              "      <td>-27.777645</td>\n",
              "      <td>0.008950</td>\n",
              "      <td>0.087080</td>\n",
              "      <td>-1.117312</td>\n",
              "      <td>-4.748637e+09</td>\n",
              "      <td>-3.640641</td>\n",
              "      <td>8.6700</td>\n",
              "      <td>0</td>\n",
              "    </tr>\n",
              "    <tr>\n",
              "      <th>2019-09-05</th>\n",
              "      <td>50.250491</td>\n",
              "      <td>-40.625075</td>\n",
              "      <td>9.183171</td>\n",
              "      <td>8.821685</td>\n",
              "      <td>8.773778</td>\n",
              "      <td>8.791</td>\n",
              "      <td>8.829311</td>\n",
              "      <td>-2.993125</td>\n",
              "      <td>-6.666836</td>\n",
              "      <td>0.016876</td>\n",
              "      <td>0.176765</td>\n",
              "      <td>-0.449438</td>\n",
              "      <td>-4.748662e+09</td>\n",
              "      <td>5.776059</td>\n",
              "      <td>8.6700</td>\n",
              "      <td>0</td>\n",
              "    </tr>\n",
              "    <tr>\n",
              "      <th>2019-09-06</th>\n",
              "      <td>56.704535</td>\n",
              "      <td>-28.125075</td>\n",
              "      <td>9.169512</td>\n",
              "      <td>8.837348</td>\n",
              "      <td>8.761778</td>\n",
              "      <td>8.825</td>\n",
              "      <td>8.872194</td>\n",
              "      <td>29.699708</td>\n",
              "      <td>16.128814</td>\n",
              "      <td>0.024835</td>\n",
              "      <td>0.267190</td>\n",
              "      <td>0.225220</td>\n",
              "      <td>-4.748661e+09</td>\n",
              "      <td>6.812410</td>\n",
              "      <td>8.6792</td>\n",
              "      <td>0</td>\n",
              "    </tr>\n",
              "  </tbody>\n",
              "</table>\n",
              "</div>"
            ],
            "text/plain": [
              "                  RSI  Williams %R  ...     SAR  triple_barrier_signal\n",
              "Date                                ...                               \n",
              "2019-09-02  30.856183   -72.727220  ...  8.8100                      0\n",
              "2019-09-03  33.111523   -68.749851  ...  8.7900                      0\n",
              "2019-09-04  48.590152   -43.749851  ...  8.6700                      0\n",
              "2019-09-05  50.250491   -40.625075  ...  8.6700                      0\n",
              "2019-09-06  56.704535   -28.125075  ...  8.6792                      0\n",
              "\n",
              "[5 rows x 16 columns]"
            ]
          },
          "metadata": {
            "tags": []
          },
          "execution_count": 24
        }
      ]
    },
    {
      "cell_type": "markdown",
      "metadata": {
        "id": "YSh6cJBEwgtg",
        "colab_type": "text"
      },
      "source": [
        "# 相關性分析"
      ]
    },
    {
      "cell_type": "code",
      "metadata": {
        "id": "hKy0pMZfLKEH",
        "colab_type": "code",
        "outputId": "2203593d-7e35-44cc-b6cb-ae871b79ec8a",
        "colab": {
          "base_uri": "https://localhost:8080/",
          "height": 811
        }
      },
      "source": [
        "import seaborn as sns\n",
        "import matplotlib.pyplot as plt\n",
        "plt.figure(figsize=(14,12))\n",
        "sns.heatmap(abs(df.corr()),annot=True,linewidths=0.1)"
      ],
      "execution_count": 25,
      "outputs": [
        {
          "output_type": "execute_result",
          "data": {
            "text/plain": [
              "<matplotlib.axes._subplots.AxesSubplot at 0x7f8e886b77b8>"
            ]
          },
          "metadata": {
            "tags": []
          },
          "execution_count": 25
        },
        {
          "output_type": "display_data",
          "data": {
            "image/png": "[encoded data removed]",
            "text/plain": [
              "<Figure size 1008x864 with 2 Axes>"
            ]
          },
          "metadata": {
            "tags": []
          }
        }
      ]
    },
    {
      "cell_type": "markdown",
      "metadata": {
        "id": "c68TXVQaqGl3",
        "colab_type": "text"
      },
      "source": [
        "# features scaling"
      ]
    },
    {
      "cell_type": "code",
      "metadata": {
        "id": "JpZPZWfJqGuo",
        "colab_type": "code",
        "outputId": "cd842073-03ae-4a3f-c8a0-0d0d78f4005d",
        "colab": {
          "base_uri": "https://localhost:8080/",
          "height": 547
        }
      },
      "source": [
        "from sklearn.preprocessing import MinMaxScaler\n",
        "min_max_scaler = MinMaxScaler()\n",
        "df_minmax = min_max_scaler.fit_transform(df)#縮放到0-1之間\n",
        "df_minmax = pd.DataFrame(df_minmax,\n",
        "                         index=df.index,\n",
        "                         columns=df.columns)#轉回dataframe格式\n",
        "df_minmax[y_name] = df[y_name]#y不用MinMaxScaler\n",
        "print(df_minmax.describe())\n",
        "df_minmax.tail()"
      ],
      "execution_count": 26,
      "outputs": [
        {
          "output_type": "stream",
          "text": [
            "               RSI  Williams %R  ...          SAR  triple_barrier_signal\n",
            "count  3453.000000  3453.000000  ...  3453.000000            3453.000000\n",
            "mean      0.468181     0.487365  ...     0.389000              -0.258905\n",
            "std       0.182639     0.305568  ...     0.149469               0.795508\n",
            "min       0.000000     0.000000  ...     0.000000              -1.000000\n",
            "25%       0.340572     0.210528  ...     0.300397              -1.000000\n",
            "50%       0.467786     0.490595  ...     0.347764               0.000000\n",
            "75%       0.585718     0.750025  ...     0.459918               0.000000\n",
            "max       1.000000     1.000000  ...     1.000000               1.000000\n",
            "\n",
            "[8 rows x 16 columns]\n"
          ],
          "name": "stdout"
        },
        {
          "output_type": "execute_result",
          "data": {
            "text/html": [
              "<div>\n",
              "<style scoped>\n",
              "    .dataframe tbody tr th:only-of-type {\n",
              "        vertical-align: middle;\n",
              "    }\n",
              "\n",
              "    .dataframe tbody tr th {\n",
              "        vertical-align: top;\n",
              "    }\n",
              "\n",
              "    .dataframe thead th {\n",
              "        text-align: right;\n",
              "    }\n",
              "</style>\n",
              "<table border=\"1\" class=\"dataframe\">\n",
              "  <thead>\n",
              "    <tr style=\"text-align: right;\">\n",
              "      <th></th>\n",
              "      <th>RSI</th>\n",
              "      <th>Williams %R</th>\n",
              "      <th>SMA</th>\n",
              "      <th>EMA</th>\n",
              "      <th>WMA</th>\n",
              "      <th>HMA</th>\n",
              "      <th>TEMA</th>\n",
              "      <th>CCI</th>\n",
              "      <th>CMO</th>\n",
              "      <th>MACD</th>\n",
              "      <th>PPO</th>\n",
              "      <th>ROC</th>\n",
              "      <th>CFI</th>\n",
              "      <th>DMI</th>\n",
              "      <th>SAR</th>\n",
              "      <th>triple_barrier_signal</th>\n",
              "    </tr>\n",
              "    <tr>\n",
              "      <th>Date</th>\n",
              "      <th></th>\n",
              "      <th></th>\n",
              "      <th></th>\n",
              "      <th></th>\n",
              "      <th></th>\n",
              "      <th></th>\n",
              "      <th></th>\n",
              "      <th></th>\n",
              "      <th></th>\n",
              "      <th></th>\n",
              "      <th></th>\n",
              "      <th></th>\n",
              "      <th></th>\n",
              "      <th></th>\n",
              "      <th></th>\n",
              "      <th></th>\n",
              "    </tr>\n",
              "  </thead>\n",
              "  <tbody>\n",
              "    <tr>\n",
              "      <th>2019-09-02</th>\n",
              "      <td>0.259479</td>\n",
              "      <td>0.272728</td>\n",
              "      <td>0.265079</td>\n",
              "      <td>0.256431</td>\n",
              "      <td>0.266093</td>\n",
              "      <td>0.271253</td>\n",
              "      <td>0.271943</td>\n",
              "      <td>0.353770</td>\n",
              "      <td>0.305556</td>\n",
              "      <td>0.565281</td>\n",
              "      <td>0.408336</td>\n",
              "      <td>0.434901</td>\n",
              "      <td>0.639143</td>\n",
              "      <td>0.010457</td>\n",
              "      <td>0.279130</td>\n",
              "      <td>0</td>\n",
              "    </tr>\n",
              "    <tr>\n",
              "      <th>2019-09-03</th>\n",
              "      <td>0.283633</td>\n",
              "      <td>0.312501</td>\n",
              "      <td>0.263789</td>\n",
              "      <td>0.255853</td>\n",
              "      <td>0.264959</td>\n",
              "      <td>0.271453</td>\n",
              "      <td>0.272617</td>\n",
              "      <td>0.368723</td>\n",
              "      <td>0.342857</td>\n",
              "      <td>0.572519</td>\n",
              "      <td>0.415624</td>\n",
              "      <td>0.426158</td>\n",
              "      <td>0.639136</td>\n",
              "      <td>0.010994</td>\n",
              "      <td>0.277877</td>\n",
              "      <td>0</td>\n",
              "    </tr>\n",
              "    <tr>\n",
              "      <th>2019-09-04</th>\n",
              "      <td>0.449407</td>\n",
              "      <td>0.562501</td>\n",
              "      <td>0.262652</td>\n",
              "      <td>0.256524</td>\n",
              "      <td>0.262706</td>\n",
              "      <td>0.272323</td>\n",
              "      <td>0.275711</td>\n",
              "      <td>0.416451</td>\n",
              "      <td>0.361112</td>\n",
              "      <td>0.585199</td>\n",
              "      <td>0.428534</td>\n",
              "      <td>0.430005</td>\n",
              "      <td>0.639133</td>\n",
              "      <td>0.012493</td>\n",
              "      <td>0.270354</td>\n",
              "      <td>0</td>\n",
              "    </tr>\n",
              "    <tr>\n",
              "      <th>2019-09-05</th>\n",
              "      <td>0.467189</td>\n",
              "      <td>0.593749</td>\n",
              "      <td>0.261496</td>\n",
              "      <td>0.257203</td>\n",
              "      <td>0.261388</td>\n",
              "      <td>0.273928</td>\n",
              "      <td>0.278078</td>\n",
              "      <td>0.470815</td>\n",
              "      <td>0.466666</td>\n",
              "      <td>0.595047</td>\n",
              "      <td>0.438614</td>\n",
              "      <td>0.437487</td>\n",
              "      <td>0.639132</td>\n",
              "      <td>0.013599</td>\n",
              "      <td>0.270354</td>\n",
              "      <td>0</td>\n",
              "    </tr>\n",
              "    <tr>\n",
              "      <th>2019-09-06</th>\n",
              "      <td>0.536311</td>\n",
              "      <td>0.718749</td>\n",
              "      <td>0.260434</td>\n",
              "      <td>0.258313</td>\n",
              "      <td>0.260561</td>\n",
              "      <td>0.276201</td>\n",
              "      <td>0.280858</td>\n",
              "      <td>0.531258</td>\n",
              "      <td>0.580644</td>\n",
              "      <td>0.604937</td>\n",
              "      <td>0.448778</td>\n",
              "      <td>0.445045</td>\n",
              "      <td>0.639132</td>\n",
              "      <td>0.013721</td>\n",
              "      <td>0.270930</td>\n",
              "      <td>0</td>\n",
              "    </tr>\n",
              "  </tbody>\n",
              "</table>\n",
              "</div>"
            ],
            "text/plain": [
              "                 RSI  Williams %R  ...       SAR  triple_barrier_signal\n",
              "Date                               ...                                 \n",
              "2019-09-02  0.259479     0.272728  ...  0.279130                      0\n",
              "2019-09-03  0.283633     0.312501  ...  0.277877                      0\n",
              "2019-09-04  0.449407     0.562501  ...  0.270354                      0\n",
              "2019-09-05  0.467189     0.593749  ...  0.270354                      0\n",
              "2019-09-06  0.536311     0.718749  ...  0.270930                      0\n",
              "\n",
              "[5 rows x 16 columns]"
            ]
          },
          "metadata": {
            "tags": []
          },
          "execution_count": 26
        }
      ]
    },
    {
      "cell_type": "code",
      "metadata": {
        "id": "5MCZDpBgrrQQ",
        "colab_type": "code",
        "outputId": "2e188a0f-8920-4318-a1cd-f02a61757822",
        "colab": {
          "base_uri": "https://localhost:8080/",
          "height": 35
        }
      },
      "source": [
        "df = df_minmax\n",
        "print('特徵縮放完成!')"
      ],
      "execution_count": 27,
      "outputs": [
        {
          "output_type": "stream",
          "text": [
            "特徵縮放完成!\n"
          ],
          "name": "stdout"
        }
      ]
    },
    {
      "cell_type": "markdown",
      "metadata": {
        "id": "_kc7tvz_M7PO",
        "colab_type": "text"
      },
      "source": [
        "# Xs ,ys prepare"
      ]
    },
    {
      "cell_type": "code",
      "metadata": {
        "id": "2ZHvlRJ5Lzzu",
        "colab_type": "code",
        "outputId": "7b564540-8e74-426b-9cc6-82402b8174e9",
        "colab": {
          "base_uri": "https://localhost:8080/",
          "height": 52
        }
      },
      "source": [
        "from tqdm import tqdm\n",
        "import numpy as np\n",
        "\n",
        "#定義觀察天數,起始index(0),結束index(資料筆數-觀察天數)\n",
        "days = 15\n",
        "b_index = 0\n",
        "f_index = len(df)-days\n",
        "\n",
        "#特徵欄位\n",
        "features = df.drop(y_name,axis=1).columns.tolist()\n",
        "\n",
        "#待存放序列\n",
        "Xs = []\n",
        "ys = []\n",
        "indexs = []\n",
        "\n",
        "for i in tqdm(range(b_index,f_index,1)):#每次i都會遞增1\n",
        "  X = df.iloc[i:i+days,:][features] #ex:0...14(不含15)之features\n",
        "  y = df.iloc[i+days-1:i+days,:][y_name]#ex:14,y_name\n",
        "  X = np.array(X) # to np_array\n",
        "  Xs.append(X) #加入一筆X\n",
        "  ys.append(y) #加入一筆y\n",
        "  indexs.append((df.iloc[[i]].index,\n",
        "                 df.iloc[[i+days]].index)) #加入資料日期\n",
        "#轉換成np_array\n",
        "Xs = np.array(Xs)\n",
        "ys = np.array(ys)\n",
        "print('準備完成')"
      ],
      "execution_count": 28,
      "outputs": [
        {
          "output_type": "stream",
          "text": [
            "100%|██████████| 3438/3438 [00:07<00:00, 478.22it/s]\n"
          ],
          "name": "stderr"
        },
        {
          "output_type": "stream",
          "text": [
            "準備完成\n"
          ],
          "name": "stdout"
        }
      ]
    },
    {
      "cell_type": "markdown",
      "metadata": {
        "id": "a9iNRYKpNfIP",
        "colab_type": "text"
      },
      "source": [
        "# check"
      ]
    },
    {
      "cell_type": "code",
      "metadata": {
        "id": "7YiS6ZmtNfSf",
        "colab_type": "code",
        "outputId": "3aab0717-30dd-4b7c-d46d-a665990f2935",
        "colab": {
          "base_uri": "https://localhost:8080/",
          "height": 69
        }
      },
      "source": [
        "print('資料筆數:',len(Xs))\n",
        "print('第一筆的index開始和結束:{}-{}'.format(indexs[0][0].date[0],indexs[0][1].date[0]))\n",
        "print('最後一筆的index開始和結束:{}-{}'.format(indexs[-1][0].date[0],indexs[-1][1].date[0]))"
      ],
      "execution_count": 29,
      "outputs": [
        {
          "output_type": "stream",
          "text": [
            "資料筆數: 3438\n",
            "第一筆的index開始和結束:2000-04-28-2000-05-19\n",
            "最後一筆的index開始和結束:2019-08-16-2019-09-06\n"
          ],
          "name": "stdout"
        }
      ]
    },
    {
      "cell_type": "markdown",
      "metadata": {
        "id": "Pabl4tEsXYB8",
        "colab_type": "text"
      },
      "source": [
        "# Reshape X"
      ]
    },
    {
      "cell_type": "markdown",
      "metadata": {
        "id": "RvUPQWb1An8u",
        "colab_type": "text"
      },
      "source": [
        "(圖片數量,長,寬,1張)"
      ]
    },
    {
      "cell_type": "code",
      "metadata": {
        "id": "In4R0IcSPDwG",
        "colab_type": "code",
        "outputId": "bbba5cc1-1b98-4e4f-837a-a3151d37441c",
        "colab": {
          "base_uri": "https://localhost:8080/",
          "height": 52
        }
      },
      "source": [
        "print(Xs.shape)\n",
        "Xs = Xs.reshape(-1,days,len(features),1)\n",
        "print(Xs.shape)"
      ],
      "execution_count": 30,
      "outputs": [
        {
          "output_type": "stream",
          "text": [
            "(3438, 15, 15)\n",
            "(3438, 15, 15, 1)\n"
          ],
          "name": "stdout"
        }
      ]
    },
    {
      "cell_type": "markdown",
      "metadata": {
        "id": "lUy2cpReXaOV",
        "colab_type": "text"
      },
      "source": [
        "# One hot encoding of label"
      ]
    },
    {
      "cell_type": "markdown",
      "metadata": {
        "id": "hjDc-sStA1gk",
        "colab_type": "text"
      },
      "source": [
        "原始y代表漲幅"
      ]
    },
    {
      "cell_type": "code",
      "metadata": {
        "id": "6XGRdxmfWrfo",
        "colab_type": "code",
        "outputId": "ab0cb45b-e3d0-4e66-c5de-ea0cfcfd2274",
        "colab": {
          "base_uri": "https://localhost:8080/",
          "height": 243
        }
      },
      "source": [
        "print(ys.shape)\n",
        "print(ys[:5])\n",
        "\n",
        "from keras.utils.np_utils import to_categorical\n",
        "ys = to_categorical(ys, num_classes = 3)\n",
        "print(ys.shape)\n",
        "print(ys[:5])"
      ],
      "execution_count": 31,
      "outputs": [
        {
          "output_type": "stream",
          "text": [
            "(3438, 1)\n",
            "[[-1]\n",
            " [-1]\n",
            " [-1]\n",
            " [-1]\n",
            " [ 1]]\n"
          ],
          "name": "stdout"
        },
        {
          "output_type": "stream",
          "text": [
            "Using TensorFlow backend.\n"
          ],
          "name": "stderr"
        },
        {
          "output_type": "stream",
          "text": [
            "(3438, 3)\n",
            "[[0. 0. 1.]\n",
            " [0. 0. 1.]\n",
            " [0. 0. 1.]\n",
            " [0. 0. 1.]\n",
            " [0. 1. 0.]]\n"
          ],
          "name": "stdout"
        }
      ]
    },
    {
      "cell_type": "markdown",
      "metadata": {
        "id": "TYcPI2TWBTpJ",
        "colab_type": "text"
      },
      "source": [
        "# Visualization"
      ]
    },
    {
      "cell_type": "code",
      "metadata": {
        "id": "ibNjBLRaBUJh",
        "colab_type": "code",
        "outputId": "b7300844-d46f-4876-a241-8d9a8ec36f5a",
        "colab": {
          "base_uri": "https://localhost:8080/",
          "height": 607
        }
      },
      "source": [
        "import matplotlib.pyplot as plt\n",
        "import matplotlib.image as mpimg\n",
        "%matplotlib inline\n",
        "Xs_v = Xs.reshape(-1,Xs.shape[1],Xs.shape[2])\n",
        "plt.figure(figsize=(10,10))\n",
        "plt.subplots_adjust(wspace =0, hspace =0.3)\n",
        "for i in range(0,9):\n",
        "    plt.subplot(330 + (i+1))\n",
        "    plt.imshow(Xs_v[i])\n",
        "    plt.title(np.argmax(ys[i]))"
      ],
      "execution_count": 32,
      "outputs": [
        {
          "output_type": "display_data",
          "data": {
            "image/png": "[encoded data removed]",
            "text/plain": [
              "<Figure size 720x720 with 9 Axes>"
            ]
          },
          "metadata": {
            "tags": []
          }
        }
      ]
    },
    {
      "cell_type": "markdown",
      "metadata": {
        "id": "5Oa6gYq_aVjE",
        "colab_type": "text"
      },
      "source": [
        "# Split training and validation sets"
      ]
    },
    {
      "cell_type": "code",
      "metadata": {
        "id": "OLHFbreckAlH",
        "colab_type": "code",
        "colab": {
          "base_uri": "https://localhost:8080/",
          "height": 35
        },
        "outputId": "6fea5d14-8e87-4da7-9784-16fef35f89bd"
      },
      "source": [
        "X_test = Xs[-40:] #最後40天features當作test資料\n",
        "X_train,y_train = Xs[:-40],ys[:-40] #其他當作訓練\n",
        "print(X_train.shape,y_train.shape,X_test.shape)"
      ],
      "execution_count": 33,
      "outputs": [
        {
          "output_type": "stream",
          "text": [
            "(3398, 15, 15, 1) (3398, 3) (40, 15, 15, 1)\n"
          ],
          "name": "stdout"
        }
      ]
    },
    {
      "cell_type": "code",
      "metadata": {
        "id": "MgsrVpYUYf5J",
        "colab_type": "code",
        "outputId": "7581de12-ce10-4227-f439-05da9ccb444d",
        "colab": {
          "base_uri": "https://localhost:8080/",
          "height": 35
        }
      },
      "source": [
        "from sklearn.model_selection import train_test_split\n",
        "xtrain, xval, ytrain, yval = train_test_split(X_train,\n",
        "                                              y_train, \n",
        "                                              test_size=0.2,\n",
        "                                              random_state=42,\n",
        "                                              shuffle=True,#是否洗牌\n",
        "                                              stratify=None #是否根據y欄位做分層取樣\n",
        "                                             )\n",
        "print(xtrain.shape, ytrain.shape, xval.shape, yval.shape)"
      ],
      "execution_count": 34,
      "outputs": [
        {
          "output_type": "stream",
          "text": [
            "(2718, 15, 15, 1) (2718, 3) (680, 15, 15, 1) (680, 3)\n"
          ],
          "name": "stdout"
        }
      ]
    },
    {
      "cell_type": "markdown",
      "metadata": {
        "id": "2xQOFrENMkSb",
        "colab_type": "text"
      },
      "source": [
        "# 看一下樣本的label分布情況是否平均(待解決)"
      ]
    },
    {
      "cell_type": "markdown",
      "metadata": {
        "id": "xnUz7A3tlfya",
        "colab_type": "text"
      },
      "source": [
        "0:Hold,1:Buy,2:Sell"
      ]
    },
    {
      "cell_type": "code",
      "metadata": {
        "id": "aA9SXiicML6Y",
        "colab_type": "code",
        "outputId": "acbec8e7-c0bb-4849-ec9d-fe303146635d",
        "colab": {
          "base_uri": "https://localhost:8080/",
          "height": 87
        }
      },
      "source": [
        "pd.Series([np.argmax(i) for i in ys]).value_counts()"
      ],
      "execution_count": 35,
      "outputs": [
        {
          "output_type": "execute_result",
          "data": {
            "text/plain": [
              "2    1650\n",
              "0    1036\n",
              "1     752\n",
              "dtype: int64"
            ]
          },
          "metadata": {
            "tags": []
          },
          "execution_count": 35
        }
      ]
    },
    {
      "cell_type": "code",
      "metadata": {
        "id": "UIOBe8tVL5dV",
        "colab_type": "code",
        "outputId": "88256357-eb6a-49ef-ef11-c97a5fb3739b",
        "colab": {
          "base_uri": "https://localhost:8080/",
          "height": 87
        }
      },
      "source": [
        "pd.Series([np.argmax(i) for i in ytrain]).value_counts()"
      ],
      "execution_count": 36,
      "outputs": [
        {
          "output_type": "execute_result",
          "data": {
            "text/plain": [
              "2    1330\n",
              "0     808\n",
              "1     580\n",
              "dtype: int64"
            ]
          },
          "metadata": {
            "tags": []
          },
          "execution_count": 36
        }
      ]
    },
    {
      "cell_type": "code",
      "metadata": {
        "id": "A235BZ6cMQ-S",
        "colab_type": "code",
        "outputId": "81e84a3c-d1a1-4519-f394-17facf250a01",
        "colab": {
          "base_uri": "https://localhost:8080/",
          "height": 87
        }
      },
      "source": [
        "pd.Series([np.argmax(i) for i in yval]).value_counts()"
      ],
      "execution_count": 37,
      "outputs": [
        {
          "output_type": "execute_result",
          "data": {
            "text/plain": [
              "2    298\n",
              "0    210\n",
              "1    172\n",
              "dtype: int64"
            ]
          },
          "metadata": {
            "tags": []
          },
          "execution_count": 37
        }
      ]
    },
    {
      "cell_type": "markdown",
      "metadata": {
        "id": "m-oXz0FGarb1",
        "colab_type": "text"
      },
      "source": [
        "# CNN"
      ]
    },
    {
      "cell_type": "code",
      "metadata": {
        "id": "eWOsWp7_amoX",
        "colab_type": "code",
        "colab": {}
      },
      "source": [
        "from keras import backend as K\n",
        "from keras.models import Sequential\n",
        "from keras.layers import Dense, Dropout, Lambda, Flatten, BatchNormalization\n",
        "from keras.layers import Conv2D, MaxPool2D, AvgPool2D\n",
        "from keras.optimizers import Adam #做梯度下降的一種優化方法\n",
        "from keras.callbacks import ReduceLROnPlateau , EarlyStopping #減少學習速率 on Plateau"
      ],
      "execution_count": 0,
      "outputs": []
    },
    {
      "cell_type": "code",
      "metadata": {
        "id": "yd-csnW2auJS",
        "colab_type": "code",
        "outputId": "38bef246-a244-4ca2-a169-473499467a47",
        "colab": {
          "base_uri": "https://localhost:8080/",
          "height": 679
        }
      },
      "source": [
        "model = Sequential()\n",
        "\n",
        "nclasses = 3 \n",
        "\n",
        "model.add(Conv2D(filters=32, kernel_size=(3,3), padding='same', activation='relu', input_shape=(15,15,1)))\n",
        "model.add(Conv2D(filters=64, kernel_size=(3,3), padding='same', activation='relu',))\n",
        "model.add(MaxPool2D(pool_size=(2,2)))\n",
        "model.add(Dropout(0.25))\n",
        "model.add(Flatten())\n",
        "model.add(Dense(128, activation='relu'))\n",
        "model.add(Dropout(0.50))\n",
        "model.add(Dense(nclasses, activation='softmax'))\n",
        "model.summary()"
      ],
      "execution_count": 39,
      "outputs": [
        {
          "output_type": "stream",
          "text": [
            "WARNING:tensorflow:From /usr/local/lib/python3.6/dist-packages/keras/backend/tensorflow_backend.py:66: The name tf.get_default_graph is deprecated. Please use tf.compat.v1.get_default_graph instead.\n",
            "\n",
            "WARNING:tensorflow:From /usr/local/lib/python3.6/dist-packages/keras/backend/tensorflow_backend.py:541: The name tf.placeholder is deprecated. Please use tf.compat.v1.placeholder instead.\n",
            "\n",
            "WARNING:tensorflow:From /usr/local/lib/python3.6/dist-packages/keras/backend/tensorflow_backend.py:4432: The name tf.random_uniform is deprecated. Please use tf.random.uniform instead.\n",
            "\n",
            "WARNING:tensorflow:From /usr/local/lib/python3.6/dist-packages/keras/backend/tensorflow_backend.py:4267: The name tf.nn.max_pool is deprecated. Please use tf.nn.max_pool2d instead.\n",
            "\n",
            "WARNING:tensorflow:From /usr/local/lib/python3.6/dist-packages/keras/backend/tensorflow_backend.py:148: The name tf.placeholder_with_default is deprecated. Please use tf.compat.v1.placeholder_with_default instead.\n",
            "\n",
            "WARNING:tensorflow:From /usr/local/lib/python3.6/dist-packages/keras/backend/tensorflow_backend.py:3733: calling dropout (from tensorflow.python.ops.nn_ops) with keep_prob is deprecated and will be removed in a future version.\n",
            "Instructions for updating:\n",
            "Please use `rate` instead of `keep_prob`. Rate should be set to `rate = 1 - keep_prob`.\n",
            "Model: \"sequential_1\"\n",
            "_________________________________________________________________\n",
            "Layer (type)                 Output Shape              Param #   \n",
            "=================================================================\n",
            "conv2d_1 (Conv2D)            (None, 15, 15, 32)        320       \n",
            "_________________________________________________________________\n",
            "conv2d_2 (Conv2D)            (None, 15, 15, 64)        18496     \n",
            "_________________________________________________________________\n",
            "max_pooling2d_1 (MaxPooling2 (None, 7, 7, 64)          0         \n",
            "_________________________________________________________________\n",
            "dropout_1 (Dropout)          (None, 7, 7, 64)          0         \n",
            "_________________________________________________________________\n",
            "flatten_1 (Flatten)          (None, 3136)              0         \n",
            "_________________________________________________________________\n",
            "dense_1 (Dense)              (None, 128)               401536    \n",
            "_________________________________________________________________\n",
            "dropout_2 (Dropout)          (None, 128)               0         \n",
            "_________________________________________________________________\n",
            "dense_2 (Dense)              (None, 3)                 387       \n",
            "=================================================================\n",
            "Total params: 420,739\n",
            "Trainable params: 420,739\n",
            "Non-trainable params: 0\n",
            "_________________________________________________________________\n"
          ],
          "name": "stdout"
        }
      ]
    },
    {
      "cell_type": "code",
      "metadata": {
        "id": "8Z913AqUa8bJ",
        "colab_type": "code",
        "outputId": "885e6aee-f7ca-4e9a-e682-39acf451c16b",
        "colab": {
          "base_uri": "https://localhost:8080/",
          "height": 107
        }
      },
      "source": [
        "model.compile(optimizer=\"adam\", loss=\"categorical_crossentropy\", metrics=[\"accuracy\"])"
      ],
      "execution_count": 40,
      "outputs": [
        {
          "output_type": "stream",
          "text": [
            "WARNING:tensorflow:From /usr/local/lib/python3.6/dist-packages/keras/optimizers.py:793: The name tf.train.Optimizer is deprecated. Please use tf.compat.v1.train.Optimizer instead.\n",
            "\n",
            "WARNING:tensorflow:From /usr/local/lib/python3.6/dist-packages/keras/backend/tensorflow_backend.py:3576: The name tf.log is deprecated. Please use tf.math.log instead.\n",
            "\n"
          ],
          "name": "stdout"
        }
      ]
    },
    {
      "cell_type": "markdown",
      "metadata": {
        "id": "VORA4n9Lz9of",
        "colab_type": "text"
      },
      "source": [
        "# 優化器"
      ]
    },
    {
      "cell_type": "code",
      "metadata": {
        "id": "Kw_j4R4Da_To",
        "colab_type": "code",
        "colab": {}
      },
      "source": [
        "#1\n",
        "lr_reduction = ReduceLROnPlateau(monitor = 'val_acc', \n",
        "                                 factor=0.5, \n",
        "                                 patience = 3, \n",
        "                                 verbose = 1, \n",
        "                                 min_lr = 0.00001)\n",
        "\n",
        "#2\n",
        "es = EarlyStopping(monitor='val_loss',#驗證集loss\n",
        "                   min_delta=0, \n",
        "                   patience=20,  \n",
        "                   mode='min',\n",
        "                   restore_best_weights=False)#恢復最佳權重"
      ],
      "execution_count": 0,
      "outputs": []
    },
    {
      "cell_type": "markdown",
      "metadata": {
        "id": "aevlVsI9Lk9a",
        "colab_type": "text"
      },
      "source": [
        "# fit"
      ]
    },
    {
      "cell_type": "code",
      "metadata": {
        "id": "TJJR7Yg-bHac",
        "colab_type": "code",
        "outputId": "c1db688c-f3a5-495b-84ad-b07a29442ce1",
        "colab": {
          "base_uri": "https://localhost:8080/",
          "height": 1000
        }
      },
      "source": [
        "history = model.fit(xtrain,ytrain,\n",
        "                    batch_size=128,\n",
        "                    epochs=200,\n",
        "                    validation_data=(xval,yval),\n",
        "                    verbose=1,callbacks=[es])"
      ],
      "execution_count": 42,
      "outputs": [
        {
          "output_type": "stream",
          "text": [
            "WARNING:tensorflow:From /usr/local/lib/python3.6/dist-packages/tensorflow/python/ops/math_grad.py:1250: add_dispatch_support.<locals>.wrapper (from tensorflow.python.ops.array_ops) is deprecated and will be removed in a future version.\n",
            "Instructions for updating:\n",
            "Use tf.where in 2.0, which has the same broadcast rule as np.where\n",
            "Train on 2718 samples, validate on 680 samples\n",
            "Epoch 1/200\n",
            "2718/2718 [==============================] - 3s 1ms/step - loss: 1.0287 - acc: 0.4838 - val_loss: 1.0277 - val_acc: 0.4382\n",
            "Epoch 2/200\n",
            "2718/2718 [==============================] - 0s 57us/step - loss: 0.9923 - acc: 0.4845 - val_loss: 1.0367 - val_acc: 0.4382\n",
            "Epoch 3/200\n",
            "2718/2718 [==============================] - 0s 54us/step - loss: 0.9755 - acc: 0.5033 - val_loss: 0.9704 - val_acc: 0.4985\n",
            "Epoch 4/200\n",
            "2718/2718 [==============================] - 0s 50us/step - loss: 0.9580 - acc: 0.5269 - val_loss: 0.9623 - val_acc: 0.5471\n",
            "Epoch 5/200\n",
            "2718/2718 [==============================] - 0s 51us/step - loss: 0.9520 - acc: 0.5202 - val_loss: 0.9529 - val_acc: 0.5529\n",
            "Epoch 6/200\n",
            "2718/2718 [==============================] - 0s 50us/step - loss: 0.9430 - acc: 0.5357 - val_loss: 0.9632 - val_acc: 0.5397\n",
            "Epoch 7/200\n",
            "2718/2718 [==============================] - 0s 54us/step - loss: 0.9316 - acc: 0.5552 - val_loss: 0.9421 - val_acc: 0.5471\n",
            "Epoch 8/200\n",
            "2718/2718 [==============================] - 0s 51us/step - loss: 0.9233 - acc: 0.5515 - val_loss: 0.9505 - val_acc: 0.5471\n",
            "Epoch 9/200\n",
            "2718/2718 [==============================] - 0s 50us/step - loss: 0.9206 - acc: 0.5504 - val_loss: 0.9353 - val_acc: 0.5456\n",
            "Epoch 10/200\n",
            "2718/2718 [==============================] - 0s 48us/step - loss: 0.9091 - acc: 0.5574 - val_loss: 0.9267 - val_acc: 0.5632\n",
            "Epoch 11/200\n",
            "2718/2718 [==============================] - 0s 49us/step - loss: 0.9083 - acc: 0.5603 - val_loss: 0.9304 - val_acc: 0.5529\n",
            "Epoch 12/200\n",
            "2718/2718 [==============================] - 0s 48us/step - loss: 0.8980 - acc: 0.5736 - val_loss: 0.9181 - val_acc: 0.5574\n",
            "Epoch 13/200\n",
            "2718/2718 [==============================] - 0s 47us/step - loss: 0.9016 - acc: 0.5581 - val_loss: 0.9159 - val_acc: 0.5691\n",
            "Epoch 14/200\n",
            "2718/2718 [==============================] - 0s 48us/step - loss: 0.8898 - acc: 0.5725 - val_loss: 0.9136 - val_acc: 0.5721\n",
            "Epoch 15/200\n",
            "2718/2718 [==============================] - 0s 51us/step - loss: 0.8864 - acc: 0.5747 - val_loss: 0.9120 - val_acc: 0.5721\n",
            "Epoch 16/200\n",
            "2718/2718 [==============================] - 0s 49us/step - loss: 0.8772 - acc: 0.5780 - val_loss: 0.9066 - val_acc: 0.5779\n",
            "Epoch 17/200\n",
            "2718/2718 [==============================] - 0s 50us/step - loss: 0.8800 - acc: 0.5655 - val_loss: 0.9356 - val_acc: 0.5118\n",
            "Epoch 18/200\n",
            "2718/2718 [==============================] - 0s 49us/step - loss: 0.8735 - acc: 0.5868 - val_loss: 0.8992 - val_acc: 0.5691\n",
            "Epoch 19/200\n",
            "2718/2718 [==============================] - 0s 49us/step - loss: 0.8618 - acc: 0.5946 - val_loss: 0.8911 - val_acc: 0.5868\n",
            "Epoch 20/200\n",
            "2718/2718 [==============================] - 0s 50us/step - loss: 0.8560 - acc: 0.5923 - val_loss: 0.8983 - val_acc: 0.5735\n",
            "Epoch 21/200\n",
            "2718/2718 [==============================] - 0s 49us/step - loss: 0.8492 - acc: 0.6008 - val_loss: 0.8778 - val_acc: 0.5882\n",
            "Epoch 22/200\n",
            "2718/2718 [==============================] - 0s 53us/step - loss: 0.8437 - acc: 0.5920 - val_loss: 0.8932 - val_acc: 0.5618\n",
            "Epoch 23/200\n",
            "2718/2718 [==============================] - 0s 52us/step - loss: 0.8309 - acc: 0.6067 - val_loss: 0.8683 - val_acc: 0.5779\n",
            "Epoch 24/200\n",
            "2718/2718 [==============================] - 0s 49us/step - loss: 0.8221 - acc: 0.6130 - val_loss: 0.8724 - val_acc: 0.6029\n",
            "Epoch 25/200\n",
            "2718/2718 [==============================] - 0s 48us/step - loss: 0.8169 - acc: 0.6163 - val_loss: 0.8604 - val_acc: 0.5941\n",
            "Epoch 26/200\n",
            "2718/2718 [==============================] - 0s 48us/step - loss: 0.8045 - acc: 0.6133 - val_loss: 0.8641 - val_acc: 0.5868\n",
            "Epoch 27/200\n",
            "2718/2718 [==============================] - 0s 47us/step - loss: 0.7961 - acc: 0.6196 - val_loss: 0.8393 - val_acc: 0.6221\n",
            "Epoch 28/200\n",
            "2718/2718 [==============================] - 0s 47us/step - loss: 0.7953 - acc: 0.6199 - val_loss: 0.8560 - val_acc: 0.6118\n",
            "Epoch 29/200\n",
            "2718/2718 [==============================] - 0s 49us/step - loss: 0.7914 - acc: 0.6280 - val_loss: 0.8745 - val_acc: 0.5868\n",
            "Epoch 30/200\n",
            "2718/2718 [==============================] - 0s 52us/step - loss: 0.7764 - acc: 0.6247 - val_loss: 0.8985 - val_acc: 0.5721\n",
            "Epoch 31/200\n",
            "2718/2718 [==============================] - 0s 51us/step - loss: 0.7819 - acc: 0.6365 - val_loss: 0.8366 - val_acc: 0.6059\n",
            "Epoch 32/200\n",
            "2718/2718 [==============================] - 0s 48us/step - loss: 0.7684 - acc: 0.6453 - val_loss: 0.8604 - val_acc: 0.5985\n",
            "Epoch 33/200\n",
            "2718/2718 [==============================] - 0s 48us/step - loss: 0.7604 - acc: 0.6497 - val_loss: 0.8207 - val_acc: 0.6368\n",
            "Epoch 34/200\n",
            "2718/2718 [==============================] - 0s 48us/step - loss: 0.7428 - acc: 0.6604 - val_loss: 0.8346 - val_acc: 0.6412\n",
            "Epoch 35/200\n",
            "2718/2718 [==============================] - 0s 48us/step - loss: 0.7392 - acc: 0.6560 - val_loss: 0.8402 - val_acc: 0.6074\n",
            "Epoch 36/200\n",
            "2718/2718 [==============================] - 0s 48us/step - loss: 0.7338 - acc: 0.6740 - val_loss: 0.8207 - val_acc: 0.6397\n",
            "Epoch 37/200\n",
            "2718/2718 [==============================] - 0s 49us/step - loss: 0.7255 - acc: 0.6740 - val_loss: 0.8043 - val_acc: 0.6485\n",
            "Epoch 38/200\n",
            "2718/2718 [==============================] - 0s 54us/step - loss: 0.7222 - acc: 0.6700 - val_loss: 0.8159 - val_acc: 0.6294\n",
            "Epoch 39/200\n",
            "2718/2718 [==============================] - 0s 48us/step - loss: 0.7106 - acc: 0.6788 - val_loss: 0.7910 - val_acc: 0.6471\n",
            "Epoch 40/200\n",
            "2718/2718 [==============================] - 0s 49us/step - loss: 0.6988 - acc: 0.6895 - val_loss: 0.7939 - val_acc: 0.6456\n",
            "Epoch 41/200\n",
            "2718/2718 [==============================] - 0s 47us/step - loss: 0.6873 - acc: 0.6898 - val_loss: 0.7812 - val_acc: 0.6485\n",
            "Epoch 42/200\n",
            "2718/2718 [==============================] - 0s 49us/step - loss: 0.6879 - acc: 0.6898 - val_loss: 0.8031 - val_acc: 0.6397\n",
            "Epoch 43/200\n",
            "2718/2718 [==============================] - 0s 47us/step - loss: 0.6731 - acc: 0.7027 - val_loss: 0.7681 - val_acc: 0.6588\n",
            "Epoch 44/200\n",
            "2718/2718 [==============================] - 0s 49us/step - loss: 0.6631 - acc: 0.7038 - val_loss: 0.7663 - val_acc: 0.6676\n",
            "Epoch 45/200\n",
            "2718/2718 [==============================] - 0s 52us/step - loss: 0.6625 - acc: 0.7060 - val_loss: 0.7868 - val_acc: 0.6382\n",
            "Epoch 46/200\n",
            "2718/2718 [==============================] - 0s 49us/step - loss: 0.6480 - acc: 0.6935 - val_loss: 0.7627 - val_acc: 0.6559\n",
            "Epoch 47/200\n",
            "2718/2718 [==============================] - 0s 52us/step - loss: 0.6350 - acc: 0.7141 - val_loss: 0.7679 - val_acc: 0.6471\n",
            "Epoch 48/200\n",
            "2718/2718 [==============================] - 0s 54us/step - loss: 0.6318 - acc: 0.7200 - val_loss: 0.7931 - val_acc: 0.6353\n",
            "Epoch 49/200\n",
            "2718/2718 [==============================] - 0s 49us/step - loss: 0.6380 - acc: 0.7230 - val_loss: 0.7652 - val_acc: 0.6735\n",
            "Epoch 50/200\n",
            "2718/2718 [==============================] - 0s 49us/step - loss: 0.6171 - acc: 0.7281 - val_loss: 0.7572 - val_acc: 0.6676\n",
            "Epoch 51/200\n",
            "2718/2718 [==============================] - 0s 47us/step - loss: 0.6010 - acc: 0.7362 - val_loss: 0.7424 - val_acc: 0.7029\n",
            "Epoch 52/200\n",
            "2718/2718 [==============================] - 0s 48us/step - loss: 0.6056 - acc: 0.7307 - val_loss: 0.7478 - val_acc: 0.6735\n",
            "Epoch 53/200\n",
            "2718/2718 [==============================] - 0s 53us/step - loss: 0.5906 - acc: 0.7458 - val_loss: 0.7928 - val_acc: 0.6456\n",
            "Epoch 54/200\n",
            "2718/2718 [==============================] - 0s 48us/step - loss: 0.5836 - acc: 0.7509 - val_loss: 0.7260 - val_acc: 0.6838\n",
            "Epoch 55/200\n",
            "2718/2718 [==============================] - 0s 47us/step - loss: 0.5685 - acc: 0.7561 - val_loss: 0.7121 - val_acc: 0.6676\n",
            "Epoch 56/200\n",
            "2718/2718 [==============================] - 0s 49us/step - loss: 0.5686 - acc: 0.7494 - val_loss: 0.7262 - val_acc: 0.6971\n",
            "Epoch 57/200\n",
            "2718/2718 [==============================] - 0s 50us/step - loss: 0.5483 - acc: 0.7601 - val_loss: 0.7211 - val_acc: 0.6941\n",
            "Epoch 58/200\n",
            "2718/2718 [==============================] - 0s 48us/step - loss: 0.5480 - acc: 0.7638 - val_loss: 0.7073 - val_acc: 0.6971\n",
            "Epoch 59/200\n",
            "2718/2718 [==============================] - 0s 48us/step - loss: 0.5179 - acc: 0.7818 - val_loss: 0.7072 - val_acc: 0.6926\n",
            "Epoch 60/200\n",
            "2718/2718 [==============================] - 0s 52us/step - loss: 0.5243 - acc: 0.7748 - val_loss: 0.7402 - val_acc: 0.6824\n",
            "Epoch 61/200\n",
            "2718/2718 [==============================] - 0s 49us/step - loss: 0.5378 - acc: 0.7623 - val_loss: 0.7116 - val_acc: 0.6971\n",
            "Epoch 62/200\n",
            "2718/2718 [==============================] - 0s 47us/step - loss: 0.5175 - acc: 0.7737 - val_loss: 0.7256 - val_acc: 0.7000\n",
            "Epoch 63/200\n",
            "2718/2718 [==============================] - 0s 48us/step - loss: 0.5223 - acc: 0.7712 - val_loss: 0.7025 - val_acc: 0.7044\n",
            "Epoch 64/200\n",
            "2718/2718 [==============================] - 0s 48us/step - loss: 0.5061 - acc: 0.7837 - val_loss: 0.6954 - val_acc: 0.7147\n",
            "Epoch 65/200\n",
            "2718/2718 [==============================] - 0s 48us/step - loss: 0.5099 - acc: 0.7848 - val_loss: 0.6828 - val_acc: 0.7250\n",
            "Epoch 66/200\n",
            "2718/2718 [==============================] - 0s 49us/step - loss: 0.4817 - acc: 0.7973 - val_loss: 0.6975 - val_acc: 0.7176\n",
            "Epoch 67/200\n",
            "2718/2718 [==============================] - 0s 49us/step - loss: 0.4862 - acc: 0.7962 - val_loss: 0.6907 - val_acc: 0.7250\n",
            "Epoch 68/200\n",
            "2718/2718 [==============================] - 0s 52us/step - loss: 0.4724 - acc: 0.8065 - val_loss: 0.7040 - val_acc: 0.7191\n",
            "Epoch 69/200\n",
            "2718/2718 [==============================] - 0s 50us/step - loss: 0.4772 - acc: 0.7921 - val_loss: 0.6553 - val_acc: 0.7338\n",
            "Epoch 70/200\n",
            "2718/2718 [==============================] - 0s 48us/step - loss: 0.4569 - acc: 0.8046 - val_loss: 0.6796 - val_acc: 0.7368\n",
            "Epoch 71/200\n",
            "2718/2718 [==============================] - 0s 48us/step - loss: 0.4462 - acc: 0.8190 - val_loss: 0.6910 - val_acc: 0.7294\n",
            "Epoch 72/200\n",
            "2718/2718 [==============================] - 0s 48us/step - loss: 0.4685 - acc: 0.8068 - val_loss: 0.6656 - val_acc: 0.7529\n",
            "Epoch 73/200\n",
            "2718/2718 [==============================] - 0s 48us/step - loss: 0.4566 - acc: 0.8054 - val_loss: 0.7096 - val_acc: 0.7250\n",
            "Epoch 74/200\n",
            "2718/2718 [==============================] - 0s 46us/step - loss: 0.4431 - acc: 0.8194 - val_loss: 0.6661 - val_acc: 0.7294\n",
            "Epoch 75/200\n",
            "2718/2718 [==============================] - 0s 49us/step - loss: 0.4314 - acc: 0.8205 - val_loss: 0.6785 - val_acc: 0.7412\n",
            "Epoch 76/200\n",
            "2718/2718 [==============================] - 0s 50us/step - loss: 0.4518 - acc: 0.8091 - val_loss: 0.6787 - val_acc: 0.7353\n",
            "Epoch 77/200\n",
            "2718/2718 [==============================] - 0s 47us/step - loss: 0.4070 - acc: 0.8355 - val_loss: 0.6790 - val_acc: 0.7456\n",
            "Epoch 78/200\n",
            "2718/2718 [==============================] - 0s 47us/step - loss: 0.4133 - acc: 0.8263 - val_loss: 0.6599 - val_acc: 0.7471\n",
            "Epoch 79/200\n",
            "2718/2718 [==============================] - 0s 49us/step - loss: 0.4118 - acc: 0.8377 - val_loss: 0.6936 - val_acc: 0.7353\n",
            "Epoch 80/200\n",
            "2718/2718 [==============================] - 0s 48us/step - loss: 0.3903 - acc: 0.8495 - val_loss: 0.6594 - val_acc: 0.7471\n",
            "Epoch 81/200\n",
            "2718/2718 [==============================] - 0s 50us/step - loss: 0.3990 - acc: 0.8359 - val_loss: 0.6542 - val_acc: 0.7485\n",
            "Epoch 82/200\n",
            "2718/2718 [==============================] - 0s 48us/step - loss: 0.3912 - acc: 0.8444 - val_loss: 0.7068 - val_acc: 0.7397\n",
            "Epoch 83/200\n",
            "2718/2718 [==============================] - 0s 52us/step - loss: 0.3750 - acc: 0.8580 - val_loss: 0.6750 - val_acc: 0.7382\n",
            "Epoch 84/200\n",
            "2718/2718 [==============================] - 0s 50us/step - loss: 0.3785 - acc: 0.8543 - val_loss: 0.6615 - val_acc: 0.7529\n",
            "Epoch 85/200\n",
            "2718/2718 [==============================] - 0s 48us/step - loss: 0.3581 - acc: 0.8609 - val_loss: 0.6514 - val_acc: 0.7632\n",
            "Epoch 86/200\n",
            "2718/2718 [==============================] - 0s 49us/step - loss: 0.3580 - acc: 0.8584 - val_loss: 0.6890 - val_acc: 0.7471\n",
            "Epoch 87/200\n",
            "2718/2718 [==============================] - 0s 49us/step - loss: 0.3637 - acc: 0.8521 - val_loss: 0.6637 - val_acc: 0.7721\n",
            "Epoch 88/200\n",
            "2718/2718 [==============================] - 0s 46us/step - loss: 0.3714 - acc: 0.8576 - val_loss: 0.6539 - val_acc: 0.7647\n",
            "Epoch 89/200\n",
            "2718/2718 [==============================] - 0s 48us/step - loss: 0.3417 - acc: 0.8598 - val_loss: 0.6771 - val_acc: 0.7588\n",
            "Epoch 90/200\n",
            "2718/2718 [==============================] - 0s 51us/step - loss: 0.3490 - acc: 0.8620 - val_loss: 0.6593 - val_acc: 0.7632\n",
            "Epoch 91/200\n",
            "2718/2718 [==============================] - 0s 53us/step - loss: 0.3385 - acc: 0.8705 - val_loss: 0.6347 - val_acc: 0.7706\n",
            "Epoch 92/200\n",
            "2718/2718 [==============================] - 0s 48us/step - loss: 0.3213 - acc: 0.8698 - val_loss: 0.6359 - val_acc: 0.7706\n",
            "Epoch 93/200\n",
            "2718/2718 [==============================] - 0s 49us/step - loss: 0.3273 - acc: 0.8760 - val_loss: 0.7063 - val_acc: 0.7500\n",
            "Epoch 94/200\n",
            "2718/2718 [==============================] - 0s 49us/step - loss: 0.3373 - acc: 0.8709 - val_loss: 0.6951 - val_acc: 0.7618\n",
            "Epoch 95/200\n",
            "2718/2718 [==============================] - 0s 48us/step - loss: 0.3254 - acc: 0.8687 - val_loss: 0.6544 - val_acc: 0.7868\n",
            "Epoch 96/200\n",
            "2718/2718 [==============================] - 0s 49us/step - loss: 0.3332 - acc: 0.8653 - val_loss: 0.6279 - val_acc: 0.7676\n",
            "Epoch 97/200\n",
            "2718/2718 [==============================] - 0s 48us/step - loss: 0.3187 - acc: 0.8775 - val_loss: 0.6840 - val_acc: 0.7750\n",
            "Epoch 98/200\n",
            "2718/2718 [==============================] - 0s 50us/step - loss: 0.3159 - acc: 0.8775 - val_loss: 0.6508 - val_acc: 0.7750\n",
            "Epoch 99/200\n",
            "2718/2718 [==============================] - 0s 53us/step - loss: 0.2932 - acc: 0.8885 - val_loss: 0.7098 - val_acc: 0.7647\n",
            "Epoch 100/200\n",
            "2718/2718 [==============================] - 0s 49us/step - loss: 0.2891 - acc: 0.8907 - val_loss: 0.6529 - val_acc: 0.7750\n",
            "Epoch 101/200\n",
            "2718/2718 [==============================] - 0s 47us/step - loss: 0.3065 - acc: 0.8834 - val_loss: 0.6585 - val_acc: 0.7779\n",
            "Epoch 102/200\n",
            "2718/2718 [==============================] - 0s 49us/step - loss: 0.2867 - acc: 0.8834 - val_loss: 0.6584 - val_acc: 0.7868\n",
            "Epoch 103/200\n",
            "2718/2718 [==============================] - 0s 49us/step - loss: 0.2818 - acc: 0.8948 - val_loss: 0.7076 - val_acc: 0.7735\n",
            "Epoch 104/200\n",
            "2718/2718 [==============================] - 0s 47us/step - loss: 0.3100 - acc: 0.8808 - val_loss: 0.6464 - val_acc: 0.7794\n",
            "Epoch 105/200\n",
            "2718/2718 [==============================] - 0s 50us/step - loss: 0.2983 - acc: 0.8859 - val_loss: 0.6609 - val_acc: 0.7824\n",
            "Epoch 106/200\n",
            "2718/2718 [==============================] - 0s 52us/step - loss: 0.2762 - acc: 0.8955 - val_loss: 0.6641 - val_acc: 0.7882\n",
            "Epoch 107/200\n",
            "2718/2718 [==============================] - 0s 51us/step - loss: 0.2894 - acc: 0.8874 - val_loss: 0.6416 - val_acc: 0.7838\n",
            "Epoch 108/200\n",
            "2718/2718 [==============================] - 0s 48us/step - loss: 0.2737 - acc: 0.8911 - val_loss: 0.6802 - val_acc: 0.7765\n",
            "Epoch 109/200\n",
            "2718/2718 [==============================] - 0s 49us/step - loss: 0.2638 - acc: 0.9032 - val_loss: 0.6733 - val_acc: 0.7691\n",
            "Epoch 110/200\n",
            "2718/2718 [==============================] - 0s 47us/step - loss: 0.2666 - acc: 0.9014 - val_loss: 0.6879 - val_acc: 0.7735\n",
            "Epoch 111/200\n",
            "2718/2718 [==============================] - 0s 48us/step - loss: 0.2594 - acc: 0.9069 - val_loss: 0.6772 - val_acc: 0.7824\n",
            "Epoch 112/200\n",
            "2718/2718 [==============================] - 0s 49us/step - loss: 0.2632 - acc: 0.9003 - val_loss: 0.7172 - val_acc: 0.7853\n",
            "Epoch 113/200\n",
            "2718/2718 [==============================] - 0s 49us/step - loss: 0.2665 - acc: 0.9073 - val_loss: 0.7097 - val_acc: 0.7647\n",
            "Epoch 114/200\n",
            "2718/2718 [==============================] - 0s 53us/step - loss: 0.2618 - acc: 0.9007 - val_loss: 0.6665 - val_acc: 0.8088\n",
            "Epoch 115/200\n",
            "2718/2718 [==============================] - 0s 49us/step - loss: 0.2484 - acc: 0.9036 - val_loss: 0.6627 - val_acc: 0.7779\n",
            "Epoch 116/200\n",
            "2718/2718 [==============================] - 0s 48us/step - loss: 0.2412 - acc: 0.9062 - val_loss: 0.6753 - val_acc: 0.7882\n"
          ],
          "name": "stdout"
        }
      ]
    },
    {
      "cell_type": "markdown",
      "metadata": {
        "id": "xQ2Koxsz0Zun",
        "colab_type": "text"
      },
      "source": [
        "# 訓練過程評估"
      ]
    },
    {
      "cell_type": "code",
      "metadata": {
        "id": "2SxJIEDzbaZ7",
        "colab_type": "code",
        "outputId": "7f3843ba-4a6e-4fea-969f-0e96e57ff34f",
        "colab": {
          "base_uri": "https://localhost:8080/",
          "height": 269
        }
      },
      "source": [
        "import matplotlib.pyplot as plt\n",
        "fig, ax = plt.subplots(2,1)\n",
        "ax[0].plot(history.history['loss'], color='b', label=\"Training loss\")\n",
        "ax[0].plot(history.history['val_loss'], color='r', label=\"Validation loss\",axes =ax[0])\n",
        "ax[0].grid(color='black', linestyle='-', linewidth=0.25)\n",
        "legend = ax[0].legend(loc='best', shadow=True)\n",
        "\n",
        "ax[1].plot(history.history['acc'], color='b', label=\"Training accuracy\")\n",
        "ax[1].plot(history.history['val_acc'], color='r',label=\"Validation accuracy\")\n",
        "ax[1].grid(color='black', linestyle='-', linewidth=0.25)\n",
        "legend = ax[1].legend(loc='best', shadow=True)"
      ],
      "execution_count": 43,
      "outputs": [
        {
          "output_type": "display_data",
          "data": {
            "image/png": "[encoded data removed]",
            "text/plain": [
              "<Figure size 432x288 with 2 Axes>"
            ]
          },
          "metadata": {
            "tags": []
          }
        }
      ]
    },
    {
      "cell_type": "markdown",
      "metadata": {
        "id": "zWVmgHz80cCp",
        "colab_type": "text"
      },
      "source": [
        "# 混淆矩陣"
      ]
    },
    {
      "cell_type": "code",
      "metadata": {
        "id": "UH5CcmX6btme",
        "colab_type": "code",
        "outputId": "5c180388-c295-4df2-f170-31e10639ba1f",
        "colab": {
          "base_uri": "https://localhost:8080/",
          "height": 311
        }
      },
      "source": [
        "from sklearn.metrics import confusion_matrix\n",
        "import itertools\n",
        "\n",
        "def plot_confusion_matrix(cm, classes, normalize=False, title='Confusion matrix', cmap=plt.cm.Blues):\n",
        "    plt.imshow(cm, interpolation='nearest', cmap=cmap)\n",
        "    plt.title(title)\n",
        "    plt.colorbar()\n",
        "    tick_marks = np.arange(len(classes))\n",
        "    plt.xticks(tick_marks, classes, rotation=45)\n",
        "    plt.yticks(tick_marks, classes)\n",
        "    if normalize:\n",
        "        cm = cm.astype('float') / cm.sum(axis=1)[:, np.newaxis]\n",
        "    thresh = cm.max() / 2.\n",
        "    for i, j in itertools.product(range(cm.shape[0]), range(cm.shape[1])):\n",
        "        plt.text(j, i, cm[i, j],\n",
        "                 horizontalalignment=\"center\",\n",
        "                 color=\"white\" if cm[i, j] > thresh else \"black\")\n",
        "    plt.tight_layout()\n",
        "    plt.ylabel('True label')\n",
        "    plt.xlabel('Predicted label')\n",
        "\n",
        "#預測的y\n",
        "ypred_onehot = model.predict(xval)\n",
        "#轉換預測的y: [0 0 1 0 0 ...] --> 2\n",
        "ypred = np.argmax(ypred_onehot,axis=1)\n",
        "#轉換真實的y\n",
        "ytrue = np.argmax(yval,axis=1)\n",
        "#計算 confusion matrix\n",
        "confusion_mtx = confusion_matrix(ytrue, ypred)\n",
        "#畫出 confusion matrix\n",
        "plot_confusion_matrix(confusion_mtx, classes=range(nclasses))"
      ],
      "execution_count": 44,
      "outputs": [
        {
          "output_type": "display_data",
          "data": {
            "image/png": "[encoded data removed]",
            "text/plain": [
              "<Figure size 432x288 with 2 Axes>"
            ]
          },
          "metadata": {
            "tags": []
          }
        }
      ]
    },
    {
      "cell_type": "markdown",
      "metadata": {
        "id": "PmgafP2rpjAO",
        "colab_type": "text"
      },
      "source": [
        "# 分類report"
      ]
    },
    {
      "cell_type": "markdown",
      "metadata": {
        "id": "zXQ8o9mj1Ydh",
        "colab_type": "text"
      },
      "source": [
        "轉換預測結果"
      ]
    },
    {
      "cell_type": "code",
      "metadata": {
        "id": "lCSuw9cYqEYk",
        "colab_type": "code",
        "outputId": "201edc1f-9df7-4ce6-9fad-dae4b49857e5",
        "colab": {
          "base_uri": "https://localhost:8080/",
          "height": 104
        }
      },
      "source": [
        "y_pred = model.predict(xval)\n",
        "y_pred = [np.argmax(i) for i in y_pred]\n",
        "y_pred = to_categorical(y_pred, num_classes = 3)\n",
        "print(y_pred[:5])"
      ],
      "execution_count": 45,
      "outputs": [
        {
          "output_type": "stream",
          "text": [
            "[[1. 0. 0.]\n",
            " [1. 0. 0.]\n",
            " [1. 0. 0.]\n",
            " [0. 1. 0.]\n",
            " [0. 1. 0.]]\n"
          ],
          "name": "stdout"
        }
      ]
    },
    {
      "cell_type": "markdown",
      "metadata": {
        "id": "XrHrpsVb1avA",
        "colab_type": "text"
      },
      "source": [
        "真實y值"
      ]
    },
    {
      "cell_type": "code",
      "metadata": {
        "id": "T2tyxRdo1Mqm",
        "colab_type": "code",
        "outputId": "948ab6a3-92ef-4402-9015-06d5f2f0d5d6",
        "colab": {
          "base_uri": "https://localhost:8080/",
          "height": 104
        }
      },
      "source": [
        "print(yval[:5])"
      ],
      "execution_count": 46,
      "outputs": [
        {
          "output_type": "stream",
          "text": [
            "[[1. 0. 0.]\n",
            " [1. 0. 0.]\n",
            " [1. 0. 0.]\n",
            " [0. 1. 0.]\n",
            " [0. 0. 1.]]\n"
          ],
          "name": "stdout"
        }
      ]
    },
    {
      "cell_type": "markdown",
      "metadata": {
        "id": "wztZOw2r1ddE",
        "colab_type": "text"
      },
      "source": [
        "# 分類報告"
      ]
    },
    {
      "cell_type": "code",
      "metadata": {
        "id": "vzMaU-Y8pjJT",
        "colab_type": "code",
        "outputId": "16022852-41b7-42dd-da1c-1d4bef5009ec",
        "colab": {
          "base_uri": "https://localhost:8080/",
          "height": 208
        }
      },
      "source": [
        "from sklearn.metrics import classification_report \n",
        "target_names = ['Hold','BUY','SELL']\n",
        "print(classification_report(yval,y_pred,target_names=target_names))"
      ],
      "execution_count": 47,
      "outputs": [
        {
          "output_type": "stream",
          "text": [
            "              precision    recall  f1-score   support\n",
            "\n",
            "        Hold       0.83      0.79      0.81       210\n",
            "         BUY       0.76      0.67      0.71       172\n",
            "        SELL       0.78      0.86      0.82       298\n",
            "\n",
            "   micro avg       0.79      0.79      0.79       680\n",
            "   macro avg       0.79      0.77      0.78       680\n",
            "weighted avg       0.79      0.79      0.79       680\n",
            " samples avg       0.79      0.79      0.79       680\n",
            "\n"
          ],
          "name": "stdout"
        }
      ]
    },
    {
      "cell_type": "markdown",
      "metadata": {
        "id": "n-KXEoZLb9ie",
        "colab_type": "text"
      },
      "source": [
        "# plot error"
      ]
    },
    {
      "cell_type": "code",
      "metadata": {
        "id": "nCW5Xvtrb0fC",
        "colab_type": "code",
        "outputId": "fe2d2e9d-4b5c-4beb-9fbb-cbf610bba5b9",
        "colab": {
          "base_uri": "https://localhost:8080/",
          "height": 293
        }
      },
      "source": [
        "errors = (ypred - ytrue != 0)\n",
        "\n",
        "ypred_er = ypred_onehot[errors]\n",
        "ypred_classes_er = ypred[errors]\n",
        "ytrue_er = ytrue[errors]\n",
        "xval_er = xval[errors]\n",
        "\n",
        "def display_errors(errors_index, img_errors, pred_errors, obs_errors):\n",
        "    n = 0\n",
        "    nrows = 2\n",
        "    ncols = 3\n",
        "    fig, ax = plt.subplots(nrows, ncols, sharex=True, sharey=True)\n",
        "    plt.subplots_adjust(wspace =0.5, hspace =0.5)\n",
        "    for row in range(nrows):\n",
        "        for col in range(ncols):\n",
        "            error = errors_index[n]\n",
        "            ax[row,col].imshow((img_errors[error]).reshape((days,len(features))))\n",
        "            ax[row,col].set_title(\"Predicted label :{}\\nTrue label :{}\".format(pred_errors[error],obs_errors[error]))\n",
        "            n += 1\n",
        "            \n",
        "# 錯誤預測的概率\n",
        "ypred_er_prob = np.max(ypred_er,axis=1)\n",
        "\n",
        "# Predicted probabilities of the true values in the error set\n",
        "true_prob_er = np.diagonal(np.take(ypred_er, ytrue_er, axis=1))\n",
        "\n",
        "# Difference between the probability of the predicted label and the true label\n",
        "delta_pred_true_er = ypred_er_prob - true_prob_er\n",
        "\n",
        "# Sorted list of the delta prob errors\n",
        "sorted_delta_er = np.argsort(delta_pred_true_er)\n",
        "\n",
        "# Top 6 errors. You can change the range to see other images\n",
        "most_important_er = sorted_delta_er[-6:]\n",
        "\n",
        "# Show the top 6 errors\n",
        "display_errors(most_important_er, xval_er, ypred_classes_er, ytrue_er)"
      ],
      "execution_count": 48,
      "outputs": [
        {
          "output_type": "display_data",
          "data": {
            "image/png": "[encoded data removed]",
            "text/plain": [
              "<Figure size 432x288 with 6 Axes>"
            ]
          },
          "metadata": {
            "tags": []
          }
        }
      ]
    },
    {
      "cell_type": "markdown",
      "metadata": {
        "id": "togdM5Afo71w",
        "colab_type": "text"
      },
      "source": [
        "## 預測最後40筆"
      ]
    },
    {
      "cell_type": "code",
      "metadata": {
        "id": "kQqzNPdQo8GW",
        "colab_type": "code",
        "colab": {
          "base_uri": "https://localhost:8080/",
          "height": 35
        },
        "outputId": "d2b10fff-9bc4-482d-aef1-5fc0c9c507e4"
      },
      "source": [
        "answer = model.predict(X_test)\n",
        "answer = [ np.argmax(i) for i in answer]\n",
        "print(len(answer))"
      ],
      "execution_count": 49,
      "outputs": [
        {
          "output_type": "stream",
          "text": [
            "40\n"
          ],
          "name": "stdout"
        }
      ]
    },
    {
      "cell_type": "code",
      "metadata": {
        "id": "YHzRjtab0pr-",
        "colab_type": "code",
        "colab": {
          "base_uri": "https://localhost:8080/",
          "height": 335
        },
        "outputId": "413b64d2-b434-4d6e-9d7c-9f8ec00c66a9"
      },
      "source": [
        "INDEX40 = df[-40:].index\n",
        "C = web.DataReader(SID,'yahoo',start=\"2000-01-01\")[['Close']]\n",
        "C = C.loc[INDEX40,:]\n",
        "C['SIGNAL'] = answer\n",
        "buy = C[C['SIGNAL']==1]['Close']\n",
        "sell = C[C['SIGNAL']==2]['Close']\n",
        "C['Close'][0:20].plot()\n",
        "plt.scatter(buy.index,buy.values,color='red',marker=\"^\")\n",
        "plt.scatter(sell.index,sell.values,color='black')"
      ],
      "execution_count": 50,
      "outputs": [
        {
          "output_type": "execute_result",
          "data": {
            "text/plain": [
              "<matplotlib.collections.PathCollection at 0x7f8e27fb8e48>"
            ]
          },
          "metadata": {
            "tags": []
          },
          "execution_count": 50
        },
        {
          "output_type": "display_data",
          "data": {
            "image/png": "[encoded data removed]",
            "text/plain": [
              "<Figure size 432x288 with 1 Axes>"
            ]
          },
          "metadata": {
            "tags": []
          }
        }
      ]
    },
    {
      "cell_type": "code",
      "metadata": {
        "id": "9AZQa4zj2Psu",
        "colab_type": "code",
        "colab": {
          "base_uri": "https://localhost:8080/",
          "height": 335
        },
        "outputId": "99643cf2-4990-4c3b-c762-447614e2a0dc"
      },
      "source": [
        "C['Close'][20:40].plot()\n",
        "plt.scatter(buy.index,buy.values,color='red',marker=\"^\")\n",
        "plt.scatter(sell.index,sell.values,color='black')"
      ],
      "execution_count": 51,
      "outputs": [
        {
          "output_type": "execute_result",
          "data": {
            "text/plain": [
              "<matplotlib.collections.PathCollection at 0x7f8e2e308c88>"
            ]
          },
          "metadata": {
            "tags": []
          },
          "execution_count": 51
        },
        {
          "output_type": "display_data",
          "data": {
            "image/png": "[encoded data removed]",
            "text/plain": [
              "<Figure size 432x288 with 1 Axes>"
            ]
          },
          "metadata": {
            "tags": []
          }
        }
      ]
    },
    {
      "cell_type": "code",
      "metadata": {
        "id": "y-RBxkc38C1a",
        "colab_type": "code",
        "colab": {}
      },
      "source": [
        ""
      ],
      "execution_count": 0,
      "outputs": []
    }
  ]
}