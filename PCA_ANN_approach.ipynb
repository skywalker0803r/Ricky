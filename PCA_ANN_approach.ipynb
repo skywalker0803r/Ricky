{
  "nbformat": 4,
  "nbformat_minor": 0,
  "metadata": {
    "colab": {
      "name": "PCA_ANN.ipynb",
      "provenance": [],
      "collapsed_sections": [],
      "authorship_tag": "ABX9TyMrY6Lrotb/i2n+6NbVrlkW",
      "include_colab_link": true
    },
    "kernelspec": {
      "name": "python3",
      "display_name": "Python 3"
    }
  },
  "cells": [
    {
      "cell_type": "markdown",
      "metadata": {
        "id": "view-in-github",
        "colab_type": "text"
      },
      "source": [
        "<a href=\"https://colab.research.google.com/github/skywalker0803r/Ricky/blob/master/PCA_ANN_approach.ipynb\" target=\"_parent\"><img src=\"https://colab.research.google.com/assets/colab-badge.svg\" alt=\"Open In Colab\"/></a>"
      ]
    },
    {
      "cell_type": "code",
      "metadata": {
        "id": "9oqbknETVMSb",
        "colab_type": "code",
        "colab": {}
      },
      "source": [
        "from sklearn.datasets import load_boston\n",
        "import pandas as pd\n",
        "from sklearn.decomposition import PCA\n",
        "from sklearn.preprocessing import MinMaxScaler,StandardScaler\n",
        "import matplotlib.pyplot as plt\n",
        "import numpy as np\n",
        "import warnings;warnings.simplefilter('ignore')"
      ],
      "execution_count": 0,
      "outputs": []
    },
    {
      "cell_type": "code",
      "metadata": {
        "id": "wYaH8bCpVlup",
        "colab_type": "code",
        "colab": {}
      },
      "source": [
        "data = load_boston()\n",
        "X = pd.DataFrame(data.data,columns=data.feature_names)\n",
        "y = pd.Series(data.target,name='Price')\n",
        "df = X.join(y)"
      ],
      "execution_count": 0,
      "outputs": []
    },
    {
      "cell_type": "code",
      "metadata": {
        "id": "GAM0eZ_pVn50",
        "colab_type": "code",
        "outputId": "b98f0f4e-94ed-47e7-8353-e4ef2d206655",
        "colab": {
          "base_uri": "https://localhost:8080/",
          "height": 196
        }
      },
      "source": [
        "X = df[['LSTAT','Price']]\n",
        "mm = MinMaxScaler(feature_range=(-1, 1))\n",
        "X.loc[:,:] = mm.fit_transform(X.loc[:,:])\n",
        "X.head()"
      ],
      "execution_count": 3,
      "outputs": [
        {
          "output_type": "execute_result",
          "data": {
            "text/html": [
              "<div>\n",
              "<style scoped>\n",
              "    .dataframe tbody tr th:only-of-type {\n",
              "        vertical-align: middle;\n",
              "    }\n",
              "\n",
              "    .dataframe tbody tr th {\n",
              "        vertical-align: top;\n",
              "    }\n",
              "\n",
              "    .dataframe thead th {\n",
              "        text-align: right;\n",
              "    }\n",
              "</style>\n",
              "<table border=\"1\" class=\"dataframe\">\n",
              "  <thead>\n",
              "    <tr style=\"text-align: right;\">\n",
              "      <th></th>\n",
              "      <th>LSTAT</th>\n",
              "      <th>Price</th>\n",
              "    </tr>\n",
              "  </thead>\n",
              "  <tbody>\n",
              "    <tr>\n",
              "      <th>0</th>\n",
              "      <td>-0.820640</td>\n",
              "      <td>-0.155556</td>\n",
              "    </tr>\n",
              "    <tr>\n",
              "      <th>1</th>\n",
              "      <td>-0.591060</td>\n",
              "      <td>-0.262222</td>\n",
              "    </tr>\n",
              "    <tr>\n",
              "      <th>2</th>\n",
              "      <td>-0.873068</td>\n",
              "      <td>0.320000</td>\n",
              "    </tr>\n",
              "    <tr>\n",
              "      <th>3</th>\n",
              "      <td>-0.933223</td>\n",
              "      <td>0.262222</td>\n",
              "    </tr>\n",
              "    <tr>\n",
              "      <th>4</th>\n",
              "      <td>-0.801325</td>\n",
              "      <td>0.386667</td>\n",
              "    </tr>\n",
              "  </tbody>\n",
              "</table>\n",
              "</div>"
            ],
            "text/plain": [
              "      LSTAT     Price\n",
              "0 -0.820640 -0.155556\n",
              "1 -0.591060 -0.262222\n",
              "2 -0.873068  0.320000\n",
              "3 -0.933223  0.262222\n",
              "4 -0.801325  0.386667"
            ]
          },
          "metadata": {
            "tags": []
          },
          "execution_count": 3
        }
      ]
    },
    {
      "cell_type": "code",
      "metadata": {
        "id": "zJTy96gDVrij",
        "colab_type": "code",
        "outputId": "12bffa68-f86f-4e3b-b05d-55bf94ab992f",
        "colab": {
          "base_uri": "https://localhost:8080/",
          "height": 281
        }
      },
      "source": [
        "plt.scatter(X['LSTAT'],X['Price'])"
      ],
      "execution_count": 4,
      "outputs": [
        {
          "output_type": "execute_result",
          "data": {
            "text/plain": [
              "<matplotlib.collections.PathCollection at 0x7fdfd5f40c18>"
            ]
          },
          "metadata": {
            "tags": []
          },
          "execution_count": 4
        },
        {
          "output_type": "display_data",
          "data": {
            "image/png": "[encoded data removed]",
            "text/plain": [
              "<Figure size 432x288 with 1 Axes>"
            ]
          },
          "metadata": {
            "tags": []
          }
        }
      ]
    },
    {
      "cell_type": "code",
      "metadata": {
        "id": "v4dLlLhDW015",
        "colab_type": "code",
        "colab": {}
      },
      "source": [
        "pca = PCA(n_components=1)"
      ],
      "execution_count": 0,
      "outputs": []
    },
    {
      "cell_type": "code",
      "metadata": {
        "id": "qBMwXazSXp7E",
        "colab_type": "code",
        "outputId": "cf553568-7890-4b03-a16c-2fc712703aa2",
        "colab": {
          "base_uri": "https://localhost:8080/",
          "height": 196
        }
      },
      "source": [
        "X['z'] = pca.fit_transform(X)\n",
        "X.head()"
      ],
      "execution_count": 6,
      "outputs": [
        {
          "output_type": "execute_result",
          "data": {
            "text/html": [
              "<div>\n",
              "<style scoped>\n",
              "    .dataframe tbody tr th:only-of-type {\n",
              "        vertical-align: middle;\n",
              "    }\n",
              "\n",
              "    .dataframe tbody tr th {\n",
              "        vertical-align: top;\n",
              "    }\n",
              "\n",
              "    .dataframe thead th {\n",
              "        text-align: right;\n",
              "    }\n",
              "</style>\n",
              "<table border=\"1\" class=\"dataframe\">\n",
              "  <thead>\n",
              "    <tr style=\"text-align: right;\">\n",
              "      <th></th>\n",
              "      <th>LSTAT</th>\n",
              "      <th>Price</th>\n",
              "      <th>z</th>\n",
              "    </tr>\n",
              "  </thead>\n",
              "  <tbody>\n",
              "    <tr>\n",
              "      <th>0</th>\n",
              "      <td>-0.820640</td>\n",
              "      <td>-0.155556</td>\n",
              "      <td>-0.339166</td>\n",
              "    </tr>\n",
              "    <tr>\n",
              "      <th>1</th>\n",
              "      <td>-0.591060</td>\n",
              "      <td>-0.262222</td>\n",
              "      <td>-0.103627</td>\n",
              "    </tr>\n",
              "    <tr>\n",
              "      <th>2</th>\n",
              "      <td>-0.873068</td>\n",
              "      <td>0.320000</td>\n",
              "      <td>-0.719796</td>\n",
              "    </tr>\n",
              "    <tr>\n",
              "      <th>3</th>\n",
              "      <td>-0.933223</td>\n",
              "      <td>0.262222</td>\n",
              "      <td>-0.719412</td>\n",
              "    </tr>\n",
              "    <tr>\n",
              "      <th>4</th>\n",
              "      <td>-0.801325</td>\n",
              "      <td>0.386667</td>\n",
              "      <td>-0.718628</td>\n",
              "    </tr>\n",
              "  </tbody>\n",
              "</table>\n",
              "</div>"
            ],
            "text/plain": [
              "      LSTAT     Price         z\n",
              "0 -0.820640 -0.155556 -0.339166\n",
              "1 -0.591060 -0.262222 -0.103627\n",
              "2 -0.873068  0.320000 -0.719796\n",
              "3 -0.933223  0.262222 -0.719412\n",
              "4 -0.801325  0.386667 -0.718628"
            ]
          },
          "metadata": {
            "tags": []
          },
          "execution_count": 6
        }
      ]
    },
    {
      "cell_type": "markdown",
      "metadata": {
        "id": "lXCfV9NrX-73",
        "colab_type": "text"
      },
      "source": [
        "## ANN method"
      ]
    },
    {
      "cell_type": "code",
      "metadata": {
        "id": "n7ewtsfaYBo0",
        "colab_type": "code",
        "outputId": "29d4353b-9d7b-4fbf-c9c6-6909ce3d9ff4",
        "colab": {
          "base_uri": "https://localhost:8080/",
          "height": 84
        }
      },
      "source": [
        "import torch\n",
        "from torch.nn import Linear,init,Sigmoid,Tanh\n",
        "import torch.optim as optim\n",
        "\n",
        "def build_net(input_shape,output_shape):\n",
        "  net = torch.nn.Sequential(\n",
        "      Linear(input_shape,output_shape,bias=False),\n",
        "      Tanh()\n",
        "      )\n",
        "  return net\n",
        "\n",
        "def init_weights(m):\n",
        "  if type(m) == Linear:\n",
        "    init.xavier_uniform(m.weight)\n",
        "\n",
        "net = build_net(2,1)\n",
        "net.apply(init_weights)\n",
        "net"
      ],
      "execution_count": 7,
      "outputs": [
        {
          "output_type": "execute_result",
          "data": {
            "text/plain": [
              "Sequential(\n",
              "  (0): Linear(in_features=2, out_features=1, bias=False)\n",
              "  (1): Tanh()\n",
              ")"
            ]
          },
          "metadata": {
            "tags": []
          },
          "execution_count": 7
        }
      ]
    },
    {
      "cell_type": "markdown",
      "metadata": {
        "id": "xfCm4nyubG_W",
        "colab_type": "text"
      },
      "source": [
        "# obj_function"
      ]
    },
    {
      "cell_type": "code",
      "metadata": {
        "id": "GuCtRvKTYBr6",
        "colab_type": "code",
        "colab": {}
      },
      "source": [
        "def obj_function(x):\n",
        "  SUM = 0\n",
        "  x_len = len(x)\n",
        "  x_mean = x[:,:].mean(axis=0)\n",
        "  for idx in range(x_len):\n",
        "    SUM += ((x[idx,:]-x_mean)**2)**(1/2)\n",
        "  return -1*(SUM/x_len)"
      ],
      "execution_count": 0,
      "outputs": []
    },
    {
      "cell_type": "markdown",
      "metadata": {
        "id": "1398kqF9bOA9",
        "colab_type": "text"
      },
      "source": [
        "## optimizer"
      ]
    },
    {
      "cell_type": "code",
      "metadata": {
        "id": "hnVVWBSCasMh",
        "colab_type": "code",
        "colab": {}
      },
      "source": [
        "optimizer = optim.Adam(net.parameters(),lr=0.01)"
      ],
      "execution_count": 0,
      "outputs": []
    },
    {
      "cell_type": "markdown",
      "metadata": {
        "id": "4r3exic9bbo2",
        "colab_type": "text"
      },
      "source": [
        "# data_iter"
      ]
    },
    {
      "cell_type": "code",
      "metadata": {
        "id": "WyJdzN-DZ1QB",
        "colab_type": "code",
        "colab": {}
      },
      "source": [
        "data_iter = torch.tensor(X[['LSTAT','Price']].to_numpy(),dtype=torch.float)\n",
        "data_iter = torch.utils.data.TensorDataset(data_iter)\n",
        "data_iter = torch.utils.data.DataLoader(data_iter,batch_size=len(df))"
      ],
      "execution_count": 0,
      "outputs": []
    },
    {
      "cell_type": "markdown",
      "metadata": {
        "id": "Pr5OwvTacBcb",
        "colab_type": "text"
      },
      "source": [
        "# train loop"
      ]
    },
    {
      "cell_type": "code",
      "metadata": {
        "id": "obWmGLhcbq9x",
        "colab_type": "code",
        "colab": {}
      },
      "source": [
        "def train(net,data_iter,obj_function,optimizer,num_epochs=50):\n",
        "  history = []\n",
        "  for epoch in range(num_epochs):\n",
        "    for data in data_iter:\n",
        "      z = net(data[0])\n",
        "      loss = obj_function(z)\n",
        "      loss.mean().backward()\n",
        "      optimizer.step()\n",
        "      optimizer.zero_grad()\n",
        "    print(\"epochs {} loss {:.4f}\".format(epoch,loss.item()))\n",
        "    history.append(loss.item())\n",
        "  # plt train loss\n",
        "  plt.plot(np.array(history))\n",
        "  plt.title('train loss')\n",
        "  return net"
      ],
      "execution_count": 0,
      "outputs": []
    },
    {
      "cell_type": "code",
      "metadata": {
        "id": "Xy7uL-YPcle4",
        "colab_type": "code",
        "outputId": "29c25808-0cd9-468e-d984-32c3f589c80d",
        "colab": {
          "base_uri": "https://localhost:8080/",
          "height": 1000
        }
      },
      "source": [
        "train(net,data_iter,obj_function,optimizer,num_epochs=100)"
      ],
      "execution_count": 12,
      "outputs": [
        {
          "output_type": "stream",
          "text": [
            "epochs 0 loss -0.2618\n",
            "epochs 1 loss -0.2653\n",
            "epochs 2 loss -0.2688\n",
            "epochs 3 loss -0.2723\n",
            "epochs 4 loss -0.2758\n",
            "epochs 5 loss -0.2793\n",
            "epochs 6 loss -0.2828\n",
            "epochs 7 loss -0.2862\n",
            "epochs 8 loss -0.2897\n",
            "epochs 9 loss -0.2932\n",
            "epochs 10 loss -0.2966\n",
            "epochs 11 loss -0.3000\n",
            "epochs 12 loss -0.3034\n",
            "epochs 13 loss -0.3068\n",
            "epochs 14 loss -0.3102\n",
            "epochs 15 loss -0.3136\n",
            "epochs 16 loss -0.3169\n",
            "epochs 17 loss -0.3203\n",
            "epochs 18 loss -0.3236\n",
            "epochs 19 loss -0.3269\n",
            "epochs 20 loss -0.3301\n",
            "epochs 21 loss -0.3334\n",
            "epochs 22 loss -0.3367\n",
            "epochs 23 loss -0.3399\n",
            "epochs 24 loss -0.3431\n",
            "epochs 25 loss -0.3463\n",
            "epochs 26 loss -0.3496\n",
            "epochs 27 loss -0.3528\n",
            "epochs 28 loss -0.3560\n",
            "epochs 29 loss -0.3592\n",
            "epochs 30 loss -0.3623\n",
            "epochs 31 loss -0.3654\n",
            "epochs 32 loss -0.3685\n",
            "epochs 33 loss -0.3716\n",
            "epochs 34 loss -0.3747\n",
            "epochs 35 loss -0.3777\n",
            "epochs 36 loss -0.3807\n",
            "epochs 37 loss -0.3837\n",
            "epochs 38 loss -0.3866\n",
            "epochs 39 loss -0.3896\n",
            "epochs 40 loss -0.3925\n",
            "epochs 41 loss -0.3954\n",
            "epochs 42 loss -0.3983\n",
            "epochs 43 loss -0.4012\n",
            "epochs 44 loss -0.4040\n",
            "epochs 45 loss -0.4068\n",
            "epochs 46 loss -0.4096\n",
            "epochs 47 loss -0.4124\n",
            "epochs 48 loss -0.4151\n",
            "epochs 49 loss -0.4178\n",
            "epochs 50 loss -0.4205\n",
            "epochs 51 loss -0.4232\n",
            "epochs 52 loss -0.4258\n",
            "epochs 53 loss -0.4285\n",
            "epochs 54 loss -0.4311\n",
            "epochs 55 loss -0.4336\n",
            "epochs 56 loss -0.4362\n",
            "epochs 57 loss -0.4387\n",
            "epochs 58 loss -0.4412\n",
            "epochs 59 loss -0.4436\n",
            "epochs 60 loss -0.4461\n",
            "epochs 61 loss -0.4485\n",
            "epochs 62 loss -0.4509\n",
            "epochs 63 loss -0.4532\n",
            "epochs 64 loss -0.4556\n",
            "epochs 65 loss -0.4579\n",
            "epochs 66 loss -0.4602\n",
            "epochs 67 loss -0.4624\n",
            "epochs 68 loss -0.4647\n",
            "epochs 69 loss -0.4669\n",
            "epochs 70 loss -0.4691\n",
            "epochs 71 loss -0.4712\n",
            "epochs 72 loss -0.4734\n",
            "epochs 73 loss -0.4755\n",
            "epochs 74 loss -0.4776\n",
            "epochs 75 loss -0.4797\n",
            "epochs 76 loss -0.4817\n",
            "epochs 77 loss -0.4838\n",
            "epochs 78 loss -0.4858\n",
            "epochs 79 loss -0.4878\n",
            "epochs 80 loss -0.4898\n",
            "epochs 81 loss -0.4917\n",
            "epochs 82 loss -0.4937\n",
            "epochs 83 loss -0.4956\n",
            "epochs 84 loss -0.4975\n",
            "epochs 85 loss -0.4994\n",
            "epochs 86 loss -0.5013\n",
            "epochs 87 loss -0.5032\n",
            "epochs 88 loss -0.5050\n",
            "epochs 89 loss -0.5068\n",
            "epochs 90 loss -0.5086\n",
            "epochs 91 loss -0.5104\n",
            "epochs 92 loss -0.5122\n",
            "epochs 93 loss -0.5139\n",
            "epochs 94 loss -0.5157\n",
            "epochs 95 loss -0.5174\n",
            "epochs 96 loss -0.5191\n",
            "epochs 97 loss -0.5208\n",
            "epochs 98 loss -0.5225\n",
            "epochs 99 loss -0.5241\n"
          ],
          "name": "stdout"
        },
        {
          "output_type": "execute_result",
          "data": {
            "text/plain": [
              "Sequential(\n",
              "  (0): Linear(in_features=2, out_features=1, bias=False)\n",
              "  (1): Tanh()\n",
              ")"
            ]
          },
          "metadata": {
            "tags": []
          },
          "execution_count": 12
        },
        {
          "output_type": "display_data",
          "data": {
            "image/png": "[encoded data removed]",
            "text/plain": [
              "<Figure size 432x288 with 1 Axes>"
            ]
          },
          "metadata": {
            "tags": []
          }
        }
      ]
    },
    {
      "cell_type": "code",
      "metadata": {
        "id": "FMqfbnMFco0F",
        "colab_type": "code",
        "colab": {}
      },
      "source": [
        "data_iter = torch.tensor(X[['LSTAT','Price']].to_numpy(),dtype=torch.float)\n",
        "X['z_ann'] = net(data_iter).detach().numpy()"
      ],
      "execution_count": 0,
      "outputs": []
    },
    {
      "cell_type": "code",
      "metadata": {
        "id": "GfoGh3wteNgA",
        "colab_type": "code",
        "outputId": "e98fb172-963a-46dc-92b9-3f5d85e2f6b8",
        "colab": {
          "base_uri": "https://localhost:8080/",
          "height": 136
        }
      },
      "source": [
        "X.head().style.background_gradient(axis=0)"
      ],
      "execution_count": 14,
      "outputs": [
        {
          "output_type": "execute_result",
          "data": {
            "text/html": [
              "<style  type=\"text/css\" >\n",
              "    #T_18aac1d2_5e9a_11ea_9fbc_0242ac1c0002row0_col0 {\n",
              "            background-color:  #b5c4df;\n",
              "            color:  #000000;\n",
              "        }    #T_18aac1d2_5e9a_11ea_9fbc_0242ac1c0002row0_col1 {\n",
              "            background-color:  #e3e0ee;\n",
              "            color:  #000000;\n",
              "        }    #T_18aac1d2_5e9a_11ea_9fbc_0242ac1c0002row0_col2 {\n",
              "            background-color:  #3991c1;\n",
              "            color:  #000000;\n",
              "        }    #T_18aac1d2_5e9a_11ea_9fbc_0242ac1c0002row0_col3 {\n",
              "            background-color:  #3f93c2;\n",
              "            color:  #000000;\n",
              "        }    #T_18aac1d2_5e9a_11ea_9fbc_0242ac1c0002row1_col0 {\n",
              "            background-color:  #023858;\n",
              "            color:  #f1f1f1;\n",
              "        }    #T_18aac1d2_5e9a_11ea_9fbc_0242ac1c0002row1_col1 {\n",
              "            background-color:  #fff7fb;\n",
              "            color:  #000000;\n",
              "        }    #T_18aac1d2_5e9a_11ea_9fbc_0242ac1c0002row1_col2 {\n",
              "            background-color:  #023858;\n",
              "            color:  #f1f1f1;\n",
              "        }    #T_18aac1d2_5e9a_11ea_9fbc_0242ac1c0002row1_col3 {\n",
              "            background-color:  #023858;\n",
              "            color:  #f1f1f1;\n",
              "        }    #T_18aac1d2_5e9a_11ea_9fbc_0242ac1c0002row2_col0 {\n",
              "            background-color:  #e0deed;\n",
              "            color:  #000000;\n",
              "        }    #T_18aac1d2_5e9a_11ea_9fbc_0242ac1c0002row2_col1 {\n",
              "            background-color:  #045483;\n",
              "            color:  #f1f1f1;\n",
              "        }    #T_18aac1d2_5e9a_11ea_9fbc_0242ac1c0002row2_col2 {\n",
              "            background-color:  #fff7fb;\n",
              "            color:  #000000;\n",
              "        }    #T_18aac1d2_5e9a_11ea_9fbc_0242ac1c0002row2_col3 {\n",
              "            background-color:  #fcf4fa;\n",
              "            color:  #000000;\n",
              "        }    #T_18aac1d2_5e9a_11ea_9fbc_0242ac1c0002row3_col0 {\n",
              "            background-color:  #fff7fb;\n",
              "            color:  #000000;\n",
              "        }    #T_18aac1d2_5e9a_11ea_9fbc_0242ac1c0002row3_col1 {\n",
              "            background-color:  #0566a0;\n",
              "            color:  #f1f1f1;\n",
              "        }    #T_18aac1d2_5e9a_11ea_9fbc_0242ac1c0002row3_col2 {\n",
              "            background-color:  #fff7fb;\n",
              "            color:  #000000;\n",
              "        }    #T_18aac1d2_5e9a_11ea_9fbc_0242ac1c0002row3_col3 {\n",
              "            background-color:  #f9f2f8;\n",
              "            color:  #000000;\n",
              "        }    #T_18aac1d2_5e9a_11ea_9fbc_0242ac1c0002row4_col0 {\n",
              "            background-color:  #a2bcda;\n",
              "            color:  #000000;\n",
              "        }    #T_18aac1d2_5e9a_11ea_9fbc_0242ac1c0002row4_col1 {\n",
              "            background-color:  #023858;\n",
              "            color:  #f1f1f1;\n",
              "        }    #T_18aac1d2_5e9a_11ea_9fbc_0242ac1c0002row4_col2 {\n",
              "            background-color:  #fff7fb;\n",
              "            color:  #000000;\n",
              "        }    #T_18aac1d2_5e9a_11ea_9fbc_0242ac1c0002row4_col3 {\n",
              "            background-color:  #fff7fb;\n",
              "            color:  #000000;\n",
              "        }</style><table id=\"T_18aac1d2_5e9a_11ea_9fbc_0242ac1c0002\" ><thead>    <tr>        <th class=\"blank level0\" ></th>        <th class=\"col_heading level0 col0\" >LSTAT</th>        <th class=\"col_heading level0 col1\" >Price</th>        <th class=\"col_heading level0 col2\" >z</th>        <th class=\"col_heading level0 col3\" >z_ann</th>    </tr></thead><tbody>\n",
              "                <tr>\n",
              "                        <th id=\"T_18aac1d2_5e9a_11ea_9fbc_0242ac1c0002level0_row0\" class=\"row_heading level0 row0\" >0</th>\n",
              "                        <td id=\"T_18aac1d2_5e9a_11ea_9fbc_0242ac1c0002row0_col0\" class=\"data row0 col0\" >-0.82064</td>\n",
              "                        <td id=\"T_18aac1d2_5e9a_11ea_9fbc_0242ac1c0002row0_col1\" class=\"data row0 col1\" >-0.155556</td>\n",
              "                        <td id=\"T_18aac1d2_5e9a_11ea_9fbc_0242ac1c0002row0_col2\" class=\"data row0 col2\" >-0.339166</td>\n",
              "                        <td id=\"T_18aac1d2_5e9a_11ea_9fbc_0242ac1c0002row0_col3\" class=\"data row0 col3\" >-0.295823</td>\n",
              "            </tr>\n",
              "            <tr>\n",
              "                        <th id=\"T_18aac1d2_5e9a_11ea_9fbc_0242ac1c0002level0_row1\" class=\"row_heading level0 row1\" >1</th>\n",
              "                        <td id=\"T_18aac1d2_5e9a_11ea_9fbc_0242ac1c0002row1_col0\" class=\"data row1 col0\" >-0.59106</td>\n",
              "                        <td id=\"T_18aac1d2_5e9a_11ea_9fbc_0242ac1c0002row1_col1\" class=\"data row1 col1\" >-0.262222</td>\n",
              "                        <td id=\"T_18aac1d2_5e9a_11ea_9fbc_0242ac1c0002row1_col2\" class=\"data row1 col2\" >-0.103627</td>\n",
              "                        <td id=\"T_18aac1d2_5e9a_11ea_9fbc_0242ac1c0002row1_col3\" class=\"data row1 col3\" >0.0877663</td>\n",
              "            </tr>\n",
              "            <tr>\n",
              "                        <th id=\"T_18aac1d2_5e9a_11ea_9fbc_0242ac1c0002level0_row2\" class=\"row_heading level0 row2\" >2</th>\n",
              "                        <td id=\"T_18aac1d2_5e9a_11ea_9fbc_0242ac1c0002row2_col0\" class=\"data row2 col0\" >-0.873068</td>\n",
              "                        <td id=\"T_18aac1d2_5e9a_11ea_9fbc_0242ac1c0002row2_col1\" class=\"data row2 col1\" >0.32</td>\n",
              "                        <td id=\"T_18aac1d2_5e9a_11ea_9fbc_0242ac1c0002row2_col2\" class=\"data row2 col2\" >-0.719796</td>\n",
              "                        <td id=\"T_18aac1d2_5e9a_11ea_9fbc_0242ac1c0002row2_col3\" class=\"data row2 col3\" >-0.866496</td>\n",
              "            </tr>\n",
              "            <tr>\n",
              "                        <th id=\"T_18aac1d2_5e9a_11ea_9fbc_0242ac1c0002level0_row3\" class=\"row_heading level0 row3\" >3</th>\n",
              "                        <td id=\"T_18aac1d2_5e9a_11ea_9fbc_0242ac1c0002row3_col0\" class=\"data row3 col0\" >-0.933223</td>\n",
              "                        <td id=\"T_18aac1d2_5e9a_11ea_9fbc_0242ac1c0002row3_col1\" class=\"data row3 col1\" >0.262222</td>\n",
              "                        <td id=\"T_18aac1d2_5e9a_11ea_9fbc_0242ac1c0002row3_col2\" class=\"data row3 col2\" >-0.719412</td>\n",
              "                        <td id=\"T_18aac1d2_5e9a_11ea_9fbc_0242ac1c0002row3_col3\" class=\"data row3 col3\" >-0.847217</td>\n",
              "            </tr>\n",
              "            <tr>\n",
              "                        <th id=\"T_18aac1d2_5e9a_11ea_9fbc_0242ac1c0002level0_row4\" class=\"row_heading level0 row4\" >4</th>\n",
              "                        <td id=\"T_18aac1d2_5e9a_11ea_9fbc_0242ac1c0002row4_col0\" class=\"data row4 col0\" >-0.801325</td>\n",
              "                        <td id=\"T_18aac1d2_5e9a_11ea_9fbc_0242ac1c0002row4_col1\" class=\"data row4 col1\" >0.386667</td>\n",
              "                        <td id=\"T_18aac1d2_5e9a_11ea_9fbc_0242ac1c0002row4_col2\" class=\"data row4 col2\" >-0.718628</td>\n",
              "                        <td id=\"T_18aac1d2_5e9a_11ea_9fbc_0242ac1c0002row4_col3\" class=\"data row4 col3\" >-0.885542</td>\n",
              "            </tr>\n",
              "    </tbody></table>"
            ],
            "text/plain": [
              "<pandas.io.formats.style.Styler at 0x7fdf866790b8>"
            ]
          },
          "metadata": {
            "tags": []
          },
          "execution_count": 14
        }
      ]
    },
    {
      "cell_type": "code",
      "metadata": {
        "id": "sNzLRAgke9YY",
        "colab_type": "code",
        "outputId": "154bbe2d-1c61-4233-8763-569050eb8f9a",
        "colab": {
          "base_uri": "https://localhost:8080/",
          "height": 286
        }
      },
      "source": [
        "X.describe()"
      ],
      "execution_count": 15,
      "outputs": [
        {
          "output_type": "execute_result",
          "data": {
            "text/html": [
              "<div>\n",
              "<style scoped>\n",
              "    .dataframe tbody tr th:only-of-type {\n",
              "        vertical-align: middle;\n",
              "    }\n",
              "\n",
              "    .dataframe tbody tr th {\n",
              "        vertical-align: top;\n",
              "    }\n",
              "\n",
              "    .dataframe thead th {\n",
              "        text-align: right;\n",
              "    }\n",
              "</style>\n",
              "<table border=\"1\" class=\"dataframe\">\n",
              "  <thead>\n",
              "    <tr style=\"text-align: right;\">\n",
              "      <th></th>\n",
              "      <th>LSTAT</th>\n",
              "      <th>Price</th>\n",
              "      <th>z</th>\n",
              "      <th>z_ann</th>\n",
              "    </tr>\n",
              "  </thead>\n",
              "  <tbody>\n",
              "    <tr>\n",
              "      <th>count</th>\n",
              "      <td>506.000000</td>\n",
              "      <td>506.000000</td>\n",
              "      <td>5.060000e+02</td>\n",
              "      <td>506.000000</td>\n",
              "    </tr>\n",
              "    <tr>\n",
              "      <th>mean</th>\n",
              "      <td>-0.397182</td>\n",
              "      <td>-0.220764</td>\n",
              "      <td>-8.463805e-17</td>\n",
              "      <td>0.131808</td>\n",
              "    </tr>\n",
              "    <tr>\n",
              "      <th>std</th>\n",
              "      <td>0.394098</td>\n",
              "      <td>0.408760</td>\n",
              "      <td>5.293167e-01</td>\n",
              "      <td>0.615992</td>\n",
              "    </tr>\n",
              "    <tr>\n",
              "      <th>min</th>\n",
              "      <td>-1.000000</td>\n",
              "      <td>-1.000000</td>\n",
              "      <td>-1.299884e+00</td>\n",
              "      <td>-0.992750</td>\n",
              "    </tr>\n",
              "    <tr>\n",
              "      <th>25%</th>\n",
              "      <td>-0.711921</td>\n",
              "      <td>-0.465556</td>\n",
              "      <td>-3.081081e-01</td>\n",
              "      <td>-0.315576</td>\n",
              "    </tr>\n",
              "    <tr>\n",
              "      <th>50%</th>\n",
              "      <td>-0.468543</td>\n",
              "      <td>-0.280000</td>\n",
              "      <td>2.453843e-03</td>\n",
              "      <td>0.235772</td>\n",
              "    </tr>\n",
              "    <tr>\n",
              "      <th>75%</th>\n",
              "      <td>-0.159768</td>\n",
              "      <td>-0.111111</td>\n",
              "      <td>3.371453e-01</td>\n",
              "      <td>0.671154</td>\n",
              "    </tr>\n",
              "    <tr>\n",
              "      <th>max</th>\n",
              "      <td>1.000000</td>\n",
              "      <td>1.000000</td>\n",
              "      <td>1.425622e+00</td>\n",
              "      <td>0.988685</td>\n",
              "    </tr>\n",
              "  </tbody>\n",
              "</table>\n",
              "</div>"
            ],
            "text/plain": [
              "            LSTAT       Price             z       z_ann\n",
              "count  506.000000  506.000000  5.060000e+02  506.000000\n",
              "mean    -0.397182   -0.220764 -8.463805e-17    0.131808\n",
              "std      0.394098    0.408760  5.293167e-01    0.615992\n",
              "min     -1.000000   -1.000000 -1.299884e+00   -0.992750\n",
              "25%     -0.711921   -0.465556 -3.081081e-01   -0.315576\n",
              "50%     -0.468543   -0.280000  2.453843e-03    0.235772\n",
              "75%     -0.159768   -0.111111  3.371453e-01    0.671154\n",
              "max      1.000000    1.000000  1.425622e+00    0.988685"
            ]
          },
          "metadata": {
            "tags": []
          },
          "execution_count": 15
        }
      ]
    },
    {
      "cell_type": "code",
      "metadata": {
        "id": "sTM2ExVl5yuS",
        "colab_type": "code",
        "colab": {
          "base_uri": "https://localhost:8080/",
          "height": 33
        },
        "outputId": "137d5b97-5521-43d8-9184-a92998099e6c"
      },
      "source": [
        "pca.components_[0]"
      ],
      "execution_count": 16,
      "outputs": [
        {
          "output_type": "execute_result",
          "data": {
            "text/plain": [
              "array([ 0.68939494, -0.72438568])"
            ]
          },
          "metadata": {
            "tags": []
          },
          "execution_count": 16
        }
      ]
    },
    {
      "cell_type": "code",
      "metadata": {
        "id": "Mb2KTuDN84ui",
        "colab_type": "code",
        "colab": {
          "base_uri": "https://localhost:8080/",
          "height": 33
        },
        "outputId": "a5e78c8a-3495-4b06-fad3-ff363a97ee4b"
      },
      "source": [
        "for param in net.parameters():\n",
        "  print(param.data)"
      ],
      "execution_count": 17,
      "outputs": [
        {
          "output_type": "stream",
          "text": [
            "tensor([[ 0.7598, -2.0483]])\n"
          ],
          "name": "stdout"
        }
      ]
    },
    {
      "cell_type": "code",
      "metadata": {
        "id": "487riTFDgKRz",
        "colab_type": "code",
        "outputId": "198ff3c1-b668-4906-f0c8-d8dbc95c006c",
        "colab": {
          "base_uri": "https://localhost:8080/",
          "height": 281
        }
      },
      "source": [
        "X[['z','z_ann']].plot()"
      ],
      "execution_count": 18,
      "outputs": [
        {
          "output_type": "execute_result",
          "data": {
            "text/plain": [
              "<matplotlib.axes._subplots.AxesSubplot at 0x7fdf852a96d8>"
            ]
          },
          "metadata": {
            "tags": []
          },
          "execution_count": 18
        },
        {
          "output_type": "display_data",
          "data": {
            "image/png": "[encoded data removed]",
            "text/plain": [
              "<Figure size 432x288 with 1 Axes>"
            ]
          },
          "metadata": {
            "tags": []
          }
        }
      ]
    },
    {
      "cell_type": "code",
      "metadata": {
        "id": "LZdpWnu59FSm",
        "colab_type": "code",
        "colab": {}
      },
      "source": [
        "X['z_ann'] = X['z_ann']*(-1)"
      ],
      "execution_count": 0,
      "outputs": []
    },
    {
      "cell_type": "code",
      "metadata": {
        "id": "qQCBCDI_9LhJ",
        "colab_type": "code",
        "colab": {
          "base_uri": "https://localhost:8080/",
          "height": 281
        },
        "outputId": "a71888cb-5901-4b86-f11b-21210c11d766"
      },
      "source": [
        "X[['z','z_ann']].plot()"
      ],
      "execution_count": 20,
      "outputs": [
        {
          "output_type": "execute_result",
          "data": {
            "text/plain": [
              "<matplotlib.axes._subplots.AxesSubplot at 0x7fdf85284358>"
            ]
          },
          "metadata": {
            "tags": []
          },
          "execution_count": 20
        },
        {
          "output_type": "display_data",
          "data": {
            "image/png": "[encoded data removed]",
            "text/plain": [
              "<Figure size 432x288 with 1 Axes>"
            ]
          },
          "metadata": {
            "tags": []
          }
        }
      ]
    },
    {
      "cell_type": "code",
      "metadata": {
        "id": "gKmHQZ3QgbeP",
        "colab_type": "code",
        "colab": {
          "base_uri": "https://localhost:8080/",
          "height": 33
        },
        "outputId": "b7bbc78f-1949-4296-d90a-2e271883becf"
      },
      "source": [
        "pca.components_[0][0]/pca.components_[0][1]"
      ],
      "execution_count": 21,
      "outputs": [
        {
          "output_type": "execute_result",
          "data": {
            "text/plain": [
              "-0.9516959808747333"
            ]
          },
          "metadata": {
            "tags": []
          },
          "execution_count": 21
        }
      ]
    },
    {
      "cell_type": "code",
      "metadata": {
        "id": "UU_Lezjx6bY8",
        "colab_type": "code",
        "colab": {
          "base_uri": "https://localhost:8080/",
          "height": 33
        },
        "outputId": "b376dcb9-fe11-47a4-cb8c-541bdfd9f8e3"
      },
      "source": [
        "param.data[0][0].detach().item()/param.data[0][1].detach().item()"
      ],
      "execution_count": 22,
      "outputs": [
        {
          "output_type": "execute_result",
          "data": {
            "text/plain": [
              "-0.37096583167212077"
            ]
          },
          "metadata": {
            "tags": []
          },
          "execution_count": 22
        }
      ]
    },
    {
      "cell_type": "code",
      "metadata": {
        "id": "g4W4Rv1F6iOv",
        "colab_type": "code",
        "colab": {}
      },
      "source": [
        ""
      ],
      "execution_count": 0,
      "outputs": []
    }
  ]
}