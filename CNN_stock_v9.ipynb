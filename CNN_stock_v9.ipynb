{
  "nbformat": 4,
  "nbformat_minor": 0,
  "metadata": {
    "colab": {
      "name": "CNN_stock.ipynb",
      "version": "0.3.2",
      "provenance": [],
      "collapsed_sections": [],
      "include_colab_link": true
    },
    "kernelspec": {
      "name": "python3",
      "display_name": "Python 3"
    },
    "accelerator": "GPU"
  },
  "cells": [
    {
      "cell_type": "markdown",
      "metadata": {
        "id": "view-in-github",
        "colab_type": "text"
      },
      "source": [
        "<a href=\"https://colab.research.google.com/github/skywalker0803r/Ricky/blob/master/CNN_stock_v9.ipynb\" target=\"_parent\"><img src=\"https://colab.research.google.com/assets/colab-badge.svg\" alt=\"Open In Colab\"/></a>"
      ]
    },
    {
      "cell_type": "code",
      "metadata": {
        "id": "g7NPpY26_qJm",
        "colab_type": "code",
        "colab": {}
      },
      "source": [
        "import pandas as pd\n",
        "import seaborn as sns\n",
        "import pandas_datareader.data as web\n",
        "#!pip install finta\n",
        "SID = '0050.tw'\n",
        "df = web.DataReader(SID,'yahoo',start=\"2000-01-01\")\n",
        "df = df.iloc[:,:5]"
      ],
      "execution_count": 0,
      "outputs": []
    },
    {
      "cell_type": "markdown",
      "metadata": {
        "id": "6vaRLIuvJlZ7",
        "colab_type": "text"
      },
      "source": [
        "# 載入資料"
      ]
    },
    {
      "cell_type": "code",
      "metadata": {
        "id": "kRKHlNGl_7JV",
        "colab_type": "code",
        "outputId": "ac5c889a-5d6d-40b6-9bf1-854c2b06ce92",
        "colab": {
          "base_uri": "https://localhost:8080/",
          "height": 187
        }
      },
      "source": [
        "print(df.shape)\n",
        "df.head(3)"
      ],
      "execution_count": 2,
      "outputs": [
        {
          "output_type": "stream",
          "text": [
            "(2877, 5)\n"
          ],
          "name": "stdout"
        },
        {
          "output_type": "execute_result",
          "data": {
            "text/html": [
              "<div>\n",
              "<style scoped>\n",
              "    .dataframe tbody tr th:only-of-type {\n",
              "        vertical-align: middle;\n",
              "    }\n",
              "\n",
              "    .dataframe tbody tr th {\n",
              "        vertical-align: top;\n",
              "    }\n",
              "\n",
              "    .dataframe thead th {\n",
              "        text-align: right;\n",
              "    }\n",
              "</style>\n",
              "<table border=\"1\" class=\"dataframe\">\n",
              "  <thead>\n",
              "    <tr style=\"text-align: right;\">\n",
              "      <th></th>\n",
              "      <th>High</th>\n",
              "      <th>Low</th>\n",
              "      <th>Open</th>\n",
              "      <th>Close</th>\n",
              "      <th>Volume</th>\n",
              "    </tr>\n",
              "    <tr>\n",
              "      <th>Date</th>\n",
              "      <th></th>\n",
              "      <th></th>\n",
              "      <th></th>\n",
              "      <th></th>\n",
              "      <th></th>\n",
              "    </tr>\n",
              "  </thead>\n",
              "  <tbody>\n",
              "    <tr>\n",
              "      <th>2007-12-31</th>\n",
              "      <td>61.700001</td>\n",
              "      <td>61.049999</td>\n",
              "      <td>61.450001</td>\n",
              "      <td>61.450001</td>\n",
              "      <td>2870000.0</td>\n",
              "    </tr>\n",
              "    <tr>\n",
              "      <th>2008-01-02</th>\n",
              "      <td>61.299999</td>\n",
              "      <td>60.000000</td>\n",
              "      <td>60.099998</td>\n",
              "      <td>60.099998</td>\n",
              "      <td>4975000.0</td>\n",
              "    </tr>\n",
              "    <tr>\n",
              "      <th>2008-01-03</th>\n",
              "      <td>59.349998</td>\n",
              "      <td>58.599998</td>\n",
              "      <td>59.099998</td>\n",
              "      <td>59.099998</td>\n",
              "      <td>7413000.0</td>\n",
              "    </tr>\n",
              "  </tbody>\n",
              "</table>\n",
              "</div>"
            ],
            "text/plain": [
              "                 High        Low       Open      Close     Volume\n",
              "Date                                                             \n",
              "2007-12-31  61.700001  61.049999  61.450001  61.450001  2870000.0\n",
              "2008-01-02  61.299999  60.000000  60.099998  60.099998  4975000.0\n",
              "2008-01-03  59.349998  58.599998  59.099998  59.099998  7413000.0"
            ]
          },
          "metadata": {
            "tags": []
          },
          "execution_count": 2
        }
      ]
    },
    {
      "cell_type": "code",
      "metadata": {
        "id": "9YvzTIEDddVx",
        "colab_type": "code",
        "outputId": "22d97fd4-f24f-4601-90e6-916de36b5f7e",
        "colab": {
          "base_uri": "https://localhost:8080/",
          "height": 170
        }
      },
      "source": [
        "df.tail(3)"
      ],
      "execution_count": 3,
      "outputs": [
        {
          "output_type": "execute_result",
          "data": {
            "text/html": [
              "<div>\n",
              "<style scoped>\n",
              "    .dataframe tbody tr th:only-of-type {\n",
              "        vertical-align: middle;\n",
              "    }\n",
              "\n",
              "    .dataframe tbody tr th {\n",
              "        vertical-align: top;\n",
              "    }\n",
              "\n",
              "    .dataframe thead th {\n",
              "        text-align: right;\n",
              "    }\n",
              "</style>\n",
              "<table border=\"1\" class=\"dataframe\">\n",
              "  <thead>\n",
              "    <tr style=\"text-align: right;\">\n",
              "      <th></th>\n",
              "      <th>High</th>\n",
              "      <th>Low</th>\n",
              "      <th>Open</th>\n",
              "      <th>Close</th>\n",
              "      <th>Volume</th>\n",
              "    </tr>\n",
              "    <tr>\n",
              "      <th>Date</th>\n",
              "      <th></th>\n",
              "      <th></th>\n",
              "      <th></th>\n",
              "      <th></th>\n",
              "      <th></th>\n",
              "    </tr>\n",
              "  </thead>\n",
              "  <tbody>\n",
              "    <tr>\n",
              "      <th>2019-09-04</th>\n",
              "      <td>82.199997</td>\n",
              "      <td>81.400002</td>\n",
              "      <td>81.449997</td>\n",
              "      <td>82.150002</td>\n",
              "      <td>10748771.0</td>\n",
              "    </tr>\n",
              "    <tr>\n",
              "      <th>2019-09-05</th>\n",
              "      <td>83.199997</td>\n",
              "      <td>82.550003</td>\n",
              "      <td>82.550003</td>\n",
              "      <td>83.000000</td>\n",
              "      <td>25429390.0</td>\n",
              "    </tr>\n",
              "    <tr>\n",
              "      <th>2019-09-06</th>\n",
              "      <td>83.550003</td>\n",
              "      <td>83.250000</td>\n",
              "      <td>83.250000</td>\n",
              "      <td>83.500000</td>\n",
              "      <td>17226303.0</td>\n",
              "    </tr>\n",
              "  </tbody>\n",
              "</table>\n",
              "</div>"
            ],
            "text/plain": [
              "                 High        Low       Open      Close      Volume\n",
              "Date                                                              \n",
              "2019-09-04  82.199997  81.400002  81.449997  82.150002  10748771.0\n",
              "2019-09-05  83.199997  82.550003  82.550003  83.000000  25429390.0\n",
              "2019-09-06  83.550003  83.250000  83.250000  83.500000  17226303.0"
            ]
          },
          "metadata": {
            "tags": []
          },
          "execution_count": 3
        }
      ]
    },
    {
      "cell_type": "markdown",
      "metadata": {
        "id": "ZsFMU68NI85j",
        "colab_type": "text"
      },
      "source": [
        "# Labeling(計算return)"
      ]
    },
    {
      "cell_type": "code",
      "metadata": {
        "id": "WaNG41cBI9BT",
        "colab_type": "code",
        "colab": {}
      },
      "source": [
        "#今天股價 = df['Close']\n",
        "#昨天股價 = df['Close'].shift(1)\n",
        "#df['return%'] = (今天股價/昨天股價-1)*100\n",
        "#print(df['return%'].min(),df['return%'].max())\n",
        "#sns.distplot(df['return%'].dropna())\n",
        "#df.tail()"
      ],
      "execution_count": 0,
      "outputs": []
    },
    {
      "cell_type": "markdown",
      "metadata": {
        "id": "HegmuvBN0FKD",
        "colab_type": "text"
      },
      "source": [
        "# Label triple_barrier"
      ]
    },
    {
      "cell_type": "code",
      "metadata": {
        "id": "RFsmFQfF0FXt",
        "colab_type": "code",
        "colab": {}
      },
      "source": [
        "import numpy as np\n",
        "import math\n",
        "def triple_barrier(price, ub, lb, max_period):\n",
        "\n",
        "    def end_price(s):\n",
        "        return np.append(s[(s / s[0] > ub) | (s / s[0] < lb)], s[-1])[0]/s[0]\n",
        "    \n",
        "    r = np.array(range(max_period))\n",
        "    \n",
        "    def end_time(s):\n",
        "        return np.append(r[(s / s[0] > ub) | (s / s[0] < lb)], max_period-1)[0]\n",
        "\n",
        "    p = price.rolling(max_period).apply(end_price, raw=True).shift(-max_period+1)\n",
        "    t = price.rolling(max_period).apply(end_time, raw=True).shift(-max_period+1)\n",
        "    t = pd.Series([t.index[int(k+i)] if not math.isnan(k+i) else np.datetime64('NaT') \n",
        "                   for i, k in enumerate(t)], index=t.index).dropna()\n",
        "\n",
        "    signal = pd.Series(0, p.index)\n",
        "    signal.loc[p > ub] = 1\n",
        "    signal.loc[p < lb] = -1\n",
        "    ret = pd.DataFrame({'triple_barrier_profit':p, 'triple_barrier_sell_time':t, 'triple_barrier_signal':signal})\n",
        "\n",
        "    return ret\n",
        "\n",
        "ret = triple_barrier(df.Close, 1.07, 0.97, 20)['triple_barrier_signal']\n",
        "df = df.join(ret)"
      ],
      "execution_count": 0,
      "outputs": []
    },
    {
      "cell_type": "code",
      "metadata": {
        "id": "MHRZWGG40a3q",
        "colab_type": "code",
        "outputId": "48c9f25b-75e6-4326-e4ac-404cad1ea4c5",
        "colab": {
          "base_uri": "https://localhost:8080/",
          "height": 686
        }
      },
      "source": [
        "df.tail(20)"
      ],
      "execution_count": 6,
      "outputs": [
        {
          "output_type": "execute_result",
          "data": {
            "text/html": [
              "<div>\n",
              "<style scoped>\n",
              "    .dataframe tbody tr th:only-of-type {\n",
              "        vertical-align: middle;\n",
              "    }\n",
              "\n",
              "    .dataframe tbody tr th {\n",
              "        vertical-align: top;\n",
              "    }\n",
              "\n",
              "    .dataframe thead th {\n",
              "        text-align: right;\n",
              "    }\n",
              "</style>\n",
              "<table border=\"1\" class=\"dataframe\">\n",
              "  <thead>\n",
              "    <tr style=\"text-align: right;\">\n",
              "      <th></th>\n",
              "      <th>High</th>\n",
              "      <th>Low</th>\n",
              "      <th>Open</th>\n",
              "      <th>Close</th>\n",
              "      <th>Volume</th>\n",
              "      <th>triple_barrier_signal</th>\n",
              "    </tr>\n",
              "    <tr>\n",
              "      <th>Date</th>\n",
              "      <th></th>\n",
              "      <th></th>\n",
              "      <th></th>\n",
              "      <th></th>\n",
              "      <th></th>\n",
              "      <th></th>\n",
              "    </tr>\n",
              "  </thead>\n",
              "  <tbody>\n",
              "    <tr>\n",
              "      <th>2019-08-08</th>\n",
              "      <td>80.800003</td>\n",
              "      <td>80.000000</td>\n",
              "      <td>80.050003</td>\n",
              "      <td>80.650002</td>\n",
              "      <td>5036121.0</td>\n",
              "      <td>0</td>\n",
              "    </tr>\n",
              "    <tr>\n",
              "      <th>2019-08-12</th>\n",
              "      <td>80.849998</td>\n",
              "      <td>80.150002</td>\n",
              "      <td>80.650002</td>\n",
              "      <td>80.599998</td>\n",
              "      <td>3168030.0</td>\n",
              "      <td>0</td>\n",
              "    </tr>\n",
              "    <tr>\n",
              "      <th>2019-08-13</th>\n",
              "      <td>80.150002</td>\n",
              "      <td>79.550003</td>\n",
              "      <td>80.150002</td>\n",
              "      <td>79.699997</td>\n",
              "      <td>7431519.0</td>\n",
              "      <td>0</td>\n",
              "    </tr>\n",
              "    <tr>\n",
              "      <th>2019-08-14</th>\n",
              "      <td>80.800003</td>\n",
              "      <td>80.300003</td>\n",
              "      <td>80.699997</td>\n",
              "      <td>80.300003</td>\n",
              "      <td>7382138.0</td>\n",
              "      <td>0</td>\n",
              "    </tr>\n",
              "    <tr>\n",
              "      <th>2019-08-15</th>\n",
              "      <td>79.599998</td>\n",
              "      <td>79.099998</td>\n",
              "      <td>79.199997</td>\n",
              "      <td>79.400002</td>\n",
              "      <td>15972089.0</td>\n",
              "      <td>0</td>\n",
              "    </tr>\n",
              "    <tr>\n",
              "      <th>2019-08-16</th>\n",
              "      <td>80.349998</td>\n",
              "      <td>79.250000</td>\n",
              "      <td>79.449997</td>\n",
              "      <td>80.349998</td>\n",
              "      <td>6158748.0</td>\n",
              "      <td>0</td>\n",
              "    </tr>\n",
              "    <tr>\n",
              "      <th>2019-08-19</th>\n",
              "      <td>80.900002</td>\n",
              "      <td>80.300003</td>\n",
              "      <td>80.750000</td>\n",
              "      <td>80.800003</td>\n",
              "      <td>6475352.0</td>\n",
              "      <td>0</td>\n",
              "    </tr>\n",
              "    <tr>\n",
              "      <th>2019-08-20</th>\n",
              "      <td>81.099998</td>\n",
              "      <td>80.800003</td>\n",
              "      <td>80.849998</td>\n",
              "      <td>81.000000</td>\n",
              "      <td>4179197.0</td>\n",
              "      <td>0</td>\n",
              "    </tr>\n",
              "    <tr>\n",
              "      <th>2019-08-21</th>\n",
              "      <td>81.150002</td>\n",
              "      <td>80.900002</td>\n",
              "      <td>80.949997</td>\n",
              "      <td>81.099998</td>\n",
              "      <td>6092896.0</td>\n",
              "      <td>0</td>\n",
              "    </tr>\n",
              "    <tr>\n",
              "      <th>2019-08-23</th>\n",
              "      <td>81.099998</td>\n",
              "      <td>80.750000</td>\n",
              "      <td>80.900002</td>\n",
              "      <td>81.000000</td>\n",
              "      <td>3211036.0</td>\n",
              "      <td>0</td>\n",
              "    </tr>\n",
              "    <tr>\n",
              "      <th>2019-08-26</th>\n",
              "      <td>80.099998</td>\n",
              "      <td>79.599998</td>\n",
              "      <td>79.800003</td>\n",
              "      <td>79.650002</td>\n",
              "      <td>12292310.0</td>\n",
              "      <td>0</td>\n",
              "    </tr>\n",
              "    <tr>\n",
              "      <th>2019-08-27</th>\n",
              "      <td>80.199997</td>\n",
              "      <td>79.750000</td>\n",
              "      <td>80.150002</td>\n",
              "      <td>79.849998</td>\n",
              "      <td>2535864.0</td>\n",
              "      <td>0</td>\n",
              "    </tr>\n",
              "    <tr>\n",
              "      <th>2019-08-28</th>\n",
              "      <td>80.550003</td>\n",
              "      <td>80.099998</td>\n",
              "      <td>80.099998</td>\n",
              "      <td>80.400002</td>\n",
              "      <td>3318188.0</td>\n",
              "      <td>0</td>\n",
              "    </tr>\n",
              "    <tr>\n",
              "      <th>2019-08-29</th>\n",
              "      <td>80.599998</td>\n",
              "      <td>80.000000</td>\n",
              "      <td>80.449997</td>\n",
              "      <td>80.550003</td>\n",
              "      <td>3233649.0</td>\n",
              "      <td>0</td>\n",
              "    </tr>\n",
              "    <tr>\n",
              "      <th>2019-08-30</th>\n",
              "      <td>81.900002</td>\n",
              "      <td>81.150002</td>\n",
              "      <td>81.150002</td>\n",
              "      <td>81.849998</td>\n",
              "      <td>19370894.0</td>\n",
              "      <td>0</td>\n",
              "    </tr>\n",
              "    <tr>\n",
              "      <th>2019-09-02</th>\n",
              "      <td>82.000000</td>\n",
              "      <td>81.650002</td>\n",
              "      <td>81.800003</td>\n",
              "      <td>81.900002</td>\n",
              "      <td>6457870.0</td>\n",
              "      <td>0</td>\n",
              "    </tr>\n",
              "    <tr>\n",
              "      <th>2019-09-03</th>\n",
              "      <td>82.000000</td>\n",
              "      <td>81.199997</td>\n",
              "      <td>81.849998</td>\n",
              "      <td>81.199997</td>\n",
              "      <td>5052925.0</td>\n",
              "      <td>0</td>\n",
              "    </tr>\n",
              "    <tr>\n",
              "      <th>2019-09-04</th>\n",
              "      <td>82.199997</td>\n",
              "      <td>81.400002</td>\n",
              "      <td>81.449997</td>\n",
              "      <td>82.150002</td>\n",
              "      <td>10748771.0</td>\n",
              "      <td>0</td>\n",
              "    </tr>\n",
              "    <tr>\n",
              "      <th>2019-09-05</th>\n",
              "      <td>83.199997</td>\n",
              "      <td>82.550003</td>\n",
              "      <td>82.550003</td>\n",
              "      <td>83.000000</td>\n",
              "      <td>25429390.0</td>\n",
              "      <td>0</td>\n",
              "    </tr>\n",
              "    <tr>\n",
              "      <th>2019-09-06</th>\n",
              "      <td>83.550003</td>\n",
              "      <td>83.250000</td>\n",
              "      <td>83.250000</td>\n",
              "      <td>83.500000</td>\n",
              "      <td>17226303.0</td>\n",
              "      <td>0</td>\n",
              "    </tr>\n",
              "  </tbody>\n",
              "</table>\n",
              "</div>"
            ],
            "text/plain": [
              "                 High        Low  ...      Volume  triple_barrier_signal\n",
              "Date                              ...                                   \n",
              "2019-08-08  80.800003  80.000000  ...   5036121.0                      0\n",
              "2019-08-12  80.849998  80.150002  ...   3168030.0                      0\n",
              "2019-08-13  80.150002  79.550003  ...   7431519.0                      0\n",
              "2019-08-14  80.800003  80.300003  ...   7382138.0                      0\n",
              "2019-08-15  79.599998  79.099998  ...  15972089.0                      0\n",
              "2019-08-16  80.349998  79.250000  ...   6158748.0                      0\n",
              "2019-08-19  80.900002  80.300003  ...   6475352.0                      0\n",
              "2019-08-20  81.099998  80.800003  ...   4179197.0                      0\n",
              "2019-08-21  81.150002  80.900002  ...   6092896.0                      0\n",
              "2019-08-23  81.099998  80.750000  ...   3211036.0                      0\n",
              "2019-08-26  80.099998  79.599998  ...  12292310.0                      0\n",
              "2019-08-27  80.199997  79.750000  ...   2535864.0                      0\n",
              "2019-08-28  80.550003  80.099998  ...   3318188.0                      0\n",
              "2019-08-29  80.599998  80.000000  ...   3233649.0                      0\n",
              "2019-08-30  81.900002  81.150002  ...  19370894.0                      0\n",
              "2019-09-02  82.000000  81.650002  ...   6457870.0                      0\n",
              "2019-09-03  82.000000  81.199997  ...   5052925.0                      0\n",
              "2019-09-04  82.199997  81.400002  ...  10748771.0                      0\n",
              "2019-09-05  83.199997  82.550003  ...  25429390.0                      0\n",
              "2019-09-06  83.550003  83.250000  ...  17226303.0                      0\n",
              "\n",
              "[20 rows x 6 columns]"
            ]
          },
          "metadata": {
            "tags": []
          },
          "execution_count": 6
        }
      ]
    },
    {
      "cell_type": "code",
      "metadata": {
        "id": "Qti5Zd4-jOrH",
        "colab_type": "code",
        "outputId": "f02013de-46d2-43b4-e6ca-18bca9a7368b",
        "colab": {
          "base_uri": "https://localhost:8080/",
          "height": 307
        }
      },
      "source": [
        "import matplotlib.pyplot as plt\n",
        "buy = df[df['triple_barrier_signal']==1]['Close']\n",
        "sell = df[df['triple_barrier_signal']==-1]['Close']\n",
        "df['Close'][0:40].plot()#後20筆是前20筆的驗證\n",
        "plt.scatter(buy.index,buy.values,color='red')\n",
        "plt.scatter(sell.index,sell.values,color='black')\n",
        "lb = df['Close'][0:40].mean() - 3*df['Close'][0:40].std()\n",
        "ub = df['Close'][0:40].mean() + 3*df['Close'][0:40].std()\n",
        "plt.ylim(lb,ub)"
      ],
      "execution_count": 7,
      "outputs": [
        {
          "output_type": "execute_result",
          "data": {
            "text/plain": [
              "(51.22531358659142, 64.3121867948783)"
            ]
          },
          "metadata": {
            "tags": []
          },
          "execution_count": 7
        },
        {
          "output_type": "display_data",
          "data": {
            "image/png": "[encoded data removed]",
            "text/plain": [
              "<Figure size 432x288 with 1 Axes>"
            ]
          },
          "metadata": {
            "tags": []
          }
        }
      ]
    },
    {
      "cell_type": "markdown",
      "metadata": {
        "id": "HUtEilqGfIJl",
        "colab_type": "text"
      },
      "source": [
        "# 建立ohlcv"
      ]
    },
    {
      "cell_type": "code",
      "metadata": {
        "id": "FdFhLZkYfKpN",
        "colab_type": "code",
        "colab": {}
      },
      "source": [
        "from finta import TA\n",
        "ohlcv = df[['Open','High','Low','Close','Volume']]\n",
        "ohlcv.columns = ['open','high','low','close','volume']"
      ],
      "execution_count": 0,
      "outputs": []
    },
    {
      "cell_type": "markdown",
      "metadata": {
        "id": "9K9RepGQwbQQ",
        "colab_type": "text"
      },
      "source": [
        "# 計算技術指標RSI"
      ]
    },
    {
      "cell_type": "code",
      "metadata": {
        "id": "ZZkpnqk9e0Rw",
        "colab_type": "code",
        "outputId": "f97fec1d-6ab7-40a7-dbac-3007d695f38d",
        "colab": {
          "base_uri": "https://localhost:8080/",
          "height": 656
        }
      },
      "source": [
        "df['RSI'] = TA.RSI(ohlcv)\n",
        "print(df['RSI'].describe())\n",
        "sns.distplot(df['RSI'].dropna())\n",
        "df.tail()"
      ],
      "execution_count": 9,
      "outputs": [
        {
          "output_type": "stream",
          "text": [
            "count    2876.000000\n",
            "mean       52.505154\n",
            "std        16.593634\n",
            "min         0.000000\n",
            "25%        40.728196\n",
            "50%        53.415834\n",
            "75%        64.902513\n",
            "max        92.833130\n",
            "Name: RSI, dtype: float64\n"
          ],
          "name": "stdout"
        },
        {
          "output_type": "execute_result",
          "data": {
            "text/html": [
              "<div>\n",
              "<style scoped>\n",
              "    .dataframe tbody tr th:only-of-type {\n",
              "        vertical-align: middle;\n",
              "    }\n",
              "\n",
              "    .dataframe tbody tr th {\n",
              "        vertical-align: top;\n",
              "    }\n",
              "\n",
              "    .dataframe thead th {\n",
              "        text-align: right;\n",
              "    }\n",
              "</style>\n",
              "<table border=\"1\" class=\"dataframe\">\n",
              "  <thead>\n",
              "    <tr style=\"text-align: right;\">\n",
              "      <th></th>\n",
              "      <th>High</th>\n",
              "      <th>Low</th>\n",
              "      <th>Open</th>\n",
              "      <th>Close</th>\n",
              "      <th>Volume</th>\n",
              "      <th>triple_barrier_signal</th>\n",
              "      <th>RSI</th>\n",
              "    </tr>\n",
              "    <tr>\n",
              "      <th>Date</th>\n",
              "      <th></th>\n",
              "      <th></th>\n",
              "      <th></th>\n",
              "      <th></th>\n",
              "      <th></th>\n",
              "      <th></th>\n",
              "      <th></th>\n",
              "    </tr>\n",
              "  </thead>\n",
              "  <tbody>\n",
              "    <tr>\n",
              "      <th>2019-09-02</th>\n",
              "      <td>82.000000</td>\n",
              "      <td>81.650002</td>\n",
              "      <td>81.800003</td>\n",
              "      <td>81.900002</td>\n",
              "      <td>6457870.0</td>\n",
              "      <td>0</td>\n",
              "      <td>65.211685</td>\n",
              "    </tr>\n",
              "    <tr>\n",
              "      <th>2019-09-03</th>\n",
              "      <td>82.000000</td>\n",
              "      <td>81.199997</td>\n",
              "      <td>81.849998</td>\n",
              "      <td>81.199997</td>\n",
              "      <td>5052925.0</td>\n",
              "      <td>0</td>\n",
              "      <td>53.807044</td>\n",
              "    </tr>\n",
              "    <tr>\n",
              "      <th>2019-09-04</th>\n",
              "      <td>82.199997</td>\n",
              "      <td>81.400002</td>\n",
              "      <td>81.449997</td>\n",
              "      <td>82.150002</td>\n",
              "      <td>10748771.0</td>\n",
              "      <td>0</td>\n",
              "      <td>63.737814</td>\n",
              "    </tr>\n",
              "    <tr>\n",
              "      <th>2019-09-05</th>\n",
              "      <td>83.199997</td>\n",
              "      <td>82.550003</td>\n",
              "      <td>82.550003</td>\n",
              "      <td>83.000000</td>\n",
              "      <td>25429390.0</td>\n",
              "      <td>0</td>\n",
              "      <td>70.324234</td>\n",
              "    </tr>\n",
              "    <tr>\n",
              "      <th>2019-09-06</th>\n",
              "      <td>83.550003</td>\n",
              "      <td>83.250000</td>\n",
              "      <td>83.250000</td>\n",
              "      <td>83.500000</td>\n",
              "      <td>17226303.0</td>\n",
              "      <td>0</td>\n",
              "      <td>73.581167</td>\n",
              "    </tr>\n",
              "  </tbody>\n",
              "</table>\n",
              "</div>"
            ],
            "text/plain": [
              "                 High        Low  ...  triple_barrier_signal        RSI\n",
              "Date                              ...                                  \n",
              "2019-09-02  82.000000  81.650002  ...                      0  65.211685\n",
              "2019-09-03  82.000000  81.199997  ...                      0  53.807044\n",
              "2019-09-04  82.199997  81.400002  ...                      0  63.737814\n",
              "2019-09-05  83.199997  82.550003  ...                      0  70.324234\n",
              "2019-09-06  83.550003  83.250000  ...                      0  73.581167\n",
              "\n",
              "[5 rows x 7 columns]"
            ]
          },
          "metadata": {
            "tags": []
          },
          "execution_count": 9
        },
        {
          "output_type": "display_data",
          "data": {
            "image/png": "[encoded data removed]",
            "text/plain": [
              "<Figure size 432x288 with 1 Axes>"
            ]
          },
          "metadata": {
            "tags": []
          }
        }
      ]
    },
    {
      "cell_type": "markdown",
      "metadata": {
        "id": "fZXZuQe93pJE",
        "colab_type": "text"
      },
      "source": [
        "# 計算威廉指標"
      ]
    },
    {
      "cell_type": "code",
      "metadata": {
        "id": "Q8_qx-dnfPJa",
        "colab_type": "code",
        "outputId": "10a5c30b-09b5-46f7-f621-faced25b685e",
        "colab": {
          "base_uri": "https://localhost:8080/",
          "height": 656
        }
      },
      "source": [
        "df['Williams %R'] = TA.WILLIAMS(ohlcv)\n",
        "print(df['Williams %R'].describe())\n",
        "sns.distplot(df['Williams %R'].dropna())\n",
        "df.tail()"
      ],
      "execution_count": 10,
      "outputs": [
        {
          "output_type": "stream",
          "text": [
            "count    2864.000000\n",
            "mean      -43.944648\n",
            "std        31.232636\n",
            "min      -100.000000\n",
            "25%       -72.238984\n",
            "50%       -41.048678\n",
            "75%       -14.814794\n",
            "max        -0.000000\n",
            "Name: Williams %R, dtype: float64\n"
          ],
          "name": "stdout"
        },
        {
          "output_type": "execute_result",
          "data": {
            "text/html": [
              "<div>\n",
              "<style scoped>\n",
              "    .dataframe tbody tr th:only-of-type {\n",
              "        vertical-align: middle;\n",
              "    }\n",
              "\n",
              "    .dataframe tbody tr th {\n",
              "        vertical-align: top;\n",
              "    }\n",
              "\n",
              "    .dataframe thead th {\n",
              "        text-align: right;\n",
              "    }\n",
              "</style>\n",
              "<table border=\"1\" class=\"dataframe\">\n",
              "  <thead>\n",
              "    <tr style=\"text-align: right;\">\n",
              "      <th></th>\n",
              "      <th>High</th>\n",
              "      <th>Low</th>\n",
              "      <th>Open</th>\n",
              "      <th>Close</th>\n",
              "      <th>Volume</th>\n",
              "      <th>triple_barrier_signal</th>\n",
              "      <th>RSI</th>\n",
              "      <th>Williams %R</th>\n",
              "    </tr>\n",
              "    <tr>\n",
              "      <th>Date</th>\n",
              "      <th></th>\n",
              "      <th></th>\n",
              "      <th></th>\n",
              "      <th></th>\n",
              "      <th></th>\n",
              "      <th></th>\n",
              "      <th></th>\n",
              "      <th></th>\n",
              "    </tr>\n",
              "  </thead>\n",
              "  <tbody>\n",
              "    <tr>\n",
              "      <th>2019-09-02</th>\n",
              "      <td>82.000000</td>\n",
              "      <td>81.650002</td>\n",
              "      <td>81.800003</td>\n",
              "      <td>81.900002</td>\n",
              "      <td>6457870.0</td>\n",
              "      <td>0</td>\n",
              "      <td>65.211685</td>\n",
              "      <td>-3.448221</td>\n",
              "    </tr>\n",
              "    <tr>\n",
              "      <th>2019-09-03</th>\n",
              "      <td>82.000000</td>\n",
              "      <td>81.199997</td>\n",
              "      <td>81.849998</td>\n",
              "      <td>81.199997</td>\n",
              "      <td>5052925.0</td>\n",
              "      <td>0</td>\n",
              "      <td>53.807044</td>\n",
              "      <td>-27.586298</td>\n",
              "    </tr>\n",
              "    <tr>\n",
              "      <th>2019-09-04</th>\n",
              "      <td>82.199997</td>\n",
              "      <td>81.400002</td>\n",
              "      <td>81.449997</td>\n",
              "      <td>82.150002</td>\n",
              "      <td>10748771.0</td>\n",
              "      <td>0</td>\n",
              "      <td>63.737814</td>\n",
              "      <td>-1.612756</td>\n",
              "    </tr>\n",
              "    <tr>\n",
              "      <th>2019-09-05</th>\n",
              "      <td>83.199997</td>\n",
              "      <td>82.550003</td>\n",
              "      <td>82.550003</td>\n",
              "      <td>83.000000</td>\n",
              "      <td>25429390.0</td>\n",
              "      <td>0</td>\n",
              "      <td>70.324234</td>\n",
              "      <td>-5.063218</td>\n",
              "    </tr>\n",
              "    <tr>\n",
              "      <th>2019-09-06</th>\n",
              "      <td>83.550003</td>\n",
              "      <td>83.250000</td>\n",
              "      <td>83.250000</td>\n",
              "      <td>83.500000</td>\n",
              "      <td>17226303.0</td>\n",
              "      <td>0</td>\n",
              "      <td>73.581167</td>\n",
              "      <td>-1.265899</td>\n",
              "    </tr>\n",
              "  </tbody>\n",
              "</table>\n",
              "</div>"
            ],
            "text/plain": [
              "                 High        Low  ...        RSI  Williams %R\n",
              "Date                              ...                        \n",
              "2019-09-02  82.000000  81.650002  ...  65.211685    -3.448221\n",
              "2019-09-03  82.000000  81.199997  ...  53.807044   -27.586298\n",
              "2019-09-04  82.199997  81.400002  ...  63.737814    -1.612756\n",
              "2019-09-05  83.199997  82.550003  ...  70.324234    -5.063218\n",
              "2019-09-06  83.550003  83.250000  ...  73.581167    -1.265899\n",
              "\n",
              "[5 rows x 8 columns]"
            ]
          },
          "metadata": {
            "tags": []
          },
          "execution_count": 10
        },
        {
          "output_type": "display_data",
          "data": {
            "image/png": "[encoded data removed]",
            "text/plain": [
              "<Figure size 432x288 with 1 Axes>"
            ]
          },
          "metadata": {
            "tags": []
          }
        }
      ]
    },
    {
      "cell_type": "markdown",
      "metadata": {
        "id": "xK4jb6KTDdGa",
        "colab_type": "text"
      },
      "source": [
        "# SMA"
      ]
    },
    {
      "cell_type": "code",
      "metadata": {
        "id": "osETw-NkfgfL",
        "colab_type": "code",
        "outputId": "194ad488-b142-48e8-dcc0-07cbc151383f",
        "colab": {
          "base_uri": "https://localhost:8080/",
          "height": 656
        }
      },
      "source": [
        "df['SMA'] = TA.SMA(ohlcv)\n",
        "print(df['SMA'].describe())\n",
        "sns.distplot(df['SMA'].dropna())\n",
        "df.tail()"
      ],
      "execution_count": 11,
      "outputs": [
        {
          "output_type": "stream",
          "text": [
            "count    2837.000000\n",
            "mean       62.097558\n",
            "std        12.327372\n",
            "min        32.242195\n",
            "25%        53.729268\n",
            "50%        60.118293\n",
            "75%        70.507317\n",
            "max        85.841464\n",
            "Name: SMA, dtype: float64\n"
          ],
          "name": "stdout"
        },
        {
          "output_type": "execute_result",
          "data": {
            "text/html": [
              "<div>\n",
              "<style scoped>\n",
              "    .dataframe tbody tr th:only-of-type {\n",
              "        vertical-align: middle;\n",
              "    }\n",
              "\n",
              "    .dataframe tbody tr th {\n",
              "        vertical-align: top;\n",
              "    }\n",
              "\n",
              "    .dataframe thead th {\n",
              "        text-align: right;\n",
              "    }\n",
              "</style>\n",
              "<table border=\"1\" class=\"dataframe\">\n",
              "  <thead>\n",
              "    <tr style=\"text-align: right;\">\n",
              "      <th></th>\n",
              "      <th>High</th>\n",
              "      <th>Low</th>\n",
              "      <th>Open</th>\n",
              "      <th>Close</th>\n",
              "      <th>Volume</th>\n",
              "      <th>triple_barrier_signal</th>\n",
              "      <th>RSI</th>\n",
              "      <th>Williams %R</th>\n",
              "      <th>SMA</th>\n",
              "    </tr>\n",
              "    <tr>\n",
              "      <th>Date</th>\n",
              "      <th></th>\n",
              "      <th></th>\n",
              "      <th></th>\n",
              "      <th></th>\n",
              "      <th></th>\n",
              "      <th></th>\n",
              "      <th></th>\n",
              "      <th></th>\n",
              "      <th></th>\n",
              "    </tr>\n",
              "  </thead>\n",
              "  <tbody>\n",
              "    <tr>\n",
              "      <th>2019-09-02</th>\n",
              "      <td>82.000000</td>\n",
              "      <td>81.650002</td>\n",
              "      <td>81.800003</td>\n",
              "      <td>81.900002</td>\n",
              "      <td>6457870.0</td>\n",
              "      <td>0</td>\n",
              "      <td>65.211685</td>\n",
              "      <td>-3.448221</td>\n",
              "      <td>81.687805</td>\n",
              "    </tr>\n",
              "    <tr>\n",
              "      <th>2019-09-03</th>\n",
              "      <td>82.000000</td>\n",
              "      <td>81.199997</td>\n",
              "      <td>81.849998</td>\n",
              "      <td>81.199997</td>\n",
              "      <td>5052925.0</td>\n",
              "      <td>0</td>\n",
              "      <td>53.807044</td>\n",
              "      <td>-27.586298</td>\n",
              "      <td>81.668293</td>\n",
              "    </tr>\n",
              "    <tr>\n",
              "      <th>2019-09-04</th>\n",
              "      <td>82.199997</td>\n",
              "      <td>81.400002</td>\n",
              "      <td>81.449997</td>\n",
              "      <td>82.150002</td>\n",
              "      <td>10748771.0</td>\n",
              "      <td>0</td>\n",
              "      <td>63.737814</td>\n",
              "      <td>-1.612756</td>\n",
              "      <td>81.674390</td>\n",
              "    </tr>\n",
              "    <tr>\n",
              "      <th>2019-09-05</th>\n",
              "      <td>83.199997</td>\n",
              "      <td>82.550003</td>\n",
              "      <td>82.550003</td>\n",
              "      <td>83.000000</td>\n",
              "      <td>25429390.0</td>\n",
              "      <td>0</td>\n",
              "      <td>70.324234</td>\n",
              "      <td>-5.063218</td>\n",
              "      <td>81.708536</td>\n",
              "    </tr>\n",
              "    <tr>\n",
              "      <th>2019-09-06</th>\n",
              "      <td>83.550003</td>\n",
              "      <td>83.250000</td>\n",
              "      <td>83.250000</td>\n",
              "      <td>83.500000</td>\n",
              "      <td>17226303.0</td>\n",
              "      <td>0</td>\n",
              "      <td>73.581167</td>\n",
              "      <td>-1.265899</td>\n",
              "      <td>81.757317</td>\n",
              "    </tr>\n",
              "  </tbody>\n",
              "</table>\n",
              "</div>"
            ],
            "text/plain": [
              "                 High        Low       Open  ...        RSI  Williams %R        SMA\n",
              "Date                                         ...                                   \n",
              "2019-09-02  82.000000  81.650002  81.800003  ...  65.211685    -3.448221  81.687805\n",
              "2019-09-03  82.000000  81.199997  81.849998  ...  53.807044   -27.586298  81.668293\n",
              "2019-09-04  82.199997  81.400002  81.449997  ...  63.737814    -1.612756  81.674390\n",
              "2019-09-05  83.199997  82.550003  82.550003  ...  70.324234    -5.063218  81.708536\n",
              "2019-09-06  83.550003  83.250000  83.250000  ...  73.581167    -1.265899  81.757317\n",
              "\n",
              "[5 rows x 9 columns]"
            ]
          },
          "metadata": {
            "tags": []
          },
          "execution_count": 11
        },
        {
          "output_type": "display_data",
          "data": {
            "image/png": "[encoded data removed]",
            "text/plain": [
              "<Figure size 432x288 with 1 Axes>"
            ]
          },
          "metadata": {
            "tags": []
          }
        }
      ]
    },
    {
      "cell_type": "markdown",
      "metadata": {
        "id": "a2Mf0ckEoHC_",
        "colab_type": "text"
      },
      "source": [
        "# EMA"
      ]
    },
    {
      "cell_type": "code",
      "metadata": {
        "id": "EQlFyJLeh4WA",
        "colab_type": "code",
        "outputId": "5a438182-922c-4f4c-f290-51bbb6eddb65",
        "colab": {
          "base_uri": "https://localhost:8080/",
          "height": 656
        }
      },
      "source": [
        "df['EMA'] = TA.EMA(ohlcv)\n",
        "print(df['EMA'].describe())\n",
        "sns.distplot(df['EMA'])\n",
        "df.tail()"
      ],
      "execution_count": 12,
      "outputs": [
        {
          "output_type": "stream",
          "text": [
            "count    2877.000000\n",
            "mean       62.169258\n",
            "std        12.408653\n",
            "min        30.751804\n",
            "25%        53.796584\n",
            "50%        60.290459\n",
            "75%        70.972187\n",
            "max        86.800883\n",
            "Name: EMA, dtype: float64\n"
          ],
          "name": "stdout"
        },
        {
          "output_type": "execute_result",
          "data": {
            "text/html": [
              "<div>\n",
              "<style scoped>\n",
              "    .dataframe tbody tr th:only-of-type {\n",
              "        vertical-align: middle;\n",
              "    }\n",
              "\n",
              "    .dataframe tbody tr th {\n",
              "        vertical-align: top;\n",
              "    }\n",
              "\n",
              "    .dataframe thead th {\n",
              "        text-align: right;\n",
              "    }\n",
              "</style>\n",
              "<table border=\"1\" class=\"dataframe\">\n",
              "  <thead>\n",
              "    <tr style=\"text-align: right;\">\n",
              "      <th></th>\n",
              "      <th>High</th>\n",
              "      <th>Low</th>\n",
              "      <th>Open</th>\n",
              "      <th>Close</th>\n",
              "      <th>Volume</th>\n",
              "      <th>triple_barrier_signal</th>\n",
              "      <th>RSI</th>\n",
              "      <th>Williams %R</th>\n",
              "      <th>SMA</th>\n",
              "      <th>EMA</th>\n",
              "    </tr>\n",
              "    <tr>\n",
              "      <th>Date</th>\n",
              "      <th></th>\n",
              "      <th></th>\n",
              "      <th></th>\n",
              "      <th></th>\n",
              "      <th></th>\n",
              "      <th></th>\n",
              "      <th></th>\n",
              "      <th></th>\n",
              "      <th></th>\n",
              "      <th></th>\n",
              "    </tr>\n",
              "  </thead>\n",
              "  <tbody>\n",
              "    <tr>\n",
              "      <th>2019-09-02</th>\n",
              "      <td>82.000000</td>\n",
              "      <td>81.650002</td>\n",
              "      <td>81.800003</td>\n",
              "      <td>81.900002</td>\n",
              "      <td>6457870.0</td>\n",
              "      <td>0</td>\n",
              "      <td>65.211685</td>\n",
              "      <td>-3.448221</td>\n",
              "      <td>81.687805</td>\n",
              "      <td>80.950204</td>\n",
              "    </tr>\n",
              "    <tr>\n",
              "      <th>2019-09-03</th>\n",
              "      <td>82.000000</td>\n",
              "      <td>81.199997</td>\n",
              "      <td>81.849998</td>\n",
              "      <td>81.199997</td>\n",
              "      <td>5052925.0</td>\n",
              "      <td>0</td>\n",
              "      <td>53.807044</td>\n",
              "      <td>-27.586298</td>\n",
              "      <td>81.668293</td>\n",
              "      <td>81.000163</td>\n",
              "    </tr>\n",
              "    <tr>\n",
              "      <th>2019-09-04</th>\n",
              "      <td>82.199997</td>\n",
              "      <td>81.400002</td>\n",
              "      <td>81.449997</td>\n",
              "      <td>82.150002</td>\n",
              "      <td>10748771.0</td>\n",
              "      <td>0</td>\n",
              "      <td>63.737814</td>\n",
              "      <td>-1.612756</td>\n",
              "      <td>81.674390</td>\n",
              "      <td>81.230130</td>\n",
              "    </tr>\n",
              "    <tr>\n",
              "      <th>2019-09-05</th>\n",
              "      <td>83.199997</td>\n",
              "      <td>82.550003</td>\n",
              "      <td>82.550003</td>\n",
              "      <td>83.000000</td>\n",
              "      <td>25429390.0</td>\n",
              "      <td>0</td>\n",
              "      <td>70.324234</td>\n",
              "      <td>-5.063218</td>\n",
              "      <td>81.708536</td>\n",
              "      <td>81.584104</td>\n",
              "    </tr>\n",
              "    <tr>\n",
              "      <th>2019-09-06</th>\n",
              "      <td>83.550003</td>\n",
              "      <td>83.250000</td>\n",
              "      <td>83.250000</td>\n",
              "      <td>83.500000</td>\n",
              "      <td>17226303.0</td>\n",
              "      <td>0</td>\n",
              "      <td>73.581167</td>\n",
              "      <td>-1.265899</td>\n",
              "      <td>81.757317</td>\n",
              "      <td>81.967283</td>\n",
              "    </tr>\n",
              "  </tbody>\n",
              "</table>\n",
              "</div>"
            ],
            "text/plain": [
              "                 High        Low       Open  ...  Williams %R        SMA        EMA\n",
              "Date                                         ...                                   \n",
              "2019-09-02  82.000000  81.650002  81.800003  ...    -3.448221  81.687805  80.950204\n",
              "2019-09-03  82.000000  81.199997  81.849998  ...   -27.586298  81.668293  81.000163\n",
              "2019-09-04  82.199997  81.400002  81.449997  ...    -1.612756  81.674390  81.230130\n",
              "2019-09-05  83.199997  82.550003  82.550003  ...    -5.063218  81.708536  81.584104\n",
              "2019-09-06  83.550003  83.250000  83.250000  ...    -1.265899  81.757317  81.967283\n",
              "\n",
              "[5 rows x 10 columns]"
            ]
          },
          "metadata": {
            "tags": []
          },
          "execution_count": 12
        },
        {
          "output_type": "display_data",
          "data": {
            "image/png": "[encoded data removed]",
            "text/plain": [
              "<Figure size 432x288 with 1 Axes>"
            ]
          },
          "metadata": {
            "tags": []
          }
        }
      ]
    },
    {
      "cell_type": "markdown",
      "metadata": {
        "id": "wqkaWfQryV3W",
        "colab_type": "text"
      },
      "source": [
        "# WMA"
      ]
    },
    {
      "cell_type": "code",
      "metadata": {
        "id": "9Dw9scCSieLI",
        "colab_type": "code",
        "outputId": "30ad45fc-fadd-477b-a1f8-fd2550d49228",
        "colab": {
          "base_uri": "https://localhost:8080/",
          "height": 712
        }
      },
      "source": [
        "df['WMA'] = TA.WMA(ohlcv)\n",
        "print(df['WMA'].describe())\n",
        "sns.distplot(df['WMA'].dropna())\n",
        "df.tail()"
      ],
      "execution_count": 13,
      "outputs": [
        {
          "output_type": "stream",
          "text": [
            "/usr/local/lib/python3.6/dist-packages/finta/finta.py:263: FutureWarning: Currently, 'apply' passes the values as ndarrays to the applied function. In the future, this will change to passing it as Series objects. You need to specify 'raw=True' to keep the current behaviour, and you can pass 'raw=False' to silence this warning\n",
            "  wma = close_.apply(linear(weights))\n"
          ],
          "name": "stderr"
        },
        {
          "output_type": "stream",
          "text": [
            "count    2869.000000\n",
            "mean       62.165520\n",
            "std        12.433770\n",
            "min        30.099111\n",
            "25%        53.821112\n",
            "50%        60.232222\n",
            "75%        71.011110\n",
            "max        87.264444\n",
            "Name: WMA, dtype: float64\n"
          ],
          "name": "stdout"
        },
        {
          "output_type": "execute_result",
          "data": {
            "text/html": [
              "<div>\n",
              "<style scoped>\n",
              "    .dataframe tbody tr th:only-of-type {\n",
              "        vertical-align: middle;\n",
              "    }\n",
              "\n",
              "    .dataframe tbody tr th {\n",
              "        vertical-align: top;\n",
              "    }\n",
              "\n",
              "    .dataframe thead th {\n",
              "        text-align: right;\n",
              "    }\n",
              "</style>\n",
              "<table border=\"1\" class=\"dataframe\">\n",
              "  <thead>\n",
              "    <tr style=\"text-align: right;\">\n",
              "      <th></th>\n",
              "      <th>High</th>\n",
              "      <th>Low</th>\n",
              "      <th>Open</th>\n",
              "      <th>Close</th>\n",
              "      <th>Volume</th>\n",
              "      <th>triple_barrier_signal</th>\n",
              "      <th>RSI</th>\n",
              "      <th>Williams %R</th>\n",
              "      <th>SMA</th>\n",
              "      <th>EMA</th>\n",
              "      <th>WMA</th>\n",
              "    </tr>\n",
              "    <tr>\n",
              "      <th>Date</th>\n",
              "      <th></th>\n",
              "      <th></th>\n",
              "      <th></th>\n",
              "      <th></th>\n",
              "      <th></th>\n",
              "      <th></th>\n",
              "      <th></th>\n",
              "      <th></th>\n",
              "      <th></th>\n",
              "      <th></th>\n",
              "      <th></th>\n",
              "    </tr>\n",
              "  </thead>\n",
              "  <tbody>\n",
              "    <tr>\n",
              "      <th>2019-09-02</th>\n",
              "      <td>82.000000</td>\n",
              "      <td>81.650002</td>\n",
              "      <td>81.800003</td>\n",
              "      <td>81.900002</td>\n",
              "      <td>6457870.0</td>\n",
              "      <td>0</td>\n",
              "      <td>65.211685</td>\n",
              "      <td>-3.448221</td>\n",
              "      <td>81.687805</td>\n",
              "      <td>80.950204</td>\n",
              "      <td>80.684445</td>\n",
              "    </tr>\n",
              "    <tr>\n",
              "      <th>2019-09-03</th>\n",
              "      <td>82.000000</td>\n",
              "      <td>81.199997</td>\n",
              "      <td>81.849998</td>\n",
              "      <td>81.199997</td>\n",
              "      <td>5052925.0</td>\n",
              "      <td>0</td>\n",
              "      <td>53.807044</td>\n",
              "      <td>-27.586298</td>\n",
              "      <td>81.668293</td>\n",
              "      <td>81.000163</td>\n",
              "      <td>80.651111</td>\n",
              "    </tr>\n",
              "    <tr>\n",
              "      <th>2019-09-04</th>\n",
              "      <td>82.199997</td>\n",
              "      <td>81.400002</td>\n",
              "      <td>81.449997</td>\n",
              "      <td>82.150002</td>\n",
              "      <td>10748771.0</td>\n",
              "      <td>0</td>\n",
              "      <td>63.737814</td>\n",
              "      <td>-1.612756</td>\n",
              "      <td>81.674390</td>\n",
              "      <td>81.230130</td>\n",
              "      <td>80.621112</td>\n",
              "    </tr>\n",
              "    <tr>\n",
              "      <th>2019-09-05</th>\n",
              "      <td>83.199997</td>\n",
              "      <td>82.550003</td>\n",
              "      <td>82.550003</td>\n",
              "      <td>83.000000</td>\n",
              "      <td>25429390.0</td>\n",
              "      <td>0</td>\n",
              "      <td>70.324234</td>\n",
              "      <td>-5.063218</td>\n",
              "      <td>81.708536</td>\n",
              "      <td>81.584104</td>\n",
              "      <td>80.655556</td>\n",
              "    </tr>\n",
              "    <tr>\n",
              "      <th>2019-09-06</th>\n",
              "      <td>83.550003</td>\n",
              "      <td>83.250000</td>\n",
              "      <td>83.250000</td>\n",
              "      <td>83.500000</td>\n",
              "      <td>17226303.0</td>\n",
              "      <td>0</td>\n",
              "      <td>73.581167</td>\n",
              "      <td>-1.265899</td>\n",
              "      <td>81.757317</td>\n",
              "      <td>81.967283</td>\n",
              "      <td>81.045556</td>\n",
              "    </tr>\n",
              "  </tbody>\n",
              "</table>\n",
              "</div>"
            ],
            "text/plain": [
              "                 High        Low       Open  ...        SMA        EMA        WMA\n",
              "Date                                         ...                                 \n",
              "2019-09-02  82.000000  81.650002  81.800003  ...  81.687805  80.950204  80.684445\n",
              "2019-09-03  82.000000  81.199997  81.849998  ...  81.668293  81.000163  80.651111\n",
              "2019-09-04  82.199997  81.400002  81.449997  ...  81.674390  81.230130  80.621112\n",
              "2019-09-05  83.199997  82.550003  82.550003  ...  81.708536  81.584104  80.655556\n",
              "2019-09-06  83.550003  83.250000  83.250000  ...  81.757317  81.967283  81.045556\n",
              "\n",
              "[5 rows x 11 columns]"
            ]
          },
          "metadata": {
            "tags": []
          },
          "execution_count": 13
        },
        {
          "output_type": "display_data",
          "data": {
            "image/png": "[encoded data removed]",
            "text/plain": [
              "<Figure size 432x288 with 1 Axes>"
            ]
          },
          "metadata": {
            "tags": []
          }
        }
      ]
    },
    {
      "cell_type": "markdown",
      "metadata": {
        "id": "HNC131ghyrF1",
        "colab_type": "text"
      },
      "source": [
        "# HMA"
      ]
    },
    {
      "cell_type": "code",
      "metadata": {
        "id": "b02O6Yevi6mN",
        "colab_type": "code",
        "outputId": "d3d5934c-3533-4f32-b137-3b30aaff8d0c",
        "colab": {
          "base_uri": "https://localhost:8080/",
          "height": 818
        }
      },
      "source": [
        "df['HMA'] = TA.HMA(ohlcv)\n",
        "print(df['HMA'].describe())\n",
        "sns.distplot(df['HMA'].dropna())\n",
        "df.tail()"
      ],
      "execution_count": 14,
      "outputs": [
        {
          "output_type": "stream",
          "text": [
            "/usr/local/lib/python3.6/dist-packages/finta/finta.py:263: FutureWarning: Currently, 'apply' passes the values as ndarrays to the applied function. In the future, this will change to passing it as Series objects. You need to specify 'raw=True' to keep the current behaviour, and you can pass 'raw=False' to silence this warning\n",
            "  wma = close_.apply(linear(weights))\n",
            "/usr/local/lib/python3.6/dist-packages/finta/finta.py:285: SettingWithCopyWarning: \n",
            "A value is trying to be set on a copy of a slice from a DataFrame.\n",
            "Try using .loc[row_indexer,col_indexer] = value instead\n",
            "\n",
            "See the caveats in the documentation: http://pandas.pydata.org/pandas-docs/stable/indexing.html#indexing-view-versus-copy\n",
            "  ohlc['deltawma'] = 2 * wmaf - wmas\n"
          ],
          "name": "stderr"
        },
        {
          "output_type": "stream",
          "text": [
            "count    2874.000000\n",
            "mean       62.186256\n",
            "std        12.453690\n",
            "min        29.586000\n",
            "25%        53.766250\n",
            "50%        60.182500\n",
            "75%        71.128750\n",
            "max        87.854999\n",
            "Name: HMA, dtype: float64\n"
          ],
          "name": "stdout"
        },
        {
          "output_type": "execute_result",
          "data": {
            "text/html": [
              "<div>\n",
              "<style scoped>\n",
              "    .dataframe tbody tr th:only-of-type {\n",
              "        vertical-align: middle;\n",
              "    }\n",
              "\n",
              "    .dataframe tbody tr th {\n",
              "        vertical-align: top;\n",
              "    }\n",
              "\n",
              "    .dataframe thead th {\n",
              "        text-align: right;\n",
              "    }\n",
              "</style>\n",
              "<table border=\"1\" class=\"dataframe\">\n",
              "  <thead>\n",
              "    <tr style=\"text-align: right;\">\n",
              "      <th></th>\n",
              "      <th>High</th>\n",
              "      <th>Low</th>\n",
              "      <th>Open</th>\n",
              "      <th>Close</th>\n",
              "      <th>Volume</th>\n",
              "      <th>triple_barrier_signal</th>\n",
              "      <th>RSI</th>\n",
              "      <th>Williams %R</th>\n",
              "      <th>SMA</th>\n",
              "      <th>EMA</th>\n",
              "      <th>WMA</th>\n",
              "      <th>HMA</th>\n",
              "    </tr>\n",
              "    <tr>\n",
              "      <th>Date</th>\n",
              "      <th></th>\n",
              "      <th></th>\n",
              "      <th></th>\n",
              "      <th></th>\n",
              "      <th></th>\n",
              "      <th></th>\n",
              "      <th></th>\n",
              "      <th></th>\n",
              "      <th></th>\n",
              "      <th></th>\n",
              "      <th></th>\n",
              "      <th></th>\n",
              "    </tr>\n",
              "  </thead>\n",
              "  <tbody>\n",
              "    <tr>\n",
              "      <th>2019-09-02</th>\n",
              "      <td>82.000000</td>\n",
              "      <td>81.650002</td>\n",
              "      <td>81.800003</td>\n",
              "      <td>81.900002</td>\n",
              "      <td>6457870.0</td>\n",
              "      <td>0</td>\n",
              "      <td>65.211685</td>\n",
              "      <td>-3.448221</td>\n",
              "      <td>81.687805</td>\n",
              "      <td>80.950204</td>\n",
              "      <td>80.684445</td>\n",
              "      <td>80.885001</td>\n",
              "    </tr>\n",
              "    <tr>\n",
              "      <th>2019-09-03</th>\n",
              "      <td>82.000000</td>\n",
              "      <td>81.199997</td>\n",
              "      <td>81.849998</td>\n",
              "      <td>81.199997</td>\n",
              "      <td>5052925.0</td>\n",
              "      <td>0</td>\n",
              "      <td>53.807044</td>\n",
              "      <td>-27.586298</td>\n",
              "      <td>81.668293</td>\n",
              "      <td>81.000163</td>\n",
              "      <td>80.651111</td>\n",
              "      <td>81.275001</td>\n",
              "    </tr>\n",
              "    <tr>\n",
              "      <th>2019-09-04</th>\n",
              "      <td>82.199997</td>\n",
              "      <td>81.400002</td>\n",
              "      <td>81.449997</td>\n",
              "      <td>82.150002</td>\n",
              "      <td>10748771.0</td>\n",
              "      <td>0</td>\n",
              "      <td>63.737814</td>\n",
              "      <td>-1.612756</td>\n",
              "      <td>81.674390</td>\n",
              "      <td>81.230130</td>\n",
              "      <td>80.621112</td>\n",
              "      <td>81.764999</td>\n",
              "    </tr>\n",
              "    <tr>\n",
              "      <th>2019-09-05</th>\n",
              "      <td>83.199997</td>\n",
              "      <td>82.550003</td>\n",
              "      <td>82.550003</td>\n",
              "      <td>83.000000</td>\n",
              "      <td>25429390.0</td>\n",
              "      <td>0</td>\n",
              "      <td>70.324234</td>\n",
              "      <td>-5.063218</td>\n",
              "      <td>81.708536</td>\n",
              "      <td>81.584104</td>\n",
              "      <td>80.655556</td>\n",
              "      <td>81.850000</td>\n",
              "    </tr>\n",
              "    <tr>\n",
              "      <th>2019-09-06</th>\n",
              "      <td>83.550003</td>\n",
              "      <td>83.250000</td>\n",
              "      <td>83.250000</td>\n",
              "      <td>83.500000</td>\n",
              "      <td>17226303.0</td>\n",
              "      <td>0</td>\n",
              "      <td>73.581167</td>\n",
              "      <td>-1.265899</td>\n",
              "      <td>81.757317</td>\n",
              "      <td>81.967283</td>\n",
              "      <td>81.045556</td>\n",
              "      <td>82.074999</td>\n",
              "    </tr>\n",
              "  </tbody>\n",
              "</table>\n",
              "</div>"
            ],
            "text/plain": [
              "                 High        Low       Open  ...        EMA        WMA        HMA\n",
              "Date                                         ...                                 \n",
              "2019-09-02  82.000000  81.650002  81.800003  ...  80.950204  80.684445  80.885001\n",
              "2019-09-03  82.000000  81.199997  81.849998  ...  81.000163  80.651111  81.275001\n",
              "2019-09-04  82.199997  81.400002  81.449997  ...  81.230130  80.621112  81.764999\n",
              "2019-09-05  83.199997  82.550003  82.550003  ...  81.584104  80.655556  81.850000\n",
              "2019-09-06  83.550003  83.250000  83.250000  ...  81.967283  81.045556  82.074999\n",
              "\n",
              "[5 rows x 12 columns]"
            ]
          },
          "metadata": {
            "tags": []
          },
          "execution_count": 14
        },
        {
          "output_type": "display_data",
          "data": {
            "image/png": "[encoded data removed]",
            "text/plain": [
              "<Figure size 432x288 with 1 Axes>"
            ]
          },
          "metadata": {
            "tags": []
          }
        }
      ]
    },
    {
      "cell_type": "markdown",
      "metadata": {
        "id": "ch7SZ7aFjCit",
        "colab_type": "text"
      },
      "source": [
        "# TEMA"
      ]
    },
    {
      "cell_type": "code",
      "metadata": {
        "id": "GeS0aHxZjFtA",
        "colab_type": "code",
        "outputId": "8ef80878-25df-49b6-88d6-4bda847335ec",
        "colab": {
          "base_uri": "https://localhost:8080/",
          "height": 656
        }
      },
      "source": [
        "df['TEMA'] = TA.TEMA(ohlcv)\n",
        "print(df['TEMA'].describe())\n",
        "sns.distplot(df['TEMA'].dropna())\n",
        "df.tail()"
      ],
      "execution_count": 15,
      "outputs": [
        {
          "output_type": "stream",
          "text": [
            "count    2877.000000\n",
            "mean       62.199432\n",
            "std        12.474058\n",
            "min        29.280004\n",
            "25%        53.796861\n",
            "50%        60.261556\n",
            "75%        71.148825\n",
            "max        88.240036\n",
            "Name: TEMA, dtype: float64\n"
          ],
          "name": "stdout"
        },
        {
          "output_type": "execute_result",
          "data": {
            "text/html": [
              "<div>\n",
              "<style scoped>\n",
              "    .dataframe tbody tr th:only-of-type {\n",
              "        vertical-align: middle;\n",
              "    }\n",
              "\n",
              "    .dataframe tbody tr th {\n",
              "        vertical-align: top;\n",
              "    }\n",
              "\n",
              "    .dataframe thead th {\n",
              "        text-align: right;\n",
              "    }\n",
              "</style>\n",
              "<table border=\"1\" class=\"dataframe\">\n",
              "  <thead>\n",
              "    <tr style=\"text-align: right;\">\n",
              "      <th></th>\n",
              "      <th>High</th>\n",
              "      <th>Low</th>\n",
              "      <th>Open</th>\n",
              "      <th>Close</th>\n",
              "      <th>Volume</th>\n",
              "      <th>triple_barrier_signal</th>\n",
              "      <th>RSI</th>\n",
              "      <th>Williams %R</th>\n",
              "      <th>SMA</th>\n",
              "      <th>EMA</th>\n",
              "      <th>WMA</th>\n",
              "      <th>HMA</th>\n",
              "      <th>TEMA</th>\n",
              "    </tr>\n",
              "    <tr>\n",
              "      <th>Date</th>\n",
              "      <th></th>\n",
              "      <th></th>\n",
              "      <th></th>\n",
              "      <th></th>\n",
              "      <th></th>\n",
              "      <th></th>\n",
              "      <th></th>\n",
              "      <th></th>\n",
              "      <th></th>\n",
              "      <th></th>\n",
              "      <th></th>\n",
              "      <th></th>\n",
              "      <th></th>\n",
              "    </tr>\n",
              "  </thead>\n",
              "  <tbody>\n",
              "    <tr>\n",
              "      <th>2019-09-02</th>\n",
              "      <td>82.000000</td>\n",
              "      <td>81.650002</td>\n",
              "      <td>81.800003</td>\n",
              "      <td>81.900002</td>\n",
              "      <td>6457870.0</td>\n",
              "      <td>0</td>\n",
              "      <td>65.211685</td>\n",
              "      <td>-3.448221</td>\n",
              "      <td>81.687805</td>\n",
              "      <td>80.950204</td>\n",
              "      <td>80.684445</td>\n",
              "      <td>80.885001</td>\n",
              "      <td>81.603058</td>\n",
              "    </tr>\n",
              "    <tr>\n",
              "      <th>2019-09-03</th>\n",
              "      <td>82.000000</td>\n",
              "      <td>81.199997</td>\n",
              "      <td>81.849998</td>\n",
              "      <td>81.199997</td>\n",
              "      <td>5052925.0</td>\n",
              "      <td>0</td>\n",
              "      <td>53.807044</td>\n",
              "      <td>-27.586298</td>\n",
              "      <td>81.668293</td>\n",
              "      <td>81.000163</td>\n",
              "      <td>80.651111</td>\n",
              "      <td>81.275001</td>\n",
              "      <td>81.552079</td>\n",
              "    </tr>\n",
              "    <tr>\n",
              "      <th>2019-09-04</th>\n",
              "      <td>82.199997</td>\n",
              "      <td>81.400002</td>\n",
              "      <td>81.449997</td>\n",
              "      <td>82.150002</td>\n",
              "      <td>10748771.0</td>\n",
              "      <td>0</td>\n",
              "      <td>63.737814</td>\n",
              "      <td>-1.612756</td>\n",
              "      <td>81.674390</td>\n",
              "      <td>81.230130</td>\n",
              "      <td>80.621112</td>\n",
              "      <td>81.764999</td>\n",
              "      <td>81.962576</td>\n",
              "    </tr>\n",
              "    <tr>\n",
              "      <th>2019-09-05</th>\n",
              "      <td>83.199997</td>\n",
              "      <td>82.550003</td>\n",
              "      <td>82.550003</td>\n",
              "      <td>83.000000</td>\n",
              "      <td>25429390.0</td>\n",
              "      <td>0</td>\n",
              "      <td>70.324234</td>\n",
              "      <td>-5.063218</td>\n",
              "      <td>81.708536</td>\n",
              "      <td>81.584104</td>\n",
              "      <td>80.655556</td>\n",
              "      <td>81.850000</td>\n",
              "      <td>82.618155</td>\n",
              "    </tr>\n",
              "    <tr>\n",
              "      <th>2019-09-06</th>\n",
              "      <td>83.550003</td>\n",
              "      <td>83.250000</td>\n",
              "      <td>83.250000</td>\n",
              "      <td>83.500000</td>\n",
              "      <td>17226303.0</td>\n",
              "      <td>0</td>\n",
              "      <td>73.581167</td>\n",
              "      <td>-1.265899</td>\n",
              "      <td>81.757317</td>\n",
              "      <td>81.967283</td>\n",
              "      <td>81.045556</td>\n",
              "      <td>82.074999</td>\n",
              "      <td>83.251691</td>\n",
              "    </tr>\n",
              "  </tbody>\n",
              "</table>\n",
              "</div>"
            ],
            "text/plain": [
              "                 High        Low       Open  ...        WMA        HMA       TEMA\n",
              "Date                                         ...                                 \n",
              "2019-09-02  82.000000  81.650002  81.800003  ...  80.684445  80.885001  81.603058\n",
              "2019-09-03  82.000000  81.199997  81.849998  ...  80.651111  81.275001  81.552079\n",
              "2019-09-04  82.199997  81.400002  81.449997  ...  80.621112  81.764999  81.962576\n",
              "2019-09-05  83.199997  82.550003  82.550003  ...  80.655556  81.850000  82.618155\n",
              "2019-09-06  83.550003  83.250000  83.250000  ...  81.045556  82.074999  83.251691\n",
              "\n",
              "[5 rows x 13 columns]"
            ]
          },
          "metadata": {
            "tags": []
          },
          "execution_count": 15
        },
        {
          "output_type": "display_data",
          "data": {
            "image/png": "[encoded data removed]",
            "text/plain": [
              "<Figure size 432x288 with 1 Axes>"
            ]
          },
          "metadata": {
            "tags": []
          }
        }
      ]
    },
    {
      "cell_type": "markdown",
      "metadata": {
        "id": "EbMrqw5jjZaa",
        "colab_type": "text"
      },
      "source": [
        "# CCI"
      ]
    },
    {
      "cell_type": "code",
      "metadata": {
        "id": "WBfeDdkUjZiP",
        "colab_type": "code",
        "outputId": "add920ec-2f4a-46f8-9fa7-79bb3455c850",
        "colab": {
          "base_uri": "https://localhost:8080/",
          "height": 778
        }
      },
      "source": [
        "df['CCI'] = TA.CCI(ohlcv)\n",
        "print(df['CCI'].describe())\n",
        "sns.distplot(df['CCI'].dropna())\n",
        "df.tail()"
      ],
      "execution_count": 16,
      "outputs": [
        {
          "output_type": "stream",
          "text": [
            "count    2876.000000\n",
            "mean       11.290527\n",
            "std        86.800065\n",
            "min      -226.628960\n",
            "25%       -56.936860\n",
            "50%        22.095370\n",
            "75%        82.556241\n",
            "max       221.975646\n",
            "Name: CCI, dtype: float64\n"
          ],
          "name": "stdout"
        },
        {
          "output_type": "execute_result",
          "data": {
            "text/html": [
              "<div>\n",
              "<style scoped>\n",
              "    .dataframe tbody tr th:only-of-type {\n",
              "        vertical-align: middle;\n",
              "    }\n",
              "\n",
              "    .dataframe tbody tr th {\n",
              "        vertical-align: top;\n",
              "    }\n",
              "\n",
              "    .dataframe thead th {\n",
              "        text-align: right;\n",
              "    }\n",
              "</style>\n",
              "<table border=\"1\" class=\"dataframe\">\n",
              "  <thead>\n",
              "    <tr style=\"text-align: right;\">\n",
              "      <th></th>\n",
              "      <th>High</th>\n",
              "      <th>Low</th>\n",
              "      <th>Open</th>\n",
              "      <th>Close</th>\n",
              "      <th>Volume</th>\n",
              "      <th>triple_barrier_signal</th>\n",
              "      <th>RSI</th>\n",
              "      <th>Williams %R</th>\n",
              "      <th>SMA</th>\n",
              "      <th>EMA</th>\n",
              "      <th>WMA</th>\n",
              "      <th>HMA</th>\n",
              "      <th>TEMA</th>\n",
              "      <th>CCI</th>\n",
              "    </tr>\n",
              "    <tr>\n",
              "      <th>Date</th>\n",
              "      <th></th>\n",
              "      <th></th>\n",
              "      <th></th>\n",
              "      <th></th>\n",
              "      <th></th>\n",
              "      <th></th>\n",
              "      <th></th>\n",
              "      <th></th>\n",
              "      <th></th>\n",
              "      <th></th>\n",
              "      <th></th>\n",
              "      <th></th>\n",
              "      <th></th>\n",
              "      <th></th>\n",
              "    </tr>\n",
              "  </thead>\n",
              "  <tbody>\n",
              "    <tr>\n",
              "      <th>2019-09-02</th>\n",
              "      <td>82.000000</td>\n",
              "      <td>81.650002</td>\n",
              "      <td>81.800003</td>\n",
              "      <td>81.900002</td>\n",
              "      <td>6457870.0</td>\n",
              "      <td>0</td>\n",
              "      <td>65.211685</td>\n",
              "      <td>-3.448221</td>\n",
              "      <td>81.687805</td>\n",
              "      <td>80.950204</td>\n",
              "      <td>80.684445</td>\n",
              "      <td>80.885001</td>\n",
              "      <td>81.603058</td>\n",
              "      <td>143.717155</td>\n",
              "    </tr>\n",
              "    <tr>\n",
              "      <th>2019-09-03</th>\n",
              "      <td>82.000000</td>\n",
              "      <td>81.199997</td>\n",
              "      <td>81.849998</td>\n",
              "      <td>81.199997</td>\n",
              "      <td>5052925.0</td>\n",
              "      <td>0</td>\n",
              "      <td>53.807044</td>\n",
              "      <td>-27.586298</td>\n",
              "      <td>81.668293</td>\n",
              "      <td>81.000163</td>\n",
              "      <td>80.651111</td>\n",
              "      <td>81.275001</td>\n",
              "      <td>81.552079</td>\n",
              "      <td>96.940970</td>\n",
              "    </tr>\n",
              "    <tr>\n",
              "      <th>2019-09-04</th>\n",
              "      <td>82.199997</td>\n",
              "      <td>81.400002</td>\n",
              "      <td>81.449997</td>\n",
              "      <td>82.150002</td>\n",
              "      <td>10748771.0</td>\n",
              "      <td>0</td>\n",
              "      <td>63.737814</td>\n",
              "      <td>-1.612756</td>\n",
              "      <td>81.674390</td>\n",
              "      <td>81.230130</td>\n",
              "      <td>80.621112</td>\n",
              "      <td>81.764999</td>\n",
              "      <td>81.962576</td>\n",
              "      <td>120.541026</td>\n",
              "    </tr>\n",
              "    <tr>\n",
              "      <th>2019-09-05</th>\n",
              "      <td>83.199997</td>\n",
              "      <td>82.550003</td>\n",
              "      <td>82.550003</td>\n",
              "      <td>83.000000</td>\n",
              "      <td>25429390.0</td>\n",
              "      <td>0</td>\n",
              "      <td>70.324234</td>\n",
              "      <td>-5.063218</td>\n",
              "      <td>81.708536</td>\n",
              "      <td>81.584104</td>\n",
              "      <td>80.655556</td>\n",
              "      <td>81.850000</td>\n",
              "      <td>82.618155</td>\n",
              "      <td>164.641823</td>\n",
              "    </tr>\n",
              "    <tr>\n",
              "      <th>2019-09-06</th>\n",
              "      <td>83.550003</td>\n",
              "      <td>83.250000</td>\n",
              "      <td>83.250000</td>\n",
              "      <td>83.500000</td>\n",
              "      <td>17226303.0</td>\n",
              "      <td>0</td>\n",
              "      <td>73.581167</td>\n",
              "      <td>-1.265899</td>\n",
              "      <td>81.757317</td>\n",
              "      <td>81.967283</td>\n",
              "      <td>81.045556</td>\n",
              "      <td>82.074999</td>\n",
              "      <td>83.251691</td>\n",
              "      <td>160.812962</td>\n",
              "    </tr>\n",
              "  </tbody>\n",
              "</table>\n",
              "</div>"
            ],
            "text/plain": [
              "                 High        Low       Open  ...        HMA       TEMA         CCI\n",
              "Date                                         ...                                  \n",
              "2019-09-02  82.000000  81.650002  81.800003  ...  80.885001  81.603058  143.717155\n",
              "2019-09-03  82.000000  81.199997  81.849998  ...  81.275001  81.552079   96.940970\n",
              "2019-09-04  82.199997  81.400002  81.449997  ...  81.764999  81.962576  120.541026\n",
              "2019-09-05  83.199997  82.550003  82.550003  ...  81.850000  82.618155  164.641823\n",
              "2019-09-06  83.550003  83.250000  83.250000  ...  82.074999  83.251691  160.812962\n",
              "\n",
              "[5 rows x 14 columns]"
            ]
          },
          "metadata": {
            "tags": []
          },
          "execution_count": 16
        },
        {
          "output_type": "display_data",
          "data": {
            "image/png": "[encoded data removed]",
            "text/plain": [
              "<Figure size 432x288 with 1 Axes>"
            ]
          },
          "metadata": {
            "tags": []
          }
        }
      ]
    },
    {
      "cell_type": "markdown",
      "metadata": {
        "id": "G8rAJ61cjkJ4",
        "colab_type": "text"
      },
      "source": [
        "# CMO"
      ]
    },
    {
      "cell_type": "code",
      "metadata": {
        "id": "P9EispJmjkj_",
        "colab_type": "code",
        "outputId": "4a74d386-904c-46c4-b1ec-07d9efa90b1f",
        "colab": {
          "base_uri": "https://localhost:8080/",
          "height": 778
        }
      },
      "source": [
        "df['CMO'] = TA.CMO(ohlcv)\n",
        "print(df['CMO'].describe())\n",
        "sns.distplot(df['CMO'].dropna())\n",
        "df.tail()"
      ],
      "execution_count": 17,
      "outputs": [
        {
          "output_type": "stream",
          "text": [
            "count    2868.000000\n",
            "mean        5.795790\n",
            "std        41.803346\n",
            "min       -97.530901\n",
            "25%       -25.000081\n",
            "50%         5.537113\n",
            "75%        36.999043\n",
            "max       100.000000\n",
            "Name: CMO, dtype: float64\n"
          ],
          "name": "stdout"
        },
        {
          "output_type": "execute_result",
          "data": {
            "text/html": [
              "<div>\n",
              "<style scoped>\n",
              "    .dataframe tbody tr th:only-of-type {\n",
              "        vertical-align: middle;\n",
              "    }\n",
              "\n",
              "    .dataframe tbody tr th {\n",
              "        vertical-align: top;\n",
              "    }\n",
              "\n",
              "    .dataframe thead th {\n",
              "        text-align: right;\n",
              "    }\n",
              "</style>\n",
              "<table border=\"1\" class=\"dataframe\">\n",
              "  <thead>\n",
              "    <tr style=\"text-align: right;\">\n",
              "      <th></th>\n",
              "      <th>High</th>\n",
              "      <th>Low</th>\n",
              "      <th>Open</th>\n",
              "      <th>Close</th>\n",
              "      <th>Volume</th>\n",
              "      <th>triple_barrier_signal</th>\n",
              "      <th>RSI</th>\n",
              "      <th>Williams %R</th>\n",
              "      <th>SMA</th>\n",
              "      <th>EMA</th>\n",
              "      <th>WMA</th>\n",
              "      <th>HMA</th>\n",
              "      <th>TEMA</th>\n",
              "      <th>CCI</th>\n",
              "      <th>CMO</th>\n",
              "    </tr>\n",
              "    <tr>\n",
              "      <th>Date</th>\n",
              "      <th></th>\n",
              "      <th></th>\n",
              "      <th></th>\n",
              "      <th></th>\n",
              "      <th></th>\n",
              "      <th></th>\n",
              "      <th></th>\n",
              "      <th></th>\n",
              "      <th></th>\n",
              "      <th></th>\n",
              "      <th></th>\n",
              "      <th></th>\n",
              "      <th></th>\n",
              "      <th></th>\n",
              "      <th></th>\n",
              "    </tr>\n",
              "  </thead>\n",
              "  <tbody>\n",
              "    <tr>\n",
              "      <th>2019-09-02</th>\n",
              "      <td>82.000000</td>\n",
              "      <td>81.650002</td>\n",
              "      <td>81.800003</td>\n",
              "      <td>81.900002</td>\n",
              "      <td>6457870.0</td>\n",
              "      <td>0</td>\n",
              "      <td>65.211685</td>\n",
              "      <td>-3.448221</td>\n",
              "      <td>81.687805</td>\n",
              "      <td>80.950204</td>\n",
              "      <td>80.684445</td>\n",
              "      <td>80.885001</td>\n",
              "      <td>81.603058</td>\n",
              "      <td>143.717155</td>\n",
              "      <td>27.500014</td>\n",
              "    </tr>\n",
              "    <tr>\n",
              "      <th>2019-09-03</th>\n",
              "      <td>82.000000</td>\n",
              "      <td>81.199997</td>\n",
              "      <td>81.849998</td>\n",
              "      <td>81.199997</td>\n",
              "      <td>5052925.0</td>\n",
              "      <td>0</td>\n",
              "      <td>53.807044</td>\n",
              "      <td>-27.586298</td>\n",
              "      <td>81.668293</td>\n",
              "      <td>81.000163</td>\n",
              "      <td>80.651111</td>\n",
              "      <td>81.275001</td>\n",
              "      <td>81.552079</td>\n",
              "      <td>96.940970</td>\n",
              "      <td>4.444377</td>\n",
              "    </tr>\n",
              "    <tr>\n",
              "      <th>2019-09-04</th>\n",
              "      <td>82.199997</td>\n",
              "      <td>81.400002</td>\n",
              "      <td>81.449997</td>\n",
              "      <td>82.150002</td>\n",
              "      <td>10748771.0</td>\n",
              "      <td>0</td>\n",
              "      <td>63.737814</td>\n",
              "      <td>-1.612756</td>\n",
              "      <td>81.674390</td>\n",
              "      <td>81.230130</td>\n",
              "      <td>80.621112</td>\n",
              "      <td>81.764999</td>\n",
              "      <td>81.962576</td>\n",
              "      <td>120.541026</td>\n",
              "      <td>19.626203</td>\n",
              "    </tr>\n",
              "    <tr>\n",
              "      <th>2019-09-05</th>\n",
              "      <td>83.199997</td>\n",
              "      <td>82.550003</td>\n",
              "      <td>82.550003</td>\n",
              "      <td>83.000000</td>\n",
              "      <td>25429390.0</td>\n",
              "      <td>0</td>\n",
              "      <td>70.324234</td>\n",
              "      <td>-5.063218</td>\n",
              "      <td>81.708536</td>\n",
              "      <td>81.584104</td>\n",
              "      <td>80.655556</td>\n",
              "      <td>81.850000</td>\n",
              "      <td>82.618155</td>\n",
              "      <td>164.641823</td>\n",
              "      <td>32.786852</td>\n",
              "    </tr>\n",
              "    <tr>\n",
              "      <th>2019-09-06</th>\n",
              "      <td>83.550003</td>\n",
              "      <td>83.250000</td>\n",
              "      <td>83.250000</td>\n",
              "      <td>83.500000</td>\n",
              "      <td>17226303.0</td>\n",
              "      <td>0</td>\n",
              "      <td>73.581167</td>\n",
              "      <td>-1.265899</td>\n",
              "      <td>81.757317</td>\n",
              "      <td>81.967283</td>\n",
              "      <td>81.045556</td>\n",
              "      <td>82.074999</td>\n",
              "      <td>83.251691</td>\n",
              "      <td>160.812962</td>\n",
              "      <td>73.333198</td>\n",
              "    </tr>\n",
              "  </tbody>\n",
              "</table>\n",
              "</div>"
            ],
            "text/plain": [
              "                 High        Low       Open  ...       TEMA         CCI        CMO\n",
              "Date                                         ...                                  \n",
              "2019-09-02  82.000000  81.650002  81.800003  ...  81.603058  143.717155  27.500014\n",
              "2019-09-03  82.000000  81.199997  81.849998  ...  81.552079   96.940970   4.444377\n",
              "2019-09-04  82.199997  81.400002  81.449997  ...  81.962576  120.541026  19.626203\n",
              "2019-09-05  83.199997  82.550003  82.550003  ...  82.618155  164.641823  32.786852\n",
              "2019-09-06  83.550003  83.250000  83.250000  ...  83.251691  160.812962  73.333198\n",
              "\n",
              "[5 rows x 15 columns]"
            ]
          },
          "metadata": {
            "tags": []
          },
          "execution_count": 17
        },
        {
          "output_type": "display_data",
          "data": {
            "image/png": "[encoded data removed]",
            "text/plain": [
              "<Figure size 432x288 with 1 Axes>"
            ]
          },
          "metadata": {
            "tags": []
          }
        }
      ]
    },
    {
      "cell_type": "markdown",
      "metadata": {
        "id": "35qI_9gZjsR0",
        "colab_type": "text"
      },
      "source": [
        "# MACD"
      ]
    },
    {
      "cell_type": "code",
      "metadata": {
        "id": "5QG4lBEfjsZb",
        "colab_type": "code",
        "outputId": "c98bcb95-fc18-4f67-e256-4072d1b1a4b7",
        "colab": {
          "base_uri": "https://localhost:8080/",
          "height": 778
        }
      },
      "source": [
        "df['MACD'] = TA.MACD(ohlcv)['MACD'] - TA.MACD(ohlcv)['SIGNAL']\n",
        "print(df['MACD'].describe())\n",
        "sns.distplot(df['MACD'].dropna())\n",
        "df.tail()"
      ],
      "execution_count": 18,
      "outputs": [
        {
          "output_type": "stream",
          "text": [
            "count    2877.000000\n",
            "mean        0.000033\n",
            "std         0.215907\n",
            "min        -0.894187\n",
            "25%        -0.132880\n",
            "50%         0.004641\n",
            "75%         0.142205\n",
            "max         0.773870\n",
            "Name: MACD, dtype: float64\n"
          ],
          "name": "stdout"
        },
        {
          "output_type": "execute_result",
          "data": {
            "text/html": [
              "<div>\n",
              "<style scoped>\n",
              "    .dataframe tbody tr th:only-of-type {\n",
              "        vertical-align: middle;\n",
              "    }\n",
              "\n",
              "    .dataframe tbody tr th {\n",
              "        vertical-align: top;\n",
              "    }\n",
              "\n",
              "    .dataframe thead th {\n",
              "        text-align: right;\n",
              "    }\n",
              "</style>\n",
              "<table border=\"1\" class=\"dataframe\">\n",
              "  <thead>\n",
              "    <tr style=\"text-align: right;\">\n",
              "      <th></th>\n",
              "      <th>High</th>\n",
              "      <th>Low</th>\n",
              "      <th>Open</th>\n",
              "      <th>Close</th>\n",
              "      <th>Volume</th>\n",
              "      <th>triple_barrier_signal</th>\n",
              "      <th>RSI</th>\n",
              "      <th>Williams %R</th>\n",
              "      <th>SMA</th>\n",
              "      <th>EMA</th>\n",
              "      <th>WMA</th>\n",
              "      <th>HMA</th>\n",
              "      <th>TEMA</th>\n",
              "      <th>CCI</th>\n",
              "      <th>CMO</th>\n",
              "      <th>MACD</th>\n",
              "    </tr>\n",
              "    <tr>\n",
              "      <th>Date</th>\n",
              "      <th></th>\n",
              "      <th></th>\n",
              "      <th></th>\n",
              "      <th></th>\n",
              "      <th></th>\n",
              "      <th></th>\n",
              "      <th></th>\n",
              "      <th></th>\n",
              "      <th></th>\n",
              "      <th></th>\n",
              "      <th></th>\n",
              "      <th></th>\n",
              "      <th></th>\n",
              "      <th></th>\n",
              "      <th></th>\n",
              "      <th></th>\n",
              "    </tr>\n",
              "  </thead>\n",
              "  <tbody>\n",
              "    <tr>\n",
              "      <th>2019-09-02</th>\n",
              "      <td>82.000000</td>\n",
              "      <td>81.650002</td>\n",
              "      <td>81.800003</td>\n",
              "      <td>81.900002</td>\n",
              "      <td>6457870.0</td>\n",
              "      <td>0</td>\n",
              "      <td>65.211685</td>\n",
              "      <td>-3.448221</td>\n",
              "      <td>81.687805</td>\n",
              "      <td>80.950204</td>\n",
              "      <td>80.684445</td>\n",
              "      <td>80.885001</td>\n",
              "      <td>81.603058</td>\n",
              "      <td>143.717155</td>\n",
              "      <td>27.500014</td>\n",
              "      <td>0.180702</td>\n",
              "    </tr>\n",
              "    <tr>\n",
              "      <th>2019-09-03</th>\n",
              "      <td>82.000000</td>\n",
              "      <td>81.199997</td>\n",
              "      <td>81.849998</td>\n",
              "      <td>81.199997</td>\n",
              "      <td>5052925.0</td>\n",
              "      <td>0</td>\n",
              "      <td>53.807044</td>\n",
              "      <td>-27.586298</td>\n",
              "      <td>81.668293</td>\n",
              "      <td>81.000163</td>\n",
              "      <td>80.651111</td>\n",
              "      <td>81.275001</td>\n",
              "      <td>81.552079</td>\n",
              "      <td>96.940970</td>\n",
              "      <td>4.444377</td>\n",
              "      <td>0.171747</td>\n",
              "    </tr>\n",
              "    <tr>\n",
              "      <th>2019-09-04</th>\n",
              "      <td>82.199997</td>\n",
              "      <td>81.400002</td>\n",
              "      <td>81.449997</td>\n",
              "      <td>82.150002</td>\n",
              "      <td>10748771.0</td>\n",
              "      <td>0</td>\n",
              "      <td>63.737814</td>\n",
              "      <td>-1.612756</td>\n",
              "      <td>81.674390</td>\n",
              "      <td>81.230130</td>\n",
              "      <td>80.621112</td>\n",
              "      <td>81.764999</td>\n",
              "      <td>81.962576</td>\n",
              "      <td>120.541026</td>\n",
              "      <td>19.626203</td>\n",
              "      <td>0.220213</td>\n",
              "    </tr>\n",
              "    <tr>\n",
              "      <th>2019-09-05</th>\n",
              "      <td>83.199997</td>\n",
              "      <td>82.550003</td>\n",
              "      <td>82.550003</td>\n",
              "      <td>83.000000</td>\n",
              "      <td>25429390.0</td>\n",
              "      <td>0</td>\n",
              "      <td>70.324234</td>\n",
              "      <td>-5.063218</td>\n",
              "      <td>81.708536</td>\n",
              "      <td>81.584104</td>\n",
              "      <td>80.655556</td>\n",
              "      <td>81.850000</td>\n",
              "      <td>82.618155</td>\n",
              "      <td>164.641823</td>\n",
              "      <td>32.786852</td>\n",
              "      <td>0.295244</td>\n",
              "    </tr>\n",
              "    <tr>\n",
              "      <th>2019-09-06</th>\n",
              "      <td>83.550003</td>\n",
              "      <td>83.250000</td>\n",
              "      <td>83.250000</td>\n",
              "      <td>83.500000</td>\n",
              "      <td>17226303.0</td>\n",
              "      <td>0</td>\n",
              "      <td>73.581167</td>\n",
              "      <td>-1.265899</td>\n",
              "      <td>81.757317</td>\n",
              "      <td>81.967283</td>\n",
              "      <td>81.045556</td>\n",
              "      <td>82.074999</td>\n",
              "      <td>83.251691</td>\n",
              "      <td>160.812962</td>\n",
              "      <td>73.333198</td>\n",
              "      <td>0.359984</td>\n",
              "    </tr>\n",
              "  </tbody>\n",
              "</table>\n",
              "</div>"
            ],
            "text/plain": [
              "                 High        Low       Open  ...         CCI        CMO      MACD\n",
              "Date                                         ...                                 \n",
              "2019-09-02  82.000000  81.650002  81.800003  ...  143.717155  27.500014  0.180702\n",
              "2019-09-03  82.000000  81.199997  81.849998  ...   96.940970   4.444377  0.171747\n",
              "2019-09-04  82.199997  81.400002  81.449997  ...  120.541026  19.626203  0.220213\n",
              "2019-09-05  83.199997  82.550003  82.550003  ...  164.641823  32.786852  0.295244\n",
              "2019-09-06  83.550003  83.250000  83.250000  ...  160.812962  73.333198  0.359984\n",
              "\n",
              "[5 rows x 16 columns]"
            ]
          },
          "metadata": {
            "tags": []
          },
          "execution_count": 18
        },
        {
          "output_type": "display_data",
          "data": {
            "image/png": "[encoded data removed]",
            "text/plain": [
              "<Figure size 432x288 with 1 Axes>"
            ]
          },
          "metadata": {
            "tags": []
          }
        }
      ]
    },
    {
      "cell_type": "markdown",
      "metadata": {
        "id": "roEAzvV7liUA",
        "colab_type": "text"
      },
      "source": [
        "# PPO"
      ]
    },
    {
      "cell_type": "code",
      "metadata": {
        "id": "ovCLHYPXli73",
        "colab_type": "code",
        "outputId": "b0bcbb23-7936-474a-a98a-3765ae96415d",
        "colab": {
          "base_uri": "https://localhost:8080/",
          "height": 778
        }
      },
      "source": [
        "df['PPO'] = TA.PPO(ohlcv)['PPO'] - TA.PPO(ohlcv)['SIGNAL']\n",
        "print(df['PPO'].describe())\n",
        "sns.distplot(df['PPO'].dropna())\n",
        "df.tail()"
      ],
      "execution_count": 19,
      "outputs": [
        {
          "output_type": "stream",
          "text": [
            "count    2877.000000\n",
            "mean        0.000087\n",
            "std         0.383064\n",
            "min        -2.154603\n",
            "25%        -0.223186\n",
            "50%         0.000829\n",
            "75%         0.231133\n",
            "max         2.330703\n",
            "Name: PPO, dtype: float64\n"
          ],
          "name": "stdout"
        },
        {
          "output_type": "execute_result",
          "data": {
            "text/html": [
              "<div>\n",
              "<style scoped>\n",
              "    .dataframe tbody tr th:only-of-type {\n",
              "        vertical-align: middle;\n",
              "    }\n",
              "\n",
              "    .dataframe tbody tr th {\n",
              "        vertical-align: top;\n",
              "    }\n",
              "\n",
              "    .dataframe thead th {\n",
              "        text-align: right;\n",
              "    }\n",
              "</style>\n",
              "<table border=\"1\" class=\"dataframe\">\n",
              "  <thead>\n",
              "    <tr style=\"text-align: right;\">\n",
              "      <th></th>\n",
              "      <th>High</th>\n",
              "      <th>Low</th>\n",
              "      <th>Open</th>\n",
              "      <th>Close</th>\n",
              "      <th>Volume</th>\n",
              "      <th>triple_barrier_signal</th>\n",
              "      <th>RSI</th>\n",
              "      <th>Williams %R</th>\n",
              "      <th>SMA</th>\n",
              "      <th>EMA</th>\n",
              "      <th>WMA</th>\n",
              "      <th>HMA</th>\n",
              "      <th>TEMA</th>\n",
              "      <th>CCI</th>\n",
              "      <th>CMO</th>\n",
              "      <th>MACD</th>\n",
              "      <th>PPO</th>\n",
              "    </tr>\n",
              "    <tr>\n",
              "      <th>Date</th>\n",
              "      <th></th>\n",
              "      <th></th>\n",
              "      <th></th>\n",
              "      <th></th>\n",
              "      <th></th>\n",
              "      <th></th>\n",
              "      <th></th>\n",
              "      <th></th>\n",
              "      <th></th>\n",
              "      <th></th>\n",
              "      <th></th>\n",
              "      <th></th>\n",
              "      <th></th>\n",
              "      <th></th>\n",
              "      <th></th>\n",
              "      <th></th>\n",
              "      <th></th>\n",
              "    </tr>\n",
              "  </thead>\n",
              "  <tbody>\n",
              "    <tr>\n",
              "      <th>2019-09-02</th>\n",
              "      <td>82.000000</td>\n",
              "      <td>81.650002</td>\n",
              "      <td>81.800003</td>\n",
              "      <td>81.900002</td>\n",
              "      <td>6457870.0</td>\n",
              "      <td>0</td>\n",
              "      <td>65.211685</td>\n",
              "      <td>-3.448221</td>\n",
              "      <td>81.687805</td>\n",
              "      <td>80.950204</td>\n",
              "      <td>80.684445</td>\n",
              "      <td>80.885001</td>\n",
              "      <td>81.603058</td>\n",
              "      <td>143.717155</td>\n",
              "      <td>27.500014</td>\n",
              "      <td>0.180702</td>\n",
              "      <td>0.223065</td>\n",
              "    </tr>\n",
              "    <tr>\n",
              "      <th>2019-09-03</th>\n",
              "      <td>82.000000</td>\n",
              "      <td>81.199997</td>\n",
              "      <td>81.849998</td>\n",
              "      <td>81.199997</td>\n",
              "      <td>5052925.0</td>\n",
              "      <td>0</td>\n",
              "      <td>53.807044</td>\n",
              "      <td>-27.586298</td>\n",
              "      <td>81.668293</td>\n",
              "      <td>81.000163</td>\n",
              "      <td>80.651111</td>\n",
              "      <td>81.275001</td>\n",
              "      <td>81.552079</td>\n",
              "      <td>96.940970</td>\n",
              "      <td>4.444377</td>\n",
              "      <td>0.171747</td>\n",
              "      <td>0.212018</td>\n",
              "    </tr>\n",
              "    <tr>\n",
              "      <th>2019-09-04</th>\n",
              "      <td>82.199997</td>\n",
              "      <td>81.400002</td>\n",
              "      <td>81.449997</td>\n",
              "      <td>82.150002</td>\n",
              "      <td>10748771.0</td>\n",
              "      <td>0</td>\n",
              "      <td>63.737814</td>\n",
              "      <td>-1.612756</td>\n",
              "      <td>81.674390</td>\n",
              "      <td>81.230130</td>\n",
              "      <td>80.621112</td>\n",
              "      <td>81.764999</td>\n",
              "      <td>81.962576</td>\n",
              "      <td>120.541026</td>\n",
              "      <td>19.626203</td>\n",
              "      <td>0.220213</td>\n",
              "      <td>0.271799</td>\n",
              "    </tr>\n",
              "    <tr>\n",
              "      <th>2019-09-05</th>\n",
              "      <td>83.199997</td>\n",
              "      <td>82.550003</td>\n",
              "      <td>82.550003</td>\n",
              "      <td>83.000000</td>\n",
              "      <td>25429390.0</td>\n",
              "      <td>0</td>\n",
              "      <td>70.324234</td>\n",
              "      <td>-5.063218</td>\n",
              "      <td>81.708536</td>\n",
              "      <td>81.584104</td>\n",
              "      <td>80.655556</td>\n",
              "      <td>81.850000</td>\n",
              "      <td>82.618155</td>\n",
              "      <td>164.641823</td>\n",
              "      <td>32.786852</td>\n",
              "      <td>0.295244</td>\n",
              "      <td>0.363960</td>\n",
              "    </tr>\n",
              "    <tr>\n",
              "      <th>2019-09-06</th>\n",
              "      <td>83.550003</td>\n",
              "      <td>83.250000</td>\n",
              "      <td>83.250000</td>\n",
              "      <td>83.500000</td>\n",
              "      <td>17226303.0</td>\n",
              "      <td>0</td>\n",
              "      <td>73.581167</td>\n",
              "      <td>-1.265899</td>\n",
              "      <td>81.757317</td>\n",
              "      <td>81.967283</td>\n",
              "      <td>81.045556</td>\n",
              "      <td>82.074999</td>\n",
              "      <td>83.251691</td>\n",
              "      <td>160.812962</td>\n",
              "      <td>73.333198</td>\n",
              "      <td>0.359984</td>\n",
              "      <td>0.442881</td>\n",
              "    </tr>\n",
              "  </tbody>\n",
              "</table>\n",
              "</div>"
            ],
            "text/plain": [
              "                 High        Low       Open  ...        CMO      MACD       PPO\n",
              "Date                                         ...                               \n",
              "2019-09-02  82.000000  81.650002  81.800003  ...  27.500014  0.180702  0.223065\n",
              "2019-09-03  82.000000  81.199997  81.849998  ...   4.444377  0.171747  0.212018\n",
              "2019-09-04  82.199997  81.400002  81.449997  ...  19.626203  0.220213  0.271799\n",
              "2019-09-05  83.199997  82.550003  82.550003  ...  32.786852  0.295244  0.363960\n",
              "2019-09-06  83.550003  83.250000  83.250000  ...  73.333198  0.359984  0.442881\n",
              "\n",
              "[5 rows x 17 columns]"
            ]
          },
          "metadata": {
            "tags": []
          },
          "execution_count": 19
        },
        {
          "output_type": "display_data",
          "data": {
            "image/png": "[encoded data removed]",
            "text/plain": [
              "<Figure size 432x288 with 1 Axes>"
            ]
          },
          "metadata": {
            "tags": []
          }
        }
      ]
    },
    {
      "cell_type": "markdown",
      "metadata": {
        "id": "5BBE8vaWmdGN",
        "colab_type": "text"
      },
      "source": [
        "# ROC"
      ]
    },
    {
      "cell_type": "code",
      "metadata": {
        "id": "OKI3MqwhmdOj",
        "colab_type": "code",
        "outputId": "516afaaf-2617-4ffa-8c19-59f375711d2a",
        "colab": {
          "base_uri": "https://localhost:8080/",
          "height": 778
        }
      },
      "source": [
        "df['ROC'] = TA.ROC(ohlcv)\n",
        "print(df['ROC'].describe())\n",
        "sns.distplot(df['ROC'].dropna())\n",
        "df.tail()"
      ],
      "execution_count": 20,
      "outputs": [
        {
          "output_type": "stream",
          "text": [
            "count    2865.000000\n",
            "mean        0.223087\n",
            "std         4.117214\n",
            "min       -25.105744\n",
            "25%        -1.878360\n",
            "50%         0.484427\n",
            "75%         2.622500\n",
            "max        19.192592\n",
            "Name: ROC, dtype: float64\n"
          ],
          "name": "stdout"
        },
        {
          "output_type": "execute_result",
          "data": {
            "text/html": [
              "<div>\n",
              "<style scoped>\n",
              "    .dataframe tbody tr th:only-of-type {\n",
              "        vertical-align: middle;\n",
              "    }\n",
              "\n",
              "    .dataframe tbody tr th {\n",
              "        vertical-align: top;\n",
              "    }\n",
              "\n",
              "    .dataframe thead th {\n",
              "        text-align: right;\n",
              "    }\n",
              "</style>\n",
              "<table border=\"1\" class=\"dataframe\">\n",
              "  <thead>\n",
              "    <tr style=\"text-align: right;\">\n",
              "      <th></th>\n",
              "      <th>High</th>\n",
              "      <th>Low</th>\n",
              "      <th>Open</th>\n",
              "      <th>Close</th>\n",
              "      <th>Volume</th>\n",
              "      <th>triple_barrier_signal</th>\n",
              "      <th>RSI</th>\n",
              "      <th>Williams %R</th>\n",
              "      <th>SMA</th>\n",
              "      <th>EMA</th>\n",
              "      <th>WMA</th>\n",
              "      <th>HMA</th>\n",
              "      <th>TEMA</th>\n",
              "      <th>CCI</th>\n",
              "      <th>CMO</th>\n",
              "      <th>MACD</th>\n",
              "      <th>PPO</th>\n",
              "      <th>ROC</th>\n",
              "    </tr>\n",
              "    <tr>\n",
              "      <th>Date</th>\n",
              "      <th></th>\n",
              "      <th></th>\n",
              "      <th></th>\n",
              "      <th></th>\n",
              "      <th></th>\n",
              "      <th></th>\n",
              "      <th></th>\n",
              "      <th></th>\n",
              "      <th></th>\n",
              "      <th></th>\n",
              "      <th></th>\n",
              "      <th></th>\n",
              "      <th></th>\n",
              "      <th></th>\n",
              "      <th></th>\n",
              "      <th></th>\n",
              "      <th></th>\n",
              "      <th></th>\n",
              "    </tr>\n",
              "  </thead>\n",
              "  <tbody>\n",
              "    <tr>\n",
              "      <th>2019-09-02</th>\n",
              "      <td>82.000000</td>\n",
              "      <td>81.650002</td>\n",
              "      <td>81.800003</td>\n",
              "      <td>81.900002</td>\n",
              "      <td>6457870.0</td>\n",
              "      <td>0</td>\n",
              "      <td>65.211685</td>\n",
              "      <td>-3.448221</td>\n",
              "      <td>81.687805</td>\n",
              "      <td>80.950204</td>\n",
              "      <td>80.684445</td>\n",
              "      <td>80.885001</td>\n",
              "      <td>81.603058</td>\n",
              "      <td>143.717155</td>\n",
              "      <td>27.500014</td>\n",
              "      <td>0.180702</td>\n",
              "      <td>0.223065</td>\n",
              "      <td>1.992526</td>\n",
              "    </tr>\n",
              "    <tr>\n",
              "      <th>2019-09-03</th>\n",
              "      <td>82.000000</td>\n",
              "      <td>81.199997</td>\n",
              "      <td>81.849998</td>\n",
              "      <td>81.199997</td>\n",
              "      <td>5052925.0</td>\n",
              "      <td>0</td>\n",
              "      <td>53.807044</td>\n",
              "      <td>-27.586298</td>\n",
              "      <td>81.668293</td>\n",
              "      <td>81.000163</td>\n",
              "      <td>80.651111</td>\n",
              "      <td>81.275001</td>\n",
              "      <td>81.552079</td>\n",
              "      <td>96.940970</td>\n",
              "      <td>4.444377</td>\n",
              "      <td>0.171747</td>\n",
              "      <td>0.212018</td>\n",
              "      <td>2.266997</td>\n",
              "    </tr>\n",
              "    <tr>\n",
              "      <th>2019-09-04</th>\n",
              "      <td>82.199997</td>\n",
              "      <td>81.400002</td>\n",
              "      <td>81.449997</td>\n",
              "      <td>82.150002</td>\n",
              "      <td>10748771.0</td>\n",
              "      <td>0</td>\n",
              "      <td>63.737814</td>\n",
              "      <td>-1.612756</td>\n",
              "      <td>81.674390</td>\n",
              "      <td>81.230130</td>\n",
              "      <td>80.621112</td>\n",
              "      <td>81.764999</td>\n",
              "      <td>81.962576</td>\n",
              "      <td>120.541026</td>\n",
              "      <td>19.626203</td>\n",
              "      <td>0.220213</td>\n",
              "      <td>0.271799</td>\n",
              "      <td>2.240203</td>\n",
              "    </tr>\n",
              "    <tr>\n",
              "      <th>2019-09-05</th>\n",
              "      <td>83.199997</td>\n",
              "      <td>82.550003</td>\n",
              "      <td>82.550003</td>\n",
              "      <td>83.000000</td>\n",
              "      <td>25429390.0</td>\n",
              "      <td>0</td>\n",
              "      <td>70.324234</td>\n",
              "      <td>-5.063218</td>\n",
              "      <td>81.708536</td>\n",
              "      <td>81.584104</td>\n",
              "      <td>80.655556</td>\n",
              "      <td>81.850000</td>\n",
              "      <td>82.618155</td>\n",
              "      <td>164.641823</td>\n",
              "      <td>32.786852</td>\n",
              "      <td>0.295244</td>\n",
              "      <td>0.363960</td>\n",
              "      <td>2.722768</td>\n",
              "    </tr>\n",
              "    <tr>\n",
              "      <th>2019-09-06</th>\n",
              "      <td>83.550003</td>\n",
              "      <td>83.250000</td>\n",
              "      <td>83.250000</td>\n",
              "      <td>83.500000</td>\n",
              "      <td>17226303.0</td>\n",
              "      <td>0</td>\n",
              "      <td>73.581167</td>\n",
              "      <td>-1.265899</td>\n",
              "      <td>81.757317</td>\n",
              "      <td>81.967283</td>\n",
              "      <td>81.045556</td>\n",
              "      <td>82.074999</td>\n",
              "      <td>83.251691</td>\n",
              "      <td>160.812962</td>\n",
              "      <td>73.333198</td>\n",
              "      <td>0.359984</td>\n",
              "      <td>0.442881</td>\n",
              "      <td>3.086420</td>\n",
              "    </tr>\n",
              "  </tbody>\n",
              "</table>\n",
              "</div>"
            ],
            "text/plain": [
              "                 High        Low       Open  ...      MACD       PPO       ROC\n",
              "Date                                         ...                              \n",
              "2019-09-02  82.000000  81.650002  81.800003  ...  0.180702  0.223065  1.992526\n",
              "2019-09-03  82.000000  81.199997  81.849998  ...  0.171747  0.212018  2.266997\n",
              "2019-09-04  82.199997  81.400002  81.449997  ...  0.220213  0.271799  2.240203\n",
              "2019-09-05  83.199997  82.550003  82.550003  ...  0.295244  0.363960  2.722768\n",
              "2019-09-06  83.550003  83.250000  83.250000  ...  0.359984  0.442881  3.086420\n",
              "\n",
              "[5 rows x 18 columns]"
            ]
          },
          "metadata": {
            "tags": []
          },
          "execution_count": 20
        },
        {
          "output_type": "display_data",
          "data": {
            "image/png": "[encoded data removed]",
            "text/plain": [
              "<Figure size 432x288 with 1 Axes>"
            ]
          },
          "metadata": {
            "tags": []
          }
        }
      ]
    },
    {
      "cell_type": "markdown",
      "metadata": {
        "id": "b9LTKsyvmuSd",
        "colab_type": "text"
      },
      "source": [
        "# CMFI"
      ]
    },
    {
      "cell_type": "code",
      "metadata": {
        "id": "somnlSTOmvjJ",
        "colab_type": "code",
        "outputId": "bd77b393-d7fa-49a2-b925-3533c393d6ad",
        "colab": {
          "base_uri": "https://localhost:8080/",
          "height": 785
        }
      },
      "source": [
        "df['CFI'] = TA.CFI(ohlcv)\n",
        "print(df['CFI'].describe())\n",
        "sns.distplot(df['CFI'].dropna())\n",
        "df.tail()"
      ],
      "execution_count": 21,
      "outputs": [
        {
          "output_type": "stream",
          "text": [
            "count    2.868000e+03\n",
            "mean    -3.373043e+08\n",
            "std      1.625415e+08\n",
            "min     -8.755913e+08\n",
            "25%     -3.434069e+08\n",
            "50%     -3.068897e+08\n",
            "75%     -2.763640e+08\n",
            "max      1.163450e+08\n",
            "Name: CFI, dtype: float64\n"
          ],
          "name": "stdout"
        },
        {
          "output_type": "execute_result",
          "data": {
            "text/html": [
              "<div>\n",
              "<style scoped>\n",
              "    .dataframe tbody tr th:only-of-type {\n",
              "        vertical-align: middle;\n",
              "    }\n",
              "\n",
              "    .dataframe tbody tr th {\n",
              "        vertical-align: top;\n",
              "    }\n",
              "\n",
              "    .dataframe thead th {\n",
              "        text-align: right;\n",
              "    }\n",
              "</style>\n",
              "<table border=\"1\" class=\"dataframe\">\n",
              "  <thead>\n",
              "    <tr style=\"text-align: right;\">\n",
              "      <th></th>\n",
              "      <th>High</th>\n",
              "      <th>Low</th>\n",
              "      <th>Open</th>\n",
              "      <th>Close</th>\n",
              "      <th>Volume</th>\n",
              "      <th>triple_barrier_signal</th>\n",
              "      <th>RSI</th>\n",
              "      <th>Williams %R</th>\n",
              "      <th>SMA</th>\n",
              "      <th>EMA</th>\n",
              "      <th>WMA</th>\n",
              "      <th>HMA</th>\n",
              "      <th>TEMA</th>\n",
              "      <th>CCI</th>\n",
              "      <th>CMO</th>\n",
              "      <th>MACD</th>\n",
              "      <th>PPO</th>\n",
              "      <th>ROC</th>\n",
              "      <th>CFI</th>\n",
              "    </tr>\n",
              "    <tr>\n",
              "      <th>Date</th>\n",
              "      <th></th>\n",
              "      <th></th>\n",
              "      <th></th>\n",
              "      <th></th>\n",
              "      <th></th>\n",
              "      <th></th>\n",
              "      <th></th>\n",
              "      <th></th>\n",
              "      <th></th>\n",
              "      <th></th>\n",
              "      <th></th>\n",
              "      <th></th>\n",
              "      <th></th>\n",
              "      <th></th>\n",
              "      <th></th>\n",
              "      <th></th>\n",
              "      <th></th>\n",
              "      <th></th>\n",
              "      <th></th>\n",
              "    </tr>\n",
              "  </thead>\n",
              "  <tbody>\n",
              "    <tr>\n",
              "      <th>2019-09-02</th>\n",
              "      <td>82.000000</td>\n",
              "      <td>81.650002</td>\n",
              "      <td>81.800003</td>\n",
              "      <td>81.900002</td>\n",
              "      <td>6457870.0</td>\n",
              "      <td>0</td>\n",
              "      <td>65.211685</td>\n",
              "      <td>-3.448221</td>\n",
              "      <td>81.687805</td>\n",
              "      <td>80.950204</td>\n",
              "      <td>80.684445</td>\n",
              "      <td>80.885001</td>\n",
              "      <td>81.603058</td>\n",
              "      <td>143.717155</td>\n",
              "      <td>27.500014</td>\n",
              "      <td>0.180702</td>\n",
              "      <td>0.223065</td>\n",
              "      <td>1.992526</td>\n",
              "      <td>-7.786882e+08</td>\n",
              "    </tr>\n",
              "    <tr>\n",
              "      <th>2019-09-03</th>\n",
              "      <td>82.000000</td>\n",
              "      <td>81.199997</td>\n",
              "      <td>81.849998</td>\n",
              "      <td>81.199997</td>\n",
              "      <td>5052925.0</td>\n",
              "      <td>0</td>\n",
              "      <td>53.807044</td>\n",
              "      <td>-27.586298</td>\n",
              "      <td>81.668293</td>\n",
              "      <td>81.000163</td>\n",
              "      <td>80.651111</td>\n",
              "      <td>81.275001</td>\n",
              "      <td>81.552079</td>\n",
              "      <td>96.940970</td>\n",
              "      <td>4.444377</td>\n",
              "      <td>0.171747</td>\n",
              "      <td>0.212018</td>\n",
              "      <td>2.266997</td>\n",
              "      <td>-7.770803e+08</td>\n",
              "    </tr>\n",
              "    <tr>\n",
              "      <th>2019-09-04</th>\n",
              "      <td>82.199997</td>\n",
              "      <td>81.400002</td>\n",
              "      <td>81.449997</td>\n",
              "      <td>82.150002</td>\n",
              "      <td>10748771.0</td>\n",
              "      <td>0</td>\n",
              "      <td>63.737814</td>\n",
              "      <td>-1.612756</td>\n",
              "      <td>81.674390</td>\n",
              "      <td>81.230130</td>\n",
              "      <td>80.621112</td>\n",
              "      <td>81.764999</td>\n",
              "      <td>81.962576</td>\n",
              "      <td>120.541026</td>\n",
              "      <td>19.626203</td>\n",
              "      <td>0.220213</td>\n",
              "      <td>0.271799</td>\n",
              "      <td>2.240203</td>\n",
              "      <td>-7.739082e+08</td>\n",
              "    </tr>\n",
              "    <tr>\n",
              "      <th>2019-09-05</th>\n",
              "      <td>83.199997</td>\n",
              "      <td>82.550003</td>\n",
              "      <td>82.550003</td>\n",
              "      <td>83.000000</td>\n",
              "      <td>25429390.0</td>\n",
              "      <td>0</td>\n",
              "      <td>70.324234</td>\n",
              "      <td>-5.063218</td>\n",
              "      <td>81.708536</td>\n",
              "      <td>81.584104</td>\n",
              "      <td>80.655556</td>\n",
              "      <td>81.850000</td>\n",
              "      <td>82.618155</td>\n",
              "      <td>164.641823</td>\n",
              "      <td>32.786852</td>\n",
              "      <td>0.295244</td>\n",
              "      <td>0.363960</td>\n",
              "      <td>2.722768</td>\n",
              "      <td>-7.673828e+08</td>\n",
              "    </tr>\n",
              "    <tr>\n",
              "      <th>2019-09-06</th>\n",
              "      <td>83.550003</td>\n",
              "      <td>83.250000</td>\n",
              "      <td>83.250000</td>\n",
              "      <td>83.500000</td>\n",
              "      <td>17226303.0</td>\n",
              "      <td>0</td>\n",
              "      <td>73.581167</td>\n",
              "      <td>-1.265899</td>\n",
              "      <td>81.757317</td>\n",
              "      <td>81.967283</td>\n",
              "      <td>81.045556</td>\n",
              "      <td>82.074999</td>\n",
              "      <td>83.251691</td>\n",
              "      <td>160.812962</td>\n",
              "      <td>73.333198</td>\n",
              "      <td>0.359984</td>\n",
              "      <td>0.442881</td>\n",
              "      <td>3.086420</td>\n",
              "      <td>-7.604778e+08</td>\n",
              "    </tr>\n",
              "  </tbody>\n",
              "</table>\n",
              "</div>"
            ],
            "text/plain": [
              "                 High        Low       Open  ...       PPO       ROC           CFI\n",
              "Date                                         ...                                  \n",
              "2019-09-02  82.000000  81.650002  81.800003  ...  0.223065  1.992526 -7.786882e+08\n",
              "2019-09-03  82.000000  81.199997  81.849998  ...  0.212018  2.266997 -7.770803e+08\n",
              "2019-09-04  82.199997  81.400002  81.449997  ...  0.271799  2.240203 -7.739082e+08\n",
              "2019-09-05  83.199997  82.550003  82.550003  ...  0.363960  2.722768 -7.673828e+08\n",
              "2019-09-06  83.550003  83.250000  83.250000  ...  0.442881  3.086420 -7.604778e+08\n",
              "\n",
              "[5 rows x 19 columns]"
            ]
          },
          "metadata": {
            "tags": []
          },
          "execution_count": 21
        },
        {
          "output_type": "display_data",
          "data": {
            "image/png": "[encoded data removed]",
            "text/plain": [
              "<Figure size 432x288 with 1 Axes>"
            ]
          },
          "metadata": {
            "tags": []
          }
        }
      ]
    },
    {
      "cell_type": "markdown",
      "metadata": {
        "id": "8WydSl0doUYk",
        "colab_type": "text"
      },
      "source": [
        "# DMI"
      ]
    },
    {
      "cell_type": "code",
      "metadata": {
        "id": "xRTnC6DboU05",
        "colab_type": "code",
        "outputId": "7d32a8d4-bda8-4af0-a8ea-c33e56d0f439",
        "colab": {
          "base_uri": "https://localhost:8080/",
          "height": 1000
        }
      },
      "source": [
        "df['DMI'] = TA.DMI(ohlcv)['DI+'] - TA.DMI(ohlcv)['DI-']\n",
        "print(df['DMI'].describe())\n",
        "sns.distplot(df['DMI'].dropna())\n",
        "df.tail()"
      ],
      "execution_count": 22,
      "outputs": [
        {
          "output_type": "stream",
          "text": [
            "/usr/local/lib/python3.6/dist-packages/finta/finta.py:792: SettingWithCopyWarning: \n",
            "A value is trying to be set on a copy of a slice from a DataFrame.\n",
            "Try using .loc[row_indexer,col_indexer] = value instead\n",
            "\n",
            "See the caveats in the documentation: http://pandas.pydata.org/pandas-docs/stable/indexing.html#indexing-view-versus-copy\n",
            "  ohlc[\"up_move\"] = ohlc[\"high\"].diff()\n",
            "/usr/local/lib/python3.6/dist-packages/finta/finta.py:793: SettingWithCopyWarning: \n",
            "A value is trying to be set on a copy of a slice from a DataFrame.\n",
            "Try using .loc[row_indexer,col_indexer] = value instead\n",
            "\n",
            "See the caveats in the documentation: http://pandas.pydata.org/pandas-docs/stable/indexing.html#indexing-view-versus-copy\n",
            "  ohlc[\"down_move\"] = -ohlc[\"low\"].diff()\n",
            "/usr/local/lib/python3.6/dist-packages/finta/finta.py:809: SettingWithCopyWarning: \n",
            "A value is trying to be set on a copy of a slice from a DataFrame.\n",
            "Try using .loc[row_indexer,col_indexer] = value instead\n",
            "\n",
            "See the caveats in the documentation: http://pandas.pydata.org/pandas-docs/stable/indexing.html#indexing-view-versus-copy\n",
            "  ohlc[\"DMp\"] = DMp\n",
            "/usr/local/lib/python3.6/dist-packages/finta/finta.py:810: SettingWithCopyWarning: \n",
            "A value is trying to be set on a copy of a slice from a DataFrame.\n",
            "Try using .loc[row_indexer,col_indexer] = value instead\n",
            "\n",
            "See the caveats in the documentation: http://pandas.pydata.org/pandas-docs/stable/indexing.html#indexing-view-versus-copy\n",
            "  ohlc[\"DMm\"] = DMm\n"
          ],
          "name": "stderr"
        },
        {
          "output_type": "stream",
          "text": [
            "count    2794.000000\n",
            "mean       -0.642832\n",
            "std        22.381371\n",
            "min      -127.770346\n",
            "25%       -13.539123\n",
            "50%         1.638485\n",
            "75%        14.735095\n",
            "max        70.975012\n",
            "Name: DMI, dtype: float64\n"
          ],
          "name": "stdout"
        },
        {
          "output_type": "execute_result",
          "data": {
            "text/html": [
              "<div>\n",
              "<style scoped>\n",
              "    .dataframe tbody tr th:only-of-type {\n",
              "        vertical-align: middle;\n",
              "    }\n",
              "\n",
              "    .dataframe tbody tr th {\n",
              "        vertical-align: top;\n",
              "    }\n",
              "\n",
              "    .dataframe thead th {\n",
              "        text-align: right;\n",
              "    }\n",
              "</style>\n",
              "<table border=\"1\" class=\"dataframe\">\n",
              "  <thead>\n",
              "    <tr style=\"text-align: right;\">\n",
              "      <th></th>\n",
              "      <th>High</th>\n",
              "      <th>Low</th>\n",
              "      <th>Open</th>\n",
              "      <th>Close</th>\n",
              "      <th>Volume</th>\n",
              "      <th>triple_barrier_signal</th>\n",
              "      <th>RSI</th>\n",
              "      <th>Williams %R</th>\n",
              "      <th>SMA</th>\n",
              "      <th>EMA</th>\n",
              "      <th>WMA</th>\n",
              "      <th>HMA</th>\n",
              "      <th>TEMA</th>\n",
              "      <th>CCI</th>\n",
              "      <th>CMO</th>\n",
              "      <th>MACD</th>\n",
              "      <th>PPO</th>\n",
              "      <th>ROC</th>\n",
              "      <th>CFI</th>\n",
              "      <th>DMI</th>\n",
              "    </tr>\n",
              "    <tr>\n",
              "      <th>Date</th>\n",
              "      <th></th>\n",
              "      <th></th>\n",
              "      <th></th>\n",
              "      <th></th>\n",
              "      <th></th>\n",
              "      <th></th>\n",
              "      <th></th>\n",
              "      <th></th>\n",
              "      <th></th>\n",
              "      <th></th>\n",
              "      <th></th>\n",
              "      <th></th>\n",
              "      <th></th>\n",
              "      <th></th>\n",
              "      <th></th>\n",
              "      <th></th>\n",
              "      <th></th>\n",
              "      <th></th>\n",
              "      <th></th>\n",
              "      <th></th>\n",
              "    </tr>\n",
              "  </thead>\n",
              "  <tbody>\n",
              "    <tr>\n",
              "      <th>2019-09-02</th>\n",
              "      <td>82.000000</td>\n",
              "      <td>81.650002</td>\n",
              "      <td>81.800003</td>\n",
              "      <td>81.900002</td>\n",
              "      <td>6457870.0</td>\n",
              "      <td>0</td>\n",
              "      <td>65.211685</td>\n",
              "      <td>-3.448221</td>\n",
              "      <td>81.687805</td>\n",
              "      <td>80.950204</td>\n",
              "      <td>80.684445</td>\n",
              "      <td>80.885001</td>\n",
              "      <td>81.603058</td>\n",
              "      <td>143.717155</td>\n",
              "      <td>27.500014</td>\n",
              "      <td>0.180702</td>\n",
              "      <td>0.223065</td>\n",
              "      <td>1.992526</td>\n",
              "      <td>-7.786882e+08</td>\n",
              "      <td>11.995912</td>\n",
              "    </tr>\n",
              "    <tr>\n",
              "      <th>2019-09-03</th>\n",
              "      <td>82.000000</td>\n",
              "      <td>81.199997</td>\n",
              "      <td>81.849998</td>\n",
              "      <td>81.199997</td>\n",
              "      <td>5052925.0</td>\n",
              "      <td>0</td>\n",
              "      <td>53.807044</td>\n",
              "      <td>-27.586298</td>\n",
              "      <td>81.668293</td>\n",
              "      <td>81.000163</td>\n",
              "      <td>80.651111</td>\n",
              "      <td>81.275001</td>\n",
              "      <td>81.552079</td>\n",
              "      <td>96.940970</td>\n",
              "      <td>4.444377</td>\n",
              "      <td>0.171747</td>\n",
              "      <td>0.212018</td>\n",
              "      <td>2.266997</td>\n",
              "      <td>-7.770803e+08</td>\n",
              "      <td>3.011767</td>\n",
              "    </tr>\n",
              "    <tr>\n",
              "      <th>2019-09-04</th>\n",
              "      <td>82.199997</td>\n",
              "      <td>81.400002</td>\n",
              "      <td>81.449997</td>\n",
              "      <td>82.150002</td>\n",
              "      <td>10748771.0</td>\n",
              "      <td>0</td>\n",
              "      <td>63.737814</td>\n",
              "      <td>-1.612756</td>\n",
              "      <td>81.674390</td>\n",
              "      <td>81.230130</td>\n",
              "      <td>80.621112</td>\n",
              "      <td>81.764999</td>\n",
              "      <td>81.962576</td>\n",
              "      <td>120.541026</td>\n",
              "      <td>19.626203</td>\n",
              "      <td>0.220213</td>\n",
              "      <td>0.271799</td>\n",
              "      <td>2.240203</td>\n",
              "      <td>-7.739082e+08</td>\n",
              "      <td>5.926209</td>\n",
              "    </tr>\n",
              "    <tr>\n",
              "      <th>2019-09-05</th>\n",
              "      <td>83.199997</td>\n",
              "      <td>82.550003</td>\n",
              "      <td>82.550003</td>\n",
              "      <td>83.000000</td>\n",
              "      <td>25429390.0</td>\n",
              "      <td>0</td>\n",
              "      <td>70.324234</td>\n",
              "      <td>-5.063218</td>\n",
              "      <td>81.708536</td>\n",
              "      <td>81.584104</td>\n",
              "      <td>80.655556</td>\n",
              "      <td>81.850000</td>\n",
              "      <td>82.618155</td>\n",
              "      <td>164.641823</td>\n",
              "      <td>32.786852</td>\n",
              "      <td>0.295244</td>\n",
              "      <td>0.363960</td>\n",
              "      <td>2.722768</td>\n",
              "      <td>-7.673828e+08</td>\n",
              "      <td>21.704096</td>\n",
              "    </tr>\n",
              "    <tr>\n",
              "      <th>2019-09-06</th>\n",
              "      <td>83.550003</td>\n",
              "      <td>83.250000</td>\n",
              "      <td>83.250000</td>\n",
              "      <td>83.500000</td>\n",
              "      <td>17226303.0</td>\n",
              "      <td>0</td>\n",
              "      <td>73.581167</td>\n",
              "      <td>-1.265899</td>\n",
              "      <td>81.757317</td>\n",
              "      <td>81.967283</td>\n",
              "      <td>81.045556</td>\n",
              "      <td>82.074999</td>\n",
              "      <td>83.251691</td>\n",
              "      <td>160.812962</td>\n",
              "      <td>73.333198</td>\n",
              "      <td>0.359984</td>\n",
              "      <td>0.442881</td>\n",
              "      <td>3.086420</td>\n",
              "      <td>-7.604778e+08</td>\n",
              "      <td>24.639314</td>\n",
              "    </tr>\n",
              "  </tbody>\n",
              "</table>\n",
              "</div>"
            ],
            "text/plain": [
              "                 High        Low       Open  ...       ROC           CFI        DMI\n",
              "Date                                         ...                                   \n",
              "2019-09-02  82.000000  81.650002  81.800003  ...  1.992526 -7.786882e+08  11.995912\n",
              "2019-09-03  82.000000  81.199997  81.849998  ...  2.266997 -7.770803e+08   3.011767\n",
              "2019-09-04  82.199997  81.400002  81.449997  ...  2.240203 -7.739082e+08   5.926209\n",
              "2019-09-05  83.199997  82.550003  82.550003  ...  2.722768 -7.673828e+08  21.704096\n",
              "2019-09-06  83.550003  83.250000  83.250000  ...  3.086420 -7.604778e+08  24.639314\n",
              "\n",
              "[5 rows x 20 columns]"
            ]
          },
          "metadata": {
            "tags": []
          },
          "execution_count": 22
        },
        {
          "output_type": "display_data",
          "data": {
            "image/png": "[encoded data removed]",
            "text/plain": [
              "<Figure size 432x288 with 1 Axes>"
            ]
          },
          "metadata": {
            "tags": []
          }
        }
      ]
    },
    {
      "cell_type": "markdown",
      "metadata": {
        "id": "96c_FgXOo98u",
        "colab_type": "text"
      },
      "source": [
        "# SAR"
      ]
    },
    {
      "cell_type": "code",
      "metadata": {
        "id": "eRPVEtrmo-bi",
        "colab_type": "code",
        "outputId": "17282601-3720-4c6e-cddd-916bac6f489b",
        "colab": {
          "base_uri": "https://localhost:8080/",
          "height": 778
        }
      },
      "source": [
        "df['SAR'] = TA.SAR(ohlcv)\n",
        "print(df['SAR'].describe())\n",
        "sns.distplot(df['SAR'].dropna())\n",
        "df.tail()"
      ],
      "execution_count": 23,
      "outputs": [
        {
          "output_type": "stream",
          "text": [
            "count    2877.000000\n",
            "mean       62.045070\n",
            "std        12.555531\n",
            "min        27.870001\n",
            "25%        53.894021\n",
            "50%        59.978199\n",
            "75%        70.747998\n",
            "max        88.400002\n",
            "Name: SAR, dtype: float64\n"
          ],
          "name": "stdout"
        },
        {
          "output_type": "execute_result",
          "data": {
            "text/html": [
              "<div>\n",
              "<style scoped>\n",
              "    .dataframe tbody tr th:only-of-type {\n",
              "        vertical-align: middle;\n",
              "    }\n",
              "\n",
              "    .dataframe tbody tr th {\n",
              "        vertical-align: top;\n",
              "    }\n",
              "\n",
              "    .dataframe thead th {\n",
              "        text-align: right;\n",
              "    }\n",
              "</style>\n",
              "<table border=\"1\" class=\"dataframe\">\n",
              "  <thead>\n",
              "    <tr style=\"text-align: right;\">\n",
              "      <th></th>\n",
              "      <th>High</th>\n",
              "      <th>Low</th>\n",
              "      <th>Open</th>\n",
              "      <th>Close</th>\n",
              "      <th>Volume</th>\n",
              "      <th>triple_barrier_signal</th>\n",
              "      <th>RSI</th>\n",
              "      <th>Williams %R</th>\n",
              "      <th>SMA</th>\n",
              "      <th>EMA</th>\n",
              "      <th>WMA</th>\n",
              "      <th>HMA</th>\n",
              "      <th>TEMA</th>\n",
              "      <th>CCI</th>\n",
              "      <th>CMO</th>\n",
              "      <th>MACD</th>\n",
              "      <th>PPO</th>\n",
              "      <th>ROC</th>\n",
              "      <th>CFI</th>\n",
              "      <th>DMI</th>\n",
              "      <th>SAR</th>\n",
              "    </tr>\n",
              "    <tr>\n",
              "      <th>Date</th>\n",
              "      <th></th>\n",
              "      <th></th>\n",
              "      <th></th>\n",
              "      <th></th>\n",
              "      <th></th>\n",
              "      <th></th>\n",
              "      <th></th>\n",
              "      <th></th>\n",
              "      <th></th>\n",
              "      <th></th>\n",
              "      <th></th>\n",
              "      <th></th>\n",
              "      <th></th>\n",
              "      <th></th>\n",
              "      <th></th>\n",
              "      <th></th>\n",
              "      <th></th>\n",
              "      <th></th>\n",
              "      <th></th>\n",
              "      <th></th>\n",
              "      <th></th>\n",
              "    </tr>\n",
              "  </thead>\n",
              "  <tbody>\n",
              "    <tr>\n",
              "      <th>2019-09-02</th>\n",
              "      <td>82.000000</td>\n",
              "      <td>81.650002</td>\n",
              "      <td>81.800003</td>\n",
              "      <td>81.900002</td>\n",
              "      <td>6457870.0</td>\n",
              "      <td>0</td>\n",
              "      <td>65.211685</td>\n",
              "      <td>-3.448221</td>\n",
              "      <td>81.687805</td>\n",
              "      <td>80.950204</td>\n",
              "      <td>80.684445</td>\n",
              "      <td>80.885001</td>\n",
              "      <td>81.603058</td>\n",
              "      <td>143.717155</td>\n",
              "      <td>27.500014</td>\n",
              "      <td>0.180702</td>\n",
              "      <td>0.223065</td>\n",
              "      <td>1.992526</td>\n",
              "      <td>-7.786882e+08</td>\n",
              "      <td>11.995912</td>\n",
              "      <td>79.594105</td>\n",
              "    </tr>\n",
              "    <tr>\n",
              "      <th>2019-09-03</th>\n",
              "      <td>82.000000</td>\n",
              "      <td>81.199997</td>\n",
              "      <td>81.849998</td>\n",
              "      <td>81.199997</td>\n",
              "      <td>5052925.0</td>\n",
              "      <td>0</td>\n",
              "      <td>53.807044</td>\n",
              "      <td>-27.586298</td>\n",
              "      <td>81.668293</td>\n",
              "      <td>81.000163</td>\n",
              "      <td>80.651111</td>\n",
              "      <td>81.275001</td>\n",
              "      <td>81.552079</td>\n",
              "      <td>96.940970</td>\n",
              "      <td>4.444377</td>\n",
              "      <td>0.171747</td>\n",
              "      <td>0.212018</td>\n",
              "      <td>2.266997</td>\n",
              "      <td>-7.770803e+08</td>\n",
              "      <td>3.011767</td>\n",
              "      <td>79.834694</td>\n",
              "    </tr>\n",
              "    <tr>\n",
              "      <th>2019-09-04</th>\n",
              "      <td>82.199997</td>\n",
              "      <td>81.400002</td>\n",
              "      <td>81.449997</td>\n",
              "      <td>82.150002</td>\n",
              "      <td>10748771.0</td>\n",
              "      <td>0</td>\n",
              "      <td>63.737814</td>\n",
              "      <td>-1.612756</td>\n",
              "      <td>81.674390</td>\n",
              "      <td>81.230130</td>\n",
              "      <td>80.621112</td>\n",
              "      <td>81.764999</td>\n",
              "      <td>81.962576</td>\n",
              "      <td>120.541026</td>\n",
              "      <td>19.626203</td>\n",
              "      <td>0.220213</td>\n",
              "      <td>0.271799</td>\n",
              "      <td>2.240203</td>\n",
              "      <td>-7.739082e+08</td>\n",
              "      <td>5.926209</td>\n",
              "      <td>80.051225</td>\n",
              "    </tr>\n",
              "    <tr>\n",
              "      <th>2019-09-05</th>\n",
              "      <td>83.199997</td>\n",
              "      <td>82.550003</td>\n",
              "      <td>82.550003</td>\n",
              "      <td>83.000000</td>\n",
              "      <td>25429390.0</td>\n",
              "      <td>0</td>\n",
              "      <td>70.324234</td>\n",
              "      <td>-5.063218</td>\n",
              "      <td>81.708536</td>\n",
              "      <td>81.584104</td>\n",
              "      <td>80.655556</td>\n",
              "      <td>81.850000</td>\n",
              "      <td>82.618155</td>\n",
              "      <td>164.641823</td>\n",
              "      <td>32.786852</td>\n",
              "      <td>0.295244</td>\n",
              "      <td>0.363960</td>\n",
              "      <td>2.722768</td>\n",
              "      <td>-7.673828e+08</td>\n",
              "      <td>21.704096</td>\n",
              "      <td>80.309077</td>\n",
              "    </tr>\n",
              "    <tr>\n",
              "      <th>2019-09-06</th>\n",
              "      <td>83.550003</td>\n",
              "      <td>83.250000</td>\n",
              "      <td>83.250000</td>\n",
              "      <td>83.500000</td>\n",
              "      <td>17226303.0</td>\n",
              "      <td>0</td>\n",
              "      <td>73.581167</td>\n",
              "      <td>-1.265899</td>\n",
              "      <td>81.757317</td>\n",
              "      <td>81.967283</td>\n",
              "      <td>81.045556</td>\n",
              "      <td>82.074999</td>\n",
              "      <td>83.251691</td>\n",
              "      <td>160.812962</td>\n",
              "      <td>73.333198</td>\n",
              "      <td>0.359984</td>\n",
              "      <td>0.442881</td>\n",
              "      <td>3.086420</td>\n",
              "      <td>-7.604778e+08</td>\n",
              "      <td>24.639314</td>\n",
              "      <td>80.713806</td>\n",
              "    </tr>\n",
              "  </tbody>\n",
              "</table>\n",
              "</div>"
            ],
            "text/plain": [
              "                 High        Low       Open  ...           CFI        DMI        SAR\n",
              "Date                                         ...                                    \n",
              "2019-09-02  82.000000  81.650002  81.800003  ... -7.786882e+08  11.995912  79.594105\n",
              "2019-09-03  82.000000  81.199997  81.849998  ... -7.770803e+08   3.011767  79.834694\n",
              "2019-09-04  82.199997  81.400002  81.449997  ... -7.739082e+08   5.926209  80.051225\n",
              "2019-09-05  83.199997  82.550003  82.550003  ... -7.673828e+08  21.704096  80.309077\n",
              "2019-09-06  83.550003  83.250000  83.250000  ... -7.604778e+08  24.639314  80.713806\n",
              "\n",
              "[5 rows x 21 columns]"
            ]
          },
          "metadata": {
            "tags": []
          },
          "execution_count": 23
        },
        {
          "output_type": "display_data",
          "data": {
            "image/png": "[encoded data removed]",
            "text/plain": [
              "<Figure size 432x288 with 1 Axes>"
            ]
          },
          "metadata": {
            "tags": []
          }
        }
      ]
    },
    {
      "cell_type": "markdown",
      "metadata": {
        "id": "MoqrDEejwYOV",
        "colab_type": "text"
      },
      "source": [
        "# columns選取"
      ]
    },
    {
      "cell_type": "code",
      "metadata": {
        "id": "qrGg0ojRKuE1",
        "colab_type": "code",
        "outputId": "2b5ec704-54e6-4fca-abb0-48d9b04685f9",
        "colab": {
          "base_uri": "https://localhost:8080/",
          "height": 388
        }
      },
      "source": [
        "print(df.shape)\n",
        "df = df.dropna(axis=0)#刪除有缺失的row,會缺失主要因為用時間rolling計算技術指標導致,正常的\n",
        "features = df.columns[-15:].tolist() #取15個剛剛建立的技術指標當特徵\n",
        "y_name = 'triple_barrier_signal' #當作labels\n",
        "df = df[features+[y_name]]\n",
        "print(df.shape)\n",
        "df.tail()"
      ],
      "execution_count": 24,
      "outputs": [
        {
          "output_type": "stream",
          "text": [
            "(2877, 21)\n",
            "(2794, 16)\n"
          ],
          "name": "stdout"
        },
        {
          "output_type": "execute_result",
          "data": {
            "text/html": [
              "<div>\n",
              "<style scoped>\n",
              "    .dataframe tbody tr th:only-of-type {\n",
              "        vertical-align: middle;\n",
              "    }\n",
              "\n",
              "    .dataframe tbody tr th {\n",
              "        vertical-align: top;\n",
              "    }\n",
              "\n",
              "    .dataframe thead th {\n",
              "        text-align: right;\n",
              "    }\n",
              "</style>\n",
              "<table border=\"1\" class=\"dataframe\">\n",
              "  <thead>\n",
              "    <tr style=\"text-align: right;\">\n",
              "      <th></th>\n",
              "      <th>RSI</th>\n",
              "      <th>Williams %R</th>\n",
              "      <th>SMA</th>\n",
              "      <th>EMA</th>\n",
              "      <th>WMA</th>\n",
              "      <th>HMA</th>\n",
              "      <th>TEMA</th>\n",
              "      <th>CCI</th>\n",
              "      <th>CMO</th>\n",
              "      <th>MACD</th>\n",
              "      <th>PPO</th>\n",
              "      <th>ROC</th>\n",
              "      <th>CFI</th>\n",
              "      <th>DMI</th>\n",
              "      <th>SAR</th>\n",
              "      <th>triple_barrier_signal</th>\n",
              "    </tr>\n",
              "    <tr>\n",
              "      <th>Date</th>\n",
              "      <th></th>\n",
              "      <th></th>\n",
              "      <th></th>\n",
              "      <th></th>\n",
              "      <th></th>\n",
              "      <th></th>\n",
              "      <th></th>\n",
              "      <th></th>\n",
              "      <th></th>\n",
              "      <th></th>\n",
              "      <th></th>\n",
              "      <th></th>\n",
              "      <th></th>\n",
              "      <th></th>\n",
              "      <th></th>\n",
              "      <th></th>\n",
              "    </tr>\n",
              "  </thead>\n",
              "  <tbody>\n",
              "    <tr>\n",
              "      <th>2019-09-02</th>\n",
              "      <td>65.211685</td>\n",
              "      <td>-3.448221</td>\n",
              "      <td>81.687805</td>\n",
              "      <td>80.950204</td>\n",
              "      <td>80.684445</td>\n",
              "      <td>80.885001</td>\n",
              "      <td>81.603058</td>\n",
              "      <td>143.717155</td>\n",
              "      <td>27.500014</td>\n",
              "      <td>0.180702</td>\n",
              "      <td>0.223065</td>\n",
              "      <td>1.992526</td>\n",
              "      <td>-7.786882e+08</td>\n",
              "      <td>11.995912</td>\n",
              "      <td>79.594105</td>\n",
              "      <td>0</td>\n",
              "    </tr>\n",
              "    <tr>\n",
              "      <th>2019-09-03</th>\n",
              "      <td>53.807044</td>\n",
              "      <td>-27.586298</td>\n",
              "      <td>81.668293</td>\n",
              "      <td>81.000163</td>\n",
              "      <td>80.651111</td>\n",
              "      <td>81.275001</td>\n",
              "      <td>81.552079</td>\n",
              "      <td>96.940970</td>\n",
              "      <td>4.444377</td>\n",
              "      <td>0.171747</td>\n",
              "      <td>0.212018</td>\n",
              "      <td>2.266997</td>\n",
              "      <td>-7.770803e+08</td>\n",
              "      <td>3.011767</td>\n",
              "      <td>79.834694</td>\n",
              "      <td>0</td>\n",
              "    </tr>\n",
              "    <tr>\n",
              "      <th>2019-09-04</th>\n",
              "      <td>63.737814</td>\n",
              "      <td>-1.612756</td>\n",
              "      <td>81.674390</td>\n",
              "      <td>81.230130</td>\n",
              "      <td>80.621112</td>\n",
              "      <td>81.764999</td>\n",
              "      <td>81.962576</td>\n",
              "      <td>120.541026</td>\n",
              "      <td>19.626203</td>\n",
              "      <td>0.220213</td>\n",
              "      <td>0.271799</td>\n",
              "      <td>2.240203</td>\n",
              "      <td>-7.739082e+08</td>\n",
              "      <td>5.926209</td>\n",
              "      <td>80.051225</td>\n",
              "      <td>0</td>\n",
              "    </tr>\n",
              "    <tr>\n",
              "      <th>2019-09-05</th>\n",
              "      <td>70.324234</td>\n",
              "      <td>-5.063218</td>\n",
              "      <td>81.708536</td>\n",
              "      <td>81.584104</td>\n",
              "      <td>80.655556</td>\n",
              "      <td>81.850000</td>\n",
              "      <td>82.618155</td>\n",
              "      <td>164.641823</td>\n",
              "      <td>32.786852</td>\n",
              "      <td>0.295244</td>\n",
              "      <td>0.363960</td>\n",
              "      <td>2.722768</td>\n",
              "      <td>-7.673828e+08</td>\n",
              "      <td>21.704096</td>\n",
              "      <td>80.309077</td>\n",
              "      <td>0</td>\n",
              "    </tr>\n",
              "    <tr>\n",
              "      <th>2019-09-06</th>\n",
              "      <td>73.581167</td>\n",
              "      <td>-1.265899</td>\n",
              "      <td>81.757317</td>\n",
              "      <td>81.967283</td>\n",
              "      <td>81.045556</td>\n",
              "      <td>82.074999</td>\n",
              "      <td>83.251691</td>\n",
              "      <td>160.812962</td>\n",
              "      <td>73.333198</td>\n",
              "      <td>0.359984</td>\n",
              "      <td>0.442881</td>\n",
              "      <td>3.086420</td>\n",
              "      <td>-7.604778e+08</td>\n",
              "      <td>24.639314</td>\n",
              "      <td>80.713806</td>\n",
              "      <td>0</td>\n",
              "    </tr>\n",
              "  </tbody>\n",
              "</table>\n",
              "</div>"
            ],
            "text/plain": [
              "                  RSI  Williams %R  ...        SAR  triple_barrier_signal\n",
              "Date                                ...                                  \n",
              "2019-09-02  65.211685    -3.448221  ...  79.594105                      0\n",
              "2019-09-03  53.807044   -27.586298  ...  79.834694                      0\n",
              "2019-09-04  63.737814    -1.612756  ...  80.051225                      0\n",
              "2019-09-05  70.324234    -5.063218  ...  80.309077                      0\n",
              "2019-09-06  73.581167    -1.265899  ...  80.713806                      0\n",
              "\n",
              "[5 rows x 16 columns]"
            ]
          },
          "metadata": {
            "tags": []
          },
          "execution_count": 24
        }
      ]
    },
    {
      "cell_type": "markdown",
      "metadata": {
        "id": "YSh6cJBEwgtg",
        "colab_type": "text"
      },
      "source": [
        "# 相關性分析"
      ]
    },
    {
      "cell_type": "code",
      "metadata": {
        "id": "hKy0pMZfLKEH",
        "colab_type": "code",
        "outputId": "eec57adb-de3d-4350-8273-fc2636d1b2f0",
        "colab": {
          "base_uri": "https://localhost:8080/",
          "height": 812
        }
      },
      "source": [
        "import seaborn as sns\n",
        "import matplotlib.pyplot as plt\n",
        "plt.figure(figsize=(14,12))\n",
        "sns.heatmap(abs(df.corr()),annot=True,linewidths=0.1)"
      ],
      "execution_count": 25,
      "outputs": [
        {
          "output_type": "execute_result",
          "data": {
            "text/plain": [
              "<matplotlib.axes._subplots.AxesSubplot at 0x7f11536d3940>"
            ]
          },
          "metadata": {
            "tags": []
          },
          "execution_count": 25
        },
        {
          "output_type": "display_data",
          "data": {
            "image/png": "[encoded data removed]",
            "text/plain": [
              "<Figure size 1008x864 with 2 Axes>"
            ]
          },
          "metadata": {
            "tags": []
          }
        }
      ]
    },
    {
      "cell_type": "markdown",
      "metadata": {
        "id": "c68TXVQaqGl3",
        "colab_type": "text"
      },
      "source": [
        "# features scaling"
      ]
    },
    {
      "cell_type": "code",
      "metadata": {
        "id": "JpZPZWfJqGuo",
        "colab_type": "code",
        "outputId": "838e3fa0-2f43-4688-f961-28261fe2b9ca",
        "colab": {
          "base_uri": "https://localhost:8080/",
          "height": 352
        }
      },
      "source": [
        "from sklearn.preprocessing import MinMaxScaler\n",
        "min_max_scaler = MinMaxScaler()\n",
        "df_minmax = min_max_scaler.fit_transform(df)#縮放到0-1之間\n",
        "df_minmax = pd.DataFrame(df_minmax,\n",
        "                         index = df.index,\n",
        "                         columns = df.columns)#轉回dataframe格式\n",
        "df_minmax[y_name] = df[y_name]#y不用MinMaxScaler\n",
        "df_minmax.tail()"
      ],
      "execution_count": 26,
      "outputs": [
        {
          "output_type": "execute_result",
          "data": {
            "text/html": [
              "<div>\n",
              "<style scoped>\n",
              "    .dataframe tbody tr th:only-of-type {\n",
              "        vertical-align: middle;\n",
              "    }\n",
              "\n",
              "    .dataframe tbody tr th {\n",
              "        vertical-align: top;\n",
              "    }\n",
              "\n",
              "    .dataframe thead th {\n",
              "        text-align: right;\n",
              "    }\n",
              "</style>\n",
              "<table border=\"1\" class=\"dataframe\">\n",
              "  <thead>\n",
              "    <tr style=\"text-align: right;\">\n",
              "      <th></th>\n",
              "      <th>RSI</th>\n",
              "      <th>Williams %R</th>\n",
              "      <th>SMA</th>\n",
              "      <th>EMA</th>\n",
              "      <th>WMA</th>\n",
              "      <th>HMA</th>\n",
              "      <th>TEMA</th>\n",
              "      <th>CCI</th>\n",
              "      <th>CMO</th>\n",
              "      <th>MACD</th>\n",
              "      <th>PPO</th>\n",
              "      <th>ROC</th>\n",
              "      <th>CFI</th>\n",
              "      <th>DMI</th>\n",
              "      <th>SAR</th>\n",
              "      <th>triple_barrier_signal</th>\n",
              "    </tr>\n",
              "    <tr>\n",
              "      <th>Date</th>\n",
              "      <th></th>\n",
              "      <th></th>\n",
              "      <th></th>\n",
              "      <th></th>\n",
              "      <th></th>\n",
              "      <th></th>\n",
              "      <th></th>\n",
              "      <th></th>\n",
              "      <th></th>\n",
              "      <th></th>\n",
              "      <th></th>\n",
              "      <th></th>\n",
              "      <th></th>\n",
              "      <th></th>\n",
              "      <th></th>\n",
              "      <th></th>\n",
              "    </tr>\n",
              "  </thead>\n",
              "  <tbody>\n",
              "    <tr>\n",
              "      <th>2019-09-02</th>\n",
              "      <td>0.688088</td>\n",
              "      <td>0.965518</td>\n",
              "      <td>0.922505</td>\n",
              "      <td>0.895615</td>\n",
              "      <td>0.884895</td>\n",
              "      <td>0.880382</td>\n",
              "      <td>0.887433</td>\n",
              "      <td>0.825551</td>\n",
              "      <td>0.632969</td>\n",
              "      <td>0.644396</td>\n",
              "      <td>0.530102</td>\n",
              "      <td>0.611722</td>\n",
              "      <td>0.098273</td>\n",
              "      <td>0.703243</td>\n",
              "      <td>0.854520</td>\n",
              "      <td>0</td>\n",
              "    </tr>\n",
              "    <tr>\n",
              "      <th>2019-09-03</th>\n",
              "      <td>0.559303</td>\n",
              "      <td>0.724137</td>\n",
              "      <td>0.922141</td>\n",
              "      <td>0.896506</td>\n",
              "      <td>0.884312</td>\n",
              "      <td>0.887075</td>\n",
              "      <td>0.886568</td>\n",
              "      <td>0.721281</td>\n",
              "      <td>0.516250</td>\n",
              "      <td>0.639028</td>\n",
              "      <td>0.527639</td>\n",
              "      <td>0.617918</td>\n",
              "      <td>0.099904</td>\n",
              "      <td>0.658039</td>\n",
              "      <td>0.858495</td>\n",
              "      <td>0</td>\n",
              "    </tr>\n",
              "    <tr>\n",
              "      <th>2019-09-04</th>\n",
              "      <td>0.671445</td>\n",
              "      <td>0.983872</td>\n",
              "      <td>0.922255</td>\n",
              "      <td>0.900609</td>\n",
              "      <td>0.883787</td>\n",
              "      <td>0.895485</td>\n",
              "      <td>0.893530</td>\n",
              "      <td>0.773889</td>\n",
              "      <td>0.593108</td>\n",
              "      <td>0.668083</td>\n",
              "      <td>0.540967</td>\n",
              "      <td>0.617313</td>\n",
              "      <td>0.103121</td>\n",
              "      <td>0.672703</td>\n",
              "      <td>0.862072</td>\n",
              "      <td>0</td>\n",
              "    </tr>\n",
              "    <tr>\n",
              "      <th>2019-09-05</th>\n",
              "      <td>0.745821</td>\n",
              "      <td>0.949368</td>\n",
              "      <td>0.922892</td>\n",
              "      <td>0.906925</td>\n",
              "      <td>0.884390</td>\n",
              "      <td>0.896944</td>\n",
              "      <td>0.904649</td>\n",
              "      <td>0.872195</td>\n",
              "      <td>0.659734</td>\n",
              "      <td>0.713064</td>\n",
              "      <td>0.561514</td>\n",
              "      <td>0.628207</td>\n",
              "      <td>0.109738</td>\n",
              "      <td>0.752090</td>\n",
              "      <td>0.866332</td>\n",
              "      <td>0</td>\n",
              "    </tr>\n",
              "    <tr>\n",
              "      <th>2019-09-06</th>\n",
              "      <td>0.782600</td>\n",
              "      <td>0.987341</td>\n",
              "      <td>0.923802</td>\n",
              "      <td>0.913761</td>\n",
              "      <td>0.891212</td>\n",
              "      <td>0.900805</td>\n",
              "      <td>0.915394</td>\n",
              "      <td>0.863660</td>\n",
              "      <td>0.864999</td>\n",
              "      <td>0.751875</td>\n",
              "      <td>0.579110</td>\n",
              "      <td>0.636416</td>\n",
              "      <td>0.116741</td>\n",
              "      <td>0.766859</td>\n",
              "      <td>0.873018</td>\n",
              "      <td>0</td>\n",
              "    </tr>\n",
              "  </tbody>\n",
              "</table>\n",
              "</div>"
            ],
            "text/plain": [
              "                 RSI  Williams %R  ...       SAR  triple_barrier_signal\n",
              "Date                               ...                                 \n",
              "2019-09-02  0.688088     0.965518  ...  0.854520                      0\n",
              "2019-09-03  0.559303     0.724137  ...  0.858495                      0\n",
              "2019-09-04  0.671445     0.983872  ...  0.862072                      0\n",
              "2019-09-05  0.745821     0.949368  ...  0.866332                      0\n",
              "2019-09-06  0.782600     0.987341  ...  0.873018                      0\n",
              "\n",
              "[5 rows x 16 columns]"
            ]
          },
          "metadata": {
            "tags": []
          },
          "execution_count": 26
        }
      ]
    },
    {
      "cell_type": "code",
      "metadata": {
        "id": "5MCZDpBgrrQQ",
        "colab_type": "code",
        "outputId": "861a7d10-a748-4d4d-ccc2-ceebeec91f5a",
        "colab": {
          "base_uri": "https://localhost:8080/",
          "height": 35
        }
      },
      "source": [
        "df = df_minmax\n",
        "print('特徵縮放完成!')"
      ],
      "execution_count": 27,
      "outputs": [
        {
          "output_type": "stream",
          "text": [
            "特徵縮放完成!\n"
          ],
          "name": "stdout"
        }
      ]
    },
    {
      "cell_type": "markdown",
      "metadata": {
        "id": "_kc7tvz_M7PO",
        "colab_type": "text"
      },
      "source": [
        "# Xs ,ys prepare"
      ]
    },
    {
      "cell_type": "code",
      "metadata": {
        "id": "2ZHvlRJ5Lzzu",
        "colab_type": "code",
        "outputId": "504f08ba-ae52-4416-ebb8-a38b590f4967",
        "colab": {
          "base_uri": "https://localhost:8080/",
          "height": 52
        }
      },
      "source": [
        "from tqdm import tqdm\n",
        "import numpy as np\n",
        "\n",
        "#定義觀察天數,起始index(0),結束index(資料筆數-觀察天數)\n",
        "days = 15\n",
        "b_index = 0\n",
        "f_index = len(df)-days\n",
        "\n",
        "#特徵欄位\n",
        "features = df.drop(y_name,axis=1).columns.tolist()\n",
        "\n",
        "#待存放序列\n",
        "Xs = []\n",
        "ys = []\n",
        "indexs = []\n",
        "\n",
        "'''\n",
        "若資料筆數100,days=15天,f_index=85,i只會跑到84,i+days=99,features只會跑到98天.\n",
        "若資料筆數100,days=15天,f_index=85+1,i會跑到85,i+days=100,features會跑到99天.\n",
        "'''\n",
        "for i in tqdm(range(b_index ,f_index+1 ,1)):#每次i都會遞增1\n",
        "  X = df.iloc[i:i+days,:][features] #ex:0...14(不含15)之features\n",
        "  y = df.iloc[i+days-1:i+days,:][y_name]#ex:14,y_name\n",
        "  X = np.array(X) # to np_array\n",
        "  Xs.append(X) #加入一筆X\n",
        "  ys.append(y) #加入一筆y\n",
        "  indexs.append((df.iloc[[i]].index,\n",
        "                 df.iloc[[i+days-1]].index)) #加入資料日期\n",
        "#轉換成np_array\n",
        "Xs = np.array(Xs)\n",
        "ys = np.array(ys)\n",
        "print('準備完成')"
      ],
      "execution_count": 28,
      "outputs": [
        {
          "output_type": "stream",
          "text": [
            "100%|██████████| 2780/2780 [00:08<00:00, 338.77it/s]\n"
          ],
          "name": "stderr"
        },
        {
          "output_type": "stream",
          "text": [
            "準備完成\n"
          ],
          "name": "stdout"
        }
      ]
    },
    {
      "cell_type": "markdown",
      "metadata": {
        "id": "a9iNRYKpNfIP",
        "colab_type": "text"
      },
      "source": [
        "# check"
      ]
    },
    {
      "cell_type": "code",
      "metadata": {
        "id": "7YiS6ZmtNfSf",
        "colab_type": "code",
        "outputId": "73e7371e-eab6-4b6f-ce5b-de01b46c06f6",
        "colab": {
          "base_uri": "https://localhost:8080/",
          "height": 70
        }
      },
      "source": [
        "print('資料筆數:',len(Xs))\n",
        "print('第一筆的index開始和結束:{}-{}'.format(indexs[0][0].date[0],indexs[0][1].date[0]))\n",
        "print('最後一筆的index開始和結束:{}-{}'.format(indexs[-1][0].date[0],indexs[-1][1].date[0]))"
      ],
      "execution_count": 29,
      "outputs": [
        {
          "output_type": "stream",
          "text": [
            "資料筆數: 2780\n",
            "第一筆的index開始和結束:2008-05-08-2008-05-28\n",
            "最後一筆的index開始和結束:2019-08-16-2019-09-06\n"
          ],
          "name": "stdout"
        }
      ]
    },
    {
      "cell_type": "markdown",
      "metadata": {
        "id": "Pabl4tEsXYB8",
        "colab_type": "text"
      },
      "source": [
        "# Reshape X"
      ]
    },
    {
      "cell_type": "markdown",
      "metadata": {
        "id": "RvUPQWb1An8u",
        "colab_type": "text"
      },
      "source": [
        "(圖片數量,長,寬,1張)"
      ]
    },
    {
      "cell_type": "code",
      "metadata": {
        "id": "In4R0IcSPDwG",
        "colab_type": "code",
        "outputId": "8ec9c290-f6de-4a20-fb05-b244a6bf7efc",
        "colab": {
          "base_uri": "https://localhost:8080/",
          "height": 52
        }
      },
      "source": [
        "print(Xs.shape)\n",
        "Xs = Xs.reshape(-1,days,len(features),1)\n",
        "print(Xs.shape)"
      ],
      "execution_count": 30,
      "outputs": [
        {
          "output_type": "stream",
          "text": [
            "(2780, 15, 15)\n",
            "(2780, 15, 15, 1)\n"
          ],
          "name": "stdout"
        }
      ]
    },
    {
      "cell_type": "markdown",
      "metadata": {
        "id": "lUy2cpReXaOV",
        "colab_type": "text"
      },
      "source": [
        "# One hot encoding of label"
      ]
    },
    {
      "cell_type": "markdown",
      "metadata": {
        "id": "hjDc-sStA1gk",
        "colab_type": "text"
      },
      "source": [
        "原始y代表漲幅"
      ]
    },
    {
      "cell_type": "code",
      "metadata": {
        "id": "6XGRdxmfWrfo",
        "colab_type": "code",
        "outputId": "5f9406c7-764d-4b98-e129-ef2a2682400f",
        "colab": {
          "base_uri": "https://localhost:8080/",
          "height": 248
        }
      },
      "source": [
        "print(ys.shape)\n",
        "print(ys[:5])\n",
        "\n",
        "from keras.utils.np_utils import to_categorical\n",
        "ys = to_categorical(ys, num_classes = 3)\n",
        "print(ys.shape)\n",
        "print(ys[:5])"
      ],
      "execution_count": 31,
      "outputs": [
        {
          "output_type": "stream",
          "text": [
            "(2780, 1)\n",
            "[[-1]\n",
            " [-1]\n",
            " [-1]\n",
            " [-1]\n",
            " [-1]]\n"
          ],
          "name": "stdout"
        },
        {
          "output_type": "stream",
          "text": [
            "Using TensorFlow backend.\n"
          ],
          "name": "stderr"
        },
        {
          "output_type": "stream",
          "text": [
            "(2780, 3)\n",
            "[[0. 0. 1.]\n",
            " [0. 0. 1.]\n",
            " [0. 0. 1.]\n",
            " [0. 0. 1.]\n",
            " [0. 0. 1.]]\n"
          ],
          "name": "stdout"
        }
      ]
    },
    {
      "cell_type": "markdown",
      "metadata": {
        "id": "TYcPI2TWBTpJ",
        "colab_type": "text"
      },
      "source": [
        "# Visualization"
      ]
    },
    {
      "cell_type": "code",
      "metadata": {
        "id": "ibNjBLRaBUJh",
        "colab_type": "code",
        "outputId": "d3187c3a-6b0b-44d6-abc9-48bf49942804",
        "colab": {
          "base_uri": "https://localhost:8080/",
          "height": 607
        }
      },
      "source": [
        "import matplotlib.pyplot as plt\n",
        "import matplotlib.image as mpimg\n",
        "%matplotlib inline\n",
        "Xs_v = Xs.reshape(-1,Xs.shape[1],Xs.shape[2])\n",
        "plt.figure(figsize=(10,10))\n",
        "plt.subplots_adjust(wspace =0, hspace =0.3)\n",
        "for i in range(0,9):\n",
        "    plt.subplot(330 + (i+1))\n",
        "    plt.imshow(Xs_v[i])\n",
        "    plt.title(np.argmax(ys[i]))"
      ],
      "execution_count": 32,
      "outputs": [
        {
          "output_type": "display_data",
          "data": {
            "image/png": "[encoded data removed]",
            "text/plain": [
              "<Figure size 720x720 with 9 Axes>"
            ]
          },
          "metadata": {
            "tags": []
          }
        }
      ]
    },
    {
      "cell_type": "markdown",
      "metadata": {
        "id": "5Oa6gYq_aVjE",
        "colab_type": "text"
      },
      "source": [
        "# Split training and validation sets"
      ]
    },
    {
      "cell_type": "code",
      "metadata": {
        "id": "OLHFbreckAlH",
        "colab_type": "code",
        "outputId": "be2e5582-2fd5-4be4-bf4f-56ed6e808b58",
        "colab": {
          "base_uri": "https://localhost:8080/",
          "height": 35
        }
      },
      "source": [
        "X_test = Xs[-40:] #最後40天features當作test資料\n",
        "X_train,y_train = Xs[:-40],ys[:-40] #其他當作訓練\n",
        "print(X_train.shape,y_train.shape,X_test.shape)"
      ],
      "execution_count": 33,
      "outputs": [
        {
          "output_type": "stream",
          "text": [
            "(2740, 15, 15, 1) (2740, 3) (40, 15, 15, 1)\n"
          ],
          "name": "stdout"
        }
      ]
    },
    {
      "cell_type": "code",
      "metadata": {
        "id": "MgsrVpYUYf5J",
        "colab_type": "code",
        "outputId": "805322cd-4e04-4077-b18a-285f22572695",
        "colab": {
          "base_uri": "https://localhost:8080/",
          "height": 35
        }
      },
      "source": [
        "from sklearn.model_selection import train_test_split\n",
        "xtrain, xval, ytrain, yval = train_test_split(X_train,\n",
        "                                              y_train, \n",
        "                                              test_size=0.2,\n",
        "                                              random_state=42,\n",
        "                                              shuffle=True,#是否洗牌\n",
        "                                              stratify=None #是否根據y欄位做分層取樣\n",
        "                                             )\n",
        "print(xtrain.shape, ytrain.shape, xval.shape, yval.shape)"
      ],
      "execution_count": 34,
      "outputs": [
        {
          "output_type": "stream",
          "text": [
            "(2192, 15, 15, 1) (2192, 3) (548, 15, 15, 1) (548, 3)\n"
          ],
          "name": "stdout"
        }
      ]
    },
    {
      "cell_type": "markdown",
      "metadata": {
        "id": "2xQOFrENMkSb",
        "colab_type": "text"
      },
      "source": [
        "# 看一下樣本的label分布情況是否平均(待解決)"
      ]
    },
    {
      "cell_type": "markdown",
      "metadata": {
        "id": "xnUz7A3tlfya",
        "colab_type": "text"
      },
      "source": [
        "0:Hold,1:Buy,2:Sell"
      ]
    },
    {
      "cell_type": "code",
      "metadata": {
        "id": "aA9SXiicML6Y",
        "colab_type": "code",
        "outputId": "81606562-a831-46cc-c053-9195604db621",
        "colab": {
          "base_uri": "https://localhost:8080/",
          "height": 88
        }
      },
      "source": [
        "pd.Series([np.argmax(i) for i in ys]).value_counts()"
      ],
      "execution_count": 35,
      "outputs": [
        {
          "output_type": "execute_result",
          "data": {
            "text/plain": [
              "0    1554\n",
              "2    1014\n",
              "1     212\n",
              "dtype: int64"
            ]
          },
          "metadata": {
            "tags": []
          },
          "execution_count": 35
        }
      ]
    },
    {
      "cell_type": "code",
      "metadata": {
        "id": "UIOBe8tVL5dV",
        "colab_type": "code",
        "outputId": "31466a75-9959-48a2-d3ce-6f7e8e3c4ccf",
        "colab": {
          "base_uri": "https://localhost:8080/",
          "height": 88
        }
      },
      "source": [
        "pd.Series([np.argmax(i) for i in ytrain]).value_counts()"
      ],
      "execution_count": 36,
      "outputs": [
        {
          "output_type": "execute_result",
          "data": {
            "text/plain": [
              "0    1217\n",
              "2     814\n",
              "1     161\n",
              "dtype: int64"
            ]
          },
          "metadata": {
            "tags": []
          },
          "execution_count": 36
        }
      ]
    },
    {
      "cell_type": "code",
      "metadata": {
        "id": "A235BZ6cMQ-S",
        "colab_type": "code",
        "outputId": "3132c690-0e37-4ce6-e89a-f0afe49a8bad",
        "colab": {
          "base_uri": "https://localhost:8080/",
          "height": 88
        }
      },
      "source": [
        "pd.Series([np.argmax(i) for i in yval]).value_counts()"
      ],
      "execution_count": 37,
      "outputs": [
        {
          "output_type": "execute_result",
          "data": {
            "text/plain": [
              "0    313\n",
              "2    184\n",
              "1     51\n",
              "dtype: int64"
            ]
          },
          "metadata": {
            "tags": []
          },
          "execution_count": 37
        }
      ]
    },
    {
      "cell_type": "markdown",
      "metadata": {
        "id": "m-oXz0FGarb1",
        "colab_type": "text"
      },
      "source": [
        "# CNN"
      ]
    },
    {
      "cell_type": "code",
      "metadata": {
        "id": "eWOsWp7_amoX",
        "colab_type": "code",
        "colab": {}
      },
      "source": [
        "from keras import backend as K\n",
        "from keras.models import Sequential\n",
        "from keras.layers import Dense, Dropout, Lambda, Flatten, BatchNormalization\n",
        "from keras.layers import Conv2D, MaxPool2D, AvgPool2D\n",
        "from keras.optimizers import Adam #做梯度下降的一種優化方法\n",
        "from keras.callbacks import ReduceLROnPlateau , EarlyStopping #減少學習速率 on Plateau"
      ],
      "execution_count": 0,
      "outputs": []
    },
    {
      "cell_type": "code",
      "metadata": {
        "id": "yd-csnW2auJS",
        "colab_type": "code",
        "outputId": "38bedda5-6c2e-423f-f76b-c550526da64c",
        "colab": {
          "base_uri": "https://localhost:8080/",
          "height": 766
        }
      },
      "source": [
        "model = Sequential()\n",
        "\n",
        "nclasses = 3 \n",
        "\n",
        "model.add(Conv2D(filters=32, kernel_size=(3,3), padding='same', activation='relu', input_shape=(15,15,1)))#15,15,32\n",
        "model.add(Conv2D(filters=64, kernel_size=(3,3), padding='same', activation='relu',))#15,15,64\n",
        "model.add(MaxPool2D(pool_size=(5,5)))# 3,3,64\n",
        "model.add(Flatten())#576\n",
        "model.add(Dropout(0.5))#288\n",
        "model.add(Dense(128, activation='relu'))#128\n",
        "model.add(Dropout(0.5))#64\n",
        "model.add(Dense(32, activation='relu'))#32\n",
        "model.add(Dropout(0.5))#16\n",
        "model.add(Dense(nclasses, activation='softmax'))#3\n",
        "model.summary()"
      ],
      "execution_count": 39,
      "outputs": [
        {
          "output_type": "stream",
          "text": [
            "WARNING:tensorflow:From /usr/local/lib/python3.6/dist-packages/keras/backend/tensorflow_backend.py:66: The name tf.get_default_graph is deprecated. Please use tf.compat.v1.get_default_graph instead.\n",
            "\n",
            "WARNING:tensorflow:From /usr/local/lib/python3.6/dist-packages/keras/backend/tensorflow_backend.py:541: The name tf.placeholder is deprecated. Please use tf.compat.v1.placeholder instead.\n",
            "\n",
            "WARNING:tensorflow:From /usr/local/lib/python3.6/dist-packages/keras/backend/tensorflow_backend.py:4432: The name tf.random_uniform is deprecated. Please use tf.random.uniform instead.\n",
            "\n",
            "WARNING:tensorflow:From /usr/local/lib/python3.6/dist-packages/keras/backend/tensorflow_backend.py:4267: The name tf.nn.max_pool is deprecated. Please use tf.nn.max_pool2d instead.\n",
            "\n",
            "WARNING:tensorflow:From /usr/local/lib/python3.6/dist-packages/keras/backend/tensorflow_backend.py:148: The name tf.placeholder_with_default is deprecated. Please use tf.compat.v1.placeholder_with_default instead.\n",
            "\n",
            "WARNING:tensorflow:From /usr/local/lib/python3.6/dist-packages/keras/backend/tensorflow_backend.py:3733: calling dropout (from tensorflow.python.ops.nn_ops) with keep_prob is deprecated and will be removed in a future version.\n",
            "Instructions for updating:\n",
            "Please use `rate` instead of `keep_prob`. Rate should be set to `rate = 1 - keep_prob`.\n",
            "Model: \"sequential_1\"\n",
            "_________________________________________________________________\n",
            "Layer (type)                 Output Shape              Param #   \n",
            "=================================================================\n",
            "conv2d_1 (Conv2D)            (None, 15, 15, 32)        320       \n",
            "_________________________________________________________________\n",
            "conv2d_2 (Conv2D)            (None, 15, 15, 64)        18496     \n",
            "_________________________________________________________________\n",
            "max_pooling2d_1 (MaxPooling2 (None, 3, 3, 64)          0         \n",
            "_________________________________________________________________\n",
            "flatten_1 (Flatten)          (None, 576)               0         \n",
            "_________________________________________________________________\n",
            "dropout_1 (Dropout)          (None, 576)               0         \n",
            "_________________________________________________________________\n",
            "dense_1 (Dense)              (None, 128)               73856     \n",
            "_________________________________________________________________\n",
            "dropout_2 (Dropout)          (None, 128)               0         \n",
            "_________________________________________________________________\n",
            "dense_2 (Dense)              (None, 32)                4128      \n",
            "_________________________________________________________________\n",
            "dropout_3 (Dropout)          (None, 32)                0         \n",
            "_________________________________________________________________\n",
            "dense_3 (Dense)              (None, 3)                 99        \n",
            "=================================================================\n",
            "Total params: 96,899\n",
            "Trainable params: 96,899\n",
            "Non-trainable params: 0\n",
            "_________________________________________________________________\n"
          ],
          "name": "stdout"
        }
      ]
    },
    {
      "cell_type": "code",
      "metadata": {
        "id": "8Z913AqUa8bJ",
        "colab_type": "code",
        "outputId": "7e03100f-4f66-452c-cb7f-bb1638f978a8",
        "colab": {
          "base_uri": "https://localhost:8080/",
          "height": 108
        }
      },
      "source": [
        "model.compile(optimizer=\"adam\", loss=\"categorical_crossentropy\", metrics=[\"accuracy\"])"
      ],
      "execution_count": 40,
      "outputs": [
        {
          "output_type": "stream",
          "text": [
            "WARNING:tensorflow:From /usr/local/lib/python3.6/dist-packages/keras/optimizers.py:793: The name tf.train.Optimizer is deprecated. Please use tf.compat.v1.train.Optimizer instead.\n",
            "\n",
            "WARNING:tensorflow:From /usr/local/lib/python3.6/dist-packages/keras/backend/tensorflow_backend.py:3576: The name tf.log is deprecated. Please use tf.math.log instead.\n",
            "\n"
          ],
          "name": "stdout"
        }
      ]
    },
    {
      "cell_type": "markdown",
      "metadata": {
        "id": "VORA4n9Lz9of",
        "colab_type": "text"
      },
      "source": [
        "# 優化器"
      ]
    },
    {
      "cell_type": "code",
      "metadata": {
        "id": "Kw_j4R4Da_To",
        "colab_type": "code",
        "colab": {}
      },
      "source": [
        "#1\n",
        "lr_reduction = ReduceLROnPlateau(monitor = 'val_acc', \n",
        "                                 factor=0.5, \n",
        "                                 patience = 3, \n",
        "                                 verbose = 1, \n",
        "                                 min_lr = 0.00001)\n",
        "\n",
        "#2\n",
        "es = EarlyStopping(monitor='val_acc',#驗證集acc\n",
        "                   min_delta=0, \n",
        "                   patience=50,  \n",
        "                   mode='max',\n",
        "                   restore_best_weights=False)#恢復最佳權重"
      ],
      "execution_count": 0,
      "outputs": []
    },
    {
      "cell_type": "markdown",
      "metadata": {
        "id": "aevlVsI9Lk9a",
        "colab_type": "text"
      },
      "source": [
        "# fit"
      ]
    },
    {
      "cell_type": "code",
      "metadata": {
        "id": "TJJR7Yg-bHac",
        "colab_type": "code",
        "outputId": "eea06993-23e4-4792-8334-ae45d127e4dd",
        "colab": {
          "base_uri": "https://localhost:8080/",
          "height": 90
        }
      },
      "source": [
        "history = model.fit(xtrain,ytrain,\n",
        "                    batch_size = 128,\n",
        "                    epochs = 500,\n",
        "                    validation_data=(xval,yval),\n",
        "                    verbose=0,callbacks=[es])"
      ],
      "execution_count": 42,
      "outputs": [
        {
          "output_type": "stream",
          "text": [
            "WARNING:tensorflow:From /usr/local/lib/python3.6/dist-packages/tensorflow/python/ops/math_grad.py:1250: add_dispatch_support.<locals>.wrapper (from tensorflow.python.ops.array_ops) is deprecated and will be removed in a future version.\n",
            "Instructions for updating:\n",
            "Use tf.where in 2.0, which has the same broadcast rule as np.where\n"
          ],
          "name": "stdout"
        }
      ]
    },
    {
      "cell_type": "markdown",
      "metadata": {
        "id": "xQ2Koxsz0Zun",
        "colab_type": "text"
      },
      "source": [
        "# 訓練過程評估"
      ]
    },
    {
      "cell_type": "code",
      "metadata": {
        "id": "2SxJIEDzbaZ7",
        "colab_type": "code",
        "outputId": "8e57527f-919b-4dc4-8ab0-74e9e17c79f9",
        "colab": {
          "base_uri": "https://localhost:8080/",
          "height": 269
        }
      },
      "source": [
        "import matplotlib.pyplot as plt\n",
        "fig, ax = plt.subplots(2,1)\n",
        "ax[0].plot(history.history['loss'], color='b', label=\"Training loss\")\n",
        "ax[0].plot(history.history['val_loss'], color='r', label=\"Validation loss\",axes =ax[0])\n",
        "ax[0].grid(color='black', linestyle='-', linewidth=0.25)\n",
        "legend = ax[0].legend(loc='best', shadow=True)\n",
        "\n",
        "ax[1].plot(history.history['acc'], color='b', label=\"Training accuracy\")\n",
        "ax[1].plot(history.history['val_acc'], color='r',label=\"Validation accuracy\")\n",
        "ax[1].grid(color='black', linestyle='-', linewidth=0.25)\n",
        "legend = ax[1].legend(loc='best', shadow=True)"
      ],
      "execution_count": 43,
      "outputs": [
        {
          "output_type": "display_data",
          "data": {
            "image/png": "[encoded data removed]",
            "text/plain": [
              "<Figure size 432x288 with 2 Axes>"
            ]
          },
          "metadata": {
            "tags": []
          }
        }
      ]
    },
    {
      "cell_type": "markdown",
      "metadata": {
        "id": "zWVmgHz80cCp",
        "colab_type": "text"
      },
      "source": [
        "# 混淆矩陣"
      ]
    },
    {
      "cell_type": "code",
      "metadata": {
        "id": "UH5CcmX6btme",
        "colab_type": "code",
        "outputId": "1eadea64-6a9f-4427-b7f7-0ff269d6c0d4",
        "colab": {
          "base_uri": "https://localhost:8080/",
          "height": 311
        }
      },
      "source": [
        "from sklearn.metrics import confusion_matrix\n",
        "import itertools\n",
        "\n",
        "def plot_confusion_matrix(cm, classes, normalize=False, title='Confusion matrix', cmap=plt.cm.Blues):\n",
        "    plt.imshow(cm, interpolation='nearest', cmap=cmap)\n",
        "    plt.title(title)\n",
        "    plt.colorbar()\n",
        "    tick_marks = np.arange(len(classes))\n",
        "    plt.xticks(tick_marks, classes, rotation=45)\n",
        "    plt.yticks(tick_marks, classes)\n",
        "    if normalize:\n",
        "        cm = cm.astype('float') / cm.sum(axis=1)[:, np.newaxis]\n",
        "    thresh = cm.max() / 2.\n",
        "    for i, j in itertools.product(range(cm.shape[0]), range(cm.shape[1])):\n",
        "        plt.text(j, i, cm[i, j],\n",
        "                 horizontalalignment=\"center\",\n",
        "                 color=\"white\" if cm[i, j] > thresh else \"black\")\n",
        "    plt.tight_layout()\n",
        "    plt.ylabel('True label')\n",
        "    plt.xlabel('Predicted label')\n",
        "\n",
        "#預測的y\n",
        "ypred_onehot = model.predict(xval)\n",
        "#轉換預測的y: [0 0 1 0 0 ...] --> 2\n",
        "ypred = np.argmax(ypred_onehot,axis=1)\n",
        "#轉換真實的y\n",
        "ytrue = np.argmax(yval,axis=1)\n",
        "#計算 confusion matrix\n",
        "confusion_mtx = confusion_matrix(ytrue, ypred)\n",
        "#畫出 confusion matrix\n",
        "plot_confusion_matrix(confusion_mtx, classes=range(nclasses))"
      ],
      "execution_count": 44,
      "outputs": [
        {
          "output_type": "display_data",
          "data": {
            "image/png": "[encoded data removed]",
            "text/plain": [
              "<Figure size 432x288 with 2 Axes>"
            ]
          },
          "metadata": {
            "tags": []
          }
        }
      ]
    },
    {
      "cell_type": "markdown",
      "metadata": {
        "id": "PmgafP2rpjAO",
        "colab_type": "text"
      },
      "source": [
        "# 分類report"
      ]
    },
    {
      "cell_type": "markdown",
      "metadata": {
        "id": "zXQ8o9mj1Ydh",
        "colab_type": "text"
      },
      "source": [
        "轉換預測結果"
      ]
    },
    {
      "cell_type": "code",
      "metadata": {
        "id": "lCSuw9cYqEYk",
        "colab_type": "code",
        "outputId": "5c49a733-5702-40a5-cd87-91487fc0dddf",
        "colab": {
          "base_uri": "https://localhost:8080/",
          "height": 106
        }
      },
      "source": [
        "y_pred = model.predict(xval)\n",
        "y_pred = [np.argmax(i) for i in y_pred]\n",
        "y_pred = to_categorical(y_pred, num_classes = 3)\n",
        "print(y_pred[:5])"
      ],
      "execution_count": 45,
      "outputs": [
        {
          "output_type": "stream",
          "text": [
            "[[1. 0. 0.]\n",
            " [1. 0. 0.]\n",
            " [1. 0. 0.]\n",
            " [0. 0. 1.]\n",
            " [1. 0. 0.]]\n"
          ],
          "name": "stdout"
        }
      ]
    },
    {
      "cell_type": "markdown",
      "metadata": {
        "id": "XrHrpsVb1avA",
        "colab_type": "text"
      },
      "source": [
        "真實y值"
      ]
    },
    {
      "cell_type": "code",
      "metadata": {
        "id": "T2tyxRdo1Mqm",
        "colab_type": "code",
        "outputId": "b11db6e5-ae55-4fe3-b6cd-a4500144cb90",
        "colab": {
          "base_uri": "https://localhost:8080/",
          "height": 106
        }
      },
      "source": [
        "print(yval[:5])"
      ],
      "execution_count": 46,
      "outputs": [
        {
          "output_type": "stream",
          "text": [
            "[[0. 0. 1.]\n",
            " [0. 1. 0.]\n",
            " [1. 0. 0.]\n",
            " [1. 0. 0.]\n",
            " [1. 0. 0.]]\n"
          ],
          "name": "stdout"
        }
      ]
    },
    {
      "cell_type": "markdown",
      "metadata": {
        "id": "wztZOw2r1ddE",
        "colab_type": "text"
      },
      "source": [
        "# 分類報告"
      ]
    },
    {
      "cell_type": "code",
      "metadata": {
        "id": "vzMaU-Y8pjJT",
        "colab_type": "code",
        "outputId": "f1f0fe92-69ff-403e-d314-1532d916f13d",
        "colab": {
          "base_uri": "https://localhost:8080/",
          "height": 212
        }
      },
      "source": [
        "from sklearn.metrics import classification_report \n",
        "target_names = ['Hold','BUY','SELL']\n",
        "print(classification_report(yval,y_pred,target_names=target_names))"
      ],
      "execution_count": 47,
      "outputs": [
        {
          "output_type": "stream",
          "text": [
            "              precision    recall  f1-score   support\n",
            "\n",
            "        Hold       0.89      0.95      0.92       313\n",
            "         BUY       0.85      0.76      0.80        51\n",
            "        SELL       0.90      0.83      0.86       184\n",
            "\n",
            "   micro avg       0.89      0.89      0.89       548\n",
            "   macro avg       0.88      0.85      0.86       548\n",
            "weighted avg       0.89      0.89      0.89       548\n",
            " samples avg       0.89      0.89      0.89       548\n",
            "\n"
          ],
          "name": "stdout"
        }
      ]
    },
    {
      "cell_type": "markdown",
      "metadata": {
        "id": "n-KXEoZLb9ie",
        "colab_type": "text"
      },
      "source": [
        "# plot error"
      ]
    },
    {
      "cell_type": "code",
      "metadata": {
        "id": "nCW5Xvtrb0fC",
        "colab_type": "code",
        "outputId": "38dda33c-b248-4543-f970-3b36859b6c98",
        "colab": {
          "base_uri": "https://localhost:8080/",
          "height": 293
        }
      },
      "source": [
        "errors = (ypred - ytrue != 0)\n",
        "\n",
        "ypred_er = ypred_onehot[errors]\n",
        "ypred_classes_er = ypred[errors]\n",
        "ytrue_er = ytrue[errors]\n",
        "xval_er = xval[errors]\n",
        "\n",
        "def display_errors(errors_index, img_errors, pred_errors, obs_errors):\n",
        "    n = 0\n",
        "    nrows = 2\n",
        "    ncols = 3\n",
        "    fig, ax = plt.subplots(nrows, ncols, sharex=True, sharey=True)\n",
        "    plt.subplots_adjust(wspace =0.5, hspace =0.5)\n",
        "    for row in range(nrows):\n",
        "        for col in range(ncols):\n",
        "            error = errors_index[n]\n",
        "            ax[row,col].imshow((img_errors[error]).reshape((days,len(features))))\n",
        "            ax[row,col].set_title(\"Predicted label :{}\\nTrue label :{}\".format(pred_errors[error],obs_errors[error]))\n",
        "            n += 1\n",
        "            \n",
        "# 錯誤預測的概率\n",
        "ypred_er_prob = np.max(ypred_er,axis=1)\n",
        "\n",
        "# Predicted probabilities of the true values in the error set\n",
        "true_prob_er = np.diagonal(np.take(ypred_er, ytrue_er, axis=1))\n",
        "\n",
        "# Difference between the probability of the predicted label and the true label\n",
        "delta_pred_true_er = ypred_er_prob - true_prob_er\n",
        "\n",
        "# Sorted list of the delta prob errors\n",
        "sorted_delta_er = np.argsort(delta_pred_true_er)\n",
        "\n",
        "# Top 6 errors. You can change the range to see other images\n",
        "most_important_er = sorted_delta_er[-6:]\n",
        "\n",
        "# Show the top 6 errors\n",
        "display_errors(most_important_er, xval_er, ypred_classes_er, ytrue_er)"
      ],
      "execution_count": 48,
      "outputs": [
        {
          "output_type": "display_data",
          "data": {
            "image/png": "[encoded data removed]",
            "text/plain": [
              "<Figure size 432x288 with 6 Axes>"
            ]
          },
          "metadata": {
            "tags": []
          }
        }
      ]
    },
    {
      "cell_type": "markdown",
      "metadata": {
        "id": "togdM5Afo71w",
        "colab_type": "text"
      },
      "source": [
        "## 預測最後40筆"
      ]
    },
    {
      "cell_type": "code",
      "metadata": {
        "id": "kQqzNPdQo8GW",
        "colab_type": "code",
        "outputId": "e92bd550-2cab-4241-c126-5651dd641da0",
        "colab": {
          "base_uri": "https://localhost:8080/",
          "height": 35
        }
      },
      "source": [
        "answer = model.predict(X_test)\n",
        "answer = [ np.argmax(i) for i in answer]\n",
        "print(len(answer))"
      ],
      "execution_count": 49,
      "outputs": [
        {
          "output_type": "stream",
          "text": [
            "40\n"
          ],
          "name": "stdout"
        }
      ]
    },
    {
      "cell_type": "markdown",
      "metadata": {
        "id": "FOBO-SgaBHMx",
        "colab_type": "text"
      },
      "source": [
        "# 0~20筆"
      ]
    },
    {
      "cell_type": "code",
      "metadata": {
        "id": "YHzRjtab0pr-",
        "colab_type": "code",
        "outputId": "c14ed411-e611-42e9-f018-43c255296e27",
        "colab": {
          "base_uri": "https://localhost:8080/",
          "height": 335
        }
      },
      "source": [
        "INDEX60 = df[-60:].index\n",
        "C = web.DataReader(SID,'yahoo',start=\"2000-01-01\")[['Close']]\n",
        "C = C.loc[INDEX60,:]\n",
        "C['SIGNAL'] = [np.nan for _ in range(20)] + answer #20個NAN+預測答案\n",
        "buy = C[C['SIGNAL']==1]['Close']\n",
        "sell = C[C['SIGNAL']==2]['Close']\n",
        "C['Close'][20:40].plot()\n",
        "plt.scatter(list(buy.index),list(buy.values),color='red',marker=\"^\")\n",
        "plt.scatter(list(sell.index),list(sell.values),color='black')"
      ],
      "execution_count": 50,
      "outputs": [
        {
          "output_type": "execute_result",
          "data": {
            "text/plain": [
              "<matplotlib.collections.PathCollection at 0x7f10cb5c04e0>"
            ]
          },
          "metadata": {
            "tags": []
          },
          "execution_count": 50
        },
        {
          "output_type": "display_data",
          "data": {
            "image/png": "[encoded data removed]",
            "text/plain": [
              "<Figure size 432x288 with 1 Axes>"
            ]
          },
          "metadata": {
            "tags": []
          }
        }
      ]
    },
    {
      "cell_type": "markdown",
      "metadata": {
        "id": "NpYwUgdJBKWR",
        "colab_type": "text"
      },
      "source": [
        "# 20~40筆"
      ]
    },
    {
      "cell_type": "code",
      "metadata": {
        "id": "9AZQa4zj2Psu",
        "colab_type": "code",
        "outputId": "c86bf80b-e29f-452e-b06b-39bdce31c86c",
        "colab": {
          "base_uri": "https://localhost:8080/",
          "height": 307
        }
      },
      "source": [
        "C['Close'][40:60].plot()\n",
        "plt.scatter(list(buy.index),list(buy.values),color='red',marker=\"^\")\n",
        "plt.scatter(list(sell.index),list(sell.values),color='black')"
      ],
      "execution_count": 51,
      "outputs": [
        {
          "output_type": "execute_result",
          "data": {
            "text/plain": [
              "<matplotlib.collections.PathCollection at 0x7f10cb35ec18>"
            ]
          },
          "metadata": {
            "tags": []
          },
          "execution_count": 51
        },
        {
          "output_type": "display_data",
          "data": {
            "image/png": "[encoded data removed]",
            "text/plain": [
              "<Figure size 432x288 with 1 Axes>"
            ]
          },
          "metadata": {
            "tags": []
          }
        }
      ]
    },
    {
      "cell_type": "markdown",
      "metadata": {
        "id": "j3i8j1ewAtDU",
        "colab_type": "text"
      },
      "source": [
        "# 合併"
      ]
    },
    {
      "cell_type": "code",
      "metadata": {
        "id": "y-RBxkc38C1a",
        "colab_type": "code",
        "outputId": "81cf3f59-c697-416d-dad6-078fb57f96d9",
        "colab": {
          "base_uri": "https://localhost:8080/",
          "height": 307
        }
      },
      "source": [
        "C['Close'][20:60].plot()\n",
        "plt.scatter(list(buy.index),list(buy.values),color='red',marker=\"^\")\n",
        "plt.scatter(list(sell.index),list(sell.values),color='black')"
      ],
      "execution_count": 52,
      "outputs": [
        {
          "output_type": "execute_result",
          "data": {
            "text/plain": [
              "<matplotlib.collections.PathCollection at 0x7f10cb5515c0>"
            ]
          },
          "metadata": {
            "tags": []
          },
          "execution_count": 52
        },
        {
          "output_type": "display_data",
          "data": {
            "image/png": "[encoded data removed]",
            "text/plain": [
              "<Figure size 432x288 with 1 Axes>"
            ]
          },
          "metadata": {
            "tags": []
          }
        }
      ]
    },
    {
      "cell_type": "markdown",
      "metadata": {
        "id": "WWVaZwDKF_lr",
        "colab_type": "text"
      },
      "source": [
        "# 平滑版本"
      ]
    },
    {
      "cell_type": "code",
      "metadata": {
        "id": "OUO9oF7sAvmH",
        "colab_type": "code",
        "outputId": "f77952a3-72d0-495d-cf9e-26fd5b294b52",
        "colab": {
          "base_uri": "https://localhost:8080/",
          "height": 307
        }
      },
      "source": [
        "C_roll20 = pd.DataFrame(index=C.index)#空的dataframe index = 倒數60天股票日期\n",
        "C_roll20['Close'] = C['Close'].rolling(20).mean()#收盤價做20天平滑\n",
        "C_roll20['SIGNAL'] = C['SIGNAL']\n",
        "buy = C_roll20[C_roll20['SIGNAL']==1]['Close']#買點\n",
        "sell= C_roll20[C_roll20['SIGNAL']==2]['Close']#賣點\n",
        "C_roll20['Close'][20:].plot()\n",
        "plt.scatter(list(buy.index),list(buy.values),color='red',marker=\"^\")\n",
        "plt.scatter(list(sell.index),list(sell.values),color='black')"
      ],
      "execution_count": 53,
      "outputs": [
        {
          "output_type": "execute_result",
          "data": {
            "text/plain": [
              "<matplotlib.collections.PathCollection at 0x7f10cb532eb8>"
            ]
          },
          "metadata": {
            "tags": []
          },
          "execution_count": 53
        },
        {
          "output_type": "display_data",
          "data": {
            "image/png": "[encoded data removed]",
            "text/plain": [
              "<Figure size 432x288 with 1 Axes>"
            ]
          },
          "metadata": {
            "tags": []
          }
        }
      ]
    },
    {
      "cell_type": "code",
      "metadata": {
        "id": "UIeUpfe4GzRI",
        "colab_type": "code",
        "colab": {}
      },
      "source": [
        ""
      ],
      "execution_count": 0,
      "outputs": []
    }
  ]
}