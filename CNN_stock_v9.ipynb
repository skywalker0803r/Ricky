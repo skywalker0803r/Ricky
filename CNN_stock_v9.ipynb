{
  "nbformat": 4,
  "nbformat_minor": 0,
  "metadata": {
    "colab": {
      "name": "CNN_stock.ipynb",
      "version": "0.3.2",
      "provenance": [],
      "collapsed_sections": [],
      "include_colab_link": true
    },
    "kernelspec": {
      "name": "python3",
      "display_name": "Python 3"
    },
    "accelerator": "GPU"
  },
  "cells": [
    {
      "cell_type": "markdown",
      "metadata": {
        "id": "view-in-github",
        "colab_type": "text"
      },
      "source": [
        "<a href=\"https://colab.research.google.com/github/skywalker0803r/Ricky/blob/master/CNN_stock_v9.ipynb\" target=\"_parent\"><img src=\"https://colab.research.google.com/assets/colab-badge.svg\" alt=\"Open In Colab\"/></a>"
      ]
    },
    {
      "cell_type": "code",
      "metadata": {
        "id": "g7NPpY26_qJm",
        "colab_type": "code",
        "colab": {}
      },
      "source": [
        "import pandas as pd\n",
        "import seaborn as sns\n",
        "import pandas_datareader.data as web\n",
        "#!pip install finta\n",
        "SID = '0050.tw'\n",
        "df = web.DataReader(SID,'yahoo',start=\"2000-01-01\")\n",
        "df = df.iloc[:,:5]"
      ],
      "execution_count": 0,
      "outputs": []
    },
    {
      "cell_type": "markdown",
      "metadata": {
        "id": "6vaRLIuvJlZ7",
        "colab_type": "text"
      },
      "source": [
        "# 載入資料"
      ]
    },
    {
      "cell_type": "code",
      "metadata": {
        "id": "kRKHlNGl_7JV",
        "colab_type": "code",
        "outputId": "edc873fa-8688-45e6-e11b-ec3817cbc886",
        "colab": {
          "base_uri": "https://localhost:8080/",
          "height": 187
        }
      },
      "source": [
        "print(df.shape)\n",
        "df.head(3)"
      ],
      "execution_count": 2,
      "outputs": [
        {
          "output_type": "stream",
          "text": [
            "(2877, 5)\n"
          ],
          "name": "stdout"
        },
        {
          "output_type": "execute_result",
          "data": {
            "text/html": [
              "<div>\n",
              "<style scoped>\n",
              "    .dataframe tbody tr th:only-of-type {\n",
              "        vertical-align: middle;\n",
              "    }\n",
              "\n",
              "    .dataframe tbody tr th {\n",
              "        vertical-align: top;\n",
              "    }\n",
              "\n",
              "    .dataframe thead th {\n",
              "        text-align: right;\n",
              "    }\n",
              "</style>\n",
              "<table border=\"1\" class=\"dataframe\">\n",
              "  <thead>\n",
              "    <tr style=\"text-align: right;\">\n",
              "      <th></th>\n",
              "      <th>High</th>\n",
              "      <th>Low</th>\n",
              "      <th>Open</th>\n",
              "      <th>Close</th>\n",
              "      <th>Volume</th>\n",
              "    </tr>\n",
              "    <tr>\n",
              "      <th>Date</th>\n",
              "      <th></th>\n",
              "      <th></th>\n",
              "      <th></th>\n",
              "      <th></th>\n",
              "      <th></th>\n",
              "    </tr>\n",
              "  </thead>\n",
              "  <tbody>\n",
              "    <tr>\n",
              "      <th>2007-12-31</th>\n",
              "      <td>61.700001</td>\n",
              "      <td>61.049999</td>\n",
              "      <td>61.450001</td>\n",
              "      <td>61.450001</td>\n",
              "      <td>2870000.0</td>\n",
              "    </tr>\n",
              "    <tr>\n",
              "      <th>2008-01-02</th>\n",
              "      <td>61.299999</td>\n",
              "      <td>60.000000</td>\n",
              "      <td>60.099998</td>\n",
              "      <td>60.099998</td>\n",
              "      <td>4975000.0</td>\n",
              "    </tr>\n",
              "    <tr>\n",
              "      <th>2008-01-03</th>\n",
              "      <td>59.349998</td>\n",
              "      <td>58.599998</td>\n",
              "      <td>59.099998</td>\n",
              "      <td>59.099998</td>\n",
              "      <td>7413000.0</td>\n",
              "    </tr>\n",
              "  </tbody>\n",
              "</table>\n",
              "</div>"
            ],
            "text/plain": [
              "                 High        Low       Open      Close     Volume\n",
              "Date                                                             \n",
              "2007-12-31  61.700001  61.049999  61.450001  61.450001  2870000.0\n",
              "2008-01-02  61.299999  60.000000  60.099998  60.099998  4975000.0\n",
              "2008-01-03  59.349998  58.599998  59.099998  59.099998  7413000.0"
            ]
          },
          "metadata": {
            "tags": []
          },
          "execution_count": 2
        }
      ]
    },
    {
      "cell_type": "code",
      "metadata": {
        "id": "9YvzTIEDddVx",
        "colab_type": "code",
        "outputId": "8058a2cc-8971-430d-adfd-9153e56069e4",
        "colab": {
          "base_uri": "https://localhost:8080/",
          "height": 170
        }
      },
      "source": [
        "df.tail(3)"
      ],
      "execution_count": 3,
      "outputs": [
        {
          "output_type": "execute_result",
          "data": {
            "text/html": [
              "<div>\n",
              "<style scoped>\n",
              "    .dataframe tbody tr th:only-of-type {\n",
              "        vertical-align: middle;\n",
              "    }\n",
              "\n",
              "    .dataframe tbody tr th {\n",
              "        vertical-align: top;\n",
              "    }\n",
              "\n",
              "    .dataframe thead th {\n",
              "        text-align: right;\n",
              "    }\n",
              "</style>\n",
              "<table border=\"1\" class=\"dataframe\">\n",
              "  <thead>\n",
              "    <tr style=\"text-align: right;\">\n",
              "      <th></th>\n",
              "      <th>High</th>\n",
              "      <th>Low</th>\n",
              "      <th>Open</th>\n",
              "      <th>Close</th>\n",
              "      <th>Volume</th>\n",
              "    </tr>\n",
              "    <tr>\n",
              "      <th>Date</th>\n",
              "      <th></th>\n",
              "      <th></th>\n",
              "      <th></th>\n",
              "      <th></th>\n",
              "      <th></th>\n",
              "    </tr>\n",
              "  </thead>\n",
              "  <tbody>\n",
              "    <tr>\n",
              "      <th>2019-09-04</th>\n",
              "      <td>82.199997</td>\n",
              "      <td>81.400002</td>\n",
              "      <td>81.449997</td>\n",
              "      <td>82.150002</td>\n",
              "      <td>10748771.0</td>\n",
              "    </tr>\n",
              "    <tr>\n",
              "      <th>2019-09-05</th>\n",
              "      <td>83.199997</td>\n",
              "      <td>82.550003</td>\n",
              "      <td>82.550003</td>\n",
              "      <td>83.000000</td>\n",
              "      <td>25429390.0</td>\n",
              "    </tr>\n",
              "    <tr>\n",
              "      <th>2019-09-06</th>\n",
              "      <td>83.550003</td>\n",
              "      <td>83.250000</td>\n",
              "      <td>83.250000</td>\n",
              "      <td>83.500000</td>\n",
              "      <td>17226303.0</td>\n",
              "    </tr>\n",
              "  </tbody>\n",
              "</table>\n",
              "</div>"
            ],
            "text/plain": [
              "                 High        Low       Open      Close      Volume\n",
              "Date                                                              \n",
              "2019-09-04  82.199997  81.400002  81.449997  82.150002  10748771.0\n",
              "2019-09-05  83.199997  82.550003  82.550003  83.000000  25429390.0\n",
              "2019-09-06  83.550003  83.250000  83.250000  83.500000  17226303.0"
            ]
          },
          "metadata": {
            "tags": []
          },
          "execution_count": 3
        }
      ]
    },
    {
      "cell_type": "markdown",
      "metadata": {
        "id": "ZsFMU68NI85j",
        "colab_type": "text"
      },
      "source": [
        "# Labeling(計算return)"
      ]
    },
    {
      "cell_type": "code",
      "metadata": {
        "id": "WaNG41cBI9BT",
        "colab_type": "code",
        "colab": {}
      },
      "source": [
        "#今天股價 = df['Close']\n",
        "#昨天股價 = df['Close'].shift(1)\n",
        "#df['return%'] = (今天股價/昨天股價-1)*100\n",
        "#print(df['return%'].min(),df['return%'].max())\n",
        "#sns.distplot(df['return%'].dropna())\n",
        "#df.tail()"
      ],
      "execution_count": 0,
      "outputs": []
    },
    {
      "cell_type": "markdown",
      "metadata": {
        "id": "HegmuvBN0FKD",
        "colab_type": "text"
      },
      "source": [
        "# Label triple_barrier"
      ]
    },
    {
      "cell_type": "code",
      "metadata": {
        "id": "RFsmFQfF0FXt",
        "colab_type": "code",
        "colab": {}
      },
      "source": [
        "import numpy as np\n",
        "import math\n",
        "def triple_barrier(price, ub, lb, max_period):\n",
        "\n",
        "    def end_price(s):\n",
        "        return np.append(s[(s / s[0] > ub) | (s / s[0] < lb)], s[-1])[0]/s[0]\n",
        "    \n",
        "    r = np.array(range(max_period))\n",
        "    \n",
        "    def end_time(s):\n",
        "        return np.append(r[(s / s[0] > ub) | (s / s[0] < lb)], max_period-1)[0]\n",
        "\n",
        "    p = price.rolling(max_period).apply(end_price, raw=True).shift(-max_period+1)\n",
        "    t = price.rolling(max_period).apply(end_time, raw=True).shift(-max_period+1)\n",
        "    t = pd.Series([t.index[int(k+i)] if not math.isnan(k+i) else np.datetime64('NaT') \n",
        "                   for i, k in enumerate(t)], index=t.index).dropna()\n",
        "\n",
        "    signal = pd.Series(0, p.index)\n",
        "    signal.loc[p > ub] = 1\n",
        "    signal.loc[p < lb] = -1\n",
        "    ret = pd.DataFrame({'triple_barrier_profit':p, 'triple_barrier_sell_time':t, 'triple_barrier_signal':signal})\n",
        "\n",
        "    return ret\n",
        "\n",
        "ret = triple_barrier(df.Close, 1.07, 0.97, 20)['triple_barrier_signal']\n",
        "df = df.join(ret)"
      ],
      "execution_count": 0,
      "outputs": []
    },
    {
      "cell_type": "code",
      "metadata": {
        "id": "MHRZWGG40a3q",
        "colab_type": "code",
        "outputId": "14887ea2-fa18-4404-d43f-90e747979625",
        "colab": {
          "base_uri": "https://localhost:8080/",
          "height": 686
        }
      },
      "source": [
        "df.tail(20)"
      ],
      "execution_count": 6,
      "outputs": [
        {
          "output_type": "execute_result",
          "data": {
            "text/html": [
              "<div>\n",
              "<style scoped>\n",
              "    .dataframe tbody tr th:only-of-type {\n",
              "        vertical-align: middle;\n",
              "    }\n",
              "\n",
              "    .dataframe tbody tr th {\n",
              "        vertical-align: top;\n",
              "    }\n",
              "\n",
              "    .dataframe thead th {\n",
              "        text-align: right;\n",
              "    }\n",
              "</style>\n",
              "<table border=\"1\" class=\"dataframe\">\n",
              "  <thead>\n",
              "    <tr style=\"text-align: right;\">\n",
              "      <th></th>\n",
              "      <th>High</th>\n",
              "      <th>Low</th>\n",
              "      <th>Open</th>\n",
              "      <th>Close</th>\n",
              "      <th>Volume</th>\n",
              "      <th>triple_barrier_signal</th>\n",
              "    </tr>\n",
              "    <tr>\n",
              "      <th>Date</th>\n",
              "      <th></th>\n",
              "      <th></th>\n",
              "      <th></th>\n",
              "      <th></th>\n",
              "      <th></th>\n",
              "      <th></th>\n",
              "    </tr>\n",
              "  </thead>\n",
              "  <tbody>\n",
              "    <tr>\n",
              "      <th>2019-08-08</th>\n",
              "      <td>80.800003</td>\n",
              "      <td>80.000000</td>\n",
              "      <td>80.050003</td>\n",
              "      <td>80.650002</td>\n",
              "      <td>5036121.0</td>\n",
              "      <td>0</td>\n",
              "    </tr>\n",
              "    <tr>\n",
              "      <th>2019-08-12</th>\n",
              "      <td>80.849998</td>\n",
              "      <td>80.150002</td>\n",
              "      <td>80.650002</td>\n",
              "      <td>80.599998</td>\n",
              "      <td>3168030.0</td>\n",
              "      <td>0</td>\n",
              "    </tr>\n",
              "    <tr>\n",
              "      <th>2019-08-13</th>\n",
              "      <td>80.150002</td>\n",
              "      <td>79.550003</td>\n",
              "      <td>80.150002</td>\n",
              "      <td>79.699997</td>\n",
              "      <td>7431519.0</td>\n",
              "      <td>0</td>\n",
              "    </tr>\n",
              "    <tr>\n",
              "      <th>2019-08-14</th>\n",
              "      <td>80.800003</td>\n",
              "      <td>80.300003</td>\n",
              "      <td>80.699997</td>\n",
              "      <td>80.300003</td>\n",
              "      <td>7382138.0</td>\n",
              "      <td>0</td>\n",
              "    </tr>\n",
              "    <tr>\n",
              "      <th>2019-08-15</th>\n",
              "      <td>79.599998</td>\n",
              "      <td>79.099998</td>\n",
              "      <td>79.199997</td>\n",
              "      <td>79.400002</td>\n",
              "      <td>15972089.0</td>\n",
              "      <td>0</td>\n",
              "    </tr>\n",
              "    <tr>\n",
              "      <th>2019-08-16</th>\n",
              "      <td>80.349998</td>\n",
              "      <td>79.250000</td>\n",
              "      <td>79.449997</td>\n",
              "      <td>80.349998</td>\n",
              "      <td>6158748.0</td>\n",
              "      <td>0</td>\n",
              "    </tr>\n",
              "    <tr>\n",
              "      <th>2019-08-19</th>\n",
              "      <td>80.900002</td>\n",
              "      <td>80.300003</td>\n",
              "      <td>80.750000</td>\n",
              "      <td>80.800003</td>\n",
              "      <td>6475352.0</td>\n",
              "      <td>0</td>\n",
              "    </tr>\n",
              "    <tr>\n",
              "      <th>2019-08-20</th>\n",
              "      <td>81.099998</td>\n",
              "      <td>80.800003</td>\n",
              "      <td>80.849998</td>\n",
              "      <td>81.000000</td>\n",
              "      <td>4179197.0</td>\n",
              "      <td>0</td>\n",
              "    </tr>\n",
              "    <tr>\n",
              "      <th>2019-08-21</th>\n",
              "      <td>81.150002</td>\n",
              "      <td>80.900002</td>\n",
              "      <td>80.949997</td>\n",
              "      <td>81.099998</td>\n",
              "      <td>6092896.0</td>\n",
              "      <td>0</td>\n",
              "    </tr>\n",
              "    <tr>\n",
              "      <th>2019-08-23</th>\n",
              "      <td>81.099998</td>\n",
              "      <td>80.750000</td>\n",
              "      <td>80.900002</td>\n",
              "      <td>81.000000</td>\n",
              "      <td>3211036.0</td>\n",
              "      <td>0</td>\n",
              "    </tr>\n",
              "    <tr>\n",
              "      <th>2019-08-26</th>\n",
              "      <td>80.099998</td>\n",
              "      <td>79.599998</td>\n",
              "      <td>79.800003</td>\n",
              "      <td>79.650002</td>\n",
              "      <td>12292310.0</td>\n",
              "      <td>0</td>\n",
              "    </tr>\n",
              "    <tr>\n",
              "      <th>2019-08-27</th>\n",
              "      <td>80.199997</td>\n",
              "      <td>79.750000</td>\n",
              "      <td>80.150002</td>\n",
              "      <td>79.849998</td>\n",
              "      <td>2535864.0</td>\n",
              "      <td>0</td>\n",
              "    </tr>\n",
              "    <tr>\n",
              "      <th>2019-08-28</th>\n",
              "      <td>80.550003</td>\n",
              "      <td>80.099998</td>\n",
              "      <td>80.099998</td>\n",
              "      <td>80.400002</td>\n",
              "      <td>3318188.0</td>\n",
              "      <td>0</td>\n",
              "    </tr>\n",
              "    <tr>\n",
              "      <th>2019-08-29</th>\n",
              "      <td>80.599998</td>\n",
              "      <td>80.000000</td>\n",
              "      <td>80.449997</td>\n",
              "      <td>80.550003</td>\n",
              "      <td>3233649.0</td>\n",
              "      <td>0</td>\n",
              "    </tr>\n",
              "    <tr>\n",
              "      <th>2019-08-30</th>\n",
              "      <td>81.900002</td>\n",
              "      <td>81.150002</td>\n",
              "      <td>81.150002</td>\n",
              "      <td>81.849998</td>\n",
              "      <td>19370894.0</td>\n",
              "      <td>0</td>\n",
              "    </tr>\n",
              "    <tr>\n",
              "      <th>2019-09-02</th>\n",
              "      <td>82.000000</td>\n",
              "      <td>81.650002</td>\n",
              "      <td>81.800003</td>\n",
              "      <td>81.900002</td>\n",
              "      <td>6457870.0</td>\n",
              "      <td>0</td>\n",
              "    </tr>\n",
              "    <tr>\n",
              "      <th>2019-09-03</th>\n",
              "      <td>82.000000</td>\n",
              "      <td>81.199997</td>\n",
              "      <td>81.849998</td>\n",
              "      <td>81.199997</td>\n",
              "      <td>5052925.0</td>\n",
              "      <td>0</td>\n",
              "    </tr>\n",
              "    <tr>\n",
              "      <th>2019-09-04</th>\n",
              "      <td>82.199997</td>\n",
              "      <td>81.400002</td>\n",
              "      <td>81.449997</td>\n",
              "      <td>82.150002</td>\n",
              "      <td>10748771.0</td>\n",
              "      <td>0</td>\n",
              "    </tr>\n",
              "    <tr>\n",
              "      <th>2019-09-05</th>\n",
              "      <td>83.199997</td>\n",
              "      <td>82.550003</td>\n",
              "      <td>82.550003</td>\n",
              "      <td>83.000000</td>\n",
              "      <td>25429390.0</td>\n",
              "      <td>0</td>\n",
              "    </tr>\n",
              "    <tr>\n",
              "      <th>2019-09-06</th>\n",
              "      <td>83.550003</td>\n",
              "      <td>83.250000</td>\n",
              "      <td>83.250000</td>\n",
              "      <td>83.500000</td>\n",
              "      <td>17226303.0</td>\n",
              "      <td>0</td>\n",
              "    </tr>\n",
              "  </tbody>\n",
              "</table>\n",
              "</div>"
            ],
            "text/plain": [
              "                 High        Low  ...      Volume  triple_barrier_signal\n",
              "Date                              ...                                   \n",
              "2019-08-08  80.800003  80.000000  ...   5036121.0                      0\n",
              "2019-08-12  80.849998  80.150002  ...   3168030.0                      0\n",
              "2019-08-13  80.150002  79.550003  ...   7431519.0                      0\n",
              "2019-08-14  80.800003  80.300003  ...   7382138.0                      0\n",
              "2019-08-15  79.599998  79.099998  ...  15972089.0                      0\n",
              "2019-08-16  80.349998  79.250000  ...   6158748.0                      0\n",
              "2019-08-19  80.900002  80.300003  ...   6475352.0                      0\n",
              "2019-08-20  81.099998  80.800003  ...   4179197.0                      0\n",
              "2019-08-21  81.150002  80.900002  ...   6092896.0                      0\n",
              "2019-08-23  81.099998  80.750000  ...   3211036.0                      0\n",
              "2019-08-26  80.099998  79.599998  ...  12292310.0                      0\n",
              "2019-08-27  80.199997  79.750000  ...   2535864.0                      0\n",
              "2019-08-28  80.550003  80.099998  ...   3318188.0                      0\n",
              "2019-08-29  80.599998  80.000000  ...   3233649.0                      0\n",
              "2019-08-30  81.900002  81.150002  ...  19370894.0                      0\n",
              "2019-09-02  82.000000  81.650002  ...   6457870.0                      0\n",
              "2019-09-03  82.000000  81.199997  ...   5052925.0                      0\n",
              "2019-09-04  82.199997  81.400002  ...  10748771.0                      0\n",
              "2019-09-05  83.199997  82.550003  ...  25429390.0                      0\n",
              "2019-09-06  83.550003  83.250000  ...  17226303.0                      0\n",
              "\n",
              "[20 rows x 6 columns]"
            ]
          },
          "metadata": {
            "tags": []
          },
          "execution_count": 6
        }
      ]
    },
    {
      "cell_type": "code",
      "metadata": {
        "id": "Qti5Zd4-jOrH",
        "colab_type": "code",
        "outputId": "a3b1e002-6a7f-4d08-c1f8-627e4ed15d84",
        "colab": {
          "base_uri": "https://localhost:8080/",
          "height": 307
        }
      },
      "source": [
        "import matplotlib.pyplot as plt\n",
        "buy = df[df['triple_barrier_signal']==1]['Close']\n",
        "sell = df[df['triple_barrier_signal']==-1]['Close']\n",
        "df['Close'][0:40].plot()#後20筆是前20筆的驗證\n",
        "plt.scatter(buy.index,buy.values,color='red')\n",
        "plt.scatter(sell.index,sell.values,color='black')\n",
        "lb = df['Close'][0:40].mean() - 3*df['Close'][0:40].std()\n",
        "ub = df['Close'][0:40].mean() + 3*df['Close'][0:40].std()\n",
        "plt.ylim(lb,ub)"
      ],
      "execution_count": 7,
      "outputs": [
        {
          "output_type": "execute_result",
          "data": {
            "text/plain": [
              "(51.22531358659142, 64.3121867948783)"
            ]
          },
          "metadata": {
            "tags": []
          },
          "execution_count": 7
        },
        {
          "output_type": "display_data",
          "data": {
            "image/png": "[encoded data removed]",
            "text/plain": [
              "<Figure size 432x288 with 1 Axes>"
            ]
          },
          "metadata": {
            "tags": []
          }
        }
      ]
    },
    {
      "cell_type": "markdown",
      "metadata": {
        "id": "HUtEilqGfIJl",
        "colab_type": "text"
      },
      "source": [
        "# 建立ohlcv"
      ]
    },
    {
      "cell_type": "code",
      "metadata": {
        "id": "FdFhLZkYfKpN",
        "colab_type": "code",
        "colab": {}
      },
      "source": [
        "from finta import TA\n",
        "ohlcv = df[['Open','High','Low','Close','Volume']]\n",
        "ohlcv.columns = ['open','high','low','close','volume']"
      ],
      "execution_count": 0,
      "outputs": []
    },
    {
      "cell_type": "markdown",
      "metadata": {
        "id": "9K9RepGQwbQQ",
        "colab_type": "text"
      },
      "source": [
        "# 計算技術指標RSI"
      ]
    },
    {
      "cell_type": "code",
      "metadata": {
        "id": "ZZkpnqk9e0Rw",
        "colab_type": "code",
        "outputId": "fee56370-8422-48d0-df55-f5b2546f7891",
        "colab": {
          "base_uri": "https://localhost:8080/",
          "height": 656
        }
      },
      "source": [
        "df['RSI'] = TA.RSI(ohlcv)\n",
        "print(df['RSI'].describe())\n",
        "sns.distplot(df['RSI'].dropna())\n",
        "df.tail()"
      ],
      "execution_count": 9,
      "outputs": [
        {
          "output_type": "stream",
          "text": [
            "count    2876.000000\n",
            "mean       52.505154\n",
            "std        16.593634\n",
            "min         0.000000\n",
            "25%        40.728196\n",
            "50%        53.415834\n",
            "75%        64.902513\n",
            "max        92.833130\n",
            "Name: RSI, dtype: float64\n"
          ],
          "name": "stdout"
        },
        {
          "output_type": "execute_result",
          "data": {
            "text/html": [
              "<div>\n",
              "<style scoped>\n",
              "    .dataframe tbody tr th:only-of-type {\n",
              "        vertical-align: middle;\n",
              "    }\n",
              "\n",
              "    .dataframe tbody tr th {\n",
              "        vertical-align: top;\n",
              "    }\n",
              "\n",
              "    .dataframe thead th {\n",
              "        text-align: right;\n",
              "    }\n",
              "</style>\n",
              "<table border=\"1\" class=\"dataframe\">\n",
              "  <thead>\n",
              "    <tr style=\"text-align: right;\">\n",
              "      <th></th>\n",
              "      <th>High</th>\n",
              "      <th>Low</th>\n",
              "      <th>Open</th>\n",
              "      <th>Close</th>\n",
              "      <th>Volume</th>\n",
              "      <th>triple_barrier_signal</th>\n",
              "      <th>RSI</th>\n",
              "    </tr>\n",
              "    <tr>\n",
              "      <th>Date</th>\n",
              "      <th></th>\n",
              "      <th></th>\n",
              "      <th></th>\n",
              "      <th></th>\n",
              "      <th></th>\n",
              "      <th></th>\n",
              "      <th></th>\n",
              "    </tr>\n",
              "  </thead>\n",
              "  <tbody>\n",
              "    <tr>\n",
              "      <th>2019-09-02</th>\n",
              "      <td>82.000000</td>\n",
              "      <td>81.650002</td>\n",
              "      <td>81.800003</td>\n",
              "      <td>81.900002</td>\n",
              "      <td>6457870.0</td>\n",
              "      <td>0</td>\n",
              "      <td>65.211685</td>\n",
              "    </tr>\n",
              "    <tr>\n",
              "      <th>2019-09-03</th>\n",
              "      <td>82.000000</td>\n",
              "      <td>81.199997</td>\n",
              "      <td>81.849998</td>\n",
              "      <td>81.199997</td>\n",
              "      <td>5052925.0</td>\n",
              "      <td>0</td>\n",
              "      <td>53.807044</td>\n",
              "    </tr>\n",
              "    <tr>\n",
              "      <th>2019-09-04</th>\n",
              "      <td>82.199997</td>\n",
              "      <td>81.400002</td>\n",
              "      <td>81.449997</td>\n",
              "      <td>82.150002</td>\n",
              "      <td>10748771.0</td>\n",
              "      <td>0</td>\n",
              "      <td>63.737814</td>\n",
              "    </tr>\n",
              "    <tr>\n",
              "      <th>2019-09-05</th>\n",
              "      <td>83.199997</td>\n",
              "      <td>82.550003</td>\n",
              "      <td>82.550003</td>\n",
              "      <td>83.000000</td>\n",
              "      <td>25429390.0</td>\n",
              "      <td>0</td>\n",
              "      <td>70.324234</td>\n",
              "    </tr>\n",
              "    <tr>\n",
              "      <th>2019-09-06</th>\n",
              "      <td>83.550003</td>\n",
              "      <td>83.250000</td>\n",
              "      <td>83.250000</td>\n",
              "      <td>83.500000</td>\n",
              "      <td>17226303.0</td>\n",
              "      <td>0</td>\n",
              "      <td>73.581167</td>\n",
              "    </tr>\n",
              "  </tbody>\n",
              "</table>\n",
              "</div>"
            ],
            "text/plain": [
              "                 High        Low  ...  triple_barrier_signal        RSI\n",
              "Date                              ...                                  \n",
              "2019-09-02  82.000000  81.650002  ...                      0  65.211685\n",
              "2019-09-03  82.000000  81.199997  ...                      0  53.807044\n",
              "2019-09-04  82.199997  81.400002  ...                      0  63.737814\n",
              "2019-09-05  83.199997  82.550003  ...                      0  70.324234\n",
              "2019-09-06  83.550003  83.250000  ...                      0  73.581167\n",
              "\n",
              "[5 rows x 7 columns]"
            ]
          },
          "metadata": {
            "tags": []
          },
          "execution_count": 9
        },
        {
          "output_type": "display_data",
          "data": {
            "image/png": "[encoded data removed]",
            "text/plain": [
              "<Figure size 432x288 with 1 Axes>"
            ]
          },
          "metadata": {
            "tags": []
          }
        }
      ]
    },
    {
      "cell_type": "markdown",
      "metadata": {
        "id": "fZXZuQe93pJE",
        "colab_type": "text"
      },
      "source": [
        "# 計算威廉指標"
      ]
    },
    {
      "cell_type": "code",
      "metadata": {
        "id": "Q8_qx-dnfPJa",
        "colab_type": "code",
        "outputId": "f7fc8f52-11f4-494b-81f1-e3413ece08ec",
        "colab": {
          "base_uri": "https://localhost:8080/",
          "height": 656
        }
      },
      "source": [
        "df['Williams %R'] = TA.WILLIAMS(ohlcv)\n",
        "print(df['Williams %R'].describe())\n",
        "sns.distplot(df['Williams %R'].dropna())\n",
        "df.tail()"
      ],
      "execution_count": 10,
      "outputs": [
        {
          "output_type": "stream",
          "text": [
            "count    2864.000000\n",
            "mean      -43.944648\n",
            "std        31.232636\n",
            "min      -100.000000\n",
            "25%       -72.238984\n",
            "50%       -41.048678\n",
            "75%       -14.814794\n",
            "max        -0.000000\n",
            "Name: Williams %R, dtype: float64\n"
          ],
          "name": "stdout"
        },
        {
          "output_type": "execute_result",
          "data": {
            "text/html": [
              "<div>\n",
              "<style scoped>\n",
              "    .dataframe tbody tr th:only-of-type {\n",
              "        vertical-align: middle;\n",
              "    }\n",
              "\n",
              "    .dataframe tbody tr th {\n",
              "        vertical-align: top;\n",
              "    }\n",
              "\n",
              "    .dataframe thead th {\n",
              "        text-align: right;\n",
              "    }\n",
              "</style>\n",
              "<table border=\"1\" class=\"dataframe\">\n",
              "  <thead>\n",
              "    <tr style=\"text-align: right;\">\n",
              "      <th></th>\n",
              "      <th>High</th>\n",
              "      <th>Low</th>\n",
              "      <th>Open</th>\n",
              "      <th>Close</th>\n",
              "      <th>Volume</th>\n",
              "      <th>triple_barrier_signal</th>\n",
              "      <th>RSI</th>\n",
              "      <th>Williams %R</th>\n",
              "    </tr>\n",
              "    <tr>\n",
              "      <th>Date</th>\n",
              "      <th></th>\n",
              "      <th></th>\n",
              "      <th></th>\n",
              "      <th></th>\n",
              "      <th></th>\n",
              "      <th></th>\n",
              "      <th></th>\n",
              "      <th></th>\n",
              "    </tr>\n",
              "  </thead>\n",
              "  <tbody>\n",
              "    <tr>\n",
              "      <th>2019-09-02</th>\n",
              "      <td>82.000000</td>\n",
              "      <td>81.650002</td>\n",
              "      <td>81.800003</td>\n",
              "      <td>81.900002</td>\n",
              "      <td>6457870.0</td>\n",
              "      <td>0</td>\n",
              "      <td>65.211685</td>\n",
              "      <td>-3.448221</td>\n",
              "    </tr>\n",
              "    <tr>\n",
              "      <th>2019-09-03</th>\n",
              "      <td>82.000000</td>\n",
              "      <td>81.199997</td>\n",
              "      <td>81.849998</td>\n",
              "      <td>81.199997</td>\n",
              "      <td>5052925.0</td>\n",
              "      <td>0</td>\n",
              "      <td>53.807044</td>\n",
              "      <td>-27.586298</td>\n",
              "    </tr>\n",
              "    <tr>\n",
              "      <th>2019-09-04</th>\n",
              "      <td>82.199997</td>\n",
              "      <td>81.400002</td>\n",
              "      <td>81.449997</td>\n",
              "      <td>82.150002</td>\n",
              "      <td>10748771.0</td>\n",
              "      <td>0</td>\n",
              "      <td>63.737814</td>\n",
              "      <td>-1.612756</td>\n",
              "    </tr>\n",
              "    <tr>\n",
              "      <th>2019-09-05</th>\n",
              "      <td>83.199997</td>\n",
              "      <td>82.550003</td>\n",
              "      <td>82.550003</td>\n",
              "      <td>83.000000</td>\n",
              "      <td>25429390.0</td>\n",
              "      <td>0</td>\n",
              "      <td>70.324234</td>\n",
              "      <td>-5.063218</td>\n",
              "    </tr>\n",
              "    <tr>\n",
              "      <th>2019-09-06</th>\n",
              "      <td>83.550003</td>\n",
              "      <td>83.250000</td>\n",
              "      <td>83.250000</td>\n",
              "      <td>83.500000</td>\n",
              "      <td>17226303.0</td>\n",
              "      <td>0</td>\n",
              "      <td>73.581167</td>\n",
              "      <td>-1.265899</td>\n",
              "    </tr>\n",
              "  </tbody>\n",
              "</table>\n",
              "</div>"
            ],
            "text/plain": [
              "                 High        Low  ...        RSI  Williams %R\n",
              "Date                              ...                        \n",
              "2019-09-02  82.000000  81.650002  ...  65.211685    -3.448221\n",
              "2019-09-03  82.000000  81.199997  ...  53.807044   -27.586298\n",
              "2019-09-04  82.199997  81.400002  ...  63.737814    -1.612756\n",
              "2019-09-05  83.199997  82.550003  ...  70.324234    -5.063218\n",
              "2019-09-06  83.550003  83.250000  ...  73.581167    -1.265899\n",
              "\n",
              "[5 rows x 8 columns]"
            ]
          },
          "metadata": {
            "tags": []
          },
          "execution_count": 10
        },
        {
          "output_type": "display_data",
          "data": {
            "image/png": "[encoded data removed]",
            "text/plain": [
              "<Figure size 432x288 with 1 Axes>"
            ]
          },
          "metadata": {
            "tags": []
          }
        }
      ]
    },
    {
      "cell_type": "markdown",
      "metadata": {
        "id": "xK4jb6KTDdGa",
        "colab_type": "text"
      },
      "source": [
        "# SMA"
      ]
    },
    {
      "cell_type": "code",
      "metadata": {
        "id": "osETw-NkfgfL",
        "colab_type": "code",
        "outputId": "da5e499e-fd73-4fa0-9fa0-73c5e1a093db",
        "colab": {
          "base_uri": "https://localhost:8080/",
          "height": 656
        }
      },
      "source": [
        "df['SMA'] = TA.SMA(ohlcv)\n",
        "print(df['SMA'].describe())\n",
        "sns.distplot(df['SMA'].dropna())\n",
        "df.tail()"
      ],
      "execution_count": 11,
      "outputs": [
        {
          "output_type": "stream",
          "text": [
            "count    2837.000000\n",
            "mean       62.097558\n",
            "std        12.327372\n",
            "min        32.242195\n",
            "25%        53.729268\n",
            "50%        60.118293\n",
            "75%        70.507317\n",
            "max        85.841464\n",
            "Name: SMA, dtype: float64\n"
          ],
          "name": "stdout"
        },
        {
          "output_type": "execute_result",
          "data": {
            "text/html": [
              "<div>\n",
              "<style scoped>\n",
              "    .dataframe tbody tr th:only-of-type {\n",
              "        vertical-align: middle;\n",
              "    }\n",
              "\n",
              "    .dataframe tbody tr th {\n",
              "        vertical-align: top;\n",
              "    }\n",
              "\n",
              "    .dataframe thead th {\n",
              "        text-align: right;\n",
              "    }\n",
              "</style>\n",
              "<table border=\"1\" class=\"dataframe\">\n",
              "  <thead>\n",
              "    <tr style=\"text-align: right;\">\n",
              "      <th></th>\n",
              "      <th>High</th>\n",
              "      <th>Low</th>\n",
              "      <th>Open</th>\n",
              "      <th>Close</th>\n",
              "      <th>Volume</th>\n",
              "      <th>triple_barrier_signal</th>\n",
              "      <th>RSI</th>\n",
              "      <th>Williams %R</th>\n",
              "      <th>SMA</th>\n",
              "    </tr>\n",
              "    <tr>\n",
              "      <th>Date</th>\n",
              "      <th></th>\n",
              "      <th></th>\n",
              "      <th></th>\n",
              "      <th></th>\n",
              "      <th></th>\n",
              "      <th></th>\n",
              "      <th></th>\n",
              "      <th></th>\n",
              "      <th></th>\n",
              "    </tr>\n",
              "  </thead>\n",
              "  <tbody>\n",
              "    <tr>\n",
              "      <th>2019-09-02</th>\n",
              "      <td>82.000000</td>\n",
              "      <td>81.650002</td>\n",
              "      <td>81.800003</td>\n",
              "      <td>81.900002</td>\n",
              "      <td>6457870.0</td>\n",
              "      <td>0</td>\n",
              "      <td>65.211685</td>\n",
              "      <td>-3.448221</td>\n",
              "      <td>81.687805</td>\n",
              "    </tr>\n",
              "    <tr>\n",
              "      <th>2019-09-03</th>\n",
              "      <td>82.000000</td>\n",
              "      <td>81.199997</td>\n",
              "      <td>81.849998</td>\n",
              "      <td>81.199997</td>\n",
              "      <td>5052925.0</td>\n",
              "      <td>0</td>\n",
              "      <td>53.807044</td>\n",
              "      <td>-27.586298</td>\n",
              "      <td>81.668293</td>\n",
              "    </tr>\n",
              "    <tr>\n",
              "      <th>2019-09-04</th>\n",
              "      <td>82.199997</td>\n",
              "      <td>81.400002</td>\n",
              "      <td>81.449997</td>\n",
              "      <td>82.150002</td>\n",
              "      <td>10748771.0</td>\n",
              "      <td>0</td>\n",
              "      <td>63.737814</td>\n",
              "      <td>-1.612756</td>\n",
              "      <td>81.674390</td>\n",
              "    </tr>\n",
              "    <tr>\n",
              "      <th>2019-09-05</th>\n",
              "      <td>83.199997</td>\n",
              "      <td>82.550003</td>\n",
              "      <td>82.550003</td>\n",
              "      <td>83.000000</td>\n",
              "      <td>25429390.0</td>\n",
              "      <td>0</td>\n",
              "      <td>70.324234</td>\n",
              "      <td>-5.063218</td>\n",
              "      <td>81.708536</td>\n",
              "    </tr>\n",
              "    <tr>\n",
              "      <th>2019-09-06</th>\n",
              "      <td>83.550003</td>\n",
              "      <td>83.250000</td>\n",
              "      <td>83.250000</td>\n",
              "      <td>83.500000</td>\n",
              "      <td>17226303.0</td>\n",
              "      <td>0</td>\n",
              "      <td>73.581167</td>\n",
              "      <td>-1.265899</td>\n",
              "      <td>81.757317</td>\n",
              "    </tr>\n",
              "  </tbody>\n",
              "</table>\n",
              "</div>"
            ],
            "text/plain": [
              "                 High        Low       Open  ...        RSI  Williams %R        SMA\n",
              "Date                                         ...                                   \n",
              "2019-09-02  82.000000  81.650002  81.800003  ...  65.211685    -3.448221  81.687805\n",
              "2019-09-03  82.000000  81.199997  81.849998  ...  53.807044   -27.586298  81.668293\n",
              "2019-09-04  82.199997  81.400002  81.449997  ...  63.737814    -1.612756  81.674390\n",
              "2019-09-05  83.199997  82.550003  82.550003  ...  70.324234    -5.063218  81.708536\n",
              "2019-09-06  83.550003  83.250000  83.250000  ...  73.581167    -1.265899  81.757317\n",
              "\n",
              "[5 rows x 9 columns]"
            ]
          },
          "metadata": {
            "tags": []
          },
          "execution_count": 11
        },
        {
          "output_type": "display_data",
          "data": {
            "image/png": "[encoded data removed]",
            "text/plain": [
              "<Figure size 432x288 with 1 Axes>"
            ]
          },
          "metadata": {
            "tags": []
          }
        }
      ]
    },
    {
      "cell_type": "markdown",
      "metadata": {
        "id": "a2Mf0ckEoHC_",
        "colab_type": "text"
      },
      "source": [
        "# EMA"
      ]
    },
    {
      "cell_type": "code",
      "metadata": {
        "id": "EQlFyJLeh4WA",
        "colab_type": "code",
        "outputId": "a6fd8af4-6663-4fe1-9bbc-96188b7d7f4d",
        "colab": {
          "base_uri": "https://localhost:8080/",
          "height": 656
        }
      },
      "source": [
        "df['EMA'] = TA.EMA(ohlcv)\n",
        "print(df['EMA'].describe())\n",
        "sns.distplot(df['EMA'])\n",
        "df.tail()"
      ],
      "execution_count": 12,
      "outputs": [
        {
          "output_type": "stream",
          "text": [
            "count    2877.000000\n",
            "mean       62.169258\n",
            "std        12.408653\n",
            "min        30.751804\n",
            "25%        53.796584\n",
            "50%        60.290459\n",
            "75%        70.972187\n",
            "max        86.800883\n",
            "Name: EMA, dtype: float64\n"
          ],
          "name": "stdout"
        },
        {
          "output_type": "execute_result",
          "data": {
            "text/html": [
              "<div>\n",
              "<style scoped>\n",
              "    .dataframe tbody tr th:only-of-type {\n",
              "        vertical-align: middle;\n",
              "    }\n",
              "\n",
              "    .dataframe tbody tr th {\n",
              "        vertical-align: top;\n",
              "    }\n",
              "\n",
              "    .dataframe thead th {\n",
              "        text-align: right;\n",
              "    }\n",
              "</style>\n",
              "<table border=\"1\" class=\"dataframe\">\n",
              "  <thead>\n",
              "    <tr style=\"text-align: right;\">\n",
              "      <th></th>\n",
              "      <th>High</th>\n",
              "      <th>Low</th>\n",
              "      <th>Open</th>\n",
              "      <th>Close</th>\n",
              "      <th>Volume</th>\n",
              "      <th>triple_barrier_signal</th>\n",
              "      <th>RSI</th>\n",
              "      <th>Williams %R</th>\n",
              "      <th>SMA</th>\n",
              "      <th>EMA</th>\n",
              "    </tr>\n",
              "    <tr>\n",
              "      <th>Date</th>\n",
              "      <th></th>\n",
              "      <th></th>\n",
              "      <th></th>\n",
              "      <th></th>\n",
              "      <th></th>\n",
              "      <th></th>\n",
              "      <th></th>\n",
              "      <th></th>\n",
              "      <th></th>\n",
              "      <th></th>\n",
              "    </tr>\n",
              "  </thead>\n",
              "  <tbody>\n",
              "    <tr>\n",
              "      <th>2019-09-02</th>\n",
              "      <td>82.000000</td>\n",
              "      <td>81.650002</td>\n",
              "      <td>81.800003</td>\n",
              "      <td>81.900002</td>\n",
              "      <td>6457870.0</td>\n",
              "      <td>0</td>\n",
              "      <td>65.211685</td>\n",
              "      <td>-3.448221</td>\n",
              "      <td>81.687805</td>\n",
              "      <td>80.950204</td>\n",
              "    </tr>\n",
              "    <tr>\n",
              "      <th>2019-09-03</th>\n",
              "      <td>82.000000</td>\n",
              "      <td>81.199997</td>\n",
              "      <td>81.849998</td>\n",
              "      <td>81.199997</td>\n",
              "      <td>5052925.0</td>\n",
              "      <td>0</td>\n",
              "      <td>53.807044</td>\n",
              "      <td>-27.586298</td>\n",
              "      <td>81.668293</td>\n",
              "      <td>81.000163</td>\n",
              "    </tr>\n",
              "    <tr>\n",
              "      <th>2019-09-04</th>\n",
              "      <td>82.199997</td>\n",
              "      <td>81.400002</td>\n",
              "      <td>81.449997</td>\n",
              "      <td>82.150002</td>\n",
              "      <td>10748771.0</td>\n",
              "      <td>0</td>\n",
              "      <td>63.737814</td>\n",
              "      <td>-1.612756</td>\n",
              "      <td>81.674390</td>\n",
              "      <td>81.230130</td>\n",
              "    </tr>\n",
              "    <tr>\n",
              "      <th>2019-09-05</th>\n",
              "      <td>83.199997</td>\n",
              "      <td>82.550003</td>\n",
              "      <td>82.550003</td>\n",
              "      <td>83.000000</td>\n",
              "      <td>25429390.0</td>\n",
              "      <td>0</td>\n",
              "      <td>70.324234</td>\n",
              "      <td>-5.063218</td>\n",
              "      <td>81.708536</td>\n",
              "      <td>81.584104</td>\n",
              "    </tr>\n",
              "    <tr>\n",
              "      <th>2019-09-06</th>\n",
              "      <td>83.550003</td>\n",
              "      <td>83.250000</td>\n",
              "      <td>83.250000</td>\n",
              "      <td>83.500000</td>\n",
              "      <td>17226303.0</td>\n",
              "      <td>0</td>\n",
              "      <td>73.581167</td>\n",
              "      <td>-1.265899</td>\n",
              "      <td>81.757317</td>\n",
              "      <td>81.967283</td>\n",
              "    </tr>\n",
              "  </tbody>\n",
              "</table>\n",
              "</div>"
            ],
            "text/plain": [
              "                 High        Low       Open  ...  Williams %R        SMA        EMA\n",
              "Date                                         ...                                   \n",
              "2019-09-02  82.000000  81.650002  81.800003  ...    -3.448221  81.687805  80.950204\n",
              "2019-09-03  82.000000  81.199997  81.849998  ...   -27.586298  81.668293  81.000163\n",
              "2019-09-04  82.199997  81.400002  81.449997  ...    -1.612756  81.674390  81.230130\n",
              "2019-09-05  83.199997  82.550003  82.550003  ...    -5.063218  81.708536  81.584104\n",
              "2019-09-06  83.550003  83.250000  83.250000  ...    -1.265899  81.757317  81.967283\n",
              "\n",
              "[5 rows x 10 columns]"
            ]
          },
          "metadata": {
            "tags": []
          },
          "execution_count": 12
        },
        {
          "output_type": "display_data",
          "data": {
            "image/png": "[encoded data removed]",
            "text/plain": [
              "<Figure size 432x288 with 1 Axes>"
            ]
          },
          "metadata": {
            "tags": []
          }
        }
      ]
    },
    {
      "cell_type": "markdown",
      "metadata": {
        "id": "wqkaWfQryV3W",
        "colab_type": "text"
      },
      "source": [
        "# WMA"
      ]
    },
    {
      "cell_type": "code",
      "metadata": {
        "id": "9Dw9scCSieLI",
        "colab_type": "code",
        "outputId": "95aeaeb5-d879-49f8-88fd-e8a5711f5b6f",
        "colab": {
          "base_uri": "https://localhost:8080/",
          "height": 712
        }
      },
      "source": [
        "df['WMA'] = TA.WMA(ohlcv)\n",
        "print(df['WMA'].describe())\n",
        "sns.distplot(df['WMA'].dropna())\n",
        "df.tail()"
      ],
      "execution_count": 13,
      "outputs": [
        {
          "output_type": "stream",
          "text": [
            "/usr/local/lib/python3.6/dist-packages/finta/finta.py:263: FutureWarning: Currently, 'apply' passes the values as ndarrays to the applied function. In the future, this will change to passing it as Series objects. You need to specify 'raw=True' to keep the current behaviour, and you can pass 'raw=False' to silence this warning\n",
            "  wma = close_.apply(linear(weights))\n"
          ],
          "name": "stderr"
        },
        {
          "output_type": "stream",
          "text": [
            "count    2869.000000\n",
            "mean       62.165520\n",
            "std        12.433770\n",
            "min        30.099111\n",
            "25%        53.821112\n",
            "50%        60.232222\n",
            "75%        71.011110\n",
            "max        87.264444\n",
            "Name: WMA, dtype: float64\n"
          ],
          "name": "stdout"
        },
        {
          "output_type": "execute_result",
          "data": {
            "text/html": [
              "<div>\n",
              "<style scoped>\n",
              "    .dataframe tbody tr th:only-of-type {\n",
              "        vertical-align: middle;\n",
              "    }\n",
              "\n",
              "    .dataframe tbody tr th {\n",
              "        vertical-align: top;\n",
              "    }\n",
              "\n",
              "    .dataframe thead th {\n",
              "        text-align: right;\n",
              "    }\n",
              "</style>\n",
              "<table border=\"1\" class=\"dataframe\">\n",
              "  <thead>\n",
              "    <tr style=\"text-align: right;\">\n",
              "      <th></th>\n",
              "      <th>High</th>\n",
              "      <th>Low</th>\n",
              "      <th>Open</th>\n",
              "      <th>Close</th>\n",
              "      <th>Volume</th>\n",
              "      <th>triple_barrier_signal</th>\n",
              "      <th>RSI</th>\n",
              "      <th>Williams %R</th>\n",
              "      <th>SMA</th>\n",
              "      <th>EMA</th>\n",
              "      <th>WMA</th>\n",
              "    </tr>\n",
              "    <tr>\n",
              "      <th>Date</th>\n",
              "      <th></th>\n",
              "      <th></th>\n",
              "      <th></th>\n",
              "      <th></th>\n",
              "      <th></th>\n",
              "      <th></th>\n",
              "      <th></th>\n",
              "      <th></th>\n",
              "      <th></th>\n",
              "      <th></th>\n",
              "      <th></th>\n",
              "    </tr>\n",
              "  </thead>\n",
              "  <tbody>\n",
              "    <tr>\n",
              "      <th>2019-09-02</th>\n",
              "      <td>82.000000</td>\n",
              "      <td>81.650002</td>\n",
              "      <td>81.800003</td>\n",
              "      <td>81.900002</td>\n",
              "      <td>6457870.0</td>\n",
              "      <td>0</td>\n",
              "      <td>65.211685</td>\n",
              "      <td>-3.448221</td>\n",
              "      <td>81.687805</td>\n",
              "      <td>80.950204</td>\n",
              "      <td>80.684445</td>\n",
              "    </tr>\n",
              "    <tr>\n",
              "      <th>2019-09-03</th>\n",
              "      <td>82.000000</td>\n",
              "      <td>81.199997</td>\n",
              "      <td>81.849998</td>\n",
              "      <td>81.199997</td>\n",
              "      <td>5052925.0</td>\n",
              "      <td>0</td>\n",
              "      <td>53.807044</td>\n",
              "      <td>-27.586298</td>\n",
              "      <td>81.668293</td>\n",
              "      <td>81.000163</td>\n",
              "      <td>80.651111</td>\n",
              "    </tr>\n",
              "    <tr>\n",
              "      <th>2019-09-04</th>\n",
              "      <td>82.199997</td>\n",
              "      <td>81.400002</td>\n",
              "      <td>81.449997</td>\n",
              "      <td>82.150002</td>\n",
              "      <td>10748771.0</td>\n",
              "      <td>0</td>\n",
              "      <td>63.737814</td>\n",
              "      <td>-1.612756</td>\n",
              "      <td>81.674390</td>\n",
              "      <td>81.230130</td>\n",
              "      <td>80.621112</td>\n",
              "    </tr>\n",
              "    <tr>\n",
              "      <th>2019-09-05</th>\n",
              "      <td>83.199997</td>\n",
              "      <td>82.550003</td>\n",
              "      <td>82.550003</td>\n",
              "      <td>83.000000</td>\n",
              "      <td>25429390.0</td>\n",
              "      <td>0</td>\n",
              "      <td>70.324234</td>\n",
              "      <td>-5.063218</td>\n",
              "      <td>81.708536</td>\n",
              "      <td>81.584104</td>\n",
              "      <td>80.655556</td>\n",
              "    </tr>\n",
              "    <tr>\n",
              "      <th>2019-09-06</th>\n",
              "      <td>83.550003</td>\n",
              "      <td>83.250000</td>\n",
              "      <td>83.250000</td>\n",
              "      <td>83.500000</td>\n",
              "      <td>17226303.0</td>\n",
              "      <td>0</td>\n",
              "      <td>73.581167</td>\n",
              "      <td>-1.265899</td>\n",
              "      <td>81.757317</td>\n",
              "      <td>81.967283</td>\n",
              "      <td>81.045556</td>\n",
              "    </tr>\n",
              "  </tbody>\n",
              "</table>\n",
              "</div>"
            ],
            "text/plain": [
              "                 High        Low       Open  ...        SMA        EMA        WMA\n",
              "Date                                         ...                                 \n",
              "2019-09-02  82.000000  81.650002  81.800003  ...  81.687805  80.950204  80.684445\n",
              "2019-09-03  82.000000  81.199997  81.849998  ...  81.668293  81.000163  80.651111\n",
              "2019-09-04  82.199997  81.400002  81.449997  ...  81.674390  81.230130  80.621112\n",
              "2019-09-05  83.199997  82.550003  82.550003  ...  81.708536  81.584104  80.655556\n",
              "2019-09-06  83.550003  83.250000  83.250000  ...  81.757317  81.967283  81.045556\n",
              "\n",
              "[5 rows x 11 columns]"
            ]
          },
          "metadata": {
            "tags": []
          },
          "execution_count": 13
        },
        {
          "output_type": "display_data",
          "data": {
            "image/png": "[encoded data removed]",
            "text/plain": [
              "<Figure size 432x288 with 1 Axes>"
            ]
          },
          "metadata": {
            "tags": []
          }
        }
      ]
    },
    {
      "cell_type": "markdown",
      "metadata": {
        "id": "HNC131ghyrF1",
        "colab_type": "text"
      },
      "source": [
        "# HMA"
      ]
    },
    {
      "cell_type": "code",
      "metadata": {
        "id": "b02O6Yevi6mN",
        "colab_type": "code",
        "outputId": "a51e886d-6f7a-4b28-e984-65b7da91bb84",
        "colab": {
          "base_uri": "https://localhost:8080/",
          "height": 818
        }
      },
      "source": [
        "df['HMA'] = TA.HMA(ohlcv)\n",
        "print(df['HMA'].describe())\n",
        "sns.distplot(df['HMA'].dropna())\n",
        "df.tail()"
      ],
      "execution_count": 14,
      "outputs": [
        {
          "output_type": "stream",
          "text": [
            "/usr/local/lib/python3.6/dist-packages/finta/finta.py:263: FutureWarning: Currently, 'apply' passes the values as ndarrays to the applied function. In the future, this will change to passing it as Series objects. You need to specify 'raw=True' to keep the current behaviour, and you can pass 'raw=False' to silence this warning\n",
            "  wma = close_.apply(linear(weights))\n",
            "/usr/local/lib/python3.6/dist-packages/finta/finta.py:285: SettingWithCopyWarning: \n",
            "A value is trying to be set on a copy of a slice from a DataFrame.\n",
            "Try using .loc[row_indexer,col_indexer] = value instead\n",
            "\n",
            "See the caveats in the documentation: http://pandas.pydata.org/pandas-docs/stable/indexing.html#indexing-view-versus-copy\n",
            "  ohlc['deltawma'] = 2 * wmaf - wmas\n"
          ],
          "name": "stderr"
        },
        {
          "output_type": "stream",
          "text": [
            "count    2874.000000\n",
            "mean       62.186256\n",
            "std        12.453690\n",
            "min        29.586000\n",
            "25%        53.766250\n",
            "50%        60.182500\n",
            "75%        71.128750\n",
            "max        87.854999\n",
            "Name: HMA, dtype: float64\n"
          ],
          "name": "stdout"
        },
        {
          "output_type": "execute_result",
          "data": {
            "text/html": [
              "<div>\n",
              "<style scoped>\n",
              "    .dataframe tbody tr th:only-of-type {\n",
              "        vertical-align: middle;\n",
              "    }\n",
              "\n",
              "    .dataframe tbody tr th {\n",
              "        vertical-align: top;\n",
              "    }\n",
              "\n",
              "    .dataframe thead th {\n",
              "        text-align: right;\n",
              "    }\n",
              "</style>\n",
              "<table border=\"1\" class=\"dataframe\">\n",
              "  <thead>\n",
              "    <tr style=\"text-align: right;\">\n",
              "      <th></th>\n",
              "      <th>High</th>\n",
              "      <th>Low</th>\n",
              "      <th>Open</th>\n",
              "      <th>Close</th>\n",
              "      <th>Volume</th>\n",
              "      <th>triple_barrier_signal</th>\n",
              "      <th>RSI</th>\n",
              "      <th>Williams %R</th>\n",
              "      <th>SMA</th>\n",
              "      <th>EMA</th>\n",
              "      <th>WMA</th>\n",
              "      <th>HMA</th>\n",
              "    </tr>\n",
              "    <tr>\n",
              "      <th>Date</th>\n",
              "      <th></th>\n",
              "      <th></th>\n",
              "      <th></th>\n",
              "      <th></th>\n",
              "      <th></th>\n",
              "      <th></th>\n",
              "      <th></th>\n",
              "      <th></th>\n",
              "      <th></th>\n",
              "      <th></th>\n",
              "      <th></th>\n",
              "      <th></th>\n",
              "    </tr>\n",
              "  </thead>\n",
              "  <tbody>\n",
              "    <tr>\n",
              "      <th>2019-09-02</th>\n",
              "      <td>82.000000</td>\n",
              "      <td>81.650002</td>\n",
              "      <td>81.800003</td>\n",
              "      <td>81.900002</td>\n",
              "      <td>6457870.0</td>\n",
              "      <td>0</td>\n",
              "      <td>65.211685</td>\n",
              "      <td>-3.448221</td>\n",
              "      <td>81.687805</td>\n",
              "      <td>80.950204</td>\n",
              "      <td>80.684445</td>\n",
              "      <td>80.885001</td>\n",
              "    </tr>\n",
              "    <tr>\n",
              "      <th>2019-09-03</th>\n",
              "      <td>82.000000</td>\n",
              "      <td>81.199997</td>\n",
              "      <td>81.849998</td>\n",
              "      <td>81.199997</td>\n",
              "      <td>5052925.0</td>\n",
              "      <td>0</td>\n",
              "      <td>53.807044</td>\n",
              "      <td>-27.586298</td>\n",
              "      <td>81.668293</td>\n",
              "      <td>81.000163</td>\n",
              "      <td>80.651111</td>\n",
              "      <td>81.275001</td>\n",
              "    </tr>\n",
              "    <tr>\n",
              "      <th>2019-09-04</th>\n",
              "      <td>82.199997</td>\n",
              "      <td>81.400002</td>\n",
              "      <td>81.449997</td>\n",
              "      <td>82.150002</td>\n",
              "      <td>10748771.0</td>\n",
              "      <td>0</td>\n",
              "      <td>63.737814</td>\n",
              "      <td>-1.612756</td>\n",
              "      <td>81.674390</td>\n",
              "      <td>81.230130</td>\n",
              "      <td>80.621112</td>\n",
              "      <td>81.764999</td>\n",
              "    </tr>\n",
              "    <tr>\n",
              "      <th>2019-09-05</th>\n",
              "      <td>83.199997</td>\n",
              "      <td>82.550003</td>\n",
              "      <td>82.550003</td>\n",
              "      <td>83.000000</td>\n",
              "      <td>25429390.0</td>\n",
              "      <td>0</td>\n",
              "      <td>70.324234</td>\n",
              "      <td>-5.063218</td>\n",
              "      <td>81.708536</td>\n",
              "      <td>81.584104</td>\n",
              "      <td>80.655556</td>\n",
              "      <td>81.850000</td>\n",
              "    </tr>\n",
              "    <tr>\n",
              "      <th>2019-09-06</th>\n",
              "      <td>83.550003</td>\n",
              "      <td>83.250000</td>\n",
              "      <td>83.250000</td>\n",
              "      <td>83.500000</td>\n",
              "      <td>17226303.0</td>\n",
              "      <td>0</td>\n",
              "      <td>73.581167</td>\n",
              "      <td>-1.265899</td>\n",
              "      <td>81.757317</td>\n",
              "      <td>81.967283</td>\n",
              "      <td>81.045556</td>\n",
              "      <td>82.074999</td>\n",
              "    </tr>\n",
              "  </tbody>\n",
              "</table>\n",
              "</div>"
            ],
            "text/plain": [
              "                 High        Low       Open  ...        EMA        WMA        HMA\n",
              "Date                                         ...                                 \n",
              "2019-09-02  82.000000  81.650002  81.800003  ...  80.950204  80.684445  80.885001\n",
              "2019-09-03  82.000000  81.199997  81.849998  ...  81.000163  80.651111  81.275001\n",
              "2019-09-04  82.199997  81.400002  81.449997  ...  81.230130  80.621112  81.764999\n",
              "2019-09-05  83.199997  82.550003  82.550003  ...  81.584104  80.655556  81.850000\n",
              "2019-09-06  83.550003  83.250000  83.250000  ...  81.967283  81.045556  82.074999\n",
              "\n",
              "[5 rows x 12 columns]"
            ]
          },
          "metadata": {
            "tags": []
          },
          "execution_count": 14
        },
        {
          "output_type": "display_data",
          "data": {
            "image/png": "[encoded data removed]",
            "text/plain": [
              "<Figure size 432x288 with 1 Axes>"
            ]
          },
          "metadata": {
            "tags": []
          }
        }
      ]
    },
    {
      "cell_type": "markdown",
      "metadata": {
        "id": "ch7SZ7aFjCit",
        "colab_type": "text"
      },
      "source": [
        "# TEMA"
      ]
    },
    {
      "cell_type": "code",
      "metadata": {
        "id": "GeS0aHxZjFtA",
        "colab_type": "code",
        "outputId": "6047ba69-9b7c-436c-a1ab-9176cdd70105",
        "colab": {
          "base_uri": "https://localhost:8080/",
          "height": 656
        }
      },
      "source": [
        "df['TEMA'] = TA.TEMA(ohlcv)\n",
        "print(df['TEMA'].describe())\n",
        "sns.distplot(df['TEMA'].dropna())\n",
        "df.tail()"
      ],
      "execution_count": 15,
      "outputs": [
        {
          "output_type": "stream",
          "text": [
            "count    2877.000000\n",
            "mean       62.199432\n",
            "std        12.474058\n",
            "min        29.280004\n",
            "25%        53.796861\n",
            "50%        60.261556\n",
            "75%        71.148825\n",
            "max        88.240036\n",
            "Name: TEMA, dtype: float64\n"
          ],
          "name": "stdout"
        },
        {
          "output_type": "execute_result",
          "data": {
            "text/html": [
              "<div>\n",
              "<style scoped>\n",
              "    .dataframe tbody tr th:only-of-type {\n",
              "        vertical-align: middle;\n",
              "    }\n",
              "\n",
              "    .dataframe tbody tr th {\n",
              "        vertical-align: top;\n",
              "    }\n",
              "\n",
              "    .dataframe thead th {\n",
              "        text-align: right;\n",
              "    }\n",
              "</style>\n",
              "<table border=\"1\" class=\"dataframe\">\n",
              "  <thead>\n",
              "    <tr style=\"text-align: right;\">\n",
              "      <th></th>\n",
              "      <th>High</th>\n",
              "      <th>Low</th>\n",
              "      <th>Open</th>\n",
              "      <th>Close</th>\n",
              "      <th>Volume</th>\n",
              "      <th>triple_barrier_signal</th>\n",
              "      <th>RSI</th>\n",
              "      <th>Williams %R</th>\n",
              "      <th>SMA</th>\n",
              "      <th>EMA</th>\n",
              "      <th>WMA</th>\n",
              "      <th>HMA</th>\n",
              "      <th>TEMA</th>\n",
              "    </tr>\n",
              "    <tr>\n",
              "      <th>Date</th>\n",
              "      <th></th>\n",
              "      <th></th>\n",
              "      <th></th>\n",
              "      <th></th>\n",
              "      <th></th>\n",
              "      <th></th>\n",
              "      <th></th>\n",
              "      <th></th>\n",
              "      <th></th>\n",
              "      <th></th>\n",
              "      <th></th>\n",
              "      <th></th>\n",
              "      <th></th>\n",
              "    </tr>\n",
              "  </thead>\n",
              "  <tbody>\n",
              "    <tr>\n",
              "      <th>2019-09-02</th>\n",
              "      <td>82.000000</td>\n",
              "      <td>81.650002</td>\n",
              "      <td>81.800003</td>\n",
              "      <td>81.900002</td>\n",
              "      <td>6457870.0</td>\n",
              "      <td>0</td>\n",
              "      <td>65.211685</td>\n",
              "      <td>-3.448221</td>\n",
              "      <td>81.687805</td>\n",
              "      <td>80.950204</td>\n",
              "      <td>80.684445</td>\n",
              "      <td>80.885001</td>\n",
              "      <td>81.603058</td>\n",
              "    </tr>\n",
              "    <tr>\n",
              "      <th>2019-09-03</th>\n",
              "      <td>82.000000</td>\n",
              "      <td>81.199997</td>\n",
              "      <td>81.849998</td>\n",
              "      <td>81.199997</td>\n",
              "      <td>5052925.0</td>\n",
              "      <td>0</td>\n",
              "      <td>53.807044</td>\n",
              "      <td>-27.586298</td>\n",
              "      <td>81.668293</td>\n",
              "      <td>81.000163</td>\n",
              "      <td>80.651111</td>\n",
              "      <td>81.275001</td>\n",
              "      <td>81.552079</td>\n",
              "    </tr>\n",
              "    <tr>\n",
              "      <th>2019-09-04</th>\n",
              "      <td>82.199997</td>\n",
              "      <td>81.400002</td>\n",
              "      <td>81.449997</td>\n",
              "      <td>82.150002</td>\n",
              "      <td>10748771.0</td>\n",
              "      <td>0</td>\n",
              "      <td>63.737814</td>\n",
              "      <td>-1.612756</td>\n",
              "      <td>81.674390</td>\n",
              "      <td>81.230130</td>\n",
              "      <td>80.621112</td>\n",
              "      <td>81.764999</td>\n",
              "      <td>81.962576</td>\n",
              "    </tr>\n",
              "    <tr>\n",
              "      <th>2019-09-05</th>\n",
              "      <td>83.199997</td>\n",
              "      <td>82.550003</td>\n",
              "      <td>82.550003</td>\n",
              "      <td>83.000000</td>\n",
              "      <td>25429390.0</td>\n",
              "      <td>0</td>\n",
              "      <td>70.324234</td>\n",
              "      <td>-5.063218</td>\n",
              "      <td>81.708536</td>\n",
              "      <td>81.584104</td>\n",
              "      <td>80.655556</td>\n",
              "      <td>81.850000</td>\n",
              "      <td>82.618155</td>\n",
              "    </tr>\n",
              "    <tr>\n",
              "      <th>2019-09-06</th>\n",
              "      <td>83.550003</td>\n",
              "      <td>83.250000</td>\n",
              "      <td>83.250000</td>\n",
              "      <td>83.500000</td>\n",
              "      <td>17226303.0</td>\n",
              "      <td>0</td>\n",
              "      <td>73.581167</td>\n",
              "      <td>-1.265899</td>\n",
              "      <td>81.757317</td>\n",
              "      <td>81.967283</td>\n",
              "      <td>81.045556</td>\n",
              "      <td>82.074999</td>\n",
              "      <td>83.251691</td>\n",
              "    </tr>\n",
              "  </tbody>\n",
              "</table>\n",
              "</div>"
            ],
            "text/plain": [
              "                 High        Low       Open  ...        WMA        HMA       TEMA\n",
              "Date                                         ...                                 \n",
              "2019-09-02  82.000000  81.650002  81.800003  ...  80.684445  80.885001  81.603058\n",
              "2019-09-03  82.000000  81.199997  81.849998  ...  80.651111  81.275001  81.552079\n",
              "2019-09-04  82.199997  81.400002  81.449997  ...  80.621112  81.764999  81.962576\n",
              "2019-09-05  83.199997  82.550003  82.550003  ...  80.655556  81.850000  82.618155\n",
              "2019-09-06  83.550003  83.250000  83.250000  ...  81.045556  82.074999  83.251691\n",
              "\n",
              "[5 rows x 13 columns]"
            ]
          },
          "metadata": {
            "tags": []
          },
          "execution_count": 15
        },
        {
          "output_type": "display_data",
          "data": {
            "image/png": "[encoded data removed]",
            "text/plain": [
              "<Figure size 432x288 with 1 Axes>"
            ]
          },
          "metadata": {
            "tags": []
          }
        }
      ]
    },
    {
      "cell_type": "markdown",
      "metadata": {
        "id": "EbMrqw5jjZaa",
        "colab_type": "text"
      },
      "source": [
        "# CCI"
      ]
    },
    {
      "cell_type": "code",
      "metadata": {
        "id": "WBfeDdkUjZiP",
        "colab_type": "code",
        "outputId": "5e6e43c0-3c05-42f5-a6be-d80076dc1529",
        "colab": {
          "base_uri": "https://localhost:8080/",
          "height": 778
        }
      },
      "source": [
        "df['CCI'] = TA.CCI(ohlcv)\n",
        "print(df['CCI'].describe())\n",
        "sns.distplot(df['CCI'].dropna())\n",
        "df.tail()"
      ],
      "execution_count": 16,
      "outputs": [
        {
          "output_type": "stream",
          "text": [
            "count    2876.000000\n",
            "mean       11.290527\n",
            "std        86.800065\n",
            "min      -226.628960\n",
            "25%       -56.936860\n",
            "50%        22.095370\n",
            "75%        82.556241\n",
            "max       221.975646\n",
            "Name: CCI, dtype: float64\n"
          ],
          "name": "stdout"
        },
        {
          "output_type": "execute_result",
          "data": {
            "text/html": [
              "<div>\n",
              "<style scoped>\n",
              "    .dataframe tbody tr th:only-of-type {\n",
              "        vertical-align: middle;\n",
              "    }\n",
              "\n",
              "    .dataframe tbody tr th {\n",
              "        vertical-align: top;\n",
              "    }\n",
              "\n",
              "    .dataframe thead th {\n",
              "        text-align: right;\n",
              "    }\n",
              "</style>\n",
              "<table border=\"1\" class=\"dataframe\">\n",
              "  <thead>\n",
              "    <tr style=\"text-align: right;\">\n",
              "      <th></th>\n",
              "      <th>High</th>\n",
              "      <th>Low</th>\n",
              "      <th>Open</th>\n",
              "      <th>Close</th>\n",
              "      <th>Volume</th>\n",
              "      <th>triple_barrier_signal</th>\n",
              "      <th>RSI</th>\n",
              "      <th>Williams %R</th>\n",
              "      <th>SMA</th>\n",
              "      <th>EMA</th>\n",
              "      <th>WMA</th>\n",
              "      <th>HMA</th>\n",
              "      <th>TEMA</th>\n",
              "      <th>CCI</th>\n",
              "    </tr>\n",
              "    <tr>\n",
              "      <th>Date</th>\n",
              "      <th></th>\n",
              "      <th></th>\n",
              "      <th></th>\n",
              "      <th></th>\n",
              "      <th></th>\n",
              "      <th></th>\n",
              "      <th></th>\n",
              "      <th></th>\n",
              "      <th></th>\n",
              "      <th></th>\n",
              "      <th></th>\n",
              "      <th></th>\n",
              "      <th></th>\n",
              "      <th></th>\n",
              "    </tr>\n",
              "  </thead>\n",
              "  <tbody>\n",
              "    <tr>\n",
              "      <th>2019-09-02</th>\n",
              "      <td>82.000000</td>\n",
              "      <td>81.650002</td>\n",
              "      <td>81.800003</td>\n",
              "      <td>81.900002</td>\n",
              "      <td>6457870.0</td>\n",
              "      <td>0</td>\n",
              "      <td>65.211685</td>\n",
              "      <td>-3.448221</td>\n",
              "      <td>81.687805</td>\n",
              "      <td>80.950204</td>\n",
              "      <td>80.684445</td>\n",
              "      <td>80.885001</td>\n",
              "      <td>81.603058</td>\n",
              "      <td>143.717155</td>\n",
              "    </tr>\n",
              "    <tr>\n",
              "      <th>2019-09-03</th>\n",
              "      <td>82.000000</td>\n",
              "      <td>81.199997</td>\n",
              "      <td>81.849998</td>\n",
              "      <td>81.199997</td>\n",
              "      <td>5052925.0</td>\n",
              "      <td>0</td>\n",
              "      <td>53.807044</td>\n",
              "      <td>-27.586298</td>\n",
              "      <td>81.668293</td>\n",
              "      <td>81.000163</td>\n",
              "      <td>80.651111</td>\n",
              "      <td>81.275001</td>\n",
              "      <td>81.552079</td>\n",
              "      <td>96.940970</td>\n",
              "    </tr>\n",
              "    <tr>\n",
              "      <th>2019-09-04</th>\n",
              "      <td>82.199997</td>\n",
              "      <td>81.400002</td>\n",
              "      <td>81.449997</td>\n",
              "      <td>82.150002</td>\n",
              "      <td>10748771.0</td>\n",
              "      <td>0</td>\n",
              "      <td>63.737814</td>\n",
              "      <td>-1.612756</td>\n",
              "      <td>81.674390</td>\n",
              "      <td>81.230130</td>\n",
              "      <td>80.621112</td>\n",
              "      <td>81.764999</td>\n",
              "      <td>81.962576</td>\n",
              "      <td>120.541026</td>\n",
              "    </tr>\n",
              "    <tr>\n",
              "      <th>2019-09-05</th>\n",
              "      <td>83.199997</td>\n",
              "      <td>82.550003</td>\n",
              "      <td>82.550003</td>\n",
              "      <td>83.000000</td>\n",
              "      <td>25429390.0</td>\n",
              "      <td>0</td>\n",
              "      <td>70.324234</td>\n",
              "      <td>-5.063218</td>\n",
              "      <td>81.708536</td>\n",
              "      <td>81.584104</td>\n",
              "      <td>80.655556</td>\n",
              "      <td>81.850000</td>\n",
              "      <td>82.618155</td>\n",
              "      <td>164.641823</td>\n",
              "    </tr>\n",
              "    <tr>\n",
              "      <th>2019-09-06</th>\n",
              "      <td>83.550003</td>\n",
              "      <td>83.250000</td>\n",
              "      <td>83.250000</td>\n",
              "      <td>83.500000</td>\n",
              "      <td>17226303.0</td>\n",
              "      <td>0</td>\n",
              "      <td>73.581167</td>\n",
              "      <td>-1.265899</td>\n",
              "      <td>81.757317</td>\n",
              "      <td>81.967283</td>\n",
              "      <td>81.045556</td>\n",
              "      <td>82.074999</td>\n",
              "      <td>83.251691</td>\n",
              "      <td>160.812962</td>\n",
              "    </tr>\n",
              "  </tbody>\n",
              "</table>\n",
              "</div>"
            ],
            "text/plain": [
              "                 High        Low       Open  ...        HMA       TEMA         CCI\n",
              "Date                                         ...                                  \n",
              "2019-09-02  82.000000  81.650002  81.800003  ...  80.885001  81.603058  143.717155\n",
              "2019-09-03  82.000000  81.199997  81.849998  ...  81.275001  81.552079   96.940970\n",
              "2019-09-04  82.199997  81.400002  81.449997  ...  81.764999  81.962576  120.541026\n",
              "2019-09-05  83.199997  82.550003  82.550003  ...  81.850000  82.618155  164.641823\n",
              "2019-09-06  83.550003  83.250000  83.250000  ...  82.074999  83.251691  160.812962\n",
              "\n",
              "[5 rows x 14 columns]"
            ]
          },
          "metadata": {
            "tags": []
          },
          "execution_count": 16
        },
        {
          "output_type": "display_data",
          "data": {
            "image/png": "[encoded data removed]",
            "text/plain": [
              "<Figure size 432x288 with 1 Axes>"
            ]
          },
          "metadata": {
            "tags": []
          }
        }
      ]
    },
    {
      "cell_type": "markdown",
      "metadata": {
        "id": "G8rAJ61cjkJ4",
        "colab_type": "text"
      },
      "source": [
        "# CMO"
      ]
    },
    {
      "cell_type": "code",
      "metadata": {
        "id": "P9EispJmjkj_",
        "colab_type": "code",
        "outputId": "3339aa3b-a612-456e-c911-ddec401d31f5",
        "colab": {
          "base_uri": "https://localhost:8080/",
          "height": 778
        }
      },
      "source": [
        "df['CMO'] = TA.CMO(ohlcv)\n",
        "print(df['CMO'].describe())\n",
        "sns.distplot(df['CMO'].dropna())\n",
        "df.tail()"
      ],
      "execution_count": 17,
      "outputs": [
        {
          "output_type": "stream",
          "text": [
            "count    2868.000000\n",
            "mean        5.795790\n",
            "std        41.803346\n",
            "min       -97.530901\n",
            "25%       -25.000081\n",
            "50%         5.537113\n",
            "75%        36.999043\n",
            "max       100.000000\n",
            "Name: CMO, dtype: float64\n"
          ],
          "name": "stdout"
        },
        {
          "output_type": "execute_result",
          "data": {
            "text/html": [
              "<div>\n",
              "<style scoped>\n",
              "    .dataframe tbody tr th:only-of-type {\n",
              "        vertical-align: middle;\n",
              "    }\n",
              "\n",
              "    .dataframe tbody tr th {\n",
              "        vertical-align: top;\n",
              "    }\n",
              "\n",
              "    .dataframe thead th {\n",
              "        text-align: right;\n",
              "    }\n",
              "</style>\n",
              "<table border=\"1\" class=\"dataframe\">\n",
              "  <thead>\n",
              "    <tr style=\"text-align: right;\">\n",
              "      <th></th>\n",
              "      <th>High</th>\n",
              "      <th>Low</th>\n",
              "      <th>Open</th>\n",
              "      <th>Close</th>\n",
              "      <th>Volume</th>\n",
              "      <th>triple_barrier_signal</th>\n",
              "      <th>RSI</th>\n",
              "      <th>Williams %R</th>\n",
              "      <th>SMA</th>\n",
              "      <th>EMA</th>\n",
              "      <th>WMA</th>\n",
              "      <th>HMA</th>\n",
              "      <th>TEMA</th>\n",
              "      <th>CCI</th>\n",
              "      <th>CMO</th>\n",
              "    </tr>\n",
              "    <tr>\n",
              "      <th>Date</th>\n",
              "      <th></th>\n",
              "      <th></th>\n",
              "      <th></th>\n",
              "      <th></th>\n",
              "      <th></th>\n",
              "      <th></th>\n",
              "      <th></th>\n",
              "      <th></th>\n",
              "      <th></th>\n",
              "      <th></th>\n",
              "      <th></th>\n",
              "      <th></th>\n",
              "      <th></th>\n",
              "      <th></th>\n",
              "      <th></th>\n",
              "    </tr>\n",
              "  </thead>\n",
              "  <tbody>\n",
              "    <tr>\n",
              "      <th>2019-09-02</th>\n",
              "      <td>82.000000</td>\n",
              "      <td>81.650002</td>\n",
              "      <td>81.800003</td>\n",
              "      <td>81.900002</td>\n",
              "      <td>6457870.0</td>\n",
              "      <td>0</td>\n",
              "      <td>65.211685</td>\n",
              "      <td>-3.448221</td>\n",
              "      <td>81.687805</td>\n",
              "      <td>80.950204</td>\n",
              "      <td>80.684445</td>\n",
              "      <td>80.885001</td>\n",
              "      <td>81.603058</td>\n",
              "      <td>143.717155</td>\n",
              "      <td>27.500014</td>\n",
              "    </tr>\n",
              "    <tr>\n",
              "      <th>2019-09-03</th>\n",
              "      <td>82.000000</td>\n",
              "      <td>81.199997</td>\n",
              "      <td>81.849998</td>\n",
              "      <td>81.199997</td>\n",
              "      <td>5052925.0</td>\n",
              "      <td>0</td>\n",
              "      <td>53.807044</td>\n",
              "      <td>-27.586298</td>\n",
              "      <td>81.668293</td>\n",
              "      <td>81.000163</td>\n",
              "      <td>80.651111</td>\n",
              "      <td>81.275001</td>\n",
              "      <td>81.552079</td>\n",
              "      <td>96.940970</td>\n",
              "      <td>4.444377</td>\n",
              "    </tr>\n",
              "    <tr>\n",
              "      <th>2019-09-04</th>\n",
              "      <td>82.199997</td>\n",
              "      <td>81.400002</td>\n",
              "      <td>81.449997</td>\n",
              "      <td>82.150002</td>\n",
              "      <td>10748771.0</td>\n",
              "      <td>0</td>\n",
              "      <td>63.737814</td>\n",
              "      <td>-1.612756</td>\n",
              "      <td>81.674390</td>\n",
              "      <td>81.230130</td>\n",
              "      <td>80.621112</td>\n",
              "      <td>81.764999</td>\n",
              "      <td>81.962576</td>\n",
              "      <td>120.541026</td>\n",
              "      <td>19.626203</td>\n",
              "    </tr>\n",
              "    <tr>\n",
              "      <th>2019-09-05</th>\n",
              "      <td>83.199997</td>\n",
              "      <td>82.550003</td>\n",
              "      <td>82.550003</td>\n",
              "      <td>83.000000</td>\n",
              "      <td>25429390.0</td>\n",
              "      <td>0</td>\n",
              "      <td>70.324234</td>\n",
              "      <td>-5.063218</td>\n",
              "      <td>81.708536</td>\n",
              "      <td>81.584104</td>\n",
              "      <td>80.655556</td>\n",
              "      <td>81.850000</td>\n",
              "      <td>82.618155</td>\n",
              "      <td>164.641823</td>\n",
              "      <td>32.786852</td>\n",
              "    </tr>\n",
              "    <tr>\n",
              "      <th>2019-09-06</th>\n",
              "      <td>83.550003</td>\n",
              "      <td>83.250000</td>\n",
              "      <td>83.250000</td>\n",
              "      <td>83.500000</td>\n",
              "      <td>17226303.0</td>\n",
              "      <td>0</td>\n",
              "      <td>73.581167</td>\n",
              "      <td>-1.265899</td>\n",
              "      <td>81.757317</td>\n",
              "      <td>81.967283</td>\n",
              "      <td>81.045556</td>\n",
              "      <td>82.074999</td>\n",
              "      <td>83.251691</td>\n",
              "      <td>160.812962</td>\n",
              "      <td>73.333198</td>\n",
              "    </tr>\n",
              "  </tbody>\n",
              "</table>\n",
              "</div>"
            ],
            "text/plain": [
              "                 High        Low       Open  ...       TEMA         CCI        CMO\n",
              "Date                                         ...                                  \n",
              "2019-09-02  82.000000  81.650002  81.800003  ...  81.603058  143.717155  27.500014\n",
              "2019-09-03  82.000000  81.199997  81.849998  ...  81.552079   96.940970   4.444377\n",
              "2019-09-04  82.199997  81.400002  81.449997  ...  81.962576  120.541026  19.626203\n",
              "2019-09-05  83.199997  82.550003  82.550003  ...  82.618155  164.641823  32.786852\n",
              "2019-09-06  83.550003  83.250000  83.250000  ...  83.251691  160.812962  73.333198\n",
              "\n",
              "[5 rows x 15 columns]"
            ]
          },
          "metadata": {
            "tags": []
          },
          "execution_count": 17
        },
        {
          "output_type": "display_data",
          "data": {
            "image/png": "[encoded data removed]",
            "text/plain": [
              "<Figure size 432x288 with 1 Axes>"
            ]
          },
          "metadata": {
            "tags": []
          }
        }
      ]
    },
    {
      "cell_type": "markdown",
      "metadata": {
        "id": "35qI_9gZjsR0",
        "colab_type": "text"
      },
      "source": [
        "# MACD"
      ]
    },
    {
      "cell_type": "code",
      "metadata": {
        "id": "5QG4lBEfjsZb",
        "colab_type": "code",
        "outputId": "91628944-db5f-4469-d288-79f468903b73",
        "colab": {
          "base_uri": "https://localhost:8080/",
          "height": 778
        }
      },
      "source": [
        "df['MACD'] = TA.MACD(ohlcv)['MACD'] - TA.MACD(ohlcv)['SIGNAL']\n",
        "print(df['MACD'].describe())\n",
        "sns.distplot(df['MACD'].dropna())\n",
        "df.tail()"
      ],
      "execution_count": 18,
      "outputs": [
        {
          "output_type": "stream",
          "text": [
            "count    2877.000000\n",
            "mean        0.000033\n",
            "std         0.215907\n",
            "min        -0.894187\n",
            "25%        -0.132880\n",
            "50%         0.004641\n",
            "75%         0.142205\n",
            "max         0.773870\n",
            "Name: MACD, dtype: float64\n"
          ],
          "name": "stdout"
        },
        {
          "output_type": "execute_result",
          "data": {
            "text/html": [
              "<div>\n",
              "<style scoped>\n",
              "    .dataframe tbody tr th:only-of-type {\n",
              "        vertical-align: middle;\n",
              "    }\n",
              "\n",
              "    .dataframe tbody tr th {\n",
              "        vertical-align: top;\n",
              "    }\n",
              "\n",
              "    .dataframe thead th {\n",
              "        text-align: right;\n",
              "    }\n",
              "</style>\n",
              "<table border=\"1\" class=\"dataframe\">\n",
              "  <thead>\n",
              "    <tr style=\"text-align: right;\">\n",
              "      <th></th>\n",
              "      <th>High</th>\n",
              "      <th>Low</th>\n",
              "      <th>Open</th>\n",
              "      <th>Close</th>\n",
              "      <th>Volume</th>\n",
              "      <th>triple_barrier_signal</th>\n",
              "      <th>RSI</th>\n",
              "      <th>Williams %R</th>\n",
              "      <th>SMA</th>\n",
              "      <th>EMA</th>\n",
              "      <th>WMA</th>\n",
              "      <th>HMA</th>\n",
              "      <th>TEMA</th>\n",
              "      <th>CCI</th>\n",
              "      <th>CMO</th>\n",
              "      <th>MACD</th>\n",
              "    </tr>\n",
              "    <tr>\n",
              "      <th>Date</th>\n",
              "      <th></th>\n",
              "      <th></th>\n",
              "      <th></th>\n",
              "      <th></th>\n",
              "      <th></th>\n",
              "      <th></th>\n",
              "      <th></th>\n",
              "      <th></th>\n",
              "      <th></th>\n",
              "      <th></th>\n",
              "      <th></th>\n",
              "      <th></th>\n",
              "      <th></th>\n",
              "      <th></th>\n",
              "      <th></th>\n",
              "      <th></th>\n",
              "    </tr>\n",
              "  </thead>\n",
              "  <tbody>\n",
              "    <tr>\n",
              "      <th>2019-09-02</th>\n",
              "      <td>82.000000</td>\n",
              "      <td>81.650002</td>\n",
              "      <td>81.800003</td>\n",
              "      <td>81.900002</td>\n",
              "      <td>6457870.0</td>\n",
              "      <td>0</td>\n",
              "      <td>65.211685</td>\n",
              "      <td>-3.448221</td>\n",
              "      <td>81.687805</td>\n",
              "      <td>80.950204</td>\n",
              "      <td>80.684445</td>\n",
              "      <td>80.885001</td>\n",
              "      <td>81.603058</td>\n",
              "      <td>143.717155</td>\n",
              "      <td>27.500014</td>\n",
              "      <td>0.180702</td>\n",
              "    </tr>\n",
              "    <tr>\n",
              "      <th>2019-09-03</th>\n",
              "      <td>82.000000</td>\n",
              "      <td>81.199997</td>\n",
              "      <td>81.849998</td>\n",
              "      <td>81.199997</td>\n",
              "      <td>5052925.0</td>\n",
              "      <td>0</td>\n",
              "      <td>53.807044</td>\n",
              "      <td>-27.586298</td>\n",
              "      <td>81.668293</td>\n",
              "      <td>81.000163</td>\n",
              "      <td>80.651111</td>\n",
              "      <td>81.275001</td>\n",
              "      <td>81.552079</td>\n",
              "      <td>96.940970</td>\n",
              "      <td>4.444377</td>\n",
              "      <td>0.171747</td>\n",
              "    </tr>\n",
              "    <tr>\n",
              "      <th>2019-09-04</th>\n",
              "      <td>82.199997</td>\n",
              "      <td>81.400002</td>\n",
              "      <td>81.449997</td>\n",
              "      <td>82.150002</td>\n",
              "      <td>10748771.0</td>\n",
              "      <td>0</td>\n",
              "      <td>63.737814</td>\n",
              "      <td>-1.612756</td>\n",
              "      <td>81.674390</td>\n",
              "      <td>81.230130</td>\n",
              "      <td>80.621112</td>\n",
              "      <td>81.764999</td>\n",
              "      <td>81.962576</td>\n",
              "      <td>120.541026</td>\n",
              "      <td>19.626203</td>\n",
              "      <td>0.220213</td>\n",
              "    </tr>\n",
              "    <tr>\n",
              "      <th>2019-09-05</th>\n",
              "      <td>83.199997</td>\n",
              "      <td>82.550003</td>\n",
              "      <td>82.550003</td>\n",
              "      <td>83.000000</td>\n",
              "      <td>25429390.0</td>\n",
              "      <td>0</td>\n",
              "      <td>70.324234</td>\n",
              "      <td>-5.063218</td>\n",
              "      <td>81.708536</td>\n",
              "      <td>81.584104</td>\n",
              "      <td>80.655556</td>\n",
              "      <td>81.850000</td>\n",
              "      <td>82.618155</td>\n",
              "      <td>164.641823</td>\n",
              "      <td>32.786852</td>\n",
              "      <td>0.295244</td>\n",
              "    </tr>\n",
              "    <tr>\n",
              "      <th>2019-09-06</th>\n",
              "      <td>83.550003</td>\n",
              "      <td>83.250000</td>\n",
              "      <td>83.250000</td>\n",
              "      <td>83.500000</td>\n",
              "      <td>17226303.0</td>\n",
              "      <td>0</td>\n",
              "      <td>73.581167</td>\n",
              "      <td>-1.265899</td>\n",
              "      <td>81.757317</td>\n",
              "      <td>81.967283</td>\n",
              "      <td>81.045556</td>\n",
              "      <td>82.074999</td>\n",
              "      <td>83.251691</td>\n",
              "      <td>160.812962</td>\n",
              "      <td>73.333198</td>\n",
              "      <td>0.359984</td>\n",
              "    </tr>\n",
              "  </tbody>\n",
              "</table>\n",
              "</div>"
            ],
            "text/plain": [
              "                 High        Low       Open  ...         CCI        CMO      MACD\n",
              "Date                                         ...                                 \n",
              "2019-09-02  82.000000  81.650002  81.800003  ...  143.717155  27.500014  0.180702\n",
              "2019-09-03  82.000000  81.199997  81.849998  ...   96.940970   4.444377  0.171747\n",
              "2019-09-04  82.199997  81.400002  81.449997  ...  120.541026  19.626203  0.220213\n",
              "2019-09-05  83.199997  82.550003  82.550003  ...  164.641823  32.786852  0.295244\n",
              "2019-09-06  83.550003  83.250000  83.250000  ...  160.812962  73.333198  0.359984\n",
              "\n",
              "[5 rows x 16 columns]"
            ]
          },
          "metadata": {
            "tags": []
          },
          "execution_count": 18
        },
        {
          "output_type": "display_data",
          "data": {
            "image/png": "[encoded data removed]",
            "text/plain": [
              "<Figure size 432x288 with 1 Axes>"
            ]
          },
          "metadata": {
            "tags": []
          }
        }
      ]
    },
    {
      "cell_type": "markdown",
      "metadata": {
        "id": "roEAzvV7liUA",
        "colab_type": "text"
      },
      "source": [
        "# PPO"
      ]
    },
    {
      "cell_type": "code",
      "metadata": {
        "id": "ovCLHYPXli73",
        "colab_type": "code",
        "outputId": "65a177f2-5078-4bfa-9647-3fe17435f6b8",
        "colab": {
          "base_uri": "https://localhost:8080/",
          "height": 778
        }
      },
      "source": [
        "df['PPO'] = TA.PPO(ohlcv)['PPO'] - TA.PPO(ohlcv)['SIGNAL']\n",
        "print(df['PPO'].describe())\n",
        "sns.distplot(df['PPO'].dropna())\n",
        "df.tail()"
      ],
      "execution_count": 19,
      "outputs": [
        {
          "output_type": "stream",
          "text": [
            "count    2877.000000\n",
            "mean        0.000087\n",
            "std         0.383064\n",
            "min        -2.154603\n",
            "25%        -0.223186\n",
            "50%         0.000829\n",
            "75%         0.231133\n",
            "max         2.330703\n",
            "Name: PPO, dtype: float64\n"
          ],
          "name": "stdout"
        },
        {
          "output_type": "execute_result",
          "data": {
            "text/html": [
              "<div>\n",
              "<style scoped>\n",
              "    .dataframe tbody tr th:only-of-type {\n",
              "        vertical-align: middle;\n",
              "    }\n",
              "\n",
              "    .dataframe tbody tr th {\n",
              "        vertical-align: top;\n",
              "    }\n",
              "\n",
              "    .dataframe thead th {\n",
              "        text-align: right;\n",
              "    }\n",
              "</style>\n",
              "<table border=\"1\" class=\"dataframe\">\n",
              "  <thead>\n",
              "    <tr style=\"text-align: right;\">\n",
              "      <th></th>\n",
              "      <th>High</th>\n",
              "      <th>Low</th>\n",
              "      <th>Open</th>\n",
              "      <th>Close</th>\n",
              "      <th>Volume</th>\n",
              "      <th>triple_barrier_signal</th>\n",
              "      <th>RSI</th>\n",
              "      <th>Williams %R</th>\n",
              "      <th>SMA</th>\n",
              "      <th>EMA</th>\n",
              "      <th>WMA</th>\n",
              "      <th>HMA</th>\n",
              "      <th>TEMA</th>\n",
              "      <th>CCI</th>\n",
              "      <th>CMO</th>\n",
              "      <th>MACD</th>\n",
              "      <th>PPO</th>\n",
              "    </tr>\n",
              "    <tr>\n",
              "      <th>Date</th>\n",
              "      <th></th>\n",
              "      <th></th>\n",
              "      <th></th>\n",
              "      <th></th>\n",
              "      <th></th>\n",
              "      <th></th>\n",
              "      <th></th>\n",
              "      <th></th>\n",
              "      <th></th>\n",
              "      <th></th>\n",
              "      <th></th>\n",
              "      <th></th>\n",
              "      <th></th>\n",
              "      <th></th>\n",
              "      <th></th>\n",
              "      <th></th>\n",
              "      <th></th>\n",
              "    </tr>\n",
              "  </thead>\n",
              "  <tbody>\n",
              "    <tr>\n",
              "      <th>2019-09-02</th>\n",
              "      <td>82.000000</td>\n",
              "      <td>81.650002</td>\n",
              "      <td>81.800003</td>\n",
              "      <td>81.900002</td>\n",
              "      <td>6457870.0</td>\n",
              "      <td>0</td>\n",
              "      <td>65.211685</td>\n",
              "      <td>-3.448221</td>\n",
              "      <td>81.687805</td>\n",
              "      <td>80.950204</td>\n",
              "      <td>80.684445</td>\n",
              "      <td>80.885001</td>\n",
              "      <td>81.603058</td>\n",
              "      <td>143.717155</td>\n",
              "      <td>27.500014</td>\n",
              "      <td>0.180702</td>\n",
              "      <td>0.223065</td>\n",
              "    </tr>\n",
              "    <tr>\n",
              "      <th>2019-09-03</th>\n",
              "      <td>82.000000</td>\n",
              "      <td>81.199997</td>\n",
              "      <td>81.849998</td>\n",
              "      <td>81.199997</td>\n",
              "      <td>5052925.0</td>\n",
              "      <td>0</td>\n",
              "      <td>53.807044</td>\n",
              "      <td>-27.586298</td>\n",
              "      <td>81.668293</td>\n",
              "      <td>81.000163</td>\n",
              "      <td>80.651111</td>\n",
              "      <td>81.275001</td>\n",
              "      <td>81.552079</td>\n",
              "      <td>96.940970</td>\n",
              "      <td>4.444377</td>\n",
              "      <td>0.171747</td>\n",
              "      <td>0.212018</td>\n",
              "    </tr>\n",
              "    <tr>\n",
              "      <th>2019-09-04</th>\n",
              "      <td>82.199997</td>\n",
              "      <td>81.400002</td>\n",
              "      <td>81.449997</td>\n",
              "      <td>82.150002</td>\n",
              "      <td>10748771.0</td>\n",
              "      <td>0</td>\n",
              "      <td>63.737814</td>\n",
              "      <td>-1.612756</td>\n",
              "      <td>81.674390</td>\n",
              "      <td>81.230130</td>\n",
              "      <td>80.621112</td>\n",
              "      <td>81.764999</td>\n",
              "      <td>81.962576</td>\n",
              "      <td>120.541026</td>\n",
              "      <td>19.626203</td>\n",
              "      <td>0.220213</td>\n",
              "      <td>0.271799</td>\n",
              "    </tr>\n",
              "    <tr>\n",
              "      <th>2019-09-05</th>\n",
              "      <td>83.199997</td>\n",
              "      <td>82.550003</td>\n",
              "      <td>82.550003</td>\n",
              "      <td>83.000000</td>\n",
              "      <td>25429390.0</td>\n",
              "      <td>0</td>\n",
              "      <td>70.324234</td>\n",
              "      <td>-5.063218</td>\n",
              "      <td>81.708536</td>\n",
              "      <td>81.584104</td>\n",
              "      <td>80.655556</td>\n",
              "      <td>81.850000</td>\n",
              "      <td>82.618155</td>\n",
              "      <td>164.641823</td>\n",
              "      <td>32.786852</td>\n",
              "      <td>0.295244</td>\n",
              "      <td>0.363960</td>\n",
              "    </tr>\n",
              "    <tr>\n",
              "      <th>2019-09-06</th>\n",
              "      <td>83.550003</td>\n",
              "      <td>83.250000</td>\n",
              "      <td>83.250000</td>\n",
              "      <td>83.500000</td>\n",
              "      <td>17226303.0</td>\n",
              "      <td>0</td>\n",
              "      <td>73.581167</td>\n",
              "      <td>-1.265899</td>\n",
              "      <td>81.757317</td>\n",
              "      <td>81.967283</td>\n",
              "      <td>81.045556</td>\n",
              "      <td>82.074999</td>\n",
              "      <td>83.251691</td>\n",
              "      <td>160.812962</td>\n",
              "      <td>73.333198</td>\n",
              "      <td>0.359984</td>\n",
              "      <td>0.442881</td>\n",
              "    </tr>\n",
              "  </tbody>\n",
              "</table>\n",
              "</div>"
            ],
            "text/plain": [
              "                 High        Low       Open  ...        CMO      MACD       PPO\n",
              "Date                                         ...                               \n",
              "2019-09-02  82.000000  81.650002  81.800003  ...  27.500014  0.180702  0.223065\n",
              "2019-09-03  82.000000  81.199997  81.849998  ...   4.444377  0.171747  0.212018\n",
              "2019-09-04  82.199997  81.400002  81.449997  ...  19.626203  0.220213  0.271799\n",
              "2019-09-05  83.199997  82.550003  82.550003  ...  32.786852  0.295244  0.363960\n",
              "2019-09-06  83.550003  83.250000  83.250000  ...  73.333198  0.359984  0.442881\n",
              "\n",
              "[5 rows x 17 columns]"
            ]
          },
          "metadata": {
            "tags": []
          },
          "execution_count": 19
        },
        {
          "output_type": "display_data",
          "data": {
            "image/png": "[encoded data removed]",
            "text/plain": [
              "<Figure size 432x288 with 1 Axes>"
            ]
          },
          "metadata": {
            "tags": []
          }
        }
      ]
    },
    {
      "cell_type": "markdown",
      "metadata": {
        "id": "5BBE8vaWmdGN",
        "colab_type": "text"
      },
      "source": [
        "# ROC"
      ]
    },
    {
      "cell_type": "code",
      "metadata": {
        "id": "OKI3MqwhmdOj",
        "colab_type": "code",
        "outputId": "ebd1d864-6f71-4d65-b670-9112f1438bf3",
        "colab": {
          "base_uri": "https://localhost:8080/",
          "height": 778
        }
      },
      "source": [
        "df['ROC'] = TA.ROC(ohlcv)\n",
        "print(df['ROC'].describe())\n",
        "sns.distplot(df['ROC'].dropna())\n",
        "df.tail()"
      ],
      "execution_count": 20,
      "outputs": [
        {
          "output_type": "stream",
          "text": [
            "count    2865.000000\n",
            "mean        0.223087\n",
            "std         4.117214\n",
            "min       -25.105744\n",
            "25%        -1.878360\n",
            "50%         0.484427\n",
            "75%         2.622500\n",
            "max        19.192592\n",
            "Name: ROC, dtype: float64\n"
          ],
          "name": "stdout"
        },
        {
          "output_type": "execute_result",
          "data": {
            "text/html": [
              "<div>\n",
              "<style scoped>\n",
              "    .dataframe tbody tr th:only-of-type {\n",
              "        vertical-align: middle;\n",
              "    }\n",
              "\n",
              "    .dataframe tbody tr th {\n",
              "        vertical-align: top;\n",
              "    }\n",
              "\n",
              "    .dataframe thead th {\n",
              "        text-align: right;\n",
              "    }\n",
              "</style>\n",
              "<table border=\"1\" class=\"dataframe\">\n",
              "  <thead>\n",
              "    <tr style=\"text-align: right;\">\n",
              "      <th></th>\n",
              "      <th>High</th>\n",
              "      <th>Low</th>\n",
              "      <th>Open</th>\n",
              "      <th>Close</th>\n",
              "      <th>Volume</th>\n",
              "      <th>triple_barrier_signal</th>\n",
              "      <th>RSI</th>\n",
              "      <th>Williams %R</th>\n",
              "      <th>SMA</th>\n",
              "      <th>EMA</th>\n",
              "      <th>WMA</th>\n",
              "      <th>HMA</th>\n",
              "      <th>TEMA</th>\n",
              "      <th>CCI</th>\n",
              "      <th>CMO</th>\n",
              "      <th>MACD</th>\n",
              "      <th>PPO</th>\n",
              "      <th>ROC</th>\n",
              "    </tr>\n",
              "    <tr>\n",
              "      <th>Date</th>\n",
              "      <th></th>\n",
              "      <th></th>\n",
              "      <th></th>\n",
              "      <th></th>\n",
              "      <th></th>\n",
              "      <th></th>\n",
              "      <th></th>\n",
              "      <th></th>\n",
              "      <th></th>\n",
              "      <th></th>\n",
              "      <th></th>\n",
              "      <th></th>\n",
              "      <th></th>\n",
              "      <th></th>\n",
              "      <th></th>\n",
              "      <th></th>\n",
              "      <th></th>\n",
              "      <th></th>\n",
              "    </tr>\n",
              "  </thead>\n",
              "  <tbody>\n",
              "    <tr>\n",
              "      <th>2019-09-02</th>\n",
              "      <td>82.000000</td>\n",
              "      <td>81.650002</td>\n",
              "      <td>81.800003</td>\n",
              "      <td>81.900002</td>\n",
              "      <td>6457870.0</td>\n",
              "      <td>0</td>\n",
              "      <td>65.211685</td>\n",
              "      <td>-3.448221</td>\n",
              "      <td>81.687805</td>\n",
              "      <td>80.950204</td>\n",
              "      <td>80.684445</td>\n",
              "      <td>80.885001</td>\n",
              "      <td>81.603058</td>\n",
              "      <td>143.717155</td>\n",
              "      <td>27.500014</td>\n",
              "      <td>0.180702</td>\n",
              "      <td>0.223065</td>\n",
              "      <td>1.992526</td>\n",
              "    </tr>\n",
              "    <tr>\n",
              "      <th>2019-09-03</th>\n",
              "      <td>82.000000</td>\n",
              "      <td>81.199997</td>\n",
              "      <td>81.849998</td>\n",
              "      <td>81.199997</td>\n",
              "      <td>5052925.0</td>\n",
              "      <td>0</td>\n",
              "      <td>53.807044</td>\n",
              "      <td>-27.586298</td>\n",
              "      <td>81.668293</td>\n",
              "      <td>81.000163</td>\n",
              "      <td>80.651111</td>\n",
              "      <td>81.275001</td>\n",
              "      <td>81.552079</td>\n",
              "      <td>96.940970</td>\n",
              "      <td>4.444377</td>\n",
              "      <td>0.171747</td>\n",
              "      <td>0.212018</td>\n",
              "      <td>2.266997</td>\n",
              "    </tr>\n",
              "    <tr>\n",
              "      <th>2019-09-04</th>\n",
              "      <td>82.199997</td>\n",
              "      <td>81.400002</td>\n",
              "      <td>81.449997</td>\n",
              "      <td>82.150002</td>\n",
              "      <td>10748771.0</td>\n",
              "      <td>0</td>\n",
              "      <td>63.737814</td>\n",
              "      <td>-1.612756</td>\n",
              "      <td>81.674390</td>\n",
              "      <td>81.230130</td>\n",
              "      <td>80.621112</td>\n",
              "      <td>81.764999</td>\n",
              "      <td>81.962576</td>\n",
              "      <td>120.541026</td>\n",
              "      <td>19.626203</td>\n",
              "      <td>0.220213</td>\n",
              "      <td>0.271799</td>\n",
              "      <td>2.240203</td>\n",
              "    </tr>\n",
              "    <tr>\n",
              "      <th>2019-09-05</th>\n",
              "      <td>83.199997</td>\n",
              "      <td>82.550003</td>\n",
              "      <td>82.550003</td>\n",
              "      <td>83.000000</td>\n",
              "      <td>25429390.0</td>\n",
              "      <td>0</td>\n",
              "      <td>70.324234</td>\n",
              "      <td>-5.063218</td>\n",
              "      <td>81.708536</td>\n",
              "      <td>81.584104</td>\n",
              "      <td>80.655556</td>\n",
              "      <td>81.850000</td>\n",
              "      <td>82.618155</td>\n",
              "      <td>164.641823</td>\n",
              "      <td>32.786852</td>\n",
              "      <td>0.295244</td>\n",
              "      <td>0.363960</td>\n",
              "      <td>2.722768</td>\n",
              "    </tr>\n",
              "    <tr>\n",
              "      <th>2019-09-06</th>\n",
              "      <td>83.550003</td>\n",
              "      <td>83.250000</td>\n",
              "      <td>83.250000</td>\n",
              "      <td>83.500000</td>\n",
              "      <td>17226303.0</td>\n",
              "      <td>0</td>\n",
              "      <td>73.581167</td>\n",
              "      <td>-1.265899</td>\n",
              "      <td>81.757317</td>\n",
              "      <td>81.967283</td>\n",
              "      <td>81.045556</td>\n",
              "      <td>82.074999</td>\n",
              "      <td>83.251691</td>\n",
              "      <td>160.812962</td>\n",
              "      <td>73.333198</td>\n",
              "      <td>0.359984</td>\n",
              "      <td>0.442881</td>\n",
              "      <td>3.086420</td>\n",
              "    </tr>\n",
              "  </tbody>\n",
              "</table>\n",
              "</div>"
            ],
            "text/plain": [
              "                 High        Low       Open  ...      MACD       PPO       ROC\n",
              "Date                                         ...                              \n",
              "2019-09-02  82.000000  81.650002  81.800003  ...  0.180702  0.223065  1.992526\n",
              "2019-09-03  82.000000  81.199997  81.849998  ...  0.171747  0.212018  2.266997\n",
              "2019-09-04  82.199997  81.400002  81.449997  ...  0.220213  0.271799  2.240203\n",
              "2019-09-05  83.199997  82.550003  82.550003  ...  0.295244  0.363960  2.722768\n",
              "2019-09-06  83.550003  83.250000  83.250000  ...  0.359984  0.442881  3.086420\n",
              "\n",
              "[5 rows x 18 columns]"
            ]
          },
          "metadata": {
            "tags": []
          },
          "execution_count": 20
        },
        {
          "output_type": "display_data",
          "data": {
            "image/png": "[encoded data removed]",
            "text/plain": [
              "<Figure size 432x288 with 1 Axes>"
            ]
          },
          "metadata": {
            "tags": []
          }
        }
      ]
    },
    {
      "cell_type": "markdown",
      "metadata": {
        "id": "b9LTKsyvmuSd",
        "colab_type": "text"
      },
      "source": [
        "# CMFI"
      ]
    },
    {
      "cell_type": "code",
      "metadata": {
        "id": "somnlSTOmvjJ",
        "colab_type": "code",
        "outputId": "b5ccc866-367c-4fab-c7da-2e82db5c42ec",
        "colab": {
          "base_uri": "https://localhost:8080/",
          "height": 785
        }
      },
      "source": [
        "df['CFI'] = TA.CFI(ohlcv)\n",
        "print(df['CFI'].describe())\n",
        "sns.distplot(df['CFI'].dropna())\n",
        "df.tail()"
      ],
      "execution_count": 21,
      "outputs": [
        {
          "output_type": "stream",
          "text": [
            "count    2.868000e+03\n",
            "mean    -3.373043e+08\n",
            "std      1.625415e+08\n",
            "min     -8.755913e+08\n",
            "25%     -3.434069e+08\n",
            "50%     -3.068897e+08\n",
            "75%     -2.763640e+08\n",
            "max      1.163450e+08\n",
            "Name: CFI, dtype: float64\n"
          ],
          "name": "stdout"
        },
        {
          "output_type": "execute_result",
          "data": {
            "text/html": [
              "<div>\n",
              "<style scoped>\n",
              "    .dataframe tbody tr th:only-of-type {\n",
              "        vertical-align: middle;\n",
              "    }\n",
              "\n",
              "    .dataframe tbody tr th {\n",
              "        vertical-align: top;\n",
              "    }\n",
              "\n",
              "    .dataframe thead th {\n",
              "        text-align: right;\n",
              "    }\n",
              "</style>\n",
              "<table border=\"1\" class=\"dataframe\">\n",
              "  <thead>\n",
              "    <tr style=\"text-align: right;\">\n",
              "      <th></th>\n",
              "      <th>High</th>\n",
              "      <th>Low</th>\n",
              "      <th>Open</th>\n",
              "      <th>Close</th>\n",
              "      <th>Volume</th>\n",
              "      <th>triple_barrier_signal</th>\n",
              "      <th>RSI</th>\n",
              "      <th>Williams %R</th>\n",
              "      <th>SMA</th>\n",
              "      <th>EMA</th>\n",
              "      <th>WMA</th>\n",
              "      <th>HMA</th>\n",
              "      <th>TEMA</th>\n",
              "      <th>CCI</th>\n",
              "      <th>CMO</th>\n",
              "      <th>MACD</th>\n",
              "      <th>PPO</th>\n",
              "      <th>ROC</th>\n",
              "      <th>CFI</th>\n",
              "    </tr>\n",
              "    <tr>\n",
              "      <th>Date</th>\n",
              "      <th></th>\n",
              "      <th></th>\n",
              "      <th></th>\n",
              "      <th></th>\n",
              "      <th></th>\n",
              "      <th></th>\n",
              "      <th></th>\n",
              "      <th></th>\n",
              "      <th></th>\n",
              "      <th></th>\n",
              "      <th></th>\n",
              "      <th></th>\n",
              "      <th></th>\n",
              "      <th></th>\n",
              "      <th></th>\n",
              "      <th></th>\n",
              "      <th></th>\n",
              "      <th></th>\n",
              "      <th></th>\n",
              "    </tr>\n",
              "  </thead>\n",
              "  <tbody>\n",
              "    <tr>\n",
              "      <th>2019-09-02</th>\n",
              "      <td>82.000000</td>\n",
              "      <td>81.650002</td>\n",
              "      <td>81.800003</td>\n",
              "      <td>81.900002</td>\n",
              "      <td>6457870.0</td>\n",
              "      <td>0</td>\n",
              "      <td>65.211685</td>\n",
              "      <td>-3.448221</td>\n",
              "      <td>81.687805</td>\n",
              "      <td>80.950204</td>\n",
              "      <td>80.684445</td>\n",
              "      <td>80.885001</td>\n",
              "      <td>81.603058</td>\n",
              "      <td>143.717155</td>\n",
              "      <td>27.500014</td>\n",
              "      <td>0.180702</td>\n",
              "      <td>0.223065</td>\n",
              "      <td>1.992526</td>\n",
              "      <td>-7.786882e+08</td>\n",
              "    </tr>\n",
              "    <tr>\n",
              "      <th>2019-09-03</th>\n",
              "      <td>82.000000</td>\n",
              "      <td>81.199997</td>\n",
              "      <td>81.849998</td>\n",
              "      <td>81.199997</td>\n",
              "      <td>5052925.0</td>\n",
              "      <td>0</td>\n",
              "      <td>53.807044</td>\n",
              "      <td>-27.586298</td>\n",
              "      <td>81.668293</td>\n",
              "      <td>81.000163</td>\n",
              "      <td>80.651111</td>\n",
              "      <td>81.275001</td>\n",
              "      <td>81.552079</td>\n",
              "      <td>96.940970</td>\n",
              "      <td>4.444377</td>\n",
              "      <td>0.171747</td>\n",
              "      <td>0.212018</td>\n",
              "      <td>2.266997</td>\n",
              "      <td>-7.770803e+08</td>\n",
              "    </tr>\n",
              "    <tr>\n",
              "      <th>2019-09-04</th>\n",
              "      <td>82.199997</td>\n",
              "      <td>81.400002</td>\n",
              "      <td>81.449997</td>\n",
              "      <td>82.150002</td>\n",
              "      <td>10748771.0</td>\n",
              "      <td>0</td>\n",
              "      <td>63.737814</td>\n",
              "      <td>-1.612756</td>\n",
              "      <td>81.674390</td>\n",
              "      <td>81.230130</td>\n",
              "      <td>80.621112</td>\n",
              "      <td>81.764999</td>\n",
              "      <td>81.962576</td>\n",
              "      <td>120.541026</td>\n",
              "      <td>19.626203</td>\n",
              "      <td>0.220213</td>\n",
              "      <td>0.271799</td>\n",
              "      <td>2.240203</td>\n",
              "      <td>-7.739082e+08</td>\n",
              "    </tr>\n",
              "    <tr>\n",
              "      <th>2019-09-05</th>\n",
              "      <td>83.199997</td>\n",
              "      <td>82.550003</td>\n",
              "      <td>82.550003</td>\n",
              "      <td>83.000000</td>\n",
              "      <td>25429390.0</td>\n",
              "      <td>0</td>\n",
              "      <td>70.324234</td>\n",
              "      <td>-5.063218</td>\n",
              "      <td>81.708536</td>\n",
              "      <td>81.584104</td>\n",
              "      <td>80.655556</td>\n",
              "      <td>81.850000</td>\n",
              "      <td>82.618155</td>\n",
              "      <td>164.641823</td>\n",
              "      <td>32.786852</td>\n",
              "      <td>0.295244</td>\n",
              "      <td>0.363960</td>\n",
              "      <td>2.722768</td>\n",
              "      <td>-7.673828e+08</td>\n",
              "    </tr>\n",
              "    <tr>\n",
              "      <th>2019-09-06</th>\n",
              "      <td>83.550003</td>\n",
              "      <td>83.250000</td>\n",
              "      <td>83.250000</td>\n",
              "      <td>83.500000</td>\n",
              "      <td>17226303.0</td>\n",
              "      <td>0</td>\n",
              "      <td>73.581167</td>\n",
              "      <td>-1.265899</td>\n",
              "      <td>81.757317</td>\n",
              "      <td>81.967283</td>\n",
              "      <td>81.045556</td>\n",
              "      <td>82.074999</td>\n",
              "      <td>83.251691</td>\n",
              "      <td>160.812962</td>\n",
              "      <td>73.333198</td>\n",
              "      <td>0.359984</td>\n",
              "      <td>0.442881</td>\n",
              "      <td>3.086420</td>\n",
              "      <td>-7.604778e+08</td>\n",
              "    </tr>\n",
              "  </tbody>\n",
              "</table>\n",
              "</div>"
            ],
            "text/plain": [
              "                 High        Low       Open  ...       PPO       ROC           CFI\n",
              "Date                                         ...                                  \n",
              "2019-09-02  82.000000  81.650002  81.800003  ...  0.223065  1.992526 -7.786882e+08\n",
              "2019-09-03  82.000000  81.199997  81.849998  ...  0.212018  2.266997 -7.770803e+08\n",
              "2019-09-04  82.199997  81.400002  81.449997  ...  0.271799  2.240203 -7.739082e+08\n",
              "2019-09-05  83.199997  82.550003  82.550003  ...  0.363960  2.722768 -7.673828e+08\n",
              "2019-09-06  83.550003  83.250000  83.250000  ...  0.442881  3.086420 -7.604778e+08\n",
              "\n",
              "[5 rows x 19 columns]"
            ]
          },
          "metadata": {
            "tags": []
          },
          "execution_count": 21
        },
        {
          "output_type": "display_data",
          "data": {
            "image/png": "[encoded data removed]",
            "text/plain": [
              "<Figure size 432x288 with 1 Axes>"
            ]
          },
          "metadata": {
            "tags": []
          }
        }
      ]
    },
    {
      "cell_type": "markdown",
      "metadata": {
        "id": "8WydSl0doUYk",
        "colab_type": "text"
      },
      "source": [
        "# DMI"
      ]
    },
    {
      "cell_type": "code",
      "metadata": {
        "id": "xRTnC6DboU05",
        "colab_type": "code",
        "outputId": "733ee503-d0c5-4bf2-af2c-2007185d2e9d",
        "colab": {
          "base_uri": "https://localhost:8080/",
          "height": 1000
        }
      },
      "source": [
        "df['DMI'] = TA.DMI(ohlcv)['DI+'] - TA.DMI(ohlcv)['DI-']\n",
        "print(df['DMI'].describe())\n",
        "sns.distplot(df['DMI'].dropna())\n",
        "df.tail()"
      ],
      "execution_count": 22,
      "outputs": [
        {
          "output_type": "stream",
          "text": [
            "/usr/local/lib/python3.6/dist-packages/finta/finta.py:792: SettingWithCopyWarning: \n",
            "A value is trying to be set on a copy of a slice from a DataFrame.\n",
            "Try using .loc[row_indexer,col_indexer] = value instead\n",
            "\n",
            "See the caveats in the documentation: http://pandas.pydata.org/pandas-docs/stable/indexing.html#indexing-view-versus-copy\n",
            "  ohlc[\"up_move\"] = ohlc[\"high\"].diff()\n",
            "/usr/local/lib/python3.6/dist-packages/finta/finta.py:793: SettingWithCopyWarning: \n",
            "A value is trying to be set on a copy of a slice from a DataFrame.\n",
            "Try using .loc[row_indexer,col_indexer] = value instead\n",
            "\n",
            "See the caveats in the documentation: http://pandas.pydata.org/pandas-docs/stable/indexing.html#indexing-view-versus-copy\n",
            "  ohlc[\"down_move\"] = -ohlc[\"low\"].diff()\n",
            "/usr/local/lib/python3.6/dist-packages/finta/finta.py:809: SettingWithCopyWarning: \n",
            "A value is trying to be set on a copy of a slice from a DataFrame.\n",
            "Try using .loc[row_indexer,col_indexer] = value instead\n",
            "\n",
            "See the caveats in the documentation: http://pandas.pydata.org/pandas-docs/stable/indexing.html#indexing-view-versus-copy\n",
            "  ohlc[\"DMp\"] = DMp\n",
            "/usr/local/lib/python3.6/dist-packages/finta/finta.py:810: SettingWithCopyWarning: \n",
            "A value is trying to be set on a copy of a slice from a DataFrame.\n",
            "Try using .loc[row_indexer,col_indexer] = value instead\n",
            "\n",
            "See the caveats in the documentation: http://pandas.pydata.org/pandas-docs/stable/indexing.html#indexing-view-versus-copy\n",
            "  ohlc[\"DMm\"] = DMm\n"
          ],
          "name": "stderr"
        },
        {
          "output_type": "stream",
          "text": [
            "count    2794.000000\n",
            "mean       -0.642832\n",
            "std        22.381371\n",
            "min      -127.770346\n",
            "25%       -13.539123\n",
            "50%         1.638485\n",
            "75%        14.735095\n",
            "max        70.975012\n",
            "Name: DMI, dtype: float64\n"
          ],
          "name": "stdout"
        },
        {
          "output_type": "execute_result",
          "data": {
            "text/html": [
              "<div>\n",
              "<style scoped>\n",
              "    .dataframe tbody tr th:only-of-type {\n",
              "        vertical-align: middle;\n",
              "    }\n",
              "\n",
              "    .dataframe tbody tr th {\n",
              "        vertical-align: top;\n",
              "    }\n",
              "\n",
              "    .dataframe thead th {\n",
              "        text-align: right;\n",
              "    }\n",
              "</style>\n",
              "<table border=\"1\" class=\"dataframe\">\n",
              "  <thead>\n",
              "    <tr style=\"text-align: right;\">\n",
              "      <th></th>\n",
              "      <th>High</th>\n",
              "      <th>Low</th>\n",
              "      <th>Open</th>\n",
              "      <th>Close</th>\n",
              "      <th>Volume</th>\n",
              "      <th>triple_barrier_signal</th>\n",
              "      <th>RSI</th>\n",
              "      <th>Williams %R</th>\n",
              "      <th>SMA</th>\n",
              "      <th>EMA</th>\n",
              "      <th>WMA</th>\n",
              "      <th>HMA</th>\n",
              "      <th>TEMA</th>\n",
              "      <th>CCI</th>\n",
              "      <th>CMO</th>\n",
              "      <th>MACD</th>\n",
              "      <th>PPO</th>\n",
              "      <th>ROC</th>\n",
              "      <th>CFI</th>\n",
              "      <th>DMI</th>\n",
              "    </tr>\n",
              "    <tr>\n",
              "      <th>Date</th>\n",
              "      <th></th>\n",
              "      <th></th>\n",
              "      <th></th>\n",
              "      <th></th>\n",
              "      <th></th>\n",
              "      <th></th>\n",
              "      <th></th>\n",
              "      <th></th>\n",
              "      <th></th>\n",
              "      <th></th>\n",
              "      <th></th>\n",
              "      <th></th>\n",
              "      <th></th>\n",
              "      <th></th>\n",
              "      <th></th>\n",
              "      <th></th>\n",
              "      <th></th>\n",
              "      <th></th>\n",
              "      <th></th>\n",
              "      <th></th>\n",
              "    </tr>\n",
              "  </thead>\n",
              "  <tbody>\n",
              "    <tr>\n",
              "      <th>2019-09-02</th>\n",
              "      <td>82.000000</td>\n",
              "      <td>81.650002</td>\n",
              "      <td>81.800003</td>\n",
              "      <td>81.900002</td>\n",
              "      <td>6457870.0</td>\n",
              "      <td>0</td>\n",
              "      <td>65.211685</td>\n",
              "      <td>-3.448221</td>\n",
              "      <td>81.687805</td>\n",
              "      <td>80.950204</td>\n",
              "      <td>80.684445</td>\n",
              "      <td>80.885001</td>\n",
              "      <td>81.603058</td>\n",
              "      <td>143.717155</td>\n",
              "      <td>27.500014</td>\n",
              "      <td>0.180702</td>\n",
              "      <td>0.223065</td>\n",
              "      <td>1.992526</td>\n",
              "      <td>-7.786882e+08</td>\n",
              "      <td>11.995912</td>\n",
              "    </tr>\n",
              "    <tr>\n",
              "      <th>2019-09-03</th>\n",
              "      <td>82.000000</td>\n",
              "      <td>81.199997</td>\n",
              "      <td>81.849998</td>\n",
              "      <td>81.199997</td>\n",
              "      <td>5052925.0</td>\n",
              "      <td>0</td>\n",
              "      <td>53.807044</td>\n",
              "      <td>-27.586298</td>\n",
              "      <td>81.668293</td>\n",
              "      <td>81.000163</td>\n",
              "      <td>80.651111</td>\n",
              "      <td>81.275001</td>\n",
              "      <td>81.552079</td>\n",
              "      <td>96.940970</td>\n",
              "      <td>4.444377</td>\n",
              "      <td>0.171747</td>\n",
              "      <td>0.212018</td>\n",
              "      <td>2.266997</td>\n",
              "      <td>-7.770803e+08</td>\n",
              "      <td>3.011767</td>\n",
              "    </tr>\n",
              "    <tr>\n",
              "      <th>2019-09-04</th>\n",
              "      <td>82.199997</td>\n",
              "      <td>81.400002</td>\n",
              "      <td>81.449997</td>\n",
              "      <td>82.150002</td>\n",
              "      <td>10748771.0</td>\n",
              "      <td>0</td>\n",
              "      <td>63.737814</td>\n",
              "      <td>-1.612756</td>\n",
              "      <td>81.674390</td>\n",
              "      <td>81.230130</td>\n",
              "      <td>80.621112</td>\n",
              "      <td>81.764999</td>\n",
              "      <td>81.962576</td>\n",
              "      <td>120.541026</td>\n",
              "      <td>19.626203</td>\n",
              "      <td>0.220213</td>\n",
              "      <td>0.271799</td>\n",
              "      <td>2.240203</td>\n",
              "      <td>-7.739082e+08</td>\n",
              "      <td>5.926209</td>\n",
              "    </tr>\n",
              "    <tr>\n",
              "      <th>2019-09-05</th>\n",
              "      <td>83.199997</td>\n",
              "      <td>82.550003</td>\n",
              "      <td>82.550003</td>\n",
              "      <td>83.000000</td>\n",
              "      <td>25429390.0</td>\n",
              "      <td>0</td>\n",
              "      <td>70.324234</td>\n",
              "      <td>-5.063218</td>\n",
              "      <td>81.708536</td>\n",
              "      <td>81.584104</td>\n",
              "      <td>80.655556</td>\n",
              "      <td>81.850000</td>\n",
              "      <td>82.618155</td>\n",
              "      <td>164.641823</td>\n",
              "      <td>32.786852</td>\n",
              "      <td>0.295244</td>\n",
              "      <td>0.363960</td>\n",
              "      <td>2.722768</td>\n",
              "      <td>-7.673828e+08</td>\n",
              "      <td>21.704096</td>\n",
              "    </tr>\n",
              "    <tr>\n",
              "      <th>2019-09-06</th>\n",
              "      <td>83.550003</td>\n",
              "      <td>83.250000</td>\n",
              "      <td>83.250000</td>\n",
              "      <td>83.500000</td>\n",
              "      <td>17226303.0</td>\n",
              "      <td>0</td>\n",
              "      <td>73.581167</td>\n",
              "      <td>-1.265899</td>\n",
              "      <td>81.757317</td>\n",
              "      <td>81.967283</td>\n",
              "      <td>81.045556</td>\n",
              "      <td>82.074999</td>\n",
              "      <td>83.251691</td>\n",
              "      <td>160.812962</td>\n",
              "      <td>73.333198</td>\n",
              "      <td>0.359984</td>\n",
              "      <td>0.442881</td>\n",
              "      <td>3.086420</td>\n",
              "      <td>-7.604778e+08</td>\n",
              "      <td>24.639314</td>\n",
              "    </tr>\n",
              "  </tbody>\n",
              "</table>\n",
              "</div>"
            ],
            "text/plain": [
              "                 High        Low       Open  ...       ROC           CFI        DMI\n",
              "Date                                         ...                                   \n",
              "2019-09-02  82.000000  81.650002  81.800003  ...  1.992526 -7.786882e+08  11.995912\n",
              "2019-09-03  82.000000  81.199997  81.849998  ...  2.266997 -7.770803e+08   3.011767\n",
              "2019-09-04  82.199997  81.400002  81.449997  ...  2.240203 -7.739082e+08   5.926209\n",
              "2019-09-05  83.199997  82.550003  82.550003  ...  2.722768 -7.673828e+08  21.704096\n",
              "2019-09-06  83.550003  83.250000  83.250000  ...  3.086420 -7.604778e+08  24.639314\n",
              "\n",
              "[5 rows x 20 columns]"
            ]
          },
          "metadata": {
            "tags": []
          },
          "execution_count": 22
        },
        {
          "output_type": "display_data",
          "data": {
            "image/png": "[encoded data removed]",
            "text/plain": [
              "<Figure size 432x288 with 1 Axes>"
            ]
          },
          "metadata": {
            "tags": []
          }
        }
      ]
    },
    {
      "cell_type": "markdown",
      "metadata": {
        "id": "96c_FgXOo98u",
        "colab_type": "text"
      },
      "source": [
        "# SAR"
      ]
    },
    {
      "cell_type": "code",
      "metadata": {
        "id": "eRPVEtrmo-bi",
        "colab_type": "code",
        "outputId": "ceb24eb6-a6d6-49cb-bdb8-e0b89147af36",
        "colab": {
          "base_uri": "https://localhost:8080/",
          "height": 778
        }
      },
      "source": [
        "df['SAR'] = TA.SAR(ohlcv)\n",
        "print(df['SAR'].describe())\n",
        "sns.distplot(df['SAR'].dropna())\n",
        "df.tail()"
      ],
      "execution_count": 23,
      "outputs": [
        {
          "output_type": "stream",
          "text": [
            "count    2877.000000\n",
            "mean       62.045070\n",
            "std        12.555531\n",
            "min        27.870001\n",
            "25%        53.894021\n",
            "50%        59.978199\n",
            "75%        70.747998\n",
            "max        88.400002\n",
            "Name: SAR, dtype: float64\n"
          ],
          "name": "stdout"
        },
        {
          "output_type": "execute_result",
          "data": {
            "text/html": [
              "<div>\n",
              "<style scoped>\n",
              "    .dataframe tbody tr th:only-of-type {\n",
              "        vertical-align: middle;\n",
              "    }\n",
              "\n",
              "    .dataframe tbody tr th {\n",
              "        vertical-align: top;\n",
              "    }\n",
              "\n",
              "    .dataframe thead th {\n",
              "        text-align: right;\n",
              "    }\n",
              "</style>\n",
              "<table border=\"1\" class=\"dataframe\">\n",
              "  <thead>\n",
              "    <tr style=\"text-align: right;\">\n",
              "      <th></th>\n",
              "      <th>High</th>\n",
              "      <th>Low</th>\n",
              "      <th>Open</th>\n",
              "      <th>Close</th>\n",
              "      <th>Volume</th>\n",
              "      <th>triple_barrier_signal</th>\n",
              "      <th>RSI</th>\n",
              "      <th>Williams %R</th>\n",
              "      <th>SMA</th>\n",
              "      <th>EMA</th>\n",
              "      <th>WMA</th>\n",
              "      <th>HMA</th>\n",
              "      <th>TEMA</th>\n",
              "      <th>CCI</th>\n",
              "      <th>CMO</th>\n",
              "      <th>MACD</th>\n",
              "      <th>PPO</th>\n",
              "      <th>ROC</th>\n",
              "      <th>CFI</th>\n",
              "      <th>DMI</th>\n",
              "      <th>SAR</th>\n",
              "    </tr>\n",
              "    <tr>\n",
              "      <th>Date</th>\n",
              "      <th></th>\n",
              "      <th></th>\n",
              "      <th></th>\n",
              "      <th></th>\n",
              "      <th></th>\n",
              "      <th></th>\n",
              "      <th></th>\n",
              "      <th></th>\n",
              "      <th></th>\n",
              "      <th></th>\n",
              "      <th></th>\n",
              "      <th></th>\n",
              "      <th></th>\n",
              "      <th></th>\n",
              "      <th></th>\n",
              "      <th></th>\n",
              "      <th></th>\n",
              "      <th></th>\n",
              "      <th></th>\n",
              "      <th></th>\n",
              "      <th></th>\n",
              "    </tr>\n",
              "  </thead>\n",
              "  <tbody>\n",
              "    <tr>\n",
              "      <th>2019-09-02</th>\n",
              "      <td>82.000000</td>\n",
              "      <td>81.650002</td>\n",
              "      <td>81.800003</td>\n",
              "      <td>81.900002</td>\n",
              "      <td>6457870.0</td>\n",
              "      <td>0</td>\n",
              "      <td>65.211685</td>\n",
              "      <td>-3.448221</td>\n",
              "      <td>81.687805</td>\n",
              "      <td>80.950204</td>\n",
              "      <td>80.684445</td>\n",
              "      <td>80.885001</td>\n",
              "      <td>81.603058</td>\n",
              "      <td>143.717155</td>\n",
              "      <td>27.500014</td>\n",
              "      <td>0.180702</td>\n",
              "      <td>0.223065</td>\n",
              "      <td>1.992526</td>\n",
              "      <td>-7.786882e+08</td>\n",
              "      <td>11.995912</td>\n",
              "      <td>79.594105</td>\n",
              "    </tr>\n",
              "    <tr>\n",
              "      <th>2019-09-03</th>\n",
              "      <td>82.000000</td>\n",
              "      <td>81.199997</td>\n",
              "      <td>81.849998</td>\n",
              "      <td>81.199997</td>\n",
              "      <td>5052925.0</td>\n",
              "      <td>0</td>\n",
              "      <td>53.807044</td>\n",
              "      <td>-27.586298</td>\n",
              "      <td>81.668293</td>\n",
              "      <td>81.000163</td>\n",
              "      <td>80.651111</td>\n",
              "      <td>81.275001</td>\n",
              "      <td>81.552079</td>\n",
              "      <td>96.940970</td>\n",
              "      <td>4.444377</td>\n",
              "      <td>0.171747</td>\n",
              "      <td>0.212018</td>\n",
              "      <td>2.266997</td>\n",
              "      <td>-7.770803e+08</td>\n",
              "      <td>3.011767</td>\n",
              "      <td>79.834694</td>\n",
              "    </tr>\n",
              "    <tr>\n",
              "      <th>2019-09-04</th>\n",
              "      <td>82.199997</td>\n",
              "      <td>81.400002</td>\n",
              "      <td>81.449997</td>\n",
              "      <td>82.150002</td>\n",
              "      <td>10748771.0</td>\n",
              "      <td>0</td>\n",
              "      <td>63.737814</td>\n",
              "      <td>-1.612756</td>\n",
              "      <td>81.674390</td>\n",
              "      <td>81.230130</td>\n",
              "      <td>80.621112</td>\n",
              "      <td>81.764999</td>\n",
              "      <td>81.962576</td>\n",
              "      <td>120.541026</td>\n",
              "      <td>19.626203</td>\n",
              "      <td>0.220213</td>\n",
              "      <td>0.271799</td>\n",
              "      <td>2.240203</td>\n",
              "      <td>-7.739082e+08</td>\n",
              "      <td>5.926209</td>\n",
              "      <td>80.051225</td>\n",
              "    </tr>\n",
              "    <tr>\n",
              "      <th>2019-09-05</th>\n",
              "      <td>83.199997</td>\n",
              "      <td>82.550003</td>\n",
              "      <td>82.550003</td>\n",
              "      <td>83.000000</td>\n",
              "      <td>25429390.0</td>\n",
              "      <td>0</td>\n",
              "      <td>70.324234</td>\n",
              "      <td>-5.063218</td>\n",
              "      <td>81.708536</td>\n",
              "      <td>81.584104</td>\n",
              "      <td>80.655556</td>\n",
              "      <td>81.850000</td>\n",
              "      <td>82.618155</td>\n",
              "      <td>164.641823</td>\n",
              "      <td>32.786852</td>\n",
              "      <td>0.295244</td>\n",
              "      <td>0.363960</td>\n",
              "      <td>2.722768</td>\n",
              "      <td>-7.673828e+08</td>\n",
              "      <td>21.704096</td>\n",
              "      <td>80.309077</td>\n",
              "    </tr>\n",
              "    <tr>\n",
              "      <th>2019-09-06</th>\n",
              "      <td>83.550003</td>\n",
              "      <td>83.250000</td>\n",
              "      <td>83.250000</td>\n",
              "      <td>83.500000</td>\n",
              "      <td>17226303.0</td>\n",
              "      <td>0</td>\n",
              "      <td>73.581167</td>\n",
              "      <td>-1.265899</td>\n",
              "      <td>81.757317</td>\n",
              "      <td>81.967283</td>\n",
              "      <td>81.045556</td>\n",
              "      <td>82.074999</td>\n",
              "      <td>83.251691</td>\n",
              "      <td>160.812962</td>\n",
              "      <td>73.333198</td>\n",
              "      <td>0.359984</td>\n",
              "      <td>0.442881</td>\n",
              "      <td>3.086420</td>\n",
              "      <td>-7.604778e+08</td>\n",
              "      <td>24.639314</td>\n",
              "      <td>80.713806</td>\n",
              "    </tr>\n",
              "  </tbody>\n",
              "</table>\n",
              "</div>"
            ],
            "text/plain": [
              "                 High        Low       Open  ...           CFI        DMI        SAR\n",
              "Date                                         ...                                    \n",
              "2019-09-02  82.000000  81.650002  81.800003  ... -7.786882e+08  11.995912  79.594105\n",
              "2019-09-03  82.000000  81.199997  81.849998  ... -7.770803e+08   3.011767  79.834694\n",
              "2019-09-04  82.199997  81.400002  81.449997  ... -7.739082e+08   5.926209  80.051225\n",
              "2019-09-05  83.199997  82.550003  82.550003  ... -7.673828e+08  21.704096  80.309077\n",
              "2019-09-06  83.550003  83.250000  83.250000  ... -7.604778e+08  24.639314  80.713806\n",
              "\n",
              "[5 rows x 21 columns]"
            ]
          },
          "metadata": {
            "tags": []
          },
          "execution_count": 23
        },
        {
          "output_type": "display_data",
          "data": {
            "image/png": "[encoded data removed]",
            "text/plain": [
              "<Figure size 432x288 with 1 Axes>"
            ]
          },
          "metadata": {
            "tags": []
          }
        }
      ]
    },
    {
      "cell_type": "markdown",
      "metadata": {
        "id": "MoqrDEejwYOV",
        "colab_type": "text"
      },
      "source": [
        "# columns選取"
      ]
    },
    {
      "cell_type": "code",
      "metadata": {
        "id": "qrGg0ojRKuE1",
        "colab_type": "code",
        "outputId": "e950bdeb-55e7-46c3-b1be-c65075d29b95",
        "colab": {
          "base_uri": "https://localhost:8080/",
          "height": 388
        }
      },
      "source": [
        "print(df.shape)\n",
        "df = df.dropna(axis=0)#刪除有缺失的row,會缺失主要因為用時間rolling計算技術指標導致,正常的\n",
        "features = df.columns[-15:].tolist() #取15個剛剛建立的技術指標當特徵\n",
        "y_name = 'triple_barrier_signal' #當作labels\n",
        "df = df[features+[y_name]]\n",
        "print(df.shape)\n",
        "df.tail()"
      ],
      "execution_count": 24,
      "outputs": [
        {
          "output_type": "stream",
          "text": [
            "(2877, 21)\n",
            "(2794, 16)\n"
          ],
          "name": "stdout"
        },
        {
          "output_type": "execute_result",
          "data": {
            "text/html": [
              "<div>\n",
              "<style scoped>\n",
              "    .dataframe tbody tr th:only-of-type {\n",
              "        vertical-align: middle;\n",
              "    }\n",
              "\n",
              "    .dataframe tbody tr th {\n",
              "        vertical-align: top;\n",
              "    }\n",
              "\n",
              "    .dataframe thead th {\n",
              "        text-align: right;\n",
              "    }\n",
              "</style>\n",
              "<table border=\"1\" class=\"dataframe\">\n",
              "  <thead>\n",
              "    <tr style=\"text-align: right;\">\n",
              "      <th></th>\n",
              "      <th>RSI</th>\n",
              "      <th>Williams %R</th>\n",
              "      <th>SMA</th>\n",
              "      <th>EMA</th>\n",
              "      <th>WMA</th>\n",
              "      <th>HMA</th>\n",
              "      <th>TEMA</th>\n",
              "      <th>CCI</th>\n",
              "      <th>CMO</th>\n",
              "      <th>MACD</th>\n",
              "      <th>PPO</th>\n",
              "      <th>ROC</th>\n",
              "      <th>CFI</th>\n",
              "      <th>DMI</th>\n",
              "      <th>SAR</th>\n",
              "      <th>triple_barrier_signal</th>\n",
              "    </tr>\n",
              "    <tr>\n",
              "      <th>Date</th>\n",
              "      <th></th>\n",
              "      <th></th>\n",
              "      <th></th>\n",
              "      <th></th>\n",
              "      <th></th>\n",
              "      <th></th>\n",
              "      <th></th>\n",
              "      <th></th>\n",
              "      <th></th>\n",
              "      <th></th>\n",
              "      <th></th>\n",
              "      <th></th>\n",
              "      <th></th>\n",
              "      <th></th>\n",
              "      <th></th>\n",
              "      <th></th>\n",
              "    </tr>\n",
              "  </thead>\n",
              "  <tbody>\n",
              "    <tr>\n",
              "      <th>2019-09-02</th>\n",
              "      <td>65.211685</td>\n",
              "      <td>-3.448221</td>\n",
              "      <td>81.687805</td>\n",
              "      <td>80.950204</td>\n",
              "      <td>80.684445</td>\n",
              "      <td>80.885001</td>\n",
              "      <td>81.603058</td>\n",
              "      <td>143.717155</td>\n",
              "      <td>27.500014</td>\n",
              "      <td>0.180702</td>\n",
              "      <td>0.223065</td>\n",
              "      <td>1.992526</td>\n",
              "      <td>-7.786882e+08</td>\n",
              "      <td>11.995912</td>\n",
              "      <td>79.594105</td>\n",
              "      <td>0</td>\n",
              "    </tr>\n",
              "    <tr>\n",
              "      <th>2019-09-03</th>\n",
              "      <td>53.807044</td>\n",
              "      <td>-27.586298</td>\n",
              "      <td>81.668293</td>\n",
              "      <td>81.000163</td>\n",
              "      <td>80.651111</td>\n",
              "      <td>81.275001</td>\n",
              "      <td>81.552079</td>\n",
              "      <td>96.940970</td>\n",
              "      <td>4.444377</td>\n",
              "      <td>0.171747</td>\n",
              "      <td>0.212018</td>\n",
              "      <td>2.266997</td>\n",
              "      <td>-7.770803e+08</td>\n",
              "      <td>3.011767</td>\n",
              "      <td>79.834694</td>\n",
              "      <td>0</td>\n",
              "    </tr>\n",
              "    <tr>\n",
              "      <th>2019-09-04</th>\n",
              "      <td>63.737814</td>\n",
              "      <td>-1.612756</td>\n",
              "      <td>81.674390</td>\n",
              "      <td>81.230130</td>\n",
              "      <td>80.621112</td>\n",
              "      <td>81.764999</td>\n",
              "      <td>81.962576</td>\n",
              "      <td>120.541026</td>\n",
              "      <td>19.626203</td>\n",
              "      <td>0.220213</td>\n",
              "      <td>0.271799</td>\n",
              "      <td>2.240203</td>\n",
              "      <td>-7.739082e+08</td>\n",
              "      <td>5.926209</td>\n",
              "      <td>80.051225</td>\n",
              "      <td>0</td>\n",
              "    </tr>\n",
              "    <tr>\n",
              "      <th>2019-09-05</th>\n",
              "      <td>70.324234</td>\n",
              "      <td>-5.063218</td>\n",
              "      <td>81.708536</td>\n",
              "      <td>81.584104</td>\n",
              "      <td>80.655556</td>\n",
              "      <td>81.850000</td>\n",
              "      <td>82.618155</td>\n",
              "      <td>164.641823</td>\n",
              "      <td>32.786852</td>\n",
              "      <td>0.295244</td>\n",
              "      <td>0.363960</td>\n",
              "      <td>2.722768</td>\n",
              "      <td>-7.673828e+08</td>\n",
              "      <td>21.704096</td>\n",
              "      <td>80.309077</td>\n",
              "      <td>0</td>\n",
              "    </tr>\n",
              "    <tr>\n",
              "      <th>2019-09-06</th>\n",
              "      <td>73.581167</td>\n",
              "      <td>-1.265899</td>\n",
              "      <td>81.757317</td>\n",
              "      <td>81.967283</td>\n",
              "      <td>81.045556</td>\n",
              "      <td>82.074999</td>\n",
              "      <td>83.251691</td>\n",
              "      <td>160.812962</td>\n",
              "      <td>73.333198</td>\n",
              "      <td>0.359984</td>\n",
              "      <td>0.442881</td>\n",
              "      <td>3.086420</td>\n",
              "      <td>-7.604778e+08</td>\n",
              "      <td>24.639314</td>\n",
              "      <td>80.713806</td>\n",
              "      <td>0</td>\n",
              "    </tr>\n",
              "  </tbody>\n",
              "</table>\n",
              "</div>"
            ],
            "text/plain": [
              "                  RSI  Williams %R  ...        SAR  triple_barrier_signal\n",
              "Date                                ...                                  \n",
              "2019-09-02  65.211685    -3.448221  ...  79.594105                      0\n",
              "2019-09-03  53.807044   -27.586298  ...  79.834694                      0\n",
              "2019-09-04  63.737814    -1.612756  ...  80.051225                      0\n",
              "2019-09-05  70.324234    -5.063218  ...  80.309077                      0\n",
              "2019-09-06  73.581167    -1.265899  ...  80.713806                      0\n",
              "\n",
              "[5 rows x 16 columns]"
            ]
          },
          "metadata": {
            "tags": []
          },
          "execution_count": 24
        }
      ]
    },
    {
      "cell_type": "markdown",
      "metadata": {
        "id": "YSh6cJBEwgtg",
        "colab_type": "text"
      },
      "source": [
        "# 相關性分析"
      ]
    },
    {
      "cell_type": "code",
      "metadata": {
        "id": "hKy0pMZfLKEH",
        "colab_type": "code",
        "outputId": "15a59779-80d2-4211-fde4-500c1d3d42f4",
        "colab": {
          "base_uri": "https://localhost:8080/",
          "height": 812
        }
      },
      "source": [
        "import seaborn as sns\n",
        "import matplotlib.pyplot as plt\n",
        "plt.figure(figsize=(14,12))\n",
        "sns.heatmap(abs(df.corr()),annot=True,linewidths=0.1)"
      ],
      "execution_count": 25,
      "outputs": [
        {
          "output_type": "execute_result",
          "data": {
            "text/plain": [
              "<matplotlib.axes._subplots.AxesSubplot at 0x7f4014b066a0>"
            ]
          },
          "metadata": {
            "tags": []
          },
          "execution_count": 25
        },
        {
          "output_type": "display_data",
          "data": {
            "image/png": "[encoded data removed]",
            "text/plain": [
              "<Figure size 1008x864 with 2 Axes>"
            ]
          },
          "metadata": {
            "tags": []
          }
        }
      ]
    },
    {
      "cell_type": "markdown",
      "metadata": {
        "id": "c68TXVQaqGl3",
        "colab_type": "text"
      },
      "source": [
        "# features scaling"
      ]
    },
    {
      "cell_type": "code",
      "metadata": {
        "id": "JpZPZWfJqGuo",
        "colab_type": "code",
        "outputId": "2a52bb60-80c0-442c-e2fe-eea14306d65d",
        "colab": {
          "base_uri": "https://localhost:8080/",
          "height": 352
        }
      },
      "source": [
        "from sklearn.preprocessing import MinMaxScaler\n",
        "min_max_scaler = MinMaxScaler()\n",
        "df_minmax = min_max_scaler.fit_transform(df)#縮放到0-1之間\n",
        "df_minmax = pd.DataFrame(df_minmax,\n",
        "                         index = df.index,\n",
        "                         columns = df.columns)#轉回dataframe格式\n",
        "df_minmax[y_name] = df[y_name]#y不用MinMaxScaler\n",
        "df_minmax.tail()"
      ],
      "execution_count": 26,
      "outputs": [
        {
          "output_type": "execute_result",
          "data": {
            "text/html": [
              "<div>\n",
              "<style scoped>\n",
              "    .dataframe tbody tr th:only-of-type {\n",
              "        vertical-align: middle;\n",
              "    }\n",
              "\n",
              "    .dataframe tbody tr th {\n",
              "        vertical-align: top;\n",
              "    }\n",
              "\n",
              "    .dataframe thead th {\n",
              "        text-align: right;\n",
              "    }\n",
              "</style>\n",
              "<table border=\"1\" class=\"dataframe\">\n",
              "  <thead>\n",
              "    <tr style=\"text-align: right;\">\n",
              "      <th></th>\n",
              "      <th>RSI</th>\n",
              "      <th>Williams %R</th>\n",
              "      <th>SMA</th>\n",
              "      <th>EMA</th>\n",
              "      <th>WMA</th>\n",
              "      <th>HMA</th>\n",
              "      <th>TEMA</th>\n",
              "      <th>CCI</th>\n",
              "      <th>CMO</th>\n",
              "      <th>MACD</th>\n",
              "      <th>PPO</th>\n",
              "      <th>ROC</th>\n",
              "      <th>CFI</th>\n",
              "      <th>DMI</th>\n",
              "      <th>SAR</th>\n",
              "      <th>triple_barrier_signal</th>\n",
              "    </tr>\n",
              "    <tr>\n",
              "      <th>Date</th>\n",
              "      <th></th>\n",
              "      <th></th>\n",
              "      <th></th>\n",
              "      <th></th>\n",
              "      <th></th>\n",
              "      <th></th>\n",
              "      <th></th>\n",
              "      <th></th>\n",
              "      <th></th>\n",
              "      <th></th>\n",
              "      <th></th>\n",
              "      <th></th>\n",
              "      <th></th>\n",
              "      <th></th>\n",
              "      <th></th>\n",
              "      <th></th>\n",
              "    </tr>\n",
              "  </thead>\n",
              "  <tbody>\n",
              "    <tr>\n",
              "      <th>2019-09-02</th>\n",
              "      <td>0.688088</td>\n",
              "      <td>0.965518</td>\n",
              "      <td>0.922505</td>\n",
              "      <td>0.895615</td>\n",
              "      <td>0.884895</td>\n",
              "      <td>0.880382</td>\n",
              "      <td>0.887433</td>\n",
              "      <td>0.825551</td>\n",
              "      <td>0.632969</td>\n",
              "      <td>0.644396</td>\n",
              "      <td>0.530102</td>\n",
              "      <td>0.611722</td>\n",
              "      <td>0.098273</td>\n",
              "      <td>0.703243</td>\n",
              "      <td>0.854520</td>\n",
              "      <td>0</td>\n",
              "    </tr>\n",
              "    <tr>\n",
              "      <th>2019-09-03</th>\n",
              "      <td>0.559303</td>\n",
              "      <td>0.724137</td>\n",
              "      <td>0.922141</td>\n",
              "      <td>0.896506</td>\n",
              "      <td>0.884312</td>\n",
              "      <td>0.887075</td>\n",
              "      <td>0.886568</td>\n",
              "      <td>0.721281</td>\n",
              "      <td>0.516250</td>\n",
              "      <td>0.639028</td>\n",
              "      <td>0.527639</td>\n",
              "      <td>0.617918</td>\n",
              "      <td>0.099904</td>\n",
              "      <td>0.658039</td>\n",
              "      <td>0.858495</td>\n",
              "      <td>0</td>\n",
              "    </tr>\n",
              "    <tr>\n",
              "      <th>2019-09-04</th>\n",
              "      <td>0.671445</td>\n",
              "      <td>0.983872</td>\n",
              "      <td>0.922255</td>\n",
              "      <td>0.900609</td>\n",
              "      <td>0.883787</td>\n",
              "      <td>0.895485</td>\n",
              "      <td>0.893530</td>\n",
              "      <td>0.773889</td>\n",
              "      <td>0.593108</td>\n",
              "      <td>0.668083</td>\n",
              "      <td>0.540967</td>\n",
              "      <td>0.617313</td>\n",
              "      <td>0.103121</td>\n",
              "      <td>0.672703</td>\n",
              "      <td>0.862072</td>\n",
              "      <td>0</td>\n",
              "    </tr>\n",
              "    <tr>\n",
              "      <th>2019-09-05</th>\n",
              "      <td>0.745821</td>\n",
              "      <td>0.949368</td>\n",
              "      <td>0.922892</td>\n",
              "      <td>0.906925</td>\n",
              "      <td>0.884390</td>\n",
              "      <td>0.896944</td>\n",
              "      <td>0.904649</td>\n",
              "      <td>0.872195</td>\n",
              "      <td>0.659734</td>\n",
              "      <td>0.713064</td>\n",
              "      <td>0.561514</td>\n",
              "      <td>0.628207</td>\n",
              "      <td>0.109738</td>\n",
              "      <td>0.752090</td>\n",
              "      <td>0.866332</td>\n",
              "      <td>0</td>\n",
              "    </tr>\n",
              "    <tr>\n",
              "      <th>2019-09-06</th>\n",
              "      <td>0.782600</td>\n",
              "      <td>0.987341</td>\n",
              "      <td>0.923802</td>\n",
              "      <td>0.913761</td>\n",
              "      <td>0.891212</td>\n",
              "      <td>0.900805</td>\n",
              "      <td>0.915394</td>\n",
              "      <td>0.863660</td>\n",
              "      <td>0.864999</td>\n",
              "      <td>0.751875</td>\n",
              "      <td>0.579110</td>\n",
              "      <td>0.636416</td>\n",
              "      <td>0.116741</td>\n",
              "      <td>0.766859</td>\n",
              "      <td>0.873018</td>\n",
              "      <td>0</td>\n",
              "    </tr>\n",
              "  </tbody>\n",
              "</table>\n",
              "</div>"
            ],
            "text/plain": [
              "                 RSI  Williams %R  ...       SAR  triple_barrier_signal\n",
              "Date                               ...                                 \n",
              "2019-09-02  0.688088     0.965518  ...  0.854520                      0\n",
              "2019-09-03  0.559303     0.724137  ...  0.858495                      0\n",
              "2019-09-04  0.671445     0.983872  ...  0.862072                      0\n",
              "2019-09-05  0.745821     0.949368  ...  0.866332                      0\n",
              "2019-09-06  0.782600     0.987341  ...  0.873018                      0\n",
              "\n",
              "[5 rows x 16 columns]"
            ]
          },
          "metadata": {
            "tags": []
          },
          "execution_count": 26
        }
      ]
    },
    {
      "cell_type": "code",
      "metadata": {
        "id": "5MCZDpBgrrQQ",
        "colab_type": "code",
        "outputId": "4d1bd0af-b18d-4dbc-8d31-e495a3482ca1",
        "colab": {
          "base_uri": "https://localhost:8080/",
          "height": 35
        }
      },
      "source": [
        "df = df_minmax\n",
        "print('特徵縮放完成!')"
      ],
      "execution_count": 27,
      "outputs": [
        {
          "output_type": "stream",
          "text": [
            "特徵縮放完成!\n"
          ],
          "name": "stdout"
        }
      ]
    },
    {
      "cell_type": "markdown",
      "metadata": {
        "id": "_kc7tvz_M7PO",
        "colab_type": "text"
      },
      "source": [
        "# Xs ,ys prepare"
      ]
    },
    {
      "cell_type": "code",
      "metadata": {
        "id": "2ZHvlRJ5Lzzu",
        "colab_type": "code",
        "outputId": "c70a0d8a-8587-479a-8867-02c480860071",
        "colab": {
          "base_uri": "https://localhost:8080/",
          "height": 52
        }
      },
      "source": [
        "from tqdm import tqdm\n",
        "import numpy as np\n",
        "\n",
        "#定義觀察天數,起始index(0),結束index(資料筆數-觀察天數)\n",
        "days = 15\n",
        "b_index = 0\n",
        "f_index = len(df)-days\n",
        "\n",
        "#特徵欄位\n",
        "features = df.drop(y_name,axis=1).columns.tolist()\n",
        "\n",
        "#待存放序列\n",
        "Xs = []\n",
        "ys = []\n",
        "indexs = []\n",
        "\n",
        "'''\n",
        "若資料筆數100,days=15天,f_index=85,i只會跑到84,i+days=99,features只會跑到98天.\n",
        "若資料筆數100,days=15天,f_index=85+1,i會跑到85,i+days=100,features會跑到99天.\n",
        "'''\n",
        "for i in tqdm(range(b_index ,f_index+1 ,1)):#每次i都會遞增1\n",
        "  X = df.iloc[i:i+days,:][features] #ex:0...14(不含15)之features\n",
        "  y = df.iloc[i+days-1:i+days,:][y_name]#ex:14,y_name\n",
        "  X = np.array(X) # to np_array\n",
        "  Xs.append(X) #加入一筆X\n",
        "  ys.append(y) #加入一筆y\n",
        "  indexs.append((df.iloc[[i]].index,\n",
        "                 df.iloc[[i+days-1]].index)) #加入資料日期\n",
        "#轉換成np_array\n",
        "Xs = np.array(Xs)\n",
        "ys = np.array(ys)\n",
        "print('準備完成')"
      ],
      "execution_count": 28,
      "outputs": [
        {
          "output_type": "stream",
          "text": [
            "100%|██████████| 2780/2780 [00:08<00:00, 323.96it/s]\n"
          ],
          "name": "stderr"
        },
        {
          "output_type": "stream",
          "text": [
            "準備完成\n"
          ],
          "name": "stdout"
        }
      ]
    },
    {
      "cell_type": "markdown",
      "metadata": {
        "id": "a9iNRYKpNfIP",
        "colab_type": "text"
      },
      "source": [
        "# check"
      ]
    },
    {
      "cell_type": "code",
      "metadata": {
        "id": "7YiS6ZmtNfSf",
        "colab_type": "code",
        "outputId": "d7013104-fe74-4265-ab71-1e05fc24400b",
        "colab": {
          "base_uri": "https://localhost:8080/",
          "height": 70
        }
      },
      "source": [
        "print('資料筆數:',len(Xs))\n",
        "print('第一筆的index開始和結束:{}-{}'.format(indexs[0][0].date[0],indexs[0][1].date[0]))\n",
        "print('最後一筆的index開始和結束:{}-{}'.format(indexs[-1][0].date[0],indexs[-1][1].date[0]))"
      ],
      "execution_count": 29,
      "outputs": [
        {
          "output_type": "stream",
          "text": [
            "資料筆數: 2780\n",
            "第一筆的index開始和結束:2008-05-08-2008-05-28\n",
            "最後一筆的index開始和結束:2019-08-16-2019-09-06\n"
          ],
          "name": "stdout"
        }
      ]
    },
    {
      "cell_type": "markdown",
      "metadata": {
        "id": "Pabl4tEsXYB8",
        "colab_type": "text"
      },
      "source": [
        "# Reshape X"
      ]
    },
    {
      "cell_type": "markdown",
      "metadata": {
        "id": "RvUPQWb1An8u",
        "colab_type": "text"
      },
      "source": [
        "(圖片數量,長,寬,1張)"
      ]
    },
    {
      "cell_type": "code",
      "metadata": {
        "id": "In4R0IcSPDwG",
        "colab_type": "code",
        "outputId": "57ce3eb2-ee9e-4a1a-d345-8acb678393fb",
        "colab": {
          "base_uri": "https://localhost:8080/",
          "height": 52
        }
      },
      "source": [
        "print(Xs.shape)\n",
        "Xs = Xs.reshape(-1,days,len(features),1)\n",
        "print(Xs.shape)"
      ],
      "execution_count": 30,
      "outputs": [
        {
          "output_type": "stream",
          "text": [
            "(2780, 15, 15)\n",
            "(2780, 15, 15, 1)\n"
          ],
          "name": "stdout"
        }
      ]
    },
    {
      "cell_type": "markdown",
      "metadata": {
        "id": "lUy2cpReXaOV",
        "colab_type": "text"
      },
      "source": [
        "# One hot encoding of label"
      ]
    },
    {
      "cell_type": "markdown",
      "metadata": {
        "id": "hjDc-sStA1gk",
        "colab_type": "text"
      },
      "source": [
        "原始y代表漲幅"
      ]
    },
    {
      "cell_type": "code",
      "metadata": {
        "id": "6XGRdxmfWrfo",
        "colab_type": "code",
        "outputId": "9b585d43-7e5f-4266-b486-f093c1197e13",
        "colab": {
          "base_uri": "https://localhost:8080/",
          "height": 248
        }
      },
      "source": [
        "print(ys.shape)\n",
        "print(ys[:5])\n",
        "\n",
        "from keras.utils.np_utils import to_categorical\n",
        "ys = to_categorical(ys, num_classes = 3)\n",
        "print(ys.shape)\n",
        "print(ys[:5])"
      ],
      "execution_count": 31,
      "outputs": [
        {
          "output_type": "stream",
          "text": [
            "(2780, 1)\n",
            "[[-1]\n",
            " [-1]\n",
            " [-1]\n",
            " [-1]\n",
            " [-1]]\n"
          ],
          "name": "stdout"
        },
        {
          "output_type": "stream",
          "text": [
            "Using TensorFlow backend.\n"
          ],
          "name": "stderr"
        },
        {
          "output_type": "stream",
          "text": [
            "(2780, 3)\n",
            "[[0. 0. 1.]\n",
            " [0. 0. 1.]\n",
            " [0. 0. 1.]\n",
            " [0. 0. 1.]\n",
            " [0. 0. 1.]]\n"
          ],
          "name": "stdout"
        }
      ]
    },
    {
      "cell_type": "markdown",
      "metadata": {
        "id": "TYcPI2TWBTpJ",
        "colab_type": "text"
      },
      "source": [
        "# Visualization"
      ]
    },
    {
      "cell_type": "code",
      "metadata": {
        "id": "ibNjBLRaBUJh",
        "colab_type": "code",
        "outputId": "fbe1a5c4-047d-42d6-8f1d-a4d3377046d5",
        "colab": {
          "base_uri": "https://localhost:8080/",
          "height": 607
        }
      },
      "source": [
        "import matplotlib.pyplot as plt\n",
        "import matplotlib.image as mpimg\n",
        "%matplotlib inline\n",
        "Xs_v = Xs.reshape(-1,Xs.shape[1],Xs.shape[2])\n",
        "plt.figure(figsize=(10,10))\n",
        "plt.subplots_adjust(wspace =0, hspace =0.3)\n",
        "for i in range(0,9):\n",
        "    plt.subplot(330 + (i+1))\n",
        "    plt.imshow(Xs_v[i])\n",
        "    plt.title(np.argmax(ys[i]))"
      ],
      "execution_count": 32,
      "outputs": [
        {
          "output_type": "display_data",
          "data": {
            "image/png": "[encoded data removed]",
            "text/plain": [
              "<Figure size 720x720 with 9 Axes>"
            ]
          },
          "metadata": {
            "tags": []
          }
        }
      ]
    },
    {
      "cell_type": "markdown",
      "metadata": {
        "id": "5Oa6gYq_aVjE",
        "colab_type": "text"
      },
      "source": [
        "# Split training and validation sets"
      ]
    },
    {
      "cell_type": "code",
      "metadata": {
        "id": "OLHFbreckAlH",
        "colab_type": "code",
        "outputId": "c71f407e-c4ee-4d81-bf94-3fc4784c66aa",
        "colab": {
          "base_uri": "https://localhost:8080/",
          "height": 35
        }
      },
      "source": [
        "X_test = Xs[-40:] #最後40天features當作test資料\n",
        "X_train,y_train = Xs[:-40],ys[:-40] #其他當作訓練\n",
        "print(X_train.shape,y_train.shape,X_test.shape)"
      ],
      "execution_count": 33,
      "outputs": [
        {
          "output_type": "stream",
          "text": [
            "(2740, 15, 15, 1) (2740, 3) (40, 15, 15, 1)\n"
          ],
          "name": "stdout"
        }
      ]
    },
    {
      "cell_type": "code",
      "metadata": {
        "id": "MgsrVpYUYf5J",
        "colab_type": "code",
        "outputId": "4bef87e5-31ad-450e-8751-c926c8ccc04c",
        "colab": {
          "base_uri": "https://localhost:8080/",
          "height": 35
        }
      },
      "source": [
        "from sklearn.model_selection import train_test_split\n",
        "xtrain, xval, ytrain, yval = train_test_split(X_train,\n",
        "                                              y_train, \n",
        "                                              test_size=0.2,\n",
        "                                              random_state=42,\n",
        "                                              shuffle=True,#是否洗牌\n",
        "                                              stratify=None #是否根據y欄位做分層取樣\n",
        "                                             )\n",
        "print(xtrain.shape, ytrain.shape, xval.shape, yval.shape)"
      ],
      "execution_count": 34,
      "outputs": [
        {
          "output_type": "stream",
          "text": [
            "(2192, 15, 15, 1) (2192, 3) (548, 15, 15, 1) (548, 3)\n"
          ],
          "name": "stdout"
        }
      ]
    },
    {
      "cell_type": "markdown",
      "metadata": {
        "id": "2xQOFrENMkSb",
        "colab_type": "text"
      },
      "source": [
        "# 看一下樣本的label分布情況是否平均(待解決)"
      ]
    },
    {
      "cell_type": "markdown",
      "metadata": {
        "id": "xnUz7A3tlfya",
        "colab_type": "text"
      },
      "source": [
        "0:Hold,1:Buy,2:Sell"
      ]
    },
    {
      "cell_type": "code",
      "metadata": {
        "id": "aA9SXiicML6Y",
        "colab_type": "code",
        "outputId": "d9b974e5-23c8-47c8-c698-fd9d119f9c72",
        "colab": {
          "base_uri": "https://localhost:8080/",
          "height": 88
        }
      },
      "source": [
        "pd.Series([np.argmax(i) for i in ys]).value_counts()"
      ],
      "execution_count": 35,
      "outputs": [
        {
          "output_type": "execute_result",
          "data": {
            "text/plain": [
              "0    1554\n",
              "2    1014\n",
              "1     212\n",
              "dtype: int64"
            ]
          },
          "metadata": {
            "tags": []
          },
          "execution_count": 35
        }
      ]
    },
    {
      "cell_type": "code",
      "metadata": {
        "id": "UIOBe8tVL5dV",
        "colab_type": "code",
        "outputId": "5c5083b4-c002-44f8-8908-4357a3a15234",
        "colab": {
          "base_uri": "https://localhost:8080/",
          "height": 88
        }
      },
      "source": [
        "pd.Series([np.argmax(i) for i in ytrain]).value_counts()"
      ],
      "execution_count": 36,
      "outputs": [
        {
          "output_type": "execute_result",
          "data": {
            "text/plain": [
              "0    1217\n",
              "2     814\n",
              "1     161\n",
              "dtype: int64"
            ]
          },
          "metadata": {
            "tags": []
          },
          "execution_count": 36
        }
      ]
    },
    {
      "cell_type": "code",
      "metadata": {
        "id": "A235BZ6cMQ-S",
        "colab_type": "code",
        "outputId": "c02705ad-8906-4fa3-83e2-54906f3be86f",
        "colab": {
          "base_uri": "https://localhost:8080/",
          "height": 88
        }
      },
      "source": [
        "pd.Series([np.argmax(i) for i in yval]).value_counts()"
      ],
      "execution_count": 37,
      "outputs": [
        {
          "output_type": "execute_result",
          "data": {
            "text/plain": [
              "0    313\n",
              "2    184\n",
              "1     51\n",
              "dtype: int64"
            ]
          },
          "metadata": {
            "tags": []
          },
          "execution_count": 37
        }
      ]
    },
    {
      "cell_type": "markdown",
      "metadata": {
        "id": "m-oXz0FGarb1",
        "colab_type": "text"
      },
      "source": [
        "# CNN"
      ]
    },
    {
      "cell_type": "code",
      "metadata": {
        "id": "eWOsWp7_amoX",
        "colab_type": "code",
        "colab": {}
      },
      "source": [
        "from keras import backend as K\n",
        "from keras.models import Sequential\n",
        "from keras.layers import Dense, Dropout, Lambda, Flatten, BatchNormalization\n",
        "from keras.layers import Conv2D, MaxPool2D, AvgPool2D\n",
        "from keras.optimizers import Adam #做梯度下降的一種優化方法\n",
        "from keras.callbacks import ReduceLROnPlateau , EarlyStopping #減少學習速率 on Plateau"
      ],
      "execution_count": 0,
      "outputs": []
    },
    {
      "cell_type": "code",
      "metadata": {
        "id": "yd-csnW2auJS",
        "colab_type": "code",
        "outputId": "c64e8763-fce1-4a08-aee3-bba9e9f3568b",
        "colab": {
          "base_uri": "https://localhost:8080/",
          "height": 766
        }
      },
      "source": [
        "model = Sequential()\n",
        "\n",
        "nclasses = 3 \n",
        "\n",
        "model.add(Conv2D(filters=32, kernel_size=(3,3), padding='same', activation='relu', input_shape=(15,15,1)))#15,15,32\n",
        "model.add(Conv2D(filters=64, kernel_size=(3,3), padding='same', activation='relu',))#15,15,64\n",
        "model.add(MaxPool2D(pool_size=(5,5)))# 3,3,64\n",
        "model.add(Flatten())#576\n",
        "model.add(Dropout(0.5))#288\n",
        "model.add(Dense(128, activation='relu'))#128\n",
        "model.add(Dropout(0.5))#64\n",
        "model.add(Dense(32, activation='relu'))#32\n",
        "model.add(Dropout(0.5))#16\n",
        "model.add(Dense(nclasses, activation='softmax'))#3\n",
        "model.summary()"
      ],
      "execution_count": 39,
      "outputs": [
        {
          "output_type": "stream",
          "text": [
            "WARNING:tensorflow:From /usr/local/lib/python3.6/dist-packages/keras/backend/tensorflow_backend.py:66: The name tf.get_default_graph is deprecated. Please use tf.compat.v1.get_default_graph instead.\n",
            "\n",
            "WARNING:tensorflow:From /usr/local/lib/python3.6/dist-packages/keras/backend/tensorflow_backend.py:541: The name tf.placeholder is deprecated. Please use tf.compat.v1.placeholder instead.\n",
            "\n",
            "WARNING:tensorflow:From /usr/local/lib/python3.6/dist-packages/keras/backend/tensorflow_backend.py:4432: The name tf.random_uniform is deprecated. Please use tf.random.uniform instead.\n",
            "\n",
            "WARNING:tensorflow:From /usr/local/lib/python3.6/dist-packages/keras/backend/tensorflow_backend.py:4267: The name tf.nn.max_pool is deprecated. Please use tf.nn.max_pool2d instead.\n",
            "\n",
            "WARNING:tensorflow:From /usr/local/lib/python3.6/dist-packages/keras/backend/tensorflow_backend.py:148: The name tf.placeholder_with_default is deprecated. Please use tf.compat.v1.placeholder_with_default instead.\n",
            "\n",
            "WARNING:tensorflow:From /usr/local/lib/python3.6/dist-packages/keras/backend/tensorflow_backend.py:3733: calling dropout (from tensorflow.python.ops.nn_ops) with keep_prob is deprecated and will be removed in a future version.\n",
            "Instructions for updating:\n",
            "Please use `rate` instead of `keep_prob`. Rate should be set to `rate = 1 - keep_prob`.\n",
            "Model: \"sequential_1\"\n",
            "_________________________________________________________________\n",
            "Layer (type)                 Output Shape              Param #   \n",
            "=================================================================\n",
            "conv2d_1 (Conv2D)            (None, 15, 15, 32)        320       \n",
            "_________________________________________________________________\n",
            "conv2d_2 (Conv2D)            (None, 15, 15, 64)        18496     \n",
            "_________________________________________________________________\n",
            "max_pooling2d_1 (MaxPooling2 (None, 3, 3, 64)          0         \n",
            "_________________________________________________________________\n",
            "flatten_1 (Flatten)          (None, 576)               0         \n",
            "_________________________________________________________________\n",
            "dropout_1 (Dropout)          (None, 576)               0         \n",
            "_________________________________________________________________\n",
            "dense_1 (Dense)              (None, 128)               73856     \n",
            "_________________________________________________________________\n",
            "dropout_2 (Dropout)          (None, 128)               0         \n",
            "_________________________________________________________________\n",
            "dense_2 (Dense)              (None, 32)                4128      \n",
            "_________________________________________________________________\n",
            "dropout_3 (Dropout)          (None, 32)                0         \n",
            "_________________________________________________________________\n",
            "dense_3 (Dense)              (None, 3)                 99        \n",
            "=================================================================\n",
            "Total params: 96,899\n",
            "Trainable params: 96,899\n",
            "Non-trainable params: 0\n",
            "_________________________________________________________________\n"
          ],
          "name": "stdout"
        }
      ]
    },
    {
      "cell_type": "code",
      "metadata": {
        "id": "8Z913AqUa8bJ",
        "colab_type": "code",
        "outputId": "6f16e87c-92dd-434f-bd8c-d1d978184f0b",
        "colab": {
          "base_uri": "https://localhost:8080/",
          "height": 108
        }
      },
      "source": [
        "model.compile(optimizer=\"adam\", loss=\"categorical_crossentropy\", metrics=[\"accuracy\"])"
      ],
      "execution_count": 40,
      "outputs": [
        {
          "output_type": "stream",
          "text": [
            "WARNING:tensorflow:From /usr/local/lib/python3.6/dist-packages/keras/optimizers.py:793: The name tf.train.Optimizer is deprecated. Please use tf.compat.v1.train.Optimizer instead.\n",
            "\n",
            "WARNING:tensorflow:From /usr/local/lib/python3.6/dist-packages/keras/backend/tensorflow_backend.py:3576: The name tf.log is deprecated. Please use tf.math.log instead.\n",
            "\n"
          ],
          "name": "stdout"
        }
      ]
    },
    {
      "cell_type": "markdown",
      "metadata": {
        "id": "VORA4n9Lz9of",
        "colab_type": "text"
      },
      "source": [
        "# 優化器"
      ]
    },
    {
      "cell_type": "code",
      "metadata": {
        "id": "Kw_j4R4Da_To",
        "colab_type": "code",
        "colab": {}
      },
      "source": [
        "#1\n",
        "lr_reduction = ReduceLROnPlateau(monitor = 'val_acc', \n",
        "                                 factor=0.5, \n",
        "                                 patience = 3, \n",
        "                                 verbose = 1, \n",
        "                                 min_lr = 0.00001)\n",
        "\n",
        "#2\n",
        "es = EarlyStopping(monitor='val_acc',#驗證集acc\n",
        "                   min_delta=0, \n",
        "                   patience=50,  \n",
        "                   mode='max',\n",
        "                   restore_best_weights=False)#恢復最佳權重"
      ],
      "execution_count": 0,
      "outputs": []
    },
    {
      "cell_type": "markdown",
      "metadata": {
        "id": "aevlVsI9Lk9a",
        "colab_type": "text"
      },
      "source": [
        "# fit"
      ]
    },
    {
      "cell_type": "code",
      "metadata": {
        "id": "TJJR7Yg-bHac",
        "colab_type": "code",
        "outputId": "2aa8b13a-e664-4ac7-a941-e8994cb8b690",
        "colab": {
          "base_uri": "https://localhost:8080/",
          "height": 1000
        }
      },
      "source": [
        "history = model.fit(xtrain,ytrain,\n",
        "                    batch_size = 128,\n",
        "                    epochs = 500,\n",
        "                    validation_data=(xval,yval),\n",
        "                    verbose=1,callbacks=[es])"
      ],
      "execution_count": 42,
      "outputs": [
        {
          "output_type": "stream",
          "text": [
            "WARNING:tensorflow:From /usr/local/lib/python3.6/dist-packages/tensorflow/python/ops/math_grad.py:1250: add_dispatch_support.<locals>.wrapper (from tensorflow.python.ops.array_ops) is deprecated and will be removed in a future version.\n",
            "Instructions for updating:\n",
            "Use tf.where in 2.0, which has the same broadcast rule as np.where\n",
            "Train on 2192 samples, validate on 548 samples\n",
            "Epoch 1/500\n",
            "2192/2192 [==============================] - 2s 952us/step - loss: 1.0169 - acc: 0.4512 - val_loss: 0.9014 - val_acc: 0.5712\n",
            "Epoch 2/500\n",
            "2192/2192 [==============================] - 0s 120us/step - loss: 0.9472 - acc: 0.5027 - val_loss: 0.8961 - val_acc: 0.5712\n",
            "Epoch 3/500\n",
            "2192/2192 [==============================] - 0s 117us/step - loss: 0.9210 - acc: 0.5141 - val_loss: 0.8699 - val_acc: 0.5712\n",
            "Epoch 4/500\n",
            "2192/2192 [==============================] - 0s 107us/step - loss: 0.8987 - acc: 0.5214 - val_loss: 0.8582 - val_acc: 0.5785\n",
            "Epoch 5/500\n",
            "2192/2192 [==============================] - 0s 111us/step - loss: 0.8668 - acc: 0.5319 - val_loss: 0.8372 - val_acc: 0.5985\n",
            "Epoch 6/500\n",
            "2192/2192 [==============================] - 0s 117us/step - loss: 0.8744 - acc: 0.5333 - val_loss: 0.8164 - val_acc: 0.5894\n",
            "Epoch 7/500\n",
            "2192/2192 [==============================] - 0s 111us/step - loss: 0.8554 - acc: 0.5411 - val_loss: 0.8043 - val_acc: 0.6150\n",
            "Epoch 8/500\n",
            "2192/2192 [==============================] - 0s 104us/step - loss: 0.8400 - acc: 0.5639 - val_loss: 0.7959 - val_acc: 0.6241\n",
            "Epoch 9/500\n",
            "2192/2192 [==============================] - 0s 104us/step - loss: 0.8358 - acc: 0.5684 - val_loss: 0.7966 - val_acc: 0.6168\n",
            "Epoch 10/500\n",
            "2192/2192 [==============================] - 0s 106us/step - loss: 0.8334 - acc: 0.5575 - val_loss: 0.8101 - val_acc: 0.5803\n",
            "Epoch 11/500\n",
            "2192/2192 [==============================] - 0s 107us/step - loss: 0.8297 - acc: 0.5689 - val_loss: 0.8017 - val_acc: 0.5766\n",
            "Epoch 12/500\n",
            "2192/2192 [==============================] - 0s 106us/step - loss: 0.8238 - acc: 0.5849 - val_loss: 0.7883 - val_acc: 0.6004\n",
            "Epoch 13/500\n",
            "2192/2192 [==============================] - 0s 106us/step - loss: 0.8152 - acc: 0.5716 - val_loss: 0.7920 - val_acc: 0.5912\n",
            "Epoch 14/500\n",
            "2192/2192 [==============================] - 0s 104us/step - loss: 0.8065 - acc: 0.5776 - val_loss: 0.8078 - val_acc: 0.5912\n",
            "Epoch 15/500\n",
            "2192/2192 [==============================] - 0s 110us/step - loss: 0.8009 - acc: 0.5858 - val_loss: 0.7892 - val_acc: 0.6040\n",
            "Epoch 16/500\n",
            "2192/2192 [==============================] - 0s 108us/step - loss: 0.7982 - acc: 0.5926 - val_loss: 0.7808 - val_acc: 0.6223\n",
            "Epoch 17/500\n",
            "2192/2192 [==============================] - 0s 106us/step - loss: 0.8005 - acc: 0.5949 - val_loss: 0.7801 - val_acc: 0.6150\n",
            "Epoch 18/500\n",
            "2192/2192 [==============================] - 0s 107us/step - loss: 0.8000 - acc: 0.5885 - val_loss: 0.7780 - val_acc: 0.6204\n",
            "Epoch 19/500\n",
            "2192/2192 [==============================] - 0s 111us/step - loss: 0.7876 - acc: 0.5990 - val_loss: 0.7787 - val_acc: 0.6241\n",
            "Epoch 20/500\n",
            "2192/2192 [==============================] - 0s 108us/step - loss: 0.8085 - acc: 0.5908 - val_loss: 0.7916 - val_acc: 0.6277\n",
            "Epoch 21/500\n",
            "2192/2192 [==============================] - 0s 107us/step - loss: 0.8035 - acc: 0.5858 - val_loss: 0.7825 - val_acc: 0.6058\n",
            "Epoch 22/500\n",
            "2192/2192 [==============================] - 0s 107us/step - loss: 0.7887 - acc: 0.5880 - val_loss: 0.7756 - val_acc: 0.5949\n",
            "Epoch 23/500\n",
            "2192/2192 [==============================] - 0s 119us/step - loss: 0.7913 - acc: 0.5967 - val_loss: 0.7715 - val_acc: 0.5967\n",
            "Epoch 24/500\n",
            "2192/2192 [==============================] - 0s 105us/step - loss: 0.7868 - acc: 0.5967 - val_loss: 0.7735 - val_acc: 0.5931\n",
            "Epoch 25/500\n",
            "2192/2192 [==============================] - 0s 102us/step - loss: 0.7881 - acc: 0.6026 - val_loss: 0.7757 - val_acc: 0.6277\n",
            "Epoch 26/500\n",
            "2192/2192 [==============================] - 0s 109us/step - loss: 0.8071 - acc: 0.6036 - val_loss: 0.7680 - val_acc: 0.6314\n",
            "Epoch 27/500\n",
            "2192/2192 [==============================] - 0s 112us/step - loss: 0.7864 - acc: 0.6008 - val_loss: 0.7651 - val_acc: 0.6223\n",
            "Epoch 28/500\n",
            "2192/2192 [==============================] - 0s 113us/step - loss: 0.7751 - acc: 0.6214 - val_loss: 0.7619 - val_acc: 0.6168\n",
            "Epoch 29/500\n",
            "2192/2192 [==============================] - 0s 118us/step - loss: 0.7787 - acc: 0.6054 - val_loss: 0.7658 - val_acc: 0.6022\n",
            "Epoch 30/500\n",
            "2192/2192 [==============================] - 0s 116us/step - loss: 0.7701 - acc: 0.6090 - val_loss: 0.7614 - val_acc: 0.6077\n",
            "Epoch 31/500\n",
            "2192/2192 [==============================] - 0s 121us/step - loss: 0.7688 - acc: 0.6168 - val_loss: 0.7565 - val_acc: 0.6150\n",
            "Epoch 32/500\n",
            "2192/2192 [==============================] - 0s 112us/step - loss: 0.7726 - acc: 0.6036 - val_loss: 0.7615 - val_acc: 0.6350\n",
            "Epoch 33/500\n",
            "2192/2192 [==============================] - 0s 120us/step - loss: 0.7722 - acc: 0.6122 - val_loss: 0.7547 - val_acc: 0.6241\n",
            "Epoch 34/500\n",
            "2192/2192 [==============================] - 0s 118us/step - loss: 0.7738 - acc: 0.6154 - val_loss: 0.7574 - val_acc: 0.5912\n",
            "Epoch 35/500\n",
            "2192/2192 [==============================] - 0s 112us/step - loss: 0.7703 - acc: 0.6099 - val_loss: 0.7525 - val_acc: 0.6113\n",
            "Epoch 36/500\n",
            "2192/2192 [==============================] - 0s 116us/step - loss: 0.7626 - acc: 0.6118 - val_loss: 0.7536 - val_acc: 0.6223\n",
            "Epoch 37/500\n",
            "2192/2192 [==============================] - 0s 119us/step - loss: 0.7687 - acc: 0.6145 - val_loss: 0.7604 - val_acc: 0.6387\n",
            "Epoch 38/500\n",
            "2192/2192 [==============================] - 0s 115us/step - loss: 0.7625 - acc: 0.6131 - val_loss: 0.7518 - val_acc: 0.6040\n",
            "Epoch 39/500\n",
            "2192/2192 [==============================] - 0s 109us/step - loss: 0.7517 - acc: 0.6131 - val_loss: 0.7474 - val_acc: 0.6095\n",
            "Epoch 40/500\n",
            "2192/2192 [==============================] - 0s 107us/step - loss: 0.7604 - acc: 0.6255 - val_loss: 0.7530 - val_acc: 0.6150\n",
            "Epoch 41/500\n",
            "2192/2192 [==============================] - 0s 118us/step - loss: 0.7551 - acc: 0.6241 - val_loss: 0.7428 - val_acc: 0.6296\n",
            "Epoch 42/500\n",
            "2192/2192 [==============================] - 0s 118us/step - loss: 0.7478 - acc: 0.6227 - val_loss: 0.7465 - val_acc: 0.6150\n",
            "Epoch 43/500\n",
            "2192/2192 [==============================] - 0s 111us/step - loss: 0.7405 - acc: 0.6250 - val_loss: 0.7425 - val_acc: 0.6186\n",
            "Epoch 44/500\n",
            "2192/2192 [==============================] - 0s 116us/step - loss: 0.7503 - acc: 0.6227 - val_loss: 0.7401 - val_acc: 0.6314\n",
            "Epoch 45/500\n",
            "2192/2192 [==============================] - 0s 126us/step - loss: 0.7397 - acc: 0.6328 - val_loss: 0.7317 - val_acc: 0.6296\n",
            "Epoch 46/500\n",
            "2192/2192 [==============================] - 0s 125us/step - loss: 0.7370 - acc: 0.6337 - val_loss: 0.7366 - val_acc: 0.6442\n",
            "Epoch 47/500\n",
            "2192/2192 [==============================] - 0s 114us/step - loss: 0.7289 - acc: 0.6442 - val_loss: 0.7328 - val_acc: 0.6442\n",
            "Epoch 48/500\n",
            "2192/2192 [==============================] - 0s 108us/step - loss: 0.7450 - acc: 0.6277 - val_loss: 0.7443 - val_acc: 0.6405\n",
            "Epoch 49/500\n",
            "2192/2192 [==============================] - 0s 110us/step - loss: 0.7438 - acc: 0.6236 - val_loss: 0.7338 - val_acc: 0.6332\n",
            "Epoch 50/500\n",
            "2192/2192 [==============================] - 0s 106us/step - loss: 0.7378 - acc: 0.6232 - val_loss: 0.7386 - val_acc: 0.6168\n",
            "Epoch 51/500\n",
            "2192/2192 [==============================] - 0s 109us/step - loss: 0.7290 - acc: 0.6291 - val_loss: 0.7324 - val_acc: 0.6186\n",
            "Epoch 52/500\n",
            "2192/2192 [==============================] - 0s 105us/step - loss: 0.7322 - acc: 0.6277 - val_loss: 0.7305 - val_acc: 0.6277\n",
            "Epoch 53/500\n",
            "2192/2192 [==============================] - 0s 110us/step - loss: 0.7249 - acc: 0.6442 - val_loss: 0.7229 - val_acc: 0.6369\n",
            "Epoch 54/500\n",
            "2192/2192 [==============================] - 0s 113us/step - loss: 0.7231 - acc: 0.6378 - val_loss: 0.7186 - val_acc: 0.6624\n",
            "Epoch 55/500\n",
            "2192/2192 [==============================] - 0s 119us/step - loss: 0.7198 - acc: 0.6355 - val_loss: 0.7278 - val_acc: 0.6223\n",
            "Epoch 56/500\n",
            "2192/2192 [==============================] - 0s 111us/step - loss: 0.7268 - acc: 0.6296 - val_loss: 0.7227 - val_acc: 0.6460\n",
            "Epoch 57/500\n",
            "2192/2192 [==============================] - 0s 110us/step - loss: 0.7213 - acc: 0.6350 - val_loss: 0.7155 - val_acc: 0.6387\n",
            "Epoch 58/500\n",
            "2192/2192 [==============================] - 0s 104us/step - loss: 0.7444 - acc: 0.6200 - val_loss: 0.7269 - val_acc: 0.6168\n",
            "Epoch 59/500\n",
            "2192/2192 [==============================] - 0s 106us/step - loss: 0.7319 - acc: 0.6277 - val_loss: 0.7185 - val_acc: 0.6223\n",
            "Epoch 60/500\n",
            "2192/2192 [==============================] - 0s 112us/step - loss: 0.7271 - acc: 0.6195 - val_loss: 0.7188 - val_acc: 0.6332\n",
            "Epoch 61/500\n",
            "2192/2192 [==============================] - 0s 112us/step - loss: 0.7049 - acc: 0.6346 - val_loss: 0.7169 - val_acc: 0.6624\n",
            "Epoch 62/500\n",
            "2192/2192 [==============================] - 0s 106us/step - loss: 0.7119 - acc: 0.6341 - val_loss: 0.7154 - val_acc: 0.6515\n",
            "Epoch 63/500\n",
            "2192/2192 [==============================] - 0s 111us/step - loss: 0.7110 - acc: 0.6478 - val_loss: 0.7116 - val_acc: 0.6606\n",
            "Epoch 64/500\n",
            "2192/2192 [==============================] - 0s 105us/step - loss: 0.7008 - acc: 0.6478 - val_loss: 0.7096 - val_acc: 0.6442\n",
            "Epoch 65/500\n",
            "2192/2192 [==============================] - 0s 112us/step - loss: 0.6998 - acc: 0.6519 - val_loss: 0.7126 - val_acc: 0.6697\n",
            "Epoch 66/500\n",
            "2192/2192 [==============================] - 0s 108us/step - loss: 0.6976 - acc: 0.6629 - val_loss: 0.7082 - val_acc: 0.6825\n",
            "Epoch 67/500\n",
            "2192/2192 [==============================] - 0s 105us/step - loss: 0.6978 - acc: 0.6524 - val_loss: 0.7077 - val_acc: 0.6606\n",
            "Epoch 68/500\n",
            "2192/2192 [==============================] - 0s 114us/step - loss: 0.6975 - acc: 0.6496 - val_loss: 0.7029 - val_acc: 0.6515\n",
            "Epoch 69/500\n",
            "2192/2192 [==============================] - 0s 106us/step - loss: 0.7018 - acc: 0.6505 - val_loss: 0.7041 - val_acc: 0.6569\n",
            "Epoch 70/500\n",
            "2192/2192 [==============================] - 0s 107us/step - loss: 0.6985 - acc: 0.6551 - val_loss: 0.7052 - val_acc: 0.6314\n",
            "Epoch 71/500\n",
            "2192/2192 [==============================] - 0s 111us/step - loss: 0.7048 - acc: 0.6519 - val_loss: 0.7059 - val_acc: 0.6569\n",
            "Epoch 72/500\n",
            "2192/2192 [==============================] - 0s 109us/step - loss: 0.6959 - acc: 0.6423 - val_loss: 0.6956 - val_acc: 0.6642\n",
            "Epoch 73/500\n",
            "2192/2192 [==============================] - 0s 107us/step - loss: 0.6949 - acc: 0.6451 - val_loss: 0.6939 - val_acc: 0.6515\n",
            "Epoch 74/500\n",
            "2192/2192 [==============================] - 0s 104us/step - loss: 0.6782 - acc: 0.6633 - val_loss: 0.6887 - val_acc: 0.6642\n",
            "Epoch 75/500\n",
            "2192/2192 [==============================] - 0s 108us/step - loss: 0.6704 - acc: 0.6743 - val_loss: 0.6877 - val_acc: 0.6679\n",
            "Epoch 76/500\n",
            "2192/2192 [==============================] - 0s 110us/step - loss: 0.6778 - acc: 0.6588 - val_loss: 0.6953 - val_acc: 0.6697\n",
            "Epoch 77/500\n",
            "2192/2192 [==============================] - 0s 109us/step - loss: 0.6855 - acc: 0.6629 - val_loss: 0.6988 - val_acc: 0.6642\n",
            "Epoch 78/500\n",
            "2192/2192 [==============================] - 0s 105us/step - loss: 0.6774 - acc: 0.6656 - val_loss: 0.6960 - val_acc: 0.6661\n",
            "Epoch 79/500\n",
            "2192/2192 [==============================] - 0s 105us/step - loss: 0.6767 - acc: 0.6775 - val_loss: 0.6964 - val_acc: 0.6788\n",
            "Epoch 80/500\n",
            "2192/2192 [==============================] - 0s 114us/step - loss: 0.6805 - acc: 0.6683 - val_loss: 0.6892 - val_acc: 0.6752\n",
            "Epoch 81/500\n",
            "2192/2192 [==============================] - 0s 112us/step - loss: 0.6798 - acc: 0.6756 - val_loss: 0.6859 - val_acc: 0.6770\n",
            "Epoch 82/500\n",
            "2192/2192 [==============================] - 0s 105us/step - loss: 0.6714 - acc: 0.6875 - val_loss: 0.6789 - val_acc: 0.6807\n",
            "Epoch 83/500\n",
            "2192/2192 [==============================] - 0s 112us/step - loss: 0.6513 - acc: 0.6911 - val_loss: 0.6616 - val_acc: 0.7044\n",
            "Epoch 84/500\n",
            "2192/2192 [==============================] - 0s 111us/step - loss: 0.6619 - acc: 0.6834 - val_loss: 0.6678 - val_acc: 0.6934\n",
            "Epoch 85/500\n",
            "2192/2192 [==============================] - 0s 105us/step - loss: 0.6479 - acc: 0.6893 - val_loss: 0.6610 - val_acc: 0.6934\n",
            "Epoch 86/500\n",
            "2192/2192 [==============================] - 0s 107us/step - loss: 0.6599 - acc: 0.6943 - val_loss: 0.6718 - val_acc: 0.6934\n",
            "Epoch 87/500\n",
            "2192/2192 [==============================] - 0s 107us/step - loss: 0.6526 - acc: 0.6962 - val_loss: 0.6764 - val_acc: 0.6916\n",
            "Epoch 88/500\n",
            "2192/2192 [==============================] - 0s 106us/step - loss: 0.6465 - acc: 0.6984 - val_loss: 0.6717 - val_acc: 0.6825\n",
            "Epoch 89/500\n",
            "2192/2192 [==============================] - 0s 104us/step - loss: 0.6508 - acc: 0.7048 - val_loss: 0.6555 - val_acc: 0.7026\n",
            "Epoch 90/500\n",
            "2192/2192 [==============================] - 0s 110us/step - loss: 0.6605 - acc: 0.6962 - val_loss: 0.6704 - val_acc: 0.6916\n",
            "Epoch 91/500\n",
            "2192/2192 [==============================] - 0s 114us/step - loss: 0.6421 - acc: 0.6820 - val_loss: 0.6564 - val_acc: 0.6934\n",
            "Epoch 92/500\n",
            "2192/2192 [==============================] - 0s 115us/step - loss: 0.6359 - acc: 0.7044 - val_loss: 0.6689 - val_acc: 0.6825\n",
            "Epoch 93/500\n",
            "2192/2192 [==============================] - 0s 107us/step - loss: 0.6456 - acc: 0.6962 - val_loss: 0.6414 - val_acc: 0.7044\n",
            "Epoch 94/500\n",
            "2192/2192 [==============================] - 0s 108us/step - loss: 0.6514 - acc: 0.6893 - val_loss: 0.6454 - val_acc: 0.6971\n",
            "Epoch 95/500\n",
            "2192/2192 [==============================] - 0s 110us/step - loss: 0.6280 - acc: 0.7021 - val_loss: 0.6376 - val_acc: 0.7281\n",
            "Epoch 96/500\n",
            "2192/2192 [==============================] - 0s 115us/step - loss: 0.6279 - acc: 0.7162 - val_loss: 0.6400 - val_acc: 0.7354\n",
            "Epoch 97/500\n",
            "2192/2192 [==============================] - 0s 112us/step - loss: 0.6430 - acc: 0.6984 - val_loss: 0.6272 - val_acc: 0.7281\n",
            "Epoch 98/500\n",
            "2192/2192 [==============================] - 0s 109us/step - loss: 0.6372 - acc: 0.7044 - val_loss: 0.6391 - val_acc: 0.7245\n",
            "Epoch 99/500\n",
            "2192/2192 [==============================] - 0s 103us/step - loss: 0.6352 - acc: 0.6902 - val_loss: 0.6416 - val_acc: 0.7117\n",
            "Epoch 100/500\n",
            "2192/2192 [==============================] - 0s 107us/step - loss: 0.6210 - acc: 0.7067 - val_loss: 0.6317 - val_acc: 0.7372\n",
            "Epoch 101/500\n",
            "2192/2192 [==============================] - 0s 109us/step - loss: 0.6065 - acc: 0.7299 - val_loss: 0.6287 - val_acc: 0.7318\n",
            "Epoch 102/500\n",
            "2192/2192 [==============================] - 0s 119us/step - loss: 0.6067 - acc: 0.7254 - val_loss: 0.6068 - val_acc: 0.7500\n",
            "Epoch 103/500\n",
            "2192/2192 [==============================] - 0s 107us/step - loss: 0.6159 - acc: 0.7213 - val_loss: 0.6247 - val_acc: 0.7299\n",
            "Epoch 104/500\n",
            "2192/2192 [==============================] - 0s 110us/step - loss: 0.5980 - acc: 0.7318 - val_loss: 0.5976 - val_acc: 0.7464\n",
            "Epoch 105/500\n",
            "2192/2192 [==============================] - 0s 116us/step - loss: 0.5967 - acc: 0.7299 - val_loss: 0.6194 - val_acc: 0.7208\n",
            "Epoch 106/500\n",
            "2192/2192 [==============================] - 0s 107us/step - loss: 0.6032 - acc: 0.7240 - val_loss: 0.6214 - val_acc: 0.7062\n",
            "Epoch 107/500\n",
            "2192/2192 [==============================] - 0s 111us/step - loss: 0.6062 - acc: 0.7331 - val_loss: 0.6026 - val_acc: 0.7464\n",
            "Epoch 108/500\n",
            "2192/2192 [==============================] - 0s 113us/step - loss: 0.6114 - acc: 0.7162 - val_loss: 0.6112 - val_acc: 0.7354\n",
            "Epoch 109/500\n",
            "2192/2192 [==============================] - 0s 105us/step - loss: 0.5946 - acc: 0.7286 - val_loss: 0.6041 - val_acc: 0.7427\n",
            "Epoch 110/500\n",
            "2192/2192 [==============================] - 0s 104us/step - loss: 0.5938 - acc: 0.7281 - val_loss: 0.5904 - val_acc: 0.7646\n",
            "Epoch 111/500\n",
            "2192/2192 [==============================] - 0s 102us/step - loss: 0.6212 - acc: 0.7172 - val_loss: 0.6129 - val_acc: 0.7391\n",
            "Epoch 112/500\n",
            "2192/2192 [==============================] - 0s 106us/step - loss: 0.6114 - acc: 0.7222 - val_loss: 0.6064 - val_acc: 0.7281\n",
            "Epoch 113/500\n",
            "2192/2192 [==============================] - 0s 113us/step - loss: 0.5980 - acc: 0.7295 - val_loss: 0.6173 - val_acc: 0.7208\n",
            "Epoch 114/500\n",
            "2192/2192 [==============================] - 0s 105us/step - loss: 0.5938 - acc: 0.7290 - val_loss: 0.6085 - val_acc: 0.7354\n",
            "Epoch 115/500\n",
            "2192/2192 [==============================] - 0s 108us/step - loss: 0.5868 - acc: 0.7445 - val_loss: 0.5818 - val_acc: 0.7573\n",
            "Epoch 116/500\n",
            "2192/2192 [==============================] - 0s 105us/step - loss: 0.5710 - acc: 0.7445 - val_loss: 0.5824 - val_acc: 0.7555\n",
            "Epoch 117/500\n",
            "2192/2192 [==============================] - 0s 109us/step - loss: 0.5694 - acc: 0.7468 - val_loss: 0.5909 - val_acc: 0.7263\n",
            "Epoch 118/500\n",
            "2192/2192 [==============================] - 0s 108us/step - loss: 0.5857 - acc: 0.7349 - val_loss: 0.5890 - val_acc: 0.7591\n",
            "Epoch 119/500\n",
            "2192/2192 [==============================] - 0s 108us/step - loss: 0.5790 - acc: 0.7377 - val_loss: 0.5893 - val_acc: 0.7482\n",
            "Epoch 120/500\n",
            "2192/2192 [==============================] - 0s 120us/step - loss: 0.5613 - acc: 0.7555 - val_loss: 0.5913 - val_acc: 0.7391\n",
            "Epoch 121/500\n",
            "2192/2192 [==============================] - 0s 122us/step - loss: 0.5672 - acc: 0.7477 - val_loss: 0.5854 - val_acc: 0.7482\n",
            "Epoch 122/500\n",
            "2192/2192 [==============================] - 0s 106us/step - loss: 0.5808 - acc: 0.7514 - val_loss: 0.5820 - val_acc: 0.7755\n",
            "Epoch 123/500\n",
            "2192/2192 [==============================] - 0s 103us/step - loss: 0.5609 - acc: 0.7404 - val_loss: 0.5603 - val_acc: 0.7664\n",
            "Epoch 124/500\n",
            "2192/2192 [==============================] - 0s 104us/step - loss: 0.5461 - acc: 0.7573 - val_loss: 0.5653 - val_acc: 0.7464\n",
            "Epoch 125/500\n",
            "2192/2192 [==============================] - 0s 100us/step - loss: 0.5467 - acc: 0.7568 - val_loss: 0.5578 - val_acc: 0.7719\n",
            "Epoch 126/500\n",
            "2192/2192 [==============================] - 0s 108us/step - loss: 0.5467 - acc: 0.7495 - val_loss: 0.5748 - val_acc: 0.7372\n",
            "Epoch 127/500\n",
            "2192/2192 [==============================] - 0s 104us/step - loss: 0.5381 - acc: 0.7614 - val_loss: 0.5682 - val_acc: 0.7391\n",
            "Epoch 128/500\n",
            "2192/2192 [==============================] - 0s 105us/step - loss: 0.5580 - acc: 0.7514 - val_loss: 0.5516 - val_acc: 0.7847\n",
            "Epoch 129/500\n",
            "2192/2192 [==============================] - 0s 107us/step - loss: 0.5350 - acc: 0.7692 - val_loss: 0.5379 - val_acc: 0.7920\n",
            "Epoch 130/500\n",
            "2192/2192 [==============================] - 0s 110us/step - loss: 0.5521 - acc: 0.7523 - val_loss: 0.5571 - val_acc: 0.7646\n",
            "Epoch 131/500\n",
            "2192/2192 [==============================] - 0s 102us/step - loss: 0.5344 - acc: 0.7559 - val_loss: 0.5553 - val_acc: 0.7591\n",
            "Epoch 132/500\n",
            "2192/2192 [==============================] - 0s 108us/step - loss: 0.5335 - acc: 0.7714 - val_loss: 0.5362 - val_acc: 0.7555\n",
            "Epoch 133/500\n",
            "2192/2192 [==============================] - 0s 104us/step - loss: 0.5284 - acc: 0.7755 - val_loss: 0.5376 - val_acc: 0.7828\n",
            "Epoch 134/500\n",
            "2192/2192 [==============================] - 0s 114us/step - loss: 0.5378 - acc: 0.7587 - val_loss: 0.5209 - val_acc: 0.7974\n",
            "Epoch 135/500\n",
            "2192/2192 [==============================] - 0s 105us/step - loss: 0.5148 - acc: 0.7810 - val_loss: 0.5231 - val_acc: 0.7956\n",
            "Epoch 136/500\n",
            "2192/2192 [==============================] - 0s 102us/step - loss: 0.5093 - acc: 0.7815 - val_loss: 0.5129 - val_acc: 0.8029\n",
            "Epoch 137/500\n",
            "2192/2192 [==============================] - 0s 104us/step - loss: 0.5471 - acc: 0.7532 - val_loss: 0.5115 - val_acc: 0.7938\n",
            "Epoch 138/500\n",
            "2192/2192 [==============================] - 0s 115us/step - loss: 0.5303 - acc: 0.7646 - val_loss: 0.5133 - val_acc: 0.7974\n",
            "Epoch 139/500\n",
            "2192/2192 [==============================] - 0s 107us/step - loss: 0.5037 - acc: 0.7833 - val_loss: 0.4945 - val_acc: 0.8285\n",
            "Epoch 140/500\n",
            "2192/2192 [==============================] - 0s 105us/step - loss: 0.4959 - acc: 0.7824 - val_loss: 0.5149 - val_acc: 0.7920\n",
            "Epoch 141/500\n",
            "2192/2192 [==============================] - 0s 105us/step - loss: 0.4931 - acc: 0.7842 - val_loss: 0.5057 - val_acc: 0.8029\n",
            "Epoch 142/500\n",
            "2192/2192 [==============================] - 0s 105us/step - loss: 0.4945 - acc: 0.7874 - val_loss: 0.4912 - val_acc: 0.8084\n",
            "Epoch 143/500\n",
            "2192/2192 [==============================] - 0s 103us/step - loss: 0.5124 - acc: 0.7778 - val_loss: 0.5357 - val_acc: 0.7719\n",
            "Epoch 144/500\n",
            "2192/2192 [==============================] - 0s 100us/step - loss: 0.4972 - acc: 0.7847 - val_loss: 0.5210 - val_acc: 0.7755\n",
            "Epoch 145/500\n",
            "2192/2192 [==============================] - 0s 106us/step - loss: 0.5041 - acc: 0.7783 - val_loss: 0.5388 - val_acc: 0.7755\n",
            "Epoch 146/500\n",
            "2192/2192 [==============================] - 0s 103us/step - loss: 0.5686 - acc: 0.7527 - val_loss: 0.5560 - val_acc: 0.7664\n",
            "Epoch 147/500\n",
            "2192/2192 [==============================] - 0s 113us/step - loss: 0.5066 - acc: 0.7856 - val_loss: 0.4970 - val_acc: 0.8029\n",
            "Epoch 148/500\n",
            "2192/2192 [==============================] - 0s 120us/step - loss: 0.4755 - acc: 0.7993 - val_loss: 0.4715 - val_acc: 0.8285\n",
            "Epoch 149/500\n",
            "2192/2192 [==============================] - 0s 110us/step - loss: 0.4879 - acc: 0.8011 - val_loss: 0.5016 - val_acc: 0.7938\n",
            "Epoch 150/500\n",
            "2192/2192 [==============================] - 0s 111us/step - loss: 0.4860 - acc: 0.8038 - val_loss: 0.4868 - val_acc: 0.8157\n",
            "Epoch 151/500\n",
            "2192/2192 [==============================] - 0s 107us/step - loss: 0.5188 - acc: 0.7600 - val_loss: 0.5123 - val_acc: 0.7938\n",
            "Epoch 152/500\n",
            "2192/2192 [==============================] - 0s 124us/step - loss: 0.4910 - acc: 0.7856 - val_loss: 0.4735 - val_acc: 0.8285\n",
            "Epoch 153/500\n",
            "2192/2192 [==============================] - 0s 117us/step - loss: 0.4752 - acc: 0.7874 - val_loss: 0.5036 - val_acc: 0.8047\n",
            "Epoch 154/500\n",
            "2192/2192 [==============================] - 0s 116us/step - loss: 0.4812 - acc: 0.7965 - val_loss: 0.4812 - val_acc: 0.8066\n",
            "Epoch 155/500\n",
            "2192/2192 [==============================] - 0s 111us/step - loss: 0.4700 - acc: 0.7997 - val_loss: 0.4667 - val_acc: 0.8175\n",
            "Epoch 156/500\n",
            "2192/2192 [==============================] - 0s 105us/step - loss: 0.4732 - acc: 0.7993 - val_loss: 0.4666 - val_acc: 0.8175\n",
            "Epoch 157/500\n",
            "2192/2192 [==============================] - 0s 102us/step - loss: 0.4603 - acc: 0.8075 - val_loss: 0.4696 - val_acc: 0.8102\n",
            "Epoch 158/500\n",
            "2192/2192 [==============================] - 0s 109us/step - loss: 0.4608 - acc: 0.8098 - val_loss: 0.4704 - val_acc: 0.8175\n",
            "Epoch 159/500\n",
            "2192/2192 [==============================] - 0s 106us/step - loss: 0.4571 - acc: 0.8075 - val_loss: 0.4779 - val_acc: 0.8102\n",
            "Epoch 160/500\n",
            "2192/2192 [==============================] - 0s 109us/step - loss: 0.4579 - acc: 0.8052 - val_loss: 0.4796 - val_acc: 0.8011\n",
            "Epoch 161/500\n",
            "2192/2192 [==============================] - 0s 100us/step - loss: 0.4739 - acc: 0.7933 - val_loss: 0.4441 - val_acc: 0.8358\n",
            "Epoch 162/500\n",
            "2192/2192 [==============================] - 0s 104us/step - loss: 0.4375 - acc: 0.8193 - val_loss: 0.4464 - val_acc: 0.8339\n",
            "Epoch 163/500\n",
            "2192/2192 [==============================] - 0s 104us/step - loss: 0.4628 - acc: 0.8066 - val_loss: 0.4557 - val_acc: 0.8175\n",
            "Epoch 164/500\n",
            "2192/2192 [==============================] - 0s 104us/step - loss: 0.4584 - acc: 0.7961 - val_loss: 0.4730 - val_acc: 0.8139\n",
            "Epoch 165/500\n",
            "2192/2192 [==============================] - 0s 103us/step - loss: 0.4599 - acc: 0.8002 - val_loss: 0.4807 - val_acc: 0.8230\n",
            "Epoch 166/500\n",
            "2192/2192 [==============================] - 0s 114us/step - loss: 0.4440 - acc: 0.8134 - val_loss: 0.4962 - val_acc: 0.7956\n",
            "Epoch 167/500\n",
            "2192/2192 [==============================] - 0s 112us/step - loss: 0.4702 - acc: 0.8047 - val_loss: 0.4737 - val_acc: 0.8157\n",
            "Epoch 168/500\n",
            "2192/2192 [==============================] - 0s 103us/step - loss: 0.4458 - acc: 0.8161 - val_loss: 0.4406 - val_acc: 0.8522\n",
            "Epoch 169/500\n",
            "2192/2192 [==============================] - 0s 108us/step - loss: 0.4451 - acc: 0.8093 - val_loss: 0.4583 - val_acc: 0.8248\n",
            "Epoch 170/500\n",
            "2192/2192 [==============================] - 0s 116us/step - loss: 0.4441 - acc: 0.8198 - val_loss: 0.4238 - val_acc: 0.8412\n",
            "Epoch 171/500\n",
            "2192/2192 [==============================] - 0s 112us/step - loss: 0.4517 - acc: 0.8057 - val_loss: 0.4673 - val_acc: 0.8230\n",
            "Epoch 172/500\n",
            "2192/2192 [==============================] - 0s 113us/step - loss: 0.4394 - acc: 0.8079 - val_loss: 0.4291 - val_acc: 0.8485\n",
            "Epoch 173/500\n",
            "2192/2192 [==============================] - 0s 115us/step - loss: 0.4064 - acc: 0.8362 - val_loss: 0.4461 - val_acc: 0.8321\n",
            "Epoch 174/500\n",
            "2192/2192 [==============================] - 0s 104us/step - loss: 0.4366 - acc: 0.8125 - val_loss: 0.4373 - val_acc: 0.8394\n",
            "Epoch 175/500\n",
            "2192/2192 [==============================] - 0s 102us/step - loss: 0.4274 - acc: 0.8175 - val_loss: 0.4245 - val_acc: 0.8522\n",
            "Epoch 176/500\n",
            "2192/2192 [==============================] - 0s 102us/step - loss: 0.4200 - acc: 0.8330 - val_loss: 0.4567 - val_acc: 0.8248\n",
            "Epoch 177/500\n",
            "2192/2192 [==============================] - 0s 101us/step - loss: 0.4174 - acc: 0.8248 - val_loss: 0.4602 - val_acc: 0.8066\n",
            "Epoch 178/500\n",
            "2192/2192 [==============================] - 0s 102us/step - loss: 0.4018 - acc: 0.8376 - val_loss: 0.4262 - val_acc: 0.8467\n",
            "Epoch 179/500\n",
            "2192/2192 [==============================] - 0s 105us/step - loss: 0.4105 - acc: 0.8376 - val_loss: 0.4230 - val_acc: 0.8449\n",
            "Epoch 180/500\n",
            "2192/2192 [==============================] - 0s 105us/step - loss: 0.4331 - acc: 0.8212 - val_loss: 0.4170 - val_acc: 0.8467\n",
            "Epoch 181/500\n",
            "2192/2192 [==============================] - 0s 102us/step - loss: 0.4283 - acc: 0.8070 - val_loss: 0.4126 - val_acc: 0.8595\n",
            "Epoch 182/500\n",
            "2192/2192 [==============================] - 0s 102us/step - loss: 0.4047 - acc: 0.8335 - val_loss: 0.4036 - val_acc: 0.8577\n",
            "Epoch 183/500\n",
            "2192/2192 [==============================] - 0s 107us/step - loss: 0.4076 - acc: 0.8353 - val_loss: 0.4251 - val_acc: 0.8431\n",
            "Epoch 184/500\n",
            "2192/2192 [==============================] - 0s 112us/step - loss: 0.4051 - acc: 0.8276 - val_loss: 0.4126 - val_acc: 0.8522\n",
            "Epoch 185/500\n",
            "2192/2192 [==============================] - 0s 103us/step - loss: 0.4075 - acc: 0.8303 - val_loss: 0.4382 - val_acc: 0.8412\n",
            "Epoch 186/500\n",
            "2192/2192 [==============================] - 0s 105us/step - loss: 0.4013 - acc: 0.8339 - val_loss: 0.3947 - val_acc: 0.8558\n",
            "Epoch 187/500\n",
            "2192/2192 [==============================] - 0s 102us/step - loss: 0.4115 - acc: 0.8335 - val_loss: 0.4913 - val_acc: 0.8047\n",
            "Epoch 188/500\n",
            "2192/2192 [==============================] - 0s 115us/step - loss: 0.4617 - acc: 0.8006 - val_loss: 0.4431 - val_acc: 0.8339\n",
            "Epoch 189/500\n",
            "2192/2192 [==============================] - 0s 109us/step - loss: 0.4400 - acc: 0.8184 - val_loss: 0.4276 - val_acc: 0.8485\n",
            "Epoch 190/500\n",
            "2192/2192 [==============================] - 0s 105us/step - loss: 0.4216 - acc: 0.8161 - val_loss: 0.4040 - val_acc: 0.8540\n",
            "Epoch 191/500\n",
            "2192/2192 [==============================] - 0s 106us/step - loss: 0.3762 - acc: 0.8431 - val_loss: 0.4054 - val_acc: 0.8631\n",
            "Epoch 192/500\n",
            "2192/2192 [==============================] - 0s 103us/step - loss: 0.4056 - acc: 0.8257 - val_loss: 0.3888 - val_acc: 0.8686\n",
            "Epoch 193/500\n",
            "2192/2192 [==============================] - 0s 106us/step - loss: 0.3830 - acc: 0.8422 - val_loss: 0.4084 - val_acc: 0.8631\n",
            "Epoch 194/500\n",
            "2192/2192 [==============================] - 0s 108us/step - loss: 0.3580 - acc: 0.8476 - val_loss: 0.3882 - val_acc: 0.8650\n",
            "Epoch 195/500\n",
            "2192/2192 [==============================] - 0s 117us/step - loss: 0.3878 - acc: 0.8472 - val_loss: 0.3915 - val_acc: 0.8595\n",
            "Epoch 196/500\n",
            "2192/2192 [==============================] - 0s 115us/step - loss: 0.3789 - acc: 0.8458 - val_loss: 0.3977 - val_acc: 0.8723\n",
            "Epoch 197/500\n",
            "2192/2192 [==============================] - 0s 124us/step - loss: 0.3793 - acc: 0.8440 - val_loss: 0.3897 - val_acc: 0.8686\n",
            "Epoch 198/500\n",
            "2192/2192 [==============================] - 0s 115us/step - loss: 0.3963 - acc: 0.8426 - val_loss: 0.3832 - val_acc: 0.8613\n",
            "Epoch 199/500\n",
            "2192/2192 [==============================] - 0s 114us/step - loss: 0.3620 - acc: 0.8604 - val_loss: 0.3790 - val_acc: 0.8686\n",
            "Epoch 200/500\n",
            "2192/2192 [==============================] - 0s 108us/step - loss: 0.3871 - acc: 0.8426 - val_loss: 0.3696 - val_acc: 0.8686\n",
            "Epoch 201/500\n",
            "2192/2192 [==============================] - 0s 105us/step - loss: 0.3751 - acc: 0.8517 - val_loss: 0.3748 - val_acc: 0.8796\n",
            "Epoch 202/500\n",
            "2192/2192 [==============================] - 0s 105us/step - loss: 0.3908 - acc: 0.8435 - val_loss: 0.3777 - val_acc: 0.8777\n",
            "Epoch 203/500\n",
            "2192/2192 [==============================] - 0s 104us/step - loss: 0.3767 - acc: 0.8581 - val_loss: 0.4041 - val_acc: 0.8467\n",
            "Epoch 204/500\n",
            "2192/2192 [==============================] - 0s 105us/step - loss: 0.3884 - acc: 0.8440 - val_loss: 0.3843 - val_acc: 0.8613\n",
            "Epoch 205/500\n",
            "2192/2192 [==============================] - 0s 103us/step - loss: 0.3702 - acc: 0.8467 - val_loss: 0.3720 - val_acc: 0.8686\n",
            "Epoch 206/500\n",
            "2192/2192 [==============================] - 0s 103us/step - loss: 0.3716 - acc: 0.8545 - val_loss: 0.3625 - val_acc: 0.8777\n",
            "Epoch 207/500\n",
            "2192/2192 [==============================] - 0s 104us/step - loss: 0.4058 - acc: 0.8417 - val_loss: 0.3742 - val_acc: 0.8704\n",
            "Epoch 208/500\n",
            "2192/2192 [==============================] - 0s 107us/step - loss: 0.3586 - acc: 0.8581 - val_loss: 0.3666 - val_acc: 0.8905\n",
            "Epoch 209/500\n",
            "2192/2192 [==============================] - 0s 104us/step - loss: 0.3809 - acc: 0.8463 - val_loss: 0.3805 - val_acc: 0.8796\n",
            "Epoch 210/500\n",
            "2192/2192 [==============================] - 0s 107us/step - loss: 0.3633 - acc: 0.8453 - val_loss: 0.3867 - val_acc: 0.8668\n",
            "Epoch 211/500\n",
            "2192/2192 [==============================] - 0s 111us/step - loss: 0.3709 - acc: 0.8508 - val_loss: 0.3863 - val_acc: 0.8650\n",
            "Epoch 212/500\n",
            "2192/2192 [==============================] - 0s 116us/step - loss: 0.3490 - acc: 0.8650 - val_loss: 0.4019 - val_acc: 0.8704\n",
            "Epoch 213/500\n",
            "2192/2192 [==============================] - 0s 115us/step - loss: 0.3632 - acc: 0.8613 - val_loss: 0.3963 - val_acc: 0.8631\n",
            "Epoch 214/500\n",
            "2192/2192 [==============================] - 0s 110us/step - loss: 0.3697 - acc: 0.8449 - val_loss: 0.3809 - val_acc: 0.8650\n",
            "Epoch 215/500\n",
            "2192/2192 [==============================] - 0s 102us/step - loss: 0.3687 - acc: 0.8517 - val_loss: 0.3808 - val_acc: 0.8777\n",
            "Epoch 216/500\n",
            "2192/2192 [==============================] - 0s 107us/step - loss: 0.4026 - acc: 0.8408 - val_loss: 0.3900 - val_acc: 0.8613\n",
            "Epoch 217/500\n",
            "2192/2192 [==============================] - 0s 107us/step - loss: 0.3664 - acc: 0.8577 - val_loss: 0.4018 - val_acc: 0.8741\n",
            "Epoch 218/500\n",
            "2192/2192 [==============================] - 0s 106us/step - loss: 0.3597 - acc: 0.8586 - val_loss: 0.3793 - val_acc: 0.8777\n",
            "Epoch 219/500\n",
            "2192/2192 [==============================] - 0s 105us/step - loss: 0.3454 - acc: 0.8641 - val_loss: 0.3888 - val_acc: 0.8704\n",
            "Epoch 220/500\n",
            "2192/2192 [==============================] - 0s 102us/step - loss: 0.3596 - acc: 0.8650 - val_loss: 0.3797 - val_acc: 0.8814\n",
            "Epoch 221/500\n",
            "2192/2192 [==============================] - 0s 108us/step - loss: 0.3532 - acc: 0.8590 - val_loss: 0.3858 - val_acc: 0.8796\n",
            "Epoch 222/500\n",
            "2192/2192 [==============================] - 0s 105us/step - loss: 0.3585 - acc: 0.8631 - val_loss: 0.3847 - val_acc: 0.8631\n",
            "Epoch 223/500\n",
            "2192/2192 [==============================] - 0s 104us/step - loss: 0.3403 - acc: 0.8654 - val_loss: 0.3873 - val_acc: 0.8723\n",
            "Epoch 224/500\n",
            "2192/2192 [==============================] - 0s 100us/step - loss: 0.3303 - acc: 0.8672 - val_loss: 0.3934 - val_acc: 0.8540\n",
            "Epoch 225/500\n",
            "2192/2192 [==============================] - 0s 106us/step - loss: 0.3298 - acc: 0.8700 - val_loss: 0.3675 - val_acc: 0.8777\n",
            "Epoch 226/500\n",
            "2192/2192 [==============================] - 0s 104us/step - loss: 0.3318 - acc: 0.8659 - val_loss: 0.3584 - val_acc: 0.8850\n",
            "Epoch 227/500\n",
            "2192/2192 [==============================] - 0s 104us/step - loss: 0.3498 - acc: 0.8577 - val_loss: 0.3423 - val_acc: 0.8850\n",
            "Epoch 228/500\n",
            "2192/2192 [==============================] - 0s 103us/step - loss: 0.3426 - acc: 0.8677 - val_loss: 0.3747 - val_acc: 0.8650\n",
            "Epoch 229/500\n",
            "2192/2192 [==============================] - 0s 101us/step - loss: 0.3358 - acc: 0.8791 - val_loss: 0.4241 - val_acc: 0.8376\n",
            "Epoch 230/500\n",
            "2192/2192 [==============================] - 0s 108us/step - loss: 0.3309 - acc: 0.8677 - val_loss: 0.3492 - val_acc: 0.8832\n",
            "Epoch 231/500\n",
            "2192/2192 [==============================] - 0s 110us/step - loss: 0.3536 - acc: 0.8545 - val_loss: 0.3615 - val_acc: 0.8741\n",
            "Epoch 232/500\n",
            "2192/2192 [==============================] - 0s 102us/step - loss: 0.3623 - acc: 0.8577 - val_loss: 0.3807 - val_acc: 0.8777\n",
            "Epoch 233/500\n",
            "2192/2192 [==============================] - 0s 113us/step - loss: 0.3612 - acc: 0.8558 - val_loss: 0.3818 - val_acc: 0.8595\n",
            "Epoch 234/500\n",
            "2192/2192 [==============================] - 0s 111us/step - loss: 0.3747 - acc: 0.8586 - val_loss: 0.3736 - val_acc: 0.8723\n",
            "Epoch 235/500\n",
            "2192/2192 [==============================] - 0s 104us/step - loss: 0.3313 - acc: 0.8682 - val_loss: 0.3733 - val_acc: 0.8704\n",
            "Epoch 236/500\n",
            "2192/2192 [==============================] - 0s 108us/step - loss: 0.3257 - acc: 0.8755 - val_loss: 0.3506 - val_acc: 0.8814\n",
            "Epoch 237/500\n",
            "2192/2192 [==============================] - 0s 106us/step - loss: 0.3423 - acc: 0.8654 - val_loss: 0.3708 - val_acc: 0.8796\n",
            "Epoch 238/500\n",
            "2192/2192 [==============================] - 0s 107us/step - loss: 0.3735 - acc: 0.8458 - val_loss: 0.3795 - val_acc: 0.8759\n",
            "Epoch 239/500\n",
            "2192/2192 [==============================] - 0s 109us/step - loss: 0.3287 - acc: 0.8691 - val_loss: 0.3514 - val_acc: 0.8723\n",
            "Epoch 240/500\n",
            "2192/2192 [==============================] - 0s 103us/step - loss: 0.3532 - acc: 0.8577 - val_loss: 0.3823 - val_acc: 0.8741\n",
            "Epoch 241/500\n",
            "2192/2192 [==============================] - 0s 101us/step - loss: 0.3441 - acc: 0.8636 - val_loss: 0.3565 - val_acc: 0.8832\n",
            "Epoch 242/500\n",
            "2192/2192 [==============================] - 0s 104us/step - loss: 0.3471 - acc: 0.8604 - val_loss: 0.3634 - val_acc: 0.8759\n",
            "Epoch 243/500\n",
            "2192/2192 [==============================] - 0s 107us/step - loss: 0.3242 - acc: 0.8759 - val_loss: 0.3663 - val_acc: 0.8777\n",
            "Epoch 244/500\n",
            "2192/2192 [==============================] - 0s 109us/step - loss: 0.3091 - acc: 0.8855 - val_loss: 0.3556 - val_acc: 0.8814\n",
            "Epoch 245/500\n",
            "2192/2192 [==============================] - 0s 111us/step - loss: 0.2948 - acc: 0.8901 - val_loss: 0.3488 - val_acc: 0.8905\n",
            "Epoch 246/500\n",
            "2192/2192 [==============================] - 0s 115us/step - loss: 0.3137 - acc: 0.8823 - val_loss: 0.3631 - val_acc: 0.8887\n",
            "Epoch 247/500\n",
            "2192/2192 [==============================] - 0s 117us/step - loss: 0.3197 - acc: 0.8777 - val_loss: 0.3631 - val_acc: 0.8723\n",
            "Epoch 248/500\n",
            "2192/2192 [==============================] - 0s 111us/step - loss: 0.3443 - acc: 0.8613 - val_loss: 0.3507 - val_acc: 0.8814\n",
            "Epoch 249/500\n",
            "2192/2192 [==============================] - 0s 102us/step - loss: 0.3288 - acc: 0.8732 - val_loss: 0.3601 - val_acc: 0.8723\n",
            "Epoch 250/500\n",
            "2192/2192 [==============================] - 0s 108us/step - loss: 0.3008 - acc: 0.8859 - val_loss: 0.3696 - val_acc: 0.8704\n",
            "Epoch 251/500\n",
            "2192/2192 [==============================] - 0s 110us/step - loss: 0.3224 - acc: 0.8759 - val_loss: 0.3561 - val_acc: 0.8796\n",
            "Epoch 252/500\n",
            "2192/2192 [==============================] - 0s 104us/step - loss: 0.3231 - acc: 0.8727 - val_loss: 0.3712 - val_acc: 0.8759\n",
            "Epoch 253/500\n",
            "2192/2192 [==============================] - 0s 108us/step - loss: 0.2997 - acc: 0.8837 - val_loss: 0.3365 - val_acc: 0.8850\n",
            "Epoch 254/500\n",
            "2192/2192 [==============================] - 0s 105us/step - loss: 0.3600 - acc: 0.8581 - val_loss: 0.3982 - val_acc: 0.8686\n",
            "Epoch 255/500\n",
            "2192/2192 [==============================] - 0s 106us/step - loss: 0.3374 - acc: 0.8682 - val_loss: 0.3726 - val_acc: 0.8704\n",
            "Epoch 256/500\n",
            "2192/2192 [==============================] - 0s 110us/step - loss: 0.3192 - acc: 0.8782 - val_loss: 0.3515 - val_acc: 0.8850\n",
            "Epoch 257/500\n",
            "2192/2192 [==============================] - 0s 109us/step - loss: 0.3256 - acc: 0.8691 - val_loss: 0.3568 - val_acc: 0.8777\n",
            "Epoch 258/500\n",
            "2192/2192 [==============================] - 0s 102us/step - loss: 0.2852 - acc: 0.8969 - val_loss: 0.3720 - val_acc: 0.8741\n",
            "Epoch 259/500\n",
            "2192/2192 [==============================] - 0s 102us/step - loss: 0.3302 - acc: 0.8750 - val_loss: 0.3567 - val_acc: 0.8759\n",
            "Epoch 260/500\n",
            "2192/2192 [==============================] - 0s 104us/step - loss: 0.2987 - acc: 0.8832 - val_loss: 0.3512 - val_acc: 0.8759\n",
            "Epoch 261/500\n",
            "2192/2192 [==============================] - 0s 102us/step - loss: 0.2891 - acc: 0.8923 - val_loss: 0.3606 - val_acc: 0.8777\n",
            "Epoch 262/500\n",
            "2192/2192 [==============================] - 0s 103us/step - loss: 0.2864 - acc: 0.8850 - val_loss: 0.3438 - val_acc: 0.8850\n",
            "Epoch 263/500\n",
            "2192/2192 [==============================] - 0s 106us/step - loss: 0.2904 - acc: 0.8891 - val_loss: 0.3354 - val_acc: 0.8905\n",
            "Epoch 264/500\n",
            "2192/2192 [==============================] - 0s 112us/step - loss: 0.2896 - acc: 0.8905 - val_loss: 0.3619 - val_acc: 0.8796\n",
            "Epoch 265/500\n",
            "2192/2192 [==============================] - 0s 109us/step - loss: 0.3127 - acc: 0.8768 - val_loss: 0.3852 - val_acc: 0.8741\n",
            "Epoch 266/500\n",
            "2192/2192 [==============================] - 0s 109us/step - loss: 0.2831 - acc: 0.8946 - val_loss: 0.3789 - val_acc: 0.8668\n",
            "Epoch 267/500\n",
            "2192/2192 [==============================] - 0s 104us/step - loss: 0.2947 - acc: 0.8896 - val_loss: 0.3414 - val_acc: 0.8869\n",
            "Epoch 268/500\n",
            "2192/2192 [==============================] - 0s 104us/step - loss: 0.3174 - acc: 0.8704 - val_loss: 0.3535 - val_acc: 0.8741\n",
            "Epoch 269/500\n",
            "2192/2192 [==============================] - 0s 112us/step - loss: 0.3050 - acc: 0.8869 - val_loss: 0.3565 - val_acc: 0.8777\n",
            "Epoch 270/500\n",
            "2192/2192 [==============================] - 0s 103us/step - loss: 0.3000 - acc: 0.8891 - val_loss: 0.3359 - val_acc: 0.8869\n",
            "Epoch 271/500\n",
            "2192/2192 [==============================] - 0s 103us/step - loss: 0.2851 - acc: 0.8878 - val_loss: 0.3636 - val_acc: 0.8832\n",
            "Epoch 272/500\n",
            "2192/2192 [==============================] - 0s 116us/step - loss: 0.2915 - acc: 0.8896 - val_loss: 0.3385 - val_acc: 0.8942\n",
            "Epoch 273/500\n",
            "2192/2192 [==============================] - 0s 113us/step - loss: 0.2831 - acc: 0.8905 - val_loss: 0.3536 - val_acc: 0.8741\n",
            "Epoch 274/500\n",
            "2192/2192 [==============================] - 0s 104us/step - loss: 0.3213 - acc: 0.8709 - val_loss: 0.3495 - val_acc: 0.8796\n",
            "Epoch 275/500\n",
            "2192/2192 [==============================] - 0s 101us/step - loss: 0.2798 - acc: 0.8832 - val_loss: 0.3506 - val_acc: 0.8723\n",
            "Epoch 276/500\n",
            "2192/2192 [==============================] - 0s 105us/step - loss: 0.3054 - acc: 0.8782 - val_loss: 0.3543 - val_acc: 0.8850\n",
            "Epoch 277/500\n",
            "2192/2192 [==============================] - 0s 116us/step - loss: 0.2791 - acc: 0.8942 - val_loss: 0.3498 - val_acc: 0.8832\n",
            "Epoch 278/500\n",
            "2192/2192 [==============================] - 0s 105us/step - loss: 0.2852 - acc: 0.8878 - val_loss: 0.3473 - val_acc: 0.8796\n",
            "Epoch 279/500\n",
            "2192/2192 [==============================] - 0s 108us/step - loss: 0.2784 - acc: 0.8960 - val_loss: 0.3385 - val_acc: 0.8923\n",
            "Epoch 280/500\n",
            "2192/2192 [==============================] - 0s 112us/step - loss: 0.3154 - acc: 0.8800 - val_loss: 0.3575 - val_acc: 0.8723\n",
            "Epoch 281/500\n",
            "2192/2192 [==============================] - 0s 107us/step - loss: 0.2988 - acc: 0.8832 - val_loss: 0.3567 - val_acc: 0.8796\n",
            "Epoch 282/500\n",
            "2192/2192 [==============================] - 0s 107us/step - loss: 0.3224 - acc: 0.8727 - val_loss: 0.3345 - val_acc: 0.8850\n",
            "Epoch 283/500\n",
            "2192/2192 [==============================] - 0s 110us/step - loss: 0.2786 - acc: 0.8905 - val_loss: 0.3577 - val_acc: 0.8796\n",
            "Epoch 284/500\n",
            "2192/2192 [==============================] - 0s 101us/step - loss: 0.2878 - acc: 0.8855 - val_loss: 0.3307 - val_acc: 0.8814\n",
            "Epoch 285/500\n",
            "2192/2192 [==============================] - 0s 110us/step - loss: 0.2899 - acc: 0.8887 - val_loss: 0.3301 - val_acc: 0.8905\n",
            "Epoch 286/500\n",
            "2192/2192 [==============================] - 0s 107us/step - loss: 0.2919 - acc: 0.8887 - val_loss: 0.3446 - val_acc: 0.8923\n",
            "Epoch 287/500\n",
            "2192/2192 [==============================] - 0s 109us/step - loss: 0.2948 - acc: 0.8896 - val_loss: 0.3271 - val_acc: 0.8887\n",
            "Epoch 288/500\n",
            "2192/2192 [==============================] - 0s 103us/step - loss: 0.2884 - acc: 0.8823 - val_loss: 0.3506 - val_acc: 0.8832\n",
            "Epoch 289/500\n",
            "2192/2192 [==============================] - 0s 105us/step - loss: 0.2765 - acc: 0.8905 - val_loss: 0.3666 - val_acc: 0.8796\n",
            "Epoch 290/500\n",
            "2192/2192 [==============================] - 0s 109us/step - loss: 0.2884 - acc: 0.8846 - val_loss: 0.3397 - val_acc: 0.8759\n",
            "Epoch 291/500\n",
            "2192/2192 [==============================] - 0s 106us/step - loss: 0.2741 - acc: 0.9010 - val_loss: 0.3295 - val_acc: 0.8869\n",
            "Epoch 292/500\n",
            "2192/2192 [==============================] - 0s 107us/step - loss: 0.2794 - acc: 0.8992 - val_loss: 0.3505 - val_acc: 0.8777\n",
            "Epoch 293/500\n",
            "2192/2192 [==============================] - 0s 102us/step - loss: 0.2853 - acc: 0.8850 - val_loss: 0.3723 - val_acc: 0.8650\n",
            "Epoch 294/500\n",
            "2192/2192 [==============================] - 0s 107us/step - loss: 0.2729 - acc: 0.8955 - val_loss: 0.3497 - val_acc: 0.8741\n",
            "Epoch 295/500\n",
            "2192/2192 [==============================] - 0s 106us/step - loss: 0.2613 - acc: 0.9056 - val_loss: 0.3465 - val_acc: 0.8777\n",
            "Epoch 296/500\n",
            "2192/2192 [==============================] - 0s 101us/step - loss: 0.2555 - acc: 0.9019 - val_loss: 0.3310 - val_acc: 0.8759\n",
            "Epoch 297/500\n",
            "2192/2192 [==============================] - 0s 102us/step - loss: 0.2757 - acc: 0.9019 - val_loss: 0.3616 - val_acc: 0.8741\n",
            "Epoch 298/500\n",
            "2192/2192 [==============================] - 0s 112us/step - loss: 0.2746 - acc: 0.8969 - val_loss: 0.3621 - val_acc: 0.8777\n",
            "Epoch 299/500\n",
            "2192/2192 [==============================] - 0s 118us/step - loss: 0.2728 - acc: 0.8996 - val_loss: 0.3296 - val_acc: 0.8887\n",
            "Epoch 300/500\n",
            "2192/2192 [==============================] - 0s 114us/step - loss: 0.2407 - acc: 0.9120 - val_loss: 0.3348 - val_acc: 0.8887\n",
            "Epoch 301/500\n",
            "2192/2192 [==============================] - 0s 117us/step - loss: 0.2711 - acc: 0.8951 - val_loss: 0.3372 - val_acc: 0.8923\n",
            "Epoch 302/500\n",
            "2192/2192 [==============================] - 0s 116us/step - loss: 0.2657 - acc: 0.9001 - val_loss: 0.3403 - val_acc: 0.8923\n",
            "Epoch 303/500\n",
            "2192/2192 [==============================] - 0s 118us/step - loss: 0.3189 - acc: 0.8755 - val_loss: 0.3464 - val_acc: 0.8759\n",
            "Epoch 304/500\n",
            "2192/2192 [==============================] - 0s 121us/step - loss: 0.2683 - acc: 0.9001 - val_loss: 0.3554 - val_acc: 0.8759\n",
            "Epoch 305/500\n",
            "2192/2192 [==============================] - 0s 123us/step - loss: 0.2504 - acc: 0.8992 - val_loss: 0.3336 - val_acc: 0.8887\n",
            "Epoch 306/500\n",
            "2192/2192 [==============================] - 0s 118us/step - loss: 0.2599 - acc: 0.8992 - val_loss: 0.3277 - val_acc: 0.9069\n",
            "Epoch 307/500\n",
            "2192/2192 [==============================] - 0s 111us/step - loss: 0.2748 - acc: 0.8974 - val_loss: 0.3483 - val_acc: 0.8814\n",
            "Epoch 308/500\n",
            "2192/2192 [==============================] - 0s 105us/step - loss: 0.2812 - acc: 0.8910 - val_loss: 0.3378 - val_acc: 0.8832\n",
            "Epoch 309/500\n",
            "2192/2192 [==============================] - 0s 110us/step - loss: 0.2713 - acc: 0.8905 - val_loss: 0.3473 - val_acc: 0.8704\n",
            "Epoch 310/500\n",
            "2192/2192 [==============================] - 0s 111us/step - loss: 0.2493 - acc: 0.9060 - val_loss: 0.3296 - val_acc: 0.8905\n",
            "Epoch 311/500\n",
            "2192/2192 [==============================] - 0s 110us/step - loss: 0.2564 - acc: 0.8978 - val_loss: 0.3380 - val_acc: 0.8869\n",
            "Epoch 312/500\n",
            "2192/2192 [==============================] - 0s 104us/step - loss: 0.2690 - acc: 0.8987 - val_loss: 0.3453 - val_acc: 0.8832\n",
            "Epoch 313/500\n",
            "2192/2192 [==============================] - 0s 104us/step - loss: 0.2545 - acc: 0.9060 - val_loss: 0.3491 - val_acc: 0.8832\n",
            "Epoch 314/500\n",
            "2192/2192 [==============================] - 0s 109us/step - loss: 0.2495 - acc: 0.9051 - val_loss: 0.3221 - val_acc: 0.8759\n",
            "Epoch 315/500\n",
            "2192/2192 [==============================] - 0s 110us/step - loss: 0.2770 - acc: 0.8932 - val_loss: 0.3319 - val_acc: 0.8887\n",
            "Epoch 316/500\n",
            "2192/2192 [==============================] - 0s 106us/step - loss: 0.2960 - acc: 0.8818 - val_loss: 0.3363 - val_acc: 0.8850\n",
            "Epoch 317/500\n",
            "2192/2192 [==============================] - 0s 102us/step - loss: 0.2807 - acc: 0.8910 - val_loss: 0.3225 - val_acc: 0.8887\n",
            "Epoch 318/500\n",
            "2192/2192 [==============================] - 0s 99us/step - loss: 0.2628 - acc: 0.8946 - val_loss: 0.3289 - val_acc: 0.8887\n",
            "Epoch 319/500\n",
            "2192/2192 [==============================] - 0s 104us/step - loss: 0.2513 - acc: 0.9019 - val_loss: 0.3321 - val_acc: 0.8905\n",
            "Epoch 320/500\n",
            "2192/2192 [==============================] - 0s 106us/step - loss: 0.2486 - acc: 0.9037 - val_loss: 0.3478 - val_acc: 0.8814\n",
            "Epoch 321/500\n",
            "2192/2192 [==============================] - 0s 108us/step - loss: 0.2347 - acc: 0.9110 - val_loss: 0.3475 - val_acc: 0.8850\n",
            "Epoch 322/500\n",
            "2192/2192 [==============================] - 0s 105us/step - loss: 0.2359 - acc: 0.9161 - val_loss: 0.3370 - val_acc: 0.8814\n",
            "Epoch 323/500\n",
            "2192/2192 [==============================] - 0s 110us/step - loss: 0.2547 - acc: 0.9074 - val_loss: 0.3263 - val_acc: 0.8960\n",
            "Epoch 324/500\n",
            "2192/2192 [==============================] - 0s 105us/step - loss: 0.2523 - acc: 0.9028 - val_loss: 0.3237 - val_acc: 0.9033\n",
            "Epoch 325/500\n",
            "2192/2192 [==============================] - 0s 110us/step - loss: 0.2493 - acc: 0.9078 - val_loss: 0.3414 - val_acc: 0.8832\n",
            "Epoch 326/500\n",
            "2192/2192 [==============================] - 0s 124us/step - loss: 0.2386 - acc: 0.9147 - val_loss: 0.3194 - val_acc: 0.8942\n",
            "Epoch 327/500\n",
            "2192/2192 [==============================] - 0s 108us/step - loss: 0.2402 - acc: 0.9147 - val_loss: 0.3054 - val_acc: 0.8996\n",
            "Epoch 328/500\n",
            "2192/2192 [==============================] - 0s 106us/step - loss: 0.2527 - acc: 0.9065 - val_loss: 0.3434 - val_acc: 0.8869\n",
            "Epoch 329/500\n",
            "2192/2192 [==============================] - 0s 110us/step - loss: 0.2350 - acc: 0.9133 - val_loss: 0.3222 - val_acc: 0.8905\n",
            "Epoch 330/500\n",
            "2192/2192 [==============================] - 0s 103us/step - loss: 0.2420 - acc: 0.9083 - val_loss: 0.3283 - val_acc: 0.8777\n",
            "Epoch 331/500\n",
            "2192/2192 [==============================] - 0s 104us/step - loss: 0.2631 - acc: 0.9001 - val_loss: 0.3361 - val_acc: 0.8923\n",
            "Epoch 332/500\n",
            "2192/2192 [==============================] - 0s 108us/step - loss: 0.2627 - acc: 0.9019 - val_loss: 0.3178 - val_acc: 0.8869\n",
            "Epoch 333/500\n",
            "2192/2192 [==============================] - 0s 104us/step - loss: 0.2280 - acc: 0.9188 - val_loss: 0.3275 - val_acc: 0.8814\n",
            "Epoch 334/500\n",
            "2192/2192 [==============================] - 0s 103us/step - loss: 0.2299 - acc: 0.9142 - val_loss: 0.3177 - val_acc: 0.8978\n",
            "Epoch 335/500\n",
            "2192/2192 [==============================] - 0s 101us/step - loss: 0.2684 - acc: 0.8964 - val_loss: 0.3400 - val_acc: 0.8814\n",
            "Epoch 336/500\n",
            "2192/2192 [==============================] - 0s 107us/step - loss: 0.2505 - acc: 0.9101 - val_loss: 0.3270 - val_acc: 0.8923\n",
            "Epoch 337/500\n",
            "2192/2192 [==============================] - 0s 105us/step - loss: 0.2401 - acc: 0.9060 - val_loss: 0.3501 - val_acc: 0.8832\n",
            "Epoch 338/500\n",
            "2192/2192 [==============================] - 0s 118us/step - loss: 0.2697 - acc: 0.8923 - val_loss: 0.3149 - val_acc: 0.8850\n",
            "Epoch 339/500\n",
            "2192/2192 [==============================] - 0s 114us/step - loss: 0.2467 - acc: 0.9019 - val_loss: 0.3550 - val_acc: 0.8850\n",
            "Epoch 340/500\n",
            "2192/2192 [==============================] - 0s 113us/step - loss: 0.2560 - acc: 0.9028 - val_loss: 0.3252 - val_acc: 0.8942\n",
            "Epoch 341/500\n",
            "2192/2192 [==============================] - 0s 104us/step - loss: 0.2686 - acc: 0.8992 - val_loss: 0.3115 - val_acc: 0.8978\n",
            "Epoch 342/500\n",
            "2192/2192 [==============================] - 0s 104us/step - loss: 0.2492 - acc: 0.9083 - val_loss: 0.3288 - val_acc: 0.8850\n",
            "Epoch 343/500\n",
            "2192/2192 [==============================] - 0s 114us/step - loss: 0.2432 - acc: 0.9115 - val_loss: 0.3285 - val_acc: 0.8869\n",
            "Epoch 344/500\n",
            "2192/2192 [==============================] - 0s 110us/step - loss: 0.2464 - acc: 0.9120 - val_loss: 0.3342 - val_acc: 0.8942\n",
            "Epoch 345/500\n",
            "2192/2192 [==============================] - 0s 102us/step - loss: 0.2457 - acc: 0.9078 - val_loss: 0.3275 - val_acc: 0.8905\n",
            "Epoch 346/500\n",
            "2192/2192 [==============================] - 0s 108us/step - loss: 0.2482 - acc: 0.9124 - val_loss: 0.3535 - val_acc: 0.8777\n",
            "Epoch 347/500\n",
            "2192/2192 [==============================] - 0s 103us/step - loss: 0.2400 - acc: 0.9133 - val_loss: 0.3385 - val_acc: 0.8942\n",
            "Epoch 348/500\n",
            "2192/2192 [==============================] - 0s 107us/step - loss: 0.2309 - acc: 0.9165 - val_loss: 0.3229 - val_acc: 0.8905\n",
            "Epoch 349/500\n",
            "2192/2192 [==============================] - 0s 109us/step - loss: 0.2110 - acc: 0.9211 - val_loss: 0.3368 - val_acc: 0.8869\n",
            "Epoch 350/500\n",
            "2192/2192 [==============================] - 0s 111us/step - loss: 0.2431 - acc: 0.9051 - val_loss: 0.3406 - val_acc: 0.8814\n",
            "Epoch 351/500\n",
            "2192/2192 [==============================] - 0s 111us/step - loss: 0.2495 - acc: 0.9083 - val_loss: 0.3700 - val_acc: 0.8741\n",
            "Epoch 352/500\n",
            "2192/2192 [==============================] - 0s 109us/step - loss: 0.3189 - acc: 0.8841 - val_loss: 0.3565 - val_acc: 0.8832\n",
            "Epoch 353/500\n",
            "2192/2192 [==============================] - 0s 104us/step - loss: 0.2496 - acc: 0.9074 - val_loss: 0.3342 - val_acc: 0.8814\n",
            "Epoch 354/500\n",
            "2192/2192 [==============================] - 0s 102us/step - loss: 0.2254 - acc: 0.9133 - val_loss: 0.3414 - val_acc: 0.8832\n",
            "Epoch 355/500\n",
            "2192/2192 [==============================] - 0s 105us/step - loss: 0.2580 - acc: 0.9088 - val_loss: 0.3431 - val_acc: 0.8777\n",
            "Epoch 356/500\n",
            "2192/2192 [==============================] - 0s 115us/step - loss: 0.2475 - acc: 0.9110 - val_loss: 0.3412 - val_acc: 0.8869\n"
          ],
          "name": "stdout"
        }
      ]
    },
    {
      "cell_type": "markdown",
      "metadata": {
        "id": "xQ2Koxsz0Zun",
        "colab_type": "text"
      },
      "source": [
        "# 訓練過程評估"
      ]
    },
    {
      "cell_type": "code",
      "metadata": {
        "id": "2SxJIEDzbaZ7",
        "colab_type": "code",
        "outputId": "22955b03-6504-49f1-fb63-e0c9651ca972",
        "colab": {
          "base_uri": "https://localhost:8080/",
          "height": 269
        }
      },
      "source": [
        "import matplotlib.pyplot as plt\n",
        "fig, ax = plt.subplots(2,1)\n",
        "ax[0].plot(history.history['loss'], color='b', label=\"Training loss\")\n",
        "ax[0].plot(history.history['val_loss'], color='r', label=\"Validation loss\",axes =ax[0])\n",
        "ax[0].grid(color='black', linestyle='-', linewidth=0.25)\n",
        "legend = ax[0].legend(loc='best', shadow=True)\n",
        "\n",
        "ax[1].plot(history.history['acc'], color='b', label=\"Training accuracy\")\n",
        "ax[1].plot(history.history['val_acc'], color='r',label=\"Validation accuracy\")\n",
        "ax[1].grid(color='black', linestyle='-', linewidth=0.25)\n",
        "legend = ax[1].legend(loc='best', shadow=True)"
      ],
      "execution_count": 43,
      "outputs": [
        {
          "output_type": "display_data",
          "data": {
            "image/png": "[encoded data removed]",
            "text/plain": [
              "<Figure size 432x288 with 2 Axes>"
            ]
          },
          "metadata": {
            "tags": []
          }
        }
      ]
    },
    {
      "cell_type": "markdown",
      "metadata": {
        "id": "zWVmgHz80cCp",
        "colab_type": "text"
      },
      "source": [
        "# 混淆矩陣"
      ]
    },
    {
      "cell_type": "code",
      "metadata": {
        "id": "UH5CcmX6btme",
        "colab_type": "code",
        "outputId": "1cc2147c-0b18-4109-df78-b6309f58811c",
        "colab": {
          "base_uri": "https://localhost:8080/",
          "height": 311
        }
      },
      "source": [
        "from sklearn.metrics import confusion_matrix\n",
        "import itertools\n",
        "\n",
        "def plot_confusion_matrix(cm, classes, normalize=False, title='Confusion matrix', cmap=plt.cm.Blues):\n",
        "    plt.imshow(cm, interpolation='nearest', cmap=cmap)\n",
        "    plt.title(title)\n",
        "    plt.colorbar()\n",
        "    tick_marks = np.arange(len(classes))\n",
        "    plt.xticks(tick_marks, classes, rotation=45)\n",
        "    plt.yticks(tick_marks, classes)\n",
        "    if normalize:\n",
        "        cm = cm.astype('float') / cm.sum(axis=1)[:, np.newaxis]\n",
        "    thresh = cm.max() / 2.\n",
        "    for i, j in itertools.product(range(cm.shape[0]), range(cm.shape[1])):\n",
        "        plt.text(j, i, cm[i, j],\n",
        "                 horizontalalignment=\"center\",\n",
        "                 color=\"white\" if cm[i, j] > thresh else \"black\")\n",
        "    plt.tight_layout()\n",
        "    plt.ylabel('True label')\n",
        "    plt.xlabel('Predicted label')\n",
        "\n",
        "#預測的y\n",
        "ypred_onehot = model.predict(xval)\n",
        "#轉換預測的y: [0 0 1 0 0 ...] --> 2\n",
        "ypred = np.argmax(ypred_onehot,axis=1)\n",
        "#轉換真實的y\n",
        "ytrue = np.argmax(yval,axis=1)\n",
        "#計算 confusion matrix\n",
        "confusion_mtx = confusion_matrix(ytrue, ypred)\n",
        "#畫出 confusion matrix\n",
        "plot_confusion_matrix(confusion_mtx, classes=range(nclasses))"
      ],
      "execution_count": 44,
      "outputs": [
        {
          "output_type": "display_data",
          "data": {
            "image/png": "[encoded data removed]",
            "text/plain": [
              "<Figure size 432x288 with 2 Axes>"
            ]
          },
          "metadata": {
            "tags": []
          }
        }
      ]
    },
    {
      "cell_type": "markdown",
      "metadata": {
        "id": "PmgafP2rpjAO",
        "colab_type": "text"
      },
      "source": [
        "# 分類report"
      ]
    },
    {
      "cell_type": "markdown",
      "metadata": {
        "id": "zXQ8o9mj1Ydh",
        "colab_type": "text"
      },
      "source": [
        "轉換預測結果"
      ]
    },
    {
      "cell_type": "code",
      "metadata": {
        "id": "lCSuw9cYqEYk",
        "colab_type": "code",
        "outputId": "109f9f8c-2fac-40ec-a648-be0044d17992",
        "colab": {
          "base_uri": "https://localhost:8080/",
          "height": 106
        }
      },
      "source": [
        "y_pred = model.predict(xval)\n",
        "y_pred = [np.argmax(i) for i in y_pred]\n",
        "y_pred = to_categorical(y_pred, num_classes = 3)\n",
        "print(y_pred[:5])"
      ],
      "execution_count": 45,
      "outputs": [
        {
          "output_type": "stream",
          "text": [
            "[[1. 0. 0.]\n",
            " [0. 1. 0.]\n",
            " [1. 0. 0.]\n",
            " [1. 0. 0.]\n",
            " [1. 0. 0.]]\n"
          ],
          "name": "stdout"
        }
      ]
    },
    {
      "cell_type": "markdown",
      "metadata": {
        "id": "XrHrpsVb1avA",
        "colab_type": "text"
      },
      "source": [
        "真實y值"
      ]
    },
    {
      "cell_type": "code",
      "metadata": {
        "id": "T2tyxRdo1Mqm",
        "colab_type": "code",
        "outputId": "e11002cc-eff5-49db-8d26-c71c1bc90cfa",
        "colab": {
          "base_uri": "https://localhost:8080/",
          "height": 106
        }
      },
      "source": [
        "print(yval[:5])"
      ],
      "execution_count": 46,
      "outputs": [
        {
          "output_type": "stream",
          "text": [
            "[[0. 0. 1.]\n",
            " [0. 1. 0.]\n",
            " [1. 0. 0.]\n",
            " [1. 0. 0.]\n",
            " [1. 0. 0.]]\n"
          ],
          "name": "stdout"
        }
      ]
    },
    {
      "cell_type": "markdown",
      "metadata": {
        "id": "wztZOw2r1ddE",
        "colab_type": "text"
      },
      "source": [
        "# 分類報告"
      ]
    },
    {
      "cell_type": "code",
      "metadata": {
        "id": "vzMaU-Y8pjJT",
        "colab_type": "code",
        "outputId": "6b70cac1-bee9-4723-e68e-19717a6ac2b9",
        "colab": {
          "base_uri": "https://localhost:8080/",
          "height": 212
        }
      },
      "source": [
        "from sklearn.metrics import classification_report \n",
        "target_names = ['Hold','BUY','SELL']\n",
        "print(classification_report(yval,y_pred,target_names=target_names))"
      ],
      "execution_count": 47,
      "outputs": [
        {
          "output_type": "stream",
          "text": [
            "              precision    recall  f1-score   support\n",
            "\n",
            "        Hold       0.89      0.95      0.92       313\n",
            "         BUY       0.85      0.69      0.76        51\n",
            "        SELL       0.89      0.83      0.86       184\n",
            "\n",
            "   micro avg       0.89      0.89      0.89       548\n",
            "   macro avg       0.88      0.82      0.85       548\n",
            "weighted avg       0.89      0.89      0.88       548\n",
            " samples avg       0.89      0.89      0.89       548\n",
            "\n"
          ],
          "name": "stdout"
        }
      ]
    },
    {
      "cell_type": "markdown",
      "metadata": {
        "id": "n-KXEoZLb9ie",
        "colab_type": "text"
      },
      "source": [
        "# plot error"
      ]
    },
    {
      "cell_type": "code",
      "metadata": {
        "id": "nCW5Xvtrb0fC",
        "colab_type": "code",
        "outputId": "78104e59-a030-49f8-f4af-7525162aae69",
        "colab": {
          "base_uri": "https://localhost:8080/",
          "height": 293
        }
      },
      "source": [
        "errors = (ypred - ytrue != 0)\n",
        "\n",
        "ypred_er = ypred_onehot[errors]\n",
        "ypred_classes_er = ypred[errors]\n",
        "ytrue_er = ytrue[errors]\n",
        "xval_er = xval[errors]\n",
        "\n",
        "def display_errors(errors_index, img_errors, pred_errors, obs_errors):\n",
        "    n = 0\n",
        "    nrows = 2\n",
        "    ncols = 3\n",
        "    fig, ax = plt.subplots(nrows, ncols, sharex=True, sharey=True)\n",
        "    plt.subplots_adjust(wspace =0.5, hspace =0.5)\n",
        "    for row in range(nrows):\n",
        "        for col in range(ncols):\n",
        "            error = errors_index[n]\n",
        "            ax[row,col].imshow((img_errors[error]).reshape((days,len(features))))\n",
        "            ax[row,col].set_title(\"Predicted label :{}\\nTrue label :{}\".format(pred_errors[error],obs_errors[error]))\n",
        "            n += 1\n",
        "            \n",
        "# 錯誤預測的概率\n",
        "ypred_er_prob = np.max(ypred_er,axis=1)\n",
        "\n",
        "# Predicted probabilities of the true values in the error set\n",
        "true_prob_er = np.diagonal(np.take(ypred_er, ytrue_er, axis=1))\n",
        "\n",
        "# Difference between the probability of the predicted label and the true label\n",
        "delta_pred_true_er = ypred_er_prob - true_prob_er\n",
        "\n",
        "# Sorted list of the delta prob errors\n",
        "sorted_delta_er = np.argsort(delta_pred_true_er)\n",
        "\n",
        "# Top 6 errors. You can change the range to see other images\n",
        "most_important_er = sorted_delta_er[-6:]\n",
        "\n",
        "# Show the top 6 errors\n",
        "display_errors(most_important_er, xval_er, ypred_classes_er, ytrue_er)"
      ],
      "execution_count": 48,
      "outputs": [
        {
          "output_type": "display_data",
          "data": {
            "image/png": "[encoded data removed]",
            "text/plain": [
              "<Figure size 432x288 with 6 Axes>"
            ]
          },
          "metadata": {
            "tags": []
          }
        }
      ]
    },
    {
      "cell_type": "markdown",
      "metadata": {
        "id": "togdM5Afo71w",
        "colab_type": "text"
      },
      "source": [
        "## 預測最後40筆"
      ]
    },
    {
      "cell_type": "code",
      "metadata": {
        "id": "kQqzNPdQo8GW",
        "colab_type": "code",
        "outputId": "6fa737fc-9544-470f-d56d-67069c748b3c",
        "colab": {
          "base_uri": "https://localhost:8080/",
          "height": 35
        }
      },
      "source": [
        "answer = model.predict(X_test)\n",
        "answer = [ np.argmax(i) for i in answer]\n",
        "print(len(answer))"
      ],
      "execution_count": 49,
      "outputs": [
        {
          "output_type": "stream",
          "text": [
            "40\n"
          ],
          "name": "stdout"
        }
      ]
    },
    {
      "cell_type": "markdown",
      "metadata": {
        "id": "FOBO-SgaBHMx",
        "colab_type": "text"
      },
      "source": [
        "# 0~20筆"
      ]
    },
    {
      "cell_type": "code",
      "metadata": {
        "id": "YHzRjtab0pr-",
        "colab_type": "code",
        "outputId": "6e21aedb-63c2-41b8-a1a5-802c20ee5b8f",
        "colab": {
          "base_uri": "https://localhost:8080/",
          "height": 335
        }
      },
      "source": [
        "INDEX60 = df[-60:].index\n",
        "C = web.DataReader(SID,'yahoo',start=\"2000-01-01\")[['Close']]\n",
        "C = C.loc[INDEX60,:]\n",
        "C['SIGNAL'] = [np.nan for _ in range(20)] + answer #20個NAN+預測答案\n",
        "buy = C[C['SIGNAL']==1]['Close']\n",
        "sell = C[C['SIGNAL']==2]['Close']\n",
        "C['Close'][20:40].plot()\n",
        "plt.scatter(list(buy.index),list(buy.values),color='red',marker=\"^\")\n",
        "plt.scatter(list(sell.index),list(sell.values),color='black')"
      ],
      "execution_count": 50,
      "outputs": [
        {
          "output_type": "execute_result",
          "data": {
            "text/plain": [
              "<matplotlib.collections.PathCollection at 0x7f3f9064e470>"
            ]
          },
          "metadata": {
            "tags": []
          },
          "execution_count": 50
        },
        {
          "output_type": "display_data",
          "data": {
            "image/png": "[encoded data removed]",
            "text/plain": [
              "<Figure size 432x288 with 1 Axes>"
            ]
          },
          "metadata": {
            "tags": []
          }
        }
      ]
    },
    {
      "cell_type": "markdown",
      "metadata": {
        "id": "NpYwUgdJBKWR",
        "colab_type": "text"
      },
      "source": [
        "# 20~40筆"
      ]
    },
    {
      "cell_type": "code",
      "metadata": {
        "id": "9AZQa4zj2Psu",
        "colab_type": "code",
        "outputId": "8a7d195f-391d-4025-fbe6-339b14c2d0e7",
        "colab": {
          "base_uri": "https://localhost:8080/",
          "height": 307
        }
      },
      "source": [
        "C['Close'][40:60].plot()\n",
        "plt.scatter(list(buy.index),list(buy.values),color='red',marker=\"^\")\n",
        "plt.scatter(list(sell.index),list(sell.values),color='black')"
      ],
      "execution_count": 51,
      "outputs": [
        {
          "output_type": "execute_result",
          "data": {
            "text/plain": [
              "<matplotlib.collections.PathCollection at 0x7f3f903e9b38>"
            ]
          },
          "metadata": {
            "tags": []
          },
          "execution_count": 51
        },
        {
          "output_type": "display_data",
          "data": {
            "image/png": "[encoded data removed]",
            "text/plain": [
              "<Figure size 432x288 with 1 Axes>"
            ]
          },
          "metadata": {
            "tags": []
          }
        }
      ]
    },
    {
      "cell_type": "markdown",
      "metadata": {
        "id": "j3i8j1ewAtDU",
        "colab_type": "text"
      },
      "source": [
        "# 合併"
      ]
    },
    {
      "cell_type": "code",
      "metadata": {
        "id": "y-RBxkc38C1a",
        "colab_type": "code",
        "outputId": "e3461133-c0c4-4a6e-bbaa-4eb6b9cdaca4",
        "colab": {
          "base_uri": "https://localhost:8080/",
          "height": 307
        }
      },
      "source": [
        "C['Close'][20:60].plot()\n",
        "plt.scatter(list(buy.index),list(buy.values),color='red',marker=\"^\")\n",
        "plt.scatter(list(sell.index),list(sell.values),color='black')"
      ],
      "execution_count": 52,
      "outputs": [
        {
          "output_type": "execute_result",
          "data": {
            "text/plain": [
              "<matplotlib.collections.PathCollection at 0x7f3f905e0630>"
            ]
          },
          "metadata": {
            "tags": []
          },
          "execution_count": 52
        },
        {
          "output_type": "display_data",
          "data": {
            "image/png": "[encoded data removed]",
            "text/plain": [
              "<Figure size 432x288 with 1 Axes>"
            ]
          },
          "metadata": {
            "tags": []
          }
        }
      ]
    },
    {
      "cell_type": "markdown",
      "metadata": {
        "id": "WWVaZwDKF_lr",
        "colab_type": "text"
      },
      "source": [
        "# 平滑版本"
      ]
    },
    {
      "cell_type": "code",
      "metadata": {
        "id": "OUO9oF7sAvmH",
        "colab_type": "code",
        "outputId": "cebea48d-01a5-4ec1-b91d-c889e23ad24d",
        "colab": {
          "base_uri": "https://localhost:8080/",
          "height": 307
        }
      },
      "source": [
        "C_roll20 = pd.DataFrame(index=C.index)#空的dataframe index = 倒數60天股票日期\n",
        "C_roll20['Close'] = C['Close'].rolling(20).mean()#收盤價做20天平滑\n",
        "C_roll20['SIGNAL'] = C['SIGNAL']\n",
        "buy = C_roll20[C_roll20['SIGNAL']==1]['Close']#買點\n",
        "sell= C_roll20[C_roll20['SIGNAL']==2]['Close']#賣點\n",
        "C_roll20['Close'][20:].plot()\n",
        "plt.scatter(list(buy.index),list(buy.values),color='red',marker=\"^\")\n",
        "plt.scatter(list(sell.index),list(sell.values),color='black')"
      ],
      "execution_count": 53,
      "outputs": [
        {
          "output_type": "execute_result",
          "data": {
            "text/plain": [
              "<matplotlib.collections.PathCollection at 0x7f3f905c0f28>"
            ]
          },
          "metadata": {
            "tags": []
          },
          "execution_count": 53
        },
        {
          "output_type": "display_data",
          "data": {
            "image/png": "[encoded data removed]",
            "text/plain": [
              "<Figure size 432x288 with 1 Axes>"
            ]
          },
          "metadata": {
            "tags": []
          }
        }
      ]
    },
    {
      "cell_type": "code",
      "metadata": {
        "id": "UIeUpfe4GzRI",
        "colab_type": "code",
        "colab": {}
      },
      "source": [
        ""
      ],
      "execution_count": 0,
      "outputs": []
    }
  ]
}