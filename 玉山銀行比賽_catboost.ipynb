{
  "nbformat": 4,
  "nbformat_minor": 0,
  "metadata": {
    "colab": {
      "name": "玉山銀行比賽_catboost.ipynb",
      "provenance": [],
      "include_colab_link": true
    },
    "kernelspec": {
      "name": "python3",
      "display_name": "Python 3"
    }
  },
  "cells": [
    {
      "cell_type": "markdown",
      "metadata": {
        "id": "view-in-github",
        "colab_type": "text"
      },
      "source": [
        "<a href=\"https://colab.research.google.com/github/skywalker0803r/Ricky/blob/master/%E7%8E%89%E5%B1%B1%E9%8A%80%E8%A1%8C%E6%AF%94%E8%B3%BD_catboost.ipynb\" target=\"_parent\"><img src=\"https://colab.research.google.com/assets/colab-badge.svg\" alt=\"Open In Colab\"/></a>"
      ]
    },
    {
      "cell_type": "code",
      "metadata": {
        "id": "WPR5EpVPTu2R",
        "colab_type": "code",
        "colab": {
          "base_uri": "https://localhost:8080/",
          "height": 34
        },
        "outputId": "fa9f82df-88a1-470d-91e8-0bc7c5a71abe"
      },
      "source": [
        "from google.colab import drive\n",
        "drive.mount('/content/drive')\n",
        "import warnings \n",
        "warnings.simplefilter('ignore')\n",
        "import seaborn as sns\n",
        "import matplotlib.pyplot as plt"
      ],
      "execution_count": 9,
      "outputs": [
        {
          "output_type": "stream",
          "text": [
            "Drive already mounted at /content/drive; to attempt to forcibly remount, call drive.mount(\"/content/drive\", force_remount=True).\n"
          ],
          "name": "stdout"
        }
      ]
    },
    {
      "cell_type": "code",
      "metadata": {
        "id": "HTGQlL6pTvpD",
        "colab_type": "code",
        "colab": {}
      },
      "source": [
        "中文map = {'bacno':'歸戶帳號','txkey':'交易序號','locdt':'授權日期','loctm':'授權時間','cano':'交易卡號',\n",
        "         'contp':'交易類別','etymd':'交易型態','mchno':'特店代號','acqic':'收單行代碼','mcc':'MCC_CODE',\n",
        "         'conam':'交易金額-台幣(經過轉換)','ecfg':'網路交易註記','insfg':'分期交易註記','iterm':'分期期數',\n",
        "         'stocn':'消費地國別','scity':'消費城市','stscd':'狀態碼','ovrlt':'超額註記碼','flbmk':'Fallback註記',\n",
        "         'hcefg':'支付型態','csmcu':'消費地幣別','flg_3dsmk':'3DS交易註記','fraud_ind':'盜刷註記'}"
      ],
      "execution_count": 0,
      "outputs": []
    },
    {
      "cell_type": "markdown",
      "metadata": {
        "id": "pduOxPvMUABF",
        "colab_type": "text"
      },
      "source": [
        "# train"
      ]
    },
    {
      "cell_type": "code",
      "metadata": {
        "id": "-VYk2pwCT927",
        "colab_type": "code",
        "colab": {
          "base_uri": "https://localhost:8080/",
          "height": 221
        },
        "outputId": "e7d160b9-70e8-4143-d000-20373437ed15"
      },
      "source": [
        "import pandas as pd\n",
        "train = pd.read_csv(\"/content/drive/My Drive/玉山人工智慧比賽數據/train_預處理完.csv\",index_col=0)\n",
        "print(train.shape)\n",
        "train.head()"
      ],
      "execution_count": 11,
      "outputs": [
        {
          "output_type": "stream",
          "text": [
            "(1521787, 23)\n"
          ],
          "name": "stdout"
        },
        {
          "output_type": "execute_result",
          "data": {
            "text/html": [
              "<div>\n",
              "<style scoped>\n",
              "    .dataframe tbody tr th:only-of-type {\n",
              "        vertical-align: middle;\n",
              "    }\n",
              "\n",
              "    .dataframe tbody tr th {\n",
              "        vertical-align: top;\n",
              "    }\n",
              "\n",
              "    .dataframe thead th {\n",
              "        text-align: right;\n",
              "    }\n",
              "</style>\n",
              "<table border=\"1\" class=\"dataframe\">\n",
              "  <thead>\n",
              "    <tr style=\"text-align: right;\">\n",
              "      <th></th>\n",
              "      <th>acqic</th>\n",
              "      <th>bacno</th>\n",
              "      <th>cano</th>\n",
              "      <th>conam</th>\n",
              "      <th>contp</th>\n",
              "      <th>csmcu</th>\n",
              "      <th>ecfg</th>\n",
              "      <th>etymd</th>\n",
              "      <th>flbmk</th>\n",
              "      <th>flg_3dsmk</th>\n",
              "      <th>hcefg</th>\n",
              "      <th>insfg</th>\n",
              "      <th>iterm</th>\n",
              "      <th>locdt</th>\n",
              "      <th>loctm</th>\n",
              "      <th>mcc</th>\n",
              "      <th>mchno</th>\n",
              "      <th>ovrlt</th>\n",
              "      <th>scity</th>\n",
              "      <th>stocn</th>\n",
              "      <th>stscd</th>\n",
              "      <th>txkey</th>\n",
              "      <th>fraud_ind</th>\n",
              "    </tr>\n",
              "  </thead>\n",
              "  <tbody>\n",
              "    <tr>\n",
              "      <th>0</th>\n",
              "      <td>6862</td>\n",
              "      <td>112785</td>\n",
              "      <td>37846</td>\n",
              "      <td>16158</td>\n",
              "      <td>5</td>\n",
              "      <td>0</td>\n",
              "      <td>0</td>\n",
              "      <td>0</td>\n",
              "      <td>0</td>\n",
              "      <td>0</td>\n",
              "      <td>5</td>\n",
              "      <td>0</td>\n",
              "      <td>0</td>\n",
              "      <td>33</td>\n",
              "      <td>61954</td>\n",
              "      <td>457</td>\n",
              "      <td>59034</td>\n",
              "      <td>0</td>\n",
              "      <td>0</td>\n",
              "      <td>102</td>\n",
              "      <td>0</td>\n",
              "      <td>516056</td>\n",
              "      <td>0</td>\n",
              "    </tr>\n",
              "    <tr>\n",
              "      <th>1</th>\n",
              "      <td>0</td>\n",
              "      <td>133951</td>\n",
              "      <td>45476</td>\n",
              "      <td>13693</td>\n",
              "      <td>5</td>\n",
              "      <td>0</td>\n",
              "      <td>0</td>\n",
              "      <td>2</td>\n",
              "      <td>0</td>\n",
              "      <td>0</td>\n",
              "      <td>0</td>\n",
              "      <td>0</td>\n",
              "      <td>0</td>\n",
              "      <td>9</td>\n",
              "      <td>38216</td>\n",
              "      <td>451</td>\n",
              "      <td>0</td>\n",
              "      <td>0</td>\n",
              "      <td>5795</td>\n",
              "      <td>102</td>\n",
              "      <td>0</td>\n",
              "      <td>4376</td>\n",
              "      <td>0</td>\n",
              "    </tr>\n",
              "    <tr>\n",
              "      <th>2</th>\n",
              "      <td>6862</td>\n",
              "      <td>15350</td>\n",
              "      <td>187354</td>\n",
              "      <td>16158</td>\n",
              "      <td>5</td>\n",
              "      <td>0</td>\n",
              "      <td>0</td>\n",
              "      <td>0</td>\n",
              "      <td>0</td>\n",
              "      <td>0</td>\n",
              "      <td>5</td>\n",
              "      <td>0</td>\n",
              "      <td>0</td>\n",
              "      <td>6</td>\n",
              "      <td>54640</td>\n",
              "      <td>457</td>\n",
              "      <td>59034</td>\n",
              "      <td>0</td>\n",
              "      <td>0</td>\n",
              "      <td>102</td>\n",
              "      <td>0</td>\n",
              "      <td>483434</td>\n",
              "      <td>0</td>\n",
              "    </tr>\n",
              "    <tr>\n",
              "      <th>3</th>\n",
              "      <td>6697</td>\n",
              "      <td>156492</td>\n",
              "      <td>29812</td>\n",
              "      <td>40413</td>\n",
              "      <td>5</td>\n",
              "      <td>62</td>\n",
              "      <td>0</td>\n",
              "      <td>5</td>\n",
              "      <td>0</td>\n",
              "      <td>0</td>\n",
              "      <td>5</td>\n",
              "      <td>0</td>\n",
              "      <td>0</td>\n",
              "      <td>5</td>\n",
              "      <td>62128</td>\n",
              "      <td>247</td>\n",
              "      <td>50185</td>\n",
              "      <td>0</td>\n",
              "      <td>3267</td>\n",
              "      <td>102</td>\n",
              "      <td>0</td>\n",
              "      <td>1407164</td>\n",
              "      <td>0</td>\n",
              "    </tr>\n",
              "    <tr>\n",
              "      <th>4</th>\n",
              "      <td>5959</td>\n",
              "      <td>105534</td>\n",
              "      <td>80881</td>\n",
              "      <td>25962</td>\n",
              "      <td>5</td>\n",
              "      <td>62</td>\n",
              "      <td>0</td>\n",
              "      <td>4</td>\n",
              "      <td>0</td>\n",
              "      <td>0</td>\n",
              "      <td>5</td>\n",
              "      <td>0</td>\n",
              "      <td>0</td>\n",
              "      <td>6</td>\n",
              "      <td>65231</td>\n",
              "      <td>263</td>\n",
              "      <td>93290</td>\n",
              "      <td>0</td>\n",
              "      <td>5795</td>\n",
              "      <td>102</td>\n",
              "      <td>0</td>\n",
              "      <td>1051004</td>\n",
              "      <td>0</td>\n",
              "    </tr>\n",
              "  </tbody>\n",
              "</table>\n",
              "</div>"
            ],
            "text/plain": [
              "   acqic   bacno    cano  conam  contp  ...  scity  stocn  stscd    txkey  fraud_ind\n",
              "0   6862  112785   37846  16158      5  ...      0    102      0   516056          0\n",
              "1      0  133951   45476  13693      5  ...   5795    102      0     4376          0\n",
              "2   6862   15350  187354  16158      5  ...      0    102      0   483434          0\n",
              "3   6697  156492   29812  40413      5  ...   3267    102      0  1407164          0\n",
              "4   5959  105534   80881  25962      5  ...   5795    102      0  1051004          0\n",
              "\n",
              "[5 rows x 23 columns]"
            ]
          },
          "metadata": {
            "tags": []
          },
          "execution_count": 11
        }
      ]
    },
    {
      "cell_type": "markdown",
      "metadata": {
        "id": "cdcREQMiUF5D",
        "colab_type": "text"
      },
      "source": [
        "# test"
      ]
    },
    {
      "cell_type": "code",
      "metadata": {
        "id": "g4gZYpBSUDOh",
        "colab_type": "code",
        "colab": {
          "base_uri": "https://localhost:8080/",
          "height": 221
        },
        "outputId": "87b459de-6430-462d-8f24-5c015af06a25"
      },
      "source": [
        "test = pd.read_csv(\"/content/drive/My Drive/玉山人工智慧比賽數據/test_預處理完.csv\",index_col=0)\n",
        "test_txkey = test[\"txkey\"]\n",
        "print(test.shape)\n",
        "test.head()"
      ],
      "execution_count": 12,
      "outputs": [
        {
          "output_type": "stream",
          "text": [
            "(421665, 22)\n"
          ],
          "name": "stdout"
        },
        {
          "output_type": "execute_result",
          "data": {
            "text/html": [
              "<div>\n",
              "<style scoped>\n",
              "    .dataframe tbody tr th:only-of-type {\n",
              "        vertical-align: middle;\n",
              "    }\n",
              "\n",
              "    .dataframe tbody tr th {\n",
              "        vertical-align: top;\n",
              "    }\n",
              "\n",
              "    .dataframe thead th {\n",
              "        text-align: right;\n",
              "    }\n",
              "</style>\n",
              "<table border=\"1\" class=\"dataframe\">\n",
              "  <thead>\n",
              "    <tr style=\"text-align: right;\">\n",
              "      <th></th>\n",
              "      <th>acqic</th>\n",
              "      <th>bacno</th>\n",
              "      <th>cano</th>\n",
              "      <th>conam</th>\n",
              "      <th>contp</th>\n",
              "      <th>csmcu</th>\n",
              "      <th>ecfg</th>\n",
              "      <th>etymd</th>\n",
              "      <th>flbmk</th>\n",
              "      <th>flg_3dsmk</th>\n",
              "      <th>hcefg</th>\n",
              "      <th>insfg</th>\n",
              "      <th>iterm</th>\n",
              "      <th>locdt</th>\n",
              "      <th>loctm</th>\n",
              "      <th>mcc</th>\n",
              "      <th>mchno</th>\n",
              "      <th>ovrlt</th>\n",
              "      <th>scity</th>\n",
              "      <th>stocn</th>\n",
              "      <th>stscd</th>\n",
              "      <th>txkey</th>\n",
              "    </tr>\n",
              "  </thead>\n",
              "  <tbody>\n",
              "    <tr>\n",
              "      <th>0</th>\n",
              "      <td>6862</td>\n",
              "      <td>162489</td>\n",
              "      <td>116168</td>\n",
              "      <td>16158</td>\n",
              "      <td>5</td>\n",
              "      <td>0</td>\n",
              "      <td>0</td>\n",
              "      <td>0</td>\n",
              "      <td>0</td>\n",
              "      <td>0</td>\n",
              "      <td>5</td>\n",
              "      <td>0</td>\n",
              "      <td>0</td>\n",
              "      <td>102</td>\n",
              "      <td>77950</td>\n",
              "      <td>457</td>\n",
              "      <td>59060</td>\n",
              "      <td>0</td>\n",
              "      <td>0</td>\n",
              "      <td>102</td>\n",
              "      <td>0</td>\n",
              "      <td>592489</td>\n",
              "    </tr>\n",
              "    <tr>\n",
              "      <th>1</th>\n",
              "      <td>6862</td>\n",
              "      <td>162489</td>\n",
              "      <td>116168</td>\n",
              "      <td>16158</td>\n",
              "      <td>5</td>\n",
              "      <td>0</td>\n",
              "      <td>0</td>\n",
              "      <td>0</td>\n",
              "      <td>0</td>\n",
              "      <td>0</td>\n",
              "      <td>5</td>\n",
              "      <td>0</td>\n",
              "      <td>0</td>\n",
              "      <td>102</td>\n",
              "      <td>79549</td>\n",
              "      <td>457</td>\n",
              "      <td>59060</td>\n",
              "      <td>0</td>\n",
              "      <td>0</td>\n",
              "      <td>102</td>\n",
              "      <td>0</td>\n",
              "      <td>592452</td>\n",
              "    </tr>\n",
              "    <tr>\n",
              "      <th>2</th>\n",
              "      <td>6862</td>\n",
              "      <td>162489</td>\n",
              "      <td>116168</td>\n",
              "      <td>16158</td>\n",
              "      <td>5</td>\n",
              "      <td>0</td>\n",
              "      <td>0</td>\n",
              "      <td>0</td>\n",
              "      <td>0</td>\n",
              "      <td>0</td>\n",
              "      <td>5</td>\n",
              "      <td>0</td>\n",
              "      <td>0</td>\n",
              "      <td>100</td>\n",
              "      <td>60355</td>\n",
              "      <td>457</td>\n",
              "      <td>59060</td>\n",
              "      <td>0</td>\n",
              "      <td>0</td>\n",
              "      <td>102</td>\n",
              "      <td>0</td>\n",
              "      <td>590212</td>\n",
              "    </tr>\n",
              "    <tr>\n",
              "      <th>3</th>\n",
              "      <td>6862</td>\n",
              "      <td>162489</td>\n",
              "      <td>116168</td>\n",
              "      <td>16158</td>\n",
              "      <td>5</td>\n",
              "      <td>0</td>\n",
              "      <td>0</td>\n",
              "      <td>0</td>\n",
              "      <td>0</td>\n",
              "      <td>0</td>\n",
              "      <td>5</td>\n",
              "      <td>0</td>\n",
              "      <td>0</td>\n",
              "      <td>100</td>\n",
              "      <td>60296</td>\n",
              "      <td>457</td>\n",
              "      <td>59060</td>\n",
              "      <td>0</td>\n",
              "      <td>0</td>\n",
              "      <td>102</td>\n",
              "      <td>0</td>\n",
              "      <td>590209</td>\n",
              "    </tr>\n",
              "    <tr>\n",
              "      <th>4</th>\n",
              "      <td>6862</td>\n",
              "      <td>162489</td>\n",
              "      <td>116168</td>\n",
              "      <td>16158</td>\n",
              "      <td>5</td>\n",
              "      <td>0</td>\n",
              "      <td>0</td>\n",
              "      <td>0</td>\n",
              "      <td>0</td>\n",
              "      <td>0</td>\n",
              "      <td>5</td>\n",
              "      <td>0</td>\n",
              "      <td>0</td>\n",
              "      <td>102</td>\n",
              "      <td>77933</td>\n",
              "      <td>457</td>\n",
              "      <td>59060</td>\n",
              "      <td>0</td>\n",
              "      <td>0</td>\n",
              "      <td>102</td>\n",
              "      <td>0</td>\n",
              "      <td>592488</td>\n",
              "    </tr>\n",
              "  </tbody>\n",
              "</table>\n",
              "</div>"
            ],
            "text/plain": [
              "   acqic   bacno    cano  conam  contp  ...  ovrlt  scity  stocn  stscd   txkey\n",
              "0   6862  162489  116168  16158      5  ...      0      0    102      0  592489\n",
              "1   6862  162489  116168  16158      5  ...      0      0    102      0  592452\n",
              "2   6862  162489  116168  16158      5  ...      0      0    102      0  590212\n",
              "3   6862  162489  116168  16158      5  ...      0      0    102      0  590209\n",
              "4   6862  162489  116168  16158      5  ...      0      0    102      0  592488\n",
              "\n",
              "[5 rows x 22 columns]"
            ]
          },
          "metadata": {
            "tags": []
          },
          "execution_count": 12
        }
      ]
    },
    {
      "cell_type": "markdown",
      "metadata": {
        "id": "5KiDwXIRULY6",
        "colab_type": "text"
      },
      "source": [
        "# 定義 features & cat_features & target"
      ]
    },
    {
      "cell_type": "code",
      "metadata": {
        "id": "s-q8x2kRUI3q",
        "colab_type": "code",
        "colab": {
          "base_uri": "https://localhost:8080/",
          "height": 68
        },
        "outputId": "2515be46-5890-44a2-cb66-5556591e7bfe"
      },
      "source": [
        "# 全部特徵\n",
        "features = train.drop(['fraud_ind', # just target\n",
        "                       'txkey', # just like index\n",
        "                       'locdt',# just date\n",
        "                       ],axis=1).columns.tolist()\n",
        "\n",
        "# 原始特徵才是cat_features\n",
        "cat_features = sorted(list(set(features)&set(中文map.keys())))\n",
        "\n",
        "y_name = 'fraud_ind'\n",
        "\n",
        "print(len(features),features)\n",
        "print(len(cat_features),cat_features)\n",
        "print(len([y_name]),[y_name])"
      ],
      "execution_count": 13,
      "outputs": [
        {
          "output_type": "stream",
          "text": [
            "20 ['acqic', 'bacno', 'cano', 'conam', 'contp', 'csmcu', 'ecfg', 'etymd', 'flbmk', 'flg_3dsmk', 'hcefg', 'insfg', 'iterm', 'loctm', 'mcc', 'mchno', 'ovrlt', 'scity', 'stocn', 'stscd']\n",
            "20 ['acqic', 'bacno', 'cano', 'conam', 'contp', 'csmcu', 'ecfg', 'etymd', 'flbmk', 'flg_3dsmk', 'hcefg', 'insfg', 'iterm', 'loctm', 'mcc', 'mchno', 'ovrlt', 'scity', 'stocn', 'stscd']\n",
            "1 ['fraud_ind']\n"
          ],
          "name": "stdout"
        }
      ]
    },
    {
      "cell_type": "markdown",
      "metadata": {
        "id": "BO0yLJEMU2GH",
        "colab_type": "text"
      },
      "source": [
        "# both / test"
      ]
    },
    {
      "cell_type": "code",
      "metadata": {
        "id": "t1wvSMLxUcI5",
        "colab_type": "code",
        "colab": {
          "base_uri": "https://localhost:8080/",
          "height": 669
        },
        "outputId": "c47dab38-f21f-4129-b7c6-76dfcaaf65a8"
      },
      "source": [
        "f = {}\n",
        "for col in cat_features:\n",
        "  both_value = set(train[col].unique())&set(test[col].unique())\n",
        "  f[col] = len(both_value)/len(test[col].unique())\n",
        "res = pd.DataFrame(f,index=['both/test']).T.sort_values(by='both/test',ascending=False)\n",
        "res['中文'] = res.index.map(中文map)\n",
        "res"
      ],
      "execution_count": 14,
      "outputs": [
        {
          "output_type": "execute_result",
          "data": {
            "text/html": [
              "<div>\n",
              "<style scoped>\n",
              "    .dataframe tbody tr th:only-of-type {\n",
              "        vertical-align: middle;\n",
              "    }\n",
              "\n",
              "    .dataframe tbody tr th {\n",
              "        vertical-align: top;\n",
              "    }\n",
              "\n",
              "    .dataframe thead th {\n",
              "        text-align: right;\n",
              "    }\n",
              "</style>\n",
              "<table border=\"1\" class=\"dataframe\">\n",
              "  <thead>\n",
              "    <tr style=\"text-align: right;\">\n",
              "      <th></th>\n",
              "      <th>both/test</th>\n",
              "      <th>中文</th>\n",
              "    </tr>\n",
              "  </thead>\n",
              "  <tbody>\n",
              "    <tr>\n",
              "      <th>stscd</th>\n",
              "      <td>1.000000</td>\n",
              "      <td>狀態碼</td>\n",
              "    </tr>\n",
              "    <tr>\n",
              "      <th>ovrlt</th>\n",
              "      <td>1.000000</td>\n",
              "      <td>超額註記碼</td>\n",
              "    </tr>\n",
              "    <tr>\n",
              "      <th>contp</th>\n",
              "      <td>1.000000</td>\n",
              "      <td>交易類別</td>\n",
              "    </tr>\n",
              "    <tr>\n",
              "      <th>ecfg</th>\n",
              "      <td>1.000000</td>\n",
              "      <td>網路交易註記</td>\n",
              "    </tr>\n",
              "    <tr>\n",
              "      <th>etymd</th>\n",
              "      <td>1.000000</td>\n",
              "      <td>交易型態</td>\n",
              "    </tr>\n",
              "    <tr>\n",
              "      <th>flbmk</th>\n",
              "      <td>1.000000</td>\n",
              "      <td>Fallback註記</td>\n",
              "    </tr>\n",
              "    <tr>\n",
              "      <th>flg_3dsmk</th>\n",
              "      <td>1.000000</td>\n",
              "      <td>3DS交易註記</td>\n",
              "    </tr>\n",
              "    <tr>\n",
              "      <th>insfg</th>\n",
              "      <td>1.000000</td>\n",
              "      <td>分期交易註記</td>\n",
              "    </tr>\n",
              "    <tr>\n",
              "      <th>iterm</th>\n",
              "      <td>1.000000</td>\n",
              "      <td>分期期數</td>\n",
              "    </tr>\n",
              "    <tr>\n",
              "      <th>loctm</th>\n",
              "      <td>0.990267</td>\n",
              "      <td>授權時間</td>\n",
              "    </tr>\n",
              "    <tr>\n",
              "      <th>stocn</th>\n",
              "      <td>0.931034</td>\n",
              "      <td>消費地國別</td>\n",
              "    </tr>\n",
              "    <tr>\n",
              "      <th>mcc</th>\n",
              "      <td>0.930108</td>\n",
              "      <td>MCC_CODE</td>\n",
              "    </tr>\n",
              "    <tr>\n",
              "      <th>csmcu</th>\n",
              "      <td>0.929825</td>\n",
              "      <td>消費地幣別</td>\n",
              "    </tr>\n",
              "    <tr>\n",
              "      <th>hcefg</th>\n",
              "      <td>0.900000</td>\n",
              "      <td>支付型態</td>\n",
              "    </tr>\n",
              "    <tr>\n",
              "      <th>acqic</th>\n",
              "      <td>0.782551</td>\n",
              "      <td>收單行代碼</td>\n",
              "    </tr>\n",
              "    <tr>\n",
              "      <th>mchno</th>\n",
              "      <td>0.704028</td>\n",
              "      <td>特店代號</td>\n",
              "    </tr>\n",
              "    <tr>\n",
              "      <th>scity</th>\n",
              "      <td>0.667833</td>\n",
              "      <td>消費城市</td>\n",
              "    </tr>\n",
              "    <tr>\n",
              "      <th>conam</th>\n",
              "      <td>0.582012</td>\n",
              "      <td>交易金額-台幣(經過轉換)</td>\n",
              "    </tr>\n",
              "    <tr>\n",
              "      <th>bacno</th>\n",
              "      <td>0.043995</td>\n",
              "      <td>歸戶帳號</td>\n",
              "    </tr>\n",
              "    <tr>\n",
              "      <th>cano</th>\n",
              "      <td>0.043349</td>\n",
              "      <td>交易卡號</td>\n",
              "    </tr>\n",
              "  </tbody>\n",
              "</table>\n",
              "</div>"
            ],
            "text/plain": [
              "           both/test             中文\n",
              "stscd       1.000000            狀態碼\n",
              "ovrlt       1.000000          超額註記碼\n",
              "contp       1.000000           交易類別\n",
              "ecfg        1.000000         網路交易註記\n",
              "etymd       1.000000           交易型態\n",
              "flbmk       1.000000     Fallback註記\n",
              "flg_3dsmk   1.000000        3DS交易註記\n",
              "insfg       1.000000         分期交易註記\n",
              "iterm       1.000000           分期期數\n",
              "loctm       0.990267           授權時間\n",
              "stocn       0.931034          消費地國別\n",
              "mcc         0.930108       MCC_CODE\n",
              "csmcu       0.929825          消費地幣別\n",
              "hcefg       0.900000           支付型態\n",
              "acqic       0.782551          收單行代碼\n",
              "mchno       0.704028           特店代號\n",
              "scity       0.667833           消費城市\n",
              "conam       0.582012  交易金額-台幣(經過轉換)\n",
              "bacno       0.043995           歸戶帳號\n",
              "cano        0.043349           交易卡號"
            ]
          },
          "metadata": {
            "tags": []
          },
          "execution_count": 14
        }
      ]
    },
    {
      "cell_type": "markdown",
      "metadata": {
        "id": "AwxZW4wUVJ7b",
        "colab_type": "text"
      },
      "source": [
        "# drop rare features"
      ]
    },
    {
      "cell_type": "code",
      "metadata": {
        "id": "b1CWi1f0VCKZ",
        "colab_type": "code",
        "colab": {
          "base_uri": "https://localhost:8080/",
          "height": 51
        },
        "outputId": "4461be7d-405f-458e-c202-83113bb78c0d"
      },
      "source": [
        "print(len(features))\n",
        "try:\n",
        "  features.remove('bacno')\n",
        "  features.remove('cano')\n",
        "except:\n",
        "  pass\n",
        "print(len(features))"
      ],
      "execution_count": 15,
      "outputs": [
        {
          "output_type": "stream",
          "text": [
            "20\n",
            "18\n"
          ],
          "name": "stdout"
        }
      ]
    },
    {
      "cell_type": "code",
      "metadata": {
        "id": "ERFEZJFiVL5p",
        "colab_type": "code",
        "colab": {
          "base_uri": "https://localhost:8080/",
          "height": 51
        },
        "outputId": "d77985a9-6577-436e-9260-4c0752a11830"
      },
      "source": [
        "print(len(cat_features))\n",
        "try:\n",
        "  cat_features.remove('bacno')\n",
        "  cat_features.remove('cano')\n",
        "except:\n",
        "  pass\n",
        "print(len(cat_features))"
      ],
      "execution_count": 16,
      "outputs": [
        {
          "output_type": "stream",
          "text": [
            "20\n",
            "18\n"
          ],
          "name": "stdout"
        }
      ]
    },
    {
      "cell_type": "markdown",
      "metadata": {
        "id": "L3hXljHeVQw_",
        "colab_type": "text"
      },
      "source": [
        "# 切分 train 跟 val"
      ]
    },
    {
      "cell_type": "code",
      "metadata": {
        "id": "d0Avyx4xVNLu",
        "colab_type": "code",
        "colab": {}
      },
      "source": [
        "from sklearn.model_selection import KFold\n",
        "\n",
        "kf = KFold(n_splits =5 ,random_state=42)\n",
        "Folds = {}\n",
        "\n",
        "for i,train_val_index in enumerate(kf.split(train.index)):\n",
        "  Folds[i] = train_val_index"
      ],
      "execution_count": 0,
      "outputs": []
    },
    {
      "cell_type": "code",
      "metadata": {
        "id": "xlYR2IvHVSqD",
        "colab_type": "code",
        "colab": {}
      },
      "source": [
        "num_Fold = 0\n",
        "train_index ,val_index = Folds[num_Fold]"
      ],
      "execution_count": 0,
      "outputs": []
    },
    {
      "cell_type": "code",
      "metadata": {
        "id": "l5IlJUShVVA0",
        "colab_type": "code",
        "colab": {}
      },
      "source": [
        "val = train.loc[val_index,features+[y_name]]\n",
        "train = train.loc[train_index,features+[y_name]]"
      ],
      "execution_count": 0,
      "outputs": []
    },
    {
      "cell_type": "markdown",
      "metadata": {
        "id": "iub0anLkVyit",
        "colab_type": "text"
      },
      "source": [
        "# 切分 val_1,val_2"
      ]
    },
    {
      "cell_type": "code",
      "metadata": {
        "id": "sBa-uXhwVW8S",
        "colab_type": "code",
        "colab": {
          "base_uri": "https://localhost:8080/",
          "height": 68
        },
        "outputId": "12ab7364-3c29-41a0-9960-00785ae4166d"
      },
      "source": [
        "from sklearn.model_selection import train_test_split\n",
        "val_1 ,val_2 = train_test_split(val[features+[y_name]] ,test_size=0.5 ,random_state=42)\n",
        "print(train.shape)\n",
        "print(val_1.shape)\n",
        "print(val_2.shape)"
      ],
      "execution_count": 20,
      "outputs": [
        {
          "output_type": "stream",
          "text": [
            "(1217429, 19)\n",
            "(152179, 19)\n",
            "(152179, 19)\n"
          ],
          "name": "stdout"
        }
      ]
    },
    {
      "cell_type": "markdown",
      "metadata": {
        "id": "EsjF-5t-V7oX",
        "colab_type": "text"
      },
      "source": [
        "# 計算樣本權重"
      ]
    },
    {
      "cell_type": "code",
      "metadata": {
        "id": "mzmuOqc6V4tv",
        "colab_type": "code",
        "colab": {
          "base_uri": "https://localhost:8080/",
          "height": 34
        },
        "outputId": "40e83bb3-a20f-4b65-b359-ca440a48e7f2"
      },
      "source": [
        "from sklearn.utils.class_weight import compute_class_weight\n",
        "import numpy as np\n",
        "\n",
        "y_org = train[y_name].append(val[y_name])\n",
        "\n",
        "class_weight_dict = dict(zip([0,1],\n",
        "                             compute_class_weight(class_weight ='balanced',\n",
        "                                                  classes = np.unique(y_org),\n",
        "                                                  y = y_org)))\n",
        "class_weight_dict"
      ],
      "execution_count": 21,
      "outputs": [
        {
          "output_type": "execute_result",
          "data": {
            "text/plain": [
              "{0: 0.5067785287645394, 1: 37.381159420289855}"
            ]
          },
          "metadata": {
            "tags": []
          },
          "execution_count": 21
        }
      ]
    },
    {
      "cell_type": "markdown",
      "metadata": {
        "id": "WgzG4ZFkWXOM",
        "colab_type": "text"
      },
      "source": [
        "# modelling"
      ]
    },
    {
      "cell_type": "code",
      "metadata": {
        "id": "8FbdGM3bWDYN",
        "colab_type": "code",
        "colab": {
          "base_uri": "https://localhost:8080/",
          "height": 51
        },
        "outputId": "f68d6e40-103b-42b2-aecd-702dd554f45b"
      },
      "source": [
        "cate_features_index = np.where(train[features].dtypes != float)[0]\n",
        "cate_features_index"
      ],
      "execution_count": 33,
      "outputs": [
        {
          "output_type": "execute_result",
          "data": {
            "text/plain": [
              "array([ 0,  1,  2,  3,  4,  5,  6,  7,  8,  9, 10, 11, 12, 13, 14, 15, 16,\n",
              "       17])"
            ]
          },
          "metadata": {
            "tags": []
          },
          "execution_count": 33
        }
      ]
    },
    {
      "cell_type": "code",
      "metadata": {
        "id": "bEefAuLjWuzD",
        "colab_type": "code",
        "colab": {}
      },
      "source": [
        "from catboost import CatBoostClassifier\n",
        "model = CatBoostClassifier(\n",
        "    class_weights = class_weight_dict,\n",
        "    iterations = 500, \n",
        "    learning_rate = 0.1,\n",
        "    loss_function = 'CrossEntropy', \n",
        "    eval_metric = 'F1',\n",
        "    use_best_model = True,\n",
        "    random_seed = 42)"
      ],
      "execution_count": 0,
      "outputs": []
    },
    {
      "cell_type": "code",
      "metadata": {
        "id": "VM4-5lmmXv97",
        "colab_type": "code",
        "colab": {
          "base_uri": "https://localhost:8080/",
          "height": 1000
        },
        "outputId": "028b2e1a-74ff-4413-cc39-774a9807e144"
      },
      "source": [
        "model.fit(train[features],train[y_name],\n",
        "          cat_features=cate_features_index,\n",
        "          eval_set=(val_1[features],val_1[y_name]))"
      ],
      "execution_count": 41,
      "outputs": [
        {
          "output_type": "stream",
          "text": [
            "0:\tlearn: 0.0000000\ttest: 0.0000000\tbest: 0.0000000 (0)\ttotal: 4.98s\tremaining: 41m 24s\n",
            "1:\tlearn: 0.2702802\ttest: 0.2802236\tbest: 0.2802236 (1)\ttotal: 8.24s\tremaining: 34m 12s\n",
            "2:\tlearn: 0.2176998\ttest: 0.2253408\tbest: 0.2802236 (1)\ttotal: 12.4s\tremaining: 34m 16s\n",
            "3:\tlearn: 0.2265083\ttest: 0.2347791\tbest: 0.2802236 (1)\ttotal: 18.1s\tremaining: 37m 19s\n",
            "4:\tlearn: 0.2131645\ttest: 0.2272912\tbest: 0.2802236 (1)\ttotal: 22.4s\tremaining: 36m 53s\n",
            "5:\tlearn: 0.3050881\ttest: 0.3095785\tbest: 0.3095785 (5)\ttotal: 27.4s\tremaining: 37m 35s\n",
            "6:\tlearn: 0.3201218\ttest: 0.3233624\tbest: 0.3233624 (6)\ttotal: 31.7s\tremaining: 37m 16s\n",
            "7:\tlearn: 0.4193736\ttest: 0.4268250\tbest: 0.4268250 (7)\ttotal: 37s\tremaining: 37m 53s\n",
            "8:\tlearn: 0.4279751\ttest: 0.4387543\tbest: 0.4387543 (8)\ttotal: 41.3s\tremaining: 37m 34s\n",
            "9:\tlearn: 0.4391170\ttest: 0.4484182\tbest: 0.4484182 (9)\ttotal: 46.3s\tremaining: 37m 49s\n",
            "10:\tlearn: 0.4508534\ttest: 0.4719025\tbest: 0.4719025 (10)\ttotal: 51.4s\tremaining: 38m 5s\n",
            "11:\tlearn: 0.4581574\ttest: 0.4747475\tbest: 0.4747475 (11)\ttotal: 56.8s\tremaining: 38m 29s\n",
            "12:\tlearn: 0.4687594\ttest: 0.4927056\tbest: 0.4927056 (12)\ttotal: 1m 2s\tremaining: 39m\n",
            "13:\tlearn: 0.4755341\ttest: 0.4980211\tbest: 0.4980211 (13)\ttotal: 1m 7s\tremaining: 38m 52s\n",
            "14:\tlearn: 0.4802550\ttest: 0.5065445\tbest: 0.5065445 (14)\ttotal: 1m 12s\tremaining: 39m 14s\n",
            "15:\tlearn: 0.4852136\ttest: 0.5119164\tbest: 0.5119164 (15)\ttotal: 1m 18s\tremaining: 39m 41s\n",
            "16:\tlearn: 0.4920822\ttest: 0.5135047\tbest: 0.5135047 (16)\ttotal: 1m 24s\tremaining: 39m 52s\n",
            "17:\tlearn: 0.4936453\ttest: 0.5210084\tbest: 0.5210084 (17)\ttotal: 1m 30s\tremaining: 40m 28s\n",
            "18:\tlearn: 0.4984291\ttest: 0.5273312\tbest: 0.5273312 (18)\ttotal: 1m 37s\tremaining: 41m 2s\n",
            "19:\tlearn: 0.5015640\ttest: 0.5321806\tbest: 0.5321806 (19)\ttotal: 1m 42s\tremaining: 40m 52s\n",
            "20:\tlearn: 0.5016700\ttest: 0.5305992\tbest: 0.5321806 (19)\ttotal: 1m 47s\tremaining: 40m 45s\n",
            "21:\tlearn: 0.5035455\ttest: 0.5325216\tbest: 0.5325216 (21)\ttotal: 1m 52s\tremaining: 40m 48s\n",
            "22:\tlearn: 0.5055731\ttest: 0.5345269\tbest: 0.5345269 (22)\ttotal: 1m 59s\tremaining: 41m 16s\n",
            "23:\tlearn: 0.5089793\ttest: 0.5396623\tbest: 0.5396623 (23)\ttotal: 2m 5s\tremaining: 41m 25s\n",
            "24:\tlearn: 0.5095684\ttest: 0.5407643\tbest: 0.5407643 (24)\ttotal: 2m 11s\tremaining: 41m 36s\n",
            "25:\tlearn: 0.5121780\ttest: 0.5463754\tbest: 0.5463754 (25)\ttotal: 2m 16s\tremaining: 41m 30s\n",
            "26:\tlearn: 0.5144368\ttest: 0.5514196\tbest: 0.5514196 (26)\ttotal: 2m 22s\tremaining: 41m 35s\n",
            "27:\tlearn: 0.5149977\ttest: 0.5526150\tbest: 0.5526150 (27)\ttotal: 2m 28s\tremaining: 41m 42s\n",
            "28:\tlearn: 0.5183935\ttest: 0.5524827\tbest: 0.5526150 (27)\ttotal: 2m 33s\tremaining: 41m 34s\n",
            "29:\tlearn: 0.5190758\ttest: 0.5537786\tbest: 0.5537786 (29)\ttotal: 2m 39s\tremaining: 41m 42s\n",
            "30:\tlearn: 0.5196533\ttest: 0.5542320\tbest: 0.5542320 (30)\ttotal: 2m 45s\tremaining: 41m 43s\n",
            "31:\tlearn: 0.5205086\ttest: 0.5558685\tbest: 0.5558685 (31)\ttotal: 2m 51s\tremaining: 41m 45s\n",
            "32:\tlearn: 0.5207120\ttest: 0.5573976\tbest: 0.5573976 (32)\ttotal: 2m 55s\tremaining: 41m 30s\n",
            "33:\tlearn: 0.5217463\ttest: 0.5582995\tbest: 0.5582995 (33)\ttotal: 2m 59s\tremaining: 41m 4s\n",
            "34:\tlearn: 0.5228426\ttest: 0.5594275\tbest: 0.5594275 (34)\ttotal: 3m 5s\tremaining: 41m 1s\n",
            "35:\tlearn: 0.5236539\ttest: 0.5611198\tbest: 0.5611198 (35)\ttotal: 3m 11s\tremaining: 41m 10s\n",
            "36:\tlearn: 0.5237083\ttest: 0.5607477\tbest: 0.5611198 (35)\ttotal: 3m 17s\tremaining: 41m 7s\n",
            "37:\tlearn: 0.5246384\ttest: 0.5611198\tbest: 0.5611198 (35)\ttotal: 3m 20s\tremaining: 40m 43s\n",
            "38:\tlearn: 0.5264188\ttest: 0.5651365\tbest: 0.5651365 (38)\ttotal: 3m 27s\tremaining: 40m 46s\n",
            "39:\tlearn: 0.5287618\ttest: 0.5699322\tbest: 0.5699322 (39)\ttotal: 3m 33s\tremaining: 40m 56s\n",
            "40:\tlearn: 0.5287338\ttest: 0.5708128\tbest: 0.5708128 (40)\ttotal: 3m 37s\tremaining: 40m 36s\n",
            "41:\tlearn: 0.5322163\ttest: 0.5749310\tbest: 0.5749310 (41)\ttotal: 3m 43s\tremaining: 40m 41s\n",
            "42:\tlearn: 0.5321954\ttest: 0.5753676\tbest: 0.5753676 (42)\ttotal: 3m 48s\tremaining: 40m 25s\n",
            "43:\tlearn: 0.5316230\ttest: 0.5754601\tbest: 0.5754601 (43)\ttotal: 3m 52s\tremaining: 40m 8s\n",
            "44:\tlearn: 0.5332795\ttest: 0.5758970\tbest: 0.5758970 (44)\ttotal: 3m 58s\tremaining: 40m 10s\n",
            "45:\tlearn: 0.5335758\ttest: 0.5768641\tbest: 0.5768641 (45)\ttotal: 4m 3s\tremaining: 40m 2s\n",
            "46:\tlearn: 0.5339315\ttest: 0.5771236\tbest: 0.5771236 (46)\ttotal: 4m 10s\tremaining: 40m 12s\n",
            "47:\tlearn: 0.5345343\ttest: 0.5775598\tbest: 0.5775598 (47)\ttotal: 4m 15s\tremaining: 40m 3s\n",
            "48:\tlearn: 0.5345823\ttest: 0.5766871\tbest: 0.5775598 (47)\ttotal: 4m 21s\tremaining: 40m 2s\n",
            "49:\tlearn: 0.5355588\ttest: 0.5775598\tbest: 0.5775598 (47)\ttotal: 4m 27s\tremaining: 40m 6s\n",
            "50:\tlearn: 0.5356553\ttest: 0.5777369\tbest: 0.5777369 (50)\ttotal: 4m 32s\tremaining: 39m 55s\n",
            "51:\tlearn: 0.5353601\ttest: 0.5779957\tbest: 0.5779957 (51)\ttotal: 4m 37s\tremaining: 39m 51s\n",
            "52:\tlearn: 0.5355861\ttest: 0.5779957\tbest: 0.5779957 (51)\ttotal: 4m 44s\tremaining: 39m 57s\n",
            "53:\tlearn: 0.5361922\ttest: 0.5778186\tbest: 0.5779957 (51)\ttotal: 4m 49s\tremaining: 39m 53s\n",
            "54:\tlearn: 0.5363043\ttest: 0.5782542\tbest: 0.5782542 (54)\ttotal: 4m 54s\tremaining: 39m 41s\n",
            "55:\tlearn: 0.5360193\ttest: 0.5788668\tbest: 0.5788668 (55)\ttotal: 4m 58s\tremaining: 39m 29s\n",
            "56:\tlearn: 0.5366365\ttest: 0.5788668\tbest: 0.5788668 (55)\ttotal: 5m 4s\tremaining: 39m 23s\n",
            "57:\tlearn: 0.5366306\ttest: 0.5786086\tbest: 0.5788668 (55)\ttotal: 5m 10s\tremaining: 39m 27s\n",
            "58:\tlearn: 0.5371019\ttest: 0.5793821\tbest: 0.5793821 (58)\ttotal: 5m 17s\tremaining: 39m 36s\n",
            "59:\tlearn: 0.5374613\ttest: 0.5793019\tbest: 0.5793821 (58)\ttotal: 5m 22s\tremaining: 39m 27s\n",
            "60:\tlearn: 0.5379105\ttest: 0.5790441\tbest: 0.5793821 (58)\ttotal: 5m 28s\tremaining: 39m 26s\n",
            "61:\tlearn: 0.5383501\ttest: 0.5801714\tbest: 0.5801714 (61)\ttotal: 5m 35s\tremaining: 39m 29s\n",
            "62:\tlearn: 0.5385358\ttest: 0.5815516\tbest: 0.5815516 (62)\ttotal: 5m 41s\tremaining: 39m 30s\n",
            "63:\tlearn: 0.5385296\ttest: 0.5819071\tbest: 0.5819071 (63)\ttotal: 5m 47s\tremaining: 39m 24s\n",
            "64:\tlearn: 0.5406902\ttest: 0.5828502\tbest: 0.5828502 (64)\ttotal: 5m 52s\tremaining: 39m 19s\n",
            "65:\tlearn: 0.5425792\ttest: 0.5864479\tbest: 0.5864479 (65)\ttotal: 5m 58s\tremaining: 39m 18s\n",
            "66:\tlearn: 0.5429886\ttest: 0.5887709\tbest: 0.5887709 (66)\ttotal: 6m 4s\tremaining: 39m 14s\n",
            "67:\tlearn: 0.5433008\ttest: 0.5881639\tbest: 0.5887709 (66)\ttotal: 6m 11s\tremaining: 39m 21s\n",
            "68:\tlearn: 0.5439277\ttest: 0.5870556\tbest: 0.5887709 (66)\ttotal: 6m 16s\tremaining: 39m 14s\n",
            "69:\tlearn: 0.5441024\ttest: 0.5871281\tbest: 0.5887709 (66)\ttotal: 6m 22s\tremaining: 39m 6s\n",
            "70:\tlearn: 0.5461299\ttest: 0.5878071\tbest: 0.5887709 (66)\ttotal: 6m 29s\tremaining: 39m 11s\n",
            "71:\tlearn: 0.5466017\ttest: 0.5882353\tbest: 0.5887709 (66)\ttotal: 6m 34s\tremaining: 39m 3s\n",
            "72:\tlearn: 0.5481428\ttest: 0.5890535\tbest: 0.5890535 (72)\ttotal: 6m 38s\tremaining: 38m 51s\n",
            "73:\tlearn: 0.5479900\ttest: 0.5898367\tbest: 0.5898367 (73)\ttotal: 6m 43s\tremaining: 38m 41s\n",
            "74:\tlearn: 0.5498708\ttest: 0.5909366\tbest: 0.5909366 (74)\ttotal: 6m 48s\tremaining: 38m 36s\n",
            "75:\tlearn: 0.5495904\ttest: 0.5905797\tbest: 0.5909366 (74)\ttotal: 6m 53s\tremaining: 38m 28s\n",
            "76:\tlearn: 0.5492207\ttest: 0.5910051\tbest: 0.5910051 (76)\ttotal: 6m 59s\tremaining: 38m 25s\n",
            "77:\tlearn: 0.5497355\ttest: 0.5912519\tbest: 0.5912519 (77)\ttotal: 7m 5s\tremaining: 38m 24s\n",
            "78:\tlearn: 0.5498369\ttest: 0.5912519\tbest: 0.5912519 (77)\ttotal: 7m 11s\tremaining: 38m 21s\n",
            "79:\tlearn: 0.5499145\ttest: 0.5916767\tbest: 0.5916767 (79)\ttotal: 7m 18s\tremaining: 38m 19s\n",
            "80:\tlearn: 0.5497913\ttest: 0.5916767\tbest: 0.5916767 (79)\ttotal: 7m 22s\tremaining: 38m 6s\n",
            "81:\tlearn: 0.5502603\ttest: 0.5914983\tbest: 0.5916767 (79)\ttotal: 7m 28s\tremaining: 38m 8s\n",
            "82:\tlearn: 0.5507154\ttest: 0.5919228\tbest: 0.5919228 (82)\ttotal: 7m 34s\tremaining: 38m 3s\n",
            "83:\tlearn: 0.5510034\ttest: 0.5919228\tbest: 0.5919228 (82)\ttotal: 7m 40s\tremaining: 38m\n",
            "84:\tlearn: 0.5517789\ttest: 0.5919228\tbest: 0.5919228 (82)\ttotal: 7m 46s\tremaining: 37m 56s\n",
            "85:\tlearn: 0.5521706\ttest: 0.5919228\tbest: 0.5919228 (82)\ttotal: 7m 51s\tremaining: 37m 48s\n",
            "86:\tlearn: 0.5521623\ttest: 0.5921013\tbest: 0.5921013 (86)\ttotal: 7m 57s\tremaining: 37m 46s\n",
            "87:\tlearn: 0.5522033\ttest: 0.5918552\tbest: 0.5921013 (86)\ttotal: 8m 3s\tremaining: 37m 43s\n",
            "88:\tlearn: 0.5527287\ttest: 0.5921013\tbest: 0.5921013 (86)\ttotal: 8m 9s\tremaining: 37m 39s\n",
            "89:\tlearn: 0.5527694\ttest: 0.5914983\tbest: 0.5921013 (86)\ttotal: 8m 15s\tremaining: 37m 36s\n",
            "90:\tlearn: 0.5531982\ttest: 0.5923471\tbest: 0.5923471 (90)\ttotal: 8m 20s\tremaining: 37m 30s\n",
            "91:\tlearn: 0.5534851\ttest: 0.5921013\tbest: 0.5923471 (90)\ttotal: 8m 26s\tremaining: 37m 25s\n",
            "92:\tlearn: 0.5539828\ttest: 0.5922799\tbest: 0.5923471 (90)\ttotal: 8m 30s\tremaining: 37m 15s\n",
            "93:\tlearn: 0.5544500\ttest: 0.5927711\tbest: 0.5927711 (93)\ttotal: 8m 36s\tremaining: 37m 9s\n",
            "94:\tlearn: 0.5549302\ttest: 0.5913881\tbest: 0.5927711 (93)\ttotal: 8m 43s\tremaining: 37m 12s\n",
            "95:\tlearn: 0.5554015\ttest: 0.5924812\tbest: 0.5927711 (93)\ttotal: 8m 51s\tremaining: 37m 17s\n",
            "96:\tlearn: 0.5557007\ttest: 0.5929044\tbest: 0.5929044 (96)\ttotal: 8m 57s\tremaining: 37m 11s\n",
            "97:\tlearn: 0.5559470\ttest: 0.5929044\tbest: 0.5929044 (96)\ttotal: 9m 2s\tremaining: 37m 4s\n",
            "98:\tlearn: 0.5558458\ttest: 0.5933273\tbest: 0.5933273 (98)\ttotal: 9m 7s\tremaining: 36m 59s\n",
            "99:\tlearn: 0.5559470\ttest: 0.5944161\tbest: 0.5944161 (99)\ttotal: 9m 12s\tremaining: 36m 50s\n",
            "100:\tlearn: 0.5563380\ttest: 0.5956169\tbest: 0.5956169 (100)\ttotal: 9m 19s\tremaining: 36m 50s\n",
            "101:\tlearn: 0.5568119\ttest: 0.5950165\tbest: 0.5956169 (100)\ttotal: 9m 24s\tremaining: 36m 42s\n",
            "102:\tlearn: 0.5571011\ttest: 0.5941724\tbest: 0.5956169 (100)\ttotal: 9m 31s\tremaining: 36m 42s\n",
            "103:\tlearn: 0.5572501\ttest: 0.5945946\tbest: 0.5956169 (100)\ttotal: 9m 38s\tremaining: 36m 42s\n",
            "104:\tlearn: 0.5574910\ttest: 0.5941724\tbest: 0.5956169 (100)\ttotal: 9m 44s\tremaining: 36m 40s\n",
            "105:\tlearn: 0.5578548\ttest: 0.5939940\tbest: 0.5956169 (100)\ttotal: 9m 50s\tremaining: 36m 34s\n",
            "106:\tlearn: 0.5581616\ttest: 0.5938157\tbest: 0.5956169 (100)\ttotal: 9m 56s\tremaining: 36m 31s\n",
            "107:\tlearn: 0.5582626\ttest: 0.5937500\tbest: 0.5956169 (100)\ttotal: 10m 2s\tremaining: 36m 26s\n",
            "108:\tlearn: 0.5584554\ttest: 0.5933273\tbest: 0.5956169 (100)\ttotal: 10m 7s\tremaining: 36m 18s\n",
            "109:\tlearn: 0.5583323\ttest: 0.5933273\tbest: 0.5956169 (100)\ttotal: 10m 12s\tremaining: 36m 10s\n",
            "110:\tlearn: 0.5585379\ttest: 0.5950165\tbest: 0.5956169 (100)\ttotal: 10m 19s\tremaining: 36m 10s\n",
            "111:\tlearn: 0.5585159\ttest: 0.5954382\tbest: 0.5956169 (100)\ttotal: 10m 25s\tremaining: 36m 8s\n",
            "112:\tlearn: 0.5589082\ttest: 0.5950810\tbest: 0.5956169 (100)\ttotal: 10m 31s\tremaining: 36m 2s\n",
            "113:\tlearn: 0.5586517\ttest: 0.5956809\tbest: 0.5956809 (113)\ttotal: 10m 36s\tremaining: 35m 56s\n",
            "114:\tlearn: 0.5594604\ttest: 0.5963440\tbest: 0.5963440 (114)\ttotal: 10m 43s\tremaining: 35m 53s\n",
            "115:\tlearn: 0.5593722\ttest: 0.5958084\tbest: 0.5963440 (114)\ttotal: 10m 49s\tremaining: 35m 49s\n",
            "116:\tlearn: 0.5596403\ttest: 0.5971848\tbest: 0.5971848 (116)\ttotal: 10m 55s\tremaining: 35m 44s\n",
            "117:\tlearn: 0.5599148\ttest: 0.5974259\tbest: 0.5974259 (117)\ttotal: 11m\tremaining: 35m 39s\n",
            "118:\tlearn: 0.5596558\ttest: 0.5978456\tbest: 0.5978456 (118)\ttotal: 11m 6s\tremaining: 35m 34s\n",
            "119:\tlearn: 0.5598011\ttest: 0.5972472\tbest: 0.5978456 (118)\ttotal: 11m 11s\tremaining: 35m 26s\n",
            "120:\tlearn: 0.5604703\ttest: 0.5966487\tbest: 0.5978456 (118)\ttotal: 11m 17s\tremaining: 35m 22s\n",
            "121:\tlearn: 0.5607890\ttest: 0.5968900\tbest: 0.5978456 (118)\ttotal: 11m 26s\tremaining: 35m 25s\n",
            "122:\tlearn: 0.5603914\ttest: 0.5968900\tbest: 0.5978456 (118)\ttotal: 11m 31s\tremaining: 35m 19s\n",
            "123:\tlearn: 0.5607130\ttest: 0.5968900\tbest: 0.5978456 (118)\ttotal: 11m 38s\tremaining: 35m 18s\n",
            "124:\tlearn: 0.5611670\ttest: 0.5967115\tbest: 0.5978456 (118)\ttotal: 11m 44s\tremaining: 35m 14s\n",
            "125:\tlearn: 0.5612112\ttest: 0.5971309\tbest: 0.5978456 (118)\ttotal: 11m 52s\tremaining: 35m 14s\n",
            "126:\tlearn: 0.5615612\ttest: 0.5968900\tbest: 0.5978456 (118)\ttotal: 11m 59s\tremaining: 35m 14s\n",
            "127:\tlearn: 0.5623572\ttest: 0.5962399\tbest: 0.5978456 (118)\ttotal: 12m 6s\tremaining: 35m 10s\n",
            "128:\tlearn: 0.5624040\ttest: 0.5962399\tbest: 0.5978456 (118)\ttotal: 12m 11s\tremaining: 35m 3s\n",
            "129:\tlearn: 0.5624828\ttest: 0.5964179\tbest: 0.5978456 (118)\ttotal: 12m 15s\tremaining: 34m 54s\n",
            "130:\tlearn: 0.5627559\ttest: 0.5962399\tbest: 0.5978456 (118)\ttotal: 12m 23s\tremaining: 34m 55s\n",
            "131:\tlearn: 0.5629035\ttest: 0.5964179\tbest: 0.5978456 (118)\ttotal: 12m 28s\tremaining: 34m 47s\n",
            "132:\tlearn: 0.5627460\ttest: 0.5965960\tbest: 0.5978456 (118)\ttotal: 12m 34s\tremaining: 34m 41s\n",
            "133:\tlearn: 0.5631786\ttest: 0.5968992\tbest: 0.5978456 (118)\ttotal: 12m 39s\tremaining: 34m 33s\n",
            "134:\tlearn: 0.5635763\ttest: 0.5974955\tbest: 0.5978456 (118)\ttotal: 12m 44s\tremaining: 34m 27s\n",
            "135:\tlearn: 0.5638427\ttest: 0.5975573\tbest: 0.5978456 (118)\ttotal: 12m 52s\tremaining: 34m 28s\n",
            "136:\tlearn: 0.5638306\ttest: 0.5971395\tbest: 0.5978456 (118)\ttotal: 12m 58s\tremaining: 34m 23s\n",
            "137:\tlearn: 0.5641348\ttest: 0.5969616\tbest: 0.5978456 (118)\ttotal: 13m 3s\tremaining: 34m 16s\n",
            "138:\tlearn: 0.5641227\ttest: 0.5969616\tbest: 0.5978456 (118)\ttotal: 13m 11s\tremaining: 34m 15s\n",
            "139:\tlearn: 0.5655979\ttest: 0.5996431\tbest: 0.5996431 (139)\ttotal: 13m 19s\tremaining: 34m 15s\n",
            "140:\tlearn: 0.5658096\ttest: 0.5994648\tbest: 0.5996431 (139)\ttotal: 13m 24s\tremaining: 34m 8s\n",
            "141:\tlearn: 0.5656867\ttest: 0.5989878\tbest: 0.5996431 (139)\ttotal: 13m 30s\tremaining: 34m 3s\n",
            "142:\tlearn: 0.5657652\ttest: 0.5992264\tbest: 0.5996431 (139)\ttotal: 13m 36s\tremaining: 33m 58s\n",
            "143:\tlearn: 0.5658674\ttest: 0.6000595\tbest: 0.6000595 (143)\ttotal: 13m 41s\tremaining: 33m 50s\n",
            "144:\tlearn: 0.5660466\ttest: 0.5994048\tbest: 0.6000595 (143)\ttotal: 13m 46s\tremaining: 33m 43s\n",
            "145:\tlearn: 0.5662627\ttest: 0.5995232\tbest: 0.6000595 (143)\ttotal: 13m 51s\tremaining: 33m 36s\n",
            "146:\tlearn: 0.5663529\ttest: 0.5986881\tbest: 0.6000595 (143)\ttotal: 13m 56s\tremaining: 33m 28s\n",
            "147:\tlearn: 0.5665189\ttest: 0.5991662\tbest: 0.6000595 (143)\ttotal: 14m 2s\tremaining: 33m 23s\n",
            "148:\tlearn: 0.5665451\ttest: 0.5993466\tbest: 0.6000595 (143)\ttotal: 14m 7s\tremaining: 33m 17s\n",
            "149:\tlearn: 0.5666915\ttest: 0.5997028\tbest: 0.6000595 (143)\ttotal: 14m 15s\tremaining: 33m 15s\n",
            "150:\tlearn: 0.5667372\ttest: 0.5997028\tbest: 0.6000595 (143)\ttotal: 14m 20s\tremaining: 33m 8s\n",
            "151:\tlearn: 0.5666379\ttest: 0.5997028\tbest: 0.6000595 (143)\ttotal: 14m 25s\tremaining: 33m 1s\n",
            "152:\tlearn: 0.5668847\ttest: 0.6001188\tbest: 0.6001188 (152)\ttotal: 14m 31s\tremaining: 32m 56s\n",
            "153:\tlearn: 0.5668952\ttest: 0.6001188\tbest: 0.6001188 (152)\ttotal: 14m 36s\tremaining: 32m 48s\n",
            "154:\tlearn: 0.5670297\ttest: 0.6001781\tbest: 0.6001781 (154)\ttotal: 14m 41s\tremaining: 32m 41s\n",
            "155:\tlearn: 0.5673770\ttest: 0.6001781\tbest: 0.6001781 (154)\ttotal: 14m 46s\tremaining: 32m 35s\n",
            "156:\tlearn: 0.5672659\ttest: 0.5999406\tbest: 0.6001781 (154)\ttotal: 14m 52s\tremaining: 32m 28s\n",
            "157:\tlearn: 0.5673103\ttest: 0.6001188\tbest: 0.6001781 (154)\ttotal: 14m 57s\tremaining: 32m 23s\n",
            "158:\tlearn: 0.5675220\ttest: 0.6016019\tbest: 0.6016019 (158)\ttotal: 15m 3s\tremaining: 32m 17s\n",
            "159:\tlearn: 0.5676343\ttest: 0.6021952\tbest: 0.6021952 (159)\ttotal: 15m 9s\tremaining: 32m 13s\n",
            "160:\tlearn: 0.5677465\ttest: 0.6021952\tbest: 0.6021952 (159)\ttotal: 15m 14s\tremaining: 32m 5s\n",
            "161:\tlearn: 0.5672858\ttest: 0.6021952\tbest: 0.6021952 (159)\ttotal: 15m 20s\tremaining: 32m 1s\n",
            "162:\tlearn: 0.5676322\ttest: 0.6017804\tbest: 0.6021952 (159)\ttotal: 15m 25s\tremaining: 31m 54s\n",
            "163:\tlearn: 0.5678345\ttest: 0.6011286\tbest: 0.6021952 (159)\ttotal: 15m 30s\tremaining: 31m 46s\n",
            "164:\tlearn: 0.5675538\ttest: 0.6011286\tbest: 0.6021952 (159)\ttotal: 15m 36s\tremaining: 31m 41s\n",
            "165:\tlearn: 0.5677318\ttest: 0.6011869\tbest: 0.6021952 (159)\ttotal: 15m 41s\tremaining: 31m 34s\n",
            "166:\tlearn: 0.5677541\ttest: 0.6011869\tbest: 0.6021952 (159)\ttotal: 15m 46s\tremaining: 31m 26s\n",
            "167:\tlearn: 0.5678325\ttest: 0.6016019\tbest: 0.6021952 (159)\ttotal: 15m 51s\tremaining: 31m 19s\n",
            "168:\tlearn: 0.5682032\ttest: 0.6017226\tbest: 0.6021952 (159)\ttotal: 15m 56s\tremaining: 31m 13s\n",
            "169:\tlearn: 0.5682486\ttest: 0.6029106\tbest: 0.6029106 (169)\ttotal: 16m 2s\tremaining: 31m 8s\n",
            "170:\tlearn: 0.5683270\ttest: 0.6027316\tbest: 0.6029106 (169)\ttotal: 16m 8s\tremaining: 31m 3s\n",
            "171:\tlearn: 0.5684945\ttest: 0.6034381\tbest: 0.6034381 (171)\ttotal: 16m 13s\tremaining: 30m 56s\n",
            "172:\tlearn: 0.5688081\ttest: 0.6039751\tbest: 0.6039751 (172)\ttotal: 16m 20s\tremaining: 30m 53s\n",
            "173:\tlearn: 0.5688541\ttest: 0.6052164\tbest: 0.6052164 (173)\ttotal: 16m 26s\tremaining: 30m 47s\n",
            "174:\tlearn: 0.5693265\ttest: 0.6062759\tbest: 0.6062759 (174)\ttotal: 16m 32s\tremaining: 30m 43s\n",
            "175:\tlearn: 0.5693265\ttest: 0.6054502\tbest: 0.6062759 (174)\ttotal: 16m 39s\tremaining: 30m 40s\n",
            "176:\tlearn: 0.5692928\ttest: 0.6054502\tbest: 0.6062759 (174)\ttotal: 16m 45s\tremaining: 30m 34s\n",
            "177:\tlearn: 0.5697406\ttest: 0.6064554\tbest: 0.6064554 (177)\ttotal: 16m 53s\tremaining: 30m 33s\n",
            "178:\tlearn: 0.5697852\ttest: 0.6060427\tbest: 0.6064554 (177)\ttotal: 16m 57s\tremaining: 30m 25s\n",
            "179:\tlearn: 0.5700536\ttest: 0.6058091\tbest: 0.6064554 (177)\ttotal: 17m 5s\tremaining: 30m 22s\n",
            "180:\tlearn: 0.5697961\ttest: 0.6058091\tbest: 0.6064554 (177)\ttotal: 17m 10s\tremaining: 30m 15s\n",
            "181:\tlearn: 0.5701538\ttest: 0.6053412\tbest: 0.6064554 (177)\ttotal: 17m 15s\tremaining: 30m 9s\n",
            "182:\tlearn: 0.5704672\ttest: 0.6053412\tbest: 0.6064554 (177)\ttotal: 17m 21s\tremaining: 30m 3s\n",
            "183:\tlearn: 0.5704787\ttest: 0.6061684\tbest: 0.6064554 (177)\ttotal: 17m 27s\tremaining: 29m 58s\n",
            "184:\tlearn: 0.5711605\ttest: 0.6078199\tbest: 0.6078199 (184)\ttotal: 17m 32s\tremaining: 29m 52s\n",
            "185:\tlearn: 0.5709485\ttest: 0.6078199\tbest: 0.6078199 (184)\ttotal: 17m 37s\tremaining: 29m 45s\n",
            "186:\tlearn: 0.5713951\ttest: 0.6078199\tbest: 0.6078199 (184)\ttotal: 17m 43s\tremaining: 29m 40s\n",
            "187:\tlearn: 0.5714732\ttest: 0.6088757\tbest: 0.6088757 (187)\ttotal: 17m 50s\tremaining: 29m 37s\n",
            "188:\tlearn: 0.5717412\ttest: 0.6088757\tbest: 0.6088757 (187)\ttotal: 17m 55s\tremaining: 29m 30s\n",
            "189:\tlearn: 0.5715291\ttest: 0.6078722\tbest: 0.6088757 (187)\ttotal: 18m 3s\tremaining: 29m 28s\n",
            "190:\tlearn: 0.5714397\ttest: 0.6078722\tbest: 0.6088757 (187)\ttotal: 18m 8s\tremaining: 29m 21s\n",
            "191:\tlearn: 0.5715291\ttest: 0.6078722\tbest: 0.6088757 (187)\ttotal: 18m 13s\tremaining: 29m 13s\n",
            "192:\tlearn: 0.5716297\ttest: 0.6086957\tbest: 0.6088757 (187)\ttotal: 18m 19s\tremaining: 29m 9s\n",
            "193:\tlearn: 0.5717638\ttest: 0.6086957\tbest: 0.6088757 (187)\ttotal: 18m 24s\tremaining: 29m 2s\n",
            "194:\tlearn: 0.5719312\ttest: 0.6088757\tbest: 0.6088757 (187)\ttotal: 18m 31s\tremaining: 28m 58s\n",
            "195:\tlearn: 0.5721101\ttest: 0.6078199\tbest: 0.6088757 (187)\ttotal: 18m 38s\tremaining: 28m 54s\n",
            "196:\tlearn: 0.5722998\ttest: 0.6077446\tbest: 0.6088757 (187)\ttotal: 18m 45s\tremaining: 28m 50s\n",
            "197:\tlearn: 0.5724116\ttest: 0.6075126\tbest: 0.6088757 (187)\ttotal: 18m 49s\tremaining: 28m 42s\n",
            "198:\tlearn: 0.5724114\ttest: 0.6086957\tbest: 0.6088757 (187)\ttotal: 18m 56s\tremaining: 28m 38s\n",
            "199:\tlearn: 0.5726015\ttest: 0.6072803\tbest: 0.6088757 (187)\ttotal: 19m 3s\tremaining: 28m 34s\n",
            "200:\tlearn: 0.5730144\ttest: 0.6076923\tbest: 0.6088757 (187)\ttotal: 19m 10s\tremaining: 28m 30s\n",
            "201:\tlearn: 0.5729138\ttest: 0.6080521\tbest: 0.6088757 (187)\ttotal: 19m 15s\tremaining: 28m 25s\n",
            "202:\tlearn: 0.5732260\ttest: 0.6080521\tbest: 0.6088757 (187)\ttotal: 19m 22s\tremaining: 28m 21s\n",
            "203:\tlearn: 0.5731474\ttest: 0.6088757\tbest: 0.6088757 (187)\ttotal: 19m 28s\tremaining: 28m 15s\n",
            "204:\tlearn: 0.5732141\ttest: 0.6088757\tbest: 0.6088757 (187)\ttotal: 19m 33s\tremaining: 28m 9s\n",
            "205:\tlearn: 0.5734266\ttest: 0.6090559\tbest: 0.6090559 (205)\ttotal: 19m 39s\tremaining: 28m 2s\n",
            "206:\tlearn: 0.5735604\ttest: 0.6092362\tbest: 0.6092362 (206)\ttotal: 19m 44s\tremaining: 27m 57s\n",
            "207:\tlearn: 0.5733932\ttest: 0.6090559\tbest: 0.6092362 (206)\ttotal: 19m 49s\tremaining: 27m 50s\n",
            "208:\tlearn: 0.5734938\ttest: 0.6090559\tbest: 0.6092362 (206)\ttotal: 19m 55s\tremaining: 27m 44s\n",
            "209:\tlearn: 0.5734156\ttest: 0.6090559\tbest: 0.6092362 (206)\ttotal: 20m 1s\tremaining: 27m 39s\n",
            "210:\tlearn: 0.5736168\ttest: 0.6082322\tbest: 0.6092362 (206)\ttotal: 20m 7s\tremaining: 27m 34s\n",
            "211:\tlearn: 0.5739626\ttest: 0.6069947\tbest: 0.6092362 (206)\ttotal: 20m 15s\tremaining: 27m 31s\n",
            "212:\tlearn: 0.5740741\ttest: 0.6074600\tbest: 0.6092362 (206)\ttotal: 20m 22s\tremaining: 27m 26s\n",
            "213:\tlearn: 0.5738403\ttest: 0.6074600\tbest: 0.6092362 (206)\ttotal: 20m 30s\tremaining: 27m 23s\n",
            "214:\tlearn: 0.5739525\ttest: 0.6072803\tbest: 0.6092362 (206)\ttotal: 20m 36s\tremaining: 27m 18s\n",
            "215:\tlearn: 0.5738858\ttest: 0.6078722\tbest: 0.6092362 (206)\ttotal: 20m 41s\tremaining: 27m 12s\n",
            "216:\tlearn: 0.5738199\ttest: 0.6082840\tbest: 0.6092362 (206)\ttotal: 20m 46s\tremaining: 27m 6s\n",
            "217:\tlearn: 0.5739430\ttest: 0.6082840\tbest: 0.6092362 (206)\ttotal: 20m 51s\tremaining: 26m 59s\n",
            "218:\tlearn: 0.5739647\ttest: 0.6082840\tbest: 0.6092362 (206)\ttotal: 20m 56s\tremaining: 26m 52s\n",
            "219:\tlearn: 0.5740321\ttest: 0.6078722\tbest: 0.6092362 (206)\ttotal: 21m 1s\tremaining: 26m 46s\n",
            "220:\tlearn: 0.5740096\ttest: 0.6082840\tbest: 0.6092362 (206)\ttotal: 21m 7s\tremaining: 26m 40s\n",
            "221:\tlearn: 0.5741327\ttest: 0.6086957\tbest: 0.6092362 (206)\ttotal: 21m 12s\tremaining: 26m 33s\n",
            "222:\tlearn: 0.5741544\ttest: 0.6082840\tbest: 0.6092362 (206)\ttotal: 21m 17s\tremaining: 26m 27s\n",
            "223:\tlearn: 0.5743441\ttest: 0.6082840\tbest: 0.6092362 (206)\ttotal: 21m 23s\tremaining: 26m 21s\n",
            "224:\tlearn: 0.5744223\ttest: 0.6082840\tbest: 0.6092362 (206)\ttotal: 21m 28s\tremaining: 26m 14s\n",
            "225:\tlearn: 0.5745446\ttest: 0.6078722\tbest: 0.6092362 (206)\ttotal: 21m 33s\tremaining: 26m 8s\n",
            "226:\tlearn: 0.5746794\ttest: 0.6094675\tbest: 0.6094675 (226)\ttotal: 21m 39s\tremaining: 26m 2s\n",
            "227:\tlearn: 0.5746129\ttest: 0.6090559\tbest: 0.6094675 (226)\ttotal: 21m 44s\tremaining: 25m 56s\n",
            "228:\tlearn: 0.5749140\ttest: 0.6084640\tbest: 0.6094675 (226)\ttotal: 21m 50s\tremaining: 25m 50s\n",
            "229:\tlearn: 0.5750147\ttest: 0.6090559\tbest: 0.6094675 (226)\ttotal: 21m 54s\tremaining: 25m 43s\n",
            "230:\tlearn: 0.5753821\ttest: 0.6094675\tbest: 0.6094675 (226)\ttotal: 22m 2s\tremaining: 25m 40s\n",
            "231:\tlearn: 0.5751700\ttest: 0.6094675\tbest: 0.6094675 (226)\ttotal: 22m 8s\tremaining: 25m 34s\n",
            "232:\tlearn: 0.5750791\ttest: 0.6094675\tbest: 0.6094675 (226)\ttotal: 22m 13s\tremaining: 25m 28s\n",
            "233:\tlearn: 0.5752686\ttest: 0.6098787\tbest: 0.6098787 (233)\ttotal: 22m 18s\tremaining: 25m 21s\n",
            "234:\tlearn: 0.5753692\ttest: 0.6096478\tbest: 0.6098787 (233)\ttotal: 22m 23s\tremaining: 25m 15s\n",
            "235:\tlearn: 0.5753350\ttest: 0.6098787\tbest: 0.6098787 (233)\ttotal: 22m 29s\tremaining: 25m 9s\n",
            "236:\tlearn: 0.5756357\ttest: 0.6102898\tbest: 0.6102898 (236)\ttotal: 22m 35s\tremaining: 25m 4s\n",
            "237:\tlearn: 0.5758238\ttest: 0.6094675\tbest: 0.6102898 (236)\ttotal: 22m 40s\tremaining: 24m 58s\n",
            "238:\tlearn: 0.5758676\ttest: 0.6101094\tbest: 0.6102898 (236)\ttotal: 22m 47s\tremaining: 24m 52s\n",
            "239:\tlearn: 0.5759988\ttest: 0.6095182\tbest: 0.6102898 (236)\ttotal: 22m 53s\tremaining: 24m 48s\n",
            "240:\tlearn: 0.5760768\ttest: 0.6097489\tbest: 0.6102898 (236)\ttotal: 23m 2s\tremaining: 24m 45s\n",
            "241:\tlearn: 0.5761099\ttest: 0.6097489\tbest: 0.6102898 (236)\ttotal: 23m 7s\tremaining: 24m 39s\n",
            "242:\tlearn: 0.5762990\ttest: 0.6101595\tbest: 0.6102898 (236)\ttotal: 23m 12s\tremaining: 24m 32s\n",
            "243:\tlearn: 0.5762765\ttest: 0.6101595\tbest: 0.6102898 (236)\ttotal: 23m 19s\tremaining: 24m 27s\n",
            "244:\tlearn: 0.5762540\ttest: 0.6105698\tbest: 0.6105698 (244)\ttotal: 23m 24s\tremaining: 24m 22s\n",
            "245:\tlearn: 0.5763545\ttest: 0.6105698\tbest: 0.6105698 (244)\ttotal: 23m 30s\tremaining: 24m 16s\n",
            "246:\tlearn: 0.5763875\ttest: 0.6105698\tbest: 0.6105698 (244)\ttotal: 23m 36s\tremaining: 24m 10s\n",
            "247:\tlearn: 0.5766876\ttest: 0.6101595\tbest: 0.6105698 (244)\ttotal: 23m 41s\tremaining: 24m 4s\n",
            "248:\tlearn: 0.5767656\ttest: 0.6095182\tbest: 0.6105698 (244)\ttotal: 23m 47s\tremaining: 23m 59s\n",
            "249:\tlearn: 0.5769561\ttest: 0.6103397\tbest: 0.6105698 (244)\ttotal: 23m 53s\tremaining: 23m 53s\n",
            "250:\tlearn: 0.5771451\ttest: 0.6101595\tbest: 0.6105698 (244)\ttotal: 24m\tremaining: 23m 49s\n",
            "251:\tlearn: 0.5772786\ttest: 0.6105698\tbest: 0.6105698 (244)\ttotal: 24m 5s\tremaining: 23m 42s\n",
            "252:\tlearn: 0.5772770\ttest: 0.6113898\tbest: 0.6113898 (252)\ttotal: 24m 10s\tremaining: 23m 36s\n",
            "253:\tlearn: 0.5772215\ttest: 0.6113898\tbest: 0.6113898 (252)\ttotal: 24m 18s\tremaining: 23m 32s\n",
            "254:\tlearn: 0.5775005\ttest: 0.6111603\tbest: 0.6113898 (252)\ttotal: 24m 24s\tremaining: 23m 27s\n",
            "255:\tlearn: 0.5776911\ttest: 0.6119799\tbest: 0.6119799 (255)\ttotal: 24m 30s\tremaining: 23m 21s\n",
            "256:\tlearn: 0.5778922\ttest: 0.6117508\tbest: 0.6119799 (255)\ttotal: 24m 37s\tremaining: 23m 17s\n",
            "257:\tlearn: 0.5782042\ttest: 0.6117508\tbest: 0.6119799 (255)\ttotal: 24m 42s\tremaining: 23m 10s\n",
            "258:\tlearn: 0.5779373\ttest: 0.6115702\tbest: 0.6119799 (255)\ttotal: 24m 48s\tremaining: 23m 5s\n",
            "259:\tlearn: 0.5781920\ttest: 0.6107501\tbest: 0.6119799 (255)\ttotal: 24m 53s\tremaining: 22m 58s\n",
            "260:\tlearn: 0.5780933\ttest: 0.6103896\tbest: 0.6119799 (255)\ttotal: 24m 59s\tremaining: 22m 53s\n",
            "261:\tlearn: 0.5781957\ttest: 0.6107996\tbest: 0.6119799 (255)\ttotal: 25m 4s\tremaining: 22m 46s\n",
            "262:\tlearn: 0.5783950\ttest: 0.6107996\tbest: 0.6119799 (255)\ttotal: 25m 12s\tremaining: 22m 42s\n",
            "263:\tlearn: 0.5784608\ttest: 0.6107996\tbest: 0.6119799 (255)\ttotal: 25m 17s\tremaining: 22m 36s\n",
            "264:\tlearn: 0.5785943\ttest: 0.6109799\tbest: 0.6119799 (255)\ttotal: 25m 24s\tremaining: 22m 31s\n",
            "265:\tlearn: 0.5786497\ttest: 0.6109799\tbest: 0.6119799 (255)\ttotal: 25m 29s\tremaining: 22m 25s\n",
            "266:\tlearn: 0.5787934\ttest: 0.6109799\tbest: 0.6119799 (255)\ttotal: 25m 35s\tremaining: 22m 20s\n",
            "267:\tlearn: 0.5788817\ttest: 0.6109799\tbest: 0.6119799 (255)\ttotal: 25m 40s\tremaining: 22m 13s\n",
            "268:\tlearn: 0.5786271\ttest: 0.6113408\tbest: 0.6119799 (255)\ttotal: 25m 45s\tremaining: 22m 6s\n",
            "269:\tlearn: 0.5784486\ttest: 0.6123413\tbest: 0.6123413 (269)\ttotal: 25m 53s\tremaining: 22m 2s\n",
            "270:\tlearn: 0.5786291\ttest: 0.6121123\tbest: 0.6123413 (269)\ttotal: 25m 59s\tremaining: 21m 57s\n",
            "271:\tlearn: 0.5787420\ttest: 0.6111111\tbest: 0.6123413 (269)\ttotal: 26m 4s\tremaining: 21m 51s\n",
            "272:\tlearn: 0.5788858\ttest: 0.6115214\tbest: 0.6123413 (269)\ttotal: 26m 10s\tremaining: 21m 45s\n",
            "273:\tlearn: 0.5789412\ttest: 0.6119315\tbest: 0.6123413 (269)\ttotal: 26m 14s\tremaining: 21m 38s\n",
            "274:\tlearn: 0.5791301\ttest: 0.6121123\tbest: 0.6123413 (269)\ttotal: 26m 19s\tremaining: 21m 31s\n",
            "275:\tlearn: 0.5790521\ttest: 0.6121123\tbest: 0.6123413 (269)\ttotal: 26m 26s\tremaining: 21m 27s\n",
            "276:\tlearn: 0.5790973\ttest: 0.6121123\tbest: 0.6123413 (269)\ttotal: 26m 31s\tremaining: 21m 21s\n",
            "277:\tlearn: 0.5789186\ttest: 0.6121123\tbest: 0.6123413 (269)\ttotal: 26m 37s\tremaining: 21m 15s\n",
            "278:\tlearn: 0.5789966\ttest: 0.6117021\tbest: 0.6123413 (269)\ttotal: 26m 43s\tremaining: 21m 10s\n",
            "279:\tlearn: 0.5791629\ttest: 0.6125222\tbest: 0.6125222 (279)\ttotal: 26m 49s\tremaining: 21m 4s\n",
            "280:\tlearn: 0.5791527\ttest: 0.6112918\tbest: 0.6125222 (279)\ttotal: 26m 55s\tremaining: 20m 58s\n",
            "281:\tlearn: 0.5794217\ttest: 0.6112918\tbest: 0.6125222 (279)\ttotal: 27m 2s\tremaining: 20m 54s\n",
            "282:\tlearn: 0.5795428\ttest: 0.6112918\tbest: 0.6125222 (279)\ttotal: 27m 7s\tremaining: 20m 48s\n",
            "283:\tlearn: 0.5798198\ttest: 0.6117021\tbest: 0.6125222 (279)\ttotal: 27m 13s\tremaining: 20m 42s\n",
            "284:\tlearn: 0.5795858\ttest: 0.6115214\tbest: 0.6125222 (279)\ttotal: 27m 18s\tremaining: 20m 35s\n",
            "285:\tlearn: 0.5796310\ttest: 0.6115214\tbest: 0.6125222 (279)\ttotal: 27m 25s\tremaining: 20m 31s\n",
            "286:\tlearn: 0.5794444\ttest: 0.6113408\tbest: 0.6125222 (279)\ttotal: 27m 32s\tremaining: 20m 26s\n",
            "287:\tlearn: 0.5796638\ttest: 0.6115214\tbest: 0.6125222 (279)\ttotal: 27m 38s\tremaining: 20m 20s\n",
            "288:\tlearn: 0.5796288\ttest: 0.6117508\tbest: 0.6125222 (279)\ttotal: 27m 44s\tremaining: 20m 15s\n",
            "289:\tlearn: 0.5797395\ttest: 0.6117508\tbest: 0.6125222 (279)\ttotal: 27m 49s\tremaining: 20m 8s\n",
            "290:\tlearn: 0.5799181\ttest: 0.6117508\tbest: 0.6125222 (279)\ttotal: 27m 53s\tremaining: 20m 2s\n",
            "291:\tlearn: 0.5798955\ttest: 0.6117508\tbest: 0.6125222 (279)\ttotal: 27m 58s\tremaining: 19m 55s\n",
            "292:\tlearn: 0.5797068\ttest: 0.6111111\tbest: 0.6125222 (279)\ttotal: 28m 5s\tremaining: 19m 50s\n",
            "293:\tlearn: 0.5798152\ttest: 0.6111111\tbest: 0.6125222 (279)\ttotal: 28m 12s\tremaining: 19m 45s\n",
            "294:\tlearn: 0.5801271\ttest: 0.6109306\tbest: 0.6125222 (279)\ttotal: 28m 18s\tremaining: 19m 40s\n",
            "295:\tlearn: 0.5803860\ttest: 0.6119315\tbest: 0.6125222 (279)\ttotal: 28m 24s\tremaining: 19m 34s\n",
            "296:\tlearn: 0.5800413\ttest: 0.6119315\tbest: 0.6125222 (279)\ttotal: 28m 31s\tremaining: 19m 29s\n",
            "297:\tlearn: 0.5802301\ttest: 0.6121606\tbest: 0.6125222 (279)\ttotal: 28m 37s\tremaining: 19m 23s\n",
            "298:\tlearn: 0.5802074\ttest: 0.6127986\tbest: 0.6127986 (298)\ttotal: 28m 43s\tremaining: 19m 18s\n",
            "299:\tlearn: 0.5802277\ttest: 0.6122088\tbest: 0.6127986 (298)\ttotal: 28m 49s\tremaining: 19m 12s\n",
            "300:\tlearn: 0.5802277\ttest: 0.6122088\tbest: 0.6127986 (298)\ttotal: 28m 54s\tremaining: 19m 6s\n",
            "301:\tlearn: 0.5802854\ttest: 0.6121606\tbest: 0.6127986 (298)\ttotal: 29m\tremaining: 19m 1s\n",
            "302:\tlearn: 0.5802277\ttest: 0.6125701\tbest: 0.6127986 (298)\ttotal: 29m 6s\tremaining: 18m 55s\n",
            "303:\tlearn: 0.5802301\ttest: 0.6121606\tbest: 0.6127986 (298)\ttotal: 29m 11s\tremaining: 18m 49s\n",
            "304:\tlearn: 0.5804288\ttest: 0.6125701\tbest: 0.6127986 (298)\ttotal: 29m 16s\tremaining: 18m 43s\n",
            "305:\tlearn: 0.5804087\ttest: 0.6125701\tbest: 0.6127986 (298)\ttotal: 29m 22s\tremaining: 18m 37s\n",
            "306:\tlearn: 0.5805093\ttest: 0.6121606\tbest: 0.6127986 (298)\ttotal: 29m 28s\tremaining: 18m 31s\n",
            "307:\tlearn: 0.5806200\ttest: 0.6125701\tbest: 0.6127986 (298)\ttotal: 29m 33s\tremaining: 18m 25s\n",
            "308:\tlearn: 0.5808993\ttest: 0.6125701\tbest: 0.6127986 (298)\ttotal: 29m 39s\tremaining: 18m 19s\n",
            "309:\tlearn: 0.5809999\ttest: 0.6125701\tbest: 0.6127986 (298)\ttotal: 29m 44s\tremaining: 18m 13s\n",
            "310:\tlearn: 0.5809999\ttest: 0.6127031\tbest: 0.6127986 (298)\ttotal: 29m 50s\tremaining: 18m 8s\n",
            "311:\tlearn: 0.5807785\ttest: 0.6127031\tbest: 0.6127986 (298)\ttotal: 29m 56s\tremaining: 18m 2s\n",
            "312:\tlearn: 0.5808766\ttest: 0.6132939\tbest: 0.6132939 (312)\ttotal: 30m 3s\tremaining: 17m 57s\n",
            "313:\tlearn: 0.5811006\ttest: 0.6129318\tbest: 0.6132939 (312)\ttotal: 30m 8s\tremaining: 17m 51s\n",
            "314:\tlearn: 0.5809999\ttest: 0.6129318\tbest: 0.6132939 (312)\ttotal: 30m 15s\tremaining: 17m 46s\n",
            "315:\tlearn: 0.5809773\ttest: 0.6129318\tbest: 0.6132939 (312)\ttotal: 30m 19s\tremaining: 17m 39s\n",
            "316:\tlearn: 0.5810479\ttest: 0.6133412\tbest: 0.6133412 (316)\ttotal: 30m 24s\tremaining: 17m 33s\n",
            "317:\tlearn: 0.5810806\ttest: 0.6127509\tbest: 0.6133412 (316)\ttotal: 30m 30s\tremaining: 17m 27s\n",
            "318:\tlearn: 0.5811686\ttest: 0.6127509\tbest: 0.6133412 (316)\ttotal: 30m 36s\tremaining: 17m 21s\n",
            "319:\tlearn: 0.5813473\ttest: 0.6127509\tbest: 0.6133412 (316)\ttotal: 30m 41s\tremaining: 17m 15s\n",
            "320:\tlearn: 0.5812719\ttest: 0.6131602\tbest: 0.6133412 (316)\ttotal: 30m 47s\tremaining: 17m 10s\n",
            "321:\tlearn: 0.5813699\ttest: 0.6125701\tbest: 0.6133412 (316)\ttotal: 30m 54s\tremaining: 17m 5s\n",
            "322:\tlearn: 0.5816239\ttest: 0.6123894\tbest: 0.6133412 (316)\ttotal: 30m 58s\tremaining: 16m 58s\n",
            "323:\tlearn: 0.5817317\ttest: 0.6125701\tbest: 0.6133412 (316)\ttotal: 31m 4s\tremaining: 16m 52s\n",
            "324:\tlearn: 0.5817643\ttest: 0.6125701\tbest: 0.6133412 (316)\ttotal: 31m 10s\tremaining: 16m 47s\n",
            "325:\tlearn: 0.5817190\ttest: 0.6127986\tbest: 0.6133412 (316)\ttotal: 31m 14s\tremaining: 16m 40s\n",
            "326:\tlearn: 0.5818650\ttest: 0.6131602\tbest: 0.6133412 (316)\ttotal: 31m 19s\tremaining: 16m 34s\n",
            "327:\tlearn: 0.5823130\ttest: 0.6131602\tbest: 0.6133412 (316)\ttotal: 31m 24s\tremaining: 16m 28s\n",
            "328:\tlearn: 0.5822222\ttest: 0.6131602\tbest: 0.6133412 (316)\ttotal: 31m 29s\tremaining: 16m 22s\n",
            "329:\tlearn: 0.5822222\ttest: 0.6139782\tbest: 0.6139782 (329)\ttotal: 31m 36s\tremaining: 16m 16s\n",
            "330:\tlearn: 0.5821896\ttest: 0.6141593\tbest: 0.6141593 (330)\ttotal: 31m 42s\tremaining: 16m 11s\n",
            "331:\tlearn: 0.5822449\ttest: 0.6141593\tbest: 0.6141593 (330)\ttotal: 31m 47s\tremaining: 16m 5s\n",
            "332:\tlearn: 0.5822647\ttest: 0.6131602\tbest: 0.6141593 (330)\ttotal: 31m 53s\tremaining: 15m 59s\n",
            "333:\tlearn: 0.5822420\ttest: 0.6131602\tbest: 0.6141593 (330)\ttotal: 31m 58s\tremaining: 15m 53s\n",
            "334:\tlearn: 0.5822292\ttest: 0.6135693\tbest: 0.6141593 (330)\ttotal: 32m 3s\tremaining: 15m 47s\n",
            "335:\tlearn: 0.5825054\ttest: 0.6133884\tbest: 0.6141593 (330)\ttotal: 32m 9s\tremaining: 15m 42s\n",
            "336:\tlearn: 0.5826710\ttest: 0.6135693\tbest: 0.6141593 (330)\ttotal: 32m 16s\tremaining: 15m 36s\n",
            "337:\tlearn: 0.5826483\ttest: 0.6133884\tbest: 0.6141593 (330)\ttotal: 32m 21s\tremaining: 15m 30s\n",
            "338:\tlearn: 0.5824403\ttest: 0.6136163\tbest: 0.6141593 (330)\ttotal: 32m 26s\tremaining: 15m 24s\n",
            "339:\tlearn: 0.5824403\ttest: 0.6136163\tbest: 0.6141593 (330)\ttotal: 32m 31s\tremaining: 15m 18s\n",
            "340:\tlearn: 0.5825440\ttest: 0.6139782\tbest: 0.6141593 (330)\ttotal: 32m 38s\tremaining: 15m 13s\n",
            "341:\tlearn: 0.5826545\ttest: 0.6139782\tbest: 0.6141593 (330)\ttotal: 32m 43s\tremaining: 15m 7s\n",
            "342:\tlearn: 0.5824887\ttest: 0.6139782\tbest: 0.6141593 (330)\ttotal: 32m 48s\tremaining: 15m\n",
            "343:\tlearn: 0.5824660\ttest: 0.6139782\tbest: 0.6141593 (330)\ttotal: 32m 53s\tremaining: 14m 54s\n",
            "344:\tlearn: 0.5826121\ttest: 0.6153846\tbest: 0.6153846 (344)\ttotal: 32m 59s\tremaining: 14m 49s\n",
            "345:\tlearn: 0.5826704\ttest: 0.6147952\tbest: 0.6153846 (344)\ttotal: 33m 4s\tremaining: 14m 43s\n",
            "346:\tlearn: 0.5826931\ttest: 0.6147952\tbest: 0.6153846 (344)\ttotal: 33m 9s\tremaining: 14m 37s\n",
            "347:\tlearn: 0.5829596\ttest: 0.6149764\tbest: 0.6153846 (344)\ttotal: 33m 15s\tremaining: 14m 31s\n",
            "348:\tlearn: 0.5829044\ttest: 0.6149764\tbest: 0.6153846 (344)\ttotal: 33m 21s\tremaining: 14m 25s\n",
            "349:\tlearn: 0.5828817\ttest: 0.6149764\tbest: 0.6153846 (344)\ttotal: 33m 26s\tremaining: 14m 19s\n",
            "350:\tlearn: 0.5827939\ttest: 0.6146140\tbest: 0.6153846 (344)\ttotal: 33m 31s\tremaining: 14m 14s\n",
            "351:\tlearn: 0.5829271\ttest: 0.6146140\tbest: 0.6153846 (344)\ttotal: 33m 36s\tremaining: 14m 7s\n",
            "352:\tlearn: 0.5830181\ttest: 0.6150221\tbest: 0.6153846 (344)\ttotal: 33m 42s\tremaining: 14m 2s\n",
            "353:\tlearn: 0.5830181\ttest: 0.6150221\tbest: 0.6153846 (344)\ttotal: 33m 46s\tremaining: 13m 55s\n",
            "354:\tlearn: 0.5829401\ttest: 0.6148410\tbest: 0.6153846 (344)\ttotal: 33m 52s\tremaining: 13m 50s\n",
            "355:\tlearn: 0.5830863\ttest: 0.6148410\tbest: 0.6153846 (344)\ttotal: 33m 57s\tremaining: 13m 44s\n",
            "356:\tlearn: 0.5831416\ttest: 0.6150221\tbest: 0.6153846 (344)\ttotal: 34m 2s\tremaining: 13m 38s\n",
            "357:\tlearn: 0.5830863\ttest: 0.6146140\tbest: 0.6153846 (344)\ttotal: 34m 8s\tremaining: 13m 32s\n",
            "358:\tlearn: 0.5832521\ttest: 0.6150221\tbest: 0.6153846 (344)\ttotal: 34m 12s\tremaining: 13m 26s\n",
            "359:\tlearn: 0.5832293\ttest: 0.6150221\tbest: 0.6153846 (344)\ttotal: 34m 20s\tremaining: 13m 21s\n",
            "360:\tlearn: 0.5832196\ttest: 0.6150221\tbest: 0.6153846 (344)\ttotal: 34m 25s\tremaining: 13m 15s\n",
            "361:\tlearn: 0.5831741\ttest: 0.6150221\tbest: 0.6153846 (344)\ttotal: 34m 31s\tremaining: 13m 9s\n",
            "362:\tlearn: 0.5833398\ttest: 0.6147952\tbest: 0.6153846 (344)\ttotal: 34m 37s\tremaining: 13m 4s\n",
            "363:\tlearn: 0.5833203\ttest: 0.6145680\tbest: 0.6153846 (344)\ttotal: 34m 44s\tremaining: 12m 58s\n",
            "364:\tlearn: 0.5834276\ttest: 0.6149764\tbest: 0.6153846 (344)\ttotal: 34m 50s\tremaining: 12m 53s\n",
            "365:\tlearn: 0.5835023\ttest: 0.6149764\tbest: 0.6153846 (344)\ttotal: 34m 56s\tremaining: 12m 47s\n",
            "366:\tlearn: 0.5837589\ttest: 0.6147952\tbest: 0.6153846 (344)\ttotal: 35m 1s\tremaining: 12m 41s\n",
            "367:\tlearn: 0.5838011\ttest: 0.6147952\tbest: 0.6153846 (344)\ttotal: 35m 6s\tremaining: 12m 35s\n",
            "368:\tlearn: 0.5842460\ttest: 0.6160188\tbest: 0.6160188 (368)\ttotal: 35m 13s\tremaining: 12m 30s\n",
            "369:\tlearn: 0.5843204\ttest: 0.6152487\tbest: 0.6160188 (368)\ttotal: 35m 18s\tremaining: 12m 24s\n",
            "370:\tlearn: 0.5844439\ttest: 0.6144791\tbest: 0.6160188 (368)\ttotal: 35m 25s\tremaining: 12m 19s\n",
            "371:\tlearn: 0.5846418\ttest: 0.6144791\tbest: 0.6160188 (368)\ttotal: 35m 32s\tremaining: 12m 13s\n",
            "372:\tlearn: 0.5845962\ttest: 0.6148867\tbest: 0.6160188 (368)\ttotal: 35m 37s\tremaining: 12m 7s\n",
            "373:\tlearn: 0.5845638\ttest: 0.6148867\tbest: 0.6160188 (368)\ttotal: 35m 42s\tremaining: 12m 1s\n",
            "374:\tlearn: 0.5846609\ttest: 0.6148867\tbest: 0.6160188 (368)\ttotal: 35m 46s\tremaining: 11m 55s\n",
            "375:\tlearn: 0.5846190\ttest: 0.6148867\tbest: 0.6160188 (368)\ttotal: 35m 55s\tremaining: 11m 50s\n",
            "376:\tlearn: 0.5848072\ttest: 0.6148867\tbest: 0.6160188 (368)\ttotal: 36m 3s\tremaining: 11m 45s\n",
            "377:\tlearn: 0.5850960\ttest: 0.6142983\tbest: 0.6160188 (368)\ttotal: 36m 9s\tremaining: 11m 40s\n",
            "378:\tlearn: 0.5850960\ttest: 0.6142983\tbest: 0.6160188 (368)\ttotal: 36m 17s\tremaining: 11m 35s\n",
            "379:\tlearn: 0.5851056\ttest: 0.6144791\tbest: 0.6160188 (368)\ttotal: 36m 21s\tremaining: 11m 29s\n",
            "380:\tlearn: 0.5848527\ttest: 0.6146600\tbest: 0.6160188 (368)\ttotal: 36m 26s\tremaining: 11m 22s\n",
            "381:\tlearn: 0.5847616\ttest: 0.6148867\tbest: 0.6160188 (368)\ttotal: 36m 32s\tremaining: 11m 17s\n",
            "382:\tlearn: 0.5850732\ttest: 0.6144791\tbest: 0.6160188 (368)\ttotal: 36m 39s\tremaining: 11m 11s\n",
            "383:\tlearn: 0.5851511\ttest: 0.6144791\tbest: 0.6160188 (368)\ttotal: 36m 45s\tremaining: 11m 6s\n",
            "384:\tlearn: 0.5851511\ttest: 0.6144791\tbest: 0.6160188 (368)\ttotal: 36m 50s\tremaining: 11m\n",
            "385:\tlearn: 0.5853260\ttest: 0.6145251\tbest: 0.6160188 (368)\ttotal: 36m 57s\tremaining: 10m 55s\n",
            "386:\tlearn: 0.5853678\ttest: 0.6145251\tbest: 0.6160188 (368)\ttotal: 37m 3s\tremaining: 10m 49s\n",
            "387:\tlearn: 0.5854323\ttest: 0.6142983\tbest: 0.6160188 (368)\ttotal: 37m 10s\tremaining: 10m 43s\n",
            "388:\tlearn: 0.5854874\ttest: 0.6142983\tbest: 0.6160188 (368)\ttotal: 37m 15s\tremaining: 10m 37s\n",
            "389:\tlearn: 0.5854874\ttest: 0.6142983\tbest: 0.6160188 (368)\ttotal: 37m 23s\tremaining: 10m 32s\n",
            "390:\tlearn: 0.5855330\ttest: 0.6136631\tbest: 0.6160188 (368)\ttotal: 37m 28s\tremaining: 10m 26s\n",
            "391:\tlearn: 0.5853222\ttest: 0.6134825\tbest: 0.6160188 (368)\ttotal: 37m 34s\tremaining: 10m 21s\n",
            "392:\tlearn: 0.5855709\ttest: 0.6134825\tbest: 0.6160188 (368)\ttotal: 37m 40s\tremaining: 10m 15s\n",
            "393:\tlearn: 0.5855898\ttest: 0.6138905\tbest: 0.6160188 (368)\ttotal: 37m 46s\tremaining: 10m 9s\n",
            "394:\tlearn: 0.5855253\ttest: 0.6134825\tbest: 0.6160188 (368)\ttotal: 37m 51s\tremaining: 10m 3s\n",
            "395:\tlearn: 0.5856676\ttest: 0.6134825\tbest: 0.6160188 (368)\ttotal: 37m 58s\tremaining: 9m 58s\n",
            "396:\tlearn: 0.5856220\ttest: 0.6136631\tbest: 0.6160188 (368)\ttotal: 38m 5s\tremaining: 9m 52s\n",
            "397:\tlearn: 0.5855898\ttest: 0.6136631\tbest: 0.6160188 (368)\ttotal: 38m 9s\tremaining: 9m 46s\n",
            "398:\tlearn: 0.5857037\ttest: 0.6138439\tbest: 0.6160188 (368)\ttotal: 38m 15s\tremaining: 9m 41s\n",
            "399:\tlearn: 0.5856126\ttest: 0.6138439\tbest: 0.6160188 (368)\ttotal: 38m 21s\tremaining: 9m 35s\n",
            "400:\tlearn: 0.5857949\ttest: 0.6138439\tbest: 0.6160188 (368)\ttotal: 38m 26s\tremaining: 9m 29s\n",
            "401:\tlearn: 0.5860834\ttest: 0.6136631\tbest: 0.6160188 (368)\ttotal: 38m 32s\tremaining: 9m 23s\n",
            "402:\tlearn: 0.5859734\ttest: 0.6136631\tbest: 0.6160188 (368)\ttotal: 38m 37s\tremaining: 9m 17s\n",
            "403:\tlearn: 0.5858727\ttest: 0.6140712\tbest: 0.6160188 (368)\ttotal: 38m 42s\tremaining: 9m 11s\n",
            "404:\tlearn: 0.5859050\ttest: 0.6148867\tbest: 0.6160188 (368)\ttotal: 38m 47s\tremaining: 9m 5s\n",
            "405:\tlearn: 0.5860150\ttest: 0.6142983\tbest: 0.6160188 (368)\ttotal: 38m 53s\tremaining: 9m\n",
            "406:\tlearn: 0.5861157\ttest: 0.6142983\tbest: 0.6160188 (368)\ttotal: 38m 58s\tremaining: 8m 54s\n",
            "407:\tlearn: 0.5862163\ttest: 0.6142983\tbest: 0.6160188 (368)\ttotal: 39m 2s\tremaining: 8m 48s\n",
            "408:\tlearn: 0.5860646\ttest: 0.6142983\tbest: 0.6160188 (368)\ttotal: 39m 9s\tremaining: 8m 42s\n",
            "409:\tlearn: 0.5863398\ttest: 0.6142983\tbest: 0.6160188 (368)\ttotal: 39m 14s\tremaining: 8m 36s\n",
            "410:\tlearn: 0.5867061\ttest: 0.6147059\tbest: 0.6160188 (368)\ttotal: 39m 20s\tremaining: 8m 31s\n",
            "411:\tlearn: 0.5867756\ttest: 0.6148867\tbest: 0.6160188 (368)\ttotal: 39m 26s\tremaining: 8m 25s\n",
            "412:\tlearn: 0.5867807\ttest: 0.6147059\tbest: 0.6160188 (368)\ttotal: 39m 31s\tremaining: 8m 19s\n",
            "413:\tlearn: 0.5871745\ttest: 0.6148867\tbest: 0.6160188 (368)\ttotal: 39m 39s\tremaining: 8m 14s\n",
            "414:\tlearn: 0.5873435\ttest: 0.6142983\tbest: 0.6160188 (368)\ttotal: 39m 44s\tremaining: 8m 8s\n",
            "415:\tlearn: 0.5873985\ttest: 0.6141176\tbest: 0.6160188 (368)\ttotal: 39m 49s\tremaining: 8m 2s\n",
            "416:\tlearn: 0.5874534\ttest: 0.6139371\tbest: 0.6160188 (368)\ttotal: 39m 56s\tremaining: 7m 56s\n",
            "417:\tlearn: 0.5873620\ttest: 0.6139371\tbest: 0.6160188 (368)\ttotal: 40m 3s\tremaining: 7m 51s\n",
            "418:\tlearn: 0.5872201\ttest: 0.6139371\tbest: 0.6160188 (368)\ttotal: 40m 12s\tremaining: 7m 46s\n",
            "419:\tlearn: 0.5872201\ttest: 0.6139371\tbest: 0.6160188 (368)\ttotal: 40m 17s\tremaining: 7m 40s\n",
            "420:\tlearn: 0.5871053\ttest: 0.6135763\tbest: 0.6160188 (368)\ttotal: 40m 25s\tremaining: 7m 35s\n",
            "421:\tlearn: 0.5872287\ttest: 0.6137566\tbest: 0.6160188 (368)\ttotal: 40m 29s\tremaining: 7m 29s\n",
            "422:\tlearn: 0.5874164\ttest: 0.6139371\tbest: 0.6160188 (368)\ttotal: 40m 35s\tremaining: 7m 23s\n",
            "423:\tlearn: 0.5875034\ttest: 0.6139371\tbest: 0.6160188 (368)\ttotal: 40m 39s\tremaining: 7m 17s\n",
            "424:\tlearn: 0.5876453\ttest: 0.6139371\tbest: 0.6160188 (368)\ttotal: 40m 46s\tremaining: 7m 11s\n",
            "425:\tlearn: 0.5877002\ttest: 0.6139371\tbest: 0.6160188 (368)\ttotal: 40m 55s\tremaining: 7m 6s\n",
            "426:\tlearn: 0.5877643\ttest: 0.6141640\tbest: 0.6160188 (368)\ttotal: 41m 1s\tremaining: 7m\n",
            "427:\tlearn: 0.5878420\ttest: 0.6141640\tbest: 0.6160188 (368)\ttotal: 41m 7s\tremaining: 6m 55s\n",
            "428:\tlearn: 0.5877507\ttest: 0.6141640\tbest: 0.6160188 (368)\ttotal: 41m 12s\tremaining: 6m 49s\n",
            "429:\tlearn: 0.5878741\ttest: 0.6141640\tbest: 0.6160188 (368)\ttotal: 41m 18s\tremaining: 6m 43s\n",
            "430:\tlearn: 0.5878192\ttest: 0.6141640\tbest: 0.6160188 (368)\ttotal: 41m 24s\tremaining: 6m 37s\n",
            "431:\tlearn: 0.5878512\ttest: 0.6139371\tbest: 0.6160188 (368)\ttotal: 41m 30s\tremaining: 6m 32s\n",
            "432:\tlearn: 0.5878696\ttest: 0.6141176\tbest: 0.6160188 (368)\ttotal: 41m 35s\tremaining: 6m 26s\n",
            "433:\tlearn: 0.5880662\ttest: 0.6139371\tbest: 0.6160188 (368)\ttotal: 41m 40s\tremaining: 6m 20s\n",
            "434:\tlearn: 0.5880754\ttest: 0.6139371\tbest: 0.6160188 (368)\ttotal: 41m 46s\tremaining: 6m 14s\n",
            "435:\tlearn: 0.5880434\ttest: 0.6137566\tbest: 0.6160188 (368)\ttotal: 41m 51s\tremaining: 6m 8s\n",
            "436:\tlearn: 0.5881987\ttest: 0.6137566\tbest: 0.6160188 (368)\ttotal: 41m 58s\tremaining: 6m 3s\n",
            "437:\tlearn: 0.5880616\ttest: 0.6137566\tbest: 0.6160188 (368)\ttotal: 42m 4s\tremaining: 5m 57s\n",
            "438:\tlearn: 0.5881301\ttest: 0.6137566\tbest: 0.6160188 (368)\ttotal: 42m 9s\tremaining: 5m 51s\n",
            "439:\tlearn: 0.5882719\ttest: 0.6139371\tbest: 0.6160188 (368)\ttotal: 42m 15s\tremaining: 5m 45s\n",
            "440:\tlearn: 0.5882719\ttest: 0.6143445\tbest: 0.6160188 (368)\ttotal: 42m 21s\tremaining: 5m 40s\n",
            "441:\tlearn: 0.5884044\ttest: 0.6145251\tbest: 0.6160188 (368)\ttotal: 42m 26s\tremaining: 5m 34s\n",
            "442:\tlearn: 0.5883816\ttest: 0.6145251\tbest: 0.6160188 (368)\ttotal: 42m 32s\tremaining: 5m 28s\n",
            "443:\tlearn: 0.5885004\ttest: 0.6151132\tbest: 0.6160188 (368)\ttotal: 42m 37s\tremaining: 5m 22s\n",
            "444:\tlearn: 0.5885095\ttest: 0.6147059\tbest: 0.6160188 (368)\ttotal: 42m 42s\tremaining: 5m 16s\n",
            "445:\tlearn: 0.5886329\ttest: 0.6151132\tbest: 0.6160188 (368)\ttotal: 42m 47s\tremaining: 5m 10s\n",
            "446:\tlearn: 0.5887974\ttest: 0.6147517\tbest: 0.6160188 (368)\ttotal: 42m 53s\tremaining: 5m 5s\n",
            "447:\tlearn: 0.5888431\ttest: 0.6139371\tbest: 0.6160188 (368)\ttotal: 42m 59s\tremaining: 4m 59s\n",
            "448:\tlearn: 0.5888112\ttest: 0.6137566\tbest: 0.6160188 (368)\ttotal: 43m 4s\tremaining: 4m 53s\n",
            "449:\tlearn: 0.5888431\ttest: 0.6137566\tbest: 0.6160188 (368)\ttotal: 43m 9s\tremaining: 4m 47s\n",
            "450:\tlearn: 0.5890624\ttest: 0.6137566\tbest: 0.6160188 (368)\ttotal: 43m 15s\tremaining: 4m 41s\n",
            "451:\tlearn: 0.5890533\ttest: 0.6143445\tbest: 0.6160188 (368)\ttotal: 43m 21s\tremaining: 4m 36s\n",
            "452:\tlearn: 0.5890395\ttest: 0.6143445\tbest: 0.6160188 (368)\ttotal: 43m 27s\tremaining: 4m 30s\n",
            "453:\tlearn: 0.5891810\ttest: 0.6145251\tbest: 0.6160188 (368)\ttotal: 43m 33s\tremaining: 4m 24s\n",
            "454:\tlearn: 0.5892177\ttest: 0.6145251\tbest: 0.6160188 (368)\ttotal: 43m 38s\tremaining: 4m 18s\n",
            "455:\tlearn: 0.5893183\ttest: 0.6141176\tbest: 0.6160188 (368)\ttotal: 43m 43s\tremaining: 4m 13s\n",
            "456:\tlearn: 0.5893821\ttest: 0.6137566\tbest: 0.6160188 (368)\ttotal: 43m 49s\tremaining: 4m 7s\n",
            "457:\tlearn: 0.5892587\ttest: 0.6139371\tbest: 0.6160188 (368)\ttotal: 43m 54s\tremaining: 4m 1s\n",
            "458:\tlearn: 0.5895236\ttest: 0.6141640\tbest: 0.6160188 (368)\ttotal: 44m 1s\tremaining: 3m 55s\n",
            "459:\tlearn: 0.5895604\ttest: 0.6143445\tbest: 0.6160188 (368)\ttotal: 44m 8s\tremaining: 3m 50s\n",
            "460:\tlearn: 0.5893960\ttest: 0.6139835\tbest: 0.6160188 (368)\ttotal: 44m 13s\tremaining: 3m 44s\n",
            "461:\tlearn: 0.5895604\ttest: 0.6141640\tbest: 0.6160188 (368)\ttotal: 44m 20s\tremaining: 3m 38s\n",
            "462:\tlearn: 0.5893183\ttest: 0.6143445\tbest: 0.6160188 (368)\ttotal: 44m 26s\tremaining: 3m 33s\n",
            "463:\tlearn: 0.5895236\ttest: 0.6137566\tbest: 0.6160188 (368)\ttotal: 44m 31s\tremaining: 3m 27s\n",
            "464:\tlearn: 0.5895325\ttest: 0.6137566\tbest: 0.6160188 (368)\ttotal: 44m 35s\tremaining: 3m 21s\n",
            "465:\tlearn: 0.5894778\ttest: 0.6137566\tbest: 0.6160188 (368)\ttotal: 44m 40s\tremaining: 3m 15s\n",
            "466:\tlearn: 0.5893911\ttest: 0.6137566\tbest: 0.6160188 (368)\ttotal: 44m 45s\tremaining: 3m 9s\n",
            "467:\tlearn: 0.5893911\ttest: 0.6137566\tbest: 0.6160188 (368)\ttotal: 44m 50s\tremaining: 3m 3s\n",
            "468:\tlearn: 0.5895146\ttest: 0.6137566\tbest: 0.6160188 (368)\ttotal: 44m 55s\tremaining: 2m 58s\n",
            "469:\tlearn: 0.5893731\ttest: 0.6137566\tbest: 0.6160188 (368)\ttotal: 45m\tremaining: 2m 52s\n",
            "470:\tlearn: 0.5896878\ttest: 0.6143445\tbest: 0.6160188 (368)\ttotal: 45m 6s\tremaining: 2m 46s\n",
            "471:\tlearn: 0.5896241\ttest: 0.6143445\tbest: 0.6160188 (368)\ttotal: 45m 12s\tremaining: 2m 40s\n",
            "472:\tlearn: 0.5897884\ttest: 0.6143445\tbest: 0.6160188 (368)\ttotal: 45m 19s\tremaining: 2m 35s\n",
            "473:\tlearn: 0.5897247\ttest: 0.6143445\tbest: 0.6160188 (368)\ttotal: 45m 25s\tremaining: 2m 29s\n",
            "474:\tlearn: 0.5898252\ttest: 0.6143445\tbest: 0.6160188 (368)\ttotal: 45m 29s\tremaining: 2m 23s\n",
            "475:\tlearn: 0.5899029\ttest: 0.6139371\tbest: 0.6160188 (368)\ttotal: 45m 36s\tremaining: 2m 17s\n",
            "476:\tlearn: 0.5899806\ttest: 0.6143445\tbest: 0.6160188 (368)\ttotal: 45m 40s\tremaining: 2m 12s\n",
            "477:\tlearn: 0.5899487\ttest: 0.6139371\tbest: 0.6160188 (368)\ttotal: 45m 44s\tremaining: 2m 6s\n",
            "478:\tlearn: 0.5899716\ttest: 0.6133490\tbest: 0.6160188 (368)\ttotal: 45m 50s\tremaining: 2m\n",
            "479:\tlearn: 0.5900353\ttest: 0.6135763\tbest: 0.6160188 (368)\ttotal: 45m 57s\tremaining: 1m 54s\n",
            "480:\tlearn: 0.5901359\ttest: 0.6135763\tbest: 0.6160188 (368)\ttotal: 46m 2s\tremaining: 1m 49s\n",
            "481:\tlearn: 0.5901130\ttest: 0.6135763\tbest: 0.6160188 (368)\ttotal: 46m 6s\tremaining: 1m 43s\n",
            "482:\tlearn: 0.5900901\ttest: 0.6131687\tbest: 0.6160188 (368)\ttotal: 46m 12s\tremaining: 1m 37s\n",
            "483:\tlearn: 0.5901538\ttest: 0.6135763\tbest: 0.6160188 (368)\ttotal: 46m 16s\tremaining: 1m 31s\n",
            "484:\tlearn: 0.5903409\ttest: 0.6137566\tbest: 0.6160188 (368)\ttotal: 46m 22s\tremaining: 1m 26s\n",
            "485:\tlearn: 0.5903179\ttest: 0.6137566\tbest: 0.6160188 (368)\ttotal: 46m 27s\tremaining: 1m 20s\n",
            "486:\tlearn: 0.5903816\ttest: 0.6137566\tbest: 0.6160188 (368)\ttotal: 46m 32s\tremaining: 1m 14s\n",
            "487:\tlearn: 0.5905050\ttest: 0.6137566\tbest: 0.6160188 (368)\ttotal: 46m 35s\tremaining: 1m 8s\n",
            "488:\tlearn: 0.5906832\ttest: 0.6139371\tbest: 0.6160188 (368)\ttotal: 46m 42s\tremaining: 1m 3s\n",
            "489:\tlearn: 0.5908703\ttest: 0.6139371\tbest: 0.6160188 (368)\ttotal: 46m 47s\tremaining: 57.3s\n",
            "490:\tlearn: 0.5907150\ttest: 0.6131215\tbest: 0.6160188 (368)\ttotal: 46m 53s\tremaining: 51.6s\n",
            "491:\tlearn: 0.5907062\ttest: 0.6131215\tbest: 0.6160188 (368)\ttotal: 46m 58s\tremaining: 45.8s\n",
            "492:\tlearn: 0.5907785\ttest: 0.6131215\tbest: 0.6160188 (368)\ttotal: 47m 4s\tremaining: 40.1s\n",
            "493:\tlearn: 0.5907926\ttest: 0.6139371\tbest: 0.6160188 (368)\ttotal: 47m 10s\tremaining: 34.4s\n",
            "494:\tlearn: 0.5907838\ttest: 0.6139371\tbest: 0.6160188 (368)\ttotal: 47m 16s\tremaining: 28.7s\n",
            "495:\tlearn: 0.5909161\ttest: 0.6139371\tbest: 0.6160188 (368)\ttotal: 47m 22s\tremaining: 22.9s\n",
            "496:\tlearn: 0.5907062\ttest: 0.6139371\tbest: 0.6160188 (368)\ttotal: 47m 30s\tremaining: 17.2s\n",
            "497:\tlearn: 0.5906973\ttest: 0.6139371\tbest: 0.6160188 (368)\ttotal: 47m 35s\tremaining: 11.5s\n",
            "498:\tlearn: 0.5906514\ttest: 0.6139371\tbest: 0.6160188 (368)\ttotal: 47m 40s\tremaining: 5.73s\n",
            "499:\tlearn: 0.5908385\ttest: 0.6139371\tbest: 0.6160188 (368)\ttotal: 47m 47s\tremaining: 0us\n",
            "\n",
            "bestTest = 0.6160188457\n",
            "bestIteration = 368\n",
            "\n",
            "Shrink model to first 369 iterations.\n"
          ],
          "name": "stdout"
        },
        {
          "output_type": "execute_result",
          "data": {
            "text/plain": [
              "<catboost.core.CatBoostClassifier at 0x7f2d345f7da0>"
            ]
          },
          "metadata": {
            "tags": []
          },
          "execution_count": 41
        }
      ]
    },
    {
      "cell_type": "markdown",
      "metadata": {
        "id": "BtZ3P_kHeHDg",
        "colab_type": "text"
      },
      "source": [
        "# val_2's F1 report"
      ]
    },
    {
      "cell_type": "code",
      "metadata": {
        "id": "LG5b17w3YNPw",
        "colab_type": "code",
        "colab": {
          "base_uri": "https://localhost:8080/",
          "height": 170
        },
        "outputId": "05efbe13-595d-41c8-891c-12991b1044af"
      },
      "source": [
        "from sklearn.metrics import classification_report \n",
        "\n",
        "val_2_pred_01 = pd.Series(model.predict(val_2[features])).apply(round)\n",
        "\n",
        "print(classification_report(val_2[y_name],val_2_pred_01,target_names=['0','1']))"
      ],
      "execution_count": 42,
      "outputs": [
        {
          "output_type": "stream",
          "text": [
            "              precision    recall  f1-score   support\n",
            "\n",
            "           0       0.99      1.00      1.00    150093\n",
            "           1       0.79      0.50      0.61      2086\n",
            "\n",
            "    accuracy                           0.99    152179\n",
            "   macro avg       0.89      0.75      0.80    152179\n",
            "weighted avg       0.99      0.99      0.99    152179\n",
            "\n"
          ],
          "name": "stdout"
        }
      ]
    },
    {
      "cell_type": "markdown",
      "metadata": {
        "id": "BJPxyqv0ePDh",
        "colab_type": "text"
      },
      "source": [
        "# 產生submission"
      ]
    },
    {
      "cell_type": "code",
      "metadata": {
        "id": "Spls7FkEePg3",
        "colab_type": "code",
        "colab": {
          "base_uri": "https://localhost:8080/",
          "height": 255
        },
        "outputId": "6fd5a2d1-c513-406c-ea27-f85fbd4e5b07"
      },
      "source": [
        "submission = pd.DataFrame({\"txkey\":test_txkey,\n",
        "                           \"fraud_ind\":model.predict(test[features])})\n",
        "\n",
        "# to [0,1] \n",
        "submission[\"fraud_ind\"] = submission[\"fraud_ind\"].apply(round)\n",
        "\n",
        "# value_counts\n",
        "print(submission[\"fraud_ind\"].value_counts())\n",
        "submission.head()"
      ],
      "execution_count": 43,
      "outputs": [
        {
          "output_type": "stream",
          "text": [
            "0    418211\n",
            "1      3454\n",
            "Name: fraud_ind, dtype: int64\n"
          ],
          "name": "stdout"
        },
        {
          "output_type": "execute_result",
          "data": {
            "text/html": [
              "<div>\n",
              "<style scoped>\n",
              "    .dataframe tbody tr th:only-of-type {\n",
              "        vertical-align: middle;\n",
              "    }\n",
              "\n",
              "    .dataframe tbody tr th {\n",
              "        vertical-align: top;\n",
              "    }\n",
              "\n",
              "    .dataframe thead th {\n",
              "        text-align: right;\n",
              "    }\n",
              "</style>\n",
              "<table border=\"1\" class=\"dataframe\">\n",
              "  <thead>\n",
              "    <tr style=\"text-align: right;\">\n",
              "      <th></th>\n",
              "      <th>txkey</th>\n",
              "      <th>fraud_ind</th>\n",
              "    </tr>\n",
              "  </thead>\n",
              "  <tbody>\n",
              "    <tr>\n",
              "      <th>0</th>\n",
              "      <td>592489</td>\n",
              "      <td>0</td>\n",
              "    </tr>\n",
              "    <tr>\n",
              "      <th>1</th>\n",
              "      <td>592452</td>\n",
              "      <td>0</td>\n",
              "    </tr>\n",
              "    <tr>\n",
              "      <th>2</th>\n",
              "      <td>590212</td>\n",
              "      <td>0</td>\n",
              "    </tr>\n",
              "    <tr>\n",
              "      <th>3</th>\n",
              "      <td>590209</td>\n",
              "      <td>0</td>\n",
              "    </tr>\n",
              "    <tr>\n",
              "      <th>4</th>\n",
              "      <td>592488</td>\n",
              "      <td>0</td>\n",
              "    </tr>\n",
              "  </tbody>\n",
              "</table>\n",
              "</div>"
            ],
            "text/plain": [
              "    txkey  fraud_ind\n",
              "0  592489          0\n",
              "1  592452          0\n",
              "2  590212          0\n",
              "3  590209          0\n",
              "4  592488          0"
            ]
          },
          "metadata": {
            "tags": []
          },
          "execution_count": 43
        }
      ]
    },
    {
      "cell_type": "markdown",
      "metadata": {
        "id": "sjtNlkkjeWUa",
        "colab_type": "text"
      },
      "source": [
        "# 這裡有個想法如果test上盜刷的比例 跟train上面盜刷的比例 愈相近愈好"
      ]
    },
    {
      "cell_type": "code",
      "metadata": {
        "id": "Aj5EJj1ZeWxx",
        "colab_type": "code",
        "colab": {
          "base_uri": "https://localhost:8080/",
          "height": 80
        },
        "outputId": "b5cf7195-f7c4-45f8-b952-ff007b7e5def"
      },
      "source": [
        "train_p = round((train['fraud_ind'].value_counts()[1] / #盜刷樣本數\n",
        "                len(train['fraud_ind']))*100 ,5) #總數\n",
        "\n",
        "val_1_p = round((val_1['fraud_ind'].value_counts()[1] / #盜刷樣本數\n",
        "                len(val_1['fraud_ind']))*100 ,5) #總數\n",
        "\n",
        "val_2_p = round((val_2['fraud_ind'].value_counts()[1] / #盜刷樣本數\n",
        "                len(val_2['fraud_ind']))*100 ,5) #總數\n",
        "\n",
        "test_p = round((submission['fraud_ind'].value_counts()[1] / #盜刷樣本數\n",
        "                len(submission['fraud_ind']))*100 ,5) #總數\n",
        "pd.DataFrame({'train_p':train_p,\n",
        "              'val_1_p':val_1_p,\n",
        "              'val_2_p':val_2_p,\n",
        "              'test_p':test_p},\n",
        "               index=['盜刷比例%'])"
      ],
      "execution_count": 44,
      "outputs": [
        {
          "output_type": "execute_result",
          "data": {
            "text/html": [
              "<div>\n",
              "<style scoped>\n",
              "    .dataframe tbody tr th:only-of-type {\n",
              "        vertical-align: middle;\n",
              "    }\n",
              "\n",
              "    .dataframe tbody tr th {\n",
              "        vertical-align: top;\n",
              "    }\n",
              "\n",
              "    .dataframe thead th {\n",
              "        text-align: right;\n",
              "    }\n",
              "</style>\n",
              "<table border=\"1\" class=\"dataframe\">\n",
              "  <thead>\n",
              "    <tr style=\"text-align: right;\">\n",
              "      <th></th>\n",
              "      <th>train_p</th>\n",
              "      <th>val_1_p</th>\n",
              "      <th>val_2_p</th>\n",
              "      <th>test_p</th>\n",
              "    </tr>\n",
              "  </thead>\n",
              "  <tbody>\n",
              "    <tr>\n",
              "      <th>盜刷比例%</th>\n",
              "      <td>1.33018</td>\n",
              "      <td>1.36353</td>\n",
              "      <td>1.37075</td>\n",
              "      <td>0.81913</td>\n",
              "    </tr>\n",
              "  </tbody>\n",
              "</table>\n",
              "</div>"
            ],
            "text/plain": [
              "       train_p  val_1_p  val_2_p   test_p\n",
              "盜刷比例%  1.33018  1.36353  1.37075  0.81913"
            ]
          },
          "metadata": {
            "tags": []
          },
          "execution_count": 44
        }
      ]
    },
    {
      "cell_type": "markdown",
      "metadata": {
        "id": "gp7bXYUoeZvm",
        "colab_type": "text"
      },
      "source": [
        "# 保存預測結果"
      ]
    },
    {
      "cell_type": "code",
      "metadata": {
        "id": "T9CnZxyseaOj",
        "colab_type": "code",
        "colab": {}
      },
      "source": [
        "submission.to_csv(\"./submission_catboost_Fold_0(add_class_weight).csv\")"
      ],
      "execution_count": 0,
      "outputs": []
    },
    {
      "cell_type": "code",
      "metadata": {
        "id": "sto4yNSgjlTz",
        "colab_type": "code",
        "colab": {}
      },
      "source": [
        ""
      ],
      "execution_count": 0,
      "outputs": []
    }
  ]
}