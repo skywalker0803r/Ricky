{
  "nbformat": 4,
  "nbformat_minor": 0,
  "metadata": {
    "colab": {
      "name": "玉山銀行比賽_catboost.ipynb",
      "provenance": [],
      "collapsed_sections": [],
      "include_colab_link": true
    },
    "kernelspec": {
      "name": "python3",
      "display_name": "Python 3"
    },
    "accelerator": "GPU"
  },
  "cells": [
    {
      "cell_type": "markdown",
      "metadata": {
        "id": "view-in-github",
        "colab_type": "text"
      },
      "source": [
        "<a href=\"https://colab.research.google.com/github/skywalker0803r/Ricky/blob/master/%E7%8E%89%E5%B1%B1%E9%8A%80%E8%A1%8C%E6%AF%94%E8%B3%BD_catboost.ipynb\" target=\"_parent\"><img src=\"https://colab.research.google.com/assets/colab-badge.svg\" alt=\"Open In Colab\"/></a>"
      ]
    },
    {
      "cell_type": "code",
      "metadata": {
        "id": "WPR5EpVPTu2R",
        "colab_type": "code",
        "outputId": "de416889-fdf1-4797-ccc3-c39acc594984",
        "colab": {
          "base_uri": "https://localhost:8080/",
          "height": 35
        }
      },
      "source": [
        "from google.colab import drive\n",
        "drive.mount('/content/drive')\n",
        "import warnings \n",
        "warnings.simplefilter('ignore')\n",
        "import seaborn as sns\n",
        "import matplotlib.pyplot as plt"
      ],
      "execution_count": 1,
      "outputs": [
        {
          "output_type": "stream",
          "text": [
            "Drive already mounted at /content/drive; to attempt to forcibly remount, call drive.mount(\"/content/drive\", force_remount=True).\n"
          ],
          "name": "stdout"
        }
      ]
    },
    {
      "cell_type": "code",
      "metadata": {
        "id": "HTGQlL6pTvpD",
        "colab_type": "code",
        "colab": {}
      },
      "source": [
        "中文map = {'bacno':'歸戶帳號','txkey':'交易序號','locdt':'授權日期','loctm':'授權時間','cano':'交易卡號',\n",
        "         'contp':'交易類別','etymd':'交易型態','mchno':'特店代號','acqic':'收單行代碼','mcc':'MCC_CODE',\n",
        "         'conam':'交易金額-台幣(經過轉換)','ecfg':'網路交易註記','insfg':'分期交易註記','iterm':'分期期數',\n",
        "         'stocn':'消費地國別','scity':'消費城市','stscd':'狀態碼','ovrlt':'超額註記碼','flbmk':'Fallback註記',\n",
        "         'hcefg':'支付型態','csmcu':'消費地幣別','flg_3dsmk':'3DS交易註記','fraud_ind':'盜刷註記'}"
      ],
      "execution_count": 0,
      "outputs": []
    },
    {
      "cell_type": "code",
      "metadata": {
        "id": "gwF7iD3QV-DZ",
        "colab_type": "code",
        "colab": {}
      },
      "source": [
        "num_Fold = 4\n",
        "random_seed = 42"
      ],
      "execution_count": 0,
      "outputs": []
    },
    {
      "cell_type": "markdown",
      "metadata": {
        "id": "pduOxPvMUABF",
        "colab_type": "text"
      },
      "source": [
        "# train"
      ]
    },
    {
      "cell_type": "code",
      "metadata": {
        "id": "-VYk2pwCT927",
        "colab_type": "code",
        "outputId": "7d2f8afe-191b-466f-8d6f-4adfd172d424",
        "colab": {
          "base_uri": "https://localhost:8080/",
          "height": 261
        }
      },
      "source": [
        "import pandas as pd\n",
        "train = pd.read_csv(\"/content/drive/My Drive/玉山人工智慧比賽數據/train_特徵工程完.csv\",index_col=0)\n",
        "print(train.shape)\n",
        "train.head()"
      ],
      "execution_count": 4,
      "outputs": [
        {
          "output_type": "stream",
          "text": [
            "(1521787, 100)\n"
          ],
          "name": "stdout"
        },
        {
          "output_type": "execute_result",
          "data": {
            "text/html": [
              "<div>\n",
              "<style scoped>\n",
              "    .dataframe tbody tr th:only-of-type {\n",
              "        vertical-align: middle;\n",
              "    }\n",
              "\n",
              "    .dataframe tbody tr th {\n",
              "        vertical-align: top;\n",
              "    }\n",
              "\n",
              "    .dataframe thead th {\n",
              "        text-align: right;\n",
              "    }\n",
              "</style>\n",
              "<table border=\"1\" class=\"dataframe\">\n",
              "  <thead>\n",
              "    <tr style=\"text-align: right;\">\n",
              "      <th></th>\n",
              "      <th>stscd</th>\n",
              "      <th>ecfg</th>\n",
              "      <th>stocn</th>\n",
              "      <th>acqic</th>\n",
              "      <th>etymd</th>\n",
              "      <th>loctm</th>\n",
              "      <th>scity</th>\n",
              "      <th>hcefg</th>\n",
              "      <th>contp</th>\n",
              "      <th>conam</th>\n",
              "      <th>insfg</th>\n",
              "      <th>ovrlt</th>\n",
              "      <th>flg_3dsmk</th>\n",
              "      <th>iterm</th>\n",
              "      <th>csmcu</th>\n",
              "      <th>mchno</th>\n",
              "      <th>cano</th>\n",
              "      <th>mcc</th>\n",
              "      <th>flbmk</th>\n",
              "      <th>bacno</th>\n",
              "      <th>cano_stscd_2_norm_count</th>\n",
              "      <th>bacno_stscd_2_norm_count</th>\n",
              "      <th>cano_stscd_nunique</th>\n",
              "      <th>bacno_stscd_nunique</th>\n",
              "      <th>cano_ecfg_0_norm_count</th>\n",
              "      <th>cano_stscd_2_count</th>\n",
              "      <th>bacno_ecfg_1_norm_count</th>\n",
              "      <th>bacno_stscd_2_count</th>\n",
              "      <th>cano_stocn_nunique</th>\n",
              "      <th>bacno_stocn_nunique</th>\n",
              "      <th>bacno_csmcu_nunique</th>\n",
              "      <th>cano_csmcu_nunique</th>\n",
              "      <th>cano_etymd_nunique</th>\n",
              "      <th>bacno_ecfg_nunique</th>\n",
              "      <th>bacno_scity_nunique</th>\n",
              "      <th>cano_ecfg_nunique</th>\n",
              "      <th>cano_ecfg_0_count</th>\n",
              "      <th>cano_mchno_nunique</th>\n",
              "      <th>cano_stscd_0_count</th>\n",
              "      <th>cano_insfg_nunique</th>\n",
              "      <th>...</th>\n",
              "      <th>bacno_ovrlt_nunique</th>\n",
              "      <th>locdt</th>\n",
              "      <th>cano_ecfg_1_count</th>\n",
              "      <th>bacno_iterm_nunique</th>\n",
              "      <th>bacno_insfg_0_norm_count</th>\n",
              "      <th>bacno_mcc_nunique</th>\n",
              "      <th>bacno_insfg_nunique</th>\n",
              "      <th>bacno_iterm_1_norm_count</th>\n",
              "      <th>cano_ovrlt_nunique</th>\n",
              "      <th>cano_iterm_2_norm_count</th>\n",
              "      <th>cano_iterm_4_count</th>\n",
              "      <th>cano_insfg_1_count</th>\n",
              "      <th>bacno_iterm_1_count</th>\n",
              "      <th>cano_stscd_1_norm_count</th>\n",
              "      <th>cano_contp_4_count</th>\n",
              "      <th>bacno_contp_nunique</th>\n",
              "      <th>bacno_etymd_nunique</th>\n",
              "      <th>bacno_stscd_1_norm_count</th>\n",
              "      <th>cano_ovrlt_1_count</th>\n",
              "      <th>bacno_flg_3dsmk_nunique</th>\n",
              "      <th>cano_iterm_4_norm_count</th>\n",
              "      <th>bacno_iterm_2_norm_count</th>\n",
              "      <th>bacno_contp_6_count</th>\n",
              "      <th>bacno_ovrlt_1_count</th>\n",
              "      <th>bacno_stscd_1_count</th>\n",
              "      <th>cano_contp_4_norm_count</th>\n",
              "      <th>cano_iterm_8_count</th>\n",
              "      <th>bacno_contp_4_norm_count</th>\n",
              "      <th>cano_iterm_2_count</th>\n",
              "      <th>bacno_contp_4_count</th>\n",
              "      <th>cano_iterm_7_count</th>\n",
              "      <th>bacno_iterm_4_norm_count</th>\n",
              "      <th>bacno_iterm_4_count</th>\n",
              "      <th>bacno_iterm_8_count</th>\n",
              "      <th>cano_stscd_1_count</th>\n",
              "      <th>cano_iterm_3_count</th>\n",
              "      <th>cano_iterm_6_count</th>\n",
              "      <th>cano_contp_3_norm_count</th>\n",
              "      <th>txkey</th>\n",
              "      <th>fraud_ind</th>\n",
              "    </tr>\n",
              "  </thead>\n",
              "  <tbody>\n",
              "    <tr>\n",
              "      <th>0</th>\n",
              "      <td>0</td>\n",
              "      <td>0</td>\n",
              "      <td>102</td>\n",
              "      <td>6862</td>\n",
              "      <td>0</td>\n",
              "      <td>61954</td>\n",
              "      <td>0</td>\n",
              "      <td>5</td>\n",
              "      <td>5</td>\n",
              "      <td>16158</td>\n",
              "      <td>0</td>\n",
              "      <td>0</td>\n",
              "      <td>0</td>\n",
              "      <td>0</td>\n",
              "      <td>0</td>\n",
              "      <td>59034</td>\n",
              "      <td>37846</td>\n",
              "      <td>457</td>\n",
              "      <td>0</td>\n",
              "      <td>112785</td>\n",
              "      <td>0.0</td>\n",
              "      <td>0.0</td>\n",
              "      <td>1</td>\n",
              "      <td>1</td>\n",
              "      <td>0.712500</td>\n",
              "      <td>0</td>\n",
              "      <td>0.287500</td>\n",
              "      <td>0</td>\n",
              "      <td>5</td>\n",
              "      <td>5</td>\n",
              "      <td>3</td>\n",
              "      <td>3</td>\n",
              "      <td>5</td>\n",
              "      <td>2</td>\n",
              "      <td>13</td>\n",
              "      <td>2</td>\n",
              "      <td>57.0</td>\n",
              "      <td>33</td>\n",
              "      <td>80.0</td>\n",
              "      <td>1</td>\n",
              "      <td>...</td>\n",
              "      <td>1</td>\n",
              "      <td>33</td>\n",
              "      <td>23.0</td>\n",
              "      <td>1</td>\n",
              "      <td>1.000000</td>\n",
              "      <td>21</td>\n",
              "      <td>1</td>\n",
              "      <td>0.000000</td>\n",
              "      <td>1</td>\n",
              "      <td>0.0</td>\n",
              "      <td>0</td>\n",
              "      <td>0.0</td>\n",
              "      <td>0</td>\n",
              "      <td>0.0</td>\n",
              "      <td>0</td>\n",
              "      <td>3</td>\n",
              "      <td>5</td>\n",
              "      <td>0.0</td>\n",
              "      <td>0</td>\n",
              "      <td>1</td>\n",
              "      <td>0.0</td>\n",
              "      <td>0.0</td>\n",
              "      <td>1</td>\n",
              "      <td>0</td>\n",
              "      <td>0</td>\n",
              "      <td>0.000000</td>\n",
              "      <td>0</td>\n",
              "      <td>0.000000</td>\n",
              "      <td>0.0</td>\n",
              "      <td>0</td>\n",
              "      <td>0</td>\n",
              "      <td>0.0</td>\n",
              "      <td>0</td>\n",
              "      <td>0</td>\n",
              "      <td>0</td>\n",
              "      <td>0</td>\n",
              "      <td>0</td>\n",
              "      <td>0.0</td>\n",
              "      <td>516056</td>\n",
              "      <td>0</td>\n",
              "    </tr>\n",
              "    <tr>\n",
              "      <th>1</th>\n",
              "      <td>0</td>\n",
              "      <td>0</td>\n",
              "      <td>102</td>\n",
              "      <td>0</td>\n",
              "      <td>2</td>\n",
              "      <td>38216</td>\n",
              "      <td>5795</td>\n",
              "      <td>0</td>\n",
              "      <td>5</td>\n",
              "      <td>13693</td>\n",
              "      <td>0</td>\n",
              "      <td>0</td>\n",
              "      <td>0</td>\n",
              "      <td>0</td>\n",
              "      <td>0</td>\n",
              "      <td>0</td>\n",
              "      <td>45476</td>\n",
              "      <td>451</td>\n",
              "      <td>0</td>\n",
              "      <td>133951</td>\n",
              "      <td>0.0</td>\n",
              "      <td>0.0</td>\n",
              "      <td>1</td>\n",
              "      <td>1</td>\n",
              "      <td>0.913043</td>\n",
              "      <td>0</td>\n",
              "      <td>0.086957</td>\n",
              "      <td>0</td>\n",
              "      <td>1</td>\n",
              "      <td>1</td>\n",
              "      <td>2</td>\n",
              "      <td>2</td>\n",
              "      <td>4</td>\n",
              "      <td>2</td>\n",
              "      <td>4</td>\n",
              "      <td>2</td>\n",
              "      <td>21.0</td>\n",
              "      <td>11</td>\n",
              "      <td>23.0</td>\n",
              "      <td>2</td>\n",
              "      <td>...</td>\n",
              "      <td>1</td>\n",
              "      <td>9</td>\n",
              "      <td>2.0</td>\n",
              "      <td>2</td>\n",
              "      <td>0.956522</td>\n",
              "      <td>8</td>\n",
              "      <td>2</td>\n",
              "      <td>0.043478</td>\n",
              "      <td>1</td>\n",
              "      <td>0.0</td>\n",
              "      <td>0</td>\n",
              "      <td>1.0</td>\n",
              "      <td>1</td>\n",
              "      <td>0.0</td>\n",
              "      <td>0</td>\n",
              "      <td>1</td>\n",
              "      <td>4</td>\n",
              "      <td>0.0</td>\n",
              "      <td>0</td>\n",
              "      <td>2</td>\n",
              "      <td>0.0</td>\n",
              "      <td>0.0</td>\n",
              "      <td>0</td>\n",
              "      <td>0</td>\n",
              "      <td>0</td>\n",
              "      <td>0.000000</td>\n",
              "      <td>0</td>\n",
              "      <td>0.000000</td>\n",
              "      <td>0.0</td>\n",
              "      <td>0</td>\n",
              "      <td>0</td>\n",
              "      <td>0.0</td>\n",
              "      <td>0</td>\n",
              "      <td>0</td>\n",
              "      <td>0</td>\n",
              "      <td>0</td>\n",
              "      <td>0</td>\n",
              "      <td>0.0</td>\n",
              "      <td>4376</td>\n",
              "      <td>0</td>\n",
              "    </tr>\n",
              "    <tr>\n",
              "      <th>2</th>\n",
              "      <td>0</td>\n",
              "      <td>0</td>\n",
              "      <td>102</td>\n",
              "      <td>6862</td>\n",
              "      <td>0</td>\n",
              "      <td>54640</td>\n",
              "      <td>0</td>\n",
              "      <td>5</td>\n",
              "      <td>5</td>\n",
              "      <td>16158</td>\n",
              "      <td>0</td>\n",
              "      <td>0</td>\n",
              "      <td>0</td>\n",
              "      <td>0</td>\n",
              "      <td>0</td>\n",
              "      <td>59034</td>\n",
              "      <td>187354</td>\n",
              "      <td>457</td>\n",
              "      <td>0</td>\n",
              "      <td>15350</td>\n",
              "      <td>0.0</td>\n",
              "      <td>0.0</td>\n",
              "      <td>1</td>\n",
              "      <td>1</td>\n",
              "      <td>1.000000</td>\n",
              "      <td>0</td>\n",
              "      <td>0.000000</td>\n",
              "      <td>0</td>\n",
              "      <td>1</td>\n",
              "      <td>1</td>\n",
              "      <td>2</td>\n",
              "      <td>2</td>\n",
              "      <td>4</td>\n",
              "      <td>1</td>\n",
              "      <td>4</td>\n",
              "      <td>1</td>\n",
              "      <td>18.0</td>\n",
              "      <td>12</td>\n",
              "      <td>18.0</td>\n",
              "      <td>1</td>\n",
              "      <td>...</td>\n",
              "      <td>1</td>\n",
              "      <td>6</td>\n",
              "      <td>0.0</td>\n",
              "      <td>1</td>\n",
              "      <td>1.000000</td>\n",
              "      <td>7</td>\n",
              "      <td>1</td>\n",
              "      <td>0.000000</td>\n",
              "      <td>1</td>\n",
              "      <td>0.0</td>\n",
              "      <td>0</td>\n",
              "      <td>0.0</td>\n",
              "      <td>0</td>\n",
              "      <td>0.0</td>\n",
              "      <td>0</td>\n",
              "      <td>1</td>\n",
              "      <td>4</td>\n",
              "      <td>0.0</td>\n",
              "      <td>0</td>\n",
              "      <td>1</td>\n",
              "      <td>0.0</td>\n",
              "      <td>0.0</td>\n",
              "      <td>0</td>\n",
              "      <td>0</td>\n",
              "      <td>0</td>\n",
              "      <td>0.000000</td>\n",
              "      <td>0</td>\n",
              "      <td>0.000000</td>\n",
              "      <td>0.0</td>\n",
              "      <td>0</td>\n",
              "      <td>0</td>\n",
              "      <td>0.0</td>\n",
              "      <td>0</td>\n",
              "      <td>0</td>\n",
              "      <td>0</td>\n",
              "      <td>0</td>\n",
              "      <td>0</td>\n",
              "      <td>0.0</td>\n",
              "      <td>483434</td>\n",
              "      <td>0</td>\n",
              "    </tr>\n",
              "    <tr>\n",
              "      <th>3</th>\n",
              "      <td>0</td>\n",
              "      <td>0</td>\n",
              "      <td>102</td>\n",
              "      <td>6697</td>\n",
              "      <td>5</td>\n",
              "      <td>62128</td>\n",
              "      <td>3267</td>\n",
              "      <td>5</td>\n",
              "      <td>5</td>\n",
              "      <td>40413</td>\n",
              "      <td>0</td>\n",
              "      <td>0</td>\n",
              "      <td>0</td>\n",
              "      <td>0</td>\n",
              "      <td>62</td>\n",
              "      <td>50185</td>\n",
              "      <td>29812</td>\n",
              "      <td>247</td>\n",
              "      <td>0</td>\n",
              "      <td>156492</td>\n",
              "      <td>0.0</td>\n",
              "      <td>0.0</td>\n",
              "      <td>1</td>\n",
              "      <td>1</td>\n",
              "      <td>0.964912</td>\n",
              "      <td>0</td>\n",
              "      <td>0.027027</td>\n",
              "      <td>0</td>\n",
              "      <td>1</td>\n",
              "      <td>1</td>\n",
              "      <td>1</td>\n",
              "      <td>1</td>\n",
              "      <td>4</td>\n",
              "      <td>2</td>\n",
              "      <td>9</td>\n",
              "      <td>2</td>\n",
              "      <td>55.0</td>\n",
              "      <td>25</td>\n",
              "      <td>57.0</td>\n",
              "      <td>2</td>\n",
              "      <td>...</td>\n",
              "      <td>1</td>\n",
              "      <td>5</td>\n",
              "      <td>2.0</td>\n",
              "      <td>2</td>\n",
              "      <td>0.986486</td>\n",
              "      <td>14</td>\n",
              "      <td>2</td>\n",
              "      <td>0.013514</td>\n",
              "      <td>1</td>\n",
              "      <td>0.0</td>\n",
              "      <td>0</td>\n",
              "      <td>1.0</td>\n",
              "      <td>1</td>\n",
              "      <td>0.0</td>\n",
              "      <td>0</td>\n",
              "      <td>2</td>\n",
              "      <td>4</td>\n",
              "      <td>0.0</td>\n",
              "      <td>0</td>\n",
              "      <td>2</td>\n",
              "      <td>0.0</td>\n",
              "      <td>0.0</td>\n",
              "      <td>0</td>\n",
              "      <td>0</td>\n",
              "      <td>0</td>\n",
              "      <td>0.000000</td>\n",
              "      <td>0</td>\n",
              "      <td>0.000000</td>\n",
              "      <td>0.0</td>\n",
              "      <td>0</td>\n",
              "      <td>0</td>\n",
              "      <td>0.0</td>\n",
              "      <td>0</td>\n",
              "      <td>0</td>\n",
              "      <td>0</td>\n",
              "      <td>0</td>\n",
              "      <td>0</td>\n",
              "      <td>0.0</td>\n",
              "      <td>1407164</td>\n",
              "      <td>0</td>\n",
              "    </tr>\n",
              "    <tr>\n",
              "      <th>4</th>\n",
              "      <td>0</td>\n",
              "      <td>0</td>\n",
              "      <td>102</td>\n",
              "      <td>5959</td>\n",
              "      <td>4</td>\n",
              "      <td>65231</td>\n",
              "      <td>5795</td>\n",
              "      <td>5</td>\n",
              "      <td>5</td>\n",
              "      <td>25962</td>\n",
              "      <td>0</td>\n",
              "      <td>0</td>\n",
              "      <td>0</td>\n",
              "      <td>0</td>\n",
              "      <td>62</td>\n",
              "      <td>93290</td>\n",
              "      <td>80881</td>\n",
              "      <td>263</td>\n",
              "      <td>0</td>\n",
              "      <td>105534</td>\n",
              "      <td>0.0</td>\n",
              "      <td>0.0</td>\n",
              "      <td>1</td>\n",
              "      <td>1</td>\n",
              "      <td>0.761905</td>\n",
              "      <td>0</td>\n",
              "      <td>0.192308</td>\n",
              "      <td>0</td>\n",
              "      <td>1</td>\n",
              "      <td>1</td>\n",
              "      <td>2</td>\n",
              "      <td>2</td>\n",
              "      <td>5</td>\n",
              "      <td>2</td>\n",
              "      <td>8</td>\n",
              "      <td>2</td>\n",
              "      <td>48.0</td>\n",
              "      <td>28</td>\n",
              "      <td>63.0</td>\n",
              "      <td>1</td>\n",
              "      <td>...</td>\n",
              "      <td>1</td>\n",
              "      <td>6</td>\n",
              "      <td>15.0</td>\n",
              "      <td>1</td>\n",
              "      <td>1.000000</td>\n",
              "      <td>17</td>\n",
              "      <td>1</td>\n",
              "      <td>0.000000</td>\n",
              "      <td>1</td>\n",
              "      <td>0.0</td>\n",
              "      <td>0</td>\n",
              "      <td>0.0</td>\n",
              "      <td>0</td>\n",
              "      <td>0.0</td>\n",
              "      <td>3</td>\n",
              "      <td>3</td>\n",
              "      <td>5</td>\n",
              "      <td>0.0</td>\n",
              "      <td>0</td>\n",
              "      <td>2</td>\n",
              "      <td>0.0</td>\n",
              "      <td>0.0</td>\n",
              "      <td>0</td>\n",
              "      <td>0</td>\n",
              "      <td>0</td>\n",
              "      <td>0.047619</td>\n",
              "      <td>0</td>\n",
              "      <td>0.038462</td>\n",
              "      <td>0.0</td>\n",
              "      <td>3</td>\n",
              "      <td>0</td>\n",
              "      <td>0.0</td>\n",
              "      <td>0</td>\n",
              "      <td>0</td>\n",
              "      <td>0</td>\n",
              "      <td>0</td>\n",
              "      <td>0</td>\n",
              "      <td>0.0</td>\n",
              "      <td>1051004</td>\n",
              "      <td>0</td>\n",
              "    </tr>\n",
              "  </tbody>\n",
              "</table>\n",
              "<p>5 rows × 100 columns</p>\n",
              "</div>"
            ],
            "text/plain": [
              "   stscd  ecfg  stocn  ...  cano_contp_3_norm_count    txkey  fraud_ind\n",
              "0      0     0    102  ...                      0.0   516056          0\n",
              "1      0     0    102  ...                      0.0     4376          0\n",
              "2      0     0    102  ...                      0.0   483434          0\n",
              "3      0     0    102  ...                      0.0  1407164          0\n",
              "4      0     0    102  ...                      0.0  1051004          0\n",
              "\n",
              "[5 rows x 100 columns]"
            ]
          },
          "metadata": {
            "tags": []
          },
          "execution_count": 4
        }
      ]
    },
    {
      "cell_type": "markdown",
      "metadata": {
        "id": "cdcREQMiUF5D",
        "colab_type": "text"
      },
      "source": [
        "# test"
      ]
    },
    {
      "cell_type": "code",
      "metadata": {
        "id": "g4gZYpBSUDOh",
        "colab_type": "code",
        "outputId": "4b7ac22d-4aa4-4d8d-a630-227a039b884b",
        "colab": {
          "base_uri": "https://localhost:8080/",
          "height": 261
        }
      },
      "source": [
        "test = pd.read_csv(\"/content/drive/My Drive/玉山人工智慧比賽數據/test_特徵工程完.csv\",index_col=0)\n",
        "test_txkey = test[\"txkey\"]\n",
        "print(test.shape)\n",
        "test.head()"
      ],
      "execution_count": 5,
      "outputs": [
        {
          "output_type": "stream",
          "text": [
            "(421665, 99)\n"
          ],
          "name": "stdout"
        },
        {
          "output_type": "execute_result",
          "data": {
            "text/html": [
              "<div>\n",
              "<style scoped>\n",
              "    .dataframe tbody tr th:only-of-type {\n",
              "        vertical-align: middle;\n",
              "    }\n",
              "\n",
              "    .dataframe tbody tr th {\n",
              "        vertical-align: top;\n",
              "    }\n",
              "\n",
              "    .dataframe thead th {\n",
              "        text-align: right;\n",
              "    }\n",
              "</style>\n",
              "<table border=\"1\" class=\"dataframe\">\n",
              "  <thead>\n",
              "    <tr style=\"text-align: right;\">\n",
              "      <th></th>\n",
              "      <th>stscd</th>\n",
              "      <th>ecfg</th>\n",
              "      <th>stocn</th>\n",
              "      <th>acqic</th>\n",
              "      <th>etymd</th>\n",
              "      <th>loctm</th>\n",
              "      <th>scity</th>\n",
              "      <th>hcefg</th>\n",
              "      <th>contp</th>\n",
              "      <th>conam</th>\n",
              "      <th>insfg</th>\n",
              "      <th>ovrlt</th>\n",
              "      <th>flg_3dsmk</th>\n",
              "      <th>iterm</th>\n",
              "      <th>csmcu</th>\n",
              "      <th>mchno</th>\n",
              "      <th>cano</th>\n",
              "      <th>mcc</th>\n",
              "      <th>flbmk</th>\n",
              "      <th>bacno</th>\n",
              "      <th>cano_stscd_2_norm_count</th>\n",
              "      <th>bacno_stscd_2_norm_count</th>\n",
              "      <th>cano_stscd_nunique</th>\n",
              "      <th>bacno_stscd_nunique</th>\n",
              "      <th>cano_ecfg_0_norm_count</th>\n",
              "      <th>cano_stscd_2_count</th>\n",
              "      <th>bacno_ecfg_1_norm_count</th>\n",
              "      <th>bacno_stscd_2_count</th>\n",
              "      <th>cano_stocn_nunique</th>\n",
              "      <th>bacno_stocn_nunique</th>\n",
              "      <th>bacno_csmcu_nunique</th>\n",
              "      <th>cano_csmcu_nunique</th>\n",
              "      <th>cano_etymd_nunique</th>\n",
              "      <th>bacno_ecfg_nunique</th>\n",
              "      <th>bacno_scity_nunique</th>\n",
              "      <th>cano_ecfg_nunique</th>\n",
              "      <th>cano_ecfg_0_count</th>\n",
              "      <th>cano_mchno_nunique</th>\n",
              "      <th>cano_stscd_0_count</th>\n",
              "      <th>cano_insfg_nunique</th>\n",
              "      <th>...</th>\n",
              "      <th>cano_iterm_1_count</th>\n",
              "      <th>bacno_ovrlt_nunique</th>\n",
              "      <th>locdt</th>\n",
              "      <th>cano_ecfg_1_count</th>\n",
              "      <th>bacno_iterm_nunique</th>\n",
              "      <th>bacno_insfg_0_norm_count</th>\n",
              "      <th>bacno_mcc_nunique</th>\n",
              "      <th>bacno_insfg_nunique</th>\n",
              "      <th>bacno_iterm_1_norm_count</th>\n",
              "      <th>cano_ovrlt_nunique</th>\n",
              "      <th>cano_iterm_2_norm_count</th>\n",
              "      <th>cano_iterm_4_count</th>\n",
              "      <th>cano_insfg_1_count</th>\n",
              "      <th>bacno_iterm_1_count</th>\n",
              "      <th>cano_stscd_1_norm_count</th>\n",
              "      <th>cano_contp_4_count</th>\n",
              "      <th>bacno_contp_nunique</th>\n",
              "      <th>bacno_etymd_nunique</th>\n",
              "      <th>bacno_stscd_1_norm_count</th>\n",
              "      <th>cano_ovrlt_1_count</th>\n",
              "      <th>bacno_flg_3dsmk_nunique</th>\n",
              "      <th>cano_iterm_4_norm_count</th>\n",
              "      <th>bacno_iterm_2_norm_count</th>\n",
              "      <th>bacno_contp_6_count</th>\n",
              "      <th>bacno_ovrlt_1_count</th>\n",
              "      <th>bacno_stscd_1_count</th>\n",
              "      <th>cano_contp_4_norm_count</th>\n",
              "      <th>cano_iterm_8_count</th>\n",
              "      <th>bacno_contp_4_norm_count</th>\n",
              "      <th>cano_iterm_2_count</th>\n",
              "      <th>bacno_contp_4_count</th>\n",
              "      <th>cano_iterm_7_count</th>\n",
              "      <th>bacno_iterm_4_norm_count</th>\n",
              "      <th>bacno_iterm_4_count</th>\n",
              "      <th>bacno_iterm_8_count</th>\n",
              "      <th>cano_stscd_1_count</th>\n",
              "      <th>cano_iterm_3_count</th>\n",
              "      <th>cano_iterm_6_count</th>\n",
              "      <th>cano_contp_3_norm_count</th>\n",
              "      <th>txkey</th>\n",
              "    </tr>\n",
              "  </thead>\n",
              "  <tbody>\n",
              "    <tr>\n",
              "      <th>1521787</th>\n",
              "      <td>0</td>\n",
              "      <td>0</td>\n",
              "      <td>102</td>\n",
              "      <td>6862</td>\n",
              "      <td>0</td>\n",
              "      <td>77950</td>\n",
              "      <td>0</td>\n",
              "      <td>5</td>\n",
              "      <td>5</td>\n",
              "      <td>16158</td>\n",
              "      <td>0</td>\n",
              "      <td>0</td>\n",
              "      <td>0</td>\n",
              "      <td>0</td>\n",
              "      <td>0</td>\n",
              "      <td>59060</td>\n",
              "      <td>116168</td>\n",
              "      <td>457</td>\n",
              "      <td>0</td>\n",
              "      <td>162489</td>\n",
              "      <td>0.181818</td>\n",
              "      <td>0.181818</td>\n",
              "      <td>2</td>\n",
              "      <td>2</td>\n",
              "      <td>1.0</td>\n",
              "      <td>2</td>\n",
              "      <td>0.0</td>\n",
              "      <td>2</td>\n",
              "      <td>1</td>\n",
              "      <td>1</td>\n",
              "      <td>1</td>\n",
              "      <td>1</td>\n",
              "      <td>1</td>\n",
              "      <td>1</td>\n",
              "      <td>1</td>\n",
              "      <td>1</td>\n",
              "      <td>11.0</td>\n",
              "      <td>1</td>\n",
              "      <td>9.0</td>\n",
              "      <td>1</td>\n",
              "      <td>...</td>\n",
              "      <td>0</td>\n",
              "      <td>1</td>\n",
              "      <td>102</td>\n",
              "      <td>0.0</td>\n",
              "      <td>1</td>\n",
              "      <td>1.0</td>\n",
              "      <td>1</td>\n",
              "      <td>1</td>\n",
              "      <td>0.0</td>\n",
              "      <td>1</td>\n",
              "      <td>0.0</td>\n",
              "      <td>0</td>\n",
              "      <td>0.0</td>\n",
              "      <td>0</td>\n",
              "      <td>0.0</td>\n",
              "      <td>0</td>\n",
              "      <td>1</td>\n",
              "      <td>1</td>\n",
              "      <td>0.0</td>\n",
              "      <td>0</td>\n",
              "      <td>1</td>\n",
              "      <td>0.0</td>\n",
              "      <td>0.0</td>\n",
              "      <td>0</td>\n",
              "      <td>0</td>\n",
              "      <td>0</td>\n",
              "      <td>0.0</td>\n",
              "      <td>0</td>\n",
              "      <td>0.0</td>\n",
              "      <td>0.0</td>\n",
              "      <td>0</td>\n",
              "      <td>0</td>\n",
              "      <td>0.0</td>\n",
              "      <td>0</td>\n",
              "      <td>0</td>\n",
              "      <td>0</td>\n",
              "      <td>0</td>\n",
              "      <td>0</td>\n",
              "      <td>0.0</td>\n",
              "      <td>592489</td>\n",
              "    </tr>\n",
              "    <tr>\n",
              "      <th>1521788</th>\n",
              "      <td>0</td>\n",
              "      <td>0</td>\n",
              "      <td>102</td>\n",
              "      <td>6862</td>\n",
              "      <td>0</td>\n",
              "      <td>79549</td>\n",
              "      <td>0</td>\n",
              "      <td>5</td>\n",
              "      <td>5</td>\n",
              "      <td>16158</td>\n",
              "      <td>0</td>\n",
              "      <td>0</td>\n",
              "      <td>0</td>\n",
              "      <td>0</td>\n",
              "      <td>0</td>\n",
              "      <td>59060</td>\n",
              "      <td>116168</td>\n",
              "      <td>457</td>\n",
              "      <td>0</td>\n",
              "      <td>162489</td>\n",
              "      <td>0.181818</td>\n",
              "      <td>0.181818</td>\n",
              "      <td>2</td>\n",
              "      <td>2</td>\n",
              "      <td>1.0</td>\n",
              "      <td>2</td>\n",
              "      <td>0.0</td>\n",
              "      <td>2</td>\n",
              "      <td>1</td>\n",
              "      <td>1</td>\n",
              "      <td>1</td>\n",
              "      <td>1</td>\n",
              "      <td>1</td>\n",
              "      <td>1</td>\n",
              "      <td>1</td>\n",
              "      <td>1</td>\n",
              "      <td>11.0</td>\n",
              "      <td>1</td>\n",
              "      <td>9.0</td>\n",
              "      <td>1</td>\n",
              "      <td>...</td>\n",
              "      <td>0</td>\n",
              "      <td>1</td>\n",
              "      <td>102</td>\n",
              "      <td>0.0</td>\n",
              "      <td>1</td>\n",
              "      <td>1.0</td>\n",
              "      <td>1</td>\n",
              "      <td>1</td>\n",
              "      <td>0.0</td>\n",
              "      <td>1</td>\n",
              "      <td>0.0</td>\n",
              "      <td>0</td>\n",
              "      <td>0.0</td>\n",
              "      <td>0</td>\n",
              "      <td>0.0</td>\n",
              "      <td>0</td>\n",
              "      <td>1</td>\n",
              "      <td>1</td>\n",
              "      <td>0.0</td>\n",
              "      <td>0</td>\n",
              "      <td>1</td>\n",
              "      <td>0.0</td>\n",
              "      <td>0.0</td>\n",
              "      <td>0</td>\n",
              "      <td>0</td>\n",
              "      <td>0</td>\n",
              "      <td>0.0</td>\n",
              "      <td>0</td>\n",
              "      <td>0.0</td>\n",
              "      <td>0.0</td>\n",
              "      <td>0</td>\n",
              "      <td>0</td>\n",
              "      <td>0.0</td>\n",
              "      <td>0</td>\n",
              "      <td>0</td>\n",
              "      <td>0</td>\n",
              "      <td>0</td>\n",
              "      <td>0</td>\n",
              "      <td>0.0</td>\n",
              "      <td>592452</td>\n",
              "    </tr>\n",
              "    <tr>\n",
              "      <th>1521789</th>\n",
              "      <td>0</td>\n",
              "      <td>0</td>\n",
              "      <td>102</td>\n",
              "      <td>6862</td>\n",
              "      <td>0</td>\n",
              "      <td>60355</td>\n",
              "      <td>0</td>\n",
              "      <td>5</td>\n",
              "      <td>5</td>\n",
              "      <td>16158</td>\n",
              "      <td>0</td>\n",
              "      <td>0</td>\n",
              "      <td>0</td>\n",
              "      <td>0</td>\n",
              "      <td>0</td>\n",
              "      <td>59060</td>\n",
              "      <td>116168</td>\n",
              "      <td>457</td>\n",
              "      <td>0</td>\n",
              "      <td>162489</td>\n",
              "      <td>0.181818</td>\n",
              "      <td>0.181818</td>\n",
              "      <td>2</td>\n",
              "      <td>2</td>\n",
              "      <td>1.0</td>\n",
              "      <td>2</td>\n",
              "      <td>0.0</td>\n",
              "      <td>2</td>\n",
              "      <td>1</td>\n",
              "      <td>1</td>\n",
              "      <td>1</td>\n",
              "      <td>1</td>\n",
              "      <td>1</td>\n",
              "      <td>1</td>\n",
              "      <td>1</td>\n",
              "      <td>1</td>\n",
              "      <td>11.0</td>\n",
              "      <td>1</td>\n",
              "      <td>9.0</td>\n",
              "      <td>1</td>\n",
              "      <td>...</td>\n",
              "      <td>0</td>\n",
              "      <td>1</td>\n",
              "      <td>100</td>\n",
              "      <td>0.0</td>\n",
              "      <td>1</td>\n",
              "      <td>1.0</td>\n",
              "      <td>1</td>\n",
              "      <td>1</td>\n",
              "      <td>0.0</td>\n",
              "      <td>1</td>\n",
              "      <td>0.0</td>\n",
              "      <td>0</td>\n",
              "      <td>0.0</td>\n",
              "      <td>0</td>\n",
              "      <td>0.0</td>\n",
              "      <td>0</td>\n",
              "      <td>1</td>\n",
              "      <td>1</td>\n",
              "      <td>0.0</td>\n",
              "      <td>0</td>\n",
              "      <td>1</td>\n",
              "      <td>0.0</td>\n",
              "      <td>0.0</td>\n",
              "      <td>0</td>\n",
              "      <td>0</td>\n",
              "      <td>0</td>\n",
              "      <td>0.0</td>\n",
              "      <td>0</td>\n",
              "      <td>0.0</td>\n",
              "      <td>0.0</td>\n",
              "      <td>0</td>\n",
              "      <td>0</td>\n",
              "      <td>0.0</td>\n",
              "      <td>0</td>\n",
              "      <td>0</td>\n",
              "      <td>0</td>\n",
              "      <td>0</td>\n",
              "      <td>0</td>\n",
              "      <td>0.0</td>\n",
              "      <td>590212</td>\n",
              "    </tr>\n",
              "    <tr>\n",
              "      <th>1521790</th>\n",
              "      <td>0</td>\n",
              "      <td>0</td>\n",
              "      <td>102</td>\n",
              "      <td>6862</td>\n",
              "      <td>0</td>\n",
              "      <td>60296</td>\n",
              "      <td>0</td>\n",
              "      <td>5</td>\n",
              "      <td>5</td>\n",
              "      <td>16158</td>\n",
              "      <td>0</td>\n",
              "      <td>0</td>\n",
              "      <td>0</td>\n",
              "      <td>0</td>\n",
              "      <td>0</td>\n",
              "      <td>59060</td>\n",
              "      <td>116168</td>\n",
              "      <td>457</td>\n",
              "      <td>0</td>\n",
              "      <td>162489</td>\n",
              "      <td>0.181818</td>\n",
              "      <td>0.181818</td>\n",
              "      <td>2</td>\n",
              "      <td>2</td>\n",
              "      <td>1.0</td>\n",
              "      <td>2</td>\n",
              "      <td>0.0</td>\n",
              "      <td>2</td>\n",
              "      <td>1</td>\n",
              "      <td>1</td>\n",
              "      <td>1</td>\n",
              "      <td>1</td>\n",
              "      <td>1</td>\n",
              "      <td>1</td>\n",
              "      <td>1</td>\n",
              "      <td>1</td>\n",
              "      <td>11.0</td>\n",
              "      <td>1</td>\n",
              "      <td>9.0</td>\n",
              "      <td>1</td>\n",
              "      <td>...</td>\n",
              "      <td>0</td>\n",
              "      <td>1</td>\n",
              "      <td>100</td>\n",
              "      <td>0.0</td>\n",
              "      <td>1</td>\n",
              "      <td>1.0</td>\n",
              "      <td>1</td>\n",
              "      <td>1</td>\n",
              "      <td>0.0</td>\n",
              "      <td>1</td>\n",
              "      <td>0.0</td>\n",
              "      <td>0</td>\n",
              "      <td>0.0</td>\n",
              "      <td>0</td>\n",
              "      <td>0.0</td>\n",
              "      <td>0</td>\n",
              "      <td>1</td>\n",
              "      <td>1</td>\n",
              "      <td>0.0</td>\n",
              "      <td>0</td>\n",
              "      <td>1</td>\n",
              "      <td>0.0</td>\n",
              "      <td>0.0</td>\n",
              "      <td>0</td>\n",
              "      <td>0</td>\n",
              "      <td>0</td>\n",
              "      <td>0.0</td>\n",
              "      <td>0</td>\n",
              "      <td>0.0</td>\n",
              "      <td>0.0</td>\n",
              "      <td>0</td>\n",
              "      <td>0</td>\n",
              "      <td>0.0</td>\n",
              "      <td>0</td>\n",
              "      <td>0</td>\n",
              "      <td>0</td>\n",
              "      <td>0</td>\n",
              "      <td>0</td>\n",
              "      <td>0.0</td>\n",
              "      <td>590209</td>\n",
              "    </tr>\n",
              "    <tr>\n",
              "      <th>1521791</th>\n",
              "      <td>0</td>\n",
              "      <td>0</td>\n",
              "      <td>102</td>\n",
              "      <td>6862</td>\n",
              "      <td>0</td>\n",
              "      <td>77933</td>\n",
              "      <td>0</td>\n",
              "      <td>5</td>\n",
              "      <td>5</td>\n",
              "      <td>16158</td>\n",
              "      <td>0</td>\n",
              "      <td>0</td>\n",
              "      <td>0</td>\n",
              "      <td>0</td>\n",
              "      <td>0</td>\n",
              "      <td>59060</td>\n",
              "      <td>116168</td>\n",
              "      <td>457</td>\n",
              "      <td>0</td>\n",
              "      <td>162489</td>\n",
              "      <td>0.181818</td>\n",
              "      <td>0.181818</td>\n",
              "      <td>2</td>\n",
              "      <td>2</td>\n",
              "      <td>1.0</td>\n",
              "      <td>2</td>\n",
              "      <td>0.0</td>\n",
              "      <td>2</td>\n",
              "      <td>1</td>\n",
              "      <td>1</td>\n",
              "      <td>1</td>\n",
              "      <td>1</td>\n",
              "      <td>1</td>\n",
              "      <td>1</td>\n",
              "      <td>1</td>\n",
              "      <td>1</td>\n",
              "      <td>11.0</td>\n",
              "      <td>1</td>\n",
              "      <td>9.0</td>\n",
              "      <td>1</td>\n",
              "      <td>...</td>\n",
              "      <td>0</td>\n",
              "      <td>1</td>\n",
              "      <td>102</td>\n",
              "      <td>0.0</td>\n",
              "      <td>1</td>\n",
              "      <td>1.0</td>\n",
              "      <td>1</td>\n",
              "      <td>1</td>\n",
              "      <td>0.0</td>\n",
              "      <td>1</td>\n",
              "      <td>0.0</td>\n",
              "      <td>0</td>\n",
              "      <td>0.0</td>\n",
              "      <td>0</td>\n",
              "      <td>0.0</td>\n",
              "      <td>0</td>\n",
              "      <td>1</td>\n",
              "      <td>1</td>\n",
              "      <td>0.0</td>\n",
              "      <td>0</td>\n",
              "      <td>1</td>\n",
              "      <td>0.0</td>\n",
              "      <td>0.0</td>\n",
              "      <td>0</td>\n",
              "      <td>0</td>\n",
              "      <td>0</td>\n",
              "      <td>0.0</td>\n",
              "      <td>0</td>\n",
              "      <td>0.0</td>\n",
              "      <td>0.0</td>\n",
              "      <td>0</td>\n",
              "      <td>0</td>\n",
              "      <td>0.0</td>\n",
              "      <td>0</td>\n",
              "      <td>0</td>\n",
              "      <td>0</td>\n",
              "      <td>0</td>\n",
              "      <td>0</td>\n",
              "      <td>0.0</td>\n",
              "      <td>592488</td>\n",
              "    </tr>\n",
              "  </tbody>\n",
              "</table>\n",
              "<p>5 rows × 99 columns</p>\n",
              "</div>"
            ],
            "text/plain": [
              "         stscd  ecfg  ...  cano_contp_3_norm_count   txkey\n",
              "1521787      0     0  ...                      0.0  592489\n",
              "1521788      0     0  ...                      0.0  592452\n",
              "1521789      0     0  ...                      0.0  590212\n",
              "1521790      0     0  ...                      0.0  590209\n",
              "1521791      0     0  ...                      0.0  592488\n",
              "\n",
              "[5 rows x 99 columns]"
            ]
          },
          "metadata": {
            "tags": []
          },
          "execution_count": 5
        }
      ]
    },
    {
      "cell_type": "markdown",
      "metadata": {
        "id": "5KiDwXIRULY6",
        "colab_type": "text"
      },
      "source": [
        "# 定義 features & cat_features & target"
      ]
    },
    {
      "cell_type": "code",
      "metadata": {
        "id": "s-q8x2kRUI3q",
        "colab_type": "code",
        "outputId": "7ca3bff0-71a7-4c7c-b077-7f9b9aec599c",
        "colab": {
          "base_uri": "https://localhost:8080/",
          "height": 90
        }
      },
      "source": [
        "# all features\n",
        "features = train.drop(['fraud_ind', # just target\n",
        "                       'txkey', # just like index\n",
        "                       'locdt',# just date\n",
        "                       ],axis=1).columns.tolist()\n",
        "\n",
        "# cat_features\n",
        "cat_features = sorted(list(set(features)&set(中文map.keys())))\n",
        "\n",
        "y_name = 'fraud_ind'\n",
        "\n",
        "print(len(features),features)\n",
        "print(len(cat_features),cat_features)\n",
        "print(len([y_name]),[y_name])"
      ],
      "execution_count": 6,
      "outputs": [
        {
          "output_type": "stream",
          "text": [
            "97 ['stscd', 'ecfg', 'stocn', 'acqic', 'etymd', 'loctm', 'scity', 'hcefg', 'contp', 'conam', 'insfg', 'ovrlt', 'flg_3dsmk', 'iterm', 'csmcu', 'mchno', 'cano', 'mcc', 'flbmk', 'bacno', 'cano_stscd_2_norm_count', 'bacno_stscd_2_norm_count', 'cano_stscd_nunique', 'bacno_stscd_nunique', 'cano_ecfg_0_norm_count', 'cano_stscd_2_count', 'bacno_ecfg_1_norm_count', 'bacno_stscd_2_count', 'cano_stocn_nunique', 'bacno_stocn_nunique', 'bacno_csmcu_nunique', 'cano_csmcu_nunique', 'cano_etymd_nunique', 'bacno_ecfg_nunique', 'bacno_scity_nunique', 'cano_ecfg_nunique', 'cano_ecfg_0_count', 'cano_mchno_nunique', 'cano_stscd_0_count', 'cano_insfg_nunique', 'cano_iterm_nunique', 'cano_scity_nunique', 'cano_contp_nunique', 'cano_contp_2_norm_count', 'bacno_ecfg_0_count', 'cano_hcefg_nunique', 'cano_contp_2_count', 'cano_mcc_nunique', 'cano_contp_5_norm_count', 'bacno_contp_2_norm_count', 'bacno_stscd_0_count', 'cano_ovrlt_1_norm_count', 'cano_flg_3dsmk_nunique', 'bacno_contp_5_norm_count', 'bacno_contp_2_count', 'cano_insfg_1_norm_count', 'bacno_ecfg_1_count', 'cano_iterm_1_norm_count', 'cano_flbmk_nunique', 'cano_iterm_1_count', 'bacno_ovrlt_nunique', 'cano_ecfg_1_count', 'bacno_iterm_nunique', 'bacno_insfg_0_norm_count', 'bacno_mcc_nunique', 'bacno_insfg_nunique', 'bacno_iterm_1_norm_count', 'cano_ovrlt_nunique', 'cano_iterm_2_norm_count', 'cano_iterm_4_count', 'cano_insfg_1_count', 'bacno_iterm_1_count', 'cano_stscd_1_norm_count', 'cano_contp_4_count', 'bacno_contp_nunique', 'bacno_etymd_nunique', 'bacno_stscd_1_norm_count', 'cano_ovrlt_1_count', 'bacno_flg_3dsmk_nunique', 'cano_iterm_4_norm_count', 'bacno_iterm_2_norm_count', 'bacno_contp_6_count', 'bacno_ovrlt_1_count', 'bacno_stscd_1_count', 'cano_contp_4_norm_count', 'cano_iterm_8_count', 'bacno_contp_4_norm_count', 'cano_iterm_2_count', 'bacno_contp_4_count', 'cano_iterm_7_count', 'bacno_iterm_4_norm_count', 'bacno_iterm_4_count', 'bacno_iterm_8_count', 'cano_stscd_1_count', 'cano_iterm_3_count', 'cano_iterm_6_count', 'cano_contp_3_norm_count']\n",
            "20 ['acqic', 'bacno', 'cano', 'conam', 'contp', 'csmcu', 'ecfg', 'etymd', 'flbmk', 'flg_3dsmk', 'hcefg', 'insfg', 'iterm', 'loctm', 'mcc', 'mchno', 'ovrlt', 'scity', 'stocn', 'stscd']\n",
            "1 ['fraud_ind']\n"
          ],
          "name": "stdout"
        }
      ]
    },
    {
      "cell_type": "markdown",
      "metadata": {
        "id": "BO0yLJEMU2GH",
        "colab_type": "text"
      },
      "source": [
        "# both / test"
      ]
    },
    {
      "cell_type": "code",
      "metadata": {
        "id": "t1wvSMLxUcI5",
        "colab_type": "code",
        "outputId": "e6a22f50-71da-4b06-8118-c82369e607c4",
        "colab": {
          "base_uri": "https://localhost:8080/",
          "height": 634
        }
      },
      "source": [
        "f = {}\n",
        "for col in cat_features:\n",
        "  both_value = set(train[col].unique())&set(test[col].unique())\n",
        "  f[col] = len(both_value)/len(test[col].unique())\n",
        "res = pd.DataFrame(f,index=['both/test']).T.sort_values(by='both/test',ascending=False)\n",
        "res['中文'] = res.index.map(中文map)\n",
        "res"
      ],
      "execution_count": 7,
      "outputs": [
        {
          "output_type": "execute_result",
          "data": {
            "text/html": [
              "<div>\n",
              "<style scoped>\n",
              "    .dataframe tbody tr th:only-of-type {\n",
              "        vertical-align: middle;\n",
              "    }\n",
              "\n",
              "    .dataframe tbody tr th {\n",
              "        vertical-align: top;\n",
              "    }\n",
              "\n",
              "    .dataframe thead th {\n",
              "        text-align: right;\n",
              "    }\n",
              "</style>\n",
              "<table border=\"1\" class=\"dataframe\">\n",
              "  <thead>\n",
              "    <tr style=\"text-align: right;\">\n",
              "      <th></th>\n",
              "      <th>both/test</th>\n",
              "      <th>中文</th>\n",
              "    </tr>\n",
              "  </thead>\n",
              "  <tbody>\n",
              "    <tr>\n",
              "      <th>stscd</th>\n",
              "      <td>1.000000</td>\n",
              "      <td>狀態碼</td>\n",
              "    </tr>\n",
              "    <tr>\n",
              "      <th>ovrlt</th>\n",
              "      <td>1.000000</td>\n",
              "      <td>超額註記碼</td>\n",
              "    </tr>\n",
              "    <tr>\n",
              "      <th>contp</th>\n",
              "      <td>1.000000</td>\n",
              "      <td>交易類別</td>\n",
              "    </tr>\n",
              "    <tr>\n",
              "      <th>ecfg</th>\n",
              "      <td>1.000000</td>\n",
              "      <td>網路交易註記</td>\n",
              "    </tr>\n",
              "    <tr>\n",
              "      <th>etymd</th>\n",
              "      <td>1.000000</td>\n",
              "      <td>交易型態</td>\n",
              "    </tr>\n",
              "    <tr>\n",
              "      <th>flbmk</th>\n",
              "      <td>1.000000</td>\n",
              "      <td>Fallback註記</td>\n",
              "    </tr>\n",
              "    <tr>\n",
              "      <th>flg_3dsmk</th>\n",
              "      <td>1.000000</td>\n",
              "      <td>3DS交易註記</td>\n",
              "    </tr>\n",
              "    <tr>\n",
              "      <th>insfg</th>\n",
              "      <td>1.000000</td>\n",
              "      <td>分期交易註記</td>\n",
              "    </tr>\n",
              "    <tr>\n",
              "      <th>iterm</th>\n",
              "      <td>1.000000</td>\n",
              "      <td>分期期數</td>\n",
              "    </tr>\n",
              "    <tr>\n",
              "      <th>loctm</th>\n",
              "      <td>0.990267</td>\n",
              "      <td>授權時間</td>\n",
              "    </tr>\n",
              "    <tr>\n",
              "      <th>stocn</th>\n",
              "      <td>0.931034</td>\n",
              "      <td>消費地國別</td>\n",
              "    </tr>\n",
              "    <tr>\n",
              "      <th>mcc</th>\n",
              "      <td>0.930108</td>\n",
              "      <td>MCC_CODE</td>\n",
              "    </tr>\n",
              "    <tr>\n",
              "      <th>csmcu</th>\n",
              "      <td>0.929825</td>\n",
              "      <td>消費地幣別</td>\n",
              "    </tr>\n",
              "    <tr>\n",
              "      <th>hcefg</th>\n",
              "      <td>0.900000</td>\n",
              "      <td>支付型態</td>\n",
              "    </tr>\n",
              "    <tr>\n",
              "      <th>acqic</th>\n",
              "      <td>0.782551</td>\n",
              "      <td>收單行代碼</td>\n",
              "    </tr>\n",
              "    <tr>\n",
              "      <th>mchno</th>\n",
              "      <td>0.704028</td>\n",
              "      <td>特店代號</td>\n",
              "    </tr>\n",
              "    <tr>\n",
              "      <th>scity</th>\n",
              "      <td>0.667833</td>\n",
              "      <td>消費城市</td>\n",
              "    </tr>\n",
              "    <tr>\n",
              "      <th>conam</th>\n",
              "      <td>0.582012</td>\n",
              "      <td>交易金額-台幣(經過轉換)</td>\n",
              "    </tr>\n",
              "    <tr>\n",
              "      <th>bacno</th>\n",
              "      <td>0.043995</td>\n",
              "      <td>歸戶帳號</td>\n",
              "    </tr>\n",
              "    <tr>\n",
              "      <th>cano</th>\n",
              "      <td>0.043349</td>\n",
              "      <td>交易卡號</td>\n",
              "    </tr>\n",
              "  </tbody>\n",
              "</table>\n",
              "</div>"
            ],
            "text/plain": [
              "           both/test             中文\n",
              "stscd       1.000000            狀態碼\n",
              "ovrlt       1.000000          超額註記碼\n",
              "contp       1.000000           交易類別\n",
              "ecfg        1.000000         網路交易註記\n",
              "etymd       1.000000           交易型態\n",
              "flbmk       1.000000     Fallback註記\n",
              "flg_3dsmk   1.000000        3DS交易註記\n",
              "insfg       1.000000         分期交易註記\n",
              "iterm       1.000000           分期期數\n",
              "loctm       0.990267           授權時間\n",
              "stocn       0.931034          消費地國別\n",
              "mcc         0.930108       MCC_CODE\n",
              "csmcu       0.929825          消費地幣別\n",
              "hcefg       0.900000           支付型態\n",
              "acqic       0.782551          收單行代碼\n",
              "mchno       0.704028           特店代號\n",
              "scity       0.667833           消費城市\n",
              "conam       0.582012  交易金額-台幣(經過轉換)\n",
              "bacno       0.043995           歸戶帳號\n",
              "cano        0.043349           交易卡號"
            ]
          },
          "metadata": {
            "tags": []
          },
          "execution_count": 7
        }
      ]
    },
    {
      "cell_type": "markdown",
      "metadata": {
        "id": "AwxZW4wUVJ7b",
        "colab_type": "text"
      },
      "source": [
        "# drop rare features"
      ]
    },
    {
      "cell_type": "code",
      "metadata": {
        "id": "b1CWi1f0VCKZ",
        "colab_type": "code",
        "outputId": "f565618f-d1a7-409a-dfb6-06a0ffe20929",
        "colab": {
          "base_uri": "https://localhost:8080/",
          "height": 52
        }
      },
      "source": [
        "print(len(features))\n",
        "try:\n",
        "  features.remove('bacno')\n",
        "  features.remove('cano')\n",
        "except:\n",
        "  pass\n",
        "print(len(features))"
      ],
      "execution_count": 8,
      "outputs": [
        {
          "output_type": "stream",
          "text": [
            "97\n",
            "95\n"
          ],
          "name": "stdout"
        }
      ]
    },
    {
      "cell_type": "code",
      "metadata": {
        "id": "ERFEZJFiVL5p",
        "colab_type": "code",
        "outputId": "6348f455-d09f-47d7-d7c5-7799849b596d",
        "colab": {
          "base_uri": "https://localhost:8080/",
          "height": 52
        }
      },
      "source": [
        "print(len(cat_features))\n",
        "try:\n",
        "  cat_features.remove('bacno')\n",
        "  cat_features.remove('cano')\n",
        "except:\n",
        "  pass\n",
        "print(len(cat_features))"
      ],
      "execution_count": 9,
      "outputs": [
        {
          "output_type": "stream",
          "text": [
            "20\n",
            "18\n"
          ],
          "name": "stdout"
        }
      ]
    },
    {
      "cell_type": "markdown",
      "metadata": {
        "id": "L3hXljHeVQw_",
        "colab_type": "text"
      },
      "source": [
        "# 切分 train 跟 val"
      ]
    },
    {
      "cell_type": "code",
      "metadata": {
        "id": "d0Avyx4xVNLu",
        "colab_type": "code",
        "colab": {}
      },
      "source": [
        "from sklearn.model_selection import KFold\n",
        "# random_seed影響Fold生成方式,進而影響train和val,進而影響train出來的model \n",
        "kf = KFold(n_splits = 5 ,random_state=random_seed)\n",
        "Folds = {}\n",
        "for i,train_val_index in enumerate(kf.split(train.index)):\n",
        "  Folds[i] = train_val_index"
      ],
      "execution_count": 0,
      "outputs": []
    },
    {
      "cell_type": "code",
      "metadata": {
        "id": "xlYR2IvHVSqD",
        "colab_type": "code",
        "colab": {}
      },
      "source": [
        "#num_Fold影響train,進而影響model\n",
        "train_index ,val_index = Folds[num_Fold]"
      ],
      "execution_count": 0,
      "outputs": []
    },
    {
      "cell_type": "code",
      "metadata": {
        "id": "l5IlJUShVVA0",
        "colab_type": "code",
        "colab": {}
      },
      "source": [
        "val = train.loc[val_index,features+[y_name]]\n",
        "train = train.loc[train_index,features+[y_name]]"
      ],
      "execution_count": 0,
      "outputs": []
    },
    {
      "cell_type": "markdown",
      "metadata": {
        "id": "iub0anLkVyit",
        "colab_type": "text"
      },
      "source": [
        "# val 再切分 val_1,val_2"
      ]
    },
    {
      "cell_type": "code",
      "metadata": {
        "id": "sBa-uXhwVW8S",
        "colab_type": "code",
        "outputId": "ec4f7f1a-9427-4acf-e408-a5a3ec30ec86",
        "colab": {
          "base_uri": "https://localhost:8080/",
          "height": 70
        }
      },
      "source": [
        "from sklearn.model_selection import train_test_split\n",
        "#random_seed影響切分方式,進而影響val_1,val_2,進而影響後續評分\n",
        "val_1 ,val_2 = train_test_split(val[features+[y_name]] ,test_size=0.5 ,random_state=random_seed)\n",
        "print(train.shape)\n",
        "print(val_1.shape)\n",
        "print(val_2.shape)"
      ],
      "execution_count": 13,
      "outputs": [
        {
          "output_type": "stream",
          "text": [
            "(1217430, 96)\n",
            "(152178, 96)\n",
            "(152179, 96)\n"
          ],
          "name": "stdout"
        }
      ]
    },
    {
      "cell_type": "markdown",
      "metadata": {
        "id": "EsjF-5t-V7oX",
        "colab_type": "text"
      },
      "source": [
        "# 計算class weight"
      ]
    },
    {
      "cell_type": "markdown",
      "metadata": {
        "id": "UZZY_fEHXd7i",
        "colab_type": "text"
      },
      "source": [
        "考慮到樣本class不平衡問題"
      ]
    },
    {
      "cell_type": "code",
      "metadata": {
        "id": "mzmuOqc6V4tv",
        "colab_type": "code",
        "outputId": "5ef88010-8976-4c17-d197-91ebb37d2bd8",
        "colab": {
          "base_uri": "https://localhost:8080/",
          "height": 35
        }
      },
      "source": [
        "from sklearn.utils.class_weight import compute_class_weight\n",
        "import numpy as np\n",
        "\n",
        "y_org = train[y_name].append(val[y_name])\n",
        "\n",
        "class_weight_dict = dict(zip([0,1],\n",
        "                             compute_class_weight(class_weight ='balanced',\n",
        "                                                  classes = np.unique(y_org),\n",
        "                                                  y = y_org)))\n",
        "class_weight_dict = list(class_weight_dict.values())\n",
        "class_weight_dict"
      ],
      "execution_count": 14,
      "outputs": [
        {
          "output_type": "execute_result",
          "data": {
            "text/plain": [
              "[0.5067785287645394, 37.381159420289855]"
            ]
          },
          "metadata": {
            "tags": []
          },
          "execution_count": 14
        }
      ]
    },
    {
      "cell_type": "markdown",
      "metadata": {
        "id": "PbDWTaaXvcjA",
        "colab_type": "text"
      },
      "source": [
        "# scaler 數值特徵"
      ]
    },
    {
      "cell_type": "code",
      "metadata": {
        "id": "kWWGrNvkvcqe",
        "colab_type": "code",
        "outputId": "847332a2-fc87-493a-8979-c3239ab70bf2",
        "colab": {
          "base_uri": "https://localhost:8080/",
          "height": 1000
        }
      },
      "source": [
        "#產生數值特徵列表\n",
        "num_feat = list(set(features)^set(cat_features))\n",
        "num_feat"
      ],
      "execution_count": 15,
      "outputs": [
        {
          "output_type": "execute_result",
          "data": {
            "text/plain": [
              "['cano_ovrlt_nunique',\n",
              " 'cano_stscd_1_count',\n",
              " 'cano_insfg_1_norm_count',\n",
              " 'bacno_stscd_1_count',\n",
              " 'bacno_contp_4_norm_count',\n",
              " 'bacno_contp_4_count',\n",
              " 'cano_etymd_nunique',\n",
              " 'bacno_stscd_0_count',\n",
              " 'bacno_insfg_0_norm_count',\n",
              " 'cano_flbmk_nunique',\n",
              " 'cano_iterm_4_norm_count',\n",
              " 'cano_iterm_2_norm_count',\n",
              " 'cano_ovrlt_1_norm_count',\n",
              " 'cano_iterm_2_count',\n",
              " 'cano_iterm_4_count',\n",
              " 'cano_ecfg_0_norm_count',\n",
              " 'bacno_ovrlt_nunique',\n",
              " 'cano_iterm_1_count',\n",
              " 'cano_mchno_nunique',\n",
              " 'bacno_iterm_2_norm_count',\n",
              " 'cano_iterm_8_count',\n",
              " 'cano_ecfg_nunique',\n",
              " 'cano_iterm_1_norm_count',\n",
              " 'cano_iterm_6_count',\n",
              " 'bacno_iterm_1_count',\n",
              " 'cano_stscd_nunique',\n",
              " 'bacno_csmcu_nunique',\n",
              " 'bacno_ovrlt_1_count',\n",
              " 'cano_contp_2_count',\n",
              " 'bacno_stscd_nunique',\n",
              " 'cano_insfg_nunique',\n",
              " 'bacno_contp_5_norm_count',\n",
              " 'cano_flg_3dsmk_nunique',\n",
              " 'cano_contp_2_norm_count',\n",
              " 'cano_ecfg_0_count',\n",
              " 'cano_scity_nunique',\n",
              " 'bacno_ecfg_nunique',\n",
              " 'bacno_contp_2_count',\n",
              " 'cano_iterm_nunique',\n",
              " 'cano_contp_nunique',\n",
              " 'bacno_etymd_nunique',\n",
              " 'bacno_mcc_nunique',\n",
              " 'bacno_iterm_4_count',\n",
              " 'bacno_stscd_2_count',\n",
              " 'bacno_stocn_nunique',\n",
              " 'cano_hcefg_nunique',\n",
              " 'cano_stscd_2_norm_count',\n",
              " 'cano_stscd_2_count',\n",
              " 'bacno_iterm_8_count',\n",
              " 'bacno_insfg_nunique',\n",
              " 'bacno_iterm_nunique',\n",
              " 'bacno_iterm_4_norm_count',\n",
              " 'cano_contp_4_norm_count',\n",
              " 'bacno_flg_3dsmk_nunique',\n",
              " 'bacno_ecfg_0_count',\n",
              " 'bacno_contp_6_count',\n",
              " 'cano_contp_3_norm_count',\n",
              " 'bacno_stscd_2_norm_count',\n",
              " 'cano_stscd_0_count',\n",
              " 'cano_insfg_1_count',\n",
              " 'cano_ecfg_1_count',\n",
              " 'bacno_stscd_1_norm_count',\n",
              " 'cano_contp_4_count',\n",
              " 'cano_iterm_7_count',\n",
              " 'bacno_scity_nunique',\n",
              " 'cano_ovrlt_1_count',\n",
              " 'bacno_ecfg_1_norm_count',\n",
              " 'cano_iterm_3_count',\n",
              " 'cano_stocn_nunique',\n",
              " 'bacno_ecfg_1_count',\n",
              " 'cano_csmcu_nunique',\n",
              " 'cano_mcc_nunique',\n",
              " 'bacno_iterm_1_norm_count',\n",
              " 'cano_stscd_1_norm_count',\n",
              " 'bacno_contp_2_norm_count',\n",
              " 'cano_contp_5_norm_count',\n",
              " 'bacno_contp_nunique']"
            ]
          },
          "metadata": {
            "tags": []
          },
          "execution_count": 15
        }
      ]
    },
    {
      "cell_type": "code",
      "metadata": {
        "id": "-YeHe79vv7-w",
        "colab_type": "code",
        "colab": {}
      },
      "source": [
        "from sklearn.preprocessing import StandardScaler\n",
        "# fit on \"full\" data's num_feat\n",
        "scaler =  StandardScaler().fit(train[num_feat].append(val[num_feat]).append(test[num_feat]))\n",
        "# transform \"each\" data's num_feat\n",
        "train[num_feat] = scaler.transform(train[num_feat])\n",
        "val_1[num_feat] = scaler.transform(val_1[num_feat])\n",
        "val_2[num_feat] = scaler.transform(val_2[num_feat])\n",
        "test[num_feat] = scaler.transform(test[num_feat])"
      ],
      "execution_count": 0,
      "outputs": []
    },
    {
      "cell_type": "code",
      "metadata": {
        "id": "-oYH9737wBLr",
        "colab_type": "code",
        "outputId": "131ec765-c5f1-4599-b573-bbb98a5d6d3a",
        "colab": {
          "base_uri": "https://localhost:8080/",
          "height": 35
        }
      },
      "source": [
        "import gc\n",
        "gc.collect()"
      ],
      "execution_count": 17,
      "outputs": [
        {
          "output_type": "execute_result",
          "data": {
            "text/plain": [
              "0"
            ]
          },
          "metadata": {
            "tags": []
          },
          "execution_count": 17
        }
      ]
    },
    {
      "cell_type": "markdown",
      "metadata": {
        "id": "WgzG4ZFkWXOM",
        "colab_type": "text"
      },
      "source": [
        "# modelling"
      ]
    },
    {
      "cell_type": "markdown",
      "metadata": {
        "id": "niNIImHdAo9D",
        "colab_type": "text"
      },
      "source": [
        "準備類別特徵"
      ]
    },
    {
      "cell_type": "code",
      "metadata": {
        "id": "FrB3R9ZkwZKJ",
        "colab_type": "code",
        "outputId": "344c53f9-2590-450a-a269-7caeaa255f31",
        "colab": {
          "base_uri": "https://localhost:8080/",
          "height": 604
        }
      },
      "source": [
        "train[features].columns"
      ],
      "execution_count": 18,
      "outputs": [
        {
          "output_type": "execute_result",
          "data": {
            "text/plain": [
              "Index(['stscd', 'ecfg', 'stocn', 'acqic', 'etymd', 'loctm', 'scity', 'hcefg',\n",
              "       'contp', 'conam', 'insfg', 'ovrlt', 'flg_3dsmk', 'iterm', 'csmcu',\n",
              "       'mchno', 'mcc', 'flbmk', 'cano_stscd_2_norm_count',\n",
              "       'bacno_stscd_2_norm_count', 'cano_stscd_nunique', 'bacno_stscd_nunique',\n",
              "       'cano_ecfg_0_norm_count', 'cano_stscd_2_count',\n",
              "       'bacno_ecfg_1_norm_count', 'bacno_stscd_2_count', 'cano_stocn_nunique',\n",
              "       'bacno_stocn_nunique', 'bacno_csmcu_nunique', 'cano_csmcu_nunique',\n",
              "       'cano_etymd_nunique', 'bacno_ecfg_nunique', 'bacno_scity_nunique',\n",
              "       'cano_ecfg_nunique', 'cano_ecfg_0_count', 'cano_mchno_nunique',\n",
              "       'cano_stscd_0_count', 'cano_insfg_nunique', 'cano_iterm_nunique',\n",
              "       'cano_scity_nunique', 'cano_contp_nunique', 'cano_contp_2_norm_count',\n",
              "       'bacno_ecfg_0_count', 'cano_hcefg_nunique', 'cano_contp_2_count',\n",
              "       'cano_mcc_nunique', 'cano_contp_5_norm_count',\n",
              "       'bacno_contp_2_norm_count', 'bacno_stscd_0_count',\n",
              "       'cano_ovrlt_1_norm_count', 'cano_flg_3dsmk_nunique',\n",
              "       'bacno_contp_5_norm_count', 'bacno_contp_2_count',\n",
              "       'cano_insfg_1_norm_count', 'bacno_ecfg_1_count',\n",
              "       'cano_iterm_1_norm_count', 'cano_flbmk_nunique', 'cano_iterm_1_count',\n",
              "       'bacno_ovrlt_nunique', 'cano_ecfg_1_count', 'bacno_iterm_nunique',\n",
              "       'bacno_insfg_0_norm_count', 'bacno_mcc_nunique', 'bacno_insfg_nunique',\n",
              "       'bacno_iterm_1_norm_count', 'cano_ovrlt_nunique',\n",
              "       'cano_iterm_2_norm_count', 'cano_iterm_4_count', 'cano_insfg_1_count',\n",
              "       'bacno_iterm_1_count', 'cano_stscd_1_norm_count', 'cano_contp_4_count',\n",
              "       'bacno_contp_nunique', 'bacno_etymd_nunique',\n",
              "       'bacno_stscd_1_norm_count', 'cano_ovrlt_1_count',\n",
              "       'bacno_flg_3dsmk_nunique', 'cano_iterm_4_norm_count',\n",
              "       'bacno_iterm_2_norm_count', 'bacno_contp_6_count',\n",
              "       'bacno_ovrlt_1_count', 'bacno_stscd_1_count', 'cano_contp_4_norm_count',\n",
              "       'cano_iterm_8_count', 'bacno_contp_4_norm_count', 'cano_iterm_2_count',\n",
              "       'bacno_contp_4_count', 'cano_iterm_7_count', 'bacno_iterm_4_norm_count',\n",
              "       'bacno_iterm_4_count', 'bacno_iterm_8_count', 'cano_stscd_1_count',\n",
              "       'cano_iterm_3_count', 'cano_iterm_6_count', 'cano_contp_3_norm_count'],\n",
              "      dtype='object')"
            ]
          },
          "metadata": {
            "tags": []
          },
          "execution_count": 18
        }
      ]
    },
    {
      "cell_type": "code",
      "metadata": {
        "id": "8FbdGM3bWDYN",
        "colab_type": "code",
        "outputId": "b8608947-f29f-4db2-c4e6-6421d20c93c8",
        "colab": {
          "base_uri": "https://localhost:8080/",
          "height": 52
        }
      },
      "source": [
        "#類別特徵索引\n",
        "cate_features_index = np.where(train[features].dtypes != float)[0]\n",
        "cate_features_index"
      ],
      "execution_count": 19,
      "outputs": [
        {
          "output_type": "execute_result",
          "data": {
            "text/plain": [
              "array([ 0,  1,  2,  3,  4,  5,  6,  7,  8,  9, 10, 11, 12, 13, 14, 15, 16,\n",
              "       17])"
            ]
          },
          "metadata": {
            "tags": []
          },
          "execution_count": 19
        }
      ]
    },
    {
      "cell_type": "markdown",
      "metadata": {
        "id": "jTN-xS8_AhdG",
        "colab_type": "text"
      },
      "source": [
        "# 定義模型"
      ]
    },
    {
      "cell_type": "code",
      "metadata": {
        "id": "bEefAuLjWuzD",
        "colab_type": "code",
        "colab": {}
      },
      "source": [
        "from catboost import CatBoostClassifier\n",
        "model = CatBoostClassifier(\n",
        "    class_weights = [1.0,2.5],#因為樣本不平衡,盜刷樣本比較少\n",
        "    #learning_rate = 0.1/2, #學習率,不設定catboost會自己set\n",
        "    iterations = 250,# 跑幾次迭代,250次,省時間\n",
        "    loss_function = 'Logloss',#因為是二分類問題\n",
        "    eval_metric = 'F1',#主辦單位指定評估指標\n",
        "    use_best_model = True,#使用最好model\n",
        "    random_seed = random_seed,#設定隨機種子\n",
        "    task_type=\"GPU\",#用GPU加速\n",
        "    )"
      ],
      "execution_count": 0,
      "outputs": []
    },
    {
      "cell_type": "markdown",
      "metadata": {
        "id": "kicMO21dAmXq",
        "colab_type": "text"
      },
      "source": [
        "# 訓練"
      ]
    },
    {
      "cell_type": "code",
      "metadata": {
        "id": "VM4-5lmmXv97",
        "colab_type": "code",
        "outputId": "d925a600-1a7a-49fc-9257-bbe023dd92fb",
        "colab": {
          "base_uri": "https://localhost:8080/",
          "height": 1000
        }
      },
      "source": [
        "model.fit(train[features],train[y_name], #訓練資料\n",
        "          eval_set = (val_1[features],val_1[y_name]), #val_1當驗證資料\n",
        "          cat_features = cate_features_index, #指定類別特徵索引\n",
        "          )"
      ],
      "execution_count": 21,
      "outputs": [
        {
          "output_type": "stream",
          "text": [
            "Learning rate set to 0.297786\n",
            "0:\tlearn: 0.6637846\ttest: 0.6799145\tbest: 0.6799145 (0)\ttotal: 347ms\tremaining: 1m 26s\n",
            "1:\tlearn: 0.6746568\ttest: 0.6933225\tbest: 0.6933225 (1)\ttotal: 663ms\tremaining: 1m 22s\n",
            "2:\tlearn: 0.6804159\ttest: 0.6954159\tbest: 0.6954159 (2)\ttotal: 896ms\tremaining: 1m 13s\n",
            "3:\tlearn: 0.6889582\ttest: 0.7049190\tbest: 0.7049190 (3)\ttotal: 1.17s\tremaining: 1m 11s\n",
            "4:\tlearn: 0.6926542\ttest: 0.7054037\tbest: 0.7054037 (4)\ttotal: 1.45s\tremaining: 1m 11s\n",
            "5:\tlearn: 0.6941370\ttest: 0.7081926\tbest: 0.7081926 (5)\ttotal: 1.66s\tremaining: 1m 7s\n",
            "6:\tlearn: 0.7055117\ttest: 0.7147758\tbest: 0.7147758 (6)\ttotal: 2s\tremaining: 1m 9s\n",
            "7:\tlearn: 0.7143156\ttest: 0.7274983\tbest: 0.7274983 (7)\ttotal: 2.32s\tremaining: 1m 10s\n",
            "8:\tlearn: 0.7168409\ttest: 0.7312409\tbest: 0.7312409 (8)\ttotal: 2.67s\tremaining: 1m 11s\n",
            "9:\tlearn: 0.7207514\ttest: 0.7311586\tbest: 0.7312409 (8)\ttotal: 2.94s\tremaining: 1m 10s\n",
            "10:\tlearn: 0.7254852\ttest: 0.7402048\tbest: 0.7402048 (10)\ttotal: 3.25s\tremaining: 1m 10s\n",
            "11:\tlearn: 0.7283566\ttest: 0.7419983\tbest: 0.7419983 (11)\ttotal: 3.5s\tremaining: 1m 9s\n",
            "12:\tlearn: 0.7305159\ttest: 0.7424943\tbest: 0.7424943 (12)\ttotal: 3.8s\tremaining: 1m 9s\n",
            "13:\tlearn: 0.7350945\ttest: 0.7453209\tbest: 0.7453209 (13)\ttotal: 4.09s\tremaining: 1m 9s\n",
            "14:\tlearn: 0.7386538\ttest: 0.7493196\tbest: 0.7493196 (14)\ttotal: 4.38s\tremaining: 1m 8s\n",
            "15:\tlearn: 0.7424425\ttest: 0.7532582\tbest: 0.7532582 (15)\ttotal: 4.66s\tremaining: 1m 8s\n",
            "16:\tlearn: 0.7439039\ttest: 0.7562562\tbest: 0.7562562 (16)\ttotal: 4.95s\tremaining: 1m 7s\n",
            "17:\tlearn: 0.7457309\ttest: 0.7599890\tbest: 0.7599890 (17)\ttotal: 5.23s\tremaining: 1m 7s\n",
            "18:\tlearn: 0.7472362\ttest: 0.7617790\tbest: 0.7617790 (18)\ttotal: 5.52s\tremaining: 1m 7s\n",
            "19:\tlearn: 0.7484453\ttest: 0.7641598\tbest: 0.7641598 (19)\ttotal: 5.85s\tremaining: 1m 7s\n",
            "20:\tlearn: 0.7504702\ttest: 0.7663531\tbest: 0.7663531 (20)\ttotal: 6.18s\tremaining: 1m 7s\n",
            "21:\tlearn: 0.7514357\ttest: 0.7671972\tbest: 0.7671972 (21)\ttotal: 6.43s\tremaining: 1m 6s\n",
            "22:\tlearn: 0.7526007\ttest: 0.7683846\tbest: 0.7683846 (22)\ttotal: 6.62s\tremaining: 1m 5s\n",
            "23:\tlearn: 0.7518011\ttest: 0.7689769\tbest: 0.7689769 (23)\ttotal: 6.92s\tremaining: 1m 5s\n",
            "24:\tlearn: 0.7522490\ttest: 0.7691462\tbest: 0.7691462 (24)\ttotal: 7.25s\tremaining: 1m 5s\n",
            "25:\tlearn: 0.7555387\ttest: 0.7719260\tbest: 0.7719260 (25)\ttotal: 7.57s\tremaining: 1m 5s\n",
            "26:\tlearn: 0.7560196\ttest: 0.7722642\tbest: 0.7722642 (26)\ttotal: 7.84s\tremaining: 1m 4s\n",
            "27:\tlearn: 0.7581393\ttest: 0.7720951\tbest: 0.7722642 (26)\ttotal: 8.18s\tremaining: 1m 4s\n",
            "28:\tlearn: 0.7587371\ttest: 0.7729363\tbest: 0.7729363 (28)\ttotal: 8.44s\tremaining: 1m 4s\n",
            "29:\tlearn: 0.7594313\ttest: 0.7733508\tbest: 0.7733508 (29)\ttotal: 8.73s\tremaining: 1m 4s\n",
            "30:\tlearn: 0.7612839\ttest: 0.7749400\tbest: 0.7749400 (30)\ttotal: 9.05s\tremaining: 1m 3s\n",
            "31:\tlearn: 0.7625510\ttest: 0.7737673\tbest: 0.7749400 (30)\ttotal: 9.36s\tremaining: 1m 3s\n",
            "32:\tlearn: 0.7630993\ttest: 0.7747748\tbest: 0.7749400 (30)\ttotal: 9.67s\tremaining: 1m 3s\n",
            "33:\tlearn: 0.7630641\ttest: 0.7749440\tbest: 0.7749440 (33)\ttotal: 9.9s\tremaining: 1m 2s\n",
            "34:\tlearn: 0.7646877\ttest: 0.7778686\tbest: 0.7778686 (34)\ttotal: 10.2s\tremaining: 1m 2s\n",
            "35:\tlearn: 0.7653511\ttest: 0.7781105\tbest: 0.7781105 (35)\ttotal: 10.5s\tremaining: 1m 2s\n",
            "36:\tlearn: 0.7674342\ttest: 0.7793550\tbest: 0.7793550 (36)\ttotal: 10.8s\tremaining: 1m 2s\n",
            "37:\tlearn: 0.7690348\ttest: 0.7792773\tbest: 0.7793550 (36)\ttotal: 11.1s\tremaining: 1m 1s\n",
            "38:\tlearn: 0.7688384\ttest: 0.7792916\tbest: 0.7793550 (36)\ttotal: 11.4s\tremaining: 1m 1s\n",
            "39:\tlearn: 0.7694063\ttest: 0.7791357\tbest: 0.7793550 (36)\ttotal: 11.7s\tremaining: 1m 1s\n",
            "40:\tlearn: 0.7693960\ttest: 0.7778870\tbest: 0.7793550 (36)\ttotal: 12s\tremaining: 1m 1s\n",
            "41:\tlearn: 0.7696544\ttest: 0.7788094\tbest: 0.7793550 (36)\ttotal: 12.3s\tremaining: 1m\n",
            "42:\tlearn: 0.7696751\ttest: 0.7794833\tbest: 0.7794833 (42)\ttotal: 12.6s\tremaining: 1m\n",
            "43:\tlearn: 0.7696029\ttest: 0.7789013\tbest: 0.7794833 (42)\ttotal: 12.8s\tremaining: 59.9s\n",
            "44:\tlearn: 0.7706575\ttest: 0.7791569\tbest: 0.7794833 (42)\ttotal: 13.1s\tremaining: 59.5s\n",
            "45:\tlearn: 0.7711334\ttest: 0.7795051\tbest: 0.7795051 (45)\ttotal: 13.4s\tremaining: 59.5s\n",
            "46:\tlearn: 0.7717841\ttest: 0.7792563\tbest: 0.7795051 (45)\ttotal: 13.7s\tremaining: 59.3s\n",
            "47:\tlearn: 0.7718673\ttest: 0.7793417\tbest: 0.7795051 (45)\ttotal: 14s\tremaining: 59.1s\n",
            "48:\tlearn: 0.7726106\ttest: 0.7796759\tbest: 0.7796759 (48)\ttotal: 14.3s\tremaining: 58.6s\n",
            "49:\tlearn: 0.7733942\ttest: 0.7796759\tbest: 0.7796759 (48)\ttotal: 14.6s\tremaining: 58.3s\n",
            "50:\tlearn: 0.7738978\ttest: 0.7783316\tbest: 0.7796759 (48)\ttotal: 14.8s\tremaining: 57.9s\n",
            "51:\tlearn: 0.7746517\ttest: 0.7784103\tbest: 0.7796759 (48)\ttotal: 15.1s\tremaining: 57.6s\n",
            "52:\tlearn: 0.7753399\ttest: 0.7790927\tbest: 0.7796759 (48)\ttotal: 15.4s\tremaining: 57.1s\n",
            "53:\tlearn: 0.7756192\ttest: 0.7796908\tbest: 0.7796908 (53)\ttotal: 15.6s\tremaining: 56.7s\n",
            "54:\tlearn: 0.7759048\ttest: 0.7802740\tbest: 0.7802740 (54)\ttotal: 15.9s\tremaining: 56.3s\n",
            "55:\tlearn: 0.7763169\ttest: 0.7802740\tbest: 0.7802740 (54)\ttotal: 16.2s\tremaining: 56s\n",
            "56:\tlearn: 0.7764706\ttest: 0.7802740\tbest: 0.7802740 (54)\ttotal: 16.5s\tremaining: 55.8s\n",
            "57:\tlearn: 0.7767576\ttest: 0.7803516\tbest: 0.7803516 (57)\ttotal: 16.8s\tremaining: 55.6s\n",
            "58:\tlearn: 0.7769612\ttest: 0.7809336\tbest: 0.7809336 (58)\ttotal: 17s\tremaining: 55.1s\n",
            "59:\tlearn: 0.7776476\ttest: 0.7836168\tbest: 0.7836168 (59)\ttotal: 17.3s\tremaining: 54.7s\n",
            "60:\tlearn: 0.7780752\ttest: 0.7841207\tbest: 0.7841207 (60)\ttotal: 17.6s\tremaining: 54.4s\n",
            "61:\tlearn: 0.7788062\ttest: 0.7842816\tbest: 0.7842816 (61)\ttotal: 17.9s\tremaining: 54.1s\n",
            "62:\tlearn: 0.7793884\ttest: 0.7841746\tbest: 0.7842816 (61)\ttotal: 18.2s\tremaining: 54s\n",
            "63:\tlearn: 0.7802157\ttest: 0.7845919\tbest: 0.7845919 (63)\ttotal: 18.5s\tremaining: 53.8s\n",
            "64:\tlearn: 0.7801210\ttest: 0.7840890\tbest: 0.7845919 (63)\ttotal: 18.8s\tremaining: 53.6s\n",
            "65:\tlearn: 0.7817409\ttest: 0.7841640\tbest: 0.7845919 (63)\ttotal: 19.1s\tremaining: 53.3s\n",
            "66:\tlearn: 0.7817837\ttest: 0.7837469\tbest: 0.7845919 (63)\ttotal: 19.4s\tremaining: 53.1s\n",
            "67:\tlearn: 0.7821400\ttest: 0.7834051\tbest: 0.7845919 (63)\ttotal: 19.8s\tremaining: 52.9s\n",
            "68:\tlearn: 0.7826562\ttest: 0.7843137\tbest: 0.7845919 (63)\ttotal: 20s\tremaining: 52.5s\n",
            "69:\tlearn: 0.7827374\ttest: 0.7842283\tbest: 0.7845919 (63)\ttotal: 20.3s\tremaining: 52.3s\n",
            "70:\tlearn: 0.7838094\ttest: 0.7834152\tbest: 0.7845919 (63)\ttotal: 20.7s\tremaining: 52.1s\n",
            "71:\tlearn: 0.7836828\ttest: 0.7855001\tbest: 0.7855001 (71)\ttotal: 20.9s\tremaining: 51.7s\n",
            "72:\tlearn: 0.7844600\ttest: 0.7855858\tbest: 0.7855858 (72)\ttotal: 21.2s\tremaining: 51.3s\n",
            "73:\tlearn: 0.7839595\ttest: 0.7867619\tbest: 0.7867619 (73)\ttotal: 21.4s\tremaining: 50.9s\n",
            "74:\tlearn: 0.7841530\ttest: 0.7869335\tbest: 0.7869335 (74)\ttotal: 21.7s\tremaining: 50.6s\n",
            "75:\tlearn: 0.7847120\ttest: 0.7865046\tbest: 0.7869335 (74)\ttotal: 21.9s\tremaining: 50.2s\n",
            "76:\tlearn: 0.7853020\ttest: 0.7875687\tbest: 0.7875687 (76)\ttotal: 22.3s\tremaining: 50s\n",
            "77:\tlearn: 0.7853069\ttest: 0.7878392\tbest: 0.7878392 (77)\ttotal: 22.5s\tremaining: 49.6s\n",
            "78:\tlearn: 0.7852378\ttest: 0.7879250\tbest: 0.7879250 (78)\ttotal: 22.8s\tremaining: 49.3s\n",
            "79:\tlearn: 0.7856701\ttest: 0.7877533\tbest: 0.7879250 (78)\ttotal: 23.1s\tremaining: 49.1s\n",
            "80:\tlearn: 0.7857533\ttest: 0.7885129\tbest: 0.7885129 (80)\ttotal: 23.4s\tremaining: 48.8s\n",
            "81:\tlearn: 0.7865842\ttest: 0.7880968\tbest: 0.7885129 (80)\ttotal: 23.6s\tremaining: 48.4s\n",
            "82:\tlearn: 0.7868460\ttest: 0.7880242\tbest: 0.7885129 (80)\ttotal: 23.8s\tremaining: 48s\n",
            "83:\tlearn: 0.7868820\ttest: 0.7867868\tbest: 0.7885129 (80)\ttotal: 24.1s\tremaining: 47.7s\n",
            "84:\tlearn: 0.7872563\ttest: 0.7886263\tbest: 0.7886263 (84)\ttotal: 24.4s\tremaining: 47.4s\n",
            "85:\tlearn: 0.7875437\ttest: 0.7891290\tbest: 0.7891290 (85)\ttotal: 24.7s\tremaining: 47s\n",
            "86:\tlearn: 0.7881918\ttest: 0.7890288\tbest: 0.7891290 (85)\ttotal: 25s\tremaining: 46.8s\n",
            "87:\tlearn: 0.7881928\ttest: 0.7884542\tbest: 0.7891290 (85)\ttotal: 25.3s\tremaining: 46.6s\n",
            "88:\tlearn: 0.7886872\ttest: 0.7878059\tbest: 0.7891290 (85)\ttotal: 25.6s\tremaining: 46.2s\n",
            "89:\tlearn: 0.7891620\ttest: 0.7895455\tbest: 0.7895455 (89)\ttotal: 25.9s\tremaining: 46s\n",
            "90:\tlearn: 0.7894299\ttest: 0.7891290\tbest: 0.7895455 (89)\ttotal: 26.2s\tremaining: 45.7s\n",
            "91:\tlearn: 0.7904868\ttest: 0.7902056\tbest: 0.7902056 (91)\ttotal: 26.4s\tremaining: 45.4s\n",
            "92:\tlearn: 0.7909221\ttest: 0.7908497\tbest: 0.7908497 (92)\ttotal: 26.7s\tremaining: 45.1s\n",
            "93:\tlearn: 0.7907651\ttest: 0.7902620\tbest: 0.7908497 (92)\ttotal: 27s\tremaining: 44.9s\n",
            "94:\tlearn: 0.7914894\ttest: 0.7912650\tbest: 0.7912650 (94)\ttotal: 27.4s\tremaining: 44.7s\n",
            "95:\tlearn: 0.7919167\ttest: 0.7915237\tbest: 0.7915237 (95)\ttotal: 27.7s\tremaining: 44.5s\n",
            "96:\tlearn: 0.7921404\ttest: 0.7906926\tbest: 0.7915237 (95)\ttotal: 28s\tremaining: 44.2s\n",
            "97:\tlearn: 0.7922753\ttest: 0.7915395\tbest: 0.7915395 (97)\ttotal: 28.3s\tremaining: 43.8s\n",
            "98:\tlearn: 0.7927036\ttest: 0.7910375\tbest: 0.7915395 (97)\ttotal: 28.5s\tremaining: 43.5s\n",
            "99:\tlearn: 0.7929378\ttest: 0.7908803\tbest: 0.7915395 (97)\ttotal: 28.8s\tremaining: 43.2s\n",
            "100:\tlearn: 0.7932057\ttest: 0.7907941\tbest: 0.7915395 (97)\ttotal: 29.1s\tremaining: 42.9s\n",
            "101:\tlearn: 0.7933956\ttest: 0.7910375\tbest: 0.7915395 (97)\ttotal: 29.4s\tremaining: 42.7s\n",
            "102:\tlearn: 0.7934462\ttest: 0.7909512\tbest: 0.7915395 (97)\ttotal: 29.7s\tremaining: 42.3s\n",
            "103:\tlearn: 0.7933787\ttest: 0.7911082\tbest: 0.7915395 (97)\ttotal: 29.8s\tremaining: 41.9s\n",
            "104:\tlearn: 0.7935327\ttest: 0.7919229\tbest: 0.7919229 (104)\ttotal: 30.2s\tremaining: 41.7s\n",
            "105:\tlearn: 0.7939462\ttest: 0.7915079\tbest: 0.7919229 (104)\ttotal: 30.5s\tremaining: 41.4s\n",
            "106:\tlearn: 0.7942142\ttest: 0.7916644\tbest: 0.7919229 (104)\ttotal: 30.8s\tremaining: 41.1s\n",
            "107:\tlearn: 0.7946690\ttest: 0.7915783\tbest: 0.7919229 (104)\ttotal: 31.1s\tremaining: 40.9s\n",
            "108:\tlearn: 0.7954900\ttest: 0.7928222\tbest: 0.7928222 (108)\ttotal: 31.4s\tremaining: 40.7s\n",
            "109:\tlearn: 0.7956310\ttest: 0.7912495\tbest: 0.7928222 (108)\ttotal: 31.8s\tremaining: 40.4s\n",
            "110:\tlearn: 0.7958808\ttest: 0.7927360\tbest: 0.7928222 (108)\ttotal: 32.1s\tremaining: 40.2s\n",
            "111:\tlearn: 0.7960007\ttest: 0.7926663\tbest: 0.7928222 (108)\ttotal: 32.4s\tremaining: 39.9s\n",
            "112:\tlearn: 0.7963791\ttest: 0.7924077\tbest: 0.7928222 (108)\ttotal: 32.7s\tremaining: 39.6s\n",
            "113:\tlearn: 0.7965283\ttest: 0.7923215\tbest: 0.7928222 (108)\ttotal: 32.9s\tremaining: 39.3s\n",
            "114:\tlearn: 0.7966882\ttest: 0.7928222\tbest: 0.7928222 (108)\ttotal: 33.2s\tremaining: 39s\n",
            "115:\tlearn: 0.7963332\ttest: 0.7921654\tbest: 0.7928222 (108)\ttotal: 33.5s\tremaining: 38.7s\n",
            "116:\tlearn: 0.7965484\ttest: 0.7934954\tbest: 0.7934954 (116)\ttotal: 33.8s\tremaining: 38.4s\n",
            "117:\tlearn: 0.7971231\ttest: 0.7930978\tbest: 0.7934954 (116)\ttotal: 34.1s\tremaining: 38.1s\n",
            "118:\tlearn: 0.7974915\ttest: 0.7939447\tbest: 0.7939447 (118)\ttotal: 34.4s\tremaining: 37.9s\n",
            "119:\tlearn: 0.7975680\ttest: 0.7942907\tbest: 0.7942907 (119)\ttotal: 34.8s\tremaining: 37.6s\n",
            "120:\tlearn: 0.7977650\ttest: 0.7940312\tbest: 0.7942907 (119)\ttotal: 35.1s\tremaining: 37.4s\n",
            "121:\tlearn: 0.7980760\ttest: 0.7944638\tbest: 0.7944638 (121)\ttotal: 35.3s\tremaining: 37s\n",
            "122:\tlearn: 0.7981183\ttest: 0.7944638\tbest: 0.7944638 (121)\ttotal: 35.6s\tremaining: 36.7s\n",
            "123:\tlearn: 0.7985114\ttest: 0.7931316\tbest: 0.7944638 (121)\ttotal: 35.9s\tremaining: 36.5s\n",
            "124:\tlearn: 0.7986758\ttest: 0.7937027\tbest: 0.7944638 (121)\ttotal: 36.2s\tremaining: 36.2s\n",
            "125:\tlearn: 0.7995992\ttest: 0.7953433\tbest: 0.7953433 (125)\ttotal: 36.5s\tremaining: 35.9s\n",
            "126:\tlearn: 0.7996019\ttest: 0.7959117\tbest: 0.7959117 (126)\ttotal: 36.8s\tremaining: 35.6s\n",
            "127:\tlearn: 0.7995726\ttest: 0.7963255\tbest: 0.7963255 (127)\ttotal: 37s\tremaining: 35.3s\n",
            "128:\tlearn: 0.7996973\ttest: 0.7951886\tbest: 0.7963255 (127)\ttotal: 37.3s\tremaining: 35s\n",
            "129:\tlearn: 0.7997159\ttest: 0.7952752\tbest: 0.7963255 (127)\ttotal: 37.5s\tremaining: 34.7s\n",
            "130:\tlearn: 0.7998460\ttest: 0.7949290\tbest: 0.7963255 (127)\ttotal: 37.9s\tremaining: 34.4s\n",
            "131:\tlearn: 0.7999681\ttest: 0.7948606\tbest: 0.7963255 (127)\ttotal: 38.1s\tremaining: 34.1s\n",
            "132:\tlearn: 0.8001858\ttest: 0.7948606\tbest: 0.7963255 (127)\ttotal: 38.4s\tremaining: 33.8s\n",
            "133:\tlearn: 0.8003875\ttest: 0.7946876\tbest: 0.7963255 (127)\ttotal: 38.7s\tremaining: 33.5s\n",
            "134:\tlearn: 0.8007192\ttest: 0.7950155\tbest: 0.7963255 (127)\ttotal: 39s\tremaining: 33.2s\n",
            "135:\tlearn: 0.8018349\ttest: 0.7952936\tbest: 0.7963255 (127)\ttotal: 39.3s\tremaining: 33s\n",
            "136:\tlearn: 0.8021511\ttest: 0.7944460\tbest: 0.7963255 (127)\ttotal: 39.6s\tremaining: 32.7s\n",
            "137:\tlearn: 0.8022440\ttest: 0.7944460\tbest: 0.7963255 (127)\ttotal: 40s\tremaining: 32.4s\n",
            "138:\tlearn: 0.8028955\ttest: 0.7948788\tbest: 0.7963255 (127)\ttotal: 40.2s\tremaining: 32.1s\n",
            "139:\tlearn: 0.8029062\ttest: 0.7945504\tbest: 0.7963255 (127)\ttotal: 40.5s\tremaining: 31.8s\n",
            "140:\tlearn: 0.8030174\ttest: 0.7947236\tbest: 0.7963255 (127)\ttotal: 40.7s\tremaining: 31.5s\n",
            "141:\tlearn: 0.8033193\ttest: 0.7946190\tbest: 0.7963255 (127)\ttotal: 41.1s\tremaining: 31.2s\n",
            "142:\tlearn: 0.8033057\ttest: 0.7952070\tbest: 0.7963255 (127)\ttotal: 41.3s\tremaining: 30.9s\n",
            "143:\tlearn: 0.8041027\ttest: 0.7961714\tbest: 0.7963255 (127)\ttotal: 41.7s\tremaining: 30.7s\n",
            "144:\tlearn: 0.8045429\ttest: 0.7967976\tbest: 0.7967976 (144)\ttotal: 42s\tremaining: 30.4s\n",
            "145:\tlearn: 0.8051883\ttest: 0.7972789\tbest: 0.7972789 (145)\ttotal: 42.3s\tremaining: 30.1s\n",
            "146:\tlearn: 0.8054927\ttest: 0.7979534\tbest: 0.7979534 (146)\ttotal: 42.6s\tremaining: 29.9s\n",
            "147:\tlearn: 0.8056370\ttest: 0.7975393\tbest: 0.7979534 (146)\ttotal: 43s\tremaining: 29.6s\n",
            "148:\tlearn: 0.8053829\ttest: 0.7982805\tbest: 0.7982805 (148)\ttotal: 43.3s\tremaining: 29.3s\n",
            "149:\tlearn: 0.8054331\ttest: 0.7976728\tbest: 0.7982805 (148)\ttotal: 43.6s\tremaining: 29s\n",
            "150:\tlearn: 0.8057888\ttest: 0.7980660\tbest: 0.7982805 (148)\ttotal: 43.9s\tremaining: 28.8s\n",
            "151:\tlearn: 0.8058986\ttest: 0.7985658\tbest: 0.7985658 (151)\ttotal: 44.1s\tremaining: 28.5s\n",
            "152:\tlearn: 0.8061720\ttest: 0.7973927\tbest: 0.7985658 (151)\ttotal: 44.4s\tremaining: 28.2s\n",
            "153:\tlearn: 0.8063620\ttest: 0.7969124\tbest: 0.7985658 (151)\ttotal: 44.7s\tremaining: 27.9s\n",
            "154:\tlearn: 0.8068240\ttest: 0.7972591\tbest: 0.7985658 (151)\ttotal: 45s\tremaining: 27.6s\n",
            "155:\tlearn: 0.8067269\ttest: 0.7972591\tbest: 0.7985658 (151)\ttotal: 45.3s\tremaining: 27.3s\n",
            "156:\tlearn: 0.8070992\ttest: 0.7964313\tbest: 0.7985658 (151)\ttotal: 45.6s\tremaining: 27s\n",
            "157:\tlearn: 0.8074321\ttest: 0.7966719\tbest: 0.7985658 (151)\ttotal: 45.9s\tremaining: 26.7s\n",
            "158:\tlearn: 0.8077401\ttest: 0.7977595\tbest: 0.7985658 (151)\ttotal: 46.2s\tremaining: 26.4s\n",
            "159:\tlearn: 0.8077180\ttest: 0.7977797\tbest: 0.7985658 (151)\ttotal: 46.4s\tremaining: 26.1s\n",
            "160:\tlearn: 0.8078543\ttest: 0.7988471\tbest: 0.7988471 (160)\ttotal: 46.7s\tremaining: 25.8s\n",
            "161:\tlearn: 0.8084555\ttest: 0.7991948\tbest: 0.7991948 (161)\ttotal: 47s\tremaining: 25.5s\n",
            "162:\tlearn: 0.8084555\ttest: 0.7992393\tbest: 0.7992393 (162)\ttotal: 47.3s\tremaining: 25.3s\n",
            "163:\tlearn: 0.8086198\ttest: 0.7986734\tbest: 0.7992393 (162)\ttotal: 47.6s\tremaining: 24.9s\n",
            "164:\tlearn: 0.8086621\ttest: 0.7986942\tbest: 0.7992393 (162)\ttotal: 47.8s\tremaining: 24.6s\n",
            "165:\tlearn: 0.8091557\ttest: 0.7974525\tbest: 0.7992393 (162)\ttotal: 48.1s\tremaining: 24.3s\n",
            "166:\tlearn: 0.8093166\ttest: 0.7977130\tbest: 0.7992393 (162)\ttotal: 48.3s\tremaining: 24s\n",
            "167:\tlearn: 0.8094561\ttest: 0.7973856\tbest: 0.7992393 (162)\ttotal: 48.6s\tremaining: 23.7s\n",
            "168:\tlearn: 0.8096813\ttest: 0.7974725\tbest: 0.7992393 (162)\ttotal: 48.9s\tremaining: 23.4s\n",
            "169:\tlearn: 0.8096633\ttest: 0.7977332\tbest: 0.7992393 (162)\ttotal: 49.2s\tremaining: 23.1s\n",
            "170:\tlearn: 0.8099707\ttest: 0.7977332\tbest: 0.7992393 (162)\ttotal: 49.5s\tremaining: 22.9s\n",
            "171:\tlearn: 0.8102605\ttest: 0.7995214\tbest: 0.7995214 (171)\ttotal: 49.8s\tremaining: 22.6s\n",
            "172:\tlearn: 0.8103963\ttest: 0.7991079\tbest: 0.7995214 (171)\ttotal: 50.1s\tremaining: 22.3s\n",
            "173:\tlearn: 0.8104178\ttest: 0.8006518\tbest: 0.8006518 (173)\ttotal: 50.4s\tremaining: 22s\n",
            "174:\tlearn: 0.8103354\ttest: 0.8009999\tbest: 0.8009999 (174)\ttotal: 50.6s\tremaining: 21.7s\n",
            "175:\tlearn: 0.8108001\ttest: 0.8011740\tbest: 0.8011740 (175)\ttotal: 50.9s\tremaining: 21.4s\n",
            "176:\tlearn: 0.8111648\ttest: 0.7996299\tbest: 0.8011740 (175)\ttotal: 51.2s\tremaining: 21.1s\n",
            "177:\tlearn: 0.8111755\ttest: 0.8003700\tbest: 0.8011740 (175)\ttotal: 51.5s\tremaining: 20.8s\n",
            "178:\tlearn: 0.8111612\ttest: 0.8001088\tbest: 0.8011740 (175)\ttotal: 51.8s\tremaining: 20.5s\n",
            "179:\tlearn: 0.8114795\ttest: 0.8004792\tbest: 0.8011740 (175)\ttotal: 52s\tremaining: 20.2s\n",
            "180:\tlearn: 0.8116761\ttest: 0.8008057\tbest: 0.8011740 (175)\ttotal: 52.3s\tremaining: 19.9s\n",
            "181:\tlearn: 0.8114795\ttest: 0.8011320\tbest: 0.8011740 (175)\ttotal: 52.5s\tremaining: 19.6s\n",
            "182:\tlearn: 0.8116011\ttest: 0.8006314\tbest: 0.8011740 (175)\ttotal: 52.8s\tremaining: 19.3s\n",
            "183:\tlearn: 0.8120840\ttest: 0.8013483\tbest: 0.8013483 (183)\ttotal: 53.1s\tremaining: 19s\n",
            "184:\tlearn: 0.8120232\ttest: 0.8007834\tbest: 0.8013483 (183)\ttotal: 53.4s\tremaining: 18.8s\n",
            "185:\tlearn: 0.8121162\ttest: 0.8009577\tbest: 0.8013483 (183)\ttotal: 53.6s\tremaining: 18.5s\n",
            "186:\tlearn: 0.8124347\ttest: 0.8007185\tbest: 0.8013483 (183)\ttotal: 54s\tremaining: 18.2s\n",
            "187:\tlearn: 0.8124417\ttest: 0.8002177\tbest: 0.8013483 (183)\ttotal: 54.3s\tremaining: 17.9s\n",
            "188:\tlearn: 0.8125810\ttest: 0.8002177\tbest: 0.8013483 (183)\ttotal: 54.5s\tremaining: 17.6s\n",
            "189:\tlearn: 0.8127522\ttest: 0.8007834\tbest: 0.8013483 (183)\ttotal: 54.7s\tremaining: 17.3s\n",
            "190:\tlearn: 0.8125310\ttest: 0.8009577\tbest: 0.8013483 (183)\ttotal: 55s\tremaining: 17s\n",
            "191:\tlearn: 0.8128812\ttest: 0.8008705\tbest: 0.8013483 (183)\ttotal: 55.3s\tremaining: 16.7s\n",
            "192:\tlearn: 0.8132554\ttest: 0.8004571\tbest: 0.8013483 (183)\ttotal: 55.6s\tremaining: 16.4s\n",
            "193:\tlearn: 0.8132839\ttest: 0.8002177\tbest: 0.8013483 (183)\ttotal: 55.8s\tremaining: 16.1s\n",
            "194:\tlearn: 0.8132984\ttest: 0.8009352\tbest: 0.8013483 (183)\ttotal: 56.1s\tremaining: 15.8s\n",
            "195:\tlearn: 0.8131554\ttest: 0.8010224\tbest: 0.8013483 (183)\ttotal: 56.4s\tremaining: 15.5s\n",
            "196:\tlearn: 0.8131022\ttest: 0.8012838\tbest: 0.8013483 (183)\ttotal: 56.7s\tremaining: 15.3s\n",
            "197:\tlearn: 0.8134585\ttest: 0.8018714\tbest: 0.8018714 (197)\ttotal: 57s\tremaining: 15s\n",
            "198:\tlearn: 0.8134477\ttest: 0.8015226\tbest: 0.8018714 (197)\ttotal: 57.2s\tremaining: 14.7s\n",
            "199:\tlearn: 0.8139143\ttest: 0.8023483\tbest: 0.8023483 (199)\ttotal: 57.5s\tremaining: 14.4s\n",
            "200:\tlearn: 0.8141855\ttest: 0.8012192\tbest: 0.8023483 (199)\ttotal: 57.8s\tremaining: 14.1s\n",
            "201:\tlearn: 0.8145908\ttest: 0.8008929\tbest: 0.8023483 (199)\ttotal: 58.1s\tremaining: 13.8s\n",
            "202:\tlearn: 0.8145977\ttest: 0.8016327\tbest: 0.8023483 (199)\ttotal: 58.4s\tremaining: 13.5s\n",
            "203:\tlearn: 0.8145908\ttest: 0.8005664\tbest: 0.8023483 (199)\ttotal: 58.6s\tremaining: 13.2s\n",
            "204:\tlearn: 0.8154495\ttest: 0.8016556\tbest: 0.8023483 (199)\ttotal: 59s\tremaining: 12.9s\n",
            "205:\tlearn: 0.8156597\ttest: 0.8015038\tbest: 0.8023483 (199)\ttotal: 59.2s\tremaining: 12.6s\n",
            "206:\tlearn: 0.8158739\ttest: 0.8008281\tbest: 0.8023483 (199)\ttotal: 59.4s\tremaining: 12.3s\n",
            "207:\tlearn: 0.8157957\ttest: 0.8008281\tbest: 0.8023483 (199)\ttotal: 59.7s\tremaining: 12.1s\n",
            "208:\tlearn: 0.8160302\ttest: 0.8010674\tbest: 0.8023483 (199)\ttotal: 1m\tremaining: 11.8s\n",
            "209:\tlearn: 0.8163077\ttest: 0.8009577\tbest: 0.8023483 (199)\ttotal: 1m\tremaining: 11.5s\n",
            "210:\tlearn: 0.8161191\ttest: 0.8008705\tbest: 0.8023483 (199)\ttotal: 1m\tremaining: 11.2s\n",
            "211:\tlearn: 0.8166567\ttest: 0.8002177\tbest: 0.8023483 (199)\ttotal: 1m\tremaining: 10.9s\n",
            "212:\tlearn: 0.8168318\ttest: 0.8009577\tbest: 0.8023483 (199)\ttotal: 1m 1s\tremaining: 10.6s\n",
            "213:\tlearn: 0.8171859\ttest: 0.8007834\tbest: 0.8023483 (199)\ttotal: 1m 1s\tremaining: 10.3s\n",
            "214:\tlearn: 0.8170245\ttest: 0.8009577\tbest: 0.8023483 (199)\ttotal: 1m 1s\tremaining: 10s\n",
            "215:\tlearn: 0.8170877\ttest: 0.8010448\tbest: 0.8023483 (199)\ttotal: 1m 2s\tremaining: 9.76s\n",
            "216:\tlearn: 0.8173112\ttest: 0.8010448\tbest: 0.8023483 (199)\ttotal: 1m 2s\tremaining: 9.48s\n",
            "217:\tlearn: 0.8174574\ttest: 0.8001088\tbest: 0.8023483 (199)\ttotal: 1m 2s\tremaining: 9.19s\n",
            "218:\tlearn: 0.8173213\ttest: 0.7996954\tbest: 0.8023483 (199)\ttotal: 1m 2s\tremaining: 8.89s\n",
            "219:\tlearn: 0.8174076\ttest: 0.7997824\tbest: 0.8023483 (199)\ttotal: 1m 3s\tremaining: 8.61s\n",
            "220:\tlearn: 0.8181027\ttest: 0.7998040\tbest: 0.8023483 (199)\ttotal: 1m 3s\tremaining: 8.33s\n",
            "221:\tlearn: 0.8179726\ttest: 0.8005442\tbest: 0.8023483 (199)\ttotal: 1m 3s\tremaining: 8.05s\n",
            "222:\tlearn: 0.8185565\ttest: 0.8006314\tbest: 0.8023483 (199)\ttotal: 1m 4s\tremaining: 7.76s\n",
            "223:\tlearn: 0.8187489\ttest: 0.8008057\tbest: 0.8023483 (199)\ttotal: 1m 4s\tremaining: 7.46s\n",
            "224:\tlearn: 0.8189132\ttest: 0.8003049\tbest: 0.8023483 (199)\ttotal: 1m 4s\tremaining: 7.18s\n",
            "225:\tlearn: 0.8189090\ttest: 0.7999782\tbest: 0.8023483 (199)\ttotal: 1m 4s\tremaining: 6.89s\n",
            "226:\tlearn: 0.8192701\ttest: 0.8012838\tbest: 0.8023483 (199)\ttotal: 1m 5s\tremaining: 6.61s\n",
            "227:\tlearn: 0.8195792\ttest: 0.8010448\tbest: 0.8023483 (199)\ttotal: 1m 5s\tremaining: 6.31s\n",
            "228:\tlearn: 0.8196786\ttest: 0.8011320\tbest: 0.8023483 (199)\ttotal: 1m 5s\tremaining: 6.03s\n",
            "229:\tlearn: 0.8198580\ttest: 0.8003269\tbest: 0.8023483 (199)\ttotal: 1m 6s\tremaining: 5.74s\n",
            "230:\tlearn: 0.8197413\ttest: 0.8003269\tbest: 0.8023483 (199)\ttotal: 1m 6s\tremaining: 5.46s\n",
            "231:\tlearn: 0.8199012\ttest: 0.8008057\tbest: 0.8023483 (199)\ttotal: 1m 6s\tremaining: 5.16s\n",
            "232:\tlearn: 0.8198709\ttest: 0.8006536\tbest: 0.8023483 (199)\ttotal: 1m 6s\tremaining: 4.88s\n",
            "233:\tlearn: 0.8200374\ttest: 0.8008057\tbest: 0.8023483 (199)\ttotal: 1m 7s\tremaining: 4.59s\n",
            "234:\tlearn: 0.8202947\ttest: 0.8005664\tbest: 0.8023483 (199)\ttotal: 1m 7s\tremaining: 4.3s\n",
            "235:\tlearn: 0.8201631\ttest: 0.8002397\tbest: 0.8023483 (199)\ttotal: 1m 7s\tremaining: 4.01s\n",
            "236:\tlearn: 0.8201414\ttest: 0.8004792\tbest: 0.8023483 (199)\ttotal: 1m 7s\tremaining: 3.73s\n",
            "237:\tlearn: 0.8201522\ttest: 0.7996729\tbest: 0.8023483 (199)\ttotal: 1m 8s\tremaining: 3.44s\n",
            "238:\tlearn: 0.8205003\ttest: 0.8011546\tbest: 0.8023483 (199)\ttotal: 1m 8s\tremaining: 3.16s\n",
            "239:\tlearn: 0.8207164\ttest: 0.8001525\tbest: 0.8023483 (199)\ttotal: 1m 8s\tremaining: 2.87s\n",
            "240:\tlearn: 0.8215622\ttest: 0.8003920\tbest: 0.8023483 (199)\ttotal: 1m 9s\tremaining: 2.58s\n",
            "241:\tlearn: 0.8216317\ttest: 0.8004792\tbest: 0.8023483 (199)\ttotal: 1m 9s\tremaining: 2.3s\n",
            "242:\tlearn: 0.8216642\ttest: 0.8007185\tbest: 0.8023483 (199)\ttotal: 1m 9s\tremaining: 2.01s\n",
            "243:\tlearn: 0.8216037\ttest: 0.8008057\tbest: 0.8023483 (199)\ttotal: 1m 10s\tremaining: 1.72s\n",
            "244:\tlearn: 0.8219711\ttest: 0.8013937\tbest: 0.8023483 (199)\ttotal: 1m 10s\tremaining: 1.44s\n",
            "245:\tlearn: 0.8222193\ttest: 0.8005664\tbest: 0.8023483 (199)\ttotal: 1m 10s\tremaining: 1.15s\n",
            "246:\tlearn: 0.8220857\ttest: 0.8018714\tbest: 0.8023483 (199)\ttotal: 1m 10s\tremaining: 862ms\n",
            "247:\tlearn: 0.8221571\ttest: 0.8018714\tbest: 0.8023483 (199)\ttotal: 1m 11s\tremaining: 575ms\n",
            "248:\tlearn: 0.8222420\ttest: 0.8020692\tbest: 0.8023483 (199)\ttotal: 1m 11s\tremaining: 287ms\n",
            "249:\tlearn: 0.8225896\ttest: 0.8017429\tbest: 0.8023483 (199)\ttotal: 1m 11s\tremaining: 0us\n",
            "bestTest = 0.8023483366\n",
            "bestIteration = 199\n",
            "Shrink model to first 200 iterations.\n"
          ],
          "name": "stdout"
        },
        {
          "output_type": "execute_result",
          "data": {
            "text/plain": [
              "<catboost.core.CatBoostClassifier at 0x7fe16e93da58>"
            ]
          },
          "metadata": {
            "tags": []
          },
          "execution_count": 21
        }
      ]
    },
    {
      "cell_type": "markdown",
      "metadata": {
        "id": "TZsfmduM1zEq",
        "colab_type": "text"
      },
      "source": [
        "# plot train history"
      ]
    },
    {
      "cell_type": "code",
      "metadata": {
        "id": "qUyr7Knh1EDI",
        "colab_type": "code",
        "outputId": "d5b98888-ebba-4626-c7fb-6e268018d547",
        "colab": {
          "base_uri": "https://localhost:8080/",
          "height": 265
        }
      },
      "source": [
        "plt.plot(model.evals_result_['learn']['F1:use_weights=true'],label='train')\n",
        "plt.plot(model.evals_result_['validation']['F1:use_weights=true'],label='val')\n",
        "plt.legend()\n",
        "plt.show()"
      ],
      "execution_count": 22,
      "outputs": [
        {
          "output_type": "display_data",
          "data": {
            "image/png": "[encoded data removed]",
            "text/plain": [
              "<Figure size 432x288 with 1 Axes>"
            ]
          },
          "metadata": {
            "tags": []
          }
        }
      ]
    },
    {
      "cell_type": "markdown",
      "metadata": {
        "id": "Ryk6rL1AlQbl",
        "colab_type": "text"
      },
      "source": [
        "# plot features importance"
      ]
    },
    {
      "cell_type": "code",
      "metadata": {
        "id": "C7DgziB1k4P3",
        "colab_type": "code",
        "outputId": "216be508-bb20-4279-b080-47325f9bf9c5",
        "colab": {
          "base_uri": "https://localhost:8080/",
          "height": 458
        }
      },
      "source": [
        "fea_imp = pd.DataFrame({'imp': model.feature_importances_, 'col': features})\n",
        "fea_imp = fea_imp.sort_values(['imp', 'col'], ascending=[True, False]).iloc[-30:]\n",
        "fea_imp.plot(kind='barh', x='col', y='imp', figsize=(10, 7), legend=None)\n",
        "plt.title('CatBoost - Feature Importance')\n",
        "plt.ylabel('Features')\n",
        "plt.xlabel('Importance');"
      ],
      "execution_count": 23,
      "outputs": [
        {
          "output_type": "display_data",
          "data": {
            "image/png": "[encoded data removed]",
            "text/plain": [
              "<Figure size 720x504 with 1 Axes>"
            ]
          },
          "metadata": {
            "tags": []
          }
        }
      ]
    },
    {
      "cell_type": "markdown",
      "metadata": {
        "id": "BtZ3P_kHeHDg",
        "colab_type": "text"
      },
      "source": [
        "# val_2's F1 report"
      ]
    },
    {
      "cell_type": "markdown",
      "metadata": {
        "id": "f037lJnhYANn",
        "colab_type": "text"
      },
      "source": [
        "第二份驗證集"
      ]
    },
    {
      "cell_type": "code",
      "metadata": {
        "id": "LG5b17w3YNPw",
        "colab_type": "code",
        "outputId": "ee5ec05b-1265-4151-9328-4e04884f2c15",
        "colab": {
          "base_uri": "https://localhost:8080/",
          "height": 177
        }
      },
      "source": [
        "from sklearn.metrics import classification_report \n",
        "\n",
        "#轉01\n",
        "val_2_pred_01 = pd.Series(model.predict(val_2[features])).apply(round)\n",
        "#F1 score\n",
        "print(classification_report(val_2[y_name],val_2_pred_01,target_names=['0','1']))"
      ],
      "execution_count": 24,
      "outputs": [
        {
          "output_type": "stream",
          "text": [
            "              precision    recall  f1-score   support\n",
            "\n",
            "           0       1.00      1.00      1.00    150230\n",
            "           1       0.74      0.71      0.72      1949\n",
            "\n",
            "    accuracy                           0.99    152179\n",
            "   macro avg       0.87      0.85      0.86    152179\n",
            "weighted avg       0.99      0.99      0.99    152179\n",
            "\n"
          ],
          "name": "stdout"
        }
      ]
    },
    {
      "cell_type": "markdown",
      "metadata": {
        "id": "BJPxyqv0ePDh",
        "colab_type": "text"
      },
      "source": [
        "# 產生submission"
      ]
    },
    {
      "cell_type": "code",
      "metadata": {
        "id": "Spls7FkEePg3",
        "colab_type": "code",
        "outputId": "8b89d75c-201f-4d8d-a534-890d5ab18307",
        "colab": {
          "base_uri": "https://localhost:8080/",
          "height": 247
        }
      },
      "source": [
        "submission = pd.DataFrame({\"txkey\":test_txkey,\n",
        "                           \"fraud_ind\":model.predict(test[features])})\n",
        "\n",
        "# to [0,1] \n",
        "submission[\"fraud_ind\"] = submission[\"fraud_ind\"].apply(round)\n",
        "\n",
        "# value_counts\n",
        "print(submission[\"fraud_ind\"].value_counts())\n",
        "submission.head()"
      ],
      "execution_count": 25,
      "outputs": [
        {
          "output_type": "stream",
          "text": [
            "0    414691\n",
            "1      6974\n",
            "Name: fraud_ind, dtype: int64\n"
          ],
          "name": "stdout"
        },
        {
          "output_type": "execute_result",
          "data": {
            "text/html": [
              "<div>\n",
              "<style scoped>\n",
              "    .dataframe tbody tr th:only-of-type {\n",
              "        vertical-align: middle;\n",
              "    }\n",
              "\n",
              "    .dataframe tbody tr th {\n",
              "        vertical-align: top;\n",
              "    }\n",
              "\n",
              "    .dataframe thead th {\n",
              "        text-align: right;\n",
              "    }\n",
              "</style>\n",
              "<table border=\"1\" class=\"dataframe\">\n",
              "  <thead>\n",
              "    <tr style=\"text-align: right;\">\n",
              "      <th></th>\n",
              "      <th>txkey</th>\n",
              "      <th>fraud_ind</th>\n",
              "    </tr>\n",
              "  </thead>\n",
              "  <tbody>\n",
              "    <tr>\n",
              "      <th>1521787</th>\n",
              "      <td>592489</td>\n",
              "      <td>0</td>\n",
              "    </tr>\n",
              "    <tr>\n",
              "      <th>1521788</th>\n",
              "      <td>592452</td>\n",
              "      <td>0</td>\n",
              "    </tr>\n",
              "    <tr>\n",
              "      <th>1521789</th>\n",
              "      <td>590212</td>\n",
              "      <td>0</td>\n",
              "    </tr>\n",
              "    <tr>\n",
              "      <th>1521790</th>\n",
              "      <td>590209</td>\n",
              "      <td>0</td>\n",
              "    </tr>\n",
              "    <tr>\n",
              "      <th>1521791</th>\n",
              "      <td>592488</td>\n",
              "      <td>0</td>\n",
              "    </tr>\n",
              "  </tbody>\n",
              "</table>\n",
              "</div>"
            ],
            "text/plain": [
              "          txkey  fraud_ind\n",
              "1521787  592489          0\n",
              "1521788  592452          0\n",
              "1521789  590212          0\n",
              "1521790  590209          0\n",
              "1521791  592488          0"
            ]
          },
          "metadata": {
            "tags": []
          },
          "execution_count": 25
        }
      ]
    },
    {
      "cell_type": "markdown",
      "metadata": {
        "id": "sjtNlkkjeWUa",
        "colab_type": "text"
      },
      "source": [
        "# 這裡有個想法如果test上盜刷的比例 跟train上面盜刷的比例 愈相近愈好"
      ]
    },
    {
      "cell_type": "code",
      "metadata": {
        "id": "Aj5EJj1ZeWxx",
        "colab_type": "code",
        "outputId": "4f8ab959-2c45-4a11-e872-68b12ea33776",
        "colab": {
          "base_uri": "https://localhost:8080/",
          "height": 76
        }
      },
      "source": [
        "train_p = round((train['fraud_ind'].value_counts()[1] / #盜刷樣本數\n",
        "                len(train['fraud_ind']))*100 ,5) #總數\n",
        "\n",
        "val_1_p = round((val_1['fraud_ind'].value_counts()[1] / #盜刷樣本數\n",
        "                len(val_1['fraud_ind']))*100 ,5) #總數\n",
        "\n",
        "val_2_p = round((val_2['fraud_ind'].value_counts()[1] / #盜刷樣本數\n",
        "                len(val_2['fraud_ind']))*100 ,5) #總數\n",
        "\n",
        "test_p = round((submission['fraud_ind'].value_counts()[1] / #盜刷樣本數\n",
        "                len(submission['fraud_ind']))*100 ,5) #總數\n",
        "pd.DataFrame({'train_p':train_p,\n",
        "              'val_1_p':val_1_p,\n",
        "              'val_2_p':val_2_p,\n",
        "              'test_p':test_p},\n",
        "               index=['盜刷比例%'])"
      ],
      "execution_count": 26,
      "outputs": [
        {
          "output_type": "execute_result",
          "data": {
            "text/html": [
              "<div>\n",
              "<style scoped>\n",
              "    .dataframe tbody tr th:only-of-type {\n",
              "        vertical-align: middle;\n",
              "    }\n",
              "\n",
              "    .dataframe tbody tr th {\n",
              "        vertical-align: top;\n",
              "    }\n",
              "\n",
              "    .dataframe thead th {\n",
              "        text-align: right;\n",
              "    }\n",
              "</style>\n",
              "<table border=\"1\" class=\"dataframe\">\n",
              "  <thead>\n",
              "    <tr style=\"text-align: right;\">\n",
              "      <th></th>\n",
              "      <th>train_p</th>\n",
              "      <th>val_1_p</th>\n",
              "      <th>val_2_p</th>\n",
              "      <th>test_p</th>\n",
              "    </tr>\n",
              "  </thead>\n",
              "  <tbody>\n",
              "    <tr>\n",
              "      <th>盜刷比例%</th>\n",
              "      <td>1.34759</td>\n",
              "      <td>1.31425</td>\n",
              "      <td>1.28073</td>\n",
              "      <td>1.65392</td>\n",
              "    </tr>\n",
              "  </tbody>\n",
              "</table>\n",
              "</div>"
            ],
            "text/plain": [
              "       train_p  val_1_p  val_2_p   test_p\n",
              "盜刷比例%  1.34759  1.31425  1.28073  1.65392"
            ]
          },
          "metadata": {
            "tags": []
          },
          "execution_count": 26
        }
      ]
    },
    {
      "cell_type": "markdown",
      "metadata": {
        "id": "i2d7OLeqfxuN",
        "colab_type": "text"
      },
      "source": [
        "# 轉換成機率,好做後續voting"
      ]
    },
    {
      "cell_type": "code",
      "metadata": {
        "id": "715QIIbgf3Go",
        "colab_type": "code",
        "outputId": "03792b44-f2bf-4503-a73d-179d23837f0f",
        "colab": {
          "base_uri": "https://localhost:8080/",
          "height": 340
        }
      },
      "source": [
        "submission['fraud_ind'] = model.predict_proba(test[features])[:,1]\n",
        "submission.sample(10)"
      ],
      "execution_count": 27,
      "outputs": [
        {
          "output_type": "execute_result",
          "data": {
            "text/html": [
              "<div>\n",
              "<style scoped>\n",
              "    .dataframe tbody tr th:only-of-type {\n",
              "        vertical-align: middle;\n",
              "    }\n",
              "\n",
              "    .dataframe tbody tr th {\n",
              "        vertical-align: top;\n",
              "    }\n",
              "\n",
              "    .dataframe thead th {\n",
              "        text-align: right;\n",
              "    }\n",
              "</style>\n",
              "<table border=\"1\" class=\"dataframe\">\n",
              "  <thead>\n",
              "    <tr style=\"text-align: right;\">\n",
              "      <th></th>\n",
              "      <th>txkey</th>\n",
              "      <th>fraud_ind</th>\n",
              "    </tr>\n",
              "  </thead>\n",
              "  <tbody>\n",
              "    <tr>\n",
              "      <th>1911422</th>\n",
              "      <td>1534037</td>\n",
              "      <td>0.001128</td>\n",
              "    </tr>\n",
              "    <tr>\n",
              "      <th>1591857</th>\n",
              "      <td>789366</td>\n",
              "      <td>0.072382</td>\n",
              "    </tr>\n",
              "    <tr>\n",
              "      <th>1554455</th>\n",
              "      <td>794779</td>\n",
              "      <td>0.003851</td>\n",
              "    </tr>\n",
              "    <tr>\n",
              "      <th>1576909</th>\n",
              "      <td>802042</td>\n",
              "      <td>0.003310</td>\n",
              "    </tr>\n",
              "    <tr>\n",
              "      <th>1809426</th>\n",
              "      <td>327368</td>\n",
              "      <td>0.000457</td>\n",
              "    </tr>\n",
              "    <tr>\n",
              "      <th>1666775</th>\n",
              "      <td>1683083</td>\n",
              "      <td>0.000586</td>\n",
              "    </tr>\n",
              "    <tr>\n",
              "      <th>1881416</th>\n",
              "      <td>1683841</td>\n",
              "      <td>0.000811</td>\n",
              "    </tr>\n",
              "    <tr>\n",
              "      <th>1830957</th>\n",
              "      <td>800751</td>\n",
              "      <td>0.010354</td>\n",
              "    </tr>\n",
              "    <tr>\n",
              "      <th>1614189</th>\n",
              "      <td>445193</td>\n",
              "      <td>0.000924</td>\n",
              "    </tr>\n",
              "    <tr>\n",
              "      <th>1705371</th>\n",
              "      <td>1463075</td>\n",
              "      <td>0.000578</td>\n",
              "    </tr>\n",
              "  </tbody>\n",
              "</table>\n",
              "</div>"
            ],
            "text/plain": [
              "           txkey  fraud_ind\n",
              "1911422  1534037   0.001128\n",
              "1591857   789366   0.072382\n",
              "1554455   794779   0.003851\n",
              "1576909   802042   0.003310\n",
              "1809426   327368   0.000457\n",
              "1666775  1683083   0.000586\n",
              "1881416  1683841   0.000811\n",
              "1830957   800751   0.010354\n",
              "1614189   445193   0.000924\n",
              "1705371  1463075   0.000578"
            ]
          },
          "metadata": {
            "tags": []
          },
          "execution_count": 27
        }
      ]
    },
    {
      "cell_type": "markdown",
      "metadata": {
        "id": "gp7bXYUoeZvm",
        "colab_type": "text"
      },
      "source": [
        "# 保存預測結果"
      ]
    },
    {
      "cell_type": "code",
      "metadata": {
        "id": "9auuWIs5xuZa",
        "colab_type": "code",
        "outputId": "0adc1f34-2bd7-45af-e1da-a381a5ed61ce",
        "colab": {
          "base_uri": "https://localhost:8080/",
          "height": 35
        }
      },
      "source": [
        "print(num_Fold,random_seed)"
      ],
      "execution_count": 28,
      "outputs": [
        {
          "output_type": "stream",
          "text": [
            "4 42\n"
          ],
          "name": "stdout"
        }
      ]
    },
    {
      "cell_type": "code",
      "metadata": {
        "id": "T9CnZxyseaOj",
        "colab_type": "code",
        "colab": {}
      },
      "source": [
        "path='/content/drive/My Drive/玉山人工智慧比賽數據/catboost_result/1108/catboost_Fold{}_random{}.csv'.format(num_Fold,random_seed)\n",
        "submission.to_csv(path)"
      ],
      "execution_count": 0,
      "outputs": []
    },
    {
      "cell_type": "code",
      "metadata": {
        "id": "sto4yNSgjlTz",
        "colab_type": "code",
        "colab": {}
      },
      "source": [
        ""
      ],
      "execution_count": 0,
      "outputs": []
    }
  ]
}