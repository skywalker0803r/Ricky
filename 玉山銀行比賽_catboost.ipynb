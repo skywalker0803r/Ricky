{
  "nbformat": 4,
  "nbformat_minor": 0,
  "metadata": {
    "colab": {
      "name": "玉山銀行比賽_catboost.ipynb",
      "provenance": [],
      "collapsed_sections": [],
      "include_colab_link": true
    },
    "kernelspec": {
      "name": "python3",
      "display_name": "Python 3"
    },
    "accelerator": "GPU"
  },
  "cells": [
    {
      "cell_type": "markdown",
      "metadata": {
        "id": "view-in-github",
        "colab_type": "text"
      },
      "source": [
        "<a href=\"https://colab.research.google.com/github/skywalker0803r/Ricky/blob/master/%E7%8E%89%E5%B1%B1%E9%8A%80%E8%A1%8C%E6%AF%94%E8%B3%BD_catboost.ipynb\" target=\"_parent\"><img src=\"https://colab.research.google.com/assets/colab-badge.svg\" alt=\"Open In Colab\"/></a>"
      ]
    },
    {
      "cell_type": "code",
      "metadata": {
        "id": "WPR5EpVPTu2R",
        "colab_type": "code",
        "outputId": "43b229e3-fdc1-45f5-e00e-fe65eb512756",
        "colab": {
          "base_uri": "https://localhost:8080/",
          "height": 33
        }
      },
      "source": [
        "from google.colab import drive\n",
        "drive.mount('/content/drive')\n",
        "import warnings \n",
        "warnings.simplefilter('ignore')\n",
        "import seaborn as sns\n",
        "import matplotlib.pyplot as plt"
      ],
      "execution_count": 27,
      "outputs": [
        {
          "output_type": "stream",
          "text": [
            "Drive already mounted at /content/drive; to attempt to forcibly remount, call drive.mount(\"/content/drive\", force_remount=True).\n"
          ],
          "name": "stdout"
        }
      ]
    },
    {
      "cell_type": "code",
      "metadata": {
        "id": "HTGQlL6pTvpD",
        "colab_type": "code",
        "colab": {}
      },
      "source": [
        "中文map = {'bacno':'歸戶帳號','txkey':'交易序號','locdt':'授權日期','loctm':'授權時間','cano':'交易卡號',\n",
        "         'contp':'交易類別','etymd':'交易型態','mchno':'特店代號','acqic':'收單行代碼','mcc':'MCC_CODE',\n",
        "         'conam':'交易金額-台幣(經過轉換)','ecfg':'網路交易註記','insfg':'分期交易註記','iterm':'分期期數',\n",
        "         'stocn':'消費地國別','scity':'消費城市','stscd':'狀態碼','ovrlt':'超額註記碼','flbmk':'Fallback註記',\n",
        "         'hcefg':'支付型態','csmcu':'消費地幣別','flg_3dsmk':'3DS交易註記','fraud_ind':'盜刷註記'}"
      ],
      "execution_count": 0,
      "outputs": []
    },
    {
      "cell_type": "code",
      "metadata": {
        "id": "gwF7iD3QV-DZ",
        "colab_type": "code",
        "colab": {}
      },
      "source": [
        "num_Fold = 0\n",
        "random_seed = 42"
      ],
      "execution_count": 0,
      "outputs": []
    },
    {
      "cell_type": "markdown",
      "metadata": {
        "id": "pduOxPvMUABF",
        "colab_type": "text"
      },
      "source": [
        "# train"
      ]
    },
    {
      "cell_type": "code",
      "metadata": {
        "id": "-VYk2pwCT927",
        "colab_type": "code",
        "outputId": "530b6773-a4ce-41f3-bb9a-7bcfe98716e5",
        "colab": {
          "base_uri": "https://localhost:8080/",
          "height": 234
        }
      },
      "source": [
        "import pandas as pd\n",
        "train = pd.read_csv(\"/content/drive/My Drive/玉山人工智慧比賽數據/train_特徵工程完.csv\",index_col=0)\n",
        "print(train.shape)\n",
        "train.head()"
      ],
      "execution_count": 30,
      "outputs": [
        {
          "output_type": "stream",
          "text": [
            "(1521787, 52)\n"
          ],
          "name": "stdout"
        },
        {
          "output_type": "execute_result",
          "data": {
            "text/html": [
              "<div>\n",
              "<style scoped>\n",
              "    .dataframe tbody tr th:only-of-type {\n",
              "        vertical-align: middle;\n",
              "    }\n",
              "\n",
              "    .dataframe tbody tr th {\n",
              "        vertical-align: top;\n",
              "    }\n",
              "\n",
              "    .dataframe thead th {\n",
              "        text-align: right;\n",
              "    }\n",
              "</style>\n",
              "<table border=\"1\" class=\"dataframe\">\n",
              "  <thead>\n",
              "    <tr style=\"text-align: right;\">\n",
              "      <th></th>\n",
              "      <th>stscd</th>\n",
              "      <th>ecfg</th>\n",
              "      <th>stocn</th>\n",
              "      <th>acqic</th>\n",
              "      <th>etymd</th>\n",
              "      <th>loctm</th>\n",
              "      <th>scity</th>\n",
              "      <th>hcefg</th>\n",
              "      <th>contp</th>\n",
              "      <th>conam</th>\n",
              "      <th>insfg</th>\n",
              "      <th>ovrlt</th>\n",
              "      <th>flg_3dsmk</th>\n",
              "      <th>iterm</th>\n",
              "      <th>csmcu</th>\n",
              "      <th>mchno</th>\n",
              "      <th>cano</th>\n",
              "      <th>mcc</th>\n",
              "      <th>flbmk</th>\n",
              "      <th>bacno</th>\n",
              "      <th>cano_stscd_2_norm_count</th>\n",
              "      <th>bacno_stscd_2_norm_count</th>\n",
              "      <th>cano_stscd_nunique</th>\n",
              "      <th>bacno_stscd_nunique</th>\n",
              "      <th>cano_ecfg_0_norm_count</th>\n",
              "      <th>cano_stscd_2_count</th>\n",
              "      <th>bacno_ecfg_1_norm_count</th>\n",
              "      <th>bacno_stscd_2_count</th>\n",
              "      <th>cano_stocn_nunique</th>\n",
              "      <th>bacno_stocn_nunique</th>\n",
              "      <th>bacno_ecfg_nunique</th>\n",
              "      <th>cano_ecfg_nunique</th>\n",
              "      <th>cano_ecfg_0_count</th>\n",
              "      <th>cano_stscd_0_count</th>\n",
              "      <th>bacno_ecfg_0_count</th>\n",
              "      <th>bacno_stscd_0_count</th>\n",
              "      <th>bacno_ecfg_1_count</th>\n",
              "      <th>locdt</th>\n",
              "      <th>cano_ecfg_1_count</th>\n",
              "      <th>cano_stscd_1_norm_count</th>\n",
              "      <th>bacno_stscd_1_norm_count</th>\n",
              "      <th>bacno_stscd_1_count</th>\n",
              "      <th>cano_stscd_1_count</th>\n",
              "      <th>cano_stscd_3_count</th>\n",
              "      <th>bacno_stscd_3_norm_count</th>\n",
              "      <th>cano_stscd_3_norm_count</th>\n",
              "      <th>bacno_stscd_4_count</th>\n",
              "      <th>bacno_stscd_4_norm_count</th>\n",
              "      <th>bacno_stscd_3_count</th>\n",
              "      <th>cano_stscd_4_norm_count</th>\n",
              "      <th>txkey</th>\n",
              "      <th>fraud_ind</th>\n",
              "    </tr>\n",
              "  </thead>\n",
              "  <tbody>\n",
              "    <tr>\n",
              "      <th>0</th>\n",
              "      <td>0</td>\n",
              "      <td>0</td>\n",
              "      <td>102</td>\n",
              "      <td>6862</td>\n",
              "      <td>0</td>\n",
              "      <td>61954</td>\n",
              "      <td>0</td>\n",
              "      <td>5</td>\n",
              "      <td>5</td>\n",
              "      <td>16158</td>\n",
              "      <td>0</td>\n",
              "      <td>0</td>\n",
              "      <td>0</td>\n",
              "      <td>0</td>\n",
              "      <td>0</td>\n",
              "      <td>59034</td>\n",
              "      <td>37846</td>\n",
              "      <td>457</td>\n",
              "      <td>0</td>\n",
              "      <td>112785</td>\n",
              "      <td>0.0</td>\n",
              "      <td>0.0</td>\n",
              "      <td>1</td>\n",
              "      <td>1</td>\n",
              "      <td>0.712500</td>\n",
              "      <td>0</td>\n",
              "      <td>0.287500</td>\n",
              "      <td>0</td>\n",
              "      <td>5</td>\n",
              "      <td>5</td>\n",
              "      <td>2</td>\n",
              "      <td>2</td>\n",
              "      <td>57.0</td>\n",
              "      <td>80.0</td>\n",
              "      <td>57.0</td>\n",
              "      <td>80.0</td>\n",
              "      <td>23.0</td>\n",
              "      <td>33</td>\n",
              "      <td>23.0</td>\n",
              "      <td>0.0</td>\n",
              "      <td>0.0</td>\n",
              "      <td>0</td>\n",
              "      <td>0</td>\n",
              "      <td>0</td>\n",
              "      <td>0.0</td>\n",
              "      <td>0.0</td>\n",
              "      <td>0</td>\n",
              "      <td>0.0</td>\n",
              "      <td>0</td>\n",
              "      <td>0.0</td>\n",
              "      <td>516056</td>\n",
              "      <td>0</td>\n",
              "    </tr>\n",
              "    <tr>\n",
              "      <th>1</th>\n",
              "      <td>0</td>\n",
              "      <td>0</td>\n",
              "      <td>102</td>\n",
              "      <td>0</td>\n",
              "      <td>2</td>\n",
              "      <td>38216</td>\n",
              "      <td>5795</td>\n",
              "      <td>0</td>\n",
              "      <td>5</td>\n",
              "      <td>13693</td>\n",
              "      <td>0</td>\n",
              "      <td>0</td>\n",
              "      <td>0</td>\n",
              "      <td>0</td>\n",
              "      <td>0</td>\n",
              "      <td>0</td>\n",
              "      <td>45476</td>\n",
              "      <td>451</td>\n",
              "      <td>0</td>\n",
              "      <td>133951</td>\n",
              "      <td>0.0</td>\n",
              "      <td>0.0</td>\n",
              "      <td>1</td>\n",
              "      <td>1</td>\n",
              "      <td>0.913043</td>\n",
              "      <td>0</td>\n",
              "      <td>0.086957</td>\n",
              "      <td>0</td>\n",
              "      <td>1</td>\n",
              "      <td>1</td>\n",
              "      <td>2</td>\n",
              "      <td>2</td>\n",
              "      <td>21.0</td>\n",
              "      <td>23.0</td>\n",
              "      <td>21.0</td>\n",
              "      <td>23.0</td>\n",
              "      <td>2.0</td>\n",
              "      <td>9</td>\n",
              "      <td>2.0</td>\n",
              "      <td>0.0</td>\n",
              "      <td>0.0</td>\n",
              "      <td>0</td>\n",
              "      <td>0</td>\n",
              "      <td>0</td>\n",
              "      <td>0.0</td>\n",
              "      <td>0.0</td>\n",
              "      <td>0</td>\n",
              "      <td>0.0</td>\n",
              "      <td>0</td>\n",
              "      <td>0.0</td>\n",
              "      <td>4376</td>\n",
              "      <td>0</td>\n",
              "    </tr>\n",
              "    <tr>\n",
              "      <th>2</th>\n",
              "      <td>0</td>\n",
              "      <td>0</td>\n",
              "      <td>102</td>\n",
              "      <td>6862</td>\n",
              "      <td>0</td>\n",
              "      <td>54640</td>\n",
              "      <td>0</td>\n",
              "      <td>5</td>\n",
              "      <td>5</td>\n",
              "      <td>16158</td>\n",
              "      <td>0</td>\n",
              "      <td>0</td>\n",
              "      <td>0</td>\n",
              "      <td>0</td>\n",
              "      <td>0</td>\n",
              "      <td>59034</td>\n",
              "      <td>187354</td>\n",
              "      <td>457</td>\n",
              "      <td>0</td>\n",
              "      <td>15350</td>\n",
              "      <td>0.0</td>\n",
              "      <td>0.0</td>\n",
              "      <td>1</td>\n",
              "      <td>1</td>\n",
              "      <td>1.000000</td>\n",
              "      <td>0</td>\n",
              "      <td>0.000000</td>\n",
              "      <td>0</td>\n",
              "      <td>1</td>\n",
              "      <td>1</td>\n",
              "      <td>1</td>\n",
              "      <td>1</td>\n",
              "      <td>18.0</td>\n",
              "      <td>18.0</td>\n",
              "      <td>18.0</td>\n",
              "      <td>18.0</td>\n",
              "      <td>0.0</td>\n",
              "      <td>6</td>\n",
              "      <td>0.0</td>\n",
              "      <td>0.0</td>\n",
              "      <td>0.0</td>\n",
              "      <td>0</td>\n",
              "      <td>0</td>\n",
              "      <td>0</td>\n",
              "      <td>0.0</td>\n",
              "      <td>0.0</td>\n",
              "      <td>0</td>\n",
              "      <td>0.0</td>\n",
              "      <td>0</td>\n",
              "      <td>0.0</td>\n",
              "      <td>483434</td>\n",
              "      <td>0</td>\n",
              "    </tr>\n",
              "    <tr>\n",
              "      <th>3</th>\n",
              "      <td>0</td>\n",
              "      <td>0</td>\n",
              "      <td>102</td>\n",
              "      <td>6697</td>\n",
              "      <td>5</td>\n",
              "      <td>62128</td>\n",
              "      <td>3267</td>\n",
              "      <td>5</td>\n",
              "      <td>5</td>\n",
              "      <td>40413</td>\n",
              "      <td>0</td>\n",
              "      <td>0</td>\n",
              "      <td>0</td>\n",
              "      <td>0</td>\n",
              "      <td>62</td>\n",
              "      <td>50185</td>\n",
              "      <td>29812</td>\n",
              "      <td>247</td>\n",
              "      <td>0</td>\n",
              "      <td>156492</td>\n",
              "      <td>0.0</td>\n",
              "      <td>0.0</td>\n",
              "      <td>1</td>\n",
              "      <td>1</td>\n",
              "      <td>0.964912</td>\n",
              "      <td>0</td>\n",
              "      <td>0.027027</td>\n",
              "      <td>0</td>\n",
              "      <td>1</td>\n",
              "      <td>1</td>\n",
              "      <td>2</td>\n",
              "      <td>2</td>\n",
              "      <td>55.0</td>\n",
              "      <td>57.0</td>\n",
              "      <td>72.0</td>\n",
              "      <td>74.0</td>\n",
              "      <td>2.0</td>\n",
              "      <td>5</td>\n",
              "      <td>2.0</td>\n",
              "      <td>0.0</td>\n",
              "      <td>0.0</td>\n",
              "      <td>0</td>\n",
              "      <td>0</td>\n",
              "      <td>0</td>\n",
              "      <td>0.0</td>\n",
              "      <td>0.0</td>\n",
              "      <td>0</td>\n",
              "      <td>0.0</td>\n",
              "      <td>0</td>\n",
              "      <td>0.0</td>\n",
              "      <td>1407164</td>\n",
              "      <td>0</td>\n",
              "    </tr>\n",
              "    <tr>\n",
              "      <th>4</th>\n",
              "      <td>0</td>\n",
              "      <td>0</td>\n",
              "      <td>102</td>\n",
              "      <td>5959</td>\n",
              "      <td>4</td>\n",
              "      <td>65231</td>\n",
              "      <td>5795</td>\n",
              "      <td>5</td>\n",
              "      <td>5</td>\n",
              "      <td>25962</td>\n",
              "      <td>0</td>\n",
              "      <td>0</td>\n",
              "      <td>0</td>\n",
              "      <td>0</td>\n",
              "      <td>62</td>\n",
              "      <td>93290</td>\n",
              "      <td>80881</td>\n",
              "      <td>263</td>\n",
              "      <td>0</td>\n",
              "      <td>105534</td>\n",
              "      <td>0.0</td>\n",
              "      <td>0.0</td>\n",
              "      <td>1</td>\n",
              "      <td>1</td>\n",
              "      <td>0.761905</td>\n",
              "      <td>0</td>\n",
              "      <td>0.192308</td>\n",
              "      <td>0</td>\n",
              "      <td>1</td>\n",
              "      <td>1</td>\n",
              "      <td>2</td>\n",
              "      <td>2</td>\n",
              "      <td>48.0</td>\n",
              "      <td>63.0</td>\n",
              "      <td>63.0</td>\n",
              "      <td>78.0</td>\n",
              "      <td>15.0</td>\n",
              "      <td>6</td>\n",
              "      <td>15.0</td>\n",
              "      <td>0.0</td>\n",
              "      <td>0.0</td>\n",
              "      <td>0</td>\n",
              "      <td>0</td>\n",
              "      <td>0</td>\n",
              "      <td>0.0</td>\n",
              "      <td>0.0</td>\n",
              "      <td>0</td>\n",
              "      <td>0.0</td>\n",
              "      <td>0</td>\n",
              "      <td>0.0</td>\n",
              "      <td>1051004</td>\n",
              "      <td>0</td>\n",
              "    </tr>\n",
              "  </tbody>\n",
              "</table>\n",
              "</div>"
            ],
            "text/plain": [
              "   stscd  ecfg  stocn  ...  cano_stscd_4_norm_count    txkey  fraud_ind\n",
              "0      0     0    102  ...                      0.0   516056          0\n",
              "1      0     0    102  ...                      0.0     4376          0\n",
              "2      0     0    102  ...                      0.0   483434          0\n",
              "3      0     0    102  ...                      0.0  1407164          0\n",
              "4      0     0    102  ...                      0.0  1051004          0\n",
              "\n",
              "[5 rows x 52 columns]"
            ]
          },
          "metadata": {
            "tags": []
          },
          "execution_count": 30
        }
      ]
    },
    {
      "cell_type": "markdown",
      "metadata": {
        "id": "cdcREQMiUF5D",
        "colab_type": "text"
      },
      "source": [
        "# test"
      ]
    },
    {
      "cell_type": "code",
      "metadata": {
        "id": "g4gZYpBSUDOh",
        "colab_type": "code",
        "outputId": "2a13f32a-abba-4d0a-e005-f6d1dc00b926",
        "colab": {
          "base_uri": "https://localhost:8080/",
          "height": 234
        }
      },
      "source": [
        "test = pd.read_csv(\"/content/drive/My Drive/玉山人工智慧比賽數據/test_特徵工程完.csv\",index_col=0)\n",
        "test_txkey = test[\"txkey\"]\n",
        "print(test.shape)\n",
        "test.head()"
      ],
      "execution_count": 31,
      "outputs": [
        {
          "output_type": "stream",
          "text": [
            "(421665, 51)\n"
          ],
          "name": "stdout"
        },
        {
          "output_type": "execute_result",
          "data": {
            "text/html": [
              "<div>\n",
              "<style scoped>\n",
              "    .dataframe tbody tr th:only-of-type {\n",
              "        vertical-align: middle;\n",
              "    }\n",
              "\n",
              "    .dataframe tbody tr th {\n",
              "        vertical-align: top;\n",
              "    }\n",
              "\n",
              "    .dataframe thead th {\n",
              "        text-align: right;\n",
              "    }\n",
              "</style>\n",
              "<table border=\"1\" class=\"dataframe\">\n",
              "  <thead>\n",
              "    <tr style=\"text-align: right;\">\n",
              "      <th></th>\n",
              "      <th>stscd</th>\n",
              "      <th>ecfg</th>\n",
              "      <th>stocn</th>\n",
              "      <th>acqic</th>\n",
              "      <th>etymd</th>\n",
              "      <th>loctm</th>\n",
              "      <th>scity</th>\n",
              "      <th>hcefg</th>\n",
              "      <th>contp</th>\n",
              "      <th>conam</th>\n",
              "      <th>insfg</th>\n",
              "      <th>ovrlt</th>\n",
              "      <th>flg_3dsmk</th>\n",
              "      <th>iterm</th>\n",
              "      <th>csmcu</th>\n",
              "      <th>mchno</th>\n",
              "      <th>cano</th>\n",
              "      <th>mcc</th>\n",
              "      <th>flbmk</th>\n",
              "      <th>bacno</th>\n",
              "      <th>cano_stscd_2_norm_count</th>\n",
              "      <th>bacno_stscd_2_norm_count</th>\n",
              "      <th>cano_stscd_nunique</th>\n",
              "      <th>bacno_stscd_nunique</th>\n",
              "      <th>cano_ecfg_0_norm_count</th>\n",
              "      <th>cano_stscd_2_count</th>\n",
              "      <th>bacno_ecfg_1_norm_count</th>\n",
              "      <th>bacno_stscd_2_count</th>\n",
              "      <th>cano_stocn_nunique</th>\n",
              "      <th>bacno_stocn_nunique</th>\n",
              "      <th>bacno_ecfg_nunique</th>\n",
              "      <th>cano_ecfg_nunique</th>\n",
              "      <th>cano_ecfg_0_count</th>\n",
              "      <th>cano_stscd_0_count</th>\n",
              "      <th>bacno_ecfg_0_count</th>\n",
              "      <th>bacno_stscd_0_count</th>\n",
              "      <th>bacno_ecfg_1_count</th>\n",
              "      <th>locdt</th>\n",
              "      <th>cano_ecfg_1_count</th>\n",
              "      <th>cano_stscd_1_norm_count</th>\n",
              "      <th>bacno_stscd_1_norm_count</th>\n",
              "      <th>bacno_stscd_1_count</th>\n",
              "      <th>cano_stscd_1_count</th>\n",
              "      <th>cano_stscd_3_count</th>\n",
              "      <th>bacno_stscd_3_norm_count</th>\n",
              "      <th>cano_stscd_3_norm_count</th>\n",
              "      <th>bacno_stscd_4_count</th>\n",
              "      <th>bacno_stscd_4_norm_count</th>\n",
              "      <th>bacno_stscd_3_count</th>\n",
              "      <th>cano_stscd_4_norm_count</th>\n",
              "      <th>txkey</th>\n",
              "    </tr>\n",
              "  </thead>\n",
              "  <tbody>\n",
              "    <tr>\n",
              "      <th>1521787</th>\n",
              "      <td>0</td>\n",
              "      <td>0</td>\n",
              "      <td>102</td>\n",
              "      <td>6862</td>\n",
              "      <td>0</td>\n",
              "      <td>77950</td>\n",
              "      <td>0</td>\n",
              "      <td>5</td>\n",
              "      <td>5</td>\n",
              "      <td>16158</td>\n",
              "      <td>0</td>\n",
              "      <td>0</td>\n",
              "      <td>0</td>\n",
              "      <td>0</td>\n",
              "      <td>0</td>\n",
              "      <td>59060</td>\n",
              "      <td>116168</td>\n",
              "      <td>457</td>\n",
              "      <td>0</td>\n",
              "      <td>162489</td>\n",
              "      <td>0.181818</td>\n",
              "      <td>0.181818</td>\n",
              "      <td>2</td>\n",
              "      <td>2</td>\n",
              "      <td>1.0</td>\n",
              "      <td>2</td>\n",
              "      <td>0.0</td>\n",
              "      <td>2</td>\n",
              "      <td>1</td>\n",
              "      <td>1</td>\n",
              "      <td>1</td>\n",
              "      <td>1</td>\n",
              "      <td>11.0</td>\n",
              "      <td>9.0</td>\n",
              "      <td>11.0</td>\n",
              "      <td>9.0</td>\n",
              "      <td>0.0</td>\n",
              "      <td>102</td>\n",
              "      <td>0.0</td>\n",
              "      <td>0.0</td>\n",
              "      <td>0.0</td>\n",
              "      <td>0</td>\n",
              "      <td>0</td>\n",
              "      <td>0</td>\n",
              "      <td>0.0</td>\n",
              "      <td>0.0</td>\n",
              "      <td>0</td>\n",
              "      <td>0.0</td>\n",
              "      <td>0</td>\n",
              "      <td>0.0</td>\n",
              "      <td>592489</td>\n",
              "    </tr>\n",
              "    <tr>\n",
              "      <th>1521788</th>\n",
              "      <td>0</td>\n",
              "      <td>0</td>\n",
              "      <td>102</td>\n",
              "      <td>6862</td>\n",
              "      <td>0</td>\n",
              "      <td>79549</td>\n",
              "      <td>0</td>\n",
              "      <td>5</td>\n",
              "      <td>5</td>\n",
              "      <td>16158</td>\n",
              "      <td>0</td>\n",
              "      <td>0</td>\n",
              "      <td>0</td>\n",
              "      <td>0</td>\n",
              "      <td>0</td>\n",
              "      <td>59060</td>\n",
              "      <td>116168</td>\n",
              "      <td>457</td>\n",
              "      <td>0</td>\n",
              "      <td>162489</td>\n",
              "      <td>0.181818</td>\n",
              "      <td>0.181818</td>\n",
              "      <td>2</td>\n",
              "      <td>2</td>\n",
              "      <td>1.0</td>\n",
              "      <td>2</td>\n",
              "      <td>0.0</td>\n",
              "      <td>2</td>\n",
              "      <td>1</td>\n",
              "      <td>1</td>\n",
              "      <td>1</td>\n",
              "      <td>1</td>\n",
              "      <td>11.0</td>\n",
              "      <td>9.0</td>\n",
              "      <td>11.0</td>\n",
              "      <td>9.0</td>\n",
              "      <td>0.0</td>\n",
              "      <td>102</td>\n",
              "      <td>0.0</td>\n",
              "      <td>0.0</td>\n",
              "      <td>0.0</td>\n",
              "      <td>0</td>\n",
              "      <td>0</td>\n",
              "      <td>0</td>\n",
              "      <td>0.0</td>\n",
              "      <td>0.0</td>\n",
              "      <td>0</td>\n",
              "      <td>0.0</td>\n",
              "      <td>0</td>\n",
              "      <td>0.0</td>\n",
              "      <td>592452</td>\n",
              "    </tr>\n",
              "    <tr>\n",
              "      <th>1521789</th>\n",
              "      <td>0</td>\n",
              "      <td>0</td>\n",
              "      <td>102</td>\n",
              "      <td>6862</td>\n",
              "      <td>0</td>\n",
              "      <td>60355</td>\n",
              "      <td>0</td>\n",
              "      <td>5</td>\n",
              "      <td>5</td>\n",
              "      <td>16158</td>\n",
              "      <td>0</td>\n",
              "      <td>0</td>\n",
              "      <td>0</td>\n",
              "      <td>0</td>\n",
              "      <td>0</td>\n",
              "      <td>59060</td>\n",
              "      <td>116168</td>\n",
              "      <td>457</td>\n",
              "      <td>0</td>\n",
              "      <td>162489</td>\n",
              "      <td>0.181818</td>\n",
              "      <td>0.181818</td>\n",
              "      <td>2</td>\n",
              "      <td>2</td>\n",
              "      <td>1.0</td>\n",
              "      <td>2</td>\n",
              "      <td>0.0</td>\n",
              "      <td>2</td>\n",
              "      <td>1</td>\n",
              "      <td>1</td>\n",
              "      <td>1</td>\n",
              "      <td>1</td>\n",
              "      <td>11.0</td>\n",
              "      <td>9.0</td>\n",
              "      <td>11.0</td>\n",
              "      <td>9.0</td>\n",
              "      <td>0.0</td>\n",
              "      <td>100</td>\n",
              "      <td>0.0</td>\n",
              "      <td>0.0</td>\n",
              "      <td>0.0</td>\n",
              "      <td>0</td>\n",
              "      <td>0</td>\n",
              "      <td>0</td>\n",
              "      <td>0.0</td>\n",
              "      <td>0.0</td>\n",
              "      <td>0</td>\n",
              "      <td>0.0</td>\n",
              "      <td>0</td>\n",
              "      <td>0.0</td>\n",
              "      <td>590212</td>\n",
              "    </tr>\n",
              "    <tr>\n",
              "      <th>1521790</th>\n",
              "      <td>0</td>\n",
              "      <td>0</td>\n",
              "      <td>102</td>\n",
              "      <td>6862</td>\n",
              "      <td>0</td>\n",
              "      <td>60296</td>\n",
              "      <td>0</td>\n",
              "      <td>5</td>\n",
              "      <td>5</td>\n",
              "      <td>16158</td>\n",
              "      <td>0</td>\n",
              "      <td>0</td>\n",
              "      <td>0</td>\n",
              "      <td>0</td>\n",
              "      <td>0</td>\n",
              "      <td>59060</td>\n",
              "      <td>116168</td>\n",
              "      <td>457</td>\n",
              "      <td>0</td>\n",
              "      <td>162489</td>\n",
              "      <td>0.181818</td>\n",
              "      <td>0.181818</td>\n",
              "      <td>2</td>\n",
              "      <td>2</td>\n",
              "      <td>1.0</td>\n",
              "      <td>2</td>\n",
              "      <td>0.0</td>\n",
              "      <td>2</td>\n",
              "      <td>1</td>\n",
              "      <td>1</td>\n",
              "      <td>1</td>\n",
              "      <td>1</td>\n",
              "      <td>11.0</td>\n",
              "      <td>9.0</td>\n",
              "      <td>11.0</td>\n",
              "      <td>9.0</td>\n",
              "      <td>0.0</td>\n",
              "      <td>100</td>\n",
              "      <td>0.0</td>\n",
              "      <td>0.0</td>\n",
              "      <td>0.0</td>\n",
              "      <td>0</td>\n",
              "      <td>0</td>\n",
              "      <td>0</td>\n",
              "      <td>0.0</td>\n",
              "      <td>0.0</td>\n",
              "      <td>0</td>\n",
              "      <td>0.0</td>\n",
              "      <td>0</td>\n",
              "      <td>0.0</td>\n",
              "      <td>590209</td>\n",
              "    </tr>\n",
              "    <tr>\n",
              "      <th>1521791</th>\n",
              "      <td>0</td>\n",
              "      <td>0</td>\n",
              "      <td>102</td>\n",
              "      <td>6862</td>\n",
              "      <td>0</td>\n",
              "      <td>77933</td>\n",
              "      <td>0</td>\n",
              "      <td>5</td>\n",
              "      <td>5</td>\n",
              "      <td>16158</td>\n",
              "      <td>0</td>\n",
              "      <td>0</td>\n",
              "      <td>0</td>\n",
              "      <td>0</td>\n",
              "      <td>0</td>\n",
              "      <td>59060</td>\n",
              "      <td>116168</td>\n",
              "      <td>457</td>\n",
              "      <td>0</td>\n",
              "      <td>162489</td>\n",
              "      <td>0.181818</td>\n",
              "      <td>0.181818</td>\n",
              "      <td>2</td>\n",
              "      <td>2</td>\n",
              "      <td>1.0</td>\n",
              "      <td>2</td>\n",
              "      <td>0.0</td>\n",
              "      <td>2</td>\n",
              "      <td>1</td>\n",
              "      <td>1</td>\n",
              "      <td>1</td>\n",
              "      <td>1</td>\n",
              "      <td>11.0</td>\n",
              "      <td>9.0</td>\n",
              "      <td>11.0</td>\n",
              "      <td>9.0</td>\n",
              "      <td>0.0</td>\n",
              "      <td>102</td>\n",
              "      <td>0.0</td>\n",
              "      <td>0.0</td>\n",
              "      <td>0.0</td>\n",
              "      <td>0</td>\n",
              "      <td>0</td>\n",
              "      <td>0</td>\n",
              "      <td>0.0</td>\n",
              "      <td>0.0</td>\n",
              "      <td>0</td>\n",
              "      <td>0.0</td>\n",
              "      <td>0</td>\n",
              "      <td>0.0</td>\n",
              "      <td>592488</td>\n",
              "    </tr>\n",
              "  </tbody>\n",
              "</table>\n",
              "</div>"
            ],
            "text/plain": [
              "         stscd  ecfg  ...  cano_stscd_4_norm_count   txkey\n",
              "1521787      0     0  ...                      0.0  592489\n",
              "1521788      0     0  ...                      0.0  592452\n",
              "1521789      0     0  ...                      0.0  590212\n",
              "1521790      0     0  ...                      0.0  590209\n",
              "1521791      0     0  ...                      0.0  592488\n",
              "\n",
              "[5 rows x 51 columns]"
            ]
          },
          "metadata": {
            "tags": []
          },
          "execution_count": 31
        }
      ]
    },
    {
      "cell_type": "markdown",
      "metadata": {
        "id": "5KiDwXIRULY6",
        "colab_type": "text"
      },
      "source": [
        "# 定義 features & cat_features & target"
      ]
    },
    {
      "cell_type": "code",
      "metadata": {
        "id": "s-q8x2kRUI3q",
        "colab_type": "code",
        "outputId": "b83789c8-f7ee-4658-97f6-19156c5f3b30",
        "colab": {
          "base_uri": "https://localhost:8080/",
          "height": 87
        }
      },
      "source": [
        "# all features\n",
        "features = train.drop(['fraud_ind', # just target\n",
        "                       'txkey', # just like index\n",
        "                       'locdt',# just date\n",
        "                       ],axis=1).columns.tolist()\n",
        "\n",
        "# cat_features\n",
        "cat_features = sorted(list(set(features)&set(中文map.keys())))\n",
        "\n",
        "y_name = 'fraud_ind'\n",
        "\n",
        "print(len(features),features)\n",
        "print(len(cat_features),cat_features)\n",
        "print(len([y_name]),[y_name])"
      ],
      "execution_count": 32,
      "outputs": [
        {
          "output_type": "stream",
          "text": [
            "49 ['stscd', 'ecfg', 'stocn', 'acqic', 'etymd', 'loctm', 'scity', 'hcefg', 'contp', 'conam', 'insfg', 'ovrlt', 'flg_3dsmk', 'iterm', 'csmcu', 'mchno', 'cano', 'mcc', 'flbmk', 'bacno', 'cano_stscd_2_norm_count', 'bacno_stscd_2_norm_count', 'cano_stscd_nunique', 'bacno_stscd_nunique', 'cano_ecfg_0_norm_count', 'cano_stscd_2_count', 'bacno_ecfg_1_norm_count', 'bacno_stscd_2_count', 'cano_stocn_nunique', 'bacno_stocn_nunique', 'bacno_ecfg_nunique', 'cano_ecfg_nunique', 'cano_ecfg_0_count', 'cano_stscd_0_count', 'bacno_ecfg_0_count', 'bacno_stscd_0_count', 'bacno_ecfg_1_count', 'cano_ecfg_1_count', 'cano_stscd_1_norm_count', 'bacno_stscd_1_norm_count', 'bacno_stscd_1_count', 'cano_stscd_1_count', 'cano_stscd_3_count', 'bacno_stscd_3_norm_count', 'cano_stscd_3_norm_count', 'bacno_stscd_4_count', 'bacno_stscd_4_norm_count', 'bacno_stscd_3_count', 'cano_stscd_4_norm_count']\n",
            "20 ['acqic', 'bacno', 'cano', 'conam', 'contp', 'csmcu', 'ecfg', 'etymd', 'flbmk', 'flg_3dsmk', 'hcefg', 'insfg', 'iterm', 'loctm', 'mcc', 'mchno', 'ovrlt', 'scity', 'stocn', 'stscd']\n",
            "1 ['fraud_ind']\n"
          ],
          "name": "stdout"
        }
      ]
    },
    {
      "cell_type": "markdown",
      "metadata": {
        "id": "BO0yLJEMU2GH",
        "colab_type": "text"
      },
      "source": [
        "# both / test"
      ]
    },
    {
      "cell_type": "code",
      "metadata": {
        "id": "t1wvSMLxUcI5",
        "colab_type": "code",
        "outputId": "98f9b534-be1a-4895-999e-2bbdd907d16a",
        "colab": {
          "base_uri": "https://localhost:8080/",
          "height": 647
        }
      },
      "source": [
        "f = {}\n",
        "for col in cat_features:\n",
        "  both_value = set(train[col].unique())&set(test[col].unique())\n",
        "  f[col] = len(both_value)/len(test[col].unique())\n",
        "res = pd.DataFrame(f,index=['both/test']).T.sort_values(by='both/test',ascending=False)\n",
        "res['中文'] = res.index.map(中文map)\n",
        "res"
      ],
      "execution_count": 33,
      "outputs": [
        {
          "output_type": "execute_result",
          "data": {
            "text/html": [
              "<div>\n",
              "<style scoped>\n",
              "    .dataframe tbody tr th:only-of-type {\n",
              "        vertical-align: middle;\n",
              "    }\n",
              "\n",
              "    .dataframe tbody tr th {\n",
              "        vertical-align: top;\n",
              "    }\n",
              "\n",
              "    .dataframe thead th {\n",
              "        text-align: right;\n",
              "    }\n",
              "</style>\n",
              "<table border=\"1\" class=\"dataframe\">\n",
              "  <thead>\n",
              "    <tr style=\"text-align: right;\">\n",
              "      <th></th>\n",
              "      <th>both/test</th>\n",
              "      <th>中文</th>\n",
              "    </tr>\n",
              "  </thead>\n",
              "  <tbody>\n",
              "    <tr>\n",
              "      <th>stscd</th>\n",
              "      <td>1.000000</td>\n",
              "      <td>狀態碼</td>\n",
              "    </tr>\n",
              "    <tr>\n",
              "      <th>ovrlt</th>\n",
              "      <td>1.000000</td>\n",
              "      <td>超額註記碼</td>\n",
              "    </tr>\n",
              "    <tr>\n",
              "      <th>contp</th>\n",
              "      <td>1.000000</td>\n",
              "      <td>交易類別</td>\n",
              "    </tr>\n",
              "    <tr>\n",
              "      <th>ecfg</th>\n",
              "      <td>1.000000</td>\n",
              "      <td>網路交易註記</td>\n",
              "    </tr>\n",
              "    <tr>\n",
              "      <th>etymd</th>\n",
              "      <td>1.000000</td>\n",
              "      <td>交易型態</td>\n",
              "    </tr>\n",
              "    <tr>\n",
              "      <th>flbmk</th>\n",
              "      <td>1.000000</td>\n",
              "      <td>Fallback註記</td>\n",
              "    </tr>\n",
              "    <tr>\n",
              "      <th>flg_3dsmk</th>\n",
              "      <td>1.000000</td>\n",
              "      <td>3DS交易註記</td>\n",
              "    </tr>\n",
              "    <tr>\n",
              "      <th>insfg</th>\n",
              "      <td>1.000000</td>\n",
              "      <td>分期交易註記</td>\n",
              "    </tr>\n",
              "    <tr>\n",
              "      <th>iterm</th>\n",
              "      <td>1.000000</td>\n",
              "      <td>分期期數</td>\n",
              "    </tr>\n",
              "    <tr>\n",
              "      <th>loctm</th>\n",
              "      <td>0.990267</td>\n",
              "      <td>授權時間</td>\n",
              "    </tr>\n",
              "    <tr>\n",
              "      <th>stocn</th>\n",
              "      <td>0.931034</td>\n",
              "      <td>消費地國別</td>\n",
              "    </tr>\n",
              "    <tr>\n",
              "      <th>mcc</th>\n",
              "      <td>0.930108</td>\n",
              "      <td>MCC_CODE</td>\n",
              "    </tr>\n",
              "    <tr>\n",
              "      <th>csmcu</th>\n",
              "      <td>0.929825</td>\n",
              "      <td>消費地幣別</td>\n",
              "    </tr>\n",
              "    <tr>\n",
              "      <th>hcefg</th>\n",
              "      <td>0.900000</td>\n",
              "      <td>支付型態</td>\n",
              "    </tr>\n",
              "    <tr>\n",
              "      <th>acqic</th>\n",
              "      <td>0.782551</td>\n",
              "      <td>收單行代碼</td>\n",
              "    </tr>\n",
              "    <tr>\n",
              "      <th>mchno</th>\n",
              "      <td>0.704028</td>\n",
              "      <td>特店代號</td>\n",
              "    </tr>\n",
              "    <tr>\n",
              "      <th>scity</th>\n",
              "      <td>0.667833</td>\n",
              "      <td>消費城市</td>\n",
              "    </tr>\n",
              "    <tr>\n",
              "      <th>conam</th>\n",
              "      <td>0.582012</td>\n",
              "      <td>交易金額-台幣(經過轉換)</td>\n",
              "    </tr>\n",
              "    <tr>\n",
              "      <th>bacno</th>\n",
              "      <td>0.043995</td>\n",
              "      <td>歸戶帳號</td>\n",
              "    </tr>\n",
              "    <tr>\n",
              "      <th>cano</th>\n",
              "      <td>0.043349</td>\n",
              "      <td>交易卡號</td>\n",
              "    </tr>\n",
              "  </tbody>\n",
              "</table>\n",
              "</div>"
            ],
            "text/plain": [
              "           both/test             中文\n",
              "stscd       1.000000            狀態碼\n",
              "ovrlt       1.000000          超額註記碼\n",
              "contp       1.000000           交易類別\n",
              "ecfg        1.000000         網路交易註記\n",
              "etymd       1.000000           交易型態\n",
              "flbmk       1.000000     Fallback註記\n",
              "flg_3dsmk   1.000000        3DS交易註記\n",
              "insfg       1.000000         分期交易註記\n",
              "iterm       1.000000           分期期數\n",
              "loctm       0.990267           授權時間\n",
              "stocn       0.931034          消費地國別\n",
              "mcc         0.930108       MCC_CODE\n",
              "csmcu       0.929825          消費地幣別\n",
              "hcefg       0.900000           支付型態\n",
              "acqic       0.782551          收單行代碼\n",
              "mchno       0.704028           特店代號\n",
              "scity       0.667833           消費城市\n",
              "conam       0.582012  交易金額-台幣(經過轉換)\n",
              "bacno       0.043995           歸戶帳號\n",
              "cano        0.043349           交易卡號"
            ]
          },
          "metadata": {
            "tags": []
          },
          "execution_count": 33
        }
      ]
    },
    {
      "cell_type": "markdown",
      "metadata": {
        "id": "AwxZW4wUVJ7b",
        "colab_type": "text"
      },
      "source": [
        "# drop rare features"
      ]
    },
    {
      "cell_type": "code",
      "metadata": {
        "id": "b1CWi1f0VCKZ",
        "colab_type": "code",
        "outputId": "9285781c-22b4-4836-d65d-7b5a68c82860",
        "colab": {
          "base_uri": "https://localhost:8080/",
          "height": 50
        }
      },
      "source": [
        "print(len(features))\n",
        "try:\n",
        "  features.remove('bacno')\n",
        "  features.remove('cano')\n",
        "except:\n",
        "  pass\n",
        "print(len(features))"
      ],
      "execution_count": 34,
      "outputs": [
        {
          "output_type": "stream",
          "text": [
            "49\n",
            "47\n"
          ],
          "name": "stdout"
        }
      ]
    },
    {
      "cell_type": "code",
      "metadata": {
        "id": "ERFEZJFiVL5p",
        "colab_type": "code",
        "outputId": "930cbeac-79b4-44a3-aa81-b60ebceaf5e9",
        "colab": {
          "base_uri": "https://localhost:8080/",
          "height": 50
        }
      },
      "source": [
        "print(len(cat_features))\n",
        "try:\n",
        "  cat_features.remove('bacno')\n",
        "  cat_features.remove('cano')\n",
        "except:\n",
        "  pass\n",
        "print(len(cat_features))"
      ],
      "execution_count": 35,
      "outputs": [
        {
          "output_type": "stream",
          "text": [
            "20\n",
            "18\n"
          ],
          "name": "stdout"
        }
      ]
    },
    {
      "cell_type": "markdown",
      "metadata": {
        "id": "L3hXljHeVQw_",
        "colab_type": "text"
      },
      "source": [
        "# 切分 train 跟 val"
      ]
    },
    {
      "cell_type": "code",
      "metadata": {
        "id": "d0Avyx4xVNLu",
        "colab_type": "code",
        "colab": {}
      },
      "source": [
        "from sklearn.model_selection import KFold\n",
        "# random_seed影響Fold生成方式,進而影響train和val,進而影響train出來的model \n",
        "kf = KFold(n_splits = 5 ,random_state=random_seed)\n",
        "Folds = {}\n",
        "\n",
        "for i,train_val_index in enumerate(kf.split(train.index)):\n",
        "  Folds[i] = train_val_index"
      ],
      "execution_count": 0,
      "outputs": []
    },
    {
      "cell_type": "code",
      "metadata": {
        "id": "xlYR2IvHVSqD",
        "colab_type": "code",
        "colab": {}
      },
      "source": [
        "#num_Fold影響train,進而影響model\n",
        "train_index ,val_index = Folds[num_Fold]"
      ],
      "execution_count": 0,
      "outputs": []
    },
    {
      "cell_type": "code",
      "metadata": {
        "id": "l5IlJUShVVA0",
        "colab_type": "code",
        "colab": {}
      },
      "source": [
        "val = train.loc[val_index,features+[y_name]]\n",
        "train = train.loc[train_index,features+[y_name]]"
      ],
      "execution_count": 0,
      "outputs": []
    },
    {
      "cell_type": "markdown",
      "metadata": {
        "id": "iub0anLkVyit",
        "colab_type": "text"
      },
      "source": [
        "# val 再切分 val_1,val_2"
      ]
    },
    {
      "cell_type": "code",
      "metadata": {
        "id": "sBa-uXhwVW8S",
        "colab_type": "code",
        "outputId": "e1bd85ad-89e7-4a6e-8f9d-f3b6b9554476",
        "colab": {
          "base_uri": "https://localhost:8080/",
          "height": 67
        }
      },
      "source": [
        "from sklearn.model_selection import train_test_split\n",
        "#random_seed影響切分方式,進而影響val_1,val_2,進而影響後續評分\n",
        "val_1 ,val_2 = train_test_split(val[features+[y_name]] ,test_size=0.5 ,random_state=random_seed)\n",
        "print(train.shape)\n",
        "print(val_1.shape)\n",
        "print(val_2.shape)"
      ],
      "execution_count": 39,
      "outputs": [
        {
          "output_type": "stream",
          "text": [
            "(1217429, 48)\n",
            "(152179, 48)\n",
            "(152179, 48)\n"
          ],
          "name": "stdout"
        }
      ]
    },
    {
      "cell_type": "markdown",
      "metadata": {
        "id": "EsjF-5t-V7oX",
        "colab_type": "text"
      },
      "source": [
        "# 計算class weight"
      ]
    },
    {
      "cell_type": "markdown",
      "metadata": {
        "id": "UZZY_fEHXd7i",
        "colab_type": "text"
      },
      "source": [
        "考慮到樣本class不平衡問題"
      ]
    },
    {
      "cell_type": "code",
      "metadata": {
        "id": "mzmuOqc6V4tv",
        "colab_type": "code",
        "outputId": "8fb6cb76-7e01-4751-df6d-9f40ff166d08",
        "colab": {
          "base_uri": "https://localhost:8080/",
          "height": 33
        }
      },
      "source": [
        "from sklearn.utils.class_weight import compute_class_weight\n",
        "import numpy as np\n",
        "\n",
        "y_org = train[y_name].append(val[y_name])\n",
        "\n",
        "class_weight_dict = dict(zip([0,1],\n",
        "                             compute_class_weight(class_weight ='balanced',\n",
        "                                                  classes = np.unique(y_org),\n",
        "                                                  y = y_org)))\n",
        "class_weight_dict = list(class_weight_dict.values())\n",
        "class_weight_dict"
      ],
      "execution_count": 40,
      "outputs": [
        {
          "output_type": "execute_result",
          "data": {
            "text/plain": [
              "[0.5067785287645394, 37.381159420289855]"
            ]
          },
          "metadata": {
            "tags": []
          },
          "execution_count": 40
        }
      ]
    },
    {
      "cell_type": "markdown",
      "metadata": {
        "id": "PbDWTaaXvcjA",
        "colab_type": "text"
      },
      "source": [
        "# scaler 數值特徵"
      ]
    },
    {
      "cell_type": "code",
      "metadata": {
        "id": "kWWGrNvkvcqe",
        "colab_type": "code",
        "outputId": "28d7021d-cfb6-4044-cec9-90efa55f16e7",
        "colab": {
          "base_uri": "https://localhost:8080/",
          "height": 500
        }
      },
      "source": [
        "#產生數值特徵列表\n",
        "num_feat = list(set(features)^set(cat_features))\n",
        "num_feat"
      ],
      "execution_count": 41,
      "outputs": [
        {
          "output_type": "execute_result",
          "data": {
            "text/plain": [
              "['cano_stscd_1_norm_count',\n",
              " 'cano_stscd_0_count',\n",
              " 'bacno_stscd_0_count',\n",
              " 'bacno_stscd_1_count',\n",
              " 'cano_stscd_2_norm_count',\n",
              " 'bacno_stscd_4_norm_count',\n",
              " 'bacno_stscd_4_count',\n",
              " 'cano_ecfg_0_norm_count',\n",
              " 'bacno_ecfg_nunique',\n",
              " 'cano_stscd_4_norm_count',\n",
              " 'bacno_stscd_nunique',\n",
              " 'bacno_ecfg_1_norm_count',\n",
              " 'cano_stscd_1_count',\n",
              " 'bacno_ecfg_0_count',\n",
              " 'bacno_stscd_3_norm_count',\n",
              " 'cano_stscd_nunique',\n",
              " 'bacno_stscd_2_norm_count',\n",
              " 'cano_ecfg_0_count',\n",
              " 'bacno_stscd_3_count',\n",
              " 'bacno_ecfg_1_count',\n",
              " 'cano_stscd_3_norm_count',\n",
              " 'cano_stscd_3_count',\n",
              " 'cano_stscd_2_count',\n",
              " 'bacno_stocn_nunique',\n",
              " 'bacno_stscd_1_norm_count',\n",
              " 'cano_ecfg_nunique',\n",
              " 'cano_ecfg_1_count',\n",
              " 'bacno_stscd_2_count',\n",
              " 'cano_stocn_nunique']"
            ]
          },
          "metadata": {
            "tags": []
          },
          "execution_count": 41
        }
      ]
    },
    {
      "cell_type": "code",
      "metadata": {
        "id": "-YeHe79vv7-w",
        "colab_type": "code",
        "colab": {}
      },
      "source": [
        "from sklearn.preprocessing import StandardScaler\n",
        "\n",
        "# fit on \"full\" data's num_feat\n",
        "scaler =  StandardScaler().fit(train[num_feat].append(val[num_feat]).append(test[num_feat]))\n",
        "\n",
        "# transform \"each\" data's num_feat\n",
        "train[num_feat] = scaler.transform(train[num_feat])\n",
        "val_1[num_feat] = scaler.transform(val_1[num_feat])\n",
        "val_2[num_feat] = scaler.transform(val_2[num_feat])\n",
        "test[num_feat] = scaler.transform(test[num_feat])"
      ],
      "execution_count": 0,
      "outputs": []
    },
    {
      "cell_type": "code",
      "metadata": {
        "id": "-oYH9737wBLr",
        "colab_type": "code",
        "outputId": "d3065726-ed8b-438f-8e24-e6a7d517a2a9",
        "colab": {
          "base_uri": "https://localhost:8080/",
          "height": 33
        }
      },
      "source": [
        "import gc\n",
        "gc.collect()"
      ],
      "execution_count": 43,
      "outputs": [
        {
          "output_type": "execute_result",
          "data": {
            "text/plain": [
              "8595"
            ]
          },
          "metadata": {
            "tags": []
          },
          "execution_count": 43
        }
      ]
    },
    {
      "cell_type": "markdown",
      "metadata": {
        "id": "WgzG4ZFkWXOM",
        "colab_type": "text"
      },
      "source": [
        "# modelling"
      ]
    },
    {
      "cell_type": "markdown",
      "metadata": {
        "id": "niNIImHdAo9D",
        "colab_type": "text"
      },
      "source": [
        "準備類別特徵"
      ]
    },
    {
      "cell_type": "code",
      "metadata": {
        "id": "FrB3R9ZkwZKJ",
        "colab_type": "code",
        "outputId": "0918eda4-95d4-4f46-fb94-c0a56ff31658",
        "colab": {
          "base_uri": "https://localhost:8080/",
          "height": 267
        }
      },
      "source": [
        "train[features].columns"
      ],
      "execution_count": 44,
      "outputs": [
        {
          "output_type": "execute_result",
          "data": {
            "text/plain": [
              "Index(['stscd', 'ecfg', 'stocn', 'acqic', 'etymd', 'loctm', 'scity', 'hcefg',\n",
              "       'contp', 'conam', 'insfg', 'ovrlt', 'flg_3dsmk', 'iterm', 'csmcu',\n",
              "       'mchno', 'mcc', 'flbmk', 'cano_stscd_2_norm_count',\n",
              "       'bacno_stscd_2_norm_count', 'cano_stscd_nunique', 'bacno_stscd_nunique',\n",
              "       'cano_ecfg_0_norm_count', 'cano_stscd_2_count',\n",
              "       'bacno_ecfg_1_norm_count', 'bacno_stscd_2_count', 'cano_stocn_nunique',\n",
              "       'bacno_stocn_nunique', 'bacno_ecfg_nunique', 'cano_ecfg_nunique',\n",
              "       'cano_ecfg_0_count', 'cano_stscd_0_count', 'bacno_ecfg_0_count',\n",
              "       'bacno_stscd_0_count', 'bacno_ecfg_1_count', 'cano_ecfg_1_count',\n",
              "       'cano_stscd_1_norm_count', 'bacno_stscd_1_norm_count',\n",
              "       'bacno_stscd_1_count', 'cano_stscd_1_count', 'cano_stscd_3_count',\n",
              "       'bacno_stscd_3_norm_count', 'cano_stscd_3_norm_count',\n",
              "       'bacno_stscd_4_count', 'bacno_stscd_4_norm_count',\n",
              "       'bacno_stscd_3_count', 'cano_stscd_4_norm_count'],\n",
              "      dtype='object')"
            ]
          },
          "metadata": {
            "tags": []
          },
          "execution_count": 44
        }
      ]
    },
    {
      "cell_type": "code",
      "metadata": {
        "id": "8FbdGM3bWDYN",
        "colab_type": "code",
        "outputId": "c9a550e3-dbc0-46c4-e407-e7cef5af5f91",
        "colab": {
          "base_uri": "https://localhost:8080/",
          "height": 50
        }
      },
      "source": [
        "#類別特徵索引\n",
        "cate_features_index = np.where(train[features].dtypes != float)[0]\n",
        "cate_features_index"
      ],
      "execution_count": 45,
      "outputs": [
        {
          "output_type": "execute_result",
          "data": {
            "text/plain": [
              "array([ 0,  1,  2,  3,  4,  5,  6,  7,  8,  9, 10, 11, 12, 13, 14, 15, 16,\n",
              "       17])"
            ]
          },
          "metadata": {
            "tags": []
          },
          "execution_count": 45
        }
      ]
    },
    {
      "cell_type": "markdown",
      "metadata": {
        "id": "jTN-xS8_AhdG",
        "colab_type": "text"
      },
      "source": [
        "# 定義模型"
      ]
    },
    {
      "cell_type": "code",
      "metadata": {
        "id": "bEefAuLjWuzD",
        "colab_type": "code",
        "colab": {}
      },
      "source": [
        "from catboost import CatBoostClassifier\n",
        "model = CatBoostClassifier(\n",
        "    class_weights = [1.0,1.5],#因為樣本不平衡,盜刷樣本比較少\n",
        "    #learning_rate = 0.1/2, #學習率,不設定catboost會自己set\n",
        "    iterations = 250,# 跑幾次迭代,250次,省時間\n",
        "    loss_function = 'Logloss',#因為是二分類問題\n",
        "    eval_metric = 'F1',#主辦單位指定評估指標\n",
        "    use_best_model = True,#使用最好model\n",
        "    random_seed = random_seed,#設定隨機種子\n",
        "    task_type=\"GPU\",#用GPU加速\n",
        "    )"
      ],
      "execution_count": 0,
      "outputs": []
    },
    {
      "cell_type": "markdown",
      "metadata": {
        "id": "kicMO21dAmXq",
        "colab_type": "text"
      },
      "source": [
        "# 訓練"
      ]
    },
    {
      "cell_type": "code",
      "metadata": {
        "id": "VM4-5lmmXv97",
        "colab_type": "code",
        "outputId": "ce5e1a4e-62da-4531-d136-edd53e41817c",
        "colab": {
          "base_uri": "https://localhost:8080/",
          "height": 1000
        }
      },
      "source": [
        "model.fit(train[features],train[y_name], #訓練資料\n",
        "          eval_set = (val_1[features],val_1[y_name]), #val_1當驗證資料\n",
        "          cat_features = cate_features_index, #指定類別特徵索引\n",
        "          )"
      ],
      "execution_count": 47,
      "outputs": [
        {
          "output_type": "stream",
          "text": [
            "Learning rate set to 0.297786\n",
            "0:\tlearn: 0.6083356\ttest: 0.6492598\tbest: 0.6492598 (0)\ttotal: 633ms\tremaining: 2m 37s\n",
            "1:\tlearn: 0.6084269\ttest: 0.6583443\tbest: 0.6583443 (1)\ttotal: 1.17s\tremaining: 2m 25s\n",
            "2:\tlearn: 0.6231579\ttest: 0.6723508\tbest: 0.6723508 (2)\ttotal: 1.64s\tremaining: 2m 15s\n",
            "3:\tlearn: 0.6137957\ttest: 0.6614987\tbest: 0.6723508 (2)\ttotal: 2.1s\tremaining: 2m 9s\n",
            "4:\tlearn: 0.6350587\ttest: 0.6785010\tbest: 0.6785010 (4)\ttotal: 2.73s\tremaining: 2m 13s\n",
            "5:\tlearn: 0.6411147\ttest: 0.6789903\tbest: 0.6789903 (5)\ttotal: 3.19s\tremaining: 2m 9s\n",
            "6:\tlearn: 0.6410186\ttest: 0.6824831\tbest: 0.6824831 (6)\ttotal: 3.69s\tremaining: 2m 7s\n",
            "7:\tlearn: 0.6487051\ttest: 0.6935378\tbest: 0.6935378 (7)\ttotal: 4.17s\tremaining: 2m 6s\n",
            "8:\tlearn: 0.6555353\ttest: 0.7014209\tbest: 0.7014209 (8)\ttotal: 4.7s\tremaining: 2m 5s\n",
            "9:\tlearn: 0.6613461\ttest: 0.7063354\tbest: 0.7063354 (9)\ttotal: 5.21s\tremaining: 2m 5s\n",
            "10:\tlearn: 0.6648485\ttest: 0.7074115\tbest: 0.7074115 (10)\ttotal: 5.75s\tremaining: 2m 4s\n",
            "11:\tlearn: 0.6700807\ttest: 0.7125864\tbest: 0.7125864 (11)\ttotal: 6.2s\tremaining: 2m 2s\n",
            "12:\tlearn: 0.6764223\ttest: 0.7178367\tbest: 0.7178367 (12)\ttotal: 6.75s\tremaining: 2m 2s\n",
            "13:\tlearn: 0.6798849\ttest: 0.7210230\tbest: 0.7210230 (13)\ttotal: 7.31s\tremaining: 2m 3s\n",
            "14:\tlearn: 0.6862287\ttest: 0.7270588\tbest: 0.7270588 (14)\ttotal: 7.76s\tremaining: 2m 1s\n",
            "15:\tlearn: 0.6871768\ttest: 0.7285598\tbest: 0.7285598 (15)\ttotal: 8.26s\tremaining: 2m\n",
            "16:\tlearn: 0.6889353\ttest: 0.7298621\tbest: 0.7298621 (16)\ttotal: 8.7s\tremaining: 1m 59s\n",
            "17:\tlearn: 0.6902314\ttest: 0.7318264\tbest: 0.7318264 (17)\ttotal: 9.36s\tremaining: 2m\n",
            "18:\tlearn: 0.6903668\ttest: 0.7309783\tbest: 0.7318264 (17)\ttotal: 9.79s\tremaining: 1m 58s\n",
            "19:\tlearn: 0.6931981\ttest: 0.7328286\tbest: 0.7328286 (19)\ttotal: 10.2s\tremaining: 1m 57s\n",
            "20:\tlearn: 0.6937244\ttest: 0.7331468\tbest: 0.7331468 (20)\ttotal: 10.6s\tremaining: 1m 55s\n",
            "21:\tlearn: 0.6944742\ttest: 0.7337545\tbest: 0.7337545 (21)\ttotal: 11.1s\tremaining: 1m 55s\n",
            "22:\tlearn: 0.6961326\ttest: 0.7340195\tbest: 0.7340195 (22)\ttotal: 11.6s\tremaining: 1m 54s\n",
            "23:\tlearn: 0.6981237\ttest: 0.7371367\tbest: 0.7371367 (23)\ttotal: 12.1s\tremaining: 1m 53s\n",
            "24:\tlearn: 0.6997420\ttest: 0.7371552\tbest: 0.7371552 (24)\ttotal: 12.5s\tremaining: 1m 52s\n",
            "25:\tlearn: 0.7006415\ttest: 0.7429239\tbest: 0.7429239 (25)\ttotal: 13s\tremaining: 1m 51s\n",
            "26:\tlearn: 0.7019205\ttest: 0.7427904\tbest: 0.7429239 (25)\ttotal: 13.4s\tremaining: 1m 50s\n",
            "27:\tlearn: 0.7022474\ttest: 0.7438773\tbest: 0.7438773 (27)\ttotal: 14s\tremaining: 1m 50s\n",
            "28:\tlearn: 0.7037844\ttest: 0.7444195\tbest: 0.7444195 (28)\ttotal: 14.5s\tremaining: 1m 50s\n",
            "29:\tlearn: 0.7044620\ttest: 0.7448906\tbest: 0.7448906 (29)\ttotal: 14.9s\tremaining: 1m 49s\n",
            "30:\tlearn: 0.7050938\ttest: 0.7447571\tbest: 0.7448906 (29)\ttotal: 15.4s\tremaining: 1m 48s\n",
            "31:\tlearn: 0.7053424\ttest: 0.7449538\tbest: 0.7449538 (31)\ttotal: 16s\tremaining: 1m 48s\n",
            "32:\tlearn: 0.7070113\ttest: 0.7461001\tbest: 0.7461001 (32)\ttotal: 16.4s\tremaining: 1m 47s\n",
            "33:\tlearn: 0.7079413\ttest: 0.7471759\tbest: 0.7471759 (33)\ttotal: 16.9s\tremaining: 1m 47s\n",
            "34:\tlearn: 0.7101213\ttest: 0.7490590\tbest: 0.7490590 (34)\ttotal: 17.5s\tremaining: 1m 47s\n",
            "35:\tlearn: 0.7107155\ttest: 0.7495976\tbest: 0.7495976 (35)\ttotal: 18s\tremaining: 1m 46s\n",
            "36:\tlearn: 0.7112723\ttest: 0.7490617\tbest: 0.7495976 (35)\ttotal: 18.5s\tremaining: 1m 46s\n",
            "37:\tlearn: 0.7116973\ttest: 0.7484519\tbest: 0.7495976 (35)\ttotal: 18.9s\tremaining: 1m 45s\n",
            "38:\tlearn: 0.7124419\ttest: 0.7500000\tbest: 0.7500000 (38)\ttotal: 19.6s\tremaining: 1m 45s\n",
            "39:\tlearn: 0.7136148\ttest: 0.7505380\tbest: 0.7505380 (39)\ttotal: 20.1s\tremaining: 1m 45s\n",
            "40:\tlearn: 0.7145036\ttest: 0.7512763\tbest: 0.7512763 (40)\ttotal: 20.7s\tremaining: 1m 45s\n",
            "41:\tlearn: 0.7149370\ttest: 0.7526170\tbest: 0.7526170 (41)\ttotal: 21.2s\tremaining: 1m 45s\n",
            "42:\tlearn: 0.7147669\ttest: 0.7516803\tbest: 0.7526170 (41)\ttotal: 21.6s\tremaining: 1m 44s\n",
            "43:\tlearn: 0.7162338\ttest: 0.7520158\tbest: 0.7526170 (41)\ttotal: 22.2s\tremaining: 1m 43s\n",
            "44:\tlearn: 0.7165903\ttest: 0.7528170\tbest: 0.7528170 (44)\ttotal: 22.7s\tremaining: 1m 43s\n",
            "45:\tlearn: 0.7171301\ttest: 0.7520158\tbest: 0.7528170 (44)\ttotal: 23.3s\tremaining: 1m 43s\n",
            "46:\tlearn: 0.7173974\ttest: 0.7535558\tbest: 0.7535558 (46)\ttotal: 23.8s\tremaining: 1m 42s\n",
            "47:\tlearn: 0.7178434\ttest: 0.7522821\tbest: 0.7535558 (46)\ttotal: 24.3s\tremaining: 1m 42s\n",
            "48:\tlearn: 0.7195333\ttest: 0.7548923\tbest: 0.7548923 (48)\ttotal: 24.9s\tremaining: 1m 41s\n",
            "49:\tlearn: 0.7199550\ttest: 0.7540896\tbest: 0.7548923 (48)\ttotal: 25.2s\tremaining: 1m 40s\n",
            "50:\tlearn: 0.7202250\ttest: 0.7553610\tbest: 0.7553610 (50)\ttotal: 25.6s\tremaining: 1m 40s\n",
            "51:\tlearn: 0.7207484\ttest: 0.7538200\tbest: 0.7553610 (50)\ttotal: 26.1s\tremaining: 1m 39s\n",
            "52:\tlearn: 0.7209512\ttest: 0.7533512\tbest: 0.7553610 (50)\ttotal: 26.7s\tremaining: 1m 39s\n",
            "53:\tlearn: 0.7210470\ttest: 0.7536853\tbest: 0.7553610 (50)\ttotal: 27.2s\tremaining: 1m 38s\n",
            "54:\tlearn: 0.7212330\ttest: 0.7540193\tbest: 0.7553610 (50)\ttotal: 27.6s\tremaining: 1m 37s\n",
            "55:\tlearn: 0.7222671\ttest: 0.7536853\tbest: 0.7553610 (50)\ttotal: 28s\tremaining: 1m 37s\n",
            "56:\tlearn: 0.7237655\ttest: 0.7538902\tbest: 0.7553610 (50)\ttotal: 28.5s\tremaining: 1m 36s\n",
            "57:\tlearn: 0.7240372\ttest: 0.7541540\tbest: 0.7553610 (50)\ttotal: 29.1s\tremaining: 1m 36s\n",
            "58:\tlearn: 0.7237409\ttest: 0.7544236\tbest: 0.7553610 (50)\ttotal: 29.6s\tremaining: 1m 35s\n",
            "59:\tlearn: 0.7245737\ttest: 0.7538902\tbest: 0.7553610 (50)\ttotal: 30.1s\tremaining: 1m 35s\n",
            "60:\tlearn: 0.7244512\ttest: 0.7542244\tbest: 0.7553610 (50)\ttotal: 30.6s\tremaining: 1m 34s\n",
            "61:\tlearn: 0.7247812\ttest: 0.7545585\tbest: 0.7553610 (50)\ttotal: 31.1s\tremaining: 1m 34s\n",
            "62:\tlearn: 0.7252206\ttest: 0.7540896\tbest: 0.7553610 (50)\ttotal: 31.7s\tremaining: 1m 34s\n",
            "63:\tlearn: 0.7258223\ttest: 0.7544236\tbest: 0.7553610 (50)\ttotal: 32.2s\tremaining: 1m 33s\n",
            "64:\tlearn: 0.7263987\ttest: 0.7552897\tbest: 0.7553610 (50)\ttotal: 32.8s\tremaining: 1m 33s\n",
            "65:\tlearn: 0.7272514\ttest: 0.7558929\tbest: 0.7558929 (65)\ttotal: 33.3s\tremaining: 1m 32s\n",
            "66:\tlearn: 0.7272493\ttest: 0.7550911\tbest: 0.7558929 (65)\ttotal: 33.8s\tremaining: 1m 32s\n",
            "67:\tlearn: 0.7280441\ttest: 0.7558379\tbest: 0.7558929 (65)\ttotal: 34.3s\tremaining: 1m 31s\n",
            "68:\tlearn: 0.7279034\ttest: 0.7558379\tbest: 0.7558929 (65)\ttotal: 34.7s\tremaining: 1m 31s\n",
            "69:\tlearn: 0.7292600\ttest: 0.7570470\tbest: 0.7570470 (69)\ttotal: 35.2s\tremaining: 1m 30s\n",
            "70:\tlearn: 0.7295331\ttest: 0.7583184\tbest: 0.7583184 (70)\ttotal: 35.6s\tremaining: 1m 29s\n",
            "71:\tlearn: 0.7298010\ttest: 0.7590588\tbest: 0.7590588 (71)\ttotal: 36.1s\tremaining: 1m 29s\n",
            "72:\tlearn: 0.7302227\ttest: 0.7590588\tbest: 0.7590588 (71)\ttotal: 36.5s\tremaining: 1m 28s\n",
            "73:\tlearn: 0.7302123\ttest: 0.7572555\tbest: 0.7590588 (71)\ttotal: 37s\tremaining: 1m 28s\n",
            "74:\tlearn: 0.7299161\ttest: 0.7585281\tbest: 0.7590588 (71)\ttotal: 37.5s\tremaining: 1m 27s\n",
            "75:\tlearn: 0.7307544\ttest: 0.7593305\tbest: 0.7593305 (75)\ttotal: 37.8s\tremaining: 1m 26s\n",
            "76:\tlearn: 0.7309017\ttest: 0.7594665\tbest: 0.7594665 (76)\ttotal: 38.3s\tremaining: 1m 26s\n",
            "77:\tlearn: 0.7317656\ttest: 0.7587256\tbest: 0.7594665 (76)\ttotal: 38.7s\tremaining: 1m 25s\n",
            "78:\tlearn: 0.7321834\ttest: 0.7587256\tbest: 0.7594665 (76)\ttotal: 39.2s\tremaining: 1m 24s\n",
            "79:\tlearn: 0.7330298\ttest: 0.7580587\tbest: 0.7594665 (76)\ttotal: 39.7s\tremaining: 1m 24s\n",
            "80:\tlearn: 0.7329384\ttest: 0.7582565\tbest: 0.7594665 (76)\ttotal: 40.2s\tremaining: 1m 23s\n",
            "81:\tlearn: 0.7335788\ttest: 0.7585898\tbest: 0.7594665 (76)\ttotal: 40.8s\tremaining: 1m 23s\n",
            "82:\tlearn: 0.7338372\ttest: 0.7567956\tbest: 0.7594665 (76)\ttotal: 41.3s\tremaining: 1m 23s\n",
            "83:\tlearn: 0.7338210\ttest: 0.7557910\tbest: 0.7594665 (76)\ttotal: 41.8s\tremaining: 1m 22s\n",
            "84:\tlearn: 0.7342886\ttest: 0.7565967\tbest: 0.7594665 (76)\ttotal: 42.3s\tremaining: 1m 22s\n",
            "85:\tlearn: 0.7352828\ttest: 0.7579344\tbest: 0.7594665 (76)\ttotal: 42.8s\tremaining: 1m 21s\n",
            "86:\tlearn: 0.7354975\ttest: 0.7599498\tbest: 0.7599498 (86)\ttotal: 43.4s\tremaining: 1m 21s\n",
            "87:\tlearn: 0.7364555\ttest: 0.7600107\tbest: 0.7600107 (87)\ttotal: 43.9s\tremaining: 1m 20s\n",
            "88:\tlearn: 0.7370120\ttest: 0.7605407\tbest: 0.7605407 (88)\ttotal: 44.4s\tremaining: 1m 20s\n",
            "89:\tlearn: 0.7374255\ttest: 0.7610097\tbest: 0.7610097 (89)\ttotal: 44.9s\tremaining: 1m 19s\n",
            "90:\tlearn: 0.7382350\ttest: 0.7608579\tbest: 0.7610097 (89)\ttotal: 45.4s\tremaining: 1m 19s\n",
            "91:\tlearn: 0.7379762\ttest: 0.7609181\tbest: 0.7610097 (89)\ttotal: 45.8s\tremaining: 1m 18s\n",
            "92:\tlearn: 0.7382619\ttest: 0.7613860\tbest: 0.7613860 (92)\ttotal: 46.2s\tremaining: 1m 18s\n",
            "93:\tlearn: 0.7383332\ttest: 0.7609181\tbest: 0.7613860 (92)\ttotal: 46.7s\tremaining: 1m 17s\n",
            "94:\tlearn: 0.7389647\ttest: 0.7614458\tbest: 0.7614458 (94)\ttotal: 47.3s\tremaining: 1m 17s\n",
            "95:\tlearn: 0.7396319\ttest: 0.7608579\tbest: 0.7614458 (94)\ttotal: 47.8s\tremaining: 1m 16s\n",
            "96:\tlearn: 0.7396646\ttest: 0.7618368\tbest: 0.7618368 (96)\ttotal: 48.1s\tremaining: 1m 15s\n",
            "97:\tlearn: 0.7405393\ttest: 0.7629068\tbest: 0.7629068 (97)\ttotal: 48.7s\tremaining: 1m 15s\n",
            "98:\tlearn: 0.7411831\ttest: 0.7637627\tbest: 0.7637627 (98)\ttotal: 49.1s\tremaining: 1m 14s\n",
            "99:\tlearn: 0.7418485\ttest: 0.7625167\tbest: 0.7637627 (98)\ttotal: 49.7s\tremaining: 1m 14s\n",
            "100:\tlearn: 0.7425424\ttest: 0.7633152\tbest: 0.7637627 (98)\ttotal: 50.1s\tremaining: 1m 13s\n",
            "101:\tlearn: 0.7425517\ttest: 0.7638604\tbest: 0.7638604 (101)\ttotal: 50.5s\tremaining: 1m 13s\n",
            "102:\tlearn: 0.7422406\ttest: 0.7639968\tbest: 0.7639968 (102)\ttotal: 51s\tremaining: 1m 12s\n",
            "103:\tlearn: 0.7420123\ttest: 0.7646586\tbest: 0.7646586 (103)\ttotal: 51.4s\tremaining: 1m 12s\n",
            "104:\tlearn: 0.7422218\ttest: 0.7646586\tbest: 0.7646586 (103)\ttotal: 51.9s\tremaining: 1m 11s\n",
            "105:\tlearn: 0.7427050\ttest: 0.7649893\tbest: 0.7649893 (105)\ttotal: 52.5s\tremaining: 1m 11s\n",
            "106:\tlearn: 0.7426422\ttest: 0.7634706\tbest: 0.7649893 (105)\ttotal: 52.9s\tremaining: 1m 10s\n",
            "107:\tlearn: 0.7428531\ttest: 0.7644063\tbest: 0.7649893 (105)\ttotal: 53.4s\tremaining: 1m 10s\n",
            "108:\tlearn: 0.7428798\ttest: 0.7657296\tbest: 0.7657296 (108)\ttotal: 54s\tremaining: 1m 9s\n",
            "109:\tlearn: 0.7430707\ttest: 0.7642117\tbest: 0.7657296 (108)\ttotal: 54.5s\tremaining: 1m 9s\n",
            "110:\tlearn: 0.7433883\ttest: 0.7639385\tbest: 0.7657296 (108)\ttotal: 54.9s\tremaining: 1m 8s\n",
            "111:\tlearn: 0.7434279\ttest: 0.7657521\tbest: 0.7657521 (111)\ttotal: 55.4s\tremaining: 1m 8s\n",
            "112:\tlearn: 0.7434626\ttest: 0.7664938\tbest: 0.7664938 (112)\ttotal: 55.9s\tremaining: 1m 7s\n",
            "113:\tlearn: 0.7437045\ttest: 0.7646008\tbest: 0.7664938 (112)\ttotal: 56.5s\tremaining: 1m 7s\n",
            "114:\tlearn: 0.7438560\ttest: 0.7640550\tbest: 0.7664938 (112)\ttotal: 57.1s\tremaining: 1m 7s\n",
            "115:\tlearn: 0.7439681\ttest: 0.7654563\tbest: 0.7664938 (112)\ttotal: 57.6s\tremaining: 1m 6s\n",
            "116:\tlearn: 0.7445838\ttest: 0.7631391\tbest: 0.7664938 (112)\ttotal: 58.2s\tremaining: 1m 6s\n",
            "117:\tlearn: 0.7449957\ttest: 0.7642698\tbest: 0.7664938 (112)\ttotal: 58.9s\tremaining: 1m 5s\n",
            "118:\tlearn: 0.7454306\ttest: 0.7641535\tbest: 0.7664938 (112)\ttotal: 59.3s\tremaining: 1m 5s\n",
            "119:\tlearn: 0.7451675\ttest: 0.7645429\tbest: 0.7664938 (112)\ttotal: 59.9s\tremaining: 1m 4s\n",
            "120:\tlearn: 0.7456672\ttest: 0.7655357\tbest: 0.7664938 (112)\ttotal: 1m\tremaining: 1m 4s\n",
            "121:\tlearn: 0.7458583\ttest: 0.7656724\tbest: 0.7664938 (112)\ttotal: 1m\tremaining: 1m 3s\n",
            "122:\tlearn: 0.7459988\ttest: 0.7651475\tbest: 0.7664938 (112)\ttotal: 1m 1s\tremaining: 1m 3s\n",
            "123:\tlearn: 0.7459898\ttest: 0.7647374\tbest: 0.7664938 (112)\ttotal: 1m 1s\tremaining: 1m 2s\n",
            "124:\tlearn: 0.7461727\ttest: 0.7652624\tbest: 0.7664938 (112)\ttotal: 1m 2s\tremaining: 1m 2s\n",
            "125:\tlearn: 0.7462603\ttest: 0.7657296\tbest: 0.7664938 (112)\ttotal: 1m 2s\tremaining: 1m 1s\n",
            "126:\tlearn: 0.7465831\ttest: 0.7662535\tbest: 0.7664938 (112)\ttotal: 1m 3s\tremaining: 1m 1s\n",
            "127:\tlearn: 0.7463723\ttest: 0.7649317\tbest: 0.7664938 (112)\ttotal: 1m 3s\tremaining: 1m\n",
            "128:\tlearn: 0.7468531\ttest: 0.7655929\tbest: 0.7664938 (112)\ttotal: 1m 4s\tremaining: 1m\n",
            "129:\tlearn: 0.7466863\ttest: 0.7651258\tbest: 0.7664938 (112)\ttotal: 1m 4s\tremaining: 59.7s\n",
            "130:\tlearn: 0.7471856\ttest: 0.7655929\tbest: 0.7664938 (112)\ttotal: 1m 5s\tremaining: 59.3s\n",
            "131:\tlearn: 0.7484800\ttest: 0.7656724\tbest: 0.7664938 (112)\ttotal: 1m 5s\tremaining: 58.9s\n",
            "132:\tlearn: 0.7483225\ttest: 0.7655357\tbest: 0.7664938 (112)\ttotal: 1m 6s\tremaining: 58.4s\n",
            "133:\tlearn: 0.7485320\ttest: 0.7653990\tbest: 0.7664938 (112)\ttotal: 1m 6s\tremaining: 58s\n",
            "134:\tlearn: 0.7487598\ttest: 0.7649317\tbest: 0.7664938 (112)\ttotal: 1m 7s\tremaining: 57.5s\n",
            "135:\tlearn: 0.7488991\ttest: 0.7652624\tbest: 0.7664938 (112)\ttotal: 1m 8s\tremaining: 57s\n",
            "136:\tlearn: 0.7491700\ttest: 0.7652050\tbest: 0.7664938 (112)\ttotal: 1m 8s\tremaining: 56.6s\n",
            "137:\tlearn: 0.7497467\ttest: 0.7662535\tbest: 0.7664938 (112)\ttotal: 1m 9s\tremaining: 56.1s\n",
            "138:\tlearn: 0.7492316\ttest: 0.7669133\tbest: 0.7669133 (138)\ttotal: 1m 9s\tremaining: 55.7s\n",
            "139:\tlearn: 0.7498604\ttest: 0.7657867\tbest: 0.7669133 (138)\ttotal: 1m 10s\tremaining: 55.1s\n",
            "140:\tlearn: 0.7499302\ttest: 0.7665269\tbest: 0.7669133 (138)\ttotal: 1m 10s\tremaining: 54.5s\n",
            "141:\tlearn: 0.7502968\ttest: 0.7660600\tbest: 0.7669133 (138)\ttotal: 1m 11s\tremaining: 54s\n",
            "142:\tlearn: 0.7509598\ttest: 0.7675975\tbest: 0.7675975 (142)\ttotal: 1m 11s\tremaining: 53.6s\n",
            "143:\tlearn: 0.7509512\ttest: 0.7671868\tbest: 0.7675975 (142)\ttotal: 1m 12s\tremaining: 53.1s\n",
            "144:\tlearn: 0.7510213\ttest: 0.7669938\tbest: 0.7675975 (142)\ttotal: 1m 12s\tremaining: 52.6s\n",
            "145:\tlearn: 0.7505241\ttest: 0.7678460\tbest: 0.7678460 (145)\ttotal: 1m 13s\tremaining: 52s\n",
            "146:\tlearn: 0.7507688\ttest: 0.7667202\tbest: 0.7678460 (145)\ttotal: 1m 13s\tremaining: 51.5s\n",
            "147:\tlearn: 0.7512234\ttest: 0.7679829\tbest: 0.7679829 (147)\ttotal: 1m 13s\tremaining: 50.9s\n",
            "148:\tlearn: 0.7510661\ttest: 0.7670500\tbest: 0.7679829 (147)\ttotal: 1m 14s\tremaining: 50.4s\n",
            "149:\tlearn: 0.7511087\ttest: 0.7685309\tbest: 0.7685309 (149)\ttotal: 1m 14s\tremaining: 49.9s\n",
            "150:\tlearn: 0.7514750\ttest: 0.7676786\tbest: 0.7685309 (149)\ttotal: 1m 15s\tremaining: 49.4s\n",
            "151:\tlearn: 0.7514402\ttest: 0.7676786\tbest: 0.7685309 (149)\ttotal: 1m 15s\tremaining: 48.9s\n",
            "152:\tlearn: 0.7516140\ttest: 0.7680086\tbest: 0.7685309 (149)\ttotal: 1m 16s\tremaining: 48.4s\n",
            "153:\tlearn: 0.7517100\ttest: 0.7672114\tbest: 0.7685309 (149)\ttotal: 1m 16s\tremaining: 47.9s\n",
            "154:\tlearn: 0.7519724\ttest: 0.7672114\tbest: 0.7685309 (149)\ttotal: 1m 17s\tremaining: 47.4s\n",
            "155:\tlearn: 0.7523222\ttest: 0.7669617\tbest: 0.7685309 (149)\ttotal: 1m 17s\tremaining: 46.9s\n",
            "156:\tlearn: 0.7523388\ttest: 0.7672114\tbest: 0.7685309 (149)\ttotal: 1m 18s\tremaining: 46.4s\n",
            "157:\tlearn: 0.7523824\ttest: 0.7686680\tbest: 0.7686680 (157)\ttotal: 1m 18s\tremaining: 45.9s\n",
            "158:\tlearn: 0.7525485\ttest: 0.7679272\tbest: 0.7686680 (157)\ttotal: 1m 19s\tremaining: 45.4s\n",
            "159:\tlearn: 0.7528900\ttest: 0.7679829\tbest: 0.7686680 (157)\ttotal: 1m 19s\tremaining: 44.9s\n",
            "160:\tlearn: 0.7534741\ttest: 0.7681753\tbest: 0.7686680 (157)\ttotal: 1m 20s\tremaining: 44.5s\n",
            "161:\tlearn: 0.7534117\ttest: 0.7681753\tbest: 0.7686680 (157)\ttotal: 1m 21s\tremaining: 44s\n",
            "162:\tlearn: 0.7538726\ttest: 0.7682308\tbest: 0.7686680 (157)\ttotal: 1m 21s\tremaining: 43.5s\n",
            "163:\tlearn: 0.7534455\ttest: 0.7696824\tbest: 0.7696824 (163)\ttotal: 1m 22s\tremaining: 43.1s\n",
            "164:\tlearn: 0.7542211\ttest: 0.7700107\tbest: 0.7700107 (164)\ttotal: 1m 22s\tremaining: 42.5s\n",
            "165:\tlearn: 0.7539947\ttest: 0.7698737\tbest: 0.7700107 (164)\ttotal: 1m 23s\tremaining: 42s\n",
            "166:\tlearn: 0.7539786\ttest: 0.7700107\tbest: 0.7700107 (164)\ttotal: 1m 23s\tremaining: 41.5s\n",
            "167:\tlearn: 0.7541533\ttest: 0.7702018\tbest: 0.7702018 (167)\ttotal: 1m 23s\tremaining: 41s\n",
            "168:\tlearn: 0.7542670\ttest: 0.7704218\tbest: 0.7704218 (168)\ttotal: 1m 24s\tremaining: 40.5s\n",
            "169:\tlearn: 0.7544300\ttest: 0.7715429\tbest: 0.7715429 (169)\ttotal: 1m 25s\tremaining: 40s\n",
            "170:\tlearn: 0.7546064\ttest: 0.7705589\tbest: 0.7715429 (169)\ttotal: 1m 25s\tremaining: 39.5s\n",
            "171:\tlearn: 0.7552101\ttest: 0.7695733\tbest: 0.7715429 (169)\ttotal: 1m 25s\tremaining: 39s\n",
            "172:\tlearn: 0.7554263\ttest: 0.7703136\tbest: 0.7715429 (169)\ttotal: 1m 26s\tremaining: 38.5s\n",
            "173:\tlearn: 0.7554429\ttest: 0.7701764\tbest: 0.7715429 (169)\ttotal: 1m 26s\tremaining: 37.9s\n",
            "174:\tlearn: 0.7554801\ttest: 0.7689975\tbest: 0.7715429 (169)\ttotal: 1m 27s\tremaining: 37.4s\n",
            "175:\tlearn: 0.7557087\ttest: 0.7681457\tbest: 0.7715429 (169)\ttotal: 1m 27s\tremaining: 36.9s\n",
            "176:\tlearn: 0.7558483\ttest: 0.7688052\tbest: 0.7715429 (169)\ttotal: 1m 28s\tremaining: 36.5s\n",
            "177:\tlearn: 0.7558049\ttest: 0.7685309\tbest: 0.7715429 (169)\ttotal: 1m 28s\tremaining: 35.9s\n",
            "178:\tlearn: 0.7563612\ttest: 0.7691896\tbest: 0.7715429 (169)\ttotal: 1m 29s\tremaining: 35.5s\n",
            "179:\tlearn: 0.7563518\ttest: 0.7691896\tbest: 0.7715429 (169)\ttotal: 1m 29s\tremaining: 35s\n",
            "180:\tlearn: 0.7566265\ttest: 0.7701764\tbest: 0.7715429 (169)\ttotal: 1m 30s\tremaining: 34.5s\n",
            "181:\tlearn: 0.7564106\ttest: 0.7699848\tbest: 0.7715429 (169)\ttotal: 1m 31s\tremaining: 34s\n",
            "182:\tlearn: 0.7565233\ttest: 0.7705342\tbest: 0.7715429 (169)\ttotal: 1m 31s\tremaining: 33.5s\n",
            "183:\tlearn: 0.7566655\ttest: 0.7702594\tbest: 0.7715429 (169)\ttotal: 1m 32s\tremaining: 33s\n",
            "184:\tlearn: 0.7567605\ttest: 0.7705882\tbest: 0.7715429 (169)\ttotal: 1m 32s\tremaining: 32.6s\n",
            "185:\tlearn: 0.7573114\ttest: 0.7695466\tbest: 0.7715429 (169)\ttotal: 1m 33s\tremaining: 32s\n",
            "186:\tlearn: 0.7571811\ttest: 0.7706717\tbest: 0.7715429 (169)\ttotal: 1m 33s\tremaining: 31.5s\n",
            "187:\tlearn: 0.7574254\ttest: 0.7709467\tbest: 0.7715429 (169)\ttotal: 1m 34s\tremaining: 31s\n",
            "188:\tlearn: 0.7575475\ttest: 0.7716044\tbest: 0.7716044 (188)\ttotal: 1m 34s\tremaining: 30.5s\n",
            "189:\tlearn: 0.7578271\ttest: 0.7706176\tbest: 0.7716044 (188)\ttotal: 1m 35s\tremaining: 30s\n",
            "190:\tlearn: 0.7576453\ttest: 0.7707552\tbest: 0.7716044 (188)\ttotal: 1m 35s\tremaining: 29.5s\n",
            "191:\tlearn: 0.7579890\ttest: 0.7714975\tbest: 0.7716044 (188)\ttotal: 1m 36s\tremaining: 29s\n",
            "192:\tlearn: 0.7577269\ttest: 0.7718265\tbest: 0.7718265 (192)\ttotal: 1m 36s\tremaining: 28.5s\n",
            "193:\tlearn: 0.7598832\ttest: 0.7716578\tbest: 0.7718265 (192)\ttotal: 1m 37s\tremaining: 28s\n",
            "194:\tlearn: 0.7601191\ttest: 0.7716578\tbest: 0.7718265 (192)\ttotal: 1m 37s\tremaining: 27.5s\n",
            "195:\tlearn: 0.7601172\ttest: 0.7718486\tbest: 0.7718486 (195)\ttotal: 1m 37s\tremaining: 27s\n",
            "196:\tlearn: 0.7614765\ttest: 0.7719548\tbest: 0.7719548 (196)\ttotal: 1m 38s\tremaining: 26.5s\n",
            "197:\tlearn: 0.7615551\ttest: 0.7720922\tbest: 0.7720922 (197)\ttotal: 1m 39s\tremaining: 26s\n",
            "198:\tlearn: 0.7611919\ttest: 0.7717643\tbest: 0.7720922 (197)\ttotal: 1m 39s\tremaining: 25.5s\n",
            "199:\tlearn: 0.7613824\ttest: 0.7713523\tbest: 0.7720922 (197)\ttotal: 1m 39s\tremaining: 25s\n",
            "200:\tlearn: 0.7617277\ttest: 0.7713523\tbest: 0.7720922 (197)\ttotal: 1m 40s\tremaining: 24.5s\n",
            "201:\tlearn: 0.7619921\ttest: 0.7723353\tbest: 0.7723353 (201)\ttotal: 1m 40s\tremaining: 24s\n",
            "202:\tlearn: 0.7621900\ttest: 0.7731272\tbest: 0.7731272 (202)\ttotal: 1m 41s\tremaining: 23.5s\n",
            "203:\tlearn: 0.7623016\ttest: 0.7734542\tbest: 0.7734542 (203)\ttotal: 1m 41s\tremaining: 23s\n",
            "204:\tlearn: 0.7623016\ttest: 0.7713523\tbest: 0.7734542 (203)\ttotal: 1m 42s\tremaining: 22.5s\n",
            "205:\tlearn: 0.7626056\ttest: 0.7721451\tbest: 0.7734542 (203)\ttotal: 1m 42s\tremaining: 22s\n",
            "206:\tlearn: 0.7629273\ttest: 0.7720078\tbest: 0.7734542 (203)\ttotal: 1m 43s\tremaining: 21.5s\n",
            "207:\tlearn: 0.7629881\ttest: 0.7720078\tbest: 0.7734542 (203)\ttotal: 1m 43s\tremaining: 21s\n",
            "208:\tlearn: 0.7632058\ttest: 0.7720608\tbest: 0.7734542 (203)\ttotal: 1m 44s\tremaining: 20.5s\n",
            "209:\tlearn: 0.7636313\ttest: 0.7728524\tbest: 0.7734542 (203)\ttotal: 1m 44s\tremaining: 20s\n",
            "210:\tlearn: 0.7637807\ttest: 0.7719548\tbest: 0.7734542 (203)\ttotal: 1m 45s\tremaining: 19.5s\n",
            "211:\tlearn: 0.7638389\ttest: 0.7718175\tbest: 0.7734542 (203)\ttotal: 1m 45s\tremaining: 18.9s\n",
            "212:\tlearn: 0.7639200\ttest: 0.7719548\tbest: 0.7734542 (203)\ttotal: 1m 46s\tremaining: 18.4s\n",
            "213:\tlearn: 0.7641454\ttest: 0.7726100\tbest: 0.7734542 (203)\ttotal: 1m 46s\tremaining: 17.9s\n",
            "214:\tlearn: 0.7640567\ttest: 0.7725574\tbest: 0.7734542 (203)\ttotal: 1m 47s\tremaining: 17.4s\n",
            "215:\tlearn: 0.7648922\ttest: 0.7732124\tbest: 0.7734542 (203)\ttotal: 1m 47s\tremaining: 16.9s\n",
            "216:\tlearn: 0.7652567\ttest: 0.7726949\tbest: 0.7734542 (203)\ttotal: 1m 48s\tremaining: 16.4s\n",
            "217:\tlearn: 0.7652446\ttest: 0.7738148\tbest: 0.7738148 (217)\ttotal: 1m 48s\tremaining: 16s\n",
            "218:\tlearn: 0.7652979\ttest: 0.7740043\tbest: 0.7740043 (218)\ttotal: 1m 49s\tremaining: 15.5s\n",
            "219:\tlearn: 0.7654848\ttest: 0.7743312\tbest: 0.7743312 (219)\ttotal: 1m 49s\tremaining: 15s\n",
            "220:\tlearn: 0.7653100\ttest: 0.7740560\tbest: 0.7743312 (219)\ttotal: 1m 50s\tremaining: 14.5s\n",
            "221:\tlearn: 0.7655559\ttest: 0.7747092\tbest: 0.7747092 (221)\ttotal: 1m 50s\tremaining: 14s\n",
            "222:\tlearn: 0.7653054\ttest: 0.7755500\tbest: 0.7755500 (222)\ttotal: 1m 51s\tremaining: 13.5s\n",
            "223:\tlearn: 0.7657618\ttest: 0.7758758\tbest: 0.7758758 (223)\ttotal: 1m 51s\tremaining: 13s\n",
            "224:\tlearn: 0.7665517\ttest: 0.7766646\tbest: 0.7766646 (224)\ttotal: 1m 52s\tremaining: 12.5s\n",
            "225:\tlearn: 0.7667738\ttest: 0.7762015\tbest: 0.7766646 (224)\ttotal: 1m 52s\tremaining: 12s\n",
            "226:\tlearn: 0.7673455\ttest: 0.7753108\tbest: 0.7766646 (224)\ttotal: 1m 53s\tremaining: 11.5s\n",
            "227:\tlearn: 0.7674597\ttest: 0.7751731\tbest: 0.7766646 (224)\ttotal: 1m 53s\tremaining: 11s\n",
            "228:\tlearn: 0.7677065\ttest: 0.7758758\tbest: 0.7766646 (224)\ttotal: 1m 54s\tremaining: 10.5s\n",
            "229:\tlearn: 0.7682210\ttest: 0.7752241\tbest: 0.7766646 (224)\ttotal: 1m 54s\tremaining: 9.98s\n",
            "230:\tlearn: 0.7685853\ttest: 0.7774033\tbest: 0.7774033 (230)\ttotal: 1m 55s\tremaining: 9.49s\n",
            "231:\tlearn: 0.7686137\ttest: 0.7772159\tbest: 0.7774033 (230)\ttotal: 1m 55s\tremaining: 8.99s\n",
            "232:\tlearn: 0.7692343\ttest: 0.7768023\tbest: 0.7774033 (230)\ttotal: 1m 56s\tremaining: 8.49s\n",
            "233:\tlearn: 0.7693450\ttest: 0.7766646\tbest: 0.7774033 (230)\ttotal: 1m 56s\tremaining: 7.99s\n",
            "234:\tlearn: 0.7692165\ttest: 0.7766646\tbest: 0.7774033 (230)\ttotal: 1m 57s\tremaining: 7.49s\n",
            "235:\tlearn: 0.7693843\ttest: 0.7758253\tbest: 0.7774033 (230)\ttotal: 1m 57s\tremaining: 6.98s\n",
            "236:\tlearn: 0.7694057\ttest: 0.7765646\tbest: 0.7774033 (230)\ttotal: 1m 58s\tremaining: 6.49s\n",
            "237:\tlearn: 0.7694806\ttest: 0.7765646\tbest: 0.7774033 (230)\ttotal: 1m 58s\tremaining: 5.99s\n",
            "238:\tlearn: 0.7701688\ttest: 0.7764267\tbest: 0.7774033 (230)\ttotal: 1m 59s\tremaining: 5.49s\n",
            "239:\tlearn: 0.7699371\ttest: 0.7765646\tbest: 0.7774033 (230)\ttotal: 1m 59s\tremaining: 4.99s\n",
            "240:\tlearn: 0.7703079\ttest: 0.7770282\tbest: 0.7774033 (230)\ttotal: 2m\tremaining: 4.49s\n",
            "241:\tlearn: 0.7705146\ttest: 0.7778172\tbest: 0.7778172 (241)\ttotal: 2m\tremaining: 3.99s\n",
            "242:\tlearn: 0.7708449\ttest: 0.7785164\tbest: 0.7785164 (242)\ttotal: 2m 1s\tremaining: 3.49s\n",
            "243:\tlearn: 0.7709482\ttest: 0.7781915\tbest: 0.7785164 (242)\ttotal: 2m 1s\tremaining: 2.99s\n",
            "244:\tlearn: 0.7711973\ttest: 0.7793036\tbest: 0.7793036 (244)\ttotal: 2m 2s\tremaining: 2.49s\n",
            "245:\tlearn: 0.7714286\ttest: 0.7791172\tbest: 0.7793036 (244)\ttotal: 2m 2s\tremaining: 2s\n",
            "246:\tlearn: 0.7716557\ttest: 0.7780044\tbest: 0.7793036 (244)\ttotal: 2m 3s\tremaining: 1.5s\n",
            "247:\tlearn: 0.7716062\ttest: 0.7788410\tbest: 0.7793036 (244)\ttotal: 2m 3s\tremaining: 998ms\n",
            "248:\tlearn: 0.7716339\ttest: 0.7791656\tbest: 0.7793036 (244)\ttotal: 2m 4s\tremaining: 499ms\n",
            "249:\tlearn: 0.7719156\ttest: 0.7800425\tbest: 0.7800425 (249)\ttotal: 2m 4s\tremaining: 0us\n",
            "bestTest = 0.7800425381\n",
            "bestIteration = 249\n",
            "Shrink model to first 250 iterations.\n"
          ],
          "name": "stdout"
        },
        {
          "output_type": "execute_result",
          "data": {
            "text/plain": [
              "<catboost.core.CatBoostClassifier at 0x7f3128aecdd8>"
            ]
          },
          "metadata": {
            "tags": []
          },
          "execution_count": 47
        }
      ]
    },
    {
      "cell_type": "markdown",
      "metadata": {
        "id": "TZsfmduM1zEq",
        "colab_type": "text"
      },
      "source": [
        "# plot train history"
      ]
    },
    {
      "cell_type": "markdown",
      "metadata": {
        "id": "d4giCx2_X4LS",
        "colab_type": "text"
      },
      "source": [
        "看看訓練情況"
      ]
    },
    {
      "cell_type": "code",
      "metadata": {
        "id": "qUyr7Knh1EDI",
        "colab_type": "code",
        "outputId": "d15214ec-06a4-47cd-845f-fe9e011dec69",
        "colab": {
          "base_uri": "https://localhost:8080/",
          "height": 265
        }
      },
      "source": [
        "plt.plot(model.evals_result_['learn']['F1:use_weights=true'],label='train')\n",
        "plt.plot(model.evals_result_['validation']['F1:use_weights=true'],label='val')\n",
        "plt.legend()\n",
        "plt.show()"
      ],
      "execution_count": 48,
      "outputs": [
        {
          "output_type": "display_data",
          "data": {
            "image/png": "[encoded data removed]",
            "text/plain": [
              "<Figure size 432x288 with 1 Axes>"
            ]
          },
          "metadata": {
            "tags": []
          }
        }
      ]
    },
    {
      "cell_type": "markdown",
      "metadata": {
        "id": "Ryk6rL1AlQbl",
        "colab_type": "text"
      },
      "source": [
        "# plot features importance"
      ]
    },
    {
      "cell_type": "markdown",
      "metadata": {
        "id": "DPuhnxEdX7eA",
        "colab_type": "text"
      },
      "source": [
        "看看特徵重要度"
      ]
    },
    {
      "cell_type": "code",
      "metadata": {
        "id": "C7DgziB1k4P3",
        "colab_type": "code",
        "outputId": "41523ad4-840c-4a10-a450-003ebc34a393",
        "colab": {
          "base_uri": "https://localhost:8080/",
          "height": 458
        }
      },
      "source": [
        "fea_imp = pd.DataFrame({'imp': model.feature_importances_, 'col': features})\n",
        "fea_imp = fea_imp.sort_values(['imp', 'col'], ascending=[True, False]).iloc[-30:]\n",
        "fea_imp.plot(kind='barh', x='col', y='imp', figsize=(10, 7), legend=None)\n",
        "plt.title('CatBoost - Feature Importance')\n",
        "plt.ylabel('Features')\n",
        "plt.xlabel('Importance');"
      ],
      "execution_count": 49,
      "outputs": [
        {
          "output_type": "display_data",
          "data": {
            "image/png": "[encoded data removed]",
            "text/plain": [
              "<Figure size 720x504 with 1 Axes>"
            ]
          },
          "metadata": {
            "tags": []
          }
        }
      ]
    },
    {
      "cell_type": "markdown",
      "metadata": {
        "id": "BtZ3P_kHeHDg",
        "colab_type": "text"
      },
      "source": [
        "# val_2's F1 report"
      ]
    },
    {
      "cell_type": "markdown",
      "metadata": {
        "id": "f037lJnhYANn",
        "colab_type": "text"
      },
      "source": [
        "第二份驗證集"
      ]
    },
    {
      "cell_type": "code",
      "metadata": {
        "id": "LG5b17w3YNPw",
        "colab_type": "code",
        "outputId": "2f547cf8-afd4-4b1a-d92f-d2c53d729ded",
        "colab": {
          "base_uri": "https://localhost:8080/",
          "height": 167
        }
      },
      "source": [
        "from sklearn.metrics import classification_report \n",
        "\n",
        "#轉01\n",
        "val_2_pred_01 = pd.Series(model.predict(val_2[features])).apply(round)\n",
        "#F1 score\n",
        "print(classification_report(val_2[y_name],val_2_pred_01,target_names=['0','1']))"
      ],
      "execution_count": 50,
      "outputs": [
        {
          "output_type": "stream",
          "text": [
            "              precision    recall  f1-score   support\n",
            "\n",
            "           0       1.00      1.00      1.00    150093\n",
            "           1       0.82      0.69      0.75      2086\n",
            "\n",
            "    accuracy                           0.99    152179\n",
            "   macro avg       0.91      0.84      0.87    152179\n",
            "weighted avg       0.99      0.99      0.99    152179\n",
            "\n"
          ],
          "name": "stdout"
        }
      ]
    },
    {
      "cell_type": "markdown",
      "metadata": {
        "id": "BJPxyqv0ePDh",
        "colab_type": "text"
      },
      "source": [
        "# 產生submission"
      ]
    },
    {
      "cell_type": "code",
      "metadata": {
        "id": "Spls7FkEePg3",
        "colab_type": "code",
        "outputId": "35a44e90-f8a0-487f-e2be-a19669d79c7e",
        "colab": {
          "base_uri": "https://localhost:8080/",
          "height": 247
        }
      },
      "source": [
        "submission = pd.DataFrame({\"txkey\":test_txkey,\n",
        "                           \"fraud_ind\":model.predict(test[features])})\n",
        "\n",
        "# to [0,1] \n",
        "submission[\"fraud_ind\"] = submission[\"fraud_ind\"].apply(round)\n",
        "\n",
        "# value_counts\n",
        "print(submission[\"fraud_ind\"].value_counts())\n",
        "submission.head()"
      ],
      "execution_count": 51,
      "outputs": [
        {
          "output_type": "stream",
          "text": [
            "0    416178\n",
            "1      5487\n",
            "Name: fraud_ind, dtype: int64\n"
          ],
          "name": "stdout"
        },
        {
          "output_type": "execute_result",
          "data": {
            "text/html": [
              "<div>\n",
              "<style scoped>\n",
              "    .dataframe tbody tr th:only-of-type {\n",
              "        vertical-align: middle;\n",
              "    }\n",
              "\n",
              "    .dataframe tbody tr th {\n",
              "        vertical-align: top;\n",
              "    }\n",
              "\n",
              "    .dataframe thead th {\n",
              "        text-align: right;\n",
              "    }\n",
              "</style>\n",
              "<table border=\"1\" class=\"dataframe\">\n",
              "  <thead>\n",
              "    <tr style=\"text-align: right;\">\n",
              "      <th></th>\n",
              "      <th>txkey</th>\n",
              "      <th>fraud_ind</th>\n",
              "    </tr>\n",
              "  </thead>\n",
              "  <tbody>\n",
              "    <tr>\n",
              "      <th>1521787</th>\n",
              "      <td>592489</td>\n",
              "      <td>0</td>\n",
              "    </tr>\n",
              "    <tr>\n",
              "      <th>1521788</th>\n",
              "      <td>592452</td>\n",
              "      <td>0</td>\n",
              "    </tr>\n",
              "    <tr>\n",
              "      <th>1521789</th>\n",
              "      <td>590212</td>\n",
              "      <td>0</td>\n",
              "    </tr>\n",
              "    <tr>\n",
              "      <th>1521790</th>\n",
              "      <td>590209</td>\n",
              "      <td>0</td>\n",
              "    </tr>\n",
              "    <tr>\n",
              "      <th>1521791</th>\n",
              "      <td>592488</td>\n",
              "      <td>0</td>\n",
              "    </tr>\n",
              "  </tbody>\n",
              "</table>\n",
              "</div>"
            ],
            "text/plain": [
              "          txkey  fraud_ind\n",
              "1521787  592489          0\n",
              "1521788  592452          0\n",
              "1521789  590212          0\n",
              "1521790  590209          0\n",
              "1521791  592488          0"
            ]
          },
          "metadata": {
            "tags": []
          },
          "execution_count": 51
        }
      ]
    },
    {
      "cell_type": "markdown",
      "metadata": {
        "id": "sjtNlkkjeWUa",
        "colab_type": "text"
      },
      "source": [
        "# 這裡有個想法如果test上盜刷的比例 跟train上面盜刷的比例 愈相近愈好"
      ]
    },
    {
      "cell_type": "code",
      "metadata": {
        "id": "Aj5EJj1ZeWxx",
        "colab_type": "code",
        "outputId": "854c32f7-1811-4334-8257-7c36774a4362",
        "colab": {
          "base_uri": "https://localhost:8080/",
          "height": 77
        }
      },
      "source": [
        "train_p = round((train['fraud_ind'].value_counts()[1] / #盜刷樣本數\n",
        "                len(train['fraud_ind']))*100 ,5) #總數\n",
        "\n",
        "val_1_p = round((val_1['fraud_ind'].value_counts()[1] / #盜刷樣本數\n",
        "                len(val_1['fraud_ind']))*100 ,5) #總數\n",
        "\n",
        "val_2_p = round((val_2['fraud_ind'].value_counts()[1] / #盜刷樣本數\n",
        "                len(val_2['fraud_ind']))*100 ,5) #總數\n",
        "\n",
        "test_p = round((submission['fraud_ind'].value_counts()[1] / #盜刷樣本數\n",
        "                len(submission['fraud_ind']))*100 ,5) #總數\n",
        "pd.DataFrame({'train_p':train_p,\n",
        "              'val_1_p':val_1_p,\n",
        "              'val_2_p':val_2_p,\n",
        "              'test_p':test_p},\n",
        "               index=['盜刷比例%'])"
      ],
      "execution_count": 52,
      "outputs": [
        {
          "output_type": "execute_result",
          "data": {
            "text/html": [
              "<div>\n",
              "<style scoped>\n",
              "    .dataframe tbody tr th:only-of-type {\n",
              "        vertical-align: middle;\n",
              "    }\n",
              "\n",
              "    .dataframe tbody tr th {\n",
              "        vertical-align: top;\n",
              "    }\n",
              "\n",
              "    .dataframe thead th {\n",
              "        text-align: right;\n",
              "    }\n",
              "</style>\n",
              "<table border=\"1\" class=\"dataframe\">\n",
              "  <thead>\n",
              "    <tr style=\"text-align: right;\">\n",
              "      <th></th>\n",
              "      <th>train_p</th>\n",
              "      <th>val_1_p</th>\n",
              "      <th>val_2_p</th>\n",
              "      <th>test_p</th>\n",
              "    </tr>\n",
              "  </thead>\n",
              "  <tbody>\n",
              "    <tr>\n",
              "      <th>盜刷比例%</th>\n",
              "      <td>1.33018</td>\n",
              "      <td>1.36353</td>\n",
              "      <td>1.37075</td>\n",
              "      <td>1.30127</td>\n",
              "    </tr>\n",
              "  </tbody>\n",
              "</table>\n",
              "</div>"
            ],
            "text/plain": [
              "       train_p  val_1_p  val_2_p   test_p\n",
              "盜刷比例%  1.33018  1.36353  1.37075  1.30127"
            ]
          },
          "metadata": {
            "tags": []
          },
          "execution_count": 52
        }
      ]
    },
    {
      "cell_type": "markdown",
      "metadata": {
        "id": "i2d7OLeqfxuN",
        "colab_type": "text"
      },
      "source": [
        "# 轉換成機率,好做後續voting"
      ]
    },
    {
      "cell_type": "code",
      "metadata": {
        "id": "715QIIbgf3Go",
        "colab_type": "code",
        "colab": {
          "base_uri": "https://localhost:8080/",
          "height": 347
        },
        "outputId": "4f5bcac8-693c-4120-c275-1912306c29ae"
      },
      "source": [
        "submission['fraud_ind'] = model.predict_proba(test[features])[:,1]\n",
        "submission.sample(10)"
      ],
      "execution_count": 56,
      "outputs": [
        {
          "output_type": "execute_result",
          "data": {
            "text/html": [
              "<div>\n",
              "<style scoped>\n",
              "    .dataframe tbody tr th:only-of-type {\n",
              "        vertical-align: middle;\n",
              "    }\n",
              "\n",
              "    .dataframe tbody tr th {\n",
              "        vertical-align: top;\n",
              "    }\n",
              "\n",
              "    .dataframe thead th {\n",
              "        text-align: right;\n",
              "    }\n",
              "</style>\n",
              "<table border=\"1\" class=\"dataframe\">\n",
              "  <thead>\n",
              "    <tr style=\"text-align: right;\">\n",
              "      <th></th>\n",
              "      <th>txkey</th>\n",
              "      <th>fraud_ind</th>\n",
              "    </tr>\n",
              "  </thead>\n",
              "  <tbody>\n",
              "    <tr>\n",
              "      <th>1917989</th>\n",
              "      <td>1318418</td>\n",
              "      <td>0.000363</td>\n",
              "    </tr>\n",
              "    <tr>\n",
              "      <th>1910463</th>\n",
              "      <td>898300</td>\n",
              "      <td>0.000418</td>\n",
              "    </tr>\n",
              "    <tr>\n",
              "      <th>1870585</th>\n",
              "      <td>1388926</td>\n",
              "      <td>0.000439</td>\n",
              "    </tr>\n",
              "    <tr>\n",
              "      <th>1843286</th>\n",
              "      <td>1039799</td>\n",
              "      <td>0.003087</td>\n",
              "    </tr>\n",
              "    <tr>\n",
              "      <th>1604357</th>\n",
              "      <td>269849</td>\n",
              "      <td>0.000524</td>\n",
              "    </tr>\n",
              "    <tr>\n",
              "      <th>1724369</th>\n",
              "      <td>186807</td>\n",
              "      <td>0.000977</td>\n",
              "    </tr>\n",
              "    <tr>\n",
              "      <th>1628359</th>\n",
              "      <td>789583</td>\n",
              "      <td>0.007305</td>\n",
              "    </tr>\n",
              "    <tr>\n",
              "      <th>1870424</th>\n",
              "      <td>590514</td>\n",
              "      <td>0.001914</td>\n",
              "    </tr>\n",
              "    <tr>\n",
              "      <th>1559914</th>\n",
              "      <td>101102</td>\n",
              "      <td>0.000496</td>\n",
              "    </tr>\n",
              "    <tr>\n",
              "      <th>1586063</th>\n",
              "      <td>1470508</td>\n",
              "      <td>0.000381</td>\n",
              "    </tr>\n",
              "  </tbody>\n",
              "</table>\n",
              "</div>"
            ],
            "text/plain": [
              "           txkey  fraud_ind\n",
              "1917989  1318418   0.000363\n",
              "1910463   898300   0.000418\n",
              "1870585  1388926   0.000439\n",
              "1843286  1039799   0.003087\n",
              "1604357   269849   0.000524\n",
              "1724369   186807   0.000977\n",
              "1628359   789583   0.007305\n",
              "1870424   590514   0.001914\n",
              "1559914   101102   0.000496\n",
              "1586063  1470508   0.000381"
            ]
          },
          "metadata": {
            "tags": []
          },
          "execution_count": 56
        }
      ]
    },
    {
      "cell_type": "markdown",
      "metadata": {
        "id": "gp7bXYUoeZvm",
        "colab_type": "text"
      },
      "source": [
        "# 保存預測結果"
      ]
    },
    {
      "cell_type": "code",
      "metadata": {
        "id": "T9CnZxyseaOj",
        "colab_type": "code",
        "colab": {}
      },
      "source": [
        "path='/content/drive/My Drive/玉山人工智慧比賽數據/catboost_result/1106/catboost_Fold{}_random{}.csv'.format(num_Fold,random_seed)\n",
        "submission.to_csv(path)"
      ],
      "execution_count": 0,
      "outputs": []
    },
    {
      "cell_type": "code",
      "metadata": {
        "id": "sto4yNSgjlTz",
        "colab_type": "code",
        "colab": {}
      },
      "source": [
        ""
      ],
      "execution_count": 0,
      "outputs": []
    }
  ]
}