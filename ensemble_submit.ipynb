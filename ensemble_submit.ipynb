{
  "nbformat": 4,
  "nbformat_minor": 0,
  "metadata": {
    "colab": {
      "name": "ensemble_submit.ipynb",
      "provenance": [],
      "collapsed_sections": [],
      "include_colab_link": true
    },
    "kernelspec": {
      "name": "python3",
      "display_name": "Python 3"
    }
  },
  "cells": [
    {
      "cell_type": "markdown",
      "metadata": {
        "id": "view-in-github",
        "colab_type": "text"
      },
      "source": [
        "<a href=\"https://colab.research.google.com/github/skywalker0803r/Ricky/blob/master/ensemble_submit.ipynb\" target=\"_parent\"><img src=\"https://colab.research.google.com/assets/colab-badge.svg\" alt=\"Open In Colab\"/></a>"
      ]
    },
    {
      "cell_type": "code",
      "metadata": {
        "id": "xQtZ8zps2LlS",
        "colab_type": "code",
        "outputId": "dcba4fae-df4a-4f5a-913f-0d77a910d22c",
        "colab": {
          "base_uri": "https://localhost:8080/",
          "height": 35
        }
      },
      "source": [
        "from google.colab import drive\n",
        "drive.mount('/content/drive')"
      ],
      "execution_count": 1,
      "outputs": [
        {
          "output_type": "stream",
          "text": [
            "Drive already mounted at /content/drive; to attempt to forcibly remount, call drive.mount(\"/content/drive\", force_remount=True).\n"
          ],
          "name": "stdout"
        }
      ]
    },
    {
      "cell_type": "markdown",
      "metadata": {
        "id": "84J9jUizee21",
        "colab_type": "text"
      },
      "source": [
        "# Load"
      ]
    },
    {
      "cell_type": "code",
      "metadata": {
        "id": "DPQvBnBGMK9c",
        "colab_type": "code",
        "colab": {}
      },
      "source": [
        "import pandas as pd\n",
        "\n",
        "#資料夾1\n",
        "path42 = '/content/drive/My Drive/玉山人工智慧比賽數據/lightgbm_result/random_state_42/submission_lightgbm_Fold_{}.csv'\n",
        "\n",
        "#資料夾2\n",
        "path7 = '/content/drive/My Drive/玉山人工智慧比賽數據/lightgbm_result/random_state_7/submission_lightgbm_Fold_{}.csv'\n",
        "\n",
        "dfs42 = {}\n",
        "dfs7 = {}\n",
        "\n",
        "#迴圈讀取後存入字典\n",
        "for i in range(0,5,1):\n",
        "  dfs42[i] = pd.read_csv(path42.format(i),index_col=0)\n",
        "\n",
        "for i in range(0,5,1):\n",
        "  dfs7[i] = pd.read_csv(path7.format(i),index_col=0)"
      ],
      "execution_count": 0,
      "outputs": []
    },
    {
      "cell_type": "markdown",
      "metadata": {
        "id": "WbieOnDLegxj",
        "colab_type": "text"
      },
      "source": [
        "# merge"
      ]
    },
    {
      "cell_type": "code",
      "metadata": {
        "id": "NchLctFSNsN9",
        "colab_type": "code",
        "outputId": "2861f692-fe0c-44c6-e6e9-0952f847c7ca",
        "colab": {
          "base_uri": "https://localhost:8080/",
          "height": 200
        }
      },
      "source": [
        "final = pd.DataFrame()\n",
        "final['txkey'] = dfs42[0]['txkey']\n",
        "\n",
        "for i in range(0,5,1):\n",
        "  final['pred_'+str(i)] = dfs42[i]['fraud_ind'].values \n",
        "\n",
        "for i in range(0,5,1):\n",
        "  final['pred_'+str(i+5)] = dfs7[i]['fraud_ind'].values\n",
        "\n",
        "final.head()"
      ],
      "execution_count": 3,
      "outputs": [
        {
          "output_type": "execute_result",
          "data": {
            "text/html": [
              "<div>\n",
              "<style scoped>\n",
              "    .dataframe tbody tr th:only-of-type {\n",
              "        vertical-align: middle;\n",
              "    }\n",
              "\n",
              "    .dataframe tbody tr th {\n",
              "        vertical-align: top;\n",
              "    }\n",
              "\n",
              "    .dataframe thead th {\n",
              "        text-align: right;\n",
              "    }\n",
              "</style>\n",
              "<table border=\"1\" class=\"dataframe\">\n",
              "  <thead>\n",
              "    <tr style=\"text-align: right;\">\n",
              "      <th></th>\n",
              "      <th>txkey</th>\n",
              "      <th>pred_0</th>\n",
              "      <th>pred_1</th>\n",
              "      <th>pred_2</th>\n",
              "      <th>pred_3</th>\n",
              "      <th>pred_4</th>\n",
              "      <th>pred_5</th>\n",
              "      <th>pred_6</th>\n",
              "      <th>pred_7</th>\n",
              "      <th>pred_8</th>\n",
              "      <th>pred_9</th>\n",
              "    </tr>\n",
              "  </thead>\n",
              "  <tbody>\n",
              "    <tr>\n",
              "      <th>1521787</th>\n",
              "      <td>592489</td>\n",
              "      <td>0</td>\n",
              "      <td>0</td>\n",
              "      <td>0</td>\n",
              "      <td>0</td>\n",
              "      <td>0</td>\n",
              "      <td>0</td>\n",
              "      <td>0</td>\n",
              "      <td>0</td>\n",
              "      <td>0</td>\n",
              "      <td>0</td>\n",
              "    </tr>\n",
              "    <tr>\n",
              "      <th>1521788</th>\n",
              "      <td>592452</td>\n",
              "      <td>0</td>\n",
              "      <td>0</td>\n",
              "      <td>0</td>\n",
              "      <td>0</td>\n",
              "      <td>0</td>\n",
              "      <td>0</td>\n",
              "      <td>0</td>\n",
              "      <td>0</td>\n",
              "      <td>0</td>\n",
              "      <td>0</td>\n",
              "    </tr>\n",
              "    <tr>\n",
              "      <th>1521789</th>\n",
              "      <td>590212</td>\n",
              "      <td>0</td>\n",
              "      <td>0</td>\n",
              "      <td>0</td>\n",
              "      <td>0</td>\n",
              "      <td>0</td>\n",
              "      <td>0</td>\n",
              "      <td>0</td>\n",
              "      <td>0</td>\n",
              "      <td>0</td>\n",
              "      <td>0</td>\n",
              "    </tr>\n",
              "    <tr>\n",
              "      <th>1521790</th>\n",
              "      <td>590209</td>\n",
              "      <td>0</td>\n",
              "      <td>0</td>\n",
              "      <td>0</td>\n",
              "      <td>0</td>\n",
              "      <td>0</td>\n",
              "      <td>0</td>\n",
              "      <td>0</td>\n",
              "      <td>0</td>\n",
              "      <td>0</td>\n",
              "      <td>0</td>\n",
              "    </tr>\n",
              "    <tr>\n",
              "      <th>1521791</th>\n",
              "      <td>592488</td>\n",
              "      <td>0</td>\n",
              "      <td>0</td>\n",
              "      <td>0</td>\n",
              "      <td>0</td>\n",
              "      <td>0</td>\n",
              "      <td>0</td>\n",
              "      <td>0</td>\n",
              "      <td>0</td>\n",
              "      <td>0</td>\n",
              "      <td>0</td>\n",
              "    </tr>\n",
              "  </tbody>\n",
              "</table>\n",
              "</div>"
            ],
            "text/plain": [
              "          txkey  pred_0  pred_1  pred_2  ...  pred_6  pred_7  pred_8  pred_9\n",
              "1521787  592489       0       0       0  ...       0       0       0       0\n",
              "1521788  592452       0       0       0  ...       0       0       0       0\n",
              "1521789  590212       0       0       0  ...       0       0       0       0\n",
              "1521790  590209       0       0       0  ...       0       0       0       0\n",
              "1521791  592488       0       0       0  ...       0       0       0       0\n",
              "\n",
              "[5 rows x 11 columns]"
            ]
          },
          "metadata": {
            "tags": []
          },
          "execution_count": 3
        }
      ]
    },
    {
      "cell_type": "markdown",
      "metadata": {
        "id": "PgdDx9OFei0l",
        "colab_type": "text"
      },
      "source": [
        "# count mean"
      ]
    },
    {
      "cell_type": "code",
      "metadata": {
        "id": "s5aYwvO-fBfk",
        "colab_type": "code",
        "outputId": "99e53fdd-2b42-4da1-c728-fa7d96bad8e7",
        "colab": {
          "base_uri": "https://localhost:8080/",
          "height": 200
        }
      },
      "source": [
        "final['fraud_ind'] = final.drop('txkey',axis=1).mean(axis=1)\n",
        "final = final[['txkey','fraud_ind']]\n",
        "final.sample(5)"
      ],
      "execution_count": 4,
      "outputs": [
        {
          "output_type": "execute_result",
          "data": {
            "text/html": [
              "<div>\n",
              "<style scoped>\n",
              "    .dataframe tbody tr th:only-of-type {\n",
              "        vertical-align: middle;\n",
              "    }\n",
              "\n",
              "    .dataframe tbody tr th {\n",
              "        vertical-align: top;\n",
              "    }\n",
              "\n",
              "    .dataframe thead th {\n",
              "        text-align: right;\n",
              "    }\n",
              "</style>\n",
              "<table border=\"1\" class=\"dataframe\">\n",
              "  <thead>\n",
              "    <tr style=\"text-align: right;\">\n",
              "      <th></th>\n",
              "      <th>txkey</th>\n",
              "      <th>fraud_ind</th>\n",
              "    </tr>\n",
              "  </thead>\n",
              "  <tbody>\n",
              "    <tr>\n",
              "      <th>1888611</th>\n",
              "      <td>902304</td>\n",
              "      <td>0.0</td>\n",
              "    </tr>\n",
              "    <tr>\n",
              "      <th>1767673</th>\n",
              "      <td>1175557</td>\n",
              "      <td>0.0</td>\n",
              "    </tr>\n",
              "    <tr>\n",
              "      <th>1604412</th>\n",
              "      <td>1323494</td>\n",
              "      <td>0.0</td>\n",
              "    </tr>\n",
              "    <tr>\n",
              "      <th>1844448</th>\n",
              "      <td>969937</td>\n",
              "      <td>0.0</td>\n",
              "    </tr>\n",
              "    <tr>\n",
              "      <th>1918686</th>\n",
              "      <td>635355</td>\n",
              "      <td>0.0</td>\n",
              "    </tr>\n",
              "  </tbody>\n",
              "</table>\n",
              "</div>"
            ],
            "text/plain": [
              "           txkey  fraud_ind\n",
              "1888611   902304        0.0\n",
              "1767673  1175557        0.0\n",
              "1604412  1323494        0.0\n",
              "1844448   969937        0.0\n",
              "1918686   635355        0.0"
            ]
          },
          "metadata": {
            "tags": []
          },
          "execution_count": 4
        }
      ]
    },
    {
      "cell_type": "markdown",
      "metadata": {
        "id": "_vL382q8eogb",
        "colab_type": "text"
      },
      "source": [
        "# value_counts"
      ]
    },
    {
      "cell_type": "code",
      "metadata": {
        "id": "LSSZ9RG57Cxb",
        "colab_type": "code",
        "outputId": "d3612377-eea5-4d62-cbbc-b54204d1fc8b",
        "colab": {
          "base_uri": "https://localhost:8080/",
          "height": 230
        }
      },
      "source": [
        "final['fraud_ind'].value_counts()"
      ],
      "execution_count": 5,
      "outputs": [
        {
          "output_type": "execute_result",
          "data": {
            "text/plain": [
              "0.0    415038\n",
              "1.0      3154\n",
              "0.2      1094\n",
              "0.8       719\n",
              "0.4       718\n",
              "0.6       616\n",
              "0.1       112\n",
              "0.5        60\n",
              "0.3        60\n",
              "0.7        52\n",
              "0.9        42\n",
              "Name: fraud_ind, dtype: int64"
            ]
          },
          "metadata": {
            "tags": []
          },
          "execution_count": 5
        }
      ]
    },
    {
      "cell_type": "code",
      "metadata": {
        "id": "pfmPoqbV7JwZ",
        "colab_type": "code",
        "colab": {}
      },
      "source": [
        "def f(x):\n",
        "  if x>=0.4:\n",
        "    return 1\n",
        "  else:\n",
        "    return 0\n",
        "final['fraud_ind'] = final['fraud_ind'].apply(f)"
      ],
      "execution_count": 0,
      "outputs": []
    },
    {
      "cell_type": "code",
      "metadata": {
        "id": "1jyWD-b_fwOW",
        "colab_type": "code",
        "colab": {
          "base_uri": "https://localhost:8080/",
          "height": 35
        },
        "outputId": "50599acd-14a8-4ee8-fd57-a42f7234ce83"
      },
      "source": [
        "all_list = list(dfs42.values())+list(dfs7.values())\n",
        "all_list.append(final)\n",
        "len(all_list)"
      ],
      "execution_count": 7,
      "outputs": [
        {
          "output_type": "execute_result",
          "data": {
            "text/plain": [
              "11"
            ]
          },
          "metadata": {
            "tags": []
          },
          "execution_count": 7
        }
      ]
    },
    {
      "cell_type": "code",
      "metadata": {
        "id": "Bje9VRZ3MhoI",
        "colab_type": "code",
        "outputId": "a737adc7-9909-4342-d610-52a05de83d24",
        "colab": {
          "base_uri": "https://localhost:8080/",
          "height": 78
        }
      },
      "source": [
        "ps={}\n",
        "\n",
        "for index,data in enumerate(all_list):\n",
        "  ps['p'+str(index)] = round((data['fraud_ind'].value_counts()[1] / #盜刷樣本數\n",
        "                len(data['fraud_ind']))*100 ,5) #總數\n",
        "\n",
        "pd.DataFrame(ps,index=['盜刷比例%'])"
      ],
      "execution_count": 8,
      "outputs": [
        {
          "output_type": "execute_result",
          "data": {
            "text/html": [
              "<div>\n",
              "<style scoped>\n",
              "    .dataframe tbody tr th:only-of-type {\n",
              "        vertical-align: middle;\n",
              "    }\n",
              "\n",
              "    .dataframe tbody tr th {\n",
              "        vertical-align: top;\n",
              "    }\n",
              "\n",
              "    .dataframe thead th {\n",
              "        text-align: right;\n",
              "    }\n",
              "</style>\n",
              "<table border=\"1\" class=\"dataframe\">\n",
              "  <thead>\n",
              "    <tr style=\"text-align: right;\">\n",
              "      <th></th>\n",
              "      <th>p0</th>\n",
              "      <th>p1</th>\n",
              "      <th>p2</th>\n",
              "      <th>p3</th>\n",
              "      <th>p4</th>\n",
              "      <th>p5</th>\n",
              "      <th>p6</th>\n",
              "      <th>p7</th>\n",
              "      <th>p8</th>\n",
              "      <th>p9</th>\n",
              "      <th>p10</th>\n",
              "    </tr>\n",
              "  </thead>\n",
              "  <tbody>\n",
              "    <tr>\n",
              "      <th>盜刷比例%</th>\n",
              "      <td>1.11866</td>\n",
              "      <td>1.09945</td>\n",
              "      <td>1.13147</td>\n",
              "      <td>1.09376</td>\n",
              "      <td>1.18506</td>\n",
              "      <td>1.11866</td>\n",
              "      <td>1.09945</td>\n",
              "      <td>1.13147</td>\n",
              "      <td>1.0857</td>\n",
              "      <td>1.17321</td>\n",
              "      <td>1.27139</td>\n",
              "    </tr>\n",
              "  </tbody>\n",
              "</table>\n",
              "</div>"
            ],
            "text/plain": [
              "            p0       p1       p2       p3  ...       p7      p8       p9      p10\n",
              "盜刷比例%  1.11866  1.09945  1.13147  1.09376  ...  1.13147  1.0857  1.17321  1.27139\n",
              "\n",
              "[1 rows x 11 columns]"
            ]
          },
          "metadata": {
            "tags": []
          },
          "execution_count": 8
        }
      ]
    },
    {
      "cell_type": "markdown",
      "metadata": {
        "id": "371pfV2OPkLx",
        "colab_type": "text"
      },
      "source": [
        "# 保存預測結果"
      ]
    },
    {
      "cell_type": "code",
      "metadata": {
        "id": "L1GTakycPPdt",
        "colab_type": "code",
        "colab": {}
      },
      "source": [
        "path = \"/content/drive/My Drive/玉山人工智慧比賽數據/lightgbm_result/10個lgb_model_voting_big_than_04.csv\"\n",
        "final.to_csv(path)"
      ],
      "execution_count": 0,
      "outputs": []
    },
    {
      "cell_type": "code",
      "metadata": {
        "id": "sG5Nl_D_Pmgn",
        "colab_type": "code",
        "outputId": "cd06e9d5-f02b-4e11-c6dd-dc819c3efe86",
        "colab": {
          "base_uri": "https://localhost:8080/",
          "height": 70
        }
      },
      "source": [
        "print(final[\"fraud_ind\"].value_counts())"
      ],
      "execution_count": 10,
      "outputs": [
        {
          "output_type": "stream",
          "text": [
            "0    416304\n",
            "1      5361\n",
            "Name: fraud_ind, dtype: int64\n"
          ],
          "name": "stdout"
        }
      ]
    },
    {
      "cell_type": "code",
      "metadata": {
        "id": "7vmfIjVMPrsn",
        "colab_type": "code",
        "colab": {}
      },
      "source": [
        ""
      ],
      "execution_count": 0,
      "outputs": []
    }
  ]
}