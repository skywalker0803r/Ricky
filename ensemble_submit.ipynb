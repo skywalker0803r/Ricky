{
  "nbformat": 4,
  "nbformat_minor": 0,
  "metadata": {
    "colab": {
      "name": "ensemble_submit.ipynb",
      "provenance": [],
      "collapsed_sections": [],
      "include_colab_link": true
    },
    "kernelspec": {
      "name": "python3",
      "display_name": "Python 3"
    }
  },
  "cells": [
    {
      "cell_type": "markdown",
      "metadata": {
        "id": "view-in-github",
        "colab_type": "text"
      },
      "source": [
        "<a href=\"https://colab.research.google.com/github/skywalker0803r/Ricky/blob/master/ensemble_submit.ipynb\" target=\"_parent\"><img src=\"https://colab.research.google.com/assets/colab-badge.svg\" alt=\"Open In Colab\"/></a>"
      ]
    },
    {
      "cell_type": "code",
      "metadata": {
        "id": "DPQvBnBGMK9c",
        "colab_type": "code",
        "colab": {}
      },
      "source": [
        "import pandas as pd\n",
        "\n",
        "df_1 = pd.read_csv('/content/submission_ANN_Fold_0.csv',index_col=0)\n",
        "df_2 = pd.read_csv('/content/submission_ANN_Fold_1.csv',index_col=0)\n",
        "df_3 = pd.read_csv('/content/submission_ANN_Fold_2.csv',index_col=0)\n",
        "df_4 = pd.read_csv('/content/submission_ANN_Fold_3.csv',index_col=0)\n",
        "df_5 = pd.read_csv('/content/submission_ANN_Fold_4.csv',index_col=0)"
      ],
      "execution_count": 0,
      "outputs": []
    },
    {
      "cell_type": "code",
      "metadata": {
        "id": "NchLctFSNsN9",
        "colab_type": "code",
        "outputId": "7fe61a2e-7879-4777-d0e3-ec0c1d566969",
        "colab": {
          "base_uri": "https://localhost:8080/",
          "height": 197
        }
      },
      "source": [
        "final = pd.DataFrame()\n",
        "\n",
        "final['txkey'] = df_1['txkey']\n",
        "\n",
        "final['pred_1'] = df_1['fraud_ind']\n",
        "final['pred_2'] = df_2['fraud_ind']\n",
        "final['pred_3'] = df_3['fraud_ind']\n",
        "final['pred_4'] = df_4['fraud_ind']\n",
        "final['pred_5'] = df_5['fraud_ind']\n",
        "\n",
        "final['fraud_ind'] = final.drop('txkey',axis=1).mean(axis=1)\n",
        "final = final[['txkey','fraud_ind']]\n",
        "\n",
        "final.head()"
      ],
      "execution_count": 17,
      "outputs": [
        {
          "output_type": "execute_result",
          "data": {
            "text/html": [
              "<div>\n",
              "<style scoped>\n",
              "    .dataframe tbody tr th:only-of-type {\n",
              "        vertical-align: middle;\n",
              "    }\n",
              "\n",
              "    .dataframe tbody tr th {\n",
              "        vertical-align: top;\n",
              "    }\n",
              "\n",
              "    .dataframe thead th {\n",
              "        text-align: right;\n",
              "    }\n",
              "</style>\n",
              "<table border=\"1\" class=\"dataframe\">\n",
              "  <thead>\n",
              "    <tr style=\"text-align: right;\">\n",
              "      <th></th>\n",
              "      <th>txkey</th>\n",
              "      <th>fraud_ind</th>\n",
              "    </tr>\n",
              "  </thead>\n",
              "  <tbody>\n",
              "    <tr>\n",
              "      <th>1521787</th>\n",
              "      <td>592489</td>\n",
              "      <td>0.0</td>\n",
              "    </tr>\n",
              "    <tr>\n",
              "      <th>1521788</th>\n",
              "      <td>592452</td>\n",
              "      <td>0.0</td>\n",
              "    </tr>\n",
              "    <tr>\n",
              "      <th>1521789</th>\n",
              "      <td>590212</td>\n",
              "      <td>0.0</td>\n",
              "    </tr>\n",
              "    <tr>\n",
              "      <th>1521790</th>\n",
              "      <td>590209</td>\n",
              "      <td>0.0</td>\n",
              "    </tr>\n",
              "    <tr>\n",
              "      <th>1521791</th>\n",
              "      <td>592488</td>\n",
              "      <td>0.0</td>\n",
              "    </tr>\n",
              "  </tbody>\n",
              "</table>\n",
              "</div>"
            ],
            "text/plain": [
              "          txkey  fraud_ind\n",
              "1521787  592489        0.0\n",
              "1521788  592452        0.0\n",
              "1521789  590212        0.0\n",
              "1521790  590209        0.0\n",
              "1521791  592488        0.0"
            ]
          },
          "metadata": {
            "tags": []
          },
          "execution_count": 17
        }
      ]
    },
    {
      "cell_type": "code",
      "metadata": {
        "id": "LSSZ9RG57Cxb",
        "colab_type": "code",
        "colab": {
          "base_uri": "https://localhost:8080/",
          "height": 34
        },
        "outputId": "e3f6dce0-3e73-4b12-a3d5-0b89e32ac646"
      },
      "source": [
        "final['fraud_ind'].unique()"
      ],
      "execution_count": 18,
      "outputs": [
        {
          "output_type": "execute_result",
          "data": {
            "text/plain": [
              "array([0. , 0.2, 0.4, 0.6, 1. , 0.8])"
            ]
          },
          "metadata": {
            "tags": []
          },
          "execution_count": 18
        }
      ]
    },
    {
      "cell_type": "code",
      "metadata": {
        "id": "pfmPoqbV7JwZ",
        "colab_type": "code",
        "colab": {}
      },
      "source": [
        "def f(x):\n",
        "  if x>=0.8:\n",
        "    return 1\n",
        "  else:\n",
        "    return 0\n",
        "final['fraud_ind'] = final['fraud_ind'].apply(f)"
      ],
      "execution_count": 0,
      "outputs": []
    },
    {
      "cell_type": "code",
      "metadata": {
        "id": "Bje9VRZ3MhoI",
        "colab_type": "code",
        "outputId": "03362afc-7af3-4cf5-9e31-c0c7b3f71d7e",
        "colab": {
          "base_uri": "https://localhost:8080/",
          "height": 77
        }
      },
      "source": [
        "ps={}\n",
        "\n",
        "for index,data in enumerate([df_1,df_2,df_3,df_4,df_5,final]):\n",
        "  ps['p'+str(index)] = round((data['fraud_ind'].value_counts()[1] / #盜刷樣本數\n",
        "                len(data['fraud_ind']))*100 ,5) #總數\n",
        "\n",
        "pd.DataFrame(ps,index=['盜刷比例%']).rename(columns={'p5':'final_p'})"
      ],
      "execution_count": 20,
      "outputs": [
        {
          "output_type": "execute_result",
          "data": {
            "text/html": [
              "<div>\n",
              "<style scoped>\n",
              "    .dataframe tbody tr th:only-of-type {\n",
              "        vertical-align: middle;\n",
              "    }\n",
              "\n",
              "    .dataframe tbody tr th {\n",
              "        vertical-align: top;\n",
              "    }\n",
              "\n",
              "    .dataframe thead th {\n",
              "        text-align: right;\n",
              "    }\n",
              "</style>\n",
              "<table border=\"1\" class=\"dataframe\">\n",
              "  <thead>\n",
              "    <tr style=\"text-align: right;\">\n",
              "      <th></th>\n",
              "      <th>p0</th>\n",
              "      <th>p1</th>\n",
              "      <th>p2</th>\n",
              "      <th>p3</th>\n",
              "      <th>p4</th>\n",
              "      <th>final_p</th>\n",
              "    </tr>\n",
              "  </thead>\n",
              "  <tbody>\n",
              "    <tr>\n",
              "      <th>盜刷比例%</th>\n",
              "      <td>1.31811</td>\n",
              "      <td>1.2804</td>\n",
              "      <td>1.27376</td>\n",
              "      <td>1.274</td>\n",
              "      <td>1.35297</td>\n",
              "      <td>0.89479</td>\n",
              "    </tr>\n",
              "  </tbody>\n",
              "</table>\n",
              "</div>"
            ],
            "text/plain": [
              "            p0      p1       p2     p3       p4  final_p\n",
              "盜刷比例%  1.31811  1.2804  1.27376  1.274  1.35297  0.89479"
            ]
          },
          "metadata": {
            "tags": []
          },
          "execution_count": 20
        }
      ]
    },
    {
      "cell_type": "markdown",
      "metadata": {
        "id": "371pfV2OPkLx",
        "colab_type": "text"
      },
      "source": [
        "# 保存預測結果"
      ]
    },
    {
      "cell_type": "code",
      "metadata": {
        "id": "L1GTakycPPdt",
        "colab_type": "code",
        "colab": {}
      },
      "source": [
        "final.to_csv(\"./submission_ANN_Voting_big_than_0_4_result.csv\")"
      ],
      "execution_count": 0,
      "outputs": []
    },
    {
      "cell_type": "code",
      "metadata": {
        "id": "sG5Nl_D_Pmgn",
        "colab_type": "code",
        "outputId": "9683e5b3-e842-4d50-a06b-d650e1706e45",
        "colab": {
          "base_uri": "https://localhost:8080/",
          "height": 70
        }
      },
      "source": [
        "print(final[\"fraud_ind\"].value_counts())"
      ],
      "execution_count": 21,
      "outputs": [
        {
          "output_type": "stream",
          "text": [
            "0    417892\n",
            "1      3773\n",
            "Name: fraud_ind, dtype: int64\n"
          ],
          "name": "stdout"
        }
      ]
    },
    {
      "cell_type": "code",
      "metadata": {
        "id": "7vmfIjVMPrsn",
        "colab_type": "code",
        "colab": {}
      },
      "source": [
        ""
      ],
      "execution_count": 0,
      "outputs": []
    }
  ]
}