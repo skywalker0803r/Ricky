{
  "nbformat": 4,
  "nbformat_minor": 0,
  "metadata": {
    "colab": {
      "provenance": [],
      "authorship_tag": "ABX9TyPUfpYwvJZMEhVfO+nmkk+m",
      "include_colab_link": true
    },
    "kernelspec": {
      "name": "python3",
      "display_name": "Python 3"
    },
    "language_info": {
      "name": "python"
    }
  },
  "cells": [
    {
      "cell_type": "markdown",
      "metadata": {
        "id": "view-in-github",
        "colab_type": "text"
      },
      "source": [
        "<a href=\"https://colab.research.google.com/github/skywalker0803r/Ricky/blob/master/%E7%A8%8B%E5%BC%8F%E5%9F%BA%E6%9C%AC%E6%95%99%E5%AD%B8_1_%E8%82%A1%E7%A5%A8%E8%B2%B7%E8%B3%A3%E8%A8%88%E7%AE%97.ipynb\" target=\"_parent\"><img src=\"https://colab.research.google.com/assets/colab-badge.svg\" alt=\"Open In Colab\"/></a>"
      ]
    },
    {
      "cell_type": "markdown",
      "source": [
        "# 取得股價資料"
      ],
      "metadata": {
        "id": "XzER4KjdqM1g"
      }
    },
    {
      "cell_type": "code",
      "execution_count": 99,
      "metadata": {
        "colab": {
          "base_uri": "https://localhost:8080/",
          "height": 455
        },
        "id": "-xK7yuKto07s",
        "outputId": "e205c328-27ec-4ac7-81b0-c7e49e53c3fe"
      },
      "outputs": [
        {
          "output_type": "execute_result",
          "data": {
            "text/plain": [
              "                                 Open        High         Low       Close  \\\n",
              "Date                                                                        \n",
              "2018-02-26 00:00:00+08:00  212.482984  212.913111  210.762474  212.052856   \n",
              "2018-02-27 00:00:00+08:00  215.493827  215.493827  211.622681  211.622681   \n",
              "2018-03-01 00:00:00+08:00  209.902201  210.762456  208.181691  209.041946   \n",
              "2018-03-02 00:00:00+08:00  206.461197  207.321452  205.170814  206.461197   \n",
              "2018-03-05 00:00:00+08:00  208.611811  209.041939  206.891302  207.751556   \n",
              "...                               ...         ...         ...         ...   \n",
              "2023-02-17 00:00:00+08:00  524.000000  524.000000  516.000000  518.000000   \n",
              "2023-02-20 00:00:00+08:00  514.000000  519.000000  511.000000  517.000000   \n",
              "2023-02-21 00:00:00+08:00  515.000000  517.000000  513.000000  516.000000   \n",
              "2023-02-22 00:00:00+08:00  506.000000  509.000000  505.000000  507.000000   \n",
              "2023-02-23 00:00:00+08:00  512.000000  521.000000  510.000000  518.000000   \n",
              "\n",
              "                             Volume  \n",
              "Date                                 \n",
              "2018-02-26 00:00:00+08:00  35901810  \n",
              "2018-02-27 00:00:00+08:00  40818119  \n",
              "2018-03-01 00:00:00+08:00  39719984  \n",
              "2018-03-02 00:00:00+08:00  35139170  \n",
              "2018-03-05 00:00:00+08:00  27337846  \n",
              "...                             ...  \n",
              "2023-02-17 00:00:00+08:00  28121975  \n",
              "2023-02-20 00:00:00+08:00  20065156  \n",
              "2023-02-21 00:00:00+08:00  13504100  \n",
              "2023-02-22 00:00:00+08:00  24575245  \n",
              "2023-02-23 00:00:00+08:00  25376835  \n",
              "\n",
              "[1217 rows x 5 columns]"
            ],
            "text/html": [
              "\n",
              "  <div id=\"df-325587c9-ad8f-4293-b494-44aea9517cfe\">\n",
              "    <div class=\"colab-df-container\">\n",
              "      <div>\n",
              "<style scoped>\n",
              "    .dataframe tbody tr th:only-of-type {\n",
              "        vertical-align: middle;\n",
              "    }\n",
              "\n",
              "    .dataframe tbody tr th {\n",
              "        vertical-align: top;\n",
              "    }\n",
              "\n",
              "    .dataframe thead th {\n",
              "        text-align: right;\n",
              "    }\n",
              "</style>\n",
              "<table border=\"1\" class=\"dataframe\">\n",
              "  <thead>\n",
              "    <tr style=\"text-align: right;\">\n",
              "      <th></th>\n",
              "      <th>Open</th>\n",
              "      <th>High</th>\n",
              "      <th>Low</th>\n",
              "      <th>Close</th>\n",
              "      <th>Volume</th>\n",
              "    </tr>\n",
              "    <tr>\n",
              "      <th>Date</th>\n",
              "      <th></th>\n",
              "      <th></th>\n",
              "      <th></th>\n",
              "      <th></th>\n",
              "      <th></th>\n",
              "    </tr>\n",
              "  </thead>\n",
              "  <tbody>\n",
              "    <tr>\n",
              "      <th>2018-02-26 00:00:00+08:00</th>\n",
              "      <td>212.482984</td>\n",
              "      <td>212.913111</td>\n",
              "      <td>210.762474</td>\n",
              "      <td>212.052856</td>\n",
              "      <td>35901810</td>\n",
              "    </tr>\n",
              "    <tr>\n",
              "      <th>2018-02-27 00:00:00+08:00</th>\n",
              "      <td>215.493827</td>\n",
              "      <td>215.493827</td>\n",
              "      <td>211.622681</td>\n",
              "      <td>211.622681</td>\n",
              "      <td>40818119</td>\n",
              "    </tr>\n",
              "    <tr>\n",
              "      <th>2018-03-01 00:00:00+08:00</th>\n",
              "      <td>209.902201</td>\n",
              "      <td>210.762456</td>\n",
              "      <td>208.181691</td>\n",
              "      <td>209.041946</td>\n",
              "      <td>39719984</td>\n",
              "    </tr>\n",
              "    <tr>\n",
              "      <th>2018-03-02 00:00:00+08:00</th>\n",
              "      <td>206.461197</td>\n",
              "      <td>207.321452</td>\n",
              "      <td>205.170814</td>\n",
              "      <td>206.461197</td>\n",
              "      <td>35139170</td>\n",
              "    </tr>\n",
              "    <tr>\n",
              "      <th>2018-03-05 00:00:00+08:00</th>\n",
              "      <td>208.611811</td>\n",
              "      <td>209.041939</td>\n",
              "      <td>206.891302</td>\n",
              "      <td>207.751556</td>\n",
              "      <td>27337846</td>\n",
              "    </tr>\n",
              "    <tr>\n",
              "      <th>...</th>\n",
              "      <td>...</td>\n",
              "      <td>...</td>\n",
              "      <td>...</td>\n",
              "      <td>...</td>\n",
              "      <td>...</td>\n",
              "    </tr>\n",
              "    <tr>\n",
              "      <th>2023-02-17 00:00:00+08:00</th>\n",
              "      <td>524.000000</td>\n",
              "      <td>524.000000</td>\n",
              "      <td>516.000000</td>\n",
              "      <td>518.000000</td>\n",
              "      <td>28121975</td>\n",
              "    </tr>\n",
              "    <tr>\n",
              "      <th>2023-02-20 00:00:00+08:00</th>\n",
              "      <td>514.000000</td>\n",
              "      <td>519.000000</td>\n",
              "      <td>511.000000</td>\n",
              "      <td>517.000000</td>\n",
              "      <td>20065156</td>\n",
              "    </tr>\n",
              "    <tr>\n",
              "      <th>2023-02-21 00:00:00+08:00</th>\n",
              "      <td>515.000000</td>\n",
              "      <td>517.000000</td>\n",
              "      <td>513.000000</td>\n",
              "      <td>516.000000</td>\n",
              "      <td>13504100</td>\n",
              "    </tr>\n",
              "    <tr>\n",
              "      <th>2023-02-22 00:00:00+08:00</th>\n",
              "      <td>506.000000</td>\n",
              "      <td>509.000000</td>\n",
              "      <td>505.000000</td>\n",
              "      <td>507.000000</td>\n",
              "      <td>24575245</td>\n",
              "    </tr>\n",
              "    <tr>\n",
              "      <th>2023-02-23 00:00:00+08:00</th>\n",
              "      <td>512.000000</td>\n",
              "      <td>521.000000</td>\n",
              "      <td>510.000000</td>\n",
              "      <td>518.000000</td>\n",
              "      <td>25376835</td>\n",
              "    </tr>\n",
              "  </tbody>\n",
              "</table>\n",
              "<p>1217 rows × 5 columns</p>\n",
              "</div>\n",
              "      <button class=\"colab-df-convert\" onclick=\"convertToInteractive('df-325587c9-ad8f-4293-b494-44aea9517cfe')\"\n",
              "              title=\"Convert this dataframe to an interactive table.\"\n",
              "              style=\"display:none;\">\n",
              "        \n",
              "  <svg xmlns=\"http://www.w3.org/2000/svg\" height=\"24px\"viewBox=\"0 0 24 24\"\n",
              "       width=\"24px\">\n",
              "    <path d=\"M0 0h24v24H0V0z\" fill=\"none\"/>\n",
              "    <path d=\"M18.56 5.44l.94 2.06.94-2.06 2.06-.94-2.06-.94-.94-2.06-.94 2.06-2.06.94zm-11 1L8.5 8.5l.94-2.06 2.06-.94-2.06-.94L8.5 2.5l-.94 2.06-2.06.94zm10 10l.94 2.06.94-2.06 2.06-.94-2.06-.94-.94-2.06-.94 2.06-2.06.94z\"/><path d=\"M17.41 7.96l-1.37-1.37c-.4-.4-.92-.59-1.43-.59-.52 0-1.04.2-1.43.59L10.3 9.45l-7.72 7.72c-.78.78-.78 2.05 0 2.83L4 21.41c.39.39.9.59 1.41.59.51 0 1.02-.2 1.41-.59l7.78-7.78 2.81-2.81c.8-.78.8-2.07 0-2.86zM5.41 20L4 18.59l7.72-7.72 1.47 1.35L5.41 20z\"/>\n",
              "  </svg>\n",
              "      </button>\n",
              "      \n",
              "  <style>\n",
              "    .colab-df-container {\n",
              "      display:flex;\n",
              "      flex-wrap:wrap;\n",
              "      gap: 12px;\n",
              "    }\n",
              "\n",
              "    .colab-df-convert {\n",
              "      background-color: #E8F0FE;\n",
              "      border: none;\n",
              "      border-radius: 50%;\n",
              "      cursor: pointer;\n",
              "      display: none;\n",
              "      fill: #1967D2;\n",
              "      height: 32px;\n",
              "      padding: 0 0 0 0;\n",
              "      width: 32px;\n",
              "    }\n",
              "\n",
              "    .colab-df-convert:hover {\n",
              "      background-color: #E2EBFA;\n",
              "      box-shadow: 0px 1px 2px rgba(60, 64, 67, 0.3), 0px 1px 3px 1px rgba(60, 64, 67, 0.15);\n",
              "      fill: #174EA6;\n",
              "    }\n",
              "\n",
              "    [theme=dark] .colab-df-convert {\n",
              "      background-color: #3B4455;\n",
              "      fill: #D2E3FC;\n",
              "    }\n",
              "\n",
              "    [theme=dark] .colab-df-convert:hover {\n",
              "      background-color: #434B5C;\n",
              "      box-shadow: 0px 1px 3px 1px rgba(0, 0, 0, 0.15);\n",
              "      filter: drop-shadow(0px 1px 2px rgba(0, 0, 0, 0.3));\n",
              "      fill: #FFFFFF;\n",
              "    }\n",
              "  </style>\n",
              "\n",
              "      <script>\n",
              "        const buttonEl =\n",
              "          document.querySelector('#df-325587c9-ad8f-4293-b494-44aea9517cfe button.colab-df-convert');\n",
              "        buttonEl.style.display =\n",
              "          google.colab.kernel.accessAllowed ? 'block' : 'none';\n",
              "\n",
              "        async function convertToInteractive(key) {\n",
              "          const element = document.querySelector('#df-325587c9-ad8f-4293-b494-44aea9517cfe');\n",
              "          const dataTable =\n",
              "            await google.colab.kernel.invokeFunction('convertToInteractive',\n",
              "                                                     [key], {});\n",
              "          if (!dataTable) return;\n",
              "\n",
              "          const docLinkHtml = 'Like what you see? Visit the ' +\n",
              "            '<a target=\"_blank\" href=https://colab.research.google.com/notebooks/data_table.ipynb>data table notebook</a>'\n",
              "            + ' to learn more about interactive tables.';\n",
              "          element.innerHTML = '';\n",
              "          dataTable['output_type'] = 'display_data';\n",
              "          await google.colab.output.renderOutput(dataTable, element);\n",
              "          const docLink = document.createElement('div');\n",
              "          docLink.innerHTML = docLinkHtml;\n",
              "          element.appendChild(docLink);\n",
              "        }\n",
              "      </script>\n",
              "    </div>\n",
              "  </div>\n",
              "  "
            ]
          },
          "metadata": {},
          "execution_count": 99
        }
      ],
      "source": [
        "import yfinance as yf\n",
        "import datetime as dt\n",
        "import pandas as pd\n",
        "import matplotlib.pyplot as plt\n",
        "\n",
        "start_date = dt.datetime.now() - dt.timedelta(days=5*365)\n",
        "end_date = dt.datetime.now()\n",
        "\n",
        "tsm = yf.Ticker(\"2330.tw\")\n",
        "tsm_data = tsm.history(start=start_date, end=end_date)[['Open','High','Low','Close','Volume']]\n",
        "for i in tsm_data.columns:\n",
        "  tsm_data[i] = pd.to_numeric(tsm_data[i])\n",
        "tsm_data.dropna()\n",
        "tsm_data"
      ]
    },
    {
      "cell_type": "markdown",
      "source": [
        "# 看股價線圖"
      ],
      "metadata": {
        "id": "TkYiyciz1jUu"
      }
    },
    {
      "cell_type": "code",
      "source": [
        "plt.plot(tsm_data.Close)"
      ],
      "metadata": {
        "colab": {
          "base_uri": "https://localhost:8080/",
          "height": 282
        },
        "id": "TN1TQ7cSwgf8",
        "outputId": "4855b37c-ea65-41d5-81db-62233ca0c3f2"
      },
      "execution_count": 100,
      "outputs": [
        {
          "output_type": "execute_result",
          "data": {
            "text/plain": [
              "[<matplotlib.lines.Line2D at 0x7f4fe7f3fc40>]"
            ]
          },
          "metadata": {},
          "execution_count": 100
        },
        {
          "output_type": "display_data",
          "data": {
            "text/plain": [
              "<Figure size 432x288 with 1 Axes>"
            ],
            "image/png": "[encoded data removed]"
          },
          "metadata": {
            "needs_background": "light"
          }
        }
      ]
    },
    {
      "cell_type": "markdown",
      "source": [
        "# 模擬進出場訊號"
      ],
      "metadata": {
        "id": "gOApdoyqqc4v"
      }
    },
    {
      "cell_type": "code",
      "source": [
        "def add_label_column(df,lb,ub,n_day):\n",
        "    shifted_close = df['Close'].shift(-n_day)\n",
        "    is_decrease = shifted_close < df['Close'] * lb\n",
        "    is_increase = shifted_close > df['Close'] * ub\n",
        "    df['signal'] = pd.Series(0, index=df.index)\n",
        "    df.loc[is_decrease, 'signal'] = -1\n",
        "    df.loc[is_increase, 'signal'] = 1\n",
        "    return df\n",
        "df = add_label_column(tsm_data,0.97,1.03,7)\n",
        "df"
      ],
      "metadata": {
        "colab": {
          "base_uri": "https://localhost:8080/",
          "height": 455
        },
        "id": "4sbp4dsfp1VV",
        "outputId": "c77e7eea-4dbd-4649-d050-d64c7ae55cb7"
      },
      "execution_count": 101,
      "outputs": [
        {
          "output_type": "execute_result",
          "data": {
            "text/plain": [
              "                                 Open        High         Low       Close  \\\n",
              "Date                                                                        \n",
              "2018-02-26 00:00:00+08:00  212.482984  212.913111  210.762474  212.052856   \n",
              "2018-02-27 00:00:00+08:00  215.493827  215.493827  211.622681  211.622681   \n",
              "2018-03-01 00:00:00+08:00  209.902201  210.762456  208.181691  209.041946   \n",
              "2018-03-02 00:00:00+08:00  206.461197  207.321452  205.170814  206.461197   \n",
              "2018-03-05 00:00:00+08:00  208.611811  209.041939  206.891302  207.751556   \n",
              "...                               ...         ...         ...         ...   \n",
              "2023-02-17 00:00:00+08:00  524.000000  524.000000  516.000000  518.000000   \n",
              "2023-02-20 00:00:00+08:00  514.000000  519.000000  511.000000  517.000000   \n",
              "2023-02-21 00:00:00+08:00  515.000000  517.000000  513.000000  516.000000   \n",
              "2023-02-22 00:00:00+08:00  506.000000  509.000000  505.000000  507.000000   \n",
              "2023-02-23 00:00:00+08:00  512.000000  521.000000  510.000000  518.000000   \n",
              "\n",
              "                             Volume  signal  \n",
              "Date                                         \n",
              "2018-02-26 00:00:00+08:00  35901810       0  \n",
              "2018-02-27 00:00:00+08:00  40818119       0  \n",
              "2018-03-01 00:00:00+08:00  39719984       1  \n",
              "2018-03-02 00:00:00+08:00  35139170       1  \n",
              "2018-03-05 00:00:00+08:00  27337846       1  \n",
              "...                             ...     ...  \n",
              "2023-02-17 00:00:00+08:00  28121975       0  \n",
              "2023-02-20 00:00:00+08:00  20065156       0  \n",
              "2023-02-21 00:00:00+08:00  13504100       0  \n",
              "2023-02-22 00:00:00+08:00  24575245       0  \n",
              "2023-02-23 00:00:00+08:00  25376835       0  \n",
              "\n",
              "[1217 rows x 6 columns]"
            ],
            "text/html": [
              "\n",
              "  <div id=\"df-5e401736-846b-4dec-8874-1ad834c741c4\">\n",
              "    <div class=\"colab-df-container\">\n",
              "      <div>\n",
              "<style scoped>\n",
              "    .dataframe tbody tr th:only-of-type {\n",
              "        vertical-align: middle;\n",
              "    }\n",
              "\n",
              "    .dataframe tbody tr th {\n",
              "        vertical-align: top;\n",
              "    }\n",
              "\n",
              "    .dataframe thead th {\n",
              "        text-align: right;\n",
              "    }\n",
              "</style>\n",
              "<table border=\"1\" class=\"dataframe\">\n",
              "  <thead>\n",
              "    <tr style=\"text-align: right;\">\n",
              "      <th></th>\n",
              "      <th>Open</th>\n",
              "      <th>High</th>\n",
              "      <th>Low</th>\n",
              "      <th>Close</th>\n",
              "      <th>Volume</th>\n",
              "      <th>signal</th>\n",
              "    </tr>\n",
              "    <tr>\n",
              "      <th>Date</th>\n",
              "      <th></th>\n",
              "      <th></th>\n",
              "      <th></th>\n",
              "      <th></th>\n",
              "      <th></th>\n",
              "      <th></th>\n",
              "    </tr>\n",
              "  </thead>\n",
              "  <tbody>\n",
              "    <tr>\n",
              "      <th>2018-02-26 00:00:00+08:00</th>\n",
              "      <td>212.482984</td>\n",
              "      <td>212.913111</td>\n",
              "      <td>210.762474</td>\n",
              "      <td>212.052856</td>\n",
              "      <td>35901810</td>\n",
              "      <td>0</td>\n",
              "    </tr>\n",
              "    <tr>\n",
              "      <th>2018-02-27 00:00:00+08:00</th>\n",
              "      <td>215.493827</td>\n",
              "      <td>215.493827</td>\n",
              "      <td>211.622681</td>\n",
              "      <td>211.622681</td>\n",
              "      <td>40818119</td>\n",
              "      <td>0</td>\n",
              "    </tr>\n",
              "    <tr>\n",
              "      <th>2018-03-01 00:00:00+08:00</th>\n",
              "      <td>209.902201</td>\n",
              "      <td>210.762456</td>\n",
              "      <td>208.181691</td>\n",
              "      <td>209.041946</td>\n",
              "      <td>39719984</td>\n",
              "      <td>1</td>\n",
              "    </tr>\n",
              "    <tr>\n",
              "      <th>2018-03-02 00:00:00+08:00</th>\n",
              "      <td>206.461197</td>\n",
              "      <td>207.321452</td>\n",
              "      <td>205.170814</td>\n",
              "      <td>206.461197</td>\n",
              "      <td>35139170</td>\n",
              "      <td>1</td>\n",
              "    </tr>\n",
              "    <tr>\n",
              "      <th>2018-03-05 00:00:00+08:00</th>\n",
              "      <td>208.611811</td>\n",
              "      <td>209.041939</td>\n",
              "      <td>206.891302</td>\n",
              "      <td>207.751556</td>\n",
              "      <td>27337846</td>\n",
              "      <td>1</td>\n",
              "    </tr>\n",
              "    <tr>\n",
              "      <th>...</th>\n",
              "      <td>...</td>\n",
              "      <td>...</td>\n",
              "      <td>...</td>\n",
              "      <td>...</td>\n",
              "      <td>...</td>\n",
              "      <td>...</td>\n",
              "    </tr>\n",
              "    <tr>\n",
              "      <th>2023-02-17 00:00:00+08:00</th>\n",
              "      <td>524.000000</td>\n",
              "      <td>524.000000</td>\n",
              "      <td>516.000000</td>\n",
              "      <td>518.000000</td>\n",
              "      <td>28121975</td>\n",
              "      <td>0</td>\n",
              "    </tr>\n",
              "    <tr>\n",
              "      <th>2023-02-20 00:00:00+08:00</th>\n",
              "      <td>514.000000</td>\n",
              "      <td>519.000000</td>\n",
              "      <td>511.000000</td>\n",
              "      <td>517.000000</td>\n",
              "      <td>20065156</td>\n",
              "      <td>0</td>\n",
              "    </tr>\n",
              "    <tr>\n",
              "      <th>2023-02-21 00:00:00+08:00</th>\n",
              "      <td>515.000000</td>\n",
              "      <td>517.000000</td>\n",
              "      <td>513.000000</td>\n",
              "      <td>516.000000</td>\n",
              "      <td>13504100</td>\n",
              "      <td>0</td>\n",
              "    </tr>\n",
              "    <tr>\n",
              "      <th>2023-02-22 00:00:00+08:00</th>\n",
              "      <td>506.000000</td>\n",
              "      <td>509.000000</td>\n",
              "      <td>505.000000</td>\n",
              "      <td>507.000000</td>\n",
              "      <td>24575245</td>\n",
              "      <td>0</td>\n",
              "    </tr>\n",
              "    <tr>\n",
              "      <th>2023-02-23 00:00:00+08:00</th>\n",
              "      <td>512.000000</td>\n",
              "      <td>521.000000</td>\n",
              "      <td>510.000000</td>\n",
              "      <td>518.000000</td>\n",
              "      <td>25376835</td>\n",
              "      <td>0</td>\n",
              "    </tr>\n",
              "  </tbody>\n",
              "</table>\n",
              "<p>1217 rows × 6 columns</p>\n",
              "</div>\n",
              "      <button class=\"colab-df-convert\" onclick=\"convertToInteractive('df-5e401736-846b-4dec-8874-1ad834c741c4')\"\n",
              "              title=\"Convert this dataframe to an interactive table.\"\n",
              "              style=\"display:none;\">\n",
              "        \n",
              "  <svg xmlns=\"http://www.w3.org/2000/svg\" height=\"24px\"viewBox=\"0 0 24 24\"\n",
              "       width=\"24px\">\n",
              "    <path d=\"M0 0h24v24H0V0z\" fill=\"none\"/>\n",
              "    <path d=\"M18.56 5.44l.94 2.06.94-2.06 2.06-.94-2.06-.94-.94-2.06-.94 2.06-2.06.94zm-11 1L8.5 8.5l.94-2.06 2.06-.94-2.06-.94L8.5 2.5l-.94 2.06-2.06.94zm10 10l.94 2.06.94-2.06 2.06-.94-2.06-.94-.94-2.06-.94 2.06-2.06.94z\"/><path d=\"M17.41 7.96l-1.37-1.37c-.4-.4-.92-.59-1.43-.59-.52 0-1.04.2-1.43.59L10.3 9.45l-7.72 7.72c-.78.78-.78 2.05 0 2.83L4 21.41c.39.39.9.59 1.41.59.51 0 1.02-.2 1.41-.59l7.78-7.78 2.81-2.81c.8-.78.8-2.07 0-2.86zM5.41 20L4 18.59l7.72-7.72 1.47 1.35L5.41 20z\"/>\n",
              "  </svg>\n",
              "      </button>\n",
              "      \n",
              "  <style>\n",
              "    .colab-df-container {\n",
              "      display:flex;\n",
              "      flex-wrap:wrap;\n",
              "      gap: 12px;\n",
              "    }\n",
              "\n",
              "    .colab-df-convert {\n",
              "      background-color: #E8F0FE;\n",
              "      border: none;\n",
              "      border-radius: 50%;\n",
              "      cursor: pointer;\n",
              "      display: none;\n",
              "      fill: #1967D2;\n",
              "      height: 32px;\n",
              "      padding: 0 0 0 0;\n",
              "      width: 32px;\n",
              "    }\n",
              "\n",
              "    .colab-df-convert:hover {\n",
              "      background-color: #E2EBFA;\n",
              "      box-shadow: 0px 1px 2px rgba(60, 64, 67, 0.3), 0px 1px 3px 1px rgba(60, 64, 67, 0.15);\n",
              "      fill: #174EA6;\n",
              "    }\n",
              "\n",
              "    [theme=dark] .colab-df-convert {\n",
              "      background-color: #3B4455;\n",
              "      fill: #D2E3FC;\n",
              "    }\n",
              "\n",
              "    [theme=dark] .colab-df-convert:hover {\n",
              "      background-color: #434B5C;\n",
              "      box-shadow: 0px 1px 3px 1px rgba(0, 0, 0, 0.15);\n",
              "      filter: drop-shadow(0px 1px 2px rgba(0, 0, 0, 0.3));\n",
              "      fill: #FFFFFF;\n",
              "    }\n",
              "  </style>\n",
              "\n",
              "      <script>\n",
              "        const buttonEl =\n",
              "          document.querySelector('#df-5e401736-846b-4dec-8874-1ad834c741c4 button.colab-df-convert');\n",
              "        buttonEl.style.display =\n",
              "          google.colab.kernel.accessAllowed ? 'block' : 'none';\n",
              "\n",
              "        async function convertToInteractive(key) {\n",
              "          const element = document.querySelector('#df-5e401736-846b-4dec-8874-1ad834c741c4');\n",
              "          const dataTable =\n",
              "            await google.colab.kernel.invokeFunction('convertToInteractive',\n",
              "                                                     [key], {});\n",
              "          if (!dataTable) return;\n",
              "\n",
              "          const docLinkHtml = 'Like what you see? Visit the ' +\n",
              "            '<a target=\"_blank\" href=https://colab.research.google.com/notebooks/data_table.ipynb>data table notebook</a>'\n",
              "            + ' to learn more about interactive tables.';\n",
              "          element.innerHTML = '';\n",
              "          dataTable['output_type'] = 'display_data';\n",
              "          await google.colab.output.renderOutput(dataTable, element);\n",
              "          const docLink = document.createElement('div');\n",
              "          docLink.innerHTML = docLinkHtml;\n",
              "          element.appendChild(docLink);\n",
              "        }\n",
              "      </script>\n",
              "    </div>\n",
              "  </div>\n",
              "  "
            ]
          },
          "metadata": {},
          "execution_count": 101
        }
      ]
    },
    {
      "cell_type": "markdown",
      "source": [
        "# 繪製進出場訊號"
      ],
      "metadata": {
        "id": "-SGYILIt1gjI"
      }
    },
    {
      "cell_type": "code",
      "source": [
        "n = 60\n",
        "temp_df = df.tail(n)\n",
        "buy = temp_df[temp_df['signal']==1]['Close']\n",
        "sell = temp_df[temp_df['signal']==-1]['Close']\n",
        "plt.plot(temp_df['Close'])\n",
        "plt.scatter(buy.index,buy.values,color='red',marker=\"^\")\n",
        "plt.scatter(sell.index,sell.values,color='black',marker=\"v\")\n",
        "plt.show()"
      ],
      "metadata": {
        "colab": {
          "base_uri": "https://localhost:8080/",
          "height": 265
        },
        "id": "51ETmZT3qztk",
        "outputId": "c10af647-68ad-4ab4-d35f-7c078eca1b27"
      },
      "execution_count": 102,
      "outputs": [
        {
          "output_type": "display_data",
          "data": {
            "text/plain": [
              "<Figure size 432x288 with 1 Axes>"
            ],
            "image/png": "[encoded data removed]"
          },
          "metadata": {
            "needs_background": "light"
          }
        }
      ]
    },
    {
      "cell_type": "markdown",
      "source": [
        "# 模擬交易程序"
      ],
      "metadata": {
        "id": "lv1QP-JV1dLE"
      }
    },
    {
      "cell_type": "code",
      "source": [
        "account = 1000000\n",
        "start_day = dt.datetime.now() - dt.timedelta(days=365*5)\n",
        "end_day = dt.datetime.now()\n",
        "share = 0\n",
        "def Simulation_trading(df,account,start_day,end_day,share):\n",
        "  total_asset = 0\n",
        "  total_asset_history = []\n",
        "  for i in df.loc[start_day:,:].index:\n",
        "    action = df.loc[i,'signal']\n",
        "    current_price = df.loc[i,'Close']\n",
        "    #嘗試買入\n",
        "    if action == 1:\n",
        "      # 判斷是否有足夠金錢買入\n",
        "      if account - current_price*1000 > 0:\n",
        "        # 執行買入動作\n",
        "        account -= current_price*1000\n",
        "        share += 1\n",
        "    #嘗試賣出\n",
        "    elif action == -1:\n",
        "      # 判斷是否有股份賣出\n",
        "      if share > 0:\n",
        "        # 執行賣出動作\n",
        "        account += current_price*1000\n",
        "        share -= 1\n",
        "    else:\n",
        "      #什麼也不做\n",
        "      pass\n",
        "    total_asset = account + share*current_price*1000\n",
        "    total_asset_history.append(total_asset)\n",
        "  return total_asset_history"
      ],
      "metadata": {
        "id": "wBvz09HFrZn9"
      },
      "execution_count": 103,
      "outputs": []
    },
    {
      "cell_type": "markdown",
      "source": [
        "# 必較單純持有跟有神一般策略的交易"
      ],
      "metadata": {
        "id": "fcWhajxb1V8z"
      }
    },
    {
      "cell_type": "code",
      "source": [
        "total_asset_history = Simulation_trading(df,account,start_day,end_day,share)\n",
        "plt.plot(total_asset_history,label='god trading')\n",
        "plt.legend()\n",
        "plt.show()\n",
        "plt.plot(df.loc[start_day:,'Close'].values,label='only hold')\n",
        "plt.legend()\n",
        "plt.show()"
      ],
      "metadata": {
        "colab": {
          "base_uri": "https://localhost:8080/",
          "height": 613
        },
        "id": "HluqIna3r3P8",
        "outputId": "52842e64-c989-48fb-90db-e4f88963a27b"
      },
      "execution_count": 104,
      "outputs": [
        {
          "output_type": "stream",
          "name": "stderr",
          "text": [
            "<ipython-input-103-d0f63e4cd58c>:8: FutureWarning: Indexing a timezone-aware DatetimeIndex with a timezone-naive datetime is deprecated and will raise KeyError in a future version.  Use a timezone-aware object instead.\n",
            "  for i in df.loc[start_day:,:].index:\n"
          ]
        },
        {
          "output_type": "display_data",
          "data": {
            "text/plain": [
              "<Figure size 432x288 with 1 Axes>"
            ],
            "image/png": "[encoded data removed]"
          },
          "metadata": {
            "needs_background": "light"
          }
        },
        {
          "output_type": "stream",
          "name": "stderr",
          "text": [
            "<ipython-input-104-a8dfe7a847aa>:5: FutureWarning: Indexing a timezone-aware DatetimeIndex with a timezone-naive datetime is deprecated and will raise KeyError in a future version.  Use a timezone-aware object instead.\n",
            "  plt.plot(df.loc[start_day:,'Close'].values,label='only hold')\n"
          ]
        },
        {
          "output_type": "display_data",
          "data": {
            "text/plain": [
              "<Figure size 432x288 with 1 Axes>"
            ],
            "image/png": "[encoded data removed]"
          },
          "metadata": {
            "needs_background": "light"
          }
        }
      ]
    },
    {
      "cell_type": "code",
      "source": [],
      "metadata": {
        "id": "HWaIqBMgze70"
      },
      "execution_count": 104,
      "outputs": []
    },
    {
      "cell_type": "code",
      "source": [],
      "metadata": {
        "id": "drW95DAp1oQo"
      },
      "execution_count": null,
      "outputs": []
    },
    {
      "cell_type": "code",
      "source": [],
      "metadata": {
        "id": "GrHzwTZ61oTx"
      },
      "execution_count": null,
      "outputs": []
    },
    {
      "cell_type": "code",
      "source": [],
      "metadata": {
        "id": "1Z66Pjun1oZ6"
      },
      "execution_count": null,
      "outputs": []
    },
    {
      "cell_type": "code",
      "source": [],
      "metadata": {
        "id": "V0FPywJL1ohn"
      },
      "execution_count": null,
      "outputs": []
    },
    {
      "cell_type": "code",
      "source": [],
      "metadata": {
        "id": "S_wUnLiL1opK"
      },
      "execution_count": null,
      "outputs": []
    },
    {
      "cell_type": "code",
      "source": [],
      "metadata": {
        "id": "9C77LgsC1pCi"
      },
      "execution_count": null,
      "outputs": []
    },
    {
      "cell_type": "code",
      "source": [],
      "metadata": {
        "id": "qnzEmVv31pfH"
      },
      "execution_count": null,
      "outputs": []
    },
    {
      "cell_type": "code",
      "source": [],
      "metadata": {
        "id": "VS1p4uWz1pi0"
      },
      "execution_count": null,
      "outputs": []
    },
    {
      "cell_type": "code",
      "source": [],
      "metadata": {
        "id": "uWeHmv0Y1pp-"
      },
      "execution_count": null,
      "outputs": []
    }
  ]
}