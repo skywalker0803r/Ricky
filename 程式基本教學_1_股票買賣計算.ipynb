{
  "nbformat": 4,
  "nbformat_minor": 0,
  "metadata": {
    "colab": {
      "provenance": [],
      "authorship_tag": "ABX9TyPwf/wjbRLAWHl82mcetFeU",
      "include_colab_link": true
    },
    "kernelspec": {
      "name": "python3",
      "display_name": "Python 3"
    },
    "language_info": {
      "name": "python"
    }
  },
  "cells": [
    {
      "cell_type": "markdown",
      "metadata": {
        "id": "view-in-github",
        "colab_type": "text"
      },
      "source": [
        "<a href=\"https://colab.research.google.com/github/skywalker0803r/Ricky/blob/master/%E7%A8%8B%E5%BC%8F%E5%9F%BA%E6%9C%AC%E6%95%99%E5%AD%B8_1_%E8%82%A1%E7%A5%A8%E8%B2%B7%E8%B3%A3%E8%A8%88%E7%AE%97.ipynb\" target=\"_parent\"><img src=\"https://colab.research.google.com/assets/colab-badge.svg\" alt=\"Open In Colab\"/></a>"
      ]
    },
    {
      "cell_type": "markdown",
      "source": [
        "# 取得股價資料"
      ],
      "metadata": {
        "id": "XzER4KjdqM1g"
      }
    },
    {
      "cell_type": "code",
      "execution_count": 19,
      "metadata": {
        "colab": {
          "base_uri": "https://localhost:8080/",
          "height": 455
        },
        "id": "-xK7yuKto07s",
        "outputId": "de67e004-7ff4-4273-c70c-2cb457f3727e"
      },
      "outputs": [
        {
          "output_type": "execute_result",
          "data": {
            "text/plain": [
              "                                   Open          High           Low  \\\n",
              "Date                                                                  \n",
              "2018-02-26 00:00:00+08:00  10827.980469  10890.690430  10827.980469   \n",
              "2018-02-27 00:00:00+08:00  10896.160156  10937.900391  10815.469727   \n",
              "2018-03-01 00:00:00+08:00  10779.099609  10805.549805  10709.690430   \n",
              "2018-03-02 00:00:00+08:00  10719.290039  10719.290039  10638.980469   \n",
              "2018-03-05 00:00:00+08:00  10727.450195  10756.370117  10642.900391   \n",
              "...                                 ...           ...           ...   \n",
              "2023-02-17 00:00:00+08:00  15503.750000  15503.750000  15418.429688   \n",
              "2023-02-20 00:00:00+08:00  15452.009766  15575.320312  15436.660156   \n",
              "2023-02-21 00:00:00+08:00  15535.639648  15567.740234  15496.730469   \n",
              "2023-02-22 00:00:00+08:00  15541.169922  15541.169922  15345.929688   \n",
              "2023-02-23 00:00:00+08:00  15463.459961  15657.629883  15463.459961   \n",
              "\n",
              "                                  Close   Volume  \n",
              "Date                                              \n",
              "2018-02-26 00:00:00+08:00  10836.700195  2295300  \n",
              "2018-02-27 00:00:00+08:00  10815.469727  2697700  \n",
              "2018-03-01 00:00:00+08:00  10785.790039  2508100  \n",
              "2018-03-02 00:00:00+08:00  10698.169922  2135500  \n",
              "2018-03-05 00:00:00+08:00  10642.900391  2203900  \n",
              "...                                 ...      ...  \n",
              "2023-02-17 00:00:00+08:00  15479.700195  2528300  \n",
              "2023-02-20 00:00:00+08:00  15551.230469  2994900  \n",
              "2023-02-21 00:00:00+08:00  15563.000000  2997300  \n",
              "2023-02-22 00:00:00+08:00  15418.769531  2881300  \n",
              "2023-02-23 00:00:00+08:00  15615.410156  3012200  \n",
              "\n",
              "[1217 rows x 5 columns]"
            ],
            "text/html": [
              "\n",
              "  <div id=\"df-8f0099fe-1044-4be1-8baa-20cad6037764\">\n",
              "    <div class=\"colab-df-container\">\n",
              "      <div>\n",
              "<style scoped>\n",
              "    .dataframe tbody tr th:only-of-type {\n",
              "        vertical-align: middle;\n",
              "    }\n",
              "\n",
              "    .dataframe tbody tr th {\n",
              "        vertical-align: top;\n",
              "    }\n",
              "\n",
              "    .dataframe thead th {\n",
              "        text-align: right;\n",
              "    }\n",
              "</style>\n",
              "<table border=\"1\" class=\"dataframe\">\n",
              "  <thead>\n",
              "    <tr style=\"text-align: right;\">\n",
              "      <th></th>\n",
              "      <th>Open</th>\n",
              "      <th>High</th>\n",
              "      <th>Low</th>\n",
              "      <th>Close</th>\n",
              "      <th>Volume</th>\n",
              "    </tr>\n",
              "    <tr>\n",
              "      <th>Date</th>\n",
              "      <th></th>\n",
              "      <th></th>\n",
              "      <th></th>\n",
              "      <th></th>\n",
              "      <th></th>\n",
              "    </tr>\n",
              "  </thead>\n",
              "  <tbody>\n",
              "    <tr>\n",
              "      <th>2018-02-26 00:00:00+08:00</th>\n",
              "      <td>10827.980469</td>\n",
              "      <td>10890.690430</td>\n",
              "      <td>10827.980469</td>\n",
              "      <td>10836.700195</td>\n",
              "      <td>2295300</td>\n",
              "    </tr>\n",
              "    <tr>\n",
              "      <th>2018-02-27 00:00:00+08:00</th>\n",
              "      <td>10896.160156</td>\n",
              "      <td>10937.900391</td>\n",
              "      <td>10815.469727</td>\n",
              "      <td>10815.469727</td>\n",
              "      <td>2697700</td>\n",
              "    </tr>\n",
              "    <tr>\n",
              "      <th>2018-03-01 00:00:00+08:00</th>\n",
              "      <td>10779.099609</td>\n",
              "      <td>10805.549805</td>\n",
              "      <td>10709.690430</td>\n",
              "      <td>10785.790039</td>\n",
              "      <td>2508100</td>\n",
              "    </tr>\n",
              "    <tr>\n",
              "      <th>2018-03-02 00:00:00+08:00</th>\n",
              "      <td>10719.290039</td>\n",
              "      <td>10719.290039</td>\n",
              "      <td>10638.980469</td>\n",
              "      <td>10698.169922</td>\n",
              "      <td>2135500</td>\n",
              "    </tr>\n",
              "    <tr>\n",
              "      <th>2018-03-05 00:00:00+08:00</th>\n",
              "      <td>10727.450195</td>\n",
              "      <td>10756.370117</td>\n",
              "      <td>10642.900391</td>\n",
              "      <td>10642.900391</td>\n",
              "      <td>2203900</td>\n",
              "    </tr>\n",
              "    <tr>\n",
              "      <th>...</th>\n",
              "      <td>...</td>\n",
              "      <td>...</td>\n",
              "      <td>...</td>\n",
              "      <td>...</td>\n",
              "      <td>...</td>\n",
              "    </tr>\n",
              "    <tr>\n",
              "      <th>2023-02-17 00:00:00+08:00</th>\n",
              "      <td>15503.750000</td>\n",
              "      <td>15503.750000</td>\n",
              "      <td>15418.429688</td>\n",
              "      <td>15479.700195</td>\n",
              "      <td>2528300</td>\n",
              "    </tr>\n",
              "    <tr>\n",
              "      <th>2023-02-20 00:00:00+08:00</th>\n",
              "      <td>15452.009766</td>\n",
              "      <td>15575.320312</td>\n",
              "      <td>15436.660156</td>\n",
              "      <td>15551.230469</td>\n",
              "      <td>2994900</td>\n",
              "    </tr>\n",
              "    <tr>\n",
              "      <th>2023-02-21 00:00:00+08:00</th>\n",
              "      <td>15535.639648</td>\n",
              "      <td>15567.740234</td>\n",
              "      <td>15496.730469</td>\n",
              "      <td>15563.000000</td>\n",
              "      <td>2997300</td>\n",
              "    </tr>\n",
              "    <tr>\n",
              "      <th>2023-02-22 00:00:00+08:00</th>\n",
              "      <td>15541.169922</td>\n",
              "      <td>15541.169922</td>\n",
              "      <td>15345.929688</td>\n",
              "      <td>15418.769531</td>\n",
              "      <td>2881300</td>\n",
              "    </tr>\n",
              "    <tr>\n",
              "      <th>2023-02-23 00:00:00+08:00</th>\n",
              "      <td>15463.459961</td>\n",
              "      <td>15657.629883</td>\n",
              "      <td>15463.459961</td>\n",
              "      <td>15615.410156</td>\n",
              "      <td>3012200</td>\n",
              "    </tr>\n",
              "  </tbody>\n",
              "</table>\n",
              "<p>1217 rows × 5 columns</p>\n",
              "</div>\n",
              "      <button class=\"colab-df-convert\" onclick=\"convertToInteractive('df-8f0099fe-1044-4be1-8baa-20cad6037764')\"\n",
              "              title=\"Convert this dataframe to an interactive table.\"\n",
              "              style=\"display:none;\">\n",
              "        \n",
              "  <svg xmlns=\"http://www.w3.org/2000/svg\" height=\"24px\"viewBox=\"0 0 24 24\"\n",
              "       width=\"24px\">\n",
              "    <path d=\"M0 0h24v24H0V0z\" fill=\"none\"/>\n",
              "    <path d=\"M18.56 5.44l.94 2.06.94-2.06 2.06-.94-2.06-.94-.94-2.06-.94 2.06-2.06.94zm-11 1L8.5 8.5l.94-2.06 2.06-.94-2.06-.94L8.5 2.5l-.94 2.06-2.06.94zm10 10l.94 2.06.94-2.06 2.06-.94-2.06-.94-.94-2.06-.94 2.06-2.06.94z\"/><path d=\"M17.41 7.96l-1.37-1.37c-.4-.4-.92-.59-1.43-.59-.52 0-1.04.2-1.43.59L10.3 9.45l-7.72 7.72c-.78.78-.78 2.05 0 2.83L4 21.41c.39.39.9.59 1.41.59.51 0 1.02-.2 1.41-.59l7.78-7.78 2.81-2.81c.8-.78.8-2.07 0-2.86zM5.41 20L4 18.59l7.72-7.72 1.47 1.35L5.41 20z\"/>\n",
              "  </svg>\n",
              "      </button>\n",
              "      \n",
              "  <style>\n",
              "    .colab-df-container {\n",
              "      display:flex;\n",
              "      flex-wrap:wrap;\n",
              "      gap: 12px;\n",
              "    }\n",
              "\n",
              "    .colab-df-convert {\n",
              "      background-color: #E8F0FE;\n",
              "      border: none;\n",
              "      border-radius: 50%;\n",
              "      cursor: pointer;\n",
              "      display: none;\n",
              "      fill: #1967D2;\n",
              "      height: 32px;\n",
              "      padding: 0 0 0 0;\n",
              "      width: 32px;\n",
              "    }\n",
              "\n",
              "    .colab-df-convert:hover {\n",
              "      background-color: #E2EBFA;\n",
              "      box-shadow: 0px 1px 2px rgba(60, 64, 67, 0.3), 0px 1px 3px 1px rgba(60, 64, 67, 0.15);\n",
              "      fill: #174EA6;\n",
              "    }\n",
              "\n",
              "    [theme=dark] .colab-df-convert {\n",
              "      background-color: #3B4455;\n",
              "      fill: #D2E3FC;\n",
              "    }\n",
              "\n",
              "    [theme=dark] .colab-df-convert:hover {\n",
              "      background-color: #434B5C;\n",
              "      box-shadow: 0px 1px 3px 1px rgba(0, 0, 0, 0.15);\n",
              "      filter: drop-shadow(0px 1px 2px rgba(0, 0, 0, 0.3));\n",
              "      fill: #FFFFFF;\n",
              "    }\n",
              "  </style>\n",
              "\n",
              "      <script>\n",
              "        const buttonEl =\n",
              "          document.querySelector('#df-8f0099fe-1044-4be1-8baa-20cad6037764 button.colab-df-convert');\n",
              "        buttonEl.style.display =\n",
              "          google.colab.kernel.accessAllowed ? 'block' : 'none';\n",
              "\n",
              "        async function convertToInteractive(key) {\n",
              "          const element = document.querySelector('#df-8f0099fe-1044-4be1-8baa-20cad6037764');\n",
              "          const dataTable =\n",
              "            await google.colab.kernel.invokeFunction('convertToInteractive',\n",
              "                                                     [key], {});\n",
              "          if (!dataTable) return;\n",
              "\n",
              "          const docLinkHtml = 'Like what you see? Visit the ' +\n",
              "            '<a target=\"_blank\" href=https://colab.research.google.com/notebooks/data_table.ipynb>data table notebook</a>'\n",
              "            + ' to learn more about interactive tables.';\n",
              "          element.innerHTML = '';\n",
              "          dataTable['output_type'] = 'display_data';\n",
              "          await google.colab.output.renderOutput(dataTable, element);\n",
              "          const docLink = document.createElement('div');\n",
              "          docLink.innerHTML = docLinkHtml;\n",
              "          element.appendChild(docLink);\n",
              "        }\n",
              "      </script>\n",
              "    </div>\n",
              "  </div>\n",
              "  "
            ]
          },
          "metadata": {},
          "execution_count": 19
        }
      ],
      "source": [
        "import yfinance as yf\n",
        "import datetime as dt\n",
        "import pandas as pd\n",
        "import matplotlib.pyplot as plt\n",
        "\n",
        "start_date = dt.datetime.now() - dt.timedelta(days=5*365)\n",
        "end_date = dt.datetime.now()\n",
        "\n",
        "tsm = yf.Ticker(\"^TWII\")\n",
        "tsm_data = tsm.history(start=start_date, end=end_date)[['Open','High','Low','Close','Volume']]\n",
        "for i in tsm_data.columns:\n",
        "  tsm_data[i] = pd.to_numeric(tsm_data[i])\n",
        "tsm_data.dropna()\n",
        "tsm_data"
      ]
    },
    {
      "cell_type": "markdown",
      "source": [
        "# 看股價線圖"
      ],
      "metadata": {
        "id": "TkYiyciz1jUu"
      }
    },
    {
      "cell_type": "code",
      "source": [
        "plt.plot(tsm_data.Close)"
      ],
      "metadata": {
        "colab": {
          "base_uri": "https://localhost:8080/",
          "height": 282
        },
        "id": "TN1TQ7cSwgf8",
        "outputId": "8aea7ed8-625c-44f9-e4f0-0eee821e1574"
      },
      "execution_count": 20,
      "outputs": [
        {
          "output_type": "execute_result",
          "data": {
            "text/plain": [
              "[<matplotlib.lines.Line2D at 0x7f2a7ac8e490>]"
            ]
          },
          "metadata": {},
          "execution_count": 20
        },
        {
          "output_type": "display_data",
          "data": {
            "text/plain": [
              "<Figure size 432x288 with 1 Axes>"
            ],
            "image/png": "[encoded data removed]"
          },
          "metadata": {
            "needs_background": "light"
          }
        }
      ]
    },
    {
      "cell_type": "markdown",
      "source": [
        "# 模擬進出場訊號"
      ],
      "metadata": {
        "id": "gOApdoyqqc4v"
      }
    },
    {
      "cell_type": "code",
      "source": [
        "def add_label_column(df,lb,ub,n_day):\n",
        "    shifted_close = df['Close'].shift(-n_day)\n",
        "    is_decrease = shifted_close < df['Close'] * lb\n",
        "    is_increase = shifted_close > df['Close'] * ub\n",
        "    df['signal'] = pd.Series(0, index=df.index)\n",
        "    df.loc[is_decrease, 'signal'] = -1\n",
        "    df.loc[is_increase, 'signal'] = 1\n",
        "    return df\n",
        "df = add_label_column(tsm_data,0.97,1.03,7)\n",
        "df"
      ],
      "metadata": {
        "colab": {
          "base_uri": "https://localhost:8080/",
          "height": 455
        },
        "id": "4sbp4dsfp1VV",
        "outputId": "7d48ecf4-c574-4d4e-ef81-a0cd4fe3c037"
      },
      "execution_count": 21,
      "outputs": [
        {
          "output_type": "execute_result",
          "data": {
            "text/plain": [
              "                                   Open          High           Low  \\\n",
              "Date                                                                  \n",
              "2018-02-26 00:00:00+08:00  10827.980469  10890.690430  10827.980469   \n",
              "2018-02-27 00:00:00+08:00  10896.160156  10937.900391  10815.469727   \n",
              "2018-03-01 00:00:00+08:00  10779.099609  10805.549805  10709.690430   \n",
              "2018-03-02 00:00:00+08:00  10719.290039  10719.290039  10638.980469   \n",
              "2018-03-05 00:00:00+08:00  10727.450195  10756.370117  10642.900391   \n",
              "...                                 ...           ...           ...   \n",
              "2023-02-17 00:00:00+08:00  15503.750000  15503.750000  15418.429688   \n",
              "2023-02-20 00:00:00+08:00  15452.009766  15575.320312  15436.660156   \n",
              "2023-02-21 00:00:00+08:00  15535.639648  15567.740234  15496.730469   \n",
              "2023-02-22 00:00:00+08:00  15541.169922  15541.169922  15345.929688   \n",
              "2023-02-23 00:00:00+08:00  15463.459961  15657.629883  15463.459961   \n",
              "\n",
              "                                  Close   Volume  signal  \n",
              "Date                                                      \n",
              "2018-02-26 00:00:00+08:00  10836.700195  2295300       0  \n",
              "2018-02-27 00:00:00+08:00  10815.469727  2697700       0  \n",
              "2018-03-01 00:00:00+08:00  10785.790039  2508100       0  \n",
              "2018-03-02 00:00:00+08:00  10698.169922  2135500       1  \n",
              "2018-03-05 00:00:00+08:00  10642.900391  2203900       1  \n",
              "...                                 ...      ...     ...  \n",
              "2023-02-17 00:00:00+08:00  15479.700195  2528300       0  \n",
              "2023-02-20 00:00:00+08:00  15551.230469  2994900       0  \n",
              "2023-02-21 00:00:00+08:00  15563.000000  2997300       0  \n",
              "2023-02-22 00:00:00+08:00  15418.769531  2881300       0  \n",
              "2023-02-23 00:00:00+08:00  15615.410156  3012200       0  \n",
              "\n",
              "[1217 rows x 6 columns]"
            ],
            "text/html": [
              "\n",
              "  <div id=\"df-919e827b-5773-412c-b6df-cb7291d06e1f\">\n",
              "    <div class=\"colab-df-container\">\n",
              "      <div>\n",
              "<style scoped>\n",
              "    .dataframe tbody tr th:only-of-type {\n",
              "        vertical-align: middle;\n",
              "    }\n",
              "\n",
              "    .dataframe tbody tr th {\n",
              "        vertical-align: top;\n",
              "    }\n",
              "\n",
              "    .dataframe thead th {\n",
              "        text-align: right;\n",
              "    }\n",
              "</style>\n",
              "<table border=\"1\" class=\"dataframe\">\n",
              "  <thead>\n",
              "    <tr style=\"text-align: right;\">\n",
              "      <th></th>\n",
              "      <th>Open</th>\n",
              "      <th>High</th>\n",
              "      <th>Low</th>\n",
              "      <th>Close</th>\n",
              "      <th>Volume</th>\n",
              "      <th>signal</th>\n",
              "    </tr>\n",
              "    <tr>\n",
              "      <th>Date</th>\n",
              "      <th></th>\n",
              "      <th></th>\n",
              "      <th></th>\n",
              "      <th></th>\n",
              "      <th></th>\n",
              "      <th></th>\n",
              "    </tr>\n",
              "  </thead>\n",
              "  <tbody>\n",
              "    <tr>\n",
              "      <th>2018-02-26 00:00:00+08:00</th>\n",
              "      <td>10827.980469</td>\n",
              "      <td>10890.690430</td>\n",
              "      <td>10827.980469</td>\n",
              "      <td>10836.700195</td>\n",
              "      <td>2295300</td>\n",
              "      <td>0</td>\n",
              "    </tr>\n",
              "    <tr>\n",
              "      <th>2018-02-27 00:00:00+08:00</th>\n",
              "      <td>10896.160156</td>\n",
              "      <td>10937.900391</td>\n",
              "      <td>10815.469727</td>\n",
              "      <td>10815.469727</td>\n",
              "      <td>2697700</td>\n",
              "      <td>0</td>\n",
              "    </tr>\n",
              "    <tr>\n",
              "      <th>2018-03-01 00:00:00+08:00</th>\n",
              "      <td>10779.099609</td>\n",
              "      <td>10805.549805</td>\n",
              "      <td>10709.690430</td>\n",
              "      <td>10785.790039</td>\n",
              "      <td>2508100</td>\n",
              "      <td>0</td>\n",
              "    </tr>\n",
              "    <tr>\n",
              "      <th>2018-03-02 00:00:00+08:00</th>\n",
              "      <td>10719.290039</td>\n",
              "      <td>10719.290039</td>\n",
              "      <td>10638.980469</td>\n",
              "      <td>10698.169922</td>\n",
              "      <td>2135500</td>\n",
              "      <td>1</td>\n",
              "    </tr>\n",
              "    <tr>\n",
              "      <th>2018-03-05 00:00:00+08:00</th>\n",
              "      <td>10727.450195</td>\n",
              "      <td>10756.370117</td>\n",
              "      <td>10642.900391</td>\n",
              "      <td>10642.900391</td>\n",
              "      <td>2203900</td>\n",
              "      <td>1</td>\n",
              "    </tr>\n",
              "    <tr>\n",
              "      <th>...</th>\n",
              "      <td>...</td>\n",
              "      <td>...</td>\n",
              "      <td>...</td>\n",
              "      <td>...</td>\n",
              "      <td>...</td>\n",
              "      <td>...</td>\n",
              "    </tr>\n",
              "    <tr>\n",
              "      <th>2023-02-17 00:00:00+08:00</th>\n",
              "      <td>15503.750000</td>\n",
              "      <td>15503.750000</td>\n",
              "      <td>15418.429688</td>\n",
              "      <td>15479.700195</td>\n",
              "      <td>2528300</td>\n",
              "      <td>0</td>\n",
              "    </tr>\n",
              "    <tr>\n",
              "      <th>2023-02-20 00:00:00+08:00</th>\n",
              "      <td>15452.009766</td>\n",
              "      <td>15575.320312</td>\n",
              "      <td>15436.660156</td>\n",
              "      <td>15551.230469</td>\n",
              "      <td>2994900</td>\n",
              "      <td>0</td>\n",
              "    </tr>\n",
              "    <tr>\n",
              "      <th>2023-02-21 00:00:00+08:00</th>\n",
              "      <td>15535.639648</td>\n",
              "      <td>15567.740234</td>\n",
              "      <td>15496.730469</td>\n",
              "      <td>15563.000000</td>\n",
              "      <td>2997300</td>\n",
              "      <td>0</td>\n",
              "    </tr>\n",
              "    <tr>\n",
              "      <th>2023-02-22 00:00:00+08:00</th>\n",
              "      <td>15541.169922</td>\n",
              "      <td>15541.169922</td>\n",
              "      <td>15345.929688</td>\n",
              "      <td>15418.769531</td>\n",
              "      <td>2881300</td>\n",
              "      <td>0</td>\n",
              "    </tr>\n",
              "    <tr>\n",
              "      <th>2023-02-23 00:00:00+08:00</th>\n",
              "      <td>15463.459961</td>\n",
              "      <td>15657.629883</td>\n",
              "      <td>15463.459961</td>\n",
              "      <td>15615.410156</td>\n",
              "      <td>3012200</td>\n",
              "      <td>0</td>\n",
              "    </tr>\n",
              "  </tbody>\n",
              "</table>\n",
              "<p>1217 rows × 6 columns</p>\n",
              "</div>\n",
              "      <button class=\"colab-df-convert\" onclick=\"convertToInteractive('df-919e827b-5773-412c-b6df-cb7291d06e1f')\"\n",
              "              title=\"Convert this dataframe to an interactive table.\"\n",
              "              style=\"display:none;\">\n",
              "        \n",
              "  <svg xmlns=\"http://www.w3.org/2000/svg\" height=\"24px\"viewBox=\"0 0 24 24\"\n",
              "       width=\"24px\">\n",
              "    <path d=\"M0 0h24v24H0V0z\" fill=\"none\"/>\n",
              "    <path d=\"M18.56 5.44l.94 2.06.94-2.06 2.06-.94-2.06-.94-.94-2.06-.94 2.06-2.06.94zm-11 1L8.5 8.5l.94-2.06 2.06-.94-2.06-.94L8.5 2.5l-.94 2.06-2.06.94zm10 10l.94 2.06.94-2.06 2.06-.94-2.06-.94-.94-2.06-.94 2.06-2.06.94z\"/><path d=\"M17.41 7.96l-1.37-1.37c-.4-.4-.92-.59-1.43-.59-.52 0-1.04.2-1.43.59L10.3 9.45l-7.72 7.72c-.78.78-.78 2.05 0 2.83L4 21.41c.39.39.9.59 1.41.59.51 0 1.02-.2 1.41-.59l7.78-7.78 2.81-2.81c.8-.78.8-2.07 0-2.86zM5.41 20L4 18.59l7.72-7.72 1.47 1.35L5.41 20z\"/>\n",
              "  </svg>\n",
              "      </button>\n",
              "      \n",
              "  <style>\n",
              "    .colab-df-container {\n",
              "      display:flex;\n",
              "      flex-wrap:wrap;\n",
              "      gap: 12px;\n",
              "    }\n",
              "\n",
              "    .colab-df-convert {\n",
              "      background-color: #E8F0FE;\n",
              "      border: none;\n",
              "      border-radius: 50%;\n",
              "      cursor: pointer;\n",
              "      display: none;\n",
              "      fill: #1967D2;\n",
              "      height: 32px;\n",
              "      padding: 0 0 0 0;\n",
              "      width: 32px;\n",
              "    }\n",
              "\n",
              "    .colab-df-convert:hover {\n",
              "      background-color: #E2EBFA;\n",
              "      box-shadow: 0px 1px 2px rgba(60, 64, 67, 0.3), 0px 1px 3px 1px rgba(60, 64, 67, 0.15);\n",
              "      fill: #174EA6;\n",
              "    }\n",
              "\n",
              "    [theme=dark] .colab-df-convert {\n",
              "      background-color: #3B4455;\n",
              "      fill: #D2E3FC;\n",
              "    }\n",
              "\n",
              "    [theme=dark] .colab-df-convert:hover {\n",
              "      background-color: #434B5C;\n",
              "      box-shadow: 0px 1px 3px 1px rgba(0, 0, 0, 0.15);\n",
              "      filter: drop-shadow(0px 1px 2px rgba(0, 0, 0, 0.3));\n",
              "      fill: #FFFFFF;\n",
              "    }\n",
              "  </style>\n",
              "\n",
              "      <script>\n",
              "        const buttonEl =\n",
              "          document.querySelector('#df-919e827b-5773-412c-b6df-cb7291d06e1f button.colab-df-convert');\n",
              "        buttonEl.style.display =\n",
              "          google.colab.kernel.accessAllowed ? 'block' : 'none';\n",
              "\n",
              "        async function convertToInteractive(key) {\n",
              "          const element = document.querySelector('#df-919e827b-5773-412c-b6df-cb7291d06e1f');\n",
              "          const dataTable =\n",
              "            await google.colab.kernel.invokeFunction('convertToInteractive',\n",
              "                                                     [key], {});\n",
              "          if (!dataTable) return;\n",
              "\n",
              "          const docLinkHtml = 'Like what you see? Visit the ' +\n",
              "            '<a target=\"_blank\" href=https://colab.research.google.com/notebooks/data_table.ipynb>data table notebook</a>'\n",
              "            + ' to learn more about interactive tables.';\n",
              "          element.innerHTML = '';\n",
              "          dataTable['output_type'] = 'display_data';\n",
              "          await google.colab.output.renderOutput(dataTable, element);\n",
              "          const docLink = document.createElement('div');\n",
              "          docLink.innerHTML = docLinkHtml;\n",
              "          element.appendChild(docLink);\n",
              "        }\n",
              "      </script>\n",
              "    </div>\n",
              "  </div>\n",
              "  "
            ]
          },
          "metadata": {},
          "execution_count": 21
        }
      ]
    },
    {
      "cell_type": "markdown",
      "source": [
        "# 繪製進出場訊號"
      ],
      "metadata": {
        "id": "-SGYILIt1gjI"
      }
    },
    {
      "cell_type": "code",
      "source": [
        "n = 100\n",
        "temp_df = df.tail(n)\n",
        "buy = temp_df[temp_df['signal']==1]['Close']\n",
        "sell = temp_df[temp_df['signal']==-1]['Close']\n",
        "plt.plot(temp_df['Close'])\n",
        "plt.scatter(buy.index,buy.values,color='red',marker=\"^\")\n",
        "plt.scatter(sell.index,sell.values,color='black',marker=\"v\")\n",
        "plt.show()"
      ],
      "metadata": {
        "colab": {
          "base_uri": "https://localhost:8080/",
          "height": 265
        },
        "id": "51ETmZT3qztk",
        "outputId": "8a28bf75-7dd3-45cb-ba34-8984480978f8"
      },
      "execution_count": 22,
      "outputs": [
        {
          "output_type": "display_data",
          "data": {
            "text/plain": [
              "<Figure size 432x288 with 1 Axes>"
            ],
            "image/png": "[encoded data removed]"
          },
          "metadata": {
            "needs_background": "light"
          }
        }
      ]
    },
    {
      "cell_type": "markdown",
      "source": [
        "# 模擬交易程序"
      ],
      "metadata": {
        "id": "lv1QP-JV1dLE"
      }
    },
    {
      "cell_type": "code",
      "source": [
        "account = 100000000\n",
        "start_day = dt.datetime.now() - dt.timedelta(days=365*5)\n",
        "end_day = dt.datetime.now()\n",
        "share = 0\n",
        "def Simulation_trading(df,account,start_day,end_day,share):\n",
        "  total_asset = 0\n",
        "  total_asset_history = []\n",
        "  for i in df.loc[start_day:,:].index:\n",
        "    action = df.loc[i,'signal']\n",
        "    current_price = df.loc[i,'Close']\n",
        "    #嘗試買入\n",
        "    if action == 1:\n",
        "      # 判斷是否有足夠金錢買入\n",
        "      if account - current_price*1000 > 0:\n",
        "        # 執行買入動作\n",
        "        account -= current_price*1000\n",
        "        share += 1\n",
        "    #嘗試賣出\n",
        "    elif action == -1:\n",
        "      # 判斷是否有股份賣出\n",
        "      if share > 0:\n",
        "        # 執行賣出動作\n",
        "        account += current_price*1000\n",
        "        share -= 1\n",
        "    else:\n",
        "      #什麼也不做\n",
        "      pass\n",
        "    total_asset = account + share*current_price*1000\n",
        "    total_asset_history.append(total_asset)\n",
        "  return total_asset_history"
      ],
      "metadata": {
        "id": "wBvz09HFrZn9"
      },
      "execution_count": 25,
      "outputs": []
    },
    {
      "cell_type": "markdown",
      "source": [
        "# 必較單純持有跟有神一般策略的交易"
      ],
      "metadata": {
        "id": "fcWhajxb1V8z"
      }
    },
    {
      "cell_type": "code",
      "source": [
        "total_asset_history = Simulation_trading(df,account,start_day,end_day,share)\n",
        "plt.plot(total_asset_history,label='god trading')\n",
        "plt.legend()\n",
        "plt.show()\n",
        "plt.plot(df.loc[start_day:,'Close'].values,label='only hold')\n",
        "plt.legend()\n",
        "plt.show()"
      ],
      "metadata": {
        "colab": {
          "base_uri": "https://localhost:8080/",
          "height": 613
        },
        "id": "HluqIna3r3P8",
        "outputId": "5bfedd26-ad2b-4cc6-e0b0-d1ef86d1ef4f"
      },
      "execution_count": 26,
      "outputs": [
        {
          "output_type": "stream",
          "name": "stderr",
          "text": [
            "<ipython-input-25-368a3a0f8a56>:8: FutureWarning: Indexing a timezone-aware DatetimeIndex with a timezone-naive datetime is deprecated and will raise KeyError in a future version.  Use a timezone-aware object instead.\n",
            "  for i in df.loc[start_day:,:].index:\n"
          ]
        },
        {
          "output_type": "display_data",
          "data": {
            "text/plain": [
              "<Figure size 432x288 with 1 Axes>"
            ],
            "image/png": "[encoded data removed]"
          },
          "metadata": {
            "needs_background": "light"
          }
        },
        {
          "output_type": "stream",
          "name": "stderr",
          "text": [
            "<ipython-input-26-a8dfe7a847aa>:5: FutureWarning: Indexing a timezone-aware DatetimeIndex with a timezone-naive datetime is deprecated and will raise KeyError in a future version.  Use a timezone-aware object instead.\n",
            "  plt.plot(df.loc[start_day:,'Close'].values,label='only hold')\n"
          ]
        },
        {
          "output_type": "display_data",
          "data": {
            "text/plain": [
              "<Figure size 432x288 with 1 Axes>"
            ],
            "image/png": "[encoded data removed]"
          },
          "metadata": {
            "needs_background": "light"
          }
        }
      ]
    },
    {
      "cell_type": "code",
      "source": [],
      "metadata": {
        "id": "HWaIqBMgze70"
      },
      "execution_count": 24,
      "outputs": []
    },
    {
      "cell_type": "code",
      "source": [],
      "metadata": {
        "id": "drW95DAp1oQo"
      },
      "execution_count": 24,
      "outputs": []
    },
    {
      "cell_type": "code",
      "source": [],
      "metadata": {
        "id": "GrHzwTZ61oTx"
      },
      "execution_count": 24,
      "outputs": []
    },
    {
      "cell_type": "code",
      "source": [],
      "metadata": {
        "id": "1Z66Pjun1oZ6"
      },
      "execution_count": 24,
      "outputs": []
    },
    {
      "cell_type": "code",
      "source": [],
      "metadata": {
        "id": "V0FPywJL1ohn"
      },
      "execution_count": 24,
      "outputs": []
    },
    {
      "cell_type": "code",
      "source": [],
      "metadata": {
        "id": "S_wUnLiL1opK"
      },
      "execution_count": 24,
      "outputs": []
    },
    {
      "cell_type": "code",
      "source": [],
      "metadata": {
        "id": "9C77LgsC1pCi"
      },
      "execution_count": 24,
      "outputs": []
    },
    {
      "cell_type": "code",
      "source": [],
      "metadata": {
        "id": "qnzEmVv31pfH"
      },
      "execution_count": 24,
      "outputs": []
    },
    {
      "cell_type": "code",
      "source": [],
      "metadata": {
        "id": "VS1p4uWz1pi0"
      },
      "execution_count": 24,
      "outputs": []
    },
    {
      "cell_type": "code",
      "source": [],
      "metadata": {
        "id": "uWeHmv0Y1pp-"
      },
      "execution_count": 24,
      "outputs": []
    }
  ]
}