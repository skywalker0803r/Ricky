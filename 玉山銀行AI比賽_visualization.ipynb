{
  "nbformat": 4,
  "nbformat_minor": 0,
  "metadata": {
    "colab": {
      "name": "玉山銀行AI比賽_visualization.ipynb",
      "provenance": [],
      "collapsed_sections": [],
      "include_colab_link": true
    },
    "kernelspec": {
      "name": "python3",
      "display_name": "Python 3"
    },
    "accelerator": "GPU"
  },
  "cells": [
    {
      "cell_type": "markdown",
      "metadata": {
        "id": "view-in-github",
        "colab_type": "text"
      },
      "source": [
        "<a href=\"https://colab.research.google.com/github/skywalker0803r/Ricky/blob/master/%E7%8E%89%E5%B1%B1%E9%8A%80%E8%A1%8CAI%E6%AF%94%E8%B3%BD_visualization.ipynb\" target=\"_parent\"><img src=\"https://colab.research.google.com/assets/colab-badge.svg\" alt=\"Open In Colab\"/></a>"
      ]
    },
    {
      "cell_type": "code",
      "metadata": {
        "id": "fp2vVVToTctj",
        "colab_type": "code",
        "outputId": "1b91c3b1-8682-4304-ef17-e7ffd4ba0dd3",
        "colab": {
          "base_uri": "https://localhost:8080/",
          "height": 34
        }
      },
      "source": [
        "from google.colab import drive\n",
        "import gc\n",
        "import warnings \n",
        "warnings.simplefilter('ignore')\n",
        "drive.mount('/content/drive')"
      ],
      "execution_count": 1,
      "outputs": [
        {
          "output_type": "stream",
          "text": [
            "Drive already mounted at /content/drive; to attempt to forcibly remount, call drive.mount(\"/content/drive\", force_remount=True).\n"
          ],
          "name": "stdout"
        }
      ]
    },
    {
      "cell_type": "markdown",
      "metadata": {
        "id": "l5koi5vMT-9X",
        "colab_type": "text"
      },
      "source": [
        "# 中文map"
      ]
    },
    {
      "cell_type": "code",
      "metadata": {
        "id": "2G7mQAOkT5_J",
        "colab_type": "code",
        "colab": {}
      },
      "source": [
        "中文map = {'bacno':'歸戶帳號','txkey':'交易序號','locdt':'授權日期','loctm':'授權時間','cano':'交易卡號',\n",
        "         'contp':'交易類別','etymd':'交易型態','mchno':'特店代號','acqic':'收單行代碼','mcc':'MCC_CODE',\n",
        "         'conam':'交易金額-台幣(經過轉換)','ecfg':'網路交易註記','insfg':'分期交易註記','iterm':'分期期數',\n",
        "         'stocn':'消費地國別','scity':'消費城市','stscd':'狀態碼','ovrlt':'超額註記碼','flbmk':'Fallback註記',\n",
        "         'hcefg':'支付型態','csmcu':'消費地幣別','flg_3dsmk':'3DS交易註記','fraud_ind':'盜刷註記'}"
      ],
      "execution_count": 0,
      "outputs": []
    },
    {
      "cell_type": "markdown",
      "metadata": {
        "id": "gfuWG9v8UEB9",
        "colab_type": "text"
      },
      "source": [
        "# Load data"
      ]
    },
    {
      "cell_type": "code",
      "metadata": {
        "id": "nLF7RsqHUA2c",
        "colab_type": "code",
        "outputId": "50f3a668-23ba-4a67-e49b-57d78bfeaa9c",
        "colab": {
          "base_uri": "https://localhost:8080/",
          "height": 221
        }
      },
      "source": [
        "import pandas as pd\n",
        "train = pd.read_csv(\"/content/drive/My Drive/玉山人工智慧比賽數據/train_預處理完.csv\",index_col=0)\n",
        "train_fraud_ind = train['fraud_ind']\n",
        "train_txkey = train['txkey']\n",
        "print(train.shape)\n",
        "train.head()"
      ],
      "execution_count": 3,
      "outputs": [
        {
          "output_type": "stream",
          "text": [
            "(1521787, 23)\n"
          ],
          "name": "stdout"
        },
        {
          "output_type": "execute_result",
          "data": {
            "text/html": [
              "<div>\n",
              "<style scoped>\n",
              "    .dataframe tbody tr th:only-of-type {\n",
              "        vertical-align: middle;\n",
              "    }\n",
              "\n",
              "    .dataframe tbody tr th {\n",
              "        vertical-align: top;\n",
              "    }\n",
              "\n",
              "    .dataframe thead th {\n",
              "        text-align: right;\n",
              "    }\n",
              "</style>\n",
              "<table border=\"1\" class=\"dataframe\">\n",
              "  <thead>\n",
              "    <tr style=\"text-align: right;\">\n",
              "      <th></th>\n",
              "      <th>acqic</th>\n",
              "      <th>bacno</th>\n",
              "      <th>cano</th>\n",
              "      <th>conam</th>\n",
              "      <th>contp</th>\n",
              "      <th>csmcu</th>\n",
              "      <th>ecfg</th>\n",
              "      <th>etymd</th>\n",
              "      <th>flbmk</th>\n",
              "      <th>flg_3dsmk</th>\n",
              "      <th>hcefg</th>\n",
              "      <th>insfg</th>\n",
              "      <th>iterm</th>\n",
              "      <th>locdt</th>\n",
              "      <th>loctm</th>\n",
              "      <th>mcc</th>\n",
              "      <th>mchno</th>\n",
              "      <th>ovrlt</th>\n",
              "      <th>scity</th>\n",
              "      <th>stocn</th>\n",
              "      <th>stscd</th>\n",
              "      <th>txkey</th>\n",
              "      <th>fraud_ind</th>\n",
              "    </tr>\n",
              "  </thead>\n",
              "  <tbody>\n",
              "    <tr>\n",
              "      <th>0</th>\n",
              "      <td>6862</td>\n",
              "      <td>112785</td>\n",
              "      <td>37846</td>\n",
              "      <td>16158</td>\n",
              "      <td>5</td>\n",
              "      <td>0</td>\n",
              "      <td>0</td>\n",
              "      <td>0</td>\n",
              "      <td>0</td>\n",
              "      <td>0</td>\n",
              "      <td>5</td>\n",
              "      <td>0</td>\n",
              "      <td>0</td>\n",
              "      <td>33</td>\n",
              "      <td>61954</td>\n",
              "      <td>457</td>\n",
              "      <td>59034</td>\n",
              "      <td>0</td>\n",
              "      <td>0</td>\n",
              "      <td>102</td>\n",
              "      <td>0</td>\n",
              "      <td>516056</td>\n",
              "      <td>0</td>\n",
              "    </tr>\n",
              "    <tr>\n",
              "      <th>1</th>\n",
              "      <td>0</td>\n",
              "      <td>133951</td>\n",
              "      <td>45476</td>\n",
              "      <td>13693</td>\n",
              "      <td>5</td>\n",
              "      <td>0</td>\n",
              "      <td>0</td>\n",
              "      <td>2</td>\n",
              "      <td>0</td>\n",
              "      <td>0</td>\n",
              "      <td>0</td>\n",
              "      <td>0</td>\n",
              "      <td>0</td>\n",
              "      <td>9</td>\n",
              "      <td>38216</td>\n",
              "      <td>451</td>\n",
              "      <td>0</td>\n",
              "      <td>0</td>\n",
              "      <td>5795</td>\n",
              "      <td>102</td>\n",
              "      <td>0</td>\n",
              "      <td>4376</td>\n",
              "      <td>0</td>\n",
              "    </tr>\n",
              "    <tr>\n",
              "      <th>2</th>\n",
              "      <td>6862</td>\n",
              "      <td>15350</td>\n",
              "      <td>187354</td>\n",
              "      <td>16158</td>\n",
              "      <td>5</td>\n",
              "      <td>0</td>\n",
              "      <td>0</td>\n",
              "      <td>0</td>\n",
              "      <td>0</td>\n",
              "      <td>0</td>\n",
              "      <td>5</td>\n",
              "      <td>0</td>\n",
              "      <td>0</td>\n",
              "      <td>6</td>\n",
              "      <td>54640</td>\n",
              "      <td>457</td>\n",
              "      <td>59034</td>\n",
              "      <td>0</td>\n",
              "      <td>0</td>\n",
              "      <td>102</td>\n",
              "      <td>0</td>\n",
              "      <td>483434</td>\n",
              "      <td>0</td>\n",
              "    </tr>\n",
              "    <tr>\n",
              "      <th>3</th>\n",
              "      <td>6697</td>\n",
              "      <td>156492</td>\n",
              "      <td>29812</td>\n",
              "      <td>40413</td>\n",
              "      <td>5</td>\n",
              "      <td>62</td>\n",
              "      <td>0</td>\n",
              "      <td>5</td>\n",
              "      <td>0</td>\n",
              "      <td>0</td>\n",
              "      <td>5</td>\n",
              "      <td>0</td>\n",
              "      <td>0</td>\n",
              "      <td>5</td>\n",
              "      <td>62128</td>\n",
              "      <td>247</td>\n",
              "      <td>50185</td>\n",
              "      <td>0</td>\n",
              "      <td>3267</td>\n",
              "      <td>102</td>\n",
              "      <td>0</td>\n",
              "      <td>1407164</td>\n",
              "      <td>0</td>\n",
              "    </tr>\n",
              "    <tr>\n",
              "      <th>4</th>\n",
              "      <td>5959</td>\n",
              "      <td>105534</td>\n",
              "      <td>80881</td>\n",
              "      <td>25962</td>\n",
              "      <td>5</td>\n",
              "      <td>62</td>\n",
              "      <td>0</td>\n",
              "      <td>4</td>\n",
              "      <td>0</td>\n",
              "      <td>0</td>\n",
              "      <td>5</td>\n",
              "      <td>0</td>\n",
              "      <td>0</td>\n",
              "      <td>6</td>\n",
              "      <td>65231</td>\n",
              "      <td>263</td>\n",
              "      <td>93290</td>\n",
              "      <td>0</td>\n",
              "      <td>5795</td>\n",
              "      <td>102</td>\n",
              "      <td>0</td>\n",
              "      <td>1051004</td>\n",
              "      <td>0</td>\n",
              "    </tr>\n",
              "  </tbody>\n",
              "</table>\n",
              "</div>"
            ],
            "text/plain": [
              "   acqic   bacno    cano  conam  contp  ...  scity  stocn  stscd    txkey  fraud_ind\n",
              "0   6862  112785   37846  16158      5  ...      0    102      0   516056          0\n",
              "1      0  133951   45476  13693      5  ...   5795    102      0     4376          0\n",
              "2   6862   15350  187354  16158      5  ...      0    102      0   483434          0\n",
              "3   6697  156492   29812  40413      5  ...   3267    102      0  1407164          0\n",
              "4   5959  105534   80881  25962      5  ...   5795    102      0  1051004          0\n",
              "\n",
              "[5 rows x 23 columns]"
            ]
          },
          "metadata": {
            "tags": []
          },
          "execution_count": 3
        }
      ]
    },
    {
      "cell_type": "code",
      "metadata": {
        "id": "2094zysUUKJR",
        "colab_type": "code",
        "outputId": "d46a578e-3ab1-4637-a491-c7cabbe0c8c5",
        "colab": {
          "base_uri": "https://localhost:8080/",
          "height": 221
        }
      },
      "source": [
        "test = pd.read_csv(\"/content/drive/My Drive/玉山人工智慧比賽數據/test_預處理完.csv\",index_col=0)\n",
        "test_txkey = test['txkey']\n",
        "print(test.shape)\n",
        "test.head()"
      ],
      "execution_count": 4,
      "outputs": [
        {
          "output_type": "stream",
          "text": [
            "(421665, 22)\n"
          ],
          "name": "stdout"
        },
        {
          "output_type": "execute_result",
          "data": {
            "text/html": [
              "<div>\n",
              "<style scoped>\n",
              "    .dataframe tbody tr th:only-of-type {\n",
              "        vertical-align: middle;\n",
              "    }\n",
              "\n",
              "    .dataframe tbody tr th {\n",
              "        vertical-align: top;\n",
              "    }\n",
              "\n",
              "    .dataframe thead th {\n",
              "        text-align: right;\n",
              "    }\n",
              "</style>\n",
              "<table border=\"1\" class=\"dataframe\">\n",
              "  <thead>\n",
              "    <tr style=\"text-align: right;\">\n",
              "      <th></th>\n",
              "      <th>acqic</th>\n",
              "      <th>bacno</th>\n",
              "      <th>cano</th>\n",
              "      <th>conam</th>\n",
              "      <th>contp</th>\n",
              "      <th>csmcu</th>\n",
              "      <th>ecfg</th>\n",
              "      <th>etymd</th>\n",
              "      <th>flbmk</th>\n",
              "      <th>flg_3dsmk</th>\n",
              "      <th>hcefg</th>\n",
              "      <th>insfg</th>\n",
              "      <th>iterm</th>\n",
              "      <th>locdt</th>\n",
              "      <th>loctm</th>\n",
              "      <th>mcc</th>\n",
              "      <th>mchno</th>\n",
              "      <th>ovrlt</th>\n",
              "      <th>scity</th>\n",
              "      <th>stocn</th>\n",
              "      <th>stscd</th>\n",
              "      <th>txkey</th>\n",
              "    </tr>\n",
              "  </thead>\n",
              "  <tbody>\n",
              "    <tr>\n",
              "      <th>0</th>\n",
              "      <td>6862</td>\n",
              "      <td>162489</td>\n",
              "      <td>116168</td>\n",
              "      <td>16158</td>\n",
              "      <td>5</td>\n",
              "      <td>0</td>\n",
              "      <td>0</td>\n",
              "      <td>0</td>\n",
              "      <td>0</td>\n",
              "      <td>0</td>\n",
              "      <td>5</td>\n",
              "      <td>0</td>\n",
              "      <td>0</td>\n",
              "      <td>102</td>\n",
              "      <td>77950</td>\n",
              "      <td>457</td>\n",
              "      <td>59060</td>\n",
              "      <td>0</td>\n",
              "      <td>0</td>\n",
              "      <td>102</td>\n",
              "      <td>0</td>\n",
              "      <td>592489</td>\n",
              "    </tr>\n",
              "    <tr>\n",
              "      <th>1</th>\n",
              "      <td>6862</td>\n",
              "      <td>162489</td>\n",
              "      <td>116168</td>\n",
              "      <td>16158</td>\n",
              "      <td>5</td>\n",
              "      <td>0</td>\n",
              "      <td>0</td>\n",
              "      <td>0</td>\n",
              "      <td>0</td>\n",
              "      <td>0</td>\n",
              "      <td>5</td>\n",
              "      <td>0</td>\n",
              "      <td>0</td>\n",
              "      <td>102</td>\n",
              "      <td>79549</td>\n",
              "      <td>457</td>\n",
              "      <td>59060</td>\n",
              "      <td>0</td>\n",
              "      <td>0</td>\n",
              "      <td>102</td>\n",
              "      <td>0</td>\n",
              "      <td>592452</td>\n",
              "    </tr>\n",
              "    <tr>\n",
              "      <th>2</th>\n",
              "      <td>6862</td>\n",
              "      <td>162489</td>\n",
              "      <td>116168</td>\n",
              "      <td>16158</td>\n",
              "      <td>5</td>\n",
              "      <td>0</td>\n",
              "      <td>0</td>\n",
              "      <td>0</td>\n",
              "      <td>0</td>\n",
              "      <td>0</td>\n",
              "      <td>5</td>\n",
              "      <td>0</td>\n",
              "      <td>0</td>\n",
              "      <td>100</td>\n",
              "      <td>60355</td>\n",
              "      <td>457</td>\n",
              "      <td>59060</td>\n",
              "      <td>0</td>\n",
              "      <td>0</td>\n",
              "      <td>102</td>\n",
              "      <td>0</td>\n",
              "      <td>590212</td>\n",
              "    </tr>\n",
              "    <tr>\n",
              "      <th>3</th>\n",
              "      <td>6862</td>\n",
              "      <td>162489</td>\n",
              "      <td>116168</td>\n",
              "      <td>16158</td>\n",
              "      <td>5</td>\n",
              "      <td>0</td>\n",
              "      <td>0</td>\n",
              "      <td>0</td>\n",
              "      <td>0</td>\n",
              "      <td>0</td>\n",
              "      <td>5</td>\n",
              "      <td>0</td>\n",
              "      <td>0</td>\n",
              "      <td>100</td>\n",
              "      <td>60296</td>\n",
              "      <td>457</td>\n",
              "      <td>59060</td>\n",
              "      <td>0</td>\n",
              "      <td>0</td>\n",
              "      <td>102</td>\n",
              "      <td>0</td>\n",
              "      <td>590209</td>\n",
              "    </tr>\n",
              "    <tr>\n",
              "      <th>4</th>\n",
              "      <td>6862</td>\n",
              "      <td>162489</td>\n",
              "      <td>116168</td>\n",
              "      <td>16158</td>\n",
              "      <td>5</td>\n",
              "      <td>0</td>\n",
              "      <td>0</td>\n",
              "      <td>0</td>\n",
              "      <td>0</td>\n",
              "      <td>0</td>\n",
              "      <td>5</td>\n",
              "      <td>0</td>\n",
              "      <td>0</td>\n",
              "      <td>102</td>\n",
              "      <td>77933</td>\n",
              "      <td>457</td>\n",
              "      <td>59060</td>\n",
              "      <td>0</td>\n",
              "      <td>0</td>\n",
              "      <td>102</td>\n",
              "      <td>0</td>\n",
              "      <td>592488</td>\n",
              "    </tr>\n",
              "  </tbody>\n",
              "</table>\n",
              "</div>"
            ],
            "text/plain": [
              "   acqic   bacno    cano  conam  contp  ...  ovrlt  scity  stocn  stscd   txkey\n",
              "0   6862  162489  116168  16158      5  ...      0      0    102      0  592489\n",
              "1   6862  162489  116168  16158      5  ...      0      0    102      0  592452\n",
              "2   6862  162489  116168  16158      5  ...      0      0    102      0  590212\n",
              "3   6862  162489  116168  16158      5  ...      0      0    102      0  590209\n",
              "4   6862  162489  116168  16158      5  ...      0      0    102      0  592488\n",
              "\n",
              "[5 rows x 22 columns]"
            ]
          },
          "metadata": {
            "tags": []
          },
          "execution_count": 4
        }
      ]
    },
    {
      "cell_type": "code",
      "metadata": {
        "id": "3pW1VGg_UMH1",
        "colab_type": "code",
        "outputId": "cd32b576-d23e-4de4-870f-2e7bc5690cf8",
        "colab": {
          "base_uri": "https://localhost:8080/",
          "height": 238
        }
      },
      "source": [
        "full_data  = train.drop('fraud_ind',axis=1).append(test)\n",
        "print('shape:',full_data.shape)\n",
        "print('total_nan:',full_data.isnull().sum().sum())\n",
        "full_data.head()"
      ],
      "execution_count": 5,
      "outputs": [
        {
          "output_type": "stream",
          "text": [
            "shape: (1943452, 22)\n",
            "total_nan: 0\n"
          ],
          "name": "stdout"
        },
        {
          "output_type": "execute_result",
          "data": {
            "text/html": [
              "<div>\n",
              "<style scoped>\n",
              "    .dataframe tbody tr th:only-of-type {\n",
              "        vertical-align: middle;\n",
              "    }\n",
              "\n",
              "    .dataframe tbody tr th {\n",
              "        vertical-align: top;\n",
              "    }\n",
              "\n",
              "    .dataframe thead th {\n",
              "        text-align: right;\n",
              "    }\n",
              "</style>\n",
              "<table border=\"1\" class=\"dataframe\">\n",
              "  <thead>\n",
              "    <tr style=\"text-align: right;\">\n",
              "      <th></th>\n",
              "      <th>acqic</th>\n",
              "      <th>bacno</th>\n",
              "      <th>cano</th>\n",
              "      <th>conam</th>\n",
              "      <th>contp</th>\n",
              "      <th>csmcu</th>\n",
              "      <th>ecfg</th>\n",
              "      <th>etymd</th>\n",
              "      <th>flbmk</th>\n",
              "      <th>flg_3dsmk</th>\n",
              "      <th>hcefg</th>\n",
              "      <th>insfg</th>\n",
              "      <th>iterm</th>\n",
              "      <th>locdt</th>\n",
              "      <th>loctm</th>\n",
              "      <th>mcc</th>\n",
              "      <th>mchno</th>\n",
              "      <th>ovrlt</th>\n",
              "      <th>scity</th>\n",
              "      <th>stocn</th>\n",
              "      <th>stscd</th>\n",
              "      <th>txkey</th>\n",
              "    </tr>\n",
              "  </thead>\n",
              "  <tbody>\n",
              "    <tr>\n",
              "      <th>0</th>\n",
              "      <td>6862</td>\n",
              "      <td>112785</td>\n",
              "      <td>37846</td>\n",
              "      <td>16158</td>\n",
              "      <td>5</td>\n",
              "      <td>0</td>\n",
              "      <td>0</td>\n",
              "      <td>0</td>\n",
              "      <td>0</td>\n",
              "      <td>0</td>\n",
              "      <td>5</td>\n",
              "      <td>0</td>\n",
              "      <td>0</td>\n",
              "      <td>33</td>\n",
              "      <td>61954</td>\n",
              "      <td>457</td>\n",
              "      <td>59034</td>\n",
              "      <td>0</td>\n",
              "      <td>0</td>\n",
              "      <td>102</td>\n",
              "      <td>0</td>\n",
              "      <td>516056</td>\n",
              "    </tr>\n",
              "    <tr>\n",
              "      <th>1</th>\n",
              "      <td>0</td>\n",
              "      <td>133951</td>\n",
              "      <td>45476</td>\n",
              "      <td>13693</td>\n",
              "      <td>5</td>\n",
              "      <td>0</td>\n",
              "      <td>0</td>\n",
              "      <td>2</td>\n",
              "      <td>0</td>\n",
              "      <td>0</td>\n",
              "      <td>0</td>\n",
              "      <td>0</td>\n",
              "      <td>0</td>\n",
              "      <td>9</td>\n",
              "      <td>38216</td>\n",
              "      <td>451</td>\n",
              "      <td>0</td>\n",
              "      <td>0</td>\n",
              "      <td>5795</td>\n",
              "      <td>102</td>\n",
              "      <td>0</td>\n",
              "      <td>4376</td>\n",
              "    </tr>\n",
              "    <tr>\n",
              "      <th>2</th>\n",
              "      <td>6862</td>\n",
              "      <td>15350</td>\n",
              "      <td>187354</td>\n",
              "      <td>16158</td>\n",
              "      <td>5</td>\n",
              "      <td>0</td>\n",
              "      <td>0</td>\n",
              "      <td>0</td>\n",
              "      <td>0</td>\n",
              "      <td>0</td>\n",
              "      <td>5</td>\n",
              "      <td>0</td>\n",
              "      <td>0</td>\n",
              "      <td>6</td>\n",
              "      <td>54640</td>\n",
              "      <td>457</td>\n",
              "      <td>59034</td>\n",
              "      <td>0</td>\n",
              "      <td>0</td>\n",
              "      <td>102</td>\n",
              "      <td>0</td>\n",
              "      <td>483434</td>\n",
              "    </tr>\n",
              "    <tr>\n",
              "      <th>3</th>\n",
              "      <td>6697</td>\n",
              "      <td>156492</td>\n",
              "      <td>29812</td>\n",
              "      <td>40413</td>\n",
              "      <td>5</td>\n",
              "      <td>62</td>\n",
              "      <td>0</td>\n",
              "      <td>5</td>\n",
              "      <td>0</td>\n",
              "      <td>0</td>\n",
              "      <td>5</td>\n",
              "      <td>0</td>\n",
              "      <td>0</td>\n",
              "      <td>5</td>\n",
              "      <td>62128</td>\n",
              "      <td>247</td>\n",
              "      <td>50185</td>\n",
              "      <td>0</td>\n",
              "      <td>3267</td>\n",
              "      <td>102</td>\n",
              "      <td>0</td>\n",
              "      <td>1407164</td>\n",
              "    </tr>\n",
              "    <tr>\n",
              "      <th>4</th>\n",
              "      <td>5959</td>\n",
              "      <td>105534</td>\n",
              "      <td>80881</td>\n",
              "      <td>25962</td>\n",
              "      <td>5</td>\n",
              "      <td>62</td>\n",
              "      <td>0</td>\n",
              "      <td>4</td>\n",
              "      <td>0</td>\n",
              "      <td>0</td>\n",
              "      <td>5</td>\n",
              "      <td>0</td>\n",
              "      <td>0</td>\n",
              "      <td>6</td>\n",
              "      <td>65231</td>\n",
              "      <td>263</td>\n",
              "      <td>93290</td>\n",
              "      <td>0</td>\n",
              "      <td>5795</td>\n",
              "      <td>102</td>\n",
              "      <td>0</td>\n",
              "      <td>1051004</td>\n",
              "    </tr>\n",
              "  </tbody>\n",
              "</table>\n",
              "</div>"
            ],
            "text/plain": [
              "   acqic   bacno    cano  conam  contp  ...  ovrlt  scity  stocn  stscd    txkey\n",
              "0   6862  112785   37846  16158      5  ...      0      0    102      0   516056\n",
              "1      0  133951   45476  13693      5  ...      0   5795    102      0     4376\n",
              "2   6862   15350  187354  16158      5  ...      0      0    102      0   483434\n",
              "3   6697  156492   29812  40413      5  ...      0   3267    102      0  1407164\n",
              "4   5959  105534   80881  25962      5  ...      0   5795    102      0  1051004\n",
              "\n",
              "[5 rows x 22 columns]"
            ]
          },
          "metadata": {
            "tags": []
          },
          "execution_count": 5
        }
      ]
    },
    {
      "cell_type": "markdown",
      "metadata": {
        "id": "qQeDXqelhLN7",
        "colab_type": "text"
      },
      "source": [
        "# 定義特徵"
      ]
    },
    {
      "cell_type": "code",
      "metadata": {
        "id": "XkPFtj_vhLWx",
        "colab_type": "code",
        "outputId": "ca9c6783-65e6-4db6-eb55-bac19116c84a",
        "colab": {
          "base_uri": "https://localhost:8080/",
          "height": 51
        }
      },
      "source": [
        "features = full_data.drop(['txkey','locdt'],axis=1).columns.tolist()\n",
        "print(len(features))\n",
        "print(features)"
      ],
      "execution_count": 6,
      "outputs": [
        {
          "output_type": "stream",
          "text": [
            "20\n",
            "['acqic', 'bacno', 'cano', 'conam', 'contp', 'csmcu', 'ecfg', 'etymd', 'flbmk', 'flg_3dsmk', 'hcefg', 'insfg', 'iterm', 'loctm', 'mcc', 'mchno', 'ovrlt', 'scity', 'stocn', 'stscd']\n"
          ],
          "name": "stdout"
        }
      ]
    },
    {
      "cell_type": "markdown",
      "metadata": {
        "id": "YRWhOjYyUwgk",
        "colab_type": "text"
      },
      "source": [
        "# kdeplot"
      ]
    },
    {
      "cell_type": "code",
      "metadata": {
        "id": "6BLHVSqkUfCp",
        "colab_type": "code",
        "colab": {}
      },
      "source": [
        "import seaborn as sns\n",
        "import matplotlib.pyplot as plt\n",
        "import numpy as np\n",
        "\n",
        "def kdeplotByGroup(df,x_col,y_col,group_value):\n",
        "  g1 = df.loc[df[x_col].isin(group_value),y_col]#組內\n",
        "  g2 = df.loc[~df[x_col].isin(group_value),y_col]#組外\n",
        "  print(x_col,'IN_GROUP y_mean is:',round(g1.mean(),2))#組內平均\n",
        "  print(x_col,'OUT_GROUP y_mean is:',round(g2.mean(),2))#組外平均\n",
        "  sns.kdeplot(g1,label='IN_GROUP')\n",
        "  sns.kdeplot(g2,label='OUT_GROUP')\n",
        "  plt.xlabel(x_col)\n",
        "  plt.ylabel(y_col)\n",
        "  plt.legend()\n",
        "  plt.show()\n",
        "\n",
        "def kdeplotByValue(df,x_col,y_col):\n",
        "  m = df[x_col].mean()\n",
        "  g1 = df.loc[df[x_col]>m ,y_col]\n",
        "  g2 = df.loc[df[x_col]<m ,y_col]\n",
        "  sns.kdeplot(g1,label = x_col+'>AVG')\n",
        "  sns.kdeplot(g2,label = x_col+'<AVG')\n",
        "  print(x_col +' > '+ m + y_col +'s AVG:',round(np.mean(g1),2))\n",
        "  print(x_col +' < '+ m + y_col +'s AVG:',round(np.mean(g2),2))\n",
        "  plt.xlabel(x_col)\n",
        "  plt.ylabel(y_col)\n",
        "  plt.legend()\n",
        "  plt.show()"
      ],
      "execution_count": 0,
      "outputs": []
    },
    {
      "cell_type": "code",
      "metadata": {
        "id": "-uJoxXDiWOxt",
        "colab_type": "code",
        "outputId": "01031864-848c-4669-8035-871f0dd62186",
        "colab": {
          "base_uri": "https://localhost:8080/",
          "height": 313
        }
      },
      "source": [
        "value = [0,20,34,41,55,68,72,75,81,83,87,89,102,106,107]\n",
        "kdeplotByGroup(train,'stocn','conam',value)"
      ],
      "execution_count": 8,
      "outputs": [
        {
          "output_type": "stream",
          "text": [
            "stocn IN_GROUP y_mean is: 23264.05\n",
            "stocn OUT_GROUP y_mean is: 18676.42\n"
          ],
          "name": "stdout"
        },
        {
          "output_type": "display_data",
          "data": {
            "image/png": "[encoded data removed]",
            "text/plain": [
              "<Figure size 432x288 with 1 Axes>"
            ]
          },
          "metadata": {
            "tags": []
          }
        }
      ]
    },
    {
      "cell_type": "markdown",
      "metadata": {
        "id": "0hOqQg9aat24",
        "colab_type": "text"
      },
      "source": [
        "# stscd = 0 通常不是盜刷"
      ]
    },
    {
      "cell_type": "code",
      "metadata": {
        "id": "1Y8hDN9_amR5",
        "colab_type": "code",
        "outputId": "c5b67884-5375-4f95-d1ed-a76e282087a6",
        "colab": {
          "base_uri": "https://localhost:8080/",
          "height": 313
        }
      },
      "source": [
        "value = [0]\n",
        "kdeplotByGroup(train,'stscd','fraud_ind',value)"
      ],
      "execution_count": 9,
      "outputs": [
        {
          "output_type": "stream",
          "text": [
            "stscd IN_GROUP y_mean is: 0.01\n",
            "stscd OUT_GROUP y_mean is: 0.3\n"
          ],
          "name": "stdout"
        },
        {
          "output_type": "display_data",
          "data": {
            "image/png": "[encoded data removed]",
            "text/plain": [
              "<Figure size 432x288 with 1 Axes>"
            ]
          },
          "metadata": {
            "tags": []
          }
        }
      ]
    },
    {
      "cell_type": "markdown",
      "metadata": {
        "id": "7_deqtnua0nR",
        "colab_type": "text"
      },
      "source": [
        "# stscd = 2 有較高可能是盜刷"
      ]
    },
    {
      "cell_type": "code",
      "metadata": {
        "id": "uSsK04BYXCdj",
        "colab_type": "code",
        "outputId": "bde2e992-0135-460b-eebb-d09f45bead44",
        "colab": {
          "base_uri": "https://localhost:8080/",
          "height": 313
        }
      },
      "source": [
        "value = [2]\n",
        "kdeplotByGroup(train,'stscd','fraud_ind',value)"
      ],
      "execution_count": 10,
      "outputs": [
        {
          "output_type": "stream",
          "text": [
            "stscd IN_GROUP y_mean is: 0.31\n",
            "stscd OUT_GROUP y_mean is: 0.01\n"
          ],
          "name": "stdout"
        },
        {
          "output_type": "display_data",
          "data": {
            "image/png": "[encoded data removed]",
            "text/plain": [
              "<Figure size 432x288 with 1 Axes>"
            ]
          },
          "metadata": {
            "tags": []
          }
        }
      ]
    },
    {
      "cell_type": "markdown",
      "metadata": {
        "id": "InfuvByDdhGP",
        "colab_type": "text"
      },
      "source": [
        "# mchno_stscd_2_norm_count 的靈感"
      ]
    },
    {
      "cell_type": "code",
      "metadata": {
        "id": "dSb0YvhRWQrz",
        "colab_type": "code",
        "outputId": "5ffbbee8-6fcd-4bb3-ac68-58f953cdc47b",
        "colab": {
          "base_uri": "https://localhost:8080/",
          "height": 450
        }
      },
      "source": [
        "pv = train.pivot_table(index='mchno',columns='stscd',values='fraud_ind',aggfunc='mean',margins=True)\n",
        "res = pv.loc[pv[2] == np.max(pv[2]),:]\n",
        "res"
      ],
      "execution_count": 11,
      "outputs": [
        {
          "output_type": "execute_result",
          "data": {
            "text/html": [
              "<div>\n",
              "<style scoped>\n",
              "    .dataframe tbody tr th:only-of-type {\n",
              "        vertical-align: middle;\n",
              "    }\n",
              "\n",
              "    .dataframe tbody tr th {\n",
              "        vertical-align: top;\n",
              "    }\n",
              "\n",
              "    .dataframe thead th {\n",
              "        text-align: right;\n",
              "    }\n",
              "</style>\n",
              "<table border=\"1\" class=\"dataframe\">\n",
              "  <thead>\n",
              "    <tr style=\"text-align: right;\">\n",
              "      <th>stscd</th>\n",
              "      <th>0</th>\n",
              "      <th>1</th>\n",
              "      <th>2</th>\n",
              "      <th>3</th>\n",
              "      <th>4</th>\n",
              "      <th>All</th>\n",
              "    </tr>\n",
              "    <tr>\n",
              "      <th>mchno</th>\n",
              "      <th></th>\n",
              "      <th></th>\n",
              "      <th></th>\n",
              "      <th></th>\n",
              "      <th></th>\n",
              "      <th></th>\n",
              "    </tr>\n",
              "  </thead>\n",
              "  <tbody>\n",
              "    <tr>\n",
              "      <th>276</th>\n",
              "      <td>NaN</td>\n",
              "      <td>NaN</td>\n",
              "      <td>1.0</td>\n",
              "      <td>NaN</td>\n",
              "      <td>NaN</td>\n",
              "      <td>1.0</td>\n",
              "    </tr>\n",
              "    <tr>\n",
              "      <th>292</th>\n",
              "      <td>NaN</td>\n",
              "      <td>NaN</td>\n",
              "      <td>1.0</td>\n",
              "      <td>NaN</td>\n",
              "      <td>NaN</td>\n",
              "      <td>1.0</td>\n",
              "    </tr>\n",
              "    <tr>\n",
              "      <th>298</th>\n",
              "      <td>NaN</td>\n",
              "      <td>NaN</td>\n",
              "      <td>1.0</td>\n",
              "      <td>NaN</td>\n",
              "      <td>NaN</td>\n",
              "      <td>1.0</td>\n",
              "    </tr>\n",
              "    <tr>\n",
              "      <th>322</th>\n",
              "      <td>NaN</td>\n",
              "      <td>NaN</td>\n",
              "      <td>1.0</td>\n",
              "      <td>NaN</td>\n",
              "      <td>NaN</td>\n",
              "      <td>1.0</td>\n",
              "    </tr>\n",
              "    <tr>\n",
              "      <th>548</th>\n",
              "      <td>1.0</td>\n",
              "      <td>NaN</td>\n",
              "      <td>1.0</td>\n",
              "      <td>NaN</td>\n",
              "      <td>NaN</td>\n",
              "      <td>1.0</td>\n",
              "    </tr>\n",
              "    <tr>\n",
              "      <th>...</th>\n",
              "      <td>...</td>\n",
              "      <td>...</td>\n",
              "      <td>...</td>\n",
              "      <td>...</td>\n",
              "      <td>...</td>\n",
              "      <td>...</td>\n",
              "    </tr>\n",
              "    <tr>\n",
              "      <th>101824</th>\n",
              "      <td>NaN</td>\n",
              "      <td>NaN</td>\n",
              "      <td>1.0</td>\n",
              "      <td>NaN</td>\n",
              "      <td>NaN</td>\n",
              "      <td>1.0</td>\n",
              "    </tr>\n",
              "    <tr>\n",
              "      <th>102582</th>\n",
              "      <td>NaN</td>\n",
              "      <td>NaN</td>\n",
              "      <td>1.0</td>\n",
              "      <td>NaN</td>\n",
              "      <td>NaN</td>\n",
              "      <td>1.0</td>\n",
              "    </tr>\n",
              "    <tr>\n",
              "      <th>102659</th>\n",
              "      <td>0.0</td>\n",
              "      <td>NaN</td>\n",
              "      <td>1.0</td>\n",
              "      <td>NaN</td>\n",
              "      <td>NaN</td>\n",
              "      <td>0.5</td>\n",
              "    </tr>\n",
              "    <tr>\n",
              "      <th>102672</th>\n",
              "      <td>NaN</td>\n",
              "      <td>NaN</td>\n",
              "      <td>1.0</td>\n",
              "      <td>NaN</td>\n",
              "      <td>NaN</td>\n",
              "      <td>1.0</td>\n",
              "    </tr>\n",
              "    <tr>\n",
              "      <th>102745</th>\n",
              "      <td>NaN</td>\n",
              "      <td>NaN</td>\n",
              "      <td>1.0</td>\n",
              "      <td>NaN</td>\n",
              "      <td>NaN</td>\n",
              "      <td>1.0</td>\n",
              "    </tr>\n",
              "  </tbody>\n",
              "</table>\n",
              "<p>294 rows × 6 columns</p>\n",
              "</div>"
            ],
            "text/plain": [
              "stscd     0   1    2   3   4  All\n",
              "mchno                            \n",
              "276     NaN NaN  1.0 NaN NaN  1.0\n",
              "292     NaN NaN  1.0 NaN NaN  1.0\n",
              "298     NaN NaN  1.0 NaN NaN  1.0\n",
              "322     NaN NaN  1.0 NaN NaN  1.0\n",
              "548     1.0 NaN  1.0 NaN NaN  1.0\n",
              "...     ...  ..  ...  ..  ..  ...\n",
              "101824  NaN NaN  1.0 NaN NaN  1.0\n",
              "102582  NaN NaN  1.0 NaN NaN  1.0\n",
              "102659  0.0 NaN  1.0 NaN NaN  0.5\n",
              "102672  NaN NaN  1.0 NaN NaN  1.0\n",
              "102745  NaN NaN  1.0 NaN NaN  1.0\n",
              "\n",
              "[294 rows x 6 columns]"
            ]
          },
          "metadata": {
            "tags": []
          },
          "execution_count": 11
        }
      ]
    },
    {
      "cell_type": "code",
      "metadata": {
        "id": "FEmJT8aIb-0v",
        "colab_type": "code",
        "colab": {}
      },
      "source": [
        "risk_mchno = list(res.index)"
      ],
      "execution_count": 0,
      "outputs": []
    },
    {
      "cell_type": "code",
      "metadata": {
        "id": "TV9wYDAhY_QE",
        "colab_type": "code",
        "outputId": "97549a80-d885-43ed-a225-1e99a9ed28ff",
        "colab": {
          "base_uri": "https://localhost:8080/",
          "height": 68
        }
      },
      "source": [
        "full_data['risk_mchno'] = 0\n",
        "full_data.loc[full_data['mchno'].isin(risk_mchno),'risk_mchno'] = 1\n",
        "full_data['risk_mchno'].value_counts()"
      ],
      "execution_count": 13,
      "outputs": [
        {
          "output_type": "execute_result",
          "data": {
            "text/plain": [
              "0    1936610\n",
              "1       6842\n",
              "Name: risk_mchno, dtype: int64"
            ]
          },
          "metadata": {
            "tags": []
          },
          "execution_count": 13
        }
      ]
    },
    {
      "cell_type": "markdown",
      "metadata": {
        "id": "1XSNKF5BeahS",
        "colab_type": "text"
      },
      "source": [
        "# Function for Numeric Aggregations"
      ]
    },
    {
      "cell_type": "code",
      "metadata": {
        "id": "kLEWHCFIcviF",
        "colab_type": "code",
        "colab": {}
      },
      "source": [
        "def agg_function(df,group_var,features):\n",
        "    agg = df[features+[group_var]].groupby(group_var).agg([\"nunique\"]).reset_index()\n",
        "    columns = [group_var]\n",
        "    for var in agg.columns.levels[0]:\n",
        "      if var != group_var:\n",
        "        for stat in agg.columns.levels[1][:-1]:\n",
        "          columns.append('%s_%s_%s' % (group_var,var,stat))\n",
        "    agg.columns = columns\n",
        "    return agg"
      ],
      "execution_count": 0,
      "outputs": []
    },
    {
      "cell_type": "markdown",
      "metadata": {
        "id": "sQEWDpy9eo5s",
        "colab_type": "text"
      },
      "source": [
        "# Function to Handle Categorical Variables"
      ]
    },
    {
      "cell_type": "code",
      "metadata": {
        "id": "4fOZFY2Iemfy",
        "colab_type": "code",
        "colab": {}
      },
      "source": [
        "def count_categorical(df, group_var,categorical_features):\n",
        "    categorical = pd.get_dummies(df[categorical_features],columns=categorical_features)\n",
        "    categorical[group_var] = df[group_var]\n",
        "    categorical = categorical.groupby(group_var).agg(['mean'])\n",
        "    column_names = []\n",
        "    for var in categorical.columns.levels[0]:\n",
        "      for stat in ['norm_count']:\n",
        "        column_names.append('%s_%s_%s' % (group_var, var, stat))\n",
        "    categorical.columns = column_names\n",
        "    return categorical"
      ],
      "execution_count": 0,
      "outputs": []
    },
    {
      "cell_type": "markdown",
      "metadata": {
        "id": "zl1pFi2qeymk",
        "colab_type": "text"
      },
      "source": [
        "# mchno"
      ]
    },
    {
      "cell_type": "code",
      "metadata": {
        "id": "-msbwTe-eqxF",
        "colab_type": "code",
        "outputId": "621eeb00-f348-4923-dd5c-01fb2c336afb",
        "colab": {
          "base_uri": "https://localhost:8080/",
          "height": 34
        }
      },
      "source": [
        "id_col = 'mchno' \n",
        "norm_count_col = ['stscd']\n",
        "full_data = full_data.merge(count_categorical(full_data,id_col,norm_count_col),on=id_col,how='left')\n",
        "gc.collect()"
      ],
      "execution_count": 16,
      "outputs": [
        {
          "output_type": "execute_result",
          "data": {
            "text/plain": [
              "3102"
            ]
          },
          "metadata": {
            "tags": []
          },
          "execution_count": 16
        }
      ]
    },
    {
      "cell_type": "markdown",
      "metadata": {
        "id": "al6Yfm5LfqEr",
        "colab_type": "text"
      },
      "source": [
        "# acqic"
      ]
    },
    {
      "cell_type": "code",
      "metadata": {
        "id": "9KUWo1EmffTj",
        "colab_type": "code",
        "colab": {}
      },
      "source": [
        "id_col = 'acqic' \n",
        "norm_count_col = ['ecfg']\n",
        "full_data = full_data.merge(count_categorical(full_data,id_col,norm_count_col),on=id_col,how='left')"
      ],
      "execution_count": 0,
      "outputs": []
    },
    {
      "cell_type": "code",
      "metadata": {
        "id": "fwKx7ytgf7B6",
        "colab_type": "code",
        "outputId": "b1acbf0a-f447-4cac-bf07-03d7d6f303ac",
        "colab": {
          "base_uri": "https://localhost:8080/",
          "height": 34
        }
      },
      "source": [
        "gc.collect()"
      ],
      "execution_count": 18,
      "outputs": [
        {
          "output_type": "execute_result",
          "data": {
            "text/plain": [
              "0"
            ]
          },
          "metadata": {
            "tags": []
          },
          "execution_count": 18
        }
      ]
    },
    {
      "cell_type": "markdown",
      "metadata": {
        "id": "qMj4xyYdgoq6",
        "colab_type": "text"
      },
      "source": [
        "# check"
      ]
    },
    {
      "cell_type": "code",
      "metadata": {
        "id": "W7m60JtNgjJv",
        "colab_type": "code",
        "outputId": "3ce633d8-4545-4e84-8b69-3a65a7cb50a4",
        "colab": {
          "base_uri": "https://localhost:8080/",
          "height": 258
        }
      },
      "source": [
        "print(full_data.shape)\n",
        "print(full_data.isnull().sum().sum())\n",
        "full_data.head()"
      ],
      "execution_count": 19,
      "outputs": [
        {
          "output_type": "stream",
          "text": [
            "(1943452, 30)\n",
            "0\n"
          ],
          "name": "stdout"
        },
        {
          "output_type": "execute_result",
          "data": {
            "text/html": [
              "<div>\n",
              "<style scoped>\n",
              "    .dataframe tbody tr th:only-of-type {\n",
              "        vertical-align: middle;\n",
              "    }\n",
              "\n",
              "    .dataframe tbody tr th {\n",
              "        vertical-align: top;\n",
              "    }\n",
              "\n",
              "    .dataframe thead th {\n",
              "        text-align: right;\n",
              "    }\n",
              "</style>\n",
              "<table border=\"1\" class=\"dataframe\">\n",
              "  <thead>\n",
              "    <tr style=\"text-align: right;\">\n",
              "      <th></th>\n",
              "      <th>acqic</th>\n",
              "      <th>bacno</th>\n",
              "      <th>cano</th>\n",
              "      <th>conam</th>\n",
              "      <th>contp</th>\n",
              "      <th>csmcu</th>\n",
              "      <th>ecfg</th>\n",
              "      <th>etymd</th>\n",
              "      <th>flbmk</th>\n",
              "      <th>flg_3dsmk</th>\n",
              "      <th>hcefg</th>\n",
              "      <th>insfg</th>\n",
              "      <th>iterm</th>\n",
              "      <th>locdt</th>\n",
              "      <th>loctm</th>\n",
              "      <th>mcc</th>\n",
              "      <th>mchno</th>\n",
              "      <th>ovrlt</th>\n",
              "      <th>scity</th>\n",
              "      <th>stocn</th>\n",
              "      <th>stscd</th>\n",
              "      <th>txkey</th>\n",
              "      <th>risk_mchno</th>\n",
              "      <th>mchno_stscd_0_norm_count</th>\n",
              "      <th>mchno_stscd_1_norm_count</th>\n",
              "      <th>mchno_stscd_2_norm_count</th>\n",
              "      <th>mchno_stscd_3_norm_count</th>\n",
              "      <th>mchno_stscd_4_norm_count</th>\n",
              "      <th>acqic_ecfg_0_norm_count</th>\n",
              "      <th>acqic_ecfg_1_norm_count</th>\n",
              "    </tr>\n",
              "  </thead>\n",
              "  <tbody>\n",
              "    <tr>\n",
              "      <th>0</th>\n",
              "      <td>6862</td>\n",
              "      <td>112785</td>\n",
              "      <td>37846</td>\n",
              "      <td>16158</td>\n",
              "      <td>5</td>\n",
              "      <td>0</td>\n",
              "      <td>0</td>\n",
              "      <td>0</td>\n",
              "      <td>0</td>\n",
              "      <td>0</td>\n",
              "      <td>5</td>\n",
              "      <td>0</td>\n",
              "      <td>0</td>\n",
              "      <td>33</td>\n",
              "      <td>61954</td>\n",
              "      <td>457</td>\n",
              "      <td>59034</td>\n",
              "      <td>0</td>\n",
              "      <td>0</td>\n",
              "      <td>102</td>\n",
              "      <td>0</td>\n",
              "      <td>516056</td>\n",
              "      <td>0</td>\n",
              "      <td>0.998956</td>\n",
              "      <td>0.000000</td>\n",
              "      <td>0.001044</td>\n",
              "      <td>0.0</td>\n",
              "      <td>0</td>\n",
              "      <td>1.000000</td>\n",
              "      <td>0.000000</td>\n",
              "    </tr>\n",
              "    <tr>\n",
              "      <th>1</th>\n",
              "      <td>0</td>\n",
              "      <td>133951</td>\n",
              "      <td>45476</td>\n",
              "      <td>13693</td>\n",
              "      <td>5</td>\n",
              "      <td>0</td>\n",
              "      <td>0</td>\n",
              "      <td>2</td>\n",
              "      <td>0</td>\n",
              "      <td>0</td>\n",
              "      <td>0</td>\n",
              "      <td>0</td>\n",
              "      <td>0</td>\n",
              "      <td>9</td>\n",
              "      <td>38216</td>\n",
              "      <td>451</td>\n",
              "      <td>0</td>\n",
              "      <td>0</td>\n",
              "      <td>5795</td>\n",
              "      <td>102</td>\n",
              "      <td>0</td>\n",
              "      <td>4376</td>\n",
              "      <td>0</td>\n",
              "      <td>0.997536</td>\n",
              "      <td>0.002448</td>\n",
              "      <td>0.000016</td>\n",
              "      <td>0.0</td>\n",
              "      <td>0</td>\n",
              "      <td>1.000000</td>\n",
              "      <td>0.000000</td>\n",
              "    </tr>\n",
              "    <tr>\n",
              "      <th>2</th>\n",
              "      <td>6862</td>\n",
              "      <td>15350</td>\n",
              "      <td>187354</td>\n",
              "      <td>16158</td>\n",
              "      <td>5</td>\n",
              "      <td>0</td>\n",
              "      <td>0</td>\n",
              "      <td>0</td>\n",
              "      <td>0</td>\n",
              "      <td>0</td>\n",
              "      <td>5</td>\n",
              "      <td>0</td>\n",
              "      <td>0</td>\n",
              "      <td>6</td>\n",
              "      <td>54640</td>\n",
              "      <td>457</td>\n",
              "      <td>59034</td>\n",
              "      <td>0</td>\n",
              "      <td>0</td>\n",
              "      <td>102</td>\n",
              "      <td>0</td>\n",
              "      <td>483434</td>\n",
              "      <td>0</td>\n",
              "      <td>0.998956</td>\n",
              "      <td>0.000000</td>\n",
              "      <td>0.001044</td>\n",
              "      <td>0.0</td>\n",
              "      <td>0</td>\n",
              "      <td>1.000000</td>\n",
              "      <td>0.000000</td>\n",
              "    </tr>\n",
              "    <tr>\n",
              "      <th>3</th>\n",
              "      <td>6697</td>\n",
              "      <td>156492</td>\n",
              "      <td>29812</td>\n",
              "      <td>40413</td>\n",
              "      <td>5</td>\n",
              "      <td>62</td>\n",
              "      <td>0</td>\n",
              "      <td>5</td>\n",
              "      <td>0</td>\n",
              "      <td>0</td>\n",
              "      <td>5</td>\n",
              "      <td>0</td>\n",
              "      <td>0</td>\n",
              "      <td>5</td>\n",
              "      <td>62128</td>\n",
              "      <td>247</td>\n",
              "      <td>50185</td>\n",
              "      <td>0</td>\n",
              "      <td>3267</td>\n",
              "      <td>102</td>\n",
              "      <td>0</td>\n",
              "      <td>1407164</td>\n",
              "      <td>0</td>\n",
              "      <td>1.000000</td>\n",
              "      <td>0.000000</td>\n",
              "      <td>0.000000</td>\n",
              "      <td>0.0</td>\n",
              "      <td>0</td>\n",
              "      <td>0.764562</td>\n",
              "      <td>0.235438</td>\n",
              "    </tr>\n",
              "    <tr>\n",
              "      <th>4</th>\n",
              "      <td>5959</td>\n",
              "      <td>105534</td>\n",
              "      <td>80881</td>\n",
              "      <td>25962</td>\n",
              "      <td>5</td>\n",
              "      <td>62</td>\n",
              "      <td>0</td>\n",
              "      <td>4</td>\n",
              "      <td>0</td>\n",
              "      <td>0</td>\n",
              "      <td>5</td>\n",
              "      <td>0</td>\n",
              "      <td>0</td>\n",
              "      <td>6</td>\n",
              "      <td>65231</td>\n",
              "      <td>263</td>\n",
              "      <td>93290</td>\n",
              "      <td>0</td>\n",
              "      <td>5795</td>\n",
              "      <td>102</td>\n",
              "      <td>0</td>\n",
              "      <td>1051004</td>\n",
              "      <td>0</td>\n",
              "      <td>1.000000</td>\n",
              "      <td>0.000000</td>\n",
              "      <td>0.000000</td>\n",
              "      <td>0.0</td>\n",
              "      <td>0</td>\n",
              "      <td>0.916687</td>\n",
              "      <td>0.083313</td>\n",
              "    </tr>\n",
              "  </tbody>\n",
              "</table>\n",
              "</div>"
            ],
            "text/plain": [
              "   acqic   bacno  ...  acqic_ecfg_0_norm_count  acqic_ecfg_1_norm_count\n",
              "0   6862  112785  ...                 1.000000                 0.000000\n",
              "1      0  133951  ...                 1.000000                 0.000000\n",
              "2   6862   15350  ...                 1.000000                 0.000000\n",
              "3   6697  156492  ...                 0.764562                 0.235438\n",
              "4   5959  105534  ...                 0.916687                 0.083313\n",
              "\n",
              "[5 rows x 30 columns]"
            ]
          },
          "metadata": {
            "tags": []
          },
          "execution_count": 19
        }
      ]
    },
    {
      "cell_type": "markdown",
      "metadata": {
        "id": "vDKQnsDdgw-U",
        "colab_type": "text"
      },
      "source": [
        "# 拆回train and test"
      ]
    },
    {
      "cell_type": "code",
      "metadata": {
        "id": "VsfzsUHIgqfE",
        "colab_type": "code",
        "outputId": "9829dba0-59d7-41d8-be2f-763eb07d2f33",
        "colab": {
          "base_uri": "https://localhost:8080/",
          "height": 68
        }
      },
      "source": [
        "train = full_data.loc[full_data['txkey'].isin(train_txkey),:]\n",
        "train['fraud_ind'] = train_fraud_ind\n",
        "print(train.shape)\n",
        "\n",
        "test = full_data.loc[full_data['txkey'].isin(test_txkey),:]\n",
        "print(test.shape)\n",
        "\n",
        "del full_data\n",
        "gc.collect()"
      ],
      "execution_count": 20,
      "outputs": [
        {
          "output_type": "stream",
          "text": [
            "(1521787, 31)\n",
            "(421665, 30)\n"
          ],
          "name": "stdout"
        },
        {
          "output_type": "execute_result",
          "data": {
            "text/plain": [
              "11"
            ]
          },
          "metadata": {
            "tags": []
          },
          "execution_count": 20
        }
      ]
    },
    {
      "cell_type": "markdown",
      "metadata": {
        "id": "Cy9nZSaNg4kI",
        "colab_type": "text"
      },
      "source": [
        "# Correlation"
      ]
    },
    {
      "cell_type": "code",
      "metadata": {
        "id": "diaDu7mXhCmt",
        "colab_type": "code",
        "colab": {}
      },
      "source": [
        "def target_corrs(df,feats):\n",
        "  corrs = {} \n",
        "  for col in feats:\n",
        "    corr = df['fraud_ind'].corr(df[col])\n",
        "    corrs[col] = abs(corr)\n",
        "  return pd.DataFrame(corrs,index=['corr_score']).T.sort_values(by='corr_score',ascending=False)"
      ],
      "execution_count": 0,
      "outputs": []
    },
    {
      "cell_type": "markdown",
      "metadata": {
        "id": "rx1334YMsWss",
        "colab_type": "text"
      },
      "source": [
        "# 原始特徵corr"
      ]
    },
    {
      "cell_type": "code",
      "metadata": {
        "id": "6Y-kD5Pzg24w",
        "colab_type": "code",
        "outputId": "e5e4a02a-b7eb-4493-bd05-5d94fa385821",
        "colab": {
          "base_uri": "https://localhost:8080/",
          "height": 359
        }
      },
      "source": [
        "old_corrs = target_corrs(train,features)\n",
        "old_corrs.head(10)"
      ],
      "execution_count": 22,
      "outputs": [
        {
          "output_type": "execute_result",
          "data": {
            "text/html": [
              "<div>\n",
              "<style scoped>\n",
              "    .dataframe tbody tr th:only-of-type {\n",
              "        vertical-align: middle;\n",
              "    }\n",
              "\n",
              "    .dataframe tbody tr th {\n",
              "        vertical-align: top;\n",
              "    }\n",
              "\n",
              "    .dataframe thead th {\n",
              "        text-align: right;\n",
              "    }\n",
              "</style>\n",
              "<table border=\"1\" class=\"dataframe\">\n",
              "  <thead>\n",
              "    <tr style=\"text-align: right;\">\n",
              "      <th></th>\n",
              "      <th>corr_score</th>\n",
              "    </tr>\n",
              "  </thead>\n",
              "  <tbody>\n",
              "    <tr>\n",
              "      <th>stscd</th>\n",
              "      <td>0.279225</td>\n",
              "    </tr>\n",
              "    <tr>\n",
              "      <th>ecfg</th>\n",
              "      <td>0.161701</td>\n",
              "    </tr>\n",
              "    <tr>\n",
              "      <th>stocn</th>\n",
              "      <td>0.161405</td>\n",
              "    </tr>\n",
              "    <tr>\n",
              "      <th>acqic</th>\n",
              "      <td>0.083764</td>\n",
              "    </tr>\n",
              "    <tr>\n",
              "      <th>etymd</th>\n",
              "      <td>0.067743</td>\n",
              "    </tr>\n",
              "    <tr>\n",
              "      <th>loctm</th>\n",
              "      <td>0.041972</td>\n",
              "    </tr>\n",
              "    <tr>\n",
              "      <th>scity</th>\n",
              "      <td>0.028736</td>\n",
              "    </tr>\n",
              "    <tr>\n",
              "      <th>hcefg</th>\n",
              "      <td>0.026210</td>\n",
              "    </tr>\n",
              "    <tr>\n",
              "      <th>contp</th>\n",
              "      <td>0.023248</td>\n",
              "    </tr>\n",
              "    <tr>\n",
              "      <th>conam</th>\n",
              "      <td>0.022302</td>\n",
              "    </tr>\n",
              "  </tbody>\n",
              "</table>\n",
              "</div>"
            ],
            "text/plain": [
              "       corr_score\n",
              "stscd    0.279225\n",
              "ecfg     0.161701\n",
              "stocn    0.161405\n",
              "acqic    0.083764\n",
              "etymd    0.067743\n",
              "loctm    0.041972\n",
              "scity    0.028736\n",
              "hcefg    0.026210\n",
              "contp    0.023248\n",
              "conam    0.022302"
            ]
          },
          "metadata": {
            "tags": []
          },
          "execution_count": 22
        }
      ]
    },
    {
      "cell_type": "markdown",
      "metadata": {
        "id": "GA7NIBoGhbCp",
        "colab_type": "text"
      },
      "source": [
        "# 新特徵corr"
      ]
    },
    {
      "cell_type": "code",
      "metadata": {
        "id": "6IJna7Cbg6S1",
        "colab_type": "code",
        "outputId": "9845c468-5e08-40c3-b1b3-e117345ebd17",
        "colab": {
          "base_uri": "https://localhost:8080/",
          "height": 328
        }
      },
      "source": [
        "new_feats = list(set(train.drop(['fraud_ind','txkey'],axis=1).columns)^set(features))\n",
        "new_corrs = target_corrs(train,new_feats)\n",
        "new_corrs.head(10)"
      ],
      "execution_count": 23,
      "outputs": [
        {
          "output_type": "execute_result",
          "data": {
            "text/html": [
              "<div>\n",
              "<style scoped>\n",
              "    .dataframe tbody tr th:only-of-type {\n",
              "        vertical-align: middle;\n",
              "    }\n",
              "\n",
              "    .dataframe tbody tr th {\n",
              "        vertical-align: top;\n",
              "    }\n",
              "\n",
              "    .dataframe thead th {\n",
              "        text-align: right;\n",
              "    }\n",
              "</style>\n",
              "<table border=\"1\" class=\"dataframe\">\n",
              "  <thead>\n",
              "    <tr style=\"text-align: right;\">\n",
              "      <th></th>\n",
              "      <th>corr_score</th>\n",
              "    </tr>\n",
              "  </thead>\n",
              "  <tbody>\n",
              "    <tr>\n",
              "      <th>mchno_stscd_2_norm_count</th>\n",
              "      <td>0.435368</td>\n",
              "    </tr>\n",
              "    <tr>\n",
              "      <th>mchno_stscd_0_norm_count</th>\n",
              "      <td>0.431845</td>\n",
              "    </tr>\n",
              "    <tr>\n",
              "      <th>acqic_ecfg_0_norm_count</th>\n",
              "      <td>0.222677</td>\n",
              "    </tr>\n",
              "    <tr>\n",
              "      <th>acqic_ecfg_1_norm_count</th>\n",
              "      <td>0.222677</td>\n",
              "    </tr>\n",
              "    <tr>\n",
              "      <th>risk_mchno</th>\n",
              "      <td>0.080574</td>\n",
              "    </tr>\n",
              "    <tr>\n",
              "      <th>locdt</th>\n",
              "      <td>0.011773</td>\n",
              "    </tr>\n",
              "    <tr>\n",
              "      <th>mchno_stscd_1_norm_count</th>\n",
              "      <td>0.006734</td>\n",
              "    </tr>\n",
              "    <tr>\n",
              "      <th>mchno_stscd_3_norm_count</th>\n",
              "      <td>0.001179</td>\n",
              "    </tr>\n",
              "    <tr>\n",
              "      <th>mchno_stscd_4_norm_count</th>\n",
              "      <td>0.000422</td>\n",
              "    </tr>\n",
              "  </tbody>\n",
              "</table>\n",
              "</div>"
            ],
            "text/plain": [
              "                          corr_score\n",
              "mchno_stscd_2_norm_count    0.435368\n",
              "mchno_stscd_0_norm_count    0.431845\n",
              "acqic_ecfg_0_norm_count     0.222677\n",
              "acqic_ecfg_1_norm_count     0.222677\n",
              "risk_mchno                  0.080574\n",
              "locdt                       0.011773\n",
              "mchno_stscd_1_norm_count    0.006734\n",
              "mchno_stscd_3_norm_count    0.001179\n",
              "mchno_stscd_4_norm_count    0.000422"
            ]
          },
          "metadata": {
            "tags": []
          },
          "execution_count": 23
        }
      ]
    },
    {
      "cell_type": "markdown",
      "metadata": {
        "id": "Y6F80HP7r_KJ",
        "colab_type": "text"
      },
      "source": [
        "# 篩選新特徵"
      ]
    },
    {
      "cell_type": "code",
      "metadata": {
        "id": "drpJMp8Srb0V",
        "colab_type": "code",
        "colab": {}
      },
      "source": [
        "old_feat_num = len(features)\n",
        "new_feat_num = 5\n",
        "\n",
        "old_feat = list(old_corrs.head(old_feat_num).index)\n",
        "new_feat = list(new_corrs.head(new_feat_num).index)\n",
        "\n",
        "select_feats =  old_feat + new_feat \n",
        "train = train[select_feats+['txkey']+['fraud_ind']]\n",
        "test = test[select_feats+['txkey']]"
      ],
      "execution_count": 0,
      "outputs": []
    },
    {
      "cell_type": "markdown",
      "metadata": {
        "id": "2b5ffmYtsqSz",
        "colab_type": "text"
      },
      "source": [
        "# 處裡共線性問題"
      ]
    },
    {
      "cell_type": "code",
      "metadata": {
        "id": "qZ4ncPRLssFv",
        "colab_type": "code",
        "colab": {}
      },
      "source": [
        "corrs = abs(train.corr())\n",
        "threshold = 0.8\n",
        "above_threshold_vars = {}\n",
        "for col in corrs:\n",
        "    above_threshold_vars[col] = list(corrs.index[corrs[col] > threshold])"
      ],
      "execution_count": 0,
      "outputs": []
    },
    {
      "cell_type": "code",
      "metadata": {
        "id": "aNYPqjXnssYu",
        "colab_type": "code",
        "colab": {
          "base_uri": "https://localhost:8080/",
          "height": 68
        },
        "outputId": "9cc68542-2426-47d7-be9d-3b975c90f522"
      },
      "source": [
        "cols_to_remove = []\n",
        "cols_seen = []\n",
        "cols_to_remove_pair = []\n",
        "for key, value in above_threshold_vars.items():\n",
        "    cols_seen.append(key)\n",
        "    for x in value:\n",
        "        if x == key:\n",
        "            next\n",
        "        else:\n",
        "            if x not in cols_seen:\n",
        "                cols_to_remove.append(x)\n",
        "                cols_to_remove_pair.append(key)            \n",
        "cols_to_remove = list(set(cols_to_remove))\n",
        "print('Number of columns to remove: ', len(cols_to_remove))\n",
        "print(cols_to_remove_pair)\n",
        "print(cols_to_remove)"
      ],
      "execution_count": 26,
      "outputs": [
        {
          "output_type": "stream",
          "text": [
            "Number of columns to remove:  3\n",
            "['insfg', 'mchno_stscd_2_norm_count', 'acqic_ecfg_0_norm_count']\n",
            "['iterm', 'acqic_ecfg_1_norm_count', 'mchno_stscd_0_norm_count']\n"
          ],
          "name": "stdout"
        }
      ]
    },
    {
      "cell_type": "code",
      "metadata": {
        "id": "A_7gVf39svPl",
        "colab_type": "code",
        "colab": {}
      },
      "source": [
        "train = train.drop(cols_to_remove,axis=1)\n",
        "test = test.drop(cols_to_remove,axis=1)"
      ],
      "execution_count": 0,
      "outputs": []
    },
    {
      "cell_type": "code",
      "metadata": {
        "id": "qChLPjQfsxtk",
        "colab_type": "code",
        "colab": {
          "base_uri": "https://localhost:8080/",
          "height": 1000
        },
        "outputId": "071812c2-7a37-4384-a657-273915c4835c"
      },
      "source": [
        "fig = plt.figure(figsize=(21,18))\n",
        "sns.heatmap(abs(train.corr()),annot=True,linewidths=0.1,cmap='YlGnBu')"
      ],
      "execution_count": 28,
      "outputs": [
        {
          "output_type": "execute_result",
          "data": {
            "text/plain": [
              "<matplotlib.axes._subplots.AxesSubplot at 0x7f82c564f278>"
            ]
          },
          "metadata": {
            "tags": []
          },
          "execution_count": 28
        },
        {
          "output_type": "display_data",
          "data": {
            "image/png": "[encoded data removed]",
            "text/plain": [
              "<Figure size 1512x1296 with 2 Axes>"
            ]
          },
          "metadata": {
            "tags": []
          }
        }
      ]
    },
    {
      "cell_type": "markdown",
      "metadata": {
        "id": "ZtzVMQuctc26",
        "colab_type": "text"
      },
      "source": [
        "# check data"
      ]
    },
    {
      "cell_type": "code",
      "metadata": {
        "id": "mHVwZDXmszs1",
        "colab_type": "code",
        "colab": {
          "base_uri": "https://localhost:8080/",
          "height": 238
        },
        "outputId": "570f0cd5-eef9-4d21-fd56-dd93f09d44ec"
      },
      "source": [
        "print(train.shape)\n",
        "print(train.isnull().sum().sum())\n",
        "train.head()"
      ],
      "execution_count": 29,
      "outputs": [
        {
          "output_type": "stream",
          "text": [
            "(1521787, 24)\n",
            "0\n"
          ],
          "name": "stdout"
        },
        {
          "output_type": "execute_result",
          "data": {
            "text/html": [
              "<div>\n",
              "<style scoped>\n",
              "    .dataframe tbody tr th:only-of-type {\n",
              "        vertical-align: middle;\n",
              "    }\n",
              "\n",
              "    .dataframe tbody tr th {\n",
              "        vertical-align: top;\n",
              "    }\n",
              "\n",
              "    .dataframe thead th {\n",
              "        text-align: right;\n",
              "    }\n",
              "</style>\n",
              "<table border=\"1\" class=\"dataframe\">\n",
              "  <thead>\n",
              "    <tr style=\"text-align: right;\">\n",
              "      <th></th>\n",
              "      <th>stscd</th>\n",
              "      <th>ecfg</th>\n",
              "      <th>stocn</th>\n",
              "      <th>acqic</th>\n",
              "      <th>etymd</th>\n",
              "      <th>loctm</th>\n",
              "      <th>scity</th>\n",
              "      <th>hcefg</th>\n",
              "      <th>contp</th>\n",
              "      <th>conam</th>\n",
              "      <th>insfg</th>\n",
              "      <th>ovrlt</th>\n",
              "      <th>flg_3dsmk</th>\n",
              "      <th>csmcu</th>\n",
              "      <th>mchno</th>\n",
              "      <th>cano</th>\n",
              "      <th>mcc</th>\n",
              "      <th>flbmk</th>\n",
              "      <th>bacno</th>\n",
              "      <th>mchno_stscd_2_norm_count</th>\n",
              "      <th>acqic_ecfg_0_norm_count</th>\n",
              "      <th>risk_mchno</th>\n",
              "      <th>txkey</th>\n",
              "      <th>fraud_ind</th>\n",
              "    </tr>\n",
              "  </thead>\n",
              "  <tbody>\n",
              "    <tr>\n",
              "      <th>0</th>\n",
              "      <td>0</td>\n",
              "      <td>0</td>\n",
              "      <td>102</td>\n",
              "      <td>6862</td>\n",
              "      <td>0</td>\n",
              "      <td>61954</td>\n",
              "      <td>0</td>\n",
              "      <td>5</td>\n",
              "      <td>5</td>\n",
              "      <td>16158</td>\n",
              "      <td>0</td>\n",
              "      <td>0</td>\n",
              "      <td>0</td>\n",
              "      <td>0</td>\n",
              "      <td>59034</td>\n",
              "      <td>37846</td>\n",
              "      <td>457</td>\n",
              "      <td>0</td>\n",
              "      <td>112785</td>\n",
              "      <td>0.001044</td>\n",
              "      <td>1.000000</td>\n",
              "      <td>0</td>\n",
              "      <td>516056</td>\n",
              "      <td>0</td>\n",
              "    </tr>\n",
              "    <tr>\n",
              "      <th>1</th>\n",
              "      <td>0</td>\n",
              "      <td>0</td>\n",
              "      <td>102</td>\n",
              "      <td>0</td>\n",
              "      <td>2</td>\n",
              "      <td>38216</td>\n",
              "      <td>5795</td>\n",
              "      <td>0</td>\n",
              "      <td>5</td>\n",
              "      <td>13693</td>\n",
              "      <td>0</td>\n",
              "      <td>0</td>\n",
              "      <td>0</td>\n",
              "      <td>0</td>\n",
              "      <td>0</td>\n",
              "      <td>45476</td>\n",
              "      <td>451</td>\n",
              "      <td>0</td>\n",
              "      <td>133951</td>\n",
              "      <td>0.000016</td>\n",
              "      <td>1.000000</td>\n",
              "      <td>0</td>\n",
              "      <td>4376</td>\n",
              "      <td>0</td>\n",
              "    </tr>\n",
              "    <tr>\n",
              "      <th>2</th>\n",
              "      <td>0</td>\n",
              "      <td>0</td>\n",
              "      <td>102</td>\n",
              "      <td>6862</td>\n",
              "      <td>0</td>\n",
              "      <td>54640</td>\n",
              "      <td>0</td>\n",
              "      <td>5</td>\n",
              "      <td>5</td>\n",
              "      <td>16158</td>\n",
              "      <td>0</td>\n",
              "      <td>0</td>\n",
              "      <td>0</td>\n",
              "      <td>0</td>\n",
              "      <td>59034</td>\n",
              "      <td>187354</td>\n",
              "      <td>457</td>\n",
              "      <td>0</td>\n",
              "      <td>15350</td>\n",
              "      <td>0.001044</td>\n",
              "      <td>1.000000</td>\n",
              "      <td>0</td>\n",
              "      <td>483434</td>\n",
              "      <td>0</td>\n",
              "    </tr>\n",
              "    <tr>\n",
              "      <th>3</th>\n",
              "      <td>0</td>\n",
              "      <td>0</td>\n",
              "      <td>102</td>\n",
              "      <td>6697</td>\n",
              "      <td>5</td>\n",
              "      <td>62128</td>\n",
              "      <td>3267</td>\n",
              "      <td>5</td>\n",
              "      <td>5</td>\n",
              "      <td>40413</td>\n",
              "      <td>0</td>\n",
              "      <td>0</td>\n",
              "      <td>0</td>\n",
              "      <td>62</td>\n",
              "      <td>50185</td>\n",
              "      <td>29812</td>\n",
              "      <td>247</td>\n",
              "      <td>0</td>\n",
              "      <td>156492</td>\n",
              "      <td>0.000000</td>\n",
              "      <td>0.764562</td>\n",
              "      <td>0</td>\n",
              "      <td>1407164</td>\n",
              "      <td>0</td>\n",
              "    </tr>\n",
              "    <tr>\n",
              "      <th>4</th>\n",
              "      <td>0</td>\n",
              "      <td>0</td>\n",
              "      <td>102</td>\n",
              "      <td>5959</td>\n",
              "      <td>4</td>\n",
              "      <td>65231</td>\n",
              "      <td>5795</td>\n",
              "      <td>5</td>\n",
              "      <td>5</td>\n",
              "      <td>25962</td>\n",
              "      <td>0</td>\n",
              "      <td>0</td>\n",
              "      <td>0</td>\n",
              "      <td>62</td>\n",
              "      <td>93290</td>\n",
              "      <td>80881</td>\n",
              "      <td>263</td>\n",
              "      <td>0</td>\n",
              "      <td>105534</td>\n",
              "      <td>0.000000</td>\n",
              "      <td>0.916687</td>\n",
              "      <td>0</td>\n",
              "      <td>1051004</td>\n",
              "      <td>0</td>\n",
              "    </tr>\n",
              "  </tbody>\n",
              "</table>\n",
              "</div>"
            ],
            "text/plain": [
              "   stscd  ecfg  stocn  ...  risk_mchno    txkey  fraud_ind\n",
              "0      0     0    102  ...           0   516056          0\n",
              "1      0     0    102  ...           0     4376          0\n",
              "2      0     0    102  ...           0   483434          0\n",
              "3      0     0    102  ...           0  1407164          0\n",
              "4      0     0    102  ...           0  1051004          0\n",
              "\n",
              "[5 rows x 24 columns]"
            ]
          },
          "metadata": {
            "tags": []
          },
          "execution_count": 29
        }
      ]
    },
    {
      "cell_type": "code",
      "metadata": {
        "id": "KrPHpIDwteeU",
        "colab_type": "code",
        "colab": {
          "base_uri": "https://localhost:8080/",
          "height": 238
        },
        "outputId": "3d7408ce-e550-4fb4-93c5-aff3e75bf0ee"
      },
      "source": [
        "print(test.shape)\n",
        "print(test.isnull().sum().sum())\n",
        "test.head()"
      ],
      "execution_count": 30,
      "outputs": [
        {
          "output_type": "stream",
          "text": [
            "(421665, 23)\n",
            "0\n"
          ],
          "name": "stdout"
        },
        {
          "output_type": "execute_result",
          "data": {
            "text/html": [
              "<div>\n",
              "<style scoped>\n",
              "    .dataframe tbody tr th:only-of-type {\n",
              "        vertical-align: middle;\n",
              "    }\n",
              "\n",
              "    .dataframe tbody tr th {\n",
              "        vertical-align: top;\n",
              "    }\n",
              "\n",
              "    .dataframe thead th {\n",
              "        text-align: right;\n",
              "    }\n",
              "</style>\n",
              "<table border=\"1\" class=\"dataframe\">\n",
              "  <thead>\n",
              "    <tr style=\"text-align: right;\">\n",
              "      <th></th>\n",
              "      <th>stscd</th>\n",
              "      <th>ecfg</th>\n",
              "      <th>stocn</th>\n",
              "      <th>acqic</th>\n",
              "      <th>etymd</th>\n",
              "      <th>loctm</th>\n",
              "      <th>scity</th>\n",
              "      <th>hcefg</th>\n",
              "      <th>contp</th>\n",
              "      <th>conam</th>\n",
              "      <th>insfg</th>\n",
              "      <th>ovrlt</th>\n",
              "      <th>flg_3dsmk</th>\n",
              "      <th>csmcu</th>\n",
              "      <th>mchno</th>\n",
              "      <th>cano</th>\n",
              "      <th>mcc</th>\n",
              "      <th>flbmk</th>\n",
              "      <th>bacno</th>\n",
              "      <th>mchno_stscd_2_norm_count</th>\n",
              "      <th>acqic_ecfg_0_norm_count</th>\n",
              "      <th>risk_mchno</th>\n",
              "      <th>txkey</th>\n",
              "    </tr>\n",
              "  </thead>\n",
              "  <tbody>\n",
              "    <tr>\n",
              "      <th>1521787</th>\n",
              "      <td>0</td>\n",
              "      <td>0</td>\n",
              "      <td>102</td>\n",
              "      <td>6862</td>\n",
              "      <td>0</td>\n",
              "      <td>77950</td>\n",
              "      <td>0</td>\n",
              "      <td>5</td>\n",
              "      <td>5</td>\n",
              "      <td>16158</td>\n",
              "      <td>0</td>\n",
              "      <td>0</td>\n",
              "      <td>0</td>\n",
              "      <td>0</td>\n",
              "      <td>59060</td>\n",
              "      <td>116168</td>\n",
              "      <td>457</td>\n",
              "      <td>0</td>\n",
              "      <td>162489</td>\n",
              "      <td>0.00193</td>\n",
              "      <td>1.0</td>\n",
              "      <td>0</td>\n",
              "      <td>592489</td>\n",
              "    </tr>\n",
              "    <tr>\n",
              "      <th>1521788</th>\n",
              "      <td>0</td>\n",
              "      <td>0</td>\n",
              "      <td>102</td>\n",
              "      <td>6862</td>\n",
              "      <td>0</td>\n",
              "      <td>79549</td>\n",
              "      <td>0</td>\n",
              "      <td>5</td>\n",
              "      <td>5</td>\n",
              "      <td>16158</td>\n",
              "      <td>0</td>\n",
              "      <td>0</td>\n",
              "      <td>0</td>\n",
              "      <td>0</td>\n",
              "      <td>59060</td>\n",
              "      <td>116168</td>\n",
              "      <td>457</td>\n",
              "      <td>0</td>\n",
              "      <td>162489</td>\n",
              "      <td>0.00193</td>\n",
              "      <td>1.0</td>\n",
              "      <td>0</td>\n",
              "      <td>592452</td>\n",
              "    </tr>\n",
              "    <tr>\n",
              "      <th>1521789</th>\n",
              "      <td>0</td>\n",
              "      <td>0</td>\n",
              "      <td>102</td>\n",
              "      <td>6862</td>\n",
              "      <td>0</td>\n",
              "      <td>60355</td>\n",
              "      <td>0</td>\n",
              "      <td>5</td>\n",
              "      <td>5</td>\n",
              "      <td>16158</td>\n",
              "      <td>0</td>\n",
              "      <td>0</td>\n",
              "      <td>0</td>\n",
              "      <td>0</td>\n",
              "      <td>59060</td>\n",
              "      <td>116168</td>\n",
              "      <td>457</td>\n",
              "      <td>0</td>\n",
              "      <td>162489</td>\n",
              "      <td>0.00193</td>\n",
              "      <td>1.0</td>\n",
              "      <td>0</td>\n",
              "      <td>590212</td>\n",
              "    </tr>\n",
              "    <tr>\n",
              "      <th>1521790</th>\n",
              "      <td>0</td>\n",
              "      <td>0</td>\n",
              "      <td>102</td>\n",
              "      <td>6862</td>\n",
              "      <td>0</td>\n",
              "      <td>60296</td>\n",
              "      <td>0</td>\n",
              "      <td>5</td>\n",
              "      <td>5</td>\n",
              "      <td>16158</td>\n",
              "      <td>0</td>\n",
              "      <td>0</td>\n",
              "      <td>0</td>\n",
              "      <td>0</td>\n",
              "      <td>59060</td>\n",
              "      <td>116168</td>\n",
              "      <td>457</td>\n",
              "      <td>0</td>\n",
              "      <td>162489</td>\n",
              "      <td>0.00193</td>\n",
              "      <td>1.0</td>\n",
              "      <td>0</td>\n",
              "      <td>590209</td>\n",
              "    </tr>\n",
              "    <tr>\n",
              "      <th>1521791</th>\n",
              "      <td>0</td>\n",
              "      <td>0</td>\n",
              "      <td>102</td>\n",
              "      <td>6862</td>\n",
              "      <td>0</td>\n",
              "      <td>77933</td>\n",
              "      <td>0</td>\n",
              "      <td>5</td>\n",
              "      <td>5</td>\n",
              "      <td>16158</td>\n",
              "      <td>0</td>\n",
              "      <td>0</td>\n",
              "      <td>0</td>\n",
              "      <td>0</td>\n",
              "      <td>59060</td>\n",
              "      <td>116168</td>\n",
              "      <td>457</td>\n",
              "      <td>0</td>\n",
              "      <td>162489</td>\n",
              "      <td>0.00193</td>\n",
              "      <td>1.0</td>\n",
              "      <td>0</td>\n",
              "      <td>592488</td>\n",
              "    </tr>\n",
              "  </tbody>\n",
              "</table>\n",
              "</div>"
            ],
            "text/plain": [
              "         stscd  ecfg  stocn  ...  acqic_ecfg_0_norm_count  risk_mchno   txkey\n",
              "1521787      0     0    102  ...                      1.0           0  592489\n",
              "1521788      0     0    102  ...                      1.0           0  592452\n",
              "1521789      0     0    102  ...                      1.0           0  590212\n",
              "1521790      0     0    102  ...                      1.0           0  590209\n",
              "1521791      0     0    102  ...                      1.0           0  592488\n",
              "\n",
              "[5 rows x 23 columns]"
            ]
          },
          "metadata": {
            "tags": []
          },
          "execution_count": 30
        }
      ]
    },
    {
      "cell_type": "markdown",
      "metadata": {
        "id": "AVoSyDqQtiBx",
        "colab_type": "text"
      },
      "source": [
        "# save"
      ]
    },
    {
      "cell_type": "code",
      "metadata": {
        "id": "prWYrxOltgG4",
        "colab_type": "code",
        "colab": {
          "base_uri": "https://localhost:8080/",
          "height": 34
        },
        "outputId": "c302052f-7f8b-4cc4-d68f-040a9d937f41"
      },
      "source": [
        "train.to_csv(\"/content/drive/My Drive/玉山人工智慧比賽數據/train_特徵工程完.csv\")\n",
        "test.to_csv(\"/content/drive/My Drive/玉山人工智慧比賽數據/test_特徵工程完.csv\")\n",
        "print('save done!')"
      ],
      "execution_count": 31,
      "outputs": [
        {
          "output_type": "stream",
          "text": [
            "save done!\n"
          ],
          "name": "stdout"
        }
      ]
    },
    {
      "cell_type": "code",
      "metadata": {
        "id": "8YKI0rqJtkpl",
        "colab_type": "code",
        "colab": {}
      },
      "source": [
        ""
      ],
      "execution_count": 0,
      "outputs": []
    }
  ]
}