{
  "nbformat": 4,
  "nbformat_minor": 0,
  "metadata": {
    "colab": {
      "name": "CNN_stock.ipynb",
      "version": "0.3.2",
      "provenance": [],
      "collapsed_sections": [],
      "include_colab_link": true
    },
    "kernelspec": {
      "name": "python3",
      "display_name": "Python 3"
    },
    "accelerator": "GPU"
  },
  "cells": [
    {
      "cell_type": "markdown",
      "metadata": {
        "id": "view-in-github",
        "colab_type": "text"
      },
      "source": [
        "<a href=\"https://colab.research.google.com/github/skywalker0803r/Ricky/blob/master/CNN_stock_v12.ipynb\" target=\"_parent\"><img src=\"https://colab.research.google.com/assets/colab-badge.svg\" alt=\"Open In Colab\"/></a>"
      ]
    },
    {
      "cell_type": "code",
      "metadata": {
        "id": "g7NPpY26_qJm",
        "colab_type": "code",
        "colab": {}
      },
      "source": [
        "import pandas as pd\n",
        "import seaborn as sns\n",
        "import pandas_datareader.data as web\n",
        "#!pip install finta\n",
        "SID = '^TWII'\n",
        "df = web.DataReader(SID,'yahoo',start=\"2000-01-01\")\n",
        "df = df.iloc[:,:5]"
      ],
      "execution_count": 0,
      "outputs": []
    },
    {
      "cell_type": "markdown",
      "metadata": {
        "id": "6vaRLIuvJlZ7",
        "colab_type": "text"
      },
      "source": [
        "# 載入資料"
      ]
    },
    {
      "cell_type": "code",
      "metadata": {
        "id": "kRKHlNGl_7JV",
        "colab_type": "code",
        "outputId": "7832fba9-01b9-4081-afcd-faac02db494a",
        "colab": {
          "base_uri": "https://localhost:8080/",
          "height": 190
        }
      },
      "source": [
        "print(df.shape)\n",
        "df.head(3)"
      ],
      "execution_count": 2,
      "outputs": [
        {
          "output_type": "stream",
          "text": [
            "(4847, 5)\n"
          ],
          "name": "stdout"
        },
        {
          "output_type": "execute_result",
          "data": {
            "text/html": [
              "<div>\n",
              "<style scoped>\n",
              "    .dataframe tbody tr th:only-of-type {\n",
              "        vertical-align: middle;\n",
              "    }\n",
              "\n",
              "    .dataframe tbody tr th {\n",
              "        vertical-align: top;\n",
              "    }\n",
              "\n",
              "    .dataframe thead th {\n",
              "        text-align: right;\n",
              "    }\n",
              "</style>\n",
              "<table border=\"1\" class=\"dataframe\">\n",
              "  <thead>\n",
              "    <tr style=\"text-align: right;\">\n",
              "      <th></th>\n",
              "      <th>High</th>\n",
              "      <th>Low</th>\n",
              "      <th>Open</th>\n",
              "      <th>Close</th>\n",
              "      <th>Volume</th>\n",
              "    </tr>\n",
              "    <tr>\n",
              "      <th>Date</th>\n",
              "      <th></th>\n",
              "      <th></th>\n",
              "      <th></th>\n",
              "      <th></th>\n",
              "      <th></th>\n",
              "    </tr>\n",
              "  </thead>\n",
              "  <tbody>\n",
              "    <tr>\n",
              "      <th>2000-01-04</th>\n",
              "      <td>8803.610352</td>\n",
              "      <td>8642.500000</td>\n",
              "      <td>8644.910156</td>\n",
              "      <td>8756.549805</td>\n",
              "      <td>0.0</td>\n",
              "    </tr>\n",
              "    <tr>\n",
              "      <th>2000-01-05</th>\n",
              "      <td>8867.679688</td>\n",
              "      <td>8668.019531</td>\n",
              "      <td>8690.599609</td>\n",
              "      <td>8849.870117</td>\n",
              "      <td>0.0</td>\n",
              "    </tr>\n",
              "    <tr>\n",
              "      <th>2000-01-06</th>\n",
              "      <td>9023.990234</td>\n",
              "      <td>8833.910156</td>\n",
              "      <td>8900.559570</td>\n",
              "      <td>8922.030273</td>\n",
              "      <td>0.0</td>\n",
              "    </tr>\n",
              "  </tbody>\n",
              "</table>\n",
              "</div>"
            ],
            "text/plain": [
              "                   High          Low         Open        Close  Volume\n",
              "Date                                                                  \n",
              "2000-01-04  8803.610352  8642.500000  8644.910156  8756.549805     0.0\n",
              "2000-01-05  8867.679688  8668.019531  8690.599609  8849.870117     0.0\n",
              "2000-01-06  9023.990234  8833.910156  8900.559570  8922.030273     0.0"
            ]
          },
          "metadata": {
            "tags": []
          },
          "execution_count": 2
        }
      ]
    },
    {
      "cell_type": "code",
      "metadata": {
        "id": "9YvzTIEDddVx",
        "colab_type": "code",
        "outputId": "24857528-6166-4e3f-ad8c-bf0c8fb43b19",
        "colab": {
          "base_uri": "https://localhost:8080/",
          "height": 173
        }
      },
      "source": [
        "df.tail(3)"
      ],
      "execution_count": 3,
      "outputs": [
        {
          "output_type": "execute_result",
          "data": {
            "text/html": [
              "<div>\n",
              "<style scoped>\n",
              "    .dataframe tbody tr th:only-of-type {\n",
              "        vertical-align: middle;\n",
              "    }\n",
              "\n",
              "    .dataframe tbody tr th {\n",
              "        vertical-align: top;\n",
              "    }\n",
              "\n",
              "    .dataframe thead th {\n",
              "        text-align: right;\n",
              "    }\n",
              "</style>\n",
              "<table border=\"1\" class=\"dataframe\">\n",
              "  <thead>\n",
              "    <tr style=\"text-align: right;\">\n",
              "      <th></th>\n",
              "      <th>High</th>\n",
              "      <th>Low</th>\n",
              "      <th>Open</th>\n",
              "      <th>Close</th>\n",
              "      <th>Volume</th>\n",
              "    </tr>\n",
              "    <tr>\n",
              "      <th>Date</th>\n",
              "      <th></th>\n",
              "      <th></th>\n",
              "      <th></th>\n",
              "      <th></th>\n",
              "      <th></th>\n",
              "    </tr>\n",
              "  </thead>\n",
              "  <tbody>\n",
              "    <tr>\n",
              "      <th>2019-09-06</th>\n",
              "      <td>10803.070312</td>\n",
              "      <td>10753.450195</td>\n",
              "      <td>10783.459961</td>\n",
              "      <td>10780.639648</td>\n",
              "      <td>2.376172e+09</td>\n",
              "    </tr>\n",
              "    <tr>\n",
              "      <th>2019-09-10</th>\n",
              "      <td>10810.030273</td>\n",
              "      <td>10732.780273</td>\n",
              "      <td>10791.950195</td>\n",
              "      <td>10753.580078</td>\n",
              "      <td>2.275041e+09</td>\n",
              "    </tr>\n",
              "    <tr>\n",
              "      <th>2019-09-11</th>\n",
              "      <td>10815.589844</td>\n",
              "      <td>10746.870117</td>\n",
              "      <td>10787.650391</td>\n",
              "      <td>10790.349609</td>\n",
              "      <td>2.151830e+09</td>\n",
              "    </tr>\n",
              "  </tbody>\n",
              "</table>\n",
              "</div>"
            ],
            "text/plain": [
              "                    High           Low  ...         Close        Volume\n",
              "Date                                    ...                            \n",
              "2019-09-06  10803.070312  10753.450195  ...  10780.639648  2.376172e+09\n",
              "2019-09-10  10810.030273  10732.780273  ...  10753.580078  2.275041e+09\n",
              "2019-09-11  10815.589844  10746.870117  ...  10790.349609  2.151830e+09\n",
              "\n",
              "[3 rows x 5 columns]"
            ]
          },
          "metadata": {
            "tags": []
          },
          "execution_count": 3
        }
      ]
    },
    {
      "cell_type": "markdown",
      "metadata": {
        "id": "ZsFMU68NI85j",
        "colab_type": "text"
      },
      "source": [
        "# Labeling(計算return)"
      ]
    },
    {
      "cell_type": "code",
      "metadata": {
        "id": "WaNG41cBI9BT",
        "colab_type": "code",
        "colab": {}
      },
      "source": [
        "#今天股價 = df['Close']\n",
        "#昨天股價 = df['Close'].shift(1)\n",
        "#df['return%'] = (今天股價/昨天股價-1)*100\n",
        "#print(df['return%'].min(),df['return%'].max())\n",
        "#sns.distplot(df['return%'].dropna())\n",
        "#df.tail()"
      ],
      "execution_count": 0,
      "outputs": []
    },
    {
      "cell_type": "markdown",
      "metadata": {
        "id": "HegmuvBN0FKD",
        "colab_type": "text"
      },
      "source": [
        "# Label triple_barrier"
      ]
    },
    {
      "cell_type": "code",
      "metadata": {
        "id": "RFsmFQfF0FXt",
        "colab_type": "code",
        "colab": {}
      },
      "source": [
        "import numpy as np\n",
        "import math\n",
        "def triple_barrier(price, ub, lb, max_period):\n",
        "\n",
        "    def end_price(s):\n",
        "        return np.append(s[(s / s[0] > ub) | (s / s[0] < lb)], s[-1])[0]/s[0]\n",
        "    \n",
        "    r = np.array(range(max_period))\n",
        "    \n",
        "    def end_time(s):\n",
        "        return np.append(r[(s / s[0] > ub) | (s / s[0] < lb)], max_period-1)[0]\n",
        "\n",
        "    p = price.rolling(max_period).apply(end_price, raw=True).shift(-max_period+1)\n",
        "    t = price.rolling(max_period).apply(end_time, raw=True).shift(-max_period+1)\n",
        "    t = pd.Series([t.index[int(k+i)] if not math.isnan(k+i) else np.datetime64('NaT') \n",
        "                   for i, k in enumerate(t)], index=t.index).dropna()\n",
        "\n",
        "    signal = pd.Series(0, p.index)\n",
        "    signal.loc[p > ub] = 1\n",
        "    signal.loc[p < lb] = -1\n",
        "    ret = pd.DataFrame({'triple_barrier_profit':p, 'triple_barrier_sell_time':t, 'triple_barrier_signal':signal})\n",
        "\n",
        "    return ret\n",
        "\n",
        "ret = triple_barrier(df.Close,1.03,0.97,20)['triple_barrier_signal']\n",
        "df = df.join(ret)"
      ],
      "execution_count": 0,
      "outputs": []
    },
    {
      "cell_type": "code",
      "metadata": {
        "id": "MHRZWGG40a3q",
        "colab_type": "code",
        "outputId": "aea2efe2-fd7b-4a8a-9810-f5d08bef7441",
        "colab": {
          "base_uri": "https://localhost:8080/",
          "height": 700
        }
      },
      "source": [
        "df.tail(20)"
      ],
      "execution_count": 6,
      "outputs": [
        {
          "output_type": "execute_result",
          "data": {
            "text/html": [
              "<div>\n",
              "<style scoped>\n",
              "    .dataframe tbody tr th:only-of-type {\n",
              "        vertical-align: middle;\n",
              "    }\n",
              "\n",
              "    .dataframe tbody tr th {\n",
              "        vertical-align: top;\n",
              "    }\n",
              "\n",
              "    .dataframe thead th {\n",
              "        text-align: right;\n",
              "    }\n",
              "</style>\n",
              "<table border=\"1\" class=\"dataframe\">\n",
              "  <thead>\n",
              "    <tr style=\"text-align: right;\">\n",
              "      <th></th>\n",
              "      <th>High</th>\n",
              "      <th>Low</th>\n",
              "      <th>Open</th>\n",
              "      <th>Close</th>\n",
              "      <th>Volume</th>\n",
              "      <th>triple_barrier_signal</th>\n",
              "    </tr>\n",
              "    <tr>\n",
              "      <th>Date</th>\n",
              "      <th></th>\n",
              "      <th></th>\n",
              "      <th></th>\n",
              "      <th></th>\n",
              "      <th></th>\n",
              "      <th></th>\n",
              "    </tr>\n",
              "  </thead>\n",
              "  <tbody>\n",
              "    <tr>\n",
              "      <th>2019-08-14</th>\n",
              "      <td>10518.019531</td>\n",
              "      <td>10427.730469</td>\n",
              "      <td>10444.500000</td>\n",
              "      <td>10427.730469</td>\n",
              "      <td>2.618377e+09</td>\n",
              "      <td>1</td>\n",
              "    </tr>\n",
              "    <tr>\n",
              "      <th>2019-08-15</th>\n",
              "      <td>10374.750000</td>\n",
              "      <td>10287.759766</td>\n",
              "      <td>10374.750000</td>\n",
              "      <td>10327.129883</td>\n",
              "      <td>2.414020e+09</td>\n",
              "      <td>0</td>\n",
              "    </tr>\n",
              "    <tr>\n",
              "      <th>2019-08-16</th>\n",
              "      <td>10456.320312</td>\n",
              "      <td>10318.370117</td>\n",
              "      <td>10345.419922</td>\n",
              "      <td>10420.889648</td>\n",
              "      <td>2.566052e+09</td>\n",
              "      <td>0</td>\n",
              "    </tr>\n",
              "    <tr>\n",
              "      <th>2019-08-19</th>\n",
              "      <td>10516.049805</td>\n",
              "      <td>10449.389648</td>\n",
              "      <td>10449.389648</td>\n",
              "      <td>10488.750000</td>\n",
              "      <td>2.353813e+09</td>\n",
              "      <td>0</td>\n",
              "    </tr>\n",
              "    <tr>\n",
              "      <th>2019-08-20</th>\n",
              "      <td>10538.120117</td>\n",
              "      <td>10497.129883</td>\n",
              "      <td>10508.419922</td>\n",
              "      <td>10522.500000</td>\n",
              "      <td>2.290847e+09</td>\n",
              "      <td>0</td>\n",
              "    </tr>\n",
              "    <tr>\n",
              "      <th>2019-08-21</th>\n",
              "      <td>10545.250000</td>\n",
              "      <td>10504.490234</td>\n",
              "      <td>10526.870117</td>\n",
              "      <td>10525.799805</td>\n",
              "      <td>2.139265e+09</td>\n",
              "      <td>0</td>\n",
              "    </tr>\n",
              "    <tr>\n",
              "      <th>2019-08-22</th>\n",
              "      <td>10596.410156</td>\n",
              "      <td>10515.719727</td>\n",
              "      <td>10560.009766</td>\n",
              "      <td>10529.780273</td>\n",
              "      <td>2.281352e+09</td>\n",
              "      <td>0</td>\n",
              "    </tr>\n",
              "    <tr>\n",
              "      <th>2019-08-23</th>\n",
              "      <td>10541.730469</td>\n",
              "      <td>10503.070312</td>\n",
              "      <td>10526.150391</td>\n",
              "      <td>10538.110352</td>\n",
              "      <td>1.896147e+09</td>\n",
              "      <td>0</td>\n",
              "    </tr>\n",
              "    <tr>\n",
              "      <th>2019-08-26</th>\n",
              "      <td>10453.400391</td>\n",
              "      <td>10340.150391</td>\n",
              "      <td>10453.400391</td>\n",
              "      <td>10354.570312</td>\n",
              "      <td>2.015693e+09</td>\n",
              "      <td>0</td>\n",
              "    </tr>\n",
              "    <tr>\n",
              "      <th>2019-08-27</th>\n",
              "      <td>10431.780273</td>\n",
              "      <td>10368.959961</td>\n",
              "      <td>10386.209961</td>\n",
              "      <td>10387.230469</td>\n",
              "      <td>2.298779e+09</td>\n",
              "      <td>0</td>\n",
              "    </tr>\n",
              "    <tr>\n",
              "      <th>2019-08-28</th>\n",
              "      <td>10456.299805</td>\n",
              "      <td>10397.599609</td>\n",
              "      <td>10397.599609</td>\n",
              "      <td>10434.290039</td>\n",
              "      <td>1.678286e+09</td>\n",
              "      <td>0</td>\n",
              "    </tr>\n",
              "    <tr>\n",
              "      <th>2019-08-29</th>\n",
              "      <td>10466.990234</td>\n",
              "      <td>10406.490234</td>\n",
              "      <td>10440.150391</td>\n",
              "      <td>10462.429688</td>\n",
              "      <td>2.062954e+09</td>\n",
              "      <td>0</td>\n",
              "    </tr>\n",
              "    <tr>\n",
              "      <th>2019-08-30</th>\n",
              "      <td>10618.049805</td>\n",
              "      <td>10504.280273</td>\n",
              "      <td>10504.280273</td>\n",
              "      <td>10618.049805</td>\n",
              "      <td>2.823728e+09</td>\n",
              "      <td>0</td>\n",
              "    </tr>\n",
              "    <tr>\n",
              "      <th>2019-09-02</th>\n",
              "      <td>10634.849609</td>\n",
              "      <td>10589.419922</td>\n",
              "      <td>10613.190430</td>\n",
              "      <td>10634.849609</td>\n",
              "      <td>2.078558e+09</td>\n",
              "      <td>0</td>\n",
              "    </tr>\n",
              "    <tr>\n",
              "      <th>2019-09-03</th>\n",
              "      <td>10650.150391</td>\n",
              "      <td>10557.030273</td>\n",
              "      <td>10629.219727</td>\n",
              "      <td>10558.209961</td>\n",
              "      <td>1.996956e+09</td>\n",
              "      <td>0</td>\n",
              "    </tr>\n",
              "    <tr>\n",
              "      <th>2019-09-04</th>\n",
              "      <td>10670.429688</td>\n",
              "      <td>10566.320312</td>\n",
              "      <td>10566.320312</td>\n",
              "      <td>10657.309570</td>\n",
              "      <td>2.090578e+09</td>\n",
              "      <td>0</td>\n",
              "    </tr>\n",
              "    <tr>\n",
              "      <th>2019-09-05</th>\n",
              "      <td>10766.599609</td>\n",
              "      <td>10714.269531</td>\n",
              "      <td>10718.400391</td>\n",
              "      <td>10756.929688</td>\n",
              "      <td>2.805213e+09</td>\n",
              "      <td>0</td>\n",
              "    </tr>\n",
              "    <tr>\n",
              "      <th>2019-09-06</th>\n",
              "      <td>10803.070312</td>\n",
              "      <td>10753.450195</td>\n",
              "      <td>10783.459961</td>\n",
              "      <td>10780.639648</td>\n",
              "      <td>2.376172e+09</td>\n",
              "      <td>0</td>\n",
              "    </tr>\n",
              "    <tr>\n",
              "      <th>2019-09-10</th>\n",
              "      <td>10810.030273</td>\n",
              "      <td>10732.780273</td>\n",
              "      <td>10791.950195</td>\n",
              "      <td>10753.580078</td>\n",
              "      <td>2.275041e+09</td>\n",
              "      <td>0</td>\n",
              "    </tr>\n",
              "    <tr>\n",
              "      <th>2019-09-11</th>\n",
              "      <td>10815.589844</td>\n",
              "      <td>10746.870117</td>\n",
              "      <td>10787.650391</td>\n",
              "      <td>10790.349609</td>\n",
              "      <td>2.151830e+09</td>\n",
              "      <td>0</td>\n",
              "    </tr>\n",
              "  </tbody>\n",
              "</table>\n",
              "</div>"
            ],
            "text/plain": [
              "                    High           Low  ...        Volume  triple_barrier_signal\n",
              "Date                                    ...                                     \n",
              "2019-08-14  10518.019531  10427.730469  ...  2.618377e+09                      1\n",
              "2019-08-15  10374.750000  10287.759766  ...  2.414020e+09                      0\n",
              "2019-08-16  10456.320312  10318.370117  ...  2.566052e+09                      0\n",
              "2019-08-19  10516.049805  10449.389648  ...  2.353813e+09                      0\n",
              "2019-08-20  10538.120117  10497.129883  ...  2.290847e+09                      0\n",
              "2019-08-21  10545.250000  10504.490234  ...  2.139265e+09                      0\n",
              "2019-08-22  10596.410156  10515.719727  ...  2.281352e+09                      0\n",
              "2019-08-23  10541.730469  10503.070312  ...  1.896147e+09                      0\n",
              "2019-08-26  10453.400391  10340.150391  ...  2.015693e+09                      0\n",
              "2019-08-27  10431.780273  10368.959961  ...  2.298779e+09                      0\n",
              "2019-08-28  10456.299805  10397.599609  ...  1.678286e+09                      0\n",
              "2019-08-29  10466.990234  10406.490234  ...  2.062954e+09                      0\n",
              "2019-08-30  10618.049805  10504.280273  ...  2.823728e+09                      0\n",
              "2019-09-02  10634.849609  10589.419922  ...  2.078558e+09                      0\n",
              "2019-09-03  10650.150391  10557.030273  ...  1.996956e+09                      0\n",
              "2019-09-04  10670.429688  10566.320312  ...  2.090578e+09                      0\n",
              "2019-09-05  10766.599609  10714.269531  ...  2.805213e+09                      0\n",
              "2019-09-06  10803.070312  10753.450195  ...  2.376172e+09                      0\n",
              "2019-09-10  10810.030273  10732.780273  ...  2.275041e+09                      0\n",
              "2019-09-11  10815.589844  10746.870117  ...  2.151830e+09                      0\n",
              "\n",
              "[20 rows x 6 columns]"
            ]
          },
          "metadata": {
            "tags": []
          },
          "execution_count": 6
        }
      ]
    },
    {
      "cell_type": "code",
      "metadata": {
        "id": "tK_VXl2R1Osh",
        "colab_type": "code",
        "colab": {
          "base_uri": "https://localhost:8080/",
          "height": 301
        },
        "outputId": "26104365-0612-4178-e303-52a9acffb1d9"
      },
      "source": [
        "df['triple_barrier_signal'].value_counts()\n",
        "sns.countplot(df['triple_barrier_signal'])"
      ],
      "execution_count": 7,
      "outputs": [
        {
          "output_type": "execute_result",
          "data": {
            "text/plain": [
              "<matplotlib.axes._subplots.AxesSubplot at 0x7f95595c5ac8>"
            ]
          },
          "metadata": {
            "tags": []
          },
          "execution_count": 7
        },
        {
          "output_type": "display_data",
          "data": {
            "image/png": "[encoded data removed]",
            "text/plain": [
              "<Figure size 432x288 with 1 Axes>"
            ]
          },
          "metadata": {
            "tags": []
          }
        }
      ]
    },
    {
      "cell_type": "code",
      "metadata": {
        "id": "Qti5Zd4-jOrH",
        "colab_type": "code",
        "outputId": "2f017d01-c0c1-426d-ce4a-5a3ee4e92fe1",
        "colab": {
          "base_uri": "https://localhost:8080/",
          "height": 289
        }
      },
      "source": [
        "import matplotlib.pyplot as plt\n",
        "buy = df[df['triple_barrier_signal']==1]['Close']\n",
        "sell = df[df['triple_barrier_signal']==-1]['Close']\n",
        "df['Close'][-40:].plot()#後20筆是前20筆的驗證\n",
        "plt.scatter(buy.index,buy.values,color='red')\n",
        "plt.scatter(sell.index,sell.values,color='black')\n",
        "lb = df['Close'][-40:].mean() - 2*df['Close'][-40:].std()\n",
        "ub = df['Close'][-40:].mean() + 2*df['Close'][-40:].std()\n",
        "plt.ylim(lb,ub)\n",
        "plt.show()"
      ],
      "execution_count": 8,
      "outputs": [
        {
          "output_type": "display_data",
          "data": {
            "image/png": "[encoded data removed]",
            "text/plain": [
              "<Figure size 432x288 with 1 Axes>"
            ]
          },
          "metadata": {
            "tags": []
          }
        }
      ]
    },
    {
      "cell_type": "markdown",
      "metadata": {
        "id": "HUtEilqGfIJl",
        "colab_type": "text"
      },
      "source": [
        "# 建立ohlcv"
      ]
    },
    {
      "cell_type": "code",
      "metadata": {
        "id": "FdFhLZkYfKpN",
        "colab_type": "code",
        "colab": {}
      },
      "source": [
        "from finta import TA\n",
        "ohlcv = df[['Open','High','Low','Close','Volume']]\n",
        "ohlcv.columns = ['open','high','low','close','volume']"
      ],
      "execution_count": 0,
      "outputs": []
    },
    {
      "cell_type": "markdown",
      "metadata": {
        "id": "9K9RepGQwbQQ",
        "colab_type": "text"
      },
      "source": [
        "# 計算技術指標RSI"
      ]
    },
    {
      "cell_type": "code",
      "metadata": {
        "id": "ZZkpnqk9e0Rw",
        "colab_type": "code",
        "outputId": "6c2e4e17-4468-4b61-f84a-d6b6d03d601f",
        "colab": {
          "base_uri": "https://localhost:8080/",
          "height": 654
        }
      },
      "source": [
        "df['RSI'] = TA.RSI(ohlcv)\n",
        "print(df['RSI'].describe())\n",
        "sns.distplot(df['RSI'].dropna())\n",
        "df.tail()"
      ],
      "execution_count": 10,
      "outputs": [
        {
          "output_type": "stream",
          "text": [
            "count    4846.000000\n",
            "mean       52.567720\n",
            "std        17.312752\n",
            "min         4.606342\n",
            "25%        39.454287\n",
            "50%        53.550274\n",
            "75%        65.715994\n",
            "max       100.000000\n",
            "Name: RSI, dtype: float64\n"
          ],
          "name": "stdout"
        },
        {
          "output_type": "execute_result",
          "data": {
            "text/html": [
              "<div>\n",
              "<style scoped>\n",
              "    .dataframe tbody tr th:only-of-type {\n",
              "        vertical-align: middle;\n",
              "    }\n",
              "\n",
              "    .dataframe tbody tr th {\n",
              "        vertical-align: top;\n",
              "    }\n",
              "\n",
              "    .dataframe thead th {\n",
              "        text-align: right;\n",
              "    }\n",
              "</style>\n",
              "<table border=\"1\" class=\"dataframe\">\n",
              "  <thead>\n",
              "    <tr style=\"text-align: right;\">\n",
              "      <th></th>\n",
              "      <th>High</th>\n",
              "      <th>Low</th>\n",
              "      <th>Open</th>\n",
              "      <th>Close</th>\n",
              "      <th>Volume</th>\n",
              "      <th>triple_barrier_signal</th>\n",
              "      <th>RSI</th>\n",
              "    </tr>\n",
              "    <tr>\n",
              "      <th>Date</th>\n",
              "      <th></th>\n",
              "      <th></th>\n",
              "      <th></th>\n",
              "      <th></th>\n",
              "      <th></th>\n",
              "      <th></th>\n",
              "      <th></th>\n",
              "    </tr>\n",
              "  </thead>\n",
              "  <tbody>\n",
              "    <tr>\n",
              "      <th>2019-09-04</th>\n",
              "      <td>10670.429688</td>\n",
              "      <td>10566.320312</td>\n",
              "      <td>10566.320312</td>\n",
              "      <td>10657.309570</td>\n",
              "      <td>2.090578e+09</td>\n",
              "      <td>0</td>\n",
              "      <td>63.617686</td>\n",
              "    </tr>\n",
              "    <tr>\n",
              "      <th>2019-09-05</th>\n",
              "      <td>10766.599609</td>\n",
              "      <td>10714.269531</td>\n",
              "      <td>10718.400391</td>\n",
              "      <td>10756.929688</td>\n",
              "      <td>2.805213e+09</td>\n",
              "      <td>0</td>\n",
              "      <td>70.330664</td>\n",
              "    </tr>\n",
              "    <tr>\n",
              "      <th>2019-09-06</th>\n",
              "      <td>10803.070312</td>\n",
              "      <td>10753.450195</td>\n",
              "      <td>10783.459961</td>\n",
              "      <td>10780.639648</td>\n",
              "      <td>2.376172e+09</td>\n",
              "      <td>0</td>\n",
              "      <td>71.761526</td>\n",
              "    </tr>\n",
              "    <tr>\n",
              "      <th>2019-09-10</th>\n",
              "      <td>10810.030273</td>\n",
              "      <td>10732.780273</td>\n",
              "      <td>10791.950195</td>\n",
              "      <td>10753.580078</td>\n",
              "      <td>2.275041e+09</td>\n",
              "      <td>0</td>\n",
              "      <td>67.476249</td>\n",
              "    </tr>\n",
              "    <tr>\n",
              "      <th>2019-09-11</th>\n",
              "      <td>10815.589844</td>\n",
              "      <td>10746.870117</td>\n",
              "      <td>10787.650391</td>\n",
              "      <td>10790.349609</td>\n",
              "      <td>2.151830e+09</td>\n",
              "      <td>0</td>\n",
              "      <td>70.260662</td>\n",
              "    </tr>\n",
              "  </tbody>\n",
              "</table>\n",
              "</div>"
            ],
            "text/plain": [
              "                    High           Low  ...  triple_barrier_signal        RSI\n",
              "Date                                    ...                                  \n",
              "2019-09-04  10670.429688  10566.320312  ...                      0  63.617686\n",
              "2019-09-05  10766.599609  10714.269531  ...                      0  70.330664\n",
              "2019-09-06  10803.070312  10753.450195  ...                      0  71.761526\n",
              "2019-09-10  10810.030273  10732.780273  ...                      0  67.476249\n",
              "2019-09-11  10815.589844  10746.870117  ...                      0  70.260662\n",
              "\n",
              "[5 rows x 7 columns]"
            ]
          },
          "metadata": {
            "tags": []
          },
          "execution_count": 10
        },
        {
          "output_type": "display_data",
          "data": {
            "image/png": "[encoded data removed]",
            "text/plain": [
              "<Figure size 432x288 with 1 Axes>"
            ]
          },
          "metadata": {
            "tags": []
          }
        }
      ]
    },
    {
      "cell_type": "markdown",
      "metadata": {
        "id": "fZXZuQe93pJE",
        "colab_type": "text"
      },
      "source": [
        "# 計算威廉指標"
      ]
    },
    {
      "cell_type": "code",
      "metadata": {
        "id": "Q8_qx-dnfPJa",
        "colab_type": "code",
        "outputId": "588c05d9-3cd6-4845-80a3-ecc333ec2da6",
        "colab": {
          "base_uri": "https://localhost:8080/",
          "height": 654
        }
      },
      "source": [
        "df['Williams %R'] = TA.WILLIAMS(ohlcv)\n",
        "print(df['Williams %R'].describe())\n",
        "sns.distplot(df['Williams %R'].dropna())\n",
        "df.tail()"
      ],
      "execution_count": 11,
      "outputs": [
        {
          "output_type": "stream",
          "text": [
            "count    4834.000000\n",
            "mean      -44.120851\n",
            "std        32.199897\n",
            "min      -100.000000\n",
            "25%       -74.580554\n",
            "50%       -39.430772\n",
            "75%       -13.815743\n",
            "max        -0.000000\n",
            "Name: Williams %R, dtype: float64\n"
          ],
          "name": "stdout"
        },
        {
          "output_type": "execute_result",
          "data": {
            "text/html": [
              "<div>\n",
              "<style scoped>\n",
              "    .dataframe tbody tr th:only-of-type {\n",
              "        vertical-align: middle;\n",
              "    }\n",
              "\n",
              "    .dataframe tbody tr th {\n",
              "        vertical-align: top;\n",
              "    }\n",
              "\n",
              "    .dataframe thead th {\n",
              "        text-align: right;\n",
              "    }\n",
              "</style>\n",
              "<table border=\"1\" class=\"dataframe\">\n",
              "  <thead>\n",
              "    <tr style=\"text-align: right;\">\n",
              "      <th></th>\n",
              "      <th>High</th>\n",
              "      <th>Low</th>\n",
              "      <th>Open</th>\n",
              "      <th>Close</th>\n",
              "      <th>Volume</th>\n",
              "      <th>triple_barrier_signal</th>\n",
              "      <th>RSI</th>\n",
              "      <th>Williams %R</th>\n",
              "    </tr>\n",
              "    <tr>\n",
              "      <th>Date</th>\n",
              "      <th></th>\n",
              "      <th></th>\n",
              "      <th></th>\n",
              "      <th></th>\n",
              "      <th></th>\n",
              "      <th></th>\n",
              "      <th></th>\n",
              "      <th></th>\n",
              "    </tr>\n",
              "  </thead>\n",
              "  <tbody>\n",
              "    <tr>\n",
              "      <th>2019-09-04</th>\n",
              "      <td>10670.429688</td>\n",
              "      <td>10566.320312</td>\n",
              "      <td>10566.320312</td>\n",
              "      <td>10657.309570</td>\n",
              "      <td>2.090578e+09</td>\n",
              "      <td>0</td>\n",
              "      <td>63.617686</td>\n",
              "      <td>-3.726675</td>\n",
              "    </tr>\n",
              "    <tr>\n",
              "      <th>2019-09-05</th>\n",
              "      <td>10766.599609</td>\n",
              "      <td>10714.269531</td>\n",
              "      <td>10718.400391</td>\n",
              "      <td>10756.929688</td>\n",
              "      <td>2.805213e+09</td>\n",
              "      <td>0</td>\n",
              "      <td>70.330664</td>\n",
              "      <td>-2.267544</td>\n",
              "    </tr>\n",
              "    <tr>\n",
              "      <th>2019-09-06</th>\n",
              "      <td>10803.070312</td>\n",
              "      <td>10753.450195</td>\n",
              "      <td>10783.459961</td>\n",
              "      <td>10780.639648</td>\n",
              "      <td>2.376172e+09</td>\n",
              "      <td>0</td>\n",
              "      <td>71.761526</td>\n",
              "      <td>-4.845474</td>\n",
              "    </tr>\n",
              "    <tr>\n",
              "      <th>2019-09-10</th>\n",
              "      <td>10810.030273</td>\n",
              "      <td>10732.780273</td>\n",
              "      <td>10791.950195</td>\n",
              "      <td>10753.580078</td>\n",
              "      <td>2.275041e+09</td>\n",
              "      <td>0</td>\n",
              "      <td>67.476249</td>\n",
              "      <td>-12.013750</td>\n",
              "    </tr>\n",
              "    <tr>\n",
              "      <th>2019-09-11</th>\n",
              "      <td>10815.589844</td>\n",
              "      <td>10746.870117</td>\n",
              "      <td>10787.650391</td>\n",
              "      <td>10790.349609</td>\n",
              "      <td>2.151830e+09</td>\n",
              "      <td>0</td>\n",
              "      <td>70.260662</td>\n",
              "      <td>-5.308822</td>\n",
              "    </tr>\n",
              "  </tbody>\n",
              "</table>\n",
              "</div>"
            ],
            "text/plain": [
              "                    High           Low  ...        RSI  Williams %R\n",
              "Date                                    ...                        \n",
              "2019-09-04  10670.429688  10566.320312  ...  63.617686    -3.726675\n",
              "2019-09-05  10766.599609  10714.269531  ...  70.330664    -2.267544\n",
              "2019-09-06  10803.070312  10753.450195  ...  71.761526    -4.845474\n",
              "2019-09-10  10810.030273  10732.780273  ...  67.476249   -12.013750\n",
              "2019-09-11  10815.589844  10746.870117  ...  70.260662    -5.308822\n",
              "\n",
              "[5 rows x 8 columns]"
            ]
          },
          "metadata": {
            "tags": []
          },
          "execution_count": 11
        },
        {
          "output_type": "display_data",
          "data": {
            "image/png": "[encoded data removed]",
            "text/plain": [
              "<Figure size 432x288 with 1 Axes>"
            ]
          },
          "metadata": {
            "tags": []
          }
        }
      ]
    },
    {
      "cell_type": "markdown",
      "metadata": {
        "id": "xK4jb6KTDdGa",
        "colab_type": "text"
      },
      "source": [
        "# SMA"
      ]
    },
    {
      "cell_type": "code",
      "metadata": {
        "id": "osETw-NkfgfL",
        "colab_type": "code",
        "outputId": "b2e704ff-73ba-4df8-8ddb-08b3c42c28f0",
        "colab": {
          "base_uri": "https://localhost:8080/",
          "height": 654
        }
      },
      "source": [
        "df['SMA'] = TA.SMA(ohlcv)\n",
        "print(df['SMA'].describe())\n",
        "sns.distplot(df['SMA'].dropna())\n",
        "df.tail()"
      ],
      "execution_count": 12,
      "outputs": [
        {
          "output_type": "stream",
          "text": [
            "count     4807.000000\n",
            "mean      7619.314304\n",
            "std       1788.294965\n",
            "min       3821.469018\n",
            "25%       6059.001572\n",
            "50%       7800.676377\n",
            "75%       8908.268793\n",
            "max      10922.561952\n",
            "Name: SMA, dtype: float64\n"
          ],
          "name": "stdout"
        },
        {
          "output_type": "execute_result",
          "data": {
            "text/html": [
              "<div>\n",
              "<style scoped>\n",
              "    .dataframe tbody tr th:only-of-type {\n",
              "        vertical-align: middle;\n",
              "    }\n",
              "\n",
              "    .dataframe tbody tr th {\n",
              "        vertical-align: top;\n",
              "    }\n",
              "\n",
              "    .dataframe thead th {\n",
              "        text-align: right;\n",
              "    }\n",
              "</style>\n",
              "<table border=\"1\" class=\"dataframe\">\n",
              "  <thead>\n",
              "    <tr style=\"text-align: right;\">\n",
              "      <th></th>\n",
              "      <th>High</th>\n",
              "      <th>Low</th>\n",
              "      <th>Open</th>\n",
              "      <th>Close</th>\n",
              "      <th>Volume</th>\n",
              "      <th>triple_barrier_signal</th>\n",
              "      <th>RSI</th>\n",
              "      <th>Williams %R</th>\n",
              "      <th>SMA</th>\n",
              "    </tr>\n",
              "    <tr>\n",
              "      <th>Date</th>\n",
              "      <th></th>\n",
              "      <th></th>\n",
              "      <th></th>\n",
              "      <th></th>\n",
              "      <th></th>\n",
              "      <th></th>\n",
              "      <th></th>\n",
              "      <th></th>\n",
              "      <th></th>\n",
              "    </tr>\n",
              "  </thead>\n",
              "  <tbody>\n",
              "    <tr>\n",
              "      <th>2019-09-04</th>\n",
              "      <td>10670.429688</td>\n",
              "      <td>10566.320312</td>\n",
              "      <td>10566.320312</td>\n",
              "      <td>10657.309570</td>\n",
              "      <td>2.090578e+09</td>\n",
              "      <td>0</td>\n",
              "      <td>63.617686</td>\n",
              "      <td>-3.726675</td>\n",
              "      <td>10642.344203</td>\n",
              "    </tr>\n",
              "    <tr>\n",
              "      <th>2019-09-05</th>\n",
              "      <td>10766.599609</td>\n",
              "      <td>10714.269531</td>\n",
              "      <td>10718.400391</td>\n",
              "      <td>10756.929688</td>\n",
              "      <td>2.805213e+09</td>\n",
              "      <td>0</td>\n",
              "      <td>70.330664</td>\n",
              "      <td>-2.267544</td>\n",
              "      <td>10643.664920</td>\n",
              "    </tr>\n",
              "    <tr>\n",
              "      <th>2019-09-06</th>\n",
              "      <td>10803.070312</td>\n",
              "      <td>10753.450195</td>\n",
              "      <td>10783.459961</td>\n",
              "      <td>10780.639648</td>\n",
              "      <td>2.376172e+09</td>\n",
              "      <td>0</td>\n",
              "      <td>71.761526</td>\n",
              "      <td>-4.845474</td>\n",
              "      <td>10643.229778</td>\n",
              "    </tr>\n",
              "    <tr>\n",
              "      <th>2019-09-10</th>\n",
              "      <td>10810.030273</td>\n",
              "      <td>10732.780273</td>\n",
              "      <td>10791.950195</td>\n",
              "      <td>10753.580078</td>\n",
              "      <td>2.275041e+09</td>\n",
              "      <td>0</td>\n",
              "      <td>67.476249</td>\n",
              "      <td>-12.013750</td>\n",
              "      <td>10641.038562</td>\n",
              "    </tr>\n",
              "    <tr>\n",
              "      <th>2019-09-11</th>\n",
              "      <td>10815.589844</td>\n",
              "      <td>10746.870117</td>\n",
              "      <td>10787.650391</td>\n",
              "      <td>10790.349609</td>\n",
              "      <td>2.151830e+09</td>\n",
              "      <td>0</td>\n",
              "      <td>70.260662</td>\n",
              "      <td>-5.308822</td>\n",
              "      <td>10640.209294</td>\n",
              "    </tr>\n",
              "  </tbody>\n",
              "</table>\n",
              "</div>"
            ],
            "text/plain": [
              "                    High           Low  ...  Williams %R           SMA\n",
              "Date                                    ...                           \n",
              "2019-09-04  10670.429688  10566.320312  ...    -3.726675  10642.344203\n",
              "2019-09-05  10766.599609  10714.269531  ...    -2.267544  10643.664920\n",
              "2019-09-06  10803.070312  10753.450195  ...    -4.845474  10643.229778\n",
              "2019-09-10  10810.030273  10732.780273  ...   -12.013750  10641.038562\n",
              "2019-09-11  10815.589844  10746.870117  ...    -5.308822  10640.209294\n",
              "\n",
              "[5 rows x 9 columns]"
            ]
          },
          "metadata": {
            "tags": []
          },
          "execution_count": 12
        },
        {
          "output_type": "display_data",
          "data": {
            "image/png": "[encoded data removed]",
            "text/plain": [
              "<Figure size 432x288 with 1 Axes>"
            ]
          },
          "metadata": {
            "tags": []
          }
        }
      ]
    },
    {
      "cell_type": "markdown",
      "metadata": {
        "id": "a2Mf0ckEoHC_",
        "colab_type": "text"
      },
      "source": [
        "# EMA"
      ]
    },
    {
      "cell_type": "code",
      "metadata": {
        "id": "EQlFyJLeh4WA",
        "colab_type": "code",
        "outputId": "dbfc64e3-6444-41b9-8bf7-a2ca6537def9",
        "colab": {
          "base_uri": "https://localhost:8080/",
          "height": 654
        }
      },
      "source": [
        "df['EMA'] = TA.EMA(ohlcv)\n",
        "print(df['EMA'].describe())\n",
        "sns.distplot(df['EMA'])\n",
        "df.tail()"
      ],
      "execution_count": 13,
      "outputs": [
        {
          "output_type": "stream",
          "text": [
            "count     4847.000000\n",
            "mean      7637.221890\n",
            "std       1804.157062\n",
            "min       3570.937692\n",
            "25%       6075.966996\n",
            "50%       7809.771053\n",
            "75%       8944.196694\n",
            "max      11134.288080\n",
            "Name: EMA, dtype: float64\n"
          ],
          "name": "stdout"
        },
        {
          "output_type": "execute_result",
          "data": {
            "text/html": [
              "<div>\n",
              "<style scoped>\n",
              "    .dataframe tbody tr th:only-of-type {\n",
              "        vertical-align: middle;\n",
              "    }\n",
              "\n",
              "    .dataframe tbody tr th {\n",
              "        vertical-align: top;\n",
              "    }\n",
              "\n",
              "    .dataframe thead th {\n",
              "        text-align: right;\n",
              "    }\n",
              "</style>\n",
              "<table border=\"1\" class=\"dataframe\">\n",
              "  <thead>\n",
              "    <tr style=\"text-align: right;\">\n",
              "      <th></th>\n",
              "      <th>High</th>\n",
              "      <th>Low</th>\n",
              "      <th>Open</th>\n",
              "      <th>Close</th>\n",
              "      <th>Volume</th>\n",
              "      <th>triple_barrier_signal</th>\n",
              "      <th>RSI</th>\n",
              "      <th>Williams %R</th>\n",
              "      <th>SMA</th>\n",
              "      <th>EMA</th>\n",
              "    </tr>\n",
              "    <tr>\n",
              "      <th>Date</th>\n",
              "      <th></th>\n",
              "      <th></th>\n",
              "      <th></th>\n",
              "      <th></th>\n",
              "      <th></th>\n",
              "      <th></th>\n",
              "      <th></th>\n",
              "      <th></th>\n",
              "      <th></th>\n",
              "      <th></th>\n",
              "    </tr>\n",
              "  </thead>\n",
              "  <tbody>\n",
              "    <tr>\n",
              "      <th>2019-09-04</th>\n",
              "      <td>10670.429688</td>\n",
              "      <td>10566.320312</td>\n",
              "      <td>10566.320312</td>\n",
              "      <td>10657.309570</td>\n",
              "      <td>2.090578e+09</td>\n",
              "      <td>0</td>\n",
              "      <td>63.617686</td>\n",
              "      <td>-3.726675</td>\n",
              "      <td>10642.344203</td>\n",
              "      <td>10551.153739</td>\n",
              "    </tr>\n",
              "    <tr>\n",
              "      <th>2019-09-05</th>\n",
              "      <td>10766.599609</td>\n",
              "      <td>10714.269531</td>\n",
              "      <td>10718.400391</td>\n",
              "      <td>10756.929688</td>\n",
              "      <td>2.805213e+09</td>\n",
              "      <td>0</td>\n",
              "      <td>70.330664</td>\n",
              "      <td>-2.267544</td>\n",
              "      <td>10643.664920</td>\n",
              "      <td>10592.308928</td>\n",
              "    </tr>\n",
              "    <tr>\n",
              "      <th>2019-09-06</th>\n",
              "      <td>10803.070312</td>\n",
              "      <td>10753.450195</td>\n",
              "      <td>10783.459961</td>\n",
              "      <td>10780.639648</td>\n",
              "      <td>2.376172e+09</td>\n",
              "      <td>0</td>\n",
              "      <td>71.761526</td>\n",
              "      <td>-4.845474</td>\n",
              "      <td>10643.229778</td>\n",
              "      <td>10629.975072</td>\n",
              "    </tr>\n",
              "    <tr>\n",
              "      <th>2019-09-10</th>\n",
              "      <td>10810.030273</td>\n",
              "      <td>10732.780273</td>\n",
              "      <td>10791.950195</td>\n",
              "      <td>10753.580078</td>\n",
              "      <td>2.275041e+09</td>\n",
              "      <td>0</td>\n",
              "      <td>67.476249</td>\n",
              "      <td>-12.013750</td>\n",
              "      <td>10641.038562</td>\n",
              "      <td>10654.696074</td>\n",
              "    </tr>\n",
              "    <tr>\n",
              "      <th>2019-09-11</th>\n",
              "      <td>10815.589844</td>\n",
              "      <td>10746.870117</td>\n",
              "      <td>10787.650391</td>\n",
              "      <td>10790.349609</td>\n",
              "      <td>2.151830e+09</td>\n",
              "      <td>0</td>\n",
              "      <td>70.260662</td>\n",
              "      <td>-5.308822</td>\n",
              "      <td>10640.209294</td>\n",
              "      <td>10681.826781</td>\n",
              "    </tr>\n",
              "  </tbody>\n",
              "</table>\n",
              "</div>"
            ],
            "text/plain": [
              "                    High           Low  ...           SMA           EMA\n",
              "Date                                    ...                            \n",
              "2019-09-04  10670.429688  10566.320312  ...  10642.344203  10551.153739\n",
              "2019-09-05  10766.599609  10714.269531  ...  10643.664920  10592.308928\n",
              "2019-09-06  10803.070312  10753.450195  ...  10643.229778  10629.975072\n",
              "2019-09-10  10810.030273  10732.780273  ...  10641.038562  10654.696074\n",
              "2019-09-11  10815.589844  10746.870117  ...  10640.209294  10681.826781\n",
              "\n",
              "[5 rows x 10 columns]"
            ]
          },
          "metadata": {
            "tags": []
          },
          "execution_count": 13
        },
        {
          "output_type": "display_data",
          "data": {
            "image/png": "[encoded data removed]",
            "text/plain": [
              "<Figure size 432x288 with 1 Axes>"
            ]
          },
          "metadata": {
            "tags": []
          }
        }
      ]
    },
    {
      "cell_type": "markdown",
      "metadata": {
        "id": "wqkaWfQryV3W",
        "colab_type": "text"
      },
      "source": [
        "# WMA"
      ]
    },
    {
      "cell_type": "code",
      "metadata": {
        "id": "9Dw9scCSieLI",
        "colab_type": "code",
        "outputId": "32ea5dae-d174-4c65-d9e7-da654cb84617",
        "colab": {
          "base_uri": "https://localhost:8080/",
          "height": 810
        }
      },
      "source": [
        "df['WMA'] = TA.WMA(ohlcv)\n",
        "print(df['WMA'].describe())\n",
        "sns.distplot(df['WMA'].dropna())\n",
        "df.tail()"
      ],
      "execution_count": 14,
      "outputs": [
        {
          "output_type": "stream",
          "text": [
            "/usr/local/lib/python3.6/dist-packages/finta/finta.py:263: FutureWarning: Currently, 'apply' passes the values as ndarrays to the applied function. In the future, this will change to passing it as Series objects. You need to specify 'raw=True' to keep the current behaviour, and you can pass 'raw=False' to silence this warning\n",
            "  wma = close_.apply(linear(weights))\n"
          ],
          "name": "stderr"
        },
        {
          "output_type": "stream",
          "text": [
            "count     4839.000000\n",
            "mean      7634.613672\n",
            "std       1806.685650\n",
            "min       3546.690218\n",
            "25%       6075.235758\n",
            "50%       7794.572070\n",
            "75%       8964.687229\n",
            "max      11186.438932\n",
            "Name: WMA, dtype: float64\n"
          ],
          "name": "stdout"
        },
        {
          "output_type": "execute_result",
          "data": {
            "text/html": [
              "<div>\n",
              "<style scoped>\n",
              "    .dataframe tbody tr th:only-of-type {\n",
              "        vertical-align: middle;\n",
              "    }\n",
              "\n",
              "    .dataframe tbody tr th {\n",
              "        vertical-align: top;\n",
              "    }\n",
              "\n",
              "    .dataframe thead th {\n",
              "        text-align: right;\n",
              "    }\n",
              "</style>\n",
              "<table border=\"1\" class=\"dataframe\">\n",
              "  <thead>\n",
              "    <tr style=\"text-align: right;\">\n",
              "      <th></th>\n",
              "      <th>High</th>\n",
              "      <th>Low</th>\n",
              "      <th>Open</th>\n",
              "      <th>Close</th>\n",
              "      <th>Volume</th>\n",
              "      <th>triple_barrier_signal</th>\n",
              "      <th>RSI</th>\n",
              "      <th>Williams %R</th>\n",
              "      <th>SMA</th>\n",
              "      <th>EMA</th>\n",
              "      <th>WMA</th>\n",
              "    </tr>\n",
              "    <tr>\n",
              "      <th>Date</th>\n",
              "      <th></th>\n",
              "      <th></th>\n",
              "      <th></th>\n",
              "      <th></th>\n",
              "      <th></th>\n",
              "      <th></th>\n",
              "      <th></th>\n",
              "      <th></th>\n",
              "      <th></th>\n",
              "      <th></th>\n",
              "      <th></th>\n",
              "    </tr>\n",
              "  </thead>\n",
              "  <tbody>\n",
              "    <tr>\n",
              "      <th>2019-09-04</th>\n",
              "      <td>10670.429688</td>\n",
              "      <td>10566.320312</td>\n",
              "      <td>10566.320312</td>\n",
              "      <td>10657.309570</td>\n",
              "      <td>2.090578e+09</td>\n",
              "      <td>0</td>\n",
              "      <td>63.617686</td>\n",
              "      <td>-3.726675</td>\n",
              "      <td>10642.344203</td>\n",
              "      <td>10551.153739</td>\n",
              "      <td>10476.856337</td>\n",
              "    </tr>\n",
              "    <tr>\n",
              "      <th>2019-09-05</th>\n",
              "      <td>10766.599609</td>\n",
              "      <td>10714.269531</td>\n",
              "      <td>10718.400391</td>\n",
              "      <td>10756.929688</td>\n",
              "      <td>2.805213e+09</td>\n",
              "      <td>0</td>\n",
              "      <td>70.330664</td>\n",
              "      <td>-2.267544</td>\n",
              "      <td>10643.664920</td>\n",
              "      <td>10592.308928</td>\n",
              "      <td>10477.320247</td>\n",
              "    </tr>\n",
              "    <tr>\n",
              "      <th>2019-09-06</th>\n",
              "      <td>10803.070312</td>\n",
              "      <td>10753.450195</td>\n",
              "      <td>10783.459961</td>\n",
              "      <td>10780.639648</td>\n",
              "      <td>2.376172e+09</td>\n",
              "      <td>0</td>\n",
              "      <td>71.761526</td>\n",
              "      <td>-4.845474</td>\n",
              "      <td>10643.229778</td>\n",
              "      <td>10629.975072</td>\n",
              "      <td>10523.960373</td>\n",
              "    </tr>\n",
              "    <tr>\n",
              "      <th>2019-09-10</th>\n",
              "      <td>10810.030273</td>\n",
              "      <td>10732.780273</td>\n",
              "      <td>10791.950195</td>\n",
              "      <td>10753.580078</td>\n",
              "      <td>2.275041e+09</td>\n",
              "      <td>0</td>\n",
              "      <td>67.476249</td>\n",
              "      <td>-12.013750</td>\n",
              "      <td>10641.038562</td>\n",
              "      <td>10654.696074</td>\n",
              "      <td>10572.209570</td>\n",
              "    </tr>\n",
              "    <tr>\n",
              "      <th>2019-09-11</th>\n",
              "      <td>10815.589844</td>\n",
              "      <td>10746.870117</td>\n",
              "      <td>10787.650391</td>\n",
              "      <td>10790.349609</td>\n",
              "      <td>2.151830e+09</td>\n",
              "      <td>0</td>\n",
              "      <td>70.260662</td>\n",
              "      <td>-5.308822</td>\n",
              "      <td>10640.209294</td>\n",
              "      <td>10681.826781</td>\n",
              "      <td>10618.959288</td>\n",
              "    </tr>\n",
              "  </tbody>\n",
              "</table>\n",
              "</div>"
            ],
            "text/plain": [
              "                    High           Low  ...           EMA           WMA\n",
              "Date                                    ...                            \n",
              "2019-09-04  10670.429688  10566.320312  ...  10551.153739  10476.856337\n",
              "2019-09-05  10766.599609  10714.269531  ...  10592.308928  10477.320247\n",
              "2019-09-06  10803.070312  10753.450195  ...  10629.975072  10523.960373\n",
              "2019-09-10  10810.030273  10732.780273  ...  10654.696074  10572.209570\n",
              "2019-09-11  10815.589844  10746.870117  ...  10681.826781  10618.959288\n",
              "\n",
              "[5 rows x 11 columns]"
            ]
          },
          "metadata": {
            "tags": []
          },
          "execution_count": 14
        },
        {
          "output_type": "display_data",
          "data": {
            "image/png": "[encoded data removed]",
            "text/plain": [
              "<Figure size 432x288 with 1 Axes>"
            ]
          },
          "metadata": {
            "tags": []
          }
        }
      ]
    },
    {
      "cell_type": "markdown",
      "metadata": {
        "id": "HNC131ghyrF1",
        "colab_type": "text"
      },
      "source": [
        "# HMA"
      ]
    },
    {
      "cell_type": "code",
      "metadata": {
        "id": "b02O6Yevi6mN",
        "colab_type": "code",
        "outputId": "96cd4bd0-d2eb-4a9e-b091-9206add90b7e",
        "colab": {
          "base_uri": "https://localhost:8080/",
          "height": 912
        }
      },
      "source": [
        "df['HMA'] = TA.HMA(ohlcv)\n",
        "print(df['HMA'].describe())\n",
        "sns.distplot(df['HMA'].dropna())\n",
        "df.tail()"
      ],
      "execution_count": 15,
      "outputs": [
        {
          "output_type": "stream",
          "text": [
            "/usr/local/lib/python3.6/dist-packages/finta/finta.py:263: FutureWarning: Currently, 'apply' passes the values as ndarrays to the applied function. In the future, this will change to passing it as Series objects. You need to specify 'raw=True' to keep the current behaviour, and you can pass 'raw=False' to silence this warning\n",
            "  wma = close_.apply(linear(weights))\n",
            "/usr/local/lib/python3.6/dist-packages/finta/finta.py:285: SettingWithCopyWarning: \n",
            "A value is trying to be set on a copy of a slice from a DataFrame.\n",
            "Try using .loc[row_indexer,col_indexer] = value instead\n",
            "\n",
            "See the caveats in the documentation: http://pandas.pydata.org/pandas-docs/stable/indexing.html#indexing-view-versus-copy\n",
            "  ohlc['deltawma'] = 2 * wmaf - wmas\n"
          ],
          "name": "stderr"
        },
        {
          "output_type": "stream",
          "text": [
            "count     4844.000000\n",
            "mean      7637.152762\n",
            "std       1809.457050\n",
            "min       3488.004028\n",
            "25%       6086.357800\n",
            "50%       7795.695044\n",
            "75%       8961.420532\n",
            "max      11215.544141\n",
            "Name: HMA, dtype: float64\n"
          ],
          "name": "stdout"
        },
        {
          "output_type": "execute_result",
          "data": {
            "text/html": [
              "<div>\n",
              "<style scoped>\n",
              "    .dataframe tbody tr th:only-of-type {\n",
              "        vertical-align: middle;\n",
              "    }\n",
              "\n",
              "    .dataframe tbody tr th {\n",
              "        vertical-align: top;\n",
              "    }\n",
              "\n",
              "    .dataframe thead th {\n",
              "        text-align: right;\n",
              "    }\n",
              "</style>\n",
              "<table border=\"1\" class=\"dataframe\">\n",
              "  <thead>\n",
              "    <tr style=\"text-align: right;\">\n",
              "      <th></th>\n",
              "      <th>High</th>\n",
              "      <th>Low</th>\n",
              "      <th>Open</th>\n",
              "      <th>Close</th>\n",
              "      <th>Volume</th>\n",
              "      <th>triple_barrier_signal</th>\n",
              "      <th>RSI</th>\n",
              "      <th>Williams %R</th>\n",
              "      <th>SMA</th>\n",
              "      <th>EMA</th>\n",
              "      <th>WMA</th>\n",
              "      <th>HMA</th>\n",
              "    </tr>\n",
              "    <tr>\n",
              "      <th>Date</th>\n",
              "      <th></th>\n",
              "      <th></th>\n",
              "      <th></th>\n",
              "      <th></th>\n",
              "      <th></th>\n",
              "      <th></th>\n",
              "      <th></th>\n",
              "      <th></th>\n",
              "      <th></th>\n",
              "      <th></th>\n",
              "      <th></th>\n",
              "      <th></th>\n",
              "    </tr>\n",
              "  </thead>\n",
              "  <tbody>\n",
              "    <tr>\n",
              "      <th>2019-09-04</th>\n",
              "      <td>10670.429688</td>\n",
              "      <td>10566.320312</td>\n",
              "      <td>10566.320312</td>\n",
              "      <td>10657.309570</td>\n",
              "      <td>2.090578e+09</td>\n",
              "      <td>0</td>\n",
              "      <td>63.617686</td>\n",
              "      <td>-3.726675</td>\n",
              "      <td>10642.344203</td>\n",
              "      <td>10551.153739</td>\n",
              "      <td>10476.856337</td>\n",
              "      <td>10615.047754</td>\n",
              "    </tr>\n",
              "    <tr>\n",
              "      <th>2019-09-05</th>\n",
              "      <td>10766.599609</td>\n",
              "      <td>10714.269531</td>\n",
              "      <td>10718.400391</td>\n",
              "      <td>10756.929688</td>\n",
              "      <td>2.805213e+09</td>\n",
              "      <td>0</td>\n",
              "      <td>70.330664</td>\n",
              "      <td>-2.267544</td>\n",
              "      <td>10643.664920</td>\n",
              "      <td>10592.308928</td>\n",
              "      <td>10477.320247</td>\n",
              "      <td>10628.557715</td>\n",
              "    </tr>\n",
              "    <tr>\n",
              "      <th>2019-09-06</th>\n",
              "      <td>10803.070312</td>\n",
              "      <td>10753.450195</td>\n",
              "      <td>10783.459961</td>\n",
              "      <td>10780.639648</td>\n",
              "      <td>2.376172e+09</td>\n",
              "      <td>0</td>\n",
              "      <td>71.761526</td>\n",
              "      <td>-4.845474</td>\n",
              "      <td>10643.229778</td>\n",
              "      <td>10629.975072</td>\n",
              "      <td>10523.960373</td>\n",
              "      <td>10649.926758</td>\n",
              "    </tr>\n",
              "    <tr>\n",
              "      <th>2019-09-10</th>\n",
              "      <td>10810.030273</td>\n",
              "      <td>10732.780273</td>\n",
              "      <td>10791.950195</td>\n",
              "      <td>10753.580078</td>\n",
              "      <td>2.275041e+09</td>\n",
              "      <td>0</td>\n",
              "      <td>67.476249</td>\n",
              "      <td>-12.013750</td>\n",
              "      <td>10641.038562</td>\n",
              "      <td>10654.696074</td>\n",
              "      <td>10572.209570</td>\n",
              "      <td>10721.488672</td>\n",
              "    </tr>\n",
              "    <tr>\n",
              "      <th>2019-09-11</th>\n",
              "      <td>10815.589844</td>\n",
              "      <td>10746.870117</td>\n",
              "      <td>10787.650391</td>\n",
              "      <td>10790.349609</td>\n",
              "      <td>2.151830e+09</td>\n",
              "      <td>0</td>\n",
              "      <td>70.260662</td>\n",
              "      <td>-5.308822</td>\n",
              "      <td>10640.209294</td>\n",
              "      <td>10681.826781</td>\n",
              "      <td>10618.959288</td>\n",
              "      <td>10766.714746</td>\n",
              "    </tr>\n",
              "  </tbody>\n",
              "</table>\n",
              "</div>"
            ],
            "text/plain": [
              "                    High           Low  ...           WMA           HMA\n",
              "Date                                    ...                            \n",
              "2019-09-04  10670.429688  10566.320312  ...  10476.856337  10615.047754\n",
              "2019-09-05  10766.599609  10714.269531  ...  10477.320247  10628.557715\n",
              "2019-09-06  10803.070312  10753.450195  ...  10523.960373  10649.926758\n",
              "2019-09-10  10810.030273  10732.780273  ...  10572.209570  10721.488672\n",
              "2019-09-11  10815.589844  10746.870117  ...  10618.959288  10766.714746\n",
              "\n",
              "[5 rows x 12 columns]"
            ]
          },
          "metadata": {
            "tags": []
          },
          "execution_count": 15
        },
        {
          "output_type": "display_data",
          "data": {
            "image/png": "[encoded data removed]",
            "text/plain": [
              "<Figure size 432x288 with 1 Axes>"
            ]
          },
          "metadata": {
            "tags": []
          }
        }
      ]
    },
    {
      "cell_type": "markdown",
      "metadata": {
        "id": "ch7SZ7aFjCit",
        "colab_type": "text"
      },
      "source": [
        "# TEMA"
      ]
    },
    {
      "cell_type": "code",
      "metadata": {
        "id": "GeS0aHxZjFtA",
        "colab_type": "code",
        "outputId": "afaac7a9-a503-43c8-8f2a-dc56a2551784",
        "colab": {
          "base_uri": "https://localhost:8080/",
          "height": 776
        }
      },
      "source": [
        "df['TEMA'] = TA.TEMA(ohlcv)\n",
        "print(df['TEMA'].describe())\n",
        "sns.distplot(df['TEMA'].dropna())\n",
        "df.tail()"
      ],
      "execution_count": 16,
      "outputs": [
        {
          "output_type": "stream",
          "text": [
            "count     4847.000000\n",
            "mean      7638.664346\n",
            "std       1812.349525\n",
            "min       3447.605265\n",
            "25%       6097.745443\n",
            "50%       7792.508746\n",
            "75%       8963.601760\n",
            "max      11249.877643\n",
            "Name: TEMA, dtype: float64\n"
          ],
          "name": "stdout"
        },
        {
          "output_type": "execute_result",
          "data": {
            "text/html": [
              "<div>\n",
              "<style scoped>\n",
              "    .dataframe tbody tr th:only-of-type {\n",
              "        vertical-align: middle;\n",
              "    }\n",
              "\n",
              "    .dataframe tbody tr th {\n",
              "        vertical-align: top;\n",
              "    }\n",
              "\n",
              "    .dataframe thead th {\n",
              "        text-align: right;\n",
              "    }\n",
              "</style>\n",
              "<table border=\"1\" class=\"dataframe\">\n",
              "  <thead>\n",
              "    <tr style=\"text-align: right;\">\n",
              "      <th></th>\n",
              "      <th>High</th>\n",
              "      <th>Low</th>\n",
              "      <th>Open</th>\n",
              "      <th>Close</th>\n",
              "      <th>Volume</th>\n",
              "      <th>triple_barrier_signal</th>\n",
              "      <th>RSI</th>\n",
              "      <th>Williams %R</th>\n",
              "      <th>SMA</th>\n",
              "      <th>EMA</th>\n",
              "      <th>WMA</th>\n",
              "      <th>HMA</th>\n",
              "      <th>TEMA</th>\n",
              "    </tr>\n",
              "    <tr>\n",
              "      <th>Date</th>\n",
              "      <th></th>\n",
              "      <th></th>\n",
              "      <th></th>\n",
              "      <th></th>\n",
              "      <th></th>\n",
              "      <th></th>\n",
              "      <th></th>\n",
              "      <th></th>\n",
              "      <th></th>\n",
              "      <th></th>\n",
              "      <th></th>\n",
              "      <th></th>\n",
              "      <th></th>\n",
              "    </tr>\n",
              "  </thead>\n",
              "  <tbody>\n",
              "    <tr>\n",
              "      <th>2019-09-04</th>\n",
              "      <td>10670.429688</td>\n",
              "      <td>10566.320312</td>\n",
              "      <td>10566.320312</td>\n",
              "      <td>10657.309570</td>\n",
              "      <td>2.090578e+09</td>\n",
              "      <td>0</td>\n",
              "      <td>63.617686</td>\n",
              "      <td>-3.726675</td>\n",
              "      <td>10642.344203</td>\n",
              "      <td>10551.153739</td>\n",
              "      <td>10476.856337</td>\n",
              "      <td>10615.047754</td>\n",
              "      <td>10639.891386</td>\n",
              "    </tr>\n",
              "    <tr>\n",
              "      <th>2019-09-05</th>\n",
              "      <td>10766.599609</td>\n",
              "      <td>10714.269531</td>\n",
              "      <td>10718.400391</td>\n",
              "      <td>10756.929688</td>\n",
              "      <td>2.805213e+09</td>\n",
              "      <td>0</td>\n",
              "      <td>70.330664</td>\n",
              "      <td>-2.267544</td>\n",
              "      <td>10643.664920</td>\n",
              "      <td>10592.308928</td>\n",
              "      <td>10477.320247</td>\n",
              "      <td>10628.557715</td>\n",
              "      <td>10715.406837</td>\n",
              "    </tr>\n",
              "    <tr>\n",
              "      <th>2019-09-06</th>\n",
              "      <td>10803.070312</td>\n",
              "      <td>10753.450195</td>\n",
              "      <td>10783.459961</td>\n",
              "      <td>10780.639648</td>\n",
              "      <td>2.376172e+09</td>\n",
              "      <td>0</td>\n",
              "      <td>71.761526</td>\n",
              "      <td>-4.845474</td>\n",
              "      <td>10643.229778</td>\n",
              "      <td>10629.975072</td>\n",
              "      <td>10523.960373</td>\n",
              "      <td>10649.926758</td>\n",
              "      <td>10771.700236</td>\n",
              "    </tr>\n",
              "    <tr>\n",
              "      <th>2019-09-10</th>\n",
              "      <td>10810.030273</td>\n",
              "      <td>10732.780273</td>\n",
              "      <td>10791.950195</td>\n",
              "      <td>10753.580078</td>\n",
              "      <td>2.275041e+09</td>\n",
              "      <td>0</td>\n",
              "      <td>67.476249</td>\n",
              "      <td>-12.013750</td>\n",
              "      <td>10641.038562</td>\n",
              "      <td>10654.696074</td>\n",
              "      <td>10572.209570</td>\n",
              "      <td>10721.488672</td>\n",
              "      <td>10790.059251</td>\n",
              "    </tr>\n",
              "    <tr>\n",
              "      <th>2019-09-11</th>\n",
              "      <td>10815.589844</td>\n",
              "      <td>10746.870117</td>\n",
              "      <td>10787.650391</td>\n",
              "      <td>10790.349609</td>\n",
              "      <td>2.151830e+09</td>\n",
              "      <td>0</td>\n",
              "      <td>70.260662</td>\n",
              "      <td>-5.308822</td>\n",
              "      <td>10640.209294</td>\n",
              "      <td>10681.826781</td>\n",
              "      <td>10618.959288</td>\n",
              "      <td>10766.714746</td>\n",
              "      <td>10815.129097</td>\n",
              "    </tr>\n",
              "  </tbody>\n",
              "</table>\n",
              "</div>"
            ],
            "text/plain": [
              "                    High           Low  ...           HMA          TEMA\n",
              "Date                                    ...                            \n",
              "2019-09-04  10670.429688  10566.320312  ...  10615.047754  10639.891386\n",
              "2019-09-05  10766.599609  10714.269531  ...  10628.557715  10715.406837\n",
              "2019-09-06  10803.070312  10753.450195  ...  10649.926758  10771.700236\n",
              "2019-09-10  10810.030273  10732.780273  ...  10721.488672  10790.059251\n",
              "2019-09-11  10815.589844  10746.870117  ...  10766.714746  10815.129097\n",
              "\n",
              "[5 rows x 13 columns]"
            ]
          },
          "metadata": {
            "tags": []
          },
          "execution_count": 16
        },
        {
          "output_type": "display_data",
          "data": {
            "image/png": "[encoded data removed]",
            "text/plain": [
              "<Figure size 432x288 with 1 Axes>"
            ]
          },
          "metadata": {
            "tags": []
          }
        }
      ]
    },
    {
      "cell_type": "markdown",
      "metadata": {
        "id": "EbMrqw5jjZaa",
        "colab_type": "text"
      },
      "source": [
        "# CCI"
      ]
    },
    {
      "cell_type": "code",
      "metadata": {
        "id": "WBfeDdkUjZiP",
        "colab_type": "code",
        "outputId": "02d04689-6f22-4222-cb1c-375732a719ba",
        "colab": {
          "base_uri": "https://localhost:8080/",
          "height": 776
        }
      },
      "source": [
        "df['CCI'] = TA.CCI(ohlcv)\n",
        "print(df['CCI'].describe())\n",
        "sns.distplot(df['CCI'].dropna())\n",
        "df.tail()"
      ],
      "execution_count": 17,
      "outputs": [
        {
          "output_type": "stream",
          "text": [
            "count    4846.000000\n",
            "mean       10.076479\n",
            "std        88.416970\n",
            "min      -243.471940\n",
            "25%       -64.510257\n",
            "50%        23.323780\n",
            "75%        83.791087\n",
            "max       241.112021\n",
            "Name: CCI, dtype: float64\n"
          ],
          "name": "stdout"
        },
        {
          "output_type": "execute_result",
          "data": {
            "text/html": [
              "<div>\n",
              "<style scoped>\n",
              "    .dataframe tbody tr th:only-of-type {\n",
              "        vertical-align: middle;\n",
              "    }\n",
              "\n",
              "    .dataframe tbody tr th {\n",
              "        vertical-align: top;\n",
              "    }\n",
              "\n",
              "    .dataframe thead th {\n",
              "        text-align: right;\n",
              "    }\n",
              "</style>\n",
              "<table border=\"1\" class=\"dataframe\">\n",
              "  <thead>\n",
              "    <tr style=\"text-align: right;\">\n",
              "      <th></th>\n",
              "      <th>High</th>\n",
              "      <th>Low</th>\n",
              "      <th>Open</th>\n",
              "      <th>Close</th>\n",
              "      <th>Volume</th>\n",
              "      <th>triple_barrier_signal</th>\n",
              "      <th>RSI</th>\n",
              "      <th>Williams %R</th>\n",
              "      <th>SMA</th>\n",
              "      <th>EMA</th>\n",
              "      <th>WMA</th>\n",
              "      <th>HMA</th>\n",
              "      <th>TEMA</th>\n",
              "      <th>CCI</th>\n",
              "    </tr>\n",
              "    <tr>\n",
              "      <th>Date</th>\n",
              "      <th></th>\n",
              "      <th></th>\n",
              "      <th></th>\n",
              "      <th></th>\n",
              "      <th></th>\n",
              "      <th></th>\n",
              "      <th></th>\n",
              "      <th></th>\n",
              "      <th></th>\n",
              "      <th></th>\n",
              "      <th></th>\n",
              "      <th></th>\n",
              "      <th></th>\n",
              "      <th></th>\n",
              "    </tr>\n",
              "  </thead>\n",
              "  <tbody>\n",
              "    <tr>\n",
              "      <th>2019-09-04</th>\n",
              "      <td>10670.429688</td>\n",
              "      <td>10566.320312</td>\n",
              "      <td>10566.320312</td>\n",
              "      <td>10657.309570</td>\n",
              "      <td>2.090578e+09</td>\n",
              "      <td>0</td>\n",
              "      <td>63.617686</td>\n",
              "      <td>-3.726675</td>\n",
              "      <td>10642.344203</td>\n",
              "      <td>10551.153739</td>\n",
              "      <td>10476.856337</td>\n",
              "      <td>10615.047754</td>\n",
              "      <td>10639.891386</td>\n",
              "      <td>118.208425</td>\n",
              "    </tr>\n",
              "    <tr>\n",
              "      <th>2019-09-05</th>\n",
              "      <td>10766.599609</td>\n",
              "      <td>10714.269531</td>\n",
              "      <td>10718.400391</td>\n",
              "      <td>10756.929688</td>\n",
              "      <td>2.805213e+09</td>\n",
              "      <td>0</td>\n",
              "      <td>70.330664</td>\n",
              "      <td>-2.267544</td>\n",
              "      <td>10643.664920</td>\n",
              "      <td>10592.308928</td>\n",
              "      <td>10477.320247</td>\n",
              "      <td>10628.557715</td>\n",
              "      <td>10715.406837</td>\n",
              "      <td>162.484886</td>\n",
              "    </tr>\n",
              "    <tr>\n",
              "      <th>2019-09-06</th>\n",
              "      <td>10803.070312</td>\n",
              "      <td>10753.450195</td>\n",
              "      <td>10783.459961</td>\n",
              "      <td>10780.639648</td>\n",
              "      <td>2.376172e+09</td>\n",
              "      <td>0</td>\n",
              "      <td>71.761526</td>\n",
              "      <td>-4.845474</td>\n",
              "      <td>10643.229778</td>\n",
              "      <td>10629.975072</td>\n",
              "      <td>10523.960373</td>\n",
              "      <td>10649.926758</td>\n",
              "      <td>10771.700236</td>\n",
              "      <td>148.438306</td>\n",
              "    </tr>\n",
              "    <tr>\n",
              "      <th>2019-09-10</th>\n",
              "      <td>10810.030273</td>\n",
              "      <td>10732.780273</td>\n",
              "      <td>10791.950195</td>\n",
              "      <td>10753.580078</td>\n",
              "      <td>2.275041e+09</td>\n",
              "      <td>0</td>\n",
              "      <td>67.476249</td>\n",
              "      <td>-12.013750</td>\n",
              "      <td>10641.038562</td>\n",
              "      <td>10654.696074</td>\n",
              "      <td>10572.209570</td>\n",
              "      <td>10721.488672</td>\n",
              "      <td>10790.059251</td>\n",
              "      <td>120.498567</td>\n",
              "    </tr>\n",
              "    <tr>\n",
              "      <th>2019-09-11</th>\n",
              "      <td>10815.589844</td>\n",
              "      <td>10746.870117</td>\n",
              "      <td>10787.650391</td>\n",
              "      <td>10790.349609</td>\n",
              "      <td>2.151830e+09</td>\n",
              "      <td>0</td>\n",
              "      <td>70.260662</td>\n",
              "      <td>-5.308822</td>\n",
              "      <td>10640.209294</td>\n",
              "      <td>10681.826781</td>\n",
              "      <td>10618.959288</td>\n",
              "      <td>10766.714746</td>\n",
              "      <td>10815.129097</td>\n",
              "      <td>113.508980</td>\n",
              "    </tr>\n",
              "  </tbody>\n",
              "</table>\n",
              "</div>"
            ],
            "text/plain": [
              "                    High           Low  ...          TEMA         CCI\n",
              "Date                                    ...                          \n",
              "2019-09-04  10670.429688  10566.320312  ...  10639.891386  118.208425\n",
              "2019-09-05  10766.599609  10714.269531  ...  10715.406837  162.484886\n",
              "2019-09-06  10803.070312  10753.450195  ...  10771.700236  148.438306\n",
              "2019-09-10  10810.030273  10732.780273  ...  10790.059251  120.498567\n",
              "2019-09-11  10815.589844  10746.870117  ...  10815.129097  113.508980\n",
              "\n",
              "[5 rows x 14 columns]"
            ]
          },
          "metadata": {
            "tags": []
          },
          "execution_count": 17
        },
        {
          "output_type": "display_data",
          "data": {
            "image/png": "[encoded data removed]",
            "text/plain": [
              "<Figure size 432x288 with 1 Axes>"
            ]
          },
          "metadata": {
            "tags": []
          }
        }
      ]
    },
    {
      "cell_type": "markdown",
      "metadata": {
        "id": "G8rAJ61cjkJ4",
        "colab_type": "text"
      },
      "source": [
        "# CMO"
      ]
    },
    {
      "cell_type": "code",
      "metadata": {
        "id": "P9EispJmjkj_",
        "colab_type": "code",
        "outputId": "527187d2-c916-4777-8a2f-718c05e836ac",
        "colab": {
          "base_uri": "https://localhost:8080/",
          "height": 776
        }
      },
      "source": [
        "df['CMO'] = TA.CMO(ohlcv)\n",
        "print(df['CMO'].describe())\n",
        "sns.distplot(df['CMO'].dropna())\n",
        "df.tail()"
      ],
      "execution_count": 18,
      "outputs": [
        {
          "output_type": "stream",
          "text": [
            "count    4838.000000\n",
            "mean        5.921479\n",
            "std        43.443525\n",
            "min      -100.000000\n",
            "25%       -26.266008\n",
            "50%         7.426151\n",
            "75%        39.153508\n",
            "max       100.000000\n",
            "Name: CMO, dtype: float64\n"
          ],
          "name": "stdout"
        },
        {
          "output_type": "execute_result",
          "data": {
            "text/html": [
              "<div>\n",
              "<style scoped>\n",
              "    .dataframe tbody tr th:only-of-type {\n",
              "        vertical-align: middle;\n",
              "    }\n",
              "\n",
              "    .dataframe tbody tr th {\n",
              "        vertical-align: top;\n",
              "    }\n",
              "\n",
              "    .dataframe thead th {\n",
              "        text-align: right;\n",
              "    }\n",
              "</style>\n",
              "<table border=\"1\" class=\"dataframe\">\n",
              "  <thead>\n",
              "    <tr style=\"text-align: right;\">\n",
              "      <th></th>\n",
              "      <th>High</th>\n",
              "      <th>Low</th>\n",
              "      <th>Open</th>\n",
              "      <th>Close</th>\n",
              "      <th>Volume</th>\n",
              "      <th>triple_barrier_signal</th>\n",
              "      <th>RSI</th>\n",
              "      <th>Williams %R</th>\n",
              "      <th>SMA</th>\n",
              "      <th>EMA</th>\n",
              "      <th>WMA</th>\n",
              "      <th>HMA</th>\n",
              "      <th>TEMA</th>\n",
              "      <th>CCI</th>\n",
              "      <th>CMO</th>\n",
              "    </tr>\n",
              "    <tr>\n",
              "      <th>Date</th>\n",
              "      <th></th>\n",
              "      <th></th>\n",
              "      <th></th>\n",
              "      <th></th>\n",
              "      <th></th>\n",
              "      <th></th>\n",
              "      <th></th>\n",
              "      <th></th>\n",
              "      <th></th>\n",
              "      <th></th>\n",
              "      <th></th>\n",
              "      <th></th>\n",
              "      <th></th>\n",
              "      <th></th>\n",
              "      <th></th>\n",
              "    </tr>\n",
              "  </thead>\n",
              "  <tbody>\n",
              "    <tr>\n",
              "      <th>2019-09-04</th>\n",
              "      <td>10670.429688</td>\n",
              "      <td>10566.320312</td>\n",
              "      <td>10566.320312</td>\n",
              "      <td>10657.309570</td>\n",
              "      <td>2.090578e+09</td>\n",
              "      <td>0</td>\n",
              "      <td>63.617686</td>\n",
              "      <td>-3.726675</td>\n",
              "      <td>10642.344203</td>\n",
              "      <td>10551.153739</td>\n",
              "      <td>10476.856337</td>\n",
              "      <td>10615.047754</td>\n",
              "      <td>10639.891386</td>\n",
              "      <td>118.208425</td>\n",
              "      <td>19.683829</td>\n",
              "    </tr>\n",
              "    <tr>\n",
              "      <th>2019-09-05</th>\n",
              "      <td>10766.599609</td>\n",
              "      <td>10714.269531</td>\n",
              "      <td>10718.400391</td>\n",
              "      <td>10756.929688</td>\n",
              "      <td>2.805213e+09</td>\n",
              "      <td>0</td>\n",
              "      <td>70.330664</td>\n",
              "      <td>-2.267544</td>\n",
              "      <td>10643.664920</td>\n",
              "      <td>10592.308928</td>\n",
              "      <td>10477.320247</td>\n",
              "      <td>10628.557715</td>\n",
              "      <td>10715.406837</td>\n",
              "      <td>162.484886</td>\n",
              "      <td>29.603035</td>\n",
              "    </tr>\n",
              "    <tr>\n",
              "      <th>2019-09-06</th>\n",
              "      <td>10803.070312</td>\n",
              "      <td>10753.450195</td>\n",
              "      <td>10783.459961</td>\n",
              "      <td>10780.639648</td>\n",
              "      <td>2.376172e+09</td>\n",
              "      <td>0</td>\n",
              "      <td>71.761526</td>\n",
              "      <td>-4.845474</td>\n",
              "      <td>10643.229778</td>\n",
              "      <td>10629.975072</td>\n",
              "      <td>10523.960373</td>\n",
              "      <td>10649.926758</td>\n",
              "      <td>10771.700236</td>\n",
              "      <td>148.438306</td>\n",
              "      <td>73.542822</td>\n",
              "    </tr>\n",
              "    <tr>\n",
              "      <th>2019-09-10</th>\n",
              "      <td>10810.030273</td>\n",
              "      <td>10732.780273</td>\n",
              "      <td>10791.950195</td>\n",
              "      <td>10753.580078</td>\n",
              "      <td>2.275041e+09</td>\n",
              "      <td>0</td>\n",
              "      <td>67.476249</td>\n",
              "      <td>-12.013750</td>\n",
              "      <td>10641.038562</td>\n",
              "      <td>10654.696074</td>\n",
              "      <td>10572.209570</td>\n",
              "      <td>10721.488672</td>\n",
              "      <td>10790.059251</td>\n",
              "      <td>120.498567</td>\n",
              "      <td>63.852001</td>\n",
              "    </tr>\n",
              "    <tr>\n",
              "      <th>2019-09-11</th>\n",
              "      <td>10815.589844</td>\n",
              "      <td>10746.870117</td>\n",
              "      <td>10787.650391</td>\n",
              "      <td>10790.349609</td>\n",
              "      <td>2.151830e+09</td>\n",
              "      <td>0</td>\n",
              "      <td>70.260662</td>\n",
              "      <td>-5.308822</td>\n",
              "      <td>10640.209294</td>\n",
              "      <td>10681.826781</td>\n",
              "      <td>10618.959288</td>\n",
              "      <td>10766.714746</td>\n",
              "      <td>10815.129097</td>\n",
              "      <td>113.508980</td>\n",
              "      <td>63.191856</td>\n",
              "    </tr>\n",
              "  </tbody>\n",
              "</table>\n",
              "</div>"
            ],
            "text/plain": [
              "                    High           Low  ...         CCI        CMO\n",
              "Date                                    ...                       \n",
              "2019-09-04  10670.429688  10566.320312  ...  118.208425  19.683829\n",
              "2019-09-05  10766.599609  10714.269531  ...  162.484886  29.603035\n",
              "2019-09-06  10803.070312  10753.450195  ...  148.438306  73.542822\n",
              "2019-09-10  10810.030273  10732.780273  ...  120.498567  63.852001\n",
              "2019-09-11  10815.589844  10746.870117  ...  113.508980  63.191856\n",
              "\n",
              "[5 rows x 15 columns]"
            ]
          },
          "metadata": {
            "tags": []
          },
          "execution_count": 18
        },
        {
          "output_type": "display_data",
          "data": {
            "image/png": "[encoded data removed]",
            "text/plain": [
              "<Figure size 432x288 with 1 Axes>"
            ]
          },
          "metadata": {
            "tags": []
          }
        }
      ]
    },
    {
      "cell_type": "markdown",
      "metadata": {
        "id": "35qI_9gZjsR0",
        "colab_type": "text"
      },
      "source": [
        "# MACD"
      ]
    },
    {
      "cell_type": "code",
      "metadata": {
        "id": "5QG4lBEfjsZb",
        "colab_type": "code",
        "outputId": "26cc9201-901b-4f18-f177-f3c87272e9b8",
        "colab": {
          "base_uri": "https://localhost:8080/",
          "height": 776
        }
      },
      "source": [
        "df['MACD'] = TA.MACD(ohlcv)['MACD'] - TA.MACD(ohlcv)['SIGNAL']\n",
        "print(df['MACD'].describe())\n",
        "sns.distplot(df['MACD'].dropna())\n",
        "df.tail()"
      ],
      "execution_count": 19,
      "outputs": [
        {
          "output_type": "stream",
          "text": [
            "count    4847.000000\n",
            "mean       -0.010605\n",
            "std        31.298031\n",
            "min      -129.904255\n",
            "25%       -18.188879\n",
            "50%         1.016593\n",
            "75%        19.389864\n",
            "max       124.384820\n",
            "Name: MACD, dtype: float64\n"
          ],
          "name": "stdout"
        },
        {
          "output_type": "execute_result",
          "data": {
            "text/html": [
              "<div>\n",
              "<style scoped>\n",
              "    .dataframe tbody tr th:only-of-type {\n",
              "        vertical-align: middle;\n",
              "    }\n",
              "\n",
              "    .dataframe tbody tr th {\n",
              "        vertical-align: top;\n",
              "    }\n",
              "\n",
              "    .dataframe thead th {\n",
              "        text-align: right;\n",
              "    }\n",
              "</style>\n",
              "<table border=\"1\" class=\"dataframe\">\n",
              "  <thead>\n",
              "    <tr style=\"text-align: right;\">\n",
              "      <th></th>\n",
              "      <th>High</th>\n",
              "      <th>Low</th>\n",
              "      <th>Open</th>\n",
              "      <th>Close</th>\n",
              "      <th>Volume</th>\n",
              "      <th>triple_barrier_signal</th>\n",
              "      <th>RSI</th>\n",
              "      <th>Williams %R</th>\n",
              "      <th>SMA</th>\n",
              "      <th>EMA</th>\n",
              "      <th>WMA</th>\n",
              "      <th>HMA</th>\n",
              "      <th>TEMA</th>\n",
              "      <th>CCI</th>\n",
              "      <th>CMO</th>\n",
              "      <th>MACD</th>\n",
              "    </tr>\n",
              "    <tr>\n",
              "      <th>Date</th>\n",
              "      <th></th>\n",
              "      <th></th>\n",
              "      <th></th>\n",
              "      <th></th>\n",
              "      <th></th>\n",
              "      <th></th>\n",
              "      <th></th>\n",
              "      <th></th>\n",
              "      <th></th>\n",
              "      <th></th>\n",
              "      <th></th>\n",
              "      <th></th>\n",
              "      <th></th>\n",
              "      <th></th>\n",
              "      <th></th>\n",
              "      <th></th>\n",
              "    </tr>\n",
              "  </thead>\n",
              "  <tbody>\n",
              "    <tr>\n",
              "      <th>2019-09-04</th>\n",
              "      <td>10670.429688</td>\n",
              "      <td>10566.320312</td>\n",
              "      <td>10566.320312</td>\n",
              "      <td>10657.309570</td>\n",
              "      <td>2.090578e+09</td>\n",
              "      <td>0</td>\n",
              "      <td>63.617686</td>\n",
              "      <td>-3.726675</td>\n",
              "      <td>10642.344203</td>\n",
              "      <td>10551.153739</td>\n",
              "      <td>10476.856337</td>\n",
              "      <td>10615.047754</td>\n",
              "      <td>10639.891386</td>\n",
              "      <td>118.208425</td>\n",
              "      <td>19.683829</td>\n",
              "      <td>32.220685</td>\n",
              "    </tr>\n",
              "    <tr>\n",
              "      <th>2019-09-05</th>\n",
              "      <td>10766.599609</td>\n",
              "      <td>10714.269531</td>\n",
              "      <td>10718.400391</td>\n",
              "      <td>10756.929688</td>\n",
              "      <td>2.805213e+09</td>\n",
              "      <td>0</td>\n",
              "      <td>70.330664</td>\n",
              "      <td>-2.267544</td>\n",
              "      <td>10643.664920</td>\n",
              "      <td>10592.308928</td>\n",
              "      <td>10477.320247</td>\n",
              "      <td>10628.557715</td>\n",
              "      <td>10715.406837</td>\n",
              "      <td>162.484886</td>\n",
              "      <td>29.603035</td>\n",
              "      <td>40.576767</td>\n",
              "    </tr>\n",
              "    <tr>\n",
              "      <th>2019-09-06</th>\n",
              "      <td>10803.070312</td>\n",
              "      <td>10753.450195</td>\n",
              "      <td>10783.459961</td>\n",
              "      <td>10780.639648</td>\n",
              "      <td>2.376172e+09</td>\n",
              "      <td>0</td>\n",
              "      <td>71.761526</td>\n",
              "      <td>-4.845474</td>\n",
              "      <td>10643.229778</td>\n",
              "      <td>10629.975072</td>\n",
              "      <td>10523.960373</td>\n",
              "      <td>10649.926758</td>\n",
              "      <td>10771.700236</td>\n",
              "      <td>148.438306</td>\n",
              "      <td>73.542822</td>\n",
              "      <td>45.547828</td>\n",
              "    </tr>\n",
              "    <tr>\n",
              "      <th>2019-09-10</th>\n",
              "      <td>10810.030273</td>\n",
              "      <td>10732.780273</td>\n",
              "      <td>10791.950195</td>\n",
              "      <td>10753.580078</td>\n",
              "      <td>2.275041e+09</td>\n",
              "      <td>0</td>\n",
              "      <td>67.476249</td>\n",
              "      <td>-12.013750</td>\n",
              "      <td>10641.038562</td>\n",
              "      <td>10654.696074</td>\n",
              "      <td>10572.209570</td>\n",
              "      <td>10721.488672</td>\n",
              "      <td>10790.059251</td>\n",
              "      <td>120.498567</td>\n",
              "      <td>63.852001</td>\n",
              "      <td>44.792827</td>\n",
              "    </tr>\n",
              "    <tr>\n",
              "      <th>2019-09-11</th>\n",
              "      <td>10815.589844</td>\n",
              "      <td>10746.870117</td>\n",
              "      <td>10787.650391</td>\n",
              "      <td>10790.349609</td>\n",
              "      <td>2.151830e+09</td>\n",
              "      <td>0</td>\n",
              "      <td>70.260662</td>\n",
              "      <td>-5.308822</td>\n",
              "      <td>10640.209294</td>\n",
              "      <td>10681.826781</td>\n",
              "      <td>10618.959288</td>\n",
              "      <td>10766.714746</td>\n",
              "      <td>10815.129097</td>\n",
              "      <td>113.508980</td>\n",
              "      <td>63.191856</td>\n",
              "      <td>44.459751</td>\n",
              "    </tr>\n",
              "  </tbody>\n",
              "</table>\n",
              "</div>"
            ],
            "text/plain": [
              "                    High           Low  ...        CMO       MACD\n",
              "Date                                    ...                      \n",
              "2019-09-04  10670.429688  10566.320312  ...  19.683829  32.220685\n",
              "2019-09-05  10766.599609  10714.269531  ...  29.603035  40.576767\n",
              "2019-09-06  10803.070312  10753.450195  ...  73.542822  45.547828\n",
              "2019-09-10  10810.030273  10732.780273  ...  63.852001  44.792827\n",
              "2019-09-11  10815.589844  10746.870117  ...  63.191856  44.459751\n",
              "\n",
              "[5 rows x 16 columns]"
            ]
          },
          "metadata": {
            "tags": []
          },
          "execution_count": 19
        },
        {
          "output_type": "display_data",
          "data": {
            "image/png": "[encoded data removed]",
            "text/plain": [
              "<Figure size 432x288 with 1 Axes>"
            ]
          },
          "metadata": {
            "tags": []
          }
        }
      ]
    },
    {
      "cell_type": "markdown",
      "metadata": {
        "id": "roEAzvV7liUA",
        "colab_type": "text"
      },
      "source": [
        "# PPO"
      ]
    },
    {
      "cell_type": "code",
      "metadata": {
        "id": "ovCLHYPXli73",
        "colab_type": "code",
        "outputId": "9606bd33-9043-41b8-daa6-25036fedfb9b",
        "colab": {
          "base_uri": "https://localhost:8080/",
          "height": 776
        }
      },
      "source": [
        "df['PPO'] = TA.PPO(ohlcv)['PPO'] - TA.PPO(ohlcv)['SIGNAL']\n",
        "print(df['PPO'].describe())\n",
        "sns.distplot(df['PPO'].dropna())\n",
        "df.tail()"
      ],
      "execution_count": 20,
      "outputs": [
        {
          "output_type": "stream",
          "text": [
            "count    4847.000000\n",
            "mean       -0.000112\n",
            "std         0.453013\n",
            "min        -1.925569\n",
            "25%        -0.253029\n",
            "50%         0.005990\n",
            "75%         0.250432\n",
            "max         1.956600\n",
            "Name: PPO, dtype: float64\n"
          ],
          "name": "stdout"
        },
        {
          "output_type": "execute_result",
          "data": {
            "text/html": [
              "<div>\n",
              "<style scoped>\n",
              "    .dataframe tbody tr th:only-of-type {\n",
              "        vertical-align: middle;\n",
              "    }\n",
              "\n",
              "    .dataframe tbody tr th {\n",
              "        vertical-align: top;\n",
              "    }\n",
              "\n",
              "    .dataframe thead th {\n",
              "        text-align: right;\n",
              "    }\n",
              "</style>\n",
              "<table border=\"1\" class=\"dataframe\">\n",
              "  <thead>\n",
              "    <tr style=\"text-align: right;\">\n",
              "      <th></th>\n",
              "      <th>High</th>\n",
              "      <th>Low</th>\n",
              "      <th>Open</th>\n",
              "      <th>Close</th>\n",
              "      <th>Volume</th>\n",
              "      <th>triple_barrier_signal</th>\n",
              "      <th>RSI</th>\n",
              "      <th>Williams %R</th>\n",
              "      <th>SMA</th>\n",
              "      <th>EMA</th>\n",
              "      <th>WMA</th>\n",
              "      <th>HMA</th>\n",
              "      <th>TEMA</th>\n",
              "      <th>CCI</th>\n",
              "      <th>CMO</th>\n",
              "      <th>MACD</th>\n",
              "      <th>PPO</th>\n",
              "    </tr>\n",
              "    <tr>\n",
              "      <th>Date</th>\n",
              "      <th></th>\n",
              "      <th></th>\n",
              "      <th></th>\n",
              "      <th></th>\n",
              "      <th></th>\n",
              "      <th></th>\n",
              "      <th></th>\n",
              "      <th></th>\n",
              "      <th></th>\n",
              "      <th></th>\n",
              "      <th></th>\n",
              "      <th></th>\n",
              "      <th></th>\n",
              "      <th></th>\n",
              "      <th></th>\n",
              "      <th></th>\n",
              "      <th></th>\n",
              "    </tr>\n",
              "  </thead>\n",
              "  <tbody>\n",
              "    <tr>\n",
              "      <th>2019-09-04</th>\n",
              "      <td>10670.429688</td>\n",
              "      <td>10566.320312</td>\n",
              "      <td>10566.320312</td>\n",
              "      <td>10657.309570</td>\n",
              "      <td>2.090578e+09</td>\n",
              "      <td>0</td>\n",
              "      <td>63.617686</td>\n",
              "      <td>-3.726675</td>\n",
              "      <td>10642.344203</td>\n",
              "      <td>10551.153739</td>\n",
              "      <td>10476.856337</td>\n",
              "      <td>10615.047754</td>\n",
              "      <td>10639.891386</td>\n",
              "      <td>118.208425</td>\n",
              "      <td>19.683829</td>\n",
              "      <td>32.220685</td>\n",
              "      <td>0.305080</td>\n",
              "    </tr>\n",
              "    <tr>\n",
              "      <th>2019-09-05</th>\n",
              "      <td>10766.599609</td>\n",
              "      <td>10714.269531</td>\n",
              "      <td>10718.400391</td>\n",
              "      <td>10756.929688</td>\n",
              "      <td>2.805213e+09</td>\n",
              "      <td>0</td>\n",
              "      <td>70.330664</td>\n",
              "      <td>-2.267544</td>\n",
              "      <td>10643.664920</td>\n",
              "      <td>10592.308928</td>\n",
              "      <td>10477.320247</td>\n",
              "      <td>10628.557715</td>\n",
              "      <td>10715.406837</td>\n",
              "      <td>162.484886</td>\n",
              "      <td>29.603035</td>\n",
              "      <td>40.576767</td>\n",
              "      <td>0.384245</td>\n",
              "    </tr>\n",
              "    <tr>\n",
              "      <th>2019-09-06</th>\n",
              "      <td>10803.070312</td>\n",
              "      <td>10753.450195</td>\n",
              "      <td>10783.459961</td>\n",
              "      <td>10780.639648</td>\n",
              "      <td>2.376172e+09</td>\n",
              "      <td>0</td>\n",
              "      <td>71.761526</td>\n",
              "      <td>-4.845474</td>\n",
              "      <td>10643.229778</td>\n",
              "      <td>10629.975072</td>\n",
              "      <td>10523.960373</td>\n",
              "      <td>10649.926758</td>\n",
              "      <td>10771.700236</td>\n",
              "      <td>148.438306</td>\n",
              "      <td>73.542822</td>\n",
              "      <td>45.547828</td>\n",
              "      <td>0.430984</td>\n",
              "    </tr>\n",
              "    <tr>\n",
              "      <th>2019-09-10</th>\n",
              "      <td>10810.030273</td>\n",
              "      <td>10732.780273</td>\n",
              "      <td>10791.950195</td>\n",
              "      <td>10753.580078</td>\n",
              "      <td>2.275041e+09</td>\n",
              "      <td>0</td>\n",
              "      <td>67.476249</td>\n",
              "      <td>-12.013750</td>\n",
              "      <td>10641.038562</td>\n",
              "      <td>10654.696074</td>\n",
              "      <td>10572.209570</td>\n",
              "      <td>10721.488672</td>\n",
              "      <td>10790.059251</td>\n",
              "      <td>120.498567</td>\n",
              "      <td>63.852001</td>\n",
              "      <td>44.792827</td>\n",
              "      <td>0.423447</td>\n",
              "    </tr>\n",
              "    <tr>\n",
              "      <th>2019-09-11</th>\n",
              "      <td>10815.589844</td>\n",
              "      <td>10746.870117</td>\n",
              "      <td>10787.650391</td>\n",
              "      <td>10790.349609</td>\n",
              "      <td>2.151830e+09</td>\n",
              "      <td>0</td>\n",
              "      <td>70.260662</td>\n",
              "      <td>-5.308822</td>\n",
              "      <td>10640.209294</td>\n",
              "      <td>10681.826781</td>\n",
              "      <td>10618.959288</td>\n",
              "      <td>10766.714746</td>\n",
              "      <td>10815.129097</td>\n",
              "      <td>113.508980</td>\n",
              "      <td>63.191856</td>\n",
              "      <td>44.459751</td>\n",
              "      <td>0.419735</td>\n",
              "    </tr>\n",
              "  </tbody>\n",
              "</table>\n",
              "</div>"
            ],
            "text/plain": [
              "                    High           Low  ...       MACD       PPO\n",
              "Date                                    ...                     \n",
              "2019-09-04  10670.429688  10566.320312  ...  32.220685  0.305080\n",
              "2019-09-05  10766.599609  10714.269531  ...  40.576767  0.384245\n",
              "2019-09-06  10803.070312  10753.450195  ...  45.547828  0.430984\n",
              "2019-09-10  10810.030273  10732.780273  ...  44.792827  0.423447\n",
              "2019-09-11  10815.589844  10746.870117  ...  44.459751  0.419735\n",
              "\n",
              "[5 rows x 17 columns]"
            ]
          },
          "metadata": {
            "tags": []
          },
          "execution_count": 20
        },
        {
          "output_type": "display_data",
          "data": {
            "image/png": "[encoded data removed]",
            "text/plain": [
              "<Figure size 432x288 with 1 Axes>"
            ]
          },
          "metadata": {
            "tags": []
          }
        }
      ]
    },
    {
      "cell_type": "markdown",
      "metadata": {
        "id": "5BBE8vaWmdGN",
        "colab_type": "text"
      },
      "source": [
        "# ROC"
      ]
    },
    {
      "cell_type": "code",
      "metadata": {
        "id": "OKI3MqwhmdOj",
        "colab_type": "code",
        "outputId": "dab22d14-1b21-4f1c-b743-4533d52406f3",
        "colab": {
          "base_uri": "https://localhost:8080/",
          "height": 776
        }
      },
      "source": [
        "df['ROC'] = TA.ROC(ohlcv)\n",
        "print(df['ROC'].describe())\n",
        "sns.distplot(df['ROC'].dropna())\n",
        "df.tail()"
      ],
      "execution_count": 21,
      "outputs": [
        {
          "output_type": "stream",
          "text": [
            "count    4835.000000\n",
            "mean        0.152387\n",
            "std         4.724344\n",
            "min       -21.364491\n",
            "25%        -2.305737\n",
            "50%         0.503352\n",
            "75%         2.806625\n",
            "max        23.364389\n",
            "Name: ROC, dtype: float64\n"
          ],
          "name": "stdout"
        },
        {
          "output_type": "execute_result",
          "data": {
            "text/html": [
              "<div>\n",
              "<style scoped>\n",
              "    .dataframe tbody tr th:only-of-type {\n",
              "        vertical-align: middle;\n",
              "    }\n",
              "\n",
              "    .dataframe tbody tr th {\n",
              "        vertical-align: top;\n",
              "    }\n",
              "\n",
              "    .dataframe thead th {\n",
              "        text-align: right;\n",
              "    }\n",
              "</style>\n",
              "<table border=\"1\" class=\"dataframe\">\n",
              "  <thead>\n",
              "    <tr style=\"text-align: right;\">\n",
              "      <th></th>\n",
              "      <th>High</th>\n",
              "      <th>Low</th>\n",
              "      <th>Open</th>\n",
              "      <th>Close</th>\n",
              "      <th>Volume</th>\n",
              "      <th>triple_barrier_signal</th>\n",
              "      <th>RSI</th>\n",
              "      <th>Williams %R</th>\n",
              "      <th>SMA</th>\n",
              "      <th>EMA</th>\n",
              "      <th>WMA</th>\n",
              "      <th>HMA</th>\n",
              "      <th>TEMA</th>\n",
              "      <th>CCI</th>\n",
              "      <th>CMO</th>\n",
              "      <th>MACD</th>\n",
              "      <th>PPO</th>\n",
              "      <th>ROC</th>\n",
              "    </tr>\n",
              "    <tr>\n",
              "      <th>Date</th>\n",
              "      <th></th>\n",
              "      <th></th>\n",
              "      <th></th>\n",
              "      <th></th>\n",
              "      <th></th>\n",
              "      <th></th>\n",
              "      <th></th>\n",
              "      <th></th>\n",
              "      <th></th>\n",
              "      <th></th>\n",
              "      <th></th>\n",
              "      <th></th>\n",
              "      <th></th>\n",
              "      <th></th>\n",
              "      <th></th>\n",
              "      <th></th>\n",
              "      <th></th>\n",
              "      <th></th>\n",
              "    </tr>\n",
              "  </thead>\n",
              "  <tbody>\n",
              "    <tr>\n",
              "      <th>2019-09-04</th>\n",
              "      <td>10670.429688</td>\n",
              "      <td>10566.320312</td>\n",
              "      <td>10566.320312</td>\n",
              "      <td>10657.309570</td>\n",
              "      <td>2.090578e+09</td>\n",
              "      <td>0</td>\n",
              "      <td>63.617686</td>\n",
              "      <td>-3.726675</td>\n",
              "      <td>10642.344203</td>\n",
              "      <td>10551.153739</td>\n",
              "      <td>10476.856337</td>\n",
              "      <td>10615.047754</td>\n",
              "      <td>10639.891386</td>\n",
              "      <td>118.208425</td>\n",
              "      <td>19.683829</td>\n",
              "      <td>32.220685</td>\n",
              "      <td>0.305080</td>\n",
              "      <td>1.607051</td>\n",
              "    </tr>\n",
              "    <tr>\n",
              "      <th>2019-09-05</th>\n",
              "      <td>10766.599609</td>\n",
              "      <td>10714.269531</td>\n",
              "      <td>10718.400391</td>\n",
              "      <td>10756.929688</td>\n",
              "      <td>2.805213e+09</td>\n",
              "      <td>0</td>\n",
              "      <td>70.330664</td>\n",
              "      <td>-2.267544</td>\n",
              "      <td>10643.664920</td>\n",
              "      <td>10592.308928</td>\n",
              "      <td>10477.320247</td>\n",
              "      <td>10628.557715</td>\n",
              "      <td>10715.406837</td>\n",
              "      <td>162.484886</td>\n",
              "      <td>29.603035</td>\n",
              "      <td>40.576767</td>\n",
              "      <td>0.384245</td>\n",
              "      <td>2.227890</td>\n",
              "    </tr>\n",
              "    <tr>\n",
              "      <th>2019-09-06</th>\n",
              "      <td>10803.070312</td>\n",
              "      <td>10753.450195</td>\n",
              "      <td>10783.459961</td>\n",
              "      <td>10780.639648</td>\n",
              "      <td>2.376172e+09</td>\n",
              "      <td>0</td>\n",
              "      <td>71.761526</td>\n",
              "      <td>-4.845474</td>\n",
              "      <td>10643.229778</td>\n",
              "      <td>10629.975072</td>\n",
              "      <td>10523.960373</td>\n",
              "      <td>10649.926758</td>\n",
              "      <td>10771.700236</td>\n",
              "      <td>148.438306</td>\n",
              "      <td>73.542822</td>\n",
              "      <td>45.547828</td>\n",
              "      <td>0.430984</td>\n",
              "      <td>2.421097</td>\n",
              "    </tr>\n",
              "    <tr>\n",
              "      <th>2019-09-10</th>\n",
              "      <td>10810.030273</td>\n",
              "      <td>10732.780273</td>\n",
              "      <td>10791.950195</td>\n",
              "      <td>10753.580078</td>\n",
              "      <td>2.275041e+09</td>\n",
              "      <td>0</td>\n",
              "      <td>67.476249</td>\n",
              "      <td>-12.013750</td>\n",
              "      <td>10641.038562</td>\n",
              "      <td>10654.696074</td>\n",
              "      <td>10572.209570</td>\n",
              "      <td>10721.488672</td>\n",
              "      <td>10790.059251</td>\n",
              "      <td>120.498567</td>\n",
              "      <td>63.852001</td>\n",
              "      <td>44.792827</td>\n",
              "      <td>0.423447</td>\n",
              "      <td>2.125399</td>\n",
              "    </tr>\n",
              "    <tr>\n",
              "      <th>2019-09-11</th>\n",
              "      <td>10815.589844</td>\n",
              "      <td>10746.870117</td>\n",
              "      <td>10787.650391</td>\n",
              "      <td>10790.349609</td>\n",
              "      <td>2.151830e+09</td>\n",
              "      <td>0</td>\n",
              "      <td>70.260662</td>\n",
              "      <td>-5.308822</td>\n",
              "      <td>10640.209294</td>\n",
              "      <td>10681.826781</td>\n",
              "      <td>10618.959288</td>\n",
              "      <td>10766.714746</td>\n",
              "      <td>10815.129097</td>\n",
              "      <td>113.508980</td>\n",
              "      <td>63.191856</td>\n",
              "      <td>44.459751</td>\n",
              "      <td>0.419735</td>\n",
              "      <td>2.393591</td>\n",
              "    </tr>\n",
              "  </tbody>\n",
              "</table>\n",
              "</div>"
            ],
            "text/plain": [
              "                    High           Low  ...       PPO       ROC\n",
              "Date                                    ...                    \n",
              "2019-09-04  10670.429688  10566.320312  ...  0.305080  1.607051\n",
              "2019-09-05  10766.599609  10714.269531  ...  0.384245  2.227890\n",
              "2019-09-06  10803.070312  10753.450195  ...  0.430984  2.421097\n",
              "2019-09-10  10810.030273  10732.780273  ...  0.423447  2.125399\n",
              "2019-09-11  10815.589844  10746.870117  ...  0.419735  2.393591\n",
              "\n",
              "[5 rows x 18 columns]"
            ]
          },
          "metadata": {
            "tags": []
          },
          "execution_count": 21
        },
        {
          "output_type": "display_data",
          "data": {
            "image/png": "[encoded data removed]",
            "text/plain": [
              "<Figure size 432x288 with 1 Axes>"
            ]
          },
          "metadata": {
            "tags": []
          }
        }
      ]
    },
    {
      "cell_type": "markdown",
      "metadata": {
        "id": "b9LTKsyvmuSd",
        "colab_type": "text"
      },
      "source": [
        "# CMFI"
      ]
    },
    {
      "cell_type": "code",
      "metadata": {
        "id": "somnlSTOmvjJ",
        "colab_type": "code",
        "outputId": "65582e47-a21f-45a9-cf4a-b5d628d4e1d7",
        "colab": {
          "base_uri": "https://localhost:8080/",
          "height": 783
        }
      },
      "source": [
        "df['CFI'] = TA.CFI(ohlcv)\n",
        "print(df['CFI'].describe())\n",
        "sns.distplot(df['CFI'].dropna())\n",
        "df.tail()"
      ],
      "execution_count": 22,
      "outputs": [
        {
          "output_type": "stream",
          "text": [
            "count    4.838000e+03\n",
            "mean     1.353349e+11\n",
            "std      5.649194e+11\n",
            "min      0.000000e+00\n",
            "25%      1.581163e+10\n",
            "50%      3.427781e+10\n",
            "75%      4.052608e+10\n",
            "max      4.159094e+12\n",
            "Name: CFI, dtype: float64\n"
          ],
          "name": "stdout"
        },
        {
          "output_type": "execute_result",
          "data": {
            "text/html": [
              "<div>\n",
              "<style scoped>\n",
              "    .dataframe tbody tr th:only-of-type {\n",
              "        vertical-align: middle;\n",
              "    }\n",
              "\n",
              "    .dataframe tbody tr th {\n",
              "        vertical-align: top;\n",
              "    }\n",
              "\n",
              "    .dataframe thead th {\n",
              "        text-align: right;\n",
              "    }\n",
              "</style>\n",
              "<table border=\"1\" class=\"dataframe\">\n",
              "  <thead>\n",
              "    <tr style=\"text-align: right;\">\n",
              "      <th></th>\n",
              "      <th>High</th>\n",
              "      <th>Low</th>\n",
              "      <th>Open</th>\n",
              "      <th>Close</th>\n",
              "      <th>Volume</th>\n",
              "      <th>triple_barrier_signal</th>\n",
              "      <th>RSI</th>\n",
              "      <th>Williams %R</th>\n",
              "      <th>SMA</th>\n",
              "      <th>EMA</th>\n",
              "      <th>WMA</th>\n",
              "      <th>HMA</th>\n",
              "      <th>TEMA</th>\n",
              "      <th>CCI</th>\n",
              "      <th>CMO</th>\n",
              "      <th>MACD</th>\n",
              "      <th>PPO</th>\n",
              "      <th>ROC</th>\n",
              "      <th>CFI</th>\n",
              "    </tr>\n",
              "    <tr>\n",
              "      <th>Date</th>\n",
              "      <th></th>\n",
              "      <th></th>\n",
              "      <th></th>\n",
              "      <th></th>\n",
              "      <th></th>\n",
              "      <th></th>\n",
              "      <th></th>\n",
              "      <th></th>\n",
              "      <th></th>\n",
              "      <th></th>\n",
              "      <th></th>\n",
              "      <th></th>\n",
              "      <th></th>\n",
              "      <th></th>\n",
              "      <th></th>\n",
              "      <th></th>\n",
              "      <th></th>\n",
              "      <th></th>\n",
              "      <th></th>\n",
              "    </tr>\n",
              "  </thead>\n",
              "  <tbody>\n",
              "    <tr>\n",
              "      <th>2019-09-04</th>\n",
              "      <td>10670.429688</td>\n",
              "      <td>10566.320312</td>\n",
              "      <td>10566.320312</td>\n",
              "      <td>10657.309570</td>\n",
              "      <td>2.090578e+09</td>\n",
              "      <td>0</td>\n",
              "      <td>63.617686</td>\n",
              "      <td>-3.726675</td>\n",
              "      <td>10642.344203</td>\n",
              "      <td>10551.153739</td>\n",
              "      <td>10476.856337</td>\n",
              "      <td>10615.047754</td>\n",
              "      <td>10639.891386</td>\n",
              "      <td>118.208425</td>\n",
              "      <td>19.683829</td>\n",
              "      <td>32.220685</td>\n",
              "      <td>0.305080</td>\n",
              "      <td>1.607051</td>\n",
              "      <td>3.188413e+12</td>\n",
              "    </tr>\n",
              "    <tr>\n",
              "      <th>2019-09-05</th>\n",
              "      <td>10766.599609</td>\n",
              "      <td>10714.269531</td>\n",
              "      <td>10718.400391</td>\n",
              "      <td>10756.929688</td>\n",
              "      <td>2.805213e+09</td>\n",
              "      <td>0</td>\n",
              "      <td>70.330664</td>\n",
              "      <td>-2.267544</td>\n",
              "      <td>10643.664920</td>\n",
              "      <td>10592.308928</td>\n",
              "      <td>10477.320247</td>\n",
              "      <td>10628.557715</td>\n",
              "      <td>10715.406837</td>\n",
              "      <td>162.484886</td>\n",
              "      <td>29.603035</td>\n",
              "      <td>40.576767</td>\n",
              "      <td>0.384245</td>\n",
              "      <td>2.227890</td>\n",
              "      <td>3.291572e+12</td>\n",
              "    </tr>\n",
              "    <tr>\n",
              "      <th>2019-09-06</th>\n",
              "      <td>10803.070312</td>\n",
              "      <td>10753.450195</td>\n",
              "      <td>10783.459961</td>\n",
              "      <td>10780.639648</td>\n",
              "      <td>2.376172e+09</td>\n",
              "      <td>0</td>\n",
              "      <td>71.761526</td>\n",
              "      <td>-4.845474</td>\n",
              "      <td>10643.229778</td>\n",
              "      <td>10629.975072</td>\n",
              "      <td>10523.960373</td>\n",
              "      <td>10649.926758</td>\n",
              "      <td>10771.700236</td>\n",
              "      <td>148.438306</td>\n",
              "      <td>73.542822</td>\n",
              "      <td>45.547828</td>\n",
              "      <td>0.430984</td>\n",
              "      <td>2.421097</td>\n",
              "      <td>3.386218e+12</td>\n",
              "    </tr>\n",
              "    <tr>\n",
              "      <th>2019-09-10</th>\n",
              "      <td>10810.030273</td>\n",
              "      <td>10732.780273</td>\n",
              "      <td>10791.950195</td>\n",
              "      <td>10753.580078</td>\n",
              "      <td>2.275041e+09</td>\n",
              "      <td>0</td>\n",
              "      <td>67.476249</td>\n",
              "      <td>-12.013750</td>\n",
              "      <td>10641.038562</td>\n",
              "      <td>10654.696074</td>\n",
              "      <td>10572.209570</td>\n",
              "      <td>10721.488672</td>\n",
              "      <td>10790.059251</td>\n",
              "      <td>120.498567</td>\n",
              "      <td>63.852001</td>\n",
              "      <td>44.792827</td>\n",
              "      <td>0.423447</td>\n",
              "      <td>2.125399</td>\n",
              "      <td>3.452463e+12</td>\n",
              "    </tr>\n",
              "    <tr>\n",
              "      <th>2019-09-11</th>\n",
              "      <td>10815.589844</td>\n",
              "      <td>10746.870117</td>\n",
              "      <td>10787.650391</td>\n",
              "      <td>10790.349609</td>\n",
              "      <td>2.151830e+09</td>\n",
              "      <td>0</td>\n",
              "      <td>70.260662</td>\n",
              "      <td>-5.308822</td>\n",
              "      <td>10640.209294</td>\n",
              "      <td>10681.826781</td>\n",
              "      <td>10618.959288</td>\n",
              "      <td>10766.714746</td>\n",
              "      <td>10815.129097</td>\n",
              "      <td>113.508980</td>\n",
              "      <td>63.191856</td>\n",
              "      <td>44.459751</td>\n",
              "      <td>0.419735</td>\n",
              "      <td>2.393591</td>\n",
              "      <td>3.521049e+12</td>\n",
              "    </tr>\n",
              "  </tbody>\n",
              "</table>\n",
              "</div>"
            ],
            "text/plain": [
              "                    High           Low  ...       ROC           CFI\n",
              "Date                                    ...                        \n",
              "2019-09-04  10670.429688  10566.320312  ...  1.607051  3.188413e+12\n",
              "2019-09-05  10766.599609  10714.269531  ...  2.227890  3.291572e+12\n",
              "2019-09-06  10803.070312  10753.450195  ...  2.421097  3.386218e+12\n",
              "2019-09-10  10810.030273  10732.780273  ...  2.125399  3.452463e+12\n",
              "2019-09-11  10815.589844  10746.870117  ...  2.393591  3.521049e+12\n",
              "\n",
              "[5 rows x 19 columns]"
            ]
          },
          "metadata": {
            "tags": []
          },
          "execution_count": 22
        },
        {
          "output_type": "display_data",
          "data": {
            "image/png": "[encoded data removed]",
            "text/plain": [
              "<Figure size 432x288 with 1 Axes>"
            ]
          },
          "metadata": {
            "tags": []
          }
        }
      ]
    },
    {
      "cell_type": "markdown",
      "metadata": {
        "id": "8WydSl0doUYk",
        "colab_type": "text"
      },
      "source": [
        "# DMI"
      ]
    },
    {
      "cell_type": "code",
      "metadata": {
        "id": "xRTnC6DboU05",
        "colab_type": "code",
        "outputId": "b9ffe4de-d7b0-4cb4-f626-3398b8bff680",
        "colab": {
          "base_uri": "https://localhost:8080/",
          "height": 1000
        }
      },
      "source": [
        "df['DMI'] = TA.DMI(ohlcv)['DI+'] - TA.DMI(ohlcv)['DI-']\n",
        "print(df['DMI'].describe())\n",
        "sns.distplot(df['DMI'].dropna())\n",
        "df.tail()"
      ],
      "execution_count": 23,
      "outputs": [
        {
          "output_type": "stream",
          "text": [
            "/usr/local/lib/python3.6/dist-packages/finta/finta.py:792: SettingWithCopyWarning: \n",
            "A value is trying to be set on a copy of a slice from a DataFrame.\n",
            "Try using .loc[row_indexer,col_indexer] = value instead\n",
            "\n",
            "See the caveats in the documentation: http://pandas.pydata.org/pandas-docs/stable/indexing.html#indexing-view-versus-copy\n",
            "  ohlc[\"up_move\"] = ohlc[\"high\"].diff()\n",
            "/usr/local/lib/python3.6/dist-packages/finta/finta.py:793: SettingWithCopyWarning: \n",
            "A value is trying to be set on a copy of a slice from a DataFrame.\n",
            "Try using .loc[row_indexer,col_indexer] = value instead\n",
            "\n",
            "See the caveats in the documentation: http://pandas.pydata.org/pandas-docs/stable/indexing.html#indexing-view-versus-copy\n",
            "  ohlc[\"down_move\"] = -ohlc[\"low\"].diff()\n",
            "/usr/local/lib/python3.6/dist-packages/finta/finta.py:809: SettingWithCopyWarning: \n",
            "A value is trying to be set on a copy of a slice from a DataFrame.\n",
            "Try using .loc[row_indexer,col_indexer] = value instead\n",
            "\n",
            "See the caveats in the documentation: http://pandas.pydata.org/pandas-docs/stable/indexing.html#indexing-view-versus-copy\n",
            "  ohlc[\"DMp\"] = DMp\n",
            "/usr/local/lib/python3.6/dist-packages/finta/finta.py:810: SettingWithCopyWarning: \n",
            "A value is trying to be set on a copy of a slice from a DataFrame.\n",
            "Try using .loc[row_indexer,col_indexer] = value instead\n",
            "\n",
            "See the caveats in the documentation: http://pandas.pydata.org/pandas-docs/stable/indexing.html#indexing-view-versus-copy\n",
            "  ohlc[\"DMm\"] = DMm\n"
          ],
          "name": "stderr"
        },
        {
          "output_type": "stream",
          "text": [
            "count    4764.000000\n",
            "mean       -1.385472\n",
            "std        24.007886\n",
            "min      -145.864342\n",
            "25%       -16.049083\n",
            "50%         1.043823\n",
            "75%        15.061799\n",
            "max        85.851380\n",
            "Name: DMI, dtype: float64\n"
          ],
          "name": "stdout"
        },
        {
          "output_type": "execute_result",
          "data": {
            "text/html": [
              "<div>\n",
              "<style scoped>\n",
              "    .dataframe tbody tr th:only-of-type {\n",
              "        vertical-align: middle;\n",
              "    }\n",
              "\n",
              "    .dataframe tbody tr th {\n",
              "        vertical-align: top;\n",
              "    }\n",
              "\n",
              "    .dataframe thead th {\n",
              "        text-align: right;\n",
              "    }\n",
              "</style>\n",
              "<table border=\"1\" class=\"dataframe\">\n",
              "  <thead>\n",
              "    <tr style=\"text-align: right;\">\n",
              "      <th></th>\n",
              "      <th>High</th>\n",
              "      <th>Low</th>\n",
              "      <th>Open</th>\n",
              "      <th>Close</th>\n",
              "      <th>Volume</th>\n",
              "      <th>triple_barrier_signal</th>\n",
              "      <th>RSI</th>\n",
              "      <th>Williams %R</th>\n",
              "      <th>SMA</th>\n",
              "      <th>EMA</th>\n",
              "      <th>WMA</th>\n",
              "      <th>HMA</th>\n",
              "      <th>TEMA</th>\n",
              "      <th>CCI</th>\n",
              "      <th>CMO</th>\n",
              "      <th>MACD</th>\n",
              "      <th>PPO</th>\n",
              "      <th>ROC</th>\n",
              "      <th>CFI</th>\n",
              "      <th>DMI</th>\n",
              "    </tr>\n",
              "    <tr>\n",
              "      <th>Date</th>\n",
              "      <th></th>\n",
              "      <th></th>\n",
              "      <th></th>\n",
              "      <th></th>\n",
              "      <th></th>\n",
              "      <th></th>\n",
              "      <th></th>\n",
              "      <th></th>\n",
              "      <th></th>\n",
              "      <th></th>\n",
              "      <th></th>\n",
              "      <th></th>\n",
              "      <th></th>\n",
              "      <th></th>\n",
              "      <th></th>\n",
              "      <th></th>\n",
              "      <th></th>\n",
              "      <th></th>\n",
              "      <th></th>\n",
              "      <th></th>\n",
              "    </tr>\n",
              "  </thead>\n",
              "  <tbody>\n",
              "    <tr>\n",
              "      <th>2019-09-04</th>\n",
              "      <td>10670.429688</td>\n",
              "      <td>10566.320312</td>\n",
              "      <td>10566.320312</td>\n",
              "      <td>10657.309570</td>\n",
              "      <td>2.090578e+09</td>\n",
              "      <td>0</td>\n",
              "      <td>63.617686</td>\n",
              "      <td>-3.726675</td>\n",
              "      <td>10642.344203</td>\n",
              "      <td>10551.153739</td>\n",
              "      <td>10476.856337</td>\n",
              "      <td>10615.047754</td>\n",
              "      <td>10639.891386</td>\n",
              "      <td>118.208425</td>\n",
              "      <td>19.683829</td>\n",
              "      <td>32.220685</td>\n",
              "      <td>0.305080</td>\n",
              "      <td>1.607051</td>\n",
              "      <td>3.188413e+12</td>\n",
              "      <td>7.480887</td>\n",
              "    </tr>\n",
              "    <tr>\n",
              "      <th>2019-09-05</th>\n",
              "      <td>10766.599609</td>\n",
              "      <td>10714.269531</td>\n",
              "      <td>10718.400391</td>\n",
              "      <td>10756.929688</td>\n",
              "      <td>2.805213e+09</td>\n",
              "      <td>0</td>\n",
              "      <td>70.330664</td>\n",
              "      <td>-2.267544</td>\n",
              "      <td>10643.664920</td>\n",
              "      <td>10592.308928</td>\n",
              "      <td>10477.320247</td>\n",
              "      <td>10628.557715</td>\n",
              "      <td>10715.406837</td>\n",
              "      <td>162.484886</td>\n",
              "      <td>29.603035</td>\n",
              "      <td>40.576767</td>\n",
              "      <td>0.384245</td>\n",
              "      <td>2.227890</td>\n",
              "      <td>3.291572e+12</td>\n",
              "      <td>19.338268</td>\n",
              "    </tr>\n",
              "    <tr>\n",
              "      <th>2019-09-06</th>\n",
              "      <td>10803.070312</td>\n",
              "      <td>10753.450195</td>\n",
              "      <td>10783.459961</td>\n",
              "      <td>10780.639648</td>\n",
              "      <td>2.376172e+09</td>\n",
              "      <td>0</td>\n",
              "      <td>71.761526</td>\n",
              "      <td>-4.845474</td>\n",
              "      <td>10643.229778</td>\n",
              "      <td>10629.975072</td>\n",
              "      <td>10523.960373</td>\n",
              "      <td>10649.926758</td>\n",
              "      <td>10771.700236</td>\n",
              "      <td>148.438306</td>\n",
              "      <td>73.542822</td>\n",
              "      <td>45.547828</td>\n",
              "      <td>0.430984</td>\n",
              "      <td>2.421097</td>\n",
              "      <td>3.386218e+12</td>\n",
              "      <td>21.718306</td>\n",
              "    </tr>\n",
              "    <tr>\n",
              "      <th>2019-09-10</th>\n",
              "      <td>10810.030273</td>\n",
              "      <td>10732.780273</td>\n",
              "      <td>10791.950195</td>\n",
              "      <td>10753.580078</td>\n",
              "      <td>2.275041e+09</td>\n",
              "      <td>0</td>\n",
              "      <td>67.476249</td>\n",
              "      <td>-12.013750</td>\n",
              "      <td>10641.038562</td>\n",
              "      <td>10654.696074</td>\n",
              "      <td>10572.209570</td>\n",
              "      <td>10721.488672</td>\n",
              "      <td>10790.059251</td>\n",
              "      <td>120.498567</td>\n",
              "      <td>63.852001</td>\n",
              "      <td>44.792827</td>\n",
              "      <td>0.423447</td>\n",
              "      <td>2.125399</td>\n",
              "      <td>3.452463e+12</td>\n",
              "      <td>15.981934</td>\n",
              "    </tr>\n",
              "    <tr>\n",
              "      <th>2019-09-11</th>\n",
              "      <td>10815.589844</td>\n",
              "      <td>10746.870117</td>\n",
              "      <td>10787.650391</td>\n",
              "      <td>10790.349609</td>\n",
              "      <td>2.151830e+09</td>\n",
              "      <td>0</td>\n",
              "      <td>70.260662</td>\n",
              "      <td>-5.308822</td>\n",
              "      <td>10640.209294</td>\n",
              "      <td>10681.826781</td>\n",
              "      <td>10618.959288</td>\n",
              "      <td>10766.714746</td>\n",
              "      <td>10815.129097</td>\n",
              "      <td>113.508980</td>\n",
              "      <td>63.191856</td>\n",
              "      <td>44.459751</td>\n",
              "      <td>0.419735</td>\n",
              "      <td>2.393591</td>\n",
              "      <td>3.521049e+12</td>\n",
              "      <td>14.624074</td>\n",
              "    </tr>\n",
              "  </tbody>\n",
              "</table>\n",
              "</div>"
            ],
            "text/plain": [
              "                    High           Low  ...           CFI        DMI\n",
              "Date                                    ...                         \n",
              "2019-09-04  10670.429688  10566.320312  ...  3.188413e+12   7.480887\n",
              "2019-09-05  10766.599609  10714.269531  ...  3.291572e+12  19.338268\n",
              "2019-09-06  10803.070312  10753.450195  ...  3.386218e+12  21.718306\n",
              "2019-09-10  10810.030273  10732.780273  ...  3.452463e+12  15.981934\n",
              "2019-09-11  10815.589844  10746.870117  ...  3.521049e+12  14.624074\n",
              "\n",
              "[5 rows x 20 columns]"
            ]
          },
          "metadata": {
            "tags": []
          },
          "execution_count": 23
        },
        {
          "output_type": "display_data",
          "data": {
            "image/png": "[encoded data removed]",
            "text/plain": [
              "<Figure size 432x288 with 1 Axes>"
            ]
          },
          "metadata": {
            "tags": []
          }
        }
      ]
    },
    {
      "cell_type": "markdown",
      "metadata": {
        "id": "96c_FgXOo98u",
        "colab_type": "text"
      },
      "source": [
        "# SAR"
      ]
    },
    {
      "cell_type": "code",
      "metadata": {
        "id": "eRPVEtrmo-bi",
        "colab_type": "code",
        "outputId": "589f9c6d-98a4-4796-e897-40b1902cd6c9",
        "colab": {
          "base_uri": "https://localhost:8080/",
          "height": 776
        }
      },
      "source": [
        "df['SAR'] = TA.SAR(ohlcv)\n",
        "print(df['SAR'].describe())\n",
        "sns.distplot(df['SAR'].dropna())\n",
        "df.tail()"
      ],
      "execution_count": 24,
      "outputs": [
        {
          "output_type": "stream",
          "text": [
            "count     4847.000000\n",
            "mean      7622.646207\n",
            "std       1817.880837\n",
            "min       3411.679932\n",
            "25%       6103.873665\n",
            "50%       7790.099967\n",
            "75%       8936.643366\n",
            "max      11270.179688\n",
            "Name: SAR, dtype: float64\n"
          ],
          "name": "stdout"
        },
        {
          "output_type": "execute_result",
          "data": {
            "text/html": [
              "<div>\n",
              "<style scoped>\n",
              "    .dataframe tbody tr th:only-of-type {\n",
              "        vertical-align: middle;\n",
              "    }\n",
              "\n",
              "    .dataframe tbody tr th {\n",
              "        vertical-align: top;\n",
              "    }\n",
              "\n",
              "    .dataframe thead th {\n",
              "        text-align: right;\n",
              "    }\n",
              "</style>\n",
              "<table border=\"1\" class=\"dataframe\">\n",
              "  <thead>\n",
              "    <tr style=\"text-align: right;\">\n",
              "      <th></th>\n",
              "      <th>High</th>\n",
              "      <th>Low</th>\n",
              "      <th>Open</th>\n",
              "      <th>Close</th>\n",
              "      <th>Volume</th>\n",
              "      <th>triple_barrier_signal</th>\n",
              "      <th>RSI</th>\n",
              "      <th>Williams %R</th>\n",
              "      <th>SMA</th>\n",
              "      <th>EMA</th>\n",
              "      <th>WMA</th>\n",
              "      <th>HMA</th>\n",
              "      <th>TEMA</th>\n",
              "      <th>CCI</th>\n",
              "      <th>CMO</th>\n",
              "      <th>MACD</th>\n",
              "      <th>PPO</th>\n",
              "      <th>ROC</th>\n",
              "      <th>CFI</th>\n",
              "      <th>DMI</th>\n",
              "      <th>SAR</th>\n",
              "    </tr>\n",
              "    <tr>\n",
              "      <th>Date</th>\n",
              "      <th></th>\n",
              "      <th></th>\n",
              "      <th></th>\n",
              "      <th></th>\n",
              "      <th></th>\n",
              "      <th></th>\n",
              "      <th></th>\n",
              "      <th></th>\n",
              "      <th></th>\n",
              "      <th></th>\n",
              "      <th></th>\n",
              "      <th></th>\n",
              "      <th></th>\n",
              "      <th></th>\n",
              "      <th></th>\n",
              "      <th></th>\n",
              "      <th></th>\n",
              "      <th></th>\n",
              "      <th></th>\n",
              "      <th></th>\n",
              "      <th></th>\n",
              "    </tr>\n",
              "  </thead>\n",
              "  <tbody>\n",
              "    <tr>\n",
              "      <th>2019-09-04</th>\n",
              "      <td>10670.429688</td>\n",
              "      <td>10566.320312</td>\n",
              "      <td>10566.320312</td>\n",
              "      <td>10657.309570</td>\n",
              "      <td>2.090578e+09</td>\n",
              "      <td>0</td>\n",
              "      <td>63.617686</td>\n",
              "      <td>-3.726675</td>\n",
              "      <td>10642.344203</td>\n",
              "      <td>10551.153739</td>\n",
              "      <td>10476.856337</td>\n",
              "      <td>10615.047754</td>\n",
              "      <td>10639.891386</td>\n",
              "      <td>118.208425</td>\n",
              "      <td>19.683829</td>\n",
              "      <td>32.220685</td>\n",
              "      <td>0.305080</td>\n",
              "      <td>1.607051</td>\n",
              "      <td>3.188413e+12</td>\n",
              "      <td>7.480887</td>\n",
              "      <td>10405.660500</td>\n",
              "    </tr>\n",
              "    <tr>\n",
              "      <th>2019-09-05</th>\n",
              "      <td>10766.599609</td>\n",
              "      <td>10714.269531</td>\n",
              "      <td>10718.400391</td>\n",
              "      <td>10756.929688</td>\n",
              "      <td>2.805213e+09</td>\n",
              "      <td>0</td>\n",
              "      <td>70.330664</td>\n",
              "      <td>-2.267544</td>\n",
              "      <td>10643.664920</td>\n",
              "      <td>10592.308928</td>\n",
              "      <td>10477.320247</td>\n",
              "      <td>10628.557715</td>\n",
              "      <td>10715.406837</td>\n",
              "      <td>162.484886</td>\n",
              "      <td>29.603035</td>\n",
              "      <td>40.576767</td>\n",
              "      <td>0.384245</td>\n",
              "      <td>2.227890</td>\n",
              "      <td>3.291572e+12</td>\n",
              "      <td>19.338268</td>\n",
              "      <td>10442.728186</td>\n",
              "    </tr>\n",
              "    <tr>\n",
              "      <th>2019-09-06</th>\n",
              "      <td>10803.070312</td>\n",
              "      <td>10753.450195</td>\n",
              "      <td>10783.459961</td>\n",
              "      <td>10780.639648</td>\n",
              "      <td>2.376172e+09</td>\n",
              "      <td>0</td>\n",
              "      <td>71.761526</td>\n",
              "      <td>-4.845474</td>\n",
              "      <td>10643.229778</td>\n",
              "      <td>10629.975072</td>\n",
              "      <td>10523.960373</td>\n",
              "      <td>10649.926758</td>\n",
              "      <td>10771.700236</td>\n",
              "      <td>148.438306</td>\n",
              "      <td>73.542822</td>\n",
              "      <td>45.547828</td>\n",
              "      <td>0.430984</td>\n",
              "      <td>2.421097</td>\n",
              "      <td>3.386218e+12</td>\n",
              "      <td>21.718306</td>\n",
              "      <td>10494.547614</td>\n",
              "    </tr>\n",
              "    <tr>\n",
              "      <th>2019-09-10</th>\n",
              "      <td>10810.030273</td>\n",
              "      <td>10732.780273</td>\n",
              "      <td>10791.950195</td>\n",
              "      <td>10753.580078</td>\n",
              "      <td>2.275041e+09</td>\n",
              "      <td>0</td>\n",
              "      <td>67.476249</td>\n",
              "      <td>-12.013750</td>\n",
              "      <td>10641.038562</td>\n",
              "      <td>10654.696074</td>\n",
              "      <td>10572.209570</td>\n",
              "      <td>10721.488672</td>\n",
              "      <td>10790.059251</td>\n",
              "      <td>120.498567</td>\n",
              "      <td>63.852001</td>\n",
              "      <td>44.792827</td>\n",
              "      <td>0.423447</td>\n",
              "      <td>2.125399</td>\n",
              "      <td>3.452463e+12</td>\n",
              "      <td>15.981934</td>\n",
              "      <td>10550.081700</td>\n",
              "    </tr>\n",
              "    <tr>\n",
              "      <th>2019-09-11</th>\n",
              "      <td>10815.589844</td>\n",
              "      <td>10746.870117</td>\n",
              "      <td>10787.650391</td>\n",
              "      <td>10790.349609</td>\n",
              "      <td>2.151830e+09</td>\n",
              "      <td>0</td>\n",
              "      <td>70.260662</td>\n",
              "      <td>-5.308822</td>\n",
              "      <td>10640.209294</td>\n",
              "      <td>10681.826781</td>\n",
              "      <td>10618.959288</td>\n",
              "      <td>10766.714746</td>\n",
              "      <td>10815.129097</td>\n",
              "      <td>113.508980</td>\n",
              "      <td>63.191856</td>\n",
              "      <td>44.459751</td>\n",
              "      <td>0.419735</td>\n",
              "      <td>2.393591</td>\n",
              "      <td>3.521049e+12</td>\n",
              "      <td>14.624074</td>\n",
              "      <td>10602.071414</td>\n",
              "    </tr>\n",
              "  </tbody>\n",
              "</table>\n",
              "</div>"
            ],
            "text/plain": [
              "                    High           Low  ...        DMI           SAR\n",
              "Date                                    ...                         \n",
              "2019-09-04  10670.429688  10566.320312  ...   7.480887  10405.660500\n",
              "2019-09-05  10766.599609  10714.269531  ...  19.338268  10442.728186\n",
              "2019-09-06  10803.070312  10753.450195  ...  21.718306  10494.547614\n",
              "2019-09-10  10810.030273  10732.780273  ...  15.981934  10550.081700\n",
              "2019-09-11  10815.589844  10746.870117  ...  14.624074  10602.071414\n",
              "\n",
              "[5 rows x 21 columns]"
            ]
          },
          "metadata": {
            "tags": []
          },
          "execution_count": 24
        },
        {
          "output_type": "display_data",
          "data": {
            "image/png": "[encoded data removed]",
            "text/plain": [
              "<Figure size 432x288 with 1 Axes>"
            ]
          },
          "metadata": {
            "tags": []
          }
        }
      ]
    },
    {
      "cell_type": "markdown",
      "metadata": {
        "id": "MoqrDEejwYOV",
        "colab_type": "text"
      },
      "source": [
        "# columns選取"
      ]
    },
    {
      "cell_type": "code",
      "metadata": {
        "id": "qrGg0ojRKuE1",
        "colab_type": "code",
        "outputId": "970599a0-89a3-49fa-d249-246c57c7803e",
        "colab": {
          "base_uri": "https://localhost:8080/",
          "height": 391
        }
      },
      "source": [
        "print(df.shape)\n",
        "df = df.dropna(axis=0)#刪除有缺失的row,會缺失主要因為用時間rolling計算技術指標導致,正常的\n",
        "features = df.columns[-15:].tolist() #取15個剛剛建立的技術指標當特徵\n",
        "y_name = 'triple_barrier_signal' #當作labels\n",
        "df = df[features+[y_name]]\n",
        "print(df.shape)\n",
        "df.tail()"
      ],
      "execution_count": 25,
      "outputs": [
        {
          "output_type": "stream",
          "text": [
            "(4847, 21)\n",
            "(4764, 16)\n"
          ],
          "name": "stdout"
        },
        {
          "output_type": "execute_result",
          "data": {
            "text/html": [
              "<div>\n",
              "<style scoped>\n",
              "    .dataframe tbody tr th:only-of-type {\n",
              "        vertical-align: middle;\n",
              "    }\n",
              "\n",
              "    .dataframe tbody tr th {\n",
              "        vertical-align: top;\n",
              "    }\n",
              "\n",
              "    .dataframe thead th {\n",
              "        text-align: right;\n",
              "    }\n",
              "</style>\n",
              "<table border=\"1\" class=\"dataframe\">\n",
              "  <thead>\n",
              "    <tr style=\"text-align: right;\">\n",
              "      <th></th>\n",
              "      <th>RSI</th>\n",
              "      <th>Williams %R</th>\n",
              "      <th>SMA</th>\n",
              "      <th>EMA</th>\n",
              "      <th>WMA</th>\n",
              "      <th>HMA</th>\n",
              "      <th>TEMA</th>\n",
              "      <th>CCI</th>\n",
              "      <th>CMO</th>\n",
              "      <th>MACD</th>\n",
              "      <th>PPO</th>\n",
              "      <th>ROC</th>\n",
              "      <th>CFI</th>\n",
              "      <th>DMI</th>\n",
              "      <th>SAR</th>\n",
              "      <th>triple_barrier_signal</th>\n",
              "    </tr>\n",
              "    <tr>\n",
              "      <th>Date</th>\n",
              "      <th></th>\n",
              "      <th></th>\n",
              "      <th></th>\n",
              "      <th></th>\n",
              "      <th></th>\n",
              "      <th></th>\n",
              "      <th></th>\n",
              "      <th></th>\n",
              "      <th></th>\n",
              "      <th></th>\n",
              "      <th></th>\n",
              "      <th></th>\n",
              "      <th></th>\n",
              "      <th></th>\n",
              "      <th></th>\n",
              "      <th></th>\n",
              "    </tr>\n",
              "  </thead>\n",
              "  <tbody>\n",
              "    <tr>\n",
              "      <th>2019-09-04</th>\n",
              "      <td>63.617686</td>\n",
              "      <td>-3.726675</td>\n",
              "      <td>10642.344203</td>\n",
              "      <td>10551.153739</td>\n",
              "      <td>10476.856337</td>\n",
              "      <td>10615.047754</td>\n",
              "      <td>10639.891386</td>\n",
              "      <td>118.208425</td>\n",
              "      <td>19.683829</td>\n",
              "      <td>32.220685</td>\n",
              "      <td>0.305080</td>\n",
              "      <td>1.607051</td>\n",
              "      <td>3.188413e+12</td>\n",
              "      <td>7.480887</td>\n",
              "      <td>10405.660500</td>\n",
              "      <td>0</td>\n",
              "    </tr>\n",
              "    <tr>\n",
              "      <th>2019-09-05</th>\n",
              "      <td>70.330664</td>\n",
              "      <td>-2.267544</td>\n",
              "      <td>10643.664920</td>\n",
              "      <td>10592.308928</td>\n",
              "      <td>10477.320247</td>\n",
              "      <td>10628.557715</td>\n",
              "      <td>10715.406837</td>\n",
              "      <td>162.484886</td>\n",
              "      <td>29.603035</td>\n",
              "      <td>40.576767</td>\n",
              "      <td>0.384245</td>\n",
              "      <td>2.227890</td>\n",
              "      <td>3.291572e+12</td>\n",
              "      <td>19.338268</td>\n",
              "      <td>10442.728186</td>\n",
              "      <td>0</td>\n",
              "    </tr>\n",
              "    <tr>\n",
              "      <th>2019-09-06</th>\n",
              "      <td>71.761526</td>\n",
              "      <td>-4.845474</td>\n",
              "      <td>10643.229778</td>\n",
              "      <td>10629.975072</td>\n",
              "      <td>10523.960373</td>\n",
              "      <td>10649.926758</td>\n",
              "      <td>10771.700236</td>\n",
              "      <td>148.438306</td>\n",
              "      <td>73.542822</td>\n",
              "      <td>45.547828</td>\n",
              "      <td>0.430984</td>\n",
              "      <td>2.421097</td>\n",
              "      <td>3.386218e+12</td>\n",
              "      <td>21.718306</td>\n",
              "      <td>10494.547614</td>\n",
              "      <td>0</td>\n",
              "    </tr>\n",
              "    <tr>\n",
              "      <th>2019-09-10</th>\n",
              "      <td>67.476249</td>\n",
              "      <td>-12.013750</td>\n",
              "      <td>10641.038562</td>\n",
              "      <td>10654.696074</td>\n",
              "      <td>10572.209570</td>\n",
              "      <td>10721.488672</td>\n",
              "      <td>10790.059251</td>\n",
              "      <td>120.498567</td>\n",
              "      <td>63.852001</td>\n",
              "      <td>44.792827</td>\n",
              "      <td>0.423447</td>\n",
              "      <td>2.125399</td>\n",
              "      <td>3.452463e+12</td>\n",
              "      <td>15.981934</td>\n",
              "      <td>10550.081700</td>\n",
              "      <td>0</td>\n",
              "    </tr>\n",
              "    <tr>\n",
              "      <th>2019-09-11</th>\n",
              "      <td>70.260662</td>\n",
              "      <td>-5.308822</td>\n",
              "      <td>10640.209294</td>\n",
              "      <td>10681.826781</td>\n",
              "      <td>10618.959288</td>\n",
              "      <td>10766.714746</td>\n",
              "      <td>10815.129097</td>\n",
              "      <td>113.508980</td>\n",
              "      <td>63.191856</td>\n",
              "      <td>44.459751</td>\n",
              "      <td>0.419735</td>\n",
              "      <td>2.393591</td>\n",
              "      <td>3.521049e+12</td>\n",
              "      <td>14.624074</td>\n",
              "      <td>10602.071414</td>\n",
              "      <td>0</td>\n",
              "    </tr>\n",
              "  </tbody>\n",
              "</table>\n",
              "</div>"
            ],
            "text/plain": [
              "                  RSI  Williams %R  ...           SAR  triple_barrier_signal\n",
              "Date                                ...                                     \n",
              "2019-09-04  63.617686    -3.726675  ...  10405.660500                      0\n",
              "2019-09-05  70.330664    -2.267544  ...  10442.728186                      0\n",
              "2019-09-06  71.761526    -4.845474  ...  10494.547614                      0\n",
              "2019-09-10  67.476249   -12.013750  ...  10550.081700                      0\n",
              "2019-09-11  70.260662    -5.308822  ...  10602.071414                      0\n",
              "\n",
              "[5 rows x 16 columns]"
            ]
          },
          "metadata": {
            "tags": []
          },
          "execution_count": 25
        }
      ]
    },
    {
      "cell_type": "markdown",
      "metadata": {
        "id": "YSh6cJBEwgtg",
        "colab_type": "text"
      },
      "source": [
        "# 相關性分析"
      ]
    },
    {
      "cell_type": "code",
      "metadata": {
        "id": "hKy0pMZfLKEH",
        "colab_type": "code",
        "outputId": "71607afe-544f-4202-c22a-4073efa3739d",
        "colab": {
          "base_uri": "https://localhost:8080/",
          "height": 811
        }
      },
      "source": [
        "import seaborn as sns\n",
        "import matplotlib.pyplot as plt\n",
        "plt.figure(figsize=(14,12))\n",
        "sns.heatmap(abs(df.corr()),annot=True,linewidths=0.1)"
      ],
      "execution_count": 26,
      "outputs": [
        {
          "output_type": "execute_result",
          "data": {
            "text/plain": [
              "<matplotlib.axes._subplots.AxesSubplot at 0x7f9559293390>"
            ]
          },
          "metadata": {
            "tags": []
          },
          "execution_count": 26
        },
        {
          "output_type": "display_data",
          "data": {
            "image/png": "[encoded data removed]",
            "text/plain": [
              "<Figure size 1008x864 with 2 Axes>"
            ]
          },
          "metadata": {
            "tags": []
          }
        }
      ]
    },
    {
      "cell_type": "markdown",
      "metadata": {
        "id": "c68TXVQaqGl3",
        "colab_type": "text"
      },
      "source": [
        "# features scaling"
      ]
    },
    {
      "cell_type": "code",
      "metadata": {
        "id": "JpZPZWfJqGuo",
        "colab_type": "code",
        "outputId": "53b8adad-a7cd-4942-e2f6-4db8cef36678",
        "colab": {
          "base_uri": "https://localhost:8080/",
          "height": 357
        }
      },
      "source": [
        "from sklearn.preprocessing import MinMaxScaler\n",
        "min_max_scaler = MinMaxScaler()\n",
        "df_minmax = min_max_scaler.fit_transform(df)#縮放到0-1之間\n",
        "df_minmax = pd.DataFrame(df_minmax,\n",
        "                         index = df.index,\n",
        "                         columns = df.columns)#轉回dataframe格式\n",
        "df_minmax[y_name] = df[y_name]#y不用MinMaxScaler\n",
        "df_minmax.tail()"
      ],
      "execution_count": 27,
      "outputs": [
        {
          "output_type": "execute_result",
          "data": {
            "text/html": [
              "<div>\n",
              "<style scoped>\n",
              "    .dataframe tbody tr th:only-of-type {\n",
              "        vertical-align: middle;\n",
              "    }\n",
              "\n",
              "    .dataframe tbody tr th {\n",
              "        vertical-align: top;\n",
              "    }\n",
              "\n",
              "    .dataframe thead th {\n",
              "        text-align: right;\n",
              "    }\n",
              "</style>\n",
              "<table border=\"1\" class=\"dataframe\">\n",
              "  <thead>\n",
              "    <tr style=\"text-align: right;\">\n",
              "      <th></th>\n",
              "      <th>RSI</th>\n",
              "      <th>Williams %R</th>\n",
              "      <th>SMA</th>\n",
              "      <th>EMA</th>\n",
              "      <th>WMA</th>\n",
              "      <th>HMA</th>\n",
              "      <th>TEMA</th>\n",
              "      <th>CCI</th>\n",
              "      <th>CMO</th>\n",
              "      <th>MACD</th>\n",
              "      <th>PPO</th>\n",
              "      <th>ROC</th>\n",
              "      <th>CFI</th>\n",
              "      <th>DMI</th>\n",
              "      <th>SAR</th>\n",
              "      <th>triple_barrier_signal</th>\n",
              "    </tr>\n",
              "    <tr>\n",
              "      <th>Date</th>\n",
              "      <th></th>\n",
              "      <th></th>\n",
              "      <th></th>\n",
              "      <th></th>\n",
              "      <th></th>\n",
              "      <th></th>\n",
              "      <th></th>\n",
              "      <th></th>\n",
              "      <th></th>\n",
              "      <th></th>\n",
              "      <th></th>\n",
              "      <th></th>\n",
              "      <th></th>\n",
              "      <th></th>\n",
              "      <th></th>\n",
              "      <th></th>\n",
              "    </tr>\n",
              "  </thead>\n",
              "  <tbody>\n",
              "    <tr>\n",
              "      <th>2019-09-04</th>\n",
              "      <td>0.669172</td>\n",
              "      <td>0.962733</td>\n",
              "      <td>0.960539</td>\n",
              "      <td>0.922900</td>\n",
              "      <td>0.907120</td>\n",
              "      <td>0.922291</td>\n",
              "      <td>0.921819</td>\n",
              "      <td>0.746373</td>\n",
              "      <td>0.598419</td>\n",
              "      <td>0.691690</td>\n",
              "      <td>0.574588</td>\n",
              "      <td>0.513573</td>\n",
              "      <td>0.766612</td>\n",
              "      <td>0.661782</td>\n",
              "      <td>0.889989</td>\n",
              "      <td>0</td>\n",
              "    </tr>\n",
              "    <tr>\n",
              "      <th>2019-09-05</th>\n",
              "      <td>0.745295</td>\n",
              "      <td>0.977325</td>\n",
              "      <td>0.960725</td>\n",
              "      <td>0.928341</td>\n",
              "      <td>0.907180</td>\n",
              "      <td>0.924040</td>\n",
              "      <td>0.931498</td>\n",
              "      <td>0.837743</td>\n",
              "      <td>0.648015</td>\n",
              "      <td>0.727340</td>\n",
              "      <td>0.594980</td>\n",
              "      <td>0.527453</td>\n",
              "      <td>0.791416</td>\n",
              "      <td>0.712954</td>\n",
              "      <td>0.894706</td>\n",
              "      <td>0</td>\n",
              "    </tr>\n",
              "    <tr>\n",
              "      <th>2019-09-06</th>\n",
              "      <td>0.761521</td>\n",
              "      <td>0.951545</td>\n",
              "      <td>0.960663</td>\n",
              "      <td>0.933321</td>\n",
              "      <td>0.913285</td>\n",
              "      <td>0.926805</td>\n",
              "      <td>0.938713</td>\n",
              "      <td>0.808756</td>\n",
              "      <td>0.867714</td>\n",
              "      <td>0.748549</td>\n",
              "      <td>0.607020</td>\n",
              "      <td>0.531773</td>\n",
              "      <td>0.814172</td>\n",
              "      <td>0.723225</td>\n",
              "      <td>0.901300</td>\n",
              "      <td>0</td>\n",
              "    </tr>\n",
              "    <tr>\n",
              "      <th>2019-09-10</th>\n",
              "      <td>0.712927</td>\n",
              "      <td>0.879862</td>\n",
              "      <td>0.960355</td>\n",
              "      <td>0.936590</td>\n",
              "      <td>0.919601</td>\n",
              "      <td>0.936066</td>\n",
              "      <td>0.941066</td>\n",
              "      <td>0.751099</td>\n",
              "      <td>0.819260</td>\n",
              "      <td>0.745327</td>\n",
              "      <td>0.605078</td>\n",
              "      <td>0.525162</td>\n",
              "      <td>0.830100</td>\n",
              "      <td>0.698469</td>\n",
              "      <td>0.908367</td>\n",
              "      <td>0</td>\n",
              "    </tr>\n",
              "    <tr>\n",
              "      <th>2019-09-11</th>\n",
              "      <td>0.744501</td>\n",
              "      <td>0.946912</td>\n",
              "      <td>0.960238</td>\n",
              "      <td>0.940177</td>\n",
              "      <td>0.925720</td>\n",
              "      <td>0.941918</td>\n",
              "      <td>0.944279</td>\n",
              "      <td>0.736675</td>\n",
              "      <td>0.815959</td>\n",
              "      <td>0.743906</td>\n",
              "      <td>0.604122</td>\n",
              "      <td>0.531158</td>\n",
              "      <td>0.846590</td>\n",
              "      <td>0.692609</td>\n",
              "      <td>0.914983</td>\n",
              "      <td>0</td>\n",
              "    </tr>\n",
              "  </tbody>\n",
              "</table>\n",
              "</div>"
            ],
            "text/plain": [
              "                 RSI  Williams %R  ...       SAR  triple_barrier_signal\n",
              "Date                               ...                                 \n",
              "2019-09-04  0.669172     0.962733  ...  0.889989                      0\n",
              "2019-09-05  0.745295     0.977325  ...  0.894706                      0\n",
              "2019-09-06  0.761521     0.951545  ...  0.901300                      0\n",
              "2019-09-10  0.712927     0.879862  ...  0.908367                      0\n",
              "2019-09-11  0.744501     0.946912  ...  0.914983                      0\n",
              "\n",
              "[5 rows x 16 columns]"
            ]
          },
          "metadata": {
            "tags": []
          },
          "execution_count": 27
        }
      ]
    },
    {
      "cell_type": "code",
      "metadata": {
        "id": "5MCZDpBgrrQQ",
        "colab_type": "code",
        "outputId": "6b6c4a6f-61b1-4288-95fc-f3c35fa889aa",
        "colab": {
          "base_uri": "https://localhost:8080/",
          "height": 34
        }
      },
      "source": [
        "df = df_minmax\n",
        "print('特徵縮放完成!')"
      ],
      "execution_count": 28,
      "outputs": [
        {
          "output_type": "stream",
          "text": [
            "特徵縮放完成!\n"
          ],
          "name": "stdout"
        }
      ]
    },
    {
      "cell_type": "markdown",
      "metadata": {
        "id": "_kc7tvz_M7PO",
        "colab_type": "text"
      },
      "source": [
        "# Xs ,ys prepare"
      ]
    },
    {
      "cell_type": "code",
      "metadata": {
        "id": "2ZHvlRJ5Lzzu",
        "colab_type": "code",
        "outputId": "a9480f94-c2ef-4ea3-bf3d-ca65907a6ae5",
        "colab": {
          "base_uri": "https://localhost:8080/",
          "height": 51
        }
      },
      "source": [
        "from tqdm import tqdm\n",
        "import numpy as np\n",
        "\n",
        "#定義觀察天數,起始index(0),結束index(資料筆數-觀察天數)\n",
        "days = 15\n",
        "b_index = 0\n",
        "f_index = len(df)-days\n",
        "\n",
        "#特徵欄位\n",
        "features = df.drop(y_name,axis=1).columns.tolist()\n",
        "\n",
        "#待存放序列\n",
        "Xs = []\n",
        "ys = []\n",
        "indexs = []\n",
        "\n",
        "'''\n",
        "若資料筆數100,days=15天,f_index=85,i只會跑到84,i+days=99,features只會跑到98天.\n",
        "若資料筆數100,days=15天,f_index=85+1,i會跑到85,i+days=100,features會跑到99天.\n",
        "'''\n",
        "for i in tqdm(range(b_index ,f_index+1 ,1)):#每次i都會遞增1\n",
        "  X = df.iloc[i:i+days,:][features] #ex:0...14(不含15)之features\n",
        "  y = df.iloc[i+days-1:i+days,:][y_name]#ex:14,y_name\n",
        "  X = np.array(X) # to np_array\n",
        "  Xs.append(X) #加入一筆X\n",
        "  ys.append(y) #加入一筆y\n",
        "  indexs.append((df.iloc[[i]].index,\n",
        "                 df.iloc[[i+days-1]].index)) #加入資料日期\n",
        "#轉換成np_array\n",
        "Xs = np.array(Xs)\n",
        "ys = np.array(ys)\n",
        "print('準備完成')"
      ],
      "execution_count": 29,
      "outputs": [
        {
          "output_type": "stream",
          "text": [
            "100%|██████████| 4750/4750 [00:13<00:00, 341.51it/s]\n"
          ],
          "name": "stderr"
        },
        {
          "output_type": "stream",
          "text": [
            "準備完成\n"
          ],
          "name": "stdout"
        }
      ]
    },
    {
      "cell_type": "markdown",
      "metadata": {
        "id": "a9iNRYKpNfIP",
        "colab_type": "text"
      },
      "source": [
        "# check"
      ]
    },
    {
      "cell_type": "code",
      "metadata": {
        "id": "7YiS6ZmtNfSf",
        "colab_type": "code",
        "outputId": "71895ec0-ceb6-4c40-eef5-4d6519f12649",
        "colab": {
          "base_uri": "https://localhost:8080/",
          "height": 68
        }
      },
      "source": [
        "print('資料筆數:',len(Xs))\n",
        "print('第一筆的index開始和結束:{}-{}'.format(indexs[0][0].date[0],indexs[0][1].date[0]))\n",
        "print('最後一筆的index開始和結束:{}-{}'.format(indexs[-1][0].date[0],indexs[-1][1].date[0]))"
      ],
      "execution_count": 30,
      "outputs": [
        {
          "output_type": "stream",
          "text": [
            "資料筆數: 4750\n",
            "第一筆的index開始和結束:2000-05-10-2000-05-30\n",
            "最後一筆的index開始和結束:2019-08-21-2019-09-11\n"
          ],
          "name": "stdout"
        }
      ]
    },
    {
      "cell_type": "markdown",
      "metadata": {
        "id": "Pabl4tEsXYB8",
        "colab_type": "text"
      },
      "source": [
        "# Reshape X"
      ]
    },
    {
      "cell_type": "markdown",
      "metadata": {
        "id": "RvUPQWb1An8u",
        "colab_type": "text"
      },
      "source": [
        "(圖片數量,長,寬,1張)"
      ]
    },
    {
      "cell_type": "code",
      "metadata": {
        "id": "In4R0IcSPDwG",
        "colab_type": "code",
        "outputId": "2381c19d-c8eb-4b92-9338-98c1c39085a3",
        "colab": {
          "base_uri": "https://localhost:8080/",
          "height": 51
        }
      },
      "source": [
        "print(Xs.shape)\n",
        "Xs = Xs.reshape(-1,days,len(features),1)\n",
        "print(Xs.shape)"
      ],
      "execution_count": 31,
      "outputs": [
        {
          "output_type": "stream",
          "text": [
            "(4750, 15, 15)\n",
            "(4750, 15, 15, 1)\n"
          ],
          "name": "stdout"
        }
      ]
    },
    {
      "cell_type": "markdown",
      "metadata": {
        "id": "lUy2cpReXaOV",
        "colab_type": "text"
      },
      "source": [
        "# One hot encoding of label"
      ]
    },
    {
      "cell_type": "markdown",
      "metadata": {
        "id": "hjDc-sStA1gk",
        "colab_type": "text"
      },
      "source": [
        "原始y代表漲幅"
      ]
    },
    {
      "cell_type": "code",
      "metadata": {
        "id": "6XGRdxmfWrfo",
        "colab_type": "code",
        "outputId": "9e320076-5408-4e54-ee43-3302ae56228b",
        "colab": {
          "base_uri": "https://localhost:8080/",
          "height": 238
        }
      },
      "source": [
        "print(ys.shape)\n",
        "print(ys[:5])\n",
        "\n",
        "from keras.utils.np_utils import to_categorical\n",
        "ys = to_categorical(ys, num_classes = 3)\n",
        "print(ys.shape)\n",
        "print(ys[:5])"
      ],
      "execution_count": 32,
      "outputs": [
        {
          "output_type": "stream",
          "text": [
            "(4750, 1)\n",
            "[[ 1]\n",
            " [-1]\n",
            " [ 1]\n",
            " [-1]\n",
            " [-1]]\n"
          ],
          "name": "stdout"
        },
        {
          "output_type": "stream",
          "text": [
            "Using TensorFlow backend.\n"
          ],
          "name": "stderr"
        },
        {
          "output_type": "stream",
          "text": [
            "(4750, 3)\n",
            "[[0. 1. 0.]\n",
            " [0. 0. 1.]\n",
            " [0. 1. 0.]\n",
            " [0. 0. 1.]\n",
            " [0. 0. 1.]]\n"
          ],
          "name": "stdout"
        }
      ]
    },
    {
      "cell_type": "markdown",
      "metadata": {
        "id": "TYcPI2TWBTpJ",
        "colab_type": "text"
      },
      "source": [
        "# Visualization"
      ]
    },
    {
      "cell_type": "code",
      "metadata": {
        "id": "ibNjBLRaBUJh",
        "colab_type": "code",
        "outputId": "aa70488e-246b-4fa4-9e98-c6755a0441a8",
        "colab": {
          "base_uri": "https://localhost:8080/",
          "height": 607
        }
      },
      "source": [
        "import matplotlib.pyplot as plt\n",
        "import matplotlib.image as mpimg\n",
        "%matplotlib inline\n",
        "Xs_v = Xs.reshape(-1,Xs.shape[1],Xs.shape[2])\n",
        "plt.figure(figsize=(10,10))\n",
        "plt.subplots_adjust(wspace =0, hspace =0.3)\n",
        "for i in range(0,9):\n",
        "    plt.subplot(330 + (i+1))\n",
        "    plt.imshow(Xs_v[i])\n",
        "    plt.title(np.argmax(ys[i]))"
      ],
      "execution_count": 33,
      "outputs": [
        {
          "output_type": "display_data",
          "data": {
            "image/png": "[encoded data removed]",
            "text/plain": [
              "<Figure size 720x720 with 9 Axes>"
            ]
          },
          "metadata": {
            "tags": []
          }
        }
      ]
    },
    {
      "cell_type": "markdown",
      "metadata": {
        "id": "5Oa6gYq_aVjE",
        "colab_type": "text"
      },
      "source": [
        "# Split training and test sets"
      ]
    },
    {
      "cell_type": "code",
      "metadata": {
        "id": "OLHFbreckAlH",
        "colab_type": "code",
        "outputId": "dc09bc9a-e045-45cc-82a0-010d8e51ea0f",
        "colab": {
          "base_uri": "https://localhost:8080/",
          "height": 34
        }
      },
      "source": [
        "X_test = Xs[-40:] #最後40天features當作test資料\n",
        "X_train,y_train = Xs[:-40],ys[:-40] #其他當作訓練\n",
        "print(X_train.shape,y_train.shape,X_test.shape)"
      ],
      "execution_count": 34,
      "outputs": [
        {
          "output_type": "stream",
          "text": [
            "(4710, 15, 15, 1) (4710, 3) (40, 15, 15, 1)\n"
          ],
          "name": "stdout"
        }
      ]
    },
    {
      "cell_type": "markdown",
      "metadata": {
        "id": "gldr_9_D6CWR",
        "colab_type": "text"
      },
      "source": [
        "# 調整採樣"
      ]
    },
    {
      "cell_type": "code",
      "metadata": {
        "id": "gUrzPr896Che",
        "colab_type": "code",
        "colab": {
          "base_uri": "https://localhost:8080/",
          "height": 207
        },
        "outputId": "1fcb8ef3-5c26-4844-e101-bd0b039fd994"
      },
      "source": [
        "X_train2維 = X_train.reshape(X_train.shape[0],-1)\n",
        "y_train數字 = np.array([ np.argmax(i) for i in y_train])\n",
        "print(X_train2維.shape)\n",
        "print(y_train數字.shape)\n",
        "\n",
        "from imblearn.under_sampling import RandomUnderSampler\n",
        "ros = RandomUnderSampler()\n",
        "X_train平衡 ,y_train平衡 = ros.fit_sample(X_train2維 ,y_train數字)\n",
        "print(pd.DataFrame(y_train平衡)[0].value_counts().sort_index())#顯示結果\n",
        "\n",
        "X_train = X_train平衡.reshape(X_train平衡.shape[0],15,15,1)#資料數,15,15,1\n",
        "y_train = y_train平衡.reshape(y_train平衡.shape[0],1)#資料數,1\n",
        "y_train = to_categorical(y_train , num_classes = 3)#one_hot\n",
        "print(X_train.shape)\n",
        "print(y_train.shape)"
      ],
      "execution_count": 35,
      "outputs": [
        {
          "output_type": "stream",
          "text": [
            "(4710, 225)\n",
            "(4710,)\n",
            "0    989\n",
            "1    989\n",
            "2    989\n",
            "Name: 0, dtype: int64\n",
            "(2967, 15, 15, 1)\n",
            "(2967, 3)\n"
          ],
          "name": "stdout"
        },
        {
          "output_type": "stream",
          "text": [
            "/usr/local/lib/python3.6/dist-packages/sklearn/externals/six.py:31: DeprecationWarning: The module is deprecated in version 0.21 and will be removed in version 0.23 since we've dropped support for Python 2.7. Please rely on the official version of six (https://pypi.org/project/six/).\n",
            "  \"(https://pypi.org/project/six/).\", DeprecationWarning)\n"
          ],
          "name": "stderr"
        }
      ]
    },
    {
      "cell_type": "markdown",
      "metadata": {
        "id": "0LI45EZC6k4Q",
        "colab_type": "text"
      },
      "source": [
        "# Split training and val sets"
      ]
    },
    {
      "cell_type": "code",
      "metadata": {
        "id": "MgsrVpYUYf5J",
        "colab_type": "code",
        "outputId": "1baad64f-b23e-4338-d787-1612ca8dcd13",
        "colab": {
          "base_uri": "https://localhost:8080/",
          "height": 34
        }
      },
      "source": [
        "from sklearn.model_selection import train_test_split\n",
        "xtrain, xval, ytrain, yval = train_test_split(X_train,\n",
        "                                              y_train, \n",
        "                                              test_size = 0.2,\n",
        "                                              random_state = 42,\n",
        "                                              shuffle = True,#是否洗牌\n",
        "                                              stratify = y_train #是否根據y欄位做分層取樣\n",
        "                                             )\n",
        "print(xtrain.shape, ytrain.shape, xval.shape, yval.shape)"
      ],
      "execution_count": 36,
      "outputs": [
        {
          "output_type": "stream",
          "text": [
            "(2373, 15, 15, 1) (2373, 3) (594, 15, 15, 1) (594, 3)\n"
          ],
          "name": "stdout"
        }
      ]
    },
    {
      "cell_type": "markdown",
      "metadata": {
        "id": "2xQOFrENMkSb",
        "colab_type": "text"
      },
      "source": [
        "# 看一下樣本的label分布情況是否平均(待解決)"
      ]
    },
    {
      "cell_type": "markdown",
      "metadata": {
        "id": "xnUz7A3tlfya",
        "colab_type": "text"
      },
      "source": [
        "0:Hold,1:Buy,2:Sell"
      ]
    },
    {
      "cell_type": "code",
      "metadata": {
        "id": "aA9SXiicML6Y",
        "colab_type": "code",
        "outputId": "7f334391-0b22-40b0-e3e4-d71a340648de",
        "colab": {
          "base_uri": "https://localhost:8080/",
          "height": 85
        }
      },
      "source": [
        "pd.Series([np.argmax(i) for i in ys]).value_counts()"
      ],
      "execution_count": 37,
      "outputs": [
        {
          "output_type": "execute_result",
          "data": {
            "text/plain": [
              "1    2005\n",
              "2    1731\n",
              "0    1014\n",
              "dtype: int64"
            ]
          },
          "metadata": {
            "tags": []
          },
          "execution_count": 37
        }
      ]
    },
    {
      "cell_type": "code",
      "metadata": {
        "id": "l3gzqyHc8hKR",
        "colab_type": "code",
        "colab": {}
      },
      "source": [
        "pd.Series([np.argmax(i) for i in y_train]).value_counts()"
      ],
      "execution_count": 0,
      "outputs": []
    },
    {
      "cell_type": "code",
      "metadata": {
        "id": "UIOBe8tVL5dV",
        "colab_type": "code",
        "outputId": "3777b09b-90e0-422c-f2da-d3634720ba7a",
        "colab": {
          "base_uri": "https://localhost:8080/",
          "height": 85
        }
      },
      "source": [
        "pd.Series([np.argmax(i) for i in ytrain]).value_counts()"
      ],
      "execution_count": 38,
      "outputs": [
        {
          "output_type": "execute_result",
          "data": {
            "text/plain": [
              "1    791\n",
              "2    791\n",
              "0    791\n",
              "dtype: int64"
            ]
          },
          "metadata": {
            "tags": []
          },
          "execution_count": 38
        }
      ]
    },
    {
      "cell_type": "code",
      "metadata": {
        "id": "A235BZ6cMQ-S",
        "colab_type": "code",
        "outputId": "53c8f31b-c2d3-4642-c10c-96468d48752c",
        "colab": {
          "base_uri": "https://localhost:8080/",
          "height": 85
        }
      },
      "source": [
        "pd.Series([np.argmax(i) for i in yval]).value_counts()"
      ],
      "execution_count": 39,
      "outputs": [
        {
          "output_type": "execute_result",
          "data": {
            "text/plain": [
              "2    198\n",
              "1    198\n",
              "0    198\n",
              "dtype: int64"
            ]
          },
          "metadata": {
            "tags": []
          },
          "execution_count": 39
        }
      ]
    },
    {
      "cell_type": "markdown",
      "metadata": {
        "id": "m-oXz0FGarb1",
        "colab_type": "text"
      },
      "source": [
        "# CNN"
      ]
    },
    {
      "cell_type": "code",
      "metadata": {
        "id": "eWOsWp7_amoX",
        "colab_type": "code",
        "colab": {}
      },
      "source": [
        "from keras import backend as K\n",
        "from keras.models import Sequential\n",
        "from keras.layers import Dense, Dropout, Lambda, Flatten, BatchNormalization\n",
        "from keras.layers import Conv2D, MaxPool2D, AvgPool2D\n",
        "from keras.optimizers import Adam #做梯度下降的一種優化方法\n",
        "from keras.callbacks import ReduceLROnPlateau , EarlyStopping #減少學習速率 on Plateau"
      ],
      "execution_count": 0,
      "outputs": []
    },
    {
      "cell_type": "code",
      "metadata": {
        "id": "yd-csnW2auJS",
        "colab_type": "code",
        "outputId": "240bb1a6-cf97-4cb7-82d9-f1a153e11ad1",
        "colab": {
          "base_uri": "https://localhost:8080/",
          "height": 734
        }
      },
      "source": [
        "model = Sequential()\n",
        "\n",
        "nclasses = 3 \n",
        "\n",
        "model.add(Conv2D(filters=32, kernel_size=(3,3), padding='same', activation='relu', input_shape=(15,15,1)))#15,15,32\n",
        "model.add(Conv2D(filters=64, kernel_size=(3,3), padding='same', activation='relu',))#15,15,64\n",
        "model.add(MaxPool2D(pool_size=(5,5)))# 3,3,64\n",
        "model.add(Flatten())#576\n",
        "model.add(Dropout(0.5))#288\n",
        "model.add(Dense(128, activation='relu'))#128\n",
        "model.add(Dropout(0.5))#64\n",
        "model.add(Dense(32, activation='relu'))#32\n",
        "model.add(Dropout(0.5))#16\n",
        "model.add(Dense(nclasses, activation='softmax'))#3\n",
        "model.summary()"
      ],
      "execution_count": 41,
      "outputs": [
        {
          "output_type": "stream",
          "text": [
            "WARNING:tensorflow:From /usr/local/lib/python3.6/dist-packages/keras/backend/tensorflow_backend.py:66: The name tf.get_default_graph is deprecated. Please use tf.compat.v1.get_default_graph instead.\n",
            "\n",
            "WARNING:tensorflow:From /usr/local/lib/python3.6/dist-packages/keras/backend/tensorflow_backend.py:541: The name tf.placeholder is deprecated. Please use tf.compat.v1.placeholder instead.\n",
            "\n",
            "WARNING:tensorflow:From /usr/local/lib/python3.6/dist-packages/keras/backend/tensorflow_backend.py:4432: The name tf.random_uniform is deprecated. Please use tf.random.uniform instead.\n",
            "\n",
            "WARNING:tensorflow:From /usr/local/lib/python3.6/dist-packages/keras/backend/tensorflow_backend.py:4267: The name tf.nn.max_pool is deprecated. Please use tf.nn.max_pool2d instead.\n",
            "\n",
            "WARNING:tensorflow:From /usr/local/lib/python3.6/dist-packages/keras/backend/tensorflow_backend.py:148: The name tf.placeholder_with_default is deprecated. Please use tf.compat.v1.placeholder_with_default instead.\n",
            "\n",
            "WARNING:tensorflow:From /usr/local/lib/python3.6/dist-packages/keras/backend/tensorflow_backend.py:3733: calling dropout (from tensorflow.python.ops.nn_ops) with keep_prob is deprecated and will be removed in a future version.\n",
            "Instructions for updating:\n",
            "Please use `rate` instead of `keep_prob`. Rate should be set to `rate = 1 - keep_prob`.\n",
            "Model: \"sequential_1\"\n",
            "_________________________________________________________________\n",
            "Layer (type)                 Output Shape              Param #   \n",
            "=================================================================\n",
            "conv2d_1 (Conv2D)            (None, 15, 15, 32)        320       \n",
            "_________________________________________________________________\n",
            "conv2d_2 (Conv2D)            (None, 15, 15, 64)        18496     \n",
            "_________________________________________________________________\n",
            "max_pooling2d_1 (MaxPooling2 (None, 3, 3, 64)          0         \n",
            "_________________________________________________________________\n",
            "flatten_1 (Flatten)          (None, 576)               0         \n",
            "_________________________________________________________________\n",
            "dropout_1 (Dropout)          (None, 576)               0         \n",
            "_________________________________________________________________\n",
            "dense_1 (Dense)              (None, 128)               73856     \n",
            "_________________________________________________________________\n",
            "dropout_2 (Dropout)          (None, 128)               0         \n",
            "_________________________________________________________________\n",
            "dense_2 (Dense)              (None, 32)                4128      \n",
            "_________________________________________________________________\n",
            "dropout_3 (Dropout)          (None, 32)                0         \n",
            "_________________________________________________________________\n",
            "dense_3 (Dense)              (None, 3)                 99        \n",
            "=================================================================\n",
            "Total params: 96,899\n",
            "Trainable params: 96,899\n",
            "Non-trainable params: 0\n",
            "_________________________________________________________________\n"
          ],
          "name": "stdout"
        }
      ]
    },
    {
      "cell_type": "code",
      "metadata": {
        "id": "8Z913AqUa8bJ",
        "colab_type": "code",
        "outputId": "67f3ab31-720f-408a-c4da-28d6e242d060",
        "colab": {
          "base_uri": "https://localhost:8080/",
          "height": 105
        }
      },
      "source": [
        "model.compile(optimizer=\"adam\", loss=\"categorical_crossentropy\", metrics=[\"accuracy\"])"
      ],
      "execution_count": 42,
      "outputs": [
        {
          "output_type": "stream",
          "text": [
            "WARNING:tensorflow:From /usr/local/lib/python3.6/dist-packages/keras/optimizers.py:793: The name tf.train.Optimizer is deprecated. Please use tf.compat.v1.train.Optimizer instead.\n",
            "\n",
            "WARNING:tensorflow:From /usr/local/lib/python3.6/dist-packages/keras/backend/tensorflow_backend.py:3576: The name tf.log is deprecated. Please use tf.math.log instead.\n",
            "\n"
          ],
          "name": "stdout"
        }
      ]
    },
    {
      "cell_type": "markdown",
      "metadata": {
        "id": "VORA4n9Lz9of",
        "colab_type": "text"
      },
      "source": [
        "# 優化器"
      ]
    },
    {
      "cell_type": "code",
      "metadata": {
        "id": "Kw_j4R4Da_To",
        "colab_type": "code",
        "colab": {}
      },
      "source": [
        "#1\n",
        "lr_reduction = ReduceLROnPlateau(monitor = 'val_acc', \n",
        "                                 factor=0.5, \n",
        "                                 patience = 3, \n",
        "                                 verbose = 1, \n",
        "                                 min_lr = 0.00001)\n",
        "\n",
        "#2\n",
        "es = EarlyStopping(monitor='val_acc',#驗證集acc\n",
        "                   min_delta=0, \n",
        "                   patience=50,  \n",
        "                   mode='max',\n",
        "                   restore_best_weights=True)#恢復最佳權重"
      ],
      "execution_count": 0,
      "outputs": []
    },
    {
      "cell_type": "markdown",
      "metadata": {
        "id": "aevlVsI9Lk9a",
        "colab_type": "text"
      },
      "source": [
        "# fit"
      ]
    },
    {
      "cell_type": "code",
      "metadata": {
        "id": "TJJR7Yg-bHac",
        "colab_type": "code",
        "outputId": "5e540dda-9497-4e98-d91c-76a63e3aa2e4",
        "colab": {
          "base_uri": "https://localhost:8080/",
          "height": 1000
        }
      },
      "source": [
        "history = model.fit(xtrain,ytrain,\n",
        "                    batch_size = 128,\n",
        "                    epochs = 500,\n",
        "                    validation_data=(xval,yval),\n",
        "                    verbose=1,callbacks=[es])"
      ],
      "execution_count": 44,
      "outputs": [
        {
          "output_type": "stream",
          "text": [
            "WARNING:tensorflow:From /usr/local/lib/python3.6/dist-packages/tensorflow/python/ops/math_grad.py:1250: add_dispatch_support.<locals>.wrapper (from tensorflow.python.ops.array_ops) is deprecated and will be removed in a future version.\n",
            "Instructions for updating:\n",
            "Use tf.where in 2.0, which has the same broadcast rule as np.where\n",
            "Train on 2373 samples, validate on 594 samples\n",
            "Epoch 1/500\n",
            "2373/2373 [==============================] - 2s 867us/step - loss: 1.1025 - acc: 0.3325 - val_loss: 1.0942 - val_acc: 0.3401\n",
            "Epoch 2/500\n",
            "2373/2373 [==============================] - 0s 105us/step - loss: 1.0955 - acc: 0.3616 - val_loss: 1.0941 - val_acc: 0.4377\n",
            "Epoch 3/500\n",
            "2373/2373 [==============================] - 0s 109us/step - loss: 1.0942 - acc: 0.3510 - val_loss: 1.0852 - val_acc: 0.4108\n",
            "Epoch 4/500\n",
            "2373/2373 [==============================] - 0s 111us/step - loss: 1.0829 - acc: 0.4138 - val_loss: 1.0701 - val_acc: 0.4209\n",
            "Epoch 5/500\n",
            "2373/2373 [==============================] - 0s 113us/step - loss: 1.0680 - acc: 0.4176 - val_loss: 1.0583 - val_acc: 0.4394\n",
            "Epoch 6/500\n",
            "2373/2373 [==============================] - 0s 111us/step - loss: 1.0570 - acc: 0.4395 - val_loss: 1.0478 - val_acc: 0.4259\n",
            "Epoch 7/500\n",
            "2373/2373 [==============================] - 0s 114us/step - loss: 1.0440 - acc: 0.4631 - val_loss: 1.0341 - val_acc: 0.4512\n",
            "Epoch 8/500\n",
            "2373/2373 [==============================] - 0s 110us/step - loss: 1.0395 - acc: 0.4484 - val_loss: 1.0295 - val_acc: 0.4411\n",
            "Epoch 9/500\n",
            "2373/2373 [==============================] - 0s 107us/step - loss: 1.0314 - acc: 0.4513 - val_loss: 1.0198 - val_acc: 0.4646\n",
            "Epoch 10/500\n",
            "2373/2373 [==============================] - 0s 108us/step - loss: 1.0155 - acc: 0.4716 - val_loss: 1.0111 - val_acc: 0.4781\n",
            "Epoch 11/500\n",
            "2373/2373 [==============================] - 0s 111us/step - loss: 1.0194 - acc: 0.4791 - val_loss: 1.0112 - val_acc: 0.4697\n",
            "Epoch 12/500\n",
            "2373/2373 [==============================] - 0s 106us/step - loss: 1.0167 - acc: 0.4716 - val_loss: 1.0094 - val_acc: 0.4646\n",
            "Epoch 13/500\n",
            "2373/2373 [==============================] - 0s 104us/step - loss: 1.0078 - acc: 0.4741 - val_loss: 1.0010 - val_acc: 0.4747\n",
            "Epoch 14/500\n",
            "2373/2373 [==============================] - 0s 102us/step - loss: 1.0073 - acc: 0.4783 - val_loss: 0.9958 - val_acc: 0.4865\n",
            "Epoch 15/500\n",
            "2373/2373 [==============================] - 0s 108us/step - loss: 0.9965 - acc: 0.4943 - val_loss: 0.9951 - val_acc: 0.4714\n",
            "Epoch 16/500\n",
            "2373/2373 [==============================] - 0s 102us/step - loss: 0.9982 - acc: 0.4863 - val_loss: 0.9906 - val_acc: 0.4815\n",
            "Epoch 17/500\n",
            "2373/2373 [==============================] - 0s 104us/step - loss: 0.9904 - acc: 0.4834 - val_loss: 0.9908 - val_acc: 0.4832\n",
            "Epoch 18/500\n",
            "2373/2373 [==============================] - 0s 99us/step - loss: 0.9976 - acc: 0.4783 - val_loss: 0.9867 - val_acc: 0.4798\n",
            "Epoch 19/500\n",
            "2373/2373 [==============================] - 0s 104us/step - loss: 0.9890 - acc: 0.5006 - val_loss: 0.9811 - val_acc: 0.4798\n",
            "Epoch 20/500\n",
            "2373/2373 [==============================] - 0s 104us/step - loss: 0.9871 - acc: 0.4968 - val_loss: 0.9753 - val_acc: 0.4832\n",
            "Epoch 21/500\n",
            "2373/2373 [==============================] - 0s 105us/step - loss: 0.9805 - acc: 0.4762 - val_loss: 0.9718 - val_acc: 0.4949\n",
            "Epoch 22/500\n",
            "2373/2373 [==============================] - 0s 106us/step - loss: 0.9813 - acc: 0.4998 - val_loss: 0.9728 - val_acc: 0.4848\n",
            "Epoch 23/500\n",
            "2373/2373 [==============================] - 0s 105us/step - loss: 0.9741 - acc: 0.5040 - val_loss: 0.9686 - val_acc: 0.4832\n",
            "Epoch 24/500\n",
            "2373/2373 [==============================] - 0s 107us/step - loss: 0.9741 - acc: 0.4981 - val_loss: 0.9712 - val_acc: 0.5084\n",
            "Epoch 25/500\n",
            "2373/2373 [==============================] - 0s 103us/step - loss: 0.9673 - acc: 0.4939 - val_loss: 0.9636 - val_acc: 0.4882\n",
            "Epoch 26/500\n",
            "2373/2373 [==============================] - 0s 106us/step - loss: 0.9698 - acc: 0.5065 - val_loss: 0.9688 - val_acc: 0.4933\n",
            "Epoch 27/500\n",
            "2373/2373 [==============================] - 0s 103us/step - loss: 0.9599 - acc: 0.5078 - val_loss: 0.9576 - val_acc: 0.5017\n",
            "Epoch 28/500\n",
            "2373/2373 [==============================] - 0s 101us/step - loss: 0.9623 - acc: 0.5238 - val_loss: 0.9534 - val_acc: 0.5084\n",
            "Epoch 29/500\n",
            "2373/2373 [==============================] - 0s 100us/step - loss: 0.9511 - acc: 0.5011 - val_loss: 0.9654 - val_acc: 0.5168\n",
            "Epoch 30/500\n",
            "2373/2373 [==============================] - 0s 101us/step - loss: 0.9600 - acc: 0.5044 - val_loss: 0.9552 - val_acc: 0.5101\n",
            "Epoch 31/500\n",
            "2373/2373 [==============================] - 0s 101us/step - loss: 0.9536 - acc: 0.5204 - val_loss: 0.9495 - val_acc: 0.5152\n",
            "Epoch 32/500\n",
            "2373/2373 [==============================] - 0s 103us/step - loss: 0.9517 - acc: 0.5209 - val_loss: 0.9444 - val_acc: 0.5320\n",
            "Epoch 33/500\n",
            "2373/2373 [==============================] - 0s 100us/step - loss: 0.9474 - acc: 0.5200 - val_loss: 0.9513 - val_acc: 0.5269\n",
            "Epoch 34/500\n",
            "2373/2373 [==============================] - 0s 100us/step - loss: 0.9480 - acc: 0.5225 - val_loss: 0.9473 - val_acc: 0.5236\n",
            "Epoch 35/500\n",
            "2373/2373 [==============================] - 0s 105us/step - loss: 0.9511 - acc: 0.5137 - val_loss: 0.9439 - val_acc: 0.5202\n",
            "Epoch 36/500\n",
            "2373/2373 [==============================] - 0s 105us/step - loss: 0.9429 - acc: 0.5284 - val_loss: 0.9458 - val_acc: 0.5320\n",
            "Epoch 37/500\n",
            "2373/2373 [==============================] - 0s 101us/step - loss: 0.9332 - acc: 0.5259 - val_loss: 0.9399 - val_acc: 0.5185\n",
            "Epoch 38/500\n",
            "2373/2373 [==============================] - 0s 101us/step - loss: 0.9344 - acc: 0.5255 - val_loss: 0.9385 - val_acc: 0.5337\n",
            "Epoch 39/500\n",
            "2373/2373 [==============================] - 0s 99us/step - loss: 0.9361 - acc: 0.5407 - val_loss: 0.9506 - val_acc: 0.5522\n",
            "Epoch 40/500\n",
            "2373/2373 [==============================] - 0s 104us/step - loss: 0.9365 - acc: 0.5436 - val_loss: 0.9311 - val_acc: 0.5202\n",
            "Epoch 41/500\n",
            "2373/2373 [==============================] - 0s 104us/step - loss: 0.9404 - acc: 0.5225 - val_loss: 0.9354 - val_acc: 0.5152\n",
            "Epoch 42/500\n",
            "2373/2373 [==============================] - 0s 100us/step - loss: 0.9299 - acc: 0.5293 - val_loss: 0.9391 - val_acc: 0.5421\n",
            "Epoch 43/500\n",
            "2373/2373 [==============================] - 0s 105us/step - loss: 0.9187 - acc: 0.5520 - val_loss: 0.9307 - val_acc: 0.5354\n",
            "Epoch 44/500\n",
            "2373/2373 [==============================] - 0s 100us/step - loss: 0.9207 - acc: 0.5508 - val_loss: 0.9246 - val_acc: 0.5303\n",
            "Epoch 45/500\n",
            "2373/2373 [==============================] - 0s 102us/step - loss: 0.9135 - acc: 0.5365 - val_loss: 0.9257 - val_acc: 0.5387\n",
            "Epoch 46/500\n",
            "2373/2373 [==============================] - 0s 99us/step - loss: 0.9289 - acc: 0.5428 - val_loss: 0.9382 - val_acc: 0.5202\n",
            "Epoch 47/500\n",
            "2373/2373 [==============================] - 0s 108us/step - loss: 0.9250 - acc: 0.5314 - val_loss: 0.9289 - val_acc: 0.5320\n",
            "Epoch 48/500\n",
            "2373/2373 [==============================] - 0s 102us/step - loss: 0.9097 - acc: 0.5487 - val_loss: 0.9285 - val_acc: 0.5337\n",
            "Epoch 49/500\n",
            "2373/2373 [==============================] - 0s 103us/step - loss: 0.9095 - acc: 0.5398 - val_loss: 0.9227 - val_acc: 0.5320\n",
            "Epoch 50/500\n",
            "2373/2373 [==============================] - 0s 103us/step - loss: 0.9075 - acc: 0.5428 - val_loss: 0.9428 - val_acc: 0.5236\n",
            "Epoch 51/500\n",
            "2373/2373 [==============================] - 0s 104us/step - loss: 0.9228 - acc: 0.5398 - val_loss: 0.9208 - val_acc: 0.5387\n",
            "Epoch 52/500\n",
            "2373/2373 [==============================] - 0s 100us/step - loss: 0.9296 - acc: 0.5348 - val_loss: 0.9277 - val_acc: 0.5236\n",
            "Epoch 53/500\n",
            "2373/2373 [==============================] - 0s 103us/step - loss: 0.9082 - acc: 0.5605 - val_loss: 0.9297 - val_acc: 0.5320\n",
            "Epoch 54/500\n",
            "2373/2373 [==============================] - 0s 104us/step - loss: 0.9029 - acc: 0.5520 - val_loss: 0.9164 - val_acc: 0.5404\n",
            "Epoch 55/500\n",
            "2373/2373 [==============================] - 0s 105us/step - loss: 0.9052 - acc: 0.5474 - val_loss: 0.9151 - val_acc: 0.5455\n",
            "Epoch 56/500\n",
            "2373/2373 [==============================] - 0s 101us/step - loss: 0.8986 - acc: 0.5693 - val_loss: 0.9260 - val_acc: 0.5455\n",
            "Epoch 57/500\n",
            "2373/2373 [==============================] - 0s 103us/step - loss: 0.8983 - acc: 0.5672 - val_loss: 0.9153 - val_acc: 0.5488\n",
            "Epoch 58/500\n",
            "2373/2373 [==============================] - 0s 102us/step - loss: 0.9035 - acc: 0.5596 - val_loss: 0.9170 - val_acc: 0.5505\n",
            "Epoch 59/500\n",
            "2373/2373 [==============================] - 0s 99us/step - loss: 0.8955 - acc: 0.5634 - val_loss: 0.9175 - val_acc: 0.5505\n",
            "Epoch 60/500\n",
            "2373/2373 [==============================] - 0s 103us/step - loss: 0.8844 - acc: 0.5727 - val_loss: 0.9113 - val_acc: 0.5370\n",
            "Epoch 61/500\n",
            "2373/2373 [==============================] - 0s 108us/step - loss: 0.8731 - acc: 0.5689 - val_loss: 0.9149 - val_acc: 0.5572\n",
            "Epoch 62/500\n",
            "2373/2373 [==============================] - 0s 101us/step - loss: 0.8887 - acc: 0.5638 - val_loss: 0.9177 - val_acc: 0.5455\n",
            "Epoch 63/500\n",
            "2373/2373 [==============================] - 0s 101us/step - loss: 0.8646 - acc: 0.5853 - val_loss: 0.9079 - val_acc: 0.5522\n",
            "Epoch 64/500\n",
            "2373/2373 [==============================] - 0s 104us/step - loss: 0.8710 - acc: 0.5718 - val_loss: 0.9147 - val_acc: 0.5556\n",
            "Epoch 65/500\n",
            "2373/2373 [==============================] - 0s 108us/step - loss: 0.8771 - acc: 0.5723 - val_loss: 0.9221 - val_acc: 0.5421\n",
            "Epoch 66/500\n",
            "2373/2373 [==============================] - 0s 102us/step - loss: 0.8712 - acc: 0.5740 - val_loss: 0.9050 - val_acc: 0.5438\n",
            "Epoch 67/500\n",
            "2373/2373 [==============================] - 0s 100us/step - loss: 0.8651 - acc: 0.5917 - val_loss: 0.8997 - val_acc: 0.5623\n",
            "Epoch 68/500\n",
            "2373/2373 [==============================] - 0s 102us/step - loss: 0.8684 - acc: 0.5933 - val_loss: 0.9014 - val_acc: 0.5522\n",
            "Epoch 69/500\n",
            "2373/2373 [==============================] - 0s 106us/step - loss: 0.8680 - acc: 0.5895 - val_loss: 0.9100 - val_acc: 0.5471\n",
            "Epoch 70/500\n",
            "2373/2373 [==============================] - 0s 103us/step - loss: 0.8616 - acc: 0.5933 - val_loss: 0.9012 - val_acc: 0.5505\n",
            "Epoch 71/500\n",
            "2373/2373 [==============================] - 0s 102us/step - loss: 0.8724 - acc: 0.5912 - val_loss: 0.9172 - val_acc: 0.5556\n",
            "Epoch 72/500\n",
            "2373/2373 [==============================] - 0s 102us/step - loss: 0.8442 - acc: 0.5925 - val_loss: 0.9018 - val_acc: 0.5539\n",
            "Epoch 73/500\n",
            "2373/2373 [==============================] - 0s 103us/step - loss: 0.8551 - acc: 0.5967 - val_loss: 0.8932 - val_acc: 0.5758\n",
            "Epoch 74/500\n",
            "2373/2373 [==============================] - 0s 110us/step - loss: 0.8431 - acc: 0.5976 - val_loss: 0.8914 - val_acc: 0.5690\n",
            "Epoch 75/500\n",
            "2373/2373 [==============================] - 0s 105us/step - loss: 0.8451 - acc: 0.5980 - val_loss: 0.8964 - val_acc: 0.5640\n",
            "Epoch 76/500\n",
            "2373/2373 [==============================] - 0s 103us/step - loss: 0.8468 - acc: 0.6077 - val_loss: 0.9014 - val_acc: 0.5690\n",
            "Epoch 77/500\n",
            "2373/2373 [==============================] - 0s 102us/step - loss: 0.8391 - acc: 0.6001 - val_loss: 0.8977 - val_acc: 0.5774\n",
            "Epoch 78/500\n",
            "2373/2373 [==============================] - 0s 103us/step - loss: 0.8450 - acc: 0.6068 - val_loss: 0.9070 - val_acc: 0.5741\n",
            "Epoch 79/500\n",
            "2373/2373 [==============================] - 0s 100us/step - loss: 0.8481 - acc: 0.5946 - val_loss: 0.8940 - val_acc: 0.5623\n",
            "Epoch 80/500\n",
            "2373/2373 [==============================] - 0s 100us/step - loss: 0.8390 - acc: 0.6005 - val_loss: 0.8879 - val_acc: 0.5640\n",
            "Epoch 81/500\n",
            "2373/2373 [==============================] - 0s 105us/step - loss: 0.8309 - acc: 0.6220 - val_loss: 0.8972 - val_acc: 0.5859\n",
            "Epoch 82/500\n",
            "2373/2373 [==============================] - 0s 105us/step - loss: 0.8298 - acc: 0.6110 - val_loss: 0.8908 - val_acc: 0.5673\n",
            "Epoch 83/500\n",
            "2373/2373 [==============================] - 0s 101us/step - loss: 0.8300 - acc: 0.6056 - val_loss: 0.8988 - val_acc: 0.5640\n",
            "Epoch 84/500\n",
            "2373/2373 [==============================] - 0s 102us/step - loss: 0.8250 - acc: 0.6165 - val_loss: 0.8787 - val_acc: 0.5707\n",
            "Epoch 85/500\n",
            "2373/2373 [==============================] - 0s 104us/step - loss: 0.8203 - acc: 0.6190 - val_loss: 0.8917 - val_acc: 0.5640\n",
            "Epoch 86/500\n",
            "2373/2373 [==============================] - 0s 107us/step - loss: 0.8243 - acc: 0.6140 - val_loss: 0.8858 - val_acc: 0.5842\n",
            "Epoch 87/500\n",
            "2373/2373 [==============================] - 0s 100us/step - loss: 0.8233 - acc: 0.6212 - val_loss: 0.8821 - val_acc: 0.5791\n",
            "Epoch 88/500\n",
            "2373/2373 [==============================] - 0s 102us/step - loss: 0.8110 - acc: 0.6237 - val_loss: 0.8962 - val_acc: 0.5758\n",
            "Epoch 89/500\n",
            "2373/2373 [==============================] - 0s 104us/step - loss: 0.8180 - acc: 0.6157 - val_loss: 0.8810 - val_acc: 0.5774\n",
            "Epoch 90/500\n",
            "2373/2373 [==============================] - 0s 113us/step - loss: 0.8108 - acc: 0.6292 - val_loss: 0.8902 - val_acc: 0.5825\n",
            "Epoch 91/500\n",
            "2373/2373 [==============================] - 0s 102us/step - loss: 0.7966 - acc: 0.6233 - val_loss: 0.8818 - val_acc: 0.5892\n",
            "Epoch 92/500\n",
            "2373/2373 [==============================] - 0s 99us/step - loss: 0.8072 - acc: 0.6296 - val_loss: 0.8772 - val_acc: 0.5875\n",
            "Epoch 93/500\n",
            "2373/2373 [==============================] - 0s 101us/step - loss: 0.8070 - acc: 0.6292 - val_loss: 0.8804 - val_acc: 0.5909\n",
            "Epoch 94/500\n",
            "2373/2373 [==============================] - 0s 103us/step - loss: 0.7912 - acc: 0.6481 - val_loss: 0.8856 - val_acc: 0.5909\n",
            "Epoch 95/500\n",
            "2373/2373 [==============================] - 0s 100us/step - loss: 0.7946 - acc: 0.6498 - val_loss: 0.8696 - val_acc: 0.5859\n",
            "Epoch 96/500\n",
            "2373/2373 [==============================] - 0s 101us/step - loss: 0.7982 - acc: 0.6426 - val_loss: 0.8762 - val_acc: 0.5707\n",
            "Epoch 97/500\n",
            "2373/2373 [==============================] - 0s 101us/step - loss: 0.7932 - acc: 0.6351 - val_loss: 0.8703 - val_acc: 0.5909\n",
            "Epoch 98/500\n",
            "2373/2373 [==============================] - 0s 106us/step - loss: 0.7748 - acc: 0.6519 - val_loss: 0.8750 - val_acc: 0.5909\n",
            "Epoch 99/500\n",
            "2373/2373 [==============================] - 0s 106us/step - loss: 0.7755 - acc: 0.6511 - val_loss: 0.8588 - val_acc: 0.5960\n",
            "Epoch 100/500\n",
            "2373/2373 [==============================] - 0s 103us/step - loss: 0.7725 - acc: 0.6359 - val_loss: 0.8946 - val_acc: 0.6044\n",
            "Epoch 101/500\n",
            "2373/2373 [==============================] - 0s 105us/step - loss: 0.7840 - acc: 0.6485 - val_loss: 0.8800 - val_acc: 0.5960\n",
            "Epoch 102/500\n",
            "2373/2373 [==============================] - 0s 100us/step - loss: 0.7784 - acc: 0.6502 - val_loss: 0.8606 - val_acc: 0.6044\n",
            "Epoch 103/500\n",
            "2373/2373 [==============================] - 0s 103us/step - loss: 0.7750 - acc: 0.6511 - val_loss: 0.8572 - val_acc: 0.5774\n",
            "Epoch 104/500\n",
            "2373/2373 [==============================] - 0s 104us/step - loss: 0.7567 - acc: 0.6561 - val_loss: 0.8525 - val_acc: 0.5892\n",
            "Epoch 105/500\n",
            "2373/2373 [==============================] - 0s 101us/step - loss: 0.7693 - acc: 0.6553 - val_loss: 0.8551 - val_acc: 0.6010\n",
            "Epoch 106/500\n",
            "2373/2373 [==============================] - 0s 102us/step - loss: 0.7522 - acc: 0.6625 - val_loss: 0.8531 - val_acc: 0.5909\n",
            "Epoch 107/500\n",
            "2373/2373 [==============================] - 0s 104us/step - loss: 0.7650 - acc: 0.6473 - val_loss: 0.8591 - val_acc: 0.6111\n",
            "Epoch 108/500\n",
            "2373/2373 [==============================] - 0s 103us/step - loss: 0.7523 - acc: 0.6532 - val_loss: 0.8595 - val_acc: 0.6044\n",
            "Epoch 109/500\n",
            "2373/2373 [==============================] - 0s 102us/step - loss: 0.7491 - acc: 0.6658 - val_loss: 0.8523 - val_acc: 0.6094\n",
            "Epoch 110/500\n",
            "2373/2373 [==============================] - 0s 102us/step - loss: 0.7442 - acc: 0.6633 - val_loss: 0.8454 - val_acc: 0.6044\n",
            "Epoch 111/500\n",
            "2373/2373 [==============================] - 0s 104us/step - loss: 0.7507 - acc: 0.6603 - val_loss: 0.8546 - val_acc: 0.6044\n",
            "Epoch 112/500\n",
            "2373/2373 [==============================] - 0s 105us/step - loss: 0.7468 - acc: 0.6591 - val_loss: 0.8417 - val_acc: 0.6195\n",
            "Epoch 113/500\n",
            "2373/2373 [==============================] - 0s 101us/step - loss: 0.7365 - acc: 0.6789 - val_loss: 0.8596 - val_acc: 0.5993\n",
            "Epoch 114/500\n",
            "2373/2373 [==============================] - 0s 102us/step - loss: 0.7427 - acc: 0.6705 - val_loss: 0.8589 - val_acc: 0.6010\n",
            "Epoch 115/500\n",
            "2373/2373 [==============================] - 0s 104us/step - loss: 0.7281 - acc: 0.6667 - val_loss: 0.8652 - val_acc: 0.6313\n",
            "Epoch 116/500\n",
            "2373/2373 [==============================] - 0s 100us/step - loss: 0.7238 - acc: 0.6768 - val_loss: 0.8466 - val_acc: 0.6061\n",
            "Epoch 117/500\n",
            "2373/2373 [==============================] - 0s 102us/step - loss: 0.7335 - acc: 0.6738 - val_loss: 0.8525 - val_acc: 0.6212\n",
            "Epoch 118/500\n",
            "2373/2373 [==============================] - 0s 102us/step - loss: 0.7611 - acc: 0.6587 - val_loss: 0.8503 - val_acc: 0.6061\n",
            "Epoch 119/500\n",
            "2373/2373 [==============================] - 0s 104us/step - loss: 0.7481 - acc: 0.6625 - val_loss: 0.8319 - val_acc: 0.6195\n",
            "Epoch 120/500\n",
            "2373/2373 [==============================] - 0s 101us/step - loss: 0.7106 - acc: 0.6957 - val_loss: 0.8358 - val_acc: 0.6263\n",
            "Epoch 121/500\n",
            "2373/2373 [==============================] - 0s 101us/step - loss: 0.7139 - acc: 0.6806 - val_loss: 0.8358 - val_acc: 0.6077\n",
            "Epoch 122/500\n",
            "2373/2373 [==============================] - 0s 102us/step - loss: 0.7287 - acc: 0.6785 - val_loss: 0.8328 - val_acc: 0.6128\n",
            "Epoch 123/500\n",
            "2373/2373 [==============================] - 0s 105us/step - loss: 0.7099 - acc: 0.6924 - val_loss: 0.8303 - val_acc: 0.6162\n",
            "Epoch 124/500\n",
            "2373/2373 [==============================] - 0s 105us/step - loss: 0.7194 - acc: 0.6776 - val_loss: 0.8323 - val_acc: 0.6111\n",
            "Epoch 125/500\n",
            "2373/2373 [==============================] - 0s 102us/step - loss: 0.7051 - acc: 0.6873 - val_loss: 0.8131 - val_acc: 0.6313\n",
            "Epoch 126/500\n",
            "2373/2373 [==============================] - 0s 101us/step - loss: 0.6897 - acc: 0.6991 - val_loss: 0.8351 - val_acc: 0.6296\n",
            "Epoch 127/500\n",
            "2373/2373 [==============================] - 0s 101us/step - loss: 0.7001 - acc: 0.6928 - val_loss: 0.8520 - val_acc: 0.6195\n",
            "Epoch 128/500\n",
            "2373/2373 [==============================] - 0s 104us/step - loss: 0.7002 - acc: 0.7059 - val_loss: 0.8164 - val_acc: 0.6296\n",
            "Epoch 129/500\n",
            "2373/2373 [==============================] - 0s 100us/step - loss: 0.6963 - acc: 0.7033 - val_loss: 0.8408 - val_acc: 0.6212\n",
            "Epoch 130/500\n",
            "2373/2373 [==============================] - 0s 101us/step - loss: 0.6996 - acc: 0.6949 - val_loss: 0.8262 - val_acc: 0.6313\n",
            "Epoch 131/500\n",
            "2373/2373 [==============================] - 0s 101us/step - loss: 0.6840 - acc: 0.6941 - val_loss: 0.8351 - val_acc: 0.6195\n",
            "Epoch 132/500\n",
            "2373/2373 [==============================] - 0s 107us/step - loss: 0.6650 - acc: 0.7126 - val_loss: 0.8223 - val_acc: 0.6414\n",
            "Epoch 133/500\n",
            "2373/2373 [==============================] - 0s 103us/step - loss: 0.6769 - acc: 0.7109 - val_loss: 0.8281 - val_acc: 0.6279\n",
            "Epoch 134/500\n",
            "2373/2373 [==============================] - 0s 102us/step - loss: 0.6831 - acc: 0.6983 - val_loss: 0.8487 - val_acc: 0.6044\n",
            "Epoch 135/500\n",
            "2373/2373 [==============================] - 0s 102us/step - loss: 0.6747 - acc: 0.7164 - val_loss: 0.8224 - val_acc: 0.6212\n",
            "Epoch 136/500\n",
            "2373/2373 [==============================] - 0s 103us/step - loss: 0.6612 - acc: 0.7193 - val_loss: 0.8091 - val_acc: 0.6313\n",
            "Epoch 137/500\n",
            "2373/2373 [==============================] - 0s 100us/step - loss: 0.6584 - acc: 0.7164 - val_loss: 0.8503 - val_acc: 0.6212\n",
            "Epoch 138/500\n",
            "2373/2373 [==============================] - 0s 105us/step - loss: 0.6879 - acc: 0.7084 - val_loss: 0.8273 - val_acc: 0.6448\n",
            "Epoch 139/500\n",
            "2373/2373 [==============================] - 0s 98us/step - loss: 0.6559 - acc: 0.7303 - val_loss: 0.8267 - val_acc: 0.6448\n",
            "Epoch 140/500\n",
            "2373/2373 [==============================] - 0s 99us/step - loss: 0.6498 - acc: 0.7240 - val_loss: 0.8129 - val_acc: 0.6313\n",
            "Epoch 141/500\n",
            "2373/2373 [==============================] - 0s 103us/step - loss: 0.6553 - acc: 0.7177 - val_loss: 0.8203 - val_acc: 0.6229\n",
            "Epoch 142/500\n",
            "2373/2373 [==============================] - 0s 99us/step - loss: 0.6584 - acc: 0.7168 - val_loss: 0.8229 - val_acc: 0.6212\n",
            "Epoch 143/500\n",
            "2373/2373 [==============================] - 0s 103us/step - loss: 0.6547 - acc: 0.7307 - val_loss: 0.8027 - val_acc: 0.6330\n",
            "Epoch 144/500\n",
            "2373/2373 [==============================] - 0s 104us/step - loss: 0.6477 - acc: 0.7244 - val_loss: 0.8326 - val_acc: 0.6347\n",
            "Epoch 145/500\n",
            "2373/2373 [==============================] - 0s 103us/step - loss: 0.6625 - acc: 0.7164 - val_loss: 0.8143 - val_acc: 0.6481\n",
            "Epoch 146/500\n",
            "2373/2373 [==============================] - 0s 103us/step - loss: 0.6256 - acc: 0.7328 - val_loss: 0.8229 - val_acc: 0.6431\n",
            "Epoch 147/500\n",
            "2373/2373 [==============================] - 0s 101us/step - loss: 0.6284 - acc: 0.7366 - val_loss: 0.8268 - val_acc: 0.6532\n",
            "Epoch 148/500\n",
            "2373/2373 [==============================] - 0s 98us/step - loss: 0.6494 - acc: 0.7290 - val_loss: 0.8330 - val_acc: 0.6397\n",
            "Epoch 149/500\n",
            "2373/2373 [==============================] - 0s 101us/step - loss: 0.6630 - acc: 0.7265 - val_loss: 0.8089 - val_acc: 0.6582\n",
            "Epoch 150/500\n",
            "2373/2373 [==============================] - 0s 101us/step - loss: 0.6577 - acc: 0.7109 - val_loss: 0.8145 - val_acc: 0.6364\n",
            "Epoch 151/500\n",
            "2373/2373 [==============================] - 0s 99us/step - loss: 0.6434 - acc: 0.7248 - val_loss: 0.8177 - val_acc: 0.6414\n",
            "Epoch 152/500\n",
            "2373/2373 [==============================] - 0s 99us/step - loss: 0.6499 - acc: 0.7240 - val_loss: 0.8208 - val_acc: 0.6549\n",
            "Epoch 153/500\n",
            "2373/2373 [==============================] - 0s 104us/step - loss: 0.6214 - acc: 0.7408 - val_loss: 0.8147 - val_acc: 0.6414\n",
            "Epoch 154/500\n",
            "2373/2373 [==============================] - 0s 101us/step - loss: 0.6361 - acc: 0.7425 - val_loss: 0.8106 - val_acc: 0.6582\n",
            "Epoch 155/500\n",
            "2373/2373 [==============================] - 0s 99us/step - loss: 0.6301 - acc: 0.7450 - val_loss: 0.8131 - val_acc: 0.6582\n",
            "Epoch 156/500\n",
            "2373/2373 [==============================] - 0s 99us/step - loss: 0.5969 - acc: 0.7467 - val_loss: 0.8004 - val_acc: 0.6549\n",
            "Epoch 157/500\n",
            "2373/2373 [==============================] - 0s 104us/step - loss: 0.6164 - acc: 0.7463 - val_loss: 0.8152 - val_acc: 0.6397\n",
            "Epoch 158/500\n",
            "2373/2373 [==============================] - 0s 100us/step - loss: 0.6276 - acc: 0.7311 - val_loss: 0.8078 - val_acc: 0.6448\n",
            "Epoch 159/500\n",
            "2373/2373 [==============================] - 0s 99us/step - loss: 0.6155 - acc: 0.7383 - val_loss: 0.8044 - val_acc: 0.6633\n",
            "Epoch 160/500\n",
            "2373/2373 [==============================] - 0s 100us/step - loss: 0.6062 - acc: 0.7497 - val_loss: 0.8204 - val_acc: 0.6498\n",
            "Epoch 161/500\n",
            "2373/2373 [==============================] - 0s 103us/step - loss: 0.6301 - acc: 0.7408 - val_loss: 0.7997 - val_acc: 0.6414\n",
            "Epoch 162/500\n",
            "2373/2373 [==============================] - 0s 102us/step - loss: 0.6272 - acc: 0.7442 - val_loss: 0.7848 - val_acc: 0.6633\n",
            "Epoch 163/500\n",
            "2373/2373 [==============================] - 0s 101us/step - loss: 0.5965 - acc: 0.7590 - val_loss: 0.7914 - val_acc: 0.6700\n",
            "Epoch 164/500\n",
            "2373/2373 [==============================] - 0s 100us/step - loss: 0.5948 - acc: 0.7391 - val_loss: 0.8061 - val_acc: 0.6667\n",
            "Epoch 165/500\n",
            "2373/2373 [==============================] - 0s 102us/step - loss: 0.6169 - acc: 0.7459 - val_loss: 0.8016 - val_acc: 0.6532\n",
            "Epoch 166/500\n",
            "2373/2373 [==============================] - 0s 108us/step - loss: 0.5961 - acc: 0.7564 - val_loss: 0.8179 - val_acc: 0.6633\n",
            "Epoch 167/500\n",
            "2373/2373 [==============================] - 0s 102us/step - loss: 0.6006 - acc: 0.7640 - val_loss: 0.8068 - val_acc: 0.6801\n",
            "Epoch 168/500\n",
            "2373/2373 [==============================] - 0s 100us/step - loss: 0.5924 - acc: 0.7598 - val_loss: 0.7792 - val_acc: 0.6801\n",
            "Epoch 169/500\n",
            "2373/2373 [==============================] - 0s 101us/step - loss: 0.5867 - acc: 0.7497 - val_loss: 0.7888 - val_acc: 0.6566\n",
            "Epoch 170/500\n",
            "2373/2373 [==============================] - 0s 100us/step - loss: 0.6066 - acc: 0.7455 - val_loss: 0.8000 - val_acc: 0.6347\n",
            "Epoch 171/500\n",
            "2373/2373 [==============================] - 0s 103us/step - loss: 0.5799 - acc: 0.7459 - val_loss: 0.7959 - val_acc: 0.6650\n",
            "Epoch 172/500\n",
            "2373/2373 [==============================] - 0s 102us/step - loss: 0.6025 - acc: 0.7573 - val_loss: 0.7810 - val_acc: 0.6532\n",
            "Epoch 173/500\n",
            "2373/2373 [==============================] - 0s 99us/step - loss: 0.6005 - acc: 0.7547 - val_loss: 0.7846 - val_acc: 0.6599\n",
            "Epoch 174/500\n",
            "2373/2373 [==============================] - 0s 105us/step - loss: 0.5809 - acc: 0.7585 - val_loss: 0.7989 - val_acc: 0.6700\n",
            "Epoch 175/500\n",
            "2373/2373 [==============================] - 0s 109us/step - loss: 0.5716 - acc: 0.7674 - val_loss: 0.7958 - val_acc: 0.6650\n",
            "Epoch 176/500\n",
            "2373/2373 [==============================] - 0s 101us/step - loss: 0.5752 - acc: 0.7568 - val_loss: 0.7764 - val_acc: 0.6801\n",
            "Epoch 177/500\n",
            "2373/2373 [==============================] - 0s 98us/step - loss: 0.5810 - acc: 0.7632 - val_loss: 0.7875 - val_acc: 0.6886\n",
            "Epoch 178/500\n",
            "2373/2373 [==============================] - 0s 101us/step - loss: 0.6043 - acc: 0.7472 - val_loss: 0.8103 - val_acc: 0.6599\n",
            "Epoch 179/500\n",
            "2373/2373 [==============================] - 0s 103us/step - loss: 0.5638 - acc: 0.7800 - val_loss: 0.7874 - val_acc: 0.6768\n",
            "Epoch 180/500\n",
            "2373/2373 [==============================] - 0s 100us/step - loss: 0.5573 - acc: 0.7741 - val_loss: 0.7924 - val_acc: 0.6717\n",
            "Epoch 181/500\n",
            "2373/2373 [==============================] - 0s 102us/step - loss: 0.5734 - acc: 0.7699 - val_loss: 0.8102 - val_acc: 0.6481\n",
            "Epoch 182/500\n",
            "2373/2373 [==============================] - 0s 103us/step - loss: 0.5595 - acc: 0.7762 - val_loss: 0.8017 - val_acc: 0.6801\n",
            "Epoch 183/500\n",
            "2373/2373 [==============================] - 0s 99us/step - loss: 0.5574 - acc: 0.7796 - val_loss: 0.7784 - val_acc: 0.6751\n",
            "Epoch 184/500\n",
            "2373/2373 [==============================] - 0s 101us/step - loss: 0.5546 - acc: 0.7804 - val_loss: 0.7917 - val_acc: 0.6616\n",
            "Epoch 185/500\n",
            "2373/2373 [==============================] - 0s 101us/step - loss: 0.5452 - acc: 0.7817 - val_loss: 0.7881 - val_acc: 0.6734\n",
            "Epoch 186/500\n",
            "2373/2373 [==============================] - 0s 100us/step - loss: 0.5433 - acc: 0.7724 - val_loss: 0.8166 - val_acc: 0.6566\n",
            "Epoch 187/500\n",
            "2373/2373 [==============================] - 0s 107us/step - loss: 0.5562 - acc: 0.7788 - val_loss: 0.7932 - val_acc: 0.6667\n",
            "Epoch 188/500\n",
            "2373/2373 [==============================] - 0s 102us/step - loss: 0.5684 - acc: 0.7657 - val_loss: 0.7937 - val_acc: 0.6818\n",
            "Epoch 189/500\n",
            "2373/2373 [==============================] - 0s 99us/step - loss: 0.5273 - acc: 0.7813 - val_loss: 0.7729 - val_acc: 0.6869\n",
            "Epoch 190/500\n",
            "2373/2373 [==============================] - 0s 102us/step - loss: 0.5434 - acc: 0.7720 - val_loss: 0.7916 - val_acc: 0.6751\n",
            "Epoch 191/500\n",
            "2373/2373 [==============================] - 0s 103us/step - loss: 0.5462 - acc: 0.7788 - val_loss: 0.8130 - val_acc: 0.6801\n",
            "Epoch 192/500\n",
            "2373/2373 [==============================] - 0s 99us/step - loss: 0.5537 - acc: 0.7758 - val_loss: 0.7676 - val_acc: 0.6751\n",
            "Epoch 193/500\n",
            "2373/2373 [==============================] - 0s 104us/step - loss: 0.5362 - acc: 0.7800 - val_loss: 0.7744 - val_acc: 0.6835\n",
            "Epoch 194/500\n",
            "2373/2373 [==============================] - 0s 104us/step - loss: 0.5328 - acc: 0.7817 - val_loss: 0.7841 - val_acc: 0.6902\n",
            "Epoch 195/500\n",
            "2373/2373 [==============================] - 0s 104us/step - loss: 0.5528 - acc: 0.7745 - val_loss: 0.7739 - val_acc: 0.6852\n",
            "Epoch 196/500\n",
            "2373/2373 [==============================] - 0s 99us/step - loss: 0.5226 - acc: 0.7855 - val_loss: 0.7632 - val_acc: 0.6953\n",
            "Epoch 197/500\n",
            "2373/2373 [==============================] - 0s 98us/step - loss: 0.5303 - acc: 0.7872 - val_loss: 0.7842 - val_acc: 0.6801\n",
            "Epoch 198/500\n",
            "2373/2373 [==============================] - 0s 99us/step - loss: 0.5451 - acc: 0.7729 - val_loss: 0.7793 - val_acc: 0.6852\n",
            "Epoch 199/500\n",
            "2373/2373 [==============================] - 0s 104us/step - loss: 0.5357 - acc: 0.7817 - val_loss: 0.7757 - val_acc: 0.6953\n",
            "Epoch 200/500\n",
            "2373/2373 [==============================] - 0s 99us/step - loss: 0.5250 - acc: 0.7939 - val_loss: 0.7461 - val_acc: 0.6919\n",
            "Epoch 201/500\n",
            "2373/2373 [==============================] - 0s 99us/step - loss: 0.5421 - acc: 0.7847 - val_loss: 0.7905 - val_acc: 0.6734\n",
            "Epoch 202/500\n",
            "2373/2373 [==============================] - 0s 100us/step - loss: 0.5190 - acc: 0.7910 - val_loss: 0.7765 - val_acc: 0.6953\n",
            "Epoch 203/500\n",
            "2373/2373 [==============================] - 0s 101us/step - loss: 0.5234 - acc: 0.7834 - val_loss: 0.7811 - val_acc: 0.6886\n",
            "Epoch 204/500\n",
            "2373/2373 [==============================] - 0s 103us/step - loss: 0.5361 - acc: 0.7834 - val_loss: 0.7718 - val_acc: 0.6667\n",
            "Epoch 205/500\n",
            "2373/2373 [==============================] - 0s 100us/step - loss: 0.5181 - acc: 0.7906 - val_loss: 0.7868 - val_acc: 0.6734\n",
            "Epoch 206/500\n",
            "2373/2373 [==============================] - 0s 98us/step - loss: 0.5054 - acc: 0.8015 - val_loss: 0.8017 - val_acc: 0.6801\n",
            "Epoch 207/500\n",
            "2373/2373 [==============================] - 0s 99us/step - loss: 0.5036 - acc: 0.7960 - val_loss: 0.7837 - val_acc: 0.6667\n",
            "Epoch 208/500\n",
            "2373/2373 [==============================] - 0s 105us/step - loss: 0.5006 - acc: 0.7965 - val_loss: 0.7859 - val_acc: 0.6902\n",
            "Epoch 209/500\n",
            "2373/2373 [==============================] - 0s 100us/step - loss: 0.5069 - acc: 0.7952 - val_loss: 0.7588 - val_acc: 0.6818\n",
            "Epoch 210/500\n",
            "2373/2373 [==============================] - 0s 99us/step - loss: 0.4957 - acc: 0.8011 - val_loss: 0.7780 - val_acc: 0.6785\n",
            "Epoch 211/500\n",
            "2373/2373 [==============================] - 0s 99us/step - loss: 0.5216 - acc: 0.7914 - val_loss: 0.7893 - val_acc: 0.6751\n",
            "Epoch 212/500\n",
            "2373/2373 [==============================] - 0s 103us/step - loss: 0.5102 - acc: 0.7965 - val_loss: 0.7946 - val_acc: 0.6970\n",
            "Epoch 213/500\n",
            "2373/2373 [==============================] - 0s 100us/step - loss: 0.5138 - acc: 0.7939 - val_loss: 0.7708 - val_acc: 0.7037\n",
            "Epoch 214/500\n",
            "2373/2373 [==============================] - 0s 101us/step - loss: 0.5191 - acc: 0.7817 - val_loss: 0.7682 - val_acc: 0.6987\n",
            "Epoch 215/500\n",
            "2373/2373 [==============================] - 0s 98us/step - loss: 0.5165 - acc: 0.7855 - val_loss: 0.7959 - val_acc: 0.6818\n",
            "Epoch 216/500\n",
            "2373/2373 [==============================] - 0s 101us/step - loss: 0.4769 - acc: 0.8053 - val_loss: 0.7716 - val_acc: 0.6919\n",
            "Epoch 217/500\n",
            "2373/2373 [==============================] - 0s 101us/step - loss: 0.4983 - acc: 0.7973 - val_loss: 0.8067 - val_acc: 0.6970\n",
            "Epoch 218/500\n",
            "2373/2373 [==============================] - 0s 102us/step - loss: 0.5258 - acc: 0.7956 - val_loss: 0.7780 - val_acc: 0.6919\n",
            "Epoch 219/500\n",
            "2373/2373 [==============================] - 0s 103us/step - loss: 0.5073 - acc: 0.7973 - val_loss: 0.7810 - val_acc: 0.6852\n",
            "Epoch 220/500\n",
            "2373/2373 [==============================] - 0s 99us/step - loss: 0.4735 - acc: 0.8099 - val_loss: 0.8064 - val_acc: 0.6886\n",
            "Epoch 221/500\n",
            "2373/2373 [==============================] - 0s 101us/step - loss: 0.5130 - acc: 0.7906 - val_loss: 0.7846 - val_acc: 0.6987\n",
            "Epoch 222/500\n",
            "2373/2373 [==============================] - 0s 101us/step - loss: 0.5001 - acc: 0.7880 - val_loss: 0.7729 - val_acc: 0.6987\n",
            "Epoch 223/500\n",
            "2373/2373 [==============================] - 0s 104us/step - loss: 0.4693 - acc: 0.8167 - val_loss: 0.7994 - val_acc: 0.7138\n",
            "Epoch 224/500\n",
            "2373/2373 [==============================] - 0s 99us/step - loss: 0.4731 - acc: 0.8184 - val_loss: 0.7807 - val_acc: 0.7189\n",
            "Epoch 225/500\n",
            "2373/2373 [==============================] - 0s 105us/step - loss: 0.4908 - acc: 0.8074 - val_loss: 0.7796 - val_acc: 0.7155\n",
            "Epoch 226/500\n",
            "2373/2373 [==============================] - 0s 99us/step - loss: 0.4611 - acc: 0.8087 - val_loss: 0.7825 - val_acc: 0.7104\n",
            "Epoch 227/500\n",
            "2373/2373 [==============================] - 0s 99us/step - loss: 0.4661 - acc: 0.8108 - val_loss: 0.7853 - val_acc: 0.6886\n",
            "Epoch 228/500\n",
            "2373/2373 [==============================] - 0s 100us/step - loss: 0.4530 - acc: 0.8205 - val_loss: 0.7845 - val_acc: 0.6852\n",
            "Epoch 229/500\n",
            "2373/2373 [==============================] - 0s 102us/step - loss: 0.4650 - acc: 0.8184 - val_loss: 0.7966 - val_acc: 0.7054\n",
            "Epoch 230/500\n",
            "2373/2373 [==============================] - 0s 99us/step - loss: 0.4708 - acc: 0.8184 - val_loss: 0.7443 - val_acc: 0.7205\n",
            "Epoch 231/500\n",
            "2373/2373 [==============================] - 0s 101us/step - loss: 0.4749 - acc: 0.8070 - val_loss: 0.7676 - val_acc: 0.7239\n",
            "Epoch 232/500\n",
            "2373/2373 [==============================] - 0s 100us/step - loss: 0.4692 - acc: 0.8099 - val_loss: 0.7520 - val_acc: 0.6970\n",
            "Epoch 233/500\n",
            "2373/2373 [==============================] - 0s 100us/step - loss: 0.4671 - acc: 0.8062 - val_loss: 0.8011 - val_acc: 0.7003\n",
            "Epoch 234/500\n",
            "2373/2373 [==============================] - 0s 97us/step - loss: 0.4752 - acc: 0.8066 - val_loss: 0.7748 - val_acc: 0.7306\n",
            "Epoch 235/500\n",
            "2373/2373 [==============================] - 0s 96us/step - loss: 0.4637 - acc: 0.8112 - val_loss: 0.8046 - val_acc: 0.7003\n",
            "Epoch 236/500\n",
            "2373/2373 [==============================] - 0s 98us/step - loss: 0.4636 - acc: 0.8184 - val_loss: 0.7548 - val_acc: 0.7222\n",
            "Epoch 237/500\n",
            "2373/2373 [==============================] - 0s 104us/step - loss: 0.4609 - acc: 0.8146 - val_loss: 0.7867 - val_acc: 0.7071\n",
            "Epoch 238/500\n",
            "2373/2373 [==============================] - 0s 103us/step - loss: 0.4539 - acc: 0.8192 - val_loss: 0.7522 - val_acc: 0.7273\n",
            "Epoch 239/500\n",
            "2373/2373 [==============================] - 0s 100us/step - loss: 0.4564 - acc: 0.8226 - val_loss: 0.7991 - val_acc: 0.7155\n",
            "Epoch 240/500\n",
            "2373/2373 [==============================] - 0s 97us/step - loss: 0.4656 - acc: 0.8129 - val_loss: 0.7608 - val_acc: 0.7155\n",
            "Epoch 241/500\n",
            "2373/2373 [==============================] - 0s 97us/step - loss: 0.4597 - acc: 0.8226 - val_loss: 0.7670 - val_acc: 0.7357\n",
            "Epoch 242/500\n",
            "2373/2373 [==============================] - 0s 104us/step - loss: 0.4521 - acc: 0.8281 - val_loss: 0.7869 - val_acc: 0.7088\n",
            "Epoch 243/500\n",
            "2373/2373 [==============================] - 0s 97us/step - loss: 0.4648 - acc: 0.8150 - val_loss: 0.7816 - val_acc: 0.7273\n",
            "Epoch 244/500\n",
            "2373/2373 [==============================] - 0s 99us/step - loss: 0.4399 - acc: 0.8230 - val_loss: 0.7921 - val_acc: 0.7155\n",
            "Epoch 245/500\n",
            "2373/2373 [==============================] - 0s 98us/step - loss: 0.4627 - acc: 0.8184 - val_loss: 0.7699 - val_acc: 0.7340\n",
            "Epoch 246/500\n",
            "2373/2373 [==============================] - 0s 100us/step - loss: 0.4633 - acc: 0.8243 - val_loss: 0.7637 - val_acc: 0.7104\n",
            "Epoch 247/500\n",
            "2373/2373 [==============================] - 0s 98us/step - loss: 0.4488 - acc: 0.8205 - val_loss: 0.7582 - val_acc: 0.7340\n",
            "Epoch 248/500\n",
            "2373/2373 [==============================] - 0s 96us/step - loss: 0.4592 - acc: 0.8251 - val_loss: 0.7904 - val_acc: 0.7340\n",
            "Epoch 249/500\n",
            "2373/2373 [==============================] - 0s 99us/step - loss: 0.4620 - acc: 0.8171 - val_loss: 0.7842 - val_acc: 0.7138\n",
            "Epoch 250/500\n",
            "2373/2373 [==============================] - 0s 98us/step - loss: 0.4587 - acc: 0.8129 - val_loss: 0.7642 - val_acc: 0.7306\n",
            "Epoch 251/500\n",
            "2373/2373 [==============================] - 0s 103us/step - loss: 0.4734 - acc: 0.8087 - val_loss: 0.7575 - val_acc: 0.7256\n",
            "Epoch 252/500\n",
            "2373/2373 [==============================] - 0s 99us/step - loss: 0.4392 - acc: 0.8281 - val_loss: 0.7699 - val_acc: 0.7189\n",
            "Epoch 253/500\n",
            "2373/2373 [==============================] - 0s 99us/step - loss: 0.4523 - acc: 0.8209 - val_loss: 0.7625 - val_acc: 0.7205\n",
            "Epoch 254/500\n",
            "2373/2373 [==============================] - 0s 99us/step - loss: 0.4386 - acc: 0.8310 - val_loss: 0.7418 - val_acc: 0.7290\n",
            "Epoch 255/500\n",
            "2373/2373 [==============================] - 0s 103us/step - loss: 0.4499 - acc: 0.8230 - val_loss: 0.7693 - val_acc: 0.7155\n",
            "Epoch 256/500\n",
            "2373/2373 [==============================] - 0s 100us/step - loss: 0.4300 - acc: 0.8361 - val_loss: 0.7512 - val_acc: 0.7407\n",
            "Epoch 257/500\n",
            "2373/2373 [==============================] - 0s 101us/step - loss: 0.4421 - acc: 0.8293 - val_loss: 0.7876 - val_acc: 0.7391\n",
            "Epoch 258/500\n",
            "2373/2373 [==============================] - 0s 100us/step - loss: 0.4477 - acc: 0.8150 - val_loss: 0.7494 - val_acc: 0.7290\n",
            "Epoch 259/500\n",
            "2373/2373 [==============================] - 0s 101us/step - loss: 0.4148 - acc: 0.8416 - val_loss: 0.7597 - val_acc: 0.7391\n",
            "Epoch 260/500\n",
            "2373/2373 [==============================] - 0s 102us/step - loss: 0.4565 - acc: 0.8234 - val_loss: 0.7633 - val_acc: 0.7306\n",
            "Epoch 261/500\n",
            "2373/2373 [==============================] - 0s 97us/step - loss: 0.4470 - acc: 0.8137 - val_loss: 0.7544 - val_acc: 0.7340\n",
            "Epoch 262/500\n",
            "2373/2373 [==============================] - 0s 105us/step - loss: 0.4230 - acc: 0.8348 - val_loss: 0.7564 - val_acc: 0.7407\n",
            "Epoch 263/500\n",
            "2373/2373 [==============================] - 0s 100us/step - loss: 0.4268 - acc: 0.8424 - val_loss: 0.7820 - val_acc: 0.7222\n",
            "Epoch 264/500\n",
            "2373/2373 [==============================] - 0s 105us/step - loss: 0.4259 - acc: 0.8213 - val_loss: 0.7560 - val_acc: 0.7172\n",
            "Epoch 265/500\n",
            "2373/2373 [==============================] - 0s 105us/step - loss: 0.4260 - acc: 0.8268 - val_loss: 0.7759 - val_acc: 0.7306\n",
            "Epoch 266/500\n",
            "2373/2373 [==============================] - 0s 103us/step - loss: 0.4190 - acc: 0.8344 - val_loss: 0.7737 - val_acc: 0.7205\n",
            "Epoch 267/500\n",
            "2373/2373 [==============================] - 0s 98us/step - loss: 0.4151 - acc: 0.8348 - val_loss: 0.7469 - val_acc: 0.7239\n",
            "Epoch 268/500\n",
            "2373/2373 [==============================] - 0s 99us/step - loss: 0.4120 - acc: 0.8517 - val_loss: 0.7775 - val_acc: 0.7357\n",
            "Epoch 269/500\n",
            "2373/2373 [==============================] - 0s 98us/step - loss: 0.4388 - acc: 0.8281 - val_loss: 0.7605 - val_acc: 0.7323\n",
            "Epoch 270/500\n",
            "2373/2373 [==============================] - 0s 99us/step - loss: 0.4342 - acc: 0.8357 - val_loss: 0.7783 - val_acc: 0.7273\n",
            "Epoch 271/500\n",
            "2373/2373 [==============================] - 0s 100us/step - loss: 0.4400 - acc: 0.8188 - val_loss: 0.7676 - val_acc: 0.7357\n",
            "Epoch 272/500\n",
            "2373/2373 [==============================] - 0s 103us/step - loss: 0.4192 - acc: 0.8352 - val_loss: 0.7793 - val_acc: 0.7340\n",
            "Epoch 273/500\n",
            "2373/2373 [==============================] - 0s 100us/step - loss: 0.4057 - acc: 0.8386 - val_loss: 0.7801 - val_acc: 0.7340\n",
            "Epoch 274/500\n",
            "2373/2373 [==============================] - 0s 99us/step - loss: 0.4042 - acc: 0.8394 - val_loss: 0.7784 - val_acc: 0.7256\n",
            "Epoch 275/500\n",
            "2373/2373 [==============================] - 0s 97us/step - loss: 0.4314 - acc: 0.8302 - val_loss: 0.7894 - val_acc: 0.7239\n",
            "Epoch 276/500\n",
            "2373/2373 [==============================] - 0s 99us/step - loss: 0.4317 - acc: 0.8276 - val_loss: 0.7785 - val_acc: 0.7374\n",
            "Epoch 277/500\n",
            "2373/2373 [==============================] - 0s 98us/step - loss: 0.3965 - acc: 0.8453 - val_loss: 0.7776 - val_acc: 0.7290\n",
            "Epoch 278/500\n",
            "2373/2373 [==============================] - 0s 99us/step - loss: 0.3949 - acc: 0.8538 - val_loss: 0.7910 - val_acc: 0.7290\n",
            "Epoch 279/500\n",
            "2373/2373 [==============================] - 0s 99us/step - loss: 0.4088 - acc: 0.8504 - val_loss: 0.7811 - val_acc: 0.7424\n",
            "Epoch 280/500\n",
            "2373/2373 [==============================] - 0s 101us/step - loss: 0.4270 - acc: 0.8314 - val_loss: 0.7636 - val_acc: 0.7256\n",
            "Epoch 281/500\n",
            "2373/2373 [==============================] - 0s 102us/step - loss: 0.4018 - acc: 0.8453 - val_loss: 0.7535 - val_acc: 0.7340\n",
            "Epoch 282/500\n",
            "2373/2373 [==============================] - 0s 101us/step - loss: 0.4104 - acc: 0.8504 - val_loss: 0.7791 - val_acc: 0.7374\n",
            "Epoch 283/500\n",
            "2373/2373 [==============================] - 0s 102us/step - loss: 0.3970 - acc: 0.8542 - val_loss: 0.7876 - val_acc: 0.7357\n",
            "Epoch 284/500\n",
            "2373/2373 [==============================] - 0s 99us/step - loss: 0.4116 - acc: 0.8323 - val_loss: 0.7738 - val_acc: 0.7374\n",
            "Epoch 285/500\n",
            "2373/2373 [==============================] - 0s 103us/step - loss: 0.3908 - acc: 0.8487 - val_loss: 0.7970 - val_acc: 0.7340\n",
            "Epoch 286/500\n",
            "2373/2373 [==============================] - 0s 101us/step - loss: 0.4248 - acc: 0.8323 - val_loss: 0.7862 - val_acc: 0.7273\n",
            "Epoch 287/500\n",
            "2373/2373 [==============================] - 0s 102us/step - loss: 0.4105 - acc: 0.8458 - val_loss: 0.7616 - val_acc: 0.7374\n",
            "Epoch 288/500\n",
            "2373/2373 [==============================] - 0s 100us/step - loss: 0.4162 - acc: 0.8344 - val_loss: 0.7729 - val_acc: 0.7306\n",
            "Epoch 289/500\n",
            "2373/2373 [==============================] - 0s 103us/step - loss: 0.4019 - acc: 0.8479 - val_loss: 0.7788 - val_acc: 0.7205\n",
            "Epoch 290/500\n",
            "2373/2373 [==============================] - 0s 102us/step - loss: 0.4069 - acc: 0.8483 - val_loss: 0.7749 - val_acc: 0.7323\n",
            "Epoch 291/500\n",
            "2373/2373 [==============================] - 0s 98us/step - loss: 0.3779 - acc: 0.8500 - val_loss: 0.8063 - val_acc: 0.7273\n",
            "Epoch 292/500\n",
            "2373/2373 [==============================] - 0s 98us/step - loss: 0.3739 - acc: 0.8521 - val_loss: 0.8070 - val_acc: 0.7239\n",
            "Epoch 293/500\n",
            "2373/2373 [==============================] - 0s 100us/step - loss: 0.4123 - acc: 0.8331 - val_loss: 0.7620 - val_acc: 0.7340\n",
            "Epoch 294/500\n",
            "2373/2373 [==============================] - 0s 99us/step - loss: 0.4028 - acc: 0.8449 - val_loss: 0.7689 - val_acc: 0.7407\n",
            "Epoch 295/500\n",
            "2373/2373 [==============================] - 0s 100us/step - loss: 0.3840 - acc: 0.8525 - val_loss: 0.8126 - val_acc: 0.7273\n",
            "Epoch 296/500\n",
            "2373/2373 [==============================] - 0s 96us/step - loss: 0.3899 - acc: 0.8394 - val_loss: 0.7850 - val_acc: 0.7424\n",
            "Epoch 297/500\n",
            "2373/2373 [==============================] - 0s 96us/step - loss: 0.3716 - acc: 0.8559 - val_loss: 0.7765 - val_acc: 0.7374\n",
            "Epoch 298/500\n",
            "2373/2373 [==============================] - 0s 105us/step - loss: 0.3915 - acc: 0.8449 - val_loss: 0.8381 - val_acc: 0.7222\n",
            "Epoch 299/500\n",
            "2373/2373 [==============================] - 0s 96us/step - loss: 0.3761 - acc: 0.8592 - val_loss: 0.7530 - val_acc: 0.7424\n",
            "Epoch 300/500\n",
            "2373/2373 [==============================] - 0s 100us/step - loss: 0.3702 - acc: 0.8529 - val_loss: 0.7756 - val_acc: 0.7424\n",
            "Epoch 301/500\n",
            "2373/2373 [==============================] - 0s 98us/step - loss: 0.3853 - acc: 0.8546 - val_loss: 0.7884 - val_acc: 0.7357\n",
            "Epoch 302/500\n",
            "2373/2373 [==============================] - 0s 100us/step - loss: 0.3796 - acc: 0.8475 - val_loss: 0.8005 - val_acc: 0.7323\n",
            "Epoch 303/500\n",
            "2373/2373 [==============================] - 0s 101us/step - loss: 0.3864 - acc: 0.8458 - val_loss: 0.7660 - val_acc: 0.7323\n",
            "Epoch 304/500\n",
            "2373/2373 [==============================] - 0s 102us/step - loss: 0.3759 - acc: 0.8584 - val_loss: 0.7896 - val_acc: 0.7458\n",
            "Epoch 305/500\n",
            "2373/2373 [==============================] - 0s 107us/step - loss: 0.4031 - acc: 0.8487 - val_loss: 0.7776 - val_acc: 0.7340\n",
            "Epoch 306/500\n",
            "2373/2373 [==============================] - 0s 100us/step - loss: 0.4195 - acc: 0.8437 - val_loss: 0.7658 - val_acc: 0.7407\n",
            "Epoch 307/500\n",
            "2373/2373 [==============================] - 0s 99us/step - loss: 0.3863 - acc: 0.8563 - val_loss: 0.8359 - val_acc: 0.7256\n",
            "Epoch 308/500\n",
            "2373/2373 [==============================] - 0s 101us/step - loss: 0.3825 - acc: 0.8470 - val_loss: 0.7906 - val_acc: 0.7424\n",
            "Epoch 309/500\n",
            "2373/2373 [==============================] - 0s 97us/step - loss: 0.3738 - acc: 0.8626 - val_loss: 0.7616 - val_acc: 0.7374\n",
            "Epoch 310/500\n",
            "2373/2373 [==============================] - 0s 104us/step - loss: 0.3951 - acc: 0.8521 - val_loss: 0.7846 - val_acc: 0.7441\n",
            "Epoch 311/500\n",
            "2373/2373 [==============================] - 0s 99us/step - loss: 0.3810 - acc: 0.8517 - val_loss: 0.7692 - val_acc: 0.7340\n",
            "Epoch 312/500\n",
            "2373/2373 [==============================] - 0s 101us/step - loss: 0.3783 - acc: 0.8529 - val_loss: 0.7626 - val_acc: 0.7407\n",
            "Epoch 313/500\n",
            "2373/2373 [==============================] - 0s 101us/step - loss: 0.3725 - acc: 0.8609 - val_loss: 0.8289 - val_acc: 0.7020\n",
            "Epoch 314/500\n",
            "2373/2373 [==============================] - 0s 100us/step - loss: 0.3812 - acc: 0.8479 - val_loss: 0.7637 - val_acc: 0.7508\n",
            "Epoch 315/500\n",
            "2373/2373 [==============================] - 0s 104us/step - loss: 0.3976 - acc: 0.8424 - val_loss: 0.7719 - val_acc: 0.7458\n",
            "Epoch 316/500\n",
            "2373/2373 [==============================] - 0s 102us/step - loss: 0.3999 - acc: 0.8496 - val_loss: 0.7968 - val_acc: 0.7306\n",
            "Epoch 317/500\n",
            "2373/2373 [==============================] - 0s 99us/step - loss: 0.4089 - acc: 0.8458 - val_loss: 0.7534 - val_acc: 0.7424\n",
            "Epoch 318/500\n",
            "2373/2373 [==============================] - 0s 97us/step - loss: 0.3539 - acc: 0.8597 - val_loss: 0.7808 - val_acc: 0.7407\n",
            "Epoch 319/500\n",
            "2373/2373 [==============================] - 0s 104us/step - loss: 0.3737 - acc: 0.8534 - val_loss: 0.7805 - val_acc: 0.7492\n",
            "Epoch 320/500\n",
            "2373/2373 [==============================] - 0s 101us/step - loss: 0.3494 - acc: 0.8685 - val_loss: 0.8234 - val_acc: 0.7424\n",
            "Epoch 321/500\n",
            "2373/2373 [==============================] - 0s 100us/step - loss: 0.3544 - acc: 0.8689 - val_loss: 0.7593 - val_acc: 0.7458\n",
            "Epoch 322/500\n",
            "2373/2373 [==============================] - 0s 97us/step - loss: 0.3651 - acc: 0.8622 - val_loss: 0.7558 - val_acc: 0.7340\n",
            "Epoch 323/500\n",
            "2373/2373 [==============================] - 0s 102us/step - loss: 0.3585 - acc: 0.8605 - val_loss: 0.7951 - val_acc: 0.7222\n",
            "Epoch 324/500\n",
            "2373/2373 [==============================] - 0s 101us/step - loss: 0.3860 - acc: 0.8550 - val_loss: 0.7984 - val_acc: 0.7340\n",
            "Epoch 325/500\n",
            "2373/2373 [==============================] - 0s 99us/step - loss: 0.3689 - acc: 0.8601 - val_loss: 0.8169 - val_acc: 0.7256\n",
            "Epoch 326/500\n",
            "2373/2373 [==============================] - 0s 98us/step - loss: 0.3866 - acc: 0.8508 - val_loss: 0.7836 - val_acc: 0.7508\n",
            "Epoch 327/500\n",
            "2373/2373 [==============================] - 0s 105us/step - loss: 0.3999 - acc: 0.8571 - val_loss: 0.7895 - val_acc: 0.7306\n",
            "Epoch 328/500\n",
            "2373/2373 [==============================] - 0s 101us/step - loss: 0.3687 - acc: 0.8618 - val_loss: 0.7755 - val_acc: 0.7525\n",
            "Epoch 329/500\n",
            "2373/2373 [==============================] - 0s 100us/step - loss: 0.3763 - acc: 0.8534 - val_loss: 0.8089 - val_acc: 0.7222\n",
            "Epoch 330/500\n",
            "2373/2373 [==============================] - 0s 98us/step - loss: 0.3804 - acc: 0.8567 - val_loss: 0.8006 - val_acc: 0.7391\n",
            "Epoch 331/500\n",
            "2373/2373 [==============================] - 0s 104us/step - loss: 0.3571 - acc: 0.8656 - val_loss: 0.8154 - val_acc: 0.7205\n",
            "Epoch 332/500\n",
            "2373/2373 [==============================] - 0s 103us/step - loss: 0.3722 - acc: 0.8487 - val_loss: 0.7757 - val_acc: 0.7391\n",
            "Epoch 333/500\n",
            "2373/2373 [==============================] - 0s 102us/step - loss: 0.3565 - acc: 0.8685 - val_loss: 0.8461 - val_acc: 0.7138\n",
            "Epoch 334/500\n",
            "2373/2373 [==============================] - 0s 100us/step - loss: 0.3666 - acc: 0.8546 - val_loss: 0.7809 - val_acc: 0.7424\n",
            "Epoch 335/500\n",
            "2373/2373 [==============================] - 0s 101us/step - loss: 0.3514 - acc: 0.8677 - val_loss: 0.7803 - val_acc: 0.7306\n",
            "Epoch 336/500\n",
            "2373/2373 [==============================] - 0s 107us/step - loss: 0.3473 - acc: 0.8664 - val_loss: 0.8321 - val_acc: 0.7391\n",
            "Epoch 337/500\n",
            "2373/2373 [==============================] - 0s 100us/step - loss: 0.3742 - acc: 0.8626 - val_loss: 0.8278 - val_acc: 0.7340\n",
            "Epoch 338/500\n",
            "2373/2373 [==============================] - 0s 98us/step - loss: 0.3361 - acc: 0.8689 - val_loss: 0.7953 - val_acc: 0.7441\n",
            "Epoch 339/500\n",
            "2373/2373 [==============================] - 0s 97us/step - loss: 0.3605 - acc: 0.8605 - val_loss: 0.8276 - val_acc: 0.7374\n",
            "Epoch 340/500\n",
            "2373/2373 [==============================] - 0s 105us/step - loss: 0.3522 - acc: 0.8651 - val_loss: 0.8033 - val_acc: 0.7441\n",
            "Epoch 341/500\n",
            "2373/2373 [==============================] - 0s 101us/step - loss: 0.3596 - acc: 0.8618 - val_loss: 0.8027 - val_acc: 0.7357\n",
            "Epoch 342/500\n",
            "2373/2373 [==============================] - 0s 102us/step - loss: 0.3648 - acc: 0.8550 - val_loss: 0.8241 - val_acc: 0.7222\n",
            "Epoch 343/500\n",
            "2373/2373 [==============================] - 0s 97us/step - loss: 0.3472 - acc: 0.8677 - val_loss: 0.8062 - val_acc: 0.7424\n",
            "Epoch 344/500\n",
            "2373/2373 [==============================] - 0s 104us/step - loss: 0.3594 - acc: 0.8609 - val_loss: 0.7982 - val_acc: 0.7391\n",
            "Epoch 345/500\n",
            "2373/2373 [==============================] - 0s 98us/step - loss: 0.3504 - acc: 0.8614 - val_loss: 0.8129 - val_acc: 0.7391\n",
            "Epoch 346/500\n",
            "2373/2373 [==============================] - 0s 100us/step - loss: 0.3545 - acc: 0.8571 - val_loss: 0.7924 - val_acc: 0.7357\n",
            "Epoch 347/500\n",
            "2373/2373 [==============================] - 0s 98us/step - loss: 0.3481 - acc: 0.8643 - val_loss: 0.8429 - val_acc: 0.7256\n",
            "Epoch 348/500\n",
            "2373/2373 [==============================] - 0s 103us/step - loss: 0.3463 - acc: 0.8656 - val_loss: 0.8046 - val_acc: 0.7407\n",
            "Epoch 349/500\n",
            "2373/2373 [==============================] - 0s 99us/step - loss: 0.3357 - acc: 0.8651 - val_loss: 0.8178 - val_acc: 0.7508\n",
            "Epoch 350/500\n",
            "2373/2373 [==============================] - 0s 100us/step - loss: 0.3548 - acc: 0.8698 - val_loss: 0.8404 - val_acc: 0.7407\n",
            "Epoch 351/500\n",
            "2373/2373 [==============================] - 0s 105us/step - loss: 0.3370 - acc: 0.8769 - val_loss: 0.7974 - val_acc: 0.7475\n",
            "Epoch 352/500\n",
            "2373/2373 [==============================] - 0s 98us/step - loss: 0.3630 - acc: 0.8580 - val_loss: 0.8069 - val_acc: 0.7340\n",
            "Epoch 353/500\n",
            "2373/2373 [==============================] - 0s 99us/step - loss: 0.3404 - acc: 0.8761 - val_loss: 0.8351 - val_acc: 0.7374\n",
            "Epoch 354/500\n",
            "2373/2373 [==============================] - 0s 102us/step - loss: 0.3385 - acc: 0.8732 - val_loss: 0.8320 - val_acc: 0.7424\n",
            "Epoch 355/500\n",
            "2373/2373 [==============================] - 0s 100us/step - loss: 0.3553 - acc: 0.8651 - val_loss: 0.7973 - val_acc: 0.7576\n",
            "Epoch 356/500\n",
            "2373/2373 [==============================] - 0s 101us/step - loss: 0.3475 - acc: 0.8660 - val_loss: 0.8417 - val_acc: 0.7290\n",
            "Epoch 357/500\n",
            "2373/2373 [==============================] - 0s 104us/step - loss: 0.3296 - acc: 0.8782 - val_loss: 0.7718 - val_acc: 0.7508\n",
            "Epoch 358/500\n",
            "2373/2373 [==============================] - 0s 101us/step - loss: 0.3477 - acc: 0.8740 - val_loss: 0.7705 - val_acc: 0.7576\n",
            "Epoch 359/500\n",
            "2373/2373 [==============================] - 0s 97us/step - loss: 0.3557 - acc: 0.8643 - val_loss: 0.8073 - val_acc: 0.7458\n",
            "Epoch 360/500\n",
            "2373/2373 [==============================] - 0s 101us/step - loss: 0.3326 - acc: 0.8685 - val_loss: 0.8151 - val_acc: 0.7424\n",
            "Epoch 361/500\n",
            "2373/2373 [==============================] - 0s 104us/step - loss: 0.3530 - acc: 0.8643 - val_loss: 0.8394 - val_acc: 0.7340\n",
            "Epoch 362/500\n",
            "2373/2373 [==============================] - 0s 96us/step - loss: 0.3436 - acc: 0.8748 - val_loss: 0.8009 - val_acc: 0.7441\n",
            "Epoch 363/500\n",
            "2373/2373 [==============================] - 0s 99us/step - loss: 0.3557 - acc: 0.8656 - val_loss: 0.8277 - val_acc: 0.7441\n",
            "Epoch 364/500\n",
            "2373/2373 [==============================] - 0s 97us/step - loss: 0.3167 - acc: 0.8757 - val_loss: 0.8196 - val_acc: 0.7475\n",
            "Epoch 365/500\n",
            "2373/2373 [==============================] - 0s 98us/step - loss: 0.3370 - acc: 0.8782 - val_loss: 0.8040 - val_acc: 0.7458\n",
            "Epoch 366/500\n",
            "2373/2373 [==============================] - 0s 101us/step - loss: 0.3548 - acc: 0.8660 - val_loss: 0.8237 - val_acc: 0.7407\n",
            "Epoch 367/500\n",
            "2373/2373 [==============================] - 0s 101us/step - loss: 0.3179 - acc: 0.8803 - val_loss: 0.8431 - val_acc: 0.7407\n",
            "Epoch 368/500\n",
            "2373/2373 [==============================] - 0s 100us/step - loss: 0.3161 - acc: 0.8791 - val_loss: 0.8299 - val_acc: 0.7542\n",
            "Epoch 369/500\n",
            "2373/2373 [==============================] - 0s 100us/step - loss: 0.3383 - acc: 0.8727 - val_loss: 0.8459 - val_acc: 0.7508\n",
            "Epoch 370/500\n",
            "2373/2373 [==============================] - 0s 101us/step - loss: 0.3241 - acc: 0.8727 - val_loss: 0.8076 - val_acc: 0.7559\n",
            "Epoch 371/500\n",
            "2373/2373 [==============================] - 0s 97us/step - loss: 0.3450 - acc: 0.8626 - val_loss: 0.8786 - val_acc: 0.7155\n",
            "Epoch 372/500\n",
            "2373/2373 [==============================] - 0s 100us/step - loss: 0.3662 - acc: 0.8618 - val_loss: 0.7923 - val_acc: 0.7458\n",
            "Epoch 373/500\n",
            "2373/2373 [==============================] - 0s 99us/step - loss: 0.3414 - acc: 0.8694 - val_loss: 0.8532 - val_acc: 0.7374\n",
            "Epoch 374/500\n",
            "2373/2373 [==============================] - 0s 99us/step - loss: 0.3552 - acc: 0.8639 - val_loss: 0.7952 - val_acc: 0.7559\n",
            "Epoch 375/500\n",
            "2373/2373 [==============================] - 0s 105us/step - loss: 0.3561 - acc: 0.8685 - val_loss: 0.8148 - val_acc: 0.7542\n",
            "Epoch 376/500\n",
            "2373/2373 [==============================] - 0s 103us/step - loss: 0.3335 - acc: 0.8820 - val_loss: 0.8107 - val_acc: 0.7441\n",
            "Epoch 377/500\n",
            "2373/2373 [==============================] - 0s 99us/step - loss: 0.3400 - acc: 0.8681 - val_loss: 0.8134 - val_acc: 0.7306\n",
            "Epoch 378/500\n",
            "2373/2373 [==============================] - 0s 99us/step - loss: 0.3343 - acc: 0.8795 - val_loss: 0.8126 - val_acc: 0.7441\n",
            "Epoch 379/500\n",
            "2373/2373 [==============================] - 0s 106us/step - loss: 0.3317 - acc: 0.8668 - val_loss: 0.8307 - val_acc: 0.7391\n",
            "Epoch 380/500\n",
            "2373/2373 [==============================] - 0s 101us/step - loss: 0.3048 - acc: 0.8833 - val_loss: 0.8244 - val_acc: 0.7458\n",
            "Epoch 381/500\n",
            "2373/2373 [==============================] - 0s 98us/step - loss: 0.3256 - acc: 0.8761 - val_loss: 0.8579 - val_acc: 0.7323\n",
            "Epoch 382/500\n",
            "2373/2373 [==============================] - 0s 100us/step - loss: 0.3272 - acc: 0.8769 - val_loss: 0.8391 - val_acc: 0.7441\n",
            "Epoch 383/500\n",
            "2373/2373 [==============================] - 0s 102us/step - loss: 0.3224 - acc: 0.8791 - val_loss: 0.8711 - val_acc: 0.7222\n",
            "Epoch 384/500\n",
            "2373/2373 [==============================] - 0s 101us/step - loss: 0.3285 - acc: 0.8744 - val_loss: 0.8290 - val_acc: 0.7306\n",
            "Epoch 385/500\n",
            "2373/2373 [==============================] - 0s 97us/step - loss: 0.3493 - acc: 0.8698 - val_loss: 0.8216 - val_acc: 0.7458\n",
            "Epoch 386/500\n",
            "2373/2373 [==============================] - 0s 97us/step - loss: 0.3380 - acc: 0.8769 - val_loss: 0.8284 - val_acc: 0.7492\n",
            "Epoch 387/500\n",
            "2373/2373 [==============================] - 0s 102us/step - loss: 0.3471 - acc: 0.8618 - val_loss: 0.7784 - val_acc: 0.7357\n",
            "Epoch 388/500\n",
            "2373/2373 [==============================] - 0s 100us/step - loss: 0.3392 - acc: 0.8664 - val_loss: 0.7934 - val_acc: 0.7542\n",
            "Epoch 389/500\n",
            "2373/2373 [==============================] - 0s 99us/step - loss: 0.2988 - acc: 0.8955 - val_loss: 0.7928 - val_acc: 0.7391\n",
            "Epoch 390/500\n",
            "2373/2373 [==============================] - 0s 100us/step - loss: 0.3156 - acc: 0.8757 - val_loss: 0.8058 - val_acc: 0.7374\n",
            "Epoch 391/500\n",
            "2373/2373 [==============================] - 0s 113us/step - loss: 0.3128 - acc: 0.8820 - val_loss: 0.8295 - val_acc: 0.7542\n",
            "Epoch 392/500\n",
            "2373/2373 [==============================] - 0s 100us/step - loss: 0.3438 - acc: 0.8727 - val_loss: 0.8100 - val_acc: 0.7492\n",
            "Epoch 393/500\n",
            "2373/2373 [==============================] - 0s 99us/step - loss: 0.3217 - acc: 0.8799 - val_loss: 0.8286 - val_acc: 0.7340\n",
            "Epoch 394/500\n",
            "2373/2373 [==============================] - 0s 100us/step - loss: 0.3163 - acc: 0.8837 - val_loss: 0.8272 - val_acc: 0.7441\n",
            "Epoch 395/500\n",
            "2373/2373 [==============================] - 0s 102us/step - loss: 0.3187 - acc: 0.8820 - val_loss: 0.8144 - val_acc: 0.7357\n",
            "Epoch 396/500\n",
            "2373/2373 [==============================] - 0s 105us/step - loss: 0.3040 - acc: 0.8866 - val_loss: 0.8247 - val_acc: 0.7525\n",
            "Epoch 397/500\n",
            "2373/2373 [==============================] - 0s 101us/step - loss: 0.3101 - acc: 0.8820 - val_loss: 0.8405 - val_acc: 0.7475\n",
            "Epoch 398/500\n",
            "2373/2373 [==============================] - 0s 99us/step - loss: 0.3064 - acc: 0.8828 - val_loss: 0.8194 - val_acc: 0.7559\n",
            "Epoch 399/500\n",
            "2373/2373 [==============================] - 0s 103us/step - loss: 0.3177 - acc: 0.8782 - val_loss: 0.8349 - val_acc: 0.7374\n",
            "Epoch 400/500\n",
            "2373/2373 [==============================] - 0s 105us/step - loss: 0.3203 - acc: 0.8791 - val_loss: 0.8142 - val_acc: 0.7407\n",
            "Epoch 401/500\n",
            "2373/2373 [==============================] - 0s 102us/step - loss: 0.3243 - acc: 0.8833 - val_loss: 0.8169 - val_acc: 0.7458\n",
            "Epoch 402/500\n",
            "2373/2373 [==============================] - 0s 101us/step - loss: 0.3515 - acc: 0.8660 - val_loss: 0.7685 - val_acc: 0.7559\n",
            "Epoch 403/500\n",
            "2373/2373 [==============================] - 0s 97us/step - loss: 0.3262 - acc: 0.8824 - val_loss: 0.8275 - val_acc: 0.7407\n",
            "Epoch 404/500\n",
            "2373/2373 [==============================] - 0s 104us/step - loss: 0.3163 - acc: 0.8795 - val_loss: 0.8989 - val_acc: 0.7357\n",
            "Epoch 405/500\n",
            "2373/2373 [==============================] - 0s 99us/step - loss: 0.3154 - acc: 0.8778 - val_loss: 0.8299 - val_acc: 0.7189\n",
            "Epoch 406/500\n",
            "2373/2373 [==============================] - 0s 99us/step - loss: 0.3140 - acc: 0.8786 - val_loss: 0.8053 - val_acc: 0.7475\n",
            "Epoch 407/500\n",
            "2373/2373 [==============================] - 0s 99us/step - loss: 0.3089 - acc: 0.8778 - val_loss: 0.8546 - val_acc: 0.7357\n",
            "Epoch 408/500\n",
            "2373/2373 [==============================] - 0s 103us/step - loss: 0.3420 - acc: 0.8723 - val_loss: 0.8280 - val_acc: 0.7441\n"
          ],
          "name": "stdout"
        }
      ]
    },
    {
      "cell_type": "markdown",
      "metadata": {
        "id": "xQ2Koxsz0Zun",
        "colab_type": "text"
      },
      "source": [
        "# 訓練過程評估"
      ]
    },
    {
      "cell_type": "code",
      "metadata": {
        "id": "2SxJIEDzbaZ7",
        "colab_type": "code",
        "outputId": "1f5aba09-ec79-4c6a-8d8e-e1e1b2036c7f",
        "colab": {
          "base_uri": "https://localhost:8080/",
          "height": 269
        }
      },
      "source": [
        "import matplotlib.pyplot as plt\n",
        "fig, ax = plt.subplots(2,1)\n",
        "ax[0].plot(history.history['loss'], color='b', label=\"Training loss\")\n",
        "ax[0].plot(history.history['val_loss'], color='r', label=\"Validation loss\",axes =ax[0])\n",
        "ax[0].grid(color='black', linestyle='-', linewidth=0.25)\n",
        "legend = ax[0].legend(loc='best', shadow=True)\n",
        "\n",
        "ax[1].plot(history.history['acc'], color='b', label=\"Training accuracy\")\n",
        "ax[1].plot(history.history['val_acc'], color='r',label=\"Validation accuracy\")\n",
        "ax[1].grid(color='black', linestyle='-', linewidth=0.25)\n",
        "legend = ax[1].legend(loc='best', shadow=True)"
      ],
      "execution_count": 45,
      "outputs": [
        {
          "output_type": "display_data",
          "data": {
            "image/png": "[encoded data removed]",
            "text/plain": [
              "<Figure size 432x288 with 2 Axes>"
            ]
          },
          "metadata": {
            "tags": []
          }
        }
      ]
    },
    {
      "cell_type": "markdown",
      "metadata": {
        "id": "zWVmgHz80cCp",
        "colab_type": "text"
      },
      "source": [
        "# 混淆矩陣"
      ]
    },
    {
      "cell_type": "code",
      "metadata": {
        "id": "UH5CcmX6btme",
        "colab_type": "code",
        "outputId": "621755e8-0180-48df-b8c4-429984448731",
        "colab": {
          "base_uri": "https://localhost:8080/",
          "height": 311
        }
      },
      "source": [
        "from sklearn.metrics import confusion_matrix\n",
        "import itertools\n",
        "\n",
        "def plot_confusion_matrix(cm, classes, normalize=False, title='Confusion matrix', cmap=plt.cm.Blues):\n",
        "    plt.imshow(cm, interpolation='nearest', cmap=cmap)\n",
        "    plt.title(title)\n",
        "    plt.colorbar()\n",
        "    tick_marks = np.arange(len(classes))\n",
        "    plt.xticks(tick_marks, classes, rotation=45)\n",
        "    plt.yticks(tick_marks, classes)\n",
        "    if normalize:\n",
        "        cm = cm.astype('float') / cm.sum(axis=1)[:, np.newaxis]\n",
        "    thresh = cm.max() / 2.\n",
        "    for i, j in itertools.product(range(cm.shape[0]), range(cm.shape[1])):\n",
        "        plt.text(j, i, cm[i, j],\n",
        "                 horizontalalignment=\"center\",\n",
        "                 color=\"white\" if cm[i, j] > thresh else \"black\")\n",
        "    plt.tight_layout()\n",
        "    plt.ylabel('True label')\n",
        "    plt.xlabel('Predicted label')\n",
        "\n",
        "#預測的y\n",
        "ypred_onehot = model.predict(xval)\n",
        "#轉換預測的y: [0 0 1 0 0 ...] --> 2\n",
        "ypred = np.argmax(ypred_onehot,axis=1)\n",
        "#轉換真實的y\n",
        "ytrue = np.argmax(yval,axis=1)\n",
        "#計算 confusion matrix\n",
        "confusion_mtx = confusion_matrix(ytrue, ypred)\n",
        "#畫出 confusion matrix\n",
        "plot_confusion_matrix(confusion_mtx, classes=range(nclasses))"
      ],
      "execution_count": 46,
      "outputs": [
        {
          "output_type": "display_data",
          "data": {
            "image/png": "[encoded data removed]",
            "text/plain": [
              "<Figure size 432x288 with 2 Axes>"
            ]
          },
          "metadata": {
            "tags": []
          }
        }
      ]
    },
    {
      "cell_type": "markdown",
      "metadata": {
        "id": "PmgafP2rpjAO",
        "colab_type": "text"
      },
      "source": [
        "# 分類report"
      ]
    },
    {
      "cell_type": "markdown",
      "metadata": {
        "id": "zXQ8o9mj1Ydh",
        "colab_type": "text"
      },
      "source": [
        "轉換預測結果"
      ]
    },
    {
      "cell_type": "code",
      "metadata": {
        "id": "lCSuw9cYqEYk",
        "colab_type": "code",
        "outputId": "1ab48895-8b56-4d34-d1e5-c2e9120f08f8",
        "colab": {
          "base_uri": "https://localhost:8080/",
          "height": 102
        }
      },
      "source": [
        "y_pred = model.predict(xval)\n",
        "y_pred = [np.argmax(i) for i in y_pred]\n",
        "y_pred = to_categorical(y_pred, num_classes = 3)\n",
        "print(y_pred[:5])"
      ],
      "execution_count": 47,
      "outputs": [
        {
          "output_type": "stream",
          "text": [
            "[[0. 1. 0.]\n",
            " [0. 0. 1.]\n",
            " [0. 1. 0.]\n",
            " [1. 0. 0.]\n",
            " [0. 0. 1.]]\n"
          ],
          "name": "stdout"
        }
      ]
    },
    {
      "cell_type": "markdown",
      "metadata": {
        "id": "XrHrpsVb1avA",
        "colab_type": "text"
      },
      "source": [
        "真實y值"
      ]
    },
    {
      "cell_type": "code",
      "metadata": {
        "id": "T2tyxRdo1Mqm",
        "colab_type": "code",
        "outputId": "f5f39a8c-2785-4f9a-c641-0ad409719af8",
        "colab": {
          "base_uri": "https://localhost:8080/",
          "height": 102
        }
      },
      "source": [
        "print(yval[:5])"
      ],
      "execution_count": 48,
      "outputs": [
        {
          "output_type": "stream",
          "text": [
            "[[0. 1. 0.]\n",
            " [0. 0. 1.]\n",
            " [0. 1. 0.]\n",
            " [1. 0. 0.]\n",
            " [0. 0. 1.]]\n"
          ],
          "name": "stdout"
        }
      ]
    },
    {
      "cell_type": "markdown",
      "metadata": {
        "id": "wztZOw2r1ddE",
        "colab_type": "text"
      },
      "source": [
        "# 分類報告"
      ]
    },
    {
      "cell_type": "code",
      "metadata": {
        "id": "vzMaU-Y8pjJT",
        "colab_type": "code",
        "outputId": "75189ada-4df7-4a02-b42c-aaaa18fc2b38",
        "colab": {
          "base_uri": "https://localhost:8080/",
          "height": 204
        }
      },
      "source": [
        "from sklearn.metrics import classification_report \n",
        "target_names = ['Hold','BUY','SELL']\n",
        "print(classification_report(yval,y_pred,target_names=target_names))"
      ],
      "execution_count": 49,
      "outputs": [
        {
          "output_type": "stream",
          "text": [
            "              precision    recall  f1-score   support\n",
            "\n",
            "        Hold       0.78      0.77      0.77       198\n",
            "         BUY       0.75      0.73      0.74       198\n",
            "        SELL       0.75      0.77      0.76       198\n",
            "\n",
            "   micro avg       0.76      0.76      0.76       594\n",
            "   macro avg       0.76      0.76      0.76       594\n",
            "weighted avg       0.76      0.76      0.76       594\n",
            " samples avg       0.76      0.76      0.76       594\n",
            "\n"
          ],
          "name": "stdout"
        }
      ]
    },
    {
      "cell_type": "markdown",
      "metadata": {
        "id": "n-KXEoZLb9ie",
        "colab_type": "text"
      },
      "source": [
        "# plot error"
      ]
    },
    {
      "cell_type": "code",
      "metadata": {
        "id": "nCW5Xvtrb0fC",
        "colab_type": "code",
        "outputId": "ecf49540-4291-44ce-bb2a-cd7149c28f25",
        "colab": {
          "base_uri": "https://localhost:8080/",
          "height": 293
        }
      },
      "source": [
        "errors = (ypred - ytrue != 0)\n",
        "\n",
        "ypred_er = ypred_onehot[errors]\n",
        "ypred_classes_er = ypred[errors]\n",
        "ytrue_er = ytrue[errors]\n",
        "xval_er = xval[errors]\n",
        "\n",
        "def display_errors(errors_index, img_errors, pred_errors, obs_errors):\n",
        "    n = 0\n",
        "    nrows = 2\n",
        "    ncols = 3\n",
        "    fig, ax = plt.subplots(nrows, ncols, sharex=True, sharey=True)\n",
        "    plt.subplots_adjust(wspace =0.5, hspace =0.5)\n",
        "    for row in range(nrows):\n",
        "        for col in range(ncols):\n",
        "            error = errors_index[n]\n",
        "            ax[row,col].imshow((img_errors[error]).reshape((days,len(features))))\n",
        "            ax[row,col].set_title(\"Predicted label :{}\\nTrue label :{}\".format(pred_errors[error],obs_errors[error]))\n",
        "            n += 1\n",
        "            \n",
        "# 錯誤預測的概率\n",
        "ypred_er_prob = np.max(ypred_er,axis=1)\n",
        "\n",
        "# Predicted probabilities of the true values in the error set\n",
        "true_prob_er = np.diagonal(np.take(ypred_er, ytrue_er, axis=1))\n",
        "\n",
        "# Difference between the probability of the predicted label and the true label\n",
        "delta_pred_true_er = ypred_er_prob - true_prob_er\n",
        "\n",
        "# Sorted list of the delta prob errors\n",
        "sorted_delta_er = np.argsort(delta_pred_true_er)\n",
        "\n",
        "# Top 6 errors. You can change the range to see other images\n",
        "most_important_er = sorted_delta_er[-6:]\n",
        "\n",
        "# Show the top 6 errors\n",
        "display_errors(most_important_er, xval_er, ypred_classes_er, ytrue_er)"
      ],
      "execution_count": 50,
      "outputs": [
        {
          "output_type": "display_data",
          "data": {
            "image/png": "[encoded data removed]",
            "text/plain": [
              "<Figure size 432x288 with 6 Axes>"
            ]
          },
          "metadata": {
            "tags": []
          }
        }
      ]
    },
    {
      "cell_type": "markdown",
      "metadata": {
        "id": "togdM5Afo71w",
        "colab_type": "text"
      },
      "source": [
        "## 預測最後40筆"
      ]
    },
    {
      "cell_type": "code",
      "metadata": {
        "id": "kQqzNPdQo8GW",
        "colab_type": "code",
        "outputId": "e7ed924a-d4a2-41ee-ef7b-fd40366102c7",
        "colab": {
          "base_uri": "https://localhost:8080/",
          "height": 34
        }
      },
      "source": [
        "answer = model.predict(X_test)\n",
        "answer = [ np.argmax(i) for i in answer]\n",
        "print(len(answer))"
      ],
      "execution_count": 51,
      "outputs": [
        {
          "output_type": "stream",
          "text": [
            "40\n"
          ],
          "name": "stdout"
        }
      ]
    },
    {
      "cell_type": "markdown",
      "metadata": {
        "id": "FOBO-SgaBHMx",
        "colab_type": "text"
      },
      "source": [
        "# 0~20筆"
      ]
    },
    {
      "cell_type": "code",
      "metadata": {
        "id": "YHzRjtab0pr-",
        "colab_type": "code",
        "outputId": "adc1bb19-a87e-423a-a96f-131b62b27b19",
        "colab": {
          "base_uri": "https://localhost:8080/",
          "height": 306
        }
      },
      "source": [
        "INDEX60 = df[-60:].index\n",
        "C = web.DataReader(SID,'yahoo',start=\"2000-01-01\")[['Close']]\n",
        "C = C.loc[INDEX60,:]\n",
        "C['SIGNAL'] = [np.nan for _ in range(20)] + answer #20個NAN+預測答案\n",
        "buy = C[C['SIGNAL']==1]['Close']\n",
        "sell = C[C['SIGNAL']==2]['Close']\n",
        "C['Close'][20:40].plot()\n",
        "plt.scatter(list(buy.index),list(buy.values),color='red',marker=\"^\")\n",
        "plt.scatter(list(sell.index),list(sell.values),color='black')"
      ],
      "execution_count": 52,
      "outputs": [
        {
          "output_type": "execute_result",
          "data": {
            "text/plain": [
              "<matplotlib.collections.PathCollection at 0x7f951d9d67b8>"
            ]
          },
          "metadata": {
            "tags": []
          },
          "execution_count": 52
        },
        {
          "output_type": "display_data",
          "data": {
            "image/png": "[encoded data removed]",
            "text/plain": [
              "<Figure size 432x288 with 1 Axes>"
            ]
          },
          "metadata": {
            "tags": []
          }
        }
      ]
    },
    {
      "cell_type": "markdown",
      "metadata": {
        "id": "NpYwUgdJBKWR",
        "colab_type": "text"
      },
      "source": [
        "# 20~40筆"
      ]
    },
    {
      "cell_type": "code",
      "metadata": {
        "id": "9AZQa4zj2Psu",
        "colab_type": "code",
        "outputId": "b2d2e37f-68a6-4194-aeac-14c50d1db273",
        "colab": {
          "base_uri": "https://localhost:8080/",
          "height": 306
        }
      },
      "source": [
        "C['Close'][40:60].plot()\n",
        "plt.scatter(list(buy.index),list(buy.values),color='red',marker=\"^\")\n",
        "plt.scatter(list(sell.index),list(sell.values),color='black')"
      ],
      "execution_count": 53,
      "outputs": [
        {
          "output_type": "execute_result",
          "data": {
            "text/plain": [
              "<matplotlib.collections.PathCollection at 0x7f951d9e9ba8>"
            ]
          },
          "metadata": {
            "tags": []
          },
          "execution_count": 53
        },
        {
          "output_type": "display_data",
          "data": {
            "image/png": "[encoded data removed]",
            "text/plain": [
              "<Figure size 432x288 with 1 Axes>"
            ]
          },
          "metadata": {
            "tags": []
          }
        }
      ]
    },
    {
      "cell_type": "markdown",
      "metadata": {
        "id": "j3i8j1ewAtDU",
        "colab_type": "text"
      },
      "source": [
        "# 合併"
      ]
    },
    {
      "cell_type": "code",
      "metadata": {
        "id": "y-RBxkc38C1a",
        "colab_type": "code",
        "outputId": "34ae25b3-4ba4-421e-a0f1-995b303e4dc2",
        "colab": {
          "base_uri": "https://localhost:8080/",
          "height": 306
        }
      },
      "source": [
        "C['Close'][20:60].plot()\n",
        "plt.scatter(list(buy.index),list(buy.values),color='red',marker=\"^\")\n",
        "plt.scatter(list(sell.index),list(sell.values),color='black')"
      ],
      "execution_count": 54,
      "outputs": [
        {
          "output_type": "execute_result",
          "data": {
            "text/plain": [
              "<matplotlib.collections.PathCollection at 0x7f95100d7978>"
            ]
          },
          "metadata": {
            "tags": []
          },
          "execution_count": 54
        },
        {
          "output_type": "display_data",
          "data": {
            "image/png": "[encoded data removed]",
            "text/plain": [
              "<Figure size 432x288 with 1 Axes>"
            ]
          },
          "metadata": {
            "tags": []
          }
        }
      ]
    },
    {
      "cell_type": "markdown",
      "metadata": {
        "id": "WWVaZwDKF_lr",
        "colab_type": "text"
      },
      "source": [
        "# 平滑版本"
      ]
    },
    {
      "cell_type": "code",
      "metadata": {
        "id": "OUO9oF7sAvmH",
        "colab_type": "code",
        "outputId": "b2a23fcb-6159-4002-ab51-b8ab2d9e4cdf",
        "colab": {
          "base_uri": "https://localhost:8080/",
          "height": 306
        }
      },
      "source": [
        "C_roll20 = pd.DataFrame(index=C.index)#空的dataframe index = 倒數60天股票日期\n",
        "C_roll20['Close'] = C['Close'].rolling(20).mean()#收盤價做20天平滑\n",
        "C_roll20['SIGNAL'] = C['SIGNAL']\n",
        "buy = C_roll20[C_roll20['SIGNAL']==1]['Close']#買點\n",
        "sell= C_roll20[C_roll20['SIGNAL']==2]['Close']#賣點\n",
        "C_roll20['Close'][20:].plot()\n",
        "plt.scatter(list(buy.index),list(buy.values),color='red',marker=\"^\")\n",
        "plt.scatter(list(sell.index),list(sell.values),color='black')"
      ],
      "execution_count": 55,
      "outputs": [
        {
          "output_type": "execute_result",
          "data": {
            "text/plain": [
              "<matplotlib.collections.PathCollection at 0x7f951dc1ada0>"
            ]
          },
          "metadata": {
            "tags": []
          },
          "execution_count": 55
        },
        {
          "output_type": "display_data",
          "data": {
            "image/png": "[encoded data removed]",
            "text/plain": [
              "<Figure size 432x288 with 1 Axes>"
            ]
          },
          "metadata": {
            "tags": []
          }
        }
      ]
    },
    {
      "cell_type": "code",
      "metadata": {
        "id": "UIeUpfe4GzRI",
        "colab_type": "code",
        "colab": {
          "base_uri": "https://localhost:8080/",
          "height": 1000
        },
        "outputId": "313983b4-01f0-4a8c-dfe4-d946e753a3eb"
      },
      "source": [
        "C = C.dropna(axis=0)\n",
        "C"
      ],
      "execution_count": 75,
      "outputs": [
        {
          "output_type": "execute_result",
          "data": {
            "text/html": [
              "<div>\n",
              "<style scoped>\n",
              "    .dataframe tbody tr th:only-of-type {\n",
              "        vertical-align: middle;\n",
              "    }\n",
              "\n",
              "    .dataframe tbody tr th {\n",
              "        vertical-align: top;\n",
              "    }\n",
              "\n",
              "    .dataframe thead th {\n",
              "        text-align: right;\n",
              "    }\n",
              "</style>\n",
              "<table border=\"1\" class=\"dataframe\">\n",
              "  <thead>\n",
              "    <tr style=\"text-align: right;\">\n",
              "      <th></th>\n",
              "      <th>Close</th>\n",
              "      <th>SIGNAL</th>\n",
              "    </tr>\n",
              "    <tr>\n",
              "      <th>Date</th>\n",
              "      <th></th>\n",
              "      <th></th>\n",
              "    </tr>\n",
              "  </thead>\n",
              "  <tbody>\n",
              "    <tr>\n",
              "      <th>2019-07-16</th>\n",
              "      <td>10886.049805</td>\n",
              "      <td>2.0</td>\n",
              "    </tr>\n",
              "    <tr>\n",
              "      <th>2019-07-17</th>\n",
              "      <td>10828.480469</td>\n",
              "      <td>2.0</td>\n",
              "    </tr>\n",
              "    <tr>\n",
              "      <th>2019-07-18</th>\n",
              "      <td>10799.280273</td>\n",
              "      <td>2.0</td>\n",
              "    </tr>\n",
              "    <tr>\n",
              "      <th>2019-07-19</th>\n",
              "      <td>10873.190430</td>\n",
              "      <td>2.0</td>\n",
              "    </tr>\n",
              "    <tr>\n",
              "      <th>2019-07-22</th>\n",
              "      <td>10944.530273</td>\n",
              "      <td>2.0</td>\n",
              "    </tr>\n",
              "    <tr>\n",
              "      <th>2019-07-23</th>\n",
              "      <td>10947.259766</td>\n",
              "      <td>2.0</td>\n",
              "    </tr>\n",
              "    <tr>\n",
              "      <th>2019-07-24</th>\n",
              "      <td>10935.759766</td>\n",
              "      <td>2.0</td>\n",
              "    </tr>\n",
              "    <tr>\n",
              "      <th>2019-07-25</th>\n",
              "      <td>10941.410156</td>\n",
              "      <td>2.0</td>\n",
              "    </tr>\n",
              "    <tr>\n",
              "      <th>2019-07-26</th>\n",
              "      <td>10891.980469</td>\n",
              "      <td>2.0</td>\n",
              "    </tr>\n",
              "    <tr>\n",
              "      <th>2019-07-29</th>\n",
              "      <td>10885.730469</td>\n",
              "      <td>2.0</td>\n",
              "    </tr>\n",
              "    <tr>\n",
              "      <th>2019-07-30</th>\n",
              "      <td>10830.900391</td>\n",
              "      <td>2.0</td>\n",
              "    </tr>\n",
              "    <tr>\n",
              "      <th>2019-07-31</th>\n",
              "      <td>10823.809570</td>\n",
              "      <td>2.0</td>\n",
              "    </tr>\n",
              "    <tr>\n",
              "      <th>2019-08-01</th>\n",
              "      <td>10731.750000</td>\n",
              "      <td>2.0</td>\n",
              "    </tr>\n",
              "    <tr>\n",
              "      <th>2019-08-02</th>\n",
              "      <td>10549.040039</td>\n",
              "      <td>2.0</td>\n",
              "    </tr>\n",
              "    <tr>\n",
              "      <th>2019-08-05</th>\n",
              "      <td>10423.410156</td>\n",
              "      <td>0.0</td>\n",
              "    </tr>\n",
              "    <tr>\n",
              "      <th>2019-08-06</th>\n",
              "      <td>10394.750000</td>\n",
              "      <td>0.0</td>\n",
              "    </tr>\n",
              "    <tr>\n",
              "      <th>2019-08-07</th>\n",
              "      <td>10386.179688</td>\n",
              "      <td>0.0</td>\n",
              "    </tr>\n",
              "    <tr>\n",
              "      <th>2019-08-08</th>\n",
              "      <td>10494.490234</td>\n",
              "      <td>0.0</td>\n",
              "    </tr>\n",
              "    <tr>\n",
              "      <th>2019-08-12</th>\n",
              "      <td>10472.360352</td>\n",
              "      <td>0.0</td>\n",
              "    </tr>\n",
              "    <tr>\n",
              "      <th>2019-08-13</th>\n",
              "      <td>10362.660156</td>\n",
              "      <td>1.0</td>\n",
              "    </tr>\n",
              "    <tr>\n",
              "      <th>2019-08-14</th>\n",
              "      <td>10427.730469</td>\n",
              "      <td>1.0</td>\n",
              "    </tr>\n",
              "    <tr>\n",
              "      <th>2019-08-15</th>\n",
              "      <td>10327.129883</td>\n",
              "      <td>1.0</td>\n",
              "    </tr>\n",
              "    <tr>\n",
              "      <th>2019-08-16</th>\n",
              "      <td>10420.889648</td>\n",
              "      <td>1.0</td>\n",
              "    </tr>\n",
              "    <tr>\n",
              "      <th>2019-08-19</th>\n",
              "      <td>10488.750000</td>\n",
              "      <td>1.0</td>\n",
              "    </tr>\n",
              "    <tr>\n",
              "      <th>2019-08-20</th>\n",
              "      <td>10522.500000</td>\n",
              "      <td>1.0</td>\n",
              "    </tr>\n",
              "    <tr>\n",
              "      <th>2019-08-21</th>\n",
              "      <td>10525.799805</td>\n",
              "      <td>1.0</td>\n",
              "    </tr>\n",
              "    <tr>\n",
              "      <th>2019-08-22</th>\n",
              "      <td>10529.780273</td>\n",
              "      <td>1.0</td>\n",
              "    </tr>\n",
              "    <tr>\n",
              "      <th>2019-08-23</th>\n",
              "      <td>10538.110352</td>\n",
              "      <td>1.0</td>\n",
              "    </tr>\n",
              "    <tr>\n",
              "      <th>2019-08-26</th>\n",
              "      <td>10354.570312</td>\n",
              "      <td>1.0</td>\n",
              "    </tr>\n",
              "    <tr>\n",
              "      <th>2019-08-27</th>\n",
              "      <td>10387.230469</td>\n",
              "      <td>1.0</td>\n",
              "    </tr>\n",
              "    <tr>\n",
              "      <th>2019-08-28</th>\n",
              "      <td>10434.290039</td>\n",
              "      <td>1.0</td>\n",
              "    </tr>\n",
              "    <tr>\n",
              "      <th>2019-08-29</th>\n",
              "      <td>10462.429688</td>\n",
              "      <td>1.0</td>\n",
              "    </tr>\n",
              "    <tr>\n",
              "      <th>2019-08-30</th>\n",
              "      <td>10618.049805</td>\n",
              "      <td>1.0</td>\n",
              "    </tr>\n",
              "    <tr>\n",
              "      <th>2019-09-02</th>\n",
              "      <td>10634.849609</td>\n",
              "      <td>1.0</td>\n",
              "    </tr>\n",
              "    <tr>\n",
              "      <th>2019-09-03</th>\n",
              "      <td>10558.209961</td>\n",
              "      <td>1.0</td>\n",
              "    </tr>\n",
              "    <tr>\n",
              "      <th>2019-09-04</th>\n",
              "      <td>10657.309570</td>\n",
              "      <td>1.0</td>\n",
              "    </tr>\n",
              "    <tr>\n",
              "      <th>2019-09-05</th>\n",
              "      <td>10756.929688</td>\n",
              "      <td>0.0</td>\n",
              "    </tr>\n",
              "    <tr>\n",
              "      <th>2019-09-06</th>\n",
              "      <td>10780.639648</td>\n",
              "      <td>0.0</td>\n",
              "    </tr>\n",
              "    <tr>\n",
              "      <th>2019-09-10</th>\n",
              "      <td>10753.580078</td>\n",
              "      <td>0.0</td>\n",
              "    </tr>\n",
              "    <tr>\n",
              "      <th>2019-09-11</th>\n",
              "      <td>10790.349609</td>\n",
              "      <td>0.0</td>\n",
              "    </tr>\n",
              "  </tbody>\n",
              "</table>\n",
              "</div>"
            ],
            "text/plain": [
              "                   Close  SIGNAL\n",
              "Date                            \n",
              "2019-07-16  10886.049805     2.0\n",
              "2019-07-17  10828.480469     2.0\n",
              "2019-07-18  10799.280273     2.0\n",
              "2019-07-19  10873.190430     2.0\n",
              "2019-07-22  10944.530273     2.0\n",
              "2019-07-23  10947.259766     2.0\n",
              "2019-07-24  10935.759766     2.0\n",
              "2019-07-25  10941.410156     2.0\n",
              "2019-07-26  10891.980469     2.0\n",
              "2019-07-29  10885.730469     2.0\n",
              "2019-07-30  10830.900391     2.0\n",
              "2019-07-31  10823.809570     2.0\n",
              "2019-08-01  10731.750000     2.0\n",
              "2019-08-02  10549.040039     2.0\n",
              "2019-08-05  10423.410156     0.0\n",
              "2019-08-06  10394.750000     0.0\n",
              "2019-08-07  10386.179688     0.0\n",
              "2019-08-08  10494.490234     0.0\n",
              "2019-08-12  10472.360352     0.0\n",
              "2019-08-13  10362.660156     1.0\n",
              "2019-08-14  10427.730469     1.0\n",
              "2019-08-15  10327.129883     1.0\n",
              "2019-08-16  10420.889648     1.0\n",
              "2019-08-19  10488.750000     1.0\n",
              "2019-08-20  10522.500000     1.0\n",
              "2019-08-21  10525.799805     1.0\n",
              "2019-08-22  10529.780273     1.0\n",
              "2019-08-23  10538.110352     1.0\n",
              "2019-08-26  10354.570312     1.0\n",
              "2019-08-27  10387.230469     1.0\n",
              "2019-08-28  10434.290039     1.0\n",
              "2019-08-29  10462.429688     1.0\n",
              "2019-08-30  10618.049805     1.0\n",
              "2019-09-02  10634.849609     1.0\n",
              "2019-09-03  10558.209961     1.0\n",
              "2019-09-04  10657.309570     1.0\n",
              "2019-09-05  10756.929688     0.0\n",
              "2019-09-06  10780.639648     0.0\n",
              "2019-09-10  10753.580078     0.0\n",
              "2019-09-11  10790.349609     0.0"
            ]
          },
          "metadata": {
            "tags": []
          },
          "execution_count": 75
        }
      ]
    },
    {
      "cell_type": "code",
      "metadata": {
        "id": "Mhqp36TP3GPc",
        "colab_type": "code",
        "colab": {
          "base_uri": "https://localhost:8080/",
          "height": 696
        },
        "outputId": "ce0ad6d7-a265-478e-854f-0bb9a5357484"
      },
      "source": [
        "np.set_printoptions(suppress=True)\n",
        "C['HOLD%'] = model.predict(X_test)[:,0]\n",
        "C['BUY%'] = model.predict(X_test)[:,1]\n",
        "C['SELL%'] = model.predict(X_test)[:,2]\n",
        "C.tail(10)"
      ],
      "execution_count": 80,
      "outputs": [
        {
          "output_type": "stream",
          "text": [
            "/usr/local/lib/python3.6/dist-packages/ipykernel_launcher.py:2: SettingWithCopyWarning: \n",
            "A value is trying to be set on a copy of a slice from a DataFrame.\n",
            "Try using .loc[row_indexer,col_indexer] = value instead\n",
            "\n",
            "See the caveats in the documentation: http://pandas.pydata.org/pandas-docs/stable/indexing.html#indexing-view-versus-copy\n",
            "  \n",
            "/usr/local/lib/python3.6/dist-packages/ipykernel_launcher.py:3: SettingWithCopyWarning: \n",
            "A value is trying to be set on a copy of a slice from a DataFrame.\n",
            "Try using .loc[row_indexer,col_indexer] = value instead\n",
            "\n",
            "See the caveats in the documentation: http://pandas.pydata.org/pandas-docs/stable/indexing.html#indexing-view-versus-copy\n",
            "  This is separate from the ipykernel package so we can avoid doing imports until\n",
            "/usr/local/lib/python3.6/dist-packages/ipykernel_launcher.py:4: SettingWithCopyWarning: \n",
            "A value is trying to be set on a copy of a slice from a DataFrame.\n",
            "Try using .loc[row_indexer,col_indexer] = value instead\n",
            "\n",
            "See the caveats in the documentation: http://pandas.pydata.org/pandas-docs/stable/indexing.html#indexing-view-versus-copy\n",
            "  after removing the cwd from sys.path.\n"
          ],
          "name": "stderr"
        },
        {
          "output_type": "execute_result",
          "data": {
            "text/html": [
              "<div>\n",
              "<style scoped>\n",
              "    .dataframe tbody tr th:only-of-type {\n",
              "        vertical-align: middle;\n",
              "    }\n",
              "\n",
              "    .dataframe tbody tr th {\n",
              "        vertical-align: top;\n",
              "    }\n",
              "\n",
              "    .dataframe thead th {\n",
              "        text-align: right;\n",
              "    }\n",
              "</style>\n",
              "<table border=\"1\" class=\"dataframe\">\n",
              "  <thead>\n",
              "    <tr style=\"text-align: right;\">\n",
              "      <th></th>\n",
              "      <th>Close</th>\n",
              "      <th>SIGNAL</th>\n",
              "      <th>HOLD%</th>\n",
              "      <th>BUY%</th>\n",
              "      <th>SELL%</th>\n",
              "    </tr>\n",
              "    <tr>\n",
              "      <th>Date</th>\n",
              "      <th></th>\n",
              "      <th></th>\n",
              "      <th></th>\n",
              "      <th></th>\n",
              "      <th></th>\n",
              "    </tr>\n",
              "  </thead>\n",
              "  <tbody>\n",
              "    <tr>\n",
              "      <th>2019-08-28</th>\n",
              "      <td>10434.290039</td>\n",
              "      <td>1.0</td>\n",
              "      <td>0.003169</td>\n",
              "      <td>0.996594</td>\n",
              "      <td>0.000236</td>\n",
              "    </tr>\n",
              "    <tr>\n",
              "      <th>2019-08-29</th>\n",
              "      <td>10462.429688</td>\n",
              "      <td>1.0</td>\n",
              "      <td>0.007737</td>\n",
              "      <td>0.991553</td>\n",
              "      <td>0.000709</td>\n",
              "    </tr>\n",
              "    <tr>\n",
              "      <th>2019-08-30</th>\n",
              "      <td>10618.049805</td>\n",
              "      <td>1.0</td>\n",
              "      <td>0.250865</td>\n",
              "      <td>0.733577</td>\n",
              "      <td>0.015557</td>\n",
              "    </tr>\n",
              "    <tr>\n",
              "      <th>2019-09-02</th>\n",
              "      <td>10634.849609</td>\n",
              "      <td>1.0</td>\n",
              "      <td>0.423921</td>\n",
              "      <td>0.541513</td>\n",
              "      <td>0.034566</td>\n",
              "    </tr>\n",
              "    <tr>\n",
              "      <th>2019-09-03</th>\n",
              "      <td>10558.209961</td>\n",
              "      <td>1.0</td>\n",
              "      <td>0.041368</td>\n",
              "      <td>0.950431</td>\n",
              "      <td>0.008200</td>\n",
              "    </tr>\n",
              "    <tr>\n",
              "      <th>2019-09-04</th>\n",
              "      <td>10657.309570</td>\n",
              "      <td>1.0</td>\n",
              "      <td>0.131676</td>\n",
              "      <td>0.859860</td>\n",
              "      <td>0.008464</td>\n",
              "    </tr>\n",
              "    <tr>\n",
              "      <th>2019-09-05</th>\n",
              "      <td>10756.929688</td>\n",
              "      <td>0.0</td>\n",
              "      <td>0.890916</td>\n",
              "      <td>0.061032</td>\n",
              "      <td>0.048053</td>\n",
              "    </tr>\n",
              "    <tr>\n",
              "      <th>2019-09-06</th>\n",
              "      <td>10780.639648</td>\n",
              "      <td>0.0</td>\n",
              "      <td>0.963897</td>\n",
              "      <td>0.011778</td>\n",
              "      <td>0.024326</td>\n",
              "    </tr>\n",
              "    <tr>\n",
              "      <th>2019-09-10</th>\n",
              "      <td>10753.580078</td>\n",
              "      <td>0.0</td>\n",
              "      <td>0.949469</td>\n",
              "      <td>0.015005</td>\n",
              "      <td>0.035526</td>\n",
              "    </tr>\n",
              "    <tr>\n",
              "      <th>2019-09-11</th>\n",
              "      <td>10790.349609</td>\n",
              "      <td>0.0</td>\n",
              "      <td>0.920557</td>\n",
              "      <td>0.011832</td>\n",
              "      <td>0.067611</td>\n",
              "    </tr>\n",
              "  </tbody>\n",
              "</table>\n",
              "</div>"
            ],
            "text/plain": [
              "                   Close  SIGNAL     HOLD%      BUY%     SELL%\n",
              "Date                                                          \n",
              "2019-08-28  10434.290039     1.0  0.003169  0.996594  0.000236\n",
              "2019-08-29  10462.429688     1.0  0.007737  0.991553  0.000709\n",
              "2019-08-30  10618.049805     1.0  0.250865  0.733577  0.015557\n",
              "2019-09-02  10634.849609     1.0  0.423921  0.541513  0.034566\n",
              "2019-09-03  10558.209961     1.0  0.041368  0.950431  0.008200\n",
              "2019-09-04  10657.309570     1.0  0.131676  0.859860  0.008464\n",
              "2019-09-05  10756.929688     0.0  0.890916  0.061032  0.048053\n",
              "2019-09-06  10780.639648     0.0  0.963897  0.011778  0.024326\n",
              "2019-09-10  10753.580078     0.0  0.949469  0.015005  0.035526\n",
              "2019-09-11  10790.349609     0.0  0.920557  0.011832  0.067611"
            ]
          },
          "metadata": {
            "tags": []
          },
          "execution_count": 80
        }
      ]
    },
    {
      "cell_type": "markdown",
      "metadata": {
        "id": "uzCeo-ctGg-o",
        "colab_type": "text"
      },
      "source": [
        "# save model"
      ]
    },
    {
      "cell_type": "code",
      "metadata": {
        "id": "M2fvxlPnBG7r",
        "colab_type": "code",
        "colab": {}
      },
      "source": [
        "model.save('Rikcy_net.h5')\n",
        "del model"
      ],
      "execution_count": 0,
      "outputs": []
    },
    {
      "cell_type": "code",
      "metadata": {
        "id": "jmAS95PdG0DX",
        "colab_type": "code",
        "colab": {}
      },
      "source": [
        "from keras.models import load_model\n",
        "model = load_model('Rikcy_net.h5')\n",
        "predict = model.predict(X_test)"
      ],
      "execution_count": 0,
      "outputs": []
    },
    {
      "cell_type": "code",
      "metadata": {
        "id": "x70kJQN2HBc_",
        "colab_type": "code",
        "colab": {
          "base_uri": "https://localhost:8080/",
          "height": 102
        },
        "outputId": "13ce34ac-7df4-470f-f825-da5b477e9225"
      },
      "source": [
        "predict[-5:]"
      ],
      "execution_count": 85,
      "outputs": [
        {
          "output_type": "execute_result",
          "data": {
            "text/plain": [
              "array([[0.13167638, 0.8598599 , 0.00846379],\n",
              "       [0.8909157 , 0.06103153, 0.0480527 ],\n",
              "       [0.9638965 , 0.0117779 , 0.02432559],\n",
              "       [0.9494689 , 0.01500464, 0.03552645],\n",
              "       [0.9205573 , 0.01183178, 0.0676109 ]], dtype=float32)"
            ]
          },
          "metadata": {
            "tags": []
          },
          "execution_count": 85
        }
      ]
    },
    {
      "cell_type": "code",
      "metadata": {
        "id": "e51I2mMLHKe1",
        "colab_type": "code",
        "colab": {}
      },
      "source": [
        ""
      ],
      "execution_count": 0,
      "outputs": []
    }
  ]
}