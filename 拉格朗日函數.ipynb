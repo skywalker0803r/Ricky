{
  "nbformat": 4,
  "nbformat_minor": 0,
  "metadata": {
    "colab": {
      "name": "拉格朗日函數.ipynb",
      "provenance": [],
      "collapsed_sections": [],
      "authorship_tag": "ABX9TyMKlfoba11ePqXxNP16WGaA",
      "include_colab_link": true
    },
    "kernelspec": {
      "name": "python3",
      "display_name": "Python 3"
    }
  },
  "cells": [
    {
      "cell_type": "markdown",
      "metadata": {
        "id": "view-in-github",
        "colab_type": "text"
      },
      "source": [
        "<a href=\"https://colab.research.google.com/github/skywalker0803r/Ricky/blob/master/%E6%8B%89%E6%A0%BC%E6%9C%97%E6%97%A5%E5%87%BD%E6%95%B8.ipynb\" target=\"_parent\"><img src=\"https://colab.research.google.com/assets/colab-badge.svg\" alt=\"Open In Colab\"/></a>"
      ]
    },
    {
      "cell_type": "code",
      "metadata": {
        "id": "9oqbknETVMSb",
        "colab_type": "code",
        "colab": {}
      },
      "source": [
        "from sklearn.datasets import load_boston\n",
        "import pandas as pd\n",
        "from sklearn.decomposition import PCA\n",
        "from sklearn.preprocessing import MinMaxScaler,StandardScaler\n",
        "import matplotlib.pyplot as plt\n",
        "import numpy as np\n",
        "import warnings;warnings.simplefilter('ignore')"
      ],
      "execution_count": 0,
      "outputs": []
    },
    {
      "cell_type": "markdown",
      "metadata": {
        "id": "lwnDa8dxO3iA",
        "colab_type": "text"
      },
      "source": [
        "# obj_function"
      ]
    },
    {
      "cell_type": "code",
      "metadata": {
        "id": "wRIPQC-uOoki",
        "colab_type": "code",
        "colab": {}
      },
      "source": [
        "def Φ(x,y,λ):\n",
        "  term_1 = (x**2)*y\n",
        "  term_2 = λ*(x**2+y**2-1)\n",
        "  return  term_1 + term_2 "
      ],
      "execution_count": 0,
      "outputs": []
    },
    {
      "cell_type": "markdown",
      "metadata": {
        "id": "lXCfV9NrX-73",
        "colab_type": "text"
      },
      "source": [
        "## ANN method"
      ]
    },
    {
      "cell_type": "markdown",
      "metadata": {
        "id": "d6CeeICJP4aN",
        "colab_type": "text"
      },
      "source": [
        "# build net"
      ]
    },
    {
      "cell_type": "code",
      "metadata": {
        "id": "n7ewtsfaYBo0",
        "colab_type": "code",
        "outputId": "133b7bc9-413c-4c8b-9ecf-7f5b8208cb06",
        "colab": {
          "base_uri": "https://localhost:8080/",
          "height": 84
        }
      },
      "source": [
        "import torch\n",
        "from torch.nn import Linear,init,Sigmoid,Tanh\n",
        "import torch.optim as optim\n",
        "\n",
        "\n",
        "def build_net(input_shape,output_shape):\n",
        "  net = torch.nn.Sequential(\n",
        "      Linear(input_shape,output_shape),\n",
        "      Tanh(),\n",
        "      )\n",
        "  return net\n",
        "\n",
        "def init_weights(m):\n",
        "  if type(m) == Linear:\n",
        "    torch.nn.init.xavier_uniform(m.weight)\n",
        "    m.bias.data.fill_(0)\n",
        "\n",
        "net = build_net(1,3)\n",
        "net.apply(init_weights)\n",
        "net"
      ],
      "execution_count": 3,
      "outputs": [
        {
          "output_type": "execute_result",
          "data": {
            "text/plain": [
              "Sequential(\n",
              "  (0): Linear(in_features=1, out_features=3, bias=True)\n",
              "  (1): Tanh()\n",
              ")"
            ]
          },
          "metadata": {
            "tags": []
          },
          "execution_count": 3
        }
      ]
    },
    {
      "cell_type": "markdown",
      "metadata": {
        "id": "3SRU5EA6PyVg",
        "colab_type": "text"
      },
      "source": [
        "# noise_iter"
      ]
    },
    {
      "cell_type": "code",
      "metadata": {
        "id": "TtrTNmMlPygG",
        "colab_type": "code",
        "colab": {
          "base_uri": "https://localhost:8080/",
          "height": 33
        },
        "outputId": "a99c5d5d-5273-47a9-dacd-dcd9f96fa331"
      },
      "source": [
        "noise = torch.tensor(np.random.normal(size=(1,1)), dtype=torch.float)\n",
        "noise_datasets = torch.utils.data.TensorDataset(noise)\n",
        "noise_iter = torch.utils.data.DataLoader(noise_datasets,batch_size=1)\n",
        "noise_iter"
      ],
      "execution_count": 4,
      "outputs": [
        {
          "output_type": "execute_result",
          "data": {
            "text/plain": [
              "<torch.utils.data.dataloader.DataLoader at 0x7fba621af1d0>"
            ]
          },
          "metadata": {
            "tags": []
          },
          "execution_count": 4
        }
      ]
    },
    {
      "cell_type": "markdown",
      "metadata": {
        "id": "1398kqF9bOA9",
        "colab_type": "text"
      },
      "source": [
        "## optimizer"
      ]
    },
    {
      "cell_type": "code",
      "metadata": {
        "id": "hnVVWBSCasMh",
        "colab_type": "code",
        "colab": {}
      },
      "source": [
        "optimizer = optim.Adam(net.parameters(),lr=0.05)"
      ],
      "execution_count": 0,
      "outputs": []
    },
    {
      "cell_type": "markdown",
      "metadata": {
        "id": "f24SDHX1SW-j",
        "colab_type": "text"
      },
      "source": [
        "# obj"
      ]
    },
    {
      "cell_type": "code",
      "metadata": {
        "id": "QRkHZIX6SXLt",
        "colab_type": "code",
        "colab": {}
      },
      "source": [
        "def obj_function(x,y,λ):\n",
        "  Loss = 0\n",
        "  N = len(x)\n",
        "  for xi,yi,λi in zip(x,y,λ):\n",
        "    Loss += Φ(xi,yi,λi)\n",
        "  return Loss/N"
      ],
      "execution_count": 0,
      "outputs": []
    },
    {
      "cell_type": "markdown",
      "metadata": {
        "id": "Pr5OwvTacBcb",
        "colab_type": "text"
      },
      "source": [
        "# train loop"
      ]
    },
    {
      "cell_type": "code",
      "metadata": {
        "id": "g4W4Rv1F6iOv",
        "colab_type": "code",
        "colab": {}
      },
      "source": [
        "def train(net,noise_iter,obj_function,optimizer,num_epochs=50):\n",
        "  history = []\n",
        "  for epoch in range(num_epochs):\n",
        "    for noise in noise_iter:\n",
        "      z = net(noise[0])\n",
        "      x,y,λ = z[:,0],z[:,1],z[:,2]\n",
        "      loss = obj_function(x,y,λ)\n",
        "      loss.mean().backward()\n",
        "      optimizer.step()\n",
        "      optimizer.zero_grad()\n",
        "    # end one epochs\n",
        "    print(\"epochs {} loss {:.4f}\".format(epoch,loss.item()))\n",
        "    history.append(loss.item())\n",
        "  # end all epochs\n",
        "  plt.plot(np.array(history))\n",
        "  plt.title('train loss')\n",
        "  return net"
      ],
      "execution_count": 0,
      "outputs": []
    },
    {
      "cell_type": "code",
      "metadata": {
        "id": "VUcfuiKFQIow",
        "colab_type": "code",
        "colab": {
          "base_uri": "https://localhost:8080/",
          "height": 1000
        },
        "outputId": "dd8261d7-56ee-44d0-a163-3f99c2847c46"
      },
      "source": [
        "train(net,noise_iter,obj_function,optimizer,200)"
      ],
      "execution_count": 8,
      "outputs": [
        {
          "output_type": "stream",
          "text": [
            "epochs 0 loss 0.1160\n",
            "epochs 1 loss 0.0202\n",
            "epochs 2 loss -0.0815\n",
            "epochs 3 loss -0.1827\n",
            "epochs 4 loss -0.2772\n",
            "epochs 5 loss -0.3603\n",
            "epochs 6 loss -0.4313\n",
            "epochs 7 loss -0.4932\n",
            "epochs 8 loss -0.5490\n",
            "epochs 9 loss -0.6001\n",
            "epochs 10 loss -0.6477\n",
            "epochs 11 loss -0.6928\n",
            "epochs 12 loss -0.7354\n",
            "epochs 13 loss -0.7743\n",
            "epochs 14 loss -0.8078\n",
            "epochs 15 loss -0.8345\n",
            "epochs 16 loss -0.8542\n",
            "epochs 17 loss -0.8683\n",
            "epochs 18 loss -0.8795\n",
            "epochs 19 loss -0.8906\n",
            "epochs 20 loss -0.9029\n",
            "epochs 21 loss -0.9154\n",
            "epochs 22 loss -0.9266\n",
            "epochs 23 loss -0.9353\n",
            "epochs 24 loss -0.9412\n",
            "epochs 25 loss -0.9451\n",
            "epochs 26 loss -0.9481\n",
            "epochs 27 loss -0.9512\n",
            "epochs 28 loss -0.9548\n",
            "epochs 29 loss -0.9587\n",
            "epochs 30 loss -0.9626\n",
            "epochs 31 loss -0.9660\n",
            "epochs 32 loss -0.9685\n",
            "epochs 33 loss -0.9702\n",
            "epochs 34 loss -0.9712\n",
            "epochs 35 loss -0.9722\n",
            "epochs 36 loss -0.9734\n",
            "epochs 37 loss -0.9750\n",
            "epochs 38 loss -0.9767\n",
            "epochs 39 loss -0.9781\n",
            "epochs 40 loss -0.9792\n",
            "epochs 41 loss -0.9799\n",
            "epochs 42 loss -0.9804\n",
            "epochs 43 loss -0.9809\n",
            "epochs 44 loss -0.9816\n",
            "epochs 45 loss -0.9823\n",
            "epochs 46 loss -0.9831\n",
            "epochs 47 loss -0.9837\n",
            "epochs 48 loss -0.9842\n",
            "epochs 49 loss -0.9846\n",
            "epochs 50 loss -0.9849\n",
            "epochs 51 loss -0.9853\n",
            "epochs 52 loss -0.9857\n",
            "epochs 53 loss -0.9861\n",
            "epochs 54 loss -0.9865\n",
            "epochs 55 loss -0.9868\n",
            "epochs 56 loss -0.9871\n",
            "epochs 57 loss -0.9873\n",
            "epochs 58 loss -0.9875\n",
            "epochs 59 loss -0.9878\n",
            "epochs 60 loss -0.9880\n",
            "epochs 61 loss -0.9883\n",
            "epochs 62 loss -0.9885\n",
            "epochs 63 loss -0.9887\n",
            "epochs 64 loss -0.9889\n",
            "epochs 65 loss -0.9891\n",
            "epochs 66 loss -0.9893\n",
            "epochs 67 loss -0.9894\n",
            "epochs 68 loss -0.9896\n",
            "epochs 69 loss -0.9898\n",
            "epochs 70 loss -0.9899\n",
            "epochs 71 loss -0.9901\n",
            "epochs 72 loss -0.9902\n",
            "epochs 73 loss -0.9904\n",
            "epochs 74 loss -0.9905\n",
            "epochs 75 loss -0.9906\n",
            "epochs 76 loss -0.9908\n",
            "epochs 77 loss -0.9909\n",
            "epochs 78 loss -0.9910\n",
            "epochs 79 loss -0.9911\n",
            "epochs 80 loss -0.9912\n",
            "epochs 81 loss -0.9913\n",
            "epochs 82 loss -0.9914\n",
            "epochs 83 loss -0.9916\n",
            "epochs 84 loss -0.9917\n",
            "epochs 85 loss -0.9918\n",
            "epochs 86 loss -0.9919\n",
            "epochs 87 loss -0.9919\n",
            "epochs 88 loss -0.9920\n",
            "epochs 89 loss -0.9921\n",
            "epochs 90 loss -0.9922\n",
            "epochs 91 loss -0.9923\n",
            "epochs 92 loss -0.9924\n",
            "epochs 93 loss -0.9925\n",
            "epochs 94 loss -0.9926\n",
            "epochs 95 loss -0.9926\n",
            "epochs 96 loss -0.9927\n",
            "epochs 97 loss -0.9928\n",
            "epochs 98 loss -0.9929\n",
            "epochs 99 loss -0.9930\n",
            "epochs 100 loss -0.9930\n",
            "epochs 101 loss -0.9931\n",
            "epochs 102 loss -0.9932\n",
            "epochs 103 loss -0.9932\n",
            "epochs 104 loss -0.9933\n",
            "epochs 105 loss -0.9934\n",
            "epochs 106 loss -0.9934\n",
            "epochs 107 loss -0.9935\n",
            "epochs 108 loss -0.9936\n",
            "epochs 109 loss -0.9936\n",
            "epochs 110 loss -0.9937\n",
            "epochs 111 loss -0.9938\n",
            "epochs 112 loss -0.9938\n",
            "epochs 113 loss -0.9939\n",
            "epochs 114 loss -0.9939\n",
            "epochs 115 loss -0.9940\n",
            "epochs 116 loss -0.9941\n",
            "epochs 117 loss -0.9941\n",
            "epochs 118 loss -0.9942\n",
            "epochs 119 loss -0.9942\n",
            "epochs 120 loss -0.9943\n",
            "epochs 121 loss -0.9943\n",
            "epochs 122 loss -0.9944\n",
            "epochs 123 loss -0.9944\n",
            "epochs 124 loss -0.9945\n",
            "epochs 125 loss -0.9945\n",
            "epochs 126 loss -0.9946\n",
            "epochs 127 loss -0.9946\n",
            "epochs 128 loss -0.9947\n",
            "epochs 129 loss -0.9947\n",
            "epochs 130 loss -0.9948\n",
            "epochs 131 loss -0.9948\n",
            "epochs 132 loss -0.9949\n",
            "epochs 133 loss -0.9949\n",
            "epochs 134 loss -0.9950\n",
            "epochs 135 loss -0.9950\n",
            "epochs 136 loss -0.9950\n",
            "epochs 137 loss -0.9951\n",
            "epochs 138 loss -0.9951\n",
            "epochs 139 loss -0.9952\n",
            "epochs 140 loss -0.9952\n",
            "epochs 141 loss -0.9952\n",
            "epochs 142 loss -0.9953\n",
            "epochs 143 loss -0.9953\n",
            "epochs 144 loss -0.9954\n",
            "epochs 145 loss -0.9954\n",
            "epochs 146 loss -0.9954\n",
            "epochs 147 loss -0.9955\n",
            "epochs 148 loss -0.9955\n",
            "epochs 149 loss -0.9955\n",
            "epochs 150 loss -0.9956\n",
            "epochs 151 loss -0.9956\n",
            "epochs 152 loss -0.9956\n",
            "epochs 153 loss -0.9957\n",
            "epochs 154 loss -0.9957\n",
            "epochs 155 loss -0.9957\n",
            "epochs 156 loss -0.9958\n",
            "epochs 157 loss -0.9958\n",
            "epochs 158 loss -0.9958\n",
            "epochs 159 loss -0.9959\n",
            "epochs 160 loss -0.9959\n",
            "epochs 161 loss -0.9959\n",
            "epochs 162 loss -0.9960\n",
            "epochs 163 loss -0.9960\n",
            "epochs 164 loss -0.9960\n",
            "epochs 165 loss -0.9961\n",
            "epochs 166 loss -0.9961\n",
            "epochs 167 loss -0.9961\n",
            "epochs 168 loss -0.9961\n",
            "epochs 169 loss -0.9962\n",
            "epochs 170 loss -0.9962\n",
            "epochs 171 loss -0.9962\n",
            "epochs 172 loss -0.9963\n",
            "epochs 173 loss -0.9963\n",
            "epochs 174 loss -0.9963\n",
            "epochs 175 loss -0.9963\n",
            "epochs 176 loss -0.9964\n",
            "epochs 177 loss -0.9964\n",
            "epochs 178 loss -0.9964\n",
            "epochs 179 loss -0.9964\n",
            "epochs 180 loss -0.9965\n",
            "epochs 181 loss -0.9965\n",
            "epochs 182 loss -0.9965\n",
            "epochs 183 loss -0.9965\n",
            "epochs 184 loss -0.9966\n",
            "epochs 185 loss -0.9966\n",
            "epochs 186 loss -0.9966\n",
            "epochs 187 loss -0.9966\n",
            "epochs 188 loss -0.9966\n",
            "epochs 189 loss -0.9967\n",
            "epochs 190 loss -0.9967\n",
            "epochs 191 loss -0.9967\n",
            "epochs 192 loss -0.9967\n",
            "epochs 193 loss -0.9968\n",
            "epochs 194 loss -0.9968\n",
            "epochs 195 loss -0.9968\n",
            "epochs 196 loss -0.9968\n",
            "epochs 197 loss -0.9968\n",
            "epochs 198 loss -0.9969\n",
            "epochs 199 loss -0.9969\n"
          ],
          "name": "stdout"
        },
        {
          "output_type": "execute_result",
          "data": {
            "text/plain": [
              "Sequential(\n",
              "  (0): Linear(in_features=1, out_features=3, bias=True)\n",
              "  (1): Tanh()\n",
              ")"
            ]
          },
          "metadata": {
            "tags": []
          },
          "execution_count": 8
        },
        {
          "output_type": "display_data",
          "data": {
            "image/png": "[encoded data removed]",
            "text/plain": [
              "<Figure size 432x288 with 1 Axes>"
            ]
          },
          "metadata": {
            "tags": []
          }
        }
      ]
    },
    {
      "cell_type": "code",
      "metadata": {
        "id": "NJXZUx_YQIyy",
        "colab_type": "code",
        "colab": {
          "base_uri": "https://localhost:8080/",
          "height": 67
        },
        "outputId": "cefbf5f1-9a74-4791-cfe4-7be809f4b97a"
      },
      "source": [
        "x,y,λ = net(noise[0]).detach().numpy()\n",
        "print(x,y,λ)\n",
        "print(round(x,2),round(y,2),round(λ,2))\n",
        "print(Φ(x,y,λ))"
      ],
      "execution_count": 15,
      "outputs": [
        {
          "output_type": "stream",
          "text": [
            "6.914139e-06 7.674098e-06 0.9969011\n",
            "0.0 0.0 1.0\n",
            "-0.9969010948071159\n"
          ],
          "name": "stdout"
        }
      ]
    },
    {
      "cell_type": "code",
      "metadata": {
        "id": "cSzT-JINQI7Z",
        "colab_type": "code",
        "colab": {}
      },
      "source": [
        ""
      ],
      "execution_count": 0,
      "outputs": []
    },
    {
      "cell_type": "code",
      "metadata": {
        "id": "qL9XV7Y6QI4t",
        "colab_type": "code",
        "colab": {}
      },
      "source": [
        ""
      ],
      "execution_count": 0,
      "outputs": []
    },
    {
      "cell_type": "code",
      "metadata": {
        "id": "TMgylu_pQI2P",
        "colab_type": "code",
        "colab": {}
      },
      "source": [
        ""
      ],
      "execution_count": 0,
      "outputs": []
    }
  ]
}