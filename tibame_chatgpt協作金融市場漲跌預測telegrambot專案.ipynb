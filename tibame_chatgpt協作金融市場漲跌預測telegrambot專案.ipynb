{
  "nbformat": 4,
  "nbformat_minor": 0,
  "metadata": {
    "colab": {
      "name": "CNN_stock.ipynb",
      "provenance": [],
      "include_colab_link": true
    },
    "kernelspec": {
      "name": "python3",
      "display_name": "Python 3"
    },
    "accelerator": "GPU"
  },
  "cells": [
    {
      "cell_type": "markdown",
      "metadata": {
        "id": "view-in-github",
        "colab_type": "text"
      },
      "source": [
        "<a href=\"https://colab.research.google.com/github/skywalker0803r/Ricky/blob/master/tibame_chatgpt%E5%8D%94%E4%BD%9C%E9%87%91%E8%9E%8D%E5%B8%82%E5%A0%B4%E6%BC%B2%E8%B7%8C%E9%A0%90%E6%B8%ACtelegrambot%E5%B0%88%E6%A1%88.ipynb\" target=\"_parent\"><img src=\"https://colab.research.google.com/assets/colab-badge.svg\" alt=\"Open In Colab\"/></a>"
      ]
    },
    {
      "cell_type": "code",
      "source": [
        "#pip install yfinance\n",
        "#!pip install finta\n",
        "#!pip install --upgrade pandas\n",
        "#!pip install --upgrade pandas-datareader"
      ],
      "metadata": {
        "id": "XTORNlRNWTAE"
      },
      "execution_count": 8,
      "outputs": []
    },
    {
      "cell_type": "markdown",
      "metadata": {
        "id": "6vaRLIuvJlZ7"
      },
      "source": [
        "# 載入資料"
      ]
    },
    {
      "cell_type": "code",
      "source": [
        "from pandas_datareader import data as pdr\n",
        "import pandas as pd\n",
        "import yfinance as yf\n",
        "import seaborn as sns\n",
        "yf.pdr_override()\n",
        "y_symbols = [\"^TWII\"]\n",
        "from datetime import datetime\n",
        "startdate = datetime(2010,12,1)\n",
        "enddate = datetime(2022,12,30)\n",
        "df = pdr.get_data_yahoo(y_symbols, start=startdate, end=enddate)\n",
        "print(df.shape)\n",
        "display(df.head(3))\n",
        "display(df.tail(3))"
      ],
      "metadata": {
        "id": "6rjcBk4sWHYE",
        "outputId": "17163307-cf6f-4bf7-b1d5-6691359d68ba",
        "colab": {
          "base_uri": "https://localhost:8080/",
          "height": 367
        }
      },
      "execution_count": 9,
      "outputs": [
        {
          "output_type": "stream",
          "name": "stdout",
          "text": [
            "\r[*********************100%***********************]  1 of 1 completed\n",
            "(2956, 6)\n"
          ]
        },
        {
          "output_type": "display_data",
          "data": {
            "text/plain": [
              "                   Open         High          Low        Close    Adj Close  \\\n",
              "Date                                                                          \n",
              "2010-12-01  8430.599609  8520.110352  8428.639648  8520.110352  8520.078125   \n",
              "2010-12-02  8598.009766  8641.129883  8572.650391  8585.769531  8585.737305   \n",
              "2010-12-03  8630.879883  8659.620117  8618.259766  8624.009766  8623.977539   \n",
              "\n",
              "             Volume  \n",
              "Date                 \n",
              "2010-12-01  4202800  \n",
              "2010-12-02  4731800  \n",
              "2010-12-03  3710800  "
            ],
            "text/html": [
              "\n",
              "  <div id=\"df-89734019-8f26-4fa3-8ea0-96b9e926a887\">\n",
              "    <div class=\"colab-df-container\">\n",
              "      <div>\n",
              "<style scoped>\n",
              "    .dataframe tbody tr th:only-of-type {\n",
              "        vertical-align: middle;\n",
              "    }\n",
              "\n",
              "    .dataframe tbody tr th {\n",
              "        vertical-align: top;\n",
              "    }\n",
              "\n",
              "    .dataframe thead th {\n",
              "        text-align: right;\n",
              "    }\n",
              "</style>\n",
              "<table border=\"1\" class=\"dataframe\">\n",
              "  <thead>\n",
              "    <tr style=\"text-align: right;\">\n",
              "      <th></th>\n",
              "      <th>Open</th>\n",
              "      <th>High</th>\n",
              "      <th>Low</th>\n",
              "      <th>Close</th>\n",
              "      <th>Adj Close</th>\n",
              "      <th>Volume</th>\n",
              "    </tr>\n",
              "    <tr>\n",
              "      <th>Date</th>\n",
              "      <th></th>\n",
              "      <th></th>\n",
              "      <th></th>\n",
              "      <th></th>\n",
              "      <th></th>\n",
              "      <th></th>\n",
              "    </tr>\n",
              "  </thead>\n",
              "  <tbody>\n",
              "    <tr>\n",
              "      <th>2010-12-01</th>\n",
              "      <td>8430.599609</td>\n",
              "      <td>8520.110352</td>\n",
              "      <td>8428.639648</td>\n",
              "      <td>8520.110352</td>\n",
              "      <td>8520.078125</td>\n",
              "      <td>4202800</td>\n",
              "    </tr>\n",
              "    <tr>\n",
              "      <th>2010-12-02</th>\n",
              "      <td>8598.009766</td>\n",
              "      <td>8641.129883</td>\n",
              "      <td>8572.650391</td>\n",
              "      <td>8585.769531</td>\n",
              "      <td>8585.737305</td>\n",
              "      <td>4731800</td>\n",
              "    </tr>\n",
              "    <tr>\n",
              "      <th>2010-12-03</th>\n",
              "      <td>8630.879883</td>\n",
              "      <td>8659.620117</td>\n",
              "      <td>8618.259766</td>\n",
              "      <td>8624.009766</td>\n",
              "      <td>8623.977539</td>\n",
              "      <td>3710800</td>\n",
              "    </tr>\n",
              "  </tbody>\n",
              "</table>\n",
              "</div>\n",
              "      <button class=\"colab-df-convert\" onclick=\"convertToInteractive('df-89734019-8f26-4fa3-8ea0-96b9e926a887')\"\n",
              "              title=\"Convert this dataframe to an interactive table.\"\n",
              "              style=\"display:none;\">\n",
              "        \n",
              "  <svg xmlns=\"http://www.w3.org/2000/svg\" height=\"24px\"viewBox=\"0 0 24 24\"\n",
              "       width=\"24px\">\n",
              "    <path d=\"M0 0h24v24H0V0z\" fill=\"none\"/>\n",
              "    <path d=\"M18.56 5.44l.94 2.06.94-2.06 2.06-.94-2.06-.94-.94-2.06-.94 2.06-2.06.94zm-11 1L8.5 8.5l.94-2.06 2.06-.94-2.06-.94L8.5 2.5l-.94 2.06-2.06.94zm10 10l.94 2.06.94-2.06 2.06-.94-2.06-.94-.94-2.06-.94 2.06-2.06.94z\"/><path d=\"M17.41 7.96l-1.37-1.37c-.4-.4-.92-.59-1.43-.59-.52 0-1.04.2-1.43.59L10.3 9.45l-7.72 7.72c-.78.78-.78 2.05 0 2.83L4 21.41c.39.39.9.59 1.41.59.51 0 1.02-.2 1.41-.59l7.78-7.78 2.81-2.81c.8-.78.8-2.07 0-2.86zM5.41 20L4 18.59l7.72-7.72 1.47 1.35L5.41 20z\"/>\n",
              "  </svg>\n",
              "      </button>\n",
              "      \n",
              "  <style>\n",
              "    .colab-df-container {\n",
              "      display:flex;\n",
              "      flex-wrap:wrap;\n",
              "      gap: 12px;\n",
              "    }\n",
              "\n",
              "    .colab-df-convert {\n",
              "      background-color: #E8F0FE;\n",
              "      border: none;\n",
              "      border-radius: 50%;\n",
              "      cursor: pointer;\n",
              "      display: none;\n",
              "      fill: #1967D2;\n",
              "      height: 32px;\n",
              "      padding: 0 0 0 0;\n",
              "      width: 32px;\n",
              "    }\n",
              "\n",
              "    .colab-df-convert:hover {\n",
              "      background-color: #E2EBFA;\n",
              "      box-shadow: 0px 1px 2px rgba(60, 64, 67, 0.3), 0px 1px 3px 1px rgba(60, 64, 67, 0.15);\n",
              "      fill: #174EA6;\n",
              "    }\n",
              "\n",
              "    [theme=dark] .colab-df-convert {\n",
              "      background-color: #3B4455;\n",
              "      fill: #D2E3FC;\n",
              "    }\n",
              "\n",
              "    [theme=dark] .colab-df-convert:hover {\n",
              "      background-color: #434B5C;\n",
              "      box-shadow: 0px 1px 3px 1px rgba(0, 0, 0, 0.15);\n",
              "      filter: drop-shadow(0px 1px 2px rgba(0, 0, 0, 0.3));\n",
              "      fill: #FFFFFF;\n",
              "    }\n",
              "  </style>\n",
              "\n",
              "      <script>\n",
              "        const buttonEl =\n",
              "          document.querySelector('#df-89734019-8f26-4fa3-8ea0-96b9e926a887 button.colab-df-convert');\n",
              "        buttonEl.style.display =\n",
              "          google.colab.kernel.accessAllowed ? 'block' : 'none';\n",
              "\n",
              "        async function convertToInteractive(key) {\n",
              "          const element = document.querySelector('#df-89734019-8f26-4fa3-8ea0-96b9e926a887');\n",
              "          const dataTable =\n",
              "            await google.colab.kernel.invokeFunction('convertToInteractive',\n",
              "                                                     [key], {});\n",
              "          if (!dataTable) return;\n",
              "\n",
              "          const docLinkHtml = 'Like what you see? Visit the ' +\n",
              "            '<a target=\"_blank\" href=https://colab.research.google.com/notebooks/data_table.ipynb>data table notebook</a>'\n",
              "            + ' to learn more about interactive tables.';\n",
              "          element.innerHTML = '';\n",
              "          dataTable['output_type'] = 'display_data';\n",
              "          await google.colab.output.renderOutput(dataTable, element);\n",
              "          const docLink = document.createElement('div');\n",
              "          docLink.innerHTML = docLinkHtml;\n",
              "          element.appendChild(docLink);\n",
              "        }\n",
              "      </script>\n",
              "    </div>\n",
              "  </div>\n",
              "  "
            ]
          },
          "metadata": {}
        },
        {
          "output_type": "display_data",
          "data": {
            "text/plain": [
              "                    Open          High           Low         Close  \\\n",
              "Date                                                                 \n",
              "2022-12-27  14310.190430  14410.240234  14310.190430  14328.429688   \n",
              "2022-12-28  14249.830078  14249.830078  14119.299805  14173.099609   \n",
              "2022-12-29  14097.509766  14120.570312  13981.629883  14085.019531   \n",
              "\n",
              "               Adj Close   Volume  \n",
              "Date                               \n",
              "2022-12-27  14328.429688  1821100  \n",
              "2022-12-28  14173.099609  1958900  \n",
              "2022-12-29  14085.019531  1839200  "
            ],
            "text/html": [
              "\n",
              "  <div id=\"df-99e8ff90-933e-40d7-8c7b-dab6597cb975\">\n",
              "    <div class=\"colab-df-container\">\n",
              "      <div>\n",
              "<style scoped>\n",
              "    .dataframe tbody tr th:only-of-type {\n",
              "        vertical-align: middle;\n",
              "    }\n",
              "\n",
              "    .dataframe tbody tr th {\n",
              "        vertical-align: top;\n",
              "    }\n",
              "\n",
              "    .dataframe thead th {\n",
              "        text-align: right;\n",
              "    }\n",
              "</style>\n",
              "<table border=\"1\" class=\"dataframe\">\n",
              "  <thead>\n",
              "    <tr style=\"text-align: right;\">\n",
              "      <th></th>\n",
              "      <th>Open</th>\n",
              "      <th>High</th>\n",
              "      <th>Low</th>\n",
              "      <th>Close</th>\n",
              "      <th>Adj Close</th>\n",
              "      <th>Volume</th>\n",
              "    </tr>\n",
              "    <tr>\n",
              "      <th>Date</th>\n",
              "      <th></th>\n",
              "      <th></th>\n",
              "      <th></th>\n",
              "      <th></th>\n",
              "      <th></th>\n",
              "      <th></th>\n",
              "    </tr>\n",
              "  </thead>\n",
              "  <tbody>\n",
              "    <tr>\n",
              "      <th>2022-12-27</th>\n",
              "      <td>14310.190430</td>\n",
              "      <td>14410.240234</td>\n",
              "      <td>14310.190430</td>\n",
              "      <td>14328.429688</td>\n",
              "      <td>14328.429688</td>\n",
              "      <td>1821100</td>\n",
              "    </tr>\n",
              "    <tr>\n",
              "      <th>2022-12-28</th>\n",
              "      <td>14249.830078</td>\n",
              "      <td>14249.830078</td>\n",
              "      <td>14119.299805</td>\n",
              "      <td>14173.099609</td>\n",
              "      <td>14173.099609</td>\n",
              "      <td>1958900</td>\n",
              "    </tr>\n",
              "    <tr>\n",
              "      <th>2022-12-29</th>\n",
              "      <td>14097.509766</td>\n",
              "      <td>14120.570312</td>\n",
              "      <td>13981.629883</td>\n",
              "      <td>14085.019531</td>\n",
              "      <td>14085.019531</td>\n",
              "      <td>1839200</td>\n",
              "    </tr>\n",
              "  </tbody>\n",
              "</table>\n",
              "</div>\n",
              "      <button class=\"colab-df-convert\" onclick=\"convertToInteractive('df-99e8ff90-933e-40d7-8c7b-dab6597cb975')\"\n",
              "              title=\"Convert this dataframe to an interactive table.\"\n",
              "              style=\"display:none;\">\n",
              "        \n",
              "  <svg xmlns=\"http://www.w3.org/2000/svg\" height=\"24px\"viewBox=\"0 0 24 24\"\n",
              "       width=\"24px\">\n",
              "    <path d=\"M0 0h24v24H0V0z\" fill=\"none\"/>\n",
              "    <path d=\"M18.56 5.44l.94 2.06.94-2.06 2.06-.94-2.06-.94-.94-2.06-.94 2.06-2.06.94zm-11 1L8.5 8.5l.94-2.06 2.06-.94-2.06-.94L8.5 2.5l-.94 2.06-2.06.94zm10 10l.94 2.06.94-2.06 2.06-.94-2.06-.94-.94-2.06-.94 2.06-2.06.94z\"/><path d=\"M17.41 7.96l-1.37-1.37c-.4-.4-.92-.59-1.43-.59-.52 0-1.04.2-1.43.59L10.3 9.45l-7.72 7.72c-.78.78-.78 2.05 0 2.83L4 21.41c.39.39.9.59 1.41.59.51 0 1.02-.2 1.41-.59l7.78-7.78 2.81-2.81c.8-.78.8-2.07 0-2.86zM5.41 20L4 18.59l7.72-7.72 1.47 1.35L5.41 20z\"/>\n",
              "  </svg>\n",
              "      </button>\n",
              "      \n",
              "  <style>\n",
              "    .colab-df-container {\n",
              "      display:flex;\n",
              "      flex-wrap:wrap;\n",
              "      gap: 12px;\n",
              "    }\n",
              "\n",
              "    .colab-df-convert {\n",
              "      background-color: #E8F0FE;\n",
              "      border: none;\n",
              "      border-radius: 50%;\n",
              "      cursor: pointer;\n",
              "      display: none;\n",
              "      fill: #1967D2;\n",
              "      height: 32px;\n",
              "      padding: 0 0 0 0;\n",
              "      width: 32px;\n",
              "    }\n",
              "\n",
              "    .colab-df-convert:hover {\n",
              "      background-color: #E2EBFA;\n",
              "      box-shadow: 0px 1px 2px rgba(60, 64, 67, 0.3), 0px 1px 3px 1px rgba(60, 64, 67, 0.15);\n",
              "      fill: #174EA6;\n",
              "    }\n",
              "\n",
              "    [theme=dark] .colab-df-convert {\n",
              "      background-color: #3B4455;\n",
              "      fill: #D2E3FC;\n",
              "    }\n",
              "\n",
              "    [theme=dark] .colab-df-convert:hover {\n",
              "      background-color: #434B5C;\n",
              "      box-shadow: 0px 1px 3px 1px rgba(0, 0, 0, 0.15);\n",
              "      filter: drop-shadow(0px 1px 2px rgba(0, 0, 0, 0.3));\n",
              "      fill: #FFFFFF;\n",
              "    }\n",
              "  </style>\n",
              "\n",
              "      <script>\n",
              "        const buttonEl =\n",
              "          document.querySelector('#df-99e8ff90-933e-40d7-8c7b-dab6597cb975 button.colab-df-convert');\n",
              "        buttonEl.style.display =\n",
              "          google.colab.kernel.accessAllowed ? 'block' : 'none';\n",
              "\n",
              "        async function convertToInteractive(key) {\n",
              "          const element = document.querySelector('#df-99e8ff90-933e-40d7-8c7b-dab6597cb975');\n",
              "          const dataTable =\n",
              "            await google.colab.kernel.invokeFunction('convertToInteractive',\n",
              "                                                     [key], {});\n",
              "          if (!dataTable) return;\n",
              "\n",
              "          const docLinkHtml = 'Like what you see? Visit the ' +\n",
              "            '<a target=\"_blank\" href=https://colab.research.google.com/notebooks/data_table.ipynb>data table notebook</a>'\n",
              "            + ' to learn more about interactive tables.';\n",
              "          element.innerHTML = '';\n",
              "          dataTable['output_type'] = 'display_data';\n",
              "          await google.colab.output.renderOutput(dataTable, element);\n",
              "          const docLink = document.createElement('div');\n",
              "          docLink.innerHTML = docLinkHtml;\n",
              "          element.appendChild(docLink);\n",
              "        }\n",
              "      </script>\n",
              "    </div>\n",
              "  </div>\n",
              "  "
            ]
          },
          "metadata": {}
        }
      ]
    },
    {
      "cell_type": "markdown",
      "metadata": {
        "id": "HegmuvBN0FKD"
      },
      "source": [
        "# Label triple_barrier"
      ]
    },
    {
      "cell_type": "markdown",
      "source": [
        "https://sharegpt.com/c/qqTJZKo"
      ],
      "metadata": {
        "id": "G70nRbCaEAHg"
      }
    },
    {
      "cell_type": "code",
      "metadata": {
        "id": "RFsmFQfF0FXt",
        "outputId": "4133dc85-22ec-4699-c8e4-cd97691bd68e",
        "colab": {
          "base_uri": "https://localhost:8080/"
        }
      },
      "source": [
        "import numpy as np\n",
        "import math\n",
        "def triple_barrier(price, ub, lb, max_period):\n",
        "\n",
        "    def end_price(s):\n",
        "        return np.append(s[(s / s[0] > ub) | (s / s[0] < lb)], s[-1])[0]/s[0]\n",
        "    \n",
        "    r = np.array(range(max_period))\n",
        "    \n",
        "    def end_time(s):\n",
        "        return np.append(r[(s / s[0] > ub) | (s / s[0] < lb)], max_period-1)[0]\n",
        "\n",
        "    p = price.rolling(max_period).apply(end_price, raw=True).shift(-max_period+1)\n",
        "    t = price.rolling(max_period).apply(end_time, raw=True).shift(-max_period+1)\n",
        "    t = pd.Series([t.index[int(k+i)] if not math.isnan(k+i) else np.datetime64('NaT') \n",
        "                   for i, k in enumerate(t)], index=t.index).dropna()\n",
        "\n",
        "    signal = pd.Series(0, p.index)\n",
        "    signal.loc[p > ub] = 1\n",
        "    signal.loc[p < lb] = -1\n",
        "    ret = pd.DataFrame({'triple_barrier_profit':p, 'triple_barrier_sell_time':t, 'triple_barrier_signal':signal})\n",
        "\n",
        "    return ret\n",
        "\n",
        "def triple_barrier_signal(price, ub, lb, t):\n",
        "  '''\n",
        "  triple-barrier包含2个horizontal barrier，1个vertical barrier。首先解释一下这3个barrier：\n",
        "  根據3個barrier中第一個被touch的進行label\n",
        "  barrier 1 (the upper barrier)首先達到，label 1\n",
        "  barrier 2（the lower barrier)首先達到，label -1\n",
        "  如果barrier 1和barrier 2都没有達到，则barrier 3達到，label 0\n",
        "  '''\n",
        "  signal = []\n",
        "  for i in range(len(price) - t):\n",
        "      # 情況1.如果price[i:i+t]這段序列有任何元素的值大於price[i]*ub則signal[i] = 1\n",
        "      if max(price[i:i+t]) > price[i] * ub:\n",
        "          signal.append(1)\n",
        "      # 情況2.如果price[i:i+t]這段序列有任何元素的值低於price[i]*lb則signal[i] = -1\n",
        "      elif min(price[i:i+t]) < price[i] * lb:\n",
        "          signal.append(-1)\n",
        "      # 如果以上情況1和情況2都沒有發生則signal[i] = 0\n",
        "      else:\n",
        "          signal.append(0)\n",
        "  return signal\n",
        "ret = triple_barrier_signal(df.Close.values.tolist(), 1.03, 0.97, 20)\n",
        "#ret = triple_barrier(df.Close,1.03,0.97,20)['triple_barrier_signal']\n",
        "df = df.head(len(ret))\n",
        "df['triple_barrier_signal'] = ret"
      ],
      "execution_count": 10,
      "outputs": [
        {
          "output_type": "stream",
          "name": "stderr",
          "text": [
            "<ipython-input-10-d8cf0fcbfa2c>:48: SettingWithCopyWarning: \n",
            "A value is trying to be set on a copy of a slice from a DataFrame.\n",
            "Try using .loc[row_indexer,col_indexer] = value instead\n",
            "\n",
            "See the caveats in the documentation: https://pandas.pydata.org/pandas-docs/stable/user_guide/indexing.html#returning-a-view-versus-a-copy\n",
            "  df['triple_barrier_signal'] = ret\n"
          ]
        }
      ]
    },
    {
      "cell_type": "code",
      "metadata": {
        "id": "MHRZWGG40a3q",
        "outputId": "703fba50-6afb-44da-8b59-28794f5758d1",
        "colab": {
          "base_uri": "https://localhost:8080/",
          "height": 707
        }
      },
      "source": [
        "df.tail(20)"
      ],
      "execution_count": 11,
      "outputs": [
        {
          "output_type": "execute_result",
          "data": {
            "text/plain": [
              "                    Open          High           Low         Close  \\\n",
              "Date                                                                 \n",
              "2022-11-04  12941.780273  13029.940430  12868.250000  13026.709961   \n",
              "2022-11-07  13109.349609  13246.589844  13103.349609  13223.730469   \n",
              "2022-11-08  13274.910156  13389.250000  13274.910156  13347.759766   \n",
              "2022-11-09  13410.190430  13638.809570  13410.190430  13638.809570   \n",
              "2022-11-10  13556.509766  13559.400391  13463.849609  13503.759766   \n",
              "2022-11-11  13878.950195  14045.509766  13878.950195  14007.559570   \n",
              "2022-11-14  14080.910156  14217.299805  14076.940430  14174.900391   \n",
              "2022-11-15  14325.490234  14568.509766  14278.530273  14546.309570   \n",
              "2022-11-16  14637.849609  14657.660156  14481.059570  14537.349609   \n",
              "2022-11-17  14489.410156  14545.889648  14383.549805  14535.230469   \n",
              "2022-11-18  14584.309570  14669.980469  14470.480469  14504.990234   \n",
              "2022-11-21  14514.709961  14530.759766  14421.650391  14449.389648   \n",
              "2022-11-22  14404.080078  14542.790039  14371.089844  14542.200195   \n",
              "2022-11-23  14595.500000  14647.980469  14573.410156  14608.540039   \n",
              "2022-11-24  14649.799805  14784.000000  14649.799805  14784.000000   \n",
              "2022-11-25  14764.940430  14835.660156  14756.009766  14778.509766   \n",
              "2022-11-28  14636.900391  14638.190430  14503.120117  14556.870117   \n",
              "2022-11-29  14503.790039  14716.580078  14449.049805  14709.639648   \n",
              "2022-11-30  14678.230469  14879.549805  14678.230469  14879.549805   \n",
              "2022-12-01  15059.919922  15152.379883  14998.030273  15012.799805   \n",
              "\n",
              "               Adj Close   Volume  triple_barrier_signal  \n",
              "Date                                                      \n",
              "2022-11-04  13026.709961  2354400                      1  \n",
              "2022-11-07  13223.730469  2750000                      1  \n",
              "2022-11-08  13347.759766  3009500                      1  \n",
              "2022-11-09  13638.809570  2981300                      1  \n",
              "2022-11-10  13503.759766  2335900                      1  \n",
              "2022-11-11  14007.559570  3988800                      1  \n",
              "2022-11-14  14174.900391  3396800                      1  \n",
              "2022-11-15  14546.309570  3441500                      1  \n",
              "2022-11-16  14537.349609  3356100                      1  \n",
              "2022-11-17  14535.230469  2707100                      1  \n",
              "2022-11-18  14504.990234  2787500                      1  \n",
              "2022-11-21  14449.389648  2186300                      1  \n",
              "2022-11-22  14542.200195  2281400                      1  \n",
              "2022-11-23  14608.540039  2345700                     -1  \n",
              "2022-11-24  14784.000000  2615600                     -1  \n",
              "2022-11-25  14778.509766  2808900                     -1  \n",
              "2022-11-28  14556.870117  2567800                      1  \n",
              "2022-11-29  14709.639648  3143000                     -1  \n",
              "2022-11-30  14879.549805  4457700                     -1  \n",
              "2022-12-01  15012.799805  3771700                     -1  "
            ],
            "text/html": [
              "\n",
              "  <div id=\"df-64f468d4-28ef-4800-b1fd-729d7197044d\">\n",
              "    <div class=\"colab-df-container\">\n",
              "      <div>\n",
              "<style scoped>\n",
              "    .dataframe tbody tr th:only-of-type {\n",
              "        vertical-align: middle;\n",
              "    }\n",
              "\n",
              "    .dataframe tbody tr th {\n",
              "        vertical-align: top;\n",
              "    }\n",
              "\n",
              "    .dataframe thead th {\n",
              "        text-align: right;\n",
              "    }\n",
              "</style>\n",
              "<table border=\"1\" class=\"dataframe\">\n",
              "  <thead>\n",
              "    <tr style=\"text-align: right;\">\n",
              "      <th></th>\n",
              "      <th>Open</th>\n",
              "      <th>High</th>\n",
              "      <th>Low</th>\n",
              "      <th>Close</th>\n",
              "      <th>Adj Close</th>\n",
              "      <th>Volume</th>\n",
              "      <th>triple_barrier_signal</th>\n",
              "    </tr>\n",
              "    <tr>\n",
              "      <th>Date</th>\n",
              "      <th></th>\n",
              "      <th></th>\n",
              "      <th></th>\n",
              "      <th></th>\n",
              "      <th></th>\n",
              "      <th></th>\n",
              "      <th></th>\n",
              "    </tr>\n",
              "  </thead>\n",
              "  <tbody>\n",
              "    <tr>\n",
              "      <th>2022-11-04</th>\n",
              "      <td>12941.780273</td>\n",
              "      <td>13029.940430</td>\n",
              "      <td>12868.250000</td>\n",
              "      <td>13026.709961</td>\n",
              "      <td>13026.709961</td>\n",
              "      <td>2354400</td>\n",
              "      <td>1</td>\n",
              "    </tr>\n",
              "    <tr>\n",
              "      <th>2022-11-07</th>\n",
              "      <td>13109.349609</td>\n",
              "      <td>13246.589844</td>\n",
              "      <td>13103.349609</td>\n",
              "      <td>13223.730469</td>\n",
              "      <td>13223.730469</td>\n",
              "      <td>2750000</td>\n",
              "      <td>1</td>\n",
              "    </tr>\n",
              "    <tr>\n",
              "      <th>2022-11-08</th>\n",
              "      <td>13274.910156</td>\n",
              "      <td>13389.250000</td>\n",
              "      <td>13274.910156</td>\n",
              "      <td>13347.759766</td>\n",
              "      <td>13347.759766</td>\n",
              "      <td>3009500</td>\n",
              "      <td>1</td>\n",
              "    </tr>\n",
              "    <tr>\n",
              "      <th>2022-11-09</th>\n",
              "      <td>13410.190430</td>\n",
              "      <td>13638.809570</td>\n",
              "      <td>13410.190430</td>\n",
              "      <td>13638.809570</td>\n",
              "      <td>13638.809570</td>\n",
              "      <td>2981300</td>\n",
              "      <td>1</td>\n",
              "    </tr>\n",
              "    <tr>\n",
              "      <th>2022-11-10</th>\n",
              "      <td>13556.509766</td>\n",
              "      <td>13559.400391</td>\n",
              "      <td>13463.849609</td>\n",
              "      <td>13503.759766</td>\n",
              "      <td>13503.759766</td>\n",
              "      <td>2335900</td>\n",
              "      <td>1</td>\n",
              "    </tr>\n",
              "    <tr>\n",
              "      <th>2022-11-11</th>\n",
              "      <td>13878.950195</td>\n",
              "      <td>14045.509766</td>\n",
              "      <td>13878.950195</td>\n",
              "      <td>14007.559570</td>\n",
              "      <td>14007.559570</td>\n",
              "      <td>3988800</td>\n",
              "      <td>1</td>\n",
              "    </tr>\n",
              "    <tr>\n",
              "      <th>2022-11-14</th>\n",
              "      <td>14080.910156</td>\n",
              "      <td>14217.299805</td>\n",
              "      <td>14076.940430</td>\n",
              "      <td>14174.900391</td>\n",
              "      <td>14174.900391</td>\n",
              "      <td>3396800</td>\n",
              "      <td>1</td>\n",
              "    </tr>\n",
              "    <tr>\n",
              "      <th>2022-11-15</th>\n",
              "      <td>14325.490234</td>\n",
              "      <td>14568.509766</td>\n",
              "      <td>14278.530273</td>\n",
              "      <td>14546.309570</td>\n",
              "      <td>14546.309570</td>\n",
              "      <td>3441500</td>\n",
              "      <td>1</td>\n",
              "    </tr>\n",
              "    <tr>\n",
              "      <th>2022-11-16</th>\n",
              "      <td>14637.849609</td>\n",
              "      <td>14657.660156</td>\n",
              "      <td>14481.059570</td>\n",
              "      <td>14537.349609</td>\n",
              "      <td>14537.349609</td>\n",
              "      <td>3356100</td>\n",
              "      <td>1</td>\n",
              "    </tr>\n",
              "    <tr>\n",
              "      <th>2022-11-17</th>\n",
              "      <td>14489.410156</td>\n",
              "      <td>14545.889648</td>\n",
              "      <td>14383.549805</td>\n",
              "      <td>14535.230469</td>\n",
              "      <td>14535.230469</td>\n",
              "      <td>2707100</td>\n",
              "      <td>1</td>\n",
              "    </tr>\n",
              "    <tr>\n",
              "      <th>2022-11-18</th>\n",
              "      <td>14584.309570</td>\n",
              "      <td>14669.980469</td>\n",
              "      <td>14470.480469</td>\n",
              "      <td>14504.990234</td>\n",
              "      <td>14504.990234</td>\n",
              "      <td>2787500</td>\n",
              "      <td>1</td>\n",
              "    </tr>\n",
              "    <tr>\n",
              "      <th>2022-11-21</th>\n",
              "      <td>14514.709961</td>\n",
              "      <td>14530.759766</td>\n",
              "      <td>14421.650391</td>\n",
              "      <td>14449.389648</td>\n",
              "      <td>14449.389648</td>\n",
              "      <td>2186300</td>\n",
              "      <td>1</td>\n",
              "    </tr>\n",
              "    <tr>\n",
              "      <th>2022-11-22</th>\n",
              "      <td>14404.080078</td>\n",
              "      <td>14542.790039</td>\n",
              "      <td>14371.089844</td>\n",
              "      <td>14542.200195</td>\n",
              "      <td>14542.200195</td>\n",
              "      <td>2281400</td>\n",
              "      <td>1</td>\n",
              "    </tr>\n",
              "    <tr>\n",
              "      <th>2022-11-23</th>\n",
              "      <td>14595.500000</td>\n",
              "      <td>14647.980469</td>\n",
              "      <td>14573.410156</td>\n",
              "      <td>14608.540039</td>\n",
              "      <td>14608.540039</td>\n",
              "      <td>2345700</td>\n",
              "      <td>-1</td>\n",
              "    </tr>\n",
              "    <tr>\n",
              "      <th>2022-11-24</th>\n",
              "      <td>14649.799805</td>\n",
              "      <td>14784.000000</td>\n",
              "      <td>14649.799805</td>\n",
              "      <td>14784.000000</td>\n",
              "      <td>14784.000000</td>\n",
              "      <td>2615600</td>\n",
              "      <td>-1</td>\n",
              "    </tr>\n",
              "    <tr>\n",
              "      <th>2022-11-25</th>\n",
              "      <td>14764.940430</td>\n",
              "      <td>14835.660156</td>\n",
              "      <td>14756.009766</td>\n",
              "      <td>14778.509766</td>\n",
              "      <td>14778.509766</td>\n",
              "      <td>2808900</td>\n",
              "      <td>-1</td>\n",
              "    </tr>\n",
              "    <tr>\n",
              "      <th>2022-11-28</th>\n",
              "      <td>14636.900391</td>\n",
              "      <td>14638.190430</td>\n",
              "      <td>14503.120117</td>\n",
              "      <td>14556.870117</td>\n",
              "      <td>14556.870117</td>\n",
              "      <td>2567800</td>\n",
              "      <td>1</td>\n",
              "    </tr>\n",
              "    <tr>\n",
              "      <th>2022-11-29</th>\n",
              "      <td>14503.790039</td>\n",
              "      <td>14716.580078</td>\n",
              "      <td>14449.049805</td>\n",
              "      <td>14709.639648</td>\n",
              "      <td>14709.639648</td>\n",
              "      <td>3143000</td>\n",
              "      <td>-1</td>\n",
              "    </tr>\n",
              "    <tr>\n",
              "      <th>2022-11-30</th>\n",
              "      <td>14678.230469</td>\n",
              "      <td>14879.549805</td>\n",
              "      <td>14678.230469</td>\n",
              "      <td>14879.549805</td>\n",
              "      <td>14879.549805</td>\n",
              "      <td>4457700</td>\n",
              "      <td>-1</td>\n",
              "    </tr>\n",
              "    <tr>\n",
              "      <th>2022-12-01</th>\n",
              "      <td>15059.919922</td>\n",
              "      <td>15152.379883</td>\n",
              "      <td>14998.030273</td>\n",
              "      <td>15012.799805</td>\n",
              "      <td>15012.799805</td>\n",
              "      <td>3771700</td>\n",
              "      <td>-1</td>\n",
              "    </tr>\n",
              "  </tbody>\n",
              "</table>\n",
              "</div>\n",
              "      <button class=\"colab-df-convert\" onclick=\"convertToInteractive('df-64f468d4-28ef-4800-b1fd-729d7197044d')\"\n",
              "              title=\"Convert this dataframe to an interactive table.\"\n",
              "              style=\"display:none;\">\n",
              "        \n",
              "  <svg xmlns=\"http://www.w3.org/2000/svg\" height=\"24px\"viewBox=\"0 0 24 24\"\n",
              "       width=\"24px\">\n",
              "    <path d=\"M0 0h24v24H0V0z\" fill=\"none\"/>\n",
              "    <path d=\"M18.56 5.44l.94 2.06.94-2.06 2.06-.94-2.06-.94-.94-2.06-.94 2.06-2.06.94zm-11 1L8.5 8.5l.94-2.06 2.06-.94-2.06-.94L8.5 2.5l-.94 2.06-2.06.94zm10 10l.94 2.06.94-2.06 2.06-.94-2.06-.94-.94-2.06-.94 2.06-2.06.94z\"/><path d=\"M17.41 7.96l-1.37-1.37c-.4-.4-.92-.59-1.43-.59-.52 0-1.04.2-1.43.59L10.3 9.45l-7.72 7.72c-.78.78-.78 2.05 0 2.83L4 21.41c.39.39.9.59 1.41.59.51 0 1.02-.2 1.41-.59l7.78-7.78 2.81-2.81c.8-.78.8-2.07 0-2.86zM5.41 20L4 18.59l7.72-7.72 1.47 1.35L5.41 20z\"/>\n",
              "  </svg>\n",
              "      </button>\n",
              "      \n",
              "  <style>\n",
              "    .colab-df-container {\n",
              "      display:flex;\n",
              "      flex-wrap:wrap;\n",
              "      gap: 12px;\n",
              "    }\n",
              "\n",
              "    .colab-df-convert {\n",
              "      background-color: #E8F0FE;\n",
              "      border: none;\n",
              "      border-radius: 50%;\n",
              "      cursor: pointer;\n",
              "      display: none;\n",
              "      fill: #1967D2;\n",
              "      height: 32px;\n",
              "      padding: 0 0 0 0;\n",
              "      width: 32px;\n",
              "    }\n",
              "\n",
              "    .colab-df-convert:hover {\n",
              "      background-color: #E2EBFA;\n",
              "      box-shadow: 0px 1px 2px rgba(60, 64, 67, 0.3), 0px 1px 3px 1px rgba(60, 64, 67, 0.15);\n",
              "      fill: #174EA6;\n",
              "    }\n",
              "\n",
              "    [theme=dark] .colab-df-convert {\n",
              "      background-color: #3B4455;\n",
              "      fill: #D2E3FC;\n",
              "    }\n",
              "\n",
              "    [theme=dark] .colab-df-convert:hover {\n",
              "      background-color: #434B5C;\n",
              "      box-shadow: 0px 1px 3px 1px rgba(0, 0, 0, 0.15);\n",
              "      filter: drop-shadow(0px 1px 2px rgba(0, 0, 0, 0.3));\n",
              "      fill: #FFFFFF;\n",
              "    }\n",
              "  </style>\n",
              "\n",
              "      <script>\n",
              "        const buttonEl =\n",
              "          document.querySelector('#df-64f468d4-28ef-4800-b1fd-729d7197044d button.colab-df-convert');\n",
              "        buttonEl.style.display =\n",
              "          google.colab.kernel.accessAllowed ? 'block' : 'none';\n",
              "\n",
              "        async function convertToInteractive(key) {\n",
              "          const element = document.querySelector('#df-64f468d4-28ef-4800-b1fd-729d7197044d');\n",
              "          const dataTable =\n",
              "            await google.colab.kernel.invokeFunction('convertToInteractive',\n",
              "                                                     [key], {});\n",
              "          if (!dataTable) return;\n",
              "\n",
              "          const docLinkHtml = 'Like what you see? Visit the ' +\n",
              "            '<a target=\"_blank\" href=https://colab.research.google.com/notebooks/data_table.ipynb>data table notebook</a>'\n",
              "            + ' to learn more about interactive tables.';\n",
              "          element.innerHTML = '';\n",
              "          dataTable['output_type'] = 'display_data';\n",
              "          await google.colab.output.renderOutput(dataTable, element);\n",
              "          const docLink = document.createElement('div');\n",
              "          docLink.innerHTML = docLinkHtml;\n",
              "          element.appendChild(docLink);\n",
              "        }\n",
              "      </script>\n",
              "    </div>\n",
              "  </div>\n",
              "  "
            ]
          },
          "metadata": {},
          "execution_count": 11
        }
      ]
    },
    {
      "cell_type": "code",
      "metadata": {
        "id": "tK_VXl2R1Osh",
        "colab": {
          "base_uri": "https://localhost:8080/",
          "height": 353
        },
        "outputId": "b0233f79-5e7b-499c-df5d-612ca9b3c255"
      },
      "source": [
        "df['triple_barrier_signal'].value_counts()\n",
        "sns.countplot(df['triple_barrier_signal'])"
      ],
      "execution_count": 12,
      "outputs": [
        {
          "output_type": "stream",
          "name": "stderr",
          "text": [
            "/usr/local/lib/python3.8/dist-packages/seaborn/_decorators.py:36: FutureWarning: Pass the following variable as a keyword arg: x. From version 0.12, the only valid positional argument will be `data`, and passing other arguments without an explicit keyword will result in an error or misinterpretation.\n",
            "  warnings.warn(\n"
          ]
        },
        {
          "output_type": "execute_result",
          "data": {
            "text/plain": [
              "<AxesSubplot:xlabel='triple_barrier_signal', ylabel='count'>"
            ]
          },
          "metadata": {},
          "execution_count": 12
        },
        {
          "output_type": "display_data",
          "data": {
            "text/plain": [
              "<Figure size 432x288 with 1 Axes>"
            ],
            "image/png": "[encoded data removed]"
          },
          "metadata": {
            "needs_background": "light"
          }
        }
      ]
    },
    {
      "cell_type": "code",
      "metadata": {
        "id": "Qti5Zd4-jOrH",
        "outputId": "afefdec9-3637-4100-a2e7-79ed2cb59a40",
        "colab": {
          "base_uri": "https://localhost:8080/",
          "height": 277
        }
      },
      "source": [
        "import matplotlib.pyplot as plt\n",
        "df_recent = df.tail(120)\n",
        "buy = df_recent[df_recent['triple_barrier_signal']==1]['Close']\n",
        "sell = df_recent[df_recent['triple_barrier_signal']==-1]['Close']\n",
        "df_recent['Close'].plot()\n",
        "plt.scatter(buy.index,buy.values,color='red')\n",
        "plt.scatter(sell.index,sell.values,color='black')\n",
        "plt.show()"
      ],
      "execution_count": 20,
      "outputs": [
        {
          "output_type": "display_data",
          "data": {
            "text/plain": [
              "<Figure size 432x288 with 1 Axes>"
            ],
            "image/png": "[encoded data removed]"
          },
          "metadata": {
            "needs_background": "light"
          }
        }
      ]
    },
    {
      "cell_type": "markdown",
      "metadata": {
        "id": "HUtEilqGfIJl"
      },
      "source": [
        "# 建立ohlcv"
      ]
    },
    {
      "cell_type": "code",
      "metadata": {
        "id": "FdFhLZkYfKpN",
        "outputId": "96832e1c-c2fb-4963-f658-1fa1c0c530a5",
        "colab": {
          "base_uri": "https://localhost:8080/",
          "height": 341
        }
      },
      "source": [
        "from finta import TA\n",
        "ohlcv = df[['Open','High','Low','Close','Volume']]\n",
        "ohlcv.columns = ['open','high','low','close','volume']"
      ],
      "execution_count": 14,
      "outputs": [
        {
          "output_type": "error",
          "ename": "ModuleNotFoundError",
          "evalue": "ignored",
          "traceback": [
            "\u001b[0;31m---------------------------------------------------------------------------\u001b[0m",
            "\u001b[0;31mModuleNotFoundError\u001b[0m                       Traceback (most recent call last)",
            "\u001b[0;32m<ipython-input-14-f95f71e29817>\u001b[0m in \u001b[0;36m<module>\u001b[0;34m\u001b[0m\n\u001b[0;32m----> 1\u001b[0;31m \u001b[0;32mfrom\u001b[0m \u001b[0mfinta\u001b[0m \u001b[0;32mimport\u001b[0m \u001b[0mTA\u001b[0m\u001b[0;34m\u001b[0m\u001b[0;34m\u001b[0m\u001b[0m\n\u001b[0m\u001b[1;32m      2\u001b[0m \u001b[0mohlcv\u001b[0m \u001b[0;34m=\u001b[0m \u001b[0mdf\u001b[0m\u001b[0;34m[\u001b[0m\u001b[0;34m[\u001b[0m\u001b[0;34m'Open'\u001b[0m\u001b[0;34m,\u001b[0m\u001b[0;34m'High'\u001b[0m\u001b[0;34m,\u001b[0m\u001b[0;34m'Low'\u001b[0m\u001b[0;34m,\u001b[0m\u001b[0;34m'Close'\u001b[0m\u001b[0;34m,\u001b[0m\u001b[0;34m'Volume'\u001b[0m\u001b[0;34m]\u001b[0m\u001b[0;34m]\u001b[0m\u001b[0;34m\u001b[0m\u001b[0;34m\u001b[0m\u001b[0m\n\u001b[1;32m      3\u001b[0m \u001b[0mohlcv\u001b[0m\u001b[0;34m.\u001b[0m\u001b[0mcolumns\u001b[0m \u001b[0;34m=\u001b[0m \u001b[0;34m[\u001b[0m\u001b[0;34m'open'\u001b[0m\u001b[0;34m,\u001b[0m\u001b[0;34m'high'\u001b[0m\u001b[0;34m,\u001b[0m\u001b[0;34m'low'\u001b[0m\u001b[0;34m,\u001b[0m\u001b[0;34m'close'\u001b[0m\u001b[0;34m,\u001b[0m\u001b[0;34m'volume'\u001b[0m\u001b[0;34m]\u001b[0m\u001b[0;34m\u001b[0m\u001b[0;34m\u001b[0m\u001b[0m\n",
            "\u001b[0;31mModuleNotFoundError\u001b[0m: No module named 'finta'",
            "",
            "\u001b[0;31m---------------------------------------------------------------------------\u001b[0;32m\nNOTE: If your import is failing due to a missing package, you can\nmanually install dependencies using either !pip or !apt.\n\nTo view examples of installing some common dependencies, click the\n\"Open Examples\" button below.\n\u001b[0;31m---------------------------------------------------------------------------\u001b[0m\n"
          ],
          "errorDetails": {
            "actions": [
              {
                "action": "open_url",
                "actionText": "Open Examples",
                "url": "/notebooks/snippets/importing_libraries.ipynb"
              }
            ]
          }
        }
      ]
    },
    {
      "cell_type": "markdown",
      "metadata": {
        "id": "9K9RepGQwbQQ"
      },
      "source": [
        "# 計算技術指標RSI"
      ]
    },
    {
      "cell_type": "code",
      "metadata": {
        "id": "ZZkpnqk9e0Rw"
      },
      "source": [
        "df['RSI'] = TA.RSI(ohlcv)\n",
        "print(df['RSI'].describe())\n",
        "sns.distplot(df['RSI'].dropna())\n",
        "df.tail()"
      ],
      "execution_count": null,
      "outputs": []
    },
    {
      "cell_type": "markdown",
      "metadata": {
        "id": "fZXZuQe93pJE"
      },
      "source": [
        "# 計算威廉指標"
      ]
    },
    {
      "cell_type": "code",
      "metadata": {
        "id": "Q8_qx-dnfPJa"
      },
      "source": [
        "df['Williams %R'] = TA.WILLIAMS(ohlcv)\n",
        "print(df['Williams %R'].describe())\n",
        "sns.distplot(df['Williams %R'].dropna())\n",
        "df.tail()"
      ],
      "execution_count": null,
      "outputs": []
    },
    {
      "cell_type": "markdown",
      "metadata": {
        "id": "xK4jb6KTDdGa"
      },
      "source": [
        "# SMA"
      ]
    },
    {
      "cell_type": "code",
      "metadata": {
        "id": "osETw-NkfgfL"
      },
      "source": [
        "df['SMA'] = TA.SMA(ohlcv)\n",
        "print(df['SMA'].describe())\n",
        "sns.distplot(df['SMA'].dropna())\n",
        "df.tail()"
      ],
      "execution_count": null,
      "outputs": []
    },
    {
      "cell_type": "markdown",
      "metadata": {
        "id": "a2Mf0ckEoHC_"
      },
      "source": [
        "# EMA"
      ]
    },
    {
      "cell_type": "code",
      "metadata": {
        "id": "EQlFyJLeh4WA"
      },
      "source": [
        "df['EMA'] = TA.EMA(ohlcv)\n",
        "print(df['EMA'].describe())\n",
        "sns.distplot(df['EMA'])\n",
        "df.tail()"
      ],
      "execution_count": null,
      "outputs": []
    },
    {
      "cell_type": "markdown",
      "metadata": {
        "id": "wqkaWfQryV3W"
      },
      "source": [
        "# WMA"
      ]
    },
    {
      "cell_type": "code",
      "metadata": {
        "id": "9Dw9scCSieLI"
      },
      "source": [
        "df['WMA'] = TA.WMA(ohlcv)\n",
        "print(df['WMA'].describe())\n",
        "sns.distplot(df['WMA'].dropna())\n",
        "df.tail()"
      ],
      "execution_count": null,
      "outputs": []
    },
    {
      "cell_type": "markdown",
      "metadata": {
        "id": "HNC131ghyrF1"
      },
      "source": [
        "# HMA"
      ]
    },
    {
      "cell_type": "code",
      "metadata": {
        "id": "b02O6Yevi6mN"
      },
      "source": [
        "df['HMA'] = TA.HMA(ohlcv)\n",
        "print(df['HMA'].describe())\n",
        "sns.distplot(df['HMA'].dropna())\n",
        "df.tail()"
      ],
      "execution_count": null,
      "outputs": []
    },
    {
      "cell_type": "markdown",
      "metadata": {
        "id": "ch7SZ7aFjCit"
      },
      "source": [
        "# TEMA"
      ]
    },
    {
      "cell_type": "code",
      "metadata": {
        "id": "GeS0aHxZjFtA"
      },
      "source": [
        "df['TEMA'] = TA.TEMA(ohlcv)\n",
        "print(df['TEMA'].describe())\n",
        "sns.distplot(df['TEMA'].dropna())\n",
        "df.tail()"
      ],
      "execution_count": null,
      "outputs": []
    },
    {
      "cell_type": "markdown",
      "metadata": {
        "id": "EbMrqw5jjZaa"
      },
      "source": [
        "# CCI"
      ]
    },
    {
      "cell_type": "code",
      "metadata": {
        "id": "WBfeDdkUjZiP"
      },
      "source": [
        "df['CCI'] = TA.CCI(ohlcv)\n",
        "print(df['CCI'].describe())\n",
        "sns.distplot(df['CCI'].dropna())\n",
        "df.tail()"
      ],
      "execution_count": null,
      "outputs": []
    },
    {
      "cell_type": "markdown",
      "metadata": {
        "id": "G8rAJ61cjkJ4"
      },
      "source": [
        "# CMO"
      ]
    },
    {
      "cell_type": "code",
      "metadata": {
        "id": "P9EispJmjkj_"
      },
      "source": [
        "df['CMO'] = TA.CMO(ohlcv)\n",
        "print(df['CMO'].describe())\n",
        "sns.distplot(df['CMO'].dropna())\n",
        "df.tail()"
      ],
      "execution_count": null,
      "outputs": []
    },
    {
      "cell_type": "markdown",
      "metadata": {
        "id": "35qI_9gZjsR0"
      },
      "source": [
        "# MACD"
      ]
    },
    {
      "cell_type": "code",
      "metadata": {
        "id": "5QG4lBEfjsZb"
      },
      "source": [
        "df['MACD'] = TA.MACD(ohlcv)['MACD'] - TA.MACD(ohlcv)['SIGNAL']\n",
        "print(df['MACD'].describe())\n",
        "sns.distplot(df['MACD'].dropna())\n",
        "df.tail()"
      ],
      "execution_count": null,
      "outputs": []
    },
    {
      "cell_type": "markdown",
      "metadata": {
        "id": "roEAzvV7liUA"
      },
      "source": [
        "# PPO"
      ]
    },
    {
      "cell_type": "code",
      "metadata": {
        "id": "ovCLHYPXli73"
      },
      "source": [
        "df['PPO'] = TA.PPO(ohlcv)['PPO'] - TA.PPO(ohlcv)['SIGNAL']\n",
        "print(df['PPO'].describe())\n",
        "sns.distplot(df['PPO'].dropna())\n",
        "df.tail()"
      ],
      "execution_count": null,
      "outputs": []
    },
    {
      "cell_type": "markdown",
      "metadata": {
        "id": "5BBE8vaWmdGN"
      },
      "source": [
        "# ROC"
      ]
    },
    {
      "cell_type": "code",
      "metadata": {
        "id": "OKI3MqwhmdOj"
      },
      "source": [
        "df['ROC'] = TA.ROC(ohlcv)\n",
        "print(df['ROC'].describe())\n",
        "sns.distplot(df['ROC'].dropna())\n",
        "df.tail()"
      ],
      "execution_count": null,
      "outputs": []
    },
    {
      "cell_type": "markdown",
      "metadata": {
        "id": "b9LTKsyvmuSd"
      },
      "source": [
        "# CMFI"
      ]
    },
    {
      "cell_type": "code",
      "metadata": {
        "id": "somnlSTOmvjJ"
      },
      "source": [
        "df['CFI'] = TA.CFI(ohlcv)\n",
        "print(df['CFI'].describe())\n",
        "sns.distplot(df['CFI'].dropna())\n",
        "df.tail()"
      ],
      "execution_count": null,
      "outputs": []
    },
    {
      "cell_type": "markdown",
      "metadata": {
        "id": "8WydSl0doUYk"
      },
      "source": [
        "# DMI"
      ]
    },
    {
      "cell_type": "code",
      "metadata": {
        "id": "xRTnC6DboU05"
      },
      "source": [
        "df['DMI'] = TA.DMI(ohlcv)['DI+'] - TA.DMI(ohlcv)['DI-']\n",
        "print(df['DMI'].describe())\n",
        "sns.distplot(df['DMI'].dropna())\n",
        "df.tail()"
      ],
      "execution_count": null,
      "outputs": []
    },
    {
      "cell_type": "markdown",
      "metadata": {
        "id": "96c_FgXOo98u"
      },
      "source": [
        "# SAR"
      ]
    },
    {
      "cell_type": "code",
      "metadata": {
        "id": "eRPVEtrmo-bi"
      },
      "source": [
        "df['SAR'] = TA.SAR(ohlcv)\n",
        "print(df['SAR'].describe())\n",
        "sns.distplot(df['SAR'].dropna())\n",
        "df.tail()"
      ],
      "execution_count": null,
      "outputs": []
    },
    {
      "cell_type": "markdown",
      "metadata": {
        "id": "MoqrDEejwYOV"
      },
      "source": [
        "# columns選取"
      ]
    },
    {
      "cell_type": "code",
      "metadata": {
        "id": "qrGg0ojRKuE1"
      },
      "source": [
        "print(df.shape)\n",
        "df = df.dropna(axis=0)#刪除有缺失的row,會缺失主要因為用時間rolling計算技術指標導致,正常的\n",
        "features = df.columns[-15:].tolist() #取15個剛剛建立的技術指標當特徵\n",
        "y_name = 'triple_barrier_signal' #當作labels\n",
        "df = df[features+[y_name]]\n",
        "print(df.shape)\n",
        "df.tail()"
      ],
      "execution_count": null,
      "outputs": []
    },
    {
      "cell_type": "markdown",
      "metadata": {
        "id": "YSh6cJBEwgtg"
      },
      "source": [
        "# 相關性分析"
      ]
    },
    {
      "cell_type": "code",
      "metadata": {
        "id": "hKy0pMZfLKEH"
      },
      "source": [
        "import seaborn as sns\n",
        "import matplotlib.pyplot as plt\n",
        "plt.figure(figsize=(14,12))\n",
        "sns.heatmap(abs(df.corr()),annot=True,linewidths=0.1)"
      ],
      "execution_count": null,
      "outputs": []
    },
    {
      "cell_type": "markdown",
      "metadata": {
        "id": "c68TXVQaqGl3"
      },
      "source": [
        "# features scaling"
      ]
    },
    {
      "cell_type": "code",
      "metadata": {
        "id": "JpZPZWfJqGuo"
      },
      "source": [
        "from sklearn.preprocessing import MinMaxScaler\n",
        "min_max_scaler = MinMaxScaler()\n",
        "df_minmax = min_max_scaler.fit_transform(df)#縮放到0-1之間\n",
        "df_minmax = pd.DataFrame(df_minmax,index = df.index,columns = df.columns)#轉回dataframe格式\n",
        "df_minmax[y_name] = df[y_name]#y不用MinMaxScaler\n",
        "df_minmax.tail()"
      ],
      "execution_count": null,
      "outputs": []
    },
    {
      "cell_type": "code",
      "metadata": {
        "id": "5MCZDpBgrrQQ"
      },
      "source": [
        "df = df_minmax\n",
        "print('特徵縮放完成!')"
      ],
      "execution_count": null,
      "outputs": []
    },
    {
      "cell_type": "markdown",
      "metadata": {
        "id": "_kc7tvz_M7PO"
      },
      "source": [
        "# Xs ,ys prepare"
      ]
    },
    {
      "cell_type": "code",
      "metadata": {
        "id": "2ZHvlRJ5Lzzu"
      },
      "source": [
        "from tqdm import tqdm\n",
        "import numpy as np\n",
        "\n",
        "#定義觀察天數,起始index(0),結束index(資料筆數-觀察天數)\n",
        "days = 15\n",
        "start_index = 0\n",
        "end_index = len(df)-days\n",
        "\n",
        "#特徵欄位\n",
        "features = df.drop(y_name,axis=1).columns.tolist()\n",
        "\n",
        "#待存放序列\n",
        "Xs = []\n",
        "ys = []\n",
        "indexs = []\n",
        "\n",
        "'''\n",
        "若資料筆數100,days=15天,f_index=85,i只會跑到84,i+days=99,features只會跑到98天.\n",
        "若資料筆數100,days=15天,f_index=85+1,i會跑到85,i+days=100,features會跑到99天.\n",
        "'''\n",
        "for i in tqdm(range(start_index ,end_index+1 ,1)):#每次i都會遞增1\n",
        "  X = df.iloc[i:i+days,:][features] #ex:0...14(不含15)之features\n",
        "  y = df.iloc[i+days-1:i+days,:][y_name]#ex:14,y_name\n",
        "  X = np.array(X) # to np_array\n",
        "  Xs.append(X) #加入一筆X\n",
        "  ys.append(y) #加入一筆y\n",
        "  indexs.append((df.iloc[[i]].index,df.iloc[[i+days-1]].index)) #加入資料日期\n",
        "#轉換成np_array\n",
        "Xs = np.array(Xs)\n",
        "ys = np.array(ys)\n",
        "print('準備完成')"
      ],
      "execution_count": null,
      "outputs": []
    },
    {
      "cell_type": "markdown",
      "metadata": {
        "id": "a9iNRYKpNfIP"
      },
      "source": [
        "# check"
      ]
    },
    {
      "cell_type": "code",
      "metadata": {
        "id": "7YiS6ZmtNfSf"
      },
      "source": [
        "print('資料筆數:',len(Xs))\n",
        "print('第一筆的index開始和結束:{}-{}'.format(indexs[0][0].date[0],indexs[0][1].date[0]))\n",
        "print('最後一筆的index開始和結束:{}-{}'.format(indexs[-1][0].date[0],indexs[-1][1].date[0]))"
      ],
      "execution_count": null,
      "outputs": []
    },
    {
      "cell_type": "markdown",
      "metadata": {
        "id": "Pabl4tEsXYB8"
      },
      "source": [
        "# Reshape X"
      ]
    },
    {
      "cell_type": "markdown",
      "metadata": {
        "id": "RvUPQWb1An8u"
      },
      "source": [
        "(圖片數量,長,寬,1張)"
      ]
    },
    {
      "cell_type": "code",
      "metadata": {
        "id": "In4R0IcSPDwG"
      },
      "source": [
        "print(Xs.shape)\n",
        "Xs = Xs.reshape(-1,days,len(features),1)\n",
        "print(Xs.shape)"
      ],
      "execution_count": null,
      "outputs": []
    },
    {
      "cell_type": "markdown",
      "metadata": {
        "id": "lUy2cpReXaOV"
      },
      "source": [
        "# One hot encoding of label"
      ]
    },
    {
      "cell_type": "markdown",
      "metadata": {
        "id": "hjDc-sStA1gk"
      },
      "source": [
        "原始y代表漲幅"
      ]
    },
    {
      "cell_type": "code",
      "metadata": {
        "id": "6XGRdxmfWrfo"
      },
      "source": [
        "print(ys.shape)\n",
        "print(ys[:5])\n",
        "\n",
        "from keras.utils.np_utils import to_categorical\n",
        "ys = to_categorical(ys, num_classes = 3)\n",
        "print(ys.shape)\n",
        "print(ys[:5])"
      ],
      "execution_count": null,
      "outputs": []
    },
    {
      "cell_type": "markdown",
      "metadata": {
        "id": "TYcPI2TWBTpJ"
      },
      "source": [
        "# Visualization"
      ]
    },
    {
      "cell_type": "code",
      "metadata": {
        "id": "ibNjBLRaBUJh"
      },
      "source": [
        "import matplotlib.pyplot as plt\n",
        "import matplotlib.image as mpimg\n",
        "%matplotlib inline\n",
        "Xs_v = Xs.reshape(-1,Xs.shape[1],Xs.shape[2])\n",
        "plt.figure(figsize=(10,10))\n",
        "plt.subplots_adjust(wspace =0, hspace =0.3)\n",
        "for i in range(0,9):\n",
        "    plt.subplot(330 + (i+1))\n",
        "    plt.imshow(Xs_v[i])\n",
        "    plt.title(np.argmax(ys[i]))"
      ],
      "execution_count": null,
      "outputs": []
    },
    {
      "cell_type": "markdown",
      "metadata": {
        "id": "5Oa6gYq_aVjE"
      },
      "source": [
        "# Split training and test sets"
      ]
    },
    {
      "cell_type": "code",
      "metadata": {
        "id": "OLHFbreckAlH"
      },
      "source": [
        "X_test = Xs[-40:] #最後40天features當作test資料\n",
        "X_train,y_train = Xs[:-40],ys[:-40] #其他當作訓練\n",
        "print(X_train.shape,y_train.shape,X_test.shape)"
      ],
      "execution_count": null,
      "outputs": []
    },
    {
      "cell_type": "markdown",
      "metadata": {
        "id": "gldr_9_D6CWR"
      },
      "source": [
        "# 調整採樣"
      ]
    },
    {
      "cell_type": "code",
      "metadata": {
        "id": "gUrzPr896Che"
      },
      "source": [
        "X_train2維 = X_train.reshape(X_train.shape[0],-1)\n",
        "y_train數字 = np.array([ np.argmax(i) for i in y_train])\n",
        "print(X_train2維.shape)\n",
        "print(y_train數字.shape)\n",
        "\n",
        "from imblearn.under_sampling import RandomUnderSampler\n",
        "ros = RandomUnderSampler()\n",
        "X_train平衡 ,y_train平衡 = ros.fit_resample(X_train2維 ,y_train數字)\n",
        "print(pd.DataFrame(y_train平衡)[0].value_counts().sort_index())#顯示結果\n",
        "\n",
        "X_train = X_train平衡.reshape(X_train平衡.shape[0],15,15,1)#資料數,15,15,1\n",
        "y_train = y_train平衡.reshape(y_train平衡.shape[0],1)#資料數,1\n",
        "y_train = to_categorical(y_train , num_classes = 3)#one_hot\n",
        "print(X_train.shape)\n",
        "print(y_train.shape)"
      ],
      "execution_count": null,
      "outputs": []
    },
    {
      "cell_type": "markdown",
      "metadata": {
        "id": "0LI45EZC6k4Q"
      },
      "source": [
        "# Split training and val sets"
      ]
    },
    {
      "cell_type": "code",
      "metadata": {
        "id": "MgsrVpYUYf5J"
      },
      "source": [
        "from sklearn.model_selection import train_test_split\n",
        "xtrain, xval, ytrain, yval = train_test_split(\n",
        "    X_train,\n",
        "    y_train, \n",
        "    test_size = 0.2,\n",
        "    random_state = 42,\n",
        "    shuffle = True,#是否洗牌\n",
        "    stratify = y_train #是否根據y欄位做分層取樣\n",
        "    )\n",
        "print(xtrain.shape, ytrain.shape, xval.shape, yval.shape)"
      ],
      "execution_count": null,
      "outputs": []
    },
    {
      "cell_type": "markdown",
      "metadata": {
        "id": "2xQOFrENMkSb"
      },
      "source": [
        "# 看一下樣本的label分布情況是否平均(待解決)"
      ]
    },
    {
      "cell_type": "markdown",
      "metadata": {
        "id": "xnUz7A3tlfya"
      },
      "source": [
        "0:Hold,1:Buy,2:Sell"
      ]
    },
    {
      "cell_type": "code",
      "metadata": {
        "id": "aA9SXiicML6Y"
      },
      "source": [
        "pd.Series([np.argmax(i) for i in ys]).value_counts()"
      ],
      "execution_count": null,
      "outputs": []
    },
    {
      "cell_type": "code",
      "metadata": {
        "id": "l3gzqyHc8hKR"
      },
      "source": [
        "pd.Series([np.argmax(i) for i in y_train]).value_counts()"
      ],
      "execution_count": null,
      "outputs": []
    },
    {
      "cell_type": "code",
      "metadata": {
        "id": "UIOBe8tVL5dV"
      },
      "source": [
        "pd.Series([np.argmax(i) for i in ytrain]).value_counts()"
      ],
      "execution_count": null,
      "outputs": []
    },
    {
      "cell_type": "code",
      "metadata": {
        "id": "A235BZ6cMQ-S"
      },
      "source": [
        "pd.Series([np.argmax(i) for i in yval]).value_counts()"
      ],
      "execution_count": null,
      "outputs": []
    },
    {
      "cell_type": "markdown",
      "metadata": {
        "id": "m-oXz0FGarb1"
      },
      "source": [
        "# CNN"
      ]
    },
    {
      "cell_type": "code",
      "metadata": {
        "id": "eWOsWp7_amoX"
      },
      "source": [
        "from keras import backend as K\n",
        "from keras.models import Sequential\n",
        "from keras.layers import Dense, Dropout, Lambda, Flatten, BatchNormalization\n",
        "from keras.layers import Conv2D, MaxPool2D, AvgPool2D\n",
        "from tensorflow.keras.optimizers import Adam #做梯度下降的一種優化方法\n",
        "from keras.callbacks import ReduceLROnPlateau , EarlyStopping #減少學習速率 on Plateau"
      ],
      "execution_count": null,
      "outputs": []
    },
    {
      "cell_type": "code",
      "metadata": {
        "id": "yd-csnW2auJS"
      },
      "source": [
        "nclasses = 3 \n",
        "model = Sequential()\n",
        "model.add(Conv2D(filters=32, kernel_size=(3,3), padding='same', activation='relu', input_shape=(15,15,1)))#15,15,32\n",
        "model.add(Conv2D(filters=64, kernel_size=(3,3), padding='same', activation='relu',))#15,15,64\n",
        "model.add(MaxPool2D(pool_size=(5,5)))# 3,3,64\n",
        "model.add(Flatten())#576\n",
        "model.add(Dropout(0.5))#288\n",
        "model.add(Dense(128, activation='relu'))#128\n",
        "model.add(Dropout(0.5))#64\n",
        "model.add(Dense(32, activation='relu'))#32\n",
        "model.add(Dropout(0.5))#16\n",
        "model.add(Dense(nclasses, activation='softmax'))#3\n",
        "model.summary()"
      ],
      "execution_count": null,
      "outputs": []
    },
    {
      "cell_type": "code",
      "metadata": {
        "id": "8Z913AqUa8bJ"
      },
      "source": [
        "model.compile(optimizer=\"adam\", loss=\"categorical_crossentropy\", metrics=[\"accuracy\"])"
      ],
      "execution_count": null,
      "outputs": []
    },
    {
      "cell_type": "markdown",
      "metadata": {
        "id": "VORA4n9Lz9of"
      },
      "source": [
        "# 優化器"
      ]
    },
    {
      "cell_type": "code",
      "metadata": {
        "id": "Kw_j4R4Da_To"
      },
      "source": [
        "#1\n",
        "lr_reduction = ReduceLROnPlateau(\n",
        "    monitor = 'val_acc', \n",
        "    factor=0.5, \n",
        "    patience = 3, \n",
        "    verbose = 1, \n",
        "    min_lr = 0.00001)\n",
        "\n",
        "#2\n",
        "es = EarlyStopping(monitor='val_acc',#驗證集acc\n",
        "                   min_delta=0, \n",
        "                   patience=50,  \n",
        "                   mode='max',\n",
        "                   restore_best_weights=True)#恢復最佳權重"
      ],
      "execution_count": null,
      "outputs": []
    },
    {
      "cell_type": "markdown",
      "metadata": {
        "id": "aevlVsI9Lk9a"
      },
      "source": [
        "# fit"
      ]
    },
    {
      "cell_type": "code",
      "metadata": {
        "id": "TJJR7Yg-bHac"
      },
      "source": [
        "history = model.fit(\n",
        "    xtrain,\n",
        "    ytrain,\n",
        "    batch_size = 128,\n",
        "    epochs = 500,\n",
        "    validation_data=(xval,yval),\n",
        "    verbose=1,callbacks=[es]\n",
        "    )"
      ],
      "execution_count": null,
      "outputs": []
    },
    {
      "cell_type": "markdown",
      "metadata": {
        "id": "xQ2Koxsz0Zun"
      },
      "source": [
        "# 訓練過程評估"
      ]
    },
    {
      "cell_type": "code",
      "metadata": {
        "id": "2SxJIEDzbaZ7"
      },
      "source": [
        "import matplotlib.pyplot as plt\n",
        "fig, ax = plt.subplots(2,1)\n",
        "ax[0].plot(history.history['loss'], color='b', label=\"Training loss\")\n",
        "ax[0].plot(history.history['val_loss'], color='r', label=\"Validation loss\",axes =ax[0])\n",
        "ax[0].grid(color='black', linestyle='-', linewidth=0.25)\n",
        "legend = ax[0].legend(loc='best', shadow=True)\n",
        "\n",
        "ax[1].plot(history.history['accuracy'], color='b', label=\"Training accuracy\")\n",
        "ax[1].plot(history.history['val_accuracy'], color='r',label=\"Validation accuracy\")\n",
        "ax[1].grid(color='black', linestyle='-', linewidth=0.25)\n",
        "legend = ax[1].legend(loc='best', shadow=True)"
      ],
      "execution_count": null,
      "outputs": []
    },
    {
      "cell_type": "markdown",
      "metadata": {
        "id": "zWVmgHz80cCp"
      },
      "source": [
        "# 混淆矩陣"
      ]
    },
    {
      "cell_type": "code",
      "metadata": {
        "id": "UH5CcmX6btme"
      },
      "source": [
        "from sklearn.metrics import confusion_matrix\n",
        "import itertools\n",
        "\n",
        "def plot_confusion_matrix(cm, classes, normalize=False, title='Confusion matrix', cmap=plt.cm.Blues):\n",
        "    plt.imshow(cm, interpolation='nearest', cmap=cmap)\n",
        "    plt.title(title)\n",
        "    plt.colorbar()\n",
        "    tick_marks = np.arange(len(classes))\n",
        "    plt.xticks(tick_marks, classes, rotation=45)\n",
        "    plt.yticks(tick_marks, classes)\n",
        "    if normalize:\n",
        "        cm = cm.astype('float') / cm.sum(axis=1)[:, np.newaxis]\n",
        "    thresh = cm.max() / 2.\n",
        "    for i, j in itertools.product(range(cm.shape[0]), range(cm.shape[1])):\n",
        "        plt.text(j, i, cm[i, j],\n",
        "                 horizontalalignment=\"center\",\n",
        "                 color=\"white\" if cm[i, j] > thresh else \"black\")\n",
        "    plt.tight_layout()\n",
        "    plt.ylabel('True label')\n",
        "    plt.xlabel('Predicted label')\n",
        "\n",
        "#預測的y\n",
        "ypred_onehot = model.predict(xval)\n",
        "#轉換預測的y: [0 0 1 0 0 ...] --> 2\n",
        "ypred = np.argmax(ypred_onehot,axis=1)\n",
        "#轉換真實的y\n",
        "ytrue = np.argmax(yval,axis=1)\n",
        "#計算 confusion matrix\n",
        "confusion_mtx = confusion_matrix(ytrue, ypred)\n",
        "#畫出 confusion matrix\n",
        "plot_confusion_matrix(confusion_mtx, classes=range(nclasses))"
      ],
      "execution_count": null,
      "outputs": []
    },
    {
      "cell_type": "markdown",
      "metadata": {
        "id": "PmgafP2rpjAO"
      },
      "source": [
        "# 分類report"
      ]
    },
    {
      "cell_type": "markdown",
      "metadata": {
        "id": "zXQ8o9mj1Ydh"
      },
      "source": [
        "轉換預測結果"
      ]
    },
    {
      "cell_type": "code",
      "metadata": {
        "id": "lCSuw9cYqEYk"
      },
      "source": [
        "y_pred = model.predict(xval)\n",
        "y_pred = [np.argmax(i) for i in y_pred]\n",
        "y_pred = to_categorical(y_pred, num_classes = 3)\n",
        "print(y_pred[:5])"
      ],
      "execution_count": null,
      "outputs": []
    },
    {
      "cell_type": "markdown",
      "metadata": {
        "id": "XrHrpsVb1avA"
      },
      "source": [
        "真實y值"
      ]
    },
    {
      "cell_type": "code",
      "metadata": {
        "id": "T2tyxRdo1Mqm"
      },
      "source": [
        "print(yval[:5])"
      ],
      "execution_count": null,
      "outputs": []
    },
    {
      "cell_type": "markdown",
      "metadata": {
        "id": "wztZOw2r1ddE"
      },
      "source": [
        "# 分類報告"
      ]
    },
    {
      "cell_type": "code",
      "source": [
        "def 勝率(yval,y_pred):\n",
        "  t = []\n",
        "  for i,j in zip(yval,y_pred):\n",
        "    t.append(np.allclose(i,j))\n",
        "  return np.mean(t)\n",
        "勝率(yval,y_pred)"
      ],
      "metadata": {
        "id": "dl9iTLBf2VOe"
      },
      "execution_count": null,
      "outputs": []
    },
    {
      "cell_type": "code",
      "metadata": {
        "id": "vzMaU-Y8pjJT"
      },
      "source": [
        "from sklearn.metrics import classification_report \n",
        "target_names = ['Hold','BUY','SELL']\n",
        "print(classification_report(yval,y_pred,target_names=target_names))"
      ],
      "execution_count": null,
      "outputs": []
    },
    {
      "cell_type": "markdown",
      "metadata": {
        "id": "n-KXEoZLb9ie"
      },
      "source": [
        "# plot error"
      ]
    },
    {
      "cell_type": "code",
      "metadata": {
        "id": "nCW5Xvtrb0fC"
      },
      "source": [
        "errors = (ypred - ytrue != 0)\n",
        "\n",
        "ypred_er = ypred_onehot[errors]\n",
        "ypred_classes_er = ypred[errors]\n",
        "ytrue_er = ytrue[errors]\n",
        "xval_er = xval[errors]\n",
        "\n",
        "def display_errors(errors_index, img_errors, pred_errors, obs_errors):\n",
        "    n = 0\n",
        "    nrows = 2\n",
        "    ncols = 3\n",
        "    fig, ax = plt.subplots(nrows, ncols, sharex=True, sharey=True)\n",
        "    plt.subplots_adjust(wspace =0.5, hspace =0.5)\n",
        "    for row in range(nrows):\n",
        "        for col in range(ncols):\n",
        "            error = errors_index[n]\n",
        "            ax[row,col].imshow((img_errors[error]).reshape((days,len(features))))\n",
        "            ax[row,col].set_title(\"Predicted label :{}\\nTrue label :{}\".format(pred_errors[error],obs_errors[error]))\n",
        "            n += 1\n",
        "            \n",
        "# 錯誤預測的概率\n",
        "ypred_er_prob = np.max(ypred_er,axis=1)\n",
        "\n",
        "# Predicted probabilities of the true values in the error set\n",
        "true_prob_er = np.diagonal(np.take(ypred_er, ytrue_er, axis=1))\n",
        "\n",
        "# Difference between the probability of the predicted label and the true label\n",
        "delta_pred_true_er = ypred_er_prob - true_prob_er\n",
        "\n",
        "# Sorted list of the delta prob errors\n",
        "sorted_delta_er = np.argsort(delta_pred_true_er)\n",
        "\n",
        "# Top 6 errors. You can change the range to see other images\n",
        "most_important_er = sorted_delta_er[-6:]\n",
        "\n",
        "# Show the top 6 errors\n",
        "display_errors(most_important_er, xval_er, ypred_classes_er, ytrue_er)"
      ],
      "execution_count": null,
      "outputs": []
    },
    {
      "cell_type": "markdown",
      "metadata": {
        "id": "togdM5Afo71w"
      },
      "source": [
        "## 預測最後40筆"
      ]
    },
    {
      "cell_type": "code",
      "metadata": {
        "id": "kQqzNPdQo8GW"
      },
      "source": [
        "answer = model.predict(X_test)\n",
        "answer = [ np.argmax(i) for i in answer]\n",
        "print(len(answer))"
      ],
      "execution_count": null,
      "outputs": []
    },
    {
      "cell_type": "markdown",
      "metadata": {
        "id": "FOBO-SgaBHMx"
      },
      "source": [
        "# 0~20筆"
      ]
    },
    {
      "cell_type": "code",
      "metadata": {
        "id": "YHzRjtab0pr-"
      },
      "source": [
        "INDEX60 = df[-60:].index\n",
        "#C = web.DataReader(SID,'yahoo',start=\"2000-01-01\")[['Close']]\n",
        "C = pdr.get_data_yahoo(y_symbols, start=startdate, end=enddate)[['Close']]\n",
        "C = C.loc[INDEX60,:]\n",
        "C['SIGNAL'] = [np.nan for _ in range(20)] + answer #20個NAN+預測答案\n",
        "buy = C[C['SIGNAL']==1]['Close']\n",
        "sell = C[C['SIGNAL']==2]['Close']\n",
        "C['Close'][20:40].plot()\n",
        "plt.scatter(list(buy.index),list(buy.values),color='red',marker=\"^\")\n",
        "plt.scatter(list(sell.index),list(sell.values),color='black')"
      ],
      "execution_count": null,
      "outputs": []
    },
    {
      "cell_type": "markdown",
      "metadata": {
        "id": "NpYwUgdJBKWR"
      },
      "source": [
        "# 20~40筆"
      ]
    },
    {
      "cell_type": "code",
      "metadata": {
        "id": "9AZQa4zj2Psu"
      },
      "source": [
        "C['Close'][40:60].plot()\n",
        "plt.scatter(list(buy.index),list(buy.values),color='red',marker=\"^\")\n",
        "plt.scatter(list(sell.index),list(sell.values),color='black')"
      ],
      "execution_count": null,
      "outputs": []
    },
    {
      "cell_type": "markdown",
      "metadata": {
        "id": "j3i8j1ewAtDU"
      },
      "source": [
        "# 合併"
      ]
    },
    {
      "cell_type": "code",
      "metadata": {
        "id": "y-RBxkc38C1a"
      },
      "source": [
        "C['Close'][20:60].plot()\n",
        "plt.scatter(list(buy.index),list(buy.values),color='red',marker=\"^\")\n",
        "plt.scatter(list(sell.index),list(sell.values),color='black')"
      ],
      "execution_count": null,
      "outputs": []
    },
    {
      "cell_type": "markdown",
      "metadata": {
        "id": "WWVaZwDKF_lr"
      },
      "source": [
        "# 平滑版本"
      ]
    },
    {
      "cell_type": "code",
      "metadata": {
        "id": "OUO9oF7sAvmH"
      },
      "source": [
        "C_roll20 = pd.DataFrame(index=C.index)#空的dataframe index = 倒數60天股票日期\n",
        "C_roll20['Close'] = C['Close'].rolling(20).mean()#收盤價做20天平滑\n",
        "C_roll20['SIGNAL'] = C['SIGNAL']\n",
        "buy = C_roll20[C_roll20['SIGNAL']==1]['Close']#買點\n",
        "sell= C_roll20[C_roll20['SIGNAL']==2]['Close']#賣點\n",
        "C_roll20['Close'][20:].plot()\n",
        "plt.scatter(list(buy.index),list(buy.values),color='red',marker=\"^\")\n",
        "plt.scatter(list(sell.index),list(sell.values),color='black')"
      ],
      "execution_count": null,
      "outputs": []
    },
    {
      "cell_type": "code",
      "metadata": {
        "id": "UIeUpfe4GzRI"
      },
      "source": [
        "C = C.dropna(axis=0)\n",
        "C"
      ],
      "execution_count": null,
      "outputs": []
    },
    {
      "cell_type": "code",
      "metadata": {
        "id": "Mhqp36TP3GPc"
      },
      "source": [
        "import pandas as pd\n",
        "# Set the float_format option to not use scientific notation\n",
        "pd.set_option('display.float_format', '{:.4f}'.format)\n",
        "np.set_printoptions(suppress=True)\n",
        "C['HOLD%'] = model.predict(X_test)[:,0]\n",
        "C['BUY%'] = model.predict(X_test)[:,1]\n",
        "C['SELL%'] = model.predict(X_test)[:,2]\n",
        "C.drop(['SIGNAL'],axis=1).tail(5)"
      ],
      "execution_count": null,
      "outputs": []
    },
    {
      "cell_type": "code",
      "source": [
        "def 勝率(df):\n",
        "  t = []\n",
        "  for i,idx in enumerate(df.index):\n",
        "    訊號 = np.argmax(df.iloc[i,-3:])\n",
        "    if 訊號 == 1:#buy\n",
        "      try:\n",
        "        點差 = df.iloc[i+1,0] - df.iloc[i,0]\n",
        "        if 點差>0:\n",
        "          t.append(True)\n",
        "        else:\n",
        "          t.append(False)\n",
        "      except:\n",
        "        pass\n",
        "    if 訊號 == 2:#sell\n",
        "      try:\n",
        "        點差 = df.iloc[i,0] - df.iloc[i+1,0]\n",
        "        if 點差<0:\n",
        "          t.append(True)\n",
        "        else:\n",
        "          t.append(False)\n",
        "      except:\n",
        "        pass\n",
        "    if 訊號 == 0:#hold\n",
        "      pass\n",
        "  return np.mean(t)\n",
        "#C['Close'].shift()-C['Close'],len(C['Close'].shift()-C['Close'])\n",
        "勝率(df)"
      ],
      "metadata": {
        "id": "pTG_QqjE5DHo"
      },
      "execution_count": null,
      "outputs": []
    },
    {
      "cell_type": "code",
      "source": [
        "t = []\n",
        "for i in range(len(C)):\n",
        "  signal = np.argmax(C.iloc[i,-3:])\n",
        "  if signal == 2:\n",
        "    signal = -1\n",
        "    t.append(signal)\n",
        "  if signal == 1:\n",
        "    signal = 1\n",
        "    t.append(signal)\n",
        "  if signal == 0:\n",
        "    t.append(signal)\n",
        "t,len(t)"
      ],
      "metadata": {
        "id": "Mz68vqVF-7e6"
      },
      "execution_count": null,
      "outputs": []
    },
    {
      "cell_type": "code",
      "source": [
        "a = (C['Close'].shift()-C['Close']).values*t\n",
        "平均獲利 = pd.Series((a>0)*a).dropna().mean()\n",
        "平均損失 = pd.Series((a<0)*a).dropna().mean()\n",
        "賠率 = 1-勝率(df)\n",
        "print(勝率(df),平均獲利,賠率,平均損失)\n",
        "分子 = 勝率(df)*平均獲利\n",
        "分母 =  賠率*平均損失*-1\n",
        "print(分子,分母)\n",
        "盈虧比 = (分子)/(分母)\n",
        "盈虧比"
      ],
      "metadata": {
        "id": "vmLWbaY5AGx7"
      },
      "execution_count": null,
      "outputs": []
    },
    {
      "cell_type": "code",
      "source": [
        "賠率"
      ],
      "metadata": {
        "id": "k5lKCFp6DkUU"
      },
      "execution_count": null,
      "outputs": []
    },
    {
      "cell_type": "markdown",
      "metadata": {
        "id": "uzCeo-ctGg-o"
      },
      "source": [
        "# save model"
      ]
    },
    {
      "cell_type": "code",
      "metadata": {
        "id": "M2fvxlPnBG7r"
      },
      "source": [
        "model.save('Rikcy_net.h5')\n",
        "del model"
      ],
      "execution_count": null,
      "outputs": []
    },
    {
      "cell_type": "code",
      "metadata": {
        "id": "jmAS95PdG0DX"
      },
      "source": [
        "from keras.models import load_model\n",
        "model = load_model('Rikcy_net.h5')\n",
        "predict = model.predict(X_test)"
      ],
      "execution_count": null,
      "outputs": []
    },
    {
      "cell_type": "code",
      "metadata": {
        "id": "x70kJQN2HBc_"
      },
      "source": [
        "predict[-5:]"
      ],
      "execution_count": null,
      "outputs": []
    },
    {
      "cell_type": "code",
      "metadata": {
        "id": "e51I2mMLHKe1"
      },
      "source": [],
      "execution_count": null,
      "outputs": []
    }
  ]
}