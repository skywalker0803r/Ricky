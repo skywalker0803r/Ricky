{
  "nbformat": 4,
  "nbformat_minor": 0,
  "metadata": {
    "colab": {
      "name": "玉山AI比賽_modeling.ipynb",
      "provenance": [],
      "collapsed_sections": [],
      "machine_shape": "hm",
      "include_colab_link": true
    },
    "kernelspec": {
      "name": "python3",
      "display_name": "Python 3"
    },
    "accelerator": "GPU"
  },
  "cells": [
    {
      "cell_type": "markdown",
      "metadata": {
        "id": "view-in-github",
        "colab_type": "text"
      },
      "source": [
        "<a href=\"https://colab.research.google.com/github/skywalker0803r/Ricky/blob/master/%E7%8E%89%E5%B1%B1AI%E6%AF%94%E8%B3%BD_modeling.ipynb\" target=\"_parent\"><img src=\"https://colab.research.google.com/assets/colab-badge.svg\" alt=\"Open In Colab\"/></a>"
      ]
    },
    {
      "cell_type": "code",
      "metadata": {
        "id": "AATKXslkSfYY",
        "colab_type": "code",
        "outputId": "5438ec64-dd2b-4c34-de4c-790c3364f791",
        "colab": {
          "base_uri": "https://localhost:8080/",
          "height": 34
        }
      },
      "source": [
        "from google.colab import drive\n",
        "drive.mount('/content/drive')\n",
        "import warnings \n",
        "warnings.simplefilter('ignore')"
      ],
      "execution_count": 1,
      "outputs": [
        {
          "output_type": "stream",
          "text": [
            "Drive already mounted at /content/drive; to attempt to forcibly remount, call drive.mount(\"/content/drive\", force_remount=True).\n"
          ],
          "name": "stdout"
        }
      ]
    },
    {
      "cell_type": "markdown",
      "metadata": {
        "id": "9uf407F-fMvq",
        "colab_type": "text"
      },
      "source": [
        "# train"
      ]
    },
    {
      "cell_type": "code",
      "metadata": {
        "id": "mX9n2Jd2Sgu0",
        "colab_type": "code",
        "outputId": "5d4fd7fa-674a-48f0-bc5d-574e54eff899",
        "colab": {
          "base_uri": "https://localhost:8080/",
          "height": 212
        }
      },
      "source": [
        "import pandas as pd\n",
        "train = pd.read_csv(\"/content/drive/My Drive/玉山人工智慧比賽數據/train_預處理完.csv\",index_col=0)\n",
        "print(train.shape)\n",
        "train.head()"
      ],
      "execution_count": 2,
      "outputs": [
        {
          "output_type": "stream",
          "text": [
            "(1521787, 23)\n"
          ],
          "name": "stdout"
        },
        {
          "output_type": "execute_result",
          "data": {
            "text/html": [
              "<div>\n",
              "<style scoped>\n",
              "    .dataframe tbody tr th:only-of-type {\n",
              "        vertical-align: middle;\n",
              "    }\n",
              "\n",
              "    .dataframe tbody tr th {\n",
              "        vertical-align: top;\n",
              "    }\n",
              "\n",
              "    .dataframe thead th {\n",
              "        text-align: right;\n",
              "    }\n",
              "</style>\n",
              "<table border=\"1\" class=\"dataframe\">\n",
              "  <thead>\n",
              "    <tr style=\"text-align: right;\">\n",
              "      <th></th>\n",
              "      <th>acqic</th>\n",
              "      <th>bacno</th>\n",
              "      <th>cano</th>\n",
              "      <th>conam</th>\n",
              "      <th>contp</th>\n",
              "      <th>csmcu</th>\n",
              "      <th>ecfg</th>\n",
              "      <th>etymd</th>\n",
              "      <th>flbmk</th>\n",
              "      <th>flg_3dsmk</th>\n",
              "      <th>hcefg</th>\n",
              "      <th>insfg</th>\n",
              "      <th>iterm</th>\n",
              "      <th>locdt</th>\n",
              "      <th>loctm</th>\n",
              "      <th>mcc</th>\n",
              "      <th>mchno</th>\n",
              "      <th>ovrlt</th>\n",
              "      <th>scity</th>\n",
              "      <th>stocn</th>\n",
              "      <th>stscd</th>\n",
              "      <th>txkey</th>\n",
              "      <th>fraud_ind</th>\n",
              "    </tr>\n",
              "  </thead>\n",
              "  <tbody>\n",
              "    <tr>\n",
              "      <th>0</th>\n",
              "      <td>6881</td>\n",
              "      <td>113261</td>\n",
              "      <td>38038</td>\n",
              "      <td>513</td>\n",
              "      <td>5</td>\n",
              "      <td>0</td>\n",
              "      <td>0</td>\n",
              "      <td>0</td>\n",
              "      <td>0</td>\n",
              "      <td>0</td>\n",
              "      <td>5</td>\n",
              "      <td>0</td>\n",
              "      <td>0</td>\n",
              "      <td>33</td>\n",
              "      <td>172652</td>\n",
              "      <td>457</td>\n",
              "      <td>59333</td>\n",
              "      <td>0</td>\n",
              "      <td>0</td>\n",
              "      <td>102</td>\n",
              "      <td>0</td>\n",
              "      <td>516056</td>\n",
              "      <td>0</td>\n",
              "    </tr>\n",
              "    <tr>\n",
              "      <th>1</th>\n",
              "      <td>0</td>\n",
              "      <td>134508</td>\n",
              "      <td>45725</td>\n",
              "      <td>465</td>\n",
              "      <td>5</td>\n",
              "      <td>0</td>\n",
              "      <td>0</td>\n",
              "      <td>2</td>\n",
              "      <td>0</td>\n",
              "      <td>0</td>\n",
              "      <td>0</td>\n",
              "      <td>0</td>\n",
              "      <td>0</td>\n",
              "      <td>9</td>\n",
              "      <td>105114</td>\n",
              "      <td>451</td>\n",
              "      <td>0</td>\n",
              "      <td>0</td>\n",
              "      <td>5817</td>\n",
              "      <td>102</td>\n",
              "      <td>0</td>\n",
              "      <td>4376</td>\n",
              "      <td>0</td>\n",
              "    </tr>\n",
              "    <tr>\n",
              "      <th>2</th>\n",
              "      <td>6881</td>\n",
              "      <td>15408</td>\n",
              "      <td>188328</td>\n",
              "      <td>513</td>\n",
              "      <td>5</td>\n",
              "      <td>0</td>\n",
              "      <td>0</td>\n",
              "      <td>0</td>\n",
              "      <td>0</td>\n",
              "      <td>0</td>\n",
              "      <td>5</td>\n",
              "      <td>0</td>\n",
              "      <td>0</td>\n",
              "      <td>6</td>\n",
              "      <td>152458</td>\n",
              "      <td>457</td>\n",
              "      <td>59333</td>\n",
              "      <td>0</td>\n",
              "      <td>0</td>\n",
              "      <td>102</td>\n",
              "      <td>0</td>\n",
              "      <td>483434</td>\n",
              "      <td>0</td>\n",
              "    </tr>\n",
              "    <tr>\n",
              "      <th>3</th>\n",
              "      <td>6716</td>\n",
              "      <td>157159</td>\n",
              "      <td>29967</td>\n",
              "      <td>1016</td>\n",
              "      <td>5</td>\n",
              "      <td>62</td>\n",
              "      <td>0</td>\n",
              "      <td>5</td>\n",
              "      <td>0</td>\n",
              "      <td>0</td>\n",
              "      <td>5</td>\n",
              "      <td>0</td>\n",
              "      <td>0</td>\n",
              "      <td>5</td>\n",
              "      <td>172946</td>\n",
              "      <td>247</td>\n",
              "      <td>50436</td>\n",
              "      <td>0</td>\n",
              "      <td>3281</td>\n",
              "      <td>102</td>\n",
              "      <td>0</td>\n",
              "      <td>1407164</td>\n",
              "      <td>0</td>\n",
              "    </tr>\n",
              "    <tr>\n",
              "      <th>4</th>\n",
              "      <td>5975</td>\n",
              "      <td>105985</td>\n",
              "      <td>81305</td>\n",
              "      <td>713</td>\n",
              "      <td>5</td>\n",
              "      <td>62</td>\n",
              "      <td>0</td>\n",
              "      <td>4</td>\n",
              "      <td>0</td>\n",
              "      <td>0</td>\n",
              "      <td>5</td>\n",
              "      <td>0</td>\n",
              "      <td>0</td>\n",
              "      <td>6</td>\n",
              "      <td>182129</td>\n",
              "      <td>263</td>\n",
              "      <td>93775</td>\n",
              "      <td>0</td>\n",
              "      <td>5817</td>\n",
              "      <td>102</td>\n",
              "      <td>0</td>\n",
              "      <td>1051004</td>\n",
              "      <td>0</td>\n",
              "    </tr>\n",
              "  </tbody>\n",
              "</table>\n",
              "</div>"
            ],
            "text/plain": [
              "   acqic   bacno    cano  conam  contp  ...  scity  stocn  stscd    txkey  fraud_ind\n",
              "0   6881  113261   38038    513      5  ...      0    102      0   516056          0\n",
              "1      0  134508   45725    465      5  ...   5817    102      0     4376          0\n",
              "2   6881   15408  188328    513      5  ...      0    102      0   483434          0\n",
              "3   6716  157159   29967   1016      5  ...   3281    102      0  1407164          0\n",
              "4   5975  105985   81305    713      5  ...   5817    102      0  1051004          0\n",
              "\n",
              "[5 rows x 23 columns]"
            ]
          },
          "metadata": {
            "tags": []
          },
          "execution_count": 2
        }
      ]
    },
    {
      "cell_type": "markdown",
      "metadata": {
        "id": "HNczBDkb7_Zi",
        "colab_type": "text"
      },
      "source": [
        "# test"
      ]
    },
    {
      "cell_type": "code",
      "metadata": {
        "id": "Rqj6BhcoT8ai",
        "colab_type": "code",
        "outputId": "b193addb-503a-437b-d6a9-3da7ce5ee69c",
        "colab": {
          "base_uri": "https://localhost:8080/",
          "height": 212
        }
      },
      "source": [
        "test = pd.read_csv(\"/content/drive/My Drive/玉山人工智慧比賽數據/test_預處理完.csv\",index_col=0)\n",
        "test_txkey = test[\"txkey\"]\n",
        "print(test.shape)\n",
        "test.head()"
      ],
      "execution_count": 3,
      "outputs": [
        {
          "output_type": "stream",
          "text": [
            "(421665, 22)\n"
          ],
          "name": "stdout"
        },
        {
          "output_type": "execute_result",
          "data": {
            "text/html": [
              "<div>\n",
              "<style scoped>\n",
              "    .dataframe tbody tr th:only-of-type {\n",
              "        vertical-align: middle;\n",
              "    }\n",
              "\n",
              "    .dataframe tbody tr th {\n",
              "        vertical-align: top;\n",
              "    }\n",
              "\n",
              "    .dataframe thead th {\n",
              "        text-align: right;\n",
              "    }\n",
              "</style>\n",
              "<table border=\"1\" class=\"dataframe\">\n",
              "  <thead>\n",
              "    <tr style=\"text-align: right;\">\n",
              "      <th></th>\n",
              "      <th>acqic</th>\n",
              "      <th>bacno</th>\n",
              "      <th>cano</th>\n",
              "      <th>conam</th>\n",
              "      <th>contp</th>\n",
              "      <th>csmcu</th>\n",
              "      <th>ecfg</th>\n",
              "      <th>etymd</th>\n",
              "      <th>flbmk</th>\n",
              "      <th>flg_3dsmk</th>\n",
              "      <th>hcefg</th>\n",
              "      <th>insfg</th>\n",
              "      <th>iterm</th>\n",
              "      <th>locdt</th>\n",
              "      <th>loctm</th>\n",
              "      <th>mcc</th>\n",
              "      <th>mchno</th>\n",
              "      <th>ovrlt</th>\n",
              "      <th>scity</th>\n",
              "      <th>stocn</th>\n",
              "      <th>stscd</th>\n",
              "      <th>txkey</th>\n",
              "    </tr>\n",
              "  </thead>\n",
              "  <tbody>\n",
              "    <tr>\n",
              "      <th>0</th>\n",
              "      <td>6881</td>\n",
              "      <td>163188</td>\n",
              "      <td>116799</td>\n",
              "      <td>513</td>\n",
              "      <td>5</td>\n",
              "      <td>0</td>\n",
              "      <td>0</td>\n",
              "      <td>0</td>\n",
              "      <td>0</td>\n",
              "      <td>0</td>\n",
              "      <td>5</td>\n",
              "      <td>0</td>\n",
              "      <td>0</td>\n",
              "      <td>102</td>\n",
              "      <td>215328</td>\n",
              "      <td>457</td>\n",
              "      <td>59360</td>\n",
              "      <td>0</td>\n",
              "      <td>0</td>\n",
              "      <td>102</td>\n",
              "      <td>0</td>\n",
              "      <td>592489</td>\n",
              "    </tr>\n",
              "    <tr>\n",
              "      <th>1</th>\n",
              "      <td>6881</td>\n",
              "      <td>163188</td>\n",
              "      <td>116799</td>\n",
              "      <td>513</td>\n",
              "      <td>5</td>\n",
              "      <td>0</td>\n",
              "      <td>0</td>\n",
              "      <td>0</td>\n",
              "      <td>0</td>\n",
              "      <td>0</td>\n",
              "      <td>5</td>\n",
              "      <td>0</td>\n",
              "      <td>0</td>\n",
              "      <td>102</td>\n",
              "      <td>222007</td>\n",
              "      <td>457</td>\n",
              "      <td>59360</td>\n",
              "      <td>0</td>\n",
              "      <td>0</td>\n",
              "      <td>102</td>\n",
              "      <td>0</td>\n",
              "      <td>592452</td>\n",
              "    </tr>\n",
              "    <tr>\n",
              "      <th>2</th>\n",
              "      <td>6881</td>\n",
              "      <td>163188</td>\n",
              "      <td>116799</td>\n",
              "      <td>513</td>\n",
              "      <td>5</td>\n",
              "      <td>0</td>\n",
              "      <td>0</td>\n",
              "      <td>0</td>\n",
              "      <td>0</td>\n",
              "      <td>0</td>\n",
              "      <td>5</td>\n",
              "      <td>0</td>\n",
              "      <td>0</td>\n",
              "      <td>100</td>\n",
              "      <td>170013</td>\n",
              "      <td>457</td>\n",
              "      <td>59360</td>\n",
              "      <td>0</td>\n",
              "      <td>0</td>\n",
              "      <td>102</td>\n",
              "      <td>0</td>\n",
              "      <td>590212</td>\n",
              "    </tr>\n",
              "    <tr>\n",
              "      <th>3</th>\n",
              "      <td>6881</td>\n",
              "      <td>163188</td>\n",
              "      <td>116799</td>\n",
              "      <td>513</td>\n",
              "      <td>5</td>\n",
              "      <td>0</td>\n",
              "      <td>0</td>\n",
              "      <td>0</td>\n",
              "      <td>0</td>\n",
              "      <td>0</td>\n",
              "      <td>5</td>\n",
              "      <td>0</td>\n",
              "      <td>0</td>\n",
              "      <td>100</td>\n",
              "      <td>165914</td>\n",
              "      <td>457</td>\n",
              "      <td>59360</td>\n",
              "      <td>0</td>\n",
              "      <td>0</td>\n",
              "      <td>102</td>\n",
              "      <td>0</td>\n",
              "      <td>590209</td>\n",
              "    </tr>\n",
              "    <tr>\n",
              "      <th>4</th>\n",
              "      <td>6881</td>\n",
              "      <td>163188</td>\n",
              "      <td>116799</td>\n",
              "      <td>513</td>\n",
              "      <td>5</td>\n",
              "      <td>0</td>\n",
              "      <td>0</td>\n",
              "      <td>0</td>\n",
              "      <td>0</td>\n",
              "      <td>0</td>\n",
              "      <td>5</td>\n",
              "      <td>0</td>\n",
              "      <td>0</td>\n",
              "      <td>102</td>\n",
              "      <td>215311</td>\n",
              "      <td>457</td>\n",
              "      <td>59360</td>\n",
              "      <td>0</td>\n",
              "      <td>0</td>\n",
              "      <td>102</td>\n",
              "      <td>0</td>\n",
              "      <td>592488</td>\n",
              "    </tr>\n",
              "  </tbody>\n",
              "</table>\n",
              "</div>"
            ],
            "text/plain": [
              "   acqic   bacno    cano  conam  contp  ...  ovrlt  scity  stocn  stscd   txkey\n",
              "0   6881  163188  116799    513      5  ...      0      0    102      0  592489\n",
              "1   6881  163188  116799    513      5  ...      0      0    102      0  592452\n",
              "2   6881  163188  116799    513      5  ...      0      0    102      0  590212\n",
              "3   6881  163188  116799    513      5  ...      0      0    102      0  590209\n",
              "4   6881  163188  116799    513      5  ...      0      0    102      0  592488\n",
              "\n",
              "[5 rows x 22 columns]"
            ]
          },
          "metadata": {
            "tags": []
          },
          "execution_count": 3
        }
      ]
    },
    {
      "cell_type": "markdown",
      "metadata": {
        "id": "0ikJ9Qh_edpH",
        "colab_type": "text"
      },
      "source": [
        "# 定義 features & target"
      ]
    },
    {
      "cell_type": "code",
      "metadata": {
        "id": "LVE6ja-Yed6Q",
        "colab_type": "code",
        "outputId": "94123a82-f1ba-425c-ae56-b1ce2906b641",
        "colab": {
          "base_uri": "https://localhost:8080/",
          "height": 70
        }
      },
      "source": [
        "features = test.drop(['txkey'],axis=1).columns.tolist()\n",
        "y_name = 'fraud_ind'\n",
        "print(len(features),features)\n",
        "print(len([y_name]),[y_name])"
      ],
      "execution_count": 4,
      "outputs": [
        {
          "output_type": "stream",
          "text": [
            "21 ['acqic', 'bacno', 'cano', 'conam', 'contp', 'csmcu', 'ecfg', 'etymd', 'flbmk', 'flg_3dsmk', 'hcefg', 'insfg', 'iterm', 'locdt', 'loctm', 'mcc', 'mchno', 'ovrlt', 'scity', 'stocn', 'stscd']\n",
            "1 ['fraud_ind']\n"
          ],
          "name": "stdout"
        }
      ]
    },
    {
      "cell_type": "markdown",
      "metadata": {
        "id": "xHokJzdFuyng",
        "colab_type": "text"
      },
      "source": [
        "# 切分 訓練集 跟 驗證集"
      ]
    },
    {
      "cell_type": "code",
      "metadata": {
        "id": "m_kD9w_fuyvO",
        "colab_type": "code",
        "colab": {
          "base_uri": "https://localhost:8080/",
          "height": 50
        },
        "outputId": "a9756ed5-75d8-4614-d0e4-acf16f0c3a93"
      },
      "source": [
        "from sklearn.model_selection import train_test_split\n",
        "train,val = train_test_split(train ,test_size=0.33 ,random_state=1)\n",
        "print(train.shape)\n",
        "print(val.shape)"
      ],
      "execution_count": 5,
      "outputs": [
        {
          "output_type": "stream",
          "text": [
            "(1019597, 23)\n",
            "(502190, 23)\n"
          ],
          "name": "stdout"
        }
      ]
    },
    {
      "cell_type": "markdown",
      "metadata": {
        "id": "Ir_a_KAivH7a",
        "colab_type": "text"
      },
      "source": [
        "# train"
      ]
    },
    {
      "cell_type": "code",
      "metadata": {
        "id": "a_0lGvw7ALnF",
        "colab_type": "code",
        "colab": {
          "base_uri": "https://localhost:8080/",
          "height": 1000
        },
        "outputId": "139dd4ce-b456-4253-903d-3988be7aa39a"
      },
      "source": [
        "import lightgbm\n",
        "import matplotlib.pyplot as plt\n",
        "from sklearn.metrics import f1_score\n",
        "import numpy as np\n",
        "\n",
        "# f1 score\n",
        "def lgb_f1_score(y_hat, data):\n",
        "    y_true = data.get_label()\n",
        "    y_hat = np.round(y_hat)\n",
        "    return 'f1', f1_score(y_true, y_hat), True\n",
        "\n",
        "# 超參數  \n",
        "parameters = {\n",
        "    # 分類任務\n",
        "    'objective': 'cross_entropy',\n",
        "    'metric': 'cross_entropy',\n",
        "    \n",
        "    # For Better Accuracy\n",
        "    'num_iterations':200,\n",
        "    'learning_rate': 0.05,\n",
        "    'num_leaves': 64,\n",
        "    \n",
        "    # Deal with Over-fitting\n",
        "    'feature_fraction': 0.9,\n",
        "    'bagging_fraction': 0.9,\n",
        "    'bagging_freq': 5,\n",
        "    'min_data_in_leaf':40,\n",
        "    \n",
        "    # because training data is extremely unbalanced\n",
        "    'scale_pos_weight':99\n",
        "}\n",
        "\n",
        "train_data = lightgbm.Dataset(train[features], \n",
        "                              label=train[y_name],\n",
        "                              categorical_feature = features)\n",
        "\n",
        "val_data = lightgbm.Dataset(val[features], \n",
        "                            label=val[y_name],\n",
        "                            categorical_feature = features)\n",
        "\n",
        "# training\n",
        "evals_result = {}\n",
        "model = lightgbm.train(parameters,\n",
        "                       train_data, \n",
        "                       valid_sets=[val_data, train_data], \n",
        "                       valid_names=['val', 'train'], \n",
        "                       feval = lgb_f1_score,\n",
        "                       evals_result = evals_result)\n",
        "\n",
        "# plt 1\n",
        "lightgbm.plot_metric(evals_result, metric='f1')\n",
        "plt.show()\n",
        "\n",
        "# plt 2\n",
        "ax = lightgbm.plot_importance(model, max_num_features=40, figsize=(15,15))\n",
        "plt.show()"
      ],
      "execution_count": 6,
      "outputs": [
        {
          "output_type": "stream",
          "text": [
            "[1]\ttrain's xentropy: 0.0561407\ttrain's f1: 0\tval's xentropy: 0.056797\tval's f1: 0\n",
            "[2]\ttrain's xentropy: 0.0516916\ttrain's f1: 0\tval's xentropy: 0.0525157\tval's f1: 0\n",
            "[3]\ttrain's xentropy: 0.0485866\ttrain's f1: 0\tval's xentropy: 0.0495415\tval's f1: 0\n",
            "[4]\ttrain's xentropy: 0.0461393\ttrain's f1: 0\tval's xentropy: 0.047175\tval's f1: 0\n",
            "[5]\ttrain's xentropy: 0.0440092\ttrain's f1: 0\tval's xentropy: 0.0451191\tval's f1: 0\n",
            "[6]\ttrain's xentropy: 0.0422311\ttrain's f1: 0\tval's xentropy: 0.043428\tval's f1: 0\n",
            "[7]\ttrain's xentropy: 0.0407133\ttrain's f1: 0\tval's xentropy: 0.0420061\tval's f1: 0\n",
            "[8]\ttrain's xentropy: 0.0393251\ttrain's f1: 0\tval's xentropy: 0.0406668\tval's f1: 0\n",
            "[9]\ttrain's xentropy: 0.0380884\ttrain's f1: 0\tval's xentropy: 0.039472\tval's f1: 0\n",
            "[10]\ttrain's xentropy: 0.0369961\ttrain's f1: 0.00382297\tval's xentropy: 0.038439\tval's f1: 0.00235571\n",
            "[11]\ttrain's xentropy: 0.0360122\ttrain's f1: 0.0304613\tval's xentropy: 0.0375378\tval's f1: 0.0230086\n",
            "[12]\ttrain's xentropy: 0.0350962\ttrain's f1: 0.0391336\tval's xentropy: 0.0366856\tval's f1: 0.0293136\n",
            "[13]\ttrain's xentropy: 0.0342411\ttrain's f1: 0.0467458\tval's xentropy: 0.0358723\tval's f1: 0.0350014\n",
            "[14]\ttrain's xentropy: 0.0334773\ttrain's f1: 0.0793213\tval's xentropy: 0.0351658\tval's f1: 0.0627227\n",
            "[15]\ttrain's xentropy: 0.032755\ttrain's f1: 0.109658\tval's xentropy: 0.0345076\tval's f1: 0.0950245\n",
            "[16]\ttrain's xentropy: 0.0320644\ttrain's f1: 0.124387\tval's xentropy: 0.0338607\tval's f1: 0.109814\n",
            "[17]\ttrain's xentropy: 0.0314248\ttrain's f1: 0.152112\tval's xentropy: 0.0332577\tval's f1: 0.135361\n",
            "[18]\ttrain's xentropy: 0.0308201\ttrain's f1: 0.30454\tval's xentropy: 0.0327149\tval's f1: 0.281016\n",
            "[19]\ttrain's xentropy: 0.0302637\ttrain's f1: 0.361193\tval's xentropy: 0.0322282\tval's f1: 0.336912\n",
            "[20]\ttrain's xentropy: 0.0297264\ttrain's f1: 0.396563\tval's xentropy: 0.0317512\tval's f1: 0.377647\n",
            "[21]\ttrain's xentropy: 0.0292234\ttrain's f1: 0.424266\tval's xentropy: 0.0313052\tval's f1: 0.405375\n",
            "[22]\ttrain's xentropy: 0.0287214\ttrain's f1: 0.458016\tval's xentropy: 0.030871\tval's f1: 0.443692\n",
            "[23]\ttrain's xentropy: 0.0282685\ttrain's f1: 0.483288\tval's xentropy: 0.0304599\tval's f1: 0.471607\n",
            "[24]\ttrain's xentropy: 0.0278399\ttrain's f1: 0.498451\tval's xentropy: 0.0300824\tval's f1: 0.486521\n",
            "[25]\ttrain's xentropy: 0.0274427\ttrain's f1: 0.508765\tval's xentropy: 0.0297381\tval's f1: 0.496514\n",
            "[26]\ttrain's xentropy: 0.0270433\ttrain's f1: 0.518796\tval's xentropy: 0.0294047\tval's f1: 0.50407\n",
            "[27]\ttrain's xentropy: 0.0266751\ttrain's f1: 0.529492\tval's xentropy: 0.02908\tval's f1: 0.513544\n",
            "[28]\ttrain's xentropy: 0.0263127\ttrain's f1: 0.538295\tval's xentropy: 0.0287771\tval's f1: 0.526124\n",
            "[29]\ttrain's xentropy: 0.0259738\ttrain's f1: 0.556871\tval's xentropy: 0.0284981\tval's f1: 0.541775\n",
            "[30]\ttrain's xentropy: 0.0256444\ttrain's f1: 0.571847\tval's xentropy: 0.0282303\tval's f1: 0.554245\n",
            "[31]\ttrain's xentropy: 0.0253358\ttrain's f1: 0.584479\tval's xentropy: 0.0279875\tval's f1: 0.566231\n",
            "[32]\ttrain's xentropy: 0.025037\ttrain's f1: 0.595193\tval's xentropy: 0.0277452\tval's f1: 0.573291\n",
            "[33]\ttrain's xentropy: 0.0247462\ttrain's f1: 0.603146\tval's xentropy: 0.0275202\tval's f1: 0.582473\n",
            "[34]\ttrain's xentropy: 0.0244657\ttrain's f1: 0.612936\tval's xentropy: 0.0273017\tval's f1: 0.591848\n",
            "[35]\ttrain's xentropy: 0.0241759\ttrain's f1: 0.621867\tval's xentropy: 0.0270725\tval's f1: 0.600019\n",
            "[36]\ttrain's xentropy: 0.0238633\ttrain's f1: 0.632259\tval's xentropy: 0.0268272\tval's f1: 0.612052\n",
            "[37]\ttrain's xentropy: 0.023597\ttrain's f1: 0.639754\tval's xentropy: 0.0266216\tval's f1: 0.61857\n",
            "[38]\ttrain's xentropy: 0.0233334\ttrain's f1: 0.645167\tval's xentropy: 0.0264047\tval's f1: 0.623317\n",
            "[39]\ttrain's xentropy: 0.0230677\ttrain's f1: 0.649579\tval's xentropy: 0.026204\tval's f1: 0.626792\n",
            "[40]\ttrain's xentropy: 0.0228304\ttrain's f1: 0.654029\tval's xentropy: 0.0260152\tval's f1: 0.629471\n",
            "[41]\ttrain's xentropy: 0.0225869\ttrain's f1: 0.657376\tval's xentropy: 0.0258238\tval's f1: 0.632859\n",
            "[42]\ttrain's xentropy: 0.0223616\ttrain's f1: 0.660342\tval's xentropy: 0.0256705\tval's f1: 0.63503\n",
            "[43]\ttrain's xentropy: 0.0221419\ttrain's f1: 0.66372\tval's xentropy: 0.0254982\tval's f1: 0.638621\n",
            "[44]\ttrain's xentropy: 0.0219127\ttrain's f1: 0.668135\tval's xentropy: 0.0253216\tval's f1: 0.64049\n",
            "[45]\ttrain's xentropy: 0.0217053\ttrain's f1: 0.670374\tval's xentropy: 0.0251792\tval's f1: 0.642838\n",
            "[46]\ttrain's xentropy: 0.0215129\ttrain's f1: 0.673999\tval's xentropy: 0.0250327\tval's f1: 0.645612\n",
            "[47]\ttrain's xentropy: 0.0213256\ttrain's f1: 0.675917\tval's xentropy: 0.0249107\tval's f1: 0.647668\n",
            "[48]\ttrain's xentropy: 0.0211397\ttrain's f1: 0.679049\tval's xentropy: 0.0247766\tval's f1: 0.649915\n",
            "[49]\ttrain's xentropy: 0.0209569\ttrain's f1: 0.682842\tval's xentropy: 0.024625\tval's f1: 0.652375\n",
            "[50]\ttrain's xentropy: 0.0207814\ttrain's f1: 0.686485\tval's xentropy: 0.0245035\tval's f1: 0.654287\n",
            "[51]\ttrain's xentropy: 0.0205845\ttrain's f1: 0.69028\tval's xentropy: 0.0243806\tval's f1: 0.656753\n",
            "[52]\ttrain's xentropy: 0.0204361\ttrain's f1: 0.695897\tval's xentropy: 0.0242943\tval's f1: 0.661495\n",
            "[53]\ttrain's xentropy: 0.0202724\ttrain's f1: 0.69728\tval's xentropy: 0.0241952\tval's f1: 0.663147\n",
            "[54]\ttrain's xentropy: 0.0200918\ttrain's f1: 0.700303\tval's xentropy: 0.0240909\tval's f1: 0.664027\n",
            "[55]\ttrain's xentropy: 0.0199392\ttrain's f1: 0.702662\tval's xentropy: 0.0240022\tval's f1: 0.665965\n",
            "[56]\ttrain's xentropy: 0.0197755\ttrain's f1: 0.705018\tval's xentropy: 0.0239038\tval's f1: 0.667835\n",
            "[57]\ttrain's xentropy: 0.0196092\ttrain's f1: 0.707535\tval's xentropy: 0.0237981\tval's f1: 0.669408\n",
            "[58]\ttrain's xentropy: 0.0194575\ttrain's f1: 0.709323\tval's xentropy: 0.023715\tval's f1: 0.670571\n",
            "[59]\ttrain's xentropy: 0.0193128\ttrain's f1: 0.711656\tval's xentropy: 0.023642\tval's f1: 0.671325\n",
            "[60]\ttrain's xentropy: 0.0191633\ttrain's f1: 0.71369\tval's xentropy: 0.023576\tval's f1: 0.672075\n",
            "[61]\ttrain's xentropy: 0.0189993\ttrain's f1: 0.716626\tval's xentropy: 0.023475\tval's f1: 0.673226\n",
            "[62]\ttrain's xentropy: 0.0188611\ttrain's f1: 0.718246\tval's xentropy: 0.02338\tval's f1: 0.674674\n",
            "[63]\ttrain's xentropy: 0.0187025\ttrain's f1: 0.720388\tval's xentropy: 0.0232895\tval's f1: 0.675833\n",
            "[64]\ttrain's xentropy: 0.0185915\ttrain's f1: 0.722709\tval's xentropy: 0.0232222\tval's f1: 0.677204\n",
            "[65]\ttrain's xentropy: 0.0184334\ttrain's f1: 0.725917\tval's xentropy: 0.0231452\tval's f1: 0.678293\n",
            "[66]\ttrain's xentropy: 0.0182944\ttrain's f1: 0.729954\tval's xentropy: 0.0230655\tval's f1: 0.680003\n",
            "[67]\ttrain's xentropy: 0.0181543\ttrain's f1: 0.732013\tval's xentropy: 0.0230034\tval's f1: 0.681153\n",
            "[68]\ttrain's xentropy: 0.0180288\ttrain's f1: 0.734542\tval's xentropy: 0.022944\tval's f1: 0.682105\n",
            "[69]\ttrain's xentropy: 0.0178956\ttrain's f1: 0.734676\tval's xentropy: 0.0228899\tval's f1: 0.681547\n",
            "[70]\ttrain's xentropy: 0.0177817\ttrain's f1: 0.738089\tval's xentropy: 0.0228408\tval's f1: 0.683983\n",
            "[71]\ttrain's xentropy: 0.0176308\ttrain's f1: 0.738643\tval's xentropy: 0.0227816\tval's f1: 0.684801\n",
            "[72]\ttrain's xentropy: 0.0175171\ttrain's f1: 0.741465\tval's xentropy: 0.0227266\tval's f1: 0.685418\n",
            "[73]\ttrain's xentropy: 0.0173827\ttrain's f1: 0.742828\tval's xentropy: 0.0226503\tval's f1: 0.685877\n",
            "[74]\ttrain's xentropy: 0.0172719\ttrain's f1: 0.744939\tval's xentropy: 0.0226087\tval's f1: 0.68701\n",
            "[75]\ttrain's xentropy: 0.0171673\ttrain's f1: 0.746403\tval's xentropy: 0.0225614\tval's f1: 0.687635\n",
            "[76]\ttrain's xentropy: 0.0170511\ttrain's f1: 0.749554\tval's xentropy: 0.0225137\tval's f1: 0.688242\n",
            "[77]\ttrain's xentropy: 0.0169416\ttrain's f1: 0.751625\tval's xentropy: 0.0224813\tval's f1: 0.689115\n",
            "[78]\ttrain's xentropy: 0.0168278\ttrain's f1: 0.753204\tval's xentropy: 0.0224421\tval's f1: 0.689115\n",
            "[79]\ttrain's xentropy: 0.0167247\ttrain's f1: 0.754768\tval's xentropy: 0.0224057\tval's f1: 0.690029\n",
            "[80]\ttrain's xentropy: 0.016598\ttrain's f1: 0.757466\tval's xentropy: 0.0223341\tval's f1: 0.691462\n",
            "[81]\ttrain's xentropy: 0.0164854\ttrain's f1: 0.759099\tval's xentropy: 0.022283\tval's f1: 0.69285\n",
            "[82]\ttrain's xentropy: 0.0163582\ttrain's f1: 0.760746\tval's xentropy: 0.022244\tval's f1: 0.693881\n",
            "[83]\ttrain's xentropy: 0.0162433\ttrain's f1: 0.761909\tval's xentropy: 0.0222059\tval's f1: 0.694134\n",
            "[84]\ttrain's xentropy: 0.016135\ttrain's f1: 0.764195\tval's xentropy: 0.0221312\tval's f1: 0.696892\n",
            "[85]\ttrain's xentropy: 0.0160271\ttrain's f1: 0.766031\tval's xentropy: 0.0220881\tval's f1: 0.698013\n",
            "[86]\ttrain's xentropy: 0.0159359\ttrain's f1: 0.767029\tval's xentropy: 0.0220789\tval's f1: 0.697953\n",
            "[87]\ttrain's xentropy: 0.015832\ttrain's f1: 0.768629\tval's xentropy: 0.0220439\tval's f1: 0.698748\n",
            "[88]\ttrain's xentropy: 0.015729\ttrain's f1: 0.770647\tval's xentropy: 0.0220052\tval's f1: 0.699683\n",
            "[89]\ttrain's xentropy: 0.0156317\ttrain's f1: 0.7728\tval's xentropy: 0.0219907\tval's f1: 0.700299\n",
            "[90]\ttrain's xentropy: 0.015549\ttrain's f1: 0.773265\tval's xentropy: 0.021987\tval's f1: 0.699914\n",
            "[91]\ttrain's xentropy: 0.0154443\ttrain's f1: 0.774429\tval's xentropy: 0.0219573\tval's f1: 0.700463\n",
            "[92]\ttrain's xentropy: 0.0153089\ttrain's f1: 0.775488\tval's xentropy: 0.0219345\tval's f1: 0.700489\n",
            "[93]\ttrain's xentropy: 0.0152202\ttrain's f1: 0.777186\tval's xentropy: 0.0219005\tval's f1: 0.702202\n",
            "[94]\ttrain's xentropy: 0.015124\ttrain's f1: 0.778898\tval's xentropy: 0.0218544\tval's f1: 0.704736\n",
            "[95]\ttrain's xentropy: 0.0149975\ttrain's f1: 0.77965\tval's xentropy: 0.0218284\tval's f1: 0.703267\n",
            "[96]\ttrain's xentropy: 0.0149043\ttrain's f1: 0.781148\tval's xentropy: 0.021802\tval's f1: 0.704968\n",
            "[97]\ttrain's xentropy: 0.0147846\ttrain's f1: 0.781682\tval's xentropy: 0.0217826\tval's f1: 0.705279\n",
            "[98]\ttrain's xentropy: 0.0146805\ttrain's f1: 0.783197\tval's xentropy: 0.0217438\tval's f1: 0.707409\n",
            "[99]\ttrain's xentropy: 0.0145727\ttrain's f1: 0.785151\tval's xentropy: 0.0217286\tval's f1: 0.707779\n",
            "[100]\ttrain's xentropy: 0.0144894\ttrain's f1: 0.787377\tval's xentropy: 0.0217019\tval's f1: 0.708255\n",
            "[101]\ttrain's xentropy: 0.0143849\ttrain's f1: 0.789715\tval's xentropy: 0.021691\tval's f1: 0.708507\n",
            "[102]\ttrain's xentropy: 0.0142781\ttrain's f1: 0.79028\tval's xentropy: 0.021678\tval's f1: 0.707978\n",
            "[103]\ttrain's xentropy: 0.0141867\ttrain's f1: 0.79239\tval's xentropy: 0.0216565\tval's f1: 0.709348\n",
            "[104]\ttrain's xentropy: 0.0140917\ttrain's f1: 0.793506\tval's xentropy: 0.0216523\tval's f1: 0.709848\n",
            "[105]\ttrain's xentropy: 0.0140076\ttrain's f1: 0.796108\tval's xentropy: 0.0215992\tval's f1: 0.710591\n",
            "[106]\ttrain's xentropy: 0.0139194\ttrain's f1: 0.797481\tval's xentropy: 0.0215863\tval's f1: 0.711281\n",
            "[107]\ttrain's xentropy: 0.0138269\ttrain's f1: 0.798428\tval's xentropy: 0.0215585\tval's f1: 0.712252\n",
            "[108]\ttrain's xentropy: 0.0137379\ttrain's f1: 0.799818\tval's xentropy: 0.0215403\tval's f1: 0.712554\n",
            "[109]\ttrain's xentropy: 0.0136564\ttrain's f1: 0.801125\tval's xentropy: 0.0215073\tval's f1: 0.713427\n",
            "[110]\ttrain's xentropy: 0.0135805\ttrain's f1: 0.802528\tval's xentropy: 0.0214965\tval's f1: 0.713451\n",
            "[111]\ttrain's xentropy: 0.0135001\ttrain's f1: 0.803664\tval's xentropy: 0.021476\tval's f1: 0.713235\n",
            "[112]\ttrain's xentropy: 0.0134099\ttrain's f1: 0.804717\tval's xentropy: 0.0214651\tval's f1: 0.714068\n",
            "[113]\ttrain's xentropy: 0.0133243\ttrain's f1: 0.805462\tval's xentropy: 0.0214625\tval's f1: 0.714153\n",
            "[114]\ttrain's xentropy: 0.013257\ttrain's f1: 0.806801\tval's xentropy: 0.0214307\tval's f1: 0.714937\n",
            "[115]\ttrain's xentropy: 0.0131821\ttrain's f1: 0.807247\tval's xentropy: 0.0214292\tval's f1: 0.714358\n",
            "[116]\ttrain's xentropy: 0.0130874\ttrain's f1: 0.809444\tval's xentropy: 0.0214127\tval's f1: 0.714986\n",
            "[117]\ttrain's xentropy: 0.0130143\ttrain's f1: 0.810702\tval's xentropy: 0.0213834\tval's f1: 0.715853\n",
            "[118]\ttrain's xentropy: 0.0129337\ttrain's f1: 0.811637\tval's xentropy: 0.0213665\tval's f1: 0.716252\n",
            "[119]\ttrain's xentropy: 0.0128565\ttrain's f1: 0.811875\tval's xentropy: 0.0213638\tval's f1: 0.716761\n",
            "[120]\ttrain's xentropy: 0.0127763\ttrain's f1: 0.813634\tval's xentropy: 0.021353\tval's f1: 0.716662\n",
            "[121]\ttrain's xentropy: 0.0126972\ttrain's f1: 0.814037\tval's xentropy: 0.0213376\tval's f1: 0.716672\n",
            "[122]\ttrain's xentropy: 0.0126359\ttrain's f1: 0.815267\tval's xentropy: 0.0213127\tval's f1: 0.716841\n",
            "[123]\ttrain's xentropy: 0.0125487\ttrain's f1: 0.816035\tval's xentropy: 0.021293\tval's f1: 0.717949\n",
            "[124]\ttrain's xentropy: 0.0124853\ttrain's f1: 0.817136\tval's xentropy: 0.0212754\tval's f1: 0.717672\n",
            "[125]\ttrain's xentropy: 0.0124085\ttrain's f1: 0.818744\tval's xentropy: 0.0212455\tval's f1: 0.7189\n",
            "[126]\ttrain's xentropy: 0.0123401\ttrain's f1: 0.819907\tval's xentropy: 0.0212413\tval's f1: 0.719535\n",
            "[127]\ttrain's xentropy: 0.0122863\ttrain's f1: 0.821809\tval's xentropy: 0.0212128\tval's f1: 0.720256\n",
            "[128]\ttrain's xentropy: 0.0122178\ttrain's f1: 0.822718\tval's xentropy: 0.0212068\tval's f1: 0.720317\n",
            "[129]\ttrain's xentropy: 0.0121377\ttrain's f1: 0.823155\tval's xentropy: 0.0211887\tval's f1: 0.721245\n",
            "[130]\ttrain's xentropy: 0.0120612\ttrain's f1: 0.824024\tval's xentropy: 0.0211766\tval's f1: 0.72132\n",
            "[131]\ttrain's xentropy: 0.0120057\ttrain's f1: 0.825963\tval's xentropy: 0.0211464\tval's f1: 0.722894\n",
            "[132]\ttrain's xentropy: 0.0119434\ttrain's f1: 0.827519\tval's xentropy: 0.0211427\tval's f1: 0.722483\n",
            "[133]\ttrain's xentropy: 0.0118798\ttrain's f1: 0.828778\tval's xentropy: 0.0211223\tval's f1: 0.723144\n",
            "[134]\ttrain's xentropy: 0.0118047\ttrain's f1: 0.830075\tval's xentropy: 0.0211093\tval's f1: 0.722567\n",
            "[135]\ttrain's xentropy: 0.0117352\ttrain's f1: 0.830787\tval's xentropy: 0.0210975\tval's f1: 0.723664\n",
            "[136]\ttrain's xentropy: 0.0116818\ttrain's f1: 0.833042\tval's xentropy: 0.0210796\tval's f1: 0.724017\n",
            "[137]\ttrain's xentropy: 0.0116236\ttrain's f1: 0.83449\tval's xentropy: 0.0210751\tval's f1: 0.724187\n",
            "[138]\ttrain's xentropy: 0.0115751\ttrain's f1: 0.835538\tval's xentropy: 0.0210576\tval's f1: 0.724311\n",
            "[139]\ttrain's xentropy: 0.0115111\ttrain's f1: 0.837562\tval's xentropy: 0.0210548\tval's f1: 0.723974\n",
            "[140]\ttrain's xentropy: 0.0114585\ttrain's f1: 0.839239\tval's xentropy: 0.0210582\tval's f1: 0.724247\n",
            "[141]\ttrain's xentropy: 0.0114025\ttrain's f1: 0.839789\tval's xentropy: 0.0210586\tval's f1: 0.725008\n",
            "[142]\ttrain's xentropy: 0.0113441\ttrain's f1: 0.841123\tval's xentropy: 0.0210361\tval's f1: 0.726056\n",
            "[143]\ttrain's xentropy: 0.0112982\ttrain's f1: 0.842664\tval's xentropy: 0.0210206\tval's f1: 0.726118\n",
            "[144]\ttrain's xentropy: 0.0112527\ttrain's f1: 0.845389\tval's xentropy: 0.0210063\tval's f1: 0.726726\n",
            "[145]\ttrain's xentropy: 0.0111986\ttrain's f1: 0.846194\tval's xentropy: 0.021007\tval's f1: 0.727136\n",
            "[146]\ttrain's xentropy: 0.0111505\ttrain's f1: 0.847096\tval's xentropy: 0.0210017\tval's f1: 0.72744\n",
            "[147]\ttrain's xentropy: 0.0110981\ttrain's f1: 0.849159\tval's xentropy: 0.020987\tval's f1: 0.727273\n",
            "[148]\ttrain's xentropy: 0.0110533\ttrain's f1: 0.851644\tval's xentropy: 0.020982\tval's f1: 0.727743\n",
            "[149]\ttrain's xentropy: 0.0110082\ttrain's f1: 0.854083\tval's xentropy: 0.0209869\tval's f1: 0.728381\n",
            "[150]\ttrain's xentropy: 0.010962\ttrain's f1: 0.856367\tval's xentropy: 0.0209908\tval's f1: 0.728001\n",
            "[151]\ttrain's xentropy: 0.0109125\ttrain's f1: 0.857698\tval's xentropy: 0.0209772\tval's f1: 0.727864\n",
            "[152]\ttrain's xentropy: 0.0108671\ttrain's f1: 0.858518\tval's xentropy: 0.0209686\tval's f1: 0.728576\n",
            "[153]\ttrain's xentropy: 0.0108197\ttrain's f1: 0.859477\tval's xentropy: 0.0209696\tval's f1: 0.728607\n",
            "[154]\ttrain's xentropy: 0.0107816\ttrain's f1: 0.86063\tval's xentropy: 0.0209595\tval's f1: 0.729318\n",
            "[155]\ttrain's xentropy: 0.0107365\ttrain's f1: 0.861699\tval's xentropy: 0.0209552\tval's f1: 0.729361\n",
            "[156]\ttrain's xentropy: 0.0106963\ttrain's f1: 0.863385\tval's xentropy: 0.0209338\tval's f1: 0.730341\n",
            "[157]\ttrain's xentropy: 0.0106581\ttrain's f1: 0.864863\tval's xentropy: 0.0209208\tval's f1: 0.730488\n",
            "[158]\ttrain's xentropy: 0.0106143\ttrain's f1: 0.865483\tval's xentropy: 0.0209134\tval's f1: 0.730625\n",
            "[159]\ttrain's xentropy: 0.0105656\ttrain's f1: 0.867069\tval's xentropy: 0.0208849\tval's f1: 0.73082\n",
            "[160]\ttrain's xentropy: 0.0105161\ttrain's f1: 0.868688\tval's xentropy: 0.0208774\tval's f1: 0.731181\n",
            "[161]\ttrain's xentropy: 0.0104693\ttrain's f1: 0.871236\tval's xentropy: 0.0208789\tval's f1: 0.730747\n",
            "[162]\ttrain's xentropy: 0.0104263\ttrain's f1: 0.872806\tval's xentropy: 0.020882\tval's f1: 0.730731\n",
            "[163]\ttrain's xentropy: 0.0103895\ttrain's f1: 0.874515\tval's xentropy: 0.0208652\tval's f1: 0.731634\n",
            "[164]\ttrain's xentropy: 0.0103473\ttrain's f1: 0.876383\tval's xentropy: 0.0208588\tval's f1: 0.731873\n",
            "[165]\ttrain's xentropy: 0.0102932\ttrain's f1: 0.87843\tval's xentropy: 0.020852\tval's f1: 0.731315\n",
            "[166]\ttrain's xentropy: 0.010252\ttrain's f1: 0.880589\tval's xentropy: 0.0208431\tval's f1: 0.731663\n",
            "[167]\ttrain's xentropy: 0.0102139\ttrain's f1: 0.88385\tval's xentropy: 0.0208436\tval's f1: 0.731497\n",
            "[168]\ttrain's xentropy: 0.0101676\ttrain's f1: 0.885936\tval's xentropy: 0.02084\tval's f1: 0.732088\n",
            "[169]\ttrain's xentropy: 0.010122\ttrain's f1: 0.886978\tval's xentropy: 0.0208367\tval's f1: 0.7321\n",
            "[170]\ttrain's xentropy: 0.0100862\ttrain's f1: 0.888449\tval's xentropy: 0.0208311\tval's f1: 0.732455\n",
            "[171]\ttrain's xentropy: 0.010036\ttrain's f1: 0.889838\tval's xentropy: 0.0208248\tval's f1: 0.732941\n",
            "[172]\ttrain's xentropy: 0.00999138\ttrain's f1: 0.890602\tval's xentropy: 0.0208113\tval's f1: 0.732404\n",
            "[173]\ttrain's xentropy: 0.00994543\ttrain's f1: 0.891522\tval's xentropy: 0.0208\tval's f1: 0.73278\n",
            "[174]\ttrain's xentropy: 0.00990489\ttrain's f1: 0.893078\tval's xentropy: 0.0207965\tval's f1: 0.733056\n",
            "[175]\ttrain's xentropy: 0.00986157\ttrain's f1: 0.894065\tval's xentropy: 0.0207959\tval's f1: 0.733754\n",
            "[176]\ttrain's xentropy: 0.00982553\ttrain's f1: 0.895145\tval's xentropy: 0.0207809\tval's f1: 0.733582\n",
            "[177]\ttrain's xentropy: 0.00978355\ttrain's f1: 0.896799\tval's xentropy: 0.0207813\tval's f1: 0.734125\n",
            "[178]\ttrain's xentropy: 0.00974591\ttrain's f1: 0.898432\tval's xentropy: 0.0207705\tval's f1: 0.734257\n",
            "[179]\ttrain's xentropy: 0.00971137\ttrain's f1: 0.898881\tval's xentropy: 0.0207677\tval's f1: 0.734731\n",
            "[180]\ttrain's xentropy: 0.009667\ttrain's f1: 0.89971\tval's xentropy: 0.0207554\tval's f1: 0.734748\n",
            "[181]\ttrain's xentropy: 0.00962853\ttrain's f1: 0.900902\tval's xentropy: 0.0207578\tval's f1: 0.734687\n",
            "[182]\ttrain's xentropy: 0.00959801\ttrain's f1: 0.901798\tval's xentropy: 0.0207614\tval's f1: 0.734863\n",
            "[183]\ttrain's xentropy: 0.00956261\ttrain's f1: 0.902389\tval's xentropy: 0.0207627\tval's f1: 0.73516\n",
            "[184]\ttrain's xentropy: 0.00952532\ttrain's f1: 0.903468\tval's xentropy: 0.0207643\tval's f1: 0.735674\n",
            "[185]\ttrain's xentropy: 0.00949488\ttrain's f1: 0.904598\tval's xentropy: 0.0207465\tval's f1: 0.736346\n",
            "[186]\ttrain's xentropy: 0.00945893\ttrain's f1: 0.90546\tval's xentropy: 0.0207528\tval's f1: 0.736049\n",
            "[187]\ttrain's xentropy: 0.00943193\ttrain's f1: 0.906351\tval's xentropy: 0.0207392\tval's f1: 0.736389\n",
            "[188]\ttrain's xentropy: 0.00938894\ttrain's f1: 0.907332\tval's xentropy: 0.0207363\tval's f1: 0.73699\n",
            "[189]\ttrain's xentropy: 0.00935303\ttrain's f1: 0.908077\tval's xentropy: 0.0207356\tval's f1: 0.736494\n",
            "[190]\ttrain's xentropy: 0.00932561\ttrain's f1: 0.908602\tval's xentropy: 0.0207231\tval's f1: 0.736973\n",
            "[191]\ttrain's xentropy: 0.00929919\ttrain's f1: 0.909218\tval's xentropy: 0.0207086\tval's f1: 0.737426\n",
            "[192]\ttrain's xentropy: 0.00926648\ttrain's f1: 0.909211\tval's xentropy: 0.0207023\tval's f1: 0.737051\n",
            "[193]\ttrain's xentropy: 0.00923329\ttrain's f1: 0.910237\tval's xentropy: 0.020707\tval's f1: 0.73692\n",
            "[194]\ttrain's xentropy: 0.00920107\ttrain's f1: 0.910859\tval's xentropy: 0.0207095\tval's f1: 0.73652\n",
            "[195]\ttrain's xentropy: 0.00916779\ttrain's f1: 0.91194\tval's xentropy: 0.0207126\tval's f1: 0.737373\n",
            "[196]\ttrain's xentropy: 0.00913616\ttrain's f1: 0.912694\tval's xentropy: 0.0207109\tval's f1: 0.736755\n",
            "[197]\ttrain's xentropy: 0.00910518\ttrain's f1: 0.913602\tval's xentropy: 0.0207107\tval's f1: 0.737607\n",
            "[198]\ttrain's xentropy: 0.00908079\ttrain's f1: 0.913364\tval's xentropy: 0.0207111\tval's f1: 0.737643\n",
            "[199]\ttrain's xentropy: 0.00905063\ttrain's f1: 0.914525\tval's xentropy: 0.0207133\tval's f1: 0.73679\n",
            "[200]\ttrain's xentropy: 0.00902036\ttrain's f1: 0.91548\tval's xentropy: 0.0207116\tval's f1: 0.737373\n"
          ],
          "name": "stdout"
        },
        {
          "output_type": "display_data",
          "data": {
            "image/png": "[encoded data removed]",
            "text/plain": [
              "<Figure size 432x288 with 1 Axes>"
            ]
          },
          "metadata": {
            "tags": []
          }
        },
        {
          "output_type": "display_data",
          "data": {
            "image/png": "[encoded data removed]",
            "text/plain": [
              "<Figure size 1080x1080 with 1 Axes>"
            ]
          },
          "metadata": {
            "tags": []
          }
        }
      ]
    },
    {
      "cell_type": "markdown",
      "metadata": {
        "id": "3baniELruhYe",
        "colab_type": "text"
      },
      "source": [
        "# F1 report"
      ]
    },
    {
      "cell_type": "code",
      "metadata": {
        "id": "glestRnmts7s",
        "colab_type": "code",
        "outputId": "0e19ae9c-7252-4442-bbbc-a12dd8489715",
        "colab": {
          "base_uri": "https://localhost:8080/",
          "height": 168
        }
      },
      "source": [
        "from sklearn.metrics import classification_report \n",
        "\n",
        "#驗證集預測結果\n",
        "y_pred = model.predict(val[features])\n",
        "y_pred = pd.Series(y_pred).apply(round)\n",
        "#驗證集分數\n",
        "print(classification_report(val[y_name] ,y_pred ,target_names=['0','1']))"
      ],
      "execution_count": 7,
      "outputs": [
        {
          "output_type": "stream",
          "text": [
            "              precision    recall  f1-score   support\n",
            "\n",
            "           0       1.00      1.00      1.00    495407\n",
            "           1       0.84      0.66      0.74      6783\n",
            "\n",
            "    accuracy                           0.99    502190\n",
            "   macro avg       0.92      0.83      0.87    502190\n",
            "weighted avg       0.99      0.99      0.99    502190\n",
            "\n"
          ],
          "name": "stdout"
        }
      ]
    },
    {
      "cell_type": "markdown",
      "metadata": {
        "id": "cPo-0zQAyCiY",
        "colab_type": "text"
      },
      "source": [
        "# 產生submission"
      ]
    },
    {
      "cell_type": "code",
      "metadata": {
        "id": "azyeBD0e30E6",
        "colab_type": "code",
        "outputId": "ab83291d-6662-4157-c71b-98bba2174217",
        "colab": {
          "base_uri": "https://localhost:8080/",
          "height": 246
        }
      },
      "source": [
        "submission = pd.DataFrame()\n",
        "submission[\"txkey\"] = test_txkey\n",
        "\n",
        "#測試集預測結果\n",
        "submission[\"fraud_ind\"] = model.predict(test[features])\n",
        "submission[\"fraud_ind\"] = submission[\"fraud_ind\"].apply(round)\n",
        "\n",
        "#value_counts\n",
        "print(submission[\"fraud_ind\"].value_counts())\n",
        "submission.head()"
      ],
      "execution_count": 8,
      "outputs": [
        {
          "output_type": "stream",
          "text": [
            "0    416457\n",
            "1      5208\n",
            "Name: fraud_ind, dtype: int64\n"
          ],
          "name": "stdout"
        },
        {
          "output_type": "execute_result",
          "data": {
            "text/html": [
              "<div>\n",
              "<style scoped>\n",
              "    .dataframe tbody tr th:only-of-type {\n",
              "        vertical-align: middle;\n",
              "    }\n",
              "\n",
              "    .dataframe tbody tr th {\n",
              "        vertical-align: top;\n",
              "    }\n",
              "\n",
              "    .dataframe thead th {\n",
              "        text-align: right;\n",
              "    }\n",
              "</style>\n",
              "<table border=\"1\" class=\"dataframe\">\n",
              "  <thead>\n",
              "    <tr style=\"text-align: right;\">\n",
              "      <th></th>\n",
              "      <th>txkey</th>\n",
              "      <th>fraud_ind</th>\n",
              "    </tr>\n",
              "  </thead>\n",
              "  <tbody>\n",
              "    <tr>\n",
              "      <th>0</th>\n",
              "      <td>592489</td>\n",
              "      <td>0</td>\n",
              "    </tr>\n",
              "    <tr>\n",
              "      <th>1</th>\n",
              "      <td>592452</td>\n",
              "      <td>0</td>\n",
              "    </tr>\n",
              "    <tr>\n",
              "      <th>2</th>\n",
              "      <td>590212</td>\n",
              "      <td>0</td>\n",
              "    </tr>\n",
              "    <tr>\n",
              "      <th>3</th>\n",
              "      <td>590209</td>\n",
              "      <td>0</td>\n",
              "    </tr>\n",
              "    <tr>\n",
              "      <th>4</th>\n",
              "      <td>592488</td>\n",
              "      <td>0</td>\n",
              "    </tr>\n",
              "  </tbody>\n",
              "</table>\n",
              "</div>"
            ],
            "text/plain": [
              "    txkey  fraud_ind\n",
              "0  592489          0\n",
              "1  592452          0\n",
              "2  590212          0\n",
              "3  590209          0\n",
              "4  592488          0"
            ]
          },
          "metadata": {
            "tags": []
          },
          "execution_count": 8
        }
      ]
    },
    {
      "cell_type": "markdown",
      "metadata": {
        "id": "Bd74iRwUgW6p",
        "colab_type": "text"
      },
      "source": [
        "# 保存"
      ]
    },
    {
      "cell_type": "code",
      "metadata": {
        "id": "XvfSAvYOyaGK",
        "colab_type": "code",
        "colab": {}
      },
      "source": [
        "submission.to_csv(\"./submission_19.csv\")"
      ],
      "execution_count": 0,
      "outputs": []
    },
    {
      "cell_type": "code",
      "metadata": {
        "id": "0YQYwZp7P3FN",
        "colab_type": "code",
        "colab": {}
      },
      "source": [
        ""
      ],
      "execution_count": 0,
      "outputs": []
    }
  ]
}