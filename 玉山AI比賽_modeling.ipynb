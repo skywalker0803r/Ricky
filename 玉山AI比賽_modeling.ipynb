{
  "nbformat": 4,
  "nbformat_minor": 0,
  "metadata": {
    "colab": {
      "name": "玉山AI比賽_modeling.ipynb",
      "provenance": [],
      "collapsed_sections": [],
      "machine_shape": "hm",
      "include_colab_link": true
    },
    "kernelspec": {
      "name": "python3",
      "display_name": "Python 3"
    },
    "accelerator": "GPU"
  },
  "cells": [
    {
      "cell_type": "markdown",
      "metadata": {
        "id": "view-in-github",
        "colab_type": "text"
      },
      "source": [
        "<a href=\"https://colab.research.google.com/github/skywalker0803r/Ricky/blob/master/%E7%8E%89%E5%B1%B1AI%E6%AF%94%E8%B3%BD_modeling.ipynb\" target=\"_parent\"><img src=\"https://colab.research.google.com/assets/colab-badge.svg\" alt=\"Open In Colab\"/></a>"
      ]
    },
    {
      "cell_type": "code",
      "metadata": {
        "id": "AATKXslkSfYY",
        "colab_type": "code",
        "outputId": "305ae261-06a7-4fcb-cc29-4d9a9ebdca3f",
        "colab": {
          "base_uri": "https://localhost:8080/",
          "height": 35
        }
      },
      "source": [
        "from google.colab import drive\n",
        "drive.mount('/content/drive')\n",
        "import warnings \n",
        "warnings.simplefilter('ignore')\n",
        "import seaborn as sns\n",
        "import matplotlib.pyplot as plt"
      ],
      "execution_count": 74,
      "outputs": [
        {
          "output_type": "stream",
          "text": [
            "Drive already mounted at /content/drive; to attempt to forcibly remount, call drive.mount(\"/content/drive\", force_remount=True).\n"
          ],
          "name": "stdout"
        }
      ]
    },
    {
      "cell_type": "code",
      "metadata": {
        "id": "Npr5FVMlY8mV",
        "colab_type": "code",
        "colab": {}
      },
      "source": [
        "中文map = {'bacno':'歸戶帳號','txkey':'交易序號','locdt':'授權日期','loctm':'授權時間','cano':'交易卡號',\n",
        "         'contp':'交易類別','etymd':'交易型態','mchno':'特店代號','acqic':'收單行代碼','mcc':'MCC_CODE',\n",
        "         'conam':'交易金額-台幣(經過轉換)','ecfg':'網路交易註記','insfg':'分期交易註記','iterm':'分期期數',\n",
        "         'stocn':'消費地國別','scity':'消費城市','stscd':'狀態碼','ovrlt':'超額註記碼','flbmk':'Fallback註記',\n",
        "         'hcefg':'支付型態','csmcu':'消費地幣別','flg_3dsmk':'3DS交易註記','fraud_ind':'盜刷註記'}"
      ],
      "execution_count": 0,
      "outputs": []
    },
    {
      "cell_type": "markdown",
      "metadata": {
        "id": "9uf407F-fMvq",
        "colab_type": "text"
      },
      "source": [
        "# train"
      ]
    },
    {
      "cell_type": "code",
      "metadata": {
        "id": "mX9n2Jd2Sgu0",
        "colab_type": "code",
        "outputId": "eaf0dcad-df28-4378-adab-f98bc817d8a3",
        "colab": {
          "base_uri": "https://localhost:8080/",
          "height": 238
        }
      },
      "source": [
        "import pandas as pd\n",
        "train = pd.read_csv(\"/content/drive/My Drive/玉山人工智慧比賽數據/train_特徵工程完.csv\",index_col=0)\n",
        "print(train.shape)\n",
        "train.head()"
      ],
      "execution_count": 76,
      "outputs": [
        {
          "output_type": "stream",
          "text": [
            "(1521787, 15)\n"
          ],
          "name": "stdout"
        },
        {
          "output_type": "execute_result",
          "data": {
            "text/html": [
              "<div>\n",
              "<style scoped>\n",
              "    .dataframe tbody tr th:only-of-type {\n",
              "        vertical-align: middle;\n",
              "    }\n",
              "\n",
              "    .dataframe tbody tr th {\n",
              "        vertical-align: top;\n",
              "    }\n",
              "\n",
              "    .dataframe thead th {\n",
              "        text-align: right;\n",
              "    }\n",
              "</style>\n",
              "<table border=\"1\" class=\"dataframe\">\n",
              "  <thead>\n",
              "    <tr style=\"text-align: right;\">\n",
              "      <th></th>\n",
              "      <th>stscd</th>\n",
              "      <th>ecfg</th>\n",
              "      <th>stocn</th>\n",
              "      <th>mchno_stscd_2_norm_count</th>\n",
              "      <th>mchno_stscd_0_norm_count</th>\n",
              "      <th>acqic_stscd_2_norm_count</th>\n",
              "      <th>acqic_stscd_0_norm_count</th>\n",
              "      <th>cano_stscd_2_norm_count</th>\n",
              "      <th>cano_stscd_0_norm_count</th>\n",
              "      <th>bacno_stscd_2_norm_count</th>\n",
              "      <th>bacno_stscd_0_norm_count</th>\n",
              "      <th>cano_stscd_nunique</th>\n",
              "      <th>acqic_etymd_8_norm_count</th>\n",
              "      <th>txkey</th>\n",
              "      <th>fraud_ind</th>\n",
              "    </tr>\n",
              "  </thead>\n",
              "  <tbody>\n",
              "    <tr>\n",
              "      <th>0</th>\n",
              "      <td>0</td>\n",
              "      <td>0</td>\n",
              "      <td>102</td>\n",
              "      <td>0.001044</td>\n",
              "      <td>0.998956</td>\n",
              "      <td>0.001344</td>\n",
              "      <td>0.998656</td>\n",
              "      <td>0.0</td>\n",
              "      <td>1.0</td>\n",
              "      <td>0.0</td>\n",
              "      <td>1.0</td>\n",
              "      <td>1</td>\n",
              "      <td>0.000000</td>\n",
              "      <td>516056</td>\n",
              "      <td>0</td>\n",
              "    </tr>\n",
              "    <tr>\n",
              "      <th>1</th>\n",
              "      <td>0</td>\n",
              "      <td>0</td>\n",
              "      <td>102</td>\n",
              "      <td>0.000016</td>\n",
              "      <td>0.997536</td>\n",
              "      <td>0.000000</td>\n",
              "      <td>0.994768</td>\n",
              "      <td>0.0</td>\n",
              "      <td>1.0</td>\n",
              "      <td>0.0</td>\n",
              "      <td>1.0</td>\n",
              "      <td>1</td>\n",
              "      <td>0.000000</td>\n",
              "      <td>4376</td>\n",
              "      <td>0</td>\n",
              "    </tr>\n",
              "    <tr>\n",
              "      <th>2</th>\n",
              "      <td>0</td>\n",
              "      <td>0</td>\n",
              "      <td>102</td>\n",
              "      <td>0.001044</td>\n",
              "      <td>0.998956</td>\n",
              "      <td>0.001344</td>\n",
              "      <td>0.998656</td>\n",
              "      <td>0.0</td>\n",
              "      <td>1.0</td>\n",
              "      <td>0.0</td>\n",
              "      <td>1.0</td>\n",
              "      <td>1</td>\n",
              "      <td>0.000000</td>\n",
              "      <td>483434</td>\n",
              "      <td>0</td>\n",
              "    </tr>\n",
              "    <tr>\n",
              "      <th>3</th>\n",
              "      <td>0</td>\n",
              "      <td>0</td>\n",
              "      <td>102</td>\n",
              "      <td>0.000000</td>\n",
              "      <td>1.000000</td>\n",
              "      <td>0.000149</td>\n",
              "      <td>0.999643</td>\n",
              "      <td>0.0</td>\n",
              "      <td>1.0</td>\n",
              "      <td>0.0</td>\n",
              "      <td>1.0</td>\n",
              "      <td>1</td>\n",
              "      <td>0.142619</td>\n",
              "      <td>1407164</td>\n",
              "      <td>0</td>\n",
              "    </tr>\n",
              "    <tr>\n",
              "      <th>4</th>\n",
              "      <td>0</td>\n",
              "      <td>0</td>\n",
              "      <td>102</td>\n",
              "      <td>0.000000</td>\n",
              "      <td>1.000000</td>\n",
              "      <td>0.000038</td>\n",
              "      <td>0.999894</td>\n",
              "      <td>0.0</td>\n",
              "      <td>1.0</td>\n",
              "      <td>0.0</td>\n",
              "      <td>1.0</td>\n",
              "      <td>1</td>\n",
              "      <td>0.077908</td>\n",
              "      <td>1051004</td>\n",
              "      <td>0</td>\n",
              "    </tr>\n",
              "  </tbody>\n",
              "</table>\n",
              "</div>"
            ],
            "text/plain": [
              "   stscd  ecfg  stocn  ...  acqic_etymd_8_norm_count    txkey  fraud_ind\n",
              "0      0     0    102  ...                  0.000000   516056          0\n",
              "1      0     0    102  ...                  0.000000     4376          0\n",
              "2      0     0    102  ...                  0.000000   483434          0\n",
              "3      0     0    102  ...                  0.142619  1407164          0\n",
              "4      0     0    102  ...                  0.077908  1051004          0\n",
              "\n",
              "[5 rows x 15 columns]"
            ]
          },
          "metadata": {
            "tags": []
          },
          "execution_count": 76
        }
      ]
    },
    {
      "cell_type": "markdown",
      "metadata": {
        "id": "HNczBDkb7_Zi",
        "colab_type": "text"
      },
      "source": [
        "# test"
      ]
    },
    {
      "cell_type": "code",
      "metadata": {
        "id": "Rqj6BhcoT8ai",
        "colab_type": "code",
        "outputId": "92113aee-0db0-49dd-dd0a-dafaeaffd4f7",
        "colab": {
          "base_uri": "https://localhost:8080/",
          "height": 238
        }
      },
      "source": [
        "test = pd.read_csv(\"/content/drive/My Drive/玉山人工智慧比賽數據/test_特徵工程完.csv\",index_col=0)\n",
        "test_txkey = test[\"txkey\"]\n",
        "print(test.shape)\n",
        "test.head()"
      ],
      "execution_count": 77,
      "outputs": [
        {
          "output_type": "stream",
          "text": [
            "(421665, 14)\n"
          ],
          "name": "stdout"
        },
        {
          "output_type": "execute_result",
          "data": {
            "text/html": [
              "<div>\n",
              "<style scoped>\n",
              "    .dataframe tbody tr th:only-of-type {\n",
              "        vertical-align: middle;\n",
              "    }\n",
              "\n",
              "    .dataframe tbody tr th {\n",
              "        vertical-align: top;\n",
              "    }\n",
              "\n",
              "    .dataframe thead th {\n",
              "        text-align: right;\n",
              "    }\n",
              "</style>\n",
              "<table border=\"1\" class=\"dataframe\">\n",
              "  <thead>\n",
              "    <tr style=\"text-align: right;\">\n",
              "      <th></th>\n",
              "      <th>stscd</th>\n",
              "      <th>ecfg</th>\n",
              "      <th>stocn</th>\n",
              "      <th>mchno_stscd_2_norm_count</th>\n",
              "      <th>mchno_stscd_0_norm_count</th>\n",
              "      <th>acqic_stscd_2_norm_count</th>\n",
              "      <th>acqic_stscd_0_norm_count</th>\n",
              "      <th>cano_stscd_2_norm_count</th>\n",
              "      <th>cano_stscd_0_norm_count</th>\n",
              "      <th>bacno_stscd_2_norm_count</th>\n",
              "      <th>bacno_stscd_0_norm_count</th>\n",
              "      <th>cano_stscd_nunique</th>\n",
              "      <th>acqic_etymd_8_norm_count</th>\n",
              "      <th>txkey</th>\n",
              "    </tr>\n",
              "  </thead>\n",
              "  <tbody>\n",
              "    <tr>\n",
              "      <th>1521787</th>\n",
              "      <td>0</td>\n",
              "      <td>0</td>\n",
              "      <td>102</td>\n",
              "      <td>0.00193</td>\n",
              "      <td>0.99807</td>\n",
              "      <td>0.001344</td>\n",
              "      <td>0.998656</td>\n",
              "      <td>0.181818</td>\n",
              "      <td>0.818182</td>\n",
              "      <td>0.181818</td>\n",
              "      <td>0.818182</td>\n",
              "      <td>2</td>\n",
              "      <td>0.0</td>\n",
              "      <td>592489</td>\n",
              "    </tr>\n",
              "    <tr>\n",
              "      <th>1521788</th>\n",
              "      <td>0</td>\n",
              "      <td>0</td>\n",
              "      <td>102</td>\n",
              "      <td>0.00193</td>\n",
              "      <td>0.99807</td>\n",
              "      <td>0.001344</td>\n",
              "      <td>0.998656</td>\n",
              "      <td>0.181818</td>\n",
              "      <td>0.818182</td>\n",
              "      <td>0.181818</td>\n",
              "      <td>0.818182</td>\n",
              "      <td>2</td>\n",
              "      <td>0.0</td>\n",
              "      <td>592452</td>\n",
              "    </tr>\n",
              "    <tr>\n",
              "      <th>1521789</th>\n",
              "      <td>0</td>\n",
              "      <td>0</td>\n",
              "      <td>102</td>\n",
              "      <td>0.00193</td>\n",
              "      <td>0.99807</td>\n",
              "      <td>0.001344</td>\n",
              "      <td>0.998656</td>\n",
              "      <td>0.181818</td>\n",
              "      <td>0.818182</td>\n",
              "      <td>0.181818</td>\n",
              "      <td>0.818182</td>\n",
              "      <td>2</td>\n",
              "      <td>0.0</td>\n",
              "      <td>590212</td>\n",
              "    </tr>\n",
              "    <tr>\n",
              "      <th>1521790</th>\n",
              "      <td>0</td>\n",
              "      <td>0</td>\n",
              "      <td>102</td>\n",
              "      <td>0.00193</td>\n",
              "      <td>0.99807</td>\n",
              "      <td>0.001344</td>\n",
              "      <td>0.998656</td>\n",
              "      <td>0.181818</td>\n",
              "      <td>0.818182</td>\n",
              "      <td>0.181818</td>\n",
              "      <td>0.818182</td>\n",
              "      <td>2</td>\n",
              "      <td>0.0</td>\n",
              "      <td>590209</td>\n",
              "    </tr>\n",
              "    <tr>\n",
              "      <th>1521791</th>\n",
              "      <td>0</td>\n",
              "      <td>0</td>\n",
              "      <td>102</td>\n",
              "      <td>0.00193</td>\n",
              "      <td>0.99807</td>\n",
              "      <td>0.001344</td>\n",
              "      <td>0.998656</td>\n",
              "      <td>0.181818</td>\n",
              "      <td>0.818182</td>\n",
              "      <td>0.181818</td>\n",
              "      <td>0.818182</td>\n",
              "      <td>2</td>\n",
              "      <td>0.0</td>\n",
              "      <td>592488</td>\n",
              "    </tr>\n",
              "  </tbody>\n",
              "</table>\n",
              "</div>"
            ],
            "text/plain": [
              "         stscd  ecfg  ...  acqic_etymd_8_norm_count   txkey\n",
              "1521787      0     0  ...                       0.0  592489\n",
              "1521788      0     0  ...                       0.0  592452\n",
              "1521789      0     0  ...                       0.0  590212\n",
              "1521790      0     0  ...                       0.0  590209\n",
              "1521791      0     0  ...                       0.0  592488\n",
              "\n",
              "[5 rows x 14 columns]"
            ]
          },
          "metadata": {
            "tags": []
          },
          "execution_count": 77
        }
      ]
    },
    {
      "cell_type": "markdown",
      "metadata": {
        "id": "0ikJ9Qh_edpH",
        "colab_type": "text"
      },
      "source": [
        "# 定義 features & cat_features & target"
      ]
    },
    {
      "cell_type": "code",
      "metadata": {
        "id": "LVE6ja-Yed6Q",
        "colab_type": "code",
        "outputId": "f6ab4f81-1384-452f-d8d0-0b9f6198cf91",
        "colab": {
          "base_uri": "https://localhost:8080/",
          "height": 90
        }
      },
      "source": [
        "# 全部特徵\n",
        "features = train.drop(['fraud_ind', # just target\n",
        "                       'txkey', # just like index\n",
        "                       ],axis=1).columns.tolist()\n",
        "\n",
        "# 原始特徵才是cat_features\n",
        "cat_features = sorted(list(set(features)&set(中文map.keys())))\n",
        "\n",
        "y_name = 'fraud_ind'\n",
        "\n",
        "print(len(features),features)\n",
        "print(len(cat_features),cat_features)\n",
        "print(len([y_name]),[y_name])"
      ],
      "execution_count": 78,
      "outputs": [
        {
          "output_type": "stream",
          "text": [
            "13 ['stscd', 'ecfg', 'stocn', 'mchno_stscd_2_norm_count', 'mchno_stscd_0_norm_count', 'acqic_stscd_2_norm_count', 'acqic_stscd_0_norm_count', 'cano_stscd_2_norm_count', 'cano_stscd_0_norm_count', 'bacno_stscd_2_norm_count', 'bacno_stscd_0_norm_count', 'cano_stscd_nunique', 'acqic_etymd_8_norm_count']\n",
            "3 ['ecfg', 'stocn', 'stscd']\n",
            "1 ['fraud_ind']\n"
          ],
          "name": "stdout"
        }
      ]
    },
    {
      "cell_type": "markdown",
      "metadata": {
        "id": "dCi60JFlfw7y",
        "colab_type": "text"
      },
      "source": [
        "# both / test"
      ]
    },
    {
      "cell_type": "code",
      "metadata": {
        "id": "a9oT_e9AfxFA",
        "colab_type": "code",
        "outputId": "0f5ebd21-2402-4082-c270-276c6755aaa9",
        "colab": {
          "base_uri": "https://localhost:8080/",
          "height": 139
        }
      },
      "source": [
        "f = {}\n",
        "for col in cat_features:\n",
        "  both_value = set(train[col].unique())&set(test[col].unique())\n",
        "  f[col] = len(both_value)/len(test[col].unique())\n",
        "res = pd.DataFrame(f,index=['both/test']).T.sort_values(by='both/test',ascending=False)\n",
        "res['中文'] = res.index.map(中文map)\n",
        "res"
      ],
      "execution_count": 79,
      "outputs": [
        {
          "output_type": "execute_result",
          "data": {
            "text/html": [
              "<div>\n",
              "<style scoped>\n",
              "    .dataframe tbody tr th:only-of-type {\n",
              "        vertical-align: middle;\n",
              "    }\n",
              "\n",
              "    .dataframe tbody tr th {\n",
              "        vertical-align: top;\n",
              "    }\n",
              "\n",
              "    .dataframe thead th {\n",
              "        text-align: right;\n",
              "    }\n",
              "</style>\n",
              "<table border=\"1\" class=\"dataframe\">\n",
              "  <thead>\n",
              "    <tr style=\"text-align: right;\">\n",
              "      <th></th>\n",
              "      <th>both/test</th>\n",
              "      <th>中文</th>\n",
              "    </tr>\n",
              "  </thead>\n",
              "  <tbody>\n",
              "    <tr>\n",
              "      <th>ecfg</th>\n",
              "      <td>1.000000</td>\n",
              "      <td>網路交易註記</td>\n",
              "    </tr>\n",
              "    <tr>\n",
              "      <th>stscd</th>\n",
              "      <td>1.000000</td>\n",
              "      <td>狀態碼</td>\n",
              "    </tr>\n",
              "    <tr>\n",
              "      <th>stocn</th>\n",
              "      <td>0.931034</td>\n",
              "      <td>消費地國別</td>\n",
              "    </tr>\n",
              "  </tbody>\n",
              "</table>\n",
              "</div>"
            ],
            "text/plain": [
              "       both/test      中文\n",
              "ecfg    1.000000  網路交易註記\n",
              "stscd   1.000000     狀態碼\n",
              "stocn   0.931034   消費地國別"
            ]
          },
          "metadata": {
            "tags": []
          },
          "execution_count": 79
        }
      ]
    },
    {
      "cell_type": "markdown",
      "metadata": {
        "id": "4jPcyEMhiLmk",
        "colab_type": "text"
      },
      "source": [
        "# drop rare features"
      ]
    },
    {
      "cell_type": "code",
      "metadata": {
        "id": "uBn4quHNiLun",
        "colab_type": "code",
        "outputId": "54495d27-4cb4-4bea-fad0-73f836c5a89f",
        "colab": {
          "base_uri": "https://localhost:8080/",
          "height": 52
        }
      },
      "source": [
        "print(len(features))\n",
        "try:\n",
        "  features.remove('bacno')\n",
        "  features.remove('cano')\n",
        "except:\n",
        "  pass\n",
        "print(len(features))"
      ],
      "execution_count": 80,
      "outputs": [
        {
          "output_type": "stream",
          "text": [
            "13\n",
            "13\n"
          ],
          "name": "stdout"
        }
      ]
    },
    {
      "cell_type": "code",
      "metadata": {
        "id": "fa4gU3WSjO6I",
        "colab_type": "code",
        "outputId": "09471a70-b693-4708-bdd3-4b6b3c2a6790",
        "colab": {
          "base_uri": "https://localhost:8080/",
          "height": 52
        }
      },
      "source": [
        "print(len(cat_features))\n",
        "try:\n",
        "  cat_features.remove('bacno')\n",
        "  cat_features.remove('cano')\n",
        "except:\n",
        "  pass\n",
        "print(len(cat_features))"
      ],
      "execution_count": 81,
      "outputs": [
        {
          "output_type": "stream",
          "text": [
            "3\n",
            "3\n"
          ],
          "name": "stdout"
        }
      ]
    },
    {
      "cell_type": "markdown",
      "metadata": {
        "id": "xHokJzdFuyng",
        "colab_type": "text"
      },
      "source": [
        "# 切分 train 跟 val_1 , val_2"
      ]
    },
    {
      "cell_type": "code",
      "metadata": {
        "id": "m_kD9w_fuyvO",
        "colab_type": "code",
        "outputId": "addcec3f-992f-4caf-a4ca-64edb9fa17b3",
        "colab": {
          "base_uri": "https://localhost:8080/",
          "height": 70
        }
      },
      "source": [
        "from sklearn.model_selection import train_test_split\n",
        "train ,val = train_test_split(train[features+[y_name]] ,test_size=0.25 ,random_state=42)\n",
        "val_1 ,val_2 = train_test_split(val[features+[y_name]] ,test_size=0.50 ,random_state=42)\n",
        "print(train.shape)\n",
        "print(val_1.shape)\n",
        "print(val_2.shape)"
      ],
      "execution_count": 82,
      "outputs": [
        {
          "output_type": "stream",
          "text": [
            "(1141340, 14)\n",
            "(190223, 14)\n",
            "(190224, 14)\n"
          ],
          "name": "stdout"
        }
      ]
    },
    {
      "cell_type": "markdown",
      "metadata": {
        "id": "SiMXGBuI9_nh",
        "colab_type": "text"
      },
      "source": [
        "# sklearn配合GridSearch的版本 搜索較優超參數"
      ]
    },
    {
      "cell_type": "code",
      "metadata": {
        "id": "5DW3Xtwd9_x8",
        "colab_type": "code",
        "outputId": "d15d68fe-247a-4e59-a41f-9877a1cfc310",
        "colab": {
          "base_uri": "https://localhost:8080/",
          "height": 568
        }
      },
      "source": [
        "import lightgbm\n",
        "from sklearn.model_selection import GridSearchCV\n",
        "\n",
        "model_lgb = lightgbm.LGBMClassifier(objective = 'cross_entropy',\n",
        "                                    metric = 'cross_entropy',\n",
        "                                    is_unbalance = True,\n",
        "                                    )\n",
        "\n",
        "#調過了\n",
        "params_test1={\n",
        "    'max_depth': range(3,7,2),#樹深度 best 7\n",
        "    'num_leaves':range(7,127,30)#樹的葉子數量 best 2**7-1\n",
        "    }\n",
        "\n",
        "#調過了\n",
        "params_test2={\n",
        "    'feature_fraction': np.arange(0.5,1.0,0.1), #特徵選取比例 best 0.8\n",
        "    'min_child_samples':range(10,60,10) #子節點最小樣本數 best 30\n",
        "    }\n",
        "\n",
        "gsearch = GridSearchCV(estimator = model_lgb,\n",
        "                        param_grid = params_test2,\n",
        "                        scoring = 'f1', #評分指標\n",
        "                        cv = 3, #交叉驗證次數\n",
        "                        verbose = 10,\n",
        "                        n_jobs = -1,\n",
        "                        return_train_score = True,\n",
        "                        )\n",
        "\n",
        "gsearch.fit(train[features],train[y_name])"
      ],
      "execution_count": 83,
      "outputs": [
        {
          "output_type": "stream",
          "text": [
            "Fitting 3 folds for each of 25 candidates, totalling 75 fits\n"
          ],
          "name": "stdout"
        },
        {
          "output_type": "stream",
          "text": [
            "[Parallel(n_jobs=-1)]: Using backend LokyBackend with 4 concurrent workers.\n",
            "[Parallel(n_jobs=-1)]: Done   5 tasks      | elapsed:   41.9s\n",
            "[Parallel(n_jobs=-1)]: Done  10 tasks      | elapsed:  1.0min\n",
            "[Parallel(n_jobs=-1)]: Done  17 tasks      | elapsed:  1.7min\n",
            "[Parallel(n_jobs=-1)]: Done  24 tasks      | elapsed:  2.1min\n",
            "[Parallel(n_jobs=-1)]: Done  33 tasks      | elapsed:  3.1min\n",
            "[Parallel(n_jobs=-1)]: Done  42 tasks      | elapsed:  3.9min\n",
            "[Parallel(n_jobs=-1)]: Done  53 tasks      | elapsed:  4.9min\n",
            "[Parallel(n_jobs=-1)]: Done  64 tasks      | elapsed:  5.8min\n",
            "[Parallel(n_jobs=-1)]: Done  75 out of  75 | elapsed:  6.7min finished\n"
          ],
          "name": "stderr"
        },
        {
          "output_type": "execute_result",
          "data": {
            "text/plain": [
              "GridSearchCV(cv=3, error_score='raise-deprecating',\n",
              "             estimator=LGBMClassifier(boosting_type='gbdt', class_weight=None,\n",
              "                                      colsample_bytree=1.0,\n",
              "                                      importance_type='split',\n",
              "                                      is_unbalance=True, learning_rate=0.1,\n",
              "                                      max_depth=-1, metric='cross_entropy',\n",
              "                                      min_child_samples=20,\n",
              "                                      min_child_weight=0.001,\n",
              "                                      min_split_gain=0.0, n_estimators=100,\n",
              "                                      n_jobs=-1, num_leaves=31,\n",
              "                                      objective='cross_entropy',\n",
              "                                      random_state=None, reg_alpha=0.0,\n",
              "                                      reg_lambda=0.0, silent=True,\n",
              "                                      subsample=1.0, subsample_for_bin=200000,\n",
              "                                      subsample_freq=0),\n",
              "             iid='warn', n_jobs=-1,\n",
              "             param_grid={'feature_fraction': array([0.5, 0.6, 0.7, 0.8, 0.9]),\n",
              "                         'min_child_samples': range(10, 60, 10)},\n",
              "             pre_dispatch='2*n_jobs', refit=True, return_train_score=True,\n",
              "             scoring='f1', verbose=10)"
            ]
          },
          "metadata": {
            "tags": []
          },
          "execution_count": 83
        }
      ]
    },
    {
      "cell_type": "markdown",
      "metadata": {
        "id": "qto-7RcnUGGi",
        "colab_type": "text"
      },
      "source": [
        "# grid search結果"
      ]
    },
    {
      "cell_type": "code",
      "metadata": {
        "id": "3u8Cd3qOMrN9",
        "colab_type": "code",
        "outputId": "8babd58e-e260-4327-a3f7-01f3f52b535c",
        "colab": {
          "base_uri": "https://localhost:8080/",
          "height": 575
        }
      },
      "source": [
        "df_gridsearch = pd.DataFrame(gsearch.cv_results_)\n",
        "max_scores = df_gridsearch.groupby(['param_feature_fraction','param_min_child_samples']).max()\n",
        "max_scores = max_scores.unstack()[['mean_test_score', 'mean_train_score']]\n",
        "\n",
        "sns.heatmap(max_scores.mean_train_score, annot=True, fmt='.4g',cmap='YlGnBu');\n",
        "plt.title('train score')\n",
        "plt.show()\n",
        "\n",
        "sns.heatmap(max_scores.mean_test_score, annot=True, fmt='.4g',cmap='YlGnBu');\n",
        "plt.title('test score')\n",
        "plt.show()"
      ],
      "execution_count": 85,
      "outputs": [
        {
          "output_type": "display_data",
          "data": {
            "image/png": "[encoded data removed]",
            "text/plain": [
              "<Figure size 432x288 with 2 Axes>"
            ]
          },
          "metadata": {
            "tags": []
          }
        },
        {
          "output_type": "display_data",
          "data": {
            "image/png": "[encoded data removed]",
            "text/plain": [
              "<Figure size 432x288 with 2 Axes>"
            ]
          },
          "metadata": {
            "tags": []
          }
        }
      ]
    },
    {
      "cell_type": "markdown",
      "metadata": {
        "id": "Ir_a_KAivH7a",
        "colab_type": "text"
      },
      "source": [
        "# 套用上面找出的較佳超參數 train model"
      ]
    },
    {
      "cell_type": "code",
      "metadata": {
        "id": "a_0lGvw7ALnF",
        "colab_type": "code",
        "outputId": "ef4e781b-b274-4abf-ebe6-f2d574a669a7",
        "colab": {
          "base_uri": "https://localhost:8080/",
          "height": 1000
        }
      },
      "source": [
        "from sklearn.metrics import f1_score\n",
        "import lightgbm\n",
        "import numpy as np\n",
        "\n",
        "# f1 score\n",
        "def lgb_f1_score(y_hat, data):\n",
        "    y_true = data.get_label()\n",
        "    y_hat = np.round(y_hat)\n",
        "    return 'f1', f1_score(y_true, y_hat), True\n",
        "\n",
        "# 定義超參數  \n",
        "parameters = {\n",
        "    'boosting_type':'gbdt',\n",
        "    #'n_estimators':100,\n",
        "    'objective': 'cross_entropy',\n",
        "    'metric': 'cross_entropy',\n",
        "    'num_iterations': 100*3,\n",
        "    'learning_rate': 0.1/2,\n",
        "    'max_depth': 7,\n",
        "    'num_leaves': 2**7-1,\n",
        "    'feature_fraction': 0.8,\n",
        "    'tree_learner': 'data',\n",
        "    \"is_unbalance\": True,\n",
        "    \"early_stopping_round\": 30,\n",
        "    'min_child_samples': 30,\n",
        "    #'min_child_weight': 0.001,\n",
        "    }\n",
        "\n",
        "# train data\n",
        "train_data = lightgbm.Dataset(train[features],label=train[y_name],\n",
        "                              categorical_feature = cat_features)\n",
        "\n",
        "# val_1_data\n",
        "val_1_data = lightgbm.Dataset(val_1[features],label=val_1[y_name],\n",
        "                              categorical_feature = cat_features)\n",
        "\n",
        "# model training\n",
        "evals_result = {}\n",
        "model = lightgbm.train(parameters,\n",
        "                       train_data,\n",
        "                       valid_sets=[val_1_data, train_data],\n",
        "                       valid_names=['val_1','train'], \n",
        "                       feval=lgb_f1_score,\n",
        "                       evals_result=evals_result,\n",
        "                       )\n",
        "\n",
        "# plt f1 metric\n",
        "try:\n",
        "  lightgbm.plot_metric(evals_result, metric='f1')\n",
        "  plt.show()\n",
        "except:\n",
        "  pass\n",
        "\n",
        "# plt features importance & save\n",
        "try:\n",
        "  ax = lightgbm.plot_importance(model, max_num_features=40, figsize=(15,15))\n",
        "  plt.savefig(\"./features_importances.png\")\n",
        "  plt.show()\n",
        "except:\n",
        "  pass\n",
        "\n",
        "# plt tree\n",
        "try:\n",
        "  ax = lightgbm.plot_tree(model,tree_index=3)\n",
        "  plt.show()\n",
        "except:\n",
        "  pass\n",
        "\n",
        "# plt tree_digraph\n",
        "try:\n",
        "  graph = lightgbm.create_tree_digraph(model,tree_index=3)\n",
        "  graph.render(view=True)\n",
        "except:\n",
        "  pass"
      ],
      "execution_count": 86,
      "outputs": [
        {
          "output_type": "stream",
          "text": [
            "[1]\ttrain's xentropy: 0.0562307\ttrain's f1: 0\tval_1's xentropy: 0.0563429\tval_1's f1: 0\n",
            "Training until validation scores don't improve for 30 rounds.\n",
            "[2]\ttrain's xentropy: 0.0534821\ttrain's f1: 0\tval_1's xentropy: 0.0536745\tval_1's f1: 0\n",
            "[3]\ttrain's xentropy: 0.0510323\ttrain's f1: 0.000130941\tval_1's xentropy: 0.051319\tval_1's f1: 0.000786782\n",
            "[4]\ttrain's xentropy: 0.0491242\ttrain's f1: 0.00808608\tval_1's xentropy: 0.0494735\tval_1's f1: 0.00784006\n",
            "[5]\ttrain's xentropy: 0.047507\ttrain's f1: 0.0221402\tval_1's xentropy: 0.0479078\tval_1's f1: 0.0194704\n",
            "[6]\ttrain's xentropy: 0.0461557\ttrain's f1: 0.0268595\tval_1's xentropy: 0.0466181\tval_1's f1: 0.02331\n",
            "[7]\ttrain's xentropy: 0.0449483\ttrain's f1: 0.0313043\tval_1's xentropy: 0.0454355\tval_1's f1: 0.0301391\n",
            "[8]\ttrain's xentropy: 0.0438641\ttrain's f1: 0.0441148\tval_1's xentropy: 0.0443718\tval_1's f1: 0.0504202\n",
            "[9]\ttrain's xentropy: 0.0429093\ttrain's f1: 0.0598339\tval_1's xentropy: 0.043436\tval_1's f1: 0.071644\n",
            "[10]\ttrain's xentropy: 0.0420747\ttrain's f1: 0.0765514\tval_1's xentropy: 0.0426194\tval_1's f1: 0.0952381\n",
            "[11]\ttrain's xentropy: 0.0412927\ttrain's f1: 0.116155\tval_1's xentropy: 0.0418556\tval_1's f1: 0.128774\n",
            "[12]\ttrain's xentropy: 0.0406008\ttrain's f1: 0.134842\tval_1's xentropy: 0.0411867\tval_1's f1: 0.144761\n",
            "[13]\ttrain's xentropy: 0.039954\ttrain's f1: 0.141739\tval_1's xentropy: 0.0405554\tval_1's f1: 0.150592\n",
            "[14]\ttrain's xentropy: 0.0393719\ttrain's f1: 0.205586\tval_1's xentropy: 0.0399922\tval_1's f1: 0.199931\n",
            "[15]\ttrain's xentropy: 0.0388492\ttrain's f1: 0.23203\tval_1's xentropy: 0.0394905\tval_1's f1: 0.217391\n",
            "[16]\ttrain's xentropy: 0.0383553\ttrain's f1: 0.318141\tval_1's xentropy: 0.0390116\tval_1's f1: 0.302837\n",
            "[17]\ttrain's xentropy: 0.0379077\ttrain's f1: 0.326651\tval_1's xentropy: 0.0385833\tval_1's f1: 0.314593\n",
            "[18]\ttrain's xentropy: 0.0374779\ttrain's f1: 0.329233\tval_1's xentropy: 0.0381725\tval_1's f1: 0.317781\n",
            "[19]\ttrain's xentropy: 0.0370843\ttrain's f1: 0.336043\tval_1's xentropy: 0.0377887\tval_1's f1: 0.324341\n",
            "[20]\ttrain's xentropy: 0.0367144\ttrain's f1: 0.340036\tval_1's xentropy: 0.0374315\tval_1's f1: 0.327807\n",
            "[21]\ttrain's xentropy: 0.0363629\ttrain's f1: 0.347003\tval_1's xentropy: 0.0370844\tval_1's f1: 0.33489\n",
            "[22]\ttrain's xentropy: 0.036046\ttrain's f1: 0.357381\tval_1's xentropy: 0.0367852\tval_1's f1: 0.344977\n",
            "[23]\ttrain's xentropy: 0.0357463\ttrain's f1: 0.376897\tval_1's xentropy: 0.0365037\tval_1's f1: 0.367558\n",
            "[24]\ttrain's xentropy: 0.035458\ttrain's f1: 0.381101\tval_1's xentropy: 0.0362323\tval_1's f1: 0.370953\n",
            "[25]\ttrain's xentropy: 0.035178\ttrain's f1: 0.38753\tval_1's xentropy: 0.035955\tval_1's f1: 0.376244\n",
            "[26]\ttrain's xentropy: 0.0349171\ttrain's f1: 0.394519\tval_1's xentropy: 0.0356937\tval_1's f1: 0.38215\n",
            "[27]\ttrain's xentropy: 0.034682\ttrain's f1: 0.401327\tval_1's xentropy: 0.0354677\tval_1's f1: 0.388476\n",
            "[28]\ttrain's xentropy: 0.0344698\ttrain's f1: 0.406248\tval_1's xentropy: 0.035263\tval_1's f1: 0.392076\n",
            "[29]\ttrain's xentropy: 0.0342649\ttrain's f1: 0.410578\tval_1's xentropy: 0.0350736\tval_1's f1: 0.396349\n",
            "[30]\ttrain's xentropy: 0.0340562\ttrain's f1: 0.420069\tval_1's xentropy: 0.034885\tval_1's f1: 0.407245\n",
            "[31]\ttrain's xentropy: 0.0338702\ttrain's f1: 0.424633\tval_1's xentropy: 0.0347101\tval_1's f1: 0.413613\n",
            "[32]\ttrain's xentropy: 0.0336952\ttrain's f1: 0.42811\tval_1's xentropy: 0.0345428\tval_1's f1: 0.416111\n",
            "[33]\ttrain's xentropy: 0.0335334\ttrain's f1: 0.433369\tval_1's xentropy: 0.0343787\tval_1's f1: 0.420992\n",
            "[34]\ttrain's xentropy: 0.0333781\ttrain's f1: 0.43608\tval_1's xentropy: 0.0342318\tval_1's f1: 0.424016\n",
            "[35]\ttrain's xentropy: 0.0332365\ttrain's f1: 0.438671\tval_1's xentropy: 0.0341003\tval_1's f1: 0.426201\n",
            "[36]\ttrain's xentropy: 0.0330995\ttrain's f1: 0.442738\tval_1's xentropy: 0.0339747\tval_1's f1: 0.430848\n",
            "[37]\ttrain's xentropy: 0.0329702\ttrain's f1: 0.446344\tval_1's xentropy: 0.033861\tval_1's f1: 0.433919\n",
            "[38]\ttrain's xentropy: 0.0328526\ttrain's f1: 0.453088\tval_1's xentropy: 0.0337412\tval_1's f1: 0.441697\n",
            "[39]\ttrain's xentropy: 0.0327326\ttrain's f1: 0.45523\tval_1's xentropy: 0.0336284\tval_1's f1: 0.446809\n",
            "[40]\ttrain's xentropy: 0.0326292\ttrain's f1: 0.457614\tval_1's xentropy: 0.0335299\tval_1's f1: 0.449037\n",
            "[41]\ttrain's xentropy: 0.0325106\ttrain's f1: 0.460716\tval_1's xentropy: 0.0334202\tval_1's f1: 0.451253\n",
            "[42]\ttrain's xentropy: 0.0323984\ttrain's f1: 0.463549\tval_1's xentropy: 0.033316\tval_1's f1: 0.452295\n",
            "[43]\ttrain's xentropy: 0.0322949\ttrain's f1: 0.467987\tval_1's xentropy: 0.0332215\tval_1's f1: 0.454192\n",
            "[44]\ttrain's xentropy: 0.032195\ttrain's f1: 0.468999\tval_1's xentropy: 0.033122\tval_1's f1: 0.456335\n",
            "[45]\ttrain's xentropy: 0.0321047\ttrain's f1: 0.471406\tval_1's xentropy: 0.0330397\tval_1's f1: 0.457791\n",
            "[46]\ttrain's xentropy: 0.0320125\ttrain's f1: 0.473334\tval_1's xentropy: 0.0329595\tval_1's f1: 0.458817\n",
            "[47]\ttrain's xentropy: 0.0319377\ttrain's f1: 0.475081\tval_1's xentropy: 0.0328831\tval_1's f1: 0.461114\n",
            "[48]\ttrain's xentropy: 0.0318474\ttrain's f1: 0.47619\tval_1's xentropy: 0.0327999\tval_1's f1: 0.461708\n",
            "[49]\ttrain's xentropy: 0.0317604\ttrain's f1: 0.477871\tval_1's xentropy: 0.0327216\tval_1's f1: 0.464374\n",
            "[50]\ttrain's xentropy: 0.0316992\ttrain's f1: 0.479269\tval_1's xentropy: 0.0326575\tval_1's f1: 0.466062\n",
            "[51]\ttrain's xentropy: 0.0316336\ttrain's f1: 0.480299\tval_1's xentropy: 0.0325904\tval_1's f1: 0.468038\n",
            "[52]\ttrain's xentropy: 0.031573\ttrain's f1: 0.481483\tval_1's xentropy: 0.0325339\tval_1's f1: 0.469298\n",
            "[53]\ttrain's xentropy: 0.0315037\ttrain's f1: 0.482458\tval_1's xentropy: 0.0324715\tval_1's f1: 0.469784\n",
            "[54]\ttrain's xentropy: 0.0314529\ttrain's f1: 0.483231\tval_1's xentropy: 0.0324206\tval_1's f1: 0.47091\n",
            "[55]\ttrain's xentropy: 0.0314045\ttrain's f1: 0.484362\tval_1's xentropy: 0.0323715\tval_1's f1: 0.472321\n",
            "[56]\ttrain's xentropy: 0.0313472\ttrain's f1: 0.48503\tval_1's xentropy: 0.032318\tval_1's f1: 0.472608\n",
            "[57]\ttrain's xentropy: 0.0312945\ttrain's f1: 0.486061\tval_1's xentropy: 0.0322593\tval_1's f1: 0.47344\n",
            "[58]\ttrain's xentropy: 0.0312407\ttrain's f1: 0.486638\tval_1's xentropy: 0.0322028\tval_1's f1: 0.473727\n",
            "[59]\ttrain's xentropy: 0.0311795\ttrain's f1: 0.488168\tval_1's xentropy: 0.0321375\tval_1's f1: 0.475102\n",
            "[60]\ttrain's xentropy: 0.0311275\ttrain's f1: 0.490799\tval_1's xentropy: 0.0320856\tval_1's f1: 0.476785\n",
            "[61]\ttrain's xentropy: 0.0310826\ttrain's f1: 0.491797\tval_1's xentropy: 0.0320483\tval_1's f1: 0.477458\n",
            "[62]\ttrain's xentropy: 0.0310359\ttrain's f1: 0.493297\tval_1's xentropy: 0.0320037\tval_1's f1: 0.478438\n",
            "[63]\ttrain's xentropy: 0.0309815\ttrain's f1: 0.494656\tval_1's xentropy: 0.0319485\tval_1's f1: 0.479719\n",
            "[64]\ttrain's xentropy: 0.0309477\ttrain's f1: 0.494637\tval_1's xentropy: 0.0319179\tval_1's f1: 0.479741\n",
            "[65]\ttrain's xentropy: 0.0309139\ttrain's f1: 0.496413\tval_1's xentropy: 0.0318861\tval_1's f1: 0.480432\n",
            "[66]\ttrain's xentropy: 0.0308777\ttrain's f1: 0.496211\tval_1's xentropy: 0.0318585\tval_1's f1: 0.480302\n",
            "[67]\ttrain's xentropy: 0.0308465\ttrain's f1: 0.49711\tval_1's xentropy: 0.0318253\tval_1's f1: 0.480302\n",
            "[68]\ttrain's xentropy: 0.030816\ttrain's f1: 0.497806\tval_1's xentropy: 0.0317925\tval_1's f1: 0.480712\n",
            "[69]\ttrain's xentropy: 0.0307781\ttrain's f1: 0.498568\tval_1's xentropy: 0.0317573\tval_1's f1: 0.480863\n",
            "[70]\ttrain's xentropy: 0.0307491\ttrain's f1: 0.498814\tval_1's xentropy: 0.0317332\tval_1's f1: 0.481142\n",
            "[71]\ttrain's xentropy: 0.030714\ttrain's f1: 0.500402\tval_1's xentropy: 0.031702\tval_1's f1: 0.481402\n",
            "[72]\ttrain's xentropy: 0.0306843\ttrain's f1: 0.500536\tval_1's xentropy: 0.0316745\tval_1's f1: 0.482071\n",
            "[73]\ttrain's xentropy: 0.0306522\ttrain's f1: 0.501274\tval_1's xentropy: 0.0316386\tval_1's f1: 0.48235\n",
            "[74]\ttrain's xentropy: 0.0306243\ttrain's f1: 0.502945\tval_1's xentropy: 0.0316156\tval_1's f1: 0.483576\n",
            "[75]\ttrain's xentropy: 0.030602\ttrain's f1: 0.503101\tval_1's xentropy: 0.0315848\tval_1's f1: 0.483576\n",
            "[76]\ttrain's xentropy: 0.0305659\ttrain's f1: 0.504147\tval_1's xentropy: 0.0315508\tval_1's f1: 0.4848\n",
            "[77]\ttrain's xentropy: 0.0305384\ttrain's f1: 0.504434\tval_1's xentropy: 0.0315239\tval_1's f1: 0.486167\n",
            "[78]\ttrain's xentropy: 0.0305102\ttrain's f1: 0.505388\tval_1's xentropy: 0.0314956\tval_1's f1: 0.487386\n",
            "[79]\ttrain's xentropy: 0.0304909\ttrain's f1: 0.505474\tval_1's xentropy: 0.0314794\tval_1's f1: 0.486849\n",
            "[80]\ttrain's xentropy: 0.0304658\ttrain's f1: 0.505983\tval_1's xentropy: 0.0314544\tval_1's f1: 0.487399\n",
            "[81]\ttrain's xentropy: 0.0304242\ttrain's f1: 0.507422\tval_1's xentropy: 0.0314213\tval_1's f1: 0.488627\n",
            "[82]\ttrain's xentropy: 0.0304112\ttrain's f1: 0.507666\tval_1's xentropy: 0.0314088\tval_1's f1: 0.488497\n",
            "[83]\ttrain's xentropy: 0.0303862\ttrain's f1: 0.508438\tval_1's xentropy: 0.0313829\tval_1's f1: 0.490102\n",
            "[84]\ttrain's xentropy: 0.0303687\ttrain's f1: 0.508526\tval_1's xentropy: 0.0313633\tval_1's f1: 0.489971\n",
            "[85]\ttrain's xentropy: 0.0303511\ttrain's f1: 0.508879\tval_1's xentropy: 0.0313542\tval_1's f1: 0.490102\n",
            "[86]\ttrain's xentropy: 0.0303259\ttrain's f1: 0.509076\tval_1's xentropy: 0.0313289\tval_1's f1: 0.489567\n",
            "[87]\ttrain's xentropy: 0.0303097\ttrain's f1: 0.509804\tval_1's xentropy: 0.0313126\tval_1's f1: 0.490778\n",
            "[88]\ttrain's xentropy: 0.0302901\ttrain's f1: 0.50987\tval_1's xentropy: 0.031299\tval_1's f1: 0.490647\n",
            "[89]\ttrain's xentropy: 0.0302725\ttrain's f1: 0.5102\tval_1's xentropy: 0.0312876\tval_1's f1: 0.490254\n",
            "[90]\ttrain's xentropy: 0.0302439\ttrain's f1: 0.510987\tval_1's xentropy: 0.0312688\tval_1's f1: 0.491864\n",
            "[91]\ttrain's xentropy: 0.0302251\ttrain's f1: 0.511424\tval_1's xentropy: 0.0312565\tval_1's f1: 0.491471\n",
            "[92]\ttrain's xentropy: 0.0302052\ttrain's f1: 0.512732\tval_1's xentropy: 0.0312392\tval_1's f1: 0.493085\n",
            "[93]\ttrain's xentropy: 0.0301805\ttrain's f1: 0.513421\tval_1's xentropy: 0.0312227\tval_1's f1: 0.492676\n",
            "[94]\ttrain's xentropy: 0.0301588\ttrain's f1: 0.513823\tval_1's xentropy: 0.0312063\tval_1's f1: 0.493735\n",
            "[95]\ttrain's xentropy: 0.030127\ttrain's f1: 0.516803\tval_1's xentropy: 0.0311784\tval_1's f1: 0.498009\n",
            "[96]\ttrain's xentropy: 0.030102\ttrain's f1: 0.517451\tval_1's xentropy: 0.0311666\tval_1's f1: 0.498674\n",
            "[97]\ttrain's xentropy: 0.0300786\ttrain's f1: 0.518349\tval_1's xentropy: 0.0311492\tval_1's f1: 0.49894\n",
            "[98]\ttrain's xentropy: 0.0300503\ttrain's f1: 0.519041\tval_1's xentropy: 0.0311341\tval_1's f1: 0.499205\n",
            "[99]\ttrain's xentropy: 0.0300225\ttrain's f1: 0.519188\tval_1's xentropy: 0.0311137\tval_1's f1: 0.499603\n",
            "[100]\ttrain's xentropy: 0.0299938\ttrain's f1: 0.519958\tval_1's xentropy: 0.031098\tval_1's f1: 0.499735\n",
            "[101]\ttrain's xentropy: 0.0299797\ttrain's f1: 0.520111\tval_1's xentropy: 0.0310912\tval_1's f1: 0.500132\n",
            "[102]\ttrain's xentropy: 0.0299647\ttrain's f1: 0.520245\tval_1's xentropy: 0.0310832\tval_1's f1: 0.499603\n",
            "[103]\ttrain's xentropy: 0.0299469\ttrain's f1: 0.521609\tval_1's xentropy: 0.031069\tval_1's f1: 0.501587\n",
            "[104]\ttrain's xentropy: 0.0299129\ttrain's f1: 0.52271\tval_1's xentropy: 0.0310448\tval_1's f1: 0.502249\n",
            "[105]\ttrain's xentropy: 0.0298899\ttrain's f1: 0.522745\tval_1's xentropy: 0.0310303\tval_1's f1: 0.502382\n",
            "[106]\ttrain's xentropy: 0.029865\ttrain's f1: 0.523177\tval_1's xentropy: 0.0310114\tval_1's f1: 0.501853\n",
            "[107]\ttrain's xentropy: 0.0298413\ttrain's f1: 0.523372\tval_1's xentropy: 0.0309929\tval_1's f1: 0.502779\n",
            "[108]\ttrain's xentropy: 0.0298229\ttrain's f1: 0.523594\tval_1's xentropy: 0.0309803\tval_1's f1: 0.50357\n",
            "[109]\ttrain's xentropy: 0.0297966\ttrain's f1: 0.524845\tval_1's xentropy: 0.0309568\tval_1's f1: 0.50357\n",
            "[110]\ttrain's xentropy: 0.0297696\ttrain's f1: 0.525539\tval_1's xentropy: 0.0309393\tval_1's f1: 0.503175\n",
            "[111]\ttrain's xentropy: 0.0297512\ttrain's f1: 0.526094\tval_1's xentropy: 0.0309236\tval_1's f1: 0.503304\n",
            "[112]\ttrain's xentropy: 0.0297301\ttrain's f1: 0.52693\tval_1's xentropy: 0.0309105\tval_1's f1: 0.50449\n",
            "[113]\ttrain's xentropy: 0.0297141\ttrain's f1: 0.527105\tval_1's xentropy: 0.0309008\tval_1's f1: 0.50449\n",
            "[114]\ttrain's xentropy: 0.029694\ttrain's f1: 0.527839\tval_1's xentropy: 0.0308834\tval_1's f1: 0.50449\n",
            "[115]\ttrain's xentropy: 0.0296721\ttrain's f1: 0.528272\tval_1's xentropy: 0.0308701\tval_1's f1: 0.504752\n",
            "[116]\ttrain's xentropy: 0.0296581\ttrain's f1: 0.528912\tval_1's xentropy: 0.030863\tval_1's f1: 0.505146\n",
            "[117]\ttrain's xentropy: 0.0296464\ttrain's f1: 0.52917\tval_1's xentropy: 0.0308564\tval_1's f1: 0.505274\n",
            "[118]\ttrain's xentropy: 0.0296306\ttrain's f1: 0.529615\tval_1's xentropy: 0.0308427\tval_1's f1: 0.506463\n",
            "[119]\ttrain's xentropy: 0.0296193\ttrain's f1: 0.529721\tval_1's xentropy: 0.0308358\tval_1's f1: 0.506329\n",
            "[120]\ttrain's xentropy: 0.0295998\ttrain's f1: 0.52909\tval_1's xentropy: 0.0308278\tval_1's f1: 0.506202\n",
            "[121]\ttrain's xentropy: 0.029584\ttrain's f1: 0.529453\tval_1's xentropy: 0.0308205\tval_1's f1: 0.506329\n",
            "[122]\ttrain's xentropy: 0.0295604\ttrain's f1: 0.529839\tval_1's xentropy: 0.0308072\tval_1's f1: 0.507652\n",
            "[123]\ttrain's xentropy: 0.0295382\ttrain's f1: 0.530114\tval_1's xentropy: 0.0307961\tval_1's f1: 0.507911\n",
            "[124]\ttrain's xentropy: 0.0295163\ttrain's f1: 0.53116\tval_1's xentropy: 0.030785\tval_1's f1: 0.510279\n",
            "[125]\ttrain's xentropy: 0.0295004\ttrain's f1: 0.53137\tval_1's xentropy: 0.0307735\tval_1's f1: 0.510145\n",
            "[126]\ttrain's xentropy: 0.0294813\ttrain's f1: 0.531661\tval_1's xentropy: 0.0307592\tval_1's f1: 0.510279\n",
            "[127]\ttrain's xentropy: 0.0294676\ttrain's f1: 0.532028\tval_1's xentropy: 0.0307454\tval_1's f1: 0.509752\n",
            "[128]\ttrain's xentropy: 0.0294554\ttrain's f1: 0.53239\tval_1's xentropy: 0.0307377\tval_1's f1: 0.509618\n",
            "[129]\ttrain's xentropy: 0.029435\ttrain's f1: 0.532646\tval_1's xentropy: 0.0307316\tval_1's f1: 0.509763\n",
            "[130]\ttrain's xentropy: 0.0294231\ttrain's f1: 0.532821\tval_1's xentropy: 0.0307205\tval_1's f1: 0.510156\n",
            "[131]\ttrain's xentropy: 0.0293913\ttrain's f1: 0.533543\tval_1's xentropy: 0.0306996\tval_1's f1: 0.510549\n",
            "[132]\ttrain's xentropy: 0.0293802\ttrain's f1: 0.533922\tval_1's xentropy: 0.030689\tval_1's f1: 0.510549\n",
            "[133]\ttrain's xentropy: 0.0293719\ttrain's f1: 0.533555\tval_1's xentropy: 0.0306872\tval_1's f1: 0.510549\n",
            "[134]\ttrain's xentropy: 0.0293593\ttrain's f1: 0.534207\tval_1's xentropy: 0.0306781\tval_1's f1: 0.511468\n",
            "[135]\ttrain's xentropy: 0.0293327\ttrain's f1: 0.534615\tval_1's xentropy: 0.030664\tval_1's f1: 0.511468\n",
            "[136]\ttrain's xentropy: 0.0293213\ttrain's f1: 0.53515\tval_1's xentropy: 0.0306543\tval_1's f1: 0.511468\n",
            "[137]\ttrain's xentropy: 0.029311\ttrain's f1: 0.535231\tval_1's xentropy: 0.0306479\tval_1's f1: 0.510807\n",
            "[138]\ttrain's xentropy: 0.0292895\ttrain's f1: 0.536164\tval_1's xentropy: 0.0306291\tval_1's f1: 0.512118\n",
            "[139]\ttrain's xentropy: 0.0292612\ttrain's f1: 0.536564\tval_1's xentropy: 0.0306082\tval_1's f1: 0.512497\n",
            "[140]\ttrain's xentropy: 0.0292512\ttrain's f1: 0.536907\tval_1's xentropy: 0.0306039\tval_1's f1: 0.512618\n",
            "[141]\ttrain's xentropy: 0.0292329\ttrain's f1: 0.537454\tval_1's xentropy: 0.0305878\tval_1's f1: 0.513535\n",
            "[142]\ttrain's xentropy: 0.029209\ttrain's f1: 0.537501\tval_1's xentropy: 0.0305716\tval_1's f1: 0.513144\n",
            "[143]\ttrain's xentropy: 0.0291942\ttrain's f1: 0.538428\tval_1's xentropy: 0.0305608\tval_1's f1: 0.514316\n",
            "[144]\ttrain's xentropy: 0.0291692\ttrain's f1: 0.53877\tval_1's xentropy: 0.030547\tval_1's f1: 0.514961\n",
            "[145]\ttrain's xentropy: 0.0291545\ttrain's f1: 0.538824\tval_1's xentropy: 0.0305372\tval_1's f1: 0.514841\n",
            "[146]\ttrain's xentropy: 0.0291254\ttrain's f1: 0.54042\tval_1's xentropy: 0.0305117\tval_1's f1: 0.515112\n",
            "[147]\ttrain's xentropy: 0.0291047\ttrain's f1: 0.540373\tval_1's xentropy: 0.0304997\tval_1's f1: 0.515366\n",
            "[148]\ttrain's xentropy: 0.029098\ttrain's f1: 0.540427\tval_1's xentropy: 0.030493\tval_1's f1: 0.515892\n",
            "[149]\ttrain's xentropy: 0.0290743\ttrain's f1: 0.540498\tval_1's xentropy: 0.0304739\tval_1's f1: 0.516027\n",
            "[150]\ttrain's xentropy: 0.0290493\ttrain's f1: 0.541205\tval_1's xentropy: 0.0304602\tval_1's f1: 0.516553\n",
            "[151]\ttrain's xentropy: 0.0290321\ttrain's f1: 0.541632\tval_1's xentropy: 0.0304532\tval_1's f1: 0.516027\n",
            "[152]\ttrain's xentropy: 0.0290252\ttrain's f1: 0.541569\tval_1's xentropy: 0.0304488\tval_1's f1: 0.516553\n",
            "[153]\ttrain's xentropy: 0.0290168\ttrain's f1: 0.541759\tval_1's xentropy: 0.0304406\tval_1's f1: 0.517078\n",
            "[154]\ttrain's xentropy: 0.0289971\ttrain's f1: 0.542163\tval_1's xentropy: 0.0304328\tval_1's f1: 0.516689\n",
            "[155]\ttrain's xentropy: 0.0289817\ttrain's f1: 0.542185\tval_1's xentropy: 0.0304218\tval_1's f1: 0.51735\n",
            "[156]\ttrain's xentropy: 0.0289626\ttrain's f1: 0.542574\tval_1's xentropy: 0.0304095\tval_1's f1: 0.517486\n",
            "[157]\ttrain's xentropy: 0.0289491\ttrain's f1: 0.543352\tval_1's xentropy: 0.0303994\tval_1's f1: 0.517232\n",
            "[158]\ttrain's xentropy: 0.0289317\ttrain's f1: 0.544574\tval_1's xentropy: 0.0303837\tval_1's f1: 0.518148\n",
            "[159]\ttrain's xentropy: 0.0289056\ttrain's f1: 0.54505\tval_1's xentropy: 0.0303601\tval_1's f1: 0.518927\n",
            "[160]\ttrain's xentropy: 0.0288992\ttrain's f1: 0.545169\tval_1's xentropy: 0.0303548\tval_1's f1: 0.518927\n",
            "[161]\ttrain's xentropy: 0.0288772\ttrain's f1: 0.545645\tval_1's xentropy: 0.0303428\tval_1's f1: 0.519569\n",
            "[162]\ttrain's xentropy: 0.0288613\ttrain's f1: 0.54574\tval_1's xentropy: 0.0303289\tval_1's f1: 0.520598\n",
            "[163]\ttrain's xentropy: 0.0288422\ttrain's f1: 0.545732\tval_1's xentropy: 0.0303143\tval_1's f1: 0.521008\n",
            "[164]\ttrain's xentropy: 0.02883\ttrain's f1: 0.546112\tval_1's xentropy: 0.0303069\tval_1's f1: 0.52256\n",
            "[165]\ttrain's xentropy: 0.0288173\ttrain's f1: 0.546571\tval_1's xentropy: 0.030298\tval_1's f1: 0.522537\n",
            "[166]\ttrain's xentropy: 0.0287997\ttrain's f1: 0.546508\tval_1's xentropy: 0.0302879\tval_1's f1: 0.522787\n",
            "[167]\ttrain's xentropy: 0.0287765\ttrain's f1: 0.547323\tval_1's xentropy: 0.0302669\tval_1's f1: 0.523697\n",
            "[168]\ttrain's xentropy: 0.0287526\ttrain's f1: 0.547679\tval_1's xentropy: 0.0302504\tval_1's f1: 0.523448\n",
            "[169]\ttrain's xentropy: 0.0287358\ttrain's f1: 0.54756\tval_1's xentropy: 0.0302357\tval_1's f1: 0.523311\n",
            "[170]\ttrain's xentropy: 0.0287201\ttrain's f1: 0.548643\tval_1's xentropy: 0.030226\tval_1's f1: 0.52356\n",
            "[171]\ttrain's xentropy: 0.028697\ttrain's f1: 0.549165\tval_1's xentropy: 0.0302068\tval_1's f1: 0.523947\n",
            "[172]\ttrain's xentropy: 0.0286826\ttrain's f1: 0.549772\tval_1's xentropy: 0.030197\tval_1's f1: 0.523673\n",
            "[173]\ttrain's xentropy: 0.028675\ttrain's f1: 0.549763\tval_1's xentropy: 0.0301914\tval_1's f1: 0.52356\n",
            "[174]\ttrain's xentropy: 0.0286676\ttrain's f1: 0.550087\tval_1's xentropy: 0.0301877\tval_1's f1: 0.524333\n",
            "[175]\ttrain's xentropy: 0.0286558\ttrain's f1: 0.550813\tval_1's xentropy: 0.03018\tval_1's f1: 0.523947\n",
            "[176]\ttrain's xentropy: 0.02865\ttrain's f1: 0.550759\tval_1's xentropy: 0.0301757\tval_1's f1: 0.524084\n",
            "[177]\ttrain's xentropy: 0.028634\ttrain's f1: 0.551152\tval_1's xentropy: 0.0301644\tval_1's f1: 0.526013\n",
            "[178]\ttrain's xentropy: 0.0286226\ttrain's f1: 0.551382\tval_1's xentropy: 0.0301571\tval_1's f1: 0.526288\n",
            "[179]\ttrain's xentropy: 0.0286158\ttrain's f1: 0.551934\tval_1's xentropy: 0.0301514\tval_1's f1: 0.526288\n",
            "[180]\ttrain's xentropy: 0.0286014\ttrain's f1: 0.551769\tval_1's xentropy: 0.0301453\tval_1's f1: 0.526288\n",
            "[181]\ttrain's xentropy: 0.0285939\ttrain's f1: 0.552036\tval_1's xentropy: 0.0301376\tval_1's f1: 0.526536\n",
            "[182]\ttrain's xentropy: 0.0285902\ttrain's f1: 0.551958\tval_1's xentropy: 0.0301336\tval_1's f1: 0.526921\n",
            "[183]\ttrain's xentropy: 0.0285814\ttrain's f1: 0.5525\tval_1's xentropy: 0.030128\tval_1's f1: 0.527306\n",
            "[184]\ttrain's xentropy: 0.0285752\ttrain's f1: 0.552437\tval_1's xentropy: 0.0301227\tval_1's f1: 0.527306\n",
            "[185]\ttrain's xentropy: 0.0285628\ttrain's f1: 0.552515\tval_1's xentropy: 0.0301159\tval_1's f1: 0.527691\n",
            "[186]\ttrain's xentropy: 0.028552\ttrain's f1: 0.553341\tval_1's xentropy: 0.0301095\tval_1's f1: 0.5278\n",
            "[187]\ttrain's xentropy: 0.0285388\ttrain's f1: 0.554008\tval_1's xentropy: 0.0301015\tval_1's f1: 0.528046\n",
            "[188]\ttrain's xentropy: 0.0285286\ttrain's f1: 0.5542\tval_1's xentropy: 0.0300952\tval_1's f1: 0.528844\n",
            "[189]\ttrain's xentropy: 0.0285136\ttrain's f1: 0.554388\tval_1's xentropy: 0.0300873\tval_1's f1: 0.528844\n",
            "[190]\ttrain's xentropy: 0.0284944\ttrain's f1: 0.554167\tval_1's xentropy: 0.0300811\tval_1's f1: 0.528598\n",
            "[191]\ttrain's xentropy: 0.0284865\ttrain's f1: 0.554137\tval_1's xentropy: 0.0300797\tval_1's f1: 0.528598\n",
            "[192]\ttrain's xentropy: 0.0284692\ttrain's f1: 0.554137\tval_1's xentropy: 0.030064\tval_1's f1: 0.528598\n",
            "[193]\ttrain's xentropy: 0.028465\ttrain's f1: 0.554577\tval_1's xentropy: 0.0300629\tval_1's f1: 0.529504\n",
            "[194]\ttrain's xentropy: 0.0284585\ttrain's f1: 0.554296\tval_1's xentropy: 0.030059\tval_1's f1: 0.529535\n",
            "[195]\ttrain's xentropy: 0.0284474\ttrain's f1: 0.554272\tval_1's xentropy: 0.0300519\tval_1's f1: 0.529535\n",
            "[196]\ttrain's xentropy: 0.0284377\ttrain's f1: 0.555232\tval_1's xentropy: 0.0300483\tval_1's f1: 0.529535\n",
            "[197]\ttrain's xentropy: 0.0284281\ttrain's f1: 0.555406\tval_1's xentropy: 0.0300394\tval_1's f1: 0.529535\n",
            "[198]\ttrain's xentropy: 0.0284185\ttrain's f1: 0.556197\tval_1's xentropy: 0.030036\tval_1's f1: 0.529535\n",
            "[199]\ttrain's xentropy: 0.0284054\ttrain's f1: 0.55636\tval_1's xentropy: 0.0300272\tval_1's f1: 0.529535\n",
            "[200]\ttrain's xentropy: 0.0283916\ttrain's f1: 0.557059\tval_1's xentropy: 0.0300153\tval_1's f1: 0.530687\n",
            "[201]\ttrain's xentropy: 0.0283775\ttrain's f1: 0.557972\tval_1's xentropy: 0.0300042\tval_1's f1: 0.530932\n",
            "[202]\ttrain's xentropy: 0.0283541\ttrain's f1: 0.558587\tval_1's xentropy: 0.0299878\tval_1's f1: 0.53156\n",
            "[203]\ttrain's xentropy: 0.0283452\ttrain's f1: 0.558587\tval_1's xentropy: 0.0299857\tval_1's f1: 0.53156\n",
            "[204]\ttrain's xentropy: 0.0283383\ttrain's f1: 0.558635\tval_1's xentropy: 0.029982\tval_1's f1: 0.532081\n",
            "[205]\ttrain's xentropy: 0.0283159\ttrain's f1: 0.559356\tval_1's xentropy: 0.029963\tval_1's f1: 0.532325\n",
            "[206]\ttrain's xentropy: 0.0283066\ttrain's f1: 0.559494\tval_1's xentropy: 0.0299573\tval_1's f1: 0.531943\n",
            "[207]\ttrain's xentropy: 0.0282963\ttrain's f1: 0.559681\tval_1's xentropy: 0.0299463\tval_1's f1: 0.532081\n",
            "[208]\ttrain's xentropy: 0.0282807\ttrain's f1: 0.559293\tval_1's xentropy: 0.0299297\tval_1's f1: 0.532325\n",
            "[209]\ttrain's xentropy: 0.0282552\ttrain's f1: 0.560951\tval_1's xentropy: 0.0299074\tval_1's f1: 0.533472\n",
            "[210]\ttrain's xentropy: 0.0282402\ttrain's f1: 0.561784\tval_1's xentropy: 0.0298965\tval_1's f1: 0.532951\n",
            "[211]\ttrain's xentropy: 0.0282284\ttrain's f1: 0.562551\tval_1's xentropy: 0.0298871\tval_1's f1: 0.534757\n",
            "[212]\ttrain's xentropy: 0.0282213\ttrain's f1: 0.562973\tval_1's xentropy: 0.0298847\tval_1's f1: 0.534375\n",
            "[213]\ttrain's xentropy: 0.0282072\ttrain's f1: 0.564857\tval_1's xentropy: 0.0298757\tval_1's f1: 0.535138\n",
            "[214]\ttrain's xentropy: 0.0281928\ttrain's f1: 0.564844\tval_1's xentropy: 0.0298637\tval_1's f1: 0.534999\n",
            "[215]\ttrain's xentropy: 0.0281837\ttrain's f1: 0.564968\tval_1's xentropy: 0.029861\tval_1's f1: 0.534999\n",
            "[216]\ttrain's xentropy: 0.0281648\ttrain's f1: 0.56551\tval_1's xentropy: 0.0298475\tval_1's f1: 0.53486\n",
            "[217]\ttrain's xentropy: 0.0281595\ttrain's f1: 0.566153\tval_1's xentropy: 0.0298433\tval_1's f1: 0.534999\n",
            "[218]\ttrain's xentropy: 0.0281514\ttrain's f1: 0.566635\tval_1's xentropy: 0.029841\tval_1's f1: 0.53486\n",
            "[219]\ttrain's xentropy: 0.0281427\ttrain's f1: 0.566264\tval_1's xentropy: 0.0298349\tval_1's f1: 0.533576\n",
            "[220]\ttrain's xentropy: 0.0281314\ttrain's f1: 0.566301\tval_1's xentropy: 0.0298269\tval_1's f1: 0.533958\n",
            "[221]\ttrain's xentropy: 0.0281246\ttrain's f1: 0.566685\tval_1's xentropy: 0.0298212\tval_1's f1: 0.5342\n",
            "[222]\ttrain's xentropy: 0.0281139\ttrain's f1: 0.566648\tval_1's xentropy: 0.0298153\tval_1's f1: 0.534581\n",
            "[223]\ttrain's xentropy: 0.0280932\ttrain's f1: 0.567476\tval_1's xentropy: 0.0298006\tval_1's f1: 0.536243\n",
            "[224]\ttrain's xentropy: 0.0280781\ttrain's f1: 0.567266\tval_1's xentropy: 0.0297856\tval_1's f1: 0.535863\n",
            "[225]\ttrain's xentropy: 0.0280685\ttrain's f1: 0.567613\tval_1's xentropy: 0.0297842\tval_1's f1: 0.535306\n",
            "[226]\ttrain's xentropy: 0.0280638\ttrain's f1: 0.568131\tval_1's xentropy: 0.0297807\tval_1's f1: 0.536826\n",
            "[227]\ttrain's xentropy: 0.0280431\ttrain's f1: 0.569437\tval_1's xentropy: 0.0297628\tval_1's f1: 0.537824\n",
            "[228]\ttrain's xentropy: 0.028035\ttrain's f1: 0.569609\tval_1's xentropy: 0.0297569\tval_1's f1: 0.537963\n",
            "[229]\ttrain's xentropy: 0.0280276\ttrain's f1: 0.57025\tval_1's xentropy: 0.0297535\tval_1's f1: 0.538402\n",
            "[230]\ttrain's xentropy: 0.0280175\ttrain's f1: 0.570472\tval_1's xentropy: 0.0297497\tval_1's f1: 0.538541\n",
            "[231]\ttrain's xentropy: 0.0280032\ttrain's f1: 0.571367\tval_1's xentropy: 0.0297424\tval_1's f1: 0.540052\n",
            "[232]\ttrain's xentropy: 0.0279961\ttrain's f1: 0.570876\tval_1's xentropy: 0.0297376\tval_1's f1: 0.540093\n",
            "[233]\ttrain's xentropy: 0.027987\ttrain's f1: 0.570901\tval_1's xentropy: 0.0297322\tval_1's f1: 0.540093\n",
            "[234]\ttrain's xentropy: 0.0279771\ttrain's f1: 0.571539\tval_1's xentropy: 0.0297282\tval_1's f1: 0.540471\n",
            "[235]\ttrain's xentropy: 0.0279602\ttrain's f1: 0.57187\tval_1's xentropy: 0.0297111\tval_1's f1: 0.540471\n",
            "[236]\ttrain's xentropy: 0.0279562\ttrain's f1: 0.572042\tval_1's xentropy: 0.0297094\tval_1's f1: 0.540568\n",
            "[237]\ttrain's xentropy: 0.0279437\ttrain's f1: 0.572373\tval_1's xentropy: 0.0296986\tval_1's f1: 0.541085\n",
            "[238]\ttrain's xentropy: 0.0279398\ttrain's f1: 0.572128\tval_1's xentropy: 0.0296952\tval_1's f1: 0.539953\n",
            "[239]\ttrain's xentropy: 0.0279208\ttrain's f1: 0.572593\tval_1's xentropy: 0.0296812\tval_1's f1: 0.540568\n",
            "[240]\ttrain's xentropy: 0.0279087\ttrain's f1: 0.572618\tval_1's xentropy: 0.0296749\tval_1's f1: 0.540945\n",
            "[241]\ttrain's xentropy: 0.0279005\ttrain's f1: 0.573157\tval_1's xentropy: 0.0296733\tval_1's f1: 0.541322\n",
            "[242]\ttrain's xentropy: 0.0278928\ttrain's f1: 0.573646\tval_1's xentropy: 0.0296722\tval_1's f1: 0.541979\n",
            "[243]\ttrain's xentropy: 0.0278804\ttrain's f1: 0.574319\tval_1's xentropy: 0.0296643\tval_1's f1: 0.541462\n",
            "[244]\ttrain's xentropy: 0.0278638\ttrain's f1: 0.574514\tval_1's xentropy: 0.0296523\tval_1's f1: 0.541085\n",
            "[245]\ttrain's xentropy: 0.0278566\ttrain's f1: 0.574659\tval_1's xentropy: 0.0296485\tval_1's f1: 0.541462\n",
            "[246]\ttrain's xentropy: 0.0278511\ttrain's f1: 0.575149\tval_1's xentropy: 0.0296454\tval_1's f1: 0.542592\n",
            "[247]\ttrain's xentropy: 0.0278419\ttrain's f1: 0.575734\tval_1's xentropy: 0.0296402\tval_1's f1: 0.543484\n",
            "[248]\ttrain's xentropy: 0.0278321\ttrain's f1: 0.575198\tval_1's xentropy: 0.0296352\tval_1's f1: 0.541322\n",
            "[249]\ttrain's xentropy: 0.0278208\ttrain's f1: 0.575784\tval_1's xentropy: 0.0296254\tval_1's f1: 0.543579\n",
            "[250]\ttrain's xentropy: 0.027812\ttrain's f1: 0.575918\tval_1's xentropy: 0.0296196\tval_1's f1: 0.541699\n",
            "[251]\ttrain's xentropy: 0.0278069\ttrain's f1: 0.57576\tval_1's xentropy: 0.0296182\tval_1's f1: 0.541462\n",
            "[252]\ttrain's xentropy: 0.0277914\ttrain's f1: 0.576345\tval_1's xentropy: 0.0296057\tval_1's f1: 0.542452\n",
            "[253]\ttrain's xentropy: 0.0277797\ttrain's f1: 0.576345\tval_1's xentropy: 0.0295962\tval_1's f1: 0.542592\n",
            "[254]\ttrain's xentropy: 0.0277697\ttrain's f1: 0.576821\tval_1's xentropy: 0.0295923\tval_1's f1: 0.543344\n",
            "[255]\ttrain's xentropy: 0.0277619\ttrain's f1: 0.577224\tval_1's xentropy: 0.0295875\tval_1's f1: 0.542828\n",
            "[256]\ttrain's xentropy: 0.0277516\ttrain's f1: 0.577772\tval_1's xentropy: 0.0295779\tval_1's f1: 0.543204\n",
            "[257]\ttrain's xentropy: 0.0277296\ttrain's f1: 0.577869\tval_1's xentropy: 0.0295589\tval_1's f1: 0.543063\n",
            "[258]\ttrain's xentropy: 0.0277237\ttrain's f1: 0.577846\tval_1's xentropy: 0.0295575\tval_1's f1: 0.543579\n",
            "[259]\ttrain's xentropy: 0.0277199\ttrain's f1: 0.577884\tval_1's xentropy: 0.0295576\tval_1's f1: 0.543579\n",
            "[260]\ttrain's xentropy: 0.0277169\ttrain's f1: 0.577787\tval_1's xentropy: 0.0295558\tval_1's f1: 0.543579\n",
            "[261]\ttrain's xentropy: 0.0277083\ttrain's f1: 0.57824\tval_1's xentropy: 0.0295519\tval_1's f1: 0.544095\n",
            "[262]\ttrain's xentropy: 0.027694\ttrain's f1: 0.578364\tval_1's xentropy: 0.0295381\tval_1's f1: 0.544095\n",
            "[263]\ttrain's xentropy: 0.0276854\ttrain's f1: 0.578594\tval_1's xentropy: 0.0295319\tval_1's f1: 0.54433\n",
            "[264]\ttrain's xentropy: 0.0276754\ttrain's f1: 0.578666\tval_1's xentropy: 0.0295253\tval_1's f1: 0.54447\n",
            "[265]\ttrain's xentropy: 0.027664\ttrain's f1: 0.578607\tval_1's xentropy: 0.0295215\tval_1's f1: 0.544986\n",
            "[266]\ttrain's xentropy: 0.0276523\ttrain's f1: 0.579265\tval_1's xentropy: 0.0295153\tval_1's f1: 0.544845\n",
            "[267]\ttrain's xentropy: 0.0276435\ttrain's f1: 0.579461\tval_1's xentropy: 0.0295103\tval_1's f1: 0.544705\n",
            "[268]\ttrain's xentropy: 0.0276394\ttrain's f1: 0.5794\tval_1's xentropy: 0.0295064\tval_1's f1: 0.544705\n",
            "[269]\ttrain's xentropy: 0.0276316\ttrain's f1: 0.579668\tval_1's xentropy: 0.0295033\tval_1's f1: 0.544845\n",
            "[270]\ttrain's xentropy: 0.0276143\ttrain's f1: 0.580446\tval_1's xentropy: 0.0294958\tval_1's f1: 0.545595\n",
            "[271]\ttrain's xentropy: 0.0276045\ttrain's f1: 0.580543\tval_1's xentropy: 0.0294876\tval_1's f1: 0.546718\n",
            "[272]\ttrain's xentropy: 0.0275995\ttrain's f1: 0.580714\tval_1's xentropy: 0.0294875\tval_1's f1: 0.546577\n",
            "[273]\ttrain's xentropy: 0.0275938\ttrain's f1: 0.581139\tval_1's xentropy: 0.0294849\tval_1's f1: 0.547607\n",
            "[274]\ttrain's xentropy: 0.0275892\ttrain's f1: 0.581139\tval_1's xentropy: 0.0294817\tval_1's f1: 0.547325\n",
            "[275]\ttrain's xentropy: 0.0275804\ttrain's f1: 0.581175\tval_1's xentropy: 0.0294764\tval_1's f1: 0.547325\n",
            "[276]\ttrain's xentropy: 0.0275701\ttrain's f1: 0.581257\tval_1's xentropy: 0.0294683\tval_1's f1: 0.546437\n",
            "[277]\ttrain's xentropy: 0.0275617\ttrain's f1: 0.581695\tval_1's xentropy: 0.0294666\tval_1's f1: 0.545922\n",
            "[278]\ttrain's xentropy: 0.0275547\ttrain's f1: 0.582059\tval_1's xentropy: 0.0294627\tval_1's f1: 0.546437\n",
            "[279]\ttrain's xentropy: 0.027543\ttrain's f1: 0.582351\tval_1's xentropy: 0.0294565\tval_1's f1: 0.546437\n",
            "[280]\ttrain's xentropy: 0.0275404\ttrain's f1: 0.58228\tval_1's xentropy: 0.0294548\tval_1's f1: 0.546437\n",
            "[281]\ttrain's xentropy: 0.0275358\ttrain's f1: 0.58234\tval_1's xentropy: 0.029454\tval_1's f1: 0.546437\n",
            "[282]\ttrain's xentropy: 0.0275291\ttrain's f1: 0.582618\tval_1's xentropy: 0.0294524\tval_1's f1: 0.547184\n",
            "[283]\ttrain's xentropy: 0.0275203\ttrain's f1: 0.582604\tval_1's xentropy: 0.0294461\tval_1's f1: 0.547184\n",
            "[284]\ttrain's xentropy: 0.027514\ttrain's f1: 0.582593\tval_1's xentropy: 0.0294455\tval_1's f1: 0.546951\n",
            "[285]\ttrain's xentropy: 0.0275012\ttrain's f1: 0.582775\tval_1's xentropy: 0.0294361\tval_1's f1: 0.547325\n",
            "[286]\ttrain's xentropy: 0.027497\ttrain's f1: 0.582764\tval_1's xentropy: 0.0294369\tval_1's f1: 0.547699\n",
            "[287]\ttrain's xentropy: 0.0274886\ttrain's f1: 0.582668\tval_1's xentropy: 0.0294316\tval_1's f1: 0.547931\n",
            "[288]\ttrain's xentropy: 0.0274851\ttrain's f1: 0.582607\tval_1's xentropy: 0.0294293\tval_1's f1: 0.547931\n",
            "[289]\ttrain's xentropy: 0.0274738\ttrain's f1: 0.583056\tval_1's xentropy: 0.0294212\tval_1's f1: 0.549422\n",
            "[290]\ttrain's xentropy: 0.0274567\ttrain's f1: 0.583664\tval_1's xentropy: 0.0294123\tval_1's f1: 0.54905\n",
            "[291]\ttrain's xentropy: 0.0274498\ttrain's f1: 0.584016\tval_1's xentropy: 0.0294065\tval_1's f1: 0.54905\n",
            "[292]\ttrain's xentropy: 0.0274413\ttrain's f1: 0.584283\tval_1's xentropy: 0.0294032\tval_1's f1: 0.549936\n",
            "[293]\ttrain's xentropy: 0.0274369\ttrain's f1: 0.584735\tval_1's xentropy: 0.0293997\tval_1's f1: 0.549936\n",
            "[294]\ttrain's xentropy: 0.0274314\ttrain's f1: 0.585197\tval_1's xentropy: 0.0293965\tval_1's f1: 0.550963\n",
            "[295]\ttrain's xentropy: 0.0274221\ttrain's f1: 0.58557\tval_1's xentropy: 0.029391\tval_1's f1: 0.551193\n",
            "[296]\ttrain's xentropy: 0.0274119\ttrain's f1: 0.58573\tval_1's xentropy: 0.0293864\tval_1's f1: 0.55068\n",
            "[297]\ttrain's xentropy: 0.0274039\ttrain's f1: 0.585826\tval_1's xentropy: 0.0293866\tval_1's f1: 0.549936\n",
            "[298]\ttrain's xentropy: 0.027396\ttrain's f1: 0.58568\tval_1's xentropy: 0.0293831\tval_1's f1: 0.550308\n",
            "[299]\ttrain's xentropy: 0.0273815\ttrain's f1: 0.585801\tval_1's xentropy: 0.0293715\tval_1's f1: 0.549936\n",
            "[300]\ttrain's xentropy: 0.02737\ttrain's f1: 0.585695\tval_1's xentropy: 0.0293669\tval_1's f1: 0.549795\n",
            "Did not meet early stopping. Best iteration is:\n",
            "[300]\ttrain's xentropy: 0.02737\ttrain's f1: 0.585695\tval_1's xentropy: 0.0293669\tval_1's f1: 0.549795\n"
          ],
          "name": "stdout"
        },
        {
          "output_type": "display_data",
          "data": {
            "image/png": "[encoded data removed]",
            "text/plain": [
              "<Figure size 432x288 with 1 Axes>"
            ]
          },
          "metadata": {
            "tags": []
          }
        },
        {
          "output_type": "display_data",
          "data": {
            "image/png": "[encoded data removed]",
            "text/plain": [
              "<Figure size 1080x1080 with 1 Axes>"
            ]
          },
          "metadata": {
            "tags": []
          }
        },
        {
          "output_type": "stream",
          "text": [
            "dot: graph is too large for cairo-renderer bitmaps. Scaling by 0.723445 to fit\n"
          ],
          "name": "stderr"
        },
        {
          "output_type": "display_data",
          "data": {
            "image/png": "[encoded data removed]",
            "text/plain": [
              "<Figure size 432x288 with 1 Axes>"
            ]
          },
          "metadata": {
            "tags": []
          }
        }
      ]
    },
    {
      "cell_type": "markdown",
      "metadata": {
        "id": "3baniELruhYe",
        "colab_type": "text"
      },
      "source": [
        "# val_2's F1 report"
      ]
    },
    {
      "cell_type": "code",
      "metadata": {
        "id": "glestRnmts7s",
        "colab_type": "code",
        "outputId": "f67858c4-224a-4d0d-edd0-f2f26ed5a63a",
        "colab": {
          "base_uri": "https://localhost:8080/",
          "height": 177
        }
      },
      "source": [
        "from sklearn.metrics import classification_report \n",
        "\n",
        "val_2_pred_01 = pd.Series(model.predict(val_2[features])).apply(round)\n",
        "\n",
        "print(classification_report(val_2[y_name],val_2_pred_01,target_names=['0','1']))"
      ],
      "execution_count": 87,
      "outputs": [
        {
          "output_type": "stream",
          "text": [
            "              precision    recall  f1-score   support\n",
            "\n",
            "           0       0.99      1.00      1.00    187682\n",
            "           1       0.81      0.41      0.55      2542\n",
            "\n",
            "    accuracy                           0.99    190224\n",
            "   macro avg       0.90      0.70      0.77    190224\n",
            "weighted avg       0.99      0.99      0.99    190224\n",
            "\n"
          ],
          "name": "stdout"
        }
      ]
    },
    {
      "cell_type": "markdown",
      "metadata": {
        "id": "cPo-0zQAyCiY",
        "colab_type": "text"
      },
      "source": [
        "# 產生submission"
      ]
    },
    {
      "cell_type": "code",
      "metadata": {
        "id": "azyeBD0e30E6",
        "colab_type": "code",
        "outputId": "e7931363-e51f-4ea9-fa82-6aeb0eaafcf7",
        "colab": {
          "base_uri": "https://localhost:8080/",
          "height": 253
        }
      },
      "source": [
        "submission = pd.DataFrame({\"txkey\":test_txkey,\n",
        "                           \"fraud_ind\":model.predict(test[features])})\n",
        "\n",
        "# to [0,1] \n",
        "submission[\"fraud_ind\"] = submission[\"fraud_ind\"].apply(round)\n",
        "\n",
        "# value_counts\n",
        "print(submission[\"fraud_ind\"].value_counts())\n",
        "submission.head()"
      ],
      "execution_count": 88,
      "outputs": [
        {
          "output_type": "stream",
          "text": [
            "0    418192\n",
            "1      3473\n",
            "Name: fraud_ind, dtype: int64\n"
          ],
          "name": "stdout"
        },
        {
          "output_type": "execute_result",
          "data": {
            "text/html": [
              "<div>\n",
              "<style scoped>\n",
              "    .dataframe tbody tr th:only-of-type {\n",
              "        vertical-align: middle;\n",
              "    }\n",
              "\n",
              "    .dataframe tbody tr th {\n",
              "        vertical-align: top;\n",
              "    }\n",
              "\n",
              "    .dataframe thead th {\n",
              "        text-align: right;\n",
              "    }\n",
              "</style>\n",
              "<table border=\"1\" class=\"dataframe\">\n",
              "  <thead>\n",
              "    <tr style=\"text-align: right;\">\n",
              "      <th></th>\n",
              "      <th>txkey</th>\n",
              "      <th>fraud_ind</th>\n",
              "    </tr>\n",
              "  </thead>\n",
              "  <tbody>\n",
              "    <tr>\n",
              "      <th>1521787</th>\n",
              "      <td>592489</td>\n",
              "      <td>0</td>\n",
              "    </tr>\n",
              "    <tr>\n",
              "      <th>1521788</th>\n",
              "      <td>592452</td>\n",
              "      <td>0</td>\n",
              "    </tr>\n",
              "    <tr>\n",
              "      <th>1521789</th>\n",
              "      <td>590212</td>\n",
              "      <td>0</td>\n",
              "    </tr>\n",
              "    <tr>\n",
              "      <th>1521790</th>\n",
              "      <td>590209</td>\n",
              "      <td>0</td>\n",
              "    </tr>\n",
              "    <tr>\n",
              "      <th>1521791</th>\n",
              "      <td>592488</td>\n",
              "      <td>0</td>\n",
              "    </tr>\n",
              "  </tbody>\n",
              "</table>\n",
              "</div>"
            ],
            "text/plain": [
              "          txkey  fraud_ind\n",
              "1521787  592489          0\n",
              "1521788  592452          0\n",
              "1521789  590212          0\n",
              "1521790  590209          0\n",
              "1521791  592488          0"
            ]
          },
          "metadata": {
            "tags": []
          },
          "execution_count": 88
        }
      ]
    },
    {
      "cell_type": "markdown",
      "metadata": {
        "id": "5yy-4SmJzEQj",
        "colab_type": "text"
      },
      "source": [
        "# 這裡有個想法如果test上盜刷的比例 跟train上面盜刷的比例 愈相近愈好"
      ]
    },
    {
      "cell_type": "code",
      "metadata": {
        "id": "0ty1t9yGy1DI",
        "colab_type": "code",
        "colab": {
          "base_uri": "https://localhost:8080/",
          "height": 78
        },
        "outputId": "678558ce-c401-4de3-932b-ca315274cc8b"
      },
      "source": [
        "train_p = round((train['fraud_ind'].value_counts()[1] / #盜刷樣本數\n",
        "                len(train['fraud_ind']))*100 ,5) #總數\n",
        "\n",
        "val_1_p = round((val_1['fraud_ind'].value_counts()[1] / #盜刷樣本數\n",
        "                len(val_1['fraud_ind']))*100 ,5) #總數\n",
        "\n",
        "val_2_p = round((val_2['fraud_ind'].value_counts()[1] / #盜刷樣本數\n",
        "                len(val_2['fraud_ind']))*100 ,5) #總數\n",
        "\n",
        "test_p = round((submission['fraud_ind'].value_counts()[1] / #盜刷樣本數\n",
        "                len(submission['fraud_ind']))*100 ,5) #總數\n",
        "pd.DataFrame({'train_p':train_p,\n",
        "              'val_1_p':val_1_p,\n",
        "              'val_2_p':val_2_p,\n",
        "              'test_p':test_p},\n",
        "               index=['盜刷比例%'])"
      ],
      "execution_count": 89,
      "outputs": [
        {
          "output_type": "execute_result",
          "data": {
            "text/html": [
              "<div>\n",
              "<style scoped>\n",
              "    .dataframe tbody tr th:only-of-type {\n",
              "        vertical-align: middle;\n",
              "    }\n",
              "\n",
              "    .dataframe tbody tr th {\n",
              "        vertical-align: top;\n",
              "    }\n",
              "\n",
              "    .dataframe thead th {\n",
              "        text-align: right;\n",
              "    }\n",
              "</style>\n",
              "<table border=\"1\" class=\"dataframe\">\n",
              "  <thead>\n",
              "    <tr style=\"text-align: right;\">\n",
              "      <th></th>\n",
              "      <th>train_p</th>\n",
              "      <th>val_1_p</th>\n",
              "      <th>val_2_p</th>\n",
              "      <th>test_p</th>\n",
              "    </tr>\n",
              "  </thead>\n",
              "  <tbody>\n",
              "    <tr>\n",
              "      <th>盜刷比例%</th>\n",
              "      <td>1.33816</td>\n",
              "      <td>1.33527</td>\n",
              "      <td>1.33632</td>\n",
              "      <td>0.82364</td>\n",
              "    </tr>\n",
              "  </tbody>\n",
              "</table>\n",
              "</div>"
            ],
            "text/plain": [
              "       train_p  val_1_p  val_2_p   test_p\n",
              "盜刷比例%  1.33816  1.33527  1.33632  0.82364"
            ]
          },
          "metadata": {
            "tags": []
          },
          "execution_count": 89
        }
      ]
    },
    {
      "cell_type": "markdown",
      "metadata": {
        "id": "Bd74iRwUgW6p",
        "colab_type": "text"
      },
      "source": [
        "# 保存預測結果"
      ]
    },
    {
      "cell_type": "code",
      "metadata": {
        "id": "XvfSAvYOyaGK",
        "colab_type": "code",
        "colab": {}
      },
      "source": [
        "submission.to_csv(\"./submission_30.csv\")"
      ],
      "execution_count": 0,
      "outputs": []
    },
    {
      "cell_type": "code",
      "metadata": {
        "id": "0YQYwZp7P3FN",
        "colab_type": "code",
        "outputId": "06527694-be64-4832-a0e8-455649933148",
        "colab": {
          "base_uri": "https://localhost:8080/",
          "height": 70
        }
      },
      "source": [
        "print(submission[\"fraud_ind\"].value_counts())"
      ],
      "execution_count": 91,
      "outputs": [
        {
          "output_type": "stream",
          "text": [
            "0    418192\n",
            "1      3473\n",
            "Name: fraud_ind, dtype: int64\n"
          ],
          "name": "stdout"
        }
      ]
    },
    {
      "cell_type": "code",
      "metadata": {
        "id": "4gSgbNh2bXva",
        "colab_type": "code",
        "colab": {}
      },
      "source": [
        ""
      ],
      "execution_count": 0,
      "outputs": []
    }
  ]
}