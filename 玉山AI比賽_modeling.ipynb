{
  "nbformat": 4,
  "nbformat_minor": 0,
  "metadata": {
    "colab": {
      "name": "玉山AI比賽_modeling.ipynb",
      "provenance": [],
      "collapsed_sections": [],
      "machine_shape": "hm",
      "include_colab_link": true
    },
    "kernelspec": {
      "name": "python3",
      "display_name": "Python 3"
    },
    "accelerator": "GPU"
  },
  "cells": [
    {
      "cell_type": "markdown",
      "metadata": {
        "id": "view-in-github",
        "colab_type": "text"
      },
      "source": [
        "<a href=\"https://colab.research.google.com/github/skywalker0803r/Ricky/blob/master/%E7%8E%89%E5%B1%B1AI%E6%AF%94%E8%B3%BD_modeling.ipynb\" target=\"_parent\"><img src=\"https://colab.research.google.com/assets/colab-badge.svg\" alt=\"Open In Colab\"/></a>"
      ]
    },
    {
      "cell_type": "code",
      "metadata": {
        "id": "AATKXslkSfYY",
        "colab_type": "code",
        "outputId": "7f306026-72c9-416c-fb2a-cf8ad64028f8",
        "colab": {
          "base_uri": "https://localhost:8080/",
          "height": 34
        }
      },
      "source": [
        "from google.colab import drive\n",
        "drive.mount('/content/drive')\n",
        "import warnings \n",
        "warnings.simplefilter('ignore')"
      ],
      "execution_count": 1,
      "outputs": [
        {
          "output_type": "stream",
          "text": [
            "Drive already mounted at /content/drive; to attempt to forcibly remount, call drive.mount(\"/content/drive\", force_remount=True).\n"
          ],
          "name": "stdout"
        }
      ]
    },
    {
      "cell_type": "code",
      "metadata": {
        "id": "Npr5FVMlY8mV",
        "colab_type": "code",
        "colab": {}
      },
      "source": [
        "中文map = {'bacno':'歸戶帳號','txkey':'交易序號','locdt':'授權日期','loctm':'授權時間','cano':'交易卡號',\n",
        "         'contp':'交易類別','etymd':'交易型態','mchno':'特店代號','acqic':'收單行代碼','mcc':'MCC_CODE',\n",
        "         'conam':'交易金額-台幣(經過轉換)','ecfg':'網路交易註記','insfg':'分期交易註記','iterm':'分期期數',\n",
        "         'stocn':'消費地國別','scity':'消費城市','stscd':'狀態碼','ovrlt':'超額註記碼','flbmk':'Fallback註記',\n",
        "         'hcefg':'支付型態','csmcu':'消費地幣別','flg_3dsmk':'3DS交易註記','fraud_ind':'盜刷註記'}"
      ],
      "execution_count": 0,
      "outputs": []
    },
    {
      "cell_type": "markdown",
      "metadata": {
        "id": "9uf407F-fMvq",
        "colab_type": "text"
      },
      "source": [
        "# train"
      ]
    },
    {
      "cell_type": "code",
      "metadata": {
        "id": "mX9n2Jd2Sgu0",
        "colab_type": "code",
        "outputId": "ec32ec28-6211-4ea6-f192-ced24d6e6580",
        "colab": {
          "base_uri": "https://localhost:8080/",
          "height": 212
        }
      },
      "source": [
        "import pandas as pd\n",
        "train = pd.read_csv(\"/content/drive/My Drive/玉山人工智慧比賽數據/train_預處理完.csv\",index_col=0)\n",
        "print(train.shape)\n",
        "train.head()"
      ],
      "execution_count": 3,
      "outputs": [
        {
          "output_type": "stream",
          "text": [
            "(1521787, 23)\n"
          ],
          "name": "stdout"
        },
        {
          "output_type": "execute_result",
          "data": {
            "text/html": [
              "<div>\n",
              "<style scoped>\n",
              "    .dataframe tbody tr th:only-of-type {\n",
              "        vertical-align: middle;\n",
              "    }\n",
              "\n",
              "    .dataframe tbody tr th {\n",
              "        vertical-align: top;\n",
              "    }\n",
              "\n",
              "    .dataframe thead th {\n",
              "        text-align: right;\n",
              "    }\n",
              "</style>\n",
              "<table border=\"1\" class=\"dataframe\">\n",
              "  <thead>\n",
              "    <tr style=\"text-align: right;\">\n",
              "      <th></th>\n",
              "      <th>acqic</th>\n",
              "      <th>bacno</th>\n",
              "      <th>cano</th>\n",
              "      <th>conam</th>\n",
              "      <th>contp</th>\n",
              "      <th>csmcu</th>\n",
              "      <th>ecfg</th>\n",
              "      <th>etymd</th>\n",
              "      <th>flbmk</th>\n",
              "      <th>flg_3dsmk</th>\n",
              "      <th>hcefg</th>\n",
              "      <th>insfg</th>\n",
              "      <th>iterm</th>\n",
              "      <th>locdt</th>\n",
              "      <th>loctm</th>\n",
              "      <th>mcc</th>\n",
              "      <th>mchno</th>\n",
              "      <th>ovrlt</th>\n",
              "      <th>scity</th>\n",
              "      <th>stocn</th>\n",
              "      <th>stscd</th>\n",
              "      <th>txkey</th>\n",
              "      <th>fraud_ind</th>\n",
              "    </tr>\n",
              "  </thead>\n",
              "  <tbody>\n",
              "    <tr>\n",
              "      <th>0</th>\n",
              "      <td>6862</td>\n",
              "      <td>112785</td>\n",
              "      <td>37846</td>\n",
              "      <td>16158</td>\n",
              "      <td>5</td>\n",
              "      <td>0</td>\n",
              "      <td>0</td>\n",
              "      <td>0</td>\n",
              "      <td>0</td>\n",
              "      <td>0</td>\n",
              "      <td>5</td>\n",
              "      <td>0</td>\n",
              "      <td>0</td>\n",
              "      <td>33</td>\n",
              "      <td>61954</td>\n",
              "      <td>457</td>\n",
              "      <td>59034</td>\n",
              "      <td>0</td>\n",
              "      <td>0</td>\n",
              "      <td>102</td>\n",
              "      <td>0</td>\n",
              "      <td>516056</td>\n",
              "      <td>0</td>\n",
              "    </tr>\n",
              "    <tr>\n",
              "      <th>1</th>\n",
              "      <td>0</td>\n",
              "      <td>133951</td>\n",
              "      <td>45476</td>\n",
              "      <td>13693</td>\n",
              "      <td>5</td>\n",
              "      <td>0</td>\n",
              "      <td>0</td>\n",
              "      <td>2</td>\n",
              "      <td>0</td>\n",
              "      <td>0</td>\n",
              "      <td>0</td>\n",
              "      <td>0</td>\n",
              "      <td>0</td>\n",
              "      <td>9</td>\n",
              "      <td>38216</td>\n",
              "      <td>451</td>\n",
              "      <td>0</td>\n",
              "      <td>0</td>\n",
              "      <td>5795</td>\n",
              "      <td>102</td>\n",
              "      <td>0</td>\n",
              "      <td>4376</td>\n",
              "      <td>0</td>\n",
              "    </tr>\n",
              "    <tr>\n",
              "      <th>2</th>\n",
              "      <td>6862</td>\n",
              "      <td>15350</td>\n",
              "      <td>187354</td>\n",
              "      <td>16158</td>\n",
              "      <td>5</td>\n",
              "      <td>0</td>\n",
              "      <td>0</td>\n",
              "      <td>0</td>\n",
              "      <td>0</td>\n",
              "      <td>0</td>\n",
              "      <td>5</td>\n",
              "      <td>0</td>\n",
              "      <td>0</td>\n",
              "      <td>6</td>\n",
              "      <td>54640</td>\n",
              "      <td>457</td>\n",
              "      <td>59034</td>\n",
              "      <td>0</td>\n",
              "      <td>0</td>\n",
              "      <td>102</td>\n",
              "      <td>0</td>\n",
              "      <td>483434</td>\n",
              "      <td>0</td>\n",
              "    </tr>\n",
              "    <tr>\n",
              "      <th>3</th>\n",
              "      <td>6697</td>\n",
              "      <td>156492</td>\n",
              "      <td>29812</td>\n",
              "      <td>40413</td>\n",
              "      <td>5</td>\n",
              "      <td>62</td>\n",
              "      <td>0</td>\n",
              "      <td>5</td>\n",
              "      <td>0</td>\n",
              "      <td>0</td>\n",
              "      <td>5</td>\n",
              "      <td>0</td>\n",
              "      <td>0</td>\n",
              "      <td>5</td>\n",
              "      <td>62128</td>\n",
              "      <td>247</td>\n",
              "      <td>50185</td>\n",
              "      <td>0</td>\n",
              "      <td>3267</td>\n",
              "      <td>102</td>\n",
              "      <td>0</td>\n",
              "      <td>1407164</td>\n",
              "      <td>0</td>\n",
              "    </tr>\n",
              "    <tr>\n",
              "      <th>4</th>\n",
              "      <td>5959</td>\n",
              "      <td>105534</td>\n",
              "      <td>80881</td>\n",
              "      <td>25962</td>\n",
              "      <td>5</td>\n",
              "      <td>62</td>\n",
              "      <td>0</td>\n",
              "      <td>4</td>\n",
              "      <td>0</td>\n",
              "      <td>0</td>\n",
              "      <td>5</td>\n",
              "      <td>0</td>\n",
              "      <td>0</td>\n",
              "      <td>6</td>\n",
              "      <td>65231</td>\n",
              "      <td>263</td>\n",
              "      <td>93290</td>\n",
              "      <td>0</td>\n",
              "      <td>5795</td>\n",
              "      <td>102</td>\n",
              "      <td>0</td>\n",
              "      <td>1051004</td>\n",
              "      <td>0</td>\n",
              "    </tr>\n",
              "  </tbody>\n",
              "</table>\n",
              "</div>"
            ],
            "text/plain": [
              "   acqic   bacno    cano  conam  contp  ...  scity  stocn  stscd    txkey  fraud_ind\n",
              "0   6862  112785   37846  16158      5  ...      0    102      0   516056          0\n",
              "1      0  133951   45476  13693      5  ...   5795    102      0     4376          0\n",
              "2   6862   15350  187354  16158      5  ...      0    102      0   483434          0\n",
              "3   6697  156492   29812  40413      5  ...   3267    102      0  1407164          0\n",
              "4   5959  105534   80881  25962      5  ...   5795    102      0  1051004          0\n",
              "\n",
              "[5 rows x 23 columns]"
            ]
          },
          "metadata": {
            "tags": []
          },
          "execution_count": 3
        }
      ]
    },
    {
      "cell_type": "markdown",
      "metadata": {
        "id": "HNczBDkb7_Zi",
        "colab_type": "text"
      },
      "source": [
        "# test"
      ]
    },
    {
      "cell_type": "code",
      "metadata": {
        "id": "Rqj6BhcoT8ai",
        "colab_type": "code",
        "outputId": "d77f6650-3e78-4df1-d46f-4fb6e3290bc7",
        "colab": {
          "base_uri": "https://localhost:8080/",
          "height": 212
        }
      },
      "source": [
        "test = pd.read_csv(\"/content/drive/My Drive/玉山人工智慧比賽數據/test_預處理完.csv\",index_col=0)\n",
        "test_txkey = test[\"txkey\"]\n",
        "print(test.shape)\n",
        "test.head()"
      ],
      "execution_count": 4,
      "outputs": [
        {
          "output_type": "stream",
          "text": [
            "(421665, 22)\n"
          ],
          "name": "stdout"
        },
        {
          "output_type": "execute_result",
          "data": {
            "text/html": [
              "<div>\n",
              "<style scoped>\n",
              "    .dataframe tbody tr th:only-of-type {\n",
              "        vertical-align: middle;\n",
              "    }\n",
              "\n",
              "    .dataframe tbody tr th {\n",
              "        vertical-align: top;\n",
              "    }\n",
              "\n",
              "    .dataframe thead th {\n",
              "        text-align: right;\n",
              "    }\n",
              "</style>\n",
              "<table border=\"1\" class=\"dataframe\">\n",
              "  <thead>\n",
              "    <tr style=\"text-align: right;\">\n",
              "      <th></th>\n",
              "      <th>acqic</th>\n",
              "      <th>bacno</th>\n",
              "      <th>cano</th>\n",
              "      <th>conam</th>\n",
              "      <th>contp</th>\n",
              "      <th>csmcu</th>\n",
              "      <th>ecfg</th>\n",
              "      <th>etymd</th>\n",
              "      <th>flbmk</th>\n",
              "      <th>flg_3dsmk</th>\n",
              "      <th>hcefg</th>\n",
              "      <th>insfg</th>\n",
              "      <th>iterm</th>\n",
              "      <th>locdt</th>\n",
              "      <th>loctm</th>\n",
              "      <th>mcc</th>\n",
              "      <th>mchno</th>\n",
              "      <th>ovrlt</th>\n",
              "      <th>scity</th>\n",
              "      <th>stocn</th>\n",
              "      <th>stscd</th>\n",
              "      <th>txkey</th>\n",
              "    </tr>\n",
              "  </thead>\n",
              "  <tbody>\n",
              "    <tr>\n",
              "      <th>0</th>\n",
              "      <td>6862</td>\n",
              "      <td>162489</td>\n",
              "      <td>116168</td>\n",
              "      <td>16158</td>\n",
              "      <td>5</td>\n",
              "      <td>0</td>\n",
              "      <td>0</td>\n",
              "      <td>0</td>\n",
              "      <td>0</td>\n",
              "      <td>0</td>\n",
              "      <td>5</td>\n",
              "      <td>0</td>\n",
              "      <td>0</td>\n",
              "      <td>102</td>\n",
              "      <td>77950</td>\n",
              "      <td>457</td>\n",
              "      <td>59060</td>\n",
              "      <td>0</td>\n",
              "      <td>0</td>\n",
              "      <td>102</td>\n",
              "      <td>0</td>\n",
              "      <td>592489</td>\n",
              "    </tr>\n",
              "    <tr>\n",
              "      <th>1</th>\n",
              "      <td>6862</td>\n",
              "      <td>162489</td>\n",
              "      <td>116168</td>\n",
              "      <td>16158</td>\n",
              "      <td>5</td>\n",
              "      <td>0</td>\n",
              "      <td>0</td>\n",
              "      <td>0</td>\n",
              "      <td>0</td>\n",
              "      <td>0</td>\n",
              "      <td>5</td>\n",
              "      <td>0</td>\n",
              "      <td>0</td>\n",
              "      <td>102</td>\n",
              "      <td>79549</td>\n",
              "      <td>457</td>\n",
              "      <td>59060</td>\n",
              "      <td>0</td>\n",
              "      <td>0</td>\n",
              "      <td>102</td>\n",
              "      <td>0</td>\n",
              "      <td>592452</td>\n",
              "    </tr>\n",
              "    <tr>\n",
              "      <th>2</th>\n",
              "      <td>6862</td>\n",
              "      <td>162489</td>\n",
              "      <td>116168</td>\n",
              "      <td>16158</td>\n",
              "      <td>5</td>\n",
              "      <td>0</td>\n",
              "      <td>0</td>\n",
              "      <td>0</td>\n",
              "      <td>0</td>\n",
              "      <td>0</td>\n",
              "      <td>5</td>\n",
              "      <td>0</td>\n",
              "      <td>0</td>\n",
              "      <td>100</td>\n",
              "      <td>60355</td>\n",
              "      <td>457</td>\n",
              "      <td>59060</td>\n",
              "      <td>0</td>\n",
              "      <td>0</td>\n",
              "      <td>102</td>\n",
              "      <td>0</td>\n",
              "      <td>590212</td>\n",
              "    </tr>\n",
              "    <tr>\n",
              "      <th>3</th>\n",
              "      <td>6862</td>\n",
              "      <td>162489</td>\n",
              "      <td>116168</td>\n",
              "      <td>16158</td>\n",
              "      <td>5</td>\n",
              "      <td>0</td>\n",
              "      <td>0</td>\n",
              "      <td>0</td>\n",
              "      <td>0</td>\n",
              "      <td>0</td>\n",
              "      <td>5</td>\n",
              "      <td>0</td>\n",
              "      <td>0</td>\n",
              "      <td>100</td>\n",
              "      <td>60296</td>\n",
              "      <td>457</td>\n",
              "      <td>59060</td>\n",
              "      <td>0</td>\n",
              "      <td>0</td>\n",
              "      <td>102</td>\n",
              "      <td>0</td>\n",
              "      <td>590209</td>\n",
              "    </tr>\n",
              "    <tr>\n",
              "      <th>4</th>\n",
              "      <td>6862</td>\n",
              "      <td>162489</td>\n",
              "      <td>116168</td>\n",
              "      <td>16158</td>\n",
              "      <td>5</td>\n",
              "      <td>0</td>\n",
              "      <td>0</td>\n",
              "      <td>0</td>\n",
              "      <td>0</td>\n",
              "      <td>0</td>\n",
              "      <td>5</td>\n",
              "      <td>0</td>\n",
              "      <td>0</td>\n",
              "      <td>102</td>\n",
              "      <td>77933</td>\n",
              "      <td>457</td>\n",
              "      <td>59060</td>\n",
              "      <td>0</td>\n",
              "      <td>0</td>\n",
              "      <td>102</td>\n",
              "      <td>0</td>\n",
              "      <td>592488</td>\n",
              "    </tr>\n",
              "  </tbody>\n",
              "</table>\n",
              "</div>"
            ],
            "text/plain": [
              "   acqic   bacno    cano  conam  contp  ...  ovrlt  scity  stocn  stscd   txkey\n",
              "0   6862  162489  116168  16158      5  ...      0      0    102      0  592489\n",
              "1   6862  162489  116168  16158      5  ...      0      0    102      0  592452\n",
              "2   6862  162489  116168  16158      5  ...      0      0    102      0  590212\n",
              "3   6862  162489  116168  16158      5  ...      0      0    102      0  590209\n",
              "4   6862  162489  116168  16158      5  ...      0      0    102      0  592488\n",
              "\n",
              "[5 rows x 22 columns]"
            ]
          },
          "metadata": {
            "tags": []
          },
          "execution_count": 4
        }
      ]
    },
    {
      "cell_type": "markdown",
      "metadata": {
        "id": "0ikJ9Qh_edpH",
        "colab_type": "text"
      },
      "source": [
        "# 定義 features & target"
      ]
    },
    {
      "cell_type": "code",
      "metadata": {
        "id": "LVE6ja-Yed6Q",
        "colab_type": "code",
        "outputId": "7b52e9ff-f568-4d50-d402-dd5172630205",
        "colab": {
          "base_uri": "https://localhost:8080/",
          "height": 70
        }
      },
      "source": [
        "features = train.drop(['fraud_ind','txkey','locdt'],axis=1).columns.tolist()\n",
        "y_name = 'fraud_ind'\n",
        "print(len(features),features)\n",
        "print(len([y_name]),[y_name])"
      ],
      "execution_count": 5,
      "outputs": [
        {
          "output_type": "stream",
          "text": [
            "20 ['acqic', 'bacno', 'cano', 'conam', 'contp', 'csmcu', 'ecfg', 'etymd', 'flbmk', 'flg_3dsmk', 'hcefg', 'insfg', 'iterm', 'loctm', 'mcc', 'mchno', 'ovrlt', 'scity', 'stocn', 'stscd']\n",
            "1 ['fraud_ind']\n"
          ],
          "name": "stdout"
        }
      ]
    },
    {
      "cell_type": "markdown",
      "metadata": {
        "id": "xHokJzdFuyng",
        "colab_type": "text"
      },
      "source": [
        "# 切分 訓練集 跟 驗證集"
      ]
    },
    {
      "cell_type": "code",
      "metadata": {
        "id": "m_kD9w_fuyvO",
        "colab_type": "code",
        "outputId": "19363855-d33c-431f-8dd5-4e3331cd93ba",
        "colab": {
          "base_uri": "https://localhost:8080/",
          "height": 50
        }
      },
      "source": [
        "from sklearn.model_selection import train_test_split\n",
        "train,val = train_test_split(train ,test_size=0.2 ,random_state=42)\n",
        "print(train.shape)\n",
        "print(val.shape)"
      ],
      "execution_count": 6,
      "outputs": [
        {
          "output_type": "stream",
          "text": [
            "(1217429, 23)\n",
            "(304358, 23)\n"
          ],
          "name": "stdout"
        }
      ]
    },
    {
      "cell_type": "markdown",
      "metadata": {
        "id": "Ir_a_KAivH7a",
        "colab_type": "text"
      },
      "source": [
        "# train"
      ]
    },
    {
      "cell_type": "code",
      "metadata": {
        "id": "a_0lGvw7ALnF",
        "colab_type": "code",
        "outputId": "0b78fe1a-7de7-40dd-a18d-cdc7e0875944",
        "colab": {
          "base_uri": "https://localhost:8080/",
          "height": 1000
        }
      },
      "source": [
        "import lightgbm\n",
        "import matplotlib.pyplot as plt\n",
        "from sklearn.metrics import f1_score\n",
        "import numpy as np\n",
        "\n",
        "# f1 score\n",
        "def lgb_f1_score(y_hat, data):\n",
        "    y_true = data.get_label()\n",
        "    y_hat = np.round(y_hat)\n",
        "    return 'f1', f1_score(y_true, y_hat), True\n",
        "\n",
        "# 超參數  \n",
        "parameters = {\n",
        "    'boosting_type':'gbdt',\n",
        "    'n_estimators':100,\n",
        "    'objective': 'cross_entropy',\n",
        "    'metric': 'cross_entropy',\n",
        "    'num_iterations': 500,\n",
        "    'learning_rate': 0.1,\n",
        "    'max_depth':7,\n",
        "    'num_leaves':50,\n",
        "    'feature_fraction': 0.7,\n",
        "    'tree_learner': 'data',\n",
        "    \"is_unbalance\": True,\n",
        "    \"early_stopping_round\": 10,\n",
        "    #'min_child_samples':20,\n",
        "    #'min_child_weight': 0.001,\n",
        "}\n",
        "\n",
        "# train data\n",
        "train_data = lightgbm.Dataset(train[features], \n",
        "                              label = train[y_name],\n",
        "                              categorical_feature = features)\n",
        "# val data\n",
        "val_data = lightgbm.Dataset(val[features], \n",
        "                            label = val[y_name],\n",
        "                            categorical_feature = features)\n",
        "\n",
        "# training\n",
        "evals_result = {}\n",
        "model = lightgbm.train(parameters,\n",
        "                       train_data, \n",
        "                       valid_sets=[val_data, train_data],valid_names=['val', 'train'], \n",
        "                       feval = lgb_f1_score,\n",
        "                       evals_result = evals_result)\n",
        "\n",
        "# plt 1\n",
        "lightgbm.plot_metric(evals_result, metric='f1')\n",
        "plt.show()\n",
        "\n",
        "# plt 2\n",
        "ax = lightgbm.plot_importance(model, max_num_features=40, figsize=(15,15))\n",
        "plt.show()"
      ],
      "execution_count": 7,
      "outputs": [
        {
          "output_type": "stream",
          "text": [
            "[1]\ttrain's xentropy: 0.0475798\ttrain's f1: 0.438473\tval's xentropy: 0.0478277\tval's f1: 0.435756\n",
            "Training until validation scores don't improve for 10 rounds.\n",
            "[2]\ttrain's xentropy: 0.0453077\ttrain's f1: 0.439262\tval's xentropy: 0.0456993\tval's f1: 0.435994\n",
            "[3]\ttrain's xentropy: 0.0434447\ttrain's f1: 0.443433\tval's xentropy: 0.043888\tval's f1: 0.439568\n",
            "[4]\ttrain's xentropy: 0.041611\ttrain's f1: 0.449004\tval's xentropy: 0.0421072\tval's f1: 0.443385\n",
            "[5]\ttrain's xentropy: 0.0402822\ttrain's f1: 0.45824\tval's xentropy: 0.0408804\tval's f1: 0.448993\n",
            "[6]\ttrain's xentropy: 0.0391684\ttrain's f1: 0.457182\tval's xentropy: 0.0397822\tval's f1: 0.447903\n",
            "[7]\ttrain's xentropy: 0.0380235\ttrain's f1: 0.467347\tval's xentropy: 0.0385963\tval's f1: 0.461052\n",
            "[8]\ttrain's xentropy: 0.0372286\ttrain's f1: 0.471227\tval's xentropy: 0.0378198\tval's f1: 0.464777\n",
            "[9]\ttrain's xentropy: 0.0363361\ttrain's f1: 0.472212\tval's xentropy: 0.0369555\tval's f1: 0.466601\n",
            "[10]\ttrain's xentropy: 0.035675\ttrain's f1: 0.473013\tval's xentropy: 0.0363157\tval's f1: 0.467537\n",
            "[11]\ttrain's xentropy: 0.0351117\ttrain's f1: 0.476312\tval's xentropy: 0.0358112\tval's f1: 0.471013\n",
            "[12]\ttrain's xentropy: 0.0345475\ttrain's f1: 0.477645\tval's xentropy: 0.0352553\tval's f1: 0.471766\n",
            "[13]\ttrain's xentropy: 0.034042\ttrain's f1: 0.479977\tval's xentropy: 0.0348024\tval's f1: 0.474193\n",
            "[14]\ttrain's xentropy: 0.0335803\ttrain's f1: 0.482908\tval's xentropy: 0.0343768\tval's f1: 0.477109\n",
            "[15]\ttrain's xentropy: 0.0332085\ttrain's f1: 0.488084\tval's xentropy: 0.0340074\tval's f1: 0.480458\n",
            "[16]\ttrain's xentropy: 0.0328474\ttrain's f1: 0.492391\tval's xentropy: 0.0336878\tval's f1: 0.482026\n",
            "[17]\ttrain's xentropy: 0.0325135\ttrain's f1: 0.493644\tval's xentropy: 0.0333822\tval's f1: 0.48376\n",
            "[18]\ttrain's xentropy: 0.0321837\ttrain's f1: 0.496341\tval's xentropy: 0.0330856\tval's f1: 0.485649\n",
            "[19]\ttrain's xentropy: 0.0318448\ttrain's f1: 0.498114\tval's xentropy: 0.03276\tval's f1: 0.48813\n",
            "[20]\ttrain's xentropy: 0.0315949\ttrain's f1: 0.500466\tval's xentropy: 0.0325209\tval's f1: 0.490738\n",
            "[21]\ttrain's xentropy: 0.031387\ttrain's f1: 0.502888\tval's xentropy: 0.0323741\tval's f1: 0.49174\n",
            "[22]\ttrain's xentropy: 0.0311502\ttrain's f1: 0.508771\tval's xentropy: 0.0321629\tval's f1: 0.495718\n",
            "[23]\ttrain's xentropy: 0.0308448\ttrain's f1: 0.513749\tval's xentropy: 0.0318586\tval's f1: 0.499032\n",
            "[24]\ttrain's xentropy: 0.0306595\ttrain's f1: 0.518222\tval's xentropy: 0.0316472\tval's f1: 0.50306\n",
            "[25]\ttrain's xentropy: 0.0305675\ttrain's f1: 0.518341\tval's xentropy: 0.0315051\tval's f1: 0.502808\n",
            "[26]\ttrain's xentropy: 0.0304076\ttrain's f1: 0.521085\tval's xentropy: 0.0313517\tval's f1: 0.504401\n",
            "[27]\ttrain's xentropy: 0.0301863\ttrain's f1: 0.522334\tval's xentropy: 0.0311606\tval's f1: 0.505604\n",
            "[28]\ttrain's xentropy: 0.0300236\ttrain's f1: 0.523372\tval's xentropy: 0.0310035\tval's f1: 0.50609\n",
            "[29]\ttrain's xentropy: 0.0298517\ttrain's f1: 0.524567\tval's xentropy: 0.0308743\tval's f1: 0.509509\n",
            "[30]\ttrain's xentropy: 0.0297111\ttrain's f1: 0.525053\tval's xentropy: 0.0307583\tval's f1: 0.510129\n",
            "[31]\ttrain's xentropy: 0.0295887\ttrain's f1: 0.526717\tval's xentropy: 0.0306559\tval's f1: 0.512747\n",
            "[32]\ttrain's xentropy: 0.0294803\ttrain's f1: 0.527591\tval's xentropy: 0.0305874\tval's f1: 0.513823\n",
            "[33]\ttrain's xentropy: 0.0295189\ttrain's f1: 0.531412\tval's xentropy: 0.0304916\tval's f1: 0.515863\n",
            "[34]\ttrain's xentropy: 0.0293921\ttrain's f1: 0.531944\tval's xentropy: 0.0303929\tval's f1: 0.517509\n",
            "[35]\ttrain's xentropy: 0.0292621\ttrain's f1: 0.53287\tval's xentropy: 0.0303016\tval's f1: 0.516968\n",
            "[36]\ttrain's xentropy: 0.0291657\ttrain's f1: 0.534202\tval's xentropy: 0.0302189\tval's f1: 0.518448\n",
            "[37]\ttrain's xentropy: 0.0290831\ttrain's f1: 0.535413\tval's xentropy: 0.0301705\tval's f1: 0.518108\n",
            "[38]\ttrain's xentropy: 0.028981\ttrain's f1: 0.536011\tval's xentropy: 0.0300876\tval's f1: 0.518413\n",
            "[39]\ttrain's xentropy: 0.028868\ttrain's f1: 0.537229\tval's xentropy: 0.0300058\tval's f1: 0.520101\n",
            "[40]\ttrain's xentropy: 0.0287863\ttrain's f1: 0.538013\tval's xentropy: 0.0299491\tval's f1: 0.52134\n",
            "[41]\ttrain's xentropy: 0.0286732\ttrain's f1: 0.538909\tval's xentropy: 0.0298709\tval's f1: 0.521876\n",
            "[42]\ttrain's xentropy: 0.0285557\ttrain's f1: 0.541076\tval's xentropy: 0.0297894\tval's f1: 0.522562\n",
            "[43]\ttrain's xentropy: 0.0287374\ttrain's f1: 0.541197\tval's xentropy: 0.0299742\tval's f1: 0.522205\n",
            "[44]\ttrain's xentropy: 0.0284555\ttrain's f1: 0.543418\tval's xentropy: 0.0296741\tval's f1: 0.525087\n",
            "[45]\ttrain's xentropy: 0.0283703\ttrain's f1: 0.545326\tval's xentropy: 0.0296083\tval's f1: 0.527112\n",
            "[46]\ttrain's xentropy: 0.0282949\ttrain's f1: 0.546769\tval's xentropy: 0.0295656\tval's f1: 0.528957\n",
            "[47]\ttrain's xentropy: 0.0282118\ttrain's f1: 0.54877\tval's xentropy: 0.0295117\tval's f1: 0.531654\n",
            "[48]\ttrain's xentropy: 0.028125\ttrain's f1: 0.549761\tval's xentropy: 0.0294283\tval's f1: 0.53241\n",
            "[49]\ttrain's xentropy: 0.0280542\ttrain's f1: 0.549587\tval's xentropy: 0.0294181\tval's f1: 0.532453\n",
            "[50]\ttrain's xentropy: 0.0280179\ttrain's f1: 0.549743\tval's xentropy: 0.0293884\tval's f1: 0.532851\n",
            "[51]\ttrain's xentropy: 0.0279871\ttrain's f1: 0.550221\tval's xentropy: 0.0293747\tval's f1: 0.533794\n",
            "[52]\ttrain's xentropy: 0.0279413\ttrain's f1: 0.55083\tval's xentropy: 0.0293483\tval's f1: 0.534087\n",
            "[53]\ttrain's xentropy: 0.0279035\ttrain's f1: 0.55123\tval's xentropy: 0.0293243\tval's f1: 0.534402\n",
            "[54]\ttrain's xentropy: 0.0278673\ttrain's f1: 0.552374\tval's xentropy: 0.0293062\tval's f1: 0.535843\n",
            "[55]\ttrain's xentropy: 0.0278167\ttrain's f1: 0.552625\tval's xentropy: 0.0292635\tval's f1: 0.535927\n",
            "[56]\ttrain's xentropy: 0.0277637\ttrain's f1: 0.552494\tval's xentropy: 0.0292199\tval's f1: 0.536011\n",
            "[57]\ttrain's xentropy: 0.0277282\ttrain's f1: 0.5534\tval's xentropy: 0.0291977\tval's f1: 0.535322\n",
            "[58]\ttrain's xentropy: 0.0278654\ttrain's f1: 0.55323\tval's xentropy: 0.0292864\tval's f1: 0.53586\n",
            "[59]\ttrain's xentropy: 0.0277914\ttrain's f1: 0.553921\tval's xentropy: 0.0292472\tval's f1: 0.535608\n",
            "[60]\ttrain's xentropy: 0.0277447\ttrain's f1: 0.553736\tval's xentropy: 0.0294019\tval's f1: 0.534313\n",
            "[61]\ttrain's xentropy: 0.0282528\ttrain's f1: 0.554227\tval's xentropy: 0.0296141\tval's f1: 0.536121\n",
            "[62]\ttrain's xentropy: 0.0277499\ttrain's f1: 0.556036\tval's xentropy: 0.0292873\tval's f1: 0.537621\n",
            "[63]\ttrain's xentropy: 0.0281271\ttrain's f1: 0.555248\tval's xentropy: 0.0297223\tval's f1: 0.537202\n",
            "[64]\ttrain's xentropy: 0.0276512\ttrain's f1: 0.556739\tval's xentropy: 0.0292062\tval's f1: 0.537993\n",
            "[65]\ttrain's xentropy: 0.0280776\ttrain's f1: 0.556291\tval's xentropy: 0.0296342\tval's f1: 0.538462\n",
            "[66]\ttrain's xentropy: 0.0275556\ttrain's f1: 0.557688\tval's xentropy: 0.0291505\tval's f1: 0.539578\n",
            "[67]\ttrain's xentropy: 0.0278902\ttrain's f1: 0.558241\tval's xentropy: 0.0295631\tval's f1: 0.539301\n",
            "[68]\ttrain's xentropy: 0.0278768\ttrain's f1: 0.558959\tval's xentropy: 0.0295369\tval's f1: 0.5399\n",
            "[69]\ttrain's xentropy: 0.0274348\ttrain's f1: 0.560736\tval's xentropy: 0.0290623\tval's f1: 0.5414\n",
            "[70]\ttrain's xentropy: 0.0276244\ttrain's f1: 0.561038\tval's xentropy: 0.029416\tval's f1: 0.541374\n",
            "[71]\ttrain's xentropy: 0.0273558\ttrain's f1: 0.561674\tval's xentropy: 0.0290141\tval's f1: 0.542167\n",
            "[72]\ttrain's xentropy: 0.0274536\ttrain's f1: 0.562144\tval's xentropy: 0.0292418\tval's f1: 0.542537\n",
            "[73]\ttrain's xentropy: 0.0278575\ttrain's f1: 0.561685\tval's xentropy: 0.0296864\tval's f1: 0.542257\n",
            "[74]\ttrain's xentropy: 0.0273503\ttrain's f1: 0.563172\tval's xentropy: 0.0291833\tval's f1: 0.543502\n",
            "[75]\ttrain's xentropy: 0.0279836\ttrain's f1: 0.562741\tval's xentropy: 0.0299949\tval's f1: 0.542489\n",
            "[76]\ttrain's xentropy: 0.027469\ttrain's f1: 0.563636\tval's xentropy: 0.0294341\tval's f1: 0.543079\n",
            "[77]\ttrain's xentropy: 0.0271677\ttrain's f1: 0.5644\tval's xentropy: 0.0291428\tval's f1: 0.544012\n",
            "[78]\ttrain's xentropy: 0.0271203\ttrain's f1: 0.565572\tval's xentropy: 0.0291094\tval's f1: 0.544664\n",
            "[79]\ttrain's xentropy: 0.0271979\ttrain's f1: 0.565457\tval's xentropy: 0.0292492\tval's f1: 0.544439\n",
            "[80]\ttrain's xentropy: 0.0274982\ttrain's f1: 0.566484\tval's xentropy: 0.0298538\tval's f1: 0.544525\n",
            "[81]\ttrain's xentropy: 0.0276369\ttrain's f1: 0.566587\tval's xentropy: 0.0298139\tval's f1: 0.544863\n",
            "Early stopping, best iteration is:\n",
            "[71]\ttrain's xentropy: 0.0273558\ttrain's f1: 0.561674\tval's xentropy: 0.0290141\tval's f1: 0.542167\n"
          ],
          "name": "stdout"
        },
        {
          "output_type": "display_data",
          "data": {
            "image/png": "[encoded data removed]",
            "text/plain": [
              "<Figure size 432x288 with 1 Axes>"
            ]
          },
          "metadata": {
            "tags": []
          }
        },
        {
          "output_type": "display_data",
          "data": {
            "image/png": "[encoded data removed]",
            "text/plain": [
              "<Figure size 1080x1080 with 1 Axes>"
            ]
          },
          "metadata": {
            "tags": []
          }
        }
      ]
    },
    {
      "cell_type": "markdown",
      "metadata": {
        "id": "3baniELruhYe",
        "colab_type": "text"
      },
      "source": [
        "# F1 report"
      ]
    },
    {
      "cell_type": "code",
      "metadata": {
        "id": "glestRnmts7s",
        "colab_type": "code",
        "outputId": "68bc39d4-94e7-4b28-d46d-55e84359c1ca",
        "colab": {
          "base_uri": "https://localhost:8080/",
          "height": 168
        }
      },
      "source": [
        "from sklearn.metrics import classification_report \n",
        "\n",
        "y_pred = pd.Series(model.predict(val[features])).apply(round)\n",
        "\n",
        "print(classification_report(val[y_name],y_pred,target_names=['0','1']))"
      ],
      "execution_count": 8,
      "outputs": [
        {
          "output_type": "stream",
          "text": [
            "              precision    recall  f1-score   support\n",
            "\n",
            "           0       0.99      1.00      1.00    300267\n",
            "           1       0.75      0.43      0.54      4091\n",
            "\n",
            "    accuracy                           0.99    304358\n",
            "   macro avg       0.87      0.71      0.77    304358\n",
            "weighted avg       0.99      0.99      0.99    304358\n",
            "\n"
          ],
          "name": "stdout"
        }
      ]
    },
    {
      "cell_type": "markdown",
      "metadata": {
        "id": "cPo-0zQAyCiY",
        "colab_type": "text"
      },
      "source": [
        "# 產生submission"
      ]
    },
    {
      "cell_type": "code",
      "metadata": {
        "id": "azyeBD0e30E6",
        "colab_type": "code",
        "outputId": "8232c0cb-aa06-408b-e282-c58136e8b120",
        "colab": {
          "base_uri": "https://localhost:8080/",
          "height": 246
        }
      },
      "source": [
        "submission = pd.DataFrame({\"txkey\":test_txkey,\n",
        "                           \"fraud_ind\":model.predict(test[features])})\n",
        "\n",
        "# to [0,1] \n",
        "submission[\"fraud_ind\"] = submission[\"fraud_ind\"].apply(round)\n",
        "\n",
        "# value_counts\n",
        "print(submission[\"fraud_ind\"].value_counts())\n",
        "submission.head()"
      ],
      "execution_count": 9,
      "outputs": [
        {
          "output_type": "stream",
          "text": [
            "0    418382\n",
            "1      3283\n",
            "Name: fraud_ind, dtype: int64\n"
          ],
          "name": "stdout"
        },
        {
          "output_type": "execute_result",
          "data": {
            "text/html": [
              "<div>\n",
              "<style scoped>\n",
              "    .dataframe tbody tr th:only-of-type {\n",
              "        vertical-align: middle;\n",
              "    }\n",
              "\n",
              "    .dataframe tbody tr th {\n",
              "        vertical-align: top;\n",
              "    }\n",
              "\n",
              "    .dataframe thead th {\n",
              "        text-align: right;\n",
              "    }\n",
              "</style>\n",
              "<table border=\"1\" class=\"dataframe\">\n",
              "  <thead>\n",
              "    <tr style=\"text-align: right;\">\n",
              "      <th></th>\n",
              "      <th>txkey</th>\n",
              "      <th>fraud_ind</th>\n",
              "    </tr>\n",
              "  </thead>\n",
              "  <tbody>\n",
              "    <tr>\n",
              "      <th>0</th>\n",
              "      <td>592489</td>\n",
              "      <td>0</td>\n",
              "    </tr>\n",
              "    <tr>\n",
              "      <th>1</th>\n",
              "      <td>592452</td>\n",
              "      <td>0</td>\n",
              "    </tr>\n",
              "    <tr>\n",
              "      <th>2</th>\n",
              "      <td>590212</td>\n",
              "      <td>0</td>\n",
              "    </tr>\n",
              "    <tr>\n",
              "      <th>3</th>\n",
              "      <td>590209</td>\n",
              "      <td>0</td>\n",
              "    </tr>\n",
              "    <tr>\n",
              "      <th>4</th>\n",
              "      <td>592488</td>\n",
              "      <td>0</td>\n",
              "    </tr>\n",
              "  </tbody>\n",
              "</table>\n",
              "</div>"
            ],
            "text/plain": [
              "    txkey  fraud_ind\n",
              "0  592489          0\n",
              "1  592452          0\n",
              "2  590212          0\n",
              "3  590209          0\n",
              "4  592488          0"
            ]
          },
          "metadata": {
            "tags": []
          },
          "execution_count": 9
        }
      ]
    },
    {
      "cell_type": "markdown",
      "metadata": {
        "id": "Bd74iRwUgW6p",
        "colab_type": "text"
      },
      "source": [
        "# 保存"
      ]
    },
    {
      "cell_type": "code",
      "metadata": {
        "id": "XvfSAvYOyaGK",
        "colab_type": "code",
        "colab": {}
      },
      "source": [
        "submission.to_csv(\"./submission_25.csv\")"
      ],
      "execution_count": 0,
      "outputs": []
    },
    {
      "cell_type": "code",
      "metadata": {
        "id": "0YQYwZp7P3FN",
        "colab_type": "code",
        "colab": {
          "base_uri": "https://localhost:8080/",
          "height": 67
        },
        "outputId": "d02d9fd8-2189-4489-daa1-85039846cc02"
      },
      "source": [
        "print(submission[\"fraud_ind\"].value_counts())"
      ],
      "execution_count": 11,
      "outputs": [
        {
          "output_type": "stream",
          "text": [
            "0    418382\n",
            "1      3283\n",
            "Name: fraud_ind, dtype: int64\n"
          ],
          "name": "stdout"
        }
      ]
    },
    {
      "cell_type": "code",
      "metadata": {
        "id": "4gSgbNh2bXva",
        "colab_type": "code",
        "colab": {}
      },
      "source": [
        ""
      ],
      "execution_count": 0,
      "outputs": []
    }
  ]
}