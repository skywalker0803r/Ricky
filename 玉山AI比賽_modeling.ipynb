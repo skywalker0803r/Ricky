{
  "nbformat": 4,
  "nbformat_minor": 0,
  "metadata": {
    "colab": {
      "name": "玉山AI比賽_modeling.ipynb",
      "provenance": [],
      "collapsed_sections": [],
      "machine_shape": "hm",
      "include_colab_link": true
    },
    "kernelspec": {
      "name": "python3",
      "display_name": "Python 3"
    },
    "accelerator": "GPU"
  },
  "cells": [
    {
      "cell_type": "markdown",
      "metadata": {
        "id": "view-in-github",
        "colab_type": "text"
      },
      "source": [
        "<a href=\"https://colab.research.google.com/github/skywalker0803r/Ricky/blob/master/%E7%8E%89%E5%B1%B1AI%E6%AF%94%E8%B3%BD_modeling.ipynb\" target=\"_parent\"><img src=\"https://colab.research.google.com/assets/colab-badge.svg\" alt=\"Open In Colab\"/></a>"
      ]
    },
    {
      "cell_type": "code",
      "metadata": {
        "id": "AATKXslkSfYY",
        "colab_type": "code",
        "outputId": "8bc0454c-4132-4965-a960-1215e5ac2e05",
        "colab": {
          "base_uri": "https://localhost:8080/",
          "height": 35
        }
      },
      "source": [
        "from google.colab import drive\n",
        "drive.mount('/content/drive')\n",
        "import warnings \n",
        "warnings.simplefilter('ignore')\n",
        "import seaborn as sns\n",
        "import matplotlib.pyplot as plt"
      ],
      "execution_count": 12,
      "outputs": [
        {
          "output_type": "stream",
          "text": [
            "Drive already mounted at /content/drive; to attempt to forcibly remount, call drive.mount(\"/content/drive\", force_remount=True).\n"
          ],
          "name": "stdout"
        }
      ]
    },
    {
      "cell_type": "code",
      "metadata": {
        "id": "Npr5FVMlY8mV",
        "colab_type": "code",
        "colab": {}
      },
      "source": [
        "中文map = {'bacno':'歸戶帳號','txkey':'交易序號','locdt':'授權日期','loctm':'授權時間','cano':'交易卡號',\n",
        "         'contp':'交易類別','etymd':'交易型態','mchno':'特店代號','acqic':'收單行代碼','mcc':'MCC_CODE',\n",
        "         'conam':'交易金額-台幣(經過轉換)','ecfg':'網路交易註記','insfg':'分期交易註記','iterm':'分期期數',\n",
        "         'stocn':'消費地國別','scity':'消費城市','stscd':'狀態碼','ovrlt':'超額註記碼','flbmk':'Fallback註記',\n",
        "         'hcefg':'支付型態','csmcu':'消費地幣別','flg_3dsmk':'3DS交易註記','fraud_ind':'盜刷註記'}"
      ],
      "execution_count": 0,
      "outputs": []
    },
    {
      "cell_type": "markdown",
      "metadata": {
        "id": "9uf407F-fMvq",
        "colab_type": "text"
      },
      "source": [
        "# train"
      ]
    },
    {
      "cell_type": "code",
      "metadata": {
        "id": "mX9n2Jd2Sgu0",
        "colab_type": "code",
        "outputId": "c8a01719-53b6-4666-da00-e20fb423df20",
        "colab": {
          "base_uri": "https://localhost:8080/",
          "height": 238
        }
      },
      "source": [
        "import pandas as pd\n",
        "train = pd.read_csv(\"/content/drive/My Drive/玉山人工智慧比賽數據/train_特徵工程完.csv\",index_col=0)\n",
        "print(train.shape)\n",
        "train.head()"
      ],
      "execution_count": 14,
      "outputs": [
        {
          "output_type": "stream",
          "text": [
            "(1521787, 15)\n"
          ],
          "name": "stdout"
        },
        {
          "output_type": "execute_result",
          "data": {
            "text/html": [
              "<div>\n",
              "<style scoped>\n",
              "    .dataframe tbody tr th:only-of-type {\n",
              "        vertical-align: middle;\n",
              "    }\n",
              "\n",
              "    .dataframe tbody tr th {\n",
              "        vertical-align: top;\n",
              "    }\n",
              "\n",
              "    .dataframe thead th {\n",
              "        text-align: right;\n",
              "    }\n",
              "</style>\n",
              "<table border=\"1\" class=\"dataframe\">\n",
              "  <thead>\n",
              "    <tr style=\"text-align: right;\">\n",
              "      <th></th>\n",
              "      <th>stscd</th>\n",
              "      <th>ecfg</th>\n",
              "      <th>stocn</th>\n",
              "      <th>mchno_stscd_2_norm_count</th>\n",
              "      <th>mchno_stscd_0_norm_count</th>\n",
              "      <th>acqic_stscd_2_norm_count</th>\n",
              "      <th>acqic_stscd_0_norm_count</th>\n",
              "      <th>cano_stscd_2_norm_count</th>\n",
              "      <th>cano_stscd_0_norm_count</th>\n",
              "      <th>bacno_stscd_2_norm_count</th>\n",
              "      <th>bacno_stscd_0_norm_count</th>\n",
              "      <th>cano_stscd_nunique</th>\n",
              "      <th>acqic_etymd_8_norm_count</th>\n",
              "      <th>txkey</th>\n",
              "      <th>fraud_ind</th>\n",
              "    </tr>\n",
              "  </thead>\n",
              "  <tbody>\n",
              "    <tr>\n",
              "      <th>0</th>\n",
              "      <td>0</td>\n",
              "      <td>0</td>\n",
              "      <td>102</td>\n",
              "      <td>0.001044</td>\n",
              "      <td>0.998956</td>\n",
              "      <td>0.001344</td>\n",
              "      <td>0.998656</td>\n",
              "      <td>0.0</td>\n",
              "      <td>1.0</td>\n",
              "      <td>0.0</td>\n",
              "      <td>1.0</td>\n",
              "      <td>1</td>\n",
              "      <td>0.000000</td>\n",
              "      <td>516056</td>\n",
              "      <td>0</td>\n",
              "    </tr>\n",
              "    <tr>\n",
              "      <th>1</th>\n",
              "      <td>0</td>\n",
              "      <td>0</td>\n",
              "      <td>102</td>\n",
              "      <td>0.000016</td>\n",
              "      <td>0.997536</td>\n",
              "      <td>0.000000</td>\n",
              "      <td>0.994768</td>\n",
              "      <td>0.0</td>\n",
              "      <td>1.0</td>\n",
              "      <td>0.0</td>\n",
              "      <td>1.0</td>\n",
              "      <td>1</td>\n",
              "      <td>0.000000</td>\n",
              "      <td>4376</td>\n",
              "      <td>0</td>\n",
              "    </tr>\n",
              "    <tr>\n",
              "      <th>2</th>\n",
              "      <td>0</td>\n",
              "      <td>0</td>\n",
              "      <td>102</td>\n",
              "      <td>0.001044</td>\n",
              "      <td>0.998956</td>\n",
              "      <td>0.001344</td>\n",
              "      <td>0.998656</td>\n",
              "      <td>0.0</td>\n",
              "      <td>1.0</td>\n",
              "      <td>0.0</td>\n",
              "      <td>1.0</td>\n",
              "      <td>1</td>\n",
              "      <td>0.000000</td>\n",
              "      <td>483434</td>\n",
              "      <td>0</td>\n",
              "    </tr>\n",
              "    <tr>\n",
              "      <th>3</th>\n",
              "      <td>0</td>\n",
              "      <td>0</td>\n",
              "      <td>102</td>\n",
              "      <td>0.000000</td>\n",
              "      <td>1.000000</td>\n",
              "      <td>0.000149</td>\n",
              "      <td>0.999643</td>\n",
              "      <td>0.0</td>\n",
              "      <td>1.0</td>\n",
              "      <td>0.0</td>\n",
              "      <td>1.0</td>\n",
              "      <td>1</td>\n",
              "      <td>0.142619</td>\n",
              "      <td>1407164</td>\n",
              "      <td>0</td>\n",
              "    </tr>\n",
              "    <tr>\n",
              "      <th>4</th>\n",
              "      <td>0</td>\n",
              "      <td>0</td>\n",
              "      <td>102</td>\n",
              "      <td>0.000000</td>\n",
              "      <td>1.000000</td>\n",
              "      <td>0.000038</td>\n",
              "      <td>0.999894</td>\n",
              "      <td>0.0</td>\n",
              "      <td>1.0</td>\n",
              "      <td>0.0</td>\n",
              "      <td>1.0</td>\n",
              "      <td>1</td>\n",
              "      <td>0.077908</td>\n",
              "      <td>1051004</td>\n",
              "      <td>0</td>\n",
              "    </tr>\n",
              "  </tbody>\n",
              "</table>\n",
              "</div>"
            ],
            "text/plain": [
              "   stscd  ecfg  stocn  ...  acqic_etymd_8_norm_count    txkey  fraud_ind\n",
              "0      0     0    102  ...                  0.000000   516056          0\n",
              "1      0     0    102  ...                  0.000000     4376          0\n",
              "2      0     0    102  ...                  0.000000   483434          0\n",
              "3      0     0    102  ...                  0.142619  1407164          0\n",
              "4      0     0    102  ...                  0.077908  1051004          0\n",
              "\n",
              "[5 rows x 15 columns]"
            ]
          },
          "metadata": {
            "tags": []
          },
          "execution_count": 14
        }
      ]
    },
    {
      "cell_type": "markdown",
      "metadata": {
        "id": "HNczBDkb7_Zi",
        "colab_type": "text"
      },
      "source": [
        "# test"
      ]
    },
    {
      "cell_type": "code",
      "metadata": {
        "id": "Rqj6BhcoT8ai",
        "colab_type": "code",
        "outputId": "f33faef5-39eb-4487-d883-8d34d1b0d194",
        "colab": {
          "base_uri": "https://localhost:8080/",
          "height": 238
        }
      },
      "source": [
        "test = pd.read_csv(\"/content/drive/My Drive/玉山人工智慧比賽數據/test_特徵工程完.csv\",index_col=0)\n",
        "test_txkey = test[\"txkey\"]\n",
        "print(test.shape)\n",
        "test.head()"
      ],
      "execution_count": 15,
      "outputs": [
        {
          "output_type": "stream",
          "text": [
            "(421665, 14)\n"
          ],
          "name": "stdout"
        },
        {
          "output_type": "execute_result",
          "data": {
            "text/html": [
              "<div>\n",
              "<style scoped>\n",
              "    .dataframe tbody tr th:only-of-type {\n",
              "        vertical-align: middle;\n",
              "    }\n",
              "\n",
              "    .dataframe tbody tr th {\n",
              "        vertical-align: top;\n",
              "    }\n",
              "\n",
              "    .dataframe thead th {\n",
              "        text-align: right;\n",
              "    }\n",
              "</style>\n",
              "<table border=\"1\" class=\"dataframe\">\n",
              "  <thead>\n",
              "    <tr style=\"text-align: right;\">\n",
              "      <th></th>\n",
              "      <th>stscd</th>\n",
              "      <th>ecfg</th>\n",
              "      <th>stocn</th>\n",
              "      <th>mchno_stscd_2_norm_count</th>\n",
              "      <th>mchno_stscd_0_norm_count</th>\n",
              "      <th>acqic_stscd_2_norm_count</th>\n",
              "      <th>acqic_stscd_0_norm_count</th>\n",
              "      <th>cano_stscd_2_norm_count</th>\n",
              "      <th>cano_stscd_0_norm_count</th>\n",
              "      <th>bacno_stscd_2_norm_count</th>\n",
              "      <th>bacno_stscd_0_norm_count</th>\n",
              "      <th>cano_stscd_nunique</th>\n",
              "      <th>acqic_etymd_8_norm_count</th>\n",
              "      <th>txkey</th>\n",
              "    </tr>\n",
              "  </thead>\n",
              "  <tbody>\n",
              "    <tr>\n",
              "      <th>1521787</th>\n",
              "      <td>0</td>\n",
              "      <td>0</td>\n",
              "      <td>102</td>\n",
              "      <td>0.00193</td>\n",
              "      <td>0.99807</td>\n",
              "      <td>0.001344</td>\n",
              "      <td>0.998656</td>\n",
              "      <td>0.181818</td>\n",
              "      <td>0.818182</td>\n",
              "      <td>0.181818</td>\n",
              "      <td>0.818182</td>\n",
              "      <td>2</td>\n",
              "      <td>0.0</td>\n",
              "      <td>592489</td>\n",
              "    </tr>\n",
              "    <tr>\n",
              "      <th>1521788</th>\n",
              "      <td>0</td>\n",
              "      <td>0</td>\n",
              "      <td>102</td>\n",
              "      <td>0.00193</td>\n",
              "      <td>0.99807</td>\n",
              "      <td>0.001344</td>\n",
              "      <td>0.998656</td>\n",
              "      <td>0.181818</td>\n",
              "      <td>0.818182</td>\n",
              "      <td>0.181818</td>\n",
              "      <td>0.818182</td>\n",
              "      <td>2</td>\n",
              "      <td>0.0</td>\n",
              "      <td>592452</td>\n",
              "    </tr>\n",
              "    <tr>\n",
              "      <th>1521789</th>\n",
              "      <td>0</td>\n",
              "      <td>0</td>\n",
              "      <td>102</td>\n",
              "      <td>0.00193</td>\n",
              "      <td>0.99807</td>\n",
              "      <td>0.001344</td>\n",
              "      <td>0.998656</td>\n",
              "      <td>0.181818</td>\n",
              "      <td>0.818182</td>\n",
              "      <td>0.181818</td>\n",
              "      <td>0.818182</td>\n",
              "      <td>2</td>\n",
              "      <td>0.0</td>\n",
              "      <td>590212</td>\n",
              "    </tr>\n",
              "    <tr>\n",
              "      <th>1521790</th>\n",
              "      <td>0</td>\n",
              "      <td>0</td>\n",
              "      <td>102</td>\n",
              "      <td>0.00193</td>\n",
              "      <td>0.99807</td>\n",
              "      <td>0.001344</td>\n",
              "      <td>0.998656</td>\n",
              "      <td>0.181818</td>\n",
              "      <td>0.818182</td>\n",
              "      <td>0.181818</td>\n",
              "      <td>0.818182</td>\n",
              "      <td>2</td>\n",
              "      <td>0.0</td>\n",
              "      <td>590209</td>\n",
              "    </tr>\n",
              "    <tr>\n",
              "      <th>1521791</th>\n",
              "      <td>0</td>\n",
              "      <td>0</td>\n",
              "      <td>102</td>\n",
              "      <td>0.00193</td>\n",
              "      <td>0.99807</td>\n",
              "      <td>0.001344</td>\n",
              "      <td>0.998656</td>\n",
              "      <td>0.181818</td>\n",
              "      <td>0.818182</td>\n",
              "      <td>0.181818</td>\n",
              "      <td>0.818182</td>\n",
              "      <td>2</td>\n",
              "      <td>0.0</td>\n",
              "      <td>592488</td>\n",
              "    </tr>\n",
              "  </tbody>\n",
              "</table>\n",
              "</div>"
            ],
            "text/plain": [
              "         stscd  ecfg  ...  acqic_etymd_8_norm_count   txkey\n",
              "1521787      0     0  ...                       0.0  592489\n",
              "1521788      0     0  ...                       0.0  592452\n",
              "1521789      0     0  ...                       0.0  590212\n",
              "1521790      0     0  ...                       0.0  590209\n",
              "1521791      0     0  ...                       0.0  592488\n",
              "\n",
              "[5 rows x 14 columns]"
            ]
          },
          "metadata": {
            "tags": []
          },
          "execution_count": 15
        }
      ]
    },
    {
      "cell_type": "markdown",
      "metadata": {
        "id": "0ikJ9Qh_edpH",
        "colab_type": "text"
      },
      "source": [
        "# 定義 features & cat_features & target"
      ]
    },
    {
      "cell_type": "code",
      "metadata": {
        "id": "LVE6ja-Yed6Q",
        "colab_type": "code",
        "outputId": "8c362dae-35ad-4819-c7e4-7dde20def8b6",
        "colab": {
          "base_uri": "https://localhost:8080/",
          "height": 90
        }
      },
      "source": [
        "# 全部特徵\n",
        "features = train.drop(['fraud_ind', # just target\n",
        "                       'txkey', # just like index\n",
        "                       ],axis=1).columns.tolist()\n",
        "\n",
        "# 原始特徵才是cat_features\n",
        "cat_features = sorted(list(set(features)&set(中文map.keys())))\n",
        "\n",
        "y_name = 'fraud_ind'\n",
        "\n",
        "print(len(features),features)\n",
        "print(len(cat_features),cat_features)\n",
        "print(len([y_name]),[y_name])"
      ],
      "execution_count": 16,
      "outputs": [
        {
          "output_type": "stream",
          "text": [
            "13 ['stscd', 'ecfg', 'stocn', 'mchno_stscd_2_norm_count', 'mchno_stscd_0_norm_count', 'acqic_stscd_2_norm_count', 'acqic_stscd_0_norm_count', 'cano_stscd_2_norm_count', 'cano_stscd_0_norm_count', 'bacno_stscd_2_norm_count', 'bacno_stscd_0_norm_count', 'cano_stscd_nunique', 'acqic_etymd_8_norm_count']\n",
            "3 ['ecfg', 'stocn', 'stscd']\n",
            "1 ['fraud_ind']\n"
          ],
          "name": "stdout"
        }
      ]
    },
    {
      "cell_type": "markdown",
      "metadata": {
        "id": "dCi60JFlfw7y",
        "colab_type": "text"
      },
      "source": [
        "# both / test"
      ]
    },
    {
      "cell_type": "code",
      "metadata": {
        "id": "a9oT_e9AfxFA",
        "colab_type": "code",
        "outputId": "0f9ca937-2894-4c4a-be01-3bc7248721d6",
        "colab": {
          "base_uri": "https://localhost:8080/",
          "height": 139
        }
      },
      "source": [
        "f = {}\n",
        "for col in cat_features:\n",
        "  both_value = set(train[col].unique())&set(test[col].unique())\n",
        "  f[col] = len(both_value)/len(test[col].unique())\n",
        "res = pd.DataFrame(f,index=['both/test']).T.sort_values(by='both/test',ascending=False)\n",
        "res['中文'] = res.index.map(中文map)\n",
        "res"
      ],
      "execution_count": 17,
      "outputs": [
        {
          "output_type": "execute_result",
          "data": {
            "text/html": [
              "<div>\n",
              "<style scoped>\n",
              "    .dataframe tbody tr th:only-of-type {\n",
              "        vertical-align: middle;\n",
              "    }\n",
              "\n",
              "    .dataframe tbody tr th {\n",
              "        vertical-align: top;\n",
              "    }\n",
              "\n",
              "    .dataframe thead th {\n",
              "        text-align: right;\n",
              "    }\n",
              "</style>\n",
              "<table border=\"1\" class=\"dataframe\">\n",
              "  <thead>\n",
              "    <tr style=\"text-align: right;\">\n",
              "      <th></th>\n",
              "      <th>both/test</th>\n",
              "      <th>中文</th>\n",
              "    </tr>\n",
              "  </thead>\n",
              "  <tbody>\n",
              "    <tr>\n",
              "      <th>ecfg</th>\n",
              "      <td>1.000000</td>\n",
              "      <td>網路交易註記</td>\n",
              "    </tr>\n",
              "    <tr>\n",
              "      <th>stscd</th>\n",
              "      <td>1.000000</td>\n",
              "      <td>狀態碼</td>\n",
              "    </tr>\n",
              "    <tr>\n",
              "      <th>stocn</th>\n",
              "      <td>0.931034</td>\n",
              "      <td>消費地國別</td>\n",
              "    </tr>\n",
              "  </tbody>\n",
              "</table>\n",
              "</div>"
            ],
            "text/plain": [
              "       both/test      中文\n",
              "ecfg    1.000000  網路交易註記\n",
              "stscd   1.000000     狀態碼\n",
              "stocn   0.931034   消費地國別"
            ]
          },
          "metadata": {
            "tags": []
          },
          "execution_count": 17
        }
      ]
    },
    {
      "cell_type": "markdown",
      "metadata": {
        "id": "4jPcyEMhiLmk",
        "colab_type": "text"
      },
      "source": [
        "# drop rare features"
      ]
    },
    {
      "cell_type": "code",
      "metadata": {
        "id": "uBn4quHNiLun",
        "colab_type": "code",
        "outputId": "2e37947b-9c62-45e4-8224-7e88edc2dc9d",
        "colab": {
          "base_uri": "https://localhost:8080/",
          "height": 52
        }
      },
      "source": [
        "print(len(features))\n",
        "try:\n",
        "  features.remove('bacno')\n",
        "  features.remove('cano')\n",
        "except:\n",
        "  pass\n",
        "print(len(features))"
      ],
      "execution_count": 18,
      "outputs": [
        {
          "output_type": "stream",
          "text": [
            "13\n",
            "13\n"
          ],
          "name": "stdout"
        }
      ]
    },
    {
      "cell_type": "code",
      "metadata": {
        "id": "fa4gU3WSjO6I",
        "colab_type": "code",
        "outputId": "29c2ff34-70f2-46f0-a7ef-9ca59be283f2",
        "colab": {
          "base_uri": "https://localhost:8080/",
          "height": 52
        }
      },
      "source": [
        "print(len(cat_features))\n",
        "try:\n",
        "  cat_features.remove('bacno')\n",
        "  cat_features.remove('cano')\n",
        "except:\n",
        "  pass\n",
        "print(len(cat_features))"
      ],
      "execution_count": 19,
      "outputs": [
        {
          "output_type": "stream",
          "text": [
            "3\n",
            "3\n"
          ],
          "name": "stdout"
        }
      ]
    },
    {
      "cell_type": "markdown",
      "metadata": {
        "id": "xHokJzdFuyng",
        "colab_type": "text"
      },
      "source": [
        "# 切分 train 跟 val_1 , val_2"
      ]
    },
    {
      "cell_type": "code",
      "metadata": {
        "id": "m_kD9w_fuyvO",
        "colab_type": "code",
        "outputId": "38224087-33ce-44d0-8080-64e8bf464183",
        "colab": {
          "base_uri": "https://localhost:8080/",
          "height": 70
        }
      },
      "source": [
        "from sklearn.model_selection import train_test_split\n",
        "train ,val = train_test_split(train[features+[y_name]] ,test_size=0.25 ,random_state=42)\n",
        "val_1 ,val_2 = train_test_split(val[features+[y_name]] ,test_size=0.50 ,random_state=42)\n",
        "print(train.shape)\n",
        "print(val_1.shape)\n",
        "print(val_2.shape)"
      ],
      "execution_count": 20,
      "outputs": [
        {
          "output_type": "stream",
          "text": [
            "(1141340, 14)\n",
            "(190223, 14)\n",
            "(190224, 14)\n"
          ],
          "name": "stdout"
        }
      ]
    },
    {
      "cell_type": "markdown",
      "metadata": {
        "id": "SiMXGBuI9_nh",
        "colab_type": "text"
      },
      "source": [
        "# sklearn配合GridSearch的版本 搜索較優超參數"
      ]
    },
    {
      "cell_type": "code",
      "metadata": {
        "id": "5DW3Xtwd9_x8",
        "colab_type": "code",
        "outputId": "6c0448d3-becc-4c9f-813b-f31e495baa32",
        "colab": {
          "base_uri": "https://localhost:8080/",
          "height": 497
        }
      },
      "source": [
        "import lightgbm\n",
        "from sklearn.model_selection import GridSearchCV\n",
        "\n",
        "model_lgb = lightgbm.LGBMClassifier(objective = 'cross_entropy',\n",
        "                                    metric = 'cross_entropy',\n",
        "                                    is_unbalance = True,\n",
        "                                    )\n",
        "\n",
        "params_test1={\n",
        "    'max_depth': range(3,7,2),#樹深度\n",
        "    'num_leaves':range(7,127,30)#樹的葉子數量\n",
        "    }\n",
        "\n",
        "gsearch1 = GridSearchCV(estimator = model_lgb,\n",
        "                        param_grid = params_test1,\n",
        "                        scoring = 'f1', #評分指標\n",
        "                        cv = 3, #交叉驗證次數\n",
        "                        verbose = 10,\n",
        "                        n_jobs = -1,\n",
        "                        return_train_score = True,\n",
        "                        )\n",
        "\n",
        "gsearch1.fit(train[features],train[y_name])"
      ],
      "execution_count": 24,
      "outputs": [
        {
          "output_type": "stream",
          "text": [
            "Fitting 3 folds for each of 8 candidates, totalling 24 fits\n"
          ],
          "name": "stdout"
        },
        {
          "output_type": "stream",
          "text": [
            "[Parallel(n_jobs=-1)]: Using backend LokyBackend with 4 concurrent workers.\n",
            "[Parallel(n_jobs=-1)]: Done   5 tasks      | elapsed:   33.1s\n",
            "[Parallel(n_jobs=-1)]: Done  10 tasks      | elapsed:   51.1s\n",
            "[Parallel(n_jobs=-1)]: Done  17 tasks      | elapsed:  1.5min\n",
            "[Parallel(n_jobs=-1)]: Done  20 out of  24 | elapsed:  1.6min remaining:   18.7s\n",
            "[Parallel(n_jobs=-1)]: Done  24 out of  24 | elapsed:  1.9min finished\n"
          ],
          "name": "stderr"
        },
        {
          "output_type": "execute_result",
          "data": {
            "text/plain": [
              "GridSearchCV(cv=3, error_score='raise-deprecating',\n",
              "             estimator=LGBMClassifier(boosting_type='gbdt', class_weight=None,\n",
              "                                      colsample_bytree=1.0,\n",
              "                                      importance_type='split',\n",
              "                                      is_unbalance=True, learning_rate=0.1,\n",
              "                                      max_depth=-1, metric='cross_entropy',\n",
              "                                      min_child_samples=20,\n",
              "                                      min_child_weight=0.001,\n",
              "                                      min_split_gain=0.0, n_estimators=100,\n",
              "                                      n_jobs=-1, num_leaves=31,\n",
              "                                      objective='cross_entropy',\n",
              "                                      random_state=None, reg_alpha=0.0,\n",
              "                                      reg_lambda=0.0, silent=True,\n",
              "                                      subsample=1.0, subsample_for_bin=200000,\n",
              "                                      subsample_freq=0),\n",
              "             iid='warn', n_jobs=-1,\n",
              "             param_grid={'max_depth': range(3, 7, 2),\n",
              "                         'num_leaves': range(7, 127, 30)},\n",
              "             pre_dispatch='2*n_jobs', refit=True, return_train_score=True,\n",
              "             scoring='f1', verbose=10)"
            ]
          },
          "metadata": {
            "tags": []
          },
          "execution_count": 24
        }
      ]
    },
    {
      "cell_type": "markdown",
      "metadata": {
        "id": "qto-7RcnUGGi",
        "colab_type": "text"
      },
      "source": [
        "# grid search結果"
      ]
    },
    {
      "cell_type": "code",
      "metadata": {
        "id": "3u8Cd3qOMrN9",
        "colab_type": "code",
        "outputId": "24f61cde-21b4-401f-ef3c-d594ddad1897",
        "colab": {
          "base_uri": "https://localhost:8080/",
          "height": 575
        }
      },
      "source": [
        "df_gridsearch = pd.DataFrame(gsearch1.cv_results_)\n",
        "max_scores = df_gridsearch.groupby(['param_max_depth','param_num_leaves']).max()\n",
        "max_scores = max_scores.unstack()[['mean_test_score', 'mean_train_score']]\n",
        "\n",
        "sns.heatmap(max_scores.mean_train_score, annot=True, fmt='.4g',cmap='YlGnBu');\n",
        "plt.title('train score')\n",
        "plt.show()\n",
        "\n",
        "sns.heatmap(max_scores.mean_test_score, annot=True, fmt='.4g',cmap='YlGnBu');\n",
        "plt.title('test score')\n",
        "plt.show()"
      ],
      "execution_count": 26,
      "outputs": [
        {
          "output_type": "display_data",
          "data": {
            "image/png": "[encoded data removed]",
            "text/plain": [
              "<Figure size 432x288 with 2 Axes>"
            ]
          },
          "metadata": {
            "tags": []
          }
        },
        {
          "output_type": "display_data",
          "data": {
            "image/png": "[encoded data removed]",
            "text/plain": [
              "<Figure size 432x288 with 2 Axes>"
            ]
          },
          "metadata": {
            "tags": []
          }
        }
      ]
    },
    {
      "cell_type": "markdown",
      "metadata": {
        "id": "Ir_a_KAivH7a",
        "colab_type": "text"
      },
      "source": [
        "# 套用上面找出的較佳超參數 train model"
      ]
    },
    {
      "cell_type": "code",
      "metadata": {
        "id": "a_0lGvw7ALnF",
        "colab_type": "code",
        "outputId": "6d8fe0b9-9c47-4f02-d3fa-4280d7cff862",
        "colab": {
          "base_uri": "https://localhost:8080/",
          "height": 1000
        }
      },
      "source": [
        "from sklearn.metrics import f1_score\n",
        "import lightgbm\n",
        "import numpy as np\n",
        "\n",
        "# f1 score\n",
        "def lgb_f1_score(y_hat, data):\n",
        "    y_true = data.get_label()\n",
        "    y_hat = np.round(y_hat)\n",
        "    return 'f1', f1_score(y_true, y_hat), True\n",
        "\n",
        "# 定義超參數  \n",
        "parameters = {\n",
        "    'boosting_type':'gbdt',\n",
        "    #'n_estimators':100,\n",
        "    'objective': 'cross_entropy',\n",
        "    'metric': 'cross_entropy',\n",
        "    'num_iterations': 100,\n",
        "    'learning_rate': 0.1,\n",
        "    'max_depth': 7,\n",
        "    'num_leaves': 2**7-1,\n",
        "    #'feature_fraction': 0.7,\n",
        "    'tree_learner': 'data',\n",
        "    \"is_unbalance\": True,\n",
        "    \"early_stopping_round\": 30,\n",
        "    #'min_child_samples':20,\n",
        "    #'min_child_weight': 0.001,\n",
        "    }\n",
        "\n",
        "# train data\n",
        "train_data = lightgbm.Dataset(train[features],label=train[y_name],\n",
        "                              categorical_feature=cat_features)\n",
        "\n",
        "# val_1_data\n",
        "val_1_data = lightgbm.Dataset(val_1[features],label=val_1[y_name],\n",
        "                              categorical_feature=cat_features)\n",
        "\n",
        "# model training\n",
        "evals_result = {}\n",
        "model = lightgbm.train(parameters,\n",
        "                       train_data,\n",
        "                       valid_sets=[val_1_data, train_data],\n",
        "                       valid_names=['val_1','train'], \n",
        "                       feval=lgb_f1_score,\n",
        "                       evals_result=evals_result,\n",
        "                       )\n",
        "\n",
        "# plt f1 metric\n",
        "try:\n",
        "  lightgbm.plot_metric(evals_result, metric='f1')\n",
        "  plt.show()\n",
        "except:\n",
        "  pass\n",
        "\n",
        "# plt features importance & save\n",
        "try:\n",
        "  ax = lightgbm.plot_importance(model, max_num_features=40, figsize=(15,15))\n",
        "  plt.savefig(\"./features_importances.png\")\n",
        "  plt.show()\n",
        "except:\n",
        "  pass\n",
        "\n",
        "# plt tree\n",
        "try:\n",
        "  ax = lightgbm.plot_tree(model,tree_index=3)\n",
        "  plt.show()\n",
        "except:\n",
        "  pass\n",
        "\n",
        "# plt tree_digraph\n",
        "try:\n",
        "  graph = lightgbm.create_tree_digraph(model,tree_index=3)\n",
        "  graph.render(view=True)\n",
        "except:\n",
        "  pass"
      ],
      "execution_count": 28,
      "outputs": [
        {
          "output_type": "stream",
          "text": [
            "[1]\ttrain's xentropy: 0.0475563\ttrain's f1: 0.358627\tval_1's xentropy: 0.0481128\tval_1's f1: 0.343465\n",
            "Training until validation scores don't improve for 30 rounds.\n",
            "[2]\ttrain's xentropy: 0.0448577\ttrain's f1: 0.405224\tval_1's xentropy: 0.0452737\tval_1's f1: 0.396334\n",
            "[3]\ttrain's xentropy: 0.0430362\ttrain's f1: 0.425473\tval_1's xentropy: 0.0435808\tval_1's f1: 0.41867\n",
            "[4]\ttrain's xentropy: 0.0415959\ttrain's f1: 0.433852\tval_1's xentropy: 0.0421941\tval_1's f1: 0.425732\n",
            "[5]\ttrain's xentropy: 0.0403518\ttrain's f1: 0.437274\tval_1's xentropy: 0.0410059\tval_1's f1: 0.430066\n",
            "[6]\ttrain's xentropy: 0.0393312\ttrain's f1: 0.43852\tval_1's xentropy: 0.0400297\tval_1's f1: 0.431674\n",
            "[7]\ttrain's xentropy: 0.0384773\ttrain's f1: 0.439205\tval_1's xentropy: 0.0392258\tval_1's f1: 0.432061\n",
            "[8]\ttrain's xentropy: 0.0377146\ttrain's f1: 0.440152\tval_1's xentropy: 0.0384472\tval_1's f1: 0.431987\n",
            "[9]\ttrain's xentropy: 0.0369852\ttrain's f1: 0.443574\tval_1's xentropy: 0.0377496\tval_1's f1: 0.434997\n",
            "[10]\ttrain's xentropy: 0.0363315\ttrain's f1: 0.449712\tval_1's xentropy: 0.0371394\tval_1's f1: 0.441112\n",
            "[11]\ttrain's xentropy: 0.0357681\ttrain's f1: 0.453335\tval_1's xentropy: 0.0366149\tval_1's f1: 0.445953\n",
            "[12]\ttrain's xentropy: 0.0352977\ttrain's f1: 0.455404\tval_1's xentropy: 0.0361682\tval_1's f1: 0.446918\n",
            "[13]\ttrain's xentropy: 0.0349008\ttrain's f1: 0.459183\tval_1's xentropy: 0.0357919\tval_1's f1: 0.450284\n",
            "[14]\ttrain's xentropy: 0.0345514\ttrain's f1: 0.463067\tval_1's xentropy: 0.0354568\tval_1's f1: 0.453095\n",
            "[15]\ttrain's xentropy: 0.0342088\ttrain's f1: 0.474356\tval_1's xentropy: 0.0351427\tval_1's f1: 0.467021\n",
            "[16]\ttrain's xentropy: 0.0338954\ttrain's f1: 0.475241\tval_1's xentropy: 0.0348442\tval_1's f1: 0.465104\n",
            "[17]\ttrain's xentropy: 0.0336387\ttrain's f1: 0.478198\tval_1's xentropy: 0.034607\tval_1's f1: 0.468254\n",
            "[18]\ttrain's xentropy: 0.0333855\ttrain's f1: 0.478976\tval_1's xentropy: 0.0343606\tval_1's f1: 0.468344\n",
            "[19]\ttrain's xentropy: 0.0331653\ttrain's f1: 0.480788\tval_1's xentropy: 0.0341541\tval_1's f1: 0.46928\n",
            "[20]\ttrain's xentropy: 0.0329697\ttrain's f1: 0.481232\tval_1's xentropy: 0.0339745\tval_1's f1: 0.469841\n",
            "[21]\ttrain's xentropy: 0.032739\ttrain's f1: 0.484019\tval_1's xentropy: 0.0337096\tval_1's f1: 0.471922\n",
            "[22]\ttrain's xentropy: 0.0325711\ttrain's f1: 0.484817\tval_1's xentropy: 0.0335631\tval_1's f1: 0.472852\n",
            "[23]\ttrain's xentropy: 0.0324109\ttrain's f1: 0.486171\tval_1's xentropy: 0.0334078\tval_1's f1: 0.475112\n",
            "[24]\ttrain's xentropy: 0.0322781\ttrain's f1: 0.48688\tval_1's xentropy: 0.0332891\tval_1's f1: 0.476441\n",
            "[25]\ttrain's xentropy: 0.0321373\ttrain's f1: 0.489252\tval_1's xentropy: 0.0331301\tval_1's f1: 0.479916\n",
            "[26]\ttrain's xentropy: 0.0320261\ttrain's f1: 0.491271\tval_1's xentropy: 0.0330324\tval_1's f1: 0.482016\n",
            "[27]\ttrain's xentropy: 0.0319164\ttrain's f1: 0.492891\tval_1's xentropy: 0.0329368\tval_1's f1: 0.482143\n",
            "[28]\ttrain's xentropy: 0.031789\ttrain's f1: 0.493702\tval_1's xentropy: 0.032823\tval_1's f1: 0.481744\n",
            "[29]\ttrain's xentropy: 0.0316295\ttrain's f1: 0.494573\tval_1's xentropy: 0.0326758\tval_1's f1: 0.481365\n",
            "[30]\ttrain's xentropy: 0.0315293\ttrain's f1: 0.49679\tval_1's xentropy: 0.0325816\tval_1's f1: 0.483338\n",
            "[31]\ttrain's xentropy: 0.0314175\ttrain's f1: 0.498483\tval_1's xentropy: 0.0324708\tval_1's f1: 0.48426\n",
            "[32]\ttrain's xentropy: 0.0312966\ttrain's f1: 0.499675\tval_1's xentropy: 0.0323627\tval_1's f1: 0.484658\n",
            "[33]\ttrain's xentropy: 0.031207\ttrain's f1: 0.500671\tval_1's xentropy: 0.0323013\tval_1's f1: 0.486911\n",
            "[34]\ttrain's xentropy: 0.0311361\ttrain's f1: 0.501298\tval_1's xentropy: 0.0322506\tval_1's f1: 0.48431\n",
            "[35]\ttrain's xentropy: 0.0310668\ttrain's f1: 0.502724\tval_1's xentropy: 0.0321979\tval_1's f1: 0.485767\n",
            "[36]\ttrain's xentropy: 0.030998\ttrain's f1: 0.504385\tval_1's xentropy: 0.0321301\tval_1's f1: 0.486557\n",
            "[37]\ttrain's xentropy: 0.0309184\ttrain's f1: 0.506564\tval_1's xentropy: 0.0320574\tval_1's f1: 0.488657\n",
            "[38]\ttrain's xentropy: 0.0308626\ttrain's f1: 0.50826\tval_1's xentropy: 0.0319989\tval_1's f1: 0.490762\n",
            "[39]\ttrain's xentropy: 0.0308062\ttrain's f1: 0.509067\tval_1's xentropy: 0.0319597\tval_1's f1: 0.491803\n",
            "[40]\ttrain's xentropy: 0.030724\ttrain's f1: 0.511119\tval_1's xentropy: 0.031907\tval_1's f1: 0.492595\n",
            "[41]\ttrain's xentropy: 0.0306814\ttrain's f1: 0.511201\tval_1's xentropy: 0.0318789\tval_1's f1: 0.494679\n",
            "[42]\ttrain's xentropy: 0.0306162\ttrain's f1: 0.511253\tval_1's xentropy: 0.0318268\tval_1's f1: 0.492859\n",
            "[43]\ttrain's xentropy: 0.0305726\ttrain's f1: 0.512253\tval_1's xentropy: 0.0318035\tval_1's f1: 0.493378\n",
            "[44]\ttrain's xentropy: 0.0304908\ttrain's f1: 0.514677\tval_1's xentropy: 0.0317302\tval_1's f1: 0.494921\n",
            "[45]\ttrain's xentropy: 0.0304558\ttrain's f1: 0.514707\tval_1's xentropy: 0.0317032\tval_1's f1: 0.495962\n",
            "[46]\ttrain's xentropy: 0.03042\ttrain's f1: 0.515005\tval_1's xentropy: 0.0316879\tval_1's f1: 0.496875\n",
            "[47]\ttrain's xentropy: 0.0303939\ttrain's f1: 0.515548\tval_1's xentropy: 0.0316694\tval_1's f1: 0.497787\n",
            "[48]\ttrain's xentropy: 0.0303823\ttrain's f1: 0.516954\tval_1's xentropy: 0.031652\tval_1's f1: 0.498959\n",
            "[49]\ttrain's xentropy: 0.0303211\ttrain's f1: 0.518206\tval_1's xentropy: 0.0316156\tval_1's f1: 0.49948\n",
            "[50]\ttrain's xentropy: 0.0302599\ttrain's f1: 0.518598\tval_1's xentropy: 0.03158\tval_1's f1: 0.50039\n",
            "[51]\ttrain's xentropy: 0.0302153\ttrain's f1: 0.519414\tval_1's xentropy: 0.0315551\tval_1's f1: 0.50091\n",
            "[52]\ttrain's xentropy: 0.0301705\ttrain's f1: 0.520435\tval_1's xentropy: 0.0315309\tval_1's f1: 0.502596\n",
            "[53]\ttrain's xentropy: 0.0301369\ttrain's f1: 0.52209\tval_1's xentropy: 0.0315093\tval_1's f1: 0.5039\n",
            "[54]\ttrain's xentropy: 0.0300936\ttrain's f1: 0.524459\tval_1's xentropy: 0.0314756\tval_1's f1: 0.505837\n",
            "[55]\ttrain's xentropy: 0.0300638\ttrain's f1: 0.525006\tval_1's xentropy: 0.0314599\tval_1's f1: 0.506093\n",
            "[56]\ttrain's xentropy: 0.0300076\ttrain's f1: 0.524744\tval_1's xentropy: 0.0314342\tval_1's f1: 0.505586\n",
            "[57]\ttrain's xentropy: 0.0299317\ttrain's f1: 0.525755\tval_1's xentropy: 0.0313846\tval_1's f1: 0.507788\n",
            "[58]\ttrain's xentropy: 0.0298445\ttrain's f1: 0.526592\tval_1's xentropy: 0.0313103\tval_1's f1: 0.508439\n",
            "[59]\ttrain's xentropy: 0.0297929\ttrain's f1: 0.528738\tval_1's xentropy: 0.0312762\tval_1's f1: 0.508307\n",
            "[60]\ttrain's xentropy: 0.0297447\ttrain's f1: 0.530006\tval_1's xentropy: 0.0312439\tval_1's f1: 0.508439\n",
            "[61]\ttrain's xentropy: 0.0296844\ttrain's f1: 0.53117\tval_1's xentropy: 0.0312087\tval_1's f1: 0.508175\n",
            "[62]\ttrain's xentropy: 0.0296272\ttrain's f1: 0.53117\tval_1's xentropy: 0.0311596\tval_1's f1: 0.507788\n",
            "[63]\ttrain's xentropy: 0.0295664\ttrain's f1: 0.533064\tval_1's xentropy: 0.0311232\tval_1's f1: 0.508044\n",
            "[64]\ttrain's xentropy: 0.029545\ttrain's f1: 0.533219\tval_1's xentropy: 0.0311049\tval_1's f1: 0.507656\n",
            "[65]\ttrain's xentropy: 0.0295105\ttrain's f1: 0.533923\tval_1's xentropy: 0.0310666\tval_1's f1: 0.507788\n",
            "[66]\ttrain's xentropy: 0.0294739\ttrain's f1: 0.534243\tval_1's xentropy: 0.0310428\tval_1's f1: 0.507788\n",
            "[67]\ttrain's xentropy: 0.0294171\ttrain's f1: 0.5365\tval_1's xentropy: 0.0309979\tval_1's f1: 0.510627\n",
            "[68]\ttrain's xentropy: 0.0293706\ttrain's f1: 0.537321\tval_1's xentropy: 0.0309723\tval_1's f1: 0.511531\n",
            "[69]\ttrain's xentropy: 0.0293341\ttrain's f1: 0.539136\tval_1's xentropy: 0.0309415\tval_1's f1: 0.513325\n",
            "[70]\ttrain's xentropy: 0.029286\ttrain's f1: 0.539943\tval_1's xentropy: 0.0309222\tval_1's f1: 0.513325\n",
            "[71]\ttrain's xentropy: 0.0295415\ttrain's f1: 0.539642\tval_1's xentropy: 0.0311964\tval_1's f1: 0.512397\n",
            "[72]\ttrain's xentropy: 0.0293032\ttrain's f1: 0.541636\tval_1's xentropy: 0.0310086\tval_1's f1: 0.513709\n",
            "[73]\ttrain's xentropy: 0.0292544\ttrain's f1: 0.542458\tval_1's xentropy: 0.030975\tval_1's f1: 0.516279\n",
            "[74]\ttrain's xentropy: 0.0292394\ttrain's f1: 0.542685\tval_1's xentropy: 0.030961\tval_1's f1: 0.516529\n",
            "[75]\ttrain's xentropy: 0.0291637\ttrain's f1: 0.543292\tval_1's xentropy: 0.0309329\tval_1's f1: 0.516895\n",
            "[76]\ttrain's xentropy: 0.0291124\ttrain's f1: 0.543759\tval_1's xentropy: 0.0309068\tval_1's f1: 0.517793\n",
            "[77]\ttrain's xentropy: 0.0290607\ttrain's f1: 0.543845\tval_1's xentropy: 0.0308702\tval_1's f1: 0.517793\n",
            "[78]\ttrain's xentropy: 0.0290426\ttrain's f1: 0.544126\tval_1's xentropy: 0.0308591\tval_1's f1: 0.519053\n",
            "[79]\ttrain's xentropy: 0.0289921\ttrain's f1: 0.545936\tval_1's xentropy: 0.0308331\tval_1's f1: 0.519815\n",
            "[80]\ttrain's xentropy: 0.0289466\ttrain's f1: 0.546185\tval_1's xentropy: 0.030797\tval_1's f1: 0.519815\n",
            "[81]\ttrain's xentropy: 0.0289077\ttrain's f1: 0.547364\tval_1's xentropy: 0.0307738\tval_1's f1: 0.521203\n",
            "[82]\ttrain's xentropy: 0.0288785\ttrain's f1: 0.548494\tval_1's xentropy: 0.030757\tval_1's f1: 0.522476\n",
            "[83]\ttrain's xentropy: 0.0288161\ttrain's f1: 0.549501\tval_1's xentropy: 0.0307078\tval_1's f1: 0.523614\n",
            "[84]\ttrain's xentropy: 0.0288041\ttrain's f1: 0.549648\tval_1's xentropy: 0.0307057\tval_1's f1: 0.523614\n",
            "[85]\ttrain's xentropy: 0.028747\ttrain's f1: 0.550592\tval_1's xentropy: 0.0306578\tval_1's f1: 0.523101\n",
            "[86]\ttrain's xentropy: 0.0287199\ttrain's f1: 0.550986\tval_1's xentropy: 0.0306359\tval_1's f1: 0.522966\n",
            "[87]\ttrain's xentropy: 0.0287038\ttrain's f1: 0.552044\tval_1's xentropy: 0.0306203\tval_1's f1: 0.525237\n",
            "[88]\ttrain's xentropy: 0.0286566\ttrain's f1: 0.553163\tval_1's xentropy: 0.0305886\tval_1's f1: 0.525723\n",
            "[89]\ttrain's xentropy: 0.0286209\ttrain's f1: 0.553919\tval_1's xentropy: 0.0305614\tval_1's f1: 0.526477\n",
            "[90]\ttrain's xentropy: 0.0285883\ttrain's f1: 0.554491\tval_1's xentropy: 0.0305422\tval_1's f1: 0.526747\n",
            "[91]\ttrain's xentropy: 0.0285653\ttrain's f1: 0.554794\tval_1's xentropy: 0.0305268\tval_1's f1: 0.526747\n",
            "[92]\ttrain's xentropy: 0.0285391\ttrain's f1: 0.555749\tval_1's xentropy: 0.0305093\tval_1's f1: 0.526989\n",
            "[93]\ttrain's xentropy: 0.0284916\ttrain's f1: 0.556861\tval_1's xentropy: 0.030475\tval_1's f1: 0.526882\n",
            "[94]\ttrain's xentropy: 0.0284111\ttrain's f1: 0.557484\tval_1's xentropy: 0.0303992\tval_1's f1: 0.5261\n",
            "[95]\ttrain's xentropy: 0.0283729\ttrain's f1: 0.559476\tval_1's xentropy: 0.0303792\tval_1's f1: 0.527124\n",
            "[96]\ttrain's xentropy: 0.0283609\ttrain's f1: 0.560075\tval_1's xentropy: 0.0303694\tval_1's f1: 0.527501\n",
            "[97]\ttrain's xentropy: 0.0283253\ttrain's f1: 0.560439\tval_1's xentropy: 0.0303431\tval_1's f1: 0.527607\n",
            "[98]\ttrain's xentropy: 0.0282916\ttrain's f1: 0.561551\tval_1's xentropy: 0.0303233\tval_1's f1: 0.529141\n",
            "[99]\ttrain's xentropy: 0.0282727\ttrain's f1: 0.561708\tval_1's xentropy: 0.0303149\tval_1's f1: 0.529517\n",
            "[100]\ttrain's xentropy: 0.0282291\ttrain's f1: 0.562821\tval_1's xentropy: 0.0302797\tval_1's f1: 0.530299\n",
            "Did not meet early stopping. Best iteration is:\n",
            "[100]\ttrain's xentropy: 0.0282291\ttrain's f1: 0.562821\tval_1's xentropy: 0.0302797\tval_1's f1: 0.530299\n"
          ],
          "name": "stdout"
        },
        {
          "output_type": "display_data",
          "data": {
            "image/png": "[encoded data removed]",
            "text/plain": [
              "<Figure size 432x288 with 1 Axes>"
            ]
          },
          "metadata": {
            "tags": []
          }
        },
        {
          "output_type": "display_data",
          "data": {
            "image/png": "[encoded data removed]",
            "text/plain": [
              "<Figure size 1080x1080 with 1 Axes>"
            ]
          },
          "metadata": {
            "tags": []
          }
        },
        {
          "output_type": "stream",
          "text": [
            "dot: graph is too large for cairo-renderer bitmaps. Scaling by 0.616002 to fit\n"
          ],
          "name": "stderr"
        },
        {
          "output_type": "display_data",
          "data": {
            "image/png": "[encoded data removed]",
            "text/plain": [
              "<Figure size 432x288 with 1 Axes>"
            ]
          },
          "metadata": {
            "tags": []
          }
        }
      ]
    },
    {
      "cell_type": "markdown",
      "metadata": {
        "id": "3baniELruhYe",
        "colab_type": "text"
      },
      "source": [
        "# val_2's F1 report"
      ]
    },
    {
      "cell_type": "code",
      "metadata": {
        "id": "glestRnmts7s",
        "colab_type": "code",
        "outputId": "a3e62e0a-ea8e-4c99-d9cb-9ee9380c5d7a",
        "colab": {
          "base_uri": "https://localhost:8080/",
          "height": 177
        }
      },
      "source": [
        "from sklearn.metrics import classification_report \n",
        "\n",
        "val_2_pred_01 = pd.Series(model.predict(val_2[features])).apply(round)\n",
        "\n",
        "print(classification_report(val_2[y_name],val_2_pred_01,target_names=['0','1']))"
      ],
      "execution_count": 31,
      "outputs": [
        {
          "output_type": "stream",
          "text": [
            "              precision    recall  f1-score   support\n",
            "\n",
            "           0       0.99      1.00      1.00    187682\n",
            "           1       0.77      0.40      0.53      2542\n",
            "\n",
            "    accuracy                           0.99    190224\n",
            "   macro avg       0.88      0.70      0.76    190224\n",
            "weighted avg       0.99      0.99      0.99    190224\n",
            "\n"
          ],
          "name": "stdout"
        }
      ]
    },
    {
      "cell_type": "markdown",
      "metadata": {
        "id": "cPo-0zQAyCiY",
        "colab_type": "text"
      },
      "source": [
        "# 產生submission"
      ]
    },
    {
      "cell_type": "code",
      "metadata": {
        "id": "azyeBD0e30E6",
        "colab_type": "code",
        "outputId": "d0e290f9-866a-45cf-fbf2-f437ff3c209b",
        "colab": {
          "base_uri": "https://localhost:8080/",
          "height": 253
        }
      },
      "source": [
        "submission = pd.DataFrame({\"txkey\":test_txkey,\n",
        "                           \"fraud_ind\":model.predict(test[features])})\n",
        "\n",
        "# to [0,1] \n",
        "submission[\"fraud_ind\"] = submission[\"fraud_ind\"].apply(round)\n",
        "\n",
        "# value_counts\n",
        "print(submission[\"fraud_ind\"].value_counts())\n",
        "submission.head()"
      ],
      "execution_count": 32,
      "outputs": [
        {
          "output_type": "stream",
          "text": [
            "0    418214\n",
            "1      3451\n",
            "Name: fraud_ind, dtype: int64\n"
          ],
          "name": "stdout"
        },
        {
          "output_type": "execute_result",
          "data": {
            "text/html": [
              "<div>\n",
              "<style scoped>\n",
              "    .dataframe tbody tr th:only-of-type {\n",
              "        vertical-align: middle;\n",
              "    }\n",
              "\n",
              "    .dataframe tbody tr th {\n",
              "        vertical-align: top;\n",
              "    }\n",
              "\n",
              "    .dataframe thead th {\n",
              "        text-align: right;\n",
              "    }\n",
              "</style>\n",
              "<table border=\"1\" class=\"dataframe\">\n",
              "  <thead>\n",
              "    <tr style=\"text-align: right;\">\n",
              "      <th></th>\n",
              "      <th>txkey</th>\n",
              "      <th>fraud_ind</th>\n",
              "    </tr>\n",
              "  </thead>\n",
              "  <tbody>\n",
              "    <tr>\n",
              "      <th>1521787</th>\n",
              "      <td>592489</td>\n",
              "      <td>0</td>\n",
              "    </tr>\n",
              "    <tr>\n",
              "      <th>1521788</th>\n",
              "      <td>592452</td>\n",
              "      <td>0</td>\n",
              "    </tr>\n",
              "    <tr>\n",
              "      <th>1521789</th>\n",
              "      <td>590212</td>\n",
              "      <td>0</td>\n",
              "    </tr>\n",
              "    <tr>\n",
              "      <th>1521790</th>\n",
              "      <td>590209</td>\n",
              "      <td>0</td>\n",
              "    </tr>\n",
              "    <tr>\n",
              "      <th>1521791</th>\n",
              "      <td>592488</td>\n",
              "      <td>0</td>\n",
              "    </tr>\n",
              "  </tbody>\n",
              "</table>\n",
              "</div>"
            ],
            "text/plain": [
              "          txkey  fraud_ind\n",
              "1521787  592489          0\n",
              "1521788  592452          0\n",
              "1521789  590212          0\n",
              "1521790  590209          0\n",
              "1521791  592488          0"
            ]
          },
          "metadata": {
            "tags": []
          },
          "execution_count": 32
        }
      ]
    },
    {
      "cell_type": "markdown",
      "metadata": {
        "id": "5yy-4SmJzEQj",
        "colab_type": "text"
      },
      "source": [
        "# 這裡有個想法如果test上盜刷的比例 跟train上面盜刷的比例 愈相近愈好"
      ]
    },
    {
      "cell_type": "code",
      "metadata": {
        "id": "0ty1t9yGy1DI",
        "colab_type": "code",
        "colab": {
          "base_uri": "https://localhost:8080/",
          "height": 78
        },
        "outputId": "52e1d740-ab8a-4472-a6f4-5674869c18bf"
      },
      "source": [
        "train_p = round((train['fraud_ind'].value_counts()[1] / #盜刷樣本數\n",
        "                len(train['fraud_ind']))*100 ,5) #總數\n",
        "\n",
        "val_1_p = round((val_1['fraud_ind'].value_counts()[1] / #盜刷樣本數\n",
        "                len(val_1['fraud_ind']))*100 ,5) #總數\n",
        "\n",
        "val_2_p = round((val_2['fraud_ind'].value_counts()[1] / #盜刷樣本數\n",
        "                len(val_2['fraud_ind']))*100 ,5) #總數\n",
        "\n",
        "test_p = round((submission['fraud_ind'].value_counts()[1] / #盜刷樣本數\n",
        "                len(submission['fraud_ind']))*100 ,5) #總數\n",
        "pd.DataFrame({'train_p':train_p,\n",
        "              'val_1_p':val_1_p,\n",
        "              'val_2_p':val_2_p,\n",
        "              'test_p':test_p},\n",
        "               index=['盜刷比例%'])"
      ],
      "execution_count": 61,
      "outputs": [
        {
          "output_type": "execute_result",
          "data": {
            "text/html": [
              "<div>\n",
              "<style scoped>\n",
              "    .dataframe tbody tr th:only-of-type {\n",
              "        vertical-align: middle;\n",
              "    }\n",
              "\n",
              "    .dataframe tbody tr th {\n",
              "        vertical-align: top;\n",
              "    }\n",
              "\n",
              "    .dataframe thead th {\n",
              "        text-align: right;\n",
              "    }\n",
              "</style>\n",
              "<table border=\"1\" class=\"dataframe\">\n",
              "  <thead>\n",
              "    <tr style=\"text-align: right;\">\n",
              "      <th></th>\n",
              "      <th>train_p</th>\n",
              "      <th>val_1_p</th>\n",
              "      <th>val_2_p</th>\n",
              "      <th>test_p</th>\n",
              "    </tr>\n",
              "  </thead>\n",
              "  <tbody>\n",
              "    <tr>\n",
              "      <th>盜刷比例%</th>\n",
              "      <td>1.33816</td>\n",
              "      <td>1.33527</td>\n",
              "      <td>1.33632</td>\n",
              "      <td>0.81842</td>\n",
              "    </tr>\n",
              "  </tbody>\n",
              "</table>\n",
              "</div>"
            ],
            "text/plain": [
              "       train_p  val_1_p  val_2_p   test_p\n",
              "盜刷比例%  1.33816  1.33527  1.33632  0.81842"
            ]
          },
          "metadata": {
            "tags": []
          },
          "execution_count": 61
        }
      ]
    },
    {
      "cell_type": "markdown",
      "metadata": {
        "id": "Bd74iRwUgW6p",
        "colab_type": "text"
      },
      "source": [
        "# 保存預測結果"
      ]
    },
    {
      "cell_type": "code",
      "metadata": {
        "id": "XvfSAvYOyaGK",
        "colab_type": "code",
        "colab": {}
      },
      "source": [
        "submission.to_csv(\"./submission_30.csv\")"
      ],
      "execution_count": 0,
      "outputs": []
    },
    {
      "cell_type": "code",
      "metadata": {
        "id": "0YQYwZp7P3FN",
        "colab_type": "code",
        "outputId": "4c4b428c-49d4-44d3-9ce2-b70ae6755e14",
        "colab": {
          "base_uri": "https://localhost:8080/",
          "height": 70
        }
      },
      "source": [
        "print(submission[\"fraud_ind\"].value_counts())"
      ],
      "execution_count": 63,
      "outputs": [
        {
          "output_type": "stream",
          "text": [
            "0    418214\n",
            "1      3451\n",
            "Name: fraud_ind, dtype: int64\n"
          ],
          "name": "stdout"
        }
      ]
    },
    {
      "cell_type": "code",
      "metadata": {
        "id": "4gSgbNh2bXva",
        "colab_type": "code",
        "colab": {}
      },
      "source": [
        ""
      ],
      "execution_count": 0,
      "outputs": []
    }
  ]
}